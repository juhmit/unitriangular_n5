{
 "cells": [
  {
   "cell_type": "code",
   "execution_count": 1,
   "metadata": {
    "scrolled": true
   },
   "outputs": [
    {
     "data": {
      "text/html": [
       "<html><script type=\"math/tex; mode=display\">\\newcommand{\\Bold}[1]{\\mathbf{#1}}\\left(\\begin{array}{rrrrr}\n",
       "0 & 0 & 0 & 0 & 0 \\\\\n",
       "0 & 0 & 0 & 0 & 0 \\\\\n",
       "0 & 0 & 0 & 0 & 0 \\\\\n",
       "0 & 0 & 0 & 0 & 0 \\\\\n",
       "0 & 0 & 0 & 0 & 0\n",
       "\\end{array}\\right)</script></html>"
      ],
      "text/latex": [
       "$$\\newcommand{\\Bold}[1]{\\mathbf{#1}}\\left(\\begin{array}{rrrrr}\n",
       "0 & 0 & 0 & 0 & 0 \\\\\n",
       "0 & 0 & 0 & 0 & 0 \\\\\n",
       "0 & 0 & 0 & 0 & 0 \\\\\n",
       "0 & 0 & 0 & 0 & 0 \\\\\n",
       "0 & 0 & 0 & 0 & 0\n",
       "\\end{array}\\right)$$"
      ],
      "text/plain": [
       "[0 0 0 0 0]\n",
       "[0 0 0 0 0]\n",
       "[0 0 0 0 0]\n",
       "[0 0 0 0 0]\n",
       "[0 0 0 0 0]"
      ]
     },
     "metadata": {},
     "output_type": "display_data"
    },
    {
     "data": {
      "text/html": [
       "<html><script type=\"math/tex; mode=display\">\\newcommand{\\Bold}[1]{\\mathbf{#1}}\\left[\\left\\{d_{1} : r_{15}, d_{2} : r_{14}, d_{3} : r_{13}, d_{4} : r_{12}, d_{5} : r_{11}, a_{12} : r_{10}, a_{13} : r_{9}, a_{14} : r_{8}, a_{15} : r_{7}, a_{23} : r_{6}, a_{24} : r_{5}, a_{25} : r_{4}, a_{34} : r_{3}, a_{35} : r_{2}, a_{45} : r_{1}\\right\\}\\right]</script></html>"
      ],
      "text/latex": [
       "$$\\newcommand{\\Bold}[1]{\\mathbf{#1}}\\left[\\left\\{d_{1} : r_{15}, d_{2} : r_{14}, d_{3} : r_{13}, d_{4} : r_{12}, d_{5} : r_{11}, a_{12} : r_{10}, a_{13} : r_{9}, a_{14} : r_{8}, a_{15} : r_{7}, a_{23} : r_{6}, a_{24} : r_{5}, a_{25} : r_{4}, a_{34} : r_{3}, a_{35} : r_{2}, a_{45} : r_{1}\\right\\}\\right]$$"
      ],
      "text/plain": [
       "[{d1: r15,\n",
       "  d2: r14,\n",
       "  d3: r13,\n",
       "  d4: r12,\n",
       "  d5: r11,\n",
       "  a12: r10,\n",
       "  a13: r9,\n",
       "  a14: r8,\n",
       "  a15: r7,\n",
       "  a23: r6,\n",
       "  a24: r5,\n",
       "  a25: r4,\n",
       "  a34: r3,\n",
       "  a35: r2,\n",
       "  a45: r1}]"
      ]
     },
     "metadata": {},
     "output_type": "display_data"
    },
    {
     "data": {
      "text/plain": [
       "\\left[\\left\\{d_{1} : r_{15}, d_{2} : r_{14}, d_{3} : r_{13}, d_{4} : r_{12}, d_{5} : r_{11}, a_{12} : r_{10}, a_{13} : r_{9}, a_{14} : r_{8}, a_{15} : r_{7}, a_{23} : r_{6}, a_{24} : r_{5}, a_{25} : r_{4}, a_{34} : r_{3}, a_{35} : r_{2}, a_{45} : r_{1}\\right\\}\\right]"
      ]
     },
     "execution_count": 1,
     "metadata": {},
     "output_type": "execute_result"
    }
   ],
   "source": [
    "#x1\n",
    "reset()\n",
    "\n",
    "var('x12,x13,x14,x15,x23,x24,x25,x34,x35,x45')\n",
    "var('d1,d2,d3,d4,d5')\n",
    "var('a12,a13,a14,a15,a23,a24,a25,a34,a35,a45')\n",
    "\n",
    "load_attach_path('C:\\\\Users\\\\julia\\\\Documents\\\\unb\\\\doutorado\\\\pensar\\\\codigo_sage_v2\\\\maquina\\\\x1')\n",
    "load('out_#000000.sage')\n",
    "\n",
    "m=matrix(QQ, [[0, 0, 0, 0, 0],\n",
    "              [0, 0, 0, 0, 0],\n",
    "              [0, 0, 0, 0, 0],\n",
    "              [0, 0, 0, 0, 0],\n",
    "              [0, 0, 0, 0, 0]])\n",
    "        \n",
    "#entry of matrix: (i,j) line i collum j, means (i-1,j-1)\n",
    "sol=solve([ \teq1==m[0,2],\teq2==m[0,3],\teq3==m[0,4],\t\n",
    "                                            eq4==m[1,3],    eq5==m[1,4],\n",
    "                                                            eq6==m[2,4]],d1,d2,d3,d4,d5,a12,a13,a14,a15,a23,a24,a25,a34,a35,a45, solution_dict=True)\n",
    "\n",
    "show(m)\n",
    "show(sol)\n",
    "latex(sol)"
   ]
  },
  {
   "cell_type": "code",
   "execution_count": 2,
   "metadata": {},
   "outputs": [
    {
     "data": {
      "text/html": [
       "<html><script type=\"math/tex; mode=display\">\\newcommand{\\Bold}[1]{\\mathbf{#1}}\\left(\\begin{array}{rrrrr}\n",
       "0 & 0 & 0 & 0 & 1 \\\\\n",
       "0 & 0 & 0 & 0 & 0 \\\\\n",
       "0 & 0 & 0 & 0 & 0 \\\\\n",
       "0 & 0 & 0 & 0 & 0 \\\\\n",
       "0 & 0 & 0 & 0 & 0\n",
       "\\end{array}\\right)</script></html>"
      ],
      "text/latex": [
       "$$\\newcommand{\\Bold}[1]{\\mathbf{#1}}\\left(\\begin{array}{rrrrr}\n",
       "0 & 0 & 0 & 0 & 1 \\\\\n",
       "0 & 0 & 0 & 0 & 0 \\\\\n",
       "0 & 0 & 0 & 0 & 0 \\\\\n",
       "0 & 0 & 0 & 0 & 0 \\\\\n",
       "0 & 0 & 0 & 0 & 0\n",
       "\\end{array}\\right)$$"
      ],
      "text/plain": [
       "[0 0 0 0 1]\n",
       "[0 0 0 0 0]\n",
       "[0 0 0 0 0]\n",
       "[0 0 0 0 0]\n",
       "[0 0 0 0 0]"
      ]
     },
     "metadata": {},
     "output_type": "display_data"
    },
    {
     "data": {
      "text/html": [
       "<html><script type=\"math/tex; mode=display\">\\newcommand{\\Bold}[1]{\\mathbf{#1}}\\left[\\left\\{d_{1} : r_{26} x_{15}, d_{2} : r_{29}, d_{3} : r_{28}, d_{4} : r_{27}, d_{5} : r_{26}, a_{12} : r_{25}, a_{13} : r_{24}, a_{14} : r_{23}, a_{15} : r_{22}, a_{23} : r_{21}, a_{24} : r_{20}, a_{25} : r_{19}, a_{34} : r_{18}, a_{35} : r_{17}, a_{45} : r_{16}\\right\\}\\right]</script></html>"
      ],
      "text/latex": [
       "$$\\newcommand{\\Bold}[1]{\\mathbf{#1}}\\left[\\left\\{d_{1} : r_{26} x_{15}, d_{2} : r_{29}, d_{3} : r_{28}, d_{4} : r_{27}, d_{5} : r_{26}, a_{12} : r_{25}, a_{13} : r_{24}, a_{14} : r_{23}, a_{15} : r_{22}, a_{23} : r_{21}, a_{24} : r_{20}, a_{25} : r_{19}, a_{34} : r_{18}, a_{35} : r_{17}, a_{45} : r_{16}\\right\\}\\right]$$"
      ],
      "text/plain": [
       "[{d1: r26*x15,\n",
       "  d2: r29,\n",
       "  d3: r28,\n",
       "  d4: r27,\n",
       "  d5: r26,\n",
       "  a12: r25,\n",
       "  a13: r24,\n",
       "  a14: r23,\n",
       "  a15: r22,\n",
       "  a23: r21,\n",
       "  a24: r20,\n",
       "  a25: r19,\n",
       "  a34: r18,\n",
       "  a35: r17,\n",
       "  a45: r16}]"
      ]
     },
     "metadata": {},
     "output_type": "display_data"
    },
    {
     "data": {
      "text/plain": [
       "\\left[\\left\\{d_{1} : r_{26} x_{15}, d_{2} : r_{29}, d_{3} : r_{28}, d_{4} : r_{27}, d_{5} : r_{26}, a_{12} : r_{25}, a_{13} : r_{24}, a_{14} : r_{23}, a_{15} : r_{22}, a_{23} : r_{21}, a_{24} : r_{20}, a_{25} : r_{19}, a_{34} : r_{18}, a_{35} : r_{17}, a_{45} : r_{16}\\right\\}\\right]"
      ]
     },
     "execution_count": 2,
     "metadata": {},
     "output_type": "execute_result"
    }
   ],
   "source": [
    "#x1\n",
    "reset()\n",
    "\n",
    "var('x12,x13,x14,x15,x23,x24,x25,x34,x35,x45')\n",
    "var('d1,d2,d3,d4,d5')\n",
    "var('a12,a13,a14,a15,a23,a24,a25,a34,a35,a45')\n",
    "\n",
    "load_attach_path('C:\\\\Users\\\\julia\\\\Documents\\\\unb\\\\doutorado\\\\pensar\\\\codigo_sage_v2\\\\maquina\\\\x1')\n",
    "load('out_#000001.sage')\n",
    "\n",
    "m=matrix(QQ, [[0, 0, 0, 0, 1],\n",
    "              [0, 0, 0, 0, 0],\n",
    "              [0, 0, 0, 0, 0],\n",
    "              [0, 0, 0, 0, 0],\n",
    "              [0, 0, 0, 0, 0]])\n",
    "        \n",
    "#entry of matrix: (i,j) line i collum j, means (i-1,j-1)\n",
    "sol=solve([ \teq1==m[0,2],\teq2==m[0,3],\teq3==m[0,4],\t\n",
    "                                            eq4==m[1,3],    eq5==m[1,4],\n",
    "                                                            eq6==m[2,4]],d1,d2,d3,d4,d5,a12,a13,a14,a15,a23,a24,a25,a34,a35,a45, solution_dict=True)\n",
    "\n",
    "show(m)\n",
    "show(sol)\n",
    "latex(sol)"
   ]
  },
  {
   "cell_type": "code",
   "execution_count": 3,
   "metadata": {},
   "outputs": [
    {
     "data": {
      "text/html": [
       "<html><script type=\"math/tex; mode=display\">\\newcommand{\\Bold}[1]{\\mathbf{#1}}\\left(\\begin{array}{rrrrr}\n",
       "0 & 0 & 0 & 1 & 0 \\\\\n",
       "0 & 0 & 0 & 0 & 0 \\\\\n",
       "0 & 0 & 0 & 0 & 0 \\\\\n",
       "0 & 0 & 0 & 0 & 0 \\\\\n",
       "0 & 0 & 0 & 0 & 0\n",
       "\\end{array}\\right)</script></html>"
      ],
      "text/latex": [
       "$$\\newcommand{\\Bold}[1]{\\mathbf{#1}}\\left(\\begin{array}{rrrrr}\n",
       "0 & 0 & 0 & 1 & 0 \\\\\n",
       "0 & 0 & 0 & 0 & 0 \\\\\n",
       "0 & 0 & 0 & 0 & 0 \\\\\n",
       "0 & 0 & 0 & 0 & 0 \\\\\n",
       "0 & 0 & 0 & 0 & 0\n",
       "\\end{array}\\right)$$"
      ],
      "text/plain": [
       "[0 0 0 1 0]\n",
       "[0 0 0 0 0]\n",
       "[0 0 0 0 0]\n",
       "[0 0 0 0 0]\n",
       "[0 0 0 0 0]"
      ]
     },
     "metadata": {},
     "output_type": "display_data"
    },
    {
     "data": {
      "text/html": [
       "<html><script type=\"math/tex; mode=display\">\\newcommand{\\Bold}[1]{\\mathbf{#1}}\\left[\\left\\{d_{1} : r_{30}, d_{2} : r_{41}, d_{3} : r_{42}, d_{4} : \\frac{r_{30}}{x_{14}}, d_{5} : r_{40}, a_{12} : r_{39}, a_{13} : r_{38}, a_{14} : r_{37}, a_{15} : r_{36}, a_{23} : r_{35}, a_{24} : r_{34}, a_{25} : r_{33}, a_{34} : r_{32}, a_{35} : r_{31}, a_{45} : 0\\right\\}\\right]</script></html>"
      ],
      "text/latex": [
       "$$\\newcommand{\\Bold}[1]{\\mathbf{#1}}\\left[\\left\\{d_{1} : r_{30}, d_{2} : r_{41}, d_{3} : r_{42}, d_{4} : \\frac{r_{30}}{x_{14}}, d_{5} : r_{40}, a_{12} : r_{39}, a_{13} : r_{38}, a_{14} : r_{37}, a_{15} : r_{36}, a_{23} : r_{35}, a_{24} : r_{34}, a_{25} : r_{33}, a_{34} : r_{32}, a_{35} : r_{31}, a_{45} : 0\\right\\}\\right]$$"
      ],
      "text/plain": [
       "[{d1: r30,\n",
       "  d2: r41,\n",
       "  d3: r42,\n",
       "  d4: r30/x14,\n",
       "  d5: r40,\n",
       "  a12: r39,\n",
       "  a13: r38,\n",
       "  a14: r37,\n",
       "  a15: r36,\n",
       "  a23: r35,\n",
       "  a24: r34,\n",
       "  a25: r33,\n",
       "  a34: r32,\n",
       "  a35: r31,\n",
       "  a45: 0}]"
      ]
     },
     "metadata": {},
     "output_type": "display_data"
    },
    {
     "data": {
      "text/plain": [
       "\\left[\\left\\{d_{1} : r_{30}, d_{2} : r_{41}, d_{3} : r_{42}, d_{4} : \\frac{r_{30}}{x_{14}}, d_{5} : r_{40}, a_{12} : r_{39}, a_{13} : r_{38}, a_{14} : r_{37}, a_{15} : r_{36}, a_{23} : r_{35}, a_{24} : r_{34}, a_{25} : r_{33}, a_{34} : r_{32}, a_{35} : r_{31}, a_{45} : 0\\right\\}\\right]"
      ]
     },
     "execution_count": 3,
     "metadata": {},
     "output_type": "execute_result"
    }
   ],
   "source": [
    "#x1\n",
    "reset()\n",
    "\n",
    "var('x12,x13,x14,x15,x23,x24,x25,x34,x35,x45')\n",
    "var('d1,d2,d3,d4,d5')\n",
    "var('a12,a13,a14,a15,a23,a24,a25,a34,a35,a45')\n",
    "\n",
    "load_attach_path('C:\\\\Users\\\\julia\\\\Documents\\\\unb\\\\doutorado\\\\pensar\\\\codigo_sage_v2\\\\maquina\\\\x1')\n",
    "load('out_#000010.sage')\n",
    "\n",
    "m=matrix(QQ, [[0, 0, 0, 1, 0],\n",
    "              [0, 0, 0, 0, 0],\n",
    "              [0, 0, 0, 0, 0],\n",
    "              [0, 0, 0, 0, 0],\n",
    "              [0, 0, 0, 0, 0]])\n",
    "        \n",
    "#entry of matrix: (i,j) line i collum j, means (i-1,j-1)\n",
    "sol=solve([ \teq1==m[0,2],\teq2==m[0,3],\teq3==m[0,4],\t\n",
    "                                            eq4==m[1,3],    eq5==m[1,4],\n",
    "                                                            eq6==m[2,4]],d1,d2,d3,d4,d5,a12,a13,a14,a15,a23,a24,a25,a34,a35,a45, solution_dict=True)\n",
    "\n",
    "show(m)\n",
    "show(sol)\n",
    "latex(sol)"
   ]
  },
  {
   "cell_type": "code",
   "execution_count": 4,
   "metadata": {},
   "outputs": [
    {
     "data": {
      "text/html": [
       "<html><script type=\"math/tex; mode=display\">\\newcommand{\\Bold}[1]{\\mathbf{#1}}\\left(\\begin{array}{rrrrr}\n",
       "0 & 0 & 0 & 1 & 0 \\\\\n",
       "0 & 0 & 0 & 0 & 0 \\\\\n",
       "0 & 0 & 0 & 0 & 0 \\\\\n",
       "0 & 0 & 0 & 0 & 0 \\\\\n",
       "0 & 0 & 0 & 0 & 0\n",
       "\\end{array}\\right)</script></html>"
      ],
      "text/latex": [
       "$$\\newcommand{\\Bold}[1]{\\mathbf{#1}}\\left(\\begin{array}{rrrrr}\n",
       "0 & 0 & 0 & 1 & 0 \\\\\n",
       "0 & 0 & 0 & 0 & 0 \\\\\n",
       "0 & 0 & 0 & 0 & 0 \\\\\n",
       "0 & 0 & 0 & 0 & 0 \\\\\n",
       "0 & 0 & 0 & 0 & 0\n",
       "\\end{array}\\right)$$"
      ],
      "text/plain": [
       "[0 0 0 1 0]\n",
       "[0 0 0 0 0]\n",
       "[0 0 0 0 0]\n",
       "[0 0 0 0 0]\n",
       "[0 0 0 0 0]"
      ]
     },
     "metadata": {},
     "output_type": "display_data"
    },
    {
     "data": {
      "text/html": [
       "<html><script type=\"math/tex; mode=display\">\\newcommand{\\Bold}[1]{\\mathbf{#1}}\\left[\\left\\{d_{1} : r_{54} x_{14}, d_{2} : r_{53}, d_{3} : r_{55}, d_{4} : r_{54}, d_{5} : -\\frac{r_{43} x_{14}}{x_{15}}, a_{12} : r_{52}, a_{13} : r_{51}, a_{14} : r_{50}, a_{15} : r_{49}, a_{23} : r_{48}, a_{24} : r_{47}, a_{25} : r_{46}, a_{34} : r_{45}, a_{35} : r_{44}, a_{45} : r_{43}\\right\\}\\right]</script></html>"
      ],
      "text/latex": [
       "$$\\newcommand{\\Bold}[1]{\\mathbf{#1}}\\left[\\left\\{d_{1} : r_{54} x_{14}, d_{2} : r_{53}, d_{3} : r_{55}, d_{4} : r_{54}, d_{5} : -\\frac{r_{43} x_{14}}{x_{15}}, a_{12} : r_{52}, a_{13} : r_{51}, a_{14} : r_{50}, a_{15} : r_{49}, a_{23} : r_{48}, a_{24} : r_{47}, a_{25} : r_{46}, a_{34} : r_{45}, a_{35} : r_{44}, a_{45} : r_{43}\\right\\}\\right]$$"
      ],
      "text/plain": [
       "[{d1: r54*x14,\n",
       "  d2: r53,\n",
       "  d3: r55,\n",
       "  d4: r54,\n",
       "  d5: -r43*x14/x15,\n",
       "  a12: r52,\n",
       "  a13: r51,\n",
       "  a14: r50,\n",
       "  a15: r49,\n",
       "  a23: r48,\n",
       "  a24: r47,\n",
       "  a25: r46,\n",
       "  a34: r45,\n",
       "  a35: r44,\n",
       "  a45: r43}]"
      ]
     },
     "metadata": {},
     "output_type": "display_data"
    },
    {
     "data": {
      "text/plain": [
       "\\left[\\left\\{d_{1} : r_{54} x_{14}, d_{2} : r_{53}, d_{3} : r_{55}, d_{4} : r_{54}, d_{5} : -\\frac{r_{43} x_{14}}{x_{15}}, a_{12} : r_{52}, a_{13} : r_{51}, a_{14} : r_{50}, a_{15} : r_{49}, a_{23} : r_{48}, a_{24} : r_{47}, a_{25} : r_{46}, a_{34} : r_{45}, a_{35} : r_{44}, a_{45} : r_{43}\\right\\}\\right]"
      ]
     },
     "execution_count": 4,
     "metadata": {},
     "output_type": "execute_result"
    }
   ],
   "source": [
    "#x1\n",
    "reset()\n",
    "\n",
    "var('x12,x13,x14,x15,x23,x24,x25,x34,x35,x45')\n",
    "var('d1,d2,d3,d4,d5')\n",
    "var('a12,a13,a14,a15,a23,a24,a25,a34,a35,a45')\n",
    "\n",
    "load_attach_path('C:\\\\Users\\\\julia\\\\Documents\\\\unb\\\\doutorado\\\\pensar\\\\codigo_sage_v2\\\\maquina\\\\x1')\n",
    "load('out_#000011.sage')\n",
    "\n",
    "m=matrix(QQ, [[0, 0, 0, 1, 0],\n",
    "              [0, 0, 0, 0, 0],\n",
    "              [0, 0, 0, 0, 0],\n",
    "              [0, 0, 0, 0, 0],\n",
    "              [0, 0, 0, 0, 0]])\n",
    "        \n",
    "#entry of matrix: (i,j) line i collum j, means (i-1,j-1)\n",
    "sol=solve([ \teq1==m[0,2],\teq2==m[0,3],\teq3==m[0,4],\t\n",
    "                                            eq4==m[1,3],    eq5==m[1,4],\n",
    "                                                            eq6==m[2,4]],d1,d2,d3,d4,d5,a12,a13,a14,a15,a23,a24,a25,a34,a35,a45, solution_dict=True)\n",
    "\n",
    "show(m)\n",
    "show(sol)\n",
    "latex(sol)"
   ]
  },
  {
   "cell_type": "code",
   "execution_count": 5,
   "metadata": {},
   "outputs": [
    {
     "data": {
      "text/html": [
       "<html><script type=\"math/tex; mode=display\">\\newcommand{\\Bold}[1]{\\mathbf{#1}}\\left(\\begin{array}{rrrrr}\n",
       "0 & 0 & 1 & 0 & 0 \\\\\n",
       "0 & 0 & 0 & 0 & 0 \\\\\n",
       "0 & 0 & 0 & 0 & 0 \\\\\n",
       "0 & 0 & 0 & 0 & 0 \\\\\n",
       "0 & 0 & 0 & 0 & 0\n",
       "\\end{array}\\right)</script></html>"
      ],
      "text/latex": [
       "$$\\newcommand{\\Bold}[1]{\\mathbf{#1}}\\left(\\begin{array}{rrrrr}\n",
       "0 & 0 & 1 & 0 & 0 \\\\\n",
       "0 & 0 & 0 & 0 & 0 \\\\\n",
       "0 & 0 & 0 & 0 & 0 \\\\\n",
       "0 & 0 & 0 & 0 & 0 \\\\\n",
       "0 & 0 & 0 & 0 & 0\n",
       "\\end{array}\\right)$$"
      ],
      "text/plain": [
       "[0 0 1 0 0]\n",
       "[0 0 0 0 0]\n",
       "[0 0 0 0 0]\n",
       "[0 0 0 0 0]\n",
       "[0 0 0 0 0]"
      ]
     },
     "metadata": {},
     "output_type": "display_data"
    },
    {
     "data": {
      "text/html": [
       "<html><script type=\"math/tex; mode=display\">\\newcommand{\\Bold}[1]{\\mathbf{#1}}\\left[\\left\\{d_{1} : r_{58}, d_{2} : r_{57}, d_{3} : \\frac{r_{58}}{x_{13}}, d_{4} : r_{67}, d_{5} : r_{66}, a_{12} : r_{65}, a_{13} : r_{64}, a_{14} : r_{63}, a_{15} : r_{62}, a_{23} : r_{61}, a_{24} : r_{60}, a_{25} : r_{59}, a_{34} : 0, a_{35} : 0, a_{45} : r_{56}\\right\\}\\right]</script></html>"
      ],
      "text/latex": [
       "$$\\newcommand{\\Bold}[1]{\\mathbf{#1}}\\left[\\left\\{d_{1} : r_{58}, d_{2} : r_{57}, d_{3} : \\frac{r_{58}}{x_{13}}, d_{4} : r_{67}, d_{5} : r_{66}, a_{12} : r_{65}, a_{13} : r_{64}, a_{14} : r_{63}, a_{15} : r_{62}, a_{23} : r_{61}, a_{24} : r_{60}, a_{25} : r_{59}, a_{34} : 0, a_{35} : 0, a_{45} : r_{56}\\right\\}\\right]$$"
      ],
      "text/plain": [
       "[{d1: r58,\n",
       "  d2: r57,\n",
       "  d3: r58/x13,\n",
       "  d4: r67,\n",
       "  d5: r66,\n",
       "  a12: r65,\n",
       "  a13: r64,\n",
       "  a14: r63,\n",
       "  a15: r62,\n",
       "  a23: r61,\n",
       "  a24: r60,\n",
       "  a25: r59,\n",
       "  a34: 0,\n",
       "  a35: 0,\n",
       "  a45: r56}]"
      ]
     },
     "metadata": {},
     "output_type": "display_data"
    },
    {
     "data": {
      "text/plain": [
       "\\left[\\left\\{d_{1} : r_{58}, d_{2} : r_{57}, d_{3} : \\frac{r_{58}}{x_{13}}, d_{4} : r_{67}, d_{5} : r_{66}, a_{12} : r_{65}, a_{13} : r_{64}, a_{14} : r_{63}, a_{15} : r_{62}, a_{23} : r_{61}, a_{24} : r_{60}, a_{25} : r_{59}, a_{34} : 0, a_{35} : 0, a_{45} : r_{56}\\right\\}\\right]"
      ]
     },
     "execution_count": 5,
     "metadata": {},
     "output_type": "execute_result"
    }
   ],
   "source": [
    "#x1\n",
    "reset()\n",
    "\n",
    "var('x12,x13,x14,x15,x23,x24,x25,x34,x35,x45')\n",
    "var('d1,d2,d3,d4,d5')\n",
    "var('a12,a13,a14,a15,a23,a24,a25,a34,a35,a45')\n",
    "\n",
    "load_attach_path('C:\\\\Users\\\\julia\\\\Documents\\\\unb\\\\doutorado\\\\pensar\\\\codigo_sage_v2\\\\maquina\\\\x1')\n",
    "load('out_#000100.sage')\n",
    "\n",
    "m=matrix(QQ, [[0, 0, 1, 0, 0],\n",
    "              [0, 0, 0, 0, 0],\n",
    "              [0, 0, 0, 0, 0],\n",
    "              [0, 0, 0, 0, 0],\n",
    "              [0, 0, 0, 0, 0]])\n",
    "        \n",
    "#entry of matrix: (i,j) line i collum j, means (i-1,j-1)\n",
    "sol=solve([ \teq1==m[0,2],\teq2==m[0,3],\teq3==m[0,4],\t\n",
    "                                            eq4==m[1,3],    eq5==m[1,4],\n",
    "                                                            eq6==m[2,4]],d1,d2,d3,d4,d5,a12,a13,a14,a15,a23,a24,a25,a34,a35,a45, solution_dict=True)\n",
    "\n",
    "show(m)\n",
    "show(sol)\n",
    "latex(sol)"
   ]
  },
  {
   "cell_type": "code",
   "execution_count": 6,
   "metadata": {},
   "outputs": [
    {
     "data": {
      "text/html": [
       "<html><script type=\"math/tex; mode=display\">\\newcommand{\\Bold}[1]{\\mathbf{#1}}\\left(\\begin{array}{rrrrr}\n",
       "0 & 0 & 1 & 0 & 0 \\\\\n",
       "0 & 0 & 0 & 0 & 0 \\\\\n",
       "0 & 0 & 0 & 0 & 0 \\\\\n",
       "0 & 0 & 0 & 0 & 0 \\\\\n",
       "0 & 0 & 0 & 0 & 0\n",
       "\\end{array}\\right)</script></html>"
      ],
      "text/latex": [
       "$$\\newcommand{\\Bold}[1]{\\mathbf{#1}}\\left(\\begin{array}{rrrrr}\n",
       "0 & 0 & 1 & 0 & 0 \\\\\n",
       "0 & 0 & 0 & 0 & 0 \\\\\n",
       "0 & 0 & 0 & 0 & 0 \\\\\n",
       "0 & 0 & 0 & 0 & 0 \\\\\n",
       "0 & 0 & 0 & 0 & 0\n",
       "\\end{array}\\right)$$"
      ],
      "text/plain": [
       "[0 0 1 0 0]\n",
       "[0 0 0 0 0]\n",
       "[0 0 0 0 0]\n",
       "[0 0 0 0 0]\n",
       "[0 0 0 0 0]"
      ]
     },
     "metadata": {},
     "output_type": "display_data"
    },
    {
     "data": {
      "text/html": [
       "<html><script type=\"math/tex; mode=display\">\\newcommand{\\Bold}[1]{\\mathbf{#1}}\\left[\\left\\{d_{1} : r_{70}, d_{2} : r_{69}, d_{3} : \\frac{r_{70}}{x_{13}}, d_{4} : r_{79}, d_{5} : r_{78}, a_{12} : r_{77}, a_{13} : r_{76}, a_{14} : r_{75}, a_{15} : r_{74}, a_{23} : r_{73}, a_{24} : r_{72}, a_{25} : r_{71}, a_{34} : 0, a_{35} : -\\frac{r_{78} x_{15}}{x_{13}}, a_{45} : r_{68}\\right\\}\\right]</script></html>"
      ],
      "text/latex": [
       "$$\\newcommand{\\Bold}[1]{\\mathbf{#1}}\\left[\\left\\{d_{1} : r_{70}, d_{2} : r_{69}, d_{3} : \\frac{r_{70}}{x_{13}}, d_{4} : r_{79}, d_{5} : r_{78}, a_{12} : r_{77}, a_{13} : r_{76}, a_{14} : r_{75}, a_{15} : r_{74}, a_{23} : r_{73}, a_{24} : r_{72}, a_{25} : r_{71}, a_{34} : 0, a_{35} : -\\frac{r_{78} x_{15}}{x_{13}}, a_{45} : r_{68}\\right\\}\\right]$$"
      ],
      "text/plain": [
       "[{d1: r70,\n",
       "  d2: r69,\n",
       "  d3: r70/x13,\n",
       "  d4: r79,\n",
       "  d5: r78,\n",
       "  a12: r77,\n",
       "  a13: r76,\n",
       "  a14: r75,\n",
       "  a15: r74,\n",
       "  a23: r73,\n",
       "  a24: r72,\n",
       "  a25: r71,\n",
       "  a34: 0,\n",
       "  a35: -r78*x15/x13,\n",
       "  a45: r68}]"
      ]
     },
     "metadata": {},
     "output_type": "display_data"
    },
    {
     "data": {
      "text/plain": [
       "\\left[\\left\\{d_{1} : r_{70}, d_{2} : r_{69}, d_{3} : \\frac{r_{70}}{x_{13}}, d_{4} : r_{79}, d_{5} : r_{78}, a_{12} : r_{77}, a_{13} : r_{76}, a_{14} : r_{75}, a_{15} : r_{74}, a_{23} : r_{73}, a_{24} : r_{72}, a_{25} : r_{71}, a_{34} : 0, a_{35} : -\\frac{r_{78} x_{15}}{x_{13}}, a_{45} : r_{68}\\right\\}\\right]"
      ]
     },
     "execution_count": 6,
     "metadata": {},
     "output_type": "execute_result"
    }
   ],
   "source": [
    "#x1\n",
    "reset()\n",
    "\n",
    "var('x12,x13,x14,x15,x23,x24,x25,x34,x35,x45')\n",
    "var('d1,d2,d3,d4,d5')\n",
    "var('a12,a13,a14,a15,a23,a24,a25,a34,a35,a45')\n",
    "\n",
    "load_attach_path('C:\\\\Users\\\\julia\\\\Documents\\\\unb\\\\doutorado\\\\pensar\\\\codigo_sage_v2\\\\maquina\\\\x1')\n",
    "load('out_#000101.sage')\n",
    "\n",
    "m=matrix(QQ, [[0, 0, 1, 0, 0],\n",
    "              [0, 0, 0, 0, 0],\n",
    "              [0, 0, 0, 0, 0],\n",
    "              [0, 0, 0, 0, 0],\n",
    "              [0, 0, 0, 0, 0]])\n",
    "        \n",
    "#entry of matrix: (i,j) line i collum j, means (i-1,j-1)\n",
    "sol=solve([ \teq1==m[0,2],\teq2==m[0,3],\teq3==m[0,4],\t\n",
    "                                            eq4==m[1,3],    eq5==m[1,4],\n",
    "                                                            eq6==m[2,4]],d1,d2,d3,d4,d5,a12,a13,a14,a15,a23,a24,a25,a34,a35,a45, solution_dict=True)\n",
    "\n",
    "show(m)\n",
    "show(sol)\n",
    "latex(sol)"
   ]
  },
  {
   "cell_type": "code",
   "execution_count": 7,
   "metadata": {},
   "outputs": [
    {
     "data": {
      "text/html": [
       "<html><script type=\"math/tex; mode=display\">\\newcommand{\\Bold}[1]{\\mathbf{#1}}\\left(\\begin{array}{rrrrr}\n",
       "0 & 0 & 1 & 0 & 0 \\\\\n",
       "0 & 0 & 0 & 0 & 0 \\\\\n",
       "0 & 0 & 0 & 0 & 0 \\\\\n",
       "0 & 0 & 0 & 0 & 0 \\\\\n",
       "0 & 0 & 0 & 0 & 0\n",
       "\\end{array}\\right)</script></html>"
      ],
      "text/latex": [
       "$$\\newcommand{\\Bold}[1]{\\mathbf{#1}}\\left(\\begin{array}{rrrrr}\n",
       "0 & 0 & 1 & 0 & 0 \\\\\n",
       "0 & 0 & 0 & 0 & 0 \\\\\n",
       "0 & 0 & 0 & 0 & 0 \\\\\n",
       "0 & 0 & 0 & 0 & 0 \\\\\n",
       "0 & 0 & 0 & 0 & 0\n",
       "\\end{array}\\right)$$"
      ],
      "text/plain": [
       "[0 0 1 0 0]\n",
       "[0 0 0 0 0]\n",
       "[0 0 0 0 0]\n",
       "[0 0 0 0 0]\n",
       "[0 0 0 0 0]"
      ]
     },
     "metadata": {},
     "output_type": "display_data"
    },
    {
     "data": {
      "text/html": [
       "<html><script type=\"math/tex; mode=display\">\\newcommand{\\Bold}[1]{\\mathbf{#1}}\\left[\\left\\{d_{1} : r_{80} x_{13}, d_{2} : r_{91}, d_{3} : r_{80}, d_{4} : -\\frac{r_{82} x_{13}}{x_{14}}, d_{5} : r_{90}, a_{12} : r_{89}, a_{13} : r_{88}, a_{14} : r_{87}, a_{15} : r_{86}, a_{23} : r_{85}, a_{24} : r_{84}, a_{25} : r_{83}, a_{34} : r_{82}, a_{35} : r_{81}, a_{45} : -\\frac{r_{81} x_{13}}{x_{14}}\\right\\}\\right]</script></html>"
      ],
      "text/latex": [
       "$$\\newcommand{\\Bold}[1]{\\mathbf{#1}}\\left[\\left\\{d_{1} : r_{80} x_{13}, d_{2} : r_{91}, d_{3} : r_{80}, d_{4} : -\\frac{r_{82} x_{13}}{x_{14}}, d_{5} : r_{90}, a_{12} : r_{89}, a_{13} : r_{88}, a_{14} : r_{87}, a_{15} : r_{86}, a_{23} : r_{85}, a_{24} : r_{84}, a_{25} : r_{83}, a_{34} : r_{82}, a_{35} : r_{81}, a_{45} : -\\frac{r_{81} x_{13}}{x_{14}}\\right\\}\\right]$$"
      ],
      "text/plain": [
       "[{d1: r80*x13,\n",
       "  d2: r91,\n",
       "  d3: r80,\n",
       "  d4: -r82*x13/x14,\n",
       "  d5: r90,\n",
       "  a12: r89,\n",
       "  a13: r88,\n",
       "  a14: r87,\n",
       "  a15: r86,\n",
       "  a23: r85,\n",
       "  a24: r84,\n",
       "  a25: r83,\n",
       "  a34: r82,\n",
       "  a35: r81,\n",
       "  a45: -r81*x13/x14}]"
      ]
     },
     "metadata": {},
     "output_type": "display_data"
    },
    {
     "data": {
      "text/plain": [
       "\\left[\\left\\{d_{1} : r_{80} x_{13}, d_{2} : r_{91}, d_{3} : r_{80}, d_{4} : -\\frac{r_{82} x_{13}}{x_{14}}, d_{5} : r_{90}, a_{12} : r_{89}, a_{13} : r_{88}, a_{14} : r_{87}, a_{15} : r_{86}, a_{23} : r_{85}, a_{24} : r_{84}, a_{25} : r_{83}, a_{34} : r_{82}, a_{35} : r_{81}, a_{45} : -\\frac{r_{81} x_{13}}{x_{14}}\\right\\}\\right]"
      ]
     },
     "execution_count": 7,
     "metadata": {},
     "output_type": "execute_result"
    }
   ],
   "source": [
    "#x1\n",
    "reset()\n",
    "\n",
    "var('x12,x13,x14,x15,x23,x24,x25,x34,x35,x45')\n",
    "var('d1,d2,d3,d4,d5')\n",
    "var('a12,a13,a14,a15,a23,a24,a25,a34,a35,a45')\n",
    "\n",
    "load_attach_path('C:\\\\Users\\\\julia\\\\Documents\\\\unb\\\\doutorado\\\\pensar\\\\codigo_sage_v2\\\\maquina\\\\x1')\n",
    "load('out_#000110.sage')\n",
    "\n",
    "m=matrix(QQ, [[0, 0, 1, 0, 0],\n",
    "              [0, 0, 0, 0, 0],\n",
    "              [0, 0, 0, 0, 0],\n",
    "              [0, 0, 0, 0, 0],\n",
    "              [0, 0, 0, 0, 0]])\n",
    "        \n",
    "#entry of matrix: (i,j) line i collum j, means (i-1,j-1)\n",
    "sol=solve([ \teq1==m[0,2],\teq2==m[0,3],\teq3==m[0,4],\t\n",
    "                                            eq4==m[1,3],    eq5==m[1,4],\n",
    "                                                            eq6==m[2,4]],d1,d2,d3,d4,d5,a12,a13,a14,a15,a23,a24,a25,a34,a35,a45, solution_dict=True)\n",
    "show(m)\n",
    "show(sol)\n",
    "latex(sol)"
   ]
  },
  {
   "cell_type": "code",
   "execution_count": 8,
   "metadata": {},
   "outputs": [
    {
     "data": {
      "text/html": [
       "<html><script type=\"math/tex; mode=display\">\\newcommand{\\Bold}[1]{\\mathbf{#1}}\\left(\\begin{array}{rrrrr}\n",
       "0 & 0 & 1 & 0 & 0 \\\\\n",
       "0 & 0 & 0 & 0 & 0 \\\\\n",
       "0 & 0 & 0 & 0 & 0 \\\\\n",
       "0 & 0 & 0 & 0 & 0 \\\\\n",
       "0 & 0 & 0 & 0 & 0\n",
       "\\end{array}\\right)</script></html>"
      ],
      "text/latex": [
       "$$\\newcommand{\\Bold}[1]{\\mathbf{#1}}\\left(\\begin{array}{rrrrr}\n",
       "0 & 0 & 1 & 0 & 0 \\\\\n",
       "0 & 0 & 0 & 0 & 0 \\\\\n",
       "0 & 0 & 0 & 0 & 0 \\\\\n",
       "0 & 0 & 0 & 0 & 0 \\\\\n",
       "0 & 0 & 0 & 0 & 0\n",
       "\\end{array}\\right)$$"
      ],
      "text/plain": [
       "[0 0 1 0 0]\n",
       "[0 0 0 0 0]\n",
       "[0 0 0 0 0]\n",
       "[0 0 0 0 0]\n",
       "[0 0 0 0 0]"
      ]
     },
     "metadata": {},
     "output_type": "display_data"
    },
    {
     "data": {
      "text/html": [
       "<html><script type=\"math/tex; mode=display\">\\newcommand{\\Bold}[1]{\\mathbf{#1}}\\left[\\left\\{d_{1} : r_{92} x_{13}, d_{2} : r_{103}, d_{3} : r_{92}, d_{4} : -\\frac{r_{94} x_{13}}{x_{14}}, d_{5} : r_{102}, a_{12} : r_{101}, a_{13} : r_{100}, a_{14} : r_{99}, a_{15} : r_{98}, a_{23} : r_{97}, a_{24} : r_{96}, a_{25} : r_{95}, a_{34} : r_{94}, a_{35} : r_{93}, a_{45} : -\\frac{r_{93} x_{13} + r_{102} x_{15}}{x_{14}}\\right\\}\\right]</script></html>"
      ],
      "text/latex": [
       "$$\\newcommand{\\Bold}[1]{\\mathbf{#1}}\\left[\\left\\{d_{1} : r_{92} x_{13}, d_{2} : r_{103}, d_{3} : r_{92}, d_{4} : -\\frac{r_{94} x_{13}}{x_{14}}, d_{5} : r_{102}, a_{12} : r_{101}, a_{13} : r_{100}, a_{14} : r_{99}, a_{15} : r_{98}, a_{23} : r_{97}, a_{24} : r_{96}, a_{25} : r_{95}, a_{34} : r_{94}, a_{35} : r_{93}, a_{45} : -\\frac{r_{93} x_{13} + r_{102} x_{15}}{x_{14}}\\right\\}\\right]$$"
      ],
      "text/plain": [
       "[{d1: r92*x13,\n",
       "  d2: r103,\n",
       "  d3: r92,\n",
       "  d4: -r94*x13/x14,\n",
       "  d5: r102,\n",
       "  a12: r101,\n",
       "  a13: r100,\n",
       "  a14: r99,\n",
       "  a15: r98,\n",
       "  a23: r97,\n",
       "  a24: r96,\n",
       "  a25: r95,\n",
       "  a34: r94,\n",
       "  a35: r93,\n",
       "  a45: -(r93*x13 + r102*x15)/x14}]"
      ]
     },
     "metadata": {},
     "output_type": "display_data"
    },
    {
     "data": {
      "text/plain": [
       "\\left[\\left\\{d_{1} : r_{92} x_{13}, d_{2} : r_{103}, d_{3} : r_{92}, d_{4} : -\\frac{r_{94} x_{13}}{x_{14}}, d_{5} : r_{102}, a_{12} : r_{101}, a_{13} : r_{100}, a_{14} : r_{99}, a_{15} : r_{98}, a_{23} : r_{97}, a_{24} : r_{96}, a_{25} : r_{95}, a_{34} : r_{94}, a_{35} : r_{93}, a_{45} : -\\frac{r_{93} x_{13} + r_{102} x_{15}}{x_{14}}\\right\\}\\right]"
      ]
     },
     "execution_count": 8,
     "metadata": {},
     "output_type": "execute_result"
    }
   ],
   "source": [
    "#x1\n",
    "reset()\n",
    "\n",
    "var('x12,x13,x14,x15,x23,x24,x25,x34,x35,x45')\n",
    "var('d1,d2,d3,d4,d5')\n",
    "var('a12,a13,a14,a15,a23,a24,a25,a34,a35,a45')\n",
    "\n",
    "load_attach_path('C:\\\\Users\\\\julia\\\\Documents\\\\unb\\\\doutorado\\\\pensar\\\\codigo_sage_v2\\\\maquina\\\\x1')\n",
    "load('out_#000111.sage')\n",
    "\n",
    "m=matrix(QQ, [[0, 0, 1, 0, 0],\n",
    "              [0, 0, 0, 0, 0],\n",
    "              [0, 0, 0, 0, 0],\n",
    "              [0, 0, 0, 0, 0],\n",
    "              [0, 0, 0, 0, 0]])\n",
    "        \n",
    "#entry of matrix: (i,j) line i collum j, means (i-1,j-1)\n",
    "sol=solve([ \teq1==m[0,2],\teq2==m[0,3],\teq3==m[0,4],\t\n",
    "                                            eq4==m[1,3],    eq5==m[1,4],\n",
    "                                                            eq6==m[2,4]],d1,d2,d3,d4,d5,a12,a13,a14,a15,a23,a24,a25,a34,a35,a45, solution_dict=True)\n",
    "\n",
    "show(m)\n",
    "show(sol)\n",
    "latex(sol)"
   ]
  },
  {
   "cell_type": "code",
   "execution_count": 9,
   "metadata": {
    "scrolled": true
   },
   "outputs": [
    {
     "data": {
      "text/html": [
       "<html><script type=\"math/tex; mode=display\">\\newcommand{\\Bold}[1]{\\mathbf{#1}}\\left(\\begin{array}{rrrrr}\n",
       "0 & 0 & 0 & 0 & 0 \\\\\n",
       "0 & 0 & 0 & 0 & 1 \\\\\n",
       "0 & 0 & 0 & 0 & 0 \\\\\n",
       "0 & 0 & 0 & 0 & 0 \\\\\n",
       "0 & 0 & 0 & 0 & 0\n",
       "\\end{array}\\right)</script></html>"
      ],
      "text/latex": [
       "$$\\newcommand{\\Bold}[1]{\\mathbf{#1}}\\left(\\begin{array}{rrrrr}\n",
       "0 & 0 & 0 & 0 & 0 \\\\\n",
       "0 & 0 & 0 & 0 & 1 \\\\\n",
       "0 & 0 & 0 & 0 & 0 \\\\\n",
       "0 & 0 & 0 & 0 & 0 \\\\\n",
       "0 & 0 & 0 & 0 & 0\n",
       "\\end{array}\\right)$$"
      ],
      "text/plain": [
       "[0 0 0 0 0]\n",
       "[0 0 0 0 1]\n",
       "[0 0 0 0 0]\n",
       "[0 0 0 0 0]\n",
       "[0 0 0 0 0]"
      ]
     },
     "metadata": {},
     "output_type": "display_data"
    },
    {
     "data": {
      "text/html": [
       "<html><script type=\"math/tex; mode=display\">\\newcommand{\\Bold}[1]{\\mathbf{#1}}\\left[\\left\\{d_{1} : r_{104}, d_{2} : r_{105}, d_{3} : r_{106}, d_{4} : r_{107}, d_{5} : \\frac{r_{105}}{x_{25}}, a_{12} : 0, a_{13} : r_{108}, a_{14} : r_{109}, a_{15} : r_{110}, a_{23} : r_{111}, a_{24} : r_{112}, a_{25} : r_{113}, a_{34} : r_{114}, a_{35} : r_{115}, a_{45} : r_{116}\\right\\}, \\left\\{d_{1} : r_{117}, d_{2} : 0, d_{3} : r_{118}, d_{4} : r_{119}, d_{5} : 0, a_{12} : r_{120}, a_{13} : r_{121}, a_{14} : r_{122}, a_{15} : r_{123}, a_{23} : r_{124}, a_{24} : r_{125}, a_{25} : r_{126}, a_{34} : r_{127}, a_{35} : r_{128}, a_{45} : r_{129}\\right\\}\\right]</script></html>"
      ],
      "text/latex": [
       "$$\\newcommand{\\Bold}[1]{\\mathbf{#1}}\\left[\\left\\{d_{1} : r_{104}, d_{2} : r_{105}, d_{3} : r_{106}, d_{4} : r_{107}, d_{5} : \\frac{r_{105}}{x_{25}}, a_{12} : 0, a_{13} : r_{108}, a_{14} : r_{109}, a_{15} : r_{110}, a_{23} : r_{111}, a_{24} : r_{112}, a_{25} : r_{113}, a_{34} : r_{114}, a_{35} : r_{115}, a_{45} : r_{116}\\right\\}, \\left\\{d_{1} : r_{117}, d_{2} : 0, d_{3} : r_{118}, d_{4} : r_{119}, d_{5} : 0, a_{12} : r_{120}, a_{13} : r_{121}, a_{14} : r_{122}, a_{15} : r_{123}, a_{23} : r_{124}, a_{24} : r_{125}, a_{25} : r_{126}, a_{34} : r_{127}, a_{35} : r_{128}, a_{45} : r_{129}\\right\\}\\right]$$"
      ],
      "text/plain": [
       "[{d1: r104,\n",
       "  d2: r105,\n",
       "  d3: r106,\n",
       "  d4: r107,\n",
       "  d5: r105/x25,\n",
       "  a12: 0,\n",
       "  a13: r108,\n",
       "  a14: r109,\n",
       "  a15: r110,\n",
       "  a23: r111,\n",
       "  a24: r112,\n",
       "  a25: r113,\n",
       "  a34: r114,\n",
       "  a35: r115,\n",
       "  a45: r116},\n",
       " {d1: r117,\n",
       "  d2: 0,\n",
       "  d3: r118,\n",
       "  d4: r119,\n",
       "  d5: 0,\n",
       "  a12: r120,\n",
       "  a13: r121,\n",
       "  a14: r122,\n",
       "  a15: r123,\n",
       "  a23: r124,\n",
       "  a24: r125,\n",
       "  a25: r126,\n",
       "  a34: r127,\n",
       "  a35: r128,\n",
       "  a45: r129}]"
      ]
     },
     "metadata": {},
     "output_type": "display_data"
    },
    {
     "data": {
      "text/plain": [
       "\\left[\\left\\{d_{1} : r_{104}, d_{2} : r_{105}, d_{3} : r_{106}, d_{4} : r_{107}, d_{5} : \\frac{r_{105}}{x_{25}}, a_{12} : 0, a_{13} : r_{108}, a_{14} : r_{109}, a_{15} : r_{110}, a_{23} : r_{111}, a_{24} : r_{112}, a_{25} : r_{113}, a_{34} : r_{114}, a_{35} : r_{115}, a_{45} : r_{116}\\right\\}, \\left\\{d_{1} : r_{117}, d_{2} : 0, d_{3} : r_{118}, d_{4} : r_{119}, d_{5} : 0, a_{12} : r_{120}, a_{13} : r_{121}, a_{14} : r_{122}, a_{15} : r_{123}, a_{23} : r_{124}, a_{24} : r_{125}, a_{25} : r_{126}, a_{34} : r_{127}, a_{35} : r_{128}, a_{45} : r_{129}\\right\\}\\right]"
      ]
     },
     "execution_count": 9,
     "metadata": {},
     "output_type": "execute_result"
    }
   ],
   "source": [
    "#x1\n",
    "reset()\n",
    "\n",
    "var('x12,x13,x14,x15,x23,x24,x25,x34,x35,x45')\n",
    "var('d1,d2,d3,d4,d5')\n",
    "var('a12,a13,a14,a15,a23,a24,a25,a34,a35,a45')\n",
    "\n",
    "load_attach_path('C:\\\\Users\\\\julia\\\\Documents\\\\unb\\\\doutorado\\\\pensar\\\\codigo_sage_v2\\\\maquina\\\\x1')\n",
    "load('out_#001000.sage')\n",
    "\n",
    "m=matrix(QQ, [[0, 0, 0, 0, 0],\n",
    "              [0, 0, 0, 0, 1],\n",
    "              [0, 0, 0, 0, 0],\n",
    "              [0, 0, 0, 0, 0],\n",
    "              [0, 0, 0, 0, 0]])\n",
    "        \n",
    "#entry of matrix: (i,j) line i collum j, means (i-1,j-1)\n",
    "sol=solve([ \teq1==m[0,2],\teq2==m[0,3],\teq3==m[0,4],\t\n",
    "                                            eq4==m[1,3],    eq5==m[1,4],\n",
    "                                                            eq6==m[2,4]],d1,d2,d3,d4,d5,a12,a13,a14,a15,a23,a24,a25,a34,a35,a45, solution_dict=True)\n",
    "\n",
    "show(m)\n",
    "show(sol)\n",
    "latex(sol)"
   ]
  },
  {
   "cell_type": "code",
   "execution_count": 10,
   "metadata": {},
   "outputs": [
    {
     "data": {
      "text/html": [
       "<html><script type=\"math/tex; mode=display\">\\newcommand{\\Bold}[1]{\\mathbf{#1}}\\left(\\begin{array}{rrrrr}\n",
       "0 & 0 & 0 & 0 & 0 \\\\\n",
       "0 & 0 & 0 & 0 & 1 \\\\\n",
       "0 & 0 & 0 & 0 & 0 \\\\\n",
       "0 & 0 & 0 & 0 & 0 \\\\\n",
       "0 & 0 & 0 & 0 & 0\n",
       "\\end{array}\\right)</script></html>"
      ],
      "text/latex": [
       "$$\\newcommand{\\Bold}[1]{\\mathbf{#1}}\\left(\\begin{array}{rrrrr}\n",
       "0 & 0 & 0 & 0 & 0 \\\\\n",
       "0 & 0 & 0 & 0 & 1 \\\\\n",
       "0 & 0 & 0 & 0 & 0 \\\\\n",
       "0 & 0 & 0 & 0 & 0 \\\\\n",
       "0 & 0 & 0 & 0 & 0\n",
       "\\end{array}\\right)$$"
      ],
      "text/plain": [
       "[0 0 0 0 0]\n",
       "[0 0 0 0 1]\n",
       "[0 0 0 0 0]\n",
       "[0 0 0 0 0]\n",
       "[0 0 0 0 0]"
      ]
     },
     "metadata": {},
     "output_type": "display_data"
    },
    {
     "data": {
      "text/html": [
       "<html><script type=\"math/tex; mode=display\">\\newcommand{\\Bold}[1]{\\mathbf{#1}}\\left[\\left\\{d_{1} : r_{130}, d_{2} : 0, d_{3} : r_{131}, d_{4} : r_{132}, d_{5} : 0, a_{12} : r_{133}, a_{13} : r_{134}, a_{14} : r_{135}, a_{15} : r_{136}, a_{23} : r_{137}, a_{24} : r_{138}, a_{25} : r_{139}, a_{34} : r_{140}, a_{35} : r_{141}, a_{45} : r_{142}\\right\\}, \\left\\{d_{1} : r_{143}, d_{2} : r_{144}, d_{3} : r_{145}, d_{4} : r_{146}, d_{5} : \\frac{r_{144}}{x_{25}}, a_{12} : \\frac{r_{144} x_{15}}{x_{25}}, a_{13} : r_{147}, a_{14} : r_{148}, a_{15} : r_{149}, a_{23} : r_{150}, a_{24} : r_{151}, a_{25} : r_{152}, a_{34} : r_{153}, a_{35} : r_{154}, a_{45} : r_{155}\\right\\}\\right]</script></html>"
      ],
      "text/latex": [
       "$$\\newcommand{\\Bold}[1]{\\mathbf{#1}}\\left[\\left\\{d_{1} : r_{130}, d_{2} : 0, d_{3} : r_{131}, d_{4} : r_{132}, d_{5} : 0, a_{12} : r_{133}, a_{13} : r_{134}, a_{14} : r_{135}, a_{15} : r_{136}, a_{23} : r_{137}, a_{24} : r_{138}, a_{25} : r_{139}, a_{34} : r_{140}, a_{35} : r_{141}, a_{45} : r_{142}\\right\\}, \\left\\{d_{1} : r_{143}, d_{2} : r_{144}, d_{3} : r_{145}, d_{4} : r_{146}, d_{5} : \\frac{r_{144}}{x_{25}}, a_{12} : \\frac{r_{144} x_{15}}{x_{25}}, a_{13} : r_{147}, a_{14} : r_{148}, a_{15} : r_{149}, a_{23} : r_{150}, a_{24} : r_{151}, a_{25} : r_{152}, a_{34} : r_{153}, a_{35} : r_{154}, a_{45} : r_{155}\\right\\}\\right]$$"
      ],
      "text/plain": [
       "[{d1: r130,\n",
       "  d2: 0,\n",
       "  d3: r131,\n",
       "  d4: r132,\n",
       "  d5: 0,\n",
       "  a12: r133,\n",
       "  a13: r134,\n",
       "  a14: r135,\n",
       "  a15: r136,\n",
       "  a23: r137,\n",
       "  a24: r138,\n",
       "  a25: r139,\n",
       "  a34: r140,\n",
       "  a35: r141,\n",
       "  a45: r142},\n",
       " {d1: r143,\n",
       "  d2: r144,\n",
       "  d3: r145,\n",
       "  d4: r146,\n",
       "  d5: r144/x25,\n",
       "  a12: r144*x15/x25,\n",
       "  a13: r147,\n",
       "  a14: r148,\n",
       "  a15: r149,\n",
       "  a23: r150,\n",
       "  a24: r151,\n",
       "  a25: r152,\n",
       "  a34: r153,\n",
       "  a35: r154,\n",
       "  a45: r155}]"
      ]
     },
     "metadata": {},
     "output_type": "display_data"
    },
    {
     "data": {
      "text/plain": [
       "\\left[\\left\\{d_{1} : r_{130}, d_{2} : 0, d_{3} : r_{131}, d_{4} : r_{132}, d_{5} : 0, a_{12} : r_{133}, a_{13} : r_{134}, a_{14} : r_{135}, a_{15} : r_{136}, a_{23} : r_{137}, a_{24} : r_{138}, a_{25} : r_{139}, a_{34} : r_{140}, a_{35} : r_{141}, a_{45} : r_{142}\\right\\}, \\left\\{d_{1} : r_{143}, d_{2} : r_{144}, d_{3} : r_{145}, d_{4} : r_{146}, d_{5} : \\frac{r_{144}}{x_{25}}, a_{12} : \\frac{r_{144} x_{15}}{x_{25}}, a_{13} : r_{147}, a_{14} : r_{148}, a_{15} : r_{149}, a_{23} : r_{150}, a_{24} : r_{151}, a_{25} : r_{152}, a_{34} : r_{153}, a_{35} : r_{154}, a_{45} : r_{155}\\right\\}\\right]"
      ]
     },
     "execution_count": 10,
     "metadata": {},
     "output_type": "execute_result"
    }
   ],
   "source": [
    "#x1\n",
    "reset()\n",
    "\n",
    "var('x12,x13,x14,x15,x23,x24,x25,x34,x35,x45')\n",
    "var('d1,d2,d3,d4,d5')\n",
    "var('a12,a13,a14,a15,a23,a24,a25,a34,a35,a45')\n",
    "\n",
    "load_attach_path('C:\\\\Users\\\\julia\\\\Documents\\\\unb\\\\doutorado\\\\pensar\\\\codigo_sage_v2\\\\maquina\\\\x1')\n",
    "load('out_#001001.sage')\n",
    "\n",
    "m=matrix(QQ, [[0, 0, 0, 0, 0],\n",
    "              [0, 0, 0, 0, 1],\n",
    "              [0, 0, 0, 0, 0],\n",
    "              [0, 0, 0, 0, 0],\n",
    "              [0, 0, 0, 0, 0]])\n",
    "        \n",
    "#entry of matrix: (i,j) line i collum j, means (i-1,j-1)\n",
    "sol=solve([ \teq1==m[0,2],\teq2==m[0,3],\teq3==m[0,4],\t\n",
    "                                            eq4==m[1,3],    eq5==m[1,4],\n",
    "                                                            eq6==m[2,4]],d1,d2,d3,d4,d5,a12,a13,a14,a15,a23,a24,a25,a34,a35,a45, solution_dict=True)\n",
    "\n",
    "show(m)\n",
    "show(sol)\n",
    "latex(sol)"
   ]
  },
  {
   "cell_type": "code",
   "execution_count": 11,
   "metadata": {},
   "outputs": [
    {
     "data": {
      "text/html": [
       "<html><script type=\"math/tex; mode=display\">\\newcommand{\\Bold}[1]{\\mathbf{#1}}\\left(\\begin{array}{rrrrr}\n",
       "0 & 0 & 0 & 1 & 0 \\\\\n",
       "0 & 0 & 0 & 0 & 1 \\\\\n",
       "0 & 0 & 0 & 0 & 0 \\\\\n",
       "0 & 0 & 0 & 0 & 0 \\\\\n",
       "0 & 0 & 0 & 0 & 0\n",
       "\\end{array}\\right)</script></html>"
      ],
      "text/latex": [
       "$$\\newcommand{\\Bold}[1]{\\mathbf{#1}}\\left(\\begin{array}{rrrrr}\n",
       "0 & 0 & 0 & 1 & 0 \\\\\n",
       "0 & 0 & 0 & 0 & 1 \\\\\n",
       "0 & 0 & 0 & 0 & 0 \\\\\n",
       "0 & 0 & 0 & 0 & 0 \\\\\n",
       "0 & 0 & 0 & 0 & 0\n",
       "\\end{array}\\right)$$"
      ],
      "text/plain": [
       "[0 0 0 1 0]\n",
       "[0 0 0 0 1]\n",
       "[0 0 0 0 0]\n",
       "[0 0 0 0 0]\n",
       "[0 0 0 0 0]"
      ]
     },
     "metadata": {},
     "output_type": "display_data"
    },
    {
     "data": {
      "text/html": [
       "<html><script type=\"math/tex; mode=display\">\\newcommand{\\Bold}[1]{\\mathbf{#1}}\\left[\\left\\{d_{1} : r_{156}, d_{2} : 0, d_{3} : r_{157}, d_{4} : \\frac{r_{156}}{x_{14}}, d_{5} : 0, a_{12} : r_{158}, a_{13} : r_{159}, a_{14} : r_{160}, a_{15} : r_{161}, a_{23} : r_{162}, a_{24} : r_{163}, a_{25} : r_{164}, a_{34} : r_{165}, a_{35} : r_{166}, a_{45} : r_{167}\\right\\}, \\left\\{d_{1} : r_{168}, d_{2} : r_{169}, d_{3} : r_{170}, d_{4} : \\frac{r_{168}}{x_{14}}, d_{5} : \\frac{r_{169}}{x_{25}}, a_{12} : r_{171}, a_{13} : r_{172}, a_{14} : r_{173}, a_{15} : r_{174}, a_{23} : r_{175}, a_{24} : r_{176}, a_{25} : r_{177}, a_{34} : r_{178}, a_{35} : r_{179}, a_{45} : \\frac{r_{171}}{x_{14}}\\right\\}\\right]</script></html>"
      ],
      "text/latex": [
       "$$\\newcommand{\\Bold}[1]{\\mathbf{#1}}\\left[\\left\\{d_{1} : r_{156}, d_{2} : 0, d_{3} : r_{157}, d_{4} : \\frac{r_{156}}{x_{14}}, d_{5} : 0, a_{12} : r_{158}, a_{13} : r_{159}, a_{14} : r_{160}, a_{15} : r_{161}, a_{23} : r_{162}, a_{24} : r_{163}, a_{25} : r_{164}, a_{34} : r_{165}, a_{35} : r_{166}, a_{45} : r_{167}\\right\\}, \\left\\{d_{1} : r_{168}, d_{2} : r_{169}, d_{3} : r_{170}, d_{4} : \\frac{r_{168}}{x_{14}}, d_{5} : \\frac{r_{169}}{x_{25}}, a_{12} : r_{171}, a_{13} : r_{172}, a_{14} : r_{173}, a_{15} : r_{174}, a_{23} : r_{175}, a_{24} : r_{176}, a_{25} : r_{177}, a_{34} : r_{178}, a_{35} : r_{179}, a_{45} : \\frac{r_{171}}{x_{14}}\\right\\}\\right]$$"
      ],
      "text/plain": [
       "[{d1: r156,\n",
       "  d2: 0,\n",
       "  d3: r157,\n",
       "  d4: r156/x14,\n",
       "  d5: 0,\n",
       "  a12: r158,\n",
       "  a13: r159,\n",
       "  a14: r160,\n",
       "  a15: r161,\n",
       "  a23: r162,\n",
       "  a24: r163,\n",
       "  a25: r164,\n",
       "  a34: r165,\n",
       "  a35: r166,\n",
       "  a45: r167},\n",
       " {d1: r168,\n",
       "  d2: r169,\n",
       "  d3: r170,\n",
       "  d4: r168/x14,\n",
       "  d5: r169/x25,\n",
       "  a12: r171,\n",
       "  a13: r172,\n",
       "  a14: r173,\n",
       "  a15: r174,\n",
       "  a23: r175,\n",
       "  a24: r176,\n",
       "  a25: r177,\n",
       "  a34: r178,\n",
       "  a35: r179,\n",
       "  a45: r171/x14}]"
      ]
     },
     "metadata": {},
     "output_type": "display_data"
    },
    {
     "data": {
      "text/plain": [
       "\\left[\\left\\{d_{1} : r_{156}, d_{2} : 0, d_{3} : r_{157}, d_{4} : \\frac{r_{156}}{x_{14}}, d_{5} : 0, a_{12} : r_{158}, a_{13} : r_{159}, a_{14} : r_{160}, a_{15} : r_{161}, a_{23} : r_{162}, a_{24} : r_{163}, a_{25} : r_{164}, a_{34} : r_{165}, a_{35} : r_{166}, a_{45} : r_{167}\\right\\}, \\left\\{d_{1} : r_{168}, d_{2} : r_{169}, d_{3} : r_{170}, d_{4} : \\frac{r_{168}}{x_{14}}, d_{5} : \\frac{r_{169}}{x_{25}}, a_{12} : r_{171}, a_{13} : r_{172}, a_{14} : r_{173}, a_{15} : r_{174}, a_{23} : r_{175}, a_{24} : r_{176}, a_{25} : r_{177}, a_{34} : r_{178}, a_{35} : r_{179}, a_{45} : \\frac{r_{171}}{x_{14}}\\right\\}\\right]"
      ]
     },
     "execution_count": 11,
     "metadata": {},
     "output_type": "execute_result"
    }
   ],
   "source": [
    "#x1\n",
    "reset()\n",
    "\n",
    "var('x12,x13,x14,x15,x23,x24,x25,x34,x35,x45')\n",
    "var('d1,d2,d3,d4,d5')\n",
    "var('a12,a13,a14,a15,a23,a24,a25,a34,a35,a45')\n",
    "\n",
    "load_attach_path('C:\\\\Users\\\\julia\\\\Documents\\\\unb\\\\doutorado\\\\pensar\\\\codigo_sage_v2\\\\maquina\\\\x1')\n",
    "load('out_#001010.sage')\n",
    "\n",
    "m=matrix(QQ, [[0, 0, 0, 1, 0],\n",
    "              [0, 0, 0, 0, 1],\n",
    "              [0, 0, 0, 0, 0],\n",
    "              [0, 0, 0, 0, 0],\n",
    "              [0, 0, 0, 0, 0]])\n",
    "        \n",
    "#entry of matrix: (i,j) line i collum j, means (i-1,j-1)\n",
    "sol=solve([ \teq1==m[0,2],\teq2==m[0,3],\teq3==m[0,4],\t\n",
    "                                            eq4==m[1,3],    eq5==m[1,4],\n",
    "                                                            eq6==m[2,4]],d1,d2,d3,d4,d5,a12,a13,a14,a15,a23,a24,a25,a34,a35,a45, solution_dict=True)\n",
    "\n",
    "show(m)\n",
    "show(sol)\n",
    "latex(sol)"
   ]
  },
  {
   "cell_type": "code",
   "execution_count": 12,
   "metadata": {},
   "outputs": [
    {
     "data": {
      "text/html": [
       "<html><script type=\"math/tex; mode=display\">\\newcommand{\\Bold}[1]{\\mathbf{#1}}\\left(\\begin{array}{rrrrr}\n",
       "0 & 0 & 0 & 1 & 0 \\\\\n",
       "0 & 0 & 0 & 0 & 1 \\\\\n",
       "0 & 0 & 0 & 0 & 0 \\\\\n",
       "0 & 0 & 0 & 0 & 0 \\\\\n",
       "0 & 0 & 0 & 0 & 0\n",
       "\\end{array}\\right)</script></html>"
      ],
      "text/latex": [
       "$$\\newcommand{\\Bold}[1]{\\mathbf{#1}}\\left(\\begin{array}{rrrrr}\n",
       "0 & 0 & 0 & 1 & 0 \\\\\n",
       "0 & 0 & 0 & 0 & 1 \\\\\n",
       "0 & 0 & 0 & 0 & 0 \\\\\n",
       "0 & 0 & 0 & 0 & 0 \\\\\n",
       "0 & 0 & 0 & 0 & 0\n",
       "\\end{array}\\right)$$"
      ],
      "text/plain": [
       "[0 0 0 1 0]\n",
       "[0 0 0 0 1]\n",
       "[0 0 0 0 0]\n",
       "[0 0 0 0 0]\n",
       "[0 0 0 0 0]"
      ]
     },
     "metadata": {},
     "output_type": "display_data"
    },
    {
     "data": {
      "text/html": [
       "<html><script type=\"math/tex; mode=display\">\\newcommand{\\Bold}[1]{\\mathbf{#1}}\\left[\\left\\{d_{1} : r_{180}, d_{2} : 0, d_{3} : r_{181}, d_{4} : \\frac{r_{180}}{x_{14}}, d_{5} : 0, a_{12} : r_{182}, a_{13} : r_{183}, a_{14} : r_{184}, a_{15} : r_{185}, a_{23} : r_{186}, a_{24} : r_{187}, a_{25} : r_{188}, a_{34} : r_{189}, a_{35} : r_{190}, a_{45} : r_{191}\\right\\}, \\left\\{d_{1} : r_{192}, d_{2} : r_{193}, d_{3} : r_{194}, d_{4} : \\frac{r_{192}}{x_{14}}, d_{5} : \\frac{r_{193}}{x_{25}}, a_{12} : r_{195}, a_{13} : r_{196}, a_{14} : r_{197}, a_{15} : r_{198}, a_{23} : r_{199}, a_{24} : r_{200}, a_{25} : r_{201}, a_{34} : r_{202}, a_{35} : r_{203}, a_{45} : -\\frac{r_{193} x_{15} - r_{195} x_{25}}{x_{14} x_{25}}\\right\\}\\right]</script></html>"
      ],
      "text/latex": [
       "$$\\newcommand{\\Bold}[1]{\\mathbf{#1}}\\left[\\left\\{d_{1} : r_{180}, d_{2} : 0, d_{3} : r_{181}, d_{4} : \\frac{r_{180}}{x_{14}}, d_{5} : 0, a_{12} : r_{182}, a_{13} : r_{183}, a_{14} : r_{184}, a_{15} : r_{185}, a_{23} : r_{186}, a_{24} : r_{187}, a_{25} : r_{188}, a_{34} : r_{189}, a_{35} : r_{190}, a_{45} : r_{191}\\right\\}, \\left\\{d_{1} : r_{192}, d_{2} : r_{193}, d_{3} : r_{194}, d_{4} : \\frac{r_{192}}{x_{14}}, d_{5} : \\frac{r_{193}}{x_{25}}, a_{12} : r_{195}, a_{13} : r_{196}, a_{14} : r_{197}, a_{15} : r_{198}, a_{23} : r_{199}, a_{24} : r_{200}, a_{25} : r_{201}, a_{34} : r_{202}, a_{35} : r_{203}, a_{45} : -\\frac{r_{193} x_{15} - r_{195} x_{25}}{x_{14} x_{25}}\\right\\}\\right]$$"
      ],
      "text/plain": [
       "[{d1: r180,\n",
       "  d2: 0,\n",
       "  d3: r181,\n",
       "  d4: r180/x14,\n",
       "  d5: 0,\n",
       "  a12: r182,\n",
       "  a13: r183,\n",
       "  a14: r184,\n",
       "  a15: r185,\n",
       "  a23: r186,\n",
       "  a24: r187,\n",
       "  a25: r188,\n",
       "  a34: r189,\n",
       "  a35: r190,\n",
       "  a45: r191},\n",
       " {d1: r192,\n",
       "  d2: r193,\n",
       "  d3: r194,\n",
       "  d4: r192/x14,\n",
       "  d5: r193/x25,\n",
       "  a12: r195,\n",
       "  a13: r196,\n",
       "  a14: r197,\n",
       "  a15: r198,\n",
       "  a23: r199,\n",
       "  a24: r200,\n",
       "  a25: r201,\n",
       "  a34: r202,\n",
       "  a35: r203,\n",
       "  a45: -(r193*x15 - r195*x25)/(x14*x25)}]"
      ]
     },
     "metadata": {},
     "output_type": "display_data"
    },
    {
     "data": {
      "text/plain": [
       "\\left[\\left\\{d_{1} : r_{180}, d_{2} : 0, d_{3} : r_{181}, d_{4} : \\frac{r_{180}}{x_{14}}, d_{5} : 0, a_{12} : r_{182}, a_{13} : r_{183}, a_{14} : r_{184}, a_{15} : r_{185}, a_{23} : r_{186}, a_{24} : r_{187}, a_{25} : r_{188}, a_{34} : r_{189}, a_{35} : r_{190}, a_{45} : r_{191}\\right\\}, \\left\\{d_{1} : r_{192}, d_{2} : r_{193}, d_{3} : r_{194}, d_{4} : \\frac{r_{192}}{x_{14}}, d_{5} : \\frac{r_{193}}{x_{25}}, a_{12} : r_{195}, a_{13} : r_{196}, a_{14} : r_{197}, a_{15} : r_{198}, a_{23} : r_{199}, a_{24} : r_{200}, a_{25} : r_{201}, a_{34} : r_{202}, a_{35} : r_{203}, a_{45} : -\\frac{r_{193} x_{15} - r_{195} x_{25}}{x_{14} x_{25}}\\right\\}\\right]"
      ]
     },
     "execution_count": 12,
     "metadata": {},
     "output_type": "execute_result"
    }
   ],
   "source": [
    "#x1\n",
    "reset()\n",
    "\n",
    "var('x12,x13,x14,x15,x23,x24,x25,x34,x35,x45')\n",
    "var('d1,d2,d3,d4,d5')\n",
    "var('a12,a13,a14,a15,a23,a24,a25,a34,a35,a45')\n",
    "\n",
    "load_attach_path('C:\\\\Users\\\\julia\\\\Documents\\\\unb\\\\doutorado\\\\pensar\\\\codigo_sage_v2\\\\maquina\\\\x1')\n",
    "load('out_#001011.sage')\n",
    "\n",
    "m=matrix(QQ, [[0, 0, 0, 1, 0],\n",
    "              [0, 0, 0, 0, 1],\n",
    "              [0, 0, 0, 0, 0],\n",
    "              [0, 0, 0, 0, 0],\n",
    "              [0, 0, 0, 0, 0]])\n",
    "        \n",
    "#entry of matrix: (i,j) line i collum j, means (i-1,j-1)\n",
    "sol=solve([ \teq1==m[0,2],\teq2==m[0,3],\teq3==m[0,4],\t\n",
    "                                            eq4==m[1,3],    eq5==m[1,4],\n",
    "                                                            eq6==m[2,4]],d1,d2,d3,d4,d5,a12,a13,a14,a15,a23,a24,a25,a34,a35,a45, solution_dict=True)\n",
    "\n",
    "show(m)\n",
    "show(sol)\n",
    "latex(sol)"
   ]
  },
  {
   "cell_type": "code",
   "execution_count": 13,
   "metadata": {},
   "outputs": [
    {
     "data": {
      "text/html": [
       "<html><script type=\"math/tex; mode=display\">\\newcommand{\\Bold}[1]{\\mathbf{#1}}\\left(\\begin{array}{rrrrr}\n",
       "0 & 0 & 1 & 0 & 0 \\\\\n",
       "0 & 0 & 0 & 0 & 1 \\\\\n",
       "0 & 0 & 0 & 0 & 0 \\\\\n",
       "0 & 0 & 0 & 0 & 0 \\\\\n",
       "0 & 0 & 0 & 0 & 0\n",
       "\\end{array}\\right)</script></html>"
      ],
      "text/latex": [
       "$$\\newcommand{\\Bold}[1]{\\mathbf{#1}}\\left(\\begin{array}{rrrrr}\n",
       "0 & 0 & 1 & 0 & 0 \\\\\n",
       "0 & 0 & 0 & 0 & 1 \\\\\n",
       "0 & 0 & 0 & 0 & 0 \\\\\n",
       "0 & 0 & 0 & 0 & 0 \\\\\n",
       "0 & 0 & 0 & 0 & 0\n",
       "\\end{array}\\right)$$"
      ],
      "text/plain": [
       "[0 0 1 0 0]\n",
       "[0 0 0 0 1]\n",
       "[0 0 0 0 0]\n",
       "[0 0 0 0 0]\n",
       "[0 0 0 0 0]"
      ]
     },
     "metadata": {},
     "output_type": "display_data"
    },
    {
     "data": {
      "text/html": [
       "<html><script type=\"math/tex; mode=display\">\\newcommand{\\Bold}[1]{\\mathbf{#1}}\\left[\\left\\{d_{1} : r_{204}, d_{2} : 0, d_{3} : \\frac{r_{204}}{x_{13}}, d_{4} : r_{205}, d_{5} : 0, a_{12} : r_{206}, a_{13} : r_{207}, a_{14} : r_{208}, a_{15} : r_{209}, a_{23} : r_{210}, a_{24} : r_{211}, a_{25} : r_{212}, a_{34} : 0, a_{35} : r_{213}, a_{45} : r_{214}\\right\\}, \\left\\{d_{1} : r_{215}, d_{2} : r_{216}, d_{3} : \\frac{r_{215}}{x_{13}}, d_{4} : r_{217}, d_{5} : \\frac{r_{216}}{x_{25}}, a_{12} : r_{218}, a_{13} : r_{219}, a_{14} : r_{220}, a_{15} : r_{221}, a_{23} : r_{222}, a_{24} : r_{223}, a_{25} : r_{224}, a_{34} : 0, a_{35} : \\frac{r_{218}}{x_{13}}, a_{45} : r_{225}\\right\\}\\right]</script></html>"
      ],
      "text/latex": [
       "$$\\newcommand{\\Bold}[1]{\\mathbf{#1}}\\left[\\left\\{d_{1} : r_{204}, d_{2} : 0, d_{3} : \\frac{r_{204}}{x_{13}}, d_{4} : r_{205}, d_{5} : 0, a_{12} : r_{206}, a_{13} : r_{207}, a_{14} : r_{208}, a_{15} : r_{209}, a_{23} : r_{210}, a_{24} : r_{211}, a_{25} : r_{212}, a_{34} : 0, a_{35} : r_{213}, a_{45} : r_{214}\\right\\}, \\left\\{d_{1} : r_{215}, d_{2} : r_{216}, d_{3} : \\frac{r_{215}}{x_{13}}, d_{4} : r_{217}, d_{5} : \\frac{r_{216}}{x_{25}}, a_{12} : r_{218}, a_{13} : r_{219}, a_{14} : r_{220}, a_{15} : r_{221}, a_{23} : r_{222}, a_{24} : r_{223}, a_{25} : r_{224}, a_{34} : 0, a_{35} : \\frac{r_{218}}{x_{13}}, a_{45} : r_{225}\\right\\}\\right]$$"
      ],
      "text/plain": [
       "[{d1: r204,\n",
       "  d2: 0,\n",
       "  d3: r204/x13,\n",
       "  d4: r205,\n",
       "  d5: 0,\n",
       "  a12: r206,\n",
       "  a13: r207,\n",
       "  a14: r208,\n",
       "  a15: r209,\n",
       "  a23: r210,\n",
       "  a24: r211,\n",
       "  a25: r212,\n",
       "  a34: 0,\n",
       "  a35: r213,\n",
       "  a45: r214},\n",
       " {d1: r215,\n",
       "  d2: r216,\n",
       "  d3: r215/x13,\n",
       "  d4: r217,\n",
       "  d5: r216/x25,\n",
       "  a12: r218,\n",
       "  a13: r219,\n",
       "  a14: r220,\n",
       "  a15: r221,\n",
       "  a23: r222,\n",
       "  a24: r223,\n",
       "  a25: r224,\n",
       "  a34: 0,\n",
       "  a35: r218/x13,\n",
       "  a45: r225}]"
      ]
     },
     "metadata": {},
     "output_type": "display_data"
    },
    {
     "data": {
      "text/plain": [
       "\\left[\\left\\{d_{1} : r_{204}, d_{2} : 0, d_{3} : \\frac{r_{204}}{x_{13}}, d_{4} : r_{205}, d_{5} : 0, a_{12} : r_{206}, a_{13} : r_{207}, a_{14} : r_{208}, a_{15} : r_{209}, a_{23} : r_{210}, a_{24} : r_{211}, a_{25} : r_{212}, a_{34} : 0, a_{35} : r_{213}, a_{45} : r_{214}\\right\\}, \\left\\{d_{1} : r_{215}, d_{2} : r_{216}, d_{3} : \\frac{r_{215}}{x_{13}}, d_{4} : r_{217}, d_{5} : \\frac{r_{216}}{x_{25}}, a_{12} : r_{218}, a_{13} : r_{219}, a_{14} : r_{220}, a_{15} : r_{221}, a_{23} : r_{222}, a_{24} : r_{223}, a_{25} : r_{224}, a_{34} : 0, a_{35} : \\frac{r_{218}}{x_{13}}, a_{45} : r_{225}\\right\\}\\right]"
      ]
     },
     "execution_count": 13,
     "metadata": {},
     "output_type": "execute_result"
    }
   ],
   "source": [
    "#x1\n",
    "reset()\n",
    "\n",
    "var('x12,x13,x14,x15,x23,x24,x25,x34,x35,x45')\n",
    "var('d1,d2,d3,d4,d5')\n",
    "var('a12,a13,a14,a15,a23,a24,a25,a34,a35,a45')\n",
    "\n",
    "load_attach_path('C:\\\\Users\\\\julia\\\\Documents\\\\unb\\\\doutorado\\\\pensar\\\\codigo_sage_v2\\\\maquina\\\\x1')\n",
    "load('out_#001100.sage')\n",
    "\n",
    "m=matrix(QQ, [[0, 0, 1, 0, 0],\n",
    "              [0, 0, 0, 0, 1],\n",
    "              [0, 0, 0, 0, 0],\n",
    "              [0, 0, 0, 0, 0],\n",
    "              [0, 0, 0, 0, 0]])\n",
    "        \n",
    "#entry of matrix: (i,j) line i collum j, means (i-1,j-1)\n",
    "sol=solve([ \teq1==m[0,2],\teq2==m[0,3],\teq3==m[0,4],\t\n",
    "                                            eq4==m[1,3],    eq5==m[1,4],\n",
    "                                                            eq6==m[2,4]],d1,d2,d3,d4,d5,a12,a13,a14,a15,a23,a24,a25,a34,a35,a45, solution_dict=True)\n",
    "\n",
    "show(m)\n",
    "show(sol)\n",
    "latex(sol)"
   ]
  },
  {
   "cell_type": "code",
   "execution_count": 14,
   "metadata": {},
   "outputs": [
    {
     "data": {
      "text/html": [
       "<html><script type=\"math/tex; mode=display\">\\newcommand{\\Bold}[1]{\\mathbf{#1}}\\left(\\begin{array}{rrrrr}\n",
       "0 & 0 & 1 & 0 & 0 \\\\\n",
       "0 & 0 & 0 & 0 & 1 \\\\\n",
       "0 & 0 & 0 & 0 & 0 \\\\\n",
       "0 & 0 & 0 & 0 & 0 \\\\\n",
       "0 & 0 & 0 & 0 & 0\n",
       "\\end{array}\\right)</script></html>"
      ],
      "text/latex": [
       "$$\\newcommand{\\Bold}[1]{\\mathbf{#1}}\\left(\\begin{array}{rrrrr}\n",
       "0 & 0 & 1 & 0 & 0 \\\\\n",
       "0 & 0 & 0 & 0 & 1 \\\\\n",
       "0 & 0 & 0 & 0 & 0 \\\\\n",
       "0 & 0 & 0 & 0 & 0 \\\\\n",
       "0 & 0 & 0 & 0 & 0\n",
       "\\end{array}\\right)$$"
      ],
      "text/plain": [
       "[0 0 1 0 0]\n",
       "[0 0 0 0 1]\n",
       "[0 0 0 0 0]\n",
       "[0 0 0 0 0]\n",
       "[0 0 0 0 0]"
      ]
     },
     "metadata": {},
     "output_type": "display_data"
    },
    {
     "data": {
      "text/html": [
       "<html><script type=\"math/tex; mode=display\">\\newcommand{\\Bold}[1]{\\mathbf{#1}}\\left[\\left\\{d_{1} : r_{226}, d_{2} : 0, d_{3} : \\frac{r_{226}}{x_{13}}, d_{4} : r_{227}, d_{5} : 0, a_{12} : r_{228}, a_{13} : r_{229}, a_{14} : r_{230}, a_{15} : r_{231}, a_{23} : r_{232}, a_{24} : r_{233}, a_{25} : r_{234}, a_{34} : 0, a_{35} : r_{235}, a_{45} : r_{236}\\right\\}, \\left\\{d_{1} : r_{237}, d_{2} : r_{238}, d_{3} : \\frac{r_{237}}{x_{13}}, d_{4} : r_{239}, d_{5} : \\frac{r_{238}}{x_{25}}, a_{12} : r_{240}, a_{13} : r_{241}, a_{14} : r_{242}, a_{15} : r_{243}, a_{23} : r_{244}, a_{24} : r_{245}, a_{25} : r_{246}, a_{34} : 0, a_{35} : -\\frac{r_{238} x_{15} - r_{240} x_{25}}{x_{13} x_{25}}, a_{45} : r_{247}\\right\\}\\right]</script></html>"
      ],
      "text/latex": [
       "$$\\newcommand{\\Bold}[1]{\\mathbf{#1}}\\left[\\left\\{d_{1} : r_{226}, d_{2} : 0, d_{3} : \\frac{r_{226}}{x_{13}}, d_{4} : r_{227}, d_{5} : 0, a_{12} : r_{228}, a_{13} : r_{229}, a_{14} : r_{230}, a_{15} : r_{231}, a_{23} : r_{232}, a_{24} : r_{233}, a_{25} : r_{234}, a_{34} : 0, a_{35} : r_{235}, a_{45} : r_{236}\\right\\}, \\left\\{d_{1} : r_{237}, d_{2} : r_{238}, d_{3} : \\frac{r_{237}}{x_{13}}, d_{4} : r_{239}, d_{5} : \\frac{r_{238}}{x_{25}}, a_{12} : r_{240}, a_{13} : r_{241}, a_{14} : r_{242}, a_{15} : r_{243}, a_{23} : r_{244}, a_{24} : r_{245}, a_{25} : r_{246}, a_{34} : 0, a_{35} : -\\frac{r_{238} x_{15} - r_{240} x_{25}}{x_{13} x_{25}}, a_{45} : r_{247}\\right\\}\\right]$$"
      ],
      "text/plain": [
       "[{d1: r226,\n",
       "  d2: 0,\n",
       "  d3: r226/x13,\n",
       "  d4: r227,\n",
       "  d5: 0,\n",
       "  a12: r228,\n",
       "  a13: r229,\n",
       "  a14: r230,\n",
       "  a15: r231,\n",
       "  a23: r232,\n",
       "  a24: r233,\n",
       "  a25: r234,\n",
       "  a34: 0,\n",
       "  a35: r235,\n",
       "  a45: r236},\n",
       " {d1: r237,\n",
       "  d2: r238,\n",
       "  d3: r237/x13,\n",
       "  d4: r239,\n",
       "  d5: r238/x25,\n",
       "  a12: r240,\n",
       "  a13: r241,\n",
       "  a14: r242,\n",
       "  a15: r243,\n",
       "  a23: r244,\n",
       "  a24: r245,\n",
       "  a25: r246,\n",
       "  a34: 0,\n",
       "  a35: -(r238*x15 - r240*x25)/(x13*x25),\n",
       "  a45: r247}]"
      ]
     },
     "metadata": {},
     "output_type": "display_data"
    },
    {
     "data": {
      "text/plain": [
       "\\left[\\left\\{d_{1} : r_{226}, d_{2} : 0, d_{3} : \\frac{r_{226}}{x_{13}}, d_{4} : r_{227}, d_{5} : 0, a_{12} : r_{228}, a_{13} : r_{229}, a_{14} : r_{230}, a_{15} : r_{231}, a_{23} : r_{232}, a_{24} : r_{233}, a_{25} : r_{234}, a_{34} : 0, a_{35} : r_{235}, a_{45} : r_{236}\\right\\}, \\left\\{d_{1} : r_{237}, d_{2} : r_{238}, d_{3} : \\frac{r_{237}}{x_{13}}, d_{4} : r_{239}, d_{5} : \\frac{r_{238}}{x_{25}}, a_{12} : r_{240}, a_{13} : r_{241}, a_{14} : r_{242}, a_{15} : r_{243}, a_{23} : r_{244}, a_{24} : r_{245}, a_{25} : r_{246}, a_{34} : 0, a_{35} : -\\frac{r_{238} x_{15} - r_{240} x_{25}}{x_{13} x_{25}}, a_{45} : r_{247}\\right\\}\\right]"
      ]
     },
     "execution_count": 14,
     "metadata": {},
     "output_type": "execute_result"
    }
   ],
   "source": [
    "#x1\n",
    "reset()\n",
    "\n",
    "var('x12,x13,x14,x15,x23,x24,x25,x34,x35,x45')\n",
    "var('d1,d2,d3,d4,d5')\n",
    "var('a12,a13,a14,a15,a23,a24,a25,a34,a35,a45')\n",
    "\n",
    "load_attach_path('C:\\\\Users\\\\julia\\\\Documents\\\\unb\\\\doutorado\\\\pensar\\\\codigo_sage_v2\\\\maquina\\\\x1')\n",
    "load('out_#001101.sage')\n",
    "\n",
    "m=matrix(QQ, [[0, 0, 1, 0, 0],\n",
    "              [0, 0, 0, 0, 1],\n",
    "              [0, 0, 0, 0, 0],\n",
    "              [0, 0, 0, 0, 0],\n",
    "              [0, 0, 0, 0, 0]])\n",
    "        \n",
    "#entry of matrix: (i,j) line i collum j, means (i-1,j-1)\n",
    "sol=solve([ \teq1==m[0,2],\teq2==m[0,3],\teq3==m[0,4],\t\n",
    "                                            eq4==m[1,3],    eq5==m[1,4],\n",
    "                                                            eq6==m[2,4]],d1,d2,d3,d4,d5,a12,a13,a14,a15,a23,a24,a25,a34,a35,a45, solution_dict=True)\n",
    "\n",
    "show(m)\n",
    "show(sol)\n",
    "latex(sol)"
   ]
  },
  {
   "cell_type": "code",
   "execution_count": 3,
   "metadata": {},
   "outputs": [
    {
     "data": {
      "text/html": [
       "<html><script type=\"math/tex; mode=display\">\\newcommand{\\Bold}[1]{\\mathbf{#1}}\\left(\\begin{array}{rrrrr}\n",
       "0 & 0 & 1 & 0 & 0 \\\\\n",
       "0 & 0 & 0 & 0 & 1 \\\\\n",
       "0 & 0 & 0 & 0 & 0 \\\\\n",
       "0 & 0 & 0 & 0 & 0 \\\\\n",
       "0 & 0 & 0 & 0 & 0\n",
       "\\end{array}\\right)</script></html>"
      ],
      "text/latex": [
       "$$\\newcommand{\\Bold}[1]{\\mathbf{#1}}\\left(\\begin{array}{rrrrr}\n",
       "0 & 0 & 1 & 0 & 0 \\\\\n",
       "0 & 0 & 0 & 0 & 1 \\\\\n",
       "0 & 0 & 0 & 0 & 0 \\\\\n",
       "0 & 0 & 0 & 0 & 0 \\\\\n",
       "0 & 0 & 0 & 0 & 0\n",
       "\\end{array}\\right)$$"
      ],
      "text/plain": [
       "[0 0 1 0 0]\n",
       "[0 0 0 0 1]\n",
       "[0 0 0 0 0]\n",
       "[0 0 0 0 0]\n",
       "[0 0 0 0 0]"
      ]
     },
     "metadata": {},
     "output_type": "display_data"
    },
    {
     "data": {
      "text/html": [
       "<html><script type=\"math/tex; mode=display\">\\newcommand{\\Bold}[1]{\\mathbf{#1}}\\left[\\left\\{d_{1} : r_{1}, d_{2} : 0, d_{3} : \\frac{r_{1}}{x_{13}}, d_{4} : r_{2}, d_{5} : 0, a_{12} : r_{3}, a_{13} : r_{4}, a_{14} : r_{5}, a_{15} : r_{6}, a_{23} : r_{7}, a_{24} : r_{8}, a_{25} : r_{9}, a_{34} : -\\frac{r_{2} x_{14}}{x_{13}}, a_{35} : r_{10}, a_{45} : r_{11}\\right\\}, \\left\\{d_{1} : r_{12}, d_{2} : r_{13}, d_{3} : \\frac{r_{12}}{x_{13}}, d_{4} : r_{14}, d_{5} : \\frac{r_{13}}{x_{25}}, a_{12} : r_{15}, a_{13} : r_{16}, a_{14} : r_{17}, a_{15} : r_{18}, a_{23} : r_{19}, a_{24} : r_{20}, a_{25} : r_{21}, a_{34} : -\\frac{r_{14} x_{14}}{x_{13}}, a_{35} : r_{22}, a_{45} : -\\frac{r_{22} x_{13} - r_{15}}{x_{14}}\\right\\}\\right]</script></html>"
      ],
      "text/latex": [
       "$$\\newcommand{\\Bold}[1]{\\mathbf{#1}}\\left[\\left\\{d_{1} : r_{1}, d_{2} : 0, d_{3} : \\frac{r_{1}}{x_{13}}, d_{4} : r_{2}, d_{5} : 0, a_{12} : r_{3}, a_{13} : r_{4}, a_{14} : r_{5}, a_{15} : r_{6}, a_{23} : r_{7}, a_{24} : r_{8}, a_{25} : r_{9}, a_{34} : -\\frac{r_{2} x_{14}}{x_{13}}, a_{35} : r_{10}, a_{45} : r_{11}\\right\\}, \\left\\{d_{1} : r_{12}, d_{2} : r_{13}, d_{3} : \\frac{r_{12}}{x_{13}}, d_{4} : r_{14}, d_{5} : \\frac{r_{13}}{x_{25}}, a_{12} : r_{15}, a_{13} : r_{16}, a_{14} : r_{17}, a_{15} : r_{18}, a_{23} : r_{19}, a_{24} : r_{20}, a_{25} : r_{21}, a_{34} : -\\frac{r_{14} x_{14}}{x_{13}}, a_{35} : r_{22}, a_{45} : -\\frac{r_{22} x_{13} - r_{15}}{x_{14}}\\right\\}\\right]$$"
      ],
      "text/plain": [
       "[{d1: r1,\n",
       "  d2: 0,\n",
       "  d3: r1/x13,\n",
       "  d4: r2,\n",
       "  d5: 0,\n",
       "  a12: r3,\n",
       "  a13: r4,\n",
       "  a14: r5,\n",
       "  a15: r6,\n",
       "  a23: r7,\n",
       "  a24: r8,\n",
       "  a25: r9,\n",
       "  a34: -r2*x14/x13,\n",
       "  a35: r10,\n",
       "  a45: r11},\n",
       " {d1: r12,\n",
       "  d2: r13,\n",
       "  d3: r12/x13,\n",
       "  d4: r14,\n",
       "  d5: r13/x25,\n",
       "  a12: r15,\n",
       "  a13: r16,\n",
       "  a14: r17,\n",
       "  a15: r18,\n",
       "  a23: r19,\n",
       "  a24: r20,\n",
       "  a25: r21,\n",
       "  a34: -r14*x14/x13,\n",
       "  a35: r22,\n",
       "  a45: -(r22*x13 - r15)/x14}]"
      ]
     },
     "metadata": {},
     "output_type": "display_data"
    },
    {
     "data": {
      "text/plain": [
       "\\left[\\left\\{d_{1} : r_{1}, d_{2} : 0, d_{3} : \\frac{r_{1}}{x_{13}}, d_{4} : r_{2}, d_{5} : 0, a_{12} : r_{3}, a_{13} : r_{4}, a_{14} : r_{5}, a_{15} : r_{6}, a_{23} : r_{7}, a_{24} : r_{8}, a_{25} : r_{9}, a_{34} : -\\frac{r_{2} x_{14}}{x_{13}}, a_{35} : r_{10}, a_{45} : r_{11}\\right\\}, \\left\\{d_{1} : r_{12}, d_{2} : r_{13}, d_{3} : \\frac{r_{12}}{x_{13}}, d_{4} : r_{14}, d_{5} : \\frac{r_{13}}{x_{25}}, a_{12} : r_{15}, a_{13} : r_{16}, a_{14} : r_{17}, a_{15} : r_{18}, a_{23} : r_{19}, a_{24} : r_{20}, a_{25} : r_{21}, a_{34} : -\\frac{r_{14} x_{14}}{x_{13}}, a_{35} : r_{22}, a_{45} : -\\frac{r_{22} x_{13} - r_{15}}{x_{14}}\\right\\}\\right]"
      ]
     },
     "execution_count": 3,
     "metadata": {},
     "output_type": "execute_result"
    }
   ],
   "source": [
    "#x1\n",
    "reset()\n",
    "\n",
    "var('x12,x13,x14,x15,x23,x24,x25,x34,x35,x45')\n",
    "var('d1,d2,d3,d4,d5')\n",
    "var('a12,a13,a14,a15,a23,a24,a25,a34,a35,a45')\n",
    "\n",
    "load_attach_path('C:\\\\Users\\\\julia\\\\Documents\\\\unb\\\\doutorado\\\\pensar\\\\codigo_sage_v2\\\\maquina\\\\x1')\n",
    "load('out_#001110.sage')\n",
    "\n",
    "m=matrix(QQ, [[0, 0, 1, 0, 0],\n",
    "              [0, 0, 0, 0, 1],\n",
    "              [0, 0, 0, 0, 0],\n",
    "              [0, 0, 0, 0, 0],\n",
    "              [0, 0, 0, 0, 0]])\n",
    "        \n",
    "#entry of matrix: (i,j) line i collum j, means (i-1,j-1)\n",
    "sol=solve([ \teq1==m[0,2],\teq2==m[0,3],\teq3==m[0,4],\t\n",
    "                                            eq4==m[1,3],    eq5==m[1,4],\n",
    "                                                            eq6==m[2,4]],d1,d2,d3,d4,d5,a12,a13,a14,a15,a23,a24,a25,a34,a35,a45, solution_dict=True)\n",
    "\n",
    "show(m)\n",
    "show(sol)\n",
    "latex(sol)"
   ]
  },
  {
   "cell_type": "code",
   "execution_count": 16,
   "metadata": {},
   "outputs": [
    {
     "data": {
      "text/html": [
       "<html><script type=\"math/tex; mode=display\">\\newcommand{\\Bold}[1]{\\mathbf{#1}}\\left(\\begin{array}{rrrrr}\n",
       "0 & 0 & 1 & 0 & 0 \\\\\n",
       "0 & 0 & 0 & 0 & 1 \\\\\n",
       "0 & 0 & 0 & 0 & 0 \\\\\n",
       "0 & 0 & 0 & 0 & 0 \\\\\n",
       "0 & 0 & 0 & 0 & 0\n",
       "\\end{array}\\right)</script></html>"
      ],
      "text/latex": [
       "$$\\newcommand{\\Bold}[1]{\\mathbf{#1}}\\left(\\begin{array}{rrrrr}\n",
       "0 & 0 & 1 & 0 & 0 \\\\\n",
       "0 & 0 & 0 & 0 & 1 \\\\\n",
       "0 & 0 & 0 & 0 & 0 \\\\\n",
       "0 & 0 & 0 & 0 & 0 \\\\\n",
       "0 & 0 & 0 & 0 & 0\n",
       "\\end{array}\\right)$$"
      ],
      "text/plain": [
       "[0 0 1 0 0]\n",
       "[0 0 0 0 1]\n",
       "[0 0 0 0 0]\n",
       "[0 0 0 0 0]\n",
       "[0 0 0 0 0]"
      ]
     },
     "metadata": {},
     "output_type": "display_data"
    },
    {
     "data": {
      "text/html": [
       "<html><script type=\"math/tex; mode=display\">\\newcommand{\\Bold}[1]{\\mathbf{#1}}\\left[\\left\\{d_{1} : r_{270}, d_{2} : 0, d_{3} : \\frac{r_{270}}{x_{13}}, d_{4} : r_{271}, d_{5} : 0, a_{12} : r_{272}, a_{13} : r_{273}, a_{14} : r_{274}, a_{15} : r_{275}, a_{23} : r_{276}, a_{24} : r_{277}, a_{25} : r_{278}, a_{34} : -\\frac{r_{271} x_{14}}{x_{13}}, a_{35} : r_{279}, a_{45} : r_{280}\\right\\}, \\left\\{d_{1} : r_{281}, d_{2} : r_{282}, d_{3} : \\frac{r_{281}}{x_{13}}, d_{4} : r_{283}, d_{5} : \\frac{r_{282}}{x_{25}}, a_{12} : r_{284}, a_{13} : r_{285}, a_{14} : r_{286}, a_{15} : r_{287}, a_{23} : r_{288}, a_{24} : r_{289}, a_{25} : r_{290}, a_{34} : -\\frac{r_{283} x_{14}}{x_{13}}, a_{35} : r_{291}, a_{45} : -\\frac{r_{282} x_{15} + {\\left(r_{291} x_{13} - r_{284}\\right)} x_{25}}{x_{14} x_{25}}\\right\\}\\right]</script></html>"
      ],
      "text/latex": [
       "$$\\newcommand{\\Bold}[1]{\\mathbf{#1}}\\left[\\left\\{d_{1} : r_{270}, d_{2} : 0, d_{3} : \\frac{r_{270}}{x_{13}}, d_{4} : r_{271}, d_{5} : 0, a_{12} : r_{272}, a_{13} : r_{273}, a_{14} : r_{274}, a_{15} : r_{275}, a_{23} : r_{276}, a_{24} : r_{277}, a_{25} : r_{278}, a_{34} : -\\frac{r_{271} x_{14}}{x_{13}}, a_{35} : r_{279}, a_{45} : r_{280}\\right\\}, \\left\\{d_{1} : r_{281}, d_{2} : r_{282}, d_{3} : \\frac{r_{281}}{x_{13}}, d_{4} : r_{283}, d_{5} : \\frac{r_{282}}{x_{25}}, a_{12} : r_{284}, a_{13} : r_{285}, a_{14} : r_{286}, a_{15} : r_{287}, a_{23} : r_{288}, a_{24} : r_{289}, a_{25} : r_{290}, a_{34} : -\\frac{r_{283} x_{14}}{x_{13}}, a_{35} : r_{291}, a_{45} : -\\frac{r_{282} x_{15} + {\\left(r_{291} x_{13} - r_{284}\\right)} x_{25}}{x_{14} x_{25}}\\right\\}\\right]$$"
      ],
      "text/plain": [
       "[{d1: r270,\n",
       "  d2: 0,\n",
       "  d3: r270/x13,\n",
       "  d4: r271,\n",
       "  d5: 0,\n",
       "  a12: r272,\n",
       "  a13: r273,\n",
       "  a14: r274,\n",
       "  a15: r275,\n",
       "  a23: r276,\n",
       "  a24: r277,\n",
       "  a25: r278,\n",
       "  a34: -r271*x14/x13,\n",
       "  a35: r279,\n",
       "  a45: r280},\n",
       " {d1: r281,\n",
       "  d2: r282,\n",
       "  d3: r281/x13,\n",
       "  d4: r283,\n",
       "  d5: r282/x25,\n",
       "  a12: r284,\n",
       "  a13: r285,\n",
       "  a14: r286,\n",
       "  a15: r287,\n",
       "  a23: r288,\n",
       "  a24: r289,\n",
       "  a25: r290,\n",
       "  a34: -r283*x14/x13,\n",
       "  a35: r291,\n",
       "  a45: -(r282*x15 + (r291*x13 - r284)*x25)/(x14*x25)}]"
      ]
     },
     "metadata": {},
     "output_type": "display_data"
    },
    {
     "data": {
      "text/plain": [
       "\\left[\\left\\{d_{1} : r_{270}, d_{2} : 0, d_{3} : \\frac{r_{270}}{x_{13}}, d_{4} : r_{271}, d_{5} : 0, a_{12} : r_{272}, a_{13} : r_{273}, a_{14} : r_{274}, a_{15} : r_{275}, a_{23} : r_{276}, a_{24} : r_{277}, a_{25} : r_{278}, a_{34} : -\\frac{r_{271} x_{14}}{x_{13}}, a_{35} : r_{279}, a_{45} : r_{280}\\right\\}, \\left\\{d_{1} : r_{281}, d_{2} : r_{282}, d_{3} : \\frac{r_{281}}{x_{13}}, d_{4} : r_{283}, d_{5} : \\frac{r_{282}}{x_{25}}, a_{12} : r_{284}, a_{13} : r_{285}, a_{14} : r_{286}, a_{15} : r_{287}, a_{23} : r_{288}, a_{24} : r_{289}, a_{25} : r_{290}, a_{34} : -\\frac{r_{283} x_{14}}{x_{13}}, a_{35} : r_{291}, a_{45} : -\\frac{r_{282} x_{15} + {\\left(r_{291} x_{13} - r_{284}\\right)} x_{25}}{x_{14} x_{25}}\\right\\}\\right]"
      ]
     },
     "execution_count": 16,
     "metadata": {},
     "output_type": "execute_result"
    }
   ],
   "source": [
    "#x1\n",
    "reset()\n",
    "\n",
    "var('x12,x13,x14,x15,x23,x24,x25,x34,x35,x45')\n",
    "var('d1,d2,d3,d4,d5')\n",
    "var('a12,a13,a14,a15,a23,a24,a25,a34,a35,a45')\n",
    "\n",
    "load_attach_path('C:\\\\Users\\\\julia\\\\Documents\\\\unb\\\\doutorado\\\\pensar\\\\codigo_sage_v2\\\\maquina\\\\x1')\n",
    "load('out_#001111.sage')\n",
    "\n",
    "m=matrix(QQ, [[0, 0, 1, 0, 0],\n",
    "              [0, 0, 0, 0, 1],\n",
    "              [0, 0, 0, 0, 0],\n",
    "              [0, 0, 0, 0, 0],\n",
    "              [0, 0, 0, 0, 0]])\n",
    "        \n",
    "#entry of matrix: (i,j) line i collum j, means (i-1,j-1)\n",
    "sol=solve([ \teq1==m[0,2],\teq2==m[0,3],\teq3==m[0,4],\t\n",
    "                                            eq4==m[1,3],    eq5==m[1,4],\n",
    "                                                            eq6==m[2,4]],d1,d2,d3,d4,d5,a12,a13,a14,a15,a23,a24,a25,a34,a35,a45, solution_dict=True)\n",
    "\n",
    "show(m)\n",
    "show(sol)\n",
    "latex(sol)"
   ]
  },
  {
   "cell_type": "code",
   "execution_count": 17,
   "metadata": {},
   "outputs": [
    {
     "data": {
      "text/html": [
       "<html><script type=\"math/tex; mode=display\">\\newcommand{\\Bold}[1]{\\mathbf{#1}}\\left(\\begin{array}{rrrrr}\n",
       "0 & 0 & 0 & 0 & 0 \\\\\n",
       "0 & 0 & 0 & 1 & 0 \\\\\n",
       "0 & 0 & 0 & 0 & 0 \\\\\n",
       "0 & 0 & 0 & 0 & 0 \\\\\n",
       "0 & 0 & 0 & 0 & 0\n",
       "\\end{array}\\right)</script></html>"
      ],
      "text/latex": [
       "$$\\newcommand{\\Bold}[1]{\\mathbf{#1}}\\left(\\begin{array}{rrrrr}\n",
       "0 & 0 & 0 & 0 & 0 \\\\\n",
       "0 & 0 & 0 & 1 & 0 \\\\\n",
       "0 & 0 & 0 & 0 & 0 \\\\\n",
       "0 & 0 & 0 & 0 & 0 \\\\\n",
       "0 & 0 & 0 & 0 & 0\n",
       "\\end{array}\\right)$$"
      ],
      "text/plain": [
       "[0 0 0 0 0]\n",
       "[0 0 0 1 0]\n",
       "[0 0 0 0 0]\n",
       "[0 0 0 0 0]\n",
       "[0 0 0 0 0]"
      ]
     },
     "metadata": {},
     "output_type": "display_data"
    },
    {
     "data": {
      "text/html": [
       "<html><script type=\"math/tex; mode=display\">\\newcommand{\\Bold}[1]{\\mathbf{#1}}\\left[\\left\\{d_{1} : r_{292}, d_{2} : r_{293}, d_{3} : r_{294}, d_{4} : \\frac{r_{293}}{x_{24}}, d_{5} : r_{295}, a_{12} : 0, a_{13} : r_{296}, a_{14} : r_{297}, a_{15} : r_{298}, a_{23} : r_{299}, a_{24} : r_{300}, a_{25} : r_{301}, a_{34} : r_{302}, a_{35} : r_{303}, a_{45} : 0\\right\\}, \\left\\{d_{1} : r_{304}, d_{2} : 0, d_{3} : r_{305}, d_{4} : 0, d_{5} : r_{306}, a_{12} : r_{307}, a_{13} : r_{308}, a_{14} : r_{309}, a_{15} : r_{310}, a_{23} : r_{311}, a_{24} : r_{312}, a_{25} : r_{313}, a_{34} : r_{314}, a_{35} : r_{315}, a_{45} : 0\\right\\}\\right]</script></html>"
      ],
      "text/latex": [
       "$$\\newcommand{\\Bold}[1]{\\mathbf{#1}}\\left[\\left\\{d_{1} : r_{292}, d_{2} : r_{293}, d_{3} : r_{294}, d_{4} : \\frac{r_{293}}{x_{24}}, d_{5} : r_{295}, a_{12} : 0, a_{13} : r_{296}, a_{14} : r_{297}, a_{15} : r_{298}, a_{23} : r_{299}, a_{24} : r_{300}, a_{25} : r_{301}, a_{34} : r_{302}, a_{35} : r_{303}, a_{45} : 0\\right\\}, \\left\\{d_{1} : r_{304}, d_{2} : 0, d_{3} : r_{305}, d_{4} : 0, d_{5} : r_{306}, a_{12} : r_{307}, a_{13} : r_{308}, a_{14} : r_{309}, a_{15} : r_{310}, a_{23} : r_{311}, a_{24} : r_{312}, a_{25} : r_{313}, a_{34} : r_{314}, a_{35} : r_{315}, a_{45} : 0\\right\\}\\right]$$"
      ],
      "text/plain": [
       "[{d1: r292,\n",
       "  d2: r293,\n",
       "  d3: r294,\n",
       "  d4: r293/x24,\n",
       "  d5: r295,\n",
       "  a12: 0,\n",
       "  a13: r296,\n",
       "  a14: r297,\n",
       "  a15: r298,\n",
       "  a23: r299,\n",
       "  a24: r300,\n",
       "  a25: r301,\n",
       "  a34: r302,\n",
       "  a35: r303,\n",
       "  a45: 0},\n",
       " {d1: r304,\n",
       "  d2: 0,\n",
       "  d3: r305,\n",
       "  d4: 0,\n",
       "  d5: r306,\n",
       "  a12: r307,\n",
       "  a13: r308,\n",
       "  a14: r309,\n",
       "  a15: r310,\n",
       "  a23: r311,\n",
       "  a24: r312,\n",
       "  a25: r313,\n",
       "  a34: r314,\n",
       "  a35: r315,\n",
       "  a45: 0}]"
      ]
     },
     "metadata": {},
     "output_type": "display_data"
    },
    {
     "data": {
      "text/plain": [
       "\\left[\\left\\{d_{1} : r_{292}, d_{2} : r_{293}, d_{3} : r_{294}, d_{4} : \\frac{r_{293}}{x_{24}}, d_{5} : r_{295}, a_{12} : 0, a_{13} : r_{296}, a_{14} : r_{297}, a_{15} : r_{298}, a_{23} : r_{299}, a_{24} : r_{300}, a_{25} : r_{301}, a_{34} : r_{302}, a_{35} : r_{303}, a_{45} : 0\\right\\}, \\left\\{d_{1} : r_{304}, d_{2} : 0, d_{3} : r_{305}, d_{4} : 0, d_{5} : r_{306}, a_{12} : r_{307}, a_{13} : r_{308}, a_{14} : r_{309}, a_{15} : r_{310}, a_{23} : r_{311}, a_{24} : r_{312}, a_{25} : r_{313}, a_{34} : r_{314}, a_{35} : r_{315}, a_{45} : 0\\right\\}\\right]"
      ]
     },
     "execution_count": 17,
     "metadata": {},
     "output_type": "execute_result"
    }
   ],
   "source": [
    "#x1\n",
    "reset()\n",
    "\n",
    "var('x12,x13,x14,x15,x23,x24,x25,x34,x35,x45')\n",
    "var('d1,d2,d3,d4,d5')\n",
    "var('a12,a13,a14,a15,a23,a24,a25,a34,a35,a45')\n",
    "\n",
    "load_attach_path('C:\\\\Users\\\\julia\\\\Documents\\\\unb\\\\doutorado\\\\pensar\\\\codigo_sage_v2\\\\maquina\\\\x1')\n",
    "load('out_#010000.sage')\n",
    "\n",
    "m=matrix(QQ, [[0, 0, 0, 0, 0],\n",
    "              [0, 0, 0, 1, 0],\n",
    "              [0, 0, 0, 0, 0],\n",
    "              [0, 0, 0, 0, 0],\n",
    "              [0, 0, 0, 0, 0]])\n",
    "        \n",
    "#entry of matrix: (i,j) line i collum j, means (i-1,j-1)\n",
    "sol=solve([ \teq1==m[0,2],\teq2==m[0,3],\teq3==m[0,4],\t\n",
    "                                            eq4==m[1,3],    eq5==m[1,4],\n",
    "                                                            eq6==m[2,4]],d1,d2,d3,d4,d5,a12,a13,a14,a15,a23,a24,a25,a34,a35,a45, solution_dict=True)\n",
    "\n",
    "show(m)\n",
    "show(sol)\n",
    "latex(sol)"
   ]
  },
  {
   "cell_type": "code",
   "execution_count": 5,
   "metadata": {},
   "outputs": [
    {
     "data": {
      "text/html": [
       "<html><script type=\"math/tex; mode=display\">\\newcommand{\\Bold}[1]{\\mathbf{#1}}\\left(\\begin{array}{rrrrr}\n",
       "0 & 0 & 0 & 1 & 0 \\\\\n",
       "0 & 0 & 0 & 1 & 1 \\\\\n",
       "0 & 0 & 0 & 0 & 0 \\\\\n",
       "0 & 0 & 0 & 0 & 0 \\\\\n",
       "0 & 0 & 0 & 0 & 0\n",
       "\\end{array}\\right)</script></html>"
      ],
      "text/latex": [
       "$$\\newcommand{\\Bold}[1]{\\mathbf{#1}}\\left(\\begin{array}{rrrrr}\n",
       "0 & 0 & 0 & 1 & 0 \\\\\n",
       "0 & 0 & 0 & 1 & 1 \\\\\n",
       "0 & 0 & 0 & 0 & 0 \\\\\n",
       "0 & 0 & 0 & 0 & 0 \\\\\n",
       "0 & 0 & 0 & 0 & 0\n",
       "\\end{array}\\right)$$"
      ],
      "text/plain": [
       "[0 0 0 1 0]\n",
       "[0 0 0 1 1]\n",
       "[0 0 0 0 0]\n",
       "[0 0 0 0 0]\n",
       "[0 0 0 0 0]"
      ]
     },
     "metadata": {},
     "output_type": "display_data"
    },
    {
     "data": {
      "text/html": [
       "<html><script type=\"math/tex; mode=display\">\\newcommand{\\Bold}[1]{\\mathbf{#1}}\\left[\\left\\{d_{1} : r_{44}, d_{2} : 0, d_{3} : r_{45}, d_{4} : 0, d_{5} : r_{46}, a_{12} : r_{47}, a_{13} : r_{48}, a_{14} : r_{49}, a_{15} : r_{50}, a_{23} : r_{51}, a_{24} : r_{52}, a_{25} : r_{53}, a_{34} : r_{54}, a_{35} : r_{55}, a_{45} : 0\\right\\}, \\left\\{d_{1} : r_{56}, d_{2} : r_{57}, d_{3} : r_{58}, d_{4} : \\frac{r_{57}}{x_{24}}, d_{5} : -\\frac{r_{56}}{x_{15}}, a_{12} : -r_{56}, a_{13} : r_{59}, a_{14} : r_{60}, a_{15} : r_{61}, a_{23} : r_{62}, a_{24} : r_{63}, a_{25} : r_{64}, a_{34} : r_{65}, a_{35} : r_{66}, a_{45} : \\frac{r_{57}}{x_{24}}\\right\\}\\right]</script></html>"
      ],
      "text/latex": [
       "$$\\newcommand{\\Bold}[1]{\\mathbf{#1}}\\left[\\left\\{d_{1} : r_{44}, d_{2} : 0, d_{3} : r_{45}, d_{4} : 0, d_{5} : r_{46}, a_{12} : r_{47}, a_{13} : r_{48}, a_{14} : r_{49}, a_{15} : r_{50}, a_{23} : r_{51}, a_{24} : r_{52}, a_{25} : r_{53}, a_{34} : r_{54}, a_{35} : r_{55}, a_{45} : 0\\right\\}, \\left\\{d_{1} : r_{56}, d_{2} : r_{57}, d_{3} : r_{58}, d_{4} : \\frac{r_{57}}{x_{24}}, d_{5} : -\\frac{r_{56}}{x_{15}}, a_{12} : -r_{56}, a_{13} : r_{59}, a_{14} : r_{60}, a_{15} : r_{61}, a_{23} : r_{62}, a_{24} : r_{63}, a_{25} : r_{64}, a_{34} : r_{65}, a_{35} : r_{66}, a_{45} : \\frac{r_{57}}{x_{24}}\\right\\}\\right]$$"
      ],
      "text/plain": [
       "[{d1: r44,\n",
       "  d2: 0,\n",
       "  d3: r45,\n",
       "  d4: 0,\n",
       "  d5: r46,\n",
       "  a12: r47,\n",
       "  a13: r48,\n",
       "  a14: r49,\n",
       "  a15: r50,\n",
       "  a23: r51,\n",
       "  a24: r52,\n",
       "  a25: r53,\n",
       "  a34: r54,\n",
       "  a35: r55,\n",
       "  a45: 0},\n",
       " {d1: r56,\n",
       "  d2: r57,\n",
       "  d3: r58,\n",
       "  d4: r57/x24,\n",
       "  d5: -r56/x15,\n",
       "  a12: -r56,\n",
       "  a13: r59,\n",
       "  a14: r60,\n",
       "  a15: r61,\n",
       "  a23: r62,\n",
       "  a24: r63,\n",
       "  a25: r64,\n",
       "  a34: r65,\n",
       "  a35: r66,\n",
       "  a45: r57/x24}]"
      ]
     },
     "metadata": {},
     "output_type": "display_data"
    },
    {
     "data": {
      "text/plain": [
       "\\left[\\left\\{d_{1} : r_{44}, d_{2} : 0, d_{3} : r_{45}, d_{4} : 0, d_{5} : r_{46}, a_{12} : r_{47}, a_{13} : r_{48}, a_{14} : r_{49}, a_{15} : r_{50}, a_{23} : r_{51}, a_{24} : r_{52}, a_{25} : r_{53}, a_{34} : r_{54}, a_{35} : r_{55}, a_{45} : 0\\right\\}, \\left\\{d_{1} : r_{56}, d_{2} : r_{57}, d_{3} : r_{58}, d_{4} : \\frac{r_{57}}{x_{24}}, d_{5} : -\\frac{r_{56}}{x_{15}}, a_{12} : -r_{56}, a_{13} : r_{59}, a_{14} : r_{60}, a_{15} : r_{61}, a_{23} : r_{62}, a_{24} : r_{63}, a_{25} : r_{64}, a_{34} : r_{65}, a_{35} : r_{66}, a_{45} : \\frac{r_{57}}{x_{24}}\\right\\}\\right]"
      ]
     },
     "execution_count": 5,
     "metadata": {},
     "output_type": "execute_result"
    }
   ],
   "source": [
    "#x1\n",
    "reset()\n",
    "\n",
    "var('x12,x13,x14,x15,x23,x24,x25,x34,x35,x45')\n",
    "var('d1,d2,d3,d4,d5')\n",
    "var('a12,a13,a14,a15,a23,a24,a25,a34,a35,a45')\n",
    "\n",
    "load_attach_path('C:\\\\Users\\\\julia\\\\Documents\\\\unb\\\\doutorado\\\\pensar\\\\codigo_sage_v2\\\\maquina\\\\x1')\n",
    "load('out_#010001.sage')\n",
    "\n",
    "m=matrix(QQ, [[0, 0, 0, 1, 0],\n",
    "              [0, 0, 0, 1, 1],\n",
    "              [0, 0, 0, 0, 0],\n",
    "              [0, 0, 0, 0, 0],\n",
    "              [0, 0, 0, 0, 0]])\n",
    "        \n",
    "#entry of matrix: (i,j) line i collum j, means (i-1,j-1)\n",
    "sol=solve([ \teq1==m[0,2],\teq2==m[0,3],\teq3==m[0,4],\t\n",
    "                                            eq4==m[1,3],    eq5==m[1,4],\n",
    "                                                            eq6==m[2,4]],d1,d2,d3,d4,d5,a12,a13,a14,a15,a23,a24,a25,a34,a35,a45, solution_dict=True)\n",
    "\n",
    "show(m)\n",
    "show(sol)\n",
    "latex(sol)"
   ]
  },
  {
   "cell_type": "code",
   "execution_count": 4,
   "metadata": {},
   "outputs": [
    {
     "data": {
      "text/html": [
       "<html><script type=\"math/tex; mode=display\">\\newcommand{\\Bold}[1]{\\mathbf{#1}}\\left(\\begin{array}{rrrrr}\n",
       "0 & 0 & 0 & 0 & 0 \\\\\n",
       "0 & 0 & 0 & 1 & 0 \\\\\n",
       "0 & 0 & 0 & 0 & 0 \\\\\n",
       "0 & 0 & 0 & 0 & 0 \\\\\n",
       "0 & 0 & 0 & 0 & 0\n",
       "\\end{array}\\right)</script></html>"
      ],
      "text/latex": [
       "$$\\newcommand{\\Bold}[1]{\\mathbf{#1}}\\left(\\begin{array}{rrrrr}\n",
       "0 & 0 & 0 & 0 & 0 \\\\\n",
       "0 & 0 & 0 & 1 & 0 \\\\\n",
       "0 & 0 & 0 & 0 & 0 \\\\\n",
       "0 & 0 & 0 & 0 & 0 \\\\\n",
       "0 & 0 & 0 & 0 & 0\n",
       "\\end{array}\\right)$$"
      ],
      "text/plain": [
       "[0 0 0 0 0]\n",
       "[0 0 0 1 0]\n",
       "[0 0 0 0 0]\n",
       "[0 0 0 0 0]\n",
       "[0 0 0 0 0]"
      ]
     },
     "metadata": {},
     "output_type": "display_data"
    },
    {
     "data": {
      "text/html": [
       "<html><script type=\"math/tex; mode=display\">\\newcommand{\\Bold}[1]{\\mathbf{#1}}\\left[\\left\\{d_{1} : r_{70}, d_{2} : 0, d_{3} : r_{71}, d_{4} : 0, d_{5} : r_{72}, a_{12} : r_{73}, a_{13} : r_{74}, a_{14} : r_{75}, a_{15} : r_{76}, a_{23} : r_{77}, a_{24} : r_{78}, a_{25} : r_{79}, a_{34} : r_{80}, a_{35} : r_{81}, a_{45} : 0\\right\\}, \\left\\{d_{1} : r_{82}, d_{2} : r_{83}, d_{3} : r_{84}, d_{4} : \\frac{r_{83}}{x_{24}}, d_{5} : r_{85}, a_{12} : \\frac{r_{83} x_{14}}{x_{24}}, a_{13} : r_{86}, a_{14} : r_{87}, a_{15} : r_{88}, a_{23} : r_{89}, a_{24} : r_{90}, a_{25} : r_{91}, a_{34} : r_{92}, a_{35} : r_{93}, a_{45} : 0\\right\\}\\right]</script></html>"
      ],
      "text/latex": [
       "$$\\newcommand{\\Bold}[1]{\\mathbf{#1}}\\left[\\left\\{d_{1} : r_{70}, d_{2} : 0, d_{3} : r_{71}, d_{4} : 0, d_{5} : r_{72}, a_{12} : r_{73}, a_{13} : r_{74}, a_{14} : r_{75}, a_{15} : r_{76}, a_{23} : r_{77}, a_{24} : r_{78}, a_{25} : r_{79}, a_{34} : r_{80}, a_{35} : r_{81}, a_{45} : 0\\right\\}, \\left\\{d_{1} : r_{82}, d_{2} : r_{83}, d_{3} : r_{84}, d_{4} : \\frac{r_{83}}{x_{24}}, d_{5} : r_{85}, a_{12} : \\frac{r_{83} x_{14}}{x_{24}}, a_{13} : r_{86}, a_{14} : r_{87}, a_{15} : r_{88}, a_{23} : r_{89}, a_{24} : r_{90}, a_{25} : r_{91}, a_{34} : r_{92}, a_{35} : r_{93}, a_{45} : 0\\right\\}\\right]$$"
      ],
      "text/plain": [
       "[{d1: r70,\n",
       "  d2: 0,\n",
       "  d3: r71,\n",
       "  d4: 0,\n",
       "  d5: r72,\n",
       "  a12: r73,\n",
       "  a13: r74,\n",
       "  a14: r75,\n",
       "  a15: r76,\n",
       "  a23: r77,\n",
       "  a24: r78,\n",
       "  a25: r79,\n",
       "  a34: r80,\n",
       "  a35: r81,\n",
       "  a45: 0},\n",
       " {d1: r82,\n",
       "  d2: r83,\n",
       "  d3: r84,\n",
       "  d4: r83/x24,\n",
       "  d5: r85,\n",
       "  a12: r83*x14/x24,\n",
       "  a13: r86,\n",
       "  a14: r87,\n",
       "  a15: r88,\n",
       "  a23: r89,\n",
       "  a24: r90,\n",
       "  a25: r91,\n",
       "  a34: r92,\n",
       "  a35: r93,\n",
       "  a45: 0}]"
      ]
     },
     "metadata": {},
     "output_type": "display_data"
    },
    {
     "data": {
      "text/plain": [
       "\\left[\\left\\{d_{1} : r_{70}, d_{2} : 0, d_{3} : r_{71}, d_{4} : 0, d_{5} : r_{72}, a_{12} : r_{73}, a_{13} : r_{74}, a_{14} : r_{75}, a_{15} : r_{76}, a_{23} : r_{77}, a_{24} : r_{78}, a_{25} : r_{79}, a_{34} : r_{80}, a_{35} : r_{81}, a_{45} : 0\\right\\}, \\left\\{d_{1} : r_{82}, d_{2} : r_{83}, d_{3} : r_{84}, d_{4} : \\frac{r_{83}}{x_{24}}, d_{5} : r_{85}, a_{12} : \\frac{r_{83} x_{14}}{x_{24}}, a_{13} : r_{86}, a_{14} : r_{87}, a_{15} : r_{88}, a_{23} : r_{89}, a_{24} : r_{90}, a_{25} : r_{91}, a_{34} : r_{92}, a_{35} : r_{93}, a_{45} : 0\\right\\}\\right]"
      ]
     },
     "execution_count": 4,
     "metadata": {},
     "output_type": "execute_result"
    }
   ],
   "source": [
    "#x1\n",
    "reset()\n",
    "\n",
    "var('x12,x13,x14,x15,x23,x24,x25,x34,x35,x45')\n",
    "var('d1,d2,d3,d4,d5')\n",
    "var('a12,a13,a14,a15,a23,a24,a25,a34,a35,a45')\n",
    "\n",
    "load_attach_path('C:\\\\Users\\\\julia\\\\Documents\\\\unb\\\\doutorado\\\\pensar\\\\codigo_sage_v2\\\\maquina\\\\x1')\n",
    "load('out_#010010.sage')\n",
    "\n",
    "m=matrix(QQ, [[0, 0, 0, 0, 0],\n",
    "              [0, 0, 0, 1, 0],\n",
    "              [0, 0, 0, 0, 0],\n",
    "              [0, 0, 0, 0, 0],\n",
    "              [0, 0, 0, 0, 0]])\n",
    "        \n",
    "#entry of matrix: (i,j) line i collum j, means (i-1,j-1)\n",
    "sol=solve([ \teq1==m[0,2],\teq2==m[0,3],\teq3==m[0,4],\t\n",
    "                                            eq4==m[1,3],    eq5==m[1,4],\n",
    "                                                            eq6==m[2,4]],d1,d2,d3,d4,d5,a12,a13,a14,a15,a23,a24,a25,a34,a35,a45, solution_dict=True)\n",
    "\n",
    "show(m)\n",
    "show(sol)\n",
    "latex(sol)"
   ]
  },
  {
   "cell_type": "code",
   "execution_count": 6,
   "metadata": {},
   "outputs": [
    {
     "data": {
      "text/html": [
       "<html><script type=\"math/tex; mode=display\">\\newcommand{\\Bold}[1]{\\mathbf{#1}}\\left(\\begin{array}{rrrrr}\n",
       "0 & 0 & 0 & 1 & 0 \\\\\n",
       "0 & 0 & 0 & 1 & 1 \\\\\n",
       "0 & 0 & 0 & 0 & 0 \\\\\n",
       "0 & 0 & 0 & 0 & 0 \\\\\n",
       "0 & 0 & 0 & 0 & 0\n",
       "\\end{array}\\right)</script></html>"
      ],
      "text/latex": [
       "$$\\newcommand{\\Bold}[1]{\\mathbf{#1}}\\left(\\begin{array}{rrrrr}\n",
       "0 & 0 & 0 & 1 & 0 \\\\\n",
       "0 & 0 & 0 & 1 & 1 \\\\\n",
       "0 & 0 & 0 & 0 & 0 \\\\\n",
       "0 & 0 & 0 & 0 & 0 \\\\\n",
       "0 & 0 & 0 & 0 & 0\n",
       "\\end{array}\\right)$$"
      ],
      "text/plain": [
       "[0 0 0 1 0]\n",
       "[0 0 0 1 1]\n",
       "[0 0 0 0 0]\n",
       "[0 0 0 0 0]\n",
       "[0 0 0 0 0]"
      ]
     },
     "metadata": {},
     "output_type": "display_data"
    },
    {
     "data": {
      "text/html": [
       "<html><script type=\"math/tex; mode=display\">\\newcommand{\\Bold}[1]{\\mathbf{#1}}\\left[\\left\\{d_{1} : r_{117}, d_{2} : 0, d_{3} : r_{118}, d_{4} : 0, d_{5} : r_{119}, a_{12} : r_{120}, a_{13} : r_{121}, a_{14} : r_{122}, a_{15} : r_{123}, a_{23} : r_{124}, a_{24} : r_{125}, a_{25} : r_{126}, a_{34} : r_{127}, a_{35} : r_{128}, a_{45} : 0\\right\\}, \\left\\{d_{1} : r_{129}, d_{2} : r_{130}, d_{3} : r_{131}, d_{4} : \\frac{r_{130}}{x_{24}}, d_{5} : -\\frac{r_{129}}{x_{15}}, a_{12} : \\frac{r_{130} x_{14} - r_{129} x_{24}}{x_{24}}, a_{13} : r_{132}, a_{14} : r_{133}, a_{15} : r_{134}, a_{23} : r_{135}, a_{24} : r_{136}, a_{25} : r_{137}, a_{34} : r_{138}, a_{35} : r_{139}, a_{45} : \\frac{r_{130}}{x_{24}}\\right\\}\\right]</script></html>"
      ],
      "text/latex": [
       "$$\\newcommand{\\Bold}[1]{\\mathbf{#1}}\\left[\\left\\{d_{1} : r_{117}, d_{2} : 0, d_{3} : r_{118}, d_{4} : 0, d_{5} : r_{119}, a_{12} : r_{120}, a_{13} : r_{121}, a_{14} : r_{122}, a_{15} : r_{123}, a_{23} : r_{124}, a_{24} : r_{125}, a_{25} : r_{126}, a_{34} : r_{127}, a_{35} : r_{128}, a_{45} : 0\\right\\}, \\left\\{d_{1} : r_{129}, d_{2} : r_{130}, d_{3} : r_{131}, d_{4} : \\frac{r_{130}}{x_{24}}, d_{5} : -\\frac{r_{129}}{x_{15}}, a_{12} : \\frac{r_{130} x_{14} - r_{129} x_{24}}{x_{24}}, a_{13} : r_{132}, a_{14} : r_{133}, a_{15} : r_{134}, a_{23} : r_{135}, a_{24} : r_{136}, a_{25} : r_{137}, a_{34} : r_{138}, a_{35} : r_{139}, a_{45} : \\frac{r_{130}}{x_{24}}\\right\\}\\right]$$"
      ],
      "text/plain": [
       "[{d1: r117,\n",
       "  d2: 0,\n",
       "  d3: r118,\n",
       "  d4: 0,\n",
       "  d5: r119,\n",
       "  a12: r120,\n",
       "  a13: r121,\n",
       "  a14: r122,\n",
       "  a15: r123,\n",
       "  a23: r124,\n",
       "  a24: r125,\n",
       "  a25: r126,\n",
       "  a34: r127,\n",
       "  a35: r128,\n",
       "  a45: 0},\n",
       " {d1: r129,\n",
       "  d2: r130,\n",
       "  d3: r131,\n",
       "  d4: r130/x24,\n",
       "  d5: -r129/x15,\n",
       "  a12: (r130*x14 - r129*x24)/x24,\n",
       "  a13: r132,\n",
       "  a14: r133,\n",
       "  a15: r134,\n",
       "  a23: r135,\n",
       "  a24: r136,\n",
       "  a25: r137,\n",
       "  a34: r138,\n",
       "  a35: r139,\n",
       "  a45: r130/x24}]"
      ]
     },
     "metadata": {},
     "output_type": "display_data"
    },
    {
     "data": {
      "text/plain": [
       "\\left[\\left\\{d_{1} : r_{117}, d_{2} : 0, d_{3} : r_{118}, d_{4} : 0, d_{5} : r_{119}, a_{12} : r_{120}, a_{13} : r_{121}, a_{14} : r_{122}, a_{15} : r_{123}, a_{23} : r_{124}, a_{24} : r_{125}, a_{25} : r_{126}, a_{34} : r_{127}, a_{35} : r_{128}, a_{45} : 0\\right\\}, \\left\\{d_{1} : r_{129}, d_{2} : r_{130}, d_{3} : r_{131}, d_{4} : \\frac{r_{130}}{x_{24}}, d_{5} : -\\frac{r_{129}}{x_{15}}, a_{12} : \\frac{r_{130} x_{14} - r_{129} x_{24}}{x_{24}}, a_{13} : r_{132}, a_{14} : r_{133}, a_{15} : r_{134}, a_{23} : r_{135}, a_{24} : r_{136}, a_{25} : r_{137}, a_{34} : r_{138}, a_{35} : r_{139}, a_{45} : \\frac{r_{130}}{x_{24}}\\right\\}\\right]"
      ]
     },
     "execution_count": 6,
     "metadata": {},
     "output_type": "execute_result"
    }
   ],
   "source": [
    "#x1\n",
    "reset()\n",
    "\n",
    "var('x12,x13,x14,x15,x23,x24,x25,x34,x35,x45')\n",
    "var('d1,d2,d3,d4,d5')\n",
    "var('a12,a13,a14,a15,a23,a24,a25,a34,a35,a45')\n",
    "\n",
    "load_attach_path('C:\\\\Users\\\\julia\\\\Documents\\\\unb\\\\doutorado\\\\pensar\\\\codigo_sage_v2\\\\maquina\\\\x1')\n",
    "load('out_#010011.sage')\n",
    "\n",
    "m=matrix(QQ, [[0, 0, 0, 1, 0],\n",
    "              [0, 0, 0, 1, 1],\n",
    "              [0, 0, 0, 0, 0],\n",
    "              [0, 0, 0, 0, 0],\n",
    "              [0, 0, 0, 0, 0]])\n",
    "        \n",
    "#entry of matrix: (i,j) line i collum j, means (i-1,j-1)\n",
    "sol=solve([ \teq1==m[0,2],\teq2==m[0,3],\teq3==m[0,4],\t\n",
    "                                            eq4==m[1,3],    eq5==m[1,4],\n",
    "                                                            eq6==m[2,4]],d1,d2,d3,d4,d5,a12,a13,a14,a15,a23,a24,a25,a34,a35,a45, solution_dict=True)\n",
    "\n",
    "show(m)\n",
    "show(sol)\n",
    "latex(sol)"
   ]
  },
  {
   "cell_type": "code",
   "execution_count": 21,
   "metadata": {},
   "outputs": [
    {
     "data": {
      "text/html": [
       "<html><script type=\"math/tex; mode=display\">\\newcommand{\\Bold}[1]{\\mathbf{#1}}\\left(\\begin{array}{rrrrr}\n",
       "0 & 0 & 1 & 0 & 0 \\\\\n",
       "0 & 0 & 0 & 1 & 0 \\\\\n",
       "0 & 0 & 0 & 0 & 0 \\\\\n",
       "0 & 0 & 0 & 0 & 0 \\\\\n",
       "0 & 0 & 0 & 0 & 0\n",
       "\\end{array}\\right)</script></html>"
      ],
      "text/latex": [
       "$$\\newcommand{\\Bold}[1]{\\mathbf{#1}}\\left(\\begin{array}{rrrrr}\n",
       "0 & 0 & 1 & 0 & 0 \\\\\n",
       "0 & 0 & 0 & 1 & 0 \\\\\n",
       "0 & 0 & 0 & 0 & 0 \\\\\n",
       "0 & 0 & 0 & 0 & 0 \\\\\n",
       "0 & 0 & 0 & 0 & 0\n",
       "\\end{array}\\right)$$"
      ],
      "text/plain": [
       "[0 0 1 0 0]\n",
       "[0 0 0 1 0]\n",
       "[0 0 0 0 0]\n",
       "[0 0 0 0 0]\n",
       "[0 0 0 0 0]"
      ]
     },
     "metadata": {},
     "output_type": "display_data"
    },
    {
     "data": {
      "text/html": [
       "<html><script type=\"math/tex; mode=display\">\\newcommand{\\Bold}[1]{\\mathbf{#1}}\\left[\\left\\{d_{1} : r_{386}, d_{2} : 0, d_{3} : \\frac{r_{386}}{x_{13}}, d_{4} : 0, d_{5} : r_{387}, a_{12} : r_{388}, a_{13} : r_{389}, a_{14} : r_{390}, a_{15} : r_{391}, a_{23} : r_{392}, a_{24} : r_{393}, a_{25} : r_{394}, a_{34} : r_{395}, a_{35} : r_{396}, a_{45} : 0\\right\\}, \\left\\{d_{1} : r_{397}, d_{2} : r_{398}, d_{3} : \\frac{r_{397}}{x_{13}}, d_{4} : \\frac{r_{398}}{x_{24}}, d_{5} : r_{399}, a_{12} : r_{400}, a_{13} : r_{401}, a_{14} : r_{402}, a_{15} : r_{403}, a_{23} : r_{404}, a_{24} : r_{405}, a_{25} : r_{406}, a_{34} : \\frac{r_{400}}{x_{13}}, a_{35} : 0, a_{45} : 0\\right\\}\\right]</script></html>"
      ],
      "text/latex": [
       "$$\\newcommand{\\Bold}[1]{\\mathbf{#1}}\\left[\\left\\{d_{1} : r_{386}, d_{2} : 0, d_{3} : \\frac{r_{386}}{x_{13}}, d_{4} : 0, d_{5} : r_{387}, a_{12} : r_{388}, a_{13} : r_{389}, a_{14} : r_{390}, a_{15} : r_{391}, a_{23} : r_{392}, a_{24} : r_{393}, a_{25} : r_{394}, a_{34} : r_{395}, a_{35} : r_{396}, a_{45} : 0\\right\\}, \\left\\{d_{1} : r_{397}, d_{2} : r_{398}, d_{3} : \\frac{r_{397}}{x_{13}}, d_{4} : \\frac{r_{398}}{x_{24}}, d_{5} : r_{399}, a_{12} : r_{400}, a_{13} : r_{401}, a_{14} : r_{402}, a_{15} : r_{403}, a_{23} : r_{404}, a_{24} : r_{405}, a_{25} : r_{406}, a_{34} : \\frac{r_{400}}{x_{13}}, a_{35} : 0, a_{45} : 0\\right\\}\\right]$$"
      ],
      "text/plain": [
       "[{d1: r386,\n",
       "  d2: 0,\n",
       "  d3: r386/x13,\n",
       "  d4: 0,\n",
       "  d5: r387,\n",
       "  a12: r388,\n",
       "  a13: r389,\n",
       "  a14: r390,\n",
       "  a15: r391,\n",
       "  a23: r392,\n",
       "  a24: r393,\n",
       "  a25: r394,\n",
       "  a34: r395,\n",
       "  a35: r396,\n",
       "  a45: 0},\n",
       " {d1: r397,\n",
       "  d2: r398,\n",
       "  d3: r397/x13,\n",
       "  d4: r398/x24,\n",
       "  d5: r399,\n",
       "  a12: r400,\n",
       "  a13: r401,\n",
       "  a14: r402,\n",
       "  a15: r403,\n",
       "  a23: r404,\n",
       "  a24: r405,\n",
       "  a25: r406,\n",
       "  a34: r400/x13,\n",
       "  a35: 0,\n",
       "  a45: 0}]"
      ]
     },
     "metadata": {},
     "output_type": "display_data"
    },
    {
     "data": {
      "text/plain": [
       "\\left[\\left\\{d_{1} : r_{386}, d_{2} : 0, d_{3} : \\frac{r_{386}}{x_{13}}, d_{4} : 0, d_{5} : r_{387}, a_{12} : r_{388}, a_{13} : r_{389}, a_{14} : r_{390}, a_{15} : r_{391}, a_{23} : r_{392}, a_{24} : r_{393}, a_{25} : r_{394}, a_{34} : r_{395}, a_{35} : r_{396}, a_{45} : 0\\right\\}, \\left\\{d_{1} : r_{397}, d_{2} : r_{398}, d_{3} : \\frac{r_{397}}{x_{13}}, d_{4} : \\frac{r_{398}}{x_{24}}, d_{5} : r_{399}, a_{12} : r_{400}, a_{13} : r_{401}, a_{14} : r_{402}, a_{15} : r_{403}, a_{23} : r_{404}, a_{24} : r_{405}, a_{25} : r_{406}, a_{34} : \\frac{r_{400}}{x_{13}}, a_{35} : 0, a_{45} : 0\\right\\}\\right]"
      ]
     },
     "execution_count": 21,
     "metadata": {},
     "output_type": "execute_result"
    }
   ],
   "source": [
    "#x1\n",
    "reset()\n",
    "\n",
    "var('x12,x13,x14,x15,x23,x24,x25,x34,x35,x45')\n",
    "var('d1,d2,d3,d4,d5')\n",
    "var('a12,a13,a14,a15,a23,a24,a25,a34,a35,a45')\n",
    "\n",
    "load_attach_path('C:\\\\Users\\\\julia\\\\Documents\\\\unb\\\\doutorado\\\\pensar\\\\codigo_sage_v2\\\\maquina\\\\x1')\n",
    "load('out_#010100.sage')\n",
    "\n",
    "m=matrix(QQ, [[0, 0, 1, 0, 0],\n",
    "              [0, 0, 0, 1, 0],\n",
    "              [0, 0, 0, 0, 0],\n",
    "              [0, 0, 0, 0, 0],\n",
    "              [0, 0, 0, 0, 0]])\n",
    "        \n",
    "#entry of matrix: (i,j) line i collum j, means (i-1,j-1)\n",
    "sol=solve([ \teq1==m[0,2],\teq2==m[0,3],\teq3==m[0,4],\t\n",
    "                                            eq4==m[1,3],    eq5==m[1,4],\n",
    "                                                            eq6==m[2,4]],d1,d2,d3,d4,d5,a12,a13,a14,a15,a23,a24,a25,a34,a35,a45, solution_dict=True)\n",
    "\n",
    "show(m)\n",
    "show(sol)\n",
    "latex(sol)"
   ]
  },
  {
   "cell_type": "code",
   "execution_count": 22,
   "metadata": {},
   "outputs": [
    {
     "data": {
      "text/html": [
       "<html><script type=\"math/tex; mode=display\">\\newcommand{\\Bold}[1]{\\mathbf{#1}}\\left(\\begin{array}{rrrrr}\n",
       "0 & 0 & 1 & 0 & 0 \\\\\n",
       "0 & 0 & 0 & 1 & 0 \\\\\n",
       "0 & 0 & 0 & 0 & 0 \\\\\n",
       "0 & 0 & 0 & 0 & 0 \\\\\n",
       "0 & 0 & 0 & 0 & 0\n",
       "\\end{array}\\right)</script></html>"
      ],
      "text/latex": [
       "$$\\newcommand{\\Bold}[1]{\\mathbf{#1}}\\left(\\begin{array}{rrrrr}\n",
       "0 & 0 & 1 & 0 & 0 \\\\\n",
       "0 & 0 & 0 & 1 & 0 \\\\\n",
       "0 & 0 & 0 & 0 & 0 \\\\\n",
       "0 & 0 & 0 & 0 & 0 \\\\\n",
       "0 & 0 & 0 & 0 & 0\n",
       "\\end{array}\\right)$$"
      ],
      "text/plain": [
       "[0 0 1 0 0]\n",
       "[0 0 0 1 0]\n",
       "[0 0 0 0 0]\n",
       "[0 0 0 0 0]\n",
       "[0 0 0 0 0]"
      ]
     },
     "metadata": {},
     "output_type": "display_data"
    },
    {
     "data": {
      "text/html": [
       "<html><script type=\"math/tex; mode=display\">\\newcommand{\\Bold}[1]{\\mathbf{#1}}\\left[\\left\\{d_{1} : r_{407}, d_{2} : 0, d_{3} : \\frac{r_{407}}{x_{13}}, d_{4} : 0, d_{5} : r_{408}, a_{12} : r_{409}, a_{13} : r_{410}, a_{14} : r_{411}, a_{15} : r_{412}, a_{23} : r_{413}, a_{24} : r_{414}, a_{25} : r_{415}, a_{34} : r_{416}, a_{35} : r_{417}, a_{45} : 0\\right\\}, \\left\\{d_{1} : r_{418}, d_{2} : r_{419}, d_{3} : \\frac{r_{418}}{x_{13}}, d_{4} : \\frac{r_{419}}{x_{24}}, d_{5} : r_{420}, a_{12} : r_{421}, a_{13} : r_{422}, a_{14} : r_{423}, a_{15} : r_{424}, a_{23} : r_{425}, a_{24} : r_{426}, a_{25} : r_{427}, a_{34} : \\frac{r_{421}}{x_{13}}, a_{35} : -\\frac{r_{420} x_{15}}{x_{13}}, a_{45} : 0\\right\\}\\right]</script></html>"
      ],
      "text/latex": [
       "$$\\newcommand{\\Bold}[1]{\\mathbf{#1}}\\left[\\left\\{d_{1} : r_{407}, d_{2} : 0, d_{3} : \\frac{r_{407}}{x_{13}}, d_{4} : 0, d_{5} : r_{408}, a_{12} : r_{409}, a_{13} : r_{410}, a_{14} : r_{411}, a_{15} : r_{412}, a_{23} : r_{413}, a_{24} : r_{414}, a_{25} : r_{415}, a_{34} : r_{416}, a_{35} : r_{417}, a_{45} : 0\\right\\}, \\left\\{d_{1} : r_{418}, d_{2} : r_{419}, d_{3} : \\frac{r_{418}}{x_{13}}, d_{4} : \\frac{r_{419}}{x_{24}}, d_{5} : r_{420}, a_{12} : r_{421}, a_{13} : r_{422}, a_{14} : r_{423}, a_{15} : r_{424}, a_{23} : r_{425}, a_{24} : r_{426}, a_{25} : r_{427}, a_{34} : \\frac{r_{421}}{x_{13}}, a_{35} : -\\frac{r_{420} x_{15}}{x_{13}}, a_{45} : 0\\right\\}\\right]$$"
      ],
      "text/plain": [
       "[{d1: r407,\n",
       "  d2: 0,\n",
       "  d3: r407/x13,\n",
       "  d4: 0,\n",
       "  d5: r408,\n",
       "  a12: r409,\n",
       "  a13: r410,\n",
       "  a14: r411,\n",
       "  a15: r412,\n",
       "  a23: r413,\n",
       "  a24: r414,\n",
       "  a25: r415,\n",
       "  a34: r416,\n",
       "  a35: r417,\n",
       "  a45: 0},\n",
       " {d1: r418,\n",
       "  d2: r419,\n",
       "  d3: r418/x13,\n",
       "  d4: r419/x24,\n",
       "  d5: r420,\n",
       "  a12: r421,\n",
       "  a13: r422,\n",
       "  a14: r423,\n",
       "  a15: r424,\n",
       "  a23: r425,\n",
       "  a24: r426,\n",
       "  a25: r427,\n",
       "  a34: r421/x13,\n",
       "  a35: -r420*x15/x13,\n",
       "  a45: 0}]"
      ]
     },
     "metadata": {},
     "output_type": "display_data"
    },
    {
     "data": {
      "text/plain": [
       "\\left[\\left\\{d_{1} : r_{407}, d_{2} : 0, d_{3} : \\frac{r_{407}}{x_{13}}, d_{4} : 0, d_{5} : r_{408}, a_{12} : r_{409}, a_{13} : r_{410}, a_{14} : r_{411}, a_{15} : r_{412}, a_{23} : r_{413}, a_{24} : r_{414}, a_{25} : r_{415}, a_{34} : r_{416}, a_{35} : r_{417}, a_{45} : 0\\right\\}, \\left\\{d_{1} : r_{418}, d_{2} : r_{419}, d_{3} : \\frac{r_{418}}{x_{13}}, d_{4} : \\frac{r_{419}}{x_{24}}, d_{5} : r_{420}, a_{12} : r_{421}, a_{13} : r_{422}, a_{14} : r_{423}, a_{15} : r_{424}, a_{23} : r_{425}, a_{24} : r_{426}, a_{25} : r_{427}, a_{34} : \\frac{r_{421}}{x_{13}}, a_{35} : -\\frac{r_{420} x_{15}}{x_{13}}, a_{45} : 0\\right\\}\\right]"
      ]
     },
     "execution_count": 22,
     "metadata": {},
     "output_type": "execute_result"
    }
   ],
   "source": [
    "#x1\n",
    "reset()\n",
    "\n",
    "var('x12,x13,x14,x15,x23,x24,x25,x34,x35,x45')\n",
    "var('d1,d2,d3,d4,d5')\n",
    "var('a12,a13,a14,a15,a23,a24,a25,a34,a35,a45')\n",
    "\n",
    "load_attach_path('C:\\\\Users\\\\julia\\\\Documents\\\\unb\\\\doutorado\\\\pensar\\\\codigo_sage_v2\\\\maquina\\\\x1')\n",
    "load('out_#010101.sage')\n",
    "\n",
    "m=matrix(QQ, [[0, 0, 1, 0, 0],\n",
    "              [0, 0, 0, 1, 0],\n",
    "              [0, 0, 0, 0, 0],\n",
    "              [0, 0, 0, 0, 0],\n",
    "              [0, 0, 0, 0, 0]])\n",
    "        \n",
    "#entry of matrix: (i,j) line i collum j, means (i-1,j-1)\n",
    "sol=solve([ \teq1==m[0,2],\teq2==m[0,3],\teq3==m[0,4],\t\n",
    "                                            eq4==m[1,3],    eq5==m[1,4],\n",
    "                                                            eq6==m[2,4]],d1,d2,d3,d4,d5,a12,a13,a14,a15,a23,a24,a25,a34,a35,a45, solution_dict=True)\n",
    "\n",
    "show(m)\n",
    "show(sol)\n",
    "latex(sol)"
   ]
  },
  {
   "cell_type": "code",
   "execution_count": 23,
   "metadata": {},
   "outputs": [
    {
     "data": {
      "text/html": [
       "<html><script type=\"math/tex; mode=display\">\\newcommand{\\Bold}[1]{\\mathbf{#1}}\\left(\\begin{array}{rrrrr}\n",
       "0 & 0 & 1 & 0 & 0 \\\\\n",
       "0 & 0 & 0 & 1 & 0 \\\\\n",
       "0 & 0 & 0 & 0 & 0 \\\\\n",
       "0 & 0 & 0 & 0 & 0 \\\\\n",
       "0 & 0 & 0 & 0 & 0\n",
       "\\end{array}\\right)</script></html>"
      ],
      "text/latex": [
       "$$\\newcommand{\\Bold}[1]{\\mathbf{#1}}\\left(\\begin{array}{rrrrr}\n",
       "0 & 0 & 1 & 0 & 0 \\\\\n",
       "0 & 0 & 0 & 1 & 0 \\\\\n",
       "0 & 0 & 0 & 0 & 0 \\\\\n",
       "0 & 0 & 0 & 0 & 0 \\\\\n",
       "0 & 0 & 0 & 0 & 0\n",
       "\\end{array}\\right)$$"
      ],
      "text/plain": [
       "[0 0 1 0 0]\n",
       "[0 0 0 1 0]\n",
       "[0 0 0 0 0]\n",
       "[0 0 0 0 0]\n",
       "[0 0 0 0 0]"
      ]
     },
     "metadata": {},
     "output_type": "display_data"
    },
    {
     "data": {
      "text/html": [
       "<html><script type=\"math/tex; mode=display\">\\newcommand{\\Bold}[1]{\\mathbf{#1}}\\left[\\left\\{d_{1} : r_{428}, d_{2} : 0, d_{3} : \\frac{r_{428}}{x_{13}}, d_{4} : 0, d_{5} : r_{429}, a_{12} : r_{430}, a_{13} : r_{431}, a_{14} : r_{432}, a_{15} : r_{433}, a_{23} : r_{434}, a_{24} : r_{435}, a_{25} : r_{436}, a_{34} : r_{437}, a_{35} : r_{438}, a_{45} : 0\\right\\}, \\left\\{d_{1} : r_{439}, d_{2} : r_{440}, d_{3} : \\frac{r_{439}}{x_{13}}, d_{4} : \\frac{r_{440}}{x_{24}}, d_{5} : r_{441}, a_{12} : r_{442}, a_{13} : r_{443}, a_{14} : r_{444}, a_{15} : r_{445}, a_{23} : r_{446}, a_{24} : r_{447}, a_{25} : r_{448}, a_{34} : -\\frac{r_{440} x_{14} - r_{442} x_{24}}{x_{13} x_{24}}, a_{35} : 0, a_{45} : 0\\right\\}\\right]</script></html>"
      ],
      "text/latex": [
       "$$\\newcommand{\\Bold}[1]{\\mathbf{#1}}\\left[\\left\\{d_{1} : r_{428}, d_{2} : 0, d_{3} : \\frac{r_{428}}{x_{13}}, d_{4} : 0, d_{5} : r_{429}, a_{12} : r_{430}, a_{13} : r_{431}, a_{14} : r_{432}, a_{15} : r_{433}, a_{23} : r_{434}, a_{24} : r_{435}, a_{25} : r_{436}, a_{34} : r_{437}, a_{35} : r_{438}, a_{45} : 0\\right\\}, \\left\\{d_{1} : r_{439}, d_{2} : r_{440}, d_{3} : \\frac{r_{439}}{x_{13}}, d_{4} : \\frac{r_{440}}{x_{24}}, d_{5} : r_{441}, a_{12} : r_{442}, a_{13} : r_{443}, a_{14} : r_{444}, a_{15} : r_{445}, a_{23} : r_{446}, a_{24} : r_{447}, a_{25} : r_{448}, a_{34} : -\\frac{r_{440} x_{14} - r_{442} x_{24}}{x_{13} x_{24}}, a_{35} : 0, a_{45} : 0\\right\\}\\right]$$"
      ],
      "text/plain": [
       "[{d1: r428,\n",
       "  d2: 0,\n",
       "  d3: r428/x13,\n",
       "  d4: 0,\n",
       "  d5: r429,\n",
       "  a12: r430,\n",
       "  a13: r431,\n",
       "  a14: r432,\n",
       "  a15: r433,\n",
       "  a23: r434,\n",
       "  a24: r435,\n",
       "  a25: r436,\n",
       "  a34: r437,\n",
       "  a35: r438,\n",
       "  a45: 0},\n",
       " {d1: r439,\n",
       "  d2: r440,\n",
       "  d3: r439/x13,\n",
       "  d4: r440/x24,\n",
       "  d5: r441,\n",
       "  a12: r442,\n",
       "  a13: r443,\n",
       "  a14: r444,\n",
       "  a15: r445,\n",
       "  a23: r446,\n",
       "  a24: r447,\n",
       "  a25: r448,\n",
       "  a34: -(r440*x14 - r442*x24)/(x13*x24),\n",
       "  a35: 0,\n",
       "  a45: 0}]"
      ]
     },
     "metadata": {},
     "output_type": "display_data"
    },
    {
     "data": {
      "text/plain": [
       "\\left[\\left\\{d_{1} : r_{428}, d_{2} : 0, d_{3} : \\frac{r_{428}}{x_{13}}, d_{4} : 0, d_{5} : r_{429}, a_{12} : r_{430}, a_{13} : r_{431}, a_{14} : r_{432}, a_{15} : r_{433}, a_{23} : r_{434}, a_{24} : r_{435}, a_{25} : r_{436}, a_{34} : r_{437}, a_{35} : r_{438}, a_{45} : 0\\right\\}, \\left\\{d_{1} : r_{439}, d_{2} : r_{440}, d_{3} : \\frac{r_{439}}{x_{13}}, d_{4} : \\frac{r_{440}}{x_{24}}, d_{5} : r_{441}, a_{12} : r_{442}, a_{13} : r_{443}, a_{14} : r_{444}, a_{15} : r_{445}, a_{23} : r_{446}, a_{24} : r_{447}, a_{25} : r_{448}, a_{34} : -\\frac{r_{440} x_{14} - r_{442} x_{24}}{x_{13} x_{24}}, a_{35} : 0, a_{45} : 0\\right\\}\\right]"
      ]
     },
     "execution_count": 23,
     "metadata": {},
     "output_type": "execute_result"
    }
   ],
   "source": [
    "#x1\n",
    "reset()\n",
    "\n",
    "var('x12,x13,x14,x15,x23,x24,x25,x34,x35,x45')\n",
    "var('d1,d2,d3,d4,d5')\n",
    "var('a12,a13,a14,a15,a23,a24,a25,a34,a35,a45')\n",
    "\n",
    "load_attach_path('C:\\\\Users\\\\julia\\\\Documents\\\\unb\\\\doutorado\\\\pensar\\\\codigo_sage_v2\\\\maquina\\\\x1')\n",
    "load('out_#010110.sage')\n",
    "\n",
    "m=matrix(QQ, [[0, 0, 1, 0, 0],\n",
    "              [0, 0, 0, 1, 0],\n",
    "              [0, 0, 0, 0, 0],\n",
    "              [0, 0, 0, 0, 0],\n",
    "              [0, 0, 0, 0, 0]])\n",
    "        \n",
    "#entry of matrix: (i,j) line i collum j, means (i-1,j-1)\n",
    "sol=solve([ \teq1==m[0,2],\teq2==m[0,3],\teq3==m[0,4],\t\n",
    "                                            eq4==m[1,3],    eq5==m[1,4],\n",
    "                                                            eq6==m[2,4]],d1,d2,d3,d4,d5,a12,a13,a14,a15,a23,a24,a25,a34,a35,a45, solution_dict=True)\n",
    "\n",
    "show(m)\n",
    "show(sol)\n",
    "latex(sol)"
   ]
  },
  {
   "cell_type": "code",
   "execution_count": 24,
   "metadata": {},
   "outputs": [
    {
     "data": {
      "text/html": [
       "<html><script type=\"math/tex; mode=display\">\\newcommand{\\Bold}[1]{\\mathbf{#1}}\\left(\\begin{array}{rrrrr}\n",
       "0 & 0 & 1 & 0 & 0 \\\\\n",
       "0 & 0 & 0 & 1 & 0 \\\\\n",
       "0 & 0 & 0 & 0 & 0 \\\\\n",
       "0 & 0 & 0 & 0 & 0 \\\\\n",
       "0 & 0 & 0 & 0 & 0\n",
       "\\end{array}\\right)</script></html>"
      ],
      "text/latex": [
       "$$\\newcommand{\\Bold}[1]{\\mathbf{#1}}\\left(\\begin{array}{rrrrr}\n",
       "0 & 0 & 1 & 0 & 0 \\\\\n",
       "0 & 0 & 0 & 1 & 0 \\\\\n",
       "0 & 0 & 0 & 0 & 0 \\\\\n",
       "0 & 0 & 0 & 0 & 0 \\\\\n",
       "0 & 0 & 0 & 0 & 0\n",
       "\\end{array}\\right)$$"
      ],
      "text/plain": [
       "[0 0 1 0 0]\n",
       "[0 0 0 1 0]\n",
       "[0 0 0 0 0]\n",
       "[0 0 0 0 0]\n",
       "[0 0 0 0 0]"
      ]
     },
     "metadata": {},
     "output_type": "display_data"
    },
    {
     "data": {
      "text/html": [
       "<html><script type=\"math/tex; mode=display\">\\newcommand{\\Bold}[1]{\\mathbf{#1}}\\left[\\left\\{d_{1} : r_{449}, d_{2} : 0, d_{3} : \\frac{r_{449}}{x_{13}}, d_{4} : 0, d_{5} : r_{450}, a_{12} : r_{451}, a_{13} : r_{452}, a_{14} : r_{453}, a_{15} : r_{454}, a_{23} : r_{455}, a_{24} : r_{456}, a_{25} : r_{457}, a_{34} : r_{458}, a_{35} : r_{459}, a_{45} : 0\\right\\}, \\left\\{d_{1} : r_{460}, d_{2} : r_{461}, d_{3} : \\frac{r_{460}}{x_{13}}, d_{4} : \\frac{r_{461}}{x_{24}}, d_{5} : r_{462}, a_{12} : r_{463}, a_{13} : r_{464}, a_{14} : r_{465}, a_{15} : r_{466}, a_{23} : r_{467}, a_{24} : r_{468}, a_{25} : r_{469}, a_{34} : -\\frac{r_{461} x_{14} - r_{463} x_{24}}{x_{13} x_{24}}, a_{35} : -\\frac{r_{462} x_{15}}{x_{13}}, a_{45} : 0\\right\\}\\right]</script></html>"
      ],
      "text/latex": [
       "$$\\newcommand{\\Bold}[1]{\\mathbf{#1}}\\left[\\left\\{d_{1} : r_{449}, d_{2} : 0, d_{3} : \\frac{r_{449}}{x_{13}}, d_{4} : 0, d_{5} : r_{450}, a_{12} : r_{451}, a_{13} : r_{452}, a_{14} : r_{453}, a_{15} : r_{454}, a_{23} : r_{455}, a_{24} : r_{456}, a_{25} : r_{457}, a_{34} : r_{458}, a_{35} : r_{459}, a_{45} : 0\\right\\}, \\left\\{d_{1} : r_{460}, d_{2} : r_{461}, d_{3} : \\frac{r_{460}}{x_{13}}, d_{4} : \\frac{r_{461}}{x_{24}}, d_{5} : r_{462}, a_{12} : r_{463}, a_{13} : r_{464}, a_{14} : r_{465}, a_{15} : r_{466}, a_{23} : r_{467}, a_{24} : r_{468}, a_{25} : r_{469}, a_{34} : -\\frac{r_{461} x_{14} - r_{463} x_{24}}{x_{13} x_{24}}, a_{35} : -\\frac{r_{462} x_{15}}{x_{13}}, a_{45} : 0\\right\\}\\right]$$"
      ],
      "text/plain": [
       "[{d1: r449,\n",
       "  d2: 0,\n",
       "  d3: r449/x13,\n",
       "  d4: 0,\n",
       "  d5: r450,\n",
       "  a12: r451,\n",
       "  a13: r452,\n",
       "  a14: r453,\n",
       "  a15: r454,\n",
       "  a23: r455,\n",
       "  a24: r456,\n",
       "  a25: r457,\n",
       "  a34: r458,\n",
       "  a35: r459,\n",
       "  a45: 0},\n",
       " {d1: r460,\n",
       "  d2: r461,\n",
       "  d3: r460/x13,\n",
       "  d4: r461/x24,\n",
       "  d5: r462,\n",
       "  a12: r463,\n",
       "  a13: r464,\n",
       "  a14: r465,\n",
       "  a15: r466,\n",
       "  a23: r467,\n",
       "  a24: r468,\n",
       "  a25: r469,\n",
       "  a34: -(r461*x14 - r463*x24)/(x13*x24),\n",
       "  a35: -r462*x15/x13,\n",
       "  a45: 0}]"
      ]
     },
     "metadata": {},
     "output_type": "display_data"
    },
    {
     "data": {
      "text/plain": [
       "\\left[\\left\\{d_{1} : r_{449}, d_{2} : 0, d_{3} : \\frac{r_{449}}{x_{13}}, d_{4} : 0, d_{5} : r_{450}, a_{12} : r_{451}, a_{13} : r_{452}, a_{14} : r_{453}, a_{15} : r_{454}, a_{23} : r_{455}, a_{24} : r_{456}, a_{25} : r_{457}, a_{34} : r_{458}, a_{35} : r_{459}, a_{45} : 0\\right\\}, \\left\\{d_{1} : r_{460}, d_{2} : r_{461}, d_{3} : \\frac{r_{460}}{x_{13}}, d_{4} : \\frac{r_{461}}{x_{24}}, d_{5} : r_{462}, a_{12} : r_{463}, a_{13} : r_{464}, a_{14} : r_{465}, a_{15} : r_{466}, a_{23} : r_{467}, a_{24} : r_{468}, a_{25} : r_{469}, a_{34} : -\\frac{r_{461} x_{14} - r_{463} x_{24}}{x_{13} x_{24}}, a_{35} : -\\frac{r_{462} x_{15}}{x_{13}}, a_{45} : 0\\right\\}\\right]"
      ]
     },
     "execution_count": 24,
     "metadata": {},
     "output_type": "execute_result"
    }
   ],
   "source": [
    "#x1\n",
    "reset()\n",
    "\n",
    "var('x12,x13,x14,x15,x23,x24,x25,x34,x35,x45')\n",
    "var('d1,d2,d3,d4,d5')\n",
    "var('a12,a13,a14,a15,a23,a24,a25,a34,a35,a45')\n",
    "\n",
    "load_attach_path('C:\\\\Users\\\\julia\\\\Documents\\\\unb\\\\doutorado\\\\pensar\\\\codigo_sage_v2\\\\maquina\\\\x1')\n",
    "load('out_#010111.sage')\n",
    "\n",
    "m=matrix(QQ, [[0, 0, 1, 0, 0],\n",
    "              [0, 0, 0, 1, 0],\n",
    "              [0, 0, 0, 0, 0],\n",
    "              [0, 0, 0, 0, 0],\n",
    "              [0, 0, 0, 0, 0]])\n",
    "        \n",
    "#entry of matrix: (i,j) line i collum j, means (i-1,j-1)\n",
    "sol=solve([ \teq1==m[0,2],\teq2==m[0,3],\teq3==m[0,4],\t\n",
    "                                            eq4==m[1,3],    eq5==m[1,4],\n",
    "                                                            eq6==m[2,4]],d1,d2,d3,d4,d5,a12,a13,a14,a15,a23,a24,a25,a34,a35,a45, solution_dict=True)\n",
    "\n",
    "show(m)\n",
    "show(sol)\n",
    "latex(sol)"
   ]
  },
  {
   "cell_type": "code",
   "execution_count": 25,
   "metadata": {},
   "outputs": [
    {
     "data": {
      "text/html": [
       "<html><script type=\"math/tex; mode=display\">\\newcommand{\\Bold}[1]{\\mathbf{#1}}\\left(\\begin{array}{rrrrr}\n",
       "0 & 0 & 0 & 0 & 0 \\\\\n",
       "0 & 0 & 0 & 1 & 0 \\\\\n",
       "0 & 0 & 0 & 0 & 0 \\\\\n",
       "0 & 0 & 0 & 0 & 0 \\\\\n",
       "0 & 0 & 0 & 0 & 0\n",
       "\\end{array}\\right)</script></html>"
      ],
      "text/latex": [
       "$$\\newcommand{\\Bold}[1]{\\mathbf{#1}}\\left(\\begin{array}{rrrrr}\n",
       "0 & 0 & 0 & 0 & 0 \\\\\n",
       "0 & 0 & 0 & 1 & 0 \\\\\n",
       "0 & 0 & 0 & 0 & 0 \\\\\n",
       "0 & 0 & 0 & 0 & 0 \\\\\n",
       "0 & 0 & 0 & 0 & 0\n",
       "\\end{array}\\right)$$"
      ],
      "text/plain": [
       "[0 0 0 0 0]\n",
       "[0 0 0 1 0]\n",
       "[0 0 0 0 0]\n",
       "[0 0 0 0 0]\n",
       "[0 0 0 0 0]"
      ]
     },
     "metadata": {},
     "output_type": "display_data"
    },
    {
     "data": {
      "text/html": [
       "<html><script type=\"math/tex; mode=display\">\\newcommand{\\Bold}[1]{\\mathbf{#1}}\\left[\\left\\{d_{1} : r_{470}, d_{2} : r_{471}, d_{3} : r_{472}, d_{4} : \\frac{r_{471}}{x_{24}}, d_{5} : r_{473}, a_{12} : 0, a_{13} : r_{474}, a_{14} : r_{475}, a_{15} : r_{476}, a_{23} : r_{477}, a_{24} : r_{478}, a_{25} : r_{479}, a_{34} : r_{480}, a_{35} : r_{481}, a_{45} : -\\frac{r_{473} x_{25}}{x_{24}}\\right\\}, \\left\\{d_{1} : r_{482}, d_{2} : 0, d_{3} : r_{483}, d_{4} : 0, d_{5} : r_{484}, a_{12} : r_{485}, a_{13} : r_{486}, a_{14} : r_{487}, a_{15} : r_{488}, a_{23} : r_{489}, a_{24} : r_{490}, a_{25} : r_{491}, a_{34} : r_{492}, a_{35} : r_{493}, a_{45} : -\\frac{r_{484} x_{25}}{x_{24}}\\right\\}\\right]</script></html>"
      ],
      "text/latex": [
       "$$\\newcommand{\\Bold}[1]{\\mathbf{#1}}\\left[\\left\\{d_{1} : r_{470}, d_{2} : r_{471}, d_{3} : r_{472}, d_{4} : \\frac{r_{471}}{x_{24}}, d_{5} : r_{473}, a_{12} : 0, a_{13} : r_{474}, a_{14} : r_{475}, a_{15} : r_{476}, a_{23} : r_{477}, a_{24} : r_{478}, a_{25} : r_{479}, a_{34} : r_{480}, a_{35} : r_{481}, a_{45} : -\\frac{r_{473} x_{25}}{x_{24}}\\right\\}, \\left\\{d_{1} : r_{482}, d_{2} : 0, d_{3} : r_{483}, d_{4} : 0, d_{5} : r_{484}, a_{12} : r_{485}, a_{13} : r_{486}, a_{14} : r_{487}, a_{15} : r_{488}, a_{23} : r_{489}, a_{24} : r_{490}, a_{25} : r_{491}, a_{34} : r_{492}, a_{35} : r_{493}, a_{45} : -\\frac{r_{484} x_{25}}{x_{24}}\\right\\}\\right]$$"
      ],
      "text/plain": [
       "[{d1: r470,\n",
       "  d2: r471,\n",
       "  d3: r472,\n",
       "  d4: r471/x24,\n",
       "  d5: r473,\n",
       "  a12: 0,\n",
       "  a13: r474,\n",
       "  a14: r475,\n",
       "  a15: r476,\n",
       "  a23: r477,\n",
       "  a24: r478,\n",
       "  a25: r479,\n",
       "  a34: r480,\n",
       "  a35: r481,\n",
       "  a45: -r473*x25/x24},\n",
       " {d1: r482,\n",
       "  d2: 0,\n",
       "  d3: r483,\n",
       "  d4: 0,\n",
       "  d5: r484,\n",
       "  a12: r485,\n",
       "  a13: r486,\n",
       "  a14: r487,\n",
       "  a15: r488,\n",
       "  a23: r489,\n",
       "  a24: r490,\n",
       "  a25: r491,\n",
       "  a34: r492,\n",
       "  a35: r493,\n",
       "  a45: -r484*x25/x24}]"
      ]
     },
     "metadata": {},
     "output_type": "display_data"
    },
    {
     "data": {
      "text/plain": [
       "\\left[\\left\\{d_{1} : r_{470}, d_{2} : r_{471}, d_{3} : r_{472}, d_{4} : \\frac{r_{471}}{x_{24}}, d_{5} : r_{473}, a_{12} : 0, a_{13} : r_{474}, a_{14} : r_{475}, a_{15} : r_{476}, a_{23} : r_{477}, a_{24} : r_{478}, a_{25} : r_{479}, a_{34} : r_{480}, a_{35} : r_{481}, a_{45} : -\\frac{r_{473} x_{25}}{x_{24}}\\right\\}, \\left\\{d_{1} : r_{482}, d_{2} : 0, d_{3} : r_{483}, d_{4} : 0, d_{5} : r_{484}, a_{12} : r_{485}, a_{13} : r_{486}, a_{14} : r_{487}, a_{15} : r_{488}, a_{23} : r_{489}, a_{24} : r_{490}, a_{25} : r_{491}, a_{34} : r_{492}, a_{35} : r_{493}, a_{45} : -\\frac{r_{484} x_{25}}{x_{24}}\\right\\}\\right]"
      ]
     },
     "execution_count": 25,
     "metadata": {},
     "output_type": "execute_result"
    }
   ],
   "source": [
    "#x1\n",
    "reset()\n",
    "\n",
    "var('x12,x13,x14,x15,x23,x24,x25,x34,x35,x45')\n",
    "var('d1,d2,d3,d4,d5')\n",
    "var('a12,a13,a14,a15,a23,a24,a25,a34,a35,a45')\n",
    "\n",
    "load_attach_path('C:\\\\Users\\\\julia\\\\Documents\\\\unb\\\\doutorado\\\\pensar\\\\codigo_sage_v2\\\\maquina\\\\x1')\n",
    "load('out_#011000.sage')\n",
    "\n",
    "m=matrix(QQ, [[0, 0, 0, 0, 0],\n",
    "              [0, 0, 0, 1, 0],\n",
    "              [0, 0, 0, 0, 0],\n",
    "              [0, 0, 0, 0, 0],\n",
    "              [0, 0, 0, 0, 0]])\n",
    "        \n",
    "#entry of matrix: (i,j) line i collum j, means (i-1,j-1)\n",
    "sol=solve([ \teq1==m[0,2],\teq2==m[0,3],\teq3==m[0,4],\t\n",
    "                                            eq4==m[1,3],    eq5==m[1,4],\n",
    "                                                            eq6==m[2,4]],d1,d2,d3,d4,d5,a12,a13,a14,a15,a23,a24,a25,a34,a35,a45, solution_dict=True)\n",
    "\n",
    "show(m)\n",
    "show(sol)\n",
    "latex(sol)"
   ]
  },
  {
   "cell_type": "code",
   "execution_count": 8,
   "metadata": {},
   "outputs": [
    {
     "data": {
      "text/html": [
       "<html><script type=\"math/tex; mode=display\">\\newcommand{\\Bold}[1]{\\mathbf{#1}}\\left(\\begin{array}{rrrrr}\n",
       "0 & 0 & 0 & 1 & 0 \\\\\n",
       "0 & 0 & 0 & 1 & 1 \\\\\n",
       "0 & 0 & 0 & 0 & 0 \\\\\n",
       "0 & 0 & 0 & 0 & 0 \\\\\n",
       "0 & 0 & 0 & 0 & 0\n",
       "\\end{array}\\right)</script></html>"
      ],
      "text/latex": [
       "$$\\newcommand{\\Bold}[1]{\\mathbf{#1}}\\left(\\begin{array}{rrrrr}\n",
       "0 & 0 & 0 & 1 & 0 \\\\\n",
       "0 & 0 & 0 & 1 & 1 \\\\\n",
       "0 & 0 & 0 & 0 & 0 \\\\\n",
       "0 & 0 & 0 & 0 & 0 \\\\\n",
       "0 & 0 & 0 & 0 & 0\n",
       "\\end{array}\\right)$$"
      ],
      "text/plain": [
       "[0 0 0 1 0]\n",
       "[0 0 0 1 1]\n",
       "[0 0 0 0 0]\n",
       "[0 0 0 0 0]\n",
       "[0 0 0 0 0]"
      ]
     },
     "metadata": {},
     "output_type": "display_data"
    },
    {
     "data": {
      "text/html": [
       "<html><script type=\"math/tex; mode=display\">\\newcommand{\\Bold}[1]{\\mathbf{#1}}\\left[\\left\\{d_{1} : r_{163}, d_{2} : 0, d_{3} : r_{164}, d_{4} : 0, d_{5} : r_{165}, a_{12} : r_{166}, a_{13} : r_{167}, a_{14} : r_{168}, a_{15} : r_{169}, a_{23} : r_{170}, a_{24} : r_{171}, a_{25} : r_{172}, a_{34} : r_{173}, a_{35} : r_{174}, a_{45} : -\\frac{r_{165} x_{25}}{x_{24}}\\right\\}, \\left\\{d_{1} : r_{175}, d_{2} : r_{176}, d_{3} : r_{177}, d_{4} : \\frac{r_{176}}{x_{24}}, d_{5} : -\\frac{r_{175}}{x_{15}}, a_{12} : -r_{175}, a_{13} : r_{178}, a_{14} : r_{179}, a_{15} : r_{180}, a_{23} : r_{181}, a_{24} : r_{182}, a_{25} : r_{183}, a_{34} : r_{184}, a_{35} : r_{185}, a_{45} : \\frac{r_{176} x_{15} + r_{175} x_{25}}{x_{15} x_{24}}\\right\\}\\right]</script></html>"
      ],
      "text/latex": [
       "$$\\newcommand{\\Bold}[1]{\\mathbf{#1}}\\left[\\left\\{d_{1} : r_{163}, d_{2} : 0, d_{3} : r_{164}, d_{4} : 0, d_{5} : r_{165}, a_{12} : r_{166}, a_{13} : r_{167}, a_{14} : r_{168}, a_{15} : r_{169}, a_{23} : r_{170}, a_{24} : r_{171}, a_{25} : r_{172}, a_{34} : r_{173}, a_{35} : r_{174}, a_{45} : -\\frac{r_{165} x_{25}}{x_{24}}\\right\\}, \\left\\{d_{1} : r_{175}, d_{2} : r_{176}, d_{3} : r_{177}, d_{4} : \\frac{r_{176}}{x_{24}}, d_{5} : -\\frac{r_{175}}{x_{15}}, a_{12} : -r_{175}, a_{13} : r_{178}, a_{14} : r_{179}, a_{15} : r_{180}, a_{23} : r_{181}, a_{24} : r_{182}, a_{25} : r_{183}, a_{34} : r_{184}, a_{35} : r_{185}, a_{45} : \\frac{r_{176} x_{15} + r_{175} x_{25}}{x_{15} x_{24}}\\right\\}\\right]$$"
      ],
      "text/plain": [
       "[{d1: r163,\n",
       "  d2: 0,\n",
       "  d3: r164,\n",
       "  d4: 0,\n",
       "  d5: r165,\n",
       "  a12: r166,\n",
       "  a13: r167,\n",
       "  a14: r168,\n",
       "  a15: r169,\n",
       "  a23: r170,\n",
       "  a24: r171,\n",
       "  a25: r172,\n",
       "  a34: r173,\n",
       "  a35: r174,\n",
       "  a45: -r165*x25/x24},\n",
       " {d1: r175,\n",
       "  d2: r176,\n",
       "  d3: r177,\n",
       "  d4: r176/x24,\n",
       "  d5: -r175/x15,\n",
       "  a12: -r175,\n",
       "  a13: r178,\n",
       "  a14: r179,\n",
       "  a15: r180,\n",
       "  a23: r181,\n",
       "  a24: r182,\n",
       "  a25: r183,\n",
       "  a34: r184,\n",
       "  a35: r185,\n",
       "  a45: (r176*x15 + r175*x25)/(x15*x24)}]"
      ]
     },
     "metadata": {},
     "output_type": "display_data"
    },
    {
     "data": {
      "text/plain": [
       "\\left[\\left\\{d_{1} : r_{163}, d_{2} : 0, d_{3} : r_{164}, d_{4} : 0, d_{5} : r_{165}, a_{12} : r_{166}, a_{13} : r_{167}, a_{14} : r_{168}, a_{15} : r_{169}, a_{23} : r_{170}, a_{24} : r_{171}, a_{25} : r_{172}, a_{34} : r_{173}, a_{35} : r_{174}, a_{45} : -\\frac{r_{165} x_{25}}{x_{24}}\\right\\}, \\left\\{d_{1} : r_{175}, d_{2} : r_{176}, d_{3} : r_{177}, d_{4} : \\frac{r_{176}}{x_{24}}, d_{5} : -\\frac{r_{175}}{x_{15}}, a_{12} : -r_{175}, a_{13} : r_{178}, a_{14} : r_{179}, a_{15} : r_{180}, a_{23} : r_{181}, a_{24} : r_{182}, a_{25} : r_{183}, a_{34} : r_{184}, a_{35} : r_{185}, a_{45} : \\frac{r_{176} x_{15} + r_{175} x_{25}}{x_{15} x_{24}}\\right\\}\\right]"
      ]
     },
     "execution_count": 8,
     "metadata": {},
     "output_type": "execute_result"
    }
   ],
   "source": [
    "#x1\n",
    "reset()\n",
    "\n",
    "var('x12,x13,x14,x15,x23,x24,x25,x34,x35,x45')\n",
    "var('d1,d2,d3,d4,d5')\n",
    "var('a12,a13,a14,a15,a23,a24,a25,a34,a35,a45')\n",
    "\n",
    "load_attach_path('C:\\\\Users\\\\julia\\\\Documents\\\\unb\\\\doutorado\\\\pensar\\\\codigo_sage_v2\\\\maquina\\\\x1')\n",
    "load('out_#011001.sage')\n",
    "\n",
    "m=matrix(QQ, [[0, 0, 0, 1, 0],\n",
    "              [0, 0, 0, 1, 1],\n",
    "              [0, 0, 0, 0, 0],\n",
    "              [0, 0, 0, 0, 0],\n",
    "              [0, 0, 0, 0, 0]])\n",
    "        \n",
    "#entry of matrix: (i,j) line i collum j, means (i-1,j-1)\n",
    "sol=solve([ \teq1==m[0,2],\teq2==m[0,3],\teq3==m[0,4],\t\n",
    "                                            eq4==m[1,3],    eq5==m[1,4],\n",
    "                                                            eq6==m[2,4]],d1,d2,d3,d4,d5,a12,a13,a14,a15,a23,a24,a25,a34,a35,a45, solution_dict=True)\n",
    "\n",
    "show(m)\n",
    "show(sol)\n",
    "latex(sol)"
   ]
  },
  {
   "cell_type": "code",
   "execution_count": 27,
   "metadata": {},
   "outputs": [
    {
     "data": {
      "text/html": [
       "<html><script type=\"math/tex; mode=display\">\\newcommand{\\Bold}[1]{\\mathbf{#1}}\\left(\\begin{array}{rrrrr}\n",
       "0 & 0 & 0 & 1 & 0 \\\\\n",
       "0 & 0 & 0 & 1 & 1 \\\\\n",
       "0 & 0 & 0 & 0 & 0 \\\\\n",
       "0 & 0 & 0 & 0 & 0 \\\\\n",
       "0 & 0 & 0 & 0 & 0\n",
       "\\end{array}\\right)</script></html>"
      ],
      "text/latex": [
       "$$\\newcommand{\\Bold}[1]{\\mathbf{#1}}\\left(\\begin{array}{rrrrr}\n",
       "0 & 0 & 0 & 1 & 0 \\\\\n",
       "0 & 0 & 0 & 1 & 1 \\\\\n",
       "0 & 0 & 0 & 0 & 0 \\\\\n",
       "0 & 0 & 0 & 0 & 0 \\\\\n",
       "0 & 0 & 0 & 0 & 0\n",
       "\\end{array}\\right)$$"
      ],
      "text/plain": [
       "[0 0 0 1 0]\n",
       "[0 0 0 1 1]\n",
       "[0 0 0 0 0]\n",
       "[0 0 0 0 0]\n",
       "[0 0 0 0 0]"
      ]
     },
     "metadata": {},
     "output_type": "display_data"
    },
    {
     "data": {
      "text/html": [
       "<html><script type=\"math/tex; mode=display\">\\newcommand{\\Bold}[1]{\\mathbf{#1}}\\left[\\left\\{d_{1} : r_{517}, d_{2} : 0, d_{3} : r_{518}, d_{4} : 0, d_{5} : r_{519}, a_{12} : r_{520}, a_{13} : r_{521}, a_{14} : r_{522}, a_{15} : r_{523}, a_{23} : r_{524}, a_{24} : r_{525}, a_{25} : r_{526}, a_{34} : r_{527}, a_{35} : r_{528}, a_{45} : -\\frac{r_{519} x_{25}}{x_{24}}\\right\\}, \\left\\{d_{1} : r_{529}, d_{2} : r_{530}, d_{3} : r_{531}, d_{4} : \\frac{r_{530}}{x_{24}}, d_{5} : \\frac{r_{529} x_{24}}{x_{14} x_{25}}, a_{12} : \\frac{r_{530} x_{14} - r_{529} x_{24}}{x_{24}}, a_{13} : r_{532}, a_{14} : r_{533}, a_{15} : r_{534}, a_{23} : r_{535}, a_{24} : r_{536}, a_{25} : r_{537}, a_{34} : r_{538}, a_{35} : r_{539}, a_{45} : \\frac{r_{530} x_{14} - r_{529} x_{24}}{x_{14} x_{24}}\\right\\}\\right]</script></html>"
      ],
      "text/latex": [
       "$$\\newcommand{\\Bold}[1]{\\mathbf{#1}}\\left[\\left\\{d_{1} : r_{517}, d_{2} : 0, d_{3} : r_{518}, d_{4} : 0, d_{5} : r_{519}, a_{12} : r_{520}, a_{13} : r_{521}, a_{14} : r_{522}, a_{15} : r_{523}, a_{23} : r_{524}, a_{24} : r_{525}, a_{25} : r_{526}, a_{34} : r_{527}, a_{35} : r_{528}, a_{45} : -\\frac{r_{519} x_{25}}{x_{24}}\\right\\}, \\left\\{d_{1} : r_{529}, d_{2} : r_{530}, d_{3} : r_{531}, d_{4} : \\frac{r_{530}}{x_{24}}, d_{5} : \\frac{r_{529} x_{24}}{x_{14} x_{25}}, a_{12} : \\frac{r_{530} x_{14} - r_{529} x_{24}}{x_{24}}, a_{13} : r_{532}, a_{14} : r_{533}, a_{15} : r_{534}, a_{23} : r_{535}, a_{24} : r_{536}, a_{25} : r_{537}, a_{34} : r_{538}, a_{35} : r_{539}, a_{45} : \\frac{r_{530} x_{14} - r_{529} x_{24}}{x_{14} x_{24}}\\right\\}\\right]$$"
      ],
      "text/plain": [
       "[{d1: r517,\n",
       "  d2: 0,\n",
       "  d3: r518,\n",
       "  d4: 0,\n",
       "  d5: r519,\n",
       "  a12: r520,\n",
       "  a13: r521,\n",
       "  a14: r522,\n",
       "  a15: r523,\n",
       "  a23: r524,\n",
       "  a24: r525,\n",
       "  a25: r526,\n",
       "  a34: r527,\n",
       "  a35: r528,\n",
       "  a45: -r519*x25/x24},\n",
       " {d1: r529,\n",
       "  d2: r530,\n",
       "  d3: r531,\n",
       "  d4: r530/x24,\n",
       "  d5: r529*x24/(x14*x25),\n",
       "  a12: (r530*x14 - r529*x24)/x24,\n",
       "  a13: r532,\n",
       "  a14: r533,\n",
       "  a15: r534,\n",
       "  a23: r535,\n",
       "  a24: r536,\n",
       "  a25: r537,\n",
       "  a34: r538,\n",
       "  a35: r539,\n",
       "  a45: (r530*x14 - r529*x24)/(x14*x24)}]"
      ]
     },
     "metadata": {},
     "output_type": "display_data"
    },
    {
     "data": {
      "text/plain": [
       "\\left[\\left\\{d_{1} : r_{517}, d_{2} : 0, d_{3} : r_{518}, d_{4} : 0, d_{5} : r_{519}, a_{12} : r_{520}, a_{13} : r_{521}, a_{14} : r_{522}, a_{15} : r_{523}, a_{23} : r_{524}, a_{24} : r_{525}, a_{25} : r_{526}, a_{34} : r_{527}, a_{35} : r_{528}, a_{45} : -\\frac{r_{519} x_{25}}{x_{24}}\\right\\}, \\left\\{d_{1} : r_{529}, d_{2} : r_{530}, d_{3} : r_{531}, d_{4} : \\frac{r_{530}}{x_{24}}, d_{5} : \\frac{r_{529} x_{24}}{x_{14} x_{25}}, a_{12} : \\frac{r_{530} x_{14} - r_{529} x_{24}}{x_{24}}, a_{13} : r_{532}, a_{14} : r_{533}, a_{15} : r_{534}, a_{23} : r_{535}, a_{24} : r_{536}, a_{25} : r_{537}, a_{34} : r_{538}, a_{35} : r_{539}, a_{45} : \\frac{r_{530} x_{14} - r_{529} x_{24}}{x_{14} x_{24}}\\right\\}\\right]"
      ]
     },
     "execution_count": 27,
     "metadata": {},
     "output_type": "execute_result"
    }
   ],
   "source": [
    "#x1\n",
    "reset()\n",
    "\n",
    "var('x12,x13,x14,x15,x23,x24,x25,x34,x35,x45')\n",
    "var('d1,d2,d3,d4,d5')\n",
    "var('a12,a13,a14,a15,a23,a24,a25,a34,a35,a45')\n",
    "\n",
    "load_attach_path('C:\\\\Users\\\\julia\\\\Documents\\\\unb\\\\doutorado\\\\pensar\\\\codigo_sage_v2\\\\maquina\\\\x1')\n",
    "load('out_#011010.sage')\n",
    "\n",
    "m=matrix(QQ, [[0, 0, 0, 1, 0],\n",
    "              [0, 0, 0, 1, 1],\n",
    "              [0, 0, 0, 0, 0],\n",
    "              [0, 0, 0, 0, 0],\n",
    "              [0, 0, 0, 0, 0]])\n",
    "        \n",
    "#entry of matrix: (i,j) line i collum j, means (i-1,j-1)\n",
    "sol=solve([ \teq1==m[0,2],\teq2==m[0,3],\teq3==m[0,4],\t\n",
    "                                            eq4==m[1,3],    eq5==m[1,4],\n",
    "                                                            eq6==m[2,4]],d1,d2,d3,d4,d5,a12,a13,a14,a15,a23,a24,a25,a34,a35,a45, solution_dict=True)\n",
    "\n",
    "show(m)\n",
    "show(sol)\n",
    "latex(sol)"
   ]
  },
  {
   "cell_type": "code",
   "execution_count": 28,
   "metadata": {},
   "outputs": [
    {
     "data": {
      "text/html": [
       "<html><script type=\"math/tex; mode=display\">\\newcommand{\\Bold}[1]{\\mathbf{#1}}\\left(\\begin{array}{rrrrr}\n",
       "0 & 0 & 0 & 1 & 0 \\\\\n",
       "0 & 0 & 0 & 1 & 1 \\\\\n",
       "0 & 0 & 0 & 0 & 0 \\\\\n",
       "0 & 0 & 0 & 0 & 0 \\\\\n",
       "0 & 0 & 0 & 0 & 0\n",
       "\\end{array}\\right)</script></html>"
      ],
      "text/latex": [
       "$$\\newcommand{\\Bold}[1]{\\mathbf{#1}}\\left(\\begin{array}{rrrrr}\n",
       "0 & 0 & 0 & 1 & 0 \\\\\n",
       "0 & 0 & 0 & 1 & 1 \\\\\n",
       "0 & 0 & 0 & 0 & 0 \\\\\n",
       "0 & 0 & 0 & 0 & 0 \\\\\n",
       "0 & 0 & 0 & 0 & 0\n",
       "\\end{array}\\right)$$"
      ],
      "text/plain": [
       "[0 0 0 1 0]\n",
       "[0 0 0 1 1]\n",
       "[0 0 0 0 0]\n",
       "[0 0 0 0 0]\n",
       "[0 0 0 0 0]"
      ]
     },
     "metadata": {},
     "output_type": "display_data"
    },
    {
     "data": {
      "text/html": [
       "<html><script type=\"math/tex; mode=display\">\\newcommand{\\Bold}[1]{\\mathbf{#1}}\\left[\\left\\{d_{1} : r_{540}, d_{2} : 0, d_{3} : r_{541}, d_{4} : 0, d_{5} : r_{542}, a_{12} : r_{543}, a_{13} : r_{544}, a_{14} : r_{545}, a_{15} : r_{546}, a_{23} : r_{547}, a_{24} : r_{548}, a_{25} : r_{549}, a_{34} : r_{550}, a_{35} : r_{551}, a_{45} : -\\frac{r_{542} x_{25}}{x_{24}}\\right\\}, \\left\\{d_{1} : r_{552}, d_{2} : r_{553}, d_{3} : r_{554}, d_{4} : \\frac{r_{553}}{x_{24}}, d_{5} : -\\frac{r_{552} x_{24}}{x_{15} x_{24} - x_{14} x_{25}}, a_{12} : \\frac{r_{553} x_{14} - r_{552} x_{24}}{x_{24}}, a_{13} : r_{555}, a_{14} : r_{556}, a_{15} : r_{557}, a_{23} : r_{558}, a_{24} : r_{559}, a_{25} : r_{560}, a_{34} : r_{561}, a_{35} : r_{562}, a_{45} : \\frac{r_{553} x_{15} x_{24} - {\\left(r_{553} x_{14} - r_{552} x_{24}\\right)} x_{25}}{x_{15} x_{24}^{2} - x_{14} x_{24} x_{25}}\\right\\}\\right]</script></html>"
      ],
      "text/latex": [
       "$$\\newcommand{\\Bold}[1]{\\mathbf{#1}}\\left[\\left\\{d_{1} : r_{540}, d_{2} : 0, d_{3} : r_{541}, d_{4} : 0, d_{5} : r_{542}, a_{12} : r_{543}, a_{13} : r_{544}, a_{14} : r_{545}, a_{15} : r_{546}, a_{23} : r_{547}, a_{24} : r_{548}, a_{25} : r_{549}, a_{34} : r_{550}, a_{35} : r_{551}, a_{45} : -\\frac{r_{542} x_{25}}{x_{24}}\\right\\}, \\left\\{d_{1} : r_{552}, d_{2} : r_{553}, d_{3} : r_{554}, d_{4} : \\frac{r_{553}}{x_{24}}, d_{5} : -\\frac{r_{552} x_{24}}{x_{15} x_{24} - x_{14} x_{25}}, a_{12} : \\frac{r_{553} x_{14} - r_{552} x_{24}}{x_{24}}, a_{13} : r_{555}, a_{14} : r_{556}, a_{15} : r_{557}, a_{23} : r_{558}, a_{24} : r_{559}, a_{25} : r_{560}, a_{34} : r_{561}, a_{35} : r_{562}, a_{45} : \\frac{r_{553} x_{15} x_{24} - {\\left(r_{553} x_{14} - r_{552} x_{24}\\right)} x_{25}}{x_{15} x_{24}^{2} - x_{14} x_{24} x_{25}}\\right\\}\\right]$$"
      ],
      "text/plain": [
       "[{d1: r540,\n",
       "  d2: 0,\n",
       "  d3: r541,\n",
       "  d4: 0,\n",
       "  d5: r542,\n",
       "  a12: r543,\n",
       "  a13: r544,\n",
       "  a14: r545,\n",
       "  a15: r546,\n",
       "  a23: r547,\n",
       "  a24: r548,\n",
       "  a25: r549,\n",
       "  a34: r550,\n",
       "  a35: r551,\n",
       "  a45: -r542*x25/x24},\n",
       " {d1: r552,\n",
       "  d2: r553,\n",
       "  d3: r554,\n",
       "  d4: r553/x24,\n",
       "  d5: -r552*x24/(x15*x24 - x14*x25),\n",
       "  a12: (r553*x14 - r552*x24)/x24,\n",
       "  a13: r555,\n",
       "  a14: r556,\n",
       "  a15: r557,\n",
       "  a23: r558,\n",
       "  a24: r559,\n",
       "  a25: r560,\n",
       "  a34: r561,\n",
       "  a35: r562,\n",
       "  a45: (r553*x15*x24 - (r553*x14 - r552*x24)*x25)/(x15*x24^2 - x14*x24*x25)}]"
      ]
     },
     "metadata": {},
     "output_type": "display_data"
    },
    {
     "data": {
      "text/plain": [
       "\\left[\\left\\{d_{1} : r_{540}, d_{2} : 0, d_{3} : r_{541}, d_{4} : 0, d_{5} : r_{542}, a_{12} : r_{543}, a_{13} : r_{544}, a_{14} : r_{545}, a_{15} : r_{546}, a_{23} : r_{547}, a_{24} : r_{548}, a_{25} : r_{549}, a_{34} : r_{550}, a_{35} : r_{551}, a_{45} : -\\frac{r_{542} x_{25}}{x_{24}}\\right\\}, \\left\\{d_{1} : r_{552}, d_{2} : r_{553}, d_{3} : r_{554}, d_{4} : \\frac{r_{553}}{x_{24}}, d_{5} : -\\frac{r_{552} x_{24}}{x_{15} x_{24} - x_{14} x_{25}}, a_{12} : \\frac{r_{553} x_{14} - r_{552} x_{24}}{x_{24}}, a_{13} : r_{555}, a_{14} : r_{556}, a_{15} : r_{557}, a_{23} : r_{558}, a_{24} : r_{559}, a_{25} : r_{560}, a_{34} : r_{561}, a_{35} : r_{562}, a_{45} : \\frac{r_{553} x_{15} x_{24} - {\\left(r_{553} x_{14} - r_{552} x_{24}\\right)} x_{25}}{x_{15} x_{24}^{2} - x_{14} x_{24} x_{25}}\\right\\}\\right]"
      ]
     },
     "execution_count": 28,
     "metadata": {},
     "output_type": "execute_result"
    }
   ],
   "source": [
    "#x1\n",
    "reset()\n",
    "\n",
    "var('x12,x13,x14,x15,x23,x24,x25,x34,x35,x45')\n",
    "var('d1,d2,d3,d4,d5')\n",
    "var('a12,a13,a14,a15,a23,a24,a25,a34,a35,a45')\n",
    "\n",
    "load_attach_path('C:\\\\Users\\\\julia\\\\Documents\\\\unb\\\\doutorado\\\\pensar\\\\codigo_sage_v2\\\\maquina\\\\x1')\n",
    "load('out_#011011.sage')\n",
    "\n",
    "m=matrix(QQ, [[0, 0, 0, 1, 0],\n",
    "              [0, 0, 0, 1, 1],\n",
    "              [0, 0, 0, 0, 0],\n",
    "              [0, 0, 0, 0, 0],\n",
    "              [0, 0, 0, 0, 0]])\n",
    "        \n",
    "#entry of matrix: (i,j) line i collum j, means (i-1,j-1)\n",
    "sol=solve([ \teq1==m[0,2],\teq2==m[0,3],\teq3==m[0,4],\t\n",
    "                                            eq4==m[1,3],    eq5==m[1,4],\n",
    "                                                            eq6==m[2,4]],d1,d2,d3,d4,d5,a12,a13,a14,a15,a23,a24,a25,a34,a35,a45, solution_dict=True)\n",
    "\n",
    "show(m)\n",
    "show(sol)\n",
    "latex(sol)"
   ]
  },
  {
   "cell_type": "code",
   "execution_count": 3,
   "metadata": {},
   "outputs": [
    {
     "data": {
      "text/html": [
       "<html><script type=\"math/tex; mode=display\">\\newcommand{\\Bold}[1]{\\mathbf{#1}}\\left(\\begin{array}{rrrrr}\n",
       "0 & 0 & 0 & 0 & 0 \\\\\n",
       "0 & 0 & 0 & 1 & 0 \\\\\n",
       "0 & 0 & 0 & 0 & 0 \\\\\n",
       "0 & 0 & 0 & 0 & 0 \\\\\n",
       "0 & 0 & 0 & 0 & 0\n",
       "\\end{array}\\right)</script></html>"
      ],
      "text/latex": [
       "$$\\newcommand{\\Bold}[1]{\\mathbf{#1}}\\left(\\begin{array}{rrrrr}\n",
       "0 & 0 & 0 & 0 & 0 \\\\\n",
       "0 & 0 & 0 & 1 & 0 \\\\\n",
       "0 & 0 & 0 & 0 & 0 \\\\\n",
       "0 & 0 & 0 & 0 & 0 \\\\\n",
       "0 & 0 & 0 & 0 & 0\n",
       "\\end{array}\\right)$$"
      ],
      "text/plain": [
       "[0 0 0 0 0]\n",
       "[0 0 0 1 0]\n",
       "[0 0 0 0 0]\n",
       "[0 0 0 0 0]\n",
       "[0 0 0 0 0]"
      ]
     },
     "metadata": {},
     "output_type": "display_data"
    },
    {
     "data": {
      "text/html": [
       "<html><script type=\"math/tex; mode=display\">\\newcommand{\\Bold}[1]{\\mathbf{#1}}\\left[\\left\\{d_{1} : r_{74}, d_{2} : 0, d_{3} : r_{75}, d_{4} : 0, d_{5} : r_{76}, a_{12} : r_{77}, a_{13} : r_{78}, a_{14} : r_{79}, a_{15} : r_{80}, a_{23} : r_{81}, a_{24} : r_{82}, a_{25} : r_{83}, a_{34} : r_{84}, a_{35} : r_{85}, a_{45} : -\\frac{r_{76} x_{25}}{x_{24}}\\right\\}, \\left\\{d_{1} : r_{86}, d_{2} : r_{87}, d_{3} : r_{88}, d_{4} : \\frac{r_{87}}{x_{24}}, d_{5} : r_{89}, a_{12} : \\frac{r_{87} x_{14}}{x_{24}}, a_{13} : r_{90}, a_{14} : r_{91}, a_{15} : r_{92}, a_{23} : r_{93}, a_{24} : r_{94}, a_{25} : r_{95}, a_{34} : r_{96}, a_{35} : r_{97}, a_{45} : -\\frac{r_{89} x_{25}}{x_{24}}\\right\\}\\right]</script></html>"
      ],
      "text/latex": [
       "$$\\newcommand{\\Bold}[1]{\\mathbf{#1}}\\left[\\left\\{d_{1} : r_{74}, d_{2} : 0, d_{3} : r_{75}, d_{4} : 0, d_{5} : r_{76}, a_{12} : r_{77}, a_{13} : r_{78}, a_{14} : r_{79}, a_{15} : r_{80}, a_{23} : r_{81}, a_{24} : r_{82}, a_{25} : r_{83}, a_{34} : r_{84}, a_{35} : r_{85}, a_{45} : -\\frac{r_{76} x_{25}}{x_{24}}\\right\\}, \\left\\{d_{1} : r_{86}, d_{2} : r_{87}, d_{3} : r_{88}, d_{4} : \\frac{r_{87}}{x_{24}}, d_{5} : r_{89}, a_{12} : \\frac{r_{87} x_{14}}{x_{24}}, a_{13} : r_{90}, a_{14} : r_{91}, a_{15} : r_{92}, a_{23} : r_{93}, a_{24} : r_{94}, a_{25} : r_{95}, a_{34} : r_{96}, a_{35} : r_{97}, a_{45} : -\\frac{r_{89} x_{25}}{x_{24}}\\right\\}\\right]$$"
      ],
      "text/plain": [
       "[{d1: r74,\n",
       "  d2: 0,\n",
       "  d3: r75,\n",
       "  d4: 0,\n",
       "  d5: r76,\n",
       "  a12: r77,\n",
       "  a13: r78,\n",
       "  a14: r79,\n",
       "  a15: r80,\n",
       "  a23: r81,\n",
       "  a24: r82,\n",
       "  a25: r83,\n",
       "  a34: r84,\n",
       "  a35: r85,\n",
       "  a45: -r76*x25/x24},\n",
       " {d1: r86,\n",
       "  d2: r87,\n",
       "  d3: r88,\n",
       "  d4: r87/x24,\n",
       "  d5: r89,\n",
       "  a12: r87*x14/x24,\n",
       "  a13: r90,\n",
       "  a14: r91,\n",
       "  a15: r92,\n",
       "  a23: r93,\n",
       "  a24: r94,\n",
       "  a25: r95,\n",
       "  a34: r96,\n",
       "  a35: r97,\n",
       "  a45: -r89*x25/x24}]"
      ]
     },
     "metadata": {},
     "output_type": "display_data"
    },
    {
     "data": {
      "text/plain": [
       "\\left[\\left\\{d_{1} : r_{74}, d_{2} : 0, d_{3} : r_{75}, d_{4} : 0, d_{5} : r_{76}, a_{12} : r_{77}, a_{13} : r_{78}, a_{14} : r_{79}, a_{15} : r_{80}, a_{23} : r_{81}, a_{24} : r_{82}, a_{25} : r_{83}, a_{34} : r_{84}, a_{35} : r_{85}, a_{45} : -\\frac{r_{76} x_{25}}{x_{24}}\\right\\}, \\left\\{d_{1} : r_{86}, d_{2} : r_{87}, d_{3} : r_{88}, d_{4} : \\frac{r_{87}}{x_{24}}, d_{5} : r_{89}, a_{12} : \\frac{r_{87} x_{14}}{x_{24}}, a_{13} : r_{90}, a_{14} : r_{91}, a_{15} : r_{92}, a_{23} : r_{93}, a_{24} : r_{94}, a_{25} : r_{95}, a_{34} : r_{96}, a_{35} : r_{97}, a_{45} : -\\frac{r_{89} x_{25}}{x_{24}}\\right\\}\\right]"
      ]
     },
     "execution_count": 3,
     "metadata": {},
     "output_type": "execute_result"
    }
   ],
   "source": [
    "#x1\n",
    "reset()\n",
    "\n",
    "var('x12,x13,x14,x15,x23,x24,x25,x34,x35,x45')\n",
    "var('d1,d2,d3,d4,d5')\n",
    "var('a12,a13,a14,a15,a23,a24,a25,a34,a35,a45')\n",
    "\n",
    "#011011\n",
    "eq1=(d3*0)/(d1) \n",
    "eq2=(a34*d2*0+d2*d4*x14-a12*d4*x24)/(d1*d2) \n",
    "eq3=(a35*d2*d3*0+a45*d2*d3*x14+d2*d3*d5*(x14*x25/x24)-a12*a45*d3*x24-a12*d3*d5*x25+a12*a23*d5*0-a13*d2*d5*0)/(d1*d2*d3) \n",
    "eq4=(d4*x24)/(d2) \n",
    "eq5=(a45*d3*x24+d3*d5*x25-a23*d5*0)/(d2*d3) \n",
    "eq6=(d5*0)/(d3)\n",
    "\n",
    "\n",
    "\n",
    "m=matrix(QQ, [[0, 0, 0, 0, 0],\n",
    "              [0, 0, 0, 1, 0],\n",
    "              [0, 0, 0, 0, 0],\n",
    "              [0, 0, 0, 0, 0],\n",
    "              [0, 0, 0, 0, 0]])\n",
    "        \n",
    "#entry of matrix: (i,j) line i collum j, means (i-1,j-1)\n",
    "sol=solve([ \teq1==m[0,2],\teq2==m[0,3],\teq3==m[0,4],\t\n",
    "                                            eq4==m[1,3],    eq5==m[1,4],\n",
    "                                                            eq6==m[2,4]],d1,d2,d3,d4,d5,a12,a13,a14,a15,a23,a24,a25,a34,a35,a45, solution_dict=True)\n",
    "\n",
    "show(m)\n",
    "show(sol)\n",
    "latex(sol)"
   ]
  },
  {
   "cell_type": "code",
   "execution_count": 9,
   "metadata": {},
   "outputs": [
    {
     "data": {
      "text/html": [
       "<html><script type=\"math/tex; mode=display\">\\newcommand{\\Bold}[1]{\\mathbf{#1}}\\left(\\begin{array}{rrrrr}\n",
       "0 & 0 & 1 & 0 & 0 \\\\\n",
       "0 & 0 & 0 & 1 & 0 \\\\\n",
       "0 & 0 & 0 & 0 & 0 \\\\\n",
       "0 & 0 & 0 & 0 & 0 \\\\\n",
       "0 & 0 & 0 & 0 & 0\n",
       "\\end{array}\\right)</script></html>"
      ],
      "text/latex": [
       "$$\\newcommand{\\Bold}[1]{\\mathbf{#1}}\\left(\\begin{array}{rrrrr}\n",
       "0 & 0 & 1 & 0 & 0 \\\\\n",
       "0 & 0 & 0 & 1 & 0 \\\\\n",
       "0 & 0 & 0 & 0 & 0 \\\\\n",
       "0 & 0 & 0 & 0 & 0 \\\\\n",
       "0 & 0 & 0 & 0 & 0\n",
       "\\end{array}\\right)$$"
      ],
      "text/plain": [
       "[0 0 1 0 0]\n",
       "[0 0 0 1 0]\n",
       "[0 0 0 0 0]\n",
       "[0 0 0 0 0]\n",
       "[0 0 0 0 0]"
      ]
     },
     "metadata": {},
     "output_type": "display_data"
    },
    {
     "data": {
      "text/html": [
       "<html><script type=\"math/tex; mode=display\">\\newcommand{\\Bold}[1]{\\mathbf{#1}}\\left[\\left\\{d_{1} : r_{186}, d_{2} : 0, d_{3} : \\frac{r_{186}}{x_{13}}, d_{4} : 0, d_{5} : r_{187}, a_{12} : r_{188}, a_{13} : r_{189}, a_{14} : r_{190}, a_{15} : r_{191}, a_{23} : r_{192}, a_{24} : r_{193}, a_{25} : r_{194}, a_{34} : r_{195}, a_{35} : r_{196}, a_{45} : -\\frac{r_{187} x_{25}}{x_{24}}\\right\\}, \\left\\{d_{1} : r_{197}, d_{2} : r_{198}, d_{3} : \\frac{r_{197}}{x_{13}}, d_{4} : \\frac{r_{198}}{x_{24}}, d_{5} : r_{199}, a_{12} : r_{200}, a_{13} : r_{201}, a_{14} : r_{202}, a_{15} : r_{203}, a_{23} : r_{204}, a_{24} : r_{205}, a_{25} : r_{206}, a_{34} : \\frac{r_{200}}{x_{13}}, a_{35} : 0, a_{45} : -\\frac{r_{199} x_{25}}{x_{24}}\\right\\}\\right]</script></html>"
      ],
      "text/latex": [
       "$$\\newcommand{\\Bold}[1]{\\mathbf{#1}}\\left[\\left\\{d_{1} : r_{186}, d_{2} : 0, d_{3} : \\frac{r_{186}}{x_{13}}, d_{4} : 0, d_{5} : r_{187}, a_{12} : r_{188}, a_{13} : r_{189}, a_{14} : r_{190}, a_{15} : r_{191}, a_{23} : r_{192}, a_{24} : r_{193}, a_{25} : r_{194}, a_{34} : r_{195}, a_{35} : r_{196}, a_{45} : -\\frac{r_{187} x_{25}}{x_{24}}\\right\\}, \\left\\{d_{1} : r_{197}, d_{2} : r_{198}, d_{3} : \\frac{r_{197}}{x_{13}}, d_{4} : \\frac{r_{198}}{x_{24}}, d_{5} : r_{199}, a_{12} : r_{200}, a_{13} : r_{201}, a_{14} : r_{202}, a_{15} : r_{203}, a_{23} : r_{204}, a_{24} : r_{205}, a_{25} : r_{206}, a_{34} : \\frac{r_{200}}{x_{13}}, a_{35} : 0, a_{45} : -\\frac{r_{199} x_{25}}{x_{24}}\\right\\}\\right]$$"
      ],
      "text/plain": [
       "[{d1: r186,\n",
       "  d2: 0,\n",
       "  d3: r186/x13,\n",
       "  d4: 0,\n",
       "  d5: r187,\n",
       "  a12: r188,\n",
       "  a13: r189,\n",
       "  a14: r190,\n",
       "  a15: r191,\n",
       "  a23: r192,\n",
       "  a24: r193,\n",
       "  a25: r194,\n",
       "  a34: r195,\n",
       "  a35: r196,\n",
       "  a45: -r187*x25/x24},\n",
       " {d1: r197,\n",
       "  d2: r198,\n",
       "  d3: r197/x13,\n",
       "  d4: r198/x24,\n",
       "  d5: r199,\n",
       "  a12: r200,\n",
       "  a13: r201,\n",
       "  a14: r202,\n",
       "  a15: r203,\n",
       "  a23: r204,\n",
       "  a24: r205,\n",
       "  a25: r206,\n",
       "  a34: r200/x13,\n",
       "  a35: 0,\n",
       "  a45: -r199*x25/x24}]"
      ]
     },
     "metadata": {},
     "output_type": "display_data"
    },
    {
     "data": {
      "text/plain": [
       "\\left[\\left\\{d_{1} : r_{186}, d_{2} : 0, d_{3} : \\frac{r_{186}}{x_{13}}, d_{4} : 0, d_{5} : r_{187}, a_{12} : r_{188}, a_{13} : r_{189}, a_{14} : r_{190}, a_{15} : r_{191}, a_{23} : r_{192}, a_{24} : r_{193}, a_{25} : r_{194}, a_{34} : r_{195}, a_{35} : r_{196}, a_{45} : -\\frac{r_{187} x_{25}}{x_{24}}\\right\\}, \\left\\{d_{1} : r_{197}, d_{2} : r_{198}, d_{3} : \\frac{r_{197}}{x_{13}}, d_{4} : \\frac{r_{198}}{x_{24}}, d_{5} : r_{199}, a_{12} : r_{200}, a_{13} : r_{201}, a_{14} : r_{202}, a_{15} : r_{203}, a_{23} : r_{204}, a_{24} : r_{205}, a_{25} : r_{206}, a_{34} : \\frac{r_{200}}{x_{13}}, a_{35} : 0, a_{45} : -\\frac{r_{199} x_{25}}{x_{24}}\\right\\}\\right]"
      ]
     },
     "execution_count": 9,
     "metadata": {},
     "output_type": "execute_result"
    }
   ],
   "source": [
    "#x1\n",
    "reset()\n",
    "\n",
    "var('x12,x13,x14,x15,x23,x24,x25,x34,x35,x45')\n",
    "var('d1,d2,d3,d4,d5')\n",
    "var('a12,a13,a14,a15,a23,a24,a25,a34,a35,a45')\n",
    "\n",
    "load_attach_path('C:\\\\Users\\\\julia\\\\Documents\\\\unb\\\\doutorado\\\\pensar\\\\codigo_sage_v2\\\\maquina\\\\x1')\n",
    "load('out_#011100.sage')\n",
    "\n",
    "m=matrix(QQ, [[0, 0, 1, 0, 0],\n",
    "              [0, 0, 0, 1, 0],\n",
    "              [0, 0, 0, 0, 0],\n",
    "              [0, 0, 0, 0, 0],\n",
    "              [0, 0, 0, 0, 0]])\n",
    "        \n",
    "#entry of matrix: (i,j) line i collum j, means (i-1,j-1)\n",
    "sol=solve([ \teq1==m[0,2],\teq2==m[0,3],\teq3==m[0,4],\t\n",
    "                                            eq4==m[1,3],    eq5==m[1,4],\n",
    "                                                            eq6==m[2,4]],d1,d2,d3,d4,d5,a12,a13,a14,a15,a23,a24,a25,a34,a35,a45, solution_dict=True)\n",
    "\n",
    "show(m)\n",
    "show(sol)\n",
    "latex(sol)"
   ]
  },
  {
   "cell_type": "code",
   "execution_count": 4,
   "metadata": {},
   "outputs": [
    {
     "data": {
      "text/html": [
       "<html><script type=\"math/tex; mode=display\">\\newcommand{\\Bold}[1]{\\mathbf{#1}}\\left(\\begin{array}{rrrrr}\n",
       "0 & 0 & 1 & 0 & 0 \\\\\n",
       "0 & 0 & 0 & 1 & 0 \\\\\n",
       "0 & 0 & 0 & 0 & 0 \\\\\n",
       "0 & 0 & 0 & 0 & 0 \\\\\n",
       "0 & 0 & 0 & 0 & 0\n",
       "\\end{array}\\right)</script></html>"
      ],
      "text/latex": [
       "$$\\newcommand{\\Bold}[1]{\\mathbf{#1}}\\left(\\begin{array}{rrrrr}\n",
       "0 & 0 & 1 & 0 & 0 \\\\\n",
       "0 & 0 & 0 & 1 & 0 \\\\\n",
       "0 & 0 & 0 & 0 & 0 \\\\\n",
       "0 & 0 & 0 & 0 & 0 \\\\\n",
       "0 & 0 & 0 & 0 & 0\n",
       "\\end{array}\\right)$$"
      ],
      "text/plain": [
       "[0 0 1 0 0]\n",
       "[0 0 0 1 0]\n",
       "[0 0 0 0 0]\n",
       "[0 0 0 0 0]\n",
       "[0 0 0 0 0]"
      ]
     },
     "metadata": {},
     "output_type": "display_data"
    },
    {
     "data": {
      "text/html": [
       "<html><script type=\"math/tex; mode=display\">\\newcommand{\\Bold}[1]{\\mathbf{#1}}\\left[\\left\\{d_{1} : r_{23}, d_{2} : 0, d_{3} : \\frac{r_{23}}{x_{13}}, d_{4} : 0, d_{5} : r_{24}, a_{12} : r_{25}, a_{13} : r_{26}, a_{14} : r_{27}, a_{15} : r_{28}, a_{23} : r_{29}, a_{24} : r_{30}, a_{25} : r_{31}, a_{34} : r_{32}, a_{35} : r_{33}, a_{45} : -\\frac{r_{24} x_{25}}{x_{24}}\\right\\}, \\left\\{d_{1} : r_{34}, d_{2} : r_{35}, d_{3} : \\frac{r_{34}}{x_{13}}, d_{4} : \\frac{r_{35}}{x_{24}}, d_{5} : r_{36}, a_{12} : r_{37}, a_{13} : r_{38}, a_{14} : r_{39}, a_{15} : r_{40}, a_{23} : r_{41}, a_{24} : r_{42}, a_{25} : r_{43}, a_{34} : \\frac{r_{37}}{x_{13}}, a_{35} : -\\frac{r_{36} x_{15}}{x_{13}}, a_{45} : -\\frac{r_{36} x_{25}}{x_{24}}\\right\\}\\right]</script></html>"
      ],
      "text/latex": [
       "$$\\newcommand{\\Bold}[1]{\\mathbf{#1}}\\left[\\left\\{d_{1} : r_{23}, d_{2} : 0, d_{3} : \\frac{r_{23}}{x_{13}}, d_{4} : 0, d_{5} : r_{24}, a_{12} : r_{25}, a_{13} : r_{26}, a_{14} : r_{27}, a_{15} : r_{28}, a_{23} : r_{29}, a_{24} : r_{30}, a_{25} : r_{31}, a_{34} : r_{32}, a_{35} : r_{33}, a_{45} : -\\frac{r_{24} x_{25}}{x_{24}}\\right\\}, \\left\\{d_{1} : r_{34}, d_{2} : r_{35}, d_{3} : \\frac{r_{34}}{x_{13}}, d_{4} : \\frac{r_{35}}{x_{24}}, d_{5} : r_{36}, a_{12} : r_{37}, a_{13} : r_{38}, a_{14} : r_{39}, a_{15} : r_{40}, a_{23} : r_{41}, a_{24} : r_{42}, a_{25} : r_{43}, a_{34} : \\frac{r_{37}}{x_{13}}, a_{35} : -\\frac{r_{36} x_{15}}{x_{13}}, a_{45} : -\\frac{r_{36} x_{25}}{x_{24}}\\right\\}\\right]$$"
      ],
      "text/plain": [
       "[{d1: r23,\n",
       "  d2: 0,\n",
       "  d3: r23/x13,\n",
       "  d4: 0,\n",
       "  d5: r24,\n",
       "  a12: r25,\n",
       "  a13: r26,\n",
       "  a14: r27,\n",
       "  a15: r28,\n",
       "  a23: r29,\n",
       "  a24: r30,\n",
       "  a25: r31,\n",
       "  a34: r32,\n",
       "  a35: r33,\n",
       "  a45: -r24*x25/x24},\n",
       " {d1: r34,\n",
       "  d2: r35,\n",
       "  d3: r34/x13,\n",
       "  d4: r35/x24,\n",
       "  d5: r36,\n",
       "  a12: r37,\n",
       "  a13: r38,\n",
       "  a14: r39,\n",
       "  a15: r40,\n",
       "  a23: r41,\n",
       "  a24: r42,\n",
       "  a25: r43,\n",
       "  a34: r37/x13,\n",
       "  a35: -r36*x15/x13,\n",
       "  a45: -r36*x25/x24}]"
      ]
     },
     "metadata": {},
     "output_type": "display_data"
    },
    {
     "data": {
      "text/plain": [
       "\\left[\\left\\{d_{1} : r_{23}, d_{2} : 0, d_{3} : \\frac{r_{23}}{x_{13}}, d_{4} : 0, d_{5} : r_{24}, a_{12} : r_{25}, a_{13} : r_{26}, a_{14} : r_{27}, a_{15} : r_{28}, a_{23} : r_{29}, a_{24} : r_{30}, a_{25} : r_{31}, a_{34} : r_{32}, a_{35} : r_{33}, a_{45} : -\\frac{r_{24} x_{25}}{x_{24}}\\right\\}, \\left\\{d_{1} : r_{34}, d_{2} : r_{35}, d_{3} : \\frac{r_{34}}{x_{13}}, d_{4} : \\frac{r_{35}}{x_{24}}, d_{5} : r_{36}, a_{12} : r_{37}, a_{13} : r_{38}, a_{14} : r_{39}, a_{15} : r_{40}, a_{23} : r_{41}, a_{24} : r_{42}, a_{25} : r_{43}, a_{34} : \\frac{r_{37}}{x_{13}}, a_{35} : -\\frac{r_{36} x_{15}}{x_{13}}, a_{45} : -\\frac{r_{36} x_{25}}{x_{24}}\\right\\}\\right]"
      ]
     },
     "execution_count": 4,
     "metadata": {},
     "output_type": "execute_result"
    }
   ],
   "source": [
    "#x1\n",
    "reset()\n",
    "\n",
    "var('x12,x13,x14,x15,x23,x24,x25,x34,x35,x45')\n",
    "var('d1,d2,d3,d4,d5')\n",
    "var('a12,a13,a14,a15,a23,a24,a25,a34,a35,a45')\n",
    "\n",
    "load_attach_path('C:\\\\Users\\\\julia\\\\Documents\\\\unb\\\\doutorado\\\\pensar\\\\codigo_sage_v2\\\\maquina\\\\x1')\n",
    "load('out_#011101.sage')\n",
    "\n",
    "m=matrix(QQ, [[0, 0, 1, 0, 0],\n",
    "              [0, 0, 0, 1, 0],\n",
    "              [0, 0, 0, 0, 0],\n",
    "              [0, 0, 0, 0, 0],\n",
    "              [0, 0, 0, 0, 0]])\n",
    "        \n",
    "#entry of matrix: (i,j) line i collum j, means (i-1,j-1)\n",
    "sol=solve([ \teq1==m[0,2],\teq2==m[0,3],\teq3==m[0,4],\t\n",
    "                                            eq4==m[1,3],    eq5==m[1,4],\n",
    "                                                            eq6==m[2,4]],d1,d2,d3,d4,d5,a12,a13,a14,a15,a23,a24,a25,a34,a35,a45, solution_dict=True)\n",
    "\n",
    "show(m)\n",
    "show(sol)\n",
    "latex(sol)"
   ]
  },
  {
   "cell_type": "code",
   "execution_count": 10,
   "metadata": {},
   "outputs": [
    {
     "data": {
      "text/html": [
       "<html><script type=\"math/tex; mode=display\">\\newcommand{\\Bold}[1]{\\mathbf{#1}}\\left(\\begin{array}{rrrrr}\n",
       "0 & 0 & 1 & 0 & 0 \\\\\n",
       "0 & 0 & 0 & 1 & 0 \\\\\n",
       "0 & 0 & 0 & 0 & 0 \\\\\n",
       "0 & 0 & 0 & 0 & 0 \\\\\n",
       "0 & 0 & 0 & 0 & 0\n",
       "\\end{array}\\right)</script></html>"
      ],
      "text/latex": [
       "$$\\newcommand{\\Bold}[1]{\\mathbf{#1}}\\left(\\begin{array}{rrrrr}\n",
       "0 & 0 & 1 & 0 & 0 \\\\\n",
       "0 & 0 & 0 & 1 & 0 \\\\\n",
       "0 & 0 & 0 & 0 & 0 \\\\\n",
       "0 & 0 & 0 & 0 & 0 \\\\\n",
       "0 & 0 & 0 & 0 & 0\n",
       "\\end{array}\\right)$$"
      ],
      "text/plain": [
       "[0 0 1 0 0]\n",
       "[0 0 0 1 0]\n",
       "[0 0 0 0 0]\n",
       "[0 0 0 0 0]\n",
       "[0 0 0 0 0]"
      ]
     },
     "metadata": {},
     "output_type": "display_data"
    },
    {
     "data": {
      "text/html": [
       "<html><script type=\"math/tex; mode=display\">\\newcommand{\\Bold}[1]{\\mathbf{#1}}\\left[\\left\\{d_{1} : r_{207}, d_{2} : 0, d_{3} : \\frac{r_{207}}{x_{13}}, d_{4} : 0, d_{5} : r_{208}, a_{12} : r_{209}, a_{13} : r_{210}, a_{14} : r_{211}, a_{15} : r_{212}, a_{23} : r_{213}, a_{24} : r_{214}, a_{25} : r_{215}, a_{34} : r_{216}, a_{35} : r_{217}, a_{45} : -\\frac{r_{208} x_{25}}{x_{24}}\\right\\}, \\left\\{d_{1} : r_{218}, d_{2} : r_{219}, d_{3} : \\frac{r_{218}}{x_{13}}, d_{4} : \\frac{r_{219}}{x_{24}}, d_{5} : r_{220}, a_{12} : r_{221}, a_{13} : r_{222}, a_{14} : r_{223}, a_{15} : r_{224}, a_{23} : r_{225}, a_{24} : r_{226}, a_{25} : r_{227}, a_{34} : -\\frac{r_{219} x_{14} - r_{221} x_{24}}{x_{13} x_{24}}, a_{35} : \\frac{r_{220} x_{14} x_{25}}{x_{13} x_{24}}, a_{45} : -\\frac{r_{220} x_{25}}{x_{24}}\\right\\}\\right]</script></html>"
      ],
      "text/latex": [
       "$$\\newcommand{\\Bold}[1]{\\mathbf{#1}}\\left[\\left\\{d_{1} : r_{207}, d_{2} : 0, d_{3} : \\frac{r_{207}}{x_{13}}, d_{4} : 0, d_{5} : r_{208}, a_{12} : r_{209}, a_{13} : r_{210}, a_{14} : r_{211}, a_{15} : r_{212}, a_{23} : r_{213}, a_{24} : r_{214}, a_{25} : r_{215}, a_{34} : r_{216}, a_{35} : r_{217}, a_{45} : -\\frac{r_{208} x_{25}}{x_{24}}\\right\\}, \\left\\{d_{1} : r_{218}, d_{2} : r_{219}, d_{3} : \\frac{r_{218}}{x_{13}}, d_{4} : \\frac{r_{219}}{x_{24}}, d_{5} : r_{220}, a_{12} : r_{221}, a_{13} : r_{222}, a_{14} : r_{223}, a_{15} : r_{224}, a_{23} : r_{225}, a_{24} : r_{226}, a_{25} : r_{227}, a_{34} : -\\frac{r_{219} x_{14} - r_{221} x_{24}}{x_{13} x_{24}}, a_{35} : \\frac{r_{220} x_{14} x_{25}}{x_{13} x_{24}}, a_{45} : -\\frac{r_{220} x_{25}}{x_{24}}\\right\\}\\right]$$"
      ],
      "text/plain": [
       "[{d1: r207,\n",
       "  d2: 0,\n",
       "  d3: r207/x13,\n",
       "  d4: 0,\n",
       "  d5: r208,\n",
       "  a12: r209,\n",
       "  a13: r210,\n",
       "  a14: r211,\n",
       "  a15: r212,\n",
       "  a23: r213,\n",
       "  a24: r214,\n",
       "  a25: r215,\n",
       "  a34: r216,\n",
       "  a35: r217,\n",
       "  a45: -r208*x25/x24},\n",
       " {d1: r218,\n",
       "  d2: r219,\n",
       "  d3: r218/x13,\n",
       "  d4: r219/x24,\n",
       "  d5: r220,\n",
       "  a12: r221,\n",
       "  a13: r222,\n",
       "  a14: r223,\n",
       "  a15: r224,\n",
       "  a23: r225,\n",
       "  a24: r226,\n",
       "  a25: r227,\n",
       "  a34: -(r219*x14 - r221*x24)/(x13*x24),\n",
       "  a35: r220*x14*x25/(x13*x24),\n",
       "  a45: -r220*x25/x24}]"
      ]
     },
     "metadata": {},
     "output_type": "display_data"
    },
    {
     "data": {
      "text/plain": [
       "\\left[\\left\\{d_{1} : r_{207}, d_{2} : 0, d_{3} : \\frac{r_{207}}{x_{13}}, d_{4} : 0, d_{5} : r_{208}, a_{12} : r_{209}, a_{13} : r_{210}, a_{14} : r_{211}, a_{15} : r_{212}, a_{23} : r_{213}, a_{24} : r_{214}, a_{25} : r_{215}, a_{34} : r_{216}, a_{35} : r_{217}, a_{45} : -\\frac{r_{208} x_{25}}{x_{24}}\\right\\}, \\left\\{d_{1} : r_{218}, d_{2} : r_{219}, d_{3} : \\frac{r_{218}}{x_{13}}, d_{4} : \\frac{r_{219}}{x_{24}}, d_{5} : r_{220}, a_{12} : r_{221}, a_{13} : r_{222}, a_{14} : r_{223}, a_{15} : r_{224}, a_{23} : r_{225}, a_{24} : r_{226}, a_{25} : r_{227}, a_{34} : -\\frac{r_{219} x_{14} - r_{221} x_{24}}{x_{13} x_{24}}, a_{35} : \\frac{r_{220} x_{14} x_{25}}{x_{13} x_{24}}, a_{45} : -\\frac{r_{220} x_{25}}{x_{24}}\\right\\}\\right]"
      ]
     },
     "execution_count": 10,
     "metadata": {},
     "output_type": "execute_result"
    }
   ],
   "source": [
    "#x1\n",
    "reset()\n",
    "\n",
    "var('x12,x13,x14,x15,x23,x24,x25,x34,x35,x45')\n",
    "var('d1,d2,d3,d4,d5')\n",
    "var('a12,a13,a14,a15,a23,a24,a25,a34,a35,a45')\n",
    "\n",
    "load_attach_path('C:\\\\Users\\\\julia\\\\Documents\\\\unb\\\\doutorado\\\\pensar\\\\codigo_sage_v2\\\\maquina\\\\x1')\n",
    "load('out_#011110.sage')\n",
    "\n",
    "m=matrix(QQ, [[0, 0, 1, 0, 0],\n",
    "              [0, 0, 0, 1, 0],\n",
    "              [0, 0, 0, 0, 0],\n",
    "              [0, 0, 0, 0, 0],\n",
    "              [0, 0, 0, 0, 0]])\n",
    "        \n",
    "#entry of matrix: (i,j) line i collum j, means (i-1,j-1)\n",
    "sol=solve([ \teq1==m[0,2],\teq2==m[0,3],\teq3==m[0,4],\t\n",
    "                                            eq4==m[1,3],    eq5==m[1,4],\n",
    "                                                            eq6==m[2,4]],d1,d2,d3,d4,d5,a12,a13,a14,a15,a23,a24,a25,a34,a35,a45, solution_dict=True)\n",
    "\n",
    "show(m)\n",
    "show(sol)\n",
    "latex(sol)"
   ]
  },
  {
   "cell_type": "code",
   "execution_count": 32,
   "metadata": {},
   "outputs": [
    {
     "data": {
      "text/html": [
       "<html><script type=\"math/tex; mode=display\">\\newcommand{\\Bold}[1]{\\mathbf{#1}}\\left(\\begin{array}{rrrrr}\n",
       "0 & 0 & 1 & 0 & 0 \\\\\n",
       "0 & 0 & 0 & 1 & 0 \\\\\n",
       "0 & 0 & 0 & 0 & 0 \\\\\n",
       "0 & 0 & 0 & 0 & 0 \\\\\n",
       "0 & 0 & 0 & 0 & 0\n",
       "\\end{array}\\right)</script></html>"
      ],
      "text/latex": [
       "$$\\newcommand{\\Bold}[1]{\\mathbf{#1}}\\left(\\begin{array}{rrrrr}\n",
       "0 & 0 & 1 & 0 & 0 \\\\\n",
       "0 & 0 & 0 & 1 & 0 \\\\\n",
       "0 & 0 & 0 & 0 & 0 \\\\\n",
       "0 & 0 & 0 & 0 & 0 \\\\\n",
       "0 & 0 & 0 & 0 & 0\n",
       "\\end{array}\\right)$$"
      ],
      "text/plain": [
       "[0 0 1 0 0]\n",
       "[0 0 0 1 0]\n",
       "[0 0 0 0 0]\n",
       "[0 0 0 0 0]\n",
       "[0 0 0 0 0]"
      ]
     },
     "metadata": {},
     "output_type": "display_data"
    },
    {
     "data": {
      "text/html": [
       "<html><script type=\"math/tex; mode=display\">\\newcommand{\\Bold}[1]{\\mathbf{#1}}\\left[\\left\\{d_{1} : r_{626}, d_{2} : 0, d_{3} : \\frac{r_{626}}{x_{13}}, d_{4} : 0, d_{5} : r_{627}, a_{12} : r_{628}, a_{13} : r_{629}, a_{14} : r_{630}, a_{15} : r_{631}, a_{23} : r_{632}, a_{24} : r_{633}, a_{25} : r_{634}, a_{34} : r_{635}, a_{35} : r_{636}, a_{45} : -\\frac{r_{627} x_{25}}{x_{24}}\\right\\}, \\left\\{d_{1} : r_{637}, d_{2} : r_{638}, d_{3} : \\frac{r_{637}}{x_{13}}, d_{4} : \\frac{r_{638}}{x_{24}}, d_{5} : r_{639}, a_{12} : r_{640}, a_{13} : r_{641}, a_{14} : r_{642}, a_{15} : r_{643}, a_{23} : r_{644}, a_{24} : r_{645}, a_{25} : r_{646}, a_{34} : -\\frac{r_{638} x_{14} - r_{640} x_{24}}{x_{13} x_{24}}, a_{35} : -\\frac{r_{639} x_{15} x_{24} - r_{639} x_{14} x_{25}}{x_{13} x_{24}}, a_{45} : -\\frac{r_{639} x_{25}}{x_{24}}\\right\\}\\right]</script></html>"
      ],
      "text/latex": [
       "$$\\newcommand{\\Bold}[1]{\\mathbf{#1}}\\left[\\left\\{d_{1} : r_{626}, d_{2} : 0, d_{3} : \\frac{r_{626}}{x_{13}}, d_{4} : 0, d_{5} : r_{627}, a_{12} : r_{628}, a_{13} : r_{629}, a_{14} : r_{630}, a_{15} : r_{631}, a_{23} : r_{632}, a_{24} : r_{633}, a_{25} : r_{634}, a_{34} : r_{635}, a_{35} : r_{636}, a_{45} : -\\frac{r_{627} x_{25}}{x_{24}}\\right\\}, \\left\\{d_{1} : r_{637}, d_{2} : r_{638}, d_{3} : \\frac{r_{637}}{x_{13}}, d_{4} : \\frac{r_{638}}{x_{24}}, d_{5} : r_{639}, a_{12} : r_{640}, a_{13} : r_{641}, a_{14} : r_{642}, a_{15} : r_{643}, a_{23} : r_{644}, a_{24} : r_{645}, a_{25} : r_{646}, a_{34} : -\\frac{r_{638} x_{14} - r_{640} x_{24}}{x_{13} x_{24}}, a_{35} : -\\frac{r_{639} x_{15} x_{24} - r_{639} x_{14} x_{25}}{x_{13} x_{24}}, a_{45} : -\\frac{r_{639} x_{25}}{x_{24}}\\right\\}\\right]$$"
      ],
      "text/plain": [
       "[{d1: r626,\n",
       "  d2: 0,\n",
       "  d3: r626/x13,\n",
       "  d4: 0,\n",
       "  d5: r627,\n",
       "  a12: r628,\n",
       "  a13: r629,\n",
       "  a14: r630,\n",
       "  a15: r631,\n",
       "  a23: r632,\n",
       "  a24: r633,\n",
       "  a25: r634,\n",
       "  a34: r635,\n",
       "  a35: r636,\n",
       "  a45: -r627*x25/x24},\n",
       " {d1: r637,\n",
       "  d2: r638,\n",
       "  d3: r637/x13,\n",
       "  d4: r638/x24,\n",
       "  d5: r639,\n",
       "  a12: r640,\n",
       "  a13: r641,\n",
       "  a14: r642,\n",
       "  a15: r643,\n",
       "  a23: r644,\n",
       "  a24: r645,\n",
       "  a25: r646,\n",
       "  a34: -(r638*x14 - r640*x24)/(x13*x24),\n",
       "  a35: -(r639*x15*x24 - r639*x14*x25)/(x13*x24),\n",
       "  a45: -r639*x25/x24}]"
      ]
     },
     "metadata": {},
     "output_type": "display_data"
    },
    {
     "data": {
      "text/plain": [
       "\\left[\\left\\{d_{1} : r_{626}, d_{2} : 0, d_{3} : \\frac{r_{626}}{x_{13}}, d_{4} : 0, d_{5} : r_{627}, a_{12} : r_{628}, a_{13} : r_{629}, a_{14} : r_{630}, a_{15} : r_{631}, a_{23} : r_{632}, a_{24} : r_{633}, a_{25} : r_{634}, a_{34} : r_{635}, a_{35} : r_{636}, a_{45} : -\\frac{r_{627} x_{25}}{x_{24}}\\right\\}, \\left\\{d_{1} : r_{637}, d_{2} : r_{638}, d_{3} : \\frac{r_{637}}{x_{13}}, d_{4} : \\frac{r_{638}}{x_{24}}, d_{5} : r_{639}, a_{12} : r_{640}, a_{13} : r_{641}, a_{14} : r_{642}, a_{15} : r_{643}, a_{23} : r_{644}, a_{24} : r_{645}, a_{25} : r_{646}, a_{34} : -\\frac{r_{638} x_{14} - r_{640} x_{24}}{x_{13} x_{24}}, a_{35} : -\\frac{r_{639} x_{15} x_{24} - r_{639} x_{14} x_{25}}{x_{13} x_{24}}, a_{45} : -\\frac{r_{639} x_{25}}{x_{24}}\\right\\}\\right]"
      ]
     },
     "execution_count": 32,
     "metadata": {},
     "output_type": "execute_result"
    }
   ],
   "source": [
    "#x1\n",
    "reset()\n",
    "\n",
    "var('x12,x13,x14,x15,x23,x24,x25,x34,x35,x45')\n",
    "var('d1,d2,d3,d4,d5')\n",
    "var('a12,a13,a14,a15,a23,a24,a25,a34,a35,a45')\n",
    "\n",
    "load_attach_path('C:\\\\Users\\\\julia\\\\Documents\\\\unb\\\\doutorado\\\\pensar\\\\codigo_sage_v2\\\\maquina\\\\x1')\n",
    "load('out_#011111.sage')\n",
    "\n",
    "m=matrix(QQ, [[0, 0, 1, 0, 0],\n",
    "              [0, 0, 0, 1, 0],\n",
    "              [0, 0, 0, 0, 0],\n",
    "              [0, 0, 0, 0, 0],\n",
    "              [0, 0, 0, 0, 0]])\n",
    "        \n",
    "#entry of matrix: (i,j) line i collum j, means (i-1,j-1)\n",
    "sol=solve([ \teq1==m[0,2],\teq2==m[0,3],\teq3==m[0,4],\t\n",
    "                                            eq4==m[1,3],    eq5==m[1,4],\n",
    "                                                            eq6==m[2,4]],d1,d2,d3,d4,d5,a12,a13,a14,a15,a23,a24,a25,a34,a35,a45, solution_dict=True)\n",
    "\n",
    "show(m)\n",
    "show(sol)\n",
    "latex(sol)"
   ]
  },
  {
   "cell_type": "code",
   "execution_count": 33,
   "metadata": {},
   "outputs": [
    {
     "data": {
      "text/html": [
       "<html><script type=\"math/tex; mode=display\">\\newcommand{\\Bold}[1]{\\mathbf{#1}}\\left(\\begin{array}{rrrrr}\n",
       "0 & 0 & 0 & 0 & 0 \\\\\n",
       "0 & 0 & 0 & 0 & 0 \\\\\n",
       "0 & 0 & 0 & 0 & 1 \\\\\n",
       "0 & 0 & 0 & 0 & 0 \\\\\n",
       "0 & 0 & 0 & 0 & 0\n",
       "\\end{array}\\right)</script></html>"
      ],
      "text/latex": [
       "$$\\newcommand{\\Bold}[1]{\\mathbf{#1}}\\left(\\begin{array}{rrrrr}\n",
       "0 & 0 & 0 & 0 & 0 \\\\\n",
       "0 & 0 & 0 & 0 & 0 \\\\\n",
       "0 & 0 & 0 & 0 & 1 \\\\\n",
       "0 & 0 & 0 & 0 & 0 \\\\\n",
       "0 & 0 & 0 & 0 & 0\n",
       "\\end{array}\\right)$$"
      ],
      "text/plain": [
       "[0 0 0 0 0]\n",
       "[0 0 0 0 0]\n",
       "[0 0 0 0 1]\n",
       "[0 0 0 0 0]\n",
       "[0 0 0 0 0]"
      ]
     },
     "metadata": {},
     "output_type": "display_data"
    },
    {
     "data": {
      "text/html": [
       "<html><script type=\"math/tex; mode=display\">\\newcommand{\\Bold}[1]{\\mathbf{#1}}\\left[\\left\\{d_{1} : r_{647}, d_{2} : r_{648}, d_{3} : 0, d_{4} : r_{649}, d_{5} : 0, a_{12} : r_{650}, a_{13} : r_{651}, a_{14} : r_{652}, a_{15} : r_{653}, a_{23} : r_{654}, a_{24} : r_{655}, a_{25} : r_{656}, a_{34} : r_{657}, a_{35} : r_{658}, a_{45} : r_{659}\\right\\}, \\left\\{d_{1} : r_{660}, d_{2} : 0, d_{3} : r_{661}, d_{4} : r_{662}, d_{5} : \\frac{r_{661}}{x_{35}}, a_{12} : r_{663}, a_{13} : r_{664}, a_{14} : r_{665}, a_{15} : r_{666}, a_{23} : 0, a_{24} : r_{667}, a_{25} : r_{668}, a_{34} : r_{669}, a_{35} : r_{670}, a_{45} : r_{671}\\right\\}, \\left\\{d_{1} : r_{672}, d_{2} : r_{673}, d_{3} : r_{674}, d_{4} : r_{675}, d_{5} : \\frac{r_{674}}{x_{35}}, a_{12} : r_{676}, a_{13} : 0, a_{14} : r_{677}, a_{15} : r_{678}, a_{23} : 0, a_{24} : r_{679}, a_{25} : r_{680}, a_{34} : r_{681}, a_{35} : r_{682}, a_{45} : r_{683}\\right\\}\\right]</script></html>"
      ],
      "text/latex": [
       "$$\\newcommand{\\Bold}[1]{\\mathbf{#1}}\\left[\\left\\{d_{1} : r_{647}, d_{2} : r_{648}, d_{3} : 0, d_{4} : r_{649}, d_{5} : 0, a_{12} : r_{650}, a_{13} : r_{651}, a_{14} : r_{652}, a_{15} : r_{653}, a_{23} : r_{654}, a_{24} : r_{655}, a_{25} : r_{656}, a_{34} : r_{657}, a_{35} : r_{658}, a_{45} : r_{659}\\right\\}, \\left\\{d_{1} : r_{660}, d_{2} : 0, d_{3} : r_{661}, d_{4} : r_{662}, d_{5} : \\frac{r_{661}}{x_{35}}, a_{12} : r_{663}, a_{13} : r_{664}, a_{14} : r_{665}, a_{15} : r_{666}, a_{23} : 0, a_{24} : r_{667}, a_{25} : r_{668}, a_{34} : r_{669}, a_{35} : r_{670}, a_{45} : r_{671}\\right\\}, \\left\\{d_{1} : r_{672}, d_{2} : r_{673}, d_{3} : r_{674}, d_{4} : r_{675}, d_{5} : \\frac{r_{674}}{x_{35}}, a_{12} : r_{676}, a_{13} : 0, a_{14} : r_{677}, a_{15} : r_{678}, a_{23} : 0, a_{24} : r_{679}, a_{25} : r_{680}, a_{34} : r_{681}, a_{35} : r_{682}, a_{45} : r_{683}\\right\\}\\right]$$"
      ],
      "text/plain": [
       "[{d1: r647,\n",
       "  d2: r648,\n",
       "  d3: 0,\n",
       "  d4: r649,\n",
       "  d5: 0,\n",
       "  a12: r650,\n",
       "  a13: r651,\n",
       "  a14: r652,\n",
       "  a15: r653,\n",
       "  a23: r654,\n",
       "  a24: r655,\n",
       "  a25: r656,\n",
       "  a34: r657,\n",
       "  a35: r658,\n",
       "  a45: r659},\n",
       " {d1: r660,\n",
       "  d2: 0,\n",
       "  d3: r661,\n",
       "  d4: r662,\n",
       "  d5: r661/x35,\n",
       "  a12: r663,\n",
       "  a13: r664,\n",
       "  a14: r665,\n",
       "  a15: r666,\n",
       "  a23: 0,\n",
       "  a24: r667,\n",
       "  a25: r668,\n",
       "  a34: r669,\n",
       "  a35: r670,\n",
       "  a45: r671},\n",
       " {d1: r672,\n",
       "  d2: r673,\n",
       "  d3: r674,\n",
       "  d4: r675,\n",
       "  d5: r674/x35,\n",
       "  a12: r676,\n",
       "  a13: 0,\n",
       "  a14: r677,\n",
       "  a15: r678,\n",
       "  a23: 0,\n",
       "  a24: r679,\n",
       "  a25: r680,\n",
       "  a34: r681,\n",
       "  a35: r682,\n",
       "  a45: r683}]"
      ]
     },
     "metadata": {},
     "output_type": "display_data"
    },
    {
     "data": {
      "text/plain": [
       "\\left[\\left\\{d_{1} : r_{647}, d_{2} : r_{648}, d_{3} : 0, d_{4} : r_{649}, d_{5} : 0, a_{12} : r_{650}, a_{13} : r_{651}, a_{14} : r_{652}, a_{15} : r_{653}, a_{23} : r_{654}, a_{24} : r_{655}, a_{25} : r_{656}, a_{34} : r_{657}, a_{35} : r_{658}, a_{45} : r_{659}\\right\\}, \\left\\{d_{1} : r_{660}, d_{2} : 0, d_{3} : r_{661}, d_{4} : r_{662}, d_{5} : \\frac{r_{661}}{x_{35}}, a_{12} : r_{663}, a_{13} : r_{664}, a_{14} : r_{665}, a_{15} : r_{666}, a_{23} : 0, a_{24} : r_{667}, a_{25} : r_{668}, a_{34} : r_{669}, a_{35} : r_{670}, a_{45} : r_{671}\\right\\}, \\left\\{d_{1} : r_{672}, d_{2} : r_{673}, d_{3} : r_{674}, d_{4} : r_{675}, d_{5} : \\frac{r_{674}}{x_{35}}, a_{12} : r_{676}, a_{13} : 0, a_{14} : r_{677}, a_{15} : r_{678}, a_{23} : 0, a_{24} : r_{679}, a_{25} : r_{680}, a_{34} : r_{681}, a_{35} : r_{682}, a_{45} : r_{683}\\right\\}\\right]"
      ]
     },
     "execution_count": 33,
     "metadata": {},
     "output_type": "execute_result"
    }
   ],
   "source": [
    "#x1\n",
    "reset()\n",
    "\n",
    "var('x12,x13,x14,x15,x23,x24,x25,x34,x35,x45')\n",
    "var('d1,d2,d3,d4,d5')\n",
    "var('a12,a13,a14,a15,a23,a24,a25,a34,a35,a45')\n",
    "\n",
    "load_attach_path('C:\\\\Users\\\\julia\\\\Documents\\\\unb\\\\doutorado\\\\pensar\\\\codigo_sage_v2\\\\maquina\\\\x1')\n",
    "load('out_#100000.sage')\n",
    "\n",
    "m=matrix(QQ, [[0, 0, 0, 0, 0],\n",
    "              [0, 0, 0, 0, 0],\n",
    "              [0, 0, 0, 0, 1],\n",
    "              [0, 0, 0, 0, 0],\n",
    "              [0, 0, 0, 0, 0]])\n",
    "        \n",
    "#entry of matrix: (i,j) line i collum j, means (i-1,j-1)\n",
    "sol=solve([ \teq1==m[0,2],\teq2==m[0,3],\teq3==m[0,4],\t\n",
    "                                            eq4==m[1,3],    eq5==m[1,4],\n",
    "                                                            eq6==m[2,4]],d1,d2,d3,d4,d5,a12,a13,a14,a15,a23,a24,a25,a34,a35,a45, solution_dict=True)\n",
    "\n",
    "show(m)\n",
    "show(sol)\n",
    "latex(sol)"
   ]
  },
  {
   "cell_type": "code",
   "execution_count": 34,
   "metadata": {},
   "outputs": [
    {
     "data": {
      "text/html": [
       "<html><script type=\"math/tex; mode=display\">\\newcommand{\\Bold}[1]{\\mathbf{#1}}\\left(\\begin{array}{rrrrr}\n",
       "0 & 0 & 0 & 0 & 0 \\\\\n",
       "0 & 0 & 0 & 0 & 0 \\\\\n",
       "0 & 0 & 0 & 0 & 1 \\\\\n",
       "0 & 0 & 0 & 0 & 0 \\\\\n",
       "0 & 0 & 0 & 0 & 0\n",
       "\\end{array}\\right)</script></html>"
      ],
      "text/latex": [
       "$$\\newcommand{\\Bold}[1]{\\mathbf{#1}}\\left(\\begin{array}{rrrrr}\n",
       "0 & 0 & 0 & 0 & 0 \\\\\n",
       "0 & 0 & 0 & 0 & 0 \\\\\n",
       "0 & 0 & 0 & 0 & 1 \\\\\n",
       "0 & 0 & 0 & 0 & 0 \\\\\n",
       "0 & 0 & 0 & 0 & 0\n",
       "\\end{array}\\right)$$"
      ],
      "text/plain": [
       "[0 0 0 0 0]\n",
       "[0 0 0 0 0]\n",
       "[0 0 0 0 1]\n",
       "[0 0 0 0 0]\n",
       "[0 0 0 0 0]"
      ]
     },
     "metadata": {},
     "output_type": "display_data"
    },
    {
     "data": {
      "text/html": [
       "<html><script type=\"math/tex; mode=display\">\\newcommand{\\Bold}[1]{\\mathbf{#1}}\\left[\\left\\{d_{1} : r_{684}, d_{2} : r_{685}, d_{3} : 0, d_{4} : r_{686}, d_{5} : 0, a_{12} : r_{687}, a_{13} : r_{688}, a_{14} : r_{689}, a_{15} : r_{690}, a_{23} : r_{691}, a_{24} : r_{692}, a_{25} : r_{693}, a_{34} : r_{694}, a_{35} : r_{695}, a_{45} : r_{696}\\right\\}, \\left\\{d_{1} : r_{697}, d_{2} : r_{698}, d_{3} : r_{699}, d_{4} : r_{700}, d_{5} : \\frac{r_{699}}{x_{35}}, a_{12} : r_{701}, a_{13} : \\frac{r_{699} x_{15}}{x_{35}}, a_{14} : r_{702}, a_{15} : r_{703}, a_{23} : 0, a_{24} : r_{704}, a_{25} : r_{705}, a_{34} : r_{706}, a_{35} : r_{707}, a_{45} : r_{708}\\right\\}, \\left\\{d_{1} : r_{709}, d_{2} : 0, d_{3} : r_{710}, d_{4} : r_{711}, d_{5} : \\frac{r_{710}}{x_{35}}, a_{12} : r_{712}, a_{13} : r_{713}, a_{14} : r_{714}, a_{15} : r_{715}, a_{23} : 0, a_{24} : r_{716}, a_{25} : r_{717}, a_{34} : r_{718}, a_{35} : r_{719}, a_{45} : r_{720}\\right\\}\\right]</script></html>"
      ],
      "text/latex": [
       "$$\\newcommand{\\Bold}[1]{\\mathbf{#1}}\\left[\\left\\{d_{1} : r_{684}, d_{2} : r_{685}, d_{3} : 0, d_{4} : r_{686}, d_{5} : 0, a_{12} : r_{687}, a_{13} : r_{688}, a_{14} : r_{689}, a_{15} : r_{690}, a_{23} : r_{691}, a_{24} : r_{692}, a_{25} : r_{693}, a_{34} : r_{694}, a_{35} : r_{695}, a_{45} : r_{696}\\right\\}, \\left\\{d_{1} : r_{697}, d_{2} : r_{698}, d_{3} : r_{699}, d_{4} : r_{700}, d_{5} : \\frac{r_{699}}{x_{35}}, a_{12} : r_{701}, a_{13} : \\frac{r_{699} x_{15}}{x_{35}}, a_{14} : r_{702}, a_{15} : r_{703}, a_{23} : 0, a_{24} : r_{704}, a_{25} : r_{705}, a_{34} : r_{706}, a_{35} : r_{707}, a_{45} : r_{708}\\right\\}, \\left\\{d_{1} : r_{709}, d_{2} : 0, d_{3} : r_{710}, d_{4} : r_{711}, d_{5} : \\frac{r_{710}}{x_{35}}, a_{12} : r_{712}, a_{13} : r_{713}, a_{14} : r_{714}, a_{15} : r_{715}, a_{23} : 0, a_{24} : r_{716}, a_{25} : r_{717}, a_{34} : r_{718}, a_{35} : r_{719}, a_{45} : r_{720}\\right\\}\\right]$$"
      ],
      "text/plain": [
       "[{d1: r684,\n",
       "  d2: r685,\n",
       "  d3: 0,\n",
       "  d4: r686,\n",
       "  d5: 0,\n",
       "  a12: r687,\n",
       "  a13: r688,\n",
       "  a14: r689,\n",
       "  a15: r690,\n",
       "  a23: r691,\n",
       "  a24: r692,\n",
       "  a25: r693,\n",
       "  a34: r694,\n",
       "  a35: r695,\n",
       "  a45: r696},\n",
       " {d1: r697,\n",
       "  d2: r698,\n",
       "  d3: r699,\n",
       "  d4: r700,\n",
       "  d5: r699/x35,\n",
       "  a12: r701,\n",
       "  a13: r699*x15/x35,\n",
       "  a14: r702,\n",
       "  a15: r703,\n",
       "  a23: 0,\n",
       "  a24: r704,\n",
       "  a25: r705,\n",
       "  a34: r706,\n",
       "  a35: r707,\n",
       "  a45: r708},\n",
       " {d1: r709,\n",
       "  d2: 0,\n",
       "  d3: r710,\n",
       "  d4: r711,\n",
       "  d5: r710/x35,\n",
       "  a12: r712,\n",
       "  a13: r713,\n",
       "  a14: r714,\n",
       "  a15: r715,\n",
       "  a23: 0,\n",
       "  a24: r716,\n",
       "  a25: r717,\n",
       "  a34: r718,\n",
       "  a35: r719,\n",
       "  a45: r720}]"
      ]
     },
     "metadata": {},
     "output_type": "display_data"
    },
    {
     "data": {
      "text/plain": [
       "\\left[\\left\\{d_{1} : r_{684}, d_{2} : r_{685}, d_{3} : 0, d_{4} : r_{686}, d_{5} : 0, a_{12} : r_{687}, a_{13} : r_{688}, a_{14} : r_{689}, a_{15} : r_{690}, a_{23} : r_{691}, a_{24} : r_{692}, a_{25} : r_{693}, a_{34} : r_{694}, a_{35} : r_{695}, a_{45} : r_{696}\\right\\}, \\left\\{d_{1} : r_{697}, d_{2} : r_{698}, d_{3} : r_{699}, d_{4} : r_{700}, d_{5} : \\frac{r_{699}}{x_{35}}, a_{12} : r_{701}, a_{13} : \\frac{r_{699} x_{15}}{x_{35}}, a_{14} : r_{702}, a_{15} : r_{703}, a_{23} : 0, a_{24} : r_{704}, a_{25} : r_{705}, a_{34} : r_{706}, a_{35} : r_{707}, a_{45} : r_{708}\\right\\}, \\left\\{d_{1} : r_{709}, d_{2} : 0, d_{3} : r_{710}, d_{4} : r_{711}, d_{5} : \\frac{r_{710}}{x_{35}}, a_{12} : r_{712}, a_{13} : r_{713}, a_{14} : r_{714}, a_{15} : r_{715}, a_{23} : 0, a_{24} : r_{716}, a_{25} : r_{717}, a_{34} : r_{718}, a_{35} : r_{719}, a_{45} : r_{720}\\right\\}\\right]"
      ]
     },
     "execution_count": 34,
     "metadata": {},
     "output_type": "execute_result"
    }
   ],
   "source": [
    "#x1\n",
    "reset()\n",
    "\n",
    "var('x12,x13,x14,x15,x23,x24,x25,x34,x35,x45')\n",
    "var('d1,d2,d3,d4,d5')\n",
    "var('a12,a13,a14,a15,a23,a24,a25,a34,a35,a45')\n",
    "\n",
    "load_attach_path('C:\\\\Users\\\\julia\\\\Documents\\\\unb\\\\doutorado\\\\pensar\\\\codigo_sage_v2\\\\maquina\\\\x1')\n",
    "load('out_#100001.sage')\n",
    "\n",
    "m=matrix(QQ, [[0, 0, 0, 0, 0],\n",
    "              [0, 0, 0, 0, 0],\n",
    "              [0, 0, 0, 0, 1],\n",
    "              [0, 0, 0, 0, 0],\n",
    "              [0, 0, 0, 0, 0]])\n",
    "        \n",
    "#entry of matrix: (i,j) line i collum j, means (i-1,j-1)\n",
    "sol=solve([ \teq1==m[0,2],\teq2==m[0,3],\teq3==m[0,4],\t\n",
    "                                            eq4==m[1,3],    eq5==m[1,4],\n",
    "                                                            eq6==m[2,4]],d1,d2,d3,d4,d5,a12,a13,a14,a15,a23,a24,a25,a34,a35,a45, solution_dict=True)\n",
    "\n",
    "show(m)\n",
    "show(sol)\n",
    "latex(sol)"
   ]
  },
  {
   "cell_type": "code",
   "execution_count": 35,
   "metadata": {},
   "outputs": [
    {
     "data": {
      "text/html": [
       "<html><script type=\"math/tex; mode=display\">\\newcommand{\\Bold}[1]{\\mathbf{#1}}\\left(\\begin{array}{rrrrr}\n",
       "0 & 0 & 0 & 1 & 0 \\\\\n",
       "0 & 0 & 0 & 0 & 0 \\\\\n",
       "0 & 0 & 0 & 0 & 1 \\\\\n",
       "0 & 0 & 0 & 0 & 0 \\\\\n",
       "0 & 0 & 0 & 0 & 0\n",
       "\\end{array}\\right)</script></html>"
      ],
      "text/latex": [
       "$$\\newcommand{\\Bold}[1]{\\mathbf{#1}}\\left(\\begin{array}{rrrrr}\n",
       "0 & 0 & 0 & 1 & 0 \\\\\n",
       "0 & 0 & 0 & 0 & 0 \\\\\n",
       "0 & 0 & 0 & 0 & 1 \\\\\n",
       "0 & 0 & 0 & 0 & 0 \\\\\n",
       "0 & 0 & 0 & 0 & 0\n",
       "\\end{array}\\right)$$"
      ],
      "text/plain": [
       "[0 0 0 1 0]\n",
       "[0 0 0 0 0]\n",
       "[0 0 0 0 1]\n",
       "[0 0 0 0 0]\n",
       "[0 0 0 0 0]"
      ]
     },
     "metadata": {},
     "output_type": "display_data"
    },
    {
     "data": {
      "text/html": [
       "<html><script type=\"math/tex; mode=display\">\\newcommand{\\Bold}[1]{\\mathbf{#1}}\\left[\\left\\{d_{1} : r_{721}, d_{2} : r_{722}, d_{3} : 0, d_{4} : \\frac{r_{721}}{x_{14}}, d_{5} : 0, a_{12} : r_{723}, a_{13} : r_{724}, a_{14} : r_{725}, a_{15} : r_{726}, a_{23} : r_{727}, a_{24} : r_{728}, a_{25} : r_{729}, a_{34} : r_{730}, a_{35} : r_{731}, a_{45} : r_{732}\\right\\}, \\left\\{d_{1} : r_{733}, d_{2} : r_{734}, d_{3} : r_{735}, d_{4} : \\frac{r_{733}}{x_{14}}, d_{5} : \\frac{r_{735}}{x_{35}}, a_{12} : r_{736}, a_{13} : r_{737}, a_{14} : r_{738}, a_{15} : r_{739}, a_{23} : 0, a_{24} : r_{740}, a_{25} : r_{741}, a_{34} : r_{742}, a_{35} : r_{743}, a_{45} : \\frac{r_{737}}{x_{14}}\\right\\}, \\left\\{d_{1} : r_{744}, d_{2} : 0, d_{3} : r_{745}, d_{4} : \\frac{r_{744}}{x_{14}}, d_{5} : \\frac{r_{745}}{x_{35}}, a_{12} : r_{746}, a_{13} : r_{747}, a_{14} : r_{748}, a_{15} : r_{749}, a_{23} : 0, a_{24} : r_{750}, a_{25} : r_{751}, a_{34} : r_{752}, a_{35} : r_{753}, a_{45} : r_{754}\\right\\}\\right]</script></html>"
      ],
      "text/latex": [
       "$$\\newcommand{\\Bold}[1]{\\mathbf{#1}}\\left[\\left\\{d_{1} : r_{721}, d_{2} : r_{722}, d_{3} : 0, d_{4} : \\frac{r_{721}}{x_{14}}, d_{5} : 0, a_{12} : r_{723}, a_{13} : r_{724}, a_{14} : r_{725}, a_{15} : r_{726}, a_{23} : r_{727}, a_{24} : r_{728}, a_{25} : r_{729}, a_{34} : r_{730}, a_{35} : r_{731}, a_{45} : r_{732}\\right\\}, \\left\\{d_{1} : r_{733}, d_{2} : r_{734}, d_{3} : r_{735}, d_{4} : \\frac{r_{733}}{x_{14}}, d_{5} : \\frac{r_{735}}{x_{35}}, a_{12} : r_{736}, a_{13} : r_{737}, a_{14} : r_{738}, a_{15} : r_{739}, a_{23} : 0, a_{24} : r_{740}, a_{25} : r_{741}, a_{34} : r_{742}, a_{35} : r_{743}, a_{45} : \\frac{r_{737}}{x_{14}}\\right\\}, \\left\\{d_{1} : r_{744}, d_{2} : 0, d_{3} : r_{745}, d_{4} : \\frac{r_{744}}{x_{14}}, d_{5} : \\frac{r_{745}}{x_{35}}, a_{12} : r_{746}, a_{13} : r_{747}, a_{14} : r_{748}, a_{15} : r_{749}, a_{23} : 0, a_{24} : r_{750}, a_{25} : r_{751}, a_{34} : r_{752}, a_{35} : r_{753}, a_{45} : r_{754}\\right\\}\\right]$$"
      ],
      "text/plain": [
       "[{d1: r721,\n",
       "  d2: r722,\n",
       "  d3: 0,\n",
       "  d4: r721/x14,\n",
       "  d5: 0,\n",
       "  a12: r723,\n",
       "  a13: r724,\n",
       "  a14: r725,\n",
       "  a15: r726,\n",
       "  a23: r727,\n",
       "  a24: r728,\n",
       "  a25: r729,\n",
       "  a34: r730,\n",
       "  a35: r731,\n",
       "  a45: r732},\n",
       " {d1: r733,\n",
       "  d2: r734,\n",
       "  d3: r735,\n",
       "  d4: r733/x14,\n",
       "  d5: r735/x35,\n",
       "  a12: r736,\n",
       "  a13: r737,\n",
       "  a14: r738,\n",
       "  a15: r739,\n",
       "  a23: 0,\n",
       "  a24: r740,\n",
       "  a25: r741,\n",
       "  a34: r742,\n",
       "  a35: r743,\n",
       "  a45: r737/x14},\n",
       " {d1: r744,\n",
       "  d2: 0,\n",
       "  d3: r745,\n",
       "  d4: r744/x14,\n",
       "  d5: r745/x35,\n",
       "  a12: r746,\n",
       "  a13: r747,\n",
       "  a14: r748,\n",
       "  a15: r749,\n",
       "  a23: 0,\n",
       "  a24: r750,\n",
       "  a25: r751,\n",
       "  a34: r752,\n",
       "  a35: r753,\n",
       "  a45: r754}]"
      ]
     },
     "metadata": {},
     "output_type": "display_data"
    },
    {
     "data": {
      "text/plain": [
       "\\left[\\left\\{d_{1} : r_{721}, d_{2} : r_{722}, d_{3} : 0, d_{4} : \\frac{r_{721}}{x_{14}}, d_{5} : 0, a_{12} : r_{723}, a_{13} : r_{724}, a_{14} : r_{725}, a_{15} : r_{726}, a_{23} : r_{727}, a_{24} : r_{728}, a_{25} : r_{729}, a_{34} : r_{730}, a_{35} : r_{731}, a_{45} : r_{732}\\right\\}, \\left\\{d_{1} : r_{733}, d_{2} : r_{734}, d_{3} : r_{735}, d_{4} : \\frac{r_{733}}{x_{14}}, d_{5} : \\frac{r_{735}}{x_{35}}, a_{12} : r_{736}, a_{13} : r_{737}, a_{14} : r_{738}, a_{15} : r_{739}, a_{23} : 0, a_{24} : r_{740}, a_{25} : r_{741}, a_{34} : r_{742}, a_{35} : r_{743}, a_{45} : \\frac{r_{737}}{x_{14}}\\right\\}, \\left\\{d_{1} : r_{744}, d_{2} : 0, d_{3} : r_{745}, d_{4} : \\frac{r_{744}}{x_{14}}, d_{5} : \\frac{r_{745}}{x_{35}}, a_{12} : r_{746}, a_{13} : r_{747}, a_{14} : r_{748}, a_{15} : r_{749}, a_{23} : 0, a_{24} : r_{750}, a_{25} : r_{751}, a_{34} : r_{752}, a_{35} : r_{753}, a_{45} : r_{754}\\right\\}\\right]"
      ]
     },
     "execution_count": 35,
     "metadata": {},
     "output_type": "execute_result"
    }
   ],
   "source": [
    "#x1\n",
    "reset()\n",
    "\n",
    "var('x12,x13,x14,x15,x23,x24,x25,x34,x35,x45')\n",
    "var('d1,d2,d3,d4,d5')\n",
    "var('a12,a13,a14,a15,a23,a24,a25,a34,a35,a45')\n",
    "\n",
    "load_attach_path('C:\\\\Users\\\\julia\\\\Documents\\\\unb\\\\doutorado\\\\pensar\\\\codigo_sage_v2\\\\maquina\\\\x1')\n",
    "load('out_#100010.sage')\n",
    "\n",
    "m=matrix(QQ, [[0, 0, 0, 1, 0],\n",
    "              [0, 0, 0, 0, 0],\n",
    "              [0, 0, 0, 0, 1],\n",
    "              [0, 0, 0, 0, 0],\n",
    "              [0, 0, 0, 0, 0]])\n",
    "        \n",
    "#entry of matrix: (i,j) line i collum j, means (i-1,j-1)\n",
    "sol=solve([ \teq1==m[0,2],\teq2==m[0,3],\teq3==m[0,4],\t\n",
    "                                            eq4==m[1,3],    eq5==m[1,4],\n",
    "                                                            eq6==m[2,4]],d1,d2,d3,d4,d5,a12,a13,a14,a15,a23,a24,a25,a34,a35,a45, solution_dict=True)\n",
    "\n",
    "show(m)\n",
    "show(sol)\n",
    "latex(sol)"
   ]
  },
  {
   "cell_type": "code",
   "execution_count": 36,
   "metadata": {},
   "outputs": [
    {
     "data": {
      "text/html": [
       "<html><script type=\"math/tex; mode=display\">\\newcommand{\\Bold}[1]{\\mathbf{#1}}\\left(\\begin{array}{rrrrr}\n",
       "0 & 0 & 0 & 1 & 0 \\\\\n",
       "0 & 0 & 0 & 0 & 0 \\\\\n",
       "0 & 0 & 0 & 0 & 1 \\\\\n",
       "0 & 0 & 0 & 0 & 0 \\\\\n",
       "0 & 0 & 0 & 0 & 0\n",
       "\\end{array}\\right)</script></html>"
      ],
      "text/latex": [
       "$$\\newcommand{\\Bold}[1]{\\mathbf{#1}}\\left(\\begin{array}{rrrrr}\n",
       "0 & 0 & 0 & 1 & 0 \\\\\n",
       "0 & 0 & 0 & 0 & 0 \\\\\n",
       "0 & 0 & 0 & 0 & 1 \\\\\n",
       "0 & 0 & 0 & 0 & 0 \\\\\n",
       "0 & 0 & 0 & 0 & 0\n",
       "\\end{array}\\right)$$"
      ],
      "text/plain": [
       "[0 0 0 1 0]\n",
       "[0 0 0 0 0]\n",
       "[0 0 0 0 1]\n",
       "[0 0 0 0 0]\n",
       "[0 0 0 0 0]"
      ]
     },
     "metadata": {},
     "output_type": "display_data"
    },
    {
     "data": {
      "text/html": [
       "<html><script type=\"math/tex; mode=display\">\\newcommand{\\Bold}[1]{\\mathbf{#1}}\\left[\\left\\{d_{1} : r_{755}, d_{2} : r_{756}, d_{3} : 0, d_{4} : \\frac{r_{755}}{x_{14}}, d_{5} : 0, a_{12} : r_{757}, a_{13} : r_{758}, a_{14} : r_{759}, a_{15} : r_{760}, a_{23} : r_{761}, a_{24} : r_{762}, a_{25} : r_{763}, a_{34} : r_{764}, a_{35} : r_{765}, a_{45} : r_{766}\\right\\}, \\left\\{d_{1} : r_{767}, d_{2} : r_{768}, d_{3} : r_{769}, d_{4} : \\frac{r_{767}}{x_{14}}, d_{5} : \\frac{r_{769}}{x_{35}}, a_{12} : r_{770}, a_{13} : r_{771}, a_{14} : r_{772}, a_{15} : r_{773}, a_{23} : 0, a_{24} : r_{774}, a_{25} : r_{775}, a_{34} : r_{776}, a_{35} : r_{777}, a_{45} : -\\frac{r_{769} x_{15} - r_{771} x_{35}}{x_{14} x_{35}}\\right\\}, \\left\\{d_{1} : r_{778}, d_{2} : 0, d_{3} : r_{779}, d_{4} : \\frac{r_{778}}{x_{14}}, d_{5} : \\frac{r_{779}}{x_{35}}, a_{12} : r_{780}, a_{13} : r_{781}, a_{14} : r_{782}, a_{15} : r_{783}, a_{23} : 0, a_{24} : r_{784}, a_{25} : r_{785}, a_{34} : r_{786}, a_{35} : r_{787}, a_{45} : r_{788}\\right\\}\\right]</script></html>"
      ],
      "text/latex": [
       "$$\\newcommand{\\Bold}[1]{\\mathbf{#1}}\\left[\\left\\{d_{1} : r_{755}, d_{2} : r_{756}, d_{3} : 0, d_{4} : \\frac{r_{755}}{x_{14}}, d_{5} : 0, a_{12} : r_{757}, a_{13} : r_{758}, a_{14} : r_{759}, a_{15} : r_{760}, a_{23} : r_{761}, a_{24} : r_{762}, a_{25} : r_{763}, a_{34} : r_{764}, a_{35} : r_{765}, a_{45} : r_{766}\\right\\}, \\left\\{d_{1} : r_{767}, d_{2} : r_{768}, d_{3} : r_{769}, d_{4} : \\frac{r_{767}}{x_{14}}, d_{5} : \\frac{r_{769}}{x_{35}}, a_{12} : r_{770}, a_{13} : r_{771}, a_{14} : r_{772}, a_{15} : r_{773}, a_{23} : 0, a_{24} : r_{774}, a_{25} : r_{775}, a_{34} : r_{776}, a_{35} : r_{777}, a_{45} : -\\frac{r_{769} x_{15} - r_{771} x_{35}}{x_{14} x_{35}}\\right\\}, \\left\\{d_{1} : r_{778}, d_{2} : 0, d_{3} : r_{779}, d_{4} : \\frac{r_{778}}{x_{14}}, d_{5} : \\frac{r_{779}}{x_{35}}, a_{12} : r_{780}, a_{13} : r_{781}, a_{14} : r_{782}, a_{15} : r_{783}, a_{23} : 0, a_{24} : r_{784}, a_{25} : r_{785}, a_{34} : r_{786}, a_{35} : r_{787}, a_{45} : r_{788}\\right\\}\\right]$$"
      ],
      "text/plain": [
       "[{d1: r755,\n",
       "  d2: r756,\n",
       "  d3: 0,\n",
       "  d4: r755/x14,\n",
       "  d5: 0,\n",
       "  a12: r757,\n",
       "  a13: r758,\n",
       "  a14: r759,\n",
       "  a15: r760,\n",
       "  a23: r761,\n",
       "  a24: r762,\n",
       "  a25: r763,\n",
       "  a34: r764,\n",
       "  a35: r765,\n",
       "  a45: r766},\n",
       " {d1: r767,\n",
       "  d2: r768,\n",
       "  d3: r769,\n",
       "  d4: r767/x14,\n",
       "  d5: r769/x35,\n",
       "  a12: r770,\n",
       "  a13: r771,\n",
       "  a14: r772,\n",
       "  a15: r773,\n",
       "  a23: 0,\n",
       "  a24: r774,\n",
       "  a25: r775,\n",
       "  a34: r776,\n",
       "  a35: r777,\n",
       "  a45: -(r769*x15 - r771*x35)/(x14*x35)},\n",
       " {d1: r778,\n",
       "  d2: 0,\n",
       "  d3: r779,\n",
       "  d4: r778/x14,\n",
       "  d5: r779/x35,\n",
       "  a12: r780,\n",
       "  a13: r781,\n",
       "  a14: r782,\n",
       "  a15: r783,\n",
       "  a23: 0,\n",
       "  a24: r784,\n",
       "  a25: r785,\n",
       "  a34: r786,\n",
       "  a35: r787,\n",
       "  a45: r788}]"
      ]
     },
     "metadata": {},
     "output_type": "display_data"
    },
    {
     "data": {
      "text/plain": [
       "\\left[\\left\\{d_{1} : r_{755}, d_{2} : r_{756}, d_{3} : 0, d_{4} : \\frac{r_{755}}{x_{14}}, d_{5} : 0, a_{12} : r_{757}, a_{13} : r_{758}, a_{14} : r_{759}, a_{15} : r_{760}, a_{23} : r_{761}, a_{24} : r_{762}, a_{25} : r_{763}, a_{34} : r_{764}, a_{35} : r_{765}, a_{45} : r_{766}\\right\\}, \\left\\{d_{1} : r_{767}, d_{2} : r_{768}, d_{3} : r_{769}, d_{4} : \\frac{r_{767}}{x_{14}}, d_{5} : \\frac{r_{769}}{x_{35}}, a_{12} : r_{770}, a_{13} : r_{771}, a_{14} : r_{772}, a_{15} : r_{773}, a_{23} : 0, a_{24} : r_{774}, a_{25} : r_{775}, a_{34} : r_{776}, a_{35} : r_{777}, a_{45} : -\\frac{r_{769} x_{15} - r_{771} x_{35}}{x_{14} x_{35}}\\right\\}, \\left\\{d_{1} : r_{778}, d_{2} : 0, d_{3} : r_{779}, d_{4} : \\frac{r_{778}}{x_{14}}, d_{5} : \\frac{r_{779}}{x_{35}}, a_{12} : r_{780}, a_{13} : r_{781}, a_{14} : r_{782}, a_{15} : r_{783}, a_{23} : 0, a_{24} : r_{784}, a_{25} : r_{785}, a_{34} : r_{786}, a_{35} : r_{787}, a_{45} : r_{788}\\right\\}\\right]"
      ]
     },
     "execution_count": 36,
     "metadata": {},
     "output_type": "execute_result"
    }
   ],
   "source": [
    "#x1\n",
    "reset()\n",
    "\n",
    "var('x12,x13,x14,x15,x23,x24,x25,x34,x35,x45')\n",
    "var('d1,d2,d3,d4,d5')\n",
    "var('a12,a13,a14,a15,a23,a24,a25,a34,a35,a45')\n",
    "\n",
    "load_attach_path('C:\\\\Users\\\\julia\\\\Documents\\\\unb\\\\doutorado\\\\pensar\\\\codigo_sage_v2\\\\maquina\\\\x1')\n",
    "load('out_#100011.sage')\n",
    "\n",
    "m=matrix(QQ, [[0, 0, 0, 1, 0],\n",
    "              [0, 0, 0, 0, 0],\n",
    "              [0, 0, 0, 0, 1],\n",
    "              [0, 0, 0, 0, 0],\n",
    "              [0, 0, 0, 0, 0]])\n",
    "        \n",
    "#entry of matrix: (i,j) line i collum j, means (i-1,j-1)\n",
    "sol=solve([ \teq1==m[0,2],\teq2==m[0,3],\teq3==m[0,4],\t\n",
    "                                            eq4==m[1,3],    eq5==m[1,4],\n",
    "                                                            eq6==m[2,4]],d1,d2,d3,d4,d5,a12,a13,a14,a15,a23,a24,a25,a34,a35,a45, solution_dict=True)\n",
    "\n",
    "show(m)\n",
    "show(sol)\n",
    "latex(sol)"
   ]
  },
  {
   "cell_type": "code",
   "execution_count": 37,
   "metadata": {},
   "outputs": [
    {
     "data": {
      "text/html": [
       "<html><script type=\"math/tex; mode=display\">\\newcommand{\\Bold}[1]{\\mathbf{#1}}\\left(\\begin{array}{rrrrr}\n",
       "0 & 0 & 1 & 0 & 0 \\\\\n",
       "0 & 0 & 0 & 0 & 0 \\\\\n",
       "0 & 0 & 0 & 0 & 1 \\\\\n",
       "0 & 0 & 0 & 0 & 0 \\\\\n",
       "0 & 0 & 0 & 0 & 0\n",
       "\\end{array}\\right)</script></html>"
      ],
      "text/latex": [
       "$$\\newcommand{\\Bold}[1]{\\mathbf{#1}}\\left(\\begin{array}{rrrrr}\n",
       "0 & 0 & 1 & 0 & 0 \\\\\n",
       "0 & 0 & 0 & 0 & 0 \\\\\n",
       "0 & 0 & 0 & 0 & 1 \\\\\n",
       "0 & 0 & 0 & 0 & 0 \\\\\n",
       "0 & 0 & 0 & 0 & 0\n",
       "\\end{array}\\right)$$"
      ],
      "text/plain": [
       "[0 0 1 0 0]\n",
       "[0 0 0 0 0]\n",
       "[0 0 0 0 1]\n",
       "[0 0 0 0 0]\n",
       "[0 0 0 0 0]"
      ]
     },
     "metadata": {},
     "output_type": "display_data"
    },
    {
     "data": {
      "text/html": [
       "<html><script type=\"math/tex; mode=display\">\\newcommand{\\Bold}[1]{\\mathbf{#1}}\\left[\\left\\{d_{1} : 0, d_{2} : r_{789}, d_{3} : 0, d_{4} : r_{790}, d_{5} : 0, a_{12} : r_{791}, a_{13} : r_{792}, a_{14} : r_{793}, a_{15} : r_{794}, a_{23} : r_{795}, a_{24} : r_{796}, a_{25} : r_{797}, a_{34} : 0, a_{35} : r_{798}, a_{45} : r_{799}\\right\\}, \\left\\{d_{1} : r_{800}, d_{2} : 0, d_{3} : \\frac{r_{800}}{x_{13}}, d_{4} : r_{801}, d_{5} : \\frac{r_{800}}{x_{13} x_{35}}, a_{12} : r_{802}, a_{13} : r_{803}, a_{14} : r_{804}, a_{15} : r_{805}, a_{23} : 0, a_{24} : r_{806}, a_{25} : r_{807}, a_{34} : 0, a_{35} : r_{808}, a_{45} : r_{809}\\right\\}, \\left\\{d_{1} : r_{810}, d_{2} : r_{811}, d_{3} : \\frac{r_{810}}{x_{13}}, d_{4} : r_{812}, d_{5} : \\frac{r_{810}}{x_{13} x_{35}}, a_{12} : r_{813}, a_{13} : r_{814}, a_{14} : r_{815}, a_{15} : r_{816}, a_{23} : 0, a_{24} : r_{817}, a_{25} : r_{818}, a_{34} : 0, a_{35} : \\frac{r_{814}}{x_{13}}, a_{45} : r_{819}\\right\\}\\right]</script></html>"
      ],
      "text/latex": [
       "$$\\newcommand{\\Bold}[1]{\\mathbf{#1}}\\left[\\left\\{d_{1} : 0, d_{2} : r_{789}, d_{3} : 0, d_{4} : r_{790}, d_{5} : 0, a_{12} : r_{791}, a_{13} : r_{792}, a_{14} : r_{793}, a_{15} : r_{794}, a_{23} : r_{795}, a_{24} : r_{796}, a_{25} : r_{797}, a_{34} : 0, a_{35} : r_{798}, a_{45} : r_{799}\\right\\}, \\left\\{d_{1} : r_{800}, d_{2} : 0, d_{3} : \\frac{r_{800}}{x_{13}}, d_{4} : r_{801}, d_{5} : \\frac{r_{800}}{x_{13} x_{35}}, a_{12} : r_{802}, a_{13} : r_{803}, a_{14} : r_{804}, a_{15} : r_{805}, a_{23} : 0, a_{24} : r_{806}, a_{25} : r_{807}, a_{34} : 0, a_{35} : r_{808}, a_{45} : r_{809}\\right\\}, \\left\\{d_{1} : r_{810}, d_{2} : r_{811}, d_{3} : \\frac{r_{810}}{x_{13}}, d_{4} : r_{812}, d_{5} : \\frac{r_{810}}{x_{13} x_{35}}, a_{12} : r_{813}, a_{13} : r_{814}, a_{14} : r_{815}, a_{15} : r_{816}, a_{23} : 0, a_{24} : r_{817}, a_{25} : r_{818}, a_{34} : 0, a_{35} : \\frac{r_{814}}{x_{13}}, a_{45} : r_{819}\\right\\}\\right]$$"
      ],
      "text/plain": [
       "[{d1: 0,\n",
       "  d2: r789,\n",
       "  d3: 0,\n",
       "  d4: r790,\n",
       "  d5: 0,\n",
       "  a12: r791,\n",
       "  a13: r792,\n",
       "  a14: r793,\n",
       "  a15: r794,\n",
       "  a23: r795,\n",
       "  a24: r796,\n",
       "  a25: r797,\n",
       "  a34: 0,\n",
       "  a35: r798,\n",
       "  a45: r799},\n",
       " {d1: r800,\n",
       "  d2: 0,\n",
       "  d3: r800/x13,\n",
       "  d4: r801,\n",
       "  d5: r800/(x13*x35),\n",
       "  a12: r802,\n",
       "  a13: r803,\n",
       "  a14: r804,\n",
       "  a15: r805,\n",
       "  a23: 0,\n",
       "  a24: r806,\n",
       "  a25: r807,\n",
       "  a34: 0,\n",
       "  a35: r808,\n",
       "  a45: r809},\n",
       " {d1: r810,\n",
       "  d2: r811,\n",
       "  d3: r810/x13,\n",
       "  d4: r812,\n",
       "  d5: r810/(x13*x35),\n",
       "  a12: r813,\n",
       "  a13: r814,\n",
       "  a14: r815,\n",
       "  a15: r816,\n",
       "  a23: 0,\n",
       "  a24: r817,\n",
       "  a25: r818,\n",
       "  a34: 0,\n",
       "  a35: r814/x13,\n",
       "  a45: r819}]"
      ]
     },
     "metadata": {},
     "output_type": "display_data"
    },
    {
     "data": {
      "text/plain": [
       "\\left[\\left\\{d_{1} : 0, d_{2} : r_{789}, d_{3} : 0, d_{4} : r_{790}, d_{5} : 0, a_{12} : r_{791}, a_{13} : r_{792}, a_{14} : r_{793}, a_{15} : r_{794}, a_{23} : r_{795}, a_{24} : r_{796}, a_{25} : r_{797}, a_{34} : 0, a_{35} : r_{798}, a_{45} : r_{799}\\right\\}, \\left\\{d_{1} : r_{800}, d_{2} : 0, d_{3} : \\frac{r_{800}}{x_{13}}, d_{4} : r_{801}, d_{5} : \\frac{r_{800}}{x_{13} x_{35}}, a_{12} : r_{802}, a_{13} : r_{803}, a_{14} : r_{804}, a_{15} : r_{805}, a_{23} : 0, a_{24} : r_{806}, a_{25} : r_{807}, a_{34} : 0, a_{35} : r_{808}, a_{45} : r_{809}\\right\\}, \\left\\{d_{1} : r_{810}, d_{2} : r_{811}, d_{3} : \\frac{r_{810}}{x_{13}}, d_{4} : r_{812}, d_{5} : \\frac{r_{810}}{x_{13} x_{35}}, a_{12} : r_{813}, a_{13} : r_{814}, a_{14} : r_{815}, a_{15} : r_{816}, a_{23} : 0, a_{24} : r_{817}, a_{25} : r_{818}, a_{34} : 0, a_{35} : \\frac{r_{814}}{x_{13}}, a_{45} : r_{819}\\right\\}\\right]"
      ]
     },
     "execution_count": 37,
     "metadata": {},
     "output_type": "execute_result"
    }
   ],
   "source": [
    "#x1\n",
    "reset()\n",
    "\n",
    "var('x12,x13,x14,x15,x23,x24,x25,x34,x35,x45')\n",
    "var('d1,d2,d3,d4,d5')\n",
    "var('a12,a13,a14,a15,a23,a24,a25,a34,a35,a45')\n",
    "\n",
    "load_attach_path('C:\\\\Users\\\\julia\\\\Documents\\\\unb\\\\doutorado\\\\pensar\\\\codigo_sage_v2\\\\maquina\\\\x1')\n",
    "load('out_#100100.sage')\n",
    "\n",
    "m=matrix(QQ, [[0, 0, 1, 0, 0],\n",
    "              [0, 0, 0, 0, 0],\n",
    "              [0, 0, 0, 0, 1],\n",
    "              [0, 0, 0, 0, 0],\n",
    "              [0, 0, 0, 0, 0]])\n",
    "        \n",
    "#entry of matrix: (i,j) line i collum j, means (i-1,j-1)\n",
    "sol=solve([ \teq1==m[0,2],\teq2==m[0,3],\teq3==m[0,4],\t\n",
    "                                            eq4==m[1,3],    eq5==m[1,4],\n",
    "                                                            eq6==m[2,4]],d1,d2,d3,d4,d5,a12,a13,a14,a15,a23,a24,a25,a34,a35,a45, solution_dict=True)\n",
    "\n",
    "show(m)\n",
    "show(sol)\n",
    "latex(sol)"
   ]
  },
  {
   "cell_type": "code",
   "execution_count": 38,
   "metadata": {},
   "outputs": [
    {
     "data": {
      "text/html": [
       "<html><script type=\"math/tex; mode=display\">\\newcommand{\\Bold}[1]{\\mathbf{#1}}\\left(\\begin{array}{rrrrr}\n",
       "0 & 0 & 1 & 0 & 0 \\\\\n",
       "0 & 0 & 0 & 0 & 0 \\\\\n",
       "0 & 0 & 0 & 0 & 1 \\\\\n",
       "0 & 0 & 0 & 0 & 0 \\\\\n",
       "0 & 0 & 0 & 0 & 0\n",
       "\\end{array}\\right)</script></html>"
      ],
      "text/latex": [
       "$$\\newcommand{\\Bold}[1]{\\mathbf{#1}}\\left(\\begin{array}{rrrrr}\n",
       "0 & 0 & 1 & 0 & 0 \\\\\n",
       "0 & 0 & 0 & 0 & 0 \\\\\n",
       "0 & 0 & 0 & 0 & 1 \\\\\n",
       "0 & 0 & 0 & 0 & 0 \\\\\n",
       "0 & 0 & 0 & 0 & 0\n",
       "\\end{array}\\right)$$"
      ],
      "text/plain": [
       "[0 0 1 0 0]\n",
       "[0 0 0 0 0]\n",
       "[0 0 0 0 1]\n",
       "[0 0 0 0 0]\n",
       "[0 0 0 0 0]"
      ]
     },
     "metadata": {},
     "output_type": "display_data"
    },
    {
     "data": {
      "text/html": [
       "<html><script type=\"math/tex; mode=display\">\\newcommand{\\Bold}[1]{\\mathbf{#1}}\\left[\\left\\{d_{1} : 0, d_{2} : r_{820}, d_{3} : 0, d_{4} : r_{821}, d_{5} : 0, a_{12} : r_{822}, a_{13} : r_{823}, a_{14} : r_{824}, a_{15} : r_{825}, a_{23} : r_{826}, a_{24} : r_{827}, a_{25} : r_{828}, a_{34} : 0, a_{35} : r_{829}, a_{45} : r_{830}\\right\\}, \\left\\{d_{1} : r_{831}, d_{2} : 0, d_{3} : \\frac{r_{831}}{x_{13}}, d_{4} : r_{832}, d_{5} : \\frac{r_{831}}{x_{13} x_{35}}, a_{12} : r_{833}, a_{13} : r_{834}, a_{14} : r_{835}, a_{15} : r_{836}, a_{23} : 0, a_{24} : r_{837}, a_{25} : r_{838}, a_{34} : 0, a_{35} : r_{839}, a_{45} : r_{840}\\right\\}, \\left\\{d_{1} : r_{841}, d_{2} : r_{842}, d_{3} : \\frac{r_{841}}{x_{13}}, d_{4} : r_{843}, d_{5} : \\frac{r_{841}}{x_{13} x_{35}}, a_{12} : r_{844}, a_{13} : r_{845}, a_{14} : r_{846}, a_{15} : r_{847}, a_{23} : 0, a_{24} : r_{848}, a_{25} : r_{849}, a_{34} : 0, a_{35} : \\frac{r_{845} x_{13} x_{35} - r_{841} x_{15}}{x_{13}^{2} x_{35}}, a_{45} : r_{850}\\right\\}\\right]</script></html>"
      ],
      "text/latex": [
       "$$\\newcommand{\\Bold}[1]{\\mathbf{#1}}\\left[\\left\\{d_{1} : 0, d_{2} : r_{820}, d_{3} : 0, d_{4} : r_{821}, d_{5} : 0, a_{12} : r_{822}, a_{13} : r_{823}, a_{14} : r_{824}, a_{15} : r_{825}, a_{23} : r_{826}, a_{24} : r_{827}, a_{25} : r_{828}, a_{34} : 0, a_{35} : r_{829}, a_{45} : r_{830}\\right\\}, \\left\\{d_{1} : r_{831}, d_{2} : 0, d_{3} : \\frac{r_{831}}{x_{13}}, d_{4} : r_{832}, d_{5} : \\frac{r_{831}}{x_{13} x_{35}}, a_{12} : r_{833}, a_{13} : r_{834}, a_{14} : r_{835}, a_{15} : r_{836}, a_{23} : 0, a_{24} : r_{837}, a_{25} : r_{838}, a_{34} : 0, a_{35} : r_{839}, a_{45} : r_{840}\\right\\}, \\left\\{d_{1} : r_{841}, d_{2} : r_{842}, d_{3} : \\frac{r_{841}}{x_{13}}, d_{4} : r_{843}, d_{5} : \\frac{r_{841}}{x_{13} x_{35}}, a_{12} : r_{844}, a_{13} : r_{845}, a_{14} : r_{846}, a_{15} : r_{847}, a_{23} : 0, a_{24} : r_{848}, a_{25} : r_{849}, a_{34} : 0, a_{35} : \\frac{r_{845} x_{13} x_{35} - r_{841} x_{15}}{x_{13}^{2} x_{35}}, a_{45} : r_{850}\\right\\}\\right]$$"
      ],
      "text/plain": [
       "[{d1: 0,\n",
       "  d2: r820,\n",
       "  d3: 0,\n",
       "  d4: r821,\n",
       "  d5: 0,\n",
       "  a12: r822,\n",
       "  a13: r823,\n",
       "  a14: r824,\n",
       "  a15: r825,\n",
       "  a23: r826,\n",
       "  a24: r827,\n",
       "  a25: r828,\n",
       "  a34: 0,\n",
       "  a35: r829,\n",
       "  a45: r830},\n",
       " {d1: r831,\n",
       "  d2: 0,\n",
       "  d3: r831/x13,\n",
       "  d4: r832,\n",
       "  d5: r831/(x13*x35),\n",
       "  a12: r833,\n",
       "  a13: r834,\n",
       "  a14: r835,\n",
       "  a15: r836,\n",
       "  a23: 0,\n",
       "  a24: r837,\n",
       "  a25: r838,\n",
       "  a34: 0,\n",
       "  a35: r839,\n",
       "  a45: r840},\n",
       " {d1: r841,\n",
       "  d2: r842,\n",
       "  d3: r841/x13,\n",
       "  d4: r843,\n",
       "  d5: r841/(x13*x35),\n",
       "  a12: r844,\n",
       "  a13: r845,\n",
       "  a14: r846,\n",
       "  a15: r847,\n",
       "  a23: 0,\n",
       "  a24: r848,\n",
       "  a25: r849,\n",
       "  a34: 0,\n",
       "  a35: (r845*x13*x35 - r841*x15)/(x13^2*x35),\n",
       "  a45: r850}]"
      ]
     },
     "metadata": {},
     "output_type": "display_data"
    },
    {
     "data": {
      "text/plain": [
       "\\left[\\left\\{d_{1} : 0, d_{2} : r_{820}, d_{3} : 0, d_{4} : r_{821}, d_{5} : 0, a_{12} : r_{822}, a_{13} : r_{823}, a_{14} : r_{824}, a_{15} : r_{825}, a_{23} : r_{826}, a_{24} : r_{827}, a_{25} : r_{828}, a_{34} : 0, a_{35} : r_{829}, a_{45} : r_{830}\\right\\}, \\left\\{d_{1} : r_{831}, d_{2} : 0, d_{3} : \\frac{r_{831}}{x_{13}}, d_{4} : r_{832}, d_{5} : \\frac{r_{831}}{x_{13} x_{35}}, a_{12} : r_{833}, a_{13} : r_{834}, a_{14} : r_{835}, a_{15} : r_{836}, a_{23} : 0, a_{24} : r_{837}, a_{25} : r_{838}, a_{34} : 0, a_{35} : r_{839}, a_{45} : r_{840}\\right\\}, \\left\\{d_{1} : r_{841}, d_{2} : r_{842}, d_{3} : \\frac{r_{841}}{x_{13}}, d_{4} : r_{843}, d_{5} : \\frac{r_{841}}{x_{13} x_{35}}, a_{12} : r_{844}, a_{13} : r_{845}, a_{14} : r_{846}, a_{15} : r_{847}, a_{23} : 0, a_{24} : r_{848}, a_{25} : r_{849}, a_{34} : 0, a_{35} : \\frac{r_{845} x_{13} x_{35} - r_{841} x_{15}}{x_{13}^{2} x_{35}}, a_{45} : r_{850}\\right\\}\\right]"
      ]
     },
     "execution_count": 38,
     "metadata": {},
     "output_type": "execute_result"
    }
   ],
   "source": [
    "#x1\n",
    "reset()\n",
    "\n",
    "var('x12,x13,x14,x15,x23,x24,x25,x34,x35,x45')\n",
    "var('d1,d2,d3,d4,d5')\n",
    "var('a12,a13,a14,a15,a23,a24,a25,a34,a35,a45')\n",
    "\n",
    "load_attach_path('C:\\\\Users\\\\julia\\\\Documents\\\\unb\\\\doutorado\\\\pensar\\\\codigo_sage_v2\\\\maquina\\\\x1')\n",
    "load('out_#100101.sage')\n",
    "\n",
    "m=matrix(QQ, [[0, 0, 1, 0, 0],\n",
    "              [0, 0, 0, 0, 0],\n",
    "              [0, 0, 0, 0, 1],\n",
    "              [0, 0, 0, 0, 0],\n",
    "              [0, 0, 0, 0, 0]])\n",
    "        \n",
    "#entry of matrix: (i,j) line i collum j, means (i-1,j-1)\n",
    "sol=solve([ \teq1==m[0,2],\teq2==m[0,3],\teq3==m[0,4],\t\n",
    "                                            eq4==m[1,3],    eq5==m[1,4],\n",
    "                                                            eq6==m[2,4]],d1,d2,d3,d4,d5,a12,a13,a14,a15,a23,a24,a25,a34,a35,a45, solution_dict=True)\n",
    "\n",
    "show(m)\n",
    "show(sol)\n",
    "latex(sol)"
   ]
  },
  {
   "cell_type": "code",
   "execution_count": 39,
   "metadata": {},
   "outputs": [
    {
     "data": {
      "text/html": [
       "<html><script type=\"math/tex; mode=display\">\\newcommand{\\Bold}[1]{\\mathbf{#1}}\\left(\\begin{array}{rrrrr}\n",
       "0 & 0 & 1 & 0 & 0 \\\\\n",
       "0 & 0 & 0 & 0 & 0 \\\\\n",
       "0 & 0 & 0 & 0 & 1 \\\\\n",
       "0 & 0 & 0 & 0 & 0 \\\\\n",
       "0 & 0 & 0 & 0 & 0\n",
       "\\end{array}\\right)</script></html>"
      ],
      "text/latex": [
       "$$\\newcommand{\\Bold}[1]{\\mathbf{#1}}\\left(\\begin{array}{rrrrr}\n",
       "0 & 0 & 1 & 0 & 0 \\\\\n",
       "0 & 0 & 0 & 0 & 0 \\\\\n",
       "0 & 0 & 0 & 0 & 1 \\\\\n",
       "0 & 0 & 0 & 0 & 0 \\\\\n",
       "0 & 0 & 0 & 0 & 0\n",
       "\\end{array}\\right)$$"
      ],
      "text/plain": [
       "[0 0 1 0 0]\n",
       "[0 0 0 0 0]\n",
       "[0 0 0 0 1]\n",
       "[0 0 0 0 0]\n",
       "[0 0 0 0 0]"
      ]
     },
     "metadata": {},
     "output_type": "display_data"
    },
    {
     "data": {
      "text/html": [
       "<html><script type=\"math/tex; mode=display\">\\newcommand{\\Bold}[1]{\\mathbf{#1}}\\left[\\left\\{d_{1} : 0, d_{2} : r_{851}, d_{3} : 0, d_{4} : r_{852}, d_{5} : 0, a_{12} : r_{853}, a_{13} : r_{854}, a_{14} : r_{855}, a_{15} : r_{856}, a_{23} : r_{857}, a_{24} : r_{858}, a_{25} : r_{859}, a_{34} : -\\frac{r_{852} x_{14}}{x_{13}}, a_{35} : r_{860}, a_{45} : r_{861}\\right\\}, \\left\\{d_{1} : r_{862}, d_{2} : 0, d_{3} : \\frac{r_{862}}{x_{13}}, d_{4} : r_{863}, d_{5} : \\frac{r_{862}}{x_{13} x_{35}}, a_{12} : r_{864}, a_{13} : r_{865}, a_{14} : r_{866}, a_{15} : r_{867}, a_{23} : 0, a_{24} : r_{868}, a_{25} : r_{869}, a_{34} : -\\frac{r_{863} x_{14}}{x_{13}}, a_{35} : r_{870}, a_{45} : r_{871}\\right\\}, \\left\\{d_{1} : r_{872}, d_{2} : r_{873}, d_{3} : \\frac{r_{872}}{x_{13}}, d_{4} : r_{874}, d_{5} : \\frac{r_{872}}{x_{13} x_{35}}, a_{12} : r_{875}, a_{13} : r_{876}, a_{14} : r_{877}, a_{15} : r_{878}, a_{23} : 0, a_{24} : r_{879}, a_{25} : r_{880}, a_{34} : -\\frac{r_{874} x_{14}}{x_{13}}, a_{35} : r_{881}, a_{45} : -\\frac{r_{881} x_{13} - r_{876}}{x_{14}}\\right\\}\\right]</script></html>"
      ],
      "text/latex": [
       "$$\\newcommand{\\Bold}[1]{\\mathbf{#1}}\\left[\\left\\{d_{1} : 0, d_{2} : r_{851}, d_{3} : 0, d_{4} : r_{852}, d_{5} : 0, a_{12} : r_{853}, a_{13} : r_{854}, a_{14} : r_{855}, a_{15} : r_{856}, a_{23} : r_{857}, a_{24} : r_{858}, a_{25} : r_{859}, a_{34} : -\\frac{r_{852} x_{14}}{x_{13}}, a_{35} : r_{860}, a_{45} : r_{861}\\right\\}, \\left\\{d_{1} : r_{862}, d_{2} : 0, d_{3} : \\frac{r_{862}}{x_{13}}, d_{4} : r_{863}, d_{5} : \\frac{r_{862}}{x_{13} x_{35}}, a_{12} : r_{864}, a_{13} : r_{865}, a_{14} : r_{866}, a_{15} : r_{867}, a_{23} : 0, a_{24} : r_{868}, a_{25} : r_{869}, a_{34} : -\\frac{r_{863} x_{14}}{x_{13}}, a_{35} : r_{870}, a_{45} : r_{871}\\right\\}, \\left\\{d_{1} : r_{872}, d_{2} : r_{873}, d_{3} : \\frac{r_{872}}{x_{13}}, d_{4} : r_{874}, d_{5} : \\frac{r_{872}}{x_{13} x_{35}}, a_{12} : r_{875}, a_{13} : r_{876}, a_{14} : r_{877}, a_{15} : r_{878}, a_{23} : 0, a_{24} : r_{879}, a_{25} : r_{880}, a_{34} : -\\frac{r_{874} x_{14}}{x_{13}}, a_{35} : r_{881}, a_{45} : -\\frac{r_{881} x_{13} - r_{876}}{x_{14}}\\right\\}\\right]$$"
      ],
      "text/plain": [
       "[{d1: 0,\n",
       "  d2: r851,\n",
       "  d3: 0,\n",
       "  d4: r852,\n",
       "  d5: 0,\n",
       "  a12: r853,\n",
       "  a13: r854,\n",
       "  a14: r855,\n",
       "  a15: r856,\n",
       "  a23: r857,\n",
       "  a24: r858,\n",
       "  a25: r859,\n",
       "  a34: -r852*x14/x13,\n",
       "  a35: r860,\n",
       "  a45: r861},\n",
       " {d1: r862,\n",
       "  d2: 0,\n",
       "  d3: r862/x13,\n",
       "  d4: r863,\n",
       "  d5: r862/(x13*x35),\n",
       "  a12: r864,\n",
       "  a13: r865,\n",
       "  a14: r866,\n",
       "  a15: r867,\n",
       "  a23: 0,\n",
       "  a24: r868,\n",
       "  a25: r869,\n",
       "  a34: -r863*x14/x13,\n",
       "  a35: r870,\n",
       "  a45: r871},\n",
       " {d1: r872,\n",
       "  d2: r873,\n",
       "  d3: r872/x13,\n",
       "  d4: r874,\n",
       "  d5: r872/(x13*x35),\n",
       "  a12: r875,\n",
       "  a13: r876,\n",
       "  a14: r877,\n",
       "  a15: r878,\n",
       "  a23: 0,\n",
       "  a24: r879,\n",
       "  a25: r880,\n",
       "  a34: -r874*x14/x13,\n",
       "  a35: r881,\n",
       "  a45: -(r881*x13 - r876)/x14}]"
      ]
     },
     "metadata": {},
     "output_type": "display_data"
    },
    {
     "data": {
      "text/plain": [
       "\\left[\\left\\{d_{1} : 0, d_{2} : r_{851}, d_{3} : 0, d_{4} : r_{852}, d_{5} : 0, a_{12} : r_{853}, a_{13} : r_{854}, a_{14} : r_{855}, a_{15} : r_{856}, a_{23} : r_{857}, a_{24} : r_{858}, a_{25} : r_{859}, a_{34} : -\\frac{r_{852} x_{14}}{x_{13}}, a_{35} : r_{860}, a_{45} : r_{861}\\right\\}, \\left\\{d_{1} : r_{862}, d_{2} : 0, d_{3} : \\frac{r_{862}}{x_{13}}, d_{4} : r_{863}, d_{5} : \\frac{r_{862}}{x_{13} x_{35}}, a_{12} : r_{864}, a_{13} : r_{865}, a_{14} : r_{866}, a_{15} : r_{867}, a_{23} : 0, a_{24} : r_{868}, a_{25} : r_{869}, a_{34} : -\\frac{r_{863} x_{14}}{x_{13}}, a_{35} : r_{870}, a_{45} : r_{871}\\right\\}, \\left\\{d_{1} : r_{872}, d_{2} : r_{873}, d_{3} : \\frac{r_{872}}{x_{13}}, d_{4} : r_{874}, d_{5} : \\frac{r_{872}}{x_{13} x_{35}}, a_{12} : r_{875}, a_{13} : r_{876}, a_{14} : r_{877}, a_{15} : r_{878}, a_{23} : 0, a_{24} : r_{879}, a_{25} : r_{880}, a_{34} : -\\frac{r_{874} x_{14}}{x_{13}}, a_{35} : r_{881}, a_{45} : -\\frac{r_{881} x_{13} - r_{876}}{x_{14}}\\right\\}\\right]"
      ]
     },
     "execution_count": 39,
     "metadata": {},
     "output_type": "execute_result"
    }
   ],
   "source": [
    "#x1\n",
    "reset()\n",
    "\n",
    "var('x12,x13,x14,x15,x23,x24,x25,x34,x35,x45')\n",
    "var('d1,d2,d3,d4,d5')\n",
    "var('a12,a13,a14,a15,a23,a24,a25,a34,a35,a45')\n",
    "\n",
    "load_attach_path('C:\\\\Users\\\\julia\\\\Documents\\\\unb\\\\doutorado\\\\pensar\\\\codigo_sage_v2\\\\maquina\\\\x1')\n",
    "load('out_#100110.sage')\n",
    "\n",
    "m=matrix(QQ, [[0, 0, 1, 0, 0],\n",
    "              [0, 0, 0, 0, 0],\n",
    "              [0, 0, 0, 0, 1],\n",
    "              [0, 0, 0, 0, 0],\n",
    "              [0, 0, 0, 0, 0]])\n",
    "        \n",
    "#entry of matrix: (i,j) line i collum j, means (i-1,j-1)\n",
    "sol=solve([ \teq1==m[0,2],\teq2==m[0,3],\teq3==m[0,4],\t\n",
    "                                            eq4==m[1,3],    eq5==m[1,4],\n",
    "                                                            eq6==m[2,4]],d1,d2,d3,d4,d5,a12,a13,a14,a15,a23,a24,a25,a34,a35,a45, solution_dict=True)\n",
    "\n",
    "show(m)\n",
    "show(sol)\n",
    "latex(sol)"
   ]
  },
  {
   "cell_type": "code",
   "execution_count": 40,
   "metadata": {},
   "outputs": [
    {
     "data": {
      "text/html": [
       "<html><script type=\"math/tex; mode=display\">\\newcommand{\\Bold}[1]{\\mathbf{#1}}\\left(\\begin{array}{rrrrr}\n",
       "0 & 0 & 1 & 0 & 0 \\\\\n",
       "0 & 0 & 0 & 0 & 0 \\\\\n",
       "0 & 0 & 0 & 0 & 1 \\\\\n",
       "0 & 0 & 0 & 0 & 0 \\\\\n",
       "0 & 0 & 0 & 0 & 0\n",
       "\\end{array}\\right)</script></html>"
      ],
      "text/latex": [
       "$$\\newcommand{\\Bold}[1]{\\mathbf{#1}}\\left(\\begin{array}{rrrrr}\n",
       "0 & 0 & 1 & 0 & 0 \\\\\n",
       "0 & 0 & 0 & 0 & 0 \\\\\n",
       "0 & 0 & 0 & 0 & 1 \\\\\n",
       "0 & 0 & 0 & 0 & 0 \\\\\n",
       "0 & 0 & 0 & 0 & 0\n",
       "\\end{array}\\right)$$"
      ],
      "text/plain": [
       "[0 0 1 0 0]\n",
       "[0 0 0 0 0]\n",
       "[0 0 0 0 1]\n",
       "[0 0 0 0 0]\n",
       "[0 0 0 0 0]"
      ]
     },
     "metadata": {},
     "output_type": "display_data"
    },
    {
     "data": {
      "text/html": [
       "<html><script type=\"math/tex; mode=display\">\\newcommand{\\Bold}[1]{\\mathbf{#1}}\\left[\\left\\{d_{1} : 0, d_{2} : r_{882}, d_{3} : 0, d_{4} : r_{883}, d_{5} : 0, a_{12} : r_{884}, a_{13} : r_{885}, a_{14} : r_{886}, a_{15} : r_{887}, a_{23} : r_{888}, a_{24} : r_{889}, a_{25} : r_{890}, a_{34} : -\\frac{r_{883} x_{14}}{x_{13}}, a_{35} : r_{891}, a_{45} : r_{892}\\right\\}, \\left\\{d_{1} : r_{893}, d_{2} : 0, d_{3} : \\frac{r_{893}}{x_{13}}, d_{4} : r_{894}, d_{5} : \\frac{r_{893}}{x_{13} x_{35}}, a_{12} : r_{895}, a_{13} : r_{896}, a_{14} : r_{897}, a_{15} : r_{898}, a_{23} : 0, a_{24} : r_{899}, a_{25} : r_{900}, a_{34} : -\\frac{r_{894} x_{14}}{x_{13}}, a_{35} : r_{901}, a_{45} : r_{902}\\right\\}, \\left\\{d_{1} : r_{903}, d_{2} : r_{904}, d_{3} : \\frac{r_{903}}{x_{13}}, d_{4} : r_{905}, d_{5} : \\frac{r_{903}}{x_{13} x_{35}}, a_{12} : r_{906}, a_{13} : r_{907}, a_{14} : r_{908}, a_{15} : r_{909}, a_{23} : 0, a_{24} : r_{910}, a_{25} : r_{911}, a_{34} : -\\frac{r_{905} x_{14}}{x_{13}}, a_{35} : r_{912}, a_{45} : -\\frac{r_{903} x_{15} + {\\left(r_{912} x_{13}^{2} - r_{907} x_{13}\\right)} x_{35}}{x_{13} x_{14} x_{35}}\\right\\}\\right]</script></html>"
      ],
      "text/latex": [
       "$$\\newcommand{\\Bold}[1]{\\mathbf{#1}}\\left[\\left\\{d_{1} : 0, d_{2} : r_{882}, d_{3} : 0, d_{4} : r_{883}, d_{5} : 0, a_{12} : r_{884}, a_{13} : r_{885}, a_{14} : r_{886}, a_{15} : r_{887}, a_{23} : r_{888}, a_{24} : r_{889}, a_{25} : r_{890}, a_{34} : -\\frac{r_{883} x_{14}}{x_{13}}, a_{35} : r_{891}, a_{45} : r_{892}\\right\\}, \\left\\{d_{1} : r_{893}, d_{2} : 0, d_{3} : \\frac{r_{893}}{x_{13}}, d_{4} : r_{894}, d_{5} : \\frac{r_{893}}{x_{13} x_{35}}, a_{12} : r_{895}, a_{13} : r_{896}, a_{14} : r_{897}, a_{15} : r_{898}, a_{23} : 0, a_{24} : r_{899}, a_{25} : r_{900}, a_{34} : -\\frac{r_{894} x_{14}}{x_{13}}, a_{35} : r_{901}, a_{45} : r_{902}\\right\\}, \\left\\{d_{1} : r_{903}, d_{2} : r_{904}, d_{3} : \\frac{r_{903}}{x_{13}}, d_{4} : r_{905}, d_{5} : \\frac{r_{903}}{x_{13} x_{35}}, a_{12} : r_{906}, a_{13} : r_{907}, a_{14} : r_{908}, a_{15} : r_{909}, a_{23} : 0, a_{24} : r_{910}, a_{25} : r_{911}, a_{34} : -\\frac{r_{905} x_{14}}{x_{13}}, a_{35} : r_{912}, a_{45} : -\\frac{r_{903} x_{15} + {\\left(r_{912} x_{13}^{2} - r_{907} x_{13}\\right)} x_{35}}{x_{13} x_{14} x_{35}}\\right\\}\\right]$$"
      ],
      "text/plain": [
       "[{d1: 0,\n",
       "  d2: r882,\n",
       "  d3: 0,\n",
       "  d4: r883,\n",
       "  d5: 0,\n",
       "  a12: r884,\n",
       "  a13: r885,\n",
       "  a14: r886,\n",
       "  a15: r887,\n",
       "  a23: r888,\n",
       "  a24: r889,\n",
       "  a25: r890,\n",
       "  a34: -r883*x14/x13,\n",
       "  a35: r891,\n",
       "  a45: r892},\n",
       " {d1: r893,\n",
       "  d2: 0,\n",
       "  d3: r893/x13,\n",
       "  d4: r894,\n",
       "  d5: r893/(x13*x35),\n",
       "  a12: r895,\n",
       "  a13: r896,\n",
       "  a14: r897,\n",
       "  a15: r898,\n",
       "  a23: 0,\n",
       "  a24: r899,\n",
       "  a25: r900,\n",
       "  a34: -r894*x14/x13,\n",
       "  a35: r901,\n",
       "  a45: r902},\n",
       " {d1: r903,\n",
       "  d2: r904,\n",
       "  d3: r903/x13,\n",
       "  d4: r905,\n",
       "  d5: r903/(x13*x35),\n",
       "  a12: r906,\n",
       "  a13: r907,\n",
       "  a14: r908,\n",
       "  a15: r909,\n",
       "  a23: 0,\n",
       "  a24: r910,\n",
       "  a25: r911,\n",
       "  a34: -r905*x14/x13,\n",
       "  a35: r912,\n",
       "  a45: -(r903*x15 + (r912*x13^2 - r907*x13)*x35)/(x13*x14*x35)}]"
      ]
     },
     "metadata": {},
     "output_type": "display_data"
    },
    {
     "data": {
      "text/plain": [
       "\\left[\\left\\{d_{1} : 0, d_{2} : r_{882}, d_{3} : 0, d_{4} : r_{883}, d_{5} : 0, a_{12} : r_{884}, a_{13} : r_{885}, a_{14} : r_{886}, a_{15} : r_{887}, a_{23} : r_{888}, a_{24} : r_{889}, a_{25} : r_{890}, a_{34} : -\\frac{r_{883} x_{14}}{x_{13}}, a_{35} : r_{891}, a_{45} : r_{892}\\right\\}, \\left\\{d_{1} : r_{893}, d_{2} : 0, d_{3} : \\frac{r_{893}}{x_{13}}, d_{4} : r_{894}, d_{5} : \\frac{r_{893}}{x_{13} x_{35}}, a_{12} : r_{895}, a_{13} : r_{896}, a_{14} : r_{897}, a_{15} : r_{898}, a_{23} : 0, a_{24} : r_{899}, a_{25} : r_{900}, a_{34} : -\\frac{r_{894} x_{14}}{x_{13}}, a_{35} : r_{901}, a_{45} : r_{902}\\right\\}, \\left\\{d_{1} : r_{903}, d_{2} : r_{904}, d_{3} : \\frac{r_{903}}{x_{13}}, d_{4} : r_{905}, d_{5} : \\frac{r_{903}}{x_{13} x_{35}}, a_{12} : r_{906}, a_{13} : r_{907}, a_{14} : r_{908}, a_{15} : r_{909}, a_{23} : 0, a_{24} : r_{910}, a_{25} : r_{911}, a_{34} : -\\frac{r_{905} x_{14}}{x_{13}}, a_{35} : r_{912}, a_{45} : -\\frac{r_{903} x_{15} + {\\left(r_{912} x_{13}^{2} - r_{907} x_{13}\\right)} x_{35}}{x_{13} x_{14} x_{35}}\\right\\}\\right]"
      ]
     },
     "execution_count": 40,
     "metadata": {},
     "output_type": "execute_result"
    }
   ],
   "source": [
    "#x1\n",
    "reset()\n",
    "\n",
    "var('x12,x13,x14,x15,x23,x24,x25,x34,x35,x45')\n",
    "var('d1,d2,d3,d4,d5')\n",
    "var('a12,a13,a14,a15,a23,a24,a25,a34,a35,a45')\n",
    "\n",
    "load_attach_path('C:\\\\Users\\\\julia\\\\Documents\\\\unb\\\\doutorado\\\\pensar\\\\codigo_sage_v2\\\\maquina\\\\x1')\n",
    "load('out_#100111.sage')\n",
    "\n",
    "m=matrix(QQ, [[0, 0, 1, 0, 0],\n",
    "              [0, 0, 0, 0, 0],\n",
    "              [0, 0, 0, 0, 1],\n",
    "              [0, 0, 0, 0, 0],\n",
    "              [0, 0, 0, 0, 0]])\n",
    "        \n",
    "#entry of matrix: (i,j) line i collum j, means (i-1,j-1)\n",
    "sol=solve([ \teq1==m[0,2],\teq2==m[0,3],\teq3==m[0,4],\t\n",
    "                                            eq4==m[1,3],    eq5==m[1,4],\n",
    "                                                            eq6==m[2,4]],d1,d2,d3,d4,d5,a12,a13,a14,a15,a23,a24,a25,a34,a35,a45, solution_dict=True)\n",
    "\n",
    "show(m)\n",
    "show(sol)\n",
    "latex(sol)"
   ]
  },
  {
   "cell_type": "code",
   "execution_count": 11,
   "metadata": {},
   "outputs": [
    {
     "data": {
      "text/html": [
       "<html><script type=\"math/tex; mode=display\">\\newcommand{\\Bold}[1]{\\mathbf{#1}}\\left(\\begin{array}{rrrrr}\n",
       "0 & 0 & 0 & 0 & 0 \\\\\n",
       "0 & 0 & 0 & 0 & 0 \\\\\n",
       "0 & 0 & 0 & 0 & 1 \\\\\n",
       "0 & 0 & 0 & 0 & 0 \\\\\n",
       "0 & 0 & 0 & 0 & 0\n",
       "\\end{array}\\right)</script></html>"
      ],
      "text/latex": [
       "$$\\newcommand{\\Bold}[1]{\\mathbf{#1}}\\left(\\begin{array}{rrrrr}\n",
       "0 & 0 & 0 & 0 & 0 \\\\\n",
       "0 & 0 & 0 & 0 & 0 \\\\\n",
       "0 & 0 & 0 & 0 & 1 \\\\\n",
       "0 & 0 & 0 & 0 & 0 \\\\\n",
       "0 & 0 & 0 & 0 & 0\n",
       "\\end{array}\\right)$$"
      ],
      "text/plain": [
       "[0 0 0 0 0]\n",
       "[0 0 0 0 0]\n",
       "[0 0 0 0 1]\n",
       "[0 0 0 0 0]\n",
       "[0 0 0 0 0]"
      ]
     },
     "metadata": {},
     "output_type": "display_data"
    },
    {
     "data": {
      "text/html": [
       "<html><script type=\"math/tex; mode=display\">\\newcommand{\\Bold}[1]{\\mathbf{#1}}\\left[\\left\\{d_{1} : r_{228}, d_{2} : r_{229}, d_{3} : 0, d_{4} : r_{230}, d_{5} : 0, a_{12} : r_{231}, a_{13} : r_{232}, a_{14} : r_{233}, a_{15} : r_{234}, a_{23} : r_{235}, a_{24} : r_{236}, a_{25} : r_{237}, a_{34} : r_{238}, a_{35} : r_{239}, a_{45} : r_{240}\\right\\}, \\left\\{d_{1} : r_{241}, d_{2} : 0, d_{3} : r_{242}, d_{4} : r_{243}, d_{5} : \\frac{r_{242}}{x_{35}}, a_{12} : r_{244}, a_{13} : r_{245}, a_{14} : r_{246}, a_{15} : r_{247}, a_{23} : \\frac{r_{242} x_{25}}{x_{35}}, a_{24} : r_{248}, a_{25} : r_{249}, a_{34} : r_{250}, a_{35} : r_{251}, a_{45} : r_{252}\\right\\}, \\left\\{d_{1} : r_{253}, d_{2} : r_{254}, d_{3} : r_{255}, d_{4} : r_{256}, d_{5} : \\frac{r_{255}}{x_{35}}, a_{12} : r_{257}, a_{13} : 0, a_{14} : r_{258}, a_{15} : r_{259}, a_{23} : \\frac{r_{255} x_{25}}{x_{35}}, a_{24} : r_{260}, a_{25} : r_{261}, a_{34} : r_{262}, a_{35} : r_{263}, a_{45} : r_{264}\\right\\}\\right]</script></html>"
      ],
      "text/latex": [
       "$$\\newcommand{\\Bold}[1]{\\mathbf{#1}}\\left[\\left\\{d_{1} : r_{228}, d_{2} : r_{229}, d_{3} : 0, d_{4} : r_{230}, d_{5} : 0, a_{12} : r_{231}, a_{13} : r_{232}, a_{14} : r_{233}, a_{15} : r_{234}, a_{23} : r_{235}, a_{24} : r_{236}, a_{25} : r_{237}, a_{34} : r_{238}, a_{35} : r_{239}, a_{45} : r_{240}\\right\\}, \\left\\{d_{1} : r_{241}, d_{2} : 0, d_{3} : r_{242}, d_{4} : r_{243}, d_{5} : \\frac{r_{242}}{x_{35}}, a_{12} : r_{244}, a_{13} : r_{245}, a_{14} : r_{246}, a_{15} : r_{247}, a_{23} : \\frac{r_{242} x_{25}}{x_{35}}, a_{24} : r_{248}, a_{25} : r_{249}, a_{34} : r_{250}, a_{35} : r_{251}, a_{45} : r_{252}\\right\\}, \\left\\{d_{1} : r_{253}, d_{2} : r_{254}, d_{3} : r_{255}, d_{4} : r_{256}, d_{5} : \\frac{r_{255}}{x_{35}}, a_{12} : r_{257}, a_{13} : 0, a_{14} : r_{258}, a_{15} : r_{259}, a_{23} : \\frac{r_{255} x_{25}}{x_{35}}, a_{24} : r_{260}, a_{25} : r_{261}, a_{34} : r_{262}, a_{35} : r_{263}, a_{45} : r_{264}\\right\\}\\right]$$"
      ],
      "text/plain": [
       "[{d1: r228,\n",
       "  d2: r229,\n",
       "  d3: 0,\n",
       "  d4: r230,\n",
       "  d5: 0,\n",
       "  a12: r231,\n",
       "  a13: r232,\n",
       "  a14: r233,\n",
       "  a15: r234,\n",
       "  a23: r235,\n",
       "  a24: r236,\n",
       "  a25: r237,\n",
       "  a34: r238,\n",
       "  a35: r239,\n",
       "  a45: r240},\n",
       " {d1: r241,\n",
       "  d2: 0,\n",
       "  d3: r242,\n",
       "  d4: r243,\n",
       "  d5: r242/x35,\n",
       "  a12: r244,\n",
       "  a13: r245,\n",
       "  a14: r246,\n",
       "  a15: r247,\n",
       "  a23: r242*x25/x35,\n",
       "  a24: r248,\n",
       "  a25: r249,\n",
       "  a34: r250,\n",
       "  a35: r251,\n",
       "  a45: r252},\n",
       " {d1: r253,\n",
       "  d2: r254,\n",
       "  d3: r255,\n",
       "  d4: r256,\n",
       "  d5: r255/x35,\n",
       "  a12: r257,\n",
       "  a13: 0,\n",
       "  a14: r258,\n",
       "  a15: r259,\n",
       "  a23: r255*x25/x35,\n",
       "  a24: r260,\n",
       "  a25: r261,\n",
       "  a34: r262,\n",
       "  a35: r263,\n",
       "  a45: r264}]"
      ]
     },
     "metadata": {},
     "output_type": "display_data"
    },
    {
     "data": {
      "text/plain": [
       "\\left[\\left\\{d_{1} : r_{228}, d_{2} : r_{229}, d_{3} : 0, d_{4} : r_{230}, d_{5} : 0, a_{12} : r_{231}, a_{13} : r_{232}, a_{14} : r_{233}, a_{15} : r_{234}, a_{23} : r_{235}, a_{24} : r_{236}, a_{25} : r_{237}, a_{34} : r_{238}, a_{35} : r_{239}, a_{45} : r_{240}\\right\\}, \\left\\{d_{1} : r_{241}, d_{2} : 0, d_{3} : r_{242}, d_{4} : r_{243}, d_{5} : \\frac{r_{242}}{x_{35}}, a_{12} : r_{244}, a_{13} : r_{245}, a_{14} : r_{246}, a_{15} : r_{247}, a_{23} : \\frac{r_{242} x_{25}}{x_{35}}, a_{24} : r_{248}, a_{25} : r_{249}, a_{34} : r_{250}, a_{35} : r_{251}, a_{45} : r_{252}\\right\\}, \\left\\{d_{1} : r_{253}, d_{2} : r_{254}, d_{3} : r_{255}, d_{4} : r_{256}, d_{5} : \\frac{r_{255}}{x_{35}}, a_{12} : r_{257}, a_{13} : 0, a_{14} : r_{258}, a_{15} : r_{259}, a_{23} : \\frac{r_{255} x_{25}}{x_{35}}, a_{24} : r_{260}, a_{25} : r_{261}, a_{34} : r_{262}, a_{35} : r_{263}, a_{45} : r_{264}\\right\\}\\right]"
      ]
     },
     "execution_count": 11,
     "metadata": {},
     "output_type": "execute_result"
    }
   ],
   "source": [
    "#x1\n",
    "reset()\n",
    "\n",
    "var('x12,x13,x14,x15,x23,x24,x25,x34,x35,x45')\n",
    "var('d1,d2,d3,d4,d5')\n",
    "var('a12,a13,a14,a15,a23,a24,a25,a34,a35,a45')\n",
    "\n",
    "load_attach_path('C:\\\\Users\\\\julia\\\\Documents\\\\unb\\\\doutorado\\\\pensar\\\\codigo_sage_v2\\\\maquina\\\\x1')\n",
    "load('out_#101000.sage')\n",
    "\n",
    "m=matrix(QQ, [[0, 0, 0, 0, 0],\n",
    "              [0, 0, 0, 0, 0],\n",
    "              [0, 0, 0, 0, 1],\n",
    "              [0, 0, 0, 0, 0],\n",
    "              [0, 0, 0, 0, 0]])\n",
    "        \n",
    "#entry of matrix: (i,j) line i collum j, means (i-1,j-1)\n",
    "sol=solve([ \teq1==m[0,2],\teq2==m[0,3],\teq3==m[0,4],\t\n",
    "                                            eq4==m[1,3],    eq5==m[1,4],\n",
    "                                                            eq6==m[2,4]],d1,d2,d3,d4,d5,a12,a13,a14,a15,a23,a24,a25,a34,a35,a45, solution_dict=True)\n",
    "\n",
    "show(m)\n",
    "show(sol)\n",
    "latex(sol)"
   ]
  },
  {
   "cell_type": "code",
   "execution_count": 12,
   "metadata": {},
   "outputs": [
    {
     "data": {
      "text/html": [
       "<html><script type=\"math/tex; mode=display\">\\newcommand{\\Bold}[1]{\\mathbf{#1}}\\left(\\begin{array}{rrrrr}\n",
       "0 & 0 & 0 & 0 & 0 \\\\\n",
       "0 & 0 & 0 & 0 & 0 \\\\\n",
       "0 & 0 & 0 & 0 & 1 \\\\\n",
       "0 & 0 & 0 & 0 & 0 \\\\\n",
       "0 & 0 & 0 & 0 & 0\n",
       "\\end{array}\\right)</script></html>"
      ],
      "text/latex": [
       "$$\\newcommand{\\Bold}[1]{\\mathbf{#1}}\\left(\\begin{array}{rrrrr}\n",
       "0 & 0 & 0 & 0 & 0 \\\\\n",
       "0 & 0 & 0 & 0 & 0 \\\\\n",
       "0 & 0 & 0 & 0 & 1 \\\\\n",
       "0 & 0 & 0 & 0 & 0 \\\\\n",
       "0 & 0 & 0 & 0 & 0\n",
       "\\end{array}\\right)$$"
      ],
      "text/plain": [
       "[0 0 0 0 0]\n",
       "[0 0 0 0 0]\n",
       "[0 0 0 0 1]\n",
       "[0 0 0 0 0]\n",
       "[0 0 0 0 0]"
      ]
     },
     "metadata": {},
     "output_type": "display_data"
    },
    {
     "data": {
      "text/html": [
       "<html><script type=\"math/tex; mode=display\">\\newcommand{\\Bold}[1]{\\mathbf{#1}}\\left[\\left\\{d_{1} : r_{265}, d_{2} : r_{266}, d_{3} : 0, d_{4} : r_{267}, d_{5} : 0, a_{12} : r_{268}, a_{13} : r_{269}, a_{14} : r_{270}, a_{15} : r_{271}, a_{23} : r_{272}, a_{24} : r_{273}, a_{25} : r_{274}, a_{34} : r_{275}, a_{35} : r_{276}, a_{45} : r_{277}\\right\\}, \\left\\{d_{1} : r_{278}, d_{2} : r_{279}, d_{3} : r_{280}, d_{4} : r_{281}, d_{5} : \\frac{r_{280}}{x_{35}}, a_{12} : r_{282}, a_{13} : \\frac{r_{280} x_{15}}{x_{35}}, a_{14} : r_{283}, a_{15} : r_{284}, a_{23} : \\frac{r_{280} x_{25}}{x_{35}}, a_{24} : r_{285}, a_{25} : r_{286}, a_{34} : r_{287}, a_{35} : r_{288}, a_{45} : r_{289}\\right\\}, \\left\\{d_{1} : r_{290}, d_{2} : 0, d_{3} : r_{291}, d_{4} : r_{292}, d_{5} : \\frac{r_{291}}{x_{35}}, a_{12} : r_{293}, a_{13} : r_{294}, a_{14} : r_{295}, a_{15} : r_{296}, a_{23} : \\frac{r_{291} x_{25}}{x_{35}}, a_{24} : r_{297}, a_{25} : r_{298}, a_{34} : r_{299}, a_{35} : r_{300}, a_{45} : r_{301}\\right\\}\\right]</script></html>"
      ],
      "text/latex": [
       "$$\\newcommand{\\Bold}[1]{\\mathbf{#1}}\\left[\\left\\{d_{1} : r_{265}, d_{2} : r_{266}, d_{3} : 0, d_{4} : r_{267}, d_{5} : 0, a_{12} : r_{268}, a_{13} : r_{269}, a_{14} : r_{270}, a_{15} : r_{271}, a_{23} : r_{272}, a_{24} : r_{273}, a_{25} : r_{274}, a_{34} : r_{275}, a_{35} : r_{276}, a_{45} : r_{277}\\right\\}, \\left\\{d_{1} : r_{278}, d_{2} : r_{279}, d_{3} : r_{280}, d_{4} : r_{281}, d_{5} : \\frac{r_{280}}{x_{35}}, a_{12} : r_{282}, a_{13} : \\frac{r_{280} x_{15}}{x_{35}}, a_{14} : r_{283}, a_{15} : r_{284}, a_{23} : \\frac{r_{280} x_{25}}{x_{35}}, a_{24} : r_{285}, a_{25} : r_{286}, a_{34} : r_{287}, a_{35} : r_{288}, a_{45} : r_{289}\\right\\}, \\left\\{d_{1} : r_{290}, d_{2} : 0, d_{3} : r_{291}, d_{4} : r_{292}, d_{5} : \\frac{r_{291}}{x_{35}}, a_{12} : r_{293}, a_{13} : r_{294}, a_{14} : r_{295}, a_{15} : r_{296}, a_{23} : \\frac{r_{291} x_{25}}{x_{35}}, a_{24} : r_{297}, a_{25} : r_{298}, a_{34} : r_{299}, a_{35} : r_{300}, a_{45} : r_{301}\\right\\}\\right]$$"
      ],
      "text/plain": [
       "[{d1: r265,\n",
       "  d2: r266,\n",
       "  d3: 0,\n",
       "  d4: r267,\n",
       "  d5: 0,\n",
       "  a12: r268,\n",
       "  a13: r269,\n",
       "  a14: r270,\n",
       "  a15: r271,\n",
       "  a23: r272,\n",
       "  a24: r273,\n",
       "  a25: r274,\n",
       "  a34: r275,\n",
       "  a35: r276,\n",
       "  a45: r277},\n",
       " {d1: r278,\n",
       "  d2: r279,\n",
       "  d3: r280,\n",
       "  d4: r281,\n",
       "  d5: r280/x35,\n",
       "  a12: r282,\n",
       "  a13: r280*x15/x35,\n",
       "  a14: r283,\n",
       "  a15: r284,\n",
       "  a23: r280*x25/x35,\n",
       "  a24: r285,\n",
       "  a25: r286,\n",
       "  a34: r287,\n",
       "  a35: r288,\n",
       "  a45: r289},\n",
       " {d1: r290,\n",
       "  d2: 0,\n",
       "  d3: r291,\n",
       "  d4: r292,\n",
       "  d5: r291/x35,\n",
       "  a12: r293,\n",
       "  a13: r294,\n",
       "  a14: r295,\n",
       "  a15: r296,\n",
       "  a23: r291*x25/x35,\n",
       "  a24: r297,\n",
       "  a25: r298,\n",
       "  a34: r299,\n",
       "  a35: r300,\n",
       "  a45: r301}]"
      ]
     },
     "metadata": {},
     "output_type": "display_data"
    },
    {
     "data": {
      "text/plain": [
       "\\left[\\left\\{d_{1} : r_{265}, d_{2} : r_{266}, d_{3} : 0, d_{4} : r_{267}, d_{5} : 0, a_{12} : r_{268}, a_{13} : r_{269}, a_{14} : r_{270}, a_{15} : r_{271}, a_{23} : r_{272}, a_{24} : r_{273}, a_{25} : r_{274}, a_{34} : r_{275}, a_{35} : r_{276}, a_{45} : r_{277}\\right\\}, \\left\\{d_{1} : r_{278}, d_{2} : r_{279}, d_{3} : r_{280}, d_{4} : r_{281}, d_{5} : \\frac{r_{280}}{x_{35}}, a_{12} : r_{282}, a_{13} : \\frac{r_{280} x_{15}}{x_{35}}, a_{14} : r_{283}, a_{15} : r_{284}, a_{23} : \\frac{r_{280} x_{25}}{x_{35}}, a_{24} : r_{285}, a_{25} : r_{286}, a_{34} : r_{287}, a_{35} : r_{288}, a_{45} : r_{289}\\right\\}, \\left\\{d_{1} : r_{290}, d_{2} : 0, d_{3} : r_{291}, d_{4} : r_{292}, d_{5} : \\frac{r_{291}}{x_{35}}, a_{12} : r_{293}, a_{13} : r_{294}, a_{14} : r_{295}, a_{15} : r_{296}, a_{23} : \\frac{r_{291} x_{25}}{x_{35}}, a_{24} : r_{297}, a_{25} : r_{298}, a_{34} : r_{299}, a_{35} : r_{300}, a_{45} : r_{301}\\right\\}\\right]"
      ]
     },
     "execution_count": 12,
     "metadata": {},
     "output_type": "execute_result"
    }
   ],
   "source": [
    "#x1\n",
    "reset()\n",
    "\n",
    "var('x12,x13,x14,x15,x23,x24,x25,x34,x35,x45')\n",
    "var('d1,d2,d3,d4,d5')\n",
    "var('a12,a13,a14,a15,a23,a24,a25,a34,a35,a45')\n",
    "\n",
    "load_attach_path('C:\\\\Users\\\\julia\\\\Documents\\\\unb\\\\doutorado\\\\pensar\\\\codigo_sage_v2\\\\maquina\\\\x1')\n",
    "load('out_#101001.sage')\n",
    "\n",
    "m=matrix(QQ, [[0, 0, 0, 0, 0],\n",
    "              [0, 0, 0, 0, 0],\n",
    "              [0, 0, 0, 0, 1],\n",
    "              [0, 0, 0, 0, 0],\n",
    "              [0, 0, 0, 0, 0]])\n",
    "        \n",
    "#entry of matrix: (i,j) line i collum j, means (i-1,j-1)\n",
    "sol=solve([ \teq1==m[0,2],\teq2==m[0,3],\teq3==m[0,4],\t\n",
    "                                            eq4==m[1,3],    eq5==m[1,4],\n",
    "                                                            eq6==m[2,4]],d1,d2,d3,d4,d5,a12,a13,a14,a15,a23,a24,a25,a34,a35,a45, solution_dict=True)\n",
    "\n",
    "show(m)\n",
    "show(sol)\n",
    "latex(sol)"
   ]
  },
  {
   "cell_type": "code",
   "execution_count": 13,
   "metadata": {},
   "outputs": [
    {
     "data": {
      "text/html": [
       "<html><script type=\"math/tex; mode=display\">\\newcommand{\\Bold}[1]{\\mathbf{#1}}\\left(\\begin{array}{rrrrr}\n",
       "0 & 0 & 0 & 1 & 0 \\\\\n",
       "0 & 0 & 0 & 0 & 0 \\\\\n",
       "0 & 0 & 0 & 0 & 1 \\\\\n",
       "0 & 0 & 0 & 0 & 0 \\\\\n",
       "0 & 0 & 0 & 0 & 0\n",
       "\\end{array}\\right)</script></html>"
      ],
      "text/latex": [
       "$$\\newcommand{\\Bold}[1]{\\mathbf{#1}}\\left(\\begin{array}{rrrrr}\n",
       "0 & 0 & 0 & 1 & 0 \\\\\n",
       "0 & 0 & 0 & 0 & 0 \\\\\n",
       "0 & 0 & 0 & 0 & 1 \\\\\n",
       "0 & 0 & 0 & 0 & 0 \\\\\n",
       "0 & 0 & 0 & 0 & 0\n",
       "\\end{array}\\right)$$"
      ],
      "text/plain": [
       "[0 0 0 1 0]\n",
       "[0 0 0 0 0]\n",
       "[0 0 0 0 1]\n",
       "[0 0 0 0 0]\n",
       "[0 0 0 0 0]"
      ]
     },
     "metadata": {},
     "output_type": "display_data"
    },
    {
     "data": {
      "text/html": [
       "<html><script type=\"math/tex; mode=display\">\\newcommand{\\Bold}[1]{\\mathbf{#1}}\\left[\\left\\{d_{1} : r_{302}, d_{2} : r_{303}, d_{3} : 0, d_{4} : \\frac{r_{302}}{x_{14}}, d_{5} : 0, a_{12} : r_{304}, a_{13} : r_{305}, a_{14} : r_{306}, a_{15} : r_{307}, a_{23} : r_{308}, a_{24} : r_{309}, a_{25} : r_{310}, a_{34} : r_{311}, a_{35} : r_{312}, a_{45} : r_{313}\\right\\}, \\left\\{d_{1} : r_{314}, d_{2} : r_{315}, d_{3} : r_{316}, d_{4} : \\frac{r_{314}}{x_{14}}, d_{5} : \\frac{r_{316}}{x_{35}}, a_{12} : r_{317}, a_{13} : r_{318}, a_{14} : r_{319}, a_{15} : r_{320}, a_{23} : \\frac{r_{316} x_{25}}{x_{35}}, a_{24} : r_{321}, a_{25} : r_{322}, a_{34} : r_{323}, a_{35} : r_{324}, a_{45} : \\frac{r_{318}}{x_{14}}\\right\\}, \\left\\{d_{1} : r_{325}, d_{2} : 0, d_{3} : r_{326}, d_{4} : \\frac{r_{325}}{x_{14}}, d_{5} : \\frac{r_{326}}{x_{35}}, a_{12} : r_{327}, a_{13} : r_{328}, a_{14} : r_{329}, a_{15} : r_{330}, a_{23} : \\frac{r_{326} x_{25}}{x_{35}}, a_{24} : r_{331}, a_{25} : r_{332}, a_{34} : r_{333}, a_{35} : r_{334}, a_{45} : r_{335}\\right\\}\\right]</script></html>"
      ],
      "text/latex": [
       "$$\\newcommand{\\Bold}[1]{\\mathbf{#1}}\\left[\\left\\{d_{1} : r_{302}, d_{2} : r_{303}, d_{3} : 0, d_{4} : \\frac{r_{302}}{x_{14}}, d_{5} : 0, a_{12} : r_{304}, a_{13} : r_{305}, a_{14} : r_{306}, a_{15} : r_{307}, a_{23} : r_{308}, a_{24} : r_{309}, a_{25} : r_{310}, a_{34} : r_{311}, a_{35} : r_{312}, a_{45} : r_{313}\\right\\}, \\left\\{d_{1} : r_{314}, d_{2} : r_{315}, d_{3} : r_{316}, d_{4} : \\frac{r_{314}}{x_{14}}, d_{5} : \\frac{r_{316}}{x_{35}}, a_{12} : r_{317}, a_{13} : r_{318}, a_{14} : r_{319}, a_{15} : r_{320}, a_{23} : \\frac{r_{316} x_{25}}{x_{35}}, a_{24} : r_{321}, a_{25} : r_{322}, a_{34} : r_{323}, a_{35} : r_{324}, a_{45} : \\frac{r_{318}}{x_{14}}\\right\\}, \\left\\{d_{1} : r_{325}, d_{2} : 0, d_{3} : r_{326}, d_{4} : \\frac{r_{325}}{x_{14}}, d_{5} : \\frac{r_{326}}{x_{35}}, a_{12} : r_{327}, a_{13} : r_{328}, a_{14} : r_{329}, a_{15} : r_{330}, a_{23} : \\frac{r_{326} x_{25}}{x_{35}}, a_{24} : r_{331}, a_{25} : r_{332}, a_{34} : r_{333}, a_{35} : r_{334}, a_{45} : r_{335}\\right\\}\\right]$$"
      ],
      "text/plain": [
       "[{d1: r302,\n",
       "  d2: r303,\n",
       "  d3: 0,\n",
       "  d4: r302/x14,\n",
       "  d5: 0,\n",
       "  a12: r304,\n",
       "  a13: r305,\n",
       "  a14: r306,\n",
       "  a15: r307,\n",
       "  a23: r308,\n",
       "  a24: r309,\n",
       "  a25: r310,\n",
       "  a34: r311,\n",
       "  a35: r312,\n",
       "  a45: r313},\n",
       " {d1: r314,\n",
       "  d2: r315,\n",
       "  d3: r316,\n",
       "  d4: r314/x14,\n",
       "  d5: r316/x35,\n",
       "  a12: r317,\n",
       "  a13: r318,\n",
       "  a14: r319,\n",
       "  a15: r320,\n",
       "  a23: r316*x25/x35,\n",
       "  a24: r321,\n",
       "  a25: r322,\n",
       "  a34: r323,\n",
       "  a35: r324,\n",
       "  a45: r318/x14},\n",
       " {d1: r325,\n",
       "  d2: 0,\n",
       "  d3: r326,\n",
       "  d4: r325/x14,\n",
       "  d5: r326/x35,\n",
       "  a12: r327,\n",
       "  a13: r328,\n",
       "  a14: r329,\n",
       "  a15: r330,\n",
       "  a23: r326*x25/x35,\n",
       "  a24: r331,\n",
       "  a25: r332,\n",
       "  a34: r333,\n",
       "  a35: r334,\n",
       "  a45: r335}]"
      ]
     },
     "metadata": {},
     "output_type": "display_data"
    },
    {
     "data": {
      "text/plain": [
       "\\left[\\left\\{d_{1} : r_{302}, d_{2} : r_{303}, d_{3} : 0, d_{4} : \\frac{r_{302}}{x_{14}}, d_{5} : 0, a_{12} : r_{304}, a_{13} : r_{305}, a_{14} : r_{306}, a_{15} : r_{307}, a_{23} : r_{308}, a_{24} : r_{309}, a_{25} : r_{310}, a_{34} : r_{311}, a_{35} : r_{312}, a_{45} : r_{313}\\right\\}, \\left\\{d_{1} : r_{314}, d_{2} : r_{315}, d_{3} : r_{316}, d_{4} : \\frac{r_{314}}{x_{14}}, d_{5} : \\frac{r_{316}}{x_{35}}, a_{12} : r_{317}, a_{13} : r_{318}, a_{14} : r_{319}, a_{15} : r_{320}, a_{23} : \\frac{r_{316} x_{25}}{x_{35}}, a_{24} : r_{321}, a_{25} : r_{322}, a_{34} : r_{323}, a_{35} : r_{324}, a_{45} : \\frac{r_{318}}{x_{14}}\\right\\}, \\left\\{d_{1} : r_{325}, d_{2} : 0, d_{3} : r_{326}, d_{4} : \\frac{r_{325}}{x_{14}}, d_{5} : \\frac{r_{326}}{x_{35}}, a_{12} : r_{327}, a_{13} : r_{328}, a_{14} : r_{329}, a_{15} : r_{330}, a_{23} : \\frac{r_{326} x_{25}}{x_{35}}, a_{24} : r_{331}, a_{25} : r_{332}, a_{34} : r_{333}, a_{35} : r_{334}, a_{45} : r_{335}\\right\\}\\right]"
      ]
     },
     "execution_count": 13,
     "metadata": {},
     "output_type": "execute_result"
    }
   ],
   "source": [
    "#x1\n",
    "reset()\n",
    "\n",
    "var('x12,x13,x14,x15,x23,x24,x25,x34,x35,x45')\n",
    "var('d1,d2,d3,d4,d5')\n",
    "var('a12,a13,a14,a15,a23,a24,a25,a34,a35,a45')\n",
    "\n",
    "load_attach_path('C:\\\\Users\\\\julia\\\\Documents\\\\unb\\\\doutorado\\\\pensar\\\\codigo_sage_v2\\\\maquina\\\\x1')\n",
    "load('out_#101010.sage')\n",
    "\n",
    "m=matrix(QQ, [[0, 0, 0, 1, 0],\n",
    "              [0, 0, 0, 0, 0],\n",
    "              [0, 0, 0, 0, 1],\n",
    "              [0, 0, 0, 0, 0],\n",
    "              [0, 0, 0, 0, 0]])\n",
    "        \n",
    "#entry of matrix: (i,j) line i collum j, means (i-1,j-1)\n",
    "sol=solve([ \teq1==m[0,2],\teq2==m[0,3],\teq3==m[0,4],\t\n",
    "                                            eq4==m[1,3],    eq5==m[1,4],\n",
    "                                                            eq6==m[2,4]],d1,d2,d3,d4,d5,a12,a13,a14,a15,a23,a24,a25,a34,a35,a45, solution_dict=True)\n",
    "\n",
    "show(m)\n",
    "show(sol)\n",
    "latex(sol)"
   ]
  },
  {
   "cell_type": "code",
   "execution_count": 14,
   "metadata": {},
   "outputs": [
    {
     "data": {
      "text/html": [
       "<html><script type=\"math/tex; mode=display\">\\newcommand{\\Bold}[1]{\\mathbf{#1}}\\left(\\begin{array}{rrrrr}\n",
       "0 & 0 & 0 & 1 & 0 \\\\\n",
       "0 & 0 & 0 & 0 & 0 \\\\\n",
       "0 & 0 & 0 & 0 & 1 \\\\\n",
       "0 & 0 & 0 & 0 & 0 \\\\\n",
       "0 & 0 & 0 & 0 & 0\n",
       "\\end{array}\\right)</script></html>"
      ],
      "text/latex": [
       "$$\\newcommand{\\Bold}[1]{\\mathbf{#1}}\\left(\\begin{array}{rrrrr}\n",
       "0 & 0 & 0 & 1 & 0 \\\\\n",
       "0 & 0 & 0 & 0 & 0 \\\\\n",
       "0 & 0 & 0 & 0 & 1 \\\\\n",
       "0 & 0 & 0 & 0 & 0 \\\\\n",
       "0 & 0 & 0 & 0 & 0\n",
       "\\end{array}\\right)$$"
      ],
      "text/plain": [
       "[0 0 0 1 0]\n",
       "[0 0 0 0 0]\n",
       "[0 0 0 0 1]\n",
       "[0 0 0 0 0]\n",
       "[0 0 0 0 0]"
      ]
     },
     "metadata": {},
     "output_type": "display_data"
    },
    {
     "data": {
      "text/html": [
       "<html><script type=\"math/tex; mode=display\">\\newcommand{\\Bold}[1]{\\mathbf{#1}}\\left[\\left\\{d_{1} : r_{336}, d_{2} : r_{337}, d_{3} : 0, d_{4} : \\frac{r_{336}}{x_{14}}, d_{5} : 0, a_{12} : r_{338}, a_{13} : r_{339}, a_{14} : r_{340}, a_{15} : r_{341}, a_{23} : r_{342}, a_{24} : r_{343}, a_{25} : r_{344}, a_{34} : r_{345}, a_{35} : r_{346}, a_{45} : r_{347}\\right\\}, \\left\\{d_{1} : r_{348}, d_{2} : r_{349}, d_{3} : r_{350}, d_{4} : \\frac{r_{348}}{x_{14}}, d_{5} : \\frac{r_{350}}{x_{35}}, a_{12} : r_{351}, a_{13} : r_{352}, a_{14} : r_{353}, a_{15} : r_{354}, a_{23} : \\frac{r_{350} x_{25}}{x_{35}}, a_{24} : r_{355}, a_{25} : r_{356}, a_{34} : r_{357}, a_{35} : r_{358}, a_{45} : -\\frac{r_{350} x_{15} - r_{352} x_{35}}{x_{14} x_{35}}\\right\\}, \\left\\{d_{1} : r_{359}, d_{2} : 0, d_{3} : r_{360}, d_{4} : \\frac{r_{359}}{x_{14}}, d_{5} : \\frac{r_{360}}{x_{35}}, a_{12} : r_{361}, a_{13} : r_{362}, a_{14} : r_{363}, a_{15} : r_{364}, a_{23} : \\frac{r_{360} x_{25}}{x_{35}}, a_{24} : r_{365}, a_{25} : r_{366}, a_{34} : r_{367}, a_{35} : r_{368}, a_{45} : r_{369}\\right\\}\\right]</script></html>"
      ],
      "text/latex": [
       "$$\\newcommand{\\Bold}[1]{\\mathbf{#1}}\\left[\\left\\{d_{1} : r_{336}, d_{2} : r_{337}, d_{3} : 0, d_{4} : \\frac{r_{336}}{x_{14}}, d_{5} : 0, a_{12} : r_{338}, a_{13} : r_{339}, a_{14} : r_{340}, a_{15} : r_{341}, a_{23} : r_{342}, a_{24} : r_{343}, a_{25} : r_{344}, a_{34} : r_{345}, a_{35} : r_{346}, a_{45} : r_{347}\\right\\}, \\left\\{d_{1} : r_{348}, d_{2} : r_{349}, d_{3} : r_{350}, d_{4} : \\frac{r_{348}}{x_{14}}, d_{5} : \\frac{r_{350}}{x_{35}}, a_{12} : r_{351}, a_{13} : r_{352}, a_{14} : r_{353}, a_{15} : r_{354}, a_{23} : \\frac{r_{350} x_{25}}{x_{35}}, a_{24} : r_{355}, a_{25} : r_{356}, a_{34} : r_{357}, a_{35} : r_{358}, a_{45} : -\\frac{r_{350} x_{15} - r_{352} x_{35}}{x_{14} x_{35}}\\right\\}, \\left\\{d_{1} : r_{359}, d_{2} : 0, d_{3} : r_{360}, d_{4} : \\frac{r_{359}}{x_{14}}, d_{5} : \\frac{r_{360}}{x_{35}}, a_{12} : r_{361}, a_{13} : r_{362}, a_{14} : r_{363}, a_{15} : r_{364}, a_{23} : \\frac{r_{360} x_{25}}{x_{35}}, a_{24} : r_{365}, a_{25} : r_{366}, a_{34} : r_{367}, a_{35} : r_{368}, a_{45} : r_{369}\\right\\}\\right]$$"
      ],
      "text/plain": [
       "[{d1: r336,\n",
       "  d2: r337,\n",
       "  d3: 0,\n",
       "  d4: r336/x14,\n",
       "  d5: 0,\n",
       "  a12: r338,\n",
       "  a13: r339,\n",
       "  a14: r340,\n",
       "  a15: r341,\n",
       "  a23: r342,\n",
       "  a24: r343,\n",
       "  a25: r344,\n",
       "  a34: r345,\n",
       "  a35: r346,\n",
       "  a45: r347},\n",
       " {d1: r348,\n",
       "  d2: r349,\n",
       "  d3: r350,\n",
       "  d4: r348/x14,\n",
       "  d5: r350/x35,\n",
       "  a12: r351,\n",
       "  a13: r352,\n",
       "  a14: r353,\n",
       "  a15: r354,\n",
       "  a23: r350*x25/x35,\n",
       "  a24: r355,\n",
       "  a25: r356,\n",
       "  a34: r357,\n",
       "  a35: r358,\n",
       "  a45: -(r350*x15 - r352*x35)/(x14*x35)},\n",
       " {d1: r359,\n",
       "  d2: 0,\n",
       "  d3: r360,\n",
       "  d4: r359/x14,\n",
       "  d5: r360/x35,\n",
       "  a12: r361,\n",
       "  a13: r362,\n",
       "  a14: r363,\n",
       "  a15: r364,\n",
       "  a23: r360*x25/x35,\n",
       "  a24: r365,\n",
       "  a25: r366,\n",
       "  a34: r367,\n",
       "  a35: r368,\n",
       "  a45: r369}]"
      ]
     },
     "metadata": {},
     "output_type": "display_data"
    },
    {
     "data": {
      "text/plain": [
       "\\left[\\left\\{d_{1} : r_{336}, d_{2} : r_{337}, d_{3} : 0, d_{4} : \\frac{r_{336}}{x_{14}}, d_{5} : 0, a_{12} : r_{338}, a_{13} : r_{339}, a_{14} : r_{340}, a_{15} : r_{341}, a_{23} : r_{342}, a_{24} : r_{343}, a_{25} : r_{344}, a_{34} : r_{345}, a_{35} : r_{346}, a_{45} : r_{347}\\right\\}, \\left\\{d_{1} : r_{348}, d_{2} : r_{349}, d_{3} : r_{350}, d_{4} : \\frac{r_{348}}{x_{14}}, d_{5} : \\frac{r_{350}}{x_{35}}, a_{12} : r_{351}, a_{13} : r_{352}, a_{14} : r_{353}, a_{15} : r_{354}, a_{23} : \\frac{r_{350} x_{25}}{x_{35}}, a_{24} : r_{355}, a_{25} : r_{356}, a_{34} : r_{357}, a_{35} : r_{358}, a_{45} : -\\frac{r_{350} x_{15} - r_{352} x_{35}}{x_{14} x_{35}}\\right\\}, \\left\\{d_{1} : r_{359}, d_{2} : 0, d_{3} : r_{360}, d_{4} : \\frac{r_{359}}{x_{14}}, d_{5} : \\frac{r_{360}}{x_{35}}, a_{12} : r_{361}, a_{13} : r_{362}, a_{14} : r_{363}, a_{15} : r_{364}, a_{23} : \\frac{r_{360} x_{25}}{x_{35}}, a_{24} : r_{365}, a_{25} : r_{366}, a_{34} : r_{367}, a_{35} : r_{368}, a_{45} : r_{369}\\right\\}\\right]"
      ]
     },
     "execution_count": 14,
     "metadata": {},
     "output_type": "execute_result"
    }
   ],
   "source": [
    "#x1\n",
    "reset()\n",
    "\n",
    "var('x12,x13,x14,x15,x23,x24,x25,x34,x35,x45')\n",
    "var('d1,d2,d3,d4,d5')\n",
    "var('a12,a13,a14,a15,a23,a24,a25,a34,a35,a45')\n",
    "\n",
    "load_attach_path('C:\\\\Users\\\\julia\\\\Documents\\\\unb\\\\doutorado\\\\pensar\\\\codigo_sage_v2\\\\maquina\\\\x1')\n",
    "load('out_#101011.sage')\n",
    "\n",
    "m=matrix(QQ, [[0, 0, 0, 1, 0],\n",
    "              [0, 0, 0, 0, 0],\n",
    "              [0, 0, 0, 0, 1],\n",
    "              [0, 0, 0, 0, 0],\n",
    "              [0, 0, 0, 0, 0]])\n",
    "        \n",
    "#entry of matrix: (i,j) line i collum j, means (i-1,j-1)\n",
    "sol=solve([ \teq1==m[0,2],\teq2==m[0,3],\teq3==m[0,4],\t\n",
    "                                            eq4==m[1,3],    eq5==m[1,4],\n",
    "                                                            eq6==m[2,4]],d1,d2,d3,d4,d5,a12,a13,a14,a15,a23,a24,a25,a34,a35,a45, solution_dict=True)\n",
    "\n",
    "show(m)\n",
    "show(sol)\n",
    "latex(sol)"
   ]
  },
  {
   "cell_type": "code",
   "execution_count": 45,
   "metadata": {},
   "outputs": [
    {
     "data": {
      "text/html": [
       "<html><script type=\"math/tex; mode=display\">\\newcommand{\\Bold}[1]{\\mathbf{#1}}\\left(\\begin{array}{rrrrr}\n",
       "0 & 0 & 1 & 0 & 0 \\\\\n",
       "0 & 0 & 0 & 0 & 0 \\\\\n",
       "0 & 0 & 0 & 0 & 1 \\\\\n",
       "0 & 0 & 0 & 0 & 0 \\\\\n",
       "0 & 0 & 0 & 0 & 0\n",
       "\\end{array}\\right)</script></html>"
      ],
      "text/latex": [
       "$$\\newcommand{\\Bold}[1]{\\mathbf{#1}}\\left(\\begin{array}{rrrrr}\n",
       "0 & 0 & 1 & 0 & 0 \\\\\n",
       "0 & 0 & 0 & 0 & 0 \\\\\n",
       "0 & 0 & 0 & 0 & 1 \\\\\n",
       "0 & 0 & 0 & 0 & 0 \\\\\n",
       "0 & 0 & 0 & 0 & 0\n",
       "\\end{array}\\right)$$"
      ],
      "text/plain": [
       "[0 0 1 0 0]\n",
       "[0 0 0 0 0]\n",
       "[0 0 0 0 1]\n",
       "[0 0 0 0 0]\n",
       "[0 0 0 0 0]"
      ]
     },
     "metadata": {},
     "output_type": "display_data"
    },
    {
     "data": {
      "text/html": [
       "<html><script type=\"math/tex; mode=display\">\\newcommand{\\Bold}[1]{\\mathbf{#1}}\\left[\\left\\{d_{1} : 0, d_{2} : r_{1055}, d_{3} : 0, d_{4} : r_{1056}, d_{5} : 0, a_{12} : r_{1057}, a_{13} : r_{1058}, a_{14} : r_{1059}, a_{15} : r_{1060}, a_{23} : r_{1061}, a_{24} : r_{1062}, a_{25} : r_{1063}, a_{34} : 0, a_{35} : r_{1064}, a_{45} : r_{1065}\\right\\}, \\left\\{d_{1} : r_{1066}, d_{2} : 0, d_{3} : \\frac{r_{1066}}{x_{13}}, d_{4} : r_{1067}, d_{5} : \\frac{r_{1066}}{x_{13} x_{35}}, a_{12} : r_{1068}, a_{13} : r_{1069}, a_{14} : r_{1070}, a_{15} : r_{1071}, a_{23} : \\frac{r_{1066} x_{25}}{x_{13} x_{35}}, a_{24} : r_{1072}, a_{25} : r_{1073}, a_{34} : 0, a_{35} : r_{1074}, a_{45} : r_{1075}\\right\\}, \\left\\{d_{1} : r_{1076}, d_{2} : r_{1077}, d_{3} : \\frac{r_{1076}}{x_{13}}, d_{4} : r_{1078}, d_{5} : \\frac{r_{1076}}{x_{13} x_{35}}, a_{12} : r_{1079}, a_{13} : r_{1080}, a_{14} : r_{1081}, a_{15} : r_{1082}, a_{23} : \\frac{r_{1076} x_{25}}{x_{13} x_{35}}, a_{24} : r_{1083}, a_{25} : r_{1084}, a_{34} : 0, a_{35} : \\frac{r_{1080}}{x_{13}}, a_{45} : r_{1085}\\right\\}\\right]</script></html>"
      ],
      "text/latex": [
       "$$\\newcommand{\\Bold}[1]{\\mathbf{#1}}\\left[\\left\\{d_{1} : 0, d_{2} : r_{1055}, d_{3} : 0, d_{4} : r_{1056}, d_{5} : 0, a_{12} : r_{1057}, a_{13} : r_{1058}, a_{14} : r_{1059}, a_{15} : r_{1060}, a_{23} : r_{1061}, a_{24} : r_{1062}, a_{25} : r_{1063}, a_{34} : 0, a_{35} : r_{1064}, a_{45} : r_{1065}\\right\\}, \\left\\{d_{1} : r_{1066}, d_{2} : 0, d_{3} : \\frac{r_{1066}}{x_{13}}, d_{4} : r_{1067}, d_{5} : \\frac{r_{1066}}{x_{13} x_{35}}, a_{12} : r_{1068}, a_{13} : r_{1069}, a_{14} : r_{1070}, a_{15} : r_{1071}, a_{23} : \\frac{r_{1066} x_{25}}{x_{13} x_{35}}, a_{24} : r_{1072}, a_{25} : r_{1073}, a_{34} : 0, a_{35} : r_{1074}, a_{45} : r_{1075}\\right\\}, \\left\\{d_{1} : r_{1076}, d_{2} : r_{1077}, d_{3} : \\frac{r_{1076}}{x_{13}}, d_{4} : r_{1078}, d_{5} : \\frac{r_{1076}}{x_{13} x_{35}}, a_{12} : r_{1079}, a_{13} : r_{1080}, a_{14} : r_{1081}, a_{15} : r_{1082}, a_{23} : \\frac{r_{1076} x_{25}}{x_{13} x_{35}}, a_{24} : r_{1083}, a_{25} : r_{1084}, a_{34} : 0, a_{35} : \\frac{r_{1080}}{x_{13}}, a_{45} : r_{1085}\\right\\}\\right]$$"
      ],
      "text/plain": [
       "[{d1: 0,\n",
       "  d2: r1055,\n",
       "  d3: 0,\n",
       "  d4: r1056,\n",
       "  d5: 0,\n",
       "  a12: r1057,\n",
       "  a13: r1058,\n",
       "  a14: r1059,\n",
       "  a15: r1060,\n",
       "  a23: r1061,\n",
       "  a24: r1062,\n",
       "  a25: r1063,\n",
       "  a34: 0,\n",
       "  a35: r1064,\n",
       "  a45: r1065},\n",
       " {d1: r1066,\n",
       "  d2: 0,\n",
       "  d3: r1066/x13,\n",
       "  d4: r1067,\n",
       "  d5: r1066/(x13*x35),\n",
       "  a12: r1068,\n",
       "  a13: r1069,\n",
       "  a14: r1070,\n",
       "  a15: r1071,\n",
       "  a23: r1066*x25/(x13*x35),\n",
       "  a24: r1072,\n",
       "  a25: r1073,\n",
       "  a34: 0,\n",
       "  a35: r1074,\n",
       "  a45: r1075},\n",
       " {d1: r1076,\n",
       "  d2: r1077,\n",
       "  d3: r1076/x13,\n",
       "  d4: r1078,\n",
       "  d5: r1076/(x13*x35),\n",
       "  a12: r1079,\n",
       "  a13: r1080,\n",
       "  a14: r1081,\n",
       "  a15: r1082,\n",
       "  a23: r1076*x25/(x13*x35),\n",
       "  a24: r1083,\n",
       "  a25: r1084,\n",
       "  a34: 0,\n",
       "  a35: r1080/x13,\n",
       "  a45: r1085}]"
      ]
     },
     "metadata": {},
     "output_type": "display_data"
    },
    {
     "data": {
      "text/plain": [
       "\\left[\\left\\{d_{1} : 0, d_{2} : r_{1055}, d_{3} : 0, d_{4} : r_{1056}, d_{5} : 0, a_{12} : r_{1057}, a_{13} : r_{1058}, a_{14} : r_{1059}, a_{15} : r_{1060}, a_{23} : r_{1061}, a_{24} : r_{1062}, a_{25} : r_{1063}, a_{34} : 0, a_{35} : r_{1064}, a_{45} : r_{1065}\\right\\}, \\left\\{d_{1} : r_{1066}, d_{2} : 0, d_{3} : \\frac{r_{1066}}{x_{13}}, d_{4} : r_{1067}, d_{5} : \\frac{r_{1066}}{x_{13} x_{35}}, a_{12} : r_{1068}, a_{13} : r_{1069}, a_{14} : r_{1070}, a_{15} : r_{1071}, a_{23} : \\frac{r_{1066} x_{25}}{x_{13} x_{35}}, a_{24} : r_{1072}, a_{25} : r_{1073}, a_{34} : 0, a_{35} : r_{1074}, a_{45} : r_{1075}\\right\\}, \\left\\{d_{1} : r_{1076}, d_{2} : r_{1077}, d_{3} : \\frac{r_{1076}}{x_{13}}, d_{4} : r_{1078}, d_{5} : \\frac{r_{1076}}{x_{13} x_{35}}, a_{12} : r_{1079}, a_{13} : r_{1080}, a_{14} : r_{1081}, a_{15} : r_{1082}, a_{23} : \\frac{r_{1076} x_{25}}{x_{13} x_{35}}, a_{24} : r_{1083}, a_{25} : r_{1084}, a_{34} : 0, a_{35} : \\frac{r_{1080}}{x_{13}}, a_{45} : r_{1085}\\right\\}\\right]"
      ]
     },
     "execution_count": 45,
     "metadata": {},
     "output_type": "execute_result"
    }
   ],
   "source": [
    "#x1\n",
    "\n",
    "reset()\n",
    "\n",
    "var('x12,x13,x14,x15,x23,x24,x25,x34,x35,x45')\n",
    "var('d1,d2,d3,d4,d5')\n",
    "var('a12,a13,a14,a15,a23,a24,a25,a34,a35,a45')\n",
    "\n",
    "load_attach_path('C:\\\\Users\\\\julia\\\\Documents\\\\unb\\\\doutorado\\\\pensar\\\\codigo_sage_v2\\\\maquina\\\\x1')\n",
    "load('out_#101100.sage')\n",
    "\n",
    "m=matrix(QQ, [[0, 0, 1, 0, 0],\n",
    "              [0, 0, 0, 0, 0],\n",
    "              [0, 0, 0, 0, 1],\n",
    "              [0, 0, 0, 0, 0],\n",
    "              [0, 0, 0, 0, 0]])\n",
    "        \n",
    "#entry of matrix: (i,j) line i collum j, means (i-1,j-1)\n",
    "sol=solve([ \teq1==m[0,2],\teq2==m[0,3],\teq3==m[0,4],\t\n",
    "                                            eq4==m[1,3],    eq5==m[1,4],\n",
    "                                                            eq6==m[2,4]],d1,d2,d3,d4,d5,a12,a13,a14,a15,a23,a24,a25,a34,a35,a45, solution_dict=True)\n",
    "\n",
    "show(m)\n",
    "show(sol)\n",
    "latex(sol)"
   ]
  },
  {
   "cell_type": "code",
   "execution_count": 46,
   "metadata": {},
   "outputs": [
    {
     "data": {
      "text/html": [
       "<html><script type=\"math/tex; mode=display\">\\newcommand{\\Bold}[1]{\\mathbf{#1}}\\left(\\begin{array}{rrrrr}\n",
       "0 & 0 & 1 & 0 & 0 \\\\\n",
       "0 & 0 & 0 & 0 & 0 \\\\\n",
       "0 & 0 & 0 & 0 & 1 \\\\\n",
       "0 & 0 & 0 & 0 & 0 \\\\\n",
       "0 & 0 & 0 & 0 & 0\n",
       "\\end{array}\\right)</script></html>"
      ],
      "text/latex": [
       "$$\\newcommand{\\Bold}[1]{\\mathbf{#1}}\\left(\\begin{array}{rrrrr}\n",
       "0 & 0 & 1 & 0 & 0 \\\\\n",
       "0 & 0 & 0 & 0 & 0 \\\\\n",
       "0 & 0 & 0 & 0 & 1 \\\\\n",
       "0 & 0 & 0 & 0 & 0 \\\\\n",
       "0 & 0 & 0 & 0 & 0\n",
       "\\end{array}\\right)$$"
      ],
      "text/plain": [
       "[0 0 1 0 0]\n",
       "[0 0 0 0 0]\n",
       "[0 0 0 0 1]\n",
       "[0 0 0 0 0]\n",
       "[0 0 0 0 0]"
      ]
     },
     "metadata": {},
     "output_type": "display_data"
    },
    {
     "data": {
      "text/html": [
       "<html><script type=\"math/tex; mode=display\">\\newcommand{\\Bold}[1]{\\mathbf{#1}}\\left[\\left\\{d_{1} : 0, d_{2} : r_{1086}, d_{3} : 0, d_{4} : r_{1087}, d_{5} : 0, a_{12} : r_{1088}, a_{13} : r_{1089}, a_{14} : r_{1090}, a_{15} : r_{1091}, a_{23} : r_{1092}, a_{24} : r_{1093}, a_{25} : r_{1094}, a_{34} : 0, a_{35} : r_{1095}, a_{45} : r_{1096}\\right\\}, \\left\\{d_{1} : r_{1097}, d_{2} : 0, d_{3} : \\frac{r_{1097}}{x_{13}}, d_{4} : r_{1098}, d_{5} : \\frac{r_{1097}}{x_{13} x_{35}}, a_{12} : r_{1099}, a_{13} : r_{1100}, a_{14} : r_{1101}, a_{15} : r_{1102}, a_{23} : \\frac{r_{1097} x_{25}}{x_{13} x_{35}}, a_{24} : r_{1103}, a_{25} : r_{1104}, a_{34} : 0, a_{35} : r_{1105}, a_{45} : r_{1106}\\right\\}, \\left\\{d_{1} : r_{1107}, d_{2} : r_{1108}, d_{3} : \\frac{r_{1107}}{x_{13}}, d_{4} : r_{1109}, d_{5} : \\frac{r_{1107}}{x_{13} x_{35}}, a_{12} : r_{1110}, a_{13} : r_{1111}, a_{14} : r_{1112}, a_{15} : r_{1113}, a_{23} : \\frac{r_{1107} x_{25}}{x_{13} x_{35}}, a_{24} : r_{1114}, a_{25} : r_{1115}, a_{34} : 0, a_{35} : \\frac{r_{1111} x_{13} x_{35} - r_{1107} x_{15}}{x_{13}^{2} x_{35}}, a_{45} : r_{1116}\\right\\}\\right]</script></html>"
      ],
      "text/latex": [
       "$$\\newcommand{\\Bold}[1]{\\mathbf{#1}}\\left[\\left\\{d_{1} : 0, d_{2} : r_{1086}, d_{3} : 0, d_{4} : r_{1087}, d_{5} : 0, a_{12} : r_{1088}, a_{13} : r_{1089}, a_{14} : r_{1090}, a_{15} : r_{1091}, a_{23} : r_{1092}, a_{24} : r_{1093}, a_{25} : r_{1094}, a_{34} : 0, a_{35} : r_{1095}, a_{45} : r_{1096}\\right\\}, \\left\\{d_{1} : r_{1097}, d_{2} : 0, d_{3} : \\frac{r_{1097}}{x_{13}}, d_{4} : r_{1098}, d_{5} : \\frac{r_{1097}}{x_{13} x_{35}}, a_{12} : r_{1099}, a_{13} : r_{1100}, a_{14} : r_{1101}, a_{15} : r_{1102}, a_{23} : \\frac{r_{1097} x_{25}}{x_{13} x_{35}}, a_{24} : r_{1103}, a_{25} : r_{1104}, a_{34} : 0, a_{35} : r_{1105}, a_{45} : r_{1106}\\right\\}, \\left\\{d_{1} : r_{1107}, d_{2} : r_{1108}, d_{3} : \\frac{r_{1107}}{x_{13}}, d_{4} : r_{1109}, d_{5} : \\frac{r_{1107}}{x_{13} x_{35}}, a_{12} : r_{1110}, a_{13} : r_{1111}, a_{14} : r_{1112}, a_{15} : r_{1113}, a_{23} : \\frac{r_{1107} x_{25}}{x_{13} x_{35}}, a_{24} : r_{1114}, a_{25} : r_{1115}, a_{34} : 0, a_{35} : \\frac{r_{1111} x_{13} x_{35} - r_{1107} x_{15}}{x_{13}^{2} x_{35}}, a_{45} : r_{1116}\\right\\}\\right]$$"
      ],
      "text/plain": [
       "[{d1: 0,\n",
       "  d2: r1086,\n",
       "  d3: 0,\n",
       "  d4: r1087,\n",
       "  d5: 0,\n",
       "  a12: r1088,\n",
       "  a13: r1089,\n",
       "  a14: r1090,\n",
       "  a15: r1091,\n",
       "  a23: r1092,\n",
       "  a24: r1093,\n",
       "  a25: r1094,\n",
       "  a34: 0,\n",
       "  a35: r1095,\n",
       "  a45: r1096},\n",
       " {d1: r1097,\n",
       "  d2: 0,\n",
       "  d3: r1097/x13,\n",
       "  d4: r1098,\n",
       "  d5: r1097/(x13*x35),\n",
       "  a12: r1099,\n",
       "  a13: r1100,\n",
       "  a14: r1101,\n",
       "  a15: r1102,\n",
       "  a23: r1097*x25/(x13*x35),\n",
       "  a24: r1103,\n",
       "  a25: r1104,\n",
       "  a34: 0,\n",
       "  a35: r1105,\n",
       "  a45: r1106},\n",
       " {d1: r1107,\n",
       "  d2: r1108,\n",
       "  d3: r1107/x13,\n",
       "  d4: r1109,\n",
       "  d5: r1107/(x13*x35),\n",
       "  a12: r1110,\n",
       "  a13: r1111,\n",
       "  a14: r1112,\n",
       "  a15: r1113,\n",
       "  a23: r1107*x25/(x13*x35),\n",
       "  a24: r1114,\n",
       "  a25: r1115,\n",
       "  a34: 0,\n",
       "  a35: (r1111*x13*x35 - r1107*x15)/(x13^2*x35),\n",
       "  a45: r1116}]"
      ]
     },
     "metadata": {},
     "output_type": "display_data"
    },
    {
     "data": {
      "text/plain": [
       "\\left[\\left\\{d_{1} : 0, d_{2} : r_{1086}, d_{3} : 0, d_{4} : r_{1087}, d_{5} : 0, a_{12} : r_{1088}, a_{13} : r_{1089}, a_{14} : r_{1090}, a_{15} : r_{1091}, a_{23} : r_{1092}, a_{24} : r_{1093}, a_{25} : r_{1094}, a_{34} : 0, a_{35} : r_{1095}, a_{45} : r_{1096}\\right\\}, \\left\\{d_{1} : r_{1097}, d_{2} : 0, d_{3} : \\frac{r_{1097}}{x_{13}}, d_{4} : r_{1098}, d_{5} : \\frac{r_{1097}}{x_{13} x_{35}}, a_{12} : r_{1099}, a_{13} : r_{1100}, a_{14} : r_{1101}, a_{15} : r_{1102}, a_{23} : \\frac{r_{1097} x_{25}}{x_{13} x_{35}}, a_{24} : r_{1103}, a_{25} : r_{1104}, a_{34} : 0, a_{35} : r_{1105}, a_{45} : r_{1106}\\right\\}, \\left\\{d_{1} : r_{1107}, d_{2} : r_{1108}, d_{3} : \\frac{r_{1107}}{x_{13}}, d_{4} : r_{1109}, d_{5} : \\frac{r_{1107}}{x_{13} x_{35}}, a_{12} : r_{1110}, a_{13} : r_{1111}, a_{14} : r_{1112}, a_{15} : r_{1113}, a_{23} : \\frac{r_{1107} x_{25}}{x_{13} x_{35}}, a_{24} : r_{1114}, a_{25} : r_{1115}, a_{34} : 0, a_{35} : \\frac{r_{1111} x_{13} x_{35} - r_{1107} x_{15}}{x_{13}^{2} x_{35}}, a_{45} : r_{1116}\\right\\}\\right]"
      ]
     },
     "execution_count": 46,
     "metadata": {},
     "output_type": "execute_result"
    }
   ],
   "source": [
    "#x1\n",
    "reset()\n",
    "\n",
    "var('x12,x13,x14,x15,x23,x24,x25,x34,x35,x45')\n",
    "var('d1,d2,d3,d4,d5')\n",
    "var('a12,a13,a14,a15,a23,a24,a25,a34,a35,a45')\n",
    "\n",
    "load_attach_path('C:\\\\Users\\\\julia\\\\Documents\\\\unb\\\\doutorado\\\\pensar\\\\codigo_sage_v2\\\\maquina\\\\x1')\n",
    "load('out_#101101.sage')\n",
    "\n",
    "m=matrix(QQ, [[0, 0, 1, 0, 0],\n",
    "              [0, 0, 0, 0, 0],\n",
    "              [0, 0, 0, 0, 1],\n",
    "              [0, 0, 0, 0, 0],\n",
    "              [0, 0, 0, 0, 0]])\n",
    "        \n",
    "#entry of matrix: (i,j) line i collum j, means (i-1,j-1)\n",
    "sol=solve([ \teq1==m[0,2],\teq2==m[0,3],\teq3==m[0,4],\t\n",
    "                                            eq4==m[1,3],    eq5==m[1,4],\n",
    "                                                            eq6==m[2,4]],d1,d2,d3,d4,d5,a12,a13,a14,a15,a23,a24,a25,a34,a35,a45, solution_dict=True)\n",
    "\n",
    "show(m)\n",
    "show(sol)\n",
    "latex(sol)"
   ]
  },
  {
   "cell_type": "code",
   "execution_count": 1,
   "metadata": {},
   "outputs": [
    {
     "data": {
      "text/html": [
       "<html><script type=\"math/tex; mode=display\">\\newcommand{\\Bold}[1]{\\mathbf{#1}}\\left(\\begin{array}{rrrrr}\n",
       "0 & 0 & 1 & 0 & 0 \\\\\n",
       "0 & 0 & 0 & 0 & 0 \\\\\n",
       "0 & 0 & 0 & 0 & 1 \\\\\n",
       "0 & 0 & 0 & 0 & 0 \\\\\n",
       "0 & 0 & 0 & 0 & 0\n",
       "\\end{array}\\right)</script></html>"
      ],
      "text/latex": [
       "$$\\newcommand{\\Bold}[1]{\\mathbf{#1}}\\left(\\begin{array}{rrrrr}\n",
       "0 & 0 & 1 & 0 & 0 \\\\\n",
       "0 & 0 & 0 & 0 & 0 \\\\\n",
       "0 & 0 & 0 & 0 & 1 \\\\\n",
       "0 & 0 & 0 & 0 & 0 \\\\\n",
       "0 & 0 & 0 & 0 & 0\n",
       "\\end{array}\\right)$$"
      ],
      "text/plain": [
       "[0 0 1 0 0]\n",
       "[0 0 0 0 0]\n",
       "[0 0 0 0 1]\n",
       "[0 0 0 0 0]\n",
       "[0 0 0 0 0]"
      ]
     },
     "metadata": {},
     "output_type": "display_data"
    },
    {
     "data": {
      "text/html": [
       "<html><script type=\"math/tex; mode=display\">\\newcommand{\\Bold}[1]{\\mathbf{#1}}\\left[\\left\\{d_{1} : 0, d_{2} : r_{1}, d_{3} : 0, d_{4} : r_{2}, d_{5} : 0, a_{12} : r_{3}, a_{13} : r_{4}, a_{14} : r_{5}, a_{15} : r_{6}, a_{23} : r_{7}, a_{24} : r_{8}, a_{25} : r_{9}, a_{34} : -\\frac{r_{2} x_{14}}{x_{13}}, a_{35} : r_{10}, a_{45} : r_{11}\\right\\}, \\left\\{d_{1} : r_{12}, d_{2} : 0, d_{3} : \\frac{r_{12}}{x_{13}}, d_{4} : r_{13}, d_{5} : \\frac{r_{12}}{x_{13} x_{35}}, a_{12} : r_{14}, a_{13} : r_{15}, a_{14} : r_{16}, a_{15} : r_{17}, a_{23} : \\frac{r_{12} x_{25}}{x_{13} x_{35}}, a_{24} : r_{18}, a_{25} : r_{19}, a_{34} : -\\frac{r_{13} x_{14}}{x_{13}}, a_{35} : r_{20}, a_{45} : r_{21}\\right\\}, \\left\\{d_{1} : r_{22}, d_{2} : r_{23}, d_{3} : \\frac{r_{22}}{x_{13}}, d_{4} : r_{24}, d_{5} : \\frac{r_{22}}{x_{13} x_{35}}, a_{12} : r_{25}, a_{13} : r_{26}, a_{14} : r_{27}, a_{15} : r_{28}, a_{23} : \\frac{r_{22} x_{25}}{x_{13} x_{35}}, a_{24} : r_{29}, a_{25} : r_{30}, a_{34} : -\\frac{r_{24} x_{14}}{x_{13}}, a_{35} : r_{31}, a_{45} : -\\frac{r_{31} x_{13} - r_{26}}{x_{14}}\\right\\}\\right]</script></html>"
      ],
      "text/latex": [
       "$$\\newcommand{\\Bold}[1]{\\mathbf{#1}}\\left[\\left\\{d_{1} : 0, d_{2} : r_{1}, d_{3} : 0, d_{4} : r_{2}, d_{5} : 0, a_{12} : r_{3}, a_{13} : r_{4}, a_{14} : r_{5}, a_{15} : r_{6}, a_{23} : r_{7}, a_{24} : r_{8}, a_{25} : r_{9}, a_{34} : -\\frac{r_{2} x_{14}}{x_{13}}, a_{35} : r_{10}, a_{45} : r_{11}\\right\\}, \\left\\{d_{1} : r_{12}, d_{2} : 0, d_{3} : \\frac{r_{12}}{x_{13}}, d_{4} : r_{13}, d_{5} : \\frac{r_{12}}{x_{13} x_{35}}, a_{12} : r_{14}, a_{13} : r_{15}, a_{14} : r_{16}, a_{15} : r_{17}, a_{23} : \\frac{r_{12} x_{25}}{x_{13} x_{35}}, a_{24} : r_{18}, a_{25} : r_{19}, a_{34} : -\\frac{r_{13} x_{14}}{x_{13}}, a_{35} : r_{20}, a_{45} : r_{21}\\right\\}, \\left\\{d_{1} : r_{22}, d_{2} : r_{23}, d_{3} : \\frac{r_{22}}{x_{13}}, d_{4} : r_{24}, d_{5} : \\frac{r_{22}}{x_{13} x_{35}}, a_{12} : r_{25}, a_{13} : r_{26}, a_{14} : r_{27}, a_{15} : r_{28}, a_{23} : \\frac{r_{22} x_{25}}{x_{13} x_{35}}, a_{24} : r_{29}, a_{25} : r_{30}, a_{34} : -\\frac{r_{24} x_{14}}{x_{13}}, a_{35} : r_{31}, a_{45} : -\\frac{r_{31} x_{13} - r_{26}}{x_{14}}\\right\\}\\right]$$"
      ],
      "text/plain": [
       "[{d1: 0,\n",
       "  d2: r1,\n",
       "  d3: 0,\n",
       "  d4: r2,\n",
       "  d5: 0,\n",
       "  a12: r3,\n",
       "  a13: r4,\n",
       "  a14: r5,\n",
       "  a15: r6,\n",
       "  a23: r7,\n",
       "  a24: r8,\n",
       "  a25: r9,\n",
       "  a34: -r2*x14/x13,\n",
       "  a35: r10,\n",
       "  a45: r11},\n",
       " {d1: r12,\n",
       "  d2: 0,\n",
       "  d3: r12/x13,\n",
       "  d4: r13,\n",
       "  d5: r12/(x13*x35),\n",
       "  a12: r14,\n",
       "  a13: r15,\n",
       "  a14: r16,\n",
       "  a15: r17,\n",
       "  a23: r12*x25/(x13*x35),\n",
       "  a24: r18,\n",
       "  a25: r19,\n",
       "  a34: -r13*x14/x13,\n",
       "  a35: r20,\n",
       "  a45: r21},\n",
       " {d1: r22,\n",
       "  d2: r23,\n",
       "  d3: r22/x13,\n",
       "  d4: r24,\n",
       "  d5: r22/(x13*x35),\n",
       "  a12: r25,\n",
       "  a13: r26,\n",
       "  a14: r27,\n",
       "  a15: r28,\n",
       "  a23: r22*x25/(x13*x35),\n",
       "  a24: r29,\n",
       "  a25: r30,\n",
       "  a34: -r24*x14/x13,\n",
       "  a35: r31,\n",
       "  a45: -(r31*x13 - r26)/x14}]"
      ]
     },
     "metadata": {},
     "output_type": "display_data"
    },
    {
     "data": {
      "text/plain": [
       "\\left[\\left\\{d_{1} : 0, d_{2} : r_{1}, d_{3} : 0, d_{4} : r_{2}, d_{5} : 0, a_{12} : r_{3}, a_{13} : r_{4}, a_{14} : r_{5}, a_{15} : r_{6}, a_{23} : r_{7}, a_{24} : r_{8}, a_{25} : r_{9}, a_{34} : -\\frac{r_{2} x_{14}}{x_{13}}, a_{35} : r_{10}, a_{45} : r_{11}\\right\\}, \\left\\{d_{1} : r_{12}, d_{2} : 0, d_{3} : \\frac{r_{12}}{x_{13}}, d_{4} : r_{13}, d_{5} : \\frac{r_{12}}{x_{13} x_{35}}, a_{12} : r_{14}, a_{13} : r_{15}, a_{14} : r_{16}, a_{15} : r_{17}, a_{23} : \\frac{r_{12} x_{25}}{x_{13} x_{35}}, a_{24} : r_{18}, a_{25} : r_{19}, a_{34} : -\\frac{r_{13} x_{14}}{x_{13}}, a_{35} : r_{20}, a_{45} : r_{21}\\right\\}, \\left\\{d_{1} : r_{22}, d_{2} : r_{23}, d_{3} : \\frac{r_{22}}{x_{13}}, d_{4} : r_{24}, d_{5} : \\frac{r_{22}}{x_{13} x_{35}}, a_{12} : r_{25}, a_{13} : r_{26}, a_{14} : r_{27}, a_{15} : r_{28}, a_{23} : \\frac{r_{22} x_{25}}{x_{13} x_{35}}, a_{24} : r_{29}, a_{25} : r_{30}, a_{34} : -\\frac{r_{24} x_{14}}{x_{13}}, a_{35} : r_{31}, a_{45} : -\\frac{r_{31} x_{13} - r_{26}}{x_{14}}\\right\\}\\right]"
      ]
     },
     "execution_count": 1,
     "metadata": {},
     "output_type": "execute_result"
    }
   ],
   "source": [
    "#x1\n",
    "reset()\n",
    "\n",
    "var('x12,x13,x14,x15,x23,x24,x25,x34,x35,x45')\n",
    "var('d1,d2,d3,d4,d5')\n",
    "var('a12,a13,a14,a15,a23,a24,a25,a34,a35,a45')\n",
    "\n",
    "load_attach_path('C:\\\\Users\\\\julia\\\\Documents\\\\unb\\\\doutorado\\\\pensar\\\\codigo_sage_v2\\\\maquina\\\\x1')\n",
    "load('out_#101110.sage')\n",
    "\n",
    "m=matrix(QQ, [[0, 0, 1, 0, 0],\n",
    "              [0, 0, 0, 0, 0],\n",
    "              [0, 0, 0, 0, 1],\n",
    "              [0, 0, 0, 0, 0],\n",
    "              [0, 0, 0, 0, 0]])\n",
    "        \n",
    "#entry of matrix: (i,j) line i collum j, means (i-1,j-1)\n",
    "sol=solve([ \teq1==m[0,2],\teq2==m[0,3],\teq3==m[0,4],\t\n",
    "                                            eq4==m[1,3],    eq5==m[1,4],\n",
    "                                                            eq6==m[2,4]],d1,d2,d3,d4,d5,a12,a13,a14,a15,a23,a24,a25,a34,a35,a45, solution_dict=True)\n",
    "\n",
    "show(m)\n",
    "show(sol)\n",
    "latex(sol)"
   ]
  },
  {
   "cell_type": "code",
   "execution_count": 2,
   "metadata": {},
   "outputs": [
    {
     "data": {
      "text/html": [
       "<html><script type=\"math/tex; mode=display\">\\newcommand{\\Bold}[1]{\\mathbf{#1}}\\left(\\begin{array}{rrrrr}\n",
       "0 & 0 & 1 & 0 & 0 \\\\\n",
       "0 & 0 & 0 & 0 & 0 \\\\\n",
       "0 & 0 & 0 & 0 & 1 \\\\\n",
       "0 & 0 & 0 & 0 & 0 \\\\\n",
       "0 & 0 & 0 & 0 & 0\n",
       "\\end{array}\\right)</script></html>"
      ],
      "text/latex": [
       "$$\\newcommand{\\Bold}[1]{\\mathbf{#1}}\\left(\\begin{array}{rrrrr}\n",
       "0 & 0 & 1 & 0 & 0 \\\\\n",
       "0 & 0 & 0 & 0 & 0 \\\\\n",
       "0 & 0 & 0 & 0 & 1 \\\\\n",
       "0 & 0 & 0 & 0 & 0 \\\\\n",
       "0 & 0 & 0 & 0 & 0\n",
       "\\end{array}\\right)$$"
      ],
      "text/plain": [
       "[0 0 1 0 0]\n",
       "[0 0 0 0 0]\n",
       "[0 0 0 0 1]\n",
       "[0 0 0 0 0]\n",
       "[0 0 0 0 0]"
      ]
     },
     "metadata": {},
     "output_type": "display_data"
    },
    {
     "data": {
      "text/html": [
       "<html><script type=\"math/tex; mode=display\">\\newcommand{\\Bold}[1]{\\mathbf{#1}}\\left[\\left\\{d_{1} : 0, d_{2} : r_{32}, d_{3} : 0, d_{4} : r_{33}, d_{5} : 0, a_{12} : r_{34}, a_{13} : r_{35}, a_{14} : r_{36}, a_{15} : r_{37}, a_{23} : r_{38}, a_{24} : r_{39}, a_{25} : r_{40}, a_{34} : -\\frac{r_{33} x_{14}}{x_{13}}, a_{35} : r_{41}, a_{45} : r_{42}\\right\\}, \\left\\{d_{1} : r_{43}, d_{2} : 0, d_{3} : \\frac{r_{43}}{x_{13}}, d_{4} : r_{44}, d_{5} : \\frac{r_{43}}{x_{13} x_{35}}, a_{12} : r_{45}, a_{13} : r_{46}, a_{14} : r_{47}, a_{15} : r_{48}, a_{23} : \\frac{r_{43} x_{25}}{x_{13} x_{35}}, a_{24} : r_{49}, a_{25} : r_{50}, a_{34} : -\\frac{r_{44} x_{14}}{x_{13}}, a_{35} : r_{51}, a_{45} : r_{52}\\right\\}, \\left\\{d_{1} : r_{53}, d_{2} : r_{54}, d_{3} : \\frac{r_{53}}{x_{13}}, d_{4} : r_{55}, d_{5} : \\frac{r_{53}}{x_{13} x_{35}}, a_{12} : r_{56}, a_{13} : r_{57}, a_{14} : r_{58}, a_{15} : r_{59}, a_{23} : \\frac{r_{53} x_{25}}{x_{13} x_{35}}, a_{24} : r_{60}, a_{25} : r_{61}, a_{34} : -\\frac{r_{55} x_{14}}{x_{13}}, a_{35} : r_{62}, a_{45} : -\\frac{r_{53} x_{15} + {\\left(r_{62} x_{13}^{2} - r_{57} x_{13}\\right)} x_{35}}{x_{13} x_{14} x_{35}}\\right\\}\\right]</script></html>"
      ],
      "text/latex": [
       "$$\\newcommand{\\Bold}[1]{\\mathbf{#1}}\\left[\\left\\{d_{1} : 0, d_{2} : r_{32}, d_{3} : 0, d_{4} : r_{33}, d_{5} : 0, a_{12} : r_{34}, a_{13} : r_{35}, a_{14} : r_{36}, a_{15} : r_{37}, a_{23} : r_{38}, a_{24} : r_{39}, a_{25} : r_{40}, a_{34} : -\\frac{r_{33} x_{14}}{x_{13}}, a_{35} : r_{41}, a_{45} : r_{42}\\right\\}, \\left\\{d_{1} : r_{43}, d_{2} : 0, d_{3} : \\frac{r_{43}}{x_{13}}, d_{4} : r_{44}, d_{5} : \\frac{r_{43}}{x_{13} x_{35}}, a_{12} : r_{45}, a_{13} : r_{46}, a_{14} : r_{47}, a_{15} : r_{48}, a_{23} : \\frac{r_{43} x_{25}}{x_{13} x_{35}}, a_{24} : r_{49}, a_{25} : r_{50}, a_{34} : -\\frac{r_{44} x_{14}}{x_{13}}, a_{35} : r_{51}, a_{45} : r_{52}\\right\\}, \\left\\{d_{1} : r_{53}, d_{2} : r_{54}, d_{3} : \\frac{r_{53}}{x_{13}}, d_{4} : r_{55}, d_{5} : \\frac{r_{53}}{x_{13} x_{35}}, a_{12} : r_{56}, a_{13} : r_{57}, a_{14} : r_{58}, a_{15} : r_{59}, a_{23} : \\frac{r_{53} x_{25}}{x_{13} x_{35}}, a_{24} : r_{60}, a_{25} : r_{61}, a_{34} : -\\frac{r_{55} x_{14}}{x_{13}}, a_{35} : r_{62}, a_{45} : -\\frac{r_{53} x_{15} + {\\left(r_{62} x_{13}^{2} - r_{57} x_{13}\\right)} x_{35}}{x_{13} x_{14} x_{35}}\\right\\}\\right]$$"
      ],
      "text/plain": [
       "[{d1: 0,\n",
       "  d2: r32,\n",
       "  d3: 0,\n",
       "  d4: r33,\n",
       "  d5: 0,\n",
       "  a12: r34,\n",
       "  a13: r35,\n",
       "  a14: r36,\n",
       "  a15: r37,\n",
       "  a23: r38,\n",
       "  a24: r39,\n",
       "  a25: r40,\n",
       "  a34: -r33*x14/x13,\n",
       "  a35: r41,\n",
       "  a45: r42},\n",
       " {d1: r43,\n",
       "  d2: 0,\n",
       "  d3: r43/x13,\n",
       "  d4: r44,\n",
       "  d5: r43/(x13*x35),\n",
       "  a12: r45,\n",
       "  a13: r46,\n",
       "  a14: r47,\n",
       "  a15: r48,\n",
       "  a23: r43*x25/(x13*x35),\n",
       "  a24: r49,\n",
       "  a25: r50,\n",
       "  a34: -r44*x14/x13,\n",
       "  a35: r51,\n",
       "  a45: r52},\n",
       " {d1: r53,\n",
       "  d2: r54,\n",
       "  d3: r53/x13,\n",
       "  d4: r55,\n",
       "  d5: r53/(x13*x35),\n",
       "  a12: r56,\n",
       "  a13: r57,\n",
       "  a14: r58,\n",
       "  a15: r59,\n",
       "  a23: r53*x25/(x13*x35),\n",
       "  a24: r60,\n",
       "  a25: r61,\n",
       "  a34: -r55*x14/x13,\n",
       "  a35: r62,\n",
       "  a45: -(r53*x15 + (r62*x13^2 - r57*x13)*x35)/(x13*x14*x35)}]"
      ]
     },
     "metadata": {},
     "output_type": "display_data"
    },
    {
     "data": {
      "text/plain": [
       "\\left[\\left\\{d_{1} : 0, d_{2} : r_{32}, d_{3} : 0, d_{4} : r_{33}, d_{5} : 0, a_{12} : r_{34}, a_{13} : r_{35}, a_{14} : r_{36}, a_{15} : r_{37}, a_{23} : r_{38}, a_{24} : r_{39}, a_{25} : r_{40}, a_{34} : -\\frac{r_{33} x_{14}}{x_{13}}, a_{35} : r_{41}, a_{45} : r_{42}\\right\\}, \\left\\{d_{1} : r_{43}, d_{2} : 0, d_{3} : \\frac{r_{43}}{x_{13}}, d_{4} : r_{44}, d_{5} : \\frac{r_{43}}{x_{13} x_{35}}, a_{12} : r_{45}, a_{13} : r_{46}, a_{14} : r_{47}, a_{15} : r_{48}, a_{23} : \\frac{r_{43} x_{25}}{x_{13} x_{35}}, a_{24} : r_{49}, a_{25} : r_{50}, a_{34} : -\\frac{r_{44} x_{14}}{x_{13}}, a_{35} : r_{51}, a_{45} : r_{52}\\right\\}, \\left\\{d_{1} : r_{53}, d_{2} : r_{54}, d_{3} : \\frac{r_{53}}{x_{13}}, d_{4} : r_{55}, d_{5} : \\frac{r_{53}}{x_{13} x_{35}}, a_{12} : r_{56}, a_{13} : r_{57}, a_{14} : r_{58}, a_{15} : r_{59}, a_{23} : \\frac{r_{53} x_{25}}{x_{13} x_{35}}, a_{24} : r_{60}, a_{25} : r_{61}, a_{34} : -\\frac{r_{55} x_{14}}{x_{13}}, a_{35} : r_{62}, a_{45} : -\\frac{r_{53} x_{15} + {\\left(r_{62} x_{13}^{2} - r_{57} x_{13}\\right)} x_{35}}{x_{13} x_{14} x_{35}}\\right\\}\\right]"
      ]
     },
     "execution_count": 2,
     "metadata": {},
     "output_type": "execute_result"
    }
   ],
   "source": [
    "#x1\n",
    "reset()\n",
    "\n",
    "var('x12,x13,x14,x15,x23,x24,x25,x34,x35,x45')\n",
    "var('d1,d2,d3,d4,d5')\n",
    "var('a12,a13,a14,a15,a23,a24,a25,a34,a35,a45')\n",
    "\n",
    "load_attach_path('C:\\\\Users\\\\julia\\\\Documents\\\\unb\\\\doutorado\\\\pensar\\\\codigo_sage_v2\\\\maquina\\\\x1')\n",
    "load('out_#101111.sage')\n",
    "\n",
    "m=matrix(QQ, [[0, 0, 1, 0, 0],\n",
    "              [0, 0, 0, 0, 0],\n",
    "              [0, 0, 0, 0, 1],\n",
    "              [0, 0, 0, 0, 0],\n",
    "              [0, 0, 0, 0, 0]])\n",
    "        \n",
    "#entry of matrix: (i,j) line i collum j, means (i-1,j-1)\n",
    "sol=solve([ \teq1==m[0,2],\teq2==m[0,3],\teq3==m[0,4],\t\n",
    "                                            eq4==m[1,3],    eq5==m[1,4],\n",
    "                                                            eq6==m[2,4]],d1,d2,d3,d4,d5,a12,a13,a14,a15,a23,a24,a25,a34,a35,a45, solution_dict=True)\n",
    "\n",
    "show(m)\n",
    "show(sol)\n",
    "latex(sol)"
   ]
  },
  {
   "cell_type": "code",
   "execution_count": 49,
   "metadata": {},
   "outputs": [
    {
     "data": {
      "text/html": [
       "<html><script type=\"math/tex; mode=display\">\\newcommand{\\Bold}[1]{\\mathbf{#1}}\\left(\\begin{array}{rrrrr}\n",
       "0 & 0 & 0 & 0 & 0 \\\\\n",
       "0 & 0 & 0 & 1 & 0 \\\\\n",
       "0 & 0 & 0 & 0 & 1 \\\\\n",
       "0 & 0 & 0 & 0 & 0 \\\\\n",
       "0 & 0 & 0 & 0 & 0\n",
       "\\end{array}\\right)</script></html>"
      ],
      "text/latex": [
       "$$\\newcommand{\\Bold}[1]{\\mathbf{#1}}\\left(\\begin{array}{rrrrr}\n",
       "0 & 0 & 0 & 0 & 0 \\\\\n",
       "0 & 0 & 0 & 1 & 0 \\\\\n",
       "0 & 0 & 0 & 0 & 1 \\\\\n",
       "0 & 0 & 0 & 0 & 0 \\\\\n",
       "0 & 0 & 0 & 0 & 0\n",
       "\\end{array}\\right)$$"
      ],
      "text/plain": [
       "[0 0 0 0 0]\n",
       "[0 0 0 1 0]\n",
       "[0 0 0 0 1]\n",
       "[0 0 0 0 0]\n",
       "[0 0 0 0 0]"
      ]
     },
     "metadata": {},
     "output_type": "display_data"
    },
    {
     "data": {
      "text/html": [
       "<html><script type=\"math/tex; mode=display\">\\newcommand{\\Bold}[1]{\\mathbf{#1}}\\left[\\left\\{d_{1} : r_{1179}, d_{2} : r_{1180}, d_{3} : 0, d_{4} : \\frac{r_{1180}}{x_{24}}, d_{5} : 0, a_{12} : 0, a_{13} : r_{1181}, a_{14} : r_{1182}, a_{15} : r_{1183}, a_{23} : r_{1184}, a_{24} : r_{1185}, a_{25} : r_{1186}, a_{34} : r_{1187}, a_{35} : r_{1188}, a_{45} : r_{1189}\\right\\}, \\left\\{d_{1} : r_{1190}, d_{2} : 0, d_{3} : r_{1191}, d_{4} : 0, d_{5} : \\frac{r_{1191}}{x_{35}}, a_{12} : r_{1192}, a_{13} : r_{1193}, a_{14} : r_{1194}, a_{15} : r_{1195}, a_{23} : r_{1196}, a_{24} : r_{1197}, a_{25} : r_{1198}, a_{34} : r_{1199}, a_{35} : r_{1200}, a_{45} : \\frac{r_{1196}}{x_{24}}\\right\\}, \\left\\{d_{1} : r_{1201}, d_{2} : 0, d_{3} : 0, d_{4} : 0, d_{5} : 0, a_{12} : r_{1202}, a_{13} : r_{1203}, a_{14} : r_{1204}, a_{15} : r_{1205}, a_{23} : r_{1206}, a_{24} : r_{1207}, a_{25} : r_{1208}, a_{34} : r_{1209}, a_{35} : r_{1210}, a_{45} : r_{1211}\\right\\}, \\left\\{d_{1} : r_{1212}, d_{2} : r_{1213}, d_{3} : r_{1214}, d_{4} : \\frac{r_{1213}}{x_{24}}, d_{5} : \\frac{r_{1214}}{x_{35}}, a_{12} : 0, a_{13} : 0, a_{14} : r_{1215}, a_{15} : r_{1216}, a_{23} : r_{1217}, a_{24} : r_{1218}, a_{25} : r_{1219}, a_{34} : r_{1220}, a_{35} : r_{1221}, a_{45} : \\frac{r_{1217}}{x_{24}}\\right\\}\\right]</script></html>"
      ],
      "text/latex": [
       "$$\\newcommand{\\Bold}[1]{\\mathbf{#1}}\\left[\\left\\{d_{1} : r_{1179}, d_{2} : r_{1180}, d_{3} : 0, d_{4} : \\frac{r_{1180}}{x_{24}}, d_{5} : 0, a_{12} : 0, a_{13} : r_{1181}, a_{14} : r_{1182}, a_{15} : r_{1183}, a_{23} : r_{1184}, a_{24} : r_{1185}, a_{25} : r_{1186}, a_{34} : r_{1187}, a_{35} : r_{1188}, a_{45} : r_{1189}\\right\\}, \\left\\{d_{1} : r_{1190}, d_{2} : 0, d_{3} : r_{1191}, d_{4} : 0, d_{5} : \\frac{r_{1191}}{x_{35}}, a_{12} : r_{1192}, a_{13} : r_{1193}, a_{14} : r_{1194}, a_{15} : r_{1195}, a_{23} : r_{1196}, a_{24} : r_{1197}, a_{25} : r_{1198}, a_{34} : r_{1199}, a_{35} : r_{1200}, a_{45} : \\frac{r_{1196}}{x_{24}}\\right\\}, \\left\\{d_{1} : r_{1201}, d_{2} : 0, d_{3} : 0, d_{4} : 0, d_{5} : 0, a_{12} : r_{1202}, a_{13} : r_{1203}, a_{14} : r_{1204}, a_{15} : r_{1205}, a_{23} : r_{1206}, a_{24} : r_{1207}, a_{25} : r_{1208}, a_{34} : r_{1209}, a_{35} : r_{1210}, a_{45} : r_{1211}\\right\\}, \\left\\{d_{1} : r_{1212}, d_{2} : r_{1213}, d_{3} : r_{1214}, d_{4} : \\frac{r_{1213}}{x_{24}}, d_{5} : \\frac{r_{1214}}{x_{35}}, a_{12} : 0, a_{13} : 0, a_{14} : r_{1215}, a_{15} : r_{1216}, a_{23} : r_{1217}, a_{24} : r_{1218}, a_{25} : r_{1219}, a_{34} : r_{1220}, a_{35} : r_{1221}, a_{45} : \\frac{r_{1217}}{x_{24}}\\right\\}\\right]$$"
      ],
      "text/plain": [
       "[{d1: r1179,\n",
       "  d2: r1180,\n",
       "  d3: 0,\n",
       "  d4: r1180/x24,\n",
       "  d5: 0,\n",
       "  a12: 0,\n",
       "  a13: r1181,\n",
       "  a14: r1182,\n",
       "  a15: r1183,\n",
       "  a23: r1184,\n",
       "  a24: r1185,\n",
       "  a25: r1186,\n",
       "  a34: r1187,\n",
       "  a35: r1188,\n",
       "  a45: r1189},\n",
       " {d1: r1190,\n",
       "  d2: 0,\n",
       "  d3: r1191,\n",
       "  d4: 0,\n",
       "  d5: r1191/x35,\n",
       "  a12: r1192,\n",
       "  a13: r1193,\n",
       "  a14: r1194,\n",
       "  a15: r1195,\n",
       "  a23: r1196,\n",
       "  a24: r1197,\n",
       "  a25: r1198,\n",
       "  a34: r1199,\n",
       "  a35: r1200,\n",
       "  a45: r1196/x24},\n",
       " {d1: r1201,\n",
       "  d2: 0,\n",
       "  d3: 0,\n",
       "  d4: 0,\n",
       "  d5: 0,\n",
       "  a12: r1202,\n",
       "  a13: r1203,\n",
       "  a14: r1204,\n",
       "  a15: r1205,\n",
       "  a23: r1206,\n",
       "  a24: r1207,\n",
       "  a25: r1208,\n",
       "  a34: r1209,\n",
       "  a35: r1210,\n",
       "  a45: r1211},\n",
       " {d1: r1212,\n",
       "  d2: r1213,\n",
       "  d3: r1214,\n",
       "  d4: r1213/x24,\n",
       "  d5: r1214/x35,\n",
       "  a12: 0,\n",
       "  a13: 0,\n",
       "  a14: r1215,\n",
       "  a15: r1216,\n",
       "  a23: r1217,\n",
       "  a24: r1218,\n",
       "  a25: r1219,\n",
       "  a34: r1220,\n",
       "  a35: r1221,\n",
       "  a45: r1217/x24}]"
      ]
     },
     "metadata": {},
     "output_type": "display_data"
    },
    {
     "data": {
      "text/plain": [
       "\\left[\\left\\{d_{1} : r_{1179}, d_{2} : r_{1180}, d_{3} : 0, d_{4} : \\frac{r_{1180}}{x_{24}}, d_{5} : 0, a_{12} : 0, a_{13} : r_{1181}, a_{14} : r_{1182}, a_{15} : r_{1183}, a_{23} : r_{1184}, a_{24} : r_{1185}, a_{25} : r_{1186}, a_{34} : r_{1187}, a_{35} : r_{1188}, a_{45} : r_{1189}\\right\\}, \\left\\{d_{1} : r_{1190}, d_{2} : 0, d_{3} : r_{1191}, d_{4} : 0, d_{5} : \\frac{r_{1191}}{x_{35}}, a_{12} : r_{1192}, a_{13} : r_{1193}, a_{14} : r_{1194}, a_{15} : r_{1195}, a_{23} : r_{1196}, a_{24} : r_{1197}, a_{25} : r_{1198}, a_{34} : r_{1199}, a_{35} : r_{1200}, a_{45} : \\frac{r_{1196}}{x_{24}}\\right\\}, \\left\\{d_{1} : r_{1201}, d_{2} : 0, d_{3} : 0, d_{4} : 0, d_{5} : 0, a_{12} : r_{1202}, a_{13} : r_{1203}, a_{14} : r_{1204}, a_{15} : r_{1205}, a_{23} : r_{1206}, a_{24} : r_{1207}, a_{25} : r_{1208}, a_{34} : r_{1209}, a_{35} : r_{1210}, a_{45} : r_{1211}\\right\\}, \\left\\{d_{1} : r_{1212}, d_{2} : r_{1213}, d_{3} : r_{1214}, d_{4} : \\frac{r_{1213}}{x_{24}}, d_{5} : \\frac{r_{1214}}{x_{35}}, a_{12} : 0, a_{13} : 0, a_{14} : r_{1215}, a_{15} : r_{1216}, a_{23} : r_{1217}, a_{24} : r_{1218}, a_{25} : r_{1219}, a_{34} : r_{1220}, a_{35} : r_{1221}, a_{45} : \\frac{r_{1217}}{x_{24}}\\right\\}\\right]"
      ]
     },
     "execution_count": 49,
     "metadata": {},
     "output_type": "execute_result"
    }
   ],
   "source": [
    "#x1\n",
    "reset()\n",
    "\n",
    "var('x12,x13,x14,x15,x23,x24,x25,x34,x35,x45')\n",
    "var('d1,d2,d3,d4,d5')\n",
    "var('a12,a13,a14,a15,a23,a24,a25,a34,a35,a45')\n",
    "\n",
    "load_attach_path('C:\\\\Users\\\\julia\\\\Documents\\\\unb\\\\doutorado\\\\pensar\\\\codigo_sage_v2\\\\maquina\\\\x1')\n",
    "load('out_#110000.sage')\n",
    "\n",
    "m=matrix(QQ, [[0, 0, 0, 0, 0],\n",
    "              [0, 0, 0, 1, 0],\n",
    "              [0, 0, 0, 0, 1],\n",
    "              [0, 0, 0, 0, 0],\n",
    "              [0, 0, 0, 0, 0]])\n",
    "        \n",
    "#entry of matrix: (i,j) line i collum j, means (i-1,j-1)\n",
    "sol=solve([ \teq1==m[0,2],\teq2==m[0,3],\teq3==m[0,4],\t\n",
    "                                            eq4==m[1,3],    eq5==m[1,4],\n",
    "                                                            eq6==m[2,4]],d1,d2,d3,d4,d5,a12,a13,a14,a15,a23,a24,a25,a34,a35,a45, solution_dict=True)\n",
    "\n",
    "show(m)\n",
    "show(sol)\n",
    "latex(sol)"
   ]
  },
  {
   "cell_type": "code",
   "execution_count": 3,
   "metadata": {},
   "outputs": [
    {
     "data": {
      "text/html": [
       "<html><script type=\"math/tex; mode=display\">\\newcommand{\\Bold}[1]{\\mathbf{#1}}\\left(\\begin{array}{rrrrr}\n",
       "0 & 0 & 0 & 0 & 0 \\\\\n",
       "0 & 0 & 0 & 1 & 0 \\\\\n",
       "0 & 0 & 0 & 0 & 1 \\\\\n",
       "0 & 0 & 0 & 0 & 0 \\\\\n",
       "0 & 0 & 0 & 0 & 0\n",
       "\\end{array}\\right)</script></html>"
      ],
      "text/latex": [
       "$$\\newcommand{\\Bold}[1]{\\mathbf{#1}}\\left(\\begin{array}{rrrrr}\n",
       "0 & 0 & 0 & 0 & 0 \\\\\n",
       "0 & 0 & 0 & 1 & 0 \\\\\n",
       "0 & 0 & 0 & 0 & 1 \\\\\n",
       "0 & 0 & 0 & 0 & 0 \\\\\n",
       "0 & 0 & 0 & 0 & 0\n",
       "\\end{array}\\right)$$"
      ],
      "text/plain": [
       "[0 0 0 0 0]\n",
       "[0 0 0 1 0]\n",
       "[0 0 0 0 1]\n",
       "[0 0 0 0 0]\n",
       "[0 0 0 0 0]"
      ]
     },
     "metadata": {},
     "output_type": "display_data"
    },
    {
     "data": {
      "text/html": [
       "<html><script type=\"math/tex; mode=display\">\\newcommand{\\Bold}[1]{\\mathbf{#1}}\\left[\\left\\{d_{1} : r_{63}, d_{2} : r_{64}, d_{3} : 0, d_{4} : \\frac{r_{64}}{x_{24}}, d_{5} : 0, a_{12} : 0, a_{13} : r_{65}, a_{14} : r_{66}, a_{15} : r_{67}, a_{23} : r_{68}, a_{24} : r_{69}, a_{25} : r_{70}, a_{34} : r_{71}, a_{35} : r_{72}, a_{45} : r_{73}\\right\\}, \\left\\{d_{1} : r_{74}, d_{2} : 0, d_{3} : r_{75}, d_{4} : 0, d_{5} : \\frac{r_{75}}{x_{35}}, a_{12} : r_{76}, a_{13} : r_{77}, a_{14} : r_{78}, a_{15} : r_{79}, a_{23} : r_{80}, a_{24} : r_{81}, a_{25} : r_{82}, a_{34} : r_{83}, a_{35} : r_{84}, a_{45} : \\frac{r_{80}}{x_{24}}\\right\\}, \\left\\{d_{1} : r_{85}, d_{2} : 0, d_{3} : 0, d_{4} : 0, d_{5} : 0, a_{12} : r_{86}, a_{13} : r_{87}, a_{14} : r_{88}, a_{15} : r_{89}, a_{23} : r_{90}, a_{24} : r_{91}, a_{25} : r_{92}, a_{34} : r_{93}, a_{35} : r_{94}, a_{45} : r_{95}\\right\\}, \\left\\{d_{1} : r_{96}, d_{2} : r_{97}, d_{3} : r_{98}, d_{4} : \\frac{r_{97}}{x_{24}}, d_{5} : \\frac{r_{98}}{x_{35}}, a_{12} : 0, a_{13} : \\frac{r_{98} x_{15}}{x_{35}}, a_{14} : r_{99}, a_{15} : r_{100}, a_{23} : r_{101}, a_{24} : r_{102}, a_{25} : r_{103}, a_{34} : r_{104}, a_{35} : r_{105}, a_{45} : \\frac{r_{101}}{x_{24}}\\right\\}\\right]</script></html>"
      ],
      "text/latex": [
       "$$\\newcommand{\\Bold}[1]{\\mathbf{#1}}\\left[\\left\\{d_{1} : r_{63}, d_{2} : r_{64}, d_{3} : 0, d_{4} : \\frac{r_{64}}{x_{24}}, d_{5} : 0, a_{12} : 0, a_{13} : r_{65}, a_{14} : r_{66}, a_{15} : r_{67}, a_{23} : r_{68}, a_{24} : r_{69}, a_{25} : r_{70}, a_{34} : r_{71}, a_{35} : r_{72}, a_{45} : r_{73}\\right\\}, \\left\\{d_{1} : r_{74}, d_{2} : 0, d_{3} : r_{75}, d_{4} : 0, d_{5} : \\frac{r_{75}}{x_{35}}, a_{12} : r_{76}, a_{13} : r_{77}, a_{14} : r_{78}, a_{15} : r_{79}, a_{23} : r_{80}, a_{24} : r_{81}, a_{25} : r_{82}, a_{34} : r_{83}, a_{35} : r_{84}, a_{45} : \\frac{r_{80}}{x_{24}}\\right\\}, \\left\\{d_{1} : r_{85}, d_{2} : 0, d_{3} : 0, d_{4} : 0, d_{5} : 0, a_{12} : r_{86}, a_{13} : r_{87}, a_{14} : r_{88}, a_{15} : r_{89}, a_{23} : r_{90}, a_{24} : r_{91}, a_{25} : r_{92}, a_{34} : r_{93}, a_{35} : r_{94}, a_{45} : r_{95}\\right\\}, \\left\\{d_{1} : r_{96}, d_{2} : r_{97}, d_{3} : r_{98}, d_{4} : \\frac{r_{97}}{x_{24}}, d_{5} : \\frac{r_{98}}{x_{35}}, a_{12} : 0, a_{13} : \\frac{r_{98} x_{15}}{x_{35}}, a_{14} : r_{99}, a_{15} : r_{100}, a_{23} : r_{101}, a_{24} : r_{102}, a_{25} : r_{103}, a_{34} : r_{104}, a_{35} : r_{105}, a_{45} : \\frac{r_{101}}{x_{24}}\\right\\}\\right]$$"
      ],
      "text/plain": [
       "[{d1: r63,\n",
       "  d2: r64,\n",
       "  d3: 0,\n",
       "  d4: r64/x24,\n",
       "  d5: 0,\n",
       "  a12: 0,\n",
       "  a13: r65,\n",
       "  a14: r66,\n",
       "  a15: r67,\n",
       "  a23: r68,\n",
       "  a24: r69,\n",
       "  a25: r70,\n",
       "  a34: r71,\n",
       "  a35: r72,\n",
       "  a45: r73},\n",
       " {d1: r74,\n",
       "  d2: 0,\n",
       "  d3: r75,\n",
       "  d4: 0,\n",
       "  d5: r75/x35,\n",
       "  a12: r76,\n",
       "  a13: r77,\n",
       "  a14: r78,\n",
       "  a15: r79,\n",
       "  a23: r80,\n",
       "  a24: r81,\n",
       "  a25: r82,\n",
       "  a34: r83,\n",
       "  a35: r84,\n",
       "  a45: r80/x24},\n",
       " {d1: r85,\n",
       "  d2: 0,\n",
       "  d3: 0,\n",
       "  d4: 0,\n",
       "  d5: 0,\n",
       "  a12: r86,\n",
       "  a13: r87,\n",
       "  a14: r88,\n",
       "  a15: r89,\n",
       "  a23: r90,\n",
       "  a24: r91,\n",
       "  a25: r92,\n",
       "  a34: r93,\n",
       "  a35: r94,\n",
       "  a45: r95},\n",
       " {d1: r96,\n",
       "  d2: r97,\n",
       "  d3: r98,\n",
       "  d4: r97/x24,\n",
       "  d5: r98/x35,\n",
       "  a12: 0,\n",
       "  a13: r98*x15/x35,\n",
       "  a14: r99,\n",
       "  a15: r100,\n",
       "  a23: r101,\n",
       "  a24: r102,\n",
       "  a25: r103,\n",
       "  a34: r104,\n",
       "  a35: r105,\n",
       "  a45: r101/x24}]"
      ]
     },
     "metadata": {},
     "output_type": "display_data"
    },
    {
     "data": {
      "text/plain": [
       "\\left[\\left\\{d_{1} : r_{63}, d_{2} : r_{64}, d_{3} : 0, d_{4} : \\frac{r_{64}}{x_{24}}, d_{5} : 0, a_{12} : 0, a_{13} : r_{65}, a_{14} : r_{66}, a_{15} : r_{67}, a_{23} : r_{68}, a_{24} : r_{69}, a_{25} : r_{70}, a_{34} : r_{71}, a_{35} : r_{72}, a_{45} : r_{73}\\right\\}, \\left\\{d_{1} : r_{74}, d_{2} : 0, d_{3} : r_{75}, d_{4} : 0, d_{5} : \\frac{r_{75}}{x_{35}}, a_{12} : r_{76}, a_{13} : r_{77}, a_{14} : r_{78}, a_{15} : r_{79}, a_{23} : r_{80}, a_{24} : r_{81}, a_{25} : r_{82}, a_{34} : r_{83}, a_{35} : r_{84}, a_{45} : \\frac{r_{80}}{x_{24}}\\right\\}, \\left\\{d_{1} : r_{85}, d_{2} : 0, d_{3} : 0, d_{4} : 0, d_{5} : 0, a_{12} : r_{86}, a_{13} : r_{87}, a_{14} : r_{88}, a_{15} : r_{89}, a_{23} : r_{90}, a_{24} : r_{91}, a_{25} : r_{92}, a_{34} : r_{93}, a_{35} : r_{94}, a_{45} : r_{95}\\right\\}, \\left\\{d_{1} : r_{96}, d_{2} : r_{97}, d_{3} : r_{98}, d_{4} : \\frac{r_{97}}{x_{24}}, d_{5} : \\frac{r_{98}}{x_{35}}, a_{12} : 0, a_{13} : \\frac{r_{98} x_{15}}{x_{35}}, a_{14} : r_{99}, a_{15} : r_{100}, a_{23} : r_{101}, a_{24} : r_{102}, a_{25} : r_{103}, a_{34} : r_{104}, a_{35} : r_{105}, a_{45} : \\frac{r_{101}}{x_{24}}\\right\\}\\right]"
      ]
     },
     "execution_count": 3,
     "metadata": {},
     "output_type": "execute_result"
    }
   ],
   "source": [
    "#x1\n",
    "reset()\n",
    "\n",
    "var('x12,x13,x14,x15,x23,x24,x25,x34,x35,x45')\n",
    "var('d1,d2,d3,d4,d5')\n",
    "var('a12,a13,a14,a15,a23,a24,a25,a34,a35,a45')\n",
    "\n",
    "load_attach_path('C:\\\\Users\\\\julia\\\\Documents\\\\unb\\\\doutorado\\\\pensar\\\\codigo_sage_v2\\\\maquina\\\\x1')\n",
    "load('out_#110001.sage')\n",
    "\n",
    "m=matrix(QQ, [[0, 0, 0, 0, 0],\n",
    "              [0, 0, 0, 1, 0],\n",
    "              [0, 0, 0, 0, 1],\n",
    "              [0, 0, 0, 0, 0],\n",
    "              [0, 0, 0, 0, 0]])\n",
    "        \n",
    "#entry of matrix: (i,j) line i collum j, means (i-1,j-1)\n",
    "sol=solve([ \teq1==m[0,2],\teq2==m[0,3],\teq3==m[0,4],\t\n",
    "                                            eq4==m[1,3],    eq5==m[1,4],\n",
    "                                                            eq6==m[2,4]],d1,d2,d3,d4,d5,a12,a13,a14,a15,a23,a24,a25,a34,a35,a45, solution_dict=True)\n",
    "\n",
    "show(m)\n",
    "show(sol)\n",
    "latex(sol)"
   ]
  },
  {
   "cell_type": "code",
   "execution_count": 4,
   "metadata": {},
   "outputs": [
    {
     "data": {
      "text/html": [
       "<html><script type=\"math/tex; mode=display\">\\newcommand{\\Bold}[1]{\\mathbf{#1}}\\left(\\begin{array}{rrrrr}\n",
       "0 & 0 & 0 & 0 & 0 \\\\\n",
       "0 & 0 & 0 & 1 & 0 \\\\\n",
       "0 & 0 & 0 & 0 & 1 \\\\\n",
       "0 & 0 & 0 & 0 & 0 \\\\\n",
       "0 & 0 & 0 & 0 & 0\n",
       "\\end{array}\\right)</script></html>"
      ],
      "text/latex": [
       "$$\\newcommand{\\Bold}[1]{\\mathbf{#1}}\\left(\\begin{array}{rrrrr}\n",
       "0 & 0 & 0 & 0 & 0 \\\\\n",
       "0 & 0 & 0 & 1 & 0 \\\\\n",
       "0 & 0 & 0 & 0 & 1 \\\\\n",
       "0 & 0 & 0 & 0 & 0 \\\\\n",
       "0 & 0 & 0 & 0 & 0\n",
       "\\end{array}\\right)$$"
      ],
      "text/plain": [
       "[0 0 0 0 0]\n",
       "[0 0 0 1 0]\n",
       "[0 0 0 0 1]\n",
       "[0 0 0 0 0]\n",
       "[0 0 0 0 0]"
      ]
     },
     "metadata": {},
     "output_type": "display_data"
    },
    {
     "data": {
      "text/html": [
       "<html><script type=\"math/tex; mode=display\">\\newcommand{\\Bold}[1]{\\mathbf{#1}}\\left[\\left\\{d_{1} : r_{106}, d_{2} : 0, d_{3} : r_{107}, d_{4} : 0, d_{5} : \\frac{r_{107}}{x_{35}}, a_{12} : r_{108}, a_{13} : r_{109}, a_{14} : r_{110}, a_{15} : r_{111}, a_{23} : r_{112}, a_{24} : r_{113}, a_{25} : r_{114}, a_{34} : r_{115}, a_{35} : r_{116}, a_{45} : \\frac{r_{112}}{x_{24}}\\right\\}, \\left\\{d_{1} : r_{117}, d_{2} : 0, d_{3} : 0, d_{4} : 0, d_{5} : 0, a_{12} : r_{118}, a_{13} : r_{119}, a_{14} : r_{120}, a_{15} : r_{121}, a_{23} : r_{122}, a_{24} : r_{123}, a_{25} : r_{124}, a_{34} : r_{125}, a_{35} : r_{126}, a_{45} : r_{127}\\right\\}, \\left\\{d_{1} : r_{128}, d_{2} : r_{129}, d_{3} : 0, d_{4} : \\frac{r_{129}}{x_{24}}, d_{5} : 0, a_{12} : \\frac{r_{129} x_{14}}{x_{24}}, a_{13} : r_{130}, a_{14} : r_{131}, a_{15} : r_{132}, a_{23} : r_{133}, a_{24} : r_{134}, a_{25} : r_{135}, a_{34} : r_{136}, a_{35} : r_{137}, a_{45} : r_{138}\\right\\}, \\left\\{d_{1} : r_{139}, d_{2} : r_{140}, d_{3} : r_{141}, d_{4} : \\frac{r_{140}}{x_{24}}, d_{5} : \\frac{r_{141}}{x_{35}}, a_{12} : \\frac{r_{140} x_{14}}{x_{24}}, a_{13} : r_{142}, a_{14} : r_{143}, a_{15} : r_{144}, a_{23} : \\frac{r_{142} x_{24}}{x_{14}}, a_{24} : r_{145}, a_{25} : r_{146}, a_{34} : r_{147}, a_{35} : r_{148}, a_{45} : \\frac{r_{142}}{x_{14}}\\right\\}\\right]</script></html>"
      ],
      "text/latex": [
       "$$\\newcommand{\\Bold}[1]{\\mathbf{#1}}\\left[\\left\\{d_{1} : r_{106}, d_{2} : 0, d_{3} : r_{107}, d_{4} : 0, d_{5} : \\frac{r_{107}}{x_{35}}, a_{12} : r_{108}, a_{13} : r_{109}, a_{14} : r_{110}, a_{15} : r_{111}, a_{23} : r_{112}, a_{24} : r_{113}, a_{25} : r_{114}, a_{34} : r_{115}, a_{35} : r_{116}, a_{45} : \\frac{r_{112}}{x_{24}}\\right\\}, \\left\\{d_{1} : r_{117}, d_{2} : 0, d_{3} : 0, d_{4} : 0, d_{5} : 0, a_{12} : r_{118}, a_{13} : r_{119}, a_{14} : r_{120}, a_{15} : r_{121}, a_{23} : r_{122}, a_{24} : r_{123}, a_{25} : r_{124}, a_{34} : r_{125}, a_{35} : r_{126}, a_{45} : r_{127}\\right\\}, \\left\\{d_{1} : r_{128}, d_{2} : r_{129}, d_{3} : 0, d_{4} : \\frac{r_{129}}{x_{24}}, d_{5} : 0, a_{12} : \\frac{r_{129} x_{14}}{x_{24}}, a_{13} : r_{130}, a_{14} : r_{131}, a_{15} : r_{132}, a_{23} : r_{133}, a_{24} : r_{134}, a_{25} : r_{135}, a_{34} : r_{136}, a_{35} : r_{137}, a_{45} : r_{138}\\right\\}, \\left\\{d_{1} : r_{139}, d_{2} : r_{140}, d_{3} : r_{141}, d_{4} : \\frac{r_{140}}{x_{24}}, d_{5} : \\frac{r_{141}}{x_{35}}, a_{12} : \\frac{r_{140} x_{14}}{x_{24}}, a_{13} : r_{142}, a_{14} : r_{143}, a_{15} : r_{144}, a_{23} : \\frac{r_{142} x_{24}}{x_{14}}, a_{24} : r_{145}, a_{25} : r_{146}, a_{34} : r_{147}, a_{35} : r_{148}, a_{45} : \\frac{r_{142}}{x_{14}}\\right\\}\\right]$$"
      ],
      "text/plain": [
       "[{d1: r106,\n",
       "  d2: 0,\n",
       "  d3: r107,\n",
       "  d4: 0,\n",
       "  d5: r107/x35,\n",
       "  a12: r108,\n",
       "  a13: r109,\n",
       "  a14: r110,\n",
       "  a15: r111,\n",
       "  a23: r112,\n",
       "  a24: r113,\n",
       "  a25: r114,\n",
       "  a34: r115,\n",
       "  a35: r116,\n",
       "  a45: r112/x24},\n",
       " {d1: r117,\n",
       "  d2: 0,\n",
       "  d3: 0,\n",
       "  d4: 0,\n",
       "  d5: 0,\n",
       "  a12: r118,\n",
       "  a13: r119,\n",
       "  a14: r120,\n",
       "  a15: r121,\n",
       "  a23: r122,\n",
       "  a24: r123,\n",
       "  a25: r124,\n",
       "  a34: r125,\n",
       "  a35: r126,\n",
       "  a45: r127},\n",
       " {d1: r128,\n",
       "  d2: r129,\n",
       "  d3: 0,\n",
       "  d4: r129/x24,\n",
       "  d5: 0,\n",
       "  a12: r129*x14/x24,\n",
       "  a13: r130,\n",
       "  a14: r131,\n",
       "  a15: r132,\n",
       "  a23: r133,\n",
       "  a24: r134,\n",
       "  a25: r135,\n",
       "  a34: r136,\n",
       "  a35: r137,\n",
       "  a45: r138},\n",
       " {d1: r139,\n",
       "  d2: r140,\n",
       "  d3: r141,\n",
       "  d4: r140/x24,\n",
       "  d5: r141/x35,\n",
       "  a12: r140*x14/x24,\n",
       "  a13: r142,\n",
       "  a14: r143,\n",
       "  a15: r144,\n",
       "  a23: r142*x24/x14,\n",
       "  a24: r145,\n",
       "  a25: r146,\n",
       "  a34: r147,\n",
       "  a35: r148,\n",
       "  a45: r142/x14}]"
      ]
     },
     "metadata": {},
     "output_type": "display_data"
    },
    {
     "data": {
      "text/plain": [
       "\\left[\\left\\{d_{1} : r_{106}, d_{2} : 0, d_{3} : r_{107}, d_{4} : 0, d_{5} : \\frac{r_{107}}{x_{35}}, a_{12} : r_{108}, a_{13} : r_{109}, a_{14} : r_{110}, a_{15} : r_{111}, a_{23} : r_{112}, a_{24} : r_{113}, a_{25} : r_{114}, a_{34} : r_{115}, a_{35} : r_{116}, a_{45} : \\frac{r_{112}}{x_{24}}\\right\\}, \\left\\{d_{1} : r_{117}, d_{2} : 0, d_{3} : 0, d_{4} : 0, d_{5} : 0, a_{12} : r_{118}, a_{13} : r_{119}, a_{14} : r_{120}, a_{15} : r_{121}, a_{23} : r_{122}, a_{24} : r_{123}, a_{25} : r_{124}, a_{34} : r_{125}, a_{35} : r_{126}, a_{45} : r_{127}\\right\\}, \\left\\{d_{1} : r_{128}, d_{2} : r_{129}, d_{3} : 0, d_{4} : \\frac{r_{129}}{x_{24}}, d_{5} : 0, a_{12} : \\frac{r_{129} x_{14}}{x_{24}}, a_{13} : r_{130}, a_{14} : r_{131}, a_{15} : r_{132}, a_{23} : r_{133}, a_{24} : r_{134}, a_{25} : r_{135}, a_{34} : r_{136}, a_{35} : r_{137}, a_{45} : r_{138}\\right\\}, \\left\\{d_{1} : r_{139}, d_{2} : r_{140}, d_{3} : r_{141}, d_{4} : \\frac{r_{140}}{x_{24}}, d_{5} : \\frac{r_{141}}{x_{35}}, a_{12} : \\frac{r_{140} x_{14}}{x_{24}}, a_{13} : r_{142}, a_{14} : r_{143}, a_{15} : r_{144}, a_{23} : \\frac{r_{142} x_{24}}{x_{14}}, a_{24} : r_{145}, a_{25} : r_{146}, a_{34} : r_{147}, a_{35} : r_{148}, a_{45} : \\frac{r_{142}}{x_{14}}\\right\\}\\right]"
      ]
     },
     "execution_count": 4,
     "metadata": {},
     "output_type": "execute_result"
    }
   ],
   "source": [
    "#x1\n",
    "reset()\n",
    "\n",
    "var('x12,x13,x14,x15,x23,x24,x25,x34,x35,x45')\n",
    "var('d1,d2,d3,d4,d5')\n",
    "var('a12,a13,a14,a15,a23,a24,a25,a34,a35,a45')\n",
    "\n",
    "load_attach_path('C:\\\\Users\\\\julia\\\\Documents\\\\unb\\\\doutorado\\\\pensar\\\\codigo_sage_v2\\\\maquina\\\\x1')\n",
    "load('out_#110010.sage')\n",
    "\n",
    "m=matrix(QQ, [[0, 0, 0, 0, 0],\n",
    "              [0, 0, 0, 1, 0],\n",
    "              [0, 0, 0, 0, 1],\n",
    "              [0, 0, 0, 0, 0],\n",
    "              [0, 0, 0, 0, 0]])\n",
    "        \n",
    "#entry of matrix: (i,j) line i collum j, means (i-1,j-1)\n",
    "sol=solve([ \teq1==m[0,2],\teq2==m[0,3],\teq3==m[0,4],\t\n",
    "                                            eq4==m[1,3],    eq5==m[1,4],\n",
    "                                                            eq6==m[2,4]],d1,d2,d3,d4,d5,a12,a13,a14,a15,a23,a24,a25,a34,a35,a45, solution_dict=True)\n",
    "\n",
    "show(m)\n",
    "show(sol)\n",
    "latex(sol)"
   ]
  },
  {
   "cell_type": "code",
   "execution_count": 5,
   "metadata": {},
   "outputs": [
    {
     "data": {
      "text/html": [
       "<html><script type=\"math/tex; mode=display\">\\newcommand{\\Bold}[1]{\\mathbf{#1}}\\left(\\begin{array}{rrrrr}\n",
       "0 & 0 & 0 & 0 & 0 \\\\\n",
       "0 & 0 & 0 & 1 & 0 \\\\\n",
       "0 & 0 & 0 & 0 & 1 \\\\\n",
       "0 & 0 & 0 & 0 & 0 \\\\\n",
       "0 & 0 & 0 & 0 & 0\n",
       "\\end{array}\\right)</script></html>"
      ],
      "text/latex": [
       "$$\\newcommand{\\Bold}[1]{\\mathbf{#1}}\\left(\\begin{array}{rrrrr}\n",
       "0 & 0 & 0 & 0 & 0 \\\\\n",
       "0 & 0 & 0 & 1 & 0 \\\\\n",
       "0 & 0 & 0 & 0 & 1 \\\\\n",
       "0 & 0 & 0 & 0 & 0 \\\\\n",
       "0 & 0 & 0 & 0 & 0\n",
       "\\end{array}\\right)$$"
      ],
      "text/plain": [
       "[0 0 0 0 0]\n",
       "[0 0 0 1 0]\n",
       "[0 0 0 0 1]\n",
       "[0 0 0 0 0]\n",
       "[0 0 0 0 0]"
      ]
     },
     "metadata": {},
     "output_type": "display_data"
    },
    {
     "data": {
      "text/html": [
       "<html><script type=\"math/tex; mode=display\">\\newcommand{\\Bold}[1]{\\mathbf{#1}}\\left[\\left\\{d_{1} : r_{149}, d_{2} : 0, d_{3} : r_{150}, d_{4} : 0, d_{5} : \\frac{r_{150}}{x_{35}}, a_{12} : r_{151}, a_{13} : r_{152}, a_{14} : r_{153}, a_{15} : r_{154}, a_{23} : r_{155}, a_{24} : r_{156}, a_{25} : r_{157}, a_{34} : r_{158}, a_{35} : r_{159}, a_{45} : \\frac{r_{155}}{x_{24}}\\right\\}, \\left\\{d_{1} : r_{160}, d_{2} : 0, d_{3} : 0, d_{4} : 0, d_{5} : 0, a_{12} : r_{161}, a_{13} : r_{162}, a_{14} : r_{163}, a_{15} : r_{164}, a_{23} : r_{165}, a_{24} : r_{166}, a_{25} : r_{167}, a_{34} : r_{168}, a_{35} : r_{169}, a_{45} : r_{170}\\right\\}, \\left\\{d_{1} : r_{171}, d_{2} : r_{172}, d_{3} : 0, d_{4} : \\frac{r_{172}}{x_{24}}, d_{5} : 0, a_{12} : \\frac{r_{172} x_{14}}{x_{24}}, a_{13} : r_{173}, a_{14} : r_{174}, a_{15} : r_{175}, a_{23} : r_{176}, a_{24} : r_{177}, a_{25} : r_{178}, a_{34} : r_{179}, a_{35} : r_{180}, a_{45} : r_{181}\\right\\}, \\left\\{d_{1} : r_{182}, d_{2} : r_{183}, d_{3} : r_{184}, d_{4} : \\frac{r_{183}}{x_{24}}, d_{5} : \\frac{r_{184}}{x_{35}}, a_{12} : \\frac{r_{183} x_{14}}{x_{24}}, a_{13} : r_{185}, a_{14} : r_{186}, a_{15} : r_{187}, a_{23} : -\\frac{r_{184} x_{15} x_{24} - r_{185} x_{24} x_{35}}{x_{14} x_{35}}, a_{24} : r_{188}, a_{25} : r_{189}, a_{34} : r_{190}, a_{35} : r_{191}, a_{45} : -\\frac{r_{184} x_{15} - r_{185} x_{35}}{x_{14} x_{35}}\\right\\}\\right]</script></html>"
      ],
      "text/latex": [
       "$$\\newcommand{\\Bold}[1]{\\mathbf{#1}}\\left[\\left\\{d_{1} : r_{149}, d_{2} : 0, d_{3} : r_{150}, d_{4} : 0, d_{5} : \\frac{r_{150}}{x_{35}}, a_{12} : r_{151}, a_{13} : r_{152}, a_{14} : r_{153}, a_{15} : r_{154}, a_{23} : r_{155}, a_{24} : r_{156}, a_{25} : r_{157}, a_{34} : r_{158}, a_{35} : r_{159}, a_{45} : \\frac{r_{155}}{x_{24}}\\right\\}, \\left\\{d_{1} : r_{160}, d_{2} : 0, d_{3} : 0, d_{4} : 0, d_{5} : 0, a_{12} : r_{161}, a_{13} : r_{162}, a_{14} : r_{163}, a_{15} : r_{164}, a_{23} : r_{165}, a_{24} : r_{166}, a_{25} : r_{167}, a_{34} : r_{168}, a_{35} : r_{169}, a_{45} : r_{170}\\right\\}, \\left\\{d_{1} : r_{171}, d_{2} : r_{172}, d_{3} : 0, d_{4} : \\frac{r_{172}}{x_{24}}, d_{5} : 0, a_{12} : \\frac{r_{172} x_{14}}{x_{24}}, a_{13} : r_{173}, a_{14} : r_{174}, a_{15} : r_{175}, a_{23} : r_{176}, a_{24} : r_{177}, a_{25} : r_{178}, a_{34} : r_{179}, a_{35} : r_{180}, a_{45} : r_{181}\\right\\}, \\left\\{d_{1} : r_{182}, d_{2} : r_{183}, d_{3} : r_{184}, d_{4} : \\frac{r_{183}}{x_{24}}, d_{5} : \\frac{r_{184}}{x_{35}}, a_{12} : \\frac{r_{183} x_{14}}{x_{24}}, a_{13} : r_{185}, a_{14} : r_{186}, a_{15} : r_{187}, a_{23} : -\\frac{r_{184} x_{15} x_{24} - r_{185} x_{24} x_{35}}{x_{14} x_{35}}, a_{24} : r_{188}, a_{25} : r_{189}, a_{34} : r_{190}, a_{35} : r_{191}, a_{45} : -\\frac{r_{184} x_{15} - r_{185} x_{35}}{x_{14} x_{35}}\\right\\}\\right]$$"
      ],
      "text/plain": [
       "[{d1: r149,\n",
       "  d2: 0,\n",
       "  d3: r150,\n",
       "  d4: 0,\n",
       "  d5: r150/x35,\n",
       "  a12: r151,\n",
       "  a13: r152,\n",
       "  a14: r153,\n",
       "  a15: r154,\n",
       "  a23: r155,\n",
       "  a24: r156,\n",
       "  a25: r157,\n",
       "  a34: r158,\n",
       "  a35: r159,\n",
       "  a45: r155/x24},\n",
       " {d1: r160,\n",
       "  d2: 0,\n",
       "  d3: 0,\n",
       "  d4: 0,\n",
       "  d5: 0,\n",
       "  a12: r161,\n",
       "  a13: r162,\n",
       "  a14: r163,\n",
       "  a15: r164,\n",
       "  a23: r165,\n",
       "  a24: r166,\n",
       "  a25: r167,\n",
       "  a34: r168,\n",
       "  a35: r169,\n",
       "  a45: r170},\n",
       " {d1: r171,\n",
       "  d2: r172,\n",
       "  d3: 0,\n",
       "  d4: r172/x24,\n",
       "  d5: 0,\n",
       "  a12: r172*x14/x24,\n",
       "  a13: r173,\n",
       "  a14: r174,\n",
       "  a15: r175,\n",
       "  a23: r176,\n",
       "  a24: r177,\n",
       "  a25: r178,\n",
       "  a34: r179,\n",
       "  a35: r180,\n",
       "  a45: r181},\n",
       " {d1: r182,\n",
       "  d2: r183,\n",
       "  d3: r184,\n",
       "  d4: r183/x24,\n",
       "  d5: r184/x35,\n",
       "  a12: r183*x14/x24,\n",
       "  a13: r185,\n",
       "  a14: r186,\n",
       "  a15: r187,\n",
       "  a23: -(r184*x15*x24 - r185*x24*x35)/(x14*x35),\n",
       "  a24: r188,\n",
       "  a25: r189,\n",
       "  a34: r190,\n",
       "  a35: r191,\n",
       "  a45: -(r184*x15 - r185*x35)/(x14*x35)}]"
      ]
     },
     "metadata": {},
     "output_type": "display_data"
    },
    {
     "data": {
      "text/plain": [
       "\\left[\\left\\{d_{1} : r_{149}, d_{2} : 0, d_{3} : r_{150}, d_{4} : 0, d_{5} : \\frac{r_{150}}{x_{35}}, a_{12} : r_{151}, a_{13} : r_{152}, a_{14} : r_{153}, a_{15} : r_{154}, a_{23} : r_{155}, a_{24} : r_{156}, a_{25} : r_{157}, a_{34} : r_{158}, a_{35} : r_{159}, a_{45} : \\frac{r_{155}}{x_{24}}\\right\\}, \\left\\{d_{1} : r_{160}, d_{2} : 0, d_{3} : 0, d_{4} : 0, d_{5} : 0, a_{12} : r_{161}, a_{13} : r_{162}, a_{14} : r_{163}, a_{15} : r_{164}, a_{23} : r_{165}, a_{24} : r_{166}, a_{25} : r_{167}, a_{34} : r_{168}, a_{35} : r_{169}, a_{45} : r_{170}\\right\\}, \\left\\{d_{1} : r_{171}, d_{2} : r_{172}, d_{3} : 0, d_{4} : \\frac{r_{172}}{x_{24}}, d_{5} : 0, a_{12} : \\frac{r_{172} x_{14}}{x_{24}}, a_{13} : r_{173}, a_{14} : r_{174}, a_{15} : r_{175}, a_{23} : r_{176}, a_{24} : r_{177}, a_{25} : r_{178}, a_{34} : r_{179}, a_{35} : r_{180}, a_{45} : r_{181}\\right\\}, \\left\\{d_{1} : r_{182}, d_{2} : r_{183}, d_{3} : r_{184}, d_{4} : \\frac{r_{183}}{x_{24}}, d_{5} : \\frac{r_{184}}{x_{35}}, a_{12} : \\frac{r_{183} x_{14}}{x_{24}}, a_{13} : r_{185}, a_{14} : r_{186}, a_{15} : r_{187}, a_{23} : -\\frac{r_{184} x_{15} x_{24} - r_{185} x_{24} x_{35}}{x_{14} x_{35}}, a_{24} : r_{188}, a_{25} : r_{189}, a_{34} : r_{190}, a_{35} : r_{191}, a_{45} : -\\frac{r_{184} x_{15} - r_{185} x_{35}}{x_{14} x_{35}}\\right\\}\\right]"
      ]
     },
     "execution_count": 5,
     "metadata": {},
     "output_type": "execute_result"
    }
   ],
   "source": [
    "#x1\n",
    "reset()\n",
    "\n",
    "var('x12,x13,x14,x15,x23,x24,x25,x34,x35,x45')\n",
    "var('d1,d2,d3,d4,d5')\n",
    "var('a12,a13,a14,a15,a23,a24,a25,a34,a35,a45')\n",
    "\n",
    "load_attach_path('C:\\\\Users\\\\julia\\\\Documents\\\\unb\\\\doutorado\\\\pensar\\\\codigo_sage_v2\\\\maquina\\\\x1')\n",
    "load('out_#110011.sage')\n",
    "\n",
    "m=matrix(QQ, [[0, 0, 0, 0, 0],\n",
    "              [0, 0, 0, 1, 0],\n",
    "              [0, 0, 0, 0, 1],\n",
    "              [0, 0, 0, 0, 0],\n",
    "              [0, 0, 0, 0, 0]])\n",
    "        \n",
    "#entry of matrix: (i,j) line i collum j, means (i-1,j-1)\n",
    "sol=solve([ \teq1==m[0,2],\teq2==m[0,3],\teq3==m[0,4],\t\n",
    "                                            eq4==m[1,3],    eq5==m[1,4],\n",
    "                                                            eq6==m[2,4]],d1,d2,d3,d4,d5,a12,a13,a14,a15,a23,a24,a25,a34,a35,a45, solution_dict=True)\n",
    "\n",
    "show(m)\n",
    "show(sol)\n",
    "latex(sol)"
   ]
  },
  {
   "cell_type": "code",
   "execution_count": 53,
   "metadata": {},
   "outputs": [
    {
     "data": {
      "text/html": [
       "<html><script type=\"math/tex; mode=display\">\\newcommand{\\Bold}[1]{\\mathbf{#1}}\\left(\\begin{array}{rrrrr}\n",
       "0 & 0 & 1 & 0 & 0 \\\\\n",
       "0 & 0 & 0 & 1 & 0 \\\\\n",
       "0 & 0 & 0 & 0 & 1 \\\\\n",
       "0 & 0 & 0 & 0 & 0 \\\\\n",
       "0 & 0 & 0 & 0 & 0\n",
       "\\end{array}\\right)</script></html>"
      ],
      "text/latex": [
       "$$\\newcommand{\\Bold}[1]{\\mathbf{#1}}\\left(\\begin{array}{rrrrr}\n",
       "0 & 0 & 1 & 0 & 0 \\\\\n",
       "0 & 0 & 0 & 1 & 0 \\\\\n",
       "0 & 0 & 0 & 0 & 1 \\\\\n",
       "0 & 0 & 0 & 0 & 0 \\\\\n",
       "0 & 0 & 0 & 0 & 0\n",
       "\\end{array}\\right)$$"
      ],
      "text/plain": [
       "[0 0 1 0 0]\n",
       "[0 0 0 1 0]\n",
       "[0 0 0 0 1]\n",
       "[0 0 0 0 0]\n",
       "[0 0 0 0 0]"
      ]
     },
     "metadata": {},
     "output_type": "display_data"
    },
    {
     "data": {
      "text/html": [
       "<html><script type=\"math/tex; mode=display\">\\newcommand{\\Bold}[1]{\\mathbf{#1}}\\left[\\left\\{d_{1} : r_{1351}, d_{2} : 0, d_{3} : \\frac{r_{1351}}{x_{13}}, d_{4} : 0, d_{5} : \\frac{r_{1351}}{x_{13} x_{35}}, a_{12} : r_{1352}, a_{13} : r_{1353}, a_{14} : r_{1354}, a_{15} : r_{1355}, a_{23} : r_{1356}, a_{24} : r_{1357}, a_{25} : r_{1358}, a_{34} : r_{1359}, a_{35} : r_{1360}, a_{45} : \\frac{r_{1356}}{x_{24}}\\right\\}, \\left\\{d_{1} : 0, d_{2} : r_{1361}, d_{3} : 0, d_{4} : \\frac{r_{1361}}{x_{24}}, d_{5} : 0, a_{12} : r_{1362}, a_{13} : r_{1363}, a_{14} : r_{1364}, a_{15} : r_{1365}, a_{23} : r_{1366}, a_{24} : r_{1367}, a_{25} : r_{1368}, a_{34} : \\frac{r_{1362}}{x_{13}}, a_{35} : r_{1369}, a_{45} : r_{1370}\\right\\}, \\left\\{d_{1} : 0, d_{2} : 0, d_{3} : 0, d_{4} : 0, d_{5} : 0, a_{12} : r_{1371}, a_{13} : r_{1372}, a_{14} : r_{1373}, a_{15} : r_{1374}, a_{23} : r_{1375}, a_{24} : r_{1376}, a_{25} : r_{1377}, a_{34} : r_{1378}, a_{35} : r_{1379}, a_{45} : r_{1380}\\right\\}, \\left\\{d_{1} : r_{1381}, d_{2} : r_{1382}, d_{3} : \\frac{r_{1381}}{x_{13}}, d_{4} : \\frac{r_{1382}}{x_{24}}, d_{5} : \\frac{r_{1381}}{x_{13} x_{35}}, a_{12} : r_{1383}, a_{13} : r_{1384}, a_{14} : r_{1385}, a_{15} : r_{1386}, a_{23} : r_{1387}, a_{24} : r_{1388}, a_{25} : r_{1389}, a_{34} : \\frac{r_{1383}}{x_{13}}, a_{35} : \\frac{r_{1384}}{x_{13}}, a_{45} : \\frac{r_{1387}}{x_{24}}\\right\\}\\right]</script></html>"
      ],
      "text/latex": [
       "$$\\newcommand{\\Bold}[1]{\\mathbf{#1}}\\left[\\left\\{d_{1} : r_{1351}, d_{2} : 0, d_{3} : \\frac{r_{1351}}{x_{13}}, d_{4} : 0, d_{5} : \\frac{r_{1351}}{x_{13} x_{35}}, a_{12} : r_{1352}, a_{13} : r_{1353}, a_{14} : r_{1354}, a_{15} : r_{1355}, a_{23} : r_{1356}, a_{24} : r_{1357}, a_{25} : r_{1358}, a_{34} : r_{1359}, a_{35} : r_{1360}, a_{45} : \\frac{r_{1356}}{x_{24}}\\right\\}, \\left\\{d_{1} : 0, d_{2} : r_{1361}, d_{3} : 0, d_{4} : \\frac{r_{1361}}{x_{24}}, d_{5} : 0, a_{12} : r_{1362}, a_{13} : r_{1363}, a_{14} : r_{1364}, a_{15} : r_{1365}, a_{23} : r_{1366}, a_{24} : r_{1367}, a_{25} : r_{1368}, a_{34} : \\frac{r_{1362}}{x_{13}}, a_{35} : r_{1369}, a_{45} : r_{1370}\\right\\}, \\left\\{d_{1} : 0, d_{2} : 0, d_{3} : 0, d_{4} : 0, d_{5} : 0, a_{12} : r_{1371}, a_{13} : r_{1372}, a_{14} : r_{1373}, a_{15} : r_{1374}, a_{23} : r_{1375}, a_{24} : r_{1376}, a_{25} : r_{1377}, a_{34} : r_{1378}, a_{35} : r_{1379}, a_{45} : r_{1380}\\right\\}, \\left\\{d_{1} : r_{1381}, d_{2} : r_{1382}, d_{3} : \\frac{r_{1381}}{x_{13}}, d_{4} : \\frac{r_{1382}}{x_{24}}, d_{5} : \\frac{r_{1381}}{x_{13} x_{35}}, a_{12} : r_{1383}, a_{13} : r_{1384}, a_{14} : r_{1385}, a_{15} : r_{1386}, a_{23} : r_{1387}, a_{24} : r_{1388}, a_{25} : r_{1389}, a_{34} : \\frac{r_{1383}}{x_{13}}, a_{35} : \\frac{r_{1384}}{x_{13}}, a_{45} : \\frac{r_{1387}}{x_{24}}\\right\\}\\right]$$"
      ],
      "text/plain": [
       "[{d1: r1351,\n",
       "  d2: 0,\n",
       "  d3: r1351/x13,\n",
       "  d4: 0,\n",
       "  d5: r1351/(x13*x35),\n",
       "  a12: r1352,\n",
       "  a13: r1353,\n",
       "  a14: r1354,\n",
       "  a15: r1355,\n",
       "  a23: r1356,\n",
       "  a24: r1357,\n",
       "  a25: r1358,\n",
       "  a34: r1359,\n",
       "  a35: r1360,\n",
       "  a45: r1356/x24},\n",
       " {d1: 0,\n",
       "  d2: r1361,\n",
       "  d3: 0,\n",
       "  d4: r1361/x24,\n",
       "  d5: 0,\n",
       "  a12: r1362,\n",
       "  a13: r1363,\n",
       "  a14: r1364,\n",
       "  a15: r1365,\n",
       "  a23: r1366,\n",
       "  a24: r1367,\n",
       "  a25: r1368,\n",
       "  a34: r1362/x13,\n",
       "  a35: r1369,\n",
       "  a45: r1370},\n",
       " {d1: 0,\n",
       "  d2: 0,\n",
       "  d3: 0,\n",
       "  d4: 0,\n",
       "  d5: 0,\n",
       "  a12: r1371,\n",
       "  a13: r1372,\n",
       "  a14: r1373,\n",
       "  a15: r1374,\n",
       "  a23: r1375,\n",
       "  a24: r1376,\n",
       "  a25: r1377,\n",
       "  a34: r1378,\n",
       "  a35: r1379,\n",
       "  a45: r1380},\n",
       " {d1: r1381,\n",
       "  d2: r1382,\n",
       "  d3: r1381/x13,\n",
       "  d4: r1382/x24,\n",
       "  d5: r1381/(x13*x35),\n",
       "  a12: r1383,\n",
       "  a13: r1384,\n",
       "  a14: r1385,\n",
       "  a15: r1386,\n",
       "  a23: r1387,\n",
       "  a24: r1388,\n",
       "  a25: r1389,\n",
       "  a34: r1383/x13,\n",
       "  a35: r1384/x13,\n",
       "  a45: r1387/x24}]"
      ]
     },
     "metadata": {},
     "output_type": "display_data"
    },
    {
     "data": {
      "text/plain": [
       "\\left[\\left\\{d_{1} : r_{1351}, d_{2} : 0, d_{3} : \\frac{r_{1351}}{x_{13}}, d_{4} : 0, d_{5} : \\frac{r_{1351}}{x_{13} x_{35}}, a_{12} : r_{1352}, a_{13} : r_{1353}, a_{14} : r_{1354}, a_{15} : r_{1355}, a_{23} : r_{1356}, a_{24} : r_{1357}, a_{25} : r_{1358}, a_{34} : r_{1359}, a_{35} : r_{1360}, a_{45} : \\frac{r_{1356}}{x_{24}}\\right\\}, \\left\\{d_{1} : 0, d_{2} : r_{1361}, d_{3} : 0, d_{4} : \\frac{r_{1361}}{x_{24}}, d_{5} : 0, a_{12} : r_{1362}, a_{13} : r_{1363}, a_{14} : r_{1364}, a_{15} : r_{1365}, a_{23} : r_{1366}, a_{24} : r_{1367}, a_{25} : r_{1368}, a_{34} : \\frac{r_{1362}}{x_{13}}, a_{35} : r_{1369}, a_{45} : r_{1370}\\right\\}, \\left\\{d_{1} : 0, d_{2} : 0, d_{3} : 0, d_{4} : 0, d_{5} : 0, a_{12} : r_{1371}, a_{13} : r_{1372}, a_{14} : r_{1373}, a_{15} : r_{1374}, a_{23} : r_{1375}, a_{24} : r_{1376}, a_{25} : r_{1377}, a_{34} : r_{1378}, a_{35} : r_{1379}, a_{45} : r_{1380}\\right\\}, \\left\\{d_{1} : r_{1381}, d_{2} : r_{1382}, d_{3} : \\frac{r_{1381}}{x_{13}}, d_{4} : \\frac{r_{1382}}{x_{24}}, d_{5} : \\frac{r_{1381}}{x_{13} x_{35}}, a_{12} : r_{1383}, a_{13} : r_{1384}, a_{14} : r_{1385}, a_{15} : r_{1386}, a_{23} : r_{1387}, a_{24} : r_{1388}, a_{25} : r_{1389}, a_{34} : \\frac{r_{1383}}{x_{13}}, a_{35} : \\frac{r_{1384}}{x_{13}}, a_{45} : \\frac{r_{1387}}{x_{24}}\\right\\}\\right]"
      ]
     },
     "execution_count": 53,
     "metadata": {},
     "output_type": "execute_result"
    }
   ],
   "source": [
    "#x1\n",
    "reset()\n",
    "\n",
    "var('x12,x13,x14,x15,x23,x24,x25,x34,x35,x45')\n",
    "var('d1,d2,d3,d4,d5')\n",
    "var('a12,a13,a14,a15,a23,a24,a25,a34,a35,a45')\n",
    "\n",
    "load_attach_path('C:\\\\Users\\\\julia\\\\Documents\\\\unb\\\\doutorado\\\\pensar\\\\codigo_sage_v2\\\\maquina\\\\x1')\n",
    "load('out_#110100.sage')\n",
    "\n",
    "m=matrix(QQ, [[0, 0, 1, 0, 0],\n",
    "              [0, 0, 0, 1, 0],\n",
    "              [0, 0, 0, 0, 1],\n",
    "              [0, 0, 0, 0, 0],\n",
    "              [0, 0, 0, 0, 0]])\n",
    "        \n",
    "#entry of matrix: (i,j) line i collum j, means (i-1,j-1)\n",
    "sol=solve([ \teq1==m[0,2],\teq2==m[0,3],\teq3==m[0,4],\t\n",
    "                                            eq4==m[1,3],    eq5==m[1,4],\n",
    "                                                            eq6==m[2,4]],d1,d2,d3,d4,d5,a12,a13,a14,a15,a23,a24,a25,a34,a35,a45, solution_dict=True)\n",
    "\n",
    "show(m)\n",
    "show(sol)\n",
    "latex(sol)"
   ]
  },
  {
   "cell_type": "code",
   "execution_count": 6,
   "metadata": {},
   "outputs": [
    {
     "data": {
      "text/html": [
       "<html><script type=\"math/tex; mode=display\">\\newcommand{\\Bold}[1]{\\mathbf{#1}}\\left(\\begin{array}{rrrrr}\n",
       "0 & 0 & 1 & 0 & 0 \\\\\n",
       "0 & 0 & 0 & 1 & 0 \\\\\n",
       "0 & 0 & 0 & 0 & 1 \\\\\n",
       "0 & 0 & 0 & 0 & 0 \\\\\n",
       "0 & 0 & 0 & 0 & 0\n",
       "\\end{array}\\right)</script></html>"
      ],
      "text/latex": [
       "$$\\newcommand{\\Bold}[1]{\\mathbf{#1}}\\left(\\begin{array}{rrrrr}\n",
       "0 & 0 & 1 & 0 & 0 \\\\\n",
       "0 & 0 & 0 & 1 & 0 \\\\\n",
       "0 & 0 & 0 & 0 & 1 \\\\\n",
       "0 & 0 & 0 & 0 & 0 \\\\\n",
       "0 & 0 & 0 & 0 & 0\n",
       "\\end{array}\\right)$$"
      ],
      "text/plain": [
       "[0 0 1 0 0]\n",
       "[0 0 0 1 0]\n",
       "[0 0 0 0 1]\n",
       "[0 0 0 0 0]\n",
       "[0 0 0 0 0]"
      ]
     },
     "metadata": {},
     "output_type": "display_data"
    },
    {
     "data": {
      "text/html": [
       "<html><script type=\"math/tex; mode=display\">\\newcommand{\\Bold}[1]{\\mathbf{#1}}\\left[\\left\\{d_{1} : r_{192}, d_{2} : 0, d_{3} : \\frac{r_{192}}{x_{13}}, d_{4} : 0, d_{5} : \\frac{r_{192}}{x_{13} x_{35}}, a_{12} : r_{193}, a_{13} : r_{194}, a_{14} : r_{195}, a_{15} : r_{196}, a_{23} : r_{197}, a_{24} : r_{198}, a_{25} : r_{199}, a_{34} : r_{200}, a_{35} : r_{201}, a_{45} : \\frac{r_{197}}{x_{24}}\\right\\}, \\left\\{d_{1} : 0, d_{2} : r_{202}, d_{3} : 0, d_{4} : \\frac{r_{202}}{x_{24}}, d_{5} : 0, a_{12} : r_{203}, a_{13} : r_{204}, a_{14} : r_{205}, a_{15} : r_{206}, a_{23} : r_{207}, a_{24} : r_{208}, a_{25} : r_{209}, a_{34} : \\frac{r_{203}}{x_{13}}, a_{35} : r_{210}, a_{45} : r_{211}\\right\\}, \\left\\{d_{1} : 0, d_{2} : 0, d_{3} : 0, d_{4} : 0, d_{5} : 0, a_{12} : r_{212}, a_{13} : r_{213}, a_{14} : r_{214}, a_{15} : r_{215}, a_{23} : r_{216}, a_{24} : r_{217}, a_{25} : r_{218}, a_{34} : r_{219}, a_{35} : r_{220}, a_{45} : r_{221}\\right\\}, \\left\\{d_{1} : r_{222}, d_{2} : r_{223}, d_{3} : \\frac{r_{222}}{x_{13}}, d_{4} : \\frac{r_{223}}{x_{24}}, d_{5} : \\frac{r_{222}}{x_{13} x_{35}}, a_{12} : r_{224}, a_{13} : r_{225}, a_{14} : r_{226}, a_{15} : r_{227}, a_{23} : r_{228}, a_{24} : r_{229}, a_{25} : r_{230}, a_{34} : \\frac{r_{224}}{x_{13}}, a_{35} : \\frac{r_{225} x_{13} x_{35} - r_{222} x_{15}}{x_{13}^{2} x_{35}}, a_{45} : \\frac{r_{228}}{x_{24}}\\right\\}\\right]</script></html>"
      ],
      "text/latex": [
       "$$\\newcommand{\\Bold}[1]{\\mathbf{#1}}\\left[\\left\\{d_{1} : r_{192}, d_{2} : 0, d_{3} : \\frac{r_{192}}{x_{13}}, d_{4} : 0, d_{5} : \\frac{r_{192}}{x_{13} x_{35}}, a_{12} : r_{193}, a_{13} : r_{194}, a_{14} : r_{195}, a_{15} : r_{196}, a_{23} : r_{197}, a_{24} : r_{198}, a_{25} : r_{199}, a_{34} : r_{200}, a_{35} : r_{201}, a_{45} : \\frac{r_{197}}{x_{24}}\\right\\}, \\left\\{d_{1} : 0, d_{2} : r_{202}, d_{3} : 0, d_{4} : \\frac{r_{202}}{x_{24}}, d_{5} : 0, a_{12} : r_{203}, a_{13} : r_{204}, a_{14} : r_{205}, a_{15} : r_{206}, a_{23} : r_{207}, a_{24} : r_{208}, a_{25} : r_{209}, a_{34} : \\frac{r_{203}}{x_{13}}, a_{35} : r_{210}, a_{45} : r_{211}\\right\\}, \\left\\{d_{1} : 0, d_{2} : 0, d_{3} : 0, d_{4} : 0, d_{5} : 0, a_{12} : r_{212}, a_{13} : r_{213}, a_{14} : r_{214}, a_{15} : r_{215}, a_{23} : r_{216}, a_{24} : r_{217}, a_{25} : r_{218}, a_{34} : r_{219}, a_{35} : r_{220}, a_{45} : r_{221}\\right\\}, \\left\\{d_{1} : r_{222}, d_{2} : r_{223}, d_{3} : \\frac{r_{222}}{x_{13}}, d_{4} : \\frac{r_{223}}{x_{24}}, d_{5} : \\frac{r_{222}}{x_{13} x_{35}}, a_{12} : r_{224}, a_{13} : r_{225}, a_{14} : r_{226}, a_{15} : r_{227}, a_{23} : r_{228}, a_{24} : r_{229}, a_{25} : r_{230}, a_{34} : \\frac{r_{224}}{x_{13}}, a_{35} : \\frac{r_{225} x_{13} x_{35} - r_{222} x_{15}}{x_{13}^{2} x_{35}}, a_{45} : \\frac{r_{228}}{x_{24}}\\right\\}\\right]$$"
      ],
      "text/plain": [
       "[{d1: r192,\n",
       "  d2: 0,\n",
       "  d3: r192/x13,\n",
       "  d4: 0,\n",
       "  d5: r192/(x13*x35),\n",
       "  a12: r193,\n",
       "  a13: r194,\n",
       "  a14: r195,\n",
       "  a15: r196,\n",
       "  a23: r197,\n",
       "  a24: r198,\n",
       "  a25: r199,\n",
       "  a34: r200,\n",
       "  a35: r201,\n",
       "  a45: r197/x24},\n",
       " {d1: 0,\n",
       "  d2: r202,\n",
       "  d3: 0,\n",
       "  d4: r202/x24,\n",
       "  d5: 0,\n",
       "  a12: r203,\n",
       "  a13: r204,\n",
       "  a14: r205,\n",
       "  a15: r206,\n",
       "  a23: r207,\n",
       "  a24: r208,\n",
       "  a25: r209,\n",
       "  a34: r203/x13,\n",
       "  a35: r210,\n",
       "  a45: r211},\n",
       " {d1: 0,\n",
       "  d2: 0,\n",
       "  d3: 0,\n",
       "  d4: 0,\n",
       "  d5: 0,\n",
       "  a12: r212,\n",
       "  a13: r213,\n",
       "  a14: r214,\n",
       "  a15: r215,\n",
       "  a23: r216,\n",
       "  a24: r217,\n",
       "  a25: r218,\n",
       "  a34: r219,\n",
       "  a35: r220,\n",
       "  a45: r221},\n",
       " {d1: r222,\n",
       "  d2: r223,\n",
       "  d3: r222/x13,\n",
       "  d4: r223/x24,\n",
       "  d5: r222/(x13*x35),\n",
       "  a12: r224,\n",
       "  a13: r225,\n",
       "  a14: r226,\n",
       "  a15: r227,\n",
       "  a23: r228,\n",
       "  a24: r229,\n",
       "  a25: r230,\n",
       "  a34: r224/x13,\n",
       "  a35: (r225*x13*x35 - r222*x15)/(x13^2*x35),\n",
       "  a45: r228/x24}]"
      ]
     },
     "metadata": {},
     "output_type": "display_data"
    },
    {
     "data": {
      "text/plain": [
       "\\left[\\left\\{d_{1} : r_{192}, d_{2} : 0, d_{3} : \\frac{r_{192}}{x_{13}}, d_{4} : 0, d_{5} : \\frac{r_{192}}{x_{13} x_{35}}, a_{12} : r_{193}, a_{13} : r_{194}, a_{14} : r_{195}, a_{15} : r_{196}, a_{23} : r_{197}, a_{24} : r_{198}, a_{25} : r_{199}, a_{34} : r_{200}, a_{35} : r_{201}, a_{45} : \\frac{r_{197}}{x_{24}}\\right\\}, \\left\\{d_{1} : 0, d_{2} : r_{202}, d_{3} : 0, d_{4} : \\frac{r_{202}}{x_{24}}, d_{5} : 0, a_{12} : r_{203}, a_{13} : r_{204}, a_{14} : r_{205}, a_{15} : r_{206}, a_{23} : r_{207}, a_{24} : r_{208}, a_{25} : r_{209}, a_{34} : \\frac{r_{203}}{x_{13}}, a_{35} : r_{210}, a_{45} : r_{211}\\right\\}, \\left\\{d_{1} : 0, d_{2} : 0, d_{3} : 0, d_{4} : 0, d_{5} : 0, a_{12} : r_{212}, a_{13} : r_{213}, a_{14} : r_{214}, a_{15} : r_{215}, a_{23} : r_{216}, a_{24} : r_{217}, a_{25} : r_{218}, a_{34} : r_{219}, a_{35} : r_{220}, a_{45} : r_{221}\\right\\}, \\left\\{d_{1} : r_{222}, d_{2} : r_{223}, d_{3} : \\frac{r_{222}}{x_{13}}, d_{4} : \\frac{r_{223}}{x_{24}}, d_{5} : \\frac{r_{222}}{x_{13} x_{35}}, a_{12} : r_{224}, a_{13} : r_{225}, a_{14} : r_{226}, a_{15} : r_{227}, a_{23} : r_{228}, a_{24} : r_{229}, a_{25} : r_{230}, a_{34} : \\frac{r_{224}}{x_{13}}, a_{35} : \\frac{r_{225} x_{13} x_{35} - r_{222} x_{15}}{x_{13}^{2} x_{35}}, a_{45} : \\frac{r_{228}}{x_{24}}\\right\\}\\right]"
      ]
     },
     "execution_count": 6,
     "metadata": {},
     "output_type": "execute_result"
    }
   ],
   "source": [
    "#x1\n",
    "reset()\n",
    "\n",
    "var('x12,x13,x14,x15,x23,x24,x25,x34,x35,x45')\n",
    "var('d1,d2,d3,d4,d5')\n",
    "var('a12,a13,a14,a15,a23,a24,a25,a34,a35,a45')\n",
    "\n",
    "load_attach_path('C:\\\\Users\\\\julia\\\\Documents\\\\unb\\\\doutorado\\\\pensar\\\\codigo_sage_v2\\\\maquina\\\\x1')\n",
    "\n",
    "load('out_#110101.sage')\n",
    "m=matrix(QQ, [[0, 0, 1, 0, 0],\n",
    "              [0, 0, 0, 1, 0],\n",
    "              [0, 0, 0, 0, 1],\n",
    "              [0, 0, 0, 0, 0],\n",
    "              [0, 0, 0, 0, 0]])\n",
    "        \n",
    "#entry of matrix: (i,j) line i collum j, means (i-1,j-1)\n",
    "sol=solve([ \teq1==m[0,2],\teq2==m[0,3],\teq3==m[0,4],\t\n",
    "                                            eq4==m[1,3],    eq5==m[1,4],\n",
    "                                                            eq6==m[2,4]],d1,d2,d3,d4,d5,a12,a13,a14,a15,a23,a24,a25,a34,a35,a45, solution_dict=True)\n",
    "\n",
    "show(m)\n",
    "show(sol)\n",
    "latex(sol)"
   ]
  },
  {
   "cell_type": "code",
   "execution_count": 7,
   "metadata": {},
   "outputs": [
    {
     "data": {
      "text/html": [
       "<html><script type=\"math/tex; mode=display\">\\newcommand{\\Bold}[1]{\\mathbf{#1}}\\left(\\begin{array}{rrrrr}\n",
       "0 & 0 & 1 & 0 & 0 \\\\\n",
       "0 & 0 & 0 & 1 & 0 \\\\\n",
       "0 & 0 & 0 & 0 & 1 \\\\\n",
       "0 & 0 & 0 & 0 & 0 \\\\\n",
       "0 & 0 & 0 & 0 & 0\n",
       "\\end{array}\\right)</script></html>"
      ],
      "text/latex": [
       "$$\\newcommand{\\Bold}[1]{\\mathbf{#1}}\\left(\\begin{array}{rrrrr}\n",
       "0 & 0 & 1 & 0 & 0 \\\\\n",
       "0 & 0 & 0 & 1 & 0 \\\\\n",
       "0 & 0 & 0 & 0 & 1 \\\\\n",
       "0 & 0 & 0 & 0 & 0 \\\\\n",
       "0 & 0 & 0 & 0 & 0\n",
       "\\end{array}\\right)$$"
      ],
      "text/plain": [
       "[0 0 1 0 0]\n",
       "[0 0 0 1 0]\n",
       "[0 0 0 0 1]\n",
       "[0 0 0 0 0]\n",
       "[0 0 0 0 0]"
      ]
     },
     "metadata": {},
     "output_type": "display_data"
    },
    {
     "data": {
      "text/html": [
       "<html><script type=\"math/tex; mode=display\">\\newcommand{\\Bold}[1]{\\mathbf{#1}}\\left[\\left\\{d_{1} : r_{231}, d_{2} : 0, d_{3} : \\frac{r_{231}}{x_{13}}, d_{4} : 0, d_{5} : \\frac{r_{231}}{x_{13} x_{35}}, a_{12} : r_{232}, a_{13} : r_{233}, a_{14} : r_{234}, a_{15} : r_{235}, a_{23} : r_{236}, a_{24} : r_{237}, a_{25} : r_{238}, a_{34} : r_{239}, a_{35} : r_{240}, a_{45} : \\frac{r_{236}}{x_{24}}\\right\\}, \\left\\{d_{1} : 0, d_{2} : r_{241}, d_{3} : 0, d_{4} : \\frac{r_{241}}{x_{24}}, d_{5} : 0, a_{12} : r_{242}, a_{13} : r_{243}, a_{14} : r_{244}, a_{15} : r_{245}, a_{23} : r_{246}, a_{24} : r_{247}, a_{25} : r_{248}, a_{34} : -\\frac{r_{241} x_{14} - r_{242} x_{24}}{x_{13} x_{24}}, a_{35} : r_{249}, a_{45} : r_{250}\\right\\}, \\left\\{d_{1} : 0, d_{2} : 0, d_{3} : 0, d_{4} : 0, d_{5} : 0, a_{12} : r_{251}, a_{13} : r_{252}, a_{14} : r_{253}, a_{15} : r_{254}, a_{23} : r_{255}, a_{24} : r_{256}, a_{25} : r_{257}, a_{34} : r_{258}, a_{35} : r_{259}, a_{45} : r_{260}\\right\\}, \\left\\{d_{1} : r_{261}, d_{2} : r_{262}, d_{3} : \\frac{r_{261}}{x_{13}}, d_{4} : \\frac{r_{262}}{x_{24}}, d_{5} : \\frac{r_{261}}{x_{13} x_{35}}, a_{12} : r_{263}, a_{13} : r_{264}, a_{14} : r_{265}, a_{15} : r_{266}, a_{23} : r_{267}, a_{24} : r_{268}, a_{25} : r_{269}, a_{34} : -\\frac{r_{262} x_{14} - r_{263} x_{24}}{x_{13} x_{24}}, a_{35} : -\\frac{r_{267} x_{14} - r_{264} x_{24}}{x_{13} x_{24}}, a_{45} : \\frac{r_{267}}{x_{24}}\\right\\}\\right]</script></html>"
      ],
      "text/latex": [
       "$$\\newcommand{\\Bold}[1]{\\mathbf{#1}}\\left[\\left\\{d_{1} : r_{231}, d_{2} : 0, d_{3} : \\frac{r_{231}}{x_{13}}, d_{4} : 0, d_{5} : \\frac{r_{231}}{x_{13} x_{35}}, a_{12} : r_{232}, a_{13} : r_{233}, a_{14} : r_{234}, a_{15} : r_{235}, a_{23} : r_{236}, a_{24} : r_{237}, a_{25} : r_{238}, a_{34} : r_{239}, a_{35} : r_{240}, a_{45} : \\frac{r_{236}}{x_{24}}\\right\\}, \\left\\{d_{1} : 0, d_{2} : r_{241}, d_{3} : 0, d_{4} : \\frac{r_{241}}{x_{24}}, d_{5} : 0, a_{12} : r_{242}, a_{13} : r_{243}, a_{14} : r_{244}, a_{15} : r_{245}, a_{23} : r_{246}, a_{24} : r_{247}, a_{25} : r_{248}, a_{34} : -\\frac{r_{241} x_{14} - r_{242} x_{24}}{x_{13} x_{24}}, a_{35} : r_{249}, a_{45} : r_{250}\\right\\}, \\left\\{d_{1} : 0, d_{2} : 0, d_{3} : 0, d_{4} : 0, d_{5} : 0, a_{12} : r_{251}, a_{13} : r_{252}, a_{14} : r_{253}, a_{15} : r_{254}, a_{23} : r_{255}, a_{24} : r_{256}, a_{25} : r_{257}, a_{34} : r_{258}, a_{35} : r_{259}, a_{45} : r_{260}\\right\\}, \\left\\{d_{1} : r_{261}, d_{2} : r_{262}, d_{3} : \\frac{r_{261}}{x_{13}}, d_{4} : \\frac{r_{262}}{x_{24}}, d_{5} : \\frac{r_{261}}{x_{13} x_{35}}, a_{12} : r_{263}, a_{13} : r_{264}, a_{14} : r_{265}, a_{15} : r_{266}, a_{23} : r_{267}, a_{24} : r_{268}, a_{25} : r_{269}, a_{34} : -\\frac{r_{262} x_{14} - r_{263} x_{24}}{x_{13} x_{24}}, a_{35} : -\\frac{r_{267} x_{14} - r_{264} x_{24}}{x_{13} x_{24}}, a_{45} : \\frac{r_{267}}{x_{24}}\\right\\}\\right]$$"
      ],
      "text/plain": [
       "[{d1: r231,\n",
       "  d2: 0,\n",
       "  d3: r231/x13,\n",
       "  d4: 0,\n",
       "  d5: r231/(x13*x35),\n",
       "  a12: r232,\n",
       "  a13: r233,\n",
       "  a14: r234,\n",
       "  a15: r235,\n",
       "  a23: r236,\n",
       "  a24: r237,\n",
       "  a25: r238,\n",
       "  a34: r239,\n",
       "  a35: r240,\n",
       "  a45: r236/x24},\n",
       " {d1: 0,\n",
       "  d2: r241,\n",
       "  d3: 0,\n",
       "  d4: r241/x24,\n",
       "  d5: 0,\n",
       "  a12: r242,\n",
       "  a13: r243,\n",
       "  a14: r244,\n",
       "  a15: r245,\n",
       "  a23: r246,\n",
       "  a24: r247,\n",
       "  a25: r248,\n",
       "  a34: -(r241*x14 - r242*x24)/(x13*x24),\n",
       "  a35: r249,\n",
       "  a45: r250},\n",
       " {d1: 0,\n",
       "  d2: 0,\n",
       "  d3: 0,\n",
       "  d4: 0,\n",
       "  d5: 0,\n",
       "  a12: r251,\n",
       "  a13: r252,\n",
       "  a14: r253,\n",
       "  a15: r254,\n",
       "  a23: r255,\n",
       "  a24: r256,\n",
       "  a25: r257,\n",
       "  a34: r258,\n",
       "  a35: r259,\n",
       "  a45: r260},\n",
       " {d1: r261,\n",
       "  d2: r262,\n",
       "  d3: r261/x13,\n",
       "  d4: r262/x24,\n",
       "  d5: r261/(x13*x35),\n",
       "  a12: r263,\n",
       "  a13: r264,\n",
       "  a14: r265,\n",
       "  a15: r266,\n",
       "  a23: r267,\n",
       "  a24: r268,\n",
       "  a25: r269,\n",
       "  a34: -(r262*x14 - r263*x24)/(x13*x24),\n",
       "  a35: -(r267*x14 - r264*x24)/(x13*x24),\n",
       "  a45: r267/x24}]"
      ]
     },
     "metadata": {},
     "output_type": "display_data"
    },
    {
     "data": {
      "text/plain": [
       "\\left[\\left\\{d_{1} : r_{231}, d_{2} : 0, d_{3} : \\frac{r_{231}}{x_{13}}, d_{4} : 0, d_{5} : \\frac{r_{231}}{x_{13} x_{35}}, a_{12} : r_{232}, a_{13} : r_{233}, a_{14} : r_{234}, a_{15} : r_{235}, a_{23} : r_{236}, a_{24} : r_{237}, a_{25} : r_{238}, a_{34} : r_{239}, a_{35} : r_{240}, a_{45} : \\frac{r_{236}}{x_{24}}\\right\\}, \\left\\{d_{1} : 0, d_{2} : r_{241}, d_{3} : 0, d_{4} : \\frac{r_{241}}{x_{24}}, d_{5} : 0, a_{12} : r_{242}, a_{13} : r_{243}, a_{14} : r_{244}, a_{15} : r_{245}, a_{23} : r_{246}, a_{24} : r_{247}, a_{25} : r_{248}, a_{34} : -\\frac{r_{241} x_{14} - r_{242} x_{24}}{x_{13} x_{24}}, a_{35} : r_{249}, a_{45} : r_{250}\\right\\}, \\left\\{d_{1} : 0, d_{2} : 0, d_{3} : 0, d_{4} : 0, d_{5} : 0, a_{12} : r_{251}, a_{13} : r_{252}, a_{14} : r_{253}, a_{15} : r_{254}, a_{23} : r_{255}, a_{24} : r_{256}, a_{25} : r_{257}, a_{34} : r_{258}, a_{35} : r_{259}, a_{45} : r_{260}\\right\\}, \\left\\{d_{1} : r_{261}, d_{2} : r_{262}, d_{3} : \\frac{r_{261}}{x_{13}}, d_{4} : \\frac{r_{262}}{x_{24}}, d_{5} : \\frac{r_{261}}{x_{13} x_{35}}, a_{12} : r_{263}, a_{13} : r_{264}, a_{14} : r_{265}, a_{15} : r_{266}, a_{23} : r_{267}, a_{24} : r_{268}, a_{25} : r_{269}, a_{34} : -\\frac{r_{262} x_{14} - r_{263} x_{24}}{x_{13} x_{24}}, a_{35} : -\\frac{r_{267} x_{14} - r_{264} x_{24}}{x_{13} x_{24}}, a_{45} : \\frac{r_{267}}{x_{24}}\\right\\}\\right]"
      ]
     },
     "execution_count": 7,
     "metadata": {},
     "output_type": "execute_result"
    }
   ],
   "source": [
    "#x1\n",
    "reset()\n",
    "\n",
    "var('x12,x13,x14,x15,x23,x24,x25,x34,x35,x45')\n",
    "var('d1,d2,d3,d4,d5')\n",
    "var('a12,a13,a14,a15,a23,a24,a25,a34,a35,a45')\n",
    "\n",
    "load_attach_path('C:\\\\Users\\\\julia\\\\Documents\\\\unb\\\\doutorado\\\\pensar\\\\codigo_sage_v2\\\\maquina\\\\x1')\n",
    "load('out_#110110.sage')\n",
    "\n",
    "m=matrix(QQ, [[0, 0, 1, 0, 0],\n",
    "              [0, 0, 0, 1, 0],\n",
    "              [0, 0, 0, 0, 1],\n",
    "              [0, 0, 0, 0, 0],\n",
    "              [0, 0, 0, 0, 0]])\n",
    "        \n",
    "#entry of matrix: (i,j) line i collum j, means (i-1,j-1)\n",
    "sol=solve([ \teq1==m[0,2],\teq2==m[0,3],\teq3==m[0,4],\t\n",
    "                                            eq4==m[1,3],    eq5==m[1,4],\n",
    "                                                            eq6==m[2,4]],d1,d2,d3,d4,d5,a12,a13,a14,a15,a23,a24,a25,a34,a35,a45, solution_dict=True)\n",
    "\n",
    "show(m)\n",
    "show(sol)\n",
    "latex(sol)"
   ]
  },
  {
   "cell_type": "code",
   "execution_count": 8,
   "metadata": {},
   "outputs": [
    {
     "data": {
      "text/html": [
       "<html><script type=\"math/tex; mode=display\">\\newcommand{\\Bold}[1]{\\mathbf{#1}}\\left(\\begin{array}{rrrrr}\n",
       "0 & 0 & 1 & 0 & 0 \\\\\n",
       "0 & 0 & 0 & 1 & 0 \\\\\n",
       "0 & 0 & 0 & 0 & 1 \\\\\n",
       "0 & 0 & 0 & 0 & 0 \\\\\n",
       "0 & 0 & 0 & 0 & 0\n",
       "\\end{array}\\right)</script></html>"
      ],
      "text/latex": [
       "$$\\newcommand{\\Bold}[1]{\\mathbf{#1}}\\left(\\begin{array}{rrrrr}\n",
       "0 & 0 & 1 & 0 & 0 \\\\\n",
       "0 & 0 & 0 & 1 & 0 \\\\\n",
       "0 & 0 & 0 & 0 & 1 \\\\\n",
       "0 & 0 & 0 & 0 & 0 \\\\\n",
       "0 & 0 & 0 & 0 & 0\n",
       "\\end{array}\\right)$$"
      ],
      "text/plain": [
       "[0 0 1 0 0]\n",
       "[0 0 0 1 0]\n",
       "[0 0 0 0 1]\n",
       "[0 0 0 0 0]\n",
       "[0 0 0 0 0]"
      ]
     },
     "metadata": {},
     "output_type": "display_data"
    },
    {
     "data": {
      "text/html": [
       "<html><script type=\"math/tex; mode=display\">\\newcommand{\\Bold}[1]{\\mathbf{#1}}\\left[\\left\\{d_{1} : r_{270}, d_{2} : 0, d_{3} : \\frac{r_{270}}{x_{13}}, d_{4} : 0, d_{5} : \\frac{r_{270}}{x_{13} x_{35}}, a_{12} : r_{271}, a_{13} : r_{272}, a_{14} : r_{273}, a_{15} : r_{274}, a_{23} : r_{275}, a_{24} : r_{276}, a_{25} : r_{277}, a_{34} : r_{278}, a_{35} : r_{279}, a_{45} : \\frac{r_{275}}{x_{24}}\\right\\}, \\left\\{d_{1} : 0, d_{2} : r_{280}, d_{3} : 0, d_{4} : \\frac{r_{280}}{x_{24}}, d_{5} : 0, a_{12} : r_{281}, a_{13} : r_{282}, a_{14} : r_{283}, a_{15} : r_{284}, a_{23} : r_{285}, a_{24} : r_{286}, a_{25} : r_{287}, a_{34} : -\\frac{r_{280} x_{14} - r_{281} x_{24}}{x_{13} x_{24}}, a_{35} : r_{288}, a_{45} : r_{289}\\right\\}, \\left\\{d_{1} : 0, d_{2} : 0, d_{3} : 0, d_{4} : 0, d_{5} : 0, a_{12} : r_{290}, a_{13} : r_{291}, a_{14} : r_{292}, a_{15} : r_{293}, a_{23} : r_{294}, a_{24} : r_{295}, a_{25} : r_{296}, a_{34} : r_{297}, a_{35} : r_{298}, a_{45} : r_{299}\\right\\}, \\left\\{d_{1} : r_{300}, d_{2} : r_{301}, d_{3} : \\frac{r_{300}}{x_{13}}, d_{4} : \\frac{r_{301}}{x_{24}}, d_{5} : \\frac{r_{300}}{x_{13} x_{35}}, a_{12} : r_{302}, a_{13} : r_{303}, a_{14} : r_{304}, a_{15} : r_{305}, a_{23} : r_{306}, a_{24} : r_{307}, a_{25} : r_{308}, a_{34} : -\\frac{r_{301} x_{14} - r_{302} x_{24}}{x_{13} x_{24}}, a_{35} : -\\frac{r_{300} x_{15} x_{24} + {\\left(r_{306} x_{13} x_{14} - r_{303} x_{13} x_{24}\\right)} x_{35}}{x_{13}^{2} x_{24} x_{35}}, a_{45} : \\frac{r_{306}}{x_{24}}\\right\\}\\right]</script></html>"
      ],
      "text/latex": [
       "$$\\newcommand{\\Bold}[1]{\\mathbf{#1}}\\left[\\left\\{d_{1} : r_{270}, d_{2} : 0, d_{3} : \\frac{r_{270}}{x_{13}}, d_{4} : 0, d_{5} : \\frac{r_{270}}{x_{13} x_{35}}, a_{12} : r_{271}, a_{13} : r_{272}, a_{14} : r_{273}, a_{15} : r_{274}, a_{23} : r_{275}, a_{24} : r_{276}, a_{25} : r_{277}, a_{34} : r_{278}, a_{35} : r_{279}, a_{45} : \\frac{r_{275}}{x_{24}}\\right\\}, \\left\\{d_{1} : 0, d_{2} : r_{280}, d_{3} : 0, d_{4} : \\frac{r_{280}}{x_{24}}, d_{5} : 0, a_{12} : r_{281}, a_{13} : r_{282}, a_{14} : r_{283}, a_{15} : r_{284}, a_{23} : r_{285}, a_{24} : r_{286}, a_{25} : r_{287}, a_{34} : -\\frac{r_{280} x_{14} - r_{281} x_{24}}{x_{13} x_{24}}, a_{35} : r_{288}, a_{45} : r_{289}\\right\\}, \\left\\{d_{1} : 0, d_{2} : 0, d_{3} : 0, d_{4} : 0, d_{5} : 0, a_{12} : r_{290}, a_{13} : r_{291}, a_{14} : r_{292}, a_{15} : r_{293}, a_{23} : r_{294}, a_{24} : r_{295}, a_{25} : r_{296}, a_{34} : r_{297}, a_{35} : r_{298}, a_{45} : r_{299}\\right\\}, \\left\\{d_{1} : r_{300}, d_{2} : r_{301}, d_{3} : \\frac{r_{300}}{x_{13}}, d_{4} : \\frac{r_{301}}{x_{24}}, d_{5} : \\frac{r_{300}}{x_{13} x_{35}}, a_{12} : r_{302}, a_{13} : r_{303}, a_{14} : r_{304}, a_{15} : r_{305}, a_{23} : r_{306}, a_{24} : r_{307}, a_{25} : r_{308}, a_{34} : -\\frac{r_{301} x_{14} - r_{302} x_{24}}{x_{13} x_{24}}, a_{35} : -\\frac{r_{300} x_{15} x_{24} + {\\left(r_{306} x_{13} x_{14} - r_{303} x_{13} x_{24}\\right)} x_{35}}{x_{13}^{2} x_{24} x_{35}}, a_{45} : \\frac{r_{306}}{x_{24}}\\right\\}\\right]$$"
      ],
      "text/plain": [
       "[{d1: r270,\n",
       "  d2: 0,\n",
       "  d3: r270/x13,\n",
       "  d4: 0,\n",
       "  d5: r270/(x13*x35),\n",
       "  a12: r271,\n",
       "  a13: r272,\n",
       "  a14: r273,\n",
       "  a15: r274,\n",
       "  a23: r275,\n",
       "  a24: r276,\n",
       "  a25: r277,\n",
       "  a34: r278,\n",
       "  a35: r279,\n",
       "  a45: r275/x24},\n",
       " {d1: 0,\n",
       "  d2: r280,\n",
       "  d3: 0,\n",
       "  d4: r280/x24,\n",
       "  d5: 0,\n",
       "  a12: r281,\n",
       "  a13: r282,\n",
       "  a14: r283,\n",
       "  a15: r284,\n",
       "  a23: r285,\n",
       "  a24: r286,\n",
       "  a25: r287,\n",
       "  a34: -(r280*x14 - r281*x24)/(x13*x24),\n",
       "  a35: r288,\n",
       "  a45: r289},\n",
       " {d1: 0,\n",
       "  d2: 0,\n",
       "  d3: 0,\n",
       "  d4: 0,\n",
       "  d5: 0,\n",
       "  a12: r290,\n",
       "  a13: r291,\n",
       "  a14: r292,\n",
       "  a15: r293,\n",
       "  a23: r294,\n",
       "  a24: r295,\n",
       "  a25: r296,\n",
       "  a34: r297,\n",
       "  a35: r298,\n",
       "  a45: r299},\n",
       " {d1: r300,\n",
       "  d2: r301,\n",
       "  d3: r300/x13,\n",
       "  d4: r301/x24,\n",
       "  d5: r300/(x13*x35),\n",
       "  a12: r302,\n",
       "  a13: r303,\n",
       "  a14: r304,\n",
       "  a15: r305,\n",
       "  a23: r306,\n",
       "  a24: r307,\n",
       "  a25: r308,\n",
       "  a34: -(r301*x14 - r302*x24)/(x13*x24),\n",
       "  a35: -(r300*x15*x24 + (r306*x13*x14 - r303*x13*x24)*x35)/(x13^2*x24*x35),\n",
       "  a45: r306/x24}]"
      ]
     },
     "metadata": {},
     "output_type": "display_data"
    },
    {
     "data": {
      "text/plain": [
       "\\left[\\left\\{d_{1} : r_{270}, d_{2} : 0, d_{3} : \\frac{r_{270}}{x_{13}}, d_{4} : 0, d_{5} : \\frac{r_{270}}{x_{13} x_{35}}, a_{12} : r_{271}, a_{13} : r_{272}, a_{14} : r_{273}, a_{15} : r_{274}, a_{23} : r_{275}, a_{24} : r_{276}, a_{25} : r_{277}, a_{34} : r_{278}, a_{35} : r_{279}, a_{45} : \\frac{r_{275}}{x_{24}}\\right\\}, \\left\\{d_{1} : 0, d_{2} : r_{280}, d_{3} : 0, d_{4} : \\frac{r_{280}}{x_{24}}, d_{5} : 0, a_{12} : r_{281}, a_{13} : r_{282}, a_{14} : r_{283}, a_{15} : r_{284}, a_{23} : r_{285}, a_{24} : r_{286}, a_{25} : r_{287}, a_{34} : -\\frac{r_{280} x_{14} - r_{281} x_{24}}{x_{13} x_{24}}, a_{35} : r_{288}, a_{45} : r_{289}\\right\\}, \\left\\{d_{1} : 0, d_{2} : 0, d_{3} : 0, d_{4} : 0, d_{5} : 0, a_{12} : r_{290}, a_{13} : r_{291}, a_{14} : r_{292}, a_{15} : r_{293}, a_{23} : r_{294}, a_{24} : r_{295}, a_{25} : r_{296}, a_{34} : r_{297}, a_{35} : r_{298}, a_{45} : r_{299}\\right\\}, \\left\\{d_{1} : r_{300}, d_{2} : r_{301}, d_{3} : \\frac{r_{300}}{x_{13}}, d_{4} : \\frac{r_{301}}{x_{24}}, d_{5} : \\frac{r_{300}}{x_{13} x_{35}}, a_{12} : r_{302}, a_{13} : r_{303}, a_{14} : r_{304}, a_{15} : r_{305}, a_{23} : r_{306}, a_{24} : r_{307}, a_{25} : r_{308}, a_{34} : -\\frac{r_{301} x_{14} - r_{302} x_{24}}{x_{13} x_{24}}, a_{35} : -\\frac{r_{300} x_{15} x_{24} + {\\left(r_{306} x_{13} x_{14} - r_{303} x_{13} x_{24}\\right)} x_{35}}{x_{13}^{2} x_{24} x_{35}}, a_{45} : \\frac{r_{306}}{x_{24}}\\right\\}\\right]"
      ]
     },
     "execution_count": 8,
     "metadata": {},
     "output_type": "execute_result"
    }
   ],
   "source": [
    "#x1\n",
    "reset()\n",
    "\n",
    "var('x12,x13,x14,x15,x23,x24,x25,x34,x35,x45')\n",
    "var('d1,d2,d3,d4,d5')\n",
    "var('a12,a13,a14,a15,a23,a24,a25,a34,a35,a45')\n",
    "\n",
    "load_attach_path('C:\\\\Users\\\\julia\\\\Documents\\\\unb\\\\doutorado\\\\pensar\\\\codigo_sage_v2\\\\maquina\\\\x1')\n",
    "load('out_#110111.sage')\n",
    "\n",
    "m=matrix(QQ, [[0, 0, 1, 0, 0],\n",
    "              [0, 0, 0, 1, 0],\n",
    "              [0, 0, 0, 0, 1],\n",
    "              [0, 0, 0, 0, 0],\n",
    "              [0, 0, 0, 0, 0]])\n",
    "        \n",
    "#entry of matrix: (i,j) line i collum j, means (i-1,j-1)\n",
    "sol=solve([ \teq1==m[0,2],\teq2==m[0,3],\teq3==m[0,4],\t\n",
    "                                            eq4==m[1,3],    eq5==m[1,4],\n",
    "                                                            eq6==m[2,4]],d1,d2,d3,d4,d5,a12,a13,a14,a15,a23,a24,a25,a34,a35,a45, solution_dict=True)\n",
    "\n",
    "show(m)\n",
    "show(sol)\n",
    "latex(sol)"
   ]
  },
  {
   "cell_type": "code",
   "execution_count": 9,
   "metadata": {},
   "outputs": [
    {
     "data": {
      "text/html": [
       "<html><script type=\"math/tex; mode=display\">\\newcommand{\\Bold}[1]{\\mathbf{#1}}\\left(\\begin{array}{rrrrr}\n",
       "0 & 0 & 0 & 0 & 0 \\\\\n",
       "0 & 0 & 0 & 1 & 0 \\\\\n",
       "0 & 0 & 0 & 0 & 1 \\\\\n",
       "0 & 0 & 0 & 0 & 0 \\\\\n",
       "0 & 0 & 0 & 0 & 0\n",
       "\\end{array}\\right)</script></html>"
      ],
      "text/latex": [
       "$$\\newcommand{\\Bold}[1]{\\mathbf{#1}}\\left(\\begin{array}{rrrrr}\n",
       "0 & 0 & 0 & 0 & 0 \\\\\n",
       "0 & 0 & 0 & 1 & 0 \\\\\n",
       "0 & 0 & 0 & 0 & 1 \\\\\n",
       "0 & 0 & 0 & 0 & 0 \\\\\n",
       "0 & 0 & 0 & 0 & 0\n",
       "\\end{array}\\right)$$"
      ],
      "text/plain": [
       "[0 0 0 0 0]\n",
       "[0 0 0 1 0]\n",
       "[0 0 0 0 1]\n",
       "[0 0 0 0 0]\n",
       "[0 0 0 0 0]"
      ]
     },
     "metadata": {},
     "output_type": "display_data"
    },
    {
     "data": {
      "text/html": [
       "<html><script type=\"math/tex; mode=display\">\\newcommand{\\Bold}[1]{\\mathbf{#1}}\\left[\\left\\{d_{1} : r_{309}, d_{2} : r_{310}, d_{3} : 0, d_{4} : \\frac{r_{310}}{x_{24}}, d_{5} : 0, a_{12} : 0, a_{13} : r_{311}, a_{14} : r_{312}, a_{15} : r_{313}, a_{23} : r_{314}, a_{24} : r_{315}, a_{25} : r_{316}, a_{34} : r_{317}, a_{35} : r_{318}, a_{45} : r_{319}\\right\\}, \\left\\{d_{1} : r_{320}, d_{2} : 0, d_{3} : r_{321}, d_{4} : 0, d_{5} : \\frac{r_{321}}{x_{35}}, a_{12} : r_{322}, a_{13} : r_{323}, a_{14} : r_{324}, a_{15} : r_{325}, a_{23} : r_{326}, a_{24} : r_{327}, a_{25} : r_{328}, a_{34} : r_{329}, a_{35} : r_{330}, a_{45} : -\\frac{r_{321} x_{25} - r_{326} x_{35}}{x_{24} x_{35}}\\right\\}, \\left\\{d_{1} : r_{331}, d_{2} : 0, d_{3} : 0, d_{4} : 0, d_{5} : 0, a_{12} : r_{332}, a_{13} : r_{333}, a_{14} : r_{334}, a_{15} : r_{335}, a_{23} : r_{336}, a_{24} : r_{337}, a_{25} : r_{338}, a_{34} : r_{339}, a_{35} : r_{340}, a_{45} : r_{341}\\right\\}, \\left\\{d_{1} : r_{342}, d_{2} : r_{343}, d_{3} : r_{344}, d_{4} : \\frac{r_{343}}{x_{24}}, d_{5} : \\frac{r_{344}}{x_{35}}, a_{12} : 0, a_{13} : 0, a_{14} : r_{345}, a_{15} : r_{346}, a_{23} : r_{347}, a_{24} : r_{348}, a_{25} : r_{349}, a_{34} : r_{350}, a_{35} : r_{351}, a_{45} : -\\frac{r_{344} x_{25} - r_{347} x_{35}}{x_{24} x_{35}}\\right\\}\\right]</script></html>"
      ],
      "text/latex": [
       "$$\\newcommand{\\Bold}[1]{\\mathbf{#1}}\\left[\\left\\{d_{1} : r_{309}, d_{2} : r_{310}, d_{3} : 0, d_{4} : \\frac{r_{310}}{x_{24}}, d_{5} : 0, a_{12} : 0, a_{13} : r_{311}, a_{14} : r_{312}, a_{15} : r_{313}, a_{23} : r_{314}, a_{24} : r_{315}, a_{25} : r_{316}, a_{34} : r_{317}, a_{35} : r_{318}, a_{45} : r_{319}\\right\\}, \\left\\{d_{1} : r_{320}, d_{2} : 0, d_{3} : r_{321}, d_{4} : 0, d_{5} : \\frac{r_{321}}{x_{35}}, a_{12} : r_{322}, a_{13} : r_{323}, a_{14} : r_{324}, a_{15} : r_{325}, a_{23} : r_{326}, a_{24} : r_{327}, a_{25} : r_{328}, a_{34} : r_{329}, a_{35} : r_{330}, a_{45} : -\\frac{r_{321} x_{25} - r_{326} x_{35}}{x_{24} x_{35}}\\right\\}, \\left\\{d_{1} : r_{331}, d_{2} : 0, d_{3} : 0, d_{4} : 0, d_{5} : 0, a_{12} : r_{332}, a_{13} : r_{333}, a_{14} : r_{334}, a_{15} : r_{335}, a_{23} : r_{336}, a_{24} : r_{337}, a_{25} : r_{338}, a_{34} : r_{339}, a_{35} : r_{340}, a_{45} : r_{341}\\right\\}, \\left\\{d_{1} : r_{342}, d_{2} : r_{343}, d_{3} : r_{344}, d_{4} : \\frac{r_{343}}{x_{24}}, d_{5} : \\frac{r_{344}}{x_{35}}, a_{12} : 0, a_{13} : 0, a_{14} : r_{345}, a_{15} : r_{346}, a_{23} : r_{347}, a_{24} : r_{348}, a_{25} : r_{349}, a_{34} : r_{350}, a_{35} : r_{351}, a_{45} : -\\frac{r_{344} x_{25} - r_{347} x_{35}}{x_{24} x_{35}}\\right\\}\\right]$$"
      ],
      "text/plain": [
       "[{d1: r309,\n",
       "  d2: r310,\n",
       "  d3: 0,\n",
       "  d4: r310/x24,\n",
       "  d5: 0,\n",
       "  a12: 0,\n",
       "  a13: r311,\n",
       "  a14: r312,\n",
       "  a15: r313,\n",
       "  a23: r314,\n",
       "  a24: r315,\n",
       "  a25: r316,\n",
       "  a34: r317,\n",
       "  a35: r318,\n",
       "  a45: r319},\n",
       " {d1: r320,\n",
       "  d2: 0,\n",
       "  d3: r321,\n",
       "  d4: 0,\n",
       "  d5: r321/x35,\n",
       "  a12: r322,\n",
       "  a13: r323,\n",
       "  a14: r324,\n",
       "  a15: r325,\n",
       "  a23: r326,\n",
       "  a24: r327,\n",
       "  a25: r328,\n",
       "  a34: r329,\n",
       "  a35: r330,\n",
       "  a45: -(r321*x25 - r326*x35)/(x24*x35)},\n",
       " {d1: r331,\n",
       "  d2: 0,\n",
       "  d3: 0,\n",
       "  d4: 0,\n",
       "  d5: 0,\n",
       "  a12: r332,\n",
       "  a13: r333,\n",
       "  a14: r334,\n",
       "  a15: r335,\n",
       "  a23: r336,\n",
       "  a24: r337,\n",
       "  a25: r338,\n",
       "  a34: r339,\n",
       "  a35: r340,\n",
       "  a45: r341},\n",
       " {d1: r342,\n",
       "  d2: r343,\n",
       "  d3: r344,\n",
       "  d4: r343/x24,\n",
       "  d5: r344/x35,\n",
       "  a12: 0,\n",
       "  a13: 0,\n",
       "  a14: r345,\n",
       "  a15: r346,\n",
       "  a23: r347,\n",
       "  a24: r348,\n",
       "  a25: r349,\n",
       "  a34: r350,\n",
       "  a35: r351,\n",
       "  a45: -(r344*x25 - r347*x35)/(x24*x35)}]"
      ]
     },
     "metadata": {},
     "output_type": "display_data"
    },
    {
     "data": {
      "text/plain": [
       "\\left[\\left\\{d_{1} : r_{309}, d_{2} : r_{310}, d_{3} : 0, d_{4} : \\frac{r_{310}}{x_{24}}, d_{5} : 0, a_{12} : 0, a_{13} : r_{311}, a_{14} : r_{312}, a_{15} : r_{313}, a_{23} : r_{314}, a_{24} : r_{315}, a_{25} : r_{316}, a_{34} : r_{317}, a_{35} : r_{318}, a_{45} : r_{319}\\right\\}, \\left\\{d_{1} : r_{320}, d_{2} : 0, d_{3} : r_{321}, d_{4} : 0, d_{5} : \\frac{r_{321}}{x_{35}}, a_{12} : r_{322}, a_{13} : r_{323}, a_{14} : r_{324}, a_{15} : r_{325}, a_{23} : r_{326}, a_{24} : r_{327}, a_{25} : r_{328}, a_{34} : r_{329}, a_{35} : r_{330}, a_{45} : -\\frac{r_{321} x_{25} - r_{326} x_{35}}{x_{24} x_{35}}\\right\\}, \\left\\{d_{1} : r_{331}, d_{2} : 0, d_{3} : 0, d_{4} : 0, d_{5} : 0, a_{12} : r_{332}, a_{13} : r_{333}, a_{14} : r_{334}, a_{15} : r_{335}, a_{23} : r_{336}, a_{24} : r_{337}, a_{25} : r_{338}, a_{34} : r_{339}, a_{35} : r_{340}, a_{45} : r_{341}\\right\\}, \\left\\{d_{1} : r_{342}, d_{2} : r_{343}, d_{3} : r_{344}, d_{4} : \\frac{r_{343}}{x_{24}}, d_{5} : \\frac{r_{344}}{x_{35}}, a_{12} : 0, a_{13} : 0, a_{14} : r_{345}, a_{15} : r_{346}, a_{23} : r_{347}, a_{24} : r_{348}, a_{25} : r_{349}, a_{34} : r_{350}, a_{35} : r_{351}, a_{45} : -\\frac{r_{344} x_{25} - r_{347} x_{35}}{x_{24} x_{35}}\\right\\}\\right]"
      ]
     },
     "execution_count": 9,
     "metadata": {},
     "output_type": "execute_result"
    }
   ],
   "source": [
    "#x1\n",
    "reset()\n",
    "\n",
    "var('x12,x13,x14,x15,x23,x24,x25,x34,x35,x45')\n",
    "var('d1,d2,d3,d4,d5')\n",
    "var('a12,a13,a14,a15,a23,a24,a25,a34,a35,a45')\n",
    "\n",
    "load_attach_path('C:\\\\Users\\\\julia\\\\Documents\\\\unb\\\\doutorado\\\\pensar\\\\codigo_sage_v2\\\\maquina\\\\x1')\n",
    "load('out_#111000.sage')\n",
    "\n",
    "m=matrix(QQ, [[0, 0, 0, 0, 0],\n",
    "              [0, 0, 0, 1, 0],\n",
    "              [0, 0, 0, 0, 1],\n",
    "              [0, 0, 0, 0, 0],\n",
    "              [0, 0, 0, 0, 0]])\n",
    "        \n",
    "#entry of matrix: (i,j) line i collum j, means (i-1,j-1)\n",
    "sol=solve([ \teq1==m[0,2],\teq2==m[0,3],\teq3==m[0,4],\t\n",
    "                                            eq4==m[1,3],    eq5==m[1,4],\n",
    "                                                            eq6==m[2,4]],d1,d2,d3,d4,d5,a12,a13,a14,a15,a23,a24,a25,a34,a35,a45, solution_dict=True)\n",
    "\n",
    "show(m)\n",
    "show(sol)\n",
    "latex(sol)"
   ]
  },
  {
   "cell_type": "code",
   "execution_count": 10,
   "metadata": {},
   "outputs": [
    {
     "data": {
      "text/html": [
       "<html><script type=\"math/tex; mode=display\">\\newcommand{\\Bold}[1]{\\mathbf{#1}}\\left(\\begin{array}{rrrrr}\n",
       "0 & 0 & 0 & 0 & 0 \\\\\n",
       "0 & 0 & 0 & 1 & 0 \\\\\n",
       "0 & 0 & 0 & 0 & 1 \\\\\n",
       "0 & 0 & 0 & 0 & 0 \\\\\n",
       "0 & 0 & 0 & 0 & 0\n",
       "\\end{array}\\right)</script></html>"
      ],
      "text/latex": [
       "$$\\newcommand{\\Bold}[1]{\\mathbf{#1}}\\left(\\begin{array}{rrrrr}\n",
       "0 & 0 & 0 & 0 & 0 \\\\\n",
       "0 & 0 & 0 & 1 & 0 \\\\\n",
       "0 & 0 & 0 & 0 & 1 \\\\\n",
       "0 & 0 & 0 & 0 & 0 \\\\\n",
       "0 & 0 & 0 & 0 & 0\n",
       "\\end{array}\\right)$$"
      ],
      "text/plain": [
       "[0 0 0 0 0]\n",
       "[0 0 0 1 0]\n",
       "[0 0 0 0 1]\n",
       "[0 0 0 0 0]\n",
       "[0 0 0 0 0]"
      ]
     },
     "metadata": {},
     "output_type": "display_data"
    },
    {
     "data": {
      "text/html": [
       "<html><script type=\"math/tex; mode=display\">\\newcommand{\\Bold}[1]{\\mathbf{#1}}\\left[\\left\\{d_{1} : r_{352}, d_{2} : r_{353}, d_{3} : 0, d_{4} : \\frac{r_{353}}{x_{24}}, d_{5} : 0, a_{12} : 0, a_{13} : r_{354}, a_{14} : r_{355}, a_{15} : r_{356}, a_{23} : r_{357}, a_{24} : r_{358}, a_{25} : r_{359}, a_{34} : r_{360}, a_{35} : r_{361}, a_{45} : r_{362}\\right\\}, \\left\\{d_{1} : r_{363}, d_{2} : 0, d_{3} : r_{364}, d_{4} : 0, d_{5} : \\frac{r_{364}}{x_{35}}, a_{12} : r_{365}, a_{13} : r_{366}, a_{14} : r_{367}, a_{15} : r_{368}, a_{23} : r_{369}, a_{24} : r_{370}, a_{25} : r_{371}, a_{34} : r_{372}, a_{35} : r_{373}, a_{45} : -\\frac{r_{364} x_{25} - r_{369} x_{35}}{x_{24} x_{35}}\\right\\}, \\left\\{d_{1} : r_{374}, d_{2} : 0, d_{3} : 0, d_{4} : 0, d_{5} : 0, a_{12} : r_{375}, a_{13} : r_{376}, a_{14} : r_{377}, a_{15} : r_{378}, a_{23} : r_{379}, a_{24} : r_{380}, a_{25} : r_{381}, a_{34} : r_{382}, a_{35} : r_{383}, a_{45} : r_{384}\\right\\}, \\left\\{d_{1} : r_{385}, d_{2} : r_{386}, d_{3} : r_{387}, d_{4} : \\frac{r_{386}}{x_{24}}, d_{5} : \\frac{r_{387}}{x_{35}}, a_{12} : 0, a_{13} : \\frac{r_{387} x_{15}}{x_{35}}, a_{14} : r_{388}, a_{15} : r_{389}, a_{23} : r_{390}, a_{24} : r_{391}, a_{25} : r_{392}, a_{34} : r_{393}, a_{35} : r_{394}, a_{45} : -\\frac{r_{387} x_{25} - r_{390} x_{35}}{x_{24} x_{35}}\\right\\}\\right]</script></html>"
      ],
      "text/latex": [
       "$$\\newcommand{\\Bold}[1]{\\mathbf{#1}}\\left[\\left\\{d_{1} : r_{352}, d_{2} : r_{353}, d_{3} : 0, d_{4} : \\frac{r_{353}}{x_{24}}, d_{5} : 0, a_{12} : 0, a_{13} : r_{354}, a_{14} : r_{355}, a_{15} : r_{356}, a_{23} : r_{357}, a_{24} : r_{358}, a_{25} : r_{359}, a_{34} : r_{360}, a_{35} : r_{361}, a_{45} : r_{362}\\right\\}, \\left\\{d_{1} : r_{363}, d_{2} : 0, d_{3} : r_{364}, d_{4} : 0, d_{5} : \\frac{r_{364}}{x_{35}}, a_{12} : r_{365}, a_{13} : r_{366}, a_{14} : r_{367}, a_{15} : r_{368}, a_{23} : r_{369}, a_{24} : r_{370}, a_{25} : r_{371}, a_{34} : r_{372}, a_{35} : r_{373}, a_{45} : -\\frac{r_{364} x_{25} - r_{369} x_{35}}{x_{24} x_{35}}\\right\\}, \\left\\{d_{1} : r_{374}, d_{2} : 0, d_{3} : 0, d_{4} : 0, d_{5} : 0, a_{12} : r_{375}, a_{13} : r_{376}, a_{14} : r_{377}, a_{15} : r_{378}, a_{23} : r_{379}, a_{24} : r_{380}, a_{25} : r_{381}, a_{34} : r_{382}, a_{35} : r_{383}, a_{45} : r_{384}\\right\\}, \\left\\{d_{1} : r_{385}, d_{2} : r_{386}, d_{3} : r_{387}, d_{4} : \\frac{r_{386}}{x_{24}}, d_{5} : \\frac{r_{387}}{x_{35}}, a_{12} : 0, a_{13} : \\frac{r_{387} x_{15}}{x_{35}}, a_{14} : r_{388}, a_{15} : r_{389}, a_{23} : r_{390}, a_{24} : r_{391}, a_{25} : r_{392}, a_{34} : r_{393}, a_{35} : r_{394}, a_{45} : -\\frac{r_{387} x_{25} - r_{390} x_{35}}{x_{24} x_{35}}\\right\\}\\right]$$"
      ],
      "text/plain": [
       "[{d1: r352,\n",
       "  d2: r353,\n",
       "  d3: 0,\n",
       "  d4: r353/x24,\n",
       "  d5: 0,\n",
       "  a12: 0,\n",
       "  a13: r354,\n",
       "  a14: r355,\n",
       "  a15: r356,\n",
       "  a23: r357,\n",
       "  a24: r358,\n",
       "  a25: r359,\n",
       "  a34: r360,\n",
       "  a35: r361,\n",
       "  a45: r362},\n",
       " {d1: r363,\n",
       "  d2: 0,\n",
       "  d3: r364,\n",
       "  d4: 0,\n",
       "  d5: r364/x35,\n",
       "  a12: r365,\n",
       "  a13: r366,\n",
       "  a14: r367,\n",
       "  a15: r368,\n",
       "  a23: r369,\n",
       "  a24: r370,\n",
       "  a25: r371,\n",
       "  a34: r372,\n",
       "  a35: r373,\n",
       "  a45: -(r364*x25 - r369*x35)/(x24*x35)},\n",
       " {d1: r374,\n",
       "  d2: 0,\n",
       "  d3: 0,\n",
       "  d4: 0,\n",
       "  d5: 0,\n",
       "  a12: r375,\n",
       "  a13: r376,\n",
       "  a14: r377,\n",
       "  a15: r378,\n",
       "  a23: r379,\n",
       "  a24: r380,\n",
       "  a25: r381,\n",
       "  a34: r382,\n",
       "  a35: r383,\n",
       "  a45: r384},\n",
       " {d1: r385,\n",
       "  d2: r386,\n",
       "  d3: r387,\n",
       "  d4: r386/x24,\n",
       "  d5: r387/x35,\n",
       "  a12: 0,\n",
       "  a13: r387*x15/x35,\n",
       "  a14: r388,\n",
       "  a15: r389,\n",
       "  a23: r390,\n",
       "  a24: r391,\n",
       "  a25: r392,\n",
       "  a34: r393,\n",
       "  a35: r394,\n",
       "  a45: -(r387*x25 - r390*x35)/(x24*x35)}]"
      ]
     },
     "metadata": {},
     "output_type": "display_data"
    },
    {
     "data": {
      "text/plain": [
       "\\left[\\left\\{d_{1} : r_{352}, d_{2} : r_{353}, d_{3} : 0, d_{4} : \\frac{r_{353}}{x_{24}}, d_{5} : 0, a_{12} : 0, a_{13} : r_{354}, a_{14} : r_{355}, a_{15} : r_{356}, a_{23} : r_{357}, a_{24} : r_{358}, a_{25} : r_{359}, a_{34} : r_{360}, a_{35} : r_{361}, a_{45} : r_{362}\\right\\}, \\left\\{d_{1} : r_{363}, d_{2} : 0, d_{3} : r_{364}, d_{4} : 0, d_{5} : \\frac{r_{364}}{x_{35}}, a_{12} : r_{365}, a_{13} : r_{366}, a_{14} : r_{367}, a_{15} : r_{368}, a_{23} : r_{369}, a_{24} : r_{370}, a_{25} : r_{371}, a_{34} : r_{372}, a_{35} : r_{373}, a_{45} : -\\frac{r_{364} x_{25} - r_{369} x_{35}}{x_{24} x_{35}}\\right\\}, \\left\\{d_{1} : r_{374}, d_{2} : 0, d_{3} : 0, d_{4} : 0, d_{5} : 0, a_{12} : r_{375}, a_{13} : r_{376}, a_{14} : r_{377}, a_{15} : r_{378}, a_{23} : r_{379}, a_{24} : r_{380}, a_{25} : r_{381}, a_{34} : r_{382}, a_{35} : r_{383}, a_{45} : r_{384}\\right\\}, \\left\\{d_{1} : r_{385}, d_{2} : r_{386}, d_{3} : r_{387}, d_{4} : \\frac{r_{386}}{x_{24}}, d_{5} : \\frac{r_{387}}{x_{35}}, a_{12} : 0, a_{13} : \\frac{r_{387} x_{15}}{x_{35}}, a_{14} : r_{388}, a_{15} : r_{389}, a_{23} : r_{390}, a_{24} : r_{391}, a_{25} : r_{392}, a_{34} : r_{393}, a_{35} : r_{394}, a_{45} : -\\frac{r_{387} x_{25} - r_{390} x_{35}}{x_{24} x_{35}}\\right\\}\\right]"
      ]
     },
     "execution_count": 10,
     "metadata": {},
     "output_type": "execute_result"
    }
   ],
   "source": [
    "#x1\n",
    "reset()\n",
    "\n",
    "var('x12,x13,x14,x15,x23,x24,x25,x34,x35,x45')\n",
    "var('d1,d2,d3,d4,d5')\n",
    "var('a12,a13,a14,a15,a23,a24,a25,a34,a35,a45')\n",
    "\n",
    "load_attach_path('C:\\\\Users\\\\julia\\\\Documents\\\\unb\\\\doutorado\\\\pensar\\\\codigo_sage_v2\\\\maquina\\\\x1')\n",
    "load('out_#111001.sage')\n",
    "\n",
    "m=matrix(QQ, [[0, 0, 0, 0, 0],\n",
    "              [0, 0, 0, 1, 0],\n",
    "              [0, 0, 0, 0, 1],\n",
    "              [0, 0, 0, 0, 0],\n",
    "              [0, 0, 0, 0, 0]])\n",
    "        \n",
    "#entry of matrix: (i,j) line i collum j, means (i-1,j-1)\n",
    "sol=solve([ \teq1==m[0,2],\teq2==m[0,3],\teq3==m[0,4],\t\n",
    "                                            eq4==m[1,3],    eq5==m[1,4],\n",
    "                                                            eq6==m[2,4]],d1,d2,d3,d4,d5,a12,a13,a14,a15,a23,a24,a25,a34,a35,a45, solution_dict=True)\n",
    "\n",
    "show(m)\n",
    "show(sol)\n",
    "latex(sol)"
   ]
  },
  {
   "cell_type": "code",
   "execution_count": 11,
   "metadata": {},
   "outputs": [
    {
     "data": {
      "text/html": [
       "<html><script type=\"math/tex; mode=display\">\\newcommand{\\Bold}[1]{\\mathbf{#1}}\\left(\\begin{array}{rrrrr}\n",
       "0 & 0 & 0 & 0 & 0 \\\\\n",
       "0 & 0 & 0 & 1 & 0 \\\\\n",
       "0 & 0 & 0 & 0 & 1 \\\\\n",
       "0 & 0 & 0 & 0 & 0 \\\\\n",
       "0 & 0 & 0 & 0 & 0\n",
       "\\end{array}\\right)</script></html>"
      ],
      "text/latex": [
       "$$\\newcommand{\\Bold}[1]{\\mathbf{#1}}\\left(\\begin{array}{rrrrr}\n",
       "0 & 0 & 0 & 0 & 0 \\\\\n",
       "0 & 0 & 0 & 1 & 0 \\\\\n",
       "0 & 0 & 0 & 0 & 1 \\\\\n",
       "0 & 0 & 0 & 0 & 0 \\\\\n",
       "0 & 0 & 0 & 0 & 0\n",
       "\\end{array}\\right)$$"
      ],
      "text/plain": [
       "[0 0 0 0 0]\n",
       "[0 0 0 1 0]\n",
       "[0 0 0 0 1]\n",
       "[0 0 0 0 0]\n",
       "[0 0 0 0 0]"
      ]
     },
     "metadata": {},
     "output_type": "display_data"
    },
    {
     "data": {
      "text/html": [
       "<html><script type=\"math/tex; mode=display\">\\newcommand{\\Bold}[1]{\\mathbf{#1}}\\left[\\left\\{d_{1} : r_{395}, d_{2} : 0, d_{3} : r_{396}, d_{4} : 0, d_{5} : \\frac{r_{396}}{x_{35}}, a_{12} : r_{397}, a_{13} : r_{398}, a_{14} : r_{399}, a_{15} : r_{400}, a_{23} : r_{401}, a_{24} : r_{402}, a_{25} : r_{403}, a_{34} : r_{404}, a_{35} : r_{405}, a_{45} : -\\frac{r_{396} x_{25} - r_{401} x_{35}}{x_{24} x_{35}}\\right\\}, \\left\\{d_{1} : r_{406}, d_{2} : 0, d_{3} : 0, d_{4} : 0, d_{5} : 0, a_{12} : r_{407}, a_{13} : r_{408}, a_{14} : r_{409}, a_{15} : r_{410}, a_{23} : r_{411}, a_{24} : r_{412}, a_{25} : r_{413}, a_{34} : r_{414}, a_{35} : r_{415}, a_{45} : r_{416}\\right\\}, \\left\\{d_{1} : r_{417}, d_{2} : r_{418}, d_{3} : 0, d_{4} : \\frac{r_{418}}{x_{24}}, d_{5} : 0, a_{12} : \\frac{r_{418} x_{14}}{x_{24}}, a_{13} : r_{419}, a_{14} : r_{420}, a_{15} : r_{421}, a_{23} : r_{422}, a_{24} : r_{423}, a_{25} : r_{424}, a_{34} : r_{425}, a_{35} : r_{426}, a_{45} : r_{427}\\right\\}, \\left\\{d_{1} : r_{428}, d_{2} : r_{429}, d_{3} : r_{430}, d_{4} : \\frac{r_{429}}{x_{24}}, d_{5} : \\frac{r_{430}}{x_{35}}, a_{12} : \\frac{r_{429} x_{14}}{x_{24}}, a_{13} : r_{431}, a_{14} : r_{432}, a_{15} : r_{433}, a_{23} : \\frac{r_{430} x_{14} x_{25} + r_{431} x_{24} x_{35}}{x_{14} x_{35}}, a_{24} : r_{434}, a_{25} : r_{435}, a_{34} : r_{436}, a_{35} : r_{437}, a_{45} : \\frac{r_{431}}{x_{14}}\\right\\}\\right]</script></html>"
      ],
      "text/latex": [
       "$$\\newcommand{\\Bold}[1]{\\mathbf{#1}}\\left[\\left\\{d_{1} : r_{395}, d_{2} : 0, d_{3} : r_{396}, d_{4} : 0, d_{5} : \\frac{r_{396}}{x_{35}}, a_{12} : r_{397}, a_{13} : r_{398}, a_{14} : r_{399}, a_{15} : r_{400}, a_{23} : r_{401}, a_{24} : r_{402}, a_{25} : r_{403}, a_{34} : r_{404}, a_{35} : r_{405}, a_{45} : -\\frac{r_{396} x_{25} - r_{401} x_{35}}{x_{24} x_{35}}\\right\\}, \\left\\{d_{1} : r_{406}, d_{2} : 0, d_{3} : 0, d_{4} : 0, d_{5} : 0, a_{12} : r_{407}, a_{13} : r_{408}, a_{14} : r_{409}, a_{15} : r_{410}, a_{23} : r_{411}, a_{24} : r_{412}, a_{25} : r_{413}, a_{34} : r_{414}, a_{35} : r_{415}, a_{45} : r_{416}\\right\\}, \\left\\{d_{1} : r_{417}, d_{2} : r_{418}, d_{3} : 0, d_{4} : \\frac{r_{418}}{x_{24}}, d_{5} : 0, a_{12} : \\frac{r_{418} x_{14}}{x_{24}}, a_{13} : r_{419}, a_{14} : r_{420}, a_{15} : r_{421}, a_{23} : r_{422}, a_{24} : r_{423}, a_{25} : r_{424}, a_{34} : r_{425}, a_{35} : r_{426}, a_{45} : r_{427}\\right\\}, \\left\\{d_{1} : r_{428}, d_{2} : r_{429}, d_{3} : r_{430}, d_{4} : \\frac{r_{429}}{x_{24}}, d_{5} : \\frac{r_{430}}{x_{35}}, a_{12} : \\frac{r_{429} x_{14}}{x_{24}}, a_{13} : r_{431}, a_{14} : r_{432}, a_{15} : r_{433}, a_{23} : \\frac{r_{430} x_{14} x_{25} + r_{431} x_{24} x_{35}}{x_{14} x_{35}}, a_{24} : r_{434}, a_{25} : r_{435}, a_{34} : r_{436}, a_{35} : r_{437}, a_{45} : \\frac{r_{431}}{x_{14}}\\right\\}\\right]$$"
      ],
      "text/plain": [
       "[{d1: r395,\n",
       "  d2: 0,\n",
       "  d3: r396,\n",
       "  d4: 0,\n",
       "  d5: r396/x35,\n",
       "  a12: r397,\n",
       "  a13: r398,\n",
       "  a14: r399,\n",
       "  a15: r400,\n",
       "  a23: r401,\n",
       "  a24: r402,\n",
       "  a25: r403,\n",
       "  a34: r404,\n",
       "  a35: r405,\n",
       "  a45: -(r396*x25 - r401*x35)/(x24*x35)},\n",
       " {d1: r406,\n",
       "  d2: 0,\n",
       "  d3: 0,\n",
       "  d4: 0,\n",
       "  d5: 0,\n",
       "  a12: r407,\n",
       "  a13: r408,\n",
       "  a14: r409,\n",
       "  a15: r410,\n",
       "  a23: r411,\n",
       "  a24: r412,\n",
       "  a25: r413,\n",
       "  a34: r414,\n",
       "  a35: r415,\n",
       "  a45: r416},\n",
       " {d1: r417,\n",
       "  d2: r418,\n",
       "  d3: 0,\n",
       "  d4: r418/x24,\n",
       "  d5: 0,\n",
       "  a12: r418*x14/x24,\n",
       "  a13: r419,\n",
       "  a14: r420,\n",
       "  a15: r421,\n",
       "  a23: r422,\n",
       "  a24: r423,\n",
       "  a25: r424,\n",
       "  a34: r425,\n",
       "  a35: r426,\n",
       "  a45: r427},\n",
       " {d1: r428,\n",
       "  d2: r429,\n",
       "  d3: r430,\n",
       "  d4: r429/x24,\n",
       "  d5: r430/x35,\n",
       "  a12: r429*x14/x24,\n",
       "  a13: r431,\n",
       "  a14: r432,\n",
       "  a15: r433,\n",
       "  a23: (r430*x14*x25 + r431*x24*x35)/(x14*x35),\n",
       "  a24: r434,\n",
       "  a25: r435,\n",
       "  a34: r436,\n",
       "  a35: r437,\n",
       "  a45: r431/x14}]"
      ]
     },
     "metadata": {},
     "output_type": "display_data"
    },
    {
     "data": {
      "text/plain": [
       "\\left[\\left\\{d_{1} : r_{395}, d_{2} : 0, d_{3} : r_{396}, d_{4} : 0, d_{5} : \\frac{r_{396}}{x_{35}}, a_{12} : r_{397}, a_{13} : r_{398}, a_{14} : r_{399}, a_{15} : r_{400}, a_{23} : r_{401}, a_{24} : r_{402}, a_{25} : r_{403}, a_{34} : r_{404}, a_{35} : r_{405}, a_{45} : -\\frac{r_{396} x_{25} - r_{401} x_{35}}{x_{24} x_{35}}\\right\\}, \\left\\{d_{1} : r_{406}, d_{2} : 0, d_{3} : 0, d_{4} : 0, d_{5} : 0, a_{12} : r_{407}, a_{13} : r_{408}, a_{14} : r_{409}, a_{15} : r_{410}, a_{23} : r_{411}, a_{24} : r_{412}, a_{25} : r_{413}, a_{34} : r_{414}, a_{35} : r_{415}, a_{45} : r_{416}\\right\\}, \\left\\{d_{1} : r_{417}, d_{2} : r_{418}, d_{3} : 0, d_{4} : \\frac{r_{418}}{x_{24}}, d_{5} : 0, a_{12} : \\frac{r_{418} x_{14}}{x_{24}}, a_{13} : r_{419}, a_{14} : r_{420}, a_{15} : r_{421}, a_{23} : r_{422}, a_{24} : r_{423}, a_{25} : r_{424}, a_{34} : r_{425}, a_{35} : r_{426}, a_{45} : r_{427}\\right\\}, \\left\\{d_{1} : r_{428}, d_{2} : r_{429}, d_{3} : r_{430}, d_{4} : \\frac{r_{429}}{x_{24}}, d_{5} : \\frac{r_{430}}{x_{35}}, a_{12} : \\frac{r_{429} x_{14}}{x_{24}}, a_{13} : r_{431}, a_{14} : r_{432}, a_{15} : r_{433}, a_{23} : \\frac{r_{430} x_{14} x_{25} + r_{431} x_{24} x_{35}}{x_{14} x_{35}}, a_{24} : r_{434}, a_{25} : r_{435}, a_{34} : r_{436}, a_{35} : r_{437}, a_{45} : \\frac{r_{431}}{x_{14}}\\right\\}\\right]"
      ]
     },
     "execution_count": 11,
     "metadata": {},
     "output_type": "execute_result"
    }
   ],
   "source": [
    "#x1\n",
    "reset()\n",
    "\n",
    "var('x12,x13,x14,x15,x23,x24,x25,x34,x35,x45')\n",
    "var('d1,d2,d3,d4,d5')\n",
    "var('a12,a13,a14,a15,a23,a24,a25,a34,a35,a45')\n",
    "\n",
    "load_attach_path('C:\\\\Users\\\\julia\\\\Documents\\\\unb\\\\doutorado\\\\pensar\\\\codigo_sage_v2\\\\maquina\\\\x1')\n",
    "load('out_#111010.sage')\n",
    "\n",
    "m=matrix(QQ, [[0, 0, 0, 0, 0],\n",
    "              [0, 0, 0, 1, 0],\n",
    "              [0, 0, 0, 0, 1],\n",
    "              [0, 0, 0, 0, 0],\n",
    "              [0, 0, 0, 0, 0]])\n",
    "        \n",
    "#entry of matrix: (i,j) line i collum j, means (i-1,j-1)\n",
    "sol=solve([ \teq1==m[0,2],\teq2==m[0,3],\teq3==m[0,4],\t\n",
    "                                            eq4==m[1,3],    eq5==m[1,4],\n",
    "                                                            eq6==m[2,4]],d1,d2,d3,d4,d5,a12,a13,a14,a15,a23,a24,a25,a34,a35,a45, solution_dict=True)\n",
    "\n",
    "show(m)\n",
    "show(sol)\n",
    "latex(sol)"
   ]
  },
  {
   "cell_type": "code",
   "execution_count": 12,
   "metadata": {},
   "outputs": [
    {
     "data": {
      "text/html": [
       "<html><script type=\"math/tex; mode=display\">\\newcommand{\\Bold}[1]{\\mathbf{#1}}\\left(\\begin{array}{rrrrr}\n",
       "0 & 0 & 0 & 0 & 0 \\\\\n",
       "0 & 0 & 0 & 1 & 0 \\\\\n",
       "0 & 0 & 0 & 0 & 1 \\\\\n",
       "0 & 0 & 0 & 0 & 0 \\\\\n",
       "0 & 0 & 0 & 0 & 0\n",
       "\\end{array}\\right)</script></html>"
      ],
      "text/latex": [
       "$$\\newcommand{\\Bold}[1]{\\mathbf{#1}}\\left(\\begin{array}{rrrrr}\n",
       "0 & 0 & 0 & 0 & 0 \\\\\n",
       "0 & 0 & 0 & 1 & 0 \\\\\n",
       "0 & 0 & 0 & 0 & 1 \\\\\n",
       "0 & 0 & 0 & 0 & 0 \\\\\n",
       "0 & 0 & 0 & 0 & 0\n",
       "\\end{array}\\right)$$"
      ],
      "text/plain": [
       "[0 0 0 0 0]\n",
       "[0 0 0 1 0]\n",
       "[0 0 0 0 1]\n",
       "[0 0 0 0 0]\n",
       "[0 0 0 0 0]"
      ]
     },
     "metadata": {},
     "output_type": "display_data"
    },
    {
     "data": {
      "text/html": [
       "<html><script type=\"math/tex; mode=display\">\\newcommand{\\Bold}[1]{\\mathbf{#1}}\\left[\\left\\{d_{1} : r_{438}, d_{2} : 0, d_{3} : r_{439}, d_{4} : 0, d_{5} : \\frac{r_{439}}{x_{35}}, a_{12} : r_{440}, a_{13} : r_{441}, a_{14} : r_{442}, a_{15} : r_{443}, a_{23} : r_{444}, a_{24} : r_{445}, a_{25} : r_{446}, a_{34} : r_{447}, a_{35} : r_{448}, a_{45} : -\\frac{r_{439} x_{25} - r_{444} x_{35}}{x_{24} x_{35}}\\right\\}, \\left\\{d_{1} : r_{449}, d_{2} : 0, d_{3} : 0, d_{4} : 0, d_{5} : 0, a_{12} : r_{450}, a_{13} : r_{451}, a_{14} : r_{452}, a_{15} : r_{453}, a_{23} : r_{454}, a_{24} : r_{455}, a_{25} : r_{456}, a_{34} : r_{457}, a_{35} : r_{458}, a_{45} : r_{459}\\right\\}, \\left\\{d_{1} : r_{460}, d_{2} : r_{461}, d_{3} : 0, d_{4} : \\frac{r_{461}}{x_{24}}, d_{5} : 0, a_{12} : \\frac{r_{461} x_{14}}{x_{24}}, a_{13} : r_{462}, a_{14} : r_{463}, a_{15} : r_{464}, a_{23} : r_{465}, a_{24} : r_{466}, a_{25} : r_{467}, a_{34} : r_{468}, a_{35} : r_{469}, a_{45} : r_{470}\\right\\}, \\left\\{d_{1} : r_{471}, d_{2} : r_{472}, d_{3} : r_{473}, d_{4} : \\frac{r_{472}}{x_{24}}, d_{5} : \\frac{r_{473}}{x_{35}}, a_{12} : \\frac{r_{472} x_{14}}{x_{24}}, a_{13} : r_{474}, a_{14} : r_{475}, a_{15} : r_{476}, a_{23} : -\\frac{r_{473} x_{15} x_{24} - r_{473} x_{14} x_{25} - r_{474} x_{24} x_{35}}{x_{14} x_{35}}, a_{24} : r_{477}, a_{25} : r_{478}, a_{34} : r_{479}, a_{35} : r_{480}, a_{45} : -\\frac{r_{473} x_{15} - r_{474} x_{35}}{x_{14} x_{35}}\\right\\}\\right]</script></html>"
      ],
      "text/latex": [
       "$$\\newcommand{\\Bold}[1]{\\mathbf{#1}}\\left[\\left\\{d_{1} : r_{438}, d_{2} : 0, d_{3} : r_{439}, d_{4} : 0, d_{5} : \\frac{r_{439}}{x_{35}}, a_{12} : r_{440}, a_{13} : r_{441}, a_{14} : r_{442}, a_{15} : r_{443}, a_{23} : r_{444}, a_{24} : r_{445}, a_{25} : r_{446}, a_{34} : r_{447}, a_{35} : r_{448}, a_{45} : -\\frac{r_{439} x_{25} - r_{444} x_{35}}{x_{24} x_{35}}\\right\\}, \\left\\{d_{1} : r_{449}, d_{2} : 0, d_{3} : 0, d_{4} : 0, d_{5} : 0, a_{12} : r_{450}, a_{13} : r_{451}, a_{14} : r_{452}, a_{15} : r_{453}, a_{23} : r_{454}, a_{24} : r_{455}, a_{25} : r_{456}, a_{34} : r_{457}, a_{35} : r_{458}, a_{45} : r_{459}\\right\\}, \\left\\{d_{1} : r_{460}, d_{2} : r_{461}, d_{3} : 0, d_{4} : \\frac{r_{461}}{x_{24}}, d_{5} : 0, a_{12} : \\frac{r_{461} x_{14}}{x_{24}}, a_{13} : r_{462}, a_{14} : r_{463}, a_{15} : r_{464}, a_{23} : r_{465}, a_{24} : r_{466}, a_{25} : r_{467}, a_{34} : r_{468}, a_{35} : r_{469}, a_{45} : r_{470}\\right\\}, \\left\\{d_{1} : r_{471}, d_{2} : r_{472}, d_{3} : r_{473}, d_{4} : \\frac{r_{472}}{x_{24}}, d_{5} : \\frac{r_{473}}{x_{35}}, a_{12} : \\frac{r_{472} x_{14}}{x_{24}}, a_{13} : r_{474}, a_{14} : r_{475}, a_{15} : r_{476}, a_{23} : -\\frac{r_{473} x_{15} x_{24} - r_{473} x_{14} x_{25} - r_{474} x_{24} x_{35}}{x_{14} x_{35}}, a_{24} : r_{477}, a_{25} : r_{478}, a_{34} : r_{479}, a_{35} : r_{480}, a_{45} : -\\frac{r_{473} x_{15} - r_{474} x_{35}}{x_{14} x_{35}}\\right\\}\\right]$$"
      ],
      "text/plain": [
       "[{d1: r438,\n",
       "  d2: 0,\n",
       "  d3: r439,\n",
       "  d4: 0,\n",
       "  d5: r439/x35,\n",
       "  a12: r440,\n",
       "  a13: r441,\n",
       "  a14: r442,\n",
       "  a15: r443,\n",
       "  a23: r444,\n",
       "  a24: r445,\n",
       "  a25: r446,\n",
       "  a34: r447,\n",
       "  a35: r448,\n",
       "  a45: -(r439*x25 - r444*x35)/(x24*x35)},\n",
       " {d1: r449,\n",
       "  d2: 0,\n",
       "  d3: 0,\n",
       "  d4: 0,\n",
       "  d5: 0,\n",
       "  a12: r450,\n",
       "  a13: r451,\n",
       "  a14: r452,\n",
       "  a15: r453,\n",
       "  a23: r454,\n",
       "  a24: r455,\n",
       "  a25: r456,\n",
       "  a34: r457,\n",
       "  a35: r458,\n",
       "  a45: r459},\n",
       " {d1: r460,\n",
       "  d2: r461,\n",
       "  d3: 0,\n",
       "  d4: r461/x24,\n",
       "  d5: 0,\n",
       "  a12: r461*x14/x24,\n",
       "  a13: r462,\n",
       "  a14: r463,\n",
       "  a15: r464,\n",
       "  a23: r465,\n",
       "  a24: r466,\n",
       "  a25: r467,\n",
       "  a34: r468,\n",
       "  a35: r469,\n",
       "  a45: r470},\n",
       " {d1: r471,\n",
       "  d2: r472,\n",
       "  d3: r473,\n",
       "  d4: r472/x24,\n",
       "  d5: r473/x35,\n",
       "  a12: r472*x14/x24,\n",
       "  a13: r474,\n",
       "  a14: r475,\n",
       "  a15: r476,\n",
       "  a23: -(r473*x15*x24 - r473*x14*x25 - r474*x24*x35)/(x14*x35),\n",
       "  a24: r477,\n",
       "  a25: r478,\n",
       "  a34: r479,\n",
       "  a35: r480,\n",
       "  a45: -(r473*x15 - r474*x35)/(x14*x35)}]"
      ]
     },
     "metadata": {},
     "output_type": "display_data"
    },
    {
     "data": {
      "text/plain": [
       "\\left[\\left\\{d_{1} : r_{438}, d_{2} : 0, d_{3} : r_{439}, d_{4} : 0, d_{5} : \\frac{r_{439}}{x_{35}}, a_{12} : r_{440}, a_{13} : r_{441}, a_{14} : r_{442}, a_{15} : r_{443}, a_{23} : r_{444}, a_{24} : r_{445}, a_{25} : r_{446}, a_{34} : r_{447}, a_{35} : r_{448}, a_{45} : -\\frac{r_{439} x_{25} - r_{444} x_{35}}{x_{24} x_{35}}\\right\\}, \\left\\{d_{1} : r_{449}, d_{2} : 0, d_{3} : 0, d_{4} : 0, d_{5} : 0, a_{12} : r_{450}, a_{13} : r_{451}, a_{14} : r_{452}, a_{15} : r_{453}, a_{23} : r_{454}, a_{24} : r_{455}, a_{25} : r_{456}, a_{34} : r_{457}, a_{35} : r_{458}, a_{45} : r_{459}\\right\\}, \\left\\{d_{1} : r_{460}, d_{2} : r_{461}, d_{3} : 0, d_{4} : \\frac{r_{461}}{x_{24}}, d_{5} : 0, a_{12} : \\frac{r_{461} x_{14}}{x_{24}}, a_{13} : r_{462}, a_{14} : r_{463}, a_{15} : r_{464}, a_{23} : r_{465}, a_{24} : r_{466}, a_{25} : r_{467}, a_{34} : r_{468}, a_{35} : r_{469}, a_{45} : r_{470}\\right\\}, \\left\\{d_{1} : r_{471}, d_{2} : r_{472}, d_{3} : r_{473}, d_{4} : \\frac{r_{472}}{x_{24}}, d_{5} : \\frac{r_{473}}{x_{35}}, a_{12} : \\frac{r_{472} x_{14}}{x_{24}}, a_{13} : r_{474}, a_{14} : r_{475}, a_{15} : r_{476}, a_{23} : -\\frac{r_{473} x_{15} x_{24} - r_{473} x_{14} x_{25} - r_{474} x_{24} x_{35}}{x_{14} x_{35}}, a_{24} : r_{477}, a_{25} : r_{478}, a_{34} : r_{479}, a_{35} : r_{480}, a_{45} : -\\frac{r_{473} x_{15} - r_{474} x_{35}}{x_{14} x_{35}}\\right\\}\\right]"
      ]
     },
     "execution_count": 12,
     "metadata": {},
     "output_type": "execute_result"
    }
   ],
   "source": [
    "#x1\n",
    "reset()\n",
    "\n",
    "var('x12,x13,x14,x15,x23,x24,x25,x34,x35,x45')\n",
    "var('d1,d2,d3,d4,d5')\n",
    "var('a12,a13,a14,a15,a23,a24,a25,a34,a35,a45')\n",
    "\n",
    "load_attach_path('C:\\\\Users\\\\julia\\\\Documents\\\\unb\\\\doutorado\\\\pensar\\\\codigo_sage_v2\\\\maquina\\\\x1')\n",
    "load('out_#111011.sage')\n",
    "\n",
    "m=matrix(QQ, [[0, 0, 0, 0, 0],\n",
    "              [0, 0, 0, 1, 0],\n",
    "              [0, 0, 0, 0, 1],\n",
    "              [0, 0, 0, 0, 0],\n",
    "              [0, 0, 0, 0, 0]])\n",
    "        \n",
    "#entry of matrix: (i,j) line i collum j, means (i-1,j-1)\n",
    "sol=solve([ \teq1==m[0,2],\teq2==m[0,3],\teq3==m[0,4],\t\n",
    "                                            eq4==m[1,3],    eq5==m[1,4],\n",
    "                                                            eq6==m[2,4]],d1,d2,d3,d4,d5,a12,a13,a14,a15,a23,a24,a25,a34,a35,a45, solution_dict=True)\n",
    "\n",
    "show(m)\n",
    "show(sol)\n",
    "latex(sol)"
   ]
  },
  {
   "cell_type": "code",
   "execution_count": 13,
   "metadata": {},
   "outputs": [
    {
     "data": {
      "text/html": [
       "<html><script type=\"math/tex; mode=display\">\\newcommand{\\Bold}[1]{\\mathbf{#1}}\\left(\\begin{array}{rrrrr}\n",
       "0 & 0 & 1 & 0 & 0 \\\\\n",
       "0 & 0 & 0 & 1 & 0 \\\\\n",
       "0 & 0 & 0 & 0 & 1 \\\\\n",
       "0 & 0 & 0 & 0 & 0 \\\\\n",
       "0 & 0 & 0 & 0 & 0\n",
       "\\end{array}\\right)</script></html>"
      ],
      "text/latex": [
       "$$\\newcommand{\\Bold}[1]{\\mathbf{#1}}\\left(\\begin{array}{rrrrr}\n",
       "0 & 0 & 1 & 0 & 0 \\\\\n",
       "0 & 0 & 0 & 1 & 0 \\\\\n",
       "0 & 0 & 0 & 0 & 1 \\\\\n",
       "0 & 0 & 0 & 0 & 0 \\\\\n",
       "0 & 0 & 0 & 0 & 0\n",
       "\\end{array}\\right)$$"
      ],
      "text/plain": [
       "[0 0 1 0 0]\n",
       "[0 0 0 1 0]\n",
       "[0 0 0 0 1]\n",
       "[0 0 0 0 0]\n",
       "[0 0 0 0 0]"
      ]
     },
     "metadata": {},
     "output_type": "display_data"
    },
    {
     "data": {
      "text/html": [
       "<html><script type=\"math/tex; mode=display\">\\newcommand{\\Bold}[1]{\\mathbf{#1}}\\left[\\left\\{d_{1} : r_{481}, d_{2} : 0, d_{3} : \\frac{r_{481}}{x_{13}}, d_{4} : 0, d_{5} : \\frac{r_{481}}{x_{13} x_{35}}, a_{12} : r_{482}, a_{13} : r_{483}, a_{14} : r_{484}, a_{15} : r_{485}, a_{23} : r_{486}, a_{24} : r_{487}, a_{25} : r_{488}, a_{34} : r_{489}, a_{35} : r_{490}, a_{45} : \\frac{r_{486} x_{13} x_{35} - r_{481} x_{25}}{x_{13} x_{24} x_{35}}\\right\\}, \\left\\{d_{1} : 0, d_{2} : r_{491}, d_{3} : 0, d_{4} : \\frac{r_{491}}{x_{24}}, d_{5} : 0, a_{12} : r_{492}, a_{13} : r_{493}, a_{14} : r_{494}, a_{15} : r_{495}, a_{23} : r_{496}, a_{24} : r_{497}, a_{25} : r_{498}, a_{34} : \\frac{r_{492}}{x_{13}}, a_{35} : r_{499}, a_{45} : r_{500}\\right\\}, \\left\\{d_{1} : 0, d_{2} : 0, d_{3} : 0, d_{4} : 0, d_{5} : 0, a_{12} : r_{501}, a_{13} : r_{502}, a_{14} : r_{503}, a_{15} : r_{504}, a_{23} : r_{505}, a_{24} : r_{506}, a_{25} : r_{507}, a_{34} : r_{508}, a_{35} : r_{509}, a_{45} : r_{510}\\right\\}, \\left\\{d_{1} : r_{511}, d_{2} : r_{512}, d_{3} : \\frac{r_{511}}{x_{13}}, d_{4} : \\frac{r_{512}}{x_{24}}, d_{5} : \\frac{r_{511}}{x_{13} x_{35}}, a_{12} : r_{513}, a_{13} : r_{514}, a_{14} : r_{515}, a_{15} : r_{516}, a_{23} : r_{517}, a_{24} : r_{518}, a_{25} : r_{519}, a_{34} : \\frac{r_{513}}{x_{13}}, a_{35} : \\frac{r_{514}}{x_{13}}, a_{45} : \\frac{r_{517} x_{13} x_{35} - r_{511} x_{25}}{x_{13} x_{24} x_{35}}\\right\\}\\right]</script></html>"
      ],
      "text/latex": [
       "$$\\newcommand{\\Bold}[1]{\\mathbf{#1}}\\left[\\left\\{d_{1} : r_{481}, d_{2} : 0, d_{3} : \\frac{r_{481}}{x_{13}}, d_{4} : 0, d_{5} : \\frac{r_{481}}{x_{13} x_{35}}, a_{12} : r_{482}, a_{13} : r_{483}, a_{14} : r_{484}, a_{15} : r_{485}, a_{23} : r_{486}, a_{24} : r_{487}, a_{25} : r_{488}, a_{34} : r_{489}, a_{35} : r_{490}, a_{45} : \\frac{r_{486} x_{13} x_{35} - r_{481} x_{25}}{x_{13} x_{24} x_{35}}\\right\\}, \\left\\{d_{1} : 0, d_{2} : r_{491}, d_{3} : 0, d_{4} : \\frac{r_{491}}{x_{24}}, d_{5} : 0, a_{12} : r_{492}, a_{13} : r_{493}, a_{14} : r_{494}, a_{15} : r_{495}, a_{23} : r_{496}, a_{24} : r_{497}, a_{25} : r_{498}, a_{34} : \\frac{r_{492}}{x_{13}}, a_{35} : r_{499}, a_{45} : r_{500}\\right\\}, \\left\\{d_{1} : 0, d_{2} : 0, d_{3} : 0, d_{4} : 0, d_{5} : 0, a_{12} : r_{501}, a_{13} : r_{502}, a_{14} : r_{503}, a_{15} : r_{504}, a_{23} : r_{505}, a_{24} : r_{506}, a_{25} : r_{507}, a_{34} : r_{508}, a_{35} : r_{509}, a_{45} : r_{510}\\right\\}, \\left\\{d_{1} : r_{511}, d_{2} : r_{512}, d_{3} : \\frac{r_{511}}{x_{13}}, d_{4} : \\frac{r_{512}}{x_{24}}, d_{5} : \\frac{r_{511}}{x_{13} x_{35}}, a_{12} : r_{513}, a_{13} : r_{514}, a_{14} : r_{515}, a_{15} : r_{516}, a_{23} : r_{517}, a_{24} : r_{518}, a_{25} : r_{519}, a_{34} : \\frac{r_{513}}{x_{13}}, a_{35} : \\frac{r_{514}}{x_{13}}, a_{45} : \\frac{r_{517} x_{13} x_{35} - r_{511} x_{25}}{x_{13} x_{24} x_{35}}\\right\\}\\right]$$"
      ],
      "text/plain": [
       "[{d1: r481,\n",
       "  d2: 0,\n",
       "  d3: r481/x13,\n",
       "  d4: 0,\n",
       "  d5: r481/(x13*x35),\n",
       "  a12: r482,\n",
       "  a13: r483,\n",
       "  a14: r484,\n",
       "  a15: r485,\n",
       "  a23: r486,\n",
       "  a24: r487,\n",
       "  a25: r488,\n",
       "  a34: r489,\n",
       "  a35: r490,\n",
       "  a45: (r486*x13*x35 - r481*x25)/(x13*x24*x35)},\n",
       " {d1: 0,\n",
       "  d2: r491,\n",
       "  d3: 0,\n",
       "  d4: r491/x24,\n",
       "  d5: 0,\n",
       "  a12: r492,\n",
       "  a13: r493,\n",
       "  a14: r494,\n",
       "  a15: r495,\n",
       "  a23: r496,\n",
       "  a24: r497,\n",
       "  a25: r498,\n",
       "  a34: r492/x13,\n",
       "  a35: r499,\n",
       "  a45: r500},\n",
       " {d1: 0,\n",
       "  d2: 0,\n",
       "  d3: 0,\n",
       "  d4: 0,\n",
       "  d5: 0,\n",
       "  a12: r501,\n",
       "  a13: r502,\n",
       "  a14: r503,\n",
       "  a15: r504,\n",
       "  a23: r505,\n",
       "  a24: r506,\n",
       "  a25: r507,\n",
       "  a34: r508,\n",
       "  a35: r509,\n",
       "  a45: r510},\n",
       " {d1: r511,\n",
       "  d2: r512,\n",
       "  d3: r511/x13,\n",
       "  d4: r512/x24,\n",
       "  d5: r511/(x13*x35),\n",
       "  a12: r513,\n",
       "  a13: r514,\n",
       "  a14: r515,\n",
       "  a15: r516,\n",
       "  a23: r517,\n",
       "  a24: r518,\n",
       "  a25: r519,\n",
       "  a34: r513/x13,\n",
       "  a35: r514/x13,\n",
       "  a45: (r517*x13*x35 - r511*x25)/(x13*x24*x35)}]"
      ]
     },
     "metadata": {},
     "output_type": "display_data"
    },
    {
     "data": {
      "text/plain": [
       "\\left[\\left\\{d_{1} : r_{481}, d_{2} : 0, d_{3} : \\frac{r_{481}}{x_{13}}, d_{4} : 0, d_{5} : \\frac{r_{481}}{x_{13} x_{35}}, a_{12} : r_{482}, a_{13} : r_{483}, a_{14} : r_{484}, a_{15} : r_{485}, a_{23} : r_{486}, a_{24} : r_{487}, a_{25} : r_{488}, a_{34} : r_{489}, a_{35} : r_{490}, a_{45} : \\frac{r_{486} x_{13} x_{35} - r_{481} x_{25}}{x_{13} x_{24} x_{35}}\\right\\}, \\left\\{d_{1} : 0, d_{2} : r_{491}, d_{3} : 0, d_{4} : \\frac{r_{491}}{x_{24}}, d_{5} : 0, a_{12} : r_{492}, a_{13} : r_{493}, a_{14} : r_{494}, a_{15} : r_{495}, a_{23} : r_{496}, a_{24} : r_{497}, a_{25} : r_{498}, a_{34} : \\frac{r_{492}}{x_{13}}, a_{35} : r_{499}, a_{45} : r_{500}\\right\\}, \\left\\{d_{1} : 0, d_{2} : 0, d_{3} : 0, d_{4} : 0, d_{5} : 0, a_{12} : r_{501}, a_{13} : r_{502}, a_{14} : r_{503}, a_{15} : r_{504}, a_{23} : r_{505}, a_{24} : r_{506}, a_{25} : r_{507}, a_{34} : r_{508}, a_{35} : r_{509}, a_{45} : r_{510}\\right\\}, \\left\\{d_{1} : r_{511}, d_{2} : r_{512}, d_{3} : \\frac{r_{511}}{x_{13}}, d_{4} : \\frac{r_{512}}{x_{24}}, d_{5} : \\frac{r_{511}}{x_{13} x_{35}}, a_{12} : r_{513}, a_{13} : r_{514}, a_{14} : r_{515}, a_{15} : r_{516}, a_{23} : r_{517}, a_{24} : r_{518}, a_{25} : r_{519}, a_{34} : \\frac{r_{513}}{x_{13}}, a_{35} : \\frac{r_{514}}{x_{13}}, a_{45} : \\frac{r_{517} x_{13} x_{35} - r_{511} x_{25}}{x_{13} x_{24} x_{35}}\\right\\}\\right]"
      ]
     },
     "execution_count": 13,
     "metadata": {},
     "output_type": "execute_result"
    }
   ],
   "source": [
    "#x1\n",
    "reset()\n",
    "\n",
    "var('x12,x13,x14,x15,x23,x24,x25,x34,x35,x45')\n",
    "var('d1,d2,d3,d4,d5')\n",
    "var('a12,a13,a14,a15,a23,a24,a25,a34,a35,a45')\n",
    "\n",
    "load_attach_path('C:\\\\Users\\\\julia\\\\Documents\\\\unb\\\\doutorado\\\\pensar\\\\codigo_sage_v2\\\\maquina\\\\x1')\n",
    "load('out_#111100.sage')\n",
    "\n",
    "m=matrix(QQ, [[0, 0, 1, 0, 0],\n",
    "              [0, 0, 0, 1, 0],\n",
    "              [0, 0, 0, 0, 1],\n",
    "              [0, 0, 0, 0, 0],\n",
    "              [0, 0, 0, 0, 0]])\n",
    "        \n",
    "#entry of matrix: (i,j) line i collum j, means (i-1,j-1)\n",
    "sol=solve([ \teq1==m[0,2],\teq2==m[0,3],\teq3==m[0,4],\t\n",
    "                                            eq4==m[1,3],    eq5==m[1,4],\n",
    "                                                            eq6==m[2,4]],d1,d2,d3,d4,d5,a12,a13,a14,a15,a23,a24,a25,a34,a35,a45, solution_dict=True)\n",
    "\n",
    "show(m)\n",
    "show(sol)\n",
    "latex(sol)"
   ]
  },
  {
   "cell_type": "code",
   "execution_count": 14,
   "metadata": {},
   "outputs": [
    {
     "data": {
      "text/html": [
       "<html><script type=\"math/tex; mode=display\">\\newcommand{\\Bold}[1]{\\mathbf{#1}}\\left(\\begin{array}{rrrrr}\n",
       "0 & 0 & 1 & 0 & 0 \\\\\n",
       "0 & 0 & 0 & 1 & 0 \\\\\n",
       "0 & 0 & 0 & 0 & 1 \\\\\n",
       "0 & 0 & 0 & 0 & 0 \\\\\n",
       "0 & 0 & 0 & 0 & 0\n",
       "\\end{array}\\right)</script></html>"
      ],
      "text/latex": [
       "$$\\newcommand{\\Bold}[1]{\\mathbf{#1}}\\left(\\begin{array}{rrrrr}\n",
       "0 & 0 & 1 & 0 & 0 \\\\\n",
       "0 & 0 & 0 & 1 & 0 \\\\\n",
       "0 & 0 & 0 & 0 & 1 \\\\\n",
       "0 & 0 & 0 & 0 & 0 \\\\\n",
       "0 & 0 & 0 & 0 & 0\n",
       "\\end{array}\\right)$$"
      ],
      "text/plain": [
       "[0 0 1 0 0]\n",
       "[0 0 0 1 0]\n",
       "[0 0 0 0 1]\n",
       "[0 0 0 0 0]\n",
       "[0 0 0 0 0]"
      ]
     },
     "metadata": {},
     "output_type": "display_data"
    },
    {
     "data": {
      "text/html": [
       "<html><script type=\"math/tex; mode=display\">\\newcommand{\\Bold}[1]{\\mathbf{#1}}\\left[\\left\\{d_{1} : r_{520}, d_{2} : 0, d_{3} : \\frac{r_{520}}{x_{13}}, d_{4} : 0, d_{5} : \\frac{r_{520}}{x_{13} x_{35}}, a_{12} : r_{521}, a_{13} : r_{522}, a_{14} : r_{523}, a_{15} : r_{524}, a_{23} : r_{525}, a_{24} : r_{526}, a_{25} : r_{527}, a_{34} : r_{528}, a_{35} : r_{529}, a_{45} : \\frac{r_{525} x_{13} x_{35} - r_{520} x_{25}}{x_{13} x_{24} x_{35}}\\right\\}, \\left\\{d_{1} : 0, d_{2} : r_{530}, d_{3} : 0, d_{4} : \\frac{r_{530}}{x_{24}}, d_{5} : 0, a_{12} : r_{531}, a_{13} : r_{532}, a_{14} : r_{533}, a_{15} : r_{534}, a_{23} : r_{535}, a_{24} : r_{536}, a_{25} : r_{537}, a_{34} : \\frac{r_{531}}{x_{13}}, a_{35} : r_{538}, a_{45} : r_{539}\\right\\}, \\left\\{d_{1} : 0, d_{2} : 0, d_{3} : 0, d_{4} : 0, d_{5} : 0, a_{12} : r_{540}, a_{13} : r_{541}, a_{14} : r_{542}, a_{15} : r_{543}, a_{23} : r_{544}, a_{24} : r_{545}, a_{25} : r_{546}, a_{34} : r_{547}, a_{35} : r_{548}, a_{45} : r_{549}\\right\\}, \\left\\{d_{1} : r_{550}, d_{2} : r_{551}, d_{3} : \\frac{r_{550}}{x_{13}}, d_{4} : \\frac{r_{551}}{x_{24}}, d_{5} : \\frac{r_{550}}{x_{13} x_{35}}, a_{12} : r_{552}, a_{13} : r_{553}, a_{14} : r_{554}, a_{15} : r_{555}, a_{23} : r_{556}, a_{24} : r_{557}, a_{25} : r_{558}, a_{34} : \\frac{r_{552}}{x_{13}}, a_{35} : \\frac{r_{553} x_{13} x_{35} - r_{550} x_{15}}{x_{13}^{2} x_{35}}, a_{45} : \\frac{r_{556} x_{13} x_{35} - r_{550} x_{25}}{x_{13} x_{24} x_{35}}\\right\\}\\right]</script></html>"
      ],
      "text/latex": [
       "$$\\newcommand{\\Bold}[1]{\\mathbf{#1}}\\left[\\left\\{d_{1} : r_{520}, d_{2} : 0, d_{3} : \\frac{r_{520}}{x_{13}}, d_{4} : 0, d_{5} : \\frac{r_{520}}{x_{13} x_{35}}, a_{12} : r_{521}, a_{13} : r_{522}, a_{14} : r_{523}, a_{15} : r_{524}, a_{23} : r_{525}, a_{24} : r_{526}, a_{25} : r_{527}, a_{34} : r_{528}, a_{35} : r_{529}, a_{45} : \\frac{r_{525} x_{13} x_{35} - r_{520} x_{25}}{x_{13} x_{24} x_{35}}\\right\\}, \\left\\{d_{1} : 0, d_{2} : r_{530}, d_{3} : 0, d_{4} : \\frac{r_{530}}{x_{24}}, d_{5} : 0, a_{12} : r_{531}, a_{13} : r_{532}, a_{14} : r_{533}, a_{15} : r_{534}, a_{23} : r_{535}, a_{24} : r_{536}, a_{25} : r_{537}, a_{34} : \\frac{r_{531}}{x_{13}}, a_{35} : r_{538}, a_{45} : r_{539}\\right\\}, \\left\\{d_{1} : 0, d_{2} : 0, d_{3} : 0, d_{4} : 0, d_{5} : 0, a_{12} : r_{540}, a_{13} : r_{541}, a_{14} : r_{542}, a_{15} : r_{543}, a_{23} : r_{544}, a_{24} : r_{545}, a_{25} : r_{546}, a_{34} : r_{547}, a_{35} : r_{548}, a_{45} : r_{549}\\right\\}, \\left\\{d_{1} : r_{550}, d_{2} : r_{551}, d_{3} : \\frac{r_{550}}{x_{13}}, d_{4} : \\frac{r_{551}}{x_{24}}, d_{5} : \\frac{r_{550}}{x_{13} x_{35}}, a_{12} : r_{552}, a_{13} : r_{553}, a_{14} : r_{554}, a_{15} : r_{555}, a_{23} : r_{556}, a_{24} : r_{557}, a_{25} : r_{558}, a_{34} : \\frac{r_{552}}{x_{13}}, a_{35} : \\frac{r_{553} x_{13} x_{35} - r_{550} x_{15}}{x_{13}^{2} x_{35}}, a_{45} : \\frac{r_{556} x_{13} x_{35} - r_{550} x_{25}}{x_{13} x_{24} x_{35}}\\right\\}\\right]$$"
      ],
      "text/plain": [
       "[{d1: r520,\n",
       "  d2: 0,\n",
       "  d3: r520/x13,\n",
       "  d4: 0,\n",
       "  d5: r520/(x13*x35),\n",
       "  a12: r521,\n",
       "  a13: r522,\n",
       "  a14: r523,\n",
       "  a15: r524,\n",
       "  a23: r525,\n",
       "  a24: r526,\n",
       "  a25: r527,\n",
       "  a34: r528,\n",
       "  a35: r529,\n",
       "  a45: (r525*x13*x35 - r520*x25)/(x13*x24*x35)},\n",
       " {d1: 0,\n",
       "  d2: r530,\n",
       "  d3: 0,\n",
       "  d4: r530/x24,\n",
       "  d5: 0,\n",
       "  a12: r531,\n",
       "  a13: r532,\n",
       "  a14: r533,\n",
       "  a15: r534,\n",
       "  a23: r535,\n",
       "  a24: r536,\n",
       "  a25: r537,\n",
       "  a34: r531/x13,\n",
       "  a35: r538,\n",
       "  a45: r539},\n",
       " {d1: 0,\n",
       "  d2: 0,\n",
       "  d3: 0,\n",
       "  d4: 0,\n",
       "  d5: 0,\n",
       "  a12: r540,\n",
       "  a13: r541,\n",
       "  a14: r542,\n",
       "  a15: r543,\n",
       "  a23: r544,\n",
       "  a24: r545,\n",
       "  a25: r546,\n",
       "  a34: r547,\n",
       "  a35: r548,\n",
       "  a45: r549},\n",
       " {d1: r550,\n",
       "  d2: r551,\n",
       "  d3: r550/x13,\n",
       "  d4: r551/x24,\n",
       "  d5: r550/(x13*x35),\n",
       "  a12: r552,\n",
       "  a13: r553,\n",
       "  a14: r554,\n",
       "  a15: r555,\n",
       "  a23: r556,\n",
       "  a24: r557,\n",
       "  a25: r558,\n",
       "  a34: r552/x13,\n",
       "  a35: (r553*x13*x35 - r550*x15)/(x13^2*x35),\n",
       "  a45: (r556*x13*x35 - r550*x25)/(x13*x24*x35)}]"
      ]
     },
     "metadata": {},
     "output_type": "display_data"
    },
    {
     "data": {
      "text/plain": [
       "\\left[\\left\\{d_{1} : r_{520}, d_{2} : 0, d_{3} : \\frac{r_{520}}{x_{13}}, d_{4} : 0, d_{5} : \\frac{r_{520}}{x_{13} x_{35}}, a_{12} : r_{521}, a_{13} : r_{522}, a_{14} : r_{523}, a_{15} : r_{524}, a_{23} : r_{525}, a_{24} : r_{526}, a_{25} : r_{527}, a_{34} : r_{528}, a_{35} : r_{529}, a_{45} : \\frac{r_{525} x_{13} x_{35} - r_{520} x_{25}}{x_{13} x_{24} x_{35}}\\right\\}, \\left\\{d_{1} : 0, d_{2} : r_{530}, d_{3} : 0, d_{4} : \\frac{r_{530}}{x_{24}}, d_{5} : 0, a_{12} : r_{531}, a_{13} : r_{532}, a_{14} : r_{533}, a_{15} : r_{534}, a_{23} : r_{535}, a_{24} : r_{536}, a_{25} : r_{537}, a_{34} : \\frac{r_{531}}{x_{13}}, a_{35} : r_{538}, a_{45} : r_{539}\\right\\}, \\left\\{d_{1} : 0, d_{2} : 0, d_{3} : 0, d_{4} : 0, d_{5} : 0, a_{12} : r_{540}, a_{13} : r_{541}, a_{14} : r_{542}, a_{15} : r_{543}, a_{23} : r_{544}, a_{24} : r_{545}, a_{25} : r_{546}, a_{34} : r_{547}, a_{35} : r_{548}, a_{45} : r_{549}\\right\\}, \\left\\{d_{1} : r_{550}, d_{2} : r_{551}, d_{3} : \\frac{r_{550}}{x_{13}}, d_{4} : \\frac{r_{551}}{x_{24}}, d_{5} : \\frac{r_{550}}{x_{13} x_{35}}, a_{12} : r_{552}, a_{13} : r_{553}, a_{14} : r_{554}, a_{15} : r_{555}, a_{23} : r_{556}, a_{24} : r_{557}, a_{25} : r_{558}, a_{34} : \\frac{r_{552}}{x_{13}}, a_{35} : \\frac{r_{553} x_{13} x_{35} - r_{550} x_{15}}{x_{13}^{2} x_{35}}, a_{45} : \\frac{r_{556} x_{13} x_{35} - r_{550} x_{25}}{x_{13} x_{24} x_{35}}\\right\\}\\right]"
      ]
     },
     "execution_count": 14,
     "metadata": {},
     "output_type": "execute_result"
    }
   ],
   "source": [
    "#x1\n",
    "reset()\n",
    "\n",
    "var('x12,x13,x14,x15,x23,x24,x25,x34,x35,x45')\n",
    "var('d1,d2,d3,d4,d5')\n",
    "var('a12,a13,a14,a15,a23,a24,a25,a34,a35,a45')\n",
    "\n",
    "load_attach_path('C:\\\\Users\\\\julia\\\\Documents\\\\unb\\\\doutorado\\\\pensar\\\\codigo_sage_v2\\\\maquina\\\\x1')\n",
    "load('out_#111101.sage')\n",
    "\n",
    "m=matrix(QQ, [[0, 0, 1, 0, 0],\n",
    "              [0, 0, 0, 1, 0],\n",
    "              [0, 0, 0, 0, 1],\n",
    "              [0, 0, 0, 0, 0],\n",
    "              [0, 0, 0, 0, 0]])\n",
    "        \n",
    "#entry of matrix: (i,j) line i collum j, means (i-1,j-1)\n",
    "sol=solve([ \teq1==m[0,2],\teq2==m[0,3],\teq3==m[0,4],\t\n",
    "                                            eq4==m[1,3],    eq5==m[1,4],\n",
    "                                                            eq6==m[2,4]],d1,d2,d3,d4,d5,a12,a13,a14,a15,a23,a24,a25,a34,a35,a45, solution_dict=True)\n",
    "\n",
    "show(m)\n",
    "show(sol)\n",
    "latex(sol)"
   ]
  },
  {
   "cell_type": "code",
   "execution_count": 15,
   "metadata": {},
   "outputs": [
    {
     "data": {
      "text/html": [
       "<html><script type=\"math/tex; mode=display\">\\newcommand{\\Bold}[1]{\\mathbf{#1}}\\left(\\begin{array}{rrrrr}\n",
       "0 & 0 & 1 & 0 & 0 \\\\\n",
       "0 & 0 & 0 & 1 & 0 \\\\\n",
       "0 & 0 & 0 & 0 & 1 \\\\\n",
       "0 & 0 & 0 & 0 & 0 \\\\\n",
       "0 & 0 & 0 & 0 & 0\n",
       "\\end{array}\\right)</script></html>"
      ],
      "text/latex": [
       "$$\\newcommand{\\Bold}[1]{\\mathbf{#1}}\\left(\\begin{array}{rrrrr}\n",
       "0 & 0 & 1 & 0 & 0 \\\\\n",
       "0 & 0 & 0 & 1 & 0 \\\\\n",
       "0 & 0 & 0 & 0 & 1 \\\\\n",
       "0 & 0 & 0 & 0 & 0 \\\\\n",
       "0 & 0 & 0 & 0 & 0\n",
       "\\end{array}\\right)$$"
      ],
      "text/plain": [
       "[0 0 1 0 0]\n",
       "[0 0 0 1 0]\n",
       "[0 0 0 0 1]\n",
       "[0 0 0 0 0]\n",
       "[0 0 0 0 0]"
      ]
     },
     "metadata": {},
     "output_type": "display_data"
    },
    {
     "data": {
      "text/html": [
       "<html><script type=\"math/tex; mode=display\">\\newcommand{\\Bold}[1]{\\mathbf{#1}}\\left[\\left\\{d_{1} : r_{559}, d_{2} : 0, d_{3} : \\frac{r_{559}}{x_{13}}, d_{4} : 0, d_{5} : \\frac{r_{559}}{x_{13} x_{35}}, a_{12} : r_{560}, a_{13} : r_{561}, a_{14} : r_{562}, a_{15} : r_{563}, a_{23} : r_{564}, a_{24} : r_{565}, a_{25} : r_{566}, a_{34} : r_{567}, a_{35} : r_{568}, a_{45} : \\frac{r_{564} x_{13} x_{35} - r_{559} x_{25}}{x_{13} x_{24} x_{35}}\\right\\}, \\left\\{d_{1} : 0, d_{2} : r_{569}, d_{3} : 0, d_{4} : \\frac{r_{569}}{x_{24}}, d_{5} : 0, a_{12} : r_{570}, a_{13} : r_{571}, a_{14} : r_{572}, a_{15} : r_{573}, a_{23} : r_{574}, a_{24} : r_{575}, a_{25} : r_{576}, a_{34} : -\\frac{r_{569} x_{14} - r_{570} x_{24}}{x_{13} x_{24}}, a_{35} : r_{577}, a_{45} : r_{578}\\right\\}, \\left\\{d_{1} : 0, d_{2} : 0, d_{3} : 0, d_{4} : 0, d_{5} : 0, a_{12} : r_{579}, a_{13} : r_{580}, a_{14} : r_{581}, a_{15} : r_{582}, a_{23} : r_{583}, a_{24} : r_{584}, a_{25} : r_{585}, a_{34} : r_{586}, a_{35} : r_{587}, a_{45} : r_{588}\\right\\}, \\left\\{d_{1} : r_{589}, d_{2} : r_{590}, d_{3} : \\frac{r_{589}}{x_{13}}, d_{4} : \\frac{r_{590}}{x_{24}}, d_{5} : \\frac{r_{589}}{x_{13} x_{35}}, a_{12} : r_{591}, a_{13} : r_{592}, a_{14} : r_{593}, a_{15} : r_{594}, a_{23} : r_{595}, a_{24} : r_{596}, a_{25} : r_{597}, a_{34} : -\\frac{r_{590} x_{14} - r_{591} x_{24}}{x_{13} x_{24}}, a_{35} : \\frac{r_{589} x_{14} x_{25} - {\\left(r_{595} x_{13} x_{14} - r_{592} x_{13} x_{24}\\right)} x_{35}}{x_{13}^{2} x_{24} x_{35}}, a_{45} : \\frac{r_{595} x_{13} x_{35} - r_{589} x_{25}}{x_{13} x_{24} x_{35}}\\right\\}\\right]</script></html>"
      ],
      "text/latex": [
       "$$\\newcommand{\\Bold}[1]{\\mathbf{#1}}\\left[\\left\\{d_{1} : r_{559}, d_{2} : 0, d_{3} : \\frac{r_{559}}{x_{13}}, d_{4} : 0, d_{5} : \\frac{r_{559}}{x_{13} x_{35}}, a_{12} : r_{560}, a_{13} : r_{561}, a_{14} : r_{562}, a_{15} : r_{563}, a_{23} : r_{564}, a_{24} : r_{565}, a_{25} : r_{566}, a_{34} : r_{567}, a_{35} : r_{568}, a_{45} : \\frac{r_{564} x_{13} x_{35} - r_{559} x_{25}}{x_{13} x_{24} x_{35}}\\right\\}, \\left\\{d_{1} : 0, d_{2} : r_{569}, d_{3} : 0, d_{4} : \\frac{r_{569}}{x_{24}}, d_{5} : 0, a_{12} : r_{570}, a_{13} : r_{571}, a_{14} : r_{572}, a_{15} : r_{573}, a_{23} : r_{574}, a_{24} : r_{575}, a_{25} : r_{576}, a_{34} : -\\frac{r_{569} x_{14} - r_{570} x_{24}}{x_{13} x_{24}}, a_{35} : r_{577}, a_{45} : r_{578}\\right\\}, \\left\\{d_{1} : 0, d_{2} : 0, d_{3} : 0, d_{4} : 0, d_{5} : 0, a_{12} : r_{579}, a_{13} : r_{580}, a_{14} : r_{581}, a_{15} : r_{582}, a_{23} : r_{583}, a_{24} : r_{584}, a_{25} : r_{585}, a_{34} : r_{586}, a_{35} : r_{587}, a_{45} : r_{588}\\right\\}, \\left\\{d_{1} : r_{589}, d_{2} : r_{590}, d_{3} : \\frac{r_{589}}{x_{13}}, d_{4} : \\frac{r_{590}}{x_{24}}, d_{5} : \\frac{r_{589}}{x_{13} x_{35}}, a_{12} : r_{591}, a_{13} : r_{592}, a_{14} : r_{593}, a_{15} : r_{594}, a_{23} : r_{595}, a_{24} : r_{596}, a_{25} : r_{597}, a_{34} : -\\frac{r_{590} x_{14} - r_{591} x_{24}}{x_{13} x_{24}}, a_{35} : \\frac{r_{589} x_{14} x_{25} - {\\left(r_{595} x_{13} x_{14} - r_{592} x_{13} x_{24}\\right)} x_{35}}{x_{13}^{2} x_{24} x_{35}}, a_{45} : \\frac{r_{595} x_{13} x_{35} - r_{589} x_{25}}{x_{13} x_{24} x_{35}}\\right\\}\\right]$$"
      ],
      "text/plain": [
       "[{d1: r559,\n",
       "  d2: 0,\n",
       "  d3: r559/x13,\n",
       "  d4: 0,\n",
       "  d5: r559/(x13*x35),\n",
       "  a12: r560,\n",
       "  a13: r561,\n",
       "  a14: r562,\n",
       "  a15: r563,\n",
       "  a23: r564,\n",
       "  a24: r565,\n",
       "  a25: r566,\n",
       "  a34: r567,\n",
       "  a35: r568,\n",
       "  a45: (r564*x13*x35 - r559*x25)/(x13*x24*x35)},\n",
       " {d1: 0,\n",
       "  d2: r569,\n",
       "  d3: 0,\n",
       "  d4: r569/x24,\n",
       "  d5: 0,\n",
       "  a12: r570,\n",
       "  a13: r571,\n",
       "  a14: r572,\n",
       "  a15: r573,\n",
       "  a23: r574,\n",
       "  a24: r575,\n",
       "  a25: r576,\n",
       "  a34: -(r569*x14 - r570*x24)/(x13*x24),\n",
       "  a35: r577,\n",
       "  a45: r578},\n",
       " {d1: 0,\n",
       "  d2: 0,\n",
       "  d3: 0,\n",
       "  d4: 0,\n",
       "  d5: 0,\n",
       "  a12: r579,\n",
       "  a13: r580,\n",
       "  a14: r581,\n",
       "  a15: r582,\n",
       "  a23: r583,\n",
       "  a24: r584,\n",
       "  a25: r585,\n",
       "  a34: r586,\n",
       "  a35: r587,\n",
       "  a45: r588},\n",
       " {d1: r589,\n",
       "  d2: r590,\n",
       "  d3: r589/x13,\n",
       "  d4: r590/x24,\n",
       "  d5: r589/(x13*x35),\n",
       "  a12: r591,\n",
       "  a13: r592,\n",
       "  a14: r593,\n",
       "  a15: r594,\n",
       "  a23: r595,\n",
       "  a24: r596,\n",
       "  a25: r597,\n",
       "  a34: -(r590*x14 - r591*x24)/(x13*x24),\n",
       "  a35: (r589*x14*x25 - (r595*x13*x14 - r592*x13*x24)*x35)/(x13^2*x24*x35),\n",
       "  a45: (r595*x13*x35 - r589*x25)/(x13*x24*x35)}]"
      ]
     },
     "metadata": {},
     "output_type": "display_data"
    },
    {
     "data": {
      "text/plain": [
       "\\left[\\left\\{d_{1} : r_{559}, d_{2} : 0, d_{3} : \\frac{r_{559}}{x_{13}}, d_{4} : 0, d_{5} : \\frac{r_{559}}{x_{13} x_{35}}, a_{12} : r_{560}, a_{13} : r_{561}, a_{14} : r_{562}, a_{15} : r_{563}, a_{23} : r_{564}, a_{24} : r_{565}, a_{25} : r_{566}, a_{34} : r_{567}, a_{35} : r_{568}, a_{45} : \\frac{r_{564} x_{13} x_{35} - r_{559} x_{25}}{x_{13} x_{24} x_{35}}\\right\\}, \\left\\{d_{1} : 0, d_{2} : r_{569}, d_{3} : 0, d_{4} : \\frac{r_{569}}{x_{24}}, d_{5} : 0, a_{12} : r_{570}, a_{13} : r_{571}, a_{14} : r_{572}, a_{15} : r_{573}, a_{23} : r_{574}, a_{24} : r_{575}, a_{25} : r_{576}, a_{34} : -\\frac{r_{569} x_{14} - r_{570} x_{24}}{x_{13} x_{24}}, a_{35} : r_{577}, a_{45} : r_{578}\\right\\}, \\left\\{d_{1} : 0, d_{2} : 0, d_{3} : 0, d_{4} : 0, d_{5} : 0, a_{12} : r_{579}, a_{13} : r_{580}, a_{14} : r_{581}, a_{15} : r_{582}, a_{23} : r_{583}, a_{24} : r_{584}, a_{25} : r_{585}, a_{34} : r_{586}, a_{35} : r_{587}, a_{45} : r_{588}\\right\\}, \\left\\{d_{1} : r_{589}, d_{2} : r_{590}, d_{3} : \\frac{r_{589}}{x_{13}}, d_{4} : \\frac{r_{590}}{x_{24}}, d_{5} : \\frac{r_{589}}{x_{13} x_{35}}, a_{12} : r_{591}, a_{13} : r_{592}, a_{14} : r_{593}, a_{15} : r_{594}, a_{23} : r_{595}, a_{24} : r_{596}, a_{25} : r_{597}, a_{34} : -\\frac{r_{590} x_{14} - r_{591} x_{24}}{x_{13} x_{24}}, a_{35} : \\frac{r_{589} x_{14} x_{25} - {\\left(r_{595} x_{13} x_{14} - r_{592} x_{13} x_{24}\\right)} x_{35}}{x_{13}^{2} x_{24} x_{35}}, a_{45} : \\frac{r_{595} x_{13} x_{35} - r_{589} x_{25}}{x_{13} x_{24} x_{35}}\\right\\}\\right]"
      ]
     },
     "execution_count": 15,
     "metadata": {},
     "output_type": "execute_result"
    }
   ],
   "source": [
    "#x1\n",
    "reset()\n",
    "\n",
    "var('x12,x13,x14,x15,x23,x24,x25,x34,x35,x45')\n",
    "var('d1,d2,d3,d4,d5')\n",
    "var('a12,a13,a14,a15,a23,a24,a25,a34,a35,a45')\n",
    "\n",
    "load_attach_path('C:\\\\Users\\\\julia\\\\Documents\\\\unb\\\\doutorado\\\\pensar\\\\codigo_sage_v2\\\\maquina\\\\x1')\n",
    "load('out_#111110.sage')\n",
    "\n",
    "m=matrix(QQ, [[0, 0, 1, 0, 0],\n",
    "              [0, 0, 0, 1, 0],\n",
    "              [0, 0, 0, 0, 1],\n",
    "              [0, 0, 0, 0, 0],\n",
    "              [0, 0, 0, 0, 0]])\n",
    "        \n",
    "#entry of matrix: (i,j) line i collum j, means (i-1,j-1)\n",
    "sol=solve([ \teq1==m[0,2],\teq2==m[0,3],\teq3==m[0,4],\t\n",
    "                                            eq4==m[1,3],    eq5==m[1,4],\n",
    "                                                            eq6==m[2,4]],d1,d2,d3,d4,d5,a12,a13,a14,a15,a23,a24,a25,a34,a35,a45, solution_dict=True)\n",
    "\n",
    "show(m)\n",
    "show(sol)\n",
    "latex(sol)"
   ]
  },
  {
   "cell_type": "code",
   "execution_count": 1,
   "metadata": {
    "scrolled": true
   },
   "outputs": [
    {
     "data": {
      "text/html": [
       "<html><script type=\"math/tex; mode=display\">\\newcommand{\\Bold}[1]{\\mathbf{#1}}\\left[\\left\\{d_{1} : r_{1}, d_{2} : 0, d_{3} : \\frac{r_{1}}{x_{13}}, d_{4} : 0, d_{5} : \\frac{r_{1}}{x_{13} x_{35}}, a_{12} : r_{2}, a_{13} : r_{3}, a_{14} : r_{4}, a_{15} : r_{5}, a_{23} : r_{6}, a_{24} : r_{7}, a_{25} : r_{8}, a_{34} : r_{9}, a_{35} : r_{10}, a_{45} : \\frac{r_{6} x_{13} x_{35} - r_{1} x_{25}}{x_{13} x_{24} x_{35}}\\right\\}, \\left\\{d_{1} : 0, d_{2} : r_{11}, d_{3} : 0, d_{4} : \\frac{r_{11}}{x_{24}}, d_{5} : 0, a_{12} : r_{12}, a_{13} : r_{13}, a_{14} : r_{14}, a_{15} : r_{15}, a_{23} : r_{16}, a_{24} : r_{17}, a_{25} : r_{18}, a_{34} : -\\frac{r_{11} x_{14} - r_{12} x_{24}}{x_{13} x_{24}}, a_{35} : r_{19}, a_{45} : r_{20}\\right\\}, \\left\\{d_{1} : 0, d_{2} : 0, d_{3} : 0, d_{4} : 0, d_{5} : 0, a_{12} : r_{21}, a_{13} : r_{22}, a_{14} : r_{23}, a_{15} : r_{24}, a_{23} : r_{25}, a_{24} : r_{26}, a_{25} : r_{27}, a_{34} : r_{28}, a_{35} : r_{29}, a_{45} : r_{30}\\right\\}, \\left\\{d_{1} : r_{31}, d_{2} : r_{32}, d_{3} : \\frac{r_{31}}{x_{13}}, d_{4} : \\frac{r_{32}}{x_{24}}, d_{5} : \\frac{r_{31}}{x_{13} x_{35}}, a_{12} : r_{33}, a_{13} : r_{34}, a_{14} : r_{35}, a_{15} : r_{36}, a_{23} : r_{37}, a_{24} : r_{38}, a_{25} : r_{39}, a_{34} : -\\frac{r_{32} x_{14} - r_{33} x_{24}}{x_{13} x_{24}}, a_{35} : -\\frac{r_{31} x_{15} x_{24} - r_{31} x_{14} x_{25} + {\\left(r_{37} x_{13} x_{14} - r_{34} x_{13} x_{24}\\right)} x_{35}}{x_{13}^{2} x_{24} x_{35}}, a_{45} : \\frac{r_{37} x_{13} x_{35} - r_{31} x_{25}}{x_{13} x_{24} x_{35}}\\right\\}\\right]</script></html>"
      ],
      "text/latex": [
       "$$\\newcommand{\\Bold}[1]{\\mathbf{#1}}\\left[\\left\\{d_{1} : r_{1}, d_{2} : 0, d_{3} : \\frac{r_{1}}{x_{13}}, d_{4} : 0, d_{5} : \\frac{r_{1}}{x_{13} x_{35}}, a_{12} : r_{2}, a_{13} : r_{3}, a_{14} : r_{4}, a_{15} : r_{5}, a_{23} : r_{6}, a_{24} : r_{7}, a_{25} : r_{8}, a_{34} : r_{9}, a_{35} : r_{10}, a_{45} : \\frac{r_{6} x_{13} x_{35} - r_{1} x_{25}}{x_{13} x_{24} x_{35}}\\right\\}, \\left\\{d_{1} : 0, d_{2} : r_{11}, d_{3} : 0, d_{4} : \\frac{r_{11}}{x_{24}}, d_{5} : 0, a_{12} : r_{12}, a_{13} : r_{13}, a_{14} : r_{14}, a_{15} : r_{15}, a_{23} : r_{16}, a_{24} : r_{17}, a_{25} : r_{18}, a_{34} : -\\frac{r_{11} x_{14} - r_{12} x_{24}}{x_{13} x_{24}}, a_{35} : r_{19}, a_{45} : r_{20}\\right\\}, \\left\\{d_{1} : 0, d_{2} : 0, d_{3} : 0, d_{4} : 0, d_{5} : 0, a_{12} : r_{21}, a_{13} : r_{22}, a_{14} : r_{23}, a_{15} : r_{24}, a_{23} : r_{25}, a_{24} : r_{26}, a_{25} : r_{27}, a_{34} : r_{28}, a_{35} : r_{29}, a_{45} : r_{30}\\right\\}, \\left\\{d_{1} : r_{31}, d_{2} : r_{32}, d_{3} : \\frac{r_{31}}{x_{13}}, d_{4} : \\frac{r_{32}}{x_{24}}, d_{5} : \\frac{r_{31}}{x_{13} x_{35}}, a_{12} : r_{33}, a_{13} : r_{34}, a_{14} : r_{35}, a_{15} : r_{36}, a_{23} : r_{37}, a_{24} : r_{38}, a_{25} : r_{39}, a_{34} : -\\frac{r_{32} x_{14} - r_{33} x_{24}}{x_{13} x_{24}}, a_{35} : -\\frac{r_{31} x_{15} x_{24} - r_{31} x_{14} x_{25} + {\\left(r_{37} x_{13} x_{14} - r_{34} x_{13} x_{24}\\right)} x_{35}}{x_{13}^{2} x_{24} x_{35}}, a_{45} : \\frac{r_{37} x_{13} x_{35} - r_{31} x_{25}}{x_{13} x_{24} x_{35}}\\right\\}\\right]$$"
      ],
      "text/plain": [
       "[{d1: r1,\n",
       "  d2: 0,\n",
       "  d3: r1/x13,\n",
       "  d4: 0,\n",
       "  d5: r1/(x13*x35),\n",
       "  a12: r2,\n",
       "  a13: r3,\n",
       "  a14: r4,\n",
       "  a15: r5,\n",
       "  a23: r6,\n",
       "  a24: r7,\n",
       "  a25: r8,\n",
       "  a34: r9,\n",
       "  a35: r10,\n",
       "  a45: (r6*x13*x35 - r1*x25)/(x13*x24*x35)},\n",
       " {d1: 0,\n",
       "  d2: r11,\n",
       "  d3: 0,\n",
       "  d4: r11/x24,\n",
       "  d5: 0,\n",
       "  a12: r12,\n",
       "  a13: r13,\n",
       "  a14: r14,\n",
       "  a15: r15,\n",
       "  a23: r16,\n",
       "  a24: r17,\n",
       "  a25: r18,\n",
       "  a34: -(r11*x14 - r12*x24)/(x13*x24),\n",
       "  a35: r19,\n",
       "  a45: r20},\n",
       " {d1: 0,\n",
       "  d2: 0,\n",
       "  d3: 0,\n",
       "  d4: 0,\n",
       "  d5: 0,\n",
       "  a12: r21,\n",
       "  a13: r22,\n",
       "  a14: r23,\n",
       "  a15: r24,\n",
       "  a23: r25,\n",
       "  a24: r26,\n",
       "  a25: r27,\n",
       "  a34: r28,\n",
       "  a35: r29,\n",
       "  a45: r30},\n",
       " {d1: r31,\n",
       "  d2: r32,\n",
       "  d3: r31/x13,\n",
       "  d4: r32/x24,\n",
       "  d5: r31/(x13*x35),\n",
       "  a12: r33,\n",
       "  a13: r34,\n",
       "  a14: r35,\n",
       "  a15: r36,\n",
       "  a23: r37,\n",
       "  a24: r38,\n",
       "  a25: r39,\n",
       "  a34: -(r32*x14 - r33*x24)/(x13*x24),\n",
       "  a35: -(r31*x15*x24 - r31*x14*x25 + (r37*x13*x14 - r34*x13*x24)*x35)/(x13^2*x24*x35),\n",
       "  a45: (r37*x13*x35 - r31*x25)/(x13*x24*x35)}]"
      ]
     },
     "metadata": {},
     "output_type": "display_data"
    },
    {
     "data": {
      "text/plain": [
       "\\left[\\left\\{d_{1} : r_{1}, d_{2} : 0, d_{3} : \\frac{r_{1}}{x_{13}}, d_{4} : 0, d_{5} : \\frac{r_{1}}{x_{13} x_{35}}, a_{12} : r_{2}, a_{13} : r_{3}, a_{14} : r_{4}, a_{15} : r_{5}, a_{23} : r_{6}, a_{24} : r_{7}, a_{25} : r_{8}, a_{34} : r_{9}, a_{35} : r_{10}, a_{45} : \\frac{r_{6} x_{13} x_{35} - r_{1} x_{25}}{x_{13} x_{24} x_{35}}\\right\\}, \\left\\{d_{1} : 0, d_{2} : r_{11}, d_{3} : 0, d_{4} : \\frac{r_{11}}{x_{24}}, d_{5} : 0, a_{12} : r_{12}, a_{13} : r_{13}, a_{14} : r_{14}, a_{15} : r_{15}, a_{23} : r_{16}, a_{24} : r_{17}, a_{25} : r_{18}, a_{34} : -\\frac{r_{11} x_{14} - r_{12} x_{24}}{x_{13} x_{24}}, a_{35} : r_{19}, a_{45} : r_{20}\\right\\}, \\left\\{d_{1} : 0, d_{2} : 0, d_{3} : 0, d_{4} : 0, d_{5} : 0, a_{12} : r_{21}, a_{13} : r_{22}, a_{14} : r_{23}, a_{15} : r_{24}, a_{23} : r_{25}, a_{24} : r_{26}, a_{25} : r_{27}, a_{34} : r_{28}, a_{35} : r_{29}, a_{45} : r_{30}\\right\\}, \\left\\{d_{1} : r_{31}, d_{2} : r_{32}, d_{3} : \\frac{r_{31}}{x_{13}}, d_{4} : \\frac{r_{32}}{x_{24}}, d_{5} : \\frac{r_{31}}{x_{13} x_{35}}, a_{12} : r_{33}, a_{13} : r_{34}, a_{14} : r_{35}, a_{15} : r_{36}, a_{23} : r_{37}, a_{24} : r_{38}, a_{25} : r_{39}, a_{34} : -\\frac{r_{32} x_{14} - r_{33} x_{24}}{x_{13} x_{24}}, a_{35} : -\\frac{r_{31} x_{15} x_{24} - r_{31} x_{14} x_{25} + {\\left(r_{37} x_{13} x_{14} - r_{34} x_{13} x_{24}\\right)} x_{35}}{x_{13}^{2} x_{24} x_{35}}, a_{45} : \\frac{r_{37} x_{13} x_{35} - r_{31} x_{25}}{x_{13} x_{24} x_{35}}\\right\\}\\right]"
      ]
     },
     "execution_count": 1,
     "metadata": {},
     "output_type": "execute_result"
    }
   ],
   "source": [
    "#x1\n",
    "reset()\n",
    "var('x12,x13,x14,x15,x23,x24,x25,x34,x35,x45')\n",
    "var('d1,d2,d3,d4,d5')\n",
    "var('a12,a13,a14,a15,a23,a24,a25,a34,a35,a45')\n",
    "\n",
    "#111111\n",
    "eq1=(d3*x13)/(d1) \n",
    "eq2=(a34*d2*x13+d2*d4*x14-a12*d4*x24)/(d1*d2) \n",
    "eq3=(a35*d2*d3*x13+a45*d2*d3*x14+d2*d3*d5*x15-a12*a45*d3*x24-a12*d3*d5*x25+a12*a23*d5*x35-a13*d2*d5*x35)/(d1*d2*d3) \n",
    "eq4=(d4*x24)/(d2) \n",
    "eq5=(a45*d3*x24+d3*d5*x25-a23*d5*x35)/(d2*d3) \n",
    "eq6=(d5*x35)/(d3)\n",
    "\n",
    "sol=solve([eq1==1,eq2==0,eq3==0,eq4==1,eq5==0,eq6==1],d1,d2,d3,d4,d5,a12,a13,a14,a15,a23,a24,a25,a34,a35,a45, solution_dict=True)\n",
    "\n",
    "show(sol)\n",
    "latex(sol)"
   ]
  },
  {
   "cell_type": "code",
   "execution_count": null,
   "metadata": {},
   "outputs": [],
   "source": []
  }
 ],
 "metadata": {
  "kernelspec": {
   "display_name": "SageMath 9.3",
   "language": "sage",
   "name": "sagemath"
  },
  "language_info": {
   "codemirror_mode": {
    "name": "ipython",
    "version": 3
   },
   "file_extension": ".py",
   "mimetype": "text/x-python",
   "name": "python",
   "nbconvert_exporter": "python",
   "pygments_lexer": "ipython3",
   "version": "3.7.10"
  }
 },
 "nbformat": 4,
 "nbformat_minor": 4
}
