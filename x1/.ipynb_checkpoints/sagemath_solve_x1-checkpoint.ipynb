{
 "cells": [
  {
   "cell_type": "code",
   "execution_count": 1,
   "metadata": {
    "scrolled": true
   },
   "outputs": [
    {
     "data": {
      "text/html": [
       "<html><script type=\"math/tex; mode=display\">\\newcommand{\\Bold}[1]{\\mathbf{#1}}\\left(\\begin{array}{rrrrr}\n",
       "0 & 0 & 0 & 0 & 0 \\\\\n",
       "0 & 0 & 0 & 0 & 0 \\\\\n",
       "0 & 0 & 0 & 0 & 0 \\\\\n",
       "0 & 0 & 0 & 0 & 0 \\\\\n",
       "0 & 0 & 0 & 0 & 0\n",
       "\\end{array}\\right)</script></html>"
      ],
      "text/latex": [
       "$$\\newcommand{\\Bold}[1]{\\mathbf{#1}}\\left(\\begin{array}{rrrrr}\n",
       "0 & 0 & 0 & 0 & 0 \\\\\n",
       "0 & 0 & 0 & 0 & 0 \\\\\n",
       "0 & 0 & 0 & 0 & 0 \\\\\n",
       "0 & 0 & 0 & 0 & 0 \\\\\n",
       "0 & 0 & 0 & 0 & 0\n",
       "\\end{array}\\right)$$"
      ],
      "text/plain": [
       "[0 0 0 0 0]\n",
       "[0 0 0 0 0]\n",
       "[0 0 0 0 0]\n",
       "[0 0 0 0 0]\n",
       "[0 0 0 0 0]"
      ]
     },
     "metadata": {},
     "output_type": "display_data"
    },
    {
     "data": {
      "text/html": [
       "<html><script type=\"math/tex; mode=display\">\\newcommand{\\Bold}[1]{\\mathbf{#1}}\\left[\\left\\{d_{1} : r_{15}, d_{2} : r_{14}, d_{3} : r_{13}, d_{4} : r_{12}, d_{5} : r_{11}, a_{12} : r_{10}, a_{13} : r_{9}, a_{14} : r_{8}, a_{15} : r_{7}, a_{23} : r_{6}, a_{24} : r_{5}, a_{25} : r_{4}, a_{34} : r_{3}, a_{35} : r_{2}, a_{45} : r_{1}\\right\\}\\right]</script></html>"
      ],
      "text/latex": [
       "$$\\newcommand{\\Bold}[1]{\\mathbf{#1}}\\left[\\left\\{d_{1} : r_{15}, d_{2} : r_{14}, d_{3} : r_{13}, d_{4} : r_{12}, d_{5} : r_{11}, a_{12} : r_{10}, a_{13} : r_{9}, a_{14} : r_{8}, a_{15} : r_{7}, a_{23} : r_{6}, a_{24} : r_{5}, a_{25} : r_{4}, a_{34} : r_{3}, a_{35} : r_{2}, a_{45} : r_{1}\\right\\}\\right]$$"
      ],
      "text/plain": [
       "[{d1: r15,\n",
       "  d2: r14,\n",
       "  d3: r13,\n",
       "  d4: r12,\n",
       "  d5: r11,\n",
       "  a12: r10,\n",
       "  a13: r9,\n",
       "  a14: r8,\n",
       "  a15: r7,\n",
       "  a23: r6,\n",
       "  a24: r5,\n",
       "  a25: r4,\n",
       "  a34: r3,\n",
       "  a35: r2,\n",
       "  a45: r1}]"
      ]
     },
     "metadata": {},
     "output_type": "display_data"
    },
    {
     "data": {
      "text/plain": [
       "\\left[\\left\\{d_{1} : r_{15}, d_{2} : r_{14}, d_{3} : r_{13}, d_{4} : r_{12}, d_{5} : r_{11}, a_{12} : r_{10}, a_{13} : r_{9}, a_{14} : r_{8}, a_{15} : r_{7}, a_{23} : r_{6}, a_{24} : r_{5}, a_{25} : r_{4}, a_{34} : r_{3}, a_{35} : r_{2}, a_{45} : r_{1}\\right\\}\\right]"
      ]
     },
     "execution_count": 1,
     "metadata": {},
     "output_type": "execute_result"
    }
   ],
   "source": [
    "#x1\n",
    "reset()\n",
    "\n",
    "var('x12,x13,x14,x15,x23,x24,x25,x34,x35,x45')\n",
    "var('d1,d2,d3,d4,d5')\n",
    "var('a12,a13,a14,a15,a23,a24,a25,a34,a35,a45')\n",
    "\n",
    "load_attach_path('C:\\\\Users\\\\julia\\\\Documents\\\\unb\\\\doutorado\\\\pensar\\\\codigo_sage_v2\\\\maquina\\\\x1')\n",
    "load('out_#000000.sage')\n",
    "\n",
    "m=matrix(QQ, [[0, 0, 0, 0, 0],\n",
    "              [0, 0, 0, 0, 0],\n",
    "              [0, 0, 0, 0, 0],\n",
    "              [0, 0, 0, 0, 0],\n",
    "              [0, 0, 0, 0, 0]])\n",
    "        \n",
    "#entry of matrix: (i,j) line i collum j, means (i-1,j-1)\n",
    "sol=solve([ \teq1==m[0,2],\teq2==m[0,3],\teq3==m[0,4],\t\n",
    "                                            eq4==m[1,3],    eq5==m[1,4],\n",
    "                                                            eq6==m[2,4]],d1,d2,d3,d4,d5,a12,a13,a14,a15,a23,a24,a25,a34,a35,a45, solution_dict=True)\n",
    "\n",
    "show(m)\n",
    "show(sol)\n",
    "latex(sol)"
   ]
  },
  {
   "cell_type": "code",
   "execution_count": 2,
   "metadata": {},
   "outputs": [
    {
     "data": {
      "text/html": [
       "<html><script type=\"math/tex; mode=display\">\\newcommand{\\Bold}[1]{\\mathbf{#1}}\\left(\\begin{array}{rrrrr}\n",
       "0 & 0 & 0 & 0 & 1 \\\\\n",
       "0 & 0 & 0 & 0 & 0 \\\\\n",
       "0 & 0 & 0 & 0 & 0 \\\\\n",
       "0 & 0 & 0 & 0 & 0 \\\\\n",
       "0 & 0 & 0 & 0 & 0\n",
       "\\end{array}\\right)</script></html>"
      ],
      "text/latex": [
       "$$\\newcommand{\\Bold}[1]{\\mathbf{#1}}\\left(\\begin{array}{rrrrr}\n",
       "0 & 0 & 0 & 0 & 1 \\\\\n",
       "0 & 0 & 0 & 0 & 0 \\\\\n",
       "0 & 0 & 0 & 0 & 0 \\\\\n",
       "0 & 0 & 0 & 0 & 0 \\\\\n",
       "0 & 0 & 0 & 0 & 0\n",
       "\\end{array}\\right)$$"
      ],
      "text/plain": [
       "[0 0 0 0 1]\n",
       "[0 0 0 0 0]\n",
       "[0 0 0 0 0]\n",
       "[0 0 0 0 0]\n",
       "[0 0 0 0 0]"
      ]
     },
     "metadata": {},
     "output_type": "display_data"
    },
    {
     "data": {
      "text/html": [
       "<html><script type=\"math/tex; mode=display\">\\newcommand{\\Bold}[1]{\\mathbf{#1}}\\left[\\left\\{d_{1} : r_{26} x_{15}, d_{2} : r_{29}, d_{3} : r_{28}, d_{4} : r_{27}, d_{5} : r_{26}, a_{12} : r_{25}, a_{13} : r_{24}, a_{14} : r_{23}, a_{15} : r_{22}, a_{23} : r_{21}, a_{24} : r_{20}, a_{25} : r_{19}, a_{34} : r_{18}, a_{35} : r_{17}, a_{45} : r_{16}\\right\\}\\right]</script></html>"
      ],
      "text/latex": [
       "$$\\newcommand{\\Bold}[1]{\\mathbf{#1}}\\left[\\left\\{d_{1} : r_{26} x_{15}, d_{2} : r_{29}, d_{3} : r_{28}, d_{4} : r_{27}, d_{5} : r_{26}, a_{12} : r_{25}, a_{13} : r_{24}, a_{14} : r_{23}, a_{15} : r_{22}, a_{23} : r_{21}, a_{24} : r_{20}, a_{25} : r_{19}, a_{34} : r_{18}, a_{35} : r_{17}, a_{45} : r_{16}\\right\\}\\right]$$"
      ],
      "text/plain": [
       "[{d1: r26*x15,\n",
       "  d2: r29,\n",
       "  d3: r28,\n",
       "  d4: r27,\n",
       "  d5: r26,\n",
       "  a12: r25,\n",
       "  a13: r24,\n",
       "  a14: r23,\n",
       "  a15: r22,\n",
       "  a23: r21,\n",
       "  a24: r20,\n",
       "  a25: r19,\n",
       "  a34: r18,\n",
       "  a35: r17,\n",
       "  a45: r16}]"
      ]
     },
     "metadata": {},
     "output_type": "display_data"
    },
    {
     "data": {
      "text/plain": [
       "\\left[\\left\\{d_{1} : r_{26} x_{15}, d_{2} : r_{29}, d_{3} : r_{28}, d_{4} : r_{27}, d_{5} : r_{26}, a_{12} : r_{25}, a_{13} : r_{24}, a_{14} : r_{23}, a_{15} : r_{22}, a_{23} : r_{21}, a_{24} : r_{20}, a_{25} : r_{19}, a_{34} : r_{18}, a_{35} : r_{17}, a_{45} : r_{16}\\right\\}\\right]"
      ]
     },
     "execution_count": 2,
     "metadata": {},
     "output_type": "execute_result"
    }
   ],
   "source": [
    "#x1\n",
    "reset()\n",
    "\n",
    "var('x12,x13,x14,x15,x23,x24,x25,x34,x35,x45')\n",
    "var('d1,d2,d3,d4,d5')\n",
    "var('a12,a13,a14,a15,a23,a24,a25,a34,a35,a45')\n",
    "\n",
    "load_attach_path('C:\\\\Users\\\\julia\\\\Documents\\\\unb\\\\doutorado\\\\pensar\\\\codigo_sage_v2\\\\maquina\\\\x1')\n",
    "load('out_#000001.sage')\n",
    "\n",
    "m=matrix(QQ, [[0, 0, 0, 0, 1],\n",
    "              [0, 0, 0, 0, 0],\n",
    "              [0, 0, 0, 0, 0],\n",
    "              [0, 0, 0, 0, 0],\n",
    "              [0, 0, 0, 0, 0]])\n",
    "        \n",
    "#entry of matrix: (i,j) line i collum j, means (i-1,j-1)\n",
    "sol=solve([ \teq1==m[0,2],\teq2==m[0,3],\teq3==m[0,4],\t\n",
    "                                            eq4==m[1,3],    eq5==m[1,4],\n",
    "                                                            eq6==m[2,4]],d1,d2,d3,d4,d5,a12,a13,a14,a15,a23,a24,a25,a34,a35,a45, solution_dict=True)\n",
    "\n",
    "show(m)\n",
    "show(sol)\n",
    "latex(sol)"
   ]
  },
  {
   "cell_type": "code",
   "execution_count": 3,
   "metadata": {},
   "outputs": [
    {
     "data": {
      "text/html": [
       "<html><script type=\"math/tex; mode=display\">\\newcommand{\\Bold}[1]{\\mathbf{#1}}\\left(\\begin{array}{rrrrr}\n",
       "0 & 0 & 0 & 1 & 0 \\\\\n",
       "0 & 0 & 0 & 0 & 0 \\\\\n",
       "0 & 0 & 0 & 0 & 0 \\\\\n",
       "0 & 0 & 0 & 0 & 0 \\\\\n",
       "0 & 0 & 0 & 0 & 0\n",
       "\\end{array}\\right)</script></html>"
      ],
      "text/latex": [
       "$$\\newcommand{\\Bold}[1]{\\mathbf{#1}}\\left(\\begin{array}{rrrrr}\n",
       "0 & 0 & 0 & 1 & 0 \\\\\n",
       "0 & 0 & 0 & 0 & 0 \\\\\n",
       "0 & 0 & 0 & 0 & 0 \\\\\n",
       "0 & 0 & 0 & 0 & 0 \\\\\n",
       "0 & 0 & 0 & 0 & 0\n",
       "\\end{array}\\right)$$"
      ],
      "text/plain": [
       "[0 0 0 1 0]\n",
       "[0 0 0 0 0]\n",
       "[0 0 0 0 0]\n",
       "[0 0 0 0 0]\n",
       "[0 0 0 0 0]"
      ]
     },
     "metadata": {},
     "output_type": "display_data"
    },
    {
     "data": {
      "text/html": [
       "<html><script type=\"math/tex; mode=display\">\\newcommand{\\Bold}[1]{\\mathbf{#1}}\\left[\\left\\{d_{1} : r_{30}, d_{2} : r_{41}, d_{3} : r_{42}, d_{4} : \\frac{r_{30}}{x_{14}}, d_{5} : r_{40}, a_{12} : r_{39}, a_{13} : r_{38}, a_{14} : r_{37}, a_{15} : r_{36}, a_{23} : r_{35}, a_{24} : r_{34}, a_{25} : r_{33}, a_{34} : r_{32}, a_{35} : r_{31}, a_{45} : 0\\right\\}\\right]</script></html>"
      ],
      "text/latex": [
       "$$\\newcommand{\\Bold}[1]{\\mathbf{#1}}\\left[\\left\\{d_{1} : r_{30}, d_{2} : r_{41}, d_{3} : r_{42}, d_{4} : \\frac{r_{30}}{x_{14}}, d_{5} : r_{40}, a_{12} : r_{39}, a_{13} : r_{38}, a_{14} : r_{37}, a_{15} : r_{36}, a_{23} : r_{35}, a_{24} : r_{34}, a_{25} : r_{33}, a_{34} : r_{32}, a_{35} : r_{31}, a_{45} : 0\\right\\}\\right]$$"
      ],
      "text/plain": [
       "[{d1: r30,\n",
       "  d2: r41,\n",
       "  d3: r42,\n",
       "  d4: r30/x14,\n",
       "  d5: r40,\n",
       "  a12: r39,\n",
       "  a13: r38,\n",
       "  a14: r37,\n",
       "  a15: r36,\n",
       "  a23: r35,\n",
       "  a24: r34,\n",
       "  a25: r33,\n",
       "  a34: r32,\n",
       "  a35: r31,\n",
       "  a45: 0}]"
      ]
     },
     "metadata": {},
     "output_type": "display_data"
    },
    {
     "data": {
      "text/plain": [
       "\\left[\\left\\{d_{1} : r_{30}, d_{2} : r_{41}, d_{3} : r_{42}, d_{4} : \\frac{r_{30}}{x_{14}}, d_{5} : r_{40}, a_{12} : r_{39}, a_{13} : r_{38}, a_{14} : r_{37}, a_{15} : r_{36}, a_{23} : r_{35}, a_{24} : r_{34}, a_{25} : r_{33}, a_{34} : r_{32}, a_{35} : r_{31}, a_{45} : 0\\right\\}\\right]"
      ]
     },
     "execution_count": 3,
     "metadata": {},
     "output_type": "execute_result"
    }
   ],
   "source": [
    "#x1\n",
    "reset()\n",
    "\n",
    "var('x12,x13,x14,x15,x23,x24,x25,x34,x35,x45')\n",
    "var('d1,d2,d3,d4,d5')\n",
    "var('a12,a13,a14,a15,a23,a24,a25,a34,a35,a45')\n",
    "\n",
    "load_attach_path('C:\\\\Users\\\\julia\\\\Documents\\\\unb\\\\doutorado\\\\pensar\\\\codigo_sage_v2\\\\maquina\\\\x1')\n",
    "load('out_#000010.sage')\n",
    "\n",
    "m=matrix(QQ, [[0, 0, 0, 1, 0],\n",
    "              [0, 0, 0, 0, 0],\n",
    "              [0, 0, 0, 0, 0],\n",
    "              [0, 0, 0, 0, 0],\n",
    "              [0, 0, 0, 0, 0]])\n",
    "        \n",
    "#entry of matrix: (i,j) line i collum j, means (i-1,j-1)\n",
    "sol=solve([ \teq1==m[0,2],\teq2==m[0,3],\teq3==m[0,4],\t\n",
    "                                            eq4==m[1,3],    eq5==m[1,4],\n",
    "                                                            eq6==m[2,4]],d1,d2,d3,d4,d5,a12,a13,a14,a15,a23,a24,a25,a34,a35,a45, solution_dict=True)\n",
    "\n",
    "show(m)\n",
    "show(sol)\n",
    "latex(sol)"
   ]
  },
  {
   "cell_type": "code",
   "execution_count": 4,
   "metadata": {},
   "outputs": [
    {
     "data": {
      "text/html": [
       "<html><script type=\"math/tex; mode=display\">\\newcommand{\\Bold}[1]{\\mathbf{#1}}\\left(\\begin{array}{rrrrr}\n",
       "0 & 0 & 0 & 1 & 0 \\\\\n",
       "0 & 0 & 0 & 0 & 0 \\\\\n",
       "0 & 0 & 0 & 0 & 0 \\\\\n",
       "0 & 0 & 0 & 0 & 0 \\\\\n",
       "0 & 0 & 0 & 0 & 0\n",
       "\\end{array}\\right)</script></html>"
      ],
      "text/latex": [
       "$$\\newcommand{\\Bold}[1]{\\mathbf{#1}}\\left(\\begin{array}{rrrrr}\n",
       "0 & 0 & 0 & 1 & 0 \\\\\n",
       "0 & 0 & 0 & 0 & 0 \\\\\n",
       "0 & 0 & 0 & 0 & 0 \\\\\n",
       "0 & 0 & 0 & 0 & 0 \\\\\n",
       "0 & 0 & 0 & 0 & 0\n",
       "\\end{array}\\right)$$"
      ],
      "text/plain": [
       "[0 0 0 1 0]\n",
       "[0 0 0 0 0]\n",
       "[0 0 0 0 0]\n",
       "[0 0 0 0 0]\n",
       "[0 0 0 0 0]"
      ]
     },
     "metadata": {},
     "output_type": "display_data"
    },
    {
     "data": {
      "text/html": [
       "<html><script type=\"math/tex; mode=display\">\\newcommand{\\Bold}[1]{\\mathbf{#1}}\\left[\\left\\{d_{1} : r_{54} x_{14}, d_{2} : r_{53}, d_{3} : r_{55}, d_{4} : r_{54}, d_{5} : -\\frac{r_{43} x_{14}}{x_{15}}, a_{12} : r_{52}, a_{13} : r_{51}, a_{14} : r_{50}, a_{15} : r_{49}, a_{23} : r_{48}, a_{24} : r_{47}, a_{25} : r_{46}, a_{34} : r_{45}, a_{35} : r_{44}, a_{45} : r_{43}\\right\\}\\right]</script></html>"
      ],
      "text/latex": [
       "$$\\newcommand{\\Bold}[1]{\\mathbf{#1}}\\left[\\left\\{d_{1} : r_{54} x_{14}, d_{2} : r_{53}, d_{3} : r_{55}, d_{4} : r_{54}, d_{5} : -\\frac{r_{43} x_{14}}{x_{15}}, a_{12} : r_{52}, a_{13} : r_{51}, a_{14} : r_{50}, a_{15} : r_{49}, a_{23} : r_{48}, a_{24} : r_{47}, a_{25} : r_{46}, a_{34} : r_{45}, a_{35} : r_{44}, a_{45} : r_{43}\\right\\}\\right]$$"
      ],
      "text/plain": [
       "[{d1: r54*x14,\n",
       "  d2: r53,\n",
       "  d3: r55,\n",
       "  d4: r54,\n",
       "  d5: -r43*x14/x15,\n",
       "  a12: r52,\n",
       "  a13: r51,\n",
       "  a14: r50,\n",
       "  a15: r49,\n",
       "  a23: r48,\n",
       "  a24: r47,\n",
       "  a25: r46,\n",
       "  a34: r45,\n",
       "  a35: r44,\n",
       "  a45: r43}]"
      ]
     },
     "metadata": {},
     "output_type": "display_data"
    },
    {
     "data": {
      "text/plain": [
       "\\left[\\left\\{d_{1} : r_{54} x_{14}, d_{2} : r_{53}, d_{3} : r_{55}, d_{4} : r_{54}, d_{5} : -\\frac{r_{43} x_{14}}{x_{15}}, a_{12} : r_{52}, a_{13} : r_{51}, a_{14} : r_{50}, a_{15} : r_{49}, a_{23} : r_{48}, a_{24} : r_{47}, a_{25} : r_{46}, a_{34} : r_{45}, a_{35} : r_{44}, a_{45} : r_{43}\\right\\}\\right]"
      ]
     },
     "execution_count": 4,
     "metadata": {},
     "output_type": "execute_result"
    }
   ],
   "source": [
    "#x1\n",
    "reset()\n",
    "\n",
    "var('x12,x13,x14,x15,x23,x24,x25,x34,x35,x45')\n",
    "var('d1,d2,d3,d4,d5')\n",
    "var('a12,a13,a14,a15,a23,a24,a25,a34,a35,a45')\n",
    "\n",
    "load_attach_path('C:\\\\Users\\\\julia\\\\Documents\\\\unb\\\\doutorado\\\\pensar\\\\codigo_sage_v2\\\\maquina\\\\x1')\n",
    "load('out_#000011.sage')\n",
    "\n",
    "m=matrix(QQ, [[0, 0, 0, 1, 0],\n",
    "              [0, 0, 0, 0, 0],\n",
    "              [0, 0, 0, 0, 0],\n",
    "              [0, 0, 0, 0, 0],\n",
    "              [0, 0, 0, 0, 0]])\n",
    "        \n",
    "#entry of matrix: (i,j) line i collum j, means (i-1,j-1)\n",
    "sol=solve([ \teq1==m[0,2],\teq2==m[0,3],\teq3==m[0,4],\t\n",
    "                                            eq4==m[1,3],    eq5==m[1,4],\n",
    "                                                            eq6==m[2,4]],d1,d2,d3,d4,d5,a12,a13,a14,a15,a23,a24,a25,a34,a35,a45, solution_dict=True)\n",
    "\n",
    "show(m)\n",
    "show(sol)\n",
    "latex(sol)"
   ]
  },
  {
   "cell_type": "code",
   "execution_count": 5,
   "metadata": {},
   "outputs": [
    {
     "data": {
      "text/html": [
       "<html><script type=\"math/tex; mode=display\">\\newcommand{\\Bold}[1]{\\mathbf{#1}}\\left(\\begin{array}{rrrrr}\n",
       "0 & 0 & 1 & 0 & 0 \\\\\n",
       "0 & 0 & 0 & 0 & 0 \\\\\n",
       "0 & 0 & 0 & 0 & 0 \\\\\n",
       "0 & 0 & 0 & 0 & 0 \\\\\n",
       "0 & 0 & 0 & 0 & 0\n",
       "\\end{array}\\right)</script></html>"
      ],
      "text/latex": [
       "$$\\newcommand{\\Bold}[1]{\\mathbf{#1}}\\left(\\begin{array}{rrrrr}\n",
       "0 & 0 & 1 & 0 & 0 \\\\\n",
       "0 & 0 & 0 & 0 & 0 \\\\\n",
       "0 & 0 & 0 & 0 & 0 \\\\\n",
       "0 & 0 & 0 & 0 & 0 \\\\\n",
       "0 & 0 & 0 & 0 & 0\n",
       "\\end{array}\\right)$$"
      ],
      "text/plain": [
       "[0 0 1 0 0]\n",
       "[0 0 0 0 0]\n",
       "[0 0 0 0 0]\n",
       "[0 0 0 0 0]\n",
       "[0 0 0 0 0]"
      ]
     },
     "metadata": {},
     "output_type": "display_data"
    },
    {
     "data": {
      "text/html": [
       "<html><script type=\"math/tex; mode=display\">\\newcommand{\\Bold}[1]{\\mathbf{#1}}\\left[\\left\\{d_{1} : r_{58}, d_{2} : r_{57}, d_{3} : \\frac{r_{58}}{x_{13}}, d_{4} : r_{67}, d_{5} : r_{66}, a_{12} : r_{65}, a_{13} : r_{64}, a_{14} : r_{63}, a_{15} : r_{62}, a_{23} : r_{61}, a_{24} : r_{60}, a_{25} : r_{59}, a_{34} : 0, a_{35} : 0, a_{45} : r_{56}\\right\\}\\right]</script></html>"
      ],
      "text/latex": [
       "$$\\newcommand{\\Bold}[1]{\\mathbf{#1}}\\left[\\left\\{d_{1} : r_{58}, d_{2} : r_{57}, d_{3} : \\frac{r_{58}}{x_{13}}, d_{4} : r_{67}, d_{5} : r_{66}, a_{12} : r_{65}, a_{13} : r_{64}, a_{14} : r_{63}, a_{15} : r_{62}, a_{23} : r_{61}, a_{24} : r_{60}, a_{25} : r_{59}, a_{34} : 0, a_{35} : 0, a_{45} : r_{56}\\right\\}\\right]$$"
      ],
      "text/plain": [
       "[{d1: r58,\n",
       "  d2: r57,\n",
       "  d3: r58/x13,\n",
       "  d4: r67,\n",
       "  d5: r66,\n",
       "  a12: r65,\n",
       "  a13: r64,\n",
       "  a14: r63,\n",
       "  a15: r62,\n",
       "  a23: r61,\n",
       "  a24: r60,\n",
       "  a25: r59,\n",
       "  a34: 0,\n",
       "  a35: 0,\n",
       "  a45: r56}]"
      ]
     },
     "metadata": {},
     "output_type": "display_data"
    },
    {
     "data": {
      "text/plain": [
       "\\left[\\left\\{d_{1} : r_{58}, d_{2} : r_{57}, d_{3} : \\frac{r_{58}}{x_{13}}, d_{4} : r_{67}, d_{5} : r_{66}, a_{12} : r_{65}, a_{13} : r_{64}, a_{14} : r_{63}, a_{15} : r_{62}, a_{23} : r_{61}, a_{24} : r_{60}, a_{25} : r_{59}, a_{34} : 0, a_{35} : 0, a_{45} : r_{56}\\right\\}\\right]"
      ]
     },
     "execution_count": 5,
     "metadata": {},
     "output_type": "execute_result"
    }
   ],
   "source": [
    "#x1\n",
    "reset()\n",
    "\n",
    "var('x12,x13,x14,x15,x23,x24,x25,x34,x35,x45')\n",
    "var('d1,d2,d3,d4,d5')\n",
    "var('a12,a13,a14,a15,a23,a24,a25,a34,a35,a45')\n",
    "\n",
    "load_attach_path('C:\\\\Users\\\\julia\\\\Documents\\\\unb\\\\doutorado\\\\pensar\\\\codigo_sage_v2\\\\maquina\\\\x1')\n",
    "load('out_#000100.sage')\n",
    "\n",
    "m=matrix(QQ, [[0, 0, 1, 0, 0],\n",
    "              [0, 0, 0, 0, 0],\n",
    "              [0, 0, 0, 0, 0],\n",
    "              [0, 0, 0, 0, 0],\n",
    "              [0, 0, 0, 0, 0]])\n",
    "        \n",
    "#entry of matrix: (i,j) line i collum j, means (i-1,j-1)\n",
    "sol=solve([ \teq1==m[0,2],\teq2==m[0,3],\teq3==m[0,4],\t\n",
    "                                            eq4==m[1,3],    eq5==m[1,4],\n",
    "                                                            eq6==m[2,4]],d1,d2,d3,d4,d5,a12,a13,a14,a15,a23,a24,a25,a34,a35,a45, solution_dict=True)\n",
    "\n",
    "show(m)\n",
    "show(sol)\n",
    "latex(sol)"
   ]
  },
  {
   "cell_type": "code",
   "execution_count": 6,
   "metadata": {},
   "outputs": [
    {
     "data": {
      "text/html": [
       "<html><script type=\"math/tex; mode=display\">\\newcommand{\\Bold}[1]{\\mathbf{#1}}\\left(\\begin{array}{rrrrr}\n",
       "0 & 0 & 1 & 0 & 0 \\\\\n",
       "0 & 0 & 0 & 0 & 0 \\\\\n",
       "0 & 0 & 0 & 0 & 0 \\\\\n",
       "0 & 0 & 0 & 0 & 0 \\\\\n",
       "0 & 0 & 0 & 0 & 0\n",
       "\\end{array}\\right)</script></html>"
      ],
      "text/latex": [
       "$$\\newcommand{\\Bold}[1]{\\mathbf{#1}}\\left(\\begin{array}{rrrrr}\n",
       "0 & 0 & 1 & 0 & 0 \\\\\n",
       "0 & 0 & 0 & 0 & 0 \\\\\n",
       "0 & 0 & 0 & 0 & 0 \\\\\n",
       "0 & 0 & 0 & 0 & 0 \\\\\n",
       "0 & 0 & 0 & 0 & 0\n",
       "\\end{array}\\right)$$"
      ],
      "text/plain": [
       "[0 0 1 0 0]\n",
       "[0 0 0 0 0]\n",
       "[0 0 0 0 0]\n",
       "[0 0 0 0 0]\n",
       "[0 0 0 0 0]"
      ]
     },
     "metadata": {},
     "output_type": "display_data"
    },
    {
     "data": {
      "text/html": [
       "<html><script type=\"math/tex; mode=display\">\\newcommand{\\Bold}[1]{\\mathbf{#1}}\\left[\\left\\{d_{1} : r_{70}, d_{2} : r_{69}, d_{3} : \\frac{r_{70}}{x_{13}}, d_{4} : r_{79}, d_{5} : r_{78}, a_{12} : r_{77}, a_{13} : r_{76}, a_{14} : r_{75}, a_{15} : r_{74}, a_{23} : r_{73}, a_{24} : r_{72}, a_{25} : r_{71}, a_{34} : 0, a_{35} : -\\frac{r_{78} x_{15}}{x_{13}}, a_{45} : r_{68}\\right\\}\\right]</script></html>"
      ],
      "text/latex": [
       "$$\\newcommand{\\Bold}[1]{\\mathbf{#1}}\\left[\\left\\{d_{1} : r_{70}, d_{2} : r_{69}, d_{3} : \\frac{r_{70}}{x_{13}}, d_{4} : r_{79}, d_{5} : r_{78}, a_{12} : r_{77}, a_{13} : r_{76}, a_{14} : r_{75}, a_{15} : r_{74}, a_{23} : r_{73}, a_{24} : r_{72}, a_{25} : r_{71}, a_{34} : 0, a_{35} : -\\frac{r_{78} x_{15}}{x_{13}}, a_{45} : r_{68}\\right\\}\\right]$$"
      ],
      "text/plain": [
       "[{d1: r70,\n",
       "  d2: r69,\n",
       "  d3: r70/x13,\n",
       "  d4: r79,\n",
       "  d5: r78,\n",
       "  a12: r77,\n",
       "  a13: r76,\n",
       "  a14: r75,\n",
       "  a15: r74,\n",
       "  a23: r73,\n",
       "  a24: r72,\n",
       "  a25: r71,\n",
       "  a34: 0,\n",
       "  a35: -r78*x15/x13,\n",
       "  a45: r68}]"
      ]
     },
     "metadata": {},
     "output_type": "display_data"
    },
    {
     "data": {
      "text/plain": [
       "\\left[\\left\\{d_{1} : r_{70}, d_{2} : r_{69}, d_{3} : \\frac{r_{70}}{x_{13}}, d_{4} : r_{79}, d_{5} : r_{78}, a_{12} : r_{77}, a_{13} : r_{76}, a_{14} : r_{75}, a_{15} : r_{74}, a_{23} : r_{73}, a_{24} : r_{72}, a_{25} : r_{71}, a_{34} : 0, a_{35} : -\\frac{r_{78} x_{15}}{x_{13}}, a_{45} : r_{68}\\right\\}\\right]"
      ]
     },
     "execution_count": 6,
     "metadata": {},
     "output_type": "execute_result"
    }
   ],
   "source": [
    "#x1\n",
    "reset()\n",
    "\n",
    "var('x12,x13,x14,x15,x23,x24,x25,x34,x35,x45')\n",
    "var('d1,d2,d3,d4,d5')\n",
    "var('a12,a13,a14,a15,a23,a24,a25,a34,a35,a45')\n",
    "\n",
    "load_attach_path('C:\\\\Users\\\\julia\\\\Documents\\\\unb\\\\doutorado\\\\pensar\\\\codigo_sage_v2\\\\maquina\\\\x1')\n",
    "load('out_#000101.sage')\n",
    "\n",
    "m=matrix(QQ, [[0, 0, 1, 0, 0],\n",
    "              [0, 0, 0, 0, 0],\n",
    "              [0, 0, 0, 0, 0],\n",
    "              [0, 0, 0, 0, 0],\n",
    "              [0, 0, 0, 0, 0]])\n",
    "        \n",
    "#entry of matrix: (i,j) line i collum j, means (i-1,j-1)\n",
    "sol=solve([ \teq1==m[0,2],\teq2==m[0,3],\teq3==m[0,4],\t\n",
    "                                            eq4==m[1,3],    eq5==m[1,4],\n",
    "                                                            eq6==m[2,4]],d1,d2,d3,d4,d5,a12,a13,a14,a15,a23,a24,a25,a34,a35,a45, solution_dict=True)\n",
    "\n",
    "show(m)\n",
    "show(sol)\n",
    "latex(sol)"
   ]
  },
  {
   "cell_type": "code",
   "execution_count": 7,
   "metadata": {},
   "outputs": [
    {
     "data": {
      "text/html": [
       "<html><script type=\"math/tex; mode=display\">\\newcommand{\\Bold}[1]{\\mathbf{#1}}\\left(\\begin{array}{rrrrr}\n",
       "0 & 0 & 1 & 0 & 0 \\\\\n",
       "0 & 0 & 0 & 0 & 0 \\\\\n",
       "0 & 0 & 0 & 0 & 0 \\\\\n",
       "0 & 0 & 0 & 0 & 0 \\\\\n",
       "0 & 0 & 0 & 0 & 0\n",
       "\\end{array}\\right)</script></html>"
      ],
      "text/latex": [
       "$$\\newcommand{\\Bold}[1]{\\mathbf{#1}}\\left(\\begin{array}{rrrrr}\n",
       "0 & 0 & 1 & 0 & 0 \\\\\n",
       "0 & 0 & 0 & 0 & 0 \\\\\n",
       "0 & 0 & 0 & 0 & 0 \\\\\n",
       "0 & 0 & 0 & 0 & 0 \\\\\n",
       "0 & 0 & 0 & 0 & 0\n",
       "\\end{array}\\right)$$"
      ],
      "text/plain": [
       "[0 0 1 0 0]\n",
       "[0 0 0 0 0]\n",
       "[0 0 0 0 0]\n",
       "[0 0 0 0 0]\n",
       "[0 0 0 0 0]"
      ]
     },
     "metadata": {},
     "output_type": "display_data"
    },
    {
     "data": {
      "text/html": [
       "<html><script type=\"math/tex; mode=display\">\\newcommand{\\Bold}[1]{\\mathbf{#1}}\\left[\\left\\{d_{1} : r_{80} x_{13}, d_{2} : r_{91}, d_{3} : r_{80}, d_{4} : -\\frac{r_{82} x_{13}}{x_{14}}, d_{5} : r_{90}, a_{12} : r_{89}, a_{13} : r_{88}, a_{14} : r_{87}, a_{15} : r_{86}, a_{23} : r_{85}, a_{24} : r_{84}, a_{25} : r_{83}, a_{34} : r_{82}, a_{35} : r_{81}, a_{45} : -\\frac{r_{81} x_{13}}{x_{14}}\\right\\}\\right]</script></html>"
      ],
      "text/latex": [
       "$$\\newcommand{\\Bold}[1]{\\mathbf{#1}}\\left[\\left\\{d_{1} : r_{80} x_{13}, d_{2} : r_{91}, d_{3} : r_{80}, d_{4} : -\\frac{r_{82} x_{13}}{x_{14}}, d_{5} : r_{90}, a_{12} : r_{89}, a_{13} : r_{88}, a_{14} : r_{87}, a_{15} : r_{86}, a_{23} : r_{85}, a_{24} : r_{84}, a_{25} : r_{83}, a_{34} : r_{82}, a_{35} : r_{81}, a_{45} : -\\frac{r_{81} x_{13}}{x_{14}}\\right\\}\\right]$$"
      ],
      "text/plain": [
       "[{d1: r80*x13,\n",
       "  d2: r91,\n",
       "  d3: r80,\n",
       "  d4: -r82*x13/x14,\n",
       "  d5: r90,\n",
       "  a12: r89,\n",
       "  a13: r88,\n",
       "  a14: r87,\n",
       "  a15: r86,\n",
       "  a23: r85,\n",
       "  a24: r84,\n",
       "  a25: r83,\n",
       "  a34: r82,\n",
       "  a35: r81,\n",
       "  a45: -r81*x13/x14}]"
      ]
     },
     "metadata": {},
     "output_type": "display_data"
    },
    {
     "data": {
      "text/plain": [
       "\\left[\\left\\{d_{1} : r_{80} x_{13}, d_{2} : r_{91}, d_{3} : r_{80}, d_{4} : -\\frac{r_{82} x_{13}}{x_{14}}, d_{5} : r_{90}, a_{12} : r_{89}, a_{13} : r_{88}, a_{14} : r_{87}, a_{15} : r_{86}, a_{23} : r_{85}, a_{24} : r_{84}, a_{25} : r_{83}, a_{34} : r_{82}, a_{35} : r_{81}, a_{45} : -\\frac{r_{81} x_{13}}{x_{14}}\\right\\}\\right]"
      ]
     },
     "execution_count": 7,
     "metadata": {},
     "output_type": "execute_result"
    }
   ],
   "source": [
    "#x1\n",
    "reset()\n",
    "\n",
    "var('x12,x13,x14,x15,x23,x24,x25,x34,x35,x45')\n",
    "var('d1,d2,d3,d4,d5')\n",
    "var('a12,a13,a14,a15,a23,a24,a25,a34,a35,a45')\n",
    "\n",
    "load_attach_path('C:\\\\Users\\\\julia\\\\Documents\\\\unb\\\\doutorado\\\\pensar\\\\codigo_sage_v2\\\\maquina\\\\x1')\n",
    "load('out_#000110.sage')\n",
    "\n",
    "m=matrix(QQ, [[0, 0, 1, 0, 0],\n",
    "              [0, 0, 0, 0, 0],\n",
    "              [0, 0, 0, 0, 0],\n",
    "              [0, 0, 0, 0, 0],\n",
    "              [0, 0, 0, 0, 0]])\n",
    "        \n",
    "#entry of matrix: (i,j) line i collum j, means (i-1,j-1)\n",
    "sol=solve([ \teq1==m[0,2],\teq2==m[0,3],\teq3==m[0,4],\t\n",
    "                                            eq4==m[1,3],    eq5==m[1,4],\n",
    "                                                            eq6==m[2,4]],d1,d2,d3,d4,d5,a12,a13,a14,a15,a23,a24,a25,a34,a35,a45, solution_dict=True)\n",
    "show(m)\n",
    "show(sol)\n",
    "latex(sol)"
   ]
  },
  {
   "cell_type": "code",
   "execution_count": 8,
   "metadata": {},
   "outputs": [
    {
     "data": {
      "text/html": [
       "<html><script type=\"math/tex; mode=display\">\\newcommand{\\Bold}[1]{\\mathbf{#1}}\\left(\\begin{array}{rrrrr}\n",
       "0 & 0 & 1 & 0 & 0 \\\\\n",
       "0 & 0 & 0 & 0 & 0 \\\\\n",
       "0 & 0 & 0 & 0 & 0 \\\\\n",
       "0 & 0 & 0 & 0 & 0 \\\\\n",
       "0 & 0 & 0 & 0 & 0\n",
       "\\end{array}\\right)</script></html>"
      ],
      "text/latex": [
       "$$\\newcommand{\\Bold}[1]{\\mathbf{#1}}\\left(\\begin{array}{rrrrr}\n",
       "0 & 0 & 1 & 0 & 0 \\\\\n",
       "0 & 0 & 0 & 0 & 0 \\\\\n",
       "0 & 0 & 0 & 0 & 0 \\\\\n",
       "0 & 0 & 0 & 0 & 0 \\\\\n",
       "0 & 0 & 0 & 0 & 0\n",
       "\\end{array}\\right)$$"
      ],
      "text/plain": [
       "[0 0 1 0 0]\n",
       "[0 0 0 0 0]\n",
       "[0 0 0 0 0]\n",
       "[0 0 0 0 0]\n",
       "[0 0 0 0 0]"
      ]
     },
     "metadata": {},
     "output_type": "display_data"
    },
    {
     "data": {
      "text/html": [
       "<html><script type=\"math/tex; mode=display\">\\newcommand{\\Bold}[1]{\\mathbf{#1}}\\left[\\left\\{d_{1} : r_{92} x_{13}, d_{2} : r_{103}, d_{3} : r_{92}, d_{4} : -\\frac{r_{94} x_{13}}{x_{14}}, d_{5} : r_{102}, a_{12} : r_{101}, a_{13} : r_{100}, a_{14} : r_{99}, a_{15} : r_{98}, a_{23} : r_{97}, a_{24} : r_{96}, a_{25} : r_{95}, a_{34} : r_{94}, a_{35} : r_{93}, a_{45} : -\\frac{r_{93} x_{13} + r_{102} x_{15}}{x_{14}}\\right\\}\\right]</script></html>"
      ],
      "text/latex": [
       "$$\\newcommand{\\Bold}[1]{\\mathbf{#1}}\\left[\\left\\{d_{1} : r_{92} x_{13}, d_{2} : r_{103}, d_{3} : r_{92}, d_{4} : -\\frac{r_{94} x_{13}}{x_{14}}, d_{5} : r_{102}, a_{12} : r_{101}, a_{13} : r_{100}, a_{14} : r_{99}, a_{15} : r_{98}, a_{23} : r_{97}, a_{24} : r_{96}, a_{25} : r_{95}, a_{34} : r_{94}, a_{35} : r_{93}, a_{45} : -\\frac{r_{93} x_{13} + r_{102} x_{15}}{x_{14}}\\right\\}\\right]$$"
      ],
      "text/plain": [
       "[{d1: r92*x13,\n",
       "  d2: r103,\n",
       "  d3: r92,\n",
       "  d4: -r94*x13/x14,\n",
       "  d5: r102,\n",
       "  a12: r101,\n",
       "  a13: r100,\n",
       "  a14: r99,\n",
       "  a15: r98,\n",
       "  a23: r97,\n",
       "  a24: r96,\n",
       "  a25: r95,\n",
       "  a34: r94,\n",
       "  a35: r93,\n",
       "  a45: -(r93*x13 + r102*x15)/x14}]"
      ]
     },
     "metadata": {},
     "output_type": "display_data"
    },
    {
     "data": {
      "text/plain": [
       "\\left[\\left\\{d_{1} : r_{92} x_{13}, d_{2} : r_{103}, d_{3} : r_{92}, d_{4} : -\\frac{r_{94} x_{13}}{x_{14}}, d_{5} : r_{102}, a_{12} : r_{101}, a_{13} : r_{100}, a_{14} : r_{99}, a_{15} : r_{98}, a_{23} : r_{97}, a_{24} : r_{96}, a_{25} : r_{95}, a_{34} : r_{94}, a_{35} : r_{93}, a_{45} : -\\frac{r_{93} x_{13} + r_{102} x_{15}}{x_{14}}\\right\\}\\right]"
      ]
     },
     "execution_count": 8,
     "metadata": {},
     "output_type": "execute_result"
    }
   ],
   "source": [
    "#x1\n",
    "reset()\n",
    "\n",
    "var('x12,x13,x14,x15,x23,x24,x25,x34,x35,x45')\n",
    "var('d1,d2,d3,d4,d5')\n",
    "var('a12,a13,a14,a15,a23,a24,a25,a34,a35,a45')\n",
    "\n",
    "load_attach_path('C:\\\\Users\\\\julia\\\\Documents\\\\unb\\\\doutorado\\\\pensar\\\\codigo_sage_v2\\\\maquina\\\\x1')\n",
    "load('out_#000111.sage')\n",
    "\n",
    "m=matrix(QQ, [[0, 0, 1, 0, 0],\n",
    "              [0, 0, 0, 0, 0],\n",
    "              [0, 0, 0, 0, 0],\n",
    "              [0, 0, 0, 0, 0],\n",
    "              [0, 0, 0, 0, 0]])\n",
    "        \n",
    "#entry of matrix: (i,j) line i collum j, means (i-1,j-1)\n",
    "sol=solve([ \teq1==m[0,2],\teq2==m[0,3],\teq3==m[0,4],\t\n",
    "                                            eq4==m[1,3],    eq5==m[1,4],\n",
    "                                                            eq6==m[2,4]],d1,d2,d3,d4,d5,a12,a13,a14,a15,a23,a24,a25,a34,a35,a45, solution_dict=True)\n",
    "\n",
    "show(m)\n",
    "show(sol)\n",
    "latex(sol)"
   ]
  },
  {
   "cell_type": "code",
   "execution_count": 9,
   "metadata": {
    "scrolled": true
   },
   "outputs": [
    {
     "data": {
      "text/html": [
       "<html><script type=\"math/tex; mode=display\">\\newcommand{\\Bold}[1]{\\mathbf{#1}}\\left(\\begin{array}{rrrrr}\n",
       "0 & 0 & 0 & 0 & 0 \\\\\n",
       "0 & 0 & 0 & 0 & 1 \\\\\n",
       "0 & 0 & 0 & 0 & 0 \\\\\n",
       "0 & 0 & 0 & 0 & 0 \\\\\n",
       "0 & 0 & 0 & 0 & 0\n",
       "\\end{array}\\right)</script></html>"
      ],
      "text/latex": [
       "$$\\newcommand{\\Bold}[1]{\\mathbf{#1}}\\left(\\begin{array}{rrrrr}\n",
       "0 & 0 & 0 & 0 & 0 \\\\\n",
       "0 & 0 & 0 & 0 & 1 \\\\\n",
       "0 & 0 & 0 & 0 & 0 \\\\\n",
       "0 & 0 & 0 & 0 & 0 \\\\\n",
       "0 & 0 & 0 & 0 & 0\n",
       "\\end{array}\\right)$$"
      ],
      "text/plain": [
       "[0 0 0 0 0]\n",
       "[0 0 0 0 1]\n",
       "[0 0 0 0 0]\n",
       "[0 0 0 0 0]\n",
       "[0 0 0 0 0]"
      ]
     },
     "metadata": {},
     "output_type": "display_data"
    },
    {
     "data": {
      "text/html": [
       "<html><script type=\"math/tex; mode=display\">\\newcommand{\\Bold}[1]{\\mathbf{#1}}\\left[\\left\\{d_{1} : r_{104}, d_{2} : r_{105}, d_{3} : r_{106}, d_{4} : r_{107}, d_{5} : \\frac{r_{105}}{x_{25}}, a_{12} : 0, a_{13} : r_{108}, a_{14} : r_{109}, a_{15} : r_{110}, a_{23} : r_{111}, a_{24} : r_{112}, a_{25} : r_{113}, a_{34} : r_{114}, a_{35} : r_{115}, a_{45} : r_{116}\\right\\}, \\left\\{d_{1} : r_{117}, d_{2} : 0, d_{3} : r_{118}, d_{4} : r_{119}, d_{5} : 0, a_{12} : r_{120}, a_{13} : r_{121}, a_{14} : r_{122}, a_{15} : r_{123}, a_{23} : r_{124}, a_{24} : r_{125}, a_{25} : r_{126}, a_{34} : r_{127}, a_{35} : r_{128}, a_{45} : r_{129}\\right\\}\\right]</script></html>"
      ],
      "text/latex": [
       "$$\\newcommand{\\Bold}[1]{\\mathbf{#1}}\\left[\\left\\{d_{1} : r_{104}, d_{2} : r_{105}, d_{3} : r_{106}, d_{4} : r_{107}, d_{5} : \\frac{r_{105}}{x_{25}}, a_{12} : 0, a_{13} : r_{108}, a_{14} : r_{109}, a_{15} : r_{110}, a_{23} : r_{111}, a_{24} : r_{112}, a_{25} : r_{113}, a_{34} : r_{114}, a_{35} : r_{115}, a_{45} : r_{116}\\right\\}, \\left\\{d_{1} : r_{117}, d_{2} : 0, d_{3} : r_{118}, d_{4} : r_{119}, d_{5} : 0, a_{12} : r_{120}, a_{13} : r_{121}, a_{14} : r_{122}, a_{15} : r_{123}, a_{23} : r_{124}, a_{24} : r_{125}, a_{25} : r_{126}, a_{34} : r_{127}, a_{35} : r_{128}, a_{45} : r_{129}\\right\\}\\right]$$"
      ],
      "text/plain": [
       "[{d1: r104,\n",
       "  d2: r105,\n",
       "  d3: r106,\n",
       "  d4: r107,\n",
       "  d5: r105/x25,\n",
       "  a12: 0,\n",
       "  a13: r108,\n",
       "  a14: r109,\n",
       "  a15: r110,\n",
       "  a23: r111,\n",
       "  a24: r112,\n",
       "  a25: r113,\n",
       "  a34: r114,\n",
       "  a35: r115,\n",
       "  a45: r116},\n",
       " {d1: r117,\n",
       "  d2: 0,\n",
       "  d3: r118,\n",
       "  d4: r119,\n",
       "  d5: 0,\n",
       "  a12: r120,\n",
       "  a13: r121,\n",
       "  a14: r122,\n",
       "  a15: r123,\n",
       "  a23: r124,\n",
       "  a24: r125,\n",
       "  a25: r126,\n",
       "  a34: r127,\n",
       "  a35: r128,\n",
       "  a45: r129}]"
      ]
     },
     "metadata": {},
     "output_type": "display_data"
    },
    {
     "data": {
      "text/plain": [
       "\\left[\\left\\{d_{1} : r_{104}, d_{2} : r_{105}, d_{3} : r_{106}, d_{4} : r_{107}, d_{5} : \\frac{r_{105}}{x_{25}}, a_{12} : 0, a_{13} : r_{108}, a_{14} : r_{109}, a_{15} : r_{110}, a_{23} : r_{111}, a_{24} : r_{112}, a_{25} : r_{113}, a_{34} : r_{114}, a_{35} : r_{115}, a_{45} : r_{116}\\right\\}, \\left\\{d_{1} : r_{117}, d_{2} : 0, d_{3} : r_{118}, d_{4} : r_{119}, d_{5} : 0, a_{12} : r_{120}, a_{13} : r_{121}, a_{14} : r_{122}, a_{15} : r_{123}, a_{23} : r_{124}, a_{24} : r_{125}, a_{25} : r_{126}, a_{34} : r_{127}, a_{35} : r_{128}, a_{45} : r_{129}\\right\\}\\right]"
      ]
     },
     "execution_count": 9,
     "metadata": {},
     "output_type": "execute_result"
    }
   ],
   "source": [
    "#x1\n",
    "reset()\n",
    "\n",
    "var('x12,x13,x14,x15,x23,x24,x25,x34,x35,x45')\n",
    "var('d1,d2,d3,d4,d5')\n",
    "var('a12,a13,a14,a15,a23,a24,a25,a34,a35,a45')\n",
    "\n",
    "load_attach_path('C:\\\\Users\\\\julia\\\\Documents\\\\unb\\\\doutorado\\\\pensar\\\\codigo_sage_v2\\\\maquina\\\\x1')\n",
    "load('out_#001000.sage')\n",
    "\n",
    "m=matrix(QQ, [[0, 0, 0, 0, 0],\n",
    "              [0, 0, 0, 0, 1],\n",
    "              [0, 0, 0, 0, 0],\n",
    "              [0, 0, 0, 0, 0],\n",
    "              [0, 0, 0, 0, 0]])\n",
    "        \n",
    "#entry of matrix: (i,j) line i collum j, means (i-1,j-1)\n",
    "sol=solve([ \teq1==m[0,2],\teq2==m[0,3],\teq3==m[0,4],\t\n",
    "                                            eq4==m[1,3],    eq5==m[1,4],\n",
    "                                                            eq6==m[2,4]],d1,d2,d3,d4,d5,a12,a13,a14,a15,a23,a24,a25,a34,a35,a45, solution_dict=True)\n",
    "\n",
    "show(m)\n",
    "show(sol)\n",
    "latex(sol)"
   ]
  },
  {
   "cell_type": "code",
   "execution_count": 10,
   "metadata": {},
   "outputs": [
    {
     "data": {
      "text/html": [
       "<html><script type=\"math/tex; mode=display\">\\newcommand{\\Bold}[1]{\\mathbf{#1}}\\left(\\begin{array}{rrrrr}\n",
       "0 & 0 & 0 & 0 & 0 \\\\\n",
       "0 & 0 & 0 & 0 & 1 \\\\\n",
       "0 & 0 & 0 & 0 & 0 \\\\\n",
       "0 & 0 & 0 & 0 & 0 \\\\\n",
       "0 & 0 & 0 & 0 & 0\n",
       "\\end{array}\\right)</script></html>"
      ],
      "text/latex": [
       "$$\\newcommand{\\Bold}[1]{\\mathbf{#1}}\\left(\\begin{array}{rrrrr}\n",
       "0 & 0 & 0 & 0 & 0 \\\\\n",
       "0 & 0 & 0 & 0 & 1 \\\\\n",
       "0 & 0 & 0 & 0 & 0 \\\\\n",
       "0 & 0 & 0 & 0 & 0 \\\\\n",
       "0 & 0 & 0 & 0 & 0\n",
       "\\end{array}\\right)$$"
      ],
      "text/plain": [
       "[0 0 0 0 0]\n",
       "[0 0 0 0 1]\n",
       "[0 0 0 0 0]\n",
       "[0 0 0 0 0]\n",
       "[0 0 0 0 0]"
      ]
     },
     "metadata": {},
     "output_type": "display_data"
    },
    {
     "data": {
      "text/html": [
       "<html><script type=\"math/tex; mode=display\">\\newcommand{\\Bold}[1]{\\mathbf{#1}}\\left[\\left\\{d_{1} : r_{130}, d_{2} : 0, d_{3} : r_{131}, d_{4} : r_{132}, d_{5} : 0, a_{12} : r_{133}, a_{13} : r_{134}, a_{14} : r_{135}, a_{15} : r_{136}, a_{23} : r_{137}, a_{24} : r_{138}, a_{25} : r_{139}, a_{34} : r_{140}, a_{35} : r_{141}, a_{45} : r_{142}\\right\\}, \\left\\{d_{1} : r_{143}, d_{2} : r_{144}, d_{3} : r_{145}, d_{4} : r_{146}, d_{5} : \\frac{r_{144}}{x_{25}}, a_{12} : \\frac{r_{144} x_{15}}{x_{25}}, a_{13} : r_{147}, a_{14} : r_{148}, a_{15} : r_{149}, a_{23} : r_{150}, a_{24} : r_{151}, a_{25} : r_{152}, a_{34} : r_{153}, a_{35} : r_{154}, a_{45} : r_{155}\\right\\}\\right]</script></html>"
      ],
      "text/latex": [
       "$$\\newcommand{\\Bold}[1]{\\mathbf{#1}}\\left[\\left\\{d_{1} : r_{130}, d_{2} : 0, d_{3} : r_{131}, d_{4} : r_{132}, d_{5} : 0, a_{12} : r_{133}, a_{13} : r_{134}, a_{14} : r_{135}, a_{15} : r_{136}, a_{23} : r_{137}, a_{24} : r_{138}, a_{25} : r_{139}, a_{34} : r_{140}, a_{35} : r_{141}, a_{45} : r_{142}\\right\\}, \\left\\{d_{1} : r_{143}, d_{2} : r_{144}, d_{3} : r_{145}, d_{4} : r_{146}, d_{5} : \\frac{r_{144}}{x_{25}}, a_{12} : \\frac{r_{144} x_{15}}{x_{25}}, a_{13} : r_{147}, a_{14} : r_{148}, a_{15} : r_{149}, a_{23} : r_{150}, a_{24} : r_{151}, a_{25} : r_{152}, a_{34} : r_{153}, a_{35} : r_{154}, a_{45} : r_{155}\\right\\}\\right]$$"
      ],
      "text/plain": [
       "[{d1: r130,\n",
       "  d2: 0,\n",
       "  d3: r131,\n",
       "  d4: r132,\n",
       "  d5: 0,\n",
       "  a12: r133,\n",
       "  a13: r134,\n",
       "  a14: r135,\n",
       "  a15: r136,\n",
       "  a23: r137,\n",
       "  a24: r138,\n",
       "  a25: r139,\n",
       "  a34: r140,\n",
       "  a35: r141,\n",
       "  a45: r142},\n",
       " {d1: r143,\n",
       "  d2: r144,\n",
       "  d3: r145,\n",
       "  d4: r146,\n",
       "  d5: r144/x25,\n",
       "  a12: r144*x15/x25,\n",
       "  a13: r147,\n",
       "  a14: r148,\n",
       "  a15: r149,\n",
       "  a23: r150,\n",
       "  a24: r151,\n",
       "  a25: r152,\n",
       "  a34: r153,\n",
       "  a35: r154,\n",
       "  a45: r155}]"
      ]
     },
     "metadata": {},
     "output_type": "display_data"
    },
    {
     "data": {
      "text/plain": [
       "\\left[\\left\\{d_{1} : r_{130}, d_{2} : 0, d_{3} : r_{131}, d_{4} : r_{132}, d_{5} : 0, a_{12} : r_{133}, a_{13} : r_{134}, a_{14} : r_{135}, a_{15} : r_{136}, a_{23} : r_{137}, a_{24} : r_{138}, a_{25} : r_{139}, a_{34} : r_{140}, a_{35} : r_{141}, a_{45} : r_{142}\\right\\}, \\left\\{d_{1} : r_{143}, d_{2} : r_{144}, d_{3} : r_{145}, d_{4} : r_{146}, d_{5} : \\frac{r_{144}}{x_{25}}, a_{12} : \\frac{r_{144} x_{15}}{x_{25}}, a_{13} : r_{147}, a_{14} : r_{148}, a_{15} : r_{149}, a_{23} : r_{150}, a_{24} : r_{151}, a_{25} : r_{152}, a_{34} : r_{153}, a_{35} : r_{154}, a_{45} : r_{155}\\right\\}\\right]"
      ]
     },
     "execution_count": 10,
     "metadata": {},
     "output_type": "execute_result"
    }
   ],
   "source": [
    "#x1\n",
    "reset()\n",
    "\n",
    "var('x12,x13,x14,x15,x23,x24,x25,x34,x35,x45')\n",
    "var('d1,d2,d3,d4,d5')\n",
    "var('a12,a13,a14,a15,a23,a24,a25,a34,a35,a45')\n",
    "\n",
    "load_attach_path('C:\\\\Users\\\\julia\\\\Documents\\\\unb\\\\doutorado\\\\pensar\\\\codigo_sage_v2\\\\maquina\\\\x1')\n",
    "load('out_#001001.sage')\n",
    "\n",
    "m=matrix(QQ, [[0, 0, 0, 0, 0],\n",
    "              [0, 0, 0, 0, 1],\n",
    "              [0, 0, 0, 0, 0],\n",
    "              [0, 0, 0, 0, 0],\n",
    "              [0, 0, 0, 0, 0]])\n",
    "        \n",
    "#entry of matrix: (i,j) line i collum j, means (i-1,j-1)\n",
    "sol=solve([ \teq1==m[0,2],\teq2==m[0,3],\teq3==m[0,4],\t\n",
    "                                            eq4==m[1,3],    eq5==m[1,4],\n",
    "                                                            eq6==m[2,4]],d1,d2,d3,d4,d5,a12,a13,a14,a15,a23,a24,a25,a34,a35,a45, solution_dict=True)\n",
    "\n",
    "show(m)\n",
    "show(sol)\n",
    "latex(sol)"
   ]
  },
  {
   "cell_type": "code",
   "execution_count": 11,
   "metadata": {},
   "outputs": [
    {
     "data": {
      "text/html": [
       "<html><script type=\"math/tex; mode=display\">\\newcommand{\\Bold}[1]{\\mathbf{#1}}\\left(\\begin{array}{rrrrr}\n",
       "0 & 0 & 0 & 1 & 0 \\\\\n",
       "0 & 0 & 0 & 0 & 1 \\\\\n",
       "0 & 0 & 0 & 0 & 0 \\\\\n",
       "0 & 0 & 0 & 0 & 0 \\\\\n",
       "0 & 0 & 0 & 0 & 0\n",
       "\\end{array}\\right)</script></html>"
      ],
      "text/latex": [
       "$$\\newcommand{\\Bold}[1]{\\mathbf{#1}}\\left(\\begin{array}{rrrrr}\n",
       "0 & 0 & 0 & 1 & 0 \\\\\n",
       "0 & 0 & 0 & 0 & 1 \\\\\n",
       "0 & 0 & 0 & 0 & 0 \\\\\n",
       "0 & 0 & 0 & 0 & 0 \\\\\n",
       "0 & 0 & 0 & 0 & 0\n",
       "\\end{array}\\right)$$"
      ],
      "text/plain": [
       "[0 0 0 1 0]\n",
       "[0 0 0 0 1]\n",
       "[0 0 0 0 0]\n",
       "[0 0 0 0 0]\n",
       "[0 0 0 0 0]"
      ]
     },
     "metadata": {},
     "output_type": "display_data"
    },
    {
     "data": {
      "text/html": [
       "<html><script type=\"math/tex; mode=display\">\\newcommand{\\Bold}[1]{\\mathbf{#1}}\\left[\\left\\{d_{1} : r_{156}, d_{2} : 0, d_{3} : r_{157}, d_{4} : \\frac{r_{156}}{x_{14}}, d_{5} : 0, a_{12} : r_{158}, a_{13} : r_{159}, a_{14} : r_{160}, a_{15} : r_{161}, a_{23} : r_{162}, a_{24} : r_{163}, a_{25} : r_{164}, a_{34} : r_{165}, a_{35} : r_{166}, a_{45} : r_{167}\\right\\}, \\left\\{d_{1} : r_{168}, d_{2} : r_{169}, d_{3} : r_{170}, d_{4} : \\frac{r_{168}}{x_{14}}, d_{5} : \\frac{r_{169}}{x_{25}}, a_{12} : r_{171}, a_{13} : r_{172}, a_{14} : r_{173}, a_{15} : r_{174}, a_{23} : r_{175}, a_{24} : r_{176}, a_{25} : r_{177}, a_{34} : r_{178}, a_{35} : r_{179}, a_{45} : \\frac{r_{171}}{x_{14}}\\right\\}\\right]</script></html>"
      ],
      "text/latex": [
       "$$\\newcommand{\\Bold}[1]{\\mathbf{#1}}\\left[\\left\\{d_{1} : r_{156}, d_{2} : 0, d_{3} : r_{157}, d_{4} : \\frac{r_{156}}{x_{14}}, d_{5} : 0, a_{12} : r_{158}, a_{13} : r_{159}, a_{14} : r_{160}, a_{15} : r_{161}, a_{23} : r_{162}, a_{24} : r_{163}, a_{25} : r_{164}, a_{34} : r_{165}, a_{35} : r_{166}, a_{45} : r_{167}\\right\\}, \\left\\{d_{1} : r_{168}, d_{2} : r_{169}, d_{3} : r_{170}, d_{4} : \\frac{r_{168}}{x_{14}}, d_{5} : \\frac{r_{169}}{x_{25}}, a_{12} : r_{171}, a_{13} : r_{172}, a_{14} : r_{173}, a_{15} : r_{174}, a_{23} : r_{175}, a_{24} : r_{176}, a_{25} : r_{177}, a_{34} : r_{178}, a_{35} : r_{179}, a_{45} : \\frac{r_{171}}{x_{14}}\\right\\}\\right]$$"
      ],
      "text/plain": [
       "[{d1: r156,\n",
       "  d2: 0,\n",
       "  d3: r157,\n",
       "  d4: r156/x14,\n",
       "  d5: 0,\n",
       "  a12: r158,\n",
       "  a13: r159,\n",
       "  a14: r160,\n",
       "  a15: r161,\n",
       "  a23: r162,\n",
       "  a24: r163,\n",
       "  a25: r164,\n",
       "  a34: r165,\n",
       "  a35: r166,\n",
       "  a45: r167},\n",
       " {d1: r168,\n",
       "  d2: r169,\n",
       "  d3: r170,\n",
       "  d4: r168/x14,\n",
       "  d5: r169/x25,\n",
       "  a12: r171,\n",
       "  a13: r172,\n",
       "  a14: r173,\n",
       "  a15: r174,\n",
       "  a23: r175,\n",
       "  a24: r176,\n",
       "  a25: r177,\n",
       "  a34: r178,\n",
       "  a35: r179,\n",
       "  a45: r171/x14}]"
      ]
     },
     "metadata": {},
     "output_type": "display_data"
    },
    {
     "data": {
      "text/plain": [
       "\\left[\\left\\{d_{1} : r_{156}, d_{2} : 0, d_{3} : r_{157}, d_{4} : \\frac{r_{156}}{x_{14}}, d_{5} : 0, a_{12} : r_{158}, a_{13} : r_{159}, a_{14} : r_{160}, a_{15} : r_{161}, a_{23} : r_{162}, a_{24} : r_{163}, a_{25} : r_{164}, a_{34} : r_{165}, a_{35} : r_{166}, a_{45} : r_{167}\\right\\}, \\left\\{d_{1} : r_{168}, d_{2} : r_{169}, d_{3} : r_{170}, d_{4} : \\frac{r_{168}}{x_{14}}, d_{5} : \\frac{r_{169}}{x_{25}}, a_{12} : r_{171}, a_{13} : r_{172}, a_{14} : r_{173}, a_{15} : r_{174}, a_{23} : r_{175}, a_{24} : r_{176}, a_{25} : r_{177}, a_{34} : r_{178}, a_{35} : r_{179}, a_{45} : \\frac{r_{171}}{x_{14}}\\right\\}\\right]"
      ]
     },
     "execution_count": 11,
     "metadata": {},
     "output_type": "execute_result"
    }
   ],
   "source": [
    "#x1\n",
    "reset()\n",
    "\n",
    "var('x12,x13,x14,x15,x23,x24,x25,x34,x35,x45')\n",
    "var('d1,d2,d3,d4,d5')\n",
    "var('a12,a13,a14,a15,a23,a24,a25,a34,a35,a45')\n",
    "\n",
    "load_attach_path('C:\\\\Users\\\\julia\\\\Documents\\\\unb\\\\doutorado\\\\pensar\\\\codigo_sage_v2\\\\maquina\\\\x1')\n",
    "load('out_#001010.sage')\n",
    "\n",
    "m=matrix(QQ, [[0, 0, 0, 1, 0],\n",
    "              [0, 0, 0, 0, 1],\n",
    "              [0, 0, 0, 0, 0],\n",
    "              [0, 0, 0, 0, 0],\n",
    "              [0, 0, 0, 0, 0]])\n",
    "        \n",
    "#entry of matrix: (i,j) line i collum j, means (i-1,j-1)\n",
    "sol=solve([ \teq1==m[0,2],\teq2==m[0,3],\teq3==m[0,4],\t\n",
    "                                            eq4==m[1,3],    eq5==m[1,4],\n",
    "                                                            eq6==m[2,4]],d1,d2,d3,d4,d5,a12,a13,a14,a15,a23,a24,a25,a34,a35,a45, solution_dict=True)\n",
    "\n",
    "show(m)\n",
    "show(sol)\n",
    "latex(sol)"
   ]
  },
  {
   "cell_type": "code",
   "execution_count": 12,
   "metadata": {},
   "outputs": [
    {
     "data": {
      "text/html": [
       "<html><script type=\"math/tex; mode=display\">\\newcommand{\\Bold}[1]{\\mathbf{#1}}\\left(\\begin{array}{rrrrr}\n",
       "0 & 0 & 0 & 1 & 0 \\\\\n",
       "0 & 0 & 0 & 0 & 1 \\\\\n",
       "0 & 0 & 0 & 0 & 0 \\\\\n",
       "0 & 0 & 0 & 0 & 0 \\\\\n",
       "0 & 0 & 0 & 0 & 0\n",
       "\\end{array}\\right)</script></html>"
      ],
      "text/latex": [
       "$$\\newcommand{\\Bold}[1]{\\mathbf{#1}}\\left(\\begin{array}{rrrrr}\n",
       "0 & 0 & 0 & 1 & 0 \\\\\n",
       "0 & 0 & 0 & 0 & 1 \\\\\n",
       "0 & 0 & 0 & 0 & 0 \\\\\n",
       "0 & 0 & 0 & 0 & 0 \\\\\n",
       "0 & 0 & 0 & 0 & 0\n",
       "\\end{array}\\right)$$"
      ],
      "text/plain": [
       "[0 0 0 1 0]\n",
       "[0 0 0 0 1]\n",
       "[0 0 0 0 0]\n",
       "[0 0 0 0 0]\n",
       "[0 0 0 0 0]"
      ]
     },
     "metadata": {},
     "output_type": "display_data"
    },
    {
     "data": {
      "text/html": [
       "<html><script type=\"math/tex; mode=display\">\\newcommand{\\Bold}[1]{\\mathbf{#1}}\\left[\\left\\{d_{1} : r_{180}, d_{2} : 0, d_{3} : r_{181}, d_{4} : \\frac{r_{180}}{x_{14}}, d_{5} : 0, a_{12} : r_{182}, a_{13} : r_{183}, a_{14} : r_{184}, a_{15} : r_{185}, a_{23} : r_{186}, a_{24} : r_{187}, a_{25} : r_{188}, a_{34} : r_{189}, a_{35} : r_{190}, a_{45} : r_{191}\\right\\}, \\left\\{d_{1} : r_{192}, d_{2} : r_{193}, d_{3} : r_{194}, d_{4} : \\frac{r_{192}}{x_{14}}, d_{5} : \\frac{r_{193}}{x_{25}}, a_{12} : r_{195}, a_{13} : r_{196}, a_{14} : r_{197}, a_{15} : r_{198}, a_{23} : r_{199}, a_{24} : r_{200}, a_{25} : r_{201}, a_{34} : r_{202}, a_{35} : r_{203}, a_{45} : -\\frac{r_{193} x_{15} - r_{195} x_{25}}{x_{14} x_{25}}\\right\\}\\right]</script></html>"
      ],
      "text/latex": [
       "$$\\newcommand{\\Bold}[1]{\\mathbf{#1}}\\left[\\left\\{d_{1} : r_{180}, d_{2} : 0, d_{3} : r_{181}, d_{4} : \\frac{r_{180}}{x_{14}}, d_{5} : 0, a_{12} : r_{182}, a_{13} : r_{183}, a_{14} : r_{184}, a_{15} : r_{185}, a_{23} : r_{186}, a_{24} : r_{187}, a_{25} : r_{188}, a_{34} : r_{189}, a_{35} : r_{190}, a_{45} : r_{191}\\right\\}, \\left\\{d_{1} : r_{192}, d_{2} : r_{193}, d_{3} : r_{194}, d_{4} : \\frac{r_{192}}{x_{14}}, d_{5} : \\frac{r_{193}}{x_{25}}, a_{12} : r_{195}, a_{13} : r_{196}, a_{14} : r_{197}, a_{15} : r_{198}, a_{23} : r_{199}, a_{24} : r_{200}, a_{25} : r_{201}, a_{34} : r_{202}, a_{35} : r_{203}, a_{45} : -\\frac{r_{193} x_{15} - r_{195} x_{25}}{x_{14} x_{25}}\\right\\}\\right]$$"
      ],
      "text/plain": [
       "[{d1: r180,\n",
       "  d2: 0,\n",
       "  d3: r181,\n",
       "  d4: r180/x14,\n",
       "  d5: 0,\n",
       "  a12: r182,\n",
       "  a13: r183,\n",
       "  a14: r184,\n",
       "  a15: r185,\n",
       "  a23: r186,\n",
       "  a24: r187,\n",
       "  a25: r188,\n",
       "  a34: r189,\n",
       "  a35: r190,\n",
       "  a45: r191},\n",
       " {d1: r192,\n",
       "  d2: r193,\n",
       "  d3: r194,\n",
       "  d4: r192/x14,\n",
       "  d5: r193/x25,\n",
       "  a12: r195,\n",
       "  a13: r196,\n",
       "  a14: r197,\n",
       "  a15: r198,\n",
       "  a23: r199,\n",
       "  a24: r200,\n",
       "  a25: r201,\n",
       "  a34: r202,\n",
       "  a35: r203,\n",
       "  a45: -(r193*x15 - r195*x25)/(x14*x25)}]"
      ]
     },
     "metadata": {},
     "output_type": "display_data"
    },
    {
     "data": {
      "text/plain": [
       "\\left[\\left\\{d_{1} : r_{180}, d_{2} : 0, d_{3} : r_{181}, d_{4} : \\frac{r_{180}}{x_{14}}, d_{5} : 0, a_{12} : r_{182}, a_{13} : r_{183}, a_{14} : r_{184}, a_{15} : r_{185}, a_{23} : r_{186}, a_{24} : r_{187}, a_{25} : r_{188}, a_{34} : r_{189}, a_{35} : r_{190}, a_{45} : r_{191}\\right\\}, \\left\\{d_{1} : r_{192}, d_{2} : r_{193}, d_{3} : r_{194}, d_{4} : \\frac{r_{192}}{x_{14}}, d_{5} : \\frac{r_{193}}{x_{25}}, a_{12} : r_{195}, a_{13} : r_{196}, a_{14} : r_{197}, a_{15} : r_{198}, a_{23} : r_{199}, a_{24} : r_{200}, a_{25} : r_{201}, a_{34} : r_{202}, a_{35} : r_{203}, a_{45} : -\\frac{r_{193} x_{15} - r_{195} x_{25}}{x_{14} x_{25}}\\right\\}\\right]"
      ]
     },
     "execution_count": 12,
     "metadata": {},
     "output_type": "execute_result"
    }
   ],
   "source": [
    "#x1\n",
    "reset()\n",
    "\n",
    "var('x12,x13,x14,x15,x23,x24,x25,x34,x35,x45')\n",
    "var('d1,d2,d3,d4,d5')\n",
    "var('a12,a13,a14,a15,a23,a24,a25,a34,a35,a45')\n",
    "\n",
    "load_attach_path('C:\\\\Users\\\\julia\\\\Documents\\\\unb\\\\doutorado\\\\pensar\\\\codigo_sage_v2\\\\maquina\\\\x1')\n",
    "load('out_#001011.sage')\n",
    "\n",
    "m=matrix(QQ, [[0, 0, 0, 1, 0],\n",
    "              [0, 0, 0, 0, 1],\n",
    "              [0, 0, 0, 0, 0],\n",
    "              [0, 0, 0, 0, 0],\n",
    "              [0, 0, 0, 0, 0]])\n",
    "        \n",
    "#entry of matrix: (i,j) line i collum j, means (i-1,j-1)\n",
    "sol=solve([ \teq1==m[0,2],\teq2==m[0,3],\teq3==m[0,4],\t\n",
    "                                            eq4==m[1,3],    eq5==m[1,4],\n",
    "                                                            eq6==m[2,4]],d1,d2,d3,d4,d5,a12,a13,a14,a15,a23,a24,a25,a34,a35,a45, solution_dict=True)\n",
    "\n",
    "show(m)\n",
    "show(sol)\n",
    "latex(sol)"
   ]
  },
  {
   "cell_type": "code",
   "execution_count": 13,
   "metadata": {},
   "outputs": [
    {
     "data": {
      "text/html": [
       "<html><script type=\"math/tex; mode=display\">\\newcommand{\\Bold}[1]{\\mathbf{#1}}\\left(\\begin{array}{rrrrr}\n",
       "0 & 0 & 1 & 0 & 0 \\\\\n",
       "0 & 0 & 0 & 0 & 1 \\\\\n",
       "0 & 0 & 0 & 0 & 0 \\\\\n",
       "0 & 0 & 0 & 0 & 0 \\\\\n",
       "0 & 0 & 0 & 0 & 0\n",
       "\\end{array}\\right)</script></html>"
      ],
      "text/latex": [
       "$$\\newcommand{\\Bold}[1]{\\mathbf{#1}}\\left(\\begin{array}{rrrrr}\n",
       "0 & 0 & 1 & 0 & 0 \\\\\n",
       "0 & 0 & 0 & 0 & 1 \\\\\n",
       "0 & 0 & 0 & 0 & 0 \\\\\n",
       "0 & 0 & 0 & 0 & 0 \\\\\n",
       "0 & 0 & 0 & 0 & 0\n",
       "\\end{array}\\right)$$"
      ],
      "text/plain": [
       "[0 0 1 0 0]\n",
       "[0 0 0 0 1]\n",
       "[0 0 0 0 0]\n",
       "[0 0 0 0 0]\n",
       "[0 0 0 0 0]"
      ]
     },
     "metadata": {},
     "output_type": "display_data"
    },
    {
     "data": {
      "text/html": [
       "<html><script type=\"math/tex; mode=display\">\\newcommand{\\Bold}[1]{\\mathbf{#1}}\\left[\\left\\{d_{1} : r_{204}, d_{2} : 0, d_{3} : \\frac{r_{204}}{x_{13}}, d_{4} : r_{205}, d_{5} : 0, a_{12} : r_{206}, a_{13} : r_{207}, a_{14} : r_{208}, a_{15} : r_{209}, a_{23} : r_{210}, a_{24} : r_{211}, a_{25} : r_{212}, a_{34} : 0, a_{35} : r_{213}, a_{45} : r_{214}\\right\\}, \\left\\{d_{1} : r_{215}, d_{2} : r_{216}, d_{3} : \\frac{r_{215}}{x_{13}}, d_{4} : r_{217}, d_{5} : \\frac{r_{216}}{x_{25}}, a_{12} : r_{218}, a_{13} : r_{219}, a_{14} : r_{220}, a_{15} : r_{221}, a_{23} : r_{222}, a_{24} : r_{223}, a_{25} : r_{224}, a_{34} : 0, a_{35} : \\frac{r_{218}}{x_{13}}, a_{45} : r_{225}\\right\\}\\right]</script></html>"
      ],
      "text/latex": [
       "$$\\newcommand{\\Bold}[1]{\\mathbf{#1}}\\left[\\left\\{d_{1} : r_{204}, d_{2} : 0, d_{3} : \\frac{r_{204}}{x_{13}}, d_{4} : r_{205}, d_{5} : 0, a_{12} : r_{206}, a_{13} : r_{207}, a_{14} : r_{208}, a_{15} : r_{209}, a_{23} : r_{210}, a_{24} : r_{211}, a_{25} : r_{212}, a_{34} : 0, a_{35} : r_{213}, a_{45} : r_{214}\\right\\}, \\left\\{d_{1} : r_{215}, d_{2} : r_{216}, d_{3} : \\frac{r_{215}}{x_{13}}, d_{4} : r_{217}, d_{5} : \\frac{r_{216}}{x_{25}}, a_{12} : r_{218}, a_{13} : r_{219}, a_{14} : r_{220}, a_{15} : r_{221}, a_{23} : r_{222}, a_{24} : r_{223}, a_{25} : r_{224}, a_{34} : 0, a_{35} : \\frac{r_{218}}{x_{13}}, a_{45} : r_{225}\\right\\}\\right]$$"
      ],
      "text/plain": [
       "[{d1: r204,\n",
       "  d2: 0,\n",
       "  d3: r204/x13,\n",
       "  d4: r205,\n",
       "  d5: 0,\n",
       "  a12: r206,\n",
       "  a13: r207,\n",
       "  a14: r208,\n",
       "  a15: r209,\n",
       "  a23: r210,\n",
       "  a24: r211,\n",
       "  a25: r212,\n",
       "  a34: 0,\n",
       "  a35: r213,\n",
       "  a45: r214},\n",
       " {d1: r215,\n",
       "  d2: r216,\n",
       "  d3: r215/x13,\n",
       "  d4: r217,\n",
       "  d5: r216/x25,\n",
       "  a12: r218,\n",
       "  a13: r219,\n",
       "  a14: r220,\n",
       "  a15: r221,\n",
       "  a23: r222,\n",
       "  a24: r223,\n",
       "  a25: r224,\n",
       "  a34: 0,\n",
       "  a35: r218/x13,\n",
       "  a45: r225}]"
      ]
     },
     "metadata": {},
     "output_type": "display_data"
    },
    {
     "data": {
      "text/plain": [
       "\\left[\\left\\{d_{1} : r_{204}, d_{2} : 0, d_{3} : \\frac{r_{204}}{x_{13}}, d_{4} : r_{205}, d_{5} : 0, a_{12} : r_{206}, a_{13} : r_{207}, a_{14} : r_{208}, a_{15} : r_{209}, a_{23} : r_{210}, a_{24} : r_{211}, a_{25} : r_{212}, a_{34} : 0, a_{35} : r_{213}, a_{45} : r_{214}\\right\\}, \\left\\{d_{1} : r_{215}, d_{2} : r_{216}, d_{3} : \\frac{r_{215}}{x_{13}}, d_{4} : r_{217}, d_{5} : \\frac{r_{216}}{x_{25}}, a_{12} : r_{218}, a_{13} : r_{219}, a_{14} : r_{220}, a_{15} : r_{221}, a_{23} : r_{222}, a_{24} : r_{223}, a_{25} : r_{224}, a_{34} : 0, a_{35} : \\frac{r_{218}}{x_{13}}, a_{45} : r_{225}\\right\\}\\right]"
      ]
     },
     "execution_count": 13,
     "metadata": {},
     "output_type": "execute_result"
    }
   ],
   "source": [
    "#x1\n",
    "reset()\n",
    "\n",
    "var('x12,x13,x14,x15,x23,x24,x25,x34,x35,x45')\n",
    "var('d1,d2,d3,d4,d5')\n",
    "var('a12,a13,a14,a15,a23,a24,a25,a34,a35,a45')\n",
    "\n",
    "load_attach_path('C:\\\\Users\\\\julia\\\\Documents\\\\unb\\\\doutorado\\\\pensar\\\\codigo_sage_v2\\\\maquina\\\\x1')\n",
    "load('out_#001100.sage')\n",
    "\n",
    "m=matrix(QQ, [[0, 0, 1, 0, 0],\n",
    "              [0, 0, 0, 0, 1],\n",
    "              [0, 0, 0, 0, 0],\n",
    "              [0, 0, 0, 0, 0],\n",
    "              [0, 0, 0, 0, 0]])\n",
    "        \n",
    "#entry of matrix: (i,j) line i collum j, means (i-1,j-1)\n",
    "sol=solve([ \teq1==m[0,2],\teq2==m[0,3],\teq3==m[0,4],\t\n",
    "                                            eq4==m[1,3],    eq5==m[1,4],\n",
    "                                                            eq6==m[2,4]],d1,d2,d3,d4,d5,a12,a13,a14,a15,a23,a24,a25,a34,a35,a45, solution_dict=True)\n",
    "\n",
    "show(m)\n",
    "show(sol)\n",
    "latex(sol)"
   ]
  },
  {
   "cell_type": "code",
   "execution_count": 14,
   "metadata": {},
   "outputs": [
    {
     "data": {
      "text/html": [
       "<html><script type=\"math/tex; mode=display\">\\newcommand{\\Bold}[1]{\\mathbf{#1}}\\left(\\begin{array}{rrrrr}\n",
       "0 & 0 & 1 & 0 & 0 \\\\\n",
       "0 & 0 & 0 & 0 & 1 \\\\\n",
       "0 & 0 & 0 & 0 & 0 \\\\\n",
       "0 & 0 & 0 & 0 & 0 \\\\\n",
       "0 & 0 & 0 & 0 & 0\n",
       "\\end{array}\\right)</script></html>"
      ],
      "text/latex": [
       "$$\\newcommand{\\Bold}[1]{\\mathbf{#1}}\\left(\\begin{array}{rrrrr}\n",
       "0 & 0 & 1 & 0 & 0 \\\\\n",
       "0 & 0 & 0 & 0 & 1 \\\\\n",
       "0 & 0 & 0 & 0 & 0 \\\\\n",
       "0 & 0 & 0 & 0 & 0 \\\\\n",
       "0 & 0 & 0 & 0 & 0\n",
       "\\end{array}\\right)$$"
      ],
      "text/plain": [
       "[0 0 1 0 0]\n",
       "[0 0 0 0 1]\n",
       "[0 0 0 0 0]\n",
       "[0 0 0 0 0]\n",
       "[0 0 0 0 0]"
      ]
     },
     "metadata": {},
     "output_type": "display_data"
    },
    {
     "data": {
      "text/html": [
       "<html><script type=\"math/tex; mode=display\">\\newcommand{\\Bold}[1]{\\mathbf{#1}}\\left[\\left\\{d_{1} : r_{226}, d_{2} : 0, d_{3} : \\frac{r_{226}}{x_{13}}, d_{4} : r_{227}, d_{5} : 0, a_{12} : r_{228}, a_{13} : r_{229}, a_{14} : r_{230}, a_{15} : r_{231}, a_{23} : r_{232}, a_{24} : r_{233}, a_{25} : r_{234}, a_{34} : 0, a_{35} : r_{235}, a_{45} : r_{236}\\right\\}, \\left\\{d_{1} : r_{237}, d_{2} : r_{238}, d_{3} : \\frac{r_{237}}{x_{13}}, d_{4} : r_{239}, d_{5} : \\frac{r_{238}}{x_{25}}, a_{12} : r_{240}, a_{13} : r_{241}, a_{14} : r_{242}, a_{15} : r_{243}, a_{23} : r_{244}, a_{24} : r_{245}, a_{25} : r_{246}, a_{34} : 0, a_{35} : -\\frac{r_{238} x_{15} - r_{240} x_{25}}{x_{13} x_{25}}, a_{45} : r_{247}\\right\\}\\right]</script></html>"
      ],
      "text/latex": [
       "$$\\newcommand{\\Bold}[1]{\\mathbf{#1}}\\left[\\left\\{d_{1} : r_{226}, d_{2} : 0, d_{3} : \\frac{r_{226}}{x_{13}}, d_{4} : r_{227}, d_{5} : 0, a_{12} : r_{228}, a_{13} : r_{229}, a_{14} : r_{230}, a_{15} : r_{231}, a_{23} : r_{232}, a_{24} : r_{233}, a_{25} : r_{234}, a_{34} : 0, a_{35} : r_{235}, a_{45} : r_{236}\\right\\}, \\left\\{d_{1} : r_{237}, d_{2} : r_{238}, d_{3} : \\frac{r_{237}}{x_{13}}, d_{4} : r_{239}, d_{5} : \\frac{r_{238}}{x_{25}}, a_{12} : r_{240}, a_{13} : r_{241}, a_{14} : r_{242}, a_{15} : r_{243}, a_{23} : r_{244}, a_{24} : r_{245}, a_{25} : r_{246}, a_{34} : 0, a_{35} : -\\frac{r_{238} x_{15} - r_{240} x_{25}}{x_{13} x_{25}}, a_{45} : r_{247}\\right\\}\\right]$$"
      ],
      "text/plain": [
       "[{d1: r226,\n",
       "  d2: 0,\n",
       "  d3: r226/x13,\n",
       "  d4: r227,\n",
       "  d5: 0,\n",
       "  a12: r228,\n",
       "  a13: r229,\n",
       "  a14: r230,\n",
       "  a15: r231,\n",
       "  a23: r232,\n",
       "  a24: r233,\n",
       "  a25: r234,\n",
       "  a34: 0,\n",
       "  a35: r235,\n",
       "  a45: r236},\n",
       " {d1: r237,\n",
       "  d2: r238,\n",
       "  d3: r237/x13,\n",
       "  d4: r239,\n",
       "  d5: r238/x25,\n",
       "  a12: r240,\n",
       "  a13: r241,\n",
       "  a14: r242,\n",
       "  a15: r243,\n",
       "  a23: r244,\n",
       "  a24: r245,\n",
       "  a25: r246,\n",
       "  a34: 0,\n",
       "  a35: -(r238*x15 - r240*x25)/(x13*x25),\n",
       "  a45: r247}]"
      ]
     },
     "metadata": {},
     "output_type": "display_data"
    },
    {
     "data": {
      "text/plain": [
       "\\left[\\left\\{d_{1} : r_{226}, d_{2} : 0, d_{3} : \\frac{r_{226}}{x_{13}}, d_{4} : r_{227}, d_{5} : 0, a_{12} : r_{228}, a_{13} : r_{229}, a_{14} : r_{230}, a_{15} : r_{231}, a_{23} : r_{232}, a_{24} : r_{233}, a_{25} : r_{234}, a_{34} : 0, a_{35} : r_{235}, a_{45} : r_{236}\\right\\}, \\left\\{d_{1} : r_{237}, d_{2} : r_{238}, d_{3} : \\frac{r_{237}}{x_{13}}, d_{4} : r_{239}, d_{5} : \\frac{r_{238}}{x_{25}}, a_{12} : r_{240}, a_{13} : r_{241}, a_{14} : r_{242}, a_{15} : r_{243}, a_{23} : r_{244}, a_{24} : r_{245}, a_{25} : r_{246}, a_{34} : 0, a_{35} : -\\frac{r_{238} x_{15} - r_{240} x_{25}}{x_{13} x_{25}}, a_{45} : r_{247}\\right\\}\\right]"
      ]
     },
     "execution_count": 14,
     "metadata": {},
     "output_type": "execute_result"
    }
   ],
   "source": [
    "#x1\n",
    "reset()\n",
    "\n",
    "var('x12,x13,x14,x15,x23,x24,x25,x34,x35,x45')\n",
    "var('d1,d2,d3,d4,d5')\n",
    "var('a12,a13,a14,a15,a23,a24,a25,a34,a35,a45')\n",
    "\n",
    "load_attach_path('C:\\\\Users\\\\julia\\\\Documents\\\\unb\\\\doutorado\\\\pensar\\\\codigo_sage_v2\\\\maquina\\\\x1')\n",
    "load('out_#001101.sage')\n",
    "\n",
    "m=matrix(QQ, [[0, 0, 1, 0, 0],\n",
    "              [0, 0, 0, 0, 1],\n",
    "              [0, 0, 0, 0, 0],\n",
    "              [0, 0, 0, 0, 0],\n",
    "              [0, 0, 0, 0, 0]])\n",
    "        \n",
    "#entry of matrix: (i,j) line i collum j, means (i-1,j-1)\n",
    "sol=solve([ \teq1==m[0,2],\teq2==m[0,3],\teq3==m[0,4],\t\n",
    "                                            eq4==m[1,3],    eq5==m[1,4],\n",
    "                                                            eq6==m[2,4]],d1,d2,d3,d4,d5,a12,a13,a14,a15,a23,a24,a25,a34,a35,a45, solution_dict=True)\n",
    "\n",
    "show(m)\n",
    "show(sol)\n",
    "latex(sol)"
   ]
  },
  {
   "cell_type": "code",
   "execution_count": 15,
   "metadata": {},
   "outputs": [
    {
     "data": {
      "text/html": [
       "<html><script type=\"math/tex; mode=display\">\\newcommand{\\Bold}[1]{\\mathbf{#1}}\\left(\\begin{array}{rrrrr}\n",
       "0 & 0 & 0 & 0 & 0 \\\\\n",
       "0 & 0 & 0 & 0 & 1 \\\\\n",
       "0 & 0 & 0 & 0 & 0 \\\\\n",
       "0 & 0 & 0 & 0 & 0 \\\\\n",
       "0 & 0 & 0 & 0 & 0\n",
       "\\end{array}\\right)</script></html>"
      ],
      "text/latex": [
       "$$\\newcommand{\\Bold}[1]{\\mathbf{#1}}\\left(\\begin{array}{rrrrr}\n",
       "0 & 0 & 0 & 0 & 0 \\\\\n",
       "0 & 0 & 0 & 0 & 1 \\\\\n",
       "0 & 0 & 0 & 0 & 0 \\\\\n",
       "0 & 0 & 0 & 0 & 0 \\\\\n",
       "0 & 0 & 0 & 0 & 0\n",
       "\\end{array}\\right)$$"
      ],
      "text/plain": [
       "[0 0 0 0 0]\n",
       "[0 0 0 0 1]\n",
       "[0 0 0 0 0]\n",
       "[0 0 0 0 0]\n",
       "[0 0 0 0 0]"
      ]
     },
     "metadata": {},
     "output_type": "display_data"
    },
    {
     "data": {
      "text/html": [
       "<html><script type=\"math/tex; mode=display\">\\newcommand{\\Bold}[1]{\\mathbf{#1}}\\left[\\left\\{d_{1} : r_{248}, d_{2} : 0, d_{3} : 0, d_{4} : r_{249}, d_{5} : 0, a_{12} : r_{250}, a_{13} : r_{251}, a_{14} : r_{252}, a_{15} : r_{253}, a_{23} : r_{254}, a_{24} : r_{255}, a_{25} : r_{256}, a_{34} : -\\frac{r_{249} x_{14}}{x_{13}}, a_{35} : r_{257}, a_{45} : r_{258}\\right\\}, \\left\\{d_{1} : r_{259}, d_{2} : r_{260}, d_{3} : 0, d_{4} : r_{261}, d_{5} : \\frac{r_{260}}{x_{25}}, a_{12} : r_{262}, a_{13} : r_{263}, a_{14} : r_{264}, a_{15} : r_{265}, a_{23} : r_{266}, a_{24} : r_{267}, a_{25} : r_{268}, a_{34} : -\\frac{r_{261} x_{14}}{x_{13}}, a_{35} : r_{269}, a_{45} : -\\frac{r_{269} x_{13} - r_{262}}{x_{14}}\\right\\}\\right]</script></html>"
      ],
      "text/latex": [
       "$$\\newcommand{\\Bold}[1]{\\mathbf{#1}}\\left[\\left\\{d_{1} : r_{248}, d_{2} : 0, d_{3} : 0, d_{4} : r_{249}, d_{5} : 0, a_{12} : r_{250}, a_{13} : r_{251}, a_{14} : r_{252}, a_{15} : r_{253}, a_{23} : r_{254}, a_{24} : r_{255}, a_{25} : r_{256}, a_{34} : -\\frac{r_{249} x_{14}}{x_{13}}, a_{35} : r_{257}, a_{45} : r_{258}\\right\\}, \\left\\{d_{1} : r_{259}, d_{2} : r_{260}, d_{3} : 0, d_{4} : r_{261}, d_{5} : \\frac{r_{260}}{x_{25}}, a_{12} : r_{262}, a_{13} : r_{263}, a_{14} : r_{264}, a_{15} : r_{265}, a_{23} : r_{266}, a_{24} : r_{267}, a_{25} : r_{268}, a_{34} : -\\frac{r_{261} x_{14}}{x_{13}}, a_{35} : r_{269}, a_{45} : -\\frac{r_{269} x_{13} - r_{262}}{x_{14}}\\right\\}\\right]$$"
      ],
      "text/plain": [
       "[{d1: r248,\n",
       "  d2: 0,\n",
       "  d3: 0,\n",
       "  d4: r249,\n",
       "  d5: 0,\n",
       "  a12: r250,\n",
       "  a13: r251,\n",
       "  a14: r252,\n",
       "  a15: r253,\n",
       "  a23: r254,\n",
       "  a24: r255,\n",
       "  a25: r256,\n",
       "  a34: -r249*x14/x13,\n",
       "  a35: r257,\n",
       "  a45: r258},\n",
       " {d1: r259,\n",
       "  d2: r260,\n",
       "  d3: 0,\n",
       "  d4: r261,\n",
       "  d5: r260/x25,\n",
       "  a12: r262,\n",
       "  a13: r263,\n",
       "  a14: r264,\n",
       "  a15: r265,\n",
       "  a23: r266,\n",
       "  a24: r267,\n",
       "  a25: r268,\n",
       "  a34: -r261*x14/x13,\n",
       "  a35: r269,\n",
       "  a45: -(r269*x13 - r262)/x14}]"
      ]
     },
     "metadata": {},
     "output_type": "display_data"
    },
    {
     "data": {
      "text/plain": [
       "\\left[\\left\\{d_{1} : r_{248}, d_{2} : 0, d_{3} : 0, d_{4} : r_{249}, d_{5} : 0, a_{12} : r_{250}, a_{13} : r_{251}, a_{14} : r_{252}, a_{15} : r_{253}, a_{23} : r_{254}, a_{24} : r_{255}, a_{25} : r_{256}, a_{34} : -\\frac{r_{249} x_{14}}{x_{13}}, a_{35} : r_{257}, a_{45} : r_{258}\\right\\}, \\left\\{d_{1} : r_{259}, d_{2} : r_{260}, d_{3} : 0, d_{4} : r_{261}, d_{5} : \\frac{r_{260}}{x_{25}}, a_{12} : r_{262}, a_{13} : r_{263}, a_{14} : r_{264}, a_{15} : r_{265}, a_{23} : r_{266}, a_{24} : r_{267}, a_{25} : r_{268}, a_{34} : -\\frac{r_{261} x_{14}}{x_{13}}, a_{35} : r_{269}, a_{45} : -\\frac{r_{269} x_{13} - r_{262}}{x_{14}}\\right\\}\\right]"
      ]
     },
     "execution_count": 15,
     "metadata": {},
     "output_type": "execute_result"
    }
   ],
   "source": [
    "#x1\n",
    "reset()\n",
    "\n",
    "var('x12,x13,x14,x15,x23,x24,x25,x34,x35,x45')\n",
    "var('d1,d2,d3,d4,d5')\n",
    "var('a12,a13,a14,a15,a23,a24,a25,a34,a35,a45')\n",
    "\n",
    "load_attach_path('C:\\\\Users\\\\julia\\\\Documents\\\\unb\\\\doutorado\\\\pensar\\\\codigo_sage_v2\\\\maquina\\\\x1')\n",
    "load('out_#001110.sage')\n",
    "\n",
    "m=matrix(QQ, [[0, 0, 0, 0, 0],\n",
    "              [0, 0, 0, 0, 1],\n",
    "              [0, 0, 0, 0, 0],\n",
    "              [0, 0, 0, 0, 0],\n",
    "              [0, 0, 0, 0, 0]])\n",
    "        \n",
    "#entry of matrix: (i,j) line i collum j, means (i-1,j-1)\n",
    "sol=solve([ \teq1==m[0,2],\teq2==m[0,3],\teq3==m[0,4],\t\n",
    "                                            eq4==m[1,3],    eq5==m[1,4],\n",
    "                                                            eq6==m[2,4]],d1,d2,d3,d4,d5,a12,a13,a14,a15,a23,a24,a25,a34,a35,a45, solution_dict=True)\n",
    "\n",
    "show(m)\n",
    "show(sol)\n",
    "latex(sol)"
   ]
  },
  {
   "cell_type": "code",
   "execution_count": 16,
   "metadata": {},
   "outputs": [
    {
     "data": {
      "text/html": [
       "<html><script type=\"math/tex; mode=display\">\\newcommand{\\Bold}[1]{\\mathbf{#1}}\\left(\\begin{array}{rrrrr}\n",
       "0 & 0 & 1 & 0 & 0 \\\\\n",
       "0 & 0 & 0 & 0 & 1 \\\\\n",
       "0 & 0 & 0 & 0 & 0 \\\\\n",
       "0 & 0 & 0 & 0 & 0 \\\\\n",
       "0 & 0 & 0 & 0 & 0\n",
       "\\end{array}\\right)</script></html>"
      ],
      "text/latex": [
       "$$\\newcommand{\\Bold}[1]{\\mathbf{#1}}\\left(\\begin{array}{rrrrr}\n",
       "0 & 0 & 1 & 0 & 0 \\\\\n",
       "0 & 0 & 0 & 0 & 1 \\\\\n",
       "0 & 0 & 0 & 0 & 0 \\\\\n",
       "0 & 0 & 0 & 0 & 0 \\\\\n",
       "0 & 0 & 0 & 0 & 0\n",
       "\\end{array}\\right)$$"
      ],
      "text/plain": [
       "[0 0 1 0 0]\n",
       "[0 0 0 0 1]\n",
       "[0 0 0 0 0]\n",
       "[0 0 0 0 0]\n",
       "[0 0 0 0 0]"
      ]
     },
     "metadata": {},
     "output_type": "display_data"
    },
    {
     "data": {
      "text/html": [
       "<html><script type=\"math/tex; mode=display\">\\newcommand{\\Bold}[1]{\\mathbf{#1}}\\left[\\left\\{d_{1} : r_{270}, d_{2} : 0, d_{3} : \\frac{r_{270}}{x_{13}}, d_{4} : r_{271}, d_{5} : 0, a_{12} : r_{272}, a_{13} : r_{273}, a_{14} : r_{274}, a_{15} : r_{275}, a_{23} : r_{276}, a_{24} : r_{277}, a_{25} : r_{278}, a_{34} : -\\frac{r_{271} x_{14}}{x_{13}}, a_{35} : r_{279}, a_{45} : r_{280}\\right\\}, \\left\\{d_{1} : r_{281}, d_{2} : r_{282}, d_{3} : \\frac{r_{281}}{x_{13}}, d_{4} : r_{283}, d_{5} : \\frac{r_{282}}{x_{25}}, a_{12} : r_{284}, a_{13} : r_{285}, a_{14} : r_{286}, a_{15} : r_{287}, a_{23} : r_{288}, a_{24} : r_{289}, a_{25} : r_{290}, a_{34} : -\\frac{r_{283} x_{14}}{x_{13}}, a_{35} : r_{291}, a_{45} : -\\frac{r_{282} x_{15} + {\\left(r_{291} x_{13} - r_{284}\\right)} x_{25}}{x_{14} x_{25}}\\right\\}\\right]</script></html>"
      ],
      "text/latex": [
       "$$\\newcommand{\\Bold}[1]{\\mathbf{#1}}\\left[\\left\\{d_{1} : r_{270}, d_{2} : 0, d_{3} : \\frac{r_{270}}{x_{13}}, d_{4} : r_{271}, d_{5} : 0, a_{12} : r_{272}, a_{13} : r_{273}, a_{14} : r_{274}, a_{15} : r_{275}, a_{23} : r_{276}, a_{24} : r_{277}, a_{25} : r_{278}, a_{34} : -\\frac{r_{271} x_{14}}{x_{13}}, a_{35} : r_{279}, a_{45} : r_{280}\\right\\}, \\left\\{d_{1} : r_{281}, d_{2} : r_{282}, d_{3} : \\frac{r_{281}}{x_{13}}, d_{4} : r_{283}, d_{5} : \\frac{r_{282}}{x_{25}}, a_{12} : r_{284}, a_{13} : r_{285}, a_{14} : r_{286}, a_{15} : r_{287}, a_{23} : r_{288}, a_{24} : r_{289}, a_{25} : r_{290}, a_{34} : -\\frac{r_{283} x_{14}}{x_{13}}, a_{35} : r_{291}, a_{45} : -\\frac{r_{282} x_{15} + {\\left(r_{291} x_{13} - r_{284}\\right)} x_{25}}{x_{14} x_{25}}\\right\\}\\right]$$"
      ],
      "text/plain": [
       "[{d1: r270,\n",
       "  d2: 0,\n",
       "  d3: r270/x13,\n",
       "  d4: r271,\n",
       "  d5: 0,\n",
       "  a12: r272,\n",
       "  a13: r273,\n",
       "  a14: r274,\n",
       "  a15: r275,\n",
       "  a23: r276,\n",
       "  a24: r277,\n",
       "  a25: r278,\n",
       "  a34: -r271*x14/x13,\n",
       "  a35: r279,\n",
       "  a45: r280},\n",
       " {d1: r281,\n",
       "  d2: r282,\n",
       "  d3: r281/x13,\n",
       "  d4: r283,\n",
       "  d5: r282/x25,\n",
       "  a12: r284,\n",
       "  a13: r285,\n",
       "  a14: r286,\n",
       "  a15: r287,\n",
       "  a23: r288,\n",
       "  a24: r289,\n",
       "  a25: r290,\n",
       "  a34: -r283*x14/x13,\n",
       "  a35: r291,\n",
       "  a45: -(r282*x15 + (r291*x13 - r284)*x25)/(x14*x25)}]"
      ]
     },
     "metadata": {},
     "output_type": "display_data"
    },
    {
     "data": {
      "text/plain": [
       "\\left[\\left\\{d_{1} : r_{270}, d_{2} : 0, d_{3} : \\frac{r_{270}}{x_{13}}, d_{4} : r_{271}, d_{5} : 0, a_{12} : r_{272}, a_{13} : r_{273}, a_{14} : r_{274}, a_{15} : r_{275}, a_{23} : r_{276}, a_{24} : r_{277}, a_{25} : r_{278}, a_{34} : -\\frac{r_{271} x_{14}}{x_{13}}, a_{35} : r_{279}, a_{45} : r_{280}\\right\\}, \\left\\{d_{1} : r_{281}, d_{2} : r_{282}, d_{3} : \\frac{r_{281}}{x_{13}}, d_{4} : r_{283}, d_{5} : \\frac{r_{282}}{x_{25}}, a_{12} : r_{284}, a_{13} : r_{285}, a_{14} : r_{286}, a_{15} : r_{287}, a_{23} : r_{288}, a_{24} : r_{289}, a_{25} : r_{290}, a_{34} : -\\frac{r_{283} x_{14}}{x_{13}}, a_{35} : r_{291}, a_{45} : -\\frac{r_{282} x_{15} + {\\left(r_{291} x_{13} - r_{284}\\right)} x_{25}}{x_{14} x_{25}}\\right\\}\\right]"
      ]
     },
     "execution_count": 16,
     "metadata": {},
     "output_type": "execute_result"
    }
   ],
   "source": [
    "#x1\n",
    "reset()\n",
    "\n",
    "var('x12,x13,x14,x15,x23,x24,x25,x34,x35,x45')\n",
    "var('d1,d2,d3,d4,d5')\n",
    "var('a12,a13,a14,a15,a23,a24,a25,a34,a35,a45')\n",
    "\n",
    "load_attach_path('C:\\\\Users\\\\julia\\\\Documents\\\\unb\\\\doutorado\\\\pensar\\\\codigo_sage_v2\\\\maquina\\\\x1')\n",
    "load('out_#001111.sage')\n",
    "\n",
    "m=matrix(QQ, [[0, 0, 1, 0, 0],\n",
    "              [0, 0, 0, 0, 1],\n",
    "              [0, 0, 0, 0, 0],\n",
    "              [0, 0, 0, 0, 0],\n",
    "              [0, 0, 0, 0, 0]])\n",
    "        \n",
    "#entry of matrix: (i,j) line i collum j, means (i-1,j-1)\n",
    "sol=solve([ \teq1==m[0,2],\teq2==m[0,3],\teq3==m[0,4],\t\n",
    "                                            eq4==m[1,3],    eq5==m[1,4],\n",
    "                                                            eq6==m[2,4]],d1,d2,d3,d4,d5,a12,a13,a14,a15,a23,a24,a25,a34,a35,a45, solution_dict=True)\n",
    "\n",
    "show(m)\n",
    "show(sol)\n",
    "latex(sol)"
   ]
  },
  {
   "cell_type": "code",
   "execution_count": 17,
   "metadata": {},
   "outputs": [
    {
     "data": {
      "text/html": [
       "<html><script type=\"math/tex; mode=display\">\\newcommand{\\Bold}[1]{\\mathbf{#1}}\\left(\\begin{array}{rrrrr}\n",
       "0 & 0 & 0 & 0 & 0 \\\\\n",
       "0 & 0 & 0 & 1 & 0 \\\\\n",
       "0 & 0 & 0 & 0 & 0 \\\\\n",
       "0 & 0 & 0 & 0 & 0 \\\\\n",
       "0 & 0 & 0 & 0 & 0\n",
       "\\end{array}\\right)</script></html>"
      ],
      "text/latex": [
       "$$\\newcommand{\\Bold}[1]{\\mathbf{#1}}\\left(\\begin{array}{rrrrr}\n",
       "0 & 0 & 0 & 0 & 0 \\\\\n",
       "0 & 0 & 0 & 1 & 0 \\\\\n",
       "0 & 0 & 0 & 0 & 0 \\\\\n",
       "0 & 0 & 0 & 0 & 0 \\\\\n",
       "0 & 0 & 0 & 0 & 0\n",
       "\\end{array}\\right)$$"
      ],
      "text/plain": [
       "[0 0 0 0 0]\n",
       "[0 0 0 1 0]\n",
       "[0 0 0 0 0]\n",
       "[0 0 0 0 0]\n",
       "[0 0 0 0 0]"
      ]
     },
     "metadata": {},
     "output_type": "display_data"
    },
    {
     "data": {
      "text/html": [
       "<html><script type=\"math/tex; mode=display\">\\newcommand{\\Bold}[1]{\\mathbf{#1}}\\left[\\left\\{d_{1} : r_{292}, d_{2} : r_{293}, d_{3} : r_{294}, d_{4} : \\frac{r_{293}}{x_{24}}, d_{5} : r_{295}, a_{12} : 0, a_{13} : r_{296}, a_{14} : r_{297}, a_{15} : r_{298}, a_{23} : r_{299}, a_{24} : r_{300}, a_{25} : r_{301}, a_{34} : r_{302}, a_{35} : r_{303}, a_{45} : 0\\right\\}, \\left\\{d_{1} : r_{304}, d_{2} : 0, d_{3} : r_{305}, d_{4} : 0, d_{5} : r_{306}, a_{12} : r_{307}, a_{13} : r_{308}, a_{14} : r_{309}, a_{15} : r_{310}, a_{23} : r_{311}, a_{24} : r_{312}, a_{25} : r_{313}, a_{34} : r_{314}, a_{35} : r_{315}, a_{45} : 0\\right\\}\\right]</script></html>"
      ],
      "text/latex": [
       "$$\\newcommand{\\Bold}[1]{\\mathbf{#1}}\\left[\\left\\{d_{1} : r_{292}, d_{2} : r_{293}, d_{3} : r_{294}, d_{4} : \\frac{r_{293}}{x_{24}}, d_{5} : r_{295}, a_{12} : 0, a_{13} : r_{296}, a_{14} : r_{297}, a_{15} : r_{298}, a_{23} : r_{299}, a_{24} : r_{300}, a_{25} : r_{301}, a_{34} : r_{302}, a_{35} : r_{303}, a_{45} : 0\\right\\}, \\left\\{d_{1} : r_{304}, d_{2} : 0, d_{3} : r_{305}, d_{4} : 0, d_{5} : r_{306}, a_{12} : r_{307}, a_{13} : r_{308}, a_{14} : r_{309}, a_{15} : r_{310}, a_{23} : r_{311}, a_{24} : r_{312}, a_{25} : r_{313}, a_{34} : r_{314}, a_{35} : r_{315}, a_{45} : 0\\right\\}\\right]$$"
      ],
      "text/plain": [
       "[{d1: r292,\n",
       "  d2: r293,\n",
       "  d3: r294,\n",
       "  d4: r293/x24,\n",
       "  d5: r295,\n",
       "  a12: 0,\n",
       "  a13: r296,\n",
       "  a14: r297,\n",
       "  a15: r298,\n",
       "  a23: r299,\n",
       "  a24: r300,\n",
       "  a25: r301,\n",
       "  a34: r302,\n",
       "  a35: r303,\n",
       "  a45: 0},\n",
       " {d1: r304,\n",
       "  d2: 0,\n",
       "  d3: r305,\n",
       "  d4: 0,\n",
       "  d5: r306,\n",
       "  a12: r307,\n",
       "  a13: r308,\n",
       "  a14: r309,\n",
       "  a15: r310,\n",
       "  a23: r311,\n",
       "  a24: r312,\n",
       "  a25: r313,\n",
       "  a34: r314,\n",
       "  a35: r315,\n",
       "  a45: 0}]"
      ]
     },
     "metadata": {},
     "output_type": "display_data"
    },
    {
     "data": {
      "text/plain": [
       "\\left[\\left\\{d_{1} : r_{292}, d_{2} : r_{293}, d_{3} : r_{294}, d_{4} : \\frac{r_{293}}{x_{24}}, d_{5} : r_{295}, a_{12} : 0, a_{13} : r_{296}, a_{14} : r_{297}, a_{15} : r_{298}, a_{23} : r_{299}, a_{24} : r_{300}, a_{25} : r_{301}, a_{34} : r_{302}, a_{35} : r_{303}, a_{45} : 0\\right\\}, \\left\\{d_{1} : r_{304}, d_{2} : 0, d_{3} : r_{305}, d_{4} : 0, d_{5} : r_{306}, a_{12} : r_{307}, a_{13} : r_{308}, a_{14} : r_{309}, a_{15} : r_{310}, a_{23} : r_{311}, a_{24} : r_{312}, a_{25} : r_{313}, a_{34} : r_{314}, a_{35} : r_{315}, a_{45} : 0\\right\\}\\right]"
      ]
     },
     "execution_count": 17,
     "metadata": {},
     "output_type": "execute_result"
    }
   ],
   "source": [
    "#x1\n",
    "reset()\n",
    "\n",
    "var('x12,x13,x14,x15,x23,x24,x25,x34,x35,x45')\n",
    "var('d1,d2,d3,d4,d5')\n",
    "var('a12,a13,a14,a15,a23,a24,a25,a34,a35,a45')\n",
    "\n",
    "load_attach_path('C:\\\\Users\\\\julia\\\\Documents\\\\unb\\\\doutorado\\\\pensar\\\\codigo_sage_v2\\\\maquina\\\\x1')\n",
    "load('out_#010000.sage')\n",
    "\n",
    "m=matrix(QQ, [[0, 0, 0, 0, 0],\n",
    "              [0, 0, 0, 1, 0],\n",
    "              [0, 0, 0, 0, 0],\n",
    "              [0, 0, 0, 0, 0],\n",
    "              [0, 0, 0, 0, 0]])\n",
    "        \n",
    "#entry of matrix: (i,j) line i collum j, means (i-1,j-1)\n",
    "sol=solve([ \teq1==m[0,2],\teq2==m[0,3],\teq3==m[0,4],\t\n",
    "                                            eq4==m[1,3],    eq5==m[1,4],\n",
    "                                                            eq6==m[2,4]],d1,d2,d3,d4,d5,a12,a13,a14,a15,a23,a24,a25,a34,a35,a45, solution_dict=True)\n",
    "\n",
    "show(m)\n",
    "show(sol)\n",
    "latex(sol)"
   ]
  },
  {
   "cell_type": "code",
   "execution_count": 18,
   "metadata": {},
   "outputs": [
    {
     "data": {
      "text/html": [
       "<html><script type=\"math/tex; mode=display\">\\newcommand{\\Bold}[1]{\\mathbf{#1}}\\left(\\begin{array}{rrrrr}\n",
       "0 & 0 & 0 & 0 & 1 \\\\\n",
       "0 & 0 & 0 & 1 & 0 \\\\\n",
       "0 & 0 & 0 & 0 & 0 \\\\\n",
       "0 & 0 & 0 & 0 & 0 \\\\\n",
       "0 & 0 & 0 & 0 & 0\n",
       "\\end{array}\\right)</script></html>"
      ],
      "text/latex": [
       "$$\\newcommand{\\Bold}[1]{\\mathbf{#1}}\\left(\\begin{array}{rrrrr}\n",
       "0 & 0 & 0 & 0 & 1 \\\\\n",
       "0 & 0 & 0 & 1 & 0 \\\\\n",
       "0 & 0 & 0 & 0 & 0 \\\\\n",
       "0 & 0 & 0 & 0 & 0 \\\\\n",
       "0 & 0 & 0 & 0 & 0\n",
       "\\end{array}\\right)$$"
      ],
      "text/plain": [
       "[0 0 0 0 1]\n",
       "[0 0 0 1 0]\n",
       "[0 0 0 0 0]\n",
       "[0 0 0 0 0]\n",
       "[0 0 0 0 0]"
      ]
     },
     "metadata": {},
     "output_type": "display_data"
    },
    {
     "data": {
      "text/html": [
       "<html><script type=\"math/tex; mode=display\">\\newcommand{\\Bold}[1]{\\mathbf{#1}}\\left[\\left\\{d_{1} : r_{316}, d_{2} : 0, d_{3} : r_{317}, d_{4} : 0, d_{5} : r_{318}, a_{12} : r_{319}, a_{13} : r_{320}, a_{14} : r_{321}, a_{15} : r_{322}, a_{23} : r_{323}, a_{24} : r_{324}, a_{25} : r_{325}, a_{34} : r_{326}, a_{35} : r_{327}, a_{45} : 0\\right\\}, \\left\\{d_{1} : r_{328}, d_{2} : r_{329}, d_{3} : r_{330}, d_{4} : \\frac{r_{329}}{x_{24}}, d_{5} : \\frac{r_{328}}{x_{15}}, a_{12} : 0, a_{13} : r_{331}, a_{14} : r_{332}, a_{15} : r_{333}, a_{23} : r_{334}, a_{24} : r_{335}, a_{25} : r_{336}, a_{34} : r_{337}, a_{35} : r_{338}, a_{45} : 0\\right\\}\\right]</script></html>"
      ],
      "text/latex": [
       "$$\\newcommand{\\Bold}[1]{\\mathbf{#1}}\\left[\\left\\{d_{1} : r_{316}, d_{2} : 0, d_{3} : r_{317}, d_{4} : 0, d_{5} : r_{318}, a_{12} : r_{319}, a_{13} : r_{320}, a_{14} : r_{321}, a_{15} : r_{322}, a_{23} : r_{323}, a_{24} : r_{324}, a_{25} : r_{325}, a_{34} : r_{326}, a_{35} : r_{327}, a_{45} : 0\\right\\}, \\left\\{d_{1} : r_{328}, d_{2} : r_{329}, d_{3} : r_{330}, d_{4} : \\frac{r_{329}}{x_{24}}, d_{5} : \\frac{r_{328}}{x_{15}}, a_{12} : 0, a_{13} : r_{331}, a_{14} : r_{332}, a_{15} : r_{333}, a_{23} : r_{334}, a_{24} : r_{335}, a_{25} : r_{336}, a_{34} : r_{337}, a_{35} : r_{338}, a_{45} : 0\\right\\}\\right]$$"
      ],
      "text/plain": [
       "[{d1: r316,\n",
       "  d2: 0,\n",
       "  d3: r317,\n",
       "  d4: 0,\n",
       "  d5: r318,\n",
       "  a12: r319,\n",
       "  a13: r320,\n",
       "  a14: r321,\n",
       "  a15: r322,\n",
       "  a23: r323,\n",
       "  a24: r324,\n",
       "  a25: r325,\n",
       "  a34: r326,\n",
       "  a35: r327,\n",
       "  a45: 0},\n",
       " {d1: r328,\n",
       "  d2: r329,\n",
       "  d3: r330,\n",
       "  d4: r329/x24,\n",
       "  d5: r328/x15,\n",
       "  a12: 0,\n",
       "  a13: r331,\n",
       "  a14: r332,\n",
       "  a15: r333,\n",
       "  a23: r334,\n",
       "  a24: r335,\n",
       "  a25: r336,\n",
       "  a34: r337,\n",
       "  a35: r338,\n",
       "  a45: 0}]"
      ]
     },
     "metadata": {},
     "output_type": "display_data"
    },
    {
     "data": {
      "text/plain": [
       "\\left[\\left\\{d_{1} : r_{316}, d_{2} : 0, d_{3} : r_{317}, d_{4} : 0, d_{5} : r_{318}, a_{12} : r_{319}, a_{13} : r_{320}, a_{14} : r_{321}, a_{15} : r_{322}, a_{23} : r_{323}, a_{24} : r_{324}, a_{25} : r_{325}, a_{34} : r_{326}, a_{35} : r_{327}, a_{45} : 0\\right\\}, \\left\\{d_{1} : r_{328}, d_{2} : r_{329}, d_{3} : r_{330}, d_{4} : \\frac{r_{329}}{x_{24}}, d_{5} : \\frac{r_{328}}{x_{15}}, a_{12} : 0, a_{13} : r_{331}, a_{14} : r_{332}, a_{15} : r_{333}, a_{23} : r_{334}, a_{24} : r_{335}, a_{25} : r_{336}, a_{34} : r_{337}, a_{35} : r_{338}, a_{45} : 0\\right\\}\\right]"
      ]
     },
     "execution_count": 18,
     "metadata": {},
     "output_type": "execute_result"
    }
   ],
   "source": [
    "#x1\n",
    "reset()\n",
    "\n",
    "var('x12,x13,x14,x15,x23,x24,x25,x34,x35,x45')\n",
    "var('d1,d2,d3,d4,d5')\n",
    "var('a12,a13,a14,a15,a23,a24,a25,a34,a35,a45')\n",
    "\n",
    "load_attach_path('C:\\\\Users\\\\julia\\\\Documents\\\\unb\\\\doutorado\\\\pensar\\\\codigo_sage_v2\\\\maquina\\\\x1')\n",
    "load('out_#010001.sage')\n",
    "\n",
    "m=matrix(QQ, [[0, 0, 0, 0, 1],\n",
    "              [0, 0, 0, 1, 0],\n",
    "              [0, 0, 0, 0, 0],\n",
    "              [0, 0, 0, 0, 0],\n",
    "              [0, 0, 0, 0, 0]])\n",
    "        \n",
    "#entry of matrix: (i,j) line i collum j, means (i-1,j-1)\n",
    "sol=solve([ \teq1==m[0,2],\teq2==m[0,3],\teq3==m[0,4],\t\n",
    "                                            eq4==m[1,3],    eq5==m[1,4],\n",
    "                                                            eq6==m[2,4]],d1,d2,d3,d4,d5,a12,a13,a14,a15,a23,a24,a25,a34,a35,a45, solution_dict=True)\n",
    "\n",
    "show(m)\n",
    "show(sol)\n",
    "latex(sol)"
   ]
  },
  {
   "cell_type": "code",
   "execution_count": 19,
   "metadata": {},
   "outputs": [
    {
     "data": {
      "text/html": [
       "<html><script type=\"math/tex; mode=display\">\\newcommand{\\Bold}[1]{\\mathbf{#1}}\\left(\\begin{array}{rrrrr}\n",
       "0 & 0 & 0 & 1 & 0 \\\\\n",
       "0 & 0 & 0 & 1 & 0 \\\\\n",
       "0 & 0 & 0 & 0 & 0 \\\\\n",
       "0 & 0 & 0 & 0 & 0 \\\\\n",
       "0 & 0 & 0 & 0 & 0\n",
       "\\end{array}\\right)</script></html>"
      ],
      "text/latex": [
       "$$\\newcommand{\\Bold}[1]{\\mathbf{#1}}\\left(\\begin{array}{rrrrr}\n",
       "0 & 0 & 0 & 1 & 0 \\\\\n",
       "0 & 0 & 0 & 1 & 0 \\\\\n",
       "0 & 0 & 0 & 0 & 0 \\\\\n",
       "0 & 0 & 0 & 0 & 0 \\\\\n",
       "0 & 0 & 0 & 0 & 0\n",
       "\\end{array}\\right)$$"
      ],
      "text/plain": [
       "[0 0 0 1 0]\n",
       "[0 0 0 1 0]\n",
       "[0 0 0 0 0]\n",
       "[0 0 0 0 0]\n",
       "[0 0 0 0 0]"
      ]
     },
     "metadata": {},
     "output_type": "display_data"
    },
    {
     "data": {
      "text/html": [
       "<html><script type=\"math/tex; mode=display\">\\newcommand{\\Bold}[1]{\\mathbf{#1}}\\left[\\left\\{d_{1} : r_{339}, d_{2} : r_{340}, d_{3} : r_{341}, d_{4} : \\frac{r_{340}}{x_{24}}, d_{5} : r_{342}, a_{12} : \\frac{r_{340} x_{14} - r_{339} x_{24}}{x_{24}}, a_{13} : r_{343}, a_{14} : r_{344}, a_{15} : r_{345}, a_{23} : r_{346}, a_{24} : r_{347}, a_{25} : r_{348}, a_{34} : r_{349}, a_{35} : r_{350}, a_{45} : 0\\right\\}, \\left\\{d_{1} : r_{351}, d_{2} : 0, d_{3} : r_{352}, d_{4} : 0, d_{5} : r_{353}, a_{12} : r_{354}, a_{13} : r_{355}, a_{14} : r_{356}, a_{15} : r_{357}, a_{23} : r_{358}, a_{24} : r_{359}, a_{25} : r_{360}, a_{34} : r_{361}, a_{35} : r_{362}, a_{45} : 0\\right\\}\\right]</script></html>"
      ],
      "text/latex": [
       "$$\\newcommand{\\Bold}[1]{\\mathbf{#1}}\\left[\\left\\{d_{1} : r_{339}, d_{2} : r_{340}, d_{3} : r_{341}, d_{4} : \\frac{r_{340}}{x_{24}}, d_{5} : r_{342}, a_{12} : \\frac{r_{340} x_{14} - r_{339} x_{24}}{x_{24}}, a_{13} : r_{343}, a_{14} : r_{344}, a_{15} : r_{345}, a_{23} : r_{346}, a_{24} : r_{347}, a_{25} : r_{348}, a_{34} : r_{349}, a_{35} : r_{350}, a_{45} : 0\\right\\}, \\left\\{d_{1} : r_{351}, d_{2} : 0, d_{3} : r_{352}, d_{4} : 0, d_{5} : r_{353}, a_{12} : r_{354}, a_{13} : r_{355}, a_{14} : r_{356}, a_{15} : r_{357}, a_{23} : r_{358}, a_{24} : r_{359}, a_{25} : r_{360}, a_{34} : r_{361}, a_{35} : r_{362}, a_{45} : 0\\right\\}\\right]$$"
      ],
      "text/plain": [
       "[{d1: r339,\n",
       "  d2: r340,\n",
       "  d3: r341,\n",
       "  d4: r340/x24,\n",
       "  d5: r342,\n",
       "  a12: (r340*x14 - r339*x24)/x24,\n",
       "  a13: r343,\n",
       "  a14: r344,\n",
       "  a15: r345,\n",
       "  a23: r346,\n",
       "  a24: r347,\n",
       "  a25: r348,\n",
       "  a34: r349,\n",
       "  a35: r350,\n",
       "  a45: 0},\n",
       " {d1: r351,\n",
       "  d2: 0,\n",
       "  d3: r352,\n",
       "  d4: 0,\n",
       "  d5: r353,\n",
       "  a12: r354,\n",
       "  a13: r355,\n",
       "  a14: r356,\n",
       "  a15: r357,\n",
       "  a23: r358,\n",
       "  a24: r359,\n",
       "  a25: r360,\n",
       "  a34: r361,\n",
       "  a35: r362,\n",
       "  a45: 0}]"
      ]
     },
     "metadata": {},
     "output_type": "display_data"
    },
    {
     "data": {
      "text/plain": [
       "\\left[\\left\\{d_{1} : r_{339}, d_{2} : r_{340}, d_{3} : r_{341}, d_{4} : \\frac{r_{340}}{x_{24}}, d_{5} : r_{342}, a_{12} : \\frac{r_{340} x_{14} - r_{339} x_{24}}{x_{24}}, a_{13} : r_{343}, a_{14} : r_{344}, a_{15} : r_{345}, a_{23} : r_{346}, a_{24} : r_{347}, a_{25} : r_{348}, a_{34} : r_{349}, a_{35} : r_{350}, a_{45} : 0\\right\\}, \\left\\{d_{1} : r_{351}, d_{2} : 0, d_{3} : r_{352}, d_{4} : 0, d_{5} : r_{353}, a_{12} : r_{354}, a_{13} : r_{355}, a_{14} : r_{356}, a_{15} : r_{357}, a_{23} : r_{358}, a_{24} : r_{359}, a_{25} : r_{360}, a_{34} : r_{361}, a_{35} : r_{362}, a_{45} : 0\\right\\}\\right]"
      ]
     },
     "execution_count": 19,
     "metadata": {},
     "output_type": "execute_result"
    }
   ],
   "source": [
    "#x1\n",
    "reset()\n",
    "\n",
    "var('x12,x13,x14,x15,x23,x24,x25,x34,x35,x45')\n",
    "var('d1,d2,d3,d4,d5')\n",
    "var('a12,a13,a14,a15,a23,a24,a25,a34,a35,a45')\n",
    "\n",
    "load_attach_path('C:\\\\Users\\\\julia\\\\Documents\\\\unb\\\\doutorado\\\\pensar\\\\codigo_sage_v2\\\\maquina\\\\x1')\n",
    "load('out_#010010.sage')\n",
    "\n",
    "m=matrix(QQ, [[0, 0, 0, 1, 0],\n",
    "              [0, 0, 0, 1, 0],\n",
    "              [0, 0, 0, 0, 0],\n",
    "              [0, 0, 0, 0, 0],\n",
    "              [0, 0, 0, 0, 0]])\n",
    "        \n",
    "#entry of matrix: (i,j) line i collum j, means (i-1,j-1)\n",
    "sol=solve([ \teq1==m[0,2],\teq2==m[0,3],\teq3==m[0,4],\t\n",
    "                                            eq4==m[1,3],    eq5==m[1,4],\n",
    "                                                            eq6==m[2,4]],d1,d2,d3,d4,d5,a12,a13,a14,a15,a23,a24,a25,a34,a35,a45, solution_dict=True)\n",
    "\n",
    "show(m)\n",
    "show(sol)\n",
    "latex(sol)"
   ]
  },
  {
   "cell_type": "code",
   "execution_count": 20,
   "metadata": {},
   "outputs": [
    {
     "data": {
      "text/html": [
       "<html><script type=\"math/tex; mode=display\">\\newcommand{\\Bold}[1]{\\mathbf{#1}}\\left(\\begin{array}{rrrrr}\n",
       "0 & 0 & 0 & 1 & 0 \\\\\n",
       "0 & 0 & 0 & 1 & 0 \\\\\n",
       "0 & 0 & 0 & 0 & 0 \\\\\n",
       "0 & 0 & 0 & 0 & 0 \\\\\n",
       "0 & 0 & 0 & 0 & 0\n",
       "\\end{array}\\right)</script></html>"
      ],
      "text/latex": [
       "$$\\newcommand{\\Bold}[1]{\\mathbf{#1}}\\left(\\begin{array}{rrrrr}\n",
       "0 & 0 & 0 & 1 & 0 \\\\\n",
       "0 & 0 & 0 & 1 & 0 \\\\\n",
       "0 & 0 & 0 & 0 & 0 \\\\\n",
       "0 & 0 & 0 & 0 & 0 \\\\\n",
       "0 & 0 & 0 & 0 & 0\n",
       "\\end{array}\\right)$$"
      ],
      "text/plain": [
       "[0 0 0 1 0]\n",
       "[0 0 0 1 0]\n",
       "[0 0 0 0 0]\n",
       "[0 0 0 0 0]\n",
       "[0 0 0 0 0]"
      ]
     },
     "metadata": {},
     "output_type": "display_data"
    },
    {
     "data": {
      "text/html": [
       "<html><script type=\"math/tex; mode=display\">\\newcommand{\\Bold}[1]{\\mathbf{#1}}\\left[\\left\\{d_{1} : r_{363}, d_{2} : 0, d_{3} : r_{364}, d_{4} : 0, d_{5} : r_{365}, a_{12} : r_{366}, a_{13} : r_{367}, a_{14} : r_{368}, a_{15} : r_{369}, a_{23} : r_{370}, a_{24} : r_{371}, a_{25} : r_{372}, a_{34} : r_{373}, a_{35} : r_{374}, a_{45} : 0\\right\\}, \\left\\{d_{1} : r_{375}, d_{2} : r_{376}, d_{3} : r_{377}, d_{4} : \\frac{r_{376}}{x_{24}}, d_{5} : 0, a_{12} : \\frac{r_{376} x_{14} - r_{375} x_{24}}{x_{24}}, a_{13} : r_{378}, a_{14} : r_{379}, a_{15} : r_{380}, a_{23} : r_{381}, a_{24} : r_{382}, a_{25} : r_{383}, a_{34} : r_{384}, a_{35} : r_{385}, a_{45} : 0\\right\\}\\right]</script></html>"
      ],
      "text/latex": [
       "$$\\newcommand{\\Bold}[1]{\\mathbf{#1}}\\left[\\left\\{d_{1} : r_{363}, d_{2} : 0, d_{3} : r_{364}, d_{4} : 0, d_{5} : r_{365}, a_{12} : r_{366}, a_{13} : r_{367}, a_{14} : r_{368}, a_{15} : r_{369}, a_{23} : r_{370}, a_{24} : r_{371}, a_{25} : r_{372}, a_{34} : r_{373}, a_{35} : r_{374}, a_{45} : 0\\right\\}, \\left\\{d_{1} : r_{375}, d_{2} : r_{376}, d_{3} : r_{377}, d_{4} : \\frac{r_{376}}{x_{24}}, d_{5} : 0, a_{12} : \\frac{r_{376} x_{14} - r_{375} x_{24}}{x_{24}}, a_{13} : r_{378}, a_{14} : r_{379}, a_{15} : r_{380}, a_{23} : r_{381}, a_{24} : r_{382}, a_{25} : r_{383}, a_{34} : r_{384}, a_{35} : r_{385}, a_{45} : 0\\right\\}\\right]$$"
      ],
      "text/plain": [
       "[{d1: r363,\n",
       "  d2: 0,\n",
       "  d3: r364,\n",
       "  d4: 0,\n",
       "  d5: r365,\n",
       "  a12: r366,\n",
       "  a13: r367,\n",
       "  a14: r368,\n",
       "  a15: r369,\n",
       "  a23: r370,\n",
       "  a24: r371,\n",
       "  a25: r372,\n",
       "  a34: r373,\n",
       "  a35: r374,\n",
       "  a45: 0},\n",
       " {d1: r375,\n",
       "  d2: r376,\n",
       "  d3: r377,\n",
       "  d4: r376/x24,\n",
       "  d5: 0,\n",
       "  a12: (r376*x14 - r375*x24)/x24,\n",
       "  a13: r378,\n",
       "  a14: r379,\n",
       "  a15: r380,\n",
       "  a23: r381,\n",
       "  a24: r382,\n",
       "  a25: r383,\n",
       "  a34: r384,\n",
       "  a35: r385,\n",
       "  a45: 0}]"
      ]
     },
     "metadata": {},
     "output_type": "display_data"
    },
    {
     "data": {
      "text/plain": [
       "\\left[\\left\\{d_{1} : r_{363}, d_{2} : 0, d_{3} : r_{364}, d_{4} : 0, d_{5} : r_{365}, a_{12} : r_{366}, a_{13} : r_{367}, a_{14} : r_{368}, a_{15} : r_{369}, a_{23} : r_{370}, a_{24} : r_{371}, a_{25} : r_{372}, a_{34} : r_{373}, a_{35} : r_{374}, a_{45} : 0\\right\\}, \\left\\{d_{1} : r_{375}, d_{2} : r_{376}, d_{3} : r_{377}, d_{4} : \\frac{r_{376}}{x_{24}}, d_{5} : 0, a_{12} : \\frac{r_{376} x_{14} - r_{375} x_{24}}{x_{24}}, a_{13} : r_{378}, a_{14} : r_{379}, a_{15} : r_{380}, a_{23} : r_{381}, a_{24} : r_{382}, a_{25} : r_{383}, a_{34} : r_{384}, a_{35} : r_{385}, a_{45} : 0\\right\\}\\right]"
      ]
     },
     "execution_count": 20,
     "metadata": {},
     "output_type": "execute_result"
    }
   ],
   "source": [
    "#x1\n",
    "reset()\n",
    "\n",
    "var('x12,x13,x14,x15,x23,x24,x25,x34,x35,x45')\n",
    "var('d1,d2,d3,d4,d5')\n",
    "var('a12,a13,a14,a15,a23,a24,a25,a34,a35,a45')\n",
    "\n",
    "load_attach_path('C:\\\\Users\\\\julia\\\\Documents\\\\unb\\\\doutorado\\\\pensar\\\\codigo_sage_v2\\\\maquina\\\\x1')\n",
    "load('out_#010011.sage')\n",
    "\n",
    "m=matrix(QQ, [[0, 0, 0, 1, 0],\n",
    "              [0, 0, 0, 1, 0],\n",
    "              [0, 0, 0, 0, 0],\n",
    "              [0, 0, 0, 0, 0],\n",
    "              [0, 0, 0, 0, 0]])\n",
    "        \n",
    "#entry of matrix: (i,j) line i collum j, means (i-1,j-1)\n",
    "sol=solve([ \teq1==m[0,2],\teq2==m[0,3],\teq3==m[0,4],\t\n",
    "                                            eq4==m[1,3],    eq5==m[1,4],\n",
    "                                                            eq6==m[2,4]],d1,d2,d3,d4,d5,a12,a13,a14,a15,a23,a24,a25,a34,a35,a45, solution_dict=True)\n",
    "\n",
    "show(m)\n",
    "show(sol)\n",
    "latex(sol)"
   ]
  },
  {
   "cell_type": "code",
   "execution_count": 21,
   "metadata": {},
   "outputs": [
    {
     "data": {
      "text/html": [
       "<html><script type=\"math/tex; mode=display\">\\newcommand{\\Bold}[1]{\\mathbf{#1}}\\left(\\begin{array}{rrrrr}\n",
       "0 & 0 & 1 & 0 & 0 \\\\\n",
       "0 & 0 & 0 & 1 & 0 \\\\\n",
       "0 & 0 & 0 & 0 & 0 \\\\\n",
       "0 & 0 & 0 & 0 & 0 \\\\\n",
       "0 & 0 & 0 & 0 & 0\n",
       "\\end{array}\\right)</script></html>"
      ],
      "text/latex": [
       "$$\\newcommand{\\Bold}[1]{\\mathbf{#1}}\\left(\\begin{array}{rrrrr}\n",
       "0 & 0 & 1 & 0 & 0 \\\\\n",
       "0 & 0 & 0 & 1 & 0 \\\\\n",
       "0 & 0 & 0 & 0 & 0 \\\\\n",
       "0 & 0 & 0 & 0 & 0 \\\\\n",
       "0 & 0 & 0 & 0 & 0\n",
       "\\end{array}\\right)$$"
      ],
      "text/plain": [
       "[0 0 1 0 0]\n",
       "[0 0 0 1 0]\n",
       "[0 0 0 0 0]\n",
       "[0 0 0 0 0]\n",
       "[0 0 0 0 0]"
      ]
     },
     "metadata": {},
     "output_type": "display_data"
    },
    {
     "data": {
      "text/html": [
       "<html><script type=\"math/tex; mode=display\">\\newcommand{\\Bold}[1]{\\mathbf{#1}}\\left[\\left\\{d_{1} : r_{386}, d_{2} : 0, d_{3} : \\frac{r_{386}}{x_{13}}, d_{4} : 0, d_{5} : r_{387}, a_{12} : r_{388}, a_{13} : r_{389}, a_{14} : r_{390}, a_{15} : r_{391}, a_{23} : r_{392}, a_{24} : r_{393}, a_{25} : r_{394}, a_{34} : r_{395}, a_{35} : r_{396}, a_{45} : 0\\right\\}, \\left\\{d_{1} : r_{397}, d_{2} : r_{398}, d_{3} : \\frac{r_{397}}{x_{13}}, d_{4} : \\frac{r_{398}}{x_{24}}, d_{5} : r_{399}, a_{12} : r_{400}, a_{13} : r_{401}, a_{14} : r_{402}, a_{15} : r_{403}, a_{23} : r_{404}, a_{24} : r_{405}, a_{25} : r_{406}, a_{34} : \\frac{r_{400}}{x_{13}}, a_{35} : 0, a_{45} : 0\\right\\}\\right]</script></html>"
      ],
      "text/latex": [
       "$$\\newcommand{\\Bold}[1]{\\mathbf{#1}}\\left[\\left\\{d_{1} : r_{386}, d_{2} : 0, d_{3} : \\frac{r_{386}}{x_{13}}, d_{4} : 0, d_{5} : r_{387}, a_{12} : r_{388}, a_{13} : r_{389}, a_{14} : r_{390}, a_{15} : r_{391}, a_{23} : r_{392}, a_{24} : r_{393}, a_{25} : r_{394}, a_{34} : r_{395}, a_{35} : r_{396}, a_{45} : 0\\right\\}, \\left\\{d_{1} : r_{397}, d_{2} : r_{398}, d_{3} : \\frac{r_{397}}{x_{13}}, d_{4} : \\frac{r_{398}}{x_{24}}, d_{5} : r_{399}, a_{12} : r_{400}, a_{13} : r_{401}, a_{14} : r_{402}, a_{15} : r_{403}, a_{23} : r_{404}, a_{24} : r_{405}, a_{25} : r_{406}, a_{34} : \\frac{r_{400}}{x_{13}}, a_{35} : 0, a_{45} : 0\\right\\}\\right]$$"
      ],
      "text/plain": [
       "[{d1: r386,\n",
       "  d2: 0,\n",
       "  d3: r386/x13,\n",
       "  d4: 0,\n",
       "  d5: r387,\n",
       "  a12: r388,\n",
       "  a13: r389,\n",
       "  a14: r390,\n",
       "  a15: r391,\n",
       "  a23: r392,\n",
       "  a24: r393,\n",
       "  a25: r394,\n",
       "  a34: r395,\n",
       "  a35: r396,\n",
       "  a45: 0},\n",
       " {d1: r397,\n",
       "  d2: r398,\n",
       "  d3: r397/x13,\n",
       "  d4: r398/x24,\n",
       "  d5: r399,\n",
       "  a12: r400,\n",
       "  a13: r401,\n",
       "  a14: r402,\n",
       "  a15: r403,\n",
       "  a23: r404,\n",
       "  a24: r405,\n",
       "  a25: r406,\n",
       "  a34: r400/x13,\n",
       "  a35: 0,\n",
       "  a45: 0}]"
      ]
     },
     "metadata": {},
     "output_type": "display_data"
    },
    {
     "data": {
      "text/plain": [
       "\\left[\\left\\{d_{1} : r_{386}, d_{2} : 0, d_{3} : \\frac{r_{386}}{x_{13}}, d_{4} : 0, d_{5} : r_{387}, a_{12} : r_{388}, a_{13} : r_{389}, a_{14} : r_{390}, a_{15} : r_{391}, a_{23} : r_{392}, a_{24} : r_{393}, a_{25} : r_{394}, a_{34} : r_{395}, a_{35} : r_{396}, a_{45} : 0\\right\\}, \\left\\{d_{1} : r_{397}, d_{2} : r_{398}, d_{3} : \\frac{r_{397}}{x_{13}}, d_{4} : \\frac{r_{398}}{x_{24}}, d_{5} : r_{399}, a_{12} : r_{400}, a_{13} : r_{401}, a_{14} : r_{402}, a_{15} : r_{403}, a_{23} : r_{404}, a_{24} : r_{405}, a_{25} : r_{406}, a_{34} : \\frac{r_{400}}{x_{13}}, a_{35} : 0, a_{45} : 0\\right\\}\\right]"
      ]
     },
     "execution_count": 21,
     "metadata": {},
     "output_type": "execute_result"
    }
   ],
   "source": [
    "#x1\n",
    "reset()\n",
    "\n",
    "var('x12,x13,x14,x15,x23,x24,x25,x34,x35,x45')\n",
    "var('d1,d2,d3,d4,d5')\n",
    "var('a12,a13,a14,a15,a23,a24,a25,a34,a35,a45')\n",
    "\n",
    "load_attach_path('C:\\\\Users\\\\julia\\\\Documents\\\\unb\\\\doutorado\\\\pensar\\\\codigo_sage_v2\\\\maquina\\\\x1')\n",
    "load('out_#010100.sage')\n",
    "\n",
    "m=matrix(QQ, [[0, 0, 1, 0, 0],\n",
    "              [0, 0, 0, 1, 0],\n",
    "              [0, 0, 0, 0, 0],\n",
    "              [0, 0, 0, 0, 0],\n",
    "              [0, 0, 0, 0, 0]])\n",
    "        \n",
    "#entry of matrix: (i,j) line i collum j, means (i-1,j-1)\n",
    "sol=solve([ \teq1==m[0,2],\teq2==m[0,3],\teq3==m[0,4],\t\n",
    "                                            eq4==m[1,3],    eq5==m[1,4],\n",
    "                                                            eq6==m[2,4]],d1,d2,d3,d4,d5,a12,a13,a14,a15,a23,a24,a25,a34,a35,a45, solution_dict=True)\n",
    "\n",
    "show(m)\n",
    "show(sol)\n",
    "latex(sol)"
   ]
  },
  {
   "cell_type": "code",
   "execution_count": 22,
   "metadata": {},
   "outputs": [
    {
     "data": {
      "text/html": [
       "<html><script type=\"math/tex; mode=display\">\\newcommand{\\Bold}[1]{\\mathbf{#1}}\\left(\\begin{array}{rrrrr}\n",
       "0 & 0 & 1 & 0 & 0 \\\\\n",
       "0 & 0 & 0 & 1 & 0 \\\\\n",
       "0 & 0 & 0 & 0 & 0 \\\\\n",
       "0 & 0 & 0 & 0 & 0 \\\\\n",
       "0 & 0 & 0 & 0 & 0\n",
       "\\end{array}\\right)</script></html>"
      ],
      "text/latex": [
       "$$\\newcommand{\\Bold}[1]{\\mathbf{#1}}\\left(\\begin{array}{rrrrr}\n",
       "0 & 0 & 1 & 0 & 0 \\\\\n",
       "0 & 0 & 0 & 1 & 0 \\\\\n",
       "0 & 0 & 0 & 0 & 0 \\\\\n",
       "0 & 0 & 0 & 0 & 0 \\\\\n",
       "0 & 0 & 0 & 0 & 0\n",
       "\\end{array}\\right)$$"
      ],
      "text/plain": [
       "[0 0 1 0 0]\n",
       "[0 0 0 1 0]\n",
       "[0 0 0 0 0]\n",
       "[0 0 0 0 0]\n",
       "[0 0 0 0 0]"
      ]
     },
     "metadata": {},
     "output_type": "display_data"
    },
    {
     "data": {
      "text/html": [
       "<html><script type=\"math/tex; mode=display\">\\newcommand{\\Bold}[1]{\\mathbf{#1}}\\left[\\left\\{d_{1} : r_{407}, d_{2} : 0, d_{3} : \\frac{r_{407}}{x_{13}}, d_{4} : 0, d_{5} : r_{408}, a_{12} : r_{409}, a_{13} : r_{410}, a_{14} : r_{411}, a_{15} : r_{412}, a_{23} : r_{413}, a_{24} : r_{414}, a_{25} : r_{415}, a_{34} : r_{416}, a_{35} : r_{417}, a_{45} : 0\\right\\}, \\left\\{d_{1} : r_{418}, d_{2} : r_{419}, d_{3} : \\frac{r_{418}}{x_{13}}, d_{4} : \\frac{r_{419}}{x_{24}}, d_{5} : r_{420}, a_{12} : r_{421}, a_{13} : r_{422}, a_{14} : r_{423}, a_{15} : r_{424}, a_{23} : r_{425}, a_{24} : r_{426}, a_{25} : r_{427}, a_{34} : \\frac{r_{421}}{x_{13}}, a_{35} : -\\frac{r_{420} x_{15}}{x_{13}}, a_{45} : 0\\right\\}\\right]</script></html>"
      ],
      "text/latex": [
       "$$\\newcommand{\\Bold}[1]{\\mathbf{#1}}\\left[\\left\\{d_{1} : r_{407}, d_{2} : 0, d_{3} : \\frac{r_{407}}{x_{13}}, d_{4} : 0, d_{5} : r_{408}, a_{12} : r_{409}, a_{13} : r_{410}, a_{14} : r_{411}, a_{15} : r_{412}, a_{23} : r_{413}, a_{24} : r_{414}, a_{25} : r_{415}, a_{34} : r_{416}, a_{35} : r_{417}, a_{45} : 0\\right\\}, \\left\\{d_{1} : r_{418}, d_{2} : r_{419}, d_{3} : \\frac{r_{418}}{x_{13}}, d_{4} : \\frac{r_{419}}{x_{24}}, d_{5} : r_{420}, a_{12} : r_{421}, a_{13} : r_{422}, a_{14} : r_{423}, a_{15} : r_{424}, a_{23} : r_{425}, a_{24} : r_{426}, a_{25} : r_{427}, a_{34} : \\frac{r_{421}}{x_{13}}, a_{35} : -\\frac{r_{420} x_{15}}{x_{13}}, a_{45} : 0\\right\\}\\right]$$"
      ],
      "text/plain": [
       "[{d1: r407,\n",
       "  d2: 0,\n",
       "  d3: r407/x13,\n",
       "  d4: 0,\n",
       "  d5: r408,\n",
       "  a12: r409,\n",
       "  a13: r410,\n",
       "  a14: r411,\n",
       "  a15: r412,\n",
       "  a23: r413,\n",
       "  a24: r414,\n",
       "  a25: r415,\n",
       "  a34: r416,\n",
       "  a35: r417,\n",
       "  a45: 0},\n",
       " {d1: r418,\n",
       "  d2: r419,\n",
       "  d3: r418/x13,\n",
       "  d4: r419/x24,\n",
       "  d5: r420,\n",
       "  a12: r421,\n",
       "  a13: r422,\n",
       "  a14: r423,\n",
       "  a15: r424,\n",
       "  a23: r425,\n",
       "  a24: r426,\n",
       "  a25: r427,\n",
       "  a34: r421/x13,\n",
       "  a35: -r420*x15/x13,\n",
       "  a45: 0}]"
      ]
     },
     "metadata": {},
     "output_type": "display_data"
    },
    {
     "data": {
      "text/plain": [
       "\\left[\\left\\{d_{1} : r_{407}, d_{2} : 0, d_{3} : \\frac{r_{407}}{x_{13}}, d_{4} : 0, d_{5} : r_{408}, a_{12} : r_{409}, a_{13} : r_{410}, a_{14} : r_{411}, a_{15} : r_{412}, a_{23} : r_{413}, a_{24} : r_{414}, a_{25} : r_{415}, a_{34} : r_{416}, a_{35} : r_{417}, a_{45} : 0\\right\\}, \\left\\{d_{1} : r_{418}, d_{2} : r_{419}, d_{3} : \\frac{r_{418}}{x_{13}}, d_{4} : \\frac{r_{419}}{x_{24}}, d_{5} : r_{420}, a_{12} : r_{421}, a_{13} : r_{422}, a_{14} : r_{423}, a_{15} : r_{424}, a_{23} : r_{425}, a_{24} : r_{426}, a_{25} : r_{427}, a_{34} : \\frac{r_{421}}{x_{13}}, a_{35} : -\\frac{r_{420} x_{15}}{x_{13}}, a_{45} : 0\\right\\}\\right]"
      ]
     },
     "execution_count": 22,
     "metadata": {},
     "output_type": "execute_result"
    }
   ],
   "source": [
    "#x1\n",
    "reset()\n",
    "\n",
    "var('x12,x13,x14,x15,x23,x24,x25,x34,x35,x45')\n",
    "var('d1,d2,d3,d4,d5')\n",
    "var('a12,a13,a14,a15,a23,a24,a25,a34,a35,a45')\n",
    "\n",
    "load_attach_path('C:\\\\Users\\\\julia\\\\Documents\\\\unb\\\\doutorado\\\\pensar\\\\codigo_sage_v2\\\\maquina\\\\x1')\n",
    "load('out_#010101.sage')\n",
    "\n",
    "m=matrix(QQ, [[0, 0, 1, 0, 0],\n",
    "              [0, 0, 0, 1, 0],\n",
    "              [0, 0, 0, 0, 0],\n",
    "              [0, 0, 0, 0, 0],\n",
    "              [0, 0, 0, 0, 0]])\n",
    "        \n",
    "#entry of matrix: (i,j) line i collum j, means (i-1,j-1)\n",
    "sol=solve([ \teq1==m[0,2],\teq2==m[0,3],\teq3==m[0,4],\t\n",
    "                                            eq4==m[1,3],    eq5==m[1,4],\n",
    "                                                            eq6==m[2,4]],d1,d2,d3,d4,d5,a12,a13,a14,a15,a23,a24,a25,a34,a35,a45, solution_dict=True)\n",
    "\n",
    "show(m)\n",
    "show(sol)\n",
    "latex(sol)"
   ]
  },
  {
   "cell_type": "code",
   "execution_count": 23,
   "metadata": {},
   "outputs": [
    {
     "data": {
      "text/html": [
       "<html><script type=\"math/tex; mode=display\">\\newcommand{\\Bold}[1]{\\mathbf{#1}}\\left(\\begin{array}{rrrrr}\n",
       "0 & 0 & 1 & 0 & 0 \\\\\n",
       "0 & 0 & 0 & 1 & 0 \\\\\n",
       "0 & 0 & 0 & 0 & 0 \\\\\n",
       "0 & 0 & 0 & 0 & 0 \\\\\n",
       "0 & 0 & 0 & 0 & 0\n",
       "\\end{array}\\right)</script></html>"
      ],
      "text/latex": [
       "$$\\newcommand{\\Bold}[1]{\\mathbf{#1}}\\left(\\begin{array}{rrrrr}\n",
       "0 & 0 & 1 & 0 & 0 \\\\\n",
       "0 & 0 & 0 & 1 & 0 \\\\\n",
       "0 & 0 & 0 & 0 & 0 \\\\\n",
       "0 & 0 & 0 & 0 & 0 \\\\\n",
       "0 & 0 & 0 & 0 & 0\n",
       "\\end{array}\\right)$$"
      ],
      "text/plain": [
       "[0 0 1 0 0]\n",
       "[0 0 0 1 0]\n",
       "[0 0 0 0 0]\n",
       "[0 0 0 0 0]\n",
       "[0 0 0 0 0]"
      ]
     },
     "metadata": {},
     "output_type": "display_data"
    },
    {
     "data": {
      "text/html": [
       "<html><script type=\"math/tex; mode=display\">\\newcommand{\\Bold}[1]{\\mathbf{#1}}\\left[\\left\\{d_{1} : r_{428}, d_{2} : 0, d_{3} : \\frac{r_{428}}{x_{13}}, d_{4} : 0, d_{5} : r_{429}, a_{12} : r_{430}, a_{13} : r_{431}, a_{14} : r_{432}, a_{15} : r_{433}, a_{23} : r_{434}, a_{24} : r_{435}, a_{25} : r_{436}, a_{34} : r_{437}, a_{35} : r_{438}, a_{45} : 0\\right\\}, \\left\\{d_{1} : r_{439}, d_{2} : r_{440}, d_{3} : \\frac{r_{439}}{x_{13}}, d_{4} : \\frac{r_{440}}{x_{24}}, d_{5} : r_{441}, a_{12} : r_{442}, a_{13} : r_{443}, a_{14} : r_{444}, a_{15} : r_{445}, a_{23} : r_{446}, a_{24} : r_{447}, a_{25} : r_{448}, a_{34} : -\\frac{r_{440} x_{14} - r_{442} x_{24}}{x_{13} x_{24}}, a_{35} : 0, a_{45} : 0\\right\\}\\right]</script></html>"
      ],
      "text/latex": [
       "$$\\newcommand{\\Bold}[1]{\\mathbf{#1}}\\left[\\left\\{d_{1} : r_{428}, d_{2} : 0, d_{3} : \\frac{r_{428}}{x_{13}}, d_{4} : 0, d_{5} : r_{429}, a_{12} : r_{430}, a_{13} : r_{431}, a_{14} : r_{432}, a_{15} : r_{433}, a_{23} : r_{434}, a_{24} : r_{435}, a_{25} : r_{436}, a_{34} : r_{437}, a_{35} : r_{438}, a_{45} : 0\\right\\}, \\left\\{d_{1} : r_{439}, d_{2} : r_{440}, d_{3} : \\frac{r_{439}}{x_{13}}, d_{4} : \\frac{r_{440}}{x_{24}}, d_{5} : r_{441}, a_{12} : r_{442}, a_{13} : r_{443}, a_{14} : r_{444}, a_{15} : r_{445}, a_{23} : r_{446}, a_{24} : r_{447}, a_{25} : r_{448}, a_{34} : -\\frac{r_{440} x_{14} - r_{442} x_{24}}{x_{13} x_{24}}, a_{35} : 0, a_{45} : 0\\right\\}\\right]$$"
      ],
      "text/plain": [
       "[{d1: r428,\n",
       "  d2: 0,\n",
       "  d3: r428/x13,\n",
       "  d4: 0,\n",
       "  d5: r429,\n",
       "  a12: r430,\n",
       "  a13: r431,\n",
       "  a14: r432,\n",
       "  a15: r433,\n",
       "  a23: r434,\n",
       "  a24: r435,\n",
       "  a25: r436,\n",
       "  a34: r437,\n",
       "  a35: r438,\n",
       "  a45: 0},\n",
       " {d1: r439,\n",
       "  d2: r440,\n",
       "  d3: r439/x13,\n",
       "  d4: r440/x24,\n",
       "  d5: r441,\n",
       "  a12: r442,\n",
       "  a13: r443,\n",
       "  a14: r444,\n",
       "  a15: r445,\n",
       "  a23: r446,\n",
       "  a24: r447,\n",
       "  a25: r448,\n",
       "  a34: -(r440*x14 - r442*x24)/(x13*x24),\n",
       "  a35: 0,\n",
       "  a45: 0}]"
      ]
     },
     "metadata": {},
     "output_type": "display_data"
    },
    {
     "data": {
      "text/plain": [
       "\\left[\\left\\{d_{1} : r_{428}, d_{2} : 0, d_{3} : \\frac{r_{428}}{x_{13}}, d_{4} : 0, d_{5} : r_{429}, a_{12} : r_{430}, a_{13} : r_{431}, a_{14} : r_{432}, a_{15} : r_{433}, a_{23} : r_{434}, a_{24} : r_{435}, a_{25} : r_{436}, a_{34} : r_{437}, a_{35} : r_{438}, a_{45} : 0\\right\\}, \\left\\{d_{1} : r_{439}, d_{2} : r_{440}, d_{3} : \\frac{r_{439}}{x_{13}}, d_{4} : \\frac{r_{440}}{x_{24}}, d_{5} : r_{441}, a_{12} : r_{442}, a_{13} : r_{443}, a_{14} : r_{444}, a_{15} : r_{445}, a_{23} : r_{446}, a_{24} : r_{447}, a_{25} : r_{448}, a_{34} : -\\frac{r_{440} x_{14} - r_{442} x_{24}}{x_{13} x_{24}}, a_{35} : 0, a_{45} : 0\\right\\}\\right]"
      ]
     },
     "execution_count": 23,
     "metadata": {},
     "output_type": "execute_result"
    }
   ],
   "source": [
    "#x1\n",
    "reset()\n",
    "\n",
    "var('x12,x13,x14,x15,x23,x24,x25,x34,x35,x45')\n",
    "var('d1,d2,d3,d4,d5')\n",
    "var('a12,a13,a14,a15,a23,a24,a25,a34,a35,a45')\n",
    "\n",
    "load_attach_path('C:\\\\Users\\\\julia\\\\Documents\\\\unb\\\\doutorado\\\\pensar\\\\codigo_sage_v2\\\\maquina\\\\x1')\n",
    "load('out_#010110.sage')\n",
    "\n",
    "m=matrix(QQ, [[0, 0, 1, 0, 0],\n",
    "              [0, 0, 0, 1, 0],\n",
    "              [0, 0, 0, 0, 0],\n",
    "              [0, 0, 0, 0, 0],\n",
    "              [0, 0, 0, 0, 0]])\n",
    "        \n",
    "#entry of matrix: (i,j) line i collum j, means (i-1,j-1)\n",
    "sol=solve([ \teq1==m[0,2],\teq2==m[0,3],\teq3==m[0,4],\t\n",
    "                                            eq4==m[1,3],    eq5==m[1,4],\n",
    "                                                            eq6==m[2,4]],d1,d2,d3,d4,d5,a12,a13,a14,a15,a23,a24,a25,a34,a35,a45, solution_dict=True)\n",
    "\n",
    "show(m)\n",
    "show(sol)\n",
    "latex(sol)"
   ]
  },
  {
   "cell_type": "code",
   "execution_count": 24,
   "metadata": {},
   "outputs": [
    {
     "data": {
      "text/html": [
       "<html><script type=\"math/tex; mode=display\">\\newcommand{\\Bold}[1]{\\mathbf{#1}}\\left(\\begin{array}{rrrrr}\n",
       "0 & 0 & 1 & 0 & 0 \\\\\n",
       "0 & 0 & 0 & 1 & 0 \\\\\n",
       "0 & 0 & 0 & 0 & 0 \\\\\n",
       "0 & 0 & 0 & 0 & 0 \\\\\n",
       "0 & 0 & 0 & 0 & 0\n",
       "\\end{array}\\right)</script></html>"
      ],
      "text/latex": [
       "$$\\newcommand{\\Bold}[1]{\\mathbf{#1}}\\left(\\begin{array}{rrrrr}\n",
       "0 & 0 & 1 & 0 & 0 \\\\\n",
       "0 & 0 & 0 & 1 & 0 \\\\\n",
       "0 & 0 & 0 & 0 & 0 \\\\\n",
       "0 & 0 & 0 & 0 & 0 \\\\\n",
       "0 & 0 & 0 & 0 & 0\n",
       "\\end{array}\\right)$$"
      ],
      "text/plain": [
       "[0 0 1 0 0]\n",
       "[0 0 0 1 0]\n",
       "[0 0 0 0 0]\n",
       "[0 0 0 0 0]\n",
       "[0 0 0 0 0]"
      ]
     },
     "metadata": {},
     "output_type": "display_data"
    },
    {
     "data": {
      "text/html": [
       "<html><script type=\"math/tex; mode=display\">\\newcommand{\\Bold}[1]{\\mathbf{#1}}\\left[\\left\\{d_{1} : r_{449}, d_{2} : 0, d_{3} : \\frac{r_{449}}{x_{13}}, d_{4} : 0, d_{5} : r_{450}, a_{12} : r_{451}, a_{13} : r_{452}, a_{14} : r_{453}, a_{15} : r_{454}, a_{23} : r_{455}, a_{24} : r_{456}, a_{25} : r_{457}, a_{34} : r_{458}, a_{35} : r_{459}, a_{45} : 0\\right\\}, \\left\\{d_{1} : r_{460}, d_{2} : r_{461}, d_{3} : \\frac{r_{460}}{x_{13}}, d_{4} : \\frac{r_{461}}{x_{24}}, d_{5} : r_{462}, a_{12} : r_{463}, a_{13} : r_{464}, a_{14} : r_{465}, a_{15} : r_{466}, a_{23} : r_{467}, a_{24} : r_{468}, a_{25} : r_{469}, a_{34} : -\\frac{r_{461} x_{14} - r_{463} x_{24}}{x_{13} x_{24}}, a_{35} : -\\frac{r_{462} x_{15}}{x_{13}}, a_{45} : 0\\right\\}\\right]</script></html>"
      ],
      "text/latex": [
       "$$\\newcommand{\\Bold}[1]{\\mathbf{#1}}\\left[\\left\\{d_{1} : r_{449}, d_{2} : 0, d_{3} : \\frac{r_{449}}{x_{13}}, d_{4} : 0, d_{5} : r_{450}, a_{12} : r_{451}, a_{13} : r_{452}, a_{14} : r_{453}, a_{15} : r_{454}, a_{23} : r_{455}, a_{24} : r_{456}, a_{25} : r_{457}, a_{34} : r_{458}, a_{35} : r_{459}, a_{45} : 0\\right\\}, \\left\\{d_{1} : r_{460}, d_{2} : r_{461}, d_{3} : \\frac{r_{460}}{x_{13}}, d_{4} : \\frac{r_{461}}{x_{24}}, d_{5} : r_{462}, a_{12} : r_{463}, a_{13} : r_{464}, a_{14} : r_{465}, a_{15} : r_{466}, a_{23} : r_{467}, a_{24} : r_{468}, a_{25} : r_{469}, a_{34} : -\\frac{r_{461} x_{14} - r_{463} x_{24}}{x_{13} x_{24}}, a_{35} : -\\frac{r_{462} x_{15}}{x_{13}}, a_{45} : 0\\right\\}\\right]$$"
      ],
      "text/plain": [
       "[{d1: r449,\n",
       "  d2: 0,\n",
       "  d3: r449/x13,\n",
       "  d4: 0,\n",
       "  d5: r450,\n",
       "  a12: r451,\n",
       "  a13: r452,\n",
       "  a14: r453,\n",
       "  a15: r454,\n",
       "  a23: r455,\n",
       "  a24: r456,\n",
       "  a25: r457,\n",
       "  a34: r458,\n",
       "  a35: r459,\n",
       "  a45: 0},\n",
       " {d1: r460,\n",
       "  d2: r461,\n",
       "  d3: r460/x13,\n",
       "  d4: r461/x24,\n",
       "  d5: r462,\n",
       "  a12: r463,\n",
       "  a13: r464,\n",
       "  a14: r465,\n",
       "  a15: r466,\n",
       "  a23: r467,\n",
       "  a24: r468,\n",
       "  a25: r469,\n",
       "  a34: -(r461*x14 - r463*x24)/(x13*x24),\n",
       "  a35: -r462*x15/x13,\n",
       "  a45: 0}]"
      ]
     },
     "metadata": {},
     "output_type": "display_data"
    },
    {
     "data": {
      "text/plain": [
       "\\left[\\left\\{d_{1} : r_{449}, d_{2} : 0, d_{3} : \\frac{r_{449}}{x_{13}}, d_{4} : 0, d_{5} : r_{450}, a_{12} : r_{451}, a_{13} : r_{452}, a_{14} : r_{453}, a_{15} : r_{454}, a_{23} : r_{455}, a_{24} : r_{456}, a_{25} : r_{457}, a_{34} : r_{458}, a_{35} : r_{459}, a_{45} : 0\\right\\}, \\left\\{d_{1} : r_{460}, d_{2} : r_{461}, d_{3} : \\frac{r_{460}}{x_{13}}, d_{4} : \\frac{r_{461}}{x_{24}}, d_{5} : r_{462}, a_{12} : r_{463}, a_{13} : r_{464}, a_{14} : r_{465}, a_{15} : r_{466}, a_{23} : r_{467}, a_{24} : r_{468}, a_{25} : r_{469}, a_{34} : -\\frac{r_{461} x_{14} - r_{463} x_{24}}{x_{13} x_{24}}, a_{35} : -\\frac{r_{462} x_{15}}{x_{13}}, a_{45} : 0\\right\\}\\right]"
      ]
     },
     "execution_count": 24,
     "metadata": {},
     "output_type": "execute_result"
    }
   ],
   "source": [
    "#x1\n",
    "reset()\n",
    "\n",
    "var('x12,x13,x14,x15,x23,x24,x25,x34,x35,x45')\n",
    "var('d1,d2,d3,d4,d5')\n",
    "var('a12,a13,a14,a15,a23,a24,a25,a34,a35,a45')\n",
    "\n",
    "load_attach_path('C:\\\\Users\\\\julia\\\\Documents\\\\unb\\\\doutorado\\\\pensar\\\\codigo_sage_v2\\\\maquina\\\\x1')\n",
    "load('out_#010111.sage')\n",
    "\n",
    "m=matrix(QQ, [[0, 0, 1, 0, 0],\n",
    "              [0, 0, 0, 1, 0],\n",
    "              [0, 0, 0, 0, 0],\n",
    "              [0, 0, 0, 0, 0],\n",
    "              [0, 0, 0, 0, 0]])\n",
    "        \n",
    "#entry of matrix: (i,j) line i collum j, means (i-1,j-1)\n",
    "sol=solve([ \teq1==m[0,2],\teq2==m[0,3],\teq3==m[0,4],\t\n",
    "                                            eq4==m[1,3],    eq5==m[1,4],\n",
    "                                                            eq6==m[2,4]],d1,d2,d3,d4,d5,a12,a13,a14,a15,a23,a24,a25,a34,a35,a45, solution_dict=True)\n",
    "\n",
    "show(m)\n",
    "show(sol)\n",
    "latex(sol)"
   ]
  },
  {
   "cell_type": "code",
   "execution_count": 25,
   "metadata": {},
   "outputs": [
    {
     "data": {
      "text/html": [
       "<html><script type=\"math/tex; mode=display\">\\newcommand{\\Bold}[1]{\\mathbf{#1}}\\left(\\begin{array}{rrrrr}\n",
       "0 & 0 & 0 & 0 & 0 \\\\\n",
       "0 & 0 & 0 & 1 & 0 \\\\\n",
       "0 & 0 & 0 & 0 & 0 \\\\\n",
       "0 & 0 & 0 & 0 & 0 \\\\\n",
       "0 & 0 & 0 & 0 & 0\n",
       "\\end{array}\\right)</script></html>"
      ],
      "text/latex": [
       "$$\\newcommand{\\Bold}[1]{\\mathbf{#1}}\\left(\\begin{array}{rrrrr}\n",
       "0 & 0 & 0 & 0 & 0 \\\\\n",
       "0 & 0 & 0 & 1 & 0 \\\\\n",
       "0 & 0 & 0 & 0 & 0 \\\\\n",
       "0 & 0 & 0 & 0 & 0 \\\\\n",
       "0 & 0 & 0 & 0 & 0\n",
       "\\end{array}\\right)$$"
      ],
      "text/plain": [
       "[0 0 0 0 0]\n",
       "[0 0 0 1 0]\n",
       "[0 0 0 0 0]\n",
       "[0 0 0 0 0]\n",
       "[0 0 0 0 0]"
      ]
     },
     "metadata": {},
     "output_type": "display_data"
    },
    {
     "data": {
      "text/html": [
       "<html><script type=\"math/tex; mode=display\">\\newcommand{\\Bold}[1]{\\mathbf{#1}}\\left[\\left\\{d_{1} : r_{470}, d_{2} : r_{471}, d_{3} : r_{472}, d_{4} : \\frac{r_{471}}{x_{24}}, d_{5} : r_{473}, a_{12} : 0, a_{13} : r_{474}, a_{14} : r_{475}, a_{15} : r_{476}, a_{23} : r_{477}, a_{24} : r_{478}, a_{25} : r_{479}, a_{34} : r_{480}, a_{35} : r_{481}, a_{45} : -\\frac{r_{473} x_{25}}{x_{24}}\\right\\}, \\left\\{d_{1} : r_{482}, d_{2} : 0, d_{3} : r_{483}, d_{4} : 0, d_{5} : r_{484}, a_{12} : r_{485}, a_{13} : r_{486}, a_{14} : r_{487}, a_{15} : r_{488}, a_{23} : r_{489}, a_{24} : r_{490}, a_{25} : r_{491}, a_{34} : r_{492}, a_{35} : r_{493}, a_{45} : -\\frac{r_{484} x_{25}}{x_{24}}\\right\\}\\right]</script></html>"
      ],
      "text/latex": [
       "$$\\newcommand{\\Bold}[1]{\\mathbf{#1}}\\left[\\left\\{d_{1} : r_{470}, d_{2} : r_{471}, d_{3} : r_{472}, d_{4} : \\frac{r_{471}}{x_{24}}, d_{5} : r_{473}, a_{12} : 0, a_{13} : r_{474}, a_{14} : r_{475}, a_{15} : r_{476}, a_{23} : r_{477}, a_{24} : r_{478}, a_{25} : r_{479}, a_{34} : r_{480}, a_{35} : r_{481}, a_{45} : -\\frac{r_{473} x_{25}}{x_{24}}\\right\\}, \\left\\{d_{1} : r_{482}, d_{2} : 0, d_{3} : r_{483}, d_{4} : 0, d_{5} : r_{484}, a_{12} : r_{485}, a_{13} : r_{486}, a_{14} : r_{487}, a_{15} : r_{488}, a_{23} : r_{489}, a_{24} : r_{490}, a_{25} : r_{491}, a_{34} : r_{492}, a_{35} : r_{493}, a_{45} : -\\frac{r_{484} x_{25}}{x_{24}}\\right\\}\\right]$$"
      ],
      "text/plain": [
       "[{d1: r470,\n",
       "  d2: r471,\n",
       "  d3: r472,\n",
       "  d4: r471/x24,\n",
       "  d5: r473,\n",
       "  a12: 0,\n",
       "  a13: r474,\n",
       "  a14: r475,\n",
       "  a15: r476,\n",
       "  a23: r477,\n",
       "  a24: r478,\n",
       "  a25: r479,\n",
       "  a34: r480,\n",
       "  a35: r481,\n",
       "  a45: -r473*x25/x24},\n",
       " {d1: r482,\n",
       "  d2: 0,\n",
       "  d3: r483,\n",
       "  d4: 0,\n",
       "  d5: r484,\n",
       "  a12: r485,\n",
       "  a13: r486,\n",
       "  a14: r487,\n",
       "  a15: r488,\n",
       "  a23: r489,\n",
       "  a24: r490,\n",
       "  a25: r491,\n",
       "  a34: r492,\n",
       "  a35: r493,\n",
       "  a45: -r484*x25/x24}]"
      ]
     },
     "metadata": {},
     "output_type": "display_data"
    },
    {
     "data": {
      "text/plain": [
       "\\left[\\left\\{d_{1} : r_{470}, d_{2} : r_{471}, d_{3} : r_{472}, d_{4} : \\frac{r_{471}}{x_{24}}, d_{5} : r_{473}, a_{12} : 0, a_{13} : r_{474}, a_{14} : r_{475}, a_{15} : r_{476}, a_{23} : r_{477}, a_{24} : r_{478}, a_{25} : r_{479}, a_{34} : r_{480}, a_{35} : r_{481}, a_{45} : -\\frac{r_{473} x_{25}}{x_{24}}\\right\\}, \\left\\{d_{1} : r_{482}, d_{2} : 0, d_{3} : r_{483}, d_{4} : 0, d_{5} : r_{484}, a_{12} : r_{485}, a_{13} : r_{486}, a_{14} : r_{487}, a_{15} : r_{488}, a_{23} : r_{489}, a_{24} : r_{490}, a_{25} : r_{491}, a_{34} : r_{492}, a_{35} : r_{493}, a_{45} : -\\frac{r_{484} x_{25}}{x_{24}}\\right\\}\\right]"
      ]
     },
     "execution_count": 25,
     "metadata": {},
     "output_type": "execute_result"
    }
   ],
   "source": [
    "#x1\n",
    "reset()\n",
    "\n",
    "var('x12,x13,x14,x15,x23,x24,x25,x34,x35,x45')\n",
    "var('d1,d2,d3,d4,d5')\n",
    "var('a12,a13,a14,a15,a23,a24,a25,a34,a35,a45')\n",
    "\n",
    "load_attach_path('C:\\\\Users\\\\julia\\\\Documents\\\\unb\\\\doutorado\\\\pensar\\\\codigo_sage_v2\\\\maquina\\\\x1')\n",
    "load('out_#011000.sage')\n",
    "\n",
    "m=matrix(QQ, [[0, 0, 0, 0, 0],\n",
    "              [0, 0, 0, 1, 0],\n",
    "              [0, 0, 0, 0, 0],\n",
    "              [0, 0, 0, 0, 0],\n",
    "              [0, 0, 0, 0, 0]])\n",
    "        \n",
    "#entry of matrix: (i,j) line i collum j, means (i-1,j-1)\n",
    "sol=solve([ \teq1==m[0,2],\teq2==m[0,3],\teq3==m[0,4],\t\n",
    "                                            eq4==m[1,3],    eq5==m[1,4],\n",
    "                                                            eq6==m[2,4]],d1,d2,d3,d4,d5,a12,a13,a14,a15,a23,a24,a25,a34,a35,a45, solution_dict=True)\n",
    "\n",
    "show(m)\n",
    "show(sol)\n",
    "latex(sol)"
   ]
  },
  {
   "cell_type": "code",
   "execution_count": 26,
   "metadata": {},
   "outputs": [
    {
     "data": {
      "text/html": [
       "<html><script type=\"math/tex; mode=display\">\\newcommand{\\Bold}[1]{\\mathbf{#1}}\\left(\\begin{array}{rrrrr}\n",
       "0 & 0 & 0 & 0 & 1 \\\\\n",
       "0 & 0 & 0 & 1 & 0 \\\\\n",
       "0 & 0 & 0 & 0 & 0 \\\\\n",
       "0 & 0 & 0 & 0 & 0 \\\\\n",
       "0 & 0 & 0 & 0 & 0\n",
       "\\end{array}\\right)</script></html>"
      ],
      "text/latex": [
       "$$\\newcommand{\\Bold}[1]{\\mathbf{#1}}\\left(\\begin{array}{rrrrr}\n",
       "0 & 0 & 0 & 0 & 1 \\\\\n",
       "0 & 0 & 0 & 1 & 0 \\\\\n",
       "0 & 0 & 0 & 0 & 0 \\\\\n",
       "0 & 0 & 0 & 0 & 0 \\\\\n",
       "0 & 0 & 0 & 0 & 0\n",
       "\\end{array}\\right)$$"
      ],
      "text/plain": [
       "[0 0 0 0 1]\n",
       "[0 0 0 1 0]\n",
       "[0 0 0 0 0]\n",
       "[0 0 0 0 0]\n",
       "[0 0 0 0 0]"
      ]
     },
     "metadata": {},
     "output_type": "display_data"
    },
    {
     "data": {
      "text/html": [
       "<html><script type=\"math/tex; mode=display\">\\newcommand{\\Bold}[1]{\\mathbf{#1}}\\left[\\left\\{d_{1} : r_{494}, d_{2} : 0, d_{3} : r_{495}, d_{4} : 0, d_{5} : r_{496}, a_{12} : r_{497}, a_{13} : r_{498}, a_{14} : r_{499}, a_{15} : r_{500}, a_{23} : r_{501}, a_{24} : r_{502}, a_{25} : r_{503}, a_{34} : r_{504}, a_{35} : r_{505}, a_{45} : -\\frac{r_{496} x_{25}}{x_{24}}\\right\\}, \\left\\{d_{1} : r_{506}, d_{2} : r_{507}, d_{3} : r_{508}, d_{4} : \\frac{r_{507}}{x_{24}}, d_{5} : \\frac{r_{506}}{x_{15}}, a_{12} : 0, a_{13} : r_{509}, a_{14} : r_{510}, a_{15} : r_{511}, a_{23} : r_{512}, a_{24} : r_{513}, a_{25} : r_{514}, a_{34} : r_{515}, a_{35} : r_{516}, a_{45} : -\\frac{r_{506} x_{25}}{x_{15} x_{24}}\\right\\}\\right]</script></html>"
      ],
      "text/latex": [
       "$$\\newcommand{\\Bold}[1]{\\mathbf{#1}}\\left[\\left\\{d_{1} : r_{494}, d_{2} : 0, d_{3} : r_{495}, d_{4} : 0, d_{5} : r_{496}, a_{12} : r_{497}, a_{13} : r_{498}, a_{14} : r_{499}, a_{15} : r_{500}, a_{23} : r_{501}, a_{24} : r_{502}, a_{25} : r_{503}, a_{34} : r_{504}, a_{35} : r_{505}, a_{45} : -\\frac{r_{496} x_{25}}{x_{24}}\\right\\}, \\left\\{d_{1} : r_{506}, d_{2} : r_{507}, d_{3} : r_{508}, d_{4} : \\frac{r_{507}}{x_{24}}, d_{5} : \\frac{r_{506}}{x_{15}}, a_{12} : 0, a_{13} : r_{509}, a_{14} : r_{510}, a_{15} : r_{511}, a_{23} : r_{512}, a_{24} : r_{513}, a_{25} : r_{514}, a_{34} : r_{515}, a_{35} : r_{516}, a_{45} : -\\frac{r_{506} x_{25}}{x_{15} x_{24}}\\right\\}\\right]$$"
      ],
      "text/plain": [
       "[{d1: r494,\n",
       "  d2: 0,\n",
       "  d3: r495,\n",
       "  d4: 0,\n",
       "  d5: r496,\n",
       "  a12: r497,\n",
       "  a13: r498,\n",
       "  a14: r499,\n",
       "  a15: r500,\n",
       "  a23: r501,\n",
       "  a24: r502,\n",
       "  a25: r503,\n",
       "  a34: r504,\n",
       "  a35: r505,\n",
       "  a45: -r496*x25/x24},\n",
       " {d1: r506,\n",
       "  d2: r507,\n",
       "  d3: r508,\n",
       "  d4: r507/x24,\n",
       "  d5: r506/x15,\n",
       "  a12: 0,\n",
       "  a13: r509,\n",
       "  a14: r510,\n",
       "  a15: r511,\n",
       "  a23: r512,\n",
       "  a24: r513,\n",
       "  a25: r514,\n",
       "  a34: r515,\n",
       "  a35: r516,\n",
       "  a45: -r506*x25/(x15*x24)}]"
      ]
     },
     "metadata": {},
     "output_type": "display_data"
    },
    {
     "data": {
      "text/plain": [
       "\\left[\\left\\{d_{1} : r_{494}, d_{2} : 0, d_{3} : r_{495}, d_{4} : 0, d_{5} : r_{496}, a_{12} : r_{497}, a_{13} : r_{498}, a_{14} : r_{499}, a_{15} : r_{500}, a_{23} : r_{501}, a_{24} : r_{502}, a_{25} : r_{503}, a_{34} : r_{504}, a_{35} : r_{505}, a_{45} : -\\frac{r_{496} x_{25}}{x_{24}}\\right\\}, \\left\\{d_{1} : r_{506}, d_{2} : r_{507}, d_{3} : r_{508}, d_{4} : \\frac{r_{507}}{x_{24}}, d_{5} : \\frac{r_{506}}{x_{15}}, a_{12} : 0, a_{13} : r_{509}, a_{14} : r_{510}, a_{15} : r_{511}, a_{23} : r_{512}, a_{24} : r_{513}, a_{25} : r_{514}, a_{34} : r_{515}, a_{35} : r_{516}, a_{45} : -\\frac{r_{506} x_{25}}{x_{15} x_{24}}\\right\\}\\right]"
      ]
     },
     "execution_count": 26,
     "metadata": {},
     "output_type": "execute_result"
    }
   ],
   "source": [
    "#x1\n",
    "reset()\n",
    "\n",
    "var('x12,x13,x14,x15,x23,x24,x25,x34,x35,x45')\n",
    "var('d1,d2,d3,d4,d5')\n",
    "var('a12,a13,a14,a15,a23,a24,a25,a34,a35,a45')\n",
    "\n",
    "load_attach_path('C:\\\\Users\\\\julia\\\\Documents\\\\unb\\\\doutorado\\\\pensar\\\\codigo_sage_v2\\\\maquina\\\\x1')\n",
    "load('out_#011001.sage')\n",
    "\n",
    "m=matrix(QQ, [[0, 0, 0, 0, 1],\n",
    "              [0, 0, 0, 1, 0],\n",
    "              [0, 0, 0, 0, 0],\n",
    "              [0, 0, 0, 0, 0],\n",
    "              [0, 0, 0, 0, 0]])\n",
    "        \n",
    "#entry of matrix: (i,j) line i collum j, means (i-1,j-1)\n",
    "sol=solve([ \teq1==m[0,2],\teq2==m[0,3],\teq3==m[0,4],\t\n",
    "                                            eq4==m[1,3],    eq5==m[1,4],\n",
    "                                                            eq6==m[2,4]],d1,d2,d3,d4,d5,a12,a13,a14,a15,a23,a24,a25,a34,a35,a45, solution_dict=True)\n",
    "\n",
    "show(m)\n",
    "show(sol)\n",
    "latex(sol)"
   ]
  },
  {
   "cell_type": "code",
   "execution_count": 27,
   "metadata": {},
   "outputs": [
    {
     "data": {
      "text/html": [
       "<html><script type=\"math/tex; mode=display\">\\newcommand{\\Bold}[1]{\\mathbf{#1}}\\left(\\begin{array}{rrrrr}\n",
       "0 & 0 & 0 & 1 & 0 \\\\\n",
       "0 & 0 & 0 & 1 & 1 \\\\\n",
       "0 & 0 & 0 & 0 & 0 \\\\\n",
       "0 & 0 & 0 & 0 & 0 \\\\\n",
       "0 & 0 & 0 & 0 & 0\n",
       "\\end{array}\\right)</script></html>"
      ],
      "text/latex": [
       "$$\\newcommand{\\Bold}[1]{\\mathbf{#1}}\\left(\\begin{array}{rrrrr}\n",
       "0 & 0 & 0 & 1 & 0 \\\\\n",
       "0 & 0 & 0 & 1 & 1 \\\\\n",
       "0 & 0 & 0 & 0 & 0 \\\\\n",
       "0 & 0 & 0 & 0 & 0 \\\\\n",
       "0 & 0 & 0 & 0 & 0\n",
       "\\end{array}\\right)$$"
      ],
      "text/plain": [
       "[0 0 0 1 0]\n",
       "[0 0 0 1 1]\n",
       "[0 0 0 0 0]\n",
       "[0 0 0 0 0]\n",
       "[0 0 0 0 0]"
      ]
     },
     "metadata": {},
     "output_type": "display_data"
    },
    {
     "data": {
      "text/html": [
       "<html><script type=\"math/tex; mode=display\">\\newcommand{\\Bold}[1]{\\mathbf{#1}}\\left[\\left\\{d_{1} : r_{517}, d_{2} : 0, d_{3} : r_{518}, d_{4} : 0, d_{5} : r_{519}, a_{12} : r_{520}, a_{13} : r_{521}, a_{14} : r_{522}, a_{15} : r_{523}, a_{23} : r_{524}, a_{24} : r_{525}, a_{25} : r_{526}, a_{34} : r_{527}, a_{35} : r_{528}, a_{45} : -\\frac{r_{519} x_{25}}{x_{24}}\\right\\}, \\left\\{d_{1} : r_{529}, d_{2} : r_{530}, d_{3} : r_{531}, d_{4} : \\frac{r_{530}}{x_{24}}, d_{5} : \\frac{r_{529} x_{24}}{x_{14} x_{25}}, a_{12} : \\frac{r_{530} x_{14} - r_{529} x_{24}}{x_{24}}, a_{13} : r_{532}, a_{14} : r_{533}, a_{15} : r_{534}, a_{23} : r_{535}, a_{24} : r_{536}, a_{25} : r_{537}, a_{34} : r_{538}, a_{35} : r_{539}, a_{45} : \\frac{r_{530} x_{14} - r_{529} x_{24}}{x_{14} x_{24}}\\right\\}\\right]</script></html>"
      ],
      "text/latex": [
       "$$\\newcommand{\\Bold}[1]{\\mathbf{#1}}\\left[\\left\\{d_{1} : r_{517}, d_{2} : 0, d_{3} : r_{518}, d_{4} : 0, d_{5} : r_{519}, a_{12} : r_{520}, a_{13} : r_{521}, a_{14} : r_{522}, a_{15} : r_{523}, a_{23} : r_{524}, a_{24} : r_{525}, a_{25} : r_{526}, a_{34} : r_{527}, a_{35} : r_{528}, a_{45} : -\\frac{r_{519} x_{25}}{x_{24}}\\right\\}, \\left\\{d_{1} : r_{529}, d_{2} : r_{530}, d_{3} : r_{531}, d_{4} : \\frac{r_{530}}{x_{24}}, d_{5} : \\frac{r_{529} x_{24}}{x_{14} x_{25}}, a_{12} : \\frac{r_{530} x_{14} - r_{529} x_{24}}{x_{24}}, a_{13} : r_{532}, a_{14} : r_{533}, a_{15} : r_{534}, a_{23} : r_{535}, a_{24} : r_{536}, a_{25} : r_{537}, a_{34} : r_{538}, a_{35} : r_{539}, a_{45} : \\frac{r_{530} x_{14} - r_{529} x_{24}}{x_{14} x_{24}}\\right\\}\\right]$$"
      ],
      "text/plain": [
       "[{d1: r517,\n",
       "  d2: 0,\n",
       "  d3: r518,\n",
       "  d4: 0,\n",
       "  d5: r519,\n",
       "  a12: r520,\n",
       "  a13: r521,\n",
       "  a14: r522,\n",
       "  a15: r523,\n",
       "  a23: r524,\n",
       "  a24: r525,\n",
       "  a25: r526,\n",
       "  a34: r527,\n",
       "  a35: r528,\n",
       "  a45: -r519*x25/x24},\n",
       " {d1: r529,\n",
       "  d2: r530,\n",
       "  d3: r531,\n",
       "  d4: r530/x24,\n",
       "  d5: r529*x24/(x14*x25),\n",
       "  a12: (r530*x14 - r529*x24)/x24,\n",
       "  a13: r532,\n",
       "  a14: r533,\n",
       "  a15: r534,\n",
       "  a23: r535,\n",
       "  a24: r536,\n",
       "  a25: r537,\n",
       "  a34: r538,\n",
       "  a35: r539,\n",
       "  a45: (r530*x14 - r529*x24)/(x14*x24)}]"
      ]
     },
     "metadata": {},
     "output_type": "display_data"
    },
    {
     "data": {
      "text/plain": [
       "\\left[\\left\\{d_{1} : r_{517}, d_{2} : 0, d_{3} : r_{518}, d_{4} : 0, d_{5} : r_{519}, a_{12} : r_{520}, a_{13} : r_{521}, a_{14} : r_{522}, a_{15} : r_{523}, a_{23} : r_{524}, a_{24} : r_{525}, a_{25} : r_{526}, a_{34} : r_{527}, a_{35} : r_{528}, a_{45} : -\\frac{r_{519} x_{25}}{x_{24}}\\right\\}, \\left\\{d_{1} : r_{529}, d_{2} : r_{530}, d_{3} : r_{531}, d_{4} : \\frac{r_{530}}{x_{24}}, d_{5} : \\frac{r_{529} x_{24}}{x_{14} x_{25}}, a_{12} : \\frac{r_{530} x_{14} - r_{529} x_{24}}{x_{24}}, a_{13} : r_{532}, a_{14} : r_{533}, a_{15} : r_{534}, a_{23} : r_{535}, a_{24} : r_{536}, a_{25} : r_{537}, a_{34} : r_{538}, a_{35} : r_{539}, a_{45} : \\frac{r_{530} x_{14} - r_{529} x_{24}}{x_{14} x_{24}}\\right\\}\\right]"
      ]
     },
     "execution_count": 27,
     "metadata": {},
     "output_type": "execute_result"
    }
   ],
   "source": [
    "#x1\n",
    "reset()\n",
    "\n",
    "var('x12,x13,x14,x15,x23,x24,x25,x34,x35,x45')\n",
    "var('d1,d2,d3,d4,d5')\n",
    "var('a12,a13,a14,a15,a23,a24,a25,a34,a35,a45')\n",
    "\n",
    "load_attach_path('C:\\\\Users\\\\julia\\\\Documents\\\\unb\\\\doutorado\\\\pensar\\\\codigo_sage_v2\\\\maquina\\\\x1')\n",
    "load('out_#011010.sage')\n",
    "\n",
    "m=matrix(QQ, [[0, 0, 0, 1, 0],\n",
    "              [0, 0, 0, 1, 1],\n",
    "              [0, 0, 0, 0, 0],\n",
    "              [0, 0, 0, 0, 0],\n",
    "              [0, 0, 0, 0, 0]])\n",
    "        \n",
    "#entry of matrix: (i,j) line i collum j, means (i-1,j-1)\n",
    "sol=solve([ \teq1==m[0,2],\teq2==m[0,3],\teq3==m[0,4],\t\n",
    "                                            eq4==m[1,3],    eq5==m[1,4],\n",
    "                                                            eq6==m[2,4]],d1,d2,d3,d4,d5,a12,a13,a14,a15,a23,a24,a25,a34,a35,a45, solution_dict=True)\n",
    "\n",
    "show(m)\n",
    "show(sol)\n",
    "latex(sol)"
   ]
  },
  {
   "cell_type": "code",
   "execution_count": 28,
   "metadata": {},
   "outputs": [
    {
     "data": {
      "text/html": [
       "<html><script type=\"math/tex; mode=display\">\\newcommand{\\Bold}[1]{\\mathbf{#1}}\\left(\\begin{array}{rrrrr}\n",
       "0 & 0 & 0 & 1 & 0 \\\\\n",
       "0 & 0 & 0 & 1 & 1 \\\\\n",
       "0 & 0 & 0 & 0 & 0 \\\\\n",
       "0 & 0 & 0 & 0 & 0 \\\\\n",
       "0 & 0 & 0 & 0 & 0\n",
       "\\end{array}\\right)</script></html>"
      ],
      "text/latex": [
       "$$\\newcommand{\\Bold}[1]{\\mathbf{#1}}\\left(\\begin{array}{rrrrr}\n",
       "0 & 0 & 0 & 1 & 0 \\\\\n",
       "0 & 0 & 0 & 1 & 1 \\\\\n",
       "0 & 0 & 0 & 0 & 0 \\\\\n",
       "0 & 0 & 0 & 0 & 0 \\\\\n",
       "0 & 0 & 0 & 0 & 0\n",
       "\\end{array}\\right)$$"
      ],
      "text/plain": [
       "[0 0 0 1 0]\n",
       "[0 0 0 1 1]\n",
       "[0 0 0 0 0]\n",
       "[0 0 0 0 0]\n",
       "[0 0 0 0 0]"
      ]
     },
     "metadata": {},
     "output_type": "display_data"
    },
    {
     "data": {
      "text/html": [
       "<html><script type=\"math/tex; mode=display\">\\newcommand{\\Bold}[1]{\\mathbf{#1}}\\left[\\left\\{d_{1} : r_{540}, d_{2} : 0, d_{3} : r_{541}, d_{4} : 0, d_{5} : r_{542}, a_{12} : r_{543}, a_{13} : r_{544}, a_{14} : r_{545}, a_{15} : r_{546}, a_{23} : r_{547}, a_{24} : r_{548}, a_{25} : r_{549}, a_{34} : r_{550}, a_{35} : r_{551}, a_{45} : -\\frac{r_{542} x_{25}}{x_{24}}\\right\\}, \\left\\{d_{1} : r_{552}, d_{2} : r_{553}, d_{3} : r_{554}, d_{4} : \\frac{r_{553}}{x_{24}}, d_{5} : -\\frac{r_{552} x_{24}}{x_{15} x_{24} - x_{14} x_{25}}, a_{12} : \\frac{r_{553} x_{14} - r_{552} x_{24}}{x_{24}}, a_{13} : r_{555}, a_{14} : r_{556}, a_{15} : r_{557}, a_{23} : r_{558}, a_{24} : r_{559}, a_{25} : r_{560}, a_{34} : r_{561}, a_{35} : r_{562}, a_{45} : \\frac{r_{553} x_{15} x_{24} - {\\left(r_{553} x_{14} - r_{552} x_{24}\\right)} x_{25}}{x_{15} x_{24}^{2} - x_{14} x_{24} x_{25}}\\right\\}\\right]</script></html>"
      ],
      "text/latex": [
       "$$\\newcommand{\\Bold}[1]{\\mathbf{#1}}\\left[\\left\\{d_{1} : r_{540}, d_{2} : 0, d_{3} : r_{541}, d_{4} : 0, d_{5} : r_{542}, a_{12} : r_{543}, a_{13} : r_{544}, a_{14} : r_{545}, a_{15} : r_{546}, a_{23} : r_{547}, a_{24} : r_{548}, a_{25} : r_{549}, a_{34} : r_{550}, a_{35} : r_{551}, a_{45} : -\\frac{r_{542} x_{25}}{x_{24}}\\right\\}, \\left\\{d_{1} : r_{552}, d_{2} : r_{553}, d_{3} : r_{554}, d_{4} : \\frac{r_{553}}{x_{24}}, d_{5} : -\\frac{r_{552} x_{24}}{x_{15} x_{24} - x_{14} x_{25}}, a_{12} : \\frac{r_{553} x_{14} - r_{552} x_{24}}{x_{24}}, a_{13} : r_{555}, a_{14} : r_{556}, a_{15} : r_{557}, a_{23} : r_{558}, a_{24} : r_{559}, a_{25} : r_{560}, a_{34} : r_{561}, a_{35} : r_{562}, a_{45} : \\frac{r_{553} x_{15} x_{24} - {\\left(r_{553} x_{14} - r_{552} x_{24}\\right)} x_{25}}{x_{15} x_{24}^{2} - x_{14} x_{24} x_{25}}\\right\\}\\right]$$"
      ],
      "text/plain": [
       "[{d1: r540,\n",
       "  d2: 0,\n",
       "  d3: r541,\n",
       "  d4: 0,\n",
       "  d5: r542,\n",
       "  a12: r543,\n",
       "  a13: r544,\n",
       "  a14: r545,\n",
       "  a15: r546,\n",
       "  a23: r547,\n",
       "  a24: r548,\n",
       "  a25: r549,\n",
       "  a34: r550,\n",
       "  a35: r551,\n",
       "  a45: -r542*x25/x24},\n",
       " {d1: r552,\n",
       "  d2: r553,\n",
       "  d3: r554,\n",
       "  d4: r553/x24,\n",
       "  d5: -r552*x24/(x15*x24 - x14*x25),\n",
       "  a12: (r553*x14 - r552*x24)/x24,\n",
       "  a13: r555,\n",
       "  a14: r556,\n",
       "  a15: r557,\n",
       "  a23: r558,\n",
       "  a24: r559,\n",
       "  a25: r560,\n",
       "  a34: r561,\n",
       "  a35: r562,\n",
       "  a45: (r553*x15*x24 - (r553*x14 - r552*x24)*x25)/(x15*x24^2 - x14*x24*x25)}]"
      ]
     },
     "metadata": {},
     "output_type": "display_data"
    },
    {
     "data": {
      "text/plain": [
       "\\left[\\left\\{d_{1} : r_{540}, d_{2} : 0, d_{3} : r_{541}, d_{4} : 0, d_{5} : r_{542}, a_{12} : r_{543}, a_{13} : r_{544}, a_{14} : r_{545}, a_{15} : r_{546}, a_{23} : r_{547}, a_{24} : r_{548}, a_{25} : r_{549}, a_{34} : r_{550}, a_{35} : r_{551}, a_{45} : -\\frac{r_{542} x_{25}}{x_{24}}\\right\\}, \\left\\{d_{1} : r_{552}, d_{2} : r_{553}, d_{3} : r_{554}, d_{4} : \\frac{r_{553}}{x_{24}}, d_{5} : -\\frac{r_{552} x_{24}}{x_{15} x_{24} - x_{14} x_{25}}, a_{12} : \\frac{r_{553} x_{14} - r_{552} x_{24}}{x_{24}}, a_{13} : r_{555}, a_{14} : r_{556}, a_{15} : r_{557}, a_{23} : r_{558}, a_{24} : r_{559}, a_{25} : r_{560}, a_{34} : r_{561}, a_{35} : r_{562}, a_{45} : \\frac{r_{553} x_{15} x_{24} - {\\left(r_{553} x_{14} - r_{552} x_{24}\\right)} x_{25}}{x_{15} x_{24}^{2} - x_{14} x_{24} x_{25}}\\right\\}\\right]"
      ]
     },
     "execution_count": 28,
     "metadata": {},
     "output_type": "execute_result"
    }
   ],
   "source": [
    "#x1\n",
    "reset()\n",
    "\n",
    "var('x12,x13,x14,x15,x23,x24,x25,x34,x35,x45')\n",
    "var('d1,d2,d3,d4,d5')\n",
    "var('a12,a13,a14,a15,a23,a24,a25,a34,a35,a45')\n",
    "\n",
    "load_attach_path('C:\\\\Users\\\\julia\\\\Documents\\\\unb\\\\doutorado\\\\pensar\\\\codigo_sage_v2\\\\maquina\\\\x1')\n",
    "load('out_#011011.sage')\n",
    "\n",
    "m=matrix(QQ, [[0, 0, 0, 1, 0],\n",
    "              [0, 0, 0, 1, 1],\n",
    "              [0, 0, 0, 0, 0],\n",
    "              [0, 0, 0, 0, 0],\n",
    "              [0, 0, 0, 0, 0]])\n",
    "        \n",
    "#entry of matrix: (i,j) line i collum j, means (i-1,j-1)\n",
    "sol=solve([ \teq1==m[0,2],\teq2==m[0,3],\teq3==m[0,4],\t\n",
    "                                            eq4==m[1,3],    eq5==m[1,4],\n",
    "                                                            eq6==m[2,4]],d1,d2,d3,d4,d5,a12,a13,a14,a15,a23,a24,a25,a34,a35,a45, solution_dict=True)\n",
    "\n",
    "show(m)\n",
    "show(sol)\n",
    "latex(sol)"
   ]
  },
  {
   "cell_type": "code",
   "execution_count": 29,
   "metadata": {},
   "outputs": [
    {
     "data": {
      "text/html": [
       "<html><script type=\"math/tex; mode=display\">\\newcommand{\\Bold}[1]{\\mathbf{#1}}\\left(\\begin{array}{rrrrr}\n",
       "0 & 0 & 0 & 0 & 0 \\\\\n",
       "0 & 0 & 0 & 1 & 0 \\\\\n",
       "0 & 0 & 0 & 0 & 0 \\\\\n",
       "0 & 0 & 0 & 0 & 0 \\\\\n",
       "0 & 0 & 0 & 0 & 0\n",
       "\\end{array}\\right)</script></html>"
      ],
      "text/latex": [
       "$$\\newcommand{\\Bold}[1]{\\mathbf{#1}}\\left(\\begin{array}{rrrrr}\n",
       "0 & 0 & 0 & 0 & 0 \\\\\n",
       "0 & 0 & 0 & 1 & 0 \\\\\n",
       "0 & 0 & 0 & 0 & 0 \\\\\n",
       "0 & 0 & 0 & 0 & 0 \\\\\n",
       "0 & 0 & 0 & 0 & 0\n",
       "\\end{array}\\right)$$"
      ],
      "text/plain": [
       "[0 0 0 0 0]\n",
       "[0 0 0 1 0]\n",
       "[0 0 0 0 0]\n",
       "[0 0 0 0 0]\n",
       "[0 0 0 0 0]"
      ]
     },
     "metadata": {},
     "output_type": "display_data"
    },
    {
     "data": {
      "text/html": [
       "<html><script type=\"math/tex; mode=display\">\\newcommand{\\Bold}[1]{\\mathbf{#1}}\\left[\\left\\{d_{1} : r_{563}, d_{2} : 0, d_{3} : 0, d_{4} : 0, d_{5} : r_{564}, a_{12} : r_{565}, a_{13} : r_{566}, a_{14} : r_{567}, a_{15} : r_{568}, a_{23} : r_{569}, a_{24} : r_{570}, a_{25} : r_{571}, a_{34} : r_{572}, a_{35} : r_{573}, a_{45} : -\\frac{r_{564} x_{25}}{x_{24}}\\right\\}, \\left\\{d_{1} : r_{574}, d_{2} : r_{575}, d_{3} : 0, d_{4} : \\frac{r_{575}}{x_{24}}, d_{5} : r_{576}, a_{12} : r_{577}, a_{13} : r_{578}, a_{14} : r_{579}, a_{15} : r_{580}, a_{23} : r_{581}, a_{24} : r_{582}, a_{25} : r_{583}, a_{34} : \\frac{r_{577}}{x_{13}}, a_{35} : 0, a_{45} : -\\frac{r_{576} x_{25}}{x_{24}}\\right\\}\\right]</script></html>"
      ],
      "text/latex": [
       "$$\\newcommand{\\Bold}[1]{\\mathbf{#1}}\\left[\\left\\{d_{1} : r_{563}, d_{2} : 0, d_{3} : 0, d_{4} : 0, d_{5} : r_{564}, a_{12} : r_{565}, a_{13} : r_{566}, a_{14} : r_{567}, a_{15} : r_{568}, a_{23} : r_{569}, a_{24} : r_{570}, a_{25} : r_{571}, a_{34} : r_{572}, a_{35} : r_{573}, a_{45} : -\\frac{r_{564} x_{25}}{x_{24}}\\right\\}, \\left\\{d_{1} : r_{574}, d_{2} : r_{575}, d_{3} : 0, d_{4} : \\frac{r_{575}}{x_{24}}, d_{5} : r_{576}, a_{12} : r_{577}, a_{13} : r_{578}, a_{14} : r_{579}, a_{15} : r_{580}, a_{23} : r_{581}, a_{24} : r_{582}, a_{25} : r_{583}, a_{34} : \\frac{r_{577}}{x_{13}}, a_{35} : 0, a_{45} : -\\frac{r_{576} x_{25}}{x_{24}}\\right\\}\\right]$$"
      ],
      "text/plain": [
       "[{d1: r563,\n",
       "  d2: 0,\n",
       "  d3: 0,\n",
       "  d4: 0,\n",
       "  d5: r564,\n",
       "  a12: r565,\n",
       "  a13: r566,\n",
       "  a14: r567,\n",
       "  a15: r568,\n",
       "  a23: r569,\n",
       "  a24: r570,\n",
       "  a25: r571,\n",
       "  a34: r572,\n",
       "  a35: r573,\n",
       "  a45: -r564*x25/x24},\n",
       " {d1: r574,\n",
       "  d2: r575,\n",
       "  d3: 0,\n",
       "  d4: r575/x24,\n",
       "  d5: r576,\n",
       "  a12: r577,\n",
       "  a13: r578,\n",
       "  a14: r579,\n",
       "  a15: r580,\n",
       "  a23: r581,\n",
       "  a24: r582,\n",
       "  a25: r583,\n",
       "  a34: r577/x13,\n",
       "  a35: 0,\n",
       "  a45: -r576*x25/x24}]"
      ]
     },
     "metadata": {},
     "output_type": "display_data"
    },
    {
     "data": {
      "text/plain": [
       "\\left[\\left\\{d_{1} : r_{563}, d_{2} : 0, d_{3} : 0, d_{4} : 0, d_{5} : r_{564}, a_{12} : r_{565}, a_{13} : r_{566}, a_{14} : r_{567}, a_{15} : r_{568}, a_{23} : r_{569}, a_{24} : r_{570}, a_{25} : r_{571}, a_{34} : r_{572}, a_{35} : r_{573}, a_{45} : -\\frac{r_{564} x_{25}}{x_{24}}\\right\\}, \\left\\{d_{1} : r_{574}, d_{2} : r_{575}, d_{3} : 0, d_{4} : \\frac{r_{575}}{x_{24}}, d_{5} : r_{576}, a_{12} : r_{577}, a_{13} : r_{578}, a_{14} : r_{579}, a_{15} : r_{580}, a_{23} : r_{581}, a_{24} : r_{582}, a_{25} : r_{583}, a_{34} : \\frac{r_{577}}{x_{13}}, a_{35} : 0, a_{45} : -\\frac{r_{576} x_{25}}{x_{24}}\\right\\}\\right]"
      ]
     },
     "execution_count": 29,
     "metadata": {},
     "output_type": "execute_result"
    }
   ],
   "source": [
    "#x1\n",
    "reset()\n",
    "\n",
    "var('x12,x13,x14,x15,x23,x24,x25,x34,x35,x45')\n",
    "var('d1,d2,d3,d4,d5')\n",
    "var('a12,a13,a14,a15,a23,a24,a25,a34,a35,a45')\n",
    "\n",
    "load_attach_path('C:\\\\Users\\\\julia\\\\Documents\\\\unb\\\\doutorado\\\\pensar\\\\codigo_sage_v2\\\\maquina\\\\x1')\n",
    "load('out_#011100.sage')\n",
    "\n",
    "m=matrix(QQ, [[0, 0, 0, 0, 0],\n",
    "              [0, 0, 0, 1, 0],\n",
    "              [0, 0, 0, 0, 0],\n",
    "              [0, 0, 0, 0, 0],\n",
    "              [0, 0, 0, 0, 0]])\n",
    "        \n",
    "#entry of matrix: (i,j) line i collum j, means (i-1,j-1)\n",
    "sol=solve([ \teq1==m[0,2],\teq2==m[0,3],\teq3==m[0,4],\t\n",
    "                                            eq4==m[1,3],    eq5==m[1,4],\n",
    "                                                            eq6==m[2,4]],d1,d2,d3,d4,d5,a12,a13,a14,a15,a23,a24,a25,a34,a35,a45, solution_dict=True)\n",
    "\n",
    "show(m)\n",
    "show(sol)\n",
    "latex(sol)"
   ]
  },
  {
   "cell_type": "code",
   "execution_count": 30,
   "metadata": {},
   "outputs": [
    {
     "data": {
      "text/html": [
       "<html><script type=\"math/tex; mode=display\">\\newcommand{\\Bold}[1]{\\mathbf{#1}}\\left(\\begin{array}{rrrrr}\n",
       "0 & 0 & 0 & 1 & 0 \\\\\n",
       "0 & 0 & 0 & 1 & 1 \\\\\n",
       "0 & 0 & 0 & 0 & 0 \\\\\n",
       "0 & 0 & 0 & 0 & 0 \\\\\n",
       "0 & 0 & 0 & 0 & 0\n",
       "\\end{array}\\right)</script></html>"
      ],
      "text/latex": [
       "$$\\newcommand{\\Bold}[1]{\\mathbf{#1}}\\left(\\begin{array}{rrrrr}\n",
       "0 & 0 & 0 & 1 & 0 \\\\\n",
       "0 & 0 & 0 & 1 & 1 \\\\\n",
       "0 & 0 & 0 & 0 & 0 \\\\\n",
       "0 & 0 & 0 & 0 & 0 \\\\\n",
       "0 & 0 & 0 & 0 & 0\n",
       "\\end{array}\\right)$$"
      ],
      "text/plain": [
       "[0 0 0 1 0]\n",
       "[0 0 0 1 1]\n",
       "[0 0 0 0 0]\n",
       "[0 0 0 0 0]\n",
       "[0 0 0 0 0]"
      ]
     },
     "metadata": {},
     "output_type": "display_data"
    },
    {
     "data": {
      "text/html": [
       "<html><script type=\"math/tex; mode=display\">\\newcommand{\\Bold}[1]{\\mathbf{#1}}\\left[\\left\\{d_{1} : r_{584}, d_{2} : 0, d_{3} : 0, d_{4} : 0, d_{5} : r_{585}, a_{12} : r_{586}, a_{13} : r_{587}, a_{14} : r_{588}, a_{15} : r_{589}, a_{23} : r_{590}, a_{24} : r_{591}, a_{25} : r_{592}, a_{34} : r_{593}, a_{35} : r_{594}, a_{45} : -\\frac{r_{585} x_{25}}{x_{24}}\\right\\}, \\left\\{d_{1} : r_{595}, d_{2} : r_{596}, d_{3} : 0, d_{4} : \\frac{r_{596}}{x_{24}}, d_{5} : r_{597}, a_{12} : r_{598}, a_{13} : r_{599}, a_{14} : r_{600}, a_{15} : r_{601}, a_{23} : r_{602}, a_{24} : r_{603}, a_{25} : r_{604}, a_{34} : \\frac{r_{595} + r_{598}}{x_{13}}, a_{35} : -\\frac{r_{597} x_{15} - r_{598}}{x_{13}}, a_{45} : -\\frac{r_{597} x_{25} - r_{596}}{x_{24}}\\right\\}\\right]</script></html>"
      ],
      "text/latex": [
       "$$\\newcommand{\\Bold}[1]{\\mathbf{#1}}\\left[\\left\\{d_{1} : r_{584}, d_{2} : 0, d_{3} : 0, d_{4} : 0, d_{5} : r_{585}, a_{12} : r_{586}, a_{13} : r_{587}, a_{14} : r_{588}, a_{15} : r_{589}, a_{23} : r_{590}, a_{24} : r_{591}, a_{25} : r_{592}, a_{34} : r_{593}, a_{35} : r_{594}, a_{45} : -\\frac{r_{585} x_{25}}{x_{24}}\\right\\}, \\left\\{d_{1} : r_{595}, d_{2} : r_{596}, d_{3} : 0, d_{4} : \\frac{r_{596}}{x_{24}}, d_{5} : r_{597}, a_{12} : r_{598}, a_{13} : r_{599}, a_{14} : r_{600}, a_{15} : r_{601}, a_{23} : r_{602}, a_{24} : r_{603}, a_{25} : r_{604}, a_{34} : \\frac{r_{595} + r_{598}}{x_{13}}, a_{35} : -\\frac{r_{597} x_{15} - r_{598}}{x_{13}}, a_{45} : -\\frac{r_{597} x_{25} - r_{596}}{x_{24}}\\right\\}\\right]$$"
      ],
      "text/plain": [
       "[{d1: r584,\n",
       "  d2: 0,\n",
       "  d3: 0,\n",
       "  d4: 0,\n",
       "  d5: r585,\n",
       "  a12: r586,\n",
       "  a13: r587,\n",
       "  a14: r588,\n",
       "  a15: r589,\n",
       "  a23: r590,\n",
       "  a24: r591,\n",
       "  a25: r592,\n",
       "  a34: r593,\n",
       "  a35: r594,\n",
       "  a45: -r585*x25/x24},\n",
       " {d1: r595,\n",
       "  d2: r596,\n",
       "  d3: 0,\n",
       "  d4: r596/x24,\n",
       "  d5: r597,\n",
       "  a12: r598,\n",
       "  a13: r599,\n",
       "  a14: r600,\n",
       "  a15: r601,\n",
       "  a23: r602,\n",
       "  a24: r603,\n",
       "  a25: r604,\n",
       "  a34: (r595 + r598)/x13,\n",
       "  a35: -(r597*x15 - r598)/x13,\n",
       "  a45: -(r597*x25 - r596)/x24}]"
      ]
     },
     "metadata": {},
     "output_type": "display_data"
    },
    {
     "data": {
      "text/plain": [
       "\\left[\\left\\{d_{1} : r_{584}, d_{2} : 0, d_{3} : 0, d_{4} : 0, d_{5} : r_{585}, a_{12} : r_{586}, a_{13} : r_{587}, a_{14} : r_{588}, a_{15} : r_{589}, a_{23} : r_{590}, a_{24} : r_{591}, a_{25} : r_{592}, a_{34} : r_{593}, a_{35} : r_{594}, a_{45} : -\\frac{r_{585} x_{25}}{x_{24}}\\right\\}, \\left\\{d_{1} : r_{595}, d_{2} : r_{596}, d_{3} : 0, d_{4} : \\frac{r_{596}}{x_{24}}, d_{5} : r_{597}, a_{12} : r_{598}, a_{13} : r_{599}, a_{14} : r_{600}, a_{15} : r_{601}, a_{23} : r_{602}, a_{24} : r_{603}, a_{25} : r_{604}, a_{34} : \\frac{r_{595} + r_{598}}{x_{13}}, a_{35} : -\\frac{r_{597} x_{15} - r_{598}}{x_{13}}, a_{45} : -\\frac{r_{597} x_{25} - r_{596}}{x_{24}}\\right\\}\\right]"
      ]
     },
     "execution_count": 30,
     "metadata": {},
     "output_type": "execute_result"
    }
   ],
   "source": [
    "#x1\n",
    "reset()\n",
    "\n",
    "var('x12,x13,x14,x15,x23,x24,x25,x34,x35,x45')\n",
    "var('d1,d2,d3,d4,d5')\n",
    "var('a12,a13,a14,a15,a23,a24,a25,a34,a35,a45')\n",
    "\n",
    "load_attach_path('C:\\\\Users\\\\julia\\\\Documents\\\\unb\\\\doutorado\\\\pensar\\\\codigo_sage_v2\\\\maquina\\\\x1')\n",
    "load('out_#011101.sage')\n",
    "\n",
    "m=matrix(QQ, [[0, 0, 0, 1, 0],\n",
    "              [0, 0, 0, 1, 1],\n",
    "              [0, 0, 0, 0, 0],\n",
    "              [0, 0, 0, 0, 0],\n",
    "              [0, 0, 0, 0, 0]])\n",
    "        \n",
    "#entry of matrix: (i,j) line i collum j, means (i-1,j-1)\n",
    "sol=solve([ \teq1==m[0,2],\teq2==m[0,3],\teq3==m[0,4],\t\n",
    "                                            eq4==m[1,3],    eq5==m[1,4],\n",
    "                                                            eq6==m[2,4]],d1,d2,d3,d4,d5,a12,a13,a14,a15,a23,a24,a25,a34,a35,a45, solution_dict=True)\n",
    "\n",
    "show(m)\n",
    "show(sol)\n",
    "latex(sol)"
   ]
  },
  {
   "cell_type": "code",
   "execution_count": 31,
   "metadata": {},
   "outputs": [
    {
     "data": {
      "text/html": [
       "<html><script type=\"math/tex; mode=display\">\\newcommand{\\Bold}[1]{\\mathbf{#1}}\\left(\\begin{array}{rrrrr}\n",
       "0 & 0 & 1 & 0 & 0 \\\\\n",
       "0 & 0 & 0 & 1 & 1 \\\\\n",
       "0 & 0 & 0 & 0 & 0 \\\\\n",
       "0 & 0 & 0 & 0 & 0 \\\\\n",
       "0 & 0 & 0 & 0 & 0\n",
       "\\end{array}\\right)</script></html>"
      ],
      "text/latex": [
       "$$\\newcommand{\\Bold}[1]{\\mathbf{#1}}\\left(\\begin{array}{rrrrr}\n",
       "0 & 0 & 1 & 0 & 0 \\\\\n",
       "0 & 0 & 0 & 1 & 1 \\\\\n",
       "0 & 0 & 0 & 0 & 0 \\\\\n",
       "0 & 0 & 0 & 0 & 0 \\\\\n",
       "0 & 0 & 0 & 0 & 0\n",
       "\\end{array}\\right)$$"
      ],
      "text/plain": [
       "[0 0 1 0 0]\n",
       "[0 0 0 1 1]\n",
       "[0 0 0 0 0]\n",
       "[0 0 0 0 0]\n",
       "[0 0 0 0 0]"
      ]
     },
     "metadata": {},
     "output_type": "display_data"
    },
    {
     "data": {
      "text/html": [
       "<html><script type=\"math/tex; mode=display\">\\newcommand{\\Bold}[1]{\\mathbf{#1}}\\left[\\left\\{d_{1} : r_{605}, d_{2} : 0, d_{3} : \\frac{r_{605}}{x_{13}}, d_{4} : 0, d_{5} : r_{606}, a_{12} : r_{607}, a_{13} : r_{608}, a_{14} : r_{609}, a_{15} : r_{610}, a_{23} : r_{611}, a_{24} : r_{612}, a_{25} : r_{613}, a_{34} : r_{614}, a_{35} : r_{615}, a_{45} : -\\frac{r_{606} x_{25}}{x_{24}}\\right\\}, \\left\\{d_{1} : r_{616}, d_{2} : r_{617}, d_{3} : \\frac{r_{616}}{x_{13}}, d_{4} : \\frac{r_{617}}{x_{24}}, d_{5} : r_{618}, a_{12} : r_{619}, a_{13} : r_{620}, a_{14} : r_{621}, a_{15} : r_{622}, a_{23} : r_{623}, a_{24} : r_{624}, a_{25} : r_{625}, a_{34} : -\\frac{r_{617} x_{14} - r_{619} x_{24}}{x_{13} x_{24}}, a_{35} : \\frac{r_{618} x_{14} x_{25} - r_{617} x_{14} + r_{619} x_{24}}{x_{13} x_{24}}, a_{45} : -\\frac{r_{618} x_{25} - r_{617}}{x_{24}}\\right\\}\\right]</script></html>"
      ],
      "text/latex": [
       "$$\\newcommand{\\Bold}[1]{\\mathbf{#1}}\\left[\\left\\{d_{1} : r_{605}, d_{2} : 0, d_{3} : \\frac{r_{605}}{x_{13}}, d_{4} : 0, d_{5} : r_{606}, a_{12} : r_{607}, a_{13} : r_{608}, a_{14} : r_{609}, a_{15} : r_{610}, a_{23} : r_{611}, a_{24} : r_{612}, a_{25} : r_{613}, a_{34} : r_{614}, a_{35} : r_{615}, a_{45} : -\\frac{r_{606} x_{25}}{x_{24}}\\right\\}, \\left\\{d_{1} : r_{616}, d_{2} : r_{617}, d_{3} : \\frac{r_{616}}{x_{13}}, d_{4} : \\frac{r_{617}}{x_{24}}, d_{5} : r_{618}, a_{12} : r_{619}, a_{13} : r_{620}, a_{14} : r_{621}, a_{15} : r_{622}, a_{23} : r_{623}, a_{24} : r_{624}, a_{25} : r_{625}, a_{34} : -\\frac{r_{617} x_{14} - r_{619} x_{24}}{x_{13} x_{24}}, a_{35} : \\frac{r_{618} x_{14} x_{25} - r_{617} x_{14} + r_{619} x_{24}}{x_{13} x_{24}}, a_{45} : -\\frac{r_{618} x_{25} - r_{617}}{x_{24}}\\right\\}\\right]$$"
      ],
      "text/plain": [
       "[{d1: r605,\n",
       "  d2: 0,\n",
       "  d3: r605/x13,\n",
       "  d4: 0,\n",
       "  d5: r606,\n",
       "  a12: r607,\n",
       "  a13: r608,\n",
       "  a14: r609,\n",
       "  a15: r610,\n",
       "  a23: r611,\n",
       "  a24: r612,\n",
       "  a25: r613,\n",
       "  a34: r614,\n",
       "  a35: r615,\n",
       "  a45: -r606*x25/x24},\n",
       " {d1: r616,\n",
       "  d2: r617,\n",
       "  d3: r616/x13,\n",
       "  d4: r617/x24,\n",
       "  d5: r618,\n",
       "  a12: r619,\n",
       "  a13: r620,\n",
       "  a14: r621,\n",
       "  a15: r622,\n",
       "  a23: r623,\n",
       "  a24: r624,\n",
       "  a25: r625,\n",
       "  a34: -(r617*x14 - r619*x24)/(x13*x24),\n",
       "  a35: (r618*x14*x25 - r617*x14 + r619*x24)/(x13*x24),\n",
       "  a45: -(r618*x25 - r617)/x24}]"
      ]
     },
     "metadata": {},
     "output_type": "display_data"
    },
    {
     "data": {
      "text/plain": [
       "\\left[\\left\\{d_{1} : r_{605}, d_{2} : 0, d_{3} : \\frac{r_{605}}{x_{13}}, d_{4} : 0, d_{5} : r_{606}, a_{12} : r_{607}, a_{13} : r_{608}, a_{14} : r_{609}, a_{15} : r_{610}, a_{23} : r_{611}, a_{24} : r_{612}, a_{25} : r_{613}, a_{34} : r_{614}, a_{35} : r_{615}, a_{45} : -\\frac{r_{606} x_{25}}{x_{24}}\\right\\}, \\left\\{d_{1} : r_{616}, d_{2} : r_{617}, d_{3} : \\frac{r_{616}}{x_{13}}, d_{4} : \\frac{r_{617}}{x_{24}}, d_{5} : r_{618}, a_{12} : r_{619}, a_{13} : r_{620}, a_{14} : r_{621}, a_{15} : r_{622}, a_{23} : r_{623}, a_{24} : r_{624}, a_{25} : r_{625}, a_{34} : -\\frac{r_{617} x_{14} - r_{619} x_{24}}{x_{13} x_{24}}, a_{35} : \\frac{r_{618} x_{14} x_{25} - r_{617} x_{14} + r_{619} x_{24}}{x_{13} x_{24}}, a_{45} : -\\frac{r_{618} x_{25} - r_{617}}{x_{24}}\\right\\}\\right]"
      ]
     },
     "execution_count": 31,
     "metadata": {},
     "output_type": "execute_result"
    }
   ],
   "source": [
    "#x1\n",
    "reset()\n",
    "\n",
    "var('x12,x13,x14,x15,x23,x24,x25,x34,x35,x45')\n",
    "var('d1,d2,d3,d4,d5')\n",
    "var('a12,a13,a14,a15,a23,a24,a25,a34,a35,a45')\n",
    "\n",
    "load_attach_path('C:\\\\Users\\\\julia\\\\Documents\\\\unb\\\\doutorado\\\\pensar\\\\codigo_sage_v2\\\\maquina\\\\x1')\n",
    "load('out_#011110.sage')\n",
    "\n",
    "m=matrix(QQ, [[0, 0, 1, 0, 0],\n",
    "              [0, 0, 0, 1, 1],\n",
    "              [0, 0, 0, 0, 0],\n",
    "              [0, 0, 0, 0, 0],\n",
    "              [0, 0, 0, 0, 0]])\n",
    "        \n",
    "#entry of matrix: (i,j) line i collum j, means (i-1,j-1)\n",
    "sol=solve([ \teq1==m[0,2],\teq2==m[0,3],\teq3==m[0,4],\t\n",
    "                                            eq4==m[1,3],    eq5==m[1,4],\n",
    "                                                            eq6==m[2,4]],d1,d2,d3,d4,d5,a12,a13,a14,a15,a23,a24,a25,a34,a35,a45, solution_dict=True)\n",
    "\n",
    "show(m)\n",
    "show(sol)\n",
    "latex(sol)"
   ]
  },
  {
   "cell_type": "code",
   "execution_count": 32,
   "metadata": {},
   "outputs": [
    {
     "data": {
      "text/html": [
       "<html><script type=\"math/tex; mode=display\">\\newcommand{\\Bold}[1]{\\mathbf{#1}}\\left(\\begin{array}{rrrrr}\n",
       "0 & 0 & 1 & 0 & 0 \\\\\n",
       "0 & 0 & 0 & 1 & 0 \\\\\n",
       "0 & 0 & 0 & 0 & 0 \\\\\n",
       "0 & 0 & 0 & 0 & 0 \\\\\n",
       "0 & 0 & 0 & 0 & 0\n",
       "\\end{array}\\right)</script></html>"
      ],
      "text/latex": [
       "$$\\newcommand{\\Bold}[1]{\\mathbf{#1}}\\left(\\begin{array}{rrrrr}\n",
       "0 & 0 & 1 & 0 & 0 \\\\\n",
       "0 & 0 & 0 & 1 & 0 \\\\\n",
       "0 & 0 & 0 & 0 & 0 \\\\\n",
       "0 & 0 & 0 & 0 & 0 \\\\\n",
       "0 & 0 & 0 & 0 & 0\n",
       "\\end{array}\\right)$$"
      ],
      "text/plain": [
       "[0 0 1 0 0]\n",
       "[0 0 0 1 0]\n",
       "[0 0 0 0 0]\n",
       "[0 0 0 0 0]\n",
       "[0 0 0 0 0]"
      ]
     },
     "metadata": {},
     "output_type": "display_data"
    },
    {
     "data": {
      "text/html": [
       "<html><script type=\"math/tex; mode=display\">\\newcommand{\\Bold}[1]{\\mathbf{#1}}\\left[\\left\\{d_{1} : r_{626}, d_{2} : 0, d_{3} : \\frac{r_{626}}{x_{13}}, d_{4} : 0, d_{5} : r_{627}, a_{12} : r_{628}, a_{13} : r_{629}, a_{14} : r_{630}, a_{15} : r_{631}, a_{23} : r_{632}, a_{24} : r_{633}, a_{25} : r_{634}, a_{34} : r_{635}, a_{35} : r_{636}, a_{45} : -\\frac{r_{627} x_{25}}{x_{24}}\\right\\}, \\left\\{d_{1} : r_{637}, d_{2} : r_{638}, d_{3} : \\frac{r_{637}}{x_{13}}, d_{4} : \\frac{r_{638}}{x_{24}}, d_{5} : r_{639}, a_{12} : r_{640}, a_{13} : r_{641}, a_{14} : r_{642}, a_{15} : r_{643}, a_{23} : r_{644}, a_{24} : r_{645}, a_{25} : r_{646}, a_{34} : -\\frac{r_{638} x_{14} - r_{640} x_{24}}{x_{13} x_{24}}, a_{35} : -\\frac{r_{639} x_{15} x_{24} - r_{639} x_{14} x_{25}}{x_{13} x_{24}}, a_{45} : -\\frac{r_{639} x_{25}}{x_{24}}\\right\\}\\right]</script></html>"
      ],
      "text/latex": [
       "$$\\newcommand{\\Bold}[1]{\\mathbf{#1}}\\left[\\left\\{d_{1} : r_{626}, d_{2} : 0, d_{3} : \\frac{r_{626}}{x_{13}}, d_{4} : 0, d_{5} : r_{627}, a_{12} : r_{628}, a_{13} : r_{629}, a_{14} : r_{630}, a_{15} : r_{631}, a_{23} : r_{632}, a_{24} : r_{633}, a_{25} : r_{634}, a_{34} : r_{635}, a_{35} : r_{636}, a_{45} : -\\frac{r_{627} x_{25}}{x_{24}}\\right\\}, \\left\\{d_{1} : r_{637}, d_{2} : r_{638}, d_{3} : \\frac{r_{637}}{x_{13}}, d_{4} : \\frac{r_{638}}{x_{24}}, d_{5} : r_{639}, a_{12} : r_{640}, a_{13} : r_{641}, a_{14} : r_{642}, a_{15} : r_{643}, a_{23} : r_{644}, a_{24} : r_{645}, a_{25} : r_{646}, a_{34} : -\\frac{r_{638} x_{14} - r_{640} x_{24}}{x_{13} x_{24}}, a_{35} : -\\frac{r_{639} x_{15} x_{24} - r_{639} x_{14} x_{25}}{x_{13} x_{24}}, a_{45} : -\\frac{r_{639} x_{25}}{x_{24}}\\right\\}\\right]$$"
      ],
      "text/plain": [
       "[{d1: r626,\n",
       "  d2: 0,\n",
       "  d3: r626/x13,\n",
       "  d4: 0,\n",
       "  d5: r627,\n",
       "  a12: r628,\n",
       "  a13: r629,\n",
       "  a14: r630,\n",
       "  a15: r631,\n",
       "  a23: r632,\n",
       "  a24: r633,\n",
       "  a25: r634,\n",
       "  a34: r635,\n",
       "  a35: r636,\n",
       "  a45: -r627*x25/x24},\n",
       " {d1: r637,\n",
       "  d2: r638,\n",
       "  d3: r637/x13,\n",
       "  d4: r638/x24,\n",
       "  d5: r639,\n",
       "  a12: r640,\n",
       "  a13: r641,\n",
       "  a14: r642,\n",
       "  a15: r643,\n",
       "  a23: r644,\n",
       "  a24: r645,\n",
       "  a25: r646,\n",
       "  a34: -(r638*x14 - r640*x24)/(x13*x24),\n",
       "  a35: -(r639*x15*x24 - r639*x14*x25)/(x13*x24),\n",
       "  a45: -r639*x25/x24}]"
      ]
     },
     "metadata": {},
     "output_type": "display_data"
    },
    {
     "data": {
      "text/plain": [
       "\\left[\\left\\{d_{1} : r_{626}, d_{2} : 0, d_{3} : \\frac{r_{626}}{x_{13}}, d_{4} : 0, d_{5} : r_{627}, a_{12} : r_{628}, a_{13} : r_{629}, a_{14} : r_{630}, a_{15} : r_{631}, a_{23} : r_{632}, a_{24} : r_{633}, a_{25} : r_{634}, a_{34} : r_{635}, a_{35} : r_{636}, a_{45} : -\\frac{r_{627} x_{25}}{x_{24}}\\right\\}, \\left\\{d_{1} : r_{637}, d_{2} : r_{638}, d_{3} : \\frac{r_{637}}{x_{13}}, d_{4} : \\frac{r_{638}}{x_{24}}, d_{5} : r_{639}, a_{12} : r_{640}, a_{13} : r_{641}, a_{14} : r_{642}, a_{15} : r_{643}, a_{23} : r_{644}, a_{24} : r_{645}, a_{25} : r_{646}, a_{34} : -\\frac{r_{638} x_{14} - r_{640} x_{24}}{x_{13} x_{24}}, a_{35} : -\\frac{r_{639} x_{15} x_{24} - r_{639} x_{14} x_{25}}{x_{13} x_{24}}, a_{45} : -\\frac{r_{639} x_{25}}{x_{24}}\\right\\}\\right]"
      ]
     },
     "execution_count": 32,
     "metadata": {},
     "output_type": "execute_result"
    }
   ],
   "source": [
    "#x1\n",
    "reset()\n",
    "\n",
    "var('x12,x13,x14,x15,x23,x24,x25,x34,x35,x45')\n",
    "var('d1,d2,d3,d4,d5')\n",
    "var('a12,a13,a14,a15,a23,a24,a25,a34,a35,a45')\n",
    "\n",
    "load_attach_path('C:\\\\Users\\\\julia\\\\Documents\\\\unb\\\\doutorado\\\\pensar\\\\codigo_sage_v2\\\\maquina\\\\x1')\n",
    "load('out_#011111.sage')\n",
    "\n",
    "m=matrix(QQ, [[0, 0, 1, 0, 0],\n",
    "              [0, 0, 0, 1, 0],\n",
    "              [0, 0, 0, 0, 0],\n",
    "              [0, 0, 0, 0, 0],\n",
    "              [0, 0, 0, 0, 0]])\n",
    "        \n",
    "#entry of matrix: (i,j) line i collum j, means (i-1,j-1)\n",
    "sol=solve([ \teq1==m[0,2],\teq2==m[0,3],\teq3==m[0,4],\t\n",
    "                                            eq4==m[1,3],    eq5==m[1,4],\n",
    "                                                            eq6==m[2,4]],d1,d2,d3,d4,d5,a12,a13,a14,a15,a23,a24,a25,a34,a35,a45, solution_dict=True)\n",
    "\n",
    "show(m)\n",
    "show(sol)\n",
    "latex(sol)"
   ]
  },
  {
   "cell_type": "code",
   "execution_count": 33,
   "metadata": {},
   "outputs": [
    {
     "data": {
      "text/html": [
       "<html><script type=\"math/tex; mode=display\">\\newcommand{\\Bold}[1]{\\mathbf{#1}}\\left(\\begin{array}{rrrrr}\n",
       "0 & 0 & 0 & 0 & 0 \\\\\n",
       "0 & 0 & 0 & 0 & 0 \\\\\n",
       "0 & 0 & 0 & 0 & 1 \\\\\n",
       "0 & 0 & 0 & 0 & 0 \\\\\n",
       "0 & 0 & 0 & 0 & 0\n",
       "\\end{array}\\right)</script></html>"
      ],
      "text/latex": [
       "$$\\newcommand{\\Bold}[1]{\\mathbf{#1}}\\left(\\begin{array}{rrrrr}\n",
       "0 & 0 & 0 & 0 & 0 \\\\\n",
       "0 & 0 & 0 & 0 & 0 \\\\\n",
       "0 & 0 & 0 & 0 & 1 \\\\\n",
       "0 & 0 & 0 & 0 & 0 \\\\\n",
       "0 & 0 & 0 & 0 & 0\n",
       "\\end{array}\\right)$$"
      ],
      "text/plain": [
       "[0 0 0 0 0]\n",
       "[0 0 0 0 0]\n",
       "[0 0 0 0 1]\n",
       "[0 0 0 0 0]\n",
       "[0 0 0 0 0]"
      ]
     },
     "metadata": {},
     "output_type": "display_data"
    },
    {
     "data": {
      "text/html": [
       "<html><script type=\"math/tex; mode=display\">\\newcommand{\\Bold}[1]{\\mathbf{#1}}\\left[\\left\\{d_{1} : r_{647}, d_{2} : r_{648}, d_{3} : 0, d_{4} : r_{649}, d_{5} : 0, a_{12} : r_{650}, a_{13} : r_{651}, a_{14} : r_{652}, a_{15} : r_{653}, a_{23} : r_{654}, a_{24} : r_{655}, a_{25} : r_{656}, a_{34} : r_{657}, a_{35} : r_{658}, a_{45} : r_{659}\\right\\}, \\left\\{d_{1} : r_{660}, d_{2} : 0, d_{3} : r_{661}, d_{4} : r_{662}, d_{5} : \\frac{r_{661}}{x_{35}}, a_{12} : r_{663}, a_{13} : r_{664}, a_{14} : r_{665}, a_{15} : r_{666}, a_{23} : 0, a_{24} : r_{667}, a_{25} : r_{668}, a_{34} : r_{669}, a_{35} : r_{670}, a_{45} : r_{671}\\right\\}, \\left\\{d_{1} : r_{672}, d_{2} : r_{673}, d_{3} : r_{674}, d_{4} : r_{675}, d_{5} : \\frac{r_{674}}{x_{35}}, a_{12} : r_{676}, a_{13} : 0, a_{14} : r_{677}, a_{15} : r_{678}, a_{23} : 0, a_{24} : r_{679}, a_{25} : r_{680}, a_{34} : r_{681}, a_{35} : r_{682}, a_{45} : r_{683}\\right\\}\\right]</script></html>"
      ],
      "text/latex": [
       "$$\\newcommand{\\Bold}[1]{\\mathbf{#1}}\\left[\\left\\{d_{1} : r_{647}, d_{2} : r_{648}, d_{3} : 0, d_{4} : r_{649}, d_{5} : 0, a_{12} : r_{650}, a_{13} : r_{651}, a_{14} : r_{652}, a_{15} : r_{653}, a_{23} : r_{654}, a_{24} : r_{655}, a_{25} : r_{656}, a_{34} : r_{657}, a_{35} : r_{658}, a_{45} : r_{659}\\right\\}, \\left\\{d_{1} : r_{660}, d_{2} : 0, d_{3} : r_{661}, d_{4} : r_{662}, d_{5} : \\frac{r_{661}}{x_{35}}, a_{12} : r_{663}, a_{13} : r_{664}, a_{14} : r_{665}, a_{15} : r_{666}, a_{23} : 0, a_{24} : r_{667}, a_{25} : r_{668}, a_{34} : r_{669}, a_{35} : r_{670}, a_{45} : r_{671}\\right\\}, \\left\\{d_{1} : r_{672}, d_{2} : r_{673}, d_{3} : r_{674}, d_{4} : r_{675}, d_{5} : \\frac{r_{674}}{x_{35}}, a_{12} : r_{676}, a_{13} : 0, a_{14} : r_{677}, a_{15} : r_{678}, a_{23} : 0, a_{24} : r_{679}, a_{25} : r_{680}, a_{34} : r_{681}, a_{35} : r_{682}, a_{45} : r_{683}\\right\\}\\right]$$"
      ],
      "text/plain": [
       "[{d1: r647,\n",
       "  d2: r648,\n",
       "  d3: 0,\n",
       "  d4: r649,\n",
       "  d5: 0,\n",
       "  a12: r650,\n",
       "  a13: r651,\n",
       "  a14: r652,\n",
       "  a15: r653,\n",
       "  a23: r654,\n",
       "  a24: r655,\n",
       "  a25: r656,\n",
       "  a34: r657,\n",
       "  a35: r658,\n",
       "  a45: r659},\n",
       " {d1: r660,\n",
       "  d2: 0,\n",
       "  d3: r661,\n",
       "  d4: r662,\n",
       "  d5: r661/x35,\n",
       "  a12: r663,\n",
       "  a13: r664,\n",
       "  a14: r665,\n",
       "  a15: r666,\n",
       "  a23: 0,\n",
       "  a24: r667,\n",
       "  a25: r668,\n",
       "  a34: r669,\n",
       "  a35: r670,\n",
       "  a45: r671},\n",
       " {d1: r672,\n",
       "  d2: r673,\n",
       "  d3: r674,\n",
       "  d4: r675,\n",
       "  d5: r674/x35,\n",
       "  a12: r676,\n",
       "  a13: 0,\n",
       "  a14: r677,\n",
       "  a15: r678,\n",
       "  a23: 0,\n",
       "  a24: r679,\n",
       "  a25: r680,\n",
       "  a34: r681,\n",
       "  a35: r682,\n",
       "  a45: r683}]"
      ]
     },
     "metadata": {},
     "output_type": "display_data"
    },
    {
     "data": {
      "text/plain": [
       "\\left[\\left\\{d_{1} : r_{647}, d_{2} : r_{648}, d_{3} : 0, d_{4} : r_{649}, d_{5} : 0, a_{12} : r_{650}, a_{13} : r_{651}, a_{14} : r_{652}, a_{15} : r_{653}, a_{23} : r_{654}, a_{24} : r_{655}, a_{25} : r_{656}, a_{34} : r_{657}, a_{35} : r_{658}, a_{45} : r_{659}\\right\\}, \\left\\{d_{1} : r_{660}, d_{2} : 0, d_{3} : r_{661}, d_{4} : r_{662}, d_{5} : \\frac{r_{661}}{x_{35}}, a_{12} : r_{663}, a_{13} : r_{664}, a_{14} : r_{665}, a_{15} : r_{666}, a_{23} : 0, a_{24} : r_{667}, a_{25} : r_{668}, a_{34} : r_{669}, a_{35} : r_{670}, a_{45} : r_{671}\\right\\}, \\left\\{d_{1} : r_{672}, d_{2} : r_{673}, d_{3} : r_{674}, d_{4} : r_{675}, d_{5} : \\frac{r_{674}}{x_{35}}, a_{12} : r_{676}, a_{13} : 0, a_{14} : r_{677}, a_{15} : r_{678}, a_{23} : 0, a_{24} : r_{679}, a_{25} : r_{680}, a_{34} : r_{681}, a_{35} : r_{682}, a_{45} : r_{683}\\right\\}\\right]"
      ]
     },
     "execution_count": 33,
     "metadata": {},
     "output_type": "execute_result"
    }
   ],
   "source": [
    "#x1\n",
    "reset()\n",
    "\n",
    "var('x12,x13,x14,x15,x23,x24,x25,x34,x35,x45')\n",
    "var('d1,d2,d3,d4,d5')\n",
    "var('a12,a13,a14,a15,a23,a24,a25,a34,a35,a45')\n",
    "\n",
    "load_attach_path('C:\\\\Users\\\\julia\\\\Documents\\\\unb\\\\doutorado\\\\pensar\\\\codigo_sage_v2\\\\maquina\\\\x1')\n",
    "load('out_#100000.sage')\n",
    "\n",
    "m=matrix(QQ, [[0, 0, 0, 0, 0],\n",
    "              [0, 0, 0, 0, 0],\n",
    "              [0, 0, 0, 0, 1],\n",
    "              [0, 0, 0, 0, 0],\n",
    "              [0, 0, 0, 0, 0]])\n",
    "        \n",
    "#entry of matrix: (i,j) line i collum j, means (i-1,j-1)\n",
    "sol=solve([ \teq1==m[0,2],\teq2==m[0,3],\teq3==m[0,4],\t\n",
    "                                            eq4==m[1,3],    eq5==m[1,4],\n",
    "                                                            eq6==m[2,4]],d1,d2,d3,d4,d5,a12,a13,a14,a15,a23,a24,a25,a34,a35,a45, solution_dict=True)\n",
    "\n",
    "show(m)\n",
    "show(sol)\n",
    "latex(sol)"
   ]
  },
  {
   "cell_type": "code",
   "execution_count": 34,
   "metadata": {},
   "outputs": [
    {
     "data": {
      "text/html": [
       "<html><script type=\"math/tex; mode=display\">\\newcommand{\\Bold}[1]{\\mathbf{#1}}\\left(\\begin{array}{rrrrr}\n",
       "0 & 0 & 0 & 0 & 0 \\\\\n",
       "0 & 0 & 0 & 0 & 0 \\\\\n",
       "0 & 0 & 0 & 0 & 1 \\\\\n",
       "0 & 0 & 0 & 0 & 0 \\\\\n",
       "0 & 0 & 0 & 0 & 0\n",
       "\\end{array}\\right)</script></html>"
      ],
      "text/latex": [
       "$$\\newcommand{\\Bold}[1]{\\mathbf{#1}}\\left(\\begin{array}{rrrrr}\n",
       "0 & 0 & 0 & 0 & 0 \\\\\n",
       "0 & 0 & 0 & 0 & 0 \\\\\n",
       "0 & 0 & 0 & 0 & 1 \\\\\n",
       "0 & 0 & 0 & 0 & 0 \\\\\n",
       "0 & 0 & 0 & 0 & 0\n",
       "\\end{array}\\right)$$"
      ],
      "text/plain": [
       "[0 0 0 0 0]\n",
       "[0 0 0 0 0]\n",
       "[0 0 0 0 1]\n",
       "[0 0 0 0 0]\n",
       "[0 0 0 0 0]"
      ]
     },
     "metadata": {},
     "output_type": "display_data"
    },
    {
     "data": {
      "text/html": [
       "<html><script type=\"math/tex; mode=display\">\\newcommand{\\Bold}[1]{\\mathbf{#1}}\\left[\\left\\{d_{1} : r_{684}, d_{2} : r_{685}, d_{3} : 0, d_{4} : r_{686}, d_{5} : 0, a_{12} : r_{687}, a_{13} : r_{688}, a_{14} : r_{689}, a_{15} : r_{690}, a_{23} : r_{691}, a_{24} : r_{692}, a_{25} : r_{693}, a_{34} : r_{694}, a_{35} : r_{695}, a_{45} : r_{696}\\right\\}, \\left\\{d_{1} : r_{697}, d_{2} : r_{698}, d_{3} : r_{699}, d_{4} : r_{700}, d_{5} : \\frac{r_{699}}{x_{35}}, a_{12} : r_{701}, a_{13} : \\frac{r_{699} x_{15}}{x_{35}}, a_{14} : r_{702}, a_{15} : r_{703}, a_{23} : 0, a_{24} : r_{704}, a_{25} : r_{705}, a_{34} : r_{706}, a_{35} : r_{707}, a_{45} : r_{708}\\right\\}, \\left\\{d_{1} : r_{709}, d_{2} : 0, d_{3} : r_{710}, d_{4} : r_{711}, d_{5} : \\frac{r_{710}}{x_{35}}, a_{12} : r_{712}, a_{13} : r_{713}, a_{14} : r_{714}, a_{15} : r_{715}, a_{23} : 0, a_{24} : r_{716}, a_{25} : r_{717}, a_{34} : r_{718}, a_{35} : r_{719}, a_{45} : r_{720}\\right\\}\\right]</script></html>"
      ],
      "text/latex": [
       "$$\\newcommand{\\Bold}[1]{\\mathbf{#1}}\\left[\\left\\{d_{1} : r_{684}, d_{2} : r_{685}, d_{3} : 0, d_{4} : r_{686}, d_{5} : 0, a_{12} : r_{687}, a_{13} : r_{688}, a_{14} : r_{689}, a_{15} : r_{690}, a_{23} : r_{691}, a_{24} : r_{692}, a_{25} : r_{693}, a_{34} : r_{694}, a_{35} : r_{695}, a_{45} : r_{696}\\right\\}, \\left\\{d_{1} : r_{697}, d_{2} : r_{698}, d_{3} : r_{699}, d_{4} : r_{700}, d_{5} : \\frac{r_{699}}{x_{35}}, a_{12} : r_{701}, a_{13} : \\frac{r_{699} x_{15}}{x_{35}}, a_{14} : r_{702}, a_{15} : r_{703}, a_{23} : 0, a_{24} : r_{704}, a_{25} : r_{705}, a_{34} : r_{706}, a_{35} : r_{707}, a_{45} : r_{708}\\right\\}, \\left\\{d_{1} : r_{709}, d_{2} : 0, d_{3} : r_{710}, d_{4} : r_{711}, d_{5} : \\frac{r_{710}}{x_{35}}, a_{12} : r_{712}, a_{13} : r_{713}, a_{14} : r_{714}, a_{15} : r_{715}, a_{23} : 0, a_{24} : r_{716}, a_{25} : r_{717}, a_{34} : r_{718}, a_{35} : r_{719}, a_{45} : r_{720}\\right\\}\\right]$$"
      ],
      "text/plain": [
       "[{d1: r684,\n",
       "  d2: r685,\n",
       "  d3: 0,\n",
       "  d4: r686,\n",
       "  d5: 0,\n",
       "  a12: r687,\n",
       "  a13: r688,\n",
       "  a14: r689,\n",
       "  a15: r690,\n",
       "  a23: r691,\n",
       "  a24: r692,\n",
       "  a25: r693,\n",
       "  a34: r694,\n",
       "  a35: r695,\n",
       "  a45: r696},\n",
       " {d1: r697,\n",
       "  d2: r698,\n",
       "  d3: r699,\n",
       "  d4: r700,\n",
       "  d5: r699/x35,\n",
       "  a12: r701,\n",
       "  a13: r699*x15/x35,\n",
       "  a14: r702,\n",
       "  a15: r703,\n",
       "  a23: 0,\n",
       "  a24: r704,\n",
       "  a25: r705,\n",
       "  a34: r706,\n",
       "  a35: r707,\n",
       "  a45: r708},\n",
       " {d1: r709,\n",
       "  d2: 0,\n",
       "  d3: r710,\n",
       "  d4: r711,\n",
       "  d5: r710/x35,\n",
       "  a12: r712,\n",
       "  a13: r713,\n",
       "  a14: r714,\n",
       "  a15: r715,\n",
       "  a23: 0,\n",
       "  a24: r716,\n",
       "  a25: r717,\n",
       "  a34: r718,\n",
       "  a35: r719,\n",
       "  a45: r720}]"
      ]
     },
     "metadata": {},
     "output_type": "display_data"
    },
    {
     "data": {
      "text/plain": [
       "\\left[\\left\\{d_{1} : r_{684}, d_{2} : r_{685}, d_{3} : 0, d_{4} : r_{686}, d_{5} : 0, a_{12} : r_{687}, a_{13} : r_{688}, a_{14} : r_{689}, a_{15} : r_{690}, a_{23} : r_{691}, a_{24} : r_{692}, a_{25} : r_{693}, a_{34} : r_{694}, a_{35} : r_{695}, a_{45} : r_{696}\\right\\}, \\left\\{d_{1} : r_{697}, d_{2} : r_{698}, d_{3} : r_{699}, d_{4} : r_{700}, d_{5} : \\frac{r_{699}}{x_{35}}, a_{12} : r_{701}, a_{13} : \\frac{r_{699} x_{15}}{x_{35}}, a_{14} : r_{702}, a_{15} : r_{703}, a_{23} : 0, a_{24} : r_{704}, a_{25} : r_{705}, a_{34} : r_{706}, a_{35} : r_{707}, a_{45} : r_{708}\\right\\}, \\left\\{d_{1} : r_{709}, d_{2} : 0, d_{3} : r_{710}, d_{4} : r_{711}, d_{5} : \\frac{r_{710}}{x_{35}}, a_{12} : r_{712}, a_{13} : r_{713}, a_{14} : r_{714}, a_{15} : r_{715}, a_{23} : 0, a_{24} : r_{716}, a_{25} : r_{717}, a_{34} : r_{718}, a_{35} : r_{719}, a_{45} : r_{720}\\right\\}\\right]"
      ]
     },
     "execution_count": 34,
     "metadata": {},
     "output_type": "execute_result"
    }
   ],
   "source": [
    "#x1\n",
    "reset()\n",
    "\n",
    "var('x12,x13,x14,x15,x23,x24,x25,x34,x35,x45')\n",
    "var('d1,d2,d3,d4,d5')\n",
    "var('a12,a13,a14,a15,a23,a24,a25,a34,a35,a45')\n",
    "\n",
    "load_attach_path('C:\\\\Users\\\\julia\\\\Documents\\\\unb\\\\doutorado\\\\pensar\\\\codigo_sage_v2\\\\maquina\\\\x1')\n",
    "load('out_#100001.sage')\n",
    "\n",
    "m=matrix(QQ, [[0, 0, 0, 0, 0],\n",
    "              [0, 0, 0, 0, 0],\n",
    "              [0, 0, 0, 0, 1],\n",
    "              [0, 0, 0, 0, 0],\n",
    "              [0, 0, 0, 0, 0]])\n",
    "        \n",
    "#entry of matrix: (i,j) line i collum j, means (i-1,j-1)\n",
    "sol=solve([ \teq1==m[0,2],\teq2==m[0,3],\teq3==m[0,4],\t\n",
    "                                            eq4==m[1,3],    eq5==m[1,4],\n",
    "                                                            eq6==m[2,4]],d1,d2,d3,d4,d5,a12,a13,a14,a15,a23,a24,a25,a34,a35,a45, solution_dict=True)\n",
    "\n",
    "show(m)\n",
    "show(sol)\n",
    "latex(sol)"
   ]
  },
  {
   "cell_type": "code",
   "execution_count": 35,
   "metadata": {},
   "outputs": [
    {
     "data": {
      "text/html": [
       "<html><script type=\"math/tex; mode=display\">\\newcommand{\\Bold}[1]{\\mathbf{#1}}\\left(\\begin{array}{rrrrr}\n",
       "0 & 0 & 0 & 1 & 0 \\\\\n",
       "0 & 0 & 0 & 0 & 0 \\\\\n",
       "0 & 0 & 0 & 0 & 1 \\\\\n",
       "0 & 0 & 0 & 0 & 0 \\\\\n",
       "0 & 0 & 0 & 0 & 0\n",
       "\\end{array}\\right)</script></html>"
      ],
      "text/latex": [
       "$$\\newcommand{\\Bold}[1]{\\mathbf{#1}}\\left(\\begin{array}{rrrrr}\n",
       "0 & 0 & 0 & 1 & 0 \\\\\n",
       "0 & 0 & 0 & 0 & 0 \\\\\n",
       "0 & 0 & 0 & 0 & 1 \\\\\n",
       "0 & 0 & 0 & 0 & 0 \\\\\n",
       "0 & 0 & 0 & 0 & 0\n",
       "\\end{array}\\right)$$"
      ],
      "text/plain": [
       "[0 0 0 1 0]\n",
       "[0 0 0 0 0]\n",
       "[0 0 0 0 1]\n",
       "[0 0 0 0 0]\n",
       "[0 0 0 0 0]"
      ]
     },
     "metadata": {},
     "output_type": "display_data"
    },
    {
     "data": {
      "text/html": [
       "<html><script type=\"math/tex; mode=display\">\\newcommand{\\Bold}[1]{\\mathbf{#1}}\\left[\\left\\{d_{1} : r_{721}, d_{2} : r_{722}, d_{3} : 0, d_{4} : \\frac{r_{721}}{x_{14}}, d_{5} : 0, a_{12} : r_{723}, a_{13} : r_{724}, a_{14} : r_{725}, a_{15} : r_{726}, a_{23} : r_{727}, a_{24} : r_{728}, a_{25} : r_{729}, a_{34} : r_{730}, a_{35} : r_{731}, a_{45} : r_{732}\\right\\}, \\left\\{d_{1} : r_{733}, d_{2} : r_{734}, d_{3} : r_{735}, d_{4} : \\frac{r_{733}}{x_{14}}, d_{5} : \\frac{r_{735}}{x_{35}}, a_{12} : r_{736}, a_{13} : r_{737}, a_{14} : r_{738}, a_{15} : r_{739}, a_{23} : 0, a_{24} : r_{740}, a_{25} : r_{741}, a_{34} : r_{742}, a_{35} : r_{743}, a_{45} : \\frac{r_{737}}{x_{14}}\\right\\}, \\left\\{d_{1} : r_{744}, d_{2} : 0, d_{3} : r_{745}, d_{4} : \\frac{r_{744}}{x_{14}}, d_{5} : \\frac{r_{745}}{x_{35}}, a_{12} : r_{746}, a_{13} : r_{747}, a_{14} : r_{748}, a_{15} : r_{749}, a_{23} : 0, a_{24} : r_{750}, a_{25} : r_{751}, a_{34} : r_{752}, a_{35} : r_{753}, a_{45} : r_{754}\\right\\}\\right]</script></html>"
      ],
      "text/latex": [
       "$$\\newcommand{\\Bold}[1]{\\mathbf{#1}}\\left[\\left\\{d_{1} : r_{721}, d_{2} : r_{722}, d_{3} : 0, d_{4} : \\frac{r_{721}}{x_{14}}, d_{5} : 0, a_{12} : r_{723}, a_{13} : r_{724}, a_{14} : r_{725}, a_{15} : r_{726}, a_{23} : r_{727}, a_{24} : r_{728}, a_{25} : r_{729}, a_{34} : r_{730}, a_{35} : r_{731}, a_{45} : r_{732}\\right\\}, \\left\\{d_{1} : r_{733}, d_{2} : r_{734}, d_{3} : r_{735}, d_{4} : \\frac{r_{733}}{x_{14}}, d_{5} : \\frac{r_{735}}{x_{35}}, a_{12} : r_{736}, a_{13} : r_{737}, a_{14} : r_{738}, a_{15} : r_{739}, a_{23} : 0, a_{24} : r_{740}, a_{25} : r_{741}, a_{34} : r_{742}, a_{35} : r_{743}, a_{45} : \\frac{r_{737}}{x_{14}}\\right\\}, \\left\\{d_{1} : r_{744}, d_{2} : 0, d_{3} : r_{745}, d_{4} : \\frac{r_{744}}{x_{14}}, d_{5} : \\frac{r_{745}}{x_{35}}, a_{12} : r_{746}, a_{13} : r_{747}, a_{14} : r_{748}, a_{15} : r_{749}, a_{23} : 0, a_{24} : r_{750}, a_{25} : r_{751}, a_{34} : r_{752}, a_{35} : r_{753}, a_{45} : r_{754}\\right\\}\\right]$$"
      ],
      "text/plain": [
       "[{d1: r721,\n",
       "  d2: r722,\n",
       "  d3: 0,\n",
       "  d4: r721/x14,\n",
       "  d5: 0,\n",
       "  a12: r723,\n",
       "  a13: r724,\n",
       "  a14: r725,\n",
       "  a15: r726,\n",
       "  a23: r727,\n",
       "  a24: r728,\n",
       "  a25: r729,\n",
       "  a34: r730,\n",
       "  a35: r731,\n",
       "  a45: r732},\n",
       " {d1: r733,\n",
       "  d2: r734,\n",
       "  d3: r735,\n",
       "  d4: r733/x14,\n",
       "  d5: r735/x35,\n",
       "  a12: r736,\n",
       "  a13: r737,\n",
       "  a14: r738,\n",
       "  a15: r739,\n",
       "  a23: 0,\n",
       "  a24: r740,\n",
       "  a25: r741,\n",
       "  a34: r742,\n",
       "  a35: r743,\n",
       "  a45: r737/x14},\n",
       " {d1: r744,\n",
       "  d2: 0,\n",
       "  d3: r745,\n",
       "  d4: r744/x14,\n",
       "  d5: r745/x35,\n",
       "  a12: r746,\n",
       "  a13: r747,\n",
       "  a14: r748,\n",
       "  a15: r749,\n",
       "  a23: 0,\n",
       "  a24: r750,\n",
       "  a25: r751,\n",
       "  a34: r752,\n",
       "  a35: r753,\n",
       "  a45: r754}]"
      ]
     },
     "metadata": {},
     "output_type": "display_data"
    },
    {
     "data": {
      "text/plain": [
       "\\left[\\left\\{d_{1} : r_{721}, d_{2} : r_{722}, d_{3} : 0, d_{4} : \\frac{r_{721}}{x_{14}}, d_{5} : 0, a_{12} : r_{723}, a_{13} : r_{724}, a_{14} : r_{725}, a_{15} : r_{726}, a_{23} : r_{727}, a_{24} : r_{728}, a_{25} : r_{729}, a_{34} : r_{730}, a_{35} : r_{731}, a_{45} : r_{732}\\right\\}, \\left\\{d_{1} : r_{733}, d_{2} : r_{734}, d_{3} : r_{735}, d_{4} : \\frac{r_{733}}{x_{14}}, d_{5} : \\frac{r_{735}}{x_{35}}, a_{12} : r_{736}, a_{13} : r_{737}, a_{14} : r_{738}, a_{15} : r_{739}, a_{23} : 0, a_{24} : r_{740}, a_{25} : r_{741}, a_{34} : r_{742}, a_{35} : r_{743}, a_{45} : \\frac{r_{737}}{x_{14}}\\right\\}, \\left\\{d_{1} : r_{744}, d_{2} : 0, d_{3} : r_{745}, d_{4} : \\frac{r_{744}}{x_{14}}, d_{5} : \\frac{r_{745}}{x_{35}}, a_{12} : r_{746}, a_{13} : r_{747}, a_{14} : r_{748}, a_{15} : r_{749}, a_{23} : 0, a_{24} : r_{750}, a_{25} : r_{751}, a_{34} : r_{752}, a_{35} : r_{753}, a_{45} : r_{754}\\right\\}\\right]"
      ]
     },
     "execution_count": 35,
     "metadata": {},
     "output_type": "execute_result"
    }
   ],
   "source": [
    "#x1\n",
    "reset()\n",
    "\n",
    "var('x12,x13,x14,x15,x23,x24,x25,x34,x35,x45')\n",
    "var('d1,d2,d3,d4,d5')\n",
    "var('a12,a13,a14,a15,a23,a24,a25,a34,a35,a45')\n",
    "\n",
    "load_attach_path('C:\\\\Users\\\\julia\\\\Documents\\\\unb\\\\doutorado\\\\pensar\\\\codigo_sage_v2\\\\maquina\\\\x1')\n",
    "load('out_#100010.sage')\n",
    "\n",
    "m=matrix(QQ, [[0, 0, 0, 1, 0],\n",
    "              [0, 0, 0, 0, 0],\n",
    "              [0, 0, 0, 0, 1],\n",
    "              [0, 0, 0, 0, 0],\n",
    "              [0, 0, 0, 0, 0]])\n",
    "        \n",
    "#entry of matrix: (i,j) line i collum j, means (i-1,j-1)\n",
    "sol=solve([ \teq1==m[0,2],\teq2==m[0,3],\teq3==m[0,4],\t\n",
    "                                            eq4==m[1,3],    eq5==m[1,4],\n",
    "                                                            eq6==m[2,4]],d1,d2,d3,d4,d5,a12,a13,a14,a15,a23,a24,a25,a34,a35,a45, solution_dict=True)\n",
    "\n",
    "show(m)\n",
    "show(sol)\n",
    "latex(sol)"
   ]
  },
  {
   "cell_type": "code",
   "execution_count": 36,
   "metadata": {},
   "outputs": [
    {
     "data": {
      "text/html": [
       "<html><script type=\"math/tex; mode=display\">\\newcommand{\\Bold}[1]{\\mathbf{#1}}\\left(\\begin{array}{rrrrr}\n",
       "0 & 0 & 0 & 1 & 0 \\\\\n",
       "0 & 0 & 0 & 0 & 0 \\\\\n",
       "0 & 0 & 0 & 0 & 1 \\\\\n",
       "0 & 0 & 0 & 0 & 0 \\\\\n",
       "0 & 0 & 0 & 0 & 0\n",
       "\\end{array}\\right)</script></html>"
      ],
      "text/latex": [
       "$$\\newcommand{\\Bold}[1]{\\mathbf{#1}}\\left(\\begin{array}{rrrrr}\n",
       "0 & 0 & 0 & 1 & 0 \\\\\n",
       "0 & 0 & 0 & 0 & 0 \\\\\n",
       "0 & 0 & 0 & 0 & 1 \\\\\n",
       "0 & 0 & 0 & 0 & 0 \\\\\n",
       "0 & 0 & 0 & 0 & 0\n",
       "\\end{array}\\right)$$"
      ],
      "text/plain": [
       "[0 0 0 1 0]\n",
       "[0 0 0 0 0]\n",
       "[0 0 0 0 1]\n",
       "[0 0 0 0 0]\n",
       "[0 0 0 0 0]"
      ]
     },
     "metadata": {},
     "output_type": "display_data"
    },
    {
     "data": {
      "text/html": [
       "<html><script type=\"math/tex; mode=display\">\\newcommand{\\Bold}[1]{\\mathbf{#1}}\\left[\\left\\{d_{1} : r_{755}, d_{2} : r_{756}, d_{3} : 0, d_{4} : \\frac{r_{755}}{x_{14}}, d_{5} : 0, a_{12} : r_{757}, a_{13} : r_{758}, a_{14} : r_{759}, a_{15} : r_{760}, a_{23} : r_{761}, a_{24} : r_{762}, a_{25} : r_{763}, a_{34} : r_{764}, a_{35} : r_{765}, a_{45} : r_{766}\\right\\}, \\left\\{d_{1} : r_{767}, d_{2} : r_{768}, d_{3} : r_{769}, d_{4} : \\frac{r_{767}}{x_{14}}, d_{5} : \\frac{r_{769}}{x_{35}}, a_{12} : r_{770}, a_{13} : r_{771}, a_{14} : r_{772}, a_{15} : r_{773}, a_{23} : 0, a_{24} : r_{774}, a_{25} : r_{775}, a_{34} : r_{776}, a_{35} : r_{777}, a_{45} : -\\frac{r_{769} x_{15} - r_{771} x_{35}}{x_{14} x_{35}}\\right\\}, \\left\\{d_{1} : r_{778}, d_{2} : 0, d_{3} : r_{779}, d_{4} : \\frac{r_{778}}{x_{14}}, d_{5} : \\frac{r_{779}}{x_{35}}, a_{12} : r_{780}, a_{13} : r_{781}, a_{14} : r_{782}, a_{15} : r_{783}, a_{23} : 0, a_{24} : r_{784}, a_{25} : r_{785}, a_{34} : r_{786}, a_{35} : r_{787}, a_{45} : r_{788}\\right\\}\\right]</script></html>"
      ],
      "text/latex": [
       "$$\\newcommand{\\Bold}[1]{\\mathbf{#1}}\\left[\\left\\{d_{1} : r_{755}, d_{2} : r_{756}, d_{3} : 0, d_{4} : \\frac{r_{755}}{x_{14}}, d_{5} : 0, a_{12} : r_{757}, a_{13} : r_{758}, a_{14} : r_{759}, a_{15} : r_{760}, a_{23} : r_{761}, a_{24} : r_{762}, a_{25} : r_{763}, a_{34} : r_{764}, a_{35} : r_{765}, a_{45} : r_{766}\\right\\}, \\left\\{d_{1} : r_{767}, d_{2} : r_{768}, d_{3} : r_{769}, d_{4} : \\frac{r_{767}}{x_{14}}, d_{5} : \\frac{r_{769}}{x_{35}}, a_{12} : r_{770}, a_{13} : r_{771}, a_{14} : r_{772}, a_{15} : r_{773}, a_{23} : 0, a_{24} : r_{774}, a_{25} : r_{775}, a_{34} : r_{776}, a_{35} : r_{777}, a_{45} : -\\frac{r_{769} x_{15} - r_{771} x_{35}}{x_{14} x_{35}}\\right\\}, \\left\\{d_{1} : r_{778}, d_{2} : 0, d_{3} : r_{779}, d_{4} : \\frac{r_{778}}{x_{14}}, d_{5} : \\frac{r_{779}}{x_{35}}, a_{12} : r_{780}, a_{13} : r_{781}, a_{14} : r_{782}, a_{15} : r_{783}, a_{23} : 0, a_{24} : r_{784}, a_{25} : r_{785}, a_{34} : r_{786}, a_{35} : r_{787}, a_{45} : r_{788}\\right\\}\\right]$$"
      ],
      "text/plain": [
       "[{d1: r755,\n",
       "  d2: r756,\n",
       "  d3: 0,\n",
       "  d4: r755/x14,\n",
       "  d5: 0,\n",
       "  a12: r757,\n",
       "  a13: r758,\n",
       "  a14: r759,\n",
       "  a15: r760,\n",
       "  a23: r761,\n",
       "  a24: r762,\n",
       "  a25: r763,\n",
       "  a34: r764,\n",
       "  a35: r765,\n",
       "  a45: r766},\n",
       " {d1: r767,\n",
       "  d2: r768,\n",
       "  d3: r769,\n",
       "  d4: r767/x14,\n",
       "  d5: r769/x35,\n",
       "  a12: r770,\n",
       "  a13: r771,\n",
       "  a14: r772,\n",
       "  a15: r773,\n",
       "  a23: 0,\n",
       "  a24: r774,\n",
       "  a25: r775,\n",
       "  a34: r776,\n",
       "  a35: r777,\n",
       "  a45: -(r769*x15 - r771*x35)/(x14*x35)},\n",
       " {d1: r778,\n",
       "  d2: 0,\n",
       "  d3: r779,\n",
       "  d4: r778/x14,\n",
       "  d5: r779/x35,\n",
       "  a12: r780,\n",
       "  a13: r781,\n",
       "  a14: r782,\n",
       "  a15: r783,\n",
       "  a23: 0,\n",
       "  a24: r784,\n",
       "  a25: r785,\n",
       "  a34: r786,\n",
       "  a35: r787,\n",
       "  a45: r788}]"
      ]
     },
     "metadata": {},
     "output_type": "display_data"
    },
    {
     "data": {
      "text/plain": [
       "\\left[\\left\\{d_{1} : r_{755}, d_{2} : r_{756}, d_{3} : 0, d_{4} : \\frac{r_{755}}{x_{14}}, d_{5} : 0, a_{12} : r_{757}, a_{13} : r_{758}, a_{14} : r_{759}, a_{15} : r_{760}, a_{23} : r_{761}, a_{24} : r_{762}, a_{25} : r_{763}, a_{34} : r_{764}, a_{35} : r_{765}, a_{45} : r_{766}\\right\\}, \\left\\{d_{1} : r_{767}, d_{2} : r_{768}, d_{3} : r_{769}, d_{4} : \\frac{r_{767}}{x_{14}}, d_{5} : \\frac{r_{769}}{x_{35}}, a_{12} : r_{770}, a_{13} : r_{771}, a_{14} : r_{772}, a_{15} : r_{773}, a_{23} : 0, a_{24} : r_{774}, a_{25} : r_{775}, a_{34} : r_{776}, a_{35} : r_{777}, a_{45} : -\\frac{r_{769} x_{15} - r_{771} x_{35}}{x_{14} x_{35}}\\right\\}, \\left\\{d_{1} : r_{778}, d_{2} : 0, d_{3} : r_{779}, d_{4} : \\frac{r_{778}}{x_{14}}, d_{5} : \\frac{r_{779}}{x_{35}}, a_{12} : r_{780}, a_{13} : r_{781}, a_{14} : r_{782}, a_{15} : r_{783}, a_{23} : 0, a_{24} : r_{784}, a_{25} : r_{785}, a_{34} : r_{786}, a_{35} : r_{787}, a_{45} : r_{788}\\right\\}\\right]"
      ]
     },
     "execution_count": 36,
     "metadata": {},
     "output_type": "execute_result"
    }
   ],
   "source": [
    "#x1\n",
    "reset()\n",
    "\n",
    "var('x12,x13,x14,x15,x23,x24,x25,x34,x35,x45')\n",
    "var('d1,d2,d3,d4,d5')\n",
    "var('a12,a13,a14,a15,a23,a24,a25,a34,a35,a45')\n",
    "\n",
    "load_attach_path('C:\\\\Users\\\\julia\\\\Documents\\\\unb\\\\doutorado\\\\pensar\\\\codigo_sage_v2\\\\maquina\\\\x1')\n",
    "load('out_#100011.sage')\n",
    "\n",
    "m=matrix(QQ, [[0, 0, 0, 1, 0],\n",
    "              [0, 0, 0, 0, 0],\n",
    "              [0, 0, 0, 0, 1],\n",
    "              [0, 0, 0, 0, 0],\n",
    "              [0, 0, 0, 0, 0]])\n",
    "        \n",
    "#entry of matrix: (i,j) line i collum j, means (i-1,j-1)\n",
    "sol=solve([ \teq1==m[0,2],\teq2==m[0,3],\teq3==m[0,4],\t\n",
    "                                            eq4==m[1,3],    eq5==m[1,4],\n",
    "                                                            eq6==m[2,4]],d1,d2,d3,d4,d5,a12,a13,a14,a15,a23,a24,a25,a34,a35,a45, solution_dict=True)\n",
    "\n",
    "show(m)\n",
    "show(sol)\n",
    "latex(sol)"
   ]
  },
  {
   "cell_type": "code",
   "execution_count": 37,
   "metadata": {},
   "outputs": [
    {
     "data": {
      "text/html": [
       "<html><script type=\"math/tex; mode=display\">\\newcommand{\\Bold}[1]{\\mathbf{#1}}\\left(\\begin{array}{rrrrr}\n",
       "0 & 0 & 1 & 0 & 0 \\\\\n",
       "0 & 0 & 0 & 0 & 0 \\\\\n",
       "0 & 0 & 0 & 0 & 1 \\\\\n",
       "0 & 0 & 0 & 0 & 0 \\\\\n",
       "0 & 0 & 0 & 0 & 0\n",
       "\\end{array}\\right)</script></html>"
      ],
      "text/latex": [
       "$$\\newcommand{\\Bold}[1]{\\mathbf{#1}}\\left(\\begin{array}{rrrrr}\n",
       "0 & 0 & 1 & 0 & 0 \\\\\n",
       "0 & 0 & 0 & 0 & 0 \\\\\n",
       "0 & 0 & 0 & 0 & 1 \\\\\n",
       "0 & 0 & 0 & 0 & 0 \\\\\n",
       "0 & 0 & 0 & 0 & 0\n",
       "\\end{array}\\right)$$"
      ],
      "text/plain": [
       "[0 0 1 0 0]\n",
       "[0 0 0 0 0]\n",
       "[0 0 0 0 1]\n",
       "[0 0 0 0 0]\n",
       "[0 0 0 0 0]"
      ]
     },
     "metadata": {},
     "output_type": "display_data"
    },
    {
     "data": {
      "text/html": [
       "<html><script type=\"math/tex; mode=display\">\\newcommand{\\Bold}[1]{\\mathbf{#1}}\\left[\\left\\{d_{1} : 0, d_{2} : r_{789}, d_{3} : 0, d_{4} : r_{790}, d_{5} : 0, a_{12} : r_{791}, a_{13} : r_{792}, a_{14} : r_{793}, a_{15} : r_{794}, a_{23} : r_{795}, a_{24} : r_{796}, a_{25} : r_{797}, a_{34} : 0, a_{35} : r_{798}, a_{45} : r_{799}\\right\\}, \\left\\{d_{1} : r_{800}, d_{2} : 0, d_{3} : \\frac{r_{800}}{x_{13}}, d_{4} : r_{801}, d_{5} : \\frac{r_{800}}{x_{13} x_{35}}, a_{12} : r_{802}, a_{13} : r_{803}, a_{14} : r_{804}, a_{15} : r_{805}, a_{23} : 0, a_{24} : r_{806}, a_{25} : r_{807}, a_{34} : 0, a_{35} : r_{808}, a_{45} : r_{809}\\right\\}, \\left\\{d_{1} : r_{810}, d_{2} : r_{811}, d_{3} : \\frac{r_{810}}{x_{13}}, d_{4} : r_{812}, d_{5} : \\frac{r_{810}}{x_{13} x_{35}}, a_{12} : r_{813}, a_{13} : r_{814}, a_{14} : r_{815}, a_{15} : r_{816}, a_{23} : 0, a_{24} : r_{817}, a_{25} : r_{818}, a_{34} : 0, a_{35} : \\frac{r_{814}}{x_{13}}, a_{45} : r_{819}\\right\\}\\right]</script></html>"
      ],
      "text/latex": [
       "$$\\newcommand{\\Bold}[1]{\\mathbf{#1}}\\left[\\left\\{d_{1} : 0, d_{2} : r_{789}, d_{3} : 0, d_{4} : r_{790}, d_{5} : 0, a_{12} : r_{791}, a_{13} : r_{792}, a_{14} : r_{793}, a_{15} : r_{794}, a_{23} : r_{795}, a_{24} : r_{796}, a_{25} : r_{797}, a_{34} : 0, a_{35} : r_{798}, a_{45} : r_{799}\\right\\}, \\left\\{d_{1} : r_{800}, d_{2} : 0, d_{3} : \\frac{r_{800}}{x_{13}}, d_{4} : r_{801}, d_{5} : \\frac{r_{800}}{x_{13} x_{35}}, a_{12} : r_{802}, a_{13} : r_{803}, a_{14} : r_{804}, a_{15} : r_{805}, a_{23} : 0, a_{24} : r_{806}, a_{25} : r_{807}, a_{34} : 0, a_{35} : r_{808}, a_{45} : r_{809}\\right\\}, \\left\\{d_{1} : r_{810}, d_{2} : r_{811}, d_{3} : \\frac{r_{810}}{x_{13}}, d_{4} : r_{812}, d_{5} : \\frac{r_{810}}{x_{13} x_{35}}, a_{12} : r_{813}, a_{13} : r_{814}, a_{14} : r_{815}, a_{15} : r_{816}, a_{23} : 0, a_{24} : r_{817}, a_{25} : r_{818}, a_{34} : 0, a_{35} : \\frac{r_{814}}{x_{13}}, a_{45} : r_{819}\\right\\}\\right]$$"
      ],
      "text/plain": [
       "[{d1: 0,\n",
       "  d2: r789,\n",
       "  d3: 0,\n",
       "  d4: r790,\n",
       "  d5: 0,\n",
       "  a12: r791,\n",
       "  a13: r792,\n",
       "  a14: r793,\n",
       "  a15: r794,\n",
       "  a23: r795,\n",
       "  a24: r796,\n",
       "  a25: r797,\n",
       "  a34: 0,\n",
       "  a35: r798,\n",
       "  a45: r799},\n",
       " {d1: r800,\n",
       "  d2: 0,\n",
       "  d3: r800/x13,\n",
       "  d4: r801,\n",
       "  d5: r800/(x13*x35),\n",
       "  a12: r802,\n",
       "  a13: r803,\n",
       "  a14: r804,\n",
       "  a15: r805,\n",
       "  a23: 0,\n",
       "  a24: r806,\n",
       "  a25: r807,\n",
       "  a34: 0,\n",
       "  a35: r808,\n",
       "  a45: r809},\n",
       " {d1: r810,\n",
       "  d2: r811,\n",
       "  d3: r810/x13,\n",
       "  d4: r812,\n",
       "  d5: r810/(x13*x35),\n",
       "  a12: r813,\n",
       "  a13: r814,\n",
       "  a14: r815,\n",
       "  a15: r816,\n",
       "  a23: 0,\n",
       "  a24: r817,\n",
       "  a25: r818,\n",
       "  a34: 0,\n",
       "  a35: r814/x13,\n",
       "  a45: r819}]"
      ]
     },
     "metadata": {},
     "output_type": "display_data"
    },
    {
     "data": {
      "text/plain": [
       "\\left[\\left\\{d_{1} : 0, d_{2} : r_{789}, d_{3} : 0, d_{4} : r_{790}, d_{5} : 0, a_{12} : r_{791}, a_{13} : r_{792}, a_{14} : r_{793}, a_{15} : r_{794}, a_{23} : r_{795}, a_{24} : r_{796}, a_{25} : r_{797}, a_{34} : 0, a_{35} : r_{798}, a_{45} : r_{799}\\right\\}, \\left\\{d_{1} : r_{800}, d_{2} : 0, d_{3} : \\frac{r_{800}}{x_{13}}, d_{4} : r_{801}, d_{5} : \\frac{r_{800}}{x_{13} x_{35}}, a_{12} : r_{802}, a_{13} : r_{803}, a_{14} : r_{804}, a_{15} : r_{805}, a_{23} : 0, a_{24} : r_{806}, a_{25} : r_{807}, a_{34} : 0, a_{35} : r_{808}, a_{45} : r_{809}\\right\\}, \\left\\{d_{1} : r_{810}, d_{2} : r_{811}, d_{3} : \\frac{r_{810}}{x_{13}}, d_{4} : r_{812}, d_{5} : \\frac{r_{810}}{x_{13} x_{35}}, a_{12} : r_{813}, a_{13} : r_{814}, a_{14} : r_{815}, a_{15} : r_{816}, a_{23} : 0, a_{24} : r_{817}, a_{25} : r_{818}, a_{34} : 0, a_{35} : \\frac{r_{814}}{x_{13}}, a_{45} : r_{819}\\right\\}\\right]"
      ]
     },
     "execution_count": 37,
     "metadata": {},
     "output_type": "execute_result"
    }
   ],
   "source": [
    "#x1\n",
    "reset()\n",
    "\n",
    "var('x12,x13,x14,x15,x23,x24,x25,x34,x35,x45')\n",
    "var('d1,d2,d3,d4,d5')\n",
    "var('a12,a13,a14,a15,a23,a24,a25,a34,a35,a45')\n",
    "\n",
    "load_attach_path('C:\\\\Users\\\\julia\\\\Documents\\\\unb\\\\doutorado\\\\pensar\\\\codigo_sage_v2\\\\maquina\\\\x1')\n",
    "load('out_#100100.sage')\n",
    "\n",
    "m=matrix(QQ, [[0, 0, 1, 0, 0],\n",
    "              [0, 0, 0, 0, 0],\n",
    "              [0, 0, 0, 0, 1],\n",
    "              [0, 0, 0, 0, 0],\n",
    "              [0, 0, 0, 0, 0]])\n",
    "        \n",
    "#entry of matrix: (i,j) line i collum j, means (i-1,j-1)\n",
    "sol=solve([ \teq1==m[0,2],\teq2==m[0,3],\teq3==m[0,4],\t\n",
    "                                            eq4==m[1,3],    eq5==m[1,4],\n",
    "                                                            eq6==m[2,4]],d1,d2,d3,d4,d5,a12,a13,a14,a15,a23,a24,a25,a34,a35,a45, solution_dict=True)\n",
    "\n",
    "show(m)\n",
    "show(sol)\n",
    "latex(sol)"
   ]
  },
  {
   "cell_type": "code",
   "execution_count": 38,
   "metadata": {},
   "outputs": [
    {
     "data": {
      "text/html": [
       "<html><script type=\"math/tex; mode=display\">\\newcommand{\\Bold}[1]{\\mathbf{#1}}\\left(\\begin{array}{rrrrr}\n",
       "0 & 0 & 1 & 0 & 0 \\\\\n",
       "0 & 0 & 0 & 0 & 0 \\\\\n",
       "0 & 0 & 0 & 0 & 1 \\\\\n",
       "0 & 0 & 0 & 0 & 0 \\\\\n",
       "0 & 0 & 0 & 0 & 0\n",
       "\\end{array}\\right)</script></html>"
      ],
      "text/latex": [
       "$$\\newcommand{\\Bold}[1]{\\mathbf{#1}}\\left(\\begin{array}{rrrrr}\n",
       "0 & 0 & 1 & 0 & 0 \\\\\n",
       "0 & 0 & 0 & 0 & 0 \\\\\n",
       "0 & 0 & 0 & 0 & 1 \\\\\n",
       "0 & 0 & 0 & 0 & 0 \\\\\n",
       "0 & 0 & 0 & 0 & 0\n",
       "\\end{array}\\right)$$"
      ],
      "text/plain": [
       "[0 0 1 0 0]\n",
       "[0 0 0 0 0]\n",
       "[0 0 0 0 1]\n",
       "[0 0 0 0 0]\n",
       "[0 0 0 0 0]"
      ]
     },
     "metadata": {},
     "output_type": "display_data"
    },
    {
     "data": {
      "text/html": [
       "<html><script type=\"math/tex; mode=display\">\\newcommand{\\Bold}[1]{\\mathbf{#1}}\\left[\\left\\{d_{1} : 0, d_{2} : r_{820}, d_{3} : 0, d_{4} : r_{821}, d_{5} : 0, a_{12} : r_{822}, a_{13} : r_{823}, a_{14} : r_{824}, a_{15} : r_{825}, a_{23} : r_{826}, a_{24} : r_{827}, a_{25} : r_{828}, a_{34} : 0, a_{35} : r_{829}, a_{45} : r_{830}\\right\\}, \\left\\{d_{1} : r_{831}, d_{2} : 0, d_{3} : \\frac{r_{831}}{x_{13}}, d_{4} : r_{832}, d_{5} : \\frac{r_{831}}{x_{13} x_{35}}, a_{12} : r_{833}, a_{13} : r_{834}, a_{14} : r_{835}, a_{15} : r_{836}, a_{23} : 0, a_{24} : r_{837}, a_{25} : r_{838}, a_{34} : 0, a_{35} : r_{839}, a_{45} : r_{840}\\right\\}, \\left\\{d_{1} : r_{841}, d_{2} : r_{842}, d_{3} : \\frac{r_{841}}{x_{13}}, d_{4} : r_{843}, d_{5} : \\frac{r_{841}}{x_{13} x_{35}}, a_{12} : r_{844}, a_{13} : r_{845}, a_{14} : r_{846}, a_{15} : r_{847}, a_{23} : 0, a_{24} : r_{848}, a_{25} : r_{849}, a_{34} : 0, a_{35} : \\frac{r_{845} x_{13} x_{35} - r_{841} x_{15}}{x_{13}^{2} x_{35}}, a_{45} : r_{850}\\right\\}\\right]</script></html>"
      ],
      "text/latex": [
       "$$\\newcommand{\\Bold}[1]{\\mathbf{#1}}\\left[\\left\\{d_{1} : 0, d_{2} : r_{820}, d_{3} : 0, d_{4} : r_{821}, d_{5} : 0, a_{12} : r_{822}, a_{13} : r_{823}, a_{14} : r_{824}, a_{15} : r_{825}, a_{23} : r_{826}, a_{24} : r_{827}, a_{25} : r_{828}, a_{34} : 0, a_{35} : r_{829}, a_{45} : r_{830}\\right\\}, \\left\\{d_{1} : r_{831}, d_{2} : 0, d_{3} : \\frac{r_{831}}{x_{13}}, d_{4} : r_{832}, d_{5} : \\frac{r_{831}}{x_{13} x_{35}}, a_{12} : r_{833}, a_{13} : r_{834}, a_{14} : r_{835}, a_{15} : r_{836}, a_{23} : 0, a_{24} : r_{837}, a_{25} : r_{838}, a_{34} : 0, a_{35} : r_{839}, a_{45} : r_{840}\\right\\}, \\left\\{d_{1} : r_{841}, d_{2} : r_{842}, d_{3} : \\frac{r_{841}}{x_{13}}, d_{4} : r_{843}, d_{5} : \\frac{r_{841}}{x_{13} x_{35}}, a_{12} : r_{844}, a_{13} : r_{845}, a_{14} : r_{846}, a_{15} : r_{847}, a_{23} : 0, a_{24} : r_{848}, a_{25} : r_{849}, a_{34} : 0, a_{35} : \\frac{r_{845} x_{13} x_{35} - r_{841} x_{15}}{x_{13}^{2} x_{35}}, a_{45} : r_{850}\\right\\}\\right]$$"
      ],
      "text/plain": [
       "[{d1: 0,\n",
       "  d2: r820,\n",
       "  d3: 0,\n",
       "  d4: r821,\n",
       "  d5: 0,\n",
       "  a12: r822,\n",
       "  a13: r823,\n",
       "  a14: r824,\n",
       "  a15: r825,\n",
       "  a23: r826,\n",
       "  a24: r827,\n",
       "  a25: r828,\n",
       "  a34: 0,\n",
       "  a35: r829,\n",
       "  a45: r830},\n",
       " {d1: r831,\n",
       "  d2: 0,\n",
       "  d3: r831/x13,\n",
       "  d4: r832,\n",
       "  d5: r831/(x13*x35),\n",
       "  a12: r833,\n",
       "  a13: r834,\n",
       "  a14: r835,\n",
       "  a15: r836,\n",
       "  a23: 0,\n",
       "  a24: r837,\n",
       "  a25: r838,\n",
       "  a34: 0,\n",
       "  a35: r839,\n",
       "  a45: r840},\n",
       " {d1: r841,\n",
       "  d2: r842,\n",
       "  d3: r841/x13,\n",
       "  d4: r843,\n",
       "  d5: r841/(x13*x35),\n",
       "  a12: r844,\n",
       "  a13: r845,\n",
       "  a14: r846,\n",
       "  a15: r847,\n",
       "  a23: 0,\n",
       "  a24: r848,\n",
       "  a25: r849,\n",
       "  a34: 0,\n",
       "  a35: (r845*x13*x35 - r841*x15)/(x13^2*x35),\n",
       "  a45: r850}]"
      ]
     },
     "metadata": {},
     "output_type": "display_data"
    },
    {
     "data": {
      "text/plain": [
       "\\left[\\left\\{d_{1} : 0, d_{2} : r_{820}, d_{3} : 0, d_{4} : r_{821}, d_{5} : 0, a_{12} : r_{822}, a_{13} : r_{823}, a_{14} : r_{824}, a_{15} : r_{825}, a_{23} : r_{826}, a_{24} : r_{827}, a_{25} : r_{828}, a_{34} : 0, a_{35} : r_{829}, a_{45} : r_{830}\\right\\}, \\left\\{d_{1} : r_{831}, d_{2} : 0, d_{3} : \\frac{r_{831}}{x_{13}}, d_{4} : r_{832}, d_{5} : \\frac{r_{831}}{x_{13} x_{35}}, a_{12} : r_{833}, a_{13} : r_{834}, a_{14} : r_{835}, a_{15} : r_{836}, a_{23} : 0, a_{24} : r_{837}, a_{25} : r_{838}, a_{34} : 0, a_{35} : r_{839}, a_{45} : r_{840}\\right\\}, \\left\\{d_{1} : r_{841}, d_{2} : r_{842}, d_{3} : \\frac{r_{841}}{x_{13}}, d_{4} : r_{843}, d_{5} : \\frac{r_{841}}{x_{13} x_{35}}, a_{12} : r_{844}, a_{13} : r_{845}, a_{14} : r_{846}, a_{15} : r_{847}, a_{23} : 0, a_{24} : r_{848}, a_{25} : r_{849}, a_{34} : 0, a_{35} : \\frac{r_{845} x_{13} x_{35} - r_{841} x_{15}}{x_{13}^{2} x_{35}}, a_{45} : r_{850}\\right\\}\\right]"
      ]
     },
     "execution_count": 38,
     "metadata": {},
     "output_type": "execute_result"
    }
   ],
   "source": [
    "#x1\n",
    "reset()\n",
    "\n",
    "var('x12,x13,x14,x15,x23,x24,x25,x34,x35,x45')\n",
    "var('d1,d2,d3,d4,d5')\n",
    "var('a12,a13,a14,a15,a23,a24,a25,a34,a35,a45')\n",
    "\n",
    "load_attach_path('C:\\\\Users\\\\julia\\\\Documents\\\\unb\\\\doutorado\\\\pensar\\\\codigo_sage_v2\\\\maquina\\\\x1')\n",
    "load('out_#100101.sage')\n",
    "\n",
    "m=matrix(QQ, [[0, 0, 1, 0, 0],\n",
    "              [0, 0, 0, 0, 0],\n",
    "              [0, 0, 0, 0, 1],\n",
    "              [0, 0, 0, 0, 0],\n",
    "              [0, 0, 0, 0, 0]])\n",
    "        \n",
    "#entry of matrix: (i,j) line i collum j, means (i-1,j-1)\n",
    "sol=solve([ \teq1==m[0,2],\teq2==m[0,3],\teq3==m[0,4],\t\n",
    "                                            eq4==m[1,3],    eq5==m[1,4],\n",
    "                                                            eq6==m[2,4]],d1,d2,d3,d4,d5,a12,a13,a14,a15,a23,a24,a25,a34,a35,a45, solution_dict=True)\n",
    "\n",
    "show(m)\n",
    "show(sol)\n",
    "latex(sol)"
   ]
  },
  {
   "cell_type": "code",
   "execution_count": 39,
   "metadata": {},
   "outputs": [
    {
     "data": {
      "text/html": [
       "<html><script type=\"math/tex; mode=display\">\\newcommand{\\Bold}[1]{\\mathbf{#1}}\\left(\\begin{array}{rrrrr}\n",
       "0 & 0 & 1 & 0 & 0 \\\\\n",
       "0 & 0 & 0 & 0 & 0 \\\\\n",
       "0 & 0 & 0 & 0 & 1 \\\\\n",
       "0 & 0 & 0 & 0 & 0 \\\\\n",
       "0 & 0 & 0 & 0 & 0\n",
       "\\end{array}\\right)</script></html>"
      ],
      "text/latex": [
       "$$\\newcommand{\\Bold}[1]{\\mathbf{#1}}\\left(\\begin{array}{rrrrr}\n",
       "0 & 0 & 1 & 0 & 0 \\\\\n",
       "0 & 0 & 0 & 0 & 0 \\\\\n",
       "0 & 0 & 0 & 0 & 1 \\\\\n",
       "0 & 0 & 0 & 0 & 0 \\\\\n",
       "0 & 0 & 0 & 0 & 0\n",
       "\\end{array}\\right)$$"
      ],
      "text/plain": [
       "[0 0 1 0 0]\n",
       "[0 0 0 0 0]\n",
       "[0 0 0 0 1]\n",
       "[0 0 0 0 0]\n",
       "[0 0 0 0 0]"
      ]
     },
     "metadata": {},
     "output_type": "display_data"
    },
    {
     "data": {
      "text/html": [
       "<html><script type=\"math/tex; mode=display\">\\newcommand{\\Bold}[1]{\\mathbf{#1}}\\left[\\left\\{d_{1} : 0, d_{2} : r_{851}, d_{3} : 0, d_{4} : r_{852}, d_{5} : 0, a_{12} : r_{853}, a_{13} : r_{854}, a_{14} : r_{855}, a_{15} : r_{856}, a_{23} : r_{857}, a_{24} : r_{858}, a_{25} : r_{859}, a_{34} : -\\frac{r_{852} x_{14}}{x_{13}}, a_{35} : r_{860}, a_{45} : r_{861}\\right\\}, \\left\\{d_{1} : r_{862}, d_{2} : 0, d_{3} : \\frac{r_{862}}{x_{13}}, d_{4} : r_{863}, d_{5} : \\frac{r_{862}}{x_{13} x_{35}}, a_{12} : r_{864}, a_{13} : r_{865}, a_{14} : r_{866}, a_{15} : r_{867}, a_{23} : 0, a_{24} : r_{868}, a_{25} : r_{869}, a_{34} : -\\frac{r_{863} x_{14}}{x_{13}}, a_{35} : r_{870}, a_{45} : r_{871}\\right\\}, \\left\\{d_{1} : r_{872}, d_{2} : r_{873}, d_{3} : \\frac{r_{872}}{x_{13}}, d_{4} : r_{874}, d_{5} : \\frac{r_{872}}{x_{13} x_{35}}, a_{12} : r_{875}, a_{13} : r_{876}, a_{14} : r_{877}, a_{15} : r_{878}, a_{23} : 0, a_{24} : r_{879}, a_{25} : r_{880}, a_{34} : -\\frac{r_{874} x_{14}}{x_{13}}, a_{35} : r_{881}, a_{45} : -\\frac{r_{881} x_{13} - r_{876}}{x_{14}}\\right\\}\\right]</script></html>"
      ],
      "text/latex": [
       "$$\\newcommand{\\Bold}[1]{\\mathbf{#1}}\\left[\\left\\{d_{1} : 0, d_{2} : r_{851}, d_{3} : 0, d_{4} : r_{852}, d_{5} : 0, a_{12} : r_{853}, a_{13} : r_{854}, a_{14} : r_{855}, a_{15} : r_{856}, a_{23} : r_{857}, a_{24} : r_{858}, a_{25} : r_{859}, a_{34} : -\\frac{r_{852} x_{14}}{x_{13}}, a_{35} : r_{860}, a_{45} : r_{861}\\right\\}, \\left\\{d_{1} : r_{862}, d_{2} : 0, d_{3} : \\frac{r_{862}}{x_{13}}, d_{4} : r_{863}, d_{5} : \\frac{r_{862}}{x_{13} x_{35}}, a_{12} : r_{864}, a_{13} : r_{865}, a_{14} : r_{866}, a_{15} : r_{867}, a_{23} : 0, a_{24} : r_{868}, a_{25} : r_{869}, a_{34} : -\\frac{r_{863} x_{14}}{x_{13}}, a_{35} : r_{870}, a_{45} : r_{871}\\right\\}, \\left\\{d_{1} : r_{872}, d_{2} : r_{873}, d_{3} : \\frac{r_{872}}{x_{13}}, d_{4} : r_{874}, d_{5} : \\frac{r_{872}}{x_{13} x_{35}}, a_{12} : r_{875}, a_{13} : r_{876}, a_{14} : r_{877}, a_{15} : r_{878}, a_{23} : 0, a_{24} : r_{879}, a_{25} : r_{880}, a_{34} : -\\frac{r_{874} x_{14}}{x_{13}}, a_{35} : r_{881}, a_{45} : -\\frac{r_{881} x_{13} - r_{876}}{x_{14}}\\right\\}\\right]$$"
      ],
      "text/plain": [
       "[{d1: 0,\n",
       "  d2: r851,\n",
       "  d3: 0,\n",
       "  d4: r852,\n",
       "  d5: 0,\n",
       "  a12: r853,\n",
       "  a13: r854,\n",
       "  a14: r855,\n",
       "  a15: r856,\n",
       "  a23: r857,\n",
       "  a24: r858,\n",
       "  a25: r859,\n",
       "  a34: -r852*x14/x13,\n",
       "  a35: r860,\n",
       "  a45: r861},\n",
       " {d1: r862,\n",
       "  d2: 0,\n",
       "  d3: r862/x13,\n",
       "  d4: r863,\n",
       "  d5: r862/(x13*x35),\n",
       "  a12: r864,\n",
       "  a13: r865,\n",
       "  a14: r866,\n",
       "  a15: r867,\n",
       "  a23: 0,\n",
       "  a24: r868,\n",
       "  a25: r869,\n",
       "  a34: -r863*x14/x13,\n",
       "  a35: r870,\n",
       "  a45: r871},\n",
       " {d1: r872,\n",
       "  d2: r873,\n",
       "  d3: r872/x13,\n",
       "  d4: r874,\n",
       "  d5: r872/(x13*x35),\n",
       "  a12: r875,\n",
       "  a13: r876,\n",
       "  a14: r877,\n",
       "  a15: r878,\n",
       "  a23: 0,\n",
       "  a24: r879,\n",
       "  a25: r880,\n",
       "  a34: -r874*x14/x13,\n",
       "  a35: r881,\n",
       "  a45: -(r881*x13 - r876)/x14}]"
      ]
     },
     "metadata": {},
     "output_type": "display_data"
    },
    {
     "data": {
      "text/plain": [
       "\\left[\\left\\{d_{1} : 0, d_{2} : r_{851}, d_{3} : 0, d_{4} : r_{852}, d_{5} : 0, a_{12} : r_{853}, a_{13} : r_{854}, a_{14} : r_{855}, a_{15} : r_{856}, a_{23} : r_{857}, a_{24} : r_{858}, a_{25} : r_{859}, a_{34} : -\\frac{r_{852} x_{14}}{x_{13}}, a_{35} : r_{860}, a_{45} : r_{861}\\right\\}, \\left\\{d_{1} : r_{862}, d_{2} : 0, d_{3} : \\frac{r_{862}}{x_{13}}, d_{4} : r_{863}, d_{5} : \\frac{r_{862}}{x_{13} x_{35}}, a_{12} : r_{864}, a_{13} : r_{865}, a_{14} : r_{866}, a_{15} : r_{867}, a_{23} : 0, a_{24} : r_{868}, a_{25} : r_{869}, a_{34} : -\\frac{r_{863} x_{14}}{x_{13}}, a_{35} : r_{870}, a_{45} : r_{871}\\right\\}, \\left\\{d_{1} : r_{872}, d_{2} : r_{873}, d_{3} : \\frac{r_{872}}{x_{13}}, d_{4} : r_{874}, d_{5} : \\frac{r_{872}}{x_{13} x_{35}}, a_{12} : r_{875}, a_{13} : r_{876}, a_{14} : r_{877}, a_{15} : r_{878}, a_{23} : 0, a_{24} : r_{879}, a_{25} : r_{880}, a_{34} : -\\frac{r_{874} x_{14}}{x_{13}}, a_{35} : r_{881}, a_{45} : -\\frac{r_{881} x_{13} - r_{876}}{x_{14}}\\right\\}\\right]"
      ]
     },
     "execution_count": 39,
     "metadata": {},
     "output_type": "execute_result"
    }
   ],
   "source": [
    "#x1\n",
    "reset()\n",
    "\n",
    "var('x12,x13,x14,x15,x23,x24,x25,x34,x35,x45')\n",
    "var('d1,d2,d3,d4,d5')\n",
    "var('a12,a13,a14,a15,a23,a24,a25,a34,a35,a45')\n",
    "\n",
    "load_attach_path('C:\\\\Users\\\\julia\\\\Documents\\\\unb\\\\doutorado\\\\pensar\\\\codigo_sage_v2\\\\maquina\\\\x1')\n",
    "load('out_#100110.sage')\n",
    "\n",
    "m=matrix(QQ, [[0, 0, 1, 0, 0],\n",
    "              [0, 0, 0, 0, 0],\n",
    "              [0, 0, 0, 0, 1],\n",
    "              [0, 0, 0, 0, 0],\n",
    "              [0, 0, 0, 0, 0]])\n",
    "        \n",
    "#entry of matrix: (i,j) line i collum j, means (i-1,j-1)\n",
    "sol=solve([ \teq1==m[0,2],\teq2==m[0,3],\teq3==m[0,4],\t\n",
    "                                            eq4==m[1,3],    eq5==m[1,4],\n",
    "                                                            eq6==m[2,4]],d1,d2,d3,d4,d5,a12,a13,a14,a15,a23,a24,a25,a34,a35,a45, solution_dict=True)\n",
    "\n",
    "show(m)\n",
    "show(sol)\n",
    "latex(sol)"
   ]
  },
  {
   "cell_type": "code",
   "execution_count": 40,
   "metadata": {},
   "outputs": [
    {
     "data": {
      "text/html": [
       "<html><script type=\"math/tex; mode=display\">\\newcommand{\\Bold}[1]{\\mathbf{#1}}\\left(\\begin{array}{rrrrr}\n",
       "0 & 0 & 1 & 0 & 0 \\\\\n",
       "0 & 0 & 0 & 0 & 0 \\\\\n",
       "0 & 0 & 0 & 0 & 1 \\\\\n",
       "0 & 0 & 0 & 0 & 0 \\\\\n",
       "0 & 0 & 0 & 0 & 0\n",
       "\\end{array}\\right)</script></html>"
      ],
      "text/latex": [
       "$$\\newcommand{\\Bold}[1]{\\mathbf{#1}}\\left(\\begin{array}{rrrrr}\n",
       "0 & 0 & 1 & 0 & 0 \\\\\n",
       "0 & 0 & 0 & 0 & 0 \\\\\n",
       "0 & 0 & 0 & 0 & 1 \\\\\n",
       "0 & 0 & 0 & 0 & 0 \\\\\n",
       "0 & 0 & 0 & 0 & 0\n",
       "\\end{array}\\right)$$"
      ],
      "text/plain": [
       "[0 0 1 0 0]\n",
       "[0 0 0 0 0]\n",
       "[0 0 0 0 1]\n",
       "[0 0 0 0 0]\n",
       "[0 0 0 0 0]"
      ]
     },
     "metadata": {},
     "output_type": "display_data"
    },
    {
     "data": {
      "text/html": [
       "<html><script type=\"math/tex; mode=display\">\\newcommand{\\Bold}[1]{\\mathbf{#1}}\\left[\\left\\{d_{1} : 0, d_{2} : r_{882}, d_{3} : 0, d_{4} : r_{883}, d_{5} : 0, a_{12} : r_{884}, a_{13} : r_{885}, a_{14} : r_{886}, a_{15} : r_{887}, a_{23} : r_{888}, a_{24} : r_{889}, a_{25} : r_{890}, a_{34} : -\\frac{r_{883} x_{14}}{x_{13}}, a_{35} : r_{891}, a_{45} : r_{892}\\right\\}, \\left\\{d_{1} : r_{893}, d_{2} : 0, d_{3} : \\frac{r_{893}}{x_{13}}, d_{4} : r_{894}, d_{5} : \\frac{r_{893}}{x_{13} x_{35}}, a_{12} : r_{895}, a_{13} : r_{896}, a_{14} : r_{897}, a_{15} : r_{898}, a_{23} : 0, a_{24} : r_{899}, a_{25} : r_{900}, a_{34} : -\\frac{r_{894} x_{14}}{x_{13}}, a_{35} : r_{901}, a_{45} : r_{902}\\right\\}, \\left\\{d_{1} : r_{903}, d_{2} : r_{904}, d_{3} : \\frac{r_{903}}{x_{13}}, d_{4} : r_{905}, d_{5} : \\frac{r_{903}}{x_{13} x_{35}}, a_{12} : r_{906}, a_{13} : r_{907}, a_{14} : r_{908}, a_{15} : r_{909}, a_{23} : 0, a_{24} : r_{910}, a_{25} : r_{911}, a_{34} : -\\frac{r_{905} x_{14}}{x_{13}}, a_{35} : r_{912}, a_{45} : -\\frac{r_{903} x_{15} + {\\left(r_{912} x_{13}^{2} - r_{907} x_{13}\\right)} x_{35}}{x_{13} x_{14} x_{35}}\\right\\}\\right]</script></html>"
      ],
      "text/latex": [
       "$$\\newcommand{\\Bold}[1]{\\mathbf{#1}}\\left[\\left\\{d_{1} : 0, d_{2} : r_{882}, d_{3} : 0, d_{4} : r_{883}, d_{5} : 0, a_{12} : r_{884}, a_{13} : r_{885}, a_{14} : r_{886}, a_{15} : r_{887}, a_{23} : r_{888}, a_{24} : r_{889}, a_{25} : r_{890}, a_{34} : -\\frac{r_{883} x_{14}}{x_{13}}, a_{35} : r_{891}, a_{45} : r_{892}\\right\\}, \\left\\{d_{1} : r_{893}, d_{2} : 0, d_{3} : \\frac{r_{893}}{x_{13}}, d_{4} : r_{894}, d_{5} : \\frac{r_{893}}{x_{13} x_{35}}, a_{12} : r_{895}, a_{13} : r_{896}, a_{14} : r_{897}, a_{15} : r_{898}, a_{23} : 0, a_{24} : r_{899}, a_{25} : r_{900}, a_{34} : -\\frac{r_{894} x_{14}}{x_{13}}, a_{35} : r_{901}, a_{45} : r_{902}\\right\\}, \\left\\{d_{1} : r_{903}, d_{2} : r_{904}, d_{3} : \\frac{r_{903}}{x_{13}}, d_{4} : r_{905}, d_{5} : \\frac{r_{903}}{x_{13} x_{35}}, a_{12} : r_{906}, a_{13} : r_{907}, a_{14} : r_{908}, a_{15} : r_{909}, a_{23} : 0, a_{24} : r_{910}, a_{25} : r_{911}, a_{34} : -\\frac{r_{905} x_{14}}{x_{13}}, a_{35} : r_{912}, a_{45} : -\\frac{r_{903} x_{15} + {\\left(r_{912} x_{13}^{2} - r_{907} x_{13}\\right)} x_{35}}{x_{13} x_{14} x_{35}}\\right\\}\\right]$$"
      ],
      "text/plain": [
       "[{d1: 0,\n",
       "  d2: r882,\n",
       "  d3: 0,\n",
       "  d4: r883,\n",
       "  d5: 0,\n",
       "  a12: r884,\n",
       "  a13: r885,\n",
       "  a14: r886,\n",
       "  a15: r887,\n",
       "  a23: r888,\n",
       "  a24: r889,\n",
       "  a25: r890,\n",
       "  a34: -r883*x14/x13,\n",
       "  a35: r891,\n",
       "  a45: r892},\n",
       " {d1: r893,\n",
       "  d2: 0,\n",
       "  d3: r893/x13,\n",
       "  d4: r894,\n",
       "  d5: r893/(x13*x35),\n",
       "  a12: r895,\n",
       "  a13: r896,\n",
       "  a14: r897,\n",
       "  a15: r898,\n",
       "  a23: 0,\n",
       "  a24: r899,\n",
       "  a25: r900,\n",
       "  a34: -r894*x14/x13,\n",
       "  a35: r901,\n",
       "  a45: r902},\n",
       " {d1: r903,\n",
       "  d2: r904,\n",
       "  d3: r903/x13,\n",
       "  d4: r905,\n",
       "  d5: r903/(x13*x35),\n",
       "  a12: r906,\n",
       "  a13: r907,\n",
       "  a14: r908,\n",
       "  a15: r909,\n",
       "  a23: 0,\n",
       "  a24: r910,\n",
       "  a25: r911,\n",
       "  a34: -r905*x14/x13,\n",
       "  a35: r912,\n",
       "  a45: -(r903*x15 + (r912*x13^2 - r907*x13)*x35)/(x13*x14*x35)}]"
      ]
     },
     "metadata": {},
     "output_type": "display_data"
    },
    {
     "data": {
      "text/plain": [
       "\\left[\\left\\{d_{1} : 0, d_{2} : r_{882}, d_{3} : 0, d_{4} : r_{883}, d_{5} : 0, a_{12} : r_{884}, a_{13} : r_{885}, a_{14} : r_{886}, a_{15} : r_{887}, a_{23} : r_{888}, a_{24} : r_{889}, a_{25} : r_{890}, a_{34} : -\\frac{r_{883} x_{14}}{x_{13}}, a_{35} : r_{891}, a_{45} : r_{892}\\right\\}, \\left\\{d_{1} : r_{893}, d_{2} : 0, d_{3} : \\frac{r_{893}}{x_{13}}, d_{4} : r_{894}, d_{5} : \\frac{r_{893}}{x_{13} x_{35}}, a_{12} : r_{895}, a_{13} : r_{896}, a_{14} : r_{897}, a_{15} : r_{898}, a_{23} : 0, a_{24} : r_{899}, a_{25} : r_{900}, a_{34} : -\\frac{r_{894} x_{14}}{x_{13}}, a_{35} : r_{901}, a_{45} : r_{902}\\right\\}, \\left\\{d_{1} : r_{903}, d_{2} : r_{904}, d_{3} : \\frac{r_{903}}{x_{13}}, d_{4} : r_{905}, d_{5} : \\frac{r_{903}}{x_{13} x_{35}}, a_{12} : r_{906}, a_{13} : r_{907}, a_{14} : r_{908}, a_{15} : r_{909}, a_{23} : 0, a_{24} : r_{910}, a_{25} : r_{911}, a_{34} : -\\frac{r_{905} x_{14}}{x_{13}}, a_{35} : r_{912}, a_{45} : -\\frac{r_{903} x_{15} + {\\left(r_{912} x_{13}^{2} - r_{907} x_{13}\\right)} x_{35}}{x_{13} x_{14} x_{35}}\\right\\}\\right]"
      ]
     },
     "execution_count": 40,
     "metadata": {},
     "output_type": "execute_result"
    }
   ],
   "source": [
    "#x1\n",
    "reset()\n",
    "\n",
    "var('x12,x13,x14,x15,x23,x24,x25,x34,x35,x45')\n",
    "var('d1,d2,d3,d4,d5')\n",
    "var('a12,a13,a14,a15,a23,a24,a25,a34,a35,a45')\n",
    "\n",
    "load_attach_path('C:\\\\Users\\\\julia\\\\Documents\\\\unb\\\\doutorado\\\\pensar\\\\codigo_sage_v2\\\\maquina\\\\x1')\n",
    "load('out_#100111.sage')\n",
    "\n",
    "m=matrix(QQ, [[0, 0, 1, 0, 0],\n",
    "              [0, 0, 0, 0, 0],\n",
    "              [0, 0, 0, 0, 1],\n",
    "              [0, 0, 0, 0, 0],\n",
    "              [0, 0, 0, 0, 0]])\n",
    "        \n",
    "#entry of matrix: (i,j) line i collum j, means (i-1,j-1)\n",
    "sol=solve([ \teq1==m[0,2],\teq2==m[0,3],\teq3==m[0,4],\t\n",
    "                                            eq4==m[1,3],    eq5==m[1,4],\n",
    "                                                            eq6==m[2,4]],d1,d2,d3,d4,d5,a12,a13,a14,a15,a23,a24,a25,a34,a35,a45, solution_dict=True)\n",
    "\n",
    "show(m)\n",
    "show(sol)\n",
    "latex(sol)"
   ]
  },
  {
   "cell_type": "code",
   "execution_count": 41,
   "metadata": {},
   "outputs": [
    {
     "data": {
      "text/html": [
       "<html><script type=\"math/tex; mode=display\">\\newcommand{\\Bold}[1]{\\mathbf{#1}}\\left(\\begin{array}{rrrrr}\n",
       "0 & 0 & 0 & 0 & 0 \\\\\n",
       "0 & 0 & 0 & 0 & 1 \\\\\n",
       "0 & 0 & 0 & 0 & 1 \\\\\n",
       "0 & 0 & 0 & 0 & 0 \\\\\n",
       "0 & 0 & 0 & 0 & 0\n",
       "\\end{array}\\right)</script></html>"
      ],
      "text/latex": [
       "$$\\newcommand{\\Bold}[1]{\\mathbf{#1}}\\left(\\begin{array}{rrrrr}\n",
       "0 & 0 & 0 & 0 & 0 \\\\\n",
       "0 & 0 & 0 & 0 & 1 \\\\\n",
       "0 & 0 & 0 & 0 & 1 \\\\\n",
       "0 & 0 & 0 & 0 & 0 \\\\\n",
       "0 & 0 & 0 & 0 & 0\n",
       "\\end{array}\\right)$$"
      ],
      "text/plain": [
       "[0 0 0 0 0]\n",
       "[0 0 0 0 1]\n",
       "[0 0 0 0 1]\n",
       "[0 0 0 0 0]\n",
       "[0 0 0 0 0]"
      ]
     },
     "metadata": {},
     "output_type": "display_data"
    },
    {
     "data": {
      "text/html": [
       "<html><script type=\"math/tex; mode=display\">\\newcommand{\\Bold}[1]{\\mathbf{#1}}\\left[\\left\\{d_{1} : r_{913}, d_{2} : r_{914}, d_{3} : 0, d_{4} : r_{915}, d_{5} : 0, a_{12} : r_{916}, a_{13} : r_{917}, a_{14} : r_{918}, a_{15} : r_{919}, a_{23} : r_{920}, a_{24} : r_{921}, a_{25} : r_{922}, a_{34} : r_{923}, a_{35} : r_{924}, a_{45} : r_{925}\\right\\}, \\left\\{d_{1} : r_{926}, d_{2} : 0, d_{3} : r_{927}, d_{4} : r_{928}, d_{5} : \\frac{r_{927}}{x_{35}}, a_{12} : r_{929}, a_{13} : r_{930}, a_{14} : r_{931}, a_{15} : r_{932}, a_{23} : \\frac{r_{927} x_{25}}{x_{35}}, a_{24} : r_{933}, a_{25} : r_{934}, a_{34} : r_{935}, a_{35} : r_{936}, a_{45} : r_{937}\\right\\}, \\left\\{d_{1} : r_{938}, d_{2} : r_{939}, d_{3} : r_{940}, d_{4} : r_{941}, d_{5} : \\frac{r_{940}}{x_{35}}, a_{12} : r_{942}, a_{13} : -r_{942}, a_{14} : r_{943}, a_{15} : r_{944}, a_{23} : \\frac{r_{940} x_{25} - r_{939} x_{35}}{x_{35}}, a_{24} : r_{945}, a_{25} : r_{946}, a_{34} : r_{947}, a_{35} : r_{948}, a_{45} : r_{949}\\right\\}\\right]</script></html>"
      ],
      "text/latex": [
       "$$\\newcommand{\\Bold}[1]{\\mathbf{#1}}\\left[\\left\\{d_{1} : r_{913}, d_{2} : r_{914}, d_{3} : 0, d_{4} : r_{915}, d_{5} : 0, a_{12} : r_{916}, a_{13} : r_{917}, a_{14} : r_{918}, a_{15} : r_{919}, a_{23} : r_{920}, a_{24} : r_{921}, a_{25} : r_{922}, a_{34} : r_{923}, a_{35} : r_{924}, a_{45} : r_{925}\\right\\}, \\left\\{d_{1} : r_{926}, d_{2} : 0, d_{3} : r_{927}, d_{4} : r_{928}, d_{5} : \\frac{r_{927}}{x_{35}}, a_{12} : r_{929}, a_{13} : r_{930}, a_{14} : r_{931}, a_{15} : r_{932}, a_{23} : \\frac{r_{927} x_{25}}{x_{35}}, a_{24} : r_{933}, a_{25} : r_{934}, a_{34} : r_{935}, a_{35} : r_{936}, a_{45} : r_{937}\\right\\}, \\left\\{d_{1} : r_{938}, d_{2} : r_{939}, d_{3} : r_{940}, d_{4} : r_{941}, d_{5} : \\frac{r_{940}}{x_{35}}, a_{12} : r_{942}, a_{13} : -r_{942}, a_{14} : r_{943}, a_{15} : r_{944}, a_{23} : \\frac{r_{940} x_{25} - r_{939} x_{35}}{x_{35}}, a_{24} : r_{945}, a_{25} : r_{946}, a_{34} : r_{947}, a_{35} : r_{948}, a_{45} : r_{949}\\right\\}\\right]$$"
      ],
      "text/plain": [
       "[{d1: r913,\n",
       "  d2: r914,\n",
       "  d3: 0,\n",
       "  d4: r915,\n",
       "  d5: 0,\n",
       "  a12: r916,\n",
       "  a13: r917,\n",
       "  a14: r918,\n",
       "  a15: r919,\n",
       "  a23: r920,\n",
       "  a24: r921,\n",
       "  a25: r922,\n",
       "  a34: r923,\n",
       "  a35: r924,\n",
       "  a45: r925},\n",
       " {d1: r926,\n",
       "  d2: 0,\n",
       "  d3: r927,\n",
       "  d4: r928,\n",
       "  d5: r927/x35,\n",
       "  a12: r929,\n",
       "  a13: r930,\n",
       "  a14: r931,\n",
       "  a15: r932,\n",
       "  a23: r927*x25/x35,\n",
       "  a24: r933,\n",
       "  a25: r934,\n",
       "  a34: r935,\n",
       "  a35: r936,\n",
       "  a45: r937},\n",
       " {d1: r938,\n",
       "  d2: r939,\n",
       "  d3: r940,\n",
       "  d4: r941,\n",
       "  d5: r940/x35,\n",
       "  a12: r942,\n",
       "  a13: -r942,\n",
       "  a14: r943,\n",
       "  a15: r944,\n",
       "  a23: (r940*x25 - r939*x35)/x35,\n",
       "  a24: r945,\n",
       "  a25: r946,\n",
       "  a34: r947,\n",
       "  a35: r948,\n",
       "  a45: r949}]"
      ]
     },
     "metadata": {},
     "output_type": "display_data"
    },
    {
     "data": {
      "text/plain": [
       "\\left[\\left\\{d_{1} : r_{913}, d_{2} : r_{914}, d_{3} : 0, d_{4} : r_{915}, d_{5} : 0, a_{12} : r_{916}, a_{13} : r_{917}, a_{14} : r_{918}, a_{15} : r_{919}, a_{23} : r_{920}, a_{24} : r_{921}, a_{25} : r_{922}, a_{34} : r_{923}, a_{35} : r_{924}, a_{45} : r_{925}\\right\\}, \\left\\{d_{1} : r_{926}, d_{2} : 0, d_{3} : r_{927}, d_{4} : r_{928}, d_{5} : \\frac{r_{927}}{x_{35}}, a_{12} : r_{929}, a_{13} : r_{930}, a_{14} : r_{931}, a_{15} : r_{932}, a_{23} : \\frac{r_{927} x_{25}}{x_{35}}, a_{24} : r_{933}, a_{25} : r_{934}, a_{34} : r_{935}, a_{35} : r_{936}, a_{45} : r_{937}\\right\\}, \\left\\{d_{1} : r_{938}, d_{2} : r_{939}, d_{3} : r_{940}, d_{4} : r_{941}, d_{5} : \\frac{r_{940}}{x_{35}}, a_{12} : r_{942}, a_{13} : -r_{942}, a_{14} : r_{943}, a_{15} : r_{944}, a_{23} : \\frac{r_{940} x_{25} - r_{939} x_{35}}{x_{35}}, a_{24} : r_{945}, a_{25} : r_{946}, a_{34} : r_{947}, a_{35} : r_{948}, a_{45} : r_{949}\\right\\}\\right]"
      ]
     },
     "execution_count": 41,
     "metadata": {},
     "output_type": "execute_result"
    }
   ],
   "source": [
    "#x1\n",
    "reset()\n",
    "\n",
    "var('x12,x13,x14,x15,x23,x24,x25,x34,x35,x45')\n",
    "var('d1,d2,d3,d4,d5')\n",
    "var('a12,a13,a14,a15,a23,a24,a25,a34,a35,a45')\n",
    "\n",
    "load_attach_path('C:\\\\Users\\\\julia\\\\Documents\\\\unb\\\\doutorado\\\\pensar\\\\codigo_sage_v2\\\\maquina\\\\x1')\n",
    "load('out_#101000.sage')\n",
    "\n",
    "m=matrix(QQ, [[0, 0, 0, 0, 0],\n",
    "              [0, 0, 0, 0, 1],\n",
    "              [0, 0, 0, 0, 1],\n",
    "              [0, 0, 0, 0, 0],\n",
    "              [0, 0, 0, 0, 0]])\n",
    "        \n",
    "#entry of matrix: (i,j) line i collum j, means (i-1,j-1)\n",
    "sol=solve([ \teq1==m[0,2],\teq2==m[0,3],\teq3==m[0,4],\t\n",
    "                                            eq4==m[1,3],    eq5==m[1,4],\n",
    "                                                            eq6==m[2,4]],d1,d2,d3,d4,d5,a12,a13,a14,a15,a23,a24,a25,a34,a35,a45, solution_dict=True)\n",
    "\n",
    "show(m)\n",
    "show(sol)\n",
    "latex(sol)"
   ]
  },
  {
   "cell_type": "code",
   "execution_count": 42,
   "metadata": {},
   "outputs": [
    {
     "data": {
      "text/html": [
       "<html><script type=\"math/tex; mode=display\">\\newcommand{\\Bold}[1]{\\mathbf{#1}}\\left(\\begin{array}{rrrrr}\n",
       "0 & 0 & 0 & 0 & 0 \\\\\n",
       "0 & 0 & 0 & 0 & 1 \\\\\n",
       "0 & 0 & 0 & 0 & 1 \\\\\n",
       "0 & 0 & 0 & 0 & 0 \\\\\n",
       "0 & 0 & 0 & 0 & 0\n",
       "\\end{array}\\right)</script></html>"
      ],
      "text/latex": [
       "$$\\newcommand{\\Bold}[1]{\\mathbf{#1}}\\left(\\begin{array}{rrrrr}\n",
       "0 & 0 & 0 & 0 & 0 \\\\\n",
       "0 & 0 & 0 & 0 & 1 \\\\\n",
       "0 & 0 & 0 & 0 & 1 \\\\\n",
       "0 & 0 & 0 & 0 & 0 \\\\\n",
       "0 & 0 & 0 & 0 & 0\n",
       "\\end{array}\\right)$$"
      ],
      "text/plain": [
       "[0 0 0 0 0]\n",
       "[0 0 0 0 1]\n",
       "[0 0 0 0 1]\n",
       "[0 0 0 0 0]\n",
       "[0 0 0 0 0]"
      ]
     },
     "metadata": {},
     "output_type": "display_data"
    },
    {
     "data": {
      "text/html": [
       "<html><script type=\"math/tex; mode=display\">\\newcommand{\\Bold}[1]{\\mathbf{#1}}\\left[\\left\\{d_{1} : r_{950}, d_{2} : r_{951}, d_{3} : 0, d_{4} : r_{952}, d_{5} : 0, a_{12} : r_{953}, a_{13} : r_{954}, a_{14} : r_{955}, a_{15} : r_{956}, a_{23} : r_{957}, a_{24} : r_{958}, a_{25} : r_{959}, a_{34} : r_{960}, a_{35} : r_{961}, a_{45} : r_{962}\\right\\}, \\left\\{d_{1} : r_{963}, d_{2} : 0, d_{3} : r_{964}, d_{4} : r_{965}, d_{5} : \\frac{r_{964}}{x_{35}}, a_{12} : r_{966}, a_{13} : r_{967}, a_{14} : r_{968}, a_{15} : r_{969}, a_{23} : \\frac{r_{964} x_{25}}{x_{35}}, a_{24} : r_{970}, a_{25} : r_{971}, a_{34} : r_{972}, a_{35} : r_{973}, a_{45} : r_{974}\\right\\}, \\left\\{d_{1} : r_{975}, d_{2} : r_{976}, d_{3} : r_{977}, d_{4} : r_{978}, d_{5} : \\frac{r_{977}}{x_{35}}, a_{12} : r_{979}, a_{13} : \\frac{r_{977} x_{15} - r_{979} x_{35}}{x_{35}}, a_{14} : r_{980}, a_{15} : r_{981}, a_{23} : \\frac{r_{977} x_{25} - r_{976} x_{35}}{x_{35}}, a_{24} : r_{982}, a_{25} : r_{983}, a_{34} : r_{984}, a_{35} : r_{985}, a_{45} : r_{986}\\right\\}\\right]</script></html>"
      ],
      "text/latex": [
       "$$\\newcommand{\\Bold}[1]{\\mathbf{#1}}\\left[\\left\\{d_{1} : r_{950}, d_{2} : r_{951}, d_{3} : 0, d_{4} : r_{952}, d_{5} : 0, a_{12} : r_{953}, a_{13} : r_{954}, a_{14} : r_{955}, a_{15} : r_{956}, a_{23} : r_{957}, a_{24} : r_{958}, a_{25} : r_{959}, a_{34} : r_{960}, a_{35} : r_{961}, a_{45} : r_{962}\\right\\}, \\left\\{d_{1} : r_{963}, d_{2} : 0, d_{3} : r_{964}, d_{4} : r_{965}, d_{5} : \\frac{r_{964}}{x_{35}}, a_{12} : r_{966}, a_{13} : r_{967}, a_{14} : r_{968}, a_{15} : r_{969}, a_{23} : \\frac{r_{964} x_{25}}{x_{35}}, a_{24} : r_{970}, a_{25} : r_{971}, a_{34} : r_{972}, a_{35} : r_{973}, a_{45} : r_{974}\\right\\}, \\left\\{d_{1} : r_{975}, d_{2} : r_{976}, d_{3} : r_{977}, d_{4} : r_{978}, d_{5} : \\frac{r_{977}}{x_{35}}, a_{12} : r_{979}, a_{13} : \\frac{r_{977} x_{15} - r_{979} x_{35}}{x_{35}}, a_{14} : r_{980}, a_{15} : r_{981}, a_{23} : \\frac{r_{977} x_{25} - r_{976} x_{35}}{x_{35}}, a_{24} : r_{982}, a_{25} : r_{983}, a_{34} : r_{984}, a_{35} : r_{985}, a_{45} : r_{986}\\right\\}\\right]$$"
      ],
      "text/plain": [
       "[{d1: r950,\n",
       "  d2: r951,\n",
       "  d3: 0,\n",
       "  d4: r952,\n",
       "  d5: 0,\n",
       "  a12: r953,\n",
       "  a13: r954,\n",
       "  a14: r955,\n",
       "  a15: r956,\n",
       "  a23: r957,\n",
       "  a24: r958,\n",
       "  a25: r959,\n",
       "  a34: r960,\n",
       "  a35: r961,\n",
       "  a45: r962},\n",
       " {d1: r963,\n",
       "  d2: 0,\n",
       "  d3: r964,\n",
       "  d4: r965,\n",
       "  d5: r964/x35,\n",
       "  a12: r966,\n",
       "  a13: r967,\n",
       "  a14: r968,\n",
       "  a15: r969,\n",
       "  a23: r964*x25/x35,\n",
       "  a24: r970,\n",
       "  a25: r971,\n",
       "  a34: r972,\n",
       "  a35: r973,\n",
       "  a45: r974},\n",
       " {d1: r975,\n",
       "  d2: r976,\n",
       "  d3: r977,\n",
       "  d4: r978,\n",
       "  d5: r977/x35,\n",
       "  a12: r979,\n",
       "  a13: (r977*x15 - r979*x35)/x35,\n",
       "  a14: r980,\n",
       "  a15: r981,\n",
       "  a23: (r977*x25 - r976*x35)/x35,\n",
       "  a24: r982,\n",
       "  a25: r983,\n",
       "  a34: r984,\n",
       "  a35: r985,\n",
       "  a45: r986}]"
      ]
     },
     "metadata": {},
     "output_type": "display_data"
    },
    {
     "data": {
      "text/plain": [
       "\\left[\\left\\{d_{1} : r_{950}, d_{2} : r_{951}, d_{3} : 0, d_{4} : r_{952}, d_{5} : 0, a_{12} : r_{953}, a_{13} : r_{954}, a_{14} : r_{955}, a_{15} : r_{956}, a_{23} : r_{957}, a_{24} : r_{958}, a_{25} : r_{959}, a_{34} : r_{960}, a_{35} : r_{961}, a_{45} : r_{962}\\right\\}, \\left\\{d_{1} : r_{963}, d_{2} : 0, d_{3} : r_{964}, d_{4} : r_{965}, d_{5} : \\frac{r_{964}}{x_{35}}, a_{12} : r_{966}, a_{13} : r_{967}, a_{14} : r_{968}, a_{15} : r_{969}, a_{23} : \\frac{r_{964} x_{25}}{x_{35}}, a_{24} : r_{970}, a_{25} : r_{971}, a_{34} : r_{972}, a_{35} : r_{973}, a_{45} : r_{974}\\right\\}, \\left\\{d_{1} : r_{975}, d_{2} : r_{976}, d_{3} : r_{977}, d_{4} : r_{978}, d_{5} : \\frac{r_{977}}{x_{35}}, a_{12} : r_{979}, a_{13} : \\frac{r_{977} x_{15} - r_{979} x_{35}}{x_{35}}, a_{14} : r_{980}, a_{15} : r_{981}, a_{23} : \\frac{r_{977} x_{25} - r_{976} x_{35}}{x_{35}}, a_{24} : r_{982}, a_{25} : r_{983}, a_{34} : r_{984}, a_{35} : r_{985}, a_{45} : r_{986}\\right\\}\\right]"
      ]
     },
     "execution_count": 42,
     "metadata": {},
     "output_type": "execute_result"
    }
   ],
   "source": [
    "#x1\n",
    "reset()\n",
    "\n",
    "var('x12,x13,x14,x15,x23,x24,x25,x34,x35,x45')\n",
    "var('d1,d2,d3,d4,d5')\n",
    "var('a12,a13,a14,a15,a23,a24,a25,a34,a35,a45')\n",
    "\n",
    "load_attach_path('C:\\\\Users\\\\julia\\\\Documents\\\\unb\\\\doutorado\\\\pensar\\\\codigo_sage_v2\\\\maquina\\\\x1')\n",
    "load('out_#101001.sage')\n",
    "\n",
    "m=matrix(QQ, [[0, 0, 0, 0, 0],\n",
    "              [0, 0, 0, 0, 1],\n",
    "              [0, 0, 0, 0, 1],\n",
    "              [0, 0, 0, 0, 0],\n",
    "              [0, 0, 0, 0, 0]])\n",
    "        \n",
    "#entry of matrix: (i,j) line i collum j, means (i-1,j-1)\n",
    "sol=solve([ \teq1==m[0,2],\teq2==m[0,3],\teq3==m[0,4],\t\n",
    "                                            eq4==m[1,3],    eq5==m[1,4],\n",
    "                                                            eq6==m[2,4]],d1,d2,d3,d4,d5,a12,a13,a14,a15,a23,a24,a25,a34,a35,a45, solution_dict=True)\n",
    "\n",
    "show(m)\n",
    "show(sol)\n",
    "latex(sol)"
   ]
  },
  {
   "cell_type": "code",
   "execution_count": 43,
   "metadata": {},
   "outputs": [
    {
     "data": {
      "text/html": [
       "<html><script type=\"math/tex; mode=display\">\\newcommand{\\Bold}[1]{\\mathbf{#1}}\\left(\\begin{array}{rrrrr}\n",
       "0 & 0 & 0 & 1 & 0 \\\\\n",
       "0 & 0 & 0 & 0 & 1 \\\\\n",
       "0 & 0 & 0 & 0 & 1 \\\\\n",
       "0 & 0 & 0 & 0 & 0 \\\\\n",
       "0 & 0 & 0 & 0 & 0\n",
       "\\end{array}\\right)</script></html>"
      ],
      "text/latex": [
       "$$\\newcommand{\\Bold}[1]{\\mathbf{#1}}\\left(\\begin{array}{rrrrr}\n",
       "0 & 0 & 0 & 1 & 0 \\\\\n",
       "0 & 0 & 0 & 0 & 1 \\\\\n",
       "0 & 0 & 0 & 0 & 1 \\\\\n",
       "0 & 0 & 0 & 0 & 0 \\\\\n",
       "0 & 0 & 0 & 0 & 0\n",
       "\\end{array}\\right)$$"
      ],
      "text/plain": [
       "[0 0 0 1 0]\n",
       "[0 0 0 0 1]\n",
       "[0 0 0 0 1]\n",
       "[0 0 0 0 0]\n",
       "[0 0 0 0 0]"
      ]
     },
     "metadata": {},
     "output_type": "display_data"
    },
    {
     "data": {
      "text/html": [
       "<html><script type=\"math/tex; mode=display\">\\newcommand{\\Bold}[1]{\\mathbf{#1}}\\left[\\left\\{d_{1} : r_{987}, d_{2} : r_{988}, d_{3} : 0, d_{4} : \\frac{r_{987}}{x_{14}}, d_{5} : 0, a_{12} : r_{989}, a_{13} : r_{990}, a_{14} : r_{991}, a_{15} : r_{992}, a_{23} : r_{993}, a_{24} : r_{994}, a_{25} : r_{995}, a_{34} : r_{996}, a_{35} : r_{997}, a_{45} : r_{998}\\right\\}, \\left\\{d_{1} : r_{999}, d_{2} : r_{1000}, d_{3} : r_{1001}, d_{4} : \\frac{r_{999}}{x_{14}}, d_{5} : \\frac{r_{1001}}{x_{35}}, a_{12} : r_{1002}, a_{13} : r_{1003}, a_{14} : r_{1004}, a_{15} : r_{1005}, a_{23} : \\frac{r_{1001} x_{25} - r_{1000} x_{35}}{x_{35}}, a_{24} : r_{1006}, a_{25} : r_{1007}, a_{34} : r_{1008}, a_{35} : r_{1009}, a_{45} : \\frac{r_{1002} + r_{1003}}{x_{14}}\\right\\}, \\left\\{d_{1} : r_{1010}, d_{2} : 0, d_{3} : r_{1011}, d_{4} : \\frac{r_{1010}}{x_{14}}, d_{5} : \\frac{r_{1011}}{x_{35}}, a_{12} : r_{1012}, a_{13} : r_{1013}, a_{14} : r_{1014}, a_{15} : r_{1015}, a_{23} : \\frac{r_{1011} x_{25}}{x_{35}}, a_{24} : r_{1016}, a_{25} : r_{1017}, a_{34} : r_{1018}, a_{35} : r_{1019}, a_{45} : r_{1020}\\right\\}\\right]</script></html>"
      ],
      "text/latex": [
       "$$\\newcommand{\\Bold}[1]{\\mathbf{#1}}\\left[\\left\\{d_{1} : r_{987}, d_{2} : r_{988}, d_{3} : 0, d_{4} : \\frac{r_{987}}{x_{14}}, d_{5} : 0, a_{12} : r_{989}, a_{13} : r_{990}, a_{14} : r_{991}, a_{15} : r_{992}, a_{23} : r_{993}, a_{24} : r_{994}, a_{25} : r_{995}, a_{34} : r_{996}, a_{35} : r_{997}, a_{45} : r_{998}\\right\\}, \\left\\{d_{1} : r_{999}, d_{2} : r_{1000}, d_{3} : r_{1001}, d_{4} : \\frac{r_{999}}{x_{14}}, d_{5} : \\frac{r_{1001}}{x_{35}}, a_{12} : r_{1002}, a_{13} : r_{1003}, a_{14} : r_{1004}, a_{15} : r_{1005}, a_{23} : \\frac{r_{1001} x_{25} - r_{1000} x_{35}}{x_{35}}, a_{24} : r_{1006}, a_{25} : r_{1007}, a_{34} : r_{1008}, a_{35} : r_{1009}, a_{45} : \\frac{r_{1002} + r_{1003}}{x_{14}}\\right\\}, \\left\\{d_{1} : r_{1010}, d_{2} : 0, d_{3} : r_{1011}, d_{4} : \\frac{r_{1010}}{x_{14}}, d_{5} : \\frac{r_{1011}}{x_{35}}, a_{12} : r_{1012}, a_{13} : r_{1013}, a_{14} : r_{1014}, a_{15} : r_{1015}, a_{23} : \\frac{r_{1011} x_{25}}{x_{35}}, a_{24} : r_{1016}, a_{25} : r_{1017}, a_{34} : r_{1018}, a_{35} : r_{1019}, a_{45} : r_{1020}\\right\\}\\right]$$"
      ],
      "text/plain": [
       "[{d1: r987,\n",
       "  d2: r988,\n",
       "  d3: 0,\n",
       "  d4: r987/x14,\n",
       "  d5: 0,\n",
       "  a12: r989,\n",
       "  a13: r990,\n",
       "  a14: r991,\n",
       "  a15: r992,\n",
       "  a23: r993,\n",
       "  a24: r994,\n",
       "  a25: r995,\n",
       "  a34: r996,\n",
       "  a35: r997,\n",
       "  a45: r998},\n",
       " {d1: r999,\n",
       "  d2: r1000,\n",
       "  d3: r1001,\n",
       "  d4: r999/x14,\n",
       "  d5: r1001/x35,\n",
       "  a12: r1002,\n",
       "  a13: r1003,\n",
       "  a14: r1004,\n",
       "  a15: r1005,\n",
       "  a23: (r1001*x25 - r1000*x35)/x35,\n",
       "  a24: r1006,\n",
       "  a25: r1007,\n",
       "  a34: r1008,\n",
       "  a35: r1009,\n",
       "  a45: (r1002 + r1003)/x14},\n",
       " {d1: r1010,\n",
       "  d2: 0,\n",
       "  d3: r1011,\n",
       "  d4: r1010/x14,\n",
       "  d5: r1011/x35,\n",
       "  a12: r1012,\n",
       "  a13: r1013,\n",
       "  a14: r1014,\n",
       "  a15: r1015,\n",
       "  a23: r1011*x25/x35,\n",
       "  a24: r1016,\n",
       "  a25: r1017,\n",
       "  a34: r1018,\n",
       "  a35: r1019,\n",
       "  a45: r1020}]"
      ]
     },
     "metadata": {},
     "output_type": "display_data"
    },
    {
     "data": {
      "text/plain": [
       "\\left[\\left\\{d_{1} : r_{987}, d_{2} : r_{988}, d_{3} : 0, d_{4} : \\frac{r_{987}}{x_{14}}, d_{5} : 0, a_{12} : r_{989}, a_{13} : r_{990}, a_{14} : r_{991}, a_{15} : r_{992}, a_{23} : r_{993}, a_{24} : r_{994}, a_{25} : r_{995}, a_{34} : r_{996}, a_{35} : r_{997}, a_{45} : r_{998}\\right\\}, \\left\\{d_{1} : r_{999}, d_{2} : r_{1000}, d_{3} : r_{1001}, d_{4} : \\frac{r_{999}}{x_{14}}, d_{5} : \\frac{r_{1001}}{x_{35}}, a_{12} : r_{1002}, a_{13} : r_{1003}, a_{14} : r_{1004}, a_{15} : r_{1005}, a_{23} : \\frac{r_{1001} x_{25} - r_{1000} x_{35}}{x_{35}}, a_{24} : r_{1006}, a_{25} : r_{1007}, a_{34} : r_{1008}, a_{35} : r_{1009}, a_{45} : \\frac{r_{1002} + r_{1003}}{x_{14}}\\right\\}, \\left\\{d_{1} : r_{1010}, d_{2} : 0, d_{3} : r_{1011}, d_{4} : \\frac{r_{1010}}{x_{14}}, d_{5} : \\frac{r_{1011}}{x_{35}}, a_{12} : r_{1012}, a_{13} : r_{1013}, a_{14} : r_{1014}, a_{15} : r_{1015}, a_{23} : \\frac{r_{1011} x_{25}}{x_{35}}, a_{24} : r_{1016}, a_{25} : r_{1017}, a_{34} : r_{1018}, a_{35} : r_{1019}, a_{45} : r_{1020}\\right\\}\\right]"
      ]
     },
     "execution_count": 43,
     "metadata": {},
     "output_type": "execute_result"
    }
   ],
   "source": [
    "#x1\n",
    "reset()\n",
    "\n",
    "var('x12,x13,x14,x15,x23,x24,x25,x34,x35,x45')\n",
    "var('d1,d2,d3,d4,d5')\n",
    "var('a12,a13,a14,a15,a23,a24,a25,a34,a35,a45')\n",
    "\n",
    "load_attach_path('C:\\\\Users\\\\julia\\\\Documents\\\\unb\\\\doutorado\\\\pensar\\\\codigo_sage_v2\\\\maquina\\\\x1')\n",
    "load('out_#101010.sage')\n",
    "\n",
    "m=matrix(QQ, [[0, 0, 0, 1, 0],\n",
    "              [0, 0, 0, 0, 1],\n",
    "              [0, 0, 0, 0, 1],\n",
    "              [0, 0, 0, 0, 0],\n",
    "              [0, 0, 0, 0, 0]])\n",
    "        \n",
    "#entry of matrix: (i,j) line i collum j, means (i-1,j-1)\n",
    "sol=solve([ \teq1==m[0,2],\teq2==m[0,3],\teq3==m[0,4],\t\n",
    "                                            eq4==m[1,3],    eq5==m[1,4],\n",
    "                                                            eq6==m[2,4]],d1,d2,d3,d4,d5,a12,a13,a14,a15,a23,a24,a25,a34,a35,a45, solution_dict=True)\n",
    "\n",
    "show(m)\n",
    "show(sol)\n",
    "latex(sol)"
   ]
  },
  {
   "cell_type": "code",
   "execution_count": 44,
   "metadata": {},
   "outputs": [
    {
     "data": {
      "text/html": [
       "<html><script type=\"math/tex; mode=display\">\\newcommand{\\Bold}[1]{\\mathbf{#1}}\\left(\\begin{array}{rrrrr}\n",
       "0 & 0 & 0 & 1 & 0 \\\\\n",
       "0 & 0 & 0 & 0 & 1 \\\\\n",
       "0 & 0 & 0 & 0 & 1 \\\\\n",
       "0 & 0 & 0 & 0 & 0 \\\\\n",
       "0 & 0 & 0 & 0 & 0\n",
       "\\end{array}\\right)</script></html>"
      ],
      "text/latex": [
       "$$\\newcommand{\\Bold}[1]{\\mathbf{#1}}\\left(\\begin{array}{rrrrr}\n",
       "0 & 0 & 0 & 1 & 0 \\\\\n",
       "0 & 0 & 0 & 0 & 1 \\\\\n",
       "0 & 0 & 0 & 0 & 1 \\\\\n",
       "0 & 0 & 0 & 0 & 0 \\\\\n",
       "0 & 0 & 0 & 0 & 0\n",
       "\\end{array}\\right)$$"
      ],
      "text/plain": [
       "[0 0 0 1 0]\n",
       "[0 0 0 0 1]\n",
       "[0 0 0 0 1]\n",
       "[0 0 0 0 0]\n",
       "[0 0 0 0 0]"
      ]
     },
     "metadata": {},
     "output_type": "display_data"
    },
    {
     "data": {
      "text/html": [
       "<html><script type=\"math/tex; mode=display\">\\newcommand{\\Bold}[1]{\\mathbf{#1}}\\left[\\left\\{d_{1} : r_{1021}, d_{2} : r_{1022}, d_{3} : 0, d_{4} : \\frac{r_{1021}}{x_{14}}, d_{5} : 0, a_{12} : r_{1023}, a_{13} : r_{1024}, a_{14} : r_{1025}, a_{15} : r_{1026}, a_{23} : r_{1027}, a_{24} : r_{1028}, a_{25} : r_{1029}, a_{34} : r_{1030}, a_{35} : r_{1031}, a_{45} : r_{1032}\\right\\}, \\left\\{d_{1} : r_{1033}, d_{2} : r_{1034}, d_{3} : r_{1035}, d_{4} : \\frac{r_{1033}}{x_{14}}, d_{5} : \\frac{r_{1035}}{x_{35}}, a_{12} : r_{1036}, a_{13} : r_{1037}, a_{14} : r_{1038}, a_{15} : r_{1039}, a_{23} : \\frac{r_{1035} x_{25} - r_{1034} x_{35}}{x_{35}}, a_{24} : r_{1040}, a_{25} : r_{1041}, a_{34} : r_{1042}, a_{35} : r_{1043}, a_{45} : -\\frac{r_{1035} x_{15} - {\\left(r_{1036} + r_{1037}\\right)} x_{35}}{x_{14} x_{35}}\\right\\}, \\left\\{d_{1} : r_{1044}, d_{2} : 0, d_{3} : r_{1045}, d_{4} : \\frac{r_{1044}}{x_{14}}, d_{5} : \\frac{r_{1045}}{x_{35}}, a_{12} : r_{1046}, a_{13} : r_{1047}, a_{14} : r_{1048}, a_{15} : r_{1049}, a_{23} : \\frac{r_{1045} x_{25}}{x_{35}}, a_{24} : r_{1050}, a_{25} : r_{1051}, a_{34} : r_{1052}, a_{35} : r_{1053}, a_{45} : r_{1054}\\right\\}\\right]</script></html>"
      ],
      "text/latex": [
       "$$\\newcommand{\\Bold}[1]{\\mathbf{#1}}\\left[\\left\\{d_{1} : r_{1021}, d_{2} : r_{1022}, d_{3} : 0, d_{4} : \\frac{r_{1021}}{x_{14}}, d_{5} : 0, a_{12} : r_{1023}, a_{13} : r_{1024}, a_{14} : r_{1025}, a_{15} : r_{1026}, a_{23} : r_{1027}, a_{24} : r_{1028}, a_{25} : r_{1029}, a_{34} : r_{1030}, a_{35} : r_{1031}, a_{45} : r_{1032}\\right\\}, \\left\\{d_{1} : r_{1033}, d_{2} : r_{1034}, d_{3} : r_{1035}, d_{4} : \\frac{r_{1033}}{x_{14}}, d_{5} : \\frac{r_{1035}}{x_{35}}, a_{12} : r_{1036}, a_{13} : r_{1037}, a_{14} : r_{1038}, a_{15} : r_{1039}, a_{23} : \\frac{r_{1035} x_{25} - r_{1034} x_{35}}{x_{35}}, a_{24} : r_{1040}, a_{25} : r_{1041}, a_{34} : r_{1042}, a_{35} : r_{1043}, a_{45} : -\\frac{r_{1035} x_{15} - {\\left(r_{1036} + r_{1037}\\right)} x_{35}}{x_{14} x_{35}}\\right\\}, \\left\\{d_{1} : r_{1044}, d_{2} : 0, d_{3} : r_{1045}, d_{4} : \\frac{r_{1044}}{x_{14}}, d_{5} : \\frac{r_{1045}}{x_{35}}, a_{12} : r_{1046}, a_{13} : r_{1047}, a_{14} : r_{1048}, a_{15} : r_{1049}, a_{23} : \\frac{r_{1045} x_{25}}{x_{35}}, a_{24} : r_{1050}, a_{25} : r_{1051}, a_{34} : r_{1052}, a_{35} : r_{1053}, a_{45} : r_{1054}\\right\\}\\right]$$"
      ],
      "text/plain": [
       "[{d1: r1021,\n",
       "  d2: r1022,\n",
       "  d3: 0,\n",
       "  d4: r1021/x14,\n",
       "  d5: 0,\n",
       "  a12: r1023,\n",
       "  a13: r1024,\n",
       "  a14: r1025,\n",
       "  a15: r1026,\n",
       "  a23: r1027,\n",
       "  a24: r1028,\n",
       "  a25: r1029,\n",
       "  a34: r1030,\n",
       "  a35: r1031,\n",
       "  a45: r1032},\n",
       " {d1: r1033,\n",
       "  d2: r1034,\n",
       "  d3: r1035,\n",
       "  d4: r1033/x14,\n",
       "  d5: r1035/x35,\n",
       "  a12: r1036,\n",
       "  a13: r1037,\n",
       "  a14: r1038,\n",
       "  a15: r1039,\n",
       "  a23: (r1035*x25 - r1034*x35)/x35,\n",
       "  a24: r1040,\n",
       "  a25: r1041,\n",
       "  a34: r1042,\n",
       "  a35: r1043,\n",
       "  a45: -(r1035*x15 - (r1036 + r1037)*x35)/(x14*x35)},\n",
       " {d1: r1044,\n",
       "  d2: 0,\n",
       "  d3: r1045,\n",
       "  d4: r1044/x14,\n",
       "  d5: r1045/x35,\n",
       "  a12: r1046,\n",
       "  a13: r1047,\n",
       "  a14: r1048,\n",
       "  a15: r1049,\n",
       "  a23: r1045*x25/x35,\n",
       "  a24: r1050,\n",
       "  a25: r1051,\n",
       "  a34: r1052,\n",
       "  a35: r1053,\n",
       "  a45: r1054}]"
      ]
     },
     "metadata": {},
     "output_type": "display_data"
    },
    {
     "data": {
      "text/plain": [
       "\\left[\\left\\{d_{1} : r_{1021}, d_{2} : r_{1022}, d_{3} : 0, d_{4} : \\frac{r_{1021}}{x_{14}}, d_{5} : 0, a_{12} : r_{1023}, a_{13} : r_{1024}, a_{14} : r_{1025}, a_{15} : r_{1026}, a_{23} : r_{1027}, a_{24} : r_{1028}, a_{25} : r_{1029}, a_{34} : r_{1030}, a_{35} : r_{1031}, a_{45} : r_{1032}\\right\\}, \\left\\{d_{1} : r_{1033}, d_{2} : r_{1034}, d_{3} : r_{1035}, d_{4} : \\frac{r_{1033}}{x_{14}}, d_{5} : \\frac{r_{1035}}{x_{35}}, a_{12} : r_{1036}, a_{13} : r_{1037}, a_{14} : r_{1038}, a_{15} : r_{1039}, a_{23} : \\frac{r_{1035} x_{25} - r_{1034} x_{35}}{x_{35}}, a_{24} : r_{1040}, a_{25} : r_{1041}, a_{34} : r_{1042}, a_{35} : r_{1043}, a_{45} : -\\frac{r_{1035} x_{15} - {\\left(r_{1036} + r_{1037}\\right)} x_{35}}{x_{14} x_{35}}\\right\\}, \\left\\{d_{1} : r_{1044}, d_{2} : 0, d_{3} : r_{1045}, d_{4} : \\frac{r_{1044}}{x_{14}}, d_{5} : \\frac{r_{1045}}{x_{35}}, a_{12} : r_{1046}, a_{13} : r_{1047}, a_{14} : r_{1048}, a_{15} : r_{1049}, a_{23} : \\frac{r_{1045} x_{25}}{x_{35}}, a_{24} : r_{1050}, a_{25} : r_{1051}, a_{34} : r_{1052}, a_{35} : r_{1053}, a_{45} : r_{1054}\\right\\}\\right]"
      ]
     },
     "execution_count": 44,
     "metadata": {},
     "output_type": "execute_result"
    }
   ],
   "source": [
    "#x1\n",
    "reset()\n",
    "\n",
    "var('x12,x13,x14,x15,x23,x24,x25,x34,x35,x45')\n",
    "var('d1,d2,d3,d4,d5')\n",
    "var('a12,a13,a14,a15,a23,a24,a25,a34,a35,a45')\n",
    "\n",
    "load_attach_path('C:\\\\Users\\\\julia\\\\Documents\\\\unb\\\\doutorado\\\\pensar\\\\codigo_sage_v2\\\\maquina\\\\x1')\n",
    "load('out_#101011.sage')\n",
    "\n",
    "m=matrix(QQ, [[0, 0, 0, 1, 0],\n",
    "              [0, 0, 0, 0, 1],\n",
    "              [0, 0, 0, 0, 1],\n",
    "              [0, 0, 0, 0, 0],\n",
    "              [0, 0, 0, 0, 0]])\n",
    "        \n",
    "#entry of matrix: (i,j) line i collum j, means (i-1,j-1)\n",
    "sol=solve([ \teq1==m[0,2],\teq2==m[0,3],\teq3==m[0,4],\t\n",
    "                                            eq4==m[1,3],    eq5==m[1,4],\n",
    "                                                            eq6==m[2,4]],d1,d2,d3,d4,d5,a12,a13,a14,a15,a23,a24,a25,a34,a35,a45, solution_dict=True)\n",
    "\n",
    "show(m)\n",
    "show(sol)\n",
    "latex(sol)"
   ]
  },
  {
   "cell_type": "code",
   "execution_count": 45,
   "metadata": {},
   "outputs": [
    {
     "data": {
      "text/html": [
       "<html><script type=\"math/tex; mode=display\">\\newcommand{\\Bold}[1]{\\mathbf{#1}}\\left(\\begin{array}{rrrrr}\n",
       "0 & 0 & 1 & 0 & 0 \\\\\n",
       "0 & 0 & 0 & 0 & 0 \\\\\n",
       "0 & 0 & 0 & 0 & 1 \\\\\n",
       "0 & 0 & 0 & 0 & 0 \\\\\n",
       "0 & 0 & 0 & 0 & 0\n",
       "\\end{array}\\right)</script></html>"
      ],
      "text/latex": [
       "$$\\newcommand{\\Bold}[1]{\\mathbf{#1}}\\left(\\begin{array}{rrrrr}\n",
       "0 & 0 & 1 & 0 & 0 \\\\\n",
       "0 & 0 & 0 & 0 & 0 \\\\\n",
       "0 & 0 & 0 & 0 & 1 \\\\\n",
       "0 & 0 & 0 & 0 & 0 \\\\\n",
       "0 & 0 & 0 & 0 & 0\n",
       "\\end{array}\\right)$$"
      ],
      "text/plain": [
       "[0 0 1 0 0]\n",
       "[0 0 0 0 0]\n",
       "[0 0 0 0 1]\n",
       "[0 0 0 0 0]\n",
       "[0 0 0 0 0]"
      ]
     },
     "metadata": {},
     "output_type": "display_data"
    },
    {
     "data": {
      "text/html": [
       "<html><script type=\"math/tex; mode=display\">\\newcommand{\\Bold}[1]{\\mathbf{#1}}\\left[\\left\\{d_{1} : 0, d_{2} : r_{1055}, d_{3} : 0, d_{4} : r_{1056}, d_{5} : 0, a_{12} : r_{1057}, a_{13} : r_{1058}, a_{14} : r_{1059}, a_{15} : r_{1060}, a_{23} : r_{1061}, a_{24} : r_{1062}, a_{25} : r_{1063}, a_{34} : 0, a_{35} : r_{1064}, a_{45} : r_{1065}\\right\\}, \\left\\{d_{1} : r_{1066}, d_{2} : 0, d_{3} : \\frac{r_{1066}}{x_{13}}, d_{4} : r_{1067}, d_{5} : \\frac{r_{1066}}{x_{13} x_{35}}, a_{12} : r_{1068}, a_{13} : r_{1069}, a_{14} : r_{1070}, a_{15} : r_{1071}, a_{23} : \\frac{r_{1066} x_{25}}{x_{13} x_{35}}, a_{24} : r_{1072}, a_{25} : r_{1073}, a_{34} : 0, a_{35} : r_{1074}, a_{45} : r_{1075}\\right\\}, \\left\\{d_{1} : r_{1076}, d_{2} : r_{1077}, d_{3} : \\frac{r_{1076}}{x_{13}}, d_{4} : r_{1078}, d_{5} : \\frac{r_{1076}}{x_{13} x_{35}}, a_{12} : r_{1079}, a_{13} : r_{1080}, a_{14} : r_{1081}, a_{15} : r_{1082}, a_{23} : \\frac{r_{1076} x_{25}}{x_{13} x_{35}}, a_{24} : r_{1083}, a_{25} : r_{1084}, a_{34} : 0, a_{35} : \\frac{r_{1080}}{x_{13}}, a_{45} : r_{1085}\\right\\}\\right]</script></html>"
      ],
      "text/latex": [
       "$$\\newcommand{\\Bold}[1]{\\mathbf{#1}}\\left[\\left\\{d_{1} : 0, d_{2} : r_{1055}, d_{3} : 0, d_{4} : r_{1056}, d_{5} : 0, a_{12} : r_{1057}, a_{13} : r_{1058}, a_{14} : r_{1059}, a_{15} : r_{1060}, a_{23} : r_{1061}, a_{24} : r_{1062}, a_{25} : r_{1063}, a_{34} : 0, a_{35} : r_{1064}, a_{45} : r_{1065}\\right\\}, \\left\\{d_{1} : r_{1066}, d_{2} : 0, d_{3} : \\frac{r_{1066}}{x_{13}}, d_{4} : r_{1067}, d_{5} : \\frac{r_{1066}}{x_{13} x_{35}}, a_{12} : r_{1068}, a_{13} : r_{1069}, a_{14} : r_{1070}, a_{15} : r_{1071}, a_{23} : \\frac{r_{1066} x_{25}}{x_{13} x_{35}}, a_{24} : r_{1072}, a_{25} : r_{1073}, a_{34} : 0, a_{35} : r_{1074}, a_{45} : r_{1075}\\right\\}, \\left\\{d_{1} : r_{1076}, d_{2} : r_{1077}, d_{3} : \\frac{r_{1076}}{x_{13}}, d_{4} : r_{1078}, d_{5} : \\frac{r_{1076}}{x_{13} x_{35}}, a_{12} : r_{1079}, a_{13} : r_{1080}, a_{14} : r_{1081}, a_{15} : r_{1082}, a_{23} : \\frac{r_{1076} x_{25}}{x_{13} x_{35}}, a_{24} : r_{1083}, a_{25} : r_{1084}, a_{34} : 0, a_{35} : \\frac{r_{1080}}{x_{13}}, a_{45} : r_{1085}\\right\\}\\right]$$"
      ],
      "text/plain": [
       "[{d1: 0,\n",
       "  d2: r1055,\n",
       "  d3: 0,\n",
       "  d4: r1056,\n",
       "  d5: 0,\n",
       "  a12: r1057,\n",
       "  a13: r1058,\n",
       "  a14: r1059,\n",
       "  a15: r1060,\n",
       "  a23: r1061,\n",
       "  a24: r1062,\n",
       "  a25: r1063,\n",
       "  a34: 0,\n",
       "  a35: r1064,\n",
       "  a45: r1065},\n",
       " {d1: r1066,\n",
       "  d2: 0,\n",
       "  d3: r1066/x13,\n",
       "  d4: r1067,\n",
       "  d5: r1066/(x13*x35),\n",
       "  a12: r1068,\n",
       "  a13: r1069,\n",
       "  a14: r1070,\n",
       "  a15: r1071,\n",
       "  a23: r1066*x25/(x13*x35),\n",
       "  a24: r1072,\n",
       "  a25: r1073,\n",
       "  a34: 0,\n",
       "  a35: r1074,\n",
       "  a45: r1075},\n",
       " {d1: r1076,\n",
       "  d2: r1077,\n",
       "  d3: r1076/x13,\n",
       "  d4: r1078,\n",
       "  d5: r1076/(x13*x35),\n",
       "  a12: r1079,\n",
       "  a13: r1080,\n",
       "  a14: r1081,\n",
       "  a15: r1082,\n",
       "  a23: r1076*x25/(x13*x35),\n",
       "  a24: r1083,\n",
       "  a25: r1084,\n",
       "  a34: 0,\n",
       "  a35: r1080/x13,\n",
       "  a45: r1085}]"
      ]
     },
     "metadata": {},
     "output_type": "display_data"
    },
    {
     "data": {
      "text/plain": [
       "\\left[\\left\\{d_{1} : 0, d_{2} : r_{1055}, d_{3} : 0, d_{4} : r_{1056}, d_{5} : 0, a_{12} : r_{1057}, a_{13} : r_{1058}, a_{14} : r_{1059}, a_{15} : r_{1060}, a_{23} : r_{1061}, a_{24} : r_{1062}, a_{25} : r_{1063}, a_{34} : 0, a_{35} : r_{1064}, a_{45} : r_{1065}\\right\\}, \\left\\{d_{1} : r_{1066}, d_{2} : 0, d_{3} : \\frac{r_{1066}}{x_{13}}, d_{4} : r_{1067}, d_{5} : \\frac{r_{1066}}{x_{13} x_{35}}, a_{12} : r_{1068}, a_{13} : r_{1069}, a_{14} : r_{1070}, a_{15} : r_{1071}, a_{23} : \\frac{r_{1066} x_{25}}{x_{13} x_{35}}, a_{24} : r_{1072}, a_{25} : r_{1073}, a_{34} : 0, a_{35} : r_{1074}, a_{45} : r_{1075}\\right\\}, \\left\\{d_{1} : r_{1076}, d_{2} : r_{1077}, d_{3} : \\frac{r_{1076}}{x_{13}}, d_{4} : r_{1078}, d_{5} : \\frac{r_{1076}}{x_{13} x_{35}}, a_{12} : r_{1079}, a_{13} : r_{1080}, a_{14} : r_{1081}, a_{15} : r_{1082}, a_{23} : \\frac{r_{1076} x_{25}}{x_{13} x_{35}}, a_{24} : r_{1083}, a_{25} : r_{1084}, a_{34} : 0, a_{35} : \\frac{r_{1080}}{x_{13}}, a_{45} : r_{1085}\\right\\}\\right]"
      ]
     },
     "execution_count": 45,
     "metadata": {},
     "output_type": "execute_result"
    }
   ],
   "source": [
    "#x1\n",
    "\n",
    "reset()\n",
    "\n",
    "var('x12,x13,x14,x15,x23,x24,x25,x34,x35,x45')\n",
    "var('d1,d2,d3,d4,d5')\n",
    "var('a12,a13,a14,a15,a23,a24,a25,a34,a35,a45')\n",
    "\n",
    "load_attach_path('C:\\\\Users\\\\julia\\\\Documents\\\\unb\\\\doutorado\\\\pensar\\\\codigo_sage_v2\\\\maquina\\\\x1')\n",
    "load('out_#101100.sage')\n",
    "\n",
    "m=matrix(QQ, [[0, 0, 1, 0, 0],\n",
    "              [0, 0, 0, 0, 0],\n",
    "              [0, 0, 0, 0, 1],\n",
    "              [0, 0, 0, 0, 0],\n",
    "              [0, 0, 0, 0, 0]])\n",
    "        \n",
    "#entry of matrix: (i,j) line i collum j, means (i-1,j-1)\n",
    "sol=solve([ \teq1==m[0,2],\teq2==m[0,3],\teq3==m[0,4],\t\n",
    "                                            eq4==m[1,3],    eq5==m[1,4],\n",
    "                                                            eq6==m[2,4]],d1,d2,d3,d4,d5,a12,a13,a14,a15,a23,a24,a25,a34,a35,a45, solution_dict=True)\n",
    "\n",
    "show(m)\n",
    "show(sol)\n",
    "latex(sol)"
   ]
  },
  {
   "cell_type": "code",
   "execution_count": 46,
   "metadata": {},
   "outputs": [
    {
     "data": {
      "text/html": [
       "<html><script type=\"math/tex; mode=display\">\\newcommand{\\Bold}[1]{\\mathbf{#1}}\\left(\\begin{array}{rrrrr}\n",
       "0 & 0 & 1 & 0 & 0 \\\\\n",
       "0 & 0 & 0 & 0 & 0 \\\\\n",
       "0 & 0 & 0 & 0 & 1 \\\\\n",
       "0 & 0 & 0 & 0 & 0 \\\\\n",
       "0 & 0 & 0 & 0 & 0\n",
       "\\end{array}\\right)</script></html>"
      ],
      "text/latex": [
       "$$\\newcommand{\\Bold}[1]{\\mathbf{#1}}\\left(\\begin{array}{rrrrr}\n",
       "0 & 0 & 1 & 0 & 0 \\\\\n",
       "0 & 0 & 0 & 0 & 0 \\\\\n",
       "0 & 0 & 0 & 0 & 1 \\\\\n",
       "0 & 0 & 0 & 0 & 0 \\\\\n",
       "0 & 0 & 0 & 0 & 0\n",
       "\\end{array}\\right)$$"
      ],
      "text/plain": [
       "[0 0 1 0 0]\n",
       "[0 0 0 0 0]\n",
       "[0 0 0 0 1]\n",
       "[0 0 0 0 0]\n",
       "[0 0 0 0 0]"
      ]
     },
     "metadata": {},
     "output_type": "display_data"
    },
    {
     "data": {
      "text/html": [
       "<html><script type=\"math/tex; mode=display\">\\newcommand{\\Bold}[1]{\\mathbf{#1}}\\left[\\left\\{d_{1} : 0, d_{2} : r_{1086}, d_{3} : 0, d_{4} : r_{1087}, d_{5} : 0, a_{12} : r_{1088}, a_{13} : r_{1089}, a_{14} : r_{1090}, a_{15} : r_{1091}, a_{23} : r_{1092}, a_{24} : r_{1093}, a_{25} : r_{1094}, a_{34} : 0, a_{35} : r_{1095}, a_{45} : r_{1096}\\right\\}, \\left\\{d_{1} : r_{1097}, d_{2} : 0, d_{3} : \\frac{r_{1097}}{x_{13}}, d_{4} : r_{1098}, d_{5} : \\frac{r_{1097}}{x_{13} x_{35}}, a_{12} : r_{1099}, a_{13} : r_{1100}, a_{14} : r_{1101}, a_{15} : r_{1102}, a_{23} : \\frac{r_{1097} x_{25}}{x_{13} x_{35}}, a_{24} : r_{1103}, a_{25} : r_{1104}, a_{34} : 0, a_{35} : r_{1105}, a_{45} : r_{1106}\\right\\}, \\left\\{d_{1} : r_{1107}, d_{2} : r_{1108}, d_{3} : \\frac{r_{1107}}{x_{13}}, d_{4} : r_{1109}, d_{5} : \\frac{r_{1107}}{x_{13} x_{35}}, a_{12} : r_{1110}, a_{13} : r_{1111}, a_{14} : r_{1112}, a_{15} : r_{1113}, a_{23} : \\frac{r_{1107} x_{25}}{x_{13} x_{35}}, a_{24} : r_{1114}, a_{25} : r_{1115}, a_{34} : 0, a_{35} : \\frac{r_{1111} x_{13} x_{35} - r_{1107} x_{15}}{x_{13}^{2} x_{35}}, a_{45} : r_{1116}\\right\\}\\right]</script></html>"
      ],
      "text/latex": [
       "$$\\newcommand{\\Bold}[1]{\\mathbf{#1}}\\left[\\left\\{d_{1} : 0, d_{2} : r_{1086}, d_{3} : 0, d_{4} : r_{1087}, d_{5} : 0, a_{12} : r_{1088}, a_{13} : r_{1089}, a_{14} : r_{1090}, a_{15} : r_{1091}, a_{23} : r_{1092}, a_{24} : r_{1093}, a_{25} : r_{1094}, a_{34} : 0, a_{35} : r_{1095}, a_{45} : r_{1096}\\right\\}, \\left\\{d_{1} : r_{1097}, d_{2} : 0, d_{3} : \\frac{r_{1097}}{x_{13}}, d_{4} : r_{1098}, d_{5} : \\frac{r_{1097}}{x_{13} x_{35}}, a_{12} : r_{1099}, a_{13} : r_{1100}, a_{14} : r_{1101}, a_{15} : r_{1102}, a_{23} : \\frac{r_{1097} x_{25}}{x_{13} x_{35}}, a_{24} : r_{1103}, a_{25} : r_{1104}, a_{34} : 0, a_{35} : r_{1105}, a_{45} : r_{1106}\\right\\}, \\left\\{d_{1} : r_{1107}, d_{2} : r_{1108}, d_{3} : \\frac{r_{1107}}{x_{13}}, d_{4} : r_{1109}, d_{5} : \\frac{r_{1107}}{x_{13} x_{35}}, a_{12} : r_{1110}, a_{13} : r_{1111}, a_{14} : r_{1112}, a_{15} : r_{1113}, a_{23} : \\frac{r_{1107} x_{25}}{x_{13} x_{35}}, a_{24} : r_{1114}, a_{25} : r_{1115}, a_{34} : 0, a_{35} : \\frac{r_{1111} x_{13} x_{35} - r_{1107} x_{15}}{x_{13}^{2} x_{35}}, a_{45} : r_{1116}\\right\\}\\right]$$"
      ],
      "text/plain": [
       "[{d1: 0,\n",
       "  d2: r1086,\n",
       "  d3: 0,\n",
       "  d4: r1087,\n",
       "  d5: 0,\n",
       "  a12: r1088,\n",
       "  a13: r1089,\n",
       "  a14: r1090,\n",
       "  a15: r1091,\n",
       "  a23: r1092,\n",
       "  a24: r1093,\n",
       "  a25: r1094,\n",
       "  a34: 0,\n",
       "  a35: r1095,\n",
       "  a45: r1096},\n",
       " {d1: r1097,\n",
       "  d2: 0,\n",
       "  d3: r1097/x13,\n",
       "  d4: r1098,\n",
       "  d5: r1097/(x13*x35),\n",
       "  a12: r1099,\n",
       "  a13: r1100,\n",
       "  a14: r1101,\n",
       "  a15: r1102,\n",
       "  a23: r1097*x25/(x13*x35),\n",
       "  a24: r1103,\n",
       "  a25: r1104,\n",
       "  a34: 0,\n",
       "  a35: r1105,\n",
       "  a45: r1106},\n",
       " {d1: r1107,\n",
       "  d2: r1108,\n",
       "  d3: r1107/x13,\n",
       "  d4: r1109,\n",
       "  d5: r1107/(x13*x35),\n",
       "  a12: r1110,\n",
       "  a13: r1111,\n",
       "  a14: r1112,\n",
       "  a15: r1113,\n",
       "  a23: r1107*x25/(x13*x35),\n",
       "  a24: r1114,\n",
       "  a25: r1115,\n",
       "  a34: 0,\n",
       "  a35: (r1111*x13*x35 - r1107*x15)/(x13^2*x35),\n",
       "  a45: r1116}]"
      ]
     },
     "metadata": {},
     "output_type": "display_data"
    },
    {
     "data": {
      "text/plain": [
       "\\left[\\left\\{d_{1} : 0, d_{2} : r_{1086}, d_{3} : 0, d_{4} : r_{1087}, d_{5} : 0, a_{12} : r_{1088}, a_{13} : r_{1089}, a_{14} : r_{1090}, a_{15} : r_{1091}, a_{23} : r_{1092}, a_{24} : r_{1093}, a_{25} : r_{1094}, a_{34} : 0, a_{35} : r_{1095}, a_{45} : r_{1096}\\right\\}, \\left\\{d_{1} : r_{1097}, d_{2} : 0, d_{3} : \\frac{r_{1097}}{x_{13}}, d_{4} : r_{1098}, d_{5} : \\frac{r_{1097}}{x_{13} x_{35}}, a_{12} : r_{1099}, a_{13} : r_{1100}, a_{14} : r_{1101}, a_{15} : r_{1102}, a_{23} : \\frac{r_{1097} x_{25}}{x_{13} x_{35}}, a_{24} : r_{1103}, a_{25} : r_{1104}, a_{34} : 0, a_{35} : r_{1105}, a_{45} : r_{1106}\\right\\}, \\left\\{d_{1} : r_{1107}, d_{2} : r_{1108}, d_{3} : \\frac{r_{1107}}{x_{13}}, d_{4} : r_{1109}, d_{5} : \\frac{r_{1107}}{x_{13} x_{35}}, a_{12} : r_{1110}, a_{13} : r_{1111}, a_{14} : r_{1112}, a_{15} : r_{1113}, a_{23} : \\frac{r_{1107} x_{25}}{x_{13} x_{35}}, a_{24} : r_{1114}, a_{25} : r_{1115}, a_{34} : 0, a_{35} : \\frac{r_{1111} x_{13} x_{35} - r_{1107} x_{15}}{x_{13}^{2} x_{35}}, a_{45} : r_{1116}\\right\\}\\right]"
      ]
     },
     "execution_count": 46,
     "metadata": {},
     "output_type": "execute_result"
    }
   ],
   "source": [
    "#x1\n",
    "reset()\n",
    "\n",
    "var('x12,x13,x14,x15,x23,x24,x25,x34,x35,x45')\n",
    "var('d1,d2,d3,d4,d5')\n",
    "var('a12,a13,a14,a15,a23,a24,a25,a34,a35,a45')\n",
    "\n",
    "load_attach_path('C:\\\\Users\\\\julia\\\\Documents\\\\unb\\\\doutorado\\\\pensar\\\\codigo_sage_v2\\\\maquina\\\\x1')\n",
    "load('out_#101101.sage')\n",
    "\n",
    "m=matrix(QQ, [[0, 0, 1, 0, 0],\n",
    "              [0, 0, 0, 0, 0],\n",
    "              [0, 0, 0, 0, 1],\n",
    "              [0, 0, 0, 0, 0],\n",
    "              [0, 0, 0, 0, 0]])\n",
    "        \n",
    "#entry of matrix: (i,j) line i collum j, means (i-1,j-1)\n",
    "sol=solve([ \teq1==m[0,2],\teq2==m[0,3],\teq3==m[0,4],\t\n",
    "                                            eq4==m[1,3],    eq5==m[1,4],\n",
    "                                                            eq6==m[2,4]],d1,d2,d3,d4,d5,a12,a13,a14,a15,a23,a24,a25,a34,a35,a45, solution_dict=True)\n",
    "\n",
    "show(m)\n",
    "show(sol)\n",
    "latex(sol)"
   ]
  },
  {
   "cell_type": "code",
   "execution_count": 47,
   "metadata": {},
   "outputs": [
    {
     "data": {
      "text/html": [
       "<html><script type=\"math/tex; mode=display\">\\newcommand{\\Bold}[1]{\\mathbf{#1}}\\left(\\begin{array}{rrrrr}\n",
       "0 & 0 & 1 & 1 & 0 \\\\\n",
       "0 & 0 & 0 & 0 & 1 \\\\\n",
       "0 & 0 & 0 & 0 & 1 \\\\\n",
       "0 & 0 & 0 & 0 & 0 \\\\\n",
       "0 & 0 & 0 & 0 & 0\n",
       "\\end{array}\\right)</script></html>"
      ],
      "text/latex": [
       "$$\\newcommand{\\Bold}[1]{\\mathbf{#1}}\\left(\\begin{array}{rrrrr}\n",
       "0 & 0 & 1 & 1 & 0 \\\\\n",
       "0 & 0 & 0 & 0 & 1 \\\\\n",
       "0 & 0 & 0 & 0 & 1 \\\\\n",
       "0 & 0 & 0 & 0 & 0 \\\\\n",
       "0 & 0 & 0 & 0 & 0\n",
       "\\end{array}\\right)$$"
      ],
      "text/plain": [
       "[0 0 1 1 0]\n",
       "[0 0 0 0 1]\n",
       "[0 0 0 0 1]\n",
       "[0 0 0 0 0]\n",
       "[0 0 0 0 0]"
      ]
     },
     "metadata": {},
     "output_type": "display_data"
    },
    {
     "data": {
      "text/html": [
       "<html><script type=\"math/tex; mode=display\">\\newcommand{\\Bold}[1]{\\mathbf{#1}}\\left[\\left\\{d_{1} : 0, d_{2} : r_{1117}, d_{3} : 0, d_{4} : r_{1118}, d_{5} : 0, a_{12} : r_{1119}, a_{13} : r_{1120}, a_{14} : r_{1121}, a_{15} : r_{1122}, a_{23} : r_{1123}, a_{24} : r_{1124}, a_{25} : r_{1125}, a_{34} : -\\frac{r_{1118} x_{14}}{x_{13}}, a_{35} : r_{1126}, a_{45} : r_{1127}\\right\\}, \\left\\{d_{1} : r_{1128}, d_{2} : 0, d_{3} : \\frac{r_{1128}}{x_{13}}, d_{4} : r_{1129}, d_{5} : \\frac{r_{1128}}{x_{13} x_{35}}, a_{12} : r_{1130}, a_{13} : r_{1131}, a_{14} : r_{1132}, a_{15} : r_{1133}, a_{23} : \\frac{r_{1128} x_{25}}{x_{13} x_{35}}, a_{24} : r_{1134}, a_{25} : r_{1135}, a_{34} : -\\frac{r_{1129} x_{14} - r_{1128}}{x_{13}}, a_{35} : r_{1136}, a_{45} : r_{1137}\\right\\}, \\left\\{d_{1} : r_{1138}, d_{2} : r_{1139}, d_{3} : \\frac{r_{1138}}{x_{13}}, d_{4} : r_{1140}, d_{5} : \\frac{r_{1138}}{x_{13} x_{35}}, a_{12} : r_{1141}, a_{13} : r_{1142}, a_{14} : r_{1143}, a_{15} : r_{1144}, a_{23} : -\\frac{r_{1139} x_{13} x_{35} - r_{1138} x_{25}}{x_{13} x_{35}}, a_{24} : r_{1145}, a_{25} : r_{1146}, a_{34} : -\\frac{r_{1140} x_{14} - r_{1138}}{x_{13}}, a_{35} : r_{1147}, a_{45} : -\\frac{r_{1147} x_{13} - r_{1141} - r_{1142}}{x_{14}}\\right\\}\\right]</script></html>"
      ],
      "text/latex": [
       "$$\\newcommand{\\Bold}[1]{\\mathbf{#1}}\\left[\\left\\{d_{1} : 0, d_{2} : r_{1117}, d_{3} : 0, d_{4} : r_{1118}, d_{5} : 0, a_{12} : r_{1119}, a_{13} : r_{1120}, a_{14} : r_{1121}, a_{15} : r_{1122}, a_{23} : r_{1123}, a_{24} : r_{1124}, a_{25} : r_{1125}, a_{34} : -\\frac{r_{1118} x_{14}}{x_{13}}, a_{35} : r_{1126}, a_{45} : r_{1127}\\right\\}, \\left\\{d_{1} : r_{1128}, d_{2} : 0, d_{3} : \\frac{r_{1128}}{x_{13}}, d_{4} : r_{1129}, d_{5} : \\frac{r_{1128}}{x_{13} x_{35}}, a_{12} : r_{1130}, a_{13} : r_{1131}, a_{14} : r_{1132}, a_{15} : r_{1133}, a_{23} : \\frac{r_{1128} x_{25}}{x_{13} x_{35}}, a_{24} : r_{1134}, a_{25} : r_{1135}, a_{34} : -\\frac{r_{1129} x_{14} - r_{1128}}{x_{13}}, a_{35} : r_{1136}, a_{45} : r_{1137}\\right\\}, \\left\\{d_{1} : r_{1138}, d_{2} : r_{1139}, d_{3} : \\frac{r_{1138}}{x_{13}}, d_{4} : r_{1140}, d_{5} : \\frac{r_{1138}}{x_{13} x_{35}}, a_{12} : r_{1141}, a_{13} : r_{1142}, a_{14} : r_{1143}, a_{15} : r_{1144}, a_{23} : -\\frac{r_{1139} x_{13} x_{35} - r_{1138} x_{25}}{x_{13} x_{35}}, a_{24} : r_{1145}, a_{25} : r_{1146}, a_{34} : -\\frac{r_{1140} x_{14} - r_{1138}}{x_{13}}, a_{35} : r_{1147}, a_{45} : -\\frac{r_{1147} x_{13} - r_{1141} - r_{1142}}{x_{14}}\\right\\}\\right]$$"
      ],
      "text/plain": [
       "[{d1: 0,\n",
       "  d2: r1117,\n",
       "  d3: 0,\n",
       "  d4: r1118,\n",
       "  d5: 0,\n",
       "  a12: r1119,\n",
       "  a13: r1120,\n",
       "  a14: r1121,\n",
       "  a15: r1122,\n",
       "  a23: r1123,\n",
       "  a24: r1124,\n",
       "  a25: r1125,\n",
       "  a34: -r1118*x14/x13,\n",
       "  a35: r1126,\n",
       "  a45: r1127},\n",
       " {d1: r1128,\n",
       "  d2: 0,\n",
       "  d3: r1128/x13,\n",
       "  d4: r1129,\n",
       "  d5: r1128/(x13*x35),\n",
       "  a12: r1130,\n",
       "  a13: r1131,\n",
       "  a14: r1132,\n",
       "  a15: r1133,\n",
       "  a23: r1128*x25/(x13*x35),\n",
       "  a24: r1134,\n",
       "  a25: r1135,\n",
       "  a34: -(r1129*x14 - r1128)/x13,\n",
       "  a35: r1136,\n",
       "  a45: r1137},\n",
       " {d1: r1138,\n",
       "  d2: r1139,\n",
       "  d3: r1138/x13,\n",
       "  d4: r1140,\n",
       "  d5: r1138/(x13*x35),\n",
       "  a12: r1141,\n",
       "  a13: r1142,\n",
       "  a14: r1143,\n",
       "  a15: r1144,\n",
       "  a23: -(r1139*x13*x35 - r1138*x25)/(x13*x35),\n",
       "  a24: r1145,\n",
       "  a25: r1146,\n",
       "  a34: -(r1140*x14 - r1138)/x13,\n",
       "  a35: r1147,\n",
       "  a45: -(r1147*x13 - r1141 - r1142)/x14}]"
      ]
     },
     "metadata": {},
     "output_type": "display_data"
    },
    {
     "data": {
      "text/plain": [
       "\\left[\\left\\{d_{1} : 0, d_{2} : r_{1117}, d_{3} : 0, d_{4} : r_{1118}, d_{5} : 0, a_{12} : r_{1119}, a_{13} : r_{1120}, a_{14} : r_{1121}, a_{15} : r_{1122}, a_{23} : r_{1123}, a_{24} : r_{1124}, a_{25} : r_{1125}, a_{34} : -\\frac{r_{1118} x_{14}}{x_{13}}, a_{35} : r_{1126}, a_{45} : r_{1127}\\right\\}, \\left\\{d_{1} : r_{1128}, d_{2} : 0, d_{3} : \\frac{r_{1128}}{x_{13}}, d_{4} : r_{1129}, d_{5} : \\frac{r_{1128}}{x_{13} x_{35}}, a_{12} : r_{1130}, a_{13} : r_{1131}, a_{14} : r_{1132}, a_{15} : r_{1133}, a_{23} : \\frac{r_{1128} x_{25}}{x_{13} x_{35}}, a_{24} : r_{1134}, a_{25} : r_{1135}, a_{34} : -\\frac{r_{1129} x_{14} - r_{1128}}{x_{13}}, a_{35} : r_{1136}, a_{45} : r_{1137}\\right\\}, \\left\\{d_{1} : r_{1138}, d_{2} : r_{1139}, d_{3} : \\frac{r_{1138}}{x_{13}}, d_{4} : r_{1140}, d_{5} : \\frac{r_{1138}}{x_{13} x_{35}}, a_{12} : r_{1141}, a_{13} : r_{1142}, a_{14} : r_{1143}, a_{15} : r_{1144}, a_{23} : -\\frac{r_{1139} x_{13} x_{35} - r_{1138} x_{25}}{x_{13} x_{35}}, a_{24} : r_{1145}, a_{25} : r_{1146}, a_{34} : -\\frac{r_{1140} x_{14} - r_{1138}}{x_{13}}, a_{35} : r_{1147}, a_{45} : -\\frac{r_{1147} x_{13} - r_{1141} - r_{1142}}{x_{14}}\\right\\}\\right]"
      ]
     },
     "execution_count": 47,
     "metadata": {},
     "output_type": "execute_result"
    }
   ],
   "source": [
    "#x1\n",
    "reset()\n",
    "\n",
    "var('x12,x13,x14,x15,x23,x24,x25,x34,x35,x45')\n",
    "var('d1,d2,d3,d4,d5')\n",
    "var('a12,a13,a14,a15,a23,a24,a25,a34,a35,a45')\n",
    "\n",
    "load_attach_path('C:\\\\Users\\\\julia\\\\Documents\\\\unb\\\\doutorado\\\\pensar\\\\codigo_sage_v2\\\\maquina\\\\x1')\n",
    "load('out_#101110.sage')\n",
    "\n",
    "m=matrix(QQ, [[0, 0, 1, 1, 0],\n",
    "              [0, 0, 0, 0, 1],\n",
    "              [0, 0, 0, 0, 1],\n",
    "              [0, 0, 0, 0, 0],\n",
    "              [0, 0, 0, 0, 0]])\n",
    "        \n",
    "#entry of matrix: (i,j) line i collum j, means (i-1,j-1)\n",
    "sol=solve([ \teq1==m[0,2],\teq2==m[0,3],\teq3==m[0,4],\t\n",
    "                                            eq4==m[1,3],    eq5==m[1,4],\n",
    "                                                            eq6==m[2,4]],d1,d2,d3,d4,d5,a12,a13,a14,a15,a23,a24,a25,a34,a35,a45, solution_dict=True)\n",
    "\n",
    "show(m)\n",
    "show(sol)\n",
    "latex(sol)"
   ]
  },
  {
   "cell_type": "code",
   "execution_count": 48,
   "metadata": {},
   "outputs": [
    {
     "data": {
      "text/html": [
       "<html><script type=\"math/tex; mode=display\">\\newcommand{\\Bold}[1]{\\mathbf{#1}}\\left(\\begin{array}{rrrrr}\n",
       "0 & 0 & 1 & 1 & 1 \\\\\n",
       "0 & 0 & 0 & 0 & 1 \\\\\n",
       "0 & 0 & 0 & 0 & 1 \\\\\n",
       "0 & 0 & 0 & 0 & 0 \\\\\n",
       "0 & 0 & 0 & 0 & 0\n",
       "\\end{array}\\right)</script></html>"
      ],
      "text/latex": [
       "$$\\newcommand{\\Bold}[1]{\\mathbf{#1}}\\left(\\begin{array}{rrrrr}\n",
       "0 & 0 & 1 & 1 & 1 \\\\\n",
       "0 & 0 & 0 & 0 & 1 \\\\\n",
       "0 & 0 & 0 & 0 & 1 \\\\\n",
       "0 & 0 & 0 & 0 & 0 \\\\\n",
       "0 & 0 & 0 & 0 & 0\n",
       "\\end{array}\\right)$$"
      ],
      "text/plain": [
       "[0 0 1 1 1]\n",
       "[0 0 0 0 1]\n",
       "[0 0 0 0 1]\n",
       "[0 0 0 0 0]\n",
       "[0 0 0 0 0]"
      ]
     },
     "metadata": {},
     "output_type": "display_data"
    },
    {
     "data": {
      "text/html": [
       "<html><script type=\"math/tex; mode=display\">\\newcommand{\\Bold}[1]{\\mathbf{#1}}\\left[\\left\\{d_{1} : 0, d_{2} : r_{1148}, d_{3} : 0, d_{4} : r_{1149}, d_{5} : 0, a_{12} : r_{1150}, a_{13} : r_{1151}, a_{14} : r_{1152}, a_{15} : r_{1153}, a_{23} : r_{1154}, a_{24} : r_{1155}, a_{25} : r_{1156}, a_{34} : -\\frac{r_{1149} x_{14}}{x_{13}}, a_{35} : r_{1157}, a_{45} : r_{1158}\\right\\}, \\left\\{d_{1} : r_{1159}, d_{2} : 0, d_{3} : \\frac{r_{1159}}{x_{13}}, d_{4} : r_{1160}, d_{5} : \\frac{r_{1159}}{x_{13} x_{35}}, a_{12} : r_{1161}, a_{13} : r_{1162}, a_{14} : r_{1163}, a_{15} : r_{1164}, a_{23} : \\frac{r_{1159} x_{25}}{x_{13} x_{35}}, a_{24} : r_{1165}, a_{25} : r_{1166}, a_{34} : -\\frac{r_{1160} x_{14} - r_{1159}}{x_{13}}, a_{35} : r_{1167}, a_{45} : r_{1168}\\right\\}, \\left\\{d_{1} : r_{1169}, d_{2} : r_{1170}, d_{3} : \\frac{r_{1169}}{x_{13}}, d_{4} : r_{1171}, d_{5} : \\frac{r_{1169}}{x_{13} x_{35}}, a_{12} : r_{1172}, a_{13} : r_{1173}, a_{14} : r_{1174}, a_{15} : r_{1175}, a_{23} : -\\frac{r_{1170} x_{13} x_{35} - r_{1169} x_{25}}{x_{13} x_{35}}, a_{24} : r_{1176}, a_{25} : r_{1177}, a_{34} : -\\frac{r_{1171} x_{14} - r_{1169}}{x_{13}}, a_{35} : r_{1178}, a_{45} : -\\frac{r_{1169} x_{15} + {\\left(r_{1178} x_{13}^{2} - {\\left(r_{1169} + r_{1172} + r_{1173}\\right)} x_{13}\\right)} x_{35}}{x_{13} x_{14} x_{35}}\\right\\}\\right]</script></html>"
      ],
      "text/latex": [
       "$$\\newcommand{\\Bold}[1]{\\mathbf{#1}}\\left[\\left\\{d_{1} : 0, d_{2} : r_{1148}, d_{3} : 0, d_{4} : r_{1149}, d_{5} : 0, a_{12} : r_{1150}, a_{13} : r_{1151}, a_{14} : r_{1152}, a_{15} : r_{1153}, a_{23} : r_{1154}, a_{24} : r_{1155}, a_{25} : r_{1156}, a_{34} : -\\frac{r_{1149} x_{14}}{x_{13}}, a_{35} : r_{1157}, a_{45} : r_{1158}\\right\\}, \\left\\{d_{1} : r_{1159}, d_{2} : 0, d_{3} : \\frac{r_{1159}}{x_{13}}, d_{4} : r_{1160}, d_{5} : \\frac{r_{1159}}{x_{13} x_{35}}, a_{12} : r_{1161}, a_{13} : r_{1162}, a_{14} : r_{1163}, a_{15} : r_{1164}, a_{23} : \\frac{r_{1159} x_{25}}{x_{13} x_{35}}, a_{24} : r_{1165}, a_{25} : r_{1166}, a_{34} : -\\frac{r_{1160} x_{14} - r_{1159}}{x_{13}}, a_{35} : r_{1167}, a_{45} : r_{1168}\\right\\}, \\left\\{d_{1} : r_{1169}, d_{2} : r_{1170}, d_{3} : \\frac{r_{1169}}{x_{13}}, d_{4} : r_{1171}, d_{5} : \\frac{r_{1169}}{x_{13} x_{35}}, a_{12} : r_{1172}, a_{13} : r_{1173}, a_{14} : r_{1174}, a_{15} : r_{1175}, a_{23} : -\\frac{r_{1170} x_{13} x_{35} - r_{1169} x_{25}}{x_{13} x_{35}}, a_{24} : r_{1176}, a_{25} : r_{1177}, a_{34} : -\\frac{r_{1171} x_{14} - r_{1169}}{x_{13}}, a_{35} : r_{1178}, a_{45} : -\\frac{r_{1169} x_{15} + {\\left(r_{1178} x_{13}^{2} - {\\left(r_{1169} + r_{1172} + r_{1173}\\right)} x_{13}\\right)} x_{35}}{x_{13} x_{14} x_{35}}\\right\\}\\right]$$"
      ],
      "text/plain": [
       "[{d1: 0,\n",
       "  d2: r1148,\n",
       "  d3: 0,\n",
       "  d4: r1149,\n",
       "  d5: 0,\n",
       "  a12: r1150,\n",
       "  a13: r1151,\n",
       "  a14: r1152,\n",
       "  a15: r1153,\n",
       "  a23: r1154,\n",
       "  a24: r1155,\n",
       "  a25: r1156,\n",
       "  a34: -r1149*x14/x13,\n",
       "  a35: r1157,\n",
       "  a45: r1158},\n",
       " {d1: r1159,\n",
       "  d2: 0,\n",
       "  d3: r1159/x13,\n",
       "  d4: r1160,\n",
       "  d5: r1159/(x13*x35),\n",
       "  a12: r1161,\n",
       "  a13: r1162,\n",
       "  a14: r1163,\n",
       "  a15: r1164,\n",
       "  a23: r1159*x25/(x13*x35),\n",
       "  a24: r1165,\n",
       "  a25: r1166,\n",
       "  a34: -(r1160*x14 - r1159)/x13,\n",
       "  a35: r1167,\n",
       "  a45: r1168},\n",
       " {d1: r1169,\n",
       "  d2: r1170,\n",
       "  d3: r1169/x13,\n",
       "  d4: r1171,\n",
       "  d5: r1169/(x13*x35),\n",
       "  a12: r1172,\n",
       "  a13: r1173,\n",
       "  a14: r1174,\n",
       "  a15: r1175,\n",
       "  a23: -(r1170*x13*x35 - r1169*x25)/(x13*x35),\n",
       "  a24: r1176,\n",
       "  a25: r1177,\n",
       "  a34: -(r1171*x14 - r1169)/x13,\n",
       "  a35: r1178,\n",
       "  a45: -(r1169*x15 + (r1178*x13^2 - (r1169 + r1172 + r1173)*x13)*x35)/(x13*x14*x35)}]"
      ]
     },
     "metadata": {},
     "output_type": "display_data"
    },
    {
     "data": {
      "text/plain": [
       "\\left[\\left\\{d_{1} : 0, d_{2} : r_{1148}, d_{3} : 0, d_{4} : r_{1149}, d_{5} : 0, a_{12} : r_{1150}, a_{13} : r_{1151}, a_{14} : r_{1152}, a_{15} : r_{1153}, a_{23} : r_{1154}, a_{24} : r_{1155}, a_{25} : r_{1156}, a_{34} : -\\frac{r_{1149} x_{14}}{x_{13}}, a_{35} : r_{1157}, a_{45} : r_{1158}\\right\\}, \\left\\{d_{1} : r_{1159}, d_{2} : 0, d_{3} : \\frac{r_{1159}}{x_{13}}, d_{4} : r_{1160}, d_{5} : \\frac{r_{1159}}{x_{13} x_{35}}, a_{12} : r_{1161}, a_{13} : r_{1162}, a_{14} : r_{1163}, a_{15} : r_{1164}, a_{23} : \\frac{r_{1159} x_{25}}{x_{13} x_{35}}, a_{24} : r_{1165}, a_{25} : r_{1166}, a_{34} : -\\frac{r_{1160} x_{14} - r_{1159}}{x_{13}}, a_{35} : r_{1167}, a_{45} : r_{1168}\\right\\}, \\left\\{d_{1} : r_{1169}, d_{2} : r_{1170}, d_{3} : \\frac{r_{1169}}{x_{13}}, d_{4} : r_{1171}, d_{5} : \\frac{r_{1169}}{x_{13} x_{35}}, a_{12} : r_{1172}, a_{13} : r_{1173}, a_{14} : r_{1174}, a_{15} : r_{1175}, a_{23} : -\\frac{r_{1170} x_{13} x_{35} - r_{1169} x_{25}}{x_{13} x_{35}}, a_{24} : r_{1176}, a_{25} : r_{1177}, a_{34} : -\\frac{r_{1171} x_{14} - r_{1169}}{x_{13}}, a_{35} : r_{1178}, a_{45} : -\\frac{r_{1169} x_{15} + {\\left(r_{1178} x_{13}^{2} - {\\left(r_{1169} + r_{1172} + r_{1173}\\right)} x_{13}\\right)} x_{35}}{x_{13} x_{14} x_{35}}\\right\\}\\right]"
      ]
     },
     "execution_count": 48,
     "metadata": {},
     "output_type": "execute_result"
    }
   ],
   "source": [
    "#x1\n",
    "reset()\n",
    "\n",
    "var('x12,x13,x14,x15,x23,x24,x25,x34,x35,x45')\n",
    "var('d1,d2,d3,d4,d5')\n",
    "var('a12,a13,a14,a15,a23,a24,a25,a34,a35,a45')\n",
    "\n",
    "load_attach_path('C:\\\\Users\\\\julia\\\\Documents\\\\unb\\\\doutorado\\\\pensar\\\\codigo_sage_v2\\\\maquina\\\\x1')\n",
    "load('out_#101111.sage')\n",
    "\n",
    "m=matrix(QQ, [[0, 0, 1, 1, 1],\n",
    "              [0, 0, 0, 0, 1],\n",
    "              [0, 0, 0, 0, 1],\n",
    "              [0, 0, 0, 0, 0],\n",
    "              [0, 0, 0, 0, 0]])\n",
    "        \n",
    "#entry of matrix: (i,j) line i collum j, means (i-1,j-1)\n",
    "sol=solve([ \teq1==m[0,2],\teq2==m[0,3],\teq3==m[0,4],\t\n",
    "                                            eq4==m[1,3],    eq5==m[1,4],\n",
    "                                                            eq6==m[2,4]],d1,d2,d3,d4,d5,a12,a13,a14,a15,a23,a24,a25,a34,a35,a45, solution_dict=True)\n",
    "\n",
    "show(m)\n",
    "show(sol)\n",
    "latex(sol)"
   ]
  },
  {
   "cell_type": "code",
   "execution_count": 49,
   "metadata": {},
   "outputs": [
    {
     "data": {
      "text/html": [
       "<html><script type=\"math/tex; mode=display\">\\newcommand{\\Bold}[1]{\\mathbf{#1}}\\left(\\begin{array}{rrrrr}\n",
       "0 & 0 & 0 & 0 & 0 \\\\\n",
       "0 & 0 & 0 & 1 & 0 \\\\\n",
       "0 & 0 & 0 & 0 & 1 \\\\\n",
       "0 & 0 & 0 & 0 & 0 \\\\\n",
       "0 & 0 & 0 & 0 & 0\n",
       "\\end{array}\\right)</script></html>"
      ],
      "text/latex": [
       "$$\\newcommand{\\Bold}[1]{\\mathbf{#1}}\\left(\\begin{array}{rrrrr}\n",
       "0 & 0 & 0 & 0 & 0 \\\\\n",
       "0 & 0 & 0 & 1 & 0 \\\\\n",
       "0 & 0 & 0 & 0 & 1 \\\\\n",
       "0 & 0 & 0 & 0 & 0 \\\\\n",
       "0 & 0 & 0 & 0 & 0\n",
       "\\end{array}\\right)$$"
      ],
      "text/plain": [
       "[0 0 0 0 0]\n",
       "[0 0 0 1 0]\n",
       "[0 0 0 0 1]\n",
       "[0 0 0 0 0]\n",
       "[0 0 0 0 0]"
      ]
     },
     "metadata": {},
     "output_type": "display_data"
    },
    {
     "data": {
      "text/html": [
       "<html><script type=\"math/tex; mode=display\">\\newcommand{\\Bold}[1]{\\mathbf{#1}}\\left[\\left\\{d_{1} : r_{1179}, d_{2} : r_{1180}, d_{3} : 0, d_{4} : \\frac{r_{1180}}{x_{24}}, d_{5} : 0, a_{12} : 0, a_{13} : r_{1181}, a_{14} : r_{1182}, a_{15} : r_{1183}, a_{23} : r_{1184}, a_{24} : r_{1185}, a_{25} : r_{1186}, a_{34} : r_{1187}, a_{35} : r_{1188}, a_{45} : r_{1189}\\right\\}, \\left\\{d_{1} : r_{1190}, d_{2} : 0, d_{3} : r_{1191}, d_{4} : 0, d_{5} : \\frac{r_{1191}}{x_{35}}, a_{12} : r_{1192}, a_{13} : r_{1193}, a_{14} : r_{1194}, a_{15} : r_{1195}, a_{23} : r_{1196}, a_{24} : r_{1197}, a_{25} : r_{1198}, a_{34} : r_{1199}, a_{35} : r_{1200}, a_{45} : \\frac{r_{1196}}{x_{24}}\\right\\}, \\left\\{d_{1} : r_{1201}, d_{2} : 0, d_{3} : 0, d_{4} : 0, d_{5} : 0, a_{12} : r_{1202}, a_{13} : r_{1203}, a_{14} : r_{1204}, a_{15} : r_{1205}, a_{23} : r_{1206}, a_{24} : r_{1207}, a_{25} : r_{1208}, a_{34} : r_{1209}, a_{35} : r_{1210}, a_{45} : r_{1211}\\right\\}, \\left\\{d_{1} : r_{1212}, d_{2} : r_{1213}, d_{3} : r_{1214}, d_{4} : \\frac{r_{1213}}{x_{24}}, d_{5} : \\frac{r_{1214}}{x_{35}}, a_{12} : 0, a_{13} : 0, a_{14} : r_{1215}, a_{15} : r_{1216}, a_{23} : r_{1217}, a_{24} : r_{1218}, a_{25} : r_{1219}, a_{34} : r_{1220}, a_{35} : r_{1221}, a_{45} : \\frac{r_{1217}}{x_{24}}\\right\\}\\right]</script></html>"
      ],
      "text/latex": [
       "$$\\newcommand{\\Bold}[1]{\\mathbf{#1}}\\left[\\left\\{d_{1} : r_{1179}, d_{2} : r_{1180}, d_{3} : 0, d_{4} : \\frac{r_{1180}}{x_{24}}, d_{5} : 0, a_{12} : 0, a_{13} : r_{1181}, a_{14} : r_{1182}, a_{15} : r_{1183}, a_{23} : r_{1184}, a_{24} : r_{1185}, a_{25} : r_{1186}, a_{34} : r_{1187}, a_{35} : r_{1188}, a_{45} : r_{1189}\\right\\}, \\left\\{d_{1} : r_{1190}, d_{2} : 0, d_{3} : r_{1191}, d_{4} : 0, d_{5} : \\frac{r_{1191}}{x_{35}}, a_{12} : r_{1192}, a_{13} : r_{1193}, a_{14} : r_{1194}, a_{15} : r_{1195}, a_{23} : r_{1196}, a_{24} : r_{1197}, a_{25} : r_{1198}, a_{34} : r_{1199}, a_{35} : r_{1200}, a_{45} : \\frac{r_{1196}}{x_{24}}\\right\\}, \\left\\{d_{1} : r_{1201}, d_{2} : 0, d_{3} : 0, d_{4} : 0, d_{5} : 0, a_{12} : r_{1202}, a_{13} : r_{1203}, a_{14} : r_{1204}, a_{15} : r_{1205}, a_{23} : r_{1206}, a_{24} : r_{1207}, a_{25} : r_{1208}, a_{34} : r_{1209}, a_{35} : r_{1210}, a_{45} : r_{1211}\\right\\}, \\left\\{d_{1} : r_{1212}, d_{2} : r_{1213}, d_{3} : r_{1214}, d_{4} : \\frac{r_{1213}}{x_{24}}, d_{5} : \\frac{r_{1214}}{x_{35}}, a_{12} : 0, a_{13} : 0, a_{14} : r_{1215}, a_{15} : r_{1216}, a_{23} : r_{1217}, a_{24} : r_{1218}, a_{25} : r_{1219}, a_{34} : r_{1220}, a_{35} : r_{1221}, a_{45} : \\frac{r_{1217}}{x_{24}}\\right\\}\\right]$$"
      ],
      "text/plain": [
       "[{d1: r1179,\n",
       "  d2: r1180,\n",
       "  d3: 0,\n",
       "  d4: r1180/x24,\n",
       "  d5: 0,\n",
       "  a12: 0,\n",
       "  a13: r1181,\n",
       "  a14: r1182,\n",
       "  a15: r1183,\n",
       "  a23: r1184,\n",
       "  a24: r1185,\n",
       "  a25: r1186,\n",
       "  a34: r1187,\n",
       "  a35: r1188,\n",
       "  a45: r1189},\n",
       " {d1: r1190,\n",
       "  d2: 0,\n",
       "  d3: r1191,\n",
       "  d4: 0,\n",
       "  d5: r1191/x35,\n",
       "  a12: r1192,\n",
       "  a13: r1193,\n",
       "  a14: r1194,\n",
       "  a15: r1195,\n",
       "  a23: r1196,\n",
       "  a24: r1197,\n",
       "  a25: r1198,\n",
       "  a34: r1199,\n",
       "  a35: r1200,\n",
       "  a45: r1196/x24},\n",
       " {d1: r1201,\n",
       "  d2: 0,\n",
       "  d3: 0,\n",
       "  d4: 0,\n",
       "  d5: 0,\n",
       "  a12: r1202,\n",
       "  a13: r1203,\n",
       "  a14: r1204,\n",
       "  a15: r1205,\n",
       "  a23: r1206,\n",
       "  a24: r1207,\n",
       "  a25: r1208,\n",
       "  a34: r1209,\n",
       "  a35: r1210,\n",
       "  a45: r1211},\n",
       " {d1: r1212,\n",
       "  d2: r1213,\n",
       "  d3: r1214,\n",
       "  d4: r1213/x24,\n",
       "  d5: r1214/x35,\n",
       "  a12: 0,\n",
       "  a13: 0,\n",
       "  a14: r1215,\n",
       "  a15: r1216,\n",
       "  a23: r1217,\n",
       "  a24: r1218,\n",
       "  a25: r1219,\n",
       "  a34: r1220,\n",
       "  a35: r1221,\n",
       "  a45: r1217/x24}]"
      ]
     },
     "metadata": {},
     "output_type": "display_data"
    },
    {
     "data": {
      "text/plain": [
       "\\left[\\left\\{d_{1} : r_{1179}, d_{2} : r_{1180}, d_{3} : 0, d_{4} : \\frac{r_{1180}}{x_{24}}, d_{5} : 0, a_{12} : 0, a_{13} : r_{1181}, a_{14} : r_{1182}, a_{15} : r_{1183}, a_{23} : r_{1184}, a_{24} : r_{1185}, a_{25} : r_{1186}, a_{34} : r_{1187}, a_{35} : r_{1188}, a_{45} : r_{1189}\\right\\}, \\left\\{d_{1} : r_{1190}, d_{2} : 0, d_{3} : r_{1191}, d_{4} : 0, d_{5} : \\frac{r_{1191}}{x_{35}}, a_{12} : r_{1192}, a_{13} : r_{1193}, a_{14} : r_{1194}, a_{15} : r_{1195}, a_{23} : r_{1196}, a_{24} : r_{1197}, a_{25} : r_{1198}, a_{34} : r_{1199}, a_{35} : r_{1200}, a_{45} : \\frac{r_{1196}}{x_{24}}\\right\\}, \\left\\{d_{1} : r_{1201}, d_{2} : 0, d_{3} : 0, d_{4} : 0, d_{5} : 0, a_{12} : r_{1202}, a_{13} : r_{1203}, a_{14} : r_{1204}, a_{15} : r_{1205}, a_{23} : r_{1206}, a_{24} : r_{1207}, a_{25} : r_{1208}, a_{34} : r_{1209}, a_{35} : r_{1210}, a_{45} : r_{1211}\\right\\}, \\left\\{d_{1} : r_{1212}, d_{2} : r_{1213}, d_{3} : r_{1214}, d_{4} : \\frac{r_{1213}}{x_{24}}, d_{5} : \\frac{r_{1214}}{x_{35}}, a_{12} : 0, a_{13} : 0, a_{14} : r_{1215}, a_{15} : r_{1216}, a_{23} : r_{1217}, a_{24} : r_{1218}, a_{25} : r_{1219}, a_{34} : r_{1220}, a_{35} : r_{1221}, a_{45} : \\frac{r_{1217}}{x_{24}}\\right\\}\\right]"
      ]
     },
     "execution_count": 49,
     "metadata": {},
     "output_type": "execute_result"
    }
   ],
   "source": [
    "#x1\n",
    "reset()\n",
    "\n",
    "var('x12,x13,x14,x15,x23,x24,x25,x34,x35,x45')\n",
    "var('d1,d2,d3,d4,d5')\n",
    "var('a12,a13,a14,a15,a23,a24,a25,a34,a35,a45')\n",
    "\n",
    "load_attach_path('C:\\\\Users\\\\julia\\\\Documents\\\\unb\\\\doutorado\\\\pensar\\\\codigo_sage_v2\\\\maquina\\\\x1')\n",
    "load('out_#110000.sage')\n",
    "\n",
    "m=matrix(QQ, [[0, 0, 0, 0, 0],\n",
    "              [0, 0, 0, 1, 0],\n",
    "              [0, 0, 0, 0, 1],\n",
    "              [0, 0, 0, 0, 0],\n",
    "              [0, 0, 0, 0, 0]])\n",
    "        \n",
    "#entry of matrix: (i,j) line i collum j, means (i-1,j-1)\n",
    "sol=solve([ \teq1==m[0,2],\teq2==m[0,3],\teq3==m[0,4],\t\n",
    "                                            eq4==m[1,3],    eq5==m[1,4],\n",
    "                                                            eq6==m[2,4]],d1,d2,d3,d4,d5,a12,a13,a14,a15,a23,a24,a25,a34,a35,a45, solution_dict=True)\n",
    "\n",
    "show(m)\n",
    "show(sol)\n",
    "latex(sol)"
   ]
  },
  {
   "cell_type": "code",
   "execution_count": 50,
   "metadata": {},
   "outputs": [
    {
     "data": {
      "text/html": [
       "<html><script type=\"math/tex; mode=display\">\\newcommand{\\Bold}[1]{\\mathbf{#1}}\\left(\\begin{array}{rrrrr}\n",
       "0 & 0 & 0 & 0 & 1 \\\\\n",
       "0 & 0 & 0 & 1 & 1 \\\\\n",
       "0 & 0 & 0 & 0 & 1 \\\\\n",
       "0 & 0 & 0 & 0 & 0 \\\\\n",
       "0 & 0 & 0 & 0 & 0\n",
       "\\end{array}\\right)</script></html>"
      ],
      "text/latex": [
       "$$\\newcommand{\\Bold}[1]{\\mathbf{#1}}\\left(\\begin{array}{rrrrr}\n",
       "0 & 0 & 0 & 0 & 1 \\\\\n",
       "0 & 0 & 0 & 1 & 1 \\\\\n",
       "0 & 0 & 0 & 0 & 1 \\\\\n",
       "0 & 0 & 0 & 0 & 0 \\\\\n",
       "0 & 0 & 0 & 0 & 0\n",
       "\\end{array}\\right)$$"
      ],
      "text/plain": [
       "[0 0 0 0 1]\n",
       "[0 0 0 1 1]\n",
       "[0 0 0 0 1]\n",
       "[0 0 0 0 0]\n",
       "[0 0 0 0 0]"
      ]
     },
     "metadata": {},
     "output_type": "display_data"
    },
    {
     "data": {
      "text/html": [
       "<html><script type=\"math/tex; mode=display\">\\newcommand{\\Bold}[1]{\\mathbf{#1}}\\left[\\left\\{d_{1} : r_{1222}, d_{2} : r_{1223}, d_{3} : 0, d_{4} : \\frac{r_{1223}}{x_{24}}, d_{5} : 0, a_{12} : 0, a_{13} : r_{1224}, a_{14} : r_{1225}, a_{15} : r_{1226}, a_{23} : r_{1227}, a_{24} : r_{1228}, a_{25} : r_{1229}, a_{34} : r_{1230}, a_{35} : r_{1231}, a_{45} : r_{1232}\\right\\}, \\left\\{d_{1} : r_{1233}, d_{2} : 0, d_{3} : r_{1234}, d_{4} : 0, d_{5} : \\frac{r_{1234}}{x_{35}}, a_{12} : r_{1235}, a_{13} : r_{1236}, a_{14} : r_{1237}, a_{15} : r_{1238}, a_{23} : r_{1239}, a_{24} : r_{1240}, a_{25} : r_{1241}, a_{34} : r_{1242}, a_{35} : r_{1243}, a_{45} : \\frac{r_{1239}}{x_{24}}\\right\\}, \\left\\{d_{1} : r_{1244}, d_{2} : 0, d_{3} : 0, d_{4} : 0, d_{5} : 0, a_{12} : r_{1245}, a_{13} : r_{1246}, a_{14} : r_{1247}, a_{15} : r_{1248}, a_{23} : r_{1249}, a_{24} : r_{1250}, a_{25} : r_{1251}, a_{34} : r_{1252}, a_{35} : r_{1253}, a_{45} : r_{1254}\\right\\}, \\left\\{d_{1} : r_{1255}, d_{2} : r_{1256}, d_{3} : r_{1257}, d_{4} : \\frac{r_{1256}}{x_{24}}, d_{5} : \\frac{r_{1257}}{x_{35}}, a_{12} : 0, a_{13} : \\frac{r_{1257} x_{15} - r_{1255} x_{35}}{x_{35}}, a_{14} : r_{1258}, a_{15} : r_{1259}, a_{23} : r_{1260}, a_{24} : r_{1261}, a_{25} : r_{1262}, a_{34} : r_{1263}, a_{35} : r_{1264}, a_{45} : \\frac{r_{1256} + r_{1260}}{x_{24}}\\right\\}\\right]</script></html>"
      ],
      "text/latex": [
       "$$\\newcommand{\\Bold}[1]{\\mathbf{#1}}\\left[\\left\\{d_{1} : r_{1222}, d_{2} : r_{1223}, d_{3} : 0, d_{4} : \\frac{r_{1223}}{x_{24}}, d_{5} : 0, a_{12} : 0, a_{13} : r_{1224}, a_{14} : r_{1225}, a_{15} : r_{1226}, a_{23} : r_{1227}, a_{24} : r_{1228}, a_{25} : r_{1229}, a_{34} : r_{1230}, a_{35} : r_{1231}, a_{45} : r_{1232}\\right\\}, \\left\\{d_{1} : r_{1233}, d_{2} : 0, d_{3} : r_{1234}, d_{4} : 0, d_{5} : \\frac{r_{1234}}{x_{35}}, a_{12} : r_{1235}, a_{13} : r_{1236}, a_{14} : r_{1237}, a_{15} : r_{1238}, a_{23} : r_{1239}, a_{24} : r_{1240}, a_{25} : r_{1241}, a_{34} : r_{1242}, a_{35} : r_{1243}, a_{45} : \\frac{r_{1239}}{x_{24}}\\right\\}, \\left\\{d_{1} : r_{1244}, d_{2} : 0, d_{3} : 0, d_{4} : 0, d_{5} : 0, a_{12} : r_{1245}, a_{13} : r_{1246}, a_{14} : r_{1247}, a_{15} : r_{1248}, a_{23} : r_{1249}, a_{24} : r_{1250}, a_{25} : r_{1251}, a_{34} : r_{1252}, a_{35} : r_{1253}, a_{45} : r_{1254}\\right\\}, \\left\\{d_{1} : r_{1255}, d_{2} : r_{1256}, d_{3} : r_{1257}, d_{4} : \\frac{r_{1256}}{x_{24}}, d_{5} : \\frac{r_{1257}}{x_{35}}, a_{12} : 0, a_{13} : \\frac{r_{1257} x_{15} - r_{1255} x_{35}}{x_{35}}, a_{14} : r_{1258}, a_{15} : r_{1259}, a_{23} : r_{1260}, a_{24} : r_{1261}, a_{25} : r_{1262}, a_{34} : r_{1263}, a_{35} : r_{1264}, a_{45} : \\frac{r_{1256} + r_{1260}}{x_{24}}\\right\\}\\right]$$"
      ],
      "text/plain": [
       "[{d1: r1222,\n",
       "  d2: r1223,\n",
       "  d3: 0,\n",
       "  d4: r1223/x24,\n",
       "  d5: 0,\n",
       "  a12: 0,\n",
       "  a13: r1224,\n",
       "  a14: r1225,\n",
       "  a15: r1226,\n",
       "  a23: r1227,\n",
       "  a24: r1228,\n",
       "  a25: r1229,\n",
       "  a34: r1230,\n",
       "  a35: r1231,\n",
       "  a45: r1232},\n",
       " {d1: r1233,\n",
       "  d2: 0,\n",
       "  d3: r1234,\n",
       "  d4: 0,\n",
       "  d5: r1234/x35,\n",
       "  a12: r1235,\n",
       "  a13: r1236,\n",
       "  a14: r1237,\n",
       "  a15: r1238,\n",
       "  a23: r1239,\n",
       "  a24: r1240,\n",
       "  a25: r1241,\n",
       "  a34: r1242,\n",
       "  a35: r1243,\n",
       "  a45: r1239/x24},\n",
       " {d1: r1244,\n",
       "  d2: 0,\n",
       "  d3: 0,\n",
       "  d4: 0,\n",
       "  d5: 0,\n",
       "  a12: r1245,\n",
       "  a13: r1246,\n",
       "  a14: r1247,\n",
       "  a15: r1248,\n",
       "  a23: r1249,\n",
       "  a24: r1250,\n",
       "  a25: r1251,\n",
       "  a34: r1252,\n",
       "  a35: r1253,\n",
       "  a45: r1254},\n",
       " {d1: r1255,\n",
       "  d2: r1256,\n",
       "  d3: r1257,\n",
       "  d4: r1256/x24,\n",
       "  d5: r1257/x35,\n",
       "  a12: 0,\n",
       "  a13: (r1257*x15 - r1255*x35)/x35,\n",
       "  a14: r1258,\n",
       "  a15: r1259,\n",
       "  a23: r1260,\n",
       "  a24: r1261,\n",
       "  a25: r1262,\n",
       "  a34: r1263,\n",
       "  a35: r1264,\n",
       "  a45: (r1256 + r1260)/x24}]"
      ]
     },
     "metadata": {},
     "output_type": "display_data"
    },
    {
     "data": {
      "text/plain": [
       "\\left[\\left\\{d_{1} : r_{1222}, d_{2} : r_{1223}, d_{3} : 0, d_{4} : \\frac{r_{1223}}{x_{24}}, d_{5} : 0, a_{12} : 0, a_{13} : r_{1224}, a_{14} : r_{1225}, a_{15} : r_{1226}, a_{23} : r_{1227}, a_{24} : r_{1228}, a_{25} : r_{1229}, a_{34} : r_{1230}, a_{35} : r_{1231}, a_{45} : r_{1232}\\right\\}, \\left\\{d_{1} : r_{1233}, d_{2} : 0, d_{3} : r_{1234}, d_{4} : 0, d_{5} : \\frac{r_{1234}}{x_{35}}, a_{12} : r_{1235}, a_{13} : r_{1236}, a_{14} : r_{1237}, a_{15} : r_{1238}, a_{23} : r_{1239}, a_{24} : r_{1240}, a_{25} : r_{1241}, a_{34} : r_{1242}, a_{35} : r_{1243}, a_{45} : \\frac{r_{1239}}{x_{24}}\\right\\}, \\left\\{d_{1} : r_{1244}, d_{2} : 0, d_{3} : 0, d_{4} : 0, d_{5} : 0, a_{12} : r_{1245}, a_{13} : r_{1246}, a_{14} : r_{1247}, a_{15} : r_{1248}, a_{23} : r_{1249}, a_{24} : r_{1250}, a_{25} : r_{1251}, a_{34} : r_{1252}, a_{35} : r_{1253}, a_{45} : r_{1254}\\right\\}, \\left\\{d_{1} : r_{1255}, d_{2} : r_{1256}, d_{3} : r_{1257}, d_{4} : \\frac{r_{1256}}{x_{24}}, d_{5} : \\frac{r_{1257}}{x_{35}}, a_{12} : 0, a_{13} : \\frac{r_{1257} x_{15} - r_{1255} x_{35}}{x_{35}}, a_{14} : r_{1258}, a_{15} : r_{1259}, a_{23} : r_{1260}, a_{24} : r_{1261}, a_{25} : r_{1262}, a_{34} : r_{1263}, a_{35} : r_{1264}, a_{45} : \\frac{r_{1256} + r_{1260}}{x_{24}}\\right\\}\\right]"
      ]
     },
     "execution_count": 50,
     "metadata": {},
     "output_type": "execute_result"
    }
   ],
   "source": [
    "#x1\n",
    "reset()\n",
    "\n",
    "var('x12,x13,x14,x15,x23,x24,x25,x34,x35,x45')\n",
    "var('d1,d2,d3,d4,d5')\n",
    "var('a12,a13,a14,a15,a23,a24,a25,a34,a35,a45')\n",
    "\n",
    "load_attach_path('C:\\\\Users\\\\julia\\\\Documents\\\\unb\\\\doutorado\\\\pensar\\\\codigo_sage_v2\\\\maquina\\\\x1')\n",
    "load('out_#110001.sage')\n",
    "\n",
    "m=matrix(QQ, [[0, 0, 0, 0, 1],\n",
    "              [0, 0, 0, 1, 1],\n",
    "              [0, 0, 0, 0, 1],\n",
    "              [0, 0, 0, 0, 0],\n",
    "              [0, 0, 0, 0, 0]])\n",
    "        \n",
    "#entry of matrix: (i,j) line i collum j, means (i-1,j-1)\n",
    "sol=solve([ \teq1==m[0,2],\teq2==m[0,3],\teq3==m[0,4],\t\n",
    "                                            eq4==m[1,3],    eq5==m[1,4],\n",
    "                                                            eq6==m[2,4]],d1,d2,d3,d4,d5,a12,a13,a14,a15,a23,a24,a25,a34,a35,a45, solution_dict=True)\n",
    "\n",
    "show(m)\n",
    "show(sol)\n",
    "latex(sol)"
   ]
  },
  {
   "cell_type": "code",
   "execution_count": 51,
   "metadata": {},
   "outputs": [
    {
     "data": {
      "text/html": [
       "<html><script type=\"math/tex; mode=display\">\\newcommand{\\Bold}[1]{\\mathbf{#1}}\\left(\\begin{array}{rrrrr}\n",
       "0 & 0 & 0 & 1 & 0 \\\\\n",
       "0 & 0 & 0 & 1 & 0 \\\\\n",
       "0 & 0 & 0 & 0 & 1 \\\\\n",
       "0 & 0 & 0 & 0 & 0 \\\\\n",
       "0 & 0 & 0 & 0 & 0\n",
       "\\end{array}\\right)</script></html>"
      ],
      "text/latex": [
       "$$\\newcommand{\\Bold}[1]{\\mathbf{#1}}\\left(\\begin{array}{rrrrr}\n",
       "0 & 0 & 0 & 1 & 0 \\\\\n",
       "0 & 0 & 0 & 1 & 0 \\\\\n",
       "0 & 0 & 0 & 0 & 1 \\\\\n",
       "0 & 0 & 0 & 0 & 0 \\\\\n",
       "0 & 0 & 0 & 0 & 0\n",
       "\\end{array}\\right)$$"
      ],
      "text/plain": [
       "[0 0 0 1 0]\n",
       "[0 0 0 1 0]\n",
       "[0 0 0 0 1]\n",
       "[0 0 0 0 0]\n",
       "[0 0 0 0 0]"
      ]
     },
     "metadata": {},
     "output_type": "display_data"
    },
    {
     "data": {
      "text/html": [
       "<html><script type=\"math/tex; mode=display\">\\newcommand{\\Bold}[1]{\\mathbf{#1}}\\left[\\left\\{d_{1} : r_{1265}, d_{2} : r_{1266}, d_{3} : 0, d_{4} : \\frac{r_{1266}}{x_{24}}, d_{5} : 0, a_{12} : \\frac{r_{1266} x_{14} - r_{1265} x_{24}}{x_{24}}, a_{13} : r_{1267}, a_{14} : r_{1268}, a_{15} : r_{1269}, a_{23} : r_{1270}, a_{24} : r_{1271}, a_{25} : r_{1272}, a_{34} : r_{1273}, a_{35} : r_{1274}, a_{45} : r_{1275}\\right\\}, \\left\\{d_{1} : r_{1276}, d_{2} : 0, d_{3} : r_{1277}, d_{4} : 0, d_{5} : \\frac{r_{1277}}{x_{35}}, a_{12} : r_{1278}, a_{13} : r_{1279}, a_{14} : r_{1280}, a_{15} : r_{1281}, a_{23} : r_{1282}, a_{24} : r_{1283}, a_{25} : r_{1284}, a_{34} : r_{1285}, a_{35} : r_{1286}, a_{45} : \\frac{r_{1282}}{x_{24}}\\right\\}, \\left\\{d_{1} : r_{1287}, d_{2} : 0, d_{3} : 0, d_{4} : 0, d_{5} : 0, a_{12} : r_{1288}, a_{13} : r_{1289}, a_{14} : r_{1290}, a_{15} : r_{1291}, a_{23} : r_{1292}, a_{24} : r_{1293}, a_{25} : r_{1294}, a_{34} : r_{1295}, a_{35} : r_{1296}, a_{45} : r_{1297}\\right\\}, \\left\\{d_{1} : r_{1298}, d_{2} : r_{1299}, d_{3} : r_{1300}, d_{4} : \\frac{r_{1299}}{x_{24}}, d_{5} : \\frac{r_{1300}}{x_{35}}, a_{12} : \\frac{r_{1299} x_{14} - r_{1298} x_{24}}{x_{24}}, a_{13} : r_{1301}, a_{14} : r_{1302}, a_{15} : r_{1303}, a_{23} : \\frac{r_{1301} x_{24}}{x_{14}}, a_{24} : r_{1304}, a_{25} : r_{1305}, a_{34} : r_{1306}, a_{35} : r_{1307}, a_{45} : \\frac{r_{1301}}{x_{14}}\\right\\}\\right]</script></html>"
      ],
      "text/latex": [
       "$$\\newcommand{\\Bold}[1]{\\mathbf{#1}}\\left[\\left\\{d_{1} : r_{1265}, d_{2} : r_{1266}, d_{3} : 0, d_{4} : \\frac{r_{1266}}{x_{24}}, d_{5} : 0, a_{12} : \\frac{r_{1266} x_{14} - r_{1265} x_{24}}{x_{24}}, a_{13} : r_{1267}, a_{14} : r_{1268}, a_{15} : r_{1269}, a_{23} : r_{1270}, a_{24} : r_{1271}, a_{25} : r_{1272}, a_{34} : r_{1273}, a_{35} : r_{1274}, a_{45} : r_{1275}\\right\\}, \\left\\{d_{1} : r_{1276}, d_{2} : 0, d_{3} : r_{1277}, d_{4} : 0, d_{5} : \\frac{r_{1277}}{x_{35}}, a_{12} : r_{1278}, a_{13} : r_{1279}, a_{14} : r_{1280}, a_{15} : r_{1281}, a_{23} : r_{1282}, a_{24} : r_{1283}, a_{25} : r_{1284}, a_{34} : r_{1285}, a_{35} : r_{1286}, a_{45} : \\frac{r_{1282}}{x_{24}}\\right\\}, \\left\\{d_{1} : r_{1287}, d_{2} : 0, d_{3} : 0, d_{4} : 0, d_{5} : 0, a_{12} : r_{1288}, a_{13} : r_{1289}, a_{14} : r_{1290}, a_{15} : r_{1291}, a_{23} : r_{1292}, a_{24} : r_{1293}, a_{25} : r_{1294}, a_{34} : r_{1295}, a_{35} : r_{1296}, a_{45} : r_{1297}\\right\\}, \\left\\{d_{1} : r_{1298}, d_{2} : r_{1299}, d_{3} : r_{1300}, d_{4} : \\frac{r_{1299}}{x_{24}}, d_{5} : \\frac{r_{1300}}{x_{35}}, a_{12} : \\frac{r_{1299} x_{14} - r_{1298} x_{24}}{x_{24}}, a_{13} : r_{1301}, a_{14} : r_{1302}, a_{15} : r_{1303}, a_{23} : \\frac{r_{1301} x_{24}}{x_{14}}, a_{24} : r_{1304}, a_{25} : r_{1305}, a_{34} : r_{1306}, a_{35} : r_{1307}, a_{45} : \\frac{r_{1301}}{x_{14}}\\right\\}\\right]$$"
      ],
      "text/plain": [
       "[{d1: r1265,\n",
       "  d2: r1266,\n",
       "  d3: 0,\n",
       "  d4: r1266/x24,\n",
       "  d5: 0,\n",
       "  a12: (r1266*x14 - r1265*x24)/x24,\n",
       "  a13: r1267,\n",
       "  a14: r1268,\n",
       "  a15: r1269,\n",
       "  a23: r1270,\n",
       "  a24: r1271,\n",
       "  a25: r1272,\n",
       "  a34: r1273,\n",
       "  a35: r1274,\n",
       "  a45: r1275},\n",
       " {d1: r1276,\n",
       "  d2: 0,\n",
       "  d3: r1277,\n",
       "  d4: 0,\n",
       "  d5: r1277/x35,\n",
       "  a12: r1278,\n",
       "  a13: r1279,\n",
       "  a14: r1280,\n",
       "  a15: r1281,\n",
       "  a23: r1282,\n",
       "  a24: r1283,\n",
       "  a25: r1284,\n",
       "  a34: r1285,\n",
       "  a35: r1286,\n",
       "  a45: r1282/x24},\n",
       " {d1: r1287,\n",
       "  d2: 0,\n",
       "  d3: 0,\n",
       "  d4: 0,\n",
       "  d5: 0,\n",
       "  a12: r1288,\n",
       "  a13: r1289,\n",
       "  a14: r1290,\n",
       "  a15: r1291,\n",
       "  a23: r1292,\n",
       "  a24: r1293,\n",
       "  a25: r1294,\n",
       "  a34: r1295,\n",
       "  a35: r1296,\n",
       "  a45: r1297},\n",
       " {d1: r1298,\n",
       "  d2: r1299,\n",
       "  d3: r1300,\n",
       "  d4: r1299/x24,\n",
       "  d5: r1300/x35,\n",
       "  a12: (r1299*x14 - r1298*x24)/x24,\n",
       "  a13: r1301,\n",
       "  a14: r1302,\n",
       "  a15: r1303,\n",
       "  a23: r1301*x24/x14,\n",
       "  a24: r1304,\n",
       "  a25: r1305,\n",
       "  a34: r1306,\n",
       "  a35: r1307,\n",
       "  a45: r1301/x14}]"
      ]
     },
     "metadata": {},
     "output_type": "display_data"
    },
    {
     "data": {
      "text/plain": [
       "\\left[\\left\\{d_{1} : r_{1265}, d_{2} : r_{1266}, d_{3} : 0, d_{4} : \\frac{r_{1266}}{x_{24}}, d_{5} : 0, a_{12} : \\frac{r_{1266} x_{14} - r_{1265} x_{24}}{x_{24}}, a_{13} : r_{1267}, a_{14} : r_{1268}, a_{15} : r_{1269}, a_{23} : r_{1270}, a_{24} : r_{1271}, a_{25} : r_{1272}, a_{34} : r_{1273}, a_{35} : r_{1274}, a_{45} : r_{1275}\\right\\}, \\left\\{d_{1} : r_{1276}, d_{2} : 0, d_{3} : r_{1277}, d_{4} : 0, d_{5} : \\frac{r_{1277}}{x_{35}}, a_{12} : r_{1278}, a_{13} : r_{1279}, a_{14} : r_{1280}, a_{15} : r_{1281}, a_{23} : r_{1282}, a_{24} : r_{1283}, a_{25} : r_{1284}, a_{34} : r_{1285}, a_{35} : r_{1286}, a_{45} : \\frac{r_{1282}}{x_{24}}\\right\\}, \\left\\{d_{1} : r_{1287}, d_{2} : 0, d_{3} : 0, d_{4} : 0, d_{5} : 0, a_{12} : r_{1288}, a_{13} : r_{1289}, a_{14} : r_{1290}, a_{15} : r_{1291}, a_{23} : r_{1292}, a_{24} : r_{1293}, a_{25} : r_{1294}, a_{34} : r_{1295}, a_{35} : r_{1296}, a_{45} : r_{1297}\\right\\}, \\left\\{d_{1} : r_{1298}, d_{2} : r_{1299}, d_{3} : r_{1300}, d_{4} : \\frac{r_{1299}}{x_{24}}, d_{5} : \\frac{r_{1300}}{x_{35}}, a_{12} : \\frac{r_{1299} x_{14} - r_{1298} x_{24}}{x_{24}}, a_{13} : r_{1301}, a_{14} : r_{1302}, a_{15} : r_{1303}, a_{23} : \\frac{r_{1301} x_{24}}{x_{14}}, a_{24} : r_{1304}, a_{25} : r_{1305}, a_{34} : r_{1306}, a_{35} : r_{1307}, a_{45} : \\frac{r_{1301}}{x_{14}}\\right\\}\\right]"
      ]
     },
     "execution_count": 51,
     "metadata": {},
     "output_type": "execute_result"
    }
   ],
   "source": [
    "#x1\n",
    "reset()\n",
    "\n",
    "var('x12,x13,x14,x15,x23,x24,x25,x34,x35,x45')\n",
    "var('d1,d2,d3,d4,d5')\n",
    "var('a12,a13,a14,a15,a23,a24,a25,a34,a35,a45')\n",
    "\n",
    "load_attach_path('C:\\\\Users\\\\julia\\\\Documents\\\\unb\\\\doutorado\\\\pensar\\\\codigo_sage_v2\\\\maquina\\\\x1')\n",
    "load('out_#110010.sage')\n",
    "\n",
    "m=matrix(QQ, [[0, 0, 0, 1, 0],\n",
    "              [0, 0, 0, 1, 0],\n",
    "              [0, 0, 0, 0, 1],\n",
    "              [0, 0, 0, 0, 0],\n",
    "              [0, 0, 0, 0, 0]])\n",
    "        \n",
    "#entry of matrix: (i,j) line i collum j, means (i-1,j-1)\n",
    "sol=solve([ \teq1==m[0,2],\teq2==m[0,3],\teq3==m[0,4],\t\n",
    "                                            eq4==m[1,3],    eq5==m[1,4],\n",
    "                                                            eq6==m[2,4]],d1,d2,d3,d4,d5,a12,a13,a14,a15,a23,a24,a25,a34,a35,a45, solution_dict=True)\n",
    "\n",
    "show(m)\n",
    "show(sol)\n",
    "latex(sol)"
   ]
  },
  {
   "cell_type": "code",
   "execution_count": 52,
   "metadata": {},
   "outputs": [
    {
     "data": {
      "text/html": [
       "<html><script type=\"math/tex; mode=display\">\\newcommand{\\Bold}[1]{\\mathbf{#1}}\\left(\\begin{array}{rrrrr}\n",
       "0 & 0 & 0 & 1 & 1 \\\\\n",
       "0 & 0 & 0 & 1 & 0 \\\\\n",
       "0 & 0 & 0 & 0 & 1 \\\\\n",
       "0 & 0 & 0 & 0 & 0 \\\\\n",
       "0 & 0 & 0 & 0 & 0\n",
       "\\end{array}\\right)</script></html>"
      ],
      "text/latex": [
       "$$\\newcommand{\\Bold}[1]{\\mathbf{#1}}\\left(\\begin{array}{rrrrr}\n",
       "0 & 0 & 0 & 1 & 1 \\\\\n",
       "0 & 0 & 0 & 1 & 0 \\\\\n",
       "0 & 0 & 0 & 0 & 1 \\\\\n",
       "0 & 0 & 0 & 0 & 0 \\\\\n",
       "0 & 0 & 0 & 0 & 0\n",
       "\\end{array}\\right)$$"
      ],
      "text/plain": [
       "[0 0 0 1 1]\n",
       "[0 0 0 1 0]\n",
       "[0 0 0 0 1]\n",
       "[0 0 0 0 0]\n",
       "[0 0 0 0 0]"
      ]
     },
     "metadata": {},
     "output_type": "display_data"
    },
    {
     "data": {
      "text/html": [
       "<html><script type=\"math/tex; mode=display\">\\newcommand{\\Bold}[1]{\\mathbf{#1}}\\left[\\left\\{d_{1} : r_{1308}, d_{2} : r_{1309}, d_{3} : 0, d_{4} : \\frac{r_{1309}}{x_{24}}, d_{5} : 0, a_{12} : \\frac{r_{1309} x_{14} - r_{1308} x_{24}}{x_{24}}, a_{13} : r_{1310}, a_{14} : r_{1311}, a_{15} : r_{1312}, a_{23} : r_{1313}, a_{24} : r_{1314}, a_{25} : r_{1315}, a_{34} : r_{1316}, a_{35} : r_{1317}, a_{45} : r_{1318}\\right\\}, \\left\\{d_{1} : r_{1319}, d_{2} : 0, d_{3} : r_{1320}, d_{4} : 0, d_{5} : \\frac{r_{1320}}{x_{35}}, a_{12} : r_{1321}, a_{13} : r_{1322}, a_{14} : r_{1323}, a_{15} : r_{1324}, a_{23} : r_{1325}, a_{24} : r_{1326}, a_{25} : r_{1327}, a_{34} : r_{1328}, a_{35} : r_{1329}, a_{45} : \\frac{r_{1325}}{x_{24}}\\right\\}, \\left\\{d_{1} : r_{1330}, d_{2} : 0, d_{3} : 0, d_{4} : 0, d_{5} : 0, a_{12} : r_{1331}, a_{13} : r_{1332}, a_{14} : r_{1333}, a_{15} : r_{1334}, a_{23} : r_{1335}, a_{24} : r_{1336}, a_{25} : r_{1337}, a_{34} : r_{1338}, a_{35} : r_{1339}, a_{45} : r_{1340}\\right\\}, \\left\\{d_{1} : r_{1341}, d_{2} : r_{1342}, d_{3} : r_{1343}, d_{4} : \\frac{r_{1342}}{x_{24}}, d_{5} : \\frac{r_{1343}}{x_{35}}, a_{12} : \\frac{r_{1342} x_{14} - r_{1341} x_{24}}{x_{24}}, a_{13} : r_{1344}, a_{14} : r_{1345}, a_{15} : r_{1346}, a_{23} : -\\frac{r_{1343} x_{15} x_{24} - {\\left(r_{1341} + r_{1344}\\right)} x_{24} x_{35}}{x_{14} x_{35}}, a_{24} : r_{1347}, a_{25} : r_{1348}, a_{34} : r_{1349}, a_{35} : r_{1350}, a_{45} : -\\frac{r_{1343} x_{15} - {\\left(r_{1341} + r_{1344}\\right)} x_{35}}{x_{14} x_{35}}\\right\\}\\right]</script></html>"
      ],
      "text/latex": [
       "$$\\newcommand{\\Bold}[1]{\\mathbf{#1}}\\left[\\left\\{d_{1} : r_{1308}, d_{2} : r_{1309}, d_{3} : 0, d_{4} : \\frac{r_{1309}}{x_{24}}, d_{5} : 0, a_{12} : \\frac{r_{1309} x_{14} - r_{1308} x_{24}}{x_{24}}, a_{13} : r_{1310}, a_{14} : r_{1311}, a_{15} : r_{1312}, a_{23} : r_{1313}, a_{24} : r_{1314}, a_{25} : r_{1315}, a_{34} : r_{1316}, a_{35} : r_{1317}, a_{45} : r_{1318}\\right\\}, \\left\\{d_{1} : r_{1319}, d_{2} : 0, d_{3} : r_{1320}, d_{4} : 0, d_{5} : \\frac{r_{1320}}{x_{35}}, a_{12} : r_{1321}, a_{13} : r_{1322}, a_{14} : r_{1323}, a_{15} : r_{1324}, a_{23} : r_{1325}, a_{24} : r_{1326}, a_{25} : r_{1327}, a_{34} : r_{1328}, a_{35} : r_{1329}, a_{45} : \\frac{r_{1325}}{x_{24}}\\right\\}, \\left\\{d_{1} : r_{1330}, d_{2} : 0, d_{3} : 0, d_{4} : 0, d_{5} : 0, a_{12} : r_{1331}, a_{13} : r_{1332}, a_{14} : r_{1333}, a_{15} : r_{1334}, a_{23} : r_{1335}, a_{24} : r_{1336}, a_{25} : r_{1337}, a_{34} : r_{1338}, a_{35} : r_{1339}, a_{45} : r_{1340}\\right\\}, \\left\\{d_{1} : r_{1341}, d_{2} : r_{1342}, d_{3} : r_{1343}, d_{4} : \\frac{r_{1342}}{x_{24}}, d_{5} : \\frac{r_{1343}}{x_{35}}, a_{12} : \\frac{r_{1342} x_{14} - r_{1341} x_{24}}{x_{24}}, a_{13} : r_{1344}, a_{14} : r_{1345}, a_{15} : r_{1346}, a_{23} : -\\frac{r_{1343} x_{15} x_{24} - {\\left(r_{1341} + r_{1344}\\right)} x_{24} x_{35}}{x_{14} x_{35}}, a_{24} : r_{1347}, a_{25} : r_{1348}, a_{34} : r_{1349}, a_{35} : r_{1350}, a_{45} : -\\frac{r_{1343} x_{15} - {\\left(r_{1341} + r_{1344}\\right)} x_{35}}{x_{14} x_{35}}\\right\\}\\right]$$"
      ],
      "text/plain": [
       "[{d1: r1308,\n",
       "  d2: r1309,\n",
       "  d3: 0,\n",
       "  d4: r1309/x24,\n",
       "  d5: 0,\n",
       "  a12: (r1309*x14 - r1308*x24)/x24,\n",
       "  a13: r1310,\n",
       "  a14: r1311,\n",
       "  a15: r1312,\n",
       "  a23: r1313,\n",
       "  a24: r1314,\n",
       "  a25: r1315,\n",
       "  a34: r1316,\n",
       "  a35: r1317,\n",
       "  a45: r1318},\n",
       " {d1: r1319,\n",
       "  d2: 0,\n",
       "  d3: r1320,\n",
       "  d4: 0,\n",
       "  d5: r1320/x35,\n",
       "  a12: r1321,\n",
       "  a13: r1322,\n",
       "  a14: r1323,\n",
       "  a15: r1324,\n",
       "  a23: r1325,\n",
       "  a24: r1326,\n",
       "  a25: r1327,\n",
       "  a34: r1328,\n",
       "  a35: r1329,\n",
       "  a45: r1325/x24},\n",
       " {d1: r1330,\n",
       "  d2: 0,\n",
       "  d3: 0,\n",
       "  d4: 0,\n",
       "  d5: 0,\n",
       "  a12: r1331,\n",
       "  a13: r1332,\n",
       "  a14: r1333,\n",
       "  a15: r1334,\n",
       "  a23: r1335,\n",
       "  a24: r1336,\n",
       "  a25: r1337,\n",
       "  a34: r1338,\n",
       "  a35: r1339,\n",
       "  a45: r1340},\n",
       " {d1: r1341,\n",
       "  d2: r1342,\n",
       "  d3: r1343,\n",
       "  d4: r1342/x24,\n",
       "  d5: r1343/x35,\n",
       "  a12: (r1342*x14 - r1341*x24)/x24,\n",
       "  a13: r1344,\n",
       "  a14: r1345,\n",
       "  a15: r1346,\n",
       "  a23: -(r1343*x15*x24 - (r1341 + r1344)*x24*x35)/(x14*x35),\n",
       "  a24: r1347,\n",
       "  a25: r1348,\n",
       "  a34: r1349,\n",
       "  a35: r1350,\n",
       "  a45: -(r1343*x15 - (r1341 + r1344)*x35)/(x14*x35)}]"
      ]
     },
     "metadata": {},
     "output_type": "display_data"
    },
    {
     "data": {
      "text/plain": [
       "\\left[\\left\\{d_{1} : r_{1308}, d_{2} : r_{1309}, d_{3} : 0, d_{4} : \\frac{r_{1309}}{x_{24}}, d_{5} : 0, a_{12} : \\frac{r_{1309} x_{14} - r_{1308} x_{24}}{x_{24}}, a_{13} : r_{1310}, a_{14} : r_{1311}, a_{15} : r_{1312}, a_{23} : r_{1313}, a_{24} : r_{1314}, a_{25} : r_{1315}, a_{34} : r_{1316}, a_{35} : r_{1317}, a_{45} : r_{1318}\\right\\}, \\left\\{d_{1} : r_{1319}, d_{2} : 0, d_{3} : r_{1320}, d_{4} : 0, d_{5} : \\frac{r_{1320}}{x_{35}}, a_{12} : r_{1321}, a_{13} : r_{1322}, a_{14} : r_{1323}, a_{15} : r_{1324}, a_{23} : r_{1325}, a_{24} : r_{1326}, a_{25} : r_{1327}, a_{34} : r_{1328}, a_{35} : r_{1329}, a_{45} : \\frac{r_{1325}}{x_{24}}\\right\\}, \\left\\{d_{1} : r_{1330}, d_{2} : 0, d_{3} : 0, d_{4} : 0, d_{5} : 0, a_{12} : r_{1331}, a_{13} : r_{1332}, a_{14} : r_{1333}, a_{15} : r_{1334}, a_{23} : r_{1335}, a_{24} : r_{1336}, a_{25} : r_{1337}, a_{34} : r_{1338}, a_{35} : r_{1339}, a_{45} : r_{1340}\\right\\}, \\left\\{d_{1} : r_{1341}, d_{2} : r_{1342}, d_{3} : r_{1343}, d_{4} : \\frac{r_{1342}}{x_{24}}, d_{5} : \\frac{r_{1343}}{x_{35}}, a_{12} : \\frac{r_{1342} x_{14} - r_{1341} x_{24}}{x_{24}}, a_{13} : r_{1344}, a_{14} : r_{1345}, a_{15} : r_{1346}, a_{23} : -\\frac{r_{1343} x_{15} x_{24} - {\\left(r_{1341} + r_{1344}\\right)} x_{24} x_{35}}{x_{14} x_{35}}, a_{24} : r_{1347}, a_{25} : r_{1348}, a_{34} : r_{1349}, a_{35} : r_{1350}, a_{45} : -\\frac{r_{1343} x_{15} - {\\left(r_{1341} + r_{1344}\\right)} x_{35}}{x_{14} x_{35}}\\right\\}\\right]"
      ]
     },
     "execution_count": 52,
     "metadata": {},
     "output_type": "execute_result"
    }
   ],
   "source": [
    "#x1\n",
    "reset()\n",
    "\n",
    "var('x12,x13,x14,x15,x23,x24,x25,x34,x35,x45')\n",
    "var('d1,d2,d3,d4,d5')\n",
    "var('a12,a13,a14,a15,a23,a24,a25,a34,a35,a45')\n",
    "\n",
    "load_attach_path('C:\\\\Users\\\\julia\\\\Documents\\\\unb\\\\doutorado\\\\pensar\\\\codigo_sage_v2\\\\maquina\\\\x1')\n",
    "load('out_#110011.sage')\n",
    "\n",
    "m=matrix(QQ, [[0, 0, 0, 1, 1],\n",
    "              [0, 0, 0, 1, 0],\n",
    "              [0, 0, 0, 0, 1],\n",
    "              [0, 0, 0, 0, 0],\n",
    "              [0, 0, 0, 0, 0]])\n",
    "        \n",
    "#entry of matrix: (i,j) line i collum j, means (i-1,j-1)\n",
    "sol=solve([ \teq1==m[0,2],\teq2==m[0,3],\teq3==m[0,4],\t\n",
    "                                            eq4==m[1,3],    eq5==m[1,4],\n",
    "                                                            eq6==m[2,4]],d1,d2,d3,d4,d5,a12,a13,a14,a15,a23,a24,a25,a34,a35,a45, solution_dict=True)\n",
    "\n",
    "show(m)\n",
    "show(sol)\n",
    "latex(sol)"
   ]
  },
  {
   "cell_type": "code",
   "execution_count": 53,
   "metadata": {},
   "outputs": [
    {
     "data": {
      "text/html": [
       "<html><script type=\"math/tex; mode=display\">\\newcommand{\\Bold}[1]{\\mathbf{#1}}\\left(\\begin{array}{rrrrr}\n",
       "0 & 0 & 1 & 0 & 0 \\\\\n",
       "0 & 0 & 0 & 1 & 0 \\\\\n",
       "0 & 0 & 0 & 0 & 1 \\\\\n",
       "0 & 0 & 0 & 0 & 0 \\\\\n",
       "0 & 0 & 0 & 0 & 0\n",
       "\\end{array}\\right)</script></html>"
      ],
      "text/latex": [
       "$$\\newcommand{\\Bold}[1]{\\mathbf{#1}}\\left(\\begin{array}{rrrrr}\n",
       "0 & 0 & 1 & 0 & 0 \\\\\n",
       "0 & 0 & 0 & 1 & 0 \\\\\n",
       "0 & 0 & 0 & 0 & 1 \\\\\n",
       "0 & 0 & 0 & 0 & 0 \\\\\n",
       "0 & 0 & 0 & 0 & 0\n",
       "\\end{array}\\right)$$"
      ],
      "text/plain": [
       "[0 0 1 0 0]\n",
       "[0 0 0 1 0]\n",
       "[0 0 0 0 1]\n",
       "[0 0 0 0 0]\n",
       "[0 0 0 0 0]"
      ]
     },
     "metadata": {},
     "output_type": "display_data"
    },
    {
     "data": {
      "text/html": [
       "<html><script type=\"math/tex; mode=display\">\\newcommand{\\Bold}[1]{\\mathbf{#1}}\\left[\\left\\{d_{1} : r_{1351}, d_{2} : 0, d_{3} : \\frac{r_{1351}}{x_{13}}, d_{4} : 0, d_{5} : \\frac{r_{1351}}{x_{13} x_{35}}, a_{12} : r_{1352}, a_{13} : r_{1353}, a_{14} : r_{1354}, a_{15} : r_{1355}, a_{23} : r_{1356}, a_{24} : r_{1357}, a_{25} : r_{1358}, a_{34} : r_{1359}, a_{35} : r_{1360}, a_{45} : \\frac{r_{1356}}{x_{24}}\\right\\}, \\left\\{d_{1} : 0, d_{2} : r_{1361}, d_{3} : 0, d_{4} : \\frac{r_{1361}}{x_{24}}, d_{5} : 0, a_{12} : r_{1362}, a_{13} : r_{1363}, a_{14} : r_{1364}, a_{15} : r_{1365}, a_{23} : r_{1366}, a_{24} : r_{1367}, a_{25} : r_{1368}, a_{34} : \\frac{r_{1362}}{x_{13}}, a_{35} : r_{1369}, a_{45} : r_{1370}\\right\\}, \\left\\{d_{1} : 0, d_{2} : 0, d_{3} : 0, d_{4} : 0, d_{5} : 0, a_{12} : r_{1371}, a_{13} : r_{1372}, a_{14} : r_{1373}, a_{15} : r_{1374}, a_{23} : r_{1375}, a_{24} : r_{1376}, a_{25} : r_{1377}, a_{34} : r_{1378}, a_{35} : r_{1379}, a_{45} : r_{1380}\\right\\}, \\left\\{d_{1} : r_{1381}, d_{2} : r_{1382}, d_{3} : \\frac{r_{1381}}{x_{13}}, d_{4} : \\frac{r_{1382}}{x_{24}}, d_{5} : \\frac{r_{1381}}{x_{13} x_{35}}, a_{12} : r_{1383}, a_{13} : r_{1384}, a_{14} : r_{1385}, a_{15} : r_{1386}, a_{23} : r_{1387}, a_{24} : r_{1388}, a_{25} : r_{1389}, a_{34} : \\frac{r_{1383}}{x_{13}}, a_{35} : \\frac{r_{1384}}{x_{13}}, a_{45} : \\frac{r_{1387}}{x_{24}}\\right\\}\\right]</script></html>"
      ],
      "text/latex": [
       "$$\\newcommand{\\Bold}[1]{\\mathbf{#1}}\\left[\\left\\{d_{1} : r_{1351}, d_{2} : 0, d_{3} : \\frac{r_{1351}}{x_{13}}, d_{4} : 0, d_{5} : \\frac{r_{1351}}{x_{13} x_{35}}, a_{12} : r_{1352}, a_{13} : r_{1353}, a_{14} : r_{1354}, a_{15} : r_{1355}, a_{23} : r_{1356}, a_{24} : r_{1357}, a_{25} : r_{1358}, a_{34} : r_{1359}, a_{35} : r_{1360}, a_{45} : \\frac{r_{1356}}{x_{24}}\\right\\}, \\left\\{d_{1} : 0, d_{2} : r_{1361}, d_{3} : 0, d_{4} : \\frac{r_{1361}}{x_{24}}, d_{5} : 0, a_{12} : r_{1362}, a_{13} : r_{1363}, a_{14} : r_{1364}, a_{15} : r_{1365}, a_{23} : r_{1366}, a_{24} : r_{1367}, a_{25} : r_{1368}, a_{34} : \\frac{r_{1362}}{x_{13}}, a_{35} : r_{1369}, a_{45} : r_{1370}\\right\\}, \\left\\{d_{1} : 0, d_{2} : 0, d_{3} : 0, d_{4} : 0, d_{5} : 0, a_{12} : r_{1371}, a_{13} : r_{1372}, a_{14} : r_{1373}, a_{15} : r_{1374}, a_{23} : r_{1375}, a_{24} : r_{1376}, a_{25} : r_{1377}, a_{34} : r_{1378}, a_{35} : r_{1379}, a_{45} : r_{1380}\\right\\}, \\left\\{d_{1} : r_{1381}, d_{2} : r_{1382}, d_{3} : \\frac{r_{1381}}{x_{13}}, d_{4} : \\frac{r_{1382}}{x_{24}}, d_{5} : \\frac{r_{1381}}{x_{13} x_{35}}, a_{12} : r_{1383}, a_{13} : r_{1384}, a_{14} : r_{1385}, a_{15} : r_{1386}, a_{23} : r_{1387}, a_{24} : r_{1388}, a_{25} : r_{1389}, a_{34} : \\frac{r_{1383}}{x_{13}}, a_{35} : \\frac{r_{1384}}{x_{13}}, a_{45} : \\frac{r_{1387}}{x_{24}}\\right\\}\\right]$$"
      ],
      "text/plain": [
       "[{d1: r1351,\n",
       "  d2: 0,\n",
       "  d3: r1351/x13,\n",
       "  d4: 0,\n",
       "  d5: r1351/(x13*x35),\n",
       "  a12: r1352,\n",
       "  a13: r1353,\n",
       "  a14: r1354,\n",
       "  a15: r1355,\n",
       "  a23: r1356,\n",
       "  a24: r1357,\n",
       "  a25: r1358,\n",
       "  a34: r1359,\n",
       "  a35: r1360,\n",
       "  a45: r1356/x24},\n",
       " {d1: 0,\n",
       "  d2: r1361,\n",
       "  d3: 0,\n",
       "  d4: r1361/x24,\n",
       "  d5: 0,\n",
       "  a12: r1362,\n",
       "  a13: r1363,\n",
       "  a14: r1364,\n",
       "  a15: r1365,\n",
       "  a23: r1366,\n",
       "  a24: r1367,\n",
       "  a25: r1368,\n",
       "  a34: r1362/x13,\n",
       "  a35: r1369,\n",
       "  a45: r1370},\n",
       " {d1: 0,\n",
       "  d2: 0,\n",
       "  d3: 0,\n",
       "  d4: 0,\n",
       "  d5: 0,\n",
       "  a12: r1371,\n",
       "  a13: r1372,\n",
       "  a14: r1373,\n",
       "  a15: r1374,\n",
       "  a23: r1375,\n",
       "  a24: r1376,\n",
       "  a25: r1377,\n",
       "  a34: r1378,\n",
       "  a35: r1379,\n",
       "  a45: r1380},\n",
       " {d1: r1381,\n",
       "  d2: r1382,\n",
       "  d3: r1381/x13,\n",
       "  d4: r1382/x24,\n",
       "  d5: r1381/(x13*x35),\n",
       "  a12: r1383,\n",
       "  a13: r1384,\n",
       "  a14: r1385,\n",
       "  a15: r1386,\n",
       "  a23: r1387,\n",
       "  a24: r1388,\n",
       "  a25: r1389,\n",
       "  a34: r1383/x13,\n",
       "  a35: r1384/x13,\n",
       "  a45: r1387/x24}]"
      ]
     },
     "metadata": {},
     "output_type": "display_data"
    },
    {
     "data": {
      "text/plain": [
       "\\left[\\left\\{d_{1} : r_{1351}, d_{2} : 0, d_{3} : \\frac{r_{1351}}{x_{13}}, d_{4} : 0, d_{5} : \\frac{r_{1351}}{x_{13} x_{35}}, a_{12} : r_{1352}, a_{13} : r_{1353}, a_{14} : r_{1354}, a_{15} : r_{1355}, a_{23} : r_{1356}, a_{24} : r_{1357}, a_{25} : r_{1358}, a_{34} : r_{1359}, a_{35} : r_{1360}, a_{45} : \\frac{r_{1356}}{x_{24}}\\right\\}, \\left\\{d_{1} : 0, d_{2} : r_{1361}, d_{3} : 0, d_{4} : \\frac{r_{1361}}{x_{24}}, d_{5} : 0, a_{12} : r_{1362}, a_{13} : r_{1363}, a_{14} : r_{1364}, a_{15} : r_{1365}, a_{23} : r_{1366}, a_{24} : r_{1367}, a_{25} : r_{1368}, a_{34} : \\frac{r_{1362}}{x_{13}}, a_{35} : r_{1369}, a_{45} : r_{1370}\\right\\}, \\left\\{d_{1} : 0, d_{2} : 0, d_{3} : 0, d_{4} : 0, d_{5} : 0, a_{12} : r_{1371}, a_{13} : r_{1372}, a_{14} : r_{1373}, a_{15} : r_{1374}, a_{23} : r_{1375}, a_{24} : r_{1376}, a_{25} : r_{1377}, a_{34} : r_{1378}, a_{35} : r_{1379}, a_{45} : r_{1380}\\right\\}, \\left\\{d_{1} : r_{1381}, d_{2} : r_{1382}, d_{3} : \\frac{r_{1381}}{x_{13}}, d_{4} : \\frac{r_{1382}}{x_{24}}, d_{5} : \\frac{r_{1381}}{x_{13} x_{35}}, a_{12} : r_{1383}, a_{13} : r_{1384}, a_{14} : r_{1385}, a_{15} : r_{1386}, a_{23} : r_{1387}, a_{24} : r_{1388}, a_{25} : r_{1389}, a_{34} : \\frac{r_{1383}}{x_{13}}, a_{35} : \\frac{r_{1384}}{x_{13}}, a_{45} : \\frac{r_{1387}}{x_{24}}\\right\\}\\right]"
      ]
     },
     "execution_count": 53,
     "metadata": {},
     "output_type": "execute_result"
    }
   ],
   "source": [
    "#x1\n",
    "reset()\n",
    "\n",
    "var('x12,x13,x14,x15,x23,x24,x25,x34,x35,x45')\n",
    "var('d1,d2,d3,d4,d5')\n",
    "var('a12,a13,a14,a15,a23,a24,a25,a34,a35,a45')\n",
    "\n",
    "load_attach_path('C:\\\\Users\\\\julia\\\\Documents\\\\unb\\\\doutorado\\\\pensar\\\\codigo_sage_v2\\\\maquina\\\\x1')\n",
    "load('out_#110100.sage')\n",
    "\n",
    "m=matrix(QQ, [[0, 0, 1, 0, 0],\n",
    "              [0, 0, 0, 1, 0],\n",
    "              [0, 0, 0, 0, 1],\n",
    "              [0, 0, 0, 0, 0],\n",
    "              [0, 0, 0, 0, 0]])\n",
    "        \n",
    "#entry of matrix: (i,j) line i collum j, means (i-1,j-1)\n",
    "sol=solve([ \teq1==m[0,2],\teq2==m[0,3],\teq3==m[0,4],\t\n",
    "                                            eq4==m[1,3],    eq5==m[1,4],\n",
    "                                                            eq6==m[2,4]],d1,d2,d3,d4,d5,a12,a13,a14,a15,a23,a24,a25,a34,a35,a45, solution_dict=True)\n",
    "\n",
    "show(m)\n",
    "show(sol)\n",
    "latex(sol)"
   ]
  },
  {
   "cell_type": "code",
   "execution_count": 54,
   "metadata": {},
   "outputs": [
    {
     "data": {
      "text/html": [
       "<html><script type=\"math/tex; mode=display\">\\newcommand{\\Bold}[1]{\\mathbf{#1}}\\left(\\begin{array}{rrrrr}\n",
       "0 & 0 & 1 & 0 & 1 \\\\\n",
       "0 & 0 & 0 & 1 & 0 \\\\\n",
       "0 & 0 & 0 & 0 & 1 \\\\\n",
       "0 & 0 & 0 & 0 & 0 \\\\\n",
       "0 & 0 & 0 & 0 & 0\n",
       "\\end{array}\\right)</script></html>"
      ],
      "text/latex": [
       "$$\\newcommand{\\Bold}[1]{\\mathbf{#1}}\\left(\\begin{array}{rrrrr}\n",
       "0 & 0 & 1 & 0 & 1 \\\\\n",
       "0 & 0 & 0 & 1 & 0 \\\\\n",
       "0 & 0 & 0 & 0 & 1 \\\\\n",
       "0 & 0 & 0 & 0 & 0 \\\\\n",
       "0 & 0 & 0 & 0 & 0\n",
       "\\end{array}\\right)$$"
      ],
      "text/plain": [
       "[0 0 1 0 1]\n",
       "[0 0 0 1 0]\n",
       "[0 0 0 0 1]\n",
       "[0 0 0 0 0]\n",
       "[0 0 0 0 0]"
      ]
     },
     "metadata": {},
     "output_type": "display_data"
    },
    {
     "data": {
      "text/html": [
       "<html><script type=\"math/tex; mode=display\">\\newcommand{\\Bold}[1]{\\mathbf{#1}}\\left[\\left\\{d_{1} : r_{1390}, d_{2} : 0, d_{3} : \\frac{r_{1390}}{x_{13}}, d_{4} : 0, d_{5} : \\frac{r_{1390}}{x_{13} x_{35}}, a_{12} : r_{1391}, a_{13} : r_{1392}, a_{14} : r_{1393}, a_{15} : r_{1394}, a_{23} : r_{1395}, a_{24} : r_{1396}, a_{25} : r_{1397}, a_{34} : r_{1398}, a_{35} : r_{1399}, a_{45} : \\frac{r_{1395}}{x_{24}}\\right\\}, \\left\\{d_{1} : 0, d_{2} : r_{1400}, d_{3} : 0, d_{4} : \\frac{r_{1400}}{x_{24}}, d_{5} : 0, a_{12} : r_{1401}, a_{13} : r_{1402}, a_{14} : r_{1403}, a_{15} : r_{1404}, a_{23} : r_{1405}, a_{24} : r_{1406}, a_{25} : r_{1407}, a_{34} : \\frac{r_{1401}}{x_{13}}, a_{35} : r_{1408}, a_{45} : r_{1409}\\right\\}, \\left\\{d_{1} : 0, d_{2} : 0, d_{3} : 0, d_{4} : 0, d_{5} : 0, a_{12} : r_{1410}, a_{13} : r_{1411}, a_{14} : r_{1412}, a_{15} : r_{1413}, a_{23} : r_{1414}, a_{24} : r_{1415}, a_{25} : r_{1416}, a_{34} : r_{1417}, a_{35} : r_{1418}, a_{45} : r_{1419}\\right\\}, \\left\\{d_{1} : r_{1420}, d_{2} : r_{1421}, d_{3} : \\frac{r_{1420}}{x_{13}}, d_{4} : \\frac{r_{1421}}{x_{24}}, d_{5} : \\frac{r_{1420}}{x_{13} x_{35}}, a_{12} : r_{1422}, a_{13} : r_{1423}, a_{14} : r_{1424}, a_{15} : r_{1425}, a_{23} : r_{1426}, a_{24} : r_{1427}, a_{25} : r_{1428}, a_{34} : \\frac{r_{1422}}{x_{13}}, a_{35} : \\frac{{\\left(r_{1420} + r_{1423}\\right)} x_{13} x_{35} - r_{1420} x_{15}}{x_{13}^{2} x_{35}}, a_{45} : \\frac{r_{1426}}{x_{24}}\\right\\}\\right]</script></html>"
      ],
      "text/latex": [
       "$$\\newcommand{\\Bold}[1]{\\mathbf{#1}}\\left[\\left\\{d_{1} : r_{1390}, d_{2} : 0, d_{3} : \\frac{r_{1390}}{x_{13}}, d_{4} : 0, d_{5} : \\frac{r_{1390}}{x_{13} x_{35}}, a_{12} : r_{1391}, a_{13} : r_{1392}, a_{14} : r_{1393}, a_{15} : r_{1394}, a_{23} : r_{1395}, a_{24} : r_{1396}, a_{25} : r_{1397}, a_{34} : r_{1398}, a_{35} : r_{1399}, a_{45} : \\frac{r_{1395}}{x_{24}}\\right\\}, \\left\\{d_{1} : 0, d_{2} : r_{1400}, d_{3} : 0, d_{4} : \\frac{r_{1400}}{x_{24}}, d_{5} : 0, a_{12} : r_{1401}, a_{13} : r_{1402}, a_{14} : r_{1403}, a_{15} : r_{1404}, a_{23} : r_{1405}, a_{24} : r_{1406}, a_{25} : r_{1407}, a_{34} : \\frac{r_{1401}}{x_{13}}, a_{35} : r_{1408}, a_{45} : r_{1409}\\right\\}, \\left\\{d_{1} : 0, d_{2} : 0, d_{3} : 0, d_{4} : 0, d_{5} : 0, a_{12} : r_{1410}, a_{13} : r_{1411}, a_{14} : r_{1412}, a_{15} : r_{1413}, a_{23} : r_{1414}, a_{24} : r_{1415}, a_{25} : r_{1416}, a_{34} : r_{1417}, a_{35} : r_{1418}, a_{45} : r_{1419}\\right\\}, \\left\\{d_{1} : r_{1420}, d_{2} : r_{1421}, d_{3} : \\frac{r_{1420}}{x_{13}}, d_{4} : \\frac{r_{1421}}{x_{24}}, d_{5} : \\frac{r_{1420}}{x_{13} x_{35}}, a_{12} : r_{1422}, a_{13} : r_{1423}, a_{14} : r_{1424}, a_{15} : r_{1425}, a_{23} : r_{1426}, a_{24} : r_{1427}, a_{25} : r_{1428}, a_{34} : \\frac{r_{1422}}{x_{13}}, a_{35} : \\frac{{\\left(r_{1420} + r_{1423}\\right)} x_{13} x_{35} - r_{1420} x_{15}}{x_{13}^{2} x_{35}}, a_{45} : \\frac{r_{1426}}{x_{24}}\\right\\}\\right]$$"
      ],
      "text/plain": [
       "[{d1: r1390,\n",
       "  d2: 0,\n",
       "  d3: r1390/x13,\n",
       "  d4: 0,\n",
       "  d5: r1390/(x13*x35),\n",
       "  a12: r1391,\n",
       "  a13: r1392,\n",
       "  a14: r1393,\n",
       "  a15: r1394,\n",
       "  a23: r1395,\n",
       "  a24: r1396,\n",
       "  a25: r1397,\n",
       "  a34: r1398,\n",
       "  a35: r1399,\n",
       "  a45: r1395/x24},\n",
       " {d1: 0,\n",
       "  d2: r1400,\n",
       "  d3: 0,\n",
       "  d4: r1400/x24,\n",
       "  d5: 0,\n",
       "  a12: r1401,\n",
       "  a13: r1402,\n",
       "  a14: r1403,\n",
       "  a15: r1404,\n",
       "  a23: r1405,\n",
       "  a24: r1406,\n",
       "  a25: r1407,\n",
       "  a34: r1401/x13,\n",
       "  a35: r1408,\n",
       "  a45: r1409},\n",
       " {d1: 0,\n",
       "  d2: 0,\n",
       "  d3: 0,\n",
       "  d4: 0,\n",
       "  d5: 0,\n",
       "  a12: r1410,\n",
       "  a13: r1411,\n",
       "  a14: r1412,\n",
       "  a15: r1413,\n",
       "  a23: r1414,\n",
       "  a24: r1415,\n",
       "  a25: r1416,\n",
       "  a34: r1417,\n",
       "  a35: r1418,\n",
       "  a45: r1419},\n",
       " {d1: r1420,\n",
       "  d2: r1421,\n",
       "  d3: r1420/x13,\n",
       "  d4: r1421/x24,\n",
       "  d5: r1420/(x13*x35),\n",
       "  a12: r1422,\n",
       "  a13: r1423,\n",
       "  a14: r1424,\n",
       "  a15: r1425,\n",
       "  a23: r1426,\n",
       "  a24: r1427,\n",
       "  a25: r1428,\n",
       "  a34: r1422/x13,\n",
       "  a35: ((r1420 + r1423)*x13*x35 - r1420*x15)/(x13^2*x35),\n",
       "  a45: r1426/x24}]"
      ]
     },
     "metadata": {},
     "output_type": "display_data"
    },
    {
     "data": {
      "text/plain": [
       "\\left[\\left\\{d_{1} : r_{1390}, d_{2} : 0, d_{3} : \\frac{r_{1390}}{x_{13}}, d_{4} : 0, d_{5} : \\frac{r_{1390}}{x_{13} x_{35}}, a_{12} : r_{1391}, a_{13} : r_{1392}, a_{14} : r_{1393}, a_{15} : r_{1394}, a_{23} : r_{1395}, a_{24} : r_{1396}, a_{25} : r_{1397}, a_{34} : r_{1398}, a_{35} : r_{1399}, a_{45} : \\frac{r_{1395}}{x_{24}}\\right\\}, \\left\\{d_{1} : 0, d_{2} : r_{1400}, d_{3} : 0, d_{4} : \\frac{r_{1400}}{x_{24}}, d_{5} : 0, a_{12} : r_{1401}, a_{13} : r_{1402}, a_{14} : r_{1403}, a_{15} : r_{1404}, a_{23} : r_{1405}, a_{24} : r_{1406}, a_{25} : r_{1407}, a_{34} : \\frac{r_{1401}}{x_{13}}, a_{35} : r_{1408}, a_{45} : r_{1409}\\right\\}, \\left\\{d_{1} : 0, d_{2} : 0, d_{3} : 0, d_{4} : 0, d_{5} : 0, a_{12} : r_{1410}, a_{13} : r_{1411}, a_{14} : r_{1412}, a_{15} : r_{1413}, a_{23} : r_{1414}, a_{24} : r_{1415}, a_{25} : r_{1416}, a_{34} : r_{1417}, a_{35} : r_{1418}, a_{45} : r_{1419}\\right\\}, \\left\\{d_{1} : r_{1420}, d_{2} : r_{1421}, d_{3} : \\frac{r_{1420}}{x_{13}}, d_{4} : \\frac{r_{1421}}{x_{24}}, d_{5} : \\frac{r_{1420}}{x_{13} x_{35}}, a_{12} : r_{1422}, a_{13} : r_{1423}, a_{14} : r_{1424}, a_{15} : r_{1425}, a_{23} : r_{1426}, a_{24} : r_{1427}, a_{25} : r_{1428}, a_{34} : \\frac{r_{1422}}{x_{13}}, a_{35} : \\frac{{\\left(r_{1420} + r_{1423}\\right)} x_{13} x_{35} - r_{1420} x_{15}}{x_{13}^{2} x_{35}}, a_{45} : \\frac{r_{1426}}{x_{24}}\\right\\}\\right]"
      ]
     },
     "execution_count": 54,
     "metadata": {},
     "output_type": "execute_result"
    }
   ],
   "source": [
    "#x1\n",
    "reset()\n",
    "\n",
    "var('x12,x13,x14,x15,x23,x24,x25,x34,x35,x45')\n",
    "var('d1,d2,d3,d4,d5')\n",
    "var('a12,a13,a14,a15,a23,a24,a25,a34,a35,a45')\n",
    "\n",
    "load_attach_path('C:\\\\Users\\\\julia\\\\Documents\\\\unb\\\\doutorado\\\\pensar\\\\codigo_sage_v2\\\\maquina\\\\x1')\n",
    "\n",
    "load('out_#110101.sage')\n",
    "m=matrix(QQ, [[0, 0, 1, 0, 1],\n",
    "              [0, 0, 0, 1, 0],\n",
    "              [0, 0, 0, 0, 1],\n",
    "              [0, 0, 0, 0, 0],\n",
    "              [0, 0, 0, 0, 0]])\n",
    "        \n",
    "#entry of matrix: (i,j) line i collum j, means (i-1,j-1)\n",
    "sol=solve([ \teq1==m[0,2],\teq2==m[0,3],\teq3==m[0,4],\t\n",
    "                                            eq4==m[1,3],    eq5==m[1,4],\n",
    "                                                            eq6==m[2,4]],d1,d2,d3,d4,d5,a12,a13,a14,a15,a23,a24,a25,a34,a35,a45, solution_dict=True)\n",
    "\n",
    "show(m)\n",
    "show(sol)\n",
    "latex(sol)"
   ]
  },
  {
   "cell_type": "code",
   "execution_count": 55,
   "metadata": {},
   "outputs": [
    {
     "data": {
      "text/html": [
       "<html><script type=\"math/tex; mode=display\">\\newcommand{\\Bold}[1]{\\mathbf{#1}}\\left(\\begin{array}{rrrrr}\n",
       "0 & 0 & 1 & 1 & 0 \\\\\n",
       "0 & 0 & 0 & 1 & 0 \\\\\n",
       "0 & 0 & 0 & 0 & 1 \\\\\n",
       "0 & 0 & 0 & 0 & 0 \\\\\n",
       "0 & 0 & 0 & 0 & 0\n",
       "\\end{array}\\right)</script></html>"
      ],
      "text/latex": [
       "$$\\newcommand{\\Bold}[1]{\\mathbf{#1}}\\left(\\begin{array}{rrrrr}\n",
       "0 & 0 & 1 & 1 & 0 \\\\\n",
       "0 & 0 & 0 & 1 & 0 \\\\\n",
       "0 & 0 & 0 & 0 & 1 \\\\\n",
       "0 & 0 & 0 & 0 & 0 \\\\\n",
       "0 & 0 & 0 & 0 & 0\n",
       "\\end{array}\\right)$$"
      ],
      "text/plain": [
       "[0 0 1 1 0]\n",
       "[0 0 0 1 0]\n",
       "[0 0 0 0 1]\n",
       "[0 0 0 0 0]\n",
       "[0 0 0 0 0]"
      ]
     },
     "metadata": {},
     "output_type": "display_data"
    },
    {
     "data": {
      "text/html": [
       "<html><script type=\"math/tex; mode=display\">\\newcommand{\\Bold}[1]{\\mathbf{#1}}\\left[\\left\\{d_{1} : r_{1429}, d_{2} : 0, d_{3} : \\frac{r_{1429}}{x_{13}}, d_{4} : 0, d_{5} : \\frac{r_{1429}}{x_{13} x_{35}}, a_{12} : r_{1430}, a_{13} : r_{1431}, a_{14} : r_{1432}, a_{15} : r_{1433}, a_{23} : r_{1434}, a_{24} : r_{1435}, a_{25} : r_{1436}, a_{34} : r_{1437}, a_{35} : r_{1438}, a_{45} : \\frac{r_{1434}}{x_{24}}\\right\\}, \\left\\{d_{1} : 0, d_{2} : r_{1439}, d_{3} : 0, d_{4} : \\frac{r_{1439}}{x_{24}}, d_{5} : 0, a_{12} : r_{1440}, a_{13} : r_{1441}, a_{14} : r_{1442}, a_{15} : r_{1443}, a_{23} : r_{1444}, a_{24} : r_{1445}, a_{25} : r_{1446}, a_{34} : -\\frac{r_{1439} x_{14} - r_{1440} x_{24}}{x_{13} x_{24}}, a_{35} : r_{1447}, a_{45} : r_{1448}\\right\\}, \\left\\{d_{1} : 0, d_{2} : 0, d_{3} : 0, d_{4} : 0, d_{5} : 0, a_{12} : r_{1449}, a_{13} : r_{1450}, a_{14} : r_{1451}, a_{15} : r_{1452}, a_{23} : r_{1453}, a_{24} : r_{1454}, a_{25} : r_{1455}, a_{34} : r_{1456}, a_{35} : r_{1457}, a_{45} : r_{1458}\\right\\}, \\left\\{d_{1} : r_{1459}, d_{2} : r_{1460}, d_{3} : \\frac{r_{1459}}{x_{13}}, d_{4} : \\frac{r_{1460}}{x_{24}}, d_{5} : \\frac{r_{1459}}{x_{13} x_{35}}, a_{12} : r_{1461}, a_{13} : r_{1462}, a_{14} : r_{1463}, a_{15} : r_{1464}, a_{23} : r_{1465}, a_{24} : r_{1466}, a_{25} : r_{1467}, a_{34} : -\\frac{r_{1460} x_{14} - {\\left(r_{1459} + r_{1461}\\right)} x_{24}}{x_{13} x_{24}}, a_{35} : -\\frac{r_{1465} x_{14} - r_{1462} x_{24}}{x_{13} x_{24}}, a_{45} : \\frac{r_{1465}}{x_{24}}\\right\\}\\right]</script></html>"
      ],
      "text/latex": [
       "$$\\newcommand{\\Bold}[1]{\\mathbf{#1}}\\left[\\left\\{d_{1} : r_{1429}, d_{2} : 0, d_{3} : \\frac{r_{1429}}{x_{13}}, d_{4} : 0, d_{5} : \\frac{r_{1429}}{x_{13} x_{35}}, a_{12} : r_{1430}, a_{13} : r_{1431}, a_{14} : r_{1432}, a_{15} : r_{1433}, a_{23} : r_{1434}, a_{24} : r_{1435}, a_{25} : r_{1436}, a_{34} : r_{1437}, a_{35} : r_{1438}, a_{45} : \\frac{r_{1434}}{x_{24}}\\right\\}, \\left\\{d_{1} : 0, d_{2} : r_{1439}, d_{3} : 0, d_{4} : \\frac{r_{1439}}{x_{24}}, d_{5} : 0, a_{12} : r_{1440}, a_{13} : r_{1441}, a_{14} : r_{1442}, a_{15} : r_{1443}, a_{23} : r_{1444}, a_{24} : r_{1445}, a_{25} : r_{1446}, a_{34} : -\\frac{r_{1439} x_{14} - r_{1440} x_{24}}{x_{13} x_{24}}, a_{35} : r_{1447}, a_{45} : r_{1448}\\right\\}, \\left\\{d_{1} : 0, d_{2} : 0, d_{3} : 0, d_{4} : 0, d_{5} : 0, a_{12} : r_{1449}, a_{13} : r_{1450}, a_{14} : r_{1451}, a_{15} : r_{1452}, a_{23} : r_{1453}, a_{24} : r_{1454}, a_{25} : r_{1455}, a_{34} : r_{1456}, a_{35} : r_{1457}, a_{45} : r_{1458}\\right\\}, \\left\\{d_{1} : r_{1459}, d_{2} : r_{1460}, d_{3} : \\frac{r_{1459}}{x_{13}}, d_{4} : \\frac{r_{1460}}{x_{24}}, d_{5} : \\frac{r_{1459}}{x_{13} x_{35}}, a_{12} : r_{1461}, a_{13} : r_{1462}, a_{14} : r_{1463}, a_{15} : r_{1464}, a_{23} : r_{1465}, a_{24} : r_{1466}, a_{25} : r_{1467}, a_{34} : -\\frac{r_{1460} x_{14} - {\\left(r_{1459} + r_{1461}\\right)} x_{24}}{x_{13} x_{24}}, a_{35} : -\\frac{r_{1465} x_{14} - r_{1462} x_{24}}{x_{13} x_{24}}, a_{45} : \\frac{r_{1465}}{x_{24}}\\right\\}\\right]$$"
      ],
      "text/plain": [
       "[{d1: r1429,\n",
       "  d2: 0,\n",
       "  d3: r1429/x13,\n",
       "  d4: 0,\n",
       "  d5: r1429/(x13*x35),\n",
       "  a12: r1430,\n",
       "  a13: r1431,\n",
       "  a14: r1432,\n",
       "  a15: r1433,\n",
       "  a23: r1434,\n",
       "  a24: r1435,\n",
       "  a25: r1436,\n",
       "  a34: r1437,\n",
       "  a35: r1438,\n",
       "  a45: r1434/x24},\n",
       " {d1: 0,\n",
       "  d2: r1439,\n",
       "  d3: 0,\n",
       "  d4: r1439/x24,\n",
       "  d5: 0,\n",
       "  a12: r1440,\n",
       "  a13: r1441,\n",
       "  a14: r1442,\n",
       "  a15: r1443,\n",
       "  a23: r1444,\n",
       "  a24: r1445,\n",
       "  a25: r1446,\n",
       "  a34: -(r1439*x14 - r1440*x24)/(x13*x24),\n",
       "  a35: r1447,\n",
       "  a45: r1448},\n",
       " {d1: 0,\n",
       "  d2: 0,\n",
       "  d3: 0,\n",
       "  d4: 0,\n",
       "  d5: 0,\n",
       "  a12: r1449,\n",
       "  a13: r1450,\n",
       "  a14: r1451,\n",
       "  a15: r1452,\n",
       "  a23: r1453,\n",
       "  a24: r1454,\n",
       "  a25: r1455,\n",
       "  a34: r1456,\n",
       "  a35: r1457,\n",
       "  a45: r1458},\n",
       " {d1: r1459,\n",
       "  d2: r1460,\n",
       "  d3: r1459/x13,\n",
       "  d4: r1460/x24,\n",
       "  d5: r1459/(x13*x35),\n",
       "  a12: r1461,\n",
       "  a13: r1462,\n",
       "  a14: r1463,\n",
       "  a15: r1464,\n",
       "  a23: r1465,\n",
       "  a24: r1466,\n",
       "  a25: r1467,\n",
       "  a34: -(r1460*x14 - (r1459 + r1461)*x24)/(x13*x24),\n",
       "  a35: -(r1465*x14 - r1462*x24)/(x13*x24),\n",
       "  a45: r1465/x24}]"
      ]
     },
     "metadata": {},
     "output_type": "display_data"
    },
    {
     "data": {
      "text/plain": [
       "\\left[\\left\\{d_{1} : r_{1429}, d_{2} : 0, d_{3} : \\frac{r_{1429}}{x_{13}}, d_{4} : 0, d_{5} : \\frac{r_{1429}}{x_{13} x_{35}}, a_{12} : r_{1430}, a_{13} : r_{1431}, a_{14} : r_{1432}, a_{15} : r_{1433}, a_{23} : r_{1434}, a_{24} : r_{1435}, a_{25} : r_{1436}, a_{34} : r_{1437}, a_{35} : r_{1438}, a_{45} : \\frac{r_{1434}}{x_{24}}\\right\\}, \\left\\{d_{1} : 0, d_{2} : r_{1439}, d_{3} : 0, d_{4} : \\frac{r_{1439}}{x_{24}}, d_{5} : 0, a_{12} : r_{1440}, a_{13} : r_{1441}, a_{14} : r_{1442}, a_{15} : r_{1443}, a_{23} : r_{1444}, a_{24} : r_{1445}, a_{25} : r_{1446}, a_{34} : -\\frac{r_{1439} x_{14} - r_{1440} x_{24}}{x_{13} x_{24}}, a_{35} : r_{1447}, a_{45} : r_{1448}\\right\\}, \\left\\{d_{1} : 0, d_{2} : 0, d_{3} : 0, d_{4} : 0, d_{5} : 0, a_{12} : r_{1449}, a_{13} : r_{1450}, a_{14} : r_{1451}, a_{15} : r_{1452}, a_{23} : r_{1453}, a_{24} : r_{1454}, a_{25} : r_{1455}, a_{34} : r_{1456}, a_{35} : r_{1457}, a_{45} : r_{1458}\\right\\}, \\left\\{d_{1} : r_{1459}, d_{2} : r_{1460}, d_{3} : \\frac{r_{1459}}{x_{13}}, d_{4} : \\frac{r_{1460}}{x_{24}}, d_{5} : \\frac{r_{1459}}{x_{13} x_{35}}, a_{12} : r_{1461}, a_{13} : r_{1462}, a_{14} : r_{1463}, a_{15} : r_{1464}, a_{23} : r_{1465}, a_{24} : r_{1466}, a_{25} : r_{1467}, a_{34} : -\\frac{r_{1460} x_{14} - {\\left(r_{1459} + r_{1461}\\right)} x_{24}}{x_{13} x_{24}}, a_{35} : -\\frac{r_{1465} x_{14} - r_{1462} x_{24}}{x_{13} x_{24}}, a_{45} : \\frac{r_{1465}}{x_{24}}\\right\\}\\right]"
      ]
     },
     "execution_count": 55,
     "metadata": {},
     "output_type": "execute_result"
    }
   ],
   "source": [
    "#x1\n",
    "reset()\n",
    "\n",
    "var('x12,x13,x14,x15,x23,x24,x25,x34,x35,x45')\n",
    "var('d1,d2,d3,d4,d5')\n",
    "var('a12,a13,a14,a15,a23,a24,a25,a34,a35,a45')\n",
    "\n",
    "load_attach_path('C:\\\\Users\\\\julia\\\\Documents\\\\unb\\\\doutorado\\\\pensar\\\\codigo_sage_v2\\\\maquina\\\\x1')\n",
    "load('out_#110110.sage')\n",
    "\n",
    "m=matrix(QQ, [[0, 0, 1, 1, 0],\n",
    "              [0, 0, 0, 1, 0],\n",
    "              [0, 0, 0, 0, 1],\n",
    "              [0, 0, 0, 0, 0],\n",
    "              [0, 0, 0, 0, 0]])\n",
    "        \n",
    "#entry of matrix: (i,j) line i collum j, means (i-1,j-1)\n",
    "sol=solve([ \teq1==m[0,2],\teq2==m[0,3],\teq3==m[0,4],\t\n",
    "                                            eq4==m[1,3],    eq5==m[1,4],\n",
    "                                                            eq6==m[2,4]],d1,d2,d3,d4,d5,a12,a13,a14,a15,a23,a24,a25,a34,a35,a45, solution_dict=True)\n",
    "\n",
    "show(m)\n",
    "show(sol)\n",
    "latex(sol)"
   ]
  },
  {
   "cell_type": "code",
   "execution_count": 56,
   "metadata": {},
   "outputs": [
    {
     "data": {
      "text/html": [
       "<html><script type=\"math/tex; mode=display\">\\newcommand{\\Bold}[1]{\\mathbf{#1}}\\left(\\begin{array}{rrrrr}\n",
       "0 & 0 & 1 & 1 & 1 \\\\\n",
       "0 & 0 & 0 & 1 & 0 \\\\\n",
       "0 & 0 & 0 & 0 & 1 \\\\\n",
       "0 & 0 & 0 & 0 & 0 \\\\\n",
       "0 & 0 & 0 & 0 & 0\n",
       "\\end{array}\\right)</script></html>"
      ],
      "text/latex": [
       "$$\\newcommand{\\Bold}[1]{\\mathbf{#1}}\\left(\\begin{array}{rrrrr}\n",
       "0 & 0 & 1 & 1 & 1 \\\\\n",
       "0 & 0 & 0 & 1 & 0 \\\\\n",
       "0 & 0 & 0 & 0 & 1 \\\\\n",
       "0 & 0 & 0 & 0 & 0 \\\\\n",
       "0 & 0 & 0 & 0 & 0\n",
       "\\end{array}\\right)$$"
      ],
      "text/plain": [
       "[0 0 1 1 1]\n",
       "[0 0 0 1 0]\n",
       "[0 0 0 0 1]\n",
       "[0 0 0 0 0]\n",
       "[0 0 0 0 0]"
      ]
     },
     "metadata": {},
     "output_type": "display_data"
    },
    {
     "data": {
      "text/html": [
       "<html><script type=\"math/tex; mode=display\">\\newcommand{\\Bold}[1]{\\mathbf{#1}}\\left[\\left\\{d_{1} : r_{1468}, d_{2} : 0, d_{3} : \\frac{r_{1468}}{x_{13}}, d_{4} : 0, d_{5} : \\frac{r_{1468}}{x_{13} x_{35}}, a_{12} : r_{1469}, a_{13} : r_{1470}, a_{14} : r_{1471}, a_{15} : r_{1472}, a_{23} : r_{1473}, a_{24} : r_{1474}, a_{25} : r_{1475}, a_{34} : r_{1476}, a_{35} : r_{1477}, a_{45} : \\frac{r_{1473}}{x_{24}}\\right\\}, \\left\\{d_{1} : 0, d_{2} : r_{1478}, d_{3} : 0, d_{4} : \\frac{r_{1478}}{x_{24}}, d_{5} : 0, a_{12} : r_{1479}, a_{13} : r_{1480}, a_{14} : r_{1481}, a_{15} : r_{1482}, a_{23} : r_{1483}, a_{24} : r_{1484}, a_{25} : r_{1485}, a_{34} : -\\frac{r_{1478} x_{14} - r_{1479} x_{24}}{x_{13} x_{24}}, a_{35} : r_{1486}, a_{45} : r_{1487}\\right\\}, \\left\\{d_{1} : 0, d_{2} : 0, d_{3} : 0, d_{4} : 0, d_{5} : 0, a_{12} : r_{1488}, a_{13} : r_{1489}, a_{14} : r_{1490}, a_{15} : r_{1491}, a_{23} : r_{1492}, a_{24} : r_{1493}, a_{25} : r_{1494}, a_{34} : r_{1495}, a_{35} : r_{1496}, a_{45} : r_{1497}\\right\\}, \\left\\{d_{1} : r_{1498}, d_{2} : r_{1499}, d_{3} : \\frac{r_{1498}}{x_{13}}, d_{4} : \\frac{r_{1499}}{x_{24}}, d_{5} : \\frac{r_{1498}}{x_{13} x_{35}}, a_{12} : r_{1500}, a_{13} : r_{1501}, a_{14} : r_{1502}, a_{15} : r_{1503}, a_{23} : r_{1504}, a_{24} : r_{1505}, a_{25} : r_{1506}, a_{34} : -\\frac{r_{1499} x_{14} - {\\left(r_{1498} + r_{1500}\\right)} x_{24}}{x_{13} x_{24}}, a_{35} : -\\frac{r_{1498} x_{15} x_{24} + {\\left(r_{1504} x_{13} x_{14} - {\\left(r_{1498} + r_{1501}\\right)} x_{13} x_{24}\\right)} x_{35}}{x_{13}^{2} x_{24} x_{35}}, a_{45} : \\frac{r_{1504}}{x_{24}}\\right\\}\\right]</script></html>"
      ],
      "text/latex": [
       "$$\\newcommand{\\Bold}[1]{\\mathbf{#1}}\\left[\\left\\{d_{1} : r_{1468}, d_{2} : 0, d_{3} : \\frac{r_{1468}}{x_{13}}, d_{4} : 0, d_{5} : \\frac{r_{1468}}{x_{13} x_{35}}, a_{12} : r_{1469}, a_{13} : r_{1470}, a_{14} : r_{1471}, a_{15} : r_{1472}, a_{23} : r_{1473}, a_{24} : r_{1474}, a_{25} : r_{1475}, a_{34} : r_{1476}, a_{35} : r_{1477}, a_{45} : \\frac{r_{1473}}{x_{24}}\\right\\}, \\left\\{d_{1} : 0, d_{2} : r_{1478}, d_{3} : 0, d_{4} : \\frac{r_{1478}}{x_{24}}, d_{5} : 0, a_{12} : r_{1479}, a_{13} : r_{1480}, a_{14} : r_{1481}, a_{15} : r_{1482}, a_{23} : r_{1483}, a_{24} : r_{1484}, a_{25} : r_{1485}, a_{34} : -\\frac{r_{1478} x_{14} - r_{1479} x_{24}}{x_{13} x_{24}}, a_{35} : r_{1486}, a_{45} : r_{1487}\\right\\}, \\left\\{d_{1} : 0, d_{2} : 0, d_{3} : 0, d_{4} : 0, d_{5} : 0, a_{12} : r_{1488}, a_{13} : r_{1489}, a_{14} : r_{1490}, a_{15} : r_{1491}, a_{23} : r_{1492}, a_{24} : r_{1493}, a_{25} : r_{1494}, a_{34} : r_{1495}, a_{35} : r_{1496}, a_{45} : r_{1497}\\right\\}, \\left\\{d_{1} : r_{1498}, d_{2} : r_{1499}, d_{3} : \\frac{r_{1498}}{x_{13}}, d_{4} : \\frac{r_{1499}}{x_{24}}, d_{5} : \\frac{r_{1498}}{x_{13} x_{35}}, a_{12} : r_{1500}, a_{13} : r_{1501}, a_{14} : r_{1502}, a_{15} : r_{1503}, a_{23} : r_{1504}, a_{24} : r_{1505}, a_{25} : r_{1506}, a_{34} : -\\frac{r_{1499} x_{14} - {\\left(r_{1498} + r_{1500}\\right)} x_{24}}{x_{13} x_{24}}, a_{35} : -\\frac{r_{1498} x_{15} x_{24} + {\\left(r_{1504} x_{13} x_{14} - {\\left(r_{1498} + r_{1501}\\right)} x_{13} x_{24}\\right)} x_{35}}{x_{13}^{2} x_{24} x_{35}}, a_{45} : \\frac{r_{1504}}{x_{24}}\\right\\}\\right]$$"
      ],
      "text/plain": [
       "[{d1: r1468,\n",
       "  d2: 0,\n",
       "  d3: r1468/x13,\n",
       "  d4: 0,\n",
       "  d5: r1468/(x13*x35),\n",
       "  a12: r1469,\n",
       "  a13: r1470,\n",
       "  a14: r1471,\n",
       "  a15: r1472,\n",
       "  a23: r1473,\n",
       "  a24: r1474,\n",
       "  a25: r1475,\n",
       "  a34: r1476,\n",
       "  a35: r1477,\n",
       "  a45: r1473/x24},\n",
       " {d1: 0,\n",
       "  d2: r1478,\n",
       "  d3: 0,\n",
       "  d4: r1478/x24,\n",
       "  d5: 0,\n",
       "  a12: r1479,\n",
       "  a13: r1480,\n",
       "  a14: r1481,\n",
       "  a15: r1482,\n",
       "  a23: r1483,\n",
       "  a24: r1484,\n",
       "  a25: r1485,\n",
       "  a34: -(r1478*x14 - r1479*x24)/(x13*x24),\n",
       "  a35: r1486,\n",
       "  a45: r1487},\n",
       " {d1: 0,\n",
       "  d2: 0,\n",
       "  d3: 0,\n",
       "  d4: 0,\n",
       "  d5: 0,\n",
       "  a12: r1488,\n",
       "  a13: r1489,\n",
       "  a14: r1490,\n",
       "  a15: r1491,\n",
       "  a23: r1492,\n",
       "  a24: r1493,\n",
       "  a25: r1494,\n",
       "  a34: r1495,\n",
       "  a35: r1496,\n",
       "  a45: r1497},\n",
       " {d1: r1498,\n",
       "  d2: r1499,\n",
       "  d3: r1498/x13,\n",
       "  d4: r1499/x24,\n",
       "  d5: r1498/(x13*x35),\n",
       "  a12: r1500,\n",
       "  a13: r1501,\n",
       "  a14: r1502,\n",
       "  a15: r1503,\n",
       "  a23: r1504,\n",
       "  a24: r1505,\n",
       "  a25: r1506,\n",
       "  a34: -(r1499*x14 - (r1498 + r1500)*x24)/(x13*x24),\n",
       "  a35: -(r1498*x15*x24 + (r1504*x13*x14 - (r1498 + r1501)*x13*x24)*x35)/(x13^2*x24*x35),\n",
       "  a45: r1504/x24}]"
      ]
     },
     "metadata": {},
     "output_type": "display_data"
    },
    {
     "data": {
      "text/plain": [
       "\\left[\\left\\{d_{1} : r_{1468}, d_{2} : 0, d_{3} : \\frac{r_{1468}}{x_{13}}, d_{4} : 0, d_{5} : \\frac{r_{1468}}{x_{13} x_{35}}, a_{12} : r_{1469}, a_{13} : r_{1470}, a_{14} : r_{1471}, a_{15} : r_{1472}, a_{23} : r_{1473}, a_{24} : r_{1474}, a_{25} : r_{1475}, a_{34} : r_{1476}, a_{35} : r_{1477}, a_{45} : \\frac{r_{1473}}{x_{24}}\\right\\}, \\left\\{d_{1} : 0, d_{2} : r_{1478}, d_{3} : 0, d_{4} : \\frac{r_{1478}}{x_{24}}, d_{5} : 0, a_{12} : r_{1479}, a_{13} : r_{1480}, a_{14} : r_{1481}, a_{15} : r_{1482}, a_{23} : r_{1483}, a_{24} : r_{1484}, a_{25} : r_{1485}, a_{34} : -\\frac{r_{1478} x_{14} - r_{1479} x_{24}}{x_{13} x_{24}}, a_{35} : r_{1486}, a_{45} : r_{1487}\\right\\}, \\left\\{d_{1} : 0, d_{2} : 0, d_{3} : 0, d_{4} : 0, d_{5} : 0, a_{12} : r_{1488}, a_{13} : r_{1489}, a_{14} : r_{1490}, a_{15} : r_{1491}, a_{23} : r_{1492}, a_{24} : r_{1493}, a_{25} : r_{1494}, a_{34} : r_{1495}, a_{35} : r_{1496}, a_{45} : r_{1497}\\right\\}, \\left\\{d_{1} : r_{1498}, d_{2} : r_{1499}, d_{3} : \\frac{r_{1498}}{x_{13}}, d_{4} : \\frac{r_{1499}}{x_{24}}, d_{5} : \\frac{r_{1498}}{x_{13} x_{35}}, a_{12} : r_{1500}, a_{13} : r_{1501}, a_{14} : r_{1502}, a_{15} : r_{1503}, a_{23} : r_{1504}, a_{24} : r_{1505}, a_{25} : r_{1506}, a_{34} : -\\frac{r_{1499} x_{14} - {\\left(r_{1498} + r_{1500}\\right)} x_{24}}{x_{13} x_{24}}, a_{35} : -\\frac{r_{1498} x_{15} x_{24} + {\\left(r_{1504} x_{13} x_{14} - {\\left(r_{1498} + r_{1501}\\right)} x_{13} x_{24}\\right)} x_{35}}{x_{13}^{2} x_{24} x_{35}}, a_{45} : \\frac{r_{1504}}{x_{24}}\\right\\}\\right]"
      ]
     },
     "execution_count": 56,
     "metadata": {},
     "output_type": "execute_result"
    }
   ],
   "source": [
    "#x1\n",
    "reset()\n",
    "\n",
    "var('x12,x13,x14,x15,x23,x24,x25,x34,x35,x45')\n",
    "var('d1,d2,d3,d4,d5')\n",
    "var('a12,a13,a14,a15,a23,a24,a25,a34,a35,a45')\n",
    "\n",
    "load_attach_path('C:\\\\Users\\\\julia\\\\Documents\\\\unb\\\\doutorado\\\\pensar\\\\codigo_sage_v2\\\\maquina\\\\x1')\n",
    "load('out_#110111.sage')\n",
    "\n",
    "m=matrix(QQ, [[0, 0, 1, 1, 1],\n",
    "              [0, 0, 0, 1, 0],\n",
    "              [0, 0, 0, 0, 1],\n",
    "              [0, 0, 0, 0, 0],\n",
    "              [0, 0, 0, 0, 0]])\n",
    "        \n",
    "#entry of matrix: (i,j) line i collum j, means (i-1,j-1)\n",
    "sol=solve([ \teq1==m[0,2],\teq2==m[0,3],\teq3==m[0,4],\t\n",
    "                                            eq4==m[1,3],    eq5==m[1,4],\n",
    "                                                            eq6==m[2,4]],d1,d2,d3,d4,d5,a12,a13,a14,a15,a23,a24,a25,a34,a35,a45, solution_dict=True)\n",
    "\n",
    "show(m)\n",
    "show(sol)\n",
    "latex(sol)"
   ]
  },
  {
   "cell_type": "code",
   "execution_count": 57,
   "metadata": {},
   "outputs": [
    {
     "data": {
      "text/html": [
       "<html><script type=\"math/tex; mode=display\">\\newcommand{\\Bold}[1]{\\mathbf{#1}}\\left(\\begin{array}{rrrrr}\n",
       "0 & 0 & 0 & 0 & 0 \\\\\n",
       "0 & 0 & 0 & 1 & 1 \\\\\n",
       "0 & 0 & 0 & 0 & 1 \\\\\n",
       "0 & 0 & 0 & 0 & 0 \\\\\n",
       "0 & 0 & 0 & 0 & 0\n",
       "\\end{array}\\right)</script></html>"
      ],
      "text/latex": [
       "$$\\newcommand{\\Bold}[1]{\\mathbf{#1}}\\left(\\begin{array}{rrrrr}\n",
       "0 & 0 & 0 & 0 & 0 \\\\\n",
       "0 & 0 & 0 & 1 & 1 \\\\\n",
       "0 & 0 & 0 & 0 & 1 \\\\\n",
       "0 & 0 & 0 & 0 & 0 \\\\\n",
       "0 & 0 & 0 & 0 & 0\n",
       "\\end{array}\\right)$$"
      ],
      "text/plain": [
       "[0 0 0 0 0]\n",
       "[0 0 0 1 1]\n",
       "[0 0 0 0 1]\n",
       "[0 0 0 0 0]\n",
       "[0 0 0 0 0]"
      ]
     },
     "metadata": {},
     "output_type": "display_data"
    },
    {
     "data": {
      "text/html": [
       "<html><script type=\"math/tex; mode=display\">\\newcommand{\\Bold}[1]{\\mathbf{#1}}\\left[\\left\\{d_{1} : r_{1507}, d_{2} : r_{1508}, d_{3} : 0, d_{4} : \\frac{r_{1508}}{x_{24}}, d_{5} : 0, a_{12} : 0, a_{13} : r_{1509}, a_{14} : r_{1510}, a_{15} : r_{1511}, a_{23} : r_{1512}, a_{24} : r_{1513}, a_{25} : r_{1514}, a_{34} : r_{1515}, a_{35} : r_{1516}, a_{45} : r_{1517}\\right\\}, \\left\\{d_{1} : r_{1518}, d_{2} : 0, d_{3} : r_{1519}, d_{4} : 0, d_{5} : \\frac{r_{1519}}{x_{35}}, a_{12} : r_{1520}, a_{13} : r_{1521}, a_{14} : r_{1522}, a_{15} : r_{1523}, a_{23} : r_{1524}, a_{24} : r_{1525}, a_{25} : r_{1526}, a_{34} : r_{1527}, a_{35} : r_{1528}, a_{45} : -\\frac{r_{1519} x_{25} - r_{1524} x_{35}}{x_{24} x_{35}}\\right\\}, \\left\\{d_{1} : r_{1529}, d_{2} : 0, d_{3} : 0, d_{4} : 0, d_{5} : 0, a_{12} : r_{1530}, a_{13} : r_{1531}, a_{14} : r_{1532}, a_{15} : r_{1533}, a_{23} : r_{1534}, a_{24} : r_{1535}, a_{25} : r_{1536}, a_{34} : r_{1537}, a_{35} : r_{1538}, a_{45} : r_{1539}\\right\\}, \\left\\{d_{1} : r_{1540}, d_{2} : r_{1541}, d_{3} : r_{1542}, d_{4} : \\frac{r_{1541}}{x_{24}}, d_{5} : \\frac{r_{1542}}{x_{35}}, a_{12} : 0, a_{13} : 0, a_{14} : r_{1543}, a_{15} : r_{1544}, a_{23} : r_{1545}, a_{24} : r_{1546}, a_{25} : r_{1547}, a_{34} : r_{1548}, a_{35} : r_{1549}, a_{45} : -\\frac{r_{1542} x_{25} - {\\left(r_{1541} + r_{1545}\\right)} x_{35}}{x_{24} x_{35}}\\right\\}\\right]</script></html>"
      ],
      "text/latex": [
       "$$\\newcommand{\\Bold}[1]{\\mathbf{#1}}\\left[\\left\\{d_{1} : r_{1507}, d_{2} : r_{1508}, d_{3} : 0, d_{4} : \\frac{r_{1508}}{x_{24}}, d_{5} : 0, a_{12} : 0, a_{13} : r_{1509}, a_{14} : r_{1510}, a_{15} : r_{1511}, a_{23} : r_{1512}, a_{24} : r_{1513}, a_{25} : r_{1514}, a_{34} : r_{1515}, a_{35} : r_{1516}, a_{45} : r_{1517}\\right\\}, \\left\\{d_{1} : r_{1518}, d_{2} : 0, d_{3} : r_{1519}, d_{4} : 0, d_{5} : \\frac{r_{1519}}{x_{35}}, a_{12} : r_{1520}, a_{13} : r_{1521}, a_{14} : r_{1522}, a_{15} : r_{1523}, a_{23} : r_{1524}, a_{24} : r_{1525}, a_{25} : r_{1526}, a_{34} : r_{1527}, a_{35} : r_{1528}, a_{45} : -\\frac{r_{1519} x_{25} - r_{1524} x_{35}}{x_{24} x_{35}}\\right\\}, \\left\\{d_{1} : r_{1529}, d_{2} : 0, d_{3} : 0, d_{4} : 0, d_{5} : 0, a_{12} : r_{1530}, a_{13} : r_{1531}, a_{14} : r_{1532}, a_{15} : r_{1533}, a_{23} : r_{1534}, a_{24} : r_{1535}, a_{25} : r_{1536}, a_{34} : r_{1537}, a_{35} : r_{1538}, a_{45} : r_{1539}\\right\\}, \\left\\{d_{1} : r_{1540}, d_{2} : r_{1541}, d_{3} : r_{1542}, d_{4} : \\frac{r_{1541}}{x_{24}}, d_{5} : \\frac{r_{1542}}{x_{35}}, a_{12} : 0, a_{13} : 0, a_{14} : r_{1543}, a_{15} : r_{1544}, a_{23} : r_{1545}, a_{24} : r_{1546}, a_{25} : r_{1547}, a_{34} : r_{1548}, a_{35} : r_{1549}, a_{45} : -\\frac{r_{1542} x_{25} - {\\left(r_{1541} + r_{1545}\\right)} x_{35}}{x_{24} x_{35}}\\right\\}\\right]$$"
      ],
      "text/plain": [
       "[{d1: r1507,\n",
       "  d2: r1508,\n",
       "  d3: 0,\n",
       "  d4: r1508/x24,\n",
       "  d5: 0,\n",
       "  a12: 0,\n",
       "  a13: r1509,\n",
       "  a14: r1510,\n",
       "  a15: r1511,\n",
       "  a23: r1512,\n",
       "  a24: r1513,\n",
       "  a25: r1514,\n",
       "  a34: r1515,\n",
       "  a35: r1516,\n",
       "  a45: r1517},\n",
       " {d1: r1518,\n",
       "  d2: 0,\n",
       "  d3: r1519,\n",
       "  d4: 0,\n",
       "  d5: r1519/x35,\n",
       "  a12: r1520,\n",
       "  a13: r1521,\n",
       "  a14: r1522,\n",
       "  a15: r1523,\n",
       "  a23: r1524,\n",
       "  a24: r1525,\n",
       "  a25: r1526,\n",
       "  a34: r1527,\n",
       "  a35: r1528,\n",
       "  a45: -(r1519*x25 - r1524*x35)/(x24*x35)},\n",
       " {d1: r1529,\n",
       "  d2: 0,\n",
       "  d3: 0,\n",
       "  d4: 0,\n",
       "  d5: 0,\n",
       "  a12: r1530,\n",
       "  a13: r1531,\n",
       "  a14: r1532,\n",
       "  a15: r1533,\n",
       "  a23: r1534,\n",
       "  a24: r1535,\n",
       "  a25: r1536,\n",
       "  a34: r1537,\n",
       "  a35: r1538,\n",
       "  a45: r1539},\n",
       " {d1: r1540,\n",
       "  d2: r1541,\n",
       "  d3: r1542,\n",
       "  d4: r1541/x24,\n",
       "  d5: r1542/x35,\n",
       "  a12: 0,\n",
       "  a13: 0,\n",
       "  a14: r1543,\n",
       "  a15: r1544,\n",
       "  a23: r1545,\n",
       "  a24: r1546,\n",
       "  a25: r1547,\n",
       "  a34: r1548,\n",
       "  a35: r1549,\n",
       "  a45: -(r1542*x25 - (r1541 + r1545)*x35)/(x24*x35)}]"
      ]
     },
     "metadata": {},
     "output_type": "display_data"
    },
    {
     "data": {
      "text/plain": [
       "\\left[\\left\\{d_{1} : r_{1507}, d_{2} : r_{1508}, d_{3} : 0, d_{4} : \\frac{r_{1508}}{x_{24}}, d_{5} : 0, a_{12} : 0, a_{13} : r_{1509}, a_{14} : r_{1510}, a_{15} : r_{1511}, a_{23} : r_{1512}, a_{24} : r_{1513}, a_{25} : r_{1514}, a_{34} : r_{1515}, a_{35} : r_{1516}, a_{45} : r_{1517}\\right\\}, \\left\\{d_{1} : r_{1518}, d_{2} : 0, d_{3} : r_{1519}, d_{4} : 0, d_{5} : \\frac{r_{1519}}{x_{35}}, a_{12} : r_{1520}, a_{13} : r_{1521}, a_{14} : r_{1522}, a_{15} : r_{1523}, a_{23} : r_{1524}, a_{24} : r_{1525}, a_{25} : r_{1526}, a_{34} : r_{1527}, a_{35} : r_{1528}, a_{45} : -\\frac{r_{1519} x_{25} - r_{1524} x_{35}}{x_{24} x_{35}}\\right\\}, \\left\\{d_{1} : r_{1529}, d_{2} : 0, d_{3} : 0, d_{4} : 0, d_{5} : 0, a_{12} : r_{1530}, a_{13} : r_{1531}, a_{14} : r_{1532}, a_{15} : r_{1533}, a_{23} : r_{1534}, a_{24} : r_{1535}, a_{25} : r_{1536}, a_{34} : r_{1537}, a_{35} : r_{1538}, a_{45} : r_{1539}\\right\\}, \\left\\{d_{1} : r_{1540}, d_{2} : r_{1541}, d_{3} : r_{1542}, d_{4} : \\frac{r_{1541}}{x_{24}}, d_{5} : \\frac{r_{1542}}{x_{35}}, a_{12} : 0, a_{13} : 0, a_{14} : r_{1543}, a_{15} : r_{1544}, a_{23} : r_{1545}, a_{24} : r_{1546}, a_{25} : r_{1547}, a_{34} : r_{1548}, a_{35} : r_{1549}, a_{45} : -\\frac{r_{1542} x_{25} - {\\left(r_{1541} + r_{1545}\\right)} x_{35}}{x_{24} x_{35}}\\right\\}\\right]"
      ]
     },
     "execution_count": 57,
     "metadata": {},
     "output_type": "execute_result"
    }
   ],
   "source": [
    "#x1\n",
    "reset()\n",
    "\n",
    "var('x12,x13,x14,x15,x23,x24,x25,x34,x35,x45')\n",
    "var('d1,d2,d3,d4,d5')\n",
    "var('a12,a13,a14,a15,a23,a24,a25,a34,a35,a45')\n",
    "\n",
    "load_attach_path('C:\\\\Users\\\\julia\\\\Documents\\\\unb\\\\doutorado\\\\pensar\\\\codigo_sage_v2\\\\maquina\\\\x1')\n",
    "load('out_#111000.sage')\n",
    "\n",
    "m=matrix(QQ, [[0, 0, 0, 0, 0],\n",
    "              [0, 0, 0, 1, 1],\n",
    "              [0, 0, 0, 0, 1],\n",
    "              [0, 0, 0, 0, 0],\n",
    "              [0, 0, 0, 0, 0]])\n",
    "        \n",
    "#entry of matrix: (i,j) line i collum j, means (i-1,j-1)\n",
    "sol=solve([ \teq1==m[0,2],\teq2==m[0,3],\teq3==m[0,4],\t\n",
    "                                            eq4==m[1,3],    eq5==m[1,4],\n",
    "                                                            eq6==m[2,4]],d1,d2,d3,d4,d5,a12,a13,a14,a15,a23,a24,a25,a34,a35,a45, solution_dict=True)\n",
    "\n",
    "show(m)\n",
    "show(sol)\n",
    "latex(sol)"
   ]
  },
  {
   "cell_type": "code",
   "execution_count": 58,
   "metadata": {},
   "outputs": [
    {
     "data": {
      "text/html": [
       "<html><script type=\"math/tex; mode=display\">\\newcommand{\\Bold}[1]{\\mathbf{#1}}\\left(\\begin{array}{rrrrr}\n",
       "0 & 0 & 0 & 0 & 0 \\\\\n",
       "0 & 0 & 0 & 1 & 1 \\\\\n",
       "0 & 0 & 0 & 0 & 1 \\\\\n",
       "0 & 0 & 0 & 0 & 0 \\\\\n",
       "0 & 0 & 0 & 0 & 0\n",
       "\\end{array}\\right)</script></html>"
      ],
      "text/latex": [
       "$$\\newcommand{\\Bold}[1]{\\mathbf{#1}}\\left(\\begin{array}{rrrrr}\n",
       "0 & 0 & 0 & 0 & 0 \\\\\n",
       "0 & 0 & 0 & 1 & 1 \\\\\n",
       "0 & 0 & 0 & 0 & 1 \\\\\n",
       "0 & 0 & 0 & 0 & 0 \\\\\n",
       "0 & 0 & 0 & 0 & 0\n",
       "\\end{array}\\right)$$"
      ],
      "text/plain": [
       "[0 0 0 0 0]\n",
       "[0 0 0 1 1]\n",
       "[0 0 0 0 1]\n",
       "[0 0 0 0 0]\n",
       "[0 0 0 0 0]"
      ]
     },
     "metadata": {},
     "output_type": "display_data"
    },
    {
     "data": {
      "text/html": [
       "<html><script type=\"math/tex; mode=display\">\\newcommand{\\Bold}[1]{\\mathbf{#1}}\\left[\\left\\{d_{1} : r_{1550}, d_{2} : r_{1551}, d_{3} : 0, d_{4} : \\frac{r_{1551}}{x_{24}}, d_{5} : 0, a_{12} : 0, a_{13} : r_{1552}, a_{14} : r_{1553}, a_{15} : r_{1554}, a_{23} : r_{1555}, a_{24} : r_{1556}, a_{25} : r_{1557}, a_{34} : r_{1558}, a_{35} : r_{1559}, a_{45} : r_{1560}\\right\\}, \\left\\{d_{1} : r_{1561}, d_{2} : 0, d_{3} : r_{1562}, d_{4} : 0, d_{5} : \\frac{r_{1562}}{x_{35}}, a_{12} : r_{1563}, a_{13} : r_{1564}, a_{14} : r_{1565}, a_{15} : r_{1566}, a_{23} : r_{1567}, a_{24} : r_{1568}, a_{25} : r_{1569}, a_{34} : r_{1570}, a_{35} : r_{1571}, a_{45} : -\\frac{r_{1562} x_{25} - r_{1567} x_{35}}{x_{24} x_{35}}\\right\\}, \\left\\{d_{1} : r_{1572}, d_{2} : 0, d_{3} : 0, d_{4} : 0, d_{5} : 0, a_{12} : r_{1573}, a_{13} : r_{1574}, a_{14} : r_{1575}, a_{15} : r_{1576}, a_{23} : r_{1577}, a_{24} : r_{1578}, a_{25} : r_{1579}, a_{34} : r_{1580}, a_{35} : r_{1581}, a_{45} : r_{1582}\\right\\}, \\left\\{d_{1} : r_{1583}, d_{2} : r_{1584}, d_{3} : r_{1585}, d_{4} : \\frac{r_{1584}}{x_{24}}, d_{5} : \\frac{r_{1585}}{x_{35}}, a_{12} : 0, a_{13} : \\frac{r_{1585} x_{15}}{x_{35}}, a_{14} : r_{1586}, a_{15} : r_{1587}, a_{23} : r_{1588}, a_{24} : r_{1589}, a_{25} : r_{1590}, a_{34} : r_{1591}, a_{35} : r_{1592}, a_{45} : -\\frac{r_{1585} x_{25} - {\\left(r_{1584} + r_{1588}\\right)} x_{35}}{x_{24} x_{35}}\\right\\}\\right]</script></html>"
      ],
      "text/latex": [
       "$$\\newcommand{\\Bold}[1]{\\mathbf{#1}}\\left[\\left\\{d_{1} : r_{1550}, d_{2} : r_{1551}, d_{3} : 0, d_{4} : \\frac{r_{1551}}{x_{24}}, d_{5} : 0, a_{12} : 0, a_{13} : r_{1552}, a_{14} : r_{1553}, a_{15} : r_{1554}, a_{23} : r_{1555}, a_{24} : r_{1556}, a_{25} : r_{1557}, a_{34} : r_{1558}, a_{35} : r_{1559}, a_{45} : r_{1560}\\right\\}, \\left\\{d_{1} : r_{1561}, d_{2} : 0, d_{3} : r_{1562}, d_{4} : 0, d_{5} : \\frac{r_{1562}}{x_{35}}, a_{12} : r_{1563}, a_{13} : r_{1564}, a_{14} : r_{1565}, a_{15} : r_{1566}, a_{23} : r_{1567}, a_{24} : r_{1568}, a_{25} : r_{1569}, a_{34} : r_{1570}, a_{35} : r_{1571}, a_{45} : -\\frac{r_{1562} x_{25} - r_{1567} x_{35}}{x_{24} x_{35}}\\right\\}, \\left\\{d_{1} : r_{1572}, d_{2} : 0, d_{3} : 0, d_{4} : 0, d_{5} : 0, a_{12} : r_{1573}, a_{13} : r_{1574}, a_{14} : r_{1575}, a_{15} : r_{1576}, a_{23} : r_{1577}, a_{24} : r_{1578}, a_{25} : r_{1579}, a_{34} : r_{1580}, a_{35} : r_{1581}, a_{45} : r_{1582}\\right\\}, \\left\\{d_{1} : r_{1583}, d_{2} : r_{1584}, d_{3} : r_{1585}, d_{4} : \\frac{r_{1584}}{x_{24}}, d_{5} : \\frac{r_{1585}}{x_{35}}, a_{12} : 0, a_{13} : \\frac{r_{1585} x_{15}}{x_{35}}, a_{14} : r_{1586}, a_{15} : r_{1587}, a_{23} : r_{1588}, a_{24} : r_{1589}, a_{25} : r_{1590}, a_{34} : r_{1591}, a_{35} : r_{1592}, a_{45} : -\\frac{r_{1585} x_{25} - {\\left(r_{1584} + r_{1588}\\right)} x_{35}}{x_{24} x_{35}}\\right\\}\\right]$$"
      ],
      "text/plain": [
       "[{d1: r1550,\n",
       "  d2: r1551,\n",
       "  d3: 0,\n",
       "  d4: r1551/x24,\n",
       "  d5: 0,\n",
       "  a12: 0,\n",
       "  a13: r1552,\n",
       "  a14: r1553,\n",
       "  a15: r1554,\n",
       "  a23: r1555,\n",
       "  a24: r1556,\n",
       "  a25: r1557,\n",
       "  a34: r1558,\n",
       "  a35: r1559,\n",
       "  a45: r1560},\n",
       " {d1: r1561,\n",
       "  d2: 0,\n",
       "  d3: r1562,\n",
       "  d4: 0,\n",
       "  d5: r1562/x35,\n",
       "  a12: r1563,\n",
       "  a13: r1564,\n",
       "  a14: r1565,\n",
       "  a15: r1566,\n",
       "  a23: r1567,\n",
       "  a24: r1568,\n",
       "  a25: r1569,\n",
       "  a34: r1570,\n",
       "  a35: r1571,\n",
       "  a45: -(r1562*x25 - r1567*x35)/(x24*x35)},\n",
       " {d1: r1572,\n",
       "  d2: 0,\n",
       "  d3: 0,\n",
       "  d4: 0,\n",
       "  d5: 0,\n",
       "  a12: r1573,\n",
       "  a13: r1574,\n",
       "  a14: r1575,\n",
       "  a15: r1576,\n",
       "  a23: r1577,\n",
       "  a24: r1578,\n",
       "  a25: r1579,\n",
       "  a34: r1580,\n",
       "  a35: r1581,\n",
       "  a45: r1582},\n",
       " {d1: r1583,\n",
       "  d2: r1584,\n",
       "  d3: r1585,\n",
       "  d4: r1584/x24,\n",
       "  d5: r1585/x35,\n",
       "  a12: 0,\n",
       "  a13: r1585*x15/x35,\n",
       "  a14: r1586,\n",
       "  a15: r1587,\n",
       "  a23: r1588,\n",
       "  a24: r1589,\n",
       "  a25: r1590,\n",
       "  a34: r1591,\n",
       "  a35: r1592,\n",
       "  a45: -(r1585*x25 - (r1584 + r1588)*x35)/(x24*x35)}]"
      ]
     },
     "metadata": {},
     "output_type": "display_data"
    },
    {
     "data": {
      "text/plain": [
       "\\left[\\left\\{d_{1} : r_{1550}, d_{2} : r_{1551}, d_{3} : 0, d_{4} : \\frac{r_{1551}}{x_{24}}, d_{5} : 0, a_{12} : 0, a_{13} : r_{1552}, a_{14} : r_{1553}, a_{15} : r_{1554}, a_{23} : r_{1555}, a_{24} : r_{1556}, a_{25} : r_{1557}, a_{34} : r_{1558}, a_{35} : r_{1559}, a_{45} : r_{1560}\\right\\}, \\left\\{d_{1} : r_{1561}, d_{2} : 0, d_{3} : r_{1562}, d_{4} : 0, d_{5} : \\frac{r_{1562}}{x_{35}}, a_{12} : r_{1563}, a_{13} : r_{1564}, a_{14} : r_{1565}, a_{15} : r_{1566}, a_{23} : r_{1567}, a_{24} : r_{1568}, a_{25} : r_{1569}, a_{34} : r_{1570}, a_{35} : r_{1571}, a_{45} : -\\frac{r_{1562} x_{25} - r_{1567} x_{35}}{x_{24} x_{35}}\\right\\}, \\left\\{d_{1} : r_{1572}, d_{2} : 0, d_{3} : 0, d_{4} : 0, d_{5} : 0, a_{12} : r_{1573}, a_{13} : r_{1574}, a_{14} : r_{1575}, a_{15} : r_{1576}, a_{23} : r_{1577}, a_{24} : r_{1578}, a_{25} : r_{1579}, a_{34} : r_{1580}, a_{35} : r_{1581}, a_{45} : r_{1582}\\right\\}, \\left\\{d_{1} : r_{1583}, d_{2} : r_{1584}, d_{3} : r_{1585}, d_{4} : \\frac{r_{1584}}{x_{24}}, d_{5} : \\frac{r_{1585}}{x_{35}}, a_{12} : 0, a_{13} : \\frac{r_{1585} x_{15}}{x_{35}}, a_{14} : r_{1586}, a_{15} : r_{1587}, a_{23} : r_{1588}, a_{24} : r_{1589}, a_{25} : r_{1590}, a_{34} : r_{1591}, a_{35} : r_{1592}, a_{45} : -\\frac{r_{1585} x_{25} - {\\left(r_{1584} + r_{1588}\\right)} x_{35}}{x_{24} x_{35}}\\right\\}\\right]"
      ]
     },
     "execution_count": 58,
     "metadata": {},
     "output_type": "execute_result"
    }
   ],
   "source": [
    "#x1\n",
    "reset()\n",
    "\n",
    "var('x12,x13,x14,x15,x23,x24,x25,x34,x35,x45')\n",
    "var('d1,d2,d3,d4,d5')\n",
    "var('a12,a13,a14,a15,a23,a24,a25,a34,a35,a45')\n",
    "\n",
    "load_attach_path('C:\\\\Users\\\\julia\\\\Documents\\\\unb\\\\doutorado\\\\pensar\\\\codigo_sage_v2\\\\maquina\\\\x1')\n",
    "load('out_#111001.sage')\n",
    "\n",
    "m=matrix(QQ, [[0, 0, 0, 0, 0],\n",
    "              [0, 0, 0, 1, 1],\n",
    "              [0, 0, 0, 0, 1],\n",
    "              [0, 0, 0, 0, 0],\n",
    "              [0, 0, 0, 0, 0]])\n",
    "        \n",
    "#entry of matrix: (i,j) line i collum j, means (i-1,j-1)\n",
    "sol=solve([ \teq1==m[0,2],\teq2==m[0,3],\teq3==m[0,4],\t\n",
    "                                            eq4==m[1,3],    eq5==m[1,4],\n",
    "                                                            eq6==m[2,4]],d1,d2,d3,d4,d5,a12,a13,a14,a15,a23,a24,a25,a34,a35,a45, solution_dict=True)\n",
    "\n",
    "show(m)\n",
    "show(sol)\n",
    "latex(sol)"
   ]
  },
  {
   "cell_type": "code",
   "execution_count": 59,
   "metadata": {},
   "outputs": [
    {
     "data": {
      "text/html": [
       "<html><script type=\"math/tex; mode=display\">\\newcommand{\\Bold}[1]{\\mathbf{#1}}\\left(\\begin{array}{rrrrr}\n",
       "0 & 0 & 0 & 1 & 0 \\\\\n",
       "0 & 0 & 0 & 1 & 1 \\\\\n",
       "0 & 0 & 0 & 0 & 1 \\\\\n",
       "0 & 0 & 0 & 0 & 0 \\\\\n",
       "0 & 0 & 0 & 0 & 0\n",
       "\\end{array}\\right)</script></html>"
      ],
      "text/latex": [
       "$$\\newcommand{\\Bold}[1]{\\mathbf{#1}}\\left(\\begin{array}{rrrrr}\n",
       "0 & 0 & 0 & 1 & 0 \\\\\n",
       "0 & 0 & 0 & 1 & 1 \\\\\n",
       "0 & 0 & 0 & 0 & 1 \\\\\n",
       "0 & 0 & 0 & 0 & 0 \\\\\n",
       "0 & 0 & 0 & 0 & 0\n",
       "\\end{array}\\right)$$"
      ],
      "text/plain": [
       "[0 0 0 1 0]\n",
       "[0 0 0 1 1]\n",
       "[0 0 0 0 1]\n",
       "[0 0 0 0 0]\n",
       "[0 0 0 0 0]"
      ]
     },
     "metadata": {},
     "output_type": "display_data"
    },
    {
     "data": {
      "text/html": [
       "<html><script type=\"math/tex; mode=display\">\\newcommand{\\Bold}[1]{\\mathbf{#1}}\\left[\\left\\{d_{1} : r_{1593}, d_{2} : r_{1594}, d_{3} : 0, d_{4} : \\frac{r_{1594}}{x_{24}}, d_{5} : 0, a_{12} : \\frac{r_{1594} x_{14} - r_{1593} x_{24}}{x_{24}}, a_{13} : r_{1595}, a_{14} : r_{1596}, a_{15} : r_{1597}, a_{23} : r_{1598}, a_{24} : r_{1599}, a_{25} : r_{1600}, a_{34} : r_{1601}, a_{35} : r_{1602}, a_{45} : r_{1603}\\right\\}, \\left\\{d_{1} : r_{1604}, d_{2} : 0, d_{3} : r_{1605}, d_{4} : 0, d_{5} : \\frac{r_{1605}}{x_{35}}, a_{12} : r_{1606}, a_{13} : r_{1607}, a_{14} : r_{1608}, a_{15} : r_{1609}, a_{23} : r_{1610}, a_{24} : r_{1611}, a_{25} : r_{1612}, a_{34} : r_{1613}, a_{35} : r_{1614}, a_{45} : -\\frac{r_{1605} x_{25} - r_{1610} x_{35}}{x_{24} x_{35}}\\right\\}, \\left\\{d_{1} : r_{1615}, d_{2} : 0, d_{3} : 0, d_{4} : 0, d_{5} : 0, a_{12} : r_{1616}, a_{13} : r_{1617}, a_{14} : r_{1618}, a_{15} : r_{1619}, a_{23} : r_{1620}, a_{24} : r_{1621}, a_{25} : r_{1622}, a_{34} : r_{1623}, a_{35} : r_{1624}, a_{45} : r_{1625}\\right\\}, \\left\\{d_{1} : r_{1626}, d_{2} : r_{1627}, d_{3} : r_{1628}, d_{4} : \\frac{r_{1627}}{x_{24}}, d_{5} : \\frac{r_{1628}}{x_{35}}, a_{12} : \\frac{r_{1627} x_{14} - r_{1626} x_{24}}{x_{24}}, a_{13} : r_{1629}, a_{14} : r_{1630}, a_{15} : r_{1631}, a_{23} : \\frac{r_{1628} x_{14} x_{25} - {\\left(r_{1626} - r_{1629}\\right)} x_{24} x_{35}}{x_{14} x_{35}}, a_{24} : r_{1632}, a_{25} : r_{1633}, a_{34} : r_{1634}, a_{35} : r_{1635}, a_{45} : \\frac{r_{1627} x_{14} - {\\left(r_{1626} - r_{1629}\\right)} x_{24}}{x_{14} x_{24}}\\right\\}\\right]</script></html>"
      ],
      "text/latex": [
       "$$\\newcommand{\\Bold}[1]{\\mathbf{#1}}\\left[\\left\\{d_{1} : r_{1593}, d_{2} : r_{1594}, d_{3} : 0, d_{4} : \\frac{r_{1594}}{x_{24}}, d_{5} : 0, a_{12} : \\frac{r_{1594} x_{14} - r_{1593} x_{24}}{x_{24}}, a_{13} : r_{1595}, a_{14} : r_{1596}, a_{15} : r_{1597}, a_{23} : r_{1598}, a_{24} : r_{1599}, a_{25} : r_{1600}, a_{34} : r_{1601}, a_{35} : r_{1602}, a_{45} : r_{1603}\\right\\}, \\left\\{d_{1} : r_{1604}, d_{2} : 0, d_{3} : r_{1605}, d_{4} : 0, d_{5} : \\frac{r_{1605}}{x_{35}}, a_{12} : r_{1606}, a_{13} : r_{1607}, a_{14} : r_{1608}, a_{15} : r_{1609}, a_{23} : r_{1610}, a_{24} : r_{1611}, a_{25} : r_{1612}, a_{34} : r_{1613}, a_{35} : r_{1614}, a_{45} : -\\frac{r_{1605} x_{25} - r_{1610} x_{35}}{x_{24} x_{35}}\\right\\}, \\left\\{d_{1} : r_{1615}, d_{2} : 0, d_{3} : 0, d_{4} : 0, d_{5} : 0, a_{12} : r_{1616}, a_{13} : r_{1617}, a_{14} : r_{1618}, a_{15} : r_{1619}, a_{23} : r_{1620}, a_{24} : r_{1621}, a_{25} : r_{1622}, a_{34} : r_{1623}, a_{35} : r_{1624}, a_{45} : r_{1625}\\right\\}, \\left\\{d_{1} : r_{1626}, d_{2} : r_{1627}, d_{3} : r_{1628}, d_{4} : \\frac{r_{1627}}{x_{24}}, d_{5} : \\frac{r_{1628}}{x_{35}}, a_{12} : \\frac{r_{1627} x_{14} - r_{1626} x_{24}}{x_{24}}, a_{13} : r_{1629}, a_{14} : r_{1630}, a_{15} : r_{1631}, a_{23} : \\frac{r_{1628} x_{14} x_{25} - {\\left(r_{1626} - r_{1629}\\right)} x_{24} x_{35}}{x_{14} x_{35}}, a_{24} : r_{1632}, a_{25} : r_{1633}, a_{34} : r_{1634}, a_{35} : r_{1635}, a_{45} : \\frac{r_{1627} x_{14} - {\\left(r_{1626} - r_{1629}\\right)} x_{24}}{x_{14} x_{24}}\\right\\}\\right]$$"
      ],
      "text/plain": [
       "[{d1: r1593,\n",
       "  d2: r1594,\n",
       "  d3: 0,\n",
       "  d4: r1594/x24,\n",
       "  d5: 0,\n",
       "  a12: (r1594*x14 - r1593*x24)/x24,\n",
       "  a13: r1595,\n",
       "  a14: r1596,\n",
       "  a15: r1597,\n",
       "  a23: r1598,\n",
       "  a24: r1599,\n",
       "  a25: r1600,\n",
       "  a34: r1601,\n",
       "  a35: r1602,\n",
       "  a45: r1603},\n",
       " {d1: r1604,\n",
       "  d2: 0,\n",
       "  d3: r1605,\n",
       "  d4: 0,\n",
       "  d5: r1605/x35,\n",
       "  a12: r1606,\n",
       "  a13: r1607,\n",
       "  a14: r1608,\n",
       "  a15: r1609,\n",
       "  a23: r1610,\n",
       "  a24: r1611,\n",
       "  a25: r1612,\n",
       "  a34: r1613,\n",
       "  a35: r1614,\n",
       "  a45: -(r1605*x25 - r1610*x35)/(x24*x35)},\n",
       " {d1: r1615,\n",
       "  d2: 0,\n",
       "  d3: 0,\n",
       "  d4: 0,\n",
       "  d5: 0,\n",
       "  a12: r1616,\n",
       "  a13: r1617,\n",
       "  a14: r1618,\n",
       "  a15: r1619,\n",
       "  a23: r1620,\n",
       "  a24: r1621,\n",
       "  a25: r1622,\n",
       "  a34: r1623,\n",
       "  a35: r1624,\n",
       "  a45: r1625},\n",
       " {d1: r1626,\n",
       "  d2: r1627,\n",
       "  d3: r1628,\n",
       "  d4: r1627/x24,\n",
       "  d5: r1628/x35,\n",
       "  a12: (r1627*x14 - r1626*x24)/x24,\n",
       "  a13: r1629,\n",
       "  a14: r1630,\n",
       "  a15: r1631,\n",
       "  a23: (r1628*x14*x25 - (r1626 - r1629)*x24*x35)/(x14*x35),\n",
       "  a24: r1632,\n",
       "  a25: r1633,\n",
       "  a34: r1634,\n",
       "  a35: r1635,\n",
       "  a45: (r1627*x14 - (r1626 - r1629)*x24)/(x14*x24)}]"
      ]
     },
     "metadata": {},
     "output_type": "display_data"
    },
    {
     "data": {
      "text/plain": [
       "\\left[\\left\\{d_{1} : r_{1593}, d_{2} : r_{1594}, d_{3} : 0, d_{4} : \\frac{r_{1594}}{x_{24}}, d_{5} : 0, a_{12} : \\frac{r_{1594} x_{14} - r_{1593} x_{24}}{x_{24}}, a_{13} : r_{1595}, a_{14} : r_{1596}, a_{15} : r_{1597}, a_{23} : r_{1598}, a_{24} : r_{1599}, a_{25} : r_{1600}, a_{34} : r_{1601}, a_{35} : r_{1602}, a_{45} : r_{1603}\\right\\}, \\left\\{d_{1} : r_{1604}, d_{2} : 0, d_{3} : r_{1605}, d_{4} : 0, d_{5} : \\frac{r_{1605}}{x_{35}}, a_{12} : r_{1606}, a_{13} : r_{1607}, a_{14} : r_{1608}, a_{15} : r_{1609}, a_{23} : r_{1610}, a_{24} : r_{1611}, a_{25} : r_{1612}, a_{34} : r_{1613}, a_{35} : r_{1614}, a_{45} : -\\frac{r_{1605} x_{25} - r_{1610} x_{35}}{x_{24} x_{35}}\\right\\}, \\left\\{d_{1} : r_{1615}, d_{2} : 0, d_{3} : 0, d_{4} : 0, d_{5} : 0, a_{12} : r_{1616}, a_{13} : r_{1617}, a_{14} : r_{1618}, a_{15} : r_{1619}, a_{23} : r_{1620}, a_{24} : r_{1621}, a_{25} : r_{1622}, a_{34} : r_{1623}, a_{35} : r_{1624}, a_{45} : r_{1625}\\right\\}, \\left\\{d_{1} : r_{1626}, d_{2} : r_{1627}, d_{3} : r_{1628}, d_{4} : \\frac{r_{1627}}{x_{24}}, d_{5} : \\frac{r_{1628}}{x_{35}}, a_{12} : \\frac{r_{1627} x_{14} - r_{1626} x_{24}}{x_{24}}, a_{13} : r_{1629}, a_{14} : r_{1630}, a_{15} : r_{1631}, a_{23} : \\frac{r_{1628} x_{14} x_{25} - {\\left(r_{1626} - r_{1629}\\right)} x_{24} x_{35}}{x_{14} x_{35}}, a_{24} : r_{1632}, a_{25} : r_{1633}, a_{34} : r_{1634}, a_{35} : r_{1635}, a_{45} : \\frac{r_{1627} x_{14} - {\\left(r_{1626} - r_{1629}\\right)} x_{24}}{x_{14} x_{24}}\\right\\}\\right]"
      ]
     },
     "execution_count": 59,
     "metadata": {},
     "output_type": "execute_result"
    }
   ],
   "source": [
    "#x1\n",
    "reset()\n",
    "\n",
    "var('x12,x13,x14,x15,x23,x24,x25,x34,x35,x45')\n",
    "var('d1,d2,d3,d4,d5')\n",
    "var('a12,a13,a14,a15,a23,a24,a25,a34,a35,a45')\n",
    "\n",
    "load_attach_path('C:\\\\Users\\\\julia\\\\Documents\\\\unb\\\\doutorado\\\\pensar\\\\codigo_sage_v2\\\\maquina\\\\x1')\n",
    "load('out_#111010.sage')\n",
    "\n",
    "m=matrix(QQ, [[0, 0, 0, 1, 0],\n",
    "              [0, 0, 0, 1, 1],\n",
    "              [0, 0, 0, 0, 1],\n",
    "              [0, 0, 0, 0, 0],\n",
    "              [0, 0, 0, 0, 0]])\n",
    "        \n",
    "#entry of matrix: (i,j) line i collum j, means (i-1,j-1)\n",
    "sol=solve([ \teq1==m[0,2],\teq2==m[0,3],\teq3==m[0,4],\t\n",
    "                                            eq4==m[1,3],    eq5==m[1,4],\n",
    "                                                            eq6==m[2,4]],d1,d2,d3,d4,d5,a12,a13,a14,a15,a23,a24,a25,a34,a35,a45, solution_dict=True)\n",
    "\n",
    "show(m)\n",
    "show(sol)\n",
    "latex(sol)"
   ]
  },
  {
   "cell_type": "code",
   "execution_count": 60,
   "metadata": {},
   "outputs": [
    {
     "data": {
      "text/html": [
       "<html><script type=\"math/tex; mode=display\">\\newcommand{\\Bold}[1]{\\mathbf{#1}}\\left(\\begin{array}{rrrrr}\n",
       "0 & 0 & 0 & 1 & 1 \\\\\n",
       "0 & 0 & 0 & 1 & 1 \\\\\n",
       "0 & 0 & 0 & 0 & 1 \\\\\n",
       "0 & 0 & 0 & 0 & 0 \\\\\n",
       "0 & 0 & 0 & 0 & 0\n",
       "\\end{array}\\right)</script></html>"
      ],
      "text/latex": [
       "$$\\newcommand{\\Bold}[1]{\\mathbf{#1}}\\left(\\begin{array}{rrrrr}\n",
       "0 & 0 & 0 & 1 & 1 \\\\\n",
       "0 & 0 & 0 & 1 & 1 \\\\\n",
       "0 & 0 & 0 & 0 & 1 \\\\\n",
       "0 & 0 & 0 & 0 & 0 \\\\\n",
       "0 & 0 & 0 & 0 & 0\n",
       "\\end{array}\\right)$$"
      ],
      "text/plain": [
       "[0 0 0 1 1]\n",
       "[0 0 0 1 1]\n",
       "[0 0 0 0 1]\n",
       "[0 0 0 0 0]\n",
       "[0 0 0 0 0]"
      ]
     },
     "metadata": {},
     "output_type": "display_data"
    },
    {
     "data": {
      "text/html": [
       "<html><script type=\"math/tex; mode=display\">\\newcommand{\\Bold}[1]{\\mathbf{#1}}\\left[\\left\\{d_{1} : r_{1636}, d_{2} : r_{1637}, d_{3} : 0, d_{4} : \\frac{r_{1637}}{x_{24}}, d_{5} : 0, a_{12} : \\frac{r_{1637} x_{14} - r_{1636} x_{24}}{x_{24}}, a_{13} : r_{1638}, a_{14} : r_{1639}, a_{15} : r_{1640}, a_{23} : r_{1641}, a_{24} : r_{1642}, a_{25} : r_{1643}, a_{34} : r_{1644}, a_{35} : r_{1645}, a_{45} : r_{1646}\\right\\}, \\left\\{d_{1} : r_{1647}, d_{2} : 0, d_{3} : r_{1648}, d_{4} : 0, d_{5} : \\frac{r_{1648}}{x_{35}}, a_{12} : r_{1649}, a_{13} : r_{1650}, a_{14} : r_{1651}, a_{15} : r_{1652}, a_{23} : r_{1653}, a_{24} : r_{1654}, a_{25} : r_{1655}, a_{34} : r_{1656}, a_{35} : r_{1657}, a_{45} : -\\frac{r_{1648} x_{25} - r_{1653} x_{35}}{x_{24} x_{35}}\\right\\}, \\left\\{d_{1} : r_{1658}, d_{2} : 0, d_{3} : 0, d_{4} : 0, d_{5} : 0, a_{12} : r_{1659}, a_{13} : r_{1660}, a_{14} : r_{1661}, a_{15} : r_{1662}, a_{23} : r_{1663}, a_{24} : r_{1664}, a_{25} : r_{1665}, a_{34} : r_{1666}, a_{35} : r_{1667}, a_{45} : r_{1668}\\right\\}, \\left\\{d_{1} : r_{1669}, d_{2} : r_{1670}, d_{3} : r_{1671}, d_{4} : \\frac{r_{1670}}{x_{24}}, d_{5} : \\frac{r_{1671}}{x_{35}}, a_{12} : \\frac{r_{1670} x_{14} - r_{1669} x_{24}}{x_{24}}, a_{13} : r_{1672}, a_{14} : r_{1673}, a_{15} : r_{1674}, a_{23} : -\\frac{r_{1671} x_{15} x_{24} - r_{1671} x_{14} x_{25} - r_{1672} x_{24} x_{35}}{x_{14} x_{35}}, a_{24} : r_{1675}, a_{25} : r_{1676}, a_{34} : r_{1677}, a_{35} : r_{1678}, a_{45} : -\\frac{r_{1671} x_{15} x_{24} - {\\left(r_{1670} x_{14} + r_{1672} x_{24}\\right)} x_{35}}{x_{14} x_{24} x_{35}}\\right\\}\\right]</script></html>"
      ],
      "text/latex": [
       "$$\\newcommand{\\Bold}[1]{\\mathbf{#1}}\\left[\\left\\{d_{1} : r_{1636}, d_{2} : r_{1637}, d_{3} : 0, d_{4} : \\frac{r_{1637}}{x_{24}}, d_{5} : 0, a_{12} : \\frac{r_{1637} x_{14} - r_{1636} x_{24}}{x_{24}}, a_{13} : r_{1638}, a_{14} : r_{1639}, a_{15} : r_{1640}, a_{23} : r_{1641}, a_{24} : r_{1642}, a_{25} : r_{1643}, a_{34} : r_{1644}, a_{35} : r_{1645}, a_{45} : r_{1646}\\right\\}, \\left\\{d_{1} : r_{1647}, d_{2} : 0, d_{3} : r_{1648}, d_{4} : 0, d_{5} : \\frac{r_{1648}}{x_{35}}, a_{12} : r_{1649}, a_{13} : r_{1650}, a_{14} : r_{1651}, a_{15} : r_{1652}, a_{23} : r_{1653}, a_{24} : r_{1654}, a_{25} : r_{1655}, a_{34} : r_{1656}, a_{35} : r_{1657}, a_{45} : -\\frac{r_{1648} x_{25} - r_{1653} x_{35}}{x_{24} x_{35}}\\right\\}, \\left\\{d_{1} : r_{1658}, d_{2} : 0, d_{3} : 0, d_{4} : 0, d_{5} : 0, a_{12} : r_{1659}, a_{13} : r_{1660}, a_{14} : r_{1661}, a_{15} : r_{1662}, a_{23} : r_{1663}, a_{24} : r_{1664}, a_{25} : r_{1665}, a_{34} : r_{1666}, a_{35} : r_{1667}, a_{45} : r_{1668}\\right\\}, \\left\\{d_{1} : r_{1669}, d_{2} : r_{1670}, d_{3} : r_{1671}, d_{4} : \\frac{r_{1670}}{x_{24}}, d_{5} : \\frac{r_{1671}}{x_{35}}, a_{12} : \\frac{r_{1670} x_{14} - r_{1669} x_{24}}{x_{24}}, a_{13} : r_{1672}, a_{14} : r_{1673}, a_{15} : r_{1674}, a_{23} : -\\frac{r_{1671} x_{15} x_{24} - r_{1671} x_{14} x_{25} - r_{1672} x_{24} x_{35}}{x_{14} x_{35}}, a_{24} : r_{1675}, a_{25} : r_{1676}, a_{34} : r_{1677}, a_{35} : r_{1678}, a_{45} : -\\frac{r_{1671} x_{15} x_{24} - {\\left(r_{1670} x_{14} + r_{1672} x_{24}\\right)} x_{35}}{x_{14} x_{24} x_{35}}\\right\\}\\right]$$"
      ],
      "text/plain": [
       "[{d1: r1636,\n",
       "  d2: r1637,\n",
       "  d3: 0,\n",
       "  d4: r1637/x24,\n",
       "  d5: 0,\n",
       "  a12: (r1637*x14 - r1636*x24)/x24,\n",
       "  a13: r1638,\n",
       "  a14: r1639,\n",
       "  a15: r1640,\n",
       "  a23: r1641,\n",
       "  a24: r1642,\n",
       "  a25: r1643,\n",
       "  a34: r1644,\n",
       "  a35: r1645,\n",
       "  a45: r1646},\n",
       " {d1: r1647,\n",
       "  d2: 0,\n",
       "  d3: r1648,\n",
       "  d4: 0,\n",
       "  d5: r1648/x35,\n",
       "  a12: r1649,\n",
       "  a13: r1650,\n",
       "  a14: r1651,\n",
       "  a15: r1652,\n",
       "  a23: r1653,\n",
       "  a24: r1654,\n",
       "  a25: r1655,\n",
       "  a34: r1656,\n",
       "  a35: r1657,\n",
       "  a45: -(r1648*x25 - r1653*x35)/(x24*x35)},\n",
       " {d1: r1658,\n",
       "  d2: 0,\n",
       "  d3: 0,\n",
       "  d4: 0,\n",
       "  d5: 0,\n",
       "  a12: r1659,\n",
       "  a13: r1660,\n",
       "  a14: r1661,\n",
       "  a15: r1662,\n",
       "  a23: r1663,\n",
       "  a24: r1664,\n",
       "  a25: r1665,\n",
       "  a34: r1666,\n",
       "  a35: r1667,\n",
       "  a45: r1668},\n",
       " {d1: r1669,\n",
       "  d2: r1670,\n",
       "  d3: r1671,\n",
       "  d4: r1670/x24,\n",
       "  d5: r1671/x35,\n",
       "  a12: (r1670*x14 - r1669*x24)/x24,\n",
       "  a13: r1672,\n",
       "  a14: r1673,\n",
       "  a15: r1674,\n",
       "  a23: -(r1671*x15*x24 - r1671*x14*x25 - r1672*x24*x35)/(x14*x35),\n",
       "  a24: r1675,\n",
       "  a25: r1676,\n",
       "  a34: r1677,\n",
       "  a35: r1678,\n",
       "  a45: -(r1671*x15*x24 - (r1670*x14 + r1672*x24)*x35)/(x14*x24*x35)}]"
      ]
     },
     "metadata": {},
     "output_type": "display_data"
    },
    {
     "data": {
      "text/plain": [
       "\\left[\\left\\{d_{1} : r_{1636}, d_{2} : r_{1637}, d_{3} : 0, d_{4} : \\frac{r_{1637}}{x_{24}}, d_{5} : 0, a_{12} : \\frac{r_{1637} x_{14} - r_{1636} x_{24}}{x_{24}}, a_{13} : r_{1638}, a_{14} : r_{1639}, a_{15} : r_{1640}, a_{23} : r_{1641}, a_{24} : r_{1642}, a_{25} : r_{1643}, a_{34} : r_{1644}, a_{35} : r_{1645}, a_{45} : r_{1646}\\right\\}, \\left\\{d_{1} : r_{1647}, d_{2} : 0, d_{3} : r_{1648}, d_{4} : 0, d_{5} : \\frac{r_{1648}}{x_{35}}, a_{12} : r_{1649}, a_{13} : r_{1650}, a_{14} : r_{1651}, a_{15} : r_{1652}, a_{23} : r_{1653}, a_{24} : r_{1654}, a_{25} : r_{1655}, a_{34} : r_{1656}, a_{35} : r_{1657}, a_{45} : -\\frac{r_{1648} x_{25} - r_{1653} x_{35}}{x_{24} x_{35}}\\right\\}, \\left\\{d_{1} : r_{1658}, d_{2} : 0, d_{3} : 0, d_{4} : 0, d_{5} : 0, a_{12} : r_{1659}, a_{13} : r_{1660}, a_{14} : r_{1661}, a_{15} : r_{1662}, a_{23} : r_{1663}, a_{24} : r_{1664}, a_{25} : r_{1665}, a_{34} : r_{1666}, a_{35} : r_{1667}, a_{45} : r_{1668}\\right\\}, \\left\\{d_{1} : r_{1669}, d_{2} : r_{1670}, d_{3} : r_{1671}, d_{4} : \\frac{r_{1670}}{x_{24}}, d_{5} : \\frac{r_{1671}}{x_{35}}, a_{12} : \\frac{r_{1670} x_{14} - r_{1669} x_{24}}{x_{24}}, a_{13} : r_{1672}, a_{14} : r_{1673}, a_{15} : r_{1674}, a_{23} : -\\frac{r_{1671} x_{15} x_{24} - r_{1671} x_{14} x_{25} - r_{1672} x_{24} x_{35}}{x_{14} x_{35}}, a_{24} : r_{1675}, a_{25} : r_{1676}, a_{34} : r_{1677}, a_{35} : r_{1678}, a_{45} : -\\frac{r_{1671} x_{15} x_{24} - {\\left(r_{1670} x_{14} + r_{1672} x_{24}\\right)} x_{35}}{x_{14} x_{24} x_{35}}\\right\\}\\right]"
      ]
     },
     "execution_count": 60,
     "metadata": {},
     "output_type": "execute_result"
    }
   ],
   "source": [
    "#x1\n",
    "reset()\n",
    "\n",
    "var('x12,x13,x14,x15,x23,x24,x25,x34,x35,x45')\n",
    "var('d1,d2,d3,d4,d5')\n",
    "var('a12,a13,a14,a15,a23,a24,a25,a34,a35,a45')\n",
    "\n",
    "load_attach_path('C:\\\\Users\\\\julia\\\\Documents\\\\unb\\\\doutorado\\\\pensar\\\\codigo_sage_v2\\\\maquina\\\\x1')\n",
    "load('out_#111011.sage')\n",
    "\n",
    "m=matrix(QQ, [[0, 0, 0, 1, 1],\n",
    "              [0, 0, 0, 1, 1],\n",
    "              [0, 0, 0, 0, 1],\n",
    "              [0, 0, 0, 0, 0],\n",
    "              [0, 0, 0, 0, 0]])\n",
    "        \n",
    "#entry of matrix: (i,j) line i collum j, means (i-1,j-1)\n",
    "sol=solve([ \teq1==m[0,2],\teq2==m[0,3],\teq3==m[0,4],\t\n",
    "                                            eq4==m[1,3],    eq5==m[1,4],\n",
    "                                                            eq6==m[2,4]],d1,d2,d3,d4,d5,a12,a13,a14,a15,a23,a24,a25,a34,a35,a45, solution_dict=True)\n",
    "\n",
    "show(m)\n",
    "show(sol)\n",
    "latex(sol)"
   ]
  },
  {
   "cell_type": "code",
   "execution_count": 61,
   "metadata": {},
   "outputs": [
    {
     "data": {
      "text/html": [
       "<html><script type=\"math/tex; mode=display\">\\newcommand{\\Bold}[1]{\\mathbf{#1}}\\left(\\begin{array}{rrrrr}\n",
       "0 & 0 & 1 & 0 & 0 \\\\\n",
       "0 & 0 & 0 & 1 & 1 \\\\\n",
       "0 & 0 & 0 & 0 & 1 \\\\\n",
       "0 & 0 & 0 & 0 & 0 \\\\\n",
       "0 & 0 & 0 & 0 & 0\n",
       "\\end{array}\\right)</script></html>"
      ],
      "text/latex": [
       "$$\\newcommand{\\Bold}[1]{\\mathbf{#1}}\\left(\\begin{array}{rrrrr}\n",
       "0 & 0 & 1 & 0 & 0 \\\\\n",
       "0 & 0 & 0 & 1 & 1 \\\\\n",
       "0 & 0 & 0 & 0 & 1 \\\\\n",
       "0 & 0 & 0 & 0 & 0 \\\\\n",
       "0 & 0 & 0 & 0 & 0\n",
       "\\end{array}\\right)$$"
      ],
      "text/plain": [
       "[0 0 1 0 0]\n",
       "[0 0 0 1 1]\n",
       "[0 0 0 0 1]\n",
       "[0 0 0 0 0]\n",
       "[0 0 0 0 0]"
      ]
     },
     "metadata": {},
     "output_type": "display_data"
    },
    {
     "data": {
      "text/html": [
       "<html><script type=\"math/tex; mode=display\">\\newcommand{\\Bold}[1]{\\mathbf{#1}}\\left[\\left\\{d_{1} : r_{1679}, d_{2} : 0, d_{3} : \\frac{r_{1679}}{x_{13}}, d_{4} : 0, d_{5} : \\frac{r_{1679}}{x_{13} x_{35}}, a_{12} : r_{1680}, a_{13} : r_{1681}, a_{14} : r_{1682}, a_{15} : r_{1683}, a_{23} : r_{1684}, a_{24} : r_{1685}, a_{25} : r_{1686}, a_{34} : r_{1687}, a_{35} : r_{1688}, a_{45} : \\frac{r_{1684} x_{13} x_{35} - r_{1679} x_{25}}{x_{13} x_{24} x_{35}}\\right\\}, \\left\\{d_{1} : 0, d_{2} : r_{1689}, d_{3} : 0, d_{4} : \\frac{r_{1689}}{x_{24}}, d_{5} : 0, a_{12} : r_{1690}, a_{13} : r_{1691}, a_{14} : r_{1692}, a_{15} : r_{1693}, a_{23} : r_{1694}, a_{24} : r_{1695}, a_{25} : r_{1696}, a_{34} : \\frac{r_{1690}}{x_{13}}, a_{35} : r_{1697}, a_{45} : r_{1698}\\right\\}, \\left\\{d_{1} : 0, d_{2} : 0, d_{3} : 0, d_{4} : 0, d_{5} : 0, a_{12} : r_{1699}, a_{13} : r_{1700}, a_{14} : r_{1701}, a_{15} : r_{1702}, a_{23} : r_{1703}, a_{24} : r_{1704}, a_{25} : r_{1705}, a_{34} : r_{1706}, a_{35} : r_{1707}, a_{45} : r_{1708}\\right\\}, \\left\\{d_{1} : r_{1709}, d_{2} : r_{1710}, d_{3} : \\frac{r_{1709}}{x_{13}}, d_{4} : \\frac{r_{1710}}{x_{24}}, d_{5} : \\frac{r_{1709}}{x_{13} x_{35}}, a_{12} : r_{1711}, a_{13} : r_{1712}, a_{14} : r_{1713}, a_{15} : r_{1714}, a_{23} : r_{1715}, a_{24} : r_{1716}, a_{25} : r_{1717}, a_{34} : \\frac{r_{1711}}{x_{13}}, a_{35} : \\frac{r_{1711} + r_{1712}}{x_{13}}, a_{45} : \\frac{{\\left(r_{1710} + r_{1715}\\right)} x_{13} x_{35} - r_{1709} x_{25}}{x_{13} x_{24} x_{35}}\\right\\}\\right]</script></html>"
      ],
      "text/latex": [
       "$$\\newcommand{\\Bold}[1]{\\mathbf{#1}}\\left[\\left\\{d_{1} : r_{1679}, d_{2} : 0, d_{3} : \\frac{r_{1679}}{x_{13}}, d_{4} : 0, d_{5} : \\frac{r_{1679}}{x_{13} x_{35}}, a_{12} : r_{1680}, a_{13} : r_{1681}, a_{14} : r_{1682}, a_{15} : r_{1683}, a_{23} : r_{1684}, a_{24} : r_{1685}, a_{25} : r_{1686}, a_{34} : r_{1687}, a_{35} : r_{1688}, a_{45} : \\frac{r_{1684} x_{13} x_{35} - r_{1679} x_{25}}{x_{13} x_{24} x_{35}}\\right\\}, \\left\\{d_{1} : 0, d_{2} : r_{1689}, d_{3} : 0, d_{4} : \\frac{r_{1689}}{x_{24}}, d_{5} : 0, a_{12} : r_{1690}, a_{13} : r_{1691}, a_{14} : r_{1692}, a_{15} : r_{1693}, a_{23} : r_{1694}, a_{24} : r_{1695}, a_{25} : r_{1696}, a_{34} : \\frac{r_{1690}}{x_{13}}, a_{35} : r_{1697}, a_{45} : r_{1698}\\right\\}, \\left\\{d_{1} : 0, d_{2} : 0, d_{3} : 0, d_{4} : 0, d_{5} : 0, a_{12} : r_{1699}, a_{13} : r_{1700}, a_{14} : r_{1701}, a_{15} : r_{1702}, a_{23} : r_{1703}, a_{24} : r_{1704}, a_{25} : r_{1705}, a_{34} : r_{1706}, a_{35} : r_{1707}, a_{45} : r_{1708}\\right\\}, \\left\\{d_{1} : r_{1709}, d_{2} : r_{1710}, d_{3} : \\frac{r_{1709}}{x_{13}}, d_{4} : \\frac{r_{1710}}{x_{24}}, d_{5} : \\frac{r_{1709}}{x_{13} x_{35}}, a_{12} : r_{1711}, a_{13} : r_{1712}, a_{14} : r_{1713}, a_{15} : r_{1714}, a_{23} : r_{1715}, a_{24} : r_{1716}, a_{25} : r_{1717}, a_{34} : \\frac{r_{1711}}{x_{13}}, a_{35} : \\frac{r_{1711} + r_{1712}}{x_{13}}, a_{45} : \\frac{{\\left(r_{1710} + r_{1715}\\right)} x_{13} x_{35} - r_{1709} x_{25}}{x_{13} x_{24} x_{35}}\\right\\}\\right]$$"
      ],
      "text/plain": [
       "[{d1: r1679,\n",
       "  d2: 0,\n",
       "  d3: r1679/x13,\n",
       "  d4: 0,\n",
       "  d5: r1679/(x13*x35),\n",
       "  a12: r1680,\n",
       "  a13: r1681,\n",
       "  a14: r1682,\n",
       "  a15: r1683,\n",
       "  a23: r1684,\n",
       "  a24: r1685,\n",
       "  a25: r1686,\n",
       "  a34: r1687,\n",
       "  a35: r1688,\n",
       "  a45: (r1684*x13*x35 - r1679*x25)/(x13*x24*x35)},\n",
       " {d1: 0,\n",
       "  d2: r1689,\n",
       "  d3: 0,\n",
       "  d4: r1689/x24,\n",
       "  d5: 0,\n",
       "  a12: r1690,\n",
       "  a13: r1691,\n",
       "  a14: r1692,\n",
       "  a15: r1693,\n",
       "  a23: r1694,\n",
       "  a24: r1695,\n",
       "  a25: r1696,\n",
       "  a34: r1690/x13,\n",
       "  a35: r1697,\n",
       "  a45: r1698},\n",
       " {d1: 0,\n",
       "  d2: 0,\n",
       "  d3: 0,\n",
       "  d4: 0,\n",
       "  d5: 0,\n",
       "  a12: r1699,\n",
       "  a13: r1700,\n",
       "  a14: r1701,\n",
       "  a15: r1702,\n",
       "  a23: r1703,\n",
       "  a24: r1704,\n",
       "  a25: r1705,\n",
       "  a34: r1706,\n",
       "  a35: r1707,\n",
       "  a45: r1708},\n",
       " {d1: r1709,\n",
       "  d2: r1710,\n",
       "  d3: r1709/x13,\n",
       "  d4: r1710/x24,\n",
       "  d5: r1709/(x13*x35),\n",
       "  a12: r1711,\n",
       "  a13: r1712,\n",
       "  a14: r1713,\n",
       "  a15: r1714,\n",
       "  a23: r1715,\n",
       "  a24: r1716,\n",
       "  a25: r1717,\n",
       "  a34: r1711/x13,\n",
       "  a35: (r1711 + r1712)/x13,\n",
       "  a45: ((r1710 + r1715)*x13*x35 - r1709*x25)/(x13*x24*x35)}]"
      ]
     },
     "metadata": {},
     "output_type": "display_data"
    },
    {
     "data": {
      "text/plain": [
       "\\left[\\left\\{d_{1} : r_{1679}, d_{2} : 0, d_{3} : \\frac{r_{1679}}{x_{13}}, d_{4} : 0, d_{5} : \\frac{r_{1679}}{x_{13} x_{35}}, a_{12} : r_{1680}, a_{13} : r_{1681}, a_{14} : r_{1682}, a_{15} : r_{1683}, a_{23} : r_{1684}, a_{24} : r_{1685}, a_{25} : r_{1686}, a_{34} : r_{1687}, a_{35} : r_{1688}, a_{45} : \\frac{r_{1684} x_{13} x_{35} - r_{1679} x_{25}}{x_{13} x_{24} x_{35}}\\right\\}, \\left\\{d_{1} : 0, d_{2} : r_{1689}, d_{3} : 0, d_{4} : \\frac{r_{1689}}{x_{24}}, d_{5} : 0, a_{12} : r_{1690}, a_{13} : r_{1691}, a_{14} : r_{1692}, a_{15} : r_{1693}, a_{23} : r_{1694}, a_{24} : r_{1695}, a_{25} : r_{1696}, a_{34} : \\frac{r_{1690}}{x_{13}}, a_{35} : r_{1697}, a_{45} : r_{1698}\\right\\}, \\left\\{d_{1} : 0, d_{2} : 0, d_{3} : 0, d_{4} : 0, d_{5} : 0, a_{12} : r_{1699}, a_{13} : r_{1700}, a_{14} : r_{1701}, a_{15} : r_{1702}, a_{23} : r_{1703}, a_{24} : r_{1704}, a_{25} : r_{1705}, a_{34} : r_{1706}, a_{35} : r_{1707}, a_{45} : r_{1708}\\right\\}, \\left\\{d_{1} : r_{1709}, d_{2} : r_{1710}, d_{3} : \\frac{r_{1709}}{x_{13}}, d_{4} : \\frac{r_{1710}}{x_{24}}, d_{5} : \\frac{r_{1709}}{x_{13} x_{35}}, a_{12} : r_{1711}, a_{13} : r_{1712}, a_{14} : r_{1713}, a_{15} : r_{1714}, a_{23} : r_{1715}, a_{24} : r_{1716}, a_{25} : r_{1717}, a_{34} : \\frac{r_{1711}}{x_{13}}, a_{35} : \\frac{r_{1711} + r_{1712}}{x_{13}}, a_{45} : \\frac{{\\left(r_{1710} + r_{1715}\\right)} x_{13} x_{35} - r_{1709} x_{25}}{x_{13} x_{24} x_{35}}\\right\\}\\right]"
      ]
     },
     "execution_count": 61,
     "metadata": {},
     "output_type": "execute_result"
    }
   ],
   "source": [
    "#x1\n",
    "reset()\n",
    "\n",
    "var('x12,x13,x14,x15,x23,x24,x25,x34,x35,x45')\n",
    "var('d1,d2,d3,d4,d5')\n",
    "var('a12,a13,a14,a15,a23,a24,a25,a34,a35,a45')\n",
    "\n",
    "load_attach_path('C:\\\\Users\\\\julia\\\\Documents\\\\unb\\\\doutorado\\\\pensar\\\\codigo_sage_v2\\\\maquina\\\\x1')\n",
    "load('out_#111100.sage')\n",
    "\n",
    "m=matrix(QQ, [[0, 0, 1, 0, 0],\n",
    "              [0, 0, 0, 1, 1],\n",
    "              [0, 0, 0, 0, 1],\n",
    "              [0, 0, 0, 0, 0],\n",
    "              [0, 0, 0, 0, 0]])\n",
    "        \n",
    "#entry of matrix: (i,j) line i collum j, means (i-1,j-1)\n",
    "sol=solve([ \teq1==m[0,2],\teq2==m[0,3],\teq3==m[0,4],\t\n",
    "                                            eq4==m[1,3],    eq5==m[1,4],\n",
    "                                                            eq6==m[2,4]],d1,d2,d3,d4,d5,a12,a13,a14,a15,a23,a24,a25,a34,a35,a45, solution_dict=True)\n",
    "\n",
    "show(m)\n",
    "show(sol)\n",
    "latex(sol)"
   ]
  },
  {
   "cell_type": "code",
   "execution_count": 62,
   "metadata": {},
   "outputs": [
    {
     "data": {
      "text/html": [
       "<html><script type=\"math/tex; mode=display\">\\newcommand{\\Bold}[1]{\\mathbf{#1}}\\left(\\begin{array}{rrrrr}\n",
       "0 & 0 & 1 & 0 & 1 \\\\\n",
       "0 & 0 & 0 & 1 & 1 \\\\\n",
       "0 & 0 & 0 & 0 & 1 \\\\\n",
       "0 & 0 & 0 & 0 & 0 \\\\\n",
       "0 & 0 & 0 & 0 & 0\n",
       "\\end{array}\\right)</script></html>"
      ],
      "text/latex": [
       "$$\\newcommand{\\Bold}[1]{\\mathbf{#1}}\\left(\\begin{array}{rrrrr}\n",
       "0 & 0 & 1 & 0 & 1 \\\\\n",
       "0 & 0 & 0 & 1 & 1 \\\\\n",
       "0 & 0 & 0 & 0 & 1 \\\\\n",
       "0 & 0 & 0 & 0 & 0 \\\\\n",
       "0 & 0 & 0 & 0 & 0\n",
       "\\end{array}\\right)$$"
      ],
      "text/plain": [
       "[0 0 1 0 1]\n",
       "[0 0 0 1 1]\n",
       "[0 0 0 0 1]\n",
       "[0 0 0 0 0]\n",
       "[0 0 0 0 0]"
      ]
     },
     "metadata": {},
     "output_type": "display_data"
    },
    {
     "data": {
      "text/html": [
       "<html><script type=\"math/tex; mode=display\">\\newcommand{\\Bold}[1]{\\mathbf{#1}}\\left[\\left\\{d_{1} : r_{1718}, d_{2} : 0, d_{3} : \\frac{r_{1718}}{x_{13}}, d_{4} : 0, d_{5} : \\frac{r_{1718}}{x_{13} x_{35}}, a_{12} : r_{1719}, a_{13} : r_{1720}, a_{14} : r_{1721}, a_{15} : r_{1722}, a_{23} : r_{1723}, a_{24} : r_{1724}, a_{25} : r_{1725}, a_{34} : r_{1726}, a_{35} : r_{1727}, a_{45} : \\frac{r_{1723} x_{13} x_{35} - r_{1718} x_{25}}{x_{13} x_{24} x_{35}}\\right\\}, \\left\\{d_{1} : 0, d_{2} : r_{1728}, d_{3} : 0, d_{4} : \\frac{r_{1728}}{x_{24}}, d_{5} : 0, a_{12} : r_{1729}, a_{13} : r_{1730}, a_{14} : r_{1731}, a_{15} : r_{1732}, a_{23} : r_{1733}, a_{24} : r_{1734}, a_{25} : r_{1735}, a_{34} : \\frac{r_{1729}}{x_{13}}, a_{35} : r_{1736}, a_{45} : r_{1737}\\right\\}, \\left\\{d_{1} : 0, d_{2} : 0, d_{3} : 0, d_{4} : 0, d_{5} : 0, a_{12} : r_{1738}, a_{13} : r_{1739}, a_{14} : r_{1740}, a_{15} : r_{1741}, a_{23} : r_{1742}, a_{24} : r_{1743}, a_{25} : r_{1744}, a_{34} : r_{1745}, a_{35} : r_{1746}, a_{45} : r_{1747}\\right\\}, \\left\\{d_{1} : r_{1748}, d_{2} : r_{1749}, d_{3} : \\frac{r_{1748}}{x_{13}}, d_{4} : \\frac{r_{1749}}{x_{24}}, d_{5} : \\frac{r_{1748}}{x_{13} x_{35}}, a_{12} : r_{1750}, a_{13} : r_{1751}, a_{14} : r_{1752}, a_{15} : r_{1753}, a_{23} : r_{1754}, a_{24} : r_{1755}, a_{25} : r_{1756}, a_{34} : \\frac{r_{1750}}{x_{13}}, a_{35} : \\frac{{\\left(r_{1748} + r_{1750} + r_{1751}\\right)} x_{13} x_{35} - r_{1748} x_{15}}{x_{13}^{2} x_{35}}, a_{45} : \\frac{{\\left(r_{1749} + r_{1754}\\right)} x_{13} x_{35} - r_{1748} x_{25}}{x_{13} x_{24} x_{35}}\\right\\}\\right]</script></html>"
      ],
      "text/latex": [
       "$$\\newcommand{\\Bold}[1]{\\mathbf{#1}}\\left[\\left\\{d_{1} : r_{1718}, d_{2} : 0, d_{3} : \\frac{r_{1718}}{x_{13}}, d_{4} : 0, d_{5} : \\frac{r_{1718}}{x_{13} x_{35}}, a_{12} : r_{1719}, a_{13} : r_{1720}, a_{14} : r_{1721}, a_{15} : r_{1722}, a_{23} : r_{1723}, a_{24} : r_{1724}, a_{25} : r_{1725}, a_{34} : r_{1726}, a_{35} : r_{1727}, a_{45} : \\frac{r_{1723} x_{13} x_{35} - r_{1718} x_{25}}{x_{13} x_{24} x_{35}}\\right\\}, \\left\\{d_{1} : 0, d_{2} : r_{1728}, d_{3} : 0, d_{4} : \\frac{r_{1728}}{x_{24}}, d_{5} : 0, a_{12} : r_{1729}, a_{13} : r_{1730}, a_{14} : r_{1731}, a_{15} : r_{1732}, a_{23} : r_{1733}, a_{24} : r_{1734}, a_{25} : r_{1735}, a_{34} : \\frac{r_{1729}}{x_{13}}, a_{35} : r_{1736}, a_{45} : r_{1737}\\right\\}, \\left\\{d_{1} : 0, d_{2} : 0, d_{3} : 0, d_{4} : 0, d_{5} : 0, a_{12} : r_{1738}, a_{13} : r_{1739}, a_{14} : r_{1740}, a_{15} : r_{1741}, a_{23} : r_{1742}, a_{24} : r_{1743}, a_{25} : r_{1744}, a_{34} : r_{1745}, a_{35} : r_{1746}, a_{45} : r_{1747}\\right\\}, \\left\\{d_{1} : r_{1748}, d_{2} : r_{1749}, d_{3} : \\frac{r_{1748}}{x_{13}}, d_{4} : \\frac{r_{1749}}{x_{24}}, d_{5} : \\frac{r_{1748}}{x_{13} x_{35}}, a_{12} : r_{1750}, a_{13} : r_{1751}, a_{14} : r_{1752}, a_{15} : r_{1753}, a_{23} : r_{1754}, a_{24} : r_{1755}, a_{25} : r_{1756}, a_{34} : \\frac{r_{1750}}{x_{13}}, a_{35} : \\frac{{\\left(r_{1748} + r_{1750} + r_{1751}\\right)} x_{13} x_{35} - r_{1748} x_{15}}{x_{13}^{2} x_{35}}, a_{45} : \\frac{{\\left(r_{1749} + r_{1754}\\right)} x_{13} x_{35} - r_{1748} x_{25}}{x_{13} x_{24} x_{35}}\\right\\}\\right]$$"
      ],
      "text/plain": [
       "[{d1: r1718,\n",
       "  d2: 0,\n",
       "  d3: r1718/x13,\n",
       "  d4: 0,\n",
       "  d5: r1718/(x13*x35),\n",
       "  a12: r1719,\n",
       "  a13: r1720,\n",
       "  a14: r1721,\n",
       "  a15: r1722,\n",
       "  a23: r1723,\n",
       "  a24: r1724,\n",
       "  a25: r1725,\n",
       "  a34: r1726,\n",
       "  a35: r1727,\n",
       "  a45: (r1723*x13*x35 - r1718*x25)/(x13*x24*x35)},\n",
       " {d1: 0,\n",
       "  d2: r1728,\n",
       "  d3: 0,\n",
       "  d4: r1728/x24,\n",
       "  d5: 0,\n",
       "  a12: r1729,\n",
       "  a13: r1730,\n",
       "  a14: r1731,\n",
       "  a15: r1732,\n",
       "  a23: r1733,\n",
       "  a24: r1734,\n",
       "  a25: r1735,\n",
       "  a34: r1729/x13,\n",
       "  a35: r1736,\n",
       "  a45: r1737},\n",
       " {d1: 0,\n",
       "  d2: 0,\n",
       "  d3: 0,\n",
       "  d4: 0,\n",
       "  d5: 0,\n",
       "  a12: r1738,\n",
       "  a13: r1739,\n",
       "  a14: r1740,\n",
       "  a15: r1741,\n",
       "  a23: r1742,\n",
       "  a24: r1743,\n",
       "  a25: r1744,\n",
       "  a34: r1745,\n",
       "  a35: r1746,\n",
       "  a45: r1747},\n",
       " {d1: r1748,\n",
       "  d2: r1749,\n",
       "  d3: r1748/x13,\n",
       "  d4: r1749/x24,\n",
       "  d5: r1748/(x13*x35),\n",
       "  a12: r1750,\n",
       "  a13: r1751,\n",
       "  a14: r1752,\n",
       "  a15: r1753,\n",
       "  a23: r1754,\n",
       "  a24: r1755,\n",
       "  a25: r1756,\n",
       "  a34: r1750/x13,\n",
       "  a35: ((r1748 + r1750 + r1751)*x13*x35 - r1748*x15)/(x13^2*x35),\n",
       "  a45: ((r1749 + r1754)*x13*x35 - r1748*x25)/(x13*x24*x35)}]"
      ]
     },
     "metadata": {},
     "output_type": "display_data"
    },
    {
     "data": {
      "text/plain": [
       "\\left[\\left\\{d_{1} : r_{1718}, d_{2} : 0, d_{3} : \\frac{r_{1718}}{x_{13}}, d_{4} : 0, d_{5} : \\frac{r_{1718}}{x_{13} x_{35}}, a_{12} : r_{1719}, a_{13} : r_{1720}, a_{14} : r_{1721}, a_{15} : r_{1722}, a_{23} : r_{1723}, a_{24} : r_{1724}, a_{25} : r_{1725}, a_{34} : r_{1726}, a_{35} : r_{1727}, a_{45} : \\frac{r_{1723} x_{13} x_{35} - r_{1718} x_{25}}{x_{13} x_{24} x_{35}}\\right\\}, \\left\\{d_{1} : 0, d_{2} : r_{1728}, d_{3} : 0, d_{4} : \\frac{r_{1728}}{x_{24}}, d_{5} : 0, a_{12} : r_{1729}, a_{13} : r_{1730}, a_{14} : r_{1731}, a_{15} : r_{1732}, a_{23} : r_{1733}, a_{24} : r_{1734}, a_{25} : r_{1735}, a_{34} : \\frac{r_{1729}}{x_{13}}, a_{35} : r_{1736}, a_{45} : r_{1737}\\right\\}, \\left\\{d_{1} : 0, d_{2} : 0, d_{3} : 0, d_{4} : 0, d_{5} : 0, a_{12} : r_{1738}, a_{13} : r_{1739}, a_{14} : r_{1740}, a_{15} : r_{1741}, a_{23} : r_{1742}, a_{24} : r_{1743}, a_{25} : r_{1744}, a_{34} : r_{1745}, a_{35} : r_{1746}, a_{45} : r_{1747}\\right\\}, \\left\\{d_{1} : r_{1748}, d_{2} : r_{1749}, d_{3} : \\frac{r_{1748}}{x_{13}}, d_{4} : \\frac{r_{1749}}{x_{24}}, d_{5} : \\frac{r_{1748}}{x_{13} x_{35}}, a_{12} : r_{1750}, a_{13} : r_{1751}, a_{14} : r_{1752}, a_{15} : r_{1753}, a_{23} : r_{1754}, a_{24} : r_{1755}, a_{25} : r_{1756}, a_{34} : \\frac{r_{1750}}{x_{13}}, a_{35} : \\frac{{\\left(r_{1748} + r_{1750} + r_{1751}\\right)} x_{13} x_{35} - r_{1748} x_{15}}{x_{13}^{2} x_{35}}, a_{45} : \\frac{{\\left(r_{1749} + r_{1754}\\right)} x_{13} x_{35} - r_{1748} x_{25}}{x_{13} x_{24} x_{35}}\\right\\}\\right]"
      ]
     },
     "execution_count": 62,
     "metadata": {},
     "output_type": "execute_result"
    }
   ],
   "source": [
    "#x1\n",
    "reset()\n",
    "\n",
    "var('x12,x13,x14,x15,x23,x24,x25,x34,x35,x45')\n",
    "var('d1,d2,d3,d4,d5')\n",
    "var('a12,a13,a14,a15,a23,a24,a25,a34,a35,a45')\n",
    "\n",
    "load_attach_path('C:\\\\Users\\\\julia\\\\Documents\\\\unb\\\\doutorado\\\\pensar\\\\codigo_sage_v2\\\\maquina\\\\x1')\n",
    "load('out_#111101.sage')\n",
    "\n",
    "m=matrix(QQ, [[0, 0, 1, 0, 1],\n",
    "              [0, 0, 0, 1, 1],\n",
    "              [0, 0, 0, 0, 1],\n",
    "              [0, 0, 0, 0, 0],\n",
    "              [0, 0, 0, 0, 0]])\n",
    "        \n",
    "#entry of matrix: (i,j) line i collum j, means (i-1,j-1)\n",
    "sol=solve([ \teq1==m[0,2],\teq2==m[0,3],\teq3==m[0,4],\t\n",
    "                                            eq4==m[1,3],    eq5==m[1,4],\n",
    "                                                            eq6==m[2,4]],d1,d2,d3,d4,d5,a12,a13,a14,a15,a23,a24,a25,a34,a35,a45, solution_dict=True)\n",
    "\n",
    "show(m)\n",
    "show(sol)\n",
    "latex(sol)"
   ]
  },
  {
   "cell_type": "code",
   "execution_count": 63,
   "metadata": {},
   "outputs": [
    {
     "data": {
      "text/html": [
       "<html><script type=\"math/tex; mode=display\">\\newcommand{\\Bold}[1]{\\mathbf{#1}}\\left(\\begin{array}{rrrrr}\n",
       "0 & 0 & 1 & 1 & 0 \\\\\n",
       "0 & 0 & 0 & 1 & 1 \\\\\n",
       "0 & 0 & 0 & 0 & 1 \\\\\n",
       "0 & 0 & 0 & 0 & 0 \\\\\n",
       "0 & 0 & 0 & 0 & 0\n",
       "\\end{array}\\right)</script></html>"
      ],
      "text/latex": [
       "$$\\newcommand{\\Bold}[1]{\\mathbf{#1}}\\left(\\begin{array}{rrrrr}\n",
       "0 & 0 & 1 & 1 & 0 \\\\\n",
       "0 & 0 & 0 & 1 & 1 \\\\\n",
       "0 & 0 & 0 & 0 & 1 \\\\\n",
       "0 & 0 & 0 & 0 & 0 \\\\\n",
       "0 & 0 & 0 & 0 & 0\n",
       "\\end{array}\\right)$$"
      ],
      "text/plain": [
       "[0 0 1 1 0]\n",
       "[0 0 0 1 1]\n",
       "[0 0 0 0 1]\n",
       "[0 0 0 0 0]\n",
       "[0 0 0 0 0]"
      ]
     },
     "metadata": {},
     "output_type": "display_data"
    },
    {
     "data": {
      "text/html": [
       "<html><script type=\"math/tex; mode=display\">\\newcommand{\\Bold}[1]{\\mathbf{#1}}\\left[\\left\\{d_{1} : r_{1757}, d_{2} : 0, d_{3} : \\frac{r_{1757}}{x_{13}}, d_{4} : 0, d_{5} : \\frac{r_{1757}}{x_{13} x_{35}}, a_{12} : r_{1758}, a_{13} : r_{1759}, a_{14} : r_{1760}, a_{15} : r_{1761}, a_{23} : r_{1762}, a_{24} : r_{1763}, a_{25} : r_{1764}, a_{34} : r_{1765}, a_{35} : r_{1766}, a_{45} : \\frac{r_{1762} x_{13} x_{35} - r_{1757} x_{25}}{x_{13} x_{24} x_{35}}\\right\\}, \\left\\{d_{1} : 0, d_{2} : r_{1767}, d_{3} : 0, d_{4} : \\frac{r_{1767}}{x_{24}}, d_{5} : 0, a_{12} : r_{1768}, a_{13} : r_{1769}, a_{14} : r_{1770}, a_{15} : r_{1771}, a_{23} : r_{1772}, a_{24} : r_{1773}, a_{25} : r_{1774}, a_{34} : -\\frac{r_{1767} x_{14} - r_{1768} x_{24}}{x_{13} x_{24}}, a_{35} : r_{1775}, a_{45} : r_{1776}\\right\\}, \\left\\{d_{1} : 0, d_{2} : 0, d_{3} : 0, d_{4} : 0, d_{5} : 0, a_{12} : r_{1777}, a_{13} : r_{1778}, a_{14} : r_{1779}, a_{15} : r_{1780}, a_{23} : r_{1781}, a_{24} : r_{1782}, a_{25} : r_{1783}, a_{34} : r_{1784}, a_{35} : r_{1785}, a_{45} : r_{1786}\\right\\}, \\left\\{d_{1} : r_{1787}, d_{2} : r_{1788}, d_{3} : \\frac{r_{1787}}{x_{13}}, d_{4} : \\frac{r_{1788}}{x_{24}}, d_{5} : \\frac{r_{1787}}{x_{13} x_{35}}, a_{12} : r_{1789}, a_{13} : r_{1790}, a_{14} : r_{1791}, a_{15} : r_{1792}, a_{23} : r_{1793}, a_{24} : r_{1794}, a_{25} : r_{1795}, a_{34} : -\\frac{r_{1788} x_{14} - {\\left(r_{1787} + r_{1789}\\right)} x_{24}}{x_{13} x_{24}}, a_{35} : \\frac{r_{1787} x_{14} x_{25} - {\\left({\\left(r_{1788} + r_{1793}\\right)} x_{13} x_{14} - {\\left(r_{1789} + r_{1790}\\right)} x_{13} x_{24}\\right)} x_{35}}{x_{13}^{2} x_{24} x_{35}}, a_{45} : \\frac{{\\left(r_{1788} + r_{1793}\\right)} x_{13} x_{35} - r_{1787} x_{25}}{x_{13} x_{24} x_{35}}\\right\\}\\right]</script></html>"
      ],
      "text/latex": [
       "$$\\newcommand{\\Bold}[1]{\\mathbf{#1}}\\left[\\left\\{d_{1} : r_{1757}, d_{2} : 0, d_{3} : \\frac{r_{1757}}{x_{13}}, d_{4} : 0, d_{5} : \\frac{r_{1757}}{x_{13} x_{35}}, a_{12} : r_{1758}, a_{13} : r_{1759}, a_{14} : r_{1760}, a_{15} : r_{1761}, a_{23} : r_{1762}, a_{24} : r_{1763}, a_{25} : r_{1764}, a_{34} : r_{1765}, a_{35} : r_{1766}, a_{45} : \\frac{r_{1762} x_{13} x_{35} - r_{1757} x_{25}}{x_{13} x_{24} x_{35}}\\right\\}, \\left\\{d_{1} : 0, d_{2} : r_{1767}, d_{3} : 0, d_{4} : \\frac{r_{1767}}{x_{24}}, d_{5} : 0, a_{12} : r_{1768}, a_{13} : r_{1769}, a_{14} : r_{1770}, a_{15} : r_{1771}, a_{23} : r_{1772}, a_{24} : r_{1773}, a_{25} : r_{1774}, a_{34} : -\\frac{r_{1767} x_{14} - r_{1768} x_{24}}{x_{13} x_{24}}, a_{35} : r_{1775}, a_{45} : r_{1776}\\right\\}, \\left\\{d_{1} : 0, d_{2} : 0, d_{3} : 0, d_{4} : 0, d_{5} : 0, a_{12} : r_{1777}, a_{13} : r_{1778}, a_{14} : r_{1779}, a_{15} : r_{1780}, a_{23} : r_{1781}, a_{24} : r_{1782}, a_{25} : r_{1783}, a_{34} : r_{1784}, a_{35} : r_{1785}, a_{45} : r_{1786}\\right\\}, \\left\\{d_{1} : r_{1787}, d_{2} : r_{1788}, d_{3} : \\frac{r_{1787}}{x_{13}}, d_{4} : \\frac{r_{1788}}{x_{24}}, d_{5} : \\frac{r_{1787}}{x_{13} x_{35}}, a_{12} : r_{1789}, a_{13} : r_{1790}, a_{14} : r_{1791}, a_{15} : r_{1792}, a_{23} : r_{1793}, a_{24} : r_{1794}, a_{25} : r_{1795}, a_{34} : -\\frac{r_{1788} x_{14} - {\\left(r_{1787} + r_{1789}\\right)} x_{24}}{x_{13} x_{24}}, a_{35} : \\frac{r_{1787} x_{14} x_{25} - {\\left({\\left(r_{1788} + r_{1793}\\right)} x_{13} x_{14} - {\\left(r_{1789} + r_{1790}\\right)} x_{13} x_{24}\\right)} x_{35}}{x_{13}^{2} x_{24} x_{35}}, a_{45} : \\frac{{\\left(r_{1788} + r_{1793}\\right)} x_{13} x_{35} - r_{1787} x_{25}}{x_{13} x_{24} x_{35}}\\right\\}\\right]$$"
      ],
      "text/plain": [
       "[{d1: r1757,\n",
       "  d2: 0,\n",
       "  d3: r1757/x13,\n",
       "  d4: 0,\n",
       "  d5: r1757/(x13*x35),\n",
       "  a12: r1758,\n",
       "  a13: r1759,\n",
       "  a14: r1760,\n",
       "  a15: r1761,\n",
       "  a23: r1762,\n",
       "  a24: r1763,\n",
       "  a25: r1764,\n",
       "  a34: r1765,\n",
       "  a35: r1766,\n",
       "  a45: (r1762*x13*x35 - r1757*x25)/(x13*x24*x35)},\n",
       " {d1: 0,\n",
       "  d2: r1767,\n",
       "  d3: 0,\n",
       "  d4: r1767/x24,\n",
       "  d5: 0,\n",
       "  a12: r1768,\n",
       "  a13: r1769,\n",
       "  a14: r1770,\n",
       "  a15: r1771,\n",
       "  a23: r1772,\n",
       "  a24: r1773,\n",
       "  a25: r1774,\n",
       "  a34: -(r1767*x14 - r1768*x24)/(x13*x24),\n",
       "  a35: r1775,\n",
       "  a45: r1776},\n",
       " {d1: 0,\n",
       "  d2: 0,\n",
       "  d3: 0,\n",
       "  d4: 0,\n",
       "  d5: 0,\n",
       "  a12: r1777,\n",
       "  a13: r1778,\n",
       "  a14: r1779,\n",
       "  a15: r1780,\n",
       "  a23: r1781,\n",
       "  a24: r1782,\n",
       "  a25: r1783,\n",
       "  a34: r1784,\n",
       "  a35: r1785,\n",
       "  a45: r1786},\n",
       " {d1: r1787,\n",
       "  d2: r1788,\n",
       "  d3: r1787/x13,\n",
       "  d4: r1788/x24,\n",
       "  d5: r1787/(x13*x35),\n",
       "  a12: r1789,\n",
       "  a13: r1790,\n",
       "  a14: r1791,\n",
       "  a15: r1792,\n",
       "  a23: r1793,\n",
       "  a24: r1794,\n",
       "  a25: r1795,\n",
       "  a34: -(r1788*x14 - (r1787 + r1789)*x24)/(x13*x24),\n",
       "  a35: (r1787*x14*x25 - ((r1788 + r1793)*x13*x14 - (r1789 + r1790)*x13*x24)*x35)/(x13^2*x24*x35),\n",
       "  a45: ((r1788 + r1793)*x13*x35 - r1787*x25)/(x13*x24*x35)}]"
      ]
     },
     "metadata": {},
     "output_type": "display_data"
    },
    {
     "data": {
      "text/plain": [
       "\\left[\\left\\{d_{1} : r_{1757}, d_{2} : 0, d_{3} : \\frac{r_{1757}}{x_{13}}, d_{4} : 0, d_{5} : \\frac{r_{1757}}{x_{13} x_{35}}, a_{12} : r_{1758}, a_{13} : r_{1759}, a_{14} : r_{1760}, a_{15} : r_{1761}, a_{23} : r_{1762}, a_{24} : r_{1763}, a_{25} : r_{1764}, a_{34} : r_{1765}, a_{35} : r_{1766}, a_{45} : \\frac{r_{1762} x_{13} x_{35} - r_{1757} x_{25}}{x_{13} x_{24} x_{35}}\\right\\}, \\left\\{d_{1} : 0, d_{2} : r_{1767}, d_{3} : 0, d_{4} : \\frac{r_{1767}}{x_{24}}, d_{5} : 0, a_{12} : r_{1768}, a_{13} : r_{1769}, a_{14} : r_{1770}, a_{15} : r_{1771}, a_{23} : r_{1772}, a_{24} : r_{1773}, a_{25} : r_{1774}, a_{34} : -\\frac{r_{1767} x_{14} - r_{1768} x_{24}}{x_{13} x_{24}}, a_{35} : r_{1775}, a_{45} : r_{1776}\\right\\}, \\left\\{d_{1} : 0, d_{2} : 0, d_{3} : 0, d_{4} : 0, d_{5} : 0, a_{12} : r_{1777}, a_{13} : r_{1778}, a_{14} : r_{1779}, a_{15} : r_{1780}, a_{23} : r_{1781}, a_{24} : r_{1782}, a_{25} : r_{1783}, a_{34} : r_{1784}, a_{35} : r_{1785}, a_{45} : r_{1786}\\right\\}, \\left\\{d_{1} : r_{1787}, d_{2} : r_{1788}, d_{3} : \\frac{r_{1787}}{x_{13}}, d_{4} : \\frac{r_{1788}}{x_{24}}, d_{5} : \\frac{r_{1787}}{x_{13} x_{35}}, a_{12} : r_{1789}, a_{13} : r_{1790}, a_{14} : r_{1791}, a_{15} : r_{1792}, a_{23} : r_{1793}, a_{24} : r_{1794}, a_{25} : r_{1795}, a_{34} : -\\frac{r_{1788} x_{14} - {\\left(r_{1787} + r_{1789}\\right)} x_{24}}{x_{13} x_{24}}, a_{35} : \\frac{r_{1787} x_{14} x_{25} - {\\left({\\left(r_{1788} + r_{1793}\\right)} x_{13} x_{14} - {\\left(r_{1789} + r_{1790}\\right)} x_{13} x_{24}\\right)} x_{35}}{x_{13}^{2} x_{24} x_{35}}, a_{45} : \\frac{{\\left(r_{1788} + r_{1793}\\right)} x_{13} x_{35} - r_{1787} x_{25}}{x_{13} x_{24} x_{35}}\\right\\}\\right]"
      ]
     },
     "execution_count": 63,
     "metadata": {},
     "output_type": "execute_result"
    }
   ],
   "source": [
    "#x1\n",
    "reset()\n",
    "\n",
    "var('x12,x13,x14,x15,x23,x24,x25,x34,x35,x45')\n",
    "var('d1,d2,d3,d4,d5')\n",
    "var('a12,a13,a14,a15,a23,a24,a25,a34,a35,a45')\n",
    "\n",
    "load_attach_path('C:\\\\Users\\\\julia\\\\Documents\\\\unb\\\\doutorado\\\\pensar\\\\codigo_sage_v2\\\\maquina\\\\x1')\n",
    "load('out_#111110.sage')\n",
    "\n",
    "m=matrix(QQ, [[0, 0, 1, 1, 0],\n",
    "              [0, 0, 0, 1, 1],\n",
    "              [0, 0, 0, 0, 1],\n",
    "              [0, 0, 0, 0, 0],\n",
    "              [0, 0, 0, 0, 0]])\n",
    "        \n",
    "#entry of matrix: (i,j) line i collum j, means (i-1,j-1)\n",
    "sol=solve([ \teq1==m[0,2],\teq2==m[0,3],\teq3==m[0,4],\t\n",
    "                                            eq4==m[1,3],    eq5==m[1,4],\n",
    "                                                            eq6==m[2,4]],d1,d2,d3,d4,d5,a12,a13,a14,a15,a23,a24,a25,a34,a35,a45, solution_dict=True)\n",
    "\n",
    "show(m)\n",
    "show(sol)\n",
    "latex(sol)"
   ]
  },
  {
   "cell_type": "code",
   "execution_count": 1,
   "metadata": {
    "scrolled": true
   },
   "outputs": [
    {
     "data": {
      "text/html": [
       "<html><script type=\"math/tex; mode=display\">\\newcommand{\\Bold}[1]{\\mathbf{#1}}\\left[\\left\\{d_{1} : r_{1}, d_{2} : 0, d_{3} : \\frac{r_{1}}{x_{13}}, d_{4} : 0, d_{5} : \\frac{r_{1}}{x_{13} x_{35}}, a_{12} : r_{2}, a_{13} : r_{3}, a_{14} : r_{4}, a_{15} : r_{5}, a_{23} : r_{6}, a_{24} : r_{7}, a_{25} : r_{8}, a_{34} : r_{9}, a_{35} : r_{10}, a_{45} : \\frac{r_{6} x_{13} x_{35} - r_{1} x_{25}}{x_{13} x_{24} x_{35}}\\right\\}, \\left\\{d_{1} : 0, d_{2} : r_{11}, d_{3} : 0, d_{4} : \\frac{r_{11}}{x_{24}}, d_{5} : 0, a_{12} : r_{12}, a_{13} : r_{13}, a_{14} : r_{14}, a_{15} : r_{15}, a_{23} : r_{16}, a_{24} : r_{17}, a_{25} : r_{18}, a_{34} : -\\frac{r_{11} x_{14} - r_{12} x_{24}}{x_{13} x_{24}}, a_{35} : r_{19}, a_{45} : r_{20}\\right\\}, \\left\\{d_{1} : 0, d_{2} : 0, d_{3} : 0, d_{4} : 0, d_{5} : 0, a_{12} : r_{21}, a_{13} : r_{22}, a_{14} : r_{23}, a_{15} : r_{24}, a_{23} : r_{25}, a_{24} : r_{26}, a_{25} : r_{27}, a_{34} : r_{28}, a_{35} : r_{29}, a_{45} : r_{30}\\right\\}, \\left\\{d_{1} : r_{31}, d_{2} : r_{32}, d_{3} : \\frac{r_{31}}{x_{13}}, d_{4} : \\frac{r_{32}}{x_{24}}, d_{5} : \\frac{r_{31}}{x_{13} x_{35}}, a_{12} : r_{33}, a_{13} : r_{34}, a_{14} : r_{35}, a_{15} : r_{36}, a_{23} : r_{37}, a_{24} : r_{38}, a_{25} : r_{39}, a_{34} : -\\frac{r_{32} x_{14} - r_{33} x_{24}}{x_{13} x_{24}}, a_{35} : -\\frac{r_{31} x_{15} x_{24} - r_{31} x_{14} x_{25} + {\\left(r_{37} x_{13} x_{14} - r_{34} x_{13} x_{24}\\right)} x_{35}}{x_{13}^{2} x_{24} x_{35}}, a_{45} : \\frac{r_{37} x_{13} x_{35} - r_{31} x_{25}}{x_{13} x_{24} x_{35}}\\right\\}\\right]</script></html>"
      ],
      "text/latex": [
       "$$\\newcommand{\\Bold}[1]{\\mathbf{#1}}\\left[\\left\\{d_{1} : r_{1}, d_{2} : 0, d_{3} : \\frac{r_{1}}{x_{13}}, d_{4} : 0, d_{5} : \\frac{r_{1}}{x_{13} x_{35}}, a_{12} : r_{2}, a_{13} : r_{3}, a_{14} : r_{4}, a_{15} : r_{5}, a_{23} : r_{6}, a_{24} : r_{7}, a_{25} : r_{8}, a_{34} : r_{9}, a_{35} : r_{10}, a_{45} : \\frac{r_{6} x_{13} x_{35} - r_{1} x_{25}}{x_{13} x_{24} x_{35}}\\right\\}, \\left\\{d_{1} : 0, d_{2} : r_{11}, d_{3} : 0, d_{4} : \\frac{r_{11}}{x_{24}}, d_{5} : 0, a_{12} : r_{12}, a_{13} : r_{13}, a_{14} : r_{14}, a_{15} : r_{15}, a_{23} : r_{16}, a_{24} : r_{17}, a_{25} : r_{18}, a_{34} : -\\frac{r_{11} x_{14} - r_{12} x_{24}}{x_{13} x_{24}}, a_{35} : r_{19}, a_{45} : r_{20}\\right\\}, \\left\\{d_{1} : 0, d_{2} : 0, d_{3} : 0, d_{4} : 0, d_{5} : 0, a_{12} : r_{21}, a_{13} : r_{22}, a_{14} : r_{23}, a_{15} : r_{24}, a_{23} : r_{25}, a_{24} : r_{26}, a_{25} : r_{27}, a_{34} : r_{28}, a_{35} : r_{29}, a_{45} : r_{30}\\right\\}, \\left\\{d_{1} : r_{31}, d_{2} : r_{32}, d_{3} : \\frac{r_{31}}{x_{13}}, d_{4} : \\frac{r_{32}}{x_{24}}, d_{5} : \\frac{r_{31}}{x_{13} x_{35}}, a_{12} : r_{33}, a_{13} : r_{34}, a_{14} : r_{35}, a_{15} : r_{36}, a_{23} : r_{37}, a_{24} : r_{38}, a_{25} : r_{39}, a_{34} : -\\frac{r_{32} x_{14} - r_{33} x_{24}}{x_{13} x_{24}}, a_{35} : -\\frac{r_{31} x_{15} x_{24} - r_{31} x_{14} x_{25} + {\\left(r_{37} x_{13} x_{14} - r_{34} x_{13} x_{24}\\right)} x_{35}}{x_{13}^{2} x_{24} x_{35}}, a_{45} : \\frac{r_{37} x_{13} x_{35} - r_{31} x_{25}}{x_{13} x_{24} x_{35}}\\right\\}\\right]$$"
      ],
      "text/plain": [
       "[{d1: r1,\n",
       "  d2: 0,\n",
       "  d3: r1/x13,\n",
       "  d4: 0,\n",
       "  d5: r1/(x13*x35),\n",
       "  a12: r2,\n",
       "  a13: r3,\n",
       "  a14: r4,\n",
       "  a15: r5,\n",
       "  a23: r6,\n",
       "  a24: r7,\n",
       "  a25: r8,\n",
       "  a34: r9,\n",
       "  a35: r10,\n",
       "  a45: (r6*x13*x35 - r1*x25)/(x13*x24*x35)},\n",
       " {d1: 0,\n",
       "  d2: r11,\n",
       "  d3: 0,\n",
       "  d4: r11/x24,\n",
       "  d5: 0,\n",
       "  a12: r12,\n",
       "  a13: r13,\n",
       "  a14: r14,\n",
       "  a15: r15,\n",
       "  a23: r16,\n",
       "  a24: r17,\n",
       "  a25: r18,\n",
       "  a34: -(r11*x14 - r12*x24)/(x13*x24),\n",
       "  a35: r19,\n",
       "  a45: r20},\n",
       " {d1: 0,\n",
       "  d2: 0,\n",
       "  d3: 0,\n",
       "  d4: 0,\n",
       "  d5: 0,\n",
       "  a12: r21,\n",
       "  a13: r22,\n",
       "  a14: r23,\n",
       "  a15: r24,\n",
       "  a23: r25,\n",
       "  a24: r26,\n",
       "  a25: r27,\n",
       "  a34: r28,\n",
       "  a35: r29,\n",
       "  a45: r30},\n",
       " {d1: r31,\n",
       "  d2: r32,\n",
       "  d3: r31/x13,\n",
       "  d4: r32/x24,\n",
       "  d5: r31/(x13*x35),\n",
       "  a12: r33,\n",
       "  a13: r34,\n",
       "  a14: r35,\n",
       "  a15: r36,\n",
       "  a23: r37,\n",
       "  a24: r38,\n",
       "  a25: r39,\n",
       "  a34: -(r32*x14 - r33*x24)/(x13*x24),\n",
       "  a35: -(r31*x15*x24 - r31*x14*x25 + (r37*x13*x14 - r34*x13*x24)*x35)/(x13^2*x24*x35),\n",
       "  a45: (r37*x13*x35 - r31*x25)/(x13*x24*x35)}]"
      ]
     },
     "metadata": {},
     "output_type": "display_data"
    },
    {
     "data": {
      "text/plain": [
       "\\left[\\left\\{d_{1} : r_{1}, d_{2} : 0, d_{3} : \\frac{r_{1}}{x_{13}}, d_{4} : 0, d_{5} : \\frac{r_{1}}{x_{13} x_{35}}, a_{12} : r_{2}, a_{13} : r_{3}, a_{14} : r_{4}, a_{15} : r_{5}, a_{23} : r_{6}, a_{24} : r_{7}, a_{25} : r_{8}, a_{34} : r_{9}, a_{35} : r_{10}, a_{45} : \\frac{r_{6} x_{13} x_{35} - r_{1} x_{25}}{x_{13} x_{24} x_{35}}\\right\\}, \\left\\{d_{1} : 0, d_{2} : r_{11}, d_{3} : 0, d_{4} : \\frac{r_{11}}{x_{24}}, d_{5} : 0, a_{12} : r_{12}, a_{13} : r_{13}, a_{14} : r_{14}, a_{15} : r_{15}, a_{23} : r_{16}, a_{24} : r_{17}, a_{25} : r_{18}, a_{34} : -\\frac{r_{11} x_{14} - r_{12} x_{24}}{x_{13} x_{24}}, a_{35} : r_{19}, a_{45} : r_{20}\\right\\}, \\left\\{d_{1} : 0, d_{2} : 0, d_{3} : 0, d_{4} : 0, d_{5} : 0, a_{12} : r_{21}, a_{13} : r_{22}, a_{14} : r_{23}, a_{15} : r_{24}, a_{23} : r_{25}, a_{24} : r_{26}, a_{25} : r_{27}, a_{34} : r_{28}, a_{35} : r_{29}, a_{45} : r_{30}\\right\\}, \\left\\{d_{1} : r_{31}, d_{2} : r_{32}, d_{3} : \\frac{r_{31}}{x_{13}}, d_{4} : \\frac{r_{32}}{x_{24}}, d_{5} : \\frac{r_{31}}{x_{13} x_{35}}, a_{12} : r_{33}, a_{13} : r_{34}, a_{14} : r_{35}, a_{15} : r_{36}, a_{23} : r_{37}, a_{24} : r_{38}, a_{25} : r_{39}, a_{34} : -\\frac{r_{32} x_{14} - r_{33} x_{24}}{x_{13} x_{24}}, a_{35} : -\\frac{r_{31} x_{15} x_{24} - r_{31} x_{14} x_{25} + {\\left(r_{37} x_{13} x_{14} - r_{34} x_{13} x_{24}\\right)} x_{35}}{x_{13}^{2} x_{24} x_{35}}, a_{45} : \\frac{r_{37} x_{13} x_{35} - r_{31} x_{25}}{x_{13} x_{24} x_{35}}\\right\\}\\right]"
      ]
     },
     "execution_count": 1,
     "metadata": {},
     "output_type": "execute_result"
    }
   ],
   "source": [
    "#x1\n",
    "reset()\n",
    "var('x12,x13,x14,x15,x23,x24,x25,x34,x35,x45')\n",
    "var('d1,d2,d3,d4,d5')\n",
    "var('a12,a13,a14,a15,a23,a24,a25,a34,a35,a45')\n",
    "\n",
    "#111111\n",
    "eq1=(d3*x13)/(d1) \n",
    "eq2=(a34*d2*x13+d2*d4*x14-a12*d4*x24)/(d1*d2) \n",
    "eq3=(a35*d2*d3*x13+a45*d2*d3*x14+d2*d3*d5*x15-a12*a45*d3*x24-a12*d3*d5*x25+a12*a23*d5*x35-a13*d2*d5*x35)/(d1*d2*d3) \n",
    "eq4=(d4*x24)/(d2) \n",
    "eq5=(a45*d3*x24+d3*d5*x25-a23*d5*x35)/(d2*d3) \n",
    "eq6=(d5*x35)/(d3)\n",
    "\n",
    "sol=solve([eq1==1,eq2==0,eq3==0,eq4==1,eq5==0,eq6==1],d1,d2,d3,d4,d5,a12,a13,a14,a15,a23,a24,a25,a34,a35,a45, solution_dict=True)\n",
    "\n",
    "show(sol)\n",
    "latex(sol)"
   ]
  },
  {
   "cell_type": "code",
   "execution_count": null,
   "metadata": {},
   "outputs": [],
   "source": []
  }
 ],
 "metadata": {
  "kernelspec": {
   "display_name": "SageMath 9.3",
   "language": "sage",
   "name": "sagemath"
  },
  "language_info": {
   "codemirror_mode": {
    "name": "ipython",
    "version": 3
   },
   "file_extension": ".py",
   "mimetype": "text/x-python",
   "name": "python",
   "nbconvert_exporter": "python",
   "pygments_lexer": "ipython3",
   "version": "3.7.10"
  }
 },
 "nbformat": 4,
 "nbformat_minor": 4
}
