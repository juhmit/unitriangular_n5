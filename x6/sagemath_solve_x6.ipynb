{
 "cells": [
  {
   "cell_type": "code",
   "execution_count": 1,
   "metadata": {
    "scrolled": true
   },
   "outputs": [
    {
     "data": {
      "text/html": [
       "<html><script type=\"math/tex; mode=display\">\\newcommand{\\Bold}[1]{\\mathbf{#1}}\\left(\\begin{array}{rrrrr}\n",
       "0 & 0 & 0 & 0 & 0 \\\\\n",
       "0 & 0 & 1 & 0 & 0 \\\\\n",
       "0 & 0 & 0 & 1 & 0 \\\\\n",
       "0 & 0 & 0 & 0 & 0 \\\\\n",
       "0 & 0 & 0 & 0 & 0\n",
       "\\end{array}\\right)</script></html>"
      ],
      "text/latex": [
       "$$\\newcommand{\\Bold}[1]{\\mathbf{#1}}\\left(\\begin{array}{rrrrr}\n",
       "0 & 0 & 0 & 0 & 0 \\\\\n",
       "0 & 0 & 1 & 0 & 0 \\\\\n",
       "0 & 0 & 0 & 1 & 0 \\\\\n",
       "0 & 0 & 0 & 0 & 0 \\\\\n",
       "0 & 0 & 0 & 0 & 0\n",
       "\\end{array}\\right)$$"
      ],
      "text/plain": [
       "[0 0 0 0 0]\n",
       "[0 0 1 0 0]\n",
       "[0 0 0 1 0]\n",
       "[0 0 0 0 0]\n",
       "[0 0 0 0 0]"
      ]
     },
     "metadata": {},
     "output_type": "display_data"
    },
    {
     "data": {
      "text/html": [
       "<html><script type=\"math/tex; mode=display\">\\newcommand{\\Bold}[1]{\\mathbf{#1}}\\left[\\left\\{d_{1} : r_{1}, d_{2} : 0, d_{3} : 0, d_{4} : 0, d_{5} : r_{2}, a_{12} : r_{3}, a_{13} : r_{4}, a_{14} : r_{5}, a_{15} : r_{6}, a_{23} : r_{7}, a_{24} : r_{8}, a_{25} : r_{9}, a_{34} : r_{10}, a_{35} : r_{11}, a_{45} : 0\\right\\}, \\left\\{d_{1} : r_{12}, d_{2} : r_{13}, d_{3} : \\frac{r_{13}}{x_{23}}, d_{4} : \\frac{r_{13}}{x_{23} x_{34}}, d_{5} : r_{14}, a_{12} : 0, a_{13} : 0, a_{14} : r_{15}, a_{15} : r_{16}, a_{23} : r_{17}, a_{24} : r_{18}, a_{25} : r_{19}, a_{34} : \\frac{r_{17}}{x_{23}}, a_{35} : 0, a_{45} : 0\\right\\}\\right]</script></html>"
      ],
      "text/latex": [
       "$$\\newcommand{\\Bold}[1]{\\mathbf{#1}}\\left[\\left\\{d_{1} : r_{1}, d_{2} : 0, d_{3} : 0, d_{4} : 0, d_{5} : r_{2}, a_{12} : r_{3}, a_{13} : r_{4}, a_{14} : r_{5}, a_{15} : r_{6}, a_{23} : r_{7}, a_{24} : r_{8}, a_{25} : r_{9}, a_{34} : r_{10}, a_{35} : r_{11}, a_{45} : 0\\right\\}, \\left\\{d_{1} : r_{12}, d_{2} : r_{13}, d_{3} : \\frac{r_{13}}{x_{23}}, d_{4} : \\frac{r_{13}}{x_{23} x_{34}}, d_{5} : r_{14}, a_{12} : 0, a_{13} : 0, a_{14} : r_{15}, a_{15} : r_{16}, a_{23} : r_{17}, a_{24} : r_{18}, a_{25} : r_{19}, a_{34} : \\frac{r_{17}}{x_{23}}, a_{35} : 0, a_{45} : 0\\right\\}\\right]$$"
      ],
      "text/plain": [
       "[{d1: r1,\n",
       "  d2: 0,\n",
       "  d3: 0,\n",
       "  d4: 0,\n",
       "  d5: r2,\n",
       "  a12: r3,\n",
       "  a13: r4,\n",
       "  a14: r5,\n",
       "  a15: r6,\n",
       "  a23: r7,\n",
       "  a24: r8,\n",
       "  a25: r9,\n",
       "  a34: r10,\n",
       "  a35: r11,\n",
       "  a45: 0},\n",
       " {d1: r12,\n",
       "  d2: r13,\n",
       "  d3: r13/x23,\n",
       "  d4: r13/(x23*x34),\n",
       "  d5: r14,\n",
       "  a12: 0,\n",
       "  a13: 0,\n",
       "  a14: r15,\n",
       "  a15: r16,\n",
       "  a23: r17,\n",
       "  a24: r18,\n",
       "  a25: r19,\n",
       "  a34: r17/x23,\n",
       "  a35: 0,\n",
       "  a45: 0}]"
      ]
     },
     "metadata": {},
     "output_type": "display_data"
    },
    {
     "data": {
      "text/plain": [
       "\\left[\\left\\{d_{1} : r_{1}, d_{2} : 0, d_{3} : 0, d_{4} : 0, d_{5} : r_{2}, a_{12} : r_{3}, a_{13} : r_{4}, a_{14} : r_{5}, a_{15} : r_{6}, a_{23} : r_{7}, a_{24} : r_{8}, a_{25} : r_{9}, a_{34} : r_{10}, a_{35} : r_{11}, a_{45} : 0\\right\\}, \\left\\{d_{1} : r_{12}, d_{2} : r_{13}, d_{3} : \\frac{r_{13}}{x_{23}}, d_{4} : \\frac{r_{13}}{x_{23} x_{34}}, d_{5} : r_{14}, a_{12} : 0, a_{13} : 0, a_{14} : r_{15}, a_{15} : r_{16}, a_{23} : r_{17}, a_{24} : r_{18}, a_{25} : r_{19}, a_{34} : \\frac{r_{17}}{x_{23}}, a_{35} : 0, a_{45} : 0\\right\\}\\right]"
      ]
     },
     "execution_count": 1,
     "metadata": {},
     "output_type": "execute_result"
    }
   ],
   "source": [
    "#x6\n",
    "reset()\n",
    "\n",
    "var('x12,x13,x14,x15,x23,x24,x25,x34,x35,x45')\n",
    "var('d1,d2,d3,d4,d5')\n",
    "var('a12,a13,a14,a15,a23,a24,a25,a34,a35,a45')\n",
    "\n",
    "load_attach_path('C:\\\\Users\\\\julia\\\\Documents\\\\unb\\\\doutorado\\\\pensar\\\\codigo_sage_v2\\\\maquina\\\\x6')\n",
    "load('out_#000000.sage')\n",
    "\n",
    "m=matrix(QQ, [[0, 0, 0, 0, 0],\n",
    "              [0, 0, 1, 0, 0],\n",
    "              [0, 0, 0, 1, 0],\n",
    "              [0, 0, 0, 0, 0],\n",
    "              [0, 0, 0, 0, 0]])\n",
    "        \n",
    "#entry of matrix: (i,j) line i collum j, means (i-1,j-1)\n",
    "sol=solve([ eq1==m[0,2],\teq2==m[0,3],\teq3==m[0,4],\teq4==m[1,2],\t\n",
    "                                            eq5==m[1,3],    eq6==m[1,4],\n",
    "                                                            eq7==m[2,3], eq8==m[2,4]],d1,d2,d3,d4,d5,a12,a13,a14,a15,a23,a24,a25,a34,a35,a45, solution_dict=True)\n",
    "\n",
    "show(m)\n",
    "show(sol)\n",
    "latex(sol)"
   ]
  },
  {
   "cell_type": "code",
   "execution_count": 4,
   "metadata": {},
   "outputs": [
    {
     "data": {
      "text/html": [
       "<html><script type=\"math/tex; mode=display\">\\newcommand{\\Bold}[1]{\\mathbf{#1}}\\left(\\begin{array}{rrrrr}\n",
       "0 & 0 & 0 & 0 & 1 \\\\\n",
       "0 & 0 & 1 & 0 & 0 \\\\\n",
       "0 & 0 & 0 & 1 & 0 \\\\\n",
       "0 & 0 & 0 & 0 & 0 \\\\\n",
       "0 & 0 & 0 & 0 & 0\n",
       "\\end{array}\\right)</script></html>"
      ],
      "text/latex": [
       "$$\\newcommand{\\Bold}[1]{\\mathbf{#1}}\\left(\\begin{array}{rrrrr}\n",
       "0 & 0 & 0 & 0 & 1 \\\\\n",
       "0 & 0 & 1 & 0 & 0 \\\\\n",
       "0 & 0 & 0 & 1 & 0 \\\\\n",
       "0 & 0 & 0 & 0 & 0 \\\\\n",
       "0 & 0 & 0 & 0 & 0\n",
       "\\end{array}\\right)$$"
      ],
      "text/plain": [
       "[0 0 0 0 1]\n",
       "[0 0 1 0 0]\n",
       "[0 0 0 1 0]\n",
       "[0 0 0 0 0]\n",
       "[0 0 0 0 0]"
      ]
     },
     "metadata": {},
     "output_type": "display_data"
    },
    {
     "data": {
      "text/html": [
       "<html><script type=\"math/tex; mode=display\">\\newcommand{\\Bold}[1]{\\mathbf{#1}}\\left[\\left\\{d_{1} : r_{55}, d_{2} : 0, d_{3} : 0, d_{4} : 0, d_{5} : r_{56}, a_{12} : r_{57}, a_{13} : r_{58}, a_{14} : r_{59}, a_{15} : r_{60}, a_{23} : r_{61}, a_{24} : r_{62}, a_{25} : r_{63}, a_{34} : r_{64}, a_{35} : r_{65}, a_{45} : 0\\right\\}, \\left\\{d_{1} : r_{66}, d_{2} : r_{67}, d_{3} : \\frac{r_{67}}{x_{23}}, d_{4} : \\frac{r_{67}}{x_{23} x_{34}}, d_{5} : \\frac{r_{66}}{x_{15}}, a_{12} : 0, a_{13} : 0, a_{14} : r_{68}, a_{15} : r_{69}, a_{23} : r_{70}, a_{24} : r_{71}, a_{25} : r_{72}, a_{34} : \\frac{r_{70}}{x_{23}}, a_{35} : 0, a_{45} : 0\\right\\}\\right]</script></html>"
      ],
      "text/latex": [
       "$$\\newcommand{\\Bold}[1]{\\mathbf{#1}}\\left[\\left\\{d_{1} : r_{55}, d_{2} : 0, d_{3} : 0, d_{4} : 0, d_{5} : r_{56}, a_{12} : r_{57}, a_{13} : r_{58}, a_{14} : r_{59}, a_{15} : r_{60}, a_{23} : r_{61}, a_{24} : r_{62}, a_{25} : r_{63}, a_{34} : r_{64}, a_{35} : r_{65}, a_{45} : 0\\right\\}, \\left\\{d_{1} : r_{66}, d_{2} : r_{67}, d_{3} : \\frac{r_{67}}{x_{23}}, d_{4} : \\frac{r_{67}}{x_{23} x_{34}}, d_{5} : \\frac{r_{66}}{x_{15}}, a_{12} : 0, a_{13} : 0, a_{14} : r_{68}, a_{15} : r_{69}, a_{23} : r_{70}, a_{24} : r_{71}, a_{25} : r_{72}, a_{34} : \\frac{r_{70}}{x_{23}}, a_{35} : 0, a_{45} : 0\\right\\}\\right]$$"
      ],
      "text/plain": [
       "[{d1: r55,\n",
       "  d2: 0,\n",
       "  d3: 0,\n",
       "  d4: 0,\n",
       "  d5: r56,\n",
       "  a12: r57,\n",
       "  a13: r58,\n",
       "  a14: r59,\n",
       "  a15: r60,\n",
       "  a23: r61,\n",
       "  a24: r62,\n",
       "  a25: r63,\n",
       "  a34: r64,\n",
       "  a35: r65,\n",
       "  a45: 0},\n",
       " {d1: r66,\n",
       "  d2: r67,\n",
       "  d3: r67/x23,\n",
       "  d4: r67/(x23*x34),\n",
       "  d5: r66/x15,\n",
       "  a12: 0,\n",
       "  a13: 0,\n",
       "  a14: r68,\n",
       "  a15: r69,\n",
       "  a23: r70,\n",
       "  a24: r71,\n",
       "  a25: r72,\n",
       "  a34: r70/x23,\n",
       "  a35: 0,\n",
       "  a45: 0}]"
      ]
     },
     "metadata": {},
     "output_type": "display_data"
    },
    {
     "data": {
      "text/plain": [
       "\\left[\\left\\{d_{1} : r_{55}, d_{2} : 0, d_{3} : 0, d_{4} : 0, d_{5} : r_{56}, a_{12} : r_{57}, a_{13} : r_{58}, a_{14} : r_{59}, a_{15} : r_{60}, a_{23} : r_{61}, a_{24} : r_{62}, a_{25} : r_{63}, a_{34} : r_{64}, a_{35} : r_{65}, a_{45} : 0\\right\\}, \\left\\{d_{1} : r_{66}, d_{2} : r_{67}, d_{3} : \\frac{r_{67}}{x_{23}}, d_{4} : \\frac{r_{67}}{x_{23} x_{34}}, d_{5} : \\frac{r_{66}}{x_{15}}, a_{12} : 0, a_{13} : 0, a_{14} : r_{68}, a_{15} : r_{69}, a_{23} : r_{70}, a_{24} : r_{71}, a_{25} : r_{72}, a_{34} : \\frac{r_{70}}{x_{23}}, a_{35} : 0, a_{45} : 0\\right\\}\\right]"
      ]
     },
     "execution_count": 4,
     "metadata": {},
     "output_type": "execute_result"
    }
   ],
   "source": [
    "#x6\n",
    "reset()\n",
    "\n",
    "var('x12,x13,x14,x15,x23,x24,x25,x34,x35,x45')\n",
    "var('d1,d2,d3,d4,d5')\n",
    "var('a12,a13,a14,a15,a23,a24,a25,a34,a35,a45')\n",
    "\n",
    "load_attach_path('C:\\\\Users\\\\julia\\\\Documents\\\\unb\\\\doutorado\\\\pensar\\\\codigo_sage_v2\\\\maquina\\\\x6')\n",
    "load('out_#000001.sage')\n",
    "\n",
    "m=matrix(QQ, [[0, 0, 0, 0, 1],\n",
    "              [0, 0, 1, 0, 0],\n",
    "              [0, 0, 0, 1, 0],\n",
    "              [0, 0, 0, 0, 0],\n",
    "              [0, 0, 0, 0, 0]])\n",
    "        \n",
    "#entry of matrix: (i,j) line i collum j, means (i-1,j-1)\n",
    "sol=solve([ eq1==m[0,2],\teq2==m[0,3],\teq3==m[0,4],\teq4==m[1,2],\t\n",
    "                                            eq5==m[1,3],    eq6==m[1,4],\n",
    "                                                            eq7==m[2,3], eq8==m[2,4]],d1,d2,d3,d4,d5,a12,a13,a14,a15,a23,a24,a25,a34,a35,a45, solution_dict=True)\n",
    "\n",
    "show(m)\n",
    "show(sol)\n",
    "latex(sol)"
   ]
  },
  {
   "cell_type": "code",
   "execution_count": 5,
   "metadata": {},
   "outputs": [
    {
     "data": {
      "text/html": [
       "<html><script type=\"math/tex; mode=display\">\\newcommand{\\Bold}[1]{\\mathbf{#1}}\\left(\\begin{array}{rrrrr}\n",
       "0 & 0 & 0 & 0 & 0 \\\\\n",
       "0 & 0 & 1 & 0 & 0 \\\\\n",
       "0 & 0 & 0 & 1 & 0 \\\\\n",
       "0 & 0 & 0 & 0 & 0 \\\\\n",
       "0 & 0 & 0 & 0 & 0\n",
       "\\end{array}\\right)</script></html>"
      ],
      "text/latex": [
       "$$\\newcommand{\\Bold}[1]{\\mathbf{#1}}\\left(\\begin{array}{rrrrr}\n",
       "0 & 0 & 0 & 0 & 0 \\\\\n",
       "0 & 0 & 1 & 0 & 0 \\\\\n",
       "0 & 0 & 0 & 1 & 0 \\\\\n",
       "0 & 0 & 0 & 0 & 0 \\\\\n",
       "0 & 0 & 0 & 0 & 0\n",
       "\\end{array}\\right)$$"
      ],
      "text/plain": [
       "[0 0 0 0 0]\n",
       "[0 0 1 0 0]\n",
       "[0 0 0 1 0]\n",
       "[0 0 0 0 0]\n",
       "[0 0 0 0 0]"
      ]
     },
     "metadata": {},
     "output_type": "display_data"
    },
    {
     "data": {
      "text/html": [
       "<html><script type=\"math/tex; mode=display\">\\newcommand{\\Bold}[1]{\\mathbf{#1}}\\left[\\left\\{d_{1} : r_{73}, d_{2} : 0, d_{3} : 0, d_{4} : 0, d_{5} : r_{74}, a_{12} : r_{75}, a_{13} : r_{76}, a_{14} : r_{77}, a_{15} : r_{78}, a_{23} : r_{79}, a_{24} : r_{80}, a_{25} : r_{81}, a_{34} : r_{82}, a_{35} : r_{83}, a_{45} : 0\\right\\}, \\left\\{d_{1} : r_{84}, d_{2} : r_{85}, d_{3} : \\frac{r_{85}}{x_{23}}, d_{4} : \\frac{r_{85}}{x_{23} x_{34}}, d_{5} : r_{86}, a_{12} : 0, a_{13} : \\frac{r_{85} x_{14}}{x_{23} x_{34}}, a_{14} : r_{87}, a_{15} : r_{88}, a_{23} : r_{89}, a_{24} : r_{90}, a_{25} : r_{91}, a_{34} : \\frac{r_{89}}{x_{23}}, a_{35} : 0, a_{45} : 0\\right\\}\\right]</script></html>"
      ],
      "text/latex": [
       "$$\\newcommand{\\Bold}[1]{\\mathbf{#1}}\\left[\\left\\{d_{1} : r_{73}, d_{2} : 0, d_{3} : 0, d_{4} : 0, d_{5} : r_{74}, a_{12} : r_{75}, a_{13} : r_{76}, a_{14} : r_{77}, a_{15} : r_{78}, a_{23} : r_{79}, a_{24} : r_{80}, a_{25} : r_{81}, a_{34} : r_{82}, a_{35} : r_{83}, a_{45} : 0\\right\\}, \\left\\{d_{1} : r_{84}, d_{2} : r_{85}, d_{3} : \\frac{r_{85}}{x_{23}}, d_{4} : \\frac{r_{85}}{x_{23} x_{34}}, d_{5} : r_{86}, a_{12} : 0, a_{13} : \\frac{r_{85} x_{14}}{x_{23} x_{34}}, a_{14} : r_{87}, a_{15} : r_{88}, a_{23} : r_{89}, a_{24} : r_{90}, a_{25} : r_{91}, a_{34} : \\frac{r_{89}}{x_{23}}, a_{35} : 0, a_{45} : 0\\right\\}\\right]$$"
      ],
      "text/plain": [
       "[{d1: r73,\n",
       "  d2: 0,\n",
       "  d3: 0,\n",
       "  d4: 0,\n",
       "  d5: r74,\n",
       "  a12: r75,\n",
       "  a13: r76,\n",
       "  a14: r77,\n",
       "  a15: r78,\n",
       "  a23: r79,\n",
       "  a24: r80,\n",
       "  a25: r81,\n",
       "  a34: r82,\n",
       "  a35: r83,\n",
       "  a45: 0},\n",
       " {d1: r84,\n",
       "  d2: r85,\n",
       "  d3: r85/x23,\n",
       "  d4: r85/(x23*x34),\n",
       "  d5: r86,\n",
       "  a12: 0,\n",
       "  a13: r85*x14/(x23*x34),\n",
       "  a14: r87,\n",
       "  a15: r88,\n",
       "  a23: r89,\n",
       "  a24: r90,\n",
       "  a25: r91,\n",
       "  a34: r89/x23,\n",
       "  a35: 0,\n",
       "  a45: 0}]"
      ]
     },
     "metadata": {},
     "output_type": "display_data"
    },
    {
     "data": {
      "text/plain": [
       "\\left[\\left\\{d_{1} : r_{73}, d_{2} : 0, d_{3} : 0, d_{4} : 0, d_{5} : r_{74}, a_{12} : r_{75}, a_{13} : r_{76}, a_{14} : r_{77}, a_{15} : r_{78}, a_{23} : r_{79}, a_{24} : r_{80}, a_{25} : r_{81}, a_{34} : r_{82}, a_{35} : r_{83}, a_{45} : 0\\right\\}, \\left\\{d_{1} : r_{84}, d_{2} : r_{85}, d_{3} : \\frac{r_{85}}{x_{23}}, d_{4} : \\frac{r_{85}}{x_{23} x_{34}}, d_{5} : r_{86}, a_{12} : 0, a_{13} : \\frac{r_{85} x_{14}}{x_{23} x_{34}}, a_{14} : r_{87}, a_{15} : r_{88}, a_{23} : r_{89}, a_{24} : r_{90}, a_{25} : r_{91}, a_{34} : \\frac{r_{89}}{x_{23}}, a_{35} : 0, a_{45} : 0\\right\\}\\right]"
      ]
     },
     "execution_count": 5,
     "metadata": {},
     "output_type": "execute_result"
    }
   ],
   "source": [
    "#x6\n",
    "reset()\n",
    "\n",
    "var('x12,x13,x14,x15,x23,x24,x25,x34,x35,x45')\n",
    "var('d1,d2,d3,d4,d5')\n",
    "var('a12,a13,a14,a15,a23,a24,a25,a34,a35,a45')\n",
    "\n",
    "load_attach_path('C:\\\\Users\\\\julia\\\\Documents\\\\unb\\\\doutorado\\\\pensar\\\\codigo_sage_v2\\\\maquina\\\\x6')\n",
    "load('out_#000010.sage')\n",
    "\n",
    "m=matrix(QQ, [[0, 0, 0, 0, 0],\n",
    "              [0, 0, 1, 0, 0],\n",
    "              [0, 0, 0, 1, 0],\n",
    "              [0, 0, 0, 0, 0],\n",
    "              [0, 0, 0, 0, 0]])\n",
    "        \n",
    "#entry of matrix: (i,j) line i collum j, means (i-1,j-1)\n",
    "sol=solve([ eq1==m[0,2],\teq2==m[0,3],\teq3==m[0,4],\teq4==m[1,2],\t\n",
    "                                            eq5==m[1,3],    eq6==m[1,4],\n",
    "                                                            eq7==m[2,3], eq8==m[2,4]],d1,d2,d3,d4,d5,a12,a13,a14,a15,a23,a24,a25,a34,a35,a45, solution_dict=True)\n",
    "\n",
    "show(m)\n",
    "show(sol)\n",
    "latex(sol)"
   ]
  },
  {
   "cell_type": "code",
   "execution_count": 7,
   "metadata": {},
   "outputs": [
    {
     "data": {
      "text/html": [
       "<html><script type=\"math/tex; mode=display\">\\newcommand{\\Bold}[1]{\\mathbf{#1}}\\left(\\begin{array}{rrrrr}\n",
       "0 & 0 & 0 & 0 & 1 \\\\\n",
       "0 & 0 & 1 & 0 & 0 \\\\\n",
       "0 & 0 & 0 & 1 & 0 \\\\\n",
       "0 & 0 & 0 & 0 & 0 \\\\\n",
       "0 & 0 & 0 & 0 & 0\n",
       "\\end{array}\\right)</script></html>"
      ],
      "text/latex": [
       "$$\\newcommand{\\Bold}[1]{\\mathbf{#1}}\\left(\\begin{array}{rrrrr}\n",
       "0 & 0 & 0 & 0 & 1 \\\\\n",
       "0 & 0 & 1 & 0 & 0 \\\\\n",
       "0 & 0 & 0 & 1 & 0 \\\\\n",
       "0 & 0 & 0 & 0 & 0 \\\\\n",
       "0 & 0 & 0 & 0 & 0\n",
       "\\end{array}\\right)$$"
      ],
      "text/plain": [
       "[0 0 0 0 1]\n",
       "[0 0 1 0 0]\n",
       "[0 0 0 1 0]\n",
       "[0 0 0 0 0]\n",
       "[0 0 0 0 0]"
      ]
     },
     "metadata": {},
     "output_type": "display_data"
    },
    {
     "data": {
      "text/html": [
       "<html><script type=\"math/tex; mode=display\">\\newcommand{\\Bold}[1]{\\mathbf{#1}}\\left[\\left\\{d_{1} : r_{110}, d_{2} : 0, d_{3} : 0, d_{4} : 0, d_{5} : r_{111}, a_{12} : r_{112}, a_{13} : r_{113}, a_{14} : r_{114}, a_{15} : r_{115}, a_{23} : r_{116}, a_{24} : r_{117}, a_{25} : r_{118}, a_{34} : r_{119}, a_{35} : r_{120}, a_{45} : 0\\right\\}, \\left\\{d_{1} : r_{121}, d_{2} : r_{122}, d_{3} : \\frac{r_{122}}{x_{23}}, d_{4} : \\frac{r_{122}}{x_{23} x_{34}}, d_{5} : \\frac{r_{121}}{x_{15}}, a_{12} : 0, a_{13} : \\frac{r_{122} x_{14}}{x_{23} x_{34}}, a_{14} : r_{123}, a_{15} : r_{124}, a_{23} : r_{125}, a_{24} : r_{126}, a_{25} : r_{127}, a_{34} : \\frac{r_{125}}{x_{23}}, a_{35} : 0, a_{45} : 0\\right\\}\\right]</script></html>"
      ],
      "text/latex": [
       "$$\\newcommand{\\Bold}[1]{\\mathbf{#1}}\\left[\\left\\{d_{1} : r_{110}, d_{2} : 0, d_{3} : 0, d_{4} : 0, d_{5} : r_{111}, a_{12} : r_{112}, a_{13} : r_{113}, a_{14} : r_{114}, a_{15} : r_{115}, a_{23} : r_{116}, a_{24} : r_{117}, a_{25} : r_{118}, a_{34} : r_{119}, a_{35} : r_{120}, a_{45} : 0\\right\\}, \\left\\{d_{1} : r_{121}, d_{2} : r_{122}, d_{3} : \\frac{r_{122}}{x_{23}}, d_{4} : \\frac{r_{122}}{x_{23} x_{34}}, d_{5} : \\frac{r_{121}}{x_{15}}, a_{12} : 0, a_{13} : \\frac{r_{122} x_{14}}{x_{23} x_{34}}, a_{14} : r_{123}, a_{15} : r_{124}, a_{23} : r_{125}, a_{24} : r_{126}, a_{25} : r_{127}, a_{34} : \\frac{r_{125}}{x_{23}}, a_{35} : 0, a_{45} : 0\\right\\}\\right]$$"
      ],
      "text/plain": [
       "[{d1: r110,\n",
       "  d2: 0,\n",
       "  d3: 0,\n",
       "  d4: 0,\n",
       "  d5: r111,\n",
       "  a12: r112,\n",
       "  a13: r113,\n",
       "  a14: r114,\n",
       "  a15: r115,\n",
       "  a23: r116,\n",
       "  a24: r117,\n",
       "  a25: r118,\n",
       "  a34: r119,\n",
       "  a35: r120,\n",
       "  a45: 0},\n",
       " {d1: r121,\n",
       "  d2: r122,\n",
       "  d3: r122/x23,\n",
       "  d4: r122/(x23*x34),\n",
       "  d5: r121/x15,\n",
       "  a12: 0,\n",
       "  a13: r122*x14/(x23*x34),\n",
       "  a14: r123,\n",
       "  a15: r124,\n",
       "  a23: r125,\n",
       "  a24: r126,\n",
       "  a25: r127,\n",
       "  a34: r125/x23,\n",
       "  a35: 0,\n",
       "  a45: 0}]"
      ]
     },
     "metadata": {},
     "output_type": "display_data"
    },
    {
     "data": {
      "text/plain": [
       "\\left[\\left\\{d_{1} : r_{110}, d_{2} : 0, d_{3} : 0, d_{4} : 0, d_{5} : r_{111}, a_{12} : r_{112}, a_{13} : r_{113}, a_{14} : r_{114}, a_{15} : r_{115}, a_{23} : r_{116}, a_{24} : r_{117}, a_{25} : r_{118}, a_{34} : r_{119}, a_{35} : r_{120}, a_{45} : 0\\right\\}, \\left\\{d_{1} : r_{121}, d_{2} : r_{122}, d_{3} : \\frac{r_{122}}{x_{23}}, d_{4} : \\frac{r_{122}}{x_{23} x_{34}}, d_{5} : \\frac{r_{121}}{x_{15}}, a_{12} : 0, a_{13} : \\frac{r_{122} x_{14}}{x_{23} x_{34}}, a_{14} : r_{123}, a_{15} : r_{124}, a_{23} : r_{125}, a_{24} : r_{126}, a_{25} : r_{127}, a_{34} : \\frac{r_{125}}{x_{23}}, a_{35} : 0, a_{45} : 0\\right\\}\\right]"
      ]
     },
     "execution_count": 7,
     "metadata": {},
     "output_type": "execute_result"
    }
   ],
   "source": [
    "#x6\n",
    "reset()\n",
    "\n",
    "var('x12,x13,x14,x15,x23,x24,x25,x34,x35,x45')\n",
    "var('d1,d2,d3,d4,d5')\n",
    "var('a12,a13,a14,a15,a23,a24,a25,a34,a35,a45')\n",
    "\n",
    "load_attach_path('C:\\\\Users\\\\julia\\\\Documents\\\\unb\\\\doutorado\\\\pensar\\\\codigo_sage_v2\\\\maquina\\\\x6')\n",
    "load('out_#000011.sage')\n",
    "\n",
    "m=matrix(QQ, [[0, 0, 0, 0, 1],\n",
    "              [0, 0, 1, 0, 0],\n",
    "              [0, 0, 0, 1, 0],\n",
    "              [0, 0, 0, 0, 0],\n",
    "              [0, 0, 0, 0, 0]])\n",
    "        \n",
    "#entry of matrix: (i,j) line i collum j, means (i-1,j-1)\n",
    "sol=solve([ eq1==m[0,2],\teq2==m[0,3],\teq3==m[0,4],\teq4==m[1,2],\t\n",
    "                                            eq5==m[1,3],    eq6==m[1,4],\n",
    "                                                            eq7==m[2,3], eq8==m[2,4]],d1,d2,d3,d4,d5,a12,a13,a14,a15,a23,a24,a25,a34,a35,a45, solution_dict=True)\n",
    "\n",
    "show(m)\n",
    "show(sol)\n",
    "latex(sol)"
   ]
  },
  {
   "cell_type": "code",
   "execution_count": 8,
   "metadata": {},
   "outputs": [
    {
     "data": {
      "text/html": [
       "<html><script type=\"math/tex; mode=display\">\\newcommand{\\Bold}[1]{\\mathbf{#1}}\\left(\\begin{array}{rrrrr}\n",
       "0 & 0 & 0 & 0 & 0 \\\\\n",
       "0 & 0 & 1 & 0 & 0 \\\\\n",
       "0 & 0 & 0 & 1 & 0 \\\\\n",
       "0 & 0 & 0 & 0 & 0 \\\\\n",
       "0 & 0 & 0 & 0 & 0\n",
       "\\end{array}\\right)</script></html>"
      ],
      "text/latex": [
       "$$\\newcommand{\\Bold}[1]{\\mathbf{#1}}\\left(\\begin{array}{rrrrr}\n",
       "0 & 0 & 0 & 0 & 0 \\\\\n",
       "0 & 0 & 1 & 0 & 0 \\\\\n",
       "0 & 0 & 0 & 1 & 0 \\\\\n",
       "0 & 0 & 0 & 0 & 0 \\\\\n",
       "0 & 0 & 0 & 0 & 0\n",
       "\\end{array}\\right)$$"
      ],
      "text/plain": [
       "[0 0 0 0 0]\n",
       "[0 0 1 0 0]\n",
       "[0 0 0 1 0]\n",
       "[0 0 0 0 0]\n",
       "[0 0 0 0 0]"
      ]
     },
     "metadata": {},
     "output_type": "display_data"
    },
    {
     "data": {
      "text/html": [
       "<html><script type=\"math/tex; mode=display\">\\newcommand{\\Bold}[1]{\\mathbf{#1}}\\left[\\left\\{d_{1} : r_{128}, d_{2} : 0, d_{3} : 0, d_{4} : 0, d_{5} : r_{129}, a_{12} : r_{130}, a_{13} : r_{131}, a_{14} : r_{132}, a_{15} : r_{133}, a_{23} : r_{134}, a_{24} : r_{135}, a_{25} : r_{136}, a_{34} : r_{137}, a_{35} : r_{138}, a_{45} : 0\\right\\}, \\left\\{d_{1} : r_{139}, d_{2} : r_{140}, d_{3} : \\frac{r_{140}}{x_{23}}, d_{4} : \\frac{r_{140}}{x_{23} x_{34}}, d_{5} : r_{141}, a_{12} : \\frac{r_{140} x_{13}}{x_{23}}, a_{13} : r_{142}, a_{14} : r_{143}, a_{15} : r_{144}, a_{23} : \\frac{r_{142} x_{23}}{x_{13}}, a_{24} : r_{145}, a_{25} : r_{146}, a_{34} : \\frac{r_{142}}{x_{13}}, a_{35} : 0, a_{45} : 0\\right\\}\\right]</script></html>"
      ],
      "text/latex": [
       "$$\\newcommand{\\Bold}[1]{\\mathbf{#1}}\\left[\\left\\{d_{1} : r_{128}, d_{2} : 0, d_{3} : 0, d_{4} : 0, d_{5} : r_{129}, a_{12} : r_{130}, a_{13} : r_{131}, a_{14} : r_{132}, a_{15} : r_{133}, a_{23} : r_{134}, a_{24} : r_{135}, a_{25} : r_{136}, a_{34} : r_{137}, a_{35} : r_{138}, a_{45} : 0\\right\\}, \\left\\{d_{1} : r_{139}, d_{2} : r_{140}, d_{3} : \\frac{r_{140}}{x_{23}}, d_{4} : \\frac{r_{140}}{x_{23} x_{34}}, d_{5} : r_{141}, a_{12} : \\frac{r_{140} x_{13}}{x_{23}}, a_{13} : r_{142}, a_{14} : r_{143}, a_{15} : r_{144}, a_{23} : \\frac{r_{142} x_{23}}{x_{13}}, a_{24} : r_{145}, a_{25} : r_{146}, a_{34} : \\frac{r_{142}}{x_{13}}, a_{35} : 0, a_{45} : 0\\right\\}\\right]$$"
      ],
      "text/plain": [
       "[{d1: r128,\n",
       "  d2: 0,\n",
       "  d3: 0,\n",
       "  d4: 0,\n",
       "  d5: r129,\n",
       "  a12: r130,\n",
       "  a13: r131,\n",
       "  a14: r132,\n",
       "  a15: r133,\n",
       "  a23: r134,\n",
       "  a24: r135,\n",
       "  a25: r136,\n",
       "  a34: r137,\n",
       "  a35: r138,\n",
       "  a45: 0},\n",
       " {d1: r139,\n",
       "  d2: r140,\n",
       "  d3: r140/x23,\n",
       "  d4: r140/(x23*x34),\n",
       "  d5: r141,\n",
       "  a12: r140*x13/x23,\n",
       "  a13: r142,\n",
       "  a14: r143,\n",
       "  a15: r144,\n",
       "  a23: r142*x23/x13,\n",
       "  a24: r145,\n",
       "  a25: r146,\n",
       "  a34: r142/x13,\n",
       "  a35: 0,\n",
       "  a45: 0}]"
      ]
     },
     "metadata": {},
     "output_type": "display_data"
    },
    {
     "data": {
      "text/plain": [
       "\\left[\\left\\{d_{1} : r_{128}, d_{2} : 0, d_{3} : 0, d_{4} : 0, d_{5} : r_{129}, a_{12} : r_{130}, a_{13} : r_{131}, a_{14} : r_{132}, a_{15} : r_{133}, a_{23} : r_{134}, a_{24} : r_{135}, a_{25} : r_{136}, a_{34} : r_{137}, a_{35} : r_{138}, a_{45} : 0\\right\\}, \\left\\{d_{1} : r_{139}, d_{2} : r_{140}, d_{3} : \\frac{r_{140}}{x_{23}}, d_{4} : \\frac{r_{140}}{x_{23} x_{34}}, d_{5} : r_{141}, a_{12} : \\frac{r_{140} x_{13}}{x_{23}}, a_{13} : r_{142}, a_{14} : r_{143}, a_{15} : r_{144}, a_{23} : \\frac{r_{142} x_{23}}{x_{13}}, a_{24} : r_{145}, a_{25} : r_{146}, a_{34} : \\frac{r_{142}}{x_{13}}, a_{35} : 0, a_{45} : 0\\right\\}\\right]"
      ]
     },
     "execution_count": 8,
     "metadata": {},
     "output_type": "execute_result"
    }
   ],
   "source": [
    "#x6\n",
    "reset()\n",
    "\n",
    "var('x12,x13,x14,x15,x23,x24,x25,x34,x35,x45')\n",
    "var('d1,d2,d3,d4,d5')\n",
    "var('a12,a13,a14,a15,a23,a24,a25,a34,a35,a45')\n",
    "\n",
    "load_attach_path('C:\\\\Users\\\\julia\\\\Documents\\\\unb\\\\doutorado\\\\pensar\\\\codigo_sage_v2\\\\maquina\\\\x6')\n",
    "load('out_#000100.sage')\n",
    "\n",
    "m=matrix(QQ, [[0, 0, 0, 0, 0],\n",
    "              [0, 0, 1, 0, 0],\n",
    "              [0, 0, 0, 1, 0],\n",
    "              [0, 0, 0, 0, 0],\n",
    "              [0, 0, 0, 0, 0]])\n",
    "        \n",
    "#entry of matrix: (i,j) line i collum j, means (i-1,j-1)\n",
    "sol=solve([ eq1==m[0,2],\teq2==m[0,3],\teq3==m[0,4],\teq4==m[1,2],\t\n",
    "                                            eq5==m[1,3],    eq6==m[1,4],\n",
    "                                                            eq7==m[2,3], eq8==m[2,4]],d1,d2,d3,d4,d5,a12,a13,a14,a15,a23,a24,a25,a34,a35,a45, solution_dict=True)\n",
    "\n",
    "show(m)\n",
    "show(sol)\n",
    "latex(sol)"
   ]
  },
  {
   "cell_type": "code",
   "execution_count": 9,
   "metadata": {},
   "outputs": [
    {
     "data": {
      "text/html": [
       "<html><script type=\"math/tex; mode=display\">\\newcommand{\\Bold}[1]{\\mathbf{#1}}\\left(\\begin{array}{rrrrr}\n",
       "0 & 0 & 0 & 0 & 1 \\\\\n",
       "0 & 0 & 1 & 0 & 0 \\\\\n",
       "0 & 0 & 0 & 1 & 0 \\\\\n",
       "0 & 0 & 0 & 0 & 0 \\\\\n",
       "0 & 0 & 0 & 0 & 0\n",
       "\\end{array}\\right)</script></html>"
      ],
      "text/latex": [
       "$$\\newcommand{\\Bold}[1]{\\mathbf{#1}}\\left(\\begin{array}{rrrrr}\n",
       "0 & 0 & 0 & 0 & 1 \\\\\n",
       "0 & 0 & 1 & 0 & 0 \\\\\n",
       "0 & 0 & 0 & 1 & 0 \\\\\n",
       "0 & 0 & 0 & 0 & 0 \\\\\n",
       "0 & 0 & 0 & 0 & 0\n",
       "\\end{array}\\right)$$"
      ],
      "text/plain": [
       "[0 0 0 0 1]\n",
       "[0 0 1 0 0]\n",
       "[0 0 0 1 0]\n",
       "[0 0 0 0 0]\n",
       "[0 0 0 0 0]"
      ]
     },
     "metadata": {},
     "output_type": "display_data"
    },
    {
     "data": {
      "text/html": [
       "<html><script type=\"math/tex; mode=display\">\\newcommand{\\Bold}[1]{\\mathbf{#1}}\\left[\\left\\{d_{1} : r_{147}, d_{2} : 0, d_{3} : 0, d_{4} : 0, d_{5} : r_{148}, a_{12} : r_{149}, a_{13} : r_{150}, a_{14} : r_{151}, a_{15} : r_{152}, a_{23} : r_{153}, a_{24} : r_{154}, a_{25} : r_{155}, a_{34} : r_{156}, a_{35} : r_{157}, a_{45} : 0\\right\\}, \\left\\{d_{1} : r_{158}, d_{2} : r_{159}, d_{3} : \\frac{r_{159}}{x_{23}}, d_{4} : \\frac{r_{159}}{x_{23} x_{34}}, d_{5} : \\frac{r_{158}}{x_{15}}, a_{12} : \\frac{r_{159} x_{13}}{x_{23}}, a_{13} : r_{160}, a_{14} : r_{161}, a_{15} : r_{162}, a_{23} : \\frac{r_{160} x_{23}}{x_{13}}, a_{24} : r_{163}, a_{25} : r_{164}, a_{34} : \\frac{r_{160}}{x_{13}}, a_{35} : 0, a_{45} : 0\\right\\}\\right]</script></html>"
      ],
      "text/latex": [
       "$$\\newcommand{\\Bold}[1]{\\mathbf{#1}}\\left[\\left\\{d_{1} : r_{147}, d_{2} : 0, d_{3} : 0, d_{4} : 0, d_{5} : r_{148}, a_{12} : r_{149}, a_{13} : r_{150}, a_{14} : r_{151}, a_{15} : r_{152}, a_{23} : r_{153}, a_{24} : r_{154}, a_{25} : r_{155}, a_{34} : r_{156}, a_{35} : r_{157}, a_{45} : 0\\right\\}, \\left\\{d_{1} : r_{158}, d_{2} : r_{159}, d_{3} : \\frac{r_{159}}{x_{23}}, d_{4} : \\frac{r_{159}}{x_{23} x_{34}}, d_{5} : \\frac{r_{158}}{x_{15}}, a_{12} : \\frac{r_{159} x_{13}}{x_{23}}, a_{13} : r_{160}, a_{14} : r_{161}, a_{15} : r_{162}, a_{23} : \\frac{r_{160} x_{23}}{x_{13}}, a_{24} : r_{163}, a_{25} : r_{164}, a_{34} : \\frac{r_{160}}{x_{13}}, a_{35} : 0, a_{45} : 0\\right\\}\\right]$$"
      ],
      "text/plain": [
       "[{d1: r147,\n",
       "  d2: 0,\n",
       "  d3: 0,\n",
       "  d4: 0,\n",
       "  d5: r148,\n",
       "  a12: r149,\n",
       "  a13: r150,\n",
       "  a14: r151,\n",
       "  a15: r152,\n",
       "  a23: r153,\n",
       "  a24: r154,\n",
       "  a25: r155,\n",
       "  a34: r156,\n",
       "  a35: r157,\n",
       "  a45: 0},\n",
       " {d1: r158,\n",
       "  d2: r159,\n",
       "  d3: r159/x23,\n",
       "  d4: r159/(x23*x34),\n",
       "  d5: r158/x15,\n",
       "  a12: r159*x13/x23,\n",
       "  a13: r160,\n",
       "  a14: r161,\n",
       "  a15: r162,\n",
       "  a23: r160*x23/x13,\n",
       "  a24: r163,\n",
       "  a25: r164,\n",
       "  a34: r160/x13,\n",
       "  a35: 0,\n",
       "  a45: 0}]"
      ]
     },
     "metadata": {},
     "output_type": "display_data"
    },
    {
     "data": {
      "text/plain": [
       "\\left[\\left\\{d_{1} : r_{147}, d_{2} : 0, d_{3} : 0, d_{4} : 0, d_{5} : r_{148}, a_{12} : r_{149}, a_{13} : r_{150}, a_{14} : r_{151}, a_{15} : r_{152}, a_{23} : r_{153}, a_{24} : r_{154}, a_{25} : r_{155}, a_{34} : r_{156}, a_{35} : r_{157}, a_{45} : 0\\right\\}, \\left\\{d_{1} : r_{158}, d_{2} : r_{159}, d_{3} : \\frac{r_{159}}{x_{23}}, d_{4} : \\frac{r_{159}}{x_{23} x_{34}}, d_{5} : \\frac{r_{158}}{x_{15}}, a_{12} : \\frac{r_{159} x_{13}}{x_{23}}, a_{13} : r_{160}, a_{14} : r_{161}, a_{15} : r_{162}, a_{23} : \\frac{r_{160} x_{23}}{x_{13}}, a_{24} : r_{163}, a_{25} : r_{164}, a_{34} : \\frac{r_{160}}{x_{13}}, a_{35} : 0, a_{45} : 0\\right\\}\\right]"
      ]
     },
     "execution_count": 9,
     "metadata": {},
     "output_type": "execute_result"
    }
   ],
   "source": [
    "#x6\n",
    "reset()\n",
    "\n",
    "var('x12,x13,x14,x15,x23,x24,x25,x34,x35,x45')\n",
    "var('d1,d2,d3,d4,d5')\n",
    "var('a12,a13,a14,a15,a23,a24,a25,a34,a35,a45')\n",
    "\n",
    "load_attach_path('C:\\\\Users\\\\julia\\\\Documents\\\\unb\\\\doutorado\\\\pensar\\\\codigo_sage_v2\\\\maquina\\\\x6')\n",
    "load('out_#000101.sage')\n",
    "\n",
    "m=matrix(QQ, [[0, 0, 0, 0, 1],\n",
    "              [0, 0, 1, 0, 0],\n",
    "              [0, 0, 0, 1, 0],\n",
    "              [0, 0, 0, 0, 0],\n",
    "              [0, 0, 0, 0, 0]])\n",
    "        \n",
    "#entry of matrix: (i,j) line i collum j, means (i-1,j-1)\n",
    "sol=solve([ eq1==m[0,2],\teq2==m[0,3],\teq3==m[0,4],\teq4==m[1,2],\t\n",
    "                                            eq5==m[1,3],    eq6==m[1,4],\n",
    "                                                            eq7==m[2,3], eq8==m[2,4]],d1,d2,d3,d4,d5,a12,a13,a14,a15,a23,a24,a25,a34,a35,a45, solution_dict=True)\n",
    "\n",
    "show(m)\n",
    "show(sol)\n",
    "latex(sol)"
   ]
  },
  {
   "cell_type": "code",
   "execution_count": 10,
   "metadata": {},
   "outputs": [
    {
     "data": {
      "text/html": [
       "<html><script type=\"math/tex; mode=display\">\\newcommand{\\Bold}[1]{\\mathbf{#1}}\\left(\\begin{array}{rrrrr}\n",
       "0 & 0 & 0 & 0 & 0 \\\\\n",
       "0 & 0 & 1 & 0 & 0 \\\\\n",
       "0 & 0 & 0 & 1 & 0 \\\\\n",
       "0 & 0 & 0 & 0 & 0 \\\\\n",
       "0 & 0 & 0 & 0 & 0\n",
       "\\end{array}\\right)</script></html>"
      ],
      "text/latex": [
       "$$\\newcommand{\\Bold}[1]{\\mathbf{#1}}\\left(\\begin{array}{rrrrr}\n",
       "0 & 0 & 0 & 0 & 0 \\\\\n",
       "0 & 0 & 1 & 0 & 0 \\\\\n",
       "0 & 0 & 0 & 1 & 0 \\\\\n",
       "0 & 0 & 0 & 0 & 0 \\\\\n",
       "0 & 0 & 0 & 0 & 0\n",
       "\\end{array}\\right)$$"
      ],
      "text/plain": [
       "[0 0 0 0 0]\n",
       "[0 0 1 0 0]\n",
       "[0 0 0 1 0]\n",
       "[0 0 0 0 0]\n",
       "[0 0 0 0 0]"
      ]
     },
     "metadata": {},
     "output_type": "display_data"
    },
    {
     "data": {
      "text/html": [
       "<html><script type=\"math/tex; mode=display\">\\newcommand{\\Bold}[1]{\\mathbf{#1}}\\left[\\left\\{d_{1} : r_{165}, d_{2} : 0, d_{3} : 0, d_{4} : 0, d_{5} : r_{166}, a_{12} : r_{167}, a_{13} : r_{168}, a_{14} : r_{169}, a_{15} : r_{170}, a_{23} : r_{171}, a_{24} : r_{172}, a_{25} : r_{173}, a_{34} : r_{174}, a_{35} : r_{175}, a_{45} : 0\\right\\}, \\left\\{d_{1} : r_{176}, d_{2} : r_{177}, d_{3} : \\frac{r_{177}}{x_{23}}, d_{4} : \\frac{r_{177}}{x_{23} x_{34}}, d_{5} : r_{178}, a_{12} : \\frac{r_{177} x_{13}}{x_{23}}, a_{13} : r_{179}, a_{14} : r_{180}, a_{15} : r_{181}, a_{23} : \\frac{r_{179} x_{23} x_{34} - r_{177} x_{14}}{x_{13} x_{34}}, a_{24} : r_{182}, a_{25} : r_{183}, a_{34} : \\frac{r_{179} x_{23} x_{34} - r_{177} x_{14}}{x_{13} x_{23} x_{34}}, a_{35} : 0, a_{45} : 0\\right\\}\\right]</script></html>"
      ],
      "text/latex": [
       "$$\\newcommand{\\Bold}[1]{\\mathbf{#1}}\\left[\\left\\{d_{1} : r_{165}, d_{2} : 0, d_{3} : 0, d_{4} : 0, d_{5} : r_{166}, a_{12} : r_{167}, a_{13} : r_{168}, a_{14} : r_{169}, a_{15} : r_{170}, a_{23} : r_{171}, a_{24} : r_{172}, a_{25} : r_{173}, a_{34} : r_{174}, a_{35} : r_{175}, a_{45} : 0\\right\\}, \\left\\{d_{1} : r_{176}, d_{2} : r_{177}, d_{3} : \\frac{r_{177}}{x_{23}}, d_{4} : \\frac{r_{177}}{x_{23} x_{34}}, d_{5} : r_{178}, a_{12} : \\frac{r_{177} x_{13}}{x_{23}}, a_{13} : r_{179}, a_{14} : r_{180}, a_{15} : r_{181}, a_{23} : \\frac{r_{179} x_{23} x_{34} - r_{177} x_{14}}{x_{13} x_{34}}, a_{24} : r_{182}, a_{25} : r_{183}, a_{34} : \\frac{r_{179} x_{23} x_{34} - r_{177} x_{14}}{x_{13} x_{23} x_{34}}, a_{35} : 0, a_{45} : 0\\right\\}\\right]$$"
      ],
      "text/plain": [
       "[{d1: r165,\n",
       "  d2: 0,\n",
       "  d3: 0,\n",
       "  d4: 0,\n",
       "  d5: r166,\n",
       "  a12: r167,\n",
       "  a13: r168,\n",
       "  a14: r169,\n",
       "  a15: r170,\n",
       "  a23: r171,\n",
       "  a24: r172,\n",
       "  a25: r173,\n",
       "  a34: r174,\n",
       "  a35: r175,\n",
       "  a45: 0},\n",
       " {d1: r176,\n",
       "  d2: r177,\n",
       "  d3: r177/x23,\n",
       "  d4: r177/(x23*x34),\n",
       "  d5: r178,\n",
       "  a12: r177*x13/x23,\n",
       "  a13: r179,\n",
       "  a14: r180,\n",
       "  a15: r181,\n",
       "  a23: (r179*x23*x34 - r177*x14)/(x13*x34),\n",
       "  a24: r182,\n",
       "  a25: r183,\n",
       "  a34: (r179*x23*x34 - r177*x14)/(x13*x23*x34),\n",
       "  a35: 0,\n",
       "  a45: 0}]"
      ]
     },
     "metadata": {},
     "output_type": "display_data"
    },
    {
     "data": {
      "text/plain": [
       "\\left[\\left\\{d_{1} : r_{165}, d_{2} : 0, d_{3} : 0, d_{4} : 0, d_{5} : r_{166}, a_{12} : r_{167}, a_{13} : r_{168}, a_{14} : r_{169}, a_{15} : r_{170}, a_{23} : r_{171}, a_{24} : r_{172}, a_{25} : r_{173}, a_{34} : r_{174}, a_{35} : r_{175}, a_{45} : 0\\right\\}, \\left\\{d_{1} : r_{176}, d_{2} : r_{177}, d_{3} : \\frac{r_{177}}{x_{23}}, d_{4} : \\frac{r_{177}}{x_{23} x_{34}}, d_{5} : r_{178}, a_{12} : \\frac{r_{177} x_{13}}{x_{23}}, a_{13} : r_{179}, a_{14} : r_{180}, a_{15} : r_{181}, a_{23} : \\frac{r_{179} x_{23} x_{34} - r_{177} x_{14}}{x_{13} x_{34}}, a_{24} : r_{182}, a_{25} : r_{183}, a_{34} : \\frac{r_{179} x_{23} x_{34} - r_{177} x_{14}}{x_{13} x_{23} x_{34}}, a_{35} : 0, a_{45} : 0\\right\\}\\right]"
      ]
     },
     "execution_count": 10,
     "metadata": {},
     "output_type": "execute_result"
    }
   ],
   "source": [
    "#x6\n",
    "reset()\n",
    "\n",
    "var('x12,x13,x14,x15,x23,x24,x25,x34,x35,x45')\n",
    "var('d1,d2,d3,d4,d5')\n",
    "var('a12,a13,a14,a15,a23,a24,a25,a34,a35,a45')\n",
    "\n",
    "load_attach_path('C:\\\\Users\\\\julia\\\\Documents\\\\unb\\\\doutorado\\\\pensar\\\\codigo_sage_v2\\\\maquina\\\\x6')\n",
    "load('out_#000110.sage')\n",
    "\n",
    "m=matrix(QQ, [[0, 0, 0, 0, 0],\n",
    "              [0, 0, 1, 0, 0],\n",
    "              [0, 0, 0, 1, 0],\n",
    "              [0, 0, 0, 0, 0],\n",
    "              [0, 0, 0, 0, 0]])\n",
    "        \n",
    "#entry of matrix: (i,j) line i collum j, means (i-1,j-1)\n",
    "sol=solve([ eq1==m[0,2],\teq2==m[0,3],\teq3==m[0,4],\teq4==m[1,2],\t\n",
    "                                            eq5==m[1,3],    eq6==m[1,4],\n",
    "                                                            eq7==m[2,3], eq8==m[2,4]],d1,d2,d3,d4,d5,a12,a13,a14,a15,a23,a24,a25,a34,a35,a45, solution_dict=True)\n",
    "\n",
    "show(m)\n",
    "show(sol)\n",
    "latex(sol)"
   ]
  },
  {
   "cell_type": "code",
   "execution_count": 11,
   "metadata": {},
   "outputs": [
    {
     "data": {
      "text/html": [
       "<html><script type=\"math/tex; mode=display\">\\newcommand{\\Bold}[1]{\\mathbf{#1}}\\left(\\begin{array}{rrrrr}\n",
       "0 & 0 & 0 & 0 & 1 \\\\\n",
       "0 & 0 & 1 & 0 & 0 \\\\\n",
       "0 & 0 & 0 & 1 & 0 \\\\\n",
       "0 & 0 & 0 & 0 & 0 \\\\\n",
       "0 & 0 & 0 & 0 & 0\n",
       "\\end{array}\\right)</script></html>"
      ],
      "text/latex": [
       "$$\\newcommand{\\Bold}[1]{\\mathbf{#1}}\\left(\\begin{array}{rrrrr}\n",
       "0 & 0 & 0 & 0 & 1 \\\\\n",
       "0 & 0 & 1 & 0 & 0 \\\\\n",
       "0 & 0 & 0 & 1 & 0 \\\\\n",
       "0 & 0 & 0 & 0 & 0 \\\\\n",
       "0 & 0 & 0 & 0 & 0\n",
       "\\end{array}\\right)$$"
      ],
      "text/plain": [
       "[0 0 0 0 1]\n",
       "[0 0 1 0 0]\n",
       "[0 0 0 1 0]\n",
       "[0 0 0 0 0]\n",
       "[0 0 0 0 0]"
      ]
     },
     "metadata": {},
     "output_type": "display_data"
    },
    {
     "data": {
      "text/html": [
       "<html><script type=\"math/tex; mode=display\">\\newcommand{\\Bold}[1]{\\mathbf{#1}}\\left[\\left\\{d_{1} : r_{184}, d_{2} : 0, d_{3} : 0, d_{4} : 0, d_{5} : r_{185}, a_{12} : r_{186}, a_{13} : r_{187}, a_{14} : r_{188}, a_{15} : r_{189}, a_{23} : r_{190}, a_{24} : r_{191}, a_{25} : r_{192}, a_{34} : r_{193}, a_{35} : r_{194}, a_{45} : 0\\right\\}, \\left\\{d_{1} : r_{195}, d_{2} : r_{196}, d_{3} : \\frac{r_{196}}{x_{23}}, d_{4} : \\frac{r_{196}}{x_{23} x_{34}}, d_{5} : \\frac{r_{195}}{x_{15}}, a_{12} : \\frac{r_{196} x_{13}}{x_{23}}, a_{13} : r_{197}, a_{14} : r_{198}, a_{15} : r_{199}, a_{23} : \\frac{r_{197} x_{23} x_{34} - r_{196} x_{14}}{x_{13} x_{34}}, a_{24} : r_{200}, a_{25} : r_{201}, a_{34} : \\frac{r_{197} x_{23} x_{34} - r_{196} x_{14}}{x_{13} x_{23} x_{34}}, a_{35} : 0, a_{45} : 0\\right\\}\\right]</script></html>"
      ],
      "text/latex": [
       "$$\\newcommand{\\Bold}[1]{\\mathbf{#1}}\\left[\\left\\{d_{1} : r_{184}, d_{2} : 0, d_{3} : 0, d_{4} : 0, d_{5} : r_{185}, a_{12} : r_{186}, a_{13} : r_{187}, a_{14} : r_{188}, a_{15} : r_{189}, a_{23} : r_{190}, a_{24} : r_{191}, a_{25} : r_{192}, a_{34} : r_{193}, a_{35} : r_{194}, a_{45} : 0\\right\\}, \\left\\{d_{1} : r_{195}, d_{2} : r_{196}, d_{3} : \\frac{r_{196}}{x_{23}}, d_{4} : \\frac{r_{196}}{x_{23} x_{34}}, d_{5} : \\frac{r_{195}}{x_{15}}, a_{12} : \\frac{r_{196} x_{13}}{x_{23}}, a_{13} : r_{197}, a_{14} : r_{198}, a_{15} : r_{199}, a_{23} : \\frac{r_{197} x_{23} x_{34} - r_{196} x_{14}}{x_{13} x_{34}}, a_{24} : r_{200}, a_{25} : r_{201}, a_{34} : \\frac{r_{197} x_{23} x_{34} - r_{196} x_{14}}{x_{13} x_{23} x_{34}}, a_{35} : 0, a_{45} : 0\\right\\}\\right]$$"
      ],
      "text/plain": [
       "[{d1: r184,\n",
       "  d2: 0,\n",
       "  d3: 0,\n",
       "  d4: 0,\n",
       "  d5: r185,\n",
       "  a12: r186,\n",
       "  a13: r187,\n",
       "  a14: r188,\n",
       "  a15: r189,\n",
       "  a23: r190,\n",
       "  a24: r191,\n",
       "  a25: r192,\n",
       "  a34: r193,\n",
       "  a35: r194,\n",
       "  a45: 0},\n",
       " {d1: r195,\n",
       "  d2: r196,\n",
       "  d3: r196/x23,\n",
       "  d4: r196/(x23*x34),\n",
       "  d5: r195/x15,\n",
       "  a12: r196*x13/x23,\n",
       "  a13: r197,\n",
       "  a14: r198,\n",
       "  a15: r199,\n",
       "  a23: (r197*x23*x34 - r196*x14)/(x13*x34),\n",
       "  a24: r200,\n",
       "  a25: r201,\n",
       "  a34: (r197*x23*x34 - r196*x14)/(x13*x23*x34),\n",
       "  a35: 0,\n",
       "  a45: 0}]"
      ]
     },
     "metadata": {},
     "output_type": "display_data"
    },
    {
     "data": {
      "text/plain": [
       "\\left[\\left\\{d_{1} : r_{184}, d_{2} : 0, d_{3} : 0, d_{4} : 0, d_{5} : r_{185}, a_{12} : r_{186}, a_{13} : r_{187}, a_{14} : r_{188}, a_{15} : r_{189}, a_{23} : r_{190}, a_{24} : r_{191}, a_{25} : r_{192}, a_{34} : r_{193}, a_{35} : r_{194}, a_{45} : 0\\right\\}, \\left\\{d_{1} : r_{195}, d_{2} : r_{196}, d_{3} : \\frac{r_{196}}{x_{23}}, d_{4} : \\frac{r_{196}}{x_{23} x_{34}}, d_{5} : \\frac{r_{195}}{x_{15}}, a_{12} : \\frac{r_{196} x_{13}}{x_{23}}, a_{13} : r_{197}, a_{14} : r_{198}, a_{15} : r_{199}, a_{23} : \\frac{r_{197} x_{23} x_{34} - r_{196} x_{14}}{x_{13} x_{34}}, a_{24} : r_{200}, a_{25} : r_{201}, a_{34} : \\frac{r_{197} x_{23} x_{34} - r_{196} x_{14}}{x_{13} x_{23} x_{34}}, a_{35} : 0, a_{45} : 0\\right\\}\\right]"
      ]
     },
     "execution_count": 11,
     "metadata": {},
     "output_type": "execute_result"
    }
   ],
   "source": [
    "#x6\n",
    "reset()\n",
    "\n",
    "var('x12,x13,x14,x15,x23,x24,x25,x34,x35,x45')\n",
    "var('d1,d2,d3,d4,d5')\n",
    "var('a12,a13,a14,a15,a23,a24,a25,a34,a35,a45')\n",
    "\n",
    "load_attach_path('C:\\\\Users\\\\julia\\\\Documents\\\\unb\\\\doutorado\\\\pensar\\\\codigo_sage_v2\\\\maquina\\\\x6')\n",
    "load('out_#000111.sage')\n",
    "\n",
    "m=matrix(QQ, [[0, 0, 0, 0, 1],\n",
    "              [0, 0, 1, 0, 0],\n",
    "              [0, 0, 0, 1, 0],\n",
    "              [0, 0, 0, 0, 0],\n",
    "              [0, 0, 0, 0, 0]])\n",
    "        \n",
    "#entry of matrix: (i,j) line i collum j, means (i-1,j-1)\n",
    "sol=solve([ eq1==m[0,2],\teq2==m[0,3],\teq3==m[0,4],\teq4==m[1,2],\t\n",
    "                                            eq5==m[1,3],    eq6==m[1,4],\n",
    "                                                            eq7==m[2,3], eq8==m[2,4]],d1,d2,d3,d4,d5,a12,a13,a14,a15,a23,a24,a25,a34,a35,a45, solution_dict=True)\n",
    "\n",
    "show(m)\n",
    "show(sol)\n",
    "latex(sol)"
   ]
  },
  {
   "cell_type": "code",
   "execution_count": 12,
   "metadata": {},
   "outputs": [
    {
     "data": {
      "text/html": [
       "<html><script type=\"math/tex; mode=display\">\\newcommand{\\Bold}[1]{\\mathbf{#1}}\\left(\\begin{array}{rrrrr}\n",
       "0 & 0 & 0 & 0 & 0 \\\\\n",
       "0 & 0 & 1 & 0 & 0 \\\\\n",
       "0 & 0 & 0 & 1 & 0 \\\\\n",
       "0 & 0 & 0 & 0 & 0 \\\\\n",
       "0 & 0 & 0 & 0 & 0\n",
       "\\end{array}\\right)</script></html>"
      ],
      "text/latex": [
       "$$\\newcommand{\\Bold}[1]{\\mathbf{#1}}\\left(\\begin{array}{rrrrr}\n",
       "0 & 0 & 0 & 0 & 0 \\\\\n",
       "0 & 0 & 1 & 0 & 0 \\\\\n",
       "0 & 0 & 0 & 1 & 0 \\\\\n",
       "0 & 0 & 0 & 0 & 0 \\\\\n",
       "0 & 0 & 0 & 0 & 0\n",
       "\\end{array}\\right)$$"
      ],
      "text/plain": [
       "[0 0 0 0 0]\n",
       "[0 0 1 0 0]\n",
       "[0 0 0 1 0]\n",
       "[0 0 0 0 0]\n",
       "[0 0 0 0 0]"
      ]
     },
     "metadata": {},
     "output_type": "display_data"
    },
    {
     "data": {
      "text/html": [
       "<html><script type=\"math/tex; mode=display\">\\newcommand{\\Bold}[1]{\\mathbf{#1}}\\left[\\left\\{d_{1} : r_{202}, d_{2} : 0, d_{3} : 0, d_{4} : 0, d_{5} : r_{203}, a_{12} : r_{204}, a_{13} : r_{205}, a_{14} : r_{206}, a_{15} : r_{207}, a_{23} : r_{208}, a_{24} : r_{209}, a_{25} : r_{210}, a_{34} : r_{211}, a_{35} : r_{212}, a_{45} : 0\\right\\}, \\left\\{d_{1} : r_{213}, d_{2} : r_{214}, d_{3} : \\frac{r_{214}}{x_{23}}, d_{4} : \\frac{r_{214}}{x_{23} x_{34}}, d_{5} : r_{215}, a_{12} : 0, a_{13} : 0, a_{14} : r_{216}, a_{15} : r_{217}, a_{23} : r_{218}, a_{24} : r_{219}, a_{25} : r_{220}, a_{34} : \\frac{r_{218}}{x_{23}}, a_{35} : -\\frac{r_{215} x_{25}}{x_{23}}, a_{45} : 0\\right\\}\\right]</script></html>"
      ],
      "text/latex": [
       "$$\\newcommand{\\Bold}[1]{\\mathbf{#1}}\\left[\\left\\{d_{1} : r_{202}, d_{2} : 0, d_{3} : 0, d_{4} : 0, d_{5} : r_{203}, a_{12} : r_{204}, a_{13} : r_{205}, a_{14} : r_{206}, a_{15} : r_{207}, a_{23} : r_{208}, a_{24} : r_{209}, a_{25} : r_{210}, a_{34} : r_{211}, a_{35} : r_{212}, a_{45} : 0\\right\\}, \\left\\{d_{1} : r_{213}, d_{2} : r_{214}, d_{3} : \\frac{r_{214}}{x_{23}}, d_{4} : \\frac{r_{214}}{x_{23} x_{34}}, d_{5} : r_{215}, a_{12} : 0, a_{13} : 0, a_{14} : r_{216}, a_{15} : r_{217}, a_{23} : r_{218}, a_{24} : r_{219}, a_{25} : r_{220}, a_{34} : \\frac{r_{218}}{x_{23}}, a_{35} : -\\frac{r_{215} x_{25}}{x_{23}}, a_{45} : 0\\right\\}\\right]$$"
      ],
      "text/plain": [
       "[{d1: r202,\n",
       "  d2: 0,\n",
       "  d3: 0,\n",
       "  d4: 0,\n",
       "  d5: r203,\n",
       "  a12: r204,\n",
       "  a13: r205,\n",
       "  a14: r206,\n",
       "  a15: r207,\n",
       "  a23: r208,\n",
       "  a24: r209,\n",
       "  a25: r210,\n",
       "  a34: r211,\n",
       "  a35: r212,\n",
       "  a45: 0},\n",
       " {d1: r213,\n",
       "  d2: r214,\n",
       "  d3: r214/x23,\n",
       "  d4: r214/(x23*x34),\n",
       "  d5: r215,\n",
       "  a12: 0,\n",
       "  a13: 0,\n",
       "  a14: r216,\n",
       "  a15: r217,\n",
       "  a23: r218,\n",
       "  a24: r219,\n",
       "  a25: r220,\n",
       "  a34: r218/x23,\n",
       "  a35: -r215*x25/x23,\n",
       "  a45: 0}]"
      ]
     },
     "metadata": {},
     "output_type": "display_data"
    },
    {
     "data": {
      "text/plain": [
       "\\left[\\left\\{d_{1} : r_{202}, d_{2} : 0, d_{3} : 0, d_{4} : 0, d_{5} : r_{203}, a_{12} : r_{204}, a_{13} : r_{205}, a_{14} : r_{206}, a_{15} : r_{207}, a_{23} : r_{208}, a_{24} : r_{209}, a_{25} : r_{210}, a_{34} : r_{211}, a_{35} : r_{212}, a_{45} : 0\\right\\}, \\left\\{d_{1} : r_{213}, d_{2} : r_{214}, d_{3} : \\frac{r_{214}}{x_{23}}, d_{4} : \\frac{r_{214}}{x_{23} x_{34}}, d_{5} : r_{215}, a_{12} : 0, a_{13} : 0, a_{14} : r_{216}, a_{15} : r_{217}, a_{23} : r_{218}, a_{24} : r_{219}, a_{25} : r_{220}, a_{34} : \\frac{r_{218}}{x_{23}}, a_{35} : -\\frac{r_{215} x_{25}}{x_{23}}, a_{45} : 0\\right\\}\\right]"
      ]
     },
     "execution_count": 12,
     "metadata": {},
     "output_type": "execute_result"
    }
   ],
   "source": [
    "#x6\n",
    "reset()\n",
    "\n",
    "var('x12,x13,x14,x15,x23,x24,x25,x34,x35,x45')\n",
    "var('d1,d2,d3,d4,d5')\n",
    "var('a12,a13,a14,a15,a23,a24,a25,a34,a35,a45')\n",
    "\n",
    "load_attach_path('C:\\\\Users\\\\julia\\\\Documents\\\\unb\\\\doutorado\\\\pensar\\\\codigo_sage_v2\\\\maquina\\\\x6')\n",
    "load('out_#001000.sage')\n",
    "\n",
    "m=matrix(QQ, [[0, 0, 0, 0, 0],\n",
    "              [0, 0, 1, 0, 0],\n",
    "              [0, 0, 0, 1, 0],\n",
    "              [0, 0, 0, 0, 0],\n",
    "              [0, 0, 0, 0, 0]])\n",
    "        \n",
    "#entry of matrix: (i,j) line i collum j, means (i-1,j-1)\n",
    "sol=solve([ eq1==m[0,2],\teq2==m[0,3],\teq3==m[0,4],\teq4==m[1,2],\t\n",
    "                                            eq5==m[1,3],    eq6==m[1,4],\n",
    "                                                            eq7==m[2,3], eq8==m[2,4]],d1,d2,d3,d4,d5,a12,a13,a14,a15,a23,a24,a25,a34,a35,a45, solution_dict=True)\n",
    "\n",
    "show(m)\n",
    "show(sol)\n",
    "latex(sol)"
   ]
  },
  {
   "cell_type": "code",
   "execution_count": 13,
   "metadata": {},
   "outputs": [
    {
     "data": {
      "text/html": [
       "<html><script type=\"math/tex; mode=display\">\\newcommand{\\Bold}[1]{\\mathbf{#1}}\\left(\\begin{array}{rrrrr}\n",
       "0 & 0 & 0 & 0 & 1 \\\\\n",
       "0 & 0 & 1 & 0 & 0 \\\\\n",
       "0 & 0 & 0 & 1 & 0 \\\\\n",
       "0 & 0 & 0 & 0 & 0 \\\\\n",
       "0 & 0 & 0 & 0 & 0\n",
       "\\end{array}\\right)</script></html>"
      ],
      "text/latex": [
       "$$\\newcommand{\\Bold}[1]{\\mathbf{#1}}\\left(\\begin{array}{rrrrr}\n",
       "0 & 0 & 0 & 0 & 1 \\\\\n",
       "0 & 0 & 1 & 0 & 0 \\\\\n",
       "0 & 0 & 0 & 1 & 0 \\\\\n",
       "0 & 0 & 0 & 0 & 0 \\\\\n",
       "0 & 0 & 0 & 0 & 0\n",
       "\\end{array}\\right)$$"
      ],
      "text/plain": [
       "[0 0 0 0 1]\n",
       "[0 0 1 0 0]\n",
       "[0 0 0 1 0]\n",
       "[0 0 0 0 0]\n",
       "[0 0 0 0 0]"
      ]
     },
     "metadata": {},
     "output_type": "display_data"
    },
    {
     "data": {
      "text/html": [
       "<html><script type=\"math/tex; mode=display\">\\newcommand{\\Bold}[1]{\\mathbf{#1}}\\left[\\left\\{d_{1} : r_{221}, d_{2} : 0, d_{3} : 0, d_{4} : 0, d_{5} : r_{222}, a_{12} : r_{223}, a_{13} : r_{224}, a_{14} : r_{225}, a_{15} : r_{226}, a_{23} : r_{227}, a_{24} : r_{228}, a_{25} : r_{229}, a_{34} : r_{230}, a_{35} : r_{231}, a_{45} : 0\\right\\}, \\left\\{d_{1} : r_{232}, d_{2} : r_{233}, d_{3} : \\frac{r_{233}}{x_{23}}, d_{4} : \\frac{r_{233}}{x_{23} x_{34}}, d_{5} : \\frac{r_{232}}{x_{15}}, a_{12} : 0, a_{13} : 0, a_{14} : r_{234}, a_{15} : r_{235}, a_{23} : r_{236}, a_{24} : r_{237}, a_{25} : r_{238}, a_{34} : \\frac{r_{236}}{x_{23}}, a_{35} : -\\frac{r_{232} x_{25}}{x_{15} x_{23}}, a_{45} : 0\\right\\}\\right]</script></html>"
      ],
      "text/latex": [
       "$$\\newcommand{\\Bold}[1]{\\mathbf{#1}}\\left[\\left\\{d_{1} : r_{221}, d_{2} : 0, d_{3} : 0, d_{4} : 0, d_{5} : r_{222}, a_{12} : r_{223}, a_{13} : r_{224}, a_{14} : r_{225}, a_{15} : r_{226}, a_{23} : r_{227}, a_{24} : r_{228}, a_{25} : r_{229}, a_{34} : r_{230}, a_{35} : r_{231}, a_{45} : 0\\right\\}, \\left\\{d_{1} : r_{232}, d_{2} : r_{233}, d_{3} : \\frac{r_{233}}{x_{23}}, d_{4} : \\frac{r_{233}}{x_{23} x_{34}}, d_{5} : \\frac{r_{232}}{x_{15}}, a_{12} : 0, a_{13} : 0, a_{14} : r_{234}, a_{15} : r_{235}, a_{23} : r_{236}, a_{24} : r_{237}, a_{25} : r_{238}, a_{34} : \\frac{r_{236}}{x_{23}}, a_{35} : -\\frac{r_{232} x_{25}}{x_{15} x_{23}}, a_{45} : 0\\right\\}\\right]$$"
      ],
      "text/plain": [
       "[{d1: r221,\n",
       "  d2: 0,\n",
       "  d3: 0,\n",
       "  d4: 0,\n",
       "  d5: r222,\n",
       "  a12: r223,\n",
       "  a13: r224,\n",
       "  a14: r225,\n",
       "  a15: r226,\n",
       "  a23: r227,\n",
       "  a24: r228,\n",
       "  a25: r229,\n",
       "  a34: r230,\n",
       "  a35: r231,\n",
       "  a45: 0},\n",
       " {d1: r232,\n",
       "  d2: r233,\n",
       "  d3: r233/x23,\n",
       "  d4: r233/(x23*x34),\n",
       "  d5: r232/x15,\n",
       "  a12: 0,\n",
       "  a13: 0,\n",
       "  a14: r234,\n",
       "  a15: r235,\n",
       "  a23: r236,\n",
       "  a24: r237,\n",
       "  a25: r238,\n",
       "  a34: r236/x23,\n",
       "  a35: -r232*x25/(x15*x23),\n",
       "  a45: 0}]"
      ]
     },
     "metadata": {},
     "output_type": "display_data"
    },
    {
     "data": {
      "text/plain": [
       "\\left[\\left\\{d_{1} : r_{221}, d_{2} : 0, d_{3} : 0, d_{4} : 0, d_{5} : r_{222}, a_{12} : r_{223}, a_{13} : r_{224}, a_{14} : r_{225}, a_{15} : r_{226}, a_{23} : r_{227}, a_{24} : r_{228}, a_{25} : r_{229}, a_{34} : r_{230}, a_{35} : r_{231}, a_{45} : 0\\right\\}, \\left\\{d_{1} : r_{232}, d_{2} : r_{233}, d_{3} : \\frac{r_{233}}{x_{23}}, d_{4} : \\frac{r_{233}}{x_{23} x_{34}}, d_{5} : \\frac{r_{232}}{x_{15}}, a_{12} : 0, a_{13} : 0, a_{14} : r_{234}, a_{15} : r_{235}, a_{23} : r_{236}, a_{24} : r_{237}, a_{25} : r_{238}, a_{34} : \\frac{r_{236}}{x_{23}}, a_{35} : -\\frac{r_{232} x_{25}}{x_{15} x_{23}}, a_{45} : 0\\right\\}\\right]"
      ]
     },
     "execution_count": 13,
     "metadata": {},
     "output_type": "execute_result"
    }
   ],
   "source": [
    "#x6\n",
    "reset()\n",
    "\n",
    "var('x12,x13,x14,x15,x23,x24,x25,x34,x35,x45')\n",
    "var('d1,d2,d3,d4,d5')\n",
    "var('a12,a13,a14,a15,a23,a24,a25,a34,a35,a45')\n",
    "\n",
    "load_attach_path('C:\\\\Users\\\\julia\\\\Documents\\\\unb\\\\doutorado\\\\pensar\\\\codigo_sage_v2\\\\maquina\\\\x6')\n",
    "load('out_#001001.sage')\n",
    "\n",
    "m=matrix(QQ, [[0, 0, 0, 0, 1],\n",
    "              [0, 0, 1, 0, 0],\n",
    "              [0, 0, 0, 1, 0],\n",
    "              [0, 0, 0, 0, 0],\n",
    "              [0, 0, 0, 0, 0]])\n",
    "        \n",
    "#entry of matrix: (i,j) line i collum j, means (i-1,j-1)\n",
    "sol=solve([ eq1==m[0,2],\teq2==m[0,3],\teq3==m[0,4],\teq4==m[1,2],\t\n",
    "                                            eq5==m[1,3],    eq6==m[1,4],\n",
    "                                                            eq7==m[2,3], eq8==m[2,4]],d1,d2,d3,d4,d5,a12,a13,a14,a15,a23,a24,a25,a34,a35,a45, solution_dict=True)\n",
    "\n",
    "show(m)\n",
    "show(sol)\n",
    "latex(sol)"
   ]
  },
  {
   "cell_type": "code",
   "execution_count": 14,
   "metadata": {},
   "outputs": [
    {
     "data": {
      "text/html": [
       "<html><script type=\"math/tex; mode=display\">\\newcommand{\\Bold}[1]{\\mathbf{#1}}\\left(\\begin{array}{rrrrr}\n",
       "0 & 0 & 0 & 0 & 0 \\\\\n",
       "0 & 0 & 1 & 0 & 0 \\\\\n",
       "0 & 0 & 0 & 1 & 0 \\\\\n",
       "0 & 0 & 0 & 0 & 0 \\\\\n",
       "0 & 0 & 0 & 0 & 0\n",
       "\\end{array}\\right)</script></html>"
      ],
      "text/latex": [
       "$$\\newcommand{\\Bold}[1]{\\mathbf{#1}}\\left(\\begin{array}{rrrrr}\n",
       "0 & 0 & 0 & 0 & 0 \\\\\n",
       "0 & 0 & 1 & 0 & 0 \\\\\n",
       "0 & 0 & 0 & 1 & 0 \\\\\n",
       "0 & 0 & 0 & 0 & 0 \\\\\n",
       "0 & 0 & 0 & 0 & 0\n",
       "\\end{array}\\right)$$"
      ],
      "text/plain": [
       "[0 0 0 0 0]\n",
       "[0 0 1 0 0]\n",
       "[0 0 0 1 0]\n",
       "[0 0 0 0 0]\n",
       "[0 0 0 0 0]"
      ]
     },
     "metadata": {},
     "output_type": "display_data"
    },
    {
     "data": {
      "text/html": [
       "<html><script type=\"math/tex; mode=display\">\\newcommand{\\Bold}[1]{\\mathbf{#1}}\\left[\\left\\{d_{1} : r_{239}, d_{2} : 0, d_{3} : 0, d_{4} : 0, d_{5} : r_{240}, a_{12} : r_{241}, a_{13} : r_{242}, a_{14} : r_{243}, a_{15} : r_{244}, a_{23} : r_{245}, a_{24} : r_{246}, a_{25} : r_{247}, a_{34} : r_{248}, a_{35} : r_{249}, a_{45} : 0\\right\\}, \\left\\{d_{1} : r_{250}, d_{2} : r_{251}, d_{3} : \\frac{r_{251}}{x_{23}}, d_{4} : \\frac{r_{251}}{x_{23} x_{34}}, d_{5} : r_{252}, a_{12} : 0, a_{13} : \\frac{r_{251} x_{14}}{x_{23} x_{34}}, a_{14} : r_{253}, a_{15} : r_{254}, a_{23} : r_{255}, a_{24} : r_{256}, a_{25} : r_{257}, a_{34} : \\frac{r_{255}}{x_{23}}, a_{35} : -\\frac{r_{252} x_{25}}{x_{23}}, a_{45} : 0\\right\\}\\right]</script></html>"
      ],
      "text/latex": [
       "$$\\newcommand{\\Bold}[1]{\\mathbf{#1}}\\left[\\left\\{d_{1} : r_{239}, d_{2} : 0, d_{3} : 0, d_{4} : 0, d_{5} : r_{240}, a_{12} : r_{241}, a_{13} : r_{242}, a_{14} : r_{243}, a_{15} : r_{244}, a_{23} : r_{245}, a_{24} : r_{246}, a_{25} : r_{247}, a_{34} : r_{248}, a_{35} : r_{249}, a_{45} : 0\\right\\}, \\left\\{d_{1} : r_{250}, d_{2} : r_{251}, d_{3} : \\frac{r_{251}}{x_{23}}, d_{4} : \\frac{r_{251}}{x_{23} x_{34}}, d_{5} : r_{252}, a_{12} : 0, a_{13} : \\frac{r_{251} x_{14}}{x_{23} x_{34}}, a_{14} : r_{253}, a_{15} : r_{254}, a_{23} : r_{255}, a_{24} : r_{256}, a_{25} : r_{257}, a_{34} : \\frac{r_{255}}{x_{23}}, a_{35} : -\\frac{r_{252} x_{25}}{x_{23}}, a_{45} : 0\\right\\}\\right]$$"
      ],
      "text/plain": [
       "[{d1: r239,\n",
       "  d2: 0,\n",
       "  d3: 0,\n",
       "  d4: 0,\n",
       "  d5: r240,\n",
       "  a12: r241,\n",
       "  a13: r242,\n",
       "  a14: r243,\n",
       "  a15: r244,\n",
       "  a23: r245,\n",
       "  a24: r246,\n",
       "  a25: r247,\n",
       "  a34: r248,\n",
       "  a35: r249,\n",
       "  a45: 0},\n",
       " {d1: r250,\n",
       "  d2: r251,\n",
       "  d3: r251/x23,\n",
       "  d4: r251/(x23*x34),\n",
       "  d5: r252,\n",
       "  a12: 0,\n",
       "  a13: r251*x14/(x23*x34),\n",
       "  a14: r253,\n",
       "  a15: r254,\n",
       "  a23: r255,\n",
       "  a24: r256,\n",
       "  a25: r257,\n",
       "  a34: r255/x23,\n",
       "  a35: -r252*x25/x23,\n",
       "  a45: 0}]"
      ]
     },
     "metadata": {},
     "output_type": "display_data"
    },
    {
     "data": {
      "text/plain": [
       "\\left[\\left\\{d_{1} : r_{239}, d_{2} : 0, d_{3} : 0, d_{4} : 0, d_{5} : r_{240}, a_{12} : r_{241}, a_{13} : r_{242}, a_{14} : r_{243}, a_{15} : r_{244}, a_{23} : r_{245}, a_{24} : r_{246}, a_{25} : r_{247}, a_{34} : r_{248}, a_{35} : r_{249}, a_{45} : 0\\right\\}, \\left\\{d_{1} : r_{250}, d_{2} : r_{251}, d_{3} : \\frac{r_{251}}{x_{23}}, d_{4} : \\frac{r_{251}}{x_{23} x_{34}}, d_{5} : r_{252}, a_{12} : 0, a_{13} : \\frac{r_{251} x_{14}}{x_{23} x_{34}}, a_{14} : r_{253}, a_{15} : r_{254}, a_{23} : r_{255}, a_{24} : r_{256}, a_{25} : r_{257}, a_{34} : \\frac{r_{255}}{x_{23}}, a_{35} : -\\frac{r_{252} x_{25}}{x_{23}}, a_{45} : 0\\right\\}\\right]"
      ]
     },
     "execution_count": 14,
     "metadata": {},
     "output_type": "execute_result"
    }
   ],
   "source": [
    "#x6\n",
    "reset()\n",
    "\n",
    "var('x12,x13,x14,x15,x23,x24,x25,x34,x35,x45')\n",
    "var('d1,d2,d3,d4,d5')\n",
    "var('a12,a13,a14,a15,a23,a24,a25,a34,a35,a45')\n",
    "\n",
    "load_attach_path('C:\\\\Users\\\\julia\\\\Documents\\\\unb\\\\doutorado\\\\pensar\\\\codigo_sage_v2\\\\maquina\\\\x6')\n",
    "load('out_#001010.sage')\n",
    "\n",
    "m=matrix(QQ, [[0, 0, 0, 0, 0],\n",
    "              [0, 0, 1, 0, 0],\n",
    "              [0, 0, 0, 1, 0],\n",
    "              [0, 0, 0, 0, 0],\n",
    "              [0, 0, 0, 0, 0]])\n",
    "        \n",
    "#entry of matrix: (i,j) line i collum j, means (i-1,j-1)\n",
    "sol=solve([ eq1==m[0,2],\teq2==m[0,3],\teq3==m[0,4],\teq4==m[1,2],\t\n",
    "                                            eq5==m[1,3],    eq6==m[1,4],\n",
    "                                                            eq7==m[2,3], eq8==m[2,4]],d1,d2,d3,d4,d5,a12,a13,a14,a15,a23,a24,a25,a34,a35,a45, solution_dict=True)\n",
    "\n",
    "show(m)\n",
    "show(sol)\n",
    "latex(sol)"
   ]
  },
  {
   "cell_type": "code",
   "execution_count": 15,
   "metadata": {},
   "outputs": [
    {
     "data": {
      "text/html": [
       "<html><script type=\"math/tex; mode=display\">\\newcommand{\\Bold}[1]{\\mathbf{#1}}\\left(\\begin{array}{rrrrr}\n",
       "0 & 0 & 0 & 0 & 1 \\\\\n",
       "0 & 0 & 1 & 0 & 0 \\\\\n",
       "0 & 0 & 0 & 1 & 0 \\\\\n",
       "0 & 0 & 0 & 0 & 0 \\\\\n",
       "0 & 0 & 0 & 0 & 0\n",
       "\\end{array}\\right)</script></html>"
      ],
      "text/latex": [
       "$$\\newcommand{\\Bold}[1]{\\mathbf{#1}}\\left(\\begin{array}{rrrrr}\n",
       "0 & 0 & 0 & 0 & 1 \\\\\n",
       "0 & 0 & 1 & 0 & 0 \\\\\n",
       "0 & 0 & 0 & 1 & 0 \\\\\n",
       "0 & 0 & 0 & 0 & 0 \\\\\n",
       "0 & 0 & 0 & 0 & 0\n",
       "\\end{array}\\right)$$"
      ],
      "text/plain": [
       "[0 0 0 0 1]\n",
       "[0 0 1 0 0]\n",
       "[0 0 0 1 0]\n",
       "[0 0 0 0 0]\n",
       "[0 0 0 0 0]"
      ]
     },
     "metadata": {},
     "output_type": "display_data"
    },
    {
     "data": {
      "text/html": [
       "<html><script type=\"math/tex; mode=display\">\\newcommand{\\Bold}[1]{\\mathbf{#1}}\\left[\\left\\{d_{1} : r_{258}, d_{2} : 0, d_{3} : 0, d_{4} : 0, d_{5} : r_{259}, a_{12} : r_{260}, a_{13} : r_{261}, a_{14} : r_{262}, a_{15} : r_{263}, a_{23} : r_{264}, a_{24} : r_{265}, a_{25} : r_{266}, a_{34} : r_{267}, a_{35} : r_{268}, a_{45} : 0\\right\\}, \\left\\{d_{1} : r_{269}, d_{2} : r_{270}, d_{3} : \\frac{r_{270}}{x_{23}}, d_{4} : \\frac{r_{270}}{x_{23} x_{34}}, d_{5} : \\frac{r_{269}}{x_{15}}, a_{12} : 0, a_{13} : \\frac{r_{270} x_{14}}{x_{23} x_{34}}, a_{14} : r_{271}, a_{15} : r_{272}, a_{23} : r_{273}, a_{24} : r_{274}, a_{25} : r_{275}, a_{34} : \\frac{r_{273}}{x_{23}}, a_{35} : -\\frac{r_{269} x_{25}}{x_{15} x_{23}}, a_{45} : 0\\right\\}\\right]</script></html>"
      ],
      "text/latex": [
       "$$\\newcommand{\\Bold}[1]{\\mathbf{#1}}\\left[\\left\\{d_{1} : r_{258}, d_{2} : 0, d_{3} : 0, d_{4} : 0, d_{5} : r_{259}, a_{12} : r_{260}, a_{13} : r_{261}, a_{14} : r_{262}, a_{15} : r_{263}, a_{23} : r_{264}, a_{24} : r_{265}, a_{25} : r_{266}, a_{34} : r_{267}, a_{35} : r_{268}, a_{45} : 0\\right\\}, \\left\\{d_{1} : r_{269}, d_{2} : r_{270}, d_{3} : \\frac{r_{270}}{x_{23}}, d_{4} : \\frac{r_{270}}{x_{23} x_{34}}, d_{5} : \\frac{r_{269}}{x_{15}}, a_{12} : 0, a_{13} : \\frac{r_{270} x_{14}}{x_{23} x_{34}}, a_{14} : r_{271}, a_{15} : r_{272}, a_{23} : r_{273}, a_{24} : r_{274}, a_{25} : r_{275}, a_{34} : \\frac{r_{273}}{x_{23}}, a_{35} : -\\frac{r_{269} x_{25}}{x_{15} x_{23}}, a_{45} : 0\\right\\}\\right]$$"
      ],
      "text/plain": [
       "[{d1: r258,\n",
       "  d2: 0,\n",
       "  d3: 0,\n",
       "  d4: 0,\n",
       "  d5: r259,\n",
       "  a12: r260,\n",
       "  a13: r261,\n",
       "  a14: r262,\n",
       "  a15: r263,\n",
       "  a23: r264,\n",
       "  a24: r265,\n",
       "  a25: r266,\n",
       "  a34: r267,\n",
       "  a35: r268,\n",
       "  a45: 0},\n",
       " {d1: r269,\n",
       "  d2: r270,\n",
       "  d3: r270/x23,\n",
       "  d4: r270/(x23*x34),\n",
       "  d5: r269/x15,\n",
       "  a12: 0,\n",
       "  a13: r270*x14/(x23*x34),\n",
       "  a14: r271,\n",
       "  a15: r272,\n",
       "  a23: r273,\n",
       "  a24: r274,\n",
       "  a25: r275,\n",
       "  a34: r273/x23,\n",
       "  a35: -r269*x25/(x15*x23),\n",
       "  a45: 0}]"
      ]
     },
     "metadata": {},
     "output_type": "display_data"
    },
    {
     "data": {
      "text/plain": [
       "\\left[\\left\\{d_{1} : r_{258}, d_{2} : 0, d_{3} : 0, d_{4} : 0, d_{5} : r_{259}, a_{12} : r_{260}, a_{13} : r_{261}, a_{14} : r_{262}, a_{15} : r_{263}, a_{23} : r_{264}, a_{24} : r_{265}, a_{25} : r_{266}, a_{34} : r_{267}, a_{35} : r_{268}, a_{45} : 0\\right\\}, \\left\\{d_{1} : r_{269}, d_{2} : r_{270}, d_{3} : \\frac{r_{270}}{x_{23}}, d_{4} : \\frac{r_{270}}{x_{23} x_{34}}, d_{5} : \\frac{r_{269}}{x_{15}}, a_{12} : 0, a_{13} : \\frac{r_{270} x_{14}}{x_{23} x_{34}}, a_{14} : r_{271}, a_{15} : r_{272}, a_{23} : r_{273}, a_{24} : r_{274}, a_{25} : r_{275}, a_{34} : \\frac{r_{273}}{x_{23}}, a_{35} : -\\frac{r_{269} x_{25}}{x_{15} x_{23}}, a_{45} : 0\\right\\}\\right]"
      ]
     },
     "execution_count": 15,
     "metadata": {},
     "output_type": "execute_result"
    }
   ],
   "source": [
    "#x6\n",
    "reset()\n",
    "\n",
    "var('x12,x13,x14,x15,x23,x24,x25,x34,x35,x45')\n",
    "var('d1,d2,d3,d4,d5')\n",
    "var('a12,a13,a14,a15,a23,a24,a25,a34,a35,a45')\n",
    "\n",
    "load_attach_path('C:\\\\Users\\\\julia\\\\Documents\\\\unb\\\\doutorado\\\\pensar\\\\codigo_sage_v2\\\\maquina\\\\x6')\n",
    "load('out_#001011.sage')\n",
    "\n",
    "m=matrix(QQ, [[0, 0, 0, 0, 1],\n",
    "              [0, 0, 1, 0, 0],\n",
    "              [0, 0, 0, 1, 0],\n",
    "              [0, 0, 0, 0, 0],\n",
    "              [0, 0, 0, 0, 0]])\n",
    "        \n",
    "#entry of matrix: (i,j) line i collum j, means (i-1,j-1)\n",
    "sol=solve([ eq1==m[0,2],\teq2==m[0,3],\teq3==m[0,4],\teq4==m[1,2],\t\n",
    "                                            eq5==m[1,3],    eq6==m[1,4],\n",
    "                                                            eq7==m[2,3], eq8==m[2,4]],d1,d2,d3,d4,d5,a12,a13,a14,a15,a23,a24,a25,a34,a35,a45, solution_dict=True)\n",
    "\n",
    "show(m)\n",
    "show(sol)\n",
    "latex(sol)"
   ]
  },
  {
   "cell_type": "code",
   "execution_count": 18,
   "metadata": {},
   "outputs": [
    {
     "data": {
      "text/html": [
       "<html><script type=\"math/tex; mode=display\">\\newcommand{\\Bold}[1]{\\mathbf{#1}}\\left(\\begin{array}{rrrrr}\n",
       "0 & 0 & 0 & 0 & 1 \\\\\n",
       "0 & 0 & 1 & 0 & 0 \\\\\n",
       "0 & 0 & 0 & 1 & 0 \\\\\n",
       "0 & 0 & 0 & 0 & 0 \\\\\n",
       "0 & 0 & 0 & 0 & 0\n",
       "\\end{array}\\right)</script></html>"
      ],
      "text/latex": [
       "$$\\newcommand{\\Bold}[1]{\\mathbf{#1}}\\left(\\begin{array}{rrrrr}\n",
       "0 & 0 & 0 & 0 & 1 \\\\\n",
       "0 & 0 & 1 & 0 & 0 \\\\\n",
       "0 & 0 & 0 & 1 & 0 \\\\\n",
       "0 & 0 & 0 & 0 & 0 \\\\\n",
       "0 & 0 & 0 & 0 & 0\n",
       "\\end{array}\\right)$$"
      ],
      "text/plain": [
       "[0 0 0 0 1]\n",
       "[0 0 1 0 0]\n",
       "[0 0 0 1 0]\n",
       "[0 0 0 0 0]\n",
       "[0 0 0 0 0]"
      ]
     },
     "metadata": {},
     "output_type": "display_data"
    },
    {
     "data": {
      "text/html": [
       "<html><script type=\"math/tex; mode=display\">\\newcommand{\\Bold}[1]{\\mathbf{#1}}\\left[\\left\\{d_{1} : r_{312}, d_{2} : 0, d_{3} : 0, d_{4} : 0, d_{5} : r_{313}, a_{12} : r_{314}, a_{13} : r_{315}, a_{14} : r_{316}, a_{15} : r_{317}, a_{23} : r_{318}, a_{24} : r_{319}, a_{25} : r_{320}, a_{34} : r_{321}, a_{35} : r_{322}, a_{45} : 0\\right\\}, \\left\\{d_{1} : r_{323}, d_{2} : r_{324}, d_{3} : \\frac{r_{324}}{x_{23}}, d_{4} : \\frac{r_{324}}{x_{23} x_{34}}, d_{5} : -\\frac{r_{323} x_{23}}{x_{13} x_{25}}, a_{12} : \\frac{r_{324} x_{13}}{x_{23}}, a_{13} : r_{325}, a_{14} : r_{326}, a_{15} : r_{327}, a_{23} : \\frac{r_{325} x_{23}}{x_{13}}, a_{24} : r_{328}, a_{25} : r_{329}, a_{34} : \\frac{r_{325}}{x_{13}}, a_{35} : \\frac{r_{323}}{x_{13}}, a_{45} : 0\\right\\}\\right]</script></html>"
      ],
      "text/latex": [
       "$$\\newcommand{\\Bold}[1]{\\mathbf{#1}}\\left[\\left\\{d_{1} : r_{312}, d_{2} : 0, d_{3} : 0, d_{4} : 0, d_{5} : r_{313}, a_{12} : r_{314}, a_{13} : r_{315}, a_{14} : r_{316}, a_{15} : r_{317}, a_{23} : r_{318}, a_{24} : r_{319}, a_{25} : r_{320}, a_{34} : r_{321}, a_{35} : r_{322}, a_{45} : 0\\right\\}, \\left\\{d_{1} : r_{323}, d_{2} : r_{324}, d_{3} : \\frac{r_{324}}{x_{23}}, d_{4} : \\frac{r_{324}}{x_{23} x_{34}}, d_{5} : -\\frac{r_{323} x_{23}}{x_{13} x_{25}}, a_{12} : \\frac{r_{324} x_{13}}{x_{23}}, a_{13} : r_{325}, a_{14} : r_{326}, a_{15} : r_{327}, a_{23} : \\frac{r_{325} x_{23}}{x_{13}}, a_{24} : r_{328}, a_{25} : r_{329}, a_{34} : \\frac{r_{325}}{x_{13}}, a_{35} : \\frac{r_{323}}{x_{13}}, a_{45} : 0\\right\\}\\right]$$"
      ],
      "text/plain": [
       "[{d1: r312,\n",
       "  d2: 0,\n",
       "  d3: 0,\n",
       "  d4: 0,\n",
       "  d5: r313,\n",
       "  a12: r314,\n",
       "  a13: r315,\n",
       "  a14: r316,\n",
       "  a15: r317,\n",
       "  a23: r318,\n",
       "  a24: r319,\n",
       "  a25: r320,\n",
       "  a34: r321,\n",
       "  a35: r322,\n",
       "  a45: 0},\n",
       " {d1: r323,\n",
       "  d2: r324,\n",
       "  d3: r324/x23,\n",
       "  d4: r324/(x23*x34),\n",
       "  d5: -r323*x23/(x13*x25),\n",
       "  a12: r324*x13/x23,\n",
       "  a13: r325,\n",
       "  a14: r326,\n",
       "  a15: r327,\n",
       "  a23: r325*x23/x13,\n",
       "  a24: r328,\n",
       "  a25: r329,\n",
       "  a34: r325/x13,\n",
       "  a35: r323/x13,\n",
       "  a45: 0}]"
      ]
     },
     "metadata": {},
     "output_type": "display_data"
    },
    {
     "data": {
      "text/plain": [
       "\\left[\\left\\{d_{1} : r_{312}, d_{2} : 0, d_{3} : 0, d_{4} : 0, d_{5} : r_{313}, a_{12} : r_{314}, a_{13} : r_{315}, a_{14} : r_{316}, a_{15} : r_{317}, a_{23} : r_{318}, a_{24} : r_{319}, a_{25} : r_{320}, a_{34} : r_{321}, a_{35} : r_{322}, a_{45} : 0\\right\\}, \\left\\{d_{1} : r_{323}, d_{2} : r_{324}, d_{3} : \\frac{r_{324}}{x_{23}}, d_{4} : \\frac{r_{324}}{x_{23} x_{34}}, d_{5} : -\\frac{r_{323} x_{23}}{x_{13} x_{25}}, a_{12} : \\frac{r_{324} x_{13}}{x_{23}}, a_{13} : r_{325}, a_{14} : r_{326}, a_{15} : r_{327}, a_{23} : \\frac{r_{325} x_{23}}{x_{13}}, a_{24} : r_{328}, a_{25} : r_{329}, a_{34} : \\frac{r_{325}}{x_{13}}, a_{35} : \\frac{r_{323}}{x_{13}}, a_{45} : 0\\right\\}\\right]"
      ]
     },
     "execution_count": 18,
     "metadata": {},
     "output_type": "execute_result"
    }
   ],
   "source": [
    "#x6\n",
    "reset()\n",
    "\n",
    "var('x12,x13,x14,x15,x23,x24,x25,x34,x35,x45')\n",
    "var('d1,d2,d3,d4,d5')\n",
    "var('a12,a13,a14,a15,a23,a24,a25,a34,a35,a45')\n",
    "\n",
    "load_attach_path('C:\\\\Users\\\\julia\\\\Documents\\\\unb\\\\doutorado\\\\pensar\\\\codigo_sage_v2\\\\maquina\\\\x6')\n",
    "load('out_#001100.sage')\n",
    "\n",
    "m=matrix(QQ, [[0, 0, 0, 0, 1],\n",
    "              [0, 0, 1, 0, 0],\n",
    "              [0, 0, 0, 1, 0],\n",
    "              [0, 0, 0, 0, 0],\n",
    "              [0, 0, 0, 0, 0]])\n",
    "        \n",
    "#entry of matrix: (i,j) line i collum j, means (i-1,j-1)\n",
    "sol=solve([ eq1==m[0,2],\teq2==m[0,3],\teq3==m[0,4],\teq4==m[1,2],\t\n",
    "                                            eq5==m[1,3],    eq6==m[1,4],\n",
    "                                                            eq7==m[2,3], eq8==m[2,4]],d1,d2,d3,d4,d5,a12,a13,a14,a15,a23,a24,a25,a34,a35,a45, solution_dict=True)\n",
    "\n",
    "show(m)\n",
    "show(sol)\n",
    "latex(sol)"
   ]
  },
  {
   "cell_type": "code",
   "execution_count": 19,
   "metadata": {},
   "outputs": [
    {
     "data": {
      "text/html": [
       "<html><script type=\"math/tex; mode=display\">\\newcommand{\\Bold}[1]{\\mathbf{#1}}\\left(\\begin{array}{rrrrr}\n",
       "0 & 0 & 0 & 0 & 1 \\\\\n",
       "0 & 0 & 1 & 0 & 0 \\\\\n",
       "0 & 0 & 0 & 1 & 0 \\\\\n",
       "0 & 0 & 0 & 0 & 0 \\\\\n",
       "0 & 0 & 0 & 0 & 0\n",
       "\\end{array}\\right)</script></html>"
      ],
      "text/latex": [
       "$$\\newcommand{\\Bold}[1]{\\mathbf{#1}}\\left(\\begin{array}{rrrrr}\n",
       "0 & 0 & 0 & 0 & 1 \\\\\n",
       "0 & 0 & 1 & 0 & 0 \\\\\n",
       "0 & 0 & 0 & 1 & 0 \\\\\n",
       "0 & 0 & 0 & 0 & 0 \\\\\n",
       "0 & 0 & 0 & 0 & 0\n",
       "\\end{array}\\right)$$"
      ],
      "text/plain": [
       "[0 0 0 0 1]\n",
       "[0 0 1 0 0]\n",
       "[0 0 0 1 0]\n",
       "[0 0 0 0 0]\n",
       "[0 0 0 0 0]"
      ]
     },
     "metadata": {},
     "output_type": "display_data"
    },
    {
     "data": {
      "text/html": [
       "<html><script type=\"math/tex; mode=display\">\\newcommand{\\Bold}[1]{\\mathbf{#1}}\\left[\\left\\{d_{1} : r_{330}, d_{2} : 0, d_{3} : 0, d_{4} : 0, d_{5} : r_{331}, a_{12} : r_{332}, a_{13} : r_{333}, a_{14} : r_{334}, a_{15} : r_{335}, a_{23} : r_{336}, a_{24} : r_{337}, a_{25} : r_{338}, a_{34} : r_{339}, a_{35} : r_{340}, a_{45} : 0\\right\\}, \\left\\{d_{1} : r_{341}, d_{2} : r_{342}, d_{3} : \\frac{r_{342}}{x_{23}}, d_{4} : \\frac{r_{342}}{x_{23} x_{34}}, d_{5} : \\frac{r_{341} x_{23}}{x_{15} x_{23} - x_{13} x_{25}}, a_{12} : \\frac{r_{342} x_{13}}{x_{23}}, a_{13} : r_{343}, a_{14} : r_{344}, a_{15} : r_{345}, a_{23} : \\frac{r_{343} x_{23}}{x_{13}}, a_{24} : r_{346}, a_{25} : r_{347}, a_{34} : \\frac{r_{343}}{x_{13}}, a_{35} : -\\frac{r_{341} x_{25}}{x_{15} x_{23} - x_{13} x_{25}}, a_{45} : 0\\right\\}\\right]</script></html>"
      ],
      "text/latex": [
       "$$\\newcommand{\\Bold}[1]{\\mathbf{#1}}\\left[\\left\\{d_{1} : r_{330}, d_{2} : 0, d_{3} : 0, d_{4} : 0, d_{5} : r_{331}, a_{12} : r_{332}, a_{13} : r_{333}, a_{14} : r_{334}, a_{15} : r_{335}, a_{23} : r_{336}, a_{24} : r_{337}, a_{25} : r_{338}, a_{34} : r_{339}, a_{35} : r_{340}, a_{45} : 0\\right\\}, \\left\\{d_{1} : r_{341}, d_{2} : r_{342}, d_{3} : \\frac{r_{342}}{x_{23}}, d_{4} : \\frac{r_{342}}{x_{23} x_{34}}, d_{5} : \\frac{r_{341} x_{23}}{x_{15} x_{23} - x_{13} x_{25}}, a_{12} : \\frac{r_{342} x_{13}}{x_{23}}, a_{13} : r_{343}, a_{14} : r_{344}, a_{15} : r_{345}, a_{23} : \\frac{r_{343} x_{23}}{x_{13}}, a_{24} : r_{346}, a_{25} : r_{347}, a_{34} : \\frac{r_{343}}{x_{13}}, a_{35} : -\\frac{r_{341} x_{25}}{x_{15} x_{23} - x_{13} x_{25}}, a_{45} : 0\\right\\}\\right]$$"
      ],
      "text/plain": [
       "[{d1: r330,\n",
       "  d2: 0,\n",
       "  d3: 0,\n",
       "  d4: 0,\n",
       "  d5: r331,\n",
       "  a12: r332,\n",
       "  a13: r333,\n",
       "  a14: r334,\n",
       "  a15: r335,\n",
       "  a23: r336,\n",
       "  a24: r337,\n",
       "  a25: r338,\n",
       "  a34: r339,\n",
       "  a35: r340,\n",
       "  a45: 0},\n",
       " {d1: r341,\n",
       "  d2: r342,\n",
       "  d3: r342/x23,\n",
       "  d4: r342/(x23*x34),\n",
       "  d5: r341*x23/(x15*x23 - x13*x25),\n",
       "  a12: r342*x13/x23,\n",
       "  a13: r343,\n",
       "  a14: r344,\n",
       "  a15: r345,\n",
       "  a23: r343*x23/x13,\n",
       "  a24: r346,\n",
       "  a25: r347,\n",
       "  a34: r343/x13,\n",
       "  a35: -r341*x25/(x15*x23 - x13*x25),\n",
       "  a45: 0}]"
      ]
     },
     "metadata": {},
     "output_type": "display_data"
    },
    {
     "data": {
      "text/plain": [
       "\\left[\\left\\{d_{1} : r_{330}, d_{2} : 0, d_{3} : 0, d_{4} : 0, d_{5} : r_{331}, a_{12} : r_{332}, a_{13} : r_{333}, a_{14} : r_{334}, a_{15} : r_{335}, a_{23} : r_{336}, a_{24} : r_{337}, a_{25} : r_{338}, a_{34} : r_{339}, a_{35} : r_{340}, a_{45} : 0\\right\\}, \\left\\{d_{1} : r_{341}, d_{2} : r_{342}, d_{3} : \\frac{r_{342}}{x_{23}}, d_{4} : \\frac{r_{342}}{x_{23} x_{34}}, d_{5} : \\frac{r_{341} x_{23}}{x_{15} x_{23} - x_{13} x_{25}}, a_{12} : \\frac{r_{342} x_{13}}{x_{23}}, a_{13} : r_{343}, a_{14} : r_{344}, a_{15} : r_{345}, a_{23} : \\frac{r_{343} x_{23}}{x_{13}}, a_{24} : r_{346}, a_{25} : r_{347}, a_{34} : \\frac{r_{343}}{x_{13}}, a_{35} : -\\frac{r_{341} x_{25}}{x_{15} x_{23} - x_{13} x_{25}}, a_{45} : 0\\right\\}\\right]"
      ]
     },
     "execution_count": 19,
     "metadata": {},
     "output_type": "execute_result"
    }
   ],
   "source": [
    "#x6\n",
    "#----------------------\n",
    "#x15 \\neq x13*x25/x23\n",
    "#----------------------\n",
    "reset()\n",
    "\n",
    "var('x12,x13,x14,x15,x23,x24,x25,x34,x35,x45')\n",
    "var('d1,d2,d3,d4,d5')\n",
    "var('a12,a13,a14,a15,a23,a24,a25,a34,a35,a45')\n",
    "\n",
    "load_attach_path('C:\\\\Users\\\\julia\\\\Documents\\\\unb\\\\doutorado\\\\pensar\\\\codigo_sage_v2\\\\maquina\\\\x6')\n",
    "load('out_#001101.sage')\n",
    "\n",
    "\n",
    "m=matrix(QQ, [[0, 0, 0, 0, 1],\n",
    "              [0, 0, 1, 0, 0],\n",
    "              [0, 0, 0, 1, 0],\n",
    "              [0, 0, 0, 0, 0],\n",
    "              [0, 0, 0, 0, 0]])\n",
    "        \n",
    "#entry of matrix: (i,j) line i collum j, means (i-1,j-1)\n",
    "sol=solve([ eq1==m[0,2],\teq2==m[0,3],\teq3==m[0,4],\teq4==m[1,2],\t\n",
    "                                            eq5==m[1,3],    eq6==m[1,4],\n",
    "                                                            eq7==m[2,3], eq8==m[2,4]],d1,d2,d3,d4,d5,a12,a13,a14,a15,a23,a24,a25,a34,a35,a45, solution_dict=True)\n",
    "\n",
    "show(m)\n",
    "show(sol)\n",
    "latex(sol)"
   ]
  },
  {
   "cell_type": "code",
   "execution_count": 20,
   "metadata": {},
   "outputs": [
    {
     "data": {
      "text/html": [
       "<html><script type=\"math/tex; mode=display\">\\newcommand{\\Bold}[1]{\\mathbf{#1}}\\left(\\begin{array}{rrrrr}\n",
       "0 & 0 & 0 & 0 & 0 \\\\\n",
       "0 & 0 & 1 & 0 & 0 \\\\\n",
       "0 & 0 & 0 & 1 & 0 \\\\\n",
       "0 & 0 & 0 & 0 & 0 \\\\\n",
       "0 & 0 & 0 & 0 & 0\n",
       "\\end{array}\\right)</script></html>"
      ],
      "text/latex": [
       "$$\\newcommand{\\Bold}[1]{\\mathbf{#1}}\\left(\\begin{array}{rrrrr}\n",
       "0 & 0 & 0 & 0 & 0 \\\\\n",
       "0 & 0 & 1 & 0 & 0 \\\\\n",
       "0 & 0 & 0 & 1 & 0 \\\\\n",
       "0 & 0 & 0 & 0 & 0 \\\\\n",
       "0 & 0 & 0 & 0 & 0\n",
       "\\end{array}\\right)$$"
      ],
      "text/plain": [
       "[0 0 0 0 0]\n",
       "[0 0 1 0 0]\n",
       "[0 0 0 1 0]\n",
       "[0 0 0 0 0]\n",
       "[0 0 0 0 0]"
      ]
     },
     "metadata": {},
     "output_type": "display_data"
    },
    {
     "data": {
      "text/html": [
       "<html><script type=\"math/tex; mode=display\">\\newcommand{\\Bold}[1]{\\mathbf{#1}}\\left[\\left\\{d_{1} : r_{348}, d_{2} : 0, d_{3} : 0, d_{4} : 0, d_{5} : r_{349}, a_{12} : r_{350}, a_{13} : r_{351}, a_{14} : r_{352}, a_{15} : r_{353}, a_{23} : r_{354}, a_{24} : r_{355}, a_{25} : r_{356}, a_{34} : r_{357}, a_{35} : r_{358}, a_{45} : 0\\right\\}, \\left\\{d_{1} : r_{359}, d_{2} : r_{360}, d_{3} : \\frac{r_{360}}{x_{23}}, d_{4} : \\frac{r_{360}}{x_{23} x_{34}}, d_{5} : r_{361}, a_{12} : \\frac{r_{360} x_{13}}{x_{23}}, a_{13} : r_{362}, a_{14} : r_{363}, a_{15} : r_{364}, a_{23} : \\frac{r_{362} x_{23}}{x_{13}}, a_{24} : r_{365}, a_{25} : r_{366}, a_{34} : \\frac{r_{362}}{x_{13}}, a_{35} : -\\frac{r_{361} x_{25}}{x_{23}}, a_{45} : 0\\right\\}\\right]</script></html>"
      ],
      "text/latex": [
       "$$\\newcommand{\\Bold}[1]{\\mathbf{#1}}\\left[\\left\\{d_{1} : r_{348}, d_{2} : 0, d_{3} : 0, d_{4} : 0, d_{5} : r_{349}, a_{12} : r_{350}, a_{13} : r_{351}, a_{14} : r_{352}, a_{15} : r_{353}, a_{23} : r_{354}, a_{24} : r_{355}, a_{25} : r_{356}, a_{34} : r_{357}, a_{35} : r_{358}, a_{45} : 0\\right\\}, \\left\\{d_{1} : r_{359}, d_{2} : r_{360}, d_{3} : \\frac{r_{360}}{x_{23}}, d_{4} : \\frac{r_{360}}{x_{23} x_{34}}, d_{5} : r_{361}, a_{12} : \\frac{r_{360} x_{13}}{x_{23}}, a_{13} : r_{362}, a_{14} : r_{363}, a_{15} : r_{364}, a_{23} : \\frac{r_{362} x_{23}}{x_{13}}, a_{24} : r_{365}, a_{25} : r_{366}, a_{34} : \\frac{r_{362}}{x_{13}}, a_{35} : -\\frac{r_{361} x_{25}}{x_{23}}, a_{45} : 0\\right\\}\\right]$$"
      ],
      "text/plain": [
       "[{d1: r348,\n",
       "  d2: 0,\n",
       "  d3: 0,\n",
       "  d4: 0,\n",
       "  d5: r349,\n",
       "  a12: r350,\n",
       "  a13: r351,\n",
       "  a14: r352,\n",
       "  a15: r353,\n",
       "  a23: r354,\n",
       "  a24: r355,\n",
       "  a25: r356,\n",
       "  a34: r357,\n",
       "  a35: r358,\n",
       "  a45: 0},\n",
       " {d1: r359,\n",
       "  d2: r360,\n",
       "  d3: r360/x23,\n",
       "  d4: r360/(x23*x34),\n",
       "  d5: r361,\n",
       "  a12: r360*x13/x23,\n",
       "  a13: r362,\n",
       "  a14: r363,\n",
       "  a15: r364,\n",
       "  a23: r362*x23/x13,\n",
       "  a24: r365,\n",
       "  a25: r366,\n",
       "  a34: r362/x13,\n",
       "  a35: -r361*x25/x23,\n",
       "  a45: 0}]"
      ]
     },
     "metadata": {},
     "output_type": "display_data"
    },
    {
     "data": {
      "text/plain": [
       "\\left[\\left\\{d_{1} : r_{348}, d_{2} : 0, d_{3} : 0, d_{4} : 0, d_{5} : r_{349}, a_{12} : r_{350}, a_{13} : r_{351}, a_{14} : r_{352}, a_{15} : r_{353}, a_{23} : r_{354}, a_{24} : r_{355}, a_{25} : r_{356}, a_{34} : r_{357}, a_{35} : r_{358}, a_{45} : 0\\right\\}, \\left\\{d_{1} : r_{359}, d_{2} : r_{360}, d_{3} : \\frac{r_{360}}{x_{23}}, d_{4} : \\frac{r_{360}}{x_{23} x_{34}}, d_{5} : r_{361}, a_{12} : \\frac{r_{360} x_{13}}{x_{23}}, a_{13} : r_{362}, a_{14} : r_{363}, a_{15} : r_{364}, a_{23} : \\frac{r_{362} x_{23}}{x_{13}}, a_{24} : r_{365}, a_{25} : r_{366}, a_{34} : \\frac{r_{362}}{x_{13}}, a_{35} : -\\frac{r_{361} x_{25}}{x_{23}}, a_{45} : 0\\right\\}\\right]"
      ]
     },
     "execution_count": 20,
     "metadata": {},
     "output_type": "execute_result"
    }
   ],
   "source": [
    "#x6\n",
    "#----------------------\n",
    "#x15 = x13*x25/x23\n",
    "#----------------------\n",
    "reset()\n",
    "\n",
    "var('x12,x13,x14,x15,x23,x24,x25,x34,x35,x45')\n",
    "var('d1,d2,d3,d4,d5')\n",
    "var('a12,a13,a14,a15,a23,a24,a25,a34,a35,a45')\n",
    "\n",
    "#001101\n",
    "eq1=(d2*d3*x13-a12*d3*x23)/(d1*d2) \n",
    "eq2=(a34*d2*d3*x13+d2*d3*d4*0-a12*a34*d3*x23-a12*d3*d4*0+a12*a23*d4*x34-a13*d2*d4*x34)/(d1*d2*d3) \n",
    "eq3=(a35*d2*d3*x13+a45*d2*d3*0+d2*d3*d5*((x13*x25)/x23)-a12*a35*d3*x23-a12*a45*d3*0-a12*d3*d5*x25+a12*a23*a45*x34-a13*a45*d2*x34+a12*a23*d5*0-a13*d2*d5*0)/(d1*d2*d3) \n",
    "eq4=(d3*x23)/(d2) \n",
    "eq5=(a34*d3*x23+d3*d4*0-a23*d4*x34)/(d2*d3) \n",
    "eq6=(a35*d3*x23+a45*d3*0+d3*d5*x25-a23*a45*x34-a23*d5*0)/(d2*d3) \n",
    "eq7=(d4*x34)/(d3) \n",
    "eq8=(a45*x34+d5*0)/(d3) \n",
    "\n",
    "m=matrix(QQ, [[0, 0, 0, 0, 0],\n",
    "              [0, 0, 1, 0, 0],\n",
    "              [0, 0, 0, 1, 0],\n",
    "              [0, 0, 0, 0, 0],\n",
    "              [0, 0, 0, 0, 0]])\n",
    "        \n",
    "#entry of matrix: (i,j) line i collum j, means (i-1,j-1)\n",
    "sol=solve([ eq1==m[0,2],\teq2==m[0,3],\teq3==m[0,4],\teq4==m[1,2],\t\n",
    "                                            eq5==m[1,3],    eq6==m[1,4],\n",
    "                                                            eq7==m[2,3], eq8==m[2,4]],d1,d2,d3,d4,d5,a12,a13,a14,a15,a23,a24,a25,a34,a35,a45, solution_dict=True)\n",
    "\n",
    "show(m)\n",
    "show(sol)\n",
    "latex(sol)"
   ]
  },
  {
   "cell_type": "code",
   "execution_count": 21,
   "metadata": {},
   "outputs": [
    {
     "data": {
      "text/html": [
       "<html><script type=\"math/tex; mode=display\">\\newcommand{\\Bold}[1]{\\mathbf{#1}}\\left(\\begin{array}{rrrrr}\n",
       "0 & 0 & 0 & 0 & 1 \\\\\n",
       "0 & 0 & 1 & 0 & 0 \\\\\n",
       "0 & 0 & 0 & 1 & 0 \\\\\n",
       "0 & 0 & 0 & 0 & 0 \\\\\n",
       "0 & 0 & 0 & 0 & 0\n",
       "\\end{array}\\right)</script></html>"
      ],
      "text/latex": [
       "$$\\newcommand{\\Bold}[1]{\\mathbf{#1}}\\left(\\begin{array}{rrrrr}\n",
       "0 & 0 & 0 & 0 & 1 \\\\\n",
       "0 & 0 & 1 & 0 & 0 \\\\\n",
       "0 & 0 & 0 & 1 & 0 \\\\\n",
       "0 & 0 & 0 & 0 & 0 \\\\\n",
       "0 & 0 & 0 & 0 & 0\n",
       "\\end{array}\\right)$$"
      ],
      "text/plain": [
       "[0 0 0 0 1]\n",
       "[0 0 1 0 0]\n",
       "[0 0 0 1 0]\n",
       "[0 0 0 0 0]\n",
       "[0 0 0 0 0]"
      ]
     },
     "metadata": {},
     "output_type": "display_data"
    },
    {
     "data": {
      "text/html": [
       "<html><script type=\"math/tex; mode=display\">\\newcommand{\\Bold}[1]{\\mathbf{#1}}\\left[\\left\\{d_{1} : r_{367}, d_{2} : 0, d_{3} : 0, d_{4} : 0, d_{5} : r_{368}, a_{12} : r_{369}, a_{13} : r_{370}, a_{14} : r_{371}, a_{15} : r_{372}, a_{23} : r_{373}, a_{24} : r_{374}, a_{25} : r_{375}, a_{34} : r_{376}, a_{35} : r_{377}, a_{45} : 0\\right\\}, \\left\\{d_{1} : r_{378}, d_{2} : r_{379}, d_{3} : \\frac{r_{379}}{x_{23}}, d_{4} : \\frac{r_{379}}{x_{23} x_{34}}, d_{5} : -\\frac{r_{378} x_{23}}{x_{13} x_{25}}, a_{12} : \\frac{r_{379} x_{13}}{x_{23}}, a_{13} : r_{380}, a_{14} : r_{381}, a_{15} : r_{382}, a_{23} : \\frac{r_{380} x_{23} x_{34} - r_{379} x_{14}}{x_{13} x_{34}}, a_{24} : r_{383}, a_{25} : r_{384}, a_{34} : \\frac{r_{380} x_{23} x_{34} - r_{379} x_{14}}{x_{13} x_{23} x_{34}}, a_{35} : \\frac{r_{378}}{x_{13}}, a_{45} : 0\\right\\}\\right]</script></html>"
      ],
      "text/latex": [
       "$$\\newcommand{\\Bold}[1]{\\mathbf{#1}}\\left[\\left\\{d_{1} : r_{367}, d_{2} : 0, d_{3} : 0, d_{4} : 0, d_{5} : r_{368}, a_{12} : r_{369}, a_{13} : r_{370}, a_{14} : r_{371}, a_{15} : r_{372}, a_{23} : r_{373}, a_{24} : r_{374}, a_{25} : r_{375}, a_{34} : r_{376}, a_{35} : r_{377}, a_{45} : 0\\right\\}, \\left\\{d_{1} : r_{378}, d_{2} : r_{379}, d_{3} : \\frac{r_{379}}{x_{23}}, d_{4} : \\frac{r_{379}}{x_{23} x_{34}}, d_{5} : -\\frac{r_{378} x_{23}}{x_{13} x_{25}}, a_{12} : \\frac{r_{379} x_{13}}{x_{23}}, a_{13} : r_{380}, a_{14} : r_{381}, a_{15} : r_{382}, a_{23} : \\frac{r_{380} x_{23} x_{34} - r_{379} x_{14}}{x_{13} x_{34}}, a_{24} : r_{383}, a_{25} : r_{384}, a_{34} : \\frac{r_{380} x_{23} x_{34} - r_{379} x_{14}}{x_{13} x_{23} x_{34}}, a_{35} : \\frac{r_{378}}{x_{13}}, a_{45} : 0\\right\\}\\right]$$"
      ],
      "text/plain": [
       "[{d1: r367,\n",
       "  d2: 0,\n",
       "  d3: 0,\n",
       "  d4: 0,\n",
       "  d5: r368,\n",
       "  a12: r369,\n",
       "  a13: r370,\n",
       "  a14: r371,\n",
       "  a15: r372,\n",
       "  a23: r373,\n",
       "  a24: r374,\n",
       "  a25: r375,\n",
       "  a34: r376,\n",
       "  a35: r377,\n",
       "  a45: 0},\n",
       " {d1: r378,\n",
       "  d2: r379,\n",
       "  d3: r379/x23,\n",
       "  d4: r379/(x23*x34),\n",
       "  d5: -r378*x23/(x13*x25),\n",
       "  a12: r379*x13/x23,\n",
       "  a13: r380,\n",
       "  a14: r381,\n",
       "  a15: r382,\n",
       "  a23: (r380*x23*x34 - r379*x14)/(x13*x34),\n",
       "  a24: r383,\n",
       "  a25: r384,\n",
       "  a34: (r380*x23*x34 - r379*x14)/(x13*x23*x34),\n",
       "  a35: r378/x13,\n",
       "  a45: 0}]"
      ]
     },
     "metadata": {},
     "output_type": "display_data"
    },
    {
     "data": {
      "text/plain": [
       "\\left[\\left\\{d_{1} : r_{367}, d_{2} : 0, d_{3} : 0, d_{4} : 0, d_{5} : r_{368}, a_{12} : r_{369}, a_{13} : r_{370}, a_{14} : r_{371}, a_{15} : r_{372}, a_{23} : r_{373}, a_{24} : r_{374}, a_{25} : r_{375}, a_{34} : r_{376}, a_{35} : r_{377}, a_{45} : 0\\right\\}, \\left\\{d_{1} : r_{378}, d_{2} : r_{379}, d_{3} : \\frac{r_{379}}{x_{23}}, d_{4} : \\frac{r_{379}}{x_{23} x_{34}}, d_{5} : -\\frac{r_{378} x_{23}}{x_{13} x_{25}}, a_{12} : \\frac{r_{379} x_{13}}{x_{23}}, a_{13} : r_{380}, a_{14} : r_{381}, a_{15} : r_{382}, a_{23} : \\frac{r_{380} x_{23} x_{34} - r_{379} x_{14}}{x_{13} x_{34}}, a_{24} : r_{383}, a_{25} : r_{384}, a_{34} : \\frac{r_{380} x_{23} x_{34} - r_{379} x_{14}}{x_{13} x_{23} x_{34}}, a_{35} : \\frac{r_{378}}{x_{13}}, a_{45} : 0\\right\\}\\right]"
      ]
     },
     "execution_count": 21,
     "metadata": {},
     "output_type": "execute_result"
    }
   ],
   "source": [
    "#x6\n",
    "reset()\n",
    "\n",
    "var('x12,x13,x14,x15,x23,x24,x25,x34,x35,x45')\n",
    "var('d1,d2,d3,d4,d5')\n",
    "var('a12,a13,a14,a15,a23,a24,a25,a34,a35,a45')\n",
    "\n",
    "load_attach_path('C:\\\\Users\\\\julia\\\\Documents\\\\unb\\\\doutorado\\\\pensar\\\\codigo_sage_v2\\\\maquina\\\\x6')\n",
    "load('out_#001110.sage')\n",
    "\n",
    "m=matrix(QQ, [[0, 0, 0, 0, 1],\n",
    "              [0, 0, 1, 0, 0],\n",
    "              [0, 0, 0, 1, 0],\n",
    "              [0, 0, 0, 0, 0],\n",
    "              [0, 0, 0, 0, 0]])\n",
    "        \n",
    "#entry of matrix: (i,j) line i collum j, means (i-1,j-1)\n",
    "sol=solve([ eq1==m[0,2],\teq2==m[0,3],\teq3==m[0,4],\teq4==m[1,2],\t\n",
    "                                            eq5==m[1,3],    eq6==m[1,4],\n",
    "                                                            eq7==m[2,3], eq8==m[2,4]],d1,d2,d3,d4,d5,a12,a13,a14,a15,a23,a24,a25,a34,a35,a45, solution_dict=True)\n",
    "\n",
    "show(m)\n",
    "show(sol)\n",
    "latex(sol)"
   ]
  },
  {
   "cell_type": "code",
   "execution_count": 22,
   "metadata": {},
   "outputs": [
    {
     "data": {
      "text/html": [
       "<html><script type=\"math/tex; mode=display\">\\newcommand{\\Bold}[1]{\\mathbf{#1}}\\left(\\begin{array}{rrrrr}\n",
       "0 & 0 & 0 & 0 & 1 \\\\\n",
       "0 & 0 & 1 & 0 & 0 \\\\\n",
       "0 & 0 & 0 & 1 & 0 \\\\\n",
       "0 & 0 & 0 & 0 & 0 \\\\\n",
       "0 & 0 & 0 & 0 & 0\n",
       "\\end{array}\\right)</script></html>"
      ],
      "text/latex": [
       "$$\\newcommand{\\Bold}[1]{\\mathbf{#1}}\\left(\\begin{array}{rrrrr}\n",
       "0 & 0 & 0 & 0 & 1 \\\\\n",
       "0 & 0 & 1 & 0 & 0 \\\\\n",
       "0 & 0 & 0 & 1 & 0 \\\\\n",
       "0 & 0 & 0 & 0 & 0 \\\\\n",
       "0 & 0 & 0 & 0 & 0\n",
       "\\end{array}\\right)$$"
      ],
      "text/plain": [
       "[0 0 0 0 1]\n",
       "[0 0 1 0 0]\n",
       "[0 0 0 1 0]\n",
       "[0 0 0 0 0]\n",
       "[0 0 0 0 0]"
      ]
     },
     "metadata": {},
     "output_type": "display_data"
    },
    {
     "data": {
      "text/html": [
       "<html><script type=\"math/tex; mode=display\">\\newcommand{\\Bold}[1]{\\mathbf{#1}}\\left[\\left\\{d_{1} : r_{385}, d_{2} : 0, d_{3} : 0, d_{4} : 0, d_{5} : r_{386}, a_{12} : r_{387}, a_{13} : r_{388}, a_{14} : r_{389}, a_{15} : r_{390}, a_{23} : r_{391}, a_{24} : r_{392}, a_{25} : r_{393}, a_{34} : r_{394}, a_{35} : r_{395}, a_{45} : 0\\right\\}, \\left\\{d_{1} : r_{396}, d_{2} : r_{397}, d_{3} : \\frac{r_{397}}{x_{23}}, d_{4} : \\frac{r_{397}}{x_{23} x_{34}}, d_{5} : \\frac{r_{396} x_{23}}{x_{15} x_{23} - x_{13} x_{25}}, a_{12} : \\frac{r_{397} x_{13}}{x_{23}}, a_{13} : r_{398}, a_{14} : r_{399}, a_{15} : r_{400}, a_{23} : \\frac{r_{398} x_{23} x_{34} - r_{397} x_{14}}{x_{13} x_{34}}, a_{24} : r_{401}, a_{25} : r_{402}, a_{34} : \\frac{r_{398} x_{23} x_{34} - r_{397} x_{14}}{x_{13} x_{23} x_{34}}, a_{35} : -\\frac{r_{396} x_{25}}{x_{15} x_{23} - x_{13} x_{25}}, a_{45} : 0\\right\\}\\right]</script></html>"
      ],
      "text/latex": [
       "$$\\newcommand{\\Bold}[1]{\\mathbf{#1}}\\left[\\left\\{d_{1} : r_{385}, d_{2} : 0, d_{3} : 0, d_{4} : 0, d_{5} : r_{386}, a_{12} : r_{387}, a_{13} : r_{388}, a_{14} : r_{389}, a_{15} : r_{390}, a_{23} : r_{391}, a_{24} : r_{392}, a_{25} : r_{393}, a_{34} : r_{394}, a_{35} : r_{395}, a_{45} : 0\\right\\}, \\left\\{d_{1} : r_{396}, d_{2} : r_{397}, d_{3} : \\frac{r_{397}}{x_{23}}, d_{4} : \\frac{r_{397}}{x_{23} x_{34}}, d_{5} : \\frac{r_{396} x_{23}}{x_{15} x_{23} - x_{13} x_{25}}, a_{12} : \\frac{r_{397} x_{13}}{x_{23}}, a_{13} : r_{398}, a_{14} : r_{399}, a_{15} : r_{400}, a_{23} : \\frac{r_{398} x_{23} x_{34} - r_{397} x_{14}}{x_{13} x_{34}}, a_{24} : r_{401}, a_{25} : r_{402}, a_{34} : \\frac{r_{398} x_{23} x_{34} - r_{397} x_{14}}{x_{13} x_{23} x_{34}}, a_{35} : -\\frac{r_{396} x_{25}}{x_{15} x_{23} - x_{13} x_{25}}, a_{45} : 0\\right\\}\\right]$$"
      ],
      "text/plain": [
       "[{d1: r385,\n",
       "  d2: 0,\n",
       "  d3: 0,\n",
       "  d4: 0,\n",
       "  d5: r386,\n",
       "  a12: r387,\n",
       "  a13: r388,\n",
       "  a14: r389,\n",
       "  a15: r390,\n",
       "  a23: r391,\n",
       "  a24: r392,\n",
       "  a25: r393,\n",
       "  a34: r394,\n",
       "  a35: r395,\n",
       "  a45: 0},\n",
       " {d1: r396,\n",
       "  d2: r397,\n",
       "  d3: r397/x23,\n",
       "  d4: r397/(x23*x34),\n",
       "  d5: r396*x23/(x15*x23 - x13*x25),\n",
       "  a12: r397*x13/x23,\n",
       "  a13: r398,\n",
       "  a14: r399,\n",
       "  a15: r400,\n",
       "  a23: (r398*x23*x34 - r397*x14)/(x13*x34),\n",
       "  a24: r401,\n",
       "  a25: r402,\n",
       "  a34: (r398*x23*x34 - r397*x14)/(x13*x23*x34),\n",
       "  a35: -r396*x25/(x15*x23 - x13*x25),\n",
       "  a45: 0}]"
      ]
     },
     "metadata": {},
     "output_type": "display_data"
    },
    {
     "data": {
      "text/plain": [
       "\\left[\\left\\{d_{1} : r_{385}, d_{2} : 0, d_{3} : 0, d_{4} : 0, d_{5} : r_{386}, a_{12} : r_{387}, a_{13} : r_{388}, a_{14} : r_{389}, a_{15} : r_{390}, a_{23} : r_{391}, a_{24} : r_{392}, a_{25} : r_{393}, a_{34} : r_{394}, a_{35} : r_{395}, a_{45} : 0\\right\\}, \\left\\{d_{1} : r_{396}, d_{2} : r_{397}, d_{3} : \\frac{r_{397}}{x_{23}}, d_{4} : \\frac{r_{397}}{x_{23} x_{34}}, d_{5} : \\frac{r_{396} x_{23}}{x_{15} x_{23} - x_{13} x_{25}}, a_{12} : \\frac{r_{397} x_{13}}{x_{23}}, a_{13} : r_{398}, a_{14} : r_{399}, a_{15} : r_{400}, a_{23} : \\frac{r_{398} x_{23} x_{34} - r_{397} x_{14}}{x_{13} x_{34}}, a_{24} : r_{401}, a_{25} : r_{402}, a_{34} : \\frac{r_{398} x_{23} x_{34} - r_{397} x_{14}}{x_{13} x_{23} x_{34}}, a_{35} : -\\frac{r_{396} x_{25}}{x_{15} x_{23} - x_{13} x_{25}}, a_{45} : 0\\right\\}\\right]"
      ]
     },
     "execution_count": 22,
     "metadata": {},
     "output_type": "execute_result"
    }
   ],
   "source": [
    "#x6\n",
    "#----------------------\n",
    "#x15 \\dif x13*x25/x23\n",
    "#----------------------\n",
    "reset()\n",
    "\n",
    "var('x12,x13,x14,x15,x23,x24,x25,x34,x35,x45')\n",
    "var('d1,d2,d3,d4,d5')\n",
    "var('a12,a13,a14,a15,a23,a24,a25,a34,a35,a45')\n",
    "\n",
    "load_attach_path('C:\\\\Users\\\\julia\\\\Documents\\\\unb\\\\doutorado\\\\pensar\\\\codigo_sage_v2\\\\maquina\\\\x6')\n",
    "load('out_#001111.sage')\n",
    "\n",
    "m=matrix(QQ, [[0, 0, 0, 0, 1],\n",
    "              [0, 0, 1, 0, 0],\n",
    "              [0, 0, 0, 1, 0],\n",
    "              [0, 0, 0, 0, 0],\n",
    "              [0, 0, 0, 0, 0]])\n",
    "        \n",
    "#entry of matrix: (i,j) line i collum j, means (i-1,j-1)\n",
    "sol=solve([ eq1==m[0,2],\teq2==m[0,3],\teq3==m[0,4],\teq4==m[1,2],\t\n",
    "                                            eq5==m[1,3],    eq6==m[1,4],\n",
    "                                                            eq7==m[2,3], eq8==m[2,4]],d1,d2,d3,d4,d5,a12,a13,a14,a15,a23,a24,a25,a34,a35,a45, solution_dict=True)\n",
    "\n",
    "show(m)\n",
    "show(sol)\n",
    "latex(sol)"
   ]
  },
  {
   "cell_type": "code",
   "execution_count": 23,
   "metadata": {},
   "outputs": [
    {
     "data": {
      "text/html": [
       "<html><script type=\"math/tex; mode=display\">\\newcommand{\\Bold}[1]{\\mathbf{#1}}\\left(\\begin{array}{rrrrr}\n",
       "0 & 0 & 0 & 0 & 0 \\\\\n",
       "0 & 0 & 1 & 0 & 0 \\\\\n",
       "0 & 0 & 0 & 1 & 0 \\\\\n",
       "0 & 0 & 0 & 0 & 0 \\\\\n",
       "0 & 0 & 0 & 0 & 0\n",
       "\\end{array}\\right)</script></html>"
      ],
      "text/latex": [
       "$$\\newcommand{\\Bold}[1]{\\mathbf{#1}}\\left(\\begin{array}{rrrrr}\n",
       "0 & 0 & 0 & 0 & 0 \\\\\n",
       "0 & 0 & 1 & 0 & 0 \\\\\n",
       "0 & 0 & 0 & 1 & 0 \\\\\n",
       "0 & 0 & 0 & 0 & 0 \\\\\n",
       "0 & 0 & 0 & 0 & 0\n",
       "\\end{array}\\right)$$"
      ],
      "text/plain": [
       "[0 0 0 0 0]\n",
       "[0 0 1 0 0]\n",
       "[0 0 0 1 0]\n",
       "[0 0 0 0 0]\n",
       "[0 0 0 0 0]"
      ]
     },
     "metadata": {},
     "output_type": "display_data"
    },
    {
     "data": {
      "text/html": [
       "<html><script type=\"math/tex; mode=display\">\\newcommand{\\Bold}[1]{\\mathbf{#1}}\\left[\\left\\{d_{1} : r_{403}, d_{2} : 0, d_{3} : 0, d_{4} : 0, d_{5} : r_{404}, a_{12} : r_{405}, a_{13} : r_{406}, a_{14} : r_{407}, a_{15} : r_{408}, a_{23} : r_{409}, a_{24} : r_{410}, a_{25} : r_{411}, a_{34} : r_{412}, a_{35} : r_{413}, a_{45} : 0\\right\\}, \\left\\{d_{1} : r_{414}, d_{2} : r_{415}, d_{3} : \\frac{r_{415}}{x_{23}}, d_{4} : \\frac{r_{415}}{x_{23} x_{34}}, d_{5} : r_{416}, a_{12} : \\frac{r_{415} x_{13}}{x_{23}}, a_{13} : r_{417}, a_{14} : r_{418}, a_{15} : r_{419}, a_{23} : \\frac{r_{417} x_{23} x_{34} - r_{415} x_{14}}{x_{13} x_{34}}, a_{24} : r_{420}, a_{25} : r_{421}, a_{34} : \\frac{r_{417} x_{23} x_{34} - r_{415} x_{14}}{x_{13} x_{23} x_{34}}, a_{35} : -\\frac{r_{416} x_{25}}{x_{23}}, a_{45} : 0\\right\\}\\right]</script></html>"
      ],
      "text/latex": [
       "$$\\newcommand{\\Bold}[1]{\\mathbf{#1}}\\left[\\left\\{d_{1} : r_{403}, d_{2} : 0, d_{3} : 0, d_{4} : 0, d_{5} : r_{404}, a_{12} : r_{405}, a_{13} : r_{406}, a_{14} : r_{407}, a_{15} : r_{408}, a_{23} : r_{409}, a_{24} : r_{410}, a_{25} : r_{411}, a_{34} : r_{412}, a_{35} : r_{413}, a_{45} : 0\\right\\}, \\left\\{d_{1} : r_{414}, d_{2} : r_{415}, d_{3} : \\frac{r_{415}}{x_{23}}, d_{4} : \\frac{r_{415}}{x_{23} x_{34}}, d_{5} : r_{416}, a_{12} : \\frac{r_{415} x_{13}}{x_{23}}, a_{13} : r_{417}, a_{14} : r_{418}, a_{15} : r_{419}, a_{23} : \\frac{r_{417} x_{23} x_{34} - r_{415} x_{14}}{x_{13} x_{34}}, a_{24} : r_{420}, a_{25} : r_{421}, a_{34} : \\frac{r_{417} x_{23} x_{34} - r_{415} x_{14}}{x_{13} x_{23} x_{34}}, a_{35} : -\\frac{r_{416} x_{25}}{x_{23}}, a_{45} : 0\\right\\}\\right]$$"
      ],
      "text/plain": [
       "[{d1: r403,\n",
       "  d2: 0,\n",
       "  d3: 0,\n",
       "  d4: 0,\n",
       "  d5: r404,\n",
       "  a12: r405,\n",
       "  a13: r406,\n",
       "  a14: r407,\n",
       "  a15: r408,\n",
       "  a23: r409,\n",
       "  a24: r410,\n",
       "  a25: r411,\n",
       "  a34: r412,\n",
       "  a35: r413,\n",
       "  a45: 0},\n",
       " {d1: r414,\n",
       "  d2: r415,\n",
       "  d3: r415/x23,\n",
       "  d4: r415/(x23*x34),\n",
       "  d5: r416,\n",
       "  a12: r415*x13/x23,\n",
       "  a13: r417,\n",
       "  a14: r418,\n",
       "  a15: r419,\n",
       "  a23: (r417*x23*x34 - r415*x14)/(x13*x34),\n",
       "  a24: r420,\n",
       "  a25: r421,\n",
       "  a34: (r417*x23*x34 - r415*x14)/(x13*x23*x34),\n",
       "  a35: -r416*x25/x23,\n",
       "  a45: 0}]"
      ]
     },
     "metadata": {},
     "output_type": "display_data"
    },
    {
     "data": {
      "text/plain": [
       "\\left[\\left\\{d_{1} : r_{403}, d_{2} : 0, d_{3} : 0, d_{4} : 0, d_{5} : r_{404}, a_{12} : r_{405}, a_{13} : r_{406}, a_{14} : r_{407}, a_{15} : r_{408}, a_{23} : r_{409}, a_{24} : r_{410}, a_{25} : r_{411}, a_{34} : r_{412}, a_{35} : r_{413}, a_{45} : 0\\right\\}, \\left\\{d_{1} : r_{414}, d_{2} : r_{415}, d_{3} : \\frac{r_{415}}{x_{23}}, d_{4} : \\frac{r_{415}}{x_{23} x_{34}}, d_{5} : r_{416}, a_{12} : \\frac{r_{415} x_{13}}{x_{23}}, a_{13} : r_{417}, a_{14} : r_{418}, a_{15} : r_{419}, a_{23} : \\frac{r_{417} x_{23} x_{34} - r_{415} x_{14}}{x_{13} x_{34}}, a_{24} : r_{420}, a_{25} : r_{421}, a_{34} : \\frac{r_{417} x_{23} x_{34} - r_{415} x_{14}}{x_{13} x_{23} x_{34}}, a_{35} : -\\frac{r_{416} x_{25}}{x_{23}}, a_{45} : 0\\right\\}\\right]"
      ]
     },
     "execution_count": 23,
     "metadata": {},
     "output_type": "execute_result"
    }
   ],
   "source": [
    "#x6\n",
    "#----------------------\n",
    "#x15 = x13*x25/x23\n",
    "#----------------------\n",
    "reset()\n",
    "\n",
    "var('x12,x13,x14,x15,x23,x24,x25,x34,x35,x45')\n",
    "var('d1,d2,d3,d4,d5')\n",
    "var('a12,a13,a14,a15,a23,a24,a25,a34,a35,a45')\n",
    "\n",
    "#001111\n",
    "eq1=(d2*d3*x13-a12*d3*x23)/(d1*d2) \n",
    "eq2=(a34*d2*d3*x13+d2*d3*d4*x14-a12*a34*d3*x23-a12*d3*d4*0+a12*a23*d4*x34-a13*d2*d4*x34)/(d1*d2*d3) \n",
    "eq3=(a35*d2*d3*x13+a45*d2*d3*x14+d2*d3*d5*((x13*x25)/x23)-a12*a35*d3*x23-a12*a45*d3*0-a12*d3*d5*x25+a12*a23*a45*x34-a13*a45*d2*x34+a12*a23*d5*0-a13*d2*d5*0)/(d1*d2*d3) \n",
    "eq4=(d3*x23)/(d2) \n",
    "eq5=(a34*d3*x23+d3*d4*0-a23*d4*x34)/(d2*d3) \n",
    "eq6=(a35*d3*x23+a45*d3*0+d3*d5*x25-a23*a45*x34-a23*d5*0)/(d2*d3) \n",
    "eq7=(d4*x34)/(d3) \n",
    "eq8=(a45*x34+d5*0)/(d3) \n",
    "\n",
    "m=matrix(QQ, [[0, 0, 0, 0, 0],\n",
    "              [0, 0, 1, 0, 0],\n",
    "              [0, 0, 0, 1, 0],\n",
    "              [0, 0, 0, 0, 0],\n",
    "              [0, 0, 0, 0, 0]])\n",
    "        \n",
    "#entry of matrix: (i,j) line i collum j, means (i-1,j-1)\n",
    "sol=solve([ eq1==m[0,2],\teq2==m[0,3],\teq3==m[0,4],\teq4==m[1,2],\t\n",
    "                                            eq5==m[1,3],    eq6==m[1,4],\n",
    "                                                            eq7==m[2,3], eq8==m[2,4]],d1,d2,d3,d4,d5,a12,a13,a14,a15,a23,a24,a25,a34,a35,a45, solution_dict=True)\n",
    "\n",
    "show(m)\n",
    "show(sol)\n",
    "latex(sol)"
   ]
  },
  {
   "cell_type": "code",
   "execution_count": 24,
   "metadata": {},
   "outputs": [
    {
     "data": {
      "text/html": [
       "<html><script type=\"math/tex; mode=display\">\\newcommand{\\Bold}[1]{\\mathbf{#1}}\\left(\\begin{array}{rrrrr}\n",
       "0 & 0 & 0 & 0 & 0 \\\\\n",
       "0 & 0 & 1 & 0 & 0 \\\\\n",
       "0 & 0 & 0 & 1 & 0 \\\\\n",
       "0 & 0 & 0 & 0 & 0 \\\\\n",
       "0 & 0 & 0 & 0 & 0\n",
       "\\end{array}\\right)</script></html>"
      ],
      "text/latex": [
       "$$\\newcommand{\\Bold}[1]{\\mathbf{#1}}\\left(\\begin{array}{rrrrr}\n",
       "0 & 0 & 0 & 0 & 0 \\\\\n",
       "0 & 0 & 1 & 0 & 0 \\\\\n",
       "0 & 0 & 0 & 1 & 0 \\\\\n",
       "0 & 0 & 0 & 0 & 0 \\\\\n",
       "0 & 0 & 0 & 0 & 0\n",
       "\\end{array}\\right)$$"
      ],
      "text/plain": [
       "[0 0 0 0 0]\n",
       "[0 0 1 0 0]\n",
       "[0 0 0 1 0]\n",
       "[0 0 0 0 0]\n",
       "[0 0 0 0 0]"
      ]
     },
     "metadata": {},
     "output_type": "display_data"
    },
    {
     "data": {
      "text/html": [
       "<html><script type=\"math/tex; mode=display\">\\newcommand{\\Bold}[1]{\\mathbf{#1}}\\left[\\left\\{d_{1} : r_{422}, d_{2} : 0, d_{3} : 0, d_{4} : 0, d_{5} : r_{423}, a_{12} : r_{424}, a_{13} : r_{425}, a_{14} : r_{426}, a_{15} : r_{427}, a_{23} : r_{428}, a_{24} : r_{429}, a_{25} : r_{430}, a_{34} : r_{431}, a_{35} : r_{432}, a_{45} : 0\\right\\}, \\left\\{d_{1} : r_{433}, d_{2} : r_{434}, d_{3} : \\frac{r_{434}}{x_{23}}, d_{4} : \\frac{r_{434}}{x_{23} x_{34}}, d_{5} : r_{435}, a_{12} : 0, a_{13} : 0, a_{14} : r_{436}, a_{15} : r_{437}, a_{23} : r_{438}, a_{24} : r_{439}, a_{25} : r_{440}, a_{34} : \\frac{r_{438} x_{23} x_{34} - r_{434} x_{24}}{x_{23}^{2} x_{34}}, a_{35} : 0, a_{45} : 0\\right\\}\\right]</script></html>"
      ],
      "text/latex": [
       "$$\\newcommand{\\Bold}[1]{\\mathbf{#1}}\\left[\\left\\{d_{1} : r_{422}, d_{2} : 0, d_{3} : 0, d_{4} : 0, d_{5} : r_{423}, a_{12} : r_{424}, a_{13} : r_{425}, a_{14} : r_{426}, a_{15} : r_{427}, a_{23} : r_{428}, a_{24} : r_{429}, a_{25} : r_{430}, a_{34} : r_{431}, a_{35} : r_{432}, a_{45} : 0\\right\\}, \\left\\{d_{1} : r_{433}, d_{2} : r_{434}, d_{3} : \\frac{r_{434}}{x_{23}}, d_{4} : \\frac{r_{434}}{x_{23} x_{34}}, d_{5} : r_{435}, a_{12} : 0, a_{13} : 0, a_{14} : r_{436}, a_{15} : r_{437}, a_{23} : r_{438}, a_{24} : r_{439}, a_{25} : r_{440}, a_{34} : \\frac{r_{438} x_{23} x_{34} - r_{434} x_{24}}{x_{23}^{2} x_{34}}, a_{35} : 0, a_{45} : 0\\right\\}\\right]$$"
      ],
      "text/plain": [
       "[{d1: r422,\n",
       "  d2: 0,\n",
       "  d3: 0,\n",
       "  d4: 0,\n",
       "  d5: r423,\n",
       "  a12: r424,\n",
       "  a13: r425,\n",
       "  a14: r426,\n",
       "  a15: r427,\n",
       "  a23: r428,\n",
       "  a24: r429,\n",
       "  a25: r430,\n",
       "  a34: r431,\n",
       "  a35: r432,\n",
       "  a45: 0},\n",
       " {d1: r433,\n",
       "  d2: r434,\n",
       "  d3: r434/x23,\n",
       "  d4: r434/(x23*x34),\n",
       "  d5: r435,\n",
       "  a12: 0,\n",
       "  a13: 0,\n",
       "  a14: r436,\n",
       "  a15: r437,\n",
       "  a23: r438,\n",
       "  a24: r439,\n",
       "  a25: r440,\n",
       "  a34: (r438*x23*x34 - r434*x24)/(x23^2*x34),\n",
       "  a35: 0,\n",
       "  a45: 0}]"
      ]
     },
     "metadata": {},
     "output_type": "display_data"
    },
    {
     "data": {
      "text/plain": [
       "\\left[\\left\\{d_{1} : r_{422}, d_{2} : 0, d_{3} : 0, d_{4} : 0, d_{5} : r_{423}, a_{12} : r_{424}, a_{13} : r_{425}, a_{14} : r_{426}, a_{15} : r_{427}, a_{23} : r_{428}, a_{24} : r_{429}, a_{25} : r_{430}, a_{34} : r_{431}, a_{35} : r_{432}, a_{45} : 0\\right\\}, \\left\\{d_{1} : r_{433}, d_{2} : r_{434}, d_{3} : \\frac{r_{434}}{x_{23}}, d_{4} : \\frac{r_{434}}{x_{23} x_{34}}, d_{5} : r_{435}, a_{12} : 0, a_{13} : 0, a_{14} : r_{436}, a_{15} : r_{437}, a_{23} : r_{438}, a_{24} : r_{439}, a_{25} : r_{440}, a_{34} : \\frac{r_{438} x_{23} x_{34} - r_{434} x_{24}}{x_{23}^{2} x_{34}}, a_{35} : 0, a_{45} : 0\\right\\}\\right]"
      ]
     },
     "execution_count": 24,
     "metadata": {},
     "output_type": "execute_result"
    }
   ],
   "source": [
    "#x6\n",
    "reset()\n",
    "\n",
    "var('x12,x13,x14,x15,x23,x24,x25,x34,x35,x45')\n",
    "var('d1,d2,d3,d4,d5')\n",
    "var('a12,a13,a14,a15,a23,a24,a25,a34,a35,a45')\n",
    "\n",
    "load_attach_path('C:\\\\Users\\\\julia\\\\Documents\\\\unb\\\\doutorado\\\\pensar\\\\codigo_sage_v2\\\\maquina\\\\x6')\n",
    "load('out_#010000.sage')\n",
    "\n",
    "m=matrix(QQ, [[0, 0, 0, 0, 0],\n",
    "              [0, 0, 1, 0, 0],\n",
    "              [0, 0, 0, 1, 0],\n",
    "              [0, 0, 0, 0, 0],\n",
    "              [0, 0, 0, 0, 0]])\n",
    "        \n",
    "#entry of matrix: (i,j) line i collum j, means (i-1,j-1)\n",
    "sol=solve([ eq1==m[0,2],\teq2==m[0,3],\teq3==m[0,4],\teq4==m[1,2],\t\n",
    "                                            eq5==m[1,3],    eq6==m[1,4],\n",
    "                                                            eq7==m[2,3], eq8==m[2,4]],d1,d2,d3,d4,d5,a12,a13,a14,a15,a23,a24,a25,a34,a35,a45, solution_dict=True)\n",
    "\n",
    "show(m)\n",
    "show(sol)\n",
    "latex(sol)"
   ]
  },
  {
   "cell_type": "code",
   "execution_count": 25,
   "metadata": {},
   "outputs": [
    {
     "data": {
      "text/html": [
       "<html><script type=\"math/tex; mode=display\">\\newcommand{\\Bold}[1]{\\mathbf{#1}}\\left(\\begin{array}{rrrrr}\n",
       "0 & 0 & 0 & 0 & 1 \\\\\n",
       "0 & 0 & 1 & 0 & 0 \\\\\n",
       "0 & 0 & 0 & 1 & 0 \\\\\n",
       "0 & 0 & 0 & 0 & 0 \\\\\n",
       "0 & 0 & 0 & 0 & 0\n",
       "\\end{array}\\right)</script></html>"
      ],
      "text/latex": [
       "$$\\newcommand{\\Bold}[1]{\\mathbf{#1}}\\left(\\begin{array}{rrrrr}\n",
       "0 & 0 & 0 & 0 & 1 \\\\\n",
       "0 & 0 & 1 & 0 & 0 \\\\\n",
       "0 & 0 & 0 & 1 & 0 \\\\\n",
       "0 & 0 & 0 & 0 & 0 \\\\\n",
       "0 & 0 & 0 & 0 & 0\n",
       "\\end{array}\\right)$$"
      ],
      "text/plain": [
       "[0 0 0 0 1]\n",
       "[0 0 1 0 0]\n",
       "[0 0 0 1 0]\n",
       "[0 0 0 0 0]\n",
       "[0 0 0 0 0]"
      ]
     },
     "metadata": {},
     "output_type": "display_data"
    },
    {
     "data": {
      "text/html": [
       "<html><script type=\"math/tex; mode=display\">\\newcommand{\\Bold}[1]{\\mathbf{#1}}\\left[\\left\\{d_{1} : r_{441}, d_{2} : 0, d_{3} : 0, d_{4} : 0, d_{5} : r_{442}, a_{12} : r_{443}, a_{13} : r_{444}, a_{14} : r_{445}, a_{15} : r_{446}, a_{23} : r_{447}, a_{24} : r_{448}, a_{25} : r_{449}, a_{34} : r_{450}, a_{35} : r_{451}, a_{45} : 0\\right\\}, \\left\\{d_{1} : r_{452}, d_{2} : r_{453}, d_{3} : \\frac{r_{453}}{x_{23}}, d_{4} : \\frac{r_{453}}{x_{23} x_{34}}, d_{5} : \\frac{r_{452}}{x_{15}}, a_{12} : 0, a_{13} : 0, a_{14} : r_{454}, a_{15} : r_{455}, a_{23} : r_{456}, a_{24} : r_{457}, a_{25} : r_{458}, a_{34} : \\frac{r_{456} x_{23} x_{34} - r_{453} x_{24}}{x_{23}^{2} x_{34}}, a_{35} : 0, a_{45} : 0\\right\\}\\right]</script></html>"
      ],
      "text/latex": [
       "$$\\newcommand{\\Bold}[1]{\\mathbf{#1}}\\left[\\left\\{d_{1} : r_{441}, d_{2} : 0, d_{3} : 0, d_{4} : 0, d_{5} : r_{442}, a_{12} : r_{443}, a_{13} : r_{444}, a_{14} : r_{445}, a_{15} : r_{446}, a_{23} : r_{447}, a_{24} : r_{448}, a_{25} : r_{449}, a_{34} : r_{450}, a_{35} : r_{451}, a_{45} : 0\\right\\}, \\left\\{d_{1} : r_{452}, d_{2} : r_{453}, d_{3} : \\frac{r_{453}}{x_{23}}, d_{4} : \\frac{r_{453}}{x_{23} x_{34}}, d_{5} : \\frac{r_{452}}{x_{15}}, a_{12} : 0, a_{13} : 0, a_{14} : r_{454}, a_{15} : r_{455}, a_{23} : r_{456}, a_{24} : r_{457}, a_{25} : r_{458}, a_{34} : \\frac{r_{456} x_{23} x_{34} - r_{453} x_{24}}{x_{23}^{2} x_{34}}, a_{35} : 0, a_{45} : 0\\right\\}\\right]$$"
      ],
      "text/plain": [
       "[{d1: r441,\n",
       "  d2: 0,\n",
       "  d3: 0,\n",
       "  d4: 0,\n",
       "  d5: r442,\n",
       "  a12: r443,\n",
       "  a13: r444,\n",
       "  a14: r445,\n",
       "  a15: r446,\n",
       "  a23: r447,\n",
       "  a24: r448,\n",
       "  a25: r449,\n",
       "  a34: r450,\n",
       "  a35: r451,\n",
       "  a45: 0},\n",
       " {d1: r452,\n",
       "  d2: r453,\n",
       "  d3: r453/x23,\n",
       "  d4: r453/(x23*x34),\n",
       "  d5: r452/x15,\n",
       "  a12: 0,\n",
       "  a13: 0,\n",
       "  a14: r454,\n",
       "  a15: r455,\n",
       "  a23: r456,\n",
       "  a24: r457,\n",
       "  a25: r458,\n",
       "  a34: (r456*x23*x34 - r453*x24)/(x23^2*x34),\n",
       "  a35: 0,\n",
       "  a45: 0}]"
      ]
     },
     "metadata": {},
     "output_type": "display_data"
    },
    {
     "data": {
      "text/plain": [
       "\\left[\\left\\{d_{1} : r_{441}, d_{2} : 0, d_{3} : 0, d_{4} : 0, d_{5} : r_{442}, a_{12} : r_{443}, a_{13} : r_{444}, a_{14} : r_{445}, a_{15} : r_{446}, a_{23} : r_{447}, a_{24} : r_{448}, a_{25} : r_{449}, a_{34} : r_{450}, a_{35} : r_{451}, a_{45} : 0\\right\\}, \\left\\{d_{1} : r_{452}, d_{2} : r_{453}, d_{3} : \\frac{r_{453}}{x_{23}}, d_{4} : \\frac{r_{453}}{x_{23} x_{34}}, d_{5} : \\frac{r_{452}}{x_{15}}, a_{12} : 0, a_{13} : 0, a_{14} : r_{454}, a_{15} : r_{455}, a_{23} : r_{456}, a_{24} : r_{457}, a_{25} : r_{458}, a_{34} : \\frac{r_{456} x_{23} x_{34} - r_{453} x_{24}}{x_{23}^{2} x_{34}}, a_{35} : 0, a_{45} : 0\\right\\}\\right]"
      ]
     },
     "execution_count": 25,
     "metadata": {},
     "output_type": "execute_result"
    }
   ],
   "source": [
    "#x6\n",
    "reset()\n",
    "\n",
    "var('x12,x13,x14,x15,x23,x24,x25,x34,x35,x45')\n",
    "var('d1,d2,d3,d4,d5')\n",
    "var('a12,a13,a14,a15,a23,a24,a25,a34,a35,a45')\n",
    "\n",
    "load_attach_path('C:\\\\Users\\\\julia\\\\Documents\\\\unb\\\\doutorado\\\\pensar\\\\codigo_sage_v2\\\\maquina\\\\x6')\n",
    "load('out_#010001.sage')\n",
    "\n",
    "m=matrix(QQ, [[0, 0, 0, 0, 1],\n",
    "              [0, 0, 1, 0, 0],\n",
    "              [0, 0, 0, 1, 0],\n",
    "              [0, 0, 0, 0, 0],\n",
    "              [0, 0, 0, 0, 0]])\n",
    "        \n",
    "#entry of matrix: (i,j) line i collum j, means (i-1,j-1)\n",
    "sol=solve([ eq1==m[0,2],\teq2==m[0,3],\teq3==m[0,4],\teq4==m[1,2],\t\n",
    "                                            eq5==m[1,3],    eq6==m[1,4],\n",
    "                                                            eq7==m[2,3], eq8==m[2,4]],d1,d2,d3,d4,d5,a12,a13,a14,a15,a23,a24,a25,a34,a35,a45, solution_dict=True)\n",
    "\n",
    "show(m)\n",
    "show(sol)\n",
    "latex(sol)"
   ]
  },
  {
   "cell_type": "code",
   "execution_count": 26,
   "metadata": {},
   "outputs": [
    {
     "data": {
      "text/html": [
       "<html><script type=\"math/tex; mode=display\">\\newcommand{\\Bold}[1]{\\mathbf{#1}}\\left(\\begin{array}{rrrrr}\n",
       "0 & 0 & 0 & 0 & 0 \\\\\n",
       "0 & 0 & 1 & 0 & 0 \\\\\n",
       "0 & 0 & 0 & 1 & 0 \\\\\n",
       "0 & 0 & 0 & 0 & 0 \\\\\n",
       "0 & 0 & 0 & 0 & 0\n",
       "\\end{array}\\right)</script></html>"
      ],
      "text/latex": [
       "$$\\newcommand{\\Bold}[1]{\\mathbf{#1}}\\left(\\begin{array}{rrrrr}\n",
       "0 & 0 & 0 & 0 & 0 \\\\\n",
       "0 & 0 & 1 & 0 & 0 \\\\\n",
       "0 & 0 & 0 & 1 & 0 \\\\\n",
       "0 & 0 & 0 & 0 & 0 \\\\\n",
       "0 & 0 & 0 & 0 & 0\n",
       "\\end{array}\\right)$$"
      ],
      "text/plain": [
       "[0 0 0 0 0]\n",
       "[0 0 1 0 0]\n",
       "[0 0 0 1 0]\n",
       "[0 0 0 0 0]\n",
       "[0 0 0 0 0]"
      ]
     },
     "metadata": {},
     "output_type": "display_data"
    },
    {
     "data": {
      "text/html": [
       "<html><script type=\"math/tex; mode=display\">\\newcommand{\\Bold}[1]{\\mathbf{#1}}\\left[\\left\\{d_{1} : r_{459}, d_{2} : 0, d_{3} : 0, d_{4} : 0, d_{5} : r_{460}, a_{12} : r_{461}, a_{13} : r_{462}, a_{14} : r_{463}, a_{15} : r_{464}, a_{23} : r_{465}, a_{24} : r_{466}, a_{25} : r_{467}, a_{34} : r_{468}, a_{35} : r_{469}, a_{45} : 0\\right\\}, \\left\\{d_{1} : r_{470}, d_{2} : r_{471}, d_{3} : \\frac{r_{471}}{x_{23}}, d_{4} : \\frac{r_{471}}{x_{23} x_{34}}, d_{5} : r_{472}, a_{12} : 0, a_{13} : \\frac{r_{471} x_{14}}{x_{23} x_{34}}, a_{14} : r_{473}, a_{15} : r_{474}, a_{23} : r_{475}, a_{24} : r_{476}, a_{25} : r_{477}, a_{34} : \\frac{r_{475} x_{23} x_{34} - r_{471} x_{24}}{x_{23}^{2} x_{34}}, a_{35} : 0, a_{45} : 0\\right\\}\\right]</script></html>"
      ],
      "text/latex": [
       "$$\\newcommand{\\Bold}[1]{\\mathbf{#1}}\\left[\\left\\{d_{1} : r_{459}, d_{2} : 0, d_{3} : 0, d_{4} : 0, d_{5} : r_{460}, a_{12} : r_{461}, a_{13} : r_{462}, a_{14} : r_{463}, a_{15} : r_{464}, a_{23} : r_{465}, a_{24} : r_{466}, a_{25} : r_{467}, a_{34} : r_{468}, a_{35} : r_{469}, a_{45} : 0\\right\\}, \\left\\{d_{1} : r_{470}, d_{2} : r_{471}, d_{3} : \\frac{r_{471}}{x_{23}}, d_{4} : \\frac{r_{471}}{x_{23} x_{34}}, d_{5} : r_{472}, a_{12} : 0, a_{13} : \\frac{r_{471} x_{14}}{x_{23} x_{34}}, a_{14} : r_{473}, a_{15} : r_{474}, a_{23} : r_{475}, a_{24} : r_{476}, a_{25} : r_{477}, a_{34} : \\frac{r_{475} x_{23} x_{34} - r_{471} x_{24}}{x_{23}^{2} x_{34}}, a_{35} : 0, a_{45} : 0\\right\\}\\right]$$"
      ],
      "text/plain": [
       "[{d1: r459,\n",
       "  d2: 0,\n",
       "  d3: 0,\n",
       "  d4: 0,\n",
       "  d5: r460,\n",
       "  a12: r461,\n",
       "  a13: r462,\n",
       "  a14: r463,\n",
       "  a15: r464,\n",
       "  a23: r465,\n",
       "  a24: r466,\n",
       "  a25: r467,\n",
       "  a34: r468,\n",
       "  a35: r469,\n",
       "  a45: 0},\n",
       " {d1: r470,\n",
       "  d2: r471,\n",
       "  d3: r471/x23,\n",
       "  d4: r471/(x23*x34),\n",
       "  d5: r472,\n",
       "  a12: 0,\n",
       "  a13: r471*x14/(x23*x34),\n",
       "  a14: r473,\n",
       "  a15: r474,\n",
       "  a23: r475,\n",
       "  a24: r476,\n",
       "  a25: r477,\n",
       "  a34: (r475*x23*x34 - r471*x24)/(x23^2*x34),\n",
       "  a35: 0,\n",
       "  a45: 0}]"
      ]
     },
     "metadata": {},
     "output_type": "display_data"
    },
    {
     "data": {
      "text/plain": [
       "\\left[\\left\\{d_{1} : r_{459}, d_{2} : 0, d_{3} : 0, d_{4} : 0, d_{5} : r_{460}, a_{12} : r_{461}, a_{13} : r_{462}, a_{14} : r_{463}, a_{15} : r_{464}, a_{23} : r_{465}, a_{24} : r_{466}, a_{25} : r_{467}, a_{34} : r_{468}, a_{35} : r_{469}, a_{45} : 0\\right\\}, \\left\\{d_{1} : r_{470}, d_{2} : r_{471}, d_{3} : \\frac{r_{471}}{x_{23}}, d_{4} : \\frac{r_{471}}{x_{23} x_{34}}, d_{5} : r_{472}, a_{12} : 0, a_{13} : \\frac{r_{471} x_{14}}{x_{23} x_{34}}, a_{14} : r_{473}, a_{15} : r_{474}, a_{23} : r_{475}, a_{24} : r_{476}, a_{25} : r_{477}, a_{34} : \\frac{r_{475} x_{23} x_{34} - r_{471} x_{24}}{x_{23}^{2} x_{34}}, a_{35} : 0, a_{45} : 0\\right\\}\\right]"
      ]
     },
     "execution_count": 26,
     "metadata": {},
     "output_type": "execute_result"
    }
   ],
   "source": [
    "#x6\n",
    "reset()\n",
    "\n",
    "var('x12,x13,x14,x15,x23,x24,x25,x34,x35,x45')\n",
    "var('d1,d2,d3,d4,d5')\n",
    "var('a12,a13,a14,a15,a23,a24,a25,a34,a35,a45')\n",
    "\n",
    "load_attach_path('C:\\\\Users\\\\julia\\\\Documents\\\\unb\\\\doutorado\\\\pensar\\\\codigo_sage_v2\\\\maquina\\\\x6')\n",
    "load('out_#010010.sage')\n",
    "\n",
    "m=matrix(QQ, [[0, 0, 0, 0, 0],\n",
    "              [0, 0, 1, 0, 0],\n",
    "              [0, 0, 0, 1, 0],\n",
    "              [0, 0, 0, 0, 0],\n",
    "              [0, 0, 0, 0, 0]])\n",
    "        \n",
    "#entry of matrix: (i,j) line i collum j, means (i-1,j-1)\n",
    "sol=solve([ eq1==m[0,2],\teq2==m[0,3],\teq3==m[0,4],\teq4==m[1,2],\t\n",
    "                                            eq5==m[1,3],    eq6==m[1,4],\n",
    "                                                            eq7==m[2,3], eq8==m[2,4]],d1,d2,d3,d4,d5,a12,a13,a14,a15,a23,a24,a25,a34,a35,a45, solution_dict=True)\n",
    "\n",
    "show(m)\n",
    "show(sol)\n",
    "latex(sol)"
   ]
  },
  {
   "cell_type": "code",
   "execution_count": 27,
   "metadata": {},
   "outputs": [
    {
     "data": {
      "text/html": [
       "<html><script type=\"math/tex; mode=display\">\\newcommand{\\Bold}[1]{\\mathbf{#1}}\\left(\\begin{array}{rrrrr}\n",
       "0 & 0 & 0 & 0 & 1 \\\\\n",
       "0 & 0 & 1 & 0 & 0 \\\\\n",
       "0 & 0 & 0 & 1 & 0 \\\\\n",
       "0 & 0 & 0 & 0 & 0 \\\\\n",
       "0 & 0 & 0 & 0 & 0\n",
       "\\end{array}\\right)</script></html>"
      ],
      "text/latex": [
       "$$\\newcommand{\\Bold}[1]{\\mathbf{#1}}\\left(\\begin{array}{rrrrr}\n",
       "0 & 0 & 0 & 0 & 1 \\\\\n",
       "0 & 0 & 1 & 0 & 0 \\\\\n",
       "0 & 0 & 0 & 1 & 0 \\\\\n",
       "0 & 0 & 0 & 0 & 0 \\\\\n",
       "0 & 0 & 0 & 0 & 0\n",
       "\\end{array}\\right)$$"
      ],
      "text/plain": [
       "[0 0 0 0 1]\n",
       "[0 0 1 0 0]\n",
       "[0 0 0 1 0]\n",
       "[0 0 0 0 0]\n",
       "[0 0 0 0 0]"
      ]
     },
     "metadata": {},
     "output_type": "display_data"
    },
    {
     "data": {
      "text/html": [
       "<html><script type=\"math/tex; mode=display\">\\newcommand{\\Bold}[1]{\\mathbf{#1}}\\left[\\left\\{d_{1} : r_{478}, d_{2} : 0, d_{3} : 0, d_{4} : 0, d_{5} : r_{479}, a_{12} : r_{480}, a_{13} : r_{481}, a_{14} : r_{482}, a_{15} : r_{483}, a_{23} : r_{484}, a_{24} : r_{485}, a_{25} : r_{486}, a_{34} : r_{487}, a_{35} : r_{488}, a_{45} : 0\\right\\}, \\left\\{d_{1} : r_{489}, d_{2} : r_{490}, d_{3} : \\frac{r_{490}}{x_{23}}, d_{4} : \\frac{r_{490}}{x_{23} x_{34}}, d_{5} : \\frac{r_{489}}{x_{15}}, a_{12} : 0, a_{13} : \\frac{r_{490} x_{14}}{x_{23} x_{34}}, a_{14} : r_{491}, a_{15} : r_{492}, a_{23} : r_{493}, a_{24} : r_{494}, a_{25} : r_{495}, a_{34} : \\frac{r_{493} x_{23} x_{34} - r_{490} x_{24}}{x_{23}^{2} x_{34}}, a_{35} : 0, a_{45} : 0\\right\\}\\right]</script></html>"
      ],
      "text/latex": [
       "$$\\newcommand{\\Bold}[1]{\\mathbf{#1}}\\left[\\left\\{d_{1} : r_{478}, d_{2} : 0, d_{3} : 0, d_{4} : 0, d_{5} : r_{479}, a_{12} : r_{480}, a_{13} : r_{481}, a_{14} : r_{482}, a_{15} : r_{483}, a_{23} : r_{484}, a_{24} : r_{485}, a_{25} : r_{486}, a_{34} : r_{487}, a_{35} : r_{488}, a_{45} : 0\\right\\}, \\left\\{d_{1} : r_{489}, d_{2} : r_{490}, d_{3} : \\frac{r_{490}}{x_{23}}, d_{4} : \\frac{r_{490}}{x_{23} x_{34}}, d_{5} : \\frac{r_{489}}{x_{15}}, a_{12} : 0, a_{13} : \\frac{r_{490} x_{14}}{x_{23} x_{34}}, a_{14} : r_{491}, a_{15} : r_{492}, a_{23} : r_{493}, a_{24} : r_{494}, a_{25} : r_{495}, a_{34} : \\frac{r_{493} x_{23} x_{34} - r_{490} x_{24}}{x_{23}^{2} x_{34}}, a_{35} : 0, a_{45} : 0\\right\\}\\right]$$"
      ],
      "text/plain": [
       "[{d1: r478,\n",
       "  d2: 0,\n",
       "  d3: 0,\n",
       "  d4: 0,\n",
       "  d5: r479,\n",
       "  a12: r480,\n",
       "  a13: r481,\n",
       "  a14: r482,\n",
       "  a15: r483,\n",
       "  a23: r484,\n",
       "  a24: r485,\n",
       "  a25: r486,\n",
       "  a34: r487,\n",
       "  a35: r488,\n",
       "  a45: 0},\n",
       " {d1: r489,\n",
       "  d2: r490,\n",
       "  d3: r490/x23,\n",
       "  d4: r490/(x23*x34),\n",
       "  d5: r489/x15,\n",
       "  a12: 0,\n",
       "  a13: r490*x14/(x23*x34),\n",
       "  a14: r491,\n",
       "  a15: r492,\n",
       "  a23: r493,\n",
       "  a24: r494,\n",
       "  a25: r495,\n",
       "  a34: (r493*x23*x34 - r490*x24)/(x23^2*x34),\n",
       "  a35: 0,\n",
       "  a45: 0}]"
      ]
     },
     "metadata": {},
     "output_type": "display_data"
    },
    {
     "data": {
      "text/plain": [
       "\\left[\\left\\{d_{1} : r_{478}, d_{2} : 0, d_{3} : 0, d_{4} : 0, d_{5} : r_{479}, a_{12} : r_{480}, a_{13} : r_{481}, a_{14} : r_{482}, a_{15} : r_{483}, a_{23} : r_{484}, a_{24} : r_{485}, a_{25} : r_{486}, a_{34} : r_{487}, a_{35} : r_{488}, a_{45} : 0\\right\\}, \\left\\{d_{1} : r_{489}, d_{2} : r_{490}, d_{3} : \\frac{r_{490}}{x_{23}}, d_{4} : \\frac{r_{490}}{x_{23} x_{34}}, d_{5} : \\frac{r_{489}}{x_{15}}, a_{12} : 0, a_{13} : \\frac{r_{490} x_{14}}{x_{23} x_{34}}, a_{14} : r_{491}, a_{15} : r_{492}, a_{23} : r_{493}, a_{24} : r_{494}, a_{25} : r_{495}, a_{34} : \\frac{r_{493} x_{23} x_{34} - r_{490} x_{24}}{x_{23}^{2} x_{34}}, a_{35} : 0, a_{45} : 0\\right\\}\\right]"
      ]
     },
     "execution_count": 27,
     "metadata": {},
     "output_type": "execute_result"
    }
   ],
   "source": [
    "#x6\n",
    "reset()\n",
    "\n",
    "var('x12,x13,x14,x15,x23,x24,x25,x34,x35,x45')\n",
    "var('d1,d2,d3,d4,d5')\n",
    "var('a12,a13,a14,a15,a23,a24,a25,a34,a35,a45')\n",
    "\n",
    "load_attach_path('C:\\\\Users\\\\julia\\\\Documents\\\\unb\\\\doutorado\\\\pensar\\\\codigo_sage_v2\\\\maquina\\\\x6')\n",
    "load('out_#010011.sage')\n",
    "\n",
    "m=matrix(QQ, [[0, 0, 0, 0, 1],\n",
    "              [0, 0, 1, 0, 0],\n",
    "              [0, 0, 0, 1, 0],\n",
    "              [0, 0, 0, 0, 0],\n",
    "              [0, 0, 0, 0, 0]])\n",
    "        \n",
    "#entry of matrix: (i,j) line i collum j, means (i-1,j-1)\n",
    "sol=solve([ eq1==m[0,2],\teq2==m[0,3],\teq3==m[0,4],\teq4==m[1,2],\t\n",
    "                                            eq5==m[1,3],    eq6==m[1,4],\n",
    "                                                            eq7==m[2,3], eq8==m[2,4]],d1,d2,d3,d4,d5,a12,a13,a14,a15,a23,a24,a25,a34,a35,a45, solution_dict=True)\n",
    "\n",
    "show(m)\n",
    "show(sol)\n",
    "latex(sol)"
   ]
  },
  {
   "cell_type": "code",
   "execution_count": 28,
   "metadata": {},
   "outputs": [
    {
     "data": {
      "text/html": [
       "<html><script type=\"math/tex; mode=display\">\\newcommand{\\Bold}[1]{\\mathbf{#1}}\\left(\\begin{array}{rrrrr}\n",
       "0 & 0 & 0 & 0 & 0 \\\\\n",
       "0 & 0 & 1 & 0 & 0 \\\\\n",
       "0 & 0 & 0 & 1 & 0 \\\\\n",
       "0 & 0 & 0 & 0 & 0 \\\\\n",
       "0 & 0 & 0 & 0 & 0\n",
       "\\end{array}\\right)</script></html>"
      ],
      "text/latex": [
       "$$\\newcommand{\\Bold}[1]{\\mathbf{#1}}\\left(\\begin{array}{rrrrr}\n",
       "0 & 0 & 0 & 0 & 0 \\\\\n",
       "0 & 0 & 1 & 0 & 0 \\\\\n",
       "0 & 0 & 0 & 1 & 0 \\\\\n",
       "0 & 0 & 0 & 0 & 0 \\\\\n",
       "0 & 0 & 0 & 0 & 0\n",
       "\\end{array}\\right)$$"
      ],
      "text/plain": [
       "[0 0 0 0 0]\n",
       "[0 0 1 0 0]\n",
       "[0 0 0 1 0]\n",
       "[0 0 0 0 0]\n",
       "[0 0 0 0 0]"
      ]
     },
     "metadata": {},
     "output_type": "display_data"
    },
    {
     "data": {
      "text/html": [
       "<html><script type=\"math/tex; mode=display\">\\newcommand{\\Bold}[1]{\\mathbf{#1}}\\left[\\left\\{d_{1} : r_{496}, d_{2} : 0, d_{3} : 0, d_{4} : 0, d_{5} : r_{497}, a_{12} : r_{498}, a_{13} : r_{499}, a_{14} : r_{500}, a_{15} : r_{501}, a_{23} : r_{502}, a_{24} : r_{503}, a_{25} : r_{504}, a_{34} : r_{505}, a_{35} : r_{506}, a_{45} : 0\\right\\}, \\left\\{d_{1} : r_{507}, d_{2} : r_{508}, d_{3} : \\frac{r_{508}}{x_{23}}, d_{4} : \\frac{r_{508}}{x_{23} x_{34}}, d_{5} : r_{509}, a_{12} : \\frac{r_{508} x_{13}}{x_{23}}, a_{13} : r_{510}, a_{14} : r_{511}, a_{15} : r_{512}, a_{23} : \\frac{r_{510} x_{23}^{2} x_{34} + r_{508} x_{13} x_{24}}{x_{13} x_{23} x_{34}}, a_{24} : r_{513}, a_{25} : r_{514}, a_{34} : \\frac{r_{510}}{x_{13}}, a_{35} : 0, a_{45} : 0\\right\\}\\right]</script></html>"
      ],
      "text/latex": [
       "$$\\newcommand{\\Bold}[1]{\\mathbf{#1}}\\left[\\left\\{d_{1} : r_{496}, d_{2} : 0, d_{3} : 0, d_{4} : 0, d_{5} : r_{497}, a_{12} : r_{498}, a_{13} : r_{499}, a_{14} : r_{500}, a_{15} : r_{501}, a_{23} : r_{502}, a_{24} : r_{503}, a_{25} : r_{504}, a_{34} : r_{505}, a_{35} : r_{506}, a_{45} : 0\\right\\}, \\left\\{d_{1} : r_{507}, d_{2} : r_{508}, d_{3} : \\frac{r_{508}}{x_{23}}, d_{4} : \\frac{r_{508}}{x_{23} x_{34}}, d_{5} : r_{509}, a_{12} : \\frac{r_{508} x_{13}}{x_{23}}, a_{13} : r_{510}, a_{14} : r_{511}, a_{15} : r_{512}, a_{23} : \\frac{r_{510} x_{23}^{2} x_{34} + r_{508} x_{13} x_{24}}{x_{13} x_{23} x_{34}}, a_{24} : r_{513}, a_{25} : r_{514}, a_{34} : \\frac{r_{510}}{x_{13}}, a_{35} : 0, a_{45} : 0\\right\\}\\right]$$"
      ],
      "text/plain": [
       "[{d1: r496,\n",
       "  d2: 0,\n",
       "  d3: 0,\n",
       "  d4: 0,\n",
       "  d5: r497,\n",
       "  a12: r498,\n",
       "  a13: r499,\n",
       "  a14: r500,\n",
       "  a15: r501,\n",
       "  a23: r502,\n",
       "  a24: r503,\n",
       "  a25: r504,\n",
       "  a34: r505,\n",
       "  a35: r506,\n",
       "  a45: 0},\n",
       " {d1: r507,\n",
       "  d2: r508,\n",
       "  d3: r508/x23,\n",
       "  d4: r508/(x23*x34),\n",
       "  d5: r509,\n",
       "  a12: r508*x13/x23,\n",
       "  a13: r510,\n",
       "  a14: r511,\n",
       "  a15: r512,\n",
       "  a23: (r510*x23^2*x34 + r508*x13*x24)/(x13*x23*x34),\n",
       "  a24: r513,\n",
       "  a25: r514,\n",
       "  a34: r510/x13,\n",
       "  a35: 0,\n",
       "  a45: 0}]"
      ]
     },
     "metadata": {},
     "output_type": "display_data"
    },
    {
     "data": {
      "text/plain": [
       "\\left[\\left\\{d_{1} : r_{496}, d_{2} : 0, d_{3} : 0, d_{4} : 0, d_{5} : r_{497}, a_{12} : r_{498}, a_{13} : r_{499}, a_{14} : r_{500}, a_{15} : r_{501}, a_{23} : r_{502}, a_{24} : r_{503}, a_{25} : r_{504}, a_{34} : r_{505}, a_{35} : r_{506}, a_{45} : 0\\right\\}, \\left\\{d_{1} : r_{507}, d_{2} : r_{508}, d_{3} : \\frac{r_{508}}{x_{23}}, d_{4} : \\frac{r_{508}}{x_{23} x_{34}}, d_{5} : r_{509}, a_{12} : \\frac{r_{508} x_{13}}{x_{23}}, a_{13} : r_{510}, a_{14} : r_{511}, a_{15} : r_{512}, a_{23} : \\frac{r_{510} x_{23}^{2} x_{34} + r_{508} x_{13} x_{24}}{x_{13} x_{23} x_{34}}, a_{24} : r_{513}, a_{25} : r_{514}, a_{34} : \\frac{r_{510}}{x_{13}}, a_{35} : 0, a_{45} : 0\\right\\}\\right]"
      ]
     },
     "execution_count": 28,
     "metadata": {},
     "output_type": "execute_result"
    }
   ],
   "source": [
    "#x6\n",
    "reset()\n",
    "\n",
    "var('x12,x13,x14,x15,x23,x24,x25,x34,x35,x45')\n",
    "var('d1,d2,d3,d4,d5')\n",
    "var('a12,a13,a14,a15,a23,a24,a25,a34,a35,a45')\n",
    "\n",
    "load_attach_path('C:\\\\Users\\\\julia\\\\Documents\\\\unb\\\\doutorado\\\\pensar\\\\codigo_sage_v2\\\\maquina\\\\x6')\n",
    "load('out_#010100.sage')\n",
    "\n",
    "m=matrix(QQ, [[0, 0, 0, 0, 0],\n",
    "              [0, 0, 1, 0, 0],\n",
    "              [0, 0, 0, 1, 0],\n",
    "              [0, 0, 0, 0, 0],\n",
    "              [0, 0, 0, 0, 0]])\n",
    "        \n",
    "#entry of matrix: (i,j) line i collum j, means (i-1,j-1)\n",
    "sol=solve([ eq1==m[0,2],\teq2==m[0,3],\teq3==m[0,4],\teq4==m[1,2],\t\n",
    "                                            eq5==m[1,3],    eq6==m[1,4],\n",
    "                                                            eq7==m[2,3], eq8==m[2,4]],d1,d2,d3,d4,d5,a12,a13,a14,a15,a23,a24,a25,a34,a35,a45, solution_dict=True)\n",
    "\n",
    "show(m)\n",
    "show(sol)\n",
    "latex(sol)"
   ]
  },
  {
   "cell_type": "code",
   "execution_count": 29,
   "metadata": {},
   "outputs": [
    {
     "data": {
      "text/html": [
       "<html><script type=\"math/tex; mode=display\">\\newcommand{\\Bold}[1]{\\mathbf{#1}}\\left(\\begin{array}{rrrrr}\n",
       "0 & 0 & 0 & 0 & 1 \\\\\n",
       "0 & 0 & 1 & 0 & 0 \\\\\n",
       "0 & 0 & 0 & 1 & 0 \\\\\n",
       "0 & 0 & 0 & 0 & 0 \\\\\n",
       "0 & 0 & 0 & 0 & 0\n",
       "\\end{array}\\right)</script></html>"
      ],
      "text/latex": [
       "$$\\newcommand{\\Bold}[1]{\\mathbf{#1}}\\left(\\begin{array}{rrrrr}\n",
       "0 & 0 & 0 & 0 & 1 \\\\\n",
       "0 & 0 & 1 & 0 & 0 \\\\\n",
       "0 & 0 & 0 & 1 & 0 \\\\\n",
       "0 & 0 & 0 & 0 & 0 \\\\\n",
       "0 & 0 & 0 & 0 & 0\n",
       "\\end{array}\\right)$$"
      ],
      "text/plain": [
       "[0 0 0 0 1]\n",
       "[0 0 1 0 0]\n",
       "[0 0 0 1 0]\n",
       "[0 0 0 0 0]\n",
       "[0 0 0 0 0]"
      ]
     },
     "metadata": {},
     "output_type": "display_data"
    },
    {
     "data": {
      "text/html": [
       "<html><script type=\"math/tex; mode=display\">\\newcommand{\\Bold}[1]{\\mathbf{#1}}\\left[\\left\\{d_{1} : r_{515}, d_{2} : 0, d_{3} : 0, d_{4} : 0, d_{5} : r_{516}, a_{12} : r_{517}, a_{13} : r_{518}, a_{14} : r_{519}, a_{15} : r_{520}, a_{23} : r_{521}, a_{24} : r_{522}, a_{25} : r_{523}, a_{34} : r_{524}, a_{35} : r_{525}, a_{45} : 0\\right\\}, \\left\\{d_{1} : r_{526}, d_{2} : r_{527}, d_{3} : \\frac{r_{527}}{x_{23}}, d_{4} : \\frac{r_{527}}{x_{23} x_{34}}, d_{5} : \\frac{r_{526}}{x_{15}}, a_{12} : \\frac{r_{527} x_{13}}{x_{23}}, a_{13} : r_{528}, a_{14} : r_{529}, a_{15} : r_{530}, a_{23} : \\frac{r_{528} x_{23}^{2} x_{34} + r_{527} x_{13} x_{24}}{x_{13} x_{23} x_{34}}, a_{24} : r_{531}, a_{25} : r_{532}, a_{34} : \\frac{r_{528}}{x_{13}}, a_{35} : 0, a_{45} : 0\\right\\}\\right]</script></html>"
      ],
      "text/latex": [
       "$$\\newcommand{\\Bold}[1]{\\mathbf{#1}}\\left[\\left\\{d_{1} : r_{515}, d_{2} : 0, d_{3} : 0, d_{4} : 0, d_{5} : r_{516}, a_{12} : r_{517}, a_{13} : r_{518}, a_{14} : r_{519}, a_{15} : r_{520}, a_{23} : r_{521}, a_{24} : r_{522}, a_{25} : r_{523}, a_{34} : r_{524}, a_{35} : r_{525}, a_{45} : 0\\right\\}, \\left\\{d_{1} : r_{526}, d_{2} : r_{527}, d_{3} : \\frac{r_{527}}{x_{23}}, d_{4} : \\frac{r_{527}}{x_{23} x_{34}}, d_{5} : \\frac{r_{526}}{x_{15}}, a_{12} : \\frac{r_{527} x_{13}}{x_{23}}, a_{13} : r_{528}, a_{14} : r_{529}, a_{15} : r_{530}, a_{23} : \\frac{r_{528} x_{23}^{2} x_{34} + r_{527} x_{13} x_{24}}{x_{13} x_{23} x_{34}}, a_{24} : r_{531}, a_{25} : r_{532}, a_{34} : \\frac{r_{528}}{x_{13}}, a_{35} : 0, a_{45} : 0\\right\\}\\right]$$"
      ],
      "text/plain": [
       "[{d1: r515,\n",
       "  d2: 0,\n",
       "  d3: 0,\n",
       "  d4: 0,\n",
       "  d5: r516,\n",
       "  a12: r517,\n",
       "  a13: r518,\n",
       "  a14: r519,\n",
       "  a15: r520,\n",
       "  a23: r521,\n",
       "  a24: r522,\n",
       "  a25: r523,\n",
       "  a34: r524,\n",
       "  a35: r525,\n",
       "  a45: 0},\n",
       " {d1: r526,\n",
       "  d2: r527,\n",
       "  d3: r527/x23,\n",
       "  d4: r527/(x23*x34),\n",
       "  d5: r526/x15,\n",
       "  a12: r527*x13/x23,\n",
       "  a13: r528,\n",
       "  a14: r529,\n",
       "  a15: r530,\n",
       "  a23: (r528*x23^2*x34 + r527*x13*x24)/(x13*x23*x34),\n",
       "  a24: r531,\n",
       "  a25: r532,\n",
       "  a34: r528/x13,\n",
       "  a35: 0,\n",
       "  a45: 0}]"
      ]
     },
     "metadata": {},
     "output_type": "display_data"
    },
    {
     "data": {
      "text/plain": [
       "\\left[\\left\\{d_{1} : r_{515}, d_{2} : 0, d_{3} : 0, d_{4} : 0, d_{5} : r_{516}, a_{12} : r_{517}, a_{13} : r_{518}, a_{14} : r_{519}, a_{15} : r_{520}, a_{23} : r_{521}, a_{24} : r_{522}, a_{25} : r_{523}, a_{34} : r_{524}, a_{35} : r_{525}, a_{45} : 0\\right\\}, \\left\\{d_{1} : r_{526}, d_{2} : r_{527}, d_{3} : \\frac{r_{527}}{x_{23}}, d_{4} : \\frac{r_{527}}{x_{23} x_{34}}, d_{5} : \\frac{r_{526}}{x_{15}}, a_{12} : \\frac{r_{527} x_{13}}{x_{23}}, a_{13} : r_{528}, a_{14} : r_{529}, a_{15} : r_{530}, a_{23} : \\frac{r_{528} x_{23}^{2} x_{34} + r_{527} x_{13} x_{24}}{x_{13} x_{23} x_{34}}, a_{24} : r_{531}, a_{25} : r_{532}, a_{34} : \\frac{r_{528}}{x_{13}}, a_{35} : 0, a_{45} : 0\\right\\}\\right]"
      ]
     },
     "execution_count": 29,
     "metadata": {},
     "output_type": "execute_result"
    }
   ],
   "source": [
    "#x6\n",
    "reset()\n",
    "\n",
    "var('x12,x13,x14,x15,x23,x24,x25,x34,x35,x45')\n",
    "var('d1,d2,d3,d4,d5')\n",
    "var('a12,a13,a14,a15,a23,a24,a25,a34,a35,a45')\n",
    "\n",
    "load_attach_path('C:\\\\Users\\\\julia\\\\Documents\\\\unb\\\\doutorado\\\\pensar\\\\codigo_sage_v2\\\\maquina\\\\x6')\n",
    "load('out_#010101.sage')\n",
    "\n",
    "m=matrix(QQ, [[0, 0, 0, 0, 1],\n",
    "              [0, 0, 1, 0, 0],\n",
    "              [0, 0, 0, 1, 0],\n",
    "              [0, 0, 0, 0, 0],\n",
    "              [0, 0, 0, 0, 0]])\n",
    "        \n",
    "#entry of matrix: (i,j) line i collum j, means (i-1,j-1)\n",
    "sol=solve([ eq1==m[0,2],\teq2==m[0,3],\teq3==m[0,4],\teq4==m[1,2],\t\n",
    "                                            eq5==m[1,3],    eq6==m[1,4],\n",
    "                                                            eq7==m[2,3], eq8==m[2,4]],d1,d2,d3,d4,d5,a12,a13,a14,a15,a23,a24,a25,a34,a35,a45, solution_dict=True)\n",
    "\n",
    "show(m)\n",
    "show(sol)\n",
    "latex(sol)"
   ]
  },
  {
   "cell_type": "code",
   "execution_count": 30,
   "metadata": {},
   "outputs": [
    {
     "data": {
      "text/html": [
       "<html><script type=\"math/tex; mode=display\">\\newcommand{\\Bold}[1]{\\mathbf{#1}}\\left(\\begin{array}{rrrrr}\n",
       "0 & 0 & 0 & 0 & 0 \\\\\n",
       "0 & 0 & 1 & 0 & 0 \\\\\n",
       "0 & 0 & 0 & 1 & 0 \\\\\n",
       "0 & 0 & 0 & 0 & 0 \\\\\n",
       "0 & 0 & 0 & 0 & 0\n",
       "\\end{array}\\right)</script></html>"
      ],
      "text/latex": [
       "$$\\newcommand{\\Bold}[1]{\\mathbf{#1}}\\left(\\begin{array}{rrrrr}\n",
       "0 & 0 & 0 & 0 & 0 \\\\\n",
       "0 & 0 & 1 & 0 & 0 \\\\\n",
       "0 & 0 & 0 & 1 & 0 \\\\\n",
       "0 & 0 & 0 & 0 & 0 \\\\\n",
       "0 & 0 & 0 & 0 & 0\n",
       "\\end{array}\\right)$$"
      ],
      "text/plain": [
       "[0 0 0 0 0]\n",
       "[0 0 1 0 0]\n",
       "[0 0 0 1 0]\n",
       "[0 0 0 0 0]\n",
       "[0 0 0 0 0]"
      ]
     },
     "metadata": {},
     "output_type": "display_data"
    },
    {
     "data": {
      "text/html": [
       "<html><script type=\"math/tex; mode=display\">\\newcommand{\\Bold}[1]{\\mathbf{#1}}\\left[\\left\\{d_{1} : r_{533}, d_{2} : 0, d_{3} : 0, d_{4} : 0, d_{5} : r_{534}, a_{12} : r_{535}, a_{13} : r_{536}, a_{14} : r_{537}, a_{15} : r_{538}, a_{23} : r_{539}, a_{24} : r_{540}, a_{25} : r_{541}, a_{34} : r_{542}, a_{35} : r_{543}, a_{45} : 0\\right\\}, \\left\\{d_{1} : r_{544}, d_{2} : r_{545}, d_{3} : \\frac{r_{545}}{x_{23}}, d_{4} : \\frac{r_{545}}{x_{23} x_{34}}, d_{5} : r_{546}, a_{12} : \\frac{r_{545} x_{13}}{x_{23}}, a_{13} : r_{547}, a_{14} : r_{548}, a_{15} : r_{549}, a_{23} : \\frac{r_{547} x_{23}^{2} x_{34} - r_{545} x_{14} x_{23} + r_{545} x_{13} x_{24}}{x_{13} x_{23} x_{34}}, a_{24} : r_{550}, a_{25} : r_{551}, a_{34} : \\frac{r_{547} x_{23} x_{34} - r_{545} x_{14}}{x_{13} x_{23} x_{34}}, a_{35} : 0, a_{45} : 0\\right\\}\\right]</script></html>"
      ],
      "text/latex": [
       "$$\\newcommand{\\Bold}[1]{\\mathbf{#1}}\\left[\\left\\{d_{1} : r_{533}, d_{2} : 0, d_{3} : 0, d_{4} : 0, d_{5} : r_{534}, a_{12} : r_{535}, a_{13} : r_{536}, a_{14} : r_{537}, a_{15} : r_{538}, a_{23} : r_{539}, a_{24} : r_{540}, a_{25} : r_{541}, a_{34} : r_{542}, a_{35} : r_{543}, a_{45} : 0\\right\\}, \\left\\{d_{1} : r_{544}, d_{2} : r_{545}, d_{3} : \\frac{r_{545}}{x_{23}}, d_{4} : \\frac{r_{545}}{x_{23} x_{34}}, d_{5} : r_{546}, a_{12} : \\frac{r_{545} x_{13}}{x_{23}}, a_{13} : r_{547}, a_{14} : r_{548}, a_{15} : r_{549}, a_{23} : \\frac{r_{547} x_{23}^{2} x_{34} - r_{545} x_{14} x_{23} + r_{545} x_{13} x_{24}}{x_{13} x_{23} x_{34}}, a_{24} : r_{550}, a_{25} : r_{551}, a_{34} : \\frac{r_{547} x_{23} x_{34} - r_{545} x_{14}}{x_{13} x_{23} x_{34}}, a_{35} : 0, a_{45} : 0\\right\\}\\right]$$"
      ],
      "text/plain": [
       "[{d1: r533,\n",
       "  d2: 0,\n",
       "  d3: 0,\n",
       "  d4: 0,\n",
       "  d5: r534,\n",
       "  a12: r535,\n",
       "  a13: r536,\n",
       "  a14: r537,\n",
       "  a15: r538,\n",
       "  a23: r539,\n",
       "  a24: r540,\n",
       "  a25: r541,\n",
       "  a34: r542,\n",
       "  a35: r543,\n",
       "  a45: 0},\n",
       " {d1: r544,\n",
       "  d2: r545,\n",
       "  d3: r545/x23,\n",
       "  d4: r545/(x23*x34),\n",
       "  d5: r546,\n",
       "  a12: r545*x13/x23,\n",
       "  a13: r547,\n",
       "  a14: r548,\n",
       "  a15: r549,\n",
       "  a23: (r547*x23^2*x34 - r545*x14*x23 + r545*x13*x24)/(x13*x23*x34),\n",
       "  a24: r550,\n",
       "  a25: r551,\n",
       "  a34: (r547*x23*x34 - r545*x14)/(x13*x23*x34),\n",
       "  a35: 0,\n",
       "  a45: 0}]"
      ]
     },
     "metadata": {},
     "output_type": "display_data"
    },
    {
     "data": {
      "text/plain": [
       "\\left[\\left\\{d_{1} : r_{533}, d_{2} : 0, d_{3} : 0, d_{4} : 0, d_{5} : r_{534}, a_{12} : r_{535}, a_{13} : r_{536}, a_{14} : r_{537}, a_{15} : r_{538}, a_{23} : r_{539}, a_{24} : r_{540}, a_{25} : r_{541}, a_{34} : r_{542}, a_{35} : r_{543}, a_{45} : 0\\right\\}, \\left\\{d_{1} : r_{544}, d_{2} : r_{545}, d_{3} : \\frac{r_{545}}{x_{23}}, d_{4} : \\frac{r_{545}}{x_{23} x_{34}}, d_{5} : r_{546}, a_{12} : \\frac{r_{545} x_{13}}{x_{23}}, a_{13} : r_{547}, a_{14} : r_{548}, a_{15} : r_{549}, a_{23} : \\frac{r_{547} x_{23}^{2} x_{34} - r_{545} x_{14} x_{23} + r_{545} x_{13} x_{24}}{x_{13} x_{23} x_{34}}, a_{24} : r_{550}, a_{25} : r_{551}, a_{34} : \\frac{r_{547} x_{23} x_{34} - r_{545} x_{14}}{x_{13} x_{23} x_{34}}, a_{35} : 0, a_{45} : 0\\right\\}\\right]"
      ]
     },
     "execution_count": 30,
     "metadata": {},
     "output_type": "execute_result"
    }
   ],
   "source": [
    "#x6\n",
    "reset()\n",
    "\n",
    "var('x12,x13,x14,x15,x23,x24,x25,x34,x35,x45')\n",
    "var('d1,d2,d3,d4,d5')\n",
    "var('a12,a13,a14,a15,a23,a24,a25,a34,a35,a45')\n",
    "\n",
    "load_attach_path('C:\\\\Users\\\\julia\\\\Documents\\\\unb\\\\doutorado\\\\pensar\\\\codigo_sage_v2\\\\maquina\\\\x6')\n",
    "load('out_#010110.sage')\n",
    "\n",
    "m=matrix(QQ, [[0, 0, 0, 0, 0],\n",
    "              [0, 0, 1, 0, 0],\n",
    "              [0, 0, 0, 1, 0],\n",
    "              [0, 0, 0, 0, 0],\n",
    "              [0, 0, 0, 0, 0]])\n",
    "        \n",
    "#entry of matrix: (i,j) line i collum j, means (i-1,j-1)\n",
    "sol=solve([ eq1==m[0,2],\teq2==m[0,3],\teq3==m[0,4],\teq4==m[1,2],\t\n",
    "                                            eq5==m[1,3],    eq6==m[1,4],\n",
    "                                                            eq7==m[2,3], eq8==m[2,4]],d1,d2,d3,d4,d5,a12,a13,a14,a15,a23,a24,a25,a34,a35,a45, solution_dict=True)\n",
    "\n",
    "show(m)\n",
    "show(sol)\n",
    "latex(sol)"
   ]
  },
  {
   "cell_type": "code",
   "execution_count": 31,
   "metadata": {},
   "outputs": [
    {
     "data": {
      "text/html": [
       "<html><script type=\"math/tex; mode=display\">\\newcommand{\\Bold}[1]{\\mathbf{#1}}\\left(\\begin{array}{rrrrr}\n",
       "0 & 0 & 0 & 0 & 1 \\\\\n",
       "0 & 0 & 1 & 0 & 0 \\\\\n",
       "0 & 0 & 0 & 1 & 0 \\\\\n",
       "0 & 0 & 0 & 0 & 0 \\\\\n",
       "0 & 0 & 0 & 0 & 0\n",
       "\\end{array}\\right)</script></html>"
      ],
      "text/latex": [
       "$$\\newcommand{\\Bold}[1]{\\mathbf{#1}}\\left(\\begin{array}{rrrrr}\n",
       "0 & 0 & 0 & 0 & 1 \\\\\n",
       "0 & 0 & 1 & 0 & 0 \\\\\n",
       "0 & 0 & 0 & 1 & 0 \\\\\n",
       "0 & 0 & 0 & 0 & 0 \\\\\n",
       "0 & 0 & 0 & 0 & 0\n",
       "\\end{array}\\right)$$"
      ],
      "text/plain": [
       "[0 0 0 0 1]\n",
       "[0 0 1 0 0]\n",
       "[0 0 0 1 0]\n",
       "[0 0 0 0 0]\n",
       "[0 0 0 0 0]"
      ]
     },
     "metadata": {},
     "output_type": "display_data"
    },
    {
     "data": {
      "text/html": [
       "<html><script type=\"math/tex; mode=display\">\\newcommand{\\Bold}[1]{\\mathbf{#1}}\\left[\\left\\{d_{1} : r_{552}, d_{2} : 0, d_{3} : 0, d_{4} : 0, d_{5} : r_{553}, a_{12} : r_{554}, a_{13} : r_{555}, a_{14} : r_{556}, a_{15} : r_{557}, a_{23} : r_{558}, a_{24} : r_{559}, a_{25} : r_{560}, a_{34} : r_{561}, a_{35} : r_{562}, a_{45} : 0\\right\\}, \\left\\{d_{1} : r_{563}, d_{2} : r_{564}, d_{3} : \\frac{r_{564}}{x_{23}}, d_{4} : \\frac{r_{564}}{x_{23} x_{34}}, d_{5} : \\frac{r_{563}}{x_{15}}, a_{12} : \\frac{r_{564} x_{13}}{x_{23}}, a_{13} : r_{565}, a_{14} : r_{566}, a_{15} : r_{567}, a_{23} : \\frac{r_{565} x_{23}^{2} x_{34} - r_{564} x_{14} x_{23} + r_{564} x_{13} x_{24}}{x_{13} x_{23} x_{34}}, a_{24} : r_{568}, a_{25} : r_{569}, a_{34} : \\frac{r_{565} x_{23} x_{34} - r_{564} x_{14}}{x_{13} x_{23} x_{34}}, a_{35} : 0, a_{45} : 0\\right\\}\\right]</script></html>"
      ],
      "text/latex": [
       "$$\\newcommand{\\Bold}[1]{\\mathbf{#1}}\\left[\\left\\{d_{1} : r_{552}, d_{2} : 0, d_{3} : 0, d_{4} : 0, d_{5} : r_{553}, a_{12} : r_{554}, a_{13} : r_{555}, a_{14} : r_{556}, a_{15} : r_{557}, a_{23} : r_{558}, a_{24} : r_{559}, a_{25} : r_{560}, a_{34} : r_{561}, a_{35} : r_{562}, a_{45} : 0\\right\\}, \\left\\{d_{1} : r_{563}, d_{2} : r_{564}, d_{3} : \\frac{r_{564}}{x_{23}}, d_{4} : \\frac{r_{564}}{x_{23} x_{34}}, d_{5} : \\frac{r_{563}}{x_{15}}, a_{12} : \\frac{r_{564} x_{13}}{x_{23}}, a_{13} : r_{565}, a_{14} : r_{566}, a_{15} : r_{567}, a_{23} : \\frac{r_{565} x_{23}^{2} x_{34} - r_{564} x_{14} x_{23} + r_{564} x_{13} x_{24}}{x_{13} x_{23} x_{34}}, a_{24} : r_{568}, a_{25} : r_{569}, a_{34} : \\frac{r_{565} x_{23} x_{34} - r_{564} x_{14}}{x_{13} x_{23} x_{34}}, a_{35} : 0, a_{45} : 0\\right\\}\\right]$$"
      ],
      "text/plain": [
       "[{d1: r552,\n",
       "  d2: 0,\n",
       "  d3: 0,\n",
       "  d4: 0,\n",
       "  d5: r553,\n",
       "  a12: r554,\n",
       "  a13: r555,\n",
       "  a14: r556,\n",
       "  a15: r557,\n",
       "  a23: r558,\n",
       "  a24: r559,\n",
       "  a25: r560,\n",
       "  a34: r561,\n",
       "  a35: r562,\n",
       "  a45: 0},\n",
       " {d1: r563,\n",
       "  d2: r564,\n",
       "  d3: r564/x23,\n",
       "  d4: r564/(x23*x34),\n",
       "  d5: r563/x15,\n",
       "  a12: r564*x13/x23,\n",
       "  a13: r565,\n",
       "  a14: r566,\n",
       "  a15: r567,\n",
       "  a23: (r565*x23^2*x34 - r564*x14*x23 + r564*x13*x24)/(x13*x23*x34),\n",
       "  a24: r568,\n",
       "  a25: r569,\n",
       "  a34: (r565*x23*x34 - r564*x14)/(x13*x23*x34),\n",
       "  a35: 0,\n",
       "  a45: 0}]"
      ]
     },
     "metadata": {},
     "output_type": "display_data"
    },
    {
     "data": {
      "text/plain": [
       "\\left[\\left\\{d_{1} : r_{552}, d_{2} : 0, d_{3} : 0, d_{4} : 0, d_{5} : r_{553}, a_{12} : r_{554}, a_{13} : r_{555}, a_{14} : r_{556}, a_{15} : r_{557}, a_{23} : r_{558}, a_{24} : r_{559}, a_{25} : r_{560}, a_{34} : r_{561}, a_{35} : r_{562}, a_{45} : 0\\right\\}, \\left\\{d_{1} : r_{563}, d_{2} : r_{564}, d_{3} : \\frac{r_{564}}{x_{23}}, d_{4} : \\frac{r_{564}}{x_{23} x_{34}}, d_{5} : \\frac{r_{563}}{x_{15}}, a_{12} : \\frac{r_{564} x_{13}}{x_{23}}, a_{13} : r_{565}, a_{14} : r_{566}, a_{15} : r_{567}, a_{23} : \\frac{r_{565} x_{23}^{2} x_{34} - r_{564} x_{14} x_{23} + r_{564} x_{13} x_{24}}{x_{13} x_{23} x_{34}}, a_{24} : r_{568}, a_{25} : r_{569}, a_{34} : \\frac{r_{565} x_{23} x_{34} - r_{564} x_{14}}{x_{13} x_{23} x_{34}}, a_{35} : 0, a_{45} : 0\\right\\}\\right]"
      ]
     },
     "execution_count": 31,
     "metadata": {},
     "output_type": "execute_result"
    }
   ],
   "source": [
    "#x6\n",
    "reset()\n",
    "\n",
    "var('x12,x13,x14,x15,x23,x24,x25,x34,x35,x45')\n",
    "var('d1,d2,d3,d4,d5')\n",
    "var('a12,a13,a14,a15,a23,a24,a25,a34,a35,a45')\n",
    "\n",
    "load_attach_path('C:\\\\Users\\\\julia\\\\Documents\\\\unb\\\\doutorado\\\\pensar\\\\codigo_sage_v2\\\\maquina\\\\x6')\n",
    "load('out_#010111.sage')\n",
    "\n",
    "m=matrix(QQ, [[0, 0, 0, 0, 1],\n",
    "              [0, 0, 1, 0, 0],\n",
    "              [0, 0, 0, 1, 0],\n",
    "              [0, 0, 0, 0, 0],\n",
    "              [0, 0, 0, 0, 0]])\n",
    "        \n",
    "#entry of matrix: (i,j) line i collum j, means (i-1,j-1)\n",
    "sol=solve([ eq1==m[0,2],\teq2==m[0,3],\teq3==m[0,4],\teq4==m[1,2],\t\n",
    "                                            eq5==m[1,3],    eq6==m[1,4],\n",
    "                                                            eq7==m[2,3], eq8==m[2,4]],d1,d2,d3,d4,d5,a12,a13,a14,a15,a23,a24,a25,a34,a35,a45, solution_dict=True)\n",
    "\n",
    "show(m)\n",
    "show(sol)\n",
    "latex(sol)"
   ]
  },
  {
   "cell_type": "code",
   "execution_count": 32,
   "metadata": {},
   "outputs": [
    {
     "data": {
      "text/html": [
       "<html><script type=\"math/tex; mode=display\">\\newcommand{\\Bold}[1]{\\mathbf{#1}}\\left(\\begin{array}{rrrrr}\n",
       "0 & 0 & 0 & 0 & 0 \\\\\n",
       "0 & 0 & 1 & 0 & 0 \\\\\n",
       "0 & 0 & 0 & 1 & 0 \\\\\n",
       "0 & 0 & 0 & 0 & 0 \\\\\n",
       "0 & 0 & 0 & 0 & 0\n",
       "\\end{array}\\right)</script></html>"
      ],
      "text/latex": [
       "$$\\newcommand{\\Bold}[1]{\\mathbf{#1}}\\left(\\begin{array}{rrrrr}\n",
       "0 & 0 & 0 & 0 & 0 \\\\\n",
       "0 & 0 & 1 & 0 & 0 \\\\\n",
       "0 & 0 & 0 & 1 & 0 \\\\\n",
       "0 & 0 & 0 & 0 & 0 \\\\\n",
       "0 & 0 & 0 & 0 & 0\n",
       "\\end{array}\\right)$$"
      ],
      "text/plain": [
       "[0 0 0 0 0]\n",
       "[0 0 1 0 0]\n",
       "[0 0 0 1 0]\n",
       "[0 0 0 0 0]\n",
       "[0 0 0 0 0]"
      ]
     },
     "metadata": {},
     "output_type": "display_data"
    },
    {
     "data": {
      "text/html": [
       "<html><script type=\"math/tex; mode=display\">\\newcommand{\\Bold}[1]{\\mathbf{#1}}\\left[\\left\\{d_{1} : r_{570}, d_{2} : 0, d_{3} : 0, d_{4} : 0, d_{5} : r_{571}, a_{12} : r_{572}, a_{13} : r_{573}, a_{14} : r_{574}, a_{15} : r_{575}, a_{23} : r_{576}, a_{24} : r_{577}, a_{25} : r_{578}, a_{34} : r_{579}, a_{35} : r_{580}, a_{45} : 0\\right\\}, \\left\\{d_{1} : r_{581}, d_{2} : r_{582}, d_{3} : \\frac{r_{582}}{x_{23}}, d_{4} : \\frac{r_{582}}{x_{23} x_{34}}, d_{5} : r_{583}, a_{12} : 0, a_{13} : 0, a_{14} : r_{584}, a_{15} : r_{585}, a_{23} : r_{586}, a_{24} : r_{587}, a_{25} : r_{588}, a_{34} : \\frac{r_{586} x_{23} x_{34} - r_{582} x_{24}}{x_{23}^{2} x_{34}}, a_{35} : -\\frac{r_{583} x_{25}}{x_{23}}, a_{45} : 0\\right\\}\\right]</script></html>"
      ],
      "text/latex": [
       "$$\\newcommand{\\Bold}[1]{\\mathbf{#1}}\\left[\\left\\{d_{1} : r_{570}, d_{2} : 0, d_{3} : 0, d_{4} : 0, d_{5} : r_{571}, a_{12} : r_{572}, a_{13} : r_{573}, a_{14} : r_{574}, a_{15} : r_{575}, a_{23} : r_{576}, a_{24} : r_{577}, a_{25} : r_{578}, a_{34} : r_{579}, a_{35} : r_{580}, a_{45} : 0\\right\\}, \\left\\{d_{1} : r_{581}, d_{2} : r_{582}, d_{3} : \\frac{r_{582}}{x_{23}}, d_{4} : \\frac{r_{582}}{x_{23} x_{34}}, d_{5} : r_{583}, a_{12} : 0, a_{13} : 0, a_{14} : r_{584}, a_{15} : r_{585}, a_{23} : r_{586}, a_{24} : r_{587}, a_{25} : r_{588}, a_{34} : \\frac{r_{586} x_{23} x_{34} - r_{582} x_{24}}{x_{23}^{2} x_{34}}, a_{35} : -\\frac{r_{583} x_{25}}{x_{23}}, a_{45} : 0\\right\\}\\right]$$"
      ],
      "text/plain": [
       "[{d1: r570,\n",
       "  d2: 0,\n",
       "  d3: 0,\n",
       "  d4: 0,\n",
       "  d5: r571,\n",
       "  a12: r572,\n",
       "  a13: r573,\n",
       "  a14: r574,\n",
       "  a15: r575,\n",
       "  a23: r576,\n",
       "  a24: r577,\n",
       "  a25: r578,\n",
       "  a34: r579,\n",
       "  a35: r580,\n",
       "  a45: 0},\n",
       " {d1: r581,\n",
       "  d2: r582,\n",
       "  d3: r582/x23,\n",
       "  d4: r582/(x23*x34),\n",
       "  d5: r583,\n",
       "  a12: 0,\n",
       "  a13: 0,\n",
       "  a14: r584,\n",
       "  a15: r585,\n",
       "  a23: r586,\n",
       "  a24: r587,\n",
       "  a25: r588,\n",
       "  a34: (r586*x23*x34 - r582*x24)/(x23^2*x34),\n",
       "  a35: -r583*x25/x23,\n",
       "  a45: 0}]"
      ]
     },
     "metadata": {},
     "output_type": "display_data"
    },
    {
     "data": {
      "text/plain": [
       "\\left[\\left\\{d_{1} : r_{570}, d_{2} : 0, d_{3} : 0, d_{4} : 0, d_{5} : r_{571}, a_{12} : r_{572}, a_{13} : r_{573}, a_{14} : r_{574}, a_{15} : r_{575}, a_{23} : r_{576}, a_{24} : r_{577}, a_{25} : r_{578}, a_{34} : r_{579}, a_{35} : r_{580}, a_{45} : 0\\right\\}, \\left\\{d_{1} : r_{581}, d_{2} : r_{582}, d_{3} : \\frac{r_{582}}{x_{23}}, d_{4} : \\frac{r_{582}}{x_{23} x_{34}}, d_{5} : r_{583}, a_{12} : 0, a_{13} : 0, a_{14} : r_{584}, a_{15} : r_{585}, a_{23} : r_{586}, a_{24} : r_{587}, a_{25} : r_{588}, a_{34} : \\frac{r_{586} x_{23} x_{34} - r_{582} x_{24}}{x_{23}^{2} x_{34}}, a_{35} : -\\frac{r_{583} x_{25}}{x_{23}}, a_{45} : 0\\right\\}\\right]"
      ]
     },
     "execution_count": 32,
     "metadata": {},
     "output_type": "execute_result"
    }
   ],
   "source": [
    "#x6\n",
    "reset()\n",
    "\n",
    "var('x12,x13,x14,x15,x23,x24,x25,x34,x35,x45')\n",
    "var('d1,d2,d3,d4,d5')\n",
    "var('a12,a13,a14,a15,a23,a24,a25,a34,a35,a45')\n",
    "\n",
    "load_attach_path('C:\\\\Users\\\\julia\\\\Documents\\\\unb\\\\doutorado\\\\pensar\\\\codigo_sage_v2\\\\maquina\\\\x6')\n",
    "load('out_#011000.sage')\n",
    "\n",
    "m=matrix(QQ, [[0, 0, 0, 0, 0],\n",
    "              [0, 0, 1, 0, 0],\n",
    "              [0, 0, 0, 1, 0],\n",
    "              [0, 0, 0, 0, 0],\n",
    "              [0, 0, 0, 0, 0]])\n",
    "        \n",
    "#entry of matrix: (i,j) line i collum j, means (i-1,j-1)\n",
    "sol=solve([ eq1==m[0,2],\teq2==m[0,3],\teq3==m[0,4],\teq4==m[1,2],\t\n",
    "                                            eq5==m[1,3],    eq6==m[1,4],\n",
    "                                                            eq7==m[2,3], eq8==m[2,4]],d1,d2,d3,d4,d5,a12,a13,a14,a15,a23,a24,a25,a34,a35,a45, solution_dict=True)\n",
    "\n",
    "show(m)\n",
    "show(sol)\n",
    "latex(sol)"
   ]
  },
  {
   "cell_type": "code",
   "execution_count": 33,
   "metadata": {},
   "outputs": [
    {
     "data": {
      "text/html": [
       "<html><script type=\"math/tex; mode=display\">\\newcommand{\\Bold}[1]{\\mathbf{#1}}\\left(\\begin{array}{rrrrr}\n",
       "0 & 0 & 0 & 0 & 1 \\\\\n",
       "0 & 0 & 1 & 0 & 0 \\\\\n",
       "0 & 0 & 0 & 1 & 0 \\\\\n",
       "0 & 0 & 0 & 0 & 0 \\\\\n",
       "0 & 0 & 0 & 0 & 0\n",
       "\\end{array}\\right)</script></html>"
      ],
      "text/latex": [
       "$$\\newcommand{\\Bold}[1]{\\mathbf{#1}}\\left(\\begin{array}{rrrrr}\n",
       "0 & 0 & 0 & 0 & 1 \\\\\n",
       "0 & 0 & 1 & 0 & 0 \\\\\n",
       "0 & 0 & 0 & 1 & 0 \\\\\n",
       "0 & 0 & 0 & 0 & 0 \\\\\n",
       "0 & 0 & 0 & 0 & 0\n",
       "\\end{array}\\right)$$"
      ],
      "text/plain": [
       "[0 0 0 0 1]\n",
       "[0 0 1 0 0]\n",
       "[0 0 0 1 0]\n",
       "[0 0 0 0 0]\n",
       "[0 0 0 0 0]"
      ]
     },
     "metadata": {},
     "output_type": "display_data"
    },
    {
     "data": {
      "text/html": [
       "<html><script type=\"math/tex; mode=display\">\\newcommand{\\Bold}[1]{\\mathbf{#1}}\\left[\\left\\{d_{1} : r_{589}, d_{2} : 0, d_{3} : 0, d_{4} : 0, d_{5} : r_{590}, a_{12} : r_{591}, a_{13} : r_{592}, a_{14} : r_{593}, a_{15} : r_{594}, a_{23} : r_{595}, a_{24} : r_{596}, a_{25} : r_{597}, a_{34} : r_{598}, a_{35} : r_{599}, a_{45} : 0\\right\\}, \\left\\{d_{1} : r_{600}, d_{2} : r_{601}, d_{3} : \\frac{r_{601}}{x_{23}}, d_{4} : \\frac{r_{601}}{x_{23} x_{34}}, d_{5} : \\frac{r_{600}}{x_{15}}, a_{12} : 0, a_{13} : 0, a_{14} : r_{602}, a_{15} : r_{603}, a_{23} : r_{604}, a_{24} : r_{605}, a_{25} : r_{606}, a_{34} : \\frac{r_{604} x_{23} x_{34} - r_{601} x_{24}}{x_{23}^{2} x_{34}}, a_{35} : -\\frac{r_{600} x_{25}}{x_{15} x_{23}}, a_{45} : 0\\right\\}\\right]</script></html>"
      ],
      "text/latex": [
       "$$\\newcommand{\\Bold}[1]{\\mathbf{#1}}\\left[\\left\\{d_{1} : r_{589}, d_{2} : 0, d_{3} : 0, d_{4} : 0, d_{5} : r_{590}, a_{12} : r_{591}, a_{13} : r_{592}, a_{14} : r_{593}, a_{15} : r_{594}, a_{23} : r_{595}, a_{24} : r_{596}, a_{25} : r_{597}, a_{34} : r_{598}, a_{35} : r_{599}, a_{45} : 0\\right\\}, \\left\\{d_{1} : r_{600}, d_{2} : r_{601}, d_{3} : \\frac{r_{601}}{x_{23}}, d_{4} : \\frac{r_{601}}{x_{23} x_{34}}, d_{5} : \\frac{r_{600}}{x_{15}}, a_{12} : 0, a_{13} : 0, a_{14} : r_{602}, a_{15} : r_{603}, a_{23} : r_{604}, a_{24} : r_{605}, a_{25} : r_{606}, a_{34} : \\frac{r_{604} x_{23} x_{34} - r_{601} x_{24}}{x_{23}^{2} x_{34}}, a_{35} : -\\frac{r_{600} x_{25}}{x_{15} x_{23}}, a_{45} : 0\\right\\}\\right]$$"
      ],
      "text/plain": [
       "[{d1: r589,\n",
       "  d2: 0,\n",
       "  d3: 0,\n",
       "  d4: 0,\n",
       "  d5: r590,\n",
       "  a12: r591,\n",
       "  a13: r592,\n",
       "  a14: r593,\n",
       "  a15: r594,\n",
       "  a23: r595,\n",
       "  a24: r596,\n",
       "  a25: r597,\n",
       "  a34: r598,\n",
       "  a35: r599,\n",
       "  a45: 0},\n",
       " {d1: r600,\n",
       "  d2: r601,\n",
       "  d3: r601/x23,\n",
       "  d4: r601/(x23*x34),\n",
       "  d5: r600/x15,\n",
       "  a12: 0,\n",
       "  a13: 0,\n",
       "  a14: r602,\n",
       "  a15: r603,\n",
       "  a23: r604,\n",
       "  a24: r605,\n",
       "  a25: r606,\n",
       "  a34: (r604*x23*x34 - r601*x24)/(x23^2*x34),\n",
       "  a35: -r600*x25/(x15*x23),\n",
       "  a45: 0}]"
      ]
     },
     "metadata": {},
     "output_type": "display_data"
    },
    {
     "data": {
      "text/plain": [
       "\\left[\\left\\{d_{1} : r_{589}, d_{2} : 0, d_{3} : 0, d_{4} : 0, d_{5} : r_{590}, a_{12} : r_{591}, a_{13} : r_{592}, a_{14} : r_{593}, a_{15} : r_{594}, a_{23} : r_{595}, a_{24} : r_{596}, a_{25} : r_{597}, a_{34} : r_{598}, a_{35} : r_{599}, a_{45} : 0\\right\\}, \\left\\{d_{1} : r_{600}, d_{2} : r_{601}, d_{3} : \\frac{r_{601}}{x_{23}}, d_{4} : \\frac{r_{601}}{x_{23} x_{34}}, d_{5} : \\frac{r_{600}}{x_{15}}, a_{12} : 0, a_{13} : 0, a_{14} : r_{602}, a_{15} : r_{603}, a_{23} : r_{604}, a_{24} : r_{605}, a_{25} : r_{606}, a_{34} : \\frac{r_{604} x_{23} x_{34} - r_{601} x_{24}}{x_{23}^{2} x_{34}}, a_{35} : -\\frac{r_{600} x_{25}}{x_{15} x_{23}}, a_{45} : 0\\right\\}\\right]"
      ]
     },
     "execution_count": 33,
     "metadata": {},
     "output_type": "execute_result"
    }
   ],
   "source": [
    "#x6\n",
    "reset()\n",
    "\n",
    "var('x12,x13,x14,x15,x23,x24,x25,x34,x35,x45')\n",
    "var('d1,d2,d3,d4,d5')\n",
    "var('a12,a13,a14,a15,a23,a24,a25,a34,a35,a45')\n",
    "\n",
    "load_attach_path('C:\\\\Users\\\\julia\\\\Documents\\\\unb\\\\doutorado\\\\pensar\\\\codigo_sage_v2\\\\maquina\\\\x6')\n",
    "load('out_#011001.sage')\n",
    "\n",
    "m=matrix(QQ, [[0, 0, 0, 0, 1],\n",
    "              [0, 0, 1, 0, 0],\n",
    "              [0, 0, 0, 1, 0],\n",
    "              [0, 0, 0, 0, 0],\n",
    "              [0, 0, 0, 0, 0]])\n",
    "        \n",
    "#entry of matrix: (i,j) line i collum j, means (i-1,j-1)\n",
    "sol=solve([ eq1==m[0,2],\teq2==m[0,3],\teq3==m[0,4],\teq4==m[1,2],\t\n",
    "                                            eq5==m[1,3],    eq6==m[1,4],\n",
    "                                                            eq7==m[2,3], eq8==m[2,4]],d1,d2,d3,d4,d5,a12,a13,a14,a15,a23,a24,a25,a34,a35,a45, solution_dict=True)\n",
    "\n",
    "show(m)\n",
    "show(sol)\n",
    "latex(sol)"
   ]
  },
  {
   "cell_type": "code",
   "execution_count": 34,
   "metadata": {},
   "outputs": [
    {
     "data": {
      "text/html": [
       "<html><script type=\"math/tex; mode=display\">\\newcommand{\\Bold}[1]{\\mathbf{#1}}\\left(\\begin{array}{rrrrr}\n",
       "0 & 0 & 0 & 0 & 0 \\\\\n",
       "0 & 0 & 1 & 0 & 0 \\\\\n",
       "0 & 0 & 0 & 1 & 0 \\\\\n",
       "0 & 0 & 0 & 0 & 0 \\\\\n",
       "0 & 0 & 0 & 0 & 0\n",
       "\\end{array}\\right)</script></html>"
      ],
      "text/latex": [
       "$$\\newcommand{\\Bold}[1]{\\mathbf{#1}}\\left(\\begin{array}{rrrrr}\n",
       "0 & 0 & 0 & 0 & 0 \\\\\n",
       "0 & 0 & 1 & 0 & 0 \\\\\n",
       "0 & 0 & 0 & 1 & 0 \\\\\n",
       "0 & 0 & 0 & 0 & 0 \\\\\n",
       "0 & 0 & 0 & 0 & 0\n",
       "\\end{array}\\right)$$"
      ],
      "text/plain": [
       "[0 0 0 0 0]\n",
       "[0 0 1 0 0]\n",
       "[0 0 0 1 0]\n",
       "[0 0 0 0 0]\n",
       "[0 0 0 0 0]"
      ]
     },
     "metadata": {},
     "output_type": "display_data"
    },
    {
     "data": {
      "text/html": [
       "<html><script type=\"math/tex; mode=display\">\\newcommand{\\Bold}[1]{\\mathbf{#1}}\\left[\\left\\{d_{1} : r_{607}, d_{2} : 0, d_{3} : 0, d_{4} : 0, d_{5} : r_{608}, a_{12} : r_{609}, a_{13} : r_{610}, a_{14} : r_{611}, a_{15} : r_{612}, a_{23} : r_{613}, a_{24} : r_{614}, a_{25} : r_{615}, a_{34} : r_{616}, a_{35} : r_{617}, a_{45} : 0\\right\\}, \\left\\{d_{1} : r_{618}, d_{2} : r_{619}, d_{3} : \\frac{r_{619}}{x_{23}}, d_{4} : \\frac{r_{619}}{x_{23} x_{34}}, d_{5} : r_{620}, a_{12} : 0, a_{13} : \\frac{r_{619} x_{14}}{x_{23} x_{34}}, a_{14} : r_{621}, a_{15} : r_{622}, a_{23} : r_{623}, a_{24} : r_{624}, a_{25} : r_{625}, a_{34} : \\frac{r_{623} x_{23} x_{34} - r_{619} x_{24}}{x_{23}^{2} x_{34}}, a_{35} : -\\frac{r_{620} x_{25}}{x_{23}}, a_{45} : 0\\right\\}\\right]</script></html>"
      ],
      "text/latex": [
       "$$\\newcommand{\\Bold}[1]{\\mathbf{#1}}\\left[\\left\\{d_{1} : r_{607}, d_{2} : 0, d_{3} : 0, d_{4} : 0, d_{5} : r_{608}, a_{12} : r_{609}, a_{13} : r_{610}, a_{14} : r_{611}, a_{15} : r_{612}, a_{23} : r_{613}, a_{24} : r_{614}, a_{25} : r_{615}, a_{34} : r_{616}, a_{35} : r_{617}, a_{45} : 0\\right\\}, \\left\\{d_{1} : r_{618}, d_{2} : r_{619}, d_{3} : \\frac{r_{619}}{x_{23}}, d_{4} : \\frac{r_{619}}{x_{23} x_{34}}, d_{5} : r_{620}, a_{12} : 0, a_{13} : \\frac{r_{619} x_{14}}{x_{23} x_{34}}, a_{14} : r_{621}, a_{15} : r_{622}, a_{23} : r_{623}, a_{24} : r_{624}, a_{25} : r_{625}, a_{34} : \\frac{r_{623} x_{23} x_{34} - r_{619} x_{24}}{x_{23}^{2} x_{34}}, a_{35} : -\\frac{r_{620} x_{25}}{x_{23}}, a_{45} : 0\\right\\}\\right]$$"
      ],
      "text/plain": [
       "[{d1: r607,\n",
       "  d2: 0,\n",
       "  d3: 0,\n",
       "  d4: 0,\n",
       "  d5: r608,\n",
       "  a12: r609,\n",
       "  a13: r610,\n",
       "  a14: r611,\n",
       "  a15: r612,\n",
       "  a23: r613,\n",
       "  a24: r614,\n",
       "  a25: r615,\n",
       "  a34: r616,\n",
       "  a35: r617,\n",
       "  a45: 0},\n",
       " {d1: r618,\n",
       "  d2: r619,\n",
       "  d3: r619/x23,\n",
       "  d4: r619/(x23*x34),\n",
       "  d5: r620,\n",
       "  a12: 0,\n",
       "  a13: r619*x14/(x23*x34),\n",
       "  a14: r621,\n",
       "  a15: r622,\n",
       "  a23: r623,\n",
       "  a24: r624,\n",
       "  a25: r625,\n",
       "  a34: (r623*x23*x34 - r619*x24)/(x23^2*x34),\n",
       "  a35: -r620*x25/x23,\n",
       "  a45: 0}]"
      ]
     },
     "metadata": {},
     "output_type": "display_data"
    },
    {
     "data": {
      "text/plain": [
       "\\left[\\left\\{d_{1} : r_{607}, d_{2} : 0, d_{3} : 0, d_{4} : 0, d_{5} : r_{608}, a_{12} : r_{609}, a_{13} : r_{610}, a_{14} : r_{611}, a_{15} : r_{612}, a_{23} : r_{613}, a_{24} : r_{614}, a_{25} : r_{615}, a_{34} : r_{616}, a_{35} : r_{617}, a_{45} : 0\\right\\}, \\left\\{d_{1} : r_{618}, d_{2} : r_{619}, d_{3} : \\frac{r_{619}}{x_{23}}, d_{4} : \\frac{r_{619}}{x_{23} x_{34}}, d_{5} : r_{620}, a_{12} : 0, a_{13} : \\frac{r_{619} x_{14}}{x_{23} x_{34}}, a_{14} : r_{621}, a_{15} : r_{622}, a_{23} : r_{623}, a_{24} : r_{624}, a_{25} : r_{625}, a_{34} : \\frac{r_{623} x_{23} x_{34} - r_{619} x_{24}}{x_{23}^{2} x_{34}}, a_{35} : -\\frac{r_{620} x_{25}}{x_{23}}, a_{45} : 0\\right\\}\\right]"
      ]
     },
     "execution_count": 34,
     "metadata": {},
     "output_type": "execute_result"
    }
   ],
   "source": [
    "#x6\n",
    "reset()\n",
    "\n",
    "var('x12,x13,x14,x15,x23,x24,x25,x34,x35,x45')\n",
    "var('d1,d2,d3,d4,d5')\n",
    "var('a12,a13,a14,a15,a23,a24,a25,a34,a35,a45')\n",
    "\n",
    "load_attach_path('C:\\\\Users\\\\julia\\\\Documents\\\\unb\\\\doutorado\\\\pensar\\\\codigo_sage_v2\\\\maquina\\\\x6')\n",
    "load('out_#011010.sage')\n",
    "\n",
    "m=matrix(QQ, [[0, 0, 0, 0, 0],\n",
    "              [0, 0, 1, 0, 0],\n",
    "              [0, 0, 0, 1, 0],\n",
    "              [0, 0, 0, 0, 0],\n",
    "              [0, 0, 0, 0, 0]])\n",
    "        \n",
    "#entry of matrix: (i,j) line i collum j, means (i-1,j-1)\n",
    "sol=solve([ eq1==m[0,2],\teq2==m[0,3],\teq3==m[0,4],\teq4==m[1,2],\t\n",
    "                                            eq5==m[1,3],    eq6==m[1,4],\n",
    "                                                            eq7==m[2,3], eq8==m[2,4]],d1,d2,d3,d4,d5,a12,a13,a14,a15,a23,a24,a25,a34,a35,a45, solution_dict=True)\n",
    "\n",
    "show(m)\n",
    "show(sol)\n",
    "latex(sol)"
   ]
  },
  {
   "cell_type": "code",
   "execution_count": 35,
   "metadata": {},
   "outputs": [
    {
     "data": {
      "text/html": [
       "<html><script type=\"math/tex; mode=display\">\\newcommand{\\Bold}[1]{\\mathbf{#1}}\\left(\\begin{array}{rrrrr}\n",
       "0 & 0 & 0 & 0 & 1 \\\\\n",
       "0 & 0 & 1 & 0 & 0 \\\\\n",
       "0 & 0 & 0 & 1 & 0 \\\\\n",
       "0 & 0 & 0 & 0 & 0 \\\\\n",
       "0 & 0 & 0 & 0 & 0\n",
       "\\end{array}\\right)</script></html>"
      ],
      "text/latex": [
       "$$\\newcommand{\\Bold}[1]{\\mathbf{#1}}\\left(\\begin{array}{rrrrr}\n",
       "0 & 0 & 0 & 0 & 1 \\\\\n",
       "0 & 0 & 1 & 0 & 0 \\\\\n",
       "0 & 0 & 0 & 1 & 0 \\\\\n",
       "0 & 0 & 0 & 0 & 0 \\\\\n",
       "0 & 0 & 0 & 0 & 0\n",
       "\\end{array}\\right)$$"
      ],
      "text/plain": [
       "[0 0 0 0 1]\n",
       "[0 0 1 0 0]\n",
       "[0 0 0 1 0]\n",
       "[0 0 0 0 0]\n",
       "[0 0 0 0 0]"
      ]
     },
     "metadata": {},
     "output_type": "display_data"
    },
    {
     "data": {
      "text/html": [
       "<html><script type=\"math/tex; mode=display\">\\newcommand{\\Bold}[1]{\\mathbf{#1}}\\left[\\left\\{d_{1} : r_{626}, d_{2} : 0, d_{3} : 0, d_{4} : 0, d_{5} : r_{627}, a_{12} : r_{628}, a_{13} : r_{629}, a_{14} : r_{630}, a_{15} : r_{631}, a_{23} : r_{632}, a_{24} : r_{633}, a_{25} : r_{634}, a_{34} : r_{635}, a_{35} : r_{636}, a_{45} : 0\\right\\}, \\left\\{d_{1} : r_{637}, d_{2} : r_{638}, d_{3} : \\frac{r_{638}}{x_{23}}, d_{4} : \\frac{r_{638}}{x_{23} x_{34}}, d_{5} : \\frac{r_{637}}{x_{15}}, a_{12} : 0, a_{13} : \\frac{r_{638} x_{14}}{x_{23} x_{34}}, a_{14} : r_{639}, a_{15} : r_{640}, a_{23} : r_{641}, a_{24} : r_{642}, a_{25} : r_{643}, a_{34} : \\frac{r_{641} x_{23} x_{34} - r_{638} x_{24}}{x_{23}^{2} x_{34}}, a_{35} : -\\frac{r_{637} x_{25}}{x_{15} x_{23}}, a_{45} : 0\\right\\}\\right]</script></html>"
      ],
      "text/latex": [
       "$$\\newcommand{\\Bold}[1]{\\mathbf{#1}}\\left[\\left\\{d_{1} : r_{626}, d_{2} : 0, d_{3} : 0, d_{4} : 0, d_{5} : r_{627}, a_{12} : r_{628}, a_{13} : r_{629}, a_{14} : r_{630}, a_{15} : r_{631}, a_{23} : r_{632}, a_{24} : r_{633}, a_{25} : r_{634}, a_{34} : r_{635}, a_{35} : r_{636}, a_{45} : 0\\right\\}, \\left\\{d_{1} : r_{637}, d_{2} : r_{638}, d_{3} : \\frac{r_{638}}{x_{23}}, d_{4} : \\frac{r_{638}}{x_{23} x_{34}}, d_{5} : \\frac{r_{637}}{x_{15}}, a_{12} : 0, a_{13} : \\frac{r_{638} x_{14}}{x_{23} x_{34}}, a_{14} : r_{639}, a_{15} : r_{640}, a_{23} : r_{641}, a_{24} : r_{642}, a_{25} : r_{643}, a_{34} : \\frac{r_{641} x_{23} x_{34} - r_{638} x_{24}}{x_{23}^{2} x_{34}}, a_{35} : -\\frac{r_{637} x_{25}}{x_{15} x_{23}}, a_{45} : 0\\right\\}\\right]$$"
      ],
      "text/plain": [
       "[{d1: r626,\n",
       "  d2: 0,\n",
       "  d3: 0,\n",
       "  d4: 0,\n",
       "  d5: r627,\n",
       "  a12: r628,\n",
       "  a13: r629,\n",
       "  a14: r630,\n",
       "  a15: r631,\n",
       "  a23: r632,\n",
       "  a24: r633,\n",
       "  a25: r634,\n",
       "  a34: r635,\n",
       "  a35: r636,\n",
       "  a45: 0},\n",
       " {d1: r637,\n",
       "  d2: r638,\n",
       "  d3: r638/x23,\n",
       "  d4: r638/(x23*x34),\n",
       "  d5: r637/x15,\n",
       "  a12: 0,\n",
       "  a13: r638*x14/(x23*x34),\n",
       "  a14: r639,\n",
       "  a15: r640,\n",
       "  a23: r641,\n",
       "  a24: r642,\n",
       "  a25: r643,\n",
       "  a34: (r641*x23*x34 - r638*x24)/(x23^2*x34),\n",
       "  a35: -r637*x25/(x15*x23),\n",
       "  a45: 0}]"
      ]
     },
     "metadata": {},
     "output_type": "display_data"
    },
    {
     "data": {
      "text/plain": [
       "\\left[\\left\\{d_{1} : r_{626}, d_{2} : 0, d_{3} : 0, d_{4} : 0, d_{5} : r_{627}, a_{12} : r_{628}, a_{13} : r_{629}, a_{14} : r_{630}, a_{15} : r_{631}, a_{23} : r_{632}, a_{24} : r_{633}, a_{25} : r_{634}, a_{34} : r_{635}, a_{35} : r_{636}, a_{45} : 0\\right\\}, \\left\\{d_{1} : r_{637}, d_{2} : r_{638}, d_{3} : \\frac{r_{638}}{x_{23}}, d_{4} : \\frac{r_{638}}{x_{23} x_{34}}, d_{5} : \\frac{r_{637}}{x_{15}}, a_{12} : 0, a_{13} : \\frac{r_{638} x_{14}}{x_{23} x_{34}}, a_{14} : r_{639}, a_{15} : r_{640}, a_{23} : r_{641}, a_{24} : r_{642}, a_{25} : r_{643}, a_{34} : \\frac{r_{641} x_{23} x_{34} - r_{638} x_{24}}{x_{23}^{2} x_{34}}, a_{35} : -\\frac{r_{637} x_{25}}{x_{15} x_{23}}, a_{45} : 0\\right\\}\\right]"
      ]
     },
     "execution_count": 35,
     "metadata": {},
     "output_type": "execute_result"
    }
   ],
   "source": [
    "#x6\n",
    "reset()\n",
    "\n",
    "var('x12,x13,x14,x15,x23,x24,x25,x34,x35,x45')\n",
    "var('d1,d2,d3,d4,d5')\n",
    "var('a12,a13,a14,a15,a23,a24,a25,a34,a35,a45')\n",
    "\n",
    "load_attach_path('C:\\\\Users\\\\julia\\\\Documents\\\\unb\\\\doutorado\\\\pensar\\\\codigo_sage_v2\\\\maquina\\\\x6')\n",
    "load('out_#011011.sage')\n",
    "\n",
    "m=matrix(QQ, [[0, 0, 0, 0, 1],\n",
    "              [0, 0, 1, 0, 0],\n",
    "              [0, 0, 0, 1, 0],\n",
    "              [0, 0, 0, 0, 0],\n",
    "              [0, 0, 0, 0, 0]])\n",
    "        \n",
    "#entry of matrix: (i,j) line i collum j, means (i-1,j-1)\n",
    "sol=solve([ eq1==m[0,2],\teq2==m[0,3],\teq3==m[0,4],\teq4==m[1,2],\t\n",
    "                                            eq5==m[1,3],    eq6==m[1,4],\n",
    "                                                            eq7==m[2,3], eq8==m[2,4]],d1,d2,d3,d4,d5,a12,a13,a14,a15,a23,a24,a25,a34,a35,a45, solution_dict=True)\n",
    "\n",
    "show(m)\n",
    "show(sol)\n",
    "latex(sol)"
   ]
  },
  {
   "cell_type": "code",
   "execution_count": 37,
   "metadata": {},
   "outputs": [
    {
     "data": {
      "text/html": [
       "<html><script type=\"math/tex; mode=display\">\\newcommand{\\Bold}[1]{\\mathbf{#1}}\\left(\\begin{array}{rrrrr}\n",
       "0 & 0 & 0 & 0 & 1 \\\\\n",
       "0 & 0 & 1 & 0 & 0 \\\\\n",
       "0 & 0 & 0 & 1 & 0 \\\\\n",
       "0 & 0 & 0 & 0 & 0 \\\\\n",
       "0 & 0 & 0 & 0 & 0\n",
       "\\end{array}\\right)</script></html>"
      ],
      "text/latex": [
       "$$\\newcommand{\\Bold}[1]{\\mathbf{#1}}\\left(\\begin{array}{rrrrr}\n",
       "0 & 0 & 0 & 0 & 1 \\\\\n",
       "0 & 0 & 1 & 0 & 0 \\\\\n",
       "0 & 0 & 0 & 1 & 0 \\\\\n",
       "0 & 0 & 0 & 0 & 0 \\\\\n",
       "0 & 0 & 0 & 0 & 0\n",
       "\\end{array}\\right)$$"
      ],
      "text/plain": [
       "[0 0 0 0 1]\n",
       "[0 0 1 0 0]\n",
       "[0 0 0 1 0]\n",
       "[0 0 0 0 0]\n",
       "[0 0 0 0 0]"
      ]
     },
     "metadata": {},
     "output_type": "display_data"
    },
    {
     "data": {
      "text/html": [
       "<html><script type=\"math/tex; mode=display\">\\newcommand{\\Bold}[1]{\\mathbf{#1}}\\left[\\left\\{d_{1} : r_{662}, d_{2} : 0, d_{3} : 0, d_{4} : 0, d_{5} : r_{663}, a_{12} : r_{664}, a_{13} : r_{665}, a_{14} : r_{666}, a_{15} : r_{667}, a_{23} : r_{668}, a_{24} : r_{669}, a_{25} : r_{670}, a_{34} : r_{671}, a_{35} : r_{672}, a_{45} : 0\\right\\}, \\left\\{d_{1} : r_{673}, d_{2} : r_{674}, d_{3} : \\frac{r_{674}}{x_{23}}, d_{4} : \\frac{r_{674}}{x_{23} x_{34}}, d_{5} : -\\frac{r_{673} x_{23}}{x_{13} x_{25}}, a_{12} : \\frac{r_{674} x_{13}}{x_{23}}, a_{13} : r_{675}, a_{14} : r_{676}, a_{15} : r_{677}, a_{23} : \\frac{r_{675} x_{23}^{2} x_{34} + r_{674} x_{13} x_{24}}{x_{13} x_{23} x_{34}}, a_{24} : r_{678}, a_{25} : r_{679}, a_{34} : \\frac{r_{675}}{x_{13}}, a_{35} : \\frac{r_{673}}{x_{13}}, a_{45} : 0\\right\\}\\right]</script></html>"
      ],
      "text/latex": [
       "$$\\newcommand{\\Bold}[1]{\\mathbf{#1}}\\left[\\left\\{d_{1} : r_{662}, d_{2} : 0, d_{3} : 0, d_{4} : 0, d_{5} : r_{663}, a_{12} : r_{664}, a_{13} : r_{665}, a_{14} : r_{666}, a_{15} : r_{667}, a_{23} : r_{668}, a_{24} : r_{669}, a_{25} : r_{670}, a_{34} : r_{671}, a_{35} : r_{672}, a_{45} : 0\\right\\}, \\left\\{d_{1} : r_{673}, d_{2} : r_{674}, d_{3} : \\frac{r_{674}}{x_{23}}, d_{4} : \\frac{r_{674}}{x_{23} x_{34}}, d_{5} : -\\frac{r_{673} x_{23}}{x_{13} x_{25}}, a_{12} : \\frac{r_{674} x_{13}}{x_{23}}, a_{13} : r_{675}, a_{14} : r_{676}, a_{15} : r_{677}, a_{23} : \\frac{r_{675} x_{23}^{2} x_{34} + r_{674} x_{13} x_{24}}{x_{13} x_{23} x_{34}}, a_{24} : r_{678}, a_{25} : r_{679}, a_{34} : \\frac{r_{675}}{x_{13}}, a_{35} : \\frac{r_{673}}{x_{13}}, a_{45} : 0\\right\\}\\right]$$"
      ],
      "text/plain": [
       "[{d1: r662,\n",
       "  d2: 0,\n",
       "  d3: 0,\n",
       "  d4: 0,\n",
       "  d5: r663,\n",
       "  a12: r664,\n",
       "  a13: r665,\n",
       "  a14: r666,\n",
       "  a15: r667,\n",
       "  a23: r668,\n",
       "  a24: r669,\n",
       "  a25: r670,\n",
       "  a34: r671,\n",
       "  a35: r672,\n",
       "  a45: 0},\n",
       " {d1: r673,\n",
       "  d2: r674,\n",
       "  d3: r674/x23,\n",
       "  d4: r674/(x23*x34),\n",
       "  d5: -r673*x23/(x13*x25),\n",
       "  a12: r674*x13/x23,\n",
       "  a13: r675,\n",
       "  a14: r676,\n",
       "  a15: r677,\n",
       "  a23: (r675*x23^2*x34 + r674*x13*x24)/(x13*x23*x34),\n",
       "  a24: r678,\n",
       "  a25: r679,\n",
       "  a34: r675/x13,\n",
       "  a35: r673/x13,\n",
       "  a45: 0}]"
      ]
     },
     "metadata": {},
     "output_type": "display_data"
    },
    {
     "data": {
      "text/plain": [
       "\\left[\\left\\{d_{1} : r_{662}, d_{2} : 0, d_{3} : 0, d_{4} : 0, d_{5} : r_{663}, a_{12} : r_{664}, a_{13} : r_{665}, a_{14} : r_{666}, a_{15} : r_{667}, a_{23} : r_{668}, a_{24} : r_{669}, a_{25} : r_{670}, a_{34} : r_{671}, a_{35} : r_{672}, a_{45} : 0\\right\\}, \\left\\{d_{1} : r_{673}, d_{2} : r_{674}, d_{3} : \\frac{r_{674}}{x_{23}}, d_{4} : \\frac{r_{674}}{x_{23} x_{34}}, d_{5} : -\\frac{r_{673} x_{23}}{x_{13} x_{25}}, a_{12} : \\frac{r_{674} x_{13}}{x_{23}}, a_{13} : r_{675}, a_{14} : r_{676}, a_{15} : r_{677}, a_{23} : \\frac{r_{675} x_{23}^{2} x_{34} + r_{674} x_{13} x_{24}}{x_{13} x_{23} x_{34}}, a_{24} : r_{678}, a_{25} : r_{679}, a_{34} : \\frac{r_{675}}{x_{13}}, a_{35} : \\frac{r_{673}}{x_{13}}, a_{45} : 0\\right\\}\\right]"
      ]
     },
     "execution_count": 37,
     "metadata": {},
     "output_type": "execute_result"
    }
   ],
   "source": [
    "#x6\n",
    "reset()\n",
    "\n",
    "var('x12,x13,x14,x15,x23,x24,x25,x34,x35,x45')\n",
    "var('d1,d2,d3,d4,d5')\n",
    "var('a12,a13,a14,a15,a23,a24,a25,a34,a35,a45')\n",
    "\n",
    "load_attach_path('C:\\\\Users\\\\julia\\\\Documents\\\\unb\\\\doutorado\\\\pensar\\\\codigo_sage_v2\\\\maquina\\\\x6')\n",
    "load('out_#011100.sage')\n",
    "\n",
    "m=matrix(QQ, [[0, 0, 0, 0, 1],\n",
    "              [0, 0, 1, 0, 0],\n",
    "              [0, 0, 0, 1, 0],\n",
    "              [0, 0, 0, 0, 0],\n",
    "              [0, 0, 0, 0, 0]])\n",
    "        \n",
    "#entry of matrix: (i,j) line i collum j, means (i-1,j-1)\n",
    "sol=solve([ eq1==m[0,2],\teq2==m[0,3],\teq3==m[0,4],\teq4==m[1,2],\t\n",
    "                                            eq5==m[1,3],    eq6==m[1,4],\n",
    "                                                            eq7==m[2,3], eq8==m[2,4]],d1,d2,d3,d4,d5,a12,a13,a14,a15,a23,a24,a25,a34,a35,a45, solution_dict=True)\n",
    "\n",
    "show(m)\n",
    "show(sol)\n",
    "latex(sol)"
   ]
  },
  {
   "cell_type": "code",
   "execution_count": 38,
   "metadata": {},
   "outputs": [
    {
     "data": {
      "text/html": [
       "<html><script type=\"math/tex; mode=display\">\\newcommand{\\Bold}[1]{\\mathbf{#1}}\\left(\\begin{array}{rrrrr}\n",
       "0 & 0 & 0 & 0 & 1 \\\\\n",
       "0 & 0 & 1 & 0 & 0 \\\\\n",
       "0 & 0 & 0 & 1 & 0 \\\\\n",
       "0 & 0 & 0 & 0 & 0 \\\\\n",
       "0 & 0 & 0 & 0 & 0\n",
       "\\end{array}\\right)</script></html>"
      ],
      "text/latex": [
       "$$\\newcommand{\\Bold}[1]{\\mathbf{#1}}\\left(\\begin{array}{rrrrr}\n",
       "0 & 0 & 0 & 0 & 1 \\\\\n",
       "0 & 0 & 1 & 0 & 0 \\\\\n",
       "0 & 0 & 0 & 1 & 0 \\\\\n",
       "0 & 0 & 0 & 0 & 0 \\\\\n",
       "0 & 0 & 0 & 0 & 0\n",
       "\\end{array}\\right)$$"
      ],
      "text/plain": [
       "[0 0 0 0 1]\n",
       "[0 0 1 0 0]\n",
       "[0 0 0 1 0]\n",
       "[0 0 0 0 0]\n",
       "[0 0 0 0 0]"
      ]
     },
     "metadata": {},
     "output_type": "display_data"
    },
    {
     "data": {
      "text/html": [
       "<html><script type=\"math/tex; mode=display\">\\newcommand{\\Bold}[1]{\\mathbf{#1}}\\left[\\left\\{d_{1} : r_{680}, d_{2} : 0, d_{3} : 0, d_{4} : 0, d_{5} : r_{681}, a_{12} : r_{682}, a_{13} : r_{683}, a_{14} : r_{684}, a_{15} : r_{685}, a_{23} : r_{686}, a_{24} : r_{687}, a_{25} : r_{688}, a_{34} : r_{689}, a_{35} : r_{690}, a_{45} : 0\\right\\}, \\left\\{d_{1} : r_{691}, d_{2} : r_{692}, d_{3} : \\frac{r_{692}}{x_{23}}, d_{4} : \\frac{r_{692}}{x_{23} x_{34}}, d_{5} : \\frac{r_{691} x_{23}}{x_{15} x_{23} - x_{13} x_{25}}, a_{12} : \\frac{r_{692} x_{13}}{x_{23}}, a_{13} : r_{693}, a_{14} : r_{694}, a_{15} : r_{695}, a_{23} : \\frac{r_{693} x_{23}^{2} x_{34} + r_{692} x_{13} x_{24}}{x_{13} x_{23} x_{34}}, a_{24} : r_{696}, a_{25} : r_{697}, a_{34} : \\frac{r_{693}}{x_{13}}, a_{35} : -\\frac{r_{691} x_{25}}{x_{15} x_{23} - x_{13} x_{25}}, a_{45} : 0\\right\\}\\right]</script></html>"
      ],
      "text/latex": [
       "$$\\newcommand{\\Bold}[1]{\\mathbf{#1}}\\left[\\left\\{d_{1} : r_{680}, d_{2} : 0, d_{3} : 0, d_{4} : 0, d_{5} : r_{681}, a_{12} : r_{682}, a_{13} : r_{683}, a_{14} : r_{684}, a_{15} : r_{685}, a_{23} : r_{686}, a_{24} : r_{687}, a_{25} : r_{688}, a_{34} : r_{689}, a_{35} : r_{690}, a_{45} : 0\\right\\}, \\left\\{d_{1} : r_{691}, d_{2} : r_{692}, d_{3} : \\frac{r_{692}}{x_{23}}, d_{4} : \\frac{r_{692}}{x_{23} x_{34}}, d_{5} : \\frac{r_{691} x_{23}}{x_{15} x_{23} - x_{13} x_{25}}, a_{12} : \\frac{r_{692} x_{13}}{x_{23}}, a_{13} : r_{693}, a_{14} : r_{694}, a_{15} : r_{695}, a_{23} : \\frac{r_{693} x_{23}^{2} x_{34} + r_{692} x_{13} x_{24}}{x_{13} x_{23} x_{34}}, a_{24} : r_{696}, a_{25} : r_{697}, a_{34} : \\frac{r_{693}}{x_{13}}, a_{35} : -\\frac{r_{691} x_{25}}{x_{15} x_{23} - x_{13} x_{25}}, a_{45} : 0\\right\\}\\right]$$"
      ],
      "text/plain": [
       "[{d1: r680,\n",
       "  d2: 0,\n",
       "  d3: 0,\n",
       "  d4: 0,\n",
       "  d5: r681,\n",
       "  a12: r682,\n",
       "  a13: r683,\n",
       "  a14: r684,\n",
       "  a15: r685,\n",
       "  a23: r686,\n",
       "  a24: r687,\n",
       "  a25: r688,\n",
       "  a34: r689,\n",
       "  a35: r690,\n",
       "  a45: 0},\n",
       " {d1: r691,\n",
       "  d2: r692,\n",
       "  d3: r692/x23,\n",
       "  d4: r692/(x23*x34),\n",
       "  d5: r691*x23/(x15*x23 - x13*x25),\n",
       "  a12: r692*x13/x23,\n",
       "  a13: r693,\n",
       "  a14: r694,\n",
       "  a15: r695,\n",
       "  a23: (r693*x23^2*x34 + r692*x13*x24)/(x13*x23*x34),\n",
       "  a24: r696,\n",
       "  a25: r697,\n",
       "  a34: r693/x13,\n",
       "  a35: -r691*x25/(x15*x23 - x13*x25),\n",
       "  a45: 0}]"
      ]
     },
     "metadata": {},
     "output_type": "display_data"
    },
    {
     "data": {
      "text/plain": [
       "\\left[\\left\\{d_{1} : r_{680}, d_{2} : 0, d_{3} : 0, d_{4} : 0, d_{5} : r_{681}, a_{12} : r_{682}, a_{13} : r_{683}, a_{14} : r_{684}, a_{15} : r_{685}, a_{23} : r_{686}, a_{24} : r_{687}, a_{25} : r_{688}, a_{34} : r_{689}, a_{35} : r_{690}, a_{45} : 0\\right\\}, \\left\\{d_{1} : r_{691}, d_{2} : r_{692}, d_{3} : \\frac{r_{692}}{x_{23}}, d_{4} : \\frac{r_{692}}{x_{23} x_{34}}, d_{5} : \\frac{r_{691} x_{23}}{x_{15} x_{23} - x_{13} x_{25}}, a_{12} : \\frac{r_{692} x_{13}}{x_{23}}, a_{13} : r_{693}, a_{14} : r_{694}, a_{15} : r_{695}, a_{23} : \\frac{r_{693} x_{23}^{2} x_{34} + r_{692} x_{13} x_{24}}{x_{13} x_{23} x_{34}}, a_{24} : r_{696}, a_{25} : r_{697}, a_{34} : \\frac{r_{693}}{x_{13}}, a_{35} : -\\frac{r_{691} x_{25}}{x_{15} x_{23} - x_{13} x_{25}}, a_{45} : 0\\right\\}\\right]"
      ]
     },
     "execution_count": 38,
     "metadata": {},
     "output_type": "execute_result"
    }
   ],
   "source": [
    "#x6\n",
    "#----------------------\n",
    "#x15 \\dif x13*x25/x23\n",
    "#----------------------\n",
    "reset()\n",
    "\n",
    "var('x12,x13,x14,x15,x23,x24,x25,x34,x35,x45')\n",
    "var('d1,d2,d3,d4,d5')\n",
    "var('a12,a13,a14,a15,a23,a24,a25,a34,a35,a45')\n",
    "\n",
    "load_attach_path('C:\\\\Users\\\\julia\\\\Documents\\\\unb\\\\doutorado\\\\pensar\\\\codigo_sage_v2\\\\maquina\\\\x6')\n",
    "load('out_#011101.sage')\n",
    "\n",
    "m=matrix(QQ, [[0, 0, 0, 0, 1],\n",
    "              [0, 0, 1, 0, 0],\n",
    "              [0, 0, 0, 1, 0],\n",
    "              [0, 0, 0, 0, 0],\n",
    "              [0, 0, 0, 0, 0]])\n",
    "        \n",
    "#entry of matrix: (i,j) line i collum j, means (i-1,j-1)\n",
    "sol=solve([ eq1==m[0,2],\teq2==m[0,3],\teq3==m[0,4],\teq4==m[1,2],\t\n",
    "                                            eq5==m[1,3],    eq6==m[1,4],\n",
    "                                                            eq7==m[2,3], eq8==m[2,4]],d1,d2,d3,d4,d5,a12,a13,a14,a15,a23,a24,a25,a34,a35,a45, solution_dict=True)\n",
    "\n",
    "show(m)\n",
    "show(sol)\n",
    "latex(sol)"
   ]
  },
  {
   "cell_type": "code",
   "execution_count": 33,
   "metadata": {},
   "outputs": [
    {
     "data": {
      "text/html": [
       "<html><script type=\"math/tex; mode=display\">\\newcommand{\\Bold}[1]{\\mathbf{#1}}\\left(\\begin{array}{rrrrr}\n",
       "0 & 0 & 0 & 0 & 0 \\\\\n",
       "0 & 0 & 1 & 0 & 0 \\\\\n",
       "0 & 0 & 0 & 1 & 0 \\\\\n",
       "0 & 0 & 0 & 0 & 0 \\\\\n",
       "0 & 0 & 0 & 0 & 0\n",
       "\\end{array}\\right)</script></html>"
      ],
      "text/latex": [
       "$$\\newcommand{\\Bold}[1]{\\mathbf{#1}}\\left(\\begin{array}{rrrrr}\n",
       "0 & 0 & 0 & 0 & 0 \\\\\n",
       "0 & 0 & 1 & 0 & 0 \\\\\n",
       "0 & 0 & 0 & 1 & 0 \\\\\n",
       "0 & 0 & 0 & 0 & 0 \\\\\n",
       "0 & 0 & 0 & 0 & 0\n",
       "\\end{array}\\right)$$"
      ],
      "text/plain": [
       "[0 0 0 0 0]\n",
       "[0 0 1 0 0]\n",
       "[0 0 0 1 0]\n",
       "[0 0 0 0 0]\n",
       "[0 0 0 0 0]"
      ]
     },
     "metadata": {},
     "output_type": "display_data"
    },
    {
     "data": {
      "text/html": [
       "<html><script type=\"math/tex; mode=display\">\\newcommand{\\Bold}[1]{\\mathbf{#1}}\\left[\\left\\{d_{1} : r_{663}, d_{2} : 0, d_{3} : 0, d_{4} : 0, d_{5} : r_{664}, a_{12} : r_{665}, a_{13} : r_{666}, a_{14} : r_{667}, a_{15} : r_{668}, a_{23} : r_{669}, a_{24} : r_{670}, a_{25} : r_{671}, a_{34} : r_{672}, a_{35} : r_{673}, a_{45} : 0\\right\\}, \\left\\{d_{1} : r_{674}, d_{2} : r_{675}, d_{3} : \\frac{r_{675}}{x_{23}}, d_{4} : \\frac{r_{675}}{x_{23} x_{34}}, d_{5} : r_{676}, a_{12} : \\frac{r_{675} x_{13}}{x_{23}}, a_{13} : r_{677}, a_{14} : r_{678}, a_{15} : r_{679}, a_{23} : \\frac{r_{677} x_{23}^{2} x_{34} + r_{675} x_{13} x_{24}}{x_{13} x_{23} x_{34}}, a_{24} : r_{680}, a_{25} : r_{681}, a_{34} : \\frac{r_{677}}{x_{13}}, a_{35} : -\\frac{r_{676} x_{25}}{x_{23}}, a_{45} : 0\\right\\}\\right]</script></html>"
      ],
      "text/latex": [
       "$$\\newcommand{\\Bold}[1]{\\mathbf{#1}}\\left[\\left\\{d_{1} : r_{663}, d_{2} : 0, d_{3} : 0, d_{4} : 0, d_{5} : r_{664}, a_{12} : r_{665}, a_{13} : r_{666}, a_{14} : r_{667}, a_{15} : r_{668}, a_{23} : r_{669}, a_{24} : r_{670}, a_{25} : r_{671}, a_{34} : r_{672}, a_{35} : r_{673}, a_{45} : 0\\right\\}, \\left\\{d_{1} : r_{674}, d_{2} : r_{675}, d_{3} : \\frac{r_{675}}{x_{23}}, d_{4} : \\frac{r_{675}}{x_{23} x_{34}}, d_{5} : r_{676}, a_{12} : \\frac{r_{675} x_{13}}{x_{23}}, a_{13} : r_{677}, a_{14} : r_{678}, a_{15} : r_{679}, a_{23} : \\frac{r_{677} x_{23}^{2} x_{34} + r_{675} x_{13} x_{24}}{x_{13} x_{23} x_{34}}, a_{24} : r_{680}, a_{25} : r_{681}, a_{34} : \\frac{r_{677}}{x_{13}}, a_{35} : -\\frac{r_{676} x_{25}}{x_{23}}, a_{45} : 0\\right\\}\\right]$$"
      ],
      "text/plain": [
       "[{d1: r663,\n",
       "  d2: 0,\n",
       "  d3: 0,\n",
       "  d4: 0,\n",
       "  d5: r664,\n",
       "  a12: r665,\n",
       "  a13: r666,\n",
       "  a14: r667,\n",
       "  a15: r668,\n",
       "  a23: r669,\n",
       "  a24: r670,\n",
       "  a25: r671,\n",
       "  a34: r672,\n",
       "  a35: r673,\n",
       "  a45: 0},\n",
       " {d1: r674,\n",
       "  d2: r675,\n",
       "  d3: r675/x23,\n",
       "  d4: r675/(x23*x34),\n",
       "  d5: r676,\n",
       "  a12: r675*x13/x23,\n",
       "  a13: r677,\n",
       "  a14: r678,\n",
       "  a15: r679,\n",
       "  a23: (r677*x23^2*x34 + r675*x13*x24)/(x13*x23*x34),\n",
       "  a24: r680,\n",
       "  a25: r681,\n",
       "  a34: r677/x13,\n",
       "  a35: -r676*x25/x23,\n",
       "  a45: 0}]"
      ]
     },
     "metadata": {},
     "output_type": "display_data"
    },
    {
     "data": {
      "text/plain": [
       "\\left[\\left\\{d_{1} : r_{663}, d_{2} : 0, d_{3} : 0, d_{4} : 0, d_{5} : r_{664}, a_{12} : r_{665}, a_{13} : r_{666}, a_{14} : r_{667}, a_{15} : r_{668}, a_{23} : r_{669}, a_{24} : r_{670}, a_{25} : r_{671}, a_{34} : r_{672}, a_{35} : r_{673}, a_{45} : 0\\right\\}, \\left\\{d_{1} : r_{674}, d_{2} : r_{675}, d_{3} : \\frac{r_{675}}{x_{23}}, d_{4} : \\frac{r_{675}}{x_{23} x_{34}}, d_{5} : r_{676}, a_{12} : \\frac{r_{675} x_{13}}{x_{23}}, a_{13} : r_{677}, a_{14} : r_{678}, a_{15} : r_{679}, a_{23} : \\frac{r_{677} x_{23}^{2} x_{34} + r_{675} x_{13} x_{24}}{x_{13} x_{23} x_{34}}, a_{24} : r_{680}, a_{25} : r_{681}, a_{34} : \\frac{r_{677}}{x_{13}}, a_{35} : -\\frac{r_{676} x_{25}}{x_{23}}, a_{45} : 0\\right\\}\\right]"
      ]
     },
     "execution_count": 33,
     "metadata": {},
     "output_type": "execute_result"
    }
   ],
   "source": [
    "#x6\n",
    "#----------------------\n",
    "#x15 = x13*x25/x23\n",
    "#----------------------\n",
    "reset()\n",
    "\n",
    "var('x12,x13,x14,x15,x23,x24,x25,x34,x35,x45')\n",
    "var('d1,d2,d3,d4,d5')\n",
    "var('a12,a13,a14,a15,a23,a24,a25,a34,a35,a45')\n",
    "\n",
    "#011101\n",
    "eq1=(d2*d3*x13-a12*d3*x23)/(d1*d2) \n",
    "eq2=(a34*d2*d3*x13+d2*d3*d4*0-a12*a34*d3*x23-a12*d3*d4*x24+a12*a23*d4*x34-a13*d2*d4*x34)/(d1*d2*d3) \n",
    "eq3=(a35*d2*d3*x13+a45*d2*d3*0+d2*d3*d5*((x13*x25)/x23)-a12*a35*d3*x23-a12*a45*d3*x24-a12*d3*d5*x25+a12*a23*a45*x34-a13*a45*d2*x34+a12*a23*d5*0-a13*d2*d5*0)/(d1*d2*d3) \n",
    "eq4=(d3*x23)/(d2) \n",
    "eq5=(a34*d3*x23+d3*d4*x24-a23*d4*x34)/(d2*d3) \n",
    "eq6=(a35*d3*x23+a45*d3*x24+d3*d5*x25-a23*a45*x34-a23*d5*0)/(d2*d3) \n",
    "eq7=(d4*x34)/(d3) \n",
    "eq8=(a45*x34+d5*0)/(d3) \n",
    "\n",
    "m=matrix(QQ, [[0, 0, 0, 0, 0],\n",
    "              [0, 0, 1, 0, 0],\n",
    "              [0, 0, 0, 1, 0],\n",
    "              [0, 0, 0, 0, 0],\n",
    "              [0, 0, 0, 0, 0]])\n",
    "        \n",
    "#entry of matrix: (i,j) line i collum j, means (i-1,j-1)\n",
    "sol=solve([ eq1==m[0,2],\teq2==m[0,3],\teq3==m[0,4],\teq4==m[1,2],\t\n",
    "                                            eq5==m[1,3],    eq6==m[1,4],\n",
    "                                                            eq7==m[2,3], eq8==m[2,4]],d1,d2,d3,d4,d5,a12,a13,a14,a15,a23,a24,a25,a34,a35,a45, solution_dict=True)\n",
    "\n",
    "show(m)\n",
    "show(sol)\n",
    "latex(sol)"
   ]
  },
  {
   "cell_type": "code",
   "execution_count": 40,
   "metadata": {},
   "outputs": [
    {
     "data": {
      "text/html": [
       "<html><script type=\"math/tex; mode=display\">\\newcommand{\\Bold}[1]{\\mathbf{#1}}\\left(\\begin{array}{rrrrr}\n",
       "0 & 0 & 0 & 0 & 1 \\\\\n",
       "0 & 0 & 1 & 0 & 0 \\\\\n",
       "0 & 0 & 0 & 1 & 0 \\\\\n",
       "0 & 0 & 0 & 0 & 0 \\\\\n",
       "0 & 0 & 0 & 0 & 0\n",
       "\\end{array}\\right)</script></html>"
      ],
      "text/latex": [
       "$$\\newcommand{\\Bold}[1]{\\mathbf{#1}}\\left(\\begin{array}{rrrrr}\n",
       "0 & 0 & 0 & 0 & 1 \\\\\n",
       "0 & 0 & 1 & 0 & 0 \\\\\n",
       "0 & 0 & 0 & 1 & 0 \\\\\n",
       "0 & 0 & 0 & 0 & 0 \\\\\n",
       "0 & 0 & 0 & 0 & 0\n",
       "\\end{array}\\right)$$"
      ],
      "text/plain": [
       "[0 0 0 0 1]\n",
       "[0 0 1 0 0]\n",
       "[0 0 0 1 0]\n",
       "[0 0 0 0 0]\n",
       "[0 0 0 0 0]"
      ]
     },
     "metadata": {},
     "output_type": "display_data"
    },
    {
     "data": {
      "text/html": [
       "<html><script type=\"math/tex; mode=display\">\\newcommand{\\Bold}[1]{\\mathbf{#1}}\\left[\\left\\{d_{1} : r_{716}, d_{2} : 0, d_{3} : 0, d_{4} : 0, d_{5} : r_{717}, a_{12} : r_{718}, a_{13} : r_{719}, a_{14} : r_{720}, a_{15} : r_{721}, a_{23} : r_{722}, a_{24} : r_{723}, a_{25} : r_{724}, a_{34} : r_{725}, a_{35} : r_{726}, a_{45} : 0\\right\\}, \\left\\{d_{1} : r_{727}, d_{2} : r_{728}, d_{3} : \\frac{r_{728}}{x_{23}}, d_{4} : \\frac{r_{728}}{x_{23} x_{34}}, d_{5} : -\\frac{r_{727} x_{23}}{x_{13} x_{25}}, a_{12} : \\frac{r_{728} x_{13}}{x_{23}}, a_{13} : r_{729}, a_{14} : r_{730}, a_{15} : r_{731}, a_{23} : \\frac{r_{729} x_{23}^{2} x_{34} - r_{728} x_{14} x_{23} + r_{728} x_{13} x_{24}}{x_{13} x_{23} x_{34}}, a_{24} : r_{732}, a_{25} : r_{733}, a_{34} : \\frac{r_{729} x_{23} x_{34} - r_{728} x_{14}}{x_{13} x_{23} x_{34}}, a_{35} : \\frac{r_{727}}{x_{13}}, a_{45} : 0\\right\\}\\right]</script></html>"
      ],
      "text/latex": [
       "$$\\newcommand{\\Bold}[1]{\\mathbf{#1}}\\left[\\left\\{d_{1} : r_{716}, d_{2} : 0, d_{3} : 0, d_{4} : 0, d_{5} : r_{717}, a_{12} : r_{718}, a_{13} : r_{719}, a_{14} : r_{720}, a_{15} : r_{721}, a_{23} : r_{722}, a_{24} : r_{723}, a_{25} : r_{724}, a_{34} : r_{725}, a_{35} : r_{726}, a_{45} : 0\\right\\}, \\left\\{d_{1} : r_{727}, d_{2} : r_{728}, d_{3} : \\frac{r_{728}}{x_{23}}, d_{4} : \\frac{r_{728}}{x_{23} x_{34}}, d_{5} : -\\frac{r_{727} x_{23}}{x_{13} x_{25}}, a_{12} : \\frac{r_{728} x_{13}}{x_{23}}, a_{13} : r_{729}, a_{14} : r_{730}, a_{15} : r_{731}, a_{23} : \\frac{r_{729} x_{23}^{2} x_{34} - r_{728} x_{14} x_{23} + r_{728} x_{13} x_{24}}{x_{13} x_{23} x_{34}}, a_{24} : r_{732}, a_{25} : r_{733}, a_{34} : \\frac{r_{729} x_{23} x_{34} - r_{728} x_{14}}{x_{13} x_{23} x_{34}}, a_{35} : \\frac{r_{727}}{x_{13}}, a_{45} : 0\\right\\}\\right]$$"
      ],
      "text/plain": [
       "[{d1: r716,\n",
       "  d2: 0,\n",
       "  d3: 0,\n",
       "  d4: 0,\n",
       "  d5: r717,\n",
       "  a12: r718,\n",
       "  a13: r719,\n",
       "  a14: r720,\n",
       "  a15: r721,\n",
       "  a23: r722,\n",
       "  a24: r723,\n",
       "  a25: r724,\n",
       "  a34: r725,\n",
       "  a35: r726,\n",
       "  a45: 0},\n",
       " {d1: r727,\n",
       "  d2: r728,\n",
       "  d3: r728/x23,\n",
       "  d4: r728/(x23*x34),\n",
       "  d5: -r727*x23/(x13*x25),\n",
       "  a12: r728*x13/x23,\n",
       "  a13: r729,\n",
       "  a14: r730,\n",
       "  a15: r731,\n",
       "  a23: (r729*x23^2*x34 - r728*x14*x23 + r728*x13*x24)/(x13*x23*x34),\n",
       "  a24: r732,\n",
       "  a25: r733,\n",
       "  a34: (r729*x23*x34 - r728*x14)/(x13*x23*x34),\n",
       "  a35: r727/x13,\n",
       "  a45: 0}]"
      ]
     },
     "metadata": {},
     "output_type": "display_data"
    },
    {
     "data": {
      "text/plain": [
       "\\left[\\left\\{d_{1} : r_{716}, d_{2} : 0, d_{3} : 0, d_{4} : 0, d_{5} : r_{717}, a_{12} : r_{718}, a_{13} : r_{719}, a_{14} : r_{720}, a_{15} : r_{721}, a_{23} : r_{722}, a_{24} : r_{723}, a_{25} : r_{724}, a_{34} : r_{725}, a_{35} : r_{726}, a_{45} : 0\\right\\}, \\left\\{d_{1} : r_{727}, d_{2} : r_{728}, d_{3} : \\frac{r_{728}}{x_{23}}, d_{4} : \\frac{r_{728}}{x_{23} x_{34}}, d_{5} : -\\frac{r_{727} x_{23}}{x_{13} x_{25}}, a_{12} : \\frac{r_{728} x_{13}}{x_{23}}, a_{13} : r_{729}, a_{14} : r_{730}, a_{15} : r_{731}, a_{23} : \\frac{r_{729} x_{23}^{2} x_{34} - r_{728} x_{14} x_{23} + r_{728} x_{13} x_{24}}{x_{13} x_{23} x_{34}}, a_{24} : r_{732}, a_{25} : r_{733}, a_{34} : \\frac{r_{729} x_{23} x_{34} - r_{728} x_{14}}{x_{13} x_{23} x_{34}}, a_{35} : \\frac{r_{727}}{x_{13}}, a_{45} : 0\\right\\}\\right]"
      ]
     },
     "execution_count": 40,
     "metadata": {},
     "output_type": "execute_result"
    }
   ],
   "source": [
    "#x6\n",
    "reset()\n",
    "\n",
    "var('x12,x13,x14,x15,x23,x24,x25,x34,x35,x45')\n",
    "var('d1,d2,d3,d4,d5')\n",
    "var('a12,a13,a14,a15,a23,a24,a25,a34,a35,a45')\n",
    "\n",
    "load_attach_path('C:\\\\Users\\\\julia\\\\Documents\\\\unb\\\\doutorado\\\\pensar\\\\codigo_sage_v2\\\\maquina\\\\x6')\n",
    "load('out_#011110.sage')\n",
    "\n",
    "m=matrix(QQ, [[0, 0, 0, 0, 1],\n",
    "              [0, 0, 1, 0, 0],\n",
    "              [0, 0, 0, 1, 0],\n",
    "              [0, 0, 0, 0, 0],\n",
    "              [0, 0, 0, 0, 0]])\n",
    "        \n",
    "#entry of matrix: (i,j) line i collum j, means (i-1,j-1)\n",
    "sol=solve([ eq1==m[0,2],\teq2==m[0,3],\teq3==m[0,4],\teq4==m[1,2],\t\n",
    "                                            eq5==m[1,3],    eq6==m[1,4],\n",
    "                                                            eq7==m[2,3], eq8==m[2,4]],d1,d2,d3,d4,d5,a12,a13,a14,a15,a23,a24,a25,a34,a35,a45, solution_dict=True)\n",
    "\n",
    "show(m)\n",
    "show(sol)\n",
    "latex(sol)"
   ]
  },
  {
   "cell_type": "code",
   "execution_count": 41,
   "metadata": {},
   "outputs": [
    {
     "data": {
      "text/html": [
       "<html><script type=\"math/tex; mode=display\">\\newcommand{\\Bold}[1]{\\mathbf{#1}}\\left(\\begin{array}{rrrrr}\n",
       "0 & 0 & 0 & 0 & 1 \\\\\n",
       "0 & 0 & 1 & 0 & 0 \\\\\n",
       "0 & 0 & 0 & 1 & 0 \\\\\n",
       "0 & 0 & 0 & 0 & 0 \\\\\n",
       "0 & 0 & 0 & 0 & 0\n",
       "\\end{array}\\right)</script></html>"
      ],
      "text/latex": [
       "$$\\newcommand{\\Bold}[1]{\\mathbf{#1}}\\left(\\begin{array}{rrrrr}\n",
       "0 & 0 & 0 & 0 & 1 \\\\\n",
       "0 & 0 & 1 & 0 & 0 \\\\\n",
       "0 & 0 & 0 & 1 & 0 \\\\\n",
       "0 & 0 & 0 & 0 & 0 \\\\\n",
       "0 & 0 & 0 & 0 & 0\n",
       "\\end{array}\\right)$$"
      ],
      "text/plain": [
       "[0 0 0 0 1]\n",
       "[0 0 1 0 0]\n",
       "[0 0 0 1 0]\n",
       "[0 0 0 0 0]\n",
       "[0 0 0 0 0]"
      ]
     },
     "metadata": {},
     "output_type": "display_data"
    },
    {
     "data": {
      "text/html": [
       "<html><script type=\"math/tex; mode=display\">\\newcommand{\\Bold}[1]{\\mathbf{#1}}\\left[\\left\\{d_{1} : r_{734}, d_{2} : 0, d_{3} : 0, d_{4} : 0, d_{5} : r_{735}, a_{12} : r_{736}, a_{13} : r_{737}, a_{14} : r_{738}, a_{15} : r_{739}, a_{23} : r_{740}, a_{24} : r_{741}, a_{25} : r_{742}, a_{34} : r_{743}, a_{35} : r_{744}, a_{45} : 0\\right\\}, \\left\\{d_{1} : r_{745}, d_{2} : r_{746}, d_{3} : \\frac{r_{746}}{x_{23}}, d_{4} : \\frac{r_{746}}{x_{23} x_{34}}, d_{5} : \\frac{r_{745} x_{23}}{x_{15} x_{23} - x_{13} x_{25}}, a_{12} : \\frac{r_{746} x_{13}}{x_{23}}, a_{13} : r_{747}, a_{14} : r_{748}, a_{15} : r_{749}, a_{23} : \\frac{r_{747} x_{23}^{2} x_{34} - r_{746} x_{14} x_{23} + r_{746} x_{13} x_{24}}{x_{13} x_{23} x_{34}}, a_{24} : r_{750}, a_{25} : r_{751}, a_{34} : \\frac{r_{747} x_{23} x_{34} - r_{746} x_{14}}{x_{13} x_{23} x_{34}}, a_{35} : -\\frac{r_{745} x_{25}}{x_{15} x_{23} - x_{13} x_{25}}, a_{45} : 0\\right\\}\\right]</script></html>"
      ],
      "text/latex": [
       "$$\\newcommand{\\Bold}[1]{\\mathbf{#1}}\\left[\\left\\{d_{1} : r_{734}, d_{2} : 0, d_{3} : 0, d_{4} : 0, d_{5} : r_{735}, a_{12} : r_{736}, a_{13} : r_{737}, a_{14} : r_{738}, a_{15} : r_{739}, a_{23} : r_{740}, a_{24} : r_{741}, a_{25} : r_{742}, a_{34} : r_{743}, a_{35} : r_{744}, a_{45} : 0\\right\\}, \\left\\{d_{1} : r_{745}, d_{2} : r_{746}, d_{3} : \\frac{r_{746}}{x_{23}}, d_{4} : \\frac{r_{746}}{x_{23} x_{34}}, d_{5} : \\frac{r_{745} x_{23}}{x_{15} x_{23} - x_{13} x_{25}}, a_{12} : \\frac{r_{746} x_{13}}{x_{23}}, a_{13} : r_{747}, a_{14} : r_{748}, a_{15} : r_{749}, a_{23} : \\frac{r_{747} x_{23}^{2} x_{34} - r_{746} x_{14} x_{23} + r_{746} x_{13} x_{24}}{x_{13} x_{23} x_{34}}, a_{24} : r_{750}, a_{25} : r_{751}, a_{34} : \\frac{r_{747} x_{23} x_{34} - r_{746} x_{14}}{x_{13} x_{23} x_{34}}, a_{35} : -\\frac{r_{745} x_{25}}{x_{15} x_{23} - x_{13} x_{25}}, a_{45} : 0\\right\\}\\right]$$"
      ],
      "text/plain": [
       "[{d1: r734,\n",
       "  d2: 0,\n",
       "  d3: 0,\n",
       "  d4: 0,\n",
       "  d5: r735,\n",
       "  a12: r736,\n",
       "  a13: r737,\n",
       "  a14: r738,\n",
       "  a15: r739,\n",
       "  a23: r740,\n",
       "  a24: r741,\n",
       "  a25: r742,\n",
       "  a34: r743,\n",
       "  a35: r744,\n",
       "  a45: 0},\n",
       " {d1: r745,\n",
       "  d2: r746,\n",
       "  d3: r746/x23,\n",
       "  d4: r746/(x23*x34),\n",
       "  d5: r745*x23/(x15*x23 - x13*x25),\n",
       "  a12: r746*x13/x23,\n",
       "  a13: r747,\n",
       "  a14: r748,\n",
       "  a15: r749,\n",
       "  a23: (r747*x23^2*x34 - r746*x14*x23 + r746*x13*x24)/(x13*x23*x34),\n",
       "  a24: r750,\n",
       "  a25: r751,\n",
       "  a34: (r747*x23*x34 - r746*x14)/(x13*x23*x34),\n",
       "  a35: -r745*x25/(x15*x23 - x13*x25),\n",
       "  a45: 0}]"
      ]
     },
     "metadata": {},
     "output_type": "display_data"
    },
    {
     "data": {
      "text/plain": [
       "\\left[\\left\\{d_{1} : r_{734}, d_{2} : 0, d_{3} : 0, d_{4} : 0, d_{5} : r_{735}, a_{12} : r_{736}, a_{13} : r_{737}, a_{14} : r_{738}, a_{15} : r_{739}, a_{23} : r_{740}, a_{24} : r_{741}, a_{25} : r_{742}, a_{34} : r_{743}, a_{35} : r_{744}, a_{45} : 0\\right\\}, \\left\\{d_{1} : r_{745}, d_{2} : r_{746}, d_{3} : \\frac{r_{746}}{x_{23}}, d_{4} : \\frac{r_{746}}{x_{23} x_{34}}, d_{5} : \\frac{r_{745} x_{23}}{x_{15} x_{23} - x_{13} x_{25}}, a_{12} : \\frac{r_{746} x_{13}}{x_{23}}, a_{13} : r_{747}, a_{14} : r_{748}, a_{15} : r_{749}, a_{23} : \\frac{r_{747} x_{23}^{2} x_{34} - r_{746} x_{14} x_{23} + r_{746} x_{13} x_{24}}{x_{13} x_{23} x_{34}}, a_{24} : r_{750}, a_{25} : r_{751}, a_{34} : \\frac{r_{747} x_{23} x_{34} - r_{746} x_{14}}{x_{13} x_{23} x_{34}}, a_{35} : -\\frac{r_{745} x_{25}}{x_{15} x_{23} - x_{13} x_{25}}, a_{45} : 0\\right\\}\\right]"
      ]
     },
     "execution_count": 41,
     "metadata": {},
     "output_type": "execute_result"
    }
   ],
   "source": [
    "#x6\n",
    "#----------------------\n",
    "#x15 \\dif x13*x25/x23\n",
    "#----------------------\n",
    "reset()\n",
    "\n",
    "var('x12,x13,x14,x15,x23,x24,x25,x34,x35,x45')\n",
    "var('d1,d2,d3,d4,d5')\n",
    "var('a12,a13,a14,a15,a23,a24,a25,a34,a35,a45')\n",
    "\n",
    "load_attach_path('C:\\\\Users\\\\julia\\\\Documents\\\\unb\\\\doutorado\\\\pensar\\\\codigo_sage_v2\\\\maquina\\\\x6')\n",
    "load('out_#011111.sage')\n",
    "\n",
    "m=matrix(QQ, [[0, 0, 0, 0, 1],\n",
    "              [0, 0, 1, 0, 0],\n",
    "              [0, 0, 0, 1, 0],\n",
    "              [0, 0, 0, 0, 0],\n",
    "              [0, 0, 0, 0, 0]])\n",
    "        \n",
    "#entry of matrix: (i,j) line i collum j, means (i-1,j-1)\n",
    "sol=solve([ eq1==m[0,2],\teq2==m[0,3],\teq3==m[0,4],\teq4==m[1,2],\t\n",
    "                                            eq5==m[1,3],    eq6==m[1,4],\n",
    "                                                            eq7==m[2,3], eq8==m[2,4]],d1,d2,d3,d4,d5,a12,a13,a14,a15,a23,a24,a25,a34,a35,a45, solution_dict=True)\n",
    "\n",
    "show(m)\n",
    "show(sol)\n",
    "latex(sol)"
   ]
  },
  {
   "cell_type": "code",
   "execution_count": 36,
   "metadata": {},
   "outputs": [
    {
     "data": {
      "text/html": [
       "<html><script type=\"math/tex; mode=display\">\\newcommand{\\Bold}[1]{\\mathbf{#1}}\\left(\\begin{array}{rrrrr}\n",
       "0 & 0 & 0 & 0 & 0 \\\\\n",
       "0 & 0 & 1 & 0 & 0 \\\\\n",
       "0 & 0 & 0 & 1 & 0 \\\\\n",
       "0 & 0 & 0 & 0 & 0 \\\\\n",
       "0 & 0 & 0 & 0 & 0\n",
       "\\end{array}\\right)</script></html>"
      ],
      "text/latex": [
       "$$\\newcommand{\\Bold}[1]{\\mathbf{#1}}\\left(\\begin{array}{rrrrr}\n",
       "0 & 0 & 0 & 0 & 0 \\\\\n",
       "0 & 0 & 1 & 0 & 0 \\\\\n",
       "0 & 0 & 0 & 1 & 0 \\\\\n",
       "0 & 0 & 0 & 0 & 0 \\\\\n",
       "0 & 0 & 0 & 0 & 0\n",
       "\\end{array}\\right)$$"
      ],
      "text/plain": [
       "[0 0 0 0 0]\n",
       "[0 0 1 0 0]\n",
       "[0 0 0 1 0]\n",
       "[0 0 0 0 0]\n",
       "[0 0 0 0 0]"
      ]
     },
     "metadata": {},
     "output_type": "display_data"
    },
    {
     "data": {
      "text/html": [
       "<html><script type=\"math/tex; mode=display\">\\newcommand{\\Bold}[1]{\\mathbf{#1}}\\left[\\left\\{d_{1} : r_{724}, d_{2} : 0, d_{3} : 0, d_{4} : 0, d_{5} : r_{725}, a_{12} : r_{726}, a_{13} : r_{727}, a_{14} : r_{728}, a_{15} : r_{729}, a_{23} : r_{730}, a_{24} : r_{731}, a_{25} : r_{732}, a_{34} : r_{733}, a_{35} : r_{734}, a_{45} : 0\\right\\}, \\left\\{d_{1} : r_{735}, d_{2} : r_{736}, d_{3} : \\frac{r_{736}}{x_{23}}, d_{4} : \\frac{r_{736}}{x_{23} x_{34}}, d_{5} : r_{737}, a_{12} : \\frac{r_{736} x_{13}}{x_{23}}, a_{13} : r_{738}, a_{14} : r_{739}, a_{15} : r_{740}, a_{23} : \\frac{r_{738} x_{23}^{2} x_{34} - r_{736} x_{14} x_{23} + r_{736} x_{13} x_{24}}{x_{13} x_{23} x_{34}}, a_{24} : r_{741}, a_{25} : r_{742}, a_{34} : \\frac{r_{738} x_{23} x_{34} - r_{736} x_{14}}{x_{13} x_{23} x_{34}}, a_{35} : -\\frac{r_{737} x_{25}}{x_{23}}, a_{45} : 0\\right\\}\\right]</script></html>"
      ],
      "text/latex": [
       "$$\\newcommand{\\Bold}[1]{\\mathbf{#1}}\\left[\\left\\{d_{1} : r_{724}, d_{2} : 0, d_{3} : 0, d_{4} : 0, d_{5} : r_{725}, a_{12} : r_{726}, a_{13} : r_{727}, a_{14} : r_{728}, a_{15} : r_{729}, a_{23} : r_{730}, a_{24} : r_{731}, a_{25} : r_{732}, a_{34} : r_{733}, a_{35} : r_{734}, a_{45} : 0\\right\\}, \\left\\{d_{1} : r_{735}, d_{2} : r_{736}, d_{3} : \\frac{r_{736}}{x_{23}}, d_{4} : \\frac{r_{736}}{x_{23} x_{34}}, d_{5} : r_{737}, a_{12} : \\frac{r_{736} x_{13}}{x_{23}}, a_{13} : r_{738}, a_{14} : r_{739}, a_{15} : r_{740}, a_{23} : \\frac{r_{738} x_{23}^{2} x_{34} - r_{736} x_{14} x_{23} + r_{736} x_{13} x_{24}}{x_{13} x_{23} x_{34}}, a_{24} : r_{741}, a_{25} : r_{742}, a_{34} : \\frac{r_{738} x_{23} x_{34} - r_{736} x_{14}}{x_{13} x_{23} x_{34}}, a_{35} : -\\frac{r_{737} x_{25}}{x_{23}}, a_{45} : 0\\right\\}\\right]$$"
      ],
      "text/plain": [
       "[{d1: r724,\n",
       "  d2: 0,\n",
       "  d3: 0,\n",
       "  d4: 0,\n",
       "  d5: r725,\n",
       "  a12: r726,\n",
       "  a13: r727,\n",
       "  a14: r728,\n",
       "  a15: r729,\n",
       "  a23: r730,\n",
       "  a24: r731,\n",
       "  a25: r732,\n",
       "  a34: r733,\n",
       "  a35: r734,\n",
       "  a45: 0},\n",
       " {d1: r735,\n",
       "  d2: r736,\n",
       "  d3: r736/x23,\n",
       "  d4: r736/(x23*x34),\n",
       "  d5: r737,\n",
       "  a12: r736*x13/x23,\n",
       "  a13: r738,\n",
       "  a14: r739,\n",
       "  a15: r740,\n",
       "  a23: (r738*x23^2*x34 - r736*x14*x23 + r736*x13*x24)/(x13*x23*x34),\n",
       "  a24: r741,\n",
       "  a25: r742,\n",
       "  a34: (r738*x23*x34 - r736*x14)/(x13*x23*x34),\n",
       "  a35: -r737*x25/x23,\n",
       "  a45: 0}]"
      ]
     },
     "metadata": {},
     "output_type": "display_data"
    },
    {
     "data": {
      "text/plain": [
       "\\left[\\left\\{d_{1} : r_{724}, d_{2} : 0, d_{3} : 0, d_{4} : 0, d_{5} : r_{725}, a_{12} : r_{726}, a_{13} : r_{727}, a_{14} : r_{728}, a_{15} : r_{729}, a_{23} : r_{730}, a_{24} : r_{731}, a_{25} : r_{732}, a_{34} : r_{733}, a_{35} : r_{734}, a_{45} : 0\\right\\}, \\left\\{d_{1} : r_{735}, d_{2} : r_{736}, d_{3} : \\frac{r_{736}}{x_{23}}, d_{4} : \\frac{r_{736}}{x_{23} x_{34}}, d_{5} : r_{737}, a_{12} : \\frac{r_{736} x_{13}}{x_{23}}, a_{13} : r_{738}, a_{14} : r_{739}, a_{15} : r_{740}, a_{23} : \\frac{r_{738} x_{23}^{2} x_{34} - r_{736} x_{14} x_{23} + r_{736} x_{13} x_{24}}{x_{13} x_{23} x_{34}}, a_{24} : r_{741}, a_{25} : r_{742}, a_{34} : \\frac{r_{738} x_{23} x_{34} - r_{736} x_{14}}{x_{13} x_{23} x_{34}}, a_{35} : -\\frac{r_{737} x_{25}}{x_{23}}, a_{45} : 0\\right\\}\\right]"
      ]
     },
     "execution_count": 36,
     "metadata": {},
     "output_type": "execute_result"
    }
   ],
   "source": [
    "#x6\n",
    "#----------------------\n",
    "#x15 = x13*x25/x23\n",
    "#----------------------\n",
    "reset()\n",
    "\n",
    "var('x12,x13,x14,x15,x23,x24,x25,x34,x35,x45')\n",
    "var('d1,d2,d3,d4,d5')\n",
    "var('a12,a13,a14,a15,a23,a24,a25,a34,a35,a45')\n",
    "\n",
    "#011111\n",
    "eq1=(d2*d3*x13-a12*d3*x23)/(d1*d2) \n",
    "eq2=(a34*d2*d3*x13+d2*d3*d4*x14-a12*a34*d3*x23-a12*d3*d4*x24+a12*a23*d4*x34-a13*d2*d4*x34)/(d1*d2*d3) \n",
    "eq3=(a35*d2*d3*x13+a45*d2*d3*x14+d2*d3*d5*((x13*x25)/x23)-a12*a35*d3*x23-a12*a45*d3*x24-a12*d3*d5*x25+a12*a23*a45*x34-a13*a45*d2*x34+a12*a23*d5*0-a13*d2*d5*0)/(d1*d2*d3) \n",
    "eq4=(d3*x23)/(d2) \n",
    "eq5=(a34*d3*x23+d3*d4*x24-a23*d4*x34)/(d2*d3) \n",
    "eq6=(a35*d3*x23+a45*d3*x24+d3*d5*x25-a23*a45*x34-a23*d5*0)/(d2*d3) \n",
    "eq7=(d4*x34)/(d3) \n",
    "eq8=(a45*x34+d5*0)/(d3) \n",
    "\n",
    "m=matrix(QQ, [[0, 0, 0, 0, 0],\n",
    "              [0, 0, 1, 0, 0],\n",
    "              [0, 0, 0, 1, 0],\n",
    "              [0, 0, 0, 0, 0],\n",
    "              [0, 0, 0, 0, 0]])\n",
    "        \n",
    "#entry of matrix: (i,j) line i collum j, means (i-1,j-1)\n",
    "sol=solve([ eq1==m[0,2],\teq2==m[0,3],\teq3==m[0,4],\teq4==m[1,2],\t\n",
    "                                            eq5==m[1,3],    eq6==m[1,4],\n",
    "                                                            eq7==m[2,3], eq8==m[2,4]],d1,d2,d3,d4,d5,a12,a13,a14,a15,a23,a24,a25,a34,a35,a45, solution_dict=True)\n",
    "\n",
    "show(m)\n",
    "show(sol)\n",
    "latex(sol)"
   ]
  },
  {
   "cell_type": "code",
   "execution_count": 43,
   "metadata": {},
   "outputs": [
    {
     "data": {
      "text/html": [
       "<html><script type=\"math/tex; mode=display\">\\newcommand{\\Bold}[1]{\\mathbf{#1}}\\left(\\begin{array}{rrrrr}\n",
       "0 & 0 & 0 & 0 & 0 \\\\\n",
       "0 & 0 & 1 & 0 & 0 \\\\\n",
       "0 & 0 & 0 & 1 & 0 \\\\\n",
       "0 & 0 & 0 & 0 & 0 \\\\\n",
       "0 & 0 & 0 & 0 & 0\n",
       "\\end{array}\\right)</script></html>"
      ],
      "text/latex": [
       "$$\\newcommand{\\Bold}[1]{\\mathbf{#1}}\\left(\\begin{array}{rrrrr}\n",
       "0 & 0 & 0 & 0 & 0 \\\\\n",
       "0 & 0 & 1 & 0 & 0 \\\\\n",
       "0 & 0 & 0 & 1 & 0 \\\\\n",
       "0 & 0 & 0 & 0 & 0 \\\\\n",
       "0 & 0 & 0 & 0 & 0\n",
       "\\end{array}\\right)$$"
      ],
      "text/plain": [
       "[0 0 0 0 0]\n",
       "[0 0 1 0 0]\n",
       "[0 0 0 1 0]\n",
       "[0 0 0 0 0]\n",
       "[0 0 0 0 0]"
      ]
     },
     "metadata": {},
     "output_type": "display_data"
    },
    {
     "data": {
      "text/html": [
       "<html><script type=\"math/tex; mode=display\">\\newcommand{\\Bold}[1]{\\mathbf{#1}}\\left[\\left\\{d_{1} : r_{770}, d_{2} : 0, d_{3} : 0, d_{4} : 0, d_{5} : r_{771}, a_{12} : r_{772}, a_{13} : r_{773}, a_{14} : r_{774}, a_{15} : r_{775}, a_{23} : r_{776}, a_{24} : r_{777}, a_{25} : r_{778}, a_{34} : r_{779}, a_{35} : r_{780}, a_{45} : -\\frac{r_{771} x_{35}}{x_{34}}\\right\\}, \\left\\{d_{1} : r_{781}, d_{2} : r_{782}, d_{3} : \\frac{r_{782}}{x_{23}}, d_{4} : \\frac{r_{782}}{x_{23} x_{34}}, d_{5} : r_{783}, a_{12} : 0, a_{13} : 0, a_{14} : r_{784}, a_{15} : r_{785}, a_{23} : r_{786}, a_{24} : r_{787}, a_{25} : r_{788}, a_{34} : \\frac{r_{786}}{x_{23}}, a_{35} : 0, a_{45} : -\\frac{r_{783} x_{35}}{x_{34}}\\right\\}\\right]</script></html>"
      ],
      "text/latex": [
       "$$\\newcommand{\\Bold}[1]{\\mathbf{#1}}\\left[\\left\\{d_{1} : r_{770}, d_{2} : 0, d_{3} : 0, d_{4} : 0, d_{5} : r_{771}, a_{12} : r_{772}, a_{13} : r_{773}, a_{14} : r_{774}, a_{15} : r_{775}, a_{23} : r_{776}, a_{24} : r_{777}, a_{25} : r_{778}, a_{34} : r_{779}, a_{35} : r_{780}, a_{45} : -\\frac{r_{771} x_{35}}{x_{34}}\\right\\}, \\left\\{d_{1} : r_{781}, d_{2} : r_{782}, d_{3} : \\frac{r_{782}}{x_{23}}, d_{4} : \\frac{r_{782}}{x_{23} x_{34}}, d_{5} : r_{783}, a_{12} : 0, a_{13} : 0, a_{14} : r_{784}, a_{15} : r_{785}, a_{23} : r_{786}, a_{24} : r_{787}, a_{25} : r_{788}, a_{34} : \\frac{r_{786}}{x_{23}}, a_{35} : 0, a_{45} : -\\frac{r_{783} x_{35}}{x_{34}}\\right\\}\\right]$$"
      ],
      "text/plain": [
       "[{d1: r770,\n",
       "  d2: 0,\n",
       "  d3: 0,\n",
       "  d4: 0,\n",
       "  d5: r771,\n",
       "  a12: r772,\n",
       "  a13: r773,\n",
       "  a14: r774,\n",
       "  a15: r775,\n",
       "  a23: r776,\n",
       "  a24: r777,\n",
       "  a25: r778,\n",
       "  a34: r779,\n",
       "  a35: r780,\n",
       "  a45: -r771*x35/x34},\n",
       " {d1: r781,\n",
       "  d2: r782,\n",
       "  d3: r782/x23,\n",
       "  d4: r782/(x23*x34),\n",
       "  d5: r783,\n",
       "  a12: 0,\n",
       "  a13: 0,\n",
       "  a14: r784,\n",
       "  a15: r785,\n",
       "  a23: r786,\n",
       "  a24: r787,\n",
       "  a25: r788,\n",
       "  a34: r786/x23,\n",
       "  a35: 0,\n",
       "  a45: -r783*x35/x34}]"
      ]
     },
     "metadata": {},
     "output_type": "display_data"
    },
    {
     "data": {
      "text/plain": [
       "\\left[\\left\\{d_{1} : r_{770}, d_{2} : 0, d_{3} : 0, d_{4} : 0, d_{5} : r_{771}, a_{12} : r_{772}, a_{13} : r_{773}, a_{14} : r_{774}, a_{15} : r_{775}, a_{23} : r_{776}, a_{24} : r_{777}, a_{25} : r_{778}, a_{34} : r_{779}, a_{35} : r_{780}, a_{45} : -\\frac{r_{771} x_{35}}{x_{34}}\\right\\}, \\left\\{d_{1} : r_{781}, d_{2} : r_{782}, d_{3} : \\frac{r_{782}}{x_{23}}, d_{4} : \\frac{r_{782}}{x_{23} x_{34}}, d_{5} : r_{783}, a_{12} : 0, a_{13} : 0, a_{14} : r_{784}, a_{15} : r_{785}, a_{23} : r_{786}, a_{24} : r_{787}, a_{25} : r_{788}, a_{34} : \\frac{r_{786}}{x_{23}}, a_{35} : 0, a_{45} : -\\frac{r_{783} x_{35}}{x_{34}}\\right\\}\\right]"
      ]
     },
     "execution_count": 43,
     "metadata": {},
     "output_type": "execute_result"
    }
   ],
   "source": [
    "#x6\n",
    "reset()\n",
    "\n",
    "var('x12,x13,x14,x15,x23,x24,x25,x34,x35,x45')\n",
    "var('d1,d2,d3,d4,d5')\n",
    "var('a12,a13,a14,a15,a23,a24,a25,a34,a35,a45')\n",
    "\n",
    "load_attach_path('C:\\\\Users\\\\julia\\\\Documents\\\\unb\\\\doutorado\\\\pensar\\\\codigo_sage_v2\\\\maquina\\\\x6')\n",
    "load('out_#100000.sage')\n",
    "\n",
    "m=matrix(QQ, [[0, 0, 0, 0, 0],\n",
    "              [0, 0, 1, 0, 0],\n",
    "              [0, 0, 0, 1, 0],\n",
    "              [0, 0, 0, 0, 0],\n",
    "              [0, 0, 0, 0, 0]])\n",
    "        \n",
    "#entry of matrix: (i,j) line i collum j, means (i-1,j-1)\n",
    "sol=solve([ eq1==m[0,2],\teq2==m[0,3],\teq3==m[0,4],\teq4==m[1,2],\t\n",
    "                                            eq5==m[1,3],    eq6==m[1,4],\n",
    "                                                            eq7==m[2,3], eq8==m[2,4]],d1,d2,d3,d4,d5,a12,a13,a14,a15,a23,a24,a25,a34,a35,a45, solution_dict=True)\n",
    "\n",
    "show(m)\n",
    "show(sol)\n",
    "latex(sol)"
   ]
  },
  {
   "cell_type": "code",
   "execution_count": 44,
   "metadata": {},
   "outputs": [
    {
     "data": {
      "text/html": [
       "<html><script type=\"math/tex; mode=display\">\\newcommand{\\Bold}[1]{\\mathbf{#1}}\\left(\\begin{array}{rrrrr}\n",
       "0 & 0 & 0 & 0 & 1 \\\\\n",
       "0 & 0 & 1 & 0 & 0 \\\\\n",
       "0 & 0 & 0 & 1 & 0 \\\\\n",
       "0 & 0 & 0 & 0 & 0 \\\\\n",
       "0 & 0 & 0 & 0 & 0\n",
       "\\end{array}\\right)</script></html>"
      ],
      "text/latex": [
       "$$\\newcommand{\\Bold}[1]{\\mathbf{#1}}\\left(\\begin{array}{rrrrr}\n",
       "0 & 0 & 0 & 0 & 1 \\\\\n",
       "0 & 0 & 1 & 0 & 0 \\\\\n",
       "0 & 0 & 0 & 1 & 0 \\\\\n",
       "0 & 0 & 0 & 0 & 0 \\\\\n",
       "0 & 0 & 0 & 0 & 0\n",
       "\\end{array}\\right)$$"
      ],
      "text/plain": [
       "[0 0 0 0 1]\n",
       "[0 0 1 0 0]\n",
       "[0 0 0 1 0]\n",
       "[0 0 0 0 0]\n",
       "[0 0 0 0 0]"
      ]
     },
     "metadata": {},
     "output_type": "display_data"
    },
    {
     "data": {
      "text/html": [
       "<html><script type=\"math/tex; mode=display\">\\newcommand{\\Bold}[1]{\\mathbf{#1}}\\left[\\left\\{d_{1} : r_{789}, d_{2} : 0, d_{3} : 0, d_{4} : 0, d_{5} : r_{790}, a_{12} : r_{791}, a_{13} : r_{792}, a_{14} : r_{793}, a_{15} : r_{794}, a_{23} : r_{795}, a_{24} : r_{796}, a_{25} : r_{797}, a_{34} : r_{798}, a_{35} : r_{799}, a_{45} : -\\frac{r_{790} x_{35}}{x_{34}}\\right\\}, \\left\\{d_{1} : r_{800}, d_{2} : r_{801}, d_{3} : \\frac{r_{801}}{x_{23}}, d_{4} : \\frac{r_{801}}{x_{23} x_{34}}, d_{5} : \\frac{r_{800}}{x_{15}}, a_{12} : 0, a_{13} : 0, a_{14} : r_{802}, a_{15} : r_{803}, a_{23} : r_{804}, a_{24} : r_{805}, a_{25} : r_{806}, a_{34} : \\frac{r_{804}}{x_{23}}, a_{35} : 0, a_{45} : -\\frac{r_{800} x_{35}}{x_{15} x_{34}}\\right\\}\\right]</script></html>"
      ],
      "text/latex": [
       "$$\\newcommand{\\Bold}[1]{\\mathbf{#1}}\\left[\\left\\{d_{1} : r_{789}, d_{2} : 0, d_{3} : 0, d_{4} : 0, d_{5} : r_{790}, a_{12} : r_{791}, a_{13} : r_{792}, a_{14} : r_{793}, a_{15} : r_{794}, a_{23} : r_{795}, a_{24} : r_{796}, a_{25} : r_{797}, a_{34} : r_{798}, a_{35} : r_{799}, a_{45} : -\\frac{r_{790} x_{35}}{x_{34}}\\right\\}, \\left\\{d_{1} : r_{800}, d_{2} : r_{801}, d_{3} : \\frac{r_{801}}{x_{23}}, d_{4} : \\frac{r_{801}}{x_{23} x_{34}}, d_{5} : \\frac{r_{800}}{x_{15}}, a_{12} : 0, a_{13} : 0, a_{14} : r_{802}, a_{15} : r_{803}, a_{23} : r_{804}, a_{24} : r_{805}, a_{25} : r_{806}, a_{34} : \\frac{r_{804}}{x_{23}}, a_{35} : 0, a_{45} : -\\frac{r_{800} x_{35}}{x_{15} x_{34}}\\right\\}\\right]$$"
      ],
      "text/plain": [
       "[{d1: r789,\n",
       "  d2: 0,\n",
       "  d3: 0,\n",
       "  d4: 0,\n",
       "  d5: r790,\n",
       "  a12: r791,\n",
       "  a13: r792,\n",
       "  a14: r793,\n",
       "  a15: r794,\n",
       "  a23: r795,\n",
       "  a24: r796,\n",
       "  a25: r797,\n",
       "  a34: r798,\n",
       "  a35: r799,\n",
       "  a45: -r790*x35/x34},\n",
       " {d1: r800,\n",
       "  d2: r801,\n",
       "  d3: r801/x23,\n",
       "  d4: r801/(x23*x34),\n",
       "  d5: r800/x15,\n",
       "  a12: 0,\n",
       "  a13: 0,\n",
       "  a14: r802,\n",
       "  a15: r803,\n",
       "  a23: r804,\n",
       "  a24: r805,\n",
       "  a25: r806,\n",
       "  a34: r804/x23,\n",
       "  a35: 0,\n",
       "  a45: -r800*x35/(x15*x34)}]"
      ]
     },
     "metadata": {},
     "output_type": "display_data"
    },
    {
     "data": {
      "text/plain": [
       "\\left[\\left\\{d_{1} : r_{789}, d_{2} : 0, d_{3} : 0, d_{4} : 0, d_{5} : r_{790}, a_{12} : r_{791}, a_{13} : r_{792}, a_{14} : r_{793}, a_{15} : r_{794}, a_{23} : r_{795}, a_{24} : r_{796}, a_{25} : r_{797}, a_{34} : r_{798}, a_{35} : r_{799}, a_{45} : -\\frac{r_{790} x_{35}}{x_{34}}\\right\\}, \\left\\{d_{1} : r_{800}, d_{2} : r_{801}, d_{3} : \\frac{r_{801}}{x_{23}}, d_{4} : \\frac{r_{801}}{x_{23} x_{34}}, d_{5} : \\frac{r_{800}}{x_{15}}, a_{12} : 0, a_{13} : 0, a_{14} : r_{802}, a_{15} : r_{803}, a_{23} : r_{804}, a_{24} : r_{805}, a_{25} : r_{806}, a_{34} : \\frac{r_{804}}{x_{23}}, a_{35} : 0, a_{45} : -\\frac{r_{800} x_{35}}{x_{15} x_{34}}\\right\\}\\right]"
      ]
     },
     "execution_count": 44,
     "metadata": {},
     "output_type": "execute_result"
    }
   ],
   "source": [
    "#x6\n",
    "reset()\n",
    "\n",
    "var('x12,x13,x14,x15,x23,x24,x25,x34,x35,x45')\n",
    "var('d1,d2,d3,d4,d5')\n",
    "var('a12,a13,a14,a15,a23,a24,a25,a34,a35,a45')\n",
    "\n",
    "load_attach_path('C:\\\\Users\\\\julia\\\\Documents\\\\unb\\\\doutorado\\\\pensar\\\\codigo_sage_v2\\\\maquina\\\\x6')\n",
    "load('out_#100001.sage')\n",
    "\n",
    "m=matrix(QQ, [[0, 0, 0, 0, 1],\n",
    "              [0, 0, 1, 0, 0],\n",
    "              [0, 0, 0, 1, 0],\n",
    "              [0, 0, 0, 0, 0],\n",
    "              [0, 0, 0, 0, 0]])\n",
    "        \n",
    "#entry of matrix: (i,j) line i collum j, means (i-1,j-1)\n",
    "sol=solve([ eq1==m[0,2],\teq2==m[0,3],\teq3==m[0,4],\teq4==m[1,2],\t\n",
    "                                            eq5==m[1,3],    eq6==m[1,4],\n",
    "                                                            eq7==m[2,3], eq8==m[2,4]],d1,d2,d3,d4,d5,a12,a13,a14,a15,a23,a24,a25,a34,a35,a45, solution_dict=True)\n",
    "\n",
    "show(m)\n",
    "show(sol)\n",
    "latex(sol)"
   ]
  },
  {
   "cell_type": "code",
   "execution_count": 46,
   "metadata": {},
   "outputs": [
    {
     "data": {
      "text/html": [
       "<html><script type=\"math/tex; mode=display\">\\newcommand{\\Bold}[1]{\\mathbf{#1}}\\left(\\begin{array}{rrrrr}\n",
       "0 & 0 & 0 & 0 & 1 \\\\\n",
       "0 & 0 & 1 & 0 & 0 \\\\\n",
       "0 & 0 & 0 & 1 & 0 \\\\\n",
       "0 & 0 & 0 & 0 & 0 \\\\\n",
       "0 & 0 & 0 & 0 & 0\n",
       "\\end{array}\\right)</script></html>"
      ],
      "text/latex": [
       "$$\\newcommand{\\Bold}[1]{\\mathbf{#1}}\\left(\\begin{array}{rrrrr}\n",
       "0 & 0 & 0 & 0 & 1 \\\\\n",
       "0 & 0 & 1 & 0 & 0 \\\\\n",
       "0 & 0 & 0 & 1 & 0 \\\\\n",
       "0 & 0 & 0 & 0 & 0 \\\\\n",
       "0 & 0 & 0 & 0 & 0\n",
       "\\end{array}\\right)$$"
      ],
      "text/plain": [
       "[0 0 0 0 1]\n",
       "[0 0 1 0 0]\n",
       "[0 0 0 1 0]\n",
       "[0 0 0 0 0]\n",
       "[0 0 0 0 0]"
      ]
     },
     "metadata": {},
     "output_type": "display_data"
    },
    {
     "data": {
      "text/html": [
       "<html><script type=\"math/tex; mode=display\">\\newcommand{\\Bold}[1]{\\mathbf{#1}}\\left[\\left\\{d_{1} : r_{825}, d_{2} : 0, d_{3} : 0, d_{4} : 0, d_{5} : r_{826}, a_{12} : r_{827}, a_{13} : r_{828}, a_{14} : r_{829}, a_{15} : r_{830}, a_{23} : r_{831}, a_{24} : r_{832}, a_{25} : r_{833}, a_{34} : r_{834}, a_{35} : r_{835}, a_{45} : -\\frac{r_{826} x_{35}}{x_{34}}\\right\\}, \\left\\{d_{1} : r_{836}, d_{2} : r_{837}, d_{3} : \\frac{r_{837}}{x_{23}}, d_{4} : \\frac{r_{837}}{x_{23} x_{34}}, d_{5} : -\\frac{r_{836} x_{34}}{x_{14} x_{35}}, a_{12} : 0, a_{13} : \\frac{r_{837} x_{14}}{x_{23} x_{34}}, a_{14} : r_{838}, a_{15} : r_{839}, a_{23} : r_{840}, a_{24} : r_{841}, a_{25} : r_{842}, a_{34} : \\frac{r_{840}}{x_{23}}, a_{35} : 0, a_{45} : \\frac{r_{836}}{x_{14}}\\right\\}\\right]</script></html>"
      ],
      "text/latex": [
       "$$\\newcommand{\\Bold}[1]{\\mathbf{#1}}\\left[\\left\\{d_{1} : r_{825}, d_{2} : 0, d_{3} : 0, d_{4} : 0, d_{5} : r_{826}, a_{12} : r_{827}, a_{13} : r_{828}, a_{14} : r_{829}, a_{15} : r_{830}, a_{23} : r_{831}, a_{24} : r_{832}, a_{25} : r_{833}, a_{34} : r_{834}, a_{35} : r_{835}, a_{45} : -\\frac{r_{826} x_{35}}{x_{34}}\\right\\}, \\left\\{d_{1} : r_{836}, d_{2} : r_{837}, d_{3} : \\frac{r_{837}}{x_{23}}, d_{4} : \\frac{r_{837}}{x_{23} x_{34}}, d_{5} : -\\frac{r_{836} x_{34}}{x_{14} x_{35}}, a_{12} : 0, a_{13} : \\frac{r_{837} x_{14}}{x_{23} x_{34}}, a_{14} : r_{838}, a_{15} : r_{839}, a_{23} : r_{840}, a_{24} : r_{841}, a_{25} : r_{842}, a_{34} : \\frac{r_{840}}{x_{23}}, a_{35} : 0, a_{45} : \\frac{r_{836}}{x_{14}}\\right\\}\\right]$$"
      ],
      "text/plain": [
       "[{d1: r825,\n",
       "  d2: 0,\n",
       "  d3: 0,\n",
       "  d4: 0,\n",
       "  d5: r826,\n",
       "  a12: r827,\n",
       "  a13: r828,\n",
       "  a14: r829,\n",
       "  a15: r830,\n",
       "  a23: r831,\n",
       "  a24: r832,\n",
       "  a25: r833,\n",
       "  a34: r834,\n",
       "  a35: r835,\n",
       "  a45: -r826*x35/x34},\n",
       " {d1: r836,\n",
       "  d2: r837,\n",
       "  d3: r837/x23,\n",
       "  d4: r837/(x23*x34),\n",
       "  d5: -r836*x34/(x14*x35),\n",
       "  a12: 0,\n",
       "  a13: r837*x14/(x23*x34),\n",
       "  a14: r838,\n",
       "  a15: r839,\n",
       "  a23: r840,\n",
       "  a24: r841,\n",
       "  a25: r842,\n",
       "  a34: r840/x23,\n",
       "  a35: 0,\n",
       "  a45: r836/x14}]"
      ]
     },
     "metadata": {},
     "output_type": "display_data"
    },
    {
     "data": {
      "text/plain": [
       "\\left[\\left\\{d_{1} : r_{825}, d_{2} : 0, d_{3} : 0, d_{4} : 0, d_{5} : r_{826}, a_{12} : r_{827}, a_{13} : r_{828}, a_{14} : r_{829}, a_{15} : r_{830}, a_{23} : r_{831}, a_{24} : r_{832}, a_{25} : r_{833}, a_{34} : r_{834}, a_{35} : r_{835}, a_{45} : -\\frac{r_{826} x_{35}}{x_{34}}\\right\\}, \\left\\{d_{1} : r_{836}, d_{2} : r_{837}, d_{3} : \\frac{r_{837}}{x_{23}}, d_{4} : \\frac{r_{837}}{x_{23} x_{34}}, d_{5} : -\\frac{r_{836} x_{34}}{x_{14} x_{35}}, a_{12} : 0, a_{13} : \\frac{r_{837} x_{14}}{x_{23} x_{34}}, a_{14} : r_{838}, a_{15} : r_{839}, a_{23} : r_{840}, a_{24} : r_{841}, a_{25} : r_{842}, a_{34} : \\frac{r_{840}}{x_{23}}, a_{35} : 0, a_{45} : \\frac{r_{836}}{x_{14}}\\right\\}\\right]"
      ]
     },
     "execution_count": 46,
     "metadata": {},
     "output_type": "execute_result"
    }
   ],
   "source": [
    "#x6\n",
    "reset()\n",
    "\n",
    "var('x12,x13,x14,x15,x23,x24,x25,x34,x35,x45')\n",
    "var('d1,d2,d3,d4,d5')\n",
    "var('a12,a13,a14,a15,a23,a24,a25,a34,a35,a45')\n",
    "\n",
    "load_attach_path('C:\\\\Users\\\\julia\\\\Documents\\\\unb\\\\doutorado\\\\pensar\\\\codigo_sage_v2\\\\maquina\\\\x6')\n",
    "load('out_#100010.sage')\n",
    "\n",
    "m=matrix(QQ, [[0, 0, 0, 0, 1],\n",
    "              [0, 0, 1, 0, 0],\n",
    "              [0, 0, 0, 1, 0],\n",
    "              [0, 0, 0, 0, 0],\n",
    "              [0, 0, 0, 0, 0]])\n",
    "        \n",
    "#entry of matrix: (i,j) line i collum j, means (i-1,j-1)\n",
    "sol=solve([ eq1==m[0,2],\teq2==m[0,3],\teq3==m[0,4],\teq4==m[1,2],\t\n",
    "                                            eq5==m[1,3],    eq6==m[1,4],\n",
    "                                                            eq7==m[2,3], eq8==m[2,4]],d1,d2,d3,d4,d5,a12,a13,a14,a15,a23,a24,a25,a34,a35,a45, solution_dict=True)\n",
    "\n",
    "show(m)\n",
    "show(sol)\n",
    "latex(sol)"
   ]
  },
  {
   "cell_type": "code",
   "execution_count": 47,
   "metadata": {},
   "outputs": [
    {
     "data": {
      "text/html": [
       "<html><script type=\"math/tex; mode=display\">\\newcommand{\\Bold}[1]{\\mathbf{#1}}\\left(\\begin{array}{rrrrr}\n",
       "0 & 0 & 0 & 0 & 1 \\\\\n",
       "0 & 0 & 1 & 0 & 0 \\\\\n",
       "0 & 0 & 0 & 1 & 0 \\\\\n",
       "0 & 0 & 0 & 0 & 0 \\\\\n",
       "0 & 0 & 0 & 0 & 0\n",
       "\\end{array}\\right)</script></html>"
      ],
      "text/latex": [
       "$$\\newcommand{\\Bold}[1]{\\mathbf{#1}}\\left(\\begin{array}{rrrrr}\n",
       "0 & 0 & 0 & 0 & 1 \\\\\n",
       "0 & 0 & 1 & 0 & 0 \\\\\n",
       "0 & 0 & 0 & 1 & 0 \\\\\n",
       "0 & 0 & 0 & 0 & 0 \\\\\n",
       "0 & 0 & 0 & 0 & 0\n",
       "\\end{array}\\right)$$"
      ],
      "text/plain": [
       "[0 0 0 0 1]\n",
       "[0 0 1 0 0]\n",
       "[0 0 0 1 0]\n",
       "[0 0 0 0 0]\n",
       "[0 0 0 0 0]"
      ]
     },
     "metadata": {},
     "output_type": "display_data"
    },
    {
     "data": {
      "text/html": [
       "<html><script type=\"math/tex; mode=display\">\\newcommand{\\Bold}[1]{\\mathbf{#1}}\\left[\\left\\{d_{1} : r_{843}, d_{2} : 0, d_{3} : 0, d_{4} : 0, d_{5} : r_{844}, a_{12} : r_{845}, a_{13} : r_{846}, a_{14} : r_{847}, a_{15} : r_{848}, a_{23} : r_{849}, a_{24} : r_{850}, a_{25} : r_{851}, a_{34} : r_{852}, a_{35} : r_{853}, a_{45} : -\\frac{r_{844} x_{35}}{x_{34}}\\right\\}, \\left\\{d_{1} : r_{854}, d_{2} : r_{855}, d_{3} : \\frac{r_{855}}{x_{23}}, d_{4} : \\frac{r_{855}}{x_{23} x_{34}}, d_{5} : \\frac{r_{854} x_{34}}{x_{15} x_{34} - x_{14} x_{35}}, a_{12} : 0, a_{13} : \\frac{r_{855} x_{14}}{x_{23} x_{34}}, a_{14} : r_{856}, a_{15} : r_{857}, a_{23} : r_{858}, a_{24} : r_{859}, a_{25} : r_{860}, a_{34} : \\frac{r_{858}}{x_{23}}, a_{35} : 0, a_{45} : -\\frac{r_{854} x_{35}}{x_{15} x_{34} - x_{14} x_{35}}\\right\\}\\right]</script></html>"
      ],
      "text/latex": [
       "$$\\newcommand{\\Bold}[1]{\\mathbf{#1}}\\left[\\left\\{d_{1} : r_{843}, d_{2} : 0, d_{3} : 0, d_{4} : 0, d_{5} : r_{844}, a_{12} : r_{845}, a_{13} : r_{846}, a_{14} : r_{847}, a_{15} : r_{848}, a_{23} : r_{849}, a_{24} : r_{850}, a_{25} : r_{851}, a_{34} : r_{852}, a_{35} : r_{853}, a_{45} : -\\frac{r_{844} x_{35}}{x_{34}}\\right\\}, \\left\\{d_{1} : r_{854}, d_{2} : r_{855}, d_{3} : \\frac{r_{855}}{x_{23}}, d_{4} : \\frac{r_{855}}{x_{23} x_{34}}, d_{5} : \\frac{r_{854} x_{34}}{x_{15} x_{34} - x_{14} x_{35}}, a_{12} : 0, a_{13} : \\frac{r_{855} x_{14}}{x_{23} x_{34}}, a_{14} : r_{856}, a_{15} : r_{857}, a_{23} : r_{858}, a_{24} : r_{859}, a_{25} : r_{860}, a_{34} : \\frac{r_{858}}{x_{23}}, a_{35} : 0, a_{45} : -\\frac{r_{854} x_{35}}{x_{15} x_{34} - x_{14} x_{35}}\\right\\}\\right]$$"
      ],
      "text/plain": [
       "[{d1: r843,\n",
       "  d2: 0,\n",
       "  d3: 0,\n",
       "  d4: 0,\n",
       "  d5: r844,\n",
       "  a12: r845,\n",
       "  a13: r846,\n",
       "  a14: r847,\n",
       "  a15: r848,\n",
       "  a23: r849,\n",
       "  a24: r850,\n",
       "  a25: r851,\n",
       "  a34: r852,\n",
       "  a35: r853,\n",
       "  a45: -r844*x35/x34},\n",
       " {d1: r854,\n",
       "  d2: r855,\n",
       "  d3: r855/x23,\n",
       "  d4: r855/(x23*x34),\n",
       "  d5: r854*x34/(x15*x34 - x14*x35),\n",
       "  a12: 0,\n",
       "  a13: r855*x14/(x23*x34),\n",
       "  a14: r856,\n",
       "  a15: r857,\n",
       "  a23: r858,\n",
       "  a24: r859,\n",
       "  a25: r860,\n",
       "  a34: r858/x23,\n",
       "  a35: 0,\n",
       "  a45: -r854*x35/(x15*x34 - x14*x35)}]"
      ]
     },
     "metadata": {},
     "output_type": "display_data"
    },
    {
     "data": {
      "text/plain": [
       "\\left[\\left\\{d_{1} : r_{843}, d_{2} : 0, d_{3} : 0, d_{4} : 0, d_{5} : r_{844}, a_{12} : r_{845}, a_{13} : r_{846}, a_{14} : r_{847}, a_{15} : r_{848}, a_{23} : r_{849}, a_{24} : r_{850}, a_{25} : r_{851}, a_{34} : r_{852}, a_{35} : r_{853}, a_{45} : -\\frac{r_{844} x_{35}}{x_{34}}\\right\\}, \\left\\{d_{1} : r_{854}, d_{2} : r_{855}, d_{3} : \\frac{r_{855}}{x_{23}}, d_{4} : \\frac{r_{855}}{x_{23} x_{34}}, d_{5} : \\frac{r_{854} x_{34}}{x_{15} x_{34} - x_{14} x_{35}}, a_{12} : 0, a_{13} : \\frac{r_{855} x_{14}}{x_{23} x_{34}}, a_{14} : r_{856}, a_{15} : r_{857}, a_{23} : r_{858}, a_{24} : r_{859}, a_{25} : r_{860}, a_{34} : \\frac{r_{858}}{x_{23}}, a_{35} : 0, a_{45} : -\\frac{r_{854} x_{35}}{x_{15} x_{34} - x_{14} x_{35}}\\right\\}\\right]"
      ]
     },
     "execution_count": 47,
     "metadata": {},
     "output_type": "execute_result"
    }
   ],
   "source": [
    "#x6\n",
    "#----------------------\n",
    "#x15 \\dif x14*x35/x34\n",
    "#----------------------\n",
    "reset()\n",
    "\n",
    "var('x12,x13,x14,x15,x23,x24,x25,x34,x35,x45')\n",
    "var('d1,d2,d3,d4,d5')\n",
    "var('a12,a13,a14,a15,a23,a24,a25,a34,a35,a45')\n",
    "\n",
    "load_attach_path('C:\\\\Users\\\\julia\\\\Documents\\\\unb\\\\doutorado\\\\pensar\\\\codigo_sage_v2\\\\maquina\\\\x6')\n",
    "load('out_#100011.sage')\n",
    "\n",
    "m=matrix(QQ, [[0, 0, 0, 0, 1],\n",
    "              [0, 0, 1, 0, 0],\n",
    "              [0, 0, 0, 1, 0],\n",
    "              [0, 0, 0, 0, 0],\n",
    "              [0, 0, 0, 0, 0]])\n",
    "        \n",
    "#entry of matrix: (i,j) line i collum j, means (i-1,j-1)\n",
    "sol=solve([ eq1==m[0,2],\teq2==m[0,3],\teq3==m[0,4],\teq4==m[1,2],\t\n",
    "                                            eq5==m[1,3],    eq6==m[1,4],\n",
    "                                                            eq7==m[2,3], eq8==m[2,4]],d1,d2,d3,d4,d5,a12,a13,a14,a15,a23,a24,a25,a34,a35,a45, solution_dict=True)\n",
    "\n",
    "show(m)\n",
    "show(sol)\n",
    "latex(sol)"
   ]
  },
  {
   "cell_type": "code",
   "execution_count": 48,
   "metadata": {},
   "outputs": [
    {
     "data": {
      "text/html": [
       "<html><script type=\"math/tex; mode=display\">\\newcommand{\\Bold}[1]{\\mathbf{#1}}\\left(\\begin{array}{rrrrr}\n",
       "0 & 0 & 0 & 0 & 0 \\\\\n",
       "0 & 0 & 1 & 0 & 0 \\\\\n",
       "0 & 0 & 0 & 1 & 0 \\\\\n",
       "0 & 0 & 0 & 0 & 0 \\\\\n",
       "0 & 0 & 0 & 0 & 0\n",
       "\\end{array}\\right)</script></html>"
      ],
      "text/latex": [
       "$$\\newcommand{\\Bold}[1]{\\mathbf{#1}}\\left(\\begin{array}{rrrrr}\n",
       "0 & 0 & 0 & 0 & 0 \\\\\n",
       "0 & 0 & 1 & 0 & 0 \\\\\n",
       "0 & 0 & 0 & 1 & 0 \\\\\n",
       "0 & 0 & 0 & 0 & 0 \\\\\n",
       "0 & 0 & 0 & 0 & 0\n",
       "\\end{array}\\right)$$"
      ],
      "text/plain": [
       "[0 0 0 0 0]\n",
       "[0 0 1 0 0]\n",
       "[0 0 0 1 0]\n",
       "[0 0 0 0 0]\n",
       "[0 0 0 0 0]"
      ]
     },
     "metadata": {},
     "output_type": "display_data"
    },
    {
     "data": {
      "text/html": [
       "<html><script type=\"math/tex; mode=display\">\\newcommand{\\Bold}[1]{\\mathbf{#1}}\\left[\\left\\{d_{1} : r_{861}, d_{2} : 0, d_{3} : 0, d_{4} : 0, d_{5} : r_{862}, a_{12} : r_{863}, a_{13} : r_{864}, a_{14} : r_{865}, a_{15} : r_{866}, a_{23} : r_{867}, a_{24} : r_{868}, a_{25} : r_{869}, a_{34} : r_{870}, a_{35} : r_{871}, a_{45} : -\\frac{r_{862} x_{35}}{x_{34}}\\right\\}, \\left\\{d_{1} : r_{872}, d_{2} : r_{873}, d_{3} : \\frac{r_{873}}{x_{23}}, d_{4} : \\frac{r_{873}}{x_{23} x_{34}}, d_{5} : r_{874}, a_{12} : 0, a_{13} : \\frac{r_{873} x_{14}}{x_{23} x_{34}}, a_{14} : r_{875}, a_{15} : r_{876}, a_{23} : r_{877}, a_{24} : r_{878}, a_{25} : r_{879}, a_{34} : \\frac{r_{877}}{x_{23}}, a_{35} : 0, a_{45} : -\\frac{r_{874} x_{35}}{x_{34}}\\right\\}\\right]</script></html>"
      ],
      "text/latex": [
       "$$\\newcommand{\\Bold}[1]{\\mathbf{#1}}\\left[\\left\\{d_{1} : r_{861}, d_{2} : 0, d_{3} : 0, d_{4} : 0, d_{5} : r_{862}, a_{12} : r_{863}, a_{13} : r_{864}, a_{14} : r_{865}, a_{15} : r_{866}, a_{23} : r_{867}, a_{24} : r_{868}, a_{25} : r_{869}, a_{34} : r_{870}, a_{35} : r_{871}, a_{45} : -\\frac{r_{862} x_{35}}{x_{34}}\\right\\}, \\left\\{d_{1} : r_{872}, d_{2} : r_{873}, d_{3} : \\frac{r_{873}}{x_{23}}, d_{4} : \\frac{r_{873}}{x_{23} x_{34}}, d_{5} : r_{874}, a_{12} : 0, a_{13} : \\frac{r_{873} x_{14}}{x_{23} x_{34}}, a_{14} : r_{875}, a_{15} : r_{876}, a_{23} : r_{877}, a_{24} : r_{878}, a_{25} : r_{879}, a_{34} : \\frac{r_{877}}{x_{23}}, a_{35} : 0, a_{45} : -\\frac{r_{874} x_{35}}{x_{34}}\\right\\}\\right]$$"
      ],
      "text/plain": [
       "[{d1: r861,\n",
       "  d2: 0,\n",
       "  d3: 0,\n",
       "  d4: 0,\n",
       "  d5: r862,\n",
       "  a12: r863,\n",
       "  a13: r864,\n",
       "  a14: r865,\n",
       "  a15: r866,\n",
       "  a23: r867,\n",
       "  a24: r868,\n",
       "  a25: r869,\n",
       "  a34: r870,\n",
       "  a35: r871,\n",
       "  a45: -r862*x35/x34},\n",
       " {d1: r872,\n",
       "  d2: r873,\n",
       "  d3: r873/x23,\n",
       "  d4: r873/(x23*x34),\n",
       "  d5: r874,\n",
       "  a12: 0,\n",
       "  a13: r873*x14/(x23*x34),\n",
       "  a14: r875,\n",
       "  a15: r876,\n",
       "  a23: r877,\n",
       "  a24: r878,\n",
       "  a25: r879,\n",
       "  a34: r877/x23,\n",
       "  a35: 0,\n",
       "  a45: -r874*x35/x34}]"
      ]
     },
     "metadata": {},
     "output_type": "display_data"
    },
    {
     "data": {
      "text/plain": [
       "\\left[\\left\\{d_{1} : r_{861}, d_{2} : 0, d_{3} : 0, d_{4} : 0, d_{5} : r_{862}, a_{12} : r_{863}, a_{13} : r_{864}, a_{14} : r_{865}, a_{15} : r_{866}, a_{23} : r_{867}, a_{24} : r_{868}, a_{25} : r_{869}, a_{34} : r_{870}, a_{35} : r_{871}, a_{45} : -\\frac{r_{862} x_{35}}{x_{34}}\\right\\}, \\left\\{d_{1} : r_{872}, d_{2} : r_{873}, d_{3} : \\frac{r_{873}}{x_{23}}, d_{4} : \\frac{r_{873}}{x_{23} x_{34}}, d_{5} : r_{874}, a_{12} : 0, a_{13} : \\frac{r_{873} x_{14}}{x_{23} x_{34}}, a_{14} : r_{875}, a_{15} : r_{876}, a_{23} : r_{877}, a_{24} : r_{878}, a_{25} : r_{879}, a_{34} : \\frac{r_{877}}{x_{23}}, a_{35} : 0, a_{45} : -\\frac{r_{874} x_{35}}{x_{34}}\\right\\}\\right]"
      ]
     },
     "execution_count": 48,
     "metadata": {},
     "output_type": "execute_result"
    }
   ],
   "source": [
    "#x6\n",
    "#----------------------\n",
    "#x15 = x14*x35/x34\n",
    "#----------------------\n",
    "reset()\n",
    "\n",
    "var('x12,x13,x14,x15,x23,x24,x25,x34,x35,x45')\n",
    "var('d1,d2,d3,d4,d5')\n",
    "var('a12,a13,a14,a15,a23,a24,a25,a34,a35,a45')\n",
    "\n",
    "#100011\n",
    "eq1=(d2*d3*0-a12*d3*x23)/(d1*d2) \n",
    "eq2=(a34*d2*d3*0+d2*d3*d4*x14-a12*a34*d3*x23-a12*d3*d4*0+a12*a23*d4*x34-a13*d2*d4*x34)/(d1*d2*d3) \n",
    "eq3=(a35*d2*d3*0+a45*d2*d3*x14+d2*d3*d5*((x14*x35)/x34)-a12*a35*d3*x23-a12*a45*d3*0-a12*d3*d5*0+a12*a23*a45*x34-a13*a45*d2*x34+a12*a23*d5*x35-a13*d2*d5*x35)/(d1*d2*d3) \n",
    "eq4=(d3*x23)/(d2) \n",
    "eq5=(a34*d3*x23+d3*d4*0-a23*d4*x34)/(d2*d3) \n",
    "eq6=(a35*d3*x23+a45*d3*0+d3*d5*0-a23*a45*x34-a23*d5*x35)/(d2*d3) \n",
    "eq7=(d4*x34)/(d3) \n",
    "eq8=(a45*x34+d5*x35)/(d3) \n",
    "\n",
    "m=matrix(QQ, [[0, 0, 0, 0, 0],\n",
    "              [0, 0, 1, 0, 0],\n",
    "              [0, 0, 0, 1, 0],\n",
    "              [0, 0, 0, 0, 0],\n",
    "              [0, 0, 0, 0, 0]])\n",
    "        \n",
    "#entry of matrix: (i,j) line i collum j, means (i-1,j-1)\n",
    "sol=solve([ eq1==m[0,2],\teq2==m[0,3],\teq3==m[0,4],\teq4==m[1,2],\t\n",
    "                                            eq5==m[1,3],    eq6==m[1,4],\n",
    "                                                            eq7==m[2,3], eq8==m[2,4]],d1,d2,d3,d4,d5,a12,a13,a14,a15,a23,a24,a25,a34,a35,a45, solution_dict=True)\n",
    "\n",
    "show(m)\n",
    "show(sol)\n",
    "latex(sol)"
   ]
  },
  {
   "cell_type": "code",
   "execution_count": 49,
   "metadata": {},
   "outputs": [
    {
     "data": {
      "text/html": [
       "<html><script type=\"math/tex; mode=display\">\\newcommand{\\Bold}[1]{\\mathbf{#1}}\\left(\\begin{array}{rrrrr}\n",
       "0 & 0 & 0 & 0 & 0 \\\\\n",
       "0 & 0 & 1 & 0 & 0 \\\\\n",
       "0 & 0 & 0 & 1 & 0 \\\\\n",
       "0 & 0 & 0 & 0 & 0 \\\\\n",
       "0 & 0 & 0 & 0 & 0\n",
       "\\end{array}\\right)</script></html>"
      ],
      "text/latex": [
       "$$\\newcommand{\\Bold}[1]{\\mathbf{#1}}\\left(\\begin{array}{rrrrr}\n",
       "0 & 0 & 0 & 0 & 0 \\\\\n",
       "0 & 0 & 1 & 0 & 0 \\\\\n",
       "0 & 0 & 0 & 1 & 0 \\\\\n",
       "0 & 0 & 0 & 0 & 0 \\\\\n",
       "0 & 0 & 0 & 0 & 0\n",
       "\\end{array}\\right)$$"
      ],
      "text/plain": [
       "[0 0 0 0 0]\n",
       "[0 0 1 0 0]\n",
       "[0 0 0 1 0]\n",
       "[0 0 0 0 0]\n",
       "[0 0 0 0 0]"
      ]
     },
     "metadata": {},
     "output_type": "display_data"
    },
    {
     "data": {
      "text/html": [
       "<html><script type=\"math/tex; mode=display\">\\newcommand{\\Bold}[1]{\\mathbf{#1}}\\left[\\left\\{d_{1} : r_{880}, d_{2} : 0, d_{3} : 0, d_{4} : 0, d_{5} : r_{881}, a_{12} : r_{882}, a_{13} : r_{883}, a_{14} : r_{884}, a_{15} : r_{885}, a_{23} : r_{886}, a_{24} : r_{887}, a_{25} : r_{888}, a_{34} : r_{889}, a_{35} : r_{890}, a_{45} : -\\frac{r_{881} x_{35}}{x_{34}}\\right\\}, \\left\\{d_{1} : r_{891}, d_{2} : r_{892}, d_{3} : \\frac{r_{892}}{x_{23}}, d_{4} : \\frac{r_{892}}{x_{23} x_{34}}, d_{5} : r_{893}, a_{12} : \\frac{r_{892} x_{13}}{x_{23}}, a_{13} : r_{894}, a_{14} : r_{895}, a_{15} : r_{896}, a_{23} : \\frac{r_{894} x_{23}}{x_{13}}, a_{24} : r_{897}, a_{25} : r_{898}, a_{34} : \\frac{r_{894}}{x_{13}}, a_{35} : 0, a_{45} : -\\frac{r_{893} x_{35}}{x_{34}}\\right\\}\\right]</script></html>"
      ],
      "text/latex": [
       "$$\\newcommand{\\Bold}[1]{\\mathbf{#1}}\\left[\\left\\{d_{1} : r_{880}, d_{2} : 0, d_{3} : 0, d_{4} : 0, d_{5} : r_{881}, a_{12} : r_{882}, a_{13} : r_{883}, a_{14} : r_{884}, a_{15} : r_{885}, a_{23} : r_{886}, a_{24} : r_{887}, a_{25} : r_{888}, a_{34} : r_{889}, a_{35} : r_{890}, a_{45} : -\\frac{r_{881} x_{35}}{x_{34}}\\right\\}, \\left\\{d_{1} : r_{891}, d_{2} : r_{892}, d_{3} : \\frac{r_{892}}{x_{23}}, d_{4} : \\frac{r_{892}}{x_{23} x_{34}}, d_{5} : r_{893}, a_{12} : \\frac{r_{892} x_{13}}{x_{23}}, a_{13} : r_{894}, a_{14} : r_{895}, a_{15} : r_{896}, a_{23} : \\frac{r_{894} x_{23}}{x_{13}}, a_{24} : r_{897}, a_{25} : r_{898}, a_{34} : \\frac{r_{894}}{x_{13}}, a_{35} : 0, a_{45} : -\\frac{r_{893} x_{35}}{x_{34}}\\right\\}\\right]$$"
      ],
      "text/plain": [
       "[{d1: r880,\n",
       "  d2: 0,\n",
       "  d3: 0,\n",
       "  d4: 0,\n",
       "  d5: r881,\n",
       "  a12: r882,\n",
       "  a13: r883,\n",
       "  a14: r884,\n",
       "  a15: r885,\n",
       "  a23: r886,\n",
       "  a24: r887,\n",
       "  a25: r888,\n",
       "  a34: r889,\n",
       "  a35: r890,\n",
       "  a45: -r881*x35/x34},\n",
       " {d1: r891,\n",
       "  d2: r892,\n",
       "  d3: r892/x23,\n",
       "  d4: r892/(x23*x34),\n",
       "  d5: r893,\n",
       "  a12: r892*x13/x23,\n",
       "  a13: r894,\n",
       "  a14: r895,\n",
       "  a15: r896,\n",
       "  a23: r894*x23/x13,\n",
       "  a24: r897,\n",
       "  a25: r898,\n",
       "  a34: r894/x13,\n",
       "  a35: 0,\n",
       "  a45: -r893*x35/x34}]"
      ]
     },
     "metadata": {},
     "output_type": "display_data"
    },
    {
     "data": {
      "text/plain": [
       "\\left[\\left\\{d_{1} : r_{880}, d_{2} : 0, d_{3} : 0, d_{4} : 0, d_{5} : r_{881}, a_{12} : r_{882}, a_{13} : r_{883}, a_{14} : r_{884}, a_{15} : r_{885}, a_{23} : r_{886}, a_{24} : r_{887}, a_{25} : r_{888}, a_{34} : r_{889}, a_{35} : r_{890}, a_{45} : -\\frac{r_{881} x_{35}}{x_{34}}\\right\\}, \\left\\{d_{1} : r_{891}, d_{2} : r_{892}, d_{3} : \\frac{r_{892}}{x_{23}}, d_{4} : \\frac{r_{892}}{x_{23} x_{34}}, d_{5} : r_{893}, a_{12} : \\frac{r_{892} x_{13}}{x_{23}}, a_{13} : r_{894}, a_{14} : r_{895}, a_{15} : r_{896}, a_{23} : \\frac{r_{894} x_{23}}{x_{13}}, a_{24} : r_{897}, a_{25} : r_{898}, a_{34} : \\frac{r_{894}}{x_{13}}, a_{35} : 0, a_{45} : -\\frac{r_{893} x_{35}}{x_{34}}\\right\\}\\right]"
      ]
     },
     "execution_count": 49,
     "metadata": {},
     "output_type": "execute_result"
    }
   ],
   "source": [
    "#x6\n",
    "reset()\n",
    "\n",
    "var('x12,x13,x14,x15,x23,x24,x25,x34,x35,x45')\n",
    "var('d1,d2,d3,d4,d5')\n",
    "var('a12,a13,a14,a15,a23,a24,a25,a34,a35,a45')\n",
    "\n",
    "load_attach_path('C:\\\\Users\\\\julia\\\\Documents\\\\unb\\\\doutorado\\\\pensar\\\\codigo_sage_v2\\\\maquina\\\\x6')\n",
    "load('out_#100100.sage')\n",
    "\n",
    "m=matrix(QQ, [[0, 0, 0, 0, 0],\n",
    "              [0, 0, 1, 0, 0],\n",
    "              [0, 0, 0, 1, 0],\n",
    "              [0, 0, 0, 0, 0],\n",
    "              [0, 0, 0, 0, 0]])\n",
    "        \n",
    "#entry of matrix: (i,j) line i collum j, means (i-1,j-1)\n",
    "sol=solve([ eq1==m[0,2],\teq2==m[0,3],\teq3==m[0,4],\teq4==m[1,2],\t\n",
    "                                            eq5==m[1,3],    eq6==m[1,4],\n",
    "                                                            eq7==m[2,3], eq8==m[2,4]],d1,d2,d3,d4,d5,a12,a13,a14,a15,a23,a24,a25,a34,a35,a45, solution_dict=True)\n",
    "\n",
    "show(m)\n",
    "show(sol)\n",
    "latex(sol)"
   ]
  },
  {
   "cell_type": "code",
   "execution_count": 50,
   "metadata": {},
   "outputs": [
    {
     "data": {
      "text/html": [
       "<html><script type=\"math/tex; mode=display\">\\newcommand{\\Bold}[1]{\\mathbf{#1}}\\left(\\begin{array}{rrrrr}\n",
       "0 & 0 & 0 & 0 & 1 \\\\\n",
       "0 & 0 & 1 & 0 & 0 \\\\\n",
       "0 & 0 & 0 & 1 & 0 \\\\\n",
       "0 & 0 & 0 & 0 & 0 \\\\\n",
       "0 & 0 & 0 & 0 & 0\n",
       "\\end{array}\\right)</script></html>"
      ],
      "text/latex": [
       "$$\\newcommand{\\Bold}[1]{\\mathbf{#1}}\\left(\\begin{array}{rrrrr}\n",
       "0 & 0 & 0 & 0 & 1 \\\\\n",
       "0 & 0 & 1 & 0 & 0 \\\\\n",
       "0 & 0 & 0 & 1 & 0 \\\\\n",
       "0 & 0 & 0 & 0 & 0 \\\\\n",
       "0 & 0 & 0 & 0 & 0\n",
       "\\end{array}\\right)$$"
      ],
      "text/plain": [
       "[0 0 0 0 1]\n",
       "[0 0 1 0 0]\n",
       "[0 0 0 1 0]\n",
       "[0 0 0 0 0]\n",
       "[0 0 0 0 0]"
      ]
     },
     "metadata": {},
     "output_type": "display_data"
    },
    {
     "data": {
      "text/html": [
       "<html><script type=\"math/tex; mode=display\">\\newcommand{\\Bold}[1]{\\mathbf{#1}}\\left[\\left\\{d_{1} : r_{899}, d_{2} : 0, d_{3} : 0, d_{4} : 0, d_{5} : r_{900}, a_{12} : r_{901}, a_{13} : r_{902}, a_{14} : r_{903}, a_{15} : r_{904}, a_{23} : r_{905}, a_{24} : r_{906}, a_{25} : r_{907}, a_{34} : r_{908}, a_{35} : r_{909}, a_{45} : -\\frac{r_{900} x_{35}}{x_{34}}\\right\\}, \\left\\{d_{1} : r_{910}, d_{2} : r_{911}, d_{3} : \\frac{r_{911}}{x_{23}}, d_{4} : \\frac{r_{911}}{x_{23} x_{34}}, d_{5} : \\frac{r_{910}}{x_{15}}, a_{12} : \\frac{r_{911} x_{13}}{x_{23}}, a_{13} : r_{912}, a_{14} : r_{913}, a_{15} : r_{914}, a_{23} : \\frac{r_{912} x_{23}}{x_{13}}, a_{24} : r_{915}, a_{25} : r_{916}, a_{34} : \\frac{r_{912}}{x_{13}}, a_{35} : 0, a_{45} : -\\frac{r_{910} x_{35}}{x_{15} x_{34}}\\right\\}\\right]</script></html>"
      ],
      "text/latex": [
       "$$\\newcommand{\\Bold}[1]{\\mathbf{#1}}\\left[\\left\\{d_{1} : r_{899}, d_{2} : 0, d_{3} : 0, d_{4} : 0, d_{5} : r_{900}, a_{12} : r_{901}, a_{13} : r_{902}, a_{14} : r_{903}, a_{15} : r_{904}, a_{23} : r_{905}, a_{24} : r_{906}, a_{25} : r_{907}, a_{34} : r_{908}, a_{35} : r_{909}, a_{45} : -\\frac{r_{900} x_{35}}{x_{34}}\\right\\}, \\left\\{d_{1} : r_{910}, d_{2} : r_{911}, d_{3} : \\frac{r_{911}}{x_{23}}, d_{4} : \\frac{r_{911}}{x_{23} x_{34}}, d_{5} : \\frac{r_{910}}{x_{15}}, a_{12} : \\frac{r_{911} x_{13}}{x_{23}}, a_{13} : r_{912}, a_{14} : r_{913}, a_{15} : r_{914}, a_{23} : \\frac{r_{912} x_{23}}{x_{13}}, a_{24} : r_{915}, a_{25} : r_{916}, a_{34} : \\frac{r_{912}}{x_{13}}, a_{35} : 0, a_{45} : -\\frac{r_{910} x_{35}}{x_{15} x_{34}}\\right\\}\\right]$$"
      ],
      "text/plain": [
       "[{d1: r899,\n",
       "  d2: 0,\n",
       "  d3: 0,\n",
       "  d4: 0,\n",
       "  d5: r900,\n",
       "  a12: r901,\n",
       "  a13: r902,\n",
       "  a14: r903,\n",
       "  a15: r904,\n",
       "  a23: r905,\n",
       "  a24: r906,\n",
       "  a25: r907,\n",
       "  a34: r908,\n",
       "  a35: r909,\n",
       "  a45: -r900*x35/x34},\n",
       " {d1: r910,\n",
       "  d2: r911,\n",
       "  d3: r911/x23,\n",
       "  d4: r911/(x23*x34),\n",
       "  d5: r910/x15,\n",
       "  a12: r911*x13/x23,\n",
       "  a13: r912,\n",
       "  a14: r913,\n",
       "  a15: r914,\n",
       "  a23: r912*x23/x13,\n",
       "  a24: r915,\n",
       "  a25: r916,\n",
       "  a34: r912/x13,\n",
       "  a35: 0,\n",
       "  a45: -r910*x35/(x15*x34)}]"
      ]
     },
     "metadata": {},
     "output_type": "display_data"
    },
    {
     "data": {
      "text/plain": [
       "\\left[\\left\\{d_{1} : r_{899}, d_{2} : 0, d_{3} : 0, d_{4} : 0, d_{5} : r_{900}, a_{12} : r_{901}, a_{13} : r_{902}, a_{14} : r_{903}, a_{15} : r_{904}, a_{23} : r_{905}, a_{24} : r_{906}, a_{25} : r_{907}, a_{34} : r_{908}, a_{35} : r_{909}, a_{45} : -\\frac{r_{900} x_{35}}{x_{34}}\\right\\}, \\left\\{d_{1} : r_{910}, d_{2} : r_{911}, d_{3} : \\frac{r_{911}}{x_{23}}, d_{4} : \\frac{r_{911}}{x_{23} x_{34}}, d_{5} : \\frac{r_{910}}{x_{15}}, a_{12} : \\frac{r_{911} x_{13}}{x_{23}}, a_{13} : r_{912}, a_{14} : r_{913}, a_{15} : r_{914}, a_{23} : \\frac{r_{912} x_{23}}{x_{13}}, a_{24} : r_{915}, a_{25} : r_{916}, a_{34} : \\frac{r_{912}}{x_{13}}, a_{35} : 0, a_{45} : -\\frac{r_{910} x_{35}}{x_{15} x_{34}}\\right\\}\\right]"
      ]
     },
     "execution_count": 50,
     "metadata": {},
     "output_type": "execute_result"
    }
   ],
   "source": [
    "#x6\n",
    "reset()\n",
    "\n",
    "var('x12,x13,x14,x15,x23,x24,x25,x34,x35,x45')\n",
    "var('d1,d2,d3,d4,d5')\n",
    "var('a12,a13,a14,a15,a23,a24,a25,a34,a35,a45')\n",
    "\n",
    "load_attach_path('C:\\\\Users\\\\julia\\\\Documents\\\\unb\\\\doutorado\\\\pensar\\\\codigo_sage_v2\\\\maquina\\\\x6')\n",
    "load('out_#100101.sage')\n",
    "\n",
    "m=matrix(QQ, [[0, 0, 0, 0, 1],\n",
    "              [0, 0, 1, 0, 0],\n",
    "              [0, 0, 0, 1, 0],\n",
    "              [0, 0, 0, 0, 0],\n",
    "              [0, 0, 0, 0, 0]])\n",
    "        \n",
    "#entry of matrix: (i,j) line i collum j, means (i-1,j-1)\n",
    "sol=solve([ eq1==m[0,2],\teq2==m[0,3],\teq3==m[0,4],\teq4==m[1,2],\t\n",
    "                                            eq5==m[1,3],    eq6==m[1,4],\n",
    "                                                            eq7==m[2,3], eq8==m[2,4]],d1,d2,d3,d4,d5,a12,a13,a14,a15,a23,a24,a25,a34,a35,a45, solution_dict=True)\n",
    "\n",
    "show(m)\n",
    "show(sol)\n",
    "latex(sol)"
   ]
  },
  {
   "cell_type": "code",
   "execution_count": 52,
   "metadata": {},
   "outputs": [
    {
     "data": {
      "text/html": [
       "<html><script type=\"math/tex; mode=display\">\\newcommand{\\Bold}[1]{\\mathbf{#1}}\\left(\\begin{array}{rrrrr}\n",
       "0 & 0 & 0 & 0 & 1 \\\\\n",
       "0 & 0 & 1 & 0 & 0 \\\\\n",
       "0 & 0 & 0 & 1 & 0 \\\\\n",
       "0 & 0 & 0 & 0 & 0 \\\\\n",
       "0 & 0 & 0 & 0 & 0\n",
       "\\end{array}\\right)</script></html>"
      ],
      "text/latex": [
       "$$\\newcommand{\\Bold}[1]{\\mathbf{#1}}\\left(\\begin{array}{rrrrr}\n",
       "0 & 0 & 0 & 0 & 1 \\\\\n",
       "0 & 0 & 1 & 0 & 0 \\\\\n",
       "0 & 0 & 0 & 1 & 0 \\\\\n",
       "0 & 0 & 0 & 0 & 0 \\\\\n",
       "0 & 0 & 0 & 0 & 0\n",
       "\\end{array}\\right)$$"
      ],
      "text/plain": [
       "[0 0 0 0 1]\n",
       "[0 0 1 0 0]\n",
       "[0 0 0 1 0]\n",
       "[0 0 0 0 0]\n",
       "[0 0 0 0 0]"
      ]
     },
     "metadata": {},
     "output_type": "display_data"
    },
    {
     "data": {
      "text/html": [
       "<html><script type=\"math/tex; mode=display\">\\newcommand{\\Bold}[1]{\\mathbf{#1}}\\left[\\left\\{d_{1} : r_{935}, d_{2} : 0, d_{3} : 0, d_{4} : 0, d_{5} : r_{936}, a_{12} : r_{937}, a_{13} : r_{938}, a_{14} : r_{939}, a_{15} : r_{940}, a_{23} : r_{941}, a_{24} : r_{942}, a_{25} : r_{943}, a_{34} : r_{944}, a_{35} : r_{945}, a_{45} : -\\frac{r_{936} x_{35}}{x_{34}}\\right\\}, \\left\\{d_{1} : r_{946}, d_{2} : r_{947}, d_{3} : \\frac{r_{947}}{x_{23}}, d_{4} : \\frac{r_{947}}{x_{23} x_{34}}, d_{5} : -\\frac{r_{946} x_{34}}{x_{14} x_{35}}, a_{12} : \\frac{r_{947} x_{13}}{x_{23}}, a_{13} : r_{948}, a_{14} : r_{949}, a_{15} : r_{950}, a_{23} : \\frac{r_{948} x_{23} x_{34} - r_{947} x_{14}}{x_{13} x_{34}}, a_{24} : r_{951}, a_{25} : r_{952}, a_{34} : \\frac{r_{948} x_{23} x_{34} - r_{947} x_{14}}{x_{13} x_{23} x_{34}}, a_{35} : 0, a_{45} : \\frac{r_{946}}{x_{14}}\\right\\}\\right]</script></html>"
      ],
      "text/latex": [
       "$$\\newcommand{\\Bold}[1]{\\mathbf{#1}}\\left[\\left\\{d_{1} : r_{935}, d_{2} : 0, d_{3} : 0, d_{4} : 0, d_{5} : r_{936}, a_{12} : r_{937}, a_{13} : r_{938}, a_{14} : r_{939}, a_{15} : r_{940}, a_{23} : r_{941}, a_{24} : r_{942}, a_{25} : r_{943}, a_{34} : r_{944}, a_{35} : r_{945}, a_{45} : -\\frac{r_{936} x_{35}}{x_{34}}\\right\\}, \\left\\{d_{1} : r_{946}, d_{2} : r_{947}, d_{3} : \\frac{r_{947}}{x_{23}}, d_{4} : \\frac{r_{947}}{x_{23} x_{34}}, d_{5} : -\\frac{r_{946} x_{34}}{x_{14} x_{35}}, a_{12} : \\frac{r_{947} x_{13}}{x_{23}}, a_{13} : r_{948}, a_{14} : r_{949}, a_{15} : r_{950}, a_{23} : \\frac{r_{948} x_{23} x_{34} - r_{947} x_{14}}{x_{13} x_{34}}, a_{24} : r_{951}, a_{25} : r_{952}, a_{34} : \\frac{r_{948} x_{23} x_{34} - r_{947} x_{14}}{x_{13} x_{23} x_{34}}, a_{35} : 0, a_{45} : \\frac{r_{946}}{x_{14}}\\right\\}\\right]$$"
      ],
      "text/plain": [
       "[{d1: r935,\n",
       "  d2: 0,\n",
       "  d3: 0,\n",
       "  d4: 0,\n",
       "  d5: r936,\n",
       "  a12: r937,\n",
       "  a13: r938,\n",
       "  a14: r939,\n",
       "  a15: r940,\n",
       "  a23: r941,\n",
       "  a24: r942,\n",
       "  a25: r943,\n",
       "  a34: r944,\n",
       "  a35: r945,\n",
       "  a45: -r936*x35/x34},\n",
       " {d1: r946,\n",
       "  d2: r947,\n",
       "  d3: r947/x23,\n",
       "  d4: r947/(x23*x34),\n",
       "  d5: -r946*x34/(x14*x35),\n",
       "  a12: r947*x13/x23,\n",
       "  a13: r948,\n",
       "  a14: r949,\n",
       "  a15: r950,\n",
       "  a23: (r948*x23*x34 - r947*x14)/(x13*x34),\n",
       "  a24: r951,\n",
       "  a25: r952,\n",
       "  a34: (r948*x23*x34 - r947*x14)/(x13*x23*x34),\n",
       "  a35: 0,\n",
       "  a45: r946/x14}]"
      ]
     },
     "metadata": {},
     "output_type": "display_data"
    },
    {
     "data": {
      "text/plain": [
       "\\left[\\left\\{d_{1} : r_{935}, d_{2} : 0, d_{3} : 0, d_{4} : 0, d_{5} : r_{936}, a_{12} : r_{937}, a_{13} : r_{938}, a_{14} : r_{939}, a_{15} : r_{940}, a_{23} : r_{941}, a_{24} : r_{942}, a_{25} : r_{943}, a_{34} : r_{944}, a_{35} : r_{945}, a_{45} : -\\frac{r_{936} x_{35}}{x_{34}}\\right\\}, \\left\\{d_{1} : r_{946}, d_{2} : r_{947}, d_{3} : \\frac{r_{947}}{x_{23}}, d_{4} : \\frac{r_{947}}{x_{23} x_{34}}, d_{5} : -\\frac{r_{946} x_{34}}{x_{14} x_{35}}, a_{12} : \\frac{r_{947} x_{13}}{x_{23}}, a_{13} : r_{948}, a_{14} : r_{949}, a_{15} : r_{950}, a_{23} : \\frac{r_{948} x_{23} x_{34} - r_{947} x_{14}}{x_{13} x_{34}}, a_{24} : r_{951}, a_{25} : r_{952}, a_{34} : \\frac{r_{948} x_{23} x_{34} - r_{947} x_{14}}{x_{13} x_{23} x_{34}}, a_{35} : 0, a_{45} : \\frac{r_{946}}{x_{14}}\\right\\}\\right]"
      ]
     },
     "execution_count": 52,
     "metadata": {},
     "output_type": "execute_result"
    }
   ],
   "source": [
    "#x6\n",
    "reset()\n",
    "\n",
    "var('x12,x13,x14,x15,x23,x24,x25,x34,x35,x45')\n",
    "var('d1,d2,d3,d4,d5')\n",
    "var('a12,a13,a14,a15,a23,a24,a25,a34,a35,a45')\n",
    "\n",
    "load_attach_path('C:\\\\Users\\\\julia\\\\Documents\\\\unb\\\\doutorado\\\\pensar\\\\codigo_sage_v2\\\\maquina\\\\x6')\n",
    "load('out_#100110.sage')\n",
    "\n",
    "m=matrix(QQ, [[0, 0, 0, 0, 1],\n",
    "              [0, 0, 1, 0, 0],\n",
    "              [0, 0, 0, 1, 0],\n",
    "              [0, 0, 0, 0, 0],\n",
    "              [0, 0, 0, 0, 0]])\n",
    "        \n",
    "#entry of matrix: (i,j) line i collum j, means (i-1,j-1)\n",
    "sol=solve([ eq1==m[0,2],\teq2==m[0,3],\teq3==m[0,4],\teq4==m[1,2],\t\n",
    "                                            eq5==m[1,3],    eq6==m[1,4],\n",
    "                                                            eq7==m[2,3], eq8==m[2,4]],d1,d2,d3,d4,d5,a12,a13,a14,a15,a23,a24,a25,a34,a35,a45, solution_dict=True)\n",
    "\n",
    "show(m)\n",
    "show(sol)\n",
    "latex(sol)"
   ]
  },
  {
   "cell_type": "code",
   "execution_count": 53,
   "metadata": {},
   "outputs": [
    {
     "data": {
      "text/html": [
       "<html><script type=\"math/tex; mode=display\">\\newcommand{\\Bold}[1]{\\mathbf{#1}}\\left(\\begin{array}{rrrrr}\n",
       "0 & 0 & 0 & 0 & 1 \\\\\n",
       "0 & 0 & 1 & 0 & 0 \\\\\n",
       "0 & 0 & 0 & 1 & 0 \\\\\n",
       "0 & 0 & 0 & 0 & 0 \\\\\n",
       "0 & 0 & 0 & 0 & 0\n",
       "\\end{array}\\right)</script></html>"
      ],
      "text/latex": [
       "$$\\newcommand{\\Bold}[1]{\\mathbf{#1}}\\left(\\begin{array}{rrrrr}\n",
       "0 & 0 & 0 & 0 & 1 \\\\\n",
       "0 & 0 & 1 & 0 & 0 \\\\\n",
       "0 & 0 & 0 & 1 & 0 \\\\\n",
       "0 & 0 & 0 & 0 & 0 \\\\\n",
       "0 & 0 & 0 & 0 & 0\n",
       "\\end{array}\\right)$$"
      ],
      "text/plain": [
       "[0 0 0 0 1]\n",
       "[0 0 1 0 0]\n",
       "[0 0 0 1 0]\n",
       "[0 0 0 0 0]\n",
       "[0 0 0 0 0]"
      ]
     },
     "metadata": {},
     "output_type": "display_data"
    },
    {
     "data": {
      "text/html": [
       "<html><script type=\"math/tex; mode=display\">\\newcommand{\\Bold}[1]{\\mathbf{#1}}\\left[\\left\\{d_{1} : r_{953}, d_{2} : 0, d_{3} : 0, d_{4} : 0, d_{5} : r_{954}, a_{12} : r_{955}, a_{13} : r_{956}, a_{14} : r_{957}, a_{15} : r_{958}, a_{23} : r_{959}, a_{24} : r_{960}, a_{25} : r_{961}, a_{34} : r_{962}, a_{35} : r_{963}, a_{45} : -\\frac{r_{954} x_{35}}{x_{34}}\\right\\}, \\left\\{d_{1} : r_{964}, d_{2} : r_{965}, d_{3} : \\frac{r_{965}}{x_{23}}, d_{4} : \\frac{r_{965}}{x_{23} x_{34}}, d_{5} : \\frac{r_{964} x_{34}}{x_{15} x_{34} - x_{14} x_{35}}, a_{12} : \\frac{r_{965} x_{13}}{x_{23}}, a_{13} : r_{966}, a_{14} : r_{967}, a_{15} : r_{968}, a_{23} : \\frac{r_{966} x_{23} x_{34} - r_{965} x_{14}}{x_{13} x_{34}}, a_{24} : r_{969}, a_{25} : r_{970}, a_{34} : \\frac{r_{966} x_{23} x_{34} - r_{965} x_{14}}{x_{13} x_{23} x_{34}}, a_{35} : 0, a_{45} : -\\frac{r_{964} x_{35}}{x_{15} x_{34} - x_{14} x_{35}}\\right\\}\\right]</script></html>"
      ],
      "text/latex": [
       "$$\\newcommand{\\Bold}[1]{\\mathbf{#1}}\\left[\\left\\{d_{1} : r_{953}, d_{2} : 0, d_{3} : 0, d_{4} : 0, d_{5} : r_{954}, a_{12} : r_{955}, a_{13} : r_{956}, a_{14} : r_{957}, a_{15} : r_{958}, a_{23} : r_{959}, a_{24} : r_{960}, a_{25} : r_{961}, a_{34} : r_{962}, a_{35} : r_{963}, a_{45} : -\\frac{r_{954} x_{35}}{x_{34}}\\right\\}, \\left\\{d_{1} : r_{964}, d_{2} : r_{965}, d_{3} : \\frac{r_{965}}{x_{23}}, d_{4} : \\frac{r_{965}}{x_{23} x_{34}}, d_{5} : \\frac{r_{964} x_{34}}{x_{15} x_{34} - x_{14} x_{35}}, a_{12} : \\frac{r_{965} x_{13}}{x_{23}}, a_{13} : r_{966}, a_{14} : r_{967}, a_{15} : r_{968}, a_{23} : \\frac{r_{966} x_{23} x_{34} - r_{965} x_{14}}{x_{13} x_{34}}, a_{24} : r_{969}, a_{25} : r_{970}, a_{34} : \\frac{r_{966} x_{23} x_{34} - r_{965} x_{14}}{x_{13} x_{23} x_{34}}, a_{35} : 0, a_{45} : -\\frac{r_{964} x_{35}}{x_{15} x_{34} - x_{14} x_{35}}\\right\\}\\right]$$"
      ],
      "text/plain": [
       "[{d1: r953,\n",
       "  d2: 0,\n",
       "  d3: 0,\n",
       "  d4: 0,\n",
       "  d5: r954,\n",
       "  a12: r955,\n",
       "  a13: r956,\n",
       "  a14: r957,\n",
       "  a15: r958,\n",
       "  a23: r959,\n",
       "  a24: r960,\n",
       "  a25: r961,\n",
       "  a34: r962,\n",
       "  a35: r963,\n",
       "  a45: -r954*x35/x34},\n",
       " {d1: r964,\n",
       "  d2: r965,\n",
       "  d3: r965/x23,\n",
       "  d4: r965/(x23*x34),\n",
       "  d5: r964*x34/(x15*x34 - x14*x35),\n",
       "  a12: r965*x13/x23,\n",
       "  a13: r966,\n",
       "  a14: r967,\n",
       "  a15: r968,\n",
       "  a23: (r966*x23*x34 - r965*x14)/(x13*x34),\n",
       "  a24: r969,\n",
       "  a25: r970,\n",
       "  a34: (r966*x23*x34 - r965*x14)/(x13*x23*x34),\n",
       "  a35: 0,\n",
       "  a45: -r964*x35/(x15*x34 - x14*x35)}]"
      ]
     },
     "metadata": {},
     "output_type": "display_data"
    },
    {
     "data": {
      "text/plain": [
       "\\left[\\left\\{d_{1} : r_{953}, d_{2} : 0, d_{3} : 0, d_{4} : 0, d_{5} : r_{954}, a_{12} : r_{955}, a_{13} : r_{956}, a_{14} : r_{957}, a_{15} : r_{958}, a_{23} : r_{959}, a_{24} : r_{960}, a_{25} : r_{961}, a_{34} : r_{962}, a_{35} : r_{963}, a_{45} : -\\frac{r_{954} x_{35}}{x_{34}}\\right\\}, \\left\\{d_{1} : r_{964}, d_{2} : r_{965}, d_{3} : \\frac{r_{965}}{x_{23}}, d_{4} : \\frac{r_{965}}{x_{23} x_{34}}, d_{5} : \\frac{r_{964} x_{34}}{x_{15} x_{34} - x_{14} x_{35}}, a_{12} : \\frac{r_{965} x_{13}}{x_{23}}, a_{13} : r_{966}, a_{14} : r_{967}, a_{15} : r_{968}, a_{23} : \\frac{r_{966} x_{23} x_{34} - r_{965} x_{14}}{x_{13} x_{34}}, a_{24} : r_{969}, a_{25} : r_{970}, a_{34} : \\frac{r_{966} x_{23} x_{34} - r_{965} x_{14}}{x_{13} x_{23} x_{34}}, a_{35} : 0, a_{45} : -\\frac{r_{964} x_{35}}{x_{15} x_{34} - x_{14} x_{35}}\\right\\}\\right]"
      ]
     },
     "execution_count": 53,
     "metadata": {},
     "output_type": "execute_result"
    }
   ],
   "source": [
    "#x6\n",
    "#----------------------\n",
    "#x15 \\dif x14*x35/x34\n",
    "#----------------------\n",
    "reset()\n",
    "\n",
    "var('x12,x13,x14,x15,x23,x24,x25,x34,x35,x45')\n",
    "var('d1,d2,d3,d4,d5')\n",
    "var('a12,a13,a14,a15,a23,a24,a25,a34,a35,a45')\n",
    "\n",
    "load_attach_path('C:\\\\Users\\\\julia\\\\Documents\\\\unb\\\\doutorado\\\\pensar\\\\codigo_sage_v2\\\\maquina\\\\x6')\n",
    "load('out_#100111.sage')\n",
    "\n",
    "m=matrix(QQ, [[0, 0, 0, 0, 1],\n",
    "              [0, 0, 1, 0, 0],\n",
    "              [0, 0, 0, 1, 0],\n",
    "              [0, 0, 0, 0, 0],\n",
    "              [0, 0, 0, 0, 0]])\n",
    "        \n",
    "#entry of matrix: (i,j) line i collum j, means (i-1,j-1)\n",
    "sol=solve([ eq1==m[0,2],\teq2==m[0,3],\teq3==m[0,4],\teq4==m[1,2],\t\n",
    "                                            eq5==m[1,3],    eq6==m[1,4],\n",
    "                                                            eq7==m[2,3], eq8==m[2,4]],d1,d2,d3,d4,d5,a12,a13,a14,a15,a23,a24,a25,a34,a35,a45, solution_dict=True)\n",
    "\n",
    "show(m)\n",
    "show(sol)\n",
    "latex(sol)"
   ]
  },
  {
   "cell_type": "code",
   "execution_count": 54,
   "metadata": {},
   "outputs": [
    {
     "data": {
      "text/html": [
       "<html><script type=\"math/tex; mode=display\">\\newcommand{\\Bold}[1]{\\mathbf{#1}}\\left(\\begin{array}{rrrrr}\n",
       "0 & 0 & 0 & 0 & 0 \\\\\n",
       "0 & 0 & 1 & 0 & 0 \\\\\n",
       "0 & 0 & 0 & 1 & 0 \\\\\n",
       "0 & 0 & 0 & 0 & 0 \\\\\n",
       "0 & 0 & 0 & 0 & 0\n",
       "\\end{array}\\right)</script></html>"
      ],
      "text/latex": [
       "$$\\newcommand{\\Bold}[1]{\\mathbf{#1}}\\left(\\begin{array}{rrrrr}\n",
       "0 & 0 & 0 & 0 & 0 \\\\\n",
       "0 & 0 & 1 & 0 & 0 \\\\\n",
       "0 & 0 & 0 & 1 & 0 \\\\\n",
       "0 & 0 & 0 & 0 & 0 \\\\\n",
       "0 & 0 & 0 & 0 & 0\n",
       "\\end{array}\\right)$$"
      ],
      "text/plain": [
       "[0 0 0 0 0]\n",
       "[0 0 1 0 0]\n",
       "[0 0 0 1 0]\n",
       "[0 0 0 0 0]\n",
       "[0 0 0 0 0]"
      ]
     },
     "metadata": {},
     "output_type": "display_data"
    },
    {
     "data": {
      "text/html": [
       "<html><script type=\"math/tex; mode=display\">\\newcommand{\\Bold}[1]{\\mathbf{#1}}\\left[\\left\\{d_{1} : r_{971}, d_{2} : 0, d_{3} : 0, d_{4} : 0, d_{5} : r_{972}, a_{12} : r_{973}, a_{13} : r_{974}, a_{14} : r_{975}, a_{15} : r_{976}, a_{23} : r_{977}, a_{24} : r_{978}, a_{25} : r_{979}, a_{34} : r_{980}, a_{35} : r_{981}, a_{45} : -\\frac{r_{972} x_{35}}{x_{34}}\\right\\}, \\left\\{d_{1} : r_{982}, d_{2} : r_{983}, d_{3} : \\frac{r_{983}}{x_{23}}, d_{4} : \\frac{r_{983}}{x_{23} x_{34}}, d_{5} : r_{984}, a_{12} : \\frac{r_{983} x_{13}}{x_{23}}, a_{13} : r_{985}, a_{14} : r_{986}, a_{15} : r_{987}, a_{23} : \\frac{r_{985} x_{23} x_{34} - r_{983} x_{14}}{x_{13} x_{34}}, a_{24} : r_{988}, a_{25} : r_{989}, a_{34} : \\frac{r_{985} x_{23} x_{34} - r_{983} x_{14}}{x_{13} x_{23} x_{34}}, a_{35} : 0, a_{45} : -\\frac{r_{984} x_{35}}{x_{34}}\\right\\}\\right]</script></html>"
      ],
      "text/latex": [
       "$$\\newcommand{\\Bold}[1]{\\mathbf{#1}}\\left[\\left\\{d_{1} : r_{971}, d_{2} : 0, d_{3} : 0, d_{4} : 0, d_{5} : r_{972}, a_{12} : r_{973}, a_{13} : r_{974}, a_{14} : r_{975}, a_{15} : r_{976}, a_{23} : r_{977}, a_{24} : r_{978}, a_{25} : r_{979}, a_{34} : r_{980}, a_{35} : r_{981}, a_{45} : -\\frac{r_{972} x_{35}}{x_{34}}\\right\\}, \\left\\{d_{1} : r_{982}, d_{2} : r_{983}, d_{3} : \\frac{r_{983}}{x_{23}}, d_{4} : \\frac{r_{983}}{x_{23} x_{34}}, d_{5} : r_{984}, a_{12} : \\frac{r_{983} x_{13}}{x_{23}}, a_{13} : r_{985}, a_{14} : r_{986}, a_{15} : r_{987}, a_{23} : \\frac{r_{985} x_{23} x_{34} - r_{983} x_{14}}{x_{13} x_{34}}, a_{24} : r_{988}, a_{25} : r_{989}, a_{34} : \\frac{r_{985} x_{23} x_{34} - r_{983} x_{14}}{x_{13} x_{23} x_{34}}, a_{35} : 0, a_{45} : -\\frac{r_{984} x_{35}}{x_{34}}\\right\\}\\right]$$"
      ],
      "text/plain": [
       "[{d1: r971,\n",
       "  d2: 0,\n",
       "  d3: 0,\n",
       "  d4: 0,\n",
       "  d5: r972,\n",
       "  a12: r973,\n",
       "  a13: r974,\n",
       "  a14: r975,\n",
       "  a15: r976,\n",
       "  a23: r977,\n",
       "  a24: r978,\n",
       "  a25: r979,\n",
       "  a34: r980,\n",
       "  a35: r981,\n",
       "  a45: -r972*x35/x34},\n",
       " {d1: r982,\n",
       "  d2: r983,\n",
       "  d3: r983/x23,\n",
       "  d4: r983/(x23*x34),\n",
       "  d5: r984,\n",
       "  a12: r983*x13/x23,\n",
       "  a13: r985,\n",
       "  a14: r986,\n",
       "  a15: r987,\n",
       "  a23: (r985*x23*x34 - r983*x14)/(x13*x34),\n",
       "  a24: r988,\n",
       "  a25: r989,\n",
       "  a34: (r985*x23*x34 - r983*x14)/(x13*x23*x34),\n",
       "  a35: 0,\n",
       "  a45: -r984*x35/x34}]"
      ]
     },
     "metadata": {},
     "output_type": "display_data"
    },
    {
     "data": {
      "text/plain": [
       "\\left[\\left\\{d_{1} : r_{971}, d_{2} : 0, d_{3} : 0, d_{4} : 0, d_{5} : r_{972}, a_{12} : r_{973}, a_{13} : r_{974}, a_{14} : r_{975}, a_{15} : r_{976}, a_{23} : r_{977}, a_{24} : r_{978}, a_{25} : r_{979}, a_{34} : r_{980}, a_{35} : r_{981}, a_{45} : -\\frac{r_{972} x_{35}}{x_{34}}\\right\\}, \\left\\{d_{1} : r_{982}, d_{2} : r_{983}, d_{3} : \\frac{r_{983}}{x_{23}}, d_{4} : \\frac{r_{983}}{x_{23} x_{34}}, d_{5} : r_{984}, a_{12} : \\frac{r_{983} x_{13}}{x_{23}}, a_{13} : r_{985}, a_{14} : r_{986}, a_{15} : r_{987}, a_{23} : \\frac{r_{985} x_{23} x_{34} - r_{983} x_{14}}{x_{13} x_{34}}, a_{24} : r_{988}, a_{25} : r_{989}, a_{34} : \\frac{r_{985} x_{23} x_{34} - r_{983} x_{14}}{x_{13} x_{23} x_{34}}, a_{35} : 0, a_{45} : -\\frac{r_{984} x_{35}}{x_{34}}\\right\\}\\right]"
      ]
     },
     "execution_count": 54,
     "metadata": {},
     "output_type": "execute_result"
    }
   ],
   "source": [
    "#x6\n",
    "#----------------------\n",
    "#x15 = x14*x35/x34\n",
    "#----------------------\n",
    "reset()\n",
    "\n",
    "var('x12,x13,x14,x15,x23,x24,x25,x34,x35,x45')\n",
    "var('d1,d2,d3,d4,d5')\n",
    "var('a12,a13,a14,a15,a23,a24,a25,a34,a35,a45')\n",
    "\n",
    "#100111\n",
    "eq1=(d2*d3*x13-a12*d3*x23)/(d1*d2) \n",
    "eq2=(a34*d2*d3*x13+d2*d3*d4*x14-a12*a34*d3*x23-a12*d3*d4*0+a12*a23*d4*x34-a13*d2*d4*x34)/(d1*d2*d3) \n",
    "eq3=(a35*d2*d3*x13+a45*d2*d3*x14+d2*d3*d5*((x14*x35)/x34)-a12*a35*d3*x23-a12*a45*d3*0-a12*d3*d5*0+a12*a23*a45*x34-a13*a45*d2*x34+a12*a23*d5*x35-a13*d2*d5*x35)/(d1*d2*d3) \n",
    "eq4=(d3*x23)/(d2) \n",
    "eq5=(a34*d3*x23+d3*d4*0-a23*d4*x34)/(d2*d3) \n",
    "eq6=(a35*d3*x23+a45*d3*0+d3*d5*0-a23*a45*x34-a23*d5*x35)/(d2*d3) \n",
    "eq7=(d4*x34)/(d3) \n",
    "eq8=(a45*x34+d5*x35)/(d3) \n",
    "\n",
    "m=matrix(QQ, [[0, 0, 0, 0, 0],\n",
    "              [0, 0, 1, 0, 0],\n",
    "              [0, 0, 0, 1, 0],\n",
    "              [0, 0, 0, 0, 0],\n",
    "              [0, 0, 0, 0, 0]])\n",
    "        \n",
    "#entry of matrix: (i,j) line i collum j, means (i-1,j-1)\n",
    "sol=solve([ eq1==m[0,2],\teq2==m[0,3],\teq3==m[0,4],\teq4==m[1,2],\t\n",
    "                                            eq5==m[1,3],    eq6==m[1,4],\n",
    "                                                            eq7==m[2,3], eq8==m[2,4]],d1,d2,d3,d4,d5,a12,a13,a14,a15,a23,a24,a25,a34,a35,a45, solution_dict=True)\n",
    "\n",
    "show(m)\n",
    "show(sol)\n",
    "latex(sol)"
   ]
  },
  {
   "cell_type": "code",
   "execution_count": 55,
   "metadata": {},
   "outputs": [
    {
     "data": {
      "text/html": [
       "<html><script type=\"math/tex; mode=display\">\\newcommand{\\Bold}[1]{\\mathbf{#1}}\\left(\\begin{array}{rrrrr}\n",
       "0 & 0 & 0 & 0 & 0 \\\\\n",
       "0 & 0 & 1 & 0 & 0 \\\\\n",
       "0 & 0 & 0 & 1 & 0 \\\\\n",
       "0 & 0 & 0 & 0 & 0 \\\\\n",
       "0 & 0 & 0 & 0 & 0\n",
       "\\end{array}\\right)</script></html>"
      ],
      "text/latex": [
       "$$\\newcommand{\\Bold}[1]{\\mathbf{#1}}\\left(\\begin{array}{rrrrr}\n",
       "0 & 0 & 0 & 0 & 0 \\\\\n",
       "0 & 0 & 1 & 0 & 0 \\\\\n",
       "0 & 0 & 0 & 1 & 0 \\\\\n",
       "0 & 0 & 0 & 0 & 0 \\\\\n",
       "0 & 0 & 0 & 0 & 0\n",
       "\\end{array}\\right)$$"
      ],
      "text/plain": [
       "[0 0 0 0 0]\n",
       "[0 0 1 0 0]\n",
       "[0 0 0 1 0]\n",
       "[0 0 0 0 0]\n",
       "[0 0 0 0 0]"
      ]
     },
     "metadata": {},
     "output_type": "display_data"
    },
    {
     "data": {
      "text/html": [
       "<html><script type=\"math/tex; mode=display\">\\newcommand{\\Bold}[1]{\\mathbf{#1}}\\left[\\left\\{d_{1} : r_{990}, d_{2} : 0, d_{3} : 0, d_{4} : 0, d_{5} : r_{991}, a_{12} : r_{992}, a_{13} : r_{993}, a_{14} : r_{994}, a_{15} : r_{995}, a_{23} : r_{996}, a_{24} : r_{997}, a_{25} : r_{998}, a_{34} : r_{999}, a_{35} : r_{1000}, a_{45} : -\\frac{r_{991} x_{35}}{x_{34}}\\right\\}, \\left\\{d_{1} : r_{1001}, d_{2} : r_{1002}, d_{3} : \\frac{r_{1002}}{x_{23}}, d_{4} : \\frac{r_{1002}}{x_{23} x_{34}}, d_{5} : r_{1003}, a_{12} : 0, a_{13} : 0, a_{14} : r_{1004}, a_{15} : r_{1005}, a_{23} : r_{1006}, a_{24} : r_{1007}, a_{25} : r_{1008}, a_{34} : \\frac{r_{1006}}{x_{23}}, a_{35} : -\\frac{r_{1003} x_{25}}{x_{23}}, a_{45} : -\\frac{r_{1003} x_{35}}{x_{34}}\\right\\}\\right]</script></html>"
      ],
      "text/latex": [
       "$$\\newcommand{\\Bold}[1]{\\mathbf{#1}}\\left[\\left\\{d_{1} : r_{990}, d_{2} : 0, d_{3} : 0, d_{4} : 0, d_{5} : r_{991}, a_{12} : r_{992}, a_{13} : r_{993}, a_{14} : r_{994}, a_{15} : r_{995}, a_{23} : r_{996}, a_{24} : r_{997}, a_{25} : r_{998}, a_{34} : r_{999}, a_{35} : r_{1000}, a_{45} : -\\frac{r_{991} x_{35}}{x_{34}}\\right\\}, \\left\\{d_{1} : r_{1001}, d_{2} : r_{1002}, d_{3} : \\frac{r_{1002}}{x_{23}}, d_{4} : \\frac{r_{1002}}{x_{23} x_{34}}, d_{5} : r_{1003}, a_{12} : 0, a_{13} : 0, a_{14} : r_{1004}, a_{15} : r_{1005}, a_{23} : r_{1006}, a_{24} : r_{1007}, a_{25} : r_{1008}, a_{34} : \\frac{r_{1006}}{x_{23}}, a_{35} : -\\frac{r_{1003} x_{25}}{x_{23}}, a_{45} : -\\frac{r_{1003} x_{35}}{x_{34}}\\right\\}\\right]$$"
      ],
      "text/plain": [
       "[{d1: r990,\n",
       "  d2: 0,\n",
       "  d3: 0,\n",
       "  d4: 0,\n",
       "  d5: r991,\n",
       "  a12: r992,\n",
       "  a13: r993,\n",
       "  a14: r994,\n",
       "  a15: r995,\n",
       "  a23: r996,\n",
       "  a24: r997,\n",
       "  a25: r998,\n",
       "  a34: r999,\n",
       "  a35: r1000,\n",
       "  a45: -r991*x35/x34},\n",
       " {d1: r1001,\n",
       "  d2: r1002,\n",
       "  d3: r1002/x23,\n",
       "  d4: r1002/(x23*x34),\n",
       "  d5: r1003,\n",
       "  a12: 0,\n",
       "  a13: 0,\n",
       "  a14: r1004,\n",
       "  a15: r1005,\n",
       "  a23: r1006,\n",
       "  a24: r1007,\n",
       "  a25: r1008,\n",
       "  a34: r1006/x23,\n",
       "  a35: -r1003*x25/x23,\n",
       "  a45: -r1003*x35/x34}]"
      ]
     },
     "metadata": {},
     "output_type": "display_data"
    },
    {
     "data": {
      "text/plain": [
       "\\left[\\left\\{d_{1} : r_{990}, d_{2} : 0, d_{3} : 0, d_{4} : 0, d_{5} : r_{991}, a_{12} : r_{992}, a_{13} : r_{993}, a_{14} : r_{994}, a_{15} : r_{995}, a_{23} : r_{996}, a_{24} : r_{997}, a_{25} : r_{998}, a_{34} : r_{999}, a_{35} : r_{1000}, a_{45} : -\\frac{r_{991} x_{35}}{x_{34}}\\right\\}, \\left\\{d_{1} : r_{1001}, d_{2} : r_{1002}, d_{3} : \\frac{r_{1002}}{x_{23}}, d_{4} : \\frac{r_{1002}}{x_{23} x_{34}}, d_{5} : r_{1003}, a_{12} : 0, a_{13} : 0, a_{14} : r_{1004}, a_{15} : r_{1005}, a_{23} : r_{1006}, a_{24} : r_{1007}, a_{25} : r_{1008}, a_{34} : \\frac{r_{1006}}{x_{23}}, a_{35} : -\\frac{r_{1003} x_{25}}{x_{23}}, a_{45} : -\\frac{r_{1003} x_{35}}{x_{34}}\\right\\}\\right]"
      ]
     },
     "execution_count": 55,
     "metadata": {},
     "output_type": "execute_result"
    }
   ],
   "source": [
    "#x6\n",
    "reset()\n",
    "\n",
    "var('x12,x13,x14,x15,x23,x24,x25,x34,x35,x45')\n",
    "var('d1,d2,d3,d4,d5')\n",
    "var('a12,a13,a14,a15,a23,a24,a25,a34,a35,a45')\n",
    "\n",
    "load_attach_path('C:\\\\Users\\\\julia\\\\Documents\\\\unb\\\\doutorado\\\\pensar\\\\codigo_sage_v2\\\\maquina\\\\x6')\n",
    "load('out_#101000.sage')\n",
    "\n",
    "m=matrix(QQ, [[0, 0, 0, 0, 0],\n",
    "              [0, 0, 1, 0, 0],\n",
    "              [0, 0, 0, 1, 0],\n",
    "              [0, 0, 0, 0, 0],\n",
    "              [0, 0, 0, 0, 0]])\n",
    "        \n",
    "#entry of matrix: (i,j) line i collum j, means (i-1,j-1)\n",
    "sol=solve([ eq1==m[0,2],\teq2==m[0,3],\teq3==m[0,4],\teq4==m[1,2],\t\n",
    "                                            eq5==m[1,3],    eq6==m[1,4],\n",
    "                                                            eq7==m[2,3], eq8==m[2,4]],d1,d2,d3,d4,d5,a12,a13,a14,a15,a23,a24,a25,a34,a35,a45, solution_dict=True)\n",
    "\n",
    "show(m)\n",
    "show(sol)\n",
    "latex(sol)"
   ]
  },
  {
   "cell_type": "code",
   "execution_count": 56,
   "metadata": {},
   "outputs": [
    {
     "data": {
      "text/html": [
       "<html><script type=\"math/tex; mode=display\">\\newcommand{\\Bold}[1]{\\mathbf{#1}}\\left(\\begin{array}{rrrrr}\n",
       "0 & 0 & 0 & 0 & 1 \\\\\n",
       "0 & 0 & 1 & 0 & 0 \\\\\n",
       "0 & 0 & 0 & 1 & 0 \\\\\n",
       "0 & 0 & 0 & 0 & 0 \\\\\n",
       "0 & 0 & 0 & 0 & 0\n",
       "\\end{array}\\right)</script></html>"
      ],
      "text/latex": [
       "$$\\newcommand{\\Bold}[1]{\\mathbf{#1}}\\left(\\begin{array}{rrrrr}\n",
       "0 & 0 & 0 & 0 & 1 \\\\\n",
       "0 & 0 & 1 & 0 & 0 \\\\\n",
       "0 & 0 & 0 & 1 & 0 \\\\\n",
       "0 & 0 & 0 & 0 & 0 \\\\\n",
       "0 & 0 & 0 & 0 & 0\n",
       "\\end{array}\\right)$$"
      ],
      "text/plain": [
       "[0 0 0 0 1]\n",
       "[0 0 1 0 0]\n",
       "[0 0 0 1 0]\n",
       "[0 0 0 0 0]\n",
       "[0 0 0 0 0]"
      ]
     },
     "metadata": {},
     "output_type": "display_data"
    },
    {
     "data": {
      "text/html": [
       "<html><script type=\"math/tex; mode=display\">\\newcommand{\\Bold}[1]{\\mathbf{#1}}\\left[\\left\\{d_{1} : r_{1009}, d_{2} : 0, d_{3} : 0, d_{4} : 0, d_{5} : r_{1010}, a_{12} : r_{1011}, a_{13} : r_{1012}, a_{14} : r_{1013}, a_{15} : r_{1014}, a_{23} : r_{1015}, a_{24} : r_{1016}, a_{25} : r_{1017}, a_{34} : r_{1018}, a_{35} : r_{1019}, a_{45} : -\\frac{r_{1010} x_{35}}{x_{34}}\\right\\}, \\left\\{d_{1} : r_{1020}, d_{2} : r_{1021}, d_{3} : \\frac{r_{1021}}{x_{23}}, d_{4} : \\frac{r_{1021}}{x_{23} x_{34}}, d_{5} : \\frac{r_{1020}}{x_{15}}, a_{12} : 0, a_{13} : 0, a_{14} : r_{1022}, a_{15} : r_{1023}, a_{23} : r_{1024}, a_{24} : r_{1025}, a_{25} : r_{1026}, a_{34} : \\frac{r_{1024}}{x_{23}}, a_{35} : -\\frac{r_{1020} x_{25}}{x_{15} x_{23}}, a_{45} : -\\frac{r_{1020} x_{35}}{x_{15} x_{34}}\\right\\}\\right]</script></html>"
      ],
      "text/latex": [
       "$$\\newcommand{\\Bold}[1]{\\mathbf{#1}}\\left[\\left\\{d_{1} : r_{1009}, d_{2} : 0, d_{3} : 0, d_{4} : 0, d_{5} : r_{1010}, a_{12} : r_{1011}, a_{13} : r_{1012}, a_{14} : r_{1013}, a_{15} : r_{1014}, a_{23} : r_{1015}, a_{24} : r_{1016}, a_{25} : r_{1017}, a_{34} : r_{1018}, a_{35} : r_{1019}, a_{45} : -\\frac{r_{1010} x_{35}}{x_{34}}\\right\\}, \\left\\{d_{1} : r_{1020}, d_{2} : r_{1021}, d_{3} : \\frac{r_{1021}}{x_{23}}, d_{4} : \\frac{r_{1021}}{x_{23} x_{34}}, d_{5} : \\frac{r_{1020}}{x_{15}}, a_{12} : 0, a_{13} : 0, a_{14} : r_{1022}, a_{15} : r_{1023}, a_{23} : r_{1024}, a_{24} : r_{1025}, a_{25} : r_{1026}, a_{34} : \\frac{r_{1024}}{x_{23}}, a_{35} : -\\frac{r_{1020} x_{25}}{x_{15} x_{23}}, a_{45} : -\\frac{r_{1020} x_{35}}{x_{15} x_{34}}\\right\\}\\right]$$"
      ],
      "text/plain": [
       "[{d1: r1009,\n",
       "  d2: 0,\n",
       "  d3: 0,\n",
       "  d4: 0,\n",
       "  d5: r1010,\n",
       "  a12: r1011,\n",
       "  a13: r1012,\n",
       "  a14: r1013,\n",
       "  a15: r1014,\n",
       "  a23: r1015,\n",
       "  a24: r1016,\n",
       "  a25: r1017,\n",
       "  a34: r1018,\n",
       "  a35: r1019,\n",
       "  a45: -r1010*x35/x34},\n",
       " {d1: r1020,\n",
       "  d2: r1021,\n",
       "  d3: r1021/x23,\n",
       "  d4: r1021/(x23*x34),\n",
       "  d5: r1020/x15,\n",
       "  a12: 0,\n",
       "  a13: 0,\n",
       "  a14: r1022,\n",
       "  a15: r1023,\n",
       "  a23: r1024,\n",
       "  a24: r1025,\n",
       "  a25: r1026,\n",
       "  a34: r1024/x23,\n",
       "  a35: -r1020*x25/(x15*x23),\n",
       "  a45: -r1020*x35/(x15*x34)}]"
      ]
     },
     "metadata": {},
     "output_type": "display_data"
    },
    {
     "data": {
      "text/plain": [
       "\\left[\\left\\{d_{1} : r_{1009}, d_{2} : 0, d_{3} : 0, d_{4} : 0, d_{5} : r_{1010}, a_{12} : r_{1011}, a_{13} : r_{1012}, a_{14} : r_{1013}, a_{15} : r_{1014}, a_{23} : r_{1015}, a_{24} : r_{1016}, a_{25} : r_{1017}, a_{34} : r_{1018}, a_{35} : r_{1019}, a_{45} : -\\frac{r_{1010} x_{35}}{x_{34}}\\right\\}, \\left\\{d_{1} : r_{1020}, d_{2} : r_{1021}, d_{3} : \\frac{r_{1021}}{x_{23}}, d_{4} : \\frac{r_{1021}}{x_{23} x_{34}}, d_{5} : \\frac{r_{1020}}{x_{15}}, a_{12} : 0, a_{13} : 0, a_{14} : r_{1022}, a_{15} : r_{1023}, a_{23} : r_{1024}, a_{24} : r_{1025}, a_{25} : r_{1026}, a_{34} : \\frac{r_{1024}}{x_{23}}, a_{35} : -\\frac{r_{1020} x_{25}}{x_{15} x_{23}}, a_{45} : -\\frac{r_{1020} x_{35}}{x_{15} x_{34}}\\right\\}\\right]"
      ]
     },
     "execution_count": 56,
     "metadata": {},
     "output_type": "execute_result"
    }
   ],
   "source": [
    "#x6\n",
    "reset()\n",
    "\n",
    "var('x12,x13,x14,x15,x23,x24,x25,x34,x35,x45')\n",
    "var('d1,d2,d3,d4,d5')\n",
    "var('a12,a13,a14,a15,a23,a24,a25,a34,a35,a45')\n",
    "\n",
    "load_attach_path('C:\\\\Users\\\\julia\\\\Documents\\\\unb\\\\doutorado\\\\pensar\\\\codigo_sage_v2\\\\maquina\\\\x6')\n",
    "load('out_#101001.sage')\n",
    "\n",
    "m=matrix(QQ, [[0, 0, 0, 0, 1],\n",
    "              [0, 0, 1, 0, 0],\n",
    "              [0, 0, 0, 1, 0],\n",
    "              [0, 0, 0, 0, 0],\n",
    "              [0, 0, 0, 0, 0]])\n",
    "        \n",
    "#entry of matrix: (i,j) line i collum j, means (i-1,j-1)\n",
    "sol=solve([ eq1==m[0,2],\teq2==m[0,3],\teq3==m[0,4],\teq4==m[1,2],\t\n",
    "                                            eq5==m[1,3],    eq6==m[1,4],\n",
    "                                                            eq7==m[2,3], eq8==m[2,4]],d1,d2,d3,d4,d5,a12,a13,a14,a15,a23,a24,a25,a34,a35,a45, solution_dict=True)\n",
    "\n",
    "show(m)\n",
    "show(sol)\n",
    "latex(sol)"
   ]
  },
  {
   "cell_type": "code",
   "execution_count": 57,
   "metadata": {},
   "outputs": [
    {
     "data": {
      "text/html": [
       "<html><script type=\"math/tex; mode=display\">\\newcommand{\\Bold}[1]{\\mathbf{#1}}\\left(\\begin{array}{rrrrr}\n",
       "0 & 0 & 0 & 0 & 1 \\\\\n",
       "0 & 0 & 1 & 0 & 0 \\\\\n",
       "0 & 0 & 0 & 1 & 0 \\\\\n",
       "0 & 0 & 0 & 0 & 0 \\\\\n",
       "0 & 0 & 0 & 0 & 0\n",
       "\\end{array}\\right)</script></html>"
      ],
      "text/latex": [
       "$$\\newcommand{\\Bold}[1]{\\mathbf{#1}}\\left(\\begin{array}{rrrrr}\n",
       "0 & 0 & 0 & 0 & 1 \\\\\n",
       "0 & 0 & 1 & 0 & 0 \\\\\n",
       "0 & 0 & 0 & 1 & 0 \\\\\n",
       "0 & 0 & 0 & 0 & 0 \\\\\n",
       "0 & 0 & 0 & 0 & 0\n",
       "\\end{array}\\right)$$"
      ],
      "text/plain": [
       "[0 0 0 0 1]\n",
       "[0 0 1 0 0]\n",
       "[0 0 0 1 0]\n",
       "[0 0 0 0 0]\n",
       "[0 0 0 0 0]"
      ]
     },
     "metadata": {},
     "output_type": "display_data"
    },
    {
     "data": {
      "text/html": [
       "<html><script type=\"math/tex; mode=display\">\\newcommand{\\Bold}[1]{\\mathbf{#1}}\\left[\\left\\{d_{1} : r_{1027}, d_{2} : 0, d_{3} : 0, d_{4} : 0, d_{5} : r_{1028}, a_{12} : r_{1029}, a_{13} : r_{1030}, a_{14} : r_{1031}, a_{15} : r_{1032}, a_{23} : r_{1033}, a_{24} : r_{1034}, a_{25} : r_{1035}, a_{34} : r_{1036}, a_{35} : r_{1037}, a_{45} : -\\frac{r_{1028} x_{35}}{x_{34}}\\right\\}, \\left\\{d_{1} : r_{1038}, d_{2} : r_{1039}, d_{3} : \\frac{r_{1039}}{x_{23}}, d_{4} : \\frac{r_{1039}}{x_{23} x_{34}}, d_{5} : -\\frac{r_{1038} x_{34}}{x_{14} x_{35}}, a_{12} : 0, a_{13} : \\frac{r_{1039} x_{14}}{x_{23} x_{34}}, a_{14} : r_{1040}, a_{15} : r_{1041}, a_{23} : r_{1042}, a_{24} : r_{1043}, a_{25} : r_{1044}, a_{34} : \\frac{r_{1042}}{x_{23}}, a_{35} : \\frac{r_{1038} x_{25} x_{34}}{x_{14} x_{23} x_{35}}, a_{45} : \\frac{r_{1038}}{x_{14}}\\right\\}\\right]</script></html>"
      ],
      "text/latex": [
       "$$\\newcommand{\\Bold}[1]{\\mathbf{#1}}\\left[\\left\\{d_{1} : r_{1027}, d_{2} : 0, d_{3} : 0, d_{4} : 0, d_{5} : r_{1028}, a_{12} : r_{1029}, a_{13} : r_{1030}, a_{14} : r_{1031}, a_{15} : r_{1032}, a_{23} : r_{1033}, a_{24} : r_{1034}, a_{25} : r_{1035}, a_{34} : r_{1036}, a_{35} : r_{1037}, a_{45} : -\\frac{r_{1028} x_{35}}{x_{34}}\\right\\}, \\left\\{d_{1} : r_{1038}, d_{2} : r_{1039}, d_{3} : \\frac{r_{1039}}{x_{23}}, d_{4} : \\frac{r_{1039}}{x_{23} x_{34}}, d_{5} : -\\frac{r_{1038} x_{34}}{x_{14} x_{35}}, a_{12} : 0, a_{13} : \\frac{r_{1039} x_{14}}{x_{23} x_{34}}, a_{14} : r_{1040}, a_{15} : r_{1041}, a_{23} : r_{1042}, a_{24} : r_{1043}, a_{25} : r_{1044}, a_{34} : \\frac{r_{1042}}{x_{23}}, a_{35} : \\frac{r_{1038} x_{25} x_{34}}{x_{14} x_{23} x_{35}}, a_{45} : \\frac{r_{1038}}{x_{14}}\\right\\}\\right]$$"
      ],
      "text/plain": [
       "[{d1: r1027,\n",
       "  d2: 0,\n",
       "  d3: 0,\n",
       "  d4: 0,\n",
       "  d5: r1028,\n",
       "  a12: r1029,\n",
       "  a13: r1030,\n",
       "  a14: r1031,\n",
       "  a15: r1032,\n",
       "  a23: r1033,\n",
       "  a24: r1034,\n",
       "  a25: r1035,\n",
       "  a34: r1036,\n",
       "  a35: r1037,\n",
       "  a45: -r1028*x35/x34},\n",
       " {d1: r1038,\n",
       "  d2: r1039,\n",
       "  d3: r1039/x23,\n",
       "  d4: r1039/(x23*x34),\n",
       "  d5: -r1038*x34/(x14*x35),\n",
       "  a12: 0,\n",
       "  a13: r1039*x14/(x23*x34),\n",
       "  a14: r1040,\n",
       "  a15: r1041,\n",
       "  a23: r1042,\n",
       "  a24: r1043,\n",
       "  a25: r1044,\n",
       "  a34: r1042/x23,\n",
       "  a35: r1038*x25*x34/(x14*x23*x35),\n",
       "  a45: r1038/x14}]"
      ]
     },
     "metadata": {},
     "output_type": "display_data"
    },
    {
     "data": {
      "text/plain": [
       "\\left[\\left\\{d_{1} : r_{1027}, d_{2} : 0, d_{3} : 0, d_{4} : 0, d_{5} : r_{1028}, a_{12} : r_{1029}, a_{13} : r_{1030}, a_{14} : r_{1031}, a_{15} : r_{1032}, a_{23} : r_{1033}, a_{24} : r_{1034}, a_{25} : r_{1035}, a_{34} : r_{1036}, a_{35} : r_{1037}, a_{45} : -\\frac{r_{1028} x_{35}}{x_{34}}\\right\\}, \\left\\{d_{1} : r_{1038}, d_{2} : r_{1039}, d_{3} : \\frac{r_{1039}}{x_{23}}, d_{4} : \\frac{r_{1039}}{x_{23} x_{34}}, d_{5} : -\\frac{r_{1038} x_{34}}{x_{14} x_{35}}, a_{12} : 0, a_{13} : \\frac{r_{1039} x_{14}}{x_{23} x_{34}}, a_{14} : r_{1040}, a_{15} : r_{1041}, a_{23} : r_{1042}, a_{24} : r_{1043}, a_{25} : r_{1044}, a_{34} : \\frac{r_{1042}}{x_{23}}, a_{35} : \\frac{r_{1038} x_{25} x_{34}}{x_{14} x_{23} x_{35}}, a_{45} : \\frac{r_{1038}}{x_{14}}\\right\\}\\right]"
      ]
     },
     "execution_count": 57,
     "metadata": {},
     "output_type": "execute_result"
    }
   ],
   "source": [
    "#x6\n",
    "reset()\n",
    "\n",
    "var('x12,x13,x14,x15,x23,x24,x25,x34,x35,x45')\n",
    "var('d1,d2,d3,d4,d5')\n",
    "var('a12,a13,a14,a15,a23,a24,a25,a34,a35,a45')\n",
    "\n",
    "load_attach_path('C:\\\\Users\\\\julia\\\\Documents\\\\unb\\\\doutorado\\\\pensar\\\\codigo_sage_v2\\\\maquina\\\\x6')\n",
    "load('out_#101010.sage')\n",
    "\n",
    "m=matrix(QQ, [[0, 0, 0, 0, 1],\n",
    "              [0, 0, 1, 0, 0],\n",
    "              [0, 0, 0, 1, 0],\n",
    "              [0, 0, 0, 0, 0],\n",
    "              [0, 0, 0, 0, 0]])\n",
    "        \n",
    "#entry of matrix: (i,j) line i collum j, means (i-1,j-1)\n",
    "sol=solve([ eq1==m[0,2],\teq2==m[0,3],\teq3==m[0,4],\teq4==m[1,2],\t\n",
    "                                            eq5==m[1,3],    eq6==m[1,4],\n",
    "                                                            eq7==m[2,3], eq8==m[2,4]],d1,d2,d3,d4,d5,a12,a13,a14,a15,a23,a24,a25,a34,a35,a45, solution_dict=True)\n",
    "\n",
    "show(m)\n",
    "show(sol)\n",
    "latex(sol)"
   ]
  },
  {
   "cell_type": "code",
   "execution_count": 58,
   "metadata": {},
   "outputs": [
    {
     "data": {
      "text/html": [
       "<html><script type=\"math/tex; mode=display\">\\newcommand{\\Bold}[1]{\\mathbf{#1}}\\left(\\begin{array}{rrrrr}\n",
       "0 & 0 & 0 & 0 & 1 \\\\\n",
       "0 & 0 & 1 & 0 & 0 \\\\\n",
       "0 & 0 & 0 & 1 & 0 \\\\\n",
       "0 & 0 & 0 & 0 & 0 \\\\\n",
       "0 & 0 & 0 & 0 & 0\n",
       "\\end{array}\\right)</script></html>"
      ],
      "text/latex": [
       "$$\\newcommand{\\Bold}[1]{\\mathbf{#1}}\\left(\\begin{array}{rrrrr}\n",
       "0 & 0 & 0 & 0 & 1 \\\\\n",
       "0 & 0 & 1 & 0 & 0 \\\\\n",
       "0 & 0 & 0 & 1 & 0 \\\\\n",
       "0 & 0 & 0 & 0 & 0 \\\\\n",
       "0 & 0 & 0 & 0 & 0\n",
       "\\end{array}\\right)$$"
      ],
      "text/plain": [
       "[0 0 0 0 1]\n",
       "[0 0 1 0 0]\n",
       "[0 0 0 1 0]\n",
       "[0 0 0 0 0]\n",
       "[0 0 0 0 0]"
      ]
     },
     "metadata": {},
     "output_type": "display_data"
    },
    {
     "data": {
      "text/html": [
       "<html><script type=\"math/tex; mode=display\">\\newcommand{\\Bold}[1]{\\mathbf{#1}}\\left[\\left\\{d_{1} : r_{1045}, d_{2} : 0, d_{3} : 0, d_{4} : 0, d_{5} : r_{1046}, a_{12} : r_{1047}, a_{13} : r_{1048}, a_{14} : r_{1049}, a_{15} : r_{1050}, a_{23} : r_{1051}, a_{24} : r_{1052}, a_{25} : r_{1053}, a_{34} : r_{1054}, a_{35} : r_{1055}, a_{45} : -\\frac{r_{1046} x_{35}}{x_{34}}\\right\\}, \\left\\{d_{1} : r_{1056}, d_{2} : r_{1057}, d_{3} : \\frac{r_{1057}}{x_{23}}, d_{4} : \\frac{r_{1057}}{x_{23} x_{34}}, d_{5} : \\frac{r_{1056} x_{34}}{x_{15} x_{34} - x_{14} x_{35}}, a_{12} : 0, a_{13} : \\frac{r_{1057} x_{14}}{x_{23} x_{34}}, a_{14} : r_{1058}, a_{15} : r_{1059}, a_{23} : r_{1060}, a_{24} : r_{1061}, a_{25} : r_{1062}, a_{34} : \\frac{r_{1060}}{x_{23}}, a_{35} : -\\frac{r_{1056} x_{25} x_{34}}{x_{15} x_{23} x_{34} - x_{14} x_{23} x_{35}}, a_{45} : -\\frac{r_{1056} x_{35}}{x_{15} x_{34} - x_{14} x_{35}}\\right\\}\\right]</script></html>"
      ],
      "text/latex": [
       "$$\\newcommand{\\Bold}[1]{\\mathbf{#1}}\\left[\\left\\{d_{1} : r_{1045}, d_{2} : 0, d_{3} : 0, d_{4} : 0, d_{5} : r_{1046}, a_{12} : r_{1047}, a_{13} : r_{1048}, a_{14} : r_{1049}, a_{15} : r_{1050}, a_{23} : r_{1051}, a_{24} : r_{1052}, a_{25} : r_{1053}, a_{34} : r_{1054}, a_{35} : r_{1055}, a_{45} : -\\frac{r_{1046} x_{35}}{x_{34}}\\right\\}, \\left\\{d_{1} : r_{1056}, d_{2} : r_{1057}, d_{3} : \\frac{r_{1057}}{x_{23}}, d_{4} : \\frac{r_{1057}}{x_{23} x_{34}}, d_{5} : \\frac{r_{1056} x_{34}}{x_{15} x_{34} - x_{14} x_{35}}, a_{12} : 0, a_{13} : \\frac{r_{1057} x_{14}}{x_{23} x_{34}}, a_{14} : r_{1058}, a_{15} : r_{1059}, a_{23} : r_{1060}, a_{24} : r_{1061}, a_{25} : r_{1062}, a_{34} : \\frac{r_{1060}}{x_{23}}, a_{35} : -\\frac{r_{1056} x_{25} x_{34}}{x_{15} x_{23} x_{34} - x_{14} x_{23} x_{35}}, a_{45} : -\\frac{r_{1056} x_{35}}{x_{15} x_{34} - x_{14} x_{35}}\\right\\}\\right]$$"
      ],
      "text/plain": [
       "[{d1: r1045,\n",
       "  d2: 0,\n",
       "  d3: 0,\n",
       "  d4: 0,\n",
       "  d5: r1046,\n",
       "  a12: r1047,\n",
       "  a13: r1048,\n",
       "  a14: r1049,\n",
       "  a15: r1050,\n",
       "  a23: r1051,\n",
       "  a24: r1052,\n",
       "  a25: r1053,\n",
       "  a34: r1054,\n",
       "  a35: r1055,\n",
       "  a45: -r1046*x35/x34},\n",
       " {d1: r1056,\n",
       "  d2: r1057,\n",
       "  d3: r1057/x23,\n",
       "  d4: r1057/(x23*x34),\n",
       "  d5: r1056*x34/(x15*x34 - x14*x35),\n",
       "  a12: 0,\n",
       "  a13: r1057*x14/(x23*x34),\n",
       "  a14: r1058,\n",
       "  a15: r1059,\n",
       "  a23: r1060,\n",
       "  a24: r1061,\n",
       "  a25: r1062,\n",
       "  a34: r1060/x23,\n",
       "  a35: -r1056*x25*x34/(x15*x23*x34 - x14*x23*x35),\n",
       "  a45: -r1056*x35/(x15*x34 - x14*x35)}]"
      ]
     },
     "metadata": {},
     "output_type": "display_data"
    },
    {
     "data": {
      "text/plain": [
       "\\left[\\left\\{d_{1} : r_{1045}, d_{2} : 0, d_{3} : 0, d_{4} : 0, d_{5} : r_{1046}, a_{12} : r_{1047}, a_{13} : r_{1048}, a_{14} : r_{1049}, a_{15} : r_{1050}, a_{23} : r_{1051}, a_{24} : r_{1052}, a_{25} : r_{1053}, a_{34} : r_{1054}, a_{35} : r_{1055}, a_{45} : -\\frac{r_{1046} x_{35}}{x_{34}}\\right\\}, \\left\\{d_{1} : r_{1056}, d_{2} : r_{1057}, d_{3} : \\frac{r_{1057}}{x_{23}}, d_{4} : \\frac{r_{1057}}{x_{23} x_{34}}, d_{5} : \\frac{r_{1056} x_{34}}{x_{15} x_{34} - x_{14} x_{35}}, a_{12} : 0, a_{13} : \\frac{r_{1057} x_{14}}{x_{23} x_{34}}, a_{14} : r_{1058}, a_{15} : r_{1059}, a_{23} : r_{1060}, a_{24} : r_{1061}, a_{25} : r_{1062}, a_{34} : \\frac{r_{1060}}{x_{23}}, a_{35} : -\\frac{r_{1056} x_{25} x_{34}}{x_{15} x_{23} x_{34} - x_{14} x_{23} x_{35}}, a_{45} : -\\frac{r_{1056} x_{35}}{x_{15} x_{34} - x_{14} x_{35}}\\right\\}\\right]"
      ]
     },
     "execution_count": 58,
     "metadata": {},
     "output_type": "execute_result"
    }
   ],
   "source": [
    "#x6\n",
    "#----------------------\n",
    "#x15 \\dif x14*x35/x34\n",
    "#----------------------\n",
    "reset()\n",
    "\n",
    "var('x12,x13,x14,x15,x23,x24,x25,x34,x35,x45')\n",
    "var('d1,d2,d3,d4,d5')\n",
    "var('a12,a13,a14,a15,a23,a24,a25,a34,a35,a45')\n",
    "\n",
    "load_attach_path('C:\\\\Users\\\\julia\\\\Documents\\\\unb\\\\doutorado\\\\pensar\\\\codigo_sage_v2\\\\maquina\\\\x6')\n",
    "load('out_#101011.sage')\n",
    "\n",
    "m=matrix(QQ, [[0, 0, 0, 0, 1],\n",
    "              [0, 0, 1, 0, 0],\n",
    "              [0, 0, 0, 1, 0],\n",
    "              [0, 0, 0, 0, 0],\n",
    "              [0, 0, 0, 0, 0]])\n",
    "        \n",
    "#entry of matrix: (i,j) line i collum j, means (i-1,j-1)\n",
    "sol=solve([ eq1==m[0,2],\teq2==m[0,3],\teq3==m[0,4],\teq4==m[1,2],\t\n",
    "                                            eq5==m[1,3],    eq6==m[1,4],\n",
    "                                                            eq7==m[2,3], eq8==m[2,4]],d1,d2,d3,d4,d5,a12,a13,a14,a15,a23,a24,a25,a34,a35,a45, solution_dict=True)\n",
    "\n",
    "show(m)\n",
    "show(sol)\n",
    "latex(sol)"
   ]
  },
  {
   "cell_type": "code",
   "execution_count": 59,
   "metadata": {},
   "outputs": [
    {
     "data": {
      "text/html": [
       "<html><script type=\"math/tex; mode=display\">\\newcommand{\\Bold}[1]{\\mathbf{#1}}\\left(\\begin{array}{rrrrr}\n",
       "0 & 0 & 0 & 0 & 0 \\\\\n",
       "0 & 0 & 1 & 0 & 0 \\\\\n",
       "0 & 0 & 0 & 1 & 0 \\\\\n",
       "0 & 0 & 0 & 0 & 0 \\\\\n",
       "0 & 0 & 0 & 0 & 0\n",
       "\\end{array}\\right)</script></html>"
      ],
      "text/latex": [
       "$$\\newcommand{\\Bold}[1]{\\mathbf{#1}}\\left(\\begin{array}{rrrrr}\n",
       "0 & 0 & 0 & 0 & 0 \\\\\n",
       "0 & 0 & 1 & 0 & 0 \\\\\n",
       "0 & 0 & 0 & 1 & 0 \\\\\n",
       "0 & 0 & 0 & 0 & 0 \\\\\n",
       "0 & 0 & 0 & 0 & 0\n",
       "\\end{array}\\right)$$"
      ],
      "text/plain": [
       "[0 0 0 0 0]\n",
       "[0 0 1 0 0]\n",
       "[0 0 0 1 0]\n",
       "[0 0 0 0 0]\n",
       "[0 0 0 0 0]"
      ]
     },
     "metadata": {},
     "output_type": "display_data"
    },
    {
     "data": {
      "text/html": [
       "<html><script type=\"math/tex; mode=display\">\\newcommand{\\Bold}[1]{\\mathbf{#1}}\\left[\\left\\{d_{1} : r_{1063}, d_{2} : 0, d_{3} : 0, d_{4} : 0, d_{5} : r_{1064}, a_{12} : r_{1065}, a_{13} : r_{1066}, a_{14} : r_{1067}, a_{15} : r_{1068}, a_{23} : r_{1069}, a_{24} : r_{1070}, a_{25} : r_{1071}, a_{34} : r_{1072}, a_{35} : r_{1073}, a_{45} : -\\frac{r_{1064} x_{35}}{x_{34}}\\right\\}, \\left\\{d_{1} : r_{1074}, d_{2} : r_{1075}, d_{3} : \\frac{r_{1075}}{x_{23}}, d_{4} : \\frac{r_{1075}}{x_{23} x_{34}}, d_{5} : r_{1076}, a_{12} : 0, a_{13} : \\frac{r_{1075} x_{14}}{x_{23} x_{34}}, a_{14} : r_{1077}, a_{15} : r_{1078}, a_{23} : r_{1079}, a_{24} : r_{1080}, a_{25} : r_{1081}, a_{34} : \\frac{r_{1079}}{x_{23}}, a_{35} : -\\frac{r_{1076} x_{25}}{x_{23}}, a_{45} : -\\frac{r_{1076} x_{35}}{x_{34}}\\right\\}\\right]</script></html>"
      ],
      "text/latex": [
       "$$\\newcommand{\\Bold}[1]{\\mathbf{#1}}\\left[\\left\\{d_{1} : r_{1063}, d_{2} : 0, d_{3} : 0, d_{4} : 0, d_{5} : r_{1064}, a_{12} : r_{1065}, a_{13} : r_{1066}, a_{14} : r_{1067}, a_{15} : r_{1068}, a_{23} : r_{1069}, a_{24} : r_{1070}, a_{25} : r_{1071}, a_{34} : r_{1072}, a_{35} : r_{1073}, a_{45} : -\\frac{r_{1064} x_{35}}{x_{34}}\\right\\}, \\left\\{d_{1} : r_{1074}, d_{2} : r_{1075}, d_{3} : \\frac{r_{1075}}{x_{23}}, d_{4} : \\frac{r_{1075}}{x_{23} x_{34}}, d_{5} : r_{1076}, a_{12} : 0, a_{13} : \\frac{r_{1075} x_{14}}{x_{23} x_{34}}, a_{14} : r_{1077}, a_{15} : r_{1078}, a_{23} : r_{1079}, a_{24} : r_{1080}, a_{25} : r_{1081}, a_{34} : \\frac{r_{1079}}{x_{23}}, a_{35} : -\\frac{r_{1076} x_{25}}{x_{23}}, a_{45} : -\\frac{r_{1076} x_{35}}{x_{34}}\\right\\}\\right]$$"
      ],
      "text/plain": [
       "[{d1: r1063,\n",
       "  d2: 0,\n",
       "  d3: 0,\n",
       "  d4: 0,\n",
       "  d5: r1064,\n",
       "  a12: r1065,\n",
       "  a13: r1066,\n",
       "  a14: r1067,\n",
       "  a15: r1068,\n",
       "  a23: r1069,\n",
       "  a24: r1070,\n",
       "  a25: r1071,\n",
       "  a34: r1072,\n",
       "  a35: r1073,\n",
       "  a45: -r1064*x35/x34},\n",
       " {d1: r1074,\n",
       "  d2: r1075,\n",
       "  d3: r1075/x23,\n",
       "  d4: r1075/(x23*x34),\n",
       "  d5: r1076,\n",
       "  a12: 0,\n",
       "  a13: r1075*x14/(x23*x34),\n",
       "  a14: r1077,\n",
       "  a15: r1078,\n",
       "  a23: r1079,\n",
       "  a24: r1080,\n",
       "  a25: r1081,\n",
       "  a34: r1079/x23,\n",
       "  a35: -r1076*x25/x23,\n",
       "  a45: -r1076*x35/x34}]"
      ]
     },
     "metadata": {},
     "output_type": "display_data"
    },
    {
     "data": {
      "text/plain": [
       "\\left[\\left\\{d_{1} : r_{1063}, d_{2} : 0, d_{3} : 0, d_{4} : 0, d_{5} : r_{1064}, a_{12} : r_{1065}, a_{13} : r_{1066}, a_{14} : r_{1067}, a_{15} : r_{1068}, a_{23} : r_{1069}, a_{24} : r_{1070}, a_{25} : r_{1071}, a_{34} : r_{1072}, a_{35} : r_{1073}, a_{45} : -\\frac{r_{1064} x_{35}}{x_{34}}\\right\\}, \\left\\{d_{1} : r_{1074}, d_{2} : r_{1075}, d_{3} : \\frac{r_{1075}}{x_{23}}, d_{4} : \\frac{r_{1075}}{x_{23} x_{34}}, d_{5} : r_{1076}, a_{12} : 0, a_{13} : \\frac{r_{1075} x_{14}}{x_{23} x_{34}}, a_{14} : r_{1077}, a_{15} : r_{1078}, a_{23} : r_{1079}, a_{24} : r_{1080}, a_{25} : r_{1081}, a_{34} : \\frac{r_{1079}}{x_{23}}, a_{35} : -\\frac{r_{1076} x_{25}}{x_{23}}, a_{45} : -\\frac{r_{1076} x_{35}}{x_{34}}\\right\\}\\right]"
      ]
     },
     "execution_count": 59,
     "metadata": {},
     "output_type": "execute_result"
    }
   ],
   "source": [
    "#x6\n",
    "#----------------------\n",
    "#x15 = x14*x35/x34\n",
    "#----------------------\n",
    "reset()\n",
    "\n",
    "var('x12,x13,x14,x15,x23,x24,x25,x34,x35,x45')\n",
    "var('d1,d2,d3,d4,d5')\n",
    "var('a12,a13,a14,a15,a23,a24,a25,a34,a35,a45')\n",
    "\n",
    "#101011\n",
    "eq1=(d2*d3*0-a12*d3*x23)/(d1*d2) \n",
    "eq2=(a34*d2*d3*0+d2*d3*d4*x14-a12*a34*d3*x23-a12*d3*d4*0+a12*a23*d4*x34-a13*d2*d4*x34)/(d1*d2*d3) \n",
    "eq3=(a35*d2*d3*0+a45*d2*d3*x14+d2*d3*d5*((x14*x35)/x34)-a12*a35*d3*x23-a12*a45*d3*0-a12*d3*d5*x25+a12*a23*a45*x34-a13*a45*d2*x34+a12*a23*d5*x35-a13*d2*d5*x35)/(d1*d2*d3) \n",
    "eq4=(d3*x23)/(d2) \n",
    "eq5=(a34*d3*x23+d3*d4*0-a23*d4*x34)/(d2*d3) \n",
    "eq6=(a35*d3*x23+a45*d3*0+d3*d5*x25-a23*a45*x34-a23*d5*x35)/(d2*d3) \n",
    "eq7=(d4*x34)/(d3) \n",
    "eq8=(a45*x34+d5*x35)/(d3) \n",
    "\n",
    "\n",
    "m=matrix(QQ, [[0, 0, 0, 0, 0],\n",
    "              [0, 0, 1, 0, 0],\n",
    "              [0, 0, 0, 1, 0],\n",
    "              [0, 0, 0, 0, 0],\n",
    "              [0, 0, 0, 0, 0]])\n",
    "        \n",
    "#entry of matrix: (i,j) line i collum j, means (i-1,j-1)\n",
    "sol=solve([ eq1==m[0,2],\teq2==m[0,3],\teq3==m[0,4],\teq4==m[1,2],\t\n",
    "                                            eq5==m[1,3],    eq6==m[1,4],\n",
    "                                                            eq7==m[2,3], eq8==m[2,4]],d1,d2,d3,d4,d5,a12,a13,a14,a15,a23,a24,a25,a34,a35,a45, solution_dict=True)\n",
    "\n",
    "show(m)\n",
    "show(sol)\n",
    "latex(sol)"
   ]
  },
  {
   "cell_type": "code",
   "execution_count": 61,
   "metadata": {},
   "outputs": [
    {
     "data": {
      "text/html": [
       "<html><script type=\"math/tex; mode=display\">\\newcommand{\\Bold}[1]{\\mathbf{#1}}\\left(\\begin{array}{rrrrr}\n",
       "0 & 0 & 0 & 0 & 1 \\\\\n",
       "0 & 0 & 1 & 0 & 0 \\\\\n",
       "0 & 0 & 0 & 1 & 0 \\\\\n",
       "0 & 0 & 0 & 0 & 0 \\\\\n",
       "0 & 0 & 0 & 0 & 0\n",
       "\\end{array}\\right)</script></html>"
      ],
      "text/latex": [
       "$$\\newcommand{\\Bold}[1]{\\mathbf{#1}}\\left(\\begin{array}{rrrrr}\n",
       "0 & 0 & 0 & 0 & 1 \\\\\n",
       "0 & 0 & 1 & 0 & 0 \\\\\n",
       "0 & 0 & 0 & 1 & 0 \\\\\n",
       "0 & 0 & 0 & 0 & 0 \\\\\n",
       "0 & 0 & 0 & 0 & 0\n",
       "\\end{array}\\right)$$"
      ],
      "text/plain": [
       "[0 0 0 0 1]\n",
       "[0 0 1 0 0]\n",
       "[0 0 0 1 0]\n",
       "[0 0 0 0 0]\n",
       "[0 0 0 0 0]"
      ]
     },
     "metadata": {},
     "output_type": "display_data"
    },
    {
     "data": {
      "text/html": [
       "<html><script type=\"math/tex; mode=display\">\\newcommand{\\Bold}[1]{\\mathbf{#1}}\\left[\\left\\{d_{1} : r_{1100}, d_{2} : 0, d_{3} : 0, d_{4} : 0, d_{5} : r_{1101}, a_{12} : r_{1102}, a_{13} : r_{1103}, a_{14} : r_{1104}, a_{15} : r_{1105}, a_{23} : r_{1106}, a_{24} : r_{1107}, a_{25} : r_{1108}, a_{34} : r_{1109}, a_{35} : r_{1110}, a_{45} : -\\frac{r_{1101} x_{35}}{x_{34}}\\right\\}, \\left\\{d_{1} : r_{1111}, d_{2} : r_{1112}, d_{3} : \\frac{r_{1112}}{x_{23}}, d_{4} : \\frac{r_{1112}}{x_{23} x_{34}}, d_{5} : -\\frac{r_{1111} x_{23}}{x_{13} x_{25}}, a_{12} : \\frac{r_{1112} x_{13}}{x_{23}}, a_{13} : r_{1113}, a_{14} : r_{1114}, a_{15} : r_{1115}, a_{23} : \\frac{r_{1113} x_{23}}{x_{13}}, a_{24} : r_{1116}, a_{25} : r_{1117}, a_{34} : \\frac{r_{1113}}{x_{13}}, a_{35} : \\frac{r_{1111}}{x_{13}}, a_{45} : \\frac{r_{1111} x_{23} x_{35}}{x_{13} x_{25} x_{34}}\\right\\}\\right]</script></html>"
      ],
      "text/latex": [
       "$$\\newcommand{\\Bold}[1]{\\mathbf{#1}}\\left[\\left\\{d_{1} : r_{1100}, d_{2} : 0, d_{3} : 0, d_{4} : 0, d_{5} : r_{1101}, a_{12} : r_{1102}, a_{13} : r_{1103}, a_{14} : r_{1104}, a_{15} : r_{1105}, a_{23} : r_{1106}, a_{24} : r_{1107}, a_{25} : r_{1108}, a_{34} : r_{1109}, a_{35} : r_{1110}, a_{45} : -\\frac{r_{1101} x_{35}}{x_{34}}\\right\\}, \\left\\{d_{1} : r_{1111}, d_{2} : r_{1112}, d_{3} : \\frac{r_{1112}}{x_{23}}, d_{4} : \\frac{r_{1112}}{x_{23} x_{34}}, d_{5} : -\\frac{r_{1111} x_{23}}{x_{13} x_{25}}, a_{12} : \\frac{r_{1112} x_{13}}{x_{23}}, a_{13} : r_{1113}, a_{14} : r_{1114}, a_{15} : r_{1115}, a_{23} : \\frac{r_{1113} x_{23}}{x_{13}}, a_{24} : r_{1116}, a_{25} : r_{1117}, a_{34} : \\frac{r_{1113}}{x_{13}}, a_{35} : \\frac{r_{1111}}{x_{13}}, a_{45} : \\frac{r_{1111} x_{23} x_{35}}{x_{13} x_{25} x_{34}}\\right\\}\\right]$$"
      ],
      "text/plain": [
       "[{d1: r1100,\n",
       "  d2: 0,\n",
       "  d3: 0,\n",
       "  d4: 0,\n",
       "  d5: r1101,\n",
       "  a12: r1102,\n",
       "  a13: r1103,\n",
       "  a14: r1104,\n",
       "  a15: r1105,\n",
       "  a23: r1106,\n",
       "  a24: r1107,\n",
       "  a25: r1108,\n",
       "  a34: r1109,\n",
       "  a35: r1110,\n",
       "  a45: -r1101*x35/x34},\n",
       " {d1: r1111,\n",
       "  d2: r1112,\n",
       "  d3: r1112/x23,\n",
       "  d4: r1112/(x23*x34),\n",
       "  d5: -r1111*x23/(x13*x25),\n",
       "  a12: r1112*x13/x23,\n",
       "  a13: r1113,\n",
       "  a14: r1114,\n",
       "  a15: r1115,\n",
       "  a23: r1113*x23/x13,\n",
       "  a24: r1116,\n",
       "  a25: r1117,\n",
       "  a34: r1113/x13,\n",
       "  a35: r1111/x13,\n",
       "  a45: r1111*x23*x35/(x13*x25*x34)}]"
      ]
     },
     "metadata": {},
     "output_type": "display_data"
    },
    {
     "data": {
      "text/plain": [
       "\\left[\\left\\{d_{1} : r_{1100}, d_{2} : 0, d_{3} : 0, d_{4} : 0, d_{5} : r_{1101}, a_{12} : r_{1102}, a_{13} : r_{1103}, a_{14} : r_{1104}, a_{15} : r_{1105}, a_{23} : r_{1106}, a_{24} : r_{1107}, a_{25} : r_{1108}, a_{34} : r_{1109}, a_{35} : r_{1110}, a_{45} : -\\frac{r_{1101} x_{35}}{x_{34}}\\right\\}, \\left\\{d_{1} : r_{1111}, d_{2} : r_{1112}, d_{3} : \\frac{r_{1112}}{x_{23}}, d_{4} : \\frac{r_{1112}}{x_{23} x_{34}}, d_{5} : -\\frac{r_{1111} x_{23}}{x_{13} x_{25}}, a_{12} : \\frac{r_{1112} x_{13}}{x_{23}}, a_{13} : r_{1113}, a_{14} : r_{1114}, a_{15} : r_{1115}, a_{23} : \\frac{r_{1113} x_{23}}{x_{13}}, a_{24} : r_{1116}, a_{25} : r_{1117}, a_{34} : \\frac{r_{1113}}{x_{13}}, a_{35} : \\frac{r_{1111}}{x_{13}}, a_{45} : \\frac{r_{1111} x_{23} x_{35}}{x_{13} x_{25} x_{34}}\\right\\}\\right]"
      ]
     },
     "execution_count": 61,
     "metadata": {},
     "output_type": "execute_result"
    }
   ],
   "source": [
    "#x6\n",
    "reset()\n",
    "\n",
    "var('x12,x13,x14,x15,x23,x24,x25,x34,x35,x45')\n",
    "var('d1,d2,d3,d4,d5')\n",
    "var('a12,a13,a14,a15,a23,a24,a25,a34,a35,a45')\n",
    "\n",
    "load_attach_path('C:\\\\Users\\\\julia\\\\Documents\\\\unb\\\\doutorado\\\\pensar\\\\codigo_sage_v2\\\\maquina\\\\x6')\n",
    "load('out_#101100.sage')\n",
    "\n",
    "m=matrix(QQ, [[0, 0, 0, 0, 1],\n",
    "              [0, 0, 1, 0, 0],\n",
    "              [0, 0, 0, 1, 0],\n",
    "              [0, 0, 0, 0, 0],\n",
    "              [0, 0, 0, 0, 0]])\n",
    "        \n",
    "#entry of matrix: (i,j) line i collum j, means (i-1,j-1)\n",
    "sol=solve([ eq1==m[0,2],\teq2==m[0,3],\teq3==m[0,4],\teq4==m[1,2],\t\n",
    "                                            eq5==m[1,3],    eq6==m[1,4],\n",
    "                                                            eq7==m[2,3], eq8==m[2,4]],d1,d2,d3,d4,d5,a12,a13,a14,a15,a23,a24,a25,a34,a35,a45, solution_dict=True)\n",
    "\n",
    "show(m)\n",
    "show(sol)\n",
    "latex(sol)"
   ]
  },
  {
   "cell_type": "code",
   "execution_count": 65,
   "metadata": {},
   "outputs": [
    {
     "data": {
      "text/html": [
       "<html><script type=\"math/tex; mode=display\">\\newcommand{\\Bold}[1]{\\mathbf{#1}}\\left(\\begin{array}{rrrrr}\n",
       "0 & 0 & 0 & 0 & 1 \\\\\n",
       "0 & 0 & 1 & 0 & 0 \\\\\n",
       "0 & 0 & 0 & 1 & 0 \\\\\n",
       "0 & 0 & 0 & 0 & 0 \\\\\n",
       "0 & 0 & 0 & 0 & 0\n",
       "\\end{array}\\right)</script></html>"
      ],
      "text/latex": [
       "$$\\newcommand{\\Bold}[1]{\\mathbf{#1}}\\left(\\begin{array}{rrrrr}\n",
       "0 & 0 & 0 & 0 & 1 \\\\\n",
       "0 & 0 & 1 & 0 & 0 \\\\\n",
       "0 & 0 & 0 & 1 & 0 \\\\\n",
       "0 & 0 & 0 & 0 & 0 \\\\\n",
       "0 & 0 & 0 & 0 & 0\n",
       "\\end{array}\\right)$$"
      ],
      "text/plain": [
       "[0 0 0 0 1]\n",
       "[0 0 1 0 0]\n",
       "[0 0 0 1 0]\n",
       "[0 0 0 0 0]\n",
       "[0 0 0 0 0]"
      ]
     },
     "metadata": {},
     "output_type": "display_data"
    },
    {
     "data": {
      "text/html": [
       "<html><script type=\"math/tex; mode=display\">\\newcommand{\\Bold}[1]{\\mathbf{#1}}\\left[\\left\\{d_{1} : r_{1172}, d_{2} : 0, d_{3} : 0, d_{4} : 0, d_{5} : r_{1173}, a_{12} : r_{1174}, a_{13} : r_{1175}, a_{14} : r_{1176}, a_{15} : r_{1177}, a_{23} : r_{1178}, a_{24} : r_{1179}, a_{25} : r_{1180}, a_{34} : r_{1181}, a_{35} : r_{1182}, a_{45} : -\\frac{r_{1173} x_{35}}{x_{34}}\\right\\}, \\left\\{d_{1} : r_{1183}, d_{2} : r_{1184}, d_{3} : \\frac{r_{1184}}{x_{23}}, d_{4} : \\frac{r_{1184}}{x_{23} x_{34}}, d_{5} : \\frac{r_{1183} x_{23}}{x_{15} x_{23} - x_{13} x_{25}}, a_{12} : \\frac{r_{1184} x_{13}}{x_{23}}, a_{13} : r_{1185}, a_{14} : r_{1186}, a_{15} : r_{1187}, a_{23} : \\frac{r_{1185} x_{23}}{x_{13}}, a_{24} : r_{1188}, a_{25} : r_{1189}, a_{34} : \\frac{r_{1185}}{x_{13}}, a_{35} : -\\frac{r_{1183} x_{25}}{x_{15} x_{23} - x_{13} x_{25}}, a_{45} : -\\frac{r_{1183} x_{23} x_{35}}{{\\left(x_{15} x_{23} - x_{13} x_{25}\\right)} x_{34}}\\right\\}\\right]</script></html>"
      ],
      "text/latex": [
       "$$\\newcommand{\\Bold}[1]{\\mathbf{#1}}\\left[\\left\\{d_{1} : r_{1172}, d_{2} : 0, d_{3} : 0, d_{4} : 0, d_{5} : r_{1173}, a_{12} : r_{1174}, a_{13} : r_{1175}, a_{14} : r_{1176}, a_{15} : r_{1177}, a_{23} : r_{1178}, a_{24} : r_{1179}, a_{25} : r_{1180}, a_{34} : r_{1181}, a_{35} : r_{1182}, a_{45} : -\\frac{r_{1173} x_{35}}{x_{34}}\\right\\}, \\left\\{d_{1} : r_{1183}, d_{2} : r_{1184}, d_{3} : \\frac{r_{1184}}{x_{23}}, d_{4} : \\frac{r_{1184}}{x_{23} x_{34}}, d_{5} : \\frac{r_{1183} x_{23}}{x_{15} x_{23} - x_{13} x_{25}}, a_{12} : \\frac{r_{1184} x_{13}}{x_{23}}, a_{13} : r_{1185}, a_{14} : r_{1186}, a_{15} : r_{1187}, a_{23} : \\frac{r_{1185} x_{23}}{x_{13}}, a_{24} : r_{1188}, a_{25} : r_{1189}, a_{34} : \\frac{r_{1185}}{x_{13}}, a_{35} : -\\frac{r_{1183} x_{25}}{x_{15} x_{23} - x_{13} x_{25}}, a_{45} : -\\frac{r_{1183} x_{23} x_{35}}{{\\left(x_{15} x_{23} - x_{13} x_{25}\\right)} x_{34}}\\right\\}\\right]$$"
      ],
      "text/plain": [
       "[{d1: r1172,\n",
       "  d2: 0,\n",
       "  d3: 0,\n",
       "  d4: 0,\n",
       "  d5: r1173,\n",
       "  a12: r1174,\n",
       "  a13: r1175,\n",
       "  a14: r1176,\n",
       "  a15: r1177,\n",
       "  a23: r1178,\n",
       "  a24: r1179,\n",
       "  a25: r1180,\n",
       "  a34: r1181,\n",
       "  a35: r1182,\n",
       "  a45: -r1173*x35/x34},\n",
       " {d1: r1183,\n",
       "  d2: r1184,\n",
       "  d3: r1184/x23,\n",
       "  d4: r1184/(x23*x34),\n",
       "  d5: r1183*x23/(x15*x23 - x13*x25),\n",
       "  a12: r1184*x13/x23,\n",
       "  a13: r1185,\n",
       "  a14: r1186,\n",
       "  a15: r1187,\n",
       "  a23: r1185*x23/x13,\n",
       "  a24: r1188,\n",
       "  a25: r1189,\n",
       "  a34: r1185/x13,\n",
       "  a35: -r1183*x25/(x15*x23 - x13*x25),\n",
       "  a45: -r1183*x23*x35/((x15*x23 - x13*x25)*x34)}]"
      ]
     },
     "metadata": {},
     "output_type": "display_data"
    },
    {
     "data": {
      "text/plain": [
       "\\left[\\left\\{d_{1} : r_{1172}, d_{2} : 0, d_{3} : 0, d_{4} : 0, d_{5} : r_{1173}, a_{12} : r_{1174}, a_{13} : r_{1175}, a_{14} : r_{1176}, a_{15} : r_{1177}, a_{23} : r_{1178}, a_{24} : r_{1179}, a_{25} : r_{1180}, a_{34} : r_{1181}, a_{35} : r_{1182}, a_{45} : -\\frac{r_{1173} x_{35}}{x_{34}}\\right\\}, \\left\\{d_{1} : r_{1183}, d_{2} : r_{1184}, d_{3} : \\frac{r_{1184}}{x_{23}}, d_{4} : \\frac{r_{1184}}{x_{23} x_{34}}, d_{5} : \\frac{r_{1183} x_{23}}{x_{15} x_{23} - x_{13} x_{25}}, a_{12} : \\frac{r_{1184} x_{13}}{x_{23}}, a_{13} : r_{1185}, a_{14} : r_{1186}, a_{15} : r_{1187}, a_{23} : \\frac{r_{1185} x_{23}}{x_{13}}, a_{24} : r_{1188}, a_{25} : r_{1189}, a_{34} : \\frac{r_{1185}}{x_{13}}, a_{35} : -\\frac{r_{1183} x_{25}}{x_{15} x_{23} - x_{13} x_{25}}, a_{45} : -\\frac{r_{1183} x_{23} x_{35}}{{\\left(x_{15} x_{23} - x_{13} x_{25}\\right)} x_{34}}\\right\\}\\right]"
      ]
     },
     "execution_count": 65,
     "metadata": {},
     "output_type": "execute_result"
    }
   ],
   "source": [
    "#x6\n",
    "#----------------------\n",
    "#x15 \\dif (x13*x25/x23)\n",
    "#----------------------\n",
    "reset()\n",
    "\n",
    "var('x12,x13,x14,x15,x23,x24,x25,x34,x35,x45')\n",
    "var('d1,d2,d3,d4,d5')\n",
    "var('a12,a13,a14,a15,a23,a24,a25,a34,a35,a45')\n",
    "\n",
    "load_attach_path('C:\\\\Users\\\\julia\\\\Documents\\\\unb\\\\doutorado\\\\pensar\\\\codigo_sage_v2\\\\maquina\\\\x6')\n",
    "load('out_#101101.sage')\n",
    "\n",
    "m=matrix(QQ, [[0, 0, 0, 0, 1],\n",
    "              [0, 0, 1, 0, 0],\n",
    "              [0, 0, 0, 1, 0],\n",
    "              [0, 0, 0, 0, 0],\n",
    "              [0, 0, 0, 0, 0]])\n",
    "        \n",
    "#entry of matrix: (i,j) line i collum j, means (i-1,j-1)\n",
    "sol=solve([ eq1==m[0,2],\teq2==m[0,3],\teq3==m[0,4],\teq4==m[1,2],\t\n",
    "                                            eq5==m[1,3],    eq6==m[1,4],\n",
    "                                                            eq7==m[2,3], eq8==m[2,4]],d1,d2,d3,d4,d5,a12,a13,a14,a15,a23,a24,a25,a34,a35,a45, solution_dict=True)\n",
    "\n",
    "show(m)\n",
    "show(sol)\n",
    "latex(sol)"
   ]
  },
  {
   "cell_type": "code",
   "execution_count": 66,
   "metadata": {},
   "outputs": [
    {
     "data": {
      "text/html": [
       "<html><script type=\"math/tex; mode=display\">\\newcommand{\\Bold}[1]{\\mathbf{#1}}\\left(\\begin{array}{rrrrr}\n",
       "0 & 0 & 0 & 0 & 0 \\\\\n",
       "0 & 0 & 1 & 0 & 0 \\\\\n",
       "0 & 0 & 0 & 1 & 0 \\\\\n",
       "0 & 0 & 0 & 0 & 0 \\\\\n",
       "0 & 0 & 0 & 0 & 0\n",
       "\\end{array}\\right)</script></html>"
      ],
      "text/latex": [
       "$$\\newcommand{\\Bold}[1]{\\mathbf{#1}}\\left(\\begin{array}{rrrrr}\n",
       "0 & 0 & 0 & 0 & 0 \\\\\n",
       "0 & 0 & 1 & 0 & 0 \\\\\n",
       "0 & 0 & 0 & 1 & 0 \\\\\n",
       "0 & 0 & 0 & 0 & 0 \\\\\n",
       "0 & 0 & 0 & 0 & 0\n",
       "\\end{array}\\right)$$"
      ],
      "text/plain": [
       "[0 0 0 0 0]\n",
       "[0 0 1 0 0]\n",
       "[0 0 0 1 0]\n",
       "[0 0 0 0 0]\n",
       "[0 0 0 0 0]"
      ]
     },
     "metadata": {},
     "output_type": "display_data"
    },
    {
     "data": {
      "text/html": [
       "<html><script type=\"math/tex; mode=display\">\\newcommand{\\Bold}[1]{\\mathbf{#1}}\\left[\\left\\{d_{1} : r_{1190}, d_{2} : 0, d_{3} : 0, d_{4} : 0, d_{5} : r_{1191}, a_{12} : r_{1192}, a_{13} : r_{1193}, a_{14} : r_{1194}, a_{15} : r_{1195}, a_{23} : r_{1196}, a_{24} : r_{1197}, a_{25} : r_{1198}, a_{34} : r_{1199}, a_{35} : r_{1200}, a_{45} : -\\frac{r_{1191} x_{35}}{x_{34}}\\right\\}, \\left\\{d_{1} : r_{1201}, d_{2} : r_{1202}, d_{3} : \\frac{r_{1202}}{x_{23}}, d_{4} : \\frac{r_{1202}}{x_{23} x_{34}}, d_{5} : r_{1203}, a_{12} : \\frac{r_{1202} x_{13}}{x_{23}}, a_{13} : r_{1204}, a_{14} : r_{1205}, a_{15} : r_{1206}, a_{23} : \\frac{r_{1204} x_{23}}{x_{13}}, a_{24} : r_{1207}, a_{25} : r_{1208}, a_{34} : \\frac{r_{1204}}{x_{13}}, a_{35} : -\\frac{r_{1203} x_{25}}{x_{23}}, a_{45} : -\\frac{r_{1203} x_{35}}{x_{34}}\\right\\}\\right]</script></html>"
      ],
      "text/latex": [
       "$$\\newcommand{\\Bold}[1]{\\mathbf{#1}}\\left[\\left\\{d_{1} : r_{1190}, d_{2} : 0, d_{3} : 0, d_{4} : 0, d_{5} : r_{1191}, a_{12} : r_{1192}, a_{13} : r_{1193}, a_{14} : r_{1194}, a_{15} : r_{1195}, a_{23} : r_{1196}, a_{24} : r_{1197}, a_{25} : r_{1198}, a_{34} : r_{1199}, a_{35} : r_{1200}, a_{45} : -\\frac{r_{1191} x_{35}}{x_{34}}\\right\\}, \\left\\{d_{1} : r_{1201}, d_{2} : r_{1202}, d_{3} : \\frac{r_{1202}}{x_{23}}, d_{4} : \\frac{r_{1202}}{x_{23} x_{34}}, d_{5} : r_{1203}, a_{12} : \\frac{r_{1202} x_{13}}{x_{23}}, a_{13} : r_{1204}, a_{14} : r_{1205}, a_{15} : r_{1206}, a_{23} : \\frac{r_{1204} x_{23}}{x_{13}}, a_{24} : r_{1207}, a_{25} : r_{1208}, a_{34} : \\frac{r_{1204}}{x_{13}}, a_{35} : -\\frac{r_{1203} x_{25}}{x_{23}}, a_{45} : -\\frac{r_{1203} x_{35}}{x_{34}}\\right\\}\\right]$$"
      ],
      "text/plain": [
       "[{d1: r1190,\n",
       "  d2: 0,\n",
       "  d3: 0,\n",
       "  d4: 0,\n",
       "  d5: r1191,\n",
       "  a12: r1192,\n",
       "  a13: r1193,\n",
       "  a14: r1194,\n",
       "  a15: r1195,\n",
       "  a23: r1196,\n",
       "  a24: r1197,\n",
       "  a25: r1198,\n",
       "  a34: r1199,\n",
       "  a35: r1200,\n",
       "  a45: -r1191*x35/x34},\n",
       " {d1: r1201,\n",
       "  d2: r1202,\n",
       "  d3: r1202/x23,\n",
       "  d4: r1202/(x23*x34),\n",
       "  d5: r1203,\n",
       "  a12: r1202*x13/x23,\n",
       "  a13: r1204,\n",
       "  a14: r1205,\n",
       "  a15: r1206,\n",
       "  a23: r1204*x23/x13,\n",
       "  a24: r1207,\n",
       "  a25: r1208,\n",
       "  a34: r1204/x13,\n",
       "  a35: -r1203*x25/x23,\n",
       "  a45: -r1203*x35/x34}]"
      ]
     },
     "metadata": {},
     "output_type": "display_data"
    },
    {
     "data": {
      "text/plain": [
       "\\left[\\left\\{d_{1} : r_{1190}, d_{2} : 0, d_{3} : 0, d_{4} : 0, d_{5} : r_{1191}, a_{12} : r_{1192}, a_{13} : r_{1193}, a_{14} : r_{1194}, a_{15} : r_{1195}, a_{23} : r_{1196}, a_{24} : r_{1197}, a_{25} : r_{1198}, a_{34} : r_{1199}, a_{35} : r_{1200}, a_{45} : -\\frac{r_{1191} x_{35}}{x_{34}}\\right\\}, \\left\\{d_{1} : r_{1201}, d_{2} : r_{1202}, d_{3} : \\frac{r_{1202}}{x_{23}}, d_{4} : \\frac{r_{1202}}{x_{23} x_{34}}, d_{5} : r_{1203}, a_{12} : \\frac{r_{1202} x_{13}}{x_{23}}, a_{13} : r_{1204}, a_{14} : r_{1205}, a_{15} : r_{1206}, a_{23} : \\frac{r_{1204} x_{23}}{x_{13}}, a_{24} : r_{1207}, a_{25} : r_{1208}, a_{34} : \\frac{r_{1204}}{x_{13}}, a_{35} : -\\frac{r_{1203} x_{25}}{x_{23}}, a_{45} : -\\frac{r_{1203} x_{35}}{x_{34}}\\right\\}\\right]"
      ]
     },
     "execution_count": 66,
     "metadata": {},
     "output_type": "execute_result"
    }
   ],
   "source": [
    "#x6\n",
    "#----------------------\n",
    "#x15 = (x13*x25/x23)\n",
    "#----------------------\n",
    "reset()\n",
    "\n",
    "var('x12,x13,x14,x15,x23,x24,x25,x34,x35,x45')\n",
    "var('d1,d2,d3,d4,d5')\n",
    "var('a12,a13,a14,a15,a23,a24,a25,a34,a35,a45')\n",
    "\n",
    "#101101\n",
    "eq1=(d2*d3*x13-a12*d3*x23)/(d1*d2) \n",
    "eq2=(a34*d2*d3*x13+d2*d3*d4*0-a12*a34*d3*x23-a12*d3*d4*0+a12*a23*d4*x34-a13*d2*d4*x34)/(d1*d2*d3) \n",
    "eq3=(a35*d2*d3*x13+a45*d2*d3*0+d2*d3*d5*(x13*x25/x23)-a12*a35*d3*x23-a12*a45*d3*0-a12*d3*d5*x25+a12*a23*a45*x34-a13*a45*d2*x34+a12*a23*d5*x35-a13*d2*d5*x35)/(d1*d2*d3) \n",
    "eq4=(d3*x23)/(d2) \n",
    "eq5=(a34*d3*x23+d3*d4*0-a23*d4*x34)/(d2*d3) \n",
    "eq6=(a35*d3*x23+a45*d3*0+d3*d5*x25-a23*a45*x34-a23*d5*x35)/(d2*d3) \n",
    "eq7=(d4*x34)/(d3) \n",
    "eq8=(a45*x34+d5*x35)/(d3) \n",
    "\n",
    "\n",
    "m=matrix(QQ, [[0, 0, 0, 0, 0],\n",
    "              [0, 0, 1, 0, 0],\n",
    "              [0, 0, 0, 1, 0],\n",
    "              [0, 0, 0, 0, 0],\n",
    "              [0, 0, 0, 0, 0]])\n",
    "        \n",
    "#entry of matrix: (i,j) line i collum j, means (i-1,j-1)\n",
    "sol=solve([ eq1==m[0,2],\teq2==m[0,3],\teq3==m[0,4],\teq4==m[1,2],\t\n",
    "                                            eq5==m[1,3],    eq6==m[1,4],\n",
    "                                                            eq7==m[2,3], eq8==m[2,4]],d1,d2,d3,d4,d5,a12,a13,a14,a15,a23,a24,a25,a34,a35,a45, solution_dict=True)\n",
    "\n",
    "show(m)\n",
    "show(sol)\n",
    "latex(sol)"
   ]
  },
  {
   "cell_type": "code",
   "execution_count": 67,
   "metadata": {},
   "outputs": [
    {
     "data": {
      "text/html": [
       "<html><script type=\"math/tex; mode=display\">\\newcommand{\\Bold}[1]{\\mathbf{#1}}\\left(\\begin{array}{rrrrr}\n",
       "0 & 0 & 0 & 0 & 1 \\\\\n",
       "0 & 0 & 1 & 0 & 0 \\\\\n",
       "0 & 0 & 0 & 1 & 0 \\\\\n",
       "0 & 0 & 0 & 0 & 0 \\\\\n",
       "0 & 0 & 0 & 0 & 0\n",
       "\\end{array}\\right)</script></html>"
      ],
      "text/latex": [
       "$$\\newcommand{\\Bold}[1]{\\mathbf{#1}}\\left(\\begin{array}{rrrrr}\n",
       "0 & 0 & 0 & 0 & 1 \\\\\n",
       "0 & 0 & 1 & 0 & 0 \\\\\n",
       "0 & 0 & 0 & 1 & 0 \\\\\n",
       "0 & 0 & 0 & 0 & 0 \\\\\n",
       "0 & 0 & 0 & 0 & 0\n",
       "\\end{array}\\right)$$"
      ],
      "text/plain": [
       "[0 0 0 0 1]\n",
       "[0 0 1 0 0]\n",
       "[0 0 0 1 0]\n",
       "[0 0 0 0 0]\n",
       "[0 0 0 0 0]"
      ]
     },
     "metadata": {},
     "output_type": "display_data"
    },
    {
     "data": {
      "text/html": [
       "<html><script type=\"math/tex; mode=display\">\\newcommand{\\Bold}[1]{\\mathbf{#1}}\\left[\\left\\{d_{1} : r_{1209}, d_{2} : 0, d_{3} : 0, d_{4} : 0, d_{5} : r_{1210}, a_{12} : r_{1211}, a_{13} : r_{1212}, a_{14} : r_{1213}, a_{15} : r_{1214}, a_{23} : r_{1215}, a_{24} : r_{1216}, a_{25} : r_{1217}, a_{34} : r_{1218}, a_{35} : r_{1219}, a_{45} : -\\frac{r_{1210} x_{35}}{x_{34}}\\right\\}, \\left\\{d_{1} : r_{1220}, d_{2} : r_{1221}, d_{3} : \\frac{r_{1221}}{x_{23}}, d_{4} : \\frac{r_{1221}}{x_{23} x_{34}}, d_{5} : -\\frac{r_{1220} x_{23} x_{34}}{x_{13} x_{25} x_{34} + x_{14} x_{23} x_{35}}, a_{12} : \\frac{r_{1221} x_{13}}{x_{23}}, a_{13} : r_{1222}, a_{14} : r_{1223}, a_{15} : r_{1224}, a_{23} : \\frac{r_{1222} x_{23} x_{34} - r_{1221} x_{14}}{x_{13} x_{34}}, a_{24} : r_{1225}, a_{25} : r_{1226}, a_{34} : \\frac{r_{1222} x_{23} x_{34} - r_{1221} x_{14}}{x_{13} x_{23} x_{34}}, a_{35} : \\frac{r_{1220} x_{25} x_{34}}{x_{13} x_{25} x_{34} + x_{14} x_{23} x_{35}}, a_{45} : \\frac{r_{1220} x_{23} x_{35}}{x_{13} x_{25} x_{34} + x_{14} x_{23} x_{35}}\\right\\}\\right]</script></html>"
      ],
      "text/latex": [
       "$$\\newcommand{\\Bold}[1]{\\mathbf{#1}}\\left[\\left\\{d_{1} : r_{1209}, d_{2} : 0, d_{3} : 0, d_{4} : 0, d_{5} : r_{1210}, a_{12} : r_{1211}, a_{13} : r_{1212}, a_{14} : r_{1213}, a_{15} : r_{1214}, a_{23} : r_{1215}, a_{24} : r_{1216}, a_{25} : r_{1217}, a_{34} : r_{1218}, a_{35} : r_{1219}, a_{45} : -\\frac{r_{1210} x_{35}}{x_{34}}\\right\\}, \\left\\{d_{1} : r_{1220}, d_{2} : r_{1221}, d_{3} : \\frac{r_{1221}}{x_{23}}, d_{4} : \\frac{r_{1221}}{x_{23} x_{34}}, d_{5} : -\\frac{r_{1220} x_{23} x_{34}}{x_{13} x_{25} x_{34} + x_{14} x_{23} x_{35}}, a_{12} : \\frac{r_{1221} x_{13}}{x_{23}}, a_{13} : r_{1222}, a_{14} : r_{1223}, a_{15} : r_{1224}, a_{23} : \\frac{r_{1222} x_{23} x_{34} - r_{1221} x_{14}}{x_{13} x_{34}}, a_{24} : r_{1225}, a_{25} : r_{1226}, a_{34} : \\frac{r_{1222} x_{23} x_{34} - r_{1221} x_{14}}{x_{13} x_{23} x_{34}}, a_{35} : \\frac{r_{1220} x_{25} x_{34}}{x_{13} x_{25} x_{34} + x_{14} x_{23} x_{35}}, a_{45} : \\frac{r_{1220} x_{23} x_{35}}{x_{13} x_{25} x_{34} + x_{14} x_{23} x_{35}}\\right\\}\\right]$$"
      ],
      "text/plain": [
       "[{d1: r1209,\n",
       "  d2: 0,\n",
       "  d3: 0,\n",
       "  d4: 0,\n",
       "  d5: r1210,\n",
       "  a12: r1211,\n",
       "  a13: r1212,\n",
       "  a14: r1213,\n",
       "  a15: r1214,\n",
       "  a23: r1215,\n",
       "  a24: r1216,\n",
       "  a25: r1217,\n",
       "  a34: r1218,\n",
       "  a35: r1219,\n",
       "  a45: -r1210*x35/x34},\n",
       " {d1: r1220,\n",
       "  d2: r1221,\n",
       "  d3: r1221/x23,\n",
       "  d4: r1221/(x23*x34),\n",
       "  d5: -r1220*x23*x34/(x13*x25*x34 + x14*x23*x35),\n",
       "  a12: r1221*x13/x23,\n",
       "  a13: r1222,\n",
       "  a14: r1223,\n",
       "  a15: r1224,\n",
       "  a23: (r1222*x23*x34 - r1221*x14)/(x13*x34),\n",
       "  a24: r1225,\n",
       "  a25: r1226,\n",
       "  a34: (r1222*x23*x34 - r1221*x14)/(x13*x23*x34),\n",
       "  a35: r1220*x25*x34/(x13*x25*x34 + x14*x23*x35),\n",
       "  a45: r1220*x23*x35/(x13*x25*x34 + x14*x23*x35)}]"
      ]
     },
     "metadata": {},
     "output_type": "display_data"
    },
    {
     "data": {
      "text/plain": [
       "\\left[\\left\\{d_{1} : r_{1209}, d_{2} : 0, d_{3} : 0, d_{4} : 0, d_{5} : r_{1210}, a_{12} : r_{1211}, a_{13} : r_{1212}, a_{14} : r_{1213}, a_{15} : r_{1214}, a_{23} : r_{1215}, a_{24} : r_{1216}, a_{25} : r_{1217}, a_{34} : r_{1218}, a_{35} : r_{1219}, a_{45} : -\\frac{r_{1210} x_{35}}{x_{34}}\\right\\}, \\left\\{d_{1} : r_{1220}, d_{2} : r_{1221}, d_{3} : \\frac{r_{1221}}{x_{23}}, d_{4} : \\frac{r_{1221}}{x_{23} x_{34}}, d_{5} : -\\frac{r_{1220} x_{23} x_{34}}{x_{13} x_{25} x_{34} + x_{14} x_{23} x_{35}}, a_{12} : \\frac{r_{1221} x_{13}}{x_{23}}, a_{13} : r_{1222}, a_{14} : r_{1223}, a_{15} : r_{1224}, a_{23} : \\frac{r_{1222} x_{23} x_{34} - r_{1221} x_{14}}{x_{13} x_{34}}, a_{24} : r_{1225}, a_{25} : r_{1226}, a_{34} : \\frac{r_{1222} x_{23} x_{34} - r_{1221} x_{14}}{x_{13} x_{23} x_{34}}, a_{35} : \\frac{r_{1220} x_{25} x_{34}}{x_{13} x_{25} x_{34} + x_{14} x_{23} x_{35}}, a_{45} : \\frac{r_{1220} x_{23} x_{35}}{x_{13} x_{25} x_{34} + x_{14} x_{23} x_{35}}\\right\\}\\right]"
      ]
     },
     "execution_count": 67,
     "metadata": {},
     "output_type": "execute_result"
    }
   ],
   "source": [
    "#x6\n",
    "#----------------------\n",
    "#x35 \\dif -x13*x25*x34/x14*x23\n",
    "#----------------------\n",
    "reset()\n",
    "\n",
    "var('x12,x13,x14,x15,x23,x24,x25,x34,x35,x45')\n",
    "var('d1,d2,d3,d4,d5')\n",
    "var('a12,a13,a14,a15,a23,a24,a25,a34,a35,a45')\n",
    "\n",
    "load_attach_path('C:\\\\Users\\\\julia\\\\Documents\\\\unb\\\\doutorado\\\\pensar\\\\codigo_sage_v2\\\\maquina\\\\x6')\n",
    "load('out_#101110.sage')\n",
    "\n",
    "m=matrix(QQ, [[0, 0, 0, 0, 1],\n",
    "              [0, 0, 1, 0, 0],\n",
    "              [0, 0, 0, 1, 0],\n",
    "              [0, 0, 0, 0, 0],\n",
    "              [0, 0, 0, 0, 0]])\n",
    "        \n",
    "#entry of matrix: (i,j) line i collum j, means (i-1,j-1)\n",
    "sol=solve([ eq1==m[0,2],\teq2==m[0,3],\teq3==m[0,4],\teq4==m[1,2],\t\n",
    "                                            eq5==m[1,3],    eq6==m[1,4],\n",
    "                                                            eq7==m[2,3], eq8==m[2,4]],d1,d2,d3,d4,d5,a12,a13,a14,a15,a23,a24,a25,a34,a35,a45, solution_dict=True)\n",
    "\n",
    "show(m)\n",
    "show(sol)\n",
    "latex(sol)"
   ]
  },
  {
   "cell_type": "code",
   "execution_count": 55,
   "metadata": {},
   "outputs": [
    {
     "data": {
      "text/html": [
       "<html><script type=\"math/tex; mode=display\">\\newcommand{\\Bold}[1]{\\mathbf{#1}}\\left(\\begin{array}{rrrrr}\n",
       "0 & 0 & 0 & 0 & 0 \\\\\n",
       "0 & 0 & 1 & 0 & 0 \\\\\n",
       "0 & 0 & 0 & 1 & 0 \\\\\n",
       "0 & 0 & 0 & 0 & 0 \\\\\n",
       "0 & 0 & 0 & 0 & 0\n",
       "\\end{array}\\right)</script></html>"
      ],
      "text/latex": [
       "$$\\newcommand{\\Bold}[1]{\\mathbf{#1}}\\left(\\begin{array}{rrrrr}\n",
       "0 & 0 & 0 & 0 & 0 \\\\\n",
       "0 & 0 & 1 & 0 & 0 \\\\\n",
       "0 & 0 & 0 & 1 & 0 \\\\\n",
       "0 & 0 & 0 & 0 & 0 \\\\\n",
       "0 & 0 & 0 & 0 & 0\n",
       "\\end{array}\\right)$$"
      ],
      "text/plain": [
       "[0 0 0 0 0]\n",
       "[0 0 1 0 0]\n",
       "[0 0 0 1 0]\n",
       "[0 0 0 0 0]\n",
       "[0 0 0 0 0]"
      ]
     },
     "metadata": {},
     "output_type": "display_data"
    },
    {
     "data": {
      "text/html": [
       "<html><script type=\"math/tex; mode=display\">\\newcommand{\\Bold}[1]{\\mathbf{#1}}\\left[\\left\\{d_{1} : r_{1113}, d_{2} : 0, d_{3} : 0, d_{4} : 0, d_{5} : r_{1114}, a_{12} : r_{1115}, a_{13} : r_{1116}, a_{14} : r_{1117}, a_{15} : r_{1118}, a_{23} : r_{1119}, a_{24} : r_{1120}, a_{25} : r_{1121}, a_{34} : r_{1122}, a_{35} : r_{1123}, a_{45} : \\frac{r_{1114} x_{13} x_{25}}{x_{14} x_{23}}\\right\\}, \\left\\{d_{1} : r_{1124}, d_{2} : r_{1125}, d_{3} : \\frac{r_{1125}}{x_{23}}, d_{4} : \\frac{r_{1125}}{x_{23} x_{34}}, d_{5} : r_{1126}, a_{12} : \\frac{r_{1125} x_{13}}{x_{23}}, a_{13} : r_{1127}, a_{14} : r_{1128}, a_{15} : r_{1129}, a_{23} : \\frac{r_{1127} x_{23} x_{34} - r_{1125} x_{14}}{x_{13} x_{34}}, a_{24} : r_{1130}, a_{25} : r_{1131}, a_{34} : \\frac{r_{1127} x_{23} x_{34} - r_{1125} x_{14}}{x_{13} x_{23} x_{34}}, a_{35} : -\\frac{r_{1126} x_{25}}{x_{23}}, a_{45} : \\frac{r_{1126} x_{13} x_{25}}{x_{14} x_{23}}\\right\\}\\right]</script></html>"
      ],
      "text/latex": [
       "$$\\newcommand{\\Bold}[1]{\\mathbf{#1}}\\left[\\left\\{d_{1} : r_{1113}, d_{2} : 0, d_{3} : 0, d_{4} : 0, d_{5} : r_{1114}, a_{12} : r_{1115}, a_{13} : r_{1116}, a_{14} : r_{1117}, a_{15} : r_{1118}, a_{23} : r_{1119}, a_{24} : r_{1120}, a_{25} : r_{1121}, a_{34} : r_{1122}, a_{35} : r_{1123}, a_{45} : \\frac{r_{1114} x_{13} x_{25}}{x_{14} x_{23}}\\right\\}, \\left\\{d_{1} : r_{1124}, d_{2} : r_{1125}, d_{3} : \\frac{r_{1125}}{x_{23}}, d_{4} : \\frac{r_{1125}}{x_{23} x_{34}}, d_{5} : r_{1126}, a_{12} : \\frac{r_{1125} x_{13}}{x_{23}}, a_{13} : r_{1127}, a_{14} : r_{1128}, a_{15} : r_{1129}, a_{23} : \\frac{r_{1127} x_{23} x_{34} - r_{1125} x_{14}}{x_{13} x_{34}}, a_{24} : r_{1130}, a_{25} : r_{1131}, a_{34} : \\frac{r_{1127} x_{23} x_{34} - r_{1125} x_{14}}{x_{13} x_{23} x_{34}}, a_{35} : -\\frac{r_{1126} x_{25}}{x_{23}}, a_{45} : \\frac{r_{1126} x_{13} x_{25}}{x_{14} x_{23}}\\right\\}\\right]$$"
      ],
      "text/plain": [
       "[{d1: r1113,\n",
       "  d2: 0,\n",
       "  d3: 0,\n",
       "  d4: 0,\n",
       "  d5: r1114,\n",
       "  a12: r1115,\n",
       "  a13: r1116,\n",
       "  a14: r1117,\n",
       "  a15: r1118,\n",
       "  a23: r1119,\n",
       "  a24: r1120,\n",
       "  a25: r1121,\n",
       "  a34: r1122,\n",
       "  a35: r1123,\n",
       "  a45: r1114*x13*x25/(x14*x23)},\n",
       " {d1: r1124,\n",
       "  d2: r1125,\n",
       "  d3: r1125/x23,\n",
       "  d4: r1125/(x23*x34),\n",
       "  d5: r1126,\n",
       "  a12: r1125*x13/x23,\n",
       "  a13: r1127,\n",
       "  a14: r1128,\n",
       "  a15: r1129,\n",
       "  a23: (r1127*x23*x34 - r1125*x14)/(x13*x34),\n",
       "  a24: r1130,\n",
       "  a25: r1131,\n",
       "  a34: (r1127*x23*x34 - r1125*x14)/(x13*x23*x34),\n",
       "  a35: -r1126*x25/x23,\n",
       "  a45: r1126*x13*x25/(x14*x23)}]"
      ]
     },
     "metadata": {},
     "output_type": "display_data"
    },
    {
     "data": {
      "text/plain": [
       "\\left[\\left\\{d_{1} : r_{1113}, d_{2} : 0, d_{3} : 0, d_{4} : 0, d_{5} : r_{1114}, a_{12} : r_{1115}, a_{13} : r_{1116}, a_{14} : r_{1117}, a_{15} : r_{1118}, a_{23} : r_{1119}, a_{24} : r_{1120}, a_{25} : r_{1121}, a_{34} : r_{1122}, a_{35} : r_{1123}, a_{45} : \\frac{r_{1114} x_{13} x_{25}}{x_{14} x_{23}}\\right\\}, \\left\\{d_{1} : r_{1124}, d_{2} : r_{1125}, d_{3} : \\frac{r_{1125}}{x_{23}}, d_{4} : \\frac{r_{1125}}{x_{23} x_{34}}, d_{5} : r_{1126}, a_{12} : \\frac{r_{1125} x_{13}}{x_{23}}, a_{13} : r_{1127}, a_{14} : r_{1128}, a_{15} : r_{1129}, a_{23} : \\frac{r_{1127} x_{23} x_{34} - r_{1125} x_{14}}{x_{13} x_{34}}, a_{24} : r_{1130}, a_{25} : r_{1131}, a_{34} : \\frac{r_{1127} x_{23} x_{34} - r_{1125} x_{14}}{x_{13} x_{23} x_{34}}, a_{35} : -\\frac{r_{1126} x_{25}}{x_{23}}, a_{45} : \\frac{r_{1126} x_{13} x_{25}}{x_{14} x_{23}}\\right\\}\\right]"
      ]
     },
     "execution_count": 55,
     "metadata": {},
     "output_type": "execute_result"
    }
   ],
   "source": [
    "#x6\n",
    "#----------------------\n",
    "#x35 = -x13*x25*x34/x14*x23\n",
    "#----------------------\n",
    "reset()\n",
    "\n",
    "var('x12,x13,x14,x15,x23,x24,x25,x34,x35,x45')\n",
    "var('d1,d2,d3,d4,d5')\n",
    "var('a12,a13,a14,a15,a23,a24,a25,a34,a35,a45')\n",
    "\n",
    "#101110\n",
    "eq1=(d2*d3*x13-a12*d3*x23)/(d1*d2) \n",
    "eq2=(a34*d2*d3*x13+d2*d3*d4*x14-a12*a34*d3*x23-a12*d3*d4*0+a12*a23*d4*x34-a13*d2*d4*x34)/(d1*d2*d3) \n",
    "eq3=(a35*d2*d3*x13+a45*d2*d3*x14+d2*d3*d5*0-a12*a35*d3*x23-a12*a45*d3*0-a12*d3*d5*x25+a12*a23*a45*x34-a13*a45*d2*x34+a12*a23*d5*((-x13*x25*x34)/(x14*x23))-a13*d2*d5*((-x13*x25*x34)/(x14*x23)))/(d1*d2*d3) \n",
    "eq4=(d3*x23)/(d2) \n",
    "eq5=(a34*d3*x23+d3*d4*0-a23*d4*x34)/(d2*d3) \n",
    "eq6=(a35*d3*x23+a45*d3*0+d3*d5*x25-a23*a45*x34-a23*d5*((-x13*x25*x34)/(x14*x23)))/(d2*d3) \n",
    "eq7=(d4*x34)/(d3) \n",
    "eq8=(a45*x34+d5*((-x13*x25*x34)/(x14*x23)))/(d3) \n",
    "\n",
    "m=matrix(QQ, [[0, 0, 0, 0, 0],\n",
    "              [0, 0, 1, 0, 0],\n",
    "              [0, 0, 0, 1, 0],\n",
    "              [0, 0, 0, 0, 0],\n",
    "              [0, 0, 0, 0, 0]])\n",
    "        \n",
    "#entry of matrix: (i,j) line i collum j, means (i-1,j-1)\n",
    "sol=solve([ eq1==m[0,2],\teq2==m[0,3],\teq3==m[0,4],\teq4==m[1,2],\t\n",
    "                                            eq5==m[1,3],    eq6==m[1,4],\n",
    "                                                            eq7==m[2,3], eq8==m[2,4]],d1,d2,d3,d4,d5,a12,a13,a14,a15,a23,a24,a25,a34,a35,a45, solution_dict=True)\n",
    "\n",
    "show(m)\n",
    "show(sol)\n",
    "latex(sol)"
   ]
  },
  {
   "cell_type": "code",
   "execution_count": 68,
   "metadata": {},
   "outputs": [
    {
     "data": {
      "text/html": [
       "<html><script type=\"math/tex; mode=display\">\\newcommand{\\Bold}[1]{\\mathbf{#1}}\\left(\\begin{array}{rrrrr}\n",
       "0 & 0 & 0 & 0 & 1 \\\\\n",
       "0 & 0 & 1 & 0 & 0 \\\\\n",
       "0 & 0 & 0 & 1 & 0 \\\\\n",
       "0 & 0 & 0 & 0 & 0 \\\\\n",
       "0 & 0 & 0 & 0 & 0\n",
       "\\end{array}\\right)</script></html>"
      ],
      "text/latex": [
       "$$\\newcommand{\\Bold}[1]{\\mathbf{#1}}\\left(\\begin{array}{rrrrr}\n",
       "0 & 0 & 0 & 0 & 1 \\\\\n",
       "0 & 0 & 1 & 0 & 0 \\\\\n",
       "0 & 0 & 0 & 1 & 0 \\\\\n",
       "0 & 0 & 0 & 0 & 0 \\\\\n",
       "0 & 0 & 0 & 0 & 0\n",
       "\\end{array}\\right)$$"
      ],
      "text/plain": [
       "[0 0 0 0 1]\n",
       "[0 0 1 0 0]\n",
       "[0 0 0 1 0]\n",
       "[0 0 0 0 0]\n",
       "[0 0 0 0 0]"
      ]
     },
     "metadata": {},
     "output_type": "display_data"
    },
    {
     "data": {
      "text/html": [
       "<html><script type=\"math/tex; mode=display\">\\newcommand{\\Bold}[1]{\\mathbf{#1}}\\left[\\left\\{d_{1} : r_{1227}, d_{2} : 0, d_{3} : 0, d_{4} : 0, d_{5} : r_{1228}, a_{12} : r_{1229}, a_{13} : r_{1230}, a_{14} : r_{1231}, a_{15} : r_{1232}, a_{23} : r_{1233}, a_{24} : r_{1234}, a_{25} : r_{1235}, a_{34} : r_{1236}, a_{35} : r_{1237}, a_{45} : -\\frac{r_{1228} x_{35}}{x_{34}}\\right\\}, \\left\\{d_{1} : r_{1238}, d_{2} : r_{1239}, d_{3} : \\frac{r_{1239}}{x_{23}}, d_{4} : \\frac{r_{1239}}{x_{23} x_{34}}, d_{5} : -\\frac{r_{1238} x_{23} x_{34}}{x_{14} x_{23} x_{35} - {\\left(x_{15} x_{23} - x_{13} x_{25}\\right)} x_{34}}, a_{12} : \\frac{r_{1239} x_{13}}{x_{23}}, a_{13} : r_{1240}, a_{14} : r_{1241}, a_{15} : r_{1242}, a_{23} : \\frac{r_{1240} x_{23} x_{34} - r_{1239} x_{14}}{x_{13} x_{34}}, a_{24} : r_{1243}, a_{25} : r_{1244}, a_{34} : \\frac{r_{1240} x_{23} x_{34} - r_{1239} x_{14}}{x_{13} x_{23} x_{34}}, a_{35} : \\frac{r_{1238} x_{25} x_{34}}{x_{14} x_{23} x_{35} - {\\left(x_{15} x_{23} - x_{13} x_{25}\\right)} x_{34}}, a_{45} : \\frac{r_{1238} x_{23} x_{35}}{x_{14} x_{23} x_{35} - {\\left(x_{15} x_{23} - x_{13} x_{25}\\right)} x_{34}}\\right\\}\\right]</script></html>"
      ],
      "text/latex": [
       "$$\\newcommand{\\Bold}[1]{\\mathbf{#1}}\\left[\\left\\{d_{1} : r_{1227}, d_{2} : 0, d_{3} : 0, d_{4} : 0, d_{5} : r_{1228}, a_{12} : r_{1229}, a_{13} : r_{1230}, a_{14} : r_{1231}, a_{15} : r_{1232}, a_{23} : r_{1233}, a_{24} : r_{1234}, a_{25} : r_{1235}, a_{34} : r_{1236}, a_{35} : r_{1237}, a_{45} : -\\frac{r_{1228} x_{35}}{x_{34}}\\right\\}, \\left\\{d_{1} : r_{1238}, d_{2} : r_{1239}, d_{3} : \\frac{r_{1239}}{x_{23}}, d_{4} : \\frac{r_{1239}}{x_{23} x_{34}}, d_{5} : -\\frac{r_{1238} x_{23} x_{34}}{x_{14} x_{23} x_{35} - {\\left(x_{15} x_{23} - x_{13} x_{25}\\right)} x_{34}}, a_{12} : \\frac{r_{1239} x_{13}}{x_{23}}, a_{13} : r_{1240}, a_{14} : r_{1241}, a_{15} : r_{1242}, a_{23} : \\frac{r_{1240} x_{23} x_{34} - r_{1239} x_{14}}{x_{13} x_{34}}, a_{24} : r_{1243}, a_{25} : r_{1244}, a_{34} : \\frac{r_{1240} x_{23} x_{34} - r_{1239} x_{14}}{x_{13} x_{23} x_{34}}, a_{35} : \\frac{r_{1238} x_{25} x_{34}}{x_{14} x_{23} x_{35} - {\\left(x_{15} x_{23} - x_{13} x_{25}\\right)} x_{34}}, a_{45} : \\frac{r_{1238} x_{23} x_{35}}{x_{14} x_{23} x_{35} - {\\left(x_{15} x_{23} - x_{13} x_{25}\\right)} x_{34}}\\right\\}\\right]$$"
      ],
      "text/plain": [
       "[{d1: r1227,\n",
       "  d2: 0,\n",
       "  d3: 0,\n",
       "  d4: 0,\n",
       "  d5: r1228,\n",
       "  a12: r1229,\n",
       "  a13: r1230,\n",
       "  a14: r1231,\n",
       "  a15: r1232,\n",
       "  a23: r1233,\n",
       "  a24: r1234,\n",
       "  a25: r1235,\n",
       "  a34: r1236,\n",
       "  a35: r1237,\n",
       "  a45: -r1228*x35/x34},\n",
       " {d1: r1238,\n",
       "  d2: r1239,\n",
       "  d3: r1239/x23,\n",
       "  d4: r1239/(x23*x34),\n",
       "  d5: -r1238*x23*x34/(x14*x23*x35 - (x15*x23 - x13*x25)*x34),\n",
       "  a12: r1239*x13/x23,\n",
       "  a13: r1240,\n",
       "  a14: r1241,\n",
       "  a15: r1242,\n",
       "  a23: (r1240*x23*x34 - r1239*x14)/(x13*x34),\n",
       "  a24: r1243,\n",
       "  a25: r1244,\n",
       "  a34: (r1240*x23*x34 - r1239*x14)/(x13*x23*x34),\n",
       "  a35: r1238*x25*x34/(x14*x23*x35 - (x15*x23 - x13*x25)*x34),\n",
       "  a45: r1238*x23*x35/(x14*x23*x35 - (x15*x23 - x13*x25)*x34)}]"
      ]
     },
     "metadata": {},
     "output_type": "display_data"
    },
    {
     "data": {
      "text/plain": [
       "\\left[\\left\\{d_{1} : r_{1227}, d_{2} : 0, d_{3} : 0, d_{4} : 0, d_{5} : r_{1228}, a_{12} : r_{1229}, a_{13} : r_{1230}, a_{14} : r_{1231}, a_{15} : r_{1232}, a_{23} : r_{1233}, a_{24} : r_{1234}, a_{25} : r_{1235}, a_{34} : r_{1236}, a_{35} : r_{1237}, a_{45} : -\\frac{r_{1228} x_{35}}{x_{34}}\\right\\}, \\left\\{d_{1} : r_{1238}, d_{2} : r_{1239}, d_{3} : \\frac{r_{1239}}{x_{23}}, d_{4} : \\frac{r_{1239}}{x_{23} x_{34}}, d_{5} : -\\frac{r_{1238} x_{23} x_{34}}{x_{14} x_{23} x_{35} - {\\left(x_{15} x_{23} - x_{13} x_{25}\\right)} x_{34}}, a_{12} : \\frac{r_{1239} x_{13}}{x_{23}}, a_{13} : r_{1240}, a_{14} : r_{1241}, a_{15} : r_{1242}, a_{23} : \\frac{r_{1240} x_{23} x_{34} - r_{1239} x_{14}}{x_{13} x_{34}}, a_{24} : r_{1243}, a_{25} : r_{1244}, a_{34} : \\frac{r_{1240} x_{23} x_{34} - r_{1239} x_{14}}{x_{13} x_{23} x_{34}}, a_{35} : \\frac{r_{1238} x_{25} x_{34}}{x_{14} x_{23} x_{35} - {\\left(x_{15} x_{23} - x_{13} x_{25}\\right)} x_{34}}, a_{45} : \\frac{r_{1238} x_{23} x_{35}}{x_{14} x_{23} x_{35} - {\\left(x_{15} x_{23} - x_{13} x_{25}\\right)} x_{34}}\\right\\}\\right]"
      ]
     },
     "execution_count": 68,
     "metadata": {},
     "output_type": "execute_result"
    }
   ],
   "source": [
    "#x6\n",
    "#----------------------\n",
    "#x35 \\dif (x15x23-x13x25)x34/x14*x23\n",
    "#----------------------\n",
    "reset()\n",
    "\n",
    "var('x12,x13,x14,x15,x23,x24,x25,x34,x35,x45')\n",
    "var('d1,d2,d3,d4,d5')\n",
    "var('a12,a13,a14,a15,a23,a24,a25,a34,a35,a45')\n",
    "\n",
    "load_attach_path('C:\\\\Users\\\\julia\\\\Documents\\\\unb\\\\doutorado\\\\pensar\\\\codigo_sage_v2\\\\maquina\\\\x6')\n",
    "load('out_#101111.sage')\n",
    "\n",
    "m=matrix(QQ, [[0, 0, 0, 0, 1],\n",
    "              [0, 0, 1, 0, 0],\n",
    "              [0, 0, 0, 1, 0],\n",
    "              [0, 0, 0, 0, 0],\n",
    "              [0, 0, 0, 0, 0]])\n",
    "        \n",
    "#entry of matrix: (i,j) line i collum j, means (i-1,j-1)\n",
    "sol=solve([ eq1==m[0,2],\teq2==m[0,3],\teq3==m[0,4],\teq4==m[1,2],\t\n",
    "                                            eq5==m[1,3],    eq6==m[1,4],\n",
    "                                                            eq7==m[2,3], eq8==m[2,4]],d1,d2,d3,d4,d5,a12,a13,a14,a15,a23,a24,a25,a34,a35,a45, solution_dict=True)\n",
    "\n",
    "show(m)\n",
    "show(sol)\n",
    "latex(sol)"
   ]
  },
  {
   "cell_type": "code",
   "execution_count": 57,
   "metadata": {},
   "outputs": [
    {
     "data": {
      "text/html": [
       "<html><script type=\"math/tex; mode=display\">\\newcommand{\\Bold}[1]{\\mathbf{#1}}\\left(\\begin{array}{rrrrr}\n",
       "0 & 0 & 0 & 0 & 0 \\\\\n",
       "0 & 0 & 1 & 0 & 0 \\\\\n",
       "0 & 0 & 0 & 1 & 0 \\\\\n",
       "0 & 0 & 0 & 0 & 0 \\\\\n",
       "0 & 0 & 0 & 0 & 0\n",
       "\\end{array}\\right)</script></html>"
      ],
      "text/latex": [
       "$$\\newcommand{\\Bold}[1]{\\mathbf{#1}}\\left(\\begin{array}{rrrrr}\n",
       "0 & 0 & 0 & 0 & 0 \\\\\n",
       "0 & 0 & 1 & 0 & 0 \\\\\n",
       "0 & 0 & 0 & 1 & 0 \\\\\n",
       "0 & 0 & 0 & 0 & 0 \\\\\n",
       "0 & 0 & 0 & 0 & 0\n",
       "\\end{array}\\right)$$"
      ],
      "text/plain": [
       "[0 0 0 0 0]\n",
       "[0 0 1 0 0]\n",
       "[0 0 0 1 0]\n",
       "[0 0 0 0 0]\n",
       "[0 0 0 0 0]"
      ]
     },
     "metadata": {},
     "output_type": "display_data"
    },
    {
     "data": {
      "text/html": [
       "<html><script type=\"math/tex; mode=display\">\\newcommand{\\Bold}[1]{\\mathbf{#1}}\\left[\\left\\{d_{1} : r_{1161}, d_{2} : 0, d_{3} : 0, d_{4} : 0, d_{5} : r_{1162}, a_{12} : r_{1163}, a_{13} : r_{1164}, a_{14} : r_{1165}, a_{15} : r_{1166}, a_{23} : r_{1167}, a_{24} : r_{1168}, a_{25} : r_{1169}, a_{34} : r_{1170}, a_{35} : r_{1171}, a_{45} : -\\frac{r_{1162} x_{15} x_{23} - r_{1162} x_{13} x_{25}}{x_{14} x_{23}}\\right\\}, \\left\\{d_{1} : r_{1172}, d_{2} : r_{1173}, d_{3} : \\frac{r_{1173}}{x_{23}}, d_{4} : \\frac{r_{1173}}{x_{23} x_{34}}, d_{5} : r_{1174}, a_{12} : \\frac{r_{1173} x_{13}}{x_{23}}, a_{13} : r_{1175}, a_{14} : r_{1176}, a_{15} : r_{1177}, a_{23} : \\frac{r_{1175} x_{23} x_{34} - r_{1173} x_{14}}{x_{13} x_{34}}, a_{24} : r_{1178}, a_{25} : r_{1179}, a_{34} : \\frac{r_{1175} x_{23} x_{34} - r_{1173} x_{14}}{x_{13} x_{23} x_{34}}, a_{35} : -\\frac{r_{1174} x_{25}}{x_{23}}, a_{45} : -\\frac{r_{1174} x_{15} x_{23} - r_{1174} x_{13} x_{25}}{x_{14} x_{23}}\\right\\}\\right]</script></html>"
      ],
      "text/latex": [
       "$$\\newcommand{\\Bold}[1]{\\mathbf{#1}}\\left[\\left\\{d_{1} : r_{1161}, d_{2} : 0, d_{3} : 0, d_{4} : 0, d_{5} : r_{1162}, a_{12} : r_{1163}, a_{13} : r_{1164}, a_{14} : r_{1165}, a_{15} : r_{1166}, a_{23} : r_{1167}, a_{24} : r_{1168}, a_{25} : r_{1169}, a_{34} : r_{1170}, a_{35} : r_{1171}, a_{45} : -\\frac{r_{1162} x_{15} x_{23} - r_{1162} x_{13} x_{25}}{x_{14} x_{23}}\\right\\}, \\left\\{d_{1} : r_{1172}, d_{2} : r_{1173}, d_{3} : \\frac{r_{1173}}{x_{23}}, d_{4} : \\frac{r_{1173}}{x_{23} x_{34}}, d_{5} : r_{1174}, a_{12} : \\frac{r_{1173} x_{13}}{x_{23}}, a_{13} : r_{1175}, a_{14} : r_{1176}, a_{15} : r_{1177}, a_{23} : \\frac{r_{1175} x_{23} x_{34} - r_{1173} x_{14}}{x_{13} x_{34}}, a_{24} : r_{1178}, a_{25} : r_{1179}, a_{34} : \\frac{r_{1175} x_{23} x_{34} - r_{1173} x_{14}}{x_{13} x_{23} x_{34}}, a_{35} : -\\frac{r_{1174} x_{25}}{x_{23}}, a_{45} : -\\frac{r_{1174} x_{15} x_{23} - r_{1174} x_{13} x_{25}}{x_{14} x_{23}}\\right\\}\\right]$$"
      ],
      "text/plain": [
       "[{d1: r1161,\n",
       "  d2: 0,\n",
       "  d3: 0,\n",
       "  d4: 0,\n",
       "  d5: r1162,\n",
       "  a12: r1163,\n",
       "  a13: r1164,\n",
       "  a14: r1165,\n",
       "  a15: r1166,\n",
       "  a23: r1167,\n",
       "  a24: r1168,\n",
       "  a25: r1169,\n",
       "  a34: r1170,\n",
       "  a35: r1171,\n",
       "  a45: -(r1162*x15*x23 - r1162*x13*x25)/(x14*x23)},\n",
       " {d1: r1172,\n",
       "  d2: r1173,\n",
       "  d3: r1173/x23,\n",
       "  d4: r1173/(x23*x34),\n",
       "  d5: r1174,\n",
       "  a12: r1173*x13/x23,\n",
       "  a13: r1175,\n",
       "  a14: r1176,\n",
       "  a15: r1177,\n",
       "  a23: (r1175*x23*x34 - r1173*x14)/(x13*x34),\n",
       "  a24: r1178,\n",
       "  a25: r1179,\n",
       "  a34: (r1175*x23*x34 - r1173*x14)/(x13*x23*x34),\n",
       "  a35: -r1174*x25/x23,\n",
       "  a45: -(r1174*x15*x23 - r1174*x13*x25)/(x14*x23)}]"
      ]
     },
     "metadata": {},
     "output_type": "display_data"
    },
    {
     "data": {
      "text/plain": [
       "\\left[\\left\\{d_{1} : r_{1161}, d_{2} : 0, d_{3} : 0, d_{4} : 0, d_{5} : r_{1162}, a_{12} : r_{1163}, a_{13} : r_{1164}, a_{14} : r_{1165}, a_{15} : r_{1166}, a_{23} : r_{1167}, a_{24} : r_{1168}, a_{25} : r_{1169}, a_{34} : r_{1170}, a_{35} : r_{1171}, a_{45} : -\\frac{r_{1162} x_{15} x_{23} - r_{1162} x_{13} x_{25}}{x_{14} x_{23}}\\right\\}, \\left\\{d_{1} : r_{1172}, d_{2} : r_{1173}, d_{3} : \\frac{r_{1173}}{x_{23}}, d_{4} : \\frac{r_{1173}}{x_{23} x_{34}}, d_{5} : r_{1174}, a_{12} : \\frac{r_{1173} x_{13}}{x_{23}}, a_{13} : r_{1175}, a_{14} : r_{1176}, a_{15} : r_{1177}, a_{23} : \\frac{r_{1175} x_{23} x_{34} - r_{1173} x_{14}}{x_{13} x_{34}}, a_{24} : r_{1178}, a_{25} : r_{1179}, a_{34} : \\frac{r_{1175} x_{23} x_{34} - r_{1173} x_{14}}{x_{13} x_{23} x_{34}}, a_{35} : -\\frac{r_{1174} x_{25}}{x_{23}}, a_{45} : -\\frac{r_{1174} x_{15} x_{23} - r_{1174} x_{13} x_{25}}{x_{14} x_{23}}\\right\\}\\right]"
      ]
     },
     "execution_count": 57,
     "metadata": {},
     "output_type": "execute_result"
    }
   ],
   "source": [
    "#x6\n",
    "#----------------------\n",
    "#x35 = (x15x23-x13x25)x34/x14*x23\n",
    "#----------------------\n",
    "reset()\n",
    "\n",
    "var('x12,x13,x14,x15,x23,x24,x25,x34,x35,x45')\n",
    "var('d1,d2,d3,d4,d5')\n",
    "var('a12,a13,a14,a15,a23,a24,a25,a34,a35,a45')\n",
    "\n",
    "#101111\n",
    "eq1=(d2*d3*x13-a12*d3*x23)/(d1*d2) \n",
    "eq2=(a34*d2*d3*x13+d2*d3*d4*x14-a12*a34*d3*x23-a12*d3*d4*0+a12*a23*d4*x34-a13*d2*d4*x34)/(d1*d2*d3) \n",
    "eq3=(a35*d2*d3*x13+a45*d2*d3*x14+d2*d3*d5*x15-a12*a35*d3*x23-a12*a45*d3*0-a12*d3*d5*x25+a12*a23*a45*x34-a13*a45*d2*x34+a12*a23*d5*(((x15*x23-x13*x25)*x34)/(x14*x23))-a13*d2*d5*(((x15*x23-x13*x25)*x34)/(x14*x23)))/(d1*d2*d3) \n",
    "eq4=(d3*x23)/(d2) \n",
    "eq5=(a34*d3*x23+d3*d4*0-a23*d4*x34)/(d2*d3) \n",
    "eq6=(a35*d3*x23+a45*d3*0+d3*d5*x25-a23*a45*x34-a23*d5*(((x15*x23-x13*x25)*x34)/(x14*x23)))/(d2*d3) \n",
    "eq7=(d4*x34)/(d3) \n",
    "eq8=(a45*x34+d5*(((x15*x23-x13*x25)*x34)/(x14*x23)))/(d3) \n",
    "\n",
    "\n",
    "m=matrix(QQ, [[0, 0, 0, 0, 0],\n",
    "              [0, 0, 1, 0, 0],\n",
    "              [0, 0, 0, 1, 0],\n",
    "              [0, 0, 0, 0, 0],\n",
    "              [0, 0, 0, 0, 0]])\n",
    "        \n",
    "#entry of matrix: (i,j) line i collum j, means (i-1,j-1)\n",
    "sol=solve([ eq1==m[0,2],\teq2==m[0,3],\teq3==m[0,4],\teq4==m[1,2],\t\n",
    "                                            eq5==m[1,3],    eq6==m[1,4],\n",
    "                                                            eq7==m[2,3], eq8==m[2,4]],d1,d2,d3,d4,d5,a12,a13,a14,a15,a23,a24,a25,a34,a35,a45, solution_dict=True)\n",
    "\n",
    "show(m)\n",
    "show(sol)\n",
    "latex(sol)"
   ]
  },
  {
   "cell_type": "code",
   "execution_count": 69,
   "metadata": {},
   "outputs": [
    {
     "data": {
      "text/html": [
       "<html><script type=\"math/tex; mode=display\">\\newcommand{\\Bold}[1]{\\mathbf{#1}}\\left(\\begin{array}{rrrrr}\n",
       "0 & 0 & 0 & 0 & 0 \\\\\n",
       "0 & 0 & 1 & 0 & 0 \\\\\n",
       "0 & 0 & 0 & 1 & 0 \\\\\n",
       "0 & 0 & 0 & 0 & 0 \\\\\n",
       "0 & 0 & 0 & 0 & 0\n",
       "\\end{array}\\right)</script></html>"
      ],
      "text/latex": [
       "$$\\newcommand{\\Bold}[1]{\\mathbf{#1}}\\left(\\begin{array}{rrrrr}\n",
       "0 & 0 & 0 & 0 & 0 \\\\\n",
       "0 & 0 & 1 & 0 & 0 \\\\\n",
       "0 & 0 & 0 & 1 & 0 \\\\\n",
       "0 & 0 & 0 & 0 & 0 \\\\\n",
       "0 & 0 & 0 & 0 & 0\n",
       "\\end{array}\\right)$$"
      ],
      "text/plain": [
       "[0 0 0 0 0]\n",
       "[0 0 1 0 0]\n",
       "[0 0 0 1 0]\n",
       "[0 0 0 0 0]\n",
       "[0 0 0 0 0]"
      ]
     },
     "metadata": {},
     "output_type": "display_data"
    },
    {
     "data": {
      "text/html": [
       "<html><script type=\"math/tex; mode=display\">\\newcommand{\\Bold}[1]{\\mathbf{#1}}\\left[\\left\\{d_{1} : r_{1245}, d_{2} : 0, d_{3} : 0, d_{4} : 0, d_{5} : r_{1246}, a_{12} : r_{1247}, a_{13} : r_{1248}, a_{14} : r_{1249}, a_{15} : r_{1250}, a_{23} : r_{1251}, a_{24} : r_{1252}, a_{25} : r_{1253}, a_{34} : r_{1254}, a_{35} : r_{1255}, a_{45} : -\\frac{r_{1246} x_{35}}{x_{34}}\\right\\}, \\left\\{d_{1} : r_{1256}, d_{2} : r_{1257}, d_{3} : \\frac{r_{1257}}{x_{23}}, d_{4} : \\frac{r_{1257}}{x_{23} x_{34}}, d_{5} : r_{1258}, a_{12} : 0, a_{13} : 0, a_{14} : r_{1259}, a_{15} : r_{1260}, a_{23} : r_{1261}, a_{24} : r_{1262}, a_{25} : r_{1263}, a_{34} : \\frac{r_{1261} x_{23} x_{34} - r_{1257} x_{24}}{x_{23}^{2} x_{34}}, a_{35} : \\frac{r_{1258} x_{24} x_{35}}{x_{23} x_{34}}, a_{45} : -\\frac{r_{1258} x_{35}}{x_{34}}\\right\\}\\right]</script></html>"
      ],
      "text/latex": [
       "$$\\newcommand{\\Bold}[1]{\\mathbf{#1}}\\left[\\left\\{d_{1} : r_{1245}, d_{2} : 0, d_{3} : 0, d_{4} : 0, d_{5} : r_{1246}, a_{12} : r_{1247}, a_{13} : r_{1248}, a_{14} : r_{1249}, a_{15} : r_{1250}, a_{23} : r_{1251}, a_{24} : r_{1252}, a_{25} : r_{1253}, a_{34} : r_{1254}, a_{35} : r_{1255}, a_{45} : -\\frac{r_{1246} x_{35}}{x_{34}}\\right\\}, \\left\\{d_{1} : r_{1256}, d_{2} : r_{1257}, d_{3} : \\frac{r_{1257}}{x_{23}}, d_{4} : \\frac{r_{1257}}{x_{23} x_{34}}, d_{5} : r_{1258}, a_{12} : 0, a_{13} : 0, a_{14} : r_{1259}, a_{15} : r_{1260}, a_{23} : r_{1261}, a_{24} : r_{1262}, a_{25} : r_{1263}, a_{34} : \\frac{r_{1261} x_{23} x_{34} - r_{1257} x_{24}}{x_{23}^{2} x_{34}}, a_{35} : \\frac{r_{1258} x_{24} x_{35}}{x_{23} x_{34}}, a_{45} : -\\frac{r_{1258} x_{35}}{x_{34}}\\right\\}\\right]$$"
      ],
      "text/plain": [
       "[{d1: r1245,\n",
       "  d2: 0,\n",
       "  d3: 0,\n",
       "  d4: 0,\n",
       "  d5: r1246,\n",
       "  a12: r1247,\n",
       "  a13: r1248,\n",
       "  a14: r1249,\n",
       "  a15: r1250,\n",
       "  a23: r1251,\n",
       "  a24: r1252,\n",
       "  a25: r1253,\n",
       "  a34: r1254,\n",
       "  a35: r1255,\n",
       "  a45: -r1246*x35/x34},\n",
       " {d1: r1256,\n",
       "  d2: r1257,\n",
       "  d3: r1257/x23,\n",
       "  d4: r1257/(x23*x34),\n",
       "  d5: r1258,\n",
       "  a12: 0,\n",
       "  a13: 0,\n",
       "  a14: r1259,\n",
       "  a15: r1260,\n",
       "  a23: r1261,\n",
       "  a24: r1262,\n",
       "  a25: r1263,\n",
       "  a34: (r1261*x23*x34 - r1257*x24)/(x23^2*x34),\n",
       "  a35: r1258*x24*x35/(x23*x34),\n",
       "  a45: -r1258*x35/x34}]"
      ]
     },
     "metadata": {},
     "output_type": "display_data"
    },
    {
     "data": {
      "text/plain": [
       "\\left[\\left\\{d_{1} : r_{1245}, d_{2} : 0, d_{3} : 0, d_{4} : 0, d_{5} : r_{1246}, a_{12} : r_{1247}, a_{13} : r_{1248}, a_{14} : r_{1249}, a_{15} : r_{1250}, a_{23} : r_{1251}, a_{24} : r_{1252}, a_{25} : r_{1253}, a_{34} : r_{1254}, a_{35} : r_{1255}, a_{45} : -\\frac{r_{1246} x_{35}}{x_{34}}\\right\\}, \\left\\{d_{1} : r_{1256}, d_{2} : r_{1257}, d_{3} : \\frac{r_{1257}}{x_{23}}, d_{4} : \\frac{r_{1257}}{x_{23} x_{34}}, d_{5} : r_{1258}, a_{12} : 0, a_{13} : 0, a_{14} : r_{1259}, a_{15} : r_{1260}, a_{23} : r_{1261}, a_{24} : r_{1262}, a_{25} : r_{1263}, a_{34} : \\frac{r_{1261} x_{23} x_{34} - r_{1257} x_{24}}{x_{23}^{2} x_{34}}, a_{35} : \\frac{r_{1258} x_{24} x_{35}}{x_{23} x_{34}}, a_{45} : -\\frac{r_{1258} x_{35}}{x_{34}}\\right\\}\\right]"
      ]
     },
     "execution_count": 69,
     "metadata": {},
     "output_type": "execute_result"
    }
   ],
   "source": [
    "#x6\n",
    "reset()\n",
    "\n",
    "var('x12,x13,x14,x15,x23,x24,x25,x34,x35,x45')\n",
    "var('d1,d2,d3,d4,d5')\n",
    "var('a12,a13,a14,a15,a23,a24,a25,a34,a35,a45')\n",
    "\n",
    "load_attach_path('C:\\\\Users\\\\julia\\\\Documents\\\\unb\\\\doutorado\\\\pensar\\\\codigo_sage_v2\\\\maquina\\\\x6')\n",
    "load('out_#110000.sage')\n",
    "\n",
    "m=matrix(QQ, [[0, 0, 0, 0, 0],\n",
    "              [0, 0, 1, 0, 0],\n",
    "              [0, 0, 0, 1, 0],\n",
    "              [0, 0, 0, 0, 0],\n",
    "              [0, 0, 0, 0, 0]])\n",
    "        \n",
    "#entry of matrix: (i,j) line i collum j, means (i-1,j-1)\n",
    "sol=solve([ eq1==m[0,2],\teq2==m[0,3],\teq3==m[0,4],\teq4==m[1,2],\t\n",
    "                                            eq5==m[1,3],    eq6==m[1,4],\n",
    "                                                            eq7==m[2,3], eq8==m[2,4]],d1,d2,d3,d4,d5,a12,a13,a14,a15,a23,a24,a25,a34,a35,a45, solution_dict=True)\n",
    "\n",
    "show(m)\n",
    "show(sol)\n",
    "latex(sol)"
   ]
  },
  {
   "cell_type": "code",
   "execution_count": 70,
   "metadata": {},
   "outputs": [
    {
     "data": {
      "text/html": [
       "<html><script type=\"math/tex; mode=display\">\\newcommand{\\Bold}[1]{\\mathbf{#1}}\\left(\\begin{array}{rrrrr}\n",
       "0 & 0 & 0 & 0 & 1 \\\\\n",
       "0 & 0 & 1 & 0 & 0 \\\\\n",
       "0 & 0 & 0 & 1 & 0 \\\\\n",
       "0 & 0 & 0 & 0 & 0 \\\\\n",
       "0 & 0 & 0 & 0 & 0\n",
       "\\end{array}\\right)</script></html>"
      ],
      "text/latex": [
       "$$\\newcommand{\\Bold}[1]{\\mathbf{#1}}\\left(\\begin{array}{rrrrr}\n",
       "0 & 0 & 0 & 0 & 1 \\\\\n",
       "0 & 0 & 1 & 0 & 0 \\\\\n",
       "0 & 0 & 0 & 1 & 0 \\\\\n",
       "0 & 0 & 0 & 0 & 0 \\\\\n",
       "0 & 0 & 0 & 0 & 0\n",
       "\\end{array}\\right)$$"
      ],
      "text/plain": [
       "[0 0 0 0 1]\n",
       "[0 0 1 0 0]\n",
       "[0 0 0 1 0]\n",
       "[0 0 0 0 0]\n",
       "[0 0 0 0 0]"
      ]
     },
     "metadata": {},
     "output_type": "display_data"
    },
    {
     "data": {
      "text/html": [
       "<html><script type=\"math/tex; mode=display\">\\newcommand{\\Bold}[1]{\\mathbf{#1}}\\left[\\left\\{d_{1} : r_{1264}, d_{2} : 0, d_{3} : 0, d_{4} : 0, d_{5} : r_{1265}, a_{12} : r_{1266}, a_{13} : r_{1267}, a_{14} : r_{1268}, a_{15} : r_{1269}, a_{23} : r_{1270}, a_{24} : r_{1271}, a_{25} : r_{1272}, a_{34} : r_{1273}, a_{35} : r_{1274}, a_{45} : -\\frac{r_{1265} x_{35}}{x_{34}}\\right\\}, \\left\\{d_{1} : r_{1275}, d_{2} : r_{1276}, d_{3} : \\frac{r_{1276}}{x_{23}}, d_{4} : \\frac{r_{1276}}{x_{23} x_{34}}, d_{5} : \\frac{r_{1275}}{x_{15}}, a_{12} : 0, a_{13} : 0, a_{14} : r_{1277}, a_{15} : r_{1278}, a_{23} : r_{1279}, a_{24} : r_{1280}, a_{25} : r_{1281}, a_{34} : \\frac{r_{1279} x_{23} x_{34} - r_{1276} x_{24}}{x_{23}^{2} x_{34}}, a_{35} : \\frac{r_{1275} x_{24} x_{35}}{x_{15} x_{23} x_{34}}, a_{45} : -\\frac{r_{1275} x_{35}}{x_{15} x_{34}}\\right\\}\\right]</script></html>"
      ],
      "text/latex": [
       "$$\\newcommand{\\Bold}[1]{\\mathbf{#1}}\\left[\\left\\{d_{1} : r_{1264}, d_{2} : 0, d_{3} : 0, d_{4} : 0, d_{5} : r_{1265}, a_{12} : r_{1266}, a_{13} : r_{1267}, a_{14} : r_{1268}, a_{15} : r_{1269}, a_{23} : r_{1270}, a_{24} : r_{1271}, a_{25} : r_{1272}, a_{34} : r_{1273}, a_{35} : r_{1274}, a_{45} : -\\frac{r_{1265} x_{35}}{x_{34}}\\right\\}, \\left\\{d_{1} : r_{1275}, d_{2} : r_{1276}, d_{3} : \\frac{r_{1276}}{x_{23}}, d_{4} : \\frac{r_{1276}}{x_{23} x_{34}}, d_{5} : \\frac{r_{1275}}{x_{15}}, a_{12} : 0, a_{13} : 0, a_{14} : r_{1277}, a_{15} : r_{1278}, a_{23} : r_{1279}, a_{24} : r_{1280}, a_{25} : r_{1281}, a_{34} : \\frac{r_{1279} x_{23} x_{34} - r_{1276} x_{24}}{x_{23}^{2} x_{34}}, a_{35} : \\frac{r_{1275} x_{24} x_{35}}{x_{15} x_{23} x_{34}}, a_{45} : -\\frac{r_{1275} x_{35}}{x_{15} x_{34}}\\right\\}\\right]$$"
      ],
      "text/plain": [
       "[{d1: r1264,\n",
       "  d2: 0,\n",
       "  d3: 0,\n",
       "  d4: 0,\n",
       "  d5: r1265,\n",
       "  a12: r1266,\n",
       "  a13: r1267,\n",
       "  a14: r1268,\n",
       "  a15: r1269,\n",
       "  a23: r1270,\n",
       "  a24: r1271,\n",
       "  a25: r1272,\n",
       "  a34: r1273,\n",
       "  a35: r1274,\n",
       "  a45: -r1265*x35/x34},\n",
       " {d1: r1275,\n",
       "  d2: r1276,\n",
       "  d3: r1276/x23,\n",
       "  d4: r1276/(x23*x34),\n",
       "  d5: r1275/x15,\n",
       "  a12: 0,\n",
       "  a13: 0,\n",
       "  a14: r1277,\n",
       "  a15: r1278,\n",
       "  a23: r1279,\n",
       "  a24: r1280,\n",
       "  a25: r1281,\n",
       "  a34: (r1279*x23*x34 - r1276*x24)/(x23^2*x34),\n",
       "  a35: r1275*x24*x35/(x15*x23*x34),\n",
       "  a45: -r1275*x35/(x15*x34)}]"
      ]
     },
     "metadata": {},
     "output_type": "display_data"
    },
    {
     "data": {
      "text/plain": [
       "\\left[\\left\\{d_{1} : r_{1264}, d_{2} : 0, d_{3} : 0, d_{4} : 0, d_{5} : r_{1265}, a_{12} : r_{1266}, a_{13} : r_{1267}, a_{14} : r_{1268}, a_{15} : r_{1269}, a_{23} : r_{1270}, a_{24} : r_{1271}, a_{25} : r_{1272}, a_{34} : r_{1273}, a_{35} : r_{1274}, a_{45} : -\\frac{r_{1265} x_{35}}{x_{34}}\\right\\}, \\left\\{d_{1} : r_{1275}, d_{2} : r_{1276}, d_{3} : \\frac{r_{1276}}{x_{23}}, d_{4} : \\frac{r_{1276}}{x_{23} x_{34}}, d_{5} : \\frac{r_{1275}}{x_{15}}, a_{12} : 0, a_{13} : 0, a_{14} : r_{1277}, a_{15} : r_{1278}, a_{23} : r_{1279}, a_{24} : r_{1280}, a_{25} : r_{1281}, a_{34} : \\frac{r_{1279} x_{23} x_{34} - r_{1276} x_{24}}{x_{23}^{2} x_{34}}, a_{35} : \\frac{r_{1275} x_{24} x_{35}}{x_{15} x_{23} x_{34}}, a_{45} : -\\frac{r_{1275} x_{35}}{x_{15} x_{34}}\\right\\}\\right]"
      ]
     },
     "execution_count": 70,
     "metadata": {},
     "output_type": "execute_result"
    }
   ],
   "source": [
    "#x6\n",
    "reset()\n",
    "\n",
    "var('x12,x13,x14,x15,x23,x24,x25,x34,x35,x45')\n",
    "var('d1,d2,d3,d4,d5')\n",
    "var('a12,a13,a14,a15,a23,a24,a25,a34,a35,a45')\n",
    "\n",
    "load_attach_path('C:\\\\Users\\\\julia\\\\Documents\\\\unb\\\\doutorado\\\\pensar\\\\codigo_sage_v2\\\\maquina\\\\x6')\n",
    "load('out_#110001.sage')\n",
    "\n",
    "m=matrix(QQ, [[0, 0, 0, 0, 1],\n",
    "              [0, 0, 1, 0, 0],\n",
    "              [0, 0, 0, 1, 0],\n",
    "              [0, 0, 0, 0, 0],\n",
    "              [0, 0, 0, 0, 0]])\n",
    "        \n",
    "#entry of matrix: (i,j) line i collum j, means (i-1,j-1)\n",
    "sol=solve([ eq1==m[0,2],\teq2==m[0,3],\teq3==m[0,4],\teq4==m[1,2],\t\n",
    "                                            eq5==m[1,3],    eq6==m[1,4],\n",
    "                                                            eq7==m[2,3], eq8==m[2,4]],d1,d2,d3,d4,d5,a12,a13,a14,a15,a23,a24,a25,a34,a35,a45, solution_dict=True)\n",
    "\n",
    "show(m)\n",
    "show(sol)\n",
    "latex(sol)"
   ]
  },
  {
   "cell_type": "code",
   "execution_count": 72,
   "metadata": {},
   "outputs": [
    {
     "data": {
      "text/html": [
       "<html><script type=\"math/tex; mode=display\">\\newcommand{\\Bold}[1]{\\mathbf{#1}}\\left(\\begin{array}{rrrrr}\n",
       "0 & 0 & 0 & 0 & 1 \\\\\n",
       "0 & 0 & 1 & 0 & 0 \\\\\n",
       "0 & 0 & 0 & 1 & 0 \\\\\n",
       "0 & 0 & 0 & 0 & 0 \\\\\n",
       "0 & 0 & 0 & 0 & 0\n",
       "\\end{array}\\right)</script></html>"
      ],
      "text/latex": [
       "$$\\newcommand{\\Bold}[1]{\\mathbf{#1}}\\left(\\begin{array}{rrrrr}\n",
       "0 & 0 & 0 & 0 & 1 \\\\\n",
       "0 & 0 & 1 & 0 & 0 \\\\\n",
       "0 & 0 & 0 & 1 & 0 \\\\\n",
       "0 & 0 & 0 & 0 & 0 \\\\\n",
       "0 & 0 & 0 & 0 & 0\n",
       "\\end{array}\\right)$$"
      ],
      "text/plain": [
       "[0 0 0 0 1]\n",
       "[0 0 1 0 0]\n",
       "[0 0 0 1 0]\n",
       "[0 0 0 0 0]\n",
       "[0 0 0 0 0]"
      ]
     },
     "metadata": {},
     "output_type": "display_data"
    },
    {
     "data": {
      "text/html": [
       "<html><script type=\"math/tex; mode=display\">\\newcommand{\\Bold}[1]{\\mathbf{#1}}\\left[\\left\\{d_{1} : r_{1300}, d_{2} : 0, d_{3} : 0, d_{4} : 0, d_{5} : r_{1301}, a_{12} : r_{1302}, a_{13} : r_{1303}, a_{14} : r_{1304}, a_{15} : r_{1305}, a_{23} : r_{1306}, a_{24} : r_{1307}, a_{25} : r_{1308}, a_{34} : r_{1309}, a_{35} : r_{1310}, a_{45} : -\\frac{r_{1301} x_{35}}{x_{34}}\\right\\}, \\left\\{d_{1} : r_{1311}, d_{2} : r_{1312}, d_{3} : \\frac{r_{1312}}{x_{23}}, d_{4} : \\frac{r_{1312}}{x_{23} x_{34}}, d_{5} : -\\frac{r_{1311} x_{34}}{x_{14} x_{35}}, a_{12} : 0, a_{13} : \\frac{r_{1312} x_{14}}{x_{23} x_{34}}, a_{14} : r_{1313}, a_{15} : r_{1314}, a_{23} : r_{1315}, a_{24} : r_{1316}, a_{25} : r_{1317}, a_{34} : \\frac{r_{1315} x_{23} x_{34} - r_{1312} x_{24}}{x_{23}^{2} x_{34}}, a_{35} : -\\frac{r_{1311} x_{24}}{x_{14} x_{23}}, a_{45} : \\frac{r_{1311}}{x_{14}}\\right\\}\\right]</script></html>"
      ],
      "text/latex": [
       "$$\\newcommand{\\Bold}[1]{\\mathbf{#1}}\\left[\\left\\{d_{1} : r_{1300}, d_{2} : 0, d_{3} : 0, d_{4} : 0, d_{5} : r_{1301}, a_{12} : r_{1302}, a_{13} : r_{1303}, a_{14} : r_{1304}, a_{15} : r_{1305}, a_{23} : r_{1306}, a_{24} : r_{1307}, a_{25} : r_{1308}, a_{34} : r_{1309}, a_{35} : r_{1310}, a_{45} : -\\frac{r_{1301} x_{35}}{x_{34}}\\right\\}, \\left\\{d_{1} : r_{1311}, d_{2} : r_{1312}, d_{3} : \\frac{r_{1312}}{x_{23}}, d_{4} : \\frac{r_{1312}}{x_{23} x_{34}}, d_{5} : -\\frac{r_{1311} x_{34}}{x_{14} x_{35}}, a_{12} : 0, a_{13} : \\frac{r_{1312} x_{14}}{x_{23} x_{34}}, a_{14} : r_{1313}, a_{15} : r_{1314}, a_{23} : r_{1315}, a_{24} : r_{1316}, a_{25} : r_{1317}, a_{34} : \\frac{r_{1315} x_{23} x_{34} - r_{1312} x_{24}}{x_{23}^{2} x_{34}}, a_{35} : -\\frac{r_{1311} x_{24}}{x_{14} x_{23}}, a_{45} : \\frac{r_{1311}}{x_{14}}\\right\\}\\right]$$"
      ],
      "text/plain": [
       "[{d1: r1300,\n",
       "  d2: 0,\n",
       "  d3: 0,\n",
       "  d4: 0,\n",
       "  d5: r1301,\n",
       "  a12: r1302,\n",
       "  a13: r1303,\n",
       "  a14: r1304,\n",
       "  a15: r1305,\n",
       "  a23: r1306,\n",
       "  a24: r1307,\n",
       "  a25: r1308,\n",
       "  a34: r1309,\n",
       "  a35: r1310,\n",
       "  a45: -r1301*x35/x34},\n",
       " {d1: r1311,\n",
       "  d2: r1312,\n",
       "  d3: r1312/x23,\n",
       "  d4: r1312/(x23*x34),\n",
       "  d5: -r1311*x34/(x14*x35),\n",
       "  a12: 0,\n",
       "  a13: r1312*x14/(x23*x34),\n",
       "  a14: r1313,\n",
       "  a15: r1314,\n",
       "  a23: r1315,\n",
       "  a24: r1316,\n",
       "  a25: r1317,\n",
       "  a34: (r1315*x23*x34 - r1312*x24)/(x23^2*x34),\n",
       "  a35: -r1311*x24/(x14*x23),\n",
       "  a45: r1311/x14}]"
      ]
     },
     "metadata": {},
     "output_type": "display_data"
    },
    {
     "data": {
      "text/plain": [
       "\\left[\\left\\{d_{1} : r_{1300}, d_{2} : 0, d_{3} : 0, d_{4} : 0, d_{5} : r_{1301}, a_{12} : r_{1302}, a_{13} : r_{1303}, a_{14} : r_{1304}, a_{15} : r_{1305}, a_{23} : r_{1306}, a_{24} : r_{1307}, a_{25} : r_{1308}, a_{34} : r_{1309}, a_{35} : r_{1310}, a_{45} : -\\frac{r_{1301} x_{35}}{x_{34}}\\right\\}, \\left\\{d_{1} : r_{1311}, d_{2} : r_{1312}, d_{3} : \\frac{r_{1312}}{x_{23}}, d_{4} : \\frac{r_{1312}}{x_{23} x_{34}}, d_{5} : -\\frac{r_{1311} x_{34}}{x_{14} x_{35}}, a_{12} : 0, a_{13} : \\frac{r_{1312} x_{14}}{x_{23} x_{34}}, a_{14} : r_{1313}, a_{15} : r_{1314}, a_{23} : r_{1315}, a_{24} : r_{1316}, a_{25} : r_{1317}, a_{34} : \\frac{r_{1315} x_{23} x_{34} - r_{1312} x_{24}}{x_{23}^{2} x_{34}}, a_{35} : -\\frac{r_{1311} x_{24}}{x_{14} x_{23}}, a_{45} : \\frac{r_{1311}}{x_{14}}\\right\\}\\right]"
      ]
     },
     "execution_count": 72,
     "metadata": {},
     "output_type": "execute_result"
    }
   ],
   "source": [
    "#x6\n",
    "reset()\n",
    "\n",
    "var('x12,x13,x14,x15,x23,x24,x25,x34,x35,x45')\n",
    "var('d1,d2,d3,d4,d5')\n",
    "var('a12,a13,a14,a15,a23,a24,a25,a34,a35,a45')\n",
    "\n",
    "load_attach_path('C:\\\\Users\\\\julia\\\\Documents\\\\unb\\\\doutorado\\\\pensar\\\\codigo_sage_v2\\\\maquina\\\\x6')\n",
    "load('out_#110010.sage')\n",
    "\n",
    "m=matrix(QQ, [[0, 0, 0, 0, 1],\n",
    "              [0, 0, 1, 0, 0],\n",
    "              [0, 0, 0, 1, 0],\n",
    "              [0, 0, 0, 0, 0],\n",
    "              [0, 0, 0, 0, 0]])\n",
    "        \n",
    "#entry of matrix: (i,j) line i collum j, means (i-1,j-1)\n",
    "sol=solve([ eq1==m[0,2],\teq2==m[0,3],\teq3==m[0,4],\teq4==m[1,2],\t\n",
    "                                            eq5==m[1,3],    eq6==m[1,4],\n",
    "                                                            eq7==m[2,3], eq8==m[2,4]],d1,d2,d3,d4,d5,a12,a13,a14,a15,a23,a24,a25,a34,a35,a45, solution_dict=True)\n",
    "\n",
    "show(m)\n",
    "show(sol)\n",
    "latex(sol)"
   ]
  },
  {
   "cell_type": "code",
   "execution_count": 73,
   "metadata": {},
   "outputs": [
    {
     "data": {
      "text/html": [
       "<html><script type=\"math/tex; mode=display\">\\newcommand{\\Bold}[1]{\\mathbf{#1}}\\left(\\begin{array}{rrrrr}\n",
       "0 & 0 & 0 & 0 & 1 \\\\\n",
       "0 & 0 & 1 & 0 & 0 \\\\\n",
       "0 & 0 & 0 & 1 & 0 \\\\\n",
       "0 & 0 & 0 & 0 & 0 \\\\\n",
       "0 & 0 & 0 & 0 & 0\n",
       "\\end{array}\\right)</script></html>"
      ],
      "text/latex": [
       "$$\\newcommand{\\Bold}[1]{\\mathbf{#1}}\\left(\\begin{array}{rrrrr}\n",
       "0 & 0 & 0 & 0 & 1 \\\\\n",
       "0 & 0 & 1 & 0 & 0 \\\\\n",
       "0 & 0 & 0 & 1 & 0 \\\\\n",
       "0 & 0 & 0 & 0 & 0 \\\\\n",
       "0 & 0 & 0 & 0 & 0\n",
       "\\end{array}\\right)$$"
      ],
      "text/plain": [
       "[0 0 0 0 1]\n",
       "[0 0 1 0 0]\n",
       "[0 0 0 1 0]\n",
       "[0 0 0 0 0]\n",
       "[0 0 0 0 0]"
      ]
     },
     "metadata": {},
     "output_type": "display_data"
    },
    {
     "data": {
      "text/html": [
       "<html><script type=\"math/tex; mode=display\">\\newcommand{\\Bold}[1]{\\mathbf{#1}}\\left[\\left\\{d_{1} : r_{1318}, d_{2} : 0, d_{3} : 0, d_{4} : 0, d_{5} : r_{1319}, a_{12} : r_{1320}, a_{13} : r_{1321}, a_{14} : r_{1322}, a_{15} : r_{1323}, a_{23} : r_{1324}, a_{24} : r_{1325}, a_{25} : r_{1326}, a_{34} : r_{1327}, a_{35} : r_{1328}, a_{45} : -\\frac{r_{1319} x_{35}}{x_{34}}\\right\\}, \\left\\{d_{1} : r_{1329}, d_{2} : r_{1330}, d_{3} : \\frac{r_{1330}}{x_{23}}, d_{4} : \\frac{r_{1330}}{x_{23} x_{34}}, d_{5} : \\frac{r_{1329} x_{34}}{x_{15} x_{34} - x_{14} x_{35}}, a_{12} : 0, a_{13} : \\frac{r_{1330} x_{14}}{x_{23} x_{34}}, a_{14} : r_{1331}, a_{15} : r_{1332}, a_{23} : r_{1333}, a_{24} : r_{1334}, a_{25} : r_{1335}, a_{34} : \\frac{r_{1333} x_{23} x_{34} - r_{1330} x_{24}}{x_{23}^{2} x_{34}}, a_{35} : \\frac{r_{1329} x_{24} x_{35}}{x_{15} x_{23} x_{34} - x_{14} x_{23} x_{35}}, a_{45} : -\\frac{r_{1329} x_{35}}{x_{15} x_{34} - x_{14} x_{35}}\\right\\}\\right]</script></html>"
      ],
      "text/latex": [
       "$$\\newcommand{\\Bold}[1]{\\mathbf{#1}}\\left[\\left\\{d_{1} : r_{1318}, d_{2} : 0, d_{3} : 0, d_{4} : 0, d_{5} : r_{1319}, a_{12} : r_{1320}, a_{13} : r_{1321}, a_{14} : r_{1322}, a_{15} : r_{1323}, a_{23} : r_{1324}, a_{24} : r_{1325}, a_{25} : r_{1326}, a_{34} : r_{1327}, a_{35} : r_{1328}, a_{45} : -\\frac{r_{1319} x_{35}}{x_{34}}\\right\\}, \\left\\{d_{1} : r_{1329}, d_{2} : r_{1330}, d_{3} : \\frac{r_{1330}}{x_{23}}, d_{4} : \\frac{r_{1330}}{x_{23} x_{34}}, d_{5} : \\frac{r_{1329} x_{34}}{x_{15} x_{34} - x_{14} x_{35}}, a_{12} : 0, a_{13} : \\frac{r_{1330} x_{14}}{x_{23} x_{34}}, a_{14} : r_{1331}, a_{15} : r_{1332}, a_{23} : r_{1333}, a_{24} : r_{1334}, a_{25} : r_{1335}, a_{34} : \\frac{r_{1333} x_{23} x_{34} - r_{1330} x_{24}}{x_{23}^{2} x_{34}}, a_{35} : \\frac{r_{1329} x_{24} x_{35}}{x_{15} x_{23} x_{34} - x_{14} x_{23} x_{35}}, a_{45} : -\\frac{r_{1329} x_{35}}{x_{15} x_{34} - x_{14} x_{35}}\\right\\}\\right]$$"
      ],
      "text/plain": [
       "[{d1: r1318,\n",
       "  d2: 0,\n",
       "  d3: 0,\n",
       "  d4: 0,\n",
       "  d5: r1319,\n",
       "  a12: r1320,\n",
       "  a13: r1321,\n",
       "  a14: r1322,\n",
       "  a15: r1323,\n",
       "  a23: r1324,\n",
       "  a24: r1325,\n",
       "  a25: r1326,\n",
       "  a34: r1327,\n",
       "  a35: r1328,\n",
       "  a45: -r1319*x35/x34},\n",
       " {d1: r1329,\n",
       "  d2: r1330,\n",
       "  d3: r1330/x23,\n",
       "  d4: r1330/(x23*x34),\n",
       "  d5: r1329*x34/(x15*x34 - x14*x35),\n",
       "  a12: 0,\n",
       "  a13: r1330*x14/(x23*x34),\n",
       "  a14: r1331,\n",
       "  a15: r1332,\n",
       "  a23: r1333,\n",
       "  a24: r1334,\n",
       "  a25: r1335,\n",
       "  a34: (r1333*x23*x34 - r1330*x24)/(x23^2*x34),\n",
       "  a35: r1329*x24*x35/(x15*x23*x34 - x14*x23*x35),\n",
       "  a45: -r1329*x35/(x15*x34 - x14*x35)}]"
      ]
     },
     "metadata": {},
     "output_type": "display_data"
    },
    {
     "data": {
      "text/plain": [
       "\\left[\\left\\{d_{1} : r_{1318}, d_{2} : 0, d_{3} : 0, d_{4} : 0, d_{5} : r_{1319}, a_{12} : r_{1320}, a_{13} : r_{1321}, a_{14} : r_{1322}, a_{15} : r_{1323}, a_{23} : r_{1324}, a_{24} : r_{1325}, a_{25} : r_{1326}, a_{34} : r_{1327}, a_{35} : r_{1328}, a_{45} : -\\frac{r_{1319} x_{35}}{x_{34}}\\right\\}, \\left\\{d_{1} : r_{1329}, d_{2} : r_{1330}, d_{3} : \\frac{r_{1330}}{x_{23}}, d_{4} : \\frac{r_{1330}}{x_{23} x_{34}}, d_{5} : \\frac{r_{1329} x_{34}}{x_{15} x_{34} - x_{14} x_{35}}, a_{12} : 0, a_{13} : \\frac{r_{1330} x_{14}}{x_{23} x_{34}}, a_{14} : r_{1331}, a_{15} : r_{1332}, a_{23} : r_{1333}, a_{24} : r_{1334}, a_{25} : r_{1335}, a_{34} : \\frac{r_{1333} x_{23} x_{34} - r_{1330} x_{24}}{x_{23}^{2} x_{34}}, a_{35} : \\frac{r_{1329} x_{24} x_{35}}{x_{15} x_{23} x_{34} - x_{14} x_{23} x_{35}}, a_{45} : -\\frac{r_{1329} x_{35}}{x_{15} x_{34} - x_{14} x_{35}}\\right\\}\\right]"
      ]
     },
     "execution_count": 73,
     "metadata": {},
     "output_type": "execute_result"
    }
   ],
   "source": [
    "#x6\n",
    "#----------------------\n",
    "#x15 \\dif x14*x35/x34\n",
    "#----------------------\n",
    "reset()\n",
    "\n",
    "var('x12,x13,x14,x15,x23,x24,x25,x34,x35,x45')\n",
    "var('d1,d2,d3,d4,d5')\n",
    "var('a12,a13,a14,a15,a23,a24,a25,a34,a35,a45')\n",
    "\n",
    "load_attach_path('C:\\\\Users\\\\julia\\\\Documents\\\\unb\\\\doutorado\\\\pensar\\\\codigo_sage_v2\\\\maquina\\\\x6')\n",
    "load('out_#110011.sage')\n",
    "\n",
    "m=matrix(QQ, [[0, 0, 0, 0, 1],\n",
    "              [0, 0, 1, 0, 0],\n",
    "              [0, 0, 0, 1, 0],\n",
    "              [0, 0, 0, 0, 0],\n",
    "              [0, 0, 0, 0, 0]])\n",
    "        \n",
    "#entry of matrix: (i,j) line i collum j, means (i-1,j-1)\n",
    "sol=solve([ eq1==m[0,2],\teq2==m[0,3],\teq3==m[0,4],\teq4==m[1,2],\t\n",
    "                                            eq5==m[1,3],    eq6==m[1,4],\n",
    "                                                            eq7==m[2,3], eq8==m[2,4]],d1,d2,d3,d4,d5,a12,a13,a14,a15,a23,a24,a25,a34,a35,a45, solution_dict=True)\n",
    "\n",
    "show(m)\n",
    "show(sol)\n",
    "latex(sol)"
   ]
  },
  {
   "cell_type": "code",
   "execution_count": 74,
   "metadata": {},
   "outputs": [
    {
     "data": {
      "text/html": [
       "<html><script type=\"math/tex; mode=display\">\\newcommand{\\Bold}[1]{\\mathbf{#1}}\\left(\\begin{array}{rrrrr}\n",
       "0 & 0 & 0 & 0 & 0 \\\\\n",
       "0 & 0 & 1 & 0 & 0 \\\\\n",
       "0 & 0 & 0 & 1 & 0 \\\\\n",
       "0 & 0 & 0 & 0 & 0 \\\\\n",
       "0 & 0 & 0 & 0 & 0\n",
       "\\end{array}\\right)</script></html>"
      ],
      "text/latex": [
       "$$\\newcommand{\\Bold}[1]{\\mathbf{#1}}\\left(\\begin{array}{rrrrr}\n",
       "0 & 0 & 0 & 0 & 0 \\\\\n",
       "0 & 0 & 1 & 0 & 0 \\\\\n",
       "0 & 0 & 0 & 1 & 0 \\\\\n",
       "0 & 0 & 0 & 0 & 0 \\\\\n",
       "0 & 0 & 0 & 0 & 0\n",
       "\\end{array}\\right)$$"
      ],
      "text/plain": [
       "[0 0 0 0 0]\n",
       "[0 0 1 0 0]\n",
       "[0 0 0 1 0]\n",
       "[0 0 0 0 0]\n",
       "[0 0 0 0 0]"
      ]
     },
     "metadata": {},
     "output_type": "display_data"
    },
    {
     "data": {
      "text/html": [
       "<html><script type=\"math/tex; mode=display\">\\newcommand{\\Bold}[1]{\\mathbf{#1}}\\left[\\left\\{d_{1} : r_{1336}, d_{2} : 0, d_{3} : 0, d_{4} : 0, d_{5} : r_{1337}, a_{12} : r_{1338}, a_{13} : r_{1339}, a_{14} : r_{1340}, a_{15} : r_{1341}, a_{23} : r_{1342}, a_{24} : r_{1343}, a_{25} : r_{1344}, a_{34} : r_{1345}, a_{35} : r_{1346}, a_{45} : -\\frac{r_{1337} x_{35}}{x_{34}}\\right\\}, \\left\\{d_{1} : r_{1347}, d_{2} : r_{1348}, d_{3} : \\frac{r_{1348}}{x_{23}}, d_{4} : \\frac{r_{1348}}{x_{23} x_{34}}, d_{5} : r_{1349}, a_{12} : 0, a_{13} : \\frac{r_{1348} x_{14}}{x_{23} x_{34}}, a_{14} : r_{1350}, a_{15} : r_{1351}, a_{23} : r_{1352}, a_{24} : r_{1353}, a_{25} : r_{1354}, a_{34} : \\frac{r_{1352} x_{23} x_{34} - r_{1348} x_{24}}{x_{23}^{2} x_{34}}, a_{35} : \\frac{r_{1349} x_{24} x_{35}}{x_{23} x_{34}}, a_{45} : -\\frac{r_{1349} x_{35}}{x_{34}}\\right\\}\\right]</script></html>"
      ],
      "text/latex": [
       "$$\\newcommand{\\Bold}[1]{\\mathbf{#1}}\\left[\\left\\{d_{1} : r_{1336}, d_{2} : 0, d_{3} : 0, d_{4} : 0, d_{5} : r_{1337}, a_{12} : r_{1338}, a_{13} : r_{1339}, a_{14} : r_{1340}, a_{15} : r_{1341}, a_{23} : r_{1342}, a_{24} : r_{1343}, a_{25} : r_{1344}, a_{34} : r_{1345}, a_{35} : r_{1346}, a_{45} : -\\frac{r_{1337} x_{35}}{x_{34}}\\right\\}, \\left\\{d_{1} : r_{1347}, d_{2} : r_{1348}, d_{3} : \\frac{r_{1348}}{x_{23}}, d_{4} : \\frac{r_{1348}}{x_{23} x_{34}}, d_{5} : r_{1349}, a_{12} : 0, a_{13} : \\frac{r_{1348} x_{14}}{x_{23} x_{34}}, a_{14} : r_{1350}, a_{15} : r_{1351}, a_{23} : r_{1352}, a_{24} : r_{1353}, a_{25} : r_{1354}, a_{34} : \\frac{r_{1352} x_{23} x_{34} - r_{1348} x_{24}}{x_{23}^{2} x_{34}}, a_{35} : \\frac{r_{1349} x_{24} x_{35}}{x_{23} x_{34}}, a_{45} : -\\frac{r_{1349} x_{35}}{x_{34}}\\right\\}\\right]$$"
      ],
      "text/plain": [
       "[{d1: r1336,\n",
       "  d2: 0,\n",
       "  d3: 0,\n",
       "  d4: 0,\n",
       "  d5: r1337,\n",
       "  a12: r1338,\n",
       "  a13: r1339,\n",
       "  a14: r1340,\n",
       "  a15: r1341,\n",
       "  a23: r1342,\n",
       "  a24: r1343,\n",
       "  a25: r1344,\n",
       "  a34: r1345,\n",
       "  a35: r1346,\n",
       "  a45: -r1337*x35/x34},\n",
       " {d1: r1347,\n",
       "  d2: r1348,\n",
       "  d3: r1348/x23,\n",
       "  d4: r1348/(x23*x34),\n",
       "  d5: r1349,\n",
       "  a12: 0,\n",
       "  a13: r1348*x14/(x23*x34),\n",
       "  a14: r1350,\n",
       "  a15: r1351,\n",
       "  a23: r1352,\n",
       "  a24: r1353,\n",
       "  a25: r1354,\n",
       "  a34: (r1352*x23*x34 - r1348*x24)/(x23^2*x34),\n",
       "  a35: r1349*x24*x35/(x23*x34),\n",
       "  a45: -r1349*x35/x34}]"
      ]
     },
     "metadata": {},
     "output_type": "display_data"
    },
    {
     "data": {
      "text/plain": [
       "\\left[\\left\\{d_{1} : r_{1336}, d_{2} : 0, d_{3} : 0, d_{4} : 0, d_{5} : r_{1337}, a_{12} : r_{1338}, a_{13} : r_{1339}, a_{14} : r_{1340}, a_{15} : r_{1341}, a_{23} : r_{1342}, a_{24} : r_{1343}, a_{25} : r_{1344}, a_{34} : r_{1345}, a_{35} : r_{1346}, a_{45} : -\\frac{r_{1337} x_{35}}{x_{34}}\\right\\}, \\left\\{d_{1} : r_{1347}, d_{2} : r_{1348}, d_{3} : \\frac{r_{1348}}{x_{23}}, d_{4} : \\frac{r_{1348}}{x_{23} x_{34}}, d_{5} : r_{1349}, a_{12} : 0, a_{13} : \\frac{r_{1348} x_{14}}{x_{23} x_{34}}, a_{14} : r_{1350}, a_{15} : r_{1351}, a_{23} : r_{1352}, a_{24} : r_{1353}, a_{25} : r_{1354}, a_{34} : \\frac{r_{1352} x_{23} x_{34} - r_{1348} x_{24}}{x_{23}^{2} x_{34}}, a_{35} : \\frac{r_{1349} x_{24} x_{35}}{x_{23} x_{34}}, a_{45} : -\\frac{r_{1349} x_{35}}{x_{34}}\\right\\}\\right]"
      ]
     },
     "execution_count": 74,
     "metadata": {},
     "output_type": "execute_result"
    }
   ],
   "source": [
    "#x6\n",
    "#----------------------\n",
    "#x15 = x14*x35/x34\n",
    "#----------------------\n",
    "reset()\n",
    "\n",
    "var('x12,x13,x14,x15,x23,x24,x25,x34,x35,x45')\n",
    "var('d1,d2,d3,d4,d5')\n",
    "var('a12,a13,a14,a15,a23,a24,a25,a34,a35,a45')\n",
    "\n",
    "#110011\n",
    "eq1=(d2*d3*0-a12*d3*x23)/(d1*d2) \n",
    "eq2=(a34*d2*d3*0+d2*d3*d4*x14-a12*a34*d3*x23-a12*d3*d4*x24+a12*a23*d4*x34-a13*d2*d4*x34)/(d1*d2*d3) \n",
    "eq3=(a35*d2*d3*0+a45*d2*d3*x14+d2*d3*d5*((x14*x35)/x34)-a12*a35*d3*x23-a12*a45*d3*x24-a12*d3*d5*0+a12*a23*a45*x34-a13*a45*d2*x34+a12*a23*d5*x35-a13*d2*d5*x35)/(d1*d2*d3) \n",
    "eq4=(d3*x23)/(d2) \n",
    "eq5=(a34*d3*x23+d3*d4*x24-a23*d4*x34)/(d2*d3) \n",
    "eq6=(a35*d3*x23+a45*d3*x24+d3*d5*0-a23*a45*x34-a23*d5*x35)/(d2*d3) \n",
    "eq7=(d4*x34)/(d3) \n",
    "eq8=(a45*x34+d5*x35)/(d3) \n",
    "\n",
    "\n",
    "m=matrix(QQ, [[0, 0, 0, 0, 0],\n",
    "              [0, 0, 1, 0, 0],\n",
    "              [0, 0, 0, 1, 0],\n",
    "              [0, 0, 0, 0, 0],\n",
    "              [0, 0, 0, 0, 0]])\n",
    "        \n",
    "#entry of matrix: (i,j) line i collum j, means (i-1,j-1)\n",
    "sol=solve([ eq1==m[0,2],\teq2==m[0,3],\teq3==m[0,4],\teq4==m[1,2],\t\n",
    "                                            eq5==m[1,3],    eq6==m[1,4],\n",
    "                                                            eq7==m[2,3], eq8==m[2,4]],d1,d2,d3,d4,d5,a12,a13,a14,a15,a23,a24,a25,a34,a35,a45, solution_dict=True)\n",
    "\n",
    "show(m)\n",
    "show(sol)\n",
    "latex(sol)"
   ]
  },
  {
   "cell_type": "code",
   "execution_count": 76,
   "metadata": {},
   "outputs": [
    {
     "data": {
      "text/html": [
       "<html><script type=\"math/tex; mode=display\">\\newcommand{\\Bold}[1]{\\mathbf{#1}}\\left(\\begin{array}{rrrrr}\n",
       "0 & 0 & 0 & 0 & 1 \\\\\n",
       "0 & 0 & 1 & 0 & 0 \\\\\n",
       "0 & 0 & 0 & 1 & 0 \\\\\n",
       "0 & 0 & 0 & 0 & 0 \\\\\n",
       "0 & 0 & 0 & 0 & 0\n",
       "\\end{array}\\right)</script></html>"
      ],
      "text/latex": [
       "$$\\newcommand{\\Bold}[1]{\\mathbf{#1}}\\left(\\begin{array}{rrrrr}\n",
       "0 & 0 & 0 & 0 & 1 \\\\\n",
       "0 & 0 & 1 & 0 & 0 \\\\\n",
       "0 & 0 & 0 & 1 & 0 \\\\\n",
       "0 & 0 & 0 & 0 & 0 \\\\\n",
       "0 & 0 & 0 & 0 & 0\n",
       "\\end{array}\\right)$$"
      ],
      "text/plain": [
       "[0 0 0 0 1]\n",
       "[0 0 1 0 0]\n",
       "[0 0 0 1 0]\n",
       "[0 0 0 0 0]\n",
       "[0 0 0 0 0]"
      ]
     },
     "metadata": {},
     "output_type": "display_data"
    },
    {
     "data": {
      "text/html": [
       "<html><script type=\"math/tex; mode=display\">\\newcommand{\\Bold}[1]{\\mathbf{#1}}\\left[\\left\\{d_{1} : r_{1373}, d_{2} : 0, d_{3} : 0, d_{4} : 0, d_{5} : r_{1374}, a_{12} : r_{1375}, a_{13} : r_{1376}, a_{14} : r_{1377}, a_{15} : r_{1378}, a_{23} : r_{1379}, a_{24} : r_{1380}, a_{25} : r_{1381}, a_{34} : r_{1382}, a_{35} : r_{1383}, a_{45} : -\\frac{r_{1374} x_{35}}{x_{34}}\\right\\}, \\left\\{d_{1} : r_{1384}, d_{2} : r_{1385}, d_{3} : \\frac{r_{1385}}{x_{23}}, d_{4} : \\frac{r_{1385}}{x_{23} x_{34}}, d_{5} : \\frac{r_{1384} x_{23} x_{34}}{x_{13} x_{24} x_{35}}, a_{12} : \\frac{r_{1385} x_{13}}{x_{23}}, a_{13} : r_{1386}, a_{14} : r_{1387}, a_{15} : r_{1388}, a_{23} : \\frac{r_{1386} x_{23}^{2} x_{34} + r_{1385} x_{13} x_{24}}{x_{13} x_{23} x_{34}}, a_{24} : r_{1389}, a_{25} : r_{1390}, a_{34} : \\frac{r_{1386}}{x_{13}}, a_{35} : \\frac{r_{1384}}{x_{13}}, a_{45} : -\\frac{r_{1384} x_{23}}{x_{13} x_{24}}\\right\\}\\right]</script></html>"
      ],
      "text/latex": [
       "$$\\newcommand{\\Bold}[1]{\\mathbf{#1}}\\left[\\left\\{d_{1} : r_{1373}, d_{2} : 0, d_{3} : 0, d_{4} : 0, d_{5} : r_{1374}, a_{12} : r_{1375}, a_{13} : r_{1376}, a_{14} : r_{1377}, a_{15} : r_{1378}, a_{23} : r_{1379}, a_{24} : r_{1380}, a_{25} : r_{1381}, a_{34} : r_{1382}, a_{35} : r_{1383}, a_{45} : -\\frac{r_{1374} x_{35}}{x_{34}}\\right\\}, \\left\\{d_{1} : r_{1384}, d_{2} : r_{1385}, d_{3} : \\frac{r_{1385}}{x_{23}}, d_{4} : \\frac{r_{1385}}{x_{23} x_{34}}, d_{5} : \\frac{r_{1384} x_{23} x_{34}}{x_{13} x_{24} x_{35}}, a_{12} : \\frac{r_{1385} x_{13}}{x_{23}}, a_{13} : r_{1386}, a_{14} : r_{1387}, a_{15} : r_{1388}, a_{23} : \\frac{r_{1386} x_{23}^{2} x_{34} + r_{1385} x_{13} x_{24}}{x_{13} x_{23} x_{34}}, a_{24} : r_{1389}, a_{25} : r_{1390}, a_{34} : \\frac{r_{1386}}{x_{13}}, a_{35} : \\frac{r_{1384}}{x_{13}}, a_{45} : -\\frac{r_{1384} x_{23}}{x_{13} x_{24}}\\right\\}\\right]$$"
      ],
      "text/plain": [
       "[{d1: r1373,\n",
       "  d2: 0,\n",
       "  d3: 0,\n",
       "  d4: 0,\n",
       "  d5: r1374,\n",
       "  a12: r1375,\n",
       "  a13: r1376,\n",
       "  a14: r1377,\n",
       "  a15: r1378,\n",
       "  a23: r1379,\n",
       "  a24: r1380,\n",
       "  a25: r1381,\n",
       "  a34: r1382,\n",
       "  a35: r1383,\n",
       "  a45: -r1374*x35/x34},\n",
       " {d1: r1384,\n",
       "  d2: r1385,\n",
       "  d3: r1385/x23,\n",
       "  d4: r1385/(x23*x34),\n",
       "  d5: r1384*x23*x34/(x13*x24*x35),\n",
       "  a12: r1385*x13/x23,\n",
       "  a13: r1386,\n",
       "  a14: r1387,\n",
       "  a15: r1388,\n",
       "  a23: (r1386*x23^2*x34 + r1385*x13*x24)/(x13*x23*x34),\n",
       "  a24: r1389,\n",
       "  a25: r1390,\n",
       "  a34: r1386/x13,\n",
       "  a35: r1384/x13,\n",
       "  a45: -r1384*x23/(x13*x24)}]"
      ]
     },
     "metadata": {},
     "output_type": "display_data"
    },
    {
     "data": {
      "text/plain": [
       "\\left[\\left\\{d_{1} : r_{1373}, d_{2} : 0, d_{3} : 0, d_{4} : 0, d_{5} : r_{1374}, a_{12} : r_{1375}, a_{13} : r_{1376}, a_{14} : r_{1377}, a_{15} : r_{1378}, a_{23} : r_{1379}, a_{24} : r_{1380}, a_{25} : r_{1381}, a_{34} : r_{1382}, a_{35} : r_{1383}, a_{45} : -\\frac{r_{1374} x_{35}}{x_{34}}\\right\\}, \\left\\{d_{1} : r_{1384}, d_{2} : r_{1385}, d_{3} : \\frac{r_{1385}}{x_{23}}, d_{4} : \\frac{r_{1385}}{x_{23} x_{34}}, d_{5} : \\frac{r_{1384} x_{23} x_{34}}{x_{13} x_{24} x_{35}}, a_{12} : \\frac{r_{1385} x_{13}}{x_{23}}, a_{13} : r_{1386}, a_{14} : r_{1387}, a_{15} : r_{1388}, a_{23} : \\frac{r_{1386} x_{23}^{2} x_{34} + r_{1385} x_{13} x_{24}}{x_{13} x_{23} x_{34}}, a_{24} : r_{1389}, a_{25} : r_{1390}, a_{34} : \\frac{r_{1386}}{x_{13}}, a_{35} : \\frac{r_{1384}}{x_{13}}, a_{45} : -\\frac{r_{1384} x_{23}}{x_{13} x_{24}}\\right\\}\\right]"
      ]
     },
     "execution_count": 76,
     "metadata": {},
     "output_type": "execute_result"
    }
   ],
   "source": [
    "#x6\n",
    "reset()\n",
    "\n",
    "var('x12,x13,x14,x15,x23,x24,x25,x34,x35,x45')\n",
    "var('d1,d2,d3,d4,d5')\n",
    "var('a12,a13,a14,a15,a23,a24,a25,a34,a35,a45')\n",
    "\n",
    "load_attach_path('C:\\\\Users\\\\julia\\\\Documents\\\\unb\\\\doutorado\\\\pensar\\\\codigo_sage_v2\\\\maquina\\\\x6')\n",
    "load('out_#110100.sage')\n",
    "\n",
    "m=matrix(QQ, [[0, 0, 0, 0, 1],\n",
    "              [0, 0, 1, 0, 0],\n",
    "              [0, 0, 0, 1, 0],\n",
    "              [0, 0, 0, 0, 0],\n",
    "              [0, 0, 0, 0, 0]])\n",
    "        \n",
    "#entry of matrix: (i,j) line i collum j, means (i-1,j-1)\n",
    "sol=solve([ eq1==m[0,2],\teq2==m[0,3],\teq3==m[0,4],\teq4==m[1,2],\t\n",
    "                                            eq5==m[1,3],    eq6==m[1,4],\n",
    "                                                            eq7==m[2,3], eq8==m[2,4]],d1,d2,d3,d4,d5,a12,a13,a14,a15,a23,a24,a25,a34,a35,a45, solution_dict=True)\n",
    "\n",
    "show(m)\n",
    "show(sol)\n",
    "latex(sol)"
   ]
  },
  {
   "cell_type": "code",
   "execution_count": 77,
   "metadata": {},
   "outputs": [
    {
     "data": {
      "text/html": [
       "<html><script type=\"math/tex; mode=display\">\\newcommand{\\Bold}[1]{\\mathbf{#1}}\\left(\\begin{array}{rrrrr}\n",
       "0 & 0 & 0 & 0 & 1 \\\\\n",
       "0 & 0 & 1 & 0 & 0 \\\\\n",
       "0 & 0 & 0 & 1 & 0 \\\\\n",
       "0 & 0 & 0 & 0 & 0 \\\\\n",
       "0 & 0 & 0 & 0 & 0\n",
       "\\end{array}\\right)</script></html>"
      ],
      "text/latex": [
       "$$\\newcommand{\\Bold}[1]{\\mathbf{#1}}\\left(\\begin{array}{rrrrr}\n",
       "0 & 0 & 0 & 0 & 1 \\\\\n",
       "0 & 0 & 1 & 0 & 0 \\\\\n",
       "0 & 0 & 0 & 1 & 0 \\\\\n",
       "0 & 0 & 0 & 0 & 0 \\\\\n",
       "0 & 0 & 0 & 0 & 0\n",
       "\\end{array}\\right)$$"
      ],
      "text/plain": [
       "[0 0 0 0 1]\n",
       "[0 0 1 0 0]\n",
       "[0 0 0 1 0]\n",
       "[0 0 0 0 0]\n",
       "[0 0 0 0 0]"
      ]
     },
     "metadata": {},
     "output_type": "display_data"
    },
    {
     "data": {
      "text/html": [
       "<html><script type=\"math/tex; mode=display\">\\newcommand{\\Bold}[1]{\\mathbf{#1}}\\left[\\left\\{d_{1} : r_{1391}, d_{2} : 0, d_{3} : 0, d_{4} : 0, d_{5} : r_{1392}, a_{12} : r_{1393}, a_{13} : r_{1394}, a_{14} : r_{1395}, a_{15} : r_{1396}, a_{23} : r_{1397}, a_{24} : r_{1398}, a_{25} : r_{1399}, a_{34} : r_{1400}, a_{35} : r_{1401}, a_{45} : -\\frac{r_{1392} x_{35}}{x_{34}}\\right\\}, \\left\\{d_{1} : r_{1402}, d_{2} : r_{1403}, d_{3} : \\frac{r_{1403}}{x_{23}}, d_{4} : \\frac{r_{1403}}{x_{23} x_{34}}, d_{5} : \\frac{r_{1402} x_{23} x_{34}}{x_{15} x_{23} x_{34} + x_{13} x_{24} x_{35}}, a_{12} : \\frac{r_{1403} x_{13}}{x_{23}}, a_{13} : r_{1404}, a_{14} : r_{1405}, a_{15} : r_{1406}, a_{23} : \\frac{r_{1404} x_{23}^{2} x_{34} + r_{1403} x_{13} x_{24}}{x_{13} x_{23} x_{34}}, a_{24} : r_{1407}, a_{25} : r_{1408}, a_{34} : \\frac{r_{1404}}{x_{13}}, a_{35} : \\frac{r_{1402} x_{24} x_{35}}{x_{15} x_{23} x_{34} + x_{13} x_{24} x_{35}}, a_{45} : -\\frac{r_{1402} x_{23} x_{35}}{x_{15} x_{23} x_{34} + x_{13} x_{24} x_{35}}\\right\\}\\right]</script></html>"
      ],
      "text/latex": [
       "$$\\newcommand{\\Bold}[1]{\\mathbf{#1}}\\left[\\left\\{d_{1} : r_{1391}, d_{2} : 0, d_{3} : 0, d_{4} : 0, d_{5} : r_{1392}, a_{12} : r_{1393}, a_{13} : r_{1394}, a_{14} : r_{1395}, a_{15} : r_{1396}, a_{23} : r_{1397}, a_{24} : r_{1398}, a_{25} : r_{1399}, a_{34} : r_{1400}, a_{35} : r_{1401}, a_{45} : -\\frac{r_{1392} x_{35}}{x_{34}}\\right\\}, \\left\\{d_{1} : r_{1402}, d_{2} : r_{1403}, d_{3} : \\frac{r_{1403}}{x_{23}}, d_{4} : \\frac{r_{1403}}{x_{23} x_{34}}, d_{5} : \\frac{r_{1402} x_{23} x_{34}}{x_{15} x_{23} x_{34} + x_{13} x_{24} x_{35}}, a_{12} : \\frac{r_{1403} x_{13}}{x_{23}}, a_{13} : r_{1404}, a_{14} : r_{1405}, a_{15} : r_{1406}, a_{23} : \\frac{r_{1404} x_{23}^{2} x_{34} + r_{1403} x_{13} x_{24}}{x_{13} x_{23} x_{34}}, a_{24} : r_{1407}, a_{25} : r_{1408}, a_{34} : \\frac{r_{1404}}{x_{13}}, a_{35} : \\frac{r_{1402} x_{24} x_{35}}{x_{15} x_{23} x_{34} + x_{13} x_{24} x_{35}}, a_{45} : -\\frac{r_{1402} x_{23} x_{35}}{x_{15} x_{23} x_{34} + x_{13} x_{24} x_{35}}\\right\\}\\right]$$"
      ],
      "text/plain": [
       "[{d1: r1391,\n",
       "  d2: 0,\n",
       "  d3: 0,\n",
       "  d4: 0,\n",
       "  d5: r1392,\n",
       "  a12: r1393,\n",
       "  a13: r1394,\n",
       "  a14: r1395,\n",
       "  a15: r1396,\n",
       "  a23: r1397,\n",
       "  a24: r1398,\n",
       "  a25: r1399,\n",
       "  a34: r1400,\n",
       "  a35: r1401,\n",
       "  a45: -r1392*x35/x34},\n",
       " {d1: r1402,\n",
       "  d2: r1403,\n",
       "  d3: r1403/x23,\n",
       "  d4: r1403/(x23*x34),\n",
       "  d5: r1402*x23*x34/(x15*x23*x34 + x13*x24*x35),\n",
       "  a12: r1403*x13/x23,\n",
       "  a13: r1404,\n",
       "  a14: r1405,\n",
       "  a15: r1406,\n",
       "  a23: (r1404*x23^2*x34 + r1403*x13*x24)/(x13*x23*x34),\n",
       "  a24: r1407,\n",
       "  a25: r1408,\n",
       "  a34: r1404/x13,\n",
       "  a35: r1402*x24*x35/(x15*x23*x34 + x13*x24*x35),\n",
       "  a45: -r1402*x23*x35/(x15*x23*x34 + x13*x24*x35)}]"
      ]
     },
     "metadata": {},
     "output_type": "display_data"
    },
    {
     "data": {
      "text/plain": [
       "\\left[\\left\\{d_{1} : r_{1391}, d_{2} : 0, d_{3} : 0, d_{4} : 0, d_{5} : r_{1392}, a_{12} : r_{1393}, a_{13} : r_{1394}, a_{14} : r_{1395}, a_{15} : r_{1396}, a_{23} : r_{1397}, a_{24} : r_{1398}, a_{25} : r_{1399}, a_{34} : r_{1400}, a_{35} : r_{1401}, a_{45} : -\\frac{r_{1392} x_{35}}{x_{34}}\\right\\}, \\left\\{d_{1} : r_{1402}, d_{2} : r_{1403}, d_{3} : \\frac{r_{1403}}{x_{23}}, d_{4} : \\frac{r_{1403}}{x_{23} x_{34}}, d_{5} : \\frac{r_{1402} x_{23} x_{34}}{x_{15} x_{23} x_{34} + x_{13} x_{24} x_{35}}, a_{12} : \\frac{r_{1403} x_{13}}{x_{23}}, a_{13} : r_{1404}, a_{14} : r_{1405}, a_{15} : r_{1406}, a_{23} : \\frac{r_{1404} x_{23}^{2} x_{34} + r_{1403} x_{13} x_{24}}{x_{13} x_{23} x_{34}}, a_{24} : r_{1407}, a_{25} : r_{1408}, a_{34} : \\frac{r_{1404}}{x_{13}}, a_{35} : \\frac{r_{1402} x_{24} x_{35}}{x_{15} x_{23} x_{34} + x_{13} x_{24} x_{35}}, a_{45} : -\\frac{r_{1402} x_{23} x_{35}}{x_{15} x_{23} x_{34} + x_{13} x_{24} x_{35}}\\right\\}\\right]"
      ]
     },
     "execution_count": 77,
     "metadata": {},
     "output_type": "execute_result"
    }
   ],
   "source": [
    "#x6\n",
    "#----------------------\n",
    "#x35 \\dif -x15x23*x34/x13x23\n",
    "#----------------------\n",
    "reset()\n",
    "\n",
    "var('x12,x13,x14,x15,x23,x24,x25,x34,x35,x45')\n",
    "var('d1,d2,d3,d4,d5')\n",
    "var('a12,a13,a14,a15,a23,a24,a25,a34,a35,a45')\n",
    "\n",
    "load_attach_path('C:\\\\Users\\\\julia\\\\Documents\\\\unb\\\\doutorado\\\\pensar\\\\codigo_sage_v2\\\\maquina\\\\x6')\n",
    "\n",
    "load('out_#110101.sage')\n",
    "m=matrix(QQ, [[0, 0, 0, 0, 1],\n",
    "              [0, 0, 1, 0, 0],\n",
    "              [0, 0, 0, 1, 0],\n",
    "              [0, 0, 0, 0, 0],\n",
    "              [0, 0, 0, 0, 0]])\n",
    "        \n",
    "#entry of matrix: (i,j) line i collum j, means (i-1,j-1)\n",
    "sol=solve([ eq1==m[0,2],\teq2==m[0,3],\teq3==m[0,4],\teq4==m[1,2],\t\n",
    "                                            eq5==m[1,3],    eq6==m[1,4],\n",
    "                                                            eq7==m[2,3], eq8==m[2,4]],d1,d2,d3,d4,d5,a12,a13,a14,a15,a23,a24,a25,a34,a35,a45, solution_dict=True)\n",
    "\n",
    "show(m)\n",
    "show(sol)\n",
    "latex(sol)"
   ]
  },
  {
   "cell_type": "code",
   "execution_count": 65,
   "metadata": {},
   "outputs": [
    {
     "data": {
      "text/html": [
       "<html><script type=\"math/tex; mode=display\">\\newcommand{\\Bold}[1]{\\mathbf{#1}}\\left(\\begin{array}{rrrrr}\n",
       "0 & 0 & 0 & 0 & 0 \\\\\n",
       "0 & 0 & 1 & 0 & 0 \\\\\n",
       "0 & 0 & 0 & 1 & 0 \\\\\n",
       "0 & 0 & 0 & 0 & 0 \\\\\n",
       "0 & 0 & 0 & 0 & 0\n",
       "\\end{array}\\right)</script></html>"
      ],
      "text/latex": [
       "$$\\newcommand{\\Bold}[1]{\\mathbf{#1}}\\left(\\begin{array}{rrrrr}\n",
       "0 & 0 & 0 & 0 & 0 \\\\\n",
       "0 & 0 & 1 & 0 & 0 \\\\\n",
       "0 & 0 & 0 & 1 & 0 \\\\\n",
       "0 & 0 & 0 & 0 & 0 \\\\\n",
       "0 & 0 & 0 & 0 & 0\n",
       "\\end{array}\\right)$$"
      ],
      "text/plain": [
       "[0 0 0 0 0]\n",
       "[0 0 1 0 0]\n",
       "[0 0 0 1 0]\n",
       "[0 0 0 0 0]\n",
       "[0 0 0 0 0]"
      ]
     },
     "metadata": {},
     "output_type": "display_data"
    },
    {
     "data": {
      "text/html": [
       "<html><script type=\"math/tex; mode=display\">\\newcommand{\\Bold}[1]{\\mathbf{#1}}\\left[\\left\\{d_{1} : r_{1329}, d_{2} : 0, d_{3} : 0, d_{4} : 0, d_{5} : r_{1330}, a_{12} : r_{1331}, a_{13} : r_{1332}, a_{14} : r_{1333}, a_{15} : r_{1334}, a_{23} : r_{1335}, a_{24} : r_{1336}, a_{25} : r_{1337}, a_{34} : r_{1338}, a_{35} : r_{1339}, a_{45} : \\frac{r_{1330} x_{15} x_{23}}{x_{13} x_{24}}\\right\\}, \\left\\{d_{1} : r_{1340}, d_{2} : r_{1341}, d_{3} : \\frac{r_{1341}}{x_{23}}, d_{4} : \\frac{r_{1341}}{x_{23} x_{34}}, d_{5} : r_{1342}, a_{12} : \\frac{r_{1341} x_{13}}{x_{23}}, a_{13} : r_{1343}, a_{14} : r_{1344}, a_{15} : r_{1345}, a_{23} : \\frac{r_{1343} x_{23}^{2} x_{34} + r_{1341} x_{13} x_{24}}{x_{13} x_{23} x_{34}}, a_{24} : r_{1346}, a_{25} : r_{1347}, a_{34} : \\frac{r_{1343}}{x_{13}}, a_{35} : -\\frac{r_{1342} x_{15}}{x_{13}}, a_{45} : \\frac{r_{1342} x_{15} x_{23}}{x_{13} x_{24}}\\right\\}\\right]</script></html>"
      ],
      "text/latex": [
       "$$\\newcommand{\\Bold}[1]{\\mathbf{#1}}\\left[\\left\\{d_{1} : r_{1329}, d_{2} : 0, d_{3} : 0, d_{4} : 0, d_{5} : r_{1330}, a_{12} : r_{1331}, a_{13} : r_{1332}, a_{14} : r_{1333}, a_{15} : r_{1334}, a_{23} : r_{1335}, a_{24} : r_{1336}, a_{25} : r_{1337}, a_{34} : r_{1338}, a_{35} : r_{1339}, a_{45} : \\frac{r_{1330} x_{15} x_{23}}{x_{13} x_{24}}\\right\\}, \\left\\{d_{1} : r_{1340}, d_{2} : r_{1341}, d_{3} : \\frac{r_{1341}}{x_{23}}, d_{4} : \\frac{r_{1341}}{x_{23} x_{34}}, d_{5} : r_{1342}, a_{12} : \\frac{r_{1341} x_{13}}{x_{23}}, a_{13} : r_{1343}, a_{14} : r_{1344}, a_{15} : r_{1345}, a_{23} : \\frac{r_{1343} x_{23}^{2} x_{34} + r_{1341} x_{13} x_{24}}{x_{13} x_{23} x_{34}}, a_{24} : r_{1346}, a_{25} : r_{1347}, a_{34} : \\frac{r_{1343}}{x_{13}}, a_{35} : -\\frac{r_{1342} x_{15}}{x_{13}}, a_{45} : \\frac{r_{1342} x_{15} x_{23}}{x_{13} x_{24}}\\right\\}\\right]$$"
      ],
      "text/plain": [
       "[{d1: r1329,\n",
       "  d2: 0,\n",
       "  d3: 0,\n",
       "  d4: 0,\n",
       "  d5: r1330,\n",
       "  a12: r1331,\n",
       "  a13: r1332,\n",
       "  a14: r1333,\n",
       "  a15: r1334,\n",
       "  a23: r1335,\n",
       "  a24: r1336,\n",
       "  a25: r1337,\n",
       "  a34: r1338,\n",
       "  a35: r1339,\n",
       "  a45: r1330*x15*x23/(x13*x24)},\n",
       " {d1: r1340,\n",
       "  d2: r1341,\n",
       "  d3: r1341/x23,\n",
       "  d4: r1341/(x23*x34),\n",
       "  d5: r1342,\n",
       "  a12: r1341*x13/x23,\n",
       "  a13: r1343,\n",
       "  a14: r1344,\n",
       "  a15: r1345,\n",
       "  a23: (r1343*x23^2*x34 + r1341*x13*x24)/(x13*x23*x34),\n",
       "  a24: r1346,\n",
       "  a25: r1347,\n",
       "  a34: r1343/x13,\n",
       "  a35: -r1342*x15/x13,\n",
       "  a45: r1342*x15*x23/(x13*x24)}]"
      ]
     },
     "metadata": {},
     "output_type": "display_data"
    },
    {
     "data": {
      "text/plain": [
       "\\left[\\left\\{d_{1} : r_{1329}, d_{2} : 0, d_{3} : 0, d_{4} : 0, d_{5} : r_{1330}, a_{12} : r_{1331}, a_{13} : r_{1332}, a_{14} : r_{1333}, a_{15} : r_{1334}, a_{23} : r_{1335}, a_{24} : r_{1336}, a_{25} : r_{1337}, a_{34} : r_{1338}, a_{35} : r_{1339}, a_{45} : \\frac{r_{1330} x_{15} x_{23}}{x_{13} x_{24}}\\right\\}, \\left\\{d_{1} : r_{1340}, d_{2} : r_{1341}, d_{3} : \\frac{r_{1341}}{x_{23}}, d_{4} : \\frac{r_{1341}}{x_{23} x_{34}}, d_{5} : r_{1342}, a_{12} : \\frac{r_{1341} x_{13}}{x_{23}}, a_{13} : r_{1343}, a_{14} : r_{1344}, a_{15} : r_{1345}, a_{23} : \\frac{r_{1343} x_{23}^{2} x_{34} + r_{1341} x_{13} x_{24}}{x_{13} x_{23} x_{34}}, a_{24} : r_{1346}, a_{25} : r_{1347}, a_{34} : \\frac{r_{1343}}{x_{13}}, a_{35} : -\\frac{r_{1342} x_{15}}{x_{13}}, a_{45} : \\frac{r_{1342} x_{15} x_{23}}{x_{13} x_{24}}\\right\\}\\right]"
      ]
     },
     "execution_count": 65,
     "metadata": {},
     "output_type": "execute_result"
    }
   ],
   "source": [
    "#x6\n",
    "#----------------------\n",
    "#x35 = -x15x23*x34/x13x23\n",
    "#----------------------\n",
    "reset()\n",
    "\n",
    "var('x12,x13,x14,x15,x23,x24,x25,x34,x35,x45')\n",
    "var('d1,d2,d3,d4,d5')\n",
    "var('a12,a13,a14,a15,a23,a24,a25,a34,a35,a45')\n",
    "#110101\n",
    "eq1=(d2*d3*x13-a12*d3*x23)/(d1*d2) \n",
    "eq2=(a34*d2*d3*x13+d2*d3*d4*0-a12*a34*d3*x23-a12*d3*d4*x24+a12*a23*d4*x34-a13*d2*d4*x34)/(d1*d2*d3) \n",
    "eq3=(a35*d2*d3*x13+a45*d2*d3*0+d2*d3*d5*x15-a12*a35*d3*x23-a12*a45*d3*x24-a12*d3*d5*0+a12*a23*a45*x34-a13*a45*d2*x34+a12*a23*d5*((-x15*x23*x34)/(x13*x24))-a13*d2*d5*((-x15*x23*x34)/(x13*x24)))/(d1*d2*d3) \n",
    "eq4=(d3*x23)/(d2) \n",
    "eq5=(a34*d3*x23+d3*d4*x24-a23*d4*x34)/(d2*d3) \n",
    "eq6=(a35*d3*x23+a45*d3*x24+d3*d5*0-a23*a45*x34-a23*d5*((-x15*x23*x34)/(x13*x24)))/(d2*d3) \n",
    "eq7=(d4*x34)/(d3) \n",
    "eq8=(a45*x34+d5*((-x15*x23*x34)/(x13*x24)))/(d3) \n",
    "\n",
    "m=matrix(QQ, [[0, 0, 0, 0, 0],\n",
    "              [0, 0, 1, 0, 0],\n",
    "              [0, 0, 0, 1, 0],\n",
    "              [0, 0, 0, 0, 0],\n",
    "              [0, 0, 0, 0, 0]])\n",
    "        \n",
    "#entry of matrix: (i,j) line i collum j, means (i-1,j-1)\n",
    "sol=solve([ eq1==m[0,2],\teq2==m[0,3],\teq3==m[0,4],\teq4==m[1,2],\t\n",
    "                                            eq5==m[1,3],    eq6==m[1,4],\n",
    "                                                            eq7==m[2,3], eq8==m[2,4]],d1,d2,d3,d4,d5,a12,a13,a14,a15,a23,a24,a25,a34,a35,a45, solution_dict=True)\n",
    "\n",
    "show(m)\n",
    "show(sol)\n",
    "latex(sol)"
   ]
  },
  {
   "cell_type": "code",
   "execution_count": 79,
   "metadata": {
    "scrolled": true
   },
   "outputs": [
    {
     "data": {
      "text/html": [
       "<html><script type=\"math/tex; mode=display\">\\newcommand{\\Bold}[1]{\\mathbf{#1}}\\left(\\begin{array}{rrrrr}\n",
       "0 & 0 & 0 & 0 & 1 \\\\\n",
       "0 & 0 & 1 & 0 & 0 \\\\\n",
       "0 & 0 & 0 & 1 & 0 \\\\\n",
       "0 & 0 & 0 & 0 & 0 \\\\\n",
       "0 & 0 & 0 & 0 & 0\n",
       "\\end{array}\\right)</script></html>"
      ],
      "text/latex": [
       "$$\\newcommand{\\Bold}[1]{\\mathbf{#1}}\\left(\\begin{array}{rrrrr}\n",
       "0 & 0 & 0 & 0 & 1 \\\\\n",
       "0 & 0 & 1 & 0 & 0 \\\\\n",
       "0 & 0 & 0 & 1 & 0 \\\\\n",
       "0 & 0 & 0 & 0 & 0 \\\\\n",
       "0 & 0 & 0 & 0 & 0\n",
       "\\end{array}\\right)$$"
      ],
      "text/plain": [
       "[0 0 0 0 1]\n",
       "[0 0 1 0 0]\n",
       "[0 0 0 1 0]\n",
       "[0 0 0 0 0]\n",
       "[0 0 0 0 0]"
      ]
     },
     "metadata": {},
     "output_type": "display_data"
    },
    {
     "data": {
      "text/html": [
       "<html><script type=\"math/tex; mode=display\">\\newcommand{\\Bold}[1]{\\mathbf{#1}}\\left[\\left\\{d_{1} : r_{1427}, d_{2} : 0, d_{3} : 0, d_{4} : 0, d_{5} : r_{1428}, a_{12} : r_{1429}, a_{13} : r_{1430}, a_{14} : r_{1431}, a_{15} : r_{1432}, a_{23} : r_{1433}, a_{24} : r_{1434}, a_{25} : r_{1435}, a_{34} : r_{1436}, a_{35} : r_{1437}, a_{45} : -\\frac{r_{1428} x_{35}}{x_{34}}\\right\\}, \\left\\{d_{1} : r_{1438}, d_{2} : r_{1439}, d_{3} : \\frac{r_{1439}}{x_{23}}, d_{4} : \\frac{r_{1439}}{x_{23} x_{34}}, d_{5} : -\\frac{r_{1438} x_{23} x_{34}}{{\\left(x_{14} x_{23} - x_{13} x_{24}\\right)} x_{35}}, a_{12} : \\frac{r_{1439} x_{13}}{x_{23}}, a_{13} : r_{1440}, a_{14} : r_{1441}, a_{15} : r_{1442}, a_{23} : \\frac{r_{1440} x_{23}^{2} x_{34} - r_{1439} x_{14} x_{23} + r_{1439} x_{13} x_{24}}{x_{13} x_{23} x_{34}}, a_{24} : r_{1443}, a_{25} : r_{1444}, a_{34} : \\frac{r_{1440} x_{23} x_{34} - r_{1439} x_{14}}{x_{13} x_{23} x_{34}}, a_{35} : -\\frac{r_{1438} x_{24}}{x_{14} x_{23} - x_{13} x_{24}}, a_{45} : \\frac{r_{1438} x_{23}}{x_{14} x_{23} - x_{13} x_{24}}\\right\\}\\right]</script></html>"
      ],
      "text/latex": [
       "$$\\newcommand{\\Bold}[1]{\\mathbf{#1}}\\left[\\left\\{d_{1} : r_{1427}, d_{2} : 0, d_{3} : 0, d_{4} : 0, d_{5} : r_{1428}, a_{12} : r_{1429}, a_{13} : r_{1430}, a_{14} : r_{1431}, a_{15} : r_{1432}, a_{23} : r_{1433}, a_{24} : r_{1434}, a_{25} : r_{1435}, a_{34} : r_{1436}, a_{35} : r_{1437}, a_{45} : -\\frac{r_{1428} x_{35}}{x_{34}}\\right\\}, \\left\\{d_{1} : r_{1438}, d_{2} : r_{1439}, d_{3} : \\frac{r_{1439}}{x_{23}}, d_{4} : \\frac{r_{1439}}{x_{23} x_{34}}, d_{5} : -\\frac{r_{1438} x_{23} x_{34}}{{\\left(x_{14} x_{23} - x_{13} x_{24}\\right)} x_{35}}, a_{12} : \\frac{r_{1439} x_{13}}{x_{23}}, a_{13} : r_{1440}, a_{14} : r_{1441}, a_{15} : r_{1442}, a_{23} : \\frac{r_{1440} x_{23}^{2} x_{34} - r_{1439} x_{14} x_{23} + r_{1439} x_{13} x_{24}}{x_{13} x_{23} x_{34}}, a_{24} : r_{1443}, a_{25} : r_{1444}, a_{34} : \\frac{r_{1440} x_{23} x_{34} - r_{1439} x_{14}}{x_{13} x_{23} x_{34}}, a_{35} : -\\frac{r_{1438} x_{24}}{x_{14} x_{23} - x_{13} x_{24}}, a_{45} : \\frac{r_{1438} x_{23}}{x_{14} x_{23} - x_{13} x_{24}}\\right\\}\\right]$$"
      ],
      "text/plain": [
       "[{d1: r1427,\n",
       "  d2: 0,\n",
       "  d3: 0,\n",
       "  d4: 0,\n",
       "  d5: r1428,\n",
       "  a12: r1429,\n",
       "  a13: r1430,\n",
       "  a14: r1431,\n",
       "  a15: r1432,\n",
       "  a23: r1433,\n",
       "  a24: r1434,\n",
       "  a25: r1435,\n",
       "  a34: r1436,\n",
       "  a35: r1437,\n",
       "  a45: -r1428*x35/x34},\n",
       " {d1: r1438,\n",
       "  d2: r1439,\n",
       "  d3: r1439/x23,\n",
       "  d4: r1439/(x23*x34),\n",
       "  d5: -r1438*x23*x34/((x14*x23 - x13*x24)*x35),\n",
       "  a12: r1439*x13/x23,\n",
       "  a13: r1440,\n",
       "  a14: r1441,\n",
       "  a15: r1442,\n",
       "  a23: (r1440*x23^2*x34 - r1439*x14*x23 + r1439*x13*x24)/(x13*x23*x34),\n",
       "  a24: r1443,\n",
       "  a25: r1444,\n",
       "  a34: (r1440*x23*x34 - r1439*x14)/(x13*x23*x34),\n",
       "  a35: -r1438*x24/(x14*x23 - x13*x24),\n",
       "  a45: r1438*x23/(x14*x23 - x13*x24)}]"
      ]
     },
     "metadata": {},
     "output_type": "display_data"
    },
    {
     "data": {
      "text/plain": [
       "\\left[\\left\\{d_{1} : r_{1427}, d_{2} : 0, d_{3} : 0, d_{4} : 0, d_{5} : r_{1428}, a_{12} : r_{1429}, a_{13} : r_{1430}, a_{14} : r_{1431}, a_{15} : r_{1432}, a_{23} : r_{1433}, a_{24} : r_{1434}, a_{25} : r_{1435}, a_{34} : r_{1436}, a_{35} : r_{1437}, a_{45} : -\\frac{r_{1428} x_{35}}{x_{34}}\\right\\}, \\left\\{d_{1} : r_{1438}, d_{2} : r_{1439}, d_{3} : \\frac{r_{1439}}{x_{23}}, d_{4} : \\frac{r_{1439}}{x_{23} x_{34}}, d_{5} : -\\frac{r_{1438} x_{23} x_{34}}{{\\left(x_{14} x_{23} - x_{13} x_{24}\\right)} x_{35}}, a_{12} : \\frac{r_{1439} x_{13}}{x_{23}}, a_{13} : r_{1440}, a_{14} : r_{1441}, a_{15} : r_{1442}, a_{23} : \\frac{r_{1440} x_{23}^{2} x_{34} - r_{1439} x_{14} x_{23} + r_{1439} x_{13} x_{24}}{x_{13} x_{23} x_{34}}, a_{24} : r_{1443}, a_{25} : r_{1444}, a_{34} : \\frac{r_{1440} x_{23} x_{34} - r_{1439} x_{14}}{x_{13} x_{23} x_{34}}, a_{35} : -\\frac{r_{1438} x_{24}}{x_{14} x_{23} - x_{13} x_{24}}, a_{45} : \\frac{r_{1438} x_{23}}{x_{14} x_{23} - x_{13} x_{24}}\\right\\}\\right]"
      ]
     },
     "execution_count": 79,
     "metadata": {},
     "output_type": "execute_result"
    }
   ],
   "source": [
    "#x6\n",
    "#----------------------\n",
    "#x14 \\dif x13*x24/x23\n",
    "#----------------------\n",
    "reset()\n",
    "\n",
    "var('x12,x13,x14,x15,x23,x24,x25,x34,x35,x45')\n",
    "var('d1,d2,d3,d4,d5')\n",
    "var('a12,a13,a14,a15,a23,a24,a25,a34,a35,a45')\n",
    "\n",
    "load_attach_path('C:\\\\Users\\\\julia\\\\Documents\\\\unb\\\\doutorado\\\\pensar\\\\codigo_sage_v2\\\\maquina\\\\x6')\n",
    "load('out_#110110.sage')\n",
    "\n",
    "m=matrix(QQ, [[0, 0, 0, 0, 1],\n",
    "              [0, 0, 1, 0, 0],\n",
    "              [0, 0, 0, 1, 0],\n",
    "              [0, 0, 0, 0, 0],\n",
    "              [0, 0, 0, 0, 0]])\n",
    "        \n",
    "#entry of matrix: (i,j) line i collum j, means (i-1,j-1)\n",
    "sol=solve([ eq1==m[0,2],\teq2==m[0,3],\teq3==m[0,4],\teq4==m[1,2],\t\n",
    "                                            eq5==m[1,3],    eq6==m[1,4],\n",
    "                                                            eq7==m[2,3], eq8==m[2,4]],d1,d2,d3,d4,d5,a12,a13,a14,a15,a23,a24,a25,a34,a35,a45, solution_dict=True)\n",
    "\n",
    "show(m)\n",
    "show(sol)\n",
    "latex(sol)"
   ]
  },
  {
   "cell_type": "code",
   "execution_count": 67,
   "metadata": {},
   "outputs": [
    {
     "data": {
      "text/html": [
       "<html><script type=\"math/tex; mode=display\">\\newcommand{\\Bold}[1]{\\mathbf{#1}}\\left(\\begin{array}{rrrrr}\n",
       "0 & 0 & 0 & 0 & 0 \\\\\n",
       "0 & 0 & 1 & 0 & 0 \\\\\n",
       "0 & 0 & 0 & 1 & 0 \\\\\n",
       "0 & 0 & 0 & 0 & 0 \\\\\n",
       "0 & 0 & 0 & 0 & 0\n",
       "\\end{array}\\right)</script></html>"
      ],
      "text/latex": [
       "$$\\newcommand{\\Bold}[1]{\\mathbf{#1}}\\left(\\begin{array}{rrrrr}\n",
       "0 & 0 & 0 & 0 & 0 \\\\\n",
       "0 & 0 & 1 & 0 & 0 \\\\\n",
       "0 & 0 & 0 & 1 & 0 \\\\\n",
       "0 & 0 & 0 & 0 & 0 \\\\\n",
       "0 & 0 & 0 & 0 & 0\n",
       "\\end{array}\\right)$$"
      ],
      "text/plain": [
       "[0 0 0 0 0]\n",
       "[0 0 1 0 0]\n",
       "[0 0 0 1 0]\n",
       "[0 0 0 0 0]\n",
       "[0 0 0 0 0]"
      ]
     },
     "metadata": {},
     "output_type": "display_data"
    },
    {
     "data": {
      "text/html": [
       "<html><script type=\"math/tex; mode=display\">\\newcommand{\\Bold}[1]{\\mathbf{#1}}\\left[\\left\\{d_{1} : r_{1377}, d_{2} : 0, d_{3} : 0, d_{4} : 0, d_{5} : r_{1378}, a_{12} : r_{1379}, a_{13} : r_{1380}, a_{14} : r_{1381}, a_{15} : r_{1382}, a_{23} : r_{1383}, a_{24} : r_{1384}, a_{25} : r_{1385}, a_{34} : r_{1386}, a_{35} : r_{1387}, a_{45} : -\\frac{r_{1378} x_{35}}{x_{34}}\\right\\}, \\left\\{d_{1} : r_{1388}, d_{2} : r_{1389}, d_{3} : \\frac{r_{1389}}{x_{23}}, d_{4} : \\frac{r_{1389}}{x_{23} x_{34}}, d_{5} : r_{1390}, a_{12} : \\frac{r_{1389} x_{13}}{x_{23}}, a_{13} : r_{1391}, a_{14} : r_{1392}, a_{15} : r_{1393}, a_{23} : \\frac{r_{1391} x_{23}}{x_{13}}, a_{24} : r_{1394}, a_{25} : r_{1395}, a_{34} : \\frac{r_{1391} x_{23}^{2} x_{34} - r_{1389} x_{13} x_{24}}{x_{13} x_{23}^{2} x_{34}}, a_{35} : \\frac{r_{1390} x_{24} x_{35}}{x_{23} x_{34}}, a_{45} : -\\frac{r_{1390} x_{35}}{x_{34}}\\right\\}\\right]</script></html>"
      ],
      "text/latex": [
       "$$\\newcommand{\\Bold}[1]{\\mathbf{#1}}\\left[\\left\\{d_{1} : r_{1377}, d_{2} : 0, d_{3} : 0, d_{4} : 0, d_{5} : r_{1378}, a_{12} : r_{1379}, a_{13} : r_{1380}, a_{14} : r_{1381}, a_{15} : r_{1382}, a_{23} : r_{1383}, a_{24} : r_{1384}, a_{25} : r_{1385}, a_{34} : r_{1386}, a_{35} : r_{1387}, a_{45} : -\\frac{r_{1378} x_{35}}{x_{34}}\\right\\}, \\left\\{d_{1} : r_{1388}, d_{2} : r_{1389}, d_{3} : \\frac{r_{1389}}{x_{23}}, d_{4} : \\frac{r_{1389}}{x_{23} x_{34}}, d_{5} : r_{1390}, a_{12} : \\frac{r_{1389} x_{13}}{x_{23}}, a_{13} : r_{1391}, a_{14} : r_{1392}, a_{15} : r_{1393}, a_{23} : \\frac{r_{1391} x_{23}}{x_{13}}, a_{24} : r_{1394}, a_{25} : r_{1395}, a_{34} : \\frac{r_{1391} x_{23}^{2} x_{34} - r_{1389} x_{13} x_{24}}{x_{13} x_{23}^{2} x_{34}}, a_{35} : \\frac{r_{1390} x_{24} x_{35}}{x_{23} x_{34}}, a_{45} : -\\frac{r_{1390} x_{35}}{x_{34}}\\right\\}\\right]$$"
      ],
      "text/plain": [
       "[{d1: r1377,\n",
       "  d2: 0,\n",
       "  d3: 0,\n",
       "  d4: 0,\n",
       "  d5: r1378,\n",
       "  a12: r1379,\n",
       "  a13: r1380,\n",
       "  a14: r1381,\n",
       "  a15: r1382,\n",
       "  a23: r1383,\n",
       "  a24: r1384,\n",
       "  a25: r1385,\n",
       "  a34: r1386,\n",
       "  a35: r1387,\n",
       "  a45: -r1378*x35/x34},\n",
       " {d1: r1388,\n",
       "  d2: r1389,\n",
       "  d3: r1389/x23,\n",
       "  d4: r1389/(x23*x34),\n",
       "  d5: r1390,\n",
       "  a12: r1389*x13/x23,\n",
       "  a13: r1391,\n",
       "  a14: r1392,\n",
       "  a15: r1393,\n",
       "  a23: r1391*x23/x13,\n",
       "  a24: r1394,\n",
       "  a25: r1395,\n",
       "  a34: (r1391*x23^2*x34 - r1389*x13*x24)/(x13*x23^2*x34),\n",
       "  a35: r1390*x24*x35/(x23*x34),\n",
       "  a45: -r1390*x35/x34}]"
      ]
     },
     "metadata": {},
     "output_type": "display_data"
    },
    {
     "data": {
      "text/plain": [
       "\\left[\\left\\{d_{1} : r_{1377}, d_{2} : 0, d_{3} : 0, d_{4} : 0, d_{5} : r_{1378}, a_{12} : r_{1379}, a_{13} : r_{1380}, a_{14} : r_{1381}, a_{15} : r_{1382}, a_{23} : r_{1383}, a_{24} : r_{1384}, a_{25} : r_{1385}, a_{34} : r_{1386}, a_{35} : r_{1387}, a_{45} : -\\frac{r_{1378} x_{35}}{x_{34}}\\right\\}, \\left\\{d_{1} : r_{1388}, d_{2} : r_{1389}, d_{3} : \\frac{r_{1389}}{x_{23}}, d_{4} : \\frac{r_{1389}}{x_{23} x_{34}}, d_{5} : r_{1390}, a_{12} : \\frac{r_{1389} x_{13}}{x_{23}}, a_{13} : r_{1391}, a_{14} : r_{1392}, a_{15} : r_{1393}, a_{23} : \\frac{r_{1391} x_{23}}{x_{13}}, a_{24} : r_{1394}, a_{25} : r_{1395}, a_{34} : \\frac{r_{1391} x_{23}^{2} x_{34} - r_{1389} x_{13} x_{24}}{x_{13} x_{23}^{2} x_{34}}, a_{35} : \\frac{r_{1390} x_{24} x_{35}}{x_{23} x_{34}}, a_{45} : -\\frac{r_{1390} x_{35}}{x_{34}}\\right\\}\\right]"
      ]
     },
     "execution_count": 67,
     "metadata": {},
     "output_type": "execute_result"
    }
   ],
   "source": [
    "#x6\n",
    "#----------------------\n",
    "#x14 = x13*x24/x23\n",
    "#----------------------\n",
    "reset()\n",
    "\n",
    "var('x12,x13,x14,x15,x23,x24,x25,x34,x35,x45')\n",
    "var('d1,d2,d3,d4,d5')\n",
    "var('a12,a13,a14,a15,a23,a24,a25,a34,a35,a45')\n",
    "\n",
    "#110110\n",
    "eq1=(d2*d3*x13-a12*d3*x23)/(d1*d2) \n",
    "eq2=(a34*d2*d3*x13+d2*d3*d4*((x13*x24)/x23)-a12*a34*d3*x23-a12*d3*d4*x24+a12*a23*d4*x34-a13*d2*d4*x34)/(d1*d2*d3) \n",
    "eq3=(a35*d2*d3*x13+a45*d2*d3*((x13*x24)/x23)+d2*d3*d5*0-a12*a35*d3*x23-a12*a45*d3*x24-a12*d3*d5*0+a12*a23*a45*x34-a13*a45*d2*x34+a12*a23*d5*x35-a13*d2*d5*x35)/(d1*d2*d3) \n",
    "eq4=(d3*x23)/(d2) \n",
    "eq5=(a34*d3*x23+d3*d4*x24-a23*d4*x34)/(d2*d3) \n",
    "eq6=(a35*d3*x23+a45*d3*x24+d3*d5*0-a23*a45*x34-a23*d5*x35)/(d2*d3) \n",
    "eq7=(d4*x34)/(d3) \n",
    "eq8=(a45*x34+d5*x35)/(d3) \n",
    "\n",
    "\n",
    "m=matrix(QQ, [[0, 0, 0, 0, 0],\n",
    "              [0, 0, 1, 0, 0],\n",
    "              [0, 0, 0, 1, 0],\n",
    "              [0, 0, 0, 0, 0],\n",
    "              [0, 0, 0, 0, 0]])\n",
    "        \n",
    "#entry of matrix: (i,j) line i collum j, means (i-1,j-1)\n",
    "sol=solve([ eq1==m[0,2],\teq2==m[0,3],\teq3==m[0,4],\teq4==m[1,2],\t\n",
    "                                            eq5==m[1,3],    eq6==m[1,4],\n",
    "                                                            eq7==m[2,3], eq8==m[2,4]],d1,d2,d3,d4,d5,a12,a13,a14,a15,a23,a24,a25,a34,a35,a45, solution_dict=True)\n",
    "\n",
    "show(m)\n",
    "show(sol)\n",
    "latex(sol)"
   ]
  },
  {
   "cell_type": "code",
   "execution_count": 80,
   "metadata": {},
   "outputs": [
    {
     "data": {
      "text/html": [
       "<html><script type=\"math/tex; mode=display\">\\newcommand{\\Bold}[1]{\\mathbf{#1}}\\left(\\begin{array}{rrrrr}\n",
       "0 & 0 & 0 & 0 & 1 \\\\\n",
       "0 & 0 & 1 & 0 & 0 \\\\\n",
       "0 & 0 & 0 & 1 & 0 \\\\\n",
       "0 & 0 & 0 & 0 & 0 \\\\\n",
       "0 & 0 & 0 & 0 & 0\n",
       "\\end{array}\\right)</script></html>"
      ],
      "text/latex": [
       "$$\\newcommand{\\Bold}[1]{\\mathbf{#1}}\\left(\\begin{array}{rrrrr}\n",
       "0 & 0 & 0 & 0 & 1 \\\\\n",
       "0 & 0 & 1 & 0 & 0 \\\\\n",
       "0 & 0 & 0 & 1 & 0 \\\\\n",
       "0 & 0 & 0 & 0 & 0 \\\\\n",
       "0 & 0 & 0 & 0 & 0\n",
       "\\end{array}\\right)$$"
      ],
      "text/plain": [
       "[0 0 0 0 1]\n",
       "[0 0 1 0 0]\n",
       "[0 0 0 1 0]\n",
       "[0 0 0 0 0]\n",
       "[0 0 0 0 0]"
      ]
     },
     "metadata": {},
     "output_type": "display_data"
    },
    {
     "data": {
      "text/html": [
       "<html><script type=\"math/tex; mode=display\">\\newcommand{\\Bold}[1]{\\mathbf{#1}}\\left[\\left\\{d_{1} : r_{1445}, d_{2} : 0, d_{3} : 0, d_{4} : 0, d_{5} : r_{1446}, a_{12} : r_{1447}, a_{13} : r_{1448}, a_{14} : r_{1449}, a_{15} : r_{1450}, a_{23} : r_{1451}, a_{24} : r_{1452}, a_{25} : r_{1453}, a_{34} : r_{1454}, a_{35} : r_{1455}, a_{45} : -\\frac{r_{1446} x_{35}}{x_{34}}\\right\\}, \\left\\{d_{1} : r_{1456}, d_{2} : r_{1457}, d_{3} : \\frac{r_{1457}}{x_{23}}, d_{4} : \\frac{r_{1457}}{x_{23} x_{34}}, d_{5} : \\frac{r_{1456} x_{23} x_{34}}{x_{15} x_{23} x_{34} - {\\left(x_{14} x_{23} - x_{13} x_{24}\\right)} x_{35}}, a_{12} : \\frac{r_{1457} x_{13}}{x_{23}}, a_{13} : r_{1458}, a_{14} : r_{1459}, a_{15} : r_{1460}, a_{23} : \\frac{r_{1458} x_{23}^{2} x_{34} - r_{1457} x_{14} x_{23} + r_{1457} x_{13} x_{24}}{x_{13} x_{23} x_{34}}, a_{24} : r_{1461}, a_{25} : r_{1462}, a_{34} : \\frac{r_{1458} x_{23} x_{34} - r_{1457} x_{14}}{x_{13} x_{23} x_{34}}, a_{35} : \\frac{r_{1456} x_{24} x_{35}}{x_{15} x_{23} x_{34} - {\\left(x_{14} x_{23} - x_{13} x_{24}\\right)} x_{35}}, a_{45} : -\\frac{r_{1456} x_{23} x_{35}}{x_{15} x_{23} x_{34} - {\\left(x_{14} x_{23} - x_{13} x_{24}\\right)} x_{35}}\\right\\}\\right]</script></html>"
      ],
      "text/latex": [
       "$$\\newcommand{\\Bold}[1]{\\mathbf{#1}}\\left[\\left\\{d_{1} : r_{1445}, d_{2} : 0, d_{3} : 0, d_{4} : 0, d_{5} : r_{1446}, a_{12} : r_{1447}, a_{13} : r_{1448}, a_{14} : r_{1449}, a_{15} : r_{1450}, a_{23} : r_{1451}, a_{24} : r_{1452}, a_{25} : r_{1453}, a_{34} : r_{1454}, a_{35} : r_{1455}, a_{45} : -\\frac{r_{1446} x_{35}}{x_{34}}\\right\\}, \\left\\{d_{1} : r_{1456}, d_{2} : r_{1457}, d_{3} : \\frac{r_{1457}}{x_{23}}, d_{4} : \\frac{r_{1457}}{x_{23} x_{34}}, d_{5} : \\frac{r_{1456} x_{23} x_{34}}{x_{15} x_{23} x_{34} - {\\left(x_{14} x_{23} - x_{13} x_{24}\\right)} x_{35}}, a_{12} : \\frac{r_{1457} x_{13}}{x_{23}}, a_{13} : r_{1458}, a_{14} : r_{1459}, a_{15} : r_{1460}, a_{23} : \\frac{r_{1458} x_{23}^{2} x_{34} - r_{1457} x_{14} x_{23} + r_{1457} x_{13} x_{24}}{x_{13} x_{23} x_{34}}, a_{24} : r_{1461}, a_{25} : r_{1462}, a_{34} : \\frac{r_{1458} x_{23} x_{34} - r_{1457} x_{14}}{x_{13} x_{23} x_{34}}, a_{35} : \\frac{r_{1456} x_{24} x_{35}}{x_{15} x_{23} x_{34} - {\\left(x_{14} x_{23} - x_{13} x_{24}\\right)} x_{35}}, a_{45} : -\\frac{r_{1456} x_{23} x_{35}}{x_{15} x_{23} x_{34} - {\\left(x_{14} x_{23} - x_{13} x_{24}\\right)} x_{35}}\\right\\}\\right]$$"
      ],
      "text/plain": [
       "[{d1: r1445,\n",
       "  d2: 0,\n",
       "  d3: 0,\n",
       "  d4: 0,\n",
       "  d5: r1446,\n",
       "  a12: r1447,\n",
       "  a13: r1448,\n",
       "  a14: r1449,\n",
       "  a15: r1450,\n",
       "  a23: r1451,\n",
       "  a24: r1452,\n",
       "  a25: r1453,\n",
       "  a34: r1454,\n",
       "  a35: r1455,\n",
       "  a45: -r1446*x35/x34},\n",
       " {d1: r1456,\n",
       "  d2: r1457,\n",
       "  d3: r1457/x23,\n",
       "  d4: r1457/(x23*x34),\n",
       "  d5: r1456*x23*x34/(x15*x23*x34 - (x14*x23 - x13*x24)*x35),\n",
       "  a12: r1457*x13/x23,\n",
       "  a13: r1458,\n",
       "  a14: r1459,\n",
       "  a15: r1460,\n",
       "  a23: (r1458*x23^2*x34 - r1457*x14*x23 + r1457*x13*x24)/(x13*x23*x34),\n",
       "  a24: r1461,\n",
       "  a25: r1462,\n",
       "  a34: (r1458*x23*x34 - r1457*x14)/(x13*x23*x34),\n",
       "  a35: r1456*x24*x35/(x15*x23*x34 - (x14*x23 - x13*x24)*x35),\n",
       "  a45: -r1456*x23*x35/(x15*x23*x34 - (x14*x23 - x13*x24)*x35)}]"
      ]
     },
     "metadata": {},
     "output_type": "display_data"
    },
    {
     "data": {
      "text/plain": [
       "\\left[\\left\\{d_{1} : r_{1445}, d_{2} : 0, d_{3} : 0, d_{4} : 0, d_{5} : r_{1446}, a_{12} : r_{1447}, a_{13} : r_{1448}, a_{14} : r_{1449}, a_{15} : r_{1450}, a_{23} : r_{1451}, a_{24} : r_{1452}, a_{25} : r_{1453}, a_{34} : r_{1454}, a_{35} : r_{1455}, a_{45} : -\\frac{r_{1446} x_{35}}{x_{34}}\\right\\}, \\left\\{d_{1} : r_{1456}, d_{2} : r_{1457}, d_{3} : \\frac{r_{1457}}{x_{23}}, d_{4} : \\frac{r_{1457}}{x_{23} x_{34}}, d_{5} : \\frac{r_{1456} x_{23} x_{34}}{x_{15} x_{23} x_{34} - {\\left(x_{14} x_{23} - x_{13} x_{24}\\right)} x_{35}}, a_{12} : \\frac{r_{1457} x_{13}}{x_{23}}, a_{13} : r_{1458}, a_{14} : r_{1459}, a_{15} : r_{1460}, a_{23} : \\frac{r_{1458} x_{23}^{2} x_{34} - r_{1457} x_{14} x_{23} + r_{1457} x_{13} x_{24}}{x_{13} x_{23} x_{34}}, a_{24} : r_{1461}, a_{25} : r_{1462}, a_{34} : \\frac{r_{1458} x_{23} x_{34} - r_{1457} x_{14}}{x_{13} x_{23} x_{34}}, a_{35} : \\frac{r_{1456} x_{24} x_{35}}{x_{15} x_{23} x_{34} - {\\left(x_{14} x_{23} - x_{13} x_{24}\\right)} x_{35}}, a_{45} : -\\frac{r_{1456} x_{23} x_{35}}{x_{15} x_{23} x_{34} - {\\left(x_{14} x_{23} - x_{13} x_{24}\\right)} x_{35}}\\right\\}\\right]"
      ]
     },
     "execution_count": 80,
     "metadata": {},
     "output_type": "execute_result"
    }
   ],
   "source": [
    "#x6\n",
    "#----------------------\n",
    "#x15\\dif((x14*x23-x13*x24)*x35)/(x23*x34)\n",
    "#----------------------\n",
    "reset()\n",
    "\n",
    "var('x12,x13,x14,x15,x23,x24,x25,x34,x35,x45')\n",
    "var('d1,d2,d3,d4,d5')\n",
    "var('a12,a13,a14,a15,a23,a24,a25,a34,a35,a45')\n",
    "\n",
    "load_attach_path('C:\\\\Users\\\\julia\\\\Documents\\\\unb\\\\doutorado\\\\pensar\\\\codigo_sage_v2\\\\maquina\\\\x6')\n",
    "load('out_#110111.sage')\n",
    "\n",
    "m=matrix(QQ, [[0, 0, 0, 0, 1],\n",
    "              [0, 0, 1, 0, 0],\n",
    "              [0, 0, 0, 1, 0],\n",
    "              [0, 0, 0, 0, 0],\n",
    "              [0, 0, 0, 0, 0]])\n",
    "        \n",
    "#entry of matrix: (i,j) line i collum j, means (i-1,j-1)\n",
    "sol=solve([ eq1==m[0,2],\teq2==m[0,3],\teq3==m[0,4],\teq4==m[1,2],\t\n",
    "                                            eq5==m[1,3],    eq6==m[1,4],\n",
    "                                                            eq7==m[2,3], eq8==m[2,4]],d1,d2,d3,d4,d5,a12,a13,a14,a15,a23,a24,a25,a34,a35,a45, solution_dict=True)\n",
    "\n",
    "show(m)\n",
    "show(sol)\n",
    "latex(sol)"
   ]
  },
  {
   "cell_type": "code",
   "execution_count": 81,
   "metadata": {},
   "outputs": [
    {
     "data": {
      "text/html": [
       "<html><script type=\"math/tex; mode=display\">\\newcommand{\\Bold}[1]{\\mathbf{#1}}\\left(\\begin{array}{rrrrr}\n",
       "0 & 0 & 0 & 0 & 0 \\\\\n",
       "0 & 0 & 1 & 0 & 0 \\\\\n",
       "0 & 0 & 0 & 1 & 0 \\\\\n",
       "0 & 0 & 0 & 0 & 0 \\\\\n",
       "0 & 0 & 0 & 0 & 0\n",
       "\\end{array}\\right)</script></html>"
      ],
      "text/latex": [
       "$$\\newcommand{\\Bold}[1]{\\mathbf{#1}}\\left(\\begin{array}{rrrrr}\n",
       "0 & 0 & 0 & 0 & 0 \\\\\n",
       "0 & 0 & 1 & 0 & 0 \\\\\n",
       "0 & 0 & 0 & 1 & 0 \\\\\n",
       "0 & 0 & 0 & 0 & 0 \\\\\n",
       "0 & 0 & 0 & 0 & 0\n",
       "\\end{array}\\right)$$"
      ],
      "text/plain": [
       "[0 0 0 0 0]\n",
       "[0 0 1 0 0]\n",
       "[0 0 0 1 0]\n",
       "[0 0 0 0 0]\n",
       "[0 0 0 0 0]"
      ]
     },
     "metadata": {},
     "output_type": "display_data"
    },
    {
     "data": {
      "text/html": [
       "<html><script type=\"math/tex; mode=display\">\\newcommand{\\Bold}[1]{\\mathbf{#1}}\\left[\\left\\{d_{1} : r_{1463}, d_{2} : 0, d_{3} : 0, d_{4} : 0, d_{5} : r_{1464}, a_{12} : r_{1465}, a_{13} : r_{1466}, a_{14} : r_{1467}, a_{15} : r_{1468}, a_{23} : r_{1469}, a_{24} : r_{1470}, a_{25} : r_{1471}, a_{34} : r_{1472}, a_{35} : r_{1473}, a_{45} : -\\frac{r_{1464} x_{35}}{x_{34}}\\right\\}, \\left\\{d_{1} : r_{1474}, d_{2} : r_{1475}, d_{3} : \\frac{r_{1475}}{x_{23}}, d_{4} : \\frac{r_{1475}}{x_{23} x_{34}}, d_{5} : r_{1476}, a_{12} : \\frac{r_{1475} x_{13}}{x_{23}}, a_{13} : r_{1477}, a_{14} : r_{1478}, a_{15} : r_{1479}, a_{23} : \\frac{r_{1477} x_{23}^{2} x_{34} - r_{1475} x_{14} x_{23} + r_{1475} x_{13} x_{24}}{x_{13} x_{23} x_{34}}, a_{24} : r_{1480}, a_{25} : r_{1481}, a_{34} : \\frac{r_{1477} x_{23} x_{34} - r_{1475} x_{14}}{x_{13} x_{23} x_{34}}, a_{35} : \\frac{r_{1476} x_{24} x_{35}}{x_{23} x_{34}}, a_{45} : -\\frac{r_{1476} x_{35}}{x_{34}}\\right\\}\\right]</script></html>"
      ],
      "text/latex": [
       "$$\\newcommand{\\Bold}[1]{\\mathbf{#1}}\\left[\\left\\{d_{1} : r_{1463}, d_{2} : 0, d_{3} : 0, d_{4} : 0, d_{5} : r_{1464}, a_{12} : r_{1465}, a_{13} : r_{1466}, a_{14} : r_{1467}, a_{15} : r_{1468}, a_{23} : r_{1469}, a_{24} : r_{1470}, a_{25} : r_{1471}, a_{34} : r_{1472}, a_{35} : r_{1473}, a_{45} : -\\frac{r_{1464} x_{35}}{x_{34}}\\right\\}, \\left\\{d_{1} : r_{1474}, d_{2} : r_{1475}, d_{3} : \\frac{r_{1475}}{x_{23}}, d_{4} : \\frac{r_{1475}}{x_{23} x_{34}}, d_{5} : r_{1476}, a_{12} : \\frac{r_{1475} x_{13}}{x_{23}}, a_{13} : r_{1477}, a_{14} : r_{1478}, a_{15} : r_{1479}, a_{23} : \\frac{r_{1477} x_{23}^{2} x_{34} - r_{1475} x_{14} x_{23} + r_{1475} x_{13} x_{24}}{x_{13} x_{23} x_{34}}, a_{24} : r_{1480}, a_{25} : r_{1481}, a_{34} : \\frac{r_{1477} x_{23} x_{34} - r_{1475} x_{14}}{x_{13} x_{23} x_{34}}, a_{35} : \\frac{r_{1476} x_{24} x_{35}}{x_{23} x_{34}}, a_{45} : -\\frac{r_{1476} x_{35}}{x_{34}}\\right\\}\\right]$$"
      ],
      "text/plain": [
       "[{d1: r1463,\n",
       "  d2: 0,\n",
       "  d3: 0,\n",
       "  d4: 0,\n",
       "  d5: r1464,\n",
       "  a12: r1465,\n",
       "  a13: r1466,\n",
       "  a14: r1467,\n",
       "  a15: r1468,\n",
       "  a23: r1469,\n",
       "  a24: r1470,\n",
       "  a25: r1471,\n",
       "  a34: r1472,\n",
       "  a35: r1473,\n",
       "  a45: -r1464*x35/x34},\n",
       " {d1: r1474,\n",
       "  d2: r1475,\n",
       "  d3: r1475/x23,\n",
       "  d4: r1475/(x23*x34),\n",
       "  d5: r1476,\n",
       "  a12: r1475*x13/x23,\n",
       "  a13: r1477,\n",
       "  a14: r1478,\n",
       "  a15: r1479,\n",
       "  a23: (r1477*x23^2*x34 - r1475*x14*x23 + r1475*x13*x24)/(x13*x23*x34),\n",
       "  a24: r1480,\n",
       "  a25: r1481,\n",
       "  a34: (r1477*x23*x34 - r1475*x14)/(x13*x23*x34),\n",
       "  a35: r1476*x24*x35/(x23*x34),\n",
       "  a45: -r1476*x35/x34}]"
      ]
     },
     "metadata": {},
     "output_type": "display_data"
    },
    {
     "data": {
      "text/plain": [
       "\\left[\\left\\{d_{1} : r_{1463}, d_{2} : 0, d_{3} : 0, d_{4} : 0, d_{5} : r_{1464}, a_{12} : r_{1465}, a_{13} : r_{1466}, a_{14} : r_{1467}, a_{15} : r_{1468}, a_{23} : r_{1469}, a_{24} : r_{1470}, a_{25} : r_{1471}, a_{34} : r_{1472}, a_{35} : r_{1473}, a_{45} : -\\frac{r_{1464} x_{35}}{x_{34}}\\right\\}, \\left\\{d_{1} : r_{1474}, d_{2} : r_{1475}, d_{3} : \\frac{r_{1475}}{x_{23}}, d_{4} : \\frac{r_{1475}}{x_{23} x_{34}}, d_{5} : r_{1476}, a_{12} : \\frac{r_{1475} x_{13}}{x_{23}}, a_{13} : r_{1477}, a_{14} : r_{1478}, a_{15} : r_{1479}, a_{23} : \\frac{r_{1477} x_{23}^{2} x_{34} - r_{1475} x_{14} x_{23} + r_{1475} x_{13} x_{24}}{x_{13} x_{23} x_{34}}, a_{24} : r_{1480}, a_{25} : r_{1481}, a_{34} : \\frac{r_{1477} x_{23} x_{34} - r_{1475} x_{14}}{x_{13} x_{23} x_{34}}, a_{35} : \\frac{r_{1476} x_{24} x_{35}}{x_{23} x_{34}}, a_{45} : -\\frac{r_{1476} x_{35}}{x_{34}}\\right\\}\\right]"
      ]
     },
     "execution_count": 81,
     "metadata": {},
     "output_type": "execute_result"
    }
   ],
   "source": [
    "#x6\n",
    "#----------------------\n",
    "#x15=((x14*x23-x13*x24)*x35)/(x23*x34)\n",
    "#----------------------\n",
    "reset()\n",
    "\n",
    "var('x12,x13,x14,x15,x23,x24,x25,x34,x35,x45')\n",
    "var('d1,d2,d3,d4,d5')\n",
    "var('a12,a13,a14,a15,a23,a24,a25,a34,a35,a45')\n",
    "\n",
    "#110111\n",
    "eq1=(d2*d3*x13-a12*d3*x23)/(d1*d2) \n",
    "eq2=(a34*d2*d3*x13+d2*d3*d4*x14-a12*a34*d3*x23-a12*d3*d4*x24+a12*a23*d4*x34-a13*d2*d4*x34)/(d1*d2*d3) \n",
    "eq3=(a35*d2*d3*x13+a45*d2*d3*x14+d2*d3*d5*((x14*x23-x13*x24)*x35)/(x23*x34)-a12*a35*d3*x23-a12*a45*d3*x24-a12*d3*d5*0+a12*a23*a45*x34-a13*a45*d2*x34+a12*a23*d5*x35-a13*d2*d5*x35)/(d1*d2*d3) \n",
    "eq4=(d3*x23)/(d2) \n",
    "eq5=(a34*d3*x23+d3*d4*x24-a23*d4*x34)/(d2*d3) \n",
    "eq6=(a35*d3*x23+a45*d3*x24+d3*d5*0-a23*a45*x34-a23*d5*x35)/(d2*d3) \n",
    "eq7=(d4*x34)/(d3) \n",
    "eq8=(a45*x34+d5*x35)/(d3) \n",
    "\n",
    "m=matrix(QQ, [[0, 0, 0, 0, 0],\n",
    "              [0, 0, 1, 0, 0],\n",
    "              [0, 0, 0, 1, 0],\n",
    "              [0, 0, 0, 0, 0],\n",
    "              [0, 0, 0, 0, 0]])\n",
    "        \n",
    "#entry of matrix: (i,j) line i collum j, means (i-1,j-1)\n",
    "sol=solve([ eq1==m[0,2],\teq2==m[0,3],\teq3==m[0,4],\teq4==m[1,2],\t\n",
    "                                            eq5==m[1,3],    eq6==m[1,4],\n",
    "                                                            eq7==m[2,3], eq8==m[2,4]],d1,d2,d3,d4,d5,a12,a13,a14,a15,a23,a24,a25,a34,a35,a45, solution_dict=True)\n",
    "\n",
    "show(m)\n",
    "show(sol)\n",
    "latex(sol)"
   ]
  },
  {
   "cell_type": "code",
   "execution_count": 82,
   "metadata": {},
   "outputs": [
    {
     "data": {
      "text/html": [
       "<html><script type=\"math/tex; mode=display\">\\newcommand{\\Bold}[1]{\\mathbf{#1}}\\left(\\begin{array}{rrrrr}\n",
       "0 & 0 & 0 & 0 & 0 \\\\\n",
       "0 & 0 & 1 & 0 & 0 \\\\\n",
       "0 & 0 & 0 & 1 & 0 \\\\\n",
       "0 & 0 & 0 & 0 & 0 \\\\\n",
       "0 & 0 & 0 & 0 & 0\n",
       "\\end{array}\\right)</script></html>"
      ],
      "text/latex": [
       "$$\\newcommand{\\Bold}[1]{\\mathbf{#1}}\\left(\\begin{array}{rrrrr}\n",
       "0 & 0 & 0 & 0 & 0 \\\\\n",
       "0 & 0 & 1 & 0 & 0 \\\\\n",
       "0 & 0 & 0 & 1 & 0 \\\\\n",
       "0 & 0 & 0 & 0 & 0 \\\\\n",
       "0 & 0 & 0 & 0 & 0\n",
       "\\end{array}\\right)$$"
      ],
      "text/plain": [
       "[0 0 0 0 0]\n",
       "[0 0 1 0 0]\n",
       "[0 0 0 1 0]\n",
       "[0 0 0 0 0]\n",
       "[0 0 0 0 0]"
      ]
     },
     "metadata": {},
     "output_type": "display_data"
    },
    {
     "data": {
      "text/html": [
       "<html><script type=\"math/tex; mode=display\">\\newcommand{\\Bold}[1]{\\mathbf{#1}}\\left[\\left\\{d_{1} : r_{1482}, d_{2} : 0, d_{3} : 0, d_{4} : 0, d_{5} : r_{1483}, a_{12} : r_{1484}, a_{13} : r_{1485}, a_{14} : r_{1486}, a_{15} : r_{1487}, a_{23} : r_{1488}, a_{24} : r_{1489}, a_{25} : r_{1490}, a_{34} : r_{1491}, a_{35} : r_{1492}, a_{45} : -\\frac{r_{1483} x_{35}}{x_{34}}\\right\\}, \\left\\{d_{1} : r_{1493}, d_{2} : r_{1494}, d_{3} : \\frac{r_{1494}}{x_{23}}, d_{4} : \\frac{r_{1494}}{x_{23} x_{34}}, d_{5} : r_{1495}, a_{12} : 0, a_{13} : 0, a_{14} : r_{1496}, a_{15} : r_{1497}, a_{23} : r_{1498}, a_{24} : r_{1499}, a_{25} : r_{1500}, a_{34} : \\frac{r_{1498} x_{23} x_{34} - r_{1494} x_{24}}{x_{23}^{2} x_{34}}, a_{35} : -\\frac{r_{1495} x_{25} x_{34} - r_{1495} x_{24} x_{35}}{x_{23} x_{34}}, a_{45} : -\\frac{r_{1495} x_{35}}{x_{34}}\\right\\}\\right]</script></html>"
      ],
      "text/latex": [
       "$$\\newcommand{\\Bold}[1]{\\mathbf{#1}}\\left[\\left\\{d_{1} : r_{1482}, d_{2} : 0, d_{3} : 0, d_{4} : 0, d_{5} : r_{1483}, a_{12} : r_{1484}, a_{13} : r_{1485}, a_{14} : r_{1486}, a_{15} : r_{1487}, a_{23} : r_{1488}, a_{24} : r_{1489}, a_{25} : r_{1490}, a_{34} : r_{1491}, a_{35} : r_{1492}, a_{45} : -\\frac{r_{1483} x_{35}}{x_{34}}\\right\\}, \\left\\{d_{1} : r_{1493}, d_{2} : r_{1494}, d_{3} : \\frac{r_{1494}}{x_{23}}, d_{4} : \\frac{r_{1494}}{x_{23} x_{34}}, d_{5} : r_{1495}, a_{12} : 0, a_{13} : 0, a_{14} : r_{1496}, a_{15} : r_{1497}, a_{23} : r_{1498}, a_{24} : r_{1499}, a_{25} : r_{1500}, a_{34} : \\frac{r_{1498} x_{23} x_{34} - r_{1494} x_{24}}{x_{23}^{2} x_{34}}, a_{35} : -\\frac{r_{1495} x_{25} x_{34} - r_{1495} x_{24} x_{35}}{x_{23} x_{34}}, a_{45} : -\\frac{r_{1495} x_{35}}{x_{34}}\\right\\}\\right]$$"
      ],
      "text/plain": [
       "[{d1: r1482,\n",
       "  d2: 0,\n",
       "  d3: 0,\n",
       "  d4: 0,\n",
       "  d5: r1483,\n",
       "  a12: r1484,\n",
       "  a13: r1485,\n",
       "  a14: r1486,\n",
       "  a15: r1487,\n",
       "  a23: r1488,\n",
       "  a24: r1489,\n",
       "  a25: r1490,\n",
       "  a34: r1491,\n",
       "  a35: r1492,\n",
       "  a45: -r1483*x35/x34},\n",
       " {d1: r1493,\n",
       "  d2: r1494,\n",
       "  d3: r1494/x23,\n",
       "  d4: r1494/(x23*x34),\n",
       "  d5: r1495,\n",
       "  a12: 0,\n",
       "  a13: 0,\n",
       "  a14: r1496,\n",
       "  a15: r1497,\n",
       "  a23: r1498,\n",
       "  a24: r1499,\n",
       "  a25: r1500,\n",
       "  a34: (r1498*x23*x34 - r1494*x24)/(x23^2*x34),\n",
       "  a35: -(r1495*x25*x34 - r1495*x24*x35)/(x23*x34),\n",
       "  a45: -r1495*x35/x34}]"
      ]
     },
     "metadata": {},
     "output_type": "display_data"
    },
    {
     "data": {
      "text/plain": [
       "\\left[\\left\\{d_{1} : r_{1482}, d_{2} : 0, d_{3} : 0, d_{4} : 0, d_{5} : r_{1483}, a_{12} : r_{1484}, a_{13} : r_{1485}, a_{14} : r_{1486}, a_{15} : r_{1487}, a_{23} : r_{1488}, a_{24} : r_{1489}, a_{25} : r_{1490}, a_{34} : r_{1491}, a_{35} : r_{1492}, a_{45} : -\\frac{r_{1483} x_{35}}{x_{34}}\\right\\}, \\left\\{d_{1} : r_{1493}, d_{2} : r_{1494}, d_{3} : \\frac{r_{1494}}{x_{23}}, d_{4} : \\frac{r_{1494}}{x_{23} x_{34}}, d_{5} : r_{1495}, a_{12} : 0, a_{13} : 0, a_{14} : r_{1496}, a_{15} : r_{1497}, a_{23} : r_{1498}, a_{24} : r_{1499}, a_{25} : r_{1500}, a_{34} : \\frac{r_{1498} x_{23} x_{34} - r_{1494} x_{24}}{x_{23}^{2} x_{34}}, a_{35} : -\\frac{r_{1495} x_{25} x_{34} - r_{1495} x_{24} x_{35}}{x_{23} x_{34}}, a_{45} : -\\frac{r_{1495} x_{35}}{x_{34}}\\right\\}\\right]"
      ]
     },
     "execution_count": 82,
     "metadata": {},
     "output_type": "execute_result"
    }
   ],
   "source": [
    "#x6\n",
    "reset()\n",
    "\n",
    "var('x12,x13,x14,x15,x23,x24,x25,x34,x35,x45')\n",
    "var('d1,d2,d3,d4,d5')\n",
    "var('a12,a13,a14,a15,a23,a24,a25,a34,a35,a45')\n",
    "\n",
    "load_attach_path('C:\\\\Users\\\\julia\\\\Documents\\\\unb\\\\doutorado\\\\pensar\\\\codigo_sage_v2\\\\maquina\\\\x6')\n",
    "load('out_#111000.sage')\n",
    "\n",
    "m=matrix(QQ, [[0, 0, 0, 0, 0],\n",
    "              [0, 0, 1, 0, 0],\n",
    "              [0, 0, 0, 1, 0],\n",
    "              [0, 0, 0, 0, 0],\n",
    "              [0, 0, 0, 0, 0]])\n",
    "        \n",
    "#entry of matrix: (i,j) line i collum j, means (i-1,j-1)\n",
    "sol=solve([ eq1==m[0,2],\teq2==m[0,3],\teq3==m[0,4],\teq4==m[1,2],\t\n",
    "                                            eq5==m[1,3],    eq6==m[1,4],\n",
    "                                                            eq7==m[2,3], eq8==m[2,4]],d1,d2,d3,d4,d5,a12,a13,a14,a15,a23,a24,a25,a34,a35,a45, solution_dict=True)\n",
    "\n",
    "show(m)\n",
    "show(sol)\n",
    "latex(sol)"
   ]
  },
  {
   "cell_type": "code",
   "execution_count": 83,
   "metadata": {},
   "outputs": [
    {
     "data": {
      "text/html": [
       "<html><script type=\"math/tex; mode=display\">\\newcommand{\\Bold}[1]{\\mathbf{#1}}\\left(\\begin{array}{rrrrr}\n",
       "0 & 0 & 0 & 0 & 1 \\\\\n",
       "0 & 0 & 1 & 0 & 0 \\\\\n",
       "0 & 0 & 0 & 1 & 0 \\\\\n",
       "0 & 0 & 0 & 0 & 0 \\\\\n",
       "0 & 0 & 0 & 0 & 0\n",
       "\\end{array}\\right)</script></html>"
      ],
      "text/latex": [
       "$$\\newcommand{\\Bold}[1]{\\mathbf{#1}}\\left(\\begin{array}{rrrrr}\n",
       "0 & 0 & 0 & 0 & 1 \\\\\n",
       "0 & 0 & 1 & 0 & 0 \\\\\n",
       "0 & 0 & 0 & 1 & 0 \\\\\n",
       "0 & 0 & 0 & 0 & 0 \\\\\n",
       "0 & 0 & 0 & 0 & 0\n",
       "\\end{array}\\right)$$"
      ],
      "text/plain": [
       "[0 0 0 0 1]\n",
       "[0 0 1 0 0]\n",
       "[0 0 0 1 0]\n",
       "[0 0 0 0 0]\n",
       "[0 0 0 0 0]"
      ]
     },
     "metadata": {},
     "output_type": "display_data"
    },
    {
     "data": {
      "text/html": [
       "<html><script type=\"math/tex; mode=display\">\\newcommand{\\Bold}[1]{\\mathbf{#1}}\\left[\\left\\{d_{1} : r_{1501}, d_{2} : 0, d_{3} : 0, d_{4} : 0, d_{5} : r_{1502}, a_{12} : r_{1503}, a_{13} : r_{1504}, a_{14} : r_{1505}, a_{15} : r_{1506}, a_{23} : r_{1507}, a_{24} : r_{1508}, a_{25} : r_{1509}, a_{34} : r_{1510}, a_{35} : r_{1511}, a_{45} : -\\frac{r_{1502} x_{35}}{x_{34}}\\right\\}, \\left\\{d_{1} : r_{1512}, d_{2} : r_{1513}, d_{3} : \\frac{r_{1513}}{x_{23}}, d_{4} : \\frac{r_{1513}}{x_{23} x_{34}}, d_{5} : \\frac{r_{1512}}{x_{15}}, a_{12} : 0, a_{13} : 0, a_{14} : r_{1514}, a_{15} : r_{1515}, a_{23} : r_{1516}, a_{24} : r_{1517}, a_{25} : r_{1518}, a_{34} : \\frac{r_{1516} x_{23} x_{34} - r_{1513} x_{24}}{x_{23}^{2} x_{34}}, a_{35} : -\\frac{r_{1512} x_{25} x_{34} - r_{1512} x_{24} x_{35}}{x_{15} x_{23} x_{34}}, a_{45} : -\\frac{r_{1512} x_{35}}{x_{15} x_{34}}\\right\\}\\right]</script></html>"
      ],
      "text/latex": [
       "$$\\newcommand{\\Bold}[1]{\\mathbf{#1}}\\left[\\left\\{d_{1} : r_{1501}, d_{2} : 0, d_{3} : 0, d_{4} : 0, d_{5} : r_{1502}, a_{12} : r_{1503}, a_{13} : r_{1504}, a_{14} : r_{1505}, a_{15} : r_{1506}, a_{23} : r_{1507}, a_{24} : r_{1508}, a_{25} : r_{1509}, a_{34} : r_{1510}, a_{35} : r_{1511}, a_{45} : -\\frac{r_{1502} x_{35}}{x_{34}}\\right\\}, \\left\\{d_{1} : r_{1512}, d_{2} : r_{1513}, d_{3} : \\frac{r_{1513}}{x_{23}}, d_{4} : \\frac{r_{1513}}{x_{23} x_{34}}, d_{5} : \\frac{r_{1512}}{x_{15}}, a_{12} : 0, a_{13} : 0, a_{14} : r_{1514}, a_{15} : r_{1515}, a_{23} : r_{1516}, a_{24} : r_{1517}, a_{25} : r_{1518}, a_{34} : \\frac{r_{1516} x_{23} x_{34} - r_{1513} x_{24}}{x_{23}^{2} x_{34}}, a_{35} : -\\frac{r_{1512} x_{25} x_{34} - r_{1512} x_{24} x_{35}}{x_{15} x_{23} x_{34}}, a_{45} : -\\frac{r_{1512} x_{35}}{x_{15} x_{34}}\\right\\}\\right]$$"
      ],
      "text/plain": [
       "[{d1: r1501,\n",
       "  d2: 0,\n",
       "  d3: 0,\n",
       "  d4: 0,\n",
       "  d5: r1502,\n",
       "  a12: r1503,\n",
       "  a13: r1504,\n",
       "  a14: r1505,\n",
       "  a15: r1506,\n",
       "  a23: r1507,\n",
       "  a24: r1508,\n",
       "  a25: r1509,\n",
       "  a34: r1510,\n",
       "  a35: r1511,\n",
       "  a45: -r1502*x35/x34},\n",
       " {d1: r1512,\n",
       "  d2: r1513,\n",
       "  d3: r1513/x23,\n",
       "  d4: r1513/(x23*x34),\n",
       "  d5: r1512/x15,\n",
       "  a12: 0,\n",
       "  a13: 0,\n",
       "  a14: r1514,\n",
       "  a15: r1515,\n",
       "  a23: r1516,\n",
       "  a24: r1517,\n",
       "  a25: r1518,\n",
       "  a34: (r1516*x23*x34 - r1513*x24)/(x23^2*x34),\n",
       "  a35: -(r1512*x25*x34 - r1512*x24*x35)/(x15*x23*x34),\n",
       "  a45: -r1512*x35/(x15*x34)}]"
      ]
     },
     "metadata": {},
     "output_type": "display_data"
    },
    {
     "data": {
      "text/plain": [
       "\\left[\\left\\{d_{1} : r_{1501}, d_{2} : 0, d_{3} : 0, d_{4} : 0, d_{5} : r_{1502}, a_{12} : r_{1503}, a_{13} : r_{1504}, a_{14} : r_{1505}, a_{15} : r_{1506}, a_{23} : r_{1507}, a_{24} : r_{1508}, a_{25} : r_{1509}, a_{34} : r_{1510}, a_{35} : r_{1511}, a_{45} : -\\frac{r_{1502} x_{35}}{x_{34}}\\right\\}, \\left\\{d_{1} : r_{1512}, d_{2} : r_{1513}, d_{3} : \\frac{r_{1513}}{x_{23}}, d_{4} : \\frac{r_{1513}}{x_{23} x_{34}}, d_{5} : \\frac{r_{1512}}{x_{15}}, a_{12} : 0, a_{13} : 0, a_{14} : r_{1514}, a_{15} : r_{1515}, a_{23} : r_{1516}, a_{24} : r_{1517}, a_{25} : r_{1518}, a_{34} : \\frac{r_{1516} x_{23} x_{34} - r_{1513} x_{24}}{x_{23}^{2} x_{34}}, a_{35} : -\\frac{r_{1512} x_{25} x_{34} - r_{1512} x_{24} x_{35}}{x_{15} x_{23} x_{34}}, a_{45} : -\\frac{r_{1512} x_{35}}{x_{15} x_{34}}\\right\\}\\right]"
      ]
     },
     "execution_count": 83,
     "metadata": {},
     "output_type": "execute_result"
    }
   ],
   "source": [
    "#x6\n",
    "reset()\n",
    "\n",
    "var('x12,x13,x14,x15,x23,x24,x25,x34,x35,x45')\n",
    "var('d1,d2,d3,d4,d5')\n",
    "var('a12,a13,a14,a15,a23,a24,a25,a34,a35,a45')\n",
    "\n",
    "load_attach_path('C:\\\\Users\\\\julia\\\\Documents\\\\unb\\\\doutorado\\\\pensar\\\\codigo_sage_v2\\\\maquina\\\\x6')\n",
    "load('out_#111001.sage')\n",
    "\n",
    "m=matrix(QQ, [[0, 0, 0, 0, 1],\n",
    "              [0, 0, 1, 0, 0],\n",
    "              [0, 0, 0, 1, 0],\n",
    "              [0, 0, 0, 0, 0],\n",
    "              [0, 0, 0, 0, 0]])\n",
    "        \n",
    "#entry of matrix: (i,j) line i collum j, means (i-1,j-1)\n",
    "sol=solve([ eq1==m[0,2],\teq2==m[0,3],\teq3==m[0,4],\teq4==m[1,2],\t\n",
    "                                            eq5==m[1,3],    eq6==m[1,4],\n",
    "                                                            eq7==m[2,3], eq8==m[2,4]],d1,d2,d3,d4,d5,a12,a13,a14,a15,a23,a24,a25,a34,a35,a45, solution_dict=True)\n",
    "\n",
    "show(m)\n",
    "show(sol)\n",
    "latex(sol)"
   ]
  },
  {
   "cell_type": "code",
   "execution_count": 85,
   "metadata": {},
   "outputs": [
    {
     "data": {
      "text/html": [
       "<html><script type=\"math/tex; mode=display\">\\newcommand{\\Bold}[1]{\\mathbf{#1}}\\left(\\begin{array}{rrrrr}\n",
       "0 & 0 & 0 & 0 & 1 \\\\\n",
       "0 & 0 & 1 & 0 & 0 \\\\\n",
       "0 & 0 & 0 & 1 & 0 \\\\\n",
       "0 & 0 & 0 & 0 & 0 \\\\\n",
       "0 & 0 & 0 & 0 & 0\n",
       "\\end{array}\\right)</script></html>"
      ],
      "text/latex": [
       "$$\\newcommand{\\Bold}[1]{\\mathbf{#1}}\\left(\\begin{array}{rrrrr}\n",
       "0 & 0 & 0 & 0 & 1 \\\\\n",
       "0 & 0 & 1 & 0 & 0 \\\\\n",
       "0 & 0 & 0 & 1 & 0 \\\\\n",
       "0 & 0 & 0 & 0 & 0 \\\\\n",
       "0 & 0 & 0 & 0 & 0\n",
       "\\end{array}\\right)$$"
      ],
      "text/plain": [
       "[0 0 0 0 1]\n",
       "[0 0 1 0 0]\n",
       "[0 0 0 1 0]\n",
       "[0 0 0 0 0]\n",
       "[0 0 0 0 0]"
      ]
     },
     "metadata": {},
     "output_type": "display_data"
    },
    {
     "data": {
      "text/html": [
       "<html><script type=\"math/tex; mode=display\">\\newcommand{\\Bold}[1]{\\mathbf{#1}}\\left[\\left\\{d_{1} : r_{1537}, d_{2} : 0, d_{3} : 0, d_{4} : 0, d_{5} : r_{1538}, a_{12} : r_{1539}, a_{13} : r_{1540}, a_{14} : r_{1541}, a_{15} : r_{1542}, a_{23} : r_{1543}, a_{24} : r_{1544}, a_{25} : r_{1545}, a_{34} : r_{1546}, a_{35} : r_{1547}, a_{45} : -\\frac{r_{1538} x_{35}}{x_{34}}\\right\\}, \\left\\{d_{1} : r_{1548}, d_{2} : r_{1549}, d_{3} : \\frac{r_{1549}}{x_{23}}, d_{4} : \\frac{r_{1549}}{x_{23} x_{34}}, d_{5} : -\\frac{r_{1548} x_{34}}{x_{14} x_{35}}, a_{12} : 0, a_{13} : \\frac{r_{1549} x_{14}}{x_{23} x_{34}}, a_{14} : r_{1550}, a_{15} : r_{1551}, a_{23} : r_{1552}, a_{24} : r_{1553}, a_{25} : r_{1554}, a_{34} : \\frac{r_{1552} x_{23} x_{34} - r_{1549} x_{24}}{x_{23}^{2} x_{34}}, a_{35} : \\frac{r_{1548} x_{25} x_{34} - r_{1548} x_{24} x_{35}}{x_{14} x_{23} x_{35}}, a_{45} : \\frac{r_{1548}}{x_{14}}\\right\\}\\right]</script></html>"
      ],
      "text/latex": [
       "$$\\newcommand{\\Bold}[1]{\\mathbf{#1}}\\left[\\left\\{d_{1} : r_{1537}, d_{2} : 0, d_{3} : 0, d_{4} : 0, d_{5} : r_{1538}, a_{12} : r_{1539}, a_{13} : r_{1540}, a_{14} : r_{1541}, a_{15} : r_{1542}, a_{23} : r_{1543}, a_{24} : r_{1544}, a_{25} : r_{1545}, a_{34} : r_{1546}, a_{35} : r_{1547}, a_{45} : -\\frac{r_{1538} x_{35}}{x_{34}}\\right\\}, \\left\\{d_{1} : r_{1548}, d_{2} : r_{1549}, d_{3} : \\frac{r_{1549}}{x_{23}}, d_{4} : \\frac{r_{1549}}{x_{23} x_{34}}, d_{5} : -\\frac{r_{1548} x_{34}}{x_{14} x_{35}}, a_{12} : 0, a_{13} : \\frac{r_{1549} x_{14}}{x_{23} x_{34}}, a_{14} : r_{1550}, a_{15} : r_{1551}, a_{23} : r_{1552}, a_{24} : r_{1553}, a_{25} : r_{1554}, a_{34} : \\frac{r_{1552} x_{23} x_{34} - r_{1549} x_{24}}{x_{23}^{2} x_{34}}, a_{35} : \\frac{r_{1548} x_{25} x_{34} - r_{1548} x_{24} x_{35}}{x_{14} x_{23} x_{35}}, a_{45} : \\frac{r_{1548}}{x_{14}}\\right\\}\\right]$$"
      ],
      "text/plain": [
       "[{d1: r1537,\n",
       "  d2: 0,\n",
       "  d3: 0,\n",
       "  d4: 0,\n",
       "  d5: r1538,\n",
       "  a12: r1539,\n",
       "  a13: r1540,\n",
       "  a14: r1541,\n",
       "  a15: r1542,\n",
       "  a23: r1543,\n",
       "  a24: r1544,\n",
       "  a25: r1545,\n",
       "  a34: r1546,\n",
       "  a35: r1547,\n",
       "  a45: -r1538*x35/x34},\n",
       " {d1: r1548,\n",
       "  d2: r1549,\n",
       "  d3: r1549/x23,\n",
       "  d4: r1549/(x23*x34),\n",
       "  d5: -r1548*x34/(x14*x35),\n",
       "  a12: 0,\n",
       "  a13: r1549*x14/(x23*x34),\n",
       "  a14: r1550,\n",
       "  a15: r1551,\n",
       "  a23: r1552,\n",
       "  a24: r1553,\n",
       "  a25: r1554,\n",
       "  a34: (r1552*x23*x34 - r1549*x24)/(x23^2*x34),\n",
       "  a35: (r1548*x25*x34 - r1548*x24*x35)/(x14*x23*x35),\n",
       "  a45: r1548/x14}]"
      ]
     },
     "metadata": {},
     "output_type": "display_data"
    },
    {
     "data": {
      "text/plain": [
       "\\left[\\left\\{d_{1} : r_{1537}, d_{2} : 0, d_{3} : 0, d_{4} : 0, d_{5} : r_{1538}, a_{12} : r_{1539}, a_{13} : r_{1540}, a_{14} : r_{1541}, a_{15} : r_{1542}, a_{23} : r_{1543}, a_{24} : r_{1544}, a_{25} : r_{1545}, a_{34} : r_{1546}, a_{35} : r_{1547}, a_{45} : -\\frac{r_{1538} x_{35}}{x_{34}}\\right\\}, \\left\\{d_{1} : r_{1548}, d_{2} : r_{1549}, d_{3} : \\frac{r_{1549}}{x_{23}}, d_{4} : \\frac{r_{1549}}{x_{23} x_{34}}, d_{5} : -\\frac{r_{1548} x_{34}}{x_{14} x_{35}}, a_{12} : 0, a_{13} : \\frac{r_{1549} x_{14}}{x_{23} x_{34}}, a_{14} : r_{1550}, a_{15} : r_{1551}, a_{23} : r_{1552}, a_{24} : r_{1553}, a_{25} : r_{1554}, a_{34} : \\frac{r_{1552} x_{23} x_{34} - r_{1549} x_{24}}{x_{23}^{2} x_{34}}, a_{35} : \\frac{r_{1548} x_{25} x_{34} - r_{1548} x_{24} x_{35}}{x_{14} x_{23} x_{35}}, a_{45} : \\frac{r_{1548}}{x_{14}}\\right\\}\\right]"
      ]
     },
     "execution_count": 85,
     "metadata": {},
     "output_type": "execute_result"
    }
   ],
   "source": [
    "#x6\n",
    "reset()\n",
    "\n",
    "var('x12,x13,x14,x15,x23,x24,x25,x34,x35,x45')\n",
    "var('d1,d2,d3,d4,d5')\n",
    "var('a12,a13,a14,a15,a23,a24,a25,a34,a35,a45')\n",
    "\n",
    "load_attach_path('C:\\\\Users\\\\julia\\\\Documents\\\\unb\\\\doutorado\\\\pensar\\\\codigo_sage_v2\\\\maquina\\\\x6')\n",
    "load('out_#111010.sage')\n",
    "\n",
    "m=matrix(QQ, [[0, 0, 0, 0, 1],\n",
    "              [0, 0, 1, 0, 0],\n",
    "              [0, 0, 0, 1, 0],\n",
    "              [0, 0, 0, 0, 0],\n",
    "              [0, 0, 0, 0, 0]])\n",
    "        \n",
    "#entry of matrix: (i,j) line i collum j, means (i-1,j-1)\n",
    "sol=solve([ eq1==m[0,2],\teq2==m[0,3],\teq3==m[0,4],\teq4==m[1,2],\t\n",
    "                                            eq5==m[1,3],    eq6==m[1,4],\n",
    "                                                            eq7==m[2,3], eq8==m[2,4]],d1,d2,d3,d4,d5,a12,a13,a14,a15,a23,a24,a25,a34,a35,a45, solution_dict=True)\n",
    "\n",
    "show(m)\n",
    "show(sol)\n",
    "latex(sol)"
   ]
  },
  {
   "cell_type": "code",
   "execution_count": 86,
   "metadata": {},
   "outputs": [
    {
     "data": {
      "text/html": [
       "<html><script type=\"math/tex; mode=display\">\\newcommand{\\Bold}[1]{\\mathbf{#1}}\\left(\\begin{array}{rrrrr}\n",
       "0 & 0 & 0 & 0 & 1 \\\\\n",
       "0 & 0 & 1 & 0 & 0 \\\\\n",
       "0 & 0 & 0 & 1 & 0 \\\\\n",
       "0 & 0 & 0 & 0 & 0 \\\\\n",
       "0 & 0 & 0 & 0 & 0\n",
       "\\end{array}\\right)</script></html>"
      ],
      "text/latex": [
       "$$\\newcommand{\\Bold}[1]{\\mathbf{#1}}\\left(\\begin{array}{rrrrr}\n",
       "0 & 0 & 0 & 0 & 1 \\\\\n",
       "0 & 0 & 1 & 0 & 0 \\\\\n",
       "0 & 0 & 0 & 1 & 0 \\\\\n",
       "0 & 0 & 0 & 0 & 0 \\\\\n",
       "0 & 0 & 0 & 0 & 0\n",
       "\\end{array}\\right)$$"
      ],
      "text/plain": [
       "[0 0 0 0 1]\n",
       "[0 0 1 0 0]\n",
       "[0 0 0 1 0]\n",
       "[0 0 0 0 0]\n",
       "[0 0 0 0 0]"
      ]
     },
     "metadata": {},
     "output_type": "display_data"
    },
    {
     "data": {
      "text/html": [
       "<html><script type=\"math/tex; mode=display\">\\newcommand{\\Bold}[1]{\\mathbf{#1}}\\left[\\left\\{d_{1} : r_{1555}, d_{2} : 0, d_{3} : 0, d_{4} : 0, d_{5} : r_{1556}, a_{12} : r_{1557}, a_{13} : r_{1558}, a_{14} : r_{1559}, a_{15} : r_{1560}, a_{23} : r_{1561}, a_{24} : r_{1562}, a_{25} : r_{1563}, a_{34} : r_{1564}, a_{35} : r_{1565}, a_{45} : -\\frac{r_{1556} x_{35}}{x_{34}}\\right\\}, \\left\\{d_{1} : r_{1566}, d_{2} : r_{1567}, d_{3} : \\frac{r_{1567}}{x_{23}}, d_{4} : \\frac{r_{1567}}{x_{23} x_{34}}, d_{5} : \\frac{r_{1566} x_{34}}{x_{15} x_{34} - x_{14} x_{35}}, a_{12} : 0, a_{13} : \\frac{r_{1567} x_{14}}{x_{23} x_{34}}, a_{14} : r_{1568}, a_{15} : r_{1569}, a_{23} : r_{1570}, a_{24} : r_{1571}, a_{25} : r_{1572}, a_{34} : \\frac{r_{1570} x_{23} x_{34} - r_{1567} x_{24}}{x_{23}^{2} x_{34}}, a_{35} : -\\frac{r_{1566} x_{25} x_{34} - r_{1566} x_{24} x_{35}}{x_{15} x_{23} x_{34} - x_{14} x_{23} x_{35}}, a_{45} : -\\frac{r_{1566} x_{35}}{x_{15} x_{34} - x_{14} x_{35}}\\right\\}\\right]</script></html>"
      ],
      "text/latex": [
       "$$\\newcommand{\\Bold}[1]{\\mathbf{#1}}\\left[\\left\\{d_{1} : r_{1555}, d_{2} : 0, d_{3} : 0, d_{4} : 0, d_{5} : r_{1556}, a_{12} : r_{1557}, a_{13} : r_{1558}, a_{14} : r_{1559}, a_{15} : r_{1560}, a_{23} : r_{1561}, a_{24} : r_{1562}, a_{25} : r_{1563}, a_{34} : r_{1564}, a_{35} : r_{1565}, a_{45} : -\\frac{r_{1556} x_{35}}{x_{34}}\\right\\}, \\left\\{d_{1} : r_{1566}, d_{2} : r_{1567}, d_{3} : \\frac{r_{1567}}{x_{23}}, d_{4} : \\frac{r_{1567}}{x_{23} x_{34}}, d_{5} : \\frac{r_{1566} x_{34}}{x_{15} x_{34} - x_{14} x_{35}}, a_{12} : 0, a_{13} : \\frac{r_{1567} x_{14}}{x_{23} x_{34}}, a_{14} : r_{1568}, a_{15} : r_{1569}, a_{23} : r_{1570}, a_{24} : r_{1571}, a_{25} : r_{1572}, a_{34} : \\frac{r_{1570} x_{23} x_{34} - r_{1567} x_{24}}{x_{23}^{2} x_{34}}, a_{35} : -\\frac{r_{1566} x_{25} x_{34} - r_{1566} x_{24} x_{35}}{x_{15} x_{23} x_{34} - x_{14} x_{23} x_{35}}, a_{45} : -\\frac{r_{1566} x_{35}}{x_{15} x_{34} - x_{14} x_{35}}\\right\\}\\right]$$"
      ],
      "text/plain": [
       "[{d1: r1555,\n",
       "  d2: 0,\n",
       "  d3: 0,\n",
       "  d4: 0,\n",
       "  d5: r1556,\n",
       "  a12: r1557,\n",
       "  a13: r1558,\n",
       "  a14: r1559,\n",
       "  a15: r1560,\n",
       "  a23: r1561,\n",
       "  a24: r1562,\n",
       "  a25: r1563,\n",
       "  a34: r1564,\n",
       "  a35: r1565,\n",
       "  a45: -r1556*x35/x34},\n",
       " {d1: r1566,\n",
       "  d2: r1567,\n",
       "  d3: r1567/x23,\n",
       "  d4: r1567/(x23*x34),\n",
       "  d5: r1566*x34/(x15*x34 - x14*x35),\n",
       "  a12: 0,\n",
       "  a13: r1567*x14/(x23*x34),\n",
       "  a14: r1568,\n",
       "  a15: r1569,\n",
       "  a23: r1570,\n",
       "  a24: r1571,\n",
       "  a25: r1572,\n",
       "  a34: (r1570*x23*x34 - r1567*x24)/(x23^2*x34),\n",
       "  a35: -(r1566*x25*x34 - r1566*x24*x35)/(x15*x23*x34 - x14*x23*x35),\n",
       "  a45: -r1566*x35/(x15*x34 - x14*x35)}]"
      ]
     },
     "metadata": {},
     "output_type": "display_data"
    },
    {
     "data": {
      "text/plain": [
       "\\left[\\left\\{d_{1} : r_{1555}, d_{2} : 0, d_{3} : 0, d_{4} : 0, d_{5} : r_{1556}, a_{12} : r_{1557}, a_{13} : r_{1558}, a_{14} : r_{1559}, a_{15} : r_{1560}, a_{23} : r_{1561}, a_{24} : r_{1562}, a_{25} : r_{1563}, a_{34} : r_{1564}, a_{35} : r_{1565}, a_{45} : -\\frac{r_{1556} x_{35}}{x_{34}}\\right\\}, \\left\\{d_{1} : r_{1566}, d_{2} : r_{1567}, d_{3} : \\frac{r_{1567}}{x_{23}}, d_{4} : \\frac{r_{1567}}{x_{23} x_{34}}, d_{5} : \\frac{r_{1566} x_{34}}{x_{15} x_{34} - x_{14} x_{35}}, a_{12} : 0, a_{13} : \\frac{r_{1567} x_{14}}{x_{23} x_{34}}, a_{14} : r_{1568}, a_{15} : r_{1569}, a_{23} : r_{1570}, a_{24} : r_{1571}, a_{25} : r_{1572}, a_{34} : \\frac{r_{1570} x_{23} x_{34} - r_{1567} x_{24}}{x_{23}^{2} x_{34}}, a_{35} : -\\frac{r_{1566} x_{25} x_{34} - r_{1566} x_{24} x_{35}}{x_{15} x_{23} x_{34} - x_{14} x_{23} x_{35}}, a_{45} : -\\frac{r_{1566} x_{35}}{x_{15} x_{34} - x_{14} x_{35}}\\right\\}\\right]"
      ]
     },
     "execution_count": 86,
     "metadata": {},
     "output_type": "execute_result"
    }
   ],
   "source": [
    "#x6\n",
    "#----------------------\n",
    "#x15 \\dif x14*x35/x34\n",
    "#----------------------\n",
    "reset()\n",
    "\n",
    "var('x12,x13,x14,x15,x23,x24,x25,x34,x35,x45')\n",
    "var('d1,d2,d3,d4,d5')\n",
    "var('a12,a13,a14,a15,a23,a24,a25,a34,a35,a45')\n",
    "\n",
    "load_attach_path('C:\\\\Users\\\\julia\\\\Documents\\\\unb\\\\doutorado\\\\pensar\\\\codigo_sage_v2\\\\maquina\\\\x6')\n",
    "load('out_#111011.sage')\n",
    "\n",
    "m=matrix(QQ, [[0, 0, 0, 0, 1],\n",
    "              [0, 0, 1, 0, 0],\n",
    "              [0, 0, 0, 1, 0],\n",
    "              [0, 0, 0, 0, 0],\n",
    "              [0, 0, 0, 0, 0]])\n",
    "        \n",
    "#entry of matrix: (i,j) line i collum j, means (i-1,j-1)\n",
    "sol=solve([ eq1==m[0,2],\teq2==m[0,3],\teq3==m[0,4],\teq4==m[1,2],\t\n",
    "                                            eq5==m[1,3],    eq6==m[1,4],\n",
    "                                                            eq7==m[2,3], eq8==m[2,4]],d1,d2,d3,d4,d5,a12,a13,a14,a15,a23,a24,a25,a34,a35,a45, solution_dict=True)\n",
    "\n",
    "show(m)\n",
    "show(sol)\n",
    "latex(sol)"
   ]
  },
  {
   "cell_type": "code",
   "execution_count": 87,
   "metadata": {},
   "outputs": [
    {
     "data": {
      "text/html": [
       "<html><script type=\"math/tex; mode=display\">\\newcommand{\\Bold}[1]{\\mathbf{#1}}\\left(\\begin{array}{rrrrr}\n",
       "0 & 0 & 0 & 0 & 0 \\\\\n",
       "0 & 0 & 1 & 0 & 0 \\\\\n",
       "0 & 0 & 0 & 1 & 0 \\\\\n",
       "0 & 0 & 0 & 0 & 0 \\\\\n",
       "0 & 0 & 0 & 0 & 0\n",
       "\\end{array}\\right)</script></html>"
      ],
      "text/latex": [
       "$$\\newcommand{\\Bold}[1]{\\mathbf{#1}}\\left(\\begin{array}{rrrrr}\n",
       "0 & 0 & 0 & 0 & 0 \\\\\n",
       "0 & 0 & 1 & 0 & 0 \\\\\n",
       "0 & 0 & 0 & 1 & 0 \\\\\n",
       "0 & 0 & 0 & 0 & 0 \\\\\n",
       "0 & 0 & 0 & 0 & 0\n",
       "\\end{array}\\right)$$"
      ],
      "text/plain": [
       "[0 0 0 0 0]\n",
       "[0 0 1 0 0]\n",
       "[0 0 0 1 0]\n",
       "[0 0 0 0 0]\n",
       "[0 0 0 0 0]"
      ]
     },
     "metadata": {},
     "output_type": "display_data"
    },
    {
     "data": {
      "text/html": [
       "<html><script type=\"math/tex; mode=display\">\\newcommand{\\Bold}[1]{\\mathbf{#1}}\\left[\\left\\{d_{1} : r_{1573}, d_{2} : 0, d_{3} : 0, d_{4} : 0, d_{5} : r_{1574}, a_{12} : r_{1575}, a_{13} : r_{1576}, a_{14} : r_{1577}, a_{15} : r_{1578}, a_{23} : r_{1579}, a_{24} : r_{1580}, a_{25} : r_{1581}, a_{34} : r_{1582}, a_{35} : r_{1583}, a_{45} : -\\frac{r_{1574} x_{35}}{x_{34}}\\right\\}, \\left\\{d_{1} : r_{1584}, d_{2} : r_{1585}, d_{3} : \\frac{r_{1585}}{x_{23}}, d_{4} : \\frac{r_{1585}}{x_{23} x_{34}}, d_{5} : r_{1586}, a_{12} : 0, a_{13} : \\frac{r_{1585} x_{14}}{x_{23} x_{34}}, a_{14} : r_{1587}, a_{15} : r_{1588}, a_{23} : r_{1589}, a_{24} : r_{1590}, a_{25} : r_{1591}, a_{34} : \\frac{r_{1589} x_{23} x_{34} - r_{1585} x_{24}}{x_{23}^{2} x_{34}}, a_{35} : -\\frac{r_{1586} x_{25} x_{34} - r_{1586} x_{24} x_{35}}{x_{23} x_{34}}, a_{45} : -\\frac{r_{1586} x_{35}}{x_{34}}\\right\\}\\right]</script></html>"
      ],
      "text/latex": [
       "$$\\newcommand{\\Bold}[1]{\\mathbf{#1}}\\left[\\left\\{d_{1} : r_{1573}, d_{2} : 0, d_{3} : 0, d_{4} : 0, d_{5} : r_{1574}, a_{12} : r_{1575}, a_{13} : r_{1576}, a_{14} : r_{1577}, a_{15} : r_{1578}, a_{23} : r_{1579}, a_{24} : r_{1580}, a_{25} : r_{1581}, a_{34} : r_{1582}, a_{35} : r_{1583}, a_{45} : -\\frac{r_{1574} x_{35}}{x_{34}}\\right\\}, \\left\\{d_{1} : r_{1584}, d_{2} : r_{1585}, d_{3} : \\frac{r_{1585}}{x_{23}}, d_{4} : \\frac{r_{1585}}{x_{23} x_{34}}, d_{5} : r_{1586}, a_{12} : 0, a_{13} : \\frac{r_{1585} x_{14}}{x_{23} x_{34}}, a_{14} : r_{1587}, a_{15} : r_{1588}, a_{23} : r_{1589}, a_{24} : r_{1590}, a_{25} : r_{1591}, a_{34} : \\frac{r_{1589} x_{23} x_{34} - r_{1585} x_{24}}{x_{23}^{2} x_{34}}, a_{35} : -\\frac{r_{1586} x_{25} x_{34} - r_{1586} x_{24} x_{35}}{x_{23} x_{34}}, a_{45} : -\\frac{r_{1586} x_{35}}{x_{34}}\\right\\}\\right]$$"
      ],
      "text/plain": [
       "[{d1: r1573,\n",
       "  d2: 0,\n",
       "  d3: 0,\n",
       "  d4: 0,\n",
       "  d5: r1574,\n",
       "  a12: r1575,\n",
       "  a13: r1576,\n",
       "  a14: r1577,\n",
       "  a15: r1578,\n",
       "  a23: r1579,\n",
       "  a24: r1580,\n",
       "  a25: r1581,\n",
       "  a34: r1582,\n",
       "  a35: r1583,\n",
       "  a45: -r1574*x35/x34},\n",
       " {d1: r1584,\n",
       "  d2: r1585,\n",
       "  d3: r1585/x23,\n",
       "  d4: r1585/(x23*x34),\n",
       "  d5: r1586,\n",
       "  a12: 0,\n",
       "  a13: r1585*x14/(x23*x34),\n",
       "  a14: r1587,\n",
       "  a15: r1588,\n",
       "  a23: r1589,\n",
       "  a24: r1590,\n",
       "  a25: r1591,\n",
       "  a34: (r1589*x23*x34 - r1585*x24)/(x23^2*x34),\n",
       "  a35: -(r1586*x25*x34 - r1586*x24*x35)/(x23*x34),\n",
       "  a45: -r1586*x35/x34}]"
      ]
     },
     "metadata": {},
     "output_type": "display_data"
    },
    {
     "data": {
      "text/plain": [
       "\\left[\\left\\{d_{1} : r_{1573}, d_{2} : 0, d_{3} : 0, d_{4} : 0, d_{5} : r_{1574}, a_{12} : r_{1575}, a_{13} : r_{1576}, a_{14} : r_{1577}, a_{15} : r_{1578}, a_{23} : r_{1579}, a_{24} : r_{1580}, a_{25} : r_{1581}, a_{34} : r_{1582}, a_{35} : r_{1583}, a_{45} : -\\frac{r_{1574} x_{35}}{x_{34}}\\right\\}, \\left\\{d_{1} : r_{1584}, d_{2} : r_{1585}, d_{3} : \\frac{r_{1585}}{x_{23}}, d_{4} : \\frac{r_{1585}}{x_{23} x_{34}}, d_{5} : r_{1586}, a_{12} : 0, a_{13} : \\frac{r_{1585} x_{14}}{x_{23} x_{34}}, a_{14} : r_{1587}, a_{15} : r_{1588}, a_{23} : r_{1589}, a_{24} : r_{1590}, a_{25} : r_{1591}, a_{34} : \\frac{r_{1589} x_{23} x_{34} - r_{1585} x_{24}}{x_{23}^{2} x_{34}}, a_{35} : -\\frac{r_{1586} x_{25} x_{34} - r_{1586} x_{24} x_{35}}{x_{23} x_{34}}, a_{45} : -\\frac{r_{1586} x_{35}}{x_{34}}\\right\\}\\right]"
      ]
     },
     "execution_count": 87,
     "metadata": {},
     "output_type": "execute_result"
    }
   ],
   "source": [
    "#x6\n",
    "#----------------------\n",
    "#x15 = x14*x35/x34\n",
    "#----------------------\n",
    "reset()\n",
    "\n",
    "var('x12,x13,x14,x15,x23,x24,x25,x34,x35,x45')\n",
    "var('d1,d2,d3,d4,d5')\n",
    "var('a12,a13,a14,a15,a23,a24,a25,a34,a35,a45')\n",
    "\n",
    "#111011\n",
    "eq1=(d2*d3*0-a12*d3*x23)/(d1*d2) \n",
    "eq2=(a34*d2*d3*0+d2*d3*d4*x14-a12*a34*d3*x23-a12*d3*d4*x24+a12*a23*d4*x34-a13*d2*d4*x34)/(d1*d2*d3) \n",
    "eq3=(a35*d2*d3*0+a45*d2*d3*x14+d2*d3*d5*((x14*x35)/x34)-a12*a35*d3*x23-a12*a45*d3*x24-a12*d3*d5*x25+a12*a23*a45*x34-a13*a45*d2*x34+a12*a23*d5*x35-a13*d2*d5*x35)/(d1*d2*d3) \n",
    "eq4=(d3*x23)/(d2) \n",
    "eq5=(a34*d3*x23+d3*d4*x24-a23*d4*x34)/(d2*d3) \n",
    "eq6=(a35*d3*x23+a45*d3*x24+d3*d5*x25-a23*a45*x34-a23*d5*x35)/(d2*d3) \n",
    "eq7=(d4*x34)/(d3) \n",
    "eq8=(a45*x34+d5*x35)/(d3) \n",
    "\n",
    "m=matrix(QQ, [[0, 0, 0, 0, 0],\n",
    "              [0, 0, 1, 0, 0],\n",
    "              [0, 0, 0, 1, 0],\n",
    "              [0, 0, 0, 0, 0],\n",
    "              [0, 0, 0, 0, 0]])\n",
    "        \n",
    "#entry of matrix: (i,j) line i collum j, means (i-1,j-1)\n",
    "sol=solve([ eq1==m[0,2],\teq2==m[0,3],\teq3==m[0,4],\teq4==m[1,2],\t\n",
    "                                            eq5==m[1,3],    eq6==m[1,4],\n",
    "                                                            eq7==m[2,3], eq8==m[2,4]],d1,d2,d3,d4,d5,a12,a13,a14,a15,a23,a24,a25,a34,a35,a45, solution_dict=True)\n",
    "\n",
    "show(m)\n",
    "show(sol)\n",
    "latex(sol)"
   ]
  },
  {
   "cell_type": "code",
   "execution_count": 88,
   "metadata": {},
   "outputs": [
    {
     "data": {
      "text/html": [
       "<html><script type=\"math/tex; mode=display\">\\newcommand{\\Bold}[1]{\\mathbf{#1}}\\left(\\begin{array}{rrrrr}\n",
       "0 & 0 & 0 & 0 & 1 \\\\\n",
       "0 & 0 & 1 & 0 & 0 \\\\\n",
       "0 & 0 & 0 & 1 & 0 \\\\\n",
       "0 & 0 & 0 & 0 & 0 \\\\\n",
       "0 & 0 & 0 & 0 & 0\n",
       "\\end{array}\\right)</script></html>"
      ],
      "text/latex": [
       "$$\\newcommand{\\Bold}[1]{\\mathbf{#1}}\\left(\\begin{array}{rrrrr}\n",
       "0 & 0 & 0 & 0 & 1 \\\\\n",
       "0 & 0 & 1 & 0 & 0 \\\\\n",
       "0 & 0 & 0 & 1 & 0 \\\\\n",
       "0 & 0 & 0 & 0 & 0 \\\\\n",
       "0 & 0 & 0 & 0 & 0\n",
       "\\end{array}\\right)$$"
      ],
      "text/plain": [
       "[0 0 0 0 1]\n",
       "[0 0 1 0 0]\n",
       "[0 0 0 1 0]\n",
       "[0 0 0 0 0]\n",
       "[0 0 0 0 0]"
      ]
     },
     "metadata": {},
     "output_type": "display_data"
    },
    {
     "data": {
      "text/html": [
       "<html><script type=\"math/tex; mode=display\">\\newcommand{\\Bold}[1]{\\mathbf{#1}}\\left[\\left\\{d_{1} : r_{1592}, d_{2} : 0, d_{3} : 0, d_{4} : 0, d_{5} : r_{1593}, a_{12} : r_{1594}, a_{13} : r_{1595}, a_{14} : r_{1596}, a_{15} : r_{1597}, a_{23} : r_{1598}, a_{24} : r_{1599}, a_{25} : r_{1600}, a_{34} : r_{1601}, a_{35} : r_{1602}, a_{45} : -\\frac{r_{1593} x_{35}}{x_{34}}\\right\\}, \\left\\{d_{1} : r_{1603}, d_{2} : r_{1604}, d_{3} : \\frac{r_{1604}}{x_{23}}, d_{4} : \\frac{r_{1604}}{x_{23} x_{34}}, d_{5} : -\\frac{r_{1603} x_{23} x_{34}}{x_{13} x_{25} x_{34} - x_{13} x_{24} x_{35}}, a_{12} : \\frac{r_{1604} x_{13}}{x_{23}}, a_{13} : r_{1605}, a_{14} : r_{1606}, a_{15} : r_{1607}, a_{23} : \\frac{r_{1605} x_{23}^{2} x_{34} + r_{1604} x_{13} x_{24}}{x_{13} x_{23} x_{34}}, a_{24} : r_{1608}, a_{25} : r_{1609}, a_{34} : \\frac{r_{1605}}{x_{13}}, a_{35} : \\frac{r_{1603}}{x_{13}}, a_{45} : \\frac{r_{1603} x_{23} x_{35}}{x_{13} x_{25} x_{34} - x_{13} x_{24} x_{35}}\\right\\}\\right]</script></html>"
      ],
      "text/latex": [
       "$$\\newcommand{\\Bold}[1]{\\mathbf{#1}}\\left[\\left\\{d_{1} : r_{1592}, d_{2} : 0, d_{3} : 0, d_{4} : 0, d_{5} : r_{1593}, a_{12} : r_{1594}, a_{13} : r_{1595}, a_{14} : r_{1596}, a_{15} : r_{1597}, a_{23} : r_{1598}, a_{24} : r_{1599}, a_{25} : r_{1600}, a_{34} : r_{1601}, a_{35} : r_{1602}, a_{45} : -\\frac{r_{1593} x_{35}}{x_{34}}\\right\\}, \\left\\{d_{1} : r_{1603}, d_{2} : r_{1604}, d_{3} : \\frac{r_{1604}}{x_{23}}, d_{4} : \\frac{r_{1604}}{x_{23} x_{34}}, d_{5} : -\\frac{r_{1603} x_{23} x_{34}}{x_{13} x_{25} x_{34} - x_{13} x_{24} x_{35}}, a_{12} : \\frac{r_{1604} x_{13}}{x_{23}}, a_{13} : r_{1605}, a_{14} : r_{1606}, a_{15} : r_{1607}, a_{23} : \\frac{r_{1605} x_{23}^{2} x_{34} + r_{1604} x_{13} x_{24}}{x_{13} x_{23} x_{34}}, a_{24} : r_{1608}, a_{25} : r_{1609}, a_{34} : \\frac{r_{1605}}{x_{13}}, a_{35} : \\frac{r_{1603}}{x_{13}}, a_{45} : \\frac{r_{1603} x_{23} x_{35}}{x_{13} x_{25} x_{34} - x_{13} x_{24} x_{35}}\\right\\}\\right]$$"
      ],
      "text/plain": [
       "[{d1: r1592,\n",
       "  d2: 0,\n",
       "  d3: 0,\n",
       "  d4: 0,\n",
       "  d5: r1593,\n",
       "  a12: r1594,\n",
       "  a13: r1595,\n",
       "  a14: r1596,\n",
       "  a15: r1597,\n",
       "  a23: r1598,\n",
       "  a24: r1599,\n",
       "  a25: r1600,\n",
       "  a34: r1601,\n",
       "  a35: r1602,\n",
       "  a45: -r1593*x35/x34},\n",
       " {d1: r1603,\n",
       "  d2: r1604,\n",
       "  d3: r1604/x23,\n",
       "  d4: r1604/(x23*x34),\n",
       "  d5: -r1603*x23*x34/(x13*x25*x34 - x13*x24*x35),\n",
       "  a12: r1604*x13/x23,\n",
       "  a13: r1605,\n",
       "  a14: r1606,\n",
       "  a15: r1607,\n",
       "  a23: (r1605*x23^2*x34 + r1604*x13*x24)/(x13*x23*x34),\n",
       "  a24: r1608,\n",
       "  a25: r1609,\n",
       "  a34: r1605/x13,\n",
       "  a35: r1603/x13,\n",
       "  a45: r1603*x23*x35/(x13*x25*x34 - x13*x24*x35)}]"
      ]
     },
     "metadata": {},
     "output_type": "display_data"
    },
    {
     "data": {
      "text/plain": [
       "\\left[\\left\\{d_{1} : r_{1592}, d_{2} : 0, d_{3} : 0, d_{4} : 0, d_{5} : r_{1593}, a_{12} : r_{1594}, a_{13} : r_{1595}, a_{14} : r_{1596}, a_{15} : r_{1597}, a_{23} : r_{1598}, a_{24} : r_{1599}, a_{25} : r_{1600}, a_{34} : r_{1601}, a_{35} : r_{1602}, a_{45} : -\\frac{r_{1593} x_{35}}{x_{34}}\\right\\}, \\left\\{d_{1} : r_{1603}, d_{2} : r_{1604}, d_{3} : \\frac{r_{1604}}{x_{23}}, d_{4} : \\frac{r_{1604}}{x_{23} x_{34}}, d_{5} : -\\frac{r_{1603} x_{23} x_{34}}{x_{13} x_{25} x_{34} - x_{13} x_{24} x_{35}}, a_{12} : \\frac{r_{1604} x_{13}}{x_{23}}, a_{13} : r_{1605}, a_{14} : r_{1606}, a_{15} : r_{1607}, a_{23} : \\frac{r_{1605} x_{23}^{2} x_{34} + r_{1604} x_{13} x_{24}}{x_{13} x_{23} x_{34}}, a_{24} : r_{1608}, a_{25} : r_{1609}, a_{34} : \\frac{r_{1605}}{x_{13}}, a_{35} : \\frac{r_{1603}}{x_{13}}, a_{45} : \\frac{r_{1603} x_{23} x_{35}}{x_{13} x_{25} x_{34} - x_{13} x_{24} x_{35}}\\right\\}\\right]"
      ]
     },
     "execution_count": 88,
     "metadata": {},
     "output_type": "execute_result"
    }
   ],
   "source": [
    "#x6\n",
    "#----------------------\n",
    "#x25 \\dif x24*x35/x34\n",
    "#----------------------\n",
    "reset()\n",
    "\n",
    "var('x12,x13,x14,x15,x23,x24,x25,x34,x35,x45')\n",
    "var('d1,d2,d3,d4,d5')\n",
    "var('a12,a13,a14,a15,a23,a24,a25,a34,a35,a45')\n",
    "\n",
    "load_attach_path('C:\\\\Users\\\\julia\\\\Documents\\\\unb\\\\doutorado\\\\pensar\\\\codigo_sage_v2\\\\maquina\\\\x6')\n",
    "load('out_#111100.sage')\n",
    "\n",
    "m=matrix(QQ, [[0, 0, 0, 0, 1],\n",
    "              [0, 0, 1, 0, 0],\n",
    "              [0, 0, 0, 1, 0],\n",
    "              [0, 0, 0, 0, 0],\n",
    "              [0, 0, 0, 0, 0]])\n",
    "        \n",
    "#entry of matrix: (i,j) line i collum j, means (i-1,j-1)\n",
    "sol=solve([ eq1==m[0,2],\teq2==m[0,3],\teq3==m[0,4],\teq4==m[1,2],\t\n",
    "                                            eq5==m[1,3],    eq6==m[1,4],\n",
    "                                                            eq7==m[2,3], eq8==m[2,4]],d1,d2,d3,d4,d5,a12,a13,a14,a15,a23,a24,a25,a34,a35,a45, solution_dict=True)\n",
    "\n",
    "show(m)\n",
    "show(sol)\n",
    "latex(sol)"
   ]
  },
  {
   "cell_type": "code",
   "execution_count": 89,
   "metadata": {},
   "outputs": [
    {
     "data": {
      "text/html": [
       "<html><script type=\"math/tex; mode=display\">\\newcommand{\\Bold}[1]{\\mathbf{#1}}\\left(\\begin{array}{rrrrr}\n",
       "0 & 0 & 0 & 0 & 0 \\\\\n",
       "0 & 0 & 1 & 0 & 0 \\\\\n",
       "0 & 0 & 0 & 1 & 0 \\\\\n",
       "0 & 0 & 0 & 0 & 0 \\\\\n",
       "0 & 0 & 0 & 0 & 0\n",
       "\\end{array}\\right)</script></html>"
      ],
      "text/latex": [
       "$$\\newcommand{\\Bold}[1]{\\mathbf{#1}}\\left(\\begin{array}{rrrrr}\n",
       "0 & 0 & 0 & 0 & 0 \\\\\n",
       "0 & 0 & 1 & 0 & 0 \\\\\n",
       "0 & 0 & 0 & 1 & 0 \\\\\n",
       "0 & 0 & 0 & 0 & 0 \\\\\n",
       "0 & 0 & 0 & 0 & 0\n",
       "\\end{array}\\right)$$"
      ],
      "text/plain": [
       "[0 0 0 0 0]\n",
       "[0 0 1 0 0]\n",
       "[0 0 0 1 0]\n",
       "[0 0 0 0 0]\n",
       "[0 0 0 0 0]"
      ]
     },
     "metadata": {},
     "output_type": "display_data"
    },
    {
     "data": {
      "text/html": [
       "<html><script type=\"math/tex; mode=display\">\\newcommand{\\Bold}[1]{\\mathbf{#1}}\\left[\\left\\{d_{1} : r_{1610}, d_{2} : 0, d_{3} : 0, d_{4} : 0, d_{5} : r_{1611}, a_{12} : r_{1612}, a_{13} : r_{1613}, a_{14} : r_{1614}, a_{15} : r_{1615}, a_{23} : r_{1616}, a_{24} : r_{1617}, a_{25} : r_{1618}, a_{34} : r_{1619}, a_{35} : r_{1620}, a_{45} : -\\frac{r_{1611} x_{35}}{x_{34}}\\right\\}, \\left\\{d_{1} : r_{1621}, d_{2} : r_{1622}, d_{3} : \\frac{r_{1622}}{x_{23}}, d_{4} : \\frac{r_{1622}}{x_{23} x_{34}}, d_{5} : r_{1623}, a_{12} : \\frac{r_{1622} x_{13}}{x_{23}}, a_{13} : r_{1624}, a_{14} : r_{1625}, a_{15} : r_{1626}, a_{23} : \\frac{r_{1624} x_{23}^{2} x_{34} + r_{1622} x_{13} x_{24}}{x_{13} x_{23} x_{34}}, a_{24} : r_{1627}, a_{25} : r_{1628}, a_{34} : \\frac{r_{1624}}{x_{13}}, a_{35} : 0, a_{45} : -\\frac{r_{1623} x_{35}}{x_{34}}\\right\\}\\right]</script></html>"
      ],
      "text/latex": [
       "$$\\newcommand{\\Bold}[1]{\\mathbf{#1}}\\left[\\left\\{d_{1} : r_{1610}, d_{2} : 0, d_{3} : 0, d_{4} : 0, d_{5} : r_{1611}, a_{12} : r_{1612}, a_{13} : r_{1613}, a_{14} : r_{1614}, a_{15} : r_{1615}, a_{23} : r_{1616}, a_{24} : r_{1617}, a_{25} : r_{1618}, a_{34} : r_{1619}, a_{35} : r_{1620}, a_{45} : -\\frac{r_{1611} x_{35}}{x_{34}}\\right\\}, \\left\\{d_{1} : r_{1621}, d_{2} : r_{1622}, d_{3} : \\frac{r_{1622}}{x_{23}}, d_{4} : \\frac{r_{1622}}{x_{23} x_{34}}, d_{5} : r_{1623}, a_{12} : \\frac{r_{1622} x_{13}}{x_{23}}, a_{13} : r_{1624}, a_{14} : r_{1625}, a_{15} : r_{1626}, a_{23} : \\frac{r_{1624} x_{23}^{2} x_{34} + r_{1622} x_{13} x_{24}}{x_{13} x_{23} x_{34}}, a_{24} : r_{1627}, a_{25} : r_{1628}, a_{34} : \\frac{r_{1624}}{x_{13}}, a_{35} : 0, a_{45} : -\\frac{r_{1623} x_{35}}{x_{34}}\\right\\}\\right]$$"
      ],
      "text/plain": [
       "[{d1: r1610,\n",
       "  d2: 0,\n",
       "  d3: 0,\n",
       "  d4: 0,\n",
       "  d5: r1611,\n",
       "  a12: r1612,\n",
       "  a13: r1613,\n",
       "  a14: r1614,\n",
       "  a15: r1615,\n",
       "  a23: r1616,\n",
       "  a24: r1617,\n",
       "  a25: r1618,\n",
       "  a34: r1619,\n",
       "  a35: r1620,\n",
       "  a45: -r1611*x35/x34},\n",
       " {d1: r1621,\n",
       "  d2: r1622,\n",
       "  d3: r1622/x23,\n",
       "  d4: r1622/(x23*x34),\n",
       "  d5: r1623,\n",
       "  a12: r1622*x13/x23,\n",
       "  a13: r1624,\n",
       "  a14: r1625,\n",
       "  a15: r1626,\n",
       "  a23: (r1624*x23^2*x34 + r1622*x13*x24)/(x13*x23*x34),\n",
       "  a24: r1627,\n",
       "  a25: r1628,\n",
       "  a34: r1624/x13,\n",
       "  a35: 0,\n",
       "  a45: -r1623*x35/x34}]"
      ]
     },
     "metadata": {},
     "output_type": "display_data"
    },
    {
     "data": {
      "text/plain": [
       "\\left[\\left\\{d_{1} : r_{1610}, d_{2} : 0, d_{3} : 0, d_{4} : 0, d_{5} : r_{1611}, a_{12} : r_{1612}, a_{13} : r_{1613}, a_{14} : r_{1614}, a_{15} : r_{1615}, a_{23} : r_{1616}, a_{24} : r_{1617}, a_{25} : r_{1618}, a_{34} : r_{1619}, a_{35} : r_{1620}, a_{45} : -\\frac{r_{1611} x_{35}}{x_{34}}\\right\\}, \\left\\{d_{1} : r_{1621}, d_{2} : r_{1622}, d_{3} : \\frac{r_{1622}}{x_{23}}, d_{4} : \\frac{r_{1622}}{x_{23} x_{34}}, d_{5} : r_{1623}, a_{12} : \\frac{r_{1622} x_{13}}{x_{23}}, a_{13} : r_{1624}, a_{14} : r_{1625}, a_{15} : r_{1626}, a_{23} : \\frac{r_{1624} x_{23}^{2} x_{34} + r_{1622} x_{13} x_{24}}{x_{13} x_{23} x_{34}}, a_{24} : r_{1627}, a_{25} : r_{1628}, a_{34} : \\frac{r_{1624}}{x_{13}}, a_{35} : 0, a_{45} : -\\frac{r_{1623} x_{35}}{x_{34}}\\right\\}\\right]"
      ]
     },
     "execution_count": 89,
     "metadata": {},
     "output_type": "execute_result"
    }
   ],
   "source": [
    "#x6\n",
    "#----------------------\n",
    "#x25 = x24*x35/x34\n",
    "#----------------------\n",
    "reset()\n",
    "\n",
    "var('x12,x13,x14,x15,x23,x24,x25,x34,x35,x45')\n",
    "var('d1,d2,d3,d4,d5')\n",
    "var('a12,a13,a14,a15,a23,a24,a25,a34,a35,a45')\n",
    "\n",
    "#111100\n",
    "eq1=(d2*d3*x13-a12*d3*x23)/(d1*d2) \n",
    "eq2=(a34*d2*d3*x13+d2*d3*d4*0-a12*a34*d3*x23-a12*d3*d4*x24+a12*a23*d4*x34-a13*d2*d4*x34)/(d1*d2*d3) \n",
    "eq3=(a35*d2*d3*x13+a45*d2*d3*0+d2*d3*d5*0-a12*a35*d3*x23-a12*a45*d3*x24-a12*d3*d5*((x24*x35)/x34)+a12*a23*a45*x34-a13*a45*d2*x34+a12*a23*d5*x35-a13*d2*d5*x35)/(d1*d2*d3) \n",
    "eq4=(d3*x23)/(d2) \n",
    "eq5=(a34*d3*x23+d3*d4*x24-a23*d4*x34)/(d2*d3) \n",
    "eq6=(a35*d3*x23+a45*d3*x24+d3*d5*((x24*x35)/x34)-a23*a45*x34-a23*d5*x35)/(d2*d3) \n",
    "eq7=(d4*x34)/(d3) \n",
    "eq8=(a45*x34+d5*x35)/(d3) \n",
    "\n",
    "m=matrix(QQ, [[0, 0, 0, 0, 0],\n",
    "              [0, 0, 1, 0, 0],\n",
    "              [0, 0, 0, 1, 0],\n",
    "              [0, 0, 0, 0, 0],\n",
    "              [0, 0, 0, 0, 0]])\n",
    "        \n",
    "#entry of matrix: (i,j) line i collum j, means (i-1,j-1)\n",
    "sol=solve([ eq1==m[0,2],\teq2==m[0,3],\teq3==m[0,4],\teq4==m[1,2],\t\n",
    "                                            eq5==m[1,3],    eq6==m[1,4],\n",
    "                                                            eq7==m[2,3], eq8==m[2,4]],d1,d2,d3,d4,d5,a12,a13,a14,a15,a23,a24,a25,a34,a35,a45, solution_dict=True)\n",
    "\n",
    "show(m)\n",
    "show(sol)\n",
    "latex(sol)"
   ]
  },
  {
   "cell_type": "code",
   "execution_count": 90,
   "metadata": {},
   "outputs": [
    {
     "data": {
      "text/html": [
       "<html><script type=\"math/tex; mode=display\">\\newcommand{\\Bold}[1]{\\mathbf{#1}}\\left(\\begin{array}{rrrrr}\n",
       "0 & 0 & 0 & 0 & 1 \\\\\n",
       "0 & 0 & 1 & 0 & 0 \\\\\n",
       "0 & 0 & 0 & 1 & 0 \\\\\n",
       "0 & 0 & 0 & 0 & 0 \\\\\n",
       "0 & 0 & 0 & 0 & 0\n",
       "\\end{array}\\right)</script></html>"
      ],
      "text/latex": [
       "$$\\newcommand{\\Bold}[1]{\\mathbf{#1}}\\left(\\begin{array}{rrrrr}\n",
       "0 & 0 & 0 & 0 & 1 \\\\\n",
       "0 & 0 & 1 & 0 & 0 \\\\\n",
       "0 & 0 & 0 & 1 & 0 \\\\\n",
       "0 & 0 & 0 & 0 & 0 \\\\\n",
       "0 & 0 & 0 & 0 & 0\n",
       "\\end{array}\\right)$$"
      ],
      "text/plain": [
       "[0 0 0 0 1]\n",
       "[0 0 1 0 0]\n",
       "[0 0 0 1 0]\n",
       "[0 0 0 0 0]\n",
       "[0 0 0 0 0]"
      ]
     },
     "metadata": {},
     "output_type": "display_data"
    },
    {
     "data": {
      "text/html": [
       "<html><script type=\"math/tex; mode=display\">\\newcommand{\\Bold}[1]{\\mathbf{#1}}\\left[\\left\\{d_{1} : r_{1629}, d_{2} : 0, d_{3} : 0, d_{4} : 0, d_{5} : r_{1630}, a_{12} : r_{1631}, a_{13} : r_{1632}, a_{14} : r_{1633}, a_{15} : r_{1634}, a_{23} : r_{1635}, a_{24} : r_{1636}, a_{25} : r_{1637}, a_{34} : r_{1638}, a_{35} : r_{1639}, a_{45} : -\\frac{r_{1630} x_{35}}{x_{34}}\\right\\}, \\left\\{d_{1} : r_{1640}, d_{2} : r_{1641}, d_{3} : \\frac{r_{1641}}{x_{23}}, d_{4} : \\frac{r_{1641}}{x_{23} x_{34}}, d_{5} : \\frac{r_{1640} x_{23} x_{34}}{x_{13} x_{24} x_{35} + {\\left(x_{15} x_{23} - x_{13} x_{25}\\right)} x_{34}}, a_{12} : \\frac{r_{1641} x_{13}}{x_{23}}, a_{13} : r_{1642}, a_{14} : r_{1643}, a_{15} : r_{1644}, a_{23} : \\frac{r_{1642} x_{23}^{2} x_{34} + r_{1641} x_{13} x_{24}}{x_{13} x_{23} x_{34}}, a_{24} : r_{1645}, a_{25} : r_{1646}, a_{34} : \\frac{r_{1642}}{x_{13}}, a_{35} : -\\frac{r_{1640} x_{25} x_{34} - r_{1640} x_{24} x_{35}}{x_{13} x_{24} x_{35} + {\\left(x_{15} x_{23} - x_{13} x_{25}\\right)} x_{34}}, a_{45} : -\\frac{r_{1640} x_{23} x_{35}}{x_{13} x_{24} x_{35} + {\\left(x_{15} x_{23} - x_{13} x_{25}\\right)} x_{34}}\\right\\}\\right]</script></html>"
      ],
      "text/latex": [
       "$$\\newcommand{\\Bold}[1]{\\mathbf{#1}}\\left[\\left\\{d_{1} : r_{1629}, d_{2} : 0, d_{3} : 0, d_{4} : 0, d_{5} : r_{1630}, a_{12} : r_{1631}, a_{13} : r_{1632}, a_{14} : r_{1633}, a_{15} : r_{1634}, a_{23} : r_{1635}, a_{24} : r_{1636}, a_{25} : r_{1637}, a_{34} : r_{1638}, a_{35} : r_{1639}, a_{45} : -\\frac{r_{1630} x_{35}}{x_{34}}\\right\\}, \\left\\{d_{1} : r_{1640}, d_{2} : r_{1641}, d_{3} : \\frac{r_{1641}}{x_{23}}, d_{4} : \\frac{r_{1641}}{x_{23} x_{34}}, d_{5} : \\frac{r_{1640} x_{23} x_{34}}{x_{13} x_{24} x_{35} + {\\left(x_{15} x_{23} - x_{13} x_{25}\\right)} x_{34}}, a_{12} : \\frac{r_{1641} x_{13}}{x_{23}}, a_{13} : r_{1642}, a_{14} : r_{1643}, a_{15} : r_{1644}, a_{23} : \\frac{r_{1642} x_{23}^{2} x_{34} + r_{1641} x_{13} x_{24}}{x_{13} x_{23} x_{34}}, a_{24} : r_{1645}, a_{25} : r_{1646}, a_{34} : \\frac{r_{1642}}{x_{13}}, a_{35} : -\\frac{r_{1640} x_{25} x_{34} - r_{1640} x_{24} x_{35}}{x_{13} x_{24} x_{35} + {\\left(x_{15} x_{23} - x_{13} x_{25}\\right)} x_{34}}, a_{45} : -\\frac{r_{1640} x_{23} x_{35}}{x_{13} x_{24} x_{35} + {\\left(x_{15} x_{23} - x_{13} x_{25}\\right)} x_{34}}\\right\\}\\right]$$"
      ],
      "text/plain": [
       "[{d1: r1629,\n",
       "  d2: 0,\n",
       "  d3: 0,\n",
       "  d4: 0,\n",
       "  d5: r1630,\n",
       "  a12: r1631,\n",
       "  a13: r1632,\n",
       "  a14: r1633,\n",
       "  a15: r1634,\n",
       "  a23: r1635,\n",
       "  a24: r1636,\n",
       "  a25: r1637,\n",
       "  a34: r1638,\n",
       "  a35: r1639,\n",
       "  a45: -r1630*x35/x34},\n",
       " {d1: r1640,\n",
       "  d2: r1641,\n",
       "  d3: r1641/x23,\n",
       "  d4: r1641/(x23*x34),\n",
       "  d5: r1640*x23*x34/(x13*x24*x35 + (x15*x23 - x13*x25)*x34),\n",
       "  a12: r1641*x13/x23,\n",
       "  a13: r1642,\n",
       "  a14: r1643,\n",
       "  a15: r1644,\n",
       "  a23: (r1642*x23^2*x34 + r1641*x13*x24)/(x13*x23*x34),\n",
       "  a24: r1645,\n",
       "  a25: r1646,\n",
       "  a34: r1642/x13,\n",
       "  a35: -(r1640*x25*x34 - r1640*x24*x35)/(x13*x24*x35 + (x15*x23 - x13*x25)*x34),\n",
       "  a45: -r1640*x23*x35/(x13*x24*x35 + (x15*x23 - x13*x25)*x34)}]"
      ]
     },
     "metadata": {},
     "output_type": "display_data"
    },
    {
     "data": {
      "text/plain": [
       "\\left[\\left\\{d_{1} : r_{1629}, d_{2} : 0, d_{3} : 0, d_{4} : 0, d_{5} : r_{1630}, a_{12} : r_{1631}, a_{13} : r_{1632}, a_{14} : r_{1633}, a_{15} : r_{1634}, a_{23} : r_{1635}, a_{24} : r_{1636}, a_{25} : r_{1637}, a_{34} : r_{1638}, a_{35} : r_{1639}, a_{45} : -\\frac{r_{1630} x_{35}}{x_{34}}\\right\\}, \\left\\{d_{1} : r_{1640}, d_{2} : r_{1641}, d_{3} : \\frac{r_{1641}}{x_{23}}, d_{4} : \\frac{r_{1641}}{x_{23} x_{34}}, d_{5} : \\frac{r_{1640} x_{23} x_{34}}{x_{13} x_{24} x_{35} + {\\left(x_{15} x_{23} - x_{13} x_{25}\\right)} x_{34}}, a_{12} : \\frac{r_{1641} x_{13}}{x_{23}}, a_{13} : r_{1642}, a_{14} : r_{1643}, a_{15} : r_{1644}, a_{23} : \\frac{r_{1642} x_{23}^{2} x_{34} + r_{1641} x_{13} x_{24}}{x_{13} x_{23} x_{34}}, a_{24} : r_{1645}, a_{25} : r_{1646}, a_{34} : \\frac{r_{1642}}{x_{13}}, a_{35} : -\\frac{r_{1640} x_{25} x_{34} - r_{1640} x_{24} x_{35}}{x_{13} x_{24} x_{35} + {\\left(x_{15} x_{23} - x_{13} x_{25}\\right)} x_{34}}, a_{45} : -\\frac{r_{1640} x_{23} x_{35}}{x_{13} x_{24} x_{35} + {\\left(x_{15} x_{23} - x_{13} x_{25}\\right)} x_{34}}\\right\\}\\right]"
      ]
     },
     "execution_count": 90,
     "metadata": {},
     "output_type": "execute_result"
    }
   ],
   "source": [
    "#x6\n",
    "#----------------------\n",
    "#x15\\dif((-x24*x35+x34*x25)*x13)/(x23*x34)\n",
    "#----------------------\n",
    "reset()\n",
    "\n",
    "var('x12,x13,x14,x15,x23,x24,x25,x34,x35,x45')\n",
    "var('d1,d2,d3,d4,d5')\n",
    "var('a12,a13,a14,a15,a23,a24,a25,a34,a35,a45')\n",
    "\n",
    "load_attach_path('C:\\\\Users\\\\julia\\\\Documents\\\\unb\\\\doutorado\\\\pensar\\\\codigo_sage_v2\\\\maquina\\\\x6')\n",
    "load('out_#111101.sage')\n",
    "\n",
    "m=matrix(QQ, [[0, 0, 0, 0, 1],\n",
    "              [0, 0, 1, 0, 0],\n",
    "              [0, 0, 0, 1, 0],\n",
    "              [0, 0, 0, 0, 0],\n",
    "              [0, 0, 0, 0, 0]])\n",
    "        \n",
    "#entry of matrix: (i,j) line i collum j, means (i-1,j-1)\n",
    "sol=solve([ eq1==m[0,2],\teq2==m[0,3],\teq3==m[0,4],\teq4==m[1,2],\t\n",
    "                                            eq5==m[1,3],    eq6==m[1,4],\n",
    "                                                            eq7==m[2,3], eq8==m[2,4]],d1,d2,d3,d4,d5,a12,a13,a14,a15,a23,a24,a25,a34,a35,a45, solution_dict=True)\n",
    "\n",
    "show(m)\n",
    "show(sol)\n",
    "latex(sol)"
   ]
  },
  {
   "cell_type": "code",
   "execution_count": 91,
   "metadata": {},
   "outputs": [
    {
     "data": {
      "text/html": [
       "<html><script type=\"math/tex; mode=display\">\\newcommand{\\Bold}[1]{\\mathbf{#1}}\\left(\\begin{array}{rrrrr}\n",
       "0 & 0 & 0 & 0 & 0 \\\\\n",
       "0 & 0 & 1 & 0 & 0 \\\\\n",
       "0 & 0 & 0 & 1 & 0 \\\\\n",
       "0 & 0 & 0 & 0 & 0 \\\\\n",
       "0 & 0 & 0 & 0 & 0\n",
       "\\end{array}\\right)</script></html>"
      ],
      "text/latex": [
       "$$\\newcommand{\\Bold}[1]{\\mathbf{#1}}\\left(\\begin{array}{rrrrr}\n",
       "0 & 0 & 0 & 0 & 0 \\\\\n",
       "0 & 0 & 1 & 0 & 0 \\\\\n",
       "0 & 0 & 0 & 1 & 0 \\\\\n",
       "0 & 0 & 0 & 0 & 0 \\\\\n",
       "0 & 0 & 0 & 0 & 0\n",
       "\\end{array}\\right)$$"
      ],
      "text/plain": [
       "[0 0 0 0 0]\n",
       "[0 0 1 0 0]\n",
       "[0 0 0 1 0]\n",
       "[0 0 0 0 0]\n",
       "[0 0 0 0 0]"
      ]
     },
     "metadata": {},
     "output_type": "display_data"
    },
    {
     "data": {
      "text/html": [
       "<html><script type=\"math/tex; mode=display\">\\newcommand{\\Bold}[1]{\\mathbf{#1}}\\left[\\left\\{d_{1} : r_{1647}, d_{2} : 0, d_{3} : 0, d_{4} : 0, d_{5} : r_{1648}, a_{12} : r_{1649}, a_{13} : r_{1650}, a_{14} : r_{1651}, a_{15} : r_{1652}, a_{23} : r_{1653}, a_{24} : r_{1654}, a_{25} : r_{1655}, a_{34} : r_{1656}, a_{35} : r_{1657}, a_{45} : -\\frac{r_{1648} x_{35}}{x_{34}}\\right\\}, \\left\\{d_{1} : r_{1658}, d_{2} : r_{1659}, d_{3} : \\frac{r_{1659}}{x_{23}}, d_{4} : \\frac{r_{1659}}{x_{23} x_{34}}, d_{5} : r_{1660}, a_{12} : \\frac{r_{1659} x_{13}}{x_{23}}, a_{13} : r_{1661}, a_{14} : r_{1662}, a_{15} : r_{1663}, a_{23} : \\frac{r_{1661} x_{23}^{2} x_{34} + r_{1659} x_{13} x_{24}}{x_{13} x_{23} x_{34}}, a_{24} : r_{1664}, a_{25} : r_{1665}, a_{34} : \\frac{r_{1661}}{x_{13}}, a_{35} : -\\frac{r_{1660} x_{25} x_{34} - r_{1660} x_{24} x_{35}}{x_{23} x_{34}}, a_{45} : -\\frac{r_{1660} x_{35}}{x_{34}}\\right\\}\\right]</script></html>"
      ],
      "text/latex": [
       "$$\\newcommand{\\Bold}[1]{\\mathbf{#1}}\\left[\\left\\{d_{1} : r_{1647}, d_{2} : 0, d_{3} : 0, d_{4} : 0, d_{5} : r_{1648}, a_{12} : r_{1649}, a_{13} : r_{1650}, a_{14} : r_{1651}, a_{15} : r_{1652}, a_{23} : r_{1653}, a_{24} : r_{1654}, a_{25} : r_{1655}, a_{34} : r_{1656}, a_{35} : r_{1657}, a_{45} : -\\frac{r_{1648} x_{35}}{x_{34}}\\right\\}, \\left\\{d_{1} : r_{1658}, d_{2} : r_{1659}, d_{3} : \\frac{r_{1659}}{x_{23}}, d_{4} : \\frac{r_{1659}}{x_{23} x_{34}}, d_{5} : r_{1660}, a_{12} : \\frac{r_{1659} x_{13}}{x_{23}}, a_{13} : r_{1661}, a_{14} : r_{1662}, a_{15} : r_{1663}, a_{23} : \\frac{r_{1661} x_{23}^{2} x_{34} + r_{1659} x_{13} x_{24}}{x_{13} x_{23} x_{34}}, a_{24} : r_{1664}, a_{25} : r_{1665}, a_{34} : \\frac{r_{1661}}{x_{13}}, a_{35} : -\\frac{r_{1660} x_{25} x_{34} - r_{1660} x_{24} x_{35}}{x_{23} x_{34}}, a_{45} : -\\frac{r_{1660} x_{35}}{x_{34}}\\right\\}\\right]$$"
      ],
      "text/plain": [
       "[{d1: r1647,\n",
       "  d2: 0,\n",
       "  d3: 0,\n",
       "  d4: 0,\n",
       "  d5: r1648,\n",
       "  a12: r1649,\n",
       "  a13: r1650,\n",
       "  a14: r1651,\n",
       "  a15: r1652,\n",
       "  a23: r1653,\n",
       "  a24: r1654,\n",
       "  a25: r1655,\n",
       "  a34: r1656,\n",
       "  a35: r1657,\n",
       "  a45: -r1648*x35/x34},\n",
       " {d1: r1658,\n",
       "  d2: r1659,\n",
       "  d3: r1659/x23,\n",
       "  d4: r1659/(x23*x34),\n",
       "  d5: r1660,\n",
       "  a12: r1659*x13/x23,\n",
       "  a13: r1661,\n",
       "  a14: r1662,\n",
       "  a15: r1663,\n",
       "  a23: (r1661*x23^2*x34 + r1659*x13*x24)/(x13*x23*x34),\n",
       "  a24: r1664,\n",
       "  a25: r1665,\n",
       "  a34: r1661/x13,\n",
       "  a35: -(r1660*x25*x34 - r1660*x24*x35)/(x23*x34),\n",
       "  a45: -r1660*x35/x34}]"
      ]
     },
     "metadata": {},
     "output_type": "display_data"
    },
    {
     "data": {
      "text/plain": [
       "\\left[\\left\\{d_{1} : r_{1647}, d_{2} : 0, d_{3} : 0, d_{4} : 0, d_{5} : r_{1648}, a_{12} : r_{1649}, a_{13} : r_{1650}, a_{14} : r_{1651}, a_{15} : r_{1652}, a_{23} : r_{1653}, a_{24} : r_{1654}, a_{25} : r_{1655}, a_{34} : r_{1656}, a_{35} : r_{1657}, a_{45} : -\\frac{r_{1648} x_{35}}{x_{34}}\\right\\}, \\left\\{d_{1} : r_{1658}, d_{2} : r_{1659}, d_{3} : \\frac{r_{1659}}{x_{23}}, d_{4} : \\frac{r_{1659}}{x_{23} x_{34}}, d_{5} : r_{1660}, a_{12} : \\frac{r_{1659} x_{13}}{x_{23}}, a_{13} : r_{1661}, a_{14} : r_{1662}, a_{15} : r_{1663}, a_{23} : \\frac{r_{1661} x_{23}^{2} x_{34} + r_{1659} x_{13} x_{24}}{x_{13} x_{23} x_{34}}, a_{24} : r_{1664}, a_{25} : r_{1665}, a_{34} : \\frac{r_{1661}}{x_{13}}, a_{35} : -\\frac{r_{1660} x_{25} x_{34} - r_{1660} x_{24} x_{35}}{x_{23} x_{34}}, a_{45} : -\\frac{r_{1660} x_{35}}{x_{34}}\\right\\}\\right]"
      ]
     },
     "execution_count": 91,
     "metadata": {},
     "output_type": "execute_result"
    }
   ],
   "source": [
    "#x6\n",
    "#----------------------\n",
    "#x15=((-x24*x35+x34*x25)*x13)/(x23*x34)\n",
    "#----------------------\n",
    "reset()\n",
    "\n",
    "var('x12,x13,x14,x15,x23,x24,x25,x34,x35,x45')\n",
    "var('d1,d2,d3,d4,d5')\n",
    "var('a12,a13,a14,a15,a23,a24,a25,a34,a35,a45')\n",
    "\n",
    "#111101\n",
    "eq1=(d2*d3*x13-a12*d3*x23)/(d1*d2) \n",
    "eq2=(a34*d2*d3*x13+d2*d3*d4*0-a12*a34*d3*x23-a12*d3*d4*x24+a12*a23*d4*x34-a13*d2*d4*x34)/(d1*d2*d3) \n",
    "eq3=(a35*d2*d3*x13+a45*d2*d3*0+d2*d3*d5*(((-x24*x35+x34*x25)*x13)/(x23*x34))-a12*a35*d3*x23-a12*a45*d3*x24-a12*d3*d5*x25+a12*a23*a45*x34-a13*a45*d2*x34+a12*a23*d5*x35-a13*d2*d5*x35)/(d1*d2*d3) \n",
    "eq4=(d3*x23)/(d2) \n",
    "eq5=(a34*d3*x23+d3*d4*x24-a23*d4*x34)/(d2*d3) \n",
    "eq6=(a35*d3*x23+a45*d3*x24+d3*d5*x25-a23*a45*x34-a23*d5*x35)/(d2*d3) \n",
    "eq7=(d4*x34)/(d3) \n",
    "eq8=(a45*x34+d5*x35)/(d3) \n",
    "\n",
    "\n",
    "m=matrix(QQ, [[0, 0, 0, 0, 0],\n",
    "              [0, 0, 1, 0, 0],\n",
    "              [0, 0, 0, 1, 0],\n",
    "              [0, 0, 0, 0, 0],\n",
    "              [0, 0, 0, 0, 0]])\n",
    "        \n",
    "#entry of matrix: (i,j) line i collum j, means (i-1,j-1)\n",
    "sol=solve([ eq1==m[0,2],\teq2==m[0,3],\teq3==m[0,4],\teq4==m[1,2],\t\n",
    "                                            eq5==m[1,3],    eq6==m[1,4],\n",
    "                                                            eq7==m[2,3], eq8==m[2,4]],d1,d2,d3,d4,d5,a12,a13,a14,a15,a23,a24,a25,a34,a35,a45, solution_dict=True)\n",
    "\n",
    "show(m)\n",
    "show(sol)\n",
    "latex(sol)"
   ]
  },
  {
   "cell_type": "code",
   "execution_count": 94,
   "metadata": {},
   "outputs": [
    {
     "data": {
      "text/html": [
       "<html><script type=\"math/tex; mode=display\">\\newcommand{\\Bold}[1]{\\mathbf{#1}}\\left(\\begin{array}{rrrrr}\n",
       "0 & 0 & 0 & 0 & 1 \\\\\n",
       "0 & 0 & 1 & 0 & 0 \\\\\n",
       "0 & 0 & 0 & 1 & 0 \\\\\n",
       "0 & 0 & 0 & 0 & 0 \\\\\n",
       "0 & 0 & 0 & 0 & 0\n",
       "\\end{array}\\right)</script></html>"
      ],
      "text/latex": [
       "$$\\newcommand{\\Bold}[1]{\\mathbf{#1}}\\left(\\begin{array}{rrrrr}\n",
       "0 & 0 & 0 & 0 & 1 \\\\\n",
       "0 & 0 & 1 & 0 & 0 \\\\\n",
       "0 & 0 & 0 & 1 & 0 \\\\\n",
       "0 & 0 & 0 & 0 & 0 \\\\\n",
       "0 & 0 & 0 & 0 & 0\n",
       "\\end{array}\\right)$$"
      ],
      "text/plain": [
       "[0 0 0 0 1]\n",
       "[0 0 1 0 0]\n",
       "[0 0 0 1 0]\n",
       "[0 0 0 0 0]\n",
       "[0 0 0 0 0]"
      ]
     },
     "metadata": {},
     "output_type": "display_data"
    },
    {
     "data": {
      "text/html": [
       "<html><script type=\"math/tex; mode=display\">\\newcommand{\\Bold}[1]{\\mathbf{#1}}\\left[\\left\\{d_{1} : r_{1702}, d_{2} : 0, d_{3} : 0, d_{4} : 0, d_{5} : r_{1703}, a_{12} : r_{1704}, a_{13} : r_{1705}, a_{14} : r_{1706}, a_{15} : r_{1707}, a_{23} : r_{1708}, a_{24} : r_{1709}, a_{25} : r_{1710}, a_{34} : r_{1711}, a_{35} : r_{1712}, a_{45} : -\\frac{r_{1703} x_{35}}{x_{34}}\\right\\}, \\left\\{d_{1} : r_{1713}, d_{2} : r_{1714}, d_{3} : \\frac{r_{1714}}{x_{23}}, d_{4} : \\frac{r_{1714}}{x_{23} x_{34}}, d_{5} : -\\frac{r_{1713} x_{23} x_{34}}{x_{13} x_{25} x_{34} + {\\left(x_{14} x_{23} - x_{13} x_{24}\\right)} x_{35}}, a_{12} : \\frac{r_{1714} x_{13}}{x_{23}}, a_{13} : r_{1715}, a_{14} : r_{1716}, a_{15} : r_{1717}, a_{23} : \\frac{r_{1715} x_{23}^{2} x_{34} - r_{1714} x_{14} x_{23} + r_{1714} x_{13} x_{24}}{x_{13} x_{23} x_{34}}, a_{24} : r_{1718}, a_{25} : r_{1719}, a_{34} : \\frac{r_{1715} x_{23} x_{34} - r_{1714} x_{14}}{x_{13} x_{23} x_{34}}, a_{35} : \\frac{r_{1713} x_{25} x_{34} - r_{1713} x_{24} x_{35}}{x_{13} x_{25} x_{34} + {\\left(x_{14} x_{23} - x_{13} x_{24}\\right)} x_{35}}, a_{45} : \\frac{r_{1713} x_{23} x_{35}}{x_{13} x_{25} x_{34} + {\\left(x_{14} x_{23} - x_{13} x_{24}\\right)} x_{35}}\\right\\}\\right]</script></html>"
      ],
      "text/latex": [
       "$$\\newcommand{\\Bold}[1]{\\mathbf{#1}}\\left[\\left\\{d_{1} : r_{1702}, d_{2} : 0, d_{3} : 0, d_{4} : 0, d_{5} : r_{1703}, a_{12} : r_{1704}, a_{13} : r_{1705}, a_{14} : r_{1706}, a_{15} : r_{1707}, a_{23} : r_{1708}, a_{24} : r_{1709}, a_{25} : r_{1710}, a_{34} : r_{1711}, a_{35} : r_{1712}, a_{45} : -\\frac{r_{1703} x_{35}}{x_{34}}\\right\\}, \\left\\{d_{1} : r_{1713}, d_{2} : r_{1714}, d_{3} : \\frac{r_{1714}}{x_{23}}, d_{4} : \\frac{r_{1714}}{x_{23} x_{34}}, d_{5} : -\\frac{r_{1713} x_{23} x_{34}}{x_{13} x_{25} x_{34} + {\\left(x_{14} x_{23} - x_{13} x_{24}\\right)} x_{35}}, a_{12} : \\frac{r_{1714} x_{13}}{x_{23}}, a_{13} : r_{1715}, a_{14} : r_{1716}, a_{15} : r_{1717}, a_{23} : \\frac{r_{1715} x_{23}^{2} x_{34} - r_{1714} x_{14} x_{23} + r_{1714} x_{13} x_{24}}{x_{13} x_{23} x_{34}}, a_{24} : r_{1718}, a_{25} : r_{1719}, a_{34} : \\frac{r_{1715} x_{23} x_{34} - r_{1714} x_{14}}{x_{13} x_{23} x_{34}}, a_{35} : \\frac{r_{1713} x_{25} x_{34} - r_{1713} x_{24} x_{35}}{x_{13} x_{25} x_{34} + {\\left(x_{14} x_{23} - x_{13} x_{24}\\right)} x_{35}}, a_{45} : \\frac{r_{1713} x_{23} x_{35}}{x_{13} x_{25} x_{34} + {\\left(x_{14} x_{23} - x_{13} x_{24}\\right)} x_{35}}\\right\\}\\right]$$"
      ],
      "text/plain": [
       "[{d1: r1702,\n",
       "  d2: 0,\n",
       "  d3: 0,\n",
       "  d4: 0,\n",
       "  d5: r1703,\n",
       "  a12: r1704,\n",
       "  a13: r1705,\n",
       "  a14: r1706,\n",
       "  a15: r1707,\n",
       "  a23: r1708,\n",
       "  a24: r1709,\n",
       "  a25: r1710,\n",
       "  a34: r1711,\n",
       "  a35: r1712,\n",
       "  a45: -r1703*x35/x34},\n",
       " {d1: r1713,\n",
       "  d2: r1714,\n",
       "  d3: r1714/x23,\n",
       "  d4: r1714/(x23*x34),\n",
       "  d5: -r1713*x23*x34/(x13*x25*x34 + (x14*x23 - x13*x24)*x35),\n",
       "  a12: r1714*x13/x23,\n",
       "  a13: r1715,\n",
       "  a14: r1716,\n",
       "  a15: r1717,\n",
       "  a23: (r1715*x23^2*x34 - r1714*x14*x23 + r1714*x13*x24)/(x13*x23*x34),\n",
       "  a24: r1718,\n",
       "  a25: r1719,\n",
       "  a34: (r1715*x23*x34 - r1714*x14)/(x13*x23*x34),\n",
       "  a35: (r1713*x25*x34 - r1713*x24*x35)/(x13*x25*x34 + (x14*x23 - x13*x24)*x35),\n",
       "  a45: r1713*x23*x35/(x13*x25*x34 + (x14*x23 - x13*x24)*x35)}]"
      ]
     },
     "metadata": {},
     "output_type": "display_data"
    },
    {
     "data": {
      "text/plain": [
       "\\left[\\left\\{d_{1} : r_{1702}, d_{2} : 0, d_{3} : 0, d_{4} : 0, d_{5} : r_{1703}, a_{12} : r_{1704}, a_{13} : r_{1705}, a_{14} : r_{1706}, a_{15} : r_{1707}, a_{23} : r_{1708}, a_{24} : r_{1709}, a_{25} : r_{1710}, a_{34} : r_{1711}, a_{35} : r_{1712}, a_{45} : -\\frac{r_{1703} x_{35}}{x_{34}}\\right\\}, \\left\\{d_{1} : r_{1713}, d_{2} : r_{1714}, d_{3} : \\frac{r_{1714}}{x_{23}}, d_{4} : \\frac{r_{1714}}{x_{23} x_{34}}, d_{5} : -\\frac{r_{1713} x_{23} x_{34}}{x_{13} x_{25} x_{34} + {\\left(x_{14} x_{23} - x_{13} x_{24}\\right)} x_{35}}, a_{12} : \\frac{r_{1714} x_{13}}{x_{23}}, a_{13} : r_{1715}, a_{14} : r_{1716}, a_{15} : r_{1717}, a_{23} : \\frac{r_{1715} x_{23}^{2} x_{34} - r_{1714} x_{14} x_{23} + r_{1714} x_{13} x_{24}}{x_{13} x_{23} x_{34}}, a_{24} : r_{1718}, a_{25} : r_{1719}, a_{34} : \\frac{r_{1715} x_{23} x_{34} - r_{1714} x_{14}}{x_{13} x_{23} x_{34}}, a_{35} : \\frac{r_{1713} x_{25} x_{34} - r_{1713} x_{24} x_{35}}{x_{13} x_{25} x_{34} + {\\left(x_{14} x_{23} - x_{13} x_{24}\\right)} x_{35}}, a_{45} : \\frac{r_{1713} x_{23} x_{35}}{x_{13} x_{25} x_{34} + {\\left(x_{14} x_{23} - x_{13} x_{24}\\right)} x_{35}}\\right\\}\\right]"
      ]
     },
     "execution_count": 94,
     "metadata": {},
     "output_type": "execute_result"
    }
   ],
   "source": [
    "#x6\n",
    "#----------------------\n",
    "#x14\\dif((x24*x35-x34*x25)*x13)/(x23*x35)\n",
    "#----------------------\n",
    "reset()\n",
    "\n",
    "var('x12,x13,x14,x15,x23,x24,x25,x34,x35,x45')\n",
    "var('d1,d2,d3,d4,d5')\n",
    "var('a12,a13,a14,a15,a23,a24,a25,a34,a35,a45')\n",
    "\n",
    "load_attach_path('C:\\\\Users\\\\julia\\\\Documents\\\\unb\\\\doutorado\\\\pensar\\\\codigo_sage_v2\\\\maquina\\\\x6')\n",
    "load('out_#111110.sage')\n",
    "\n",
    "m=matrix(QQ, [[0, 0, 0, 0, 1],\n",
    "              [0, 0, 1, 0, 0],\n",
    "              [0, 0, 0, 1, 0],\n",
    "              [0, 0, 0, 0, 0],\n",
    "              [0, 0, 0, 0, 0]])\n",
    "        \n",
    "#entry of matrix: (i,j) line i collum j, means (i-1,j-1)\n",
    "sol=solve([ eq1==m[0,2],\teq2==m[0,3],\teq3==m[0,4],\teq4==m[1,2],\t\n",
    "                                            eq5==m[1,3],    eq6==m[1,4],\n",
    "                                                            eq7==m[2,3], eq8==m[2,4]],d1,d2,d3,d4,d5,a12,a13,a14,a15,a23,a24,a25,a34,a35,a45, solution_dict=True)\n",
    "\n",
    "show(m)\n",
    "show(sol)\n",
    "latex(sol)"
   ]
  },
  {
   "cell_type": "code",
   "execution_count": 95,
   "metadata": {},
   "outputs": [
    {
     "data": {
      "text/html": [
       "<html><script type=\"math/tex; mode=display\">\\newcommand{\\Bold}[1]{\\mathbf{#1}}\\left(\\begin{array}{rrrrr}\n",
       "0 & 0 & 0 & 0 & 0 \\\\\n",
       "0 & 0 & 1 & 0 & 0 \\\\\n",
       "0 & 0 & 0 & 1 & 0 \\\\\n",
       "0 & 0 & 0 & 0 & 0 \\\\\n",
       "0 & 0 & 0 & 0 & 0\n",
       "\\end{array}\\right)</script></html>"
      ],
      "text/latex": [
       "$$\\newcommand{\\Bold}[1]{\\mathbf{#1}}\\left(\\begin{array}{rrrrr}\n",
       "0 & 0 & 0 & 0 & 0 \\\\\n",
       "0 & 0 & 1 & 0 & 0 \\\\\n",
       "0 & 0 & 0 & 1 & 0 \\\\\n",
       "0 & 0 & 0 & 0 & 0 \\\\\n",
       "0 & 0 & 0 & 0 & 0\n",
       "\\end{array}\\right)$$"
      ],
      "text/plain": [
       "[0 0 0 0 0]\n",
       "[0 0 1 0 0]\n",
       "[0 0 0 1 0]\n",
       "[0 0 0 0 0]\n",
       "[0 0 0 0 0]"
      ]
     },
     "metadata": {},
     "output_type": "display_data"
    },
    {
     "data": {
      "text/html": [
       "<html><script type=\"math/tex; mode=display\">\\newcommand{\\Bold}[1]{\\mathbf{#1}}\\left[\\left\\{d_{1} : r_{1720}, d_{2} : 0, d_{3} : 0, d_{4} : 0, d_{5} : r_{1721}, a_{12} : r_{1722}, a_{13} : r_{1723}, a_{14} : r_{1724}, a_{15} : r_{1725}, a_{23} : r_{1726}, a_{24} : r_{1727}, a_{25} : r_{1728}, a_{34} : r_{1729}, a_{35} : r_{1730}, a_{45} : -\\frac{r_{1721} x_{35}}{x_{34}}\\right\\}, \\left\\{d_{1} : r_{1731}, d_{2} : r_{1732}, d_{3} : \\frac{r_{1732}}{x_{23}}, d_{4} : \\frac{r_{1732}}{x_{23} x_{34}}, d_{5} : r_{1733}, a_{12} : \\frac{r_{1732} x_{13}}{x_{23}}, a_{13} : r_{1734}, a_{14} : r_{1735}, a_{15} : r_{1736}, a_{23} : \\frac{r_{1734} x_{23}^{2} x_{35} + r_{1732} x_{13} x_{25}}{x_{13} x_{23} x_{35}}, a_{24} : r_{1737}, a_{25} : r_{1738}, a_{34} : \\frac{r_{1732} x_{13} x_{25} x_{34} + {\\left(r_{1734} x_{23}^{2} x_{34} - r_{1732} x_{13} x_{24}\\right)} x_{35}}{x_{13} x_{23}^{2} x_{34} x_{35}}, a_{35} : -\\frac{r_{1733} x_{25} x_{34} - r_{1733} x_{24} x_{35}}{x_{23} x_{34}}, a_{45} : -\\frac{r_{1733} x_{35}}{x_{34}}\\right\\}\\right]</script></html>"
      ],
      "text/latex": [
       "$$\\newcommand{\\Bold}[1]{\\mathbf{#1}}\\left[\\left\\{d_{1} : r_{1720}, d_{2} : 0, d_{3} : 0, d_{4} : 0, d_{5} : r_{1721}, a_{12} : r_{1722}, a_{13} : r_{1723}, a_{14} : r_{1724}, a_{15} : r_{1725}, a_{23} : r_{1726}, a_{24} : r_{1727}, a_{25} : r_{1728}, a_{34} : r_{1729}, a_{35} : r_{1730}, a_{45} : -\\frac{r_{1721} x_{35}}{x_{34}}\\right\\}, \\left\\{d_{1} : r_{1731}, d_{2} : r_{1732}, d_{3} : \\frac{r_{1732}}{x_{23}}, d_{4} : \\frac{r_{1732}}{x_{23} x_{34}}, d_{5} : r_{1733}, a_{12} : \\frac{r_{1732} x_{13}}{x_{23}}, a_{13} : r_{1734}, a_{14} : r_{1735}, a_{15} : r_{1736}, a_{23} : \\frac{r_{1734} x_{23}^{2} x_{35} + r_{1732} x_{13} x_{25}}{x_{13} x_{23} x_{35}}, a_{24} : r_{1737}, a_{25} : r_{1738}, a_{34} : \\frac{r_{1732} x_{13} x_{25} x_{34} + {\\left(r_{1734} x_{23}^{2} x_{34} - r_{1732} x_{13} x_{24}\\right)} x_{35}}{x_{13} x_{23}^{2} x_{34} x_{35}}, a_{35} : -\\frac{r_{1733} x_{25} x_{34} - r_{1733} x_{24} x_{35}}{x_{23} x_{34}}, a_{45} : -\\frac{r_{1733} x_{35}}{x_{34}}\\right\\}\\right]$$"
      ],
      "text/plain": [
       "[{d1: r1720,\n",
       "  d2: 0,\n",
       "  d3: 0,\n",
       "  d4: 0,\n",
       "  d5: r1721,\n",
       "  a12: r1722,\n",
       "  a13: r1723,\n",
       "  a14: r1724,\n",
       "  a15: r1725,\n",
       "  a23: r1726,\n",
       "  a24: r1727,\n",
       "  a25: r1728,\n",
       "  a34: r1729,\n",
       "  a35: r1730,\n",
       "  a45: -r1721*x35/x34},\n",
       " {d1: r1731,\n",
       "  d2: r1732,\n",
       "  d3: r1732/x23,\n",
       "  d4: r1732/(x23*x34),\n",
       "  d5: r1733,\n",
       "  a12: r1732*x13/x23,\n",
       "  a13: r1734,\n",
       "  a14: r1735,\n",
       "  a15: r1736,\n",
       "  a23: (r1734*x23^2*x35 + r1732*x13*x25)/(x13*x23*x35),\n",
       "  a24: r1737,\n",
       "  a25: r1738,\n",
       "  a34: (r1732*x13*x25*x34 + (r1734*x23^2*x34 - r1732*x13*x24)*x35)/(x13*x23^2*x34*x35),\n",
       "  a35: -(r1733*x25*x34 - r1733*x24*x35)/(x23*x34),\n",
       "  a45: -r1733*x35/x34}]"
      ]
     },
     "metadata": {},
     "output_type": "display_data"
    },
    {
     "data": {
      "text/plain": [
       "\\left[\\left\\{d_{1} : r_{1720}, d_{2} : 0, d_{3} : 0, d_{4} : 0, d_{5} : r_{1721}, a_{12} : r_{1722}, a_{13} : r_{1723}, a_{14} : r_{1724}, a_{15} : r_{1725}, a_{23} : r_{1726}, a_{24} : r_{1727}, a_{25} : r_{1728}, a_{34} : r_{1729}, a_{35} : r_{1730}, a_{45} : -\\frac{r_{1721} x_{35}}{x_{34}}\\right\\}, \\left\\{d_{1} : r_{1731}, d_{2} : r_{1732}, d_{3} : \\frac{r_{1732}}{x_{23}}, d_{4} : \\frac{r_{1732}}{x_{23} x_{34}}, d_{5} : r_{1733}, a_{12} : \\frac{r_{1732} x_{13}}{x_{23}}, a_{13} : r_{1734}, a_{14} : r_{1735}, a_{15} : r_{1736}, a_{23} : \\frac{r_{1734} x_{23}^{2} x_{35} + r_{1732} x_{13} x_{25}}{x_{13} x_{23} x_{35}}, a_{24} : r_{1737}, a_{25} : r_{1738}, a_{34} : \\frac{r_{1732} x_{13} x_{25} x_{34} + {\\left(r_{1734} x_{23}^{2} x_{34} - r_{1732} x_{13} x_{24}\\right)} x_{35}}{x_{13} x_{23}^{2} x_{34} x_{35}}, a_{35} : -\\frac{r_{1733} x_{25} x_{34} - r_{1733} x_{24} x_{35}}{x_{23} x_{34}}, a_{45} : -\\frac{r_{1733} x_{35}}{x_{34}}\\right\\}\\right]"
      ]
     },
     "execution_count": 95,
     "metadata": {},
     "output_type": "execute_result"
    }
   ],
   "source": [
    "#x6\n",
    "#----------------------\n",
    "#x14=((x24*x35-x34*x25)*x13)/(x23*x35)\n",
    "#----------------------\n",
    "reset()\n",
    "\n",
    "var('x12,x13,x14,x15,x23,x24,x25,x34,x35,x45')\n",
    "var('d1,d2,d3,d4,d5')\n",
    "var('a12,a13,a14,a15,a23,a24,a25,a34,a35,a45')\n",
    "\n",
    "#111110\n",
    "eq1=(d2*d3*x13-a12*d3*x23)/(d1*d2) \n",
    "eq2=(a34*d2*d3*x13+d2*d3*d4*(((x24*x35-x34*x25)*x13)/(x23*x35))-a12*a34*d3*x23-a12*d3*d4*x24+a12*a23*d4*x34-a13*d2*d4*x34)/(d1*d2*d3) \n",
    "eq3=(a35*d2*d3*x13+a45*d2*d3*(((x24*x35-x34*x25)*x13)/(x23*x35))+d2*d3*d5*0-a12*a35*d3*x23-a12*a45*d3*x24-a12*d3*d5*x25+a12*a23*a45*x34-a13*a45*d2*x34+a12*a23*d5*x35-a13*d2*d5*x35)/(d1*d2*d3) \n",
    "eq4=(d3*x23)/(d2) \n",
    "eq5=(a34*d3*x23+d3*d4*x24-a23*d4*x34)/(d2*d3) \n",
    "eq6=(a35*d3*x23+a45*d3*x24+d3*d5*x25-a23*a45*x34-a23*d5*x35)/(d2*d3) \n",
    "eq7=(d4*x34)/(d3) \n",
    "eq8=(a45*x34+d5*x35)/(d3) \n",
    "\n",
    "m=matrix(QQ, [[0, 0, 0, 0, 0],\n",
    "              [0, 0, 1, 0, 0],\n",
    "              [0, 0, 0, 1, 0],\n",
    "              [0, 0, 0, 0, 0],\n",
    "              [0, 0, 0, 0, 0]])\n",
    "        \n",
    "#entry of matrix: (i,j) line i collum j, means (i-1,j-1)\n",
    "sol=solve([ eq1==m[0,2],\teq2==m[0,3],\teq3==m[0,4],\teq4==m[1,2],\t\n",
    "                                            eq5==m[1,3],    eq6==m[1,4],\n",
    "                                                            eq7==m[2,3], eq8==m[2,4]],d1,d2,d3,d4,d5,a12,a13,a14,a15,a23,a24,a25,a34,a35,a45, solution_dict=True)\n",
    "\n",
    "show(m)\n",
    "show(sol)\n",
    "latex(sol)"
   ]
  },
  {
   "cell_type": "code",
   "execution_count": 97,
   "metadata": {
    "scrolled": true
   },
   "outputs": [
    {
     "data": {
      "text/html": [
       "<html><script type=\"math/tex; mode=display\">\\newcommand{\\Bold}[1]{\\mathbf{#1}}\\left(\\begin{array}{rrrrr}\n",
       "0 & 0 & 0 & 0 & 1 \\\\\n",
       "0 & 0 & 1 & 0 & 0 \\\\\n",
       "0 & 0 & 0 & 1 & 0 \\\\\n",
       "0 & 0 & 0 & 0 & 0 \\\\\n",
       "0 & 0 & 0 & 0 & 0\n",
       "\\end{array}\\right)</script></html>"
      ],
      "text/latex": [
       "$$\\newcommand{\\Bold}[1]{\\mathbf{#1}}\\left(\\begin{array}{rrrrr}\n",
       "0 & 0 & 0 & 0 & 1 \\\\\n",
       "0 & 0 & 1 & 0 & 0 \\\\\n",
       "0 & 0 & 0 & 1 & 0 \\\\\n",
       "0 & 0 & 0 & 0 & 0 \\\\\n",
       "0 & 0 & 0 & 0 & 0\n",
       "\\end{array}\\right)$$"
      ],
      "text/plain": [
       "[0 0 0 0 1]\n",
       "[0 0 1 0 0]\n",
       "[0 0 0 1 0]\n",
       "[0 0 0 0 0]\n",
       "[0 0 0 0 0]"
      ]
     },
     "metadata": {},
     "output_type": "display_data"
    },
    {
     "data": {
      "text/html": [
       "<html><script type=\"math/tex; mode=display\">\\newcommand{\\Bold}[1]{\\mathbf{#1}}\\left[\\left\\{d_{1} : r_{1757}, d_{2} : 0, d_{3} : 0, d_{4} : 0, d_{5} : r_{1758}, a_{12} : r_{1759}, a_{13} : r_{1760}, a_{14} : r_{1761}, a_{15} : r_{1762}, a_{23} : r_{1763}, a_{24} : r_{1764}, a_{25} : r_{1765}, a_{34} : r_{1766}, a_{35} : r_{1767}, a_{45} : -\\frac{r_{1758} x_{35}}{x_{34}}\\right\\}, \\left\\{d_{1} : r_{1768}, d_{2} : r_{1769}, d_{3} : \\frac{r_{1769}}{x_{23}}, d_{4} : \\frac{r_{1769}}{x_{23} x_{34}}, d_{5} : \\frac{r_{1768} x_{23} x_{34}}{{\\left(x_{15} x_{23} - x_{13} x_{25}\\right)} x_{34} - {\\left(x_{14} x_{23} - x_{13} x_{24}\\right)} x_{35}}, a_{12} : \\frac{r_{1769} x_{13}}{x_{23}}, a_{13} : r_{1770}, a_{14} : r_{1771}, a_{15} : r_{1772}, a_{23} : \\frac{r_{1770} x_{23}^{2} x_{34} - r_{1769} x_{14} x_{23} + r_{1769} x_{13} x_{24}}{x_{13} x_{23} x_{34}}, a_{24} : r_{1773}, a_{25} : r_{1774}, a_{34} : \\frac{r_{1770} x_{23} x_{34} - r_{1769} x_{14}}{x_{13} x_{23} x_{34}}, a_{35} : -\\frac{r_{1768} x_{25} x_{34} - r_{1768} x_{24} x_{35}}{{\\left(x_{15} x_{23} - x_{13} x_{25}\\right)} x_{34} - {\\left(x_{14} x_{23} - x_{13} x_{24}\\right)} x_{35}}, a_{45} : -\\frac{r_{1768} x_{23} x_{35}}{{\\left(x_{15} x_{23} - x_{13} x_{25}\\right)} x_{34} - {\\left(x_{14} x_{23} - x_{13} x_{24}\\right)} x_{35}}\\right\\}\\right]</script></html>"
      ],
      "text/latex": [
       "$$\\newcommand{\\Bold}[1]{\\mathbf{#1}}\\left[\\left\\{d_{1} : r_{1757}, d_{2} : 0, d_{3} : 0, d_{4} : 0, d_{5} : r_{1758}, a_{12} : r_{1759}, a_{13} : r_{1760}, a_{14} : r_{1761}, a_{15} : r_{1762}, a_{23} : r_{1763}, a_{24} : r_{1764}, a_{25} : r_{1765}, a_{34} : r_{1766}, a_{35} : r_{1767}, a_{45} : -\\frac{r_{1758} x_{35}}{x_{34}}\\right\\}, \\left\\{d_{1} : r_{1768}, d_{2} : r_{1769}, d_{3} : \\frac{r_{1769}}{x_{23}}, d_{4} : \\frac{r_{1769}}{x_{23} x_{34}}, d_{5} : \\frac{r_{1768} x_{23} x_{34}}{{\\left(x_{15} x_{23} - x_{13} x_{25}\\right)} x_{34} - {\\left(x_{14} x_{23} - x_{13} x_{24}\\right)} x_{35}}, a_{12} : \\frac{r_{1769} x_{13}}{x_{23}}, a_{13} : r_{1770}, a_{14} : r_{1771}, a_{15} : r_{1772}, a_{23} : \\frac{r_{1770} x_{23}^{2} x_{34} - r_{1769} x_{14} x_{23} + r_{1769} x_{13} x_{24}}{x_{13} x_{23} x_{34}}, a_{24} : r_{1773}, a_{25} : r_{1774}, a_{34} : \\frac{r_{1770} x_{23} x_{34} - r_{1769} x_{14}}{x_{13} x_{23} x_{34}}, a_{35} : -\\frac{r_{1768} x_{25} x_{34} - r_{1768} x_{24} x_{35}}{{\\left(x_{15} x_{23} - x_{13} x_{25}\\right)} x_{34} - {\\left(x_{14} x_{23} - x_{13} x_{24}\\right)} x_{35}}, a_{45} : -\\frac{r_{1768} x_{23} x_{35}}{{\\left(x_{15} x_{23} - x_{13} x_{25}\\right)} x_{34} - {\\left(x_{14} x_{23} - x_{13} x_{24}\\right)} x_{35}}\\right\\}\\right]$$"
      ],
      "text/plain": [
       "[{d1: r1757,\n",
       "  d2: 0,\n",
       "  d3: 0,\n",
       "  d4: 0,\n",
       "  d5: r1758,\n",
       "  a12: r1759,\n",
       "  a13: r1760,\n",
       "  a14: r1761,\n",
       "  a15: r1762,\n",
       "  a23: r1763,\n",
       "  a24: r1764,\n",
       "  a25: r1765,\n",
       "  a34: r1766,\n",
       "  a35: r1767,\n",
       "  a45: -r1758*x35/x34},\n",
       " {d1: r1768,\n",
       "  d2: r1769,\n",
       "  d3: r1769/x23,\n",
       "  d4: r1769/(x23*x34),\n",
       "  d5: r1768*x23*x34/((x15*x23 - x13*x25)*x34 - (x14*x23 - x13*x24)*x35),\n",
       "  a12: r1769*x13/x23,\n",
       "  a13: r1770,\n",
       "  a14: r1771,\n",
       "  a15: r1772,\n",
       "  a23: (r1770*x23^2*x34 - r1769*x14*x23 + r1769*x13*x24)/(x13*x23*x34),\n",
       "  a24: r1773,\n",
       "  a25: r1774,\n",
       "  a34: (r1770*x23*x34 - r1769*x14)/(x13*x23*x34),\n",
       "  a35: -(r1768*x25*x34 - r1768*x24*x35)/((x15*x23 - x13*x25)*x34 - (x14*x23 - x13*x24)*x35),\n",
       "  a45: -r1768*x23*x35/((x15*x23 - x13*x25)*x34 - (x14*x23 - x13*x24)*x35)}]"
      ]
     },
     "metadata": {},
     "output_type": "display_data"
    },
    {
     "data": {
      "text/plain": [
       "\\left[\\left\\{d_{1} : r_{1757}, d_{2} : 0, d_{3} : 0, d_{4} : 0, d_{5} : r_{1758}, a_{12} : r_{1759}, a_{13} : r_{1760}, a_{14} : r_{1761}, a_{15} : r_{1762}, a_{23} : r_{1763}, a_{24} : r_{1764}, a_{25} : r_{1765}, a_{34} : r_{1766}, a_{35} : r_{1767}, a_{45} : -\\frac{r_{1758} x_{35}}{x_{34}}\\right\\}, \\left\\{d_{1} : r_{1768}, d_{2} : r_{1769}, d_{3} : \\frac{r_{1769}}{x_{23}}, d_{4} : \\frac{r_{1769}}{x_{23} x_{34}}, d_{5} : \\frac{r_{1768} x_{23} x_{34}}{{\\left(x_{15} x_{23} - x_{13} x_{25}\\right)} x_{34} - {\\left(x_{14} x_{23} - x_{13} x_{24}\\right)} x_{35}}, a_{12} : \\frac{r_{1769} x_{13}}{x_{23}}, a_{13} : r_{1770}, a_{14} : r_{1771}, a_{15} : r_{1772}, a_{23} : \\frac{r_{1770} x_{23}^{2} x_{34} - r_{1769} x_{14} x_{23} + r_{1769} x_{13} x_{24}}{x_{13} x_{23} x_{34}}, a_{24} : r_{1773}, a_{25} : r_{1774}, a_{34} : \\frac{r_{1770} x_{23} x_{34} - r_{1769} x_{14}}{x_{13} x_{23} x_{34}}, a_{35} : -\\frac{r_{1768} x_{25} x_{34} - r_{1768} x_{24} x_{35}}{{\\left(x_{15} x_{23} - x_{13} x_{25}\\right)} x_{34} - {\\left(x_{14} x_{23} - x_{13} x_{24}\\right)} x_{35}}, a_{45} : -\\frac{r_{1768} x_{23} x_{35}}{{\\left(x_{15} x_{23} - x_{13} x_{25}\\right)} x_{34} - {\\left(x_{14} x_{23} - x_{13} x_{24}\\right)} x_{35}}\\right\\}\\right]"
      ]
     },
     "execution_count": 97,
     "metadata": {},
     "output_type": "execute_result"
    }
   ],
   "source": [
    "#x6\n",
    "#----------------------\n",
    "#x15 \\dif ((x13*x25)/x23)\n",
    "#x34 \\dif(((x14*x23-x13*x24)*x35)/((x15*x23-x13*x25)))\n",
    "#----------------------\n",
    "reset()\n",
    "\n",
    "var('x12,x13,x14,x15,x23,x24,x25,x34,x35,x45')\n",
    "var('d1,d2,d3,d4,d5')\n",
    "var('a12,a13,a14,a15,a23,a24,a25,a34,a35,a45')\n",
    "\n",
    "#111111\n",
    "eq1=(d2*d3*x13-a12*d3*x23)/(d1*d2) \n",
    "eq2=(a34*d2*d3*x13+d2*d3*d4*x14-a12*a34*d3*x23-a12*d3*d4*x24+a12*a23*d4*x34-a13*d2*d4*x34)/(d1*d2*d3) \n",
    "eq3=(a35*d2*d3*x13+a45*d2*d3*x14+d2*d3*d5*x15-a12*a35*d3*x23-a12*a45*d3*x24-a12*d3*d5*x25+a12*a23*a45*x34-a13*a45*d2*x34+a12*a23*d5*x35-a13*d2*d5*x35)/(d1*d2*d3) \n",
    "eq4=(d3*x23)/(d2) \n",
    "eq5=(a34*d3*x23+d3*d4*x24-a23*d4*x34)/(d2*d3) \n",
    "eq6=(a35*d3*x23+a45*d3*x24+d3*d5*x25-a23*a45*x34-a23*d5*x35)/(d2*d3) \n",
    "eq7=(d4*x34)/(d3) \n",
    "eq8=(a45*x34+d5*x35)/(d3) \n",
    "\n",
    "m=matrix(QQ, [[0, 0, 0, 0, 1],\n",
    "              [0, 0, 1, 0, 0],\n",
    "              [0, 0, 0, 1, 0],\n",
    "              [0, 0, 0, 0, 0],\n",
    "              [0, 0, 0, 0, 0]])\n",
    "        \n",
    "#entry of matrix: (i,j) line i collum j, means (i-1,j-1)\n",
    "sol=solve([ eq1==m[0,2],\teq2==m[0,3],\teq3==m[0,4],\teq4==m[1,2],\t\n",
    "                                            eq5==m[1,3],    eq6==m[1,4],\n",
    "                                                            eq7==m[2,3], eq8==m[2,4]],d1,d2,d3,d4,d5,a12,a13,a14,a15,a23,a24,a25,a34,a35,a45, solution_dict=True)\n",
    "\n",
    "show(m)\n",
    "show(sol)\n",
    "latex(sol)"
   ]
  },
  {
   "cell_type": "code",
   "execution_count": 99,
   "metadata": {},
   "outputs": [
    {
     "data": {
      "text/html": [
       "<html><script type=\"math/tex; mode=display\">\\newcommand{\\Bold}[1]{\\mathbf{#1}}\\left(\\begin{array}{rrrrr}\n",
       "0 & 0 & 0 & 0 & 1 \\\\\n",
       "0 & 0 & 1 & 0 & 0 \\\\\n",
       "0 & 0 & 0 & 1 & 0 \\\\\n",
       "0 & 0 & 0 & 0 & 0 \\\\\n",
       "0 & 0 & 0 & 0 & 0\n",
       "\\end{array}\\right)</script></html>"
      ],
      "text/latex": [
       "$$\\newcommand{\\Bold}[1]{\\mathbf{#1}}\\left(\\begin{array}{rrrrr}\n",
       "0 & 0 & 0 & 0 & 1 \\\\\n",
       "0 & 0 & 1 & 0 & 0 \\\\\n",
       "0 & 0 & 0 & 1 & 0 \\\\\n",
       "0 & 0 & 0 & 0 & 0 \\\\\n",
       "0 & 0 & 0 & 0 & 0\n",
       "\\end{array}\\right)$$"
      ],
      "text/plain": [
       "[0 0 0 0 1]\n",
       "[0 0 1 0 0]\n",
       "[0 0 0 1 0]\n",
       "[0 0 0 0 0]\n",
       "[0 0 0 0 0]"
      ]
     },
     "metadata": {},
     "output_type": "display_data"
    },
    {
     "data": {
      "text/html": [
       "<html><script type=\"math/tex; mode=display\">\\newcommand{\\Bold}[1]{\\mathbf{#1}}\\left[\\left\\{d_{1} : r_{1793}, d_{2} : 0, d_{3} : 0, d_{4} : 0, d_{5} : r_{1794}, a_{12} : r_{1795}, a_{13} : r_{1796}, a_{14} : r_{1797}, a_{15} : r_{1798}, a_{23} : r_{1799}, a_{24} : r_{1800}, a_{25} : r_{1801}, a_{34} : r_{1802}, a_{35} : r_{1803}, a_{45} : -\\frac{r_{1794} x_{35}}{x_{34}}\\right\\}, \\left\\{d_{1} : r_{1804}, d_{2} : r_{1805}, d_{3} : \\frac{r_{1805}}{x_{23}}, d_{4} : \\frac{r_{1805}}{x_{23} x_{34}}, d_{5} : -\\frac{r_{1804} x_{23} x_{34}}{{\\left(x_{14} x_{23} - x_{13} x_{24}\\right)} x_{35}}, a_{12} : \\frac{r_{1805} x_{13}}{x_{23}}, a_{13} : r_{1806}, a_{14} : r_{1807}, a_{15} : r_{1808}, a_{23} : \\frac{r_{1806} x_{23}^{2} x_{34} - r_{1805} x_{14} x_{23} + r_{1805} x_{13} x_{24}}{x_{13} x_{23} x_{34}}, a_{24} : r_{1809}, a_{25} : r_{1810}, a_{34} : \\frac{r_{1806} x_{23} x_{34} - r_{1805} x_{14}}{x_{13} x_{23} x_{34}}, a_{35} : \\frac{r_{1804} x_{25} x_{34} - r_{1804} x_{24} x_{35}}{{\\left(x_{14} x_{23} - x_{13} x_{24}\\right)} x_{35}}, a_{45} : \\frac{r_{1804} x_{23}}{x_{14} x_{23} - x_{13} x_{24}}\\right\\}\\right]</script></html>"
      ],
      "text/latex": [
       "$$\\newcommand{\\Bold}[1]{\\mathbf{#1}}\\left[\\left\\{d_{1} : r_{1793}, d_{2} : 0, d_{3} : 0, d_{4} : 0, d_{5} : r_{1794}, a_{12} : r_{1795}, a_{13} : r_{1796}, a_{14} : r_{1797}, a_{15} : r_{1798}, a_{23} : r_{1799}, a_{24} : r_{1800}, a_{25} : r_{1801}, a_{34} : r_{1802}, a_{35} : r_{1803}, a_{45} : -\\frac{r_{1794} x_{35}}{x_{34}}\\right\\}, \\left\\{d_{1} : r_{1804}, d_{2} : r_{1805}, d_{3} : \\frac{r_{1805}}{x_{23}}, d_{4} : \\frac{r_{1805}}{x_{23} x_{34}}, d_{5} : -\\frac{r_{1804} x_{23} x_{34}}{{\\left(x_{14} x_{23} - x_{13} x_{24}\\right)} x_{35}}, a_{12} : \\frac{r_{1805} x_{13}}{x_{23}}, a_{13} : r_{1806}, a_{14} : r_{1807}, a_{15} : r_{1808}, a_{23} : \\frac{r_{1806} x_{23}^{2} x_{34} - r_{1805} x_{14} x_{23} + r_{1805} x_{13} x_{24}}{x_{13} x_{23} x_{34}}, a_{24} : r_{1809}, a_{25} : r_{1810}, a_{34} : \\frac{r_{1806} x_{23} x_{34} - r_{1805} x_{14}}{x_{13} x_{23} x_{34}}, a_{35} : \\frac{r_{1804} x_{25} x_{34} - r_{1804} x_{24} x_{35}}{{\\left(x_{14} x_{23} - x_{13} x_{24}\\right)} x_{35}}, a_{45} : \\frac{r_{1804} x_{23}}{x_{14} x_{23} - x_{13} x_{24}}\\right\\}\\right]$$"
      ],
      "text/plain": [
       "[{d1: r1793,\n",
       "  d2: 0,\n",
       "  d3: 0,\n",
       "  d4: 0,\n",
       "  d5: r1794,\n",
       "  a12: r1795,\n",
       "  a13: r1796,\n",
       "  a14: r1797,\n",
       "  a15: r1798,\n",
       "  a23: r1799,\n",
       "  a24: r1800,\n",
       "  a25: r1801,\n",
       "  a34: r1802,\n",
       "  a35: r1803,\n",
       "  a45: -r1794*x35/x34},\n",
       " {d1: r1804,\n",
       "  d2: r1805,\n",
       "  d3: r1805/x23,\n",
       "  d4: r1805/(x23*x34),\n",
       "  d5: -r1804*x23*x34/((x14*x23 - x13*x24)*x35),\n",
       "  a12: r1805*x13/x23,\n",
       "  a13: r1806,\n",
       "  a14: r1807,\n",
       "  a15: r1808,\n",
       "  a23: (r1806*x23^2*x34 - r1805*x14*x23 + r1805*x13*x24)/(x13*x23*x34),\n",
       "  a24: r1809,\n",
       "  a25: r1810,\n",
       "  a34: (r1806*x23*x34 - r1805*x14)/(x13*x23*x34),\n",
       "  a35: (r1804*x25*x34 - r1804*x24*x35)/((x14*x23 - x13*x24)*x35),\n",
       "  a45: r1804*x23/(x14*x23 - x13*x24)}]"
      ]
     },
     "metadata": {},
     "output_type": "display_data"
    },
    {
     "data": {
      "text/plain": [
       "\\left[\\left\\{d_{1} : r_{1793}, d_{2} : 0, d_{3} : 0, d_{4} : 0, d_{5} : r_{1794}, a_{12} : r_{1795}, a_{13} : r_{1796}, a_{14} : r_{1797}, a_{15} : r_{1798}, a_{23} : r_{1799}, a_{24} : r_{1800}, a_{25} : r_{1801}, a_{34} : r_{1802}, a_{35} : r_{1803}, a_{45} : -\\frac{r_{1794} x_{35}}{x_{34}}\\right\\}, \\left\\{d_{1} : r_{1804}, d_{2} : r_{1805}, d_{3} : \\frac{r_{1805}}{x_{23}}, d_{4} : \\frac{r_{1805}}{x_{23} x_{34}}, d_{5} : -\\frac{r_{1804} x_{23} x_{34}}{{\\left(x_{14} x_{23} - x_{13} x_{24}\\right)} x_{35}}, a_{12} : \\frac{r_{1805} x_{13}}{x_{23}}, a_{13} : r_{1806}, a_{14} : r_{1807}, a_{15} : r_{1808}, a_{23} : \\frac{r_{1806} x_{23}^{2} x_{34} - r_{1805} x_{14} x_{23} + r_{1805} x_{13} x_{24}}{x_{13} x_{23} x_{34}}, a_{24} : r_{1809}, a_{25} : r_{1810}, a_{34} : \\frac{r_{1806} x_{23} x_{34} - r_{1805} x_{14}}{x_{13} x_{23} x_{34}}, a_{35} : \\frac{r_{1804} x_{25} x_{34} - r_{1804} x_{24} x_{35}}{{\\left(x_{14} x_{23} - x_{13} x_{24}\\right)} x_{35}}, a_{45} : \\frac{r_{1804} x_{23}}{x_{14} x_{23} - x_{13} x_{24}}\\right\\}\\right]"
      ]
     },
     "execution_count": 99,
     "metadata": {},
     "output_type": "execute_result"
    }
   ],
   "source": [
    "#x6\n",
    "#----------------------\n",
    "#x15 = ((x13*x25)/x23)\n",
    "#x14 \\dif x13*x24/x23\n",
    "#----------------------\n",
    "reset()\n",
    "\n",
    "var('x12,x13,x14,x15,x23,x24,x25,x34,x35,x45')\n",
    "var('d1,d2,d3,d4,d5')\n",
    "var('a12,a13,a14,a15,a23,a24,a25,a34,a35,a45')\n",
    "\n",
    "#111111\n",
    "eq1=(d2*d3*x13-a12*d3*x23)/(d1*d2) \n",
    "eq2=(a34*d2*d3*x13+d2*d3*d4*x14-a12*a34*d3*x23-a12*d3*d4*x24+a12*a23*d4*x34-a13*d2*d4*x34)/(d1*d2*d3) \n",
    "eq3=(a35*d2*d3*x13+a45*d2*d3*x14+d2*d3*d5*((x13*x25)/x23)-a12*a35*d3*x23-a12*a45*d3*x24-a12*d3*d5*x25+a12*a23*a45*x34-a13*a45*d2*x34+a12*a23*d5*x35-a13*d2*d5*x35)/(d1*d2*d3) \n",
    "eq4=(d3*x23)/(d2) \n",
    "eq5=(a34*d3*x23+d3*d4*x24-a23*d4*x34)/(d2*d3) \n",
    "eq6=(a35*d3*x23+a45*d3*x24+d3*d5*x25-a23*a45*x34-a23*d5*x35)/(d2*d3) \n",
    "eq7=(d4*x34)/(d3) \n",
    "eq8=(a45*x34+d5*x35)/(d3) \n",
    "\n",
    "m=matrix(QQ, [[0, 0, 0, 0, 1],\n",
    "              [0, 0, 1, 0, 0],\n",
    "              [0, 0, 0, 1, 0],\n",
    "              [0, 0, 0, 0, 0],\n",
    "              [0, 0, 0, 0, 0]])\n",
    "        \n",
    "#entry of matrix: (i,j) line i collum j, means (i-1,j-1)\n",
    "sol=solve([ eq1==m[0,2],\teq2==m[0,3],\teq3==m[0,4],\teq4==m[1,2],\t\n",
    "                                            eq5==m[1,3],    eq6==m[1,4],\n",
    "                                                            eq7==m[2,3], eq8==m[2,4]],d1,d2,d3,d4,d5,a12,a13,a14,a15,a23,a24,a25,a34,a35,a45, solution_dict=True)\n",
    "\n",
    "show(m)\n",
    "show(sol)\n",
    "latex(sol)"
   ]
  },
  {
   "cell_type": "code",
   "execution_count": 100,
   "metadata": {},
   "outputs": [
    {
     "data": {
      "text/html": [
       "<html><script type=\"math/tex; mode=display\">\\newcommand{\\Bold}[1]{\\mathbf{#1}}\\left(\\begin{array}{rrrrr}\n",
       "0 & 0 & 0 & 0 & 0 \\\\\n",
       "0 & 0 & 1 & 0 & 0 \\\\\n",
       "0 & 0 & 0 & 1 & 0 \\\\\n",
       "0 & 0 & 0 & 0 & 0 \\\\\n",
       "0 & 0 & 0 & 0 & 0\n",
       "\\end{array}\\right)</script></html>"
      ],
      "text/latex": [
       "$$\\newcommand{\\Bold}[1]{\\mathbf{#1}}\\left(\\begin{array}{rrrrr}\n",
       "0 & 0 & 0 & 0 & 0 \\\\\n",
       "0 & 0 & 1 & 0 & 0 \\\\\n",
       "0 & 0 & 0 & 1 & 0 \\\\\n",
       "0 & 0 & 0 & 0 & 0 \\\\\n",
       "0 & 0 & 0 & 0 & 0\n",
       "\\end{array}\\right)$$"
      ],
      "text/plain": [
       "[0 0 0 0 0]\n",
       "[0 0 1 0 0]\n",
       "[0 0 0 1 0]\n",
       "[0 0 0 0 0]\n",
       "[0 0 0 0 0]"
      ]
     },
     "metadata": {},
     "output_type": "display_data"
    },
    {
     "data": {
      "text/html": [
       "<html><script type=\"math/tex; mode=display\">\\newcommand{\\Bold}[1]{\\mathbf{#1}}\\left[\\left\\{d_{1} : r_{1811}, d_{2} : 0, d_{3} : 0, d_{4} : 0, d_{5} : r_{1812}, a_{12} : r_{1813}, a_{13} : r_{1814}, a_{14} : r_{1815}, a_{15} : r_{1816}, a_{23} : r_{1817}, a_{24} : r_{1818}, a_{25} : r_{1819}, a_{34} : r_{1820}, a_{35} : r_{1821}, a_{45} : -\\frac{r_{1812} x_{35}}{x_{34}}\\right\\}, \\left\\{d_{1} : r_{1822}, d_{2} : r_{1823}, d_{3} : \\frac{r_{1823}}{x_{23}}, d_{4} : \\frac{r_{1823}}{x_{23} x_{34}}, d_{5} : r_{1824}, a_{12} : \\frac{r_{1823} x_{13}}{x_{23}}, a_{13} : r_{1825}, a_{14} : r_{1826}, a_{15} : r_{1827}, a_{23} : \\frac{r_{1825} x_{23}}{x_{13}}, a_{24} : r_{1828}, a_{25} : r_{1829}, a_{34} : \\frac{r_{1825} x_{23}^{2} x_{34} - r_{1823} x_{13} x_{24}}{x_{13} x_{23}^{2} x_{34}}, a_{35} : -\\frac{r_{1824} x_{25} x_{34} - r_{1824} x_{24} x_{35}}{x_{23} x_{34}}, a_{45} : -\\frac{r_{1824} x_{35}}{x_{34}}\\right\\}\\right]</script></html>"
      ],
      "text/latex": [
       "$$\\newcommand{\\Bold}[1]{\\mathbf{#1}}\\left[\\left\\{d_{1} : r_{1811}, d_{2} : 0, d_{3} : 0, d_{4} : 0, d_{5} : r_{1812}, a_{12} : r_{1813}, a_{13} : r_{1814}, a_{14} : r_{1815}, a_{15} : r_{1816}, a_{23} : r_{1817}, a_{24} : r_{1818}, a_{25} : r_{1819}, a_{34} : r_{1820}, a_{35} : r_{1821}, a_{45} : -\\frac{r_{1812} x_{35}}{x_{34}}\\right\\}, \\left\\{d_{1} : r_{1822}, d_{2} : r_{1823}, d_{3} : \\frac{r_{1823}}{x_{23}}, d_{4} : \\frac{r_{1823}}{x_{23} x_{34}}, d_{5} : r_{1824}, a_{12} : \\frac{r_{1823} x_{13}}{x_{23}}, a_{13} : r_{1825}, a_{14} : r_{1826}, a_{15} : r_{1827}, a_{23} : \\frac{r_{1825} x_{23}}{x_{13}}, a_{24} : r_{1828}, a_{25} : r_{1829}, a_{34} : \\frac{r_{1825} x_{23}^{2} x_{34} - r_{1823} x_{13} x_{24}}{x_{13} x_{23}^{2} x_{34}}, a_{35} : -\\frac{r_{1824} x_{25} x_{34} - r_{1824} x_{24} x_{35}}{x_{23} x_{34}}, a_{45} : -\\frac{r_{1824} x_{35}}{x_{34}}\\right\\}\\right]$$"
      ],
      "text/plain": [
       "[{d1: r1811,\n",
       "  d2: 0,\n",
       "  d3: 0,\n",
       "  d4: 0,\n",
       "  d5: r1812,\n",
       "  a12: r1813,\n",
       "  a13: r1814,\n",
       "  a14: r1815,\n",
       "  a15: r1816,\n",
       "  a23: r1817,\n",
       "  a24: r1818,\n",
       "  a25: r1819,\n",
       "  a34: r1820,\n",
       "  a35: r1821,\n",
       "  a45: -r1812*x35/x34},\n",
       " {d1: r1822,\n",
       "  d2: r1823,\n",
       "  d3: r1823/x23,\n",
       "  d4: r1823/(x23*x34),\n",
       "  d5: r1824,\n",
       "  a12: r1823*x13/x23,\n",
       "  a13: r1825,\n",
       "  a14: r1826,\n",
       "  a15: r1827,\n",
       "  a23: r1825*x23/x13,\n",
       "  a24: r1828,\n",
       "  a25: r1829,\n",
       "  a34: (r1825*x23^2*x34 - r1823*x13*x24)/(x13*x23^2*x34),\n",
       "  a35: -(r1824*x25*x34 - r1824*x24*x35)/(x23*x34),\n",
       "  a45: -r1824*x35/x34}]"
      ]
     },
     "metadata": {},
     "output_type": "display_data"
    },
    {
     "data": {
      "text/plain": [
       "\\left[\\left\\{d_{1} : r_{1811}, d_{2} : 0, d_{3} : 0, d_{4} : 0, d_{5} : r_{1812}, a_{12} : r_{1813}, a_{13} : r_{1814}, a_{14} : r_{1815}, a_{15} : r_{1816}, a_{23} : r_{1817}, a_{24} : r_{1818}, a_{25} : r_{1819}, a_{34} : r_{1820}, a_{35} : r_{1821}, a_{45} : -\\frac{r_{1812} x_{35}}{x_{34}}\\right\\}, \\left\\{d_{1} : r_{1822}, d_{2} : r_{1823}, d_{3} : \\frac{r_{1823}}{x_{23}}, d_{4} : \\frac{r_{1823}}{x_{23} x_{34}}, d_{5} : r_{1824}, a_{12} : \\frac{r_{1823} x_{13}}{x_{23}}, a_{13} : r_{1825}, a_{14} : r_{1826}, a_{15} : r_{1827}, a_{23} : \\frac{r_{1825} x_{23}}{x_{13}}, a_{24} : r_{1828}, a_{25} : r_{1829}, a_{34} : \\frac{r_{1825} x_{23}^{2} x_{34} - r_{1823} x_{13} x_{24}}{x_{13} x_{23}^{2} x_{34}}, a_{35} : -\\frac{r_{1824} x_{25} x_{34} - r_{1824} x_{24} x_{35}}{x_{23} x_{34}}, a_{45} : -\\frac{r_{1824} x_{35}}{x_{34}}\\right\\}\\right]"
      ]
     },
     "execution_count": 100,
     "metadata": {},
     "output_type": "execute_result"
    }
   ],
   "source": [
    "#x6\n",
    "#----------------------\n",
    "#x15 = ((x13*x25)/x23)\n",
    "#x14 = x13*x24/x23\n",
    "#----------------------\n",
    "reset()\n",
    "\n",
    "var('x12,x13,x14,x15,x23,x24,x25,x34,x35,x45')\n",
    "var('d1,d2,d3,d4,d5')\n",
    "var('a12,a13,a14,a15,a23,a24,a25,a34,a35,a45')\n",
    "\n",
    "#111111\n",
    "eq1=(d2*d3*x13-a12*d3*x23)/(d1*d2) \n",
    "eq2=(a34*d2*d3*x13+d2*d3*d4*((x13*x24)/x23)-a12*a34*d3*x23-a12*d3*d4*x24+a12*a23*d4*x34-a13*d2*d4*x34)/(d1*d2*d3) \n",
    "eq3=(a35*d2*d3*x13+a45*d2*d3*((x13*x24)/x23)+d2*d3*d5*((x13*x25)/x23)-a12*a35*d3*x23-a12*a45*d3*x24-a12*d3*d5*x25+a12*a23*a45*x34-a13*a45*d2*x34+a12*a23*d5*x35-a13*d2*d5*x35)/(d1*d2*d3) \n",
    "eq4=(d3*x23)/(d2) \n",
    "eq5=(a34*d3*x23+d3*d4*x24-a23*d4*x34)/(d2*d3) \n",
    "eq6=(a35*d3*x23+a45*d3*x24+d3*d5*x25-a23*a45*x34-a23*d5*x35)/(d2*d3) \n",
    "eq7=(d4*x34)/(d3) \n",
    "eq8=(a45*x34+d5*x35)/(d3) \n",
    "\n",
    "m=matrix(QQ, [[0, 0, 0, 0, 0],\n",
    "              [0, 0, 1, 0, 0],\n",
    "              [0, 0, 0, 1, 0],\n",
    "              [0, 0, 0, 0, 0],\n",
    "              [0, 0, 0, 0, 0]])\n",
    "        \n",
    "#entry of matrix: (i,j) line i collum j, means (i-1,j-1)\n",
    "sol=solve([ eq1==m[0,2],\teq2==m[0,3],\teq3==m[0,4],\teq4==m[1,2],\t\n",
    "                                            eq5==m[1,3],    eq6==m[1,4],\n",
    "                                                            eq7==m[2,3], eq8==m[2,4]],d1,d2,d3,d4,d5,a12,a13,a14,a15,a23,a24,a25,a34,a35,a45, solution_dict=True)\n",
    "\n",
    "show(m)\n",
    "show(sol)\n",
    "latex(sol)"
   ]
  },
  {
   "cell_type": "code",
   "execution_count": 101,
   "metadata": {},
   "outputs": [
    {
     "data": {
      "text/html": [
       "<html><script type=\"math/tex; mode=display\">\\newcommand{\\Bold}[1]{\\mathbf{#1}}\\left(\\begin{array}{rrrrr}\n",
       "0 & 0 & 0 & 0 & 0 \\\\\n",
       "0 & 0 & 1 & 0 & 0 \\\\\n",
       "0 & 0 & 0 & 1 & 0 \\\\\n",
       "0 & 0 & 0 & 0 & 0 \\\\\n",
       "0 & 0 & 0 & 0 & 0\n",
       "\\end{array}\\right)</script></html>"
      ],
      "text/latex": [
       "$$\\newcommand{\\Bold}[1]{\\mathbf{#1}}\\left(\\begin{array}{rrrrr}\n",
       "0 & 0 & 0 & 0 & 0 \\\\\n",
       "0 & 0 & 1 & 0 & 0 \\\\\n",
       "0 & 0 & 0 & 1 & 0 \\\\\n",
       "0 & 0 & 0 & 0 & 0 \\\\\n",
       "0 & 0 & 0 & 0 & 0\n",
       "\\end{array}\\right)$$"
      ],
      "text/plain": [
       "[0 0 0 0 0]\n",
       "[0 0 1 0 0]\n",
       "[0 0 0 1 0]\n",
       "[0 0 0 0 0]\n",
       "[0 0 0 0 0]"
      ]
     },
     "metadata": {},
     "output_type": "display_data"
    },
    {
     "data": {
      "text/html": [
       "<html><script type=\"math/tex; mode=display\">\\newcommand{\\Bold}[1]{\\mathbf{#1}}\\left[\\left\\{d_{1} : r_{1830}, d_{2} : 0, d_{3} : 0, d_{4} : 0, d_{5} : r_{1831}, a_{12} : r_{1832}, a_{13} : r_{1833}, a_{14} : r_{1834}, a_{15} : r_{1835}, a_{23} : r_{1836}, a_{24} : r_{1837}, a_{25} : r_{1838}, a_{34} : r_{1839}, a_{35} : r_{1840}, a_{45} : -\\frac{r_{1831} x_{15} x_{23} - r_{1831} x_{13} x_{25}}{x_{14} x_{23} - x_{13} x_{24}}\\right\\}, \\left\\{d_{1} : r_{1841}, d_{2} : r_{1842}, d_{3} : \\frac{r_{1842}}{x_{23}}, d_{4} : \\frac{r_{1842} x_{15} x_{23} - r_{1842} x_{13} x_{25}}{{\\left(x_{14} x_{23}^{2} - x_{13} x_{23} x_{24}\\right)} x_{35}}, d_{5} : r_{1843}, a_{12} : \\frac{r_{1842} x_{13}}{x_{23}}, a_{13} : r_{1844}, a_{14} : r_{1845}, a_{15} : r_{1846}, a_{23} : \\frac{r_{1844} x_{23}^{2} x_{35} - r_{1842} x_{15} x_{23} + r_{1842} x_{13} x_{25}}{x_{13} x_{23} x_{35}}, a_{24} : r_{1847}, a_{25} : r_{1848}, a_{34} : -\\frac{r_{1842} x_{14} x_{15} x_{23} - r_{1842} x_{13} x_{14} x_{25} - {\\left(r_{1844} x_{14} x_{23}^{2} - r_{1844} x_{13} x_{23} x_{24}\\right)} x_{35}}{{\\left(x_{13} x_{14} x_{23}^{2} - x_{13}^{2} x_{23} x_{24}\\right)} x_{35}}, a_{35} : \\frac{r_{1843} x_{15} x_{24} - r_{1843} x_{14} x_{25}}{x_{14} x_{23} - x_{13} x_{24}}, a_{45} : -\\frac{r_{1843} x_{15} x_{23} - r_{1843} x_{13} x_{25}}{x_{14} x_{23} - x_{13} x_{24}}\\right\\}\\right]</script></html>"
      ],
      "text/latex": [
       "$$\\newcommand{\\Bold}[1]{\\mathbf{#1}}\\left[\\left\\{d_{1} : r_{1830}, d_{2} : 0, d_{3} : 0, d_{4} : 0, d_{5} : r_{1831}, a_{12} : r_{1832}, a_{13} : r_{1833}, a_{14} : r_{1834}, a_{15} : r_{1835}, a_{23} : r_{1836}, a_{24} : r_{1837}, a_{25} : r_{1838}, a_{34} : r_{1839}, a_{35} : r_{1840}, a_{45} : -\\frac{r_{1831} x_{15} x_{23} - r_{1831} x_{13} x_{25}}{x_{14} x_{23} - x_{13} x_{24}}\\right\\}, \\left\\{d_{1} : r_{1841}, d_{2} : r_{1842}, d_{3} : \\frac{r_{1842}}{x_{23}}, d_{4} : \\frac{r_{1842} x_{15} x_{23} - r_{1842} x_{13} x_{25}}{{\\left(x_{14} x_{23}^{2} - x_{13} x_{23} x_{24}\\right)} x_{35}}, d_{5} : r_{1843}, a_{12} : \\frac{r_{1842} x_{13}}{x_{23}}, a_{13} : r_{1844}, a_{14} : r_{1845}, a_{15} : r_{1846}, a_{23} : \\frac{r_{1844} x_{23}^{2} x_{35} - r_{1842} x_{15} x_{23} + r_{1842} x_{13} x_{25}}{x_{13} x_{23} x_{35}}, a_{24} : r_{1847}, a_{25} : r_{1848}, a_{34} : -\\frac{r_{1842} x_{14} x_{15} x_{23} - r_{1842} x_{13} x_{14} x_{25} - {\\left(r_{1844} x_{14} x_{23}^{2} - r_{1844} x_{13} x_{23} x_{24}\\right)} x_{35}}{{\\left(x_{13} x_{14} x_{23}^{2} - x_{13}^{2} x_{23} x_{24}\\right)} x_{35}}, a_{35} : \\frac{r_{1843} x_{15} x_{24} - r_{1843} x_{14} x_{25}}{x_{14} x_{23} - x_{13} x_{24}}, a_{45} : -\\frac{r_{1843} x_{15} x_{23} - r_{1843} x_{13} x_{25}}{x_{14} x_{23} - x_{13} x_{24}}\\right\\}\\right]$$"
      ],
      "text/plain": [
       "[{d1: r1830,\n",
       "  d2: 0,\n",
       "  d3: 0,\n",
       "  d4: 0,\n",
       "  d5: r1831,\n",
       "  a12: r1832,\n",
       "  a13: r1833,\n",
       "  a14: r1834,\n",
       "  a15: r1835,\n",
       "  a23: r1836,\n",
       "  a24: r1837,\n",
       "  a25: r1838,\n",
       "  a34: r1839,\n",
       "  a35: r1840,\n",
       "  a45: -(r1831*x15*x23 - r1831*x13*x25)/(x14*x23 - x13*x24)},\n",
       " {d1: r1841,\n",
       "  d2: r1842,\n",
       "  d3: r1842/x23,\n",
       "  d4: (r1842*x15*x23 - r1842*x13*x25)/((x14*x23^2 - x13*x23*x24)*x35),\n",
       "  d5: r1843,\n",
       "  a12: r1842*x13/x23,\n",
       "  a13: r1844,\n",
       "  a14: r1845,\n",
       "  a15: r1846,\n",
       "  a23: (r1844*x23^2*x35 - r1842*x15*x23 + r1842*x13*x25)/(x13*x23*x35),\n",
       "  a24: r1847,\n",
       "  a25: r1848,\n",
       "  a34: -(r1842*x14*x15*x23 - r1842*x13*x14*x25 - (r1844*x14*x23^2 - r1844*x13*x23*x24)*x35)/((x13*x14*x23^2 - x13^2*x23*x24)*x35),\n",
       "  a35: (r1843*x15*x24 - r1843*x14*x25)/(x14*x23 - x13*x24),\n",
       "  a45: -(r1843*x15*x23 - r1843*x13*x25)/(x14*x23 - x13*x24)}]"
      ]
     },
     "metadata": {},
     "output_type": "display_data"
    },
    {
     "data": {
      "text/plain": [
       "\\left[\\left\\{d_{1} : r_{1830}, d_{2} : 0, d_{3} : 0, d_{4} : 0, d_{5} : r_{1831}, a_{12} : r_{1832}, a_{13} : r_{1833}, a_{14} : r_{1834}, a_{15} : r_{1835}, a_{23} : r_{1836}, a_{24} : r_{1837}, a_{25} : r_{1838}, a_{34} : r_{1839}, a_{35} : r_{1840}, a_{45} : -\\frac{r_{1831} x_{15} x_{23} - r_{1831} x_{13} x_{25}}{x_{14} x_{23} - x_{13} x_{24}}\\right\\}, \\left\\{d_{1} : r_{1841}, d_{2} : r_{1842}, d_{3} : \\frac{r_{1842}}{x_{23}}, d_{4} : \\frac{r_{1842} x_{15} x_{23} - r_{1842} x_{13} x_{25}}{{\\left(x_{14} x_{23}^{2} - x_{13} x_{23} x_{24}\\right)} x_{35}}, d_{5} : r_{1843}, a_{12} : \\frac{r_{1842} x_{13}}{x_{23}}, a_{13} : r_{1844}, a_{14} : r_{1845}, a_{15} : r_{1846}, a_{23} : \\frac{r_{1844} x_{23}^{2} x_{35} - r_{1842} x_{15} x_{23} + r_{1842} x_{13} x_{25}}{x_{13} x_{23} x_{35}}, a_{24} : r_{1847}, a_{25} : r_{1848}, a_{34} : -\\frac{r_{1842} x_{14} x_{15} x_{23} - r_{1842} x_{13} x_{14} x_{25} - {\\left(r_{1844} x_{14} x_{23}^{2} - r_{1844} x_{13} x_{23} x_{24}\\right)} x_{35}}{{\\left(x_{13} x_{14} x_{23}^{2} - x_{13}^{2} x_{23} x_{24}\\right)} x_{35}}, a_{35} : \\frac{r_{1843} x_{15} x_{24} - r_{1843} x_{14} x_{25}}{x_{14} x_{23} - x_{13} x_{24}}, a_{45} : -\\frac{r_{1843} x_{15} x_{23} - r_{1843} x_{13} x_{25}}{x_{14} x_{23} - x_{13} x_{24}}\\right\\}\\right]"
      ]
     },
     "execution_count": 101,
     "metadata": {},
     "output_type": "execute_result"
    }
   ],
   "source": [
    "#x6\n",
    "#----------------------\n",
    "#x15 \\dif ((x13*x25)/x23)\n",
    "#x34 =(((x14*x23-x13*x24)*x35)/((x15*x23-x13*x25)))\n",
    "#x14 \\dif x13*x24/x23\n",
    "#----------------------\n",
    "reset()\n",
    "\n",
    "var('x12,x13,x14,x15,x23,x24,x25,x34,x35,x45')\n",
    "var('d1,d2,d3,d4,d5')\n",
    "var('a12,a13,a14,a15,a23,a24,a25,a34,a35,a45')\n",
    "\n",
    "#111111\n",
    "eq1=(d2*d3*x13-a12*d3*x23)/(d1*d2) \n",
    "eq2=(a34*d2*d3*x13+d2*d3*d4*x14-a12*a34*d3*x23-a12*d3*d4*x24+a12*a23*d4*(((x14*x23-x13*x24)*x35)/((x15*x23-x13*x25)))-a13*d2*d4*(((x14*x23-x13*x24)*x35)/((x15*x23-x13*x25))))/(d1*d2*d3) \n",
    "eq3=(a35*d2*d3*x13+a45*d2*d3*x14+d2*d3*d5*x15-a12*a35*d3*x23-a12*a45*d3*x24-a12*d3*d5*x25+a12*a23*a45*(((x14*x23-x13*x24)*x35)/((x15*x23-x13*x25)))-a13*a45*d2*(((x14*x23-x13*x24)*x35)/((x15*x23-x13*x25)))+a12*a23*d5*x35-a13*d2*d5*x35)/(d1*d2*d3) \n",
    "eq4=(d3*x23)/(d2) \n",
    "eq5=(a34*d3*x23+d3*d4*x24-a23*d4*(((x14*x23-x13*x24)*x35)/((x15*x23-x13*x25))))/(d2*d3) \n",
    "eq6=(a35*d3*x23+a45*d3*x24+d3*d5*x25-a23*a45*(((x14*x23-x13*x24)*x35)/((x15*x23-x13*x25)))-a23*d5*x35)/(d2*d3) \n",
    "eq7=(d4*(((x14*x23-x13*x24)*x35)/((x15*x23-x13*x25))))/(d3) \n",
    "eq8=(a45*(((x14*x23-x13*x24)*x35)/((x15*x23-x13*x25)))+d5*x35)/(d3) \n",
    "\n",
    "m=matrix(QQ, [[0, 0, 0, 0, 0],\n",
    "              [0, 0, 1, 0, 0],\n",
    "              [0, 0, 0, 1, 0],\n",
    "              [0, 0, 0, 0, 0],\n",
    "              [0, 0, 0, 0, 0]])\n",
    "        \n",
    "#entry of matrix: (i,j) line i collum j, means (i-1,j-1)\n",
    "sol=solve([ eq1==m[0,2],\teq2==m[0,3],\teq3==m[0,4],\teq4==m[1,2],\t\n",
    "                                            eq5==m[1,3],    eq6==m[1,4],\n",
    "                                                            eq7==m[2,3], eq8==m[2,4]],d1,d2,d3,d4,d5,a12,a13,a14,a15,a23,a24,a25,a34,a35,a45, solution_dict=True)\n",
    "\n",
    "show(m)\n",
    "show(sol)\n",
    "latex(sol)"
   ]
  },
  {
   "cell_type": "code",
   "execution_count": null,
   "metadata": {},
   "outputs": [],
   "source": []
  }
 ],
 "metadata": {
  "kernelspec": {
   "display_name": "SageMath 9.3",
   "language": "sage",
   "name": "sagemath"
  },
  "language_info": {
   "codemirror_mode": {
    "name": "ipython",
    "version": 3
   },
   "file_extension": ".py",
   "mimetype": "text/x-python",
   "name": "python",
   "nbconvert_exporter": "python",
   "pygments_lexer": "ipython3",
   "version": "3.7.10"
  }
 },
 "nbformat": 4,
 "nbformat_minor": 4
}
