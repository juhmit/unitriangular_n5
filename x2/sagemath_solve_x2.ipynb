{
 "cells": [
  {
   "cell_type": "code",
   "execution_count": 1,
   "metadata": {
    "scrolled": true
   },
   "outputs": [
    {
     "data": {
      "text/html": [
       "<html><script type=\"math/tex; mode=display\">\\newcommand{\\Bold}[1]{\\mathbf{#1}}\\left(\\begin{array}{rrrrr}\n",
       "0 & 1 & 0 & 0 & 0 \\\\\n",
       "0 & 0 & 0 & 0 & 0 \\\\\n",
       "0 & 0 & 0 & 0 & 0 \\\\\n",
       "0 & 0 & 0 & 0 & 0 \\\\\n",
       "0 & 0 & 0 & 0 & 0\n",
       "\\end{array}\\right)</script></html>"
      ],
      "text/latex": [
       "$$\\newcommand{\\Bold}[1]{\\mathbf{#1}}\\left(\\begin{array}{rrrrr}\n",
       "0 & 1 & 0 & 0 & 0 \\\\\n",
       "0 & 0 & 0 & 0 & 0 \\\\\n",
       "0 & 0 & 0 & 0 & 0 \\\\\n",
       "0 & 0 & 0 & 0 & 0 \\\\\n",
       "0 & 0 & 0 & 0 & 0\n",
       "\\end{array}\\right)$$"
      ],
      "text/plain": [
       "[0 1 0 0 0]\n",
       "[0 0 0 0 0]\n",
       "[0 0 0 0 0]\n",
       "[0 0 0 0 0]\n",
       "[0 0 0 0 0]"
      ]
     },
     "metadata": {},
     "output_type": "display_data"
    },
    {
     "data": {
      "text/html": [
       "<html><script type=\"math/tex; mode=display\">\\newcommand{\\Bold}[1]{\\mathbf{#1}}\\left[\\left\\{d_{1} : r_{5} x_{12}, d_{2} : r_{5}, d_{3} : r_{4}, d_{4} : r_{6}, d_{5} : r_{11}, a_{12} : r_{10}, a_{13} : r_{9}, a_{14} : r_{8}, a_{15} : r_{7}, a_{23} : 0, a_{24} : 0, a_{25} : 0, a_{34} : r_{3}, a_{35} : r_{2}, a_{45} : r_{1}\\right\\}\\right]</script></html>"
      ],
      "text/latex": [
       "$$\\newcommand{\\Bold}[1]{\\mathbf{#1}}\\left[\\left\\{d_{1} : r_{5} x_{12}, d_{2} : r_{5}, d_{3} : r_{4}, d_{4} : r_{6}, d_{5} : r_{11}, a_{12} : r_{10}, a_{13} : r_{9}, a_{14} : r_{8}, a_{15} : r_{7}, a_{23} : 0, a_{24} : 0, a_{25} : 0, a_{34} : r_{3}, a_{35} : r_{2}, a_{45} : r_{1}\\right\\}\\right]$$"
      ],
      "text/plain": [
       "[{d1: r5*x12,\n",
       "  d2: r5,\n",
       "  d3: r4,\n",
       "  d4: r6,\n",
       "  d5: r11,\n",
       "  a12: r10,\n",
       "  a13: r9,\n",
       "  a14: r8,\n",
       "  a15: r7,\n",
       "  a23: 0,\n",
       "  a24: 0,\n",
       "  a25: 0,\n",
       "  a34: r3,\n",
       "  a35: r2,\n",
       "  a45: r1}]"
      ]
     },
     "metadata": {},
     "output_type": "display_data"
    },
    {
     "data": {
      "text/plain": [
       "\\left[\\left\\{d_{1} : r_{5} x_{12}, d_{2} : r_{5}, d_{3} : r_{4}, d_{4} : r_{6}, d_{5} : r_{11}, a_{12} : r_{10}, a_{13} : r_{9}, a_{14} : r_{8}, a_{15} : r_{7}, a_{23} : 0, a_{24} : 0, a_{25} : 0, a_{34} : r_{3}, a_{35} : r_{2}, a_{45} : r_{1}\\right\\}\\right]"
      ]
     },
     "execution_count": 1,
     "metadata": {},
     "output_type": "execute_result"
    }
   ],
   "source": [
    "#x2\n",
    "reset()\n",
    "\n",
    "var('x12,x13,x14,x15,x23,x24,x25,x34,x35,x45')\n",
    "var('d1,d2,d3,d4,d5')\n",
    "var('a12,a13,a14,a15,a23,a24,a25,a34,a35,a45')\n",
    "\n",
    "load_attach_path('C:\\\\Users\\\\julia\\\\Documents\\\\unb\\\\doutorado\\\\pensar\\\\codigo_sage_v2\\\\maquina\\\\x2')\n",
    "load('out_#000000.sage')\n",
    "\n",
    "m=matrix(QQ, [[0, 1, 0, 0, 0],\n",
    "              [0, 0, 0, 0, 0],\n",
    "              [0, 0, 0, 0, 0],\n",
    "              [0, 0, 0, 0, 0],\n",
    "              [0, 0, 0, 0, 0]])\n",
    "        \n",
    "#entry of matrix: (i,j) line i collum j, means (i-1,j-1)\n",
    "sol=solve([ eq1==m[0,1],\teq2==m[0,2],\teq3==m[0,3],\teq4==m[0,4],\t\n",
    "                                            eq5==m[1,3],    eq6==m[1,4],\n",
    "                                                            eq7==m[2,4]],d1,d2,d3,d4,d5,a12,a13,a14,a15,a23,a24,a25,a34,a35,a45, solution_dict=True)\n",
    "\n",
    "show(m)\n",
    "show(sol)\n",
    "latex(sol)"
   ]
  },
  {
   "cell_type": "code",
   "execution_count": 2,
   "metadata": {},
   "outputs": [
    {
     "data": {
      "text/html": [
       "<html><script type=\"math/tex; mode=display\">\\newcommand{\\Bold}[1]{\\mathbf{#1}}\\left(\\begin{array}{rrrrr}\n",
       "0 & 1 & 0 & 0 & 0 \\\\\n",
       "0 & 0 & 0 & 0 & 0 \\\\\n",
       "0 & 0 & 0 & 0 & 0 \\\\\n",
       "0 & 0 & 0 & 0 & 0 \\\\\n",
       "0 & 0 & 0 & 0 & 0\n",
       "\\end{array}\\right)</script></html>"
      ],
      "text/latex": [
       "$$\\newcommand{\\Bold}[1]{\\mathbf{#1}}\\left(\\begin{array}{rrrrr}\n",
       "0 & 1 & 0 & 0 & 0 \\\\\n",
       "0 & 0 & 0 & 0 & 0 \\\\\n",
       "0 & 0 & 0 & 0 & 0 \\\\\n",
       "0 & 0 & 0 & 0 & 0 \\\\\n",
       "0 & 0 & 0 & 0 & 0\n",
       "\\end{array}\\right)$$"
      ],
      "text/plain": [
       "[0 1 0 0 0]\n",
       "[0 0 0 0 0]\n",
       "[0 0 0 0 0]\n",
       "[0 0 0 0 0]\n",
       "[0 0 0 0 0]"
      ]
     },
     "metadata": {},
     "output_type": "display_data"
    },
    {
     "data": {
      "text/html": [
       "<html><script type=\"math/tex; mode=display\">\\newcommand{\\Bold}[1]{\\mathbf{#1}}\\left[\\left\\{d_{1} : r_{16} x_{12}, d_{2} : r_{16}, d_{3} : r_{17}, d_{4} : r_{15}, d_{5} : r_{22}, a_{12} : r_{21}, a_{13} : r_{20}, a_{14} : r_{19}, a_{15} : r_{18}, a_{23} : 0, a_{24} : 0, a_{25} : -\\frac{r_{22} x_{15}}{x_{12}}, a_{34} : r_{14}, a_{35} : r_{13}, a_{45} : r_{12}\\right\\}\\right]</script></html>"
      ],
      "text/latex": [
       "$$\\newcommand{\\Bold}[1]{\\mathbf{#1}}\\left[\\left\\{d_{1} : r_{16} x_{12}, d_{2} : r_{16}, d_{3} : r_{17}, d_{4} : r_{15}, d_{5} : r_{22}, a_{12} : r_{21}, a_{13} : r_{20}, a_{14} : r_{19}, a_{15} : r_{18}, a_{23} : 0, a_{24} : 0, a_{25} : -\\frac{r_{22} x_{15}}{x_{12}}, a_{34} : r_{14}, a_{35} : r_{13}, a_{45} : r_{12}\\right\\}\\right]$$"
      ],
      "text/plain": [
       "[{d1: r16*x12,\n",
       "  d2: r16,\n",
       "  d3: r17,\n",
       "  d4: r15,\n",
       "  d5: r22,\n",
       "  a12: r21,\n",
       "  a13: r20,\n",
       "  a14: r19,\n",
       "  a15: r18,\n",
       "  a23: 0,\n",
       "  a24: 0,\n",
       "  a25: -r22*x15/x12,\n",
       "  a34: r14,\n",
       "  a35: r13,\n",
       "  a45: r12}]"
      ]
     },
     "metadata": {},
     "output_type": "display_data"
    },
    {
     "data": {
      "text/plain": [
       "\\left[\\left\\{d_{1} : r_{16} x_{12}, d_{2} : r_{16}, d_{3} : r_{17}, d_{4} : r_{15}, d_{5} : r_{22}, a_{12} : r_{21}, a_{13} : r_{20}, a_{14} : r_{19}, a_{15} : r_{18}, a_{23} : 0, a_{24} : 0, a_{25} : -\\frac{r_{22} x_{15}}{x_{12}}, a_{34} : r_{14}, a_{35} : r_{13}, a_{45} : r_{12}\\right\\}\\right]"
      ]
     },
     "execution_count": 2,
     "metadata": {},
     "output_type": "execute_result"
    }
   ],
   "source": [
    "#x2\n",
    "reset()\n",
    "\n",
    "var('x12,x13,x14,x15,x23,x24,x25,x34,x35,x45')\n",
    "var('d1,d2,d3,d4,d5')\n",
    "var('a12,a13,a14,a15,a23,a24,a25,a34,a35,a45')\n",
    "\n",
    "load_attach_path('C:\\\\Users\\\\julia\\\\Documents\\\\unb\\\\doutorado\\\\pensar\\\\codigo_sage_v2\\\\maquina\\\\x2')\n",
    "load('out_#000001.sage')\n",
    "\n",
    "m=matrix(QQ, [[0, 1, 0, 0, 0],\n",
    "              [0, 0, 0, 0, 0],\n",
    "              [0, 0, 0, 0, 0],\n",
    "              [0, 0, 0, 0, 0],\n",
    "              [0, 0, 0, 0, 0]])\n",
    "        \n",
    "#entry of matrix: (i,j) line i collum j, means (i-1,j-1)\n",
    "sol=solve([ eq1==m[0,1],\teq2==m[0,2],\teq3==m[0,3],\teq4==m[0,4],\t\n",
    "                                            eq5==m[1,3],    eq6==m[1,4],\n",
    "                                                            eq7==m[2,4]],d1,d2,d3,d4,d5,a12,a13,a14,a15,a23,a24,a25,a34,a35,a45, solution_dict=True)\n",
    "\n",
    "show(m)\n",
    "show(sol)\n",
    "latex(sol)"
   ]
  },
  {
   "cell_type": "code",
   "execution_count": 3,
   "metadata": {},
   "outputs": [
    {
     "data": {
      "text/html": [
       "<html><script type=\"math/tex; mode=display\">\\newcommand{\\Bold}[1]{\\mathbf{#1}}\\left(\\begin{array}{rrrrr}\n",
       "0 & 1 & 0 & 0 & 0 \\\\\n",
       "0 & 0 & 0 & 0 & 0 \\\\\n",
       "0 & 0 & 0 & 0 & 0 \\\\\n",
       "0 & 0 & 0 & 0 & 0 \\\\\n",
       "0 & 0 & 0 & 0 & 0\n",
       "\\end{array}\\right)</script></html>"
      ],
      "text/latex": [
       "$$\\newcommand{\\Bold}[1]{\\mathbf{#1}}\\left(\\begin{array}{rrrrr}\n",
       "0 & 1 & 0 & 0 & 0 \\\\\n",
       "0 & 0 & 0 & 0 & 0 \\\\\n",
       "0 & 0 & 0 & 0 & 0 \\\\\n",
       "0 & 0 & 0 & 0 & 0 \\\\\n",
       "0 & 0 & 0 & 0 & 0\n",
       "\\end{array}\\right)$$"
      ],
      "text/plain": [
       "[0 1 0 0 0]\n",
       "[0 0 0 0 0]\n",
       "[0 0 0 0 0]\n",
       "[0 0 0 0 0]\n",
       "[0 0 0 0 0]"
      ]
     },
     "metadata": {},
     "output_type": "display_data"
    },
    {
     "data": {
      "text/html": [
       "<html><script type=\"math/tex; mode=display\">\\newcommand{\\Bold}[1]{\\mathbf{#1}}\\left[\\left\\{d_{1} : r_{28}, d_{2} : \\frac{r_{28}}{x_{12}}, d_{3} : r_{27}, d_{4} : r_{26}, d_{5} : r_{33}, a_{12} : r_{32}, a_{13} : r_{31}, a_{14} : r_{30}, a_{15} : r_{29}, a_{23} : 0, a_{24} : -\\frac{r_{26} x_{14}}{x_{12}}, a_{25} : -\\frac{r_{23} x_{14}}{x_{12}}, a_{34} : r_{25}, a_{35} : r_{24}, a_{45} : r_{23}\\right\\}\\right]</script></html>"
      ],
      "text/latex": [
       "$$\\newcommand{\\Bold}[1]{\\mathbf{#1}}\\left[\\left\\{d_{1} : r_{28}, d_{2} : \\frac{r_{28}}{x_{12}}, d_{3} : r_{27}, d_{4} : r_{26}, d_{5} : r_{33}, a_{12} : r_{32}, a_{13} : r_{31}, a_{14} : r_{30}, a_{15} : r_{29}, a_{23} : 0, a_{24} : -\\frac{r_{26} x_{14}}{x_{12}}, a_{25} : -\\frac{r_{23} x_{14}}{x_{12}}, a_{34} : r_{25}, a_{35} : r_{24}, a_{45} : r_{23}\\right\\}\\right]$$"
      ],
      "text/plain": [
       "[{d1: r28,\n",
       "  d2: r28/x12,\n",
       "  d3: r27,\n",
       "  d4: r26,\n",
       "  d5: r33,\n",
       "  a12: r32,\n",
       "  a13: r31,\n",
       "  a14: r30,\n",
       "  a15: r29,\n",
       "  a23: 0,\n",
       "  a24: -r26*x14/x12,\n",
       "  a25: -r23*x14/x12,\n",
       "  a34: r25,\n",
       "  a35: r24,\n",
       "  a45: r23}]"
      ]
     },
     "metadata": {},
     "output_type": "display_data"
    },
    {
     "data": {
      "text/plain": [
       "\\left[\\left\\{d_{1} : r_{28}, d_{2} : \\frac{r_{28}}{x_{12}}, d_{3} : r_{27}, d_{4} : r_{26}, d_{5} : r_{33}, a_{12} : r_{32}, a_{13} : r_{31}, a_{14} : r_{30}, a_{15} : r_{29}, a_{23} : 0, a_{24} : -\\frac{r_{26} x_{14}}{x_{12}}, a_{25} : -\\frac{r_{23} x_{14}}{x_{12}}, a_{34} : r_{25}, a_{35} : r_{24}, a_{45} : r_{23}\\right\\}\\right]"
      ]
     },
     "execution_count": 3,
     "metadata": {},
     "output_type": "execute_result"
    }
   ],
   "source": [
    "#x2\n",
    "reset()\n",
    "\n",
    "var('x12,x13,x14,x15,x23,x24,x25,x34,x35,x45')\n",
    "var('d1,d2,d3,d4,d5')\n",
    "var('a12,a13,a14,a15,a23,a24,a25,a34,a35,a45')\n",
    "\n",
    "load_attach_path('C:\\\\Users\\\\julia\\\\Documents\\\\unb\\\\doutorado\\\\pensar\\\\codigo_sage_v2\\\\maquina\\\\x2')\n",
    "load('out_#000010.sage')\n",
    "\n",
    "m=matrix(QQ, [[0, 1, 0, 0, 0],\n",
    "              [0, 0, 0, 0, 0],\n",
    "              [0, 0, 0, 0, 0],\n",
    "              [0, 0, 0, 0, 0],\n",
    "              [0, 0, 0, 0, 0]])\n",
    "        \n",
    "#entry of matrix: (i,j) line i collum j, means (i-1,j-1)\n",
    "sol=solve([ eq1==m[0,1],\teq2==m[0,2],\teq3==m[0,3],\teq4==m[0,4],\t\n",
    "                                            eq5==m[1,3],    eq6==m[1,4],\n",
    "                                                            eq7==m[2,4]],d1,d2,d3,d4,d5,a12,a13,a14,a15,a23,a24,a25,a34,a35,a45, solution_dict=True)\n",
    "\n",
    "show(m)\n",
    "show(sol)\n",
    "latex(sol)"
   ]
  },
  {
   "cell_type": "code",
   "execution_count": 4,
   "metadata": {},
   "outputs": [
    {
     "data": {
      "text/html": [
       "<html><script type=\"math/tex; mode=display\">\\newcommand{\\Bold}[1]{\\mathbf{#1}}\\left(\\begin{array}{rrrrr}\n",
       "0 & 1 & 0 & 0 & 0 \\\\\n",
       "0 & 0 & 0 & 0 & 0 \\\\\n",
       "0 & 0 & 0 & 0 & 0 \\\\\n",
       "0 & 0 & 0 & 0 & 0 \\\\\n",
       "0 & 0 & 0 & 0 & 0\n",
       "\\end{array}\\right)</script></html>"
      ],
      "text/latex": [
       "$$\\newcommand{\\Bold}[1]{\\mathbf{#1}}\\left(\\begin{array}{rrrrr}\n",
       "0 & 1 & 0 & 0 & 0 \\\\\n",
       "0 & 0 & 0 & 0 & 0 \\\\\n",
       "0 & 0 & 0 & 0 & 0 \\\\\n",
       "0 & 0 & 0 & 0 & 0 \\\\\n",
       "0 & 0 & 0 & 0 & 0\n",
       "\\end{array}\\right)$$"
      ],
      "text/plain": [
       "[0 1 0 0 0]\n",
       "[0 0 0 0 0]\n",
       "[0 0 0 0 0]\n",
       "[0 0 0 0 0]\n",
       "[0 0 0 0 0]"
      ]
     },
     "metadata": {},
     "output_type": "display_data"
    },
    {
     "data": {
      "text/html": [
       "<html><script type=\"math/tex; mode=display\">\\newcommand{\\Bold}[1]{\\mathbf{#1}}\\left[\\left\\{d_{1} : r_{39}, d_{2} : \\frac{r_{39}}{x_{12}}, d_{3} : r_{38}, d_{4} : r_{37}, d_{5} : r_{44}, a_{12} : r_{43}, a_{13} : r_{42}, a_{14} : r_{41}, a_{15} : r_{40}, a_{23} : 0, a_{24} : -\\frac{r_{37} x_{14}}{x_{12}}, a_{25} : -\\frac{r_{34} x_{14} + r_{44} x_{15}}{x_{12}}, a_{34} : r_{36}, a_{35} : r_{35}, a_{45} : r_{34}\\right\\}\\right]</script></html>"
      ],
      "text/latex": [
       "$$\\newcommand{\\Bold}[1]{\\mathbf{#1}}\\left[\\left\\{d_{1} : r_{39}, d_{2} : \\frac{r_{39}}{x_{12}}, d_{3} : r_{38}, d_{4} : r_{37}, d_{5} : r_{44}, a_{12} : r_{43}, a_{13} : r_{42}, a_{14} : r_{41}, a_{15} : r_{40}, a_{23} : 0, a_{24} : -\\frac{r_{37} x_{14}}{x_{12}}, a_{25} : -\\frac{r_{34} x_{14} + r_{44} x_{15}}{x_{12}}, a_{34} : r_{36}, a_{35} : r_{35}, a_{45} : r_{34}\\right\\}\\right]$$"
      ],
      "text/plain": [
       "[{d1: r39,\n",
       "  d2: r39/x12,\n",
       "  d3: r38,\n",
       "  d4: r37,\n",
       "  d5: r44,\n",
       "  a12: r43,\n",
       "  a13: r42,\n",
       "  a14: r41,\n",
       "  a15: r40,\n",
       "  a23: 0,\n",
       "  a24: -r37*x14/x12,\n",
       "  a25: -(r34*x14 + r44*x15)/x12,\n",
       "  a34: r36,\n",
       "  a35: r35,\n",
       "  a45: r34}]"
      ]
     },
     "metadata": {},
     "output_type": "display_data"
    },
    {
     "data": {
      "text/plain": [
       "\\left[\\left\\{d_{1} : r_{39}, d_{2} : \\frac{r_{39}}{x_{12}}, d_{3} : r_{38}, d_{4} : r_{37}, d_{5} : r_{44}, a_{12} : r_{43}, a_{13} : r_{42}, a_{14} : r_{41}, a_{15} : r_{40}, a_{23} : 0, a_{24} : -\\frac{r_{37} x_{14}}{x_{12}}, a_{25} : -\\frac{r_{34} x_{14} + r_{44} x_{15}}{x_{12}}, a_{34} : r_{36}, a_{35} : r_{35}, a_{45} : r_{34}\\right\\}\\right]"
      ]
     },
     "execution_count": 4,
     "metadata": {},
     "output_type": "execute_result"
    }
   ],
   "source": [
    "#x2\n",
    "reset()\n",
    "\n",
    "var('x12,x13,x14,x15,x23,x24,x25,x34,x35,x45')\n",
    "var('d1,d2,d3,d4,d5')\n",
    "var('a12,a13,a14,a15,a23,a24,a25,a34,a35,a45')\n",
    "\n",
    "load_attach_path('C:\\\\Users\\\\julia\\\\Documents\\\\unb\\\\doutorado\\\\pensar\\\\codigo_sage_v2\\\\maquina\\\\x2')\n",
    "load('out_#000011.sage')\n",
    "\n",
    "m=matrix(QQ, [[0, 1, 0, 0, 0],\n",
    "              [0, 0, 0, 0, 0],\n",
    "              [0, 0, 0, 0, 0],\n",
    "              [0, 0, 0, 0, 0],\n",
    "              [0, 0, 0, 0, 0]])\n",
    "        \n",
    "#entry of matrix: (i,j) line i collum j, means (i-1,j-1)\n",
    "sol=solve([ eq1==m[0,1],\teq2==m[0,2],\teq3==m[0,3],\teq4==m[0,4],\t\n",
    "                                            eq5==m[1,3],    eq6==m[1,4],\n",
    "                                                            eq7==m[2,4]],d1,d2,d3,d4,d5,a12,a13,a14,a15,a23,a24,a25,a34,a35,a45, solution_dict=True)\n",
    "\n",
    "show(m)\n",
    "show(sol)\n",
    "latex(sol)"
   ]
  },
  {
   "cell_type": "code",
   "execution_count": 1,
   "metadata": {},
   "outputs": [
    {
     "data": {
      "text/html": [
       "<html><script type=\"math/tex; mode=display\">\\newcommand{\\Bold}[1]{\\mathbf{#1}}\\left(\\begin{array}{rrrrr}\n",
       "0 & 1 & 0 & 0 & 0 \\\\\n",
       "0 & 0 & 0 & 0 & 0 \\\\\n",
       "0 & 0 & 0 & 0 & 0 \\\\\n",
       "0 & 0 & 0 & 0 & 0 \\\\\n",
       "0 & 0 & 0 & 0 & 0\n",
       "\\end{array}\\right)</script></html>"
      ],
      "text/latex": [
       "$$\\newcommand{\\Bold}[1]{\\mathbf{#1}}\\left(\\begin{array}{rrrrr}\n",
       "0 & 1 & 0 & 0 & 0 \\\\\n",
       "0 & 0 & 0 & 0 & 0 \\\\\n",
       "0 & 0 & 0 & 0 & 0 \\\\\n",
       "0 & 0 & 0 & 0 & 0 \\\\\n",
       "0 & 0 & 0 & 0 & 0\n",
       "\\end{array}\\right)$$"
      ],
      "text/plain": [
       "[0 1 0 0 0]\n",
       "[0 0 0 0 0]\n",
       "[0 0 0 0 0]\n",
       "[0 0 0 0 0]\n",
       "[0 0 0 0 0]"
      ]
     },
     "metadata": {},
     "output_type": "display_data"
    },
    {
     "data": {
      "text/html": [
       "<html><script type=\"math/tex; mode=display\">\\newcommand{\\Bold}[1]{\\mathbf{#1}}\\left[\\left\\{d_{1} : r_{3} x_{12}, d_{2} : r_{3}, d_{3} : -\\frac{r_{6} x_{12}}{x_{13}}, d_{4} : r_{2}, d_{5} : r_{11}, a_{12} : r_{10}, a_{13} : r_{9}, a_{14} : r_{8}, a_{15} : r_{7}, a_{23} : r_{6}, a_{24} : r_{5}, a_{25} : r_{4}, a_{34} : -\\frac{r_{5} x_{12}}{x_{13}}, a_{35} : -\\frac{r_{4} x_{12}}{x_{13}}, a_{45} : r_{1}\\right\\}\\right]</script></html>"
      ],
      "text/latex": [
       "$$\\newcommand{\\Bold}[1]{\\mathbf{#1}}\\left[\\left\\{d_{1} : r_{3} x_{12}, d_{2} : r_{3}, d_{3} : -\\frac{r_{6} x_{12}}{x_{13}}, d_{4} : r_{2}, d_{5} : r_{11}, a_{12} : r_{10}, a_{13} : r_{9}, a_{14} : r_{8}, a_{15} : r_{7}, a_{23} : r_{6}, a_{24} : r_{5}, a_{25} : r_{4}, a_{34} : -\\frac{r_{5} x_{12}}{x_{13}}, a_{35} : -\\frac{r_{4} x_{12}}{x_{13}}, a_{45} : r_{1}\\right\\}\\right]$$"
      ],
      "text/plain": [
       "[{d1: r3*x12,\n",
       "  d2: r3,\n",
       "  d3: -r6*x12/x13,\n",
       "  d4: r2,\n",
       "  d5: r11,\n",
       "  a12: r10,\n",
       "  a13: r9,\n",
       "  a14: r8,\n",
       "  a15: r7,\n",
       "  a23: r6,\n",
       "  a24: r5,\n",
       "  a25: r4,\n",
       "  a34: -r5*x12/x13,\n",
       "  a35: -r4*x12/x13,\n",
       "  a45: r1}]"
      ]
     },
     "metadata": {},
     "output_type": "display_data"
    },
    {
     "data": {
      "text/plain": [
       "\\left[\\left\\{d_{1} : r_{3} x_{12}, d_{2} : r_{3}, d_{3} : -\\frac{r_{6} x_{12}}{x_{13}}, d_{4} : r_{2}, d_{5} : r_{11}, a_{12} : r_{10}, a_{13} : r_{9}, a_{14} : r_{8}, a_{15} : r_{7}, a_{23} : r_{6}, a_{24} : r_{5}, a_{25} : r_{4}, a_{34} : -\\frac{r_{5} x_{12}}{x_{13}}, a_{35} : -\\frac{r_{4} x_{12}}{x_{13}}, a_{45} : r_{1}\\right\\}\\right]"
      ]
     },
     "execution_count": 1,
     "metadata": {},
     "output_type": "execute_result"
    }
   ],
   "source": [
    "#x2\n",
    "reset()\n",
    "\n",
    "var('x12,x13,x14,x15,x23,x24,x25,x34,x35,x45')\n",
    "var('d1,d2,d3,d4,d5')\n",
    "var('a12,a13,a14,a15,a23,a24,a25,a34,a35,a45')\n",
    "\n",
    "load_attach_path('C:\\\\Users\\\\julia\\\\Documents\\\\unb\\\\doutorado\\\\pensar\\\\codigo_sage_v2\\\\maquina\\\\x2')\n",
    "load('out_#000100.sage')\n",
    "\n",
    "m=matrix(QQ, [[0, 1, 0, 0, 0],\n",
    "              [0, 0, 0, 0, 0],\n",
    "              [0, 0, 0, 0, 0],\n",
    "              [0, 0, 0, 0, 0],\n",
    "              [0, 0, 0, 0, 0]])\n",
    "        \n",
    "#entry of matrix: (i,j) line i collum j, means (i-1,j-1)\n",
    "sol=solve([ eq1==m[0,1],\teq2==m[0,2],\teq3==m[0,3],\teq4==m[0,4],\t\n",
    "                                            eq5==m[1,3],    eq6==m[1,4],\n",
    "                                                            eq7==m[2,4]],d1,d2,d3,d4,d5,a12,a13,a14,a15,a23,a24,a25,a34,a35,a45, solution_dict=True)\n",
    "\n",
    "show(m)\n",
    "show(sol)\n",
    "latex(sol)"
   ]
  },
  {
   "cell_type": "code",
   "execution_count": 2,
   "metadata": {},
   "outputs": [
    {
     "data": {
      "text/html": [
       "<html><script type=\"math/tex; mode=display\">\\newcommand{\\Bold}[1]{\\mathbf{#1}}\\left(\\begin{array}{rrrrr}\n",
       "0 & 1 & 0 & 0 & 0 \\\\\n",
       "0 & 0 & 0 & 0 & 0 \\\\\n",
       "0 & 0 & 0 & 0 & 0 \\\\\n",
       "0 & 0 & 0 & 0 & 0 \\\\\n",
       "0 & 0 & 0 & 0 & 0\n",
       "\\end{array}\\right)</script></html>"
      ],
      "text/latex": [
       "$$\\newcommand{\\Bold}[1]{\\mathbf{#1}}\\left(\\begin{array}{rrrrr}\n",
       "0 & 1 & 0 & 0 & 0 \\\\\n",
       "0 & 0 & 0 & 0 & 0 \\\\\n",
       "0 & 0 & 0 & 0 & 0 \\\\\n",
       "0 & 0 & 0 & 0 & 0 \\\\\n",
       "0 & 0 & 0 & 0 & 0\n",
       "\\end{array}\\right)$$"
      ],
      "text/plain": [
       "[0 1 0 0 0]\n",
       "[0 0 0 0 0]\n",
       "[0 0 0 0 0]\n",
       "[0 0 0 0 0]\n",
       "[0 0 0 0 0]"
      ]
     },
     "metadata": {},
     "output_type": "display_data"
    },
    {
     "data": {
      "text/html": [
       "<html><script type=\"math/tex; mode=display\">\\newcommand{\\Bold}[1]{\\mathbf{#1}}\\left[\\left\\{d_{1} : r_{14} x_{12}, d_{2} : r_{14}, d_{3} : -\\frac{r_{17} x_{12}}{x_{13}}, d_{4} : r_{13}, d_{5} : r_{22}, a_{12} : r_{21}, a_{13} : r_{20}, a_{14} : r_{19}, a_{15} : r_{18}, a_{23} : r_{17}, a_{24} : r_{16}, a_{25} : r_{15}, a_{34} : -\\frac{r_{16} x_{12}}{x_{13}}, a_{35} : -\\frac{r_{15} x_{12} + r_{22} x_{15}}{x_{13}}, a_{45} : r_{12}\\right\\}\\right]</script></html>"
      ],
      "text/latex": [
       "$$\\newcommand{\\Bold}[1]{\\mathbf{#1}}\\left[\\left\\{d_{1} : r_{14} x_{12}, d_{2} : r_{14}, d_{3} : -\\frac{r_{17} x_{12}}{x_{13}}, d_{4} : r_{13}, d_{5} : r_{22}, a_{12} : r_{21}, a_{13} : r_{20}, a_{14} : r_{19}, a_{15} : r_{18}, a_{23} : r_{17}, a_{24} : r_{16}, a_{25} : r_{15}, a_{34} : -\\frac{r_{16} x_{12}}{x_{13}}, a_{35} : -\\frac{r_{15} x_{12} + r_{22} x_{15}}{x_{13}}, a_{45} : r_{12}\\right\\}\\right]$$"
      ],
      "text/plain": [
       "[{d1: r14*x12,\n",
       "  d2: r14,\n",
       "  d3: -r17*x12/x13,\n",
       "  d4: r13,\n",
       "  d5: r22,\n",
       "  a12: r21,\n",
       "  a13: r20,\n",
       "  a14: r19,\n",
       "  a15: r18,\n",
       "  a23: r17,\n",
       "  a24: r16,\n",
       "  a25: r15,\n",
       "  a34: -r16*x12/x13,\n",
       "  a35: -(r15*x12 + r22*x15)/x13,\n",
       "  a45: r12}]"
      ]
     },
     "metadata": {},
     "output_type": "display_data"
    },
    {
     "data": {
      "text/plain": [
       "\\left[\\left\\{d_{1} : r_{14} x_{12}, d_{2} : r_{14}, d_{3} : -\\frac{r_{17} x_{12}}{x_{13}}, d_{4} : r_{13}, d_{5} : r_{22}, a_{12} : r_{21}, a_{13} : r_{20}, a_{14} : r_{19}, a_{15} : r_{18}, a_{23} : r_{17}, a_{24} : r_{16}, a_{25} : r_{15}, a_{34} : -\\frac{r_{16} x_{12}}{x_{13}}, a_{35} : -\\frac{r_{15} x_{12} + r_{22} x_{15}}{x_{13}}, a_{45} : r_{12}\\right\\}\\right]"
      ]
     },
     "execution_count": 2,
     "metadata": {},
     "output_type": "execute_result"
    }
   ],
   "source": [
    "#x2\n",
    "reset()\n",
    "\n",
    "var('x12,x13,x14,x15,x23,x24,x25,x34,x35,x45')\n",
    "var('d1,d2,d3,d4,d5')\n",
    "var('a12,a13,a14,a15,a23,a24,a25,a34,a35,a45')\n",
    "\n",
    "load_attach_path('C:\\\\Users\\\\julia\\\\Documents\\\\unb\\\\doutorado\\\\pensar\\\\codigo_sage_v2\\\\maquina\\\\x2')\n",
    "load('out_#000101.sage')\n",
    "\n",
    "m=matrix(QQ, [[0, 1, 0, 0, 0],\n",
    "              [0, 0, 0, 0, 0],\n",
    "              [0, 0, 0, 0, 0],\n",
    "              [0, 0, 0, 0, 0],\n",
    "              [0, 0, 0, 0, 0]])\n",
    "        \n",
    "#entry of matrix: (i,j) line i collum j, means (i-1,j-1)\n",
    "sol=solve([ eq1==m[0,1],\teq2==m[0,2],\teq3==m[0,3],\teq4==m[0,4],\t\n",
    "                                            eq5==m[1,3],    eq6==m[1,4],\n",
    "                                                            eq7==m[2,4]],d1,d2,d3,d4,d5,a12,a13,a14,a15,a23,a24,a25,a34,a35,a45, solution_dict=True)\n",
    "\n",
    "show(m)\n",
    "show(sol)\n",
    "latex(sol)"
   ]
  },
  {
   "cell_type": "code",
   "execution_count": 7,
   "metadata": {},
   "outputs": [
    {
     "data": {
      "text/html": [
       "<html><script type=\"math/tex; mode=display\">\\newcommand{\\Bold}[1]{\\mathbf{#1}}\\left(\\begin{array}{rrrrr}\n",
       "0 & 1 & 0 & 0 & 0 \\\\\n",
       "0 & 0 & 0 & 0 & 0 \\\\\n",
       "0 & 0 & 0 & 0 & 0 \\\\\n",
       "0 & 0 & 0 & 0 & 0 \\\\\n",
       "0 & 0 & 0 & 0 & 0\n",
       "\\end{array}\\right)</script></html>"
      ],
      "text/latex": [
       "$$\\newcommand{\\Bold}[1]{\\mathbf{#1}}\\left(\\begin{array}{rrrrr}\n",
       "0 & 1 & 0 & 0 & 0 \\\\\n",
       "0 & 0 & 0 & 0 & 0 \\\\\n",
       "0 & 0 & 0 & 0 & 0 \\\\\n",
       "0 & 0 & 0 & 0 & 0 \\\\\n",
       "0 & 0 & 0 & 0 & 0\n",
       "\\end{array}\\right)$$"
      ],
      "text/plain": [
       "[0 1 0 0 0]\n",
       "[0 0 0 0 0]\n",
       "[0 0 0 0 0]\n",
       "[0 0 0 0 0]\n",
       "[0 0 0 0 0]"
      ]
     },
     "metadata": {},
     "output_type": "display_data"
    },
    {
     "data": {
      "text/html": [
       "<html><script type=\"math/tex; mode=display\">\\newcommand{\\Bold}[1]{\\mathbf{#1}}\\left[\\left\\{d_{1} : r_{69} x_{12}, d_{2} : r_{69}, d_{3} : -\\frac{r_{72} x_{12}}{x_{13}}, d_{4} : r_{68}, d_{5} : r_{77}, a_{12} : r_{76}, a_{13} : r_{75}, a_{14} : r_{74}, a_{15} : r_{73}, a_{23} : r_{72}, a_{24} : r_{71}, a_{25} : r_{70}, a_{34} : -\\frac{r_{71} x_{12} + r_{68} x_{14}}{x_{13}}, a_{35} : -\\frac{r_{70} x_{12} + r_{67} x_{14}}{x_{13}}, a_{45} : r_{67}\\right\\}\\right]</script></html>"
      ],
      "text/latex": [
       "$$\\newcommand{\\Bold}[1]{\\mathbf{#1}}\\left[\\left\\{d_{1} : r_{69} x_{12}, d_{2} : r_{69}, d_{3} : -\\frac{r_{72} x_{12}}{x_{13}}, d_{4} : r_{68}, d_{5} : r_{77}, a_{12} : r_{76}, a_{13} : r_{75}, a_{14} : r_{74}, a_{15} : r_{73}, a_{23} : r_{72}, a_{24} : r_{71}, a_{25} : r_{70}, a_{34} : -\\frac{r_{71} x_{12} + r_{68} x_{14}}{x_{13}}, a_{35} : -\\frac{r_{70} x_{12} + r_{67} x_{14}}{x_{13}}, a_{45} : r_{67}\\right\\}\\right]$$"
      ],
      "text/plain": [
       "[{d1: r69*x12,\n",
       "  d2: r69,\n",
       "  d3: -r72*x12/x13,\n",
       "  d4: r68,\n",
       "  d5: r77,\n",
       "  a12: r76,\n",
       "  a13: r75,\n",
       "  a14: r74,\n",
       "  a15: r73,\n",
       "  a23: r72,\n",
       "  a24: r71,\n",
       "  a25: r70,\n",
       "  a34: -(r71*x12 + r68*x14)/x13,\n",
       "  a35: -(r70*x12 + r67*x14)/x13,\n",
       "  a45: r67}]"
      ]
     },
     "metadata": {},
     "output_type": "display_data"
    },
    {
     "data": {
      "text/plain": [
       "\\left[\\left\\{d_{1} : r_{69} x_{12}, d_{2} : r_{69}, d_{3} : -\\frac{r_{72} x_{12}}{x_{13}}, d_{4} : r_{68}, d_{5} : r_{77}, a_{12} : r_{76}, a_{13} : r_{75}, a_{14} : r_{74}, a_{15} : r_{73}, a_{23} : r_{72}, a_{24} : r_{71}, a_{25} : r_{70}, a_{34} : -\\frac{r_{71} x_{12} + r_{68} x_{14}}{x_{13}}, a_{35} : -\\frac{r_{70} x_{12} + r_{67} x_{14}}{x_{13}}, a_{45} : r_{67}\\right\\}\\right]"
      ]
     },
     "execution_count": 7,
     "metadata": {},
     "output_type": "execute_result"
    }
   ],
   "source": [
    "#x2\n",
    "reset()\n",
    "\n",
    "var('x12,x13,x14,x15,x23,x24,x25,x34,x35,x45')\n",
    "var('d1,d2,d3,d4,d5')\n",
    "var('a12,a13,a14,a15,a23,a24,a25,a34,a35,a45')\n",
    "\n",
    "load_attach_path('C:\\\\Users\\\\julia\\\\Documents\\\\unb\\\\doutorado\\\\pensar\\\\codigo_sage_v2\\\\maquina\\\\x2')\n",
    "load('out_#000110.sage')\n",
    "\n",
    "m=matrix(QQ, [[0, 1, 0, 0, 0],\n",
    "              [0, 0, 0, 0, 0],\n",
    "              [0, 0, 0, 0, 0],\n",
    "              [0, 0, 0, 0, 0],\n",
    "              [0, 0, 0, 0, 0]])\n",
    "        \n",
    "#entry of matrix: (i,j) line i collum j, means (i-1,j-1)\n",
    "sol=solve([ eq1==m[0,1],\teq2==m[0,2],\teq3==m[0,3],\teq4==m[0,4],\t\n",
    "                                            eq5==m[1,3],    eq6==m[1,4],\n",
    "                                                            eq7==m[2,4]],d1,d2,d3,d4,d5,a12,a13,a14,a15,a23,a24,a25,a34,a35,a45, solution_dict=True)\n",
    "show(m)\n",
    "show(sol)\n",
    "latex(sol)"
   ]
  },
  {
   "cell_type": "code",
   "execution_count": 8,
   "metadata": {},
   "outputs": [
    {
     "data": {
      "text/html": [
       "<html><script type=\"math/tex; mode=display\">\\newcommand{\\Bold}[1]{\\mathbf{#1}}\\left(\\begin{array}{rrrrr}\n",
       "0 & 1 & 0 & 0 & 0 \\\\\n",
       "0 & 0 & 0 & 0 & 0 \\\\\n",
       "0 & 0 & 0 & 0 & 0 \\\\\n",
       "0 & 0 & 0 & 0 & 0 \\\\\n",
       "0 & 0 & 0 & 0 & 0\n",
       "\\end{array}\\right)</script></html>"
      ],
      "text/latex": [
       "$$\\newcommand{\\Bold}[1]{\\mathbf{#1}}\\left(\\begin{array}{rrrrr}\n",
       "0 & 1 & 0 & 0 & 0 \\\\\n",
       "0 & 0 & 0 & 0 & 0 \\\\\n",
       "0 & 0 & 0 & 0 & 0 \\\\\n",
       "0 & 0 & 0 & 0 & 0 \\\\\n",
       "0 & 0 & 0 & 0 & 0\n",
       "\\end{array}\\right)$$"
      ],
      "text/plain": [
       "[0 1 0 0 0]\n",
       "[0 0 0 0 0]\n",
       "[0 0 0 0 0]\n",
       "[0 0 0 0 0]\n",
       "[0 0 0 0 0]"
      ]
     },
     "metadata": {},
     "output_type": "display_data"
    },
    {
     "data": {
      "text/html": [
       "<html><script type=\"math/tex; mode=display\">\\newcommand{\\Bold}[1]{\\mathbf{#1}}\\left[\\left\\{d_{1} : r_{80} x_{12}, d_{2} : r_{80}, d_{3} : -\\frac{r_{83} x_{12}}{x_{13}}, d_{4} : r_{79}, d_{5} : r_{88}, a_{12} : r_{87}, a_{13} : r_{86}, a_{14} : r_{85}, a_{15} : r_{84}, a_{23} : r_{83}, a_{24} : r_{82}, a_{25} : r_{81}, a_{34} : -\\frac{r_{82} x_{12} + r_{79} x_{14}}{x_{13}}, a_{35} : -\\frac{r_{81} x_{12} + r_{78} x_{14} + r_{88} x_{15}}{x_{13}}, a_{45} : r_{78}\\right\\}\\right]</script></html>"
      ],
      "text/latex": [
       "$$\\newcommand{\\Bold}[1]{\\mathbf{#1}}\\left[\\left\\{d_{1} : r_{80} x_{12}, d_{2} : r_{80}, d_{3} : -\\frac{r_{83} x_{12}}{x_{13}}, d_{4} : r_{79}, d_{5} : r_{88}, a_{12} : r_{87}, a_{13} : r_{86}, a_{14} : r_{85}, a_{15} : r_{84}, a_{23} : r_{83}, a_{24} : r_{82}, a_{25} : r_{81}, a_{34} : -\\frac{r_{82} x_{12} + r_{79} x_{14}}{x_{13}}, a_{35} : -\\frac{r_{81} x_{12} + r_{78} x_{14} + r_{88} x_{15}}{x_{13}}, a_{45} : r_{78}\\right\\}\\right]$$"
      ],
      "text/plain": [
       "[{d1: r80*x12,\n",
       "  d2: r80,\n",
       "  d3: -r83*x12/x13,\n",
       "  d4: r79,\n",
       "  d5: r88,\n",
       "  a12: r87,\n",
       "  a13: r86,\n",
       "  a14: r85,\n",
       "  a15: r84,\n",
       "  a23: r83,\n",
       "  a24: r82,\n",
       "  a25: r81,\n",
       "  a34: -(r82*x12 + r79*x14)/x13,\n",
       "  a35: -(r81*x12 + r78*x14 + r88*x15)/x13,\n",
       "  a45: r78}]"
      ]
     },
     "metadata": {},
     "output_type": "display_data"
    },
    {
     "data": {
      "text/plain": [
       "\\left[\\left\\{d_{1} : r_{80} x_{12}, d_{2} : r_{80}, d_{3} : -\\frac{r_{83} x_{12}}{x_{13}}, d_{4} : r_{79}, d_{5} : r_{88}, a_{12} : r_{87}, a_{13} : r_{86}, a_{14} : r_{85}, a_{15} : r_{84}, a_{23} : r_{83}, a_{24} : r_{82}, a_{25} : r_{81}, a_{34} : -\\frac{r_{82} x_{12} + r_{79} x_{14}}{x_{13}}, a_{35} : -\\frac{r_{81} x_{12} + r_{78} x_{14} + r_{88} x_{15}}{x_{13}}, a_{45} : r_{78}\\right\\}\\right]"
      ]
     },
     "execution_count": 8,
     "metadata": {},
     "output_type": "execute_result"
    }
   ],
   "source": [
    "#x2\n",
    "reset()\n",
    "\n",
    "var('x12,x13,x14,x15,x23,x24,x25,x34,x35,x45')\n",
    "var('d1,d2,d3,d4,d5')\n",
    "var('a12,a13,a14,a15,a23,a24,a25,a34,a35,a45')\n",
    "\n",
    "load_attach_path('C:\\\\Users\\\\julia\\\\Documents\\\\unb\\\\doutorado\\\\pensar\\\\codigo_sage_v2\\\\maquina\\\\x2')\n",
    "load('out_#000111.sage')\n",
    "\n",
    "m=matrix(QQ, [[0, 1, 0, 0, 0],\n",
    "              [0, 0, 0, 0, 0],\n",
    "              [0, 0, 0, 0, 0],\n",
    "              [0, 0, 0, 0, 0],\n",
    "              [0, 0, 0, 0, 0]])\n",
    "        \n",
    "#entry of matrix: (i,j) line i collum j, means (i-1,j-1)\n",
    "sol=solve([ eq1==m[0,1],\teq2==m[0,2],\teq3==m[0,3],\teq4==m[0,4],\t\n",
    "                                            eq5==m[1,3],    eq6==m[1,4],\n",
    "                                                            eq7==m[2,4]],d1,d2,d3,d4,d5,a12,a13,a14,a15,a23,a24,a25,a34,a35,a45, solution_dict=True)\n",
    "\n",
    "show(m)\n",
    "show(sol)\n",
    "latex(sol)"
   ]
  },
  {
   "cell_type": "code",
   "execution_count": 9,
   "metadata": {
    "scrolled": true
   },
   "outputs": [
    {
     "data": {
      "text/html": [
       "<html><script type=\"math/tex; mode=display\">\\newcommand{\\Bold}[1]{\\mathbf{#1}}\\left(\\begin{array}{rrrrr}\n",
       "0 & 1 & 0 & 0 & 0 \\\\\n",
       "0 & 0 & 0 & 0 & 1 \\\\\n",
       "0 & 0 & 0 & 0 & 0 \\\\\n",
       "0 & 0 & 0 & 0 & 0 \\\\\n",
       "0 & 0 & 0 & 0 & 0\n",
       "\\end{array}\\right)</script></html>"
      ],
      "text/latex": [
       "$$\\newcommand{\\Bold}[1]{\\mathbf{#1}}\\left(\\begin{array}{rrrrr}\n",
       "0 & 1 & 0 & 0 & 0 \\\\\n",
       "0 & 0 & 0 & 0 & 1 \\\\\n",
       "0 & 0 & 0 & 0 & 0 \\\\\n",
       "0 & 0 & 0 & 0 & 0 \\\\\n",
       "0 & 0 & 0 & 0 & 0\n",
       "\\end{array}\\right)$$"
      ],
      "text/plain": [
       "[0 1 0 0 0]\n",
       "[0 0 0 0 1]\n",
       "[0 0 0 0 0]\n",
       "[0 0 0 0 0]\n",
       "[0 0 0 0 0]"
      ]
     },
     "metadata": {},
     "output_type": "display_data"
    },
    {
     "data": {
      "text/html": [
       "<html><script type=\"math/tex; mode=display\">\\newcommand{\\Bold}[1]{\\mathbf{#1}}\\left[\\left\\{d_{1} : 0, d_{2} : 0, d_{3} : r_{89}, d_{4} : r_{90}, d_{5} : 0, a_{12} : r_{91}, a_{13} : r_{92}, a_{14} : r_{93}, a_{15} : r_{94}, a_{23} : 0, a_{24} : 0, a_{25} : r_{95}, a_{34} : r_{96}, a_{35} : r_{97}, a_{45} : r_{98}\\right\\}, \\left\\{d_{1} : r_{99}, d_{2} : \\frac{r_{99}}{x_{12}}, d_{3} : r_{100}, d_{4} : r_{101}, d_{5} : \\frac{r_{99}}{x_{12} x_{25}}, a_{12} : r_{102}, a_{13} : r_{103}, a_{14} : r_{104}, a_{15} : r_{105}, a_{23} : 0, a_{24} : 0, a_{25} : \\frac{r_{102}}{x_{12}}, a_{34} : r_{106}, a_{35} : r_{107}, a_{45} : r_{108}\\right\\}\\right]</script></html>"
      ],
      "text/latex": [
       "$$\\newcommand{\\Bold}[1]{\\mathbf{#1}}\\left[\\left\\{d_{1} : 0, d_{2} : 0, d_{3} : r_{89}, d_{4} : r_{90}, d_{5} : 0, a_{12} : r_{91}, a_{13} : r_{92}, a_{14} : r_{93}, a_{15} : r_{94}, a_{23} : 0, a_{24} : 0, a_{25} : r_{95}, a_{34} : r_{96}, a_{35} : r_{97}, a_{45} : r_{98}\\right\\}, \\left\\{d_{1} : r_{99}, d_{2} : \\frac{r_{99}}{x_{12}}, d_{3} : r_{100}, d_{4} : r_{101}, d_{5} : \\frac{r_{99}}{x_{12} x_{25}}, a_{12} : r_{102}, a_{13} : r_{103}, a_{14} : r_{104}, a_{15} : r_{105}, a_{23} : 0, a_{24} : 0, a_{25} : \\frac{r_{102}}{x_{12}}, a_{34} : r_{106}, a_{35} : r_{107}, a_{45} : r_{108}\\right\\}\\right]$$"
      ],
      "text/plain": [
       "[{d1: 0,\n",
       "  d2: 0,\n",
       "  d3: r89,\n",
       "  d4: r90,\n",
       "  d5: 0,\n",
       "  a12: r91,\n",
       "  a13: r92,\n",
       "  a14: r93,\n",
       "  a15: r94,\n",
       "  a23: 0,\n",
       "  a24: 0,\n",
       "  a25: r95,\n",
       "  a34: r96,\n",
       "  a35: r97,\n",
       "  a45: r98},\n",
       " {d1: r99,\n",
       "  d2: r99/x12,\n",
       "  d3: r100,\n",
       "  d4: r101,\n",
       "  d5: r99/(x12*x25),\n",
       "  a12: r102,\n",
       "  a13: r103,\n",
       "  a14: r104,\n",
       "  a15: r105,\n",
       "  a23: 0,\n",
       "  a24: 0,\n",
       "  a25: r102/x12,\n",
       "  a34: r106,\n",
       "  a35: r107,\n",
       "  a45: r108}]"
      ]
     },
     "metadata": {},
     "output_type": "display_data"
    },
    {
     "data": {
      "text/plain": [
       "\\left[\\left\\{d_{1} : 0, d_{2} : 0, d_{3} : r_{89}, d_{4} : r_{90}, d_{5} : 0, a_{12} : r_{91}, a_{13} : r_{92}, a_{14} : r_{93}, a_{15} : r_{94}, a_{23} : 0, a_{24} : 0, a_{25} : r_{95}, a_{34} : r_{96}, a_{35} : r_{97}, a_{45} : r_{98}\\right\\}, \\left\\{d_{1} : r_{99}, d_{2} : \\frac{r_{99}}{x_{12}}, d_{3} : r_{100}, d_{4} : r_{101}, d_{5} : \\frac{r_{99}}{x_{12} x_{25}}, a_{12} : r_{102}, a_{13} : r_{103}, a_{14} : r_{104}, a_{15} : r_{105}, a_{23} : 0, a_{24} : 0, a_{25} : \\frac{r_{102}}{x_{12}}, a_{34} : r_{106}, a_{35} : r_{107}, a_{45} : r_{108}\\right\\}\\right]"
      ]
     },
     "execution_count": 9,
     "metadata": {},
     "output_type": "execute_result"
    }
   ],
   "source": [
    "#x2\n",
    "reset()\n",
    "\n",
    "var('x12,x13,x14,x15,x23,x24,x25,x34,x35,x45')\n",
    "var('d1,d2,d3,d4,d5')\n",
    "var('a12,a13,a14,a15,a23,a24,a25,a34,a35,a45')\n",
    "\n",
    "load_attach_path('C:\\\\Users\\\\julia\\\\Documents\\\\unb\\\\doutorado\\\\pensar\\\\codigo_sage_v2\\\\maquina\\\\x2')\n",
    "load('out_#001000.sage')\n",
    "\n",
    "m=matrix(QQ, [[0, 1, 0, 0, 0],\n",
    "              [0, 0, 0, 0, 1],\n",
    "              [0, 0, 0, 0, 0],\n",
    "              [0, 0, 0, 0, 0],\n",
    "              [0, 0, 0, 0, 0]])\n",
    "        \n",
    "#entry of matrix: (i,j) line i collum j, means (i-1,j-1)\n",
    "sol=solve([ eq1==m[0,1],\teq2==m[0,2],\teq3==m[0,3],\teq4==m[0,4],\t\n",
    "                                            eq5==m[1,3],    eq6==m[1,4],\n",
    "                                                            eq7==m[2,4]],d1,d2,d3,d4,d5,a12,a13,a14,a15,a23,a24,a25,a34,a35,a45, solution_dict=True)\n",
    "\n",
    "show(m)\n",
    "show(sol)\n",
    "latex(sol)"
   ]
  },
  {
   "cell_type": "code",
   "execution_count": 10,
   "metadata": {},
   "outputs": [
    {
     "data": {
      "text/html": [
       "<html><script type=\"math/tex; mode=display\">\\newcommand{\\Bold}[1]{\\mathbf{#1}}\\left(\\begin{array}{rrrrr}\n",
       "0 & 1 & 0 & 0 & 0 \\\\\n",
       "0 & 0 & 0 & 0 & 1 \\\\\n",
       "0 & 0 & 0 & 0 & 0 \\\\\n",
       "0 & 0 & 0 & 0 & 0 \\\\\n",
       "0 & 0 & 0 & 0 & 0\n",
       "\\end{array}\\right)</script></html>"
      ],
      "text/latex": [
       "$$\\newcommand{\\Bold}[1]{\\mathbf{#1}}\\left(\\begin{array}{rrrrr}\n",
       "0 & 1 & 0 & 0 & 0 \\\\\n",
       "0 & 0 & 0 & 0 & 1 \\\\\n",
       "0 & 0 & 0 & 0 & 0 \\\\\n",
       "0 & 0 & 0 & 0 & 0 \\\\\n",
       "0 & 0 & 0 & 0 & 0\n",
       "\\end{array}\\right)$$"
      ],
      "text/plain": [
       "[0 1 0 0 0]\n",
       "[0 0 0 0 1]\n",
       "[0 0 0 0 0]\n",
       "[0 0 0 0 0]\n",
       "[0 0 0 0 0]"
      ]
     },
     "metadata": {},
     "output_type": "display_data"
    },
    {
     "data": {
      "text/html": [
       "<html><script type=\"math/tex; mode=display\">\\newcommand{\\Bold}[1]{\\mathbf{#1}}\\left[\\left\\{d_{1} : 0, d_{2} : 0, d_{3} : r_{109}, d_{4} : r_{110}, d_{5} : 0, a_{12} : r_{111}, a_{13} : r_{112}, a_{14} : r_{113}, a_{15} : r_{114}, a_{23} : 0, a_{24} : 0, a_{25} : r_{115}, a_{34} : r_{116}, a_{35} : r_{117}, a_{45} : r_{118}\\right\\}, \\left\\{d_{1} : r_{119}, d_{2} : \\frac{r_{119}}{x_{12}}, d_{3} : r_{120}, d_{4} : r_{121}, d_{5} : \\frac{r_{119}}{x_{12} x_{25}}, a_{12} : r_{122}, a_{13} : r_{123}, a_{14} : r_{124}, a_{15} : r_{125}, a_{23} : 0, a_{24} : 0, a_{25} : \\frac{r_{122} x_{12} x_{25} - r_{119} x_{15}}{x_{12}^{2} x_{25}}, a_{34} : r_{126}, a_{35} : r_{127}, a_{45} : r_{128}\\right\\}\\right]</script></html>"
      ],
      "text/latex": [
       "$$\\newcommand{\\Bold}[1]{\\mathbf{#1}}\\left[\\left\\{d_{1} : 0, d_{2} : 0, d_{3} : r_{109}, d_{4} : r_{110}, d_{5} : 0, a_{12} : r_{111}, a_{13} : r_{112}, a_{14} : r_{113}, a_{15} : r_{114}, a_{23} : 0, a_{24} : 0, a_{25} : r_{115}, a_{34} : r_{116}, a_{35} : r_{117}, a_{45} : r_{118}\\right\\}, \\left\\{d_{1} : r_{119}, d_{2} : \\frac{r_{119}}{x_{12}}, d_{3} : r_{120}, d_{4} : r_{121}, d_{5} : \\frac{r_{119}}{x_{12} x_{25}}, a_{12} : r_{122}, a_{13} : r_{123}, a_{14} : r_{124}, a_{15} : r_{125}, a_{23} : 0, a_{24} : 0, a_{25} : \\frac{r_{122} x_{12} x_{25} - r_{119} x_{15}}{x_{12}^{2} x_{25}}, a_{34} : r_{126}, a_{35} : r_{127}, a_{45} : r_{128}\\right\\}\\right]$$"
      ],
      "text/plain": [
       "[{d1: 0,\n",
       "  d2: 0,\n",
       "  d3: r109,\n",
       "  d4: r110,\n",
       "  d5: 0,\n",
       "  a12: r111,\n",
       "  a13: r112,\n",
       "  a14: r113,\n",
       "  a15: r114,\n",
       "  a23: 0,\n",
       "  a24: 0,\n",
       "  a25: r115,\n",
       "  a34: r116,\n",
       "  a35: r117,\n",
       "  a45: r118},\n",
       " {d1: r119,\n",
       "  d2: r119/x12,\n",
       "  d3: r120,\n",
       "  d4: r121,\n",
       "  d5: r119/(x12*x25),\n",
       "  a12: r122,\n",
       "  a13: r123,\n",
       "  a14: r124,\n",
       "  a15: r125,\n",
       "  a23: 0,\n",
       "  a24: 0,\n",
       "  a25: (r122*x12*x25 - r119*x15)/(x12^2*x25),\n",
       "  a34: r126,\n",
       "  a35: r127,\n",
       "  a45: r128}]"
      ]
     },
     "metadata": {},
     "output_type": "display_data"
    },
    {
     "data": {
      "text/plain": [
       "\\left[\\left\\{d_{1} : 0, d_{2} : 0, d_{3} : r_{109}, d_{4} : r_{110}, d_{5} : 0, a_{12} : r_{111}, a_{13} : r_{112}, a_{14} : r_{113}, a_{15} : r_{114}, a_{23} : 0, a_{24} : 0, a_{25} : r_{115}, a_{34} : r_{116}, a_{35} : r_{117}, a_{45} : r_{118}\\right\\}, \\left\\{d_{1} : r_{119}, d_{2} : \\frac{r_{119}}{x_{12}}, d_{3} : r_{120}, d_{4} : r_{121}, d_{5} : \\frac{r_{119}}{x_{12} x_{25}}, a_{12} : r_{122}, a_{13} : r_{123}, a_{14} : r_{124}, a_{15} : r_{125}, a_{23} : 0, a_{24} : 0, a_{25} : \\frac{r_{122} x_{12} x_{25} - r_{119} x_{15}}{x_{12}^{2} x_{25}}, a_{34} : r_{126}, a_{35} : r_{127}, a_{45} : r_{128}\\right\\}\\right]"
      ]
     },
     "execution_count": 10,
     "metadata": {},
     "output_type": "execute_result"
    }
   ],
   "source": [
    "#x2\n",
    "reset()\n",
    "\n",
    "var('x12,x13,x14,x15,x23,x24,x25,x34,x35,x45')\n",
    "var('d1,d2,d3,d4,d5')\n",
    "var('a12,a13,a14,a15,a23,a24,a25,a34,a35,a45')\n",
    "\n",
    "load_attach_path('C:\\\\Users\\\\julia\\\\Documents\\\\unb\\\\doutorado\\\\pensar\\\\codigo_sage_v2\\\\maquina\\\\x2')\n",
    "load('out_#001001.sage')\n",
    "\n",
    "m=matrix(QQ, [[0, 1, 0, 0, 0],\n",
    "              [0, 0, 0, 0, 1],\n",
    "              [0, 0, 0, 0, 0],\n",
    "              [0, 0, 0, 0, 0],\n",
    "              [0, 0, 0, 0, 0]])\n",
    "        \n",
    "#entry of matrix: (i,j) line i collum j, means (i-1,j-1)\n",
    "sol=solve([ eq1==m[0,1],\teq2==m[0,2],\teq3==m[0,3],\teq4==m[0,4],\t\n",
    "                                            eq5==m[1,3],    eq6==m[1,4],\n",
    "                                                            eq7==m[2,4]],d1,d2,d3,d4,d5,a12,a13,a14,a15,a23,a24,a25,a34,a35,a45, solution_dict=True)\n",
    "\n",
    "show(m)\n",
    "show(sol)\n",
    "latex(sol)"
   ]
  },
  {
   "cell_type": "code",
   "execution_count": 11,
   "metadata": {},
   "outputs": [
    {
     "data": {
      "text/html": [
       "<html><script type=\"math/tex; mode=display\">\\newcommand{\\Bold}[1]{\\mathbf{#1}}\\left(\\begin{array}{rrrrr}\n",
       "0 & 1 & 0 & 0 & 0 \\\\\n",
       "0 & 0 & 0 & 0 & 1 \\\\\n",
       "0 & 0 & 0 & 0 & 0 \\\\\n",
       "0 & 0 & 0 & 0 & 0 \\\\\n",
       "0 & 0 & 0 & 0 & 0\n",
       "\\end{array}\\right)</script></html>"
      ],
      "text/latex": [
       "$$\\newcommand{\\Bold}[1]{\\mathbf{#1}}\\left(\\begin{array}{rrrrr}\n",
       "0 & 1 & 0 & 0 & 0 \\\\\n",
       "0 & 0 & 0 & 0 & 1 \\\\\n",
       "0 & 0 & 0 & 0 & 0 \\\\\n",
       "0 & 0 & 0 & 0 & 0 \\\\\n",
       "0 & 0 & 0 & 0 & 0\n",
       "\\end{array}\\right)$$"
      ],
      "text/plain": [
       "[0 1 0 0 0]\n",
       "[0 0 0 0 1]\n",
       "[0 0 0 0 0]\n",
       "[0 0 0 0 0]\n",
       "[0 0 0 0 0]"
      ]
     },
     "metadata": {},
     "output_type": "display_data"
    },
    {
     "data": {
      "text/html": [
       "<html><script type=\"math/tex; mode=display\">\\newcommand{\\Bold}[1]{\\mathbf{#1}}\\left[\\left\\{d_{1} : 0, d_{2} : 0, d_{3} : r_{129}, d_{4} : r_{130}, d_{5} : 0, a_{12} : r_{131}, a_{13} : r_{132}, a_{14} : r_{133}, a_{15} : r_{134}, a_{23} : 0, a_{24} : -\\frac{r_{130} x_{14}}{x_{12}}, a_{25} : r_{135}, a_{34} : r_{136}, a_{35} : r_{137}, a_{45} : r_{138}\\right\\}, \\left\\{d_{1} : r_{139}, d_{2} : \\frac{r_{139}}{x_{12}}, d_{3} : r_{140}, d_{4} : r_{141}, d_{5} : \\frac{r_{139}}{x_{12} x_{25}}, a_{12} : r_{142}, a_{13} : r_{143}, a_{14} : r_{144}, a_{15} : r_{145}, a_{23} : 0, a_{24} : -\\frac{r_{141} x_{14}}{x_{12}}, a_{25} : r_{146}, a_{34} : r_{147}, a_{35} : r_{148}, a_{45} : -\\frac{r_{146} x_{12} - r_{142}}{x_{14}}\\right\\}\\right]</script></html>"
      ],
      "text/latex": [
       "$$\\newcommand{\\Bold}[1]{\\mathbf{#1}}\\left[\\left\\{d_{1} : 0, d_{2} : 0, d_{3} : r_{129}, d_{4} : r_{130}, d_{5} : 0, a_{12} : r_{131}, a_{13} : r_{132}, a_{14} : r_{133}, a_{15} : r_{134}, a_{23} : 0, a_{24} : -\\frac{r_{130} x_{14}}{x_{12}}, a_{25} : r_{135}, a_{34} : r_{136}, a_{35} : r_{137}, a_{45} : r_{138}\\right\\}, \\left\\{d_{1} : r_{139}, d_{2} : \\frac{r_{139}}{x_{12}}, d_{3} : r_{140}, d_{4} : r_{141}, d_{5} : \\frac{r_{139}}{x_{12} x_{25}}, a_{12} : r_{142}, a_{13} : r_{143}, a_{14} : r_{144}, a_{15} : r_{145}, a_{23} : 0, a_{24} : -\\frac{r_{141} x_{14}}{x_{12}}, a_{25} : r_{146}, a_{34} : r_{147}, a_{35} : r_{148}, a_{45} : -\\frac{r_{146} x_{12} - r_{142}}{x_{14}}\\right\\}\\right]$$"
      ],
      "text/plain": [
       "[{d1: 0,\n",
       "  d2: 0,\n",
       "  d3: r129,\n",
       "  d4: r130,\n",
       "  d5: 0,\n",
       "  a12: r131,\n",
       "  a13: r132,\n",
       "  a14: r133,\n",
       "  a15: r134,\n",
       "  a23: 0,\n",
       "  a24: -r130*x14/x12,\n",
       "  a25: r135,\n",
       "  a34: r136,\n",
       "  a35: r137,\n",
       "  a45: r138},\n",
       " {d1: r139,\n",
       "  d2: r139/x12,\n",
       "  d3: r140,\n",
       "  d4: r141,\n",
       "  d5: r139/(x12*x25),\n",
       "  a12: r142,\n",
       "  a13: r143,\n",
       "  a14: r144,\n",
       "  a15: r145,\n",
       "  a23: 0,\n",
       "  a24: -r141*x14/x12,\n",
       "  a25: r146,\n",
       "  a34: r147,\n",
       "  a35: r148,\n",
       "  a45: -(r146*x12 - r142)/x14}]"
      ]
     },
     "metadata": {},
     "output_type": "display_data"
    },
    {
     "data": {
      "text/plain": [
       "\\left[\\left\\{d_{1} : 0, d_{2} : 0, d_{3} : r_{129}, d_{4} : r_{130}, d_{5} : 0, a_{12} : r_{131}, a_{13} : r_{132}, a_{14} : r_{133}, a_{15} : r_{134}, a_{23} : 0, a_{24} : -\\frac{r_{130} x_{14}}{x_{12}}, a_{25} : r_{135}, a_{34} : r_{136}, a_{35} : r_{137}, a_{45} : r_{138}\\right\\}, \\left\\{d_{1} : r_{139}, d_{2} : \\frac{r_{139}}{x_{12}}, d_{3} : r_{140}, d_{4} : r_{141}, d_{5} : \\frac{r_{139}}{x_{12} x_{25}}, a_{12} : r_{142}, a_{13} : r_{143}, a_{14} : r_{144}, a_{15} : r_{145}, a_{23} : 0, a_{24} : -\\frac{r_{141} x_{14}}{x_{12}}, a_{25} : r_{146}, a_{34} : r_{147}, a_{35} : r_{148}, a_{45} : -\\frac{r_{146} x_{12} - r_{142}}{x_{14}}\\right\\}\\right]"
      ]
     },
     "execution_count": 11,
     "metadata": {},
     "output_type": "execute_result"
    }
   ],
   "source": [
    "#x2\n",
    "reset()\n",
    "\n",
    "var('x12,x13,x14,x15,x23,x24,x25,x34,x35,x45')\n",
    "var('d1,d2,d3,d4,d5')\n",
    "var('a12,a13,a14,a15,a23,a24,a25,a34,a35,a45')\n",
    "\n",
    "load_attach_path('C:\\\\Users\\\\julia\\\\Documents\\\\unb\\\\doutorado\\\\pensar\\\\codigo_sage_v2\\\\maquina\\\\x2')\n",
    "load('out_#001010.sage')\n",
    "\n",
    "m=matrix(QQ, [[0, 1, 0, 0, 0],\n",
    "              [0, 0, 0, 0, 1],\n",
    "              [0, 0, 0, 0, 0],\n",
    "              [0, 0, 0, 0, 0],\n",
    "              [0, 0, 0, 0, 0]])\n",
    "        \n",
    "#entry of matrix: (i,j) line i collum j, means (i-1,j-1)\n",
    "sol=solve([ eq1==m[0,1],\teq2==m[0,2],\teq3==m[0,3],\teq4==m[0,4],\t\n",
    "                                            eq5==m[1,3],    eq6==m[1,4],\n",
    "                                                            eq7==m[2,4]],d1,d2,d3,d4,d5,a12,a13,a14,a15,a23,a24,a25,a34,a35,a45, solution_dict=True)\n",
    "\n",
    "show(m)\n",
    "show(sol)\n",
    "latex(sol)"
   ]
  },
  {
   "cell_type": "code",
   "execution_count": 12,
   "metadata": {},
   "outputs": [
    {
     "data": {
      "text/html": [
       "<html><script type=\"math/tex; mode=display\">\\newcommand{\\Bold}[1]{\\mathbf{#1}}\\left(\\begin{array}{rrrrr}\n",
       "0 & 1 & 0 & 0 & 0 \\\\\n",
       "0 & 0 & 0 & 0 & 1 \\\\\n",
       "0 & 0 & 0 & 0 & 0 \\\\\n",
       "0 & 0 & 0 & 0 & 0 \\\\\n",
       "0 & 0 & 0 & 0 & 0\n",
       "\\end{array}\\right)</script></html>"
      ],
      "text/latex": [
       "$$\\newcommand{\\Bold}[1]{\\mathbf{#1}}\\left(\\begin{array}{rrrrr}\n",
       "0 & 1 & 0 & 0 & 0 \\\\\n",
       "0 & 0 & 0 & 0 & 1 \\\\\n",
       "0 & 0 & 0 & 0 & 0 \\\\\n",
       "0 & 0 & 0 & 0 & 0 \\\\\n",
       "0 & 0 & 0 & 0 & 0\n",
       "\\end{array}\\right)$$"
      ],
      "text/plain": [
       "[0 1 0 0 0]\n",
       "[0 0 0 0 1]\n",
       "[0 0 0 0 0]\n",
       "[0 0 0 0 0]\n",
       "[0 0 0 0 0]"
      ]
     },
     "metadata": {},
     "output_type": "display_data"
    },
    {
     "data": {
      "text/html": [
       "<html><script type=\"math/tex; mode=display\">\\newcommand{\\Bold}[1]{\\mathbf{#1}}\\left[\\left\\{d_{1} : 0, d_{2} : 0, d_{3} : r_{149}, d_{4} : r_{150}, d_{5} : 0, a_{12} : r_{151}, a_{13} : r_{152}, a_{14} : r_{153}, a_{15} : r_{154}, a_{23} : 0, a_{24} : -\\frac{r_{150} x_{14}}{x_{12}}, a_{25} : r_{155}, a_{34} : r_{156}, a_{35} : r_{157}, a_{45} : r_{158}\\right\\}, \\left\\{d_{1} : r_{159}, d_{2} : \\frac{r_{159}}{x_{12}}, d_{3} : r_{160}, d_{4} : r_{161}, d_{5} : \\frac{r_{159}}{x_{12} x_{25}}, a_{12} : r_{162}, a_{13} : r_{163}, a_{14} : r_{164}, a_{15} : r_{165}, a_{23} : 0, a_{24} : -\\frac{r_{161} x_{14}}{x_{12}}, a_{25} : r_{166}, a_{34} : r_{167}, a_{35} : r_{168}, a_{45} : -\\frac{r_{159} x_{15} + {\\left(r_{166} x_{12}^{2} - r_{162} x_{12}\\right)} x_{25}}{x_{12} x_{14} x_{25}}\\right\\}\\right]</script></html>"
      ],
      "text/latex": [
       "$$\\newcommand{\\Bold}[1]{\\mathbf{#1}}\\left[\\left\\{d_{1} : 0, d_{2} : 0, d_{3} : r_{149}, d_{4} : r_{150}, d_{5} : 0, a_{12} : r_{151}, a_{13} : r_{152}, a_{14} : r_{153}, a_{15} : r_{154}, a_{23} : 0, a_{24} : -\\frac{r_{150} x_{14}}{x_{12}}, a_{25} : r_{155}, a_{34} : r_{156}, a_{35} : r_{157}, a_{45} : r_{158}\\right\\}, \\left\\{d_{1} : r_{159}, d_{2} : \\frac{r_{159}}{x_{12}}, d_{3} : r_{160}, d_{4} : r_{161}, d_{5} : \\frac{r_{159}}{x_{12} x_{25}}, a_{12} : r_{162}, a_{13} : r_{163}, a_{14} : r_{164}, a_{15} : r_{165}, a_{23} : 0, a_{24} : -\\frac{r_{161} x_{14}}{x_{12}}, a_{25} : r_{166}, a_{34} : r_{167}, a_{35} : r_{168}, a_{45} : -\\frac{r_{159} x_{15} + {\\left(r_{166} x_{12}^{2} - r_{162} x_{12}\\right)} x_{25}}{x_{12} x_{14} x_{25}}\\right\\}\\right]$$"
      ],
      "text/plain": [
       "[{d1: 0,\n",
       "  d2: 0,\n",
       "  d3: r149,\n",
       "  d4: r150,\n",
       "  d5: 0,\n",
       "  a12: r151,\n",
       "  a13: r152,\n",
       "  a14: r153,\n",
       "  a15: r154,\n",
       "  a23: 0,\n",
       "  a24: -r150*x14/x12,\n",
       "  a25: r155,\n",
       "  a34: r156,\n",
       "  a35: r157,\n",
       "  a45: r158},\n",
       " {d1: r159,\n",
       "  d2: r159/x12,\n",
       "  d3: r160,\n",
       "  d4: r161,\n",
       "  d5: r159/(x12*x25),\n",
       "  a12: r162,\n",
       "  a13: r163,\n",
       "  a14: r164,\n",
       "  a15: r165,\n",
       "  a23: 0,\n",
       "  a24: -r161*x14/x12,\n",
       "  a25: r166,\n",
       "  a34: r167,\n",
       "  a35: r168,\n",
       "  a45: -(r159*x15 + (r166*x12^2 - r162*x12)*x25)/(x12*x14*x25)}]"
      ]
     },
     "metadata": {},
     "output_type": "display_data"
    },
    {
     "data": {
      "text/plain": [
       "\\left[\\left\\{d_{1} : 0, d_{2} : 0, d_{3} : r_{149}, d_{4} : r_{150}, d_{5} : 0, a_{12} : r_{151}, a_{13} : r_{152}, a_{14} : r_{153}, a_{15} : r_{154}, a_{23} : 0, a_{24} : -\\frac{r_{150} x_{14}}{x_{12}}, a_{25} : r_{155}, a_{34} : r_{156}, a_{35} : r_{157}, a_{45} : r_{158}\\right\\}, \\left\\{d_{1} : r_{159}, d_{2} : \\frac{r_{159}}{x_{12}}, d_{3} : r_{160}, d_{4} : r_{161}, d_{5} : \\frac{r_{159}}{x_{12} x_{25}}, a_{12} : r_{162}, a_{13} : r_{163}, a_{14} : r_{164}, a_{15} : r_{165}, a_{23} : 0, a_{24} : -\\frac{r_{161} x_{14}}{x_{12}}, a_{25} : r_{166}, a_{34} : r_{167}, a_{35} : r_{168}, a_{45} : -\\frac{r_{159} x_{15} + {\\left(r_{166} x_{12}^{2} - r_{162} x_{12}\\right)} x_{25}}{x_{12} x_{14} x_{25}}\\right\\}\\right]"
      ]
     },
     "execution_count": 12,
     "metadata": {},
     "output_type": "execute_result"
    }
   ],
   "source": [
    "#x2\n",
    "reset()\n",
    "\n",
    "var('x12,x13,x14,x15,x23,x24,x25,x34,x35,x45')\n",
    "var('d1,d2,d3,d4,d5')\n",
    "var('a12,a13,a14,a15,a23,a24,a25,a34,a35,a45')\n",
    "\n",
    "load_attach_path('C:\\\\Users\\\\julia\\\\Documents\\\\unb\\\\doutorado\\\\pensar\\\\codigo_sage_v2\\\\maquina\\\\x2')\n",
    "load('out_#001011.sage')\n",
    "\n",
    "m=matrix(QQ, [[0, 1, 0, 0, 0],\n",
    "              [0, 0, 0, 0, 1],\n",
    "              [0, 0, 0, 0, 0],\n",
    "              [0, 0, 0, 0, 0],\n",
    "              [0, 0, 0, 0, 0]])\n",
    "        \n",
    "#entry of matrix: (i,j) line i collum j, means (i-1,j-1)\n",
    "sol=solve([ eq1==m[0,1],\teq2==m[0,2],\teq3==m[0,3],\teq4==m[0,4],\t\n",
    "                                            eq5==m[1,3],    eq6==m[1,4],\n",
    "                                                            eq7==m[2,4]],d1,d2,d3,d4,d5,a12,a13,a14,a15,a23,a24,a25,a34,a35,a45, solution_dict=True)\n",
    "\n",
    "show(m)\n",
    "show(sol)\n",
    "latex(sol)"
   ]
  },
  {
   "cell_type": "code",
   "execution_count": 13,
   "metadata": {},
   "outputs": [
    {
     "data": {
      "text/html": [
       "<html><script type=\"math/tex; mode=display\">\\newcommand{\\Bold}[1]{\\mathbf{#1}}\\left(\\begin{array}{rrrrr}\n",
       "0 & 1 & 0 & 0 & 0 \\\\\n",
       "0 & 0 & 0 & 0 & 1 \\\\\n",
       "0 & 0 & 0 & 0 & 0 \\\\\n",
       "0 & 0 & 0 & 0 & 0 \\\\\n",
       "0 & 0 & 0 & 0 & 0\n",
       "\\end{array}\\right)</script></html>"
      ],
      "text/latex": [
       "$$\\newcommand{\\Bold}[1]{\\mathbf{#1}}\\left(\\begin{array}{rrrrr}\n",
       "0 & 1 & 0 & 0 & 0 \\\\\n",
       "0 & 0 & 0 & 0 & 1 \\\\\n",
       "0 & 0 & 0 & 0 & 0 \\\\\n",
       "0 & 0 & 0 & 0 & 0 \\\\\n",
       "0 & 0 & 0 & 0 & 0\n",
       "\\end{array}\\right)$$"
      ],
      "text/plain": [
       "[0 1 0 0 0]\n",
       "[0 0 0 0 1]\n",
       "[0 0 0 0 0]\n",
       "[0 0 0 0 0]\n",
       "[0 0 0 0 0]"
      ]
     },
     "metadata": {},
     "output_type": "display_data"
    },
    {
     "data": {
      "text/html": [
       "<html><script type=\"math/tex; mode=display\">\\newcommand{\\Bold}[1]{\\mathbf{#1}}\\left[\\left\\{d_{1} : 0, d_{2} : 0, d_{3} : r_{169}, d_{4} : r_{170}, d_{5} : 0, a_{12} : r_{171}, a_{13} : r_{172}, a_{14} : r_{173}, a_{15} : r_{174}, a_{23} : -\\frac{r_{169} x_{13}}{x_{12}}, a_{24} : r_{175}, a_{25} : r_{176}, a_{34} : -\\frac{r_{175} x_{12}}{x_{13}}, a_{35} : r_{177}, a_{45} : r_{178}\\right\\}, \\left\\{d_{1} : r_{179}, d_{2} : \\frac{r_{179}}{x_{12}}, d_{3} : r_{180}, d_{4} : r_{181}, d_{5} : \\frac{r_{179}}{x_{12} x_{25}}, a_{12} : r_{182}, a_{13} : r_{183}, a_{14} : r_{184}, a_{15} : r_{185}, a_{23} : -\\frac{r_{180} x_{13}}{x_{12}}, a_{24} : r_{186}, a_{25} : r_{187}, a_{34} : -\\frac{r_{186} x_{12}}{x_{13}}, a_{35} : -\\frac{r_{187} x_{12} - r_{182}}{x_{13}}, a_{45} : r_{188}\\right\\}\\right]</script></html>"
      ],
      "text/latex": [
       "$$\\newcommand{\\Bold}[1]{\\mathbf{#1}}\\left[\\left\\{d_{1} : 0, d_{2} : 0, d_{3} : r_{169}, d_{4} : r_{170}, d_{5} : 0, a_{12} : r_{171}, a_{13} : r_{172}, a_{14} : r_{173}, a_{15} : r_{174}, a_{23} : -\\frac{r_{169} x_{13}}{x_{12}}, a_{24} : r_{175}, a_{25} : r_{176}, a_{34} : -\\frac{r_{175} x_{12}}{x_{13}}, a_{35} : r_{177}, a_{45} : r_{178}\\right\\}, \\left\\{d_{1} : r_{179}, d_{2} : \\frac{r_{179}}{x_{12}}, d_{3} : r_{180}, d_{4} : r_{181}, d_{5} : \\frac{r_{179}}{x_{12} x_{25}}, a_{12} : r_{182}, a_{13} : r_{183}, a_{14} : r_{184}, a_{15} : r_{185}, a_{23} : -\\frac{r_{180} x_{13}}{x_{12}}, a_{24} : r_{186}, a_{25} : r_{187}, a_{34} : -\\frac{r_{186} x_{12}}{x_{13}}, a_{35} : -\\frac{r_{187} x_{12} - r_{182}}{x_{13}}, a_{45} : r_{188}\\right\\}\\right]$$"
      ],
      "text/plain": [
       "[{d1: 0,\n",
       "  d2: 0,\n",
       "  d3: r169,\n",
       "  d4: r170,\n",
       "  d5: 0,\n",
       "  a12: r171,\n",
       "  a13: r172,\n",
       "  a14: r173,\n",
       "  a15: r174,\n",
       "  a23: -r169*x13/x12,\n",
       "  a24: r175,\n",
       "  a25: r176,\n",
       "  a34: -r175*x12/x13,\n",
       "  a35: r177,\n",
       "  a45: r178},\n",
       " {d1: r179,\n",
       "  d2: r179/x12,\n",
       "  d3: r180,\n",
       "  d4: r181,\n",
       "  d5: r179/(x12*x25),\n",
       "  a12: r182,\n",
       "  a13: r183,\n",
       "  a14: r184,\n",
       "  a15: r185,\n",
       "  a23: -r180*x13/x12,\n",
       "  a24: r186,\n",
       "  a25: r187,\n",
       "  a34: -r186*x12/x13,\n",
       "  a35: -(r187*x12 - r182)/x13,\n",
       "  a45: r188}]"
      ]
     },
     "metadata": {},
     "output_type": "display_data"
    },
    {
     "data": {
      "text/plain": [
       "\\left[\\left\\{d_{1} : 0, d_{2} : 0, d_{3} : r_{169}, d_{4} : r_{170}, d_{5} : 0, a_{12} : r_{171}, a_{13} : r_{172}, a_{14} : r_{173}, a_{15} : r_{174}, a_{23} : -\\frac{r_{169} x_{13}}{x_{12}}, a_{24} : r_{175}, a_{25} : r_{176}, a_{34} : -\\frac{r_{175} x_{12}}{x_{13}}, a_{35} : r_{177}, a_{45} : r_{178}\\right\\}, \\left\\{d_{1} : r_{179}, d_{2} : \\frac{r_{179}}{x_{12}}, d_{3} : r_{180}, d_{4} : r_{181}, d_{5} : \\frac{r_{179}}{x_{12} x_{25}}, a_{12} : r_{182}, a_{13} : r_{183}, a_{14} : r_{184}, a_{15} : r_{185}, a_{23} : -\\frac{r_{180} x_{13}}{x_{12}}, a_{24} : r_{186}, a_{25} : r_{187}, a_{34} : -\\frac{r_{186} x_{12}}{x_{13}}, a_{35} : -\\frac{r_{187} x_{12} - r_{182}}{x_{13}}, a_{45} : r_{188}\\right\\}\\right]"
      ]
     },
     "execution_count": 13,
     "metadata": {},
     "output_type": "execute_result"
    }
   ],
   "source": [
    "#x2\n",
    "reset()\n",
    "\n",
    "var('x12,x13,x14,x15,x23,x24,x25,x34,x35,x45')\n",
    "var('d1,d2,d3,d4,d5')\n",
    "var('a12,a13,a14,a15,a23,a24,a25,a34,a35,a45')\n",
    "\n",
    "load_attach_path('C:\\\\Users\\\\julia\\\\Documents\\\\unb\\\\doutorado\\\\pensar\\\\codigo_sage_v2\\\\maquina\\\\x2')\n",
    "load('out_#001100.sage')\n",
    "\n",
    "m=matrix(QQ, [[0, 1, 0, 0, 0],\n",
    "              [0, 0, 0, 0, 1],\n",
    "              [0, 0, 0, 0, 0],\n",
    "              [0, 0, 0, 0, 0],\n",
    "              [0, 0, 0, 0, 0]])\n",
    "        \n",
    "#entry of matrix: (i,j) line i collum j, means (i-1,j-1)\n",
    "sol=solve([ eq1==m[0,1],\teq2==m[0,2],\teq3==m[0,3],\teq4==m[0,4],\t\n",
    "                                            eq5==m[1,3],    eq6==m[1,4],\n",
    "                                                            eq7==m[2,4]],d1,d2,d3,d4,d5,a12,a13,a14,a15,a23,a24,a25,a34,a35,a45, solution_dict=True)\n",
    "\n",
    "show(m)\n",
    "show(sol)\n",
    "latex(sol)"
   ]
  },
  {
   "cell_type": "code",
   "execution_count": 14,
   "metadata": {},
   "outputs": [
    {
     "data": {
      "text/html": [
       "<html><script type=\"math/tex; mode=display\">\\newcommand{\\Bold}[1]{\\mathbf{#1}}\\left(\\begin{array}{rrrrr}\n",
       "0 & 1 & 0 & 0 & 0 \\\\\n",
       "0 & 0 & 0 & 0 & 1 \\\\\n",
       "0 & 0 & 0 & 0 & 0 \\\\\n",
       "0 & 0 & 0 & 0 & 0 \\\\\n",
       "0 & 0 & 0 & 0 & 0\n",
       "\\end{array}\\right)</script></html>"
      ],
      "text/latex": [
       "$$\\newcommand{\\Bold}[1]{\\mathbf{#1}}\\left(\\begin{array}{rrrrr}\n",
       "0 & 1 & 0 & 0 & 0 \\\\\n",
       "0 & 0 & 0 & 0 & 1 \\\\\n",
       "0 & 0 & 0 & 0 & 0 \\\\\n",
       "0 & 0 & 0 & 0 & 0 \\\\\n",
       "0 & 0 & 0 & 0 & 0\n",
       "\\end{array}\\right)$$"
      ],
      "text/plain": [
       "[0 1 0 0 0]\n",
       "[0 0 0 0 1]\n",
       "[0 0 0 0 0]\n",
       "[0 0 0 0 0]\n",
       "[0 0 0 0 0]"
      ]
     },
     "metadata": {},
     "output_type": "display_data"
    },
    {
     "data": {
      "text/html": [
       "<html><script type=\"math/tex; mode=display\">\\newcommand{\\Bold}[1]{\\mathbf{#1}}\\left[\\left\\{d_{1} : 0, d_{2} : 0, d_{3} : r_{189}, d_{4} : r_{190}, d_{5} : 0, a_{12} : r_{191}, a_{13} : r_{192}, a_{14} : r_{193}, a_{15} : r_{194}, a_{23} : -\\frac{r_{189} x_{13}}{x_{12}}, a_{24} : r_{195}, a_{25} : r_{196}, a_{34} : -\\frac{r_{195} x_{12}}{x_{13}}, a_{35} : r_{197}, a_{45} : r_{198}\\right\\}, \\left\\{d_{1} : r_{199}, d_{2} : \\frac{r_{199}}{x_{12}}, d_{3} : r_{200}, d_{4} : r_{201}, d_{5} : \\frac{r_{199}}{x_{12} x_{25}}, a_{12} : r_{202}, a_{13} : r_{203}, a_{14} : r_{204}, a_{15} : r_{205}, a_{23} : -\\frac{r_{200} x_{13}}{x_{12}}, a_{24} : r_{206}, a_{25} : r_{207}, a_{34} : -\\frac{r_{206} x_{12}}{x_{13}}, a_{35} : -\\frac{r_{199} x_{15} + {\\left(r_{207} x_{12}^{2} - r_{202} x_{12}\\right)} x_{25}}{x_{12} x_{13} x_{25}}, a_{45} : r_{208}\\right\\}\\right]</script></html>"
      ],
      "text/latex": [
       "$$\\newcommand{\\Bold}[1]{\\mathbf{#1}}\\left[\\left\\{d_{1} : 0, d_{2} : 0, d_{3} : r_{189}, d_{4} : r_{190}, d_{5} : 0, a_{12} : r_{191}, a_{13} : r_{192}, a_{14} : r_{193}, a_{15} : r_{194}, a_{23} : -\\frac{r_{189} x_{13}}{x_{12}}, a_{24} : r_{195}, a_{25} : r_{196}, a_{34} : -\\frac{r_{195} x_{12}}{x_{13}}, a_{35} : r_{197}, a_{45} : r_{198}\\right\\}, \\left\\{d_{1} : r_{199}, d_{2} : \\frac{r_{199}}{x_{12}}, d_{3} : r_{200}, d_{4} : r_{201}, d_{5} : \\frac{r_{199}}{x_{12} x_{25}}, a_{12} : r_{202}, a_{13} : r_{203}, a_{14} : r_{204}, a_{15} : r_{205}, a_{23} : -\\frac{r_{200} x_{13}}{x_{12}}, a_{24} : r_{206}, a_{25} : r_{207}, a_{34} : -\\frac{r_{206} x_{12}}{x_{13}}, a_{35} : -\\frac{r_{199} x_{15} + {\\left(r_{207} x_{12}^{2} - r_{202} x_{12}\\right)} x_{25}}{x_{12} x_{13} x_{25}}, a_{45} : r_{208}\\right\\}\\right]$$"
      ],
      "text/plain": [
       "[{d1: 0,\n",
       "  d2: 0,\n",
       "  d3: r189,\n",
       "  d4: r190,\n",
       "  d5: 0,\n",
       "  a12: r191,\n",
       "  a13: r192,\n",
       "  a14: r193,\n",
       "  a15: r194,\n",
       "  a23: -r189*x13/x12,\n",
       "  a24: r195,\n",
       "  a25: r196,\n",
       "  a34: -r195*x12/x13,\n",
       "  a35: r197,\n",
       "  a45: r198},\n",
       " {d1: r199,\n",
       "  d2: r199/x12,\n",
       "  d3: r200,\n",
       "  d4: r201,\n",
       "  d5: r199/(x12*x25),\n",
       "  a12: r202,\n",
       "  a13: r203,\n",
       "  a14: r204,\n",
       "  a15: r205,\n",
       "  a23: -r200*x13/x12,\n",
       "  a24: r206,\n",
       "  a25: r207,\n",
       "  a34: -r206*x12/x13,\n",
       "  a35: -(r199*x15 + (r207*x12^2 - r202*x12)*x25)/(x12*x13*x25),\n",
       "  a45: r208}]"
      ]
     },
     "metadata": {},
     "output_type": "display_data"
    },
    {
     "data": {
      "text/plain": [
       "\\left[\\left\\{d_{1} : 0, d_{2} : 0, d_{3} : r_{189}, d_{4} : r_{190}, d_{5} : 0, a_{12} : r_{191}, a_{13} : r_{192}, a_{14} : r_{193}, a_{15} : r_{194}, a_{23} : -\\frac{r_{189} x_{13}}{x_{12}}, a_{24} : r_{195}, a_{25} : r_{196}, a_{34} : -\\frac{r_{195} x_{12}}{x_{13}}, a_{35} : r_{197}, a_{45} : r_{198}\\right\\}, \\left\\{d_{1} : r_{199}, d_{2} : \\frac{r_{199}}{x_{12}}, d_{3} : r_{200}, d_{4} : r_{201}, d_{5} : \\frac{r_{199}}{x_{12} x_{25}}, a_{12} : r_{202}, a_{13} : r_{203}, a_{14} : r_{204}, a_{15} : r_{205}, a_{23} : -\\frac{r_{200} x_{13}}{x_{12}}, a_{24} : r_{206}, a_{25} : r_{207}, a_{34} : -\\frac{r_{206} x_{12}}{x_{13}}, a_{35} : -\\frac{r_{199} x_{15} + {\\left(r_{207} x_{12}^{2} - r_{202} x_{12}\\right)} x_{25}}{x_{12} x_{13} x_{25}}, a_{45} : r_{208}\\right\\}\\right]"
      ]
     },
     "execution_count": 14,
     "metadata": {},
     "output_type": "execute_result"
    }
   ],
   "source": [
    "#x2\n",
    "reset()\n",
    "\n",
    "var('x12,x13,x14,x15,x23,x24,x25,x34,x35,x45')\n",
    "var('d1,d2,d3,d4,d5')\n",
    "var('a12,a13,a14,a15,a23,a24,a25,a34,a35,a45')\n",
    "\n",
    "load_attach_path('C:\\\\Users\\\\julia\\\\Documents\\\\unb\\\\doutorado\\\\pensar\\\\codigo_sage_v2\\\\maquina\\\\x2')\n",
    "load('out_#001101.sage')\n",
    "\n",
    "m=matrix(QQ, [[0, 1, 0, 0, 0],\n",
    "              [0, 0, 0, 0, 1],\n",
    "              [0, 0, 0, 0, 0],\n",
    "              [0, 0, 0, 0, 0],\n",
    "              [0, 0, 0, 0, 0]])\n",
    "        \n",
    "#entry of matrix: (i,j) line i collum j, means (i-1,j-1)\n",
    "sol=solve([ eq1==m[0,1],\teq2==m[0,2],\teq3==m[0,3],\teq4==m[0,4],\t\n",
    "                                            eq5==m[1,3],    eq6==m[1,4],\n",
    "                                                            eq7==m[2,4]],d1,d2,d3,d4,d5,a12,a13,a14,a15,a23,a24,a25,a34,a35,a45, solution_dict=True)\n",
    "\n",
    "show(m)\n",
    "show(sol)\n",
    "latex(sol)"
   ]
  },
  {
   "cell_type": "code",
   "execution_count": 15,
   "metadata": {},
   "outputs": [
    {
     "data": {
      "text/html": [
       "<html><script type=\"math/tex; mode=display\">\\newcommand{\\Bold}[1]{\\mathbf{#1}}\\left(\\begin{array}{rrrrr}\n",
       "0 & 1 & 0 & 0 & 0 \\\\\n",
       "0 & 0 & 0 & 0 & 1 \\\\\n",
       "0 & 0 & 0 & 0 & 0 \\\\\n",
       "0 & 0 & 0 & 0 & 0 \\\\\n",
       "0 & 0 & 0 & 0 & 0\n",
       "\\end{array}\\right)</script></html>"
      ],
      "text/latex": [
       "$$\\newcommand{\\Bold}[1]{\\mathbf{#1}}\\left(\\begin{array}{rrrrr}\n",
       "0 & 1 & 0 & 0 & 0 \\\\\n",
       "0 & 0 & 0 & 0 & 1 \\\\\n",
       "0 & 0 & 0 & 0 & 0 \\\\\n",
       "0 & 0 & 0 & 0 & 0 \\\\\n",
       "0 & 0 & 0 & 0 & 0\n",
       "\\end{array}\\right)$$"
      ],
      "text/plain": [
       "[0 1 0 0 0]\n",
       "[0 0 0 0 1]\n",
       "[0 0 0 0 0]\n",
       "[0 0 0 0 0]\n",
       "[0 0 0 0 0]"
      ]
     },
     "metadata": {},
     "output_type": "display_data"
    },
    {
     "data": {
      "text/html": [
       "<html><script type=\"math/tex; mode=display\">\\newcommand{\\Bold}[1]{\\mathbf{#1}}\\left[\\left\\{d_{1} : 0, d_{2} : 0, d_{3} : r_{209}, d_{4} : r_{210}, d_{5} : 0, a_{12} : r_{211}, a_{13} : r_{212}, a_{14} : r_{213}, a_{15} : r_{214}, a_{23} : -\\frac{r_{209} x_{13}}{x_{12}}, a_{24} : r_{215}, a_{25} : r_{216}, a_{34} : -\\frac{r_{215} x_{12} + r_{210} x_{14}}{x_{13}}, a_{35} : r_{217}, a_{45} : r_{218}\\right\\}, \\left\\{d_{1} : r_{219}, d_{2} : \\frac{r_{219}}{x_{12}}, d_{3} : r_{220}, d_{4} : r_{221}, d_{5} : \\frac{r_{219}}{x_{12} x_{25}}, a_{12} : r_{222}, a_{13} : r_{223}, a_{14} : r_{224}, a_{15} : r_{225}, a_{23} : -\\frac{r_{220} x_{13}}{x_{12}}, a_{24} : r_{226}, a_{25} : r_{227}, a_{34} : -\\frac{r_{226} x_{12} + r_{221} x_{14}}{x_{13}}, a_{35} : r_{228}, a_{45} : -\\frac{r_{227} x_{12} + r_{228} x_{13} - r_{222}}{x_{14}}\\right\\}\\right]</script></html>"
      ],
      "text/latex": [
       "$$\\newcommand{\\Bold}[1]{\\mathbf{#1}}\\left[\\left\\{d_{1} : 0, d_{2} : 0, d_{3} : r_{209}, d_{4} : r_{210}, d_{5} : 0, a_{12} : r_{211}, a_{13} : r_{212}, a_{14} : r_{213}, a_{15} : r_{214}, a_{23} : -\\frac{r_{209} x_{13}}{x_{12}}, a_{24} : r_{215}, a_{25} : r_{216}, a_{34} : -\\frac{r_{215} x_{12} + r_{210} x_{14}}{x_{13}}, a_{35} : r_{217}, a_{45} : r_{218}\\right\\}, \\left\\{d_{1} : r_{219}, d_{2} : \\frac{r_{219}}{x_{12}}, d_{3} : r_{220}, d_{4} : r_{221}, d_{5} : \\frac{r_{219}}{x_{12} x_{25}}, a_{12} : r_{222}, a_{13} : r_{223}, a_{14} : r_{224}, a_{15} : r_{225}, a_{23} : -\\frac{r_{220} x_{13}}{x_{12}}, a_{24} : r_{226}, a_{25} : r_{227}, a_{34} : -\\frac{r_{226} x_{12} + r_{221} x_{14}}{x_{13}}, a_{35} : r_{228}, a_{45} : -\\frac{r_{227} x_{12} + r_{228} x_{13} - r_{222}}{x_{14}}\\right\\}\\right]$$"
      ],
      "text/plain": [
       "[{d1: 0,\n",
       "  d2: 0,\n",
       "  d3: r209,\n",
       "  d4: r210,\n",
       "  d5: 0,\n",
       "  a12: r211,\n",
       "  a13: r212,\n",
       "  a14: r213,\n",
       "  a15: r214,\n",
       "  a23: -r209*x13/x12,\n",
       "  a24: r215,\n",
       "  a25: r216,\n",
       "  a34: -(r215*x12 + r210*x14)/x13,\n",
       "  a35: r217,\n",
       "  a45: r218},\n",
       " {d1: r219,\n",
       "  d2: r219/x12,\n",
       "  d3: r220,\n",
       "  d4: r221,\n",
       "  d5: r219/(x12*x25),\n",
       "  a12: r222,\n",
       "  a13: r223,\n",
       "  a14: r224,\n",
       "  a15: r225,\n",
       "  a23: -r220*x13/x12,\n",
       "  a24: r226,\n",
       "  a25: r227,\n",
       "  a34: -(r226*x12 + r221*x14)/x13,\n",
       "  a35: r228,\n",
       "  a45: -(r227*x12 + r228*x13 - r222)/x14}]"
      ]
     },
     "metadata": {},
     "output_type": "display_data"
    },
    {
     "data": {
      "text/plain": [
       "\\left[\\left\\{d_{1} : 0, d_{2} : 0, d_{3} : r_{209}, d_{4} : r_{210}, d_{5} : 0, a_{12} : r_{211}, a_{13} : r_{212}, a_{14} : r_{213}, a_{15} : r_{214}, a_{23} : -\\frac{r_{209} x_{13}}{x_{12}}, a_{24} : r_{215}, a_{25} : r_{216}, a_{34} : -\\frac{r_{215} x_{12} + r_{210} x_{14}}{x_{13}}, a_{35} : r_{217}, a_{45} : r_{218}\\right\\}, \\left\\{d_{1} : r_{219}, d_{2} : \\frac{r_{219}}{x_{12}}, d_{3} : r_{220}, d_{4} : r_{221}, d_{5} : \\frac{r_{219}}{x_{12} x_{25}}, a_{12} : r_{222}, a_{13} : r_{223}, a_{14} : r_{224}, a_{15} : r_{225}, a_{23} : -\\frac{r_{220} x_{13}}{x_{12}}, a_{24} : r_{226}, a_{25} : r_{227}, a_{34} : -\\frac{r_{226} x_{12} + r_{221} x_{14}}{x_{13}}, a_{35} : r_{228}, a_{45} : -\\frac{r_{227} x_{12} + r_{228} x_{13} - r_{222}}{x_{14}}\\right\\}\\right]"
      ]
     },
     "execution_count": 15,
     "metadata": {},
     "output_type": "execute_result"
    }
   ],
   "source": [
    "#x2\n",
    "reset()\n",
    "\n",
    "var('x12,x13,x14,x15,x23,x24,x25,x34,x35,x45')\n",
    "var('d1,d2,d3,d4,d5')\n",
    "var('a12,a13,a14,a15,a23,a24,a25,a34,a35,a45')\n",
    "\n",
    "load_attach_path('C:\\\\Users\\\\julia\\\\Documents\\\\unb\\\\doutorado\\\\pensar\\\\codigo_sage_v2\\\\maquina\\\\x2')\n",
    "load('out_#001110.sage')\n",
    "\n",
    "m=matrix(QQ, [[0, 1, 0, 0, 0],\n",
    "              [0, 0, 0, 0, 1],\n",
    "              [0, 0, 0, 0, 0],\n",
    "              [0, 0, 0, 0, 0],\n",
    "              [0, 0, 0, 0, 0]])\n",
    "        \n",
    "#entry of matrix: (i,j) line i collum j, means (i-1,j-1)\n",
    "sol=solve([ eq1==m[0,1],\teq2==m[0,2],\teq3==m[0,3],\teq4==m[0,4],\t\n",
    "                                            eq5==m[1,3],    eq6==m[1,4],\n",
    "                                                            eq7==m[2,4]],d1,d2,d3,d4,d5,a12,a13,a14,a15,a23,a24,a25,a34,a35,a45, solution_dict=True)\n",
    "\n",
    "show(m)\n",
    "show(sol)\n",
    "latex(sol)"
   ]
  },
  {
   "cell_type": "code",
   "execution_count": 16,
   "metadata": {},
   "outputs": [
    {
     "data": {
      "text/html": [
       "<html><script type=\"math/tex; mode=display\">\\newcommand{\\Bold}[1]{\\mathbf{#1}}\\left(\\begin{array}{rrrrr}\n",
       "0 & 1 & 0 & 0 & 0 \\\\\n",
       "0 & 0 & 0 & 0 & 1 \\\\\n",
       "0 & 0 & 0 & 0 & 0 \\\\\n",
       "0 & 0 & 0 & 0 & 0 \\\\\n",
       "0 & 0 & 0 & 0 & 0\n",
       "\\end{array}\\right)</script></html>"
      ],
      "text/latex": [
       "$$\\newcommand{\\Bold}[1]{\\mathbf{#1}}\\left(\\begin{array}{rrrrr}\n",
       "0 & 1 & 0 & 0 & 0 \\\\\n",
       "0 & 0 & 0 & 0 & 1 \\\\\n",
       "0 & 0 & 0 & 0 & 0 \\\\\n",
       "0 & 0 & 0 & 0 & 0 \\\\\n",
       "0 & 0 & 0 & 0 & 0\n",
       "\\end{array}\\right)$$"
      ],
      "text/plain": [
       "[0 1 0 0 0]\n",
       "[0 0 0 0 1]\n",
       "[0 0 0 0 0]\n",
       "[0 0 0 0 0]\n",
       "[0 0 0 0 0]"
      ]
     },
     "metadata": {},
     "output_type": "display_data"
    },
    {
     "data": {
      "text/html": [
       "<html><script type=\"math/tex; mode=display\">\\newcommand{\\Bold}[1]{\\mathbf{#1}}\\left[\\left\\{d_{1} : 0, d_{2} : 0, d_{3} : r_{229}, d_{4} : r_{230}, d_{5} : 0, a_{12} : r_{231}, a_{13} : r_{232}, a_{14} : r_{233}, a_{15} : r_{234}, a_{23} : -\\frac{r_{229} x_{13}}{x_{12}}, a_{24} : r_{235}, a_{25} : r_{236}, a_{34} : -\\frac{r_{235} x_{12} + r_{230} x_{14}}{x_{13}}, a_{35} : r_{237}, a_{45} : r_{238}\\right\\}, \\left\\{d_{1} : r_{239}, d_{2} : \\frac{r_{239}}{x_{12}}, d_{3} : r_{240}, d_{4} : r_{241}, d_{5} : \\frac{r_{239}}{x_{12} x_{25}}, a_{12} : r_{242}, a_{13} : r_{243}, a_{14} : r_{244}, a_{15} : r_{245}, a_{23} : -\\frac{r_{240} x_{13}}{x_{12}}, a_{24} : r_{246}, a_{25} : r_{247}, a_{34} : -\\frac{r_{246} x_{12} + r_{241} x_{14}}{x_{13}}, a_{35} : r_{248}, a_{45} : -\\frac{r_{239} x_{15} + {\\left(r_{247} x_{12}^{2} + r_{248} x_{12} x_{13} - r_{242} x_{12}\\right)} x_{25}}{x_{12} x_{14} x_{25}}\\right\\}\\right]</script></html>"
      ],
      "text/latex": [
       "$$\\newcommand{\\Bold}[1]{\\mathbf{#1}}\\left[\\left\\{d_{1} : 0, d_{2} : 0, d_{3} : r_{229}, d_{4} : r_{230}, d_{5} : 0, a_{12} : r_{231}, a_{13} : r_{232}, a_{14} : r_{233}, a_{15} : r_{234}, a_{23} : -\\frac{r_{229} x_{13}}{x_{12}}, a_{24} : r_{235}, a_{25} : r_{236}, a_{34} : -\\frac{r_{235} x_{12} + r_{230} x_{14}}{x_{13}}, a_{35} : r_{237}, a_{45} : r_{238}\\right\\}, \\left\\{d_{1} : r_{239}, d_{2} : \\frac{r_{239}}{x_{12}}, d_{3} : r_{240}, d_{4} : r_{241}, d_{5} : \\frac{r_{239}}{x_{12} x_{25}}, a_{12} : r_{242}, a_{13} : r_{243}, a_{14} : r_{244}, a_{15} : r_{245}, a_{23} : -\\frac{r_{240} x_{13}}{x_{12}}, a_{24} : r_{246}, a_{25} : r_{247}, a_{34} : -\\frac{r_{246} x_{12} + r_{241} x_{14}}{x_{13}}, a_{35} : r_{248}, a_{45} : -\\frac{r_{239} x_{15} + {\\left(r_{247} x_{12}^{2} + r_{248} x_{12} x_{13} - r_{242} x_{12}\\right)} x_{25}}{x_{12} x_{14} x_{25}}\\right\\}\\right]$$"
      ],
      "text/plain": [
       "[{d1: 0,\n",
       "  d2: 0,\n",
       "  d3: r229,\n",
       "  d4: r230,\n",
       "  d5: 0,\n",
       "  a12: r231,\n",
       "  a13: r232,\n",
       "  a14: r233,\n",
       "  a15: r234,\n",
       "  a23: -r229*x13/x12,\n",
       "  a24: r235,\n",
       "  a25: r236,\n",
       "  a34: -(r235*x12 + r230*x14)/x13,\n",
       "  a35: r237,\n",
       "  a45: r238},\n",
       " {d1: r239,\n",
       "  d2: r239/x12,\n",
       "  d3: r240,\n",
       "  d4: r241,\n",
       "  d5: r239/(x12*x25),\n",
       "  a12: r242,\n",
       "  a13: r243,\n",
       "  a14: r244,\n",
       "  a15: r245,\n",
       "  a23: -r240*x13/x12,\n",
       "  a24: r246,\n",
       "  a25: r247,\n",
       "  a34: -(r246*x12 + r241*x14)/x13,\n",
       "  a35: r248,\n",
       "  a45: -(r239*x15 + (r247*x12^2 + r248*x12*x13 - r242*x12)*x25)/(x12*x14*x25)}]"
      ]
     },
     "metadata": {},
     "output_type": "display_data"
    },
    {
     "data": {
      "text/plain": [
       "\\left[\\left\\{d_{1} : 0, d_{2} : 0, d_{3} : r_{229}, d_{4} : r_{230}, d_{5} : 0, a_{12} : r_{231}, a_{13} : r_{232}, a_{14} : r_{233}, a_{15} : r_{234}, a_{23} : -\\frac{r_{229} x_{13}}{x_{12}}, a_{24} : r_{235}, a_{25} : r_{236}, a_{34} : -\\frac{r_{235} x_{12} + r_{230} x_{14}}{x_{13}}, a_{35} : r_{237}, a_{45} : r_{238}\\right\\}, \\left\\{d_{1} : r_{239}, d_{2} : \\frac{r_{239}}{x_{12}}, d_{3} : r_{240}, d_{4} : r_{241}, d_{5} : \\frac{r_{239}}{x_{12} x_{25}}, a_{12} : r_{242}, a_{13} : r_{243}, a_{14} : r_{244}, a_{15} : r_{245}, a_{23} : -\\frac{r_{240} x_{13}}{x_{12}}, a_{24} : r_{246}, a_{25} : r_{247}, a_{34} : -\\frac{r_{246} x_{12} + r_{241} x_{14}}{x_{13}}, a_{35} : r_{248}, a_{45} : -\\frac{r_{239} x_{15} + {\\left(r_{247} x_{12}^{2} + r_{248} x_{12} x_{13} - r_{242} x_{12}\\right)} x_{25}}{x_{12} x_{14} x_{25}}\\right\\}\\right]"
      ]
     },
     "execution_count": 16,
     "metadata": {},
     "output_type": "execute_result"
    }
   ],
   "source": [
    "#x2\n",
    "reset()\n",
    "\n",
    "var('x12,x13,x14,x15,x23,x24,x25,x34,x35,x45')\n",
    "var('d1,d2,d3,d4,d5')\n",
    "var('a12,a13,a14,a15,a23,a24,a25,a34,a35,a45')\n",
    "\n",
    "load_attach_path('C:\\\\Users\\\\julia\\\\Documents\\\\unb\\\\doutorado\\\\pensar\\\\codigo_sage_v2\\\\maquina\\\\x2')\n",
    "load('out_#001111.sage')\n",
    "\n",
    "m=matrix(QQ, [[0, 1, 0, 0, 0],\n",
    "              [0, 0, 0, 0, 1],\n",
    "              [0, 0, 0, 0, 0],\n",
    "              [0, 0, 0, 0, 0],\n",
    "              [0, 0, 0, 0, 0]])\n",
    "        \n",
    "#entry of matrix: (i,j) line i collum j, means (i-1,j-1)\n",
    "sol=solve([ eq1==m[0,1],\teq2==m[0,2],\teq3==m[0,3],\teq4==m[0,4],\t\n",
    "                                            eq5==m[1,3],    eq6==m[1,4],\n",
    "                                                            eq7==m[2,4]],d1,d2,d3,d4,d5,a12,a13,a14,a15,a23,a24,a25,a34,a35,a45, solution_dict=True)\n",
    "\n",
    "show(m)\n",
    "show(sol)\n",
    "latex(sol)"
   ]
  },
  {
   "cell_type": "code",
   "execution_count": 17,
   "metadata": {},
   "outputs": [
    {
     "data": {
      "text/html": [
       "<html><script type=\"math/tex; mode=display\">\\newcommand{\\Bold}[1]{\\mathbf{#1}}\\left(\\begin{array}{rrrrr}\n",
       "0 & 1 & 0 & 0 & 0 \\\\\n",
       "0 & 0 & 0 & 1 & 0 \\\\\n",
       "0 & 0 & 0 & 0 & 0 \\\\\n",
       "0 & 0 & 0 & 0 & 0 \\\\\n",
       "0 & 0 & 0 & 0 & 0\n",
       "\\end{array}\\right)</script></html>"
      ],
      "text/latex": [
       "$$\\newcommand{\\Bold}[1]{\\mathbf{#1}}\\left(\\begin{array}{rrrrr}\n",
       "0 & 1 & 0 & 0 & 0 \\\\\n",
       "0 & 0 & 0 & 1 & 0 \\\\\n",
       "0 & 0 & 0 & 0 & 0 \\\\\n",
       "0 & 0 & 0 & 0 & 0 \\\\\n",
       "0 & 0 & 0 & 0 & 0\n",
       "\\end{array}\\right)$$"
      ],
      "text/plain": [
       "[0 1 0 0 0]\n",
       "[0 0 0 1 0]\n",
       "[0 0 0 0 0]\n",
       "[0 0 0 0 0]\n",
       "[0 0 0 0 0]"
      ]
     },
     "metadata": {},
     "output_type": "display_data"
    },
    {
     "data": {
      "text/html": [
       "<html><script type=\"math/tex; mode=display\">\\newcommand{\\Bold}[1]{\\mathbf{#1}}\\left[\\left\\{d_{1} : 0, d_{2} : 0, d_{3} : r_{249}, d_{4} : 0, d_{5} : r_{250}, a_{12} : r_{251}, a_{13} : r_{252}, a_{14} : r_{253}, a_{15} : r_{254}, a_{23} : 0, a_{24} : r_{255}, a_{25} : r_{256}, a_{34} : r_{257}, a_{35} : r_{258}, a_{45} : 0\\right\\}, \\left\\{d_{1} : r_{259}, d_{2} : \\frac{r_{259}}{x_{12}}, d_{3} : r_{260}, d_{4} : \\frac{r_{259}}{x_{12} x_{24}}, d_{5} : r_{261}, a_{12} : r_{262}, a_{13} : r_{263}, a_{14} : r_{264}, a_{15} : r_{265}, a_{23} : 0, a_{24} : \\frac{r_{262}}{x_{12}}, a_{25} : 0, a_{34} : r_{266}, a_{35} : r_{267}, a_{45} : 0\\right\\}\\right]</script></html>"
      ],
      "text/latex": [
       "$$\\newcommand{\\Bold}[1]{\\mathbf{#1}}\\left[\\left\\{d_{1} : 0, d_{2} : 0, d_{3} : r_{249}, d_{4} : 0, d_{5} : r_{250}, a_{12} : r_{251}, a_{13} : r_{252}, a_{14} : r_{253}, a_{15} : r_{254}, a_{23} : 0, a_{24} : r_{255}, a_{25} : r_{256}, a_{34} : r_{257}, a_{35} : r_{258}, a_{45} : 0\\right\\}, \\left\\{d_{1} : r_{259}, d_{2} : \\frac{r_{259}}{x_{12}}, d_{3} : r_{260}, d_{4} : \\frac{r_{259}}{x_{12} x_{24}}, d_{5} : r_{261}, a_{12} : r_{262}, a_{13} : r_{263}, a_{14} : r_{264}, a_{15} : r_{265}, a_{23} : 0, a_{24} : \\frac{r_{262}}{x_{12}}, a_{25} : 0, a_{34} : r_{266}, a_{35} : r_{267}, a_{45} : 0\\right\\}\\right]$$"
      ],
      "text/plain": [
       "[{d1: 0,\n",
       "  d2: 0,\n",
       "  d3: r249,\n",
       "  d4: 0,\n",
       "  d5: r250,\n",
       "  a12: r251,\n",
       "  a13: r252,\n",
       "  a14: r253,\n",
       "  a15: r254,\n",
       "  a23: 0,\n",
       "  a24: r255,\n",
       "  a25: r256,\n",
       "  a34: r257,\n",
       "  a35: r258,\n",
       "  a45: 0},\n",
       " {d1: r259,\n",
       "  d2: r259/x12,\n",
       "  d3: r260,\n",
       "  d4: r259/(x12*x24),\n",
       "  d5: r261,\n",
       "  a12: r262,\n",
       "  a13: r263,\n",
       "  a14: r264,\n",
       "  a15: r265,\n",
       "  a23: 0,\n",
       "  a24: r262/x12,\n",
       "  a25: 0,\n",
       "  a34: r266,\n",
       "  a35: r267,\n",
       "  a45: 0}]"
      ]
     },
     "metadata": {},
     "output_type": "display_data"
    },
    {
     "data": {
      "text/plain": [
       "\\left[\\left\\{d_{1} : 0, d_{2} : 0, d_{3} : r_{249}, d_{4} : 0, d_{5} : r_{250}, a_{12} : r_{251}, a_{13} : r_{252}, a_{14} : r_{253}, a_{15} : r_{254}, a_{23} : 0, a_{24} : r_{255}, a_{25} : r_{256}, a_{34} : r_{257}, a_{35} : r_{258}, a_{45} : 0\\right\\}, \\left\\{d_{1} : r_{259}, d_{2} : \\frac{r_{259}}{x_{12}}, d_{3} : r_{260}, d_{4} : \\frac{r_{259}}{x_{12} x_{24}}, d_{5} : r_{261}, a_{12} : r_{262}, a_{13} : r_{263}, a_{14} : r_{264}, a_{15} : r_{265}, a_{23} : 0, a_{24} : \\frac{r_{262}}{x_{12}}, a_{25} : 0, a_{34} : r_{266}, a_{35} : r_{267}, a_{45} : 0\\right\\}\\right]"
      ]
     },
     "execution_count": 17,
     "metadata": {},
     "output_type": "execute_result"
    }
   ],
   "source": [
    "#x2\n",
    "reset()\n",
    "\n",
    "var('x12,x13,x14,x15,x23,x24,x25,x34,x35,x45')\n",
    "var('d1,d2,d3,d4,d5')\n",
    "var('a12,a13,a14,a15,a23,a24,a25,a34,a35,a45')\n",
    "\n",
    "load_attach_path('C:\\\\Users\\\\julia\\\\Documents\\\\unb\\\\doutorado\\\\pensar\\\\codigo_sage_v2\\\\maquina\\\\x2')\n",
    "load('out_#010000.sage')\n",
    "\n",
    "m=matrix(QQ, [[0, 1, 0, 0, 0],\n",
    "              [0, 0, 0, 1, 0],\n",
    "              [0, 0, 0, 0, 0],\n",
    "              [0, 0, 0, 0, 0],\n",
    "              [0, 0, 0, 0, 0]])\n",
    "        \n",
    "#entry of matrix: (i,j) line i collum j, means (i-1,j-1)\n",
    "sol=solve([ eq1==m[0,1],\teq2==m[0,2],\teq3==m[0,3],\teq4==m[0,4],\t\n",
    "                                            eq5==m[1,3],    eq6==m[1,4],\n",
    "                                                            eq7==m[2,4]],d1,d2,d3,d4,d5,a12,a13,a14,a15,a23,a24,a25,a34,a35,a45, solution_dict=True)\n",
    "\n",
    "show(m)\n",
    "show(sol)\n",
    "latex(sol)"
   ]
  },
  {
   "cell_type": "code",
   "execution_count": 18,
   "metadata": {},
   "outputs": [
    {
     "data": {
      "text/html": [
       "<html><script type=\"math/tex; mode=display\">\\newcommand{\\Bold}[1]{\\mathbf{#1}}\\left(\\begin{array}{rrrrr}\n",
       "0 & 1 & 0 & 0 & 0 \\\\\n",
       "0 & 0 & 0 & 1 & 0 \\\\\n",
       "0 & 0 & 0 & 0 & 0 \\\\\n",
       "0 & 0 & 0 & 0 & 0 \\\\\n",
       "0 & 0 & 0 & 0 & 0\n",
       "\\end{array}\\right)</script></html>"
      ],
      "text/latex": [
       "$$\\newcommand{\\Bold}[1]{\\mathbf{#1}}\\left(\\begin{array}{rrrrr}\n",
       "0 & 1 & 0 & 0 & 0 \\\\\n",
       "0 & 0 & 0 & 1 & 0 \\\\\n",
       "0 & 0 & 0 & 0 & 0 \\\\\n",
       "0 & 0 & 0 & 0 & 0 \\\\\n",
       "0 & 0 & 0 & 0 & 0\n",
       "\\end{array}\\right)$$"
      ],
      "text/plain": [
       "[0 1 0 0 0]\n",
       "[0 0 0 1 0]\n",
       "[0 0 0 0 0]\n",
       "[0 0 0 0 0]\n",
       "[0 0 0 0 0]"
      ]
     },
     "metadata": {},
     "output_type": "display_data"
    },
    {
     "data": {
      "text/html": [
       "<html><script type=\"math/tex; mode=display\">\\newcommand{\\Bold}[1]{\\mathbf{#1}}\\left[\\left\\{d_{1} : 0, d_{2} : 0, d_{3} : r_{268}, d_{4} : 0, d_{5} : r_{269}, a_{12} : r_{270}, a_{13} : r_{271}, a_{14} : r_{272}, a_{15} : r_{273}, a_{23} : 0, a_{24} : r_{274}, a_{25} : r_{275}, a_{34} : r_{276}, a_{35} : r_{277}, a_{45} : 0\\right\\}, \\left\\{d_{1} : r_{278}, d_{2} : \\frac{r_{278}}{x_{12}}, d_{3} : r_{279}, d_{4} : \\frac{r_{278}}{x_{12} x_{24}}, d_{5} : r_{280}, a_{12} : r_{281}, a_{13} : r_{282}, a_{14} : r_{283}, a_{15} : r_{284}, a_{23} : 0, a_{24} : \\frac{r_{281}}{x_{12}}, a_{25} : -\\frac{r_{280} x_{15}}{x_{12}}, a_{34} : r_{285}, a_{35} : r_{286}, a_{45} : 0\\right\\}\\right]</script></html>"
      ],
      "text/latex": [
       "$$\\newcommand{\\Bold}[1]{\\mathbf{#1}}\\left[\\left\\{d_{1} : 0, d_{2} : 0, d_{3} : r_{268}, d_{4} : 0, d_{5} : r_{269}, a_{12} : r_{270}, a_{13} : r_{271}, a_{14} : r_{272}, a_{15} : r_{273}, a_{23} : 0, a_{24} : r_{274}, a_{25} : r_{275}, a_{34} : r_{276}, a_{35} : r_{277}, a_{45} : 0\\right\\}, \\left\\{d_{1} : r_{278}, d_{2} : \\frac{r_{278}}{x_{12}}, d_{3} : r_{279}, d_{4} : \\frac{r_{278}}{x_{12} x_{24}}, d_{5} : r_{280}, a_{12} : r_{281}, a_{13} : r_{282}, a_{14} : r_{283}, a_{15} : r_{284}, a_{23} : 0, a_{24} : \\frac{r_{281}}{x_{12}}, a_{25} : -\\frac{r_{280} x_{15}}{x_{12}}, a_{34} : r_{285}, a_{35} : r_{286}, a_{45} : 0\\right\\}\\right]$$"
      ],
      "text/plain": [
       "[{d1: 0,\n",
       "  d2: 0,\n",
       "  d3: r268,\n",
       "  d4: 0,\n",
       "  d5: r269,\n",
       "  a12: r270,\n",
       "  a13: r271,\n",
       "  a14: r272,\n",
       "  a15: r273,\n",
       "  a23: 0,\n",
       "  a24: r274,\n",
       "  a25: r275,\n",
       "  a34: r276,\n",
       "  a35: r277,\n",
       "  a45: 0},\n",
       " {d1: r278,\n",
       "  d2: r278/x12,\n",
       "  d3: r279,\n",
       "  d4: r278/(x12*x24),\n",
       "  d5: r280,\n",
       "  a12: r281,\n",
       "  a13: r282,\n",
       "  a14: r283,\n",
       "  a15: r284,\n",
       "  a23: 0,\n",
       "  a24: r281/x12,\n",
       "  a25: -r280*x15/x12,\n",
       "  a34: r285,\n",
       "  a35: r286,\n",
       "  a45: 0}]"
      ]
     },
     "metadata": {},
     "output_type": "display_data"
    },
    {
     "data": {
      "text/plain": [
       "\\left[\\left\\{d_{1} : 0, d_{2} : 0, d_{3} : r_{268}, d_{4} : 0, d_{5} : r_{269}, a_{12} : r_{270}, a_{13} : r_{271}, a_{14} : r_{272}, a_{15} : r_{273}, a_{23} : 0, a_{24} : r_{274}, a_{25} : r_{275}, a_{34} : r_{276}, a_{35} : r_{277}, a_{45} : 0\\right\\}, \\left\\{d_{1} : r_{278}, d_{2} : \\frac{r_{278}}{x_{12}}, d_{3} : r_{279}, d_{4} : \\frac{r_{278}}{x_{12} x_{24}}, d_{5} : r_{280}, a_{12} : r_{281}, a_{13} : r_{282}, a_{14} : r_{283}, a_{15} : r_{284}, a_{23} : 0, a_{24} : \\frac{r_{281}}{x_{12}}, a_{25} : -\\frac{r_{280} x_{15}}{x_{12}}, a_{34} : r_{285}, a_{35} : r_{286}, a_{45} : 0\\right\\}\\right]"
      ]
     },
     "execution_count": 18,
     "metadata": {},
     "output_type": "execute_result"
    }
   ],
   "source": [
    "#x2\n",
    "reset()\n",
    "\n",
    "var('x12,x13,x14,x15,x23,x24,x25,x34,x35,x45')\n",
    "var('d1,d2,d3,d4,d5')\n",
    "var('a12,a13,a14,a15,a23,a24,a25,a34,a35,a45')\n",
    "\n",
    "load_attach_path('C:\\\\Users\\\\julia\\\\Documents\\\\unb\\\\doutorado\\\\pensar\\\\codigo_sage_v2\\\\maquina\\\\x2')\n",
    "load('out_#010001.sage')\n",
    "\n",
    "m=matrix(QQ, [[0, 1, 0, 0, 0],\n",
    "              [0, 0, 0, 1, 0],\n",
    "              [0, 0, 0, 0, 0],\n",
    "              [0, 0, 0, 0, 0],\n",
    "              [0, 0, 0, 0, 0]])\n",
    "        \n",
    "#entry of matrix: (i,j) line i collum j, means (i-1,j-1)\n",
    "sol=solve([ eq1==m[0,1],\teq2==m[0,2],\teq3==m[0,3],\teq4==m[0,4],\t\n",
    "                                            eq5==m[1,3],    eq6==m[1,4],\n",
    "                                                            eq7==m[2,4]],d1,d2,d3,d4,d5,a12,a13,a14,a15,a23,a24,a25,a34,a35,a45, solution_dict=True)\n",
    "\n",
    "show(m)\n",
    "show(sol)\n",
    "latex(sol)"
   ]
  },
  {
   "cell_type": "code",
   "execution_count": 19,
   "metadata": {},
   "outputs": [
    {
     "data": {
      "text/html": [
       "<html><script type=\"math/tex; mode=display\">\\newcommand{\\Bold}[1]{\\mathbf{#1}}\\left(\\begin{array}{rrrrr}\n",
       "0 & 1 & 0 & 0 & 0 \\\\\n",
       "0 & 0 & 0 & 1 & 0 \\\\\n",
       "0 & 0 & 0 & 0 & 0 \\\\\n",
       "0 & 0 & 0 & 0 & 0 \\\\\n",
       "0 & 0 & 0 & 0 & 0\n",
       "\\end{array}\\right)</script></html>"
      ],
      "text/latex": [
       "$$\\newcommand{\\Bold}[1]{\\mathbf{#1}}\\left(\\begin{array}{rrrrr}\n",
       "0 & 1 & 0 & 0 & 0 \\\\\n",
       "0 & 0 & 0 & 1 & 0 \\\\\n",
       "0 & 0 & 0 & 0 & 0 \\\\\n",
       "0 & 0 & 0 & 0 & 0 \\\\\n",
       "0 & 0 & 0 & 0 & 0\n",
       "\\end{array}\\right)$$"
      ],
      "text/plain": [
       "[0 1 0 0 0]\n",
       "[0 0 0 1 0]\n",
       "[0 0 0 0 0]\n",
       "[0 0 0 0 0]\n",
       "[0 0 0 0 0]"
      ]
     },
     "metadata": {},
     "output_type": "display_data"
    },
    {
     "data": {
      "text/html": [
       "<html><script type=\"math/tex; mode=display\">\\newcommand{\\Bold}[1]{\\mathbf{#1}}\\left[\\left\\{d_{1} : 0, d_{2} : 0, d_{3} : r_{287}, d_{4} : 0, d_{5} : r_{288}, a_{12} : r_{289}, a_{13} : r_{290}, a_{14} : r_{291}, a_{15} : r_{292}, a_{23} : 0, a_{24} : r_{293}, a_{25} : r_{294}, a_{34} : r_{295}, a_{35} : r_{296}, a_{45} : 0\\right\\}, \\left\\{d_{1} : r_{297}, d_{2} : \\frac{r_{297}}{x_{12}}, d_{3} : r_{298}, d_{4} : \\frac{r_{297}}{x_{12} x_{24}}, d_{5} : r_{299}, a_{12} : r_{300}, a_{13} : r_{301}, a_{14} : r_{302}, a_{15} : r_{303}, a_{23} : 0, a_{24} : \\frac{r_{300} x_{12} x_{24} - r_{297} x_{14}}{x_{12}^{2} x_{24}}, a_{25} : 0, a_{34} : r_{304}, a_{35} : r_{305}, a_{45} : 0\\right\\}\\right]</script></html>"
      ],
      "text/latex": [
       "$$\\newcommand{\\Bold}[1]{\\mathbf{#1}}\\left[\\left\\{d_{1} : 0, d_{2} : 0, d_{3} : r_{287}, d_{4} : 0, d_{5} : r_{288}, a_{12} : r_{289}, a_{13} : r_{290}, a_{14} : r_{291}, a_{15} : r_{292}, a_{23} : 0, a_{24} : r_{293}, a_{25} : r_{294}, a_{34} : r_{295}, a_{35} : r_{296}, a_{45} : 0\\right\\}, \\left\\{d_{1} : r_{297}, d_{2} : \\frac{r_{297}}{x_{12}}, d_{3} : r_{298}, d_{4} : \\frac{r_{297}}{x_{12} x_{24}}, d_{5} : r_{299}, a_{12} : r_{300}, a_{13} : r_{301}, a_{14} : r_{302}, a_{15} : r_{303}, a_{23} : 0, a_{24} : \\frac{r_{300} x_{12} x_{24} - r_{297} x_{14}}{x_{12}^{2} x_{24}}, a_{25} : 0, a_{34} : r_{304}, a_{35} : r_{305}, a_{45} : 0\\right\\}\\right]$$"
      ],
      "text/plain": [
       "[{d1: 0,\n",
       "  d2: 0,\n",
       "  d3: r287,\n",
       "  d4: 0,\n",
       "  d5: r288,\n",
       "  a12: r289,\n",
       "  a13: r290,\n",
       "  a14: r291,\n",
       "  a15: r292,\n",
       "  a23: 0,\n",
       "  a24: r293,\n",
       "  a25: r294,\n",
       "  a34: r295,\n",
       "  a35: r296,\n",
       "  a45: 0},\n",
       " {d1: r297,\n",
       "  d2: r297/x12,\n",
       "  d3: r298,\n",
       "  d4: r297/(x12*x24),\n",
       "  d5: r299,\n",
       "  a12: r300,\n",
       "  a13: r301,\n",
       "  a14: r302,\n",
       "  a15: r303,\n",
       "  a23: 0,\n",
       "  a24: (r300*x12*x24 - r297*x14)/(x12^2*x24),\n",
       "  a25: 0,\n",
       "  a34: r304,\n",
       "  a35: r305,\n",
       "  a45: 0}]"
      ]
     },
     "metadata": {},
     "output_type": "display_data"
    },
    {
     "data": {
      "text/plain": [
       "\\left[\\left\\{d_{1} : 0, d_{2} : 0, d_{3} : r_{287}, d_{4} : 0, d_{5} : r_{288}, a_{12} : r_{289}, a_{13} : r_{290}, a_{14} : r_{291}, a_{15} : r_{292}, a_{23} : 0, a_{24} : r_{293}, a_{25} : r_{294}, a_{34} : r_{295}, a_{35} : r_{296}, a_{45} : 0\\right\\}, \\left\\{d_{1} : r_{297}, d_{2} : \\frac{r_{297}}{x_{12}}, d_{3} : r_{298}, d_{4} : \\frac{r_{297}}{x_{12} x_{24}}, d_{5} : r_{299}, a_{12} : r_{300}, a_{13} : r_{301}, a_{14} : r_{302}, a_{15} : r_{303}, a_{23} : 0, a_{24} : \\frac{r_{300} x_{12} x_{24} - r_{297} x_{14}}{x_{12}^{2} x_{24}}, a_{25} : 0, a_{34} : r_{304}, a_{35} : r_{305}, a_{45} : 0\\right\\}\\right]"
      ]
     },
     "execution_count": 19,
     "metadata": {},
     "output_type": "execute_result"
    }
   ],
   "source": [
    "#x2\n",
    "reset()\n",
    "\n",
    "var('x12,x13,x14,x15,x23,x24,x25,x34,x35,x45')\n",
    "var('d1,d2,d3,d4,d5')\n",
    "var('a12,a13,a14,a15,a23,a24,a25,a34,a35,a45')\n",
    "\n",
    "load_attach_path('C:\\\\Users\\\\julia\\\\Documents\\\\unb\\\\doutorado\\\\pensar\\\\codigo_sage_v2\\\\maquina\\\\x2')\n",
    "load('out_#010010.sage')\n",
    "\n",
    "m=matrix(QQ, [[0, 1, 0, 0, 0],\n",
    "              [0, 0, 0, 1, 0],\n",
    "              [0, 0, 0, 0, 0],\n",
    "              [0, 0, 0, 0, 0],\n",
    "              [0, 0, 0, 0, 0]])\n",
    "        \n",
    "#entry of matrix: (i,j) line i collum j, means (i-1,j-1)\n",
    "sol=solve([ eq1==m[0,1],\teq2==m[0,2],\teq3==m[0,3],\teq4==m[0,4],\t\n",
    "                                            eq5==m[1,3],    eq6==m[1,4],\n",
    "                                                            eq7==m[2,4]],d1,d2,d3,d4,d5,a12,a13,a14,a15,a23,a24,a25,a34,a35,a45, solution_dict=True)\n",
    "\n",
    "show(m)\n",
    "show(sol)\n",
    "latex(sol)"
   ]
  },
  {
   "cell_type": "code",
   "execution_count": 20,
   "metadata": {},
   "outputs": [
    {
     "data": {
      "text/html": [
       "<html><script type=\"math/tex; mode=display\">\\newcommand{\\Bold}[1]{\\mathbf{#1}}\\left(\\begin{array}{rrrrr}\n",
       "0 & 1 & 0 & 0 & 0 \\\\\n",
       "0 & 0 & 0 & 1 & 0 \\\\\n",
       "0 & 0 & 0 & 0 & 0 \\\\\n",
       "0 & 0 & 0 & 0 & 0 \\\\\n",
       "0 & 0 & 0 & 0 & 0\n",
       "\\end{array}\\right)</script></html>"
      ],
      "text/latex": [
       "$$\\newcommand{\\Bold}[1]{\\mathbf{#1}}\\left(\\begin{array}{rrrrr}\n",
       "0 & 1 & 0 & 0 & 0 \\\\\n",
       "0 & 0 & 0 & 1 & 0 \\\\\n",
       "0 & 0 & 0 & 0 & 0 \\\\\n",
       "0 & 0 & 0 & 0 & 0 \\\\\n",
       "0 & 0 & 0 & 0 & 0\n",
       "\\end{array}\\right)$$"
      ],
      "text/plain": [
       "[0 1 0 0 0]\n",
       "[0 0 0 1 0]\n",
       "[0 0 0 0 0]\n",
       "[0 0 0 0 0]\n",
       "[0 0 0 0 0]"
      ]
     },
     "metadata": {},
     "output_type": "display_data"
    },
    {
     "data": {
      "text/html": [
       "<html><script type=\"math/tex; mode=display\">\\newcommand{\\Bold}[1]{\\mathbf{#1}}\\left[\\left\\{d_{1} : 0, d_{2} : 0, d_{3} : r_{306}, d_{4} : 0, d_{5} : r_{307}, a_{12} : r_{308}, a_{13} : r_{309}, a_{14} : r_{310}, a_{15} : r_{311}, a_{23} : 0, a_{24} : r_{312}, a_{25} : r_{313}, a_{34} : r_{314}, a_{35} : r_{315}, a_{45} : 0\\right\\}, \\left\\{d_{1} : r_{316}, d_{2} : \\frac{r_{316}}{x_{12}}, d_{3} : r_{317}, d_{4} : \\frac{r_{316}}{x_{12} x_{24}}, d_{5} : r_{318}, a_{12} : r_{319}, a_{13} : r_{320}, a_{14} : r_{321}, a_{15} : r_{322}, a_{23} : 0, a_{24} : \\frac{r_{319} x_{12} x_{24} - r_{316} x_{14}}{x_{12}^{2} x_{24}}, a_{25} : -\\frac{r_{318} x_{15}}{x_{12}}, a_{34} : r_{323}, a_{35} : r_{324}, a_{45} : 0\\right\\}\\right]</script></html>"
      ],
      "text/latex": [
       "$$\\newcommand{\\Bold}[1]{\\mathbf{#1}}\\left[\\left\\{d_{1} : 0, d_{2} : 0, d_{3} : r_{306}, d_{4} : 0, d_{5} : r_{307}, a_{12} : r_{308}, a_{13} : r_{309}, a_{14} : r_{310}, a_{15} : r_{311}, a_{23} : 0, a_{24} : r_{312}, a_{25} : r_{313}, a_{34} : r_{314}, a_{35} : r_{315}, a_{45} : 0\\right\\}, \\left\\{d_{1} : r_{316}, d_{2} : \\frac{r_{316}}{x_{12}}, d_{3} : r_{317}, d_{4} : \\frac{r_{316}}{x_{12} x_{24}}, d_{5} : r_{318}, a_{12} : r_{319}, a_{13} : r_{320}, a_{14} : r_{321}, a_{15} : r_{322}, a_{23} : 0, a_{24} : \\frac{r_{319} x_{12} x_{24} - r_{316} x_{14}}{x_{12}^{2} x_{24}}, a_{25} : -\\frac{r_{318} x_{15}}{x_{12}}, a_{34} : r_{323}, a_{35} : r_{324}, a_{45} : 0\\right\\}\\right]$$"
      ],
      "text/plain": [
       "[{d1: 0,\n",
       "  d2: 0,\n",
       "  d3: r306,\n",
       "  d4: 0,\n",
       "  d5: r307,\n",
       "  a12: r308,\n",
       "  a13: r309,\n",
       "  a14: r310,\n",
       "  a15: r311,\n",
       "  a23: 0,\n",
       "  a24: r312,\n",
       "  a25: r313,\n",
       "  a34: r314,\n",
       "  a35: r315,\n",
       "  a45: 0},\n",
       " {d1: r316,\n",
       "  d2: r316/x12,\n",
       "  d3: r317,\n",
       "  d4: r316/(x12*x24),\n",
       "  d5: r318,\n",
       "  a12: r319,\n",
       "  a13: r320,\n",
       "  a14: r321,\n",
       "  a15: r322,\n",
       "  a23: 0,\n",
       "  a24: (r319*x12*x24 - r316*x14)/(x12^2*x24),\n",
       "  a25: -r318*x15/x12,\n",
       "  a34: r323,\n",
       "  a35: r324,\n",
       "  a45: 0}]"
      ]
     },
     "metadata": {},
     "output_type": "display_data"
    },
    {
     "data": {
      "text/plain": [
       "\\left[\\left\\{d_{1} : 0, d_{2} : 0, d_{3} : r_{306}, d_{4} : 0, d_{5} : r_{307}, a_{12} : r_{308}, a_{13} : r_{309}, a_{14} : r_{310}, a_{15} : r_{311}, a_{23} : 0, a_{24} : r_{312}, a_{25} : r_{313}, a_{34} : r_{314}, a_{35} : r_{315}, a_{45} : 0\\right\\}, \\left\\{d_{1} : r_{316}, d_{2} : \\frac{r_{316}}{x_{12}}, d_{3} : r_{317}, d_{4} : \\frac{r_{316}}{x_{12} x_{24}}, d_{5} : r_{318}, a_{12} : r_{319}, a_{13} : r_{320}, a_{14} : r_{321}, a_{15} : r_{322}, a_{23} : 0, a_{24} : \\frac{r_{319} x_{12} x_{24} - r_{316} x_{14}}{x_{12}^{2} x_{24}}, a_{25} : -\\frac{r_{318} x_{15}}{x_{12}}, a_{34} : r_{323}, a_{35} : r_{324}, a_{45} : 0\\right\\}\\right]"
      ]
     },
     "execution_count": 20,
     "metadata": {},
     "output_type": "execute_result"
    }
   ],
   "source": [
    "#x2\n",
    "reset()\n",
    "\n",
    "var('x12,x13,x14,x15,x23,x24,x25,x34,x35,x45')\n",
    "var('d1,d2,d3,d4,d5')\n",
    "var('a12,a13,a14,a15,a23,a24,a25,a34,a35,a45')\n",
    "\n",
    "load_attach_path('C:\\\\Users\\\\julia\\\\Documents\\\\unb\\\\doutorado\\\\pensar\\\\codigo_sage_v2\\\\maquina\\\\x2')\n",
    "load('out_#010011.sage')\n",
    "\n",
    "m=matrix(QQ, [[0, 1, 0, 0, 0],\n",
    "              [0, 0, 0, 1, 0],\n",
    "              [0, 0, 0, 0, 0],\n",
    "              [0, 0, 0, 0, 0],\n",
    "              [0, 0, 0, 0, 0]])\n",
    "        \n",
    "#entry of matrix: (i,j) line i collum j, means (i-1,j-1)\n",
    "sol=solve([ eq1==m[0,1],\teq2==m[0,2],\teq3==m[0,3],\teq4==m[0,4],\t\n",
    "                                            eq5==m[1,3],    eq6==m[1,4],\n",
    "                                                            eq7==m[2,4]],d1,d2,d3,d4,d5,a12,a13,a14,a15,a23,a24,a25,a34,a35,a45, solution_dict=True)\n",
    "\n",
    "show(m)\n",
    "show(sol)\n",
    "latex(sol)"
   ]
  },
  {
   "cell_type": "code",
   "execution_count": 21,
   "metadata": {},
   "outputs": [
    {
     "data": {
      "text/html": [
       "<html><script type=\"math/tex; mode=display\">\\newcommand{\\Bold}[1]{\\mathbf{#1}}\\left(\\begin{array}{rrrrr}\n",
       "0 & 1 & 0 & 0 & 0 \\\\\n",
       "0 & 0 & 0 & 1 & 0 \\\\\n",
       "0 & 0 & 0 & 0 & 0 \\\\\n",
       "0 & 0 & 0 & 0 & 0 \\\\\n",
       "0 & 0 & 0 & 0 & 0\n",
       "\\end{array}\\right)</script></html>"
      ],
      "text/latex": [
       "$$\\newcommand{\\Bold}[1]{\\mathbf{#1}}\\left(\\begin{array}{rrrrr}\n",
       "0 & 1 & 0 & 0 & 0 \\\\\n",
       "0 & 0 & 0 & 1 & 0 \\\\\n",
       "0 & 0 & 0 & 0 & 0 \\\\\n",
       "0 & 0 & 0 & 0 & 0 \\\\\n",
       "0 & 0 & 0 & 0 & 0\n",
       "\\end{array}\\right)$$"
      ],
      "text/plain": [
       "[0 1 0 0 0]\n",
       "[0 0 0 1 0]\n",
       "[0 0 0 0 0]\n",
       "[0 0 0 0 0]\n",
       "[0 0 0 0 0]"
      ]
     },
     "metadata": {},
     "output_type": "display_data"
    },
    {
     "data": {
      "text/html": [
       "<html><script type=\"math/tex; mode=display\">\\newcommand{\\Bold}[1]{\\mathbf{#1}}\\left[\\left\\{d_{1} : 0, d_{2} : 0, d_{3} : r_{325}, d_{4} : 0, d_{5} : r_{326}, a_{12} : r_{327}, a_{13} : r_{328}, a_{14} : r_{329}, a_{15} : r_{330}, a_{23} : -\\frac{r_{325} x_{13}}{x_{12}}, a_{24} : r_{331}, a_{25} : r_{332}, a_{34} : r_{333}, a_{35} : r_{334}, a_{45} : 0\\right\\}, \\left\\{d_{1} : r_{335}, d_{2} : \\frac{r_{335}}{x_{12}}, d_{3} : r_{336}, d_{4} : \\frac{r_{335}}{x_{12} x_{24}}, d_{5} : r_{337}, a_{12} : r_{338}, a_{13} : r_{339}, a_{14} : r_{340}, a_{15} : r_{341}, a_{23} : -\\frac{r_{336} x_{13}}{x_{12}}, a_{24} : r_{342}, a_{25} : r_{343}, a_{34} : -\\frac{r_{342} x_{12} - r_{338}}{x_{13}}, a_{35} : -\\frac{r_{343} x_{12}}{x_{13}}, a_{45} : 0\\right\\}\\right]</script></html>"
      ],
      "text/latex": [
       "$$\\newcommand{\\Bold}[1]{\\mathbf{#1}}\\left[\\left\\{d_{1} : 0, d_{2} : 0, d_{3} : r_{325}, d_{4} : 0, d_{5} : r_{326}, a_{12} : r_{327}, a_{13} : r_{328}, a_{14} : r_{329}, a_{15} : r_{330}, a_{23} : -\\frac{r_{325} x_{13}}{x_{12}}, a_{24} : r_{331}, a_{25} : r_{332}, a_{34} : r_{333}, a_{35} : r_{334}, a_{45} : 0\\right\\}, \\left\\{d_{1} : r_{335}, d_{2} : \\frac{r_{335}}{x_{12}}, d_{3} : r_{336}, d_{4} : \\frac{r_{335}}{x_{12} x_{24}}, d_{5} : r_{337}, a_{12} : r_{338}, a_{13} : r_{339}, a_{14} : r_{340}, a_{15} : r_{341}, a_{23} : -\\frac{r_{336} x_{13}}{x_{12}}, a_{24} : r_{342}, a_{25} : r_{343}, a_{34} : -\\frac{r_{342} x_{12} - r_{338}}{x_{13}}, a_{35} : -\\frac{r_{343} x_{12}}{x_{13}}, a_{45} : 0\\right\\}\\right]$$"
      ],
      "text/plain": [
       "[{d1: 0,\n",
       "  d2: 0,\n",
       "  d3: r325,\n",
       "  d4: 0,\n",
       "  d5: r326,\n",
       "  a12: r327,\n",
       "  a13: r328,\n",
       "  a14: r329,\n",
       "  a15: r330,\n",
       "  a23: -r325*x13/x12,\n",
       "  a24: r331,\n",
       "  a25: r332,\n",
       "  a34: r333,\n",
       "  a35: r334,\n",
       "  a45: 0},\n",
       " {d1: r335,\n",
       "  d2: r335/x12,\n",
       "  d3: r336,\n",
       "  d4: r335/(x12*x24),\n",
       "  d5: r337,\n",
       "  a12: r338,\n",
       "  a13: r339,\n",
       "  a14: r340,\n",
       "  a15: r341,\n",
       "  a23: -r336*x13/x12,\n",
       "  a24: r342,\n",
       "  a25: r343,\n",
       "  a34: -(r342*x12 - r338)/x13,\n",
       "  a35: -r343*x12/x13,\n",
       "  a45: 0}]"
      ]
     },
     "metadata": {},
     "output_type": "display_data"
    },
    {
     "data": {
      "text/plain": [
       "\\left[\\left\\{d_{1} : 0, d_{2} : 0, d_{3} : r_{325}, d_{4} : 0, d_{5} : r_{326}, a_{12} : r_{327}, a_{13} : r_{328}, a_{14} : r_{329}, a_{15} : r_{330}, a_{23} : -\\frac{r_{325} x_{13}}{x_{12}}, a_{24} : r_{331}, a_{25} : r_{332}, a_{34} : r_{333}, a_{35} : r_{334}, a_{45} : 0\\right\\}, \\left\\{d_{1} : r_{335}, d_{2} : \\frac{r_{335}}{x_{12}}, d_{3} : r_{336}, d_{4} : \\frac{r_{335}}{x_{12} x_{24}}, d_{5} : r_{337}, a_{12} : r_{338}, a_{13} : r_{339}, a_{14} : r_{340}, a_{15} : r_{341}, a_{23} : -\\frac{r_{336} x_{13}}{x_{12}}, a_{24} : r_{342}, a_{25} : r_{343}, a_{34} : -\\frac{r_{342} x_{12} - r_{338}}{x_{13}}, a_{35} : -\\frac{r_{343} x_{12}}{x_{13}}, a_{45} : 0\\right\\}\\right]"
      ]
     },
     "execution_count": 21,
     "metadata": {},
     "output_type": "execute_result"
    }
   ],
   "source": [
    "#x2\n",
    "reset()\n",
    "\n",
    "var('x12,x13,x14,x15,x23,x24,x25,x34,x35,x45')\n",
    "var('d1,d2,d3,d4,d5')\n",
    "var('a12,a13,a14,a15,a23,a24,a25,a34,a35,a45')\n",
    "\n",
    "load_attach_path('C:\\\\Users\\\\julia\\\\Documents\\\\unb\\\\doutorado\\\\pensar\\\\codigo_sage_v2\\\\maquina\\\\x2')\n",
    "load('out_#010100.sage')\n",
    "\n",
    "m=matrix(QQ, [[0, 1, 0, 0, 0],\n",
    "              [0, 0, 0, 1, 0],\n",
    "              [0, 0, 0, 0, 0],\n",
    "              [0, 0, 0, 0, 0],\n",
    "              [0, 0, 0, 0, 0]])\n",
    "        \n",
    "#entry of matrix: (i,j) line i collum j, means (i-1,j-1)\n",
    "sol=solve([ eq1==m[0,1],\teq2==m[0,2],\teq3==m[0,3],\teq4==m[0,4],\t\n",
    "                                            eq5==m[1,3],    eq6==m[1,4],\n",
    "                                                            eq7==m[2,4]],d1,d2,d3,d4,d5,a12,a13,a14,a15,a23,a24,a25,a34,a35,a45, solution_dict=True)\n",
    "\n",
    "show(m)\n",
    "show(sol)\n",
    "latex(sol)"
   ]
  },
  {
   "cell_type": "code",
   "execution_count": 22,
   "metadata": {},
   "outputs": [
    {
     "data": {
      "text/html": [
       "<html><script type=\"math/tex; mode=display\">\\newcommand{\\Bold}[1]{\\mathbf{#1}}\\left(\\begin{array}{rrrrr}\n",
       "0 & 1 & 0 & 0 & 0 \\\\\n",
       "0 & 0 & 0 & 1 & 0 \\\\\n",
       "0 & 0 & 0 & 0 & 0 \\\\\n",
       "0 & 0 & 0 & 0 & 0 \\\\\n",
       "0 & 0 & 0 & 0 & 0\n",
       "\\end{array}\\right)</script></html>"
      ],
      "text/latex": [
       "$$\\newcommand{\\Bold}[1]{\\mathbf{#1}}\\left(\\begin{array}{rrrrr}\n",
       "0 & 1 & 0 & 0 & 0 \\\\\n",
       "0 & 0 & 0 & 1 & 0 \\\\\n",
       "0 & 0 & 0 & 0 & 0 \\\\\n",
       "0 & 0 & 0 & 0 & 0 \\\\\n",
       "0 & 0 & 0 & 0 & 0\n",
       "\\end{array}\\right)$$"
      ],
      "text/plain": [
       "[0 1 0 0 0]\n",
       "[0 0 0 1 0]\n",
       "[0 0 0 0 0]\n",
       "[0 0 0 0 0]\n",
       "[0 0 0 0 0]"
      ]
     },
     "metadata": {},
     "output_type": "display_data"
    },
    {
     "data": {
      "text/html": [
       "<html><script type=\"math/tex; mode=display\">\\newcommand{\\Bold}[1]{\\mathbf{#1}}\\left[\\left\\{d_{1} : 0, d_{2} : 0, d_{3} : r_{344}, d_{4} : 0, d_{5} : r_{345}, a_{12} : r_{346}, a_{13} : r_{347}, a_{14} : r_{348}, a_{15} : r_{349}, a_{23} : -\\frac{r_{344} x_{13}}{x_{12}}, a_{24} : r_{350}, a_{25} : r_{351}, a_{34} : r_{352}, a_{35} : r_{353}, a_{45} : 0\\right\\}, \\left\\{d_{1} : r_{354}, d_{2} : \\frac{r_{354}}{x_{12}}, d_{3} : r_{355}, d_{4} : \\frac{r_{354}}{x_{12} x_{24}}, d_{5} : r_{356}, a_{12} : r_{357}, a_{13} : r_{358}, a_{14} : r_{359}, a_{15} : r_{360}, a_{23} : -\\frac{r_{355} x_{13}}{x_{12}}, a_{24} : r_{361}, a_{25} : r_{362}, a_{34} : -\\frac{r_{361} x_{12} - r_{357}}{x_{13}}, a_{35} : -\\frac{r_{362} x_{12} + r_{356} x_{15}}{x_{13}}, a_{45} : 0\\right\\}\\right]</script></html>"
      ],
      "text/latex": [
       "$$\\newcommand{\\Bold}[1]{\\mathbf{#1}}\\left[\\left\\{d_{1} : 0, d_{2} : 0, d_{3} : r_{344}, d_{4} : 0, d_{5} : r_{345}, a_{12} : r_{346}, a_{13} : r_{347}, a_{14} : r_{348}, a_{15} : r_{349}, a_{23} : -\\frac{r_{344} x_{13}}{x_{12}}, a_{24} : r_{350}, a_{25} : r_{351}, a_{34} : r_{352}, a_{35} : r_{353}, a_{45} : 0\\right\\}, \\left\\{d_{1} : r_{354}, d_{2} : \\frac{r_{354}}{x_{12}}, d_{3} : r_{355}, d_{4} : \\frac{r_{354}}{x_{12} x_{24}}, d_{5} : r_{356}, a_{12} : r_{357}, a_{13} : r_{358}, a_{14} : r_{359}, a_{15} : r_{360}, a_{23} : -\\frac{r_{355} x_{13}}{x_{12}}, a_{24} : r_{361}, a_{25} : r_{362}, a_{34} : -\\frac{r_{361} x_{12} - r_{357}}{x_{13}}, a_{35} : -\\frac{r_{362} x_{12} + r_{356} x_{15}}{x_{13}}, a_{45} : 0\\right\\}\\right]$$"
      ],
      "text/plain": [
       "[{d1: 0,\n",
       "  d2: 0,\n",
       "  d3: r344,\n",
       "  d4: 0,\n",
       "  d5: r345,\n",
       "  a12: r346,\n",
       "  a13: r347,\n",
       "  a14: r348,\n",
       "  a15: r349,\n",
       "  a23: -r344*x13/x12,\n",
       "  a24: r350,\n",
       "  a25: r351,\n",
       "  a34: r352,\n",
       "  a35: r353,\n",
       "  a45: 0},\n",
       " {d1: r354,\n",
       "  d2: r354/x12,\n",
       "  d3: r355,\n",
       "  d4: r354/(x12*x24),\n",
       "  d5: r356,\n",
       "  a12: r357,\n",
       "  a13: r358,\n",
       "  a14: r359,\n",
       "  a15: r360,\n",
       "  a23: -r355*x13/x12,\n",
       "  a24: r361,\n",
       "  a25: r362,\n",
       "  a34: -(r361*x12 - r357)/x13,\n",
       "  a35: -(r362*x12 + r356*x15)/x13,\n",
       "  a45: 0}]"
      ]
     },
     "metadata": {},
     "output_type": "display_data"
    },
    {
     "data": {
      "text/plain": [
       "\\left[\\left\\{d_{1} : 0, d_{2} : 0, d_{3} : r_{344}, d_{4} : 0, d_{5} : r_{345}, a_{12} : r_{346}, a_{13} : r_{347}, a_{14} : r_{348}, a_{15} : r_{349}, a_{23} : -\\frac{r_{344} x_{13}}{x_{12}}, a_{24} : r_{350}, a_{25} : r_{351}, a_{34} : r_{352}, a_{35} : r_{353}, a_{45} : 0\\right\\}, \\left\\{d_{1} : r_{354}, d_{2} : \\frac{r_{354}}{x_{12}}, d_{3} : r_{355}, d_{4} : \\frac{r_{354}}{x_{12} x_{24}}, d_{5} : r_{356}, a_{12} : r_{357}, a_{13} : r_{358}, a_{14} : r_{359}, a_{15} : r_{360}, a_{23} : -\\frac{r_{355} x_{13}}{x_{12}}, a_{24} : r_{361}, a_{25} : r_{362}, a_{34} : -\\frac{r_{361} x_{12} - r_{357}}{x_{13}}, a_{35} : -\\frac{r_{362} x_{12} + r_{356} x_{15}}{x_{13}}, a_{45} : 0\\right\\}\\right]"
      ]
     },
     "execution_count": 22,
     "metadata": {},
     "output_type": "execute_result"
    }
   ],
   "source": [
    "#x2\n",
    "reset()\n",
    "\n",
    "var('x12,x13,x14,x15,x23,x24,x25,x34,x35,x45')\n",
    "var('d1,d2,d3,d4,d5')\n",
    "var('a12,a13,a14,a15,a23,a24,a25,a34,a35,a45')\n",
    "\n",
    "load_attach_path('C:\\\\Users\\\\julia\\\\Documents\\\\unb\\\\doutorado\\\\pensar\\\\codigo_sage_v2\\\\maquina\\\\x2')\n",
    "load('out_#010101.sage')\n",
    "\n",
    "m=matrix(QQ, [[0, 1, 0, 0, 0],\n",
    "              [0, 0, 0, 1, 0],\n",
    "              [0, 0, 0, 0, 0],\n",
    "              [0, 0, 0, 0, 0],\n",
    "              [0, 0, 0, 0, 0]])\n",
    "        \n",
    "#entry of matrix: (i,j) line i collum j, means (i-1,j-1)\n",
    "sol=solve([ eq1==m[0,1],\teq2==m[0,2],\teq3==m[0,3],\teq4==m[0,4],\t\n",
    "                                            eq5==m[1,3],    eq6==m[1,4],\n",
    "                                                            eq7==m[2,4]],d1,d2,d3,d4,d5,a12,a13,a14,a15,a23,a24,a25,a34,a35,a45, solution_dict=True)\n",
    "\n",
    "show(m)\n",
    "show(sol)\n",
    "latex(sol)"
   ]
  },
  {
   "cell_type": "code",
   "execution_count": 23,
   "metadata": {},
   "outputs": [
    {
     "data": {
      "text/html": [
       "<html><script type=\"math/tex; mode=display\">\\newcommand{\\Bold}[1]{\\mathbf{#1}}\\left(\\begin{array}{rrrrr}\n",
       "0 & 1 & 0 & 0 & 0 \\\\\n",
       "0 & 0 & 0 & 1 & 0 \\\\\n",
       "0 & 0 & 0 & 0 & 0 \\\\\n",
       "0 & 0 & 0 & 0 & 0 \\\\\n",
       "0 & 0 & 0 & 0 & 0\n",
       "\\end{array}\\right)</script></html>"
      ],
      "text/latex": [
       "$$\\newcommand{\\Bold}[1]{\\mathbf{#1}}\\left(\\begin{array}{rrrrr}\n",
       "0 & 1 & 0 & 0 & 0 \\\\\n",
       "0 & 0 & 0 & 1 & 0 \\\\\n",
       "0 & 0 & 0 & 0 & 0 \\\\\n",
       "0 & 0 & 0 & 0 & 0 \\\\\n",
       "0 & 0 & 0 & 0 & 0\n",
       "\\end{array}\\right)$$"
      ],
      "text/plain": [
       "[0 1 0 0 0]\n",
       "[0 0 0 1 0]\n",
       "[0 0 0 0 0]\n",
       "[0 0 0 0 0]\n",
       "[0 0 0 0 0]"
      ]
     },
     "metadata": {},
     "output_type": "display_data"
    },
    {
     "data": {
      "text/html": [
       "<html><script type=\"math/tex; mode=display\">\\newcommand{\\Bold}[1]{\\mathbf{#1}}\\left[\\left\\{d_{1} : 0, d_{2} : 0, d_{3} : r_{363}, d_{4} : 0, d_{5} : r_{364}, a_{12} : r_{365}, a_{13} : r_{366}, a_{14} : r_{367}, a_{15} : r_{368}, a_{23} : -\\frac{r_{363} x_{13}}{x_{12}}, a_{24} : r_{369}, a_{25} : r_{370}, a_{34} : r_{371}, a_{35} : r_{372}, a_{45} : 0\\right\\}, \\left\\{d_{1} : r_{373}, d_{2} : \\frac{r_{373}}{x_{12}}, d_{3} : r_{374}, d_{4} : \\frac{r_{373}}{x_{12} x_{24}}, d_{5} : r_{375}, a_{12} : r_{376}, a_{13} : r_{377}, a_{14} : r_{378}, a_{15} : r_{379}, a_{23} : -\\frac{r_{374} x_{13}}{x_{12}}, a_{24} : r_{380}, a_{25} : r_{381}, a_{34} : -\\frac{r_{373} x_{14} + {\\left(r_{380} x_{12}^{2} - r_{376} x_{12}\\right)} x_{24}}{x_{12} x_{13} x_{24}}, a_{35} : -\\frac{r_{381} x_{12}}{x_{13}}, a_{45} : 0\\right\\}\\right]</script></html>"
      ],
      "text/latex": [
       "$$\\newcommand{\\Bold}[1]{\\mathbf{#1}}\\left[\\left\\{d_{1} : 0, d_{2} : 0, d_{3} : r_{363}, d_{4} : 0, d_{5} : r_{364}, a_{12} : r_{365}, a_{13} : r_{366}, a_{14} : r_{367}, a_{15} : r_{368}, a_{23} : -\\frac{r_{363} x_{13}}{x_{12}}, a_{24} : r_{369}, a_{25} : r_{370}, a_{34} : r_{371}, a_{35} : r_{372}, a_{45} : 0\\right\\}, \\left\\{d_{1} : r_{373}, d_{2} : \\frac{r_{373}}{x_{12}}, d_{3} : r_{374}, d_{4} : \\frac{r_{373}}{x_{12} x_{24}}, d_{5} : r_{375}, a_{12} : r_{376}, a_{13} : r_{377}, a_{14} : r_{378}, a_{15} : r_{379}, a_{23} : -\\frac{r_{374} x_{13}}{x_{12}}, a_{24} : r_{380}, a_{25} : r_{381}, a_{34} : -\\frac{r_{373} x_{14} + {\\left(r_{380} x_{12}^{2} - r_{376} x_{12}\\right)} x_{24}}{x_{12} x_{13} x_{24}}, a_{35} : -\\frac{r_{381} x_{12}}{x_{13}}, a_{45} : 0\\right\\}\\right]$$"
      ],
      "text/plain": [
       "[{d1: 0,\n",
       "  d2: 0,\n",
       "  d3: r363,\n",
       "  d4: 0,\n",
       "  d5: r364,\n",
       "  a12: r365,\n",
       "  a13: r366,\n",
       "  a14: r367,\n",
       "  a15: r368,\n",
       "  a23: -r363*x13/x12,\n",
       "  a24: r369,\n",
       "  a25: r370,\n",
       "  a34: r371,\n",
       "  a35: r372,\n",
       "  a45: 0},\n",
       " {d1: r373,\n",
       "  d2: r373/x12,\n",
       "  d3: r374,\n",
       "  d4: r373/(x12*x24),\n",
       "  d5: r375,\n",
       "  a12: r376,\n",
       "  a13: r377,\n",
       "  a14: r378,\n",
       "  a15: r379,\n",
       "  a23: -r374*x13/x12,\n",
       "  a24: r380,\n",
       "  a25: r381,\n",
       "  a34: -(r373*x14 + (r380*x12^2 - r376*x12)*x24)/(x12*x13*x24),\n",
       "  a35: -r381*x12/x13,\n",
       "  a45: 0}]"
      ]
     },
     "metadata": {},
     "output_type": "display_data"
    },
    {
     "data": {
      "text/plain": [
       "\\left[\\left\\{d_{1} : 0, d_{2} : 0, d_{3} : r_{363}, d_{4} : 0, d_{5} : r_{364}, a_{12} : r_{365}, a_{13} : r_{366}, a_{14} : r_{367}, a_{15} : r_{368}, a_{23} : -\\frac{r_{363} x_{13}}{x_{12}}, a_{24} : r_{369}, a_{25} : r_{370}, a_{34} : r_{371}, a_{35} : r_{372}, a_{45} : 0\\right\\}, \\left\\{d_{1} : r_{373}, d_{2} : \\frac{r_{373}}{x_{12}}, d_{3} : r_{374}, d_{4} : \\frac{r_{373}}{x_{12} x_{24}}, d_{5} : r_{375}, a_{12} : r_{376}, a_{13} : r_{377}, a_{14} : r_{378}, a_{15} : r_{379}, a_{23} : -\\frac{r_{374} x_{13}}{x_{12}}, a_{24} : r_{380}, a_{25} : r_{381}, a_{34} : -\\frac{r_{373} x_{14} + {\\left(r_{380} x_{12}^{2} - r_{376} x_{12}\\right)} x_{24}}{x_{12} x_{13} x_{24}}, a_{35} : -\\frac{r_{381} x_{12}}{x_{13}}, a_{45} : 0\\right\\}\\right]"
      ]
     },
     "execution_count": 23,
     "metadata": {},
     "output_type": "execute_result"
    }
   ],
   "source": [
    "#x2\n",
    "reset()\n",
    "\n",
    "var('x12,x13,x14,x15,x23,x24,x25,x34,x35,x45')\n",
    "var('d1,d2,d3,d4,d5')\n",
    "var('a12,a13,a14,a15,a23,a24,a25,a34,a35,a45')\n",
    "\n",
    "load_attach_path('C:\\\\Users\\\\julia\\\\Documents\\\\unb\\\\doutorado\\\\pensar\\\\codigo_sage_v2\\\\maquina\\\\x2')\n",
    "load('out_#010110.sage')\n",
    "\n",
    "m=matrix(QQ, [[0, 1, 0, 0, 0],\n",
    "              [0, 0, 0, 1, 0],\n",
    "              [0, 0, 0, 0, 0],\n",
    "              [0, 0, 0, 0, 0],\n",
    "              [0, 0, 0, 0, 0]])\n",
    "        \n",
    "#entry of matrix: (i,j) line i collum j, means (i-1,j-1)\n",
    "sol=solve([ eq1==m[0,1],\teq2==m[0,2],\teq3==m[0,3],\teq4==m[0,4],\t\n",
    "                                            eq5==m[1,3],    eq6==m[1,4],\n",
    "                                                            eq7==m[2,4]],d1,d2,d3,d4,d5,a12,a13,a14,a15,a23,a24,a25,a34,a35,a45, solution_dict=True)\n",
    "\n",
    "show(m)\n",
    "show(sol)\n",
    "latex(sol)"
   ]
  },
  {
   "cell_type": "code",
   "execution_count": 24,
   "metadata": {},
   "outputs": [
    {
     "data": {
      "text/html": [
       "<html><script type=\"math/tex; mode=display\">\\newcommand{\\Bold}[1]{\\mathbf{#1}}\\left(\\begin{array}{rrrrr}\n",
       "0 & 1 & 0 & 0 & 0 \\\\\n",
       "0 & 0 & 0 & 1 & 0 \\\\\n",
       "0 & 0 & 0 & 0 & 0 \\\\\n",
       "0 & 0 & 0 & 0 & 0 \\\\\n",
       "0 & 0 & 0 & 0 & 0\n",
       "\\end{array}\\right)</script></html>"
      ],
      "text/latex": [
       "$$\\newcommand{\\Bold}[1]{\\mathbf{#1}}\\left(\\begin{array}{rrrrr}\n",
       "0 & 1 & 0 & 0 & 0 \\\\\n",
       "0 & 0 & 0 & 1 & 0 \\\\\n",
       "0 & 0 & 0 & 0 & 0 \\\\\n",
       "0 & 0 & 0 & 0 & 0 \\\\\n",
       "0 & 0 & 0 & 0 & 0\n",
       "\\end{array}\\right)$$"
      ],
      "text/plain": [
       "[0 1 0 0 0]\n",
       "[0 0 0 1 0]\n",
       "[0 0 0 0 0]\n",
       "[0 0 0 0 0]\n",
       "[0 0 0 0 0]"
      ]
     },
     "metadata": {},
     "output_type": "display_data"
    },
    {
     "data": {
      "text/html": [
       "<html><script type=\"math/tex; mode=display\">\\newcommand{\\Bold}[1]{\\mathbf{#1}}\\left[\\left\\{d_{1} : 0, d_{2} : 0, d_{3} : r_{382}, d_{4} : 0, d_{5} : r_{383}, a_{12} : r_{384}, a_{13} : r_{385}, a_{14} : r_{386}, a_{15} : r_{387}, a_{23} : -\\frac{r_{382} x_{13}}{x_{12}}, a_{24} : r_{388}, a_{25} : r_{389}, a_{34} : r_{390}, a_{35} : r_{391}, a_{45} : 0\\right\\}, \\left\\{d_{1} : r_{392}, d_{2} : \\frac{r_{392}}{x_{12}}, d_{3} : r_{393}, d_{4} : \\frac{r_{392}}{x_{12} x_{24}}, d_{5} : r_{394}, a_{12} : r_{395}, a_{13} : r_{396}, a_{14} : r_{397}, a_{15} : r_{398}, a_{23} : -\\frac{r_{393} x_{13}}{x_{12}}, a_{24} : r_{399}, a_{25} : r_{400}, a_{34} : -\\frac{r_{392} x_{14} + {\\left(r_{399} x_{12}^{2} - r_{395} x_{12}\\right)} x_{24}}{x_{12} x_{13} x_{24}}, a_{35} : -\\frac{r_{400} x_{12} + r_{394} x_{15}}{x_{13}}, a_{45} : 0\\right\\}\\right]</script></html>"
      ],
      "text/latex": [
       "$$\\newcommand{\\Bold}[1]{\\mathbf{#1}}\\left[\\left\\{d_{1} : 0, d_{2} : 0, d_{3} : r_{382}, d_{4} : 0, d_{5} : r_{383}, a_{12} : r_{384}, a_{13} : r_{385}, a_{14} : r_{386}, a_{15} : r_{387}, a_{23} : -\\frac{r_{382} x_{13}}{x_{12}}, a_{24} : r_{388}, a_{25} : r_{389}, a_{34} : r_{390}, a_{35} : r_{391}, a_{45} : 0\\right\\}, \\left\\{d_{1} : r_{392}, d_{2} : \\frac{r_{392}}{x_{12}}, d_{3} : r_{393}, d_{4} : \\frac{r_{392}}{x_{12} x_{24}}, d_{5} : r_{394}, a_{12} : r_{395}, a_{13} : r_{396}, a_{14} : r_{397}, a_{15} : r_{398}, a_{23} : -\\frac{r_{393} x_{13}}{x_{12}}, a_{24} : r_{399}, a_{25} : r_{400}, a_{34} : -\\frac{r_{392} x_{14} + {\\left(r_{399} x_{12}^{2} - r_{395} x_{12}\\right)} x_{24}}{x_{12} x_{13} x_{24}}, a_{35} : -\\frac{r_{400} x_{12} + r_{394} x_{15}}{x_{13}}, a_{45} : 0\\right\\}\\right]$$"
      ],
      "text/plain": [
       "[{d1: 0,\n",
       "  d2: 0,\n",
       "  d3: r382,\n",
       "  d4: 0,\n",
       "  d5: r383,\n",
       "  a12: r384,\n",
       "  a13: r385,\n",
       "  a14: r386,\n",
       "  a15: r387,\n",
       "  a23: -r382*x13/x12,\n",
       "  a24: r388,\n",
       "  a25: r389,\n",
       "  a34: r390,\n",
       "  a35: r391,\n",
       "  a45: 0},\n",
       " {d1: r392,\n",
       "  d2: r392/x12,\n",
       "  d3: r393,\n",
       "  d4: r392/(x12*x24),\n",
       "  d5: r394,\n",
       "  a12: r395,\n",
       "  a13: r396,\n",
       "  a14: r397,\n",
       "  a15: r398,\n",
       "  a23: -r393*x13/x12,\n",
       "  a24: r399,\n",
       "  a25: r400,\n",
       "  a34: -(r392*x14 + (r399*x12^2 - r395*x12)*x24)/(x12*x13*x24),\n",
       "  a35: -(r400*x12 + r394*x15)/x13,\n",
       "  a45: 0}]"
      ]
     },
     "metadata": {},
     "output_type": "display_data"
    },
    {
     "data": {
      "text/plain": [
       "\\left[\\left\\{d_{1} : 0, d_{2} : 0, d_{3} : r_{382}, d_{4} : 0, d_{5} : r_{383}, a_{12} : r_{384}, a_{13} : r_{385}, a_{14} : r_{386}, a_{15} : r_{387}, a_{23} : -\\frac{r_{382} x_{13}}{x_{12}}, a_{24} : r_{388}, a_{25} : r_{389}, a_{34} : r_{390}, a_{35} : r_{391}, a_{45} : 0\\right\\}, \\left\\{d_{1} : r_{392}, d_{2} : \\frac{r_{392}}{x_{12}}, d_{3} : r_{393}, d_{4} : \\frac{r_{392}}{x_{12} x_{24}}, d_{5} : r_{394}, a_{12} : r_{395}, a_{13} : r_{396}, a_{14} : r_{397}, a_{15} : r_{398}, a_{23} : -\\frac{r_{393} x_{13}}{x_{12}}, a_{24} : r_{399}, a_{25} : r_{400}, a_{34} : -\\frac{r_{392} x_{14} + {\\left(r_{399} x_{12}^{2} - r_{395} x_{12}\\right)} x_{24}}{x_{12} x_{13} x_{24}}, a_{35} : -\\frac{r_{400} x_{12} + r_{394} x_{15}}{x_{13}}, a_{45} : 0\\right\\}\\right]"
      ]
     },
     "execution_count": 24,
     "metadata": {},
     "output_type": "execute_result"
    }
   ],
   "source": [
    "#x2\n",
    "reset()\n",
    "\n",
    "var('x12,x13,x14,x15,x23,x24,x25,x34,x35,x45')\n",
    "var('d1,d2,d3,d4,d5')\n",
    "var('a12,a13,a14,a15,a23,a24,a25,a34,a35,a45')\n",
    "\n",
    "load_attach_path('C:\\\\Users\\\\julia\\\\Documents\\\\unb\\\\doutorado\\\\pensar\\\\codigo_sage_v2\\\\maquina\\\\x2')\n",
    "load('out_#010111.sage')\n",
    "\n",
    "m=matrix(QQ, [[0, 1, 0, 0, 0],\n",
    "              [0, 0, 0, 1, 0],\n",
    "              [0, 0, 0, 0, 0],\n",
    "              [0, 0, 0, 0, 0],\n",
    "              [0, 0, 0, 0, 0]])\n",
    "        \n",
    "#entry of matrix: (i,j) line i collum j, means (i-1,j-1)\n",
    "sol=solve([ eq1==m[0,1],\teq2==m[0,2],\teq3==m[0,3],\teq4==m[0,4],\t\n",
    "                                            eq5==m[1,3],    eq6==m[1,4],\n",
    "                                                            eq7==m[2,4]],d1,d2,d3,d4,d5,a12,a13,a14,a15,a23,a24,a25,a34,a35,a45, solution_dict=True)\n",
    "\n",
    "show(m)\n",
    "show(sol)\n",
    "latex(sol)"
   ]
  },
  {
   "cell_type": "code",
   "execution_count": 25,
   "metadata": {},
   "outputs": [
    {
     "data": {
      "text/html": [
       "<html><script type=\"math/tex; mode=display\">\\newcommand{\\Bold}[1]{\\mathbf{#1}}\\left(\\begin{array}{rrrrr}\n",
       "0 & 1 & 0 & 0 & 0 \\\\\n",
       "0 & 0 & 0 & 1 & 0 \\\\\n",
       "0 & 0 & 0 & 0 & 0 \\\\\n",
       "0 & 0 & 0 & 0 & 0 \\\\\n",
       "0 & 0 & 0 & 0 & 0\n",
       "\\end{array}\\right)</script></html>"
      ],
      "text/latex": [
       "$$\\newcommand{\\Bold}[1]{\\mathbf{#1}}\\left(\\begin{array}{rrrrr}\n",
       "0 & 1 & 0 & 0 & 0 \\\\\n",
       "0 & 0 & 0 & 1 & 0 \\\\\n",
       "0 & 0 & 0 & 0 & 0 \\\\\n",
       "0 & 0 & 0 & 0 & 0 \\\\\n",
       "0 & 0 & 0 & 0 & 0\n",
       "\\end{array}\\right)$$"
      ],
      "text/plain": [
       "[0 1 0 0 0]\n",
       "[0 0 0 1 0]\n",
       "[0 0 0 0 0]\n",
       "[0 0 0 0 0]\n",
       "[0 0 0 0 0]"
      ]
     },
     "metadata": {},
     "output_type": "display_data"
    },
    {
     "data": {
      "text/html": [
       "<html><script type=\"math/tex; mode=display\">\\newcommand{\\Bold}[1]{\\mathbf{#1}}\\left[\\left\\{d_{1} : 0, d_{2} : 0, d_{3} : r_{401}, d_{4} : 0, d_{5} : r_{402}, a_{12} : r_{403}, a_{13} : r_{404}, a_{14} : r_{405}, a_{15} : r_{406}, a_{23} : 0, a_{24} : r_{407}, a_{25} : r_{408}, a_{34} : r_{409}, a_{35} : r_{410}, a_{45} : -\\frac{r_{402} x_{25}}{x_{24}}\\right\\}, \\left\\{d_{1} : r_{411}, d_{2} : \\frac{r_{411}}{x_{12}}, d_{3} : r_{412}, d_{4} : \\frac{r_{411}}{x_{12} x_{24}}, d_{5} : r_{413}, a_{12} : r_{414}, a_{13} : r_{415}, a_{14} : r_{416}, a_{15} : r_{417}, a_{23} : 0, a_{24} : \\frac{r_{414}}{x_{12}}, a_{25} : 0, a_{34} : r_{418}, a_{35} : r_{419}, a_{45} : -\\frac{r_{413} x_{25}}{x_{24}}\\right\\}\\right]</script></html>"
      ],
      "text/latex": [
       "$$\\newcommand{\\Bold}[1]{\\mathbf{#1}}\\left[\\left\\{d_{1} : 0, d_{2} : 0, d_{3} : r_{401}, d_{4} : 0, d_{5} : r_{402}, a_{12} : r_{403}, a_{13} : r_{404}, a_{14} : r_{405}, a_{15} : r_{406}, a_{23} : 0, a_{24} : r_{407}, a_{25} : r_{408}, a_{34} : r_{409}, a_{35} : r_{410}, a_{45} : -\\frac{r_{402} x_{25}}{x_{24}}\\right\\}, \\left\\{d_{1} : r_{411}, d_{2} : \\frac{r_{411}}{x_{12}}, d_{3} : r_{412}, d_{4} : \\frac{r_{411}}{x_{12} x_{24}}, d_{5} : r_{413}, a_{12} : r_{414}, a_{13} : r_{415}, a_{14} : r_{416}, a_{15} : r_{417}, a_{23} : 0, a_{24} : \\frac{r_{414}}{x_{12}}, a_{25} : 0, a_{34} : r_{418}, a_{35} : r_{419}, a_{45} : -\\frac{r_{413} x_{25}}{x_{24}}\\right\\}\\right]$$"
      ],
      "text/plain": [
       "[{d1: 0,\n",
       "  d2: 0,\n",
       "  d3: r401,\n",
       "  d4: 0,\n",
       "  d5: r402,\n",
       "  a12: r403,\n",
       "  a13: r404,\n",
       "  a14: r405,\n",
       "  a15: r406,\n",
       "  a23: 0,\n",
       "  a24: r407,\n",
       "  a25: r408,\n",
       "  a34: r409,\n",
       "  a35: r410,\n",
       "  a45: -r402*x25/x24},\n",
       " {d1: r411,\n",
       "  d2: r411/x12,\n",
       "  d3: r412,\n",
       "  d4: r411/(x12*x24),\n",
       "  d5: r413,\n",
       "  a12: r414,\n",
       "  a13: r415,\n",
       "  a14: r416,\n",
       "  a15: r417,\n",
       "  a23: 0,\n",
       "  a24: r414/x12,\n",
       "  a25: 0,\n",
       "  a34: r418,\n",
       "  a35: r419,\n",
       "  a45: -r413*x25/x24}]"
      ]
     },
     "metadata": {},
     "output_type": "display_data"
    },
    {
     "data": {
      "text/plain": [
       "\\left[\\left\\{d_{1} : 0, d_{2} : 0, d_{3} : r_{401}, d_{4} : 0, d_{5} : r_{402}, a_{12} : r_{403}, a_{13} : r_{404}, a_{14} : r_{405}, a_{15} : r_{406}, a_{23} : 0, a_{24} : r_{407}, a_{25} : r_{408}, a_{34} : r_{409}, a_{35} : r_{410}, a_{45} : -\\frac{r_{402} x_{25}}{x_{24}}\\right\\}, \\left\\{d_{1} : r_{411}, d_{2} : \\frac{r_{411}}{x_{12}}, d_{3} : r_{412}, d_{4} : \\frac{r_{411}}{x_{12} x_{24}}, d_{5} : r_{413}, a_{12} : r_{414}, a_{13} : r_{415}, a_{14} : r_{416}, a_{15} : r_{417}, a_{23} : 0, a_{24} : \\frac{r_{414}}{x_{12}}, a_{25} : 0, a_{34} : r_{418}, a_{35} : r_{419}, a_{45} : -\\frac{r_{413} x_{25}}{x_{24}}\\right\\}\\right]"
      ]
     },
     "execution_count": 25,
     "metadata": {},
     "output_type": "execute_result"
    }
   ],
   "source": [
    "#x2\n",
    "reset()\n",
    "\n",
    "var('x12,x13,x14,x15,x23,x24,x25,x34,x35,x45')\n",
    "var('d1,d2,d3,d4,d5')\n",
    "var('a12,a13,a14,a15,a23,a24,a25,a34,a35,a45')\n",
    "\n",
    "load_attach_path('C:\\\\Users\\\\julia\\\\Documents\\\\unb\\\\doutorado\\\\pensar\\\\codigo_sage_v2\\\\maquina\\\\x2')\n",
    "load('out_#011000.sage')\n",
    "\n",
    "m=matrix(QQ, [[0, 1, 0, 0, 0],\n",
    "              [0, 0, 0, 1, 0],\n",
    "              [0, 0, 0, 0, 0],\n",
    "              [0, 0, 0, 0, 0],\n",
    "              [0, 0, 0, 0, 0]])\n",
    "        \n",
    "#entry of matrix: (i,j) line i collum j, means (i-1,j-1)\n",
    "sol=solve([ eq1==m[0,1],\teq2==m[0,2],\teq3==m[0,3],\teq4==m[0,4],\t\n",
    "                                            eq5==m[1,3],    eq6==m[1,4],\n",
    "                                                            eq7==m[2,4]],d1,d2,d3,d4,d5,a12,a13,a14,a15,a23,a24,a25,a34,a35,a45, solution_dict=True)\n",
    "\n",
    "show(m)\n",
    "show(sol)\n",
    "latex(sol)"
   ]
  },
  {
   "cell_type": "code",
   "execution_count": 26,
   "metadata": {},
   "outputs": [
    {
     "data": {
      "text/html": [
       "<html><script type=\"math/tex; mode=display\">\\newcommand{\\Bold}[1]{\\mathbf{#1}}\\left(\\begin{array}{rrrrr}\n",
       "0 & 1 & 0 & 0 & 0 \\\\\n",
       "0 & 0 & 0 & 1 & 0 \\\\\n",
       "0 & 0 & 0 & 0 & 0 \\\\\n",
       "0 & 0 & 0 & 0 & 0 \\\\\n",
       "0 & 0 & 0 & 0 & 0\n",
       "\\end{array}\\right)</script></html>"
      ],
      "text/latex": [
       "$$\\newcommand{\\Bold}[1]{\\mathbf{#1}}\\left(\\begin{array}{rrrrr}\n",
       "0 & 1 & 0 & 0 & 0 \\\\\n",
       "0 & 0 & 0 & 1 & 0 \\\\\n",
       "0 & 0 & 0 & 0 & 0 \\\\\n",
       "0 & 0 & 0 & 0 & 0 \\\\\n",
       "0 & 0 & 0 & 0 & 0\n",
       "\\end{array}\\right)$$"
      ],
      "text/plain": [
       "[0 1 0 0 0]\n",
       "[0 0 0 1 0]\n",
       "[0 0 0 0 0]\n",
       "[0 0 0 0 0]\n",
       "[0 0 0 0 0]"
      ]
     },
     "metadata": {},
     "output_type": "display_data"
    },
    {
     "data": {
      "text/html": [
       "<html><script type=\"math/tex; mode=display\">\\newcommand{\\Bold}[1]{\\mathbf{#1}}\\left[\\left\\{d_{1} : 0, d_{2} : 0, d_{3} : r_{420}, d_{4} : 0, d_{5} : r_{421}, a_{12} : r_{422}, a_{13} : r_{423}, a_{14} : r_{424}, a_{15} : r_{425}, a_{23} : 0, a_{24} : r_{426}, a_{25} : r_{427}, a_{34} : r_{428}, a_{35} : r_{429}, a_{45} : -\\frac{r_{421} x_{25}}{x_{24}}\\right\\}, \\left\\{d_{1} : r_{430}, d_{2} : \\frac{r_{430}}{x_{12}}, d_{3} : r_{431}, d_{4} : \\frac{r_{430}}{x_{12} x_{24}}, d_{5} : r_{432}, a_{12} : r_{433}, a_{13} : r_{434}, a_{14} : r_{435}, a_{15} : r_{436}, a_{23} : 0, a_{24} : \\frac{r_{433}}{x_{12}}, a_{25} : -\\frac{r_{432} x_{15}}{x_{12}}, a_{34} : r_{437}, a_{35} : r_{438}, a_{45} : -\\frac{r_{432} x_{25}}{x_{24}}\\right\\}\\right]</script></html>"
      ],
      "text/latex": [
       "$$\\newcommand{\\Bold}[1]{\\mathbf{#1}}\\left[\\left\\{d_{1} : 0, d_{2} : 0, d_{3} : r_{420}, d_{4} : 0, d_{5} : r_{421}, a_{12} : r_{422}, a_{13} : r_{423}, a_{14} : r_{424}, a_{15} : r_{425}, a_{23} : 0, a_{24} : r_{426}, a_{25} : r_{427}, a_{34} : r_{428}, a_{35} : r_{429}, a_{45} : -\\frac{r_{421} x_{25}}{x_{24}}\\right\\}, \\left\\{d_{1} : r_{430}, d_{2} : \\frac{r_{430}}{x_{12}}, d_{3} : r_{431}, d_{4} : \\frac{r_{430}}{x_{12} x_{24}}, d_{5} : r_{432}, a_{12} : r_{433}, a_{13} : r_{434}, a_{14} : r_{435}, a_{15} : r_{436}, a_{23} : 0, a_{24} : \\frac{r_{433}}{x_{12}}, a_{25} : -\\frac{r_{432} x_{15}}{x_{12}}, a_{34} : r_{437}, a_{35} : r_{438}, a_{45} : -\\frac{r_{432} x_{25}}{x_{24}}\\right\\}\\right]$$"
      ],
      "text/plain": [
       "[{d1: 0,\n",
       "  d2: 0,\n",
       "  d3: r420,\n",
       "  d4: 0,\n",
       "  d5: r421,\n",
       "  a12: r422,\n",
       "  a13: r423,\n",
       "  a14: r424,\n",
       "  a15: r425,\n",
       "  a23: 0,\n",
       "  a24: r426,\n",
       "  a25: r427,\n",
       "  a34: r428,\n",
       "  a35: r429,\n",
       "  a45: -r421*x25/x24},\n",
       " {d1: r430,\n",
       "  d2: r430/x12,\n",
       "  d3: r431,\n",
       "  d4: r430/(x12*x24),\n",
       "  d5: r432,\n",
       "  a12: r433,\n",
       "  a13: r434,\n",
       "  a14: r435,\n",
       "  a15: r436,\n",
       "  a23: 0,\n",
       "  a24: r433/x12,\n",
       "  a25: -r432*x15/x12,\n",
       "  a34: r437,\n",
       "  a35: r438,\n",
       "  a45: -r432*x25/x24}]"
      ]
     },
     "metadata": {},
     "output_type": "display_data"
    },
    {
     "data": {
      "text/plain": [
       "\\left[\\left\\{d_{1} : 0, d_{2} : 0, d_{3} : r_{420}, d_{4} : 0, d_{5} : r_{421}, a_{12} : r_{422}, a_{13} : r_{423}, a_{14} : r_{424}, a_{15} : r_{425}, a_{23} : 0, a_{24} : r_{426}, a_{25} : r_{427}, a_{34} : r_{428}, a_{35} : r_{429}, a_{45} : -\\frac{r_{421} x_{25}}{x_{24}}\\right\\}, \\left\\{d_{1} : r_{430}, d_{2} : \\frac{r_{430}}{x_{12}}, d_{3} : r_{431}, d_{4} : \\frac{r_{430}}{x_{12} x_{24}}, d_{5} : r_{432}, a_{12} : r_{433}, a_{13} : r_{434}, a_{14} : r_{435}, a_{15} : r_{436}, a_{23} : 0, a_{24} : \\frac{r_{433}}{x_{12}}, a_{25} : -\\frac{r_{432} x_{15}}{x_{12}}, a_{34} : r_{437}, a_{35} : r_{438}, a_{45} : -\\frac{r_{432} x_{25}}{x_{24}}\\right\\}\\right]"
      ]
     },
     "execution_count": 26,
     "metadata": {},
     "output_type": "execute_result"
    }
   ],
   "source": [
    "#x2\n",
    "reset()\n",
    "\n",
    "var('x12,x13,x14,x15,x23,x24,x25,x34,x35,x45')\n",
    "var('d1,d2,d3,d4,d5')\n",
    "var('a12,a13,a14,a15,a23,a24,a25,a34,a35,a45')\n",
    "\n",
    "load_attach_path('C:\\\\Users\\\\julia\\\\Documents\\\\unb\\\\doutorado\\\\pensar\\\\codigo_sage_v2\\\\maquina\\\\x2')\n",
    "load('out_#011001.sage')\n",
    "\n",
    "m=matrix(QQ, [[0, 1, 0, 0, 0],\n",
    "              [0, 0, 0, 1, 0],\n",
    "              [0, 0, 0, 0, 0],\n",
    "              [0, 0, 0, 0, 0],\n",
    "              [0, 0, 0, 0, 0]])\n",
    "        \n",
    "#entry of matrix: (i,j) line i collum j, means (i-1,j-1)\n",
    "sol=solve([ eq1==m[0,1],\teq2==m[0,2],\teq3==m[0,3],\teq4==m[0,4],\t\n",
    "                                            eq5==m[1,3],    eq6==m[1,4],\n",
    "                                                            eq7==m[2,4]],d1,d2,d3,d4,d5,a12,a13,a14,a15,a23,a24,a25,a34,a35,a45, solution_dict=True)\n",
    "\n",
    "show(m)\n",
    "show(sol)\n",
    "latex(sol)"
   ]
  },
  {
   "cell_type": "code",
   "execution_count": 27,
   "metadata": {},
   "outputs": [
    {
     "data": {
      "text/html": [
       "<html><script type=\"math/tex; mode=display\">\\newcommand{\\Bold}[1]{\\mathbf{#1}}\\left(\\begin{array}{rrrrr}\n",
       "0 & 1 & 0 & 0 & 0 \\\\\n",
       "0 & 0 & 0 & 1 & 0 \\\\\n",
       "0 & 0 & 0 & 0 & 0 \\\\\n",
       "0 & 0 & 0 & 0 & 0 \\\\\n",
       "0 & 0 & 0 & 0 & 0\n",
       "\\end{array}\\right)</script></html>"
      ],
      "text/latex": [
       "$$\\newcommand{\\Bold}[1]{\\mathbf{#1}}\\left(\\begin{array}{rrrrr}\n",
       "0 & 1 & 0 & 0 & 0 \\\\\n",
       "0 & 0 & 0 & 1 & 0 \\\\\n",
       "0 & 0 & 0 & 0 & 0 \\\\\n",
       "0 & 0 & 0 & 0 & 0 \\\\\n",
       "0 & 0 & 0 & 0 & 0\n",
       "\\end{array}\\right)$$"
      ],
      "text/plain": [
       "[0 1 0 0 0]\n",
       "[0 0 0 1 0]\n",
       "[0 0 0 0 0]\n",
       "[0 0 0 0 0]\n",
       "[0 0 0 0 0]"
      ]
     },
     "metadata": {},
     "output_type": "display_data"
    },
    {
     "data": {
      "text/html": [
       "<html><script type=\"math/tex; mode=display\">\\newcommand{\\Bold}[1]{\\mathbf{#1}}\\left[\\left\\{d_{1} : 0, d_{2} : 0, d_{3} : r_{439}, d_{4} : 0, d_{5} : r_{440}, a_{12} : r_{441}, a_{13} : r_{442}, a_{14} : r_{443}, a_{15} : r_{444}, a_{23} : 0, a_{24} : r_{445}, a_{25} : r_{446}, a_{34} : r_{447}, a_{35} : r_{448}, a_{45} : -\\frac{r_{440} x_{25}}{x_{24}}\\right\\}, \\left\\{d_{1} : r_{449}, d_{2} : \\frac{r_{449}}{x_{12}}, d_{3} : r_{450}, d_{4} : \\frac{r_{449}}{x_{12} x_{24}}, d_{5} : r_{451}, a_{12} : r_{452}, a_{13} : r_{453}, a_{14} : r_{454}, a_{15} : r_{455}, a_{23} : 0, a_{24} : \\frac{r_{452} x_{12} x_{24} - r_{449} x_{14}}{x_{12}^{2} x_{24}}, a_{25} : \\frac{r_{451} x_{14} x_{25}}{x_{12} x_{24}}, a_{34} : r_{456}, a_{35} : r_{457}, a_{45} : -\\frac{r_{451} x_{25}}{x_{24}}\\right\\}\\right]</script></html>"
      ],
      "text/latex": [
       "$$\\newcommand{\\Bold}[1]{\\mathbf{#1}}\\left[\\left\\{d_{1} : 0, d_{2} : 0, d_{3} : r_{439}, d_{4} : 0, d_{5} : r_{440}, a_{12} : r_{441}, a_{13} : r_{442}, a_{14} : r_{443}, a_{15} : r_{444}, a_{23} : 0, a_{24} : r_{445}, a_{25} : r_{446}, a_{34} : r_{447}, a_{35} : r_{448}, a_{45} : -\\frac{r_{440} x_{25}}{x_{24}}\\right\\}, \\left\\{d_{1} : r_{449}, d_{2} : \\frac{r_{449}}{x_{12}}, d_{3} : r_{450}, d_{4} : \\frac{r_{449}}{x_{12} x_{24}}, d_{5} : r_{451}, a_{12} : r_{452}, a_{13} : r_{453}, a_{14} : r_{454}, a_{15} : r_{455}, a_{23} : 0, a_{24} : \\frac{r_{452} x_{12} x_{24} - r_{449} x_{14}}{x_{12}^{2} x_{24}}, a_{25} : \\frac{r_{451} x_{14} x_{25}}{x_{12} x_{24}}, a_{34} : r_{456}, a_{35} : r_{457}, a_{45} : -\\frac{r_{451} x_{25}}{x_{24}}\\right\\}\\right]$$"
      ],
      "text/plain": [
       "[{d1: 0,\n",
       "  d2: 0,\n",
       "  d3: r439,\n",
       "  d4: 0,\n",
       "  d5: r440,\n",
       "  a12: r441,\n",
       "  a13: r442,\n",
       "  a14: r443,\n",
       "  a15: r444,\n",
       "  a23: 0,\n",
       "  a24: r445,\n",
       "  a25: r446,\n",
       "  a34: r447,\n",
       "  a35: r448,\n",
       "  a45: -r440*x25/x24},\n",
       " {d1: r449,\n",
       "  d2: r449/x12,\n",
       "  d3: r450,\n",
       "  d4: r449/(x12*x24),\n",
       "  d5: r451,\n",
       "  a12: r452,\n",
       "  a13: r453,\n",
       "  a14: r454,\n",
       "  a15: r455,\n",
       "  a23: 0,\n",
       "  a24: (r452*x12*x24 - r449*x14)/(x12^2*x24),\n",
       "  a25: r451*x14*x25/(x12*x24),\n",
       "  a34: r456,\n",
       "  a35: r457,\n",
       "  a45: -r451*x25/x24}]"
      ]
     },
     "metadata": {},
     "output_type": "display_data"
    },
    {
     "data": {
      "text/plain": [
       "\\left[\\left\\{d_{1} : 0, d_{2} : 0, d_{3} : r_{439}, d_{4} : 0, d_{5} : r_{440}, a_{12} : r_{441}, a_{13} : r_{442}, a_{14} : r_{443}, a_{15} : r_{444}, a_{23} : 0, a_{24} : r_{445}, a_{25} : r_{446}, a_{34} : r_{447}, a_{35} : r_{448}, a_{45} : -\\frac{r_{440} x_{25}}{x_{24}}\\right\\}, \\left\\{d_{1} : r_{449}, d_{2} : \\frac{r_{449}}{x_{12}}, d_{3} : r_{450}, d_{4} : \\frac{r_{449}}{x_{12} x_{24}}, d_{5} : r_{451}, a_{12} : r_{452}, a_{13} : r_{453}, a_{14} : r_{454}, a_{15} : r_{455}, a_{23} : 0, a_{24} : \\frac{r_{452} x_{12} x_{24} - r_{449} x_{14}}{x_{12}^{2} x_{24}}, a_{25} : \\frac{r_{451} x_{14} x_{25}}{x_{12} x_{24}}, a_{34} : r_{456}, a_{35} : r_{457}, a_{45} : -\\frac{r_{451} x_{25}}{x_{24}}\\right\\}\\right]"
      ]
     },
     "execution_count": 27,
     "metadata": {},
     "output_type": "execute_result"
    }
   ],
   "source": [
    "#x2\n",
    "reset()\n",
    "\n",
    "var('x12,x13,x14,x15,x23,x24,x25,x34,x35,x45')\n",
    "var('d1,d2,d3,d4,d5')\n",
    "var('a12,a13,a14,a15,a23,a24,a25,a34,a35,a45')\n",
    "\n",
    "load_attach_path('C:\\\\Users\\\\julia\\\\Documents\\\\unb\\\\doutorado\\\\pensar\\\\codigo_sage_v2\\\\maquina\\\\x2')\n",
    "load('out_#011010.sage')\n",
    "\n",
    "m=matrix(QQ, [[0, 1, 0, 0, 0],\n",
    "              [0, 0, 0, 1, 0],\n",
    "              [0, 0, 0, 0, 0],\n",
    "              [0, 0, 0, 0, 0],\n",
    "              [0, 0, 0, 0, 0]])\n",
    "        \n",
    "#entry of matrix: (i,j) line i collum j, means (i-1,j-1)\n",
    "sol=solve([ eq1==m[0,1],\teq2==m[0,2],\teq3==m[0,3],\teq4==m[0,4],\t\n",
    "                                            eq5==m[1,3],    eq6==m[1,4],\n",
    "                                                            eq7==m[2,4]],d1,d2,d3,d4,d5,a12,a13,a14,a15,a23,a24,a25,a34,a35,a45, solution_dict=True)\n",
    "\n",
    "show(m)\n",
    "show(sol)\n",
    "latex(sol)"
   ]
  },
  {
   "cell_type": "code",
   "execution_count": 28,
   "metadata": {},
   "outputs": [
    {
     "data": {
      "text/html": [
       "<html><script type=\"math/tex; mode=display\">\\newcommand{\\Bold}[1]{\\mathbf{#1}}\\left(\\begin{array}{rrrrr}\n",
       "0 & 1 & 0 & 0 & 0 \\\\\n",
       "0 & 0 & 0 & 1 & 0 \\\\\n",
       "0 & 0 & 0 & 0 & 0 \\\\\n",
       "0 & 0 & 0 & 0 & 0 \\\\\n",
       "0 & 0 & 0 & 0 & 0\n",
       "\\end{array}\\right)</script></html>"
      ],
      "text/latex": [
       "$$\\newcommand{\\Bold}[1]{\\mathbf{#1}}\\left(\\begin{array}{rrrrr}\n",
       "0 & 1 & 0 & 0 & 0 \\\\\n",
       "0 & 0 & 0 & 1 & 0 \\\\\n",
       "0 & 0 & 0 & 0 & 0 \\\\\n",
       "0 & 0 & 0 & 0 & 0 \\\\\n",
       "0 & 0 & 0 & 0 & 0\n",
       "\\end{array}\\right)$$"
      ],
      "text/plain": [
       "[0 1 0 0 0]\n",
       "[0 0 0 1 0]\n",
       "[0 0 0 0 0]\n",
       "[0 0 0 0 0]\n",
       "[0 0 0 0 0]"
      ]
     },
     "metadata": {},
     "output_type": "display_data"
    },
    {
     "data": {
      "text/html": [
       "<html><script type=\"math/tex; mode=display\">\\newcommand{\\Bold}[1]{\\mathbf{#1}}\\left[\\left\\{d_{1} : 0, d_{2} : 0, d_{3} : r_{458}, d_{4} : 0, d_{5} : r_{459}, a_{12} : r_{460}, a_{13} : r_{461}, a_{14} : r_{462}, a_{15} : r_{463}, a_{23} : 0, a_{24} : r_{464}, a_{25} : r_{465}, a_{34} : r_{466}, a_{35} : r_{467}, a_{45} : -\\frac{r_{459} x_{25}}{x_{24}}\\right\\}, \\left\\{d_{1} : r_{468}, d_{2} : \\frac{r_{468}}{x_{12}}, d_{3} : r_{469}, d_{4} : \\frac{r_{468}}{x_{12} x_{24}}, d_{5} : r_{470}, a_{12} : r_{471}, a_{13} : r_{472}, a_{14} : r_{473}, a_{15} : r_{474}, a_{23} : 0, a_{24} : \\frac{r_{471} x_{12} x_{24} - r_{468} x_{14}}{x_{12}^{2} x_{24}}, a_{25} : -\\frac{r_{470} x_{15} x_{24} - r_{470} x_{14} x_{25}}{x_{12} x_{24}}, a_{34} : r_{475}, a_{35} : r_{476}, a_{45} : -\\frac{r_{470} x_{25}}{x_{24}}\\right\\}\\right]</script></html>"
      ],
      "text/latex": [
       "$$\\newcommand{\\Bold}[1]{\\mathbf{#1}}\\left[\\left\\{d_{1} : 0, d_{2} : 0, d_{3} : r_{458}, d_{4} : 0, d_{5} : r_{459}, a_{12} : r_{460}, a_{13} : r_{461}, a_{14} : r_{462}, a_{15} : r_{463}, a_{23} : 0, a_{24} : r_{464}, a_{25} : r_{465}, a_{34} : r_{466}, a_{35} : r_{467}, a_{45} : -\\frac{r_{459} x_{25}}{x_{24}}\\right\\}, \\left\\{d_{1} : r_{468}, d_{2} : \\frac{r_{468}}{x_{12}}, d_{3} : r_{469}, d_{4} : \\frac{r_{468}}{x_{12} x_{24}}, d_{5} : r_{470}, a_{12} : r_{471}, a_{13} : r_{472}, a_{14} : r_{473}, a_{15} : r_{474}, a_{23} : 0, a_{24} : \\frac{r_{471} x_{12} x_{24} - r_{468} x_{14}}{x_{12}^{2} x_{24}}, a_{25} : -\\frac{r_{470} x_{15} x_{24} - r_{470} x_{14} x_{25}}{x_{12} x_{24}}, a_{34} : r_{475}, a_{35} : r_{476}, a_{45} : -\\frac{r_{470} x_{25}}{x_{24}}\\right\\}\\right]$$"
      ],
      "text/plain": [
       "[{d1: 0,\n",
       "  d2: 0,\n",
       "  d3: r458,\n",
       "  d4: 0,\n",
       "  d5: r459,\n",
       "  a12: r460,\n",
       "  a13: r461,\n",
       "  a14: r462,\n",
       "  a15: r463,\n",
       "  a23: 0,\n",
       "  a24: r464,\n",
       "  a25: r465,\n",
       "  a34: r466,\n",
       "  a35: r467,\n",
       "  a45: -r459*x25/x24},\n",
       " {d1: r468,\n",
       "  d2: r468/x12,\n",
       "  d3: r469,\n",
       "  d4: r468/(x12*x24),\n",
       "  d5: r470,\n",
       "  a12: r471,\n",
       "  a13: r472,\n",
       "  a14: r473,\n",
       "  a15: r474,\n",
       "  a23: 0,\n",
       "  a24: (r471*x12*x24 - r468*x14)/(x12^2*x24),\n",
       "  a25: -(r470*x15*x24 - r470*x14*x25)/(x12*x24),\n",
       "  a34: r475,\n",
       "  a35: r476,\n",
       "  a45: -r470*x25/x24}]"
      ]
     },
     "metadata": {},
     "output_type": "display_data"
    },
    {
     "data": {
      "text/plain": [
       "\\left[\\left\\{d_{1} : 0, d_{2} : 0, d_{3} : r_{458}, d_{4} : 0, d_{5} : r_{459}, a_{12} : r_{460}, a_{13} : r_{461}, a_{14} : r_{462}, a_{15} : r_{463}, a_{23} : 0, a_{24} : r_{464}, a_{25} : r_{465}, a_{34} : r_{466}, a_{35} : r_{467}, a_{45} : -\\frac{r_{459} x_{25}}{x_{24}}\\right\\}, \\left\\{d_{1} : r_{468}, d_{2} : \\frac{r_{468}}{x_{12}}, d_{3} : r_{469}, d_{4} : \\frac{r_{468}}{x_{12} x_{24}}, d_{5} : r_{470}, a_{12} : r_{471}, a_{13} : r_{472}, a_{14} : r_{473}, a_{15} : r_{474}, a_{23} : 0, a_{24} : \\frac{r_{471} x_{12} x_{24} - r_{468} x_{14}}{x_{12}^{2} x_{24}}, a_{25} : -\\frac{r_{470} x_{15} x_{24} - r_{470} x_{14} x_{25}}{x_{12} x_{24}}, a_{34} : r_{475}, a_{35} : r_{476}, a_{45} : -\\frac{r_{470} x_{25}}{x_{24}}\\right\\}\\right]"
      ]
     },
     "execution_count": 28,
     "metadata": {},
     "output_type": "execute_result"
    }
   ],
   "source": [
    "#x2\n",
    "reset()\n",
    "\n",
    "var('x12,x13,x14,x15,x23,x24,x25,x34,x35,x45')\n",
    "var('d1,d2,d3,d4,d5')\n",
    "var('a12,a13,a14,a15,a23,a24,a25,a34,a35,a45')\n",
    "\n",
    "load_attach_path('C:\\\\Users\\\\julia\\\\Documents\\\\unb\\\\doutorado\\\\pensar\\\\codigo_sage_v2\\\\maquina\\\\x2')\n",
    "load('out_#011011.sage')\n",
    "\n",
    "m=matrix(QQ, [[0, 1, 0, 0, 0],\n",
    "              [0, 0, 0, 1, 0],\n",
    "              [0, 0, 0, 0, 0],\n",
    "              [0, 0, 0, 0, 0],\n",
    "              [0, 0, 0, 0, 0]])\n",
    "        \n",
    "#entry of matrix: (i,j) line i collum j, means (i-1,j-1)\n",
    "sol=solve([ eq1==m[0,1],\teq2==m[0,2],\teq3==m[0,3],\teq4==m[0,4],\t\n",
    "                                            eq5==m[1,3],    eq6==m[1,4],\n",
    "                                                            eq7==m[2,4]],d1,d2,d3,d4,d5,a12,a13,a14,a15,a23,a24,a25,a34,a35,a45, solution_dict=True)\n",
    "\n",
    "show(m)\n",
    "show(sol)\n",
    "latex(sol)"
   ]
  },
  {
   "cell_type": "code",
   "execution_count": 29,
   "metadata": {},
   "outputs": [
    {
     "data": {
      "text/html": [
       "<html><script type=\"math/tex; mode=display\">\\newcommand{\\Bold}[1]{\\mathbf{#1}}\\left(\\begin{array}{rrrrr}\n",
       "0 & 1 & 0 & 0 & 0 \\\\\n",
       "0 & 0 & 0 & 1 & 0 \\\\\n",
       "0 & 0 & 0 & 0 & 0 \\\\\n",
       "0 & 0 & 0 & 0 & 0 \\\\\n",
       "0 & 0 & 0 & 0 & 0\n",
       "\\end{array}\\right)</script></html>"
      ],
      "text/latex": [
       "$$\\newcommand{\\Bold}[1]{\\mathbf{#1}}\\left(\\begin{array}{rrrrr}\n",
       "0 & 1 & 0 & 0 & 0 \\\\\n",
       "0 & 0 & 0 & 1 & 0 \\\\\n",
       "0 & 0 & 0 & 0 & 0 \\\\\n",
       "0 & 0 & 0 & 0 & 0 \\\\\n",
       "0 & 0 & 0 & 0 & 0\n",
       "\\end{array}\\right)$$"
      ],
      "text/plain": [
       "[0 1 0 0 0]\n",
       "[0 0 0 1 0]\n",
       "[0 0 0 0 0]\n",
       "[0 0 0 0 0]\n",
       "[0 0 0 0 0]"
      ]
     },
     "metadata": {},
     "output_type": "display_data"
    },
    {
     "data": {
      "text/html": [
       "<html><script type=\"math/tex; mode=display\">\\newcommand{\\Bold}[1]{\\mathbf{#1}}\\left[\\left\\{d_{1} : 0, d_{2} : 0, d_{3} : r_{477}, d_{4} : 0, d_{5} : r_{478}, a_{12} : r_{479}, a_{13} : r_{480}, a_{14} : r_{481}, a_{15} : r_{482}, a_{23} : -\\frac{r_{477} x_{13}}{x_{12}}, a_{24} : r_{483}, a_{25} : r_{484}, a_{34} : r_{485}, a_{35} : r_{486}, a_{45} : -\\frac{r_{478} x_{25}}{x_{24}}\\right\\}, \\left\\{d_{1} : r_{487}, d_{2} : \\frac{r_{487}}{x_{12}}, d_{3} : r_{488}, d_{4} : \\frac{r_{487}}{x_{12} x_{24}}, d_{5} : r_{489}, a_{12} : r_{490}, a_{13} : r_{491}, a_{14} : r_{492}, a_{15} : r_{493}, a_{23} : -\\frac{r_{488} x_{13}}{x_{12}}, a_{24} : r_{494}, a_{25} : r_{495}, a_{34} : -\\frac{r_{494} x_{12} - r_{490}}{x_{13}}, a_{35} : -\\frac{r_{495} x_{12}}{x_{13}}, a_{45} : -\\frac{r_{489} x_{25}}{x_{24}}\\right\\}\\right]</script></html>"
      ],
      "text/latex": [
       "$$\\newcommand{\\Bold}[1]{\\mathbf{#1}}\\left[\\left\\{d_{1} : 0, d_{2} : 0, d_{3} : r_{477}, d_{4} : 0, d_{5} : r_{478}, a_{12} : r_{479}, a_{13} : r_{480}, a_{14} : r_{481}, a_{15} : r_{482}, a_{23} : -\\frac{r_{477} x_{13}}{x_{12}}, a_{24} : r_{483}, a_{25} : r_{484}, a_{34} : r_{485}, a_{35} : r_{486}, a_{45} : -\\frac{r_{478} x_{25}}{x_{24}}\\right\\}, \\left\\{d_{1} : r_{487}, d_{2} : \\frac{r_{487}}{x_{12}}, d_{3} : r_{488}, d_{4} : \\frac{r_{487}}{x_{12} x_{24}}, d_{5} : r_{489}, a_{12} : r_{490}, a_{13} : r_{491}, a_{14} : r_{492}, a_{15} : r_{493}, a_{23} : -\\frac{r_{488} x_{13}}{x_{12}}, a_{24} : r_{494}, a_{25} : r_{495}, a_{34} : -\\frac{r_{494} x_{12} - r_{490}}{x_{13}}, a_{35} : -\\frac{r_{495} x_{12}}{x_{13}}, a_{45} : -\\frac{r_{489} x_{25}}{x_{24}}\\right\\}\\right]$$"
      ],
      "text/plain": [
       "[{d1: 0,\n",
       "  d2: 0,\n",
       "  d3: r477,\n",
       "  d4: 0,\n",
       "  d5: r478,\n",
       "  a12: r479,\n",
       "  a13: r480,\n",
       "  a14: r481,\n",
       "  a15: r482,\n",
       "  a23: -r477*x13/x12,\n",
       "  a24: r483,\n",
       "  a25: r484,\n",
       "  a34: r485,\n",
       "  a35: r486,\n",
       "  a45: -r478*x25/x24},\n",
       " {d1: r487,\n",
       "  d2: r487/x12,\n",
       "  d3: r488,\n",
       "  d4: r487/(x12*x24),\n",
       "  d5: r489,\n",
       "  a12: r490,\n",
       "  a13: r491,\n",
       "  a14: r492,\n",
       "  a15: r493,\n",
       "  a23: -r488*x13/x12,\n",
       "  a24: r494,\n",
       "  a25: r495,\n",
       "  a34: -(r494*x12 - r490)/x13,\n",
       "  a35: -r495*x12/x13,\n",
       "  a45: -r489*x25/x24}]"
      ]
     },
     "metadata": {},
     "output_type": "display_data"
    },
    {
     "data": {
      "text/plain": [
       "\\left[\\left\\{d_{1} : 0, d_{2} : 0, d_{3} : r_{477}, d_{4} : 0, d_{5} : r_{478}, a_{12} : r_{479}, a_{13} : r_{480}, a_{14} : r_{481}, a_{15} : r_{482}, a_{23} : -\\frac{r_{477} x_{13}}{x_{12}}, a_{24} : r_{483}, a_{25} : r_{484}, a_{34} : r_{485}, a_{35} : r_{486}, a_{45} : -\\frac{r_{478} x_{25}}{x_{24}}\\right\\}, \\left\\{d_{1} : r_{487}, d_{2} : \\frac{r_{487}}{x_{12}}, d_{3} : r_{488}, d_{4} : \\frac{r_{487}}{x_{12} x_{24}}, d_{5} : r_{489}, a_{12} : r_{490}, a_{13} : r_{491}, a_{14} : r_{492}, a_{15} : r_{493}, a_{23} : -\\frac{r_{488} x_{13}}{x_{12}}, a_{24} : r_{494}, a_{25} : r_{495}, a_{34} : -\\frac{r_{494} x_{12} - r_{490}}{x_{13}}, a_{35} : -\\frac{r_{495} x_{12}}{x_{13}}, a_{45} : -\\frac{r_{489} x_{25}}{x_{24}}\\right\\}\\right]"
      ]
     },
     "execution_count": 29,
     "metadata": {},
     "output_type": "execute_result"
    }
   ],
   "source": [
    "#x2\n",
    "reset()\n",
    "\n",
    "var('x12,x13,x14,x15,x23,x24,x25,x34,x35,x45')\n",
    "var('d1,d2,d3,d4,d5')\n",
    "var('a12,a13,a14,a15,a23,a24,a25,a34,a35,a45')\n",
    "\n",
    "load_attach_path('C:\\\\Users\\\\julia\\\\Documents\\\\unb\\\\doutorado\\\\pensar\\\\codigo_sage_v2\\\\maquina\\\\x2')\n",
    "load('out_#011100.sage')\n",
    "\n",
    "m=matrix(QQ, [[0, 1, 0, 0, 0],\n",
    "              [0, 0, 0, 1, 0],\n",
    "              [0, 0, 0, 0, 0],\n",
    "              [0, 0, 0, 0, 0],\n",
    "              [0, 0, 0, 0, 0]])\n",
    "        \n",
    "#entry of matrix: (i,j) line i collum j, means (i-1,j-1)\n",
    "sol=solve([ eq1==m[0,1],\teq2==m[0,2],\teq3==m[0,3],\teq4==m[0,4],\t\n",
    "                                            eq5==m[1,3],    eq6==m[1,4],\n",
    "                                                            eq7==m[2,4]],d1,d2,d3,d4,d5,a12,a13,a14,a15,a23,a24,a25,a34,a35,a45, solution_dict=True)\n",
    "\n",
    "show(m)\n",
    "show(sol)\n",
    "latex(sol)"
   ]
  },
  {
   "cell_type": "code",
   "execution_count": 30,
   "metadata": {},
   "outputs": [
    {
     "data": {
      "text/html": [
       "<html><script type=\"math/tex; mode=display\">\\newcommand{\\Bold}[1]{\\mathbf{#1}}\\left(\\begin{array}{rrrrr}\n",
       "0 & 1 & 0 & 0 & 0 \\\\\n",
       "0 & 0 & 0 & 1 & 0 \\\\\n",
       "0 & 0 & 0 & 0 & 0 \\\\\n",
       "0 & 0 & 0 & 0 & 0 \\\\\n",
       "0 & 0 & 0 & 0 & 0\n",
       "\\end{array}\\right)</script></html>"
      ],
      "text/latex": [
       "$$\\newcommand{\\Bold}[1]{\\mathbf{#1}}\\left(\\begin{array}{rrrrr}\n",
       "0 & 1 & 0 & 0 & 0 \\\\\n",
       "0 & 0 & 0 & 1 & 0 \\\\\n",
       "0 & 0 & 0 & 0 & 0 \\\\\n",
       "0 & 0 & 0 & 0 & 0 \\\\\n",
       "0 & 0 & 0 & 0 & 0\n",
       "\\end{array}\\right)$$"
      ],
      "text/plain": [
       "[0 1 0 0 0]\n",
       "[0 0 0 1 0]\n",
       "[0 0 0 0 0]\n",
       "[0 0 0 0 0]\n",
       "[0 0 0 0 0]"
      ]
     },
     "metadata": {},
     "output_type": "display_data"
    },
    {
     "data": {
      "text/html": [
       "<html><script type=\"math/tex; mode=display\">\\newcommand{\\Bold}[1]{\\mathbf{#1}}\\left[\\left\\{d_{1} : 0, d_{2} : 0, d_{3} : r_{496}, d_{4} : 0, d_{5} : r_{497}, a_{12} : r_{498}, a_{13} : r_{499}, a_{14} : r_{500}, a_{15} : r_{501}, a_{23} : -\\frac{r_{496} x_{13}}{x_{12}}, a_{24} : r_{502}, a_{25} : r_{503}, a_{34} : r_{504}, a_{35} : r_{505}, a_{45} : -\\frac{r_{497} x_{25}}{x_{24}}\\right\\}, \\left\\{d_{1} : r_{506}, d_{2} : \\frac{r_{506}}{x_{12}}, d_{3} : r_{507}, d_{4} : \\frac{r_{506}}{x_{12} x_{24}}, d_{5} : r_{508}, a_{12} : r_{509}, a_{13} : r_{510}, a_{14} : r_{511}, a_{15} : r_{512}, a_{23} : -\\frac{r_{507} x_{13}}{x_{12}}, a_{24} : r_{513}, a_{25} : r_{514}, a_{34} : -\\frac{r_{513} x_{12} - r_{509}}{x_{13}}, a_{35} : -\\frac{r_{514} x_{12} + r_{508} x_{15}}{x_{13}}, a_{45} : -\\frac{r_{508} x_{25}}{x_{24}}\\right\\}\\right]</script></html>"
      ],
      "text/latex": [
       "$$\\newcommand{\\Bold}[1]{\\mathbf{#1}}\\left[\\left\\{d_{1} : 0, d_{2} : 0, d_{3} : r_{496}, d_{4} : 0, d_{5} : r_{497}, a_{12} : r_{498}, a_{13} : r_{499}, a_{14} : r_{500}, a_{15} : r_{501}, a_{23} : -\\frac{r_{496} x_{13}}{x_{12}}, a_{24} : r_{502}, a_{25} : r_{503}, a_{34} : r_{504}, a_{35} : r_{505}, a_{45} : -\\frac{r_{497} x_{25}}{x_{24}}\\right\\}, \\left\\{d_{1} : r_{506}, d_{2} : \\frac{r_{506}}{x_{12}}, d_{3} : r_{507}, d_{4} : \\frac{r_{506}}{x_{12} x_{24}}, d_{5} : r_{508}, a_{12} : r_{509}, a_{13} : r_{510}, a_{14} : r_{511}, a_{15} : r_{512}, a_{23} : -\\frac{r_{507} x_{13}}{x_{12}}, a_{24} : r_{513}, a_{25} : r_{514}, a_{34} : -\\frac{r_{513} x_{12} - r_{509}}{x_{13}}, a_{35} : -\\frac{r_{514} x_{12} + r_{508} x_{15}}{x_{13}}, a_{45} : -\\frac{r_{508} x_{25}}{x_{24}}\\right\\}\\right]$$"
      ],
      "text/plain": [
       "[{d1: 0,\n",
       "  d2: 0,\n",
       "  d3: r496,\n",
       "  d4: 0,\n",
       "  d5: r497,\n",
       "  a12: r498,\n",
       "  a13: r499,\n",
       "  a14: r500,\n",
       "  a15: r501,\n",
       "  a23: -r496*x13/x12,\n",
       "  a24: r502,\n",
       "  a25: r503,\n",
       "  a34: r504,\n",
       "  a35: r505,\n",
       "  a45: -r497*x25/x24},\n",
       " {d1: r506,\n",
       "  d2: r506/x12,\n",
       "  d3: r507,\n",
       "  d4: r506/(x12*x24),\n",
       "  d5: r508,\n",
       "  a12: r509,\n",
       "  a13: r510,\n",
       "  a14: r511,\n",
       "  a15: r512,\n",
       "  a23: -r507*x13/x12,\n",
       "  a24: r513,\n",
       "  a25: r514,\n",
       "  a34: -(r513*x12 - r509)/x13,\n",
       "  a35: -(r514*x12 + r508*x15)/x13,\n",
       "  a45: -r508*x25/x24}]"
      ]
     },
     "metadata": {},
     "output_type": "display_data"
    },
    {
     "data": {
      "text/plain": [
       "\\left[\\left\\{d_{1} : 0, d_{2} : 0, d_{3} : r_{496}, d_{4} : 0, d_{5} : r_{497}, a_{12} : r_{498}, a_{13} : r_{499}, a_{14} : r_{500}, a_{15} : r_{501}, a_{23} : -\\frac{r_{496} x_{13}}{x_{12}}, a_{24} : r_{502}, a_{25} : r_{503}, a_{34} : r_{504}, a_{35} : r_{505}, a_{45} : -\\frac{r_{497} x_{25}}{x_{24}}\\right\\}, \\left\\{d_{1} : r_{506}, d_{2} : \\frac{r_{506}}{x_{12}}, d_{3} : r_{507}, d_{4} : \\frac{r_{506}}{x_{12} x_{24}}, d_{5} : r_{508}, a_{12} : r_{509}, a_{13} : r_{510}, a_{14} : r_{511}, a_{15} : r_{512}, a_{23} : -\\frac{r_{507} x_{13}}{x_{12}}, a_{24} : r_{513}, a_{25} : r_{514}, a_{34} : -\\frac{r_{513} x_{12} - r_{509}}{x_{13}}, a_{35} : -\\frac{r_{514} x_{12} + r_{508} x_{15}}{x_{13}}, a_{45} : -\\frac{r_{508} x_{25}}{x_{24}}\\right\\}\\right]"
      ]
     },
     "execution_count": 30,
     "metadata": {},
     "output_type": "execute_result"
    }
   ],
   "source": [
    "#x2\n",
    "reset()\n",
    "\n",
    "var('x12,x13,x14,x15,x23,x24,x25,x34,x35,x45')\n",
    "var('d1,d2,d3,d4,d5')\n",
    "var('a12,a13,a14,a15,a23,a24,a25,a34,a35,a45')\n",
    "\n",
    "load_attach_path('C:\\\\Users\\\\julia\\\\Documents\\\\unb\\\\doutorado\\\\pensar\\\\codigo_sage_v2\\\\maquina\\\\x2')\n",
    "load('out_#011101.sage')\n",
    "\n",
    "m=matrix(QQ, [[0, 1, 0, 0, 0],\n",
    "              [0, 0, 0, 1, 0],\n",
    "              [0, 0, 0, 0, 0],\n",
    "              [0, 0, 0, 0, 0],\n",
    "              [0, 0, 0, 0, 0]])\n",
    "        \n",
    "#entry of matrix: (i,j) line i collum j, means (i-1,j-1)\n",
    "sol=solve([ eq1==m[0,1],\teq2==m[0,2],\teq3==m[0,3],\teq4==m[0,4],\t\n",
    "                                            eq5==m[1,3],    eq6==m[1,4],\n",
    "                                                            eq7==m[2,4]],d1,d2,d3,d4,d5,a12,a13,a14,a15,a23,a24,a25,a34,a35,a45, solution_dict=True)\n",
    "\n",
    "show(m)\n",
    "show(sol)\n",
    "latex(sol)"
   ]
  },
  {
   "cell_type": "code",
   "execution_count": 31,
   "metadata": {},
   "outputs": [
    {
     "data": {
      "text/html": [
       "<html><script type=\"math/tex; mode=display\">\\newcommand{\\Bold}[1]{\\mathbf{#1}}\\left(\\begin{array}{rrrrr}\n",
       "0 & 1 & 0 & 0 & 0 \\\\\n",
       "0 & 0 & 0 & 1 & 0 \\\\\n",
       "0 & 0 & 0 & 0 & 0 \\\\\n",
       "0 & 0 & 0 & 0 & 0 \\\\\n",
       "0 & 0 & 0 & 0 & 0\n",
       "\\end{array}\\right)</script></html>"
      ],
      "text/latex": [
       "$$\\newcommand{\\Bold}[1]{\\mathbf{#1}}\\left(\\begin{array}{rrrrr}\n",
       "0 & 1 & 0 & 0 & 0 \\\\\n",
       "0 & 0 & 0 & 1 & 0 \\\\\n",
       "0 & 0 & 0 & 0 & 0 \\\\\n",
       "0 & 0 & 0 & 0 & 0 \\\\\n",
       "0 & 0 & 0 & 0 & 0\n",
       "\\end{array}\\right)$$"
      ],
      "text/plain": [
       "[0 1 0 0 0]\n",
       "[0 0 0 1 0]\n",
       "[0 0 0 0 0]\n",
       "[0 0 0 0 0]\n",
       "[0 0 0 0 0]"
      ]
     },
     "metadata": {},
     "output_type": "display_data"
    },
    {
     "data": {
      "text/html": [
       "<html><script type=\"math/tex; mode=display\">\\newcommand{\\Bold}[1]{\\mathbf{#1}}\\left[\\left\\{d_{1} : 0, d_{2} : 0, d_{3} : r_{515}, d_{4} : 0, d_{5} : r_{516}, a_{12} : r_{517}, a_{13} : r_{518}, a_{14} : r_{519}, a_{15} : r_{520}, a_{23} : -\\frac{r_{515} x_{13}}{x_{12}}, a_{24} : r_{521}, a_{25} : r_{522}, a_{34} : r_{523}, a_{35} : r_{524}, a_{45} : -\\frac{r_{516} x_{25}}{x_{24}}\\right\\}, \\left\\{d_{1} : r_{525}, d_{2} : \\frac{r_{525}}{x_{12}}, d_{3} : r_{526}, d_{4} : \\frac{r_{525}}{x_{12} x_{24}}, d_{5} : r_{527}, a_{12} : r_{528}, a_{13} : r_{529}, a_{14} : r_{530}, a_{15} : r_{531}, a_{23} : -\\frac{r_{526} x_{13}}{x_{12}}, a_{24} : r_{532}, a_{25} : r_{533}, a_{34} : -\\frac{r_{525} x_{14} + {\\left(r_{532} x_{12}^{2} - r_{528} x_{12}\\right)} x_{24}}{x_{12} x_{13} x_{24}}, a_{35} : -\\frac{r_{533} x_{12} x_{24} - r_{527} x_{14} x_{25}}{x_{13} x_{24}}, a_{45} : -\\frac{r_{527} x_{25}}{x_{24}}\\right\\}\\right]</script></html>"
      ],
      "text/latex": [
       "$$\\newcommand{\\Bold}[1]{\\mathbf{#1}}\\left[\\left\\{d_{1} : 0, d_{2} : 0, d_{3} : r_{515}, d_{4} : 0, d_{5} : r_{516}, a_{12} : r_{517}, a_{13} : r_{518}, a_{14} : r_{519}, a_{15} : r_{520}, a_{23} : -\\frac{r_{515} x_{13}}{x_{12}}, a_{24} : r_{521}, a_{25} : r_{522}, a_{34} : r_{523}, a_{35} : r_{524}, a_{45} : -\\frac{r_{516} x_{25}}{x_{24}}\\right\\}, \\left\\{d_{1} : r_{525}, d_{2} : \\frac{r_{525}}{x_{12}}, d_{3} : r_{526}, d_{4} : \\frac{r_{525}}{x_{12} x_{24}}, d_{5} : r_{527}, a_{12} : r_{528}, a_{13} : r_{529}, a_{14} : r_{530}, a_{15} : r_{531}, a_{23} : -\\frac{r_{526} x_{13}}{x_{12}}, a_{24} : r_{532}, a_{25} : r_{533}, a_{34} : -\\frac{r_{525} x_{14} + {\\left(r_{532} x_{12}^{2} - r_{528} x_{12}\\right)} x_{24}}{x_{12} x_{13} x_{24}}, a_{35} : -\\frac{r_{533} x_{12} x_{24} - r_{527} x_{14} x_{25}}{x_{13} x_{24}}, a_{45} : -\\frac{r_{527} x_{25}}{x_{24}}\\right\\}\\right]$$"
      ],
      "text/plain": [
       "[{d1: 0,\n",
       "  d2: 0,\n",
       "  d3: r515,\n",
       "  d4: 0,\n",
       "  d5: r516,\n",
       "  a12: r517,\n",
       "  a13: r518,\n",
       "  a14: r519,\n",
       "  a15: r520,\n",
       "  a23: -r515*x13/x12,\n",
       "  a24: r521,\n",
       "  a25: r522,\n",
       "  a34: r523,\n",
       "  a35: r524,\n",
       "  a45: -r516*x25/x24},\n",
       " {d1: r525,\n",
       "  d2: r525/x12,\n",
       "  d3: r526,\n",
       "  d4: r525/(x12*x24),\n",
       "  d5: r527,\n",
       "  a12: r528,\n",
       "  a13: r529,\n",
       "  a14: r530,\n",
       "  a15: r531,\n",
       "  a23: -r526*x13/x12,\n",
       "  a24: r532,\n",
       "  a25: r533,\n",
       "  a34: -(r525*x14 + (r532*x12^2 - r528*x12)*x24)/(x12*x13*x24),\n",
       "  a35: -(r533*x12*x24 - r527*x14*x25)/(x13*x24),\n",
       "  a45: -r527*x25/x24}]"
      ]
     },
     "metadata": {},
     "output_type": "display_data"
    },
    {
     "data": {
      "text/plain": [
       "\\left[\\left\\{d_{1} : 0, d_{2} : 0, d_{3} : r_{515}, d_{4} : 0, d_{5} : r_{516}, a_{12} : r_{517}, a_{13} : r_{518}, a_{14} : r_{519}, a_{15} : r_{520}, a_{23} : -\\frac{r_{515} x_{13}}{x_{12}}, a_{24} : r_{521}, a_{25} : r_{522}, a_{34} : r_{523}, a_{35} : r_{524}, a_{45} : -\\frac{r_{516} x_{25}}{x_{24}}\\right\\}, \\left\\{d_{1} : r_{525}, d_{2} : \\frac{r_{525}}{x_{12}}, d_{3} : r_{526}, d_{4} : \\frac{r_{525}}{x_{12} x_{24}}, d_{5} : r_{527}, a_{12} : r_{528}, a_{13} : r_{529}, a_{14} : r_{530}, a_{15} : r_{531}, a_{23} : -\\frac{r_{526} x_{13}}{x_{12}}, a_{24} : r_{532}, a_{25} : r_{533}, a_{34} : -\\frac{r_{525} x_{14} + {\\left(r_{532} x_{12}^{2} - r_{528} x_{12}\\right)} x_{24}}{x_{12} x_{13} x_{24}}, a_{35} : -\\frac{r_{533} x_{12} x_{24} - r_{527} x_{14} x_{25}}{x_{13} x_{24}}, a_{45} : -\\frac{r_{527} x_{25}}{x_{24}}\\right\\}\\right]"
      ]
     },
     "execution_count": 31,
     "metadata": {},
     "output_type": "execute_result"
    }
   ],
   "source": [
    "#x2\n",
    "reset()\n",
    "\n",
    "var('x12,x13,x14,x15,x23,x24,x25,x34,x35,x45')\n",
    "var('d1,d2,d3,d4,d5')\n",
    "var('a12,a13,a14,a15,a23,a24,a25,a34,a35,a45')\n",
    "\n",
    "load_attach_path('C:\\\\Users\\\\julia\\\\Documents\\\\unb\\\\doutorado\\\\pensar\\\\codigo_sage_v2\\\\maquina\\\\x2')\n",
    "load('out_#011110.sage')\n",
    "\n",
    "m=matrix(QQ, [[0, 1, 0, 0, 0],\n",
    "              [0, 0, 0, 1, 0],\n",
    "              [0, 0, 0, 0, 0],\n",
    "              [0, 0, 0, 0, 0],\n",
    "              [0, 0, 0, 0, 0]])\n",
    "        \n",
    "#entry of matrix: (i,j) line i collum j, means (i-1,j-1)\n",
    "sol=solve([ eq1==m[0,1],\teq2==m[0,2],\teq3==m[0,3],\teq4==m[0,4],\t\n",
    "                                            eq5==m[1,3],    eq6==m[1,4],\n",
    "                                                            eq7==m[2,4]],d1,d2,d3,d4,d5,a12,a13,a14,a15,a23,a24,a25,a34,a35,a45, solution_dict=True)\n",
    "\n",
    "show(m)\n",
    "show(sol)\n",
    "latex(sol)"
   ]
  },
  {
   "cell_type": "code",
   "execution_count": 32,
   "metadata": {},
   "outputs": [
    {
     "data": {
      "text/html": [
       "<html><script type=\"math/tex; mode=display\">\\newcommand{\\Bold}[1]{\\mathbf{#1}}\\left(\\begin{array}{rrrrr}\n",
       "0 & 1 & 0 & 0 & 0 \\\\\n",
       "0 & 0 & 0 & 1 & 0 \\\\\n",
       "0 & 0 & 0 & 0 & 0 \\\\\n",
       "0 & 0 & 0 & 0 & 0 \\\\\n",
       "0 & 0 & 0 & 0 & 0\n",
       "\\end{array}\\right)</script></html>"
      ],
      "text/latex": [
       "$$\\newcommand{\\Bold}[1]{\\mathbf{#1}}\\left(\\begin{array}{rrrrr}\n",
       "0 & 1 & 0 & 0 & 0 \\\\\n",
       "0 & 0 & 0 & 1 & 0 \\\\\n",
       "0 & 0 & 0 & 0 & 0 \\\\\n",
       "0 & 0 & 0 & 0 & 0 \\\\\n",
       "0 & 0 & 0 & 0 & 0\n",
       "\\end{array}\\right)$$"
      ],
      "text/plain": [
       "[0 1 0 0 0]\n",
       "[0 0 0 1 0]\n",
       "[0 0 0 0 0]\n",
       "[0 0 0 0 0]\n",
       "[0 0 0 0 0]"
      ]
     },
     "metadata": {},
     "output_type": "display_data"
    },
    {
     "data": {
      "text/html": [
       "<html><script type=\"math/tex; mode=display\">\\newcommand{\\Bold}[1]{\\mathbf{#1}}\\left[\\left\\{d_{1} : 0, d_{2} : 0, d_{3} : r_{534}, d_{4} : 0, d_{5} : r_{535}, a_{12} : r_{536}, a_{13} : r_{537}, a_{14} : r_{538}, a_{15} : r_{539}, a_{23} : -\\frac{r_{534} x_{13}}{x_{12}}, a_{24} : r_{540}, a_{25} : r_{541}, a_{34} : r_{542}, a_{35} : r_{543}, a_{45} : -\\frac{r_{535} x_{25}}{x_{24}}\\right\\}, \\left\\{d_{1} : r_{544}, d_{2} : \\frac{r_{544}}{x_{12}}, d_{3} : r_{545}, d_{4} : \\frac{r_{544}}{x_{12} x_{24}}, d_{5} : r_{546}, a_{12} : r_{547}, a_{13} : r_{548}, a_{14} : r_{549}, a_{15} : r_{550}, a_{23} : -\\frac{r_{545} x_{13}}{x_{12}}, a_{24} : r_{551}, a_{25} : r_{552}, a_{34} : -\\frac{r_{544} x_{14} + {\\left(r_{551} x_{12}^{2} - r_{547} x_{12}\\right)} x_{24}}{x_{12} x_{13} x_{24}}, a_{35} : \\frac{r_{546} x_{14} x_{25} - {\\left(r_{552} x_{12} + r_{546} x_{15}\\right)} x_{24}}{x_{13} x_{24}}, a_{45} : -\\frac{r_{546} x_{25}}{x_{24}}\\right\\}\\right]</script></html>"
      ],
      "text/latex": [
       "$$\\newcommand{\\Bold}[1]{\\mathbf{#1}}\\left[\\left\\{d_{1} : 0, d_{2} : 0, d_{3} : r_{534}, d_{4} : 0, d_{5} : r_{535}, a_{12} : r_{536}, a_{13} : r_{537}, a_{14} : r_{538}, a_{15} : r_{539}, a_{23} : -\\frac{r_{534} x_{13}}{x_{12}}, a_{24} : r_{540}, a_{25} : r_{541}, a_{34} : r_{542}, a_{35} : r_{543}, a_{45} : -\\frac{r_{535} x_{25}}{x_{24}}\\right\\}, \\left\\{d_{1} : r_{544}, d_{2} : \\frac{r_{544}}{x_{12}}, d_{3} : r_{545}, d_{4} : \\frac{r_{544}}{x_{12} x_{24}}, d_{5} : r_{546}, a_{12} : r_{547}, a_{13} : r_{548}, a_{14} : r_{549}, a_{15} : r_{550}, a_{23} : -\\frac{r_{545} x_{13}}{x_{12}}, a_{24} : r_{551}, a_{25} : r_{552}, a_{34} : -\\frac{r_{544} x_{14} + {\\left(r_{551} x_{12}^{2} - r_{547} x_{12}\\right)} x_{24}}{x_{12} x_{13} x_{24}}, a_{35} : \\frac{r_{546} x_{14} x_{25} - {\\left(r_{552} x_{12} + r_{546} x_{15}\\right)} x_{24}}{x_{13} x_{24}}, a_{45} : -\\frac{r_{546} x_{25}}{x_{24}}\\right\\}\\right]$$"
      ],
      "text/plain": [
       "[{d1: 0,\n",
       "  d2: 0,\n",
       "  d3: r534,\n",
       "  d4: 0,\n",
       "  d5: r535,\n",
       "  a12: r536,\n",
       "  a13: r537,\n",
       "  a14: r538,\n",
       "  a15: r539,\n",
       "  a23: -r534*x13/x12,\n",
       "  a24: r540,\n",
       "  a25: r541,\n",
       "  a34: r542,\n",
       "  a35: r543,\n",
       "  a45: -r535*x25/x24},\n",
       " {d1: r544,\n",
       "  d2: r544/x12,\n",
       "  d3: r545,\n",
       "  d4: r544/(x12*x24),\n",
       "  d5: r546,\n",
       "  a12: r547,\n",
       "  a13: r548,\n",
       "  a14: r549,\n",
       "  a15: r550,\n",
       "  a23: -r545*x13/x12,\n",
       "  a24: r551,\n",
       "  a25: r552,\n",
       "  a34: -(r544*x14 + (r551*x12^2 - r547*x12)*x24)/(x12*x13*x24),\n",
       "  a35: (r546*x14*x25 - (r552*x12 + r546*x15)*x24)/(x13*x24),\n",
       "  a45: -r546*x25/x24}]"
      ]
     },
     "metadata": {},
     "output_type": "display_data"
    },
    {
     "data": {
      "text/plain": [
       "\\left[\\left\\{d_{1} : 0, d_{2} : 0, d_{3} : r_{534}, d_{4} : 0, d_{5} : r_{535}, a_{12} : r_{536}, a_{13} : r_{537}, a_{14} : r_{538}, a_{15} : r_{539}, a_{23} : -\\frac{r_{534} x_{13}}{x_{12}}, a_{24} : r_{540}, a_{25} : r_{541}, a_{34} : r_{542}, a_{35} : r_{543}, a_{45} : -\\frac{r_{535} x_{25}}{x_{24}}\\right\\}, \\left\\{d_{1} : r_{544}, d_{2} : \\frac{r_{544}}{x_{12}}, d_{3} : r_{545}, d_{4} : \\frac{r_{544}}{x_{12} x_{24}}, d_{5} : r_{546}, a_{12} : r_{547}, a_{13} : r_{548}, a_{14} : r_{549}, a_{15} : r_{550}, a_{23} : -\\frac{r_{545} x_{13}}{x_{12}}, a_{24} : r_{551}, a_{25} : r_{552}, a_{34} : -\\frac{r_{544} x_{14} + {\\left(r_{551} x_{12}^{2} - r_{547} x_{12}\\right)} x_{24}}{x_{12} x_{13} x_{24}}, a_{35} : \\frac{r_{546} x_{14} x_{25} - {\\left(r_{552} x_{12} + r_{546} x_{15}\\right)} x_{24}}{x_{13} x_{24}}, a_{45} : -\\frac{r_{546} x_{25}}{x_{24}}\\right\\}\\right]"
      ]
     },
     "execution_count": 32,
     "metadata": {},
     "output_type": "execute_result"
    }
   ],
   "source": [
    "#x2\n",
    "reset()\n",
    "\n",
    "var('x12,x13,x14,x15,x23,x24,x25,x34,x35,x45')\n",
    "var('d1,d2,d3,d4,d5')\n",
    "var('a12,a13,a14,a15,a23,a24,a25,a34,a35,a45')\n",
    "\n",
    "load_attach_path('C:\\\\Users\\\\julia\\\\Documents\\\\unb\\\\doutorado\\\\pensar\\\\codigo_sage_v2\\\\maquina\\\\x2')\n",
    "load('out_#011111.sage')\n",
    "\n",
    "m=matrix(QQ, [[0, 1, 0, 0, 0],\n",
    "              [0, 0, 0, 1, 0],\n",
    "              [0, 0, 0, 0, 0],\n",
    "              [0, 0, 0, 0, 0],\n",
    "              [0, 0, 0, 0, 0]])\n",
    "        \n",
    "#entry of matrix: (i,j) line i collum j, means (i-1,j-1)\n",
    "sol=solve([ eq1==m[0,1],\teq2==m[0,2],\teq3==m[0,3],\teq4==m[0,4],\t\n",
    "                                            eq5==m[1,3],    eq6==m[1,4],\n",
    "                                                            eq7==m[2,4]],d1,d2,d3,d4,d5,a12,a13,a14,a15,a23,a24,a25,a34,a35,a45, solution_dict=True)\n",
    "\n",
    "show(m)\n",
    "show(sol)\n",
    "latex(sol)"
   ]
  },
  {
   "cell_type": "code",
   "execution_count": 33,
   "metadata": {},
   "outputs": [
    {
     "data": {
      "text/html": [
       "<html><script type=\"math/tex; mode=display\">\\newcommand{\\Bold}[1]{\\mathbf{#1}}\\left(\\begin{array}{rrrrr}\n",
       "0 & 1 & 0 & 0 & 0 \\\\\n",
       "0 & 0 & 0 & 0 & 0 \\\\\n",
       "0 & 0 & 0 & 0 & 1 \\\\\n",
       "0 & 0 & 0 & 0 & 0 \\\\\n",
       "0 & 0 & 0 & 0 & 0\n",
       "\\end{array}\\right)</script></html>"
      ],
      "text/latex": [
       "$$\\newcommand{\\Bold}[1]{\\mathbf{#1}}\\left(\\begin{array}{rrrrr}\n",
       "0 & 1 & 0 & 0 & 0 \\\\\n",
       "0 & 0 & 0 & 0 & 0 \\\\\n",
       "0 & 0 & 0 & 0 & 1 \\\\\n",
       "0 & 0 & 0 & 0 & 0 \\\\\n",
       "0 & 0 & 0 & 0 & 0\n",
       "\\end{array}\\right)$$"
      ],
      "text/plain": [
       "[0 1 0 0 0]\n",
       "[0 0 0 0 0]\n",
       "[0 0 0 0 1]\n",
       "[0 0 0 0 0]\n",
       "[0 0 0 0 0]"
      ]
     },
     "metadata": {},
     "output_type": "display_data"
    },
    {
     "data": {
      "text/html": [
       "<html><script type=\"math/tex; mode=display\">\\newcommand{\\Bold}[1]{\\mathbf{#1}}\\left[\\left\\{d_{1} : r_{553}, d_{2} : \\frac{r_{553}}{x_{12}}, d_{3} : 0, d_{4} : r_{554}, d_{5} : 0, a_{12} : r_{555}, a_{13} : r_{556}, a_{14} : r_{557}, a_{15} : r_{558}, a_{23} : 0, a_{24} : 0, a_{25} : r_{559}, a_{34} : r_{560}, a_{35} : r_{561}, a_{45} : r_{562}\\right\\}, \\left\\{d_{1} : 0, d_{2} : 0, d_{3} : r_{563}, d_{4} : r_{564}, d_{5} : \\frac{r_{563}}{x_{35}}, a_{12} : r_{565}, a_{13} : r_{566}, a_{14} : r_{567}, a_{15} : r_{568}, a_{23} : 0, a_{24} : 0, a_{25} : r_{569}, a_{34} : r_{570}, a_{35} : r_{571}, a_{45} : r_{572}\\right\\}, \\left\\{d_{1} : r_{573}, d_{2} : \\frac{r_{573}}{x_{12}}, d_{3} : r_{574}, d_{4} : r_{575}, d_{5} : \\frac{r_{574}}{x_{35}}, a_{12} : r_{576}, a_{13} : r_{577}, a_{14} : r_{578}, a_{15} : r_{579}, a_{23} : 0, a_{24} : 0, a_{25} : \\frac{r_{577}}{x_{12}}, a_{34} : r_{580}, a_{35} : r_{581}, a_{45} : r_{582}\\right\\}\\right]</script></html>"
      ],
      "text/latex": [
       "$$\\newcommand{\\Bold}[1]{\\mathbf{#1}}\\left[\\left\\{d_{1} : r_{553}, d_{2} : \\frac{r_{553}}{x_{12}}, d_{3} : 0, d_{4} : r_{554}, d_{5} : 0, a_{12} : r_{555}, a_{13} : r_{556}, a_{14} : r_{557}, a_{15} : r_{558}, a_{23} : 0, a_{24} : 0, a_{25} : r_{559}, a_{34} : r_{560}, a_{35} : r_{561}, a_{45} : r_{562}\\right\\}, \\left\\{d_{1} : 0, d_{2} : 0, d_{3} : r_{563}, d_{4} : r_{564}, d_{5} : \\frac{r_{563}}{x_{35}}, a_{12} : r_{565}, a_{13} : r_{566}, a_{14} : r_{567}, a_{15} : r_{568}, a_{23} : 0, a_{24} : 0, a_{25} : r_{569}, a_{34} : r_{570}, a_{35} : r_{571}, a_{45} : r_{572}\\right\\}, \\left\\{d_{1} : r_{573}, d_{2} : \\frac{r_{573}}{x_{12}}, d_{3} : r_{574}, d_{4} : r_{575}, d_{5} : \\frac{r_{574}}{x_{35}}, a_{12} : r_{576}, a_{13} : r_{577}, a_{14} : r_{578}, a_{15} : r_{579}, a_{23} : 0, a_{24} : 0, a_{25} : \\frac{r_{577}}{x_{12}}, a_{34} : r_{580}, a_{35} : r_{581}, a_{45} : r_{582}\\right\\}\\right]$$"
      ],
      "text/plain": [
       "[{d1: r553,\n",
       "  d2: r553/x12,\n",
       "  d3: 0,\n",
       "  d4: r554,\n",
       "  d5: 0,\n",
       "  a12: r555,\n",
       "  a13: r556,\n",
       "  a14: r557,\n",
       "  a15: r558,\n",
       "  a23: 0,\n",
       "  a24: 0,\n",
       "  a25: r559,\n",
       "  a34: r560,\n",
       "  a35: r561,\n",
       "  a45: r562},\n",
       " {d1: 0,\n",
       "  d2: 0,\n",
       "  d3: r563,\n",
       "  d4: r564,\n",
       "  d5: r563/x35,\n",
       "  a12: r565,\n",
       "  a13: r566,\n",
       "  a14: r567,\n",
       "  a15: r568,\n",
       "  a23: 0,\n",
       "  a24: 0,\n",
       "  a25: r569,\n",
       "  a34: r570,\n",
       "  a35: r571,\n",
       "  a45: r572},\n",
       " {d1: r573,\n",
       "  d2: r573/x12,\n",
       "  d3: r574,\n",
       "  d4: r575,\n",
       "  d5: r574/x35,\n",
       "  a12: r576,\n",
       "  a13: r577,\n",
       "  a14: r578,\n",
       "  a15: r579,\n",
       "  a23: 0,\n",
       "  a24: 0,\n",
       "  a25: r577/x12,\n",
       "  a34: r580,\n",
       "  a35: r581,\n",
       "  a45: r582}]"
      ]
     },
     "metadata": {},
     "output_type": "display_data"
    },
    {
     "data": {
      "text/plain": [
       "\\left[\\left\\{d_{1} : r_{553}, d_{2} : \\frac{r_{553}}{x_{12}}, d_{3} : 0, d_{4} : r_{554}, d_{5} : 0, a_{12} : r_{555}, a_{13} : r_{556}, a_{14} : r_{557}, a_{15} : r_{558}, a_{23} : 0, a_{24} : 0, a_{25} : r_{559}, a_{34} : r_{560}, a_{35} : r_{561}, a_{45} : r_{562}\\right\\}, \\left\\{d_{1} : 0, d_{2} : 0, d_{3} : r_{563}, d_{4} : r_{564}, d_{5} : \\frac{r_{563}}{x_{35}}, a_{12} : r_{565}, a_{13} : r_{566}, a_{14} : r_{567}, a_{15} : r_{568}, a_{23} : 0, a_{24} : 0, a_{25} : r_{569}, a_{34} : r_{570}, a_{35} : r_{571}, a_{45} : r_{572}\\right\\}, \\left\\{d_{1} : r_{573}, d_{2} : \\frac{r_{573}}{x_{12}}, d_{3} : r_{574}, d_{4} : r_{575}, d_{5} : \\frac{r_{574}}{x_{35}}, a_{12} : r_{576}, a_{13} : r_{577}, a_{14} : r_{578}, a_{15} : r_{579}, a_{23} : 0, a_{24} : 0, a_{25} : \\frac{r_{577}}{x_{12}}, a_{34} : r_{580}, a_{35} : r_{581}, a_{45} : r_{582}\\right\\}\\right]"
      ]
     },
     "execution_count": 33,
     "metadata": {},
     "output_type": "execute_result"
    }
   ],
   "source": [
    "#x2\n",
    "reset()\n",
    "\n",
    "var('x12,x13,x14,x15,x23,x24,x25,x34,x35,x45')\n",
    "var('d1,d2,d3,d4,d5')\n",
    "var('a12,a13,a14,a15,a23,a24,a25,a34,a35,a45')\n",
    "\n",
    "load_attach_path('C:\\\\Users\\\\julia\\\\Documents\\\\unb\\\\doutorado\\\\pensar\\\\codigo_sage_v2\\\\maquina\\\\x2')\n",
    "load('out_#100000.sage')\n",
    "\n",
    "m=matrix(QQ, [[0, 1, 0, 0, 0],\n",
    "              [0, 0, 0, 0, 0],\n",
    "              [0, 0, 0, 0, 1],\n",
    "              [0, 0, 0, 0, 0],\n",
    "              [0, 0, 0, 0, 0]])\n",
    "        \n",
    "#entry of matrix: (i,j) line i collum j, means (i-1,j-1)\n",
    "sol=solve([ eq1==m[0,1],\teq2==m[0,2],\teq3==m[0,3],\teq4==m[0,4],\t\n",
    "                                            eq5==m[1,3],    eq6==m[1,4],\n",
    "                                                            eq7==m[2,4]],d1,d2,d3,d4,d5,a12,a13,a14,a15,a23,a24,a25,a34,a35,a45, solution_dict=True)\n",
    "\n",
    "show(m)\n",
    "show(sol)\n",
    "latex(sol)"
   ]
  },
  {
   "cell_type": "code",
   "execution_count": 34,
   "metadata": {},
   "outputs": [
    {
     "data": {
      "text/html": [
       "<html><script type=\"math/tex; mode=display\">\\newcommand{\\Bold}[1]{\\mathbf{#1}}\\left(\\begin{array}{rrrrr}\n",
       "0 & 1 & 0 & 0 & 0 \\\\\n",
       "0 & 0 & 0 & 0 & 0 \\\\\n",
       "0 & 0 & 0 & 0 & 1 \\\\\n",
       "0 & 0 & 0 & 0 & 0 \\\\\n",
       "0 & 0 & 0 & 0 & 0\n",
       "\\end{array}\\right)</script></html>"
      ],
      "text/latex": [
       "$$\\newcommand{\\Bold}[1]{\\mathbf{#1}}\\left(\\begin{array}{rrrrr}\n",
       "0 & 1 & 0 & 0 & 0 \\\\\n",
       "0 & 0 & 0 & 0 & 0 \\\\\n",
       "0 & 0 & 0 & 0 & 1 \\\\\n",
       "0 & 0 & 0 & 0 & 0 \\\\\n",
       "0 & 0 & 0 & 0 & 0\n",
       "\\end{array}\\right)$$"
      ],
      "text/plain": [
       "[0 1 0 0 0]\n",
       "[0 0 0 0 0]\n",
       "[0 0 0 0 1]\n",
       "[0 0 0 0 0]\n",
       "[0 0 0 0 0]"
      ]
     },
     "metadata": {},
     "output_type": "display_data"
    },
    {
     "data": {
      "text/html": [
       "<html><script type=\"math/tex; mode=display\">\\newcommand{\\Bold}[1]{\\mathbf{#1}}\\left[\\left\\{d_{1} : r_{583}, d_{2} : \\frac{r_{583}}{x_{12}}, d_{3} : 0, d_{4} : r_{584}, d_{5} : 0, a_{12} : r_{585}, a_{13} : r_{586}, a_{14} : r_{587}, a_{15} : r_{588}, a_{23} : 0, a_{24} : 0, a_{25} : r_{589}, a_{34} : r_{590}, a_{35} : r_{591}, a_{45} : r_{592}\\right\\}, \\left\\{d_{1} : 0, d_{2} : 0, d_{3} : r_{593}, d_{4} : r_{594}, d_{5} : \\frac{r_{593}}{x_{35}}, a_{12} : r_{595}, a_{13} : r_{596}, a_{14} : r_{597}, a_{15} : r_{598}, a_{23} : 0, a_{24} : 0, a_{25} : r_{599}, a_{34} : r_{600}, a_{35} : r_{601}, a_{45} : r_{602}\\right\\}, \\left\\{d_{1} : r_{603}, d_{2} : \\frac{r_{603}}{x_{12}}, d_{3} : r_{604}, d_{4} : r_{605}, d_{5} : \\frac{r_{604}}{x_{35}}, a_{12} : r_{606}, a_{13} : r_{607}, a_{14} : r_{608}, a_{15} : r_{609}, a_{23} : 0, a_{24} : 0, a_{25} : -\\frac{r_{604} x_{15} - r_{607} x_{35}}{x_{12} x_{35}}, a_{34} : r_{610}, a_{35} : r_{611}, a_{45} : r_{612}\\right\\}\\right]</script></html>"
      ],
      "text/latex": [
       "$$\\newcommand{\\Bold}[1]{\\mathbf{#1}}\\left[\\left\\{d_{1} : r_{583}, d_{2} : \\frac{r_{583}}{x_{12}}, d_{3} : 0, d_{4} : r_{584}, d_{5} : 0, a_{12} : r_{585}, a_{13} : r_{586}, a_{14} : r_{587}, a_{15} : r_{588}, a_{23} : 0, a_{24} : 0, a_{25} : r_{589}, a_{34} : r_{590}, a_{35} : r_{591}, a_{45} : r_{592}\\right\\}, \\left\\{d_{1} : 0, d_{2} : 0, d_{3} : r_{593}, d_{4} : r_{594}, d_{5} : \\frac{r_{593}}{x_{35}}, a_{12} : r_{595}, a_{13} : r_{596}, a_{14} : r_{597}, a_{15} : r_{598}, a_{23} : 0, a_{24} : 0, a_{25} : r_{599}, a_{34} : r_{600}, a_{35} : r_{601}, a_{45} : r_{602}\\right\\}, \\left\\{d_{1} : r_{603}, d_{2} : \\frac{r_{603}}{x_{12}}, d_{3} : r_{604}, d_{4} : r_{605}, d_{5} : \\frac{r_{604}}{x_{35}}, a_{12} : r_{606}, a_{13} : r_{607}, a_{14} : r_{608}, a_{15} : r_{609}, a_{23} : 0, a_{24} : 0, a_{25} : -\\frac{r_{604} x_{15} - r_{607} x_{35}}{x_{12} x_{35}}, a_{34} : r_{610}, a_{35} : r_{611}, a_{45} : r_{612}\\right\\}\\right]$$"
      ],
      "text/plain": [
       "[{d1: r583,\n",
       "  d2: r583/x12,\n",
       "  d3: 0,\n",
       "  d4: r584,\n",
       "  d5: 0,\n",
       "  a12: r585,\n",
       "  a13: r586,\n",
       "  a14: r587,\n",
       "  a15: r588,\n",
       "  a23: 0,\n",
       "  a24: 0,\n",
       "  a25: r589,\n",
       "  a34: r590,\n",
       "  a35: r591,\n",
       "  a45: r592},\n",
       " {d1: 0,\n",
       "  d2: 0,\n",
       "  d3: r593,\n",
       "  d4: r594,\n",
       "  d5: r593/x35,\n",
       "  a12: r595,\n",
       "  a13: r596,\n",
       "  a14: r597,\n",
       "  a15: r598,\n",
       "  a23: 0,\n",
       "  a24: 0,\n",
       "  a25: r599,\n",
       "  a34: r600,\n",
       "  a35: r601,\n",
       "  a45: r602},\n",
       " {d1: r603,\n",
       "  d2: r603/x12,\n",
       "  d3: r604,\n",
       "  d4: r605,\n",
       "  d5: r604/x35,\n",
       "  a12: r606,\n",
       "  a13: r607,\n",
       "  a14: r608,\n",
       "  a15: r609,\n",
       "  a23: 0,\n",
       "  a24: 0,\n",
       "  a25: -(r604*x15 - r607*x35)/(x12*x35),\n",
       "  a34: r610,\n",
       "  a35: r611,\n",
       "  a45: r612}]"
      ]
     },
     "metadata": {},
     "output_type": "display_data"
    },
    {
     "data": {
      "text/plain": [
       "\\left[\\left\\{d_{1} : r_{583}, d_{2} : \\frac{r_{583}}{x_{12}}, d_{3} : 0, d_{4} : r_{584}, d_{5} : 0, a_{12} : r_{585}, a_{13} : r_{586}, a_{14} : r_{587}, a_{15} : r_{588}, a_{23} : 0, a_{24} : 0, a_{25} : r_{589}, a_{34} : r_{590}, a_{35} : r_{591}, a_{45} : r_{592}\\right\\}, \\left\\{d_{1} : 0, d_{2} : 0, d_{3} : r_{593}, d_{4} : r_{594}, d_{5} : \\frac{r_{593}}{x_{35}}, a_{12} : r_{595}, a_{13} : r_{596}, a_{14} : r_{597}, a_{15} : r_{598}, a_{23} : 0, a_{24} : 0, a_{25} : r_{599}, a_{34} : r_{600}, a_{35} : r_{601}, a_{45} : r_{602}\\right\\}, \\left\\{d_{1} : r_{603}, d_{2} : \\frac{r_{603}}{x_{12}}, d_{3} : r_{604}, d_{4} : r_{605}, d_{5} : \\frac{r_{604}}{x_{35}}, a_{12} : r_{606}, a_{13} : r_{607}, a_{14} : r_{608}, a_{15} : r_{609}, a_{23} : 0, a_{24} : 0, a_{25} : -\\frac{r_{604} x_{15} - r_{607} x_{35}}{x_{12} x_{35}}, a_{34} : r_{610}, a_{35} : r_{611}, a_{45} : r_{612}\\right\\}\\right]"
      ]
     },
     "execution_count": 34,
     "metadata": {},
     "output_type": "execute_result"
    }
   ],
   "source": [
    "#x2\n",
    "reset()\n",
    "\n",
    "var('x12,x13,x14,x15,x23,x24,x25,x34,x35,x45')\n",
    "var('d1,d2,d3,d4,d5')\n",
    "var('a12,a13,a14,a15,a23,a24,a25,a34,a35,a45')\n",
    "\n",
    "load_attach_path('C:\\\\Users\\\\julia\\\\Documents\\\\unb\\\\doutorado\\\\pensar\\\\codigo_sage_v2\\\\maquina\\\\x2')\n",
    "load('out_#100001.sage')\n",
    "\n",
    "m=matrix(QQ, [[0, 1, 0, 0, 0],\n",
    "              [0, 0, 0, 0, 0],\n",
    "              [0, 0, 0, 0, 1],\n",
    "              [0, 0, 0, 0, 0],\n",
    "              [0, 0, 0, 0, 0]])\n",
    "        \n",
    "#entry of matrix: (i,j) line i collum j, means (i-1,j-1)\n",
    "sol=solve([ eq1==m[0,1],\teq2==m[0,2],\teq3==m[0,3],\teq4==m[0,4],\t\n",
    "                                            eq5==m[1,3],    eq6==m[1,4],\n",
    "                                                            eq7==m[2,4]],d1,d2,d3,d4,d5,a12,a13,a14,a15,a23,a24,a25,a34,a35,a45, solution_dict=True)\n",
    "\n",
    "show(m)\n",
    "show(sol)\n",
    "latex(sol)"
   ]
  },
  {
   "cell_type": "code",
   "execution_count": 35,
   "metadata": {},
   "outputs": [
    {
     "data": {
      "text/html": [
       "<html><script type=\"math/tex; mode=display\">\\newcommand{\\Bold}[1]{\\mathbf{#1}}\\left(\\begin{array}{rrrrr}\n",
       "0 & 1 & 0 & 0 & 0 \\\\\n",
       "0 & 0 & 0 & 0 & 0 \\\\\n",
       "0 & 0 & 0 & 0 & 1 \\\\\n",
       "0 & 0 & 0 & 0 & 0 \\\\\n",
       "0 & 0 & 0 & 0 & 0\n",
       "\\end{array}\\right)</script></html>"
      ],
      "text/latex": [
       "$$\\newcommand{\\Bold}[1]{\\mathbf{#1}}\\left(\\begin{array}{rrrrr}\n",
       "0 & 1 & 0 & 0 & 0 \\\\\n",
       "0 & 0 & 0 & 0 & 0 \\\\\n",
       "0 & 0 & 0 & 0 & 1 \\\\\n",
       "0 & 0 & 0 & 0 & 0 \\\\\n",
       "0 & 0 & 0 & 0 & 0\n",
       "\\end{array}\\right)$$"
      ],
      "text/plain": [
       "[0 1 0 0 0]\n",
       "[0 0 0 0 0]\n",
       "[0 0 0 0 1]\n",
       "[0 0 0 0 0]\n",
       "[0 0 0 0 0]"
      ]
     },
     "metadata": {},
     "output_type": "display_data"
    },
    {
     "data": {
      "text/html": [
       "<html><script type=\"math/tex; mode=display\">\\newcommand{\\Bold}[1]{\\mathbf{#1}}\\left[\\left\\{d_{1} : r_{613}, d_{2} : \\frac{r_{613}}{x_{12}}, d_{3} : 0, d_{4} : r_{614}, d_{5} : 0, a_{12} : r_{615}, a_{13} : r_{616}, a_{14} : r_{617}, a_{15} : r_{618}, a_{23} : 0, a_{24} : -\\frac{r_{614} x_{14}}{x_{12}}, a_{25} : r_{619}, a_{34} : r_{620}, a_{35} : r_{621}, a_{45} : r_{622}\\right\\}, \\left\\{d_{1} : 0, d_{2} : 0, d_{3} : r_{623}, d_{4} : r_{624}, d_{5} : \\frac{r_{623}}{x_{35}}, a_{12} : r_{625}, a_{13} : r_{626}, a_{14} : r_{627}, a_{15} : r_{628}, a_{23} : 0, a_{24} : -\\frac{r_{624} x_{14}}{x_{12}}, a_{25} : r_{629}, a_{34} : r_{630}, a_{35} : r_{631}, a_{45} : r_{632}\\right\\}, \\left\\{d_{1} : r_{633}, d_{2} : \\frac{r_{633}}{x_{12}}, d_{3} : r_{634}, d_{4} : r_{635}, d_{5} : \\frac{r_{634}}{x_{35}}, a_{12} : r_{636}, a_{13} : r_{637}, a_{14} : r_{638}, a_{15} : r_{639}, a_{23} : 0, a_{24} : -\\frac{r_{635} x_{14}}{x_{12}}, a_{25} : r_{640}, a_{34} : r_{641}, a_{35} : r_{642}, a_{45} : -\\frac{r_{640} x_{12} - r_{637}}{x_{14}}\\right\\}\\right]</script></html>"
      ],
      "text/latex": [
       "$$\\newcommand{\\Bold}[1]{\\mathbf{#1}}\\left[\\left\\{d_{1} : r_{613}, d_{2} : \\frac{r_{613}}{x_{12}}, d_{3} : 0, d_{4} : r_{614}, d_{5} : 0, a_{12} : r_{615}, a_{13} : r_{616}, a_{14} : r_{617}, a_{15} : r_{618}, a_{23} : 0, a_{24} : -\\frac{r_{614} x_{14}}{x_{12}}, a_{25} : r_{619}, a_{34} : r_{620}, a_{35} : r_{621}, a_{45} : r_{622}\\right\\}, \\left\\{d_{1} : 0, d_{2} : 0, d_{3} : r_{623}, d_{4} : r_{624}, d_{5} : \\frac{r_{623}}{x_{35}}, a_{12} : r_{625}, a_{13} : r_{626}, a_{14} : r_{627}, a_{15} : r_{628}, a_{23} : 0, a_{24} : -\\frac{r_{624} x_{14}}{x_{12}}, a_{25} : r_{629}, a_{34} : r_{630}, a_{35} : r_{631}, a_{45} : r_{632}\\right\\}, \\left\\{d_{1} : r_{633}, d_{2} : \\frac{r_{633}}{x_{12}}, d_{3} : r_{634}, d_{4} : r_{635}, d_{5} : \\frac{r_{634}}{x_{35}}, a_{12} : r_{636}, a_{13} : r_{637}, a_{14} : r_{638}, a_{15} : r_{639}, a_{23} : 0, a_{24} : -\\frac{r_{635} x_{14}}{x_{12}}, a_{25} : r_{640}, a_{34} : r_{641}, a_{35} : r_{642}, a_{45} : -\\frac{r_{640} x_{12} - r_{637}}{x_{14}}\\right\\}\\right]$$"
      ],
      "text/plain": [
       "[{d1: r613,\n",
       "  d2: r613/x12,\n",
       "  d3: 0,\n",
       "  d4: r614,\n",
       "  d5: 0,\n",
       "  a12: r615,\n",
       "  a13: r616,\n",
       "  a14: r617,\n",
       "  a15: r618,\n",
       "  a23: 0,\n",
       "  a24: -r614*x14/x12,\n",
       "  a25: r619,\n",
       "  a34: r620,\n",
       "  a35: r621,\n",
       "  a45: r622},\n",
       " {d1: 0,\n",
       "  d2: 0,\n",
       "  d3: r623,\n",
       "  d4: r624,\n",
       "  d5: r623/x35,\n",
       "  a12: r625,\n",
       "  a13: r626,\n",
       "  a14: r627,\n",
       "  a15: r628,\n",
       "  a23: 0,\n",
       "  a24: -r624*x14/x12,\n",
       "  a25: r629,\n",
       "  a34: r630,\n",
       "  a35: r631,\n",
       "  a45: r632},\n",
       " {d1: r633,\n",
       "  d2: r633/x12,\n",
       "  d3: r634,\n",
       "  d4: r635,\n",
       "  d5: r634/x35,\n",
       "  a12: r636,\n",
       "  a13: r637,\n",
       "  a14: r638,\n",
       "  a15: r639,\n",
       "  a23: 0,\n",
       "  a24: -r635*x14/x12,\n",
       "  a25: r640,\n",
       "  a34: r641,\n",
       "  a35: r642,\n",
       "  a45: -(r640*x12 - r637)/x14}]"
      ]
     },
     "metadata": {},
     "output_type": "display_data"
    },
    {
     "data": {
      "text/plain": [
       "\\left[\\left\\{d_{1} : r_{613}, d_{2} : \\frac{r_{613}}{x_{12}}, d_{3} : 0, d_{4} : r_{614}, d_{5} : 0, a_{12} : r_{615}, a_{13} : r_{616}, a_{14} : r_{617}, a_{15} : r_{618}, a_{23} : 0, a_{24} : -\\frac{r_{614} x_{14}}{x_{12}}, a_{25} : r_{619}, a_{34} : r_{620}, a_{35} : r_{621}, a_{45} : r_{622}\\right\\}, \\left\\{d_{1} : 0, d_{2} : 0, d_{3} : r_{623}, d_{4} : r_{624}, d_{5} : \\frac{r_{623}}{x_{35}}, a_{12} : r_{625}, a_{13} : r_{626}, a_{14} : r_{627}, a_{15} : r_{628}, a_{23} : 0, a_{24} : -\\frac{r_{624} x_{14}}{x_{12}}, a_{25} : r_{629}, a_{34} : r_{630}, a_{35} : r_{631}, a_{45} : r_{632}\\right\\}, \\left\\{d_{1} : r_{633}, d_{2} : \\frac{r_{633}}{x_{12}}, d_{3} : r_{634}, d_{4} : r_{635}, d_{5} : \\frac{r_{634}}{x_{35}}, a_{12} : r_{636}, a_{13} : r_{637}, a_{14} : r_{638}, a_{15} : r_{639}, a_{23} : 0, a_{24} : -\\frac{r_{635} x_{14}}{x_{12}}, a_{25} : r_{640}, a_{34} : r_{641}, a_{35} : r_{642}, a_{45} : -\\frac{r_{640} x_{12} - r_{637}}{x_{14}}\\right\\}\\right]"
      ]
     },
     "execution_count": 35,
     "metadata": {},
     "output_type": "execute_result"
    }
   ],
   "source": [
    "#x2\n",
    "reset()\n",
    "\n",
    "var('x12,x13,x14,x15,x23,x24,x25,x34,x35,x45')\n",
    "var('d1,d2,d3,d4,d5')\n",
    "var('a12,a13,a14,a15,a23,a24,a25,a34,a35,a45')\n",
    "\n",
    "load_attach_path('C:\\\\Users\\\\julia\\\\Documents\\\\unb\\\\doutorado\\\\pensar\\\\codigo_sage_v2\\\\maquina\\\\x2')\n",
    "load('out_#100010.sage')\n",
    "\n",
    "m=matrix(QQ, [[0, 1, 0, 0, 0],\n",
    "              [0, 0, 0, 0, 0],\n",
    "              [0, 0, 0, 0, 1],\n",
    "              [0, 0, 0, 0, 0],\n",
    "              [0, 0, 0, 0, 0]])\n",
    "        \n",
    "#entry of matrix: (i,j) line i collum j, means (i-1,j-1)\n",
    "sol=solve([ eq1==m[0,1],\teq2==m[0,2],\teq3==m[0,3],\teq4==m[0,4],\t\n",
    "                                            eq5==m[1,3],    eq6==m[1,4],\n",
    "                                                            eq7==m[2,4]],d1,d2,d3,d4,d5,a12,a13,a14,a15,a23,a24,a25,a34,a35,a45, solution_dict=True)\n",
    "\n",
    "show(m)\n",
    "show(sol)\n",
    "latex(sol)"
   ]
  },
  {
   "cell_type": "code",
   "execution_count": 36,
   "metadata": {},
   "outputs": [
    {
     "data": {
      "text/html": [
       "<html><script type=\"math/tex; mode=display\">\\newcommand{\\Bold}[1]{\\mathbf{#1}}\\left(\\begin{array}{rrrrr}\n",
       "0 & 1 & 0 & 0 & 0 \\\\\n",
       "0 & 0 & 0 & 0 & 0 \\\\\n",
       "0 & 0 & 0 & 0 & 1 \\\\\n",
       "0 & 0 & 0 & 0 & 0 \\\\\n",
       "0 & 0 & 0 & 0 & 0\n",
       "\\end{array}\\right)</script></html>"
      ],
      "text/latex": [
       "$$\\newcommand{\\Bold}[1]{\\mathbf{#1}}\\left(\\begin{array}{rrrrr}\n",
       "0 & 1 & 0 & 0 & 0 \\\\\n",
       "0 & 0 & 0 & 0 & 0 \\\\\n",
       "0 & 0 & 0 & 0 & 1 \\\\\n",
       "0 & 0 & 0 & 0 & 0 \\\\\n",
       "0 & 0 & 0 & 0 & 0\n",
       "\\end{array}\\right)$$"
      ],
      "text/plain": [
       "[0 1 0 0 0]\n",
       "[0 0 0 0 0]\n",
       "[0 0 0 0 1]\n",
       "[0 0 0 0 0]\n",
       "[0 0 0 0 0]"
      ]
     },
     "metadata": {},
     "output_type": "display_data"
    },
    {
     "data": {
      "text/html": [
       "<html><script type=\"math/tex; mode=display\">\\newcommand{\\Bold}[1]{\\mathbf{#1}}\\left[\\left\\{d_{1} : r_{643}, d_{2} : \\frac{r_{643}}{x_{12}}, d_{3} : 0, d_{4} : r_{644}, d_{5} : 0, a_{12} : r_{645}, a_{13} : r_{646}, a_{14} : r_{647}, a_{15} : r_{648}, a_{23} : 0, a_{24} : -\\frac{r_{644} x_{14}}{x_{12}}, a_{25} : r_{649}, a_{34} : r_{650}, a_{35} : r_{651}, a_{45} : r_{652}\\right\\}, \\left\\{d_{1} : 0, d_{2} : 0, d_{3} : r_{653}, d_{4} : r_{654}, d_{5} : \\frac{r_{653}}{x_{35}}, a_{12} : r_{655}, a_{13} : r_{656}, a_{14} : r_{657}, a_{15} : r_{658}, a_{23} : 0, a_{24} : -\\frac{r_{654} x_{14}}{x_{12}}, a_{25} : r_{659}, a_{34} : r_{660}, a_{35} : r_{661}, a_{45} : r_{662}\\right\\}, \\left\\{d_{1} : r_{663}, d_{2} : \\frac{r_{663}}{x_{12}}, d_{3} : r_{664}, d_{4} : r_{665}, d_{5} : \\frac{r_{664}}{x_{35}}, a_{12} : r_{666}, a_{13} : r_{667}, a_{14} : r_{668}, a_{15} : r_{669}, a_{23} : 0, a_{24} : -\\frac{r_{665} x_{14}}{x_{12}}, a_{25} : r_{670}, a_{34} : r_{671}, a_{35} : r_{672}, a_{45} : -\\frac{r_{664} x_{15} + {\\left(r_{670} x_{12} - r_{667}\\right)} x_{35}}{x_{14} x_{35}}\\right\\}\\right]</script></html>"
      ],
      "text/latex": [
       "$$\\newcommand{\\Bold}[1]{\\mathbf{#1}}\\left[\\left\\{d_{1} : r_{643}, d_{2} : \\frac{r_{643}}{x_{12}}, d_{3} : 0, d_{4} : r_{644}, d_{5} : 0, a_{12} : r_{645}, a_{13} : r_{646}, a_{14} : r_{647}, a_{15} : r_{648}, a_{23} : 0, a_{24} : -\\frac{r_{644} x_{14}}{x_{12}}, a_{25} : r_{649}, a_{34} : r_{650}, a_{35} : r_{651}, a_{45} : r_{652}\\right\\}, \\left\\{d_{1} : 0, d_{2} : 0, d_{3} : r_{653}, d_{4} : r_{654}, d_{5} : \\frac{r_{653}}{x_{35}}, a_{12} : r_{655}, a_{13} : r_{656}, a_{14} : r_{657}, a_{15} : r_{658}, a_{23} : 0, a_{24} : -\\frac{r_{654} x_{14}}{x_{12}}, a_{25} : r_{659}, a_{34} : r_{660}, a_{35} : r_{661}, a_{45} : r_{662}\\right\\}, \\left\\{d_{1} : r_{663}, d_{2} : \\frac{r_{663}}{x_{12}}, d_{3} : r_{664}, d_{4} : r_{665}, d_{5} : \\frac{r_{664}}{x_{35}}, a_{12} : r_{666}, a_{13} : r_{667}, a_{14} : r_{668}, a_{15} : r_{669}, a_{23} : 0, a_{24} : -\\frac{r_{665} x_{14}}{x_{12}}, a_{25} : r_{670}, a_{34} : r_{671}, a_{35} : r_{672}, a_{45} : -\\frac{r_{664} x_{15} + {\\left(r_{670} x_{12} - r_{667}\\right)} x_{35}}{x_{14} x_{35}}\\right\\}\\right]$$"
      ],
      "text/plain": [
       "[{d1: r643,\n",
       "  d2: r643/x12,\n",
       "  d3: 0,\n",
       "  d4: r644,\n",
       "  d5: 0,\n",
       "  a12: r645,\n",
       "  a13: r646,\n",
       "  a14: r647,\n",
       "  a15: r648,\n",
       "  a23: 0,\n",
       "  a24: -r644*x14/x12,\n",
       "  a25: r649,\n",
       "  a34: r650,\n",
       "  a35: r651,\n",
       "  a45: r652},\n",
       " {d1: 0,\n",
       "  d2: 0,\n",
       "  d3: r653,\n",
       "  d4: r654,\n",
       "  d5: r653/x35,\n",
       "  a12: r655,\n",
       "  a13: r656,\n",
       "  a14: r657,\n",
       "  a15: r658,\n",
       "  a23: 0,\n",
       "  a24: -r654*x14/x12,\n",
       "  a25: r659,\n",
       "  a34: r660,\n",
       "  a35: r661,\n",
       "  a45: r662},\n",
       " {d1: r663,\n",
       "  d2: r663/x12,\n",
       "  d3: r664,\n",
       "  d4: r665,\n",
       "  d5: r664/x35,\n",
       "  a12: r666,\n",
       "  a13: r667,\n",
       "  a14: r668,\n",
       "  a15: r669,\n",
       "  a23: 0,\n",
       "  a24: -r665*x14/x12,\n",
       "  a25: r670,\n",
       "  a34: r671,\n",
       "  a35: r672,\n",
       "  a45: -(r664*x15 + (r670*x12 - r667)*x35)/(x14*x35)}]"
      ]
     },
     "metadata": {},
     "output_type": "display_data"
    },
    {
     "data": {
      "text/plain": [
       "\\left[\\left\\{d_{1} : r_{643}, d_{2} : \\frac{r_{643}}{x_{12}}, d_{3} : 0, d_{4} : r_{644}, d_{5} : 0, a_{12} : r_{645}, a_{13} : r_{646}, a_{14} : r_{647}, a_{15} : r_{648}, a_{23} : 0, a_{24} : -\\frac{r_{644} x_{14}}{x_{12}}, a_{25} : r_{649}, a_{34} : r_{650}, a_{35} : r_{651}, a_{45} : r_{652}\\right\\}, \\left\\{d_{1} : 0, d_{2} : 0, d_{3} : r_{653}, d_{4} : r_{654}, d_{5} : \\frac{r_{653}}{x_{35}}, a_{12} : r_{655}, a_{13} : r_{656}, a_{14} : r_{657}, a_{15} : r_{658}, a_{23} : 0, a_{24} : -\\frac{r_{654} x_{14}}{x_{12}}, a_{25} : r_{659}, a_{34} : r_{660}, a_{35} : r_{661}, a_{45} : r_{662}\\right\\}, \\left\\{d_{1} : r_{663}, d_{2} : \\frac{r_{663}}{x_{12}}, d_{3} : r_{664}, d_{4} : r_{665}, d_{5} : \\frac{r_{664}}{x_{35}}, a_{12} : r_{666}, a_{13} : r_{667}, a_{14} : r_{668}, a_{15} : r_{669}, a_{23} : 0, a_{24} : -\\frac{r_{665} x_{14}}{x_{12}}, a_{25} : r_{670}, a_{34} : r_{671}, a_{35} : r_{672}, a_{45} : -\\frac{r_{664} x_{15} + {\\left(r_{670} x_{12} - r_{667}\\right)} x_{35}}{x_{14} x_{35}}\\right\\}\\right]"
      ]
     },
     "execution_count": 36,
     "metadata": {},
     "output_type": "execute_result"
    }
   ],
   "source": [
    "#x2\n",
    "reset()\n",
    "\n",
    "var('x12,x13,x14,x15,x23,x24,x25,x34,x35,x45')\n",
    "var('d1,d2,d3,d4,d5')\n",
    "var('a12,a13,a14,a15,a23,a24,a25,a34,a35,a45')\n",
    "\n",
    "load_attach_path('C:\\\\Users\\\\julia\\\\Documents\\\\unb\\\\doutorado\\\\pensar\\\\codigo_sage_v2\\\\maquina\\\\x2')\n",
    "load('out_#100011.sage')\n",
    "\n",
    "m=matrix(QQ, [[0, 1, 0, 0, 0],\n",
    "              [0, 0, 0, 0, 0],\n",
    "              [0, 0, 0, 0, 1],\n",
    "              [0, 0, 0, 0, 0],\n",
    "              [0, 0, 0, 0, 0]])\n",
    "        \n",
    "#entry of matrix: (i,j) line i collum j, means (i-1,j-1)\n",
    "sol=solve([ eq1==m[0,1],\teq2==m[0,2],\teq3==m[0,3],\teq4==m[0,4],\t\n",
    "                                            eq5==m[1,3],    eq6==m[1,4],\n",
    "                                                            eq7==m[2,4]],d1,d2,d3,d4,d5,a12,a13,a14,a15,a23,a24,a25,a34,a35,a45, solution_dict=True)\n",
    "\n",
    "show(m)\n",
    "show(sol)\n",
    "latex(sol)"
   ]
  },
  {
   "cell_type": "code",
   "execution_count": 2,
   "metadata": {},
   "outputs": [
    {
     "data": {
      "text/html": [
       "<html><script type=\"math/tex; mode=display\">\\newcommand{\\Bold}[1]{\\mathbf{#1}}\\left(\\begin{array}{rrrrr}\n",
       "0 & 1 & 1 & 0 & 0 \\\\\n",
       "0 & 0 & 0 & 0 & 0 \\\\\n",
       "0 & 0 & 0 & 0 & 1 \\\\\n",
       "0 & 0 & 0 & 0 & 0 \\\\\n",
       "0 & 0 & 0 & 0 & 0\n",
       "\\end{array}\\right)</script></html>"
      ],
      "text/latex": [
       "$$\\newcommand{\\Bold}[1]{\\mathbf{#1}}\\left(\\begin{array}{rrrrr}\n",
       "0 & 1 & 1 & 0 & 0 \\\\\n",
       "0 & 0 & 0 & 0 & 0 \\\\\n",
       "0 & 0 & 0 & 0 & 1 \\\\\n",
       "0 & 0 & 0 & 0 & 0 \\\\\n",
       "0 & 0 & 0 & 0 & 0\n",
       "\\end{array}\\right)$$"
      ],
      "text/plain": [
       "[0 1 1 0 0]\n",
       "[0 0 0 0 0]\n",
       "[0 0 0 0 1]\n",
       "[0 0 0 0 0]\n",
       "[0 0 0 0 0]"
      ]
     },
     "metadata": {},
     "output_type": "display_data"
    },
    {
     "data": {
      "text/html": [
       "<html><script type=\"math/tex; mode=display\">\\newcommand{\\Bold}[1]{\\mathbf{#1}}\\left[\\left\\{d_{1} : r_{11}, d_{2} : \\frac{r_{11}}{x_{12}}, d_{3} : 0, d_{4} : r_{12}, d_{5} : 0, a_{12} : r_{13}, a_{13} : r_{14}, a_{14} : r_{15}, a_{15} : r_{16}, a_{23} : \\frac{r_{11}}{x_{12}}, a_{24} : r_{17}, a_{25} : r_{18}, a_{34} : -\\frac{r_{17} x_{12}}{x_{13}}, a_{35} : r_{19}, a_{45} : r_{20}\\right\\}, \\left\\{d_{1} : 0, d_{2} : 0, d_{3} : 0, d_{4} : r_{21}, d_{5} : 0, a_{12} : r_{22}, a_{13} : r_{23}, a_{14} : r_{24}, a_{15} : r_{25}, a_{23} : 0, a_{24} : r_{26}, a_{25} : r_{27}, a_{34} : -\\frac{r_{26} x_{12}}{x_{13}}, a_{35} : r_{28}, a_{45} : r_{29}\\right\\}, \\left\\{d_{1} : r_{30}, d_{2} : \\frac{r_{30}}{x_{12}}, d_{3} : \\frac{r_{30}}{x_{13}}, d_{4} : r_{31}, d_{5} : \\frac{r_{30}}{x_{13} x_{35}}, a_{12} : r_{32}, a_{13} : r_{33}, a_{14} : r_{34}, a_{15} : r_{35}, a_{23} : 0, a_{24} : r_{36}, a_{25} : r_{37}, a_{34} : -\\frac{r_{36} x_{12}}{x_{13}}, a_{35} : -\\frac{r_{37} x_{12} - r_{33}}{x_{13}}, a_{45} : r_{38}\\right\\}\\right]</script></html>"
      ],
      "text/latex": [
       "$$\\newcommand{\\Bold}[1]{\\mathbf{#1}}\\left[\\left\\{d_{1} : r_{11}, d_{2} : \\frac{r_{11}}{x_{12}}, d_{3} : 0, d_{4} : r_{12}, d_{5} : 0, a_{12} : r_{13}, a_{13} : r_{14}, a_{14} : r_{15}, a_{15} : r_{16}, a_{23} : \\frac{r_{11}}{x_{12}}, a_{24} : r_{17}, a_{25} : r_{18}, a_{34} : -\\frac{r_{17} x_{12}}{x_{13}}, a_{35} : r_{19}, a_{45} : r_{20}\\right\\}, \\left\\{d_{1} : 0, d_{2} : 0, d_{3} : 0, d_{4} : r_{21}, d_{5} : 0, a_{12} : r_{22}, a_{13} : r_{23}, a_{14} : r_{24}, a_{15} : r_{25}, a_{23} : 0, a_{24} : r_{26}, a_{25} : r_{27}, a_{34} : -\\frac{r_{26} x_{12}}{x_{13}}, a_{35} : r_{28}, a_{45} : r_{29}\\right\\}, \\left\\{d_{1} : r_{30}, d_{2} : \\frac{r_{30}}{x_{12}}, d_{3} : \\frac{r_{30}}{x_{13}}, d_{4} : r_{31}, d_{5} : \\frac{r_{30}}{x_{13} x_{35}}, a_{12} : r_{32}, a_{13} : r_{33}, a_{14} : r_{34}, a_{15} : r_{35}, a_{23} : 0, a_{24} : r_{36}, a_{25} : r_{37}, a_{34} : -\\frac{r_{36} x_{12}}{x_{13}}, a_{35} : -\\frac{r_{37} x_{12} - r_{33}}{x_{13}}, a_{45} : r_{38}\\right\\}\\right]$$"
      ],
      "text/plain": [
       "[{d1: r11,\n",
       "  d2: r11/x12,\n",
       "  d3: 0,\n",
       "  d4: r12,\n",
       "  d5: 0,\n",
       "  a12: r13,\n",
       "  a13: r14,\n",
       "  a14: r15,\n",
       "  a15: r16,\n",
       "  a23: r11/x12,\n",
       "  a24: r17,\n",
       "  a25: r18,\n",
       "  a34: -r17*x12/x13,\n",
       "  a35: r19,\n",
       "  a45: r20},\n",
       " {d1: 0,\n",
       "  d2: 0,\n",
       "  d3: 0,\n",
       "  d4: r21,\n",
       "  d5: 0,\n",
       "  a12: r22,\n",
       "  a13: r23,\n",
       "  a14: r24,\n",
       "  a15: r25,\n",
       "  a23: 0,\n",
       "  a24: r26,\n",
       "  a25: r27,\n",
       "  a34: -r26*x12/x13,\n",
       "  a35: r28,\n",
       "  a45: r29},\n",
       " {d1: r30,\n",
       "  d2: r30/x12,\n",
       "  d3: r30/x13,\n",
       "  d4: r31,\n",
       "  d5: r30/(x13*x35),\n",
       "  a12: r32,\n",
       "  a13: r33,\n",
       "  a14: r34,\n",
       "  a15: r35,\n",
       "  a23: 0,\n",
       "  a24: r36,\n",
       "  a25: r37,\n",
       "  a34: -r36*x12/x13,\n",
       "  a35: -(r37*x12 - r33)/x13,\n",
       "  a45: r38}]"
      ]
     },
     "metadata": {},
     "output_type": "display_data"
    },
    {
     "data": {
      "text/plain": [
       "\\left[\\left\\{d_{1} : r_{11}, d_{2} : \\frac{r_{11}}{x_{12}}, d_{3} : 0, d_{4} : r_{12}, d_{5} : 0, a_{12} : r_{13}, a_{13} : r_{14}, a_{14} : r_{15}, a_{15} : r_{16}, a_{23} : \\frac{r_{11}}{x_{12}}, a_{24} : r_{17}, a_{25} : r_{18}, a_{34} : -\\frac{r_{17} x_{12}}{x_{13}}, a_{35} : r_{19}, a_{45} : r_{20}\\right\\}, \\left\\{d_{1} : 0, d_{2} : 0, d_{3} : 0, d_{4} : r_{21}, d_{5} : 0, a_{12} : r_{22}, a_{13} : r_{23}, a_{14} : r_{24}, a_{15} : r_{25}, a_{23} : 0, a_{24} : r_{26}, a_{25} : r_{27}, a_{34} : -\\frac{r_{26} x_{12}}{x_{13}}, a_{35} : r_{28}, a_{45} : r_{29}\\right\\}, \\left\\{d_{1} : r_{30}, d_{2} : \\frac{r_{30}}{x_{12}}, d_{3} : \\frac{r_{30}}{x_{13}}, d_{4} : r_{31}, d_{5} : \\frac{r_{30}}{x_{13} x_{35}}, a_{12} : r_{32}, a_{13} : r_{33}, a_{14} : r_{34}, a_{15} : r_{35}, a_{23} : 0, a_{24} : r_{36}, a_{25} : r_{37}, a_{34} : -\\frac{r_{36} x_{12}}{x_{13}}, a_{35} : -\\frac{r_{37} x_{12} - r_{33}}{x_{13}}, a_{45} : r_{38}\\right\\}\\right]"
      ]
     },
     "execution_count": 2,
     "metadata": {},
     "output_type": "execute_result"
    }
   ],
   "source": [
    "#x2\n",
    "reset()\n",
    "\n",
    "var('x12,x13,x14,x15,x23,x24,x25,x34,x35,x45')\n",
    "var('d1,d2,d3,d4,d5')\n",
    "var('a12,a13,a14,a15,a23,a24,a25,a34,a35,a45')\n",
    "\n",
    "load_attach_path('C:\\\\Users\\\\julia\\\\Documents\\\\unb\\\\doutorado\\\\pensar\\\\codigo_sage_v2\\\\maquina\\\\x2')\n",
    "load('out_#100100.sage')\n",
    "\n",
    "m=matrix(QQ, [[0, 1, 1, 0, 0],\n",
    "              [0, 0, 0, 0, 0],\n",
    "              [0, 0, 0, 0, 1],\n",
    "              [0, 0, 0, 0, 0],\n",
    "              [0, 0, 0, 0, 0]])\n",
    "        \n",
    "#entry of matrix: (i,j) line i collum j, means (i-1,j-1)\n",
    "sol=solve([ eq1==m[0,1],\teq2==m[0,2],\teq3==m[0,3],\teq4==m[0,4],\t\n",
    "                                            eq5==m[1,3],    eq6==m[1,4],\n",
    "                                                            eq7==m[2,4]],d1,d2,d3,d4,d5,a12,a13,a14,a15,a23,a24,a25,a34,a35,a45, solution_dict=True)\n",
    "\n",
    "show(m)\n",
    "show(sol)\n",
    "latex(sol)"
   ]
  },
  {
   "cell_type": "code",
   "execution_count": 38,
   "metadata": {},
   "outputs": [
    {
     "data": {
      "text/html": [
       "<html><script type=\"math/tex; mode=display\">\\newcommand{\\Bold}[1]{\\mathbf{#1}}\\left(\\begin{array}{rrrrr}\n",
       "0 & 1 & 1 & 0 & 0 \\\\\n",
       "0 & 0 & 0 & 0 & 0 \\\\\n",
       "0 & 0 & 0 & 0 & 1 \\\\\n",
       "0 & 0 & 0 & 0 & 0 \\\\\n",
       "0 & 0 & 0 & 0 & 0\n",
       "\\end{array}\\right)</script></html>"
      ],
      "text/latex": [
       "$$\\newcommand{\\Bold}[1]{\\mathbf{#1}}\\left(\\begin{array}{rrrrr}\n",
       "0 & 1 & 1 & 0 & 0 \\\\\n",
       "0 & 0 & 0 & 0 & 0 \\\\\n",
       "0 & 0 & 0 & 0 & 1 \\\\\n",
       "0 & 0 & 0 & 0 & 0 \\\\\n",
       "0 & 0 & 0 & 0 & 0\n",
       "\\end{array}\\right)$$"
      ],
      "text/plain": [
       "[0 1 1 0 0]\n",
       "[0 0 0 0 0]\n",
       "[0 0 0 0 1]\n",
       "[0 0 0 0 0]\n",
       "[0 0 0 0 0]"
      ]
     },
     "metadata": {},
     "output_type": "display_data"
    },
    {
     "data": {
      "text/html": [
       "<html><script type=\"math/tex; mode=display\">\\newcommand{\\Bold}[1]{\\mathbf{#1}}\\left[\\left\\{d_{1} : r_{701}, d_{2} : \\frac{r_{701}}{x_{12}}, d_{3} : 0, d_{4} : r_{702}, d_{5} : 0, a_{12} : r_{703}, a_{13} : r_{704}, a_{14} : r_{705}, a_{15} : r_{706}, a_{23} : \\frac{r_{701}}{x_{12}}, a_{24} : r_{707}, a_{25} : r_{708}, a_{34} : -\\frac{r_{707} x_{12}}{x_{13}}, a_{35} : r_{709}, a_{45} : r_{710}\\right\\}, \\left\\{d_{1} : 0, d_{2} : 0, d_{3} : 0, d_{4} : r_{711}, d_{5} : 0, a_{12} : r_{712}, a_{13} : r_{713}, a_{14} : r_{714}, a_{15} : r_{715}, a_{23} : 0, a_{24} : r_{716}, a_{25} : r_{717}, a_{34} : -\\frac{r_{716} x_{12}}{x_{13}}, a_{35} : r_{718}, a_{45} : r_{719}\\right\\}, \\left\\{d_{1} : r_{720}, d_{2} : \\frac{r_{720}}{x_{12}}, d_{3} : \\frac{r_{720}}{x_{13}}, d_{4} : r_{721}, d_{5} : \\frac{r_{720}}{x_{13} x_{35}}, a_{12} : r_{722}, a_{13} : r_{723}, a_{14} : r_{724}, a_{15} : r_{725}, a_{23} : 0, a_{24} : r_{726}, a_{25} : r_{727}, a_{34} : -\\frac{r_{726} x_{12}}{x_{13}}, a_{35} : -\\frac{{\\left(r_{727} x_{12} - r_{723}\\right)} x_{13} x_{35} + r_{720} x_{15}}{x_{13}^{2} x_{35}}, a_{45} : r_{728}\\right\\}\\right]</script></html>"
      ],
      "text/latex": [
       "$$\\newcommand{\\Bold}[1]{\\mathbf{#1}}\\left[\\left\\{d_{1} : r_{701}, d_{2} : \\frac{r_{701}}{x_{12}}, d_{3} : 0, d_{4} : r_{702}, d_{5} : 0, a_{12} : r_{703}, a_{13} : r_{704}, a_{14} : r_{705}, a_{15} : r_{706}, a_{23} : \\frac{r_{701}}{x_{12}}, a_{24} : r_{707}, a_{25} : r_{708}, a_{34} : -\\frac{r_{707} x_{12}}{x_{13}}, a_{35} : r_{709}, a_{45} : r_{710}\\right\\}, \\left\\{d_{1} : 0, d_{2} : 0, d_{3} : 0, d_{4} : r_{711}, d_{5} : 0, a_{12} : r_{712}, a_{13} : r_{713}, a_{14} : r_{714}, a_{15} : r_{715}, a_{23} : 0, a_{24} : r_{716}, a_{25} : r_{717}, a_{34} : -\\frac{r_{716} x_{12}}{x_{13}}, a_{35} : r_{718}, a_{45} : r_{719}\\right\\}, \\left\\{d_{1} : r_{720}, d_{2} : \\frac{r_{720}}{x_{12}}, d_{3} : \\frac{r_{720}}{x_{13}}, d_{4} : r_{721}, d_{5} : \\frac{r_{720}}{x_{13} x_{35}}, a_{12} : r_{722}, a_{13} : r_{723}, a_{14} : r_{724}, a_{15} : r_{725}, a_{23} : 0, a_{24} : r_{726}, a_{25} : r_{727}, a_{34} : -\\frac{r_{726} x_{12}}{x_{13}}, a_{35} : -\\frac{{\\left(r_{727} x_{12} - r_{723}\\right)} x_{13} x_{35} + r_{720} x_{15}}{x_{13}^{2} x_{35}}, a_{45} : r_{728}\\right\\}\\right]$$"
      ],
      "text/plain": [
       "[{d1: r701,\n",
       "  d2: r701/x12,\n",
       "  d3: 0,\n",
       "  d4: r702,\n",
       "  d5: 0,\n",
       "  a12: r703,\n",
       "  a13: r704,\n",
       "  a14: r705,\n",
       "  a15: r706,\n",
       "  a23: r701/x12,\n",
       "  a24: r707,\n",
       "  a25: r708,\n",
       "  a34: -r707*x12/x13,\n",
       "  a35: r709,\n",
       "  a45: r710},\n",
       " {d1: 0,\n",
       "  d2: 0,\n",
       "  d3: 0,\n",
       "  d4: r711,\n",
       "  d5: 0,\n",
       "  a12: r712,\n",
       "  a13: r713,\n",
       "  a14: r714,\n",
       "  a15: r715,\n",
       "  a23: 0,\n",
       "  a24: r716,\n",
       "  a25: r717,\n",
       "  a34: -r716*x12/x13,\n",
       "  a35: r718,\n",
       "  a45: r719},\n",
       " {d1: r720,\n",
       "  d2: r720/x12,\n",
       "  d3: r720/x13,\n",
       "  d4: r721,\n",
       "  d5: r720/(x13*x35),\n",
       "  a12: r722,\n",
       "  a13: r723,\n",
       "  a14: r724,\n",
       "  a15: r725,\n",
       "  a23: 0,\n",
       "  a24: r726,\n",
       "  a25: r727,\n",
       "  a34: -r726*x12/x13,\n",
       "  a35: -((r727*x12 - r723)*x13*x35 + r720*x15)/(x13^2*x35),\n",
       "  a45: r728}]"
      ]
     },
     "metadata": {},
     "output_type": "display_data"
    },
    {
     "data": {
      "text/plain": [
       "\\left[\\left\\{d_{1} : r_{701}, d_{2} : \\frac{r_{701}}{x_{12}}, d_{3} : 0, d_{4} : r_{702}, d_{5} : 0, a_{12} : r_{703}, a_{13} : r_{704}, a_{14} : r_{705}, a_{15} : r_{706}, a_{23} : \\frac{r_{701}}{x_{12}}, a_{24} : r_{707}, a_{25} : r_{708}, a_{34} : -\\frac{r_{707} x_{12}}{x_{13}}, a_{35} : r_{709}, a_{45} : r_{710}\\right\\}, \\left\\{d_{1} : 0, d_{2} : 0, d_{3} : 0, d_{4} : r_{711}, d_{5} : 0, a_{12} : r_{712}, a_{13} : r_{713}, a_{14} : r_{714}, a_{15} : r_{715}, a_{23} : 0, a_{24} : r_{716}, a_{25} : r_{717}, a_{34} : -\\frac{r_{716} x_{12}}{x_{13}}, a_{35} : r_{718}, a_{45} : r_{719}\\right\\}, \\left\\{d_{1} : r_{720}, d_{2} : \\frac{r_{720}}{x_{12}}, d_{3} : \\frac{r_{720}}{x_{13}}, d_{4} : r_{721}, d_{5} : \\frac{r_{720}}{x_{13} x_{35}}, a_{12} : r_{722}, a_{13} : r_{723}, a_{14} : r_{724}, a_{15} : r_{725}, a_{23} : 0, a_{24} : r_{726}, a_{25} : r_{727}, a_{34} : -\\frac{r_{726} x_{12}}{x_{13}}, a_{35} : -\\frac{{\\left(r_{727} x_{12} - r_{723}\\right)} x_{13} x_{35} + r_{720} x_{15}}{x_{13}^{2} x_{35}}, a_{45} : r_{728}\\right\\}\\right]"
      ]
     },
     "execution_count": 38,
     "metadata": {},
     "output_type": "execute_result"
    }
   ],
   "source": [
    "#x2\n",
    "reset()\n",
    "\n",
    "var('x12,x13,x14,x15,x23,x24,x25,x34,x35,x45')\n",
    "var('d1,d2,d3,d4,d5')\n",
    "var('a12,a13,a14,a15,a23,a24,a25,a34,a35,a45')\n",
    "\n",
    "load_attach_path('C:\\\\Users\\\\julia\\\\Documents\\\\unb\\\\doutorado\\\\pensar\\\\codigo_sage_v2\\\\maquina\\\\x2')\n",
    "load('out_#100101.sage')\n",
    "\n",
    "m=matrix(QQ, [[0, 1, 1, 0, 0],\n",
    "              [0, 0, 0, 0, 0],\n",
    "              [0, 0, 0, 0, 1],\n",
    "              [0, 0, 0, 0, 0],\n",
    "              [0, 0, 0, 0, 0]])\n",
    "        \n",
    "#entry of matrix: (i,j) line i collum j, means (i-1,j-1)\n",
    "sol=solve([ eq1==m[0,1],\teq2==m[0,2],\teq3==m[0,3],\teq4==m[0,4],\t\n",
    "                                            eq5==m[1,3],    eq6==m[1,4],\n",
    "                                                            eq7==m[2,4]],d1,d2,d3,d4,d5,a12,a13,a14,a15,a23,a24,a25,a34,a35,a45, solution_dict=True)\n",
    "\n",
    "show(m)\n",
    "show(sol)\n",
    "latex(sol)"
   ]
  },
  {
   "cell_type": "code",
   "execution_count": 39,
   "metadata": {},
   "outputs": [
    {
     "data": {
      "text/html": [
       "<html><script type=\"math/tex; mode=display\">\\newcommand{\\Bold}[1]{\\mathbf{#1}}\\left(\\begin{array}{rrrrr}\n",
       "0 & 1 & 1 & 0 & 0 \\\\\n",
       "0 & 0 & 0 & 0 & 0 \\\\\n",
       "0 & 0 & 0 & 0 & 1 \\\\\n",
       "0 & 0 & 0 & 0 & 0 \\\\\n",
       "0 & 0 & 0 & 0 & 0\n",
       "\\end{array}\\right)</script></html>"
      ],
      "text/latex": [
       "$$\\newcommand{\\Bold}[1]{\\mathbf{#1}}\\left(\\begin{array}{rrrrr}\n",
       "0 & 1 & 1 & 0 & 0 \\\\\n",
       "0 & 0 & 0 & 0 & 0 \\\\\n",
       "0 & 0 & 0 & 0 & 1 \\\\\n",
       "0 & 0 & 0 & 0 & 0 \\\\\n",
       "0 & 0 & 0 & 0 & 0\n",
       "\\end{array}\\right)$$"
      ],
      "text/plain": [
       "[0 1 1 0 0]\n",
       "[0 0 0 0 0]\n",
       "[0 0 0 0 1]\n",
       "[0 0 0 0 0]\n",
       "[0 0 0 0 0]"
      ]
     },
     "metadata": {},
     "output_type": "display_data"
    },
    {
     "data": {
      "text/html": [
       "<html><script type=\"math/tex; mode=display\">\\newcommand{\\Bold}[1]{\\mathbf{#1}}\\left[\\left\\{d_{1} : r_{729}, d_{2} : \\frac{r_{729}}{x_{12}}, d_{3} : 0, d_{4} : r_{730}, d_{5} : 0, a_{12} : r_{731}, a_{13} : r_{732}, a_{14} : r_{733}, a_{15} : r_{734}, a_{23} : \\frac{r_{729}}{x_{12}}, a_{24} : r_{735}, a_{25} : r_{736}, a_{34} : -\\frac{r_{735} x_{12} + r_{730} x_{14}}{x_{13}}, a_{35} : r_{737}, a_{45} : r_{738}\\right\\}, \\left\\{d_{1} : 0, d_{2} : 0, d_{3} : 0, d_{4} : r_{739}, d_{5} : 0, a_{12} : r_{740}, a_{13} : r_{741}, a_{14} : r_{742}, a_{15} : r_{743}, a_{23} : 0, a_{24} : r_{744}, a_{25} : r_{745}, a_{34} : -\\frac{r_{744} x_{12} + r_{739} x_{14}}{x_{13}}, a_{35} : r_{746}, a_{45} : r_{747}\\right\\}, \\left\\{d_{1} : r_{748}, d_{2} : \\frac{r_{748}}{x_{12}}, d_{3} : \\frac{r_{748}}{x_{13}}, d_{4} : r_{749}, d_{5} : \\frac{r_{748}}{x_{13} x_{35}}, a_{12} : r_{750}, a_{13} : r_{751}, a_{14} : r_{752}, a_{15} : r_{753}, a_{23} : 0, a_{24} : r_{754}, a_{25} : r_{755}, a_{34} : -\\frac{r_{754} x_{12} + r_{749} x_{14}}{x_{13}}, a_{35} : r_{756}, a_{45} : -\\frac{r_{755} x_{12} + r_{756} x_{13} - r_{751}}{x_{14}}\\right\\}\\right]</script></html>"
      ],
      "text/latex": [
       "$$\\newcommand{\\Bold}[1]{\\mathbf{#1}}\\left[\\left\\{d_{1} : r_{729}, d_{2} : \\frac{r_{729}}{x_{12}}, d_{3} : 0, d_{4} : r_{730}, d_{5} : 0, a_{12} : r_{731}, a_{13} : r_{732}, a_{14} : r_{733}, a_{15} : r_{734}, a_{23} : \\frac{r_{729}}{x_{12}}, a_{24} : r_{735}, a_{25} : r_{736}, a_{34} : -\\frac{r_{735} x_{12} + r_{730} x_{14}}{x_{13}}, a_{35} : r_{737}, a_{45} : r_{738}\\right\\}, \\left\\{d_{1} : 0, d_{2} : 0, d_{3} : 0, d_{4} : r_{739}, d_{5} : 0, a_{12} : r_{740}, a_{13} : r_{741}, a_{14} : r_{742}, a_{15} : r_{743}, a_{23} : 0, a_{24} : r_{744}, a_{25} : r_{745}, a_{34} : -\\frac{r_{744} x_{12} + r_{739} x_{14}}{x_{13}}, a_{35} : r_{746}, a_{45} : r_{747}\\right\\}, \\left\\{d_{1} : r_{748}, d_{2} : \\frac{r_{748}}{x_{12}}, d_{3} : \\frac{r_{748}}{x_{13}}, d_{4} : r_{749}, d_{5} : \\frac{r_{748}}{x_{13} x_{35}}, a_{12} : r_{750}, a_{13} : r_{751}, a_{14} : r_{752}, a_{15} : r_{753}, a_{23} : 0, a_{24} : r_{754}, a_{25} : r_{755}, a_{34} : -\\frac{r_{754} x_{12} + r_{749} x_{14}}{x_{13}}, a_{35} : r_{756}, a_{45} : -\\frac{r_{755} x_{12} + r_{756} x_{13} - r_{751}}{x_{14}}\\right\\}\\right]$$"
      ],
      "text/plain": [
       "[{d1: r729,\n",
       "  d2: r729/x12,\n",
       "  d3: 0,\n",
       "  d4: r730,\n",
       "  d5: 0,\n",
       "  a12: r731,\n",
       "  a13: r732,\n",
       "  a14: r733,\n",
       "  a15: r734,\n",
       "  a23: r729/x12,\n",
       "  a24: r735,\n",
       "  a25: r736,\n",
       "  a34: -(r735*x12 + r730*x14)/x13,\n",
       "  a35: r737,\n",
       "  a45: r738},\n",
       " {d1: 0,\n",
       "  d2: 0,\n",
       "  d3: 0,\n",
       "  d4: r739,\n",
       "  d5: 0,\n",
       "  a12: r740,\n",
       "  a13: r741,\n",
       "  a14: r742,\n",
       "  a15: r743,\n",
       "  a23: 0,\n",
       "  a24: r744,\n",
       "  a25: r745,\n",
       "  a34: -(r744*x12 + r739*x14)/x13,\n",
       "  a35: r746,\n",
       "  a45: r747},\n",
       " {d1: r748,\n",
       "  d2: r748/x12,\n",
       "  d3: r748/x13,\n",
       "  d4: r749,\n",
       "  d5: r748/(x13*x35),\n",
       "  a12: r750,\n",
       "  a13: r751,\n",
       "  a14: r752,\n",
       "  a15: r753,\n",
       "  a23: 0,\n",
       "  a24: r754,\n",
       "  a25: r755,\n",
       "  a34: -(r754*x12 + r749*x14)/x13,\n",
       "  a35: r756,\n",
       "  a45: -(r755*x12 + r756*x13 - r751)/x14}]"
      ]
     },
     "metadata": {},
     "output_type": "display_data"
    },
    {
     "data": {
      "text/plain": [
       "\\left[\\left\\{d_{1} : r_{729}, d_{2} : \\frac{r_{729}}{x_{12}}, d_{3} : 0, d_{4} : r_{730}, d_{5} : 0, a_{12} : r_{731}, a_{13} : r_{732}, a_{14} : r_{733}, a_{15} : r_{734}, a_{23} : \\frac{r_{729}}{x_{12}}, a_{24} : r_{735}, a_{25} : r_{736}, a_{34} : -\\frac{r_{735} x_{12} + r_{730} x_{14}}{x_{13}}, a_{35} : r_{737}, a_{45} : r_{738}\\right\\}, \\left\\{d_{1} : 0, d_{2} : 0, d_{3} : 0, d_{4} : r_{739}, d_{5} : 0, a_{12} : r_{740}, a_{13} : r_{741}, a_{14} : r_{742}, a_{15} : r_{743}, a_{23} : 0, a_{24} : r_{744}, a_{25} : r_{745}, a_{34} : -\\frac{r_{744} x_{12} + r_{739} x_{14}}{x_{13}}, a_{35} : r_{746}, a_{45} : r_{747}\\right\\}, \\left\\{d_{1} : r_{748}, d_{2} : \\frac{r_{748}}{x_{12}}, d_{3} : \\frac{r_{748}}{x_{13}}, d_{4} : r_{749}, d_{5} : \\frac{r_{748}}{x_{13} x_{35}}, a_{12} : r_{750}, a_{13} : r_{751}, a_{14} : r_{752}, a_{15} : r_{753}, a_{23} : 0, a_{24} : r_{754}, a_{25} : r_{755}, a_{34} : -\\frac{r_{754} x_{12} + r_{749} x_{14}}{x_{13}}, a_{35} : r_{756}, a_{45} : -\\frac{r_{755} x_{12} + r_{756} x_{13} - r_{751}}{x_{14}}\\right\\}\\right]"
      ]
     },
     "execution_count": 39,
     "metadata": {},
     "output_type": "execute_result"
    }
   ],
   "source": [
    "#x2\n",
    "reset()\n",
    "\n",
    "var('x12,x13,x14,x15,x23,x24,x25,x34,x35,x45')\n",
    "var('d1,d2,d3,d4,d5')\n",
    "var('a12,a13,a14,a15,a23,a24,a25,a34,a35,a45')\n",
    "\n",
    "load_attach_path('C:\\\\Users\\\\julia\\\\Documents\\\\unb\\\\doutorado\\\\pensar\\\\codigo_sage_v2\\\\maquina\\\\x2')\n",
    "load('out_#100110.sage')\n",
    "\n",
    "m=matrix(QQ, [[0, 1, 1, 0, 0],\n",
    "              [0, 0, 0, 0, 0],\n",
    "              [0, 0, 0, 0, 1],\n",
    "              [0, 0, 0, 0, 0],\n",
    "              [0, 0, 0, 0, 0]])\n",
    "        \n",
    "#entry of matrix: (i,j) line i collum j, means (i-1,j-1)\n",
    "sol=solve([ eq1==m[0,1],\teq2==m[0,2],\teq3==m[0,3],\teq4==m[0,4],\t\n",
    "                                            eq5==m[1,3],    eq6==m[1,4],\n",
    "                                                            eq7==m[2,4]],d1,d2,d3,d4,d5,a12,a13,a14,a15,a23,a24,a25,a34,a35,a45, solution_dict=True)\n",
    "\n",
    "show(m)\n",
    "show(sol)\n",
    "latex(sol)"
   ]
  },
  {
   "cell_type": "code",
   "execution_count": 40,
   "metadata": {},
   "outputs": [
    {
     "data": {
      "text/html": [
       "<html><script type=\"math/tex; mode=display\">\\newcommand{\\Bold}[1]{\\mathbf{#1}}\\left(\\begin{array}{rrrrr}\n",
       "0 & 1 & 1 & 0 & 0 \\\\\n",
       "0 & 0 & 0 & 0 & 0 \\\\\n",
       "0 & 0 & 0 & 0 & 1 \\\\\n",
       "0 & 0 & 0 & 0 & 0 \\\\\n",
       "0 & 0 & 0 & 0 & 0\n",
       "\\end{array}\\right)</script></html>"
      ],
      "text/latex": [
       "$$\\newcommand{\\Bold}[1]{\\mathbf{#1}}\\left(\\begin{array}{rrrrr}\n",
       "0 & 1 & 1 & 0 & 0 \\\\\n",
       "0 & 0 & 0 & 0 & 0 \\\\\n",
       "0 & 0 & 0 & 0 & 1 \\\\\n",
       "0 & 0 & 0 & 0 & 0 \\\\\n",
       "0 & 0 & 0 & 0 & 0\n",
       "\\end{array}\\right)$$"
      ],
      "text/plain": [
       "[0 1 1 0 0]\n",
       "[0 0 0 0 0]\n",
       "[0 0 0 0 1]\n",
       "[0 0 0 0 0]\n",
       "[0 0 0 0 0]"
      ]
     },
     "metadata": {},
     "output_type": "display_data"
    },
    {
     "data": {
      "text/html": [
       "<html><script type=\"math/tex; mode=display\">\\newcommand{\\Bold}[1]{\\mathbf{#1}}\\left[\\left\\{d_{1} : r_{757}, d_{2} : \\frac{r_{757}}{x_{12}}, d_{3} : 0, d_{4} : r_{758}, d_{5} : 0, a_{12} : r_{759}, a_{13} : r_{760}, a_{14} : r_{761}, a_{15} : r_{762}, a_{23} : \\frac{r_{757}}{x_{12}}, a_{24} : r_{763}, a_{25} : r_{764}, a_{34} : -\\frac{r_{763} x_{12} + r_{758} x_{14}}{x_{13}}, a_{35} : r_{765}, a_{45} : r_{766}\\right\\}, \\left\\{d_{1} : 0, d_{2} : 0, d_{3} : 0, d_{4} : r_{767}, d_{5} : 0, a_{12} : r_{768}, a_{13} : r_{769}, a_{14} : r_{770}, a_{15} : r_{771}, a_{23} : 0, a_{24} : r_{772}, a_{25} : r_{773}, a_{34} : -\\frac{r_{772} x_{12} + r_{767} x_{14}}{x_{13}}, a_{35} : r_{774}, a_{45} : r_{775}\\right\\}, \\left\\{d_{1} : r_{776}, d_{2} : \\frac{r_{776}}{x_{12}}, d_{3} : \\frac{r_{776}}{x_{13}}, d_{4} : r_{777}, d_{5} : \\frac{r_{776}}{x_{13} x_{35}}, a_{12} : r_{778}, a_{13} : r_{779}, a_{14} : r_{780}, a_{15} : r_{781}, a_{23} : 0, a_{24} : r_{782}, a_{25} : r_{783}, a_{34} : -\\frac{r_{782} x_{12} + r_{777} x_{14}}{x_{13}}, a_{35} : r_{784}, a_{45} : -\\frac{r_{776} x_{15} + {\\left(r_{784} x_{13}^{2} + {\\left(r_{783} x_{12} - r_{779}\\right)} x_{13}\\right)} x_{35}}{x_{13} x_{14} x_{35}}\\right\\}\\right]</script></html>"
      ],
      "text/latex": [
       "$$\\newcommand{\\Bold}[1]{\\mathbf{#1}}\\left[\\left\\{d_{1} : r_{757}, d_{2} : \\frac{r_{757}}{x_{12}}, d_{3} : 0, d_{4} : r_{758}, d_{5} : 0, a_{12} : r_{759}, a_{13} : r_{760}, a_{14} : r_{761}, a_{15} : r_{762}, a_{23} : \\frac{r_{757}}{x_{12}}, a_{24} : r_{763}, a_{25} : r_{764}, a_{34} : -\\frac{r_{763} x_{12} + r_{758} x_{14}}{x_{13}}, a_{35} : r_{765}, a_{45} : r_{766}\\right\\}, \\left\\{d_{1} : 0, d_{2} : 0, d_{3} : 0, d_{4} : r_{767}, d_{5} : 0, a_{12} : r_{768}, a_{13} : r_{769}, a_{14} : r_{770}, a_{15} : r_{771}, a_{23} : 0, a_{24} : r_{772}, a_{25} : r_{773}, a_{34} : -\\frac{r_{772} x_{12} + r_{767} x_{14}}{x_{13}}, a_{35} : r_{774}, a_{45} : r_{775}\\right\\}, \\left\\{d_{1} : r_{776}, d_{2} : \\frac{r_{776}}{x_{12}}, d_{3} : \\frac{r_{776}}{x_{13}}, d_{4} : r_{777}, d_{5} : \\frac{r_{776}}{x_{13} x_{35}}, a_{12} : r_{778}, a_{13} : r_{779}, a_{14} : r_{780}, a_{15} : r_{781}, a_{23} : 0, a_{24} : r_{782}, a_{25} : r_{783}, a_{34} : -\\frac{r_{782} x_{12} + r_{777} x_{14}}{x_{13}}, a_{35} : r_{784}, a_{45} : -\\frac{r_{776} x_{15} + {\\left(r_{784} x_{13}^{2} + {\\left(r_{783} x_{12} - r_{779}\\right)} x_{13}\\right)} x_{35}}{x_{13} x_{14} x_{35}}\\right\\}\\right]$$"
      ],
      "text/plain": [
       "[{d1: r757,\n",
       "  d2: r757/x12,\n",
       "  d3: 0,\n",
       "  d4: r758,\n",
       "  d5: 0,\n",
       "  a12: r759,\n",
       "  a13: r760,\n",
       "  a14: r761,\n",
       "  a15: r762,\n",
       "  a23: r757/x12,\n",
       "  a24: r763,\n",
       "  a25: r764,\n",
       "  a34: -(r763*x12 + r758*x14)/x13,\n",
       "  a35: r765,\n",
       "  a45: r766},\n",
       " {d1: 0,\n",
       "  d2: 0,\n",
       "  d3: 0,\n",
       "  d4: r767,\n",
       "  d5: 0,\n",
       "  a12: r768,\n",
       "  a13: r769,\n",
       "  a14: r770,\n",
       "  a15: r771,\n",
       "  a23: 0,\n",
       "  a24: r772,\n",
       "  a25: r773,\n",
       "  a34: -(r772*x12 + r767*x14)/x13,\n",
       "  a35: r774,\n",
       "  a45: r775},\n",
       " {d1: r776,\n",
       "  d2: r776/x12,\n",
       "  d3: r776/x13,\n",
       "  d4: r777,\n",
       "  d5: r776/(x13*x35),\n",
       "  a12: r778,\n",
       "  a13: r779,\n",
       "  a14: r780,\n",
       "  a15: r781,\n",
       "  a23: 0,\n",
       "  a24: r782,\n",
       "  a25: r783,\n",
       "  a34: -(r782*x12 + r777*x14)/x13,\n",
       "  a35: r784,\n",
       "  a45: -(r776*x15 + (r784*x13^2 + (r783*x12 - r779)*x13)*x35)/(x13*x14*x35)}]"
      ]
     },
     "metadata": {},
     "output_type": "display_data"
    },
    {
     "data": {
      "text/plain": [
       "\\left[\\left\\{d_{1} : r_{757}, d_{2} : \\frac{r_{757}}{x_{12}}, d_{3} : 0, d_{4} : r_{758}, d_{5} : 0, a_{12} : r_{759}, a_{13} : r_{760}, a_{14} : r_{761}, a_{15} : r_{762}, a_{23} : \\frac{r_{757}}{x_{12}}, a_{24} : r_{763}, a_{25} : r_{764}, a_{34} : -\\frac{r_{763} x_{12} + r_{758} x_{14}}{x_{13}}, a_{35} : r_{765}, a_{45} : r_{766}\\right\\}, \\left\\{d_{1} : 0, d_{2} : 0, d_{3} : 0, d_{4} : r_{767}, d_{5} : 0, a_{12} : r_{768}, a_{13} : r_{769}, a_{14} : r_{770}, a_{15} : r_{771}, a_{23} : 0, a_{24} : r_{772}, a_{25} : r_{773}, a_{34} : -\\frac{r_{772} x_{12} + r_{767} x_{14}}{x_{13}}, a_{35} : r_{774}, a_{45} : r_{775}\\right\\}, \\left\\{d_{1} : r_{776}, d_{2} : \\frac{r_{776}}{x_{12}}, d_{3} : \\frac{r_{776}}{x_{13}}, d_{4} : r_{777}, d_{5} : \\frac{r_{776}}{x_{13} x_{35}}, a_{12} : r_{778}, a_{13} : r_{779}, a_{14} : r_{780}, a_{15} : r_{781}, a_{23} : 0, a_{24} : r_{782}, a_{25} : r_{783}, a_{34} : -\\frac{r_{782} x_{12} + r_{777} x_{14}}{x_{13}}, a_{35} : r_{784}, a_{45} : -\\frac{r_{776} x_{15} + {\\left(r_{784} x_{13}^{2} + {\\left(r_{783} x_{12} - r_{779}\\right)} x_{13}\\right)} x_{35}}{x_{13} x_{14} x_{35}}\\right\\}\\right]"
      ]
     },
     "execution_count": 40,
     "metadata": {},
     "output_type": "execute_result"
    }
   ],
   "source": [
    "#x2\n",
    "reset()\n",
    "\n",
    "var('x12,x13,x14,x15,x23,x24,x25,x34,x35,x45')\n",
    "var('d1,d2,d3,d4,d5')\n",
    "var('a12,a13,a14,a15,a23,a24,a25,a34,a35,a45')\n",
    "\n",
    "load_attach_path('C:\\\\Users\\\\julia\\\\Documents\\\\unb\\\\doutorado\\\\pensar\\\\codigo_sage_v2\\\\maquina\\\\x2')\n",
    "load('out_#100111.sage')\n",
    "\n",
    "m=matrix(QQ, [[0, 1, 1, 0, 0],\n",
    "              [0, 0, 0, 0, 0],\n",
    "              [0, 0, 0, 0, 1],\n",
    "              [0, 0, 0, 0, 0],\n",
    "              [0, 0, 0, 0, 0]])\n",
    "        \n",
    "#entry of matrix: (i,j) line i collum j, means (i-1,j-1)\n",
    "sol=solve([ eq1==m[0,1],\teq2==m[0,2],\teq3==m[0,3],\teq4==m[0,4],\t\n",
    "                                            eq5==m[1,3],    eq6==m[1,4],\n",
    "                                                            eq7==m[2,4]],d1,d2,d3,d4,d5,a12,a13,a14,a15,a23,a24,a25,a34,a35,a45, solution_dict=True)\n",
    "\n",
    "show(m)\n",
    "show(sol)\n",
    "latex(sol)"
   ]
  },
  {
   "cell_type": "code",
   "execution_count": 5,
   "metadata": {},
   "outputs": [
    {
     "data": {
      "text/html": [
       "<html><script type=\"math/tex; mode=display\">\\newcommand{\\Bold}[1]{\\mathbf{#1}}\\left(\\begin{array}{rrrrr}\n",
       "0 & 1 & 1 & 0 & 0 \\\\\n",
       "0 & 0 & 0 & 0 & 0 \\\\\n",
       "0 & 0 & 0 & 0 & 1 \\\\\n",
       "0 & 0 & 0 & 0 & 0 \\\\\n",
       "0 & 0 & 0 & 0 & 0\n",
       "\\end{array}\\right)</script></html>"
      ],
      "text/latex": [
       "$$\\newcommand{\\Bold}[1]{\\mathbf{#1}}\\left(\\begin{array}{rrrrr}\n",
       "0 & 1 & 1 & 0 & 0 \\\\\n",
       "0 & 0 & 0 & 0 & 0 \\\\\n",
       "0 & 0 & 0 & 0 & 1 \\\\\n",
       "0 & 0 & 0 & 0 & 0 \\\\\n",
       "0 & 0 & 0 & 0 & 0\n",
       "\\end{array}\\right)$$"
      ],
      "text/plain": [
       "[0 1 1 0 0]\n",
       "[0 0 0 0 0]\n",
       "[0 0 0 0 1]\n",
       "[0 0 0 0 0]\n",
       "[0 0 0 0 0]"
      ]
     },
     "metadata": {},
     "output_type": "display_data"
    },
    {
     "data": {
      "text/html": [
       "<html><script type=\"math/tex; mode=display\">\\newcommand{\\Bold}[1]{\\mathbf{#1}}\\left[\\left\\{d_{1} : r_{61}, d_{2} : \\frac{r_{61}}{x_{12}}, d_{3} : 0, d_{4} : r_{62}, d_{5} : 0, a_{12} : r_{63}, a_{13} : r_{64}, a_{14} : r_{65}, a_{15} : r_{66}, a_{23} : \\frac{r_{61}}{x_{12}}, a_{24} : 0, a_{25} : r_{67}, a_{34} : r_{68}, a_{35} : r_{69}, a_{45} : r_{70}\\right\\}, \\left\\{d_{1} : 0, d_{2} : 0, d_{3} : 0, d_{4} : r_{71}, d_{5} : 0, a_{12} : r_{72}, a_{13} : r_{73}, a_{14} : r_{74}, a_{15} : r_{75}, a_{23} : 0, a_{24} : 0, a_{25} : r_{76}, a_{34} : r_{77}, a_{35} : r_{78}, a_{45} : r_{79}\\right\\}, \\left\\{d_{1} : r_{80}, d_{2} : \\frac{r_{80}}{x_{12}}, d_{3} : \\frac{r_{80} x_{35}}{x_{12} x_{25}}, d_{4} : r_{81}, d_{5} : \\frac{r_{80}}{x_{12} x_{25}}, a_{12} : r_{82}, a_{13} : r_{83}, a_{14} : r_{84}, a_{15} : r_{85}, a_{23} : \\frac{r_{80}}{x_{12}}, a_{24} : 0, a_{25} : \\frac{r_{83}}{x_{12}}, a_{34} : r_{86}, a_{35} : r_{87}, a_{45} : r_{88}\\right\\}\\right]</script></html>"
      ],
      "text/latex": [
       "$$\\newcommand{\\Bold}[1]{\\mathbf{#1}}\\left[\\left\\{d_{1} : r_{61}, d_{2} : \\frac{r_{61}}{x_{12}}, d_{3} : 0, d_{4} : r_{62}, d_{5} : 0, a_{12} : r_{63}, a_{13} : r_{64}, a_{14} : r_{65}, a_{15} : r_{66}, a_{23} : \\frac{r_{61}}{x_{12}}, a_{24} : 0, a_{25} : r_{67}, a_{34} : r_{68}, a_{35} : r_{69}, a_{45} : r_{70}\\right\\}, \\left\\{d_{1} : 0, d_{2} : 0, d_{3} : 0, d_{4} : r_{71}, d_{5} : 0, a_{12} : r_{72}, a_{13} : r_{73}, a_{14} : r_{74}, a_{15} : r_{75}, a_{23} : 0, a_{24} : 0, a_{25} : r_{76}, a_{34} : r_{77}, a_{35} : r_{78}, a_{45} : r_{79}\\right\\}, \\left\\{d_{1} : r_{80}, d_{2} : \\frac{r_{80}}{x_{12}}, d_{3} : \\frac{r_{80} x_{35}}{x_{12} x_{25}}, d_{4} : r_{81}, d_{5} : \\frac{r_{80}}{x_{12} x_{25}}, a_{12} : r_{82}, a_{13} : r_{83}, a_{14} : r_{84}, a_{15} : r_{85}, a_{23} : \\frac{r_{80}}{x_{12}}, a_{24} : 0, a_{25} : \\frac{r_{83}}{x_{12}}, a_{34} : r_{86}, a_{35} : r_{87}, a_{45} : r_{88}\\right\\}\\right]$$"
      ],
      "text/plain": [
       "[{d1: r61,\n",
       "  d2: r61/x12,\n",
       "  d3: 0,\n",
       "  d4: r62,\n",
       "  d5: 0,\n",
       "  a12: r63,\n",
       "  a13: r64,\n",
       "  a14: r65,\n",
       "  a15: r66,\n",
       "  a23: r61/x12,\n",
       "  a24: 0,\n",
       "  a25: r67,\n",
       "  a34: r68,\n",
       "  a35: r69,\n",
       "  a45: r70},\n",
       " {d1: 0,\n",
       "  d2: 0,\n",
       "  d3: 0,\n",
       "  d4: r71,\n",
       "  d5: 0,\n",
       "  a12: r72,\n",
       "  a13: r73,\n",
       "  a14: r74,\n",
       "  a15: r75,\n",
       "  a23: 0,\n",
       "  a24: 0,\n",
       "  a25: r76,\n",
       "  a34: r77,\n",
       "  a35: r78,\n",
       "  a45: r79},\n",
       " {d1: r80,\n",
       "  d2: r80/x12,\n",
       "  d3: r80*x35/(x12*x25),\n",
       "  d4: r81,\n",
       "  d5: r80/(x12*x25),\n",
       "  a12: r82,\n",
       "  a13: r83,\n",
       "  a14: r84,\n",
       "  a15: r85,\n",
       "  a23: r80/x12,\n",
       "  a24: 0,\n",
       "  a25: r83/x12,\n",
       "  a34: r86,\n",
       "  a35: r87,\n",
       "  a45: r88}]"
      ]
     },
     "metadata": {},
     "output_type": "display_data"
    },
    {
     "data": {
      "text/plain": [
       "\\left[\\left\\{d_{1} : r_{61}, d_{2} : \\frac{r_{61}}{x_{12}}, d_{3} : 0, d_{4} : r_{62}, d_{5} : 0, a_{12} : r_{63}, a_{13} : r_{64}, a_{14} : r_{65}, a_{15} : r_{66}, a_{23} : \\frac{r_{61}}{x_{12}}, a_{24} : 0, a_{25} : r_{67}, a_{34} : r_{68}, a_{35} : r_{69}, a_{45} : r_{70}\\right\\}, \\left\\{d_{1} : 0, d_{2} : 0, d_{3} : 0, d_{4} : r_{71}, d_{5} : 0, a_{12} : r_{72}, a_{13} : r_{73}, a_{14} : r_{74}, a_{15} : r_{75}, a_{23} : 0, a_{24} : 0, a_{25} : r_{76}, a_{34} : r_{77}, a_{35} : r_{78}, a_{45} : r_{79}\\right\\}, \\left\\{d_{1} : r_{80}, d_{2} : \\frac{r_{80}}{x_{12}}, d_{3} : \\frac{r_{80} x_{35}}{x_{12} x_{25}}, d_{4} : r_{81}, d_{5} : \\frac{r_{80}}{x_{12} x_{25}}, a_{12} : r_{82}, a_{13} : r_{83}, a_{14} : r_{84}, a_{15} : r_{85}, a_{23} : \\frac{r_{80}}{x_{12}}, a_{24} : 0, a_{25} : \\frac{r_{83}}{x_{12}}, a_{34} : r_{86}, a_{35} : r_{87}, a_{45} : r_{88}\\right\\}\\right]"
      ]
     },
     "execution_count": 5,
     "metadata": {},
     "output_type": "execute_result"
    }
   ],
   "source": [
    "#x2\n",
    "reset()\n",
    "\n",
    "var('x12,x13,x14,x15,x23,x24,x25,x34,x35,x45')\n",
    "var('d1,d2,d3,d4,d5')\n",
    "var('a12,a13,a14,a15,a23,a24,a25,a34,a35,a45')\n",
    "\n",
    "load_attach_path('C:\\\\Users\\\\julia\\\\Documents\\\\unb\\\\doutorado\\\\pensar\\\\codigo_sage_v2\\\\maquina\\\\x2')\n",
    "load('out_#101000.sage')\n",
    "\n",
    "m=matrix(QQ, [[0, 1, 1, 0, 0],\n",
    "              [0, 0, 0, 0, 0],\n",
    "              [0, 0, 0, 0, 1],\n",
    "              [0, 0, 0, 0, 0],\n",
    "              [0, 0, 0, 0, 0]])\n",
    "        \n",
    "#entry of matrix: (i,j) line i collum j, means (i-1,j-1)\n",
    "sol=solve([ eq1==m[0,1],\teq2==m[0,2],\teq3==m[0,3],\teq4==m[0,4],\t\n",
    "                                            eq5==m[1,3],    eq6==m[1,4],\n",
    "                                                            eq7==m[2,4]],d1,d2,d3,d4,d5,a12,a13,a14,a15,a23,a24,a25,a34,a35,a45, solution_dict=True)\n",
    "\n",
    "show(m)\n",
    "show(sol)\n",
    "latex(sol)"
   ]
  },
  {
   "cell_type": "code",
   "execution_count": 6,
   "metadata": {},
   "outputs": [
    {
     "data": {
      "text/html": [
       "<html><script type=\"math/tex; mode=display\">\\newcommand{\\Bold}[1]{\\mathbf{#1}}\\left(\\begin{array}{rrrrr}\n",
       "0 & 1 & 1 & 0 & 0 \\\\\n",
       "0 & 0 & 0 & 0 & 0 \\\\\n",
       "0 & 0 & 0 & 0 & 1 \\\\\n",
       "0 & 0 & 0 & 0 & 0 \\\\\n",
       "0 & 0 & 0 & 0 & 0\n",
       "\\end{array}\\right)</script></html>"
      ],
      "text/latex": [
       "$$\\newcommand{\\Bold}[1]{\\mathbf{#1}}\\left(\\begin{array}{rrrrr}\n",
       "0 & 1 & 1 & 0 & 0 \\\\\n",
       "0 & 0 & 0 & 0 & 0 \\\\\n",
       "0 & 0 & 0 & 0 & 1 \\\\\n",
       "0 & 0 & 0 & 0 & 0 \\\\\n",
       "0 & 0 & 0 & 0 & 0\n",
       "\\end{array}\\right)$$"
      ],
      "text/plain": [
       "[0 1 1 0 0]\n",
       "[0 0 0 0 0]\n",
       "[0 0 0 0 1]\n",
       "[0 0 0 0 0]\n",
       "[0 0 0 0 0]"
      ]
     },
     "metadata": {},
     "output_type": "display_data"
    },
    {
     "data": {
      "text/html": [
       "<html><script type=\"math/tex; mode=display\">\\newcommand{\\Bold}[1]{\\mathbf{#1}}\\left[\\left\\{d_{1} : r_{89}, d_{2} : \\frac{r_{89}}{x_{12}}, d_{3} : 0, d_{4} : r_{90}, d_{5} : 0, a_{12} : r_{91}, a_{13} : r_{92}, a_{14} : r_{93}, a_{15} : r_{94}, a_{23} : \\frac{r_{89}}{x_{12}}, a_{24} : 0, a_{25} : r_{95}, a_{34} : r_{96}, a_{35} : r_{97}, a_{45} : r_{98}\\right\\}, \\left\\{d_{1} : 0, d_{2} : 0, d_{3} : 0, d_{4} : r_{99}, d_{5} : 0, a_{12} : r_{100}, a_{13} : r_{101}, a_{14} : r_{102}, a_{15} : r_{103}, a_{23} : 0, a_{24} : 0, a_{25} : r_{104}, a_{34} : r_{105}, a_{35} : r_{106}, a_{45} : r_{107}\\right\\}, \\left\\{d_{1} : r_{108}, d_{2} : \\frac{r_{108}}{x_{12}}, d_{3} : \\frac{r_{108} x_{35}}{x_{12} x_{25}}, d_{4} : r_{109}, d_{5} : \\frac{r_{108}}{x_{12} x_{25}}, a_{12} : r_{110}, a_{13} : r_{111}, a_{14} : r_{112}, a_{15} : r_{113}, a_{23} : \\frac{r_{108}}{x_{12}}, a_{24} : 0, a_{25} : \\frac{r_{111} x_{12} x_{25} - r_{108} x_{15}}{x_{12}^{2} x_{25}}, a_{34} : r_{114}, a_{35} : r_{115}, a_{45} : r_{116}\\right\\}\\right]</script></html>"
      ],
      "text/latex": [
       "$$\\newcommand{\\Bold}[1]{\\mathbf{#1}}\\left[\\left\\{d_{1} : r_{89}, d_{2} : \\frac{r_{89}}{x_{12}}, d_{3} : 0, d_{4} : r_{90}, d_{5} : 0, a_{12} : r_{91}, a_{13} : r_{92}, a_{14} : r_{93}, a_{15} : r_{94}, a_{23} : \\frac{r_{89}}{x_{12}}, a_{24} : 0, a_{25} : r_{95}, a_{34} : r_{96}, a_{35} : r_{97}, a_{45} : r_{98}\\right\\}, \\left\\{d_{1} : 0, d_{2} : 0, d_{3} : 0, d_{4} : r_{99}, d_{5} : 0, a_{12} : r_{100}, a_{13} : r_{101}, a_{14} : r_{102}, a_{15} : r_{103}, a_{23} : 0, a_{24} : 0, a_{25} : r_{104}, a_{34} : r_{105}, a_{35} : r_{106}, a_{45} : r_{107}\\right\\}, \\left\\{d_{1} : r_{108}, d_{2} : \\frac{r_{108}}{x_{12}}, d_{3} : \\frac{r_{108} x_{35}}{x_{12} x_{25}}, d_{4} : r_{109}, d_{5} : \\frac{r_{108}}{x_{12} x_{25}}, a_{12} : r_{110}, a_{13} : r_{111}, a_{14} : r_{112}, a_{15} : r_{113}, a_{23} : \\frac{r_{108}}{x_{12}}, a_{24} : 0, a_{25} : \\frac{r_{111} x_{12} x_{25} - r_{108} x_{15}}{x_{12}^{2} x_{25}}, a_{34} : r_{114}, a_{35} : r_{115}, a_{45} : r_{116}\\right\\}\\right]$$"
      ],
      "text/plain": [
       "[{d1: r89,\n",
       "  d2: r89/x12,\n",
       "  d3: 0,\n",
       "  d4: r90,\n",
       "  d5: 0,\n",
       "  a12: r91,\n",
       "  a13: r92,\n",
       "  a14: r93,\n",
       "  a15: r94,\n",
       "  a23: r89/x12,\n",
       "  a24: 0,\n",
       "  a25: r95,\n",
       "  a34: r96,\n",
       "  a35: r97,\n",
       "  a45: r98},\n",
       " {d1: 0,\n",
       "  d2: 0,\n",
       "  d3: 0,\n",
       "  d4: r99,\n",
       "  d5: 0,\n",
       "  a12: r100,\n",
       "  a13: r101,\n",
       "  a14: r102,\n",
       "  a15: r103,\n",
       "  a23: 0,\n",
       "  a24: 0,\n",
       "  a25: r104,\n",
       "  a34: r105,\n",
       "  a35: r106,\n",
       "  a45: r107},\n",
       " {d1: r108,\n",
       "  d2: r108/x12,\n",
       "  d3: r108*x35/(x12*x25),\n",
       "  d4: r109,\n",
       "  d5: r108/(x12*x25),\n",
       "  a12: r110,\n",
       "  a13: r111,\n",
       "  a14: r112,\n",
       "  a15: r113,\n",
       "  a23: r108/x12,\n",
       "  a24: 0,\n",
       "  a25: (r111*x12*x25 - r108*x15)/(x12^2*x25),\n",
       "  a34: r114,\n",
       "  a35: r115,\n",
       "  a45: r116}]"
      ]
     },
     "metadata": {},
     "output_type": "display_data"
    },
    {
     "data": {
      "text/plain": [
       "\\left[\\left\\{d_{1} : r_{89}, d_{2} : \\frac{r_{89}}{x_{12}}, d_{3} : 0, d_{4} : r_{90}, d_{5} : 0, a_{12} : r_{91}, a_{13} : r_{92}, a_{14} : r_{93}, a_{15} : r_{94}, a_{23} : \\frac{r_{89}}{x_{12}}, a_{24} : 0, a_{25} : r_{95}, a_{34} : r_{96}, a_{35} : r_{97}, a_{45} : r_{98}\\right\\}, \\left\\{d_{1} : 0, d_{2} : 0, d_{3} : 0, d_{4} : r_{99}, d_{5} : 0, a_{12} : r_{100}, a_{13} : r_{101}, a_{14} : r_{102}, a_{15} : r_{103}, a_{23} : 0, a_{24} : 0, a_{25} : r_{104}, a_{34} : r_{105}, a_{35} : r_{106}, a_{45} : r_{107}\\right\\}, \\left\\{d_{1} : r_{108}, d_{2} : \\frac{r_{108}}{x_{12}}, d_{3} : \\frac{r_{108} x_{35}}{x_{12} x_{25}}, d_{4} : r_{109}, d_{5} : \\frac{r_{108}}{x_{12} x_{25}}, a_{12} : r_{110}, a_{13} : r_{111}, a_{14} : r_{112}, a_{15} : r_{113}, a_{23} : \\frac{r_{108}}{x_{12}}, a_{24} : 0, a_{25} : \\frac{r_{111} x_{12} x_{25} - r_{108} x_{15}}{x_{12}^{2} x_{25}}, a_{34} : r_{114}, a_{35} : r_{115}, a_{45} : r_{116}\\right\\}\\right]"
      ]
     },
     "execution_count": 6,
     "metadata": {},
     "output_type": "execute_result"
    }
   ],
   "source": [
    "#x2\n",
    "reset()\n",
    "\n",
    "var('x12,x13,x14,x15,x23,x24,x25,x34,x35,x45')\n",
    "var('d1,d2,d3,d4,d5')\n",
    "var('a12,a13,a14,a15,a23,a24,a25,a34,a35,a45')\n",
    "\n",
    "load_attach_path('C:\\\\Users\\\\julia\\\\Documents\\\\unb\\\\doutorado\\\\pensar\\\\codigo_sage_v2\\\\maquina\\\\x2')\n",
    "load('out_#101001.sage')\n",
    "\n",
    "m=matrix(QQ, [[0, 1, 1, 0, 0],\n",
    "              [0, 0, 0, 0, 0],\n",
    "              [0, 0, 0, 0, 1],\n",
    "              [0, 0, 0, 0, 0],\n",
    "              [0, 0, 0, 0, 0]])\n",
    "        \n",
    "#entry of matrix: (i,j) line i collum j, means (i-1,j-1)\n",
    "sol=solve([ eq1==m[0,1],\teq2==m[0,2],\teq3==m[0,3],\teq4==m[0,4],\t\n",
    "                                            eq5==m[1,3],    eq6==m[1,4],\n",
    "                                                            eq7==m[2,4]],d1,d2,d3,d4,d5,a12,a13,a14,a15,a23,a24,a25,a34,a35,a45, solution_dict=True)\n",
    "\n",
    "show(m)\n",
    "show(sol)\n",
    "latex(sol)"
   ]
  },
  {
   "cell_type": "code",
   "execution_count": 3,
   "metadata": {},
   "outputs": [
    {
     "data": {
      "text/html": [
       "<html><script type=\"math/tex; mode=display\">\\newcommand{\\Bold}[1]{\\mathbf{#1}}\\left(\\begin{array}{rrrrr}\n",
       "0 & 1 & 1 & 0 & 0 \\\\\n",
       "0 & 0 & 0 & 0 & 0 \\\\\n",
       "0 & 0 & 0 & 0 & 1 \\\\\n",
       "0 & 0 & 0 & 0 & 0 \\\\\n",
       "0 & 0 & 0 & 0 & 0\n",
       "\\end{array}\\right)</script></html>"
      ],
      "text/latex": [
       "$$\\newcommand{\\Bold}[1]{\\mathbf{#1}}\\left(\\begin{array}{rrrrr}\n",
       "0 & 1 & 1 & 0 & 0 \\\\\n",
       "0 & 0 & 0 & 0 & 0 \\\\\n",
       "0 & 0 & 0 & 0 & 1 \\\\\n",
       "0 & 0 & 0 & 0 & 0 \\\\\n",
       "0 & 0 & 0 & 0 & 0\n",
       "\\end{array}\\right)$$"
      ],
      "text/plain": [
       "[0 1 1 0 0]\n",
       "[0 0 0 0 0]\n",
       "[0 0 0 0 1]\n",
       "[0 0 0 0 0]\n",
       "[0 0 0 0 0]"
      ]
     },
     "metadata": {},
     "output_type": "display_data"
    },
    {
     "data": {
      "text/html": [
       "<html><script type=\"math/tex; mode=display\">\\newcommand{\\Bold}[1]{\\mathbf{#1}}\\left[\\left\\{d_{1} : r_{30}, d_{2} : \\frac{r_{30}}{x_{12}}, d_{3} : 0, d_{4} : r_{31}, d_{5} : 0, a_{12} : r_{32}, a_{13} : r_{33}, a_{14} : r_{34}, a_{15} : r_{35}, a_{23} : \\frac{r_{30}}{x_{12}}, a_{24} : -\\frac{r_{31} x_{14}}{x_{12}}, a_{25} : r_{36}, a_{34} : r_{37}, a_{35} : r_{38}, a_{45} : r_{39}\\right\\}, \\left\\{d_{1} : 0, d_{2} : 0, d_{3} : 0, d_{4} : r_{40}, d_{5} : 0, a_{12} : r_{41}, a_{13} : r_{42}, a_{14} : r_{43}, a_{15} : r_{44}, a_{23} : 0, a_{24} : -\\frac{r_{40} x_{14}}{x_{12}}, a_{25} : r_{45}, a_{34} : r_{46}, a_{35} : r_{47}, a_{45} : r_{48}\\right\\}, \\left\\{d_{1} : r_{49}, d_{2} : \\frac{r_{49}}{x_{12}}, d_{3} : \\frac{r_{49} x_{35}}{x_{12} x_{25}}, d_{4} : r_{50}, d_{5} : \\frac{r_{49}}{x_{12} x_{25}}, a_{12} : r_{51}, a_{13} : r_{52}, a_{14} : r_{53}, a_{15} : r_{54}, a_{23} : \\frac{r_{49}}{x_{12}}, a_{24} : -\\frac{r_{50} x_{14}}{x_{12}}, a_{25} : r_{55}, a_{34} : r_{56}, a_{35} : r_{57}, a_{45} : -\\frac{r_{55} x_{12} - r_{52}}{x_{14}}\\right\\}\\right]</script></html>"
      ],
      "text/latex": [
       "$$\\newcommand{\\Bold}[1]{\\mathbf{#1}}\\left[\\left\\{d_{1} : r_{30}, d_{2} : \\frac{r_{30}}{x_{12}}, d_{3} : 0, d_{4} : r_{31}, d_{5} : 0, a_{12} : r_{32}, a_{13} : r_{33}, a_{14} : r_{34}, a_{15} : r_{35}, a_{23} : \\frac{r_{30}}{x_{12}}, a_{24} : -\\frac{r_{31} x_{14}}{x_{12}}, a_{25} : r_{36}, a_{34} : r_{37}, a_{35} : r_{38}, a_{45} : r_{39}\\right\\}, \\left\\{d_{1} : 0, d_{2} : 0, d_{3} : 0, d_{4} : r_{40}, d_{5} : 0, a_{12} : r_{41}, a_{13} : r_{42}, a_{14} : r_{43}, a_{15} : r_{44}, a_{23} : 0, a_{24} : -\\frac{r_{40} x_{14}}{x_{12}}, a_{25} : r_{45}, a_{34} : r_{46}, a_{35} : r_{47}, a_{45} : r_{48}\\right\\}, \\left\\{d_{1} : r_{49}, d_{2} : \\frac{r_{49}}{x_{12}}, d_{3} : \\frac{r_{49} x_{35}}{x_{12} x_{25}}, d_{4} : r_{50}, d_{5} : \\frac{r_{49}}{x_{12} x_{25}}, a_{12} : r_{51}, a_{13} : r_{52}, a_{14} : r_{53}, a_{15} : r_{54}, a_{23} : \\frac{r_{49}}{x_{12}}, a_{24} : -\\frac{r_{50} x_{14}}{x_{12}}, a_{25} : r_{55}, a_{34} : r_{56}, a_{35} : r_{57}, a_{45} : -\\frac{r_{55} x_{12} - r_{52}}{x_{14}}\\right\\}\\right]$$"
      ],
      "text/plain": [
       "[{d1: r30,\n",
       "  d2: r30/x12,\n",
       "  d3: 0,\n",
       "  d4: r31,\n",
       "  d5: 0,\n",
       "  a12: r32,\n",
       "  a13: r33,\n",
       "  a14: r34,\n",
       "  a15: r35,\n",
       "  a23: r30/x12,\n",
       "  a24: -r31*x14/x12,\n",
       "  a25: r36,\n",
       "  a34: r37,\n",
       "  a35: r38,\n",
       "  a45: r39},\n",
       " {d1: 0,\n",
       "  d2: 0,\n",
       "  d3: 0,\n",
       "  d4: r40,\n",
       "  d5: 0,\n",
       "  a12: r41,\n",
       "  a13: r42,\n",
       "  a14: r43,\n",
       "  a15: r44,\n",
       "  a23: 0,\n",
       "  a24: -r40*x14/x12,\n",
       "  a25: r45,\n",
       "  a34: r46,\n",
       "  a35: r47,\n",
       "  a45: r48},\n",
       " {d1: r49,\n",
       "  d2: r49/x12,\n",
       "  d3: r49*x35/(x12*x25),\n",
       "  d4: r50,\n",
       "  d5: r49/(x12*x25),\n",
       "  a12: r51,\n",
       "  a13: r52,\n",
       "  a14: r53,\n",
       "  a15: r54,\n",
       "  a23: r49/x12,\n",
       "  a24: -r50*x14/x12,\n",
       "  a25: r55,\n",
       "  a34: r56,\n",
       "  a35: r57,\n",
       "  a45: -(r55*x12 - r52)/x14}]"
      ]
     },
     "metadata": {},
     "output_type": "display_data"
    },
    {
     "data": {
      "text/plain": [
       "\\left[\\left\\{d_{1} : r_{30}, d_{2} : \\frac{r_{30}}{x_{12}}, d_{3} : 0, d_{4} : r_{31}, d_{5} : 0, a_{12} : r_{32}, a_{13} : r_{33}, a_{14} : r_{34}, a_{15} : r_{35}, a_{23} : \\frac{r_{30}}{x_{12}}, a_{24} : -\\frac{r_{31} x_{14}}{x_{12}}, a_{25} : r_{36}, a_{34} : r_{37}, a_{35} : r_{38}, a_{45} : r_{39}\\right\\}, \\left\\{d_{1} : 0, d_{2} : 0, d_{3} : 0, d_{4} : r_{40}, d_{5} : 0, a_{12} : r_{41}, a_{13} : r_{42}, a_{14} : r_{43}, a_{15} : r_{44}, a_{23} : 0, a_{24} : -\\frac{r_{40} x_{14}}{x_{12}}, a_{25} : r_{45}, a_{34} : r_{46}, a_{35} : r_{47}, a_{45} : r_{48}\\right\\}, \\left\\{d_{1} : r_{49}, d_{2} : \\frac{r_{49}}{x_{12}}, d_{3} : \\frac{r_{49} x_{35}}{x_{12} x_{25}}, d_{4} : r_{50}, d_{5} : \\frac{r_{49}}{x_{12} x_{25}}, a_{12} : r_{51}, a_{13} : r_{52}, a_{14} : r_{53}, a_{15} : r_{54}, a_{23} : \\frac{r_{49}}{x_{12}}, a_{24} : -\\frac{r_{50} x_{14}}{x_{12}}, a_{25} : r_{55}, a_{34} : r_{56}, a_{35} : r_{57}, a_{45} : -\\frac{r_{55} x_{12} - r_{52}}{x_{14}}\\right\\}\\right]"
      ]
     },
     "execution_count": 3,
     "metadata": {},
     "output_type": "execute_result"
    }
   ],
   "source": [
    "#x2\n",
    "reset()\n",
    "\n",
    "var('x12,x13,x14,x15,x23,x24,x25,x34,x35,x45')\n",
    "var('d1,d2,d3,d4,d5')\n",
    "var('a12,a13,a14,a15,a23,a24,a25,a34,a35,a45')\n",
    "\n",
    "load_attach_path('C:\\\\Users\\\\julia\\\\Documents\\\\unb\\\\doutorado\\\\pensar\\\\codigo_sage_v2\\\\maquina\\\\x2')\n",
    "load('out_#101010.sage')\n",
    "\n",
    "m=matrix(QQ, [[0, 1, 1, 0, 0],\n",
    "              [0, 0, 0, 0, 0],\n",
    "              [0, 0, 0, 0, 1],\n",
    "              [0, 0, 0, 0, 0],\n",
    "              [0, 0, 0, 0, 0]])\n",
    "        \n",
    "#entry of matrix: (i,j) line i collum j, means (i-1,j-1)\n",
    "sol=solve([ eq1==m[0,1],\teq2==m[0,2],\teq3==m[0,3],\teq4==m[0,4],\t\n",
    "                                            eq5==m[1,3],    eq6==m[1,4],\n",
    "                                                            eq7==m[2,4]],d1,d2,d3,d4,d5,a12,a13,a14,a15,a23,a24,a25,a34,a35,a45, solution_dict=True)\n",
    "\n",
    "show(m)\n",
    "show(sol)\n",
    "latex(sol)"
   ]
  },
  {
   "cell_type": "code",
   "execution_count": 4,
   "metadata": {},
   "outputs": [
    {
     "data": {
      "text/html": [
       "<html><script type=\"math/tex; mode=display\">\\newcommand{\\Bold}[1]{\\mathbf{#1}}\\left(\\begin{array}{rrrrr}\n",
       "0 & 1 & 1 & 0 & 0 \\\\\n",
       "0 & 0 & 0 & 0 & 0 \\\\\n",
       "0 & 0 & 0 & 0 & 1 \\\\\n",
       "0 & 0 & 0 & 0 & 0 \\\\\n",
       "0 & 0 & 0 & 0 & 0\n",
       "\\end{array}\\right)</script></html>"
      ],
      "text/latex": [
       "$$\\newcommand{\\Bold}[1]{\\mathbf{#1}}\\left(\\begin{array}{rrrrr}\n",
       "0 & 1 & 1 & 0 & 0 \\\\\n",
       "0 & 0 & 0 & 0 & 0 \\\\\n",
       "0 & 0 & 0 & 0 & 1 \\\\\n",
       "0 & 0 & 0 & 0 & 0 \\\\\n",
       "0 & 0 & 0 & 0 & 0\n",
       "\\end{array}\\right)$$"
      ],
      "text/plain": [
       "[0 1 1 0 0]\n",
       "[0 0 0 0 0]\n",
       "[0 0 0 0 1]\n",
       "[0 0 0 0 0]\n",
       "[0 0 0 0 0]"
      ]
     },
     "metadata": {},
     "output_type": "display_data"
    },
    {
     "data": {
      "text/html": [
       "<html><script type=\"math/tex; mode=display\">\\newcommand{\\Bold}[1]{\\mathbf{#1}}\\left[\\left\\{d_{1} : r_{58}, d_{2} : \\frac{r_{58}}{x_{12}}, d_{3} : 0, d_{4} : r_{59}, d_{5} : 0, a_{12} : r_{60}, a_{13} : r_{61}, a_{14} : r_{62}, a_{15} : r_{63}, a_{23} : \\frac{r_{58}}{x_{12}}, a_{24} : -\\frac{r_{59} x_{14}}{x_{12}}, a_{25} : r_{64}, a_{34} : r_{65}, a_{35} : r_{66}, a_{45} : r_{67}\\right\\}, \\left\\{d_{1} : 0, d_{2} : 0, d_{3} : 0, d_{4} : r_{68}, d_{5} : 0, a_{12} : r_{69}, a_{13} : r_{70}, a_{14} : r_{71}, a_{15} : r_{72}, a_{23} : 0, a_{24} : -\\frac{r_{68} x_{14}}{x_{12}}, a_{25} : r_{73}, a_{34} : r_{74}, a_{35} : r_{75}, a_{45} : r_{76}\\right\\}, \\left\\{d_{1} : r_{77}, d_{2} : \\frac{r_{77}}{x_{12}}, d_{3} : \\frac{r_{77} x_{35}}{x_{12} x_{25}}, d_{4} : r_{78}, d_{5} : \\frac{r_{77}}{x_{12} x_{25}}, a_{12} : r_{79}, a_{13} : r_{80}, a_{14} : r_{81}, a_{15} : r_{82}, a_{23} : \\frac{r_{77}}{x_{12}}, a_{24} : -\\frac{r_{78} x_{14}}{x_{12}}, a_{25} : r_{83}, a_{34} : r_{84}, a_{35} : r_{85}, a_{45} : -\\frac{r_{77} x_{15} + {\\left(r_{83} x_{12}^{2} - r_{80} x_{12}\\right)} x_{25}}{x_{12} x_{14} x_{25}}\\right\\}\\right]</script></html>"
      ],
      "text/latex": [
       "$$\\newcommand{\\Bold}[1]{\\mathbf{#1}}\\left[\\left\\{d_{1} : r_{58}, d_{2} : \\frac{r_{58}}{x_{12}}, d_{3} : 0, d_{4} : r_{59}, d_{5} : 0, a_{12} : r_{60}, a_{13} : r_{61}, a_{14} : r_{62}, a_{15} : r_{63}, a_{23} : \\frac{r_{58}}{x_{12}}, a_{24} : -\\frac{r_{59} x_{14}}{x_{12}}, a_{25} : r_{64}, a_{34} : r_{65}, a_{35} : r_{66}, a_{45} : r_{67}\\right\\}, \\left\\{d_{1} : 0, d_{2} : 0, d_{3} : 0, d_{4} : r_{68}, d_{5} : 0, a_{12} : r_{69}, a_{13} : r_{70}, a_{14} : r_{71}, a_{15} : r_{72}, a_{23} : 0, a_{24} : -\\frac{r_{68} x_{14}}{x_{12}}, a_{25} : r_{73}, a_{34} : r_{74}, a_{35} : r_{75}, a_{45} : r_{76}\\right\\}, \\left\\{d_{1} : r_{77}, d_{2} : \\frac{r_{77}}{x_{12}}, d_{3} : \\frac{r_{77} x_{35}}{x_{12} x_{25}}, d_{4} : r_{78}, d_{5} : \\frac{r_{77}}{x_{12} x_{25}}, a_{12} : r_{79}, a_{13} : r_{80}, a_{14} : r_{81}, a_{15} : r_{82}, a_{23} : \\frac{r_{77}}{x_{12}}, a_{24} : -\\frac{r_{78} x_{14}}{x_{12}}, a_{25} : r_{83}, a_{34} : r_{84}, a_{35} : r_{85}, a_{45} : -\\frac{r_{77} x_{15} + {\\left(r_{83} x_{12}^{2} - r_{80} x_{12}\\right)} x_{25}}{x_{12} x_{14} x_{25}}\\right\\}\\right]$$"
      ],
      "text/plain": [
       "[{d1: r58,\n",
       "  d2: r58/x12,\n",
       "  d3: 0,\n",
       "  d4: r59,\n",
       "  d5: 0,\n",
       "  a12: r60,\n",
       "  a13: r61,\n",
       "  a14: r62,\n",
       "  a15: r63,\n",
       "  a23: r58/x12,\n",
       "  a24: -r59*x14/x12,\n",
       "  a25: r64,\n",
       "  a34: r65,\n",
       "  a35: r66,\n",
       "  a45: r67},\n",
       " {d1: 0,\n",
       "  d2: 0,\n",
       "  d3: 0,\n",
       "  d4: r68,\n",
       "  d5: 0,\n",
       "  a12: r69,\n",
       "  a13: r70,\n",
       "  a14: r71,\n",
       "  a15: r72,\n",
       "  a23: 0,\n",
       "  a24: -r68*x14/x12,\n",
       "  a25: r73,\n",
       "  a34: r74,\n",
       "  a35: r75,\n",
       "  a45: r76},\n",
       " {d1: r77,\n",
       "  d2: r77/x12,\n",
       "  d3: r77*x35/(x12*x25),\n",
       "  d4: r78,\n",
       "  d5: r77/(x12*x25),\n",
       "  a12: r79,\n",
       "  a13: r80,\n",
       "  a14: r81,\n",
       "  a15: r82,\n",
       "  a23: r77/x12,\n",
       "  a24: -r78*x14/x12,\n",
       "  a25: r83,\n",
       "  a34: r84,\n",
       "  a35: r85,\n",
       "  a45: -(r77*x15 + (r83*x12^2 - r80*x12)*x25)/(x12*x14*x25)}]"
      ]
     },
     "metadata": {},
     "output_type": "display_data"
    },
    {
     "data": {
      "text/plain": [
       "\\left[\\left\\{d_{1} : r_{58}, d_{2} : \\frac{r_{58}}{x_{12}}, d_{3} : 0, d_{4} : r_{59}, d_{5} : 0, a_{12} : r_{60}, a_{13} : r_{61}, a_{14} : r_{62}, a_{15} : r_{63}, a_{23} : \\frac{r_{58}}{x_{12}}, a_{24} : -\\frac{r_{59} x_{14}}{x_{12}}, a_{25} : r_{64}, a_{34} : r_{65}, a_{35} : r_{66}, a_{45} : r_{67}\\right\\}, \\left\\{d_{1} : 0, d_{2} : 0, d_{3} : 0, d_{4} : r_{68}, d_{5} : 0, a_{12} : r_{69}, a_{13} : r_{70}, a_{14} : r_{71}, a_{15} : r_{72}, a_{23} : 0, a_{24} : -\\frac{r_{68} x_{14}}{x_{12}}, a_{25} : r_{73}, a_{34} : r_{74}, a_{35} : r_{75}, a_{45} : r_{76}\\right\\}, \\left\\{d_{1} : r_{77}, d_{2} : \\frac{r_{77}}{x_{12}}, d_{3} : \\frac{r_{77} x_{35}}{x_{12} x_{25}}, d_{4} : r_{78}, d_{5} : \\frac{r_{77}}{x_{12} x_{25}}, a_{12} : r_{79}, a_{13} : r_{80}, a_{14} : r_{81}, a_{15} : r_{82}, a_{23} : \\frac{r_{77}}{x_{12}}, a_{24} : -\\frac{r_{78} x_{14}}{x_{12}}, a_{25} : r_{83}, a_{34} : r_{84}, a_{35} : r_{85}, a_{45} : -\\frac{r_{77} x_{15} + {\\left(r_{83} x_{12}^{2} - r_{80} x_{12}\\right)} x_{25}}{x_{12} x_{14} x_{25}}\\right\\}\\right]"
      ]
     },
     "execution_count": 4,
     "metadata": {},
     "output_type": "execute_result"
    }
   ],
   "source": [
    "#x2\n",
    "reset()\n",
    "\n",
    "var('x12,x13,x14,x15,x23,x24,x25,x34,x35,x45')\n",
    "var('d1,d2,d3,d4,d5')\n",
    "var('a12,a13,a14,a15,a23,a24,a25,a34,a35,a45')\n",
    "\n",
    "load_attach_path('C:\\\\Users\\\\julia\\\\Documents\\\\unb\\\\doutorado\\\\pensar\\\\codigo_sage_v2\\\\maquina\\\\x2')\n",
    "load('out_#101011.sage')\n",
    "\n",
    "m=matrix(QQ, [[0, 1, 1, 0, 0],\n",
    "              [0, 0, 0, 0, 0],\n",
    "              [0, 0, 0, 0, 1],\n",
    "              [0, 0, 0, 0, 0],\n",
    "              [0, 0, 0, 0, 0]])\n",
    "        \n",
    "#entry of matrix: (i,j) line i collum j, means (i-1,j-1)\n",
    "sol=solve([ eq1==m[0,1],\teq2==m[0,2],\teq3==m[0,3],\teq4==m[0,4],\t\n",
    "                                            eq5==m[1,3],    eq6==m[1,4],\n",
    "                                                            eq7==m[2,4]],d1,d2,d3,d4,d5,a12,a13,a14,a15,a23,a24,a25,a34,a35,a45, solution_dict=True)\n",
    "\n",
    "show(m)\n",
    "show(sol)\n",
    "latex(sol)"
   ]
  },
  {
   "cell_type": "code",
   "execution_count": 45,
   "metadata": {},
   "outputs": [
    {
     "data": {
      "text/html": [
       "<html><script type=\"math/tex; mode=display\">\\newcommand{\\Bold}[1]{\\mathbf{#1}}\\left(\\begin{array}{rrrrr}\n",
       "0 & 1 & 1 & 0 & 0 \\\\\n",
       "0 & 0 & 0 & 0 & 0 \\\\\n",
       "0 & 0 & 0 & 0 & 1 \\\\\n",
       "0 & 0 & 0 & 0 & 0 \\\\\n",
       "0 & 0 & 0 & 0 & 0\n",
       "\\end{array}\\right)</script></html>"
      ],
      "text/latex": [
       "$$\\newcommand{\\Bold}[1]{\\mathbf{#1}}\\left(\\begin{array}{rrrrr}\n",
       "0 & 1 & 1 & 0 & 0 \\\\\n",
       "0 & 0 & 0 & 0 & 0 \\\\\n",
       "0 & 0 & 0 & 0 & 1 \\\\\n",
       "0 & 0 & 0 & 0 & 0 \\\\\n",
       "0 & 0 & 0 & 0 & 0\n",
       "\\end{array}\\right)$$"
      ],
      "text/plain": [
       "[0 1 1 0 0]\n",
       "[0 0 0 0 0]\n",
       "[0 0 0 0 1]\n",
       "[0 0 0 0 0]\n",
       "[0 0 0 0 0]"
      ]
     },
     "metadata": {},
     "output_type": "display_data"
    },
    {
     "data": {
      "text/html": [
       "<html><script type=\"math/tex; mode=display\">\\newcommand{\\Bold}[1]{\\mathbf{#1}}\\left[\\left\\{d_{1} : r_{861}, d_{2} : \\frac{r_{861}}{x_{12}}, d_{3} : 0, d_{4} : r_{862}, d_{5} : 0, a_{12} : r_{863}, a_{13} : r_{864}, a_{14} : r_{865}, a_{15} : r_{866}, a_{23} : \\frac{r_{861}}{x_{12}}, a_{24} : r_{867}, a_{25} : r_{868}, a_{34} : -\\frac{r_{867} x_{12}}{x_{13}}, a_{35} : r_{869}, a_{45} : r_{870}\\right\\}, \\left\\{d_{1} : 0, d_{2} : 0, d_{3} : 0, d_{4} : r_{871}, d_{5} : 0, a_{12} : r_{872}, a_{13} : r_{873}, a_{14} : r_{874}, a_{15} : r_{875}, a_{23} : 0, a_{24} : r_{876}, a_{25} : r_{877}, a_{34} : -\\frac{r_{876} x_{12}}{x_{13}}, a_{35} : r_{878}, a_{45} : r_{879}\\right\\}, \\left\\{d_{1} : r_{880}, d_{2} : \\frac{r_{880}}{x_{12}}, d_{3} : \\frac{r_{880} x_{35}}{x_{12} x_{25} + x_{13} x_{35}}, d_{4} : r_{881}, d_{5} : \\frac{r_{880}}{x_{12} x_{25} + x_{13} x_{35}}, a_{12} : r_{882}, a_{13} : r_{883}, a_{14} : r_{884}, a_{15} : r_{885}, a_{23} : \\frac{r_{880} x_{25}}{x_{12} x_{25} + x_{13} x_{35}}, a_{24} : r_{886}, a_{25} : r_{887}, a_{34} : -\\frac{r_{886} x_{12}}{x_{13}}, a_{35} : -\\frac{r_{887} x_{12} - r_{883}}{x_{13}}, a_{45} : r_{888}\\right\\}\\right]</script></html>"
      ],
      "text/latex": [
       "$$\\newcommand{\\Bold}[1]{\\mathbf{#1}}\\left[\\left\\{d_{1} : r_{861}, d_{2} : \\frac{r_{861}}{x_{12}}, d_{3} : 0, d_{4} : r_{862}, d_{5} : 0, a_{12} : r_{863}, a_{13} : r_{864}, a_{14} : r_{865}, a_{15} : r_{866}, a_{23} : \\frac{r_{861}}{x_{12}}, a_{24} : r_{867}, a_{25} : r_{868}, a_{34} : -\\frac{r_{867} x_{12}}{x_{13}}, a_{35} : r_{869}, a_{45} : r_{870}\\right\\}, \\left\\{d_{1} : 0, d_{2} : 0, d_{3} : 0, d_{4} : r_{871}, d_{5} : 0, a_{12} : r_{872}, a_{13} : r_{873}, a_{14} : r_{874}, a_{15} : r_{875}, a_{23} : 0, a_{24} : r_{876}, a_{25} : r_{877}, a_{34} : -\\frac{r_{876} x_{12}}{x_{13}}, a_{35} : r_{878}, a_{45} : r_{879}\\right\\}, \\left\\{d_{1} : r_{880}, d_{2} : \\frac{r_{880}}{x_{12}}, d_{3} : \\frac{r_{880} x_{35}}{x_{12} x_{25} + x_{13} x_{35}}, d_{4} : r_{881}, d_{5} : \\frac{r_{880}}{x_{12} x_{25} + x_{13} x_{35}}, a_{12} : r_{882}, a_{13} : r_{883}, a_{14} : r_{884}, a_{15} : r_{885}, a_{23} : \\frac{r_{880} x_{25}}{x_{12} x_{25} + x_{13} x_{35}}, a_{24} : r_{886}, a_{25} : r_{887}, a_{34} : -\\frac{r_{886} x_{12}}{x_{13}}, a_{35} : -\\frac{r_{887} x_{12} - r_{883}}{x_{13}}, a_{45} : r_{888}\\right\\}\\right]$$"
      ],
      "text/plain": [
       "[{d1: r861,\n",
       "  d2: r861/x12,\n",
       "  d3: 0,\n",
       "  d4: r862,\n",
       "  d5: 0,\n",
       "  a12: r863,\n",
       "  a13: r864,\n",
       "  a14: r865,\n",
       "  a15: r866,\n",
       "  a23: r861/x12,\n",
       "  a24: r867,\n",
       "  a25: r868,\n",
       "  a34: -r867*x12/x13,\n",
       "  a35: r869,\n",
       "  a45: r870},\n",
       " {d1: 0,\n",
       "  d2: 0,\n",
       "  d3: 0,\n",
       "  d4: r871,\n",
       "  d5: 0,\n",
       "  a12: r872,\n",
       "  a13: r873,\n",
       "  a14: r874,\n",
       "  a15: r875,\n",
       "  a23: 0,\n",
       "  a24: r876,\n",
       "  a25: r877,\n",
       "  a34: -r876*x12/x13,\n",
       "  a35: r878,\n",
       "  a45: r879},\n",
       " {d1: r880,\n",
       "  d2: r880/x12,\n",
       "  d3: r880*x35/(x12*x25 + x13*x35),\n",
       "  d4: r881,\n",
       "  d5: r880/(x12*x25 + x13*x35),\n",
       "  a12: r882,\n",
       "  a13: r883,\n",
       "  a14: r884,\n",
       "  a15: r885,\n",
       "  a23: r880*x25/(x12*x25 + x13*x35),\n",
       "  a24: r886,\n",
       "  a25: r887,\n",
       "  a34: -r886*x12/x13,\n",
       "  a35: -(r887*x12 - r883)/x13,\n",
       "  a45: r888}]"
      ]
     },
     "metadata": {},
     "output_type": "display_data"
    },
    {
     "data": {
      "text/plain": [
       "\\left[\\left\\{d_{1} : r_{861}, d_{2} : \\frac{r_{861}}{x_{12}}, d_{3} : 0, d_{4} : r_{862}, d_{5} : 0, a_{12} : r_{863}, a_{13} : r_{864}, a_{14} : r_{865}, a_{15} : r_{866}, a_{23} : \\frac{r_{861}}{x_{12}}, a_{24} : r_{867}, a_{25} : r_{868}, a_{34} : -\\frac{r_{867} x_{12}}{x_{13}}, a_{35} : r_{869}, a_{45} : r_{870}\\right\\}, \\left\\{d_{1} : 0, d_{2} : 0, d_{3} : 0, d_{4} : r_{871}, d_{5} : 0, a_{12} : r_{872}, a_{13} : r_{873}, a_{14} : r_{874}, a_{15} : r_{875}, a_{23} : 0, a_{24} : r_{876}, a_{25} : r_{877}, a_{34} : -\\frac{r_{876} x_{12}}{x_{13}}, a_{35} : r_{878}, a_{45} : r_{879}\\right\\}, \\left\\{d_{1} : r_{880}, d_{2} : \\frac{r_{880}}{x_{12}}, d_{3} : \\frac{r_{880} x_{35}}{x_{12} x_{25} + x_{13} x_{35}}, d_{4} : r_{881}, d_{5} : \\frac{r_{880}}{x_{12} x_{25} + x_{13} x_{35}}, a_{12} : r_{882}, a_{13} : r_{883}, a_{14} : r_{884}, a_{15} : r_{885}, a_{23} : \\frac{r_{880} x_{25}}{x_{12} x_{25} + x_{13} x_{35}}, a_{24} : r_{886}, a_{25} : r_{887}, a_{34} : -\\frac{r_{886} x_{12}}{x_{13}}, a_{35} : -\\frac{r_{887} x_{12} - r_{883}}{x_{13}}, a_{45} : r_{888}\\right\\}\\right]"
      ]
     },
     "execution_count": 45,
     "metadata": {},
     "output_type": "execute_result"
    }
   ],
   "source": [
    "#x2\n",
    "\n",
    "#--------------------------------------\n",
    "#            _                           _ \n",
    "#  ___ _   _| |__   ___ __ _ ___  ___   / |\n",
    "# / __| | | | '_ \\ / __/ _` / __|/ _ \\  | |\n",
    "# \\__ \\ |_| | |_) | (_| (_| \\__ \\ (_) | | |\n",
    "# |___/\\__,_|_.__/ \\___\\__,_|___/\\___/  |_|\n",
    "                                                                        \n",
    "#---------------------------------------\n",
    "reset()\n",
    "\n",
    "var('x12,x13,x14,x15,x23,x24,x25,x34,x35,x45')\n",
    "var('d1,d2,d3,d4,d5')\n",
    "var('a12,a13,a14,a15,a23,a24,a25,a34,a35,a45')\n",
    "\n",
    "load_attach_path('C:\\\\Users\\\\julia\\\\Documents\\\\unb\\\\doutorado\\\\pensar\\\\codigo_sage_v2\\\\maquina\\\\x2')\n",
    "load('out_#101100.sage')\n",
    "\n",
    "m=matrix(QQ, [[0, 1, 1, 0, 0],\n",
    "              [0, 0, 0, 0, 0],\n",
    "              [0, 0, 0, 0, 1],\n",
    "              [0, 0, 0, 0, 0],\n",
    "              [0, 0, 0, 0, 0]])\n",
    "        \n",
    "#entry of matrix: (i,j) line i collum j, means (i-1,j-1)\n",
    "sol=solve([ eq1==m[0,1],\teq2==m[0,2],\teq3==m[0,3],\teq4==m[0,4],\t\n",
    "                                            eq5==m[1,3],    eq6==m[1,4],\n",
    "                                                            eq7==m[2,4]],d1,d2,d3,d4,d5,a12,a13,a14,a15,a23,a24,a25,a34,a35,a45, solution_dict=True)\n",
    "\n",
    "show(m)\n",
    "show(sol)\n",
    "latex(sol)"
   ]
  },
  {
   "cell_type": "code",
   "execution_count": 46,
   "metadata": {},
   "outputs": [
    {
     "data": {
      "text/html": [
       "<html><script type=\"math/tex; mode=display\">\\newcommand{\\Bold}[1]{\\mathbf{#1}}\\left(\\begin{array}{rrrrr}\n",
       "0 & 1 & 0 & 0 & 0 \\\\\n",
       "0 & 0 & 0 & 0 & 0 \\\\\n",
       "0 & 0 & 0 & 0 & 1 \\\\\n",
       "0 & 0 & 0 & 0 & 0 \\\\\n",
       "0 & 0 & 0 & 0 & 0\n",
       "\\end{array}\\right)</script></html>"
      ],
      "text/latex": [
       "$$\\newcommand{\\Bold}[1]{\\mathbf{#1}}\\left(\\begin{array}{rrrrr}\n",
       "0 & 1 & 0 & 0 & 0 \\\\\n",
       "0 & 0 & 0 & 0 & 0 \\\\\n",
       "0 & 0 & 0 & 0 & 1 \\\\\n",
       "0 & 0 & 0 & 0 & 0 \\\\\n",
       "0 & 0 & 0 & 0 & 0\n",
       "\\end{array}\\right)$$"
      ],
      "text/plain": [
       "[0 1 0 0 0]\n",
       "[0 0 0 0 0]\n",
       "[0 0 0 0 1]\n",
       "[0 0 0 0 0]\n",
       "[0 0 0 0 0]"
      ]
     },
     "metadata": {},
     "output_type": "display_data"
    },
    {
     "data": {
      "text/html": [
       "<html><script type=\"math/tex; mode=display\">\\newcommand{\\Bold}[1]{\\mathbf{#1}}\\left[\\left\\{d_{1} : r_{889}, d_{2} : \\frac{r_{889}}{x_{12}}, d_{3} : 0, d_{4} : r_{890}, d_{5} : 0, a_{12} : r_{891}, a_{13} : r_{892}, a_{14} : r_{893}, a_{15} : r_{894}, a_{23} : 0, a_{24} : r_{895}, a_{25} : r_{896}, a_{34} : \\frac{r_{895} x_{35}}{x_{25}}, a_{35} : r_{897}, a_{45} : r_{898}\\right\\}, \\left\\{d_{1} : 0, d_{2} : 0, d_{3} : r_{899}, d_{4} : r_{900}, d_{5} : \\frac{r_{899}}{x_{35}}, a_{12} : r_{901}, a_{13} : r_{902}, a_{14} : r_{903}, a_{15} : r_{904}, a_{23} : \\frac{r_{899} x_{25}}{x_{35}}, a_{24} : r_{905}, a_{25} : r_{906}, a_{34} : \\frac{r_{905} x_{35}}{x_{25}}, a_{35} : r_{907}, a_{45} : r_{908}\\right\\}, \\left\\{d_{1} : r_{909}, d_{2} : \\frac{r_{909}}{x_{12}}, d_{3} : r_{910}, d_{4} : r_{911}, d_{5} : \\frac{r_{910}}{x_{35}}, a_{12} : r_{912}, a_{13} : r_{913}, a_{14} : r_{914}, a_{15} : r_{915}, a_{23} : \\frac{r_{910} x_{25}}{x_{35}}, a_{24} : r_{916}, a_{25} : r_{917}, a_{34} : \\frac{r_{916} x_{35}}{x_{25}}, a_{35} : \\frac{{\\left(r_{917} x_{12} - r_{913}\\right)} x_{35}}{x_{12} x_{25}}, a_{45} : r_{918}\\right\\}\\right]</script></html>"
      ],
      "text/latex": [
       "$$\\newcommand{\\Bold}[1]{\\mathbf{#1}}\\left[\\left\\{d_{1} : r_{889}, d_{2} : \\frac{r_{889}}{x_{12}}, d_{3} : 0, d_{4} : r_{890}, d_{5} : 0, a_{12} : r_{891}, a_{13} : r_{892}, a_{14} : r_{893}, a_{15} : r_{894}, a_{23} : 0, a_{24} : r_{895}, a_{25} : r_{896}, a_{34} : \\frac{r_{895} x_{35}}{x_{25}}, a_{35} : r_{897}, a_{45} : r_{898}\\right\\}, \\left\\{d_{1} : 0, d_{2} : 0, d_{3} : r_{899}, d_{4} : r_{900}, d_{5} : \\frac{r_{899}}{x_{35}}, a_{12} : r_{901}, a_{13} : r_{902}, a_{14} : r_{903}, a_{15} : r_{904}, a_{23} : \\frac{r_{899} x_{25}}{x_{35}}, a_{24} : r_{905}, a_{25} : r_{906}, a_{34} : \\frac{r_{905} x_{35}}{x_{25}}, a_{35} : r_{907}, a_{45} : r_{908}\\right\\}, \\left\\{d_{1} : r_{909}, d_{2} : \\frac{r_{909}}{x_{12}}, d_{3} : r_{910}, d_{4} : r_{911}, d_{5} : \\frac{r_{910}}{x_{35}}, a_{12} : r_{912}, a_{13} : r_{913}, a_{14} : r_{914}, a_{15} : r_{915}, a_{23} : \\frac{r_{910} x_{25}}{x_{35}}, a_{24} : r_{916}, a_{25} : r_{917}, a_{34} : \\frac{r_{916} x_{35}}{x_{25}}, a_{35} : \\frac{{\\left(r_{917} x_{12} - r_{913}\\right)} x_{35}}{x_{12} x_{25}}, a_{45} : r_{918}\\right\\}\\right]$$"
      ],
      "text/plain": [
       "[{d1: r889,\n",
       "  d2: r889/x12,\n",
       "  d3: 0,\n",
       "  d4: r890,\n",
       "  d5: 0,\n",
       "  a12: r891,\n",
       "  a13: r892,\n",
       "  a14: r893,\n",
       "  a15: r894,\n",
       "  a23: 0,\n",
       "  a24: r895,\n",
       "  a25: r896,\n",
       "  a34: r895*x35/x25,\n",
       "  a35: r897,\n",
       "  a45: r898},\n",
       " {d1: 0,\n",
       "  d2: 0,\n",
       "  d3: r899,\n",
       "  d4: r900,\n",
       "  d5: r899/x35,\n",
       "  a12: r901,\n",
       "  a13: r902,\n",
       "  a14: r903,\n",
       "  a15: r904,\n",
       "  a23: r899*x25/x35,\n",
       "  a24: r905,\n",
       "  a25: r906,\n",
       "  a34: r905*x35/x25,\n",
       "  a35: r907,\n",
       "  a45: r908},\n",
       " {d1: r909,\n",
       "  d2: r909/x12,\n",
       "  d3: r910,\n",
       "  d4: r911,\n",
       "  d5: r910/x35,\n",
       "  a12: r912,\n",
       "  a13: r913,\n",
       "  a14: r914,\n",
       "  a15: r915,\n",
       "  a23: r910*x25/x35,\n",
       "  a24: r916,\n",
       "  a25: r917,\n",
       "  a34: r916*x35/x25,\n",
       "  a35: (r917*x12 - r913)*x35/(x12*x25),\n",
       "  a45: r918}]"
      ]
     },
     "metadata": {},
     "output_type": "display_data"
    },
    {
     "data": {
      "text/plain": [
       "\\left[\\left\\{d_{1} : r_{889}, d_{2} : \\frac{r_{889}}{x_{12}}, d_{3} : 0, d_{4} : r_{890}, d_{5} : 0, a_{12} : r_{891}, a_{13} : r_{892}, a_{14} : r_{893}, a_{15} : r_{894}, a_{23} : 0, a_{24} : r_{895}, a_{25} : r_{896}, a_{34} : \\frac{r_{895} x_{35}}{x_{25}}, a_{35} : r_{897}, a_{45} : r_{898}\\right\\}, \\left\\{d_{1} : 0, d_{2} : 0, d_{3} : r_{899}, d_{4} : r_{900}, d_{5} : \\frac{r_{899}}{x_{35}}, a_{12} : r_{901}, a_{13} : r_{902}, a_{14} : r_{903}, a_{15} : r_{904}, a_{23} : \\frac{r_{899} x_{25}}{x_{35}}, a_{24} : r_{905}, a_{25} : r_{906}, a_{34} : \\frac{r_{905} x_{35}}{x_{25}}, a_{35} : r_{907}, a_{45} : r_{908}\\right\\}, \\left\\{d_{1} : r_{909}, d_{2} : \\frac{r_{909}}{x_{12}}, d_{3} : r_{910}, d_{4} : r_{911}, d_{5} : \\frac{r_{910}}{x_{35}}, a_{12} : r_{912}, a_{13} : r_{913}, a_{14} : r_{914}, a_{15} : r_{915}, a_{23} : \\frac{r_{910} x_{25}}{x_{35}}, a_{24} : r_{916}, a_{25} : r_{917}, a_{34} : \\frac{r_{916} x_{35}}{x_{25}}, a_{35} : \\frac{{\\left(r_{917} x_{12} - r_{913}\\right)} x_{35}}{x_{12} x_{25}}, a_{45} : r_{918}\\right\\}\\right]"
      ]
     },
     "execution_count": 46,
     "metadata": {},
     "output_type": "execute_result"
    }
   ],
   "source": [
    "#x2\n",
    "\n",
    "#--------------------------------------\n",
    "#            _                           ____  \n",
    "#  ___ _   _| |__   ___ __ _ ___  ___   |___ \\ \n",
    "# / __| | | | '_ \\ / __/ _` / __|/ _ \\    __) |\n",
    "# \\__ \\ |_| | |_) | (_| (_| \\__ \\ (_) |  / __/ \n",
    "# |___/\\__,_|_.__/ \\___\\__,_|___/\\___/  |_____|\n",
    "#\n",
    "# x13 = -(x12*x25)/(x35)\n",
    "#---------------------------------------\n",
    "reset()\n",
    "\n",
    "var('x12,x13,x14,x15,x23,x24,x25,x34,x35,x45')\n",
    "var('d1,d2,d3,d4,d5')\n",
    "var('a12,a13,a14,a15,a23,a24,a25,a34,a35,a45')\n",
    " \n",
    "#101100\n",
    "eq1=(d2*x12)/(d1) \n",
    "eq2=(a23*x12+d3*((-x12*x25)/x35))/(d1) \n",
    "eq3=(a24*d2*x12+a34*d2*((-x12*x25)/x35)+d2*d4*0-a12*d4*0)/(d1*d2) \n",
    "eq4=(a25*d2*d3*x12+a35*d2*d3*((-x12*x25)/x35)+a45*d2*d3*0+d2*d3*d5*0-a12*a45*d3*0-a12*d3*d5*x25+a12*a23*d5*x35-a13*d2*d5*x35)/(d1*d2*d3) \n",
    "eq5=(d4*0)/(d2) \n",
    "eq6=(a45*d3*0+d3*d5*x25-a23*d5*x35)/(d2*d3) \n",
    "eq7=(d5*x35)/(d3) \n",
    "\n",
    "m=matrix(QQ, [[0, 1, 0, 0, 0],\n",
    "              [0, 0, 0, 0, 0],\n",
    "              [0, 0, 0, 0, 1],\n",
    "              [0, 0, 0, 0, 0],\n",
    "              [0, 0, 0, 0, 0]])\n",
    "        \n",
    "#entry of matrix: (i,j) line i collum j, means (i-1,j-1)\n",
    "sol=solve([ eq1==m[0,1],\teq2==m[0,2],\teq3==m[0,3],\teq4==m[0,4],\t\n",
    "                                            eq5==m[1,3],    eq6==m[1,4],\n",
    "                                                            eq7==m[2,4]],d1,d2,d3,d4,d5,a12,a13,a14,a15,a23,a24,a25,a34,a35,a45, solution_dict=True)\n",
    "\n",
    "show(m)\n",
    "show(sol)\n",
    "latex(sol)"
   ]
  },
  {
   "cell_type": "code",
   "execution_count": 47,
   "metadata": {},
   "outputs": [
    {
     "data": {
      "text/html": [
       "<html><script type=\"math/tex; mode=display\">\\newcommand{\\Bold}[1]{\\mathbf{#1}}\\left(\\begin{array}{rrrrr}\n",
       "0 & 1 & 1 & 0 & 0 \\\\\n",
       "0 & 0 & 0 & 0 & 0 \\\\\n",
       "0 & 0 & 0 & 0 & 1 \\\\\n",
       "0 & 0 & 0 & 0 & 0 \\\\\n",
       "0 & 0 & 0 & 0 & 0\n",
       "\\end{array}\\right)</script></html>"
      ],
      "text/latex": [
       "$$\\newcommand{\\Bold}[1]{\\mathbf{#1}}\\left(\\begin{array}{rrrrr}\n",
       "0 & 1 & 1 & 0 & 0 \\\\\n",
       "0 & 0 & 0 & 0 & 0 \\\\\n",
       "0 & 0 & 0 & 0 & 1 \\\\\n",
       "0 & 0 & 0 & 0 & 0 \\\\\n",
       "0 & 0 & 0 & 0 & 0\n",
       "\\end{array}\\right)$$"
      ],
      "text/plain": [
       "[0 1 1 0 0]\n",
       "[0 0 0 0 0]\n",
       "[0 0 0 0 1]\n",
       "[0 0 0 0 0]\n",
       "[0 0 0 0 0]"
      ]
     },
     "metadata": {},
     "output_type": "display_data"
    },
    {
     "data": {
      "text/html": [
       "<html><script type=\"math/tex; mode=display\">\\newcommand{\\Bold}[1]{\\mathbf{#1}}\\left[\\left\\{d_{1} : r_{919}, d_{2} : \\frac{r_{919}}{x_{12}}, d_{3} : 0, d_{4} : r_{920}, d_{5} : 0, a_{12} : r_{921}, a_{13} : r_{922}, a_{14} : r_{923}, a_{15} : r_{924}, a_{23} : \\frac{r_{919}}{x_{12}}, a_{24} : r_{925}, a_{25} : r_{926}, a_{34} : -\\frac{r_{925} x_{12}}{x_{13}}, a_{35} : r_{927}, a_{45} : r_{928}\\right\\}, \\left\\{d_{1} : 0, d_{2} : 0, d_{3} : 0, d_{4} : r_{929}, d_{5} : 0, a_{12} : r_{930}, a_{13} : r_{931}, a_{14} : r_{932}, a_{15} : r_{933}, a_{23} : 0, a_{24} : r_{934}, a_{25} : r_{935}, a_{34} : -\\frac{r_{934} x_{12}}{x_{13}}, a_{35} : r_{936}, a_{45} : r_{937}\\right\\}, \\left\\{d_{1} : r_{938}, d_{2} : \\frac{r_{938}}{x_{12}}, d_{3} : \\frac{r_{938} x_{35}}{x_{12} x_{25} + x_{13} x_{35}}, d_{4} : r_{939}, d_{5} : \\frac{r_{938}}{x_{12} x_{25} + x_{13} x_{35}}, a_{12} : r_{940}, a_{13} : r_{941}, a_{14} : r_{942}, a_{15} : r_{943}, a_{23} : \\frac{r_{938} x_{25}}{x_{12} x_{25} + x_{13} x_{35}}, a_{24} : r_{944}, a_{25} : r_{945}, a_{34} : -\\frac{r_{944} x_{12}}{x_{13}}, a_{35} : -\\frac{{\\left(r_{945} x_{12} - r_{941}\\right)} x_{13} x_{35} + r_{938} x_{15} + {\\left(r_{945} x_{12}^{2} - r_{941} x_{12}\\right)} x_{25}}{x_{12} x_{13} x_{25} + x_{13}^{2} x_{35}}, a_{45} : r_{946}\\right\\}\\right]</script></html>"
      ],
      "text/latex": [
       "$$\\newcommand{\\Bold}[1]{\\mathbf{#1}}\\left[\\left\\{d_{1} : r_{919}, d_{2} : \\frac{r_{919}}{x_{12}}, d_{3} : 0, d_{4} : r_{920}, d_{5} : 0, a_{12} : r_{921}, a_{13} : r_{922}, a_{14} : r_{923}, a_{15} : r_{924}, a_{23} : \\frac{r_{919}}{x_{12}}, a_{24} : r_{925}, a_{25} : r_{926}, a_{34} : -\\frac{r_{925} x_{12}}{x_{13}}, a_{35} : r_{927}, a_{45} : r_{928}\\right\\}, \\left\\{d_{1} : 0, d_{2} : 0, d_{3} : 0, d_{4} : r_{929}, d_{5} : 0, a_{12} : r_{930}, a_{13} : r_{931}, a_{14} : r_{932}, a_{15} : r_{933}, a_{23} : 0, a_{24} : r_{934}, a_{25} : r_{935}, a_{34} : -\\frac{r_{934} x_{12}}{x_{13}}, a_{35} : r_{936}, a_{45} : r_{937}\\right\\}, \\left\\{d_{1} : r_{938}, d_{2} : \\frac{r_{938}}{x_{12}}, d_{3} : \\frac{r_{938} x_{35}}{x_{12} x_{25} + x_{13} x_{35}}, d_{4} : r_{939}, d_{5} : \\frac{r_{938}}{x_{12} x_{25} + x_{13} x_{35}}, a_{12} : r_{940}, a_{13} : r_{941}, a_{14} : r_{942}, a_{15} : r_{943}, a_{23} : \\frac{r_{938} x_{25}}{x_{12} x_{25} + x_{13} x_{35}}, a_{24} : r_{944}, a_{25} : r_{945}, a_{34} : -\\frac{r_{944} x_{12}}{x_{13}}, a_{35} : -\\frac{{\\left(r_{945} x_{12} - r_{941}\\right)} x_{13} x_{35} + r_{938} x_{15} + {\\left(r_{945} x_{12}^{2} - r_{941} x_{12}\\right)} x_{25}}{x_{12} x_{13} x_{25} + x_{13}^{2} x_{35}}, a_{45} : r_{946}\\right\\}\\right]$$"
      ],
      "text/plain": [
       "[{d1: r919,\n",
       "  d2: r919/x12,\n",
       "  d3: 0,\n",
       "  d4: r920,\n",
       "  d5: 0,\n",
       "  a12: r921,\n",
       "  a13: r922,\n",
       "  a14: r923,\n",
       "  a15: r924,\n",
       "  a23: r919/x12,\n",
       "  a24: r925,\n",
       "  a25: r926,\n",
       "  a34: -r925*x12/x13,\n",
       "  a35: r927,\n",
       "  a45: r928},\n",
       " {d1: 0,\n",
       "  d2: 0,\n",
       "  d3: 0,\n",
       "  d4: r929,\n",
       "  d5: 0,\n",
       "  a12: r930,\n",
       "  a13: r931,\n",
       "  a14: r932,\n",
       "  a15: r933,\n",
       "  a23: 0,\n",
       "  a24: r934,\n",
       "  a25: r935,\n",
       "  a34: -r934*x12/x13,\n",
       "  a35: r936,\n",
       "  a45: r937},\n",
       " {d1: r938,\n",
       "  d2: r938/x12,\n",
       "  d3: r938*x35/(x12*x25 + x13*x35),\n",
       "  d4: r939,\n",
       "  d5: r938/(x12*x25 + x13*x35),\n",
       "  a12: r940,\n",
       "  a13: r941,\n",
       "  a14: r942,\n",
       "  a15: r943,\n",
       "  a23: r938*x25/(x12*x25 + x13*x35),\n",
       "  a24: r944,\n",
       "  a25: r945,\n",
       "  a34: -r944*x12/x13,\n",
       "  a35: -((r945*x12 - r941)*x13*x35 + r938*x15 + (r945*x12^2 - r941*x12)*x25)/(x12*x13*x25 + x13^2*x35),\n",
       "  a45: r946}]"
      ]
     },
     "metadata": {},
     "output_type": "display_data"
    },
    {
     "data": {
      "text/plain": [
       "\\left[\\left\\{d_{1} : r_{919}, d_{2} : \\frac{r_{919}}{x_{12}}, d_{3} : 0, d_{4} : r_{920}, d_{5} : 0, a_{12} : r_{921}, a_{13} : r_{922}, a_{14} : r_{923}, a_{15} : r_{924}, a_{23} : \\frac{r_{919}}{x_{12}}, a_{24} : r_{925}, a_{25} : r_{926}, a_{34} : -\\frac{r_{925} x_{12}}{x_{13}}, a_{35} : r_{927}, a_{45} : r_{928}\\right\\}, \\left\\{d_{1} : 0, d_{2} : 0, d_{3} : 0, d_{4} : r_{929}, d_{5} : 0, a_{12} : r_{930}, a_{13} : r_{931}, a_{14} : r_{932}, a_{15} : r_{933}, a_{23} : 0, a_{24} : r_{934}, a_{25} : r_{935}, a_{34} : -\\frac{r_{934} x_{12}}{x_{13}}, a_{35} : r_{936}, a_{45} : r_{937}\\right\\}, \\left\\{d_{1} : r_{938}, d_{2} : \\frac{r_{938}}{x_{12}}, d_{3} : \\frac{r_{938} x_{35}}{x_{12} x_{25} + x_{13} x_{35}}, d_{4} : r_{939}, d_{5} : \\frac{r_{938}}{x_{12} x_{25} + x_{13} x_{35}}, a_{12} : r_{940}, a_{13} : r_{941}, a_{14} : r_{942}, a_{15} : r_{943}, a_{23} : \\frac{r_{938} x_{25}}{x_{12} x_{25} + x_{13} x_{35}}, a_{24} : r_{944}, a_{25} : r_{945}, a_{34} : -\\frac{r_{944} x_{12}}{x_{13}}, a_{35} : -\\frac{{\\left(r_{945} x_{12} - r_{941}\\right)} x_{13} x_{35} + r_{938} x_{15} + {\\left(r_{945} x_{12}^{2} - r_{941} x_{12}\\right)} x_{25}}{x_{12} x_{13} x_{25} + x_{13}^{2} x_{35}}, a_{45} : r_{946}\\right\\}\\right]"
      ]
     },
     "execution_count": 47,
     "metadata": {},
     "output_type": "execute_result"
    }
   ],
   "source": [
    "#x2\n",
    "reset()\n",
    "#--------------------------------------\n",
    "#            _                           _ \n",
    "#  ___ _   _| |__   ___ __ _ ___  ___   / |\n",
    "# / __| | | | '_ \\ / __/ _` / __|/ _ \\  | |\n",
    "# \\__ \\ |_| | |_) | (_| (_| \\__ \\ (_) | | |\n",
    "# |___/\\__,_|_.__/ \\___\\__,_|___/\\___/  |_|\n",
    "                                                                        \n",
    "#---------------------------------------\n",
    "var('x12,x13,x14,x15,x23,x24,x25,x34,x35,x45')\n",
    "var('d1,d2,d3,d4,d5')\n",
    "var('a12,a13,a14,a15,a23,a24,a25,a34,a35,a45')\n",
    "\n",
    "load_attach_path('C:\\\\Users\\\\julia\\\\Documents\\\\unb\\\\doutorado\\\\pensar\\\\codigo_sage_v2\\\\maquina\\\\x2')\n",
    "load('out_#101101.sage')\n",
    "\n",
    "m=matrix(QQ, [[0, 1, 1, 0, 0],\n",
    "              [0, 0, 0, 0, 0],\n",
    "              [0, 0, 0, 0, 1],\n",
    "              [0, 0, 0, 0, 0],\n",
    "              [0, 0, 0, 0, 0]])\n",
    "        \n",
    "#entry of matrix: (i,j) line i collum j, means (i-1,j-1)\n",
    "sol=solve([ eq1==m[0,1],\teq2==m[0,2],\teq3==m[0,3],\teq4==m[0,4],\t\n",
    "                                            eq5==m[1,3],    eq6==m[1,4],\n",
    "                                                            eq7==m[2,4]],d1,d2,d3,d4,d5,a12,a13,a14,a15,a23,a24,a25,a34,a35,a45, solution_dict=True)\n",
    "\n",
    "show(m)\n",
    "show(sol)\n",
    "latex(sol)"
   ]
  },
  {
   "cell_type": "code",
   "execution_count": 48,
   "metadata": {},
   "outputs": [
    {
     "data": {
      "text/html": [
       "<html><script type=\"math/tex; mode=display\">\\newcommand{\\Bold}[1]{\\mathbf{#1}}\\left(\\begin{array}{rrrrr}\n",
       "0 & 1 & 0 & 0 & 0 \\\\\n",
       "0 & 0 & 0 & 0 & 0 \\\\\n",
       "0 & 0 & 0 & 0 & 1 \\\\\n",
       "0 & 0 & 0 & 0 & 0 \\\\\n",
       "0 & 0 & 0 & 0 & 0\n",
       "\\end{array}\\right)</script></html>"
      ],
      "text/latex": [
       "$$\\newcommand{\\Bold}[1]{\\mathbf{#1}}\\left(\\begin{array}{rrrrr}\n",
       "0 & 1 & 0 & 0 & 0 \\\\\n",
       "0 & 0 & 0 & 0 & 0 \\\\\n",
       "0 & 0 & 0 & 0 & 1 \\\\\n",
       "0 & 0 & 0 & 0 & 0 \\\\\n",
       "0 & 0 & 0 & 0 & 0\n",
       "\\end{array}\\right)$$"
      ],
      "text/plain": [
       "[0 1 0 0 0]\n",
       "[0 0 0 0 0]\n",
       "[0 0 0 0 1]\n",
       "[0 0 0 0 0]\n",
       "[0 0 0 0 0]"
      ]
     },
     "metadata": {},
     "output_type": "display_data"
    },
    {
     "data": {
      "text/html": [
       "<html><script type=\"math/tex; mode=display\">\\newcommand{\\Bold}[1]{\\mathbf{#1}}\\left[\\left\\{d_{1} : r_{947}, d_{2} : \\frac{r_{947}}{x_{12}}, d_{3} : 0, d_{4} : r_{948}, d_{5} : 0, a_{12} : r_{949}, a_{13} : r_{950}, a_{14} : r_{951}, a_{15} : r_{952}, a_{23} : 0, a_{24} : r_{953}, a_{25} : r_{954}, a_{34} : \\frac{r_{953} x_{35}}{x_{25}}, a_{35} : r_{955}, a_{45} : r_{956}\\right\\}, \\left\\{d_{1} : 0, d_{2} : 0, d_{3} : r_{957}, d_{4} : r_{958}, d_{5} : \\frac{r_{957}}{x_{35}}, a_{12} : r_{959}, a_{13} : r_{960}, a_{14} : r_{961}, a_{15} : r_{962}, a_{23} : \\frac{r_{957} x_{25}}{x_{35}}, a_{24} : r_{963}, a_{25} : r_{964}, a_{34} : \\frac{r_{963} x_{35}}{x_{25}}, a_{35} : r_{965}, a_{45} : r_{966}\\right\\}, \\left\\{d_{1} : r_{967}, d_{2} : \\frac{r_{967}}{x_{12}}, d_{3} : r_{968}, d_{4} : r_{969}, d_{5} : \\frac{r_{968}}{x_{35}}, a_{12} : r_{970}, a_{13} : r_{971}, a_{14} : r_{972}, a_{15} : r_{973}, a_{23} : \\frac{r_{968} x_{25}}{x_{35}}, a_{24} : r_{974}, a_{25} : r_{975}, a_{34} : \\frac{r_{974} x_{35}}{x_{25}}, a_{35} : \\frac{r_{968} x_{15} + {\\left(r_{975} x_{12} - r_{971}\\right)} x_{35}}{x_{12} x_{25}}, a_{45} : r_{976}\\right\\}\\right]</script></html>"
      ],
      "text/latex": [
       "$$\\newcommand{\\Bold}[1]{\\mathbf{#1}}\\left[\\left\\{d_{1} : r_{947}, d_{2} : \\frac{r_{947}}{x_{12}}, d_{3} : 0, d_{4} : r_{948}, d_{5} : 0, a_{12} : r_{949}, a_{13} : r_{950}, a_{14} : r_{951}, a_{15} : r_{952}, a_{23} : 0, a_{24} : r_{953}, a_{25} : r_{954}, a_{34} : \\frac{r_{953} x_{35}}{x_{25}}, a_{35} : r_{955}, a_{45} : r_{956}\\right\\}, \\left\\{d_{1} : 0, d_{2} : 0, d_{3} : r_{957}, d_{4} : r_{958}, d_{5} : \\frac{r_{957}}{x_{35}}, a_{12} : r_{959}, a_{13} : r_{960}, a_{14} : r_{961}, a_{15} : r_{962}, a_{23} : \\frac{r_{957} x_{25}}{x_{35}}, a_{24} : r_{963}, a_{25} : r_{964}, a_{34} : \\frac{r_{963} x_{35}}{x_{25}}, a_{35} : r_{965}, a_{45} : r_{966}\\right\\}, \\left\\{d_{1} : r_{967}, d_{2} : \\frac{r_{967}}{x_{12}}, d_{3} : r_{968}, d_{4} : r_{969}, d_{5} : \\frac{r_{968}}{x_{35}}, a_{12} : r_{970}, a_{13} : r_{971}, a_{14} : r_{972}, a_{15} : r_{973}, a_{23} : \\frac{r_{968} x_{25}}{x_{35}}, a_{24} : r_{974}, a_{25} : r_{975}, a_{34} : \\frac{r_{974} x_{35}}{x_{25}}, a_{35} : \\frac{r_{968} x_{15} + {\\left(r_{975} x_{12} - r_{971}\\right)} x_{35}}{x_{12} x_{25}}, a_{45} : r_{976}\\right\\}\\right]$$"
      ],
      "text/plain": [
       "[{d1: r947,\n",
       "  d2: r947/x12,\n",
       "  d3: 0,\n",
       "  d4: r948,\n",
       "  d5: 0,\n",
       "  a12: r949,\n",
       "  a13: r950,\n",
       "  a14: r951,\n",
       "  a15: r952,\n",
       "  a23: 0,\n",
       "  a24: r953,\n",
       "  a25: r954,\n",
       "  a34: r953*x35/x25,\n",
       "  a35: r955,\n",
       "  a45: r956},\n",
       " {d1: 0,\n",
       "  d2: 0,\n",
       "  d3: r957,\n",
       "  d4: r958,\n",
       "  d5: r957/x35,\n",
       "  a12: r959,\n",
       "  a13: r960,\n",
       "  a14: r961,\n",
       "  a15: r962,\n",
       "  a23: r957*x25/x35,\n",
       "  a24: r963,\n",
       "  a25: r964,\n",
       "  a34: r963*x35/x25,\n",
       "  a35: r965,\n",
       "  a45: r966},\n",
       " {d1: r967,\n",
       "  d2: r967/x12,\n",
       "  d3: r968,\n",
       "  d4: r969,\n",
       "  d5: r968/x35,\n",
       "  a12: r970,\n",
       "  a13: r971,\n",
       "  a14: r972,\n",
       "  a15: r973,\n",
       "  a23: r968*x25/x35,\n",
       "  a24: r974,\n",
       "  a25: r975,\n",
       "  a34: r974*x35/x25,\n",
       "  a35: (r968*x15 + (r975*x12 - r971)*x35)/(x12*x25),\n",
       "  a45: r976}]"
      ]
     },
     "metadata": {},
     "output_type": "display_data"
    },
    {
     "data": {
      "text/plain": [
       "\\left[\\left\\{d_{1} : r_{947}, d_{2} : \\frac{r_{947}}{x_{12}}, d_{3} : 0, d_{4} : r_{948}, d_{5} : 0, a_{12} : r_{949}, a_{13} : r_{950}, a_{14} : r_{951}, a_{15} : r_{952}, a_{23} : 0, a_{24} : r_{953}, a_{25} : r_{954}, a_{34} : \\frac{r_{953} x_{35}}{x_{25}}, a_{35} : r_{955}, a_{45} : r_{956}\\right\\}, \\left\\{d_{1} : 0, d_{2} : 0, d_{3} : r_{957}, d_{4} : r_{958}, d_{5} : \\frac{r_{957}}{x_{35}}, a_{12} : r_{959}, a_{13} : r_{960}, a_{14} : r_{961}, a_{15} : r_{962}, a_{23} : \\frac{r_{957} x_{25}}{x_{35}}, a_{24} : r_{963}, a_{25} : r_{964}, a_{34} : \\frac{r_{963} x_{35}}{x_{25}}, a_{35} : r_{965}, a_{45} : r_{966}\\right\\}, \\left\\{d_{1} : r_{967}, d_{2} : \\frac{r_{967}}{x_{12}}, d_{3} : r_{968}, d_{4} : r_{969}, d_{5} : \\frac{r_{968}}{x_{35}}, a_{12} : r_{970}, a_{13} : r_{971}, a_{14} : r_{972}, a_{15} : r_{973}, a_{23} : \\frac{r_{968} x_{25}}{x_{35}}, a_{24} : r_{974}, a_{25} : r_{975}, a_{34} : \\frac{r_{974} x_{35}}{x_{25}}, a_{35} : \\frac{r_{968} x_{15} + {\\left(r_{975} x_{12} - r_{971}\\right)} x_{35}}{x_{12} x_{25}}, a_{45} : r_{976}\\right\\}\\right]"
      ]
     },
     "execution_count": 48,
     "metadata": {},
     "output_type": "execute_result"
    }
   ],
   "source": [
    "#x2\n",
    "\n",
    "#--------------------------------------\n",
    "#            _                           ____  \n",
    "#  ___ _   _| |__   ___ __ _ ___  ___   |___ \\ \n",
    "# / __| | | | '_ \\ / __/ _` / __|/ _ \\    __) |\n",
    "# \\__ \\ |_| | |_) | (_| (_| \\__ \\ (_) |  / __/ \n",
    "# |___/\\__,_|_.__/ \\___\\__,_|___/\\___/  |_____|\n",
    "#\n",
    "# x13 = -(x12*x25)/(x35)\n",
    "#---------------------------------------\n",
    "reset()\n",
    "\n",
    "var('x12,x13,x14,x15,x23,x24,x25,x34,x35,x45')\n",
    "var('d1,d2,d3,d4,d5')\n",
    "var('a12,a13,a14,a15,a23,a24,a25,a34,a35,a45')\n",
    " \n",
    "#101101\n",
    "eq1=(d2*x12)/(d1) \n",
    "eq2=(a23*x12+d3*((-x12*x25)/x35))/(d1) \n",
    "eq3=(a24*d2*x12+a34*d2*((-x12*x25)/x35)+d2*d4*0-a12*d4*0)/(d1*d2) \n",
    "eq4=(a25*d2*d3*x12+a35*d2*d3*((-x12*x25)/x35)+a45*d2*d3*0+d2*d3*d5*x15-a12*a45*d3*0-a12*d3*d5*x25+a12*a23*d5*x35-a13*d2*d5*x35)/(d1*d2*d3) \n",
    "eq5=(d4*0)/(d2) \n",
    "eq6=(a45*d3*0+d3*d5*x25-a23*d5*x35)/(d2*d3) \n",
    "eq7=(d5*x35)/(d3) \n",
    "\n",
    "\n",
    "m=matrix(QQ, [[0, 1, 0, 0, 0],\n",
    "              [0, 0, 0, 0, 0],\n",
    "              [0, 0, 0, 0, 1],\n",
    "              [0, 0, 0, 0, 0],\n",
    "              [0, 0, 0, 0, 0]])\n",
    "        \n",
    "#entry of matrix: (i,j) line i collum j, means (i-1,j-1)\n",
    "sol=solve([ eq1==m[0,1],\teq2==m[0,2],\teq3==m[0,3],\teq4==m[0,4],\t\n",
    "                                            eq5==m[1,3],    eq6==m[1,4],\n",
    "                                                            eq7==m[2,4]],d1,d2,d3,d4,d5,a12,a13,a14,a15,a23,a24,a25,a34,a35,a45, solution_dict=True)\n",
    "\n",
    "show(m)\n",
    "show(sol)\n",
    "latex(sol)"
   ]
  },
  {
   "cell_type": "code",
   "execution_count": 5,
   "metadata": {},
   "outputs": [
    {
     "data": {
      "text/html": [
       "<html><script type=\"math/tex; mode=display\">\\newcommand{\\Bold}[1]{\\mathbf{#1}}\\left(\\begin{array}{rrrrr}\n",
       "0 & 1 & 1 & 0 & 0 \\\\\n",
       "0 & 0 & 0 & 0 & 0 \\\\\n",
       "0 & 0 & 0 & 0 & 1 \\\\\n",
       "0 & 0 & 0 & 0 & 0 \\\\\n",
       "0 & 0 & 0 & 0 & 0\n",
       "\\end{array}\\right)</script></html>"
      ],
      "text/latex": [
       "$$\\newcommand{\\Bold}[1]{\\mathbf{#1}}\\left(\\begin{array}{rrrrr}\n",
       "0 & 1 & 1 & 0 & 0 \\\\\n",
       "0 & 0 & 0 & 0 & 0 \\\\\n",
       "0 & 0 & 0 & 0 & 1 \\\\\n",
       "0 & 0 & 0 & 0 & 0 \\\\\n",
       "0 & 0 & 0 & 0 & 0\n",
       "\\end{array}\\right)$$"
      ],
      "text/plain": [
       "[0 1 1 0 0]\n",
       "[0 0 0 0 0]\n",
       "[0 0 0 0 1]\n",
       "[0 0 0 0 0]\n",
       "[0 0 0 0 0]"
      ]
     },
     "metadata": {},
     "output_type": "display_data"
    },
    {
     "data": {
      "text/html": [
       "<html><script type=\"math/tex; mode=display\">\\newcommand{\\Bold}[1]{\\mathbf{#1}}\\left[\\left\\{d_{1} : r_{86}, d_{2} : \\frac{r_{86}}{x_{12}}, d_{3} : 0, d_{4} : r_{87}, d_{5} : 0, a_{12} : r_{88}, a_{13} : r_{89}, a_{14} : r_{90}, a_{15} : r_{91}, a_{23} : \\frac{r_{86}}{x_{12}}, a_{24} : r_{92}, a_{25} : r_{93}, a_{34} : -\\frac{r_{92} x_{12} + r_{87} x_{14}}{x_{13}}, a_{35} : r_{94}, a_{45} : r_{95}\\right\\}, \\left\\{d_{1} : 0, d_{2} : 0, d_{3} : 0, d_{4} : r_{96}, d_{5} : 0, a_{12} : r_{97}, a_{13} : r_{98}, a_{14} : r_{99}, a_{15} : r_{100}, a_{23} : 0, a_{24} : r_{101}, a_{25} : r_{102}, a_{34} : -\\frac{r_{101} x_{12} + r_{96} x_{14}}{x_{13}}, a_{35} : r_{103}, a_{45} : r_{104}\\right\\}, \\left\\{d_{1} : r_{105}, d_{2} : \\frac{r_{105}}{x_{12}}, d_{3} : \\frac{r_{105} x_{35}}{x_{12} x_{25} + x_{13} x_{35}}, d_{4} : r_{106}, d_{5} : \\frac{r_{105}}{x_{12} x_{25} + x_{13} x_{35}}, a_{12} : r_{107}, a_{13} : r_{108}, a_{14} : r_{109}, a_{15} : r_{110}, a_{23} : \\frac{r_{105} x_{25}}{x_{12} x_{25} + x_{13} x_{35}}, a_{24} : r_{111}, a_{25} : r_{112}, a_{34} : -\\frac{r_{111} x_{12} + r_{106} x_{14}}{x_{13}}, a_{35} : r_{113}, a_{45} : -\\frac{r_{112} x_{12} + r_{113} x_{13} - r_{108}}{x_{14}}\\right\\}\\right]</script></html>"
      ],
      "text/latex": [
       "$$\\newcommand{\\Bold}[1]{\\mathbf{#1}}\\left[\\left\\{d_{1} : r_{86}, d_{2} : \\frac{r_{86}}{x_{12}}, d_{3} : 0, d_{4} : r_{87}, d_{5} : 0, a_{12} : r_{88}, a_{13} : r_{89}, a_{14} : r_{90}, a_{15} : r_{91}, a_{23} : \\frac{r_{86}}{x_{12}}, a_{24} : r_{92}, a_{25} : r_{93}, a_{34} : -\\frac{r_{92} x_{12} + r_{87} x_{14}}{x_{13}}, a_{35} : r_{94}, a_{45} : r_{95}\\right\\}, \\left\\{d_{1} : 0, d_{2} : 0, d_{3} : 0, d_{4} : r_{96}, d_{5} : 0, a_{12} : r_{97}, a_{13} : r_{98}, a_{14} : r_{99}, a_{15} : r_{100}, a_{23} : 0, a_{24} : r_{101}, a_{25} : r_{102}, a_{34} : -\\frac{r_{101} x_{12} + r_{96} x_{14}}{x_{13}}, a_{35} : r_{103}, a_{45} : r_{104}\\right\\}, \\left\\{d_{1} : r_{105}, d_{2} : \\frac{r_{105}}{x_{12}}, d_{3} : \\frac{r_{105} x_{35}}{x_{12} x_{25} + x_{13} x_{35}}, d_{4} : r_{106}, d_{5} : \\frac{r_{105}}{x_{12} x_{25} + x_{13} x_{35}}, a_{12} : r_{107}, a_{13} : r_{108}, a_{14} : r_{109}, a_{15} : r_{110}, a_{23} : \\frac{r_{105} x_{25}}{x_{12} x_{25} + x_{13} x_{35}}, a_{24} : r_{111}, a_{25} : r_{112}, a_{34} : -\\frac{r_{111} x_{12} + r_{106} x_{14}}{x_{13}}, a_{35} : r_{113}, a_{45} : -\\frac{r_{112} x_{12} + r_{113} x_{13} - r_{108}}{x_{14}}\\right\\}\\right]$$"
      ],
      "text/plain": [
       "[{d1: r86,\n",
       "  d2: r86/x12,\n",
       "  d3: 0,\n",
       "  d4: r87,\n",
       "  d5: 0,\n",
       "  a12: r88,\n",
       "  a13: r89,\n",
       "  a14: r90,\n",
       "  a15: r91,\n",
       "  a23: r86/x12,\n",
       "  a24: r92,\n",
       "  a25: r93,\n",
       "  a34: -(r92*x12 + r87*x14)/x13,\n",
       "  a35: r94,\n",
       "  a45: r95},\n",
       " {d1: 0,\n",
       "  d2: 0,\n",
       "  d3: 0,\n",
       "  d4: r96,\n",
       "  d5: 0,\n",
       "  a12: r97,\n",
       "  a13: r98,\n",
       "  a14: r99,\n",
       "  a15: r100,\n",
       "  a23: 0,\n",
       "  a24: r101,\n",
       "  a25: r102,\n",
       "  a34: -(r101*x12 + r96*x14)/x13,\n",
       "  a35: r103,\n",
       "  a45: r104},\n",
       " {d1: r105,\n",
       "  d2: r105/x12,\n",
       "  d3: r105*x35/(x12*x25 + x13*x35),\n",
       "  d4: r106,\n",
       "  d5: r105/(x12*x25 + x13*x35),\n",
       "  a12: r107,\n",
       "  a13: r108,\n",
       "  a14: r109,\n",
       "  a15: r110,\n",
       "  a23: r105*x25/(x12*x25 + x13*x35),\n",
       "  a24: r111,\n",
       "  a25: r112,\n",
       "  a34: -(r111*x12 + r106*x14)/x13,\n",
       "  a35: r113,\n",
       "  a45: -(r112*x12 + r113*x13 - r108)/x14}]"
      ]
     },
     "metadata": {},
     "output_type": "display_data"
    },
    {
     "data": {
      "text/plain": [
       "\\left[\\left\\{d_{1} : r_{86}, d_{2} : \\frac{r_{86}}{x_{12}}, d_{3} : 0, d_{4} : r_{87}, d_{5} : 0, a_{12} : r_{88}, a_{13} : r_{89}, a_{14} : r_{90}, a_{15} : r_{91}, a_{23} : \\frac{r_{86}}{x_{12}}, a_{24} : r_{92}, a_{25} : r_{93}, a_{34} : -\\frac{r_{92} x_{12} + r_{87} x_{14}}{x_{13}}, a_{35} : r_{94}, a_{45} : r_{95}\\right\\}, \\left\\{d_{1} : 0, d_{2} : 0, d_{3} : 0, d_{4} : r_{96}, d_{5} : 0, a_{12} : r_{97}, a_{13} : r_{98}, a_{14} : r_{99}, a_{15} : r_{100}, a_{23} : 0, a_{24} : r_{101}, a_{25} : r_{102}, a_{34} : -\\frac{r_{101} x_{12} + r_{96} x_{14}}{x_{13}}, a_{35} : r_{103}, a_{45} : r_{104}\\right\\}, \\left\\{d_{1} : r_{105}, d_{2} : \\frac{r_{105}}{x_{12}}, d_{3} : \\frac{r_{105} x_{35}}{x_{12} x_{25} + x_{13} x_{35}}, d_{4} : r_{106}, d_{5} : \\frac{r_{105}}{x_{12} x_{25} + x_{13} x_{35}}, a_{12} : r_{107}, a_{13} : r_{108}, a_{14} : r_{109}, a_{15} : r_{110}, a_{23} : \\frac{r_{105} x_{25}}{x_{12} x_{25} + x_{13} x_{35}}, a_{24} : r_{111}, a_{25} : r_{112}, a_{34} : -\\frac{r_{111} x_{12} + r_{106} x_{14}}{x_{13}}, a_{35} : r_{113}, a_{45} : -\\frac{r_{112} x_{12} + r_{113} x_{13} - r_{108}}{x_{14}}\\right\\}\\right]"
      ]
     },
     "execution_count": 5,
     "metadata": {},
     "output_type": "execute_result"
    }
   ],
   "source": [
    "#x2\n",
    "reset()\n",
    "\n",
    "var('x12,x13,x14,x15,x23,x24,x25,x34,x35,x45')\n",
    "var('d1,d2,d3,d4,d5')\n",
    "var('a12,a13,a14,a15,a23,a24,a25,a34,a35,a45')\n",
    "\n",
    "load_attach_path('C:\\\\Users\\\\julia\\\\Documents\\\\unb\\\\doutorado\\\\pensar\\\\codigo_sage_v2\\\\maquina\\\\x2')\n",
    "load('out_#101110.sage')\n",
    "\n",
    "m=matrix(QQ, [[0, 1, 1, 0, 0],\n",
    "              [0, 0, 0, 0, 0],\n",
    "              [0, 0, 0, 0, 1],\n",
    "              [0, 0, 0, 0, 0],\n",
    "              [0, 0, 0, 0, 0]])\n",
    "        \n",
    "#entry of matrix: (i,j) line i collum j, means (i-1,j-1)\n",
    "sol=solve([ eq1==m[0,1],\teq2==m[0,2],\teq3==m[0,3],\teq4==m[0,4],\t\n",
    "                                            eq5==m[1,3],    eq6==m[1,4],\n",
    "                                                            eq7==m[2,4]],d1,d2,d3,d4,d5,a12,a13,a14,a15,a23,a24,a25,a34,a35,a45, solution_dict=True)\n",
    "\n",
    "show(m)\n",
    "show(sol)\n",
    "latex(sol)"
   ]
  },
  {
   "cell_type": "code",
   "execution_count": 50,
   "metadata": {},
   "outputs": [
    {
     "data": {
      "text/html": [
       "<html><script type=\"math/tex; mode=display\">\\newcommand{\\Bold}[1]{\\mathbf{#1}}\\left(\\begin{array}{rrrrr}\n",
       "0 & 1 & 0 & 0 & 0 \\\\\n",
       "0 & 0 & 0 & 0 & 0 \\\\\n",
       "0 & 0 & 0 & 0 & 1 \\\\\n",
       "0 & 0 & 0 & 0 & 0 \\\\\n",
       "0 & 0 & 0 & 0 & 0\n",
       "\\end{array}\\right)</script></html>"
      ],
      "text/latex": [
       "$$\\newcommand{\\Bold}[1]{\\mathbf{#1}}\\left(\\begin{array}{rrrrr}\n",
       "0 & 1 & 0 & 0 & 0 \\\\\n",
       "0 & 0 & 0 & 0 & 0 \\\\\n",
       "0 & 0 & 0 & 0 & 1 \\\\\n",
       "0 & 0 & 0 & 0 & 0 \\\\\n",
       "0 & 0 & 0 & 0 & 0\n",
       "\\end{array}\\right)$$"
      ],
      "text/plain": [
       "[0 1 0 0 0]\n",
       "[0 0 0 0 0]\n",
       "[0 0 0 0 1]\n",
       "[0 0 0 0 0]\n",
       "[0 0 0 0 0]"
      ]
     },
     "metadata": {},
     "output_type": "display_data"
    },
    {
     "data": {
      "text/html": [
       "<html><script type=\"math/tex; mode=display\">\\newcommand{\\Bold}[1]{\\mathbf{#1}}\\left[\\left\\{d_{1} : r_{1005}, d_{2} : \\frac{r_{1005}}{x_{12}}, d_{3} : 0, d_{4} : r_{1006}, d_{5} : 0, a_{12} : r_{1007}, a_{13} : r_{1008}, a_{14} : r_{1009}, a_{15} : r_{1010}, a_{23} : 0, a_{24} : r_{1011}, a_{25} : r_{1012}, a_{34} : \\frac{{\\left(r_{1011} x_{12} + r_{1006} x_{14}\\right)} x_{35}}{x_{12} x_{25}}, a_{35} : r_{1013}, a_{45} : r_{1014}\\right\\}, \\left\\{d_{1} : 0, d_{2} : 0, d_{3} : r_{1015}, d_{4} : r_{1016}, d_{5} : \\frac{r_{1015}}{x_{35}}, a_{12} : r_{1017}, a_{13} : r_{1018}, a_{14} : r_{1019}, a_{15} : r_{1020}, a_{23} : \\frac{r_{1015} x_{25}}{x_{35}}, a_{24} : r_{1021}, a_{25} : r_{1022}, a_{34} : \\frac{{\\left(r_{1021} x_{12} + r_{1016} x_{14}\\right)} x_{35}}{x_{12} x_{25}}, a_{35} : r_{1023}, a_{45} : r_{1024}\\right\\}, \\left\\{d_{1} : r_{1025}, d_{2} : \\frac{r_{1025}}{x_{12}}, d_{3} : r_{1026}, d_{4} : r_{1027}, d_{5} : \\frac{r_{1026}}{x_{35}}, a_{12} : r_{1028}, a_{13} : r_{1029}, a_{14} : r_{1030}, a_{15} : r_{1031}, a_{23} : \\frac{r_{1026} x_{25}}{x_{35}}, a_{24} : r_{1032}, a_{25} : r_{1033}, a_{34} : \\frac{{\\left(r_{1032} x_{12} + r_{1027} x_{14}\\right)} x_{35}}{x_{12} x_{25}}, a_{35} : r_{1034}, a_{45} : \\frac{r_{1034} x_{12} x_{25} - {\\left(r_{1033} x_{12} - r_{1029}\\right)} x_{35}}{x_{14} x_{35}}\\right\\}\\right]</script></html>"
      ],
      "text/latex": [
       "$$\\newcommand{\\Bold}[1]{\\mathbf{#1}}\\left[\\left\\{d_{1} : r_{1005}, d_{2} : \\frac{r_{1005}}{x_{12}}, d_{3} : 0, d_{4} : r_{1006}, d_{5} : 0, a_{12} : r_{1007}, a_{13} : r_{1008}, a_{14} : r_{1009}, a_{15} : r_{1010}, a_{23} : 0, a_{24} : r_{1011}, a_{25} : r_{1012}, a_{34} : \\frac{{\\left(r_{1011} x_{12} + r_{1006} x_{14}\\right)} x_{35}}{x_{12} x_{25}}, a_{35} : r_{1013}, a_{45} : r_{1014}\\right\\}, \\left\\{d_{1} : 0, d_{2} : 0, d_{3} : r_{1015}, d_{4} : r_{1016}, d_{5} : \\frac{r_{1015}}{x_{35}}, a_{12} : r_{1017}, a_{13} : r_{1018}, a_{14} : r_{1019}, a_{15} : r_{1020}, a_{23} : \\frac{r_{1015} x_{25}}{x_{35}}, a_{24} : r_{1021}, a_{25} : r_{1022}, a_{34} : \\frac{{\\left(r_{1021} x_{12} + r_{1016} x_{14}\\right)} x_{35}}{x_{12} x_{25}}, a_{35} : r_{1023}, a_{45} : r_{1024}\\right\\}, \\left\\{d_{1} : r_{1025}, d_{2} : \\frac{r_{1025}}{x_{12}}, d_{3} : r_{1026}, d_{4} : r_{1027}, d_{5} : \\frac{r_{1026}}{x_{35}}, a_{12} : r_{1028}, a_{13} : r_{1029}, a_{14} : r_{1030}, a_{15} : r_{1031}, a_{23} : \\frac{r_{1026} x_{25}}{x_{35}}, a_{24} : r_{1032}, a_{25} : r_{1033}, a_{34} : \\frac{{\\left(r_{1032} x_{12} + r_{1027} x_{14}\\right)} x_{35}}{x_{12} x_{25}}, a_{35} : r_{1034}, a_{45} : \\frac{r_{1034} x_{12} x_{25} - {\\left(r_{1033} x_{12} - r_{1029}\\right)} x_{35}}{x_{14} x_{35}}\\right\\}\\right]$$"
      ],
      "text/plain": [
       "[{d1: r1005,\n",
       "  d2: r1005/x12,\n",
       "  d3: 0,\n",
       "  d4: r1006,\n",
       "  d5: 0,\n",
       "  a12: r1007,\n",
       "  a13: r1008,\n",
       "  a14: r1009,\n",
       "  a15: r1010,\n",
       "  a23: 0,\n",
       "  a24: r1011,\n",
       "  a25: r1012,\n",
       "  a34: (r1011*x12 + r1006*x14)*x35/(x12*x25),\n",
       "  a35: r1013,\n",
       "  a45: r1014},\n",
       " {d1: 0,\n",
       "  d2: 0,\n",
       "  d3: r1015,\n",
       "  d4: r1016,\n",
       "  d5: r1015/x35,\n",
       "  a12: r1017,\n",
       "  a13: r1018,\n",
       "  a14: r1019,\n",
       "  a15: r1020,\n",
       "  a23: r1015*x25/x35,\n",
       "  a24: r1021,\n",
       "  a25: r1022,\n",
       "  a34: (r1021*x12 + r1016*x14)*x35/(x12*x25),\n",
       "  a35: r1023,\n",
       "  a45: r1024},\n",
       " {d1: r1025,\n",
       "  d2: r1025/x12,\n",
       "  d3: r1026,\n",
       "  d4: r1027,\n",
       "  d5: r1026/x35,\n",
       "  a12: r1028,\n",
       "  a13: r1029,\n",
       "  a14: r1030,\n",
       "  a15: r1031,\n",
       "  a23: r1026*x25/x35,\n",
       "  a24: r1032,\n",
       "  a25: r1033,\n",
       "  a34: (r1032*x12 + r1027*x14)*x35/(x12*x25),\n",
       "  a35: r1034,\n",
       "  a45: (r1034*x12*x25 - (r1033*x12 - r1029)*x35)/(x14*x35)}]"
      ]
     },
     "metadata": {},
     "output_type": "display_data"
    },
    {
     "data": {
      "text/plain": [
       "\\left[\\left\\{d_{1} : r_{1005}, d_{2} : \\frac{r_{1005}}{x_{12}}, d_{3} : 0, d_{4} : r_{1006}, d_{5} : 0, a_{12} : r_{1007}, a_{13} : r_{1008}, a_{14} : r_{1009}, a_{15} : r_{1010}, a_{23} : 0, a_{24} : r_{1011}, a_{25} : r_{1012}, a_{34} : \\frac{{\\left(r_{1011} x_{12} + r_{1006} x_{14}\\right)} x_{35}}{x_{12} x_{25}}, a_{35} : r_{1013}, a_{45} : r_{1014}\\right\\}, \\left\\{d_{1} : 0, d_{2} : 0, d_{3} : r_{1015}, d_{4} : r_{1016}, d_{5} : \\frac{r_{1015}}{x_{35}}, a_{12} : r_{1017}, a_{13} : r_{1018}, a_{14} : r_{1019}, a_{15} : r_{1020}, a_{23} : \\frac{r_{1015} x_{25}}{x_{35}}, a_{24} : r_{1021}, a_{25} : r_{1022}, a_{34} : \\frac{{\\left(r_{1021} x_{12} + r_{1016} x_{14}\\right)} x_{35}}{x_{12} x_{25}}, a_{35} : r_{1023}, a_{45} : r_{1024}\\right\\}, \\left\\{d_{1} : r_{1025}, d_{2} : \\frac{r_{1025}}{x_{12}}, d_{3} : r_{1026}, d_{4} : r_{1027}, d_{5} : \\frac{r_{1026}}{x_{35}}, a_{12} : r_{1028}, a_{13} : r_{1029}, a_{14} : r_{1030}, a_{15} : r_{1031}, a_{23} : \\frac{r_{1026} x_{25}}{x_{35}}, a_{24} : r_{1032}, a_{25} : r_{1033}, a_{34} : \\frac{{\\left(r_{1032} x_{12} + r_{1027} x_{14}\\right)} x_{35}}{x_{12} x_{25}}, a_{35} : r_{1034}, a_{45} : \\frac{r_{1034} x_{12} x_{25} - {\\left(r_{1033} x_{12} - r_{1029}\\right)} x_{35}}{x_{14} x_{35}}\\right\\}\\right]"
      ]
     },
     "execution_count": 50,
     "metadata": {},
     "output_type": "execute_result"
    }
   ],
   "source": [
    "#x2\n",
    "\n",
    "#--------------------------------------\n",
    "#            _                           ____  \n",
    "#  ___ _   _| |__   ___ __ _ ___  ___   |___ \\ \n",
    "# / __| | | | '_ \\ / __/ _` / __|/ _ \\    __) |\n",
    "# \\__ \\ |_| | |_) | (_| (_| \\__ \\ (_) |  / __/ \n",
    "# |___/\\__,_|_.__/ \\___\\__,_|___/\\___/  |_____|\n",
    "#\n",
    "# x13 = -(x12*x25)/(x35)\n",
    "#---------------------------------------\n",
    "reset()\n",
    "\n",
    "var('x12,x13,x14,x15,x23,x24,x25,x34,x35,x45')\n",
    "var('d1,d2,d3,d4,d5')\n",
    "var('a12,a13,a14,a15,a23,a24,a25,a34,a35,a45')\n",
    " \n",
    "#101110\n",
    "eq1=(d2*x12)/(d1) \n",
    "eq2=(a23*x12+d3*((-x12*x25)/x35))/(d1) \n",
    "eq3=(a24*d2*x12+a34*d2*((-x12*x25)/x35)+d2*d4*x14-a12*d4*0)/(d1*d2) \n",
    "eq4=(a25*d2*d3*x12+a35*d2*d3*((-x12*x25)/x35)+a45*d2*d3*x14+d2*d3*d5*0-a12*a45*d3*0-a12*d3*d5*x25+a12*a23*d5*x35-a13*d2*d5*x35)/(d1*d2*d3) \n",
    "eq5=(d4*0)/(d2) \n",
    "eq6=(a45*d3*0+d3*d5*x25-a23*d5*x35)/(d2*d3) \n",
    "eq7=(d5*x35)/(d3) \n",
    "\n",
    "m=matrix(QQ, [[0, 1, 0, 0, 0],\n",
    "              [0, 0, 0, 0, 0],\n",
    "              [0, 0, 0, 0, 1],\n",
    "              [0, 0, 0, 0, 0],\n",
    "              [0, 0, 0, 0, 0]])\n",
    "        \n",
    "#entry of matrix: (i,j) line i collum j, means (i-1,j-1)\n",
    "sol=solve([ eq1==m[0,1],\teq2==m[0,2],\teq3==m[0,3],\teq4==m[0,4],\t\n",
    "                                            eq5==m[1,3],    eq6==m[1,4],\n",
    "                                                            eq7==m[2,4]],d1,d2,d3,d4,d5,a12,a13,a14,a15,a23,a24,a25,a34,a35,a45, solution_dict=True)\n",
    "\n",
    "show(m)\n",
    "show(sol)\n",
    "latex(sol)"
   ]
  },
  {
   "cell_type": "code",
   "execution_count": 6,
   "metadata": {},
   "outputs": [
    {
     "data": {
      "text/html": [
       "<html><script type=\"math/tex; mode=display\">\\newcommand{\\Bold}[1]{\\mathbf{#1}}\\left(\\begin{array}{rrrrr}\n",
       "0 & 1 & 1 & 0 & 0 \\\\\n",
       "0 & 0 & 0 & 0 & 0 \\\\\n",
       "0 & 0 & 0 & 0 & 1 \\\\\n",
       "0 & 0 & 0 & 0 & 0 \\\\\n",
       "0 & 0 & 0 & 0 & 0\n",
       "\\end{array}\\right)</script></html>"
      ],
      "text/latex": [
       "$$\\newcommand{\\Bold}[1]{\\mathbf{#1}}\\left(\\begin{array}{rrrrr}\n",
       "0 & 1 & 1 & 0 & 0 \\\\\n",
       "0 & 0 & 0 & 0 & 0 \\\\\n",
       "0 & 0 & 0 & 0 & 1 \\\\\n",
       "0 & 0 & 0 & 0 & 0 \\\\\n",
       "0 & 0 & 0 & 0 & 0\n",
       "\\end{array}\\right)$$"
      ],
      "text/plain": [
       "[0 1 1 0 0]\n",
       "[0 0 0 0 0]\n",
       "[0 0 0 0 1]\n",
       "[0 0 0 0 0]\n",
       "[0 0 0 0 0]"
      ]
     },
     "metadata": {},
     "output_type": "display_data"
    },
    {
     "data": {
      "text/html": [
       "<html><script type=\"math/tex; mode=display\">\\newcommand{\\Bold}[1]{\\mathbf{#1}}\\left[\\left\\{d_{1} : r_{114}, d_{2} : \\frac{r_{114}}{x_{12}}, d_{3} : 0, d_{4} : r_{115}, d_{5} : 0, a_{12} : r_{116}, a_{13} : r_{117}, a_{14} : r_{118}, a_{15} : r_{119}, a_{23} : \\frac{r_{114}}{x_{12}}, a_{24} : r_{120}, a_{25} : r_{121}, a_{34} : -\\frac{r_{120} x_{12} + r_{115} x_{14}}{x_{13}}, a_{35} : r_{122}, a_{45} : r_{123}\\right\\}, \\left\\{d_{1} : 0, d_{2} : 0, d_{3} : 0, d_{4} : r_{124}, d_{5} : 0, a_{12} : r_{125}, a_{13} : r_{126}, a_{14} : r_{127}, a_{15} : r_{128}, a_{23} : 0, a_{24} : r_{129}, a_{25} : r_{130}, a_{34} : -\\frac{r_{129} x_{12} + r_{124} x_{14}}{x_{13}}, a_{35} : r_{131}, a_{45} : r_{132}\\right\\}, \\left\\{d_{1} : r_{133}, d_{2} : \\frac{r_{133}}{x_{12}}, d_{3} : \\frac{r_{133} x_{35}}{x_{12} x_{25} + x_{13} x_{35}}, d_{4} : r_{134}, d_{5} : \\frac{r_{133}}{x_{12} x_{25} + x_{13} x_{35}}, a_{12} : r_{135}, a_{13} : r_{136}, a_{14} : r_{137}, a_{15} : r_{138}, a_{23} : \\frac{r_{133} x_{25}}{x_{12} x_{25} + x_{13} x_{35}}, a_{24} : r_{139}, a_{25} : r_{140}, a_{34} : -\\frac{r_{139} x_{12} + r_{134} x_{14}}{x_{13}}, a_{35} : r_{141}, a_{45} : -\\frac{r_{133} x_{15} + {\\left(r_{140} x_{12}^{2} + r_{141} x_{12} x_{13} - r_{136} x_{12}\\right)} x_{25} + {\\left(r_{141} x_{13}^{2} + {\\left(r_{140} x_{12} - r_{136}\\right)} x_{13}\\right)} x_{35}}{x_{12} x_{14} x_{25} + x_{13} x_{14} x_{35}}\\right\\}\\right]</script></html>"
      ],
      "text/latex": [
       "$$\\newcommand{\\Bold}[1]{\\mathbf{#1}}\\left[\\left\\{d_{1} : r_{114}, d_{2} : \\frac{r_{114}}{x_{12}}, d_{3} : 0, d_{4} : r_{115}, d_{5} : 0, a_{12} : r_{116}, a_{13} : r_{117}, a_{14} : r_{118}, a_{15} : r_{119}, a_{23} : \\frac{r_{114}}{x_{12}}, a_{24} : r_{120}, a_{25} : r_{121}, a_{34} : -\\frac{r_{120} x_{12} + r_{115} x_{14}}{x_{13}}, a_{35} : r_{122}, a_{45} : r_{123}\\right\\}, \\left\\{d_{1} : 0, d_{2} : 0, d_{3} : 0, d_{4} : r_{124}, d_{5} : 0, a_{12} : r_{125}, a_{13} : r_{126}, a_{14} : r_{127}, a_{15} : r_{128}, a_{23} : 0, a_{24} : r_{129}, a_{25} : r_{130}, a_{34} : -\\frac{r_{129} x_{12} + r_{124} x_{14}}{x_{13}}, a_{35} : r_{131}, a_{45} : r_{132}\\right\\}, \\left\\{d_{1} : r_{133}, d_{2} : \\frac{r_{133}}{x_{12}}, d_{3} : \\frac{r_{133} x_{35}}{x_{12} x_{25} + x_{13} x_{35}}, d_{4} : r_{134}, d_{5} : \\frac{r_{133}}{x_{12} x_{25} + x_{13} x_{35}}, a_{12} : r_{135}, a_{13} : r_{136}, a_{14} : r_{137}, a_{15} : r_{138}, a_{23} : \\frac{r_{133} x_{25}}{x_{12} x_{25} + x_{13} x_{35}}, a_{24} : r_{139}, a_{25} : r_{140}, a_{34} : -\\frac{r_{139} x_{12} + r_{134} x_{14}}{x_{13}}, a_{35} : r_{141}, a_{45} : -\\frac{r_{133} x_{15} + {\\left(r_{140} x_{12}^{2} + r_{141} x_{12} x_{13} - r_{136} x_{12}\\right)} x_{25} + {\\left(r_{141} x_{13}^{2} + {\\left(r_{140} x_{12} - r_{136}\\right)} x_{13}\\right)} x_{35}}{x_{12} x_{14} x_{25} + x_{13} x_{14} x_{35}}\\right\\}\\right]$$"
      ],
      "text/plain": [
       "[{d1: r114,\n",
       "  d2: r114/x12,\n",
       "  d3: 0,\n",
       "  d4: r115,\n",
       "  d5: 0,\n",
       "  a12: r116,\n",
       "  a13: r117,\n",
       "  a14: r118,\n",
       "  a15: r119,\n",
       "  a23: r114/x12,\n",
       "  a24: r120,\n",
       "  a25: r121,\n",
       "  a34: -(r120*x12 + r115*x14)/x13,\n",
       "  a35: r122,\n",
       "  a45: r123},\n",
       " {d1: 0,\n",
       "  d2: 0,\n",
       "  d3: 0,\n",
       "  d4: r124,\n",
       "  d5: 0,\n",
       "  a12: r125,\n",
       "  a13: r126,\n",
       "  a14: r127,\n",
       "  a15: r128,\n",
       "  a23: 0,\n",
       "  a24: r129,\n",
       "  a25: r130,\n",
       "  a34: -(r129*x12 + r124*x14)/x13,\n",
       "  a35: r131,\n",
       "  a45: r132},\n",
       " {d1: r133,\n",
       "  d2: r133/x12,\n",
       "  d3: r133*x35/(x12*x25 + x13*x35),\n",
       "  d4: r134,\n",
       "  d5: r133/(x12*x25 + x13*x35),\n",
       "  a12: r135,\n",
       "  a13: r136,\n",
       "  a14: r137,\n",
       "  a15: r138,\n",
       "  a23: r133*x25/(x12*x25 + x13*x35),\n",
       "  a24: r139,\n",
       "  a25: r140,\n",
       "  a34: -(r139*x12 + r134*x14)/x13,\n",
       "  a35: r141,\n",
       "  a45: -(r133*x15 + (r140*x12^2 + r141*x12*x13 - r136*x12)*x25 + (r141*x13^2 + (r140*x12 - r136)*x13)*x35)/(x12*x14*x25 + x13*x14*x35)}]"
      ]
     },
     "metadata": {},
     "output_type": "display_data"
    },
    {
     "data": {
      "text/plain": [
       "\\left[\\left\\{d_{1} : r_{114}, d_{2} : \\frac{r_{114}}{x_{12}}, d_{3} : 0, d_{4} : r_{115}, d_{5} : 0, a_{12} : r_{116}, a_{13} : r_{117}, a_{14} : r_{118}, a_{15} : r_{119}, a_{23} : \\frac{r_{114}}{x_{12}}, a_{24} : r_{120}, a_{25} : r_{121}, a_{34} : -\\frac{r_{120} x_{12} + r_{115} x_{14}}{x_{13}}, a_{35} : r_{122}, a_{45} : r_{123}\\right\\}, \\left\\{d_{1} : 0, d_{2} : 0, d_{3} : 0, d_{4} : r_{124}, d_{5} : 0, a_{12} : r_{125}, a_{13} : r_{126}, a_{14} : r_{127}, a_{15} : r_{128}, a_{23} : 0, a_{24} : r_{129}, a_{25} : r_{130}, a_{34} : -\\frac{r_{129} x_{12} + r_{124} x_{14}}{x_{13}}, a_{35} : r_{131}, a_{45} : r_{132}\\right\\}, \\left\\{d_{1} : r_{133}, d_{2} : \\frac{r_{133}}{x_{12}}, d_{3} : \\frac{r_{133} x_{35}}{x_{12} x_{25} + x_{13} x_{35}}, d_{4} : r_{134}, d_{5} : \\frac{r_{133}}{x_{12} x_{25} + x_{13} x_{35}}, a_{12} : r_{135}, a_{13} : r_{136}, a_{14} : r_{137}, a_{15} : r_{138}, a_{23} : \\frac{r_{133} x_{25}}{x_{12} x_{25} + x_{13} x_{35}}, a_{24} : r_{139}, a_{25} : r_{140}, a_{34} : -\\frac{r_{139} x_{12} + r_{134} x_{14}}{x_{13}}, a_{35} : r_{141}, a_{45} : -\\frac{r_{133} x_{15} + {\\left(r_{140} x_{12}^{2} + r_{141} x_{12} x_{13} - r_{136} x_{12}\\right)} x_{25} + {\\left(r_{141} x_{13}^{2} + {\\left(r_{140} x_{12} - r_{136}\\right)} x_{13}\\right)} x_{35}}{x_{12} x_{14} x_{25} + x_{13} x_{14} x_{35}}\\right\\}\\right]"
      ]
     },
     "execution_count": 6,
     "metadata": {},
     "output_type": "execute_result"
    }
   ],
   "source": [
    "#x2\n",
    "reset()\n",
    "\n",
    "var('x12,x13,x14,x15,x23,x24,x25,x34,x35,x45')\n",
    "var('d1,d2,d3,d4,d5')\n",
    "var('a12,a13,a14,a15,a23,a24,a25,a34,a35,a45')\n",
    "\n",
    "load_attach_path('C:\\\\Users\\\\julia\\\\Documents\\\\unb\\\\doutorado\\\\pensar\\\\codigo_sage_v2\\\\maquina\\\\x2')\n",
    "load('out_#101111.sage')\n",
    "\n",
    "m=matrix(QQ, [[0, 1, 1, 0, 0],\n",
    "              [0, 0, 0, 0, 0],\n",
    "              [0, 0, 0, 0, 1],\n",
    "              [0, 0, 0, 0, 0],\n",
    "              [0, 0, 0, 0, 0]])\n",
    "        \n",
    "#entry of matrix: (i,j) line i collum j, means (i-1,j-1)\n",
    "sol=solve([ eq1==m[0,1],\teq2==m[0,2],\teq3==m[0,3],\teq4==m[0,4],\t\n",
    "                                            eq5==m[1,3],    eq6==m[1,4],\n",
    "                                                            eq7==m[2,4]],d1,d2,d3,d4,d5,a12,a13,a14,a15,a23,a24,a25,a34,a35,a45, solution_dict=True)\n",
    "\n",
    "show(m)\n",
    "show(sol)\n",
    "latex(sol)"
   ]
  },
  {
   "cell_type": "code",
   "execution_count": 52,
   "metadata": {},
   "outputs": [
    {
     "data": {
      "text/html": [
       "<html><script type=\"math/tex; mode=display\">\\newcommand{\\Bold}[1]{\\mathbf{#1}}\\left(\\begin{array}{rrrrr}\n",
       "0 & 1 & 0 & 0 & 0 \\\\\n",
       "0 & 0 & 0 & 0 & 0 \\\\\n",
       "0 & 0 & 0 & 0 & 1 \\\\\n",
       "0 & 0 & 0 & 0 & 0 \\\\\n",
       "0 & 0 & 0 & 0 & 0\n",
       "\\end{array}\\right)</script></html>"
      ],
      "text/latex": [
       "$$\\newcommand{\\Bold}[1]{\\mathbf{#1}}\\left(\\begin{array}{rrrrr}\n",
       "0 & 1 & 0 & 0 & 0 \\\\\n",
       "0 & 0 & 0 & 0 & 0 \\\\\n",
       "0 & 0 & 0 & 0 & 1 \\\\\n",
       "0 & 0 & 0 & 0 & 0 \\\\\n",
       "0 & 0 & 0 & 0 & 0\n",
       "\\end{array}\\right)$$"
      ],
      "text/plain": [
       "[0 1 0 0 0]\n",
       "[0 0 0 0 0]\n",
       "[0 0 0 0 1]\n",
       "[0 0 0 0 0]\n",
       "[0 0 0 0 0]"
      ]
     },
     "metadata": {},
     "output_type": "display_data"
    },
    {
     "data": {
      "text/html": [
       "<html><script type=\"math/tex; mode=display\">\\newcommand{\\Bold}[1]{\\mathbf{#1}}\\left[\\left\\{d_{1} : r_{1063}, d_{2} : \\frac{r_{1063}}{x_{12}}, d_{3} : 0, d_{4} : r_{1064}, d_{5} : 0, a_{12} : r_{1065}, a_{13} : r_{1066}, a_{14} : r_{1067}, a_{15} : r_{1068}, a_{23} : 0, a_{24} : r_{1069}, a_{25} : r_{1070}, a_{34} : \\frac{{\\left(r_{1069} x_{12} + r_{1064} x_{14}\\right)} x_{35}}{x_{12} x_{25}}, a_{35} : r_{1071}, a_{45} : r_{1072}\\right\\}, \\left\\{d_{1} : 0, d_{2} : 0, d_{3} : r_{1073}, d_{4} : r_{1074}, d_{5} : \\frac{r_{1073}}{x_{35}}, a_{12} : r_{1075}, a_{13} : r_{1076}, a_{14} : r_{1077}, a_{15} : r_{1078}, a_{23} : \\frac{r_{1073} x_{25}}{x_{35}}, a_{24} : r_{1079}, a_{25} : r_{1080}, a_{34} : \\frac{{\\left(r_{1079} x_{12} + r_{1074} x_{14}\\right)} x_{35}}{x_{12} x_{25}}, a_{35} : r_{1081}, a_{45} : r_{1082}\\right\\}, \\left\\{d_{1} : r_{1083}, d_{2} : \\frac{r_{1083}}{x_{12}}, d_{3} : r_{1084}, d_{4} : r_{1085}, d_{5} : \\frac{r_{1084}}{x_{35}}, a_{12} : r_{1086}, a_{13} : r_{1087}, a_{14} : r_{1088}, a_{15} : r_{1089}, a_{23} : \\frac{r_{1084} x_{25}}{x_{35}}, a_{24} : r_{1090}, a_{25} : r_{1091}, a_{34} : \\frac{{\\left(r_{1090} x_{12} + r_{1085} x_{14}\\right)} x_{35}}{x_{12} x_{25}}, a_{35} : r_{1092}, a_{45} : \\frac{r_{1092} x_{12} x_{25} - r_{1084} x_{15} - {\\left(r_{1091} x_{12} - r_{1087}\\right)} x_{35}}{x_{14} x_{35}}\\right\\}\\right]</script></html>"
      ],
      "text/latex": [
       "$$\\newcommand{\\Bold}[1]{\\mathbf{#1}}\\left[\\left\\{d_{1} : r_{1063}, d_{2} : \\frac{r_{1063}}{x_{12}}, d_{3} : 0, d_{4} : r_{1064}, d_{5} : 0, a_{12} : r_{1065}, a_{13} : r_{1066}, a_{14} : r_{1067}, a_{15} : r_{1068}, a_{23} : 0, a_{24} : r_{1069}, a_{25} : r_{1070}, a_{34} : \\frac{{\\left(r_{1069} x_{12} + r_{1064} x_{14}\\right)} x_{35}}{x_{12} x_{25}}, a_{35} : r_{1071}, a_{45} : r_{1072}\\right\\}, \\left\\{d_{1} : 0, d_{2} : 0, d_{3} : r_{1073}, d_{4} : r_{1074}, d_{5} : \\frac{r_{1073}}{x_{35}}, a_{12} : r_{1075}, a_{13} : r_{1076}, a_{14} : r_{1077}, a_{15} : r_{1078}, a_{23} : \\frac{r_{1073} x_{25}}{x_{35}}, a_{24} : r_{1079}, a_{25} : r_{1080}, a_{34} : \\frac{{\\left(r_{1079} x_{12} + r_{1074} x_{14}\\right)} x_{35}}{x_{12} x_{25}}, a_{35} : r_{1081}, a_{45} : r_{1082}\\right\\}, \\left\\{d_{1} : r_{1083}, d_{2} : \\frac{r_{1083}}{x_{12}}, d_{3} : r_{1084}, d_{4} : r_{1085}, d_{5} : \\frac{r_{1084}}{x_{35}}, a_{12} : r_{1086}, a_{13} : r_{1087}, a_{14} : r_{1088}, a_{15} : r_{1089}, a_{23} : \\frac{r_{1084} x_{25}}{x_{35}}, a_{24} : r_{1090}, a_{25} : r_{1091}, a_{34} : \\frac{{\\left(r_{1090} x_{12} + r_{1085} x_{14}\\right)} x_{35}}{x_{12} x_{25}}, a_{35} : r_{1092}, a_{45} : \\frac{r_{1092} x_{12} x_{25} - r_{1084} x_{15} - {\\left(r_{1091} x_{12} - r_{1087}\\right)} x_{35}}{x_{14} x_{35}}\\right\\}\\right]$$"
      ],
      "text/plain": [
       "[{d1: r1063,\n",
       "  d2: r1063/x12,\n",
       "  d3: 0,\n",
       "  d4: r1064,\n",
       "  d5: 0,\n",
       "  a12: r1065,\n",
       "  a13: r1066,\n",
       "  a14: r1067,\n",
       "  a15: r1068,\n",
       "  a23: 0,\n",
       "  a24: r1069,\n",
       "  a25: r1070,\n",
       "  a34: (r1069*x12 + r1064*x14)*x35/(x12*x25),\n",
       "  a35: r1071,\n",
       "  a45: r1072},\n",
       " {d1: 0,\n",
       "  d2: 0,\n",
       "  d3: r1073,\n",
       "  d4: r1074,\n",
       "  d5: r1073/x35,\n",
       "  a12: r1075,\n",
       "  a13: r1076,\n",
       "  a14: r1077,\n",
       "  a15: r1078,\n",
       "  a23: r1073*x25/x35,\n",
       "  a24: r1079,\n",
       "  a25: r1080,\n",
       "  a34: (r1079*x12 + r1074*x14)*x35/(x12*x25),\n",
       "  a35: r1081,\n",
       "  a45: r1082},\n",
       " {d1: r1083,\n",
       "  d2: r1083/x12,\n",
       "  d3: r1084,\n",
       "  d4: r1085,\n",
       "  d5: r1084/x35,\n",
       "  a12: r1086,\n",
       "  a13: r1087,\n",
       "  a14: r1088,\n",
       "  a15: r1089,\n",
       "  a23: r1084*x25/x35,\n",
       "  a24: r1090,\n",
       "  a25: r1091,\n",
       "  a34: (r1090*x12 + r1085*x14)*x35/(x12*x25),\n",
       "  a35: r1092,\n",
       "  a45: (r1092*x12*x25 - r1084*x15 - (r1091*x12 - r1087)*x35)/(x14*x35)}]"
      ]
     },
     "metadata": {},
     "output_type": "display_data"
    },
    {
     "data": {
      "text/plain": [
       "\\left[\\left\\{d_{1} : r_{1063}, d_{2} : \\frac{r_{1063}}{x_{12}}, d_{3} : 0, d_{4} : r_{1064}, d_{5} : 0, a_{12} : r_{1065}, a_{13} : r_{1066}, a_{14} : r_{1067}, a_{15} : r_{1068}, a_{23} : 0, a_{24} : r_{1069}, a_{25} : r_{1070}, a_{34} : \\frac{{\\left(r_{1069} x_{12} + r_{1064} x_{14}\\right)} x_{35}}{x_{12} x_{25}}, a_{35} : r_{1071}, a_{45} : r_{1072}\\right\\}, \\left\\{d_{1} : 0, d_{2} : 0, d_{3} : r_{1073}, d_{4} : r_{1074}, d_{5} : \\frac{r_{1073}}{x_{35}}, a_{12} : r_{1075}, a_{13} : r_{1076}, a_{14} : r_{1077}, a_{15} : r_{1078}, a_{23} : \\frac{r_{1073} x_{25}}{x_{35}}, a_{24} : r_{1079}, a_{25} : r_{1080}, a_{34} : \\frac{{\\left(r_{1079} x_{12} + r_{1074} x_{14}\\right)} x_{35}}{x_{12} x_{25}}, a_{35} : r_{1081}, a_{45} : r_{1082}\\right\\}, \\left\\{d_{1} : r_{1083}, d_{2} : \\frac{r_{1083}}{x_{12}}, d_{3} : r_{1084}, d_{4} : r_{1085}, d_{5} : \\frac{r_{1084}}{x_{35}}, a_{12} : r_{1086}, a_{13} : r_{1087}, a_{14} : r_{1088}, a_{15} : r_{1089}, a_{23} : \\frac{r_{1084} x_{25}}{x_{35}}, a_{24} : r_{1090}, a_{25} : r_{1091}, a_{34} : \\frac{{\\left(r_{1090} x_{12} + r_{1085} x_{14}\\right)} x_{35}}{x_{12} x_{25}}, a_{35} : r_{1092}, a_{45} : \\frac{r_{1092} x_{12} x_{25} - r_{1084} x_{15} - {\\left(r_{1091} x_{12} - r_{1087}\\right)} x_{35}}{x_{14} x_{35}}\\right\\}\\right]"
      ]
     },
     "execution_count": 52,
     "metadata": {},
     "output_type": "execute_result"
    }
   ],
   "source": [
    "#x2\n",
    "\n",
    "#--------------------------------------\n",
    "#            _                           ____  \n",
    "#  ___ _   _| |__   ___ __ _ ___  ___   |___ \\ \n",
    "# / __| | | | '_ \\ / __/ _` / __|/ _ \\    __) |\n",
    "# \\__ \\ |_| | |_) | (_| (_| \\__ \\ (_) |  / __/ \n",
    "# |___/\\__,_|_.__/ \\___\\__,_|___/\\___/  |_____|\n",
    "#\n",
    "# x13 = -(x12*x25)/(x35)\n",
    "#---------------------------------------\n",
    "reset()\n",
    "\n",
    "var('x12,x13,x14,x15,x23,x24,x25,x34,x35,x45')\n",
    "var('d1,d2,d3,d4,d5')\n",
    "var('a12,a13,a14,a15,a23,a24,a25,a34,a35,a45')\n",
    " \n",
    " #101111\n",
    "eq1=(d2*x12)/(d1) \n",
    "eq2=(a23*x12+d3*((-x12*x25)/x35))/(d1) \n",
    "eq3=(a24*d2*x12+a34*d2*((-x12*x25)/x35)+d2*d4*x14-a12*d4*0)/(d1*d2) \n",
    "eq4=(a25*d2*d3*x12+a35*d2*d3*((-x12*x25)/x35)+a45*d2*d3*x14+d2*d3*d5*x15-a12*a45*d3*0-a12*d3*d5*x25+a12*a23*d5*x35-a13*d2*d5*x35)/(d1*d2*d3) \n",
    "eq5=(d4*0)/(d2) \n",
    "eq6=(a45*d3*0+d3*d5*x25-a23*d5*x35)/(d2*d3) \n",
    "eq7=(d5*x35)/(d3) \n",
    "\n",
    "\n",
    "m=matrix(QQ, [[0, 1, 0, 0, 0],\n",
    "              [0, 0, 0, 0, 0],\n",
    "              [0, 0, 0, 0, 1],\n",
    "              [0, 0, 0, 0, 0],\n",
    "              [0, 0, 0, 0, 0]])\n",
    "        \n",
    "#entry of matrix: (i,j) line i collum j, means (i-1,j-1)\n",
    "sol=solve([ eq1==m[0,1],\teq2==m[0,2],\teq3==m[0,3],\teq4==m[0,4],\t\n",
    "                                            eq5==m[1,3],    eq6==m[1,4],\n",
    "                                                            eq7==m[2,4]],d1,d2,d3,d4,d5,a12,a13,a14,a15,a23,a24,a25,a34,a35,a45, solution_dict=True)\n",
    "\n",
    "show(m)\n",
    "show(sol)\n",
    "latex(sol)"
   ]
  },
  {
   "cell_type": "code",
   "execution_count": 53,
   "metadata": {},
   "outputs": [
    {
     "data": {
      "text/html": [
       "<html><script type=\"math/tex; mode=display\">\\newcommand{\\Bold}[1]{\\mathbf{#1}}\\left(\\begin{array}{rrrrr}\n",
       "0 & 1 & 0 & 0 & 0 \\\\\n",
       "0 & 0 & 0 & 1 & 0 \\\\\n",
       "0 & 0 & 0 & 0 & 1 \\\\\n",
       "0 & 0 & 0 & 0 & 0 \\\\\n",
       "0 & 0 & 0 & 0 & 0\n",
       "\\end{array}\\right)</script></html>"
      ],
      "text/latex": [
       "$$\\newcommand{\\Bold}[1]{\\mathbf{#1}}\\left(\\begin{array}{rrrrr}\n",
       "0 & 1 & 0 & 0 & 0 \\\\\n",
       "0 & 0 & 0 & 1 & 0 \\\\\n",
       "0 & 0 & 0 & 0 & 1 \\\\\n",
       "0 & 0 & 0 & 0 & 0 \\\\\n",
       "0 & 0 & 0 & 0 & 0\n",
       "\\end{array}\\right)$$"
      ],
      "text/plain": [
       "[0 1 0 0 0]\n",
       "[0 0 0 1 0]\n",
       "[0 0 0 0 1]\n",
       "[0 0 0 0 0]\n",
       "[0 0 0 0 0]"
      ]
     },
     "metadata": {},
     "output_type": "display_data"
    },
    {
     "data": {
      "text/html": [
       "<html><script type=\"math/tex; mode=display\">\\newcommand{\\Bold}[1]{\\mathbf{#1}}\\left[\\left\\{d_{1} : 0, d_{2} : 0, d_{3} : r_{1093}, d_{4} : 0, d_{5} : \\frac{r_{1093}}{x_{35}}, a_{12} : r_{1094}, a_{13} : r_{1095}, a_{14} : r_{1096}, a_{15} : r_{1097}, a_{23} : 0, a_{24} : r_{1098}, a_{25} : r_{1099}, a_{34} : r_{1100}, a_{35} : r_{1101}, a_{45} : 0\\right\\}, \\left\\{d_{1} : r_{1102}, d_{2} : \\frac{r_{1102}}{x_{12}}, d_{3} : 0, d_{4} : \\frac{r_{1102}}{x_{12} x_{24}}, d_{5} : 0, a_{12} : r_{1103}, a_{13} : r_{1104}, a_{14} : r_{1105}, a_{15} : r_{1106}, a_{23} : 0, a_{24} : \\frac{r_{1103}}{x_{12}}, a_{25} : r_{1107}, a_{34} : r_{1108}, a_{35} : r_{1109}, a_{45} : r_{1110}\\right\\}, \\left\\{d_{1} : 0, d_{2} : 0, d_{3} : 0, d_{4} : 0, d_{5} : 0, a_{12} : r_{1111}, a_{13} : r_{1112}, a_{14} : r_{1113}, a_{15} : r_{1114}, a_{23} : 0, a_{24} : r_{1115}, a_{25} : r_{1116}, a_{34} : r_{1117}, a_{35} : r_{1118}, a_{45} : r_{1119}\\right\\}, \\left\\{d_{1} : r_{1120}, d_{2} : \\frac{r_{1120}}{x_{12}}, d_{3} : r_{1121}, d_{4} : \\frac{r_{1120}}{x_{12} x_{24}}, d_{5} : \\frac{r_{1121}}{x_{35}}, a_{12} : r_{1122}, a_{13} : r_{1123}, a_{14} : r_{1124}, a_{15} : r_{1125}, a_{23} : 0, a_{24} : \\frac{r_{1122}}{x_{12}}, a_{25} : \\frac{r_{1123}}{x_{12}}, a_{34} : r_{1126}, a_{35} : r_{1127}, a_{45} : 0\\right\\}\\right]</script></html>"
      ],
      "text/latex": [
       "$$\\newcommand{\\Bold}[1]{\\mathbf{#1}}\\left[\\left\\{d_{1} : 0, d_{2} : 0, d_{3} : r_{1093}, d_{4} : 0, d_{5} : \\frac{r_{1093}}{x_{35}}, a_{12} : r_{1094}, a_{13} : r_{1095}, a_{14} : r_{1096}, a_{15} : r_{1097}, a_{23} : 0, a_{24} : r_{1098}, a_{25} : r_{1099}, a_{34} : r_{1100}, a_{35} : r_{1101}, a_{45} : 0\\right\\}, \\left\\{d_{1} : r_{1102}, d_{2} : \\frac{r_{1102}}{x_{12}}, d_{3} : 0, d_{4} : \\frac{r_{1102}}{x_{12} x_{24}}, d_{5} : 0, a_{12} : r_{1103}, a_{13} : r_{1104}, a_{14} : r_{1105}, a_{15} : r_{1106}, a_{23} : 0, a_{24} : \\frac{r_{1103}}{x_{12}}, a_{25} : r_{1107}, a_{34} : r_{1108}, a_{35} : r_{1109}, a_{45} : r_{1110}\\right\\}, \\left\\{d_{1} : 0, d_{2} : 0, d_{3} : 0, d_{4} : 0, d_{5} : 0, a_{12} : r_{1111}, a_{13} : r_{1112}, a_{14} : r_{1113}, a_{15} : r_{1114}, a_{23} : 0, a_{24} : r_{1115}, a_{25} : r_{1116}, a_{34} : r_{1117}, a_{35} : r_{1118}, a_{45} : r_{1119}\\right\\}, \\left\\{d_{1} : r_{1120}, d_{2} : \\frac{r_{1120}}{x_{12}}, d_{3} : r_{1121}, d_{4} : \\frac{r_{1120}}{x_{12} x_{24}}, d_{5} : \\frac{r_{1121}}{x_{35}}, a_{12} : r_{1122}, a_{13} : r_{1123}, a_{14} : r_{1124}, a_{15} : r_{1125}, a_{23} : 0, a_{24} : \\frac{r_{1122}}{x_{12}}, a_{25} : \\frac{r_{1123}}{x_{12}}, a_{34} : r_{1126}, a_{35} : r_{1127}, a_{45} : 0\\right\\}\\right]$$"
      ],
      "text/plain": [
       "[{d1: 0,\n",
       "  d2: 0,\n",
       "  d3: r1093,\n",
       "  d4: 0,\n",
       "  d5: r1093/x35,\n",
       "  a12: r1094,\n",
       "  a13: r1095,\n",
       "  a14: r1096,\n",
       "  a15: r1097,\n",
       "  a23: 0,\n",
       "  a24: r1098,\n",
       "  a25: r1099,\n",
       "  a34: r1100,\n",
       "  a35: r1101,\n",
       "  a45: 0},\n",
       " {d1: r1102,\n",
       "  d2: r1102/x12,\n",
       "  d3: 0,\n",
       "  d4: r1102/(x12*x24),\n",
       "  d5: 0,\n",
       "  a12: r1103,\n",
       "  a13: r1104,\n",
       "  a14: r1105,\n",
       "  a15: r1106,\n",
       "  a23: 0,\n",
       "  a24: r1103/x12,\n",
       "  a25: r1107,\n",
       "  a34: r1108,\n",
       "  a35: r1109,\n",
       "  a45: r1110},\n",
       " {d1: 0,\n",
       "  d2: 0,\n",
       "  d3: 0,\n",
       "  d4: 0,\n",
       "  d5: 0,\n",
       "  a12: r1111,\n",
       "  a13: r1112,\n",
       "  a14: r1113,\n",
       "  a15: r1114,\n",
       "  a23: 0,\n",
       "  a24: r1115,\n",
       "  a25: r1116,\n",
       "  a34: r1117,\n",
       "  a35: r1118,\n",
       "  a45: r1119},\n",
       " {d1: r1120,\n",
       "  d2: r1120/x12,\n",
       "  d3: r1121,\n",
       "  d4: r1120/(x12*x24),\n",
       "  d5: r1121/x35,\n",
       "  a12: r1122,\n",
       "  a13: r1123,\n",
       "  a14: r1124,\n",
       "  a15: r1125,\n",
       "  a23: 0,\n",
       "  a24: r1122/x12,\n",
       "  a25: r1123/x12,\n",
       "  a34: r1126,\n",
       "  a35: r1127,\n",
       "  a45: 0}]"
      ]
     },
     "metadata": {},
     "output_type": "display_data"
    },
    {
     "data": {
      "text/plain": [
       "\\left[\\left\\{d_{1} : 0, d_{2} : 0, d_{3} : r_{1093}, d_{4} : 0, d_{5} : \\frac{r_{1093}}{x_{35}}, a_{12} : r_{1094}, a_{13} : r_{1095}, a_{14} : r_{1096}, a_{15} : r_{1097}, a_{23} : 0, a_{24} : r_{1098}, a_{25} : r_{1099}, a_{34} : r_{1100}, a_{35} : r_{1101}, a_{45} : 0\\right\\}, \\left\\{d_{1} : r_{1102}, d_{2} : \\frac{r_{1102}}{x_{12}}, d_{3} : 0, d_{4} : \\frac{r_{1102}}{x_{12} x_{24}}, d_{5} : 0, a_{12} : r_{1103}, a_{13} : r_{1104}, a_{14} : r_{1105}, a_{15} : r_{1106}, a_{23} : 0, a_{24} : \\frac{r_{1103}}{x_{12}}, a_{25} : r_{1107}, a_{34} : r_{1108}, a_{35} : r_{1109}, a_{45} : r_{1110}\\right\\}, \\left\\{d_{1} : 0, d_{2} : 0, d_{3} : 0, d_{4} : 0, d_{5} : 0, a_{12} : r_{1111}, a_{13} : r_{1112}, a_{14} : r_{1113}, a_{15} : r_{1114}, a_{23} : 0, a_{24} : r_{1115}, a_{25} : r_{1116}, a_{34} : r_{1117}, a_{35} : r_{1118}, a_{45} : r_{1119}\\right\\}, \\left\\{d_{1} : r_{1120}, d_{2} : \\frac{r_{1120}}{x_{12}}, d_{3} : r_{1121}, d_{4} : \\frac{r_{1120}}{x_{12} x_{24}}, d_{5} : \\frac{r_{1121}}{x_{35}}, a_{12} : r_{1122}, a_{13} : r_{1123}, a_{14} : r_{1124}, a_{15} : r_{1125}, a_{23} : 0, a_{24} : \\frac{r_{1122}}{x_{12}}, a_{25} : \\frac{r_{1123}}{x_{12}}, a_{34} : r_{1126}, a_{35} : r_{1127}, a_{45} : 0\\right\\}\\right]"
      ]
     },
     "execution_count": 53,
     "metadata": {},
     "output_type": "execute_result"
    }
   ],
   "source": [
    "#x2\n",
    "reset()\n",
    "\n",
    "var('x12,x13,x14,x15,x23,x24,x25,x34,x35,x45')\n",
    "var('d1,d2,d3,d4,d5')\n",
    "var('a12,a13,a14,a15,a23,a24,a25,a34,a35,a45')\n",
    "\n",
    "load_attach_path('C:\\\\Users\\\\julia\\\\Documents\\\\unb\\\\doutorado\\\\pensar\\\\codigo_sage_v2\\\\maquina\\\\x2')\n",
    "load('out_#110000.sage')\n",
    "\n",
    "m=matrix(QQ, [[0, 1, 0, 0, 0],\n",
    "              [0, 0, 0, 1, 0],\n",
    "              [0, 0, 0, 0, 1],\n",
    "              [0, 0, 0, 0, 0],\n",
    "              [0, 0, 0, 0, 0]])\n",
    "        \n",
    "#entry of matrix: (i,j) line i collum j, means (i-1,j-1)\n",
    "sol=solve([ eq1==m[0,1],\teq2==m[0,2],\teq3==m[0,3],\teq4==m[0,4],\t\n",
    "                                            eq5==m[1,3],    eq6==m[1,4],\n",
    "                                                            eq7==m[2,4]],d1,d2,d3,d4,d5,a12,a13,a14,a15,a23,a24,a25,a34,a35,a45, solution_dict=True)\n",
    "\n",
    "show(m)\n",
    "show(sol)\n",
    "latex(sol)"
   ]
  },
  {
   "cell_type": "code",
   "execution_count": 7,
   "metadata": {},
   "outputs": [
    {
     "data": {
      "text/html": [
       "<html><script type=\"math/tex; mode=display\">\\newcommand{\\Bold}[1]{\\mathbf{#1}}\\left(\\begin{array}{rrrrr}\n",
       "0 & 1 & 0 & 0 & 0 \\\\\n",
       "0 & 0 & 0 & 1 & 0 \\\\\n",
       "0 & 0 & 0 & 0 & 1 \\\\\n",
       "0 & 0 & 0 & 0 & 0 \\\\\n",
       "0 & 0 & 0 & 0 & 0\n",
       "\\end{array}\\right)</script></html>"
      ],
      "text/latex": [
       "$$\\newcommand{\\Bold}[1]{\\mathbf{#1}}\\left(\\begin{array}{rrrrr}\n",
       "0 & 1 & 0 & 0 & 0 \\\\\n",
       "0 & 0 & 0 & 1 & 0 \\\\\n",
       "0 & 0 & 0 & 0 & 1 \\\\\n",
       "0 & 0 & 0 & 0 & 0 \\\\\n",
       "0 & 0 & 0 & 0 & 0\n",
       "\\end{array}\\right)$$"
      ],
      "text/plain": [
       "[0 1 0 0 0]\n",
       "[0 0 0 1 0]\n",
       "[0 0 0 0 1]\n",
       "[0 0 0 0 0]\n",
       "[0 0 0 0 0]"
      ]
     },
     "metadata": {},
     "output_type": "display_data"
    },
    {
     "data": {
      "text/html": [
       "<html><script type=\"math/tex; mode=display\">\\newcommand{\\Bold}[1]{\\mathbf{#1}}\\left[\\left\\{d_{1} : 0, d_{2} : 0, d_{3} : r_{142}, d_{4} : 0, d_{5} : \\frac{r_{142}}{x_{35}}, a_{12} : r_{143}, a_{13} : r_{144}, a_{14} : r_{145}, a_{15} : r_{146}, a_{23} : 0, a_{24} : r_{147}, a_{25} : r_{148}, a_{34} : r_{149}, a_{35} : r_{150}, a_{45} : 0\\right\\}, \\left\\{d_{1} : r_{151}, d_{2} : \\frac{r_{151}}{x_{12}}, d_{3} : 0, d_{4} : \\frac{r_{151}}{x_{12} x_{24}}, d_{5} : 0, a_{12} : r_{152}, a_{13} : r_{153}, a_{14} : r_{154}, a_{15} : r_{155}, a_{23} : 0, a_{24} : \\frac{r_{152}}{x_{12}}, a_{25} : r_{156}, a_{34} : r_{157}, a_{35} : r_{158}, a_{45} : r_{159}\\right\\}, \\left\\{d_{1} : 0, d_{2} : 0, d_{3} : 0, d_{4} : 0, d_{5} : 0, a_{12} : r_{160}, a_{13} : r_{161}, a_{14} : r_{162}, a_{15} : r_{163}, a_{23} : 0, a_{24} : r_{164}, a_{25} : r_{165}, a_{34} : r_{166}, a_{35} : r_{167}, a_{45} : r_{168}\\right\\}, \\left\\{d_{1} : r_{169}, d_{2} : \\frac{r_{169}}{x_{12}}, d_{3} : r_{170}, d_{4} : \\frac{r_{169}}{x_{12} x_{24}}, d_{5} : \\frac{r_{170}}{x_{35}}, a_{12} : r_{171}, a_{13} : r_{172}, a_{14} : r_{173}, a_{15} : r_{174}, a_{23} : 0, a_{24} : \\frac{r_{171}}{x_{12}}, a_{25} : -\\frac{r_{170} x_{15} - r_{172} x_{35}}{x_{12} x_{35}}, a_{34} : r_{175}, a_{35} : r_{176}, a_{45} : 0\\right\\}\\right]</script></html>"
      ],
      "text/latex": [
       "$$\\newcommand{\\Bold}[1]{\\mathbf{#1}}\\left[\\left\\{d_{1} : 0, d_{2} : 0, d_{3} : r_{142}, d_{4} : 0, d_{5} : \\frac{r_{142}}{x_{35}}, a_{12} : r_{143}, a_{13} : r_{144}, a_{14} : r_{145}, a_{15} : r_{146}, a_{23} : 0, a_{24} : r_{147}, a_{25} : r_{148}, a_{34} : r_{149}, a_{35} : r_{150}, a_{45} : 0\\right\\}, \\left\\{d_{1} : r_{151}, d_{2} : \\frac{r_{151}}{x_{12}}, d_{3} : 0, d_{4} : \\frac{r_{151}}{x_{12} x_{24}}, d_{5} : 0, a_{12} : r_{152}, a_{13} : r_{153}, a_{14} : r_{154}, a_{15} : r_{155}, a_{23} : 0, a_{24} : \\frac{r_{152}}{x_{12}}, a_{25} : r_{156}, a_{34} : r_{157}, a_{35} : r_{158}, a_{45} : r_{159}\\right\\}, \\left\\{d_{1} : 0, d_{2} : 0, d_{3} : 0, d_{4} : 0, d_{5} : 0, a_{12} : r_{160}, a_{13} : r_{161}, a_{14} : r_{162}, a_{15} : r_{163}, a_{23} : 0, a_{24} : r_{164}, a_{25} : r_{165}, a_{34} : r_{166}, a_{35} : r_{167}, a_{45} : r_{168}\\right\\}, \\left\\{d_{1} : r_{169}, d_{2} : \\frac{r_{169}}{x_{12}}, d_{3} : r_{170}, d_{4} : \\frac{r_{169}}{x_{12} x_{24}}, d_{5} : \\frac{r_{170}}{x_{35}}, a_{12} : r_{171}, a_{13} : r_{172}, a_{14} : r_{173}, a_{15} : r_{174}, a_{23} : 0, a_{24} : \\frac{r_{171}}{x_{12}}, a_{25} : -\\frac{r_{170} x_{15} - r_{172} x_{35}}{x_{12} x_{35}}, a_{34} : r_{175}, a_{35} : r_{176}, a_{45} : 0\\right\\}\\right]$$"
      ],
      "text/plain": [
       "[{d1: 0,\n",
       "  d2: 0,\n",
       "  d3: r142,\n",
       "  d4: 0,\n",
       "  d5: r142/x35,\n",
       "  a12: r143,\n",
       "  a13: r144,\n",
       "  a14: r145,\n",
       "  a15: r146,\n",
       "  a23: 0,\n",
       "  a24: r147,\n",
       "  a25: r148,\n",
       "  a34: r149,\n",
       "  a35: r150,\n",
       "  a45: 0},\n",
       " {d1: r151,\n",
       "  d2: r151/x12,\n",
       "  d3: 0,\n",
       "  d4: r151/(x12*x24),\n",
       "  d5: 0,\n",
       "  a12: r152,\n",
       "  a13: r153,\n",
       "  a14: r154,\n",
       "  a15: r155,\n",
       "  a23: 0,\n",
       "  a24: r152/x12,\n",
       "  a25: r156,\n",
       "  a34: r157,\n",
       "  a35: r158,\n",
       "  a45: r159},\n",
       " {d1: 0,\n",
       "  d2: 0,\n",
       "  d3: 0,\n",
       "  d4: 0,\n",
       "  d5: 0,\n",
       "  a12: r160,\n",
       "  a13: r161,\n",
       "  a14: r162,\n",
       "  a15: r163,\n",
       "  a23: 0,\n",
       "  a24: r164,\n",
       "  a25: r165,\n",
       "  a34: r166,\n",
       "  a35: r167,\n",
       "  a45: r168},\n",
       " {d1: r169,\n",
       "  d2: r169/x12,\n",
       "  d3: r170,\n",
       "  d4: r169/(x12*x24),\n",
       "  d5: r170/x35,\n",
       "  a12: r171,\n",
       "  a13: r172,\n",
       "  a14: r173,\n",
       "  a15: r174,\n",
       "  a23: 0,\n",
       "  a24: r171/x12,\n",
       "  a25: -(r170*x15 - r172*x35)/(x12*x35),\n",
       "  a34: r175,\n",
       "  a35: r176,\n",
       "  a45: 0}]"
      ]
     },
     "metadata": {},
     "output_type": "display_data"
    },
    {
     "data": {
      "text/plain": [
       "\\left[\\left\\{d_{1} : 0, d_{2} : 0, d_{3} : r_{142}, d_{4} : 0, d_{5} : \\frac{r_{142}}{x_{35}}, a_{12} : r_{143}, a_{13} : r_{144}, a_{14} : r_{145}, a_{15} : r_{146}, a_{23} : 0, a_{24} : r_{147}, a_{25} : r_{148}, a_{34} : r_{149}, a_{35} : r_{150}, a_{45} : 0\\right\\}, \\left\\{d_{1} : r_{151}, d_{2} : \\frac{r_{151}}{x_{12}}, d_{3} : 0, d_{4} : \\frac{r_{151}}{x_{12} x_{24}}, d_{5} : 0, a_{12} : r_{152}, a_{13} : r_{153}, a_{14} : r_{154}, a_{15} : r_{155}, a_{23} : 0, a_{24} : \\frac{r_{152}}{x_{12}}, a_{25} : r_{156}, a_{34} : r_{157}, a_{35} : r_{158}, a_{45} : r_{159}\\right\\}, \\left\\{d_{1} : 0, d_{2} : 0, d_{3} : 0, d_{4} : 0, d_{5} : 0, a_{12} : r_{160}, a_{13} : r_{161}, a_{14} : r_{162}, a_{15} : r_{163}, a_{23} : 0, a_{24} : r_{164}, a_{25} : r_{165}, a_{34} : r_{166}, a_{35} : r_{167}, a_{45} : r_{168}\\right\\}, \\left\\{d_{1} : r_{169}, d_{2} : \\frac{r_{169}}{x_{12}}, d_{3} : r_{170}, d_{4} : \\frac{r_{169}}{x_{12} x_{24}}, d_{5} : \\frac{r_{170}}{x_{35}}, a_{12} : r_{171}, a_{13} : r_{172}, a_{14} : r_{173}, a_{15} : r_{174}, a_{23} : 0, a_{24} : \\frac{r_{171}}{x_{12}}, a_{25} : -\\frac{r_{170} x_{15} - r_{172} x_{35}}{x_{12} x_{35}}, a_{34} : r_{175}, a_{35} : r_{176}, a_{45} : 0\\right\\}\\right]"
      ]
     },
     "execution_count": 7,
     "metadata": {},
     "output_type": "execute_result"
    }
   ],
   "source": [
    "#x2\n",
    "reset()\n",
    "\n",
    "var('x12,x13,x14,x15,x23,x24,x25,x34,x35,x45')\n",
    "var('d1,d2,d3,d4,d5')\n",
    "var('a12,a13,a14,a15,a23,a24,a25,a34,a35,a45')\n",
    "\n",
    "load_attach_path('C:\\\\Users\\\\julia\\\\Documents\\\\unb\\\\doutorado\\\\pensar\\\\codigo_sage_v2\\\\maquina\\\\x2')\n",
    "load('out_#110001.sage')\n",
    "\n",
    "m=matrix(QQ, [[0, 1, 0, 0, 0],\n",
    "              [0, 0, 0, 1, 0],\n",
    "              [0, 0, 0, 0, 1],\n",
    "              [0, 0, 0, 0, 0],\n",
    "              [0, 0, 0, 0, 0]])\n",
    "        \n",
    "#entry of matrix: (i,j) line i collum j, means (i-1,j-1)\n",
    "sol=solve([ eq1==m[0,1],\teq2==m[0,2],\teq3==m[0,3],\teq4==m[0,4],\t\n",
    "                                            eq5==m[1,3],    eq6==m[1,4],\n",
    "                                                            eq7==m[2,4]],d1,d2,d3,d4,d5,a12,a13,a14,a15,a23,a24,a25,a34,a35,a45, solution_dict=True)\n",
    "\n",
    "show(m)\n",
    "show(sol)\n",
    "latex(sol)"
   ]
  },
  {
   "cell_type": "code",
   "execution_count": 8,
   "metadata": {},
   "outputs": [
    {
     "data": {
      "text/html": [
       "<html><script type=\"math/tex; mode=display\">\\newcommand{\\Bold}[1]{\\mathbf{#1}}\\left(\\begin{array}{rrrrr}\n",
       "0 & 1 & 0 & 0 & 0 \\\\\n",
       "0 & 0 & 0 & 1 & 0 \\\\\n",
       "0 & 0 & 0 & 0 & 1 \\\\\n",
       "0 & 0 & 0 & 0 & 0 \\\\\n",
       "0 & 0 & 0 & 0 & 0\n",
       "\\end{array}\\right)</script></html>"
      ],
      "text/latex": [
       "$$\\newcommand{\\Bold}[1]{\\mathbf{#1}}\\left(\\begin{array}{rrrrr}\n",
       "0 & 1 & 0 & 0 & 0 \\\\\n",
       "0 & 0 & 0 & 1 & 0 \\\\\n",
       "0 & 0 & 0 & 0 & 1 \\\\\n",
       "0 & 0 & 0 & 0 & 0 \\\\\n",
       "0 & 0 & 0 & 0 & 0\n",
       "\\end{array}\\right)$$"
      ],
      "text/plain": [
       "[0 1 0 0 0]\n",
       "[0 0 0 1 0]\n",
       "[0 0 0 0 1]\n",
       "[0 0 0 0 0]\n",
       "[0 0 0 0 0]"
      ]
     },
     "metadata": {},
     "output_type": "display_data"
    },
    {
     "data": {
      "text/html": [
       "<html><script type=\"math/tex; mode=display\">\\newcommand{\\Bold}[1]{\\mathbf{#1}}\\left[\\left\\{d_{1} : 0, d_{2} : 0, d_{3} : r_{177}, d_{4} : 0, d_{5} : \\frac{r_{177}}{x_{35}}, a_{12} : r_{178}, a_{13} : r_{179}, a_{14} : r_{180}, a_{15} : r_{181}, a_{23} : 0, a_{24} : r_{182}, a_{25} : r_{183}, a_{34} : r_{184}, a_{35} : r_{185}, a_{45} : 0\\right\\}, \\left\\{d_{1} : r_{186}, d_{2} : \\frac{r_{186}}{x_{12}}, d_{3} : 0, d_{4} : \\frac{r_{186}}{x_{12} x_{24}}, d_{5} : 0, a_{12} : r_{187}, a_{13} : r_{188}, a_{14} : r_{189}, a_{15} : r_{190}, a_{23} : 0, a_{24} : \\frac{r_{187} x_{12} x_{24} - r_{186} x_{14}}{x_{12}^{2} x_{24}}, a_{25} : r_{191}, a_{34} : r_{192}, a_{35} : r_{193}, a_{45} : r_{194}\\right\\}, \\left\\{d_{1} : 0, d_{2} : 0, d_{3} : 0, d_{4} : 0, d_{5} : 0, a_{12} : r_{195}, a_{13} : r_{196}, a_{14} : r_{197}, a_{15} : r_{198}, a_{23} : 0, a_{24} : r_{199}, a_{25} : r_{200}, a_{34} : r_{201}, a_{35} : r_{202}, a_{45} : r_{203}\\right\\}, \\left\\{d_{1} : r_{204}, d_{2} : \\frac{r_{204}}{x_{12}}, d_{3} : r_{205}, d_{4} : \\frac{r_{204}}{x_{12} x_{24}}, d_{5} : \\frac{r_{205}}{x_{35}}, a_{12} : r_{206}, a_{13} : r_{207}, a_{14} : r_{208}, a_{15} : r_{209}, a_{23} : 0, a_{24} : \\frac{r_{206} x_{12} x_{24} - r_{204} x_{14}}{x_{12}^{2} x_{24}}, a_{25} : \\frac{r_{207}}{x_{12}}, a_{34} : r_{210}, a_{35} : r_{211}, a_{45} : 0\\right\\}\\right]</script></html>"
      ],
      "text/latex": [
       "$$\\newcommand{\\Bold}[1]{\\mathbf{#1}}\\left[\\left\\{d_{1} : 0, d_{2} : 0, d_{3} : r_{177}, d_{4} : 0, d_{5} : \\frac{r_{177}}{x_{35}}, a_{12} : r_{178}, a_{13} : r_{179}, a_{14} : r_{180}, a_{15} : r_{181}, a_{23} : 0, a_{24} : r_{182}, a_{25} : r_{183}, a_{34} : r_{184}, a_{35} : r_{185}, a_{45} : 0\\right\\}, \\left\\{d_{1} : r_{186}, d_{2} : \\frac{r_{186}}{x_{12}}, d_{3} : 0, d_{4} : \\frac{r_{186}}{x_{12} x_{24}}, d_{5} : 0, a_{12} : r_{187}, a_{13} : r_{188}, a_{14} : r_{189}, a_{15} : r_{190}, a_{23} : 0, a_{24} : \\frac{r_{187} x_{12} x_{24} - r_{186} x_{14}}{x_{12}^{2} x_{24}}, a_{25} : r_{191}, a_{34} : r_{192}, a_{35} : r_{193}, a_{45} : r_{194}\\right\\}, \\left\\{d_{1} : 0, d_{2} : 0, d_{3} : 0, d_{4} : 0, d_{5} : 0, a_{12} : r_{195}, a_{13} : r_{196}, a_{14} : r_{197}, a_{15} : r_{198}, a_{23} : 0, a_{24} : r_{199}, a_{25} : r_{200}, a_{34} : r_{201}, a_{35} : r_{202}, a_{45} : r_{203}\\right\\}, \\left\\{d_{1} : r_{204}, d_{2} : \\frac{r_{204}}{x_{12}}, d_{3} : r_{205}, d_{4} : \\frac{r_{204}}{x_{12} x_{24}}, d_{5} : \\frac{r_{205}}{x_{35}}, a_{12} : r_{206}, a_{13} : r_{207}, a_{14} : r_{208}, a_{15} : r_{209}, a_{23} : 0, a_{24} : \\frac{r_{206} x_{12} x_{24} - r_{204} x_{14}}{x_{12}^{2} x_{24}}, a_{25} : \\frac{r_{207}}{x_{12}}, a_{34} : r_{210}, a_{35} : r_{211}, a_{45} : 0\\right\\}\\right]$$"
      ],
      "text/plain": [
       "[{d1: 0,\n",
       "  d2: 0,\n",
       "  d3: r177,\n",
       "  d4: 0,\n",
       "  d5: r177/x35,\n",
       "  a12: r178,\n",
       "  a13: r179,\n",
       "  a14: r180,\n",
       "  a15: r181,\n",
       "  a23: 0,\n",
       "  a24: r182,\n",
       "  a25: r183,\n",
       "  a34: r184,\n",
       "  a35: r185,\n",
       "  a45: 0},\n",
       " {d1: r186,\n",
       "  d2: r186/x12,\n",
       "  d3: 0,\n",
       "  d4: r186/(x12*x24),\n",
       "  d5: 0,\n",
       "  a12: r187,\n",
       "  a13: r188,\n",
       "  a14: r189,\n",
       "  a15: r190,\n",
       "  a23: 0,\n",
       "  a24: (r187*x12*x24 - r186*x14)/(x12^2*x24),\n",
       "  a25: r191,\n",
       "  a34: r192,\n",
       "  a35: r193,\n",
       "  a45: r194},\n",
       " {d1: 0,\n",
       "  d2: 0,\n",
       "  d3: 0,\n",
       "  d4: 0,\n",
       "  d5: 0,\n",
       "  a12: r195,\n",
       "  a13: r196,\n",
       "  a14: r197,\n",
       "  a15: r198,\n",
       "  a23: 0,\n",
       "  a24: r199,\n",
       "  a25: r200,\n",
       "  a34: r201,\n",
       "  a35: r202,\n",
       "  a45: r203},\n",
       " {d1: r204,\n",
       "  d2: r204/x12,\n",
       "  d3: r205,\n",
       "  d4: r204/(x12*x24),\n",
       "  d5: r205/x35,\n",
       "  a12: r206,\n",
       "  a13: r207,\n",
       "  a14: r208,\n",
       "  a15: r209,\n",
       "  a23: 0,\n",
       "  a24: (r206*x12*x24 - r204*x14)/(x12^2*x24),\n",
       "  a25: r207/x12,\n",
       "  a34: r210,\n",
       "  a35: r211,\n",
       "  a45: 0}]"
      ]
     },
     "metadata": {},
     "output_type": "display_data"
    },
    {
     "data": {
      "text/plain": [
       "\\left[\\left\\{d_{1} : 0, d_{2} : 0, d_{3} : r_{177}, d_{4} : 0, d_{5} : \\frac{r_{177}}{x_{35}}, a_{12} : r_{178}, a_{13} : r_{179}, a_{14} : r_{180}, a_{15} : r_{181}, a_{23} : 0, a_{24} : r_{182}, a_{25} : r_{183}, a_{34} : r_{184}, a_{35} : r_{185}, a_{45} : 0\\right\\}, \\left\\{d_{1} : r_{186}, d_{2} : \\frac{r_{186}}{x_{12}}, d_{3} : 0, d_{4} : \\frac{r_{186}}{x_{12} x_{24}}, d_{5} : 0, a_{12} : r_{187}, a_{13} : r_{188}, a_{14} : r_{189}, a_{15} : r_{190}, a_{23} : 0, a_{24} : \\frac{r_{187} x_{12} x_{24} - r_{186} x_{14}}{x_{12}^{2} x_{24}}, a_{25} : r_{191}, a_{34} : r_{192}, a_{35} : r_{193}, a_{45} : r_{194}\\right\\}, \\left\\{d_{1} : 0, d_{2} : 0, d_{3} : 0, d_{4} : 0, d_{5} : 0, a_{12} : r_{195}, a_{13} : r_{196}, a_{14} : r_{197}, a_{15} : r_{198}, a_{23} : 0, a_{24} : r_{199}, a_{25} : r_{200}, a_{34} : r_{201}, a_{35} : r_{202}, a_{45} : r_{203}\\right\\}, \\left\\{d_{1} : r_{204}, d_{2} : \\frac{r_{204}}{x_{12}}, d_{3} : r_{205}, d_{4} : \\frac{r_{204}}{x_{12} x_{24}}, d_{5} : \\frac{r_{205}}{x_{35}}, a_{12} : r_{206}, a_{13} : r_{207}, a_{14} : r_{208}, a_{15} : r_{209}, a_{23} : 0, a_{24} : \\frac{r_{206} x_{12} x_{24} - r_{204} x_{14}}{x_{12}^{2} x_{24}}, a_{25} : \\frac{r_{207}}{x_{12}}, a_{34} : r_{210}, a_{35} : r_{211}, a_{45} : 0\\right\\}\\right]"
      ]
     },
     "execution_count": 8,
     "metadata": {},
     "output_type": "execute_result"
    }
   ],
   "source": [
    "#x2\n",
    "reset()\n",
    "\n",
    "var('x12,x13,x14,x15,x23,x24,x25,x34,x35,x45')\n",
    "var('d1,d2,d3,d4,d5')\n",
    "var('a12,a13,a14,a15,a23,a24,a25,a34,a35,a45')\n",
    "\n",
    "load_attach_path('C:\\\\Users\\\\julia\\\\Documents\\\\unb\\\\doutorado\\\\pensar\\\\codigo_sage_v2\\\\maquina\\\\x2')\n",
    "load('out_#110010.sage')\n",
    "\n",
    "m=matrix(QQ, [[0, 1, 0, 0, 0],\n",
    "              [0, 0, 0, 1, 0],\n",
    "              [0, 0, 0, 0, 1],\n",
    "              [0, 0, 0, 0, 0],\n",
    "              [0, 0, 0, 0, 0]])\n",
    "        \n",
    "#entry of matrix: (i,j) line i collum j, means (i-1,j-1)\n",
    "sol=solve([ eq1==m[0,1],\teq2==m[0,2],\teq3==m[0,3],\teq4==m[0,4],\t\n",
    "                                            eq5==m[1,3],    eq6==m[1,4],\n",
    "                                                            eq7==m[2,4]],d1,d2,d3,d4,d5,a12,a13,a14,a15,a23,a24,a25,a34,a35,a45, solution_dict=True)\n",
    "\n",
    "show(m)\n",
    "show(sol)\n",
    "latex(sol)"
   ]
  },
  {
   "cell_type": "code",
   "execution_count": 9,
   "metadata": {},
   "outputs": [
    {
     "data": {
      "text/html": [
       "<html><script type=\"math/tex; mode=display\">\\newcommand{\\Bold}[1]{\\mathbf{#1}}\\left(\\begin{array}{rrrrr}\n",
       "0 & 1 & 0 & 0 & 0 \\\\\n",
       "0 & 0 & 0 & 1 & 0 \\\\\n",
       "0 & 0 & 0 & 0 & 1 \\\\\n",
       "0 & 0 & 0 & 0 & 0 \\\\\n",
       "0 & 0 & 0 & 0 & 0\n",
       "\\end{array}\\right)</script></html>"
      ],
      "text/latex": [
       "$$\\newcommand{\\Bold}[1]{\\mathbf{#1}}\\left(\\begin{array}{rrrrr}\n",
       "0 & 1 & 0 & 0 & 0 \\\\\n",
       "0 & 0 & 0 & 1 & 0 \\\\\n",
       "0 & 0 & 0 & 0 & 1 \\\\\n",
       "0 & 0 & 0 & 0 & 0 \\\\\n",
       "0 & 0 & 0 & 0 & 0\n",
       "\\end{array}\\right)$$"
      ],
      "text/plain": [
       "[0 1 0 0 0]\n",
       "[0 0 0 1 0]\n",
       "[0 0 0 0 1]\n",
       "[0 0 0 0 0]\n",
       "[0 0 0 0 0]"
      ]
     },
     "metadata": {},
     "output_type": "display_data"
    },
    {
     "data": {
      "text/html": [
       "<html><script type=\"math/tex; mode=display\">\\newcommand{\\Bold}[1]{\\mathbf{#1}}\\left[\\left\\{d_{1} : 0, d_{2} : 0, d_{3} : r_{212}, d_{4} : 0, d_{5} : \\frac{r_{212}}{x_{35}}, a_{12} : r_{213}, a_{13} : r_{214}, a_{14} : r_{215}, a_{15} : r_{216}, a_{23} : 0, a_{24} : r_{217}, a_{25} : r_{218}, a_{34} : r_{219}, a_{35} : r_{220}, a_{45} : 0\\right\\}, \\left\\{d_{1} : r_{221}, d_{2} : \\frac{r_{221}}{x_{12}}, d_{3} : 0, d_{4} : \\frac{r_{221}}{x_{12} x_{24}}, d_{5} : 0, a_{12} : r_{222}, a_{13} : r_{223}, a_{14} : r_{224}, a_{15} : r_{225}, a_{23} : 0, a_{24} : \\frac{r_{222} x_{12} x_{24} - r_{221} x_{14}}{x_{12}^{2} x_{24}}, a_{25} : r_{226}, a_{34} : r_{227}, a_{35} : r_{228}, a_{45} : r_{229}\\right\\}, \\left\\{d_{1} : 0, d_{2} : 0, d_{3} : 0, d_{4} : 0, d_{5} : 0, a_{12} : r_{230}, a_{13} : r_{231}, a_{14} : r_{232}, a_{15} : r_{233}, a_{23} : 0, a_{24} : r_{234}, a_{25} : r_{235}, a_{34} : r_{236}, a_{35} : r_{237}, a_{45} : r_{238}\\right\\}, \\left\\{d_{1} : r_{239}, d_{2} : \\frac{r_{239}}{x_{12}}, d_{3} : r_{240}, d_{4} : \\frac{r_{239}}{x_{12} x_{24}}, d_{5} : \\frac{r_{240}}{x_{35}}, a_{12} : r_{241}, a_{13} : r_{242}, a_{14} : r_{243}, a_{15} : r_{244}, a_{23} : 0, a_{24} : \\frac{r_{241} x_{12} x_{24} - r_{239} x_{14}}{x_{12}^{2} x_{24}}, a_{25} : -\\frac{r_{240} x_{15} - r_{242} x_{35}}{x_{12} x_{35}}, a_{34} : r_{245}, a_{35} : r_{246}, a_{45} : 0\\right\\}\\right]</script></html>"
      ],
      "text/latex": [
       "$$\\newcommand{\\Bold}[1]{\\mathbf{#1}}\\left[\\left\\{d_{1} : 0, d_{2} : 0, d_{3} : r_{212}, d_{4} : 0, d_{5} : \\frac{r_{212}}{x_{35}}, a_{12} : r_{213}, a_{13} : r_{214}, a_{14} : r_{215}, a_{15} : r_{216}, a_{23} : 0, a_{24} : r_{217}, a_{25} : r_{218}, a_{34} : r_{219}, a_{35} : r_{220}, a_{45} : 0\\right\\}, \\left\\{d_{1} : r_{221}, d_{2} : \\frac{r_{221}}{x_{12}}, d_{3} : 0, d_{4} : \\frac{r_{221}}{x_{12} x_{24}}, d_{5} : 0, a_{12} : r_{222}, a_{13} : r_{223}, a_{14} : r_{224}, a_{15} : r_{225}, a_{23} : 0, a_{24} : \\frac{r_{222} x_{12} x_{24} - r_{221} x_{14}}{x_{12}^{2} x_{24}}, a_{25} : r_{226}, a_{34} : r_{227}, a_{35} : r_{228}, a_{45} : r_{229}\\right\\}, \\left\\{d_{1} : 0, d_{2} : 0, d_{3} : 0, d_{4} : 0, d_{5} : 0, a_{12} : r_{230}, a_{13} : r_{231}, a_{14} : r_{232}, a_{15} : r_{233}, a_{23} : 0, a_{24} : r_{234}, a_{25} : r_{235}, a_{34} : r_{236}, a_{35} : r_{237}, a_{45} : r_{238}\\right\\}, \\left\\{d_{1} : r_{239}, d_{2} : \\frac{r_{239}}{x_{12}}, d_{3} : r_{240}, d_{4} : \\frac{r_{239}}{x_{12} x_{24}}, d_{5} : \\frac{r_{240}}{x_{35}}, a_{12} : r_{241}, a_{13} : r_{242}, a_{14} : r_{243}, a_{15} : r_{244}, a_{23} : 0, a_{24} : \\frac{r_{241} x_{12} x_{24} - r_{239} x_{14}}{x_{12}^{2} x_{24}}, a_{25} : -\\frac{r_{240} x_{15} - r_{242} x_{35}}{x_{12} x_{35}}, a_{34} : r_{245}, a_{35} : r_{246}, a_{45} : 0\\right\\}\\right]$$"
      ],
      "text/plain": [
       "[{d1: 0,\n",
       "  d2: 0,\n",
       "  d3: r212,\n",
       "  d4: 0,\n",
       "  d5: r212/x35,\n",
       "  a12: r213,\n",
       "  a13: r214,\n",
       "  a14: r215,\n",
       "  a15: r216,\n",
       "  a23: 0,\n",
       "  a24: r217,\n",
       "  a25: r218,\n",
       "  a34: r219,\n",
       "  a35: r220,\n",
       "  a45: 0},\n",
       " {d1: r221,\n",
       "  d2: r221/x12,\n",
       "  d3: 0,\n",
       "  d4: r221/(x12*x24),\n",
       "  d5: 0,\n",
       "  a12: r222,\n",
       "  a13: r223,\n",
       "  a14: r224,\n",
       "  a15: r225,\n",
       "  a23: 0,\n",
       "  a24: (r222*x12*x24 - r221*x14)/(x12^2*x24),\n",
       "  a25: r226,\n",
       "  a34: r227,\n",
       "  a35: r228,\n",
       "  a45: r229},\n",
       " {d1: 0,\n",
       "  d2: 0,\n",
       "  d3: 0,\n",
       "  d4: 0,\n",
       "  d5: 0,\n",
       "  a12: r230,\n",
       "  a13: r231,\n",
       "  a14: r232,\n",
       "  a15: r233,\n",
       "  a23: 0,\n",
       "  a24: r234,\n",
       "  a25: r235,\n",
       "  a34: r236,\n",
       "  a35: r237,\n",
       "  a45: r238},\n",
       " {d1: r239,\n",
       "  d2: r239/x12,\n",
       "  d3: r240,\n",
       "  d4: r239/(x12*x24),\n",
       "  d5: r240/x35,\n",
       "  a12: r241,\n",
       "  a13: r242,\n",
       "  a14: r243,\n",
       "  a15: r244,\n",
       "  a23: 0,\n",
       "  a24: (r241*x12*x24 - r239*x14)/(x12^2*x24),\n",
       "  a25: -(r240*x15 - r242*x35)/(x12*x35),\n",
       "  a34: r245,\n",
       "  a35: r246,\n",
       "  a45: 0}]"
      ]
     },
     "metadata": {},
     "output_type": "display_data"
    },
    {
     "data": {
      "text/plain": [
       "\\left[\\left\\{d_{1} : 0, d_{2} : 0, d_{3} : r_{212}, d_{4} : 0, d_{5} : \\frac{r_{212}}{x_{35}}, a_{12} : r_{213}, a_{13} : r_{214}, a_{14} : r_{215}, a_{15} : r_{216}, a_{23} : 0, a_{24} : r_{217}, a_{25} : r_{218}, a_{34} : r_{219}, a_{35} : r_{220}, a_{45} : 0\\right\\}, \\left\\{d_{1} : r_{221}, d_{2} : \\frac{r_{221}}{x_{12}}, d_{3} : 0, d_{4} : \\frac{r_{221}}{x_{12} x_{24}}, d_{5} : 0, a_{12} : r_{222}, a_{13} : r_{223}, a_{14} : r_{224}, a_{15} : r_{225}, a_{23} : 0, a_{24} : \\frac{r_{222} x_{12} x_{24} - r_{221} x_{14}}{x_{12}^{2} x_{24}}, a_{25} : r_{226}, a_{34} : r_{227}, a_{35} : r_{228}, a_{45} : r_{229}\\right\\}, \\left\\{d_{1} : 0, d_{2} : 0, d_{3} : 0, d_{4} : 0, d_{5} : 0, a_{12} : r_{230}, a_{13} : r_{231}, a_{14} : r_{232}, a_{15} : r_{233}, a_{23} : 0, a_{24} : r_{234}, a_{25} : r_{235}, a_{34} : r_{236}, a_{35} : r_{237}, a_{45} : r_{238}\\right\\}, \\left\\{d_{1} : r_{239}, d_{2} : \\frac{r_{239}}{x_{12}}, d_{3} : r_{240}, d_{4} : \\frac{r_{239}}{x_{12} x_{24}}, d_{5} : \\frac{r_{240}}{x_{35}}, a_{12} : r_{241}, a_{13} : r_{242}, a_{14} : r_{243}, a_{15} : r_{244}, a_{23} : 0, a_{24} : \\frac{r_{241} x_{12} x_{24} - r_{239} x_{14}}{x_{12}^{2} x_{24}}, a_{25} : -\\frac{r_{240} x_{15} - r_{242} x_{35}}{x_{12} x_{35}}, a_{34} : r_{245}, a_{35} : r_{246}, a_{45} : 0\\right\\}\\right]"
      ]
     },
     "execution_count": 9,
     "metadata": {},
     "output_type": "execute_result"
    }
   ],
   "source": [
    "#x2\n",
    "reset()\n",
    "\n",
    "var('x12,x13,x14,x15,x23,x24,x25,x34,x35,x45')\n",
    "var('d1,d2,d3,d4,d5')\n",
    "var('a12,a13,a14,a15,a23,a24,a25,a34,a35,a45')\n",
    "\n",
    "load_attach_path('C:\\\\Users\\\\julia\\\\Documents\\\\unb\\\\doutorado\\\\pensar\\\\codigo_sage_v2\\\\maquina\\\\x2')\n",
    "load('out_#110011.sage')\n",
    "\n",
    "m=matrix(QQ, [[0, 1, 0, 0, 0],\n",
    "              [0, 0, 0, 1, 0],\n",
    "              [0, 0, 0, 0, 1],\n",
    "              [0, 0, 0, 0, 0],\n",
    "              [0, 0, 0, 0, 0]])\n",
    "        \n",
    "#entry of matrix: (i,j) line i collum j, means (i-1,j-1)\n",
    "sol=solve([ eq1==m[0,1],\teq2==m[0,2],\teq3==m[0,3],\teq4==m[0,4],\t\n",
    "                                            eq5==m[1,3],    eq6==m[1,4],\n",
    "                                                            eq7==m[2,4]],d1,d2,d3,d4,d5,a12,a13,a14,a15,a23,a24,a25,a34,a35,a45, solution_dict=True)\n",
    "\n",
    "show(m)\n",
    "show(sol)\n",
    "latex(sol)"
   ]
  },
  {
   "cell_type": "code",
   "execution_count": 10,
   "metadata": {},
   "outputs": [
    {
     "data": {
      "text/html": [
       "<html><script type=\"math/tex; mode=display\">\\newcommand{\\Bold}[1]{\\mathbf{#1}}\\left(\\begin{array}{rrrrr}\n",
       "0 & 1 & 0 & 0 & 0 \\\\\n",
       "0 & 0 & 0 & 1 & 0 \\\\\n",
       "0 & 0 & 0 & 0 & 1 \\\\\n",
       "0 & 0 & 0 & 0 & 0 \\\\\n",
       "0 & 0 & 0 & 0 & 0\n",
       "\\end{array}\\right)</script></html>"
      ],
      "text/latex": [
       "$$\\newcommand{\\Bold}[1]{\\mathbf{#1}}\\left(\\begin{array}{rrrrr}\n",
       "0 & 1 & 0 & 0 & 0 \\\\\n",
       "0 & 0 & 0 & 1 & 0 \\\\\n",
       "0 & 0 & 0 & 0 & 1 \\\\\n",
       "0 & 0 & 0 & 0 & 0 \\\\\n",
       "0 & 0 & 0 & 0 & 0\n",
       "\\end{array}\\right)$$"
      ],
      "text/plain": [
       "[0 1 0 0 0]\n",
       "[0 0 0 1 0]\n",
       "[0 0 0 0 1]\n",
       "[0 0 0 0 0]\n",
       "[0 0 0 0 0]"
      ]
     },
     "metadata": {},
     "output_type": "display_data"
    },
    {
     "data": {
      "text/html": [
       "<html><script type=\"math/tex; mode=display\">\\newcommand{\\Bold}[1]{\\mathbf{#1}}\\left[\\left\\{d_{1} : 0, d_{2} : 0, d_{3} : r_{247}, d_{4} : 0, d_{5} : \\frac{r_{247}}{x_{35}}, a_{12} : r_{248}, a_{13} : r_{249}, a_{14} : r_{250}, a_{15} : r_{251}, a_{23} : -\\frac{r_{247} x_{13}}{x_{12}}, a_{24} : r_{252}, a_{25} : r_{253}, a_{34} : r_{254}, a_{35} : r_{255}, a_{45} : -\\frac{r_{247} x_{13}}{x_{12} x_{24}}\\right\\}, \\left\\{d_{1} : r_{256}, d_{2} : \\frac{r_{256}}{x_{12}}, d_{3} : 0, d_{4} : \\frac{r_{256}}{x_{12} x_{24}}, d_{5} : 0, a_{12} : r_{257}, a_{13} : r_{258}, a_{14} : r_{259}, a_{15} : r_{260}, a_{23} : 0, a_{24} : r_{261}, a_{25} : r_{262}, a_{34} : -\\frac{r_{261} x_{12} - r_{257}}{x_{13}}, a_{35} : r_{263}, a_{45} : r_{264}\\right\\}, \\left\\{d_{1} : 0, d_{2} : 0, d_{3} : 0, d_{4} : 0, d_{5} : 0, a_{12} : r_{265}, a_{13} : r_{266}, a_{14} : r_{267}, a_{15} : r_{268}, a_{23} : 0, a_{24} : r_{269}, a_{25} : r_{270}, a_{34} : r_{271}, a_{35} : r_{272}, a_{45} : r_{273}\\right\\}, \\left\\{d_{1} : r_{274}, d_{2} : \\frac{r_{274}}{x_{12}}, d_{3} : r_{275}, d_{4} : \\frac{r_{274}}{x_{12} x_{24}}, d_{5} : \\frac{r_{275}}{x_{35}}, a_{12} : r_{276}, a_{13} : r_{277}, a_{14} : r_{278}, a_{15} : r_{279}, a_{23} : -\\frac{r_{275} x_{13}}{x_{12}}, a_{24} : r_{280}, a_{25} : r_{281}, a_{34} : -\\frac{r_{280} x_{12} - r_{276}}{x_{13}}, a_{35} : -\\frac{r_{281} x_{12} - r_{277}}{x_{13}}, a_{45} : -\\frac{r_{275} x_{13}}{x_{12} x_{24}}\\right\\}\\right]</script></html>"
      ],
      "text/latex": [
       "$$\\newcommand{\\Bold}[1]{\\mathbf{#1}}\\left[\\left\\{d_{1} : 0, d_{2} : 0, d_{3} : r_{247}, d_{4} : 0, d_{5} : \\frac{r_{247}}{x_{35}}, a_{12} : r_{248}, a_{13} : r_{249}, a_{14} : r_{250}, a_{15} : r_{251}, a_{23} : -\\frac{r_{247} x_{13}}{x_{12}}, a_{24} : r_{252}, a_{25} : r_{253}, a_{34} : r_{254}, a_{35} : r_{255}, a_{45} : -\\frac{r_{247} x_{13}}{x_{12} x_{24}}\\right\\}, \\left\\{d_{1} : r_{256}, d_{2} : \\frac{r_{256}}{x_{12}}, d_{3} : 0, d_{4} : \\frac{r_{256}}{x_{12} x_{24}}, d_{5} : 0, a_{12} : r_{257}, a_{13} : r_{258}, a_{14} : r_{259}, a_{15} : r_{260}, a_{23} : 0, a_{24} : r_{261}, a_{25} : r_{262}, a_{34} : -\\frac{r_{261} x_{12} - r_{257}}{x_{13}}, a_{35} : r_{263}, a_{45} : r_{264}\\right\\}, \\left\\{d_{1} : 0, d_{2} : 0, d_{3} : 0, d_{4} : 0, d_{5} : 0, a_{12} : r_{265}, a_{13} : r_{266}, a_{14} : r_{267}, a_{15} : r_{268}, a_{23} : 0, a_{24} : r_{269}, a_{25} : r_{270}, a_{34} : r_{271}, a_{35} : r_{272}, a_{45} : r_{273}\\right\\}, \\left\\{d_{1} : r_{274}, d_{2} : \\frac{r_{274}}{x_{12}}, d_{3} : r_{275}, d_{4} : \\frac{r_{274}}{x_{12} x_{24}}, d_{5} : \\frac{r_{275}}{x_{35}}, a_{12} : r_{276}, a_{13} : r_{277}, a_{14} : r_{278}, a_{15} : r_{279}, a_{23} : -\\frac{r_{275} x_{13}}{x_{12}}, a_{24} : r_{280}, a_{25} : r_{281}, a_{34} : -\\frac{r_{280} x_{12} - r_{276}}{x_{13}}, a_{35} : -\\frac{r_{281} x_{12} - r_{277}}{x_{13}}, a_{45} : -\\frac{r_{275} x_{13}}{x_{12} x_{24}}\\right\\}\\right]$$"
      ],
      "text/plain": [
       "[{d1: 0,\n",
       "  d2: 0,\n",
       "  d3: r247,\n",
       "  d4: 0,\n",
       "  d5: r247/x35,\n",
       "  a12: r248,\n",
       "  a13: r249,\n",
       "  a14: r250,\n",
       "  a15: r251,\n",
       "  a23: -r247*x13/x12,\n",
       "  a24: r252,\n",
       "  a25: r253,\n",
       "  a34: r254,\n",
       "  a35: r255,\n",
       "  a45: -r247*x13/(x12*x24)},\n",
       " {d1: r256,\n",
       "  d2: r256/x12,\n",
       "  d3: 0,\n",
       "  d4: r256/(x12*x24),\n",
       "  d5: 0,\n",
       "  a12: r257,\n",
       "  a13: r258,\n",
       "  a14: r259,\n",
       "  a15: r260,\n",
       "  a23: 0,\n",
       "  a24: r261,\n",
       "  a25: r262,\n",
       "  a34: -(r261*x12 - r257)/x13,\n",
       "  a35: r263,\n",
       "  a45: r264},\n",
       " {d1: 0,\n",
       "  d2: 0,\n",
       "  d3: 0,\n",
       "  d4: 0,\n",
       "  d5: 0,\n",
       "  a12: r265,\n",
       "  a13: r266,\n",
       "  a14: r267,\n",
       "  a15: r268,\n",
       "  a23: 0,\n",
       "  a24: r269,\n",
       "  a25: r270,\n",
       "  a34: r271,\n",
       "  a35: r272,\n",
       "  a45: r273},\n",
       " {d1: r274,\n",
       "  d2: r274/x12,\n",
       "  d3: r275,\n",
       "  d4: r274/(x12*x24),\n",
       "  d5: r275/x35,\n",
       "  a12: r276,\n",
       "  a13: r277,\n",
       "  a14: r278,\n",
       "  a15: r279,\n",
       "  a23: -r275*x13/x12,\n",
       "  a24: r280,\n",
       "  a25: r281,\n",
       "  a34: -(r280*x12 - r276)/x13,\n",
       "  a35: -(r281*x12 - r277)/x13,\n",
       "  a45: -r275*x13/(x12*x24)}]"
      ]
     },
     "metadata": {},
     "output_type": "display_data"
    },
    {
     "data": {
      "text/plain": [
       "\\left[\\left\\{d_{1} : 0, d_{2} : 0, d_{3} : r_{247}, d_{4} : 0, d_{5} : \\frac{r_{247}}{x_{35}}, a_{12} : r_{248}, a_{13} : r_{249}, a_{14} : r_{250}, a_{15} : r_{251}, a_{23} : -\\frac{r_{247} x_{13}}{x_{12}}, a_{24} : r_{252}, a_{25} : r_{253}, a_{34} : r_{254}, a_{35} : r_{255}, a_{45} : -\\frac{r_{247} x_{13}}{x_{12} x_{24}}\\right\\}, \\left\\{d_{1} : r_{256}, d_{2} : \\frac{r_{256}}{x_{12}}, d_{3} : 0, d_{4} : \\frac{r_{256}}{x_{12} x_{24}}, d_{5} : 0, a_{12} : r_{257}, a_{13} : r_{258}, a_{14} : r_{259}, a_{15} : r_{260}, a_{23} : 0, a_{24} : r_{261}, a_{25} : r_{262}, a_{34} : -\\frac{r_{261} x_{12} - r_{257}}{x_{13}}, a_{35} : r_{263}, a_{45} : r_{264}\\right\\}, \\left\\{d_{1} : 0, d_{2} : 0, d_{3} : 0, d_{4} : 0, d_{5} : 0, a_{12} : r_{265}, a_{13} : r_{266}, a_{14} : r_{267}, a_{15} : r_{268}, a_{23} : 0, a_{24} : r_{269}, a_{25} : r_{270}, a_{34} : r_{271}, a_{35} : r_{272}, a_{45} : r_{273}\\right\\}, \\left\\{d_{1} : r_{274}, d_{2} : \\frac{r_{274}}{x_{12}}, d_{3} : r_{275}, d_{4} : \\frac{r_{274}}{x_{12} x_{24}}, d_{5} : \\frac{r_{275}}{x_{35}}, a_{12} : r_{276}, a_{13} : r_{277}, a_{14} : r_{278}, a_{15} : r_{279}, a_{23} : -\\frac{r_{275} x_{13}}{x_{12}}, a_{24} : r_{280}, a_{25} : r_{281}, a_{34} : -\\frac{r_{280} x_{12} - r_{276}}{x_{13}}, a_{35} : -\\frac{r_{281} x_{12} - r_{277}}{x_{13}}, a_{45} : -\\frac{r_{275} x_{13}}{x_{12} x_{24}}\\right\\}\\right]"
      ]
     },
     "execution_count": 10,
     "metadata": {},
     "output_type": "execute_result"
    }
   ],
   "source": [
    "#x2\n",
    "reset()\n",
    "\n",
    "var('x12,x13,x14,x15,x23,x24,x25,x34,x35,x45')\n",
    "var('d1,d2,d3,d4,d5')\n",
    "var('a12,a13,a14,a15,a23,a24,a25,a34,a35,a45')\n",
    "\n",
    "load_attach_path('C:\\\\Users\\\\julia\\\\Documents\\\\unb\\\\doutorado\\\\pensar\\\\codigo_sage_v2\\\\maquina\\\\x2')\n",
    "load('out_#110100.sage')\n",
    "\n",
    "m=matrix(QQ, [[0, 1, 0, 0, 0],\n",
    "              [0, 0, 0, 1, 0],\n",
    "              [0, 0, 0, 0, 1],\n",
    "              [0, 0, 0, 0, 0],\n",
    "              [0, 0, 0, 0, 0]])\n",
    "        \n",
    "#entry of matrix: (i,j) line i collum j, means (i-1,j-1)\n",
    "sol=solve([ eq1==m[0,1],\teq2==m[0,2],\teq3==m[0,3],\teq4==m[0,4],\t\n",
    "                                            eq5==m[1,3],    eq6==m[1,4],\n",
    "                                                            eq7==m[2,4]],d1,d2,d3,d4,d5,a12,a13,a14,a15,a23,a24,a25,a34,a35,a45, solution_dict=True)\n",
    "\n",
    "show(m)\n",
    "show(sol)\n",
    "latex(sol)"
   ]
  },
  {
   "cell_type": "code",
   "execution_count": 11,
   "metadata": {},
   "outputs": [
    {
     "data": {
      "text/html": [
       "<html><script type=\"math/tex; mode=display\">\\newcommand{\\Bold}[1]{\\mathbf{#1}}\\left(\\begin{array}{rrrrr}\n",
       "0 & 1 & 0 & 0 & 0 \\\\\n",
       "0 & 0 & 0 & 1 & 0 \\\\\n",
       "0 & 0 & 0 & 0 & 1 \\\\\n",
       "0 & 0 & 0 & 0 & 0 \\\\\n",
       "0 & 0 & 0 & 0 & 0\n",
       "\\end{array}\\right)</script></html>"
      ],
      "text/latex": [
       "$$\\newcommand{\\Bold}[1]{\\mathbf{#1}}\\left(\\begin{array}{rrrrr}\n",
       "0 & 1 & 0 & 0 & 0 \\\\\n",
       "0 & 0 & 0 & 1 & 0 \\\\\n",
       "0 & 0 & 0 & 0 & 1 \\\\\n",
       "0 & 0 & 0 & 0 & 0 \\\\\n",
       "0 & 0 & 0 & 0 & 0\n",
       "\\end{array}\\right)$$"
      ],
      "text/plain": [
       "[0 1 0 0 0]\n",
       "[0 0 0 1 0]\n",
       "[0 0 0 0 1]\n",
       "[0 0 0 0 0]\n",
       "[0 0 0 0 0]"
      ]
     },
     "metadata": {},
     "output_type": "display_data"
    },
    {
     "data": {
      "text/html": [
       "<html><script type=\"math/tex; mode=display\">\\newcommand{\\Bold}[1]{\\mathbf{#1}}\\left[\\left\\{d_{1} : 0, d_{2} : 0, d_{3} : r_{282}, d_{4} : 0, d_{5} : \\frac{r_{282}}{x_{35}}, a_{12} : r_{283}, a_{13} : r_{284}, a_{14} : r_{285}, a_{15} : r_{286}, a_{23} : -\\frac{r_{282} x_{13}}{x_{12}}, a_{24} : r_{287}, a_{25} : r_{288}, a_{34} : r_{289}, a_{35} : r_{290}, a_{45} : -\\frac{r_{282} x_{13}}{x_{12} x_{24}}\\right\\}, \\left\\{d_{1} : r_{291}, d_{2} : \\frac{r_{291}}{x_{12}}, d_{3} : 0, d_{4} : \\frac{r_{291}}{x_{12} x_{24}}, d_{5} : 0, a_{12} : r_{292}, a_{13} : r_{293}, a_{14} : r_{294}, a_{15} : r_{295}, a_{23} : 0, a_{24} : r_{296}, a_{25} : r_{297}, a_{34} : -\\frac{r_{296} x_{12} - r_{292}}{x_{13}}, a_{35} : r_{298}, a_{45} : r_{299}\\right\\}, \\left\\{d_{1} : 0, d_{2} : 0, d_{3} : 0, d_{4} : 0, d_{5} : 0, a_{12} : r_{300}, a_{13} : r_{301}, a_{14} : r_{302}, a_{15} : r_{303}, a_{23} : 0, a_{24} : r_{304}, a_{25} : r_{305}, a_{34} : r_{306}, a_{35} : r_{307}, a_{45} : r_{308}\\right\\}, \\left\\{d_{1} : r_{309}, d_{2} : \\frac{r_{309}}{x_{12}}, d_{3} : r_{310}, d_{4} : \\frac{r_{309}}{x_{12} x_{24}}, d_{5} : \\frac{r_{310}}{x_{35}}, a_{12} : r_{311}, a_{13} : r_{312}, a_{14} : r_{313}, a_{15} : r_{314}, a_{23} : -\\frac{r_{310} x_{13}}{x_{12}}, a_{24} : r_{315}, a_{25} : r_{316}, a_{34} : -\\frac{r_{315} x_{12} - r_{311}}{x_{13}}, a_{35} : -\\frac{r_{310} x_{15} + {\\left(r_{316} x_{12} - r_{312}\\right)} x_{35}}{x_{13} x_{35}}, a_{45} : -\\frac{r_{310} x_{13}}{x_{12} x_{24}}\\right\\}\\right]</script></html>"
      ],
      "text/latex": [
       "$$\\newcommand{\\Bold}[1]{\\mathbf{#1}}\\left[\\left\\{d_{1} : 0, d_{2} : 0, d_{3} : r_{282}, d_{4} : 0, d_{5} : \\frac{r_{282}}{x_{35}}, a_{12} : r_{283}, a_{13} : r_{284}, a_{14} : r_{285}, a_{15} : r_{286}, a_{23} : -\\frac{r_{282} x_{13}}{x_{12}}, a_{24} : r_{287}, a_{25} : r_{288}, a_{34} : r_{289}, a_{35} : r_{290}, a_{45} : -\\frac{r_{282} x_{13}}{x_{12} x_{24}}\\right\\}, \\left\\{d_{1} : r_{291}, d_{2} : \\frac{r_{291}}{x_{12}}, d_{3} : 0, d_{4} : \\frac{r_{291}}{x_{12} x_{24}}, d_{5} : 0, a_{12} : r_{292}, a_{13} : r_{293}, a_{14} : r_{294}, a_{15} : r_{295}, a_{23} : 0, a_{24} : r_{296}, a_{25} : r_{297}, a_{34} : -\\frac{r_{296} x_{12} - r_{292}}{x_{13}}, a_{35} : r_{298}, a_{45} : r_{299}\\right\\}, \\left\\{d_{1} : 0, d_{2} : 0, d_{3} : 0, d_{4} : 0, d_{5} : 0, a_{12} : r_{300}, a_{13} : r_{301}, a_{14} : r_{302}, a_{15} : r_{303}, a_{23} : 0, a_{24} : r_{304}, a_{25} : r_{305}, a_{34} : r_{306}, a_{35} : r_{307}, a_{45} : r_{308}\\right\\}, \\left\\{d_{1} : r_{309}, d_{2} : \\frac{r_{309}}{x_{12}}, d_{3} : r_{310}, d_{4} : \\frac{r_{309}}{x_{12} x_{24}}, d_{5} : \\frac{r_{310}}{x_{35}}, a_{12} : r_{311}, a_{13} : r_{312}, a_{14} : r_{313}, a_{15} : r_{314}, a_{23} : -\\frac{r_{310} x_{13}}{x_{12}}, a_{24} : r_{315}, a_{25} : r_{316}, a_{34} : -\\frac{r_{315} x_{12} - r_{311}}{x_{13}}, a_{35} : -\\frac{r_{310} x_{15} + {\\left(r_{316} x_{12} - r_{312}\\right)} x_{35}}{x_{13} x_{35}}, a_{45} : -\\frac{r_{310} x_{13}}{x_{12} x_{24}}\\right\\}\\right]$$"
      ],
      "text/plain": [
       "[{d1: 0,\n",
       "  d2: 0,\n",
       "  d3: r282,\n",
       "  d4: 0,\n",
       "  d5: r282/x35,\n",
       "  a12: r283,\n",
       "  a13: r284,\n",
       "  a14: r285,\n",
       "  a15: r286,\n",
       "  a23: -r282*x13/x12,\n",
       "  a24: r287,\n",
       "  a25: r288,\n",
       "  a34: r289,\n",
       "  a35: r290,\n",
       "  a45: -r282*x13/(x12*x24)},\n",
       " {d1: r291,\n",
       "  d2: r291/x12,\n",
       "  d3: 0,\n",
       "  d4: r291/(x12*x24),\n",
       "  d5: 0,\n",
       "  a12: r292,\n",
       "  a13: r293,\n",
       "  a14: r294,\n",
       "  a15: r295,\n",
       "  a23: 0,\n",
       "  a24: r296,\n",
       "  a25: r297,\n",
       "  a34: -(r296*x12 - r292)/x13,\n",
       "  a35: r298,\n",
       "  a45: r299},\n",
       " {d1: 0,\n",
       "  d2: 0,\n",
       "  d3: 0,\n",
       "  d4: 0,\n",
       "  d5: 0,\n",
       "  a12: r300,\n",
       "  a13: r301,\n",
       "  a14: r302,\n",
       "  a15: r303,\n",
       "  a23: 0,\n",
       "  a24: r304,\n",
       "  a25: r305,\n",
       "  a34: r306,\n",
       "  a35: r307,\n",
       "  a45: r308},\n",
       " {d1: r309,\n",
       "  d2: r309/x12,\n",
       "  d3: r310,\n",
       "  d4: r309/(x12*x24),\n",
       "  d5: r310/x35,\n",
       "  a12: r311,\n",
       "  a13: r312,\n",
       "  a14: r313,\n",
       "  a15: r314,\n",
       "  a23: -r310*x13/x12,\n",
       "  a24: r315,\n",
       "  a25: r316,\n",
       "  a34: -(r315*x12 - r311)/x13,\n",
       "  a35: -(r310*x15 + (r316*x12 - r312)*x35)/(x13*x35),\n",
       "  a45: -r310*x13/(x12*x24)}]"
      ]
     },
     "metadata": {},
     "output_type": "display_data"
    },
    {
     "data": {
      "text/plain": [
       "\\left[\\left\\{d_{1} : 0, d_{2} : 0, d_{3} : r_{282}, d_{4} : 0, d_{5} : \\frac{r_{282}}{x_{35}}, a_{12} : r_{283}, a_{13} : r_{284}, a_{14} : r_{285}, a_{15} : r_{286}, a_{23} : -\\frac{r_{282} x_{13}}{x_{12}}, a_{24} : r_{287}, a_{25} : r_{288}, a_{34} : r_{289}, a_{35} : r_{290}, a_{45} : -\\frac{r_{282} x_{13}}{x_{12} x_{24}}\\right\\}, \\left\\{d_{1} : r_{291}, d_{2} : \\frac{r_{291}}{x_{12}}, d_{3} : 0, d_{4} : \\frac{r_{291}}{x_{12} x_{24}}, d_{5} : 0, a_{12} : r_{292}, a_{13} : r_{293}, a_{14} : r_{294}, a_{15} : r_{295}, a_{23} : 0, a_{24} : r_{296}, a_{25} : r_{297}, a_{34} : -\\frac{r_{296} x_{12} - r_{292}}{x_{13}}, a_{35} : r_{298}, a_{45} : r_{299}\\right\\}, \\left\\{d_{1} : 0, d_{2} : 0, d_{3} : 0, d_{4} : 0, d_{5} : 0, a_{12} : r_{300}, a_{13} : r_{301}, a_{14} : r_{302}, a_{15} : r_{303}, a_{23} : 0, a_{24} : r_{304}, a_{25} : r_{305}, a_{34} : r_{306}, a_{35} : r_{307}, a_{45} : r_{308}\\right\\}, \\left\\{d_{1} : r_{309}, d_{2} : \\frac{r_{309}}{x_{12}}, d_{3} : r_{310}, d_{4} : \\frac{r_{309}}{x_{12} x_{24}}, d_{5} : \\frac{r_{310}}{x_{35}}, a_{12} : r_{311}, a_{13} : r_{312}, a_{14} : r_{313}, a_{15} : r_{314}, a_{23} : -\\frac{r_{310} x_{13}}{x_{12}}, a_{24} : r_{315}, a_{25} : r_{316}, a_{34} : -\\frac{r_{315} x_{12} - r_{311}}{x_{13}}, a_{35} : -\\frac{r_{310} x_{15} + {\\left(r_{316} x_{12} - r_{312}\\right)} x_{35}}{x_{13} x_{35}}, a_{45} : -\\frac{r_{310} x_{13}}{x_{12} x_{24}}\\right\\}\\right]"
      ]
     },
     "execution_count": 11,
     "metadata": {},
     "output_type": "execute_result"
    }
   ],
   "source": [
    "#x2\n",
    "reset()\n",
    "\n",
    "var('x12,x13,x14,x15,x23,x24,x25,x34,x35,x45')\n",
    "var('d1,d2,d3,d4,d5')\n",
    "var('a12,a13,a14,a15,a23,a24,a25,a34,a35,a45')\n",
    "\n",
    "load_attach_path('C:\\\\Users\\\\julia\\\\Documents\\\\unb\\\\doutorado\\\\pensar\\\\codigo_sage_v2\\\\maquina\\\\x2')\n",
    "\n",
    "load('out_#110101.sage')\n",
    "m=matrix(QQ, [[0, 1, 0, 0, 0],\n",
    "              [0, 0, 0, 1, 0],\n",
    "              [0, 0, 0, 0, 1],\n",
    "              [0, 0, 0, 0, 0],\n",
    "              [0, 0, 0, 0, 0]])\n",
    "        \n",
    "#entry of matrix: (i,j) line i collum j, means (i-1,j-1)\n",
    "sol=solve([ eq1==m[0,1],\teq2==m[0,2],\teq3==m[0,3],\teq4==m[0,4],\t\n",
    "                                            eq5==m[1,3],    eq6==m[1,4],\n",
    "                                                            eq7==m[2,4]],d1,d2,d3,d4,d5,a12,a13,a14,a15,a23,a24,a25,a34,a35,a45, solution_dict=True)\n",
    "\n",
    "show(m)\n",
    "show(sol)\n",
    "latex(sol)"
   ]
  },
  {
   "cell_type": "code",
   "execution_count": 12,
   "metadata": {},
   "outputs": [
    {
     "data": {
      "text/html": [
       "<html><script type=\"math/tex; mode=display\">\\newcommand{\\Bold}[1]{\\mathbf{#1}}\\left(\\begin{array}{rrrrr}\n",
       "0 & 1 & 0 & 0 & 0 \\\\\n",
       "0 & 0 & 0 & 1 & 0 \\\\\n",
       "0 & 0 & 0 & 0 & 1 \\\\\n",
       "0 & 0 & 0 & 0 & 0 \\\\\n",
       "0 & 0 & 0 & 0 & 0\n",
       "\\end{array}\\right)</script></html>"
      ],
      "text/latex": [
       "$$\\newcommand{\\Bold}[1]{\\mathbf{#1}}\\left(\\begin{array}{rrrrr}\n",
       "0 & 1 & 0 & 0 & 0 \\\\\n",
       "0 & 0 & 0 & 1 & 0 \\\\\n",
       "0 & 0 & 0 & 0 & 1 \\\\\n",
       "0 & 0 & 0 & 0 & 0 \\\\\n",
       "0 & 0 & 0 & 0 & 0\n",
       "\\end{array}\\right)$$"
      ],
      "text/plain": [
       "[0 1 0 0 0]\n",
       "[0 0 0 1 0]\n",
       "[0 0 0 0 1]\n",
       "[0 0 0 0 0]\n",
       "[0 0 0 0 0]"
      ]
     },
     "metadata": {},
     "output_type": "display_data"
    },
    {
     "data": {
      "text/html": [
       "<html><script type=\"math/tex; mode=display\">\\newcommand{\\Bold}[1]{\\mathbf{#1}}\\left[\\left\\{d_{1} : 0, d_{2} : 0, d_{3} : r_{317}, d_{4} : 0, d_{5} : \\frac{r_{317}}{x_{35}}, a_{12} : r_{318}, a_{13} : r_{319}, a_{14} : r_{320}, a_{15} : r_{321}, a_{23} : -\\frac{r_{317} x_{13}}{x_{12}}, a_{24} : r_{322}, a_{25} : r_{323}, a_{34} : r_{324}, a_{35} : r_{325}, a_{45} : -\\frac{r_{317} x_{13}}{x_{12} x_{24}}\\right\\}, \\left\\{d_{1} : r_{326}, d_{2} : \\frac{r_{326}}{x_{12}}, d_{3} : 0, d_{4} : \\frac{r_{326}}{x_{12} x_{24}}, d_{5} : 0, a_{12} : r_{327}, a_{13} : r_{328}, a_{14} : r_{329}, a_{15} : r_{330}, a_{23} : 0, a_{24} : r_{331}, a_{25} : r_{332}, a_{34} : -\\frac{r_{326} x_{14} + {\\left(r_{331} x_{12}^{2} - r_{327} x_{12}\\right)} x_{24}}{x_{12} x_{13} x_{24}}, a_{35} : r_{333}, a_{45} : r_{334}\\right\\}, \\left\\{d_{1} : 0, d_{2} : 0, d_{3} : 0, d_{4} : 0, d_{5} : 0, a_{12} : r_{335}, a_{13} : r_{336}, a_{14} : r_{337}, a_{15} : r_{338}, a_{23} : 0, a_{24} : r_{339}, a_{25} : r_{340}, a_{34} : r_{341}, a_{35} : r_{342}, a_{45} : r_{343}\\right\\}, \\left\\{d_{1} : r_{344}, d_{2} : \\frac{r_{344}}{x_{12}}, d_{3} : r_{345}, d_{4} : \\frac{r_{344}}{x_{12} x_{24}}, d_{5} : \\frac{r_{345}}{x_{35}}, a_{12} : r_{346}, a_{13} : r_{347}, a_{14} : r_{348}, a_{15} : r_{349}, a_{23} : -\\frac{r_{345} x_{13}}{x_{12}}, a_{24} : r_{350}, a_{25} : r_{351}, a_{34} : -\\frac{r_{344} x_{14} + {\\left(r_{350} x_{12}^{2} - r_{346} x_{12}\\right)} x_{24}}{x_{12} x_{13} x_{24}}, a_{35} : \\frac{r_{345} x_{13} x_{14} - {\\left(r_{351} x_{12}^{2} - r_{347} x_{12}\\right)} x_{24}}{x_{12} x_{13} x_{24}}, a_{45} : -\\frac{r_{345} x_{13}}{x_{12} x_{24}}\\right\\}\\right]</script></html>"
      ],
      "text/latex": [
       "$$\\newcommand{\\Bold}[1]{\\mathbf{#1}}\\left[\\left\\{d_{1} : 0, d_{2} : 0, d_{3} : r_{317}, d_{4} : 0, d_{5} : \\frac{r_{317}}{x_{35}}, a_{12} : r_{318}, a_{13} : r_{319}, a_{14} : r_{320}, a_{15} : r_{321}, a_{23} : -\\frac{r_{317} x_{13}}{x_{12}}, a_{24} : r_{322}, a_{25} : r_{323}, a_{34} : r_{324}, a_{35} : r_{325}, a_{45} : -\\frac{r_{317} x_{13}}{x_{12} x_{24}}\\right\\}, \\left\\{d_{1} : r_{326}, d_{2} : \\frac{r_{326}}{x_{12}}, d_{3} : 0, d_{4} : \\frac{r_{326}}{x_{12} x_{24}}, d_{5} : 0, a_{12} : r_{327}, a_{13} : r_{328}, a_{14} : r_{329}, a_{15} : r_{330}, a_{23} : 0, a_{24} : r_{331}, a_{25} : r_{332}, a_{34} : -\\frac{r_{326} x_{14} + {\\left(r_{331} x_{12}^{2} - r_{327} x_{12}\\right)} x_{24}}{x_{12} x_{13} x_{24}}, a_{35} : r_{333}, a_{45} : r_{334}\\right\\}, \\left\\{d_{1} : 0, d_{2} : 0, d_{3} : 0, d_{4} : 0, d_{5} : 0, a_{12} : r_{335}, a_{13} : r_{336}, a_{14} : r_{337}, a_{15} : r_{338}, a_{23} : 0, a_{24} : r_{339}, a_{25} : r_{340}, a_{34} : r_{341}, a_{35} : r_{342}, a_{45} : r_{343}\\right\\}, \\left\\{d_{1} : r_{344}, d_{2} : \\frac{r_{344}}{x_{12}}, d_{3} : r_{345}, d_{4} : \\frac{r_{344}}{x_{12} x_{24}}, d_{5} : \\frac{r_{345}}{x_{35}}, a_{12} : r_{346}, a_{13} : r_{347}, a_{14} : r_{348}, a_{15} : r_{349}, a_{23} : -\\frac{r_{345} x_{13}}{x_{12}}, a_{24} : r_{350}, a_{25} : r_{351}, a_{34} : -\\frac{r_{344} x_{14} + {\\left(r_{350} x_{12}^{2} - r_{346} x_{12}\\right)} x_{24}}{x_{12} x_{13} x_{24}}, a_{35} : \\frac{r_{345} x_{13} x_{14} - {\\left(r_{351} x_{12}^{2} - r_{347} x_{12}\\right)} x_{24}}{x_{12} x_{13} x_{24}}, a_{45} : -\\frac{r_{345} x_{13}}{x_{12} x_{24}}\\right\\}\\right]$$"
      ],
      "text/plain": [
       "[{d1: 0,\n",
       "  d2: 0,\n",
       "  d3: r317,\n",
       "  d4: 0,\n",
       "  d5: r317/x35,\n",
       "  a12: r318,\n",
       "  a13: r319,\n",
       "  a14: r320,\n",
       "  a15: r321,\n",
       "  a23: -r317*x13/x12,\n",
       "  a24: r322,\n",
       "  a25: r323,\n",
       "  a34: r324,\n",
       "  a35: r325,\n",
       "  a45: -r317*x13/(x12*x24)},\n",
       " {d1: r326,\n",
       "  d2: r326/x12,\n",
       "  d3: 0,\n",
       "  d4: r326/(x12*x24),\n",
       "  d5: 0,\n",
       "  a12: r327,\n",
       "  a13: r328,\n",
       "  a14: r329,\n",
       "  a15: r330,\n",
       "  a23: 0,\n",
       "  a24: r331,\n",
       "  a25: r332,\n",
       "  a34: -(r326*x14 + (r331*x12^2 - r327*x12)*x24)/(x12*x13*x24),\n",
       "  a35: r333,\n",
       "  a45: r334},\n",
       " {d1: 0,\n",
       "  d2: 0,\n",
       "  d3: 0,\n",
       "  d4: 0,\n",
       "  d5: 0,\n",
       "  a12: r335,\n",
       "  a13: r336,\n",
       "  a14: r337,\n",
       "  a15: r338,\n",
       "  a23: 0,\n",
       "  a24: r339,\n",
       "  a25: r340,\n",
       "  a34: r341,\n",
       "  a35: r342,\n",
       "  a45: r343},\n",
       " {d1: r344,\n",
       "  d2: r344/x12,\n",
       "  d3: r345,\n",
       "  d4: r344/(x12*x24),\n",
       "  d5: r345/x35,\n",
       "  a12: r346,\n",
       "  a13: r347,\n",
       "  a14: r348,\n",
       "  a15: r349,\n",
       "  a23: -r345*x13/x12,\n",
       "  a24: r350,\n",
       "  a25: r351,\n",
       "  a34: -(r344*x14 + (r350*x12^2 - r346*x12)*x24)/(x12*x13*x24),\n",
       "  a35: (r345*x13*x14 - (r351*x12^2 - r347*x12)*x24)/(x12*x13*x24),\n",
       "  a45: -r345*x13/(x12*x24)}]"
      ]
     },
     "metadata": {},
     "output_type": "display_data"
    },
    {
     "data": {
      "text/plain": [
       "\\left[\\left\\{d_{1} : 0, d_{2} : 0, d_{3} : r_{317}, d_{4} : 0, d_{5} : \\frac{r_{317}}{x_{35}}, a_{12} : r_{318}, a_{13} : r_{319}, a_{14} : r_{320}, a_{15} : r_{321}, a_{23} : -\\frac{r_{317} x_{13}}{x_{12}}, a_{24} : r_{322}, a_{25} : r_{323}, a_{34} : r_{324}, a_{35} : r_{325}, a_{45} : -\\frac{r_{317} x_{13}}{x_{12} x_{24}}\\right\\}, \\left\\{d_{1} : r_{326}, d_{2} : \\frac{r_{326}}{x_{12}}, d_{3} : 0, d_{4} : \\frac{r_{326}}{x_{12} x_{24}}, d_{5} : 0, a_{12} : r_{327}, a_{13} : r_{328}, a_{14} : r_{329}, a_{15} : r_{330}, a_{23} : 0, a_{24} : r_{331}, a_{25} : r_{332}, a_{34} : -\\frac{r_{326} x_{14} + {\\left(r_{331} x_{12}^{2} - r_{327} x_{12}\\right)} x_{24}}{x_{12} x_{13} x_{24}}, a_{35} : r_{333}, a_{45} : r_{334}\\right\\}, \\left\\{d_{1} : 0, d_{2} : 0, d_{3} : 0, d_{4} : 0, d_{5} : 0, a_{12} : r_{335}, a_{13} : r_{336}, a_{14} : r_{337}, a_{15} : r_{338}, a_{23} : 0, a_{24} : r_{339}, a_{25} : r_{340}, a_{34} : r_{341}, a_{35} : r_{342}, a_{45} : r_{343}\\right\\}, \\left\\{d_{1} : r_{344}, d_{2} : \\frac{r_{344}}{x_{12}}, d_{3} : r_{345}, d_{4} : \\frac{r_{344}}{x_{12} x_{24}}, d_{5} : \\frac{r_{345}}{x_{35}}, a_{12} : r_{346}, a_{13} : r_{347}, a_{14} : r_{348}, a_{15} : r_{349}, a_{23} : -\\frac{r_{345} x_{13}}{x_{12}}, a_{24} : r_{350}, a_{25} : r_{351}, a_{34} : -\\frac{r_{344} x_{14} + {\\left(r_{350} x_{12}^{2} - r_{346} x_{12}\\right)} x_{24}}{x_{12} x_{13} x_{24}}, a_{35} : \\frac{r_{345} x_{13} x_{14} - {\\left(r_{351} x_{12}^{2} - r_{347} x_{12}\\right)} x_{24}}{x_{12} x_{13} x_{24}}, a_{45} : -\\frac{r_{345} x_{13}}{x_{12} x_{24}}\\right\\}\\right]"
      ]
     },
     "execution_count": 12,
     "metadata": {},
     "output_type": "execute_result"
    }
   ],
   "source": [
    "#x2\n",
    "reset()\n",
    "\n",
    "var('x12,x13,x14,x15,x23,x24,x25,x34,x35,x45')\n",
    "var('d1,d2,d3,d4,d5')\n",
    "var('a12,a13,a14,a15,a23,a24,a25,a34,a35,a45')\n",
    "\n",
    "load_attach_path('C:\\\\Users\\\\julia\\\\Documents\\\\unb\\\\doutorado\\\\pensar\\\\codigo_sage_v2\\\\maquina\\\\x2')\n",
    "load('out_#110110.sage')\n",
    "\n",
    "m=matrix(QQ, [[0, 1, 0, 0, 0],\n",
    "              [0, 0, 0, 1, 0],\n",
    "              [0, 0, 0, 0, 1],\n",
    "              [0, 0, 0, 0, 0],\n",
    "              [0, 0, 0, 0, 0]])\n",
    "        \n",
    "#entry of matrix: (i,j) line i collum j, means (i-1,j-1)\n",
    "sol=solve([ eq1==m[0,1],\teq2==m[0,2],\teq3==m[0,3],\teq4==m[0,4],\t\n",
    "                                            eq5==m[1,3],    eq6==m[1,4],\n",
    "                                                            eq7==m[2,4]],d1,d2,d3,d4,d5,a12,a13,a14,a15,a23,a24,a25,a34,a35,a45, solution_dict=True)\n",
    "\n",
    "show(m)\n",
    "show(sol)\n",
    "latex(sol)"
   ]
  },
  {
   "cell_type": "code",
   "execution_count": 1,
   "metadata": {},
   "outputs": [
    {
     "data": {
      "text/html": [
       "<html><script type=\"math/tex; mode=display\">\\newcommand{\\Bold}[1]{\\mathbf{#1}}\\left(\\begin{array}{rrrrr}\n",
       "0 & 1 & 0 & 0 & 0 \\\\\n",
       "0 & 0 & 0 & 1 & 0 \\\\\n",
       "0 & 0 & 0 & 0 & 1 \\\\\n",
       "0 & 0 & 0 & 0 & 0 \\\\\n",
       "0 & 0 & 0 & 0 & 0\n",
       "\\end{array}\\right)</script></html>"
      ],
      "text/latex": [
       "$$\\newcommand{\\Bold}[1]{\\mathbf{#1}}\\left(\\begin{array}{rrrrr}\n",
       "0 & 1 & 0 & 0 & 0 \\\\\n",
       "0 & 0 & 0 & 1 & 0 \\\\\n",
       "0 & 0 & 0 & 0 & 1 \\\\\n",
       "0 & 0 & 0 & 0 & 0 \\\\\n",
       "0 & 0 & 0 & 0 & 0\n",
       "\\end{array}\\right)$$"
      ],
      "text/plain": [
       "[0 1 0 0 0]\n",
       "[0 0 0 1 0]\n",
       "[0 0 0 0 1]\n",
       "[0 0 0 0 0]\n",
       "[0 0 0 0 0]"
      ]
     },
     "metadata": {},
     "output_type": "display_data"
    },
    {
     "data": {
      "text/html": [
       "<html><script type=\"math/tex; mode=display\">\\newcommand{\\Bold}[1]{\\mathbf{#1}}\\left[\\left\\{d_{1} : 0, d_{2} : 0, d_{3} : r_{1}, d_{4} : 0, d_{5} : \\frac{r_{1}}{x_{35}}, a_{12} : r_{2}, a_{13} : r_{3}, a_{14} : r_{4}, a_{15} : r_{5}, a_{23} : -\\frac{r_{1} x_{13}}{x_{12}}, a_{24} : r_{6}, a_{25} : r_{7}, a_{34} : r_{8}, a_{35} : r_{9}, a_{45} : -\\frac{r_{1} x_{13}}{x_{12} x_{24}}\\right\\}, \\left\\{d_{1} : r_{10}, d_{2} : \\frac{r_{10}}{x_{12}}, d_{3} : 0, d_{4} : \\frac{r_{10}}{x_{12} x_{24}}, d_{5} : 0, a_{12} : r_{11}, a_{13} : r_{12}, a_{14} : r_{13}, a_{15} : r_{14}, a_{23} : 0, a_{24} : r_{15}, a_{25} : r_{16}, a_{34} : -\\frac{r_{10} x_{14} + {\\left(r_{15} x_{12}^{2} - r_{11} x_{12}\\right)} x_{24}}{x_{12} x_{13} x_{24}}, a_{35} : r_{17}, a_{45} : r_{18}\\right\\}, \\left\\{d_{1} : 0, d_{2} : 0, d_{3} : 0, d_{4} : 0, d_{5} : 0, a_{12} : r_{19}, a_{13} : r_{20}, a_{14} : r_{21}, a_{15} : r_{22}, a_{23} : 0, a_{24} : r_{23}, a_{25} : r_{24}, a_{34} : r_{25}, a_{35} : r_{26}, a_{45} : r_{27}\\right\\}, \\left\\{d_{1} : r_{28}, d_{2} : \\frac{r_{28}}{x_{12}}, d_{3} : r_{29}, d_{4} : \\frac{r_{28}}{x_{12} x_{24}}, d_{5} : \\frac{r_{29}}{x_{35}}, a_{12} : r_{30}, a_{13} : r_{31}, a_{14} : r_{32}, a_{15} : r_{33}, a_{23} : -\\frac{r_{29} x_{13}}{x_{12}}, a_{24} : r_{34}, a_{25} : r_{35}, a_{34} : -\\frac{r_{28} x_{14} + {\\left(r_{34} x_{12}^{2} - r_{30} x_{12}\\right)} x_{24}}{x_{12} x_{13} x_{24}}, a_{35} : -\\frac{r_{29} x_{12} x_{15} x_{24} - {\\left(r_{29} x_{13} x_{14} - {\\left(r_{35} x_{12}^{2} - r_{31} x_{12}\\right)} x_{24}\\right)} x_{35}}{x_{12} x_{13} x_{24} x_{35}}, a_{45} : -\\frac{r_{29} x_{13}}{x_{12} x_{24}}\\right\\}\\right]</script></html>"
      ],
      "text/latex": [
       "$$\\newcommand{\\Bold}[1]{\\mathbf{#1}}\\left[\\left\\{d_{1} : 0, d_{2} : 0, d_{3} : r_{1}, d_{4} : 0, d_{5} : \\frac{r_{1}}{x_{35}}, a_{12} : r_{2}, a_{13} : r_{3}, a_{14} : r_{4}, a_{15} : r_{5}, a_{23} : -\\frac{r_{1} x_{13}}{x_{12}}, a_{24} : r_{6}, a_{25} : r_{7}, a_{34} : r_{8}, a_{35} : r_{9}, a_{45} : -\\frac{r_{1} x_{13}}{x_{12} x_{24}}\\right\\}, \\left\\{d_{1} : r_{10}, d_{2} : \\frac{r_{10}}{x_{12}}, d_{3} : 0, d_{4} : \\frac{r_{10}}{x_{12} x_{24}}, d_{5} : 0, a_{12} : r_{11}, a_{13} : r_{12}, a_{14} : r_{13}, a_{15} : r_{14}, a_{23} : 0, a_{24} : r_{15}, a_{25} : r_{16}, a_{34} : -\\frac{r_{10} x_{14} + {\\left(r_{15} x_{12}^{2} - r_{11} x_{12}\\right)} x_{24}}{x_{12} x_{13} x_{24}}, a_{35} : r_{17}, a_{45} : r_{18}\\right\\}, \\left\\{d_{1} : 0, d_{2} : 0, d_{3} : 0, d_{4} : 0, d_{5} : 0, a_{12} : r_{19}, a_{13} : r_{20}, a_{14} : r_{21}, a_{15} : r_{22}, a_{23} : 0, a_{24} : r_{23}, a_{25} : r_{24}, a_{34} : r_{25}, a_{35} : r_{26}, a_{45} : r_{27}\\right\\}, \\left\\{d_{1} : r_{28}, d_{2} : \\frac{r_{28}}{x_{12}}, d_{3} : r_{29}, d_{4} : \\frac{r_{28}}{x_{12} x_{24}}, d_{5} : \\frac{r_{29}}{x_{35}}, a_{12} : r_{30}, a_{13} : r_{31}, a_{14} : r_{32}, a_{15} : r_{33}, a_{23} : -\\frac{r_{29} x_{13}}{x_{12}}, a_{24} : r_{34}, a_{25} : r_{35}, a_{34} : -\\frac{r_{28} x_{14} + {\\left(r_{34} x_{12}^{2} - r_{30} x_{12}\\right)} x_{24}}{x_{12} x_{13} x_{24}}, a_{35} : -\\frac{r_{29} x_{12} x_{15} x_{24} - {\\left(r_{29} x_{13} x_{14} - {\\left(r_{35} x_{12}^{2} - r_{31} x_{12}\\right)} x_{24}\\right)} x_{35}}{x_{12} x_{13} x_{24} x_{35}}, a_{45} : -\\frac{r_{29} x_{13}}{x_{12} x_{24}}\\right\\}\\right]$$"
      ],
      "text/plain": [
       "[{d1: 0,\n",
       "  d2: 0,\n",
       "  d3: r1,\n",
       "  d4: 0,\n",
       "  d5: r1/x35,\n",
       "  a12: r2,\n",
       "  a13: r3,\n",
       "  a14: r4,\n",
       "  a15: r5,\n",
       "  a23: -r1*x13/x12,\n",
       "  a24: r6,\n",
       "  a25: r7,\n",
       "  a34: r8,\n",
       "  a35: r9,\n",
       "  a45: -r1*x13/(x12*x24)},\n",
       " {d1: r10,\n",
       "  d2: r10/x12,\n",
       "  d3: 0,\n",
       "  d4: r10/(x12*x24),\n",
       "  d5: 0,\n",
       "  a12: r11,\n",
       "  a13: r12,\n",
       "  a14: r13,\n",
       "  a15: r14,\n",
       "  a23: 0,\n",
       "  a24: r15,\n",
       "  a25: r16,\n",
       "  a34: -(r10*x14 + (r15*x12^2 - r11*x12)*x24)/(x12*x13*x24),\n",
       "  a35: r17,\n",
       "  a45: r18},\n",
       " {d1: 0,\n",
       "  d2: 0,\n",
       "  d3: 0,\n",
       "  d4: 0,\n",
       "  d5: 0,\n",
       "  a12: r19,\n",
       "  a13: r20,\n",
       "  a14: r21,\n",
       "  a15: r22,\n",
       "  a23: 0,\n",
       "  a24: r23,\n",
       "  a25: r24,\n",
       "  a34: r25,\n",
       "  a35: r26,\n",
       "  a45: r27},\n",
       " {d1: r28,\n",
       "  d2: r28/x12,\n",
       "  d3: r29,\n",
       "  d4: r28/(x12*x24),\n",
       "  d5: r29/x35,\n",
       "  a12: r30,\n",
       "  a13: r31,\n",
       "  a14: r32,\n",
       "  a15: r33,\n",
       "  a23: -r29*x13/x12,\n",
       "  a24: r34,\n",
       "  a25: r35,\n",
       "  a34: -(r28*x14 + (r34*x12^2 - r30*x12)*x24)/(x12*x13*x24),\n",
       "  a35: -(r29*x12*x15*x24 - (r29*x13*x14 - (r35*x12^2 - r31*x12)*x24)*x35)/(x12*x13*x24*x35),\n",
       "  a45: -r29*x13/(x12*x24)}]"
      ]
     },
     "metadata": {},
     "output_type": "display_data"
    },
    {
     "data": {
      "text/plain": [
       "\\left[\\left\\{d_{1} : 0, d_{2} : 0, d_{3} : r_{1}, d_{4} : 0, d_{5} : \\frac{r_{1}}{x_{35}}, a_{12} : r_{2}, a_{13} : r_{3}, a_{14} : r_{4}, a_{15} : r_{5}, a_{23} : -\\frac{r_{1} x_{13}}{x_{12}}, a_{24} : r_{6}, a_{25} : r_{7}, a_{34} : r_{8}, a_{35} : r_{9}, a_{45} : -\\frac{r_{1} x_{13}}{x_{12} x_{24}}\\right\\}, \\left\\{d_{1} : r_{10}, d_{2} : \\frac{r_{10}}{x_{12}}, d_{3} : 0, d_{4} : \\frac{r_{10}}{x_{12} x_{24}}, d_{5} : 0, a_{12} : r_{11}, a_{13} : r_{12}, a_{14} : r_{13}, a_{15} : r_{14}, a_{23} : 0, a_{24} : r_{15}, a_{25} : r_{16}, a_{34} : -\\frac{r_{10} x_{14} + {\\left(r_{15} x_{12}^{2} - r_{11} x_{12}\\right)} x_{24}}{x_{12} x_{13} x_{24}}, a_{35} : r_{17}, a_{45} : r_{18}\\right\\}, \\left\\{d_{1} : 0, d_{2} : 0, d_{3} : 0, d_{4} : 0, d_{5} : 0, a_{12} : r_{19}, a_{13} : r_{20}, a_{14} : r_{21}, a_{15} : r_{22}, a_{23} : 0, a_{24} : r_{23}, a_{25} : r_{24}, a_{34} : r_{25}, a_{35} : r_{26}, a_{45} : r_{27}\\right\\}, \\left\\{d_{1} : r_{28}, d_{2} : \\frac{r_{28}}{x_{12}}, d_{3} : r_{29}, d_{4} : \\frac{r_{28}}{x_{12} x_{24}}, d_{5} : \\frac{r_{29}}{x_{35}}, a_{12} : r_{30}, a_{13} : r_{31}, a_{14} : r_{32}, a_{15} : r_{33}, a_{23} : -\\frac{r_{29} x_{13}}{x_{12}}, a_{24} : r_{34}, a_{25} : r_{35}, a_{34} : -\\frac{r_{28} x_{14} + {\\left(r_{34} x_{12}^{2} - r_{30} x_{12}\\right)} x_{24}}{x_{12} x_{13} x_{24}}, a_{35} : -\\frac{r_{29} x_{12} x_{15} x_{24} - {\\left(r_{29} x_{13} x_{14} - {\\left(r_{35} x_{12}^{2} - r_{31} x_{12}\\right)} x_{24}\\right)} x_{35}}{x_{12} x_{13} x_{24} x_{35}}, a_{45} : -\\frac{r_{29} x_{13}}{x_{12} x_{24}}\\right\\}\\right]"
      ]
     },
     "execution_count": 1,
     "metadata": {},
     "output_type": "execute_result"
    }
   ],
   "source": [
    "#x2\n",
    "reset()\n",
    "\n",
    "var('x12,x13,x14,x15,x23,x24,x25,x34,x35,x45')\n",
    "var('d1,d2,d3,d4,d5')\n",
    "var('a12,a13,a14,a15,a23,a24,a25,a34,a35,a45')\n",
    "\n",
    "load_attach_path('C:\\\\Users\\\\julia\\\\Documents\\\\unb\\\\doutorado\\\\pensar\\\\codigo_sage_v2\\\\maquina\\\\x2')\n",
    "load('out_#110111.sage')\n",
    "\n",
    "m=matrix(QQ, [[0, 1, 0, 0, 0],\n",
    "              [0, 0, 0, 1, 0],\n",
    "              [0, 0, 0, 0, 1],\n",
    "              [0, 0, 0, 0, 0],\n",
    "              [0, 0, 0, 0, 0]])\n",
    "        \n",
    "#entry of matrix: (i,j) line i collum j, means (i-1,j-1)\n",
    "sol=solve([ eq1==m[0,1],\teq2==m[0,2],\teq3==m[0,3],\teq4==m[0,4],\t\n",
    "                                            eq5==m[1,3],    eq6==m[1,4],\n",
    "                                                            eq7==m[2,4]],d1,d2,d3,d4,d5,a12,a13,a14,a15,a23,a24,a25,a34,a35,a45, solution_dict=True)\n",
    "\n",
    "show(m)\n",
    "show(sol)\n",
    "latex(sol)"
   ]
  },
  {
   "cell_type": "code",
   "execution_count": 14,
   "metadata": {},
   "outputs": [
    {
     "data": {
      "text/html": [
       "<html><script type=\"math/tex; mode=display\">\\newcommand{\\Bold}[1]{\\mathbf{#1}}\\left(\\begin{array}{rrrrr}\n",
       "0 & 1 & 0 & 0 & 0 \\\\\n",
       "0 & 0 & 0 & 1 & 0 \\\\\n",
       "0 & 0 & 0 & 0 & 1 \\\\\n",
       "0 & 0 & 0 & 0 & 0 \\\\\n",
       "0 & 0 & 0 & 0 & 0\n",
       "\\end{array}\\right)</script></html>"
      ],
      "text/latex": [
       "$$\\newcommand{\\Bold}[1]{\\mathbf{#1}}\\left(\\begin{array}{rrrrr}\n",
       "0 & 1 & 0 & 0 & 0 \\\\\n",
       "0 & 0 & 0 & 1 & 0 \\\\\n",
       "0 & 0 & 0 & 0 & 1 \\\\\n",
       "0 & 0 & 0 & 0 & 0 \\\\\n",
       "0 & 0 & 0 & 0 & 0\n",
       "\\end{array}\\right)$$"
      ],
      "text/plain": [
       "[0 1 0 0 0]\n",
       "[0 0 0 1 0]\n",
       "[0 0 0 0 1]\n",
       "[0 0 0 0 0]\n",
       "[0 0 0 0 0]"
      ]
     },
     "metadata": {},
     "output_type": "display_data"
    },
    {
     "data": {
      "text/html": [
       "<html><script type=\"math/tex; mode=display\">\\newcommand{\\Bold}[1]{\\mathbf{#1}}\\left[\\left\\{d_{1} : 0, d_{2} : 0, d_{3} : r_{387}, d_{4} : 0, d_{5} : \\frac{r_{387}}{x_{35}}, a_{12} : r_{388}, a_{13} : r_{389}, a_{14} : r_{390}, a_{15} : r_{391}, a_{23} : 0, a_{24} : r_{392}, a_{25} : r_{393}, a_{34} : r_{394}, a_{35} : r_{395}, a_{45} : -\\frac{r_{387} x_{25}}{x_{24} x_{35}}\\right\\}, \\left\\{d_{1} : r_{396}, d_{2} : \\frac{r_{396}}{x_{12}}, d_{3} : 0, d_{4} : \\frac{r_{396}}{x_{12} x_{24}}, d_{5} : 0, a_{12} : r_{397}, a_{13} : r_{398}, a_{14} : r_{399}, a_{15} : r_{400}, a_{23} : 0, a_{24} : \\frac{r_{397}}{x_{12}}, a_{25} : r_{401}, a_{34} : r_{402}, a_{35} : r_{403}, a_{45} : r_{404}\\right\\}, \\left\\{d_{1} : 0, d_{2} : 0, d_{3} : 0, d_{4} : 0, d_{5} : 0, a_{12} : r_{405}, a_{13} : r_{406}, a_{14} : r_{407}, a_{15} : r_{408}, a_{23} : 0, a_{24} : r_{409}, a_{25} : r_{410}, a_{34} : r_{411}, a_{35} : r_{412}, a_{45} : r_{413}\\right\\}, \\left\\{d_{1} : r_{414}, d_{2} : \\frac{r_{414}}{x_{12}}, d_{3} : r_{415}, d_{4} : \\frac{r_{414}}{x_{12} x_{24}}, d_{5} : \\frac{r_{415}}{x_{35}}, a_{12} : r_{416}, a_{13} : r_{417}, a_{14} : r_{418}, a_{15} : r_{419}, a_{23} : 0, a_{24} : \\frac{r_{416}}{x_{12}}, a_{25} : \\frac{r_{417}}{x_{12}}, a_{34} : r_{420}, a_{35} : r_{421}, a_{45} : -\\frac{r_{415} x_{25}}{x_{24} x_{35}}\\right\\}\\right]</script></html>"
      ],
      "text/latex": [
       "$$\\newcommand{\\Bold}[1]{\\mathbf{#1}}\\left[\\left\\{d_{1} : 0, d_{2} : 0, d_{3} : r_{387}, d_{4} : 0, d_{5} : \\frac{r_{387}}{x_{35}}, a_{12} : r_{388}, a_{13} : r_{389}, a_{14} : r_{390}, a_{15} : r_{391}, a_{23} : 0, a_{24} : r_{392}, a_{25} : r_{393}, a_{34} : r_{394}, a_{35} : r_{395}, a_{45} : -\\frac{r_{387} x_{25}}{x_{24} x_{35}}\\right\\}, \\left\\{d_{1} : r_{396}, d_{2} : \\frac{r_{396}}{x_{12}}, d_{3} : 0, d_{4} : \\frac{r_{396}}{x_{12} x_{24}}, d_{5} : 0, a_{12} : r_{397}, a_{13} : r_{398}, a_{14} : r_{399}, a_{15} : r_{400}, a_{23} : 0, a_{24} : \\frac{r_{397}}{x_{12}}, a_{25} : r_{401}, a_{34} : r_{402}, a_{35} : r_{403}, a_{45} : r_{404}\\right\\}, \\left\\{d_{1} : 0, d_{2} : 0, d_{3} : 0, d_{4} : 0, d_{5} : 0, a_{12} : r_{405}, a_{13} : r_{406}, a_{14} : r_{407}, a_{15} : r_{408}, a_{23} : 0, a_{24} : r_{409}, a_{25} : r_{410}, a_{34} : r_{411}, a_{35} : r_{412}, a_{45} : r_{413}\\right\\}, \\left\\{d_{1} : r_{414}, d_{2} : \\frac{r_{414}}{x_{12}}, d_{3} : r_{415}, d_{4} : \\frac{r_{414}}{x_{12} x_{24}}, d_{5} : \\frac{r_{415}}{x_{35}}, a_{12} : r_{416}, a_{13} : r_{417}, a_{14} : r_{418}, a_{15} : r_{419}, a_{23} : 0, a_{24} : \\frac{r_{416}}{x_{12}}, a_{25} : \\frac{r_{417}}{x_{12}}, a_{34} : r_{420}, a_{35} : r_{421}, a_{45} : -\\frac{r_{415} x_{25}}{x_{24} x_{35}}\\right\\}\\right]$$"
      ],
      "text/plain": [
       "[{d1: 0,\n",
       "  d2: 0,\n",
       "  d3: r387,\n",
       "  d4: 0,\n",
       "  d5: r387/x35,\n",
       "  a12: r388,\n",
       "  a13: r389,\n",
       "  a14: r390,\n",
       "  a15: r391,\n",
       "  a23: 0,\n",
       "  a24: r392,\n",
       "  a25: r393,\n",
       "  a34: r394,\n",
       "  a35: r395,\n",
       "  a45: -r387*x25/(x24*x35)},\n",
       " {d1: r396,\n",
       "  d2: r396/x12,\n",
       "  d3: 0,\n",
       "  d4: r396/(x12*x24),\n",
       "  d5: 0,\n",
       "  a12: r397,\n",
       "  a13: r398,\n",
       "  a14: r399,\n",
       "  a15: r400,\n",
       "  a23: 0,\n",
       "  a24: r397/x12,\n",
       "  a25: r401,\n",
       "  a34: r402,\n",
       "  a35: r403,\n",
       "  a45: r404},\n",
       " {d1: 0,\n",
       "  d2: 0,\n",
       "  d3: 0,\n",
       "  d4: 0,\n",
       "  d5: 0,\n",
       "  a12: r405,\n",
       "  a13: r406,\n",
       "  a14: r407,\n",
       "  a15: r408,\n",
       "  a23: 0,\n",
       "  a24: r409,\n",
       "  a25: r410,\n",
       "  a34: r411,\n",
       "  a35: r412,\n",
       "  a45: r413},\n",
       " {d1: r414,\n",
       "  d2: r414/x12,\n",
       "  d3: r415,\n",
       "  d4: r414/(x12*x24),\n",
       "  d5: r415/x35,\n",
       "  a12: r416,\n",
       "  a13: r417,\n",
       "  a14: r418,\n",
       "  a15: r419,\n",
       "  a23: 0,\n",
       "  a24: r416/x12,\n",
       "  a25: r417/x12,\n",
       "  a34: r420,\n",
       "  a35: r421,\n",
       "  a45: -r415*x25/(x24*x35)}]"
      ]
     },
     "metadata": {},
     "output_type": "display_data"
    },
    {
     "data": {
      "text/plain": [
       "\\left[\\left\\{d_{1} : 0, d_{2} : 0, d_{3} : r_{387}, d_{4} : 0, d_{5} : \\frac{r_{387}}{x_{35}}, a_{12} : r_{388}, a_{13} : r_{389}, a_{14} : r_{390}, a_{15} : r_{391}, a_{23} : 0, a_{24} : r_{392}, a_{25} : r_{393}, a_{34} : r_{394}, a_{35} : r_{395}, a_{45} : -\\frac{r_{387} x_{25}}{x_{24} x_{35}}\\right\\}, \\left\\{d_{1} : r_{396}, d_{2} : \\frac{r_{396}}{x_{12}}, d_{3} : 0, d_{4} : \\frac{r_{396}}{x_{12} x_{24}}, d_{5} : 0, a_{12} : r_{397}, a_{13} : r_{398}, a_{14} : r_{399}, a_{15} : r_{400}, a_{23} : 0, a_{24} : \\frac{r_{397}}{x_{12}}, a_{25} : r_{401}, a_{34} : r_{402}, a_{35} : r_{403}, a_{45} : r_{404}\\right\\}, \\left\\{d_{1} : 0, d_{2} : 0, d_{3} : 0, d_{4} : 0, d_{5} : 0, a_{12} : r_{405}, a_{13} : r_{406}, a_{14} : r_{407}, a_{15} : r_{408}, a_{23} : 0, a_{24} : r_{409}, a_{25} : r_{410}, a_{34} : r_{411}, a_{35} : r_{412}, a_{45} : r_{413}\\right\\}, \\left\\{d_{1} : r_{414}, d_{2} : \\frac{r_{414}}{x_{12}}, d_{3} : r_{415}, d_{4} : \\frac{r_{414}}{x_{12} x_{24}}, d_{5} : \\frac{r_{415}}{x_{35}}, a_{12} : r_{416}, a_{13} : r_{417}, a_{14} : r_{418}, a_{15} : r_{419}, a_{23} : 0, a_{24} : \\frac{r_{416}}{x_{12}}, a_{25} : \\frac{r_{417}}{x_{12}}, a_{34} : r_{420}, a_{35} : r_{421}, a_{45} : -\\frac{r_{415} x_{25}}{x_{24} x_{35}}\\right\\}\\right]"
      ]
     },
     "execution_count": 14,
     "metadata": {},
     "output_type": "execute_result"
    }
   ],
   "source": [
    "#x2\n",
    "reset()\n",
    "\n",
    "var('x12,x13,x14,x15,x23,x24,x25,x34,x35,x45')\n",
    "var('d1,d2,d3,d4,d5')\n",
    "var('a12,a13,a14,a15,a23,a24,a25,a34,a35,a45')\n",
    "\n",
    "load_attach_path('C:\\\\Users\\\\julia\\\\Documents\\\\unb\\\\doutorado\\\\pensar\\\\codigo_sage_v2\\\\maquina\\\\x2')\n",
    "load('out_#111000.sage')\n",
    "\n",
    "m=matrix(QQ, [[0, 1, 0, 0, 0],\n",
    "              [0, 0, 0, 1, 0],\n",
    "              [0, 0, 0, 0, 1],\n",
    "              [0, 0, 0, 0, 0],\n",
    "              [0, 0, 0, 0, 0]])\n",
    "        \n",
    "#entry of matrix: (i,j) line i collum j, means (i-1,j-1)\n",
    "sol=solve([ eq1==m[0,1],\teq2==m[0,2],\teq3==m[0,3],\teq4==m[0,4],\t\n",
    "                                            eq5==m[1,3],    eq6==m[1,4],\n",
    "                                                            eq7==m[2,4]],d1,d2,d3,d4,d5,a12,a13,a14,a15,a23,a24,a25,a34,a35,a45, solution_dict=True)\n",
    "\n",
    "show(m)\n",
    "show(sol)\n",
    "latex(sol)"
   ]
  },
  {
   "cell_type": "code",
   "execution_count": 15,
   "metadata": {},
   "outputs": [
    {
     "data": {
      "text/html": [
       "<html><script type=\"math/tex; mode=display\">\\newcommand{\\Bold}[1]{\\mathbf{#1}}\\left(\\begin{array}{rrrrr}\n",
       "0 & 1 & 0 & 0 & 0 \\\\\n",
       "0 & 0 & 0 & 1 & 0 \\\\\n",
       "0 & 0 & 0 & 0 & 1 \\\\\n",
       "0 & 0 & 0 & 0 & 0 \\\\\n",
       "0 & 0 & 0 & 0 & 0\n",
       "\\end{array}\\right)</script></html>"
      ],
      "text/latex": [
       "$$\\newcommand{\\Bold}[1]{\\mathbf{#1}}\\left(\\begin{array}{rrrrr}\n",
       "0 & 1 & 0 & 0 & 0 \\\\\n",
       "0 & 0 & 0 & 1 & 0 \\\\\n",
       "0 & 0 & 0 & 0 & 1 \\\\\n",
       "0 & 0 & 0 & 0 & 0 \\\\\n",
       "0 & 0 & 0 & 0 & 0\n",
       "\\end{array}\\right)$$"
      ],
      "text/plain": [
       "[0 1 0 0 0]\n",
       "[0 0 0 1 0]\n",
       "[0 0 0 0 1]\n",
       "[0 0 0 0 0]\n",
       "[0 0 0 0 0]"
      ]
     },
     "metadata": {},
     "output_type": "display_data"
    },
    {
     "data": {
      "text/html": [
       "<html><script type=\"math/tex; mode=display\">\\newcommand{\\Bold}[1]{\\mathbf{#1}}\\left[\\left\\{d_{1} : 0, d_{2} : 0, d_{3} : r_{422}, d_{4} : 0, d_{5} : \\frac{r_{422}}{x_{35}}, a_{12} : r_{423}, a_{13} : r_{424}, a_{14} : r_{425}, a_{15} : r_{426}, a_{23} : 0, a_{24} : r_{427}, a_{25} : r_{428}, a_{34} : r_{429}, a_{35} : r_{430}, a_{45} : -\\frac{r_{422} x_{25}}{x_{24} x_{35}}\\right\\}, \\left\\{d_{1} : r_{431}, d_{2} : \\frac{r_{431}}{x_{12}}, d_{3} : 0, d_{4} : \\frac{r_{431}}{x_{12} x_{24}}, d_{5} : 0, a_{12} : r_{432}, a_{13} : r_{433}, a_{14} : r_{434}, a_{15} : r_{435}, a_{23} : 0, a_{24} : \\frac{r_{432}}{x_{12}}, a_{25} : r_{436}, a_{34} : r_{437}, a_{35} : r_{438}, a_{45} : r_{439}\\right\\}, \\left\\{d_{1} : 0, d_{2} : 0, d_{3} : 0, d_{4} : 0, d_{5} : 0, a_{12} : r_{440}, a_{13} : r_{441}, a_{14} : r_{442}, a_{15} : r_{443}, a_{23} : 0, a_{24} : r_{444}, a_{25} : r_{445}, a_{34} : r_{446}, a_{35} : r_{447}, a_{45} : r_{448}\\right\\}, \\left\\{d_{1} : r_{449}, d_{2} : \\frac{r_{449}}{x_{12}}, d_{3} : r_{450}, d_{4} : \\frac{r_{449}}{x_{12} x_{24}}, d_{5} : \\frac{r_{450}}{x_{35}}, a_{12} : r_{451}, a_{13} : r_{452}, a_{14} : r_{453}, a_{15} : r_{454}, a_{23} : 0, a_{24} : \\frac{r_{451}}{x_{12}}, a_{25} : -\\frac{r_{450} x_{15} - r_{452} x_{35}}{x_{12} x_{35}}, a_{34} : r_{455}, a_{35} : r_{456}, a_{45} : -\\frac{r_{450} x_{25}}{x_{24} x_{35}}\\right\\}\\right]</script></html>"
      ],
      "text/latex": [
       "$$\\newcommand{\\Bold}[1]{\\mathbf{#1}}\\left[\\left\\{d_{1} : 0, d_{2} : 0, d_{3} : r_{422}, d_{4} : 0, d_{5} : \\frac{r_{422}}{x_{35}}, a_{12} : r_{423}, a_{13} : r_{424}, a_{14} : r_{425}, a_{15} : r_{426}, a_{23} : 0, a_{24} : r_{427}, a_{25} : r_{428}, a_{34} : r_{429}, a_{35} : r_{430}, a_{45} : -\\frac{r_{422} x_{25}}{x_{24} x_{35}}\\right\\}, \\left\\{d_{1} : r_{431}, d_{2} : \\frac{r_{431}}{x_{12}}, d_{3} : 0, d_{4} : \\frac{r_{431}}{x_{12} x_{24}}, d_{5} : 0, a_{12} : r_{432}, a_{13} : r_{433}, a_{14} : r_{434}, a_{15} : r_{435}, a_{23} : 0, a_{24} : \\frac{r_{432}}{x_{12}}, a_{25} : r_{436}, a_{34} : r_{437}, a_{35} : r_{438}, a_{45} : r_{439}\\right\\}, \\left\\{d_{1} : 0, d_{2} : 0, d_{3} : 0, d_{4} : 0, d_{5} : 0, a_{12} : r_{440}, a_{13} : r_{441}, a_{14} : r_{442}, a_{15} : r_{443}, a_{23} : 0, a_{24} : r_{444}, a_{25} : r_{445}, a_{34} : r_{446}, a_{35} : r_{447}, a_{45} : r_{448}\\right\\}, \\left\\{d_{1} : r_{449}, d_{2} : \\frac{r_{449}}{x_{12}}, d_{3} : r_{450}, d_{4} : \\frac{r_{449}}{x_{12} x_{24}}, d_{5} : \\frac{r_{450}}{x_{35}}, a_{12} : r_{451}, a_{13} : r_{452}, a_{14} : r_{453}, a_{15} : r_{454}, a_{23} : 0, a_{24} : \\frac{r_{451}}{x_{12}}, a_{25} : -\\frac{r_{450} x_{15} - r_{452} x_{35}}{x_{12} x_{35}}, a_{34} : r_{455}, a_{35} : r_{456}, a_{45} : -\\frac{r_{450} x_{25}}{x_{24} x_{35}}\\right\\}\\right]$$"
      ],
      "text/plain": [
       "[{d1: 0,\n",
       "  d2: 0,\n",
       "  d3: r422,\n",
       "  d4: 0,\n",
       "  d5: r422/x35,\n",
       "  a12: r423,\n",
       "  a13: r424,\n",
       "  a14: r425,\n",
       "  a15: r426,\n",
       "  a23: 0,\n",
       "  a24: r427,\n",
       "  a25: r428,\n",
       "  a34: r429,\n",
       "  a35: r430,\n",
       "  a45: -r422*x25/(x24*x35)},\n",
       " {d1: r431,\n",
       "  d2: r431/x12,\n",
       "  d3: 0,\n",
       "  d4: r431/(x12*x24),\n",
       "  d5: 0,\n",
       "  a12: r432,\n",
       "  a13: r433,\n",
       "  a14: r434,\n",
       "  a15: r435,\n",
       "  a23: 0,\n",
       "  a24: r432/x12,\n",
       "  a25: r436,\n",
       "  a34: r437,\n",
       "  a35: r438,\n",
       "  a45: r439},\n",
       " {d1: 0,\n",
       "  d2: 0,\n",
       "  d3: 0,\n",
       "  d4: 0,\n",
       "  d5: 0,\n",
       "  a12: r440,\n",
       "  a13: r441,\n",
       "  a14: r442,\n",
       "  a15: r443,\n",
       "  a23: 0,\n",
       "  a24: r444,\n",
       "  a25: r445,\n",
       "  a34: r446,\n",
       "  a35: r447,\n",
       "  a45: r448},\n",
       " {d1: r449,\n",
       "  d2: r449/x12,\n",
       "  d3: r450,\n",
       "  d4: r449/(x12*x24),\n",
       "  d5: r450/x35,\n",
       "  a12: r451,\n",
       "  a13: r452,\n",
       "  a14: r453,\n",
       "  a15: r454,\n",
       "  a23: 0,\n",
       "  a24: r451/x12,\n",
       "  a25: -(r450*x15 - r452*x35)/(x12*x35),\n",
       "  a34: r455,\n",
       "  a35: r456,\n",
       "  a45: -r450*x25/(x24*x35)}]"
      ]
     },
     "metadata": {},
     "output_type": "display_data"
    },
    {
     "data": {
      "text/plain": [
       "\\left[\\left\\{d_{1} : 0, d_{2} : 0, d_{3} : r_{422}, d_{4} : 0, d_{5} : \\frac{r_{422}}{x_{35}}, a_{12} : r_{423}, a_{13} : r_{424}, a_{14} : r_{425}, a_{15} : r_{426}, a_{23} : 0, a_{24} : r_{427}, a_{25} : r_{428}, a_{34} : r_{429}, a_{35} : r_{430}, a_{45} : -\\frac{r_{422} x_{25}}{x_{24} x_{35}}\\right\\}, \\left\\{d_{1} : r_{431}, d_{2} : \\frac{r_{431}}{x_{12}}, d_{3} : 0, d_{4} : \\frac{r_{431}}{x_{12} x_{24}}, d_{5} : 0, a_{12} : r_{432}, a_{13} : r_{433}, a_{14} : r_{434}, a_{15} : r_{435}, a_{23} : 0, a_{24} : \\frac{r_{432}}{x_{12}}, a_{25} : r_{436}, a_{34} : r_{437}, a_{35} : r_{438}, a_{45} : r_{439}\\right\\}, \\left\\{d_{1} : 0, d_{2} : 0, d_{3} : 0, d_{4} : 0, d_{5} : 0, a_{12} : r_{440}, a_{13} : r_{441}, a_{14} : r_{442}, a_{15} : r_{443}, a_{23} : 0, a_{24} : r_{444}, a_{25} : r_{445}, a_{34} : r_{446}, a_{35} : r_{447}, a_{45} : r_{448}\\right\\}, \\left\\{d_{1} : r_{449}, d_{2} : \\frac{r_{449}}{x_{12}}, d_{3} : r_{450}, d_{4} : \\frac{r_{449}}{x_{12} x_{24}}, d_{5} : \\frac{r_{450}}{x_{35}}, a_{12} : r_{451}, a_{13} : r_{452}, a_{14} : r_{453}, a_{15} : r_{454}, a_{23} : 0, a_{24} : \\frac{r_{451}}{x_{12}}, a_{25} : -\\frac{r_{450} x_{15} - r_{452} x_{35}}{x_{12} x_{35}}, a_{34} : r_{455}, a_{35} : r_{456}, a_{45} : -\\frac{r_{450} x_{25}}{x_{24} x_{35}}\\right\\}\\right]"
      ]
     },
     "execution_count": 15,
     "metadata": {},
     "output_type": "execute_result"
    }
   ],
   "source": [
    "#x2\n",
    "reset()\n",
    "\n",
    "var('x12,x13,x14,x15,x23,x24,x25,x34,x35,x45')\n",
    "var('d1,d2,d3,d4,d5')\n",
    "var('a12,a13,a14,a15,a23,a24,a25,a34,a35,a45')\n",
    "\n",
    "load_attach_path('C:\\\\Users\\\\julia\\\\Documents\\\\unb\\\\doutorado\\\\pensar\\\\codigo_sage_v2\\\\maquina\\\\x2')\n",
    "load('out_#111001.sage')\n",
    "\n",
    "m=matrix(QQ, [[0, 1, 0, 0, 0],\n",
    "              [0, 0, 0, 1, 0],\n",
    "              [0, 0, 0, 0, 1],\n",
    "              [0, 0, 0, 0, 0],\n",
    "              [0, 0, 0, 0, 0]])\n",
    "        \n",
    "#entry of matrix: (i,j) line i collum j, means (i-1,j-1)\n",
    "sol=solve([ eq1==m[0,1],\teq2==m[0,2],\teq3==m[0,3],\teq4==m[0,4],\t\n",
    "                                            eq5==m[1,3],    eq6==m[1,4],\n",
    "                                                            eq7==m[2,4]],d1,d2,d3,d4,d5,a12,a13,a14,a15,a23,a24,a25,a34,a35,a45, solution_dict=True)\n",
    "\n",
    "show(m)\n",
    "show(sol)\n",
    "latex(sol)"
   ]
  },
  {
   "cell_type": "code",
   "execution_count": 16,
   "metadata": {},
   "outputs": [
    {
     "data": {
      "text/html": [
       "<html><script type=\"math/tex; mode=display\">\\newcommand{\\Bold}[1]{\\mathbf{#1}}\\left(\\begin{array}{rrrrr}\n",
       "0 & 1 & 0 & 0 & 0 \\\\\n",
       "0 & 0 & 0 & 1 & 0 \\\\\n",
       "0 & 0 & 0 & 0 & 1 \\\\\n",
       "0 & 0 & 0 & 0 & 0 \\\\\n",
       "0 & 0 & 0 & 0 & 0\n",
       "\\end{array}\\right)</script></html>"
      ],
      "text/latex": [
       "$$\\newcommand{\\Bold}[1]{\\mathbf{#1}}\\left(\\begin{array}{rrrrr}\n",
       "0 & 1 & 0 & 0 & 0 \\\\\n",
       "0 & 0 & 0 & 1 & 0 \\\\\n",
       "0 & 0 & 0 & 0 & 1 \\\\\n",
       "0 & 0 & 0 & 0 & 0 \\\\\n",
       "0 & 0 & 0 & 0 & 0\n",
       "\\end{array}\\right)$$"
      ],
      "text/plain": [
       "[0 1 0 0 0]\n",
       "[0 0 0 1 0]\n",
       "[0 0 0 0 1]\n",
       "[0 0 0 0 0]\n",
       "[0 0 0 0 0]"
      ]
     },
     "metadata": {},
     "output_type": "display_data"
    },
    {
     "data": {
      "text/html": [
       "<html><script type=\"math/tex; mode=display\">\\newcommand{\\Bold}[1]{\\mathbf{#1}}\\left[\\left\\{d_{1} : 0, d_{2} : 0, d_{3} : r_{457}, d_{4} : 0, d_{5} : \\frac{r_{457}}{x_{35}}, a_{12} : r_{458}, a_{13} : r_{459}, a_{14} : r_{460}, a_{15} : r_{461}, a_{23} : 0, a_{24} : r_{462}, a_{25} : r_{463}, a_{34} : r_{464}, a_{35} : r_{465}, a_{45} : -\\frac{r_{457} x_{25}}{x_{24} x_{35}}\\right\\}, \\left\\{d_{1} : r_{466}, d_{2} : \\frac{r_{466}}{x_{12}}, d_{3} : 0, d_{4} : \\frac{r_{466}}{x_{12} x_{24}}, d_{5} : 0, a_{12} : r_{467}, a_{13} : r_{468}, a_{14} : r_{469}, a_{15} : r_{470}, a_{23} : 0, a_{24} : \\frac{r_{467} x_{12} x_{24} - r_{466} x_{14}}{x_{12}^{2} x_{24}}, a_{25} : r_{471}, a_{34} : r_{472}, a_{35} : r_{473}, a_{45} : r_{474}\\right\\}, \\left\\{d_{1} : 0, d_{2} : 0, d_{3} : 0, d_{4} : 0, d_{5} : 0, a_{12} : r_{475}, a_{13} : r_{476}, a_{14} : r_{477}, a_{15} : r_{478}, a_{23} : 0, a_{24} : r_{479}, a_{25} : r_{480}, a_{34} : r_{481}, a_{35} : r_{482}, a_{45} : r_{483}\\right\\}, \\left\\{d_{1} : r_{484}, d_{2} : \\frac{r_{484}}{x_{12}}, d_{3} : r_{485}, d_{4} : \\frac{r_{484}}{x_{12} x_{24}}, d_{5} : \\frac{r_{485}}{x_{35}}, a_{12} : r_{486}, a_{13} : r_{487}, a_{14} : r_{488}, a_{15} : r_{489}, a_{23} : 0, a_{24} : \\frac{r_{486} x_{12} x_{24} - r_{484} x_{14}}{x_{12}^{2} x_{24}}, a_{25} : \\frac{r_{485} x_{14} x_{25} + r_{487} x_{24} x_{35}}{x_{12} x_{24} x_{35}}, a_{34} : r_{490}, a_{35} : r_{491}, a_{45} : -\\frac{r_{485} x_{25}}{x_{24} x_{35}}\\right\\}\\right]</script></html>"
      ],
      "text/latex": [
       "$$\\newcommand{\\Bold}[1]{\\mathbf{#1}}\\left[\\left\\{d_{1} : 0, d_{2} : 0, d_{3} : r_{457}, d_{4} : 0, d_{5} : \\frac{r_{457}}{x_{35}}, a_{12} : r_{458}, a_{13} : r_{459}, a_{14} : r_{460}, a_{15} : r_{461}, a_{23} : 0, a_{24} : r_{462}, a_{25} : r_{463}, a_{34} : r_{464}, a_{35} : r_{465}, a_{45} : -\\frac{r_{457} x_{25}}{x_{24} x_{35}}\\right\\}, \\left\\{d_{1} : r_{466}, d_{2} : \\frac{r_{466}}{x_{12}}, d_{3} : 0, d_{4} : \\frac{r_{466}}{x_{12} x_{24}}, d_{5} : 0, a_{12} : r_{467}, a_{13} : r_{468}, a_{14} : r_{469}, a_{15} : r_{470}, a_{23} : 0, a_{24} : \\frac{r_{467} x_{12} x_{24} - r_{466} x_{14}}{x_{12}^{2} x_{24}}, a_{25} : r_{471}, a_{34} : r_{472}, a_{35} : r_{473}, a_{45} : r_{474}\\right\\}, \\left\\{d_{1} : 0, d_{2} : 0, d_{3} : 0, d_{4} : 0, d_{5} : 0, a_{12} : r_{475}, a_{13} : r_{476}, a_{14} : r_{477}, a_{15} : r_{478}, a_{23} : 0, a_{24} : r_{479}, a_{25} : r_{480}, a_{34} : r_{481}, a_{35} : r_{482}, a_{45} : r_{483}\\right\\}, \\left\\{d_{1} : r_{484}, d_{2} : \\frac{r_{484}}{x_{12}}, d_{3} : r_{485}, d_{4} : \\frac{r_{484}}{x_{12} x_{24}}, d_{5} : \\frac{r_{485}}{x_{35}}, a_{12} : r_{486}, a_{13} : r_{487}, a_{14} : r_{488}, a_{15} : r_{489}, a_{23} : 0, a_{24} : \\frac{r_{486} x_{12} x_{24} - r_{484} x_{14}}{x_{12}^{2} x_{24}}, a_{25} : \\frac{r_{485} x_{14} x_{25} + r_{487} x_{24} x_{35}}{x_{12} x_{24} x_{35}}, a_{34} : r_{490}, a_{35} : r_{491}, a_{45} : -\\frac{r_{485} x_{25}}{x_{24} x_{35}}\\right\\}\\right]$$"
      ],
      "text/plain": [
       "[{d1: 0,\n",
       "  d2: 0,\n",
       "  d3: r457,\n",
       "  d4: 0,\n",
       "  d5: r457/x35,\n",
       "  a12: r458,\n",
       "  a13: r459,\n",
       "  a14: r460,\n",
       "  a15: r461,\n",
       "  a23: 0,\n",
       "  a24: r462,\n",
       "  a25: r463,\n",
       "  a34: r464,\n",
       "  a35: r465,\n",
       "  a45: -r457*x25/(x24*x35)},\n",
       " {d1: r466,\n",
       "  d2: r466/x12,\n",
       "  d3: 0,\n",
       "  d4: r466/(x12*x24),\n",
       "  d5: 0,\n",
       "  a12: r467,\n",
       "  a13: r468,\n",
       "  a14: r469,\n",
       "  a15: r470,\n",
       "  a23: 0,\n",
       "  a24: (r467*x12*x24 - r466*x14)/(x12^2*x24),\n",
       "  a25: r471,\n",
       "  a34: r472,\n",
       "  a35: r473,\n",
       "  a45: r474},\n",
       " {d1: 0,\n",
       "  d2: 0,\n",
       "  d3: 0,\n",
       "  d4: 0,\n",
       "  d5: 0,\n",
       "  a12: r475,\n",
       "  a13: r476,\n",
       "  a14: r477,\n",
       "  a15: r478,\n",
       "  a23: 0,\n",
       "  a24: r479,\n",
       "  a25: r480,\n",
       "  a34: r481,\n",
       "  a35: r482,\n",
       "  a45: r483},\n",
       " {d1: r484,\n",
       "  d2: r484/x12,\n",
       "  d3: r485,\n",
       "  d4: r484/(x12*x24),\n",
       "  d5: r485/x35,\n",
       "  a12: r486,\n",
       "  a13: r487,\n",
       "  a14: r488,\n",
       "  a15: r489,\n",
       "  a23: 0,\n",
       "  a24: (r486*x12*x24 - r484*x14)/(x12^2*x24),\n",
       "  a25: (r485*x14*x25 + r487*x24*x35)/(x12*x24*x35),\n",
       "  a34: r490,\n",
       "  a35: r491,\n",
       "  a45: -r485*x25/(x24*x35)}]"
      ]
     },
     "metadata": {},
     "output_type": "display_data"
    },
    {
     "data": {
      "text/plain": [
       "\\left[\\left\\{d_{1} : 0, d_{2} : 0, d_{3} : r_{457}, d_{4} : 0, d_{5} : \\frac{r_{457}}{x_{35}}, a_{12} : r_{458}, a_{13} : r_{459}, a_{14} : r_{460}, a_{15} : r_{461}, a_{23} : 0, a_{24} : r_{462}, a_{25} : r_{463}, a_{34} : r_{464}, a_{35} : r_{465}, a_{45} : -\\frac{r_{457} x_{25}}{x_{24} x_{35}}\\right\\}, \\left\\{d_{1} : r_{466}, d_{2} : \\frac{r_{466}}{x_{12}}, d_{3} : 0, d_{4} : \\frac{r_{466}}{x_{12} x_{24}}, d_{5} : 0, a_{12} : r_{467}, a_{13} : r_{468}, a_{14} : r_{469}, a_{15} : r_{470}, a_{23} : 0, a_{24} : \\frac{r_{467} x_{12} x_{24} - r_{466} x_{14}}{x_{12}^{2} x_{24}}, a_{25} : r_{471}, a_{34} : r_{472}, a_{35} : r_{473}, a_{45} : r_{474}\\right\\}, \\left\\{d_{1} : 0, d_{2} : 0, d_{3} : 0, d_{4} : 0, d_{5} : 0, a_{12} : r_{475}, a_{13} : r_{476}, a_{14} : r_{477}, a_{15} : r_{478}, a_{23} : 0, a_{24} : r_{479}, a_{25} : r_{480}, a_{34} : r_{481}, a_{35} : r_{482}, a_{45} : r_{483}\\right\\}, \\left\\{d_{1} : r_{484}, d_{2} : \\frac{r_{484}}{x_{12}}, d_{3} : r_{485}, d_{4} : \\frac{r_{484}}{x_{12} x_{24}}, d_{5} : \\frac{r_{485}}{x_{35}}, a_{12} : r_{486}, a_{13} : r_{487}, a_{14} : r_{488}, a_{15} : r_{489}, a_{23} : 0, a_{24} : \\frac{r_{486} x_{12} x_{24} - r_{484} x_{14}}{x_{12}^{2} x_{24}}, a_{25} : \\frac{r_{485} x_{14} x_{25} + r_{487} x_{24} x_{35}}{x_{12} x_{24} x_{35}}, a_{34} : r_{490}, a_{35} : r_{491}, a_{45} : -\\frac{r_{485} x_{25}}{x_{24} x_{35}}\\right\\}\\right]"
      ]
     },
     "execution_count": 16,
     "metadata": {},
     "output_type": "execute_result"
    }
   ],
   "source": [
    "#x2\n",
    "reset()\n",
    "\n",
    "var('x12,x13,x14,x15,x23,x24,x25,x34,x35,x45')\n",
    "var('d1,d2,d3,d4,d5')\n",
    "var('a12,a13,a14,a15,a23,a24,a25,a34,a35,a45')\n",
    "\n",
    "load_attach_path('C:\\\\Users\\\\julia\\\\Documents\\\\unb\\\\doutorado\\\\pensar\\\\codigo_sage_v2\\\\maquina\\\\x2')\n",
    "load('out_#111010.sage')\n",
    "\n",
    "m=matrix(QQ, [[0, 1, 0, 0, 0],\n",
    "              [0, 0, 0, 1, 0],\n",
    "              [0, 0, 0, 0, 1],\n",
    "              [0, 0, 0, 0, 0],\n",
    "              [0, 0, 0, 0, 0]])\n",
    "        \n",
    "#entry of matrix: (i,j) line i collum j, means (i-1,j-1)\n",
    "sol=solve([ eq1==m[0,1],\teq2==m[0,2],\teq3==m[0,3],\teq4==m[0,4],\t\n",
    "                                            eq5==m[1,3],    eq6==m[1,4],\n",
    "                                                            eq7==m[2,4]],d1,d2,d3,d4,d5,a12,a13,a14,a15,a23,a24,a25,a34,a35,a45, solution_dict=True)\n",
    "\n",
    "show(m)\n",
    "show(sol)\n",
    "latex(sol)"
   ]
  },
  {
   "cell_type": "code",
   "execution_count": 17,
   "metadata": {},
   "outputs": [
    {
     "data": {
      "text/html": [
       "<html><script type=\"math/tex; mode=display\">\\newcommand{\\Bold}[1]{\\mathbf{#1}}\\left(\\begin{array}{rrrrr}\n",
       "0 & 1 & 0 & 0 & 0 \\\\\n",
       "0 & 0 & 0 & 1 & 0 \\\\\n",
       "0 & 0 & 0 & 0 & 1 \\\\\n",
       "0 & 0 & 0 & 0 & 0 \\\\\n",
       "0 & 0 & 0 & 0 & 0\n",
       "\\end{array}\\right)</script></html>"
      ],
      "text/latex": [
       "$$\\newcommand{\\Bold}[1]{\\mathbf{#1}}\\left(\\begin{array}{rrrrr}\n",
       "0 & 1 & 0 & 0 & 0 \\\\\n",
       "0 & 0 & 0 & 1 & 0 \\\\\n",
       "0 & 0 & 0 & 0 & 1 \\\\\n",
       "0 & 0 & 0 & 0 & 0 \\\\\n",
       "0 & 0 & 0 & 0 & 0\n",
       "\\end{array}\\right)$$"
      ],
      "text/plain": [
       "[0 1 0 0 0]\n",
       "[0 0 0 1 0]\n",
       "[0 0 0 0 1]\n",
       "[0 0 0 0 0]\n",
       "[0 0 0 0 0]"
      ]
     },
     "metadata": {},
     "output_type": "display_data"
    },
    {
     "data": {
      "text/html": [
       "<html><script type=\"math/tex; mode=display\">\\newcommand{\\Bold}[1]{\\mathbf{#1}}\\left[\\left\\{d_{1} : 0, d_{2} : 0, d_{3} : r_{492}, d_{4} : 0, d_{5} : \\frac{r_{492}}{x_{35}}, a_{12} : r_{493}, a_{13} : r_{494}, a_{14} : r_{495}, a_{15} : r_{496}, a_{23} : 0, a_{24} : r_{497}, a_{25} : r_{498}, a_{34} : r_{499}, a_{35} : r_{500}, a_{45} : -\\frac{r_{492} x_{25}}{x_{24} x_{35}}\\right\\}, \\left\\{d_{1} : r_{501}, d_{2} : \\frac{r_{501}}{x_{12}}, d_{3} : 0, d_{4} : \\frac{r_{501}}{x_{12} x_{24}}, d_{5} : 0, a_{12} : r_{502}, a_{13} : r_{503}, a_{14} : r_{504}, a_{15} : r_{505}, a_{23} : 0, a_{24} : \\frac{r_{502} x_{12} x_{24} - r_{501} x_{14}}{x_{12}^{2} x_{24}}, a_{25} : r_{506}, a_{34} : r_{507}, a_{35} : r_{508}, a_{45} : r_{509}\\right\\}, \\left\\{d_{1} : 0, d_{2} : 0, d_{3} : 0, d_{4} : 0, d_{5} : 0, a_{12} : r_{510}, a_{13} : r_{511}, a_{14} : r_{512}, a_{15} : r_{513}, a_{23} : 0, a_{24} : r_{514}, a_{25} : r_{515}, a_{34} : r_{516}, a_{35} : r_{517}, a_{45} : r_{518}\\right\\}, \\left\\{d_{1} : r_{519}, d_{2} : \\frac{r_{519}}{x_{12}}, d_{3} : r_{520}, d_{4} : \\frac{r_{519}}{x_{12} x_{24}}, d_{5} : \\frac{r_{520}}{x_{35}}, a_{12} : r_{521}, a_{13} : r_{522}, a_{14} : r_{523}, a_{15} : r_{524}, a_{23} : 0, a_{24} : \\frac{r_{521} x_{12} x_{24} - r_{519} x_{14}}{x_{12}^{2} x_{24}}, a_{25} : -\\frac{r_{520} x_{15} x_{24} - r_{520} x_{14} x_{25} - r_{522} x_{24} x_{35}}{x_{12} x_{24} x_{35}}, a_{34} : r_{525}, a_{35} : r_{526}, a_{45} : -\\frac{r_{520} x_{25}}{x_{24} x_{35}}\\right\\}\\right]</script></html>"
      ],
      "text/latex": [
       "$$\\newcommand{\\Bold}[1]{\\mathbf{#1}}\\left[\\left\\{d_{1} : 0, d_{2} : 0, d_{3} : r_{492}, d_{4} : 0, d_{5} : \\frac{r_{492}}{x_{35}}, a_{12} : r_{493}, a_{13} : r_{494}, a_{14} : r_{495}, a_{15} : r_{496}, a_{23} : 0, a_{24} : r_{497}, a_{25} : r_{498}, a_{34} : r_{499}, a_{35} : r_{500}, a_{45} : -\\frac{r_{492} x_{25}}{x_{24} x_{35}}\\right\\}, \\left\\{d_{1} : r_{501}, d_{2} : \\frac{r_{501}}{x_{12}}, d_{3} : 0, d_{4} : \\frac{r_{501}}{x_{12} x_{24}}, d_{5} : 0, a_{12} : r_{502}, a_{13} : r_{503}, a_{14} : r_{504}, a_{15} : r_{505}, a_{23} : 0, a_{24} : \\frac{r_{502} x_{12} x_{24} - r_{501} x_{14}}{x_{12}^{2} x_{24}}, a_{25} : r_{506}, a_{34} : r_{507}, a_{35} : r_{508}, a_{45} : r_{509}\\right\\}, \\left\\{d_{1} : 0, d_{2} : 0, d_{3} : 0, d_{4} : 0, d_{5} : 0, a_{12} : r_{510}, a_{13} : r_{511}, a_{14} : r_{512}, a_{15} : r_{513}, a_{23} : 0, a_{24} : r_{514}, a_{25} : r_{515}, a_{34} : r_{516}, a_{35} : r_{517}, a_{45} : r_{518}\\right\\}, \\left\\{d_{1} : r_{519}, d_{2} : \\frac{r_{519}}{x_{12}}, d_{3} : r_{520}, d_{4} : \\frac{r_{519}}{x_{12} x_{24}}, d_{5} : \\frac{r_{520}}{x_{35}}, a_{12} : r_{521}, a_{13} : r_{522}, a_{14} : r_{523}, a_{15} : r_{524}, a_{23} : 0, a_{24} : \\frac{r_{521} x_{12} x_{24} - r_{519} x_{14}}{x_{12}^{2} x_{24}}, a_{25} : -\\frac{r_{520} x_{15} x_{24} - r_{520} x_{14} x_{25} - r_{522} x_{24} x_{35}}{x_{12} x_{24} x_{35}}, a_{34} : r_{525}, a_{35} : r_{526}, a_{45} : -\\frac{r_{520} x_{25}}{x_{24} x_{35}}\\right\\}\\right]$$"
      ],
      "text/plain": [
       "[{d1: 0,\n",
       "  d2: 0,\n",
       "  d3: r492,\n",
       "  d4: 0,\n",
       "  d5: r492/x35,\n",
       "  a12: r493,\n",
       "  a13: r494,\n",
       "  a14: r495,\n",
       "  a15: r496,\n",
       "  a23: 0,\n",
       "  a24: r497,\n",
       "  a25: r498,\n",
       "  a34: r499,\n",
       "  a35: r500,\n",
       "  a45: -r492*x25/(x24*x35)},\n",
       " {d1: r501,\n",
       "  d2: r501/x12,\n",
       "  d3: 0,\n",
       "  d4: r501/(x12*x24),\n",
       "  d5: 0,\n",
       "  a12: r502,\n",
       "  a13: r503,\n",
       "  a14: r504,\n",
       "  a15: r505,\n",
       "  a23: 0,\n",
       "  a24: (r502*x12*x24 - r501*x14)/(x12^2*x24),\n",
       "  a25: r506,\n",
       "  a34: r507,\n",
       "  a35: r508,\n",
       "  a45: r509},\n",
       " {d1: 0,\n",
       "  d2: 0,\n",
       "  d3: 0,\n",
       "  d4: 0,\n",
       "  d5: 0,\n",
       "  a12: r510,\n",
       "  a13: r511,\n",
       "  a14: r512,\n",
       "  a15: r513,\n",
       "  a23: 0,\n",
       "  a24: r514,\n",
       "  a25: r515,\n",
       "  a34: r516,\n",
       "  a35: r517,\n",
       "  a45: r518},\n",
       " {d1: r519,\n",
       "  d2: r519/x12,\n",
       "  d3: r520,\n",
       "  d4: r519/(x12*x24),\n",
       "  d5: r520/x35,\n",
       "  a12: r521,\n",
       "  a13: r522,\n",
       "  a14: r523,\n",
       "  a15: r524,\n",
       "  a23: 0,\n",
       "  a24: (r521*x12*x24 - r519*x14)/(x12^2*x24),\n",
       "  a25: -(r520*x15*x24 - r520*x14*x25 - r522*x24*x35)/(x12*x24*x35),\n",
       "  a34: r525,\n",
       "  a35: r526,\n",
       "  a45: -r520*x25/(x24*x35)}]"
      ]
     },
     "metadata": {},
     "output_type": "display_data"
    },
    {
     "data": {
      "text/plain": [
       "\\left[\\left\\{d_{1} : 0, d_{2} : 0, d_{3} : r_{492}, d_{4} : 0, d_{5} : \\frac{r_{492}}{x_{35}}, a_{12} : r_{493}, a_{13} : r_{494}, a_{14} : r_{495}, a_{15} : r_{496}, a_{23} : 0, a_{24} : r_{497}, a_{25} : r_{498}, a_{34} : r_{499}, a_{35} : r_{500}, a_{45} : -\\frac{r_{492} x_{25}}{x_{24} x_{35}}\\right\\}, \\left\\{d_{1} : r_{501}, d_{2} : \\frac{r_{501}}{x_{12}}, d_{3} : 0, d_{4} : \\frac{r_{501}}{x_{12} x_{24}}, d_{5} : 0, a_{12} : r_{502}, a_{13} : r_{503}, a_{14} : r_{504}, a_{15} : r_{505}, a_{23} : 0, a_{24} : \\frac{r_{502} x_{12} x_{24} - r_{501} x_{14}}{x_{12}^{2} x_{24}}, a_{25} : r_{506}, a_{34} : r_{507}, a_{35} : r_{508}, a_{45} : r_{509}\\right\\}, \\left\\{d_{1} : 0, d_{2} : 0, d_{3} : 0, d_{4} : 0, d_{5} : 0, a_{12} : r_{510}, a_{13} : r_{511}, a_{14} : r_{512}, a_{15} : r_{513}, a_{23} : 0, a_{24} : r_{514}, a_{25} : r_{515}, a_{34} : r_{516}, a_{35} : r_{517}, a_{45} : r_{518}\\right\\}, \\left\\{d_{1} : r_{519}, d_{2} : \\frac{r_{519}}{x_{12}}, d_{3} : r_{520}, d_{4} : \\frac{r_{519}}{x_{12} x_{24}}, d_{5} : \\frac{r_{520}}{x_{35}}, a_{12} : r_{521}, a_{13} : r_{522}, a_{14} : r_{523}, a_{15} : r_{524}, a_{23} : 0, a_{24} : \\frac{r_{521} x_{12} x_{24} - r_{519} x_{14}}{x_{12}^{2} x_{24}}, a_{25} : -\\frac{r_{520} x_{15} x_{24} - r_{520} x_{14} x_{25} - r_{522} x_{24} x_{35}}{x_{12} x_{24} x_{35}}, a_{34} : r_{525}, a_{35} : r_{526}, a_{45} : -\\frac{r_{520} x_{25}}{x_{24} x_{35}}\\right\\}\\right]"
      ]
     },
     "execution_count": 17,
     "metadata": {},
     "output_type": "execute_result"
    }
   ],
   "source": [
    "#x2\n",
    "reset()\n",
    "\n",
    "var('x12,x13,x14,x15,x23,x24,x25,x34,x35,x45')\n",
    "var('d1,d2,d3,d4,d5')\n",
    "var('a12,a13,a14,a15,a23,a24,a25,a34,a35,a45')\n",
    "\n",
    "load_attach_path('C:\\\\Users\\\\julia\\\\Documents\\\\unb\\\\doutorado\\\\pensar\\\\codigo_sage_v2\\\\maquina\\\\x2')\n",
    "load('out_#111011.sage')\n",
    "\n",
    "m=matrix(QQ, [[0, 1, 0, 0, 0],\n",
    "              [0, 0, 0, 1, 0],\n",
    "              [0, 0, 0, 0, 1],\n",
    "              [0, 0, 0, 0, 0],\n",
    "              [0, 0, 0, 0, 0]])\n",
    "        \n",
    "#entry of matrix: (i,j) line i collum j, means (i-1,j-1)\n",
    "sol=solve([ eq1==m[0,1],\teq2==m[0,2],\teq3==m[0,3],\teq4==m[0,4],\t\n",
    "                                            eq5==m[1,3],    eq6==m[1,4],\n",
    "                                                            eq7==m[2,4]],d1,d2,d3,d4,d5,a12,a13,a14,a15,a23,a24,a25,a34,a35,a45, solution_dict=True)\n",
    "\n",
    "show(m)\n",
    "show(sol)\n",
    "latex(sol)"
   ]
  },
  {
   "cell_type": "code",
   "execution_count": 19,
   "metadata": {},
   "outputs": [
    {
     "data": {
      "text/html": [
       "<html><script type=\"math/tex; mode=display\">\\newcommand{\\Bold}[1]{\\mathbf{#1}}\\left(\\begin{array}{rrrrr}\n",
       "0 & 1 & 0 & 0 & 0 \\\\\n",
       "0 & 0 & 0 & 1 & 0 \\\\\n",
       "0 & 0 & 0 & 0 & 1 \\\\\n",
       "0 & 0 & 0 & 0 & 0 \\\\\n",
       "0 & 0 & 0 & 0 & 0\n",
       "\\end{array}\\right)</script></html>"
      ],
      "text/latex": [
       "$$\\newcommand{\\Bold}[1]{\\mathbf{#1}}\\left(\\begin{array}{rrrrr}\n",
       "0 & 1 & 0 & 0 & 0 \\\\\n",
       "0 & 0 & 0 & 1 & 0 \\\\\n",
       "0 & 0 & 0 & 0 & 1 \\\\\n",
       "0 & 0 & 0 & 0 & 0 \\\\\n",
       "0 & 0 & 0 & 0 & 0\n",
       "\\end{array}\\right)$$"
      ],
      "text/plain": [
       "[0 1 0 0 0]\n",
       "[0 0 0 1 0]\n",
       "[0 0 0 0 1]\n",
       "[0 0 0 0 0]\n",
       "[0 0 0 0 0]"
      ]
     },
     "metadata": {},
     "output_type": "display_data"
    },
    {
     "data": {
      "text/html": [
       "<html><script type=\"math/tex; mode=display\">\\newcommand{\\Bold}[1]{\\mathbf{#1}}\\left[\\left\\{d_{1} : 0, d_{2} : 0, d_{3} : r_{562}, d_{4} : 0, d_{5} : \\frac{r_{562}}{x_{35}}, a_{12} : r_{563}, a_{13} : r_{564}, a_{14} : r_{565}, a_{15} : r_{566}, a_{23} : -\\frac{r_{562} x_{13}}{x_{12}}, a_{24} : r_{567}, a_{25} : r_{568}, a_{34} : r_{569}, a_{35} : r_{570}, a_{45} : -\\frac{r_{562} x_{12} x_{25} + r_{562} x_{13} x_{35}}{x_{12} x_{24} x_{35}}\\right\\}, \\left\\{d_{1} : r_{571}, d_{2} : \\frac{r_{571}}{x_{12}}, d_{3} : 0, d_{4} : \\frac{r_{571}}{x_{12} x_{24}}, d_{5} : 0, a_{12} : r_{572}, a_{13} : r_{573}, a_{14} : r_{574}, a_{15} : r_{575}, a_{23} : 0, a_{24} : r_{576}, a_{25} : r_{577}, a_{34} : -\\frac{r_{576} x_{12} - r_{572}}{x_{13}}, a_{35} : r_{578}, a_{45} : r_{579}\\right\\}, \\left\\{d_{1} : 0, d_{2} : 0, d_{3} : 0, d_{4} : 0, d_{5} : 0, a_{12} : r_{580}, a_{13} : r_{581}, a_{14} : r_{582}, a_{15} : r_{583}, a_{23} : 0, a_{24} : r_{584}, a_{25} : r_{585}, a_{34} : r_{586}, a_{35} : r_{587}, a_{45} : r_{588}\\right\\}, \\left\\{d_{1} : r_{589}, d_{2} : \\frac{r_{589}}{x_{12}}, d_{3} : r_{590}, d_{4} : \\frac{r_{589}}{x_{12} x_{24}}, d_{5} : \\frac{r_{590}}{x_{35}}, a_{12} : r_{591}, a_{13} : r_{592}, a_{14} : r_{593}, a_{15} : r_{594}, a_{23} : -\\frac{r_{590} x_{13}}{x_{12}}, a_{24} : r_{595}, a_{25} : r_{596}, a_{34} : -\\frac{r_{595} x_{12} - r_{591}}{x_{13}}, a_{35} : -\\frac{r_{596} x_{12} - r_{592}}{x_{13}}, a_{45} : -\\frac{r_{590} x_{12} x_{25} + r_{590} x_{13} x_{35}}{x_{12} x_{24} x_{35}}\\right\\}\\right]</script></html>"
      ],
      "text/latex": [
       "$$\\newcommand{\\Bold}[1]{\\mathbf{#1}}\\left[\\left\\{d_{1} : 0, d_{2} : 0, d_{3} : r_{562}, d_{4} : 0, d_{5} : \\frac{r_{562}}{x_{35}}, a_{12} : r_{563}, a_{13} : r_{564}, a_{14} : r_{565}, a_{15} : r_{566}, a_{23} : -\\frac{r_{562} x_{13}}{x_{12}}, a_{24} : r_{567}, a_{25} : r_{568}, a_{34} : r_{569}, a_{35} : r_{570}, a_{45} : -\\frac{r_{562} x_{12} x_{25} + r_{562} x_{13} x_{35}}{x_{12} x_{24} x_{35}}\\right\\}, \\left\\{d_{1} : r_{571}, d_{2} : \\frac{r_{571}}{x_{12}}, d_{3} : 0, d_{4} : \\frac{r_{571}}{x_{12} x_{24}}, d_{5} : 0, a_{12} : r_{572}, a_{13} : r_{573}, a_{14} : r_{574}, a_{15} : r_{575}, a_{23} : 0, a_{24} : r_{576}, a_{25} : r_{577}, a_{34} : -\\frac{r_{576} x_{12} - r_{572}}{x_{13}}, a_{35} : r_{578}, a_{45} : r_{579}\\right\\}, \\left\\{d_{1} : 0, d_{2} : 0, d_{3} : 0, d_{4} : 0, d_{5} : 0, a_{12} : r_{580}, a_{13} : r_{581}, a_{14} : r_{582}, a_{15} : r_{583}, a_{23} : 0, a_{24} : r_{584}, a_{25} : r_{585}, a_{34} : r_{586}, a_{35} : r_{587}, a_{45} : r_{588}\\right\\}, \\left\\{d_{1} : r_{589}, d_{2} : \\frac{r_{589}}{x_{12}}, d_{3} : r_{590}, d_{4} : \\frac{r_{589}}{x_{12} x_{24}}, d_{5} : \\frac{r_{590}}{x_{35}}, a_{12} : r_{591}, a_{13} : r_{592}, a_{14} : r_{593}, a_{15} : r_{594}, a_{23} : -\\frac{r_{590} x_{13}}{x_{12}}, a_{24} : r_{595}, a_{25} : r_{596}, a_{34} : -\\frac{r_{595} x_{12} - r_{591}}{x_{13}}, a_{35} : -\\frac{r_{596} x_{12} - r_{592}}{x_{13}}, a_{45} : -\\frac{r_{590} x_{12} x_{25} + r_{590} x_{13} x_{35}}{x_{12} x_{24} x_{35}}\\right\\}\\right]$$"
      ],
      "text/plain": [
       "[{d1: 0,\n",
       "  d2: 0,\n",
       "  d3: r562,\n",
       "  d4: 0,\n",
       "  d5: r562/x35,\n",
       "  a12: r563,\n",
       "  a13: r564,\n",
       "  a14: r565,\n",
       "  a15: r566,\n",
       "  a23: -r562*x13/x12,\n",
       "  a24: r567,\n",
       "  a25: r568,\n",
       "  a34: r569,\n",
       "  a35: r570,\n",
       "  a45: -(r562*x12*x25 + r562*x13*x35)/(x12*x24*x35)},\n",
       " {d1: r571,\n",
       "  d2: r571/x12,\n",
       "  d3: 0,\n",
       "  d4: r571/(x12*x24),\n",
       "  d5: 0,\n",
       "  a12: r572,\n",
       "  a13: r573,\n",
       "  a14: r574,\n",
       "  a15: r575,\n",
       "  a23: 0,\n",
       "  a24: r576,\n",
       "  a25: r577,\n",
       "  a34: -(r576*x12 - r572)/x13,\n",
       "  a35: r578,\n",
       "  a45: r579},\n",
       " {d1: 0,\n",
       "  d2: 0,\n",
       "  d3: 0,\n",
       "  d4: 0,\n",
       "  d5: 0,\n",
       "  a12: r580,\n",
       "  a13: r581,\n",
       "  a14: r582,\n",
       "  a15: r583,\n",
       "  a23: 0,\n",
       "  a24: r584,\n",
       "  a25: r585,\n",
       "  a34: r586,\n",
       "  a35: r587,\n",
       "  a45: r588},\n",
       " {d1: r589,\n",
       "  d2: r589/x12,\n",
       "  d3: r590,\n",
       "  d4: r589/(x12*x24),\n",
       "  d5: r590/x35,\n",
       "  a12: r591,\n",
       "  a13: r592,\n",
       "  a14: r593,\n",
       "  a15: r594,\n",
       "  a23: -r590*x13/x12,\n",
       "  a24: r595,\n",
       "  a25: r596,\n",
       "  a34: -(r595*x12 - r591)/x13,\n",
       "  a35: -(r596*x12 - r592)/x13,\n",
       "  a45: -(r590*x12*x25 + r590*x13*x35)/(x12*x24*x35)}]"
      ]
     },
     "metadata": {},
     "output_type": "display_data"
    },
    {
     "data": {
      "text/plain": [
       "\\left[\\left\\{d_{1} : 0, d_{2} : 0, d_{3} : r_{562}, d_{4} : 0, d_{5} : \\frac{r_{562}}{x_{35}}, a_{12} : r_{563}, a_{13} : r_{564}, a_{14} : r_{565}, a_{15} : r_{566}, a_{23} : -\\frac{r_{562} x_{13}}{x_{12}}, a_{24} : r_{567}, a_{25} : r_{568}, a_{34} : r_{569}, a_{35} : r_{570}, a_{45} : -\\frac{r_{562} x_{12} x_{25} + r_{562} x_{13} x_{35}}{x_{12} x_{24} x_{35}}\\right\\}, \\left\\{d_{1} : r_{571}, d_{2} : \\frac{r_{571}}{x_{12}}, d_{3} : 0, d_{4} : \\frac{r_{571}}{x_{12} x_{24}}, d_{5} : 0, a_{12} : r_{572}, a_{13} : r_{573}, a_{14} : r_{574}, a_{15} : r_{575}, a_{23} : 0, a_{24} : r_{576}, a_{25} : r_{577}, a_{34} : -\\frac{r_{576} x_{12} - r_{572}}{x_{13}}, a_{35} : r_{578}, a_{45} : r_{579}\\right\\}, \\left\\{d_{1} : 0, d_{2} : 0, d_{3} : 0, d_{4} : 0, d_{5} : 0, a_{12} : r_{580}, a_{13} : r_{581}, a_{14} : r_{582}, a_{15} : r_{583}, a_{23} : 0, a_{24} : r_{584}, a_{25} : r_{585}, a_{34} : r_{586}, a_{35} : r_{587}, a_{45} : r_{588}\\right\\}, \\left\\{d_{1} : r_{589}, d_{2} : \\frac{r_{589}}{x_{12}}, d_{3} : r_{590}, d_{4} : \\frac{r_{589}}{x_{12} x_{24}}, d_{5} : \\frac{r_{590}}{x_{35}}, a_{12} : r_{591}, a_{13} : r_{592}, a_{14} : r_{593}, a_{15} : r_{594}, a_{23} : -\\frac{r_{590} x_{13}}{x_{12}}, a_{24} : r_{595}, a_{25} : r_{596}, a_{34} : -\\frac{r_{595} x_{12} - r_{591}}{x_{13}}, a_{35} : -\\frac{r_{596} x_{12} - r_{592}}{x_{13}}, a_{45} : -\\frac{r_{590} x_{12} x_{25} + r_{590} x_{13} x_{35}}{x_{12} x_{24} x_{35}}\\right\\}\\right]"
      ]
     },
     "execution_count": 19,
     "metadata": {},
     "output_type": "execute_result"
    }
   ],
   "source": [
    "#x2\n",
    "reset()\n",
    "\n",
    "var('x12,x13,x14,x15,x23,x24,x25,x34,x35,x45')\n",
    "var('d1,d2,d3,d4,d5')\n",
    "var('a12,a13,a14,a15,a23,a24,a25,a34,a35,a45')\n",
    "\n",
    "load_attach_path('C:\\\\Users\\\\julia\\\\Documents\\\\unb\\\\doutorado\\\\pensar\\\\codigo_sage_v2\\\\maquina\\\\x2')\n",
    "load('out_#111100.sage')\n",
    "\n",
    "m=matrix(QQ, [[0, 1, 0, 0, 0],\n",
    "              [0, 0, 0, 1, 0],\n",
    "              [0, 0, 0, 0, 1],\n",
    "              [0, 0, 0, 0, 0],\n",
    "              [0, 0, 0, 0, 0]])\n",
    "        \n",
    "#entry of matrix: (i,j) line i collum j, means (i-1,j-1)\n",
    "sol=solve([ eq1==m[0,1],\teq2==m[0,2],\teq3==m[0,3],\teq4==m[0,4],\t\n",
    "                                            eq5==m[1,3],    eq6==m[1,4],\n",
    "                                                            eq7==m[2,4]],d1,d2,d3,d4,d5,a12,a13,a14,a15,a23,a24,a25,a34,a35,a45, solution_dict=True)\n",
    "\n",
    "show(m)\n",
    "show(sol)\n",
    "latex(sol)"
   ]
  },
  {
   "cell_type": "code",
   "execution_count": 20,
   "metadata": {},
   "outputs": [
    {
     "data": {
      "text/html": [
       "<html><script type=\"math/tex; mode=display\">\\newcommand{\\Bold}[1]{\\mathbf{#1}}\\left(\\begin{array}{rrrrr}\n",
       "0 & 1 & 0 & 0 & 0 \\\\\n",
       "0 & 0 & 0 & 1 & 0 \\\\\n",
       "0 & 0 & 0 & 0 & 1 \\\\\n",
       "0 & 0 & 0 & 0 & 0 \\\\\n",
       "0 & 0 & 0 & 0 & 0\n",
       "\\end{array}\\right)</script></html>"
      ],
      "text/latex": [
       "$$\\newcommand{\\Bold}[1]{\\mathbf{#1}}\\left(\\begin{array}{rrrrr}\n",
       "0 & 1 & 0 & 0 & 0 \\\\\n",
       "0 & 0 & 0 & 1 & 0 \\\\\n",
       "0 & 0 & 0 & 0 & 1 \\\\\n",
       "0 & 0 & 0 & 0 & 0 \\\\\n",
       "0 & 0 & 0 & 0 & 0\n",
       "\\end{array}\\right)$$"
      ],
      "text/plain": [
       "[0 1 0 0 0]\n",
       "[0 0 0 1 0]\n",
       "[0 0 0 0 1]\n",
       "[0 0 0 0 0]\n",
       "[0 0 0 0 0]"
      ]
     },
     "metadata": {},
     "output_type": "display_data"
    },
    {
     "data": {
      "text/html": [
       "<html><script type=\"math/tex; mode=display\">\\newcommand{\\Bold}[1]{\\mathbf{#1}}\\left[\\left\\{d_{1} : 0, d_{2} : 0, d_{3} : r_{597}, d_{4} : 0, d_{5} : \\frac{r_{597}}{x_{35}}, a_{12} : r_{598}, a_{13} : r_{599}, a_{14} : r_{600}, a_{15} : r_{601}, a_{23} : -\\frac{r_{597} x_{13}}{x_{12}}, a_{24} : r_{602}, a_{25} : r_{603}, a_{34} : r_{604}, a_{35} : r_{605}, a_{45} : -\\frac{r_{597} x_{12} x_{25} + r_{597} x_{13} x_{35}}{x_{12} x_{24} x_{35}}\\right\\}, \\left\\{d_{1} : r_{606}, d_{2} : \\frac{r_{606}}{x_{12}}, d_{3} : 0, d_{4} : \\frac{r_{606}}{x_{12} x_{24}}, d_{5} : 0, a_{12} : r_{607}, a_{13} : r_{608}, a_{14} : r_{609}, a_{15} : r_{610}, a_{23} : 0, a_{24} : r_{611}, a_{25} : r_{612}, a_{34} : -\\frac{r_{611} x_{12} - r_{607}}{x_{13}}, a_{35} : r_{613}, a_{45} : r_{614}\\right\\}, \\left\\{d_{1} : 0, d_{2} : 0, d_{3} : 0, d_{4} : 0, d_{5} : 0, a_{12} : r_{615}, a_{13} : r_{616}, a_{14} : r_{617}, a_{15} : r_{618}, a_{23} : 0, a_{24} : r_{619}, a_{25} : r_{620}, a_{34} : r_{621}, a_{35} : r_{622}, a_{45} : r_{623}\\right\\}, \\left\\{d_{1} : r_{624}, d_{2} : \\frac{r_{624}}{x_{12}}, d_{3} : r_{625}, d_{4} : \\frac{r_{624}}{x_{12} x_{24}}, d_{5} : \\frac{r_{625}}{x_{35}}, a_{12} : r_{626}, a_{13} : r_{627}, a_{14} : r_{628}, a_{15} : r_{629}, a_{23} : -\\frac{r_{625} x_{13}}{x_{12}}, a_{24} : r_{630}, a_{25} : r_{631}, a_{34} : -\\frac{r_{630} x_{12} - r_{626}}{x_{13}}, a_{35} : -\\frac{r_{625} x_{15} + {\\left(r_{631} x_{12} - r_{627}\\right)} x_{35}}{x_{13} x_{35}}, a_{45} : -\\frac{r_{625} x_{12} x_{25} + r_{625} x_{13} x_{35}}{x_{12} x_{24} x_{35}}\\right\\}\\right]</script></html>"
      ],
      "text/latex": [
       "$$\\newcommand{\\Bold}[1]{\\mathbf{#1}}\\left[\\left\\{d_{1} : 0, d_{2} : 0, d_{3} : r_{597}, d_{4} : 0, d_{5} : \\frac{r_{597}}{x_{35}}, a_{12} : r_{598}, a_{13} : r_{599}, a_{14} : r_{600}, a_{15} : r_{601}, a_{23} : -\\frac{r_{597} x_{13}}{x_{12}}, a_{24} : r_{602}, a_{25} : r_{603}, a_{34} : r_{604}, a_{35} : r_{605}, a_{45} : -\\frac{r_{597} x_{12} x_{25} + r_{597} x_{13} x_{35}}{x_{12} x_{24} x_{35}}\\right\\}, \\left\\{d_{1} : r_{606}, d_{2} : \\frac{r_{606}}{x_{12}}, d_{3} : 0, d_{4} : \\frac{r_{606}}{x_{12} x_{24}}, d_{5} : 0, a_{12} : r_{607}, a_{13} : r_{608}, a_{14} : r_{609}, a_{15} : r_{610}, a_{23} : 0, a_{24} : r_{611}, a_{25} : r_{612}, a_{34} : -\\frac{r_{611} x_{12} - r_{607}}{x_{13}}, a_{35} : r_{613}, a_{45} : r_{614}\\right\\}, \\left\\{d_{1} : 0, d_{2} : 0, d_{3} : 0, d_{4} : 0, d_{5} : 0, a_{12} : r_{615}, a_{13} : r_{616}, a_{14} : r_{617}, a_{15} : r_{618}, a_{23} : 0, a_{24} : r_{619}, a_{25} : r_{620}, a_{34} : r_{621}, a_{35} : r_{622}, a_{45} : r_{623}\\right\\}, \\left\\{d_{1} : r_{624}, d_{2} : \\frac{r_{624}}{x_{12}}, d_{3} : r_{625}, d_{4} : \\frac{r_{624}}{x_{12} x_{24}}, d_{5} : \\frac{r_{625}}{x_{35}}, a_{12} : r_{626}, a_{13} : r_{627}, a_{14} : r_{628}, a_{15} : r_{629}, a_{23} : -\\frac{r_{625} x_{13}}{x_{12}}, a_{24} : r_{630}, a_{25} : r_{631}, a_{34} : -\\frac{r_{630} x_{12} - r_{626}}{x_{13}}, a_{35} : -\\frac{r_{625} x_{15} + {\\left(r_{631} x_{12} - r_{627}\\right)} x_{35}}{x_{13} x_{35}}, a_{45} : -\\frac{r_{625} x_{12} x_{25} + r_{625} x_{13} x_{35}}{x_{12} x_{24} x_{35}}\\right\\}\\right]$$"
      ],
      "text/plain": [
       "[{d1: 0,\n",
       "  d2: 0,\n",
       "  d3: r597,\n",
       "  d4: 0,\n",
       "  d5: r597/x35,\n",
       "  a12: r598,\n",
       "  a13: r599,\n",
       "  a14: r600,\n",
       "  a15: r601,\n",
       "  a23: -r597*x13/x12,\n",
       "  a24: r602,\n",
       "  a25: r603,\n",
       "  a34: r604,\n",
       "  a35: r605,\n",
       "  a45: -(r597*x12*x25 + r597*x13*x35)/(x12*x24*x35)},\n",
       " {d1: r606,\n",
       "  d2: r606/x12,\n",
       "  d3: 0,\n",
       "  d4: r606/(x12*x24),\n",
       "  d5: 0,\n",
       "  a12: r607,\n",
       "  a13: r608,\n",
       "  a14: r609,\n",
       "  a15: r610,\n",
       "  a23: 0,\n",
       "  a24: r611,\n",
       "  a25: r612,\n",
       "  a34: -(r611*x12 - r607)/x13,\n",
       "  a35: r613,\n",
       "  a45: r614},\n",
       " {d1: 0,\n",
       "  d2: 0,\n",
       "  d3: 0,\n",
       "  d4: 0,\n",
       "  d5: 0,\n",
       "  a12: r615,\n",
       "  a13: r616,\n",
       "  a14: r617,\n",
       "  a15: r618,\n",
       "  a23: 0,\n",
       "  a24: r619,\n",
       "  a25: r620,\n",
       "  a34: r621,\n",
       "  a35: r622,\n",
       "  a45: r623},\n",
       " {d1: r624,\n",
       "  d2: r624/x12,\n",
       "  d3: r625,\n",
       "  d4: r624/(x12*x24),\n",
       "  d5: r625/x35,\n",
       "  a12: r626,\n",
       "  a13: r627,\n",
       "  a14: r628,\n",
       "  a15: r629,\n",
       "  a23: -r625*x13/x12,\n",
       "  a24: r630,\n",
       "  a25: r631,\n",
       "  a34: -(r630*x12 - r626)/x13,\n",
       "  a35: -(r625*x15 + (r631*x12 - r627)*x35)/(x13*x35),\n",
       "  a45: -(r625*x12*x25 + r625*x13*x35)/(x12*x24*x35)}]"
      ]
     },
     "metadata": {},
     "output_type": "display_data"
    },
    {
     "data": {
      "text/plain": [
       "\\left[\\left\\{d_{1} : 0, d_{2} : 0, d_{3} : r_{597}, d_{4} : 0, d_{5} : \\frac{r_{597}}{x_{35}}, a_{12} : r_{598}, a_{13} : r_{599}, a_{14} : r_{600}, a_{15} : r_{601}, a_{23} : -\\frac{r_{597} x_{13}}{x_{12}}, a_{24} : r_{602}, a_{25} : r_{603}, a_{34} : r_{604}, a_{35} : r_{605}, a_{45} : -\\frac{r_{597} x_{12} x_{25} + r_{597} x_{13} x_{35}}{x_{12} x_{24} x_{35}}\\right\\}, \\left\\{d_{1} : r_{606}, d_{2} : \\frac{r_{606}}{x_{12}}, d_{3} : 0, d_{4} : \\frac{r_{606}}{x_{12} x_{24}}, d_{5} : 0, a_{12} : r_{607}, a_{13} : r_{608}, a_{14} : r_{609}, a_{15} : r_{610}, a_{23} : 0, a_{24} : r_{611}, a_{25} : r_{612}, a_{34} : -\\frac{r_{611} x_{12} - r_{607}}{x_{13}}, a_{35} : r_{613}, a_{45} : r_{614}\\right\\}, \\left\\{d_{1} : 0, d_{2} : 0, d_{3} : 0, d_{4} : 0, d_{5} : 0, a_{12} : r_{615}, a_{13} : r_{616}, a_{14} : r_{617}, a_{15} : r_{618}, a_{23} : 0, a_{24} : r_{619}, a_{25} : r_{620}, a_{34} : r_{621}, a_{35} : r_{622}, a_{45} : r_{623}\\right\\}, \\left\\{d_{1} : r_{624}, d_{2} : \\frac{r_{624}}{x_{12}}, d_{3} : r_{625}, d_{4} : \\frac{r_{624}}{x_{12} x_{24}}, d_{5} : \\frac{r_{625}}{x_{35}}, a_{12} : r_{626}, a_{13} : r_{627}, a_{14} : r_{628}, a_{15} : r_{629}, a_{23} : -\\frac{r_{625} x_{13}}{x_{12}}, a_{24} : r_{630}, a_{25} : r_{631}, a_{34} : -\\frac{r_{630} x_{12} - r_{626}}{x_{13}}, a_{35} : -\\frac{r_{625} x_{15} + {\\left(r_{631} x_{12} - r_{627}\\right)} x_{35}}{x_{13} x_{35}}, a_{45} : -\\frac{r_{625} x_{12} x_{25} + r_{625} x_{13} x_{35}}{x_{12} x_{24} x_{35}}\\right\\}\\right]"
      ]
     },
     "execution_count": 20,
     "metadata": {},
     "output_type": "execute_result"
    }
   ],
   "source": [
    "#x2\n",
    "reset()\n",
    "\n",
    "var('x12,x13,x14,x15,x23,x24,x25,x34,x35,x45')\n",
    "var('d1,d2,d3,d4,d5')\n",
    "var('a12,a13,a14,a15,a23,a24,a25,a34,a35,a45')\n",
    "\n",
    "load_attach_path('C:\\\\Users\\\\julia\\\\Documents\\\\unb\\\\doutorado\\\\pensar\\\\codigo_sage_v2\\\\maquina\\\\x2')\n",
    "load('out_#111101.sage')\n",
    "\n",
    "m=matrix(QQ, [[0, 1, 0, 0, 0],\n",
    "              [0, 0, 0, 1, 0],\n",
    "              [0, 0, 0, 0, 1],\n",
    "              [0, 0, 0, 0, 0],\n",
    "              [0, 0, 0, 0, 0]])\n",
    "        \n",
    "#entry of matrix: (i,j) line i collum j, means (i-1,j-1)\n",
    "sol=solve([ eq1==m[0,1],\teq2==m[0,2],\teq3==m[0,3],\teq4==m[0,4],\t\n",
    "                                            eq5==m[1,3],    eq6==m[1,4],\n",
    "                                                            eq7==m[2,4]],d1,d2,d3,d4,d5,a12,a13,a14,a15,a23,a24,a25,a34,a35,a45, solution_dict=True)\n",
    "\n",
    "show(m)\n",
    "show(sol)\n",
    "latex(sol)"
   ]
  },
  {
   "cell_type": "code",
   "execution_count": 2,
   "metadata": {},
   "outputs": [
    {
     "data": {
      "text/html": [
       "<html><script type=\"math/tex; mode=display\">\\newcommand{\\Bold}[1]{\\mathbf{#1}}\\left(\\begin{array}{rrrrr}\n",
       "0 & 1 & 0 & 0 & 0 \\\\\n",
       "0 & 0 & 0 & 1 & 0 \\\\\n",
       "0 & 0 & 0 & 0 & 1 \\\\\n",
       "0 & 0 & 0 & 0 & 0 \\\\\n",
       "0 & 0 & 0 & 0 & 0\n",
       "\\end{array}\\right)</script></html>"
      ],
      "text/latex": [
       "$$\\newcommand{\\Bold}[1]{\\mathbf{#1}}\\left(\\begin{array}{rrrrr}\n",
       "0 & 1 & 0 & 0 & 0 \\\\\n",
       "0 & 0 & 0 & 1 & 0 \\\\\n",
       "0 & 0 & 0 & 0 & 1 \\\\\n",
       "0 & 0 & 0 & 0 & 0 \\\\\n",
       "0 & 0 & 0 & 0 & 0\n",
       "\\end{array}\\right)$$"
      ],
      "text/plain": [
       "[0 1 0 0 0]\n",
       "[0 0 0 1 0]\n",
       "[0 0 0 0 1]\n",
       "[0 0 0 0 0]\n",
       "[0 0 0 0 0]"
      ]
     },
     "metadata": {},
     "output_type": "display_data"
    },
    {
     "data": {
      "text/html": [
       "<html><script type=\"math/tex; mode=display\">\\newcommand{\\Bold}[1]{\\mathbf{#1}}\\left[\\left\\{d_{1} : 0, d_{2} : 0, d_{3} : r_{36}, d_{4} : 0, d_{5} : \\frac{r_{36}}{x_{35}}, a_{12} : r_{37}, a_{13} : r_{38}, a_{14} : r_{39}, a_{15} : r_{40}, a_{23} : -\\frac{r_{36} x_{13}}{x_{12}}, a_{24} : r_{41}, a_{25} : r_{42}, a_{34} : r_{43}, a_{35} : r_{44}, a_{45} : -\\frac{r_{36} x_{12} x_{25} + r_{36} x_{13} x_{35}}{x_{12} x_{24} x_{35}}\\right\\}, \\left\\{d_{1} : r_{45}, d_{2} : \\frac{r_{45}}{x_{12}}, d_{3} : 0, d_{4} : \\frac{r_{45}}{x_{12} x_{24}}, d_{5} : 0, a_{12} : r_{46}, a_{13} : r_{47}, a_{14} : r_{48}, a_{15} : r_{49}, a_{23} : 0, a_{24} : r_{50}, a_{25} : r_{51}, a_{34} : -\\frac{r_{45} x_{14} + {\\left(r_{50} x_{12}^{2} - r_{46} x_{12}\\right)} x_{24}}{x_{12} x_{13} x_{24}}, a_{35} : r_{52}, a_{45} : r_{53}\\right\\}, \\left\\{d_{1} : 0, d_{2} : 0, d_{3} : 0, d_{4} : 0, d_{5} : 0, a_{12} : r_{54}, a_{13} : r_{55}, a_{14} : r_{56}, a_{15} : r_{57}, a_{23} : 0, a_{24} : r_{58}, a_{25} : r_{59}, a_{34} : r_{60}, a_{35} : r_{61}, a_{45} : r_{62}\\right\\}, \\left\\{d_{1} : r_{63}, d_{2} : \\frac{r_{63}}{x_{12}}, d_{3} : r_{64}, d_{4} : \\frac{r_{63}}{x_{12} x_{24}}, d_{5} : \\frac{r_{64}}{x_{35}}, a_{12} : r_{65}, a_{13} : r_{66}, a_{14} : r_{67}, a_{15} : r_{68}, a_{23} : -\\frac{r_{64} x_{13}}{x_{12}}, a_{24} : r_{69}, a_{25} : r_{70}, a_{34} : -\\frac{r_{63} x_{14} + {\\left(r_{69} x_{12}^{2} - r_{65} x_{12}\\right)} x_{24}}{x_{12} x_{13} x_{24}}, a_{35} : \\frac{r_{64} x_{12} x_{14} x_{25} + {\\left(r_{64} x_{13} x_{14} - {\\left(r_{70} x_{12}^{2} - r_{66} x_{12}\\right)} x_{24}\\right)} x_{35}}{x_{12} x_{13} x_{24} x_{35}}, a_{45} : -\\frac{r_{64} x_{12} x_{25} + r_{64} x_{13} x_{35}}{x_{12} x_{24} x_{35}}\\right\\}\\right]</script></html>"
      ],
      "text/latex": [
       "$$\\newcommand{\\Bold}[1]{\\mathbf{#1}}\\left[\\left\\{d_{1} : 0, d_{2} : 0, d_{3} : r_{36}, d_{4} : 0, d_{5} : \\frac{r_{36}}{x_{35}}, a_{12} : r_{37}, a_{13} : r_{38}, a_{14} : r_{39}, a_{15} : r_{40}, a_{23} : -\\frac{r_{36} x_{13}}{x_{12}}, a_{24} : r_{41}, a_{25} : r_{42}, a_{34} : r_{43}, a_{35} : r_{44}, a_{45} : -\\frac{r_{36} x_{12} x_{25} + r_{36} x_{13} x_{35}}{x_{12} x_{24} x_{35}}\\right\\}, \\left\\{d_{1} : r_{45}, d_{2} : \\frac{r_{45}}{x_{12}}, d_{3} : 0, d_{4} : \\frac{r_{45}}{x_{12} x_{24}}, d_{5} : 0, a_{12} : r_{46}, a_{13} : r_{47}, a_{14} : r_{48}, a_{15} : r_{49}, a_{23} : 0, a_{24} : r_{50}, a_{25} : r_{51}, a_{34} : -\\frac{r_{45} x_{14} + {\\left(r_{50} x_{12}^{2} - r_{46} x_{12}\\right)} x_{24}}{x_{12} x_{13} x_{24}}, a_{35} : r_{52}, a_{45} : r_{53}\\right\\}, \\left\\{d_{1} : 0, d_{2} : 0, d_{3} : 0, d_{4} : 0, d_{5} : 0, a_{12} : r_{54}, a_{13} : r_{55}, a_{14} : r_{56}, a_{15} : r_{57}, a_{23} : 0, a_{24} : r_{58}, a_{25} : r_{59}, a_{34} : r_{60}, a_{35} : r_{61}, a_{45} : r_{62}\\right\\}, \\left\\{d_{1} : r_{63}, d_{2} : \\frac{r_{63}}{x_{12}}, d_{3} : r_{64}, d_{4} : \\frac{r_{63}}{x_{12} x_{24}}, d_{5} : \\frac{r_{64}}{x_{35}}, a_{12} : r_{65}, a_{13} : r_{66}, a_{14} : r_{67}, a_{15} : r_{68}, a_{23} : -\\frac{r_{64} x_{13}}{x_{12}}, a_{24} : r_{69}, a_{25} : r_{70}, a_{34} : -\\frac{r_{63} x_{14} + {\\left(r_{69} x_{12}^{2} - r_{65} x_{12}\\right)} x_{24}}{x_{12} x_{13} x_{24}}, a_{35} : \\frac{r_{64} x_{12} x_{14} x_{25} + {\\left(r_{64} x_{13} x_{14} - {\\left(r_{70} x_{12}^{2} - r_{66} x_{12}\\right)} x_{24}\\right)} x_{35}}{x_{12} x_{13} x_{24} x_{35}}, a_{45} : -\\frac{r_{64} x_{12} x_{25} + r_{64} x_{13} x_{35}}{x_{12} x_{24} x_{35}}\\right\\}\\right]$$"
      ],
      "text/plain": [
       "[{d1: 0,\n",
       "  d2: 0,\n",
       "  d3: r36,\n",
       "  d4: 0,\n",
       "  d5: r36/x35,\n",
       "  a12: r37,\n",
       "  a13: r38,\n",
       "  a14: r39,\n",
       "  a15: r40,\n",
       "  a23: -r36*x13/x12,\n",
       "  a24: r41,\n",
       "  a25: r42,\n",
       "  a34: r43,\n",
       "  a35: r44,\n",
       "  a45: -(r36*x12*x25 + r36*x13*x35)/(x12*x24*x35)},\n",
       " {d1: r45,\n",
       "  d2: r45/x12,\n",
       "  d3: 0,\n",
       "  d4: r45/(x12*x24),\n",
       "  d5: 0,\n",
       "  a12: r46,\n",
       "  a13: r47,\n",
       "  a14: r48,\n",
       "  a15: r49,\n",
       "  a23: 0,\n",
       "  a24: r50,\n",
       "  a25: r51,\n",
       "  a34: -(r45*x14 + (r50*x12^2 - r46*x12)*x24)/(x12*x13*x24),\n",
       "  a35: r52,\n",
       "  a45: r53},\n",
       " {d1: 0,\n",
       "  d2: 0,\n",
       "  d3: 0,\n",
       "  d4: 0,\n",
       "  d5: 0,\n",
       "  a12: r54,\n",
       "  a13: r55,\n",
       "  a14: r56,\n",
       "  a15: r57,\n",
       "  a23: 0,\n",
       "  a24: r58,\n",
       "  a25: r59,\n",
       "  a34: r60,\n",
       "  a35: r61,\n",
       "  a45: r62},\n",
       " {d1: r63,\n",
       "  d2: r63/x12,\n",
       "  d3: r64,\n",
       "  d4: r63/(x12*x24),\n",
       "  d5: r64/x35,\n",
       "  a12: r65,\n",
       "  a13: r66,\n",
       "  a14: r67,\n",
       "  a15: r68,\n",
       "  a23: -r64*x13/x12,\n",
       "  a24: r69,\n",
       "  a25: r70,\n",
       "  a34: -(r63*x14 + (r69*x12^2 - r65*x12)*x24)/(x12*x13*x24),\n",
       "  a35: (r64*x12*x14*x25 + (r64*x13*x14 - (r70*x12^2 - r66*x12)*x24)*x35)/(x12*x13*x24*x35),\n",
       "  a45: -(r64*x12*x25 + r64*x13*x35)/(x12*x24*x35)}]"
      ]
     },
     "metadata": {},
     "output_type": "display_data"
    },
    {
     "data": {
      "text/plain": [
       "\\left[\\left\\{d_{1} : 0, d_{2} : 0, d_{3} : r_{36}, d_{4} : 0, d_{5} : \\frac{r_{36}}{x_{35}}, a_{12} : r_{37}, a_{13} : r_{38}, a_{14} : r_{39}, a_{15} : r_{40}, a_{23} : -\\frac{r_{36} x_{13}}{x_{12}}, a_{24} : r_{41}, a_{25} : r_{42}, a_{34} : r_{43}, a_{35} : r_{44}, a_{45} : -\\frac{r_{36} x_{12} x_{25} + r_{36} x_{13} x_{35}}{x_{12} x_{24} x_{35}}\\right\\}, \\left\\{d_{1} : r_{45}, d_{2} : \\frac{r_{45}}{x_{12}}, d_{3} : 0, d_{4} : \\frac{r_{45}}{x_{12} x_{24}}, d_{5} : 0, a_{12} : r_{46}, a_{13} : r_{47}, a_{14} : r_{48}, a_{15} : r_{49}, a_{23} : 0, a_{24} : r_{50}, a_{25} : r_{51}, a_{34} : -\\frac{r_{45} x_{14} + {\\left(r_{50} x_{12}^{2} - r_{46} x_{12}\\right)} x_{24}}{x_{12} x_{13} x_{24}}, a_{35} : r_{52}, a_{45} : r_{53}\\right\\}, \\left\\{d_{1} : 0, d_{2} : 0, d_{3} : 0, d_{4} : 0, d_{5} : 0, a_{12} : r_{54}, a_{13} : r_{55}, a_{14} : r_{56}, a_{15} : r_{57}, a_{23} : 0, a_{24} : r_{58}, a_{25} : r_{59}, a_{34} : r_{60}, a_{35} : r_{61}, a_{45} : r_{62}\\right\\}, \\left\\{d_{1} : r_{63}, d_{2} : \\frac{r_{63}}{x_{12}}, d_{3} : r_{64}, d_{4} : \\frac{r_{63}}{x_{12} x_{24}}, d_{5} : \\frac{r_{64}}{x_{35}}, a_{12} : r_{65}, a_{13} : r_{66}, a_{14} : r_{67}, a_{15} : r_{68}, a_{23} : -\\frac{r_{64} x_{13}}{x_{12}}, a_{24} : r_{69}, a_{25} : r_{70}, a_{34} : -\\frac{r_{63} x_{14} + {\\left(r_{69} x_{12}^{2} - r_{65} x_{12}\\right)} x_{24}}{x_{12} x_{13} x_{24}}, a_{35} : \\frac{r_{64} x_{12} x_{14} x_{25} + {\\left(r_{64} x_{13} x_{14} - {\\left(r_{70} x_{12}^{2} - r_{66} x_{12}\\right)} x_{24}\\right)} x_{35}}{x_{12} x_{13} x_{24} x_{35}}, a_{45} : -\\frac{r_{64} x_{12} x_{25} + r_{64} x_{13} x_{35}}{x_{12} x_{24} x_{35}}\\right\\}\\right]"
      ]
     },
     "execution_count": 2,
     "metadata": {},
     "output_type": "execute_result"
    }
   ],
   "source": [
    "#x2\n",
    "reset()\n",
    "\n",
    "var('x12,x13,x14,x15,x23,x24,x25,x34,x35,x45')\n",
    "var('d1,d2,d3,d4,d5')\n",
    "var('a12,a13,a14,a15,a23,a24,a25,a34,a35,a45')\n",
    "\n",
    "load_attach_path('C:\\\\Users\\\\julia\\\\Documents\\\\unb\\\\doutorado\\\\pensar\\\\codigo_sage_v2\\\\maquina\\\\x2')\n",
    "load('out_#111110.sage')\n",
    "\n",
    "m=matrix(QQ, [[0, 1, 0, 0, 0],\n",
    "              [0, 0, 0, 1, 0],\n",
    "              [0, 0, 0, 0, 1],\n",
    "              [0, 0, 0, 0, 0],\n",
    "              [0, 0, 0, 0, 0]])\n",
    "        \n",
    "#entry of matrix: (i,j) line i collum j, means (i-1,j-1)\n",
    "sol=solve([ eq1==m[0,1],\teq2==m[0,2],\teq3==m[0,3],\teq4==m[0,4],\t\n",
    "                                            eq5==m[1,3],    eq6==m[1,4],\n",
    "                                                            eq7==m[2,4]],d1,d2,d3,d4,d5,a12,a13,a14,a15,a23,a24,a25,a34,a35,a45, solution_dict=True)\n",
    "\n",
    "show(m)\n",
    "show(sol)\n",
    "latex(sol)"
   ]
  },
  {
   "cell_type": "code",
   "execution_count": 69,
   "metadata": {
    "scrolled": true
   },
   "outputs": [
    {
     "data": {
      "text/html": [
       "<html><script type=\"math/tex; mode=display\">\\newcommand{\\Bold}[1]{\\mathbf{#1}}\\left[\\left\\{d_{1} : 0, d_{2} : 0, d_{3} : r_{1653}, d_{4} : 0, d_{5} : \\frac{r_{1653}}{x_{35}}, a_{12} : r_{1654}, a_{13} : r_{1655}, a_{14} : r_{1656}, a_{15} : r_{1657}, a_{23} : -\\frac{r_{1653} x_{13}}{x_{12}}, a_{24} : r_{1658}, a_{25} : r_{1659}, a_{34} : r_{1660}, a_{35} : r_{1661}, a_{45} : -\\frac{r_{1653} x_{12} x_{25} + r_{1653} x_{13} x_{35}}{x_{12} x_{24} x_{35}}\\right\\}, \\left\\{d_{1} : r_{1662}, d_{2} : \\frac{r_{1662}}{x_{12}}, d_{3} : 0, d_{4} : \\frac{r_{1662}}{x_{12} x_{24}}, d_{5} : 0, a_{12} : r_{1663}, a_{13} : r_{1664}, a_{14} : r_{1665}, a_{15} : r_{1666}, a_{23} : 0, a_{24} : r_{1667}, a_{25} : r_{1668}, a_{34} : -\\frac{r_{1662} x_{14} + {\\left(r_{1667} x_{12}^{2} - r_{1663} x_{12}\\right)} x_{24}}{x_{12} x_{13} x_{24}}, a_{35} : r_{1669}, a_{45} : r_{1670}\\right\\}, \\left\\{d_{1} : 0, d_{2} : 0, d_{3} : 0, d_{4} : 0, d_{5} : 0, a_{12} : r_{1671}, a_{13} : r_{1672}, a_{14} : r_{1673}, a_{15} : r_{1674}, a_{23} : 0, a_{24} : r_{1675}, a_{25} : r_{1676}, a_{34} : r_{1677}, a_{35} : r_{1678}, a_{45} : r_{1679}\\right\\}, \\left\\{d_{1} : r_{1680}, d_{2} : \\frac{r_{1680}}{x_{12}}, d_{3} : r_{1681}, d_{4} : \\frac{r_{1680}}{x_{12} x_{24}}, d_{5} : \\frac{r_{1681}}{x_{35}}, a_{12} : r_{1682}, a_{13} : r_{1683}, a_{14} : r_{1684}, a_{15} : r_{1685}, a_{23} : -\\frac{r_{1681} x_{13}}{x_{12}}, a_{24} : r_{1686}, a_{25} : r_{1687}, a_{34} : -\\frac{r_{1680} x_{14} + {\\left(r_{1686} x_{12}^{2} - r_{1682} x_{12}\\right)} x_{24}}{x_{12} x_{13} x_{24}}, a_{35} : -\\frac{r_{1681} x_{12} x_{15} x_{24} - r_{1681} x_{12} x_{14} x_{25} - {\\left(r_{1681} x_{13} x_{14} - {\\left(r_{1687} x_{12}^{2} - r_{1683} x_{12}\\right)} x_{24}\\right)} x_{35}}{x_{12} x_{13} x_{24} x_{35}}, a_{45} : -\\frac{r_{1681} x_{12} x_{25} + r_{1681} x_{13} x_{35}}{x_{12} x_{24} x_{35}}\\right\\}\\right]</script></html>"
      ],
      "text/latex": [
       "$$\\newcommand{\\Bold}[1]{\\mathbf{#1}}\\left[\\left\\{d_{1} : 0, d_{2} : 0, d_{3} : r_{1653}, d_{4} : 0, d_{5} : \\frac{r_{1653}}{x_{35}}, a_{12} : r_{1654}, a_{13} : r_{1655}, a_{14} : r_{1656}, a_{15} : r_{1657}, a_{23} : -\\frac{r_{1653} x_{13}}{x_{12}}, a_{24} : r_{1658}, a_{25} : r_{1659}, a_{34} : r_{1660}, a_{35} : r_{1661}, a_{45} : -\\frac{r_{1653} x_{12} x_{25} + r_{1653} x_{13} x_{35}}{x_{12} x_{24} x_{35}}\\right\\}, \\left\\{d_{1} : r_{1662}, d_{2} : \\frac{r_{1662}}{x_{12}}, d_{3} : 0, d_{4} : \\frac{r_{1662}}{x_{12} x_{24}}, d_{5} : 0, a_{12} : r_{1663}, a_{13} : r_{1664}, a_{14} : r_{1665}, a_{15} : r_{1666}, a_{23} : 0, a_{24} : r_{1667}, a_{25} : r_{1668}, a_{34} : -\\frac{r_{1662} x_{14} + {\\left(r_{1667} x_{12}^{2} - r_{1663} x_{12}\\right)} x_{24}}{x_{12} x_{13} x_{24}}, a_{35} : r_{1669}, a_{45} : r_{1670}\\right\\}, \\left\\{d_{1} : 0, d_{2} : 0, d_{3} : 0, d_{4} : 0, d_{5} : 0, a_{12} : r_{1671}, a_{13} : r_{1672}, a_{14} : r_{1673}, a_{15} : r_{1674}, a_{23} : 0, a_{24} : r_{1675}, a_{25} : r_{1676}, a_{34} : r_{1677}, a_{35} : r_{1678}, a_{45} : r_{1679}\\right\\}, \\left\\{d_{1} : r_{1680}, d_{2} : \\frac{r_{1680}}{x_{12}}, d_{3} : r_{1681}, d_{4} : \\frac{r_{1680}}{x_{12} x_{24}}, d_{5} : \\frac{r_{1681}}{x_{35}}, a_{12} : r_{1682}, a_{13} : r_{1683}, a_{14} : r_{1684}, a_{15} : r_{1685}, a_{23} : -\\frac{r_{1681} x_{13}}{x_{12}}, a_{24} : r_{1686}, a_{25} : r_{1687}, a_{34} : -\\frac{r_{1680} x_{14} + {\\left(r_{1686} x_{12}^{2} - r_{1682} x_{12}\\right)} x_{24}}{x_{12} x_{13} x_{24}}, a_{35} : -\\frac{r_{1681} x_{12} x_{15} x_{24} - r_{1681} x_{12} x_{14} x_{25} - {\\left(r_{1681} x_{13} x_{14} - {\\left(r_{1687} x_{12}^{2} - r_{1683} x_{12}\\right)} x_{24}\\right)} x_{35}}{x_{12} x_{13} x_{24} x_{35}}, a_{45} : -\\frac{r_{1681} x_{12} x_{25} + r_{1681} x_{13} x_{35}}{x_{12} x_{24} x_{35}}\\right\\}\\right]$$"
      ],
      "text/plain": [
       "[{d1: 0,\n",
       "  d2: 0,\n",
       "  d3: r1653,\n",
       "  d4: 0,\n",
       "  d5: r1653/x35,\n",
       "  a12: r1654,\n",
       "  a13: r1655,\n",
       "  a14: r1656,\n",
       "  a15: r1657,\n",
       "  a23: -r1653*x13/x12,\n",
       "  a24: r1658,\n",
       "  a25: r1659,\n",
       "  a34: r1660,\n",
       "  a35: r1661,\n",
       "  a45: -(r1653*x12*x25 + r1653*x13*x35)/(x12*x24*x35)},\n",
       " {d1: r1662,\n",
       "  d2: r1662/x12,\n",
       "  d3: 0,\n",
       "  d4: r1662/(x12*x24),\n",
       "  d5: 0,\n",
       "  a12: r1663,\n",
       "  a13: r1664,\n",
       "  a14: r1665,\n",
       "  a15: r1666,\n",
       "  a23: 0,\n",
       "  a24: r1667,\n",
       "  a25: r1668,\n",
       "  a34: -(r1662*x14 + (r1667*x12^2 - r1663*x12)*x24)/(x12*x13*x24),\n",
       "  a35: r1669,\n",
       "  a45: r1670},\n",
       " {d1: 0,\n",
       "  d2: 0,\n",
       "  d3: 0,\n",
       "  d4: 0,\n",
       "  d5: 0,\n",
       "  a12: r1671,\n",
       "  a13: r1672,\n",
       "  a14: r1673,\n",
       "  a15: r1674,\n",
       "  a23: 0,\n",
       "  a24: r1675,\n",
       "  a25: r1676,\n",
       "  a34: r1677,\n",
       "  a35: r1678,\n",
       "  a45: r1679},\n",
       " {d1: r1680,\n",
       "  d2: r1680/x12,\n",
       "  d3: r1681,\n",
       "  d4: r1680/(x12*x24),\n",
       "  d5: r1681/x35,\n",
       "  a12: r1682,\n",
       "  a13: r1683,\n",
       "  a14: r1684,\n",
       "  a15: r1685,\n",
       "  a23: -r1681*x13/x12,\n",
       "  a24: r1686,\n",
       "  a25: r1687,\n",
       "  a34: -(r1680*x14 + (r1686*x12^2 - r1682*x12)*x24)/(x12*x13*x24),\n",
       "  a35: -(r1681*x12*x15*x24 - r1681*x12*x14*x25 - (r1681*x13*x14 - (r1687*x12^2 - r1683*x12)*x24)*x35)/(x12*x13*x24*x35),\n",
       "  a45: -(r1681*x12*x25 + r1681*x13*x35)/(x12*x24*x35)}]"
      ]
     },
     "metadata": {},
     "output_type": "display_data"
    },
    {
     "data": {
      "text/plain": [
       "\\left[\\left\\{d_{1} : 0, d_{2} : 0, d_{3} : r_{1653}, d_{4} : 0, d_{5} : \\frac{r_{1653}}{x_{35}}, a_{12} : r_{1654}, a_{13} : r_{1655}, a_{14} : r_{1656}, a_{15} : r_{1657}, a_{23} : -\\frac{r_{1653} x_{13}}{x_{12}}, a_{24} : r_{1658}, a_{25} : r_{1659}, a_{34} : r_{1660}, a_{35} : r_{1661}, a_{45} : -\\frac{r_{1653} x_{12} x_{25} + r_{1653} x_{13} x_{35}}{x_{12} x_{24} x_{35}}\\right\\}, \\left\\{d_{1} : r_{1662}, d_{2} : \\frac{r_{1662}}{x_{12}}, d_{3} : 0, d_{4} : \\frac{r_{1662}}{x_{12} x_{24}}, d_{5} : 0, a_{12} : r_{1663}, a_{13} : r_{1664}, a_{14} : r_{1665}, a_{15} : r_{1666}, a_{23} : 0, a_{24} : r_{1667}, a_{25} : r_{1668}, a_{34} : -\\frac{r_{1662} x_{14} + {\\left(r_{1667} x_{12}^{2} - r_{1663} x_{12}\\right)} x_{24}}{x_{12} x_{13} x_{24}}, a_{35} : r_{1669}, a_{45} : r_{1670}\\right\\}, \\left\\{d_{1} : 0, d_{2} : 0, d_{3} : 0, d_{4} : 0, d_{5} : 0, a_{12} : r_{1671}, a_{13} : r_{1672}, a_{14} : r_{1673}, a_{15} : r_{1674}, a_{23} : 0, a_{24} : r_{1675}, a_{25} : r_{1676}, a_{34} : r_{1677}, a_{35} : r_{1678}, a_{45} : r_{1679}\\right\\}, \\left\\{d_{1} : r_{1680}, d_{2} : \\frac{r_{1680}}{x_{12}}, d_{3} : r_{1681}, d_{4} : \\frac{r_{1680}}{x_{12} x_{24}}, d_{5} : \\frac{r_{1681}}{x_{35}}, a_{12} : r_{1682}, a_{13} : r_{1683}, a_{14} : r_{1684}, a_{15} : r_{1685}, a_{23} : -\\frac{r_{1681} x_{13}}{x_{12}}, a_{24} : r_{1686}, a_{25} : r_{1687}, a_{34} : -\\frac{r_{1680} x_{14} + {\\left(r_{1686} x_{12}^{2} - r_{1682} x_{12}\\right)} x_{24}}{x_{12} x_{13} x_{24}}, a_{35} : -\\frac{r_{1681} x_{12} x_{15} x_{24} - r_{1681} x_{12} x_{14} x_{25} - {\\left(r_{1681} x_{13} x_{14} - {\\left(r_{1687} x_{12}^{2} - r_{1683} x_{12}\\right)} x_{24}\\right)} x_{35}}{x_{12} x_{13} x_{24} x_{35}}, a_{45} : -\\frac{r_{1681} x_{12} x_{25} + r_{1681} x_{13} x_{35}}{x_{12} x_{24} x_{35}}\\right\\}\\right]"
      ]
     },
     "execution_count": 69,
     "metadata": {},
     "output_type": "execute_result"
    }
   ],
   "source": [
    "#x2\n",
    "reset()\n",
    "var('x12,x13,x14,x15,x23,x24,x25,x34,x35,x45')\n",
    "var('d1,d2,d3,d4,d5')\n",
    "var('a12,a13,a14,a15,a23,a24,a25,a34,a35,a45')\n",
    "\n",
    "eq1=(d2*x12)/(d1) \n",
    "eq2=(a23*x12+d3*x13)/(d1) \n",
    "eq3=(a24*d2*x12+a34*d2*x13+d2*d4*x14-a12*d4*x24)/(d1*d2) \n",
    "eq4=(a25*d2*d3*x12+a35*d2*d3*x13+a45*d2*d3*x14+d2*d3*d5*x15-a12*a45*d3*x24-a12*d3*d5*x25+a12*a23*d5*x35-a13*d2*d5*x35)/(d1*d2*d3) \n",
    "eq5=(d4*x24)/(d2) \n",
    "eq6=(a45*d3*x24+d3*d5*x25-a23*d5*x35)/(d2*d3) \n",
    "eq7=(d5*x35)/(d3) \n",
    "#(https://matrixcalc.org/en/#%7B%7Bd1a%2812%29a%2813%29a%2814%29a%2815%29%7D%7Bd2a%2823%29a%2824%29a%2825%29%7D%7Bd3a%2834%29a%2835%29%7D%7Bd4a%2845%29%7D%7Bd5%7D%7D%5E%28-1%29*%7B%7Bx%2812%29x%2813%29x%2814%29x%2815%29%7D%7Bx%2824%29x%2825%29%7D%7Bx%2835%29%7D%7B%7D%7B%7D%7D*%7B%7Bd1a%2812%29a%2813%29a%2814%29a%2815%29%7D%7Bd2a%2823%29a%2824%29a%2825%29%7D%7Bd3a%2834%29a%2835%29%7D%7Bd4a%2845%29%7D%7Bd5%7D%7D) \n",
    "\n",
    "\n",
    "sol=solve([eq1==1,eq2==0,eq3==0,eq4==0,eq5==1,eq6==0,eq7==1],d1,d2,d3,d4,d5,a12,a13,a14,a15,a23,a24,a25,a34,a35,a45, solution_dict=True)\n",
    "\n",
    "show(sol)\n",
    "latex(sol)"
   ]
  },
  {
   "cell_type": "code",
   "execution_count": null,
   "metadata": {},
   "outputs": [],
   "source": []
  }
 ],
 "metadata": {
  "kernelspec": {
   "display_name": "SageMath 9.3",
   "language": "sage",
   "name": "sagemath"
  },
  "language_info": {
   "codemirror_mode": {
    "name": "ipython",
    "version": 3
   },
   "file_extension": ".py",
   "mimetype": "text/x-python",
   "name": "python",
   "nbconvert_exporter": "python",
   "pygments_lexer": "ipython3",
   "version": "3.7.10"
  }
 },
 "nbformat": 4,
 "nbformat_minor": 4
}
