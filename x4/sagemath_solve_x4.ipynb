{
 "cells": [
  {
   "cell_type": "markdown",
   "metadata": {},
   "source": [
    "Matrix type\n",
    "\n",
    "              [0, 1, *, *, *],\n",
    "              [0, 0, 1, *, *],\n",
    "              [0, 0, 0, 0, *],\n",
    "              [0, 0, 0, 0, 0],\n",
    "              [0, 0, 0, 0, 0]\n"
   ]
  },
  {
   "cell_type": "code",
   "execution_count": 1,
   "metadata": {
    "scrolled": true
   },
   "outputs": [
    {
     "data": {
      "text/html": [
       "<html><script type=\"math/tex; mode=display\">\\newcommand{\\Bold}[1]{\\mathbf{#1}}\\left(\\begin{array}{rrrrr}\n",
       "0 & 1 & 0 & 0 & 0 \\\\\n",
       "0 & 0 & 1 & 0 & 0 \\\\\n",
       "0 & 0 & 0 & 0 & 0 \\\\\n",
       "0 & 0 & 0 & 0 & 0 \\\\\n",
       "0 & 0 & 0 & 0 & 0\n",
       "\\end{array}\\right)</script></html>"
      ],
      "text/latex": [
       "$$\\newcommand{\\Bold}[1]{\\mathbf{#1}}\\left(\\begin{array}{rrrrr}\n",
       "0 & 1 & 0 & 0 & 0 \\\\\n",
       "0 & 0 & 1 & 0 & 0 \\\\\n",
       "0 & 0 & 0 & 0 & 0 \\\\\n",
       "0 & 0 & 0 & 0 & 0 \\\\\n",
       "0 & 0 & 0 & 0 & 0\n",
       "\\end{array}\\right)$$"
      ],
      "text/plain": [
       "[0 1 0 0 0]\n",
       "[0 0 1 0 0]\n",
       "[0 0 0 0 0]\n",
       "[0 0 0 0 0]\n",
       "[0 0 0 0 0]"
      ]
     },
     "metadata": {},
     "output_type": "display_data"
    },
    {
     "data": {
      "text/html": [
       "<html><script type=\"math/tex; mode=display\">\\newcommand{\\Bold}[1]{\\mathbf{#1}}\\left[\\left\\{d_{1} : 0, d_{2} : 0, d_{3} : 0, d_{4} : r_{1}, d_{5} : r_{2}, a_{12} : r_{3}, a_{13} : r_{4}, a_{14} : r_{5}, a_{15} : r_{6}, a_{23} : r_{7}, a_{24} : r_{8}, a_{25} : r_{9}, a_{34} : 0, a_{35} : 0, a_{45} : r_{10}\\right\\}, \\left\\{d_{1} : r_{11}, d_{2} : \\frac{r_{11}}{x_{12}}, d_{3} : \\frac{r_{11}}{x_{12} x_{23}}, d_{4} : r_{12}, d_{5} : r_{13}, a_{12} : r_{14}, a_{13} : r_{15}, a_{14} : r_{16}, a_{15} : r_{17}, a_{23} : \\frac{r_{14}}{x_{12}}, a_{24} : 0, a_{25} : 0, a_{34} : 0, a_{35} : 0, a_{45} : r_{18}\\right\\}\\right]</script></html>"
      ],
      "text/latex": [
       "$$\\newcommand{\\Bold}[1]{\\mathbf{#1}}\\left[\\left\\{d_{1} : 0, d_{2} : 0, d_{3} : 0, d_{4} : r_{1}, d_{5} : r_{2}, a_{12} : r_{3}, a_{13} : r_{4}, a_{14} : r_{5}, a_{15} : r_{6}, a_{23} : r_{7}, a_{24} : r_{8}, a_{25} : r_{9}, a_{34} : 0, a_{35} : 0, a_{45} : r_{10}\\right\\}, \\left\\{d_{1} : r_{11}, d_{2} : \\frac{r_{11}}{x_{12}}, d_{3} : \\frac{r_{11}}{x_{12} x_{23}}, d_{4} : r_{12}, d_{5} : r_{13}, a_{12} : r_{14}, a_{13} : r_{15}, a_{14} : r_{16}, a_{15} : r_{17}, a_{23} : \\frac{r_{14}}{x_{12}}, a_{24} : 0, a_{25} : 0, a_{34} : 0, a_{35} : 0, a_{45} : r_{18}\\right\\}\\right]$$"
      ],
      "text/plain": [
       "[{d1: 0,\n",
       "  d2: 0,\n",
       "  d3: 0,\n",
       "  d4: r1,\n",
       "  d5: r2,\n",
       "  a12: r3,\n",
       "  a13: r4,\n",
       "  a14: r5,\n",
       "  a15: r6,\n",
       "  a23: r7,\n",
       "  a24: r8,\n",
       "  a25: r9,\n",
       "  a34: 0,\n",
       "  a35: 0,\n",
       "  a45: r10},\n",
       " {d1: r11,\n",
       "  d2: r11/x12,\n",
       "  d3: r11/(x12*x23),\n",
       "  d4: r12,\n",
       "  d5: r13,\n",
       "  a12: r14,\n",
       "  a13: r15,\n",
       "  a14: r16,\n",
       "  a15: r17,\n",
       "  a23: r14/x12,\n",
       "  a24: 0,\n",
       "  a25: 0,\n",
       "  a34: 0,\n",
       "  a35: 0,\n",
       "  a45: r18}]"
      ]
     },
     "metadata": {},
     "output_type": "display_data"
    },
    {
     "data": {
      "text/plain": [
       "\\left[\\left\\{d_{1} : 0, d_{2} : 0, d_{3} : 0, d_{4} : r_{1}, d_{5} : r_{2}, a_{12} : r_{3}, a_{13} : r_{4}, a_{14} : r_{5}, a_{15} : r_{6}, a_{23} : r_{7}, a_{24} : r_{8}, a_{25} : r_{9}, a_{34} : 0, a_{35} : 0, a_{45} : r_{10}\\right\\}, \\left\\{d_{1} : r_{11}, d_{2} : \\frac{r_{11}}{x_{12}}, d_{3} : \\frac{r_{11}}{x_{12} x_{23}}, d_{4} : r_{12}, d_{5} : r_{13}, a_{12} : r_{14}, a_{13} : r_{15}, a_{14} : r_{16}, a_{15} : r_{17}, a_{23} : \\frac{r_{14}}{x_{12}}, a_{24} : 0, a_{25} : 0, a_{34} : 0, a_{35} : 0, a_{45} : r_{18}\\right\\}\\right]"
      ]
     },
     "execution_count": 1,
     "metadata": {},
     "output_type": "execute_result"
    }
   ],
   "source": [
    "#x4\n",
    "reset()\n",
    "\n",
    "var('x12,x13,x14,x15,x23,x24,x25,x34,x35,x45')\n",
    "var('d1,d2,d3,d4,d5')\n",
    "var('a12,a13,a14,a15,a23,a24,a25,a34,a35,a45')\n",
    "\n",
    "load_attach_path('C:\\\\Users\\\\julia\\\\Documents\\\\unb\\\\doutorado\\\\pensar\\\\codigo_sage_v2\\\\maquina\\\\x4')\n",
    "load('out_#000000.sage')\n",
    "\n",
    "m=matrix(QQ, [[0, 1, 0, 0, 0],\n",
    "              [0, 0, 1, 0, 0],\n",
    "              [0, 0, 0, 0, 0],\n",
    "              [0, 0, 0, 0, 0],\n",
    "              [0, 0, 0, 0, 0]])\n",
    "        \n",
    "#entry of matrix: (i,j) line i collum j, means (i-1,j-1)\n",
    "sol=solve([ eq1==m[0,1],\teq2==m[0,2],\teq3==m[0,3],\teq4==m[0,4],\t\n",
    "                                            eq5==m[1,2],    eq6==m[1,3],\n",
    "                                                            eq7==m[1,4], eq8==m[2,4]],d1,d2,d3,d4,d5,a12,a13,a14,a15,a23,a24,a25,a34,a35,a45, solution_dict=True)\n",
    "\n",
    "show(m)\n",
    "show(sol)\n",
    "latex(sol)"
   ]
  },
  {
   "cell_type": "code",
   "execution_count": 1,
   "metadata": {},
   "outputs": [
    {
     "data": {
      "text/html": [
       "<html><script type=\"math/tex; mode=display\">\\newcommand{\\Bold}[1]{\\mathbf{#1}}\\left(\\begin{array}{rrrrr}\n",
       "0 & 1 & 0 & 0 & 0 \\\\\n",
       "0 & 0 & 1 & 0 & 0 \\\\\n",
       "0 & 0 & 0 & 0 & 0 \\\\\n",
       "0 & 0 & 0 & 0 & 0 \\\\\n",
       "0 & 0 & 0 & 0 & 0\n",
       "\\end{array}\\right)</script></html>"
      ],
      "text/latex": [
       "$$\\newcommand{\\Bold}[1]{\\mathbf{#1}}\\left(\\begin{array}{rrrrr}\n",
       "0 & 1 & 0 & 0 & 0 \\\\\n",
       "0 & 0 & 1 & 0 & 0 \\\\\n",
       "0 & 0 & 0 & 0 & 0 \\\\\n",
       "0 & 0 & 0 & 0 & 0 \\\\\n",
       "0 & 0 & 0 & 0 & 0\n",
       "\\end{array}\\right)$$"
      ],
      "text/plain": [
       "[0 1 0 0 0]\n",
       "[0 0 1 0 0]\n",
       "[0 0 0 0 0]\n",
       "[0 0 0 0 0]\n",
       "[0 0 0 0 0]"
      ]
     },
     "metadata": {},
     "output_type": "display_data"
    },
    {
     "data": {
      "text/html": [
       "<html><script type=\"math/tex; mode=display\">\\newcommand{\\Bold}[1]{\\mathbf{#1}}\\left[\\left\\{d_{1} : 0, d_{2} : 0, d_{3} : 0, d_{4} : r_{1}, d_{5} : r_{2}, a_{12} : r_{3}, a_{13} : r_{4}, a_{14} : r_{5}, a_{15} : r_{6}, a_{23} : r_{7}, a_{24} : r_{8}, a_{25} : r_{9}, a_{34} : 0, a_{35} : 0, a_{45} : r_{10}\\right\\}, \\left\\{d_{1} : r_{11}, d_{2} : \\frac{r_{11}}{x_{12}}, d_{3} : \\frac{r_{11}}{x_{12} x_{23}}, d_{4} : r_{12}, d_{5} : r_{13}, a_{12} : r_{14}, a_{13} : r_{15}, a_{14} : r_{16}, a_{15} : r_{17}, a_{23} : \\frac{r_{14}}{x_{12}}, a_{24} : 0, a_{25} : -\\frac{r_{13} x_{15}}{x_{12}}, a_{34} : 0, a_{35} : 0, a_{45} : r_{18}\\right\\}\\right]</script></html>"
      ],
      "text/latex": [
       "$$\\newcommand{\\Bold}[1]{\\mathbf{#1}}\\left[\\left\\{d_{1} : 0, d_{2} : 0, d_{3} : 0, d_{4} : r_{1}, d_{5} : r_{2}, a_{12} : r_{3}, a_{13} : r_{4}, a_{14} : r_{5}, a_{15} : r_{6}, a_{23} : r_{7}, a_{24} : r_{8}, a_{25} : r_{9}, a_{34} : 0, a_{35} : 0, a_{45} : r_{10}\\right\\}, \\left\\{d_{1} : r_{11}, d_{2} : \\frac{r_{11}}{x_{12}}, d_{3} : \\frac{r_{11}}{x_{12} x_{23}}, d_{4} : r_{12}, d_{5} : r_{13}, a_{12} : r_{14}, a_{13} : r_{15}, a_{14} : r_{16}, a_{15} : r_{17}, a_{23} : \\frac{r_{14}}{x_{12}}, a_{24} : 0, a_{25} : -\\frac{r_{13} x_{15}}{x_{12}}, a_{34} : 0, a_{35} : 0, a_{45} : r_{18}\\right\\}\\right]$$"
      ],
      "text/plain": [
       "[{d1: 0,\n",
       "  d2: 0,\n",
       "  d3: 0,\n",
       "  d4: r1,\n",
       "  d5: r2,\n",
       "  a12: r3,\n",
       "  a13: r4,\n",
       "  a14: r5,\n",
       "  a15: r6,\n",
       "  a23: r7,\n",
       "  a24: r8,\n",
       "  a25: r9,\n",
       "  a34: 0,\n",
       "  a35: 0,\n",
       "  a45: r10},\n",
       " {d1: r11,\n",
       "  d2: r11/x12,\n",
       "  d3: r11/(x12*x23),\n",
       "  d4: r12,\n",
       "  d5: r13,\n",
       "  a12: r14,\n",
       "  a13: r15,\n",
       "  a14: r16,\n",
       "  a15: r17,\n",
       "  a23: r14/x12,\n",
       "  a24: 0,\n",
       "  a25: -r13*x15/x12,\n",
       "  a34: 0,\n",
       "  a35: 0,\n",
       "  a45: r18}]"
      ]
     },
     "metadata": {},
     "output_type": "display_data"
    },
    {
     "data": {
      "text/plain": [
       "\\left[\\left\\{d_{1} : 0, d_{2} : 0, d_{3} : 0, d_{4} : r_{1}, d_{5} : r_{2}, a_{12} : r_{3}, a_{13} : r_{4}, a_{14} : r_{5}, a_{15} : r_{6}, a_{23} : r_{7}, a_{24} : r_{8}, a_{25} : r_{9}, a_{34} : 0, a_{35} : 0, a_{45} : r_{10}\\right\\}, \\left\\{d_{1} : r_{11}, d_{2} : \\frac{r_{11}}{x_{12}}, d_{3} : \\frac{r_{11}}{x_{12} x_{23}}, d_{4} : r_{12}, d_{5} : r_{13}, a_{12} : r_{14}, a_{13} : r_{15}, a_{14} : r_{16}, a_{15} : r_{17}, a_{23} : \\frac{r_{14}}{x_{12}}, a_{24} : 0, a_{25} : -\\frac{r_{13} x_{15}}{x_{12}}, a_{34} : 0, a_{35} : 0, a_{45} : r_{18}\\right\\}\\right]"
      ]
     },
     "execution_count": 1,
     "metadata": {},
     "output_type": "execute_result"
    }
   ],
   "source": [
    "#x4\n",
    "reset()\n",
    "\n",
    "var('x12,x13,x14,x15,x23,x24,x25,x34,x35,x45')\n",
    "var('d1,d2,d3,d4,d5')\n",
    "var('a12,a13,a14,a15,a23,a24,a25,a34,a35,a45')\n",
    "\n",
    "load_attach_path('C:\\\\Users\\\\julia\\\\Documents\\\\unb\\\\doutorado\\\\pensar\\\\codigo_sage_v2\\\\maquina\\\\x4')\n",
    "load('out_#000001.sage')\n",
    "\n",
    "m=matrix(QQ, [[0, 1, 0, 0, 0],\n",
    "              [0, 0, 1, 0, 0],\n",
    "              [0, 0, 0, 0, 0],\n",
    "              [0, 0, 0, 0, 0],\n",
    "              [0, 0, 0, 0, 0]])\n",
    "        \n",
    "#entry of matrix: (i,j) line i collum j, means (i-1,j-1)\n",
    "sol=solve([ eq1==m[0,1],\teq2==m[0,2],\teq3==m[0,3],\teq4==m[0,4],\t\n",
    "                                            eq5==m[1,2],    eq6==m[1,3],\n",
    "                                                            eq7==m[1,4], eq8==m[2,4]],d1,d2,d3,d4,d5,a12,a13,a14,a15,a23,a24,a25,a34,a35,a45, solution_dict=True)\n",
    "\n",
    "show(m)\n",
    "show(sol)\n",
    "latex(sol)"
   ]
  },
  {
   "cell_type": "code",
   "execution_count": 2,
   "metadata": {},
   "outputs": [
    {
     "data": {
      "text/html": [
       "<html><script type=\"math/tex; mode=display\">\\newcommand{\\Bold}[1]{\\mathbf{#1}}\\left(\\begin{array}{rrrrr}\n",
       "0 & 1 & 0 & 0 & 0 \\\\\n",
       "0 & 0 & 1 & 0 & 0 \\\\\n",
       "0 & 0 & 0 & 0 & 0 \\\\\n",
       "0 & 0 & 0 & 0 & 0 \\\\\n",
       "0 & 0 & 0 & 0 & 0\n",
       "\\end{array}\\right)</script></html>"
      ],
      "text/latex": [
       "$$\\newcommand{\\Bold}[1]{\\mathbf{#1}}\\left(\\begin{array}{rrrrr}\n",
       "0 & 1 & 0 & 0 & 0 \\\\\n",
       "0 & 0 & 1 & 0 & 0 \\\\\n",
       "0 & 0 & 0 & 0 & 0 \\\\\n",
       "0 & 0 & 0 & 0 & 0 \\\\\n",
       "0 & 0 & 0 & 0 & 0\n",
       "\\end{array}\\right)$$"
      ],
      "text/plain": [
       "[0 1 0 0 0]\n",
       "[0 0 1 0 0]\n",
       "[0 0 0 0 0]\n",
       "[0 0 0 0 0]\n",
       "[0 0 0 0 0]"
      ]
     },
     "metadata": {},
     "output_type": "display_data"
    },
    {
     "data": {
      "text/html": [
       "<html><script type=\"math/tex; mode=display\">\\newcommand{\\Bold}[1]{\\mathbf{#1}}\\left[\\left\\{d_{1} : 0, d_{2} : 0, d_{3} : 0, d_{4} : r_{19}, d_{5} : r_{20}, a_{12} : r_{21}, a_{13} : r_{22}, a_{14} : r_{23}, a_{15} : r_{24}, a_{23} : r_{25}, a_{24} : r_{26}, a_{25} : r_{27}, a_{34} : 0, a_{35} : 0, a_{45} : r_{28}\\right\\}, \\left\\{d_{1} : r_{29}, d_{2} : \\frac{r_{29}}{x_{12}}, d_{3} : \\frac{r_{29}}{x_{12} x_{23}}, d_{4} : r_{30}, d_{5} : r_{31}, a_{12} : r_{32}, a_{13} : r_{33}, a_{14} : r_{34}, a_{15} : r_{35}, a_{23} : \\frac{r_{32}}{x_{12}}, a_{24} : -\\frac{r_{30} x_{14}}{x_{12}}, a_{25} : r_{36}, a_{34} : 0, a_{35} : 0, a_{45} : -\\frac{r_{36} x_{12}}{x_{14}}\\right\\}\\right]</script></html>"
      ],
      "text/latex": [
       "$$\\newcommand{\\Bold}[1]{\\mathbf{#1}}\\left[\\left\\{d_{1} : 0, d_{2} : 0, d_{3} : 0, d_{4} : r_{19}, d_{5} : r_{20}, a_{12} : r_{21}, a_{13} : r_{22}, a_{14} : r_{23}, a_{15} : r_{24}, a_{23} : r_{25}, a_{24} : r_{26}, a_{25} : r_{27}, a_{34} : 0, a_{35} : 0, a_{45} : r_{28}\\right\\}, \\left\\{d_{1} : r_{29}, d_{2} : \\frac{r_{29}}{x_{12}}, d_{3} : \\frac{r_{29}}{x_{12} x_{23}}, d_{4} : r_{30}, d_{5} : r_{31}, a_{12} : r_{32}, a_{13} : r_{33}, a_{14} : r_{34}, a_{15} : r_{35}, a_{23} : \\frac{r_{32}}{x_{12}}, a_{24} : -\\frac{r_{30} x_{14}}{x_{12}}, a_{25} : r_{36}, a_{34} : 0, a_{35} : 0, a_{45} : -\\frac{r_{36} x_{12}}{x_{14}}\\right\\}\\right]$$"
      ],
      "text/plain": [
       "[{d1: 0,\n",
       "  d2: 0,\n",
       "  d3: 0,\n",
       "  d4: r19,\n",
       "  d5: r20,\n",
       "  a12: r21,\n",
       "  a13: r22,\n",
       "  a14: r23,\n",
       "  a15: r24,\n",
       "  a23: r25,\n",
       "  a24: r26,\n",
       "  a25: r27,\n",
       "  a34: 0,\n",
       "  a35: 0,\n",
       "  a45: r28},\n",
       " {d1: r29,\n",
       "  d2: r29/x12,\n",
       "  d3: r29/(x12*x23),\n",
       "  d4: r30,\n",
       "  d5: r31,\n",
       "  a12: r32,\n",
       "  a13: r33,\n",
       "  a14: r34,\n",
       "  a15: r35,\n",
       "  a23: r32/x12,\n",
       "  a24: -r30*x14/x12,\n",
       "  a25: r36,\n",
       "  a34: 0,\n",
       "  a35: 0,\n",
       "  a45: -r36*x12/x14}]"
      ]
     },
     "metadata": {},
     "output_type": "display_data"
    },
    {
     "data": {
      "text/plain": [
       "\\left[\\left\\{d_{1} : 0, d_{2} : 0, d_{3} : 0, d_{4} : r_{19}, d_{5} : r_{20}, a_{12} : r_{21}, a_{13} : r_{22}, a_{14} : r_{23}, a_{15} : r_{24}, a_{23} : r_{25}, a_{24} : r_{26}, a_{25} : r_{27}, a_{34} : 0, a_{35} : 0, a_{45} : r_{28}\\right\\}, \\left\\{d_{1} : r_{29}, d_{2} : \\frac{r_{29}}{x_{12}}, d_{3} : \\frac{r_{29}}{x_{12} x_{23}}, d_{4} : r_{30}, d_{5} : r_{31}, a_{12} : r_{32}, a_{13} : r_{33}, a_{14} : r_{34}, a_{15} : r_{35}, a_{23} : \\frac{r_{32}}{x_{12}}, a_{24} : -\\frac{r_{30} x_{14}}{x_{12}}, a_{25} : r_{36}, a_{34} : 0, a_{35} : 0, a_{45} : -\\frac{r_{36} x_{12}}{x_{14}}\\right\\}\\right]"
      ]
     },
     "execution_count": 2,
     "metadata": {},
     "output_type": "execute_result"
    }
   ],
   "source": [
    "#x4\n",
    "reset()\n",
    "\n",
    "var('x12,x13,x14,x15,x23,x24,x25,x34,x35,x45')\n",
    "var('d1,d2,d3,d4,d5')\n",
    "var('a12,a13,a14,a15,a23,a24,a25,a34,a35,a45')\n",
    "\n",
    "load_attach_path('C:\\\\Users\\\\julia\\\\Documents\\\\unb\\\\doutorado\\\\pensar\\\\codigo_sage_v2\\\\maquina\\\\x4')\n",
    "load('out_#000010.sage')\n",
    "\n",
    "m=matrix(QQ, [[0, 1, 0, 0, 0],\n",
    "              [0, 0, 1, 0, 0],\n",
    "              [0, 0, 0, 0, 0],\n",
    "              [0, 0, 0, 0, 0],\n",
    "              [0, 0, 0, 0, 0]])\n",
    "        \n",
    "#entry of matrix: (i,j) line i collum j, means (i-1,j-1)\n",
    "sol=solve([ eq1==m[0,1],\teq2==m[0,2],\teq3==m[0,3],\teq4==m[0,4],\t\n",
    "                                            eq5==m[1,2],    eq6==m[1,3],\n",
    "                                                            eq7==m[1,4], eq8==m[2,4]],d1,d2,d3,d4,d5,a12,a13,a14,a15,a23,a24,a25,a34,a35,a45, solution_dict=True)\n",
    "\n",
    "show(m)\n",
    "show(sol)\n",
    "latex(sol)"
   ]
  },
  {
   "cell_type": "code",
   "execution_count": 3,
   "metadata": {},
   "outputs": [
    {
     "data": {
      "text/html": [
       "<html><script type=\"math/tex; mode=display\">\\newcommand{\\Bold}[1]{\\mathbf{#1}}\\left(\\begin{array}{rrrrr}\n",
       "0 & 1 & 0 & 0 & 0 \\\\\n",
       "0 & 0 & 1 & 0 & 0 \\\\\n",
       "0 & 0 & 0 & 0 & 0 \\\\\n",
       "0 & 0 & 0 & 0 & 0 \\\\\n",
       "0 & 0 & 0 & 0 & 0\n",
       "\\end{array}\\right)</script></html>"
      ],
      "text/latex": [
       "$$\\newcommand{\\Bold}[1]{\\mathbf{#1}}\\left(\\begin{array}{rrrrr}\n",
       "0 & 1 & 0 & 0 & 0 \\\\\n",
       "0 & 0 & 1 & 0 & 0 \\\\\n",
       "0 & 0 & 0 & 0 & 0 \\\\\n",
       "0 & 0 & 0 & 0 & 0 \\\\\n",
       "0 & 0 & 0 & 0 & 0\n",
       "\\end{array}\\right)$$"
      ],
      "text/plain": [
       "[0 1 0 0 0]\n",
       "[0 0 1 0 0]\n",
       "[0 0 0 0 0]\n",
       "[0 0 0 0 0]\n",
       "[0 0 0 0 0]"
      ]
     },
     "metadata": {},
     "output_type": "display_data"
    },
    {
     "data": {
      "text/html": [
       "<html><script type=\"math/tex; mode=display\">\\newcommand{\\Bold}[1]{\\mathbf{#1}}\\left[\\left\\{d_{1} : 0, d_{2} : 0, d_{3} : 0, d_{4} : r_{37}, d_{5} : r_{38}, a_{12} : r_{39}, a_{13} : r_{40}, a_{14} : r_{41}, a_{15} : r_{42}, a_{23} : r_{43}, a_{24} : r_{44}, a_{25} : r_{45}, a_{34} : 0, a_{35} : 0, a_{45} : r_{46}\\right\\}, \\left\\{d_{1} : r_{47}, d_{2} : \\frac{r_{47}}{x_{12}}, d_{3} : \\frac{r_{47}}{x_{12} x_{23}}, d_{4} : r_{48}, d_{5} : r_{49}, a_{12} : r_{50}, a_{13} : r_{51}, a_{14} : r_{52}, a_{15} : r_{53}, a_{23} : \\frac{r_{50}}{x_{12}}, a_{24} : -\\frac{r_{48} x_{14}}{x_{12}}, a_{25} : r_{54}, a_{34} : 0, a_{35} : 0, a_{45} : -\\frac{r_{54} x_{12} + r_{49} x_{15}}{x_{14}}\\right\\}\\right]</script></html>"
      ],
      "text/latex": [
       "$$\\newcommand{\\Bold}[1]{\\mathbf{#1}}\\left[\\left\\{d_{1} : 0, d_{2} : 0, d_{3} : 0, d_{4} : r_{37}, d_{5} : r_{38}, a_{12} : r_{39}, a_{13} : r_{40}, a_{14} : r_{41}, a_{15} : r_{42}, a_{23} : r_{43}, a_{24} : r_{44}, a_{25} : r_{45}, a_{34} : 0, a_{35} : 0, a_{45} : r_{46}\\right\\}, \\left\\{d_{1} : r_{47}, d_{2} : \\frac{r_{47}}{x_{12}}, d_{3} : \\frac{r_{47}}{x_{12} x_{23}}, d_{4} : r_{48}, d_{5} : r_{49}, a_{12} : r_{50}, a_{13} : r_{51}, a_{14} : r_{52}, a_{15} : r_{53}, a_{23} : \\frac{r_{50}}{x_{12}}, a_{24} : -\\frac{r_{48} x_{14}}{x_{12}}, a_{25} : r_{54}, a_{34} : 0, a_{35} : 0, a_{45} : -\\frac{r_{54} x_{12} + r_{49} x_{15}}{x_{14}}\\right\\}\\right]$$"
      ],
      "text/plain": [
       "[{d1: 0,\n",
       "  d2: 0,\n",
       "  d3: 0,\n",
       "  d4: r37,\n",
       "  d5: r38,\n",
       "  a12: r39,\n",
       "  a13: r40,\n",
       "  a14: r41,\n",
       "  a15: r42,\n",
       "  a23: r43,\n",
       "  a24: r44,\n",
       "  a25: r45,\n",
       "  a34: 0,\n",
       "  a35: 0,\n",
       "  a45: r46},\n",
       " {d1: r47,\n",
       "  d2: r47/x12,\n",
       "  d3: r47/(x12*x23),\n",
       "  d4: r48,\n",
       "  d5: r49,\n",
       "  a12: r50,\n",
       "  a13: r51,\n",
       "  a14: r52,\n",
       "  a15: r53,\n",
       "  a23: r50/x12,\n",
       "  a24: -r48*x14/x12,\n",
       "  a25: r54,\n",
       "  a34: 0,\n",
       "  a35: 0,\n",
       "  a45: -(r54*x12 + r49*x15)/x14}]"
      ]
     },
     "metadata": {},
     "output_type": "display_data"
    },
    {
     "data": {
      "text/plain": [
       "\\left[\\left\\{d_{1} : 0, d_{2} : 0, d_{3} : 0, d_{4} : r_{37}, d_{5} : r_{38}, a_{12} : r_{39}, a_{13} : r_{40}, a_{14} : r_{41}, a_{15} : r_{42}, a_{23} : r_{43}, a_{24} : r_{44}, a_{25} : r_{45}, a_{34} : 0, a_{35} : 0, a_{45} : r_{46}\\right\\}, \\left\\{d_{1} : r_{47}, d_{2} : \\frac{r_{47}}{x_{12}}, d_{3} : \\frac{r_{47}}{x_{12} x_{23}}, d_{4} : r_{48}, d_{5} : r_{49}, a_{12} : r_{50}, a_{13} : r_{51}, a_{14} : r_{52}, a_{15} : r_{53}, a_{23} : \\frac{r_{50}}{x_{12}}, a_{24} : -\\frac{r_{48} x_{14}}{x_{12}}, a_{25} : r_{54}, a_{34} : 0, a_{35} : 0, a_{45} : -\\frac{r_{54} x_{12} + r_{49} x_{15}}{x_{14}}\\right\\}\\right]"
      ]
     },
     "execution_count": 3,
     "metadata": {},
     "output_type": "execute_result"
    }
   ],
   "source": [
    "#x4\n",
    "reset()\n",
    "\n",
    "var('x12,x13,x14,x15,x23,x24,x25,x34,x35,x45')\n",
    "var('d1,d2,d3,d4,d5')\n",
    "var('a12,a13,a14,a15,a23,a24,a25,a34,a35,a45')\n",
    "\n",
    "load_attach_path('C:\\\\Users\\\\julia\\\\Documents\\\\unb\\\\doutorado\\\\pensar\\\\codigo_sage_v2\\\\maquina\\\\x4')\n",
    "load('out_#000011.sage')\n",
    "\n",
    "m=matrix(QQ, [[0, 1, 0, 0, 0],\n",
    "              [0, 0, 1, 0, 0],\n",
    "              [0, 0, 0, 0, 0],\n",
    "              [0, 0, 0, 0, 0],\n",
    "              [0, 0, 0, 0, 0]])\n",
    "        \n",
    "#entry of matrix: (i,j) line i collum j, means (i-1,j-1)\n",
    "sol=solve([ eq1==m[0,1],\teq2==m[0,2],\teq3==m[0,3],\teq4==m[0,4],\t\n",
    "                                            eq5==m[1,2],    eq6==m[1,3],\n",
    "                                                            eq7==m[1,4], eq8==m[2,4]],d1,d2,d3,d4,d5,a12,a13,a14,a15,a23,a24,a25,a34,a35,a45, solution_dict=True)\n",
    "\n",
    "show(m)\n",
    "show(sol)\n",
    "latex(sol)"
   ]
  },
  {
   "cell_type": "code",
   "execution_count": 4,
   "metadata": {},
   "outputs": [
    {
     "data": {
      "text/html": [
       "<html><script type=\"math/tex; mode=display\">\\newcommand{\\Bold}[1]{\\mathbf{#1}}\\left(\\begin{array}{rrrrr}\n",
       "0 & 1 & 0 & 0 & 0 \\\\\n",
       "0 & 0 & 1 & 0 & 0 \\\\\n",
       "0 & 0 & 0 & 0 & 0 \\\\\n",
       "0 & 0 & 0 & 0 & 0 \\\\\n",
       "0 & 0 & 0 & 0 & 0\n",
       "\\end{array}\\right)</script></html>"
      ],
      "text/latex": [
       "$$\\newcommand{\\Bold}[1]{\\mathbf{#1}}\\left(\\begin{array}{rrrrr}\n",
       "0 & 1 & 0 & 0 & 0 \\\\\n",
       "0 & 0 & 1 & 0 & 0 \\\\\n",
       "0 & 0 & 0 & 0 & 0 \\\\\n",
       "0 & 0 & 0 & 0 & 0 \\\\\n",
       "0 & 0 & 0 & 0 & 0\n",
       "\\end{array}\\right)$$"
      ],
      "text/plain": [
       "[0 1 0 0 0]\n",
       "[0 0 1 0 0]\n",
       "[0 0 0 0 0]\n",
       "[0 0 0 0 0]\n",
       "[0 0 0 0 0]"
      ]
     },
     "metadata": {},
     "output_type": "display_data"
    },
    {
     "data": {
      "text/html": [
       "<html><script type=\"math/tex; mode=display\">\\newcommand{\\Bold}[1]{\\mathbf{#1}}\\left[\\left\\{d_{1} : 0, d_{2} : 0, d_{3} : 0, d_{4} : r_{55}, d_{5} : r_{56}, a_{12} : r_{57}, a_{13} : r_{58}, a_{14} : r_{59}, a_{15} : r_{60}, a_{23} : r_{61}, a_{24} : r_{62}, a_{25} : r_{63}, a_{34} : 0, a_{35} : 0, a_{45} : r_{64}\\right\\}, \\left\\{d_{1} : r_{65}, d_{2} : \\frac{r_{65}}{x_{12}}, d_{3} : \\frac{r_{65}}{x_{12} x_{23}}, d_{4} : r_{66}, d_{5} : r_{67}, a_{12} : r_{68}, a_{13} : r_{69}, a_{14} : r_{70}, a_{15} : r_{71}, a_{23} : \\frac{r_{68} x_{12} x_{23} - r_{65} x_{13}}{x_{12}^{2} x_{23}}, a_{24} : 0, a_{25} : 0, a_{34} : 0, a_{35} : 0, a_{45} : r_{72}\\right\\}\\right]</script></html>"
      ],
      "text/latex": [
       "$$\\newcommand{\\Bold}[1]{\\mathbf{#1}}\\left[\\left\\{d_{1} : 0, d_{2} : 0, d_{3} : 0, d_{4} : r_{55}, d_{5} : r_{56}, a_{12} : r_{57}, a_{13} : r_{58}, a_{14} : r_{59}, a_{15} : r_{60}, a_{23} : r_{61}, a_{24} : r_{62}, a_{25} : r_{63}, a_{34} : 0, a_{35} : 0, a_{45} : r_{64}\\right\\}, \\left\\{d_{1} : r_{65}, d_{2} : \\frac{r_{65}}{x_{12}}, d_{3} : \\frac{r_{65}}{x_{12} x_{23}}, d_{4} : r_{66}, d_{5} : r_{67}, a_{12} : r_{68}, a_{13} : r_{69}, a_{14} : r_{70}, a_{15} : r_{71}, a_{23} : \\frac{r_{68} x_{12} x_{23} - r_{65} x_{13}}{x_{12}^{2} x_{23}}, a_{24} : 0, a_{25} : 0, a_{34} : 0, a_{35} : 0, a_{45} : r_{72}\\right\\}\\right]$$"
      ],
      "text/plain": [
       "[{d1: 0,\n",
       "  d2: 0,\n",
       "  d3: 0,\n",
       "  d4: r55,\n",
       "  d5: r56,\n",
       "  a12: r57,\n",
       "  a13: r58,\n",
       "  a14: r59,\n",
       "  a15: r60,\n",
       "  a23: r61,\n",
       "  a24: r62,\n",
       "  a25: r63,\n",
       "  a34: 0,\n",
       "  a35: 0,\n",
       "  a45: r64},\n",
       " {d1: r65,\n",
       "  d2: r65/x12,\n",
       "  d3: r65/(x12*x23),\n",
       "  d4: r66,\n",
       "  d5: r67,\n",
       "  a12: r68,\n",
       "  a13: r69,\n",
       "  a14: r70,\n",
       "  a15: r71,\n",
       "  a23: (r68*x12*x23 - r65*x13)/(x12^2*x23),\n",
       "  a24: 0,\n",
       "  a25: 0,\n",
       "  a34: 0,\n",
       "  a35: 0,\n",
       "  a45: r72}]"
      ]
     },
     "metadata": {},
     "output_type": "display_data"
    },
    {
     "data": {
      "text/plain": [
       "\\left[\\left\\{d_{1} : 0, d_{2} : 0, d_{3} : 0, d_{4} : r_{55}, d_{5} : r_{56}, a_{12} : r_{57}, a_{13} : r_{58}, a_{14} : r_{59}, a_{15} : r_{60}, a_{23} : r_{61}, a_{24} : r_{62}, a_{25} : r_{63}, a_{34} : 0, a_{35} : 0, a_{45} : r_{64}\\right\\}, \\left\\{d_{1} : r_{65}, d_{2} : \\frac{r_{65}}{x_{12}}, d_{3} : \\frac{r_{65}}{x_{12} x_{23}}, d_{4} : r_{66}, d_{5} : r_{67}, a_{12} : r_{68}, a_{13} : r_{69}, a_{14} : r_{70}, a_{15} : r_{71}, a_{23} : \\frac{r_{68} x_{12} x_{23} - r_{65} x_{13}}{x_{12}^{2} x_{23}}, a_{24} : 0, a_{25} : 0, a_{34} : 0, a_{35} : 0, a_{45} : r_{72}\\right\\}\\right]"
      ]
     },
     "execution_count": 4,
     "metadata": {},
     "output_type": "execute_result"
    }
   ],
   "source": [
    "#x4\n",
    "reset()\n",
    "\n",
    "var('x12,x13,x14,x15,x23,x24,x25,x34,x35,x45')\n",
    "var('d1,d2,d3,d4,d5')\n",
    "var('a12,a13,a14,a15,a23,a24,a25,a34,a35,a45')\n",
    "\n",
    "load_attach_path('C:\\\\Users\\\\julia\\\\Documents\\\\unb\\\\doutorado\\\\pensar\\\\codigo_sage_v2\\\\maquina\\\\x4')\n",
    "load('out_#000100.sage')\n",
    "\n",
    "m=matrix(QQ, [[0, 1, 0, 0, 0],\n",
    "              [0, 0, 1, 0, 0],\n",
    "              [0, 0, 0, 0, 0],\n",
    "              [0, 0, 0, 0, 0],\n",
    "              [0, 0, 0, 0, 0]])\n",
    "        \n",
    "#entry of matrix: (i,j) line i collum j, means (i-1,j-1)\n",
    "sol=solve([ eq1==m[0,1],\teq2==m[0,2],\teq3==m[0,3],\teq4==m[0,4],\t\n",
    "                                            eq5==m[1,2],    eq6==m[1,3],\n",
    "                                                            eq7==m[1,4], eq8==m[2,4]],d1,d2,d3,d4,d5,a12,a13,a14,a15,a23,a24,a25,a34,a35,a45, solution_dict=True)\n",
    "\n",
    "show(m)\n",
    "show(sol)\n",
    "latex(sol)"
   ]
  },
  {
   "cell_type": "code",
   "execution_count": 5,
   "metadata": {},
   "outputs": [
    {
     "data": {
      "text/html": [
       "<html><script type=\"math/tex; mode=display\">\\newcommand{\\Bold}[1]{\\mathbf{#1}}\\left(\\begin{array}{rrrrr}\n",
       "0 & 1 & 0 & 0 & 0 \\\\\n",
       "0 & 0 & 1 & 0 & 0 \\\\\n",
       "0 & 0 & 0 & 0 & 0 \\\\\n",
       "0 & 0 & 0 & 0 & 0 \\\\\n",
       "0 & 0 & 0 & 0 & 0\n",
       "\\end{array}\\right)</script></html>"
      ],
      "text/latex": [
       "$$\\newcommand{\\Bold}[1]{\\mathbf{#1}}\\left(\\begin{array}{rrrrr}\n",
       "0 & 1 & 0 & 0 & 0 \\\\\n",
       "0 & 0 & 1 & 0 & 0 \\\\\n",
       "0 & 0 & 0 & 0 & 0 \\\\\n",
       "0 & 0 & 0 & 0 & 0 \\\\\n",
       "0 & 0 & 0 & 0 & 0\n",
       "\\end{array}\\right)$$"
      ],
      "text/plain": [
       "[0 1 0 0 0]\n",
       "[0 0 1 0 0]\n",
       "[0 0 0 0 0]\n",
       "[0 0 0 0 0]\n",
       "[0 0 0 0 0]"
      ]
     },
     "metadata": {},
     "output_type": "display_data"
    },
    {
     "data": {
      "text/html": [
       "<html><script type=\"math/tex; mode=display\">\\newcommand{\\Bold}[1]{\\mathbf{#1}}\\left[\\left\\{d_{1} : 0, d_{2} : 0, d_{3} : 0, d_{4} : r_{73}, d_{5} : r_{74}, a_{12} : r_{75}, a_{13} : r_{76}, a_{14} : r_{77}, a_{15} : r_{78}, a_{23} : r_{79}, a_{24} : r_{80}, a_{25} : r_{81}, a_{34} : 0, a_{35} : 0, a_{45} : r_{82}\\right\\}, \\left\\{d_{1} : r_{83}, d_{2} : \\frac{r_{83}}{x_{12}}, d_{3} : \\frac{r_{83}}{x_{12} x_{23}}, d_{4} : r_{84}, d_{5} : r_{85}, a_{12} : r_{86}, a_{13} : r_{87}, a_{14} : r_{88}, a_{15} : r_{89}, a_{23} : \\frac{r_{86} x_{12} x_{23} - r_{83} x_{13}}{x_{12}^{2} x_{23}}, a_{24} : 0, a_{25} : -\\frac{r_{85} x_{15}}{x_{12}}, a_{34} : 0, a_{35} : 0, a_{45} : r_{90}\\right\\}\\right]</script></html>"
      ],
      "text/latex": [
       "$$\\newcommand{\\Bold}[1]{\\mathbf{#1}}\\left[\\left\\{d_{1} : 0, d_{2} : 0, d_{3} : 0, d_{4} : r_{73}, d_{5} : r_{74}, a_{12} : r_{75}, a_{13} : r_{76}, a_{14} : r_{77}, a_{15} : r_{78}, a_{23} : r_{79}, a_{24} : r_{80}, a_{25} : r_{81}, a_{34} : 0, a_{35} : 0, a_{45} : r_{82}\\right\\}, \\left\\{d_{1} : r_{83}, d_{2} : \\frac{r_{83}}{x_{12}}, d_{3} : \\frac{r_{83}}{x_{12} x_{23}}, d_{4} : r_{84}, d_{5} : r_{85}, a_{12} : r_{86}, a_{13} : r_{87}, a_{14} : r_{88}, a_{15} : r_{89}, a_{23} : \\frac{r_{86} x_{12} x_{23} - r_{83} x_{13}}{x_{12}^{2} x_{23}}, a_{24} : 0, a_{25} : -\\frac{r_{85} x_{15}}{x_{12}}, a_{34} : 0, a_{35} : 0, a_{45} : r_{90}\\right\\}\\right]$$"
      ],
      "text/plain": [
       "[{d1: 0,\n",
       "  d2: 0,\n",
       "  d3: 0,\n",
       "  d4: r73,\n",
       "  d5: r74,\n",
       "  a12: r75,\n",
       "  a13: r76,\n",
       "  a14: r77,\n",
       "  a15: r78,\n",
       "  a23: r79,\n",
       "  a24: r80,\n",
       "  a25: r81,\n",
       "  a34: 0,\n",
       "  a35: 0,\n",
       "  a45: r82},\n",
       " {d1: r83,\n",
       "  d2: r83/x12,\n",
       "  d3: r83/(x12*x23),\n",
       "  d4: r84,\n",
       "  d5: r85,\n",
       "  a12: r86,\n",
       "  a13: r87,\n",
       "  a14: r88,\n",
       "  a15: r89,\n",
       "  a23: (r86*x12*x23 - r83*x13)/(x12^2*x23),\n",
       "  a24: 0,\n",
       "  a25: -r85*x15/x12,\n",
       "  a34: 0,\n",
       "  a35: 0,\n",
       "  a45: r90}]"
      ]
     },
     "metadata": {},
     "output_type": "display_data"
    },
    {
     "data": {
      "text/plain": [
       "\\left[\\left\\{d_{1} : 0, d_{2} : 0, d_{3} : 0, d_{4} : r_{73}, d_{5} : r_{74}, a_{12} : r_{75}, a_{13} : r_{76}, a_{14} : r_{77}, a_{15} : r_{78}, a_{23} : r_{79}, a_{24} : r_{80}, a_{25} : r_{81}, a_{34} : 0, a_{35} : 0, a_{45} : r_{82}\\right\\}, \\left\\{d_{1} : r_{83}, d_{2} : \\frac{r_{83}}{x_{12}}, d_{3} : \\frac{r_{83}}{x_{12} x_{23}}, d_{4} : r_{84}, d_{5} : r_{85}, a_{12} : r_{86}, a_{13} : r_{87}, a_{14} : r_{88}, a_{15} : r_{89}, a_{23} : \\frac{r_{86} x_{12} x_{23} - r_{83} x_{13}}{x_{12}^{2} x_{23}}, a_{24} : 0, a_{25} : -\\frac{r_{85} x_{15}}{x_{12}}, a_{34} : 0, a_{35} : 0, a_{45} : r_{90}\\right\\}\\right]"
      ]
     },
     "execution_count": 5,
     "metadata": {},
     "output_type": "execute_result"
    }
   ],
   "source": [
    "#x4\n",
    "reset()\n",
    "\n",
    "var('x12,x13,x14,x15,x23,x24,x25,x34,x35,x45')\n",
    "var('d1,d2,d3,d4,d5')\n",
    "var('a12,a13,a14,a15,a23,a24,a25,a34,a35,a45')\n",
    "\n",
    "load_attach_path('C:\\\\Users\\\\julia\\\\Documents\\\\unb\\\\doutorado\\\\pensar\\\\codigo_sage_v2\\\\maquina\\\\x4')\n",
    "load('out_#000101.sage')\n",
    "\n",
    "m=matrix(QQ, [[0, 1, 0, 0, 0],\n",
    "              [0, 0, 1, 0, 0],\n",
    "              [0, 0, 0, 0, 0],\n",
    "              [0, 0, 0, 0, 0],\n",
    "              [0, 0, 0, 0, 0]])\n",
    "        \n",
    "#entry of matrix: (i,j) line i collum j, means (i-1,j-1)\n",
    "sol=solve([ eq1==m[0,1],\teq2==m[0,2],\teq3==m[0,3],\teq4==m[0,4],\t\n",
    "                                            eq5==m[1,2],    eq6==m[1,3],\n",
    "                                                            eq7==m[1,4], eq8==m[2,4]],d1,d2,d3,d4,d5,a12,a13,a14,a15,a23,a24,a25,a34,a35,a45, solution_dict=True)\n",
    "\n",
    "show(m)\n",
    "show(sol)\n",
    "latex(sol)"
   ]
  },
  {
   "cell_type": "code",
   "execution_count": 1,
   "metadata": {},
   "outputs": [
    {
     "data": {
      "text/html": [
       "<html><script type=\"math/tex; mode=display\">\\newcommand{\\Bold}[1]{\\mathbf{#1}}\\left(\\begin{array}{rrrrr}\n",
       "0 & 1 & 0 & 0 & 0 \\\\\n",
       "0 & 0 & 1 & 0 & 0 \\\\\n",
       "0 & 0 & 0 & 0 & 0 \\\\\n",
       "0 & 0 & 0 & 0 & 0 \\\\\n",
       "0 & 0 & 0 & 0 & 0\n",
       "\\end{array}\\right)</script></html>"
      ],
      "text/latex": [
       "$$\\newcommand{\\Bold}[1]{\\mathbf{#1}}\\left(\\begin{array}{rrrrr}\n",
       "0 & 1 & 0 & 0 & 0 \\\\\n",
       "0 & 0 & 1 & 0 & 0 \\\\\n",
       "0 & 0 & 0 & 0 & 0 \\\\\n",
       "0 & 0 & 0 & 0 & 0 \\\\\n",
       "0 & 0 & 0 & 0 & 0\n",
       "\\end{array}\\right)$$"
      ],
      "text/plain": [
       "[0 1 0 0 0]\n",
       "[0 0 1 0 0]\n",
       "[0 0 0 0 0]\n",
       "[0 0 0 0 0]\n",
       "[0 0 0 0 0]"
      ]
     },
     "metadata": {},
     "output_type": "display_data"
    },
    {
     "data": {
      "text/html": [
       "<html><script type=\"math/tex; mode=display\">\\newcommand{\\Bold}[1]{\\mathbf{#1}}\\left[\\left\\{d_{1} : 0, d_{2} : 0, d_{3} : 0, d_{4} : r_{1}, d_{5} : r_{2}, a_{12} : r_{3}, a_{13} : r_{4}, a_{14} : r_{5}, a_{15} : r_{6}, a_{23} : r_{7}, a_{24} : r_{8}, a_{25} : r_{9}, a_{34} : 0, a_{35} : 0, a_{45} : r_{10}\\right\\}, \\left\\{d_{1} : r_{11}, d_{2} : \\frac{r_{11}}{x_{12}}, d_{3} : \\frac{r_{11}}{x_{12} x_{23}}, d_{4} : r_{12}, d_{5} : r_{13}, a_{12} : r_{14}, a_{13} : r_{15}, a_{14} : r_{16}, a_{15} : r_{17}, a_{23} : \\frac{r_{14} x_{12} x_{23} - r_{11} x_{13}}{x_{12}^{2} x_{23}}, a_{24} : -\\frac{r_{12} x_{14}}{x_{12}}, a_{25} : r_{18}, a_{34} : 0, a_{35} : 0, a_{45} : -\\frac{r_{18} x_{12}}{x_{14}}\\right\\}\\right]</script></html>"
      ],
      "text/latex": [
       "$$\\newcommand{\\Bold}[1]{\\mathbf{#1}}\\left[\\left\\{d_{1} : 0, d_{2} : 0, d_{3} : 0, d_{4} : r_{1}, d_{5} : r_{2}, a_{12} : r_{3}, a_{13} : r_{4}, a_{14} : r_{5}, a_{15} : r_{6}, a_{23} : r_{7}, a_{24} : r_{8}, a_{25} : r_{9}, a_{34} : 0, a_{35} : 0, a_{45} : r_{10}\\right\\}, \\left\\{d_{1} : r_{11}, d_{2} : \\frac{r_{11}}{x_{12}}, d_{3} : \\frac{r_{11}}{x_{12} x_{23}}, d_{4} : r_{12}, d_{5} : r_{13}, a_{12} : r_{14}, a_{13} : r_{15}, a_{14} : r_{16}, a_{15} : r_{17}, a_{23} : \\frac{r_{14} x_{12} x_{23} - r_{11} x_{13}}{x_{12}^{2} x_{23}}, a_{24} : -\\frac{r_{12} x_{14}}{x_{12}}, a_{25} : r_{18}, a_{34} : 0, a_{35} : 0, a_{45} : -\\frac{r_{18} x_{12}}{x_{14}}\\right\\}\\right]$$"
      ],
      "text/plain": [
       "[{d1: 0,\n",
       "  d2: 0,\n",
       "  d3: 0,\n",
       "  d4: r1,\n",
       "  d5: r2,\n",
       "  a12: r3,\n",
       "  a13: r4,\n",
       "  a14: r5,\n",
       "  a15: r6,\n",
       "  a23: r7,\n",
       "  a24: r8,\n",
       "  a25: r9,\n",
       "  a34: 0,\n",
       "  a35: 0,\n",
       "  a45: r10},\n",
       " {d1: r11,\n",
       "  d2: r11/x12,\n",
       "  d3: r11/(x12*x23),\n",
       "  d4: r12,\n",
       "  d5: r13,\n",
       "  a12: r14,\n",
       "  a13: r15,\n",
       "  a14: r16,\n",
       "  a15: r17,\n",
       "  a23: (r14*x12*x23 - r11*x13)/(x12^2*x23),\n",
       "  a24: -r12*x14/x12,\n",
       "  a25: r18,\n",
       "  a34: 0,\n",
       "  a35: 0,\n",
       "  a45: -r18*x12/x14}]"
      ]
     },
     "metadata": {},
     "output_type": "display_data"
    },
    {
     "data": {
      "text/plain": [
       "\\left[\\left\\{d_{1} : 0, d_{2} : 0, d_{3} : 0, d_{4} : r_{1}, d_{5} : r_{2}, a_{12} : r_{3}, a_{13} : r_{4}, a_{14} : r_{5}, a_{15} : r_{6}, a_{23} : r_{7}, a_{24} : r_{8}, a_{25} : r_{9}, a_{34} : 0, a_{35} : 0, a_{45} : r_{10}\\right\\}, \\left\\{d_{1} : r_{11}, d_{2} : \\frac{r_{11}}{x_{12}}, d_{3} : \\frac{r_{11}}{x_{12} x_{23}}, d_{4} : r_{12}, d_{5} : r_{13}, a_{12} : r_{14}, a_{13} : r_{15}, a_{14} : r_{16}, a_{15} : r_{17}, a_{23} : \\frac{r_{14} x_{12} x_{23} - r_{11} x_{13}}{x_{12}^{2} x_{23}}, a_{24} : -\\frac{r_{12} x_{14}}{x_{12}}, a_{25} : r_{18}, a_{34} : 0, a_{35} : 0, a_{45} : -\\frac{r_{18} x_{12}}{x_{14}}\\right\\}\\right]"
      ]
     },
     "execution_count": 1,
     "metadata": {},
     "output_type": "execute_result"
    }
   ],
   "source": [
    "#x4\n",
    "reset()\n",
    "\n",
    "var('x12,x13,x14,x15,x23,x24,x25,x34,x35,x45')\n",
    "var('d1,d2,d3,d4,d5')\n",
    "var('a12,a13,a14,a15,a23,a24,a25,a34,a35,a45')\n",
    "\n",
    "load_attach_path('C:\\\\Users\\\\julia\\\\Documents\\\\unb\\\\doutorado\\\\pensar\\\\codigo_sage_v2\\\\maquina\\\\x4')\n",
    "load('out_#000110.sage')\n",
    "\n",
    "m=matrix(QQ, [[0, 1, 0, 0, 0],\n",
    "              [0, 0, 1, 0, 0],\n",
    "              [0, 0, 0, 0, 0],\n",
    "              [0, 0, 0, 0, 0],\n",
    "              [0, 0, 0, 0, 0]])\n",
    "        \n",
    "#entry of matrix: (i,j) line i collum j, means (i-1,j-1)\n",
    "sol=solve([ eq1==m[0,1],\teq2==m[0,2],\teq3==m[0,3],\teq4==m[0,4],\t\n",
    "                                            eq5==m[1,2],    eq6==m[1,3],\n",
    "                                                            eq7==m[1,4], eq8==m[2,4]],d1,d2,d3,d4,d5,a12,a13,a14,a15,a23,a24,a25,a34,a35,a45, solution_dict=True)\n",
    "\n",
    "show(m)\n",
    "show(sol)\n",
    "latex(sol)"
   ]
  },
  {
   "cell_type": "code",
   "execution_count": 6,
   "metadata": {},
   "outputs": [
    {
     "data": {
      "text/html": [
       "<html><script type=\"math/tex; mode=display\">\\newcommand{\\Bold}[1]{\\mathbf{#1}}\\left(\\begin{array}{rrrrr}\n",
       "0 & 1 & 0 & 0 & 0 \\\\\n",
       "0 & 0 & 1 & 0 & 0 \\\\\n",
       "0 & 0 & 0 & 0 & 0 \\\\\n",
       "0 & 0 & 0 & 0 & 0 \\\\\n",
       "0 & 0 & 0 & 0 & 0\n",
       "\\end{array}\\right)</script></html>"
      ],
      "text/latex": [
       "$$\\newcommand{\\Bold}[1]{\\mathbf{#1}}\\left(\\begin{array}{rrrrr}\n",
       "0 & 1 & 0 & 0 & 0 \\\\\n",
       "0 & 0 & 1 & 0 & 0 \\\\\n",
       "0 & 0 & 0 & 0 & 0 \\\\\n",
       "0 & 0 & 0 & 0 & 0 \\\\\n",
       "0 & 0 & 0 & 0 & 0\n",
       "\\end{array}\\right)$$"
      ],
      "text/plain": [
       "[0 1 0 0 0]\n",
       "[0 0 1 0 0]\n",
       "[0 0 0 0 0]\n",
       "[0 0 0 0 0]\n",
       "[0 0 0 0 0]"
      ]
     },
     "metadata": {},
     "output_type": "display_data"
    },
    {
     "data": {
      "text/html": [
       "<html><script type=\"math/tex; mode=display\">\\newcommand{\\Bold}[1]{\\mathbf{#1}}\\left[\\left\\{d_{1} : 0, d_{2} : 0, d_{3} : 0, d_{4} : r_{91}, d_{5} : r_{92}, a_{12} : r_{93}, a_{13} : r_{94}, a_{14} : r_{95}, a_{15} : r_{96}, a_{23} : r_{97}, a_{24} : r_{98}, a_{25} : r_{99}, a_{34} : 0, a_{35} : 0, a_{45} : r_{100}\\right\\}, \\left\\{d_{1} : r_{101}, d_{2} : \\frac{r_{101}}{x_{12}}, d_{3} : \\frac{r_{101}}{x_{12} x_{23}}, d_{4} : r_{102}, d_{5} : r_{103}, a_{12} : r_{104}, a_{13} : r_{105}, a_{14} : r_{106}, a_{15} : r_{107}, a_{23} : \\frac{r_{104} x_{12} x_{23} - r_{101} x_{13}}{x_{12}^{2} x_{23}}, a_{24} : -\\frac{r_{102} x_{14}}{x_{12}}, a_{25} : r_{108}, a_{34} : 0, a_{35} : 0, a_{45} : -\\frac{r_{108} x_{12} + r_{103} x_{15}}{x_{14}}\\right\\}\\right]</script></html>"
      ],
      "text/latex": [
       "$$\\newcommand{\\Bold}[1]{\\mathbf{#1}}\\left[\\left\\{d_{1} : 0, d_{2} : 0, d_{3} : 0, d_{4} : r_{91}, d_{5} : r_{92}, a_{12} : r_{93}, a_{13} : r_{94}, a_{14} : r_{95}, a_{15} : r_{96}, a_{23} : r_{97}, a_{24} : r_{98}, a_{25} : r_{99}, a_{34} : 0, a_{35} : 0, a_{45} : r_{100}\\right\\}, \\left\\{d_{1} : r_{101}, d_{2} : \\frac{r_{101}}{x_{12}}, d_{3} : \\frac{r_{101}}{x_{12} x_{23}}, d_{4} : r_{102}, d_{5} : r_{103}, a_{12} : r_{104}, a_{13} : r_{105}, a_{14} : r_{106}, a_{15} : r_{107}, a_{23} : \\frac{r_{104} x_{12} x_{23} - r_{101} x_{13}}{x_{12}^{2} x_{23}}, a_{24} : -\\frac{r_{102} x_{14}}{x_{12}}, a_{25} : r_{108}, a_{34} : 0, a_{35} : 0, a_{45} : -\\frac{r_{108} x_{12} + r_{103} x_{15}}{x_{14}}\\right\\}\\right]$$"
      ],
      "text/plain": [
       "[{d1: 0,\n",
       "  d2: 0,\n",
       "  d3: 0,\n",
       "  d4: r91,\n",
       "  d5: r92,\n",
       "  a12: r93,\n",
       "  a13: r94,\n",
       "  a14: r95,\n",
       "  a15: r96,\n",
       "  a23: r97,\n",
       "  a24: r98,\n",
       "  a25: r99,\n",
       "  a34: 0,\n",
       "  a35: 0,\n",
       "  a45: r100},\n",
       " {d1: r101,\n",
       "  d2: r101/x12,\n",
       "  d3: r101/(x12*x23),\n",
       "  d4: r102,\n",
       "  d5: r103,\n",
       "  a12: r104,\n",
       "  a13: r105,\n",
       "  a14: r106,\n",
       "  a15: r107,\n",
       "  a23: (r104*x12*x23 - r101*x13)/(x12^2*x23),\n",
       "  a24: -r102*x14/x12,\n",
       "  a25: r108,\n",
       "  a34: 0,\n",
       "  a35: 0,\n",
       "  a45: -(r108*x12 + r103*x15)/x14}]"
      ]
     },
     "metadata": {},
     "output_type": "display_data"
    },
    {
     "data": {
      "text/plain": [
       "\\left[\\left\\{d_{1} : 0, d_{2} : 0, d_{3} : 0, d_{4} : r_{91}, d_{5} : r_{92}, a_{12} : r_{93}, a_{13} : r_{94}, a_{14} : r_{95}, a_{15} : r_{96}, a_{23} : r_{97}, a_{24} : r_{98}, a_{25} : r_{99}, a_{34} : 0, a_{35} : 0, a_{45} : r_{100}\\right\\}, \\left\\{d_{1} : r_{101}, d_{2} : \\frac{r_{101}}{x_{12}}, d_{3} : \\frac{r_{101}}{x_{12} x_{23}}, d_{4} : r_{102}, d_{5} : r_{103}, a_{12} : r_{104}, a_{13} : r_{105}, a_{14} : r_{106}, a_{15} : r_{107}, a_{23} : \\frac{r_{104} x_{12} x_{23} - r_{101} x_{13}}{x_{12}^{2} x_{23}}, a_{24} : -\\frac{r_{102} x_{14}}{x_{12}}, a_{25} : r_{108}, a_{34} : 0, a_{35} : 0, a_{45} : -\\frac{r_{108} x_{12} + r_{103} x_{15}}{x_{14}}\\right\\}\\right]"
      ]
     },
     "execution_count": 6,
     "metadata": {},
     "output_type": "execute_result"
    }
   ],
   "source": [
    "#x4\n",
    "reset()\n",
    "\n",
    "var('x12,x13,x14,x15,x23,x24,x25,x34,x35,x45')\n",
    "var('d1,d2,d3,d4,d5')\n",
    "var('a12,a13,a14,a15,a23,a24,a25,a34,a35,a45')\n",
    "\n",
    "load_attach_path('C:\\\\Users\\\\julia\\\\Documents\\\\unb\\\\doutorado\\\\pensar\\\\codigo_sage_v2\\\\maquina\\\\x4')\n",
    "load('out_#000111.sage')\n",
    "\n",
    "m=matrix(QQ, [[0, 1, 0, 0, 0],\n",
    "              [0, 0, 1, 0, 0],\n",
    "              [0, 0, 0, 0, 0],\n",
    "              [0, 0, 0, 0, 0],\n",
    "              [0, 0, 0, 0, 0]])\n",
    "        \n",
    "#entry of matrix: (i,j) line i collum j, means (i-1,j-1)\n",
    "sol=solve([ eq1==m[0,1],\teq2==m[0,2],\teq3==m[0,3],\teq4==m[0,4],\t\n",
    "                                            eq5==m[1,2],    eq6==m[1,3],\n",
    "                                                            eq7==m[1,4], eq8==m[2,4]],d1,d2,d3,d4,d5,a12,a13,a14,a15,a23,a24,a25,a34,a35,a45, solution_dict=True)\n",
    "\n",
    "show(m)\n",
    "show(sol)\n",
    "latex(sol)"
   ]
  },
  {
   "cell_type": "code",
   "execution_count": 7,
   "metadata": {},
   "outputs": [
    {
     "data": {
      "text/html": [
       "<html><script type=\"math/tex; mode=display\">\\newcommand{\\Bold}[1]{\\mathbf{#1}}\\left(\\begin{array}{rrrrr}\n",
       "0 & 1 & 0 & 0 & 0 \\\\\n",
       "0 & 0 & 1 & 0 & 0 \\\\\n",
       "0 & 0 & 0 & 0 & 0 \\\\\n",
       "0 & 0 & 0 & 0 & 0 \\\\\n",
       "0 & 0 & 0 & 0 & 0\n",
       "\\end{array}\\right)</script></html>"
      ],
      "text/latex": [
       "$$\\newcommand{\\Bold}[1]{\\mathbf{#1}}\\left(\\begin{array}{rrrrr}\n",
       "0 & 1 & 0 & 0 & 0 \\\\\n",
       "0 & 0 & 1 & 0 & 0 \\\\\n",
       "0 & 0 & 0 & 0 & 0 \\\\\n",
       "0 & 0 & 0 & 0 & 0 \\\\\n",
       "0 & 0 & 0 & 0 & 0\n",
       "\\end{array}\\right)$$"
      ],
      "text/plain": [
       "[0 1 0 0 0]\n",
       "[0 0 1 0 0]\n",
       "[0 0 0 0 0]\n",
       "[0 0 0 0 0]\n",
       "[0 0 0 0 0]"
      ]
     },
     "metadata": {},
     "output_type": "display_data"
    },
    {
     "data": {
      "text/html": [
       "<html><script type=\"math/tex; mode=display\">\\newcommand{\\Bold}[1]{\\mathbf{#1}}\\left[\\left\\{d_{1} : 0, d_{2} : 0, d_{3} : 0, d_{4} : r_{109}, d_{5} : r_{110}, a_{12} : r_{111}, a_{13} : r_{112}, a_{14} : r_{113}, a_{15} : r_{114}, a_{23} : r_{115}, a_{24} : r_{116}, a_{25} : r_{117}, a_{34} : 0, a_{35} : -\\frac{r_{110} x_{25}}{x_{23}}, a_{45} : r_{118}\\right\\}, \\left\\{d_{1} : r_{119}, d_{2} : \\frac{r_{119}}{x_{12}}, d_{3} : \\frac{r_{119}}{x_{12} x_{23}}, d_{4} : r_{120}, d_{5} : r_{121}, a_{12} : r_{122}, a_{13} : r_{123}, a_{14} : r_{124}, a_{15} : r_{125}, a_{23} : \\frac{r_{122}}{x_{12}}, a_{24} : 0, a_{25} : 0, a_{34} : 0, a_{35} : -\\frac{r_{121} x_{25}}{x_{23}}, a_{45} : r_{126}\\right\\}\\right]</script></html>"
      ],
      "text/latex": [
       "$$\\newcommand{\\Bold}[1]{\\mathbf{#1}}\\left[\\left\\{d_{1} : 0, d_{2} : 0, d_{3} : 0, d_{4} : r_{109}, d_{5} : r_{110}, a_{12} : r_{111}, a_{13} : r_{112}, a_{14} : r_{113}, a_{15} : r_{114}, a_{23} : r_{115}, a_{24} : r_{116}, a_{25} : r_{117}, a_{34} : 0, a_{35} : -\\frac{r_{110} x_{25}}{x_{23}}, a_{45} : r_{118}\\right\\}, \\left\\{d_{1} : r_{119}, d_{2} : \\frac{r_{119}}{x_{12}}, d_{3} : \\frac{r_{119}}{x_{12} x_{23}}, d_{4} : r_{120}, d_{5} : r_{121}, a_{12} : r_{122}, a_{13} : r_{123}, a_{14} : r_{124}, a_{15} : r_{125}, a_{23} : \\frac{r_{122}}{x_{12}}, a_{24} : 0, a_{25} : 0, a_{34} : 0, a_{35} : -\\frac{r_{121} x_{25}}{x_{23}}, a_{45} : r_{126}\\right\\}\\right]$$"
      ],
      "text/plain": [
       "[{d1: 0,\n",
       "  d2: 0,\n",
       "  d3: 0,\n",
       "  d4: r109,\n",
       "  d5: r110,\n",
       "  a12: r111,\n",
       "  a13: r112,\n",
       "  a14: r113,\n",
       "  a15: r114,\n",
       "  a23: r115,\n",
       "  a24: r116,\n",
       "  a25: r117,\n",
       "  a34: 0,\n",
       "  a35: -r110*x25/x23,\n",
       "  a45: r118},\n",
       " {d1: r119,\n",
       "  d2: r119/x12,\n",
       "  d3: r119/(x12*x23),\n",
       "  d4: r120,\n",
       "  d5: r121,\n",
       "  a12: r122,\n",
       "  a13: r123,\n",
       "  a14: r124,\n",
       "  a15: r125,\n",
       "  a23: r122/x12,\n",
       "  a24: 0,\n",
       "  a25: 0,\n",
       "  a34: 0,\n",
       "  a35: -r121*x25/x23,\n",
       "  a45: r126}]"
      ]
     },
     "metadata": {},
     "output_type": "display_data"
    },
    {
     "data": {
      "text/plain": [
       "\\left[\\left\\{d_{1} : 0, d_{2} : 0, d_{3} : 0, d_{4} : r_{109}, d_{5} : r_{110}, a_{12} : r_{111}, a_{13} : r_{112}, a_{14} : r_{113}, a_{15} : r_{114}, a_{23} : r_{115}, a_{24} : r_{116}, a_{25} : r_{117}, a_{34} : 0, a_{35} : -\\frac{r_{110} x_{25}}{x_{23}}, a_{45} : r_{118}\\right\\}, \\left\\{d_{1} : r_{119}, d_{2} : \\frac{r_{119}}{x_{12}}, d_{3} : \\frac{r_{119}}{x_{12} x_{23}}, d_{4} : r_{120}, d_{5} : r_{121}, a_{12} : r_{122}, a_{13} : r_{123}, a_{14} : r_{124}, a_{15} : r_{125}, a_{23} : \\frac{r_{122}}{x_{12}}, a_{24} : 0, a_{25} : 0, a_{34} : 0, a_{35} : -\\frac{r_{121} x_{25}}{x_{23}}, a_{45} : r_{126}\\right\\}\\right]"
      ]
     },
     "execution_count": 7,
     "metadata": {},
     "output_type": "execute_result"
    }
   ],
   "source": [
    "#x4\n",
    "reset()\n",
    "\n",
    "var('x12,x13,x14,x15,x23,x24,x25,x34,x35,x45')\n",
    "var('d1,d2,d3,d4,d5')\n",
    "var('a12,a13,a14,a15,a23,a24,a25,a34,a35,a45')\n",
    "\n",
    "load_attach_path('C:\\\\Users\\\\julia\\\\Documents\\\\unb\\\\doutorado\\\\pensar\\\\codigo_sage_v2\\\\maquina\\\\x4')\n",
    "load('out_#001000.sage')\n",
    "\n",
    "m=matrix(QQ, [[0, 1, 0, 0, 0],\n",
    "              [0, 0, 1, 0, 0],\n",
    "              [0, 0, 0, 0, 0],\n",
    "              [0, 0, 0, 0, 0],\n",
    "              [0, 0, 0, 0, 0]])\n",
    "        \n",
    "#entry of matrix: (i,j) line i collum j, means (i-1,j-1)\n",
    "sol=solve([ eq1==m[0,1],\teq2==m[0,2],\teq3==m[0,3],\teq4==m[0,4],\t\n",
    "                                            eq5==m[1,2],    eq6==m[1,3],\n",
    "                                                            eq7==m[1,4], eq8==m[2,4]],d1,d2,d3,d4,d5,a12,a13,a14,a15,a23,a24,a25,a34,a35,a45, solution_dict=True)\n",
    "\n",
    "show(m)\n",
    "show(sol)\n",
    "latex(sol)"
   ]
  },
  {
   "cell_type": "code",
   "execution_count": 8,
   "metadata": {},
   "outputs": [
    {
     "data": {
      "text/html": [
       "<html><script type=\"math/tex; mode=display\">\\newcommand{\\Bold}[1]{\\mathbf{#1}}\\left(\\begin{array}{rrrrr}\n",
       "0 & 1 & 0 & 0 & 0 \\\\\n",
       "0 & 0 & 1 & 0 & 0 \\\\\n",
       "0 & 0 & 0 & 0 & 0 \\\\\n",
       "0 & 0 & 0 & 0 & 0 \\\\\n",
       "0 & 0 & 0 & 0 & 0\n",
       "\\end{array}\\right)</script></html>"
      ],
      "text/latex": [
       "$$\\newcommand{\\Bold}[1]{\\mathbf{#1}}\\left(\\begin{array}{rrrrr}\n",
       "0 & 1 & 0 & 0 & 0 \\\\\n",
       "0 & 0 & 1 & 0 & 0 \\\\\n",
       "0 & 0 & 0 & 0 & 0 \\\\\n",
       "0 & 0 & 0 & 0 & 0 \\\\\n",
       "0 & 0 & 0 & 0 & 0\n",
       "\\end{array}\\right)$$"
      ],
      "text/plain": [
       "[0 1 0 0 0]\n",
       "[0 0 1 0 0]\n",
       "[0 0 0 0 0]\n",
       "[0 0 0 0 0]\n",
       "[0 0 0 0 0]"
      ]
     },
     "metadata": {},
     "output_type": "display_data"
    },
    {
     "data": {
      "text/html": [
       "<html><script type=\"math/tex; mode=display\">\\newcommand{\\Bold}[1]{\\mathbf{#1}}\\left[\\left\\{d_{1} : 0, d_{2} : 0, d_{3} : 0, d_{4} : r_{127}, d_{5} : r_{128}, a_{12} : r_{129}, a_{13} : r_{130}, a_{14} : r_{131}, a_{15} : r_{132}, a_{23} : r_{133}, a_{24} : r_{134}, a_{25} : r_{135}, a_{34} : 0, a_{35} : -\\frac{r_{128} x_{25}}{x_{23}}, a_{45} : r_{136}\\right\\}, \\left\\{d_{1} : r_{137}, d_{2} : \\frac{r_{137}}{x_{12}}, d_{3} : \\frac{r_{137}}{x_{12} x_{23}}, d_{4} : r_{138}, d_{5} : r_{139}, a_{12} : r_{140}, a_{13} : r_{141}, a_{14} : r_{142}, a_{15} : r_{143}, a_{23} : \\frac{r_{140}}{x_{12}}, a_{24} : 0, a_{25} : -\\frac{r_{139} x_{15}}{x_{12}}, a_{34} : 0, a_{35} : -\\frac{r_{139} x_{25}}{x_{23}}, a_{45} : r_{144}\\right\\}\\right]</script></html>"
      ],
      "text/latex": [
       "$$\\newcommand{\\Bold}[1]{\\mathbf{#1}}\\left[\\left\\{d_{1} : 0, d_{2} : 0, d_{3} : 0, d_{4} : r_{127}, d_{5} : r_{128}, a_{12} : r_{129}, a_{13} : r_{130}, a_{14} : r_{131}, a_{15} : r_{132}, a_{23} : r_{133}, a_{24} : r_{134}, a_{25} : r_{135}, a_{34} : 0, a_{35} : -\\frac{r_{128} x_{25}}{x_{23}}, a_{45} : r_{136}\\right\\}, \\left\\{d_{1} : r_{137}, d_{2} : \\frac{r_{137}}{x_{12}}, d_{3} : \\frac{r_{137}}{x_{12} x_{23}}, d_{4} : r_{138}, d_{5} : r_{139}, a_{12} : r_{140}, a_{13} : r_{141}, a_{14} : r_{142}, a_{15} : r_{143}, a_{23} : \\frac{r_{140}}{x_{12}}, a_{24} : 0, a_{25} : -\\frac{r_{139} x_{15}}{x_{12}}, a_{34} : 0, a_{35} : -\\frac{r_{139} x_{25}}{x_{23}}, a_{45} : r_{144}\\right\\}\\right]$$"
      ],
      "text/plain": [
       "[{d1: 0,\n",
       "  d2: 0,\n",
       "  d3: 0,\n",
       "  d4: r127,\n",
       "  d5: r128,\n",
       "  a12: r129,\n",
       "  a13: r130,\n",
       "  a14: r131,\n",
       "  a15: r132,\n",
       "  a23: r133,\n",
       "  a24: r134,\n",
       "  a25: r135,\n",
       "  a34: 0,\n",
       "  a35: -r128*x25/x23,\n",
       "  a45: r136},\n",
       " {d1: r137,\n",
       "  d2: r137/x12,\n",
       "  d3: r137/(x12*x23),\n",
       "  d4: r138,\n",
       "  d5: r139,\n",
       "  a12: r140,\n",
       "  a13: r141,\n",
       "  a14: r142,\n",
       "  a15: r143,\n",
       "  a23: r140/x12,\n",
       "  a24: 0,\n",
       "  a25: -r139*x15/x12,\n",
       "  a34: 0,\n",
       "  a35: -r139*x25/x23,\n",
       "  a45: r144}]"
      ]
     },
     "metadata": {},
     "output_type": "display_data"
    },
    {
     "data": {
      "text/plain": [
       "\\left[\\left\\{d_{1} : 0, d_{2} : 0, d_{3} : 0, d_{4} : r_{127}, d_{5} : r_{128}, a_{12} : r_{129}, a_{13} : r_{130}, a_{14} : r_{131}, a_{15} : r_{132}, a_{23} : r_{133}, a_{24} : r_{134}, a_{25} : r_{135}, a_{34} : 0, a_{35} : -\\frac{r_{128} x_{25}}{x_{23}}, a_{45} : r_{136}\\right\\}, \\left\\{d_{1} : r_{137}, d_{2} : \\frac{r_{137}}{x_{12}}, d_{3} : \\frac{r_{137}}{x_{12} x_{23}}, d_{4} : r_{138}, d_{5} : r_{139}, a_{12} : r_{140}, a_{13} : r_{141}, a_{14} : r_{142}, a_{15} : r_{143}, a_{23} : \\frac{r_{140}}{x_{12}}, a_{24} : 0, a_{25} : -\\frac{r_{139} x_{15}}{x_{12}}, a_{34} : 0, a_{35} : -\\frac{r_{139} x_{25}}{x_{23}}, a_{45} : r_{144}\\right\\}\\right]"
      ]
     },
     "execution_count": 8,
     "metadata": {},
     "output_type": "execute_result"
    }
   ],
   "source": [
    "#x4\n",
    "reset()\n",
    "\n",
    "var('x12,x13,x14,x15,x23,x24,x25,x34,x35,x45')\n",
    "var('d1,d2,d3,d4,d5')\n",
    "var('a12,a13,a14,a15,a23,a24,a25,a34,a35,a45')\n",
    "\n",
    "load_attach_path('C:\\\\Users\\\\julia\\\\Documents\\\\unb\\\\doutorado\\\\pensar\\\\codigo_sage_v2\\\\maquina\\\\x4')\n",
    "load('out_#001001.sage')\n",
    "\n",
    "m=matrix(QQ, [[0, 1, 0, 0, 0],\n",
    "              [0, 0, 1, 0, 0],\n",
    "              [0, 0, 0, 0, 0],\n",
    "              [0, 0, 0, 0, 0],\n",
    "              [0, 0, 0, 0, 0]])\n",
    "        \n",
    "#entry of matrix: (i,j) line i collum j, means (i-1,j-1)\n",
    "sol=solve([ eq1==m[0,1],\teq2==m[0,2],\teq3==m[0,3],\teq4==m[0,4],\t\n",
    "                                            eq5==m[1,2],    eq6==m[1,3],\n",
    "                                                            eq7==m[1,4], eq8==m[2,4]],d1,d2,d3,d4,d5,a12,a13,a14,a15,a23,a24,a25,a34,a35,a45, solution_dict=True)\n",
    "\n",
    "show(m)\n",
    "show(sol)\n",
    "latex(sol)"
   ]
  },
  {
   "cell_type": "code",
   "execution_count": 9,
   "metadata": {},
   "outputs": [
    {
     "data": {
      "text/html": [
       "<html><script type=\"math/tex; mode=display\">\\newcommand{\\Bold}[1]{\\mathbf{#1}}\\left(\\begin{array}{rrrrr}\n",
       "0 & 1 & 0 & 0 & 0 \\\\\n",
       "0 & 0 & 1 & 0 & 0 \\\\\n",
       "0 & 0 & 0 & 0 & 0 \\\\\n",
       "0 & 0 & 0 & 0 & 0 \\\\\n",
       "0 & 0 & 0 & 0 & 0\n",
       "\\end{array}\\right)</script></html>"
      ],
      "text/latex": [
       "$$\\newcommand{\\Bold}[1]{\\mathbf{#1}}\\left(\\begin{array}{rrrrr}\n",
       "0 & 1 & 0 & 0 & 0 \\\\\n",
       "0 & 0 & 1 & 0 & 0 \\\\\n",
       "0 & 0 & 0 & 0 & 0 \\\\\n",
       "0 & 0 & 0 & 0 & 0 \\\\\n",
       "0 & 0 & 0 & 0 & 0\n",
       "\\end{array}\\right)$$"
      ],
      "text/plain": [
       "[0 1 0 0 0]\n",
       "[0 0 1 0 0]\n",
       "[0 0 0 0 0]\n",
       "[0 0 0 0 0]\n",
       "[0 0 0 0 0]"
      ]
     },
     "metadata": {},
     "output_type": "display_data"
    },
    {
     "data": {
      "text/html": [
       "<html><script type=\"math/tex; mode=display\">\\newcommand{\\Bold}[1]{\\mathbf{#1}}\\left[\\left\\{d_{1} : 0, d_{2} : 0, d_{3} : 0, d_{4} : r_{145}, d_{5} : r_{146}, a_{12} : r_{147}, a_{13} : r_{148}, a_{14} : r_{149}, a_{15} : r_{150}, a_{23} : r_{151}, a_{24} : r_{152}, a_{25} : r_{153}, a_{34} : 0, a_{35} : -\\frac{r_{146} x_{25}}{x_{23}}, a_{45} : r_{154}\\right\\}, \\left\\{d_{1} : r_{155}, d_{2} : \\frac{r_{155}}{x_{12}}, d_{3} : \\frac{r_{155}}{x_{12} x_{23}}, d_{4} : r_{156}, d_{5} : r_{157}, a_{12} : r_{158}, a_{13} : r_{159}, a_{14} : r_{160}, a_{15} : r_{161}, a_{23} : \\frac{r_{158}}{x_{12}}, a_{24} : -\\frac{r_{156} x_{14}}{x_{12}}, a_{25} : r_{162}, a_{34} : 0, a_{35} : -\\frac{r_{157} x_{25}}{x_{23}}, a_{45} : -\\frac{r_{162} x_{12}}{x_{14}}\\right\\}\\right]</script></html>"
      ],
      "text/latex": [
       "$$\\newcommand{\\Bold}[1]{\\mathbf{#1}}\\left[\\left\\{d_{1} : 0, d_{2} : 0, d_{3} : 0, d_{4} : r_{145}, d_{5} : r_{146}, a_{12} : r_{147}, a_{13} : r_{148}, a_{14} : r_{149}, a_{15} : r_{150}, a_{23} : r_{151}, a_{24} : r_{152}, a_{25} : r_{153}, a_{34} : 0, a_{35} : -\\frac{r_{146} x_{25}}{x_{23}}, a_{45} : r_{154}\\right\\}, \\left\\{d_{1} : r_{155}, d_{2} : \\frac{r_{155}}{x_{12}}, d_{3} : \\frac{r_{155}}{x_{12} x_{23}}, d_{4} : r_{156}, d_{5} : r_{157}, a_{12} : r_{158}, a_{13} : r_{159}, a_{14} : r_{160}, a_{15} : r_{161}, a_{23} : \\frac{r_{158}}{x_{12}}, a_{24} : -\\frac{r_{156} x_{14}}{x_{12}}, a_{25} : r_{162}, a_{34} : 0, a_{35} : -\\frac{r_{157} x_{25}}{x_{23}}, a_{45} : -\\frac{r_{162} x_{12}}{x_{14}}\\right\\}\\right]$$"
      ],
      "text/plain": [
       "[{d1: 0,\n",
       "  d2: 0,\n",
       "  d3: 0,\n",
       "  d4: r145,\n",
       "  d5: r146,\n",
       "  a12: r147,\n",
       "  a13: r148,\n",
       "  a14: r149,\n",
       "  a15: r150,\n",
       "  a23: r151,\n",
       "  a24: r152,\n",
       "  a25: r153,\n",
       "  a34: 0,\n",
       "  a35: -r146*x25/x23,\n",
       "  a45: r154},\n",
       " {d1: r155,\n",
       "  d2: r155/x12,\n",
       "  d3: r155/(x12*x23),\n",
       "  d4: r156,\n",
       "  d5: r157,\n",
       "  a12: r158,\n",
       "  a13: r159,\n",
       "  a14: r160,\n",
       "  a15: r161,\n",
       "  a23: r158/x12,\n",
       "  a24: -r156*x14/x12,\n",
       "  a25: r162,\n",
       "  a34: 0,\n",
       "  a35: -r157*x25/x23,\n",
       "  a45: -r162*x12/x14}]"
      ]
     },
     "metadata": {},
     "output_type": "display_data"
    },
    {
     "data": {
      "text/plain": [
       "\\left[\\left\\{d_{1} : 0, d_{2} : 0, d_{3} : 0, d_{4} : r_{145}, d_{5} : r_{146}, a_{12} : r_{147}, a_{13} : r_{148}, a_{14} : r_{149}, a_{15} : r_{150}, a_{23} : r_{151}, a_{24} : r_{152}, a_{25} : r_{153}, a_{34} : 0, a_{35} : -\\frac{r_{146} x_{25}}{x_{23}}, a_{45} : r_{154}\\right\\}, \\left\\{d_{1} : r_{155}, d_{2} : \\frac{r_{155}}{x_{12}}, d_{3} : \\frac{r_{155}}{x_{12} x_{23}}, d_{4} : r_{156}, d_{5} : r_{157}, a_{12} : r_{158}, a_{13} : r_{159}, a_{14} : r_{160}, a_{15} : r_{161}, a_{23} : \\frac{r_{158}}{x_{12}}, a_{24} : -\\frac{r_{156} x_{14}}{x_{12}}, a_{25} : r_{162}, a_{34} : 0, a_{35} : -\\frac{r_{157} x_{25}}{x_{23}}, a_{45} : -\\frac{r_{162} x_{12}}{x_{14}}\\right\\}\\right]"
      ]
     },
     "execution_count": 9,
     "metadata": {},
     "output_type": "execute_result"
    }
   ],
   "source": [
    "#x4\n",
    "reset()\n",
    "\n",
    "var('x12,x13,x14,x15,x23,x24,x25,x34,x35,x45')\n",
    "var('d1,d2,d3,d4,d5')\n",
    "var('a12,a13,a14,a15,a23,a24,a25,a34,a35,a45')\n",
    "\n",
    "load_attach_path('C:\\\\Users\\\\julia\\\\Documents\\\\unb\\\\doutorado\\\\pensar\\\\codigo_sage_v2\\\\maquina\\\\x4')\n",
    "load('out_#001010.sage')\n",
    "\n",
    "m=matrix(QQ, [[0, 1, 0, 0, 0],\n",
    "              [0, 0, 1, 0, 0],\n",
    "              [0, 0, 0, 0, 0],\n",
    "              [0, 0, 0, 0, 0],\n",
    "              [0, 0, 0, 0, 0]])\n",
    "        \n",
    "#entry of matrix: (i,j) line i collum j, means (i-1,j-1)\n",
    "sol=solve([ eq1==m[0,1],\teq2==m[0,2],\teq3==m[0,3],\teq4==m[0,4],\t\n",
    "                                            eq5==m[1,2],    eq6==m[1,3],\n",
    "                                                            eq7==m[1,4], eq8==m[2,4]],d1,d2,d3,d4,d5,a12,a13,a14,a15,a23,a24,a25,a34,a35,a45, solution_dict=True)\n",
    "\n",
    "show(m)\n",
    "show(sol)\n",
    "latex(sol)"
   ]
  },
  {
   "cell_type": "code",
   "execution_count": 10,
   "metadata": {},
   "outputs": [
    {
     "data": {
      "text/html": [
       "<html><script type=\"math/tex; mode=display\">\\newcommand{\\Bold}[1]{\\mathbf{#1}}\\left(\\begin{array}{rrrrr}\n",
       "0 & 1 & 0 & 0 & 0 \\\\\n",
       "0 & 0 & 1 & 0 & 0 \\\\\n",
       "0 & 0 & 0 & 0 & 0 \\\\\n",
       "0 & 0 & 0 & 0 & 0 \\\\\n",
       "0 & 0 & 0 & 0 & 0\n",
       "\\end{array}\\right)</script></html>"
      ],
      "text/latex": [
       "$$\\newcommand{\\Bold}[1]{\\mathbf{#1}}\\left(\\begin{array}{rrrrr}\n",
       "0 & 1 & 0 & 0 & 0 \\\\\n",
       "0 & 0 & 1 & 0 & 0 \\\\\n",
       "0 & 0 & 0 & 0 & 0 \\\\\n",
       "0 & 0 & 0 & 0 & 0 \\\\\n",
       "0 & 0 & 0 & 0 & 0\n",
       "\\end{array}\\right)$$"
      ],
      "text/plain": [
       "[0 1 0 0 0]\n",
       "[0 0 1 0 0]\n",
       "[0 0 0 0 0]\n",
       "[0 0 0 0 0]\n",
       "[0 0 0 0 0]"
      ]
     },
     "metadata": {},
     "output_type": "display_data"
    },
    {
     "data": {
      "text/html": [
       "<html><script type=\"math/tex; mode=display\">\\newcommand{\\Bold}[1]{\\mathbf{#1}}\\left[\\left\\{d_{1} : 0, d_{2} : 0, d_{3} : 0, d_{4} : r_{163}, d_{5} : r_{164}, a_{12} : r_{165}, a_{13} : r_{166}, a_{14} : r_{167}, a_{15} : r_{168}, a_{23} : r_{169}, a_{24} : r_{170}, a_{25} : r_{171}, a_{34} : 0, a_{35} : -\\frac{r_{164} x_{25}}{x_{23}}, a_{45} : r_{172}\\right\\}, \\left\\{d_{1} : r_{173}, d_{2} : \\frac{r_{173}}{x_{12}}, d_{3} : \\frac{r_{173}}{x_{12} x_{23}}, d_{4} : r_{174}, d_{5} : r_{175}, a_{12} : r_{176}, a_{13} : r_{177}, a_{14} : r_{178}, a_{15} : r_{179}, a_{23} : \\frac{r_{176}}{x_{12}}, a_{24} : -\\frac{r_{174} x_{14}}{x_{12}}, a_{25} : r_{180}, a_{34} : 0, a_{35} : -\\frac{r_{175} x_{25}}{x_{23}}, a_{45} : -\\frac{r_{180} x_{12} + r_{175} x_{15}}{x_{14}}\\right\\}\\right]</script></html>"
      ],
      "text/latex": [
       "$$\\newcommand{\\Bold}[1]{\\mathbf{#1}}\\left[\\left\\{d_{1} : 0, d_{2} : 0, d_{3} : 0, d_{4} : r_{163}, d_{5} : r_{164}, a_{12} : r_{165}, a_{13} : r_{166}, a_{14} : r_{167}, a_{15} : r_{168}, a_{23} : r_{169}, a_{24} : r_{170}, a_{25} : r_{171}, a_{34} : 0, a_{35} : -\\frac{r_{164} x_{25}}{x_{23}}, a_{45} : r_{172}\\right\\}, \\left\\{d_{1} : r_{173}, d_{2} : \\frac{r_{173}}{x_{12}}, d_{3} : \\frac{r_{173}}{x_{12} x_{23}}, d_{4} : r_{174}, d_{5} : r_{175}, a_{12} : r_{176}, a_{13} : r_{177}, a_{14} : r_{178}, a_{15} : r_{179}, a_{23} : \\frac{r_{176}}{x_{12}}, a_{24} : -\\frac{r_{174} x_{14}}{x_{12}}, a_{25} : r_{180}, a_{34} : 0, a_{35} : -\\frac{r_{175} x_{25}}{x_{23}}, a_{45} : -\\frac{r_{180} x_{12} + r_{175} x_{15}}{x_{14}}\\right\\}\\right]$$"
      ],
      "text/plain": [
       "[{d1: 0,\n",
       "  d2: 0,\n",
       "  d3: 0,\n",
       "  d4: r163,\n",
       "  d5: r164,\n",
       "  a12: r165,\n",
       "  a13: r166,\n",
       "  a14: r167,\n",
       "  a15: r168,\n",
       "  a23: r169,\n",
       "  a24: r170,\n",
       "  a25: r171,\n",
       "  a34: 0,\n",
       "  a35: -r164*x25/x23,\n",
       "  a45: r172},\n",
       " {d1: r173,\n",
       "  d2: r173/x12,\n",
       "  d3: r173/(x12*x23),\n",
       "  d4: r174,\n",
       "  d5: r175,\n",
       "  a12: r176,\n",
       "  a13: r177,\n",
       "  a14: r178,\n",
       "  a15: r179,\n",
       "  a23: r176/x12,\n",
       "  a24: -r174*x14/x12,\n",
       "  a25: r180,\n",
       "  a34: 0,\n",
       "  a35: -r175*x25/x23,\n",
       "  a45: -(r180*x12 + r175*x15)/x14}]"
      ]
     },
     "metadata": {},
     "output_type": "display_data"
    },
    {
     "data": {
      "text/plain": [
       "\\left[\\left\\{d_{1} : 0, d_{2} : 0, d_{3} : 0, d_{4} : r_{163}, d_{5} : r_{164}, a_{12} : r_{165}, a_{13} : r_{166}, a_{14} : r_{167}, a_{15} : r_{168}, a_{23} : r_{169}, a_{24} : r_{170}, a_{25} : r_{171}, a_{34} : 0, a_{35} : -\\frac{r_{164} x_{25}}{x_{23}}, a_{45} : r_{172}\\right\\}, \\left\\{d_{1} : r_{173}, d_{2} : \\frac{r_{173}}{x_{12}}, d_{3} : \\frac{r_{173}}{x_{12} x_{23}}, d_{4} : r_{174}, d_{5} : r_{175}, a_{12} : r_{176}, a_{13} : r_{177}, a_{14} : r_{178}, a_{15} : r_{179}, a_{23} : \\frac{r_{176}}{x_{12}}, a_{24} : -\\frac{r_{174} x_{14}}{x_{12}}, a_{25} : r_{180}, a_{34} : 0, a_{35} : -\\frac{r_{175} x_{25}}{x_{23}}, a_{45} : -\\frac{r_{180} x_{12} + r_{175} x_{15}}{x_{14}}\\right\\}\\right]"
      ]
     },
     "execution_count": 10,
     "metadata": {},
     "output_type": "execute_result"
    }
   ],
   "source": [
    "#x4\n",
    "reset()\n",
    "\n",
    "var('x12,x13,x14,x15,x23,x24,x25,x34,x35,x45')\n",
    "var('d1,d2,d3,d4,d5')\n",
    "var('a12,a13,a14,a15,a23,a24,a25,a34,a35,a45')\n",
    "\n",
    "load_attach_path('C:\\\\Users\\\\julia\\\\Documents\\\\unb\\\\doutorado\\\\pensar\\\\codigo_sage_v2\\\\maquina\\\\x4')\n",
    "load('out_#001011.sage')\n",
    "\n",
    "m=matrix(QQ, [[0, 1, 0, 0, 0],\n",
    "              [0, 0, 1, 0, 0],\n",
    "              [0, 0, 0, 0, 0],\n",
    "              [0, 0, 0, 0, 0],\n",
    "              [0, 0, 0, 0, 0]])\n",
    "        \n",
    "#entry of matrix: (i,j) line i collum j, means (i-1,j-1)\n",
    "sol=solve([ eq1==m[0,1],\teq2==m[0,2],\teq3==m[0,3],\teq4==m[0,4],\t\n",
    "                                            eq5==m[1,2],    eq6==m[1,3],\n",
    "                                                            eq7==m[1,4], eq8==m[2,4]],d1,d2,d3,d4,d5,a12,a13,a14,a15,a23,a24,a25,a34,a35,a45, solution_dict=True)\n",
    "\n",
    "show(m)\n",
    "show(sol)\n",
    "latex(sol)"
   ]
  },
  {
   "cell_type": "code",
   "execution_count": 11,
   "metadata": {},
   "outputs": [
    {
     "data": {
      "text/html": [
       "<html><script type=\"math/tex; mode=display\">\\newcommand{\\Bold}[1]{\\mathbf{#1}}\\left(\\begin{array}{rrrrr}\n",
       "0 & 1 & 0 & 0 & 0 \\\\\n",
       "0 & 0 & 1 & 0 & 0 \\\\\n",
       "0 & 0 & 0 & 0 & 0 \\\\\n",
       "0 & 0 & 0 & 0 & 0 \\\\\n",
       "0 & 0 & 0 & 0 & 0\n",
       "\\end{array}\\right)</script></html>"
      ],
      "text/latex": [
       "$$\\newcommand{\\Bold}[1]{\\mathbf{#1}}\\left(\\begin{array}{rrrrr}\n",
       "0 & 1 & 0 & 0 & 0 \\\\\n",
       "0 & 0 & 1 & 0 & 0 \\\\\n",
       "0 & 0 & 0 & 0 & 0 \\\\\n",
       "0 & 0 & 0 & 0 & 0 \\\\\n",
       "0 & 0 & 0 & 0 & 0\n",
       "\\end{array}\\right)$$"
      ],
      "text/plain": [
       "[0 1 0 0 0]\n",
       "[0 0 1 0 0]\n",
       "[0 0 0 0 0]\n",
       "[0 0 0 0 0]\n",
       "[0 0 0 0 0]"
      ]
     },
     "metadata": {},
     "output_type": "display_data"
    },
    {
     "data": {
      "text/html": [
       "<html><script type=\"math/tex; mode=display\">\\newcommand{\\Bold}[1]{\\mathbf{#1}}\\left[\\left\\{d_{1} : 0, d_{2} : 0, d_{3} : 0, d_{4} : r_{181}, d_{5} : r_{182}, a_{12} : r_{183}, a_{13} : r_{184}, a_{14} : r_{185}, a_{15} : r_{186}, a_{23} : r_{187}, a_{24} : r_{188}, a_{25} : r_{189}, a_{34} : 0, a_{35} : -\\frac{r_{182} x_{25}}{x_{23}}, a_{45} : r_{190}\\right\\}, \\left\\{d_{1} : r_{191}, d_{2} : \\frac{r_{191}}{x_{12}}, d_{3} : \\frac{r_{191}}{x_{12} x_{23}}, d_{4} : r_{192}, d_{5} : r_{193}, a_{12} : r_{194}, a_{13} : r_{195}, a_{14} : r_{196}, a_{15} : r_{197}, a_{23} : \\frac{r_{194} x_{12} x_{23} - r_{191} x_{13}}{x_{12}^{2} x_{23}}, a_{24} : 0, a_{25} : \\frac{r_{193} x_{13} x_{25}}{x_{12} x_{23}}, a_{34} : 0, a_{35} : -\\frac{r_{193} x_{25}}{x_{23}}, a_{45} : r_{198}\\right\\}\\right]</script></html>"
      ],
      "text/latex": [
       "$$\\newcommand{\\Bold}[1]{\\mathbf{#1}}\\left[\\left\\{d_{1} : 0, d_{2} : 0, d_{3} : 0, d_{4} : r_{181}, d_{5} : r_{182}, a_{12} : r_{183}, a_{13} : r_{184}, a_{14} : r_{185}, a_{15} : r_{186}, a_{23} : r_{187}, a_{24} : r_{188}, a_{25} : r_{189}, a_{34} : 0, a_{35} : -\\frac{r_{182} x_{25}}{x_{23}}, a_{45} : r_{190}\\right\\}, \\left\\{d_{1} : r_{191}, d_{2} : \\frac{r_{191}}{x_{12}}, d_{3} : \\frac{r_{191}}{x_{12} x_{23}}, d_{4} : r_{192}, d_{5} : r_{193}, a_{12} : r_{194}, a_{13} : r_{195}, a_{14} : r_{196}, a_{15} : r_{197}, a_{23} : \\frac{r_{194} x_{12} x_{23} - r_{191} x_{13}}{x_{12}^{2} x_{23}}, a_{24} : 0, a_{25} : \\frac{r_{193} x_{13} x_{25}}{x_{12} x_{23}}, a_{34} : 0, a_{35} : -\\frac{r_{193} x_{25}}{x_{23}}, a_{45} : r_{198}\\right\\}\\right]$$"
      ],
      "text/plain": [
       "[{d1: 0,\n",
       "  d2: 0,\n",
       "  d3: 0,\n",
       "  d4: r181,\n",
       "  d5: r182,\n",
       "  a12: r183,\n",
       "  a13: r184,\n",
       "  a14: r185,\n",
       "  a15: r186,\n",
       "  a23: r187,\n",
       "  a24: r188,\n",
       "  a25: r189,\n",
       "  a34: 0,\n",
       "  a35: -r182*x25/x23,\n",
       "  a45: r190},\n",
       " {d1: r191,\n",
       "  d2: r191/x12,\n",
       "  d3: r191/(x12*x23),\n",
       "  d4: r192,\n",
       "  d5: r193,\n",
       "  a12: r194,\n",
       "  a13: r195,\n",
       "  a14: r196,\n",
       "  a15: r197,\n",
       "  a23: (r194*x12*x23 - r191*x13)/(x12^2*x23),\n",
       "  a24: 0,\n",
       "  a25: r193*x13*x25/(x12*x23),\n",
       "  a34: 0,\n",
       "  a35: -r193*x25/x23,\n",
       "  a45: r198}]"
      ]
     },
     "metadata": {},
     "output_type": "display_data"
    },
    {
     "data": {
      "text/plain": [
       "\\left[\\left\\{d_{1} : 0, d_{2} : 0, d_{3} : 0, d_{4} : r_{181}, d_{5} : r_{182}, a_{12} : r_{183}, a_{13} : r_{184}, a_{14} : r_{185}, a_{15} : r_{186}, a_{23} : r_{187}, a_{24} : r_{188}, a_{25} : r_{189}, a_{34} : 0, a_{35} : -\\frac{r_{182} x_{25}}{x_{23}}, a_{45} : r_{190}\\right\\}, \\left\\{d_{1} : r_{191}, d_{2} : \\frac{r_{191}}{x_{12}}, d_{3} : \\frac{r_{191}}{x_{12} x_{23}}, d_{4} : r_{192}, d_{5} : r_{193}, a_{12} : r_{194}, a_{13} : r_{195}, a_{14} : r_{196}, a_{15} : r_{197}, a_{23} : \\frac{r_{194} x_{12} x_{23} - r_{191} x_{13}}{x_{12}^{2} x_{23}}, a_{24} : 0, a_{25} : \\frac{r_{193} x_{13} x_{25}}{x_{12} x_{23}}, a_{34} : 0, a_{35} : -\\frac{r_{193} x_{25}}{x_{23}}, a_{45} : r_{198}\\right\\}\\right]"
      ]
     },
     "execution_count": 11,
     "metadata": {},
     "output_type": "execute_result"
    }
   ],
   "source": [
    "#x4\n",
    "reset()\n",
    "\n",
    "var('x12,x13,x14,x15,x23,x24,x25,x34,x35,x45')\n",
    "var('d1,d2,d3,d4,d5')\n",
    "var('a12,a13,a14,a15,a23,a24,a25,a34,a35,a45')\n",
    "\n",
    "load_attach_path('C:\\\\Users\\\\julia\\\\Documents\\\\unb\\\\doutorado\\\\pensar\\\\codigo_sage_v2\\\\maquina\\\\x4')\n",
    "load('out_#001100.sage')\n",
    "\n",
    "m=matrix(QQ, [[0, 1, 0, 0, 0],\n",
    "              [0, 0, 1, 0, 0],\n",
    "              [0, 0, 0, 0, 0],\n",
    "              [0, 0, 0, 0, 0],\n",
    "              [0, 0, 0, 0, 0]])\n",
    "        \n",
    "#entry of matrix: (i,j) line i collum j, means (i-1,j-1)\n",
    "sol=solve([ eq1==m[0,1],\teq2==m[0,2],\teq3==m[0,3],\teq4==m[0,4],\t\n",
    "                                            eq5==m[1,2],    eq6==m[1,3],\n",
    "                                                            eq7==m[1,4], eq8==m[2,4]],d1,d2,d3,d4,d5,a12,a13,a14,a15,a23,a24,a25,a34,a35,a45, solution_dict=True)\n",
    "\n",
    "show(m)\n",
    "show(sol)\n",
    "latex(sol)"
   ]
  },
  {
   "cell_type": "code",
   "execution_count": 12,
   "metadata": {},
   "outputs": [
    {
     "data": {
      "text/html": [
       "<html><script type=\"math/tex; mode=display\">\\newcommand{\\Bold}[1]{\\mathbf{#1}}\\left(\\begin{array}{rrrrr}\n",
       "0 & 1 & 0 & 0 & 0 \\\\\n",
       "0 & 0 & 1 & 0 & 0 \\\\\n",
       "0 & 0 & 0 & 0 & 0 \\\\\n",
       "0 & 0 & 0 & 0 & 0 \\\\\n",
       "0 & 0 & 0 & 0 & 0\n",
       "\\end{array}\\right)</script></html>"
      ],
      "text/latex": [
       "$$\\newcommand{\\Bold}[1]{\\mathbf{#1}}\\left(\\begin{array}{rrrrr}\n",
       "0 & 1 & 0 & 0 & 0 \\\\\n",
       "0 & 0 & 1 & 0 & 0 \\\\\n",
       "0 & 0 & 0 & 0 & 0 \\\\\n",
       "0 & 0 & 0 & 0 & 0 \\\\\n",
       "0 & 0 & 0 & 0 & 0\n",
       "\\end{array}\\right)$$"
      ],
      "text/plain": [
       "[0 1 0 0 0]\n",
       "[0 0 1 0 0]\n",
       "[0 0 0 0 0]\n",
       "[0 0 0 0 0]\n",
       "[0 0 0 0 0]"
      ]
     },
     "metadata": {},
     "output_type": "display_data"
    },
    {
     "data": {
      "text/html": [
       "<html><script type=\"math/tex; mode=display\">\\newcommand{\\Bold}[1]{\\mathbf{#1}}\\left[\\left\\{d_{1} : 0, d_{2} : 0, d_{3} : 0, d_{4} : r_{199}, d_{5} : r_{200}, a_{12} : r_{201}, a_{13} : r_{202}, a_{14} : r_{203}, a_{15} : r_{204}, a_{23} : r_{205}, a_{24} : r_{206}, a_{25} : r_{207}, a_{34} : 0, a_{35} : -\\frac{r_{200} x_{25}}{x_{23}}, a_{45} : r_{208}\\right\\}, \\left\\{d_{1} : r_{209}, d_{2} : \\frac{r_{209}}{x_{12}}, d_{3} : \\frac{r_{209}}{x_{12} x_{23}}, d_{4} : r_{210}, d_{5} : r_{211}, a_{12} : r_{212}, a_{13} : r_{213}, a_{14} : r_{214}, a_{15} : r_{215}, a_{23} : \\frac{r_{212} x_{12} x_{23} - r_{209} x_{13}}{x_{12}^{2} x_{23}}, a_{24} : 0, a_{25} : -\\frac{r_{211} x_{15} x_{23} - r_{211} x_{13} x_{25}}{x_{12} x_{23}}, a_{34} : 0, a_{35} : -\\frac{r_{211} x_{25}}{x_{23}}, a_{45} : r_{216}\\right\\}\\right]</script></html>"
      ],
      "text/latex": [
       "$$\\newcommand{\\Bold}[1]{\\mathbf{#1}}\\left[\\left\\{d_{1} : 0, d_{2} : 0, d_{3} : 0, d_{4} : r_{199}, d_{5} : r_{200}, a_{12} : r_{201}, a_{13} : r_{202}, a_{14} : r_{203}, a_{15} : r_{204}, a_{23} : r_{205}, a_{24} : r_{206}, a_{25} : r_{207}, a_{34} : 0, a_{35} : -\\frac{r_{200} x_{25}}{x_{23}}, a_{45} : r_{208}\\right\\}, \\left\\{d_{1} : r_{209}, d_{2} : \\frac{r_{209}}{x_{12}}, d_{3} : \\frac{r_{209}}{x_{12} x_{23}}, d_{4} : r_{210}, d_{5} : r_{211}, a_{12} : r_{212}, a_{13} : r_{213}, a_{14} : r_{214}, a_{15} : r_{215}, a_{23} : \\frac{r_{212} x_{12} x_{23} - r_{209} x_{13}}{x_{12}^{2} x_{23}}, a_{24} : 0, a_{25} : -\\frac{r_{211} x_{15} x_{23} - r_{211} x_{13} x_{25}}{x_{12} x_{23}}, a_{34} : 0, a_{35} : -\\frac{r_{211} x_{25}}{x_{23}}, a_{45} : r_{216}\\right\\}\\right]$$"
      ],
      "text/plain": [
       "[{d1: 0,\n",
       "  d2: 0,\n",
       "  d3: 0,\n",
       "  d4: r199,\n",
       "  d5: r200,\n",
       "  a12: r201,\n",
       "  a13: r202,\n",
       "  a14: r203,\n",
       "  a15: r204,\n",
       "  a23: r205,\n",
       "  a24: r206,\n",
       "  a25: r207,\n",
       "  a34: 0,\n",
       "  a35: -r200*x25/x23,\n",
       "  a45: r208},\n",
       " {d1: r209,\n",
       "  d2: r209/x12,\n",
       "  d3: r209/(x12*x23),\n",
       "  d4: r210,\n",
       "  d5: r211,\n",
       "  a12: r212,\n",
       "  a13: r213,\n",
       "  a14: r214,\n",
       "  a15: r215,\n",
       "  a23: (r212*x12*x23 - r209*x13)/(x12^2*x23),\n",
       "  a24: 0,\n",
       "  a25: -(r211*x15*x23 - r211*x13*x25)/(x12*x23),\n",
       "  a34: 0,\n",
       "  a35: -r211*x25/x23,\n",
       "  a45: r216}]"
      ]
     },
     "metadata": {},
     "output_type": "display_data"
    },
    {
     "data": {
      "text/plain": [
       "\\left[\\left\\{d_{1} : 0, d_{2} : 0, d_{3} : 0, d_{4} : r_{199}, d_{5} : r_{200}, a_{12} : r_{201}, a_{13} : r_{202}, a_{14} : r_{203}, a_{15} : r_{204}, a_{23} : r_{205}, a_{24} : r_{206}, a_{25} : r_{207}, a_{34} : 0, a_{35} : -\\frac{r_{200} x_{25}}{x_{23}}, a_{45} : r_{208}\\right\\}, \\left\\{d_{1} : r_{209}, d_{2} : \\frac{r_{209}}{x_{12}}, d_{3} : \\frac{r_{209}}{x_{12} x_{23}}, d_{4} : r_{210}, d_{5} : r_{211}, a_{12} : r_{212}, a_{13} : r_{213}, a_{14} : r_{214}, a_{15} : r_{215}, a_{23} : \\frac{r_{212} x_{12} x_{23} - r_{209} x_{13}}{x_{12}^{2} x_{23}}, a_{24} : 0, a_{25} : -\\frac{r_{211} x_{15} x_{23} - r_{211} x_{13} x_{25}}{x_{12} x_{23}}, a_{34} : 0, a_{35} : -\\frac{r_{211} x_{25}}{x_{23}}, a_{45} : r_{216}\\right\\}\\right]"
      ]
     },
     "execution_count": 12,
     "metadata": {},
     "output_type": "execute_result"
    }
   ],
   "source": [
    "#x4\n",
    "reset()\n",
    "\n",
    "var('x12,x13,x14,x15,x23,x24,x25,x34,x35,x45')\n",
    "var('d1,d2,d3,d4,d5')\n",
    "var('a12,a13,a14,a15,a23,a24,a25,a34,a35,a45')\n",
    "\n",
    "load_attach_path('C:\\\\Users\\\\julia\\\\Documents\\\\unb\\\\doutorado\\\\pensar\\\\codigo_sage_v2\\\\maquina\\\\x4')\n",
    "load('out_#001101.sage')\n",
    "\n",
    "m=matrix(QQ, [[0, 1, 0, 0, 0],\n",
    "              [0, 0, 1, 0, 0],\n",
    "              [0, 0, 0, 0, 0],\n",
    "              [0, 0, 0, 0, 0],\n",
    "              [0, 0, 0, 0, 0]])\n",
    "        \n",
    "#entry of matrix: (i,j) line i collum j, means (i-1,j-1)\n",
    "sol=solve([ eq1==m[0,1],\teq2==m[0,2],\teq3==m[0,3],\teq4==m[0,4],\t\n",
    "                                            eq5==m[1,2],    eq6==m[1,3],\n",
    "                                                            eq7==m[1,4], eq8==m[2,4]],d1,d2,d3,d4,d5,a12,a13,a14,a15,a23,a24,a25,a34,a35,a45, solution_dict=True)\n",
    "\n",
    "show(m)\n",
    "show(sol)\n",
    "latex(sol)"
   ]
  },
  {
   "cell_type": "code",
   "execution_count": 13,
   "metadata": {},
   "outputs": [
    {
     "data": {
      "text/html": [
       "<html><script type=\"math/tex; mode=display\">\\newcommand{\\Bold}[1]{\\mathbf{#1}}\\left(\\begin{array}{rrrrr}\n",
       "0 & 1 & 0 & 0 & 0 \\\\\n",
       "0 & 0 & 1 & 0 & 0 \\\\\n",
       "0 & 0 & 0 & 0 & 0 \\\\\n",
       "0 & 0 & 0 & 0 & 0 \\\\\n",
       "0 & 0 & 0 & 0 & 0\n",
       "\\end{array}\\right)</script></html>"
      ],
      "text/latex": [
       "$$\\newcommand{\\Bold}[1]{\\mathbf{#1}}\\left(\\begin{array}{rrrrr}\n",
       "0 & 1 & 0 & 0 & 0 \\\\\n",
       "0 & 0 & 1 & 0 & 0 \\\\\n",
       "0 & 0 & 0 & 0 & 0 \\\\\n",
       "0 & 0 & 0 & 0 & 0 \\\\\n",
       "0 & 0 & 0 & 0 & 0\n",
       "\\end{array}\\right)$$"
      ],
      "text/plain": [
       "[0 1 0 0 0]\n",
       "[0 0 1 0 0]\n",
       "[0 0 0 0 0]\n",
       "[0 0 0 0 0]\n",
       "[0 0 0 0 0]"
      ]
     },
     "metadata": {},
     "output_type": "display_data"
    },
    {
     "data": {
      "text/html": [
       "<html><script type=\"math/tex; mode=display\">\\newcommand{\\Bold}[1]{\\mathbf{#1}}\\left[\\left\\{d_{1} : 0, d_{2} : 0, d_{3} : 0, d_{4} : r_{217}, d_{5} : r_{218}, a_{12} : r_{219}, a_{13} : r_{220}, a_{14} : r_{221}, a_{15} : r_{222}, a_{23} : r_{223}, a_{24} : r_{224}, a_{25} : r_{225}, a_{34} : 0, a_{35} : -\\frac{r_{218} x_{25}}{x_{23}}, a_{45} : r_{226}\\right\\}, \\left\\{d_{1} : r_{227}, d_{2} : \\frac{r_{227}}{x_{12}}, d_{3} : \\frac{r_{227}}{x_{12} x_{23}}, d_{4} : r_{228}, d_{5} : r_{229}, a_{12} : r_{230}, a_{13} : r_{231}, a_{14} : r_{232}, a_{15} : r_{233}, a_{23} : \\frac{r_{230} x_{12} x_{23} - r_{227} x_{13}}{x_{12}^{2} x_{23}}, a_{24} : -\\frac{r_{228} x_{14}}{x_{12}}, a_{25} : r_{234}, a_{34} : 0, a_{35} : -\\frac{r_{229} x_{25}}{x_{23}}, a_{45} : -\\frac{r_{234} x_{12} x_{23} - r_{229} x_{13} x_{25}}{x_{14} x_{23}}\\right\\}\\right]</script></html>"
      ],
      "text/latex": [
       "$$\\newcommand{\\Bold}[1]{\\mathbf{#1}}\\left[\\left\\{d_{1} : 0, d_{2} : 0, d_{3} : 0, d_{4} : r_{217}, d_{5} : r_{218}, a_{12} : r_{219}, a_{13} : r_{220}, a_{14} : r_{221}, a_{15} : r_{222}, a_{23} : r_{223}, a_{24} : r_{224}, a_{25} : r_{225}, a_{34} : 0, a_{35} : -\\frac{r_{218} x_{25}}{x_{23}}, a_{45} : r_{226}\\right\\}, \\left\\{d_{1} : r_{227}, d_{2} : \\frac{r_{227}}{x_{12}}, d_{3} : \\frac{r_{227}}{x_{12} x_{23}}, d_{4} : r_{228}, d_{5} : r_{229}, a_{12} : r_{230}, a_{13} : r_{231}, a_{14} : r_{232}, a_{15} : r_{233}, a_{23} : \\frac{r_{230} x_{12} x_{23} - r_{227} x_{13}}{x_{12}^{2} x_{23}}, a_{24} : -\\frac{r_{228} x_{14}}{x_{12}}, a_{25} : r_{234}, a_{34} : 0, a_{35} : -\\frac{r_{229} x_{25}}{x_{23}}, a_{45} : -\\frac{r_{234} x_{12} x_{23} - r_{229} x_{13} x_{25}}{x_{14} x_{23}}\\right\\}\\right]$$"
      ],
      "text/plain": [
       "[{d1: 0,\n",
       "  d2: 0,\n",
       "  d3: 0,\n",
       "  d4: r217,\n",
       "  d5: r218,\n",
       "  a12: r219,\n",
       "  a13: r220,\n",
       "  a14: r221,\n",
       "  a15: r222,\n",
       "  a23: r223,\n",
       "  a24: r224,\n",
       "  a25: r225,\n",
       "  a34: 0,\n",
       "  a35: -r218*x25/x23,\n",
       "  a45: r226},\n",
       " {d1: r227,\n",
       "  d2: r227/x12,\n",
       "  d3: r227/(x12*x23),\n",
       "  d4: r228,\n",
       "  d5: r229,\n",
       "  a12: r230,\n",
       "  a13: r231,\n",
       "  a14: r232,\n",
       "  a15: r233,\n",
       "  a23: (r230*x12*x23 - r227*x13)/(x12^2*x23),\n",
       "  a24: -r228*x14/x12,\n",
       "  a25: r234,\n",
       "  a34: 0,\n",
       "  a35: -r229*x25/x23,\n",
       "  a45: -(r234*x12*x23 - r229*x13*x25)/(x14*x23)}]"
      ]
     },
     "metadata": {},
     "output_type": "display_data"
    },
    {
     "data": {
      "text/plain": [
       "\\left[\\left\\{d_{1} : 0, d_{2} : 0, d_{3} : 0, d_{4} : r_{217}, d_{5} : r_{218}, a_{12} : r_{219}, a_{13} : r_{220}, a_{14} : r_{221}, a_{15} : r_{222}, a_{23} : r_{223}, a_{24} : r_{224}, a_{25} : r_{225}, a_{34} : 0, a_{35} : -\\frac{r_{218} x_{25}}{x_{23}}, a_{45} : r_{226}\\right\\}, \\left\\{d_{1} : r_{227}, d_{2} : \\frac{r_{227}}{x_{12}}, d_{3} : \\frac{r_{227}}{x_{12} x_{23}}, d_{4} : r_{228}, d_{5} : r_{229}, a_{12} : r_{230}, a_{13} : r_{231}, a_{14} : r_{232}, a_{15} : r_{233}, a_{23} : \\frac{r_{230} x_{12} x_{23} - r_{227} x_{13}}{x_{12}^{2} x_{23}}, a_{24} : -\\frac{r_{228} x_{14}}{x_{12}}, a_{25} : r_{234}, a_{34} : 0, a_{35} : -\\frac{r_{229} x_{25}}{x_{23}}, a_{45} : -\\frac{r_{234} x_{12} x_{23} - r_{229} x_{13} x_{25}}{x_{14} x_{23}}\\right\\}\\right]"
      ]
     },
     "execution_count": 13,
     "metadata": {},
     "output_type": "execute_result"
    }
   ],
   "source": [
    "#x4\n",
    "reset()\n",
    "\n",
    "var('x12,x13,x14,x15,x23,x24,x25,x34,x35,x45')\n",
    "var('d1,d2,d3,d4,d5')\n",
    "var('a12,a13,a14,a15,a23,a24,a25,a34,a35,a45')\n",
    "\n",
    "load_attach_path('C:\\\\Users\\\\julia\\\\Documents\\\\unb\\\\doutorado\\\\pensar\\\\codigo_sage_v2\\\\maquina\\\\x4')\n",
    "load('out_#001110.sage')\n",
    "\n",
    "m=matrix(QQ, [[0, 1, 0, 0, 0],\n",
    "              [0, 0, 1, 0, 0],\n",
    "              [0, 0, 0, 0, 0],\n",
    "              [0, 0, 0, 0, 0],\n",
    "              [0, 0, 0, 0, 0]])\n",
    "        \n",
    "#entry of matrix: (i,j) line i collum j, means (i-1,j-1)\n",
    "sol=solve([ eq1==m[0,1],\teq2==m[0,2],\teq3==m[0,3],\teq4==m[0,4],\t\n",
    "                                            eq5==m[1,2],    eq6==m[1,3],\n",
    "                                                            eq7==m[1,4], eq8==m[2,4]],d1,d2,d3,d4,d5,a12,a13,a14,a15,a23,a24,a25,a34,a35,a45, solution_dict=True)\n",
    "\n",
    "show(m)\n",
    "show(sol)\n",
    "latex(sol)"
   ]
  },
  {
   "cell_type": "code",
   "execution_count": 14,
   "metadata": {},
   "outputs": [
    {
     "data": {
      "text/html": [
       "<html><script type=\"math/tex; mode=display\">\\newcommand{\\Bold}[1]{\\mathbf{#1}}\\left(\\begin{array}{rrrrr}\n",
       "0 & 1 & 0 & 0 & 0 \\\\\n",
       "0 & 0 & 1 & 0 & 0 \\\\\n",
       "0 & 0 & 0 & 0 & 0 \\\\\n",
       "0 & 0 & 0 & 0 & 0 \\\\\n",
       "0 & 0 & 0 & 0 & 0\n",
       "\\end{array}\\right)</script></html>"
      ],
      "text/latex": [
       "$$\\newcommand{\\Bold}[1]{\\mathbf{#1}}\\left(\\begin{array}{rrrrr}\n",
       "0 & 1 & 0 & 0 & 0 \\\\\n",
       "0 & 0 & 1 & 0 & 0 \\\\\n",
       "0 & 0 & 0 & 0 & 0 \\\\\n",
       "0 & 0 & 0 & 0 & 0 \\\\\n",
       "0 & 0 & 0 & 0 & 0\n",
       "\\end{array}\\right)$$"
      ],
      "text/plain": [
       "[0 1 0 0 0]\n",
       "[0 0 1 0 0]\n",
       "[0 0 0 0 0]\n",
       "[0 0 0 0 0]\n",
       "[0 0 0 0 0]"
      ]
     },
     "metadata": {},
     "output_type": "display_data"
    },
    {
     "data": {
      "text/html": [
       "<html><script type=\"math/tex; mode=display\">\\newcommand{\\Bold}[1]{\\mathbf{#1}}\\left[\\left\\{d_{1} : 0, d_{2} : 0, d_{3} : 0, d_{4} : r_{235}, d_{5} : r_{236}, a_{12} : r_{237}, a_{13} : r_{238}, a_{14} : r_{239}, a_{15} : r_{240}, a_{23} : r_{241}, a_{24} : r_{242}, a_{25} : r_{243}, a_{34} : 0, a_{35} : -\\frac{r_{236} x_{25}}{x_{23}}, a_{45} : r_{244}\\right\\}, \\left\\{d_{1} : r_{245}, d_{2} : \\frac{r_{245}}{x_{12}}, d_{3} : \\frac{r_{245}}{x_{12} x_{23}}, d_{4} : r_{246}, d_{5} : r_{247}, a_{12} : r_{248}, a_{13} : r_{249}, a_{14} : r_{250}, a_{15} : r_{251}, a_{23} : \\frac{r_{248} x_{12} x_{23} - r_{245} x_{13}}{x_{12}^{2} x_{23}}, a_{24} : -\\frac{r_{246} x_{14}}{x_{12}}, a_{25} : r_{252}, a_{34} : 0, a_{35} : -\\frac{r_{247} x_{25}}{x_{23}}, a_{45} : \\frac{r_{247} x_{13} x_{25} - {\\left(r_{252} x_{12} + r_{247} x_{15}\\right)} x_{23}}{x_{14} x_{23}}\\right\\}\\right]</script></html>"
      ],
      "text/latex": [
       "$$\\newcommand{\\Bold}[1]{\\mathbf{#1}}\\left[\\left\\{d_{1} : 0, d_{2} : 0, d_{3} : 0, d_{4} : r_{235}, d_{5} : r_{236}, a_{12} : r_{237}, a_{13} : r_{238}, a_{14} : r_{239}, a_{15} : r_{240}, a_{23} : r_{241}, a_{24} : r_{242}, a_{25} : r_{243}, a_{34} : 0, a_{35} : -\\frac{r_{236} x_{25}}{x_{23}}, a_{45} : r_{244}\\right\\}, \\left\\{d_{1} : r_{245}, d_{2} : \\frac{r_{245}}{x_{12}}, d_{3} : \\frac{r_{245}}{x_{12} x_{23}}, d_{4} : r_{246}, d_{5} : r_{247}, a_{12} : r_{248}, a_{13} : r_{249}, a_{14} : r_{250}, a_{15} : r_{251}, a_{23} : \\frac{r_{248} x_{12} x_{23} - r_{245} x_{13}}{x_{12}^{2} x_{23}}, a_{24} : -\\frac{r_{246} x_{14}}{x_{12}}, a_{25} : r_{252}, a_{34} : 0, a_{35} : -\\frac{r_{247} x_{25}}{x_{23}}, a_{45} : \\frac{r_{247} x_{13} x_{25} - {\\left(r_{252} x_{12} + r_{247} x_{15}\\right)} x_{23}}{x_{14} x_{23}}\\right\\}\\right]$$"
      ],
      "text/plain": [
       "[{d1: 0,\n",
       "  d2: 0,\n",
       "  d3: 0,\n",
       "  d4: r235,\n",
       "  d5: r236,\n",
       "  a12: r237,\n",
       "  a13: r238,\n",
       "  a14: r239,\n",
       "  a15: r240,\n",
       "  a23: r241,\n",
       "  a24: r242,\n",
       "  a25: r243,\n",
       "  a34: 0,\n",
       "  a35: -r236*x25/x23,\n",
       "  a45: r244},\n",
       " {d1: r245,\n",
       "  d2: r245/x12,\n",
       "  d3: r245/(x12*x23),\n",
       "  d4: r246,\n",
       "  d5: r247,\n",
       "  a12: r248,\n",
       "  a13: r249,\n",
       "  a14: r250,\n",
       "  a15: r251,\n",
       "  a23: (r248*x12*x23 - r245*x13)/(x12^2*x23),\n",
       "  a24: -r246*x14/x12,\n",
       "  a25: r252,\n",
       "  a34: 0,\n",
       "  a35: -r247*x25/x23,\n",
       "  a45: (r247*x13*x25 - (r252*x12 + r247*x15)*x23)/(x14*x23)}]"
      ]
     },
     "metadata": {},
     "output_type": "display_data"
    },
    {
     "data": {
      "text/plain": [
       "\\left[\\left\\{d_{1} : 0, d_{2} : 0, d_{3} : 0, d_{4} : r_{235}, d_{5} : r_{236}, a_{12} : r_{237}, a_{13} : r_{238}, a_{14} : r_{239}, a_{15} : r_{240}, a_{23} : r_{241}, a_{24} : r_{242}, a_{25} : r_{243}, a_{34} : 0, a_{35} : -\\frac{r_{236} x_{25}}{x_{23}}, a_{45} : r_{244}\\right\\}, \\left\\{d_{1} : r_{245}, d_{2} : \\frac{r_{245}}{x_{12}}, d_{3} : \\frac{r_{245}}{x_{12} x_{23}}, d_{4} : r_{246}, d_{5} : r_{247}, a_{12} : r_{248}, a_{13} : r_{249}, a_{14} : r_{250}, a_{15} : r_{251}, a_{23} : \\frac{r_{248} x_{12} x_{23} - r_{245} x_{13}}{x_{12}^{2} x_{23}}, a_{24} : -\\frac{r_{246} x_{14}}{x_{12}}, a_{25} : r_{252}, a_{34} : 0, a_{35} : -\\frac{r_{247} x_{25}}{x_{23}}, a_{45} : \\frac{r_{247} x_{13} x_{25} - {\\left(r_{252} x_{12} + r_{247} x_{15}\\right)} x_{23}}{x_{14} x_{23}}\\right\\}\\right]"
      ]
     },
     "execution_count": 14,
     "metadata": {},
     "output_type": "execute_result"
    }
   ],
   "source": [
    "#x4\n",
    "reset()\n",
    "\n",
    "var('x12,x13,x14,x15,x23,x24,x25,x34,x35,x45')\n",
    "var('d1,d2,d3,d4,d5')\n",
    "var('a12,a13,a14,a15,a23,a24,a25,a34,a35,a45')\n",
    "\n",
    "load_attach_path('C:\\\\Users\\\\julia\\\\Documents\\\\unb\\\\doutorado\\\\pensar\\\\codigo_sage_v2\\\\maquina\\\\x4')\n",
    "load('out_#001111.sage')\n",
    "\n",
    "m=matrix(QQ, [[0, 1, 0, 0, 0],\n",
    "              [0, 0, 1, 0, 0],\n",
    "              [0, 0, 0, 0, 0],\n",
    "              [0, 0, 0, 0, 0],\n",
    "              [0, 0, 0, 0, 0]])\n",
    "        \n",
    "#entry of matrix: (i,j) line i collum j, means (i-1,j-1)\n",
    "sol=solve([ eq1==m[0,1],\teq2==m[0,2],\teq3==m[0,3],\teq4==m[0,4],\t\n",
    "                                            eq5==m[1,2],    eq6==m[1,3],\n",
    "                                                            eq7==m[1,4], eq8==m[2,4]],d1,d2,d3,d4,d5,a12,a13,a14,a15,a23,a24,a25,a34,a35,a45, solution_dict=True)\n",
    "\n",
    "show(m)\n",
    "show(sol)\n",
    "latex(sol)"
   ]
  },
  {
   "cell_type": "code",
   "execution_count": 15,
   "metadata": {},
   "outputs": [
    {
     "data": {
      "text/html": [
       "<html><script type=\"math/tex; mode=display\">\\newcommand{\\Bold}[1]{\\mathbf{#1}}\\left(\\begin{array}{rrrrr}\n",
       "0 & 1 & 0 & 0 & 0 \\\\\n",
       "0 & 0 & 1 & 0 & 0 \\\\\n",
       "0 & 0 & 0 & 0 & 0 \\\\\n",
       "0 & 0 & 0 & 0 & 0 \\\\\n",
       "0 & 0 & 0 & 0 & 0\n",
       "\\end{array}\\right)</script></html>"
      ],
      "text/latex": [
       "$$\\newcommand{\\Bold}[1]{\\mathbf{#1}}\\left(\\begin{array}{rrrrr}\n",
       "0 & 1 & 0 & 0 & 0 \\\\\n",
       "0 & 0 & 1 & 0 & 0 \\\\\n",
       "0 & 0 & 0 & 0 & 0 \\\\\n",
       "0 & 0 & 0 & 0 & 0 \\\\\n",
       "0 & 0 & 0 & 0 & 0\n",
       "\\end{array}\\right)$$"
      ],
      "text/plain": [
       "[0 1 0 0 0]\n",
       "[0 0 1 0 0]\n",
       "[0 0 0 0 0]\n",
       "[0 0 0 0 0]\n",
       "[0 0 0 0 0]"
      ]
     },
     "metadata": {},
     "output_type": "display_data"
    },
    {
     "data": {
      "text/html": [
       "<html><script type=\"math/tex; mode=display\">\\newcommand{\\Bold}[1]{\\mathbf{#1}}\\left[\\left\\{d_{1} : 0, d_{2} : 0, d_{3} : 0, d_{4} : r_{253}, d_{5} : r_{254}, a_{12} : r_{255}, a_{13} : r_{256}, a_{14} : r_{257}, a_{15} : r_{258}, a_{23} : r_{259}, a_{24} : r_{260}, a_{25} : r_{261}, a_{34} : -\\frac{r_{253} x_{24}}{x_{23}}, a_{35} : r_{262}, a_{45} : -\\frac{r_{262} x_{23}}{x_{24}}\\right\\}, \\left\\{d_{1} : r_{263}, d_{2} : \\frac{r_{263}}{x_{12}}, d_{3} : \\frac{r_{263}}{x_{12} x_{23}}, d_{4} : r_{264}, d_{5} : r_{265}, a_{12} : r_{266}, a_{13} : r_{267}, a_{14} : r_{268}, a_{15} : r_{269}, a_{23} : \\frac{r_{266}}{x_{12}}, a_{24} : 0, a_{25} : 0, a_{34} : -\\frac{r_{264} x_{24}}{x_{23}}, a_{35} : r_{270}, a_{45} : -\\frac{r_{270} x_{23}}{x_{24}}\\right\\}\\right]</script></html>"
      ],
      "text/latex": [
       "$$\\newcommand{\\Bold}[1]{\\mathbf{#1}}\\left[\\left\\{d_{1} : 0, d_{2} : 0, d_{3} : 0, d_{4} : r_{253}, d_{5} : r_{254}, a_{12} : r_{255}, a_{13} : r_{256}, a_{14} : r_{257}, a_{15} : r_{258}, a_{23} : r_{259}, a_{24} : r_{260}, a_{25} : r_{261}, a_{34} : -\\frac{r_{253} x_{24}}{x_{23}}, a_{35} : r_{262}, a_{45} : -\\frac{r_{262} x_{23}}{x_{24}}\\right\\}, \\left\\{d_{1} : r_{263}, d_{2} : \\frac{r_{263}}{x_{12}}, d_{3} : \\frac{r_{263}}{x_{12} x_{23}}, d_{4} : r_{264}, d_{5} : r_{265}, a_{12} : r_{266}, a_{13} : r_{267}, a_{14} : r_{268}, a_{15} : r_{269}, a_{23} : \\frac{r_{266}}{x_{12}}, a_{24} : 0, a_{25} : 0, a_{34} : -\\frac{r_{264} x_{24}}{x_{23}}, a_{35} : r_{270}, a_{45} : -\\frac{r_{270} x_{23}}{x_{24}}\\right\\}\\right]$$"
      ],
      "text/plain": [
       "[{d1: 0,\n",
       "  d2: 0,\n",
       "  d3: 0,\n",
       "  d4: r253,\n",
       "  d5: r254,\n",
       "  a12: r255,\n",
       "  a13: r256,\n",
       "  a14: r257,\n",
       "  a15: r258,\n",
       "  a23: r259,\n",
       "  a24: r260,\n",
       "  a25: r261,\n",
       "  a34: -r253*x24/x23,\n",
       "  a35: r262,\n",
       "  a45: -r262*x23/x24},\n",
       " {d1: r263,\n",
       "  d2: r263/x12,\n",
       "  d3: r263/(x12*x23),\n",
       "  d4: r264,\n",
       "  d5: r265,\n",
       "  a12: r266,\n",
       "  a13: r267,\n",
       "  a14: r268,\n",
       "  a15: r269,\n",
       "  a23: r266/x12,\n",
       "  a24: 0,\n",
       "  a25: 0,\n",
       "  a34: -r264*x24/x23,\n",
       "  a35: r270,\n",
       "  a45: -r270*x23/x24}]"
      ]
     },
     "metadata": {},
     "output_type": "display_data"
    },
    {
     "data": {
      "text/plain": [
       "\\left[\\left\\{d_{1} : 0, d_{2} : 0, d_{3} : 0, d_{4} : r_{253}, d_{5} : r_{254}, a_{12} : r_{255}, a_{13} : r_{256}, a_{14} : r_{257}, a_{15} : r_{258}, a_{23} : r_{259}, a_{24} : r_{260}, a_{25} : r_{261}, a_{34} : -\\frac{r_{253} x_{24}}{x_{23}}, a_{35} : r_{262}, a_{45} : -\\frac{r_{262} x_{23}}{x_{24}}\\right\\}, \\left\\{d_{1} : r_{263}, d_{2} : \\frac{r_{263}}{x_{12}}, d_{3} : \\frac{r_{263}}{x_{12} x_{23}}, d_{4} : r_{264}, d_{5} : r_{265}, a_{12} : r_{266}, a_{13} : r_{267}, a_{14} : r_{268}, a_{15} : r_{269}, a_{23} : \\frac{r_{266}}{x_{12}}, a_{24} : 0, a_{25} : 0, a_{34} : -\\frac{r_{264} x_{24}}{x_{23}}, a_{35} : r_{270}, a_{45} : -\\frac{r_{270} x_{23}}{x_{24}}\\right\\}\\right]"
      ]
     },
     "execution_count": 15,
     "metadata": {},
     "output_type": "execute_result"
    }
   ],
   "source": [
    "#x4\n",
    "reset()\n",
    "\n",
    "var('x12,x13,x14,x15,x23,x24,x25,x34,x35,x45')\n",
    "var('d1,d2,d3,d4,d5')\n",
    "var('a12,a13,a14,a15,a23,a24,a25,a34,a35,a45')\n",
    "\n",
    "load_attach_path('C:\\\\Users\\\\julia\\\\Documents\\\\unb\\\\doutorado\\\\pensar\\\\codigo_sage_v2\\\\maquina\\\\x4')\n",
    "load('out_#010000.sage')\n",
    "\n",
    "m=matrix(QQ, [[0, 1, 0, 0, 0],\n",
    "              [0, 0, 1, 0, 0],\n",
    "              [0, 0, 0, 0, 0],\n",
    "              [0, 0, 0, 0, 0],\n",
    "              [0, 0, 0, 0, 0]])\n",
    "        \n",
    "#entry of matrix: (i,j) line i collum j, means (i-1,j-1)\n",
    "sol=solve([ eq1==m[0,1],\teq2==m[0,2],\teq3==m[0,3],\teq4==m[0,4],\t\n",
    "                                            eq5==m[1,2],    eq6==m[1,3],\n",
    "                                                            eq7==m[1,4], eq8==m[2,4]],d1,d2,d3,d4,d5,a12,a13,a14,a15,a23,a24,a25,a34,a35,a45, solution_dict=True)\n",
    "\n",
    "show(m)\n",
    "show(sol)\n",
    "latex(sol)"
   ]
  },
  {
   "cell_type": "code",
   "execution_count": 16,
   "metadata": {},
   "outputs": [
    {
     "data": {
      "text/html": [
       "<html><script type=\"math/tex; mode=display\">\\newcommand{\\Bold}[1]{\\mathbf{#1}}\\left(\\begin{array}{rrrrr}\n",
       "0 & 1 & 0 & 0 & 0 \\\\\n",
       "0 & 0 & 1 & 0 & 0 \\\\\n",
       "0 & 0 & 0 & 0 & 0 \\\\\n",
       "0 & 0 & 0 & 0 & 0 \\\\\n",
       "0 & 0 & 0 & 0 & 0\n",
       "\\end{array}\\right)</script></html>"
      ],
      "text/latex": [
       "$$\\newcommand{\\Bold}[1]{\\mathbf{#1}}\\left(\\begin{array}{rrrrr}\n",
       "0 & 1 & 0 & 0 & 0 \\\\\n",
       "0 & 0 & 1 & 0 & 0 \\\\\n",
       "0 & 0 & 0 & 0 & 0 \\\\\n",
       "0 & 0 & 0 & 0 & 0 \\\\\n",
       "0 & 0 & 0 & 0 & 0\n",
       "\\end{array}\\right)$$"
      ],
      "text/plain": [
       "[0 1 0 0 0]\n",
       "[0 0 1 0 0]\n",
       "[0 0 0 0 0]\n",
       "[0 0 0 0 0]\n",
       "[0 0 0 0 0]"
      ]
     },
     "metadata": {},
     "output_type": "display_data"
    },
    {
     "data": {
      "text/html": [
       "<html><script type=\"math/tex; mode=display\">\\newcommand{\\Bold}[1]{\\mathbf{#1}}\\left[\\left\\{d_{1} : 0, d_{2} : 0, d_{3} : 0, d_{4} : r_{271}, d_{5} : r_{272}, a_{12} : r_{273}, a_{13} : r_{274}, a_{14} : r_{275}, a_{15} : r_{276}, a_{23} : r_{277}, a_{24} : r_{278}, a_{25} : r_{279}, a_{34} : -\\frac{r_{271} x_{24}}{x_{23}}, a_{35} : r_{280}, a_{45} : -\\frac{r_{280} x_{23}}{x_{24}}\\right\\}, \\left\\{d_{1} : r_{281}, d_{2} : \\frac{r_{281}}{x_{12}}, d_{3} : \\frac{r_{281}}{x_{12} x_{23}}, d_{4} : r_{282}, d_{5} : r_{283}, a_{12} : r_{284}, a_{13} : r_{285}, a_{14} : r_{286}, a_{15} : r_{287}, a_{23} : \\frac{r_{284}}{x_{12}}, a_{24} : 0, a_{25} : -\\frac{r_{283} x_{15}}{x_{12}}, a_{34} : -\\frac{r_{282} x_{24}}{x_{23}}, a_{35} : r_{288}, a_{45} : -\\frac{r_{288} x_{23}}{x_{24}}\\right\\}\\right]</script></html>"
      ],
      "text/latex": [
       "$$\\newcommand{\\Bold}[1]{\\mathbf{#1}}\\left[\\left\\{d_{1} : 0, d_{2} : 0, d_{3} : 0, d_{4} : r_{271}, d_{5} : r_{272}, a_{12} : r_{273}, a_{13} : r_{274}, a_{14} : r_{275}, a_{15} : r_{276}, a_{23} : r_{277}, a_{24} : r_{278}, a_{25} : r_{279}, a_{34} : -\\frac{r_{271} x_{24}}{x_{23}}, a_{35} : r_{280}, a_{45} : -\\frac{r_{280} x_{23}}{x_{24}}\\right\\}, \\left\\{d_{1} : r_{281}, d_{2} : \\frac{r_{281}}{x_{12}}, d_{3} : \\frac{r_{281}}{x_{12} x_{23}}, d_{4} : r_{282}, d_{5} : r_{283}, a_{12} : r_{284}, a_{13} : r_{285}, a_{14} : r_{286}, a_{15} : r_{287}, a_{23} : \\frac{r_{284}}{x_{12}}, a_{24} : 0, a_{25} : -\\frac{r_{283} x_{15}}{x_{12}}, a_{34} : -\\frac{r_{282} x_{24}}{x_{23}}, a_{35} : r_{288}, a_{45} : -\\frac{r_{288} x_{23}}{x_{24}}\\right\\}\\right]$$"
      ],
      "text/plain": [
       "[{d1: 0,\n",
       "  d2: 0,\n",
       "  d3: 0,\n",
       "  d4: r271,\n",
       "  d5: r272,\n",
       "  a12: r273,\n",
       "  a13: r274,\n",
       "  a14: r275,\n",
       "  a15: r276,\n",
       "  a23: r277,\n",
       "  a24: r278,\n",
       "  a25: r279,\n",
       "  a34: -r271*x24/x23,\n",
       "  a35: r280,\n",
       "  a45: -r280*x23/x24},\n",
       " {d1: r281,\n",
       "  d2: r281/x12,\n",
       "  d3: r281/(x12*x23),\n",
       "  d4: r282,\n",
       "  d5: r283,\n",
       "  a12: r284,\n",
       "  a13: r285,\n",
       "  a14: r286,\n",
       "  a15: r287,\n",
       "  a23: r284/x12,\n",
       "  a24: 0,\n",
       "  a25: -r283*x15/x12,\n",
       "  a34: -r282*x24/x23,\n",
       "  a35: r288,\n",
       "  a45: -r288*x23/x24}]"
      ]
     },
     "metadata": {},
     "output_type": "display_data"
    },
    {
     "data": {
      "text/plain": [
       "\\left[\\left\\{d_{1} : 0, d_{2} : 0, d_{3} : 0, d_{4} : r_{271}, d_{5} : r_{272}, a_{12} : r_{273}, a_{13} : r_{274}, a_{14} : r_{275}, a_{15} : r_{276}, a_{23} : r_{277}, a_{24} : r_{278}, a_{25} : r_{279}, a_{34} : -\\frac{r_{271} x_{24}}{x_{23}}, a_{35} : r_{280}, a_{45} : -\\frac{r_{280} x_{23}}{x_{24}}\\right\\}, \\left\\{d_{1} : r_{281}, d_{2} : \\frac{r_{281}}{x_{12}}, d_{3} : \\frac{r_{281}}{x_{12} x_{23}}, d_{4} : r_{282}, d_{5} : r_{283}, a_{12} : r_{284}, a_{13} : r_{285}, a_{14} : r_{286}, a_{15} : r_{287}, a_{23} : \\frac{r_{284}}{x_{12}}, a_{24} : 0, a_{25} : -\\frac{r_{283} x_{15}}{x_{12}}, a_{34} : -\\frac{r_{282} x_{24}}{x_{23}}, a_{35} : r_{288}, a_{45} : -\\frac{r_{288} x_{23}}{x_{24}}\\right\\}\\right]"
      ]
     },
     "execution_count": 16,
     "metadata": {},
     "output_type": "execute_result"
    }
   ],
   "source": [
    "#x4\n",
    "reset()\n",
    "\n",
    "var('x12,x13,x14,x15,x23,x24,x25,x34,x35,x45')\n",
    "var('d1,d2,d3,d4,d5')\n",
    "var('a12,a13,a14,a15,a23,a24,a25,a34,a35,a45')\n",
    "\n",
    "load_attach_path('C:\\\\Users\\\\julia\\\\Documents\\\\unb\\\\doutorado\\\\pensar\\\\codigo_sage_v2\\\\maquina\\\\x4')\n",
    "load('out_#010001.sage')\n",
    "\n",
    "m=matrix(QQ, [[0, 1, 0, 0, 0],\n",
    "              [0, 0, 1, 0, 0],\n",
    "              [0, 0, 0, 0, 0],\n",
    "              [0, 0, 0, 0, 0],\n",
    "              [0, 0, 0, 0, 0]])\n",
    "        \n",
    "#entry of matrix: (i,j) line i collum j, means (i-1,j-1)\n",
    "sol=solve([ eq1==m[0,1],\teq2==m[0,2],\teq3==m[0,3],\teq4==m[0,4],\t\n",
    "                                            eq5==m[1,2],    eq6==m[1,3],\n",
    "                                                            eq7==m[1,4], eq8==m[2,4]],d1,d2,d3,d4,d5,a12,a13,a14,a15,a23,a24,a25,a34,a35,a45, solution_dict=True)\n",
    "\n",
    "show(m)\n",
    "show(sol)\n",
    "latex(sol)"
   ]
  },
  {
   "cell_type": "code",
   "execution_count": 17,
   "metadata": {},
   "outputs": [
    {
     "data": {
      "text/html": [
       "<html><script type=\"math/tex; mode=display\">\\newcommand{\\Bold}[1]{\\mathbf{#1}}\\left(\\begin{array}{rrrrr}\n",
       "0 & 1 & 0 & 0 & 0 \\\\\n",
       "0 & 0 & 1 & 0 & 0 \\\\\n",
       "0 & 0 & 0 & 0 & 0 \\\\\n",
       "0 & 0 & 0 & 0 & 0 \\\\\n",
       "0 & 0 & 0 & 0 & 0\n",
       "\\end{array}\\right)</script></html>"
      ],
      "text/latex": [
       "$$\\newcommand{\\Bold}[1]{\\mathbf{#1}}\\left(\\begin{array}{rrrrr}\n",
       "0 & 1 & 0 & 0 & 0 \\\\\n",
       "0 & 0 & 1 & 0 & 0 \\\\\n",
       "0 & 0 & 0 & 0 & 0 \\\\\n",
       "0 & 0 & 0 & 0 & 0 \\\\\n",
       "0 & 0 & 0 & 0 & 0\n",
       "\\end{array}\\right)$$"
      ],
      "text/plain": [
       "[0 1 0 0 0]\n",
       "[0 0 1 0 0]\n",
       "[0 0 0 0 0]\n",
       "[0 0 0 0 0]\n",
       "[0 0 0 0 0]"
      ]
     },
     "metadata": {},
     "output_type": "display_data"
    },
    {
     "data": {
      "text/html": [
       "<html><script type=\"math/tex; mode=display\">\\newcommand{\\Bold}[1]{\\mathbf{#1}}\\left[\\left\\{d_{1} : 0, d_{2} : 0, d_{3} : 0, d_{4} : r_{289}, d_{5} : r_{290}, a_{12} : r_{291}, a_{13} : r_{292}, a_{14} : r_{293}, a_{15} : r_{294}, a_{23} : r_{295}, a_{24} : r_{296}, a_{25} : r_{297}, a_{34} : -\\frac{r_{289} x_{24}}{x_{23}}, a_{35} : r_{298}, a_{45} : -\\frac{r_{298} x_{23}}{x_{24}}\\right\\}, \\left\\{d_{1} : r_{299}, d_{2} : \\frac{r_{299}}{x_{12}}, d_{3} : \\frac{r_{299}}{x_{12} x_{23}}, d_{4} : r_{300}, d_{5} : r_{301}, a_{12} : r_{302}, a_{13} : r_{303}, a_{14} : r_{304}, a_{15} : r_{305}, a_{23} : \\frac{r_{302}}{x_{12}}, a_{24} : -\\frac{r_{300} x_{14}}{x_{12}}, a_{25} : r_{306}, a_{34} : -\\frac{r_{300} x_{24}}{x_{23}}, a_{35} : \\frac{r_{306} x_{12} x_{24}}{x_{14} x_{23}}, a_{45} : -\\frac{r_{306} x_{12}}{x_{14}}\\right\\}\\right]</script></html>"
      ],
      "text/latex": [
       "$$\\newcommand{\\Bold}[1]{\\mathbf{#1}}\\left[\\left\\{d_{1} : 0, d_{2} : 0, d_{3} : 0, d_{4} : r_{289}, d_{5} : r_{290}, a_{12} : r_{291}, a_{13} : r_{292}, a_{14} : r_{293}, a_{15} : r_{294}, a_{23} : r_{295}, a_{24} : r_{296}, a_{25} : r_{297}, a_{34} : -\\frac{r_{289} x_{24}}{x_{23}}, a_{35} : r_{298}, a_{45} : -\\frac{r_{298} x_{23}}{x_{24}}\\right\\}, \\left\\{d_{1} : r_{299}, d_{2} : \\frac{r_{299}}{x_{12}}, d_{3} : \\frac{r_{299}}{x_{12} x_{23}}, d_{4} : r_{300}, d_{5} : r_{301}, a_{12} : r_{302}, a_{13} : r_{303}, a_{14} : r_{304}, a_{15} : r_{305}, a_{23} : \\frac{r_{302}}{x_{12}}, a_{24} : -\\frac{r_{300} x_{14}}{x_{12}}, a_{25} : r_{306}, a_{34} : -\\frac{r_{300} x_{24}}{x_{23}}, a_{35} : \\frac{r_{306} x_{12} x_{24}}{x_{14} x_{23}}, a_{45} : -\\frac{r_{306} x_{12}}{x_{14}}\\right\\}\\right]$$"
      ],
      "text/plain": [
       "[{d1: 0,\n",
       "  d2: 0,\n",
       "  d3: 0,\n",
       "  d4: r289,\n",
       "  d5: r290,\n",
       "  a12: r291,\n",
       "  a13: r292,\n",
       "  a14: r293,\n",
       "  a15: r294,\n",
       "  a23: r295,\n",
       "  a24: r296,\n",
       "  a25: r297,\n",
       "  a34: -r289*x24/x23,\n",
       "  a35: r298,\n",
       "  a45: -r298*x23/x24},\n",
       " {d1: r299,\n",
       "  d2: r299/x12,\n",
       "  d3: r299/(x12*x23),\n",
       "  d4: r300,\n",
       "  d5: r301,\n",
       "  a12: r302,\n",
       "  a13: r303,\n",
       "  a14: r304,\n",
       "  a15: r305,\n",
       "  a23: r302/x12,\n",
       "  a24: -r300*x14/x12,\n",
       "  a25: r306,\n",
       "  a34: -r300*x24/x23,\n",
       "  a35: r306*x12*x24/(x14*x23),\n",
       "  a45: -r306*x12/x14}]"
      ]
     },
     "metadata": {},
     "output_type": "display_data"
    },
    {
     "data": {
      "text/plain": [
       "\\left[\\left\\{d_{1} : 0, d_{2} : 0, d_{3} : 0, d_{4} : r_{289}, d_{5} : r_{290}, a_{12} : r_{291}, a_{13} : r_{292}, a_{14} : r_{293}, a_{15} : r_{294}, a_{23} : r_{295}, a_{24} : r_{296}, a_{25} : r_{297}, a_{34} : -\\frac{r_{289} x_{24}}{x_{23}}, a_{35} : r_{298}, a_{45} : -\\frac{r_{298} x_{23}}{x_{24}}\\right\\}, \\left\\{d_{1} : r_{299}, d_{2} : \\frac{r_{299}}{x_{12}}, d_{3} : \\frac{r_{299}}{x_{12} x_{23}}, d_{4} : r_{300}, d_{5} : r_{301}, a_{12} : r_{302}, a_{13} : r_{303}, a_{14} : r_{304}, a_{15} : r_{305}, a_{23} : \\frac{r_{302}}{x_{12}}, a_{24} : -\\frac{r_{300} x_{14}}{x_{12}}, a_{25} : r_{306}, a_{34} : -\\frac{r_{300} x_{24}}{x_{23}}, a_{35} : \\frac{r_{306} x_{12} x_{24}}{x_{14} x_{23}}, a_{45} : -\\frac{r_{306} x_{12}}{x_{14}}\\right\\}\\right]"
      ]
     },
     "execution_count": 17,
     "metadata": {},
     "output_type": "execute_result"
    }
   ],
   "source": [
    "#x4\n",
    "reset()\n",
    "\n",
    "var('x12,x13,x14,x15,x23,x24,x25,x34,x35,x45')\n",
    "var('d1,d2,d3,d4,d5')\n",
    "var('a12,a13,a14,a15,a23,a24,a25,a34,a35,a45')\n",
    "\n",
    "load_attach_path('C:\\\\Users\\\\julia\\\\Documents\\\\unb\\\\doutorado\\\\pensar\\\\codigo_sage_v2\\\\maquina\\\\x4')\n",
    "load('out_#010010.sage')\n",
    "\n",
    "m=matrix(QQ, [[0, 1, 0, 0, 0],\n",
    "              [0, 0, 1, 0, 0],\n",
    "              [0, 0, 0, 0, 0],\n",
    "              [0, 0, 0, 0, 0],\n",
    "              [0, 0, 0, 0, 0]])\n",
    "        \n",
    "#entry of matrix: (i,j) line i collum j, means (i-1,j-1)\n",
    "sol=solve([ eq1==m[0,1],\teq2==m[0,2],\teq3==m[0,3],\teq4==m[0,4],\t\n",
    "                                            eq5==m[1,2],    eq6==m[1,3],\n",
    "                                                            eq7==m[1,4], eq8==m[2,4]],d1,d2,d3,d4,d5,a12,a13,a14,a15,a23,a24,a25,a34,a35,a45, solution_dict=True)\n",
    "\n",
    "show(m)\n",
    "show(sol)\n",
    "latex(sol)"
   ]
  },
  {
   "cell_type": "code",
   "execution_count": 18,
   "metadata": {},
   "outputs": [
    {
     "data": {
      "text/html": [
       "<html><script type=\"math/tex; mode=display\">\\newcommand{\\Bold}[1]{\\mathbf{#1}}\\left(\\begin{array}{rrrrr}\n",
       "0 & 1 & 0 & 0 & 0 \\\\\n",
       "0 & 0 & 1 & 0 & 0 \\\\\n",
       "0 & 0 & 0 & 0 & 0 \\\\\n",
       "0 & 0 & 0 & 0 & 0 \\\\\n",
       "0 & 0 & 0 & 0 & 0\n",
       "\\end{array}\\right)</script></html>"
      ],
      "text/latex": [
       "$$\\newcommand{\\Bold}[1]{\\mathbf{#1}}\\left(\\begin{array}{rrrrr}\n",
       "0 & 1 & 0 & 0 & 0 \\\\\n",
       "0 & 0 & 1 & 0 & 0 \\\\\n",
       "0 & 0 & 0 & 0 & 0 \\\\\n",
       "0 & 0 & 0 & 0 & 0 \\\\\n",
       "0 & 0 & 0 & 0 & 0\n",
       "\\end{array}\\right)$$"
      ],
      "text/plain": [
       "[0 1 0 0 0]\n",
       "[0 0 1 0 0]\n",
       "[0 0 0 0 0]\n",
       "[0 0 0 0 0]\n",
       "[0 0 0 0 0]"
      ]
     },
     "metadata": {},
     "output_type": "display_data"
    },
    {
     "data": {
      "text/html": [
       "<html><script type=\"math/tex; mode=display\">\\newcommand{\\Bold}[1]{\\mathbf{#1}}\\left[\\left\\{d_{1} : 0, d_{2} : 0, d_{3} : 0, d_{4} : r_{307}, d_{5} : r_{308}, a_{12} : r_{309}, a_{13} : r_{310}, a_{14} : r_{311}, a_{15} : r_{312}, a_{23} : r_{313}, a_{24} : r_{314}, a_{25} : r_{315}, a_{34} : -\\frac{r_{307} x_{24}}{x_{23}}, a_{35} : r_{316}, a_{45} : -\\frac{r_{316} x_{23}}{x_{24}}\\right\\}, \\left\\{d_{1} : r_{317}, d_{2} : \\frac{r_{317}}{x_{12}}, d_{3} : \\frac{r_{317}}{x_{12} x_{23}}, d_{4} : r_{318}, d_{5} : r_{319}, a_{12} : r_{320}, a_{13} : r_{321}, a_{14} : r_{322}, a_{15} : r_{323}, a_{23} : \\frac{r_{320}}{x_{12}}, a_{24} : -\\frac{r_{318} x_{14}}{x_{12}}, a_{25} : r_{324}, a_{34} : -\\frac{r_{318} x_{24}}{x_{23}}, a_{35} : \\frac{{\\left(r_{324} x_{12} + r_{319} x_{15}\\right)} x_{24}}{x_{14} x_{23}}, a_{45} : -\\frac{r_{324} x_{12} + r_{319} x_{15}}{x_{14}}\\right\\}\\right]</script></html>"
      ],
      "text/latex": [
       "$$\\newcommand{\\Bold}[1]{\\mathbf{#1}}\\left[\\left\\{d_{1} : 0, d_{2} : 0, d_{3} : 0, d_{4} : r_{307}, d_{5} : r_{308}, a_{12} : r_{309}, a_{13} : r_{310}, a_{14} : r_{311}, a_{15} : r_{312}, a_{23} : r_{313}, a_{24} : r_{314}, a_{25} : r_{315}, a_{34} : -\\frac{r_{307} x_{24}}{x_{23}}, a_{35} : r_{316}, a_{45} : -\\frac{r_{316} x_{23}}{x_{24}}\\right\\}, \\left\\{d_{1} : r_{317}, d_{2} : \\frac{r_{317}}{x_{12}}, d_{3} : \\frac{r_{317}}{x_{12} x_{23}}, d_{4} : r_{318}, d_{5} : r_{319}, a_{12} : r_{320}, a_{13} : r_{321}, a_{14} : r_{322}, a_{15} : r_{323}, a_{23} : \\frac{r_{320}}{x_{12}}, a_{24} : -\\frac{r_{318} x_{14}}{x_{12}}, a_{25} : r_{324}, a_{34} : -\\frac{r_{318} x_{24}}{x_{23}}, a_{35} : \\frac{{\\left(r_{324} x_{12} + r_{319} x_{15}\\right)} x_{24}}{x_{14} x_{23}}, a_{45} : -\\frac{r_{324} x_{12} + r_{319} x_{15}}{x_{14}}\\right\\}\\right]$$"
      ],
      "text/plain": [
       "[{d1: 0,\n",
       "  d2: 0,\n",
       "  d3: 0,\n",
       "  d4: r307,\n",
       "  d5: r308,\n",
       "  a12: r309,\n",
       "  a13: r310,\n",
       "  a14: r311,\n",
       "  a15: r312,\n",
       "  a23: r313,\n",
       "  a24: r314,\n",
       "  a25: r315,\n",
       "  a34: -r307*x24/x23,\n",
       "  a35: r316,\n",
       "  a45: -r316*x23/x24},\n",
       " {d1: r317,\n",
       "  d2: r317/x12,\n",
       "  d3: r317/(x12*x23),\n",
       "  d4: r318,\n",
       "  d5: r319,\n",
       "  a12: r320,\n",
       "  a13: r321,\n",
       "  a14: r322,\n",
       "  a15: r323,\n",
       "  a23: r320/x12,\n",
       "  a24: -r318*x14/x12,\n",
       "  a25: r324,\n",
       "  a34: -r318*x24/x23,\n",
       "  a35: (r324*x12 + r319*x15)*x24/(x14*x23),\n",
       "  a45: -(r324*x12 + r319*x15)/x14}]"
      ]
     },
     "metadata": {},
     "output_type": "display_data"
    },
    {
     "data": {
      "text/plain": [
       "\\left[\\left\\{d_{1} : 0, d_{2} : 0, d_{3} : 0, d_{4} : r_{307}, d_{5} : r_{308}, a_{12} : r_{309}, a_{13} : r_{310}, a_{14} : r_{311}, a_{15} : r_{312}, a_{23} : r_{313}, a_{24} : r_{314}, a_{25} : r_{315}, a_{34} : -\\frac{r_{307} x_{24}}{x_{23}}, a_{35} : r_{316}, a_{45} : -\\frac{r_{316} x_{23}}{x_{24}}\\right\\}, \\left\\{d_{1} : r_{317}, d_{2} : \\frac{r_{317}}{x_{12}}, d_{3} : \\frac{r_{317}}{x_{12} x_{23}}, d_{4} : r_{318}, d_{5} : r_{319}, a_{12} : r_{320}, a_{13} : r_{321}, a_{14} : r_{322}, a_{15} : r_{323}, a_{23} : \\frac{r_{320}}{x_{12}}, a_{24} : -\\frac{r_{318} x_{14}}{x_{12}}, a_{25} : r_{324}, a_{34} : -\\frac{r_{318} x_{24}}{x_{23}}, a_{35} : \\frac{{\\left(r_{324} x_{12} + r_{319} x_{15}\\right)} x_{24}}{x_{14} x_{23}}, a_{45} : -\\frac{r_{324} x_{12} + r_{319} x_{15}}{x_{14}}\\right\\}\\right]"
      ]
     },
     "execution_count": 18,
     "metadata": {},
     "output_type": "execute_result"
    }
   ],
   "source": [
    "#x4\n",
    "reset()\n",
    "\n",
    "var('x12,x13,x14,x15,x23,x24,x25,x34,x35,x45')\n",
    "var('d1,d2,d3,d4,d5')\n",
    "var('a12,a13,a14,a15,a23,a24,a25,a34,a35,a45')\n",
    "\n",
    "load_attach_path('C:\\\\Users\\\\julia\\\\Documents\\\\unb\\\\doutorado\\\\pensar\\\\codigo_sage_v2\\\\maquina\\\\x4')\n",
    "load('out_#010011.sage')\n",
    "\n",
    "m=matrix(QQ, [[0, 1, 0, 0, 0],\n",
    "              [0, 0, 1, 0, 0],\n",
    "              [0, 0, 0, 0, 0],\n",
    "              [0, 0, 0, 0, 0],\n",
    "              [0, 0, 0, 0, 0]])\n",
    "        \n",
    "#entry of matrix: (i,j) line i collum j, means (i-1,j-1)\n",
    "sol=solve([ eq1==m[0,1],\teq2==m[0,2],\teq3==m[0,3],\teq4==m[0,4],\t\n",
    "                                            eq5==m[1,2],    eq6==m[1,3],\n",
    "                                                            eq7==m[1,4], eq8==m[2,4]],d1,d2,d3,d4,d5,a12,a13,a14,a15,a23,a24,a25,a34,a35,a45, solution_dict=True)\n",
    "\n",
    "show(m)\n",
    "show(sol)\n",
    "latex(sol)"
   ]
  },
  {
   "cell_type": "code",
   "execution_count": 19,
   "metadata": {},
   "outputs": [
    {
     "data": {
      "text/html": [
       "<html><script type=\"math/tex; mode=display\">\\newcommand{\\Bold}[1]{\\mathbf{#1}}\\left(\\begin{array}{rrrrr}\n",
       "0 & 1 & 0 & 0 & 0 \\\\\n",
       "0 & 0 & 1 & 0 & 0 \\\\\n",
       "0 & 0 & 0 & 0 & 0 \\\\\n",
       "0 & 0 & 0 & 0 & 0 \\\\\n",
       "0 & 0 & 0 & 0 & 0\n",
       "\\end{array}\\right)</script></html>"
      ],
      "text/latex": [
       "$$\\newcommand{\\Bold}[1]{\\mathbf{#1}}\\left(\\begin{array}{rrrrr}\n",
       "0 & 1 & 0 & 0 & 0 \\\\\n",
       "0 & 0 & 1 & 0 & 0 \\\\\n",
       "0 & 0 & 0 & 0 & 0 \\\\\n",
       "0 & 0 & 0 & 0 & 0 \\\\\n",
       "0 & 0 & 0 & 0 & 0\n",
       "\\end{array}\\right)$$"
      ],
      "text/plain": [
       "[0 1 0 0 0]\n",
       "[0 0 1 0 0]\n",
       "[0 0 0 0 0]\n",
       "[0 0 0 0 0]\n",
       "[0 0 0 0 0]"
      ]
     },
     "metadata": {},
     "output_type": "display_data"
    },
    {
     "data": {
      "text/html": [
       "<html><script type=\"math/tex; mode=display\">\\newcommand{\\Bold}[1]{\\mathbf{#1}}\\left[\\left\\{d_{1} : 0, d_{2} : 0, d_{3} : 0, d_{4} : r_{325}, d_{5} : r_{326}, a_{12} : r_{327}, a_{13} : r_{328}, a_{14} : r_{329}, a_{15} : r_{330}, a_{23} : r_{331}, a_{24} : r_{332}, a_{25} : r_{333}, a_{34} : -\\frac{r_{325} x_{24}}{x_{23}}, a_{35} : r_{334}, a_{45} : -\\frac{r_{334} x_{23}}{x_{24}}\\right\\}, \\left\\{d_{1} : r_{335}, d_{2} : \\frac{r_{335}}{x_{12}}, d_{3} : \\frac{r_{335}}{x_{12} x_{23}}, d_{4} : r_{336}, d_{5} : r_{337}, a_{12} : r_{338}, a_{13} : r_{339}, a_{14} : r_{340}, a_{15} : r_{341}, a_{23} : \\frac{r_{338} x_{12} x_{23} - r_{335} x_{13}}{x_{12}^{2} x_{23}}, a_{24} : \\frac{r_{336} x_{13} x_{24}}{x_{12} x_{23}}, a_{25} : r_{342}, a_{34} : -\\frac{r_{336} x_{24}}{x_{23}}, a_{35} : -\\frac{r_{342} x_{12}}{x_{13}}, a_{45} : \\frac{r_{342} x_{12} x_{23}}{x_{13} x_{24}}\\right\\}\\right]</script></html>"
      ],
      "text/latex": [
       "$$\\newcommand{\\Bold}[1]{\\mathbf{#1}}\\left[\\left\\{d_{1} : 0, d_{2} : 0, d_{3} : 0, d_{4} : r_{325}, d_{5} : r_{326}, a_{12} : r_{327}, a_{13} : r_{328}, a_{14} : r_{329}, a_{15} : r_{330}, a_{23} : r_{331}, a_{24} : r_{332}, a_{25} : r_{333}, a_{34} : -\\frac{r_{325} x_{24}}{x_{23}}, a_{35} : r_{334}, a_{45} : -\\frac{r_{334} x_{23}}{x_{24}}\\right\\}, \\left\\{d_{1} : r_{335}, d_{2} : \\frac{r_{335}}{x_{12}}, d_{3} : \\frac{r_{335}}{x_{12} x_{23}}, d_{4} : r_{336}, d_{5} : r_{337}, a_{12} : r_{338}, a_{13} : r_{339}, a_{14} : r_{340}, a_{15} : r_{341}, a_{23} : \\frac{r_{338} x_{12} x_{23} - r_{335} x_{13}}{x_{12}^{2} x_{23}}, a_{24} : \\frac{r_{336} x_{13} x_{24}}{x_{12} x_{23}}, a_{25} : r_{342}, a_{34} : -\\frac{r_{336} x_{24}}{x_{23}}, a_{35} : -\\frac{r_{342} x_{12}}{x_{13}}, a_{45} : \\frac{r_{342} x_{12} x_{23}}{x_{13} x_{24}}\\right\\}\\right]$$"
      ],
      "text/plain": [
       "[{d1: 0,\n",
       "  d2: 0,\n",
       "  d3: 0,\n",
       "  d4: r325,\n",
       "  d5: r326,\n",
       "  a12: r327,\n",
       "  a13: r328,\n",
       "  a14: r329,\n",
       "  a15: r330,\n",
       "  a23: r331,\n",
       "  a24: r332,\n",
       "  a25: r333,\n",
       "  a34: -r325*x24/x23,\n",
       "  a35: r334,\n",
       "  a45: -r334*x23/x24},\n",
       " {d1: r335,\n",
       "  d2: r335/x12,\n",
       "  d3: r335/(x12*x23),\n",
       "  d4: r336,\n",
       "  d5: r337,\n",
       "  a12: r338,\n",
       "  a13: r339,\n",
       "  a14: r340,\n",
       "  a15: r341,\n",
       "  a23: (r338*x12*x23 - r335*x13)/(x12^2*x23),\n",
       "  a24: r336*x13*x24/(x12*x23),\n",
       "  a25: r342,\n",
       "  a34: -r336*x24/x23,\n",
       "  a35: -r342*x12/x13,\n",
       "  a45: r342*x12*x23/(x13*x24)}]"
      ]
     },
     "metadata": {},
     "output_type": "display_data"
    },
    {
     "data": {
      "text/plain": [
       "\\left[\\left\\{d_{1} : 0, d_{2} : 0, d_{3} : 0, d_{4} : r_{325}, d_{5} : r_{326}, a_{12} : r_{327}, a_{13} : r_{328}, a_{14} : r_{329}, a_{15} : r_{330}, a_{23} : r_{331}, a_{24} : r_{332}, a_{25} : r_{333}, a_{34} : -\\frac{r_{325} x_{24}}{x_{23}}, a_{35} : r_{334}, a_{45} : -\\frac{r_{334} x_{23}}{x_{24}}\\right\\}, \\left\\{d_{1} : r_{335}, d_{2} : \\frac{r_{335}}{x_{12}}, d_{3} : \\frac{r_{335}}{x_{12} x_{23}}, d_{4} : r_{336}, d_{5} : r_{337}, a_{12} : r_{338}, a_{13} : r_{339}, a_{14} : r_{340}, a_{15} : r_{341}, a_{23} : \\frac{r_{338} x_{12} x_{23} - r_{335} x_{13}}{x_{12}^{2} x_{23}}, a_{24} : \\frac{r_{336} x_{13} x_{24}}{x_{12} x_{23}}, a_{25} : r_{342}, a_{34} : -\\frac{r_{336} x_{24}}{x_{23}}, a_{35} : -\\frac{r_{342} x_{12}}{x_{13}}, a_{45} : \\frac{r_{342} x_{12} x_{23}}{x_{13} x_{24}}\\right\\}\\right]"
      ]
     },
     "execution_count": 19,
     "metadata": {},
     "output_type": "execute_result"
    }
   ],
   "source": [
    "#x4\n",
    "reset()\n",
    "\n",
    "var('x12,x13,x14,x15,x23,x24,x25,x34,x35,x45')\n",
    "var('d1,d2,d3,d4,d5')\n",
    "var('a12,a13,a14,a15,a23,a24,a25,a34,a35,a45')\n",
    "\n",
    "load_attach_path('C:\\\\Users\\\\julia\\\\Documents\\\\unb\\\\doutorado\\\\pensar\\\\codigo_sage_v2\\\\maquina\\\\x4')\n",
    "load('out_#010100.sage')\n",
    "\n",
    "m=matrix(QQ, [[0, 1, 0, 0, 0],\n",
    "              [0, 0, 1, 0, 0],\n",
    "              [0, 0, 0, 0, 0],\n",
    "              [0, 0, 0, 0, 0],\n",
    "              [0, 0, 0, 0, 0]])\n",
    "        \n",
    "#entry of matrix: (i,j) line i collum j, means (i-1,j-1)\n",
    "sol=solve([ eq1==m[0,1],\teq2==m[0,2],\teq3==m[0,3],\teq4==m[0,4],\t\n",
    "                                            eq5==m[1,2],    eq6==m[1,3],\n",
    "                                                            eq7==m[1,4], eq8==m[2,4]],d1,d2,d3,d4,d5,a12,a13,a14,a15,a23,a24,a25,a34,a35,a45, solution_dict=True)\n",
    "\n",
    "show(m)\n",
    "show(sol)\n",
    "latex(sol)"
   ]
  },
  {
   "cell_type": "code",
   "execution_count": 20,
   "metadata": {},
   "outputs": [
    {
     "data": {
      "text/html": [
       "<html><script type=\"math/tex; mode=display\">\\newcommand{\\Bold}[1]{\\mathbf{#1}}\\left(\\begin{array}{rrrrr}\n",
       "0 & 1 & 0 & 0 & 0 \\\\\n",
       "0 & 0 & 1 & 0 & 0 \\\\\n",
       "0 & 0 & 0 & 0 & 0 \\\\\n",
       "0 & 0 & 0 & 0 & 0 \\\\\n",
       "0 & 0 & 0 & 0 & 0\n",
       "\\end{array}\\right)</script></html>"
      ],
      "text/latex": [
       "$$\\newcommand{\\Bold}[1]{\\mathbf{#1}}\\left(\\begin{array}{rrrrr}\n",
       "0 & 1 & 0 & 0 & 0 \\\\\n",
       "0 & 0 & 1 & 0 & 0 \\\\\n",
       "0 & 0 & 0 & 0 & 0 \\\\\n",
       "0 & 0 & 0 & 0 & 0 \\\\\n",
       "0 & 0 & 0 & 0 & 0\n",
       "\\end{array}\\right)$$"
      ],
      "text/plain": [
       "[0 1 0 0 0]\n",
       "[0 0 1 0 0]\n",
       "[0 0 0 0 0]\n",
       "[0 0 0 0 0]\n",
       "[0 0 0 0 0]"
      ]
     },
     "metadata": {},
     "output_type": "display_data"
    },
    {
     "data": {
      "text/html": [
       "<html><script type=\"math/tex; mode=display\">\\newcommand{\\Bold}[1]{\\mathbf{#1}}\\left[\\left\\{d_{1} : 0, d_{2} : 0, d_{3} : 0, d_{4} : r_{343}, d_{5} : r_{344}, a_{12} : r_{345}, a_{13} : r_{346}, a_{14} : r_{347}, a_{15} : r_{348}, a_{23} : r_{349}, a_{24} : r_{350}, a_{25} : r_{351}, a_{34} : -\\frac{r_{343} x_{24}}{x_{23}}, a_{35} : r_{352}, a_{45} : -\\frac{r_{352} x_{23}}{x_{24}}\\right\\}, \\left\\{d_{1} : r_{353}, d_{2} : \\frac{r_{353}}{x_{12}}, d_{3} : \\frac{r_{353}}{x_{12} x_{23}}, d_{4} : r_{354}, d_{5} : r_{355}, a_{12} : r_{356}, a_{13} : r_{357}, a_{14} : r_{358}, a_{15} : r_{359}, a_{23} : \\frac{r_{356} x_{12} x_{23} - r_{353} x_{13}}{x_{12}^{2} x_{23}}, a_{24} : \\frac{r_{354} x_{13} x_{24}}{x_{12} x_{23}}, a_{25} : r_{360}, a_{34} : -\\frac{r_{354} x_{24}}{x_{23}}, a_{35} : -\\frac{r_{360} x_{12} + r_{355} x_{15}}{x_{13}}, a_{45} : \\frac{{\\left(r_{360} x_{12} + r_{355} x_{15}\\right)} x_{23}}{x_{13} x_{24}}\\right\\}\\right]</script></html>"
      ],
      "text/latex": [
       "$$\\newcommand{\\Bold}[1]{\\mathbf{#1}}\\left[\\left\\{d_{1} : 0, d_{2} : 0, d_{3} : 0, d_{4} : r_{343}, d_{5} : r_{344}, a_{12} : r_{345}, a_{13} : r_{346}, a_{14} : r_{347}, a_{15} : r_{348}, a_{23} : r_{349}, a_{24} : r_{350}, a_{25} : r_{351}, a_{34} : -\\frac{r_{343} x_{24}}{x_{23}}, a_{35} : r_{352}, a_{45} : -\\frac{r_{352} x_{23}}{x_{24}}\\right\\}, \\left\\{d_{1} : r_{353}, d_{2} : \\frac{r_{353}}{x_{12}}, d_{3} : \\frac{r_{353}}{x_{12} x_{23}}, d_{4} : r_{354}, d_{5} : r_{355}, a_{12} : r_{356}, a_{13} : r_{357}, a_{14} : r_{358}, a_{15} : r_{359}, a_{23} : \\frac{r_{356} x_{12} x_{23} - r_{353} x_{13}}{x_{12}^{2} x_{23}}, a_{24} : \\frac{r_{354} x_{13} x_{24}}{x_{12} x_{23}}, a_{25} : r_{360}, a_{34} : -\\frac{r_{354} x_{24}}{x_{23}}, a_{35} : -\\frac{r_{360} x_{12} + r_{355} x_{15}}{x_{13}}, a_{45} : \\frac{{\\left(r_{360} x_{12} + r_{355} x_{15}\\right)} x_{23}}{x_{13} x_{24}}\\right\\}\\right]$$"
      ],
      "text/plain": [
       "[{d1: 0,\n",
       "  d2: 0,\n",
       "  d3: 0,\n",
       "  d4: r343,\n",
       "  d5: r344,\n",
       "  a12: r345,\n",
       "  a13: r346,\n",
       "  a14: r347,\n",
       "  a15: r348,\n",
       "  a23: r349,\n",
       "  a24: r350,\n",
       "  a25: r351,\n",
       "  a34: -r343*x24/x23,\n",
       "  a35: r352,\n",
       "  a45: -r352*x23/x24},\n",
       " {d1: r353,\n",
       "  d2: r353/x12,\n",
       "  d3: r353/(x12*x23),\n",
       "  d4: r354,\n",
       "  d5: r355,\n",
       "  a12: r356,\n",
       "  a13: r357,\n",
       "  a14: r358,\n",
       "  a15: r359,\n",
       "  a23: (r356*x12*x23 - r353*x13)/(x12^2*x23),\n",
       "  a24: r354*x13*x24/(x12*x23),\n",
       "  a25: r360,\n",
       "  a34: -r354*x24/x23,\n",
       "  a35: -(r360*x12 + r355*x15)/x13,\n",
       "  a45: (r360*x12 + r355*x15)*x23/(x13*x24)}]"
      ]
     },
     "metadata": {},
     "output_type": "display_data"
    },
    {
     "data": {
      "text/plain": [
       "\\left[\\left\\{d_{1} : 0, d_{2} : 0, d_{3} : 0, d_{4} : r_{343}, d_{5} : r_{344}, a_{12} : r_{345}, a_{13} : r_{346}, a_{14} : r_{347}, a_{15} : r_{348}, a_{23} : r_{349}, a_{24} : r_{350}, a_{25} : r_{351}, a_{34} : -\\frac{r_{343} x_{24}}{x_{23}}, a_{35} : r_{352}, a_{45} : -\\frac{r_{352} x_{23}}{x_{24}}\\right\\}, \\left\\{d_{1} : r_{353}, d_{2} : \\frac{r_{353}}{x_{12}}, d_{3} : \\frac{r_{353}}{x_{12} x_{23}}, d_{4} : r_{354}, d_{5} : r_{355}, a_{12} : r_{356}, a_{13} : r_{357}, a_{14} : r_{358}, a_{15} : r_{359}, a_{23} : \\frac{r_{356} x_{12} x_{23} - r_{353} x_{13}}{x_{12}^{2} x_{23}}, a_{24} : \\frac{r_{354} x_{13} x_{24}}{x_{12} x_{23}}, a_{25} : r_{360}, a_{34} : -\\frac{r_{354} x_{24}}{x_{23}}, a_{35} : -\\frac{r_{360} x_{12} + r_{355} x_{15}}{x_{13}}, a_{45} : \\frac{{\\left(r_{360} x_{12} + r_{355} x_{15}\\right)} x_{23}}{x_{13} x_{24}}\\right\\}\\right]"
      ]
     },
     "execution_count": 20,
     "metadata": {},
     "output_type": "execute_result"
    }
   ],
   "source": [
    "#x4\n",
    "reset()\n",
    "\n",
    "var('x12,x13,x14,x15,x23,x24,x25,x34,x35,x45')\n",
    "var('d1,d2,d3,d4,d5')\n",
    "var('a12,a13,a14,a15,a23,a24,a25,a34,a35,a45')\n",
    "\n",
    "load_attach_path('C:\\\\Users\\\\julia\\\\Documents\\\\unb\\\\doutorado\\\\pensar\\\\codigo_sage_v2\\\\maquina\\\\x4')\n",
    "load('out_#010101.sage')\n",
    "\n",
    "m=matrix(QQ, [[0, 1, 0, 0, 0],\n",
    "              [0, 0, 1, 0, 0],\n",
    "              [0, 0, 0, 0, 0],\n",
    "              [0, 0, 0, 0, 0],\n",
    "              [0, 0, 0, 0, 0]])\n",
    "        \n",
    "#entry of matrix: (i,j) line i collum j, means (i-1,j-1)\n",
    "sol=solve([ eq1==m[0,1],\teq2==m[0,2],\teq3==m[0,3],\teq4==m[0,4],\t\n",
    "                                            eq5==m[1,2],    eq6==m[1,3],\n",
    "                                                            eq7==m[1,4], eq8==m[2,4]],d1,d2,d3,d4,d5,a12,a13,a14,a15,a23,a24,a25,a34,a35,a45, solution_dict=True)\n",
    "\n",
    "show(m)\n",
    "show(sol)\n",
    "latex(sol)"
   ]
  },
  {
   "cell_type": "code",
   "execution_count": 23,
   "metadata": {},
   "outputs": [
    {
     "data": {
      "text/html": [
       "<html><script type=\"math/tex; mode=display\">\\newcommand{\\Bold}[1]{\\mathbf{#1}}\\left(\\begin{array}{rrrrr}\n",
       "0 & 1 & 0 & 0 & 0 \\\\\n",
       "0 & 0 & 1 & 0 & 0 \\\\\n",
       "0 & 0 & 0 & 0 & 0 \\\\\n",
       "0 & 0 & 0 & 0 & 0 \\\\\n",
       "0 & 0 & 0 & 0 & 0\n",
       "\\end{array}\\right)</script></html>"
      ],
      "text/latex": [
       "$$\\newcommand{\\Bold}[1]{\\mathbf{#1}}\\left(\\begin{array}{rrrrr}\n",
       "0 & 1 & 0 & 0 & 0 \\\\\n",
       "0 & 0 & 1 & 0 & 0 \\\\\n",
       "0 & 0 & 0 & 0 & 0 \\\\\n",
       "0 & 0 & 0 & 0 & 0 \\\\\n",
       "0 & 0 & 0 & 0 & 0\n",
       "\\end{array}\\right)$$"
      ],
      "text/plain": [
       "[0 1 0 0 0]\n",
       "[0 0 1 0 0]\n",
       "[0 0 0 0 0]\n",
       "[0 0 0 0 0]\n",
       "[0 0 0 0 0]"
      ]
     },
     "metadata": {},
     "output_type": "display_data"
    },
    {
     "data": {
      "text/html": [
       "<html><script type=\"math/tex; mode=display\">\\newcommand{\\Bold}[1]{\\mathbf{#1}}\\left[\\left\\{d_{1} : 0, d_{2} : 0, d_{3} : 0, d_{4} : r_{397}, d_{5} : r_{398}, a_{12} : r_{399}, a_{13} : r_{400}, a_{14} : r_{401}, a_{15} : r_{402}, a_{23} : r_{403}, a_{24} : r_{404}, a_{25} : r_{405}, a_{34} : -\\frac{r_{397} x_{24}}{x_{23}}, a_{35} : r_{406}, a_{45} : -\\frac{r_{406} x_{23}}{x_{24}}\\right\\}, \\left\\{d_{1} : r_{407}, d_{2} : \\frac{r_{407}}{x_{12}}, d_{3} : \\frac{r_{407}}{x_{12} x_{23}}, d_{4} : r_{408}, d_{5} : r_{409}, a_{12} : r_{410}, a_{13} : r_{411}, a_{14} : r_{412}, a_{15} : r_{413}, a_{23} : \\frac{r_{410} x_{12} x_{23} - r_{407} x_{13}}{x_{12}^{2} x_{23}}, a_{24} : -\\frac{r_{408} x_{14} x_{23} - r_{408} x_{13} x_{24}}{x_{12} x_{23}}, a_{25} : r_{414}, a_{34} : -\\frac{r_{408} x_{24}}{x_{23}}, a_{35} : \\frac{r_{414} x_{12} x_{24}}{x_{14} x_{23} - x_{13} x_{24}}, a_{45} : -\\frac{r_{414} x_{12} x_{23}}{x_{14} x_{23} - x_{13} x_{24}}\\right\\}\\right]</script></html>"
      ],
      "text/latex": [
       "$$\\newcommand{\\Bold}[1]{\\mathbf{#1}}\\left[\\left\\{d_{1} : 0, d_{2} : 0, d_{3} : 0, d_{4} : r_{397}, d_{5} : r_{398}, a_{12} : r_{399}, a_{13} : r_{400}, a_{14} : r_{401}, a_{15} : r_{402}, a_{23} : r_{403}, a_{24} : r_{404}, a_{25} : r_{405}, a_{34} : -\\frac{r_{397} x_{24}}{x_{23}}, a_{35} : r_{406}, a_{45} : -\\frac{r_{406} x_{23}}{x_{24}}\\right\\}, \\left\\{d_{1} : r_{407}, d_{2} : \\frac{r_{407}}{x_{12}}, d_{3} : \\frac{r_{407}}{x_{12} x_{23}}, d_{4} : r_{408}, d_{5} : r_{409}, a_{12} : r_{410}, a_{13} : r_{411}, a_{14} : r_{412}, a_{15} : r_{413}, a_{23} : \\frac{r_{410} x_{12} x_{23} - r_{407} x_{13}}{x_{12}^{2} x_{23}}, a_{24} : -\\frac{r_{408} x_{14} x_{23} - r_{408} x_{13} x_{24}}{x_{12} x_{23}}, a_{25} : r_{414}, a_{34} : -\\frac{r_{408} x_{24}}{x_{23}}, a_{35} : \\frac{r_{414} x_{12} x_{24}}{x_{14} x_{23} - x_{13} x_{24}}, a_{45} : -\\frac{r_{414} x_{12} x_{23}}{x_{14} x_{23} - x_{13} x_{24}}\\right\\}\\right]$$"
      ],
      "text/plain": [
       "[{d1: 0,\n",
       "  d2: 0,\n",
       "  d3: 0,\n",
       "  d4: r397,\n",
       "  d5: r398,\n",
       "  a12: r399,\n",
       "  a13: r400,\n",
       "  a14: r401,\n",
       "  a15: r402,\n",
       "  a23: r403,\n",
       "  a24: r404,\n",
       "  a25: r405,\n",
       "  a34: -r397*x24/x23,\n",
       "  a35: r406,\n",
       "  a45: -r406*x23/x24},\n",
       " {d1: r407,\n",
       "  d2: r407/x12,\n",
       "  d3: r407/(x12*x23),\n",
       "  d4: r408,\n",
       "  d5: r409,\n",
       "  a12: r410,\n",
       "  a13: r411,\n",
       "  a14: r412,\n",
       "  a15: r413,\n",
       "  a23: (r410*x12*x23 - r407*x13)/(x12^2*x23),\n",
       "  a24: -(r408*x14*x23 - r408*x13*x24)/(x12*x23),\n",
       "  a25: r414,\n",
       "  a34: -r408*x24/x23,\n",
       "  a35: r414*x12*x24/(x14*x23 - x13*x24),\n",
       "  a45: -r414*x12*x23/(x14*x23 - x13*x24)}]"
      ]
     },
     "metadata": {},
     "output_type": "display_data"
    },
    {
     "data": {
      "text/plain": [
       "\\left[\\left\\{d_{1} : 0, d_{2} : 0, d_{3} : 0, d_{4} : r_{397}, d_{5} : r_{398}, a_{12} : r_{399}, a_{13} : r_{400}, a_{14} : r_{401}, a_{15} : r_{402}, a_{23} : r_{403}, a_{24} : r_{404}, a_{25} : r_{405}, a_{34} : -\\frac{r_{397} x_{24}}{x_{23}}, a_{35} : r_{406}, a_{45} : -\\frac{r_{406} x_{23}}{x_{24}}\\right\\}, \\left\\{d_{1} : r_{407}, d_{2} : \\frac{r_{407}}{x_{12}}, d_{3} : \\frac{r_{407}}{x_{12} x_{23}}, d_{4} : r_{408}, d_{5} : r_{409}, a_{12} : r_{410}, a_{13} : r_{411}, a_{14} : r_{412}, a_{15} : r_{413}, a_{23} : \\frac{r_{410} x_{12} x_{23} - r_{407} x_{13}}{x_{12}^{2} x_{23}}, a_{24} : -\\frac{r_{408} x_{14} x_{23} - r_{408} x_{13} x_{24}}{x_{12} x_{23}}, a_{25} : r_{414}, a_{34} : -\\frac{r_{408} x_{24}}{x_{23}}, a_{35} : \\frac{r_{414} x_{12} x_{24}}{x_{14} x_{23} - x_{13} x_{24}}, a_{45} : -\\frac{r_{414} x_{12} x_{23}}{x_{14} x_{23} - x_{13} x_{24}}\\right\\}\\right]"
      ]
     },
     "execution_count": 23,
     "metadata": {},
     "output_type": "execute_result"
    }
   ],
   "source": [
    "#x4\n",
    "#-------------------------------\n",
    "#x14\\neq x13*x24/x23\n",
    "#-------------------------------\n",
    "reset()\n",
    "\n",
    "var('x12,x13,x14,x15,x23,x24,x25,x34,x35,x45')\n",
    "var('d1,d2,d3,d4,d5')\n",
    "var('a12,a13,a14,a15,a23,a24,a25,a34,a35,a45')\n",
    "\n",
    "load_attach_path('C:\\\\Users\\\\julia\\\\Documents\\\\unb\\\\doutorado\\\\pensar\\\\codigo_sage_v2\\\\maquina\\\\x4')\n",
    "load('out_#010110.sage')\n",
    "\n",
    "m=matrix(QQ, [[0, 1, 0, 0, 0],\n",
    "              [0, 0, 1, 0, 0],\n",
    "              [0, 0, 0, 0, 0],\n",
    "              [0, 0, 0, 0, 0],\n",
    "              [0, 0, 0, 0, 0]])\n",
    "        \n",
    "#entry of matrix: (i,j) line i collum j, means (i-1,j-1)\n",
    "sol=solve([ eq1==m[0,1],\teq2==m[0,2],\teq3==m[0,3],\teq4==m[0,4],\t\n",
    "                                            eq5==m[1,2],    eq6==m[1,3],\n",
    "                                                            eq7==m[1,4], eq8==m[2,4]],d1,d2,d3,d4,d5,a12,a13,a14,a15,a23,a24,a25,a34,a35,a45, solution_dict=True)\n",
    "\n",
    "show(m)\n",
    "show(sol)\n",
    "latex(sol)"
   ]
  },
  {
   "cell_type": "code",
   "execution_count": 24,
   "metadata": {},
   "outputs": [
    {
     "data": {
      "text/html": [
       "<html><script type=\"math/tex; mode=display\">\\newcommand{\\Bold}[1]{\\mathbf{#1}}\\left(\\begin{array}{rrrrr}\n",
       "0 & 1 & 0 & 0 & 0 \\\\\n",
       "0 & 0 & 1 & 0 & 0 \\\\\n",
       "0 & 0 & 0 & 0 & 0 \\\\\n",
       "0 & 0 & 0 & 0 & 0 \\\\\n",
       "0 & 0 & 0 & 0 & 0\n",
       "\\end{array}\\right)</script></html>"
      ],
      "text/latex": [
       "$$\\newcommand{\\Bold}[1]{\\mathbf{#1}}\\left(\\begin{array}{rrrrr}\n",
       "0 & 1 & 0 & 0 & 0 \\\\\n",
       "0 & 0 & 1 & 0 & 0 \\\\\n",
       "0 & 0 & 0 & 0 & 0 \\\\\n",
       "0 & 0 & 0 & 0 & 0 \\\\\n",
       "0 & 0 & 0 & 0 & 0\n",
       "\\end{array}\\right)$$"
      ],
      "text/plain": [
       "[0 1 0 0 0]\n",
       "[0 0 1 0 0]\n",
       "[0 0 0 0 0]\n",
       "[0 0 0 0 0]\n",
       "[0 0 0 0 0]"
      ]
     },
     "metadata": {},
     "output_type": "display_data"
    },
    {
     "data": {
      "text/html": [
       "<html><script type=\"math/tex; mode=display\">\\newcommand{\\Bold}[1]{\\mathbf{#1}}\\left[\\left\\{d_{1} : 0, d_{2} : 0, d_{3} : 0, d_{4} : r_{415}, d_{5} : r_{416}, a_{12} : r_{417}, a_{13} : r_{418}, a_{14} : r_{419}, a_{15} : r_{420}, a_{23} : r_{421}, a_{24} : r_{422}, a_{25} : r_{423}, a_{34} : -\\frac{r_{415} x_{24}}{x_{23}}, a_{35} : r_{424}, a_{45} : -\\frac{r_{424} x_{23}}{x_{24}}\\right\\}, \\left\\{d_{1} : r_{425}, d_{2} : \\frac{r_{425}}{x_{12}}, d_{3} : \\frac{r_{425}}{x_{12} x_{23}}, d_{4} : r_{426}, d_{5} : r_{427}, a_{12} : r_{428}, a_{13} : r_{429}, a_{14} : r_{430}, a_{15} : r_{431}, a_{23} : \\frac{r_{428} x_{12} x_{23} - r_{425} x_{13}}{x_{12}^{2} x_{23}}, a_{24} : 0, a_{25} : 0, a_{34} : -\\frac{r_{426} x_{24}}{x_{23}}, a_{35} : r_{432}, a_{45} : -\\frac{r_{432} x_{23}}{x_{24}}\\right\\}\\right]</script></html>"
      ],
      "text/latex": [
       "$$\\newcommand{\\Bold}[1]{\\mathbf{#1}}\\left[\\left\\{d_{1} : 0, d_{2} : 0, d_{3} : 0, d_{4} : r_{415}, d_{5} : r_{416}, a_{12} : r_{417}, a_{13} : r_{418}, a_{14} : r_{419}, a_{15} : r_{420}, a_{23} : r_{421}, a_{24} : r_{422}, a_{25} : r_{423}, a_{34} : -\\frac{r_{415} x_{24}}{x_{23}}, a_{35} : r_{424}, a_{45} : -\\frac{r_{424} x_{23}}{x_{24}}\\right\\}, \\left\\{d_{1} : r_{425}, d_{2} : \\frac{r_{425}}{x_{12}}, d_{3} : \\frac{r_{425}}{x_{12} x_{23}}, d_{4} : r_{426}, d_{5} : r_{427}, a_{12} : r_{428}, a_{13} : r_{429}, a_{14} : r_{430}, a_{15} : r_{431}, a_{23} : \\frac{r_{428} x_{12} x_{23} - r_{425} x_{13}}{x_{12}^{2} x_{23}}, a_{24} : 0, a_{25} : 0, a_{34} : -\\frac{r_{426} x_{24}}{x_{23}}, a_{35} : r_{432}, a_{45} : -\\frac{r_{432} x_{23}}{x_{24}}\\right\\}\\right]$$"
      ],
      "text/plain": [
       "[{d1: 0,\n",
       "  d2: 0,\n",
       "  d3: 0,\n",
       "  d4: r415,\n",
       "  d5: r416,\n",
       "  a12: r417,\n",
       "  a13: r418,\n",
       "  a14: r419,\n",
       "  a15: r420,\n",
       "  a23: r421,\n",
       "  a24: r422,\n",
       "  a25: r423,\n",
       "  a34: -r415*x24/x23,\n",
       "  a35: r424,\n",
       "  a45: -r424*x23/x24},\n",
       " {d1: r425,\n",
       "  d2: r425/x12,\n",
       "  d3: r425/(x12*x23),\n",
       "  d4: r426,\n",
       "  d5: r427,\n",
       "  a12: r428,\n",
       "  a13: r429,\n",
       "  a14: r430,\n",
       "  a15: r431,\n",
       "  a23: (r428*x12*x23 - r425*x13)/(x12^2*x23),\n",
       "  a24: 0,\n",
       "  a25: 0,\n",
       "  a34: -r426*x24/x23,\n",
       "  a35: r432,\n",
       "  a45: -r432*x23/x24}]"
      ]
     },
     "metadata": {},
     "output_type": "display_data"
    },
    {
     "data": {
      "text/plain": [
       "\\left[\\left\\{d_{1} : 0, d_{2} : 0, d_{3} : 0, d_{4} : r_{415}, d_{5} : r_{416}, a_{12} : r_{417}, a_{13} : r_{418}, a_{14} : r_{419}, a_{15} : r_{420}, a_{23} : r_{421}, a_{24} : r_{422}, a_{25} : r_{423}, a_{34} : -\\frac{r_{415} x_{24}}{x_{23}}, a_{35} : r_{424}, a_{45} : -\\frac{r_{424} x_{23}}{x_{24}}\\right\\}, \\left\\{d_{1} : r_{425}, d_{2} : \\frac{r_{425}}{x_{12}}, d_{3} : \\frac{r_{425}}{x_{12} x_{23}}, d_{4} : r_{426}, d_{5} : r_{427}, a_{12} : r_{428}, a_{13} : r_{429}, a_{14} : r_{430}, a_{15} : r_{431}, a_{23} : \\frac{r_{428} x_{12} x_{23} - r_{425} x_{13}}{x_{12}^{2} x_{23}}, a_{24} : 0, a_{25} : 0, a_{34} : -\\frac{r_{426} x_{24}}{x_{23}}, a_{35} : r_{432}, a_{45} : -\\frac{r_{432} x_{23}}{x_{24}}\\right\\}\\right]"
      ]
     },
     "execution_count": 24,
     "metadata": {},
     "output_type": "execute_result"
    }
   ],
   "source": [
    "#x4\n",
    "#-------------------------------\n",
    "#x14= x13*x24/x233\n",
    "#-------------------------------\n",
    "reset()\n",
    "\n",
    "var('x12,x13,x14,x15,x23,x24,x25,x34,x35,x45')\n",
    "var('d1,d2,d3,d4,d5')\n",
    "var('a12,a13,a14,a15,a23,a24,a25,a34,a35,a45')\n",
    "\n",
    "m=matrix(QQ, [[0, 1, 0, 0, 0],\n",
    "              [0, 0, 1, 0, 0],\n",
    "              [0, 0, 0, 0, 0],\n",
    "              [0, 0, 0, 0, 0],\n",
    "              [0, 0, 0, 0, 0]])\n",
    "\n",
    "#010110\n",
    "eq1=(d2*x12)/(d1) \n",
    "eq2=(a23*d2*x12+d2*d3*x13-a12*d3*x23)/(d1*d2) \n",
    "eq3=(a24*d2*x12+a34*d2*x13+d2*d4*((x13*x24)/x23)-a12*a34*x23-a12*d4*x24)/(d1*d2) \n",
    "eq4=(a25*d2*d3*x12+a35*d2*d3*x13+a45*d2*d3*((x13*x24)/x23)+d2*d3*d5*0-a12*a35*d3*x23-a12*a45*d3*x24-a12*d3*d5*0+a12*a23*d5*0-a13*d2*d5*0)/(d1*d2*d3) \n",
    "eq5=(d3*x23)/(d2) \n",
    "eq6=(a34*x23+d4*x24)/(d2) \n",
    "eq7=(a35*d3*x23+a45*d3*x24+d3*d5*0-a23*d5*0)/(d2*d3) \n",
    "eq8=(d5*0)/(d3) \n",
    "\n",
    "#entry of matrix: (i,j) line i collum j, means (i-1,j-1)\n",
    "sol=solve([ eq1==m[0,1],\teq2==m[0,2],\teq3==m[0,3],\teq4==m[0,4],\t\n",
    "                                            eq5==m[1,2],    eq6==m[1,3],\n",
    "                                                            eq7==m[1,4], eq8==m[2,4]],d1,d2,d3,d4,d5,a12,a13,a14,a15,a23,a24,a25,a34,a35,a45, solution_dict=True)\n",
    "\n",
    "show(m)\n",
    "show(sol)\n",
    "latex(sol)"
   ]
  },
  {
   "cell_type": "code",
   "execution_count": 21,
   "metadata": {},
   "outputs": [
    {
     "data": {
      "text/html": [
       "<html><script type=\"math/tex; mode=display\">\\newcommand{\\Bold}[1]{\\mathbf{#1}}\\left(\\begin{array}{rrrrr}\n",
       "0 & 1 & 0 & 0 & 0 \\\\\n",
       "0 & 0 & 1 & 0 & 0 \\\\\n",
       "0 & 0 & 0 & 0 & 0 \\\\\n",
       "0 & 0 & 0 & 0 & 0 \\\\\n",
       "0 & 0 & 0 & 0 & 0\n",
       "\\end{array}\\right)</script></html>"
      ],
      "text/latex": [
       "$$\\newcommand{\\Bold}[1]{\\mathbf{#1}}\\left(\\begin{array}{rrrrr}\n",
       "0 & 1 & 0 & 0 & 0 \\\\\n",
       "0 & 0 & 1 & 0 & 0 \\\\\n",
       "0 & 0 & 0 & 0 & 0 \\\\\n",
       "0 & 0 & 0 & 0 & 0 \\\\\n",
       "0 & 0 & 0 & 0 & 0\n",
       "\\end{array}\\right)$$"
      ],
      "text/plain": [
       "[0 1 0 0 0]\n",
       "[0 0 1 0 0]\n",
       "[0 0 0 0 0]\n",
       "[0 0 0 0 0]\n",
       "[0 0 0 0 0]"
      ]
     },
     "metadata": {},
     "output_type": "display_data"
    },
    {
     "data": {
      "text/html": [
       "<html><script type=\"math/tex; mode=display\">\\newcommand{\\Bold}[1]{\\mathbf{#1}}\\left[\\left\\{d_{1} : 0, d_{2} : 0, d_{3} : 0, d_{4} : r_{361}, d_{5} : r_{362}, a_{12} : r_{363}, a_{13} : r_{364}, a_{14} : r_{365}, a_{15} : r_{366}, a_{23} : r_{367}, a_{24} : r_{368}, a_{25} : r_{369}, a_{34} : -\\frac{r_{361} x_{24}}{x_{23}}, a_{35} : r_{370}, a_{45} : -\\frac{r_{370} x_{23}}{x_{24}}\\right\\}, \\left\\{d_{1} : r_{371}, d_{2} : \\frac{r_{371}}{x_{12}}, d_{3} : \\frac{r_{371}}{x_{12} x_{23}}, d_{4} : r_{372}, d_{5} : r_{373}, a_{12} : r_{374}, a_{13} : r_{375}, a_{14} : r_{376}, a_{15} : r_{377}, a_{23} : \\frac{r_{374} x_{12} x_{23} - r_{371} x_{13}}{x_{12}^{2} x_{23}}, a_{24} : -\\frac{r_{372} x_{14} x_{23} - r_{372} x_{13} x_{24}}{x_{12} x_{23}}, a_{25} : r_{378}, a_{34} : -\\frac{r_{372} x_{24}}{x_{23}}, a_{35} : \\frac{{\\left(r_{378} x_{12} + r_{373} x_{15}\\right)} x_{24}}{x_{14} x_{23} - x_{13} x_{24}}, a_{45} : -\\frac{{\\left(r_{378} x_{12} + r_{373} x_{15}\\right)} x_{23}}{x_{14} x_{23} - x_{13} x_{24}}\\right\\}\\right]</script></html>"
      ],
      "text/latex": [
       "$$\\newcommand{\\Bold}[1]{\\mathbf{#1}}\\left[\\left\\{d_{1} : 0, d_{2} : 0, d_{3} : 0, d_{4} : r_{361}, d_{5} : r_{362}, a_{12} : r_{363}, a_{13} : r_{364}, a_{14} : r_{365}, a_{15} : r_{366}, a_{23} : r_{367}, a_{24} : r_{368}, a_{25} : r_{369}, a_{34} : -\\frac{r_{361} x_{24}}{x_{23}}, a_{35} : r_{370}, a_{45} : -\\frac{r_{370} x_{23}}{x_{24}}\\right\\}, \\left\\{d_{1} : r_{371}, d_{2} : \\frac{r_{371}}{x_{12}}, d_{3} : \\frac{r_{371}}{x_{12} x_{23}}, d_{4} : r_{372}, d_{5} : r_{373}, a_{12} : r_{374}, a_{13} : r_{375}, a_{14} : r_{376}, a_{15} : r_{377}, a_{23} : \\frac{r_{374} x_{12} x_{23} - r_{371} x_{13}}{x_{12}^{2} x_{23}}, a_{24} : -\\frac{r_{372} x_{14} x_{23} - r_{372} x_{13} x_{24}}{x_{12} x_{23}}, a_{25} : r_{378}, a_{34} : -\\frac{r_{372} x_{24}}{x_{23}}, a_{35} : \\frac{{\\left(r_{378} x_{12} + r_{373} x_{15}\\right)} x_{24}}{x_{14} x_{23} - x_{13} x_{24}}, a_{45} : -\\frac{{\\left(r_{378} x_{12} + r_{373} x_{15}\\right)} x_{23}}{x_{14} x_{23} - x_{13} x_{24}}\\right\\}\\right]$$"
      ],
      "text/plain": [
       "[{d1: 0,\n",
       "  d2: 0,\n",
       "  d3: 0,\n",
       "  d4: r361,\n",
       "  d5: r362,\n",
       "  a12: r363,\n",
       "  a13: r364,\n",
       "  a14: r365,\n",
       "  a15: r366,\n",
       "  a23: r367,\n",
       "  a24: r368,\n",
       "  a25: r369,\n",
       "  a34: -r361*x24/x23,\n",
       "  a35: r370,\n",
       "  a45: -r370*x23/x24},\n",
       " {d1: r371,\n",
       "  d2: r371/x12,\n",
       "  d3: r371/(x12*x23),\n",
       "  d4: r372,\n",
       "  d5: r373,\n",
       "  a12: r374,\n",
       "  a13: r375,\n",
       "  a14: r376,\n",
       "  a15: r377,\n",
       "  a23: (r374*x12*x23 - r371*x13)/(x12^2*x23),\n",
       "  a24: -(r372*x14*x23 - r372*x13*x24)/(x12*x23),\n",
       "  a25: r378,\n",
       "  a34: -r372*x24/x23,\n",
       "  a35: (r378*x12 + r373*x15)*x24/(x14*x23 - x13*x24),\n",
       "  a45: -(r378*x12 + r373*x15)*x23/(x14*x23 - x13*x24)}]"
      ]
     },
     "metadata": {},
     "output_type": "display_data"
    },
    {
     "data": {
      "text/plain": [
       "\\left[\\left\\{d_{1} : 0, d_{2} : 0, d_{3} : 0, d_{4} : r_{361}, d_{5} : r_{362}, a_{12} : r_{363}, a_{13} : r_{364}, a_{14} : r_{365}, a_{15} : r_{366}, a_{23} : r_{367}, a_{24} : r_{368}, a_{25} : r_{369}, a_{34} : -\\frac{r_{361} x_{24}}{x_{23}}, a_{35} : r_{370}, a_{45} : -\\frac{r_{370} x_{23}}{x_{24}}\\right\\}, \\left\\{d_{1} : r_{371}, d_{2} : \\frac{r_{371}}{x_{12}}, d_{3} : \\frac{r_{371}}{x_{12} x_{23}}, d_{4} : r_{372}, d_{5} : r_{373}, a_{12} : r_{374}, a_{13} : r_{375}, a_{14} : r_{376}, a_{15} : r_{377}, a_{23} : \\frac{r_{374} x_{12} x_{23} - r_{371} x_{13}}{x_{12}^{2} x_{23}}, a_{24} : -\\frac{r_{372} x_{14} x_{23} - r_{372} x_{13} x_{24}}{x_{12} x_{23}}, a_{25} : r_{378}, a_{34} : -\\frac{r_{372} x_{24}}{x_{23}}, a_{35} : \\frac{{\\left(r_{378} x_{12} + r_{373} x_{15}\\right)} x_{24}}{x_{14} x_{23} - x_{13} x_{24}}, a_{45} : -\\frac{{\\left(r_{378} x_{12} + r_{373} x_{15}\\right)} x_{23}}{x_{14} x_{23} - x_{13} x_{24}}\\right\\}\\right]"
      ]
     },
     "execution_count": 21,
     "metadata": {},
     "output_type": "execute_result"
    }
   ],
   "source": [
    "#x4\n",
    "#-------------------------------\n",
    "#x14\\neq x13*x24/x233\n",
    "#-------------------------------\n",
    "reset()\n",
    "\n",
    "var('x12,x13,x14,x15,x23,x24,x25,x34,x35,x45')\n",
    "var('d1,d2,d3,d4,d5')\n",
    "var('a12,a13,a14,a15,a23,a24,a25,a34,a35,a45')\n",
    "\n",
    "load_attach_path('C:\\\\Users\\\\julia\\\\Documents\\\\unb\\\\doutorado\\\\pensar\\\\codigo_sage_v2\\\\maquina\\\\x4')\n",
    "load('out_#010111.sage')\n",
    "\n",
    "m=matrix(QQ, [[0, 1, 0, 0, 0],\n",
    "              [0, 0, 1, 0, 0],\n",
    "              [0, 0, 0, 0, 0],\n",
    "              [0, 0, 0, 0, 0],\n",
    "              [0, 0, 0, 0, 0]])\n",
    "        \n",
    "#entry of matrix: (i,j) line i collum j, means (i-1,j-1)\n",
    "sol=solve([ eq1==m[0,1],\teq2==m[0,2],\teq3==m[0,3],\teq4==m[0,4],\t\n",
    "                                            eq5==m[1,2],    eq6==m[1,3],\n",
    "                                                            eq7==m[1,4], eq8==m[2,4]],d1,d2,d3,d4,d5,a12,a13,a14,a15,a23,a24,a25,a34,a35,a45, solution_dict=True)\n",
    "\n",
    "show(m)\n",
    "show(sol)\n",
    "latex(sol)"
   ]
  },
  {
   "cell_type": "code",
   "execution_count": 26,
   "metadata": {},
   "outputs": [
    {
     "data": {
      "text/html": [
       "<html><script type=\"math/tex; mode=display\">\\newcommand{\\Bold}[1]{\\mathbf{#1}}\\left(\\begin{array}{rrrrr}\n",
       "0 & 1 & 0 & 0 & 0 \\\\\n",
       "0 & 0 & 1 & 0 & 0 \\\\\n",
       "0 & 0 & 0 & 0 & 0 \\\\\n",
       "0 & 0 & 0 & 0 & 0 \\\\\n",
       "0 & 0 & 0 & 0 & 0\n",
       "\\end{array}\\right)</script></html>"
      ],
      "text/latex": [
       "$$\\newcommand{\\Bold}[1]{\\mathbf{#1}}\\left(\\begin{array}{rrrrr}\n",
       "0 & 1 & 0 & 0 & 0 \\\\\n",
       "0 & 0 & 1 & 0 & 0 \\\\\n",
       "0 & 0 & 0 & 0 & 0 \\\\\n",
       "0 & 0 & 0 & 0 & 0 \\\\\n",
       "0 & 0 & 0 & 0 & 0\n",
       "\\end{array}\\right)$$"
      ],
      "text/plain": [
       "[0 1 0 0 0]\n",
       "[0 0 1 0 0]\n",
       "[0 0 0 0 0]\n",
       "[0 0 0 0 0]\n",
       "[0 0 0 0 0]"
      ]
     },
     "metadata": {},
     "output_type": "display_data"
    },
    {
     "data": {
      "text/html": [
       "<html><script type=\"math/tex; mode=display\">\\newcommand{\\Bold}[1]{\\mathbf{#1}}\\left[\\left\\{d_{1} : 0, d_{2} : 0, d_{3} : 0, d_{4} : r_{451}, d_{5} : r_{452}, a_{12} : r_{453}, a_{13} : r_{454}, a_{14} : r_{455}, a_{15} : r_{456}, a_{23} : r_{457}, a_{24} : r_{458}, a_{25} : r_{459}, a_{34} : -\\frac{r_{451} x_{24}}{x_{23}}, a_{35} : r_{460}, a_{45} : -\\frac{r_{460} x_{23}}{x_{24}}\\right\\}, \\left\\{d_{1} : r_{461}, d_{2} : \\frac{r_{461}}{x_{12}}, d_{3} : \\frac{r_{461}}{x_{12} x_{23}}, d_{4} : r_{462}, d_{5} : r_{463}, a_{12} : r_{464}, a_{13} : r_{465}, a_{14} : r_{466}, a_{15} : r_{467}, a_{23} : \\frac{r_{464} x_{12} x_{23} - r_{461} x_{13}}{x_{12}^{2} x_{23}}, a_{24} : 0, a_{25} : -\\frac{r_{463} x_{15}}{x_{12}}, a_{34} : -\\frac{r_{462} x_{24}}{x_{23}}, a_{35} : r_{468}, a_{45} : -\\frac{r_{468} x_{23}}{x_{24}}\\right\\}\\right]</script></html>"
      ],
      "text/latex": [
       "$$\\newcommand{\\Bold}[1]{\\mathbf{#1}}\\left[\\left\\{d_{1} : 0, d_{2} : 0, d_{3} : 0, d_{4} : r_{451}, d_{5} : r_{452}, a_{12} : r_{453}, a_{13} : r_{454}, a_{14} : r_{455}, a_{15} : r_{456}, a_{23} : r_{457}, a_{24} : r_{458}, a_{25} : r_{459}, a_{34} : -\\frac{r_{451} x_{24}}{x_{23}}, a_{35} : r_{460}, a_{45} : -\\frac{r_{460} x_{23}}{x_{24}}\\right\\}, \\left\\{d_{1} : r_{461}, d_{2} : \\frac{r_{461}}{x_{12}}, d_{3} : \\frac{r_{461}}{x_{12} x_{23}}, d_{4} : r_{462}, d_{5} : r_{463}, a_{12} : r_{464}, a_{13} : r_{465}, a_{14} : r_{466}, a_{15} : r_{467}, a_{23} : \\frac{r_{464} x_{12} x_{23} - r_{461} x_{13}}{x_{12}^{2} x_{23}}, a_{24} : 0, a_{25} : -\\frac{r_{463} x_{15}}{x_{12}}, a_{34} : -\\frac{r_{462} x_{24}}{x_{23}}, a_{35} : r_{468}, a_{45} : -\\frac{r_{468} x_{23}}{x_{24}}\\right\\}\\right]$$"
      ],
      "text/plain": [
       "[{d1: 0,\n",
       "  d2: 0,\n",
       "  d3: 0,\n",
       "  d4: r451,\n",
       "  d5: r452,\n",
       "  a12: r453,\n",
       "  a13: r454,\n",
       "  a14: r455,\n",
       "  a15: r456,\n",
       "  a23: r457,\n",
       "  a24: r458,\n",
       "  a25: r459,\n",
       "  a34: -r451*x24/x23,\n",
       "  a35: r460,\n",
       "  a45: -r460*x23/x24},\n",
       " {d1: r461,\n",
       "  d2: r461/x12,\n",
       "  d3: r461/(x12*x23),\n",
       "  d4: r462,\n",
       "  d5: r463,\n",
       "  a12: r464,\n",
       "  a13: r465,\n",
       "  a14: r466,\n",
       "  a15: r467,\n",
       "  a23: (r464*x12*x23 - r461*x13)/(x12^2*x23),\n",
       "  a24: 0,\n",
       "  a25: -r463*x15/x12,\n",
       "  a34: -r462*x24/x23,\n",
       "  a35: r468,\n",
       "  a45: -r468*x23/x24}]"
      ]
     },
     "metadata": {},
     "output_type": "display_data"
    },
    {
     "data": {
      "text/plain": [
       "\\left[\\left\\{d_{1} : 0, d_{2} : 0, d_{3} : 0, d_{4} : r_{451}, d_{5} : r_{452}, a_{12} : r_{453}, a_{13} : r_{454}, a_{14} : r_{455}, a_{15} : r_{456}, a_{23} : r_{457}, a_{24} : r_{458}, a_{25} : r_{459}, a_{34} : -\\frac{r_{451} x_{24}}{x_{23}}, a_{35} : r_{460}, a_{45} : -\\frac{r_{460} x_{23}}{x_{24}}\\right\\}, \\left\\{d_{1} : r_{461}, d_{2} : \\frac{r_{461}}{x_{12}}, d_{3} : \\frac{r_{461}}{x_{12} x_{23}}, d_{4} : r_{462}, d_{5} : r_{463}, a_{12} : r_{464}, a_{13} : r_{465}, a_{14} : r_{466}, a_{15} : r_{467}, a_{23} : \\frac{r_{464} x_{12} x_{23} - r_{461} x_{13}}{x_{12}^{2} x_{23}}, a_{24} : 0, a_{25} : -\\frac{r_{463} x_{15}}{x_{12}}, a_{34} : -\\frac{r_{462} x_{24}}{x_{23}}, a_{35} : r_{468}, a_{45} : -\\frac{r_{468} x_{23}}{x_{24}}\\right\\}\\right]"
      ]
     },
     "execution_count": 26,
     "metadata": {},
     "output_type": "execute_result"
    }
   ],
   "source": [
    "#x4\n",
    "#-------------------------------\n",
    "#x14= x13*x24/x233\n",
    "#-------------------------------\n",
    "reset()\n",
    "\n",
    "var('x12,x13,x14,x15,x23,x24,x25,x34,x35,x45')\n",
    "var('d1,d2,d3,d4,d5')\n",
    "var('a12,a13,a14,a15,a23,a24,a25,a34,a35,a45')\n",
    "\n",
    "#010111\n",
    "eq1=(d2*x12)/(d1) \n",
    "eq2=(a23*d2*x12+d2*d3*x13-a12*d3*x23)/(d1*d2) \n",
    "eq3=(a24*d2*x12+a34*d2*x13+d2*d4*((x13*x24)/x23)-a12*a34*x23-a12*d4*x24)/(d1*d2) \n",
    "eq4=(a25*d2*d3*x12+a35*d2*d3*x13+a45*d2*d3*((x13*x24)/x23)+d2*d3*d5*x15-a12*a35*d3*x23-a12*a45*d3*x24-a12*d3*d5*0+a12*a23*d5*0-a13*d2*d5*0)/(d1*d2*d3) \n",
    "eq5=(d3*x23)/(d2) \n",
    "eq6=(a34*x23+d4*x24)/(d2) \n",
    "eq7=(a35*d3*x23+a45*d3*x24+d3*d5*0-a23*d5*0)/(d2*d3) \n",
    "eq8=(d5*0)/(d3) \n",
    "\n",
    "m=matrix(QQ, [[0, 1, 0, 0, 0],\n",
    "              [0, 0, 1, 0, 0],\n",
    "              [0, 0, 0, 0, 0],\n",
    "              [0, 0, 0, 0, 0],\n",
    "              [0, 0, 0, 0, 0]])\n",
    "\n",
    "#entry of matrix: (i,j) line i collum j, means (i-1,j-1)\n",
    "sol=solve([ eq1==m[0,1],\teq2==m[0,2],\teq3==m[0,3],\teq4==m[0,4],\t\n",
    "                                            eq5==m[1,2],    eq6==m[1,3],\n",
    "                                                            eq7==m[1,4], eq8==m[2,4]],d1,d2,d3,d4,d5,a12,a13,a14,a15,a23,a24,a25,a34,a35,a45, solution_dict=True)\n",
    "\n",
    "show(m)\n",
    "show(sol)\n",
    "latex(sol)"
   ]
  },
  {
   "cell_type": "code",
   "execution_count": 22,
   "metadata": {},
   "outputs": [
    {
     "data": {
      "text/html": [
       "<html><script type=\"math/tex; mode=display\">\\newcommand{\\Bold}[1]{\\mathbf{#1}}\\left(\\begin{array}{rrrrr}\n",
       "0 & 1 & 0 & 0 & 0 \\\\\n",
       "0 & 0 & 1 & 0 & 0 \\\\\n",
       "0 & 0 & 0 & 0 & 0 \\\\\n",
       "0 & 0 & 0 & 0 & 0 \\\\\n",
       "0 & 0 & 0 & 0 & 0\n",
       "\\end{array}\\right)</script></html>"
      ],
      "text/latex": [
       "$$\\newcommand{\\Bold}[1]{\\mathbf{#1}}\\left(\\begin{array}{rrrrr}\n",
       "0 & 1 & 0 & 0 & 0 \\\\\n",
       "0 & 0 & 1 & 0 & 0 \\\\\n",
       "0 & 0 & 0 & 0 & 0 \\\\\n",
       "0 & 0 & 0 & 0 & 0 \\\\\n",
       "0 & 0 & 0 & 0 & 0\n",
       "\\end{array}\\right)$$"
      ],
      "text/plain": [
       "[0 1 0 0 0]\n",
       "[0 0 1 0 0]\n",
       "[0 0 0 0 0]\n",
       "[0 0 0 0 0]\n",
       "[0 0 0 0 0]"
      ]
     },
     "metadata": {},
     "output_type": "display_data"
    },
    {
     "data": {
      "text/html": [
       "<html><script type=\"math/tex; mode=display\">\\newcommand{\\Bold}[1]{\\mathbf{#1}}\\left[\\left\\{d_{1} : 0, d_{2} : 0, d_{3} : 0, d_{4} : r_{379}, d_{5} : r_{380}, a_{12} : r_{381}, a_{13} : r_{382}, a_{14} : r_{383}, a_{15} : r_{384}, a_{23} : r_{385}, a_{24} : r_{386}, a_{25} : r_{387}, a_{34} : -\\frac{r_{379} x_{24}}{x_{23}}, a_{35} : r_{388}, a_{45} : -\\frac{r_{388} x_{23} + r_{380} x_{25}}{x_{24}}\\right\\}, \\left\\{d_{1} : r_{389}, d_{2} : \\frac{r_{389}}{x_{12}}, d_{3} : \\frac{r_{389}}{x_{12} x_{23}}, d_{4} : r_{390}, d_{5} : r_{391}, a_{12} : r_{392}, a_{13} : r_{393}, a_{14} : r_{394}, a_{15} : r_{395}, a_{23} : \\frac{r_{392}}{x_{12}}, a_{24} : 0, a_{25} : 0, a_{34} : -\\frac{r_{390} x_{24}}{x_{23}}, a_{35} : r_{396}, a_{45} : -\\frac{r_{396} x_{23} + r_{391} x_{25}}{x_{24}}\\right\\}\\right]</script></html>"
      ],
      "text/latex": [
       "$$\\newcommand{\\Bold}[1]{\\mathbf{#1}}\\left[\\left\\{d_{1} : 0, d_{2} : 0, d_{3} : 0, d_{4} : r_{379}, d_{5} : r_{380}, a_{12} : r_{381}, a_{13} : r_{382}, a_{14} : r_{383}, a_{15} : r_{384}, a_{23} : r_{385}, a_{24} : r_{386}, a_{25} : r_{387}, a_{34} : -\\frac{r_{379} x_{24}}{x_{23}}, a_{35} : r_{388}, a_{45} : -\\frac{r_{388} x_{23} + r_{380} x_{25}}{x_{24}}\\right\\}, \\left\\{d_{1} : r_{389}, d_{2} : \\frac{r_{389}}{x_{12}}, d_{3} : \\frac{r_{389}}{x_{12} x_{23}}, d_{4} : r_{390}, d_{5} : r_{391}, a_{12} : r_{392}, a_{13} : r_{393}, a_{14} : r_{394}, a_{15} : r_{395}, a_{23} : \\frac{r_{392}}{x_{12}}, a_{24} : 0, a_{25} : 0, a_{34} : -\\frac{r_{390} x_{24}}{x_{23}}, a_{35} : r_{396}, a_{45} : -\\frac{r_{396} x_{23} + r_{391} x_{25}}{x_{24}}\\right\\}\\right]$$"
      ],
      "text/plain": [
       "[{d1: 0,\n",
       "  d2: 0,\n",
       "  d3: 0,\n",
       "  d4: r379,\n",
       "  d5: r380,\n",
       "  a12: r381,\n",
       "  a13: r382,\n",
       "  a14: r383,\n",
       "  a15: r384,\n",
       "  a23: r385,\n",
       "  a24: r386,\n",
       "  a25: r387,\n",
       "  a34: -r379*x24/x23,\n",
       "  a35: r388,\n",
       "  a45: -(r388*x23 + r380*x25)/x24},\n",
       " {d1: r389,\n",
       "  d2: r389/x12,\n",
       "  d3: r389/(x12*x23),\n",
       "  d4: r390,\n",
       "  d5: r391,\n",
       "  a12: r392,\n",
       "  a13: r393,\n",
       "  a14: r394,\n",
       "  a15: r395,\n",
       "  a23: r392/x12,\n",
       "  a24: 0,\n",
       "  a25: 0,\n",
       "  a34: -r390*x24/x23,\n",
       "  a35: r396,\n",
       "  a45: -(r396*x23 + r391*x25)/x24}]"
      ]
     },
     "metadata": {},
     "output_type": "display_data"
    },
    {
     "data": {
      "text/plain": [
       "\\left[\\left\\{d_{1} : 0, d_{2} : 0, d_{3} : 0, d_{4} : r_{379}, d_{5} : r_{380}, a_{12} : r_{381}, a_{13} : r_{382}, a_{14} : r_{383}, a_{15} : r_{384}, a_{23} : r_{385}, a_{24} : r_{386}, a_{25} : r_{387}, a_{34} : -\\frac{r_{379} x_{24}}{x_{23}}, a_{35} : r_{388}, a_{45} : -\\frac{r_{388} x_{23} + r_{380} x_{25}}{x_{24}}\\right\\}, \\left\\{d_{1} : r_{389}, d_{2} : \\frac{r_{389}}{x_{12}}, d_{3} : \\frac{r_{389}}{x_{12} x_{23}}, d_{4} : r_{390}, d_{5} : r_{391}, a_{12} : r_{392}, a_{13} : r_{393}, a_{14} : r_{394}, a_{15} : r_{395}, a_{23} : \\frac{r_{392}}{x_{12}}, a_{24} : 0, a_{25} : 0, a_{34} : -\\frac{r_{390} x_{24}}{x_{23}}, a_{35} : r_{396}, a_{45} : -\\frac{r_{396} x_{23} + r_{391} x_{25}}{x_{24}}\\right\\}\\right]"
      ]
     },
     "execution_count": 22,
     "metadata": {},
     "output_type": "execute_result"
    }
   ],
   "source": [
    "#x4\n",
    "reset()\n",
    "\n",
    "var('x12,x13,x14,x15,x23,x24,x25,x34,x35,x45')\n",
    "var('d1,d2,d3,d4,d5')\n",
    "var('a12,a13,a14,a15,a23,a24,a25,a34,a35,a45')\n",
    "\n",
    "load_attach_path('C:\\\\Users\\\\julia\\\\Documents\\\\unb\\\\doutorado\\\\pensar\\\\codigo_sage_v2\\\\maquina\\\\x4')\n",
    "load('out_#011000.sage')\n",
    "\n",
    "m=matrix(QQ, [[0, 1, 0, 0, 0],\n",
    "              [0, 0, 1, 0, 0],\n",
    "              [0, 0, 0, 0, 0],\n",
    "              [0, 0, 0, 0, 0],\n",
    "              [0, 0, 0, 0, 0]])\n",
    "        \n",
    "#entry of matrix: (i,j) line i collum j, means (i-1,j-1)\n",
    "sol=solve([ eq1==m[0,1],\teq2==m[0,2],\teq3==m[0,3],\teq4==m[0,4],\t\n",
    "                                            eq5==m[1,2],    eq6==m[1,3],\n",
    "                                                            eq7==m[1,4], eq8==m[2,4]],d1,d2,d3,d4,d5,a12,a13,a14,a15,a23,a24,a25,a34,a35,a45, solution_dict=True)\n",
    "\n",
    "show(m)\n",
    "show(sol)\n",
    "latex(sol)"
   ]
  },
  {
   "cell_type": "code",
   "execution_count": 23,
   "metadata": {},
   "outputs": [
    {
     "data": {
      "text/html": [
       "<html><script type=\"math/tex; mode=display\">\\newcommand{\\Bold}[1]{\\mathbf{#1}}\\left(\\begin{array}{rrrrr}\n",
       "0 & 1 & 0 & 0 & 0 \\\\\n",
       "0 & 0 & 1 & 0 & 0 \\\\\n",
       "0 & 0 & 0 & 0 & 0 \\\\\n",
       "0 & 0 & 0 & 0 & 0 \\\\\n",
       "0 & 0 & 0 & 0 & 0\n",
       "\\end{array}\\right)</script></html>"
      ],
      "text/latex": [
       "$$\\newcommand{\\Bold}[1]{\\mathbf{#1}}\\left(\\begin{array}{rrrrr}\n",
       "0 & 1 & 0 & 0 & 0 \\\\\n",
       "0 & 0 & 1 & 0 & 0 \\\\\n",
       "0 & 0 & 0 & 0 & 0 \\\\\n",
       "0 & 0 & 0 & 0 & 0 \\\\\n",
       "0 & 0 & 0 & 0 & 0\n",
       "\\end{array}\\right)$$"
      ],
      "text/plain": [
       "[0 1 0 0 0]\n",
       "[0 0 1 0 0]\n",
       "[0 0 0 0 0]\n",
       "[0 0 0 0 0]\n",
       "[0 0 0 0 0]"
      ]
     },
     "metadata": {},
     "output_type": "display_data"
    },
    {
     "data": {
      "text/html": [
       "<html><script type=\"math/tex; mode=display\">\\newcommand{\\Bold}[1]{\\mathbf{#1}}\\left[\\left\\{d_{1} : 0, d_{2} : 0, d_{3} : 0, d_{4} : r_{397}, d_{5} : r_{398}, a_{12} : r_{399}, a_{13} : r_{400}, a_{14} : r_{401}, a_{15} : r_{402}, a_{23} : r_{403}, a_{24} : r_{404}, a_{25} : r_{405}, a_{34} : -\\frac{r_{397} x_{24}}{x_{23}}, a_{35} : r_{406}, a_{45} : -\\frac{r_{406} x_{23} + r_{398} x_{25}}{x_{24}}\\right\\}, \\left\\{d_{1} : r_{407}, d_{2} : \\frac{r_{407}}{x_{12}}, d_{3} : \\frac{r_{407}}{x_{12} x_{23}}, d_{4} : r_{408}, d_{5} : r_{409}, a_{12} : r_{410}, a_{13} : r_{411}, a_{14} : r_{412}, a_{15} : r_{413}, a_{23} : \\frac{r_{410}}{x_{12}}, a_{24} : 0, a_{25} : -\\frac{r_{409} x_{15}}{x_{12}}, a_{34} : -\\frac{r_{408} x_{24}}{x_{23}}, a_{35} : r_{414}, a_{45} : -\\frac{r_{414} x_{23} + r_{409} x_{25}}{x_{24}}\\right\\}\\right]</script></html>"
      ],
      "text/latex": [
       "$$\\newcommand{\\Bold}[1]{\\mathbf{#1}}\\left[\\left\\{d_{1} : 0, d_{2} : 0, d_{3} : 0, d_{4} : r_{397}, d_{5} : r_{398}, a_{12} : r_{399}, a_{13} : r_{400}, a_{14} : r_{401}, a_{15} : r_{402}, a_{23} : r_{403}, a_{24} : r_{404}, a_{25} : r_{405}, a_{34} : -\\frac{r_{397} x_{24}}{x_{23}}, a_{35} : r_{406}, a_{45} : -\\frac{r_{406} x_{23} + r_{398} x_{25}}{x_{24}}\\right\\}, \\left\\{d_{1} : r_{407}, d_{2} : \\frac{r_{407}}{x_{12}}, d_{3} : \\frac{r_{407}}{x_{12} x_{23}}, d_{4} : r_{408}, d_{5} : r_{409}, a_{12} : r_{410}, a_{13} : r_{411}, a_{14} : r_{412}, a_{15} : r_{413}, a_{23} : \\frac{r_{410}}{x_{12}}, a_{24} : 0, a_{25} : -\\frac{r_{409} x_{15}}{x_{12}}, a_{34} : -\\frac{r_{408} x_{24}}{x_{23}}, a_{35} : r_{414}, a_{45} : -\\frac{r_{414} x_{23} + r_{409} x_{25}}{x_{24}}\\right\\}\\right]$$"
      ],
      "text/plain": [
       "[{d1: 0,\n",
       "  d2: 0,\n",
       "  d3: 0,\n",
       "  d4: r397,\n",
       "  d5: r398,\n",
       "  a12: r399,\n",
       "  a13: r400,\n",
       "  a14: r401,\n",
       "  a15: r402,\n",
       "  a23: r403,\n",
       "  a24: r404,\n",
       "  a25: r405,\n",
       "  a34: -r397*x24/x23,\n",
       "  a35: r406,\n",
       "  a45: -(r406*x23 + r398*x25)/x24},\n",
       " {d1: r407,\n",
       "  d2: r407/x12,\n",
       "  d3: r407/(x12*x23),\n",
       "  d4: r408,\n",
       "  d5: r409,\n",
       "  a12: r410,\n",
       "  a13: r411,\n",
       "  a14: r412,\n",
       "  a15: r413,\n",
       "  a23: r410/x12,\n",
       "  a24: 0,\n",
       "  a25: -r409*x15/x12,\n",
       "  a34: -r408*x24/x23,\n",
       "  a35: r414,\n",
       "  a45: -(r414*x23 + r409*x25)/x24}]"
      ]
     },
     "metadata": {},
     "output_type": "display_data"
    },
    {
     "data": {
      "text/plain": [
       "\\left[\\left\\{d_{1} : 0, d_{2} : 0, d_{3} : 0, d_{4} : r_{397}, d_{5} : r_{398}, a_{12} : r_{399}, a_{13} : r_{400}, a_{14} : r_{401}, a_{15} : r_{402}, a_{23} : r_{403}, a_{24} : r_{404}, a_{25} : r_{405}, a_{34} : -\\frac{r_{397} x_{24}}{x_{23}}, a_{35} : r_{406}, a_{45} : -\\frac{r_{406} x_{23} + r_{398} x_{25}}{x_{24}}\\right\\}, \\left\\{d_{1} : r_{407}, d_{2} : \\frac{r_{407}}{x_{12}}, d_{3} : \\frac{r_{407}}{x_{12} x_{23}}, d_{4} : r_{408}, d_{5} : r_{409}, a_{12} : r_{410}, a_{13} : r_{411}, a_{14} : r_{412}, a_{15} : r_{413}, a_{23} : \\frac{r_{410}}{x_{12}}, a_{24} : 0, a_{25} : -\\frac{r_{409} x_{15}}{x_{12}}, a_{34} : -\\frac{r_{408} x_{24}}{x_{23}}, a_{35} : r_{414}, a_{45} : -\\frac{r_{414} x_{23} + r_{409} x_{25}}{x_{24}}\\right\\}\\right]"
      ]
     },
     "execution_count": 23,
     "metadata": {},
     "output_type": "execute_result"
    }
   ],
   "source": [
    "#x4\n",
    "reset()\n",
    "\n",
    "var('x12,x13,x14,x15,x23,x24,x25,x34,x35,x45')\n",
    "var('d1,d2,d3,d4,d5')\n",
    "var('a12,a13,a14,a15,a23,a24,a25,a34,a35,a45')\n",
    "\n",
    "load_attach_path('C:\\\\Users\\\\julia\\\\Documents\\\\unb\\\\doutorado\\\\pensar\\\\codigo_sage_v2\\\\maquina\\\\x4')\n",
    "load('out_#011001.sage')\n",
    "\n",
    "m=matrix(QQ, [[0, 1, 0, 0, 0],\n",
    "              [0, 0, 1, 0, 0],\n",
    "              [0, 0, 0, 0, 0],\n",
    "              [0, 0, 0, 0, 0],\n",
    "              [0, 0, 0, 0, 0]])\n",
    "        \n",
    "#entry of matrix: (i,j) line i collum j, means (i-1,j-1)\n",
    "sol=solve([ eq1==m[0,1],\teq2==m[0,2],\teq3==m[0,3],\teq4==m[0,4],\t\n",
    "                                            eq5==m[1,2],    eq6==m[1,3],\n",
    "                                                            eq7==m[1,4], eq8==m[2,4]],d1,d2,d3,d4,d5,a12,a13,a14,a15,a23,a24,a25,a34,a35,a45, solution_dict=True)\n",
    "\n",
    "show(m)\n",
    "show(sol)\n",
    "latex(sol)"
   ]
  },
  {
   "cell_type": "code",
   "execution_count": 24,
   "metadata": {},
   "outputs": [
    {
     "data": {
      "text/html": [
       "<html><script type=\"math/tex; mode=display\">\\newcommand{\\Bold}[1]{\\mathbf{#1}}\\left(\\begin{array}{rrrrr}\n",
       "0 & 1 & 0 & 0 & 0 \\\\\n",
       "0 & 0 & 1 & 0 & 0 \\\\\n",
       "0 & 0 & 0 & 0 & 0 \\\\\n",
       "0 & 0 & 0 & 0 & 0 \\\\\n",
       "0 & 0 & 0 & 0 & 0\n",
       "\\end{array}\\right)</script></html>"
      ],
      "text/latex": [
       "$$\\newcommand{\\Bold}[1]{\\mathbf{#1}}\\left(\\begin{array}{rrrrr}\n",
       "0 & 1 & 0 & 0 & 0 \\\\\n",
       "0 & 0 & 1 & 0 & 0 \\\\\n",
       "0 & 0 & 0 & 0 & 0 \\\\\n",
       "0 & 0 & 0 & 0 & 0 \\\\\n",
       "0 & 0 & 0 & 0 & 0\n",
       "\\end{array}\\right)$$"
      ],
      "text/plain": [
       "[0 1 0 0 0]\n",
       "[0 0 1 0 0]\n",
       "[0 0 0 0 0]\n",
       "[0 0 0 0 0]\n",
       "[0 0 0 0 0]"
      ]
     },
     "metadata": {},
     "output_type": "display_data"
    },
    {
     "data": {
      "text/html": [
       "<html><script type=\"math/tex; mode=display\">\\newcommand{\\Bold}[1]{\\mathbf{#1}}\\left[\\left\\{d_{1} : 0, d_{2} : 0, d_{3} : 0, d_{4} : r_{415}, d_{5} : r_{416}, a_{12} : r_{417}, a_{13} : r_{418}, a_{14} : r_{419}, a_{15} : r_{420}, a_{23} : r_{421}, a_{24} : r_{422}, a_{25} : r_{423}, a_{34} : -\\frac{r_{415} x_{24}}{x_{23}}, a_{35} : r_{424}, a_{45} : -\\frac{r_{424} x_{23} + r_{416} x_{25}}{x_{24}}\\right\\}, \\left\\{d_{1} : r_{425}, d_{2} : \\frac{r_{425}}{x_{12}}, d_{3} : \\frac{r_{425}}{x_{12} x_{23}}, d_{4} : r_{426}, d_{5} : r_{427}, a_{12} : r_{428}, a_{13} : r_{429}, a_{14} : r_{430}, a_{15} : r_{431}, a_{23} : \\frac{r_{428}}{x_{12}}, a_{24} : -\\frac{r_{426} x_{14}}{x_{12}}, a_{25} : r_{432}, a_{34} : -\\frac{r_{426} x_{24}}{x_{23}}, a_{35} : \\frac{r_{432} x_{12} x_{24} - r_{427} x_{14} x_{25}}{x_{14} x_{23}}, a_{45} : -\\frac{r_{432} x_{12}}{x_{14}}\\right\\}\\right]</script></html>"
      ],
      "text/latex": [
       "$$\\newcommand{\\Bold}[1]{\\mathbf{#1}}\\left[\\left\\{d_{1} : 0, d_{2} : 0, d_{3} : 0, d_{4} : r_{415}, d_{5} : r_{416}, a_{12} : r_{417}, a_{13} : r_{418}, a_{14} : r_{419}, a_{15} : r_{420}, a_{23} : r_{421}, a_{24} : r_{422}, a_{25} : r_{423}, a_{34} : -\\frac{r_{415} x_{24}}{x_{23}}, a_{35} : r_{424}, a_{45} : -\\frac{r_{424} x_{23} + r_{416} x_{25}}{x_{24}}\\right\\}, \\left\\{d_{1} : r_{425}, d_{2} : \\frac{r_{425}}{x_{12}}, d_{3} : \\frac{r_{425}}{x_{12} x_{23}}, d_{4} : r_{426}, d_{5} : r_{427}, a_{12} : r_{428}, a_{13} : r_{429}, a_{14} : r_{430}, a_{15} : r_{431}, a_{23} : \\frac{r_{428}}{x_{12}}, a_{24} : -\\frac{r_{426} x_{14}}{x_{12}}, a_{25} : r_{432}, a_{34} : -\\frac{r_{426} x_{24}}{x_{23}}, a_{35} : \\frac{r_{432} x_{12} x_{24} - r_{427} x_{14} x_{25}}{x_{14} x_{23}}, a_{45} : -\\frac{r_{432} x_{12}}{x_{14}}\\right\\}\\right]$$"
      ],
      "text/plain": [
       "[{d1: 0,\n",
       "  d2: 0,\n",
       "  d3: 0,\n",
       "  d4: r415,\n",
       "  d5: r416,\n",
       "  a12: r417,\n",
       "  a13: r418,\n",
       "  a14: r419,\n",
       "  a15: r420,\n",
       "  a23: r421,\n",
       "  a24: r422,\n",
       "  a25: r423,\n",
       "  a34: -r415*x24/x23,\n",
       "  a35: r424,\n",
       "  a45: -(r424*x23 + r416*x25)/x24},\n",
       " {d1: r425,\n",
       "  d2: r425/x12,\n",
       "  d3: r425/(x12*x23),\n",
       "  d4: r426,\n",
       "  d5: r427,\n",
       "  a12: r428,\n",
       "  a13: r429,\n",
       "  a14: r430,\n",
       "  a15: r431,\n",
       "  a23: r428/x12,\n",
       "  a24: -r426*x14/x12,\n",
       "  a25: r432,\n",
       "  a34: -r426*x24/x23,\n",
       "  a35: (r432*x12*x24 - r427*x14*x25)/(x14*x23),\n",
       "  a45: -r432*x12/x14}]"
      ]
     },
     "metadata": {},
     "output_type": "display_data"
    },
    {
     "data": {
      "text/plain": [
       "\\left[\\left\\{d_{1} : 0, d_{2} : 0, d_{3} : 0, d_{4} : r_{415}, d_{5} : r_{416}, a_{12} : r_{417}, a_{13} : r_{418}, a_{14} : r_{419}, a_{15} : r_{420}, a_{23} : r_{421}, a_{24} : r_{422}, a_{25} : r_{423}, a_{34} : -\\frac{r_{415} x_{24}}{x_{23}}, a_{35} : r_{424}, a_{45} : -\\frac{r_{424} x_{23} + r_{416} x_{25}}{x_{24}}\\right\\}, \\left\\{d_{1} : r_{425}, d_{2} : \\frac{r_{425}}{x_{12}}, d_{3} : \\frac{r_{425}}{x_{12} x_{23}}, d_{4} : r_{426}, d_{5} : r_{427}, a_{12} : r_{428}, a_{13} : r_{429}, a_{14} : r_{430}, a_{15} : r_{431}, a_{23} : \\frac{r_{428}}{x_{12}}, a_{24} : -\\frac{r_{426} x_{14}}{x_{12}}, a_{25} : r_{432}, a_{34} : -\\frac{r_{426} x_{24}}{x_{23}}, a_{35} : \\frac{r_{432} x_{12} x_{24} - r_{427} x_{14} x_{25}}{x_{14} x_{23}}, a_{45} : -\\frac{r_{432} x_{12}}{x_{14}}\\right\\}\\right]"
      ]
     },
     "execution_count": 24,
     "metadata": {},
     "output_type": "execute_result"
    }
   ],
   "source": [
    "#x4\n",
    "reset()\n",
    "\n",
    "var('x12,x13,x14,x15,x23,x24,x25,x34,x35,x45')\n",
    "var('d1,d2,d3,d4,d5')\n",
    "var('a12,a13,a14,a15,a23,a24,a25,a34,a35,a45')\n",
    "\n",
    "load_attach_path('C:\\\\Users\\\\julia\\\\Documents\\\\unb\\\\doutorado\\\\pensar\\\\codigo_sage_v2\\\\maquina\\\\x4')\n",
    "load('out_#011010.sage')\n",
    "\n",
    "m=matrix(QQ, [[0, 1, 0, 0, 0],\n",
    "              [0, 0, 1, 0, 0],\n",
    "              [0, 0, 0, 0, 0],\n",
    "              [0, 0, 0, 0, 0],\n",
    "              [0, 0, 0, 0, 0]])\n",
    "        \n",
    "#entry of matrix: (i,j) line i collum j, means (i-1,j-1)\n",
    "sol=solve([ eq1==m[0,1],\teq2==m[0,2],\teq3==m[0,3],\teq4==m[0,4],\t\n",
    "                                            eq5==m[1,2],    eq6==m[1,3],\n",
    "                                                            eq7==m[1,4], eq8==m[2,4]],d1,d2,d3,d4,d5,a12,a13,a14,a15,a23,a24,a25,a34,a35,a45, solution_dict=True)\n",
    "\n",
    "show(m)\n",
    "show(sol)\n",
    "latex(sol)"
   ]
  },
  {
   "cell_type": "code",
   "execution_count": 25,
   "metadata": {},
   "outputs": [
    {
     "data": {
      "text/html": [
       "<html><script type=\"math/tex; mode=display\">\\newcommand{\\Bold}[1]{\\mathbf{#1}}\\left(\\begin{array}{rrrrr}\n",
       "0 & 1 & 0 & 0 & 0 \\\\\n",
       "0 & 0 & 1 & 0 & 0 \\\\\n",
       "0 & 0 & 0 & 0 & 0 \\\\\n",
       "0 & 0 & 0 & 0 & 0 \\\\\n",
       "0 & 0 & 0 & 0 & 0\n",
       "\\end{array}\\right)</script></html>"
      ],
      "text/latex": [
       "$$\\newcommand{\\Bold}[1]{\\mathbf{#1}}\\left(\\begin{array}{rrrrr}\n",
       "0 & 1 & 0 & 0 & 0 \\\\\n",
       "0 & 0 & 1 & 0 & 0 \\\\\n",
       "0 & 0 & 0 & 0 & 0 \\\\\n",
       "0 & 0 & 0 & 0 & 0 \\\\\n",
       "0 & 0 & 0 & 0 & 0\n",
       "\\end{array}\\right)$$"
      ],
      "text/plain": [
       "[0 1 0 0 0]\n",
       "[0 0 1 0 0]\n",
       "[0 0 0 0 0]\n",
       "[0 0 0 0 0]\n",
       "[0 0 0 0 0]"
      ]
     },
     "metadata": {},
     "output_type": "display_data"
    },
    {
     "data": {
      "text/html": [
       "<html><script type=\"math/tex; mode=display\">\\newcommand{\\Bold}[1]{\\mathbf{#1}}\\left[\\left\\{d_{1} : 0, d_{2} : 0, d_{3} : 0, d_{4} : r_{433}, d_{5} : r_{434}, a_{12} : r_{435}, a_{13} : r_{436}, a_{14} : r_{437}, a_{15} : r_{438}, a_{23} : r_{439}, a_{24} : r_{440}, a_{25} : r_{441}, a_{34} : -\\frac{r_{433} x_{24}}{x_{23}}, a_{35} : r_{442}, a_{45} : -\\frac{r_{442} x_{23} + r_{434} x_{25}}{x_{24}}\\right\\}, \\left\\{d_{1} : r_{443}, d_{2} : \\frac{r_{443}}{x_{12}}, d_{3} : \\frac{r_{443}}{x_{12} x_{23}}, d_{4} : r_{444}, d_{5} : r_{445}, a_{12} : r_{446}, a_{13} : r_{447}, a_{14} : r_{448}, a_{15} : r_{449}, a_{23} : \\frac{r_{446}}{x_{12}}, a_{24} : -\\frac{r_{444} x_{14}}{x_{12}}, a_{25} : r_{450}, a_{34} : -\\frac{r_{444} x_{24}}{x_{23}}, a_{35} : -\\frac{r_{445} x_{14} x_{25} - {\\left(r_{450} x_{12} + r_{445} x_{15}\\right)} x_{24}}{x_{14} x_{23}}, a_{45} : -\\frac{r_{450} x_{12} + r_{445} x_{15}}{x_{14}}\\right\\}\\right]</script></html>"
      ],
      "text/latex": [
       "$$\\newcommand{\\Bold}[1]{\\mathbf{#1}}\\left[\\left\\{d_{1} : 0, d_{2} : 0, d_{3} : 0, d_{4} : r_{433}, d_{5} : r_{434}, a_{12} : r_{435}, a_{13} : r_{436}, a_{14} : r_{437}, a_{15} : r_{438}, a_{23} : r_{439}, a_{24} : r_{440}, a_{25} : r_{441}, a_{34} : -\\frac{r_{433} x_{24}}{x_{23}}, a_{35} : r_{442}, a_{45} : -\\frac{r_{442} x_{23} + r_{434} x_{25}}{x_{24}}\\right\\}, \\left\\{d_{1} : r_{443}, d_{2} : \\frac{r_{443}}{x_{12}}, d_{3} : \\frac{r_{443}}{x_{12} x_{23}}, d_{4} : r_{444}, d_{5} : r_{445}, a_{12} : r_{446}, a_{13} : r_{447}, a_{14} : r_{448}, a_{15} : r_{449}, a_{23} : \\frac{r_{446}}{x_{12}}, a_{24} : -\\frac{r_{444} x_{14}}{x_{12}}, a_{25} : r_{450}, a_{34} : -\\frac{r_{444} x_{24}}{x_{23}}, a_{35} : -\\frac{r_{445} x_{14} x_{25} - {\\left(r_{450} x_{12} + r_{445} x_{15}\\right)} x_{24}}{x_{14} x_{23}}, a_{45} : -\\frac{r_{450} x_{12} + r_{445} x_{15}}{x_{14}}\\right\\}\\right]$$"
      ],
      "text/plain": [
       "[{d1: 0,\n",
       "  d2: 0,\n",
       "  d3: 0,\n",
       "  d4: r433,\n",
       "  d5: r434,\n",
       "  a12: r435,\n",
       "  a13: r436,\n",
       "  a14: r437,\n",
       "  a15: r438,\n",
       "  a23: r439,\n",
       "  a24: r440,\n",
       "  a25: r441,\n",
       "  a34: -r433*x24/x23,\n",
       "  a35: r442,\n",
       "  a45: -(r442*x23 + r434*x25)/x24},\n",
       " {d1: r443,\n",
       "  d2: r443/x12,\n",
       "  d3: r443/(x12*x23),\n",
       "  d4: r444,\n",
       "  d5: r445,\n",
       "  a12: r446,\n",
       "  a13: r447,\n",
       "  a14: r448,\n",
       "  a15: r449,\n",
       "  a23: r446/x12,\n",
       "  a24: -r444*x14/x12,\n",
       "  a25: r450,\n",
       "  a34: -r444*x24/x23,\n",
       "  a35: -(r445*x14*x25 - (r450*x12 + r445*x15)*x24)/(x14*x23),\n",
       "  a45: -(r450*x12 + r445*x15)/x14}]"
      ]
     },
     "metadata": {},
     "output_type": "display_data"
    },
    {
     "data": {
      "text/plain": [
       "\\left[\\left\\{d_{1} : 0, d_{2} : 0, d_{3} : 0, d_{4} : r_{433}, d_{5} : r_{434}, a_{12} : r_{435}, a_{13} : r_{436}, a_{14} : r_{437}, a_{15} : r_{438}, a_{23} : r_{439}, a_{24} : r_{440}, a_{25} : r_{441}, a_{34} : -\\frac{r_{433} x_{24}}{x_{23}}, a_{35} : r_{442}, a_{45} : -\\frac{r_{442} x_{23} + r_{434} x_{25}}{x_{24}}\\right\\}, \\left\\{d_{1} : r_{443}, d_{2} : \\frac{r_{443}}{x_{12}}, d_{3} : \\frac{r_{443}}{x_{12} x_{23}}, d_{4} : r_{444}, d_{5} : r_{445}, a_{12} : r_{446}, a_{13} : r_{447}, a_{14} : r_{448}, a_{15} : r_{449}, a_{23} : \\frac{r_{446}}{x_{12}}, a_{24} : -\\frac{r_{444} x_{14}}{x_{12}}, a_{25} : r_{450}, a_{34} : -\\frac{r_{444} x_{24}}{x_{23}}, a_{35} : -\\frac{r_{445} x_{14} x_{25} - {\\left(r_{450} x_{12} + r_{445} x_{15}\\right)} x_{24}}{x_{14} x_{23}}, a_{45} : -\\frac{r_{450} x_{12} + r_{445} x_{15}}{x_{14}}\\right\\}\\right]"
      ]
     },
     "execution_count": 25,
     "metadata": {},
     "output_type": "execute_result"
    }
   ],
   "source": [
    "#x4\n",
    "reset()\n",
    "\n",
    "var('x12,x13,x14,x15,x23,x24,x25,x34,x35,x45')\n",
    "var('d1,d2,d3,d4,d5')\n",
    "var('a12,a13,a14,a15,a23,a24,a25,a34,a35,a45')\n",
    "\n",
    "load_attach_path('C:\\\\Users\\\\julia\\\\Documents\\\\unb\\\\doutorado\\\\pensar\\\\codigo_sage_v2\\\\maquina\\\\x4')\n",
    "load('out_#011011.sage')\n",
    "\n",
    "m=matrix(QQ, [[0, 1, 0, 0, 0],\n",
    "              [0, 0, 1, 0, 0],\n",
    "              [0, 0, 0, 0, 0],\n",
    "              [0, 0, 0, 0, 0],\n",
    "              [0, 0, 0, 0, 0]])\n",
    "        \n",
    "#entry of matrix: (i,j) line i collum j, means (i-1,j-1)\n",
    "sol=solve([ eq1==m[0,1],\teq2==m[0,2],\teq3==m[0,3],\teq4==m[0,4],\t\n",
    "                                            eq5==m[1,2],    eq6==m[1,3],\n",
    "                                                            eq7==m[1,4], eq8==m[2,4]],d1,d2,d3,d4,d5,a12,a13,a14,a15,a23,a24,a25,a34,a35,a45, solution_dict=True)\n",
    "\n",
    "show(m)\n",
    "show(sol)\n",
    "latex(sol)"
   ]
  },
  {
   "cell_type": "code",
   "execution_count": 26,
   "metadata": {},
   "outputs": [
    {
     "data": {
      "text/html": [
       "<html><script type=\"math/tex; mode=display\">\\newcommand{\\Bold}[1]{\\mathbf{#1}}\\left(\\begin{array}{rrrrr}\n",
       "0 & 1 & 0 & 0 & 0 \\\\\n",
       "0 & 0 & 1 & 0 & 0 \\\\\n",
       "0 & 0 & 0 & 0 & 0 \\\\\n",
       "0 & 0 & 0 & 0 & 0 \\\\\n",
       "0 & 0 & 0 & 0 & 0\n",
       "\\end{array}\\right)</script></html>"
      ],
      "text/latex": [
       "$$\\newcommand{\\Bold}[1]{\\mathbf{#1}}\\left(\\begin{array}{rrrrr}\n",
       "0 & 1 & 0 & 0 & 0 \\\\\n",
       "0 & 0 & 1 & 0 & 0 \\\\\n",
       "0 & 0 & 0 & 0 & 0 \\\\\n",
       "0 & 0 & 0 & 0 & 0 \\\\\n",
       "0 & 0 & 0 & 0 & 0\n",
       "\\end{array}\\right)$$"
      ],
      "text/plain": [
       "[0 1 0 0 0]\n",
       "[0 0 1 0 0]\n",
       "[0 0 0 0 0]\n",
       "[0 0 0 0 0]\n",
       "[0 0 0 0 0]"
      ]
     },
     "metadata": {},
     "output_type": "display_data"
    },
    {
     "data": {
      "text/html": [
       "<html><script type=\"math/tex; mode=display\">\\newcommand{\\Bold}[1]{\\mathbf{#1}}\\left[\\left\\{d_{1} : 0, d_{2} : 0, d_{3} : 0, d_{4} : r_{451}, d_{5} : r_{452}, a_{12} : r_{453}, a_{13} : r_{454}, a_{14} : r_{455}, a_{15} : r_{456}, a_{23} : r_{457}, a_{24} : r_{458}, a_{25} : r_{459}, a_{34} : -\\frac{r_{451} x_{24}}{x_{23}}, a_{35} : r_{460}, a_{45} : -\\frac{r_{460} x_{23} + r_{452} x_{25}}{x_{24}}\\right\\}, \\left\\{d_{1} : r_{461}, d_{2} : \\frac{r_{461}}{x_{12}}, d_{3} : \\frac{r_{461}}{x_{12} x_{23}}, d_{4} : r_{462}, d_{5} : r_{463}, a_{12} : r_{464}, a_{13} : r_{465}, a_{14} : r_{466}, a_{15} : r_{467}, a_{23} : \\frac{r_{464} x_{12} x_{23} - r_{461} x_{13}}{x_{12}^{2} x_{23}}, a_{24} : \\frac{r_{462} x_{13} x_{24}}{x_{12} x_{23}}, a_{25} : r_{468}, a_{34} : -\\frac{r_{462} x_{24}}{x_{23}}, a_{35} : -\\frac{r_{468} x_{12}}{x_{13}}, a_{45} : \\frac{r_{468} x_{12} x_{23} - r_{463} x_{13} x_{25}}{x_{13} x_{24}}\\right\\}\\right]</script></html>"
      ],
      "text/latex": [
       "$$\\newcommand{\\Bold}[1]{\\mathbf{#1}}\\left[\\left\\{d_{1} : 0, d_{2} : 0, d_{3} : 0, d_{4} : r_{451}, d_{5} : r_{452}, a_{12} : r_{453}, a_{13} : r_{454}, a_{14} : r_{455}, a_{15} : r_{456}, a_{23} : r_{457}, a_{24} : r_{458}, a_{25} : r_{459}, a_{34} : -\\frac{r_{451} x_{24}}{x_{23}}, a_{35} : r_{460}, a_{45} : -\\frac{r_{460} x_{23} + r_{452} x_{25}}{x_{24}}\\right\\}, \\left\\{d_{1} : r_{461}, d_{2} : \\frac{r_{461}}{x_{12}}, d_{3} : \\frac{r_{461}}{x_{12} x_{23}}, d_{4} : r_{462}, d_{5} : r_{463}, a_{12} : r_{464}, a_{13} : r_{465}, a_{14} : r_{466}, a_{15} : r_{467}, a_{23} : \\frac{r_{464} x_{12} x_{23} - r_{461} x_{13}}{x_{12}^{2} x_{23}}, a_{24} : \\frac{r_{462} x_{13} x_{24}}{x_{12} x_{23}}, a_{25} : r_{468}, a_{34} : -\\frac{r_{462} x_{24}}{x_{23}}, a_{35} : -\\frac{r_{468} x_{12}}{x_{13}}, a_{45} : \\frac{r_{468} x_{12} x_{23} - r_{463} x_{13} x_{25}}{x_{13} x_{24}}\\right\\}\\right]$$"
      ],
      "text/plain": [
       "[{d1: 0,\n",
       "  d2: 0,\n",
       "  d3: 0,\n",
       "  d4: r451,\n",
       "  d5: r452,\n",
       "  a12: r453,\n",
       "  a13: r454,\n",
       "  a14: r455,\n",
       "  a15: r456,\n",
       "  a23: r457,\n",
       "  a24: r458,\n",
       "  a25: r459,\n",
       "  a34: -r451*x24/x23,\n",
       "  a35: r460,\n",
       "  a45: -(r460*x23 + r452*x25)/x24},\n",
       " {d1: r461,\n",
       "  d2: r461/x12,\n",
       "  d3: r461/(x12*x23),\n",
       "  d4: r462,\n",
       "  d5: r463,\n",
       "  a12: r464,\n",
       "  a13: r465,\n",
       "  a14: r466,\n",
       "  a15: r467,\n",
       "  a23: (r464*x12*x23 - r461*x13)/(x12^2*x23),\n",
       "  a24: r462*x13*x24/(x12*x23),\n",
       "  a25: r468,\n",
       "  a34: -r462*x24/x23,\n",
       "  a35: -r468*x12/x13,\n",
       "  a45: (r468*x12*x23 - r463*x13*x25)/(x13*x24)}]"
      ]
     },
     "metadata": {},
     "output_type": "display_data"
    },
    {
     "data": {
      "text/plain": [
       "\\left[\\left\\{d_{1} : 0, d_{2} : 0, d_{3} : 0, d_{4} : r_{451}, d_{5} : r_{452}, a_{12} : r_{453}, a_{13} : r_{454}, a_{14} : r_{455}, a_{15} : r_{456}, a_{23} : r_{457}, a_{24} : r_{458}, a_{25} : r_{459}, a_{34} : -\\frac{r_{451} x_{24}}{x_{23}}, a_{35} : r_{460}, a_{45} : -\\frac{r_{460} x_{23} + r_{452} x_{25}}{x_{24}}\\right\\}, \\left\\{d_{1} : r_{461}, d_{2} : \\frac{r_{461}}{x_{12}}, d_{3} : \\frac{r_{461}}{x_{12} x_{23}}, d_{4} : r_{462}, d_{5} : r_{463}, a_{12} : r_{464}, a_{13} : r_{465}, a_{14} : r_{466}, a_{15} : r_{467}, a_{23} : \\frac{r_{464} x_{12} x_{23} - r_{461} x_{13}}{x_{12}^{2} x_{23}}, a_{24} : \\frac{r_{462} x_{13} x_{24}}{x_{12} x_{23}}, a_{25} : r_{468}, a_{34} : -\\frac{r_{462} x_{24}}{x_{23}}, a_{35} : -\\frac{r_{468} x_{12}}{x_{13}}, a_{45} : \\frac{r_{468} x_{12} x_{23} - r_{463} x_{13} x_{25}}{x_{13} x_{24}}\\right\\}\\right]"
      ]
     },
     "execution_count": 26,
     "metadata": {},
     "output_type": "execute_result"
    }
   ],
   "source": [
    "#x4\n",
    "reset()\n",
    "\n",
    "var('x12,x13,x14,x15,x23,x24,x25,x34,x35,x45')\n",
    "var('d1,d2,d3,d4,d5')\n",
    "var('a12,a13,a14,a15,a23,a24,a25,a34,a35,a45')\n",
    "\n",
    "load_attach_path('C:\\\\Users\\\\julia\\\\Documents\\\\unb\\\\doutorado\\\\pensar\\\\codigo_sage_v2\\\\maquina\\\\x4')\n",
    "load('out_#011100.sage')\n",
    "\n",
    "m=matrix(QQ, [[0, 1, 0, 0, 0],\n",
    "              [0, 0, 1, 0, 0],\n",
    "              [0, 0, 0, 0, 0],\n",
    "              [0, 0, 0, 0, 0],\n",
    "              [0, 0, 0, 0, 0]])\n",
    "        \n",
    "#entry of matrix: (i,j) line i collum j, means (i-1,j-1)\n",
    "sol=solve([ eq1==m[0,1],\teq2==m[0,2],\teq3==m[0,3],\teq4==m[0,4],\t\n",
    "                                            eq5==m[1,2],    eq6==m[1,3],\n",
    "                                                            eq7==m[1,4], eq8==m[2,4]],d1,d2,d3,d4,d5,a12,a13,a14,a15,a23,a24,a25,a34,a35,a45, solution_dict=True)\n",
    "\n",
    "show(m)\n",
    "show(sol)\n",
    "latex(sol)"
   ]
  },
  {
   "cell_type": "code",
   "execution_count": 27,
   "metadata": {},
   "outputs": [
    {
     "data": {
      "text/html": [
       "<html><script type=\"math/tex; mode=display\">\\newcommand{\\Bold}[1]{\\mathbf{#1}}\\left(\\begin{array}{rrrrr}\n",
       "0 & 1 & 0 & 0 & 0 \\\\\n",
       "0 & 0 & 1 & 0 & 0 \\\\\n",
       "0 & 0 & 0 & 0 & 0 \\\\\n",
       "0 & 0 & 0 & 0 & 0 \\\\\n",
       "0 & 0 & 0 & 0 & 0\n",
       "\\end{array}\\right)</script></html>"
      ],
      "text/latex": [
       "$$\\newcommand{\\Bold}[1]{\\mathbf{#1}}\\left(\\begin{array}{rrrrr}\n",
       "0 & 1 & 0 & 0 & 0 \\\\\n",
       "0 & 0 & 1 & 0 & 0 \\\\\n",
       "0 & 0 & 0 & 0 & 0 \\\\\n",
       "0 & 0 & 0 & 0 & 0 \\\\\n",
       "0 & 0 & 0 & 0 & 0\n",
       "\\end{array}\\right)$$"
      ],
      "text/plain": [
       "[0 1 0 0 0]\n",
       "[0 0 1 0 0]\n",
       "[0 0 0 0 0]\n",
       "[0 0 0 0 0]\n",
       "[0 0 0 0 0]"
      ]
     },
     "metadata": {},
     "output_type": "display_data"
    },
    {
     "data": {
      "text/html": [
       "<html><script type=\"math/tex; mode=display\">\\newcommand{\\Bold}[1]{\\mathbf{#1}}\\left[\\left\\{d_{1} : 0, d_{2} : 0, d_{3} : 0, d_{4} : r_{469}, d_{5} : r_{470}, a_{12} : r_{471}, a_{13} : r_{472}, a_{14} : r_{473}, a_{15} : r_{474}, a_{23} : r_{475}, a_{24} : r_{476}, a_{25} : r_{477}, a_{34} : -\\frac{r_{469} x_{24}}{x_{23}}, a_{35} : r_{478}, a_{45} : -\\frac{r_{478} x_{23} + r_{470} x_{25}}{x_{24}}\\right\\}, \\left\\{d_{1} : r_{479}, d_{2} : \\frac{r_{479}}{x_{12}}, d_{3} : \\frac{r_{479}}{x_{12} x_{23}}, d_{4} : r_{480}, d_{5} : r_{481}, a_{12} : r_{482}, a_{13} : r_{483}, a_{14} : r_{484}, a_{15} : r_{485}, a_{23} : \\frac{r_{482} x_{12} x_{23} - r_{479} x_{13}}{x_{12}^{2} x_{23}}, a_{24} : \\frac{r_{480} x_{13} x_{24}}{x_{12} x_{23}}, a_{25} : r_{486}, a_{34} : -\\frac{r_{480} x_{24}}{x_{23}}, a_{35} : -\\frac{r_{486} x_{12} + r_{481} x_{15}}{x_{13}}, a_{45} : -\\frac{r_{481} x_{13} x_{25} - {\\left(r_{486} x_{12} + r_{481} x_{15}\\right)} x_{23}}{x_{13} x_{24}}\\right\\}\\right]</script></html>"
      ],
      "text/latex": [
       "$$\\newcommand{\\Bold}[1]{\\mathbf{#1}}\\left[\\left\\{d_{1} : 0, d_{2} : 0, d_{3} : 0, d_{4} : r_{469}, d_{5} : r_{470}, a_{12} : r_{471}, a_{13} : r_{472}, a_{14} : r_{473}, a_{15} : r_{474}, a_{23} : r_{475}, a_{24} : r_{476}, a_{25} : r_{477}, a_{34} : -\\frac{r_{469} x_{24}}{x_{23}}, a_{35} : r_{478}, a_{45} : -\\frac{r_{478} x_{23} + r_{470} x_{25}}{x_{24}}\\right\\}, \\left\\{d_{1} : r_{479}, d_{2} : \\frac{r_{479}}{x_{12}}, d_{3} : \\frac{r_{479}}{x_{12} x_{23}}, d_{4} : r_{480}, d_{5} : r_{481}, a_{12} : r_{482}, a_{13} : r_{483}, a_{14} : r_{484}, a_{15} : r_{485}, a_{23} : \\frac{r_{482} x_{12} x_{23} - r_{479} x_{13}}{x_{12}^{2} x_{23}}, a_{24} : \\frac{r_{480} x_{13} x_{24}}{x_{12} x_{23}}, a_{25} : r_{486}, a_{34} : -\\frac{r_{480} x_{24}}{x_{23}}, a_{35} : -\\frac{r_{486} x_{12} + r_{481} x_{15}}{x_{13}}, a_{45} : -\\frac{r_{481} x_{13} x_{25} - {\\left(r_{486} x_{12} + r_{481} x_{15}\\right)} x_{23}}{x_{13} x_{24}}\\right\\}\\right]$$"
      ],
      "text/plain": [
       "[{d1: 0,\n",
       "  d2: 0,\n",
       "  d3: 0,\n",
       "  d4: r469,\n",
       "  d5: r470,\n",
       "  a12: r471,\n",
       "  a13: r472,\n",
       "  a14: r473,\n",
       "  a15: r474,\n",
       "  a23: r475,\n",
       "  a24: r476,\n",
       "  a25: r477,\n",
       "  a34: -r469*x24/x23,\n",
       "  a35: r478,\n",
       "  a45: -(r478*x23 + r470*x25)/x24},\n",
       " {d1: r479,\n",
       "  d2: r479/x12,\n",
       "  d3: r479/(x12*x23),\n",
       "  d4: r480,\n",
       "  d5: r481,\n",
       "  a12: r482,\n",
       "  a13: r483,\n",
       "  a14: r484,\n",
       "  a15: r485,\n",
       "  a23: (r482*x12*x23 - r479*x13)/(x12^2*x23),\n",
       "  a24: r480*x13*x24/(x12*x23),\n",
       "  a25: r486,\n",
       "  a34: -r480*x24/x23,\n",
       "  a35: -(r486*x12 + r481*x15)/x13,\n",
       "  a45: -(r481*x13*x25 - (r486*x12 + r481*x15)*x23)/(x13*x24)}]"
      ]
     },
     "metadata": {},
     "output_type": "display_data"
    },
    {
     "data": {
      "text/plain": [
       "\\left[\\left\\{d_{1} : 0, d_{2} : 0, d_{3} : 0, d_{4} : r_{469}, d_{5} : r_{470}, a_{12} : r_{471}, a_{13} : r_{472}, a_{14} : r_{473}, a_{15} : r_{474}, a_{23} : r_{475}, a_{24} : r_{476}, a_{25} : r_{477}, a_{34} : -\\frac{r_{469} x_{24}}{x_{23}}, a_{35} : r_{478}, a_{45} : -\\frac{r_{478} x_{23} + r_{470} x_{25}}{x_{24}}\\right\\}, \\left\\{d_{1} : r_{479}, d_{2} : \\frac{r_{479}}{x_{12}}, d_{3} : \\frac{r_{479}}{x_{12} x_{23}}, d_{4} : r_{480}, d_{5} : r_{481}, a_{12} : r_{482}, a_{13} : r_{483}, a_{14} : r_{484}, a_{15} : r_{485}, a_{23} : \\frac{r_{482} x_{12} x_{23} - r_{479} x_{13}}{x_{12}^{2} x_{23}}, a_{24} : \\frac{r_{480} x_{13} x_{24}}{x_{12} x_{23}}, a_{25} : r_{486}, a_{34} : -\\frac{r_{480} x_{24}}{x_{23}}, a_{35} : -\\frac{r_{486} x_{12} + r_{481} x_{15}}{x_{13}}, a_{45} : -\\frac{r_{481} x_{13} x_{25} - {\\left(r_{486} x_{12} + r_{481} x_{15}\\right)} x_{23}}{x_{13} x_{24}}\\right\\}\\right]"
      ]
     },
     "execution_count": 27,
     "metadata": {},
     "output_type": "execute_result"
    }
   ],
   "source": [
    "#x4\n",
    "reset()\n",
    "\n",
    "var('x12,x13,x14,x15,x23,x24,x25,x34,x35,x45')\n",
    "var('d1,d2,d3,d4,d5')\n",
    "var('a12,a13,a14,a15,a23,a24,a25,a34,a35,a45')\n",
    "\n",
    "load_attach_path('C:\\\\Users\\\\julia\\\\Documents\\\\unb\\\\doutorado\\\\pensar\\\\codigo_sage_v2\\\\maquina\\\\x4')\n",
    "load('out_#011101.sage')\n",
    "\n",
    "m=matrix(QQ, [[0, 1, 0, 0, 0],\n",
    "              [0, 0, 1, 0, 0],\n",
    "              [0, 0, 0, 0, 0],\n",
    "              [0, 0, 0, 0, 0],\n",
    "              [0, 0, 0, 0, 0]])\n",
    "        \n",
    "#entry of matrix: (i,j) line i collum j, means (i-1,j-1)\n",
    "sol=solve([ eq1==m[0,1],\teq2==m[0,2],\teq3==m[0,3],\teq4==m[0,4],\t\n",
    "                                            eq5==m[1,2],    eq6==m[1,3],\n",
    "                                                            eq7==m[1,4], eq8==m[2,4]],d1,d2,d3,d4,d5,a12,a13,a14,a15,a23,a24,a25,a34,a35,a45, solution_dict=True)\n",
    "\n",
    "show(m)\n",
    "show(sol)\n",
    "latex(sol)"
   ]
  },
  {
   "cell_type": "code",
   "execution_count": 28,
   "metadata": {},
   "outputs": [
    {
     "data": {
      "text/html": [
       "<html><script type=\"math/tex; mode=display\">\\newcommand{\\Bold}[1]{\\mathbf{#1}}\\left(\\begin{array}{rrrrr}\n",
       "0 & 1 & 0 & 0 & 0 \\\\\n",
       "0 & 0 & 1 & 0 & 0 \\\\\n",
       "0 & 0 & 0 & 0 & 0 \\\\\n",
       "0 & 0 & 0 & 0 & 0 \\\\\n",
       "0 & 0 & 0 & 0 & 0\n",
       "\\end{array}\\right)</script></html>"
      ],
      "text/latex": [
       "$$\\newcommand{\\Bold}[1]{\\mathbf{#1}}\\left(\\begin{array}{rrrrr}\n",
       "0 & 1 & 0 & 0 & 0 \\\\\n",
       "0 & 0 & 1 & 0 & 0 \\\\\n",
       "0 & 0 & 0 & 0 & 0 \\\\\n",
       "0 & 0 & 0 & 0 & 0 \\\\\n",
       "0 & 0 & 0 & 0 & 0\n",
       "\\end{array}\\right)$$"
      ],
      "text/plain": [
       "[0 1 0 0 0]\n",
       "[0 0 1 0 0]\n",
       "[0 0 0 0 0]\n",
       "[0 0 0 0 0]\n",
       "[0 0 0 0 0]"
      ]
     },
     "metadata": {},
     "output_type": "display_data"
    },
    {
     "data": {
      "text/html": [
       "<html><script type=\"math/tex; mode=display\">\\newcommand{\\Bold}[1]{\\mathbf{#1}}\\left[\\left\\{d_{1} : 0, d_{2} : 0, d_{3} : 0, d_{4} : r_{487}, d_{5} : r_{488}, a_{12} : r_{489}, a_{13} : r_{490}, a_{14} : r_{491}, a_{15} : r_{492}, a_{23} : r_{493}, a_{24} : r_{494}, a_{25} : r_{495}, a_{34} : -\\frac{r_{487} x_{24}}{x_{23}}, a_{35} : r_{496}, a_{45} : -\\frac{r_{496} x_{23} + r_{488} x_{25}}{x_{24}}\\right\\}, \\left\\{d_{1} : r_{497}, d_{2} : \\frac{r_{497}}{x_{12}}, d_{3} : \\frac{r_{497}}{x_{12} x_{23}}, d_{4} : r_{498}, d_{5} : r_{499}, a_{12} : r_{500}, a_{13} : r_{501}, a_{14} : r_{502}, a_{15} : r_{503}, a_{23} : \\frac{r_{500} x_{12} x_{23} - r_{497} x_{13}}{x_{12}^{2} x_{23}}, a_{24} : -\\frac{r_{498} x_{14} x_{23} - r_{498} x_{13} x_{24}}{x_{12} x_{23}}, a_{25} : r_{504}, a_{34} : -\\frac{r_{498} x_{24}}{x_{23}}, a_{35} : \\frac{r_{504} x_{12} x_{24} - r_{499} x_{14} x_{25}}{x_{14} x_{23} - x_{13} x_{24}}, a_{45} : -\\frac{r_{504} x_{12} x_{23} - r_{499} x_{13} x_{25}}{x_{14} x_{23} - x_{13} x_{24}}\\right\\}\\right]</script></html>"
      ],
      "text/latex": [
       "$$\\newcommand{\\Bold}[1]{\\mathbf{#1}}\\left[\\left\\{d_{1} : 0, d_{2} : 0, d_{3} : 0, d_{4} : r_{487}, d_{5} : r_{488}, a_{12} : r_{489}, a_{13} : r_{490}, a_{14} : r_{491}, a_{15} : r_{492}, a_{23} : r_{493}, a_{24} : r_{494}, a_{25} : r_{495}, a_{34} : -\\frac{r_{487} x_{24}}{x_{23}}, a_{35} : r_{496}, a_{45} : -\\frac{r_{496} x_{23} + r_{488} x_{25}}{x_{24}}\\right\\}, \\left\\{d_{1} : r_{497}, d_{2} : \\frac{r_{497}}{x_{12}}, d_{3} : \\frac{r_{497}}{x_{12} x_{23}}, d_{4} : r_{498}, d_{5} : r_{499}, a_{12} : r_{500}, a_{13} : r_{501}, a_{14} : r_{502}, a_{15} : r_{503}, a_{23} : \\frac{r_{500} x_{12} x_{23} - r_{497} x_{13}}{x_{12}^{2} x_{23}}, a_{24} : -\\frac{r_{498} x_{14} x_{23} - r_{498} x_{13} x_{24}}{x_{12} x_{23}}, a_{25} : r_{504}, a_{34} : -\\frac{r_{498} x_{24}}{x_{23}}, a_{35} : \\frac{r_{504} x_{12} x_{24} - r_{499} x_{14} x_{25}}{x_{14} x_{23} - x_{13} x_{24}}, a_{45} : -\\frac{r_{504} x_{12} x_{23} - r_{499} x_{13} x_{25}}{x_{14} x_{23} - x_{13} x_{24}}\\right\\}\\right]$$"
      ],
      "text/plain": [
       "[{d1: 0,\n",
       "  d2: 0,\n",
       "  d3: 0,\n",
       "  d4: r487,\n",
       "  d5: r488,\n",
       "  a12: r489,\n",
       "  a13: r490,\n",
       "  a14: r491,\n",
       "  a15: r492,\n",
       "  a23: r493,\n",
       "  a24: r494,\n",
       "  a25: r495,\n",
       "  a34: -r487*x24/x23,\n",
       "  a35: r496,\n",
       "  a45: -(r496*x23 + r488*x25)/x24},\n",
       " {d1: r497,\n",
       "  d2: r497/x12,\n",
       "  d3: r497/(x12*x23),\n",
       "  d4: r498,\n",
       "  d5: r499,\n",
       "  a12: r500,\n",
       "  a13: r501,\n",
       "  a14: r502,\n",
       "  a15: r503,\n",
       "  a23: (r500*x12*x23 - r497*x13)/(x12^2*x23),\n",
       "  a24: -(r498*x14*x23 - r498*x13*x24)/(x12*x23),\n",
       "  a25: r504,\n",
       "  a34: -r498*x24/x23,\n",
       "  a35: (r504*x12*x24 - r499*x14*x25)/(x14*x23 - x13*x24),\n",
       "  a45: -(r504*x12*x23 - r499*x13*x25)/(x14*x23 - x13*x24)}]"
      ]
     },
     "metadata": {},
     "output_type": "display_data"
    },
    {
     "data": {
      "text/plain": [
       "\\left[\\left\\{d_{1} : 0, d_{2} : 0, d_{3} : 0, d_{4} : r_{487}, d_{5} : r_{488}, a_{12} : r_{489}, a_{13} : r_{490}, a_{14} : r_{491}, a_{15} : r_{492}, a_{23} : r_{493}, a_{24} : r_{494}, a_{25} : r_{495}, a_{34} : -\\frac{r_{487} x_{24}}{x_{23}}, a_{35} : r_{496}, a_{45} : -\\frac{r_{496} x_{23} + r_{488} x_{25}}{x_{24}}\\right\\}, \\left\\{d_{1} : r_{497}, d_{2} : \\frac{r_{497}}{x_{12}}, d_{3} : \\frac{r_{497}}{x_{12} x_{23}}, d_{4} : r_{498}, d_{5} : r_{499}, a_{12} : r_{500}, a_{13} : r_{501}, a_{14} : r_{502}, a_{15} : r_{503}, a_{23} : \\frac{r_{500} x_{12} x_{23} - r_{497} x_{13}}{x_{12}^{2} x_{23}}, a_{24} : -\\frac{r_{498} x_{14} x_{23} - r_{498} x_{13} x_{24}}{x_{12} x_{23}}, a_{25} : r_{504}, a_{34} : -\\frac{r_{498} x_{24}}{x_{23}}, a_{35} : \\frac{r_{504} x_{12} x_{24} - r_{499} x_{14} x_{25}}{x_{14} x_{23} - x_{13} x_{24}}, a_{45} : -\\frac{r_{504} x_{12} x_{23} - r_{499} x_{13} x_{25}}{x_{14} x_{23} - x_{13} x_{24}}\\right\\}\\right]"
      ]
     },
     "execution_count": 28,
     "metadata": {},
     "output_type": "execute_result"
    }
   ],
   "source": [
    "#x4\n",
    "#----------------------\n",
    "#x14 \\neq x13*x24/x23\n",
    "#----------------------\n",
    "reset()\n",
    "\n",
    "var('x12,x13,x14,x15,x23,x24,x25,x34,x35,x45')\n",
    "var('d1,d2,d3,d4,d5')\n",
    "var('a12,a13,a14,a15,a23,a24,a25,a34,a35,a45')\n",
    "\n",
    "load_attach_path('C:\\\\Users\\\\julia\\\\Documents\\\\unb\\\\doutorado\\\\pensar\\\\codigo_sage_v2\\\\maquina\\\\x4')\n",
    "load('out_#011110.sage')\n",
    "\n",
    "m=matrix(QQ, [[0, 1, 0, 0, 0],\n",
    "              [0, 0, 1, 0, 0],\n",
    "              [0, 0, 0, 0, 0],\n",
    "              [0, 0, 0, 0, 0],\n",
    "              [0, 0, 0, 0, 0]])\n",
    "        \n",
    "#entry of matrix: (i,j) line i collum j, means (i-1,j-1)\n",
    "sol=solve([ eq1==m[0,1],\teq2==m[0,2],\teq3==m[0,3],\teq4==m[0,4],\t\n",
    "                                            eq5==m[1,2],    eq6==m[1,3],\n",
    "                                                            eq7==m[1,4], eq8==m[2,4]],d1,d2,d3,d4,d5,a12,a13,a14,a15,a23,a24,a25,a34,a35,a45, solution_dict=True)\n",
    "\n",
    "show(m)\n",
    "show(sol)\n",
    "latex(sol)"
   ]
  },
  {
   "cell_type": "code",
   "execution_count": 29,
   "metadata": {},
   "outputs": [
    {
     "data": {
      "text/html": [
       "<html><script type=\"math/tex; mode=display\">\\newcommand{\\Bold}[1]{\\mathbf{#1}}\\left(\\begin{array}{rrrrr}\n",
       "0 & 1 & 0 & 0 & 0 \\\\\n",
       "0 & 0 & 1 & 0 & 0 \\\\\n",
       "0 & 0 & 0 & 0 & 0 \\\\\n",
       "0 & 0 & 0 & 0 & 0 \\\\\n",
       "0 & 0 & 0 & 0 & 0\n",
       "\\end{array}\\right)</script></html>"
      ],
      "text/latex": [
       "$$\\newcommand{\\Bold}[1]{\\mathbf{#1}}\\left(\\begin{array}{rrrrr}\n",
       "0 & 1 & 0 & 0 & 0 \\\\\n",
       "0 & 0 & 1 & 0 & 0 \\\\\n",
       "0 & 0 & 0 & 0 & 0 \\\\\n",
       "0 & 0 & 0 & 0 & 0 \\\\\n",
       "0 & 0 & 0 & 0 & 0\n",
       "\\end{array}\\right)$$"
      ],
      "text/plain": [
       "[0 1 0 0 0]\n",
       "[0 0 1 0 0]\n",
       "[0 0 0 0 0]\n",
       "[0 0 0 0 0]\n",
       "[0 0 0 0 0]"
      ]
     },
     "metadata": {},
     "output_type": "display_data"
    },
    {
     "data": {
      "text/html": [
       "<html><script type=\"math/tex; mode=display\">\\newcommand{\\Bold}[1]{\\mathbf{#1}}\\left[\\left\\{d_{1} : 0, d_{2} : 0, d_{3} : 0, d_{4} : r_{505}, d_{5} : r_{506}, a_{12} : r_{507}, a_{13} : r_{508}, a_{14} : r_{509}, a_{15} : r_{510}, a_{23} : r_{511}, a_{24} : r_{512}, a_{25} : r_{513}, a_{34} : -\\frac{r_{505} x_{24}}{x_{23}}, a_{35} : r_{514}, a_{45} : -\\frac{r_{514} x_{23} + r_{506} x_{25}}{x_{24}}\\right\\}, \\left\\{d_{1} : r_{515}, d_{2} : \\frac{r_{515}}{x_{12}}, d_{3} : \\frac{r_{515}}{x_{12} x_{23}}, d_{4} : r_{516}, d_{5} : r_{517}, a_{12} : r_{518}, a_{13} : r_{519}, a_{14} : r_{520}, a_{15} : r_{521}, a_{23} : \\frac{r_{518} x_{12} x_{23} - r_{515} x_{13}}{x_{12}^{2} x_{23}}, a_{24} : 0, a_{25} : \\frac{r_{517} x_{13} x_{25}}{x_{12} x_{23}}, a_{34} : -\\frac{r_{516} x_{24}}{x_{23}}, a_{35} : r_{522}, a_{45} : -\\frac{r_{522} x_{23} + r_{517} x_{25}}{x_{24}}\\right\\}\\right]</script></html>"
      ],
      "text/latex": [
       "$$\\newcommand{\\Bold}[1]{\\mathbf{#1}}\\left[\\left\\{d_{1} : 0, d_{2} : 0, d_{3} : 0, d_{4} : r_{505}, d_{5} : r_{506}, a_{12} : r_{507}, a_{13} : r_{508}, a_{14} : r_{509}, a_{15} : r_{510}, a_{23} : r_{511}, a_{24} : r_{512}, a_{25} : r_{513}, a_{34} : -\\frac{r_{505} x_{24}}{x_{23}}, a_{35} : r_{514}, a_{45} : -\\frac{r_{514} x_{23} + r_{506} x_{25}}{x_{24}}\\right\\}, \\left\\{d_{1} : r_{515}, d_{2} : \\frac{r_{515}}{x_{12}}, d_{3} : \\frac{r_{515}}{x_{12} x_{23}}, d_{4} : r_{516}, d_{5} : r_{517}, a_{12} : r_{518}, a_{13} : r_{519}, a_{14} : r_{520}, a_{15} : r_{521}, a_{23} : \\frac{r_{518} x_{12} x_{23} - r_{515} x_{13}}{x_{12}^{2} x_{23}}, a_{24} : 0, a_{25} : \\frac{r_{517} x_{13} x_{25}}{x_{12} x_{23}}, a_{34} : -\\frac{r_{516} x_{24}}{x_{23}}, a_{35} : r_{522}, a_{45} : -\\frac{r_{522} x_{23} + r_{517} x_{25}}{x_{24}}\\right\\}\\right]$$"
      ],
      "text/plain": [
       "[{d1: 0,\n",
       "  d2: 0,\n",
       "  d3: 0,\n",
       "  d4: r505,\n",
       "  d5: r506,\n",
       "  a12: r507,\n",
       "  a13: r508,\n",
       "  a14: r509,\n",
       "  a15: r510,\n",
       "  a23: r511,\n",
       "  a24: r512,\n",
       "  a25: r513,\n",
       "  a34: -r505*x24/x23,\n",
       "  a35: r514,\n",
       "  a45: -(r514*x23 + r506*x25)/x24},\n",
       " {d1: r515,\n",
       "  d2: r515/x12,\n",
       "  d3: r515/(x12*x23),\n",
       "  d4: r516,\n",
       "  d5: r517,\n",
       "  a12: r518,\n",
       "  a13: r519,\n",
       "  a14: r520,\n",
       "  a15: r521,\n",
       "  a23: (r518*x12*x23 - r515*x13)/(x12^2*x23),\n",
       "  a24: 0,\n",
       "  a25: r517*x13*x25/(x12*x23),\n",
       "  a34: -r516*x24/x23,\n",
       "  a35: r522,\n",
       "  a45: -(r522*x23 + r517*x25)/x24}]"
      ]
     },
     "metadata": {},
     "output_type": "display_data"
    },
    {
     "data": {
      "text/plain": [
       "\\left[\\left\\{d_{1} : 0, d_{2} : 0, d_{3} : 0, d_{4} : r_{505}, d_{5} : r_{506}, a_{12} : r_{507}, a_{13} : r_{508}, a_{14} : r_{509}, a_{15} : r_{510}, a_{23} : r_{511}, a_{24} : r_{512}, a_{25} : r_{513}, a_{34} : -\\frac{r_{505} x_{24}}{x_{23}}, a_{35} : r_{514}, a_{45} : -\\frac{r_{514} x_{23} + r_{506} x_{25}}{x_{24}}\\right\\}, \\left\\{d_{1} : r_{515}, d_{2} : \\frac{r_{515}}{x_{12}}, d_{3} : \\frac{r_{515}}{x_{12} x_{23}}, d_{4} : r_{516}, d_{5} : r_{517}, a_{12} : r_{518}, a_{13} : r_{519}, a_{14} : r_{520}, a_{15} : r_{521}, a_{23} : \\frac{r_{518} x_{12} x_{23} - r_{515} x_{13}}{x_{12}^{2} x_{23}}, a_{24} : 0, a_{25} : \\frac{r_{517} x_{13} x_{25}}{x_{12} x_{23}}, a_{34} : -\\frac{r_{516} x_{24}}{x_{23}}, a_{35} : r_{522}, a_{45} : -\\frac{r_{522} x_{23} + r_{517} x_{25}}{x_{24}}\\right\\}\\right]"
      ]
     },
     "execution_count": 29,
     "metadata": {},
     "output_type": "execute_result"
    }
   ],
   "source": [
    "#x4\n",
    "#----------------------\n",
    "#x14 = x13*x24/x23\n",
    "#----------------------\n",
    "reset()\n",
    "\n",
    "var('x12,x13,x14,x15,x23,x24,x25,x34,x35,x45')\n",
    "var('d1,d2,d3,d4,d5')\n",
    "var('a12,a13,a14,a15,a23,a24,a25,a34,a35,a45')\n",
    "\n",
    "#011110\n",
    "eq1=(d2*x12)/(d1) \n",
    "eq2=(a23*d2*x12+d2*d3*x13-a12*d3*x23)/(d1*d2) \n",
    "eq3=(a24*d2*x12+a34*d2*x13+d2*d4*((x13*x24)/x23)-a12*a34*x23-a12*d4*x24)/(d1*d2) \n",
    "eq4=(a25*d2*d3*x12+a35*d2*d3*x13+a45*d2*d3*((x13*x24)/x23)+d2*d3*d5*0-a12*a35*d3*x23-a12*a45*d3*x24-a12*d3*d5*x25+a12*a23*d5*0-a13*d2*d5*0)/(d1*d2*d3) \n",
    "eq5=(d3*x23)/(d2) \n",
    "eq6=(a34*x23+d4*x24)/(d2) \n",
    "eq7=(a35*d3*x23+a45*d3*x24+d3*d5*x25-a23*d5*0)/(d2*d3) \n",
    "eq8=(d5*0)/(d3) \n",
    "\n",
    "\n",
    "m=matrix(QQ, [[0, 1, 0, 0, 0],\n",
    "              [0, 0, 1, 0, 0],\n",
    "              [0, 0, 0, 0, 0],\n",
    "              [0, 0, 0, 0, 0],\n",
    "              [0, 0, 0, 0, 0]])\n",
    "        \n",
    "#entry of matrix: (i,j) line i collum j, means (i-1,j-1)\n",
    "sol=solve([ eq1==m[0,1],\teq2==m[0,2],\teq3==m[0,3],\teq4==m[0,4],\t\n",
    "                                            eq5==m[1,2],    eq6==m[1,3],\n",
    "                                                            eq7==m[1,4], eq8==m[2,4]],d1,d2,d3,d4,d5,a12,a13,a14,a15,a23,a24,a25,a34,a35,a45, solution_dict=True)\n",
    "\n",
    "show(m)\n",
    "show(sol)\n",
    "latex(sol)"
   ]
  },
  {
   "cell_type": "code",
   "execution_count": 30,
   "metadata": {},
   "outputs": [
    {
     "data": {
      "text/html": [
       "<html><script type=\"math/tex; mode=display\">\\newcommand{\\Bold}[1]{\\mathbf{#1}}\\left(\\begin{array}{rrrrr}\n",
       "0 & 1 & 0 & 0 & 0 \\\\\n",
       "0 & 0 & 1 & 0 & 0 \\\\\n",
       "0 & 0 & 0 & 0 & 0 \\\\\n",
       "0 & 0 & 0 & 0 & 0 \\\\\n",
       "0 & 0 & 0 & 0 & 0\n",
       "\\end{array}\\right)</script></html>"
      ],
      "text/latex": [
       "$$\\newcommand{\\Bold}[1]{\\mathbf{#1}}\\left(\\begin{array}{rrrrr}\n",
       "0 & 1 & 0 & 0 & 0 \\\\\n",
       "0 & 0 & 1 & 0 & 0 \\\\\n",
       "0 & 0 & 0 & 0 & 0 \\\\\n",
       "0 & 0 & 0 & 0 & 0 \\\\\n",
       "0 & 0 & 0 & 0 & 0\n",
       "\\end{array}\\right)$$"
      ],
      "text/plain": [
       "[0 1 0 0 0]\n",
       "[0 0 1 0 0]\n",
       "[0 0 0 0 0]\n",
       "[0 0 0 0 0]\n",
       "[0 0 0 0 0]"
      ]
     },
     "metadata": {},
     "output_type": "display_data"
    },
    {
     "data": {
      "text/html": [
       "<html><script type=\"math/tex; mode=display\">\\newcommand{\\Bold}[1]{\\mathbf{#1}}\\left[\\left\\{d_{1} : 0, d_{2} : 0, d_{3} : 0, d_{4} : r_{523}, d_{5} : r_{524}, a_{12} : r_{525}, a_{13} : r_{526}, a_{14} : r_{527}, a_{15} : r_{528}, a_{23} : r_{529}, a_{24} : r_{530}, a_{25} : r_{531}, a_{34} : -\\frac{r_{523} x_{24}}{x_{23}}, a_{35} : r_{532}, a_{45} : -\\frac{r_{532} x_{23} + r_{524} x_{25}}{x_{24}}\\right\\}, \\left\\{d_{1} : r_{533}, d_{2} : \\frac{r_{533}}{x_{12}}, d_{3} : \\frac{r_{533}}{x_{12} x_{23}}, d_{4} : r_{534}, d_{5} : r_{535}, a_{12} : r_{536}, a_{13} : r_{537}, a_{14} : r_{538}, a_{15} : r_{539}, a_{23} : \\frac{r_{536} x_{12} x_{23} - r_{533} x_{13}}{x_{12}^{2} x_{23}}, a_{24} : -\\frac{r_{534} x_{14} x_{23} - r_{534} x_{13} x_{24}}{x_{12} x_{23}}, a_{25} : r_{540}, a_{34} : -\\frac{r_{534} x_{24}}{x_{23}}, a_{35} : -\\frac{r_{535} x_{14} x_{25} - {\\left(r_{540} x_{12} + r_{535} x_{15}\\right)} x_{24}}{x_{14} x_{23} - x_{13} x_{24}}, a_{45} : \\frac{r_{535} x_{13} x_{25} - {\\left(r_{540} x_{12} + r_{535} x_{15}\\right)} x_{23}}{x_{14} x_{23} - x_{13} x_{24}}\\right\\}\\right]</script></html>"
      ],
      "text/latex": [
       "$$\\newcommand{\\Bold}[1]{\\mathbf{#1}}\\left[\\left\\{d_{1} : 0, d_{2} : 0, d_{3} : 0, d_{4} : r_{523}, d_{5} : r_{524}, a_{12} : r_{525}, a_{13} : r_{526}, a_{14} : r_{527}, a_{15} : r_{528}, a_{23} : r_{529}, a_{24} : r_{530}, a_{25} : r_{531}, a_{34} : -\\frac{r_{523} x_{24}}{x_{23}}, a_{35} : r_{532}, a_{45} : -\\frac{r_{532} x_{23} + r_{524} x_{25}}{x_{24}}\\right\\}, \\left\\{d_{1} : r_{533}, d_{2} : \\frac{r_{533}}{x_{12}}, d_{3} : \\frac{r_{533}}{x_{12} x_{23}}, d_{4} : r_{534}, d_{5} : r_{535}, a_{12} : r_{536}, a_{13} : r_{537}, a_{14} : r_{538}, a_{15} : r_{539}, a_{23} : \\frac{r_{536} x_{12} x_{23} - r_{533} x_{13}}{x_{12}^{2} x_{23}}, a_{24} : -\\frac{r_{534} x_{14} x_{23} - r_{534} x_{13} x_{24}}{x_{12} x_{23}}, a_{25} : r_{540}, a_{34} : -\\frac{r_{534} x_{24}}{x_{23}}, a_{35} : -\\frac{r_{535} x_{14} x_{25} - {\\left(r_{540} x_{12} + r_{535} x_{15}\\right)} x_{24}}{x_{14} x_{23} - x_{13} x_{24}}, a_{45} : \\frac{r_{535} x_{13} x_{25} - {\\left(r_{540} x_{12} + r_{535} x_{15}\\right)} x_{23}}{x_{14} x_{23} - x_{13} x_{24}}\\right\\}\\right]$$"
      ],
      "text/plain": [
       "[{d1: 0,\n",
       "  d2: 0,\n",
       "  d3: 0,\n",
       "  d4: r523,\n",
       "  d5: r524,\n",
       "  a12: r525,\n",
       "  a13: r526,\n",
       "  a14: r527,\n",
       "  a15: r528,\n",
       "  a23: r529,\n",
       "  a24: r530,\n",
       "  a25: r531,\n",
       "  a34: -r523*x24/x23,\n",
       "  a35: r532,\n",
       "  a45: -(r532*x23 + r524*x25)/x24},\n",
       " {d1: r533,\n",
       "  d2: r533/x12,\n",
       "  d3: r533/(x12*x23),\n",
       "  d4: r534,\n",
       "  d5: r535,\n",
       "  a12: r536,\n",
       "  a13: r537,\n",
       "  a14: r538,\n",
       "  a15: r539,\n",
       "  a23: (r536*x12*x23 - r533*x13)/(x12^2*x23),\n",
       "  a24: -(r534*x14*x23 - r534*x13*x24)/(x12*x23),\n",
       "  a25: r540,\n",
       "  a34: -r534*x24/x23,\n",
       "  a35: -(r535*x14*x25 - (r540*x12 + r535*x15)*x24)/(x14*x23 - x13*x24),\n",
       "  a45: (r535*x13*x25 - (r540*x12 + r535*x15)*x23)/(x14*x23 - x13*x24)}]"
      ]
     },
     "metadata": {},
     "output_type": "display_data"
    },
    {
     "data": {
      "text/plain": [
       "\\left[\\left\\{d_{1} : 0, d_{2} : 0, d_{3} : 0, d_{4} : r_{523}, d_{5} : r_{524}, a_{12} : r_{525}, a_{13} : r_{526}, a_{14} : r_{527}, a_{15} : r_{528}, a_{23} : r_{529}, a_{24} : r_{530}, a_{25} : r_{531}, a_{34} : -\\frac{r_{523} x_{24}}{x_{23}}, a_{35} : r_{532}, a_{45} : -\\frac{r_{532} x_{23} + r_{524} x_{25}}{x_{24}}\\right\\}, \\left\\{d_{1} : r_{533}, d_{2} : \\frac{r_{533}}{x_{12}}, d_{3} : \\frac{r_{533}}{x_{12} x_{23}}, d_{4} : r_{534}, d_{5} : r_{535}, a_{12} : r_{536}, a_{13} : r_{537}, a_{14} : r_{538}, a_{15} : r_{539}, a_{23} : \\frac{r_{536} x_{12} x_{23} - r_{533} x_{13}}{x_{12}^{2} x_{23}}, a_{24} : -\\frac{r_{534} x_{14} x_{23} - r_{534} x_{13} x_{24}}{x_{12} x_{23}}, a_{25} : r_{540}, a_{34} : -\\frac{r_{534} x_{24}}{x_{23}}, a_{35} : -\\frac{r_{535} x_{14} x_{25} - {\\left(r_{540} x_{12} + r_{535} x_{15}\\right)} x_{24}}{x_{14} x_{23} - x_{13} x_{24}}, a_{45} : \\frac{r_{535} x_{13} x_{25} - {\\left(r_{540} x_{12} + r_{535} x_{15}\\right)} x_{23}}{x_{14} x_{23} - x_{13} x_{24}}\\right\\}\\right]"
      ]
     },
     "execution_count": 30,
     "metadata": {},
     "output_type": "execute_result"
    }
   ],
   "source": [
    "#x4\n",
    "#----------------------\n",
    "#x14 \\neq x13*x24/x23\n",
    "#----------------------\n",
    "reset()\n",
    "\n",
    "var('x12,x13,x14,x15,x23,x24,x25,x34,x35,x45')\n",
    "var('d1,d2,d3,d4,d5')\n",
    "var('a12,a13,a14,a15,a23,a24,a25,a34,a35,a45')\n",
    "\n",
    "load_attach_path('C:\\\\Users\\\\julia\\\\Documents\\\\unb\\\\doutorado\\\\pensar\\\\codigo_sage_v2\\\\maquina\\\\x4')\n",
    "load('out_#011111.sage')\n",
    "\n",
    "m=matrix(QQ, [[0, 1, 0, 0, 0],\n",
    "              [0, 0, 1, 0, 0],\n",
    "              [0, 0, 0, 0, 0],\n",
    "              [0, 0, 0, 0, 0],\n",
    "              [0, 0, 0, 0, 0]])\n",
    "        \n",
    "#entry of matrix: (i,j) line i collum j, means (i-1,j-1)\n",
    "sol=solve([ eq1==m[0,1],\teq2==m[0,2],\teq3==m[0,3],\teq4==m[0,4],\t\n",
    "                                            eq5==m[1,2],    eq6==m[1,3],\n",
    "                                                            eq7==m[1,4], eq8==m[2,4]],d1,d2,d3,d4,d5,a12,a13,a14,a15,a23,a24,a25,a34,a35,a45, solution_dict=True)\n",
    "\n",
    "show(m)\n",
    "show(sol)\n",
    "latex(sol)"
   ]
  },
  {
   "cell_type": "code",
   "execution_count": 31,
   "metadata": {},
   "outputs": [
    {
     "data": {
      "text/html": [
       "<html><script type=\"math/tex; mode=display\">\\newcommand{\\Bold}[1]{\\mathbf{#1}}\\left(\\begin{array}{rrrrr}\n",
       "0 & 1 & 0 & 0 & 0 \\\\\n",
       "0 & 0 & 1 & 0 & 0 \\\\\n",
       "0 & 0 & 0 & 0 & 0 \\\\\n",
       "0 & 0 & 0 & 0 & 0 \\\\\n",
       "0 & 0 & 0 & 0 & 0\n",
       "\\end{array}\\right)</script></html>"
      ],
      "text/latex": [
       "$$\\newcommand{\\Bold}[1]{\\mathbf{#1}}\\left(\\begin{array}{rrrrr}\n",
       "0 & 1 & 0 & 0 & 0 \\\\\n",
       "0 & 0 & 1 & 0 & 0 \\\\\n",
       "0 & 0 & 0 & 0 & 0 \\\\\n",
       "0 & 0 & 0 & 0 & 0 \\\\\n",
       "0 & 0 & 0 & 0 & 0\n",
       "\\end{array}\\right)$$"
      ],
      "text/plain": [
       "[0 1 0 0 0]\n",
       "[0 0 1 0 0]\n",
       "[0 0 0 0 0]\n",
       "[0 0 0 0 0]\n",
       "[0 0 0 0 0]"
      ]
     },
     "metadata": {},
     "output_type": "display_data"
    },
    {
     "data": {
      "text/html": [
       "<html><script type=\"math/tex; mode=display\">\\newcommand{\\Bold}[1]{\\mathbf{#1}}\\left[\\left\\{d_{1} : 0, d_{2} : 0, d_{3} : 0, d_{4} : r_{541}, d_{5} : r_{542}, a_{12} : r_{543}, a_{13} : r_{544}, a_{14} : r_{545}, a_{15} : r_{546}, a_{23} : r_{547}, a_{24} : r_{548}, a_{25} : r_{549}, a_{34} : -\\frac{r_{541} x_{24}}{x_{23}}, a_{35} : r_{550}, a_{45} : -\\frac{r_{550} x_{23} + r_{542} x_{25}}{x_{24}}\\right\\}, \\left\\{d_{1} : r_{551}, d_{2} : \\frac{r_{551}}{x_{12}}, d_{3} : \\frac{r_{551}}{x_{12} x_{23}}, d_{4} : r_{552}, d_{5} : r_{553}, a_{12} : r_{554}, a_{13} : r_{555}, a_{14} : r_{556}, a_{15} : r_{557}, a_{23} : \\frac{r_{554} x_{12} x_{23} - r_{551} x_{13}}{x_{12}^{2} x_{23}}, a_{24} : 0, a_{25} : -\\frac{r_{553} x_{15} x_{23} - r_{553} x_{13} x_{25}}{x_{12} x_{23}}, a_{34} : -\\frac{r_{552} x_{24}}{x_{23}}, a_{35} : r_{558}, a_{45} : -\\frac{r_{558} x_{23} + r_{553} x_{25}}{x_{24}}\\right\\}\\right]</script></html>"
      ],
      "text/latex": [
       "$$\\newcommand{\\Bold}[1]{\\mathbf{#1}}\\left[\\left\\{d_{1} : 0, d_{2} : 0, d_{3} : 0, d_{4} : r_{541}, d_{5} : r_{542}, a_{12} : r_{543}, a_{13} : r_{544}, a_{14} : r_{545}, a_{15} : r_{546}, a_{23} : r_{547}, a_{24} : r_{548}, a_{25} : r_{549}, a_{34} : -\\frac{r_{541} x_{24}}{x_{23}}, a_{35} : r_{550}, a_{45} : -\\frac{r_{550} x_{23} + r_{542} x_{25}}{x_{24}}\\right\\}, \\left\\{d_{1} : r_{551}, d_{2} : \\frac{r_{551}}{x_{12}}, d_{3} : \\frac{r_{551}}{x_{12} x_{23}}, d_{4} : r_{552}, d_{5} : r_{553}, a_{12} : r_{554}, a_{13} : r_{555}, a_{14} : r_{556}, a_{15} : r_{557}, a_{23} : \\frac{r_{554} x_{12} x_{23} - r_{551} x_{13}}{x_{12}^{2} x_{23}}, a_{24} : 0, a_{25} : -\\frac{r_{553} x_{15} x_{23} - r_{553} x_{13} x_{25}}{x_{12} x_{23}}, a_{34} : -\\frac{r_{552} x_{24}}{x_{23}}, a_{35} : r_{558}, a_{45} : -\\frac{r_{558} x_{23} + r_{553} x_{25}}{x_{24}}\\right\\}\\right]$$"
      ],
      "text/plain": [
       "[{d1: 0,\n",
       "  d2: 0,\n",
       "  d3: 0,\n",
       "  d4: r541,\n",
       "  d5: r542,\n",
       "  a12: r543,\n",
       "  a13: r544,\n",
       "  a14: r545,\n",
       "  a15: r546,\n",
       "  a23: r547,\n",
       "  a24: r548,\n",
       "  a25: r549,\n",
       "  a34: -r541*x24/x23,\n",
       "  a35: r550,\n",
       "  a45: -(r550*x23 + r542*x25)/x24},\n",
       " {d1: r551,\n",
       "  d2: r551/x12,\n",
       "  d3: r551/(x12*x23),\n",
       "  d4: r552,\n",
       "  d5: r553,\n",
       "  a12: r554,\n",
       "  a13: r555,\n",
       "  a14: r556,\n",
       "  a15: r557,\n",
       "  a23: (r554*x12*x23 - r551*x13)/(x12^2*x23),\n",
       "  a24: 0,\n",
       "  a25: -(r553*x15*x23 - r553*x13*x25)/(x12*x23),\n",
       "  a34: -r552*x24/x23,\n",
       "  a35: r558,\n",
       "  a45: -(r558*x23 + r553*x25)/x24}]"
      ]
     },
     "metadata": {},
     "output_type": "display_data"
    },
    {
     "data": {
      "text/plain": [
       "\\left[\\left\\{d_{1} : 0, d_{2} : 0, d_{3} : 0, d_{4} : r_{541}, d_{5} : r_{542}, a_{12} : r_{543}, a_{13} : r_{544}, a_{14} : r_{545}, a_{15} : r_{546}, a_{23} : r_{547}, a_{24} : r_{548}, a_{25} : r_{549}, a_{34} : -\\frac{r_{541} x_{24}}{x_{23}}, a_{35} : r_{550}, a_{45} : -\\frac{r_{550} x_{23} + r_{542} x_{25}}{x_{24}}\\right\\}, \\left\\{d_{1} : r_{551}, d_{2} : \\frac{r_{551}}{x_{12}}, d_{3} : \\frac{r_{551}}{x_{12} x_{23}}, d_{4} : r_{552}, d_{5} : r_{553}, a_{12} : r_{554}, a_{13} : r_{555}, a_{14} : r_{556}, a_{15} : r_{557}, a_{23} : \\frac{r_{554} x_{12} x_{23} - r_{551} x_{13}}{x_{12}^{2} x_{23}}, a_{24} : 0, a_{25} : -\\frac{r_{553} x_{15} x_{23} - r_{553} x_{13} x_{25}}{x_{12} x_{23}}, a_{34} : -\\frac{r_{552} x_{24}}{x_{23}}, a_{35} : r_{558}, a_{45} : -\\frac{r_{558} x_{23} + r_{553} x_{25}}{x_{24}}\\right\\}\\right]"
      ]
     },
     "execution_count": 31,
     "metadata": {},
     "output_type": "execute_result"
    }
   ],
   "source": [
    "#x4\n",
    "#----------------------\n",
    "#x14 = x13*x24/x23\n",
    "#----------------------\n",
    "reset()\n",
    "\n",
    "var('x12,x13,x14,x15,x23,x24,x25,x34,x35,x45')\n",
    "var('d1,d2,d3,d4,d5')\n",
    "var('a12,a13,a14,a15,a23,a24,a25,a34,a35,a45')\n",
    "\n",
    "#011111\n",
    "eq1=(d2*x12)/(d1) \n",
    "eq2=(a23*d2*x12+d2*d3*x13-a12*d3*x23)/(d1*d2) \n",
    "eq3=(a24*d2*x12+a34*d2*x13+d2*d4*((x13*x24)/x23)-a12*a34*x23-a12*d4*x24)/(d1*d2) \n",
    "eq4=(a25*d2*d3*x12+a35*d2*d3*x13+a45*d2*d3*((x13*x24)/x23)+d2*d3*d5*x15-a12*a35*d3*x23-a12*a45*d3*x24-a12*d3*d5*x25+a12*a23*d5*0-a13*d2*d5*0)/(d1*d2*d3) \n",
    "eq5=(d3*x23)/(d2) \n",
    "eq6=(a34*x23+d4*x24)/(d2) \n",
    "eq7=(a35*d3*x23+a45*d3*x24+d3*d5*x25-a23*d5*0)/(d2*d3) \n",
    "eq8=(d5*0)/(d3) \n",
    "\n",
    "m=matrix(QQ, [[0, 1, 0, 0, 0],\n",
    "              [0, 0, 1, 0, 0],\n",
    "              [0, 0, 0, 0, 0],\n",
    "              [0, 0, 0, 0, 0],\n",
    "              [0, 0, 0, 0, 0]])\n",
    "        \n",
    "#entry of matrix: (i,j) line i collum j, means (i-1,j-1)\n",
    "sol=solve([ eq1==m[0,1],\teq2==m[0,2],\teq3==m[0,3],\teq4==m[0,4],\t\n",
    "                                            eq5==m[1,2],    eq6==m[1,3],\n",
    "                                                            eq7==m[1,4], eq8==m[2,4]],d1,d2,d3,d4,d5,a12,a13,a14,a15,a23,a24,a25,a34,a35,a45, solution_dict=True)\n",
    "\n",
    "show(m)\n",
    "show(sol)\n",
    "latex(sol)"
   ]
  },
  {
   "cell_type": "code",
   "execution_count": 37,
   "metadata": {},
   "outputs": [
    {
     "data": {
      "text/html": [
       "<html><script type=\"math/tex; mode=display\">\\newcommand{\\Bold}[1]{\\mathbf{#1}}\\left(\\begin{array}{rrrrr}\n",
       "0 & 1 & 0 & 0 & 0 \\\\\n",
       "0 & 0 & 1 & 0 & 0 \\\\\n",
       "0 & 0 & 0 & 0 & 1 \\\\\n",
       "0 & 0 & 0 & 0 & 0 \\\\\n",
       "0 & 0 & 0 & 0 & 0\n",
       "\\end{array}\\right)</script></html>"
      ],
      "text/latex": [
       "$$\\newcommand{\\Bold}[1]{\\mathbf{#1}}\\left(\\begin{array}{rrrrr}\n",
       "0 & 1 & 0 & 0 & 0 \\\\\n",
       "0 & 0 & 1 & 0 & 0 \\\\\n",
       "0 & 0 & 0 & 0 & 1 \\\\\n",
       "0 & 0 & 0 & 0 & 0 \\\\\n",
       "0 & 0 & 0 & 0 & 0\n",
       "\\end{array}\\right)$$"
      ],
      "text/plain": [
       "[0 1 0 0 0]\n",
       "[0 0 1 0 0]\n",
       "[0 0 0 0 1]\n",
       "[0 0 0 0 0]\n",
       "[0 0 0 0 0]"
      ]
     },
     "metadata": {},
     "output_type": "display_data"
    },
    {
     "data": {
      "text/html": [
       "<html><script type=\"math/tex; mode=display\">\\newcommand{\\Bold}[1]{\\mathbf{#1}}\\left[\\left\\{d_{1} : 0, d_{2} : 0, d_{3} : 0, d_{4} : r_{649}, d_{5} : 0, a_{12} : r_{650}, a_{13} : r_{651}, a_{14} : r_{652}, a_{15} : r_{653}, a_{23} : r_{654}, a_{24} : r_{655}, a_{25} : r_{656}, a_{34} : 0, a_{35} : r_{657}, a_{45} : r_{658}\\right\\}, \\left\\{d_{1} : r_{659}, d_{2} : \\frac{r_{659}}{x_{12}}, d_{3} : \\frac{r_{659}}{x_{12} x_{23}}, d_{4} : r_{660}, d_{5} : \\frac{r_{659}}{x_{12} x_{23} x_{35}}, a_{12} : r_{661}, a_{13} : r_{662}, a_{14} : r_{663}, a_{15} : r_{664}, a_{23} : \\frac{r_{661}}{x_{12}}, a_{24} : 0, a_{25} : \\frac{r_{662}}{x_{12}}, a_{34} : 0, a_{35} : \\frac{r_{661}}{x_{12} x_{23}}, a_{45} : r_{665}\\right\\}\\right]</script></html>"
      ],
      "text/latex": [
       "$$\\newcommand{\\Bold}[1]{\\mathbf{#1}}\\left[\\left\\{d_{1} : 0, d_{2} : 0, d_{3} : 0, d_{4} : r_{649}, d_{5} : 0, a_{12} : r_{650}, a_{13} : r_{651}, a_{14} : r_{652}, a_{15} : r_{653}, a_{23} : r_{654}, a_{24} : r_{655}, a_{25} : r_{656}, a_{34} : 0, a_{35} : r_{657}, a_{45} : r_{658}\\right\\}, \\left\\{d_{1} : r_{659}, d_{2} : \\frac{r_{659}}{x_{12}}, d_{3} : \\frac{r_{659}}{x_{12} x_{23}}, d_{4} : r_{660}, d_{5} : \\frac{r_{659}}{x_{12} x_{23} x_{35}}, a_{12} : r_{661}, a_{13} : r_{662}, a_{14} : r_{663}, a_{15} : r_{664}, a_{23} : \\frac{r_{661}}{x_{12}}, a_{24} : 0, a_{25} : \\frac{r_{662}}{x_{12}}, a_{34} : 0, a_{35} : \\frac{r_{661}}{x_{12} x_{23}}, a_{45} : r_{665}\\right\\}\\right]$$"
      ],
      "text/plain": [
       "[{d1: 0,\n",
       "  d2: 0,\n",
       "  d3: 0,\n",
       "  d4: r649,\n",
       "  d5: 0,\n",
       "  a12: r650,\n",
       "  a13: r651,\n",
       "  a14: r652,\n",
       "  a15: r653,\n",
       "  a23: r654,\n",
       "  a24: r655,\n",
       "  a25: r656,\n",
       "  a34: 0,\n",
       "  a35: r657,\n",
       "  a45: r658},\n",
       " {d1: r659,\n",
       "  d2: r659/x12,\n",
       "  d3: r659/(x12*x23),\n",
       "  d4: r660,\n",
       "  d5: r659/(x12*x23*x35),\n",
       "  a12: r661,\n",
       "  a13: r662,\n",
       "  a14: r663,\n",
       "  a15: r664,\n",
       "  a23: r661/x12,\n",
       "  a24: 0,\n",
       "  a25: r662/x12,\n",
       "  a34: 0,\n",
       "  a35: r661/(x12*x23),\n",
       "  a45: r665}]"
      ]
     },
     "metadata": {},
     "output_type": "display_data"
    },
    {
     "data": {
      "text/plain": [
       "\\left[\\left\\{d_{1} : 0, d_{2} : 0, d_{3} : 0, d_{4} : r_{649}, d_{5} : 0, a_{12} : r_{650}, a_{13} : r_{651}, a_{14} : r_{652}, a_{15} : r_{653}, a_{23} : r_{654}, a_{24} : r_{655}, a_{25} : r_{656}, a_{34} : 0, a_{35} : r_{657}, a_{45} : r_{658}\\right\\}, \\left\\{d_{1} : r_{659}, d_{2} : \\frac{r_{659}}{x_{12}}, d_{3} : \\frac{r_{659}}{x_{12} x_{23}}, d_{4} : r_{660}, d_{5} : \\frac{r_{659}}{x_{12} x_{23} x_{35}}, a_{12} : r_{661}, a_{13} : r_{662}, a_{14} : r_{663}, a_{15} : r_{664}, a_{23} : \\frac{r_{661}}{x_{12}}, a_{24} : 0, a_{25} : \\frac{r_{662}}{x_{12}}, a_{34} : 0, a_{35} : \\frac{r_{661}}{x_{12} x_{23}}, a_{45} : r_{665}\\right\\}\\right]"
      ]
     },
     "execution_count": 37,
     "metadata": {},
     "output_type": "execute_result"
    }
   ],
   "source": [
    "#x4\n",
    "reset()\n",
    "\n",
    "var('x12,x13,x14,x15,x23,x24,x25,x34,x35,x45')\n",
    "var('d1,d2,d3,d4,d5')\n",
    "var('a12,a13,a14,a15,a23,a24,a25,a34,a35,a45')\n",
    "\n",
    "load_attach_path('C:\\\\Users\\\\julia\\\\Documents\\\\unb\\\\doutorado\\\\pensar\\\\codigo_sage_v2\\\\maquina\\\\x4')\n",
    "load('out_#100000.sage')\n",
    "\n",
    "m=matrix(QQ, [[0, 1, 0, 0, 0],\n",
    "              [0, 0, 1, 0, 0],\n",
    "              [0, 0, 0, 0, 1],\n",
    "              [0, 0, 0, 0, 0],\n",
    "              [0, 0, 0, 0, 0]])\n",
    "        \n",
    "#entry of matrix: (i,j) line i collum j, means (i-1,j-1)\n",
    "sol=solve([ eq1==m[0,1],\teq2==m[0,2],\teq3==m[0,3],\teq4==m[0,4],\t\n",
    "                                            eq5==m[1,2],    eq6==m[1,3],\n",
    "                                                            eq7==m[1,4], eq8==m[2,4]],d1,d2,d3,d4,d5,a12,a13,a14,a15,a23,a24,a25,a34,a35,a45, solution_dict=True)\n",
    "\n",
    "show(m)\n",
    "show(sol)\n",
    "latex(sol)"
   ]
  },
  {
   "cell_type": "code",
   "execution_count": 32,
   "metadata": {},
   "outputs": [
    {
     "data": {
      "text/html": [
       "<html><script type=\"math/tex; mode=display\">\\newcommand{\\Bold}[1]{\\mathbf{#1}}\\left(\\begin{array}{rrrrr}\n",
       "0 & 1 & 0 & 0 & 0 \\\\\n",
       "0 & 0 & 1 & 0 & 0 \\\\\n",
       "0 & 0 & 0 & 0 & 1 \\\\\n",
       "0 & 0 & 0 & 0 & 0 \\\\\n",
       "0 & 0 & 0 & 0 & 0\n",
       "\\end{array}\\right)</script></html>"
      ],
      "text/latex": [
       "$$\\newcommand{\\Bold}[1]{\\mathbf{#1}}\\left(\\begin{array}{rrrrr}\n",
       "0 & 1 & 0 & 0 & 0 \\\\\n",
       "0 & 0 & 1 & 0 & 0 \\\\\n",
       "0 & 0 & 0 & 0 & 1 \\\\\n",
       "0 & 0 & 0 & 0 & 0 \\\\\n",
       "0 & 0 & 0 & 0 & 0\n",
       "\\end{array}\\right)$$"
      ],
      "text/plain": [
       "[0 1 0 0 0]\n",
       "[0 0 1 0 0]\n",
       "[0 0 0 0 1]\n",
       "[0 0 0 0 0]\n",
       "[0 0 0 0 0]"
      ]
     },
     "metadata": {},
     "output_type": "display_data"
    },
    {
     "data": {
      "text/html": [
       "<html><script type=\"math/tex; mode=display\">\\newcommand{\\Bold}[1]{\\mathbf{#1}}\\left[\\left\\{d_{1} : 0, d_{2} : 0, d_{3} : 0, d_{4} : r_{559}, d_{5} : 0, a_{12} : r_{560}, a_{13} : r_{561}, a_{14} : r_{562}, a_{15} : r_{563}, a_{23} : r_{564}, a_{24} : r_{565}, a_{25} : r_{566}, a_{34} : 0, a_{35} : r_{567}, a_{45} : r_{568}\\right\\}, \\left\\{d_{1} : r_{569}, d_{2} : \\frac{r_{569}}{x_{12}}, d_{3} : \\frac{r_{569}}{x_{12} x_{23}}, d_{4} : r_{570}, d_{5} : \\frac{r_{569}}{x_{12} x_{23} x_{35}}, a_{12} : r_{571}, a_{13} : r_{572}, a_{14} : r_{573}, a_{15} : r_{574}, a_{23} : \\frac{r_{571}}{x_{12}}, a_{24} : 0, a_{25} : \\frac{r_{572} x_{12} x_{23} x_{35} - r_{569} x_{15}}{x_{12}^{2} x_{23} x_{35}}, a_{34} : 0, a_{35} : \\frac{r_{571}}{x_{12} x_{23}}, a_{45} : r_{575}\\right\\}\\right]</script></html>"
      ],
      "text/latex": [
       "$$\\newcommand{\\Bold}[1]{\\mathbf{#1}}\\left[\\left\\{d_{1} : 0, d_{2} : 0, d_{3} : 0, d_{4} : r_{559}, d_{5} : 0, a_{12} : r_{560}, a_{13} : r_{561}, a_{14} : r_{562}, a_{15} : r_{563}, a_{23} : r_{564}, a_{24} : r_{565}, a_{25} : r_{566}, a_{34} : 0, a_{35} : r_{567}, a_{45} : r_{568}\\right\\}, \\left\\{d_{1} : r_{569}, d_{2} : \\frac{r_{569}}{x_{12}}, d_{3} : \\frac{r_{569}}{x_{12} x_{23}}, d_{4} : r_{570}, d_{5} : \\frac{r_{569}}{x_{12} x_{23} x_{35}}, a_{12} : r_{571}, a_{13} : r_{572}, a_{14} : r_{573}, a_{15} : r_{574}, a_{23} : \\frac{r_{571}}{x_{12}}, a_{24} : 0, a_{25} : \\frac{r_{572} x_{12} x_{23} x_{35} - r_{569} x_{15}}{x_{12}^{2} x_{23} x_{35}}, a_{34} : 0, a_{35} : \\frac{r_{571}}{x_{12} x_{23}}, a_{45} : r_{575}\\right\\}\\right]$$"
      ],
      "text/plain": [
       "[{d1: 0,\n",
       "  d2: 0,\n",
       "  d3: 0,\n",
       "  d4: r559,\n",
       "  d5: 0,\n",
       "  a12: r560,\n",
       "  a13: r561,\n",
       "  a14: r562,\n",
       "  a15: r563,\n",
       "  a23: r564,\n",
       "  a24: r565,\n",
       "  a25: r566,\n",
       "  a34: 0,\n",
       "  a35: r567,\n",
       "  a45: r568},\n",
       " {d1: r569,\n",
       "  d2: r569/x12,\n",
       "  d3: r569/(x12*x23),\n",
       "  d4: r570,\n",
       "  d5: r569/(x12*x23*x35),\n",
       "  a12: r571,\n",
       "  a13: r572,\n",
       "  a14: r573,\n",
       "  a15: r574,\n",
       "  a23: r571/x12,\n",
       "  a24: 0,\n",
       "  a25: (r572*x12*x23*x35 - r569*x15)/(x12^2*x23*x35),\n",
       "  a34: 0,\n",
       "  a35: r571/(x12*x23),\n",
       "  a45: r575}]"
      ]
     },
     "metadata": {},
     "output_type": "display_data"
    },
    {
     "data": {
      "text/plain": [
       "\\left[\\left\\{d_{1} : 0, d_{2} : 0, d_{3} : 0, d_{4} : r_{559}, d_{5} : 0, a_{12} : r_{560}, a_{13} : r_{561}, a_{14} : r_{562}, a_{15} : r_{563}, a_{23} : r_{564}, a_{24} : r_{565}, a_{25} : r_{566}, a_{34} : 0, a_{35} : r_{567}, a_{45} : r_{568}\\right\\}, \\left\\{d_{1} : r_{569}, d_{2} : \\frac{r_{569}}{x_{12}}, d_{3} : \\frac{r_{569}}{x_{12} x_{23}}, d_{4} : r_{570}, d_{5} : \\frac{r_{569}}{x_{12} x_{23} x_{35}}, a_{12} : r_{571}, a_{13} : r_{572}, a_{14} : r_{573}, a_{15} : r_{574}, a_{23} : \\frac{r_{571}}{x_{12}}, a_{24} : 0, a_{25} : \\frac{r_{572} x_{12} x_{23} x_{35} - r_{569} x_{15}}{x_{12}^{2} x_{23} x_{35}}, a_{34} : 0, a_{35} : \\frac{r_{571}}{x_{12} x_{23}}, a_{45} : r_{575}\\right\\}\\right]"
      ]
     },
     "execution_count": 32,
     "metadata": {},
     "output_type": "execute_result"
    }
   ],
   "source": [
    "#x4\n",
    "reset()\n",
    "\n",
    "var('x12,x13,x14,x15,x23,x24,x25,x34,x35,x45')\n",
    "var('d1,d2,d3,d4,d5')\n",
    "var('a12,a13,a14,a15,a23,a24,a25,a34,a35,a45')\n",
    "\n",
    "load_attach_path('C:\\\\Users\\\\julia\\\\Documents\\\\unb\\\\doutorado\\\\pensar\\\\codigo_sage_v2\\\\maquina\\\\x4')\n",
    "load('out_#100001.sage')\n",
    "\n",
    "m=matrix(QQ, [[0, 1, 0, 0, 0],\n",
    "              [0, 0, 1, 0, 0],\n",
    "              [0, 0, 0, 0, 1],\n",
    "              [0, 0, 0, 0, 0],\n",
    "              [0, 0, 0, 0, 0]])\n",
    "        \n",
    "#entry of matrix: (i,j) line i collum j, means (i-1,j-1)\n",
    "sol=solve([ eq1==m[0,1],\teq2==m[0,2],\teq3==m[0,3],\teq4==m[0,4],\t\n",
    "                                            eq5==m[1,2],    eq6==m[1,3],\n",
    "                                                            eq7==m[1,4], eq8==m[2,4]],d1,d2,d3,d4,d5,a12,a13,a14,a15,a23,a24,a25,a34,a35,a45, solution_dict=True)\n",
    "\n",
    "show(m)\n",
    "show(sol)\n",
    "latex(sol)"
   ]
  },
  {
   "cell_type": "code",
   "execution_count": 33,
   "metadata": {},
   "outputs": [
    {
     "data": {
      "text/html": [
       "<html><script type=\"math/tex; mode=display\">\\newcommand{\\Bold}[1]{\\mathbf{#1}}\\left(\\begin{array}{rrrrr}\n",
       "0 & 1 & 0 & 0 & 0 \\\\\n",
       "0 & 0 & 1 & 0 & 0 \\\\\n",
       "0 & 0 & 0 & 0 & 1 \\\\\n",
       "0 & 0 & 0 & 0 & 0 \\\\\n",
       "0 & 0 & 0 & 0 & 0\n",
       "\\end{array}\\right)</script></html>"
      ],
      "text/latex": [
       "$$\\newcommand{\\Bold}[1]{\\mathbf{#1}}\\left(\\begin{array}{rrrrr}\n",
       "0 & 1 & 0 & 0 & 0 \\\\\n",
       "0 & 0 & 1 & 0 & 0 \\\\\n",
       "0 & 0 & 0 & 0 & 1 \\\\\n",
       "0 & 0 & 0 & 0 & 0 \\\\\n",
       "0 & 0 & 0 & 0 & 0\n",
       "\\end{array}\\right)$$"
      ],
      "text/plain": [
       "[0 1 0 0 0]\n",
       "[0 0 1 0 0]\n",
       "[0 0 0 0 1]\n",
       "[0 0 0 0 0]\n",
       "[0 0 0 0 0]"
      ]
     },
     "metadata": {},
     "output_type": "display_data"
    },
    {
     "data": {
      "text/html": [
       "<html><script type=\"math/tex; mode=display\">\\newcommand{\\Bold}[1]{\\mathbf{#1}}\\left[\\left\\{d_{1} : 0, d_{2} : 0, d_{3} : 0, d_{4} : r_{576}, d_{5} : 0, a_{12} : r_{577}, a_{13} : r_{578}, a_{14} : r_{579}, a_{15} : r_{580}, a_{23} : r_{581}, a_{24} : r_{582}, a_{25} : r_{583}, a_{34} : 0, a_{35} : r_{584}, a_{45} : r_{585}\\right\\}, \\left\\{d_{1} : r_{586}, d_{2} : \\frac{r_{586}}{x_{12}}, d_{3} : \\frac{r_{586}}{x_{12} x_{23}}, d_{4} : r_{587}, d_{5} : \\frac{r_{586}}{x_{12} x_{23} x_{35}}, a_{12} : r_{588}, a_{13} : r_{589}, a_{14} : r_{590}, a_{15} : r_{591}, a_{23} : \\frac{r_{588}}{x_{12}}, a_{24} : -\\frac{r_{587} x_{14}}{x_{12}}, a_{25} : r_{592}, a_{34} : 0, a_{35} : \\frac{r_{588}}{x_{12} x_{23}}, a_{45} : -\\frac{r_{592} x_{12} - r_{589}}{x_{14}}\\right\\}\\right]</script></html>"
      ],
      "text/latex": [
       "$$\\newcommand{\\Bold}[1]{\\mathbf{#1}}\\left[\\left\\{d_{1} : 0, d_{2} : 0, d_{3} : 0, d_{4} : r_{576}, d_{5} : 0, a_{12} : r_{577}, a_{13} : r_{578}, a_{14} : r_{579}, a_{15} : r_{580}, a_{23} : r_{581}, a_{24} : r_{582}, a_{25} : r_{583}, a_{34} : 0, a_{35} : r_{584}, a_{45} : r_{585}\\right\\}, \\left\\{d_{1} : r_{586}, d_{2} : \\frac{r_{586}}{x_{12}}, d_{3} : \\frac{r_{586}}{x_{12} x_{23}}, d_{4} : r_{587}, d_{5} : \\frac{r_{586}}{x_{12} x_{23} x_{35}}, a_{12} : r_{588}, a_{13} : r_{589}, a_{14} : r_{590}, a_{15} : r_{591}, a_{23} : \\frac{r_{588}}{x_{12}}, a_{24} : -\\frac{r_{587} x_{14}}{x_{12}}, a_{25} : r_{592}, a_{34} : 0, a_{35} : \\frac{r_{588}}{x_{12} x_{23}}, a_{45} : -\\frac{r_{592} x_{12} - r_{589}}{x_{14}}\\right\\}\\right]$$"
      ],
      "text/plain": [
       "[{d1: 0,\n",
       "  d2: 0,\n",
       "  d3: 0,\n",
       "  d4: r576,\n",
       "  d5: 0,\n",
       "  a12: r577,\n",
       "  a13: r578,\n",
       "  a14: r579,\n",
       "  a15: r580,\n",
       "  a23: r581,\n",
       "  a24: r582,\n",
       "  a25: r583,\n",
       "  a34: 0,\n",
       "  a35: r584,\n",
       "  a45: r585},\n",
       " {d1: r586,\n",
       "  d2: r586/x12,\n",
       "  d3: r586/(x12*x23),\n",
       "  d4: r587,\n",
       "  d5: r586/(x12*x23*x35),\n",
       "  a12: r588,\n",
       "  a13: r589,\n",
       "  a14: r590,\n",
       "  a15: r591,\n",
       "  a23: r588/x12,\n",
       "  a24: -r587*x14/x12,\n",
       "  a25: r592,\n",
       "  a34: 0,\n",
       "  a35: r588/(x12*x23),\n",
       "  a45: -(r592*x12 - r589)/x14}]"
      ]
     },
     "metadata": {},
     "output_type": "display_data"
    },
    {
     "data": {
      "text/plain": [
       "\\left[\\left\\{d_{1} : 0, d_{2} : 0, d_{3} : 0, d_{4} : r_{576}, d_{5} : 0, a_{12} : r_{577}, a_{13} : r_{578}, a_{14} : r_{579}, a_{15} : r_{580}, a_{23} : r_{581}, a_{24} : r_{582}, a_{25} : r_{583}, a_{34} : 0, a_{35} : r_{584}, a_{45} : r_{585}\\right\\}, \\left\\{d_{1} : r_{586}, d_{2} : \\frac{r_{586}}{x_{12}}, d_{3} : \\frac{r_{586}}{x_{12} x_{23}}, d_{4} : r_{587}, d_{5} : \\frac{r_{586}}{x_{12} x_{23} x_{35}}, a_{12} : r_{588}, a_{13} : r_{589}, a_{14} : r_{590}, a_{15} : r_{591}, a_{23} : \\frac{r_{588}}{x_{12}}, a_{24} : -\\frac{r_{587} x_{14}}{x_{12}}, a_{25} : r_{592}, a_{34} : 0, a_{35} : \\frac{r_{588}}{x_{12} x_{23}}, a_{45} : -\\frac{r_{592} x_{12} - r_{589}}{x_{14}}\\right\\}\\right]"
      ]
     },
     "execution_count": 33,
     "metadata": {},
     "output_type": "execute_result"
    }
   ],
   "source": [
    "#x4\n",
    "reset()\n",
    "\n",
    "var('x12,x13,x14,x15,x23,x24,x25,x34,x35,x45')\n",
    "var('d1,d2,d3,d4,d5')\n",
    "var('a12,a13,a14,a15,a23,a24,a25,a34,a35,a45')\n",
    "\n",
    "load_attach_path('C:\\\\Users\\\\julia\\\\Documents\\\\unb\\\\doutorado\\\\pensar\\\\codigo_sage_v2\\\\maquina\\\\x4')\n",
    "load('out_#100010.sage')\n",
    "\n",
    "m=matrix(QQ, [[0, 1, 0, 0, 0],\n",
    "              [0, 0, 1, 0, 0],\n",
    "              [0, 0, 0, 0, 1],\n",
    "              [0, 0, 0, 0, 0],\n",
    "              [0, 0, 0, 0, 0]])\n",
    "        \n",
    "#entry of matrix: (i,j) line i collum j, means (i-1,j-1)\n",
    "sol=solve([ eq1==m[0,1],\teq2==m[0,2],\teq3==m[0,3],\teq4==m[0,4],\t\n",
    "                                            eq5==m[1,2],    eq6==m[1,3],\n",
    "                                                            eq7==m[1,4], eq8==m[2,4]],d1,d2,d3,d4,d5,a12,a13,a14,a15,a23,a24,a25,a34,a35,a45, solution_dict=True)\n",
    "\n",
    "show(m)\n",
    "show(sol)\n",
    "latex(sol)"
   ]
  },
  {
   "cell_type": "code",
   "execution_count": 34,
   "metadata": {},
   "outputs": [
    {
     "data": {
      "text/html": [
       "<html><script type=\"math/tex; mode=display\">\\newcommand{\\Bold}[1]{\\mathbf{#1}}\\left(\\begin{array}{rrrrr}\n",
       "0 & 1 & 0 & 0 & 0 \\\\\n",
       "0 & 0 & 1 & 0 & 0 \\\\\n",
       "0 & 0 & 0 & 0 & 1 \\\\\n",
       "0 & 0 & 0 & 0 & 0 \\\\\n",
       "0 & 0 & 0 & 0 & 0\n",
       "\\end{array}\\right)</script></html>"
      ],
      "text/latex": [
       "$$\\newcommand{\\Bold}[1]{\\mathbf{#1}}\\left(\\begin{array}{rrrrr}\n",
       "0 & 1 & 0 & 0 & 0 \\\\\n",
       "0 & 0 & 1 & 0 & 0 \\\\\n",
       "0 & 0 & 0 & 0 & 1 \\\\\n",
       "0 & 0 & 0 & 0 & 0 \\\\\n",
       "0 & 0 & 0 & 0 & 0\n",
       "\\end{array}\\right)$$"
      ],
      "text/plain": [
       "[0 1 0 0 0]\n",
       "[0 0 1 0 0]\n",
       "[0 0 0 0 1]\n",
       "[0 0 0 0 0]\n",
       "[0 0 0 0 0]"
      ]
     },
     "metadata": {},
     "output_type": "display_data"
    },
    {
     "data": {
      "text/html": [
       "<html><script type=\"math/tex; mode=display\">\\newcommand{\\Bold}[1]{\\mathbf{#1}}\\left[\\left\\{d_{1} : 0, d_{2} : 0, d_{3} : 0, d_{4} : r_{593}, d_{5} : 0, a_{12} : r_{594}, a_{13} : r_{595}, a_{14} : r_{596}, a_{15} : r_{597}, a_{23} : r_{598}, a_{24} : r_{599}, a_{25} : r_{600}, a_{34} : 0, a_{35} : r_{601}, a_{45} : r_{602}\\right\\}, \\left\\{d_{1} : r_{603}, d_{2} : \\frac{r_{603}}{x_{12}}, d_{3} : \\frac{r_{603}}{x_{12} x_{23}}, d_{4} : r_{604}, d_{5} : \\frac{r_{603}}{x_{12} x_{23} x_{35}}, a_{12} : r_{605}, a_{13} : r_{606}, a_{14} : r_{607}, a_{15} : r_{608}, a_{23} : \\frac{r_{605}}{x_{12}}, a_{24} : -\\frac{r_{604} x_{14}}{x_{12}}, a_{25} : r_{609}, a_{34} : 0, a_{35} : \\frac{r_{605}}{x_{12} x_{23}}, a_{45} : -\\frac{{\\left(r_{609} x_{12}^{2} - r_{606} x_{12}\\right)} x_{23} x_{35} + r_{603} x_{15}}{x_{12} x_{14} x_{23} x_{35}}\\right\\}\\right]</script></html>"
      ],
      "text/latex": [
       "$$\\newcommand{\\Bold}[1]{\\mathbf{#1}}\\left[\\left\\{d_{1} : 0, d_{2} : 0, d_{3} : 0, d_{4} : r_{593}, d_{5} : 0, a_{12} : r_{594}, a_{13} : r_{595}, a_{14} : r_{596}, a_{15} : r_{597}, a_{23} : r_{598}, a_{24} : r_{599}, a_{25} : r_{600}, a_{34} : 0, a_{35} : r_{601}, a_{45} : r_{602}\\right\\}, \\left\\{d_{1} : r_{603}, d_{2} : \\frac{r_{603}}{x_{12}}, d_{3} : \\frac{r_{603}}{x_{12} x_{23}}, d_{4} : r_{604}, d_{5} : \\frac{r_{603}}{x_{12} x_{23} x_{35}}, a_{12} : r_{605}, a_{13} : r_{606}, a_{14} : r_{607}, a_{15} : r_{608}, a_{23} : \\frac{r_{605}}{x_{12}}, a_{24} : -\\frac{r_{604} x_{14}}{x_{12}}, a_{25} : r_{609}, a_{34} : 0, a_{35} : \\frac{r_{605}}{x_{12} x_{23}}, a_{45} : -\\frac{{\\left(r_{609} x_{12}^{2} - r_{606} x_{12}\\right)} x_{23} x_{35} + r_{603} x_{15}}{x_{12} x_{14} x_{23} x_{35}}\\right\\}\\right]$$"
      ],
      "text/plain": [
       "[{d1: 0,\n",
       "  d2: 0,\n",
       "  d3: 0,\n",
       "  d4: r593,\n",
       "  d5: 0,\n",
       "  a12: r594,\n",
       "  a13: r595,\n",
       "  a14: r596,\n",
       "  a15: r597,\n",
       "  a23: r598,\n",
       "  a24: r599,\n",
       "  a25: r600,\n",
       "  a34: 0,\n",
       "  a35: r601,\n",
       "  a45: r602},\n",
       " {d1: r603,\n",
       "  d2: r603/x12,\n",
       "  d3: r603/(x12*x23),\n",
       "  d4: r604,\n",
       "  d5: r603/(x12*x23*x35),\n",
       "  a12: r605,\n",
       "  a13: r606,\n",
       "  a14: r607,\n",
       "  a15: r608,\n",
       "  a23: r605/x12,\n",
       "  a24: -r604*x14/x12,\n",
       "  a25: r609,\n",
       "  a34: 0,\n",
       "  a35: r605/(x12*x23),\n",
       "  a45: -((r609*x12^2 - r606*x12)*x23*x35 + r603*x15)/(x12*x14*x23*x35)}]"
      ]
     },
     "metadata": {},
     "output_type": "display_data"
    },
    {
     "data": {
      "text/plain": [
       "\\left[\\left\\{d_{1} : 0, d_{2} : 0, d_{3} : 0, d_{4} : r_{593}, d_{5} : 0, a_{12} : r_{594}, a_{13} : r_{595}, a_{14} : r_{596}, a_{15} : r_{597}, a_{23} : r_{598}, a_{24} : r_{599}, a_{25} : r_{600}, a_{34} : 0, a_{35} : r_{601}, a_{45} : r_{602}\\right\\}, \\left\\{d_{1} : r_{603}, d_{2} : \\frac{r_{603}}{x_{12}}, d_{3} : \\frac{r_{603}}{x_{12} x_{23}}, d_{4} : r_{604}, d_{5} : \\frac{r_{603}}{x_{12} x_{23} x_{35}}, a_{12} : r_{605}, a_{13} : r_{606}, a_{14} : r_{607}, a_{15} : r_{608}, a_{23} : \\frac{r_{605}}{x_{12}}, a_{24} : -\\frac{r_{604} x_{14}}{x_{12}}, a_{25} : r_{609}, a_{34} : 0, a_{35} : \\frac{r_{605}}{x_{12} x_{23}}, a_{45} : -\\frac{{\\left(r_{609} x_{12}^{2} - r_{606} x_{12}\\right)} x_{23} x_{35} + r_{603} x_{15}}{x_{12} x_{14} x_{23} x_{35}}\\right\\}\\right]"
      ]
     },
     "execution_count": 34,
     "metadata": {},
     "output_type": "execute_result"
    }
   ],
   "source": [
    "#x4\n",
    "reset()\n",
    "\n",
    "var('x12,x13,x14,x15,x23,x24,x25,x34,x35,x45')\n",
    "var('d1,d2,d3,d4,d5')\n",
    "var('a12,a13,a14,a15,a23,a24,a25,a34,a35,a45')\n",
    "\n",
    "load_attach_path('C:\\\\Users\\\\julia\\\\Documents\\\\unb\\\\doutorado\\\\pensar\\\\codigo_sage_v2\\\\maquina\\\\x4')\n",
    "load('out_#100011.sage')\n",
    "\n",
    "m=matrix(QQ, [[0, 1, 0, 0, 0],\n",
    "              [0, 0, 1, 0, 0],\n",
    "              [0, 0, 0, 0, 1],\n",
    "              [0, 0, 0, 0, 0],\n",
    "              [0, 0, 0, 0, 0]])\n",
    "        \n",
    "#entry of matrix: (i,j) line i collum j, means (i-1,j-1)\n",
    "sol=solve([ eq1==m[0,1],\teq2==m[0,2],\teq3==m[0,3],\teq4==m[0,4],\t\n",
    "                                            eq5==m[1,2],    eq6==m[1,3],\n",
    "                                                            eq7==m[1,4], eq8==m[2,4]],d1,d2,d3,d4,d5,a12,a13,a14,a15,a23,a24,a25,a34,a35,a45, solution_dict=True)\n",
    "\n",
    "show(m)\n",
    "show(sol)\n",
    "latex(sol)"
   ]
  },
  {
   "cell_type": "code",
   "execution_count": 35,
   "metadata": {},
   "outputs": [
    {
     "data": {
      "text/html": [
       "<html><script type=\"math/tex; mode=display\">\\newcommand{\\Bold}[1]{\\mathbf{#1}}\\left(\\begin{array}{rrrrr}\n",
       "0 & 1 & 0 & 0 & 0 \\\\\n",
       "0 & 0 & 1 & 0 & 0 \\\\\n",
       "0 & 0 & 0 & 0 & 1 \\\\\n",
       "0 & 0 & 0 & 0 & 0 \\\\\n",
       "0 & 0 & 0 & 0 & 0\n",
       "\\end{array}\\right)</script></html>"
      ],
      "text/latex": [
       "$$\\newcommand{\\Bold}[1]{\\mathbf{#1}}\\left(\\begin{array}{rrrrr}\n",
       "0 & 1 & 0 & 0 & 0 \\\\\n",
       "0 & 0 & 1 & 0 & 0 \\\\\n",
       "0 & 0 & 0 & 0 & 1 \\\\\n",
       "0 & 0 & 0 & 0 & 0 \\\\\n",
       "0 & 0 & 0 & 0 & 0\n",
       "\\end{array}\\right)$$"
      ],
      "text/plain": [
       "[0 1 0 0 0]\n",
       "[0 0 1 0 0]\n",
       "[0 0 0 0 1]\n",
       "[0 0 0 0 0]\n",
       "[0 0 0 0 0]"
      ]
     },
     "metadata": {},
     "output_type": "display_data"
    },
    {
     "data": {
      "text/html": [
       "<html><script type=\"math/tex; mode=display\">\\newcommand{\\Bold}[1]{\\mathbf{#1}}\\left[\\left\\{d_{1} : 0, d_{2} : 0, d_{3} : 0, d_{4} : r_{610}, d_{5} : 0, a_{12} : r_{611}, a_{13} : r_{612}, a_{14} : r_{613}, a_{15} : r_{614}, a_{23} : r_{615}, a_{24} : r_{616}, a_{25} : r_{617}, a_{34} : 0, a_{35} : r_{618}, a_{45} : r_{619}\\right\\}, \\left\\{d_{1} : r_{620}, d_{2} : \\frac{r_{620}}{x_{12}}, d_{3} : \\frac{r_{620}}{x_{12} x_{23}}, d_{4} : r_{621}, d_{5} : \\frac{r_{620}}{x_{12} x_{23} x_{35}}, a_{12} : r_{622}, a_{13} : r_{623}, a_{14} : r_{624}, a_{15} : r_{625}, a_{23} : \\frac{r_{622} x_{12} x_{23} - r_{620} x_{13}}{x_{12}^{2} x_{23}}, a_{24} : 0, a_{25} : \\frac{r_{623} x_{12}^{2} x_{23}^{2} - r_{622} x_{12} x_{13} x_{23} + r_{620} x_{13}^{2}}{x_{12}^{3} x_{23}^{2}}, a_{34} : 0, a_{35} : \\frac{r_{622} x_{12} x_{23} - r_{620} x_{13}}{x_{12}^{2} x_{23}^{2}}, a_{45} : r_{626}\\right\\}\\right]</script></html>"
      ],
      "text/latex": [
       "$$\\newcommand{\\Bold}[1]{\\mathbf{#1}}\\left[\\left\\{d_{1} : 0, d_{2} : 0, d_{3} : 0, d_{4} : r_{610}, d_{5} : 0, a_{12} : r_{611}, a_{13} : r_{612}, a_{14} : r_{613}, a_{15} : r_{614}, a_{23} : r_{615}, a_{24} : r_{616}, a_{25} : r_{617}, a_{34} : 0, a_{35} : r_{618}, a_{45} : r_{619}\\right\\}, \\left\\{d_{1} : r_{620}, d_{2} : \\frac{r_{620}}{x_{12}}, d_{3} : \\frac{r_{620}}{x_{12} x_{23}}, d_{4} : r_{621}, d_{5} : \\frac{r_{620}}{x_{12} x_{23} x_{35}}, a_{12} : r_{622}, a_{13} : r_{623}, a_{14} : r_{624}, a_{15} : r_{625}, a_{23} : \\frac{r_{622} x_{12} x_{23} - r_{620} x_{13}}{x_{12}^{2} x_{23}}, a_{24} : 0, a_{25} : \\frac{r_{623} x_{12}^{2} x_{23}^{2} - r_{622} x_{12} x_{13} x_{23} + r_{620} x_{13}^{2}}{x_{12}^{3} x_{23}^{2}}, a_{34} : 0, a_{35} : \\frac{r_{622} x_{12} x_{23} - r_{620} x_{13}}{x_{12}^{2} x_{23}^{2}}, a_{45} : r_{626}\\right\\}\\right]$$"
      ],
      "text/plain": [
       "[{d1: 0,\n",
       "  d2: 0,\n",
       "  d3: 0,\n",
       "  d4: r610,\n",
       "  d5: 0,\n",
       "  a12: r611,\n",
       "  a13: r612,\n",
       "  a14: r613,\n",
       "  a15: r614,\n",
       "  a23: r615,\n",
       "  a24: r616,\n",
       "  a25: r617,\n",
       "  a34: 0,\n",
       "  a35: r618,\n",
       "  a45: r619},\n",
       " {d1: r620,\n",
       "  d2: r620/x12,\n",
       "  d3: r620/(x12*x23),\n",
       "  d4: r621,\n",
       "  d5: r620/(x12*x23*x35),\n",
       "  a12: r622,\n",
       "  a13: r623,\n",
       "  a14: r624,\n",
       "  a15: r625,\n",
       "  a23: (r622*x12*x23 - r620*x13)/(x12^2*x23),\n",
       "  a24: 0,\n",
       "  a25: (r623*x12^2*x23^2 - r622*x12*x13*x23 + r620*x13^2)/(x12^3*x23^2),\n",
       "  a34: 0,\n",
       "  a35: (r622*x12*x23 - r620*x13)/(x12^2*x23^2),\n",
       "  a45: r626}]"
      ]
     },
     "metadata": {},
     "output_type": "display_data"
    },
    {
     "data": {
      "text/plain": [
       "\\left[\\left\\{d_{1} : 0, d_{2} : 0, d_{3} : 0, d_{4} : r_{610}, d_{5} : 0, a_{12} : r_{611}, a_{13} : r_{612}, a_{14} : r_{613}, a_{15} : r_{614}, a_{23} : r_{615}, a_{24} : r_{616}, a_{25} : r_{617}, a_{34} : 0, a_{35} : r_{618}, a_{45} : r_{619}\\right\\}, \\left\\{d_{1} : r_{620}, d_{2} : \\frac{r_{620}}{x_{12}}, d_{3} : \\frac{r_{620}}{x_{12} x_{23}}, d_{4} : r_{621}, d_{5} : \\frac{r_{620}}{x_{12} x_{23} x_{35}}, a_{12} : r_{622}, a_{13} : r_{623}, a_{14} : r_{624}, a_{15} : r_{625}, a_{23} : \\frac{r_{622} x_{12} x_{23} - r_{620} x_{13}}{x_{12}^{2} x_{23}}, a_{24} : 0, a_{25} : \\frac{r_{623} x_{12}^{2} x_{23}^{2} - r_{622} x_{12} x_{13} x_{23} + r_{620} x_{13}^{2}}{x_{12}^{3} x_{23}^{2}}, a_{34} : 0, a_{35} : \\frac{r_{622} x_{12} x_{23} - r_{620} x_{13}}{x_{12}^{2} x_{23}^{2}}, a_{45} : r_{626}\\right\\}\\right]"
      ]
     },
     "execution_count": 35,
     "metadata": {},
     "output_type": "execute_result"
    }
   ],
   "source": [
    "#x4\n",
    "reset()\n",
    "\n",
    "var('x12,x13,x14,x15,x23,x24,x25,x34,x35,x45')\n",
    "var('d1,d2,d3,d4,d5')\n",
    "var('a12,a13,a14,a15,a23,a24,a25,a34,a35,a45')\n",
    "\n",
    "load_attach_path('C:\\\\Users\\\\julia\\\\Documents\\\\unb\\\\doutorado\\\\pensar\\\\codigo_sage_v2\\\\maquina\\\\x4')\n",
    "load('out_#100100.sage')\n",
    "\n",
    "m=matrix(QQ, [[0, 1, 0, 0, 0],\n",
    "              [0, 0, 1, 0, 0],\n",
    "              [0, 0, 0, 0, 1],\n",
    "              [0, 0, 0, 0, 0],\n",
    "              [0, 0, 0, 0, 0]])\n",
    "        \n",
    "#entry of matrix: (i,j) line i collum j, means (i-1,j-1)\n",
    "sol=solve([ eq1==m[0,1],\teq2==m[0,2],\teq3==m[0,3],\teq4==m[0,4],\t\n",
    "                                            eq5==m[1,2],    eq6==m[1,3],\n",
    "                                                            eq7==m[1,4], eq8==m[2,4]],d1,d2,d3,d4,d5,a12,a13,a14,a15,a23,a24,a25,a34,a35,a45, solution_dict=True)\n",
    "\n",
    "show(m)\n",
    "show(sol)\n",
    "latex(sol)"
   ]
  },
  {
   "cell_type": "code",
   "execution_count": 36,
   "metadata": {},
   "outputs": [
    {
     "data": {
      "text/html": [
       "<html><script type=\"math/tex; mode=display\">\\newcommand{\\Bold}[1]{\\mathbf{#1}}\\left(\\begin{array}{rrrrr}\n",
       "0 & 1 & 0 & 0 & 0 \\\\\n",
       "0 & 0 & 1 & 0 & 0 \\\\\n",
       "0 & 0 & 0 & 0 & 1 \\\\\n",
       "0 & 0 & 0 & 0 & 0 \\\\\n",
       "0 & 0 & 0 & 0 & 0\n",
       "\\end{array}\\right)</script></html>"
      ],
      "text/latex": [
       "$$\\newcommand{\\Bold}[1]{\\mathbf{#1}}\\left(\\begin{array}{rrrrr}\n",
       "0 & 1 & 0 & 0 & 0 \\\\\n",
       "0 & 0 & 1 & 0 & 0 \\\\\n",
       "0 & 0 & 0 & 0 & 1 \\\\\n",
       "0 & 0 & 0 & 0 & 0 \\\\\n",
       "0 & 0 & 0 & 0 & 0\n",
       "\\end{array}\\right)$$"
      ],
      "text/plain": [
       "[0 1 0 0 0]\n",
       "[0 0 1 0 0]\n",
       "[0 0 0 0 1]\n",
       "[0 0 0 0 0]\n",
       "[0 0 0 0 0]"
      ]
     },
     "metadata": {},
     "output_type": "display_data"
    },
    {
     "data": {
      "text/html": [
       "<html><script type=\"math/tex; mode=display\">\\newcommand{\\Bold}[1]{\\mathbf{#1}}\\left[\\left\\{d_{1} : 0, d_{2} : 0, d_{3} : 0, d_{4} : r_{627}, d_{5} : 0, a_{12} : r_{628}, a_{13} : r_{629}, a_{14} : r_{630}, a_{15} : r_{631}, a_{23} : r_{632}, a_{24} : r_{633}, a_{25} : r_{634}, a_{34} : 0, a_{35} : r_{635}, a_{45} : r_{636}\\right\\}, \\left\\{d_{1} : r_{637}, d_{2} : \\frac{r_{637}}{x_{12}}, d_{3} : \\frac{r_{637}}{x_{12} x_{23}}, d_{4} : r_{638}, d_{5} : \\frac{r_{637}}{x_{12} x_{23} x_{35}}, a_{12} : r_{639}, a_{13} : r_{640}, a_{14} : r_{641}, a_{15} : r_{642}, a_{23} : \\frac{r_{639} x_{12} x_{23} - r_{637} x_{13}}{x_{12}^{2} x_{23}}, a_{24} : 0, a_{25} : -\\frac{r_{637} x_{12} x_{15} x_{23} - {\\left(r_{640} x_{12}^{2} x_{23}^{2} - r_{639} x_{12} x_{13} x_{23} + r_{637} x_{13}^{2}\\right)} x_{35}}{x_{12}^{3} x_{23}^{2} x_{35}}, a_{34} : 0, a_{35} : \\frac{r_{639} x_{12} x_{23} - r_{637} x_{13}}{x_{12}^{2} x_{23}^{2}}, a_{45} : r_{643}\\right\\}\\right]</script></html>"
      ],
      "text/latex": [
       "$$\\newcommand{\\Bold}[1]{\\mathbf{#1}}\\left[\\left\\{d_{1} : 0, d_{2} : 0, d_{3} : 0, d_{4} : r_{627}, d_{5} : 0, a_{12} : r_{628}, a_{13} : r_{629}, a_{14} : r_{630}, a_{15} : r_{631}, a_{23} : r_{632}, a_{24} : r_{633}, a_{25} : r_{634}, a_{34} : 0, a_{35} : r_{635}, a_{45} : r_{636}\\right\\}, \\left\\{d_{1} : r_{637}, d_{2} : \\frac{r_{637}}{x_{12}}, d_{3} : \\frac{r_{637}}{x_{12} x_{23}}, d_{4} : r_{638}, d_{5} : \\frac{r_{637}}{x_{12} x_{23} x_{35}}, a_{12} : r_{639}, a_{13} : r_{640}, a_{14} : r_{641}, a_{15} : r_{642}, a_{23} : \\frac{r_{639} x_{12} x_{23} - r_{637} x_{13}}{x_{12}^{2} x_{23}}, a_{24} : 0, a_{25} : -\\frac{r_{637} x_{12} x_{15} x_{23} - {\\left(r_{640} x_{12}^{2} x_{23}^{2} - r_{639} x_{12} x_{13} x_{23} + r_{637} x_{13}^{2}\\right)} x_{35}}{x_{12}^{3} x_{23}^{2} x_{35}}, a_{34} : 0, a_{35} : \\frac{r_{639} x_{12} x_{23} - r_{637} x_{13}}{x_{12}^{2} x_{23}^{2}}, a_{45} : r_{643}\\right\\}\\right]$$"
      ],
      "text/plain": [
       "[{d1: 0,\n",
       "  d2: 0,\n",
       "  d3: 0,\n",
       "  d4: r627,\n",
       "  d5: 0,\n",
       "  a12: r628,\n",
       "  a13: r629,\n",
       "  a14: r630,\n",
       "  a15: r631,\n",
       "  a23: r632,\n",
       "  a24: r633,\n",
       "  a25: r634,\n",
       "  a34: 0,\n",
       "  a35: r635,\n",
       "  a45: r636},\n",
       " {d1: r637,\n",
       "  d2: r637/x12,\n",
       "  d3: r637/(x12*x23),\n",
       "  d4: r638,\n",
       "  d5: r637/(x12*x23*x35),\n",
       "  a12: r639,\n",
       "  a13: r640,\n",
       "  a14: r641,\n",
       "  a15: r642,\n",
       "  a23: (r639*x12*x23 - r637*x13)/(x12^2*x23),\n",
       "  a24: 0,\n",
       "  a25: -(r637*x12*x15*x23 - (r640*x12^2*x23^2 - r639*x12*x13*x23 + r637*x13^2)*x35)/(x12^3*x23^2*x35),\n",
       "  a34: 0,\n",
       "  a35: (r639*x12*x23 - r637*x13)/(x12^2*x23^2),\n",
       "  a45: r643}]"
      ]
     },
     "metadata": {},
     "output_type": "display_data"
    },
    {
     "data": {
      "text/plain": [
       "\\left[\\left\\{d_{1} : 0, d_{2} : 0, d_{3} : 0, d_{4} : r_{627}, d_{5} : 0, a_{12} : r_{628}, a_{13} : r_{629}, a_{14} : r_{630}, a_{15} : r_{631}, a_{23} : r_{632}, a_{24} : r_{633}, a_{25} : r_{634}, a_{34} : 0, a_{35} : r_{635}, a_{45} : r_{636}\\right\\}, \\left\\{d_{1} : r_{637}, d_{2} : \\frac{r_{637}}{x_{12}}, d_{3} : \\frac{r_{637}}{x_{12} x_{23}}, d_{4} : r_{638}, d_{5} : \\frac{r_{637}}{x_{12} x_{23} x_{35}}, a_{12} : r_{639}, a_{13} : r_{640}, a_{14} : r_{641}, a_{15} : r_{642}, a_{23} : \\frac{r_{639} x_{12} x_{23} - r_{637} x_{13}}{x_{12}^{2} x_{23}}, a_{24} : 0, a_{25} : -\\frac{r_{637} x_{12} x_{15} x_{23} - {\\left(r_{640} x_{12}^{2} x_{23}^{2} - r_{639} x_{12} x_{13} x_{23} + r_{637} x_{13}^{2}\\right)} x_{35}}{x_{12}^{3} x_{23}^{2} x_{35}}, a_{34} : 0, a_{35} : \\frac{r_{639} x_{12} x_{23} - r_{637} x_{13}}{x_{12}^{2} x_{23}^{2}}, a_{45} : r_{643}\\right\\}\\right]"
      ]
     },
     "execution_count": 36,
     "metadata": {},
     "output_type": "execute_result"
    }
   ],
   "source": [
    "#x4\n",
    "reset()\n",
    "\n",
    "var('x12,x13,x14,x15,x23,x24,x25,x34,x35,x45')\n",
    "var('d1,d2,d3,d4,d5')\n",
    "var('a12,a13,a14,a15,a23,a24,a25,a34,a35,a45')\n",
    "\n",
    "load_attach_path('C:\\\\Users\\\\julia\\\\Documents\\\\unb\\\\doutorado\\\\pensar\\\\codigo_sage_v2\\\\maquina\\\\x4')\n",
    "load('out_#100101.sage')\n",
    "\n",
    "m=matrix(QQ, [[0, 1, 0, 0, 0],\n",
    "              [0, 0, 1, 0, 0],\n",
    "              [0, 0, 0, 0, 1],\n",
    "              [0, 0, 0, 0, 0],\n",
    "              [0, 0, 0, 0, 0]])\n",
    "        \n",
    "#entry of matrix: (i,j) line i collum j, means (i-1,j-1)\n",
    "sol=solve([ eq1==m[0,1],\teq2==m[0,2],\teq3==m[0,3],\teq4==m[0,4],\t\n",
    "                                            eq5==m[1,2],    eq6==m[1,3],\n",
    "                                                            eq7==m[1,4], eq8==m[2,4]],d1,d2,d3,d4,d5,a12,a13,a14,a15,a23,a24,a25,a34,a35,a45, solution_dict=True)\n",
    "\n",
    "show(m)\n",
    "show(sol)\n",
    "latex(sol)"
   ]
  },
  {
   "cell_type": "code",
   "execution_count": 37,
   "metadata": {},
   "outputs": [
    {
     "data": {
      "text/html": [
       "<html><script type=\"math/tex; mode=display\">\\newcommand{\\Bold}[1]{\\mathbf{#1}}\\left(\\begin{array}{rrrrr}\n",
       "0 & 1 & 0 & 0 & 0 \\\\\n",
       "0 & 0 & 1 & 0 & 0 \\\\\n",
       "0 & 0 & 0 & 0 & 1 \\\\\n",
       "0 & 0 & 0 & 0 & 0 \\\\\n",
       "0 & 0 & 0 & 0 & 0\n",
       "\\end{array}\\right)</script></html>"
      ],
      "text/latex": [
       "$$\\newcommand{\\Bold}[1]{\\mathbf{#1}}\\left(\\begin{array}{rrrrr}\n",
       "0 & 1 & 0 & 0 & 0 \\\\\n",
       "0 & 0 & 1 & 0 & 0 \\\\\n",
       "0 & 0 & 0 & 0 & 1 \\\\\n",
       "0 & 0 & 0 & 0 & 0 \\\\\n",
       "0 & 0 & 0 & 0 & 0\n",
       "\\end{array}\\right)$$"
      ],
      "text/plain": [
       "[0 1 0 0 0]\n",
       "[0 0 1 0 0]\n",
       "[0 0 0 0 1]\n",
       "[0 0 0 0 0]\n",
       "[0 0 0 0 0]"
      ]
     },
     "metadata": {},
     "output_type": "display_data"
    },
    {
     "data": {
      "text/html": [
       "<html><script type=\"math/tex; mode=display\">\\newcommand{\\Bold}[1]{\\mathbf{#1}}\\left[\\left\\{d_{1} : 0, d_{2} : 0, d_{3} : 0, d_{4} : r_{644}, d_{5} : 0, a_{12} : r_{645}, a_{13} : r_{646}, a_{14} : r_{647}, a_{15} : r_{648}, a_{23} : r_{649}, a_{24} : r_{650}, a_{25} : r_{651}, a_{34} : 0, a_{35} : r_{652}, a_{45} : r_{653}\\right\\}, \\left\\{d_{1} : r_{654}, d_{2} : \\frac{r_{654}}{x_{12}}, d_{3} : \\frac{r_{654}}{x_{12} x_{23}}, d_{4} : r_{655}, d_{5} : \\frac{r_{654}}{x_{12} x_{23} x_{35}}, a_{12} : r_{656}, a_{13} : r_{657}, a_{14} : r_{658}, a_{15} : r_{659}, a_{23} : \\frac{r_{656} x_{12} x_{23} - r_{654} x_{13}}{x_{12}^{2} x_{23}}, a_{24} : -\\frac{r_{655} x_{14}}{x_{12}}, a_{25} : r_{660}, a_{34} : 0, a_{35} : \\frac{r_{656} x_{12} x_{23} - r_{654} x_{13}}{x_{12}^{2} x_{23}^{2}}, a_{45} : -\\frac{r_{656} x_{12} x_{13} x_{23} - r_{654} x_{13}^{2} + {\\left(r_{660} x_{12}^{3} - r_{657} x_{12}^{2}\\right)} x_{23}^{2}}{x_{12}^{2} x_{14} x_{23}^{2}}\\right\\}\\right]</script></html>"
      ],
      "text/latex": [
       "$$\\newcommand{\\Bold}[1]{\\mathbf{#1}}\\left[\\left\\{d_{1} : 0, d_{2} : 0, d_{3} : 0, d_{4} : r_{644}, d_{5} : 0, a_{12} : r_{645}, a_{13} : r_{646}, a_{14} : r_{647}, a_{15} : r_{648}, a_{23} : r_{649}, a_{24} : r_{650}, a_{25} : r_{651}, a_{34} : 0, a_{35} : r_{652}, a_{45} : r_{653}\\right\\}, \\left\\{d_{1} : r_{654}, d_{2} : \\frac{r_{654}}{x_{12}}, d_{3} : \\frac{r_{654}}{x_{12} x_{23}}, d_{4} : r_{655}, d_{5} : \\frac{r_{654}}{x_{12} x_{23} x_{35}}, a_{12} : r_{656}, a_{13} : r_{657}, a_{14} : r_{658}, a_{15} : r_{659}, a_{23} : \\frac{r_{656} x_{12} x_{23} - r_{654} x_{13}}{x_{12}^{2} x_{23}}, a_{24} : -\\frac{r_{655} x_{14}}{x_{12}}, a_{25} : r_{660}, a_{34} : 0, a_{35} : \\frac{r_{656} x_{12} x_{23} - r_{654} x_{13}}{x_{12}^{2} x_{23}^{2}}, a_{45} : -\\frac{r_{656} x_{12} x_{13} x_{23} - r_{654} x_{13}^{2} + {\\left(r_{660} x_{12}^{3} - r_{657} x_{12}^{2}\\right)} x_{23}^{2}}{x_{12}^{2} x_{14} x_{23}^{2}}\\right\\}\\right]$$"
      ],
      "text/plain": [
       "[{d1: 0,\n",
       "  d2: 0,\n",
       "  d3: 0,\n",
       "  d4: r644,\n",
       "  d5: 0,\n",
       "  a12: r645,\n",
       "  a13: r646,\n",
       "  a14: r647,\n",
       "  a15: r648,\n",
       "  a23: r649,\n",
       "  a24: r650,\n",
       "  a25: r651,\n",
       "  a34: 0,\n",
       "  a35: r652,\n",
       "  a45: r653},\n",
       " {d1: r654,\n",
       "  d2: r654/x12,\n",
       "  d3: r654/(x12*x23),\n",
       "  d4: r655,\n",
       "  d5: r654/(x12*x23*x35),\n",
       "  a12: r656,\n",
       "  a13: r657,\n",
       "  a14: r658,\n",
       "  a15: r659,\n",
       "  a23: (r656*x12*x23 - r654*x13)/(x12^2*x23),\n",
       "  a24: -r655*x14/x12,\n",
       "  a25: r660,\n",
       "  a34: 0,\n",
       "  a35: (r656*x12*x23 - r654*x13)/(x12^2*x23^2),\n",
       "  a45: -(r656*x12*x13*x23 - r654*x13^2 + (r660*x12^3 - r657*x12^2)*x23^2)/(x12^2*x14*x23^2)}]"
      ]
     },
     "metadata": {},
     "output_type": "display_data"
    },
    {
     "data": {
      "text/plain": [
       "\\left[\\left\\{d_{1} : 0, d_{2} : 0, d_{3} : 0, d_{4} : r_{644}, d_{5} : 0, a_{12} : r_{645}, a_{13} : r_{646}, a_{14} : r_{647}, a_{15} : r_{648}, a_{23} : r_{649}, a_{24} : r_{650}, a_{25} : r_{651}, a_{34} : 0, a_{35} : r_{652}, a_{45} : r_{653}\\right\\}, \\left\\{d_{1} : r_{654}, d_{2} : \\frac{r_{654}}{x_{12}}, d_{3} : \\frac{r_{654}}{x_{12} x_{23}}, d_{4} : r_{655}, d_{5} : \\frac{r_{654}}{x_{12} x_{23} x_{35}}, a_{12} : r_{656}, a_{13} : r_{657}, a_{14} : r_{658}, a_{15} : r_{659}, a_{23} : \\frac{r_{656} x_{12} x_{23} - r_{654} x_{13}}{x_{12}^{2} x_{23}}, a_{24} : -\\frac{r_{655} x_{14}}{x_{12}}, a_{25} : r_{660}, a_{34} : 0, a_{35} : \\frac{r_{656} x_{12} x_{23} - r_{654} x_{13}}{x_{12}^{2} x_{23}^{2}}, a_{45} : -\\frac{r_{656} x_{12} x_{13} x_{23} - r_{654} x_{13}^{2} + {\\left(r_{660} x_{12}^{3} - r_{657} x_{12}^{2}\\right)} x_{23}^{2}}{x_{12}^{2} x_{14} x_{23}^{2}}\\right\\}\\right]"
      ]
     },
     "execution_count": 37,
     "metadata": {},
     "output_type": "execute_result"
    }
   ],
   "source": [
    "#x4\n",
    "reset()\n",
    "\n",
    "var('x12,x13,x14,x15,x23,x24,x25,x34,x35,x45')\n",
    "var('d1,d2,d3,d4,d5')\n",
    "var('a12,a13,a14,a15,a23,a24,a25,a34,a35,a45')\n",
    "\n",
    "load_attach_path('C:\\\\Users\\\\julia\\\\Documents\\\\unb\\\\doutorado\\\\pensar\\\\codigo_sage_v2\\\\maquina\\\\x4')\n",
    "load('out_#100110.sage')\n",
    "\n",
    "m=matrix(QQ, [[0, 1, 0, 0, 0],\n",
    "              [0, 0, 1, 0, 0],\n",
    "              [0, 0, 0, 0, 1],\n",
    "              [0, 0, 0, 0, 0],\n",
    "              [0, 0, 0, 0, 0]])\n",
    "        \n",
    "#entry of matrix: (i,j) line i collum j, means (i-1,j-1)\n",
    "sol=solve([ eq1==m[0,1],\teq2==m[0,2],\teq3==m[0,3],\teq4==m[0,4],\t\n",
    "                                            eq5==m[1,2],    eq6==m[1,3],\n",
    "                                                            eq7==m[1,4], eq8==m[2,4]],d1,d2,d3,d4,d5,a12,a13,a14,a15,a23,a24,a25,a34,a35,a45, solution_dict=True)\n",
    "\n",
    "show(m)\n",
    "show(sol)\n",
    "latex(sol)"
   ]
  },
  {
   "cell_type": "code",
   "execution_count": 38,
   "metadata": {},
   "outputs": [
    {
     "data": {
      "text/html": [
       "<html><script type=\"math/tex; mode=display\">\\newcommand{\\Bold}[1]{\\mathbf{#1}}\\left(\\begin{array}{rrrrr}\n",
       "0 & 1 & 0 & 0 & 0 \\\\\n",
       "0 & 0 & 1 & 0 & 0 \\\\\n",
       "0 & 0 & 0 & 0 & 1 \\\\\n",
       "0 & 0 & 0 & 0 & 0 \\\\\n",
       "0 & 0 & 0 & 0 & 0\n",
       "\\end{array}\\right)</script></html>"
      ],
      "text/latex": [
       "$$\\newcommand{\\Bold}[1]{\\mathbf{#1}}\\left(\\begin{array}{rrrrr}\n",
       "0 & 1 & 0 & 0 & 0 \\\\\n",
       "0 & 0 & 1 & 0 & 0 \\\\\n",
       "0 & 0 & 0 & 0 & 1 \\\\\n",
       "0 & 0 & 0 & 0 & 0 \\\\\n",
       "0 & 0 & 0 & 0 & 0\n",
       "\\end{array}\\right)$$"
      ],
      "text/plain": [
       "[0 1 0 0 0]\n",
       "[0 0 1 0 0]\n",
       "[0 0 0 0 1]\n",
       "[0 0 0 0 0]\n",
       "[0 0 0 0 0]"
      ]
     },
     "metadata": {},
     "output_type": "display_data"
    },
    {
     "data": {
      "text/html": [
       "<html><script type=\"math/tex; mode=display\">\\newcommand{\\Bold}[1]{\\mathbf{#1}}\\left[\\left\\{d_{1} : 0, d_{2} : 0, d_{3} : 0, d_{4} : r_{661}, d_{5} : 0, a_{12} : r_{662}, a_{13} : r_{663}, a_{14} : r_{664}, a_{15} : r_{665}, a_{23} : r_{666}, a_{24} : r_{667}, a_{25} : r_{668}, a_{34} : 0, a_{35} : r_{669}, a_{45} : r_{670}\\right\\}, \\left\\{d_{1} : r_{671}, d_{2} : \\frac{r_{671}}{x_{12}}, d_{3} : \\frac{r_{671}}{x_{12} x_{23}}, d_{4} : r_{672}, d_{5} : \\frac{r_{671}}{x_{12} x_{23} x_{35}}, a_{12} : r_{673}, a_{13} : r_{674}, a_{14} : r_{675}, a_{15} : r_{676}, a_{23} : \\frac{r_{673} x_{12} x_{23} - r_{671} x_{13}}{x_{12}^{2} x_{23}}, a_{24} : -\\frac{r_{672} x_{14}}{x_{12}}, a_{25} : r_{677}, a_{34} : 0, a_{35} : \\frac{r_{673} x_{12} x_{23} - r_{671} x_{13}}{x_{12}^{2} x_{23}^{2}}, a_{45} : -\\frac{r_{671} x_{12} x_{15} x_{23} + {\\left(r_{673} x_{12} x_{13} x_{23} - r_{671} x_{13}^{2} + {\\left(r_{677} x_{12}^{3} - r_{674} x_{12}^{2}\\right)} x_{23}^{2}\\right)} x_{35}}{x_{12}^{2} x_{14} x_{23}^{2} x_{35}}\\right\\}\\right]</script></html>"
      ],
      "text/latex": [
       "$$\\newcommand{\\Bold}[1]{\\mathbf{#1}}\\left[\\left\\{d_{1} : 0, d_{2} : 0, d_{3} : 0, d_{4} : r_{661}, d_{5} : 0, a_{12} : r_{662}, a_{13} : r_{663}, a_{14} : r_{664}, a_{15} : r_{665}, a_{23} : r_{666}, a_{24} : r_{667}, a_{25} : r_{668}, a_{34} : 0, a_{35} : r_{669}, a_{45} : r_{670}\\right\\}, \\left\\{d_{1} : r_{671}, d_{2} : \\frac{r_{671}}{x_{12}}, d_{3} : \\frac{r_{671}}{x_{12} x_{23}}, d_{4} : r_{672}, d_{5} : \\frac{r_{671}}{x_{12} x_{23} x_{35}}, a_{12} : r_{673}, a_{13} : r_{674}, a_{14} : r_{675}, a_{15} : r_{676}, a_{23} : \\frac{r_{673} x_{12} x_{23} - r_{671} x_{13}}{x_{12}^{2} x_{23}}, a_{24} : -\\frac{r_{672} x_{14}}{x_{12}}, a_{25} : r_{677}, a_{34} : 0, a_{35} : \\frac{r_{673} x_{12} x_{23} - r_{671} x_{13}}{x_{12}^{2} x_{23}^{2}}, a_{45} : -\\frac{r_{671} x_{12} x_{15} x_{23} + {\\left(r_{673} x_{12} x_{13} x_{23} - r_{671} x_{13}^{2} + {\\left(r_{677} x_{12}^{3} - r_{674} x_{12}^{2}\\right)} x_{23}^{2}\\right)} x_{35}}{x_{12}^{2} x_{14} x_{23}^{2} x_{35}}\\right\\}\\right]$$"
      ],
      "text/plain": [
       "[{d1: 0,\n",
       "  d2: 0,\n",
       "  d3: 0,\n",
       "  d4: r661,\n",
       "  d5: 0,\n",
       "  a12: r662,\n",
       "  a13: r663,\n",
       "  a14: r664,\n",
       "  a15: r665,\n",
       "  a23: r666,\n",
       "  a24: r667,\n",
       "  a25: r668,\n",
       "  a34: 0,\n",
       "  a35: r669,\n",
       "  a45: r670},\n",
       " {d1: r671,\n",
       "  d2: r671/x12,\n",
       "  d3: r671/(x12*x23),\n",
       "  d4: r672,\n",
       "  d5: r671/(x12*x23*x35),\n",
       "  a12: r673,\n",
       "  a13: r674,\n",
       "  a14: r675,\n",
       "  a15: r676,\n",
       "  a23: (r673*x12*x23 - r671*x13)/(x12^2*x23),\n",
       "  a24: -r672*x14/x12,\n",
       "  a25: r677,\n",
       "  a34: 0,\n",
       "  a35: (r673*x12*x23 - r671*x13)/(x12^2*x23^2),\n",
       "  a45: -(r671*x12*x15*x23 + (r673*x12*x13*x23 - r671*x13^2 + (r677*x12^3 - r674*x12^2)*x23^2)*x35)/(x12^2*x14*x23^2*x35)}]"
      ]
     },
     "metadata": {},
     "output_type": "display_data"
    },
    {
     "data": {
      "text/plain": [
       "\\left[\\left\\{d_{1} : 0, d_{2} : 0, d_{3} : 0, d_{4} : r_{661}, d_{5} : 0, a_{12} : r_{662}, a_{13} : r_{663}, a_{14} : r_{664}, a_{15} : r_{665}, a_{23} : r_{666}, a_{24} : r_{667}, a_{25} : r_{668}, a_{34} : 0, a_{35} : r_{669}, a_{45} : r_{670}\\right\\}, \\left\\{d_{1} : r_{671}, d_{2} : \\frac{r_{671}}{x_{12}}, d_{3} : \\frac{r_{671}}{x_{12} x_{23}}, d_{4} : r_{672}, d_{5} : \\frac{r_{671}}{x_{12} x_{23} x_{35}}, a_{12} : r_{673}, a_{13} : r_{674}, a_{14} : r_{675}, a_{15} : r_{676}, a_{23} : \\frac{r_{673} x_{12} x_{23} - r_{671} x_{13}}{x_{12}^{2} x_{23}}, a_{24} : -\\frac{r_{672} x_{14}}{x_{12}}, a_{25} : r_{677}, a_{34} : 0, a_{35} : \\frac{r_{673} x_{12} x_{23} - r_{671} x_{13}}{x_{12}^{2} x_{23}^{2}}, a_{45} : -\\frac{r_{671} x_{12} x_{15} x_{23} + {\\left(r_{673} x_{12} x_{13} x_{23} - r_{671} x_{13}^{2} + {\\left(r_{677} x_{12}^{3} - r_{674} x_{12}^{2}\\right)} x_{23}^{2}\\right)} x_{35}}{x_{12}^{2} x_{14} x_{23}^{2} x_{35}}\\right\\}\\right]"
      ]
     },
     "execution_count": 38,
     "metadata": {},
     "output_type": "execute_result"
    }
   ],
   "source": [
    "#x4\n",
    "reset()\n",
    "\n",
    "var('x12,x13,x14,x15,x23,x24,x25,x34,x35,x45')\n",
    "var('d1,d2,d3,d4,d5')\n",
    "var('a12,a13,a14,a15,a23,a24,a25,a34,a35,a45')\n",
    "\n",
    "load_attach_path('C:\\\\Users\\\\julia\\\\Documents\\\\unb\\\\doutorado\\\\pensar\\\\codigo_sage_v2\\\\maquina\\\\x4')\n",
    "load('out_#100111.sage')\n",
    "\n",
    "m=matrix(QQ, [[0, 1, 0, 0, 0],\n",
    "              [0, 0, 1, 0, 0],\n",
    "              [0, 0, 0, 0, 1],\n",
    "              [0, 0, 0, 0, 0],\n",
    "              [0, 0, 0, 0, 0]])\n",
    "        \n",
    "#entry of matrix: (i,j) line i collum j, means (i-1,j-1)\n",
    "sol=solve([ eq1==m[0,1],\teq2==m[0,2],\teq3==m[0,3],\teq4==m[0,4],\t\n",
    "                                            eq5==m[1,2],    eq6==m[1,3],\n",
    "                                                            eq7==m[1,4], eq8==m[2,4]],d1,d2,d3,d4,d5,a12,a13,a14,a15,a23,a24,a25,a34,a35,a45, solution_dict=True)\n",
    "\n",
    "show(m)\n",
    "show(sol)\n",
    "latex(sol)"
   ]
  },
  {
   "cell_type": "code",
   "execution_count": 39,
   "metadata": {},
   "outputs": [
    {
     "data": {
      "text/html": [
       "<html><script type=\"math/tex; mode=display\">\\newcommand{\\Bold}[1]{\\mathbf{#1}}\\left(\\begin{array}{rrrrr}\n",
       "0 & 1 & 0 & 0 & 0 \\\\\n",
       "0 & 0 & 1 & 0 & 0 \\\\\n",
       "0 & 0 & 0 & 0 & 1 \\\\\n",
       "0 & 0 & 0 & 0 & 0 \\\\\n",
       "0 & 0 & 0 & 0 & 0\n",
       "\\end{array}\\right)</script></html>"
      ],
      "text/latex": [
       "$$\\newcommand{\\Bold}[1]{\\mathbf{#1}}\\left(\\begin{array}{rrrrr}\n",
       "0 & 1 & 0 & 0 & 0 \\\\\n",
       "0 & 0 & 1 & 0 & 0 \\\\\n",
       "0 & 0 & 0 & 0 & 1 \\\\\n",
       "0 & 0 & 0 & 0 & 0 \\\\\n",
       "0 & 0 & 0 & 0 & 0\n",
       "\\end{array}\\right)$$"
      ],
      "text/plain": [
       "[0 1 0 0 0]\n",
       "[0 0 1 0 0]\n",
       "[0 0 0 0 1]\n",
       "[0 0 0 0 0]\n",
       "[0 0 0 0 0]"
      ]
     },
     "metadata": {},
     "output_type": "display_data"
    },
    {
     "data": {
      "text/html": [
       "<html><script type=\"math/tex; mode=display\">\\newcommand{\\Bold}[1]{\\mathbf{#1}}\\left[\\left\\{d_{1} : 0, d_{2} : 0, d_{3} : 0, d_{4} : r_{678}, d_{5} : 0, a_{12} : r_{679}, a_{13} : r_{680}, a_{14} : r_{681}, a_{15} : r_{682}, a_{23} : r_{683}, a_{24} : r_{684}, a_{25} : r_{685}, a_{34} : 0, a_{35} : r_{686}, a_{45} : r_{687}\\right\\}, \\left\\{d_{1} : r_{688}, d_{2} : \\frac{r_{688}}{x_{12}}, d_{3} : \\frac{r_{688}}{x_{12} x_{23}}, d_{4} : r_{689}, d_{5} : \\frac{r_{688}}{x_{12} x_{23} x_{35}}, a_{12} : r_{690}, a_{13} : r_{691}, a_{14} : r_{692}, a_{15} : r_{693}, a_{23} : \\frac{r_{690}}{x_{12}}, a_{24} : 0, a_{25} : \\frac{r_{691}}{x_{12}}, a_{34} : 0, a_{35} : \\frac{r_{690} x_{23} x_{35} - r_{688} x_{25}}{x_{12} x_{23}^{2} x_{35}}, a_{45} : r_{694}\\right\\}\\right]</script></html>"
      ],
      "text/latex": [
       "$$\\newcommand{\\Bold}[1]{\\mathbf{#1}}\\left[\\left\\{d_{1} : 0, d_{2} : 0, d_{3} : 0, d_{4} : r_{678}, d_{5} : 0, a_{12} : r_{679}, a_{13} : r_{680}, a_{14} : r_{681}, a_{15} : r_{682}, a_{23} : r_{683}, a_{24} : r_{684}, a_{25} : r_{685}, a_{34} : 0, a_{35} : r_{686}, a_{45} : r_{687}\\right\\}, \\left\\{d_{1} : r_{688}, d_{2} : \\frac{r_{688}}{x_{12}}, d_{3} : \\frac{r_{688}}{x_{12} x_{23}}, d_{4} : r_{689}, d_{5} : \\frac{r_{688}}{x_{12} x_{23} x_{35}}, a_{12} : r_{690}, a_{13} : r_{691}, a_{14} : r_{692}, a_{15} : r_{693}, a_{23} : \\frac{r_{690}}{x_{12}}, a_{24} : 0, a_{25} : \\frac{r_{691}}{x_{12}}, a_{34} : 0, a_{35} : \\frac{r_{690} x_{23} x_{35} - r_{688} x_{25}}{x_{12} x_{23}^{2} x_{35}}, a_{45} : r_{694}\\right\\}\\right]$$"
      ],
      "text/plain": [
       "[{d1: 0,\n",
       "  d2: 0,\n",
       "  d3: 0,\n",
       "  d4: r678,\n",
       "  d5: 0,\n",
       "  a12: r679,\n",
       "  a13: r680,\n",
       "  a14: r681,\n",
       "  a15: r682,\n",
       "  a23: r683,\n",
       "  a24: r684,\n",
       "  a25: r685,\n",
       "  a34: 0,\n",
       "  a35: r686,\n",
       "  a45: r687},\n",
       " {d1: r688,\n",
       "  d2: r688/x12,\n",
       "  d3: r688/(x12*x23),\n",
       "  d4: r689,\n",
       "  d5: r688/(x12*x23*x35),\n",
       "  a12: r690,\n",
       "  a13: r691,\n",
       "  a14: r692,\n",
       "  a15: r693,\n",
       "  a23: r690/x12,\n",
       "  a24: 0,\n",
       "  a25: r691/x12,\n",
       "  a34: 0,\n",
       "  a35: (r690*x23*x35 - r688*x25)/(x12*x23^2*x35),\n",
       "  a45: r694}]"
      ]
     },
     "metadata": {},
     "output_type": "display_data"
    },
    {
     "data": {
      "text/plain": [
       "\\left[\\left\\{d_{1} : 0, d_{2} : 0, d_{3} : 0, d_{4} : r_{678}, d_{5} : 0, a_{12} : r_{679}, a_{13} : r_{680}, a_{14} : r_{681}, a_{15} : r_{682}, a_{23} : r_{683}, a_{24} : r_{684}, a_{25} : r_{685}, a_{34} : 0, a_{35} : r_{686}, a_{45} : r_{687}\\right\\}, \\left\\{d_{1} : r_{688}, d_{2} : \\frac{r_{688}}{x_{12}}, d_{3} : \\frac{r_{688}}{x_{12} x_{23}}, d_{4} : r_{689}, d_{5} : \\frac{r_{688}}{x_{12} x_{23} x_{35}}, a_{12} : r_{690}, a_{13} : r_{691}, a_{14} : r_{692}, a_{15} : r_{693}, a_{23} : \\frac{r_{690}}{x_{12}}, a_{24} : 0, a_{25} : \\frac{r_{691}}{x_{12}}, a_{34} : 0, a_{35} : \\frac{r_{690} x_{23} x_{35} - r_{688} x_{25}}{x_{12} x_{23}^{2} x_{35}}, a_{45} : r_{694}\\right\\}\\right]"
      ]
     },
     "execution_count": 39,
     "metadata": {},
     "output_type": "execute_result"
    }
   ],
   "source": [
    "#x4\n",
    "reset()\n",
    "\n",
    "var('x12,x13,x14,x15,x23,x24,x25,x34,x35,x45')\n",
    "var('d1,d2,d3,d4,d5')\n",
    "var('a12,a13,a14,a15,a23,a24,a25,a34,a35,a45')\n",
    "\n",
    "load_attach_path('C:\\\\Users\\\\julia\\\\Documents\\\\unb\\\\doutorado\\\\pensar\\\\codigo_sage_v2\\\\maquina\\\\x4')\n",
    "load('out_#101000.sage')\n",
    "\n",
    "m=matrix(QQ, [[0, 1, 0, 0, 0],\n",
    "              [0, 0, 1, 0, 0],\n",
    "              [0, 0, 0, 0, 1],\n",
    "              [0, 0, 0, 0, 0],\n",
    "              [0, 0, 0, 0, 0]])\n",
    "        \n",
    "#entry of matrix: (i,j) line i collum j, means (i-1,j-1)\n",
    "sol=solve([ eq1==m[0,1],\teq2==m[0,2],\teq3==m[0,3],\teq4==m[0,4],\t\n",
    "                                            eq5==m[1,2],    eq6==m[1,3],\n",
    "                                                            eq7==m[1,4], eq8==m[2,4]],d1,d2,d3,d4,d5,a12,a13,a14,a15,a23,a24,a25,a34,a35,a45, solution_dict=True)\n",
    "\n",
    "show(m)\n",
    "show(sol)\n",
    "latex(sol)"
   ]
  },
  {
   "cell_type": "code",
   "execution_count": 40,
   "metadata": {},
   "outputs": [
    {
     "data": {
      "text/html": [
       "<html><script type=\"math/tex; mode=display\">\\newcommand{\\Bold}[1]{\\mathbf{#1}}\\left(\\begin{array}{rrrrr}\n",
       "0 & 1 & 0 & 0 & 0 \\\\\n",
       "0 & 0 & 1 & 0 & 0 \\\\\n",
       "0 & 0 & 0 & 0 & 1 \\\\\n",
       "0 & 0 & 0 & 0 & 0 \\\\\n",
       "0 & 0 & 0 & 0 & 0\n",
       "\\end{array}\\right)</script></html>"
      ],
      "text/latex": [
       "$$\\newcommand{\\Bold}[1]{\\mathbf{#1}}\\left(\\begin{array}{rrrrr}\n",
       "0 & 1 & 0 & 0 & 0 \\\\\n",
       "0 & 0 & 1 & 0 & 0 \\\\\n",
       "0 & 0 & 0 & 0 & 1 \\\\\n",
       "0 & 0 & 0 & 0 & 0 \\\\\n",
       "0 & 0 & 0 & 0 & 0\n",
       "\\end{array}\\right)$$"
      ],
      "text/plain": [
       "[0 1 0 0 0]\n",
       "[0 0 1 0 0]\n",
       "[0 0 0 0 1]\n",
       "[0 0 0 0 0]\n",
       "[0 0 0 0 0]"
      ]
     },
     "metadata": {},
     "output_type": "display_data"
    },
    {
     "data": {
      "text/html": [
       "<html><script type=\"math/tex; mode=display\">\\newcommand{\\Bold}[1]{\\mathbf{#1}}\\left[\\left\\{d_{1} : 0, d_{2} : 0, d_{3} : 0, d_{4} : r_{695}, d_{5} : 0, a_{12} : r_{696}, a_{13} : r_{697}, a_{14} : r_{698}, a_{15} : r_{699}, a_{23} : r_{700}, a_{24} : r_{701}, a_{25} : r_{702}, a_{34} : 0, a_{35} : r_{703}, a_{45} : r_{704}\\right\\}, \\left\\{d_{1} : r_{705}, d_{2} : \\frac{r_{705}}{x_{12}}, d_{3} : \\frac{r_{705}}{x_{12} x_{23}}, d_{4} : r_{706}, d_{5} : \\frac{r_{705}}{x_{12} x_{23} x_{35}}, a_{12} : r_{707}, a_{13} : r_{708}, a_{14} : r_{709}, a_{15} : r_{710}, a_{23} : \\frac{r_{707}}{x_{12}}, a_{24} : 0, a_{25} : \\frac{r_{708} x_{12} x_{23} x_{35} - r_{705} x_{15}}{x_{12}^{2} x_{23} x_{35}}, a_{34} : 0, a_{35} : \\frac{r_{707} x_{23} x_{35} - r_{705} x_{25}}{x_{12} x_{23}^{2} x_{35}}, a_{45} : r_{711}\\right\\}\\right]</script></html>"
      ],
      "text/latex": [
       "$$\\newcommand{\\Bold}[1]{\\mathbf{#1}}\\left[\\left\\{d_{1} : 0, d_{2} : 0, d_{3} : 0, d_{4} : r_{695}, d_{5} : 0, a_{12} : r_{696}, a_{13} : r_{697}, a_{14} : r_{698}, a_{15} : r_{699}, a_{23} : r_{700}, a_{24} : r_{701}, a_{25} : r_{702}, a_{34} : 0, a_{35} : r_{703}, a_{45} : r_{704}\\right\\}, \\left\\{d_{1} : r_{705}, d_{2} : \\frac{r_{705}}{x_{12}}, d_{3} : \\frac{r_{705}}{x_{12} x_{23}}, d_{4} : r_{706}, d_{5} : \\frac{r_{705}}{x_{12} x_{23} x_{35}}, a_{12} : r_{707}, a_{13} : r_{708}, a_{14} : r_{709}, a_{15} : r_{710}, a_{23} : \\frac{r_{707}}{x_{12}}, a_{24} : 0, a_{25} : \\frac{r_{708} x_{12} x_{23} x_{35} - r_{705} x_{15}}{x_{12}^{2} x_{23} x_{35}}, a_{34} : 0, a_{35} : \\frac{r_{707} x_{23} x_{35} - r_{705} x_{25}}{x_{12} x_{23}^{2} x_{35}}, a_{45} : r_{711}\\right\\}\\right]$$"
      ],
      "text/plain": [
       "[{d1: 0,\n",
       "  d2: 0,\n",
       "  d3: 0,\n",
       "  d4: r695,\n",
       "  d5: 0,\n",
       "  a12: r696,\n",
       "  a13: r697,\n",
       "  a14: r698,\n",
       "  a15: r699,\n",
       "  a23: r700,\n",
       "  a24: r701,\n",
       "  a25: r702,\n",
       "  a34: 0,\n",
       "  a35: r703,\n",
       "  a45: r704},\n",
       " {d1: r705,\n",
       "  d2: r705/x12,\n",
       "  d3: r705/(x12*x23),\n",
       "  d4: r706,\n",
       "  d5: r705/(x12*x23*x35),\n",
       "  a12: r707,\n",
       "  a13: r708,\n",
       "  a14: r709,\n",
       "  a15: r710,\n",
       "  a23: r707/x12,\n",
       "  a24: 0,\n",
       "  a25: (r708*x12*x23*x35 - r705*x15)/(x12^2*x23*x35),\n",
       "  a34: 0,\n",
       "  a35: (r707*x23*x35 - r705*x25)/(x12*x23^2*x35),\n",
       "  a45: r711}]"
      ]
     },
     "metadata": {},
     "output_type": "display_data"
    },
    {
     "data": {
      "text/plain": [
       "\\left[\\left\\{d_{1} : 0, d_{2} : 0, d_{3} : 0, d_{4} : r_{695}, d_{5} : 0, a_{12} : r_{696}, a_{13} : r_{697}, a_{14} : r_{698}, a_{15} : r_{699}, a_{23} : r_{700}, a_{24} : r_{701}, a_{25} : r_{702}, a_{34} : 0, a_{35} : r_{703}, a_{45} : r_{704}\\right\\}, \\left\\{d_{1} : r_{705}, d_{2} : \\frac{r_{705}}{x_{12}}, d_{3} : \\frac{r_{705}}{x_{12} x_{23}}, d_{4} : r_{706}, d_{5} : \\frac{r_{705}}{x_{12} x_{23} x_{35}}, a_{12} : r_{707}, a_{13} : r_{708}, a_{14} : r_{709}, a_{15} : r_{710}, a_{23} : \\frac{r_{707}}{x_{12}}, a_{24} : 0, a_{25} : \\frac{r_{708} x_{12} x_{23} x_{35} - r_{705} x_{15}}{x_{12}^{2} x_{23} x_{35}}, a_{34} : 0, a_{35} : \\frac{r_{707} x_{23} x_{35} - r_{705} x_{25}}{x_{12} x_{23}^{2} x_{35}}, a_{45} : r_{711}\\right\\}\\right]"
      ]
     },
     "execution_count": 40,
     "metadata": {},
     "output_type": "execute_result"
    }
   ],
   "source": [
    "#x4\n",
    "reset()\n",
    "\n",
    "var('x12,x13,x14,x15,x23,x24,x25,x34,x35,x45')\n",
    "var('d1,d2,d3,d4,d5')\n",
    "var('a12,a13,a14,a15,a23,a24,a25,a34,a35,a45')\n",
    "\n",
    "load_attach_path('C:\\\\Users\\\\julia\\\\Documents\\\\unb\\\\doutorado\\\\pensar\\\\codigo_sage_v2\\\\maquina\\\\x4')\n",
    "load('out_#101001.sage')\n",
    "\n",
    "m=matrix(QQ, [[0, 1, 0, 0, 0],\n",
    "              [0, 0, 1, 0, 0],\n",
    "              [0, 0, 0, 0, 1],\n",
    "              [0, 0, 0, 0, 0],\n",
    "              [0, 0, 0, 0, 0]])\n",
    "        \n",
    "#entry of matrix: (i,j) line i collum j, means (i-1,j-1)\n",
    "sol=solve([ eq1==m[0,1],\teq2==m[0,2],\teq3==m[0,3],\teq4==m[0,4],\t\n",
    "                                            eq5==m[1,2],    eq6==m[1,3],\n",
    "                                                            eq7==m[1,4], eq8==m[2,4]],d1,d2,d3,d4,d5,a12,a13,a14,a15,a23,a24,a25,a34,a35,a45, solution_dict=True)\n",
    "\n",
    "show(m)\n",
    "show(sol)\n",
    "latex(sol)"
   ]
  },
  {
   "cell_type": "code",
   "execution_count": 41,
   "metadata": {},
   "outputs": [
    {
     "data": {
      "text/html": [
       "<html><script type=\"math/tex; mode=display\">\\newcommand{\\Bold}[1]{\\mathbf{#1}}\\left(\\begin{array}{rrrrr}\n",
       "0 & 1 & 0 & 0 & 0 \\\\\n",
       "0 & 0 & 1 & 0 & 0 \\\\\n",
       "0 & 0 & 0 & 0 & 1 \\\\\n",
       "0 & 0 & 0 & 0 & 0 \\\\\n",
       "0 & 0 & 0 & 0 & 0\n",
       "\\end{array}\\right)</script></html>"
      ],
      "text/latex": [
       "$$\\newcommand{\\Bold}[1]{\\mathbf{#1}}\\left(\\begin{array}{rrrrr}\n",
       "0 & 1 & 0 & 0 & 0 \\\\\n",
       "0 & 0 & 1 & 0 & 0 \\\\\n",
       "0 & 0 & 0 & 0 & 1 \\\\\n",
       "0 & 0 & 0 & 0 & 0 \\\\\n",
       "0 & 0 & 0 & 0 & 0\n",
       "\\end{array}\\right)$$"
      ],
      "text/plain": [
       "[0 1 0 0 0]\n",
       "[0 0 1 0 0]\n",
       "[0 0 0 0 1]\n",
       "[0 0 0 0 0]\n",
       "[0 0 0 0 0]"
      ]
     },
     "metadata": {},
     "output_type": "display_data"
    },
    {
     "data": {
      "text/html": [
       "<html><script type=\"math/tex; mode=display\">\\newcommand{\\Bold}[1]{\\mathbf{#1}}\\left[\\left\\{d_{1} : 0, d_{2} : 0, d_{3} : 0, d_{4} : r_{712}, d_{5} : 0, a_{12} : r_{713}, a_{13} : r_{714}, a_{14} : r_{715}, a_{15} : r_{716}, a_{23} : r_{717}, a_{24} : r_{718}, a_{25} : r_{719}, a_{34} : 0, a_{35} : r_{720}, a_{45} : r_{721}\\right\\}, \\left\\{d_{1} : r_{722}, d_{2} : \\frac{r_{722}}{x_{12}}, d_{3} : \\frac{r_{722}}{x_{12} x_{23}}, d_{4} : r_{723}, d_{5} : \\frac{r_{722}}{x_{12} x_{23} x_{35}}, a_{12} : r_{724}, a_{13} : r_{725}, a_{14} : r_{726}, a_{15} : r_{727}, a_{23} : \\frac{r_{724}}{x_{12}}, a_{24} : -\\frac{r_{723} x_{14}}{x_{12}}, a_{25} : r_{728}, a_{34} : 0, a_{35} : \\frac{r_{724} x_{23} x_{35} - r_{722} x_{25}}{x_{12} x_{23}^{2} x_{35}}, a_{45} : -\\frac{r_{728} x_{12} - r_{725}}{x_{14}}\\right\\}\\right]</script></html>"
      ],
      "text/latex": [
       "$$\\newcommand{\\Bold}[1]{\\mathbf{#1}}\\left[\\left\\{d_{1} : 0, d_{2} : 0, d_{3} : 0, d_{4} : r_{712}, d_{5} : 0, a_{12} : r_{713}, a_{13} : r_{714}, a_{14} : r_{715}, a_{15} : r_{716}, a_{23} : r_{717}, a_{24} : r_{718}, a_{25} : r_{719}, a_{34} : 0, a_{35} : r_{720}, a_{45} : r_{721}\\right\\}, \\left\\{d_{1} : r_{722}, d_{2} : \\frac{r_{722}}{x_{12}}, d_{3} : \\frac{r_{722}}{x_{12} x_{23}}, d_{4} : r_{723}, d_{5} : \\frac{r_{722}}{x_{12} x_{23} x_{35}}, a_{12} : r_{724}, a_{13} : r_{725}, a_{14} : r_{726}, a_{15} : r_{727}, a_{23} : \\frac{r_{724}}{x_{12}}, a_{24} : -\\frac{r_{723} x_{14}}{x_{12}}, a_{25} : r_{728}, a_{34} : 0, a_{35} : \\frac{r_{724} x_{23} x_{35} - r_{722} x_{25}}{x_{12} x_{23}^{2} x_{35}}, a_{45} : -\\frac{r_{728} x_{12} - r_{725}}{x_{14}}\\right\\}\\right]$$"
      ],
      "text/plain": [
       "[{d1: 0,\n",
       "  d2: 0,\n",
       "  d3: 0,\n",
       "  d4: r712,\n",
       "  d5: 0,\n",
       "  a12: r713,\n",
       "  a13: r714,\n",
       "  a14: r715,\n",
       "  a15: r716,\n",
       "  a23: r717,\n",
       "  a24: r718,\n",
       "  a25: r719,\n",
       "  a34: 0,\n",
       "  a35: r720,\n",
       "  a45: r721},\n",
       " {d1: r722,\n",
       "  d2: r722/x12,\n",
       "  d3: r722/(x12*x23),\n",
       "  d4: r723,\n",
       "  d5: r722/(x12*x23*x35),\n",
       "  a12: r724,\n",
       "  a13: r725,\n",
       "  a14: r726,\n",
       "  a15: r727,\n",
       "  a23: r724/x12,\n",
       "  a24: -r723*x14/x12,\n",
       "  a25: r728,\n",
       "  a34: 0,\n",
       "  a35: (r724*x23*x35 - r722*x25)/(x12*x23^2*x35),\n",
       "  a45: -(r728*x12 - r725)/x14}]"
      ]
     },
     "metadata": {},
     "output_type": "display_data"
    },
    {
     "data": {
      "text/plain": [
       "\\left[\\left\\{d_{1} : 0, d_{2} : 0, d_{3} : 0, d_{4} : r_{712}, d_{5} : 0, a_{12} : r_{713}, a_{13} : r_{714}, a_{14} : r_{715}, a_{15} : r_{716}, a_{23} : r_{717}, a_{24} : r_{718}, a_{25} : r_{719}, a_{34} : 0, a_{35} : r_{720}, a_{45} : r_{721}\\right\\}, \\left\\{d_{1} : r_{722}, d_{2} : \\frac{r_{722}}{x_{12}}, d_{3} : \\frac{r_{722}}{x_{12} x_{23}}, d_{4} : r_{723}, d_{5} : \\frac{r_{722}}{x_{12} x_{23} x_{35}}, a_{12} : r_{724}, a_{13} : r_{725}, a_{14} : r_{726}, a_{15} : r_{727}, a_{23} : \\frac{r_{724}}{x_{12}}, a_{24} : -\\frac{r_{723} x_{14}}{x_{12}}, a_{25} : r_{728}, a_{34} : 0, a_{35} : \\frac{r_{724} x_{23} x_{35} - r_{722} x_{25}}{x_{12} x_{23}^{2} x_{35}}, a_{45} : -\\frac{r_{728} x_{12} - r_{725}}{x_{14}}\\right\\}\\right]"
      ]
     },
     "execution_count": 41,
     "metadata": {},
     "output_type": "execute_result"
    }
   ],
   "source": [
    "#x4\n",
    "reset()\n",
    "\n",
    "var('x12,x13,x14,x15,x23,x24,x25,x34,x35,x45')\n",
    "var('d1,d2,d3,d4,d5')\n",
    "var('a12,a13,a14,a15,a23,a24,a25,a34,a35,a45')\n",
    "\n",
    "load_attach_path('C:\\\\Users\\\\julia\\\\Documents\\\\unb\\\\doutorado\\\\pensar\\\\codigo_sage_v2\\\\maquina\\\\x4')\n",
    "load('out_#101010.sage')\n",
    "\n",
    "m=matrix(QQ, [[0, 1, 0, 0, 0],\n",
    "              [0, 0, 1, 0, 0],\n",
    "              [0, 0, 0, 0, 1],\n",
    "              [0, 0, 0, 0, 0],\n",
    "              [0, 0, 0, 0, 0]])\n",
    "        \n",
    "#entry of matrix: (i,j) line i collum j, means (i-1,j-1)\n",
    "sol=solve([ eq1==m[0,1],\teq2==m[0,2],\teq3==m[0,3],\teq4==m[0,4],\t\n",
    "                                            eq5==m[1,2],    eq6==m[1,3],\n",
    "                                                            eq7==m[1,4], eq8==m[2,4]],d1,d2,d3,d4,d5,a12,a13,a14,a15,a23,a24,a25,a34,a35,a45, solution_dict=True)\n",
    "\n",
    "show(m)\n",
    "show(sol)\n",
    "latex(sol)"
   ]
  },
  {
   "cell_type": "code",
   "execution_count": 42,
   "metadata": {},
   "outputs": [
    {
     "data": {
      "text/html": [
       "<html><script type=\"math/tex; mode=display\">\\newcommand{\\Bold}[1]{\\mathbf{#1}}\\left(\\begin{array}{rrrrr}\n",
       "0 & 1 & 0 & 0 & 0 \\\\\n",
       "0 & 0 & 1 & 0 & 0 \\\\\n",
       "0 & 0 & 0 & 0 & 1 \\\\\n",
       "0 & 0 & 0 & 0 & 0 \\\\\n",
       "0 & 0 & 0 & 0 & 0\n",
       "\\end{array}\\right)</script></html>"
      ],
      "text/latex": [
       "$$\\newcommand{\\Bold}[1]{\\mathbf{#1}}\\left(\\begin{array}{rrrrr}\n",
       "0 & 1 & 0 & 0 & 0 \\\\\n",
       "0 & 0 & 1 & 0 & 0 \\\\\n",
       "0 & 0 & 0 & 0 & 1 \\\\\n",
       "0 & 0 & 0 & 0 & 0 \\\\\n",
       "0 & 0 & 0 & 0 & 0\n",
       "\\end{array}\\right)$$"
      ],
      "text/plain": [
       "[0 1 0 0 0]\n",
       "[0 0 1 0 0]\n",
       "[0 0 0 0 1]\n",
       "[0 0 0 0 0]\n",
       "[0 0 0 0 0]"
      ]
     },
     "metadata": {},
     "output_type": "display_data"
    },
    {
     "data": {
      "text/html": [
       "<html><script type=\"math/tex; mode=display\">\\newcommand{\\Bold}[1]{\\mathbf{#1}}\\left[\\left\\{d_{1} : 0, d_{2} : 0, d_{3} : 0, d_{4} : r_{729}, d_{5} : 0, a_{12} : r_{730}, a_{13} : r_{731}, a_{14} : r_{732}, a_{15} : r_{733}, a_{23} : r_{734}, a_{24} : r_{735}, a_{25} : r_{736}, a_{34} : 0, a_{35} : r_{737}, a_{45} : r_{738}\\right\\}, \\left\\{d_{1} : r_{739}, d_{2} : \\frac{r_{739}}{x_{12}}, d_{3} : \\frac{r_{739}}{x_{12} x_{23}}, d_{4} : r_{740}, d_{5} : \\frac{r_{739}}{x_{12} x_{23} x_{35}}, a_{12} : r_{741}, a_{13} : r_{742}, a_{14} : r_{743}, a_{15} : r_{744}, a_{23} : \\frac{r_{741}}{x_{12}}, a_{24} : -\\frac{r_{740} x_{14}}{x_{12}}, a_{25} : r_{745}, a_{34} : 0, a_{35} : \\frac{r_{741} x_{23} x_{35} - r_{739} x_{25}}{x_{12} x_{23}^{2} x_{35}}, a_{45} : -\\frac{{\\left(r_{745} x_{12}^{2} - r_{742} x_{12}\\right)} x_{23} x_{35} + r_{739} x_{15}}{x_{12} x_{14} x_{23} x_{35}}\\right\\}\\right]</script></html>"
      ],
      "text/latex": [
       "$$\\newcommand{\\Bold}[1]{\\mathbf{#1}}\\left[\\left\\{d_{1} : 0, d_{2} : 0, d_{3} : 0, d_{4} : r_{729}, d_{5} : 0, a_{12} : r_{730}, a_{13} : r_{731}, a_{14} : r_{732}, a_{15} : r_{733}, a_{23} : r_{734}, a_{24} : r_{735}, a_{25} : r_{736}, a_{34} : 0, a_{35} : r_{737}, a_{45} : r_{738}\\right\\}, \\left\\{d_{1} : r_{739}, d_{2} : \\frac{r_{739}}{x_{12}}, d_{3} : \\frac{r_{739}}{x_{12} x_{23}}, d_{4} : r_{740}, d_{5} : \\frac{r_{739}}{x_{12} x_{23} x_{35}}, a_{12} : r_{741}, a_{13} : r_{742}, a_{14} : r_{743}, a_{15} : r_{744}, a_{23} : \\frac{r_{741}}{x_{12}}, a_{24} : -\\frac{r_{740} x_{14}}{x_{12}}, a_{25} : r_{745}, a_{34} : 0, a_{35} : \\frac{r_{741} x_{23} x_{35} - r_{739} x_{25}}{x_{12} x_{23}^{2} x_{35}}, a_{45} : -\\frac{{\\left(r_{745} x_{12}^{2} - r_{742} x_{12}\\right)} x_{23} x_{35} + r_{739} x_{15}}{x_{12} x_{14} x_{23} x_{35}}\\right\\}\\right]$$"
      ],
      "text/plain": [
       "[{d1: 0,\n",
       "  d2: 0,\n",
       "  d3: 0,\n",
       "  d4: r729,\n",
       "  d5: 0,\n",
       "  a12: r730,\n",
       "  a13: r731,\n",
       "  a14: r732,\n",
       "  a15: r733,\n",
       "  a23: r734,\n",
       "  a24: r735,\n",
       "  a25: r736,\n",
       "  a34: 0,\n",
       "  a35: r737,\n",
       "  a45: r738},\n",
       " {d1: r739,\n",
       "  d2: r739/x12,\n",
       "  d3: r739/(x12*x23),\n",
       "  d4: r740,\n",
       "  d5: r739/(x12*x23*x35),\n",
       "  a12: r741,\n",
       "  a13: r742,\n",
       "  a14: r743,\n",
       "  a15: r744,\n",
       "  a23: r741/x12,\n",
       "  a24: -r740*x14/x12,\n",
       "  a25: r745,\n",
       "  a34: 0,\n",
       "  a35: (r741*x23*x35 - r739*x25)/(x12*x23^2*x35),\n",
       "  a45: -((r745*x12^2 - r742*x12)*x23*x35 + r739*x15)/(x12*x14*x23*x35)}]"
      ]
     },
     "metadata": {},
     "output_type": "display_data"
    },
    {
     "data": {
      "text/plain": [
       "\\left[\\left\\{d_{1} : 0, d_{2} : 0, d_{3} : 0, d_{4} : r_{729}, d_{5} : 0, a_{12} : r_{730}, a_{13} : r_{731}, a_{14} : r_{732}, a_{15} : r_{733}, a_{23} : r_{734}, a_{24} : r_{735}, a_{25} : r_{736}, a_{34} : 0, a_{35} : r_{737}, a_{45} : r_{738}\\right\\}, \\left\\{d_{1} : r_{739}, d_{2} : \\frac{r_{739}}{x_{12}}, d_{3} : \\frac{r_{739}}{x_{12} x_{23}}, d_{4} : r_{740}, d_{5} : \\frac{r_{739}}{x_{12} x_{23} x_{35}}, a_{12} : r_{741}, a_{13} : r_{742}, a_{14} : r_{743}, a_{15} : r_{744}, a_{23} : \\frac{r_{741}}{x_{12}}, a_{24} : -\\frac{r_{740} x_{14}}{x_{12}}, a_{25} : r_{745}, a_{34} : 0, a_{35} : \\frac{r_{741} x_{23} x_{35} - r_{739} x_{25}}{x_{12} x_{23}^{2} x_{35}}, a_{45} : -\\frac{{\\left(r_{745} x_{12}^{2} - r_{742} x_{12}\\right)} x_{23} x_{35} + r_{739} x_{15}}{x_{12} x_{14} x_{23} x_{35}}\\right\\}\\right]"
      ]
     },
     "execution_count": 42,
     "metadata": {},
     "output_type": "execute_result"
    }
   ],
   "source": [
    "#x4\n",
    "reset()\n",
    "\n",
    "var('x12,x13,x14,x15,x23,x24,x25,x34,x35,x45')\n",
    "var('d1,d2,d3,d4,d5')\n",
    "var('a12,a13,a14,a15,a23,a24,a25,a34,a35,a45')\n",
    "\n",
    "load_attach_path('C:\\\\Users\\\\julia\\\\Documents\\\\unb\\\\doutorado\\\\pensar\\\\codigo_sage_v2\\\\maquina\\\\x4')\n",
    "load('out_#101011.sage')\n",
    "\n",
    "m=matrix(QQ, [[0, 1, 0, 0, 0],\n",
    "              [0, 0, 1, 0, 0],\n",
    "              [0, 0, 0, 0, 1],\n",
    "              [0, 0, 0, 0, 0],\n",
    "              [0, 0, 0, 0, 0]])\n",
    "        \n",
    "#entry of matrix: (i,j) line i collum j, means (i-1,j-1)\n",
    "sol=solve([ eq1==m[0,1],\teq2==m[0,2],\teq3==m[0,3],\teq4==m[0,4],\t\n",
    "                                            eq5==m[1,2],    eq6==m[1,3],\n",
    "                                                            eq7==m[1,4], eq8==m[2,4]],d1,d2,d3,d4,d5,a12,a13,a14,a15,a23,a24,a25,a34,a35,a45, solution_dict=True)\n",
    "\n",
    "show(m)\n",
    "show(sol)\n",
    "latex(sol)"
   ]
  },
  {
   "cell_type": "code",
   "execution_count": 43,
   "metadata": {},
   "outputs": [
    {
     "data": {
      "text/html": [
       "<html><script type=\"math/tex; mode=display\">\\newcommand{\\Bold}[1]{\\mathbf{#1}}\\left(\\begin{array}{rrrrr}\n",
       "0 & 1 & 0 & 0 & 0 \\\\\n",
       "0 & 0 & 1 & 0 & 0 \\\\\n",
       "0 & 0 & 0 & 0 & 1 \\\\\n",
       "0 & 0 & 0 & 0 & 0 \\\\\n",
       "0 & 0 & 0 & 0 & 0\n",
       "\\end{array}\\right)</script></html>"
      ],
      "text/latex": [
       "$$\\newcommand{\\Bold}[1]{\\mathbf{#1}}\\left(\\begin{array}{rrrrr}\n",
       "0 & 1 & 0 & 0 & 0 \\\\\n",
       "0 & 0 & 1 & 0 & 0 \\\\\n",
       "0 & 0 & 0 & 0 & 1 \\\\\n",
       "0 & 0 & 0 & 0 & 0 \\\\\n",
       "0 & 0 & 0 & 0 & 0\n",
       "\\end{array}\\right)$$"
      ],
      "text/plain": [
       "[0 1 0 0 0]\n",
       "[0 0 1 0 0]\n",
       "[0 0 0 0 1]\n",
       "[0 0 0 0 0]\n",
       "[0 0 0 0 0]"
      ]
     },
     "metadata": {},
     "output_type": "display_data"
    },
    {
     "data": {
      "text/html": [
       "<html><script type=\"math/tex; mode=display\">\\newcommand{\\Bold}[1]{\\mathbf{#1}}\\left[\\left\\{d_{1} : 0, d_{2} : 0, d_{3} : 0, d_{4} : r_{746}, d_{5} : 0, a_{12} : r_{747}, a_{13} : r_{748}, a_{14} : r_{749}, a_{15} : r_{750}, a_{23} : r_{751}, a_{24} : r_{752}, a_{25} : r_{753}, a_{34} : 0, a_{35} : r_{754}, a_{45} : r_{755}\\right\\}, \\left\\{d_{1} : r_{756}, d_{2} : \\frac{r_{756}}{x_{12}}, d_{3} : \\frac{r_{756}}{x_{12} x_{23}}, d_{4} : r_{757}, d_{5} : \\frac{r_{756}}{x_{12} x_{23} x_{35}}, a_{12} : r_{758}, a_{13} : r_{759}, a_{14} : r_{760}, a_{15} : r_{761}, a_{23} : \\frac{r_{758} x_{12} x_{23} - r_{756} x_{13}}{x_{12}^{2} x_{23}}, a_{24} : 0, a_{25} : \\frac{r_{756} x_{12} x_{13} x_{25} + {\\left(r_{759} x_{12}^{2} x_{23}^{2} - r_{758} x_{12} x_{13} x_{23} + r_{756} x_{13}^{2}\\right)} x_{35}}{x_{12}^{3} x_{23}^{2} x_{35}}, a_{34} : 0, a_{35} : -\\frac{r_{756} x_{12} x_{25} - {\\left(r_{758} x_{12} x_{23} - r_{756} x_{13}\\right)} x_{35}}{x_{12}^{2} x_{23}^{2} x_{35}}, a_{45} : r_{762}\\right\\}\\right]</script></html>"
      ],
      "text/latex": [
       "$$\\newcommand{\\Bold}[1]{\\mathbf{#1}}\\left[\\left\\{d_{1} : 0, d_{2} : 0, d_{3} : 0, d_{4} : r_{746}, d_{5} : 0, a_{12} : r_{747}, a_{13} : r_{748}, a_{14} : r_{749}, a_{15} : r_{750}, a_{23} : r_{751}, a_{24} : r_{752}, a_{25} : r_{753}, a_{34} : 0, a_{35} : r_{754}, a_{45} : r_{755}\\right\\}, \\left\\{d_{1} : r_{756}, d_{2} : \\frac{r_{756}}{x_{12}}, d_{3} : \\frac{r_{756}}{x_{12} x_{23}}, d_{4} : r_{757}, d_{5} : \\frac{r_{756}}{x_{12} x_{23} x_{35}}, a_{12} : r_{758}, a_{13} : r_{759}, a_{14} : r_{760}, a_{15} : r_{761}, a_{23} : \\frac{r_{758} x_{12} x_{23} - r_{756} x_{13}}{x_{12}^{2} x_{23}}, a_{24} : 0, a_{25} : \\frac{r_{756} x_{12} x_{13} x_{25} + {\\left(r_{759} x_{12}^{2} x_{23}^{2} - r_{758} x_{12} x_{13} x_{23} + r_{756} x_{13}^{2}\\right)} x_{35}}{x_{12}^{3} x_{23}^{2} x_{35}}, a_{34} : 0, a_{35} : -\\frac{r_{756} x_{12} x_{25} - {\\left(r_{758} x_{12} x_{23} - r_{756} x_{13}\\right)} x_{35}}{x_{12}^{2} x_{23}^{2} x_{35}}, a_{45} : r_{762}\\right\\}\\right]$$"
      ],
      "text/plain": [
       "[{d1: 0,\n",
       "  d2: 0,\n",
       "  d3: 0,\n",
       "  d4: r746,\n",
       "  d5: 0,\n",
       "  a12: r747,\n",
       "  a13: r748,\n",
       "  a14: r749,\n",
       "  a15: r750,\n",
       "  a23: r751,\n",
       "  a24: r752,\n",
       "  a25: r753,\n",
       "  a34: 0,\n",
       "  a35: r754,\n",
       "  a45: r755},\n",
       " {d1: r756,\n",
       "  d2: r756/x12,\n",
       "  d3: r756/(x12*x23),\n",
       "  d4: r757,\n",
       "  d5: r756/(x12*x23*x35),\n",
       "  a12: r758,\n",
       "  a13: r759,\n",
       "  a14: r760,\n",
       "  a15: r761,\n",
       "  a23: (r758*x12*x23 - r756*x13)/(x12^2*x23),\n",
       "  a24: 0,\n",
       "  a25: (r756*x12*x13*x25 + (r759*x12^2*x23^2 - r758*x12*x13*x23 + r756*x13^2)*x35)/(x12^3*x23^2*x35),\n",
       "  a34: 0,\n",
       "  a35: -(r756*x12*x25 - (r758*x12*x23 - r756*x13)*x35)/(x12^2*x23^2*x35),\n",
       "  a45: r762}]"
      ]
     },
     "metadata": {},
     "output_type": "display_data"
    },
    {
     "data": {
      "text/plain": [
       "\\left[\\left\\{d_{1} : 0, d_{2} : 0, d_{3} : 0, d_{4} : r_{746}, d_{5} : 0, a_{12} : r_{747}, a_{13} : r_{748}, a_{14} : r_{749}, a_{15} : r_{750}, a_{23} : r_{751}, a_{24} : r_{752}, a_{25} : r_{753}, a_{34} : 0, a_{35} : r_{754}, a_{45} : r_{755}\\right\\}, \\left\\{d_{1} : r_{756}, d_{2} : \\frac{r_{756}}{x_{12}}, d_{3} : \\frac{r_{756}}{x_{12} x_{23}}, d_{4} : r_{757}, d_{5} : \\frac{r_{756}}{x_{12} x_{23} x_{35}}, a_{12} : r_{758}, a_{13} : r_{759}, a_{14} : r_{760}, a_{15} : r_{761}, a_{23} : \\frac{r_{758} x_{12} x_{23} - r_{756} x_{13}}{x_{12}^{2} x_{23}}, a_{24} : 0, a_{25} : \\frac{r_{756} x_{12} x_{13} x_{25} + {\\left(r_{759} x_{12}^{2} x_{23}^{2} - r_{758} x_{12} x_{13} x_{23} + r_{756} x_{13}^{2}\\right)} x_{35}}{x_{12}^{3} x_{23}^{2} x_{35}}, a_{34} : 0, a_{35} : -\\frac{r_{756} x_{12} x_{25} - {\\left(r_{758} x_{12} x_{23} - r_{756} x_{13}\\right)} x_{35}}{x_{12}^{2} x_{23}^{2} x_{35}}, a_{45} : r_{762}\\right\\}\\right]"
      ]
     },
     "execution_count": 43,
     "metadata": {},
     "output_type": "execute_result"
    }
   ],
   "source": [
    "#x4\n",
    "reset()\n",
    "\n",
    "var('x12,x13,x14,x15,x23,x24,x25,x34,x35,x45')\n",
    "var('d1,d2,d3,d4,d5')\n",
    "var('a12,a13,a14,a15,a23,a24,a25,a34,a35,a45')\n",
    "\n",
    "load_attach_path('C:\\\\Users\\\\julia\\\\Documents\\\\unb\\\\doutorado\\\\pensar\\\\codigo_sage_v2\\\\maquina\\\\x4')\n",
    "load('out_#101100.sage')\n",
    "\n",
    "m=matrix(QQ, [[0, 1, 0, 0, 0],\n",
    "              [0, 0, 1, 0, 0],\n",
    "              [0, 0, 0, 0, 1],\n",
    "              [0, 0, 0, 0, 0],\n",
    "              [0, 0, 0, 0, 0]])\n",
    "        \n",
    "#entry of matrix: (i,j) line i collum j, means (i-1,j-1)\n",
    "sol=solve([ eq1==m[0,1],\teq2==m[0,2],\teq3==m[0,3],\teq4==m[0,4],\t\n",
    "                                            eq5==m[1,2],    eq6==m[1,3],\n",
    "                                                            eq7==m[1,4], eq8==m[2,4]],d1,d2,d3,d4,d5,a12,a13,a14,a15,a23,a24,a25,a34,a35,a45, solution_dict=True)\n",
    "\n",
    "show(m)\n",
    "show(sol)\n",
    "latex(sol)"
   ]
  },
  {
   "cell_type": "code",
   "execution_count": 44,
   "metadata": {},
   "outputs": [
    {
     "data": {
      "text/html": [
       "<html><script type=\"math/tex; mode=display\">\\newcommand{\\Bold}[1]{\\mathbf{#1}}\\left(\\begin{array}{rrrrr}\n",
       "0 & 1 & 0 & 0 & 0 \\\\\n",
       "0 & 0 & 1 & 0 & 0 \\\\\n",
       "0 & 0 & 0 & 0 & 1 \\\\\n",
       "0 & 0 & 0 & 0 & 0 \\\\\n",
       "0 & 0 & 0 & 0 & 0\n",
       "\\end{array}\\right)</script></html>"
      ],
      "text/latex": [
       "$$\\newcommand{\\Bold}[1]{\\mathbf{#1}}\\left(\\begin{array}{rrrrr}\n",
       "0 & 1 & 0 & 0 & 0 \\\\\n",
       "0 & 0 & 1 & 0 & 0 \\\\\n",
       "0 & 0 & 0 & 0 & 1 \\\\\n",
       "0 & 0 & 0 & 0 & 0 \\\\\n",
       "0 & 0 & 0 & 0 & 0\n",
       "\\end{array}\\right)$$"
      ],
      "text/plain": [
       "[0 1 0 0 0]\n",
       "[0 0 1 0 0]\n",
       "[0 0 0 0 1]\n",
       "[0 0 0 0 0]\n",
       "[0 0 0 0 0]"
      ]
     },
     "metadata": {},
     "output_type": "display_data"
    },
    {
     "data": {
      "text/html": [
       "<html><script type=\"math/tex; mode=display\">\\newcommand{\\Bold}[1]{\\mathbf{#1}}\\left[\\left\\{d_{1} : 0, d_{2} : 0, d_{3} : 0, d_{4} : r_{763}, d_{5} : 0, a_{12} : r_{764}, a_{13} : r_{765}, a_{14} : r_{766}, a_{15} : r_{767}, a_{23} : r_{768}, a_{24} : r_{769}, a_{25} : r_{770}, a_{34} : 0, a_{35} : r_{771}, a_{45} : r_{772}\\right\\}, \\left\\{d_{1} : r_{773}, d_{2} : \\frac{r_{773}}{x_{12}}, d_{3} : \\frac{r_{773}}{x_{12} x_{23}}, d_{4} : r_{774}, d_{5} : \\frac{r_{773}}{x_{12} x_{23} x_{35}}, a_{12} : r_{775}, a_{13} : r_{776}, a_{14} : r_{777}, a_{15} : r_{778}, a_{23} : \\frac{r_{775} x_{12} x_{23} - r_{773} x_{13}}{x_{12}^{2} x_{23}}, a_{24} : 0, a_{25} : -\\frac{r_{773} x_{12} x_{15} x_{23} - r_{773} x_{12} x_{13} x_{25} - {\\left(r_{776} x_{12}^{2} x_{23}^{2} - r_{775} x_{12} x_{13} x_{23} + r_{773} x_{13}^{2}\\right)} x_{35}}{x_{12}^{3} x_{23}^{2} x_{35}}, a_{34} : 0, a_{35} : -\\frac{r_{773} x_{12} x_{25} - {\\left(r_{775} x_{12} x_{23} - r_{773} x_{13}\\right)} x_{35}}{x_{12}^{2} x_{23}^{2} x_{35}}, a_{45} : r_{779}\\right\\}\\right]</script></html>"
      ],
      "text/latex": [
       "$$\\newcommand{\\Bold}[1]{\\mathbf{#1}}\\left[\\left\\{d_{1} : 0, d_{2} : 0, d_{3} : 0, d_{4} : r_{763}, d_{5} : 0, a_{12} : r_{764}, a_{13} : r_{765}, a_{14} : r_{766}, a_{15} : r_{767}, a_{23} : r_{768}, a_{24} : r_{769}, a_{25} : r_{770}, a_{34} : 0, a_{35} : r_{771}, a_{45} : r_{772}\\right\\}, \\left\\{d_{1} : r_{773}, d_{2} : \\frac{r_{773}}{x_{12}}, d_{3} : \\frac{r_{773}}{x_{12} x_{23}}, d_{4} : r_{774}, d_{5} : \\frac{r_{773}}{x_{12} x_{23} x_{35}}, a_{12} : r_{775}, a_{13} : r_{776}, a_{14} : r_{777}, a_{15} : r_{778}, a_{23} : \\frac{r_{775} x_{12} x_{23} - r_{773} x_{13}}{x_{12}^{2} x_{23}}, a_{24} : 0, a_{25} : -\\frac{r_{773} x_{12} x_{15} x_{23} - r_{773} x_{12} x_{13} x_{25} - {\\left(r_{776} x_{12}^{2} x_{23}^{2} - r_{775} x_{12} x_{13} x_{23} + r_{773} x_{13}^{2}\\right)} x_{35}}{x_{12}^{3} x_{23}^{2} x_{35}}, a_{34} : 0, a_{35} : -\\frac{r_{773} x_{12} x_{25} - {\\left(r_{775} x_{12} x_{23} - r_{773} x_{13}\\right)} x_{35}}{x_{12}^{2} x_{23}^{2} x_{35}}, a_{45} : r_{779}\\right\\}\\right]$$"
      ],
      "text/plain": [
       "[{d1: 0,\n",
       "  d2: 0,\n",
       "  d3: 0,\n",
       "  d4: r763,\n",
       "  d5: 0,\n",
       "  a12: r764,\n",
       "  a13: r765,\n",
       "  a14: r766,\n",
       "  a15: r767,\n",
       "  a23: r768,\n",
       "  a24: r769,\n",
       "  a25: r770,\n",
       "  a34: 0,\n",
       "  a35: r771,\n",
       "  a45: r772},\n",
       " {d1: r773,\n",
       "  d2: r773/x12,\n",
       "  d3: r773/(x12*x23),\n",
       "  d4: r774,\n",
       "  d5: r773/(x12*x23*x35),\n",
       "  a12: r775,\n",
       "  a13: r776,\n",
       "  a14: r777,\n",
       "  a15: r778,\n",
       "  a23: (r775*x12*x23 - r773*x13)/(x12^2*x23),\n",
       "  a24: 0,\n",
       "  a25: -(r773*x12*x15*x23 - r773*x12*x13*x25 - (r776*x12^2*x23^2 - r775*x12*x13*x23 + r773*x13^2)*x35)/(x12^3*x23^2*x35),\n",
       "  a34: 0,\n",
       "  a35: -(r773*x12*x25 - (r775*x12*x23 - r773*x13)*x35)/(x12^2*x23^2*x35),\n",
       "  a45: r779}]"
      ]
     },
     "metadata": {},
     "output_type": "display_data"
    },
    {
     "data": {
      "text/plain": [
       "\\left[\\left\\{d_{1} : 0, d_{2} : 0, d_{3} : 0, d_{4} : r_{763}, d_{5} : 0, a_{12} : r_{764}, a_{13} : r_{765}, a_{14} : r_{766}, a_{15} : r_{767}, a_{23} : r_{768}, a_{24} : r_{769}, a_{25} : r_{770}, a_{34} : 0, a_{35} : r_{771}, a_{45} : r_{772}\\right\\}, \\left\\{d_{1} : r_{773}, d_{2} : \\frac{r_{773}}{x_{12}}, d_{3} : \\frac{r_{773}}{x_{12} x_{23}}, d_{4} : r_{774}, d_{5} : \\frac{r_{773}}{x_{12} x_{23} x_{35}}, a_{12} : r_{775}, a_{13} : r_{776}, a_{14} : r_{777}, a_{15} : r_{778}, a_{23} : \\frac{r_{775} x_{12} x_{23} - r_{773} x_{13}}{x_{12}^{2} x_{23}}, a_{24} : 0, a_{25} : -\\frac{r_{773} x_{12} x_{15} x_{23} - r_{773} x_{12} x_{13} x_{25} - {\\left(r_{776} x_{12}^{2} x_{23}^{2} - r_{775} x_{12} x_{13} x_{23} + r_{773} x_{13}^{2}\\right)} x_{35}}{x_{12}^{3} x_{23}^{2} x_{35}}, a_{34} : 0, a_{35} : -\\frac{r_{773} x_{12} x_{25} - {\\left(r_{775} x_{12} x_{23} - r_{773} x_{13}\\right)} x_{35}}{x_{12}^{2} x_{23}^{2} x_{35}}, a_{45} : r_{779}\\right\\}\\right]"
      ]
     },
     "execution_count": 44,
     "metadata": {},
     "output_type": "execute_result"
    }
   ],
   "source": [
    "#x4\n",
    "reset()\n",
    "\n",
    "var('x12,x13,x14,x15,x23,x24,x25,x34,x35,x45')\n",
    "var('d1,d2,d3,d4,d5')\n",
    "var('a12,a13,a14,a15,a23,a24,a25,a34,a35,a45')\n",
    "\n",
    "load_attach_path('C:\\\\Users\\\\julia\\\\Documents\\\\unb\\\\doutorado\\\\pensar\\\\codigo_sage_v2\\\\maquina\\\\x4')\n",
    "load('out_#101101.sage')\n",
    "\n",
    "m=matrix(QQ, [[0, 1, 0, 0, 0],\n",
    "              [0, 0, 1, 0, 0],\n",
    "              [0, 0, 0, 0, 1],\n",
    "              [0, 0, 0, 0, 0],\n",
    "              [0, 0, 0, 0, 0]])\n",
    "        \n",
    "#entry of matrix: (i,j) line i collum j, means (i-1,j-1)\n",
    "sol=solve([ eq1==m[0,1],\teq2==m[0,2],\teq3==m[0,3],\teq4==m[0,4],\t\n",
    "                                            eq5==m[1,2],    eq6==m[1,3],\n",
    "                                                            eq7==m[1,4], eq8==m[2,4]],d1,d2,d3,d4,d5,a12,a13,a14,a15,a23,a24,a25,a34,a35,a45, solution_dict=True)\n",
    "\n",
    "show(m)\n",
    "show(sol)\n",
    "latex(sol)"
   ]
  },
  {
   "cell_type": "code",
   "execution_count": 45,
   "metadata": {},
   "outputs": [
    {
     "data": {
      "text/html": [
       "<html><script type=\"math/tex; mode=display\">\\newcommand{\\Bold}[1]{\\mathbf{#1}}\\left(\\begin{array}{rrrrr}\n",
       "0 & 1 & 0 & 0 & 0 \\\\\n",
       "0 & 0 & 1 & 0 & 0 \\\\\n",
       "0 & 0 & 0 & 0 & 1 \\\\\n",
       "0 & 0 & 0 & 0 & 0 \\\\\n",
       "0 & 0 & 0 & 0 & 0\n",
       "\\end{array}\\right)</script></html>"
      ],
      "text/latex": [
       "$$\\newcommand{\\Bold}[1]{\\mathbf{#1}}\\left(\\begin{array}{rrrrr}\n",
       "0 & 1 & 0 & 0 & 0 \\\\\n",
       "0 & 0 & 1 & 0 & 0 \\\\\n",
       "0 & 0 & 0 & 0 & 1 \\\\\n",
       "0 & 0 & 0 & 0 & 0 \\\\\n",
       "0 & 0 & 0 & 0 & 0\n",
       "\\end{array}\\right)$$"
      ],
      "text/plain": [
       "[0 1 0 0 0]\n",
       "[0 0 1 0 0]\n",
       "[0 0 0 0 1]\n",
       "[0 0 0 0 0]\n",
       "[0 0 0 0 0]"
      ]
     },
     "metadata": {},
     "output_type": "display_data"
    },
    {
     "data": {
      "text/html": [
       "<html><script type=\"math/tex; mode=display\">\\newcommand{\\Bold}[1]{\\mathbf{#1}}\\left[\\left\\{d_{1} : 0, d_{2} : 0, d_{3} : 0, d_{4} : r_{780}, d_{5} : 0, a_{12} : r_{781}, a_{13} : r_{782}, a_{14} : r_{783}, a_{15} : r_{784}, a_{23} : r_{785}, a_{24} : r_{786}, a_{25} : r_{787}, a_{34} : 0, a_{35} : r_{788}, a_{45} : r_{789}\\right\\}, \\left\\{d_{1} : r_{790}, d_{2} : \\frac{r_{790}}{x_{12}}, d_{3} : \\frac{r_{790}}{x_{12} x_{23}}, d_{4} : r_{791}, d_{5} : \\frac{r_{790}}{x_{12} x_{23} x_{35}}, a_{12} : r_{792}, a_{13} : r_{793}, a_{14} : r_{794}, a_{15} : r_{795}, a_{23} : \\frac{r_{792} x_{12} x_{23} - r_{790} x_{13}}{x_{12}^{2} x_{23}}, a_{24} : -\\frac{r_{791} x_{14}}{x_{12}}, a_{25} : r_{796}, a_{34} : 0, a_{35} : -\\frac{r_{790} x_{12} x_{25} - {\\left(r_{792} x_{12} x_{23} - r_{790} x_{13}\\right)} x_{35}}{x_{12}^{2} x_{23}^{2} x_{35}}, a_{45} : \\frac{r_{790} x_{12} x_{13} x_{25} - {\\left(r_{792} x_{12} x_{13} x_{23} - r_{790} x_{13}^{2} + {\\left(r_{796} x_{12}^{3} - r_{793} x_{12}^{2}\\right)} x_{23}^{2}\\right)} x_{35}}{x_{12}^{2} x_{14} x_{23}^{2} x_{35}}\\right\\}\\right]</script></html>"
      ],
      "text/latex": [
       "$$\\newcommand{\\Bold}[1]{\\mathbf{#1}}\\left[\\left\\{d_{1} : 0, d_{2} : 0, d_{3} : 0, d_{4} : r_{780}, d_{5} : 0, a_{12} : r_{781}, a_{13} : r_{782}, a_{14} : r_{783}, a_{15} : r_{784}, a_{23} : r_{785}, a_{24} : r_{786}, a_{25} : r_{787}, a_{34} : 0, a_{35} : r_{788}, a_{45} : r_{789}\\right\\}, \\left\\{d_{1} : r_{790}, d_{2} : \\frac{r_{790}}{x_{12}}, d_{3} : \\frac{r_{790}}{x_{12} x_{23}}, d_{4} : r_{791}, d_{5} : \\frac{r_{790}}{x_{12} x_{23} x_{35}}, a_{12} : r_{792}, a_{13} : r_{793}, a_{14} : r_{794}, a_{15} : r_{795}, a_{23} : \\frac{r_{792} x_{12} x_{23} - r_{790} x_{13}}{x_{12}^{2} x_{23}}, a_{24} : -\\frac{r_{791} x_{14}}{x_{12}}, a_{25} : r_{796}, a_{34} : 0, a_{35} : -\\frac{r_{790} x_{12} x_{25} - {\\left(r_{792} x_{12} x_{23} - r_{790} x_{13}\\right)} x_{35}}{x_{12}^{2} x_{23}^{2} x_{35}}, a_{45} : \\frac{r_{790} x_{12} x_{13} x_{25} - {\\left(r_{792} x_{12} x_{13} x_{23} - r_{790} x_{13}^{2} + {\\left(r_{796} x_{12}^{3} - r_{793} x_{12}^{2}\\right)} x_{23}^{2}\\right)} x_{35}}{x_{12}^{2} x_{14} x_{23}^{2} x_{35}}\\right\\}\\right]$$"
      ],
      "text/plain": [
       "[{d1: 0,\n",
       "  d2: 0,\n",
       "  d3: 0,\n",
       "  d4: r780,\n",
       "  d5: 0,\n",
       "  a12: r781,\n",
       "  a13: r782,\n",
       "  a14: r783,\n",
       "  a15: r784,\n",
       "  a23: r785,\n",
       "  a24: r786,\n",
       "  a25: r787,\n",
       "  a34: 0,\n",
       "  a35: r788,\n",
       "  a45: r789},\n",
       " {d1: r790,\n",
       "  d2: r790/x12,\n",
       "  d3: r790/(x12*x23),\n",
       "  d4: r791,\n",
       "  d5: r790/(x12*x23*x35),\n",
       "  a12: r792,\n",
       "  a13: r793,\n",
       "  a14: r794,\n",
       "  a15: r795,\n",
       "  a23: (r792*x12*x23 - r790*x13)/(x12^2*x23),\n",
       "  a24: -r791*x14/x12,\n",
       "  a25: r796,\n",
       "  a34: 0,\n",
       "  a35: -(r790*x12*x25 - (r792*x12*x23 - r790*x13)*x35)/(x12^2*x23^2*x35),\n",
       "  a45: (r790*x12*x13*x25 - (r792*x12*x13*x23 - r790*x13^2 + (r796*x12^3 - r793*x12^2)*x23^2)*x35)/(x12^2*x14*x23^2*x35)}]"
      ]
     },
     "metadata": {},
     "output_type": "display_data"
    },
    {
     "data": {
      "text/plain": [
       "\\left[\\left\\{d_{1} : 0, d_{2} : 0, d_{3} : 0, d_{4} : r_{780}, d_{5} : 0, a_{12} : r_{781}, a_{13} : r_{782}, a_{14} : r_{783}, a_{15} : r_{784}, a_{23} : r_{785}, a_{24} : r_{786}, a_{25} : r_{787}, a_{34} : 0, a_{35} : r_{788}, a_{45} : r_{789}\\right\\}, \\left\\{d_{1} : r_{790}, d_{2} : \\frac{r_{790}}{x_{12}}, d_{3} : \\frac{r_{790}}{x_{12} x_{23}}, d_{4} : r_{791}, d_{5} : \\frac{r_{790}}{x_{12} x_{23} x_{35}}, a_{12} : r_{792}, a_{13} : r_{793}, a_{14} : r_{794}, a_{15} : r_{795}, a_{23} : \\frac{r_{792} x_{12} x_{23} - r_{790} x_{13}}{x_{12}^{2} x_{23}}, a_{24} : -\\frac{r_{791} x_{14}}{x_{12}}, a_{25} : r_{796}, a_{34} : 0, a_{35} : -\\frac{r_{790} x_{12} x_{25} - {\\left(r_{792} x_{12} x_{23} - r_{790} x_{13}\\right)} x_{35}}{x_{12}^{2} x_{23}^{2} x_{35}}, a_{45} : \\frac{r_{790} x_{12} x_{13} x_{25} - {\\left(r_{792} x_{12} x_{13} x_{23} - r_{790} x_{13}^{2} + {\\left(r_{796} x_{12}^{3} - r_{793} x_{12}^{2}\\right)} x_{23}^{2}\\right)} x_{35}}{x_{12}^{2} x_{14} x_{23}^{2} x_{35}}\\right\\}\\right]"
      ]
     },
     "execution_count": 45,
     "metadata": {},
     "output_type": "execute_result"
    }
   ],
   "source": [
    "#x4\n",
    "reset()\n",
    "\n",
    "var('x12,x13,x14,x15,x23,x24,x25,x34,x35,x45')\n",
    "var('d1,d2,d3,d4,d5')\n",
    "var('a12,a13,a14,a15,a23,a24,a25,a34,a35,a45')\n",
    "\n",
    "load_attach_path('C:\\\\Users\\\\julia\\\\Documents\\\\unb\\\\doutorado\\\\pensar\\\\codigo_sage_v2\\\\maquina\\\\x4')\n",
    "load('out_#101110.sage')\n",
    "\n",
    "m=matrix(QQ, [[0, 1, 0, 0, 0],\n",
    "              [0, 0, 1, 0, 0],\n",
    "              [0, 0, 0, 0, 1],\n",
    "              [0, 0, 0, 0, 0],\n",
    "              [0, 0, 0, 0, 0]])\n",
    "        \n",
    "#entry of matrix: (i,j) line i collum j, means (i-1,j-1)\n",
    "sol=solve([ eq1==m[0,1],\teq2==m[0,2],\teq3==m[0,3],\teq4==m[0,4],\t\n",
    "                                            eq5==m[1,2],    eq6==m[1,3],\n",
    "                                                            eq7==m[1,4], eq8==m[2,4]],d1,d2,d3,d4,d5,a12,a13,a14,a15,a23,a24,a25,a34,a35,a45, solution_dict=True)\n",
    "\n",
    "show(m)\n",
    "show(sol)\n",
    "latex(sol)"
   ]
  },
  {
   "cell_type": "code",
   "execution_count": 46,
   "metadata": {},
   "outputs": [
    {
     "data": {
      "text/html": [
       "<html><script type=\"math/tex; mode=display\">\\newcommand{\\Bold}[1]{\\mathbf{#1}}\\left(\\begin{array}{rrrrr}\n",
       "0 & 1 & 0 & 0 & 0 \\\\\n",
       "0 & 0 & 1 & 0 & 0 \\\\\n",
       "0 & 0 & 0 & 0 & 1 \\\\\n",
       "0 & 0 & 0 & 0 & 0 \\\\\n",
       "0 & 0 & 0 & 0 & 0\n",
       "\\end{array}\\right)</script></html>"
      ],
      "text/latex": [
       "$$\\newcommand{\\Bold}[1]{\\mathbf{#1}}\\left(\\begin{array}{rrrrr}\n",
       "0 & 1 & 0 & 0 & 0 \\\\\n",
       "0 & 0 & 1 & 0 & 0 \\\\\n",
       "0 & 0 & 0 & 0 & 1 \\\\\n",
       "0 & 0 & 0 & 0 & 0 \\\\\n",
       "0 & 0 & 0 & 0 & 0\n",
       "\\end{array}\\right)$$"
      ],
      "text/plain": [
       "[0 1 0 0 0]\n",
       "[0 0 1 0 0]\n",
       "[0 0 0 0 1]\n",
       "[0 0 0 0 0]\n",
       "[0 0 0 0 0]"
      ]
     },
     "metadata": {},
     "output_type": "display_data"
    },
    {
     "data": {
      "text/html": [
       "<html><script type=\"math/tex; mode=display\">\\newcommand{\\Bold}[1]{\\mathbf{#1}}\\left[\\left\\{d_{1} : 0, d_{2} : 0, d_{3} : 0, d_{4} : r_{797}, d_{5} : 0, a_{12} : r_{798}, a_{13} : r_{799}, a_{14} : r_{800}, a_{15} : r_{801}, a_{23} : r_{802}, a_{24} : r_{803}, a_{25} : r_{804}, a_{34} : 0, a_{35} : r_{805}, a_{45} : r_{806}\\right\\}, \\left\\{d_{1} : r_{807}, d_{2} : \\frac{r_{807}}{x_{12}}, d_{3} : \\frac{r_{807}}{x_{12} x_{23}}, d_{4} : r_{808}, d_{5} : \\frac{r_{807}}{x_{12} x_{23} x_{35}}, a_{12} : r_{809}, a_{13} : r_{810}, a_{14} : r_{811}, a_{15} : r_{812}, a_{23} : \\frac{r_{809} x_{12} x_{23} - r_{807} x_{13}}{x_{12}^{2} x_{23}}, a_{24} : -\\frac{r_{808} x_{14}}{x_{12}}, a_{25} : r_{813}, a_{34} : 0, a_{35} : -\\frac{r_{807} x_{12} x_{25} - {\\left(r_{809} x_{12} x_{23} - r_{807} x_{13}\\right)} x_{35}}{x_{12}^{2} x_{23}^{2} x_{35}}, a_{45} : -\\frac{r_{807} x_{12} x_{15} x_{23} - r_{807} x_{12} x_{13} x_{25} + {\\left(r_{809} x_{12} x_{13} x_{23} - r_{807} x_{13}^{2} + {\\left(r_{813} x_{12}^{3} - r_{810} x_{12}^{2}\\right)} x_{23}^{2}\\right)} x_{35}}{x_{12}^{2} x_{14} x_{23}^{2} x_{35}}\\right\\}\\right]</script></html>"
      ],
      "text/latex": [
       "$$\\newcommand{\\Bold}[1]{\\mathbf{#1}}\\left[\\left\\{d_{1} : 0, d_{2} : 0, d_{3} : 0, d_{4} : r_{797}, d_{5} : 0, a_{12} : r_{798}, a_{13} : r_{799}, a_{14} : r_{800}, a_{15} : r_{801}, a_{23} : r_{802}, a_{24} : r_{803}, a_{25} : r_{804}, a_{34} : 0, a_{35} : r_{805}, a_{45} : r_{806}\\right\\}, \\left\\{d_{1} : r_{807}, d_{2} : \\frac{r_{807}}{x_{12}}, d_{3} : \\frac{r_{807}}{x_{12} x_{23}}, d_{4} : r_{808}, d_{5} : \\frac{r_{807}}{x_{12} x_{23} x_{35}}, a_{12} : r_{809}, a_{13} : r_{810}, a_{14} : r_{811}, a_{15} : r_{812}, a_{23} : \\frac{r_{809} x_{12} x_{23} - r_{807} x_{13}}{x_{12}^{2} x_{23}}, a_{24} : -\\frac{r_{808} x_{14}}{x_{12}}, a_{25} : r_{813}, a_{34} : 0, a_{35} : -\\frac{r_{807} x_{12} x_{25} - {\\left(r_{809} x_{12} x_{23} - r_{807} x_{13}\\right)} x_{35}}{x_{12}^{2} x_{23}^{2} x_{35}}, a_{45} : -\\frac{r_{807} x_{12} x_{15} x_{23} - r_{807} x_{12} x_{13} x_{25} + {\\left(r_{809} x_{12} x_{13} x_{23} - r_{807} x_{13}^{2} + {\\left(r_{813} x_{12}^{3} - r_{810} x_{12}^{2}\\right)} x_{23}^{2}\\right)} x_{35}}{x_{12}^{2} x_{14} x_{23}^{2} x_{35}}\\right\\}\\right]$$"
      ],
      "text/plain": [
       "[{d1: 0,\n",
       "  d2: 0,\n",
       "  d3: 0,\n",
       "  d4: r797,\n",
       "  d5: 0,\n",
       "  a12: r798,\n",
       "  a13: r799,\n",
       "  a14: r800,\n",
       "  a15: r801,\n",
       "  a23: r802,\n",
       "  a24: r803,\n",
       "  a25: r804,\n",
       "  a34: 0,\n",
       "  a35: r805,\n",
       "  a45: r806},\n",
       " {d1: r807,\n",
       "  d2: r807/x12,\n",
       "  d3: r807/(x12*x23),\n",
       "  d4: r808,\n",
       "  d5: r807/(x12*x23*x35),\n",
       "  a12: r809,\n",
       "  a13: r810,\n",
       "  a14: r811,\n",
       "  a15: r812,\n",
       "  a23: (r809*x12*x23 - r807*x13)/(x12^2*x23),\n",
       "  a24: -r808*x14/x12,\n",
       "  a25: r813,\n",
       "  a34: 0,\n",
       "  a35: -(r807*x12*x25 - (r809*x12*x23 - r807*x13)*x35)/(x12^2*x23^2*x35),\n",
       "  a45: -(r807*x12*x15*x23 - r807*x12*x13*x25 + (r809*x12*x13*x23 - r807*x13^2 + (r813*x12^3 - r810*x12^2)*x23^2)*x35)/(x12^2*x14*x23^2*x35)}]"
      ]
     },
     "metadata": {},
     "output_type": "display_data"
    },
    {
     "data": {
      "text/plain": [
       "\\left[\\left\\{d_{1} : 0, d_{2} : 0, d_{3} : 0, d_{4} : r_{797}, d_{5} : 0, a_{12} : r_{798}, a_{13} : r_{799}, a_{14} : r_{800}, a_{15} : r_{801}, a_{23} : r_{802}, a_{24} : r_{803}, a_{25} : r_{804}, a_{34} : 0, a_{35} : r_{805}, a_{45} : r_{806}\\right\\}, \\left\\{d_{1} : r_{807}, d_{2} : \\frac{r_{807}}{x_{12}}, d_{3} : \\frac{r_{807}}{x_{12} x_{23}}, d_{4} : r_{808}, d_{5} : \\frac{r_{807}}{x_{12} x_{23} x_{35}}, a_{12} : r_{809}, a_{13} : r_{810}, a_{14} : r_{811}, a_{15} : r_{812}, a_{23} : \\frac{r_{809} x_{12} x_{23} - r_{807} x_{13}}{x_{12}^{2} x_{23}}, a_{24} : -\\frac{r_{808} x_{14}}{x_{12}}, a_{25} : r_{813}, a_{34} : 0, a_{35} : -\\frac{r_{807} x_{12} x_{25} - {\\left(r_{809} x_{12} x_{23} - r_{807} x_{13}\\right)} x_{35}}{x_{12}^{2} x_{23}^{2} x_{35}}, a_{45} : -\\frac{r_{807} x_{12} x_{15} x_{23} - r_{807} x_{12} x_{13} x_{25} + {\\left(r_{809} x_{12} x_{13} x_{23} - r_{807} x_{13}^{2} + {\\left(r_{813} x_{12}^{3} - r_{810} x_{12}^{2}\\right)} x_{23}^{2}\\right)} x_{35}}{x_{12}^{2} x_{14} x_{23}^{2} x_{35}}\\right\\}\\right]"
      ]
     },
     "execution_count": 46,
     "metadata": {},
     "output_type": "execute_result"
    }
   ],
   "source": [
    "#x4\n",
    "reset()\n",
    "\n",
    "var('x12,x13,x14,x15,x23,x24,x25,x34,x35,x45')\n",
    "var('d1,d2,d3,d4,d5')\n",
    "var('a12,a13,a14,a15,a23,a24,a25,a34,a35,a45')\n",
    "\n",
    "load_attach_path('C:\\\\Users\\\\julia\\\\Documents\\\\unb\\\\doutorado\\\\pensar\\\\codigo_sage_v2\\\\maquina\\\\x4')\n",
    "load('out_#101111.sage')\n",
    "\n",
    "m=matrix(QQ, [[0, 1, 0, 0, 0],\n",
    "              [0, 0, 1, 0, 0],\n",
    "              [0, 0, 0, 0, 1],\n",
    "              [0, 0, 0, 0, 0],\n",
    "              [0, 0, 0, 0, 0]])\n",
    "        \n",
    "#entry of matrix: (i,j) line i collum j, means (i-1,j-1)\n",
    "sol=solve([ eq1==m[0,1],\teq2==m[0,2],\teq3==m[0,3],\teq4==m[0,4],\t\n",
    "                                            eq5==m[1,2],    eq6==m[1,3],\n",
    "                                                            eq7==m[1,4], eq8==m[2,4]],d1,d2,d3,d4,d5,a12,a13,a14,a15,a23,a24,a25,a34,a35,a45, solution_dict=True)\n",
    "\n",
    "show(m)\n",
    "show(sol)\n",
    "latex(sol)"
   ]
  },
  {
   "cell_type": "code",
   "execution_count": 47,
   "metadata": {},
   "outputs": [
    {
     "data": {
      "text/html": [
       "<html><script type=\"math/tex; mode=display\">\\newcommand{\\Bold}[1]{\\mathbf{#1}}\\left(\\begin{array}{rrrrr}\n",
       "0 & 1 & 0 & 0 & 0 \\\\\n",
       "0 & 0 & 1 & 0 & 0 \\\\\n",
       "0 & 0 & 0 & 0 & 1 \\\\\n",
       "0 & 0 & 0 & 0 & 0 \\\\\n",
       "0 & 0 & 0 & 0 & 0\n",
       "\\end{array}\\right)</script></html>"
      ],
      "text/latex": [
       "$$\\newcommand{\\Bold}[1]{\\mathbf{#1}}\\left(\\begin{array}{rrrrr}\n",
       "0 & 1 & 0 & 0 & 0 \\\\\n",
       "0 & 0 & 1 & 0 & 0 \\\\\n",
       "0 & 0 & 0 & 0 & 1 \\\\\n",
       "0 & 0 & 0 & 0 & 0 \\\\\n",
       "0 & 0 & 0 & 0 & 0\n",
       "\\end{array}\\right)$$"
      ],
      "text/plain": [
       "[0 1 0 0 0]\n",
       "[0 0 1 0 0]\n",
       "[0 0 0 0 1]\n",
       "[0 0 0 0 0]\n",
       "[0 0 0 0 0]"
      ]
     },
     "metadata": {},
     "output_type": "display_data"
    },
    {
     "data": {
      "text/html": [
       "<html><script type=\"math/tex; mode=display\">\\newcommand{\\Bold}[1]{\\mathbf{#1}}\\left[\\left\\{d_{1} : 0, d_{2} : 0, d_{3} : 0, d_{4} : r_{814}, d_{5} : 0, a_{12} : r_{815}, a_{13} : r_{816}, a_{14} : r_{817}, a_{15} : r_{818}, a_{23} : r_{819}, a_{24} : r_{820}, a_{25} : r_{821}, a_{34} : -\\frac{r_{814} x_{24}}{x_{23}}, a_{35} : r_{822}, a_{45} : r_{823}\\right\\}, \\left\\{d_{1} : r_{824}, d_{2} : \\frac{r_{824}}{x_{12}}, d_{3} : \\frac{r_{824}}{x_{12} x_{23}}, d_{4} : r_{825}, d_{5} : \\frac{r_{824}}{x_{12} x_{23} x_{35}}, a_{12} : r_{826}, a_{13} : r_{827}, a_{14} : r_{828}, a_{15} : r_{829}, a_{23} : \\frac{r_{826}}{x_{12}}, a_{24} : 0, a_{25} : \\frac{r_{827}}{x_{12}}, a_{34} : -\\frac{r_{825} x_{24}}{x_{23}}, a_{35} : r_{830}, a_{45} : -\\frac{r_{830} x_{12} x_{23} - r_{826}}{x_{12} x_{24}}\\right\\}\\right]</script></html>"
      ],
      "text/latex": [
       "$$\\newcommand{\\Bold}[1]{\\mathbf{#1}}\\left[\\left\\{d_{1} : 0, d_{2} : 0, d_{3} : 0, d_{4} : r_{814}, d_{5} : 0, a_{12} : r_{815}, a_{13} : r_{816}, a_{14} : r_{817}, a_{15} : r_{818}, a_{23} : r_{819}, a_{24} : r_{820}, a_{25} : r_{821}, a_{34} : -\\frac{r_{814} x_{24}}{x_{23}}, a_{35} : r_{822}, a_{45} : r_{823}\\right\\}, \\left\\{d_{1} : r_{824}, d_{2} : \\frac{r_{824}}{x_{12}}, d_{3} : \\frac{r_{824}}{x_{12} x_{23}}, d_{4} : r_{825}, d_{5} : \\frac{r_{824}}{x_{12} x_{23} x_{35}}, a_{12} : r_{826}, a_{13} : r_{827}, a_{14} : r_{828}, a_{15} : r_{829}, a_{23} : \\frac{r_{826}}{x_{12}}, a_{24} : 0, a_{25} : \\frac{r_{827}}{x_{12}}, a_{34} : -\\frac{r_{825} x_{24}}{x_{23}}, a_{35} : r_{830}, a_{45} : -\\frac{r_{830} x_{12} x_{23} - r_{826}}{x_{12} x_{24}}\\right\\}\\right]$$"
      ],
      "text/plain": [
       "[{d1: 0,\n",
       "  d2: 0,\n",
       "  d3: 0,\n",
       "  d4: r814,\n",
       "  d5: 0,\n",
       "  a12: r815,\n",
       "  a13: r816,\n",
       "  a14: r817,\n",
       "  a15: r818,\n",
       "  a23: r819,\n",
       "  a24: r820,\n",
       "  a25: r821,\n",
       "  a34: -r814*x24/x23,\n",
       "  a35: r822,\n",
       "  a45: r823},\n",
       " {d1: r824,\n",
       "  d2: r824/x12,\n",
       "  d3: r824/(x12*x23),\n",
       "  d4: r825,\n",
       "  d5: r824/(x12*x23*x35),\n",
       "  a12: r826,\n",
       "  a13: r827,\n",
       "  a14: r828,\n",
       "  a15: r829,\n",
       "  a23: r826/x12,\n",
       "  a24: 0,\n",
       "  a25: r827/x12,\n",
       "  a34: -r825*x24/x23,\n",
       "  a35: r830,\n",
       "  a45: -(r830*x12*x23 - r826)/(x12*x24)}]"
      ]
     },
     "metadata": {},
     "output_type": "display_data"
    },
    {
     "data": {
      "text/plain": [
       "\\left[\\left\\{d_{1} : 0, d_{2} : 0, d_{3} : 0, d_{4} : r_{814}, d_{5} : 0, a_{12} : r_{815}, a_{13} : r_{816}, a_{14} : r_{817}, a_{15} : r_{818}, a_{23} : r_{819}, a_{24} : r_{820}, a_{25} : r_{821}, a_{34} : -\\frac{r_{814} x_{24}}{x_{23}}, a_{35} : r_{822}, a_{45} : r_{823}\\right\\}, \\left\\{d_{1} : r_{824}, d_{2} : \\frac{r_{824}}{x_{12}}, d_{3} : \\frac{r_{824}}{x_{12} x_{23}}, d_{4} : r_{825}, d_{5} : \\frac{r_{824}}{x_{12} x_{23} x_{35}}, a_{12} : r_{826}, a_{13} : r_{827}, a_{14} : r_{828}, a_{15} : r_{829}, a_{23} : \\frac{r_{826}}{x_{12}}, a_{24} : 0, a_{25} : \\frac{r_{827}}{x_{12}}, a_{34} : -\\frac{r_{825} x_{24}}{x_{23}}, a_{35} : r_{830}, a_{45} : -\\frac{r_{830} x_{12} x_{23} - r_{826}}{x_{12} x_{24}}\\right\\}\\right]"
      ]
     },
     "execution_count": 47,
     "metadata": {},
     "output_type": "execute_result"
    }
   ],
   "source": [
    "#x4\n",
    "reset()\n",
    "\n",
    "var('x12,x13,x14,x15,x23,x24,x25,x34,x35,x45')\n",
    "var('d1,d2,d3,d4,d5')\n",
    "var('a12,a13,a14,a15,a23,a24,a25,a34,a35,a45')\n",
    "\n",
    "load_attach_path('C:\\\\Users\\\\julia\\\\Documents\\\\unb\\\\doutorado\\\\pensar\\\\codigo_sage_v2\\\\maquina\\\\x4')\n",
    "load('out_#110000.sage')\n",
    "\n",
    "m=matrix(QQ, [[0, 1, 0, 0, 0],\n",
    "              [0, 0, 1, 0, 0],\n",
    "              [0, 0, 0, 0, 1],\n",
    "              [0, 0, 0, 0, 0],\n",
    "              [0, 0, 0, 0, 0]])\n",
    "        \n",
    "#entry of matrix: (i,j) line i collum j, means (i-1,j-1)\n",
    "sol=solve([ eq1==m[0,1],\teq2==m[0,2],\teq3==m[0,3],\teq4==m[0,4],\t\n",
    "                                            eq5==m[1,2],    eq6==m[1,3],\n",
    "                                                            eq7==m[1,4], eq8==m[2,4]],d1,d2,d3,d4,d5,a12,a13,a14,a15,a23,a24,a25,a34,a35,a45, solution_dict=True)\n",
    "\n",
    "show(m)\n",
    "show(sol)\n",
    "latex(sol)"
   ]
  },
  {
   "cell_type": "code",
   "execution_count": 48,
   "metadata": {},
   "outputs": [
    {
     "data": {
      "text/html": [
       "<html><script type=\"math/tex; mode=display\">\\newcommand{\\Bold}[1]{\\mathbf{#1}}\\left(\\begin{array}{rrrrr}\n",
       "0 & 1 & 0 & 0 & 0 \\\\\n",
       "0 & 0 & 1 & 0 & 0 \\\\\n",
       "0 & 0 & 0 & 0 & 1 \\\\\n",
       "0 & 0 & 0 & 0 & 0 \\\\\n",
       "0 & 0 & 0 & 0 & 0\n",
       "\\end{array}\\right)</script></html>"
      ],
      "text/latex": [
       "$$\\newcommand{\\Bold}[1]{\\mathbf{#1}}\\left(\\begin{array}{rrrrr}\n",
       "0 & 1 & 0 & 0 & 0 \\\\\n",
       "0 & 0 & 1 & 0 & 0 \\\\\n",
       "0 & 0 & 0 & 0 & 1 \\\\\n",
       "0 & 0 & 0 & 0 & 0 \\\\\n",
       "0 & 0 & 0 & 0 & 0\n",
       "\\end{array}\\right)$$"
      ],
      "text/plain": [
       "[0 1 0 0 0]\n",
       "[0 0 1 0 0]\n",
       "[0 0 0 0 1]\n",
       "[0 0 0 0 0]\n",
       "[0 0 0 0 0]"
      ]
     },
     "metadata": {},
     "output_type": "display_data"
    },
    {
     "data": {
      "text/html": [
       "<html><script type=\"math/tex; mode=display\">\\newcommand{\\Bold}[1]{\\mathbf{#1}}\\left[\\left\\{d_{1} : 0, d_{2} : 0, d_{3} : 0, d_{4} : r_{831}, d_{5} : 0, a_{12} : r_{832}, a_{13} : r_{833}, a_{14} : r_{834}, a_{15} : r_{835}, a_{23} : r_{836}, a_{24} : r_{837}, a_{25} : r_{838}, a_{34} : -\\frac{r_{831} x_{24}}{x_{23}}, a_{35} : r_{839}, a_{45} : r_{840}\\right\\}, \\left\\{d_{1} : r_{841}, d_{2} : \\frac{r_{841}}{x_{12}}, d_{3} : \\frac{r_{841}}{x_{12} x_{23}}, d_{4} : r_{842}, d_{5} : \\frac{r_{841}}{x_{12} x_{23} x_{35}}, a_{12} : r_{843}, a_{13} : r_{844}, a_{14} : r_{845}, a_{15} : r_{846}, a_{23} : \\frac{r_{843}}{x_{12}}, a_{24} : 0, a_{25} : \\frac{r_{844} x_{12} x_{23} x_{35} - r_{841} x_{15}}{x_{12}^{2} x_{23} x_{35}}, a_{34} : -\\frac{r_{842} x_{24}}{x_{23}}, a_{35} : r_{847}, a_{45} : -\\frac{r_{847} x_{12} x_{23} - r_{843}}{x_{12} x_{24}}\\right\\}\\right]</script></html>"
      ],
      "text/latex": [
       "$$\\newcommand{\\Bold}[1]{\\mathbf{#1}}\\left[\\left\\{d_{1} : 0, d_{2} : 0, d_{3} : 0, d_{4} : r_{831}, d_{5} : 0, a_{12} : r_{832}, a_{13} : r_{833}, a_{14} : r_{834}, a_{15} : r_{835}, a_{23} : r_{836}, a_{24} : r_{837}, a_{25} : r_{838}, a_{34} : -\\frac{r_{831} x_{24}}{x_{23}}, a_{35} : r_{839}, a_{45} : r_{840}\\right\\}, \\left\\{d_{1} : r_{841}, d_{2} : \\frac{r_{841}}{x_{12}}, d_{3} : \\frac{r_{841}}{x_{12} x_{23}}, d_{4} : r_{842}, d_{5} : \\frac{r_{841}}{x_{12} x_{23} x_{35}}, a_{12} : r_{843}, a_{13} : r_{844}, a_{14} : r_{845}, a_{15} : r_{846}, a_{23} : \\frac{r_{843}}{x_{12}}, a_{24} : 0, a_{25} : \\frac{r_{844} x_{12} x_{23} x_{35} - r_{841} x_{15}}{x_{12}^{2} x_{23} x_{35}}, a_{34} : -\\frac{r_{842} x_{24}}{x_{23}}, a_{35} : r_{847}, a_{45} : -\\frac{r_{847} x_{12} x_{23} - r_{843}}{x_{12} x_{24}}\\right\\}\\right]$$"
      ],
      "text/plain": [
       "[{d1: 0,\n",
       "  d2: 0,\n",
       "  d3: 0,\n",
       "  d4: r831,\n",
       "  d5: 0,\n",
       "  a12: r832,\n",
       "  a13: r833,\n",
       "  a14: r834,\n",
       "  a15: r835,\n",
       "  a23: r836,\n",
       "  a24: r837,\n",
       "  a25: r838,\n",
       "  a34: -r831*x24/x23,\n",
       "  a35: r839,\n",
       "  a45: r840},\n",
       " {d1: r841,\n",
       "  d2: r841/x12,\n",
       "  d3: r841/(x12*x23),\n",
       "  d4: r842,\n",
       "  d5: r841/(x12*x23*x35),\n",
       "  a12: r843,\n",
       "  a13: r844,\n",
       "  a14: r845,\n",
       "  a15: r846,\n",
       "  a23: r843/x12,\n",
       "  a24: 0,\n",
       "  a25: (r844*x12*x23*x35 - r841*x15)/(x12^2*x23*x35),\n",
       "  a34: -r842*x24/x23,\n",
       "  a35: r847,\n",
       "  a45: -(r847*x12*x23 - r843)/(x12*x24)}]"
      ]
     },
     "metadata": {},
     "output_type": "display_data"
    },
    {
     "data": {
      "text/plain": [
       "\\left[\\left\\{d_{1} : 0, d_{2} : 0, d_{3} : 0, d_{4} : r_{831}, d_{5} : 0, a_{12} : r_{832}, a_{13} : r_{833}, a_{14} : r_{834}, a_{15} : r_{835}, a_{23} : r_{836}, a_{24} : r_{837}, a_{25} : r_{838}, a_{34} : -\\frac{r_{831} x_{24}}{x_{23}}, a_{35} : r_{839}, a_{45} : r_{840}\\right\\}, \\left\\{d_{1} : r_{841}, d_{2} : \\frac{r_{841}}{x_{12}}, d_{3} : \\frac{r_{841}}{x_{12} x_{23}}, d_{4} : r_{842}, d_{5} : \\frac{r_{841}}{x_{12} x_{23} x_{35}}, a_{12} : r_{843}, a_{13} : r_{844}, a_{14} : r_{845}, a_{15} : r_{846}, a_{23} : \\frac{r_{843}}{x_{12}}, a_{24} : 0, a_{25} : \\frac{r_{844} x_{12} x_{23} x_{35} - r_{841} x_{15}}{x_{12}^{2} x_{23} x_{35}}, a_{34} : -\\frac{r_{842} x_{24}}{x_{23}}, a_{35} : r_{847}, a_{45} : -\\frac{r_{847} x_{12} x_{23} - r_{843}}{x_{12} x_{24}}\\right\\}\\right]"
      ]
     },
     "execution_count": 48,
     "metadata": {},
     "output_type": "execute_result"
    }
   ],
   "source": [
    "#x4\n",
    "reset()\n",
    "\n",
    "var('x12,x13,x14,x15,x23,x24,x25,x34,x35,x45')\n",
    "var('d1,d2,d3,d4,d5')\n",
    "var('a12,a13,a14,a15,a23,a24,a25,a34,a35,a45')\n",
    "\n",
    "load_attach_path('C:\\\\Users\\\\julia\\\\Documents\\\\unb\\\\doutorado\\\\pensar\\\\codigo_sage_v2\\\\maquina\\\\x4')\n",
    "load('out_#110001.sage')\n",
    "\n",
    "m=matrix(QQ, [[0, 1, 0, 0, 0],\n",
    "              [0, 0, 1, 0, 0],\n",
    "              [0, 0, 0, 0, 1],\n",
    "              [0, 0, 0, 0, 0],\n",
    "              [0, 0, 0, 0, 0]])\n",
    "        \n",
    "#entry of matrix: (i,j) line i collum j, means (i-1,j-1)\n",
    "sol=solve([ eq1==m[0,1],\teq2==m[0,2],\teq3==m[0,3],\teq4==m[0,4],\t\n",
    "                                            eq5==m[1,2],    eq6==m[1,3],\n",
    "                                                            eq7==m[1,4], eq8==m[2,4]],d1,d2,d3,d4,d5,a12,a13,a14,a15,a23,a24,a25,a34,a35,a45, solution_dict=True)\n",
    "\n",
    "show(m)\n",
    "show(sol)\n",
    "latex(sol)"
   ]
  },
  {
   "cell_type": "code",
   "execution_count": 49,
   "metadata": {},
   "outputs": [
    {
     "data": {
      "text/html": [
       "<html><script type=\"math/tex; mode=display\">\\newcommand{\\Bold}[1]{\\mathbf{#1}}\\left(\\begin{array}{rrrrr}\n",
       "0 & 1 & 0 & 0 & 0 \\\\\n",
       "0 & 0 & 1 & 0 & 0 \\\\\n",
       "0 & 0 & 0 & 0 & 1 \\\\\n",
       "0 & 0 & 0 & 0 & 0 \\\\\n",
       "0 & 0 & 0 & 0 & 0\n",
       "\\end{array}\\right)</script></html>"
      ],
      "text/latex": [
       "$$\\newcommand{\\Bold}[1]{\\mathbf{#1}}\\left(\\begin{array}{rrrrr}\n",
       "0 & 1 & 0 & 0 & 0 \\\\\n",
       "0 & 0 & 1 & 0 & 0 \\\\\n",
       "0 & 0 & 0 & 0 & 1 \\\\\n",
       "0 & 0 & 0 & 0 & 0 \\\\\n",
       "0 & 0 & 0 & 0 & 0\n",
       "\\end{array}\\right)$$"
      ],
      "text/plain": [
       "[0 1 0 0 0]\n",
       "[0 0 1 0 0]\n",
       "[0 0 0 0 1]\n",
       "[0 0 0 0 0]\n",
       "[0 0 0 0 0]"
      ]
     },
     "metadata": {},
     "output_type": "display_data"
    },
    {
     "data": {
      "text/html": [
       "<html><script type=\"math/tex; mode=display\">\\newcommand{\\Bold}[1]{\\mathbf{#1}}\\left[\\left\\{d_{1} : 0, d_{2} : 0, d_{3} : 0, d_{4} : r_{848}, d_{5} : 0, a_{12} : r_{849}, a_{13} : r_{850}, a_{14} : r_{851}, a_{15} : r_{852}, a_{23} : r_{853}, a_{24} : r_{854}, a_{25} : r_{855}, a_{34} : -\\frac{r_{848} x_{24}}{x_{23}}, a_{35} : r_{856}, a_{45} : r_{857}\\right\\}, \\left\\{d_{1} : r_{858}, d_{2} : \\frac{r_{858}}{x_{12}}, d_{3} : \\frac{r_{858}}{x_{12} x_{23}}, d_{4} : r_{859}, d_{5} : \\frac{r_{858}}{x_{12} x_{23} x_{35}}, a_{12} : r_{860}, a_{13} : r_{861}, a_{14} : r_{862}, a_{15} : r_{863}, a_{23} : \\frac{r_{860}}{x_{12}}, a_{24} : -\\frac{r_{859} x_{14}}{x_{12}}, a_{25} : r_{864}, a_{34} : -\\frac{r_{859} x_{24}}{x_{23}}, a_{35} : \\frac{r_{860} x_{14} + {\\left(r_{864} x_{12}^{2} - r_{861} x_{12}\\right)} x_{24}}{x_{12} x_{14} x_{23}}, a_{45} : -\\frac{r_{864} x_{12} - r_{861}}{x_{14}}\\right\\}\\right]</script></html>"
      ],
      "text/latex": [
       "$$\\newcommand{\\Bold}[1]{\\mathbf{#1}}\\left[\\left\\{d_{1} : 0, d_{2} : 0, d_{3} : 0, d_{4} : r_{848}, d_{5} : 0, a_{12} : r_{849}, a_{13} : r_{850}, a_{14} : r_{851}, a_{15} : r_{852}, a_{23} : r_{853}, a_{24} : r_{854}, a_{25} : r_{855}, a_{34} : -\\frac{r_{848} x_{24}}{x_{23}}, a_{35} : r_{856}, a_{45} : r_{857}\\right\\}, \\left\\{d_{1} : r_{858}, d_{2} : \\frac{r_{858}}{x_{12}}, d_{3} : \\frac{r_{858}}{x_{12} x_{23}}, d_{4} : r_{859}, d_{5} : \\frac{r_{858}}{x_{12} x_{23} x_{35}}, a_{12} : r_{860}, a_{13} : r_{861}, a_{14} : r_{862}, a_{15} : r_{863}, a_{23} : \\frac{r_{860}}{x_{12}}, a_{24} : -\\frac{r_{859} x_{14}}{x_{12}}, a_{25} : r_{864}, a_{34} : -\\frac{r_{859} x_{24}}{x_{23}}, a_{35} : \\frac{r_{860} x_{14} + {\\left(r_{864} x_{12}^{2} - r_{861} x_{12}\\right)} x_{24}}{x_{12} x_{14} x_{23}}, a_{45} : -\\frac{r_{864} x_{12} - r_{861}}{x_{14}}\\right\\}\\right]$$"
      ],
      "text/plain": [
       "[{d1: 0,\n",
       "  d2: 0,\n",
       "  d3: 0,\n",
       "  d4: r848,\n",
       "  d5: 0,\n",
       "  a12: r849,\n",
       "  a13: r850,\n",
       "  a14: r851,\n",
       "  a15: r852,\n",
       "  a23: r853,\n",
       "  a24: r854,\n",
       "  a25: r855,\n",
       "  a34: -r848*x24/x23,\n",
       "  a35: r856,\n",
       "  a45: r857},\n",
       " {d1: r858,\n",
       "  d2: r858/x12,\n",
       "  d3: r858/(x12*x23),\n",
       "  d4: r859,\n",
       "  d5: r858/(x12*x23*x35),\n",
       "  a12: r860,\n",
       "  a13: r861,\n",
       "  a14: r862,\n",
       "  a15: r863,\n",
       "  a23: r860/x12,\n",
       "  a24: -r859*x14/x12,\n",
       "  a25: r864,\n",
       "  a34: -r859*x24/x23,\n",
       "  a35: (r860*x14 + (r864*x12^2 - r861*x12)*x24)/(x12*x14*x23),\n",
       "  a45: -(r864*x12 - r861)/x14}]"
      ]
     },
     "metadata": {},
     "output_type": "display_data"
    },
    {
     "data": {
      "text/plain": [
       "\\left[\\left\\{d_{1} : 0, d_{2} : 0, d_{3} : 0, d_{4} : r_{848}, d_{5} : 0, a_{12} : r_{849}, a_{13} : r_{850}, a_{14} : r_{851}, a_{15} : r_{852}, a_{23} : r_{853}, a_{24} : r_{854}, a_{25} : r_{855}, a_{34} : -\\frac{r_{848} x_{24}}{x_{23}}, a_{35} : r_{856}, a_{45} : r_{857}\\right\\}, \\left\\{d_{1} : r_{858}, d_{2} : \\frac{r_{858}}{x_{12}}, d_{3} : \\frac{r_{858}}{x_{12} x_{23}}, d_{4} : r_{859}, d_{5} : \\frac{r_{858}}{x_{12} x_{23} x_{35}}, a_{12} : r_{860}, a_{13} : r_{861}, a_{14} : r_{862}, a_{15} : r_{863}, a_{23} : \\frac{r_{860}}{x_{12}}, a_{24} : -\\frac{r_{859} x_{14}}{x_{12}}, a_{25} : r_{864}, a_{34} : -\\frac{r_{859} x_{24}}{x_{23}}, a_{35} : \\frac{r_{860} x_{14} + {\\left(r_{864} x_{12}^{2} - r_{861} x_{12}\\right)} x_{24}}{x_{12} x_{14} x_{23}}, a_{45} : -\\frac{r_{864} x_{12} - r_{861}}{x_{14}}\\right\\}\\right]"
      ]
     },
     "execution_count": 49,
     "metadata": {},
     "output_type": "execute_result"
    }
   ],
   "source": [
    "#x4\n",
    "reset()\n",
    "\n",
    "var('x12,x13,x14,x15,x23,x24,x25,x34,x35,x45')\n",
    "var('d1,d2,d3,d4,d5')\n",
    "var('a12,a13,a14,a15,a23,a24,a25,a34,a35,a45')\n",
    "\n",
    "load_attach_path('C:\\\\Users\\\\julia\\\\Documents\\\\unb\\\\doutorado\\\\pensar\\\\codigo_sage_v2\\\\maquina\\\\x4')\n",
    "load('out_#110010.sage')\n",
    "\n",
    "m=matrix(QQ, [[0, 1, 0, 0, 0],\n",
    "              [0, 0, 1, 0, 0],\n",
    "              [0, 0, 0, 0, 1],\n",
    "              [0, 0, 0, 0, 0],\n",
    "              [0, 0, 0, 0, 0]])\n",
    "        \n",
    "#entry of matrix: (i,j) line i collum j, means (i-1,j-1)\n",
    "sol=solve([ eq1==m[0,1],\teq2==m[0,2],\teq3==m[0,3],\teq4==m[0,4],\t\n",
    "                                            eq5==m[1,2],    eq6==m[1,3],\n",
    "                                                            eq7==m[1,4], eq8==m[2,4]],d1,d2,d3,d4,d5,a12,a13,a14,a15,a23,a24,a25,a34,a35,a45, solution_dict=True)\n",
    "\n",
    "show(m)\n",
    "show(sol)\n",
    "latex(sol)"
   ]
  },
  {
   "cell_type": "code",
   "execution_count": 50,
   "metadata": {},
   "outputs": [
    {
     "data": {
      "text/html": [
       "<html><script type=\"math/tex; mode=display\">\\newcommand{\\Bold}[1]{\\mathbf{#1}}\\left(\\begin{array}{rrrrr}\n",
       "0 & 1 & 0 & 0 & 0 \\\\\n",
       "0 & 0 & 1 & 0 & 0 \\\\\n",
       "0 & 0 & 0 & 0 & 1 \\\\\n",
       "0 & 0 & 0 & 0 & 0 \\\\\n",
       "0 & 0 & 0 & 0 & 0\n",
       "\\end{array}\\right)</script></html>"
      ],
      "text/latex": [
       "$$\\newcommand{\\Bold}[1]{\\mathbf{#1}}\\left(\\begin{array}{rrrrr}\n",
       "0 & 1 & 0 & 0 & 0 \\\\\n",
       "0 & 0 & 1 & 0 & 0 \\\\\n",
       "0 & 0 & 0 & 0 & 1 \\\\\n",
       "0 & 0 & 0 & 0 & 0 \\\\\n",
       "0 & 0 & 0 & 0 & 0\n",
       "\\end{array}\\right)$$"
      ],
      "text/plain": [
       "[0 1 0 0 0]\n",
       "[0 0 1 0 0]\n",
       "[0 0 0 0 1]\n",
       "[0 0 0 0 0]\n",
       "[0 0 0 0 0]"
      ]
     },
     "metadata": {},
     "output_type": "display_data"
    },
    {
     "data": {
      "text/html": [
       "<html><script type=\"math/tex; mode=display\">\\newcommand{\\Bold}[1]{\\mathbf{#1}}\\left[\\left\\{d_{1} : 0, d_{2} : 0, d_{3} : 0, d_{4} : r_{865}, d_{5} : 0, a_{12} : r_{866}, a_{13} : r_{867}, a_{14} : r_{868}, a_{15} : r_{869}, a_{23} : r_{870}, a_{24} : r_{871}, a_{25} : r_{872}, a_{34} : -\\frac{r_{865} x_{24}}{x_{23}}, a_{35} : r_{873}, a_{45} : r_{874}\\right\\}, \\left\\{d_{1} : r_{875}, d_{2} : \\frac{r_{875}}{x_{12}}, d_{3} : \\frac{r_{875}}{x_{12} x_{23}}, d_{4} : r_{876}, d_{5} : \\frac{r_{875}}{x_{12} x_{23} x_{35}}, a_{12} : r_{877}, a_{13} : r_{878}, a_{14} : r_{879}, a_{15} : r_{880}, a_{23} : \\frac{r_{877}}{x_{12}}, a_{24} : -\\frac{r_{876} x_{14}}{x_{12}}, a_{25} : r_{881}, a_{34} : -\\frac{r_{876} x_{24}}{x_{23}}, a_{35} : \\frac{r_{875} x_{15} x_{24} + {\\left(r_{877} x_{14} x_{23} + {\\left(r_{881} x_{12}^{2} - r_{878} x_{12}\\right)} x_{23} x_{24}\\right)} x_{35}}{x_{12} x_{14} x_{23}^{2} x_{35}}, a_{45} : -\\frac{{\\left(r_{881} x_{12}^{2} - r_{878} x_{12}\\right)} x_{23} x_{35} + r_{875} x_{15}}{x_{12} x_{14} x_{23} x_{35}}\\right\\}\\right]</script></html>"
      ],
      "text/latex": [
       "$$\\newcommand{\\Bold}[1]{\\mathbf{#1}}\\left[\\left\\{d_{1} : 0, d_{2} : 0, d_{3} : 0, d_{4} : r_{865}, d_{5} : 0, a_{12} : r_{866}, a_{13} : r_{867}, a_{14} : r_{868}, a_{15} : r_{869}, a_{23} : r_{870}, a_{24} : r_{871}, a_{25} : r_{872}, a_{34} : -\\frac{r_{865} x_{24}}{x_{23}}, a_{35} : r_{873}, a_{45} : r_{874}\\right\\}, \\left\\{d_{1} : r_{875}, d_{2} : \\frac{r_{875}}{x_{12}}, d_{3} : \\frac{r_{875}}{x_{12} x_{23}}, d_{4} : r_{876}, d_{5} : \\frac{r_{875}}{x_{12} x_{23} x_{35}}, a_{12} : r_{877}, a_{13} : r_{878}, a_{14} : r_{879}, a_{15} : r_{880}, a_{23} : \\frac{r_{877}}{x_{12}}, a_{24} : -\\frac{r_{876} x_{14}}{x_{12}}, a_{25} : r_{881}, a_{34} : -\\frac{r_{876} x_{24}}{x_{23}}, a_{35} : \\frac{r_{875} x_{15} x_{24} + {\\left(r_{877} x_{14} x_{23} + {\\left(r_{881} x_{12}^{2} - r_{878} x_{12}\\right)} x_{23} x_{24}\\right)} x_{35}}{x_{12} x_{14} x_{23}^{2} x_{35}}, a_{45} : -\\frac{{\\left(r_{881} x_{12}^{2} - r_{878} x_{12}\\right)} x_{23} x_{35} + r_{875} x_{15}}{x_{12} x_{14} x_{23} x_{35}}\\right\\}\\right]$$"
      ],
      "text/plain": [
       "[{d1: 0,\n",
       "  d2: 0,\n",
       "  d3: 0,\n",
       "  d4: r865,\n",
       "  d5: 0,\n",
       "  a12: r866,\n",
       "  a13: r867,\n",
       "  a14: r868,\n",
       "  a15: r869,\n",
       "  a23: r870,\n",
       "  a24: r871,\n",
       "  a25: r872,\n",
       "  a34: -r865*x24/x23,\n",
       "  a35: r873,\n",
       "  a45: r874},\n",
       " {d1: r875,\n",
       "  d2: r875/x12,\n",
       "  d3: r875/(x12*x23),\n",
       "  d4: r876,\n",
       "  d5: r875/(x12*x23*x35),\n",
       "  a12: r877,\n",
       "  a13: r878,\n",
       "  a14: r879,\n",
       "  a15: r880,\n",
       "  a23: r877/x12,\n",
       "  a24: -r876*x14/x12,\n",
       "  a25: r881,\n",
       "  a34: -r876*x24/x23,\n",
       "  a35: (r875*x15*x24 + (r877*x14*x23 + (r881*x12^2 - r878*x12)*x23*x24)*x35)/(x12*x14*x23^2*x35),\n",
       "  a45: -((r881*x12^2 - r878*x12)*x23*x35 + r875*x15)/(x12*x14*x23*x35)}]"
      ]
     },
     "metadata": {},
     "output_type": "display_data"
    },
    {
     "data": {
      "text/plain": [
       "\\left[\\left\\{d_{1} : 0, d_{2} : 0, d_{3} : 0, d_{4} : r_{865}, d_{5} : 0, a_{12} : r_{866}, a_{13} : r_{867}, a_{14} : r_{868}, a_{15} : r_{869}, a_{23} : r_{870}, a_{24} : r_{871}, a_{25} : r_{872}, a_{34} : -\\frac{r_{865} x_{24}}{x_{23}}, a_{35} : r_{873}, a_{45} : r_{874}\\right\\}, \\left\\{d_{1} : r_{875}, d_{2} : \\frac{r_{875}}{x_{12}}, d_{3} : \\frac{r_{875}}{x_{12} x_{23}}, d_{4} : r_{876}, d_{5} : \\frac{r_{875}}{x_{12} x_{23} x_{35}}, a_{12} : r_{877}, a_{13} : r_{878}, a_{14} : r_{879}, a_{15} : r_{880}, a_{23} : \\frac{r_{877}}{x_{12}}, a_{24} : -\\frac{r_{876} x_{14}}{x_{12}}, a_{25} : r_{881}, a_{34} : -\\frac{r_{876} x_{24}}{x_{23}}, a_{35} : \\frac{r_{875} x_{15} x_{24} + {\\left(r_{877} x_{14} x_{23} + {\\left(r_{881} x_{12}^{2} - r_{878} x_{12}\\right)} x_{23} x_{24}\\right)} x_{35}}{x_{12} x_{14} x_{23}^{2} x_{35}}, a_{45} : -\\frac{{\\left(r_{881} x_{12}^{2} - r_{878} x_{12}\\right)} x_{23} x_{35} + r_{875} x_{15}}{x_{12} x_{14} x_{23} x_{35}}\\right\\}\\right]"
      ]
     },
     "execution_count": 50,
     "metadata": {},
     "output_type": "execute_result"
    }
   ],
   "source": [
    "#x4\n",
    "reset()\n",
    "\n",
    "var('x12,x13,x14,x15,x23,x24,x25,x34,x35,x45')\n",
    "var('d1,d2,d3,d4,d5')\n",
    "var('a12,a13,a14,a15,a23,a24,a25,a34,a35,a45')\n",
    "\n",
    "load_attach_path('C:\\\\Users\\\\julia\\\\Documents\\\\unb\\\\doutorado\\\\pensar\\\\codigo_sage_v2\\\\maquina\\\\x4')\n",
    "load('out_#110011.sage')\n",
    "\n",
    "m=matrix(QQ, [[0, 1, 0, 0, 0],\n",
    "              [0, 0, 1, 0, 0],\n",
    "              [0, 0, 0, 0, 1],\n",
    "              [0, 0, 0, 0, 0],\n",
    "              [0, 0, 0, 0, 0]])\n",
    "        \n",
    "#entry of matrix: (i,j) line i collum j, means (i-1,j-1)\n",
    "sol=solve([ eq1==m[0,1],\teq2==m[0,2],\teq3==m[0,3],\teq4==m[0,4],\t\n",
    "                                            eq5==m[1,2],    eq6==m[1,3],\n",
    "                                                            eq7==m[1,4], eq8==m[2,4]],d1,d2,d3,d4,d5,a12,a13,a14,a15,a23,a24,a25,a34,a35,a45, solution_dict=True)\n",
    "\n",
    "show(m)\n",
    "show(sol)\n",
    "latex(sol)"
   ]
  },
  {
   "cell_type": "code",
   "execution_count": 51,
   "metadata": {},
   "outputs": [
    {
     "data": {
      "text/html": [
       "<html><script type=\"math/tex; mode=display\">\\newcommand{\\Bold}[1]{\\mathbf{#1}}\\left(\\begin{array}{rrrrr}\n",
       "0 & 1 & 0 & 0 & 0 \\\\\n",
       "0 & 0 & 1 & 0 & 0 \\\\\n",
       "0 & 0 & 0 & 0 & 1 \\\\\n",
       "0 & 0 & 0 & 0 & 0 \\\\\n",
       "0 & 0 & 0 & 0 & 0\n",
       "\\end{array}\\right)</script></html>"
      ],
      "text/latex": [
       "$$\\newcommand{\\Bold}[1]{\\mathbf{#1}}\\left(\\begin{array}{rrrrr}\n",
       "0 & 1 & 0 & 0 & 0 \\\\\n",
       "0 & 0 & 1 & 0 & 0 \\\\\n",
       "0 & 0 & 0 & 0 & 1 \\\\\n",
       "0 & 0 & 0 & 0 & 0 \\\\\n",
       "0 & 0 & 0 & 0 & 0\n",
       "\\end{array}\\right)$$"
      ],
      "text/plain": [
       "[0 1 0 0 0]\n",
       "[0 0 1 0 0]\n",
       "[0 0 0 0 1]\n",
       "[0 0 0 0 0]\n",
       "[0 0 0 0 0]"
      ]
     },
     "metadata": {},
     "output_type": "display_data"
    },
    {
     "data": {
      "text/html": [
       "<html><script type=\"math/tex; mode=display\">\\newcommand{\\Bold}[1]{\\mathbf{#1}}\\left[\\left\\{d_{1} : 0, d_{2} : 0, d_{3} : 0, d_{4} : r_{882}, d_{5} : 0, a_{12} : r_{883}, a_{13} : r_{884}, a_{14} : r_{885}, a_{15} : r_{886}, a_{23} : r_{887}, a_{24} : r_{888}, a_{25} : r_{889}, a_{34} : -\\frac{r_{882} x_{24}}{x_{23}}, a_{35} : r_{890}, a_{45} : r_{891}\\right\\}, \\left\\{d_{1} : r_{892}, d_{2} : \\frac{r_{892}}{x_{12}}, d_{3} : \\frac{r_{892}}{x_{12} x_{23}}, d_{4} : r_{893}, d_{5} : \\frac{r_{892}}{x_{12} x_{23} x_{35}}, a_{12} : r_{894}, a_{13} : r_{895}, a_{14} : r_{896}, a_{15} : r_{897}, a_{23} : \\frac{r_{894} x_{12} x_{23} - r_{892} x_{13}}{x_{12}^{2} x_{23}}, a_{24} : \\frac{r_{893} x_{13} x_{24}}{x_{12} x_{23}}, a_{25} : r_{898}, a_{34} : -\\frac{r_{893} x_{24}}{x_{23}}, a_{35} : -\\frac{r_{898} x_{12} - r_{895}}{x_{13}}, a_{45} : \\frac{r_{894} x_{12} x_{13} x_{23} - r_{892} x_{13}^{2} + {\\left(r_{898} x_{12}^{3} - r_{895} x_{12}^{2}\\right)} x_{23}^{2}}{x_{12}^{2} x_{13} x_{23} x_{24}}\\right\\}\\right]</script></html>"
      ],
      "text/latex": [
       "$$\\newcommand{\\Bold}[1]{\\mathbf{#1}}\\left[\\left\\{d_{1} : 0, d_{2} : 0, d_{3} : 0, d_{4} : r_{882}, d_{5} : 0, a_{12} : r_{883}, a_{13} : r_{884}, a_{14} : r_{885}, a_{15} : r_{886}, a_{23} : r_{887}, a_{24} : r_{888}, a_{25} : r_{889}, a_{34} : -\\frac{r_{882} x_{24}}{x_{23}}, a_{35} : r_{890}, a_{45} : r_{891}\\right\\}, \\left\\{d_{1} : r_{892}, d_{2} : \\frac{r_{892}}{x_{12}}, d_{3} : \\frac{r_{892}}{x_{12} x_{23}}, d_{4} : r_{893}, d_{5} : \\frac{r_{892}}{x_{12} x_{23} x_{35}}, a_{12} : r_{894}, a_{13} : r_{895}, a_{14} : r_{896}, a_{15} : r_{897}, a_{23} : \\frac{r_{894} x_{12} x_{23} - r_{892} x_{13}}{x_{12}^{2} x_{23}}, a_{24} : \\frac{r_{893} x_{13} x_{24}}{x_{12} x_{23}}, a_{25} : r_{898}, a_{34} : -\\frac{r_{893} x_{24}}{x_{23}}, a_{35} : -\\frac{r_{898} x_{12} - r_{895}}{x_{13}}, a_{45} : \\frac{r_{894} x_{12} x_{13} x_{23} - r_{892} x_{13}^{2} + {\\left(r_{898} x_{12}^{3} - r_{895} x_{12}^{2}\\right)} x_{23}^{2}}{x_{12}^{2} x_{13} x_{23} x_{24}}\\right\\}\\right]$$"
      ],
      "text/plain": [
       "[{d1: 0,\n",
       "  d2: 0,\n",
       "  d3: 0,\n",
       "  d4: r882,\n",
       "  d5: 0,\n",
       "  a12: r883,\n",
       "  a13: r884,\n",
       "  a14: r885,\n",
       "  a15: r886,\n",
       "  a23: r887,\n",
       "  a24: r888,\n",
       "  a25: r889,\n",
       "  a34: -r882*x24/x23,\n",
       "  a35: r890,\n",
       "  a45: r891},\n",
       " {d1: r892,\n",
       "  d2: r892/x12,\n",
       "  d3: r892/(x12*x23),\n",
       "  d4: r893,\n",
       "  d5: r892/(x12*x23*x35),\n",
       "  a12: r894,\n",
       "  a13: r895,\n",
       "  a14: r896,\n",
       "  a15: r897,\n",
       "  a23: (r894*x12*x23 - r892*x13)/(x12^2*x23),\n",
       "  a24: r893*x13*x24/(x12*x23),\n",
       "  a25: r898,\n",
       "  a34: -r893*x24/x23,\n",
       "  a35: -(r898*x12 - r895)/x13,\n",
       "  a45: (r894*x12*x13*x23 - r892*x13^2 + (r898*x12^3 - r895*x12^2)*x23^2)/(x12^2*x13*x23*x24)}]"
      ]
     },
     "metadata": {},
     "output_type": "display_data"
    },
    {
     "data": {
      "text/plain": [
       "\\left[\\left\\{d_{1} : 0, d_{2} : 0, d_{3} : 0, d_{4} : r_{882}, d_{5} : 0, a_{12} : r_{883}, a_{13} : r_{884}, a_{14} : r_{885}, a_{15} : r_{886}, a_{23} : r_{887}, a_{24} : r_{888}, a_{25} : r_{889}, a_{34} : -\\frac{r_{882} x_{24}}{x_{23}}, a_{35} : r_{890}, a_{45} : r_{891}\\right\\}, \\left\\{d_{1} : r_{892}, d_{2} : \\frac{r_{892}}{x_{12}}, d_{3} : \\frac{r_{892}}{x_{12} x_{23}}, d_{4} : r_{893}, d_{5} : \\frac{r_{892}}{x_{12} x_{23} x_{35}}, a_{12} : r_{894}, a_{13} : r_{895}, a_{14} : r_{896}, a_{15} : r_{897}, a_{23} : \\frac{r_{894} x_{12} x_{23} - r_{892} x_{13}}{x_{12}^{2} x_{23}}, a_{24} : \\frac{r_{893} x_{13} x_{24}}{x_{12} x_{23}}, a_{25} : r_{898}, a_{34} : -\\frac{r_{893} x_{24}}{x_{23}}, a_{35} : -\\frac{r_{898} x_{12} - r_{895}}{x_{13}}, a_{45} : \\frac{r_{894} x_{12} x_{13} x_{23} - r_{892} x_{13}^{2} + {\\left(r_{898} x_{12}^{3} - r_{895} x_{12}^{2}\\right)} x_{23}^{2}}{x_{12}^{2} x_{13} x_{23} x_{24}}\\right\\}\\right]"
      ]
     },
     "execution_count": 51,
     "metadata": {},
     "output_type": "execute_result"
    }
   ],
   "source": [
    "#x4\n",
    "reset()\n",
    "\n",
    "var('x12,x13,x14,x15,x23,x24,x25,x34,x35,x45')\n",
    "var('d1,d2,d3,d4,d5')\n",
    "var('a12,a13,a14,a15,a23,a24,a25,a34,a35,a45')\n",
    "\n",
    "load_attach_path('C:\\\\Users\\\\julia\\\\Documents\\\\unb\\\\doutorado\\\\pensar\\\\codigo_sage_v2\\\\maquina\\\\x4')\n",
    "load('out_#110100.sage')\n",
    "\n",
    "m=matrix(QQ, [[0, 1, 0, 0, 0],\n",
    "              [0, 0, 1, 0, 0],\n",
    "              [0, 0, 0, 0, 1],\n",
    "              [0, 0, 0, 0, 0],\n",
    "              [0, 0, 0, 0, 0]])\n",
    "        \n",
    "#entry of matrix: (i,j) line i collum j, means (i-1,j-1)\n",
    "sol=solve([ eq1==m[0,1],\teq2==m[0,2],\teq3==m[0,3],\teq4==m[0,4],\t\n",
    "                                            eq5==m[1,2],    eq6==m[1,3],\n",
    "                                                            eq7==m[1,4], eq8==m[2,4]],d1,d2,d3,d4,d5,a12,a13,a14,a15,a23,a24,a25,a34,a35,a45, solution_dict=True)\n",
    "\n",
    "show(m)\n",
    "show(sol)\n",
    "latex(sol)"
   ]
  },
  {
   "cell_type": "code",
   "execution_count": 52,
   "metadata": {},
   "outputs": [
    {
     "data": {
      "text/html": [
       "<html><script type=\"math/tex; mode=display\">\\newcommand{\\Bold}[1]{\\mathbf{#1}}\\left(\\begin{array}{rrrrr}\n",
       "0 & 1 & 0 & 0 & 0 \\\\\n",
       "0 & 0 & 1 & 0 & 0 \\\\\n",
       "0 & 0 & 0 & 0 & 1 \\\\\n",
       "0 & 0 & 0 & 0 & 0 \\\\\n",
       "0 & 0 & 0 & 0 & 0\n",
       "\\end{array}\\right)</script></html>"
      ],
      "text/latex": [
       "$$\\newcommand{\\Bold}[1]{\\mathbf{#1}}\\left(\\begin{array}{rrrrr}\n",
       "0 & 1 & 0 & 0 & 0 \\\\\n",
       "0 & 0 & 1 & 0 & 0 \\\\\n",
       "0 & 0 & 0 & 0 & 1 \\\\\n",
       "0 & 0 & 0 & 0 & 0 \\\\\n",
       "0 & 0 & 0 & 0 & 0\n",
       "\\end{array}\\right)$$"
      ],
      "text/plain": [
       "[0 1 0 0 0]\n",
       "[0 0 1 0 0]\n",
       "[0 0 0 0 1]\n",
       "[0 0 0 0 0]\n",
       "[0 0 0 0 0]"
      ]
     },
     "metadata": {},
     "output_type": "display_data"
    },
    {
     "data": {
      "text/html": [
       "<html><script type=\"math/tex; mode=display\">\\newcommand{\\Bold}[1]{\\mathbf{#1}}\\left[\\left\\{d_{1} : 0, d_{2} : 0, d_{3} : 0, d_{4} : r_{899}, d_{5} : 0, a_{12} : r_{900}, a_{13} : r_{901}, a_{14} : r_{902}, a_{15} : r_{903}, a_{23} : r_{904}, a_{24} : r_{905}, a_{25} : r_{906}, a_{34} : -\\frac{r_{899} x_{24}}{x_{23}}, a_{35} : r_{907}, a_{45} : r_{908}\\right\\}, \\left\\{d_{1} : r_{909}, d_{2} : \\frac{r_{909}}{x_{12}}, d_{3} : \\frac{r_{909}}{x_{12} x_{23}}, d_{4} : r_{910}, d_{5} : \\frac{r_{909}}{x_{12} x_{23} x_{35}}, a_{12} : r_{911}, a_{13} : r_{912}, a_{14} : r_{913}, a_{15} : r_{914}, a_{23} : \\frac{r_{911} x_{12} x_{23} - r_{909} x_{13}}{x_{12}^{2} x_{23}}, a_{24} : \\frac{r_{910} x_{13} x_{24}}{x_{12} x_{23}}, a_{25} : r_{915}, a_{34} : -\\frac{r_{910} x_{24}}{x_{23}}, a_{35} : -\\frac{{\\left(r_{915} x_{12}^{2} - r_{912} x_{12}\\right)} x_{23} x_{35} + r_{909} x_{15}}{x_{12} x_{13} x_{23} x_{35}}, a_{45} : \\frac{r_{909} x_{12} x_{15} x_{23} + {\\left(r_{911} x_{12} x_{13} x_{23} - r_{909} x_{13}^{2} + {\\left(r_{915} x_{12}^{3} - r_{912} x_{12}^{2}\\right)} x_{23}^{2}\\right)} x_{35}}{x_{12}^{2} x_{13} x_{23} x_{24} x_{35}}\\right\\}\\right]</script></html>"
      ],
      "text/latex": [
       "$$\\newcommand{\\Bold}[1]{\\mathbf{#1}}\\left[\\left\\{d_{1} : 0, d_{2} : 0, d_{3} : 0, d_{4} : r_{899}, d_{5} : 0, a_{12} : r_{900}, a_{13} : r_{901}, a_{14} : r_{902}, a_{15} : r_{903}, a_{23} : r_{904}, a_{24} : r_{905}, a_{25} : r_{906}, a_{34} : -\\frac{r_{899} x_{24}}{x_{23}}, a_{35} : r_{907}, a_{45} : r_{908}\\right\\}, \\left\\{d_{1} : r_{909}, d_{2} : \\frac{r_{909}}{x_{12}}, d_{3} : \\frac{r_{909}}{x_{12} x_{23}}, d_{4} : r_{910}, d_{5} : \\frac{r_{909}}{x_{12} x_{23} x_{35}}, a_{12} : r_{911}, a_{13} : r_{912}, a_{14} : r_{913}, a_{15} : r_{914}, a_{23} : \\frac{r_{911} x_{12} x_{23} - r_{909} x_{13}}{x_{12}^{2} x_{23}}, a_{24} : \\frac{r_{910} x_{13} x_{24}}{x_{12} x_{23}}, a_{25} : r_{915}, a_{34} : -\\frac{r_{910} x_{24}}{x_{23}}, a_{35} : -\\frac{{\\left(r_{915} x_{12}^{2} - r_{912} x_{12}\\right)} x_{23} x_{35} + r_{909} x_{15}}{x_{12} x_{13} x_{23} x_{35}}, a_{45} : \\frac{r_{909} x_{12} x_{15} x_{23} + {\\left(r_{911} x_{12} x_{13} x_{23} - r_{909} x_{13}^{2} + {\\left(r_{915} x_{12}^{3} - r_{912} x_{12}^{2}\\right)} x_{23}^{2}\\right)} x_{35}}{x_{12}^{2} x_{13} x_{23} x_{24} x_{35}}\\right\\}\\right]$$"
      ],
      "text/plain": [
       "[{d1: 0,\n",
       "  d2: 0,\n",
       "  d3: 0,\n",
       "  d4: r899,\n",
       "  d5: 0,\n",
       "  a12: r900,\n",
       "  a13: r901,\n",
       "  a14: r902,\n",
       "  a15: r903,\n",
       "  a23: r904,\n",
       "  a24: r905,\n",
       "  a25: r906,\n",
       "  a34: -r899*x24/x23,\n",
       "  a35: r907,\n",
       "  a45: r908},\n",
       " {d1: r909,\n",
       "  d2: r909/x12,\n",
       "  d3: r909/(x12*x23),\n",
       "  d4: r910,\n",
       "  d5: r909/(x12*x23*x35),\n",
       "  a12: r911,\n",
       "  a13: r912,\n",
       "  a14: r913,\n",
       "  a15: r914,\n",
       "  a23: (r911*x12*x23 - r909*x13)/(x12^2*x23),\n",
       "  a24: r910*x13*x24/(x12*x23),\n",
       "  a25: r915,\n",
       "  a34: -r910*x24/x23,\n",
       "  a35: -((r915*x12^2 - r912*x12)*x23*x35 + r909*x15)/(x12*x13*x23*x35),\n",
       "  a45: (r909*x12*x15*x23 + (r911*x12*x13*x23 - r909*x13^2 + (r915*x12^3 - r912*x12^2)*x23^2)*x35)/(x12^2*x13*x23*x24*x35)}]"
      ]
     },
     "metadata": {},
     "output_type": "display_data"
    },
    {
     "data": {
      "text/plain": [
       "\\left[\\left\\{d_{1} : 0, d_{2} : 0, d_{3} : 0, d_{4} : r_{899}, d_{5} : 0, a_{12} : r_{900}, a_{13} : r_{901}, a_{14} : r_{902}, a_{15} : r_{903}, a_{23} : r_{904}, a_{24} : r_{905}, a_{25} : r_{906}, a_{34} : -\\frac{r_{899} x_{24}}{x_{23}}, a_{35} : r_{907}, a_{45} : r_{908}\\right\\}, \\left\\{d_{1} : r_{909}, d_{2} : \\frac{r_{909}}{x_{12}}, d_{3} : \\frac{r_{909}}{x_{12} x_{23}}, d_{4} : r_{910}, d_{5} : \\frac{r_{909}}{x_{12} x_{23} x_{35}}, a_{12} : r_{911}, a_{13} : r_{912}, a_{14} : r_{913}, a_{15} : r_{914}, a_{23} : \\frac{r_{911} x_{12} x_{23} - r_{909} x_{13}}{x_{12}^{2} x_{23}}, a_{24} : \\frac{r_{910} x_{13} x_{24}}{x_{12} x_{23}}, a_{25} : r_{915}, a_{34} : -\\frac{r_{910} x_{24}}{x_{23}}, a_{35} : -\\frac{{\\left(r_{915} x_{12}^{2} - r_{912} x_{12}\\right)} x_{23} x_{35} + r_{909} x_{15}}{x_{12} x_{13} x_{23} x_{35}}, a_{45} : \\frac{r_{909} x_{12} x_{15} x_{23} + {\\left(r_{911} x_{12} x_{13} x_{23} - r_{909} x_{13}^{2} + {\\left(r_{915} x_{12}^{3} - r_{912} x_{12}^{2}\\right)} x_{23}^{2}\\right)} x_{35}}{x_{12}^{2} x_{13} x_{23} x_{24} x_{35}}\\right\\}\\right]"
      ]
     },
     "execution_count": 52,
     "metadata": {},
     "output_type": "execute_result"
    }
   ],
   "source": [
    "#x4\n",
    "reset()\n",
    "\n",
    "var('x12,x13,x14,x15,x23,x24,x25,x34,x35,x45')\n",
    "var('d1,d2,d3,d4,d5')\n",
    "var('a12,a13,a14,a15,a23,a24,a25,a34,a35,a45')\n",
    "\n",
    "load_attach_path('C:\\\\Users\\\\julia\\\\Documents\\\\unb\\\\doutorado\\\\pensar\\\\codigo_sage_v2\\\\maquina\\\\x4')\n",
    "\n",
    "load('out_#110101.sage')\n",
    "m=matrix(QQ, [[0, 1, 0, 0, 0],\n",
    "              [0, 0, 1, 0, 0],\n",
    "              [0, 0, 0, 0, 1],\n",
    "              [0, 0, 0, 0, 0],\n",
    "              [0, 0, 0, 0, 0]])\n",
    "        \n",
    "#entry of matrix: (i,j) line i collum j, means (i-1,j-1)\n",
    "sol=solve([ eq1==m[0,1],\teq2==m[0,2],\teq3==m[0,3],\teq4==m[0,4],\t\n",
    "                                            eq5==m[1,2],    eq6==m[1,3],\n",
    "                                                            eq7==m[1,4], eq8==m[2,4]],d1,d2,d3,d4,d5,a12,a13,a14,a15,a23,a24,a25,a34,a35,a45, solution_dict=True)\n",
    "\n",
    "show(m)\n",
    "show(sol)\n",
    "latex(sol)"
   ]
  },
  {
   "cell_type": "code",
   "execution_count": 53,
   "metadata": {},
   "outputs": [
    {
     "data": {
      "text/html": [
       "<html><script type=\"math/tex; mode=display\">\\newcommand{\\Bold}[1]{\\mathbf{#1}}\\left(\\begin{array}{rrrrr}\n",
       "0 & 1 & 0 & 0 & 0 \\\\\n",
       "0 & 0 & 1 & 0 & 0 \\\\\n",
       "0 & 0 & 0 & 0 & 1 \\\\\n",
       "0 & 0 & 0 & 0 & 0 \\\\\n",
       "0 & 0 & 0 & 0 & 0\n",
       "\\end{array}\\right)</script></html>"
      ],
      "text/latex": [
       "$$\\newcommand{\\Bold}[1]{\\mathbf{#1}}\\left(\\begin{array}{rrrrr}\n",
       "0 & 1 & 0 & 0 & 0 \\\\\n",
       "0 & 0 & 1 & 0 & 0 \\\\\n",
       "0 & 0 & 0 & 0 & 1 \\\\\n",
       "0 & 0 & 0 & 0 & 0 \\\\\n",
       "0 & 0 & 0 & 0 & 0\n",
       "\\end{array}\\right)$$"
      ],
      "text/plain": [
       "[0 1 0 0 0]\n",
       "[0 0 1 0 0]\n",
       "[0 0 0 0 1]\n",
       "[0 0 0 0 0]\n",
       "[0 0 0 0 0]"
      ]
     },
     "metadata": {},
     "output_type": "display_data"
    },
    {
     "data": {
      "text/html": [
       "<html><script type=\"math/tex; mode=display\">\\newcommand{\\Bold}[1]{\\mathbf{#1}}\\left[\\left\\{d_{1} : 0, d_{2} : 0, d_{3} : 0, d_{4} : r_{916}, d_{5} : 0, a_{12} : r_{917}, a_{13} : r_{918}, a_{14} : r_{919}, a_{15} : r_{920}, a_{23} : r_{921}, a_{24} : r_{922}, a_{25} : r_{923}, a_{34} : -\\frac{r_{916} x_{24}}{x_{23}}, a_{35} : r_{924}, a_{45} : r_{925}\\right\\}, \\left\\{d_{1} : r_{926}, d_{2} : \\frac{r_{926}}{x_{12}}, d_{3} : \\frac{r_{926}}{x_{12} x_{23}}, d_{4} : r_{927}, d_{5} : \\frac{r_{926}}{x_{12} x_{23} x_{35}}, a_{12} : r_{928}, a_{13} : r_{929}, a_{14} : r_{930}, a_{15} : r_{931}, a_{23} : \\frac{r_{928} x_{12} x_{23} - r_{926} x_{13}}{x_{12}^{2} x_{23}}, a_{24} : -\\frac{r_{927} x_{14} x_{23} - r_{927} x_{13} x_{24}}{x_{12} x_{23}}, a_{25} : r_{932}, a_{34} : -\\frac{r_{927} x_{24}}{x_{23}}, a_{35} : \\frac{r_{928} x_{12} x_{14} x_{23} - r_{926} x_{13} x_{14} + {\\left(r_{932} x_{12}^{3} - r_{929} x_{12}^{2}\\right)} x_{23} x_{24}}{x_{12}^{2} x_{14} x_{23}^{2} - x_{12}^{2} x_{13} x_{23} x_{24}}, a_{45} : -\\frac{r_{928} x_{12} x_{13} x_{23} - r_{926} x_{13}^{2} + {\\left(r_{932} x_{12}^{3} - r_{929} x_{12}^{2}\\right)} x_{23}^{2}}{x_{12}^{2} x_{14} x_{23}^{2} - x_{12}^{2} x_{13} x_{23} x_{24}}\\right\\}\\right]</script></html>"
      ],
      "text/latex": [
       "$$\\newcommand{\\Bold}[1]{\\mathbf{#1}}\\left[\\left\\{d_{1} : 0, d_{2} : 0, d_{3} : 0, d_{4} : r_{916}, d_{5} : 0, a_{12} : r_{917}, a_{13} : r_{918}, a_{14} : r_{919}, a_{15} : r_{920}, a_{23} : r_{921}, a_{24} : r_{922}, a_{25} : r_{923}, a_{34} : -\\frac{r_{916} x_{24}}{x_{23}}, a_{35} : r_{924}, a_{45} : r_{925}\\right\\}, \\left\\{d_{1} : r_{926}, d_{2} : \\frac{r_{926}}{x_{12}}, d_{3} : \\frac{r_{926}}{x_{12} x_{23}}, d_{4} : r_{927}, d_{5} : \\frac{r_{926}}{x_{12} x_{23} x_{35}}, a_{12} : r_{928}, a_{13} : r_{929}, a_{14} : r_{930}, a_{15} : r_{931}, a_{23} : \\frac{r_{928} x_{12} x_{23} - r_{926} x_{13}}{x_{12}^{2} x_{23}}, a_{24} : -\\frac{r_{927} x_{14} x_{23} - r_{927} x_{13} x_{24}}{x_{12} x_{23}}, a_{25} : r_{932}, a_{34} : -\\frac{r_{927} x_{24}}{x_{23}}, a_{35} : \\frac{r_{928} x_{12} x_{14} x_{23} - r_{926} x_{13} x_{14} + {\\left(r_{932} x_{12}^{3} - r_{929} x_{12}^{2}\\right)} x_{23} x_{24}}{x_{12}^{2} x_{14} x_{23}^{2} - x_{12}^{2} x_{13} x_{23} x_{24}}, a_{45} : -\\frac{r_{928} x_{12} x_{13} x_{23} - r_{926} x_{13}^{2} + {\\left(r_{932} x_{12}^{3} - r_{929} x_{12}^{2}\\right)} x_{23}^{2}}{x_{12}^{2} x_{14} x_{23}^{2} - x_{12}^{2} x_{13} x_{23} x_{24}}\\right\\}\\right]$$"
      ],
      "text/plain": [
       "[{d1: 0,\n",
       "  d2: 0,\n",
       "  d3: 0,\n",
       "  d4: r916,\n",
       "  d5: 0,\n",
       "  a12: r917,\n",
       "  a13: r918,\n",
       "  a14: r919,\n",
       "  a15: r920,\n",
       "  a23: r921,\n",
       "  a24: r922,\n",
       "  a25: r923,\n",
       "  a34: -r916*x24/x23,\n",
       "  a35: r924,\n",
       "  a45: r925},\n",
       " {d1: r926,\n",
       "  d2: r926/x12,\n",
       "  d3: r926/(x12*x23),\n",
       "  d4: r927,\n",
       "  d5: r926/(x12*x23*x35),\n",
       "  a12: r928,\n",
       "  a13: r929,\n",
       "  a14: r930,\n",
       "  a15: r931,\n",
       "  a23: (r928*x12*x23 - r926*x13)/(x12^2*x23),\n",
       "  a24: -(r927*x14*x23 - r927*x13*x24)/(x12*x23),\n",
       "  a25: r932,\n",
       "  a34: -r927*x24/x23,\n",
       "  a35: (r928*x12*x14*x23 - r926*x13*x14 + (r932*x12^3 - r929*x12^2)*x23*x24)/(x12^2*x14*x23^2 - x12^2*x13*x23*x24),\n",
       "  a45: -(r928*x12*x13*x23 - r926*x13^2 + (r932*x12^3 - r929*x12^2)*x23^2)/(x12^2*x14*x23^2 - x12^2*x13*x23*x24)}]"
      ]
     },
     "metadata": {},
     "output_type": "display_data"
    },
    {
     "data": {
      "text/plain": [
       "\\left[\\left\\{d_{1} : 0, d_{2} : 0, d_{3} : 0, d_{4} : r_{916}, d_{5} : 0, a_{12} : r_{917}, a_{13} : r_{918}, a_{14} : r_{919}, a_{15} : r_{920}, a_{23} : r_{921}, a_{24} : r_{922}, a_{25} : r_{923}, a_{34} : -\\frac{r_{916} x_{24}}{x_{23}}, a_{35} : r_{924}, a_{45} : r_{925}\\right\\}, \\left\\{d_{1} : r_{926}, d_{2} : \\frac{r_{926}}{x_{12}}, d_{3} : \\frac{r_{926}}{x_{12} x_{23}}, d_{4} : r_{927}, d_{5} : \\frac{r_{926}}{x_{12} x_{23} x_{35}}, a_{12} : r_{928}, a_{13} : r_{929}, a_{14} : r_{930}, a_{15} : r_{931}, a_{23} : \\frac{r_{928} x_{12} x_{23} - r_{926} x_{13}}{x_{12}^{2} x_{23}}, a_{24} : -\\frac{r_{927} x_{14} x_{23} - r_{927} x_{13} x_{24}}{x_{12} x_{23}}, a_{25} : r_{932}, a_{34} : -\\frac{r_{927} x_{24}}{x_{23}}, a_{35} : \\frac{r_{928} x_{12} x_{14} x_{23} - r_{926} x_{13} x_{14} + {\\left(r_{932} x_{12}^{3} - r_{929} x_{12}^{2}\\right)} x_{23} x_{24}}{x_{12}^{2} x_{14} x_{23}^{2} - x_{12}^{2} x_{13} x_{23} x_{24}}, a_{45} : -\\frac{r_{928} x_{12} x_{13} x_{23} - r_{926} x_{13}^{2} + {\\left(r_{932} x_{12}^{3} - r_{929} x_{12}^{2}\\right)} x_{23}^{2}}{x_{12}^{2} x_{14} x_{23}^{2} - x_{12}^{2} x_{13} x_{23} x_{24}}\\right\\}\\right]"
      ]
     },
     "execution_count": 53,
     "metadata": {},
     "output_type": "execute_result"
    }
   ],
   "source": [
    "#x4\n",
    "#----------------------\n",
    "#x14 \\neq x13*x24/x23\n",
    "#----------------------\n",
    "reset()\n",
    "\n",
    "var('x12,x13,x14,x15,x23,x24,x25,x34,x35,x45')\n",
    "var('d1,d2,d3,d4,d5')\n",
    "var('a12,a13,a14,a15,a23,a24,a25,a34,a35,a45')\n",
    "\n",
    "\n",
    "load_attach_path('C:\\\\Users\\\\julia\\\\Documents\\\\unb\\\\doutorado\\\\pensar\\\\codigo_sage_v2\\\\maquina\\\\x4')\n",
    "load('out_#110110.sage')\n",
    "\n",
    "m=matrix(QQ, [[0, 1, 0, 0, 0],\n",
    "              [0, 0, 1, 0, 0],\n",
    "              [0, 0, 0, 0, 1],\n",
    "              [0, 0, 0, 0, 0],\n",
    "              [0, 0, 0, 0, 0]])\n",
    "        \n",
    "#entry of matrix: (i,j) line i collum j, means (i-1,j-1)\n",
    "sol=solve([ eq1==m[0,1],\teq2==m[0,2],\teq3==m[0,3],\teq4==m[0,4],\t\n",
    "                                            eq5==m[1,2],    eq6==m[1,3],\n",
    "                                                            eq7==m[1,4], eq8==m[2,4]],d1,d2,d3,d4,d5,a12,a13,a14,a15,a23,a24,a25,a34,a35,a45, solution_dict=True)\n",
    "\n",
    "show(m)\n",
    "show(sol)\n",
    "latex(sol)"
   ]
  },
  {
   "cell_type": "code",
   "execution_count": 54,
   "metadata": {},
   "outputs": [
    {
     "data": {
      "text/html": [
       "<html><script type=\"math/tex; mode=display\">\\newcommand{\\Bold}[1]{\\mathbf{#1}}\\left(\\begin{array}{rrrrr}\n",
       "0 & 1 & 0 & 0 & 0 \\\\\n",
       "0 & 0 & 1 & 0 & 0 \\\\\n",
       "0 & 0 & 0 & 0 & 1 \\\\\n",
       "0 & 0 & 0 & 0 & 0 \\\\\n",
       "0 & 0 & 0 & 0 & 0\n",
       "\\end{array}\\right)</script></html>"
      ],
      "text/latex": [
       "$$\\newcommand{\\Bold}[1]{\\mathbf{#1}}\\left(\\begin{array}{rrrrr}\n",
       "0 & 1 & 0 & 0 & 0 \\\\\n",
       "0 & 0 & 1 & 0 & 0 \\\\\n",
       "0 & 0 & 0 & 0 & 1 \\\\\n",
       "0 & 0 & 0 & 0 & 0 \\\\\n",
       "0 & 0 & 0 & 0 & 0\n",
       "\\end{array}\\right)$$"
      ],
      "text/plain": [
       "[0 1 0 0 0]\n",
       "[0 0 1 0 0]\n",
       "[0 0 0 0 1]\n",
       "[0 0 0 0 0]\n",
       "[0 0 0 0 0]"
      ]
     },
     "metadata": {},
     "output_type": "display_data"
    },
    {
     "data": {
      "text/html": [
       "<html><script type=\"math/tex; mode=display\">\\newcommand{\\Bold}[1]{\\mathbf{#1}}\\left[\\left\\{d_{1} : 0, d_{2} : 0, d_{3} : 0, d_{4} : r_{933}, d_{5} : 0, a_{12} : r_{934}, a_{13} : r_{935}, a_{14} : r_{936}, a_{15} : r_{937}, a_{23} : r_{938}, a_{24} : r_{939}, a_{25} : r_{940}, a_{34} : -\\frac{r_{933} x_{24}}{x_{23}}, a_{35} : r_{941}, a_{45} : r_{942}\\right\\}, \\left\\{d_{1} : r_{943}, d_{2} : \\frac{r_{943}}{x_{12}}, d_{3} : \\frac{r_{943}}{x_{12} x_{23}}, d_{4} : r_{944}, d_{5} : \\frac{r_{943}}{x_{12} x_{23} x_{35}}, a_{12} : r_{945}, a_{13} : r_{946}, a_{14} : r_{947}, a_{15} : r_{948}, a_{23} : \\frac{r_{945} x_{12} x_{23} - r_{943} x_{13}}{x_{12}^{2} x_{23}}, a_{24} : 0, a_{25} : \\frac{r_{946} x_{12}^{2} x_{23}^{2} - r_{945} x_{12} x_{13} x_{23} + r_{943} x_{13}^{2}}{x_{12}^{3} x_{23}^{2}}, a_{34} : -\\frac{r_{944} x_{24}}{x_{23}}, a_{35} : r_{949}, a_{45} : -\\frac{r_{949} x_{12}^{2} x_{23}^{2} - r_{945} x_{12} x_{23} + r_{943} x_{13}}{x_{12}^{2} x_{23} x_{24}}\\right\\}\\right]</script></html>"
      ],
      "text/latex": [
       "$$\\newcommand{\\Bold}[1]{\\mathbf{#1}}\\left[\\left\\{d_{1} : 0, d_{2} : 0, d_{3} : 0, d_{4} : r_{933}, d_{5} : 0, a_{12} : r_{934}, a_{13} : r_{935}, a_{14} : r_{936}, a_{15} : r_{937}, a_{23} : r_{938}, a_{24} : r_{939}, a_{25} : r_{940}, a_{34} : -\\frac{r_{933} x_{24}}{x_{23}}, a_{35} : r_{941}, a_{45} : r_{942}\\right\\}, \\left\\{d_{1} : r_{943}, d_{2} : \\frac{r_{943}}{x_{12}}, d_{3} : \\frac{r_{943}}{x_{12} x_{23}}, d_{4} : r_{944}, d_{5} : \\frac{r_{943}}{x_{12} x_{23} x_{35}}, a_{12} : r_{945}, a_{13} : r_{946}, a_{14} : r_{947}, a_{15} : r_{948}, a_{23} : \\frac{r_{945} x_{12} x_{23} - r_{943} x_{13}}{x_{12}^{2} x_{23}}, a_{24} : 0, a_{25} : \\frac{r_{946} x_{12}^{2} x_{23}^{2} - r_{945} x_{12} x_{13} x_{23} + r_{943} x_{13}^{2}}{x_{12}^{3} x_{23}^{2}}, a_{34} : -\\frac{r_{944} x_{24}}{x_{23}}, a_{35} : r_{949}, a_{45} : -\\frac{r_{949} x_{12}^{2} x_{23}^{2} - r_{945} x_{12} x_{23} + r_{943} x_{13}}{x_{12}^{2} x_{23} x_{24}}\\right\\}\\right]$$"
      ],
      "text/plain": [
       "[{d1: 0,\n",
       "  d2: 0,\n",
       "  d3: 0,\n",
       "  d4: r933,\n",
       "  d5: 0,\n",
       "  a12: r934,\n",
       "  a13: r935,\n",
       "  a14: r936,\n",
       "  a15: r937,\n",
       "  a23: r938,\n",
       "  a24: r939,\n",
       "  a25: r940,\n",
       "  a34: -r933*x24/x23,\n",
       "  a35: r941,\n",
       "  a45: r942},\n",
       " {d1: r943,\n",
       "  d2: r943/x12,\n",
       "  d3: r943/(x12*x23),\n",
       "  d4: r944,\n",
       "  d5: r943/(x12*x23*x35),\n",
       "  a12: r945,\n",
       "  a13: r946,\n",
       "  a14: r947,\n",
       "  a15: r948,\n",
       "  a23: (r945*x12*x23 - r943*x13)/(x12^2*x23),\n",
       "  a24: 0,\n",
       "  a25: (r946*x12^2*x23^2 - r945*x12*x13*x23 + r943*x13^2)/(x12^3*x23^2),\n",
       "  a34: -r944*x24/x23,\n",
       "  a35: r949,\n",
       "  a45: -(r949*x12^2*x23^2 - r945*x12*x23 + r943*x13)/(x12^2*x23*x24)}]"
      ]
     },
     "metadata": {},
     "output_type": "display_data"
    },
    {
     "data": {
      "text/plain": [
       "\\left[\\left\\{d_{1} : 0, d_{2} : 0, d_{3} : 0, d_{4} : r_{933}, d_{5} : 0, a_{12} : r_{934}, a_{13} : r_{935}, a_{14} : r_{936}, a_{15} : r_{937}, a_{23} : r_{938}, a_{24} : r_{939}, a_{25} : r_{940}, a_{34} : -\\frac{r_{933} x_{24}}{x_{23}}, a_{35} : r_{941}, a_{45} : r_{942}\\right\\}, \\left\\{d_{1} : r_{943}, d_{2} : \\frac{r_{943}}{x_{12}}, d_{3} : \\frac{r_{943}}{x_{12} x_{23}}, d_{4} : r_{944}, d_{5} : \\frac{r_{943}}{x_{12} x_{23} x_{35}}, a_{12} : r_{945}, a_{13} : r_{946}, a_{14} : r_{947}, a_{15} : r_{948}, a_{23} : \\frac{r_{945} x_{12} x_{23} - r_{943} x_{13}}{x_{12}^{2} x_{23}}, a_{24} : 0, a_{25} : \\frac{r_{946} x_{12}^{2} x_{23}^{2} - r_{945} x_{12} x_{13} x_{23} + r_{943} x_{13}^{2}}{x_{12}^{3} x_{23}^{2}}, a_{34} : -\\frac{r_{944} x_{24}}{x_{23}}, a_{35} : r_{949}, a_{45} : -\\frac{r_{949} x_{12}^{2} x_{23}^{2} - r_{945} x_{12} x_{23} + r_{943} x_{13}}{x_{12}^{2} x_{23} x_{24}}\\right\\}\\right]"
      ]
     },
     "execution_count": 54,
     "metadata": {},
     "output_type": "execute_result"
    }
   ],
   "source": [
    "#x4\n",
    "#----------------------\n",
    "#x14 = x13*x24/x23\n",
    "#----------------------\n",
    "reset()\n",
    "\n",
    "var('x12,x13,x14,x15,x23,x24,x25,x34,x35,x45')\n",
    "var('d1,d2,d3,d4,d5')\n",
    "var('a12,a13,a14,a15,a23,a24,a25,a34,a35,a45')\n",
    "\n",
    "#110110\n",
    "eq1=(d2*x12)/(d1) \n",
    "eq2=(a23*d2*x12+d2*d3*x13-a12*d3*x23)/(d1*d2) \n",
    "eq3=(a24*d2*x12+a34*d2*x13+d2*d4*((x13*x24)/x23)-a12*a34*x23-a12*d4*x24)/(d1*d2) \n",
    "eq4=(a25*d2*d3*x12+a35*d2*d3*x13+a45*d2*d3*((x13*x24)/x23)+d2*d3*d5*0-a12*a35*d3*x23-a12*a45*d3*x24-a12*d3*d5*0+a12*a23*d5*x35-a13*d2*d5*x35)/(d1*d2*d3) \n",
    "eq5=(d3*x23)/(d2) \n",
    "eq6=(a34*x23+d4*x24)/(d2) \n",
    "eq7=(a35*d3*x23+a45*d3*x24+d3*d5*0-a23*d5*x35)/(d2*d3) \n",
    "eq8=(d5*x35)/(d3) \n",
    "\n",
    "m=matrix(QQ, [[0, 1, 0, 0, 0],\n",
    "              [0, 0, 1, 0, 0],\n",
    "              [0, 0, 0, 0, 1],\n",
    "              [0, 0, 0, 0, 0],\n",
    "              [0, 0, 0, 0, 0]])\n",
    "        \n",
    "#entry of matrix: (i,j) line i collum j, means (i-1,j-1)\n",
    "sol=solve([ eq1==m[0,1],\teq2==m[0,2],\teq3==m[0,3],\teq4==m[0,4],\t\n",
    "                                            eq5==m[1,2],    eq6==m[1,3],\n",
    "                                                            eq7==m[1,4], eq8==m[2,4]],d1,d2,d3,d4,d5,a12,a13,a14,a15,a23,a24,a25,a34,a35,a45, solution_dict=True)\n",
    "\n",
    "show(m)\n",
    "show(sol)\n",
    "latex(sol)"
   ]
  },
  {
   "cell_type": "code",
   "execution_count": 55,
   "metadata": {},
   "outputs": [
    {
     "data": {
      "text/html": [
       "<html><script type=\"math/tex; mode=display\">\\newcommand{\\Bold}[1]{\\mathbf{#1}}\\left(\\begin{array}{rrrrr}\n",
       "0 & 1 & 0 & 0 & 0 \\\\\n",
       "0 & 0 & 1 & 0 & 0 \\\\\n",
       "0 & 0 & 0 & 0 & 1 \\\\\n",
       "0 & 0 & 0 & 0 & 0 \\\\\n",
       "0 & 0 & 0 & 0 & 0\n",
       "\\end{array}\\right)</script></html>"
      ],
      "text/latex": [
       "$$\\newcommand{\\Bold}[1]{\\mathbf{#1}}\\left(\\begin{array}{rrrrr}\n",
       "0 & 1 & 0 & 0 & 0 \\\\\n",
       "0 & 0 & 1 & 0 & 0 \\\\\n",
       "0 & 0 & 0 & 0 & 1 \\\\\n",
       "0 & 0 & 0 & 0 & 0 \\\\\n",
       "0 & 0 & 0 & 0 & 0\n",
       "\\end{array}\\right)$$"
      ],
      "text/plain": [
       "[0 1 0 0 0]\n",
       "[0 0 1 0 0]\n",
       "[0 0 0 0 1]\n",
       "[0 0 0 0 0]\n",
       "[0 0 0 0 0]"
      ]
     },
     "metadata": {},
     "output_type": "display_data"
    },
    {
     "data": {
      "text/html": [
       "<html><script type=\"math/tex; mode=display\">\\newcommand{\\Bold}[1]{\\mathbf{#1}}\\left[\\left\\{d_{1} : 0, d_{2} : 0, d_{3} : 0, d_{4} : r_{950}, d_{5} : 0, a_{12} : r_{951}, a_{13} : r_{952}, a_{14} : r_{953}, a_{15} : r_{954}, a_{23} : r_{955}, a_{24} : r_{956}, a_{25} : r_{957}, a_{34} : -\\frac{r_{950} x_{24}}{x_{23}}, a_{35} : r_{958}, a_{45} : r_{959}\\right\\}, \\left\\{d_{1} : r_{960}, d_{2} : \\frac{r_{960}}{x_{12}}, d_{3} : \\frac{r_{960}}{x_{12} x_{23}}, d_{4} : r_{961}, d_{5} : \\frac{r_{960}}{x_{12} x_{23} x_{35}}, a_{12} : r_{962}, a_{13} : r_{963}, a_{14} : r_{964}, a_{15} : r_{965}, a_{23} : \\frac{r_{962} x_{12} x_{23} - r_{960} x_{13}}{x_{12}^{2} x_{23}}, a_{24} : -\\frac{r_{961} x_{14} x_{23} - r_{961} x_{13} x_{24}}{x_{12} x_{23}}, a_{25} : r_{966}, a_{34} : -\\frac{r_{961} x_{24}}{x_{23}}, a_{35} : \\frac{r_{960} x_{12} x_{15} x_{24} + {\\left(r_{962} x_{12} x_{14} x_{23} - r_{960} x_{13} x_{14} + {\\left(r_{966} x_{12}^{3} - r_{963} x_{12}^{2}\\right)} x_{23} x_{24}\\right)} x_{35}}{{\\left(x_{12}^{2} x_{14} x_{23}^{2} - x_{12}^{2} x_{13} x_{23} x_{24}\\right)} x_{35}}, a_{45} : -\\frac{r_{960} x_{12} x_{15} x_{23} + {\\left(r_{962} x_{12} x_{13} x_{23} - r_{960} x_{13}^{2} + {\\left(r_{966} x_{12}^{3} - r_{963} x_{12}^{2}\\right)} x_{23}^{2}\\right)} x_{35}}{{\\left(x_{12}^{2} x_{14} x_{23}^{2} - x_{12}^{2} x_{13} x_{23} x_{24}\\right)} x_{35}}\\right\\}\\right]</script></html>"
      ],
      "text/latex": [
       "$$\\newcommand{\\Bold}[1]{\\mathbf{#1}}\\left[\\left\\{d_{1} : 0, d_{2} : 0, d_{3} : 0, d_{4} : r_{950}, d_{5} : 0, a_{12} : r_{951}, a_{13} : r_{952}, a_{14} : r_{953}, a_{15} : r_{954}, a_{23} : r_{955}, a_{24} : r_{956}, a_{25} : r_{957}, a_{34} : -\\frac{r_{950} x_{24}}{x_{23}}, a_{35} : r_{958}, a_{45} : r_{959}\\right\\}, \\left\\{d_{1} : r_{960}, d_{2} : \\frac{r_{960}}{x_{12}}, d_{3} : \\frac{r_{960}}{x_{12} x_{23}}, d_{4} : r_{961}, d_{5} : \\frac{r_{960}}{x_{12} x_{23} x_{35}}, a_{12} : r_{962}, a_{13} : r_{963}, a_{14} : r_{964}, a_{15} : r_{965}, a_{23} : \\frac{r_{962} x_{12} x_{23} - r_{960} x_{13}}{x_{12}^{2} x_{23}}, a_{24} : -\\frac{r_{961} x_{14} x_{23} - r_{961} x_{13} x_{24}}{x_{12} x_{23}}, a_{25} : r_{966}, a_{34} : -\\frac{r_{961} x_{24}}{x_{23}}, a_{35} : \\frac{r_{960} x_{12} x_{15} x_{24} + {\\left(r_{962} x_{12} x_{14} x_{23} - r_{960} x_{13} x_{14} + {\\left(r_{966} x_{12}^{3} - r_{963} x_{12}^{2}\\right)} x_{23} x_{24}\\right)} x_{35}}{{\\left(x_{12}^{2} x_{14} x_{23}^{2} - x_{12}^{2} x_{13} x_{23} x_{24}\\right)} x_{35}}, a_{45} : -\\frac{r_{960} x_{12} x_{15} x_{23} + {\\left(r_{962} x_{12} x_{13} x_{23} - r_{960} x_{13}^{2} + {\\left(r_{966} x_{12}^{3} - r_{963} x_{12}^{2}\\right)} x_{23}^{2}\\right)} x_{35}}{{\\left(x_{12}^{2} x_{14} x_{23}^{2} - x_{12}^{2} x_{13} x_{23} x_{24}\\right)} x_{35}}\\right\\}\\right]$$"
      ],
      "text/plain": [
       "[{d1: 0,\n",
       "  d2: 0,\n",
       "  d3: 0,\n",
       "  d4: r950,\n",
       "  d5: 0,\n",
       "  a12: r951,\n",
       "  a13: r952,\n",
       "  a14: r953,\n",
       "  a15: r954,\n",
       "  a23: r955,\n",
       "  a24: r956,\n",
       "  a25: r957,\n",
       "  a34: -r950*x24/x23,\n",
       "  a35: r958,\n",
       "  a45: r959},\n",
       " {d1: r960,\n",
       "  d2: r960/x12,\n",
       "  d3: r960/(x12*x23),\n",
       "  d4: r961,\n",
       "  d5: r960/(x12*x23*x35),\n",
       "  a12: r962,\n",
       "  a13: r963,\n",
       "  a14: r964,\n",
       "  a15: r965,\n",
       "  a23: (r962*x12*x23 - r960*x13)/(x12^2*x23),\n",
       "  a24: -(r961*x14*x23 - r961*x13*x24)/(x12*x23),\n",
       "  a25: r966,\n",
       "  a34: -r961*x24/x23,\n",
       "  a35: (r960*x12*x15*x24 + (r962*x12*x14*x23 - r960*x13*x14 + (r966*x12^3 - r963*x12^2)*x23*x24)*x35)/((x12^2*x14*x23^2 - x12^2*x13*x23*x24)*x35),\n",
       "  a45: -(r960*x12*x15*x23 + (r962*x12*x13*x23 - r960*x13^2 + (r966*x12^3 - r963*x12^2)*x23^2)*x35)/((x12^2*x14*x23^2 - x12^2*x13*x23*x24)*x35)}]"
      ]
     },
     "metadata": {},
     "output_type": "display_data"
    },
    {
     "data": {
      "text/plain": [
       "\\left[\\left\\{d_{1} : 0, d_{2} : 0, d_{3} : 0, d_{4} : r_{950}, d_{5} : 0, a_{12} : r_{951}, a_{13} : r_{952}, a_{14} : r_{953}, a_{15} : r_{954}, a_{23} : r_{955}, a_{24} : r_{956}, a_{25} : r_{957}, a_{34} : -\\frac{r_{950} x_{24}}{x_{23}}, a_{35} : r_{958}, a_{45} : r_{959}\\right\\}, \\left\\{d_{1} : r_{960}, d_{2} : \\frac{r_{960}}{x_{12}}, d_{3} : \\frac{r_{960}}{x_{12} x_{23}}, d_{4} : r_{961}, d_{5} : \\frac{r_{960}}{x_{12} x_{23} x_{35}}, a_{12} : r_{962}, a_{13} : r_{963}, a_{14} : r_{964}, a_{15} : r_{965}, a_{23} : \\frac{r_{962} x_{12} x_{23} - r_{960} x_{13}}{x_{12}^{2} x_{23}}, a_{24} : -\\frac{r_{961} x_{14} x_{23} - r_{961} x_{13} x_{24}}{x_{12} x_{23}}, a_{25} : r_{966}, a_{34} : -\\frac{r_{961} x_{24}}{x_{23}}, a_{35} : \\frac{r_{960} x_{12} x_{15} x_{24} + {\\left(r_{962} x_{12} x_{14} x_{23} - r_{960} x_{13} x_{14} + {\\left(r_{966} x_{12}^{3} - r_{963} x_{12}^{2}\\right)} x_{23} x_{24}\\right)} x_{35}}{{\\left(x_{12}^{2} x_{14} x_{23}^{2} - x_{12}^{2} x_{13} x_{23} x_{24}\\right)} x_{35}}, a_{45} : -\\frac{r_{960} x_{12} x_{15} x_{23} + {\\left(r_{962} x_{12} x_{13} x_{23} - r_{960} x_{13}^{2} + {\\left(r_{966} x_{12}^{3} - r_{963} x_{12}^{2}\\right)} x_{23}^{2}\\right)} x_{35}}{{\\left(x_{12}^{2} x_{14} x_{23}^{2} - x_{12}^{2} x_{13} x_{23} x_{24}\\right)} x_{35}}\\right\\}\\right]"
      ]
     },
     "execution_count": 55,
     "metadata": {},
     "output_type": "execute_result"
    }
   ],
   "source": [
    "#x4\n",
    "#----------------------\n",
    "#x14 \\neq x13*x24/x23\n",
    "#----------------------\n",
    "reset()\n",
    "\n",
    "var('x12,x13,x14,x15,x23,x24,x25,x34,x35,x45')\n",
    "var('d1,d2,d3,d4,d5')\n",
    "var('a12,a13,a14,a15,a23,a24,a25,a34,a35,a45')\n",
    "\n",
    "load_attach_path('C:\\\\Users\\\\julia\\\\Documents\\\\unb\\\\doutorado\\\\pensar\\\\codigo_sage_v2\\\\maquina\\\\x4')\n",
    "load('out_#110111.sage')\n",
    "\n",
    "m=matrix(QQ, [[0, 1, 0, 0, 0],\n",
    "              [0, 0, 1, 0, 0],\n",
    "              [0, 0, 0, 0, 1],\n",
    "              [0, 0, 0, 0, 0],\n",
    "              [0, 0, 0, 0, 0]])\n",
    "        \n",
    "#entry of matrix: (i,j) line i collum j, means (i-1,j-1)\n",
    "sol=solve([ eq1==m[0,1],\teq2==m[0,2],\teq3==m[0,3],\teq4==m[0,4],\t\n",
    "                                            eq5==m[1,2],    eq6==m[1,3],\n",
    "                                                            eq7==m[1,4], eq8==m[2,4]],d1,d2,d3,d4,d5,a12,a13,a14,a15,a23,a24,a25,a34,a35,a45, solution_dict=True)\n",
    "\n",
    "show(m)\n",
    "show(sol)\n",
    "latex(sol)"
   ]
  },
  {
   "cell_type": "code",
   "execution_count": 56,
   "metadata": {},
   "outputs": [
    {
     "data": {
      "text/html": [
       "<html><script type=\"math/tex; mode=display\">\\newcommand{\\Bold}[1]{\\mathbf{#1}}\\left(\\begin{array}{rrrrr}\n",
       "0 & 1 & 0 & 0 & 0 \\\\\n",
       "0 & 0 & 1 & 0 & 0 \\\\\n",
       "0 & 0 & 0 & 0 & 1 \\\\\n",
       "0 & 0 & 0 & 0 & 0 \\\\\n",
       "0 & 0 & 0 & 0 & 0\n",
       "\\end{array}\\right)</script></html>"
      ],
      "text/latex": [
       "$$\\newcommand{\\Bold}[1]{\\mathbf{#1}}\\left(\\begin{array}{rrrrr}\n",
       "0 & 1 & 0 & 0 & 0 \\\\\n",
       "0 & 0 & 1 & 0 & 0 \\\\\n",
       "0 & 0 & 0 & 0 & 1 \\\\\n",
       "0 & 0 & 0 & 0 & 0 \\\\\n",
       "0 & 0 & 0 & 0 & 0\n",
       "\\end{array}\\right)$$"
      ],
      "text/plain": [
       "[0 1 0 0 0]\n",
       "[0 0 1 0 0]\n",
       "[0 0 0 0 1]\n",
       "[0 0 0 0 0]\n",
       "[0 0 0 0 0]"
      ]
     },
     "metadata": {},
     "output_type": "display_data"
    },
    {
     "data": {
      "text/html": [
       "<html><script type=\"math/tex; mode=display\">\\newcommand{\\Bold}[1]{\\mathbf{#1}}\\left[\\left\\{d_{1} : 0, d_{2} : 0, d_{3} : 0, d_{4} : r_{967}, d_{5} : 0, a_{12} : r_{968}, a_{13} : r_{969}, a_{14} : r_{970}, a_{15} : r_{971}, a_{23} : r_{972}, a_{24} : r_{973}, a_{25} : r_{974}, a_{34} : -\\frac{r_{967} x_{24}}{x_{23}}, a_{35} : r_{975}, a_{45} : r_{976}\\right\\}, \\left\\{d_{1} : r_{977}, d_{2} : \\frac{r_{977}}{x_{12}}, d_{3} : \\frac{r_{977}}{x_{12} x_{23}}, d_{4} : r_{978}, d_{5} : \\frac{r_{977}}{x_{12} x_{23} x_{35}}, a_{12} : r_{979}, a_{13} : r_{980}, a_{14} : r_{981}, a_{15} : r_{982}, a_{23} : \\frac{r_{979} x_{12} x_{23} - r_{977} x_{13}}{x_{12}^{2} x_{23}}, a_{24} : 0, a_{25} : -\\frac{r_{977} x_{12} x_{15} x_{23} - {\\left(r_{980} x_{12}^{2} x_{23}^{2} - r_{979} x_{12} x_{13} x_{23} + r_{977} x_{13}^{2}\\right)} x_{35}}{x_{12}^{3} x_{23}^{2} x_{35}}, a_{34} : -\\frac{r_{978} x_{24}}{x_{23}}, a_{35} : r_{983}, a_{45} : -\\frac{r_{983} x_{12}^{2} x_{23}^{2} - r_{979} x_{12} x_{23} + r_{977} x_{13}}{x_{12}^{2} x_{23} x_{24}}\\right\\}\\right]</script></html>"
      ],
      "text/latex": [
       "$$\\newcommand{\\Bold}[1]{\\mathbf{#1}}\\left[\\left\\{d_{1} : 0, d_{2} : 0, d_{3} : 0, d_{4} : r_{967}, d_{5} : 0, a_{12} : r_{968}, a_{13} : r_{969}, a_{14} : r_{970}, a_{15} : r_{971}, a_{23} : r_{972}, a_{24} : r_{973}, a_{25} : r_{974}, a_{34} : -\\frac{r_{967} x_{24}}{x_{23}}, a_{35} : r_{975}, a_{45} : r_{976}\\right\\}, \\left\\{d_{1} : r_{977}, d_{2} : \\frac{r_{977}}{x_{12}}, d_{3} : \\frac{r_{977}}{x_{12} x_{23}}, d_{4} : r_{978}, d_{5} : \\frac{r_{977}}{x_{12} x_{23} x_{35}}, a_{12} : r_{979}, a_{13} : r_{980}, a_{14} : r_{981}, a_{15} : r_{982}, a_{23} : \\frac{r_{979} x_{12} x_{23} - r_{977} x_{13}}{x_{12}^{2} x_{23}}, a_{24} : 0, a_{25} : -\\frac{r_{977} x_{12} x_{15} x_{23} - {\\left(r_{980} x_{12}^{2} x_{23}^{2} - r_{979} x_{12} x_{13} x_{23} + r_{977} x_{13}^{2}\\right)} x_{35}}{x_{12}^{3} x_{23}^{2} x_{35}}, a_{34} : -\\frac{r_{978} x_{24}}{x_{23}}, a_{35} : r_{983}, a_{45} : -\\frac{r_{983} x_{12}^{2} x_{23}^{2} - r_{979} x_{12} x_{23} + r_{977} x_{13}}{x_{12}^{2} x_{23} x_{24}}\\right\\}\\right]$$"
      ],
      "text/plain": [
       "[{d1: 0,\n",
       "  d2: 0,\n",
       "  d3: 0,\n",
       "  d4: r967,\n",
       "  d5: 0,\n",
       "  a12: r968,\n",
       "  a13: r969,\n",
       "  a14: r970,\n",
       "  a15: r971,\n",
       "  a23: r972,\n",
       "  a24: r973,\n",
       "  a25: r974,\n",
       "  a34: -r967*x24/x23,\n",
       "  a35: r975,\n",
       "  a45: r976},\n",
       " {d1: r977,\n",
       "  d2: r977/x12,\n",
       "  d3: r977/(x12*x23),\n",
       "  d4: r978,\n",
       "  d5: r977/(x12*x23*x35),\n",
       "  a12: r979,\n",
       "  a13: r980,\n",
       "  a14: r981,\n",
       "  a15: r982,\n",
       "  a23: (r979*x12*x23 - r977*x13)/(x12^2*x23),\n",
       "  a24: 0,\n",
       "  a25: -(r977*x12*x15*x23 - (r980*x12^2*x23^2 - r979*x12*x13*x23 + r977*x13^2)*x35)/(x12^3*x23^2*x35),\n",
       "  a34: -r978*x24/x23,\n",
       "  a35: r983,\n",
       "  a45: -(r983*x12^2*x23^2 - r979*x12*x23 + r977*x13)/(x12^2*x23*x24)}]"
      ]
     },
     "metadata": {},
     "output_type": "display_data"
    },
    {
     "data": {
      "text/plain": [
       "\\left[\\left\\{d_{1} : 0, d_{2} : 0, d_{3} : 0, d_{4} : r_{967}, d_{5} : 0, a_{12} : r_{968}, a_{13} : r_{969}, a_{14} : r_{970}, a_{15} : r_{971}, a_{23} : r_{972}, a_{24} : r_{973}, a_{25} : r_{974}, a_{34} : -\\frac{r_{967} x_{24}}{x_{23}}, a_{35} : r_{975}, a_{45} : r_{976}\\right\\}, \\left\\{d_{1} : r_{977}, d_{2} : \\frac{r_{977}}{x_{12}}, d_{3} : \\frac{r_{977}}{x_{12} x_{23}}, d_{4} : r_{978}, d_{5} : \\frac{r_{977}}{x_{12} x_{23} x_{35}}, a_{12} : r_{979}, a_{13} : r_{980}, a_{14} : r_{981}, a_{15} : r_{982}, a_{23} : \\frac{r_{979} x_{12} x_{23} - r_{977} x_{13}}{x_{12}^{2} x_{23}}, a_{24} : 0, a_{25} : -\\frac{r_{977} x_{12} x_{15} x_{23} - {\\left(r_{980} x_{12}^{2} x_{23}^{2} - r_{979} x_{12} x_{13} x_{23} + r_{977} x_{13}^{2}\\right)} x_{35}}{x_{12}^{3} x_{23}^{2} x_{35}}, a_{34} : -\\frac{r_{978} x_{24}}{x_{23}}, a_{35} : r_{983}, a_{45} : -\\frac{r_{983} x_{12}^{2} x_{23}^{2} - r_{979} x_{12} x_{23} + r_{977} x_{13}}{x_{12}^{2} x_{23} x_{24}}\\right\\}\\right]"
      ]
     },
     "execution_count": 56,
     "metadata": {},
     "output_type": "execute_result"
    }
   ],
   "source": [
    "#x4\n",
    "#----------------------\n",
    "#x14 = x13*x24/x23\n",
    "#----------------------\n",
    "reset()\n",
    "\n",
    "var('x12,x13,x14,x15,x23,x24,x25,x34,x35,x45')\n",
    "var('d1,d2,d3,d4,d5')\n",
    "var('a12,a13,a14,a15,a23,a24,a25,a34,a35,a45')\n",
    "\n",
    "#110111\n",
    "eq1=(d2*x12)/(d1) \n",
    "eq2=(a23*d2*x12+d2*d3*x13-a12*d3*x23)/(d1*d2) \n",
    "eq3=(a24*d2*x12+a34*d2*x13+d2*d4*((x13*x24)/x23)-a12*a34*x23-a12*d4*x24)/(d1*d2) \n",
    "eq4=(a25*d2*d3*x12+a35*d2*d3*x13+a45*d2*d3*((x13*x24)/x23)+d2*d3*d5*x15-a12*a35*d3*x23-a12*a45*d3*x24-a12*d3*d5*0+a12*a23*d5*x35-a13*d2*d5*x35)/(d1*d2*d3) \n",
    "eq5=(d3*x23)/(d2) \n",
    "eq6=(a34*x23+d4*x24)/(d2) \n",
    "eq7=(a35*d3*x23+a45*d3*x24+d3*d5*0-a23*d5*x35)/(d2*d3) \n",
    "eq8=(d5*x35)/(d3) \n",
    "\n",
    "m=matrix(QQ, [[0, 1, 0, 0, 0],\n",
    "              [0, 0, 1, 0, 0],\n",
    "              [0, 0, 0, 0, 1],\n",
    "              [0, 0, 0, 0, 0],\n",
    "              [0, 0, 0, 0, 0]])\n",
    "        \n",
    "#entry of matrix: (i,j) line i collum j, means (i-1,j-1)\n",
    "sol=solve([ eq1==m[0,1],\teq2==m[0,2],\teq3==m[0,3],\teq4==m[0,4],\t\n",
    "                                            eq5==m[1,2],    eq6==m[1,3],\n",
    "                                                            eq7==m[1,4], eq8==m[2,4]],d1,d2,d3,d4,d5,a12,a13,a14,a15,a23,a24,a25,a34,a35,a45, solution_dict=True)\n",
    "\n",
    "show(m)\n",
    "show(sol)\n",
    "latex(sol)"
   ]
  },
  {
   "cell_type": "code",
   "execution_count": 57,
   "metadata": {},
   "outputs": [
    {
     "data": {
      "text/html": [
       "<html><script type=\"math/tex; mode=display\">\\newcommand{\\Bold}[1]{\\mathbf{#1}}\\left(\\begin{array}{rrrrr}\n",
       "0 & 1 & 0 & 0 & 0 \\\\\n",
       "0 & 0 & 1 & 0 & 0 \\\\\n",
       "0 & 0 & 0 & 0 & 1 \\\\\n",
       "0 & 0 & 0 & 0 & 0 \\\\\n",
       "0 & 0 & 0 & 0 & 0\n",
       "\\end{array}\\right)</script></html>"
      ],
      "text/latex": [
       "$$\\newcommand{\\Bold}[1]{\\mathbf{#1}}\\left(\\begin{array}{rrrrr}\n",
       "0 & 1 & 0 & 0 & 0 \\\\\n",
       "0 & 0 & 1 & 0 & 0 \\\\\n",
       "0 & 0 & 0 & 0 & 1 \\\\\n",
       "0 & 0 & 0 & 0 & 0 \\\\\n",
       "0 & 0 & 0 & 0 & 0\n",
       "\\end{array}\\right)$$"
      ],
      "text/plain": [
       "[0 1 0 0 0]\n",
       "[0 0 1 0 0]\n",
       "[0 0 0 0 1]\n",
       "[0 0 0 0 0]\n",
       "[0 0 0 0 0]"
      ]
     },
     "metadata": {},
     "output_type": "display_data"
    },
    {
     "data": {
      "text/html": [
       "<html><script type=\"math/tex; mode=display\">\\newcommand{\\Bold}[1]{\\mathbf{#1}}\\left[\\left\\{d_{1} : 0, d_{2} : 0, d_{3} : 0, d_{4} : r_{984}, d_{5} : 0, a_{12} : r_{985}, a_{13} : r_{986}, a_{14} : r_{987}, a_{15} : r_{988}, a_{23} : r_{989}, a_{24} : r_{990}, a_{25} : r_{991}, a_{34} : -\\frac{r_{984} x_{24}}{x_{23}}, a_{35} : r_{992}, a_{45} : r_{993}\\right\\}, \\left\\{d_{1} : r_{994}, d_{2} : \\frac{r_{994}}{x_{12}}, d_{3} : \\frac{r_{994}}{x_{12} x_{23}}, d_{4} : r_{995}, d_{5} : \\frac{r_{994}}{x_{12} x_{23} x_{35}}, a_{12} : r_{996}, a_{13} : r_{997}, a_{14} : r_{998}, a_{15} : r_{999}, a_{23} : \\frac{r_{996}}{x_{12}}, a_{24} : 0, a_{25} : \\frac{r_{997}}{x_{12}}, a_{34} : -\\frac{r_{995} x_{24}}{x_{23}}, a_{35} : r_{1000}, a_{45} : -\\frac{r_{994} x_{25} + {\\left(r_{1000} x_{12} x_{23}^{2} - r_{996} x_{23}\\right)} x_{35}}{x_{12} x_{23} x_{24} x_{35}}\\right\\}\\right]</script></html>"
      ],
      "text/latex": [
       "$$\\newcommand{\\Bold}[1]{\\mathbf{#1}}\\left[\\left\\{d_{1} : 0, d_{2} : 0, d_{3} : 0, d_{4} : r_{984}, d_{5} : 0, a_{12} : r_{985}, a_{13} : r_{986}, a_{14} : r_{987}, a_{15} : r_{988}, a_{23} : r_{989}, a_{24} : r_{990}, a_{25} : r_{991}, a_{34} : -\\frac{r_{984} x_{24}}{x_{23}}, a_{35} : r_{992}, a_{45} : r_{993}\\right\\}, \\left\\{d_{1} : r_{994}, d_{2} : \\frac{r_{994}}{x_{12}}, d_{3} : \\frac{r_{994}}{x_{12} x_{23}}, d_{4} : r_{995}, d_{5} : \\frac{r_{994}}{x_{12} x_{23} x_{35}}, a_{12} : r_{996}, a_{13} : r_{997}, a_{14} : r_{998}, a_{15} : r_{999}, a_{23} : \\frac{r_{996}}{x_{12}}, a_{24} : 0, a_{25} : \\frac{r_{997}}{x_{12}}, a_{34} : -\\frac{r_{995} x_{24}}{x_{23}}, a_{35} : r_{1000}, a_{45} : -\\frac{r_{994} x_{25} + {\\left(r_{1000} x_{12} x_{23}^{2} - r_{996} x_{23}\\right)} x_{35}}{x_{12} x_{23} x_{24} x_{35}}\\right\\}\\right]$$"
      ],
      "text/plain": [
       "[{d1: 0,\n",
       "  d2: 0,\n",
       "  d3: 0,\n",
       "  d4: r984,\n",
       "  d5: 0,\n",
       "  a12: r985,\n",
       "  a13: r986,\n",
       "  a14: r987,\n",
       "  a15: r988,\n",
       "  a23: r989,\n",
       "  a24: r990,\n",
       "  a25: r991,\n",
       "  a34: -r984*x24/x23,\n",
       "  a35: r992,\n",
       "  a45: r993},\n",
       " {d1: r994,\n",
       "  d2: r994/x12,\n",
       "  d3: r994/(x12*x23),\n",
       "  d4: r995,\n",
       "  d5: r994/(x12*x23*x35),\n",
       "  a12: r996,\n",
       "  a13: r997,\n",
       "  a14: r998,\n",
       "  a15: r999,\n",
       "  a23: r996/x12,\n",
       "  a24: 0,\n",
       "  a25: r997/x12,\n",
       "  a34: -r995*x24/x23,\n",
       "  a35: r1000,\n",
       "  a45: -(r994*x25 + (r1000*x12*x23^2 - r996*x23)*x35)/(x12*x23*x24*x35)}]"
      ]
     },
     "metadata": {},
     "output_type": "display_data"
    },
    {
     "data": {
      "text/plain": [
       "\\left[\\left\\{d_{1} : 0, d_{2} : 0, d_{3} : 0, d_{4} : r_{984}, d_{5} : 0, a_{12} : r_{985}, a_{13} : r_{986}, a_{14} : r_{987}, a_{15} : r_{988}, a_{23} : r_{989}, a_{24} : r_{990}, a_{25} : r_{991}, a_{34} : -\\frac{r_{984} x_{24}}{x_{23}}, a_{35} : r_{992}, a_{45} : r_{993}\\right\\}, \\left\\{d_{1} : r_{994}, d_{2} : \\frac{r_{994}}{x_{12}}, d_{3} : \\frac{r_{994}}{x_{12} x_{23}}, d_{4} : r_{995}, d_{5} : \\frac{r_{994}}{x_{12} x_{23} x_{35}}, a_{12} : r_{996}, a_{13} : r_{997}, a_{14} : r_{998}, a_{15} : r_{999}, a_{23} : \\frac{r_{996}}{x_{12}}, a_{24} : 0, a_{25} : \\frac{r_{997}}{x_{12}}, a_{34} : -\\frac{r_{995} x_{24}}{x_{23}}, a_{35} : r_{1000}, a_{45} : -\\frac{r_{994} x_{25} + {\\left(r_{1000} x_{12} x_{23}^{2} - r_{996} x_{23}\\right)} x_{35}}{x_{12} x_{23} x_{24} x_{35}}\\right\\}\\right]"
      ]
     },
     "execution_count": 57,
     "metadata": {},
     "output_type": "execute_result"
    }
   ],
   "source": [
    "#x4\n",
    "reset()\n",
    "\n",
    "var('x12,x13,x14,x15,x23,x24,x25,x34,x35,x45')\n",
    "var('d1,d2,d3,d4,d5')\n",
    "var('a12,a13,a14,a15,a23,a24,a25,a34,a35,a45')\n",
    "\n",
    "load_attach_path('C:\\\\Users\\\\julia\\\\Documents\\\\unb\\\\doutorado\\\\pensar\\\\codigo_sage_v2\\\\maquina\\\\x4')\n",
    "load('out_#111000.sage')\n",
    "\n",
    "m=matrix(QQ, [[0, 1, 0, 0, 0],\n",
    "              [0, 0, 1, 0, 0],\n",
    "              [0, 0, 0, 0, 1],\n",
    "              [0, 0, 0, 0, 0],\n",
    "              [0, 0, 0, 0, 0]])\n",
    "        \n",
    "#entry of matrix: (i,j) line i collum j, means (i-1,j-1)\n",
    "sol=solve([ eq1==m[0,1],\teq2==m[0,2],\teq3==m[0,3],\teq4==m[0,4],\t\n",
    "                                            eq5==m[1,2],    eq6==m[1,3],\n",
    "                                                            eq7==m[1,4], eq8==m[2,4]],d1,d2,d3,d4,d5,a12,a13,a14,a15,a23,a24,a25,a34,a35,a45, solution_dict=True)\n",
    "\n",
    "show(m)\n",
    "show(sol)\n",
    "latex(sol)"
   ]
  },
  {
   "cell_type": "code",
   "execution_count": 58,
   "metadata": {},
   "outputs": [
    {
     "data": {
      "text/html": [
       "<html><script type=\"math/tex; mode=display\">\\newcommand{\\Bold}[1]{\\mathbf{#1}}\\left(\\begin{array}{rrrrr}\n",
       "0 & 1 & 0 & 0 & 0 \\\\\n",
       "0 & 0 & 1 & 0 & 0 \\\\\n",
       "0 & 0 & 0 & 0 & 1 \\\\\n",
       "0 & 0 & 0 & 0 & 0 \\\\\n",
       "0 & 0 & 0 & 0 & 0\n",
       "\\end{array}\\right)</script></html>"
      ],
      "text/latex": [
       "$$\\newcommand{\\Bold}[1]{\\mathbf{#1}}\\left(\\begin{array}{rrrrr}\n",
       "0 & 1 & 0 & 0 & 0 \\\\\n",
       "0 & 0 & 1 & 0 & 0 \\\\\n",
       "0 & 0 & 0 & 0 & 1 \\\\\n",
       "0 & 0 & 0 & 0 & 0 \\\\\n",
       "0 & 0 & 0 & 0 & 0\n",
       "\\end{array}\\right)$$"
      ],
      "text/plain": [
       "[0 1 0 0 0]\n",
       "[0 0 1 0 0]\n",
       "[0 0 0 0 1]\n",
       "[0 0 0 0 0]\n",
       "[0 0 0 0 0]"
      ]
     },
     "metadata": {},
     "output_type": "display_data"
    },
    {
     "data": {
      "text/html": [
       "<html><script type=\"math/tex; mode=display\">\\newcommand{\\Bold}[1]{\\mathbf{#1}}\\left[\\left\\{d_{1} : 0, d_{2} : 0, d_{3} : 0, d_{4} : r_{1001}, d_{5} : 0, a_{12} : r_{1002}, a_{13} : r_{1003}, a_{14} : r_{1004}, a_{15} : r_{1005}, a_{23} : r_{1006}, a_{24} : r_{1007}, a_{25} : r_{1008}, a_{34} : -\\frac{r_{1001} x_{24}}{x_{23}}, a_{35} : r_{1009}, a_{45} : r_{1010}\\right\\}, \\left\\{d_{1} : r_{1011}, d_{2} : \\frac{r_{1011}}{x_{12}}, d_{3} : \\frac{r_{1011}}{x_{12} x_{23}}, d_{4} : r_{1012}, d_{5} : \\frac{r_{1011}}{x_{12} x_{23} x_{35}}, a_{12} : r_{1013}, a_{13} : r_{1014}, a_{14} : r_{1015}, a_{15} : r_{1016}, a_{23} : \\frac{r_{1013}}{x_{12}}, a_{24} : 0, a_{25} : \\frac{r_{1014} x_{12} x_{23} x_{35} - r_{1011} x_{15}}{x_{12}^{2} x_{23} x_{35}}, a_{34} : -\\frac{r_{1012} x_{24}}{x_{23}}, a_{35} : r_{1017}, a_{45} : -\\frac{r_{1011} x_{25} + {\\left(r_{1017} x_{12} x_{23}^{2} - r_{1013} x_{23}\\right)} x_{35}}{x_{12} x_{23} x_{24} x_{35}}\\right\\}\\right]</script></html>"
      ],
      "text/latex": [
       "$$\\newcommand{\\Bold}[1]{\\mathbf{#1}}\\left[\\left\\{d_{1} : 0, d_{2} : 0, d_{3} : 0, d_{4} : r_{1001}, d_{5} : 0, a_{12} : r_{1002}, a_{13} : r_{1003}, a_{14} : r_{1004}, a_{15} : r_{1005}, a_{23} : r_{1006}, a_{24} : r_{1007}, a_{25} : r_{1008}, a_{34} : -\\frac{r_{1001} x_{24}}{x_{23}}, a_{35} : r_{1009}, a_{45} : r_{1010}\\right\\}, \\left\\{d_{1} : r_{1011}, d_{2} : \\frac{r_{1011}}{x_{12}}, d_{3} : \\frac{r_{1011}}{x_{12} x_{23}}, d_{4} : r_{1012}, d_{5} : \\frac{r_{1011}}{x_{12} x_{23} x_{35}}, a_{12} : r_{1013}, a_{13} : r_{1014}, a_{14} : r_{1015}, a_{15} : r_{1016}, a_{23} : \\frac{r_{1013}}{x_{12}}, a_{24} : 0, a_{25} : \\frac{r_{1014} x_{12} x_{23} x_{35} - r_{1011} x_{15}}{x_{12}^{2} x_{23} x_{35}}, a_{34} : -\\frac{r_{1012} x_{24}}{x_{23}}, a_{35} : r_{1017}, a_{45} : -\\frac{r_{1011} x_{25} + {\\left(r_{1017} x_{12} x_{23}^{2} - r_{1013} x_{23}\\right)} x_{35}}{x_{12} x_{23} x_{24} x_{35}}\\right\\}\\right]$$"
      ],
      "text/plain": [
       "[{d1: 0,\n",
       "  d2: 0,\n",
       "  d3: 0,\n",
       "  d4: r1001,\n",
       "  d5: 0,\n",
       "  a12: r1002,\n",
       "  a13: r1003,\n",
       "  a14: r1004,\n",
       "  a15: r1005,\n",
       "  a23: r1006,\n",
       "  a24: r1007,\n",
       "  a25: r1008,\n",
       "  a34: -r1001*x24/x23,\n",
       "  a35: r1009,\n",
       "  a45: r1010},\n",
       " {d1: r1011,\n",
       "  d2: r1011/x12,\n",
       "  d3: r1011/(x12*x23),\n",
       "  d4: r1012,\n",
       "  d5: r1011/(x12*x23*x35),\n",
       "  a12: r1013,\n",
       "  a13: r1014,\n",
       "  a14: r1015,\n",
       "  a15: r1016,\n",
       "  a23: r1013/x12,\n",
       "  a24: 0,\n",
       "  a25: (r1014*x12*x23*x35 - r1011*x15)/(x12^2*x23*x35),\n",
       "  a34: -r1012*x24/x23,\n",
       "  a35: r1017,\n",
       "  a45: -(r1011*x25 + (r1017*x12*x23^2 - r1013*x23)*x35)/(x12*x23*x24*x35)}]"
      ]
     },
     "metadata": {},
     "output_type": "display_data"
    },
    {
     "data": {
      "text/plain": [
       "\\left[\\left\\{d_{1} : 0, d_{2} : 0, d_{3} : 0, d_{4} : r_{1001}, d_{5} : 0, a_{12} : r_{1002}, a_{13} : r_{1003}, a_{14} : r_{1004}, a_{15} : r_{1005}, a_{23} : r_{1006}, a_{24} : r_{1007}, a_{25} : r_{1008}, a_{34} : -\\frac{r_{1001} x_{24}}{x_{23}}, a_{35} : r_{1009}, a_{45} : r_{1010}\\right\\}, \\left\\{d_{1} : r_{1011}, d_{2} : \\frac{r_{1011}}{x_{12}}, d_{3} : \\frac{r_{1011}}{x_{12} x_{23}}, d_{4} : r_{1012}, d_{5} : \\frac{r_{1011}}{x_{12} x_{23} x_{35}}, a_{12} : r_{1013}, a_{13} : r_{1014}, a_{14} : r_{1015}, a_{15} : r_{1016}, a_{23} : \\frac{r_{1013}}{x_{12}}, a_{24} : 0, a_{25} : \\frac{r_{1014} x_{12} x_{23} x_{35} - r_{1011} x_{15}}{x_{12}^{2} x_{23} x_{35}}, a_{34} : -\\frac{r_{1012} x_{24}}{x_{23}}, a_{35} : r_{1017}, a_{45} : -\\frac{r_{1011} x_{25} + {\\left(r_{1017} x_{12} x_{23}^{2} - r_{1013} x_{23}\\right)} x_{35}}{x_{12} x_{23} x_{24} x_{35}}\\right\\}\\right]"
      ]
     },
     "execution_count": 58,
     "metadata": {},
     "output_type": "execute_result"
    }
   ],
   "source": [
    "#x4\n",
    "reset()\n",
    "\n",
    "var('x12,x13,x14,x15,x23,x24,x25,x34,x35,x45')\n",
    "var('d1,d2,d3,d4,d5')\n",
    "var('a12,a13,a14,a15,a23,a24,a25,a34,a35,a45')\n",
    "\n",
    "load_attach_path('C:\\\\Users\\\\julia\\\\Documents\\\\unb\\\\doutorado\\\\pensar\\\\codigo_sage_v2\\\\maquina\\\\x4')\n",
    "load('out_#111001.sage')\n",
    "\n",
    "m=matrix(QQ, [[0, 1, 0, 0, 0],\n",
    "              [0, 0, 1, 0, 0],\n",
    "              [0, 0, 0, 0, 1],\n",
    "              [0, 0, 0, 0, 0],\n",
    "              [0, 0, 0, 0, 0]])\n",
    "        \n",
    "#entry of matrix: (i,j) line i collum j, means (i-1,j-1)\n",
    "sol=solve([ eq1==m[0,1],\teq2==m[0,2],\teq3==m[0,3],\teq4==m[0,4],\t\n",
    "                                            eq5==m[1,2],    eq6==m[1,3],\n",
    "                                                            eq7==m[1,4], eq8==m[2,4]],d1,d2,d3,d4,d5,a12,a13,a14,a15,a23,a24,a25,a34,a35,a45, solution_dict=True)\n",
    "\n",
    "show(m)\n",
    "show(sol)\n",
    "latex(sol)"
   ]
  },
  {
   "cell_type": "code",
   "execution_count": 59,
   "metadata": {},
   "outputs": [
    {
     "data": {
      "text/html": [
       "<html><script type=\"math/tex; mode=display\">\\newcommand{\\Bold}[1]{\\mathbf{#1}}\\left(\\begin{array}{rrrrr}\n",
       "0 & 1 & 0 & 0 & 0 \\\\\n",
       "0 & 0 & 1 & 0 & 0 \\\\\n",
       "0 & 0 & 0 & 0 & 1 \\\\\n",
       "0 & 0 & 0 & 0 & 0 \\\\\n",
       "0 & 0 & 0 & 0 & 0\n",
       "\\end{array}\\right)</script></html>"
      ],
      "text/latex": [
       "$$\\newcommand{\\Bold}[1]{\\mathbf{#1}}\\left(\\begin{array}{rrrrr}\n",
       "0 & 1 & 0 & 0 & 0 \\\\\n",
       "0 & 0 & 1 & 0 & 0 \\\\\n",
       "0 & 0 & 0 & 0 & 1 \\\\\n",
       "0 & 0 & 0 & 0 & 0 \\\\\n",
       "0 & 0 & 0 & 0 & 0\n",
       "\\end{array}\\right)$$"
      ],
      "text/plain": [
       "[0 1 0 0 0]\n",
       "[0 0 1 0 0]\n",
       "[0 0 0 0 1]\n",
       "[0 0 0 0 0]\n",
       "[0 0 0 0 0]"
      ]
     },
     "metadata": {},
     "output_type": "display_data"
    },
    {
     "data": {
      "text/html": [
       "<html><script type=\"math/tex; mode=display\">\\newcommand{\\Bold}[1]{\\mathbf{#1}}\\left[\\left\\{d_{1} : 0, d_{2} : 0, d_{3} : 0, d_{4} : r_{1018}, d_{5} : 0, a_{12} : r_{1019}, a_{13} : r_{1020}, a_{14} : r_{1021}, a_{15} : r_{1022}, a_{23} : r_{1023}, a_{24} : r_{1024}, a_{25} : r_{1025}, a_{34} : -\\frac{r_{1018} x_{24}}{x_{23}}, a_{35} : r_{1026}, a_{45} : r_{1027}\\right\\}, \\left\\{d_{1} : r_{1028}, d_{2} : \\frac{r_{1028}}{x_{12}}, d_{3} : \\frac{r_{1028}}{x_{12} x_{23}}, d_{4} : r_{1029}, d_{5} : \\frac{r_{1028}}{x_{12} x_{23} x_{35}}, a_{12} : r_{1030}, a_{13} : r_{1031}, a_{14} : r_{1032}, a_{15} : r_{1033}, a_{23} : \\frac{r_{1030}}{x_{12}}, a_{24} : -\\frac{r_{1029} x_{14}}{x_{12}}, a_{25} : r_{1034}, a_{34} : -\\frac{r_{1029} x_{24}}{x_{23}}, a_{35} : -\\frac{r_{1028} x_{14} x_{25} - {\\left(r_{1030} x_{14} x_{23} + {\\left(r_{1034} x_{12}^{2} - r_{1031} x_{12}\\right)} x_{23} x_{24}\\right)} x_{35}}{x_{12} x_{14} x_{23}^{2} x_{35}}, a_{45} : -\\frac{r_{1034} x_{12} - r_{1031}}{x_{14}}\\right\\}\\right]</script></html>"
      ],
      "text/latex": [
       "$$\\newcommand{\\Bold}[1]{\\mathbf{#1}}\\left[\\left\\{d_{1} : 0, d_{2} : 0, d_{3} : 0, d_{4} : r_{1018}, d_{5} : 0, a_{12} : r_{1019}, a_{13} : r_{1020}, a_{14} : r_{1021}, a_{15} : r_{1022}, a_{23} : r_{1023}, a_{24} : r_{1024}, a_{25} : r_{1025}, a_{34} : -\\frac{r_{1018} x_{24}}{x_{23}}, a_{35} : r_{1026}, a_{45} : r_{1027}\\right\\}, \\left\\{d_{1} : r_{1028}, d_{2} : \\frac{r_{1028}}{x_{12}}, d_{3} : \\frac{r_{1028}}{x_{12} x_{23}}, d_{4} : r_{1029}, d_{5} : \\frac{r_{1028}}{x_{12} x_{23} x_{35}}, a_{12} : r_{1030}, a_{13} : r_{1031}, a_{14} : r_{1032}, a_{15} : r_{1033}, a_{23} : \\frac{r_{1030}}{x_{12}}, a_{24} : -\\frac{r_{1029} x_{14}}{x_{12}}, a_{25} : r_{1034}, a_{34} : -\\frac{r_{1029} x_{24}}{x_{23}}, a_{35} : -\\frac{r_{1028} x_{14} x_{25} - {\\left(r_{1030} x_{14} x_{23} + {\\left(r_{1034} x_{12}^{2} - r_{1031} x_{12}\\right)} x_{23} x_{24}\\right)} x_{35}}{x_{12} x_{14} x_{23}^{2} x_{35}}, a_{45} : -\\frac{r_{1034} x_{12} - r_{1031}}{x_{14}}\\right\\}\\right]$$"
      ],
      "text/plain": [
       "[{d1: 0,\n",
       "  d2: 0,\n",
       "  d3: 0,\n",
       "  d4: r1018,\n",
       "  d5: 0,\n",
       "  a12: r1019,\n",
       "  a13: r1020,\n",
       "  a14: r1021,\n",
       "  a15: r1022,\n",
       "  a23: r1023,\n",
       "  a24: r1024,\n",
       "  a25: r1025,\n",
       "  a34: -r1018*x24/x23,\n",
       "  a35: r1026,\n",
       "  a45: r1027},\n",
       " {d1: r1028,\n",
       "  d2: r1028/x12,\n",
       "  d3: r1028/(x12*x23),\n",
       "  d4: r1029,\n",
       "  d5: r1028/(x12*x23*x35),\n",
       "  a12: r1030,\n",
       "  a13: r1031,\n",
       "  a14: r1032,\n",
       "  a15: r1033,\n",
       "  a23: r1030/x12,\n",
       "  a24: -r1029*x14/x12,\n",
       "  a25: r1034,\n",
       "  a34: -r1029*x24/x23,\n",
       "  a35: -(r1028*x14*x25 - (r1030*x14*x23 + (r1034*x12^2 - r1031*x12)*x23*x24)*x35)/(x12*x14*x23^2*x35),\n",
       "  a45: -(r1034*x12 - r1031)/x14}]"
      ]
     },
     "metadata": {},
     "output_type": "display_data"
    },
    {
     "data": {
      "text/plain": [
       "\\left[\\left\\{d_{1} : 0, d_{2} : 0, d_{3} : 0, d_{4} : r_{1018}, d_{5} : 0, a_{12} : r_{1019}, a_{13} : r_{1020}, a_{14} : r_{1021}, a_{15} : r_{1022}, a_{23} : r_{1023}, a_{24} : r_{1024}, a_{25} : r_{1025}, a_{34} : -\\frac{r_{1018} x_{24}}{x_{23}}, a_{35} : r_{1026}, a_{45} : r_{1027}\\right\\}, \\left\\{d_{1} : r_{1028}, d_{2} : \\frac{r_{1028}}{x_{12}}, d_{3} : \\frac{r_{1028}}{x_{12} x_{23}}, d_{4} : r_{1029}, d_{5} : \\frac{r_{1028}}{x_{12} x_{23} x_{35}}, a_{12} : r_{1030}, a_{13} : r_{1031}, a_{14} : r_{1032}, a_{15} : r_{1033}, a_{23} : \\frac{r_{1030}}{x_{12}}, a_{24} : -\\frac{r_{1029} x_{14}}{x_{12}}, a_{25} : r_{1034}, a_{34} : -\\frac{r_{1029} x_{24}}{x_{23}}, a_{35} : -\\frac{r_{1028} x_{14} x_{25} - {\\left(r_{1030} x_{14} x_{23} + {\\left(r_{1034} x_{12}^{2} - r_{1031} x_{12}\\right)} x_{23} x_{24}\\right)} x_{35}}{x_{12} x_{14} x_{23}^{2} x_{35}}, a_{45} : -\\frac{r_{1034} x_{12} - r_{1031}}{x_{14}}\\right\\}\\right]"
      ]
     },
     "execution_count": 59,
     "metadata": {},
     "output_type": "execute_result"
    }
   ],
   "source": [
    "#x4\n",
    "reset()\n",
    "\n",
    "var('x12,x13,x14,x15,x23,x24,x25,x34,x35,x45')\n",
    "var('d1,d2,d3,d4,d5')\n",
    "var('a12,a13,a14,a15,a23,a24,a25,a34,a35,a45')\n",
    "\n",
    "load_attach_path('C:\\\\Users\\\\julia\\\\Documents\\\\unb\\\\doutorado\\\\pensar\\\\codigo_sage_v2\\\\maquina\\\\x4')\n",
    "load('out_#111010.sage')\n",
    "\n",
    "m=matrix(QQ, [[0, 1, 0, 0, 0],\n",
    "              [0, 0, 1, 0, 0],\n",
    "              [0, 0, 0, 0, 1],\n",
    "              [0, 0, 0, 0, 0],\n",
    "              [0, 0, 0, 0, 0]])\n",
    "        \n",
    "#entry of matrix: (i,j) line i collum j, means (i-1,j-1)\n",
    "sol=solve([ eq1==m[0,1],\teq2==m[0,2],\teq3==m[0,3],\teq4==m[0,4],\t\n",
    "                                            eq5==m[1,2],    eq6==m[1,3],\n",
    "                                                            eq7==m[1,4], eq8==m[2,4]],d1,d2,d3,d4,d5,a12,a13,a14,a15,a23,a24,a25,a34,a35,a45, solution_dict=True)\n",
    "\n",
    "show(m)\n",
    "show(sol)\n",
    "latex(sol)"
   ]
  },
  {
   "cell_type": "code",
   "execution_count": 60,
   "metadata": {},
   "outputs": [
    {
     "data": {
      "text/html": [
       "<html><script type=\"math/tex; mode=display\">\\newcommand{\\Bold}[1]{\\mathbf{#1}}\\left(\\begin{array}{rrrrr}\n",
       "0 & 1 & 0 & 0 & 0 \\\\\n",
       "0 & 0 & 1 & 0 & 0 \\\\\n",
       "0 & 0 & 0 & 0 & 1 \\\\\n",
       "0 & 0 & 0 & 0 & 0 \\\\\n",
       "0 & 0 & 0 & 0 & 0\n",
       "\\end{array}\\right)</script></html>"
      ],
      "text/latex": [
       "$$\\newcommand{\\Bold}[1]{\\mathbf{#1}}\\left(\\begin{array}{rrrrr}\n",
       "0 & 1 & 0 & 0 & 0 \\\\\n",
       "0 & 0 & 1 & 0 & 0 \\\\\n",
       "0 & 0 & 0 & 0 & 1 \\\\\n",
       "0 & 0 & 0 & 0 & 0 \\\\\n",
       "0 & 0 & 0 & 0 & 0\n",
       "\\end{array}\\right)$$"
      ],
      "text/plain": [
       "[0 1 0 0 0]\n",
       "[0 0 1 0 0]\n",
       "[0 0 0 0 1]\n",
       "[0 0 0 0 0]\n",
       "[0 0 0 0 0]"
      ]
     },
     "metadata": {},
     "output_type": "display_data"
    },
    {
     "data": {
      "text/html": [
       "<html><script type=\"math/tex; mode=display\">\\newcommand{\\Bold}[1]{\\mathbf{#1}}\\left[\\left\\{d_{1} : 0, d_{2} : 0, d_{3} : 0, d_{4} : r_{1035}, d_{5} : 0, a_{12} : r_{1036}, a_{13} : r_{1037}, a_{14} : r_{1038}, a_{15} : r_{1039}, a_{23} : r_{1040}, a_{24} : r_{1041}, a_{25} : r_{1042}, a_{34} : -\\frac{r_{1035} x_{24}}{x_{23}}, a_{35} : r_{1043}, a_{45} : r_{1044}\\right\\}, \\left\\{d_{1} : r_{1045}, d_{2} : \\frac{r_{1045}}{x_{12}}, d_{3} : \\frac{r_{1045}}{x_{12} x_{23}}, d_{4} : r_{1046}, d_{5} : \\frac{r_{1045}}{x_{12} x_{23} x_{35}}, a_{12} : r_{1047}, a_{13} : r_{1048}, a_{14} : r_{1049}, a_{15} : r_{1050}, a_{23} : \\frac{r_{1047}}{x_{12}}, a_{24} : -\\frac{r_{1046} x_{14}}{x_{12}}, a_{25} : r_{1051}, a_{34} : -\\frac{r_{1046} x_{24}}{x_{23}}, a_{35} : \\frac{r_{1045} x_{15} x_{24} - r_{1045} x_{14} x_{25} + {\\left(r_{1047} x_{14} x_{23} + {\\left(r_{1051} x_{12}^{2} - r_{1048} x_{12}\\right)} x_{23} x_{24}\\right)} x_{35}}{x_{12} x_{14} x_{23}^{2} x_{35}}, a_{45} : -\\frac{{\\left(r_{1051} x_{12}^{2} - r_{1048} x_{12}\\right)} x_{23} x_{35} + r_{1045} x_{15}}{x_{12} x_{14} x_{23} x_{35}}\\right\\}\\right]</script></html>"
      ],
      "text/latex": [
       "$$\\newcommand{\\Bold}[1]{\\mathbf{#1}}\\left[\\left\\{d_{1} : 0, d_{2} : 0, d_{3} : 0, d_{4} : r_{1035}, d_{5} : 0, a_{12} : r_{1036}, a_{13} : r_{1037}, a_{14} : r_{1038}, a_{15} : r_{1039}, a_{23} : r_{1040}, a_{24} : r_{1041}, a_{25} : r_{1042}, a_{34} : -\\frac{r_{1035} x_{24}}{x_{23}}, a_{35} : r_{1043}, a_{45} : r_{1044}\\right\\}, \\left\\{d_{1} : r_{1045}, d_{2} : \\frac{r_{1045}}{x_{12}}, d_{3} : \\frac{r_{1045}}{x_{12} x_{23}}, d_{4} : r_{1046}, d_{5} : \\frac{r_{1045}}{x_{12} x_{23} x_{35}}, a_{12} : r_{1047}, a_{13} : r_{1048}, a_{14} : r_{1049}, a_{15} : r_{1050}, a_{23} : \\frac{r_{1047}}{x_{12}}, a_{24} : -\\frac{r_{1046} x_{14}}{x_{12}}, a_{25} : r_{1051}, a_{34} : -\\frac{r_{1046} x_{24}}{x_{23}}, a_{35} : \\frac{r_{1045} x_{15} x_{24} - r_{1045} x_{14} x_{25} + {\\left(r_{1047} x_{14} x_{23} + {\\left(r_{1051} x_{12}^{2} - r_{1048} x_{12}\\right)} x_{23} x_{24}\\right)} x_{35}}{x_{12} x_{14} x_{23}^{2} x_{35}}, a_{45} : -\\frac{{\\left(r_{1051} x_{12}^{2} - r_{1048} x_{12}\\right)} x_{23} x_{35} + r_{1045} x_{15}}{x_{12} x_{14} x_{23} x_{35}}\\right\\}\\right]$$"
      ],
      "text/plain": [
       "[{d1: 0,\n",
       "  d2: 0,\n",
       "  d3: 0,\n",
       "  d4: r1035,\n",
       "  d5: 0,\n",
       "  a12: r1036,\n",
       "  a13: r1037,\n",
       "  a14: r1038,\n",
       "  a15: r1039,\n",
       "  a23: r1040,\n",
       "  a24: r1041,\n",
       "  a25: r1042,\n",
       "  a34: -r1035*x24/x23,\n",
       "  a35: r1043,\n",
       "  a45: r1044},\n",
       " {d1: r1045,\n",
       "  d2: r1045/x12,\n",
       "  d3: r1045/(x12*x23),\n",
       "  d4: r1046,\n",
       "  d5: r1045/(x12*x23*x35),\n",
       "  a12: r1047,\n",
       "  a13: r1048,\n",
       "  a14: r1049,\n",
       "  a15: r1050,\n",
       "  a23: r1047/x12,\n",
       "  a24: -r1046*x14/x12,\n",
       "  a25: r1051,\n",
       "  a34: -r1046*x24/x23,\n",
       "  a35: (r1045*x15*x24 - r1045*x14*x25 + (r1047*x14*x23 + (r1051*x12^2 - r1048*x12)*x23*x24)*x35)/(x12*x14*x23^2*x35),\n",
       "  a45: -((r1051*x12^2 - r1048*x12)*x23*x35 + r1045*x15)/(x12*x14*x23*x35)}]"
      ]
     },
     "metadata": {},
     "output_type": "display_data"
    },
    {
     "data": {
      "text/plain": [
       "\\left[\\left\\{d_{1} : 0, d_{2} : 0, d_{3} : 0, d_{4} : r_{1035}, d_{5} : 0, a_{12} : r_{1036}, a_{13} : r_{1037}, a_{14} : r_{1038}, a_{15} : r_{1039}, a_{23} : r_{1040}, a_{24} : r_{1041}, a_{25} : r_{1042}, a_{34} : -\\frac{r_{1035} x_{24}}{x_{23}}, a_{35} : r_{1043}, a_{45} : r_{1044}\\right\\}, \\left\\{d_{1} : r_{1045}, d_{2} : \\frac{r_{1045}}{x_{12}}, d_{3} : \\frac{r_{1045}}{x_{12} x_{23}}, d_{4} : r_{1046}, d_{5} : \\frac{r_{1045}}{x_{12} x_{23} x_{35}}, a_{12} : r_{1047}, a_{13} : r_{1048}, a_{14} : r_{1049}, a_{15} : r_{1050}, a_{23} : \\frac{r_{1047}}{x_{12}}, a_{24} : -\\frac{r_{1046} x_{14}}{x_{12}}, a_{25} : r_{1051}, a_{34} : -\\frac{r_{1046} x_{24}}{x_{23}}, a_{35} : \\frac{r_{1045} x_{15} x_{24} - r_{1045} x_{14} x_{25} + {\\left(r_{1047} x_{14} x_{23} + {\\left(r_{1051} x_{12}^{2} - r_{1048} x_{12}\\right)} x_{23} x_{24}\\right)} x_{35}}{x_{12} x_{14} x_{23}^{2} x_{35}}, a_{45} : -\\frac{{\\left(r_{1051} x_{12}^{2} - r_{1048} x_{12}\\right)} x_{23} x_{35} + r_{1045} x_{15}}{x_{12} x_{14} x_{23} x_{35}}\\right\\}\\right]"
      ]
     },
     "execution_count": 60,
     "metadata": {},
     "output_type": "execute_result"
    }
   ],
   "source": [
    "#x4\n",
    "reset()\n",
    "\n",
    "var('x12,x13,x14,x15,x23,x24,x25,x34,x35,x45')\n",
    "var('d1,d2,d3,d4,d5')\n",
    "var('a12,a13,a14,a15,a23,a24,a25,a34,a35,a45')\n",
    "\n",
    "load_attach_path('C:\\\\Users\\\\julia\\\\Documents\\\\unb\\\\doutorado\\\\pensar\\\\codigo_sage_v2\\\\maquina\\\\x4')\n",
    "load('out_#111011.sage')\n",
    "\n",
    "m=matrix(QQ, [[0, 1, 0, 0, 0],\n",
    "              [0, 0, 1, 0, 0],\n",
    "              [0, 0, 0, 0, 1],\n",
    "              [0, 0, 0, 0, 0],\n",
    "              [0, 0, 0, 0, 0]])\n",
    "        \n",
    "#entry of matrix: (i,j) line i collum j, means (i-1,j-1)\n",
    "sol=solve([ eq1==m[0,1],\teq2==m[0,2],\teq3==m[0,3],\teq4==m[0,4],\t\n",
    "                                            eq5==m[1,2],    eq6==m[1,3],\n",
    "                                                            eq7==m[1,4], eq8==m[2,4]],d1,d2,d3,d4,d5,a12,a13,a14,a15,a23,a24,a25,a34,a35,a45, solution_dict=True)\n",
    "\n",
    "show(m)\n",
    "show(sol)\n",
    "latex(sol)"
   ]
  },
  {
   "cell_type": "code",
   "execution_count": 61,
   "metadata": {},
   "outputs": [
    {
     "data": {
      "text/html": [
       "<html><script type=\"math/tex; mode=display\">\\newcommand{\\Bold}[1]{\\mathbf{#1}}\\left(\\begin{array}{rrrrr}\n",
       "0 & 1 & 0 & 0 & 0 \\\\\n",
       "0 & 0 & 1 & 0 & 0 \\\\\n",
       "0 & 0 & 0 & 0 & 1 \\\\\n",
       "0 & 0 & 0 & 0 & 0 \\\\\n",
       "0 & 0 & 0 & 0 & 0\n",
       "\\end{array}\\right)</script></html>"
      ],
      "text/latex": [
       "$$\\newcommand{\\Bold}[1]{\\mathbf{#1}}\\left(\\begin{array}{rrrrr}\n",
       "0 & 1 & 0 & 0 & 0 \\\\\n",
       "0 & 0 & 1 & 0 & 0 \\\\\n",
       "0 & 0 & 0 & 0 & 1 \\\\\n",
       "0 & 0 & 0 & 0 & 0 \\\\\n",
       "0 & 0 & 0 & 0 & 0\n",
       "\\end{array}\\right)$$"
      ],
      "text/plain": [
       "[0 1 0 0 0]\n",
       "[0 0 1 0 0]\n",
       "[0 0 0 0 1]\n",
       "[0 0 0 0 0]\n",
       "[0 0 0 0 0]"
      ]
     },
     "metadata": {},
     "output_type": "display_data"
    },
    {
     "data": {
      "text/html": [
       "<html><script type=\"math/tex; mode=display\">\\newcommand{\\Bold}[1]{\\mathbf{#1}}\\left[\\left\\{d_{1} : 0, d_{2} : 0, d_{3} : 0, d_{4} : r_{1052}, d_{5} : 0, a_{12} : r_{1053}, a_{13} : r_{1054}, a_{14} : r_{1055}, a_{15} : r_{1056}, a_{23} : r_{1057}, a_{24} : r_{1058}, a_{25} : r_{1059}, a_{34} : -\\frac{r_{1052} x_{24}}{x_{23}}, a_{35} : r_{1060}, a_{45} : r_{1061}\\right\\}, \\left\\{d_{1} : r_{1062}, d_{2} : \\frac{r_{1062}}{x_{12}}, d_{3} : \\frac{r_{1062}}{x_{12} x_{23}}, d_{4} : r_{1063}, d_{5} : \\frac{r_{1062}}{x_{12} x_{23} x_{35}}, a_{12} : r_{1064}, a_{13} : r_{1065}, a_{14} : r_{1066}, a_{15} : r_{1067}, a_{23} : \\frac{r_{1064} x_{12} x_{23} - r_{1062} x_{13}}{x_{12}^{2} x_{23}}, a_{24} : \\frac{r_{1063} x_{13} x_{24}}{x_{12} x_{23}}, a_{25} : r_{1068}, a_{34} : -\\frac{r_{1063} x_{24}}{x_{23}}, a_{35} : -\\frac{r_{1068} x_{12} - r_{1065}}{x_{13}}, a_{45} : -\\frac{r_{1062} x_{12} x_{13} x_{25} - {\\left(r_{1064} x_{12} x_{13} x_{23} - r_{1062} x_{13}^{2} + {\\left(r_{1068} x_{12}^{3} - r_{1065} x_{12}^{2}\\right)} x_{23}^{2}\\right)} x_{35}}{x_{12}^{2} x_{13} x_{23} x_{24} x_{35}}\\right\\}\\right]</script></html>"
      ],
      "text/latex": [
       "$$\\newcommand{\\Bold}[1]{\\mathbf{#1}}\\left[\\left\\{d_{1} : 0, d_{2} : 0, d_{3} : 0, d_{4} : r_{1052}, d_{5} : 0, a_{12} : r_{1053}, a_{13} : r_{1054}, a_{14} : r_{1055}, a_{15} : r_{1056}, a_{23} : r_{1057}, a_{24} : r_{1058}, a_{25} : r_{1059}, a_{34} : -\\frac{r_{1052} x_{24}}{x_{23}}, a_{35} : r_{1060}, a_{45} : r_{1061}\\right\\}, \\left\\{d_{1} : r_{1062}, d_{2} : \\frac{r_{1062}}{x_{12}}, d_{3} : \\frac{r_{1062}}{x_{12} x_{23}}, d_{4} : r_{1063}, d_{5} : \\frac{r_{1062}}{x_{12} x_{23} x_{35}}, a_{12} : r_{1064}, a_{13} : r_{1065}, a_{14} : r_{1066}, a_{15} : r_{1067}, a_{23} : \\frac{r_{1064} x_{12} x_{23} - r_{1062} x_{13}}{x_{12}^{2} x_{23}}, a_{24} : \\frac{r_{1063} x_{13} x_{24}}{x_{12} x_{23}}, a_{25} : r_{1068}, a_{34} : -\\frac{r_{1063} x_{24}}{x_{23}}, a_{35} : -\\frac{r_{1068} x_{12} - r_{1065}}{x_{13}}, a_{45} : -\\frac{r_{1062} x_{12} x_{13} x_{25} - {\\left(r_{1064} x_{12} x_{13} x_{23} - r_{1062} x_{13}^{2} + {\\left(r_{1068} x_{12}^{3} - r_{1065} x_{12}^{2}\\right)} x_{23}^{2}\\right)} x_{35}}{x_{12}^{2} x_{13} x_{23} x_{24} x_{35}}\\right\\}\\right]$$"
      ],
      "text/plain": [
       "[{d1: 0,\n",
       "  d2: 0,\n",
       "  d3: 0,\n",
       "  d4: r1052,\n",
       "  d5: 0,\n",
       "  a12: r1053,\n",
       "  a13: r1054,\n",
       "  a14: r1055,\n",
       "  a15: r1056,\n",
       "  a23: r1057,\n",
       "  a24: r1058,\n",
       "  a25: r1059,\n",
       "  a34: -r1052*x24/x23,\n",
       "  a35: r1060,\n",
       "  a45: r1061},\n",
       " {d1: r1062,\n",
       "  d2: r1062/x12,\n",
       "  d3: r1062/(x12*x23),\n",
       "  d4: r1063,\n",
       "  d5: r1062/(x12*x23*x35),\n",
       "  a12: r1064,\n",
       "  a13: r1065,\n",
       "  a14: r1066,\n",
       "  a15: r1067,\n",
       "  a23: (r1064*x12*x23 - r1062*x13)/(x12^2*x23),\n",
       "  a24: r1063*x13*x24/(x12*x23),\n",
       "  a25: r1068,\n",
       "  a34: -r1063*x24/x23,\n",
       "  a35: -(r1068*x12 - r1065)/x13,\n",
       "  a45: -(r1062*x12*x13*x25 - (r1064*x12*x13*x23 - r1062*x13^2 + (r1068*x12^3 - r1065*x12^2)*x23^2)*x35)/(x12^2*x13*x23*x24*x35)}]"
      ]
     },
     "metadata": {},
     "output_type": "display_data"
    },
    {
     "data": {
      "text/plain": [
       "\\left[\\left\\{d_{1} : 0, d_{2} : 0, d_{3} : 0, d_{4} : r_{1052}, d_{5} : 0, a_{12} : r_{1053}, a_{13} : r_{1054}, a_{14} : r_{1055}, a_{15} : r_{1056}, a_{23} : r_{1057}, a_{24} : r_{1058}, a_{25} : r_{1059}, a_{34} : -\\frac{r_{1052} x_{24}}{x_{23}}, a_{35} : r_{1060}, a_{45} : r_{1061}\\right\\}, \\left\\{d_{1} : r_{1062}, d_{2} : \\frac{r_{1062}}{x_{12}}, d_{3} : \\frac{r_{1062}}{x_{12} x_{23}}, d_{4} : r_{1063}, d_{5} : \\frac{r_{1062}}{x_{12} x_{23} x_{35}}, a_{12} : r_{1064}, a_{13} : r_{1065}, a_{14} : r_{1066}, a_{15} : r_{1067}, a_{23} : \\frac{r_{1064} x_{12} x_{23} - r_{1062} x_{13}}{x_{12}^{2} x_{23}}, a_{24} : \\frac{r_{1063} x_{13} x_{24}}{x_{12} x_{23}}, a_{25} : r_{1068}, a_{34} : -\\frac{r_{1063} x_{24}}{x_{23}}, a_{35} : -\\frac{r_{1068} x_{12} - r_{1065}}{x_{13}}, a_{45} : -\\frac{r_{1062} x_{12} x_{13} x_{25} - {\\left(r_{1064} x_{12} x_{13} x_{23} - r_{1062} x_{13}^{2} + {\\left(r_{1068} x_{12}^{3} - r_{1065} x_{12}^{2}\\right)} x_{23}^{2}\\right)} x_{35}}{x_{12}^{2} x_{13} x_{23} x_{24} x_{35}}\\right\\}\\right]"
      ]
     },
     "execution_count": 61,
     "metadata": {},
     "output_type": "execute_result"
    }
   ],
   "source": [
    "#x4\n",
    "reset()\n",
    "\n",
    "var('x12,x13,x14,x15,x23,x24,x25,x34,x35,x45')\n",
    "var('d1,d2,d3,d4,d5')\n",
    "var('a12,a13,a14,a15,a23,a24,a25,a34,a35,a45')\n",
    "\n",
    "load_attach_path('C:\\\\Users\\\\julia\\\\Documents\\\\unb\\\\doutorado\\\\pensar\\\\codigo_sage_v2\\\\maquina\\\\x4')\n",
    "load('out_#111100.sage')\n",
    "\n",
    "m=matrix(QQ, [[0, 1, 0, 0, 0],\n",
    "              [0, 0, 1, 0, 0],\n",
    "              [0, 0, 0, 0, 1],\n",
    "              [0, 0, 0, 0, 0],\n",
    "              [0, 0, 0, 0, 0]])\n",
    "        \n",
    "#entry of matrix: (i,j) line i collum j, means (i-1,j-1)\n",
    "sol=solve([ eq1==m[0,1],\teq2==m[0,2],\teq3==m[0,3],\teq4==m[0,4],\t\n",
    "                                            eq5==m[1,2],    eq6==m[1,3],\n",
    "                                                            eq7==m[1,4], eq8==m[2,4]],d1,d2,d3,d4,d5,a12,a13,a14,a15,a23,a24,a25,a34,a35,a45, solution_dict=True)\n",
    "\n",
    "show(m)\n",
    "show(sol)\n",
    "latex(sol)"
   ]
  },
  {
   "cell_type": "code",
   "execution_count": 62,
   "metadata": {},
   "outputs": [
    {
     "data": {
      "text/html": [
       "<html><script type=\"math/tex; mode=display\">\\newcommand{\\Bold}[1]{\\mathbf{#1}}\\left(\\begin{array}{rrrrr}\n",
       "0 & 1 & 0 & 0 & 0 \\\\\n",
       "0 & 0 & 1 & 0 & 0 \\\\\n",
       "0 & 0 & 0 & 0 & 1 \\\\\n",
       "0 & 0 & 0 & 0 & 0 \\\\\n",
       "0 & 0 & 0 & 0 & 0\n",
       "\\end{array}\\right)</script></html>"
      ],
      "text/latex": [
       "$$\\newcommand{\\Bold}[1]{\\mathbf{#1}}\\left(\\begin{array}{rrrrr}\n",
       "0 & 1 & 0 & 0 & 0 \\\\\n",
       "0 & 0 & 1 & 0 & 0 \\\\\n",
       "0 & 0 & 0 & 0 & 1 \\\\\n",
       "0 & 0 & 0 & 0 & 0 \\\\\n",
       "0 & 0 & 0 & 0 & 0\n",
       "\\end{array}\\right)$$"
      ],
      "text/plain": [
       "[0 1 0 0 0]\n",
       "[0 0 1 0 0]\n",
       "[0 0 0 0 1]\n",
       "[0 0 0 0 0]\n",
       "[0 0 0 0 0]"
      ]
     },
     "metadata": {},
     "output_type": "display_data"
    },
    {
     "data": {
      "text/html": [
       "<html><script type=\"math/tex; mode=display\">\\newcommand{\\Bold}[1]{\\mathbf{#1}}\\left[\\left\\{d_{1} : 0, d_{2} : 0, d_{3} : 0, d_{4} : r_{1069}, d_{5} : 0, a_{12} : r_{1070}, a_{13} : r_{1071}, a_{14} : r_{1072}, a_{15} : r_{1073}, a_{23} : r_{1074}, a_{24} : r_{1075}, a_{25} : r_{1076}, a_{34} : -\\frac{r_{1069} x_{24}}{x_{23}}, a_{35} : r_{1077}, a_{45} : r_{1078}\\right\\}, \\left\\{d_{1} : r_{1079}, d_{2} : \\frac{r_{1079}}{x_{12}}, d_{3} : \\frac{r_{1079}}{x_{12} x_{23}}, d_{4} : r_{1080}, d_{5} : \\frac{r_{1079}}{x_{12} x_{23} x_{35}}, a_{12} : r_{1081}, a_{13} : r_{1082}, a_{14} : r_{1083}, a_{15} : r_{1084}, a_{23} : \\frac{r_{1081} x_{12} x_{23} - r_{1079} x_{13}}{x_{12}^{2} x_{23}}, a_{24} : \\frac{r_{1080} x_{13} x_{24}}{x_{12} x_{23}}, a_{25} : r_{1085}, a_{34} : -\\frac{r_{1080} x_{24}}{x_{23}}, a_{35} : -\\frac{{\\left(r_{1085} x_{12}^{2} - r_{1082} x_{12}\\right)} x_{23} x_{35} + r_{1079} x_{15}}{x_{12} x_{13} x_{23} x_{35}}, a_{45} : \\frac{r_{1079} x_{12} x_{15} x_{23} - r_{1079} x_{12} x_{13} x_{25} + {\\left(r_{1081} x_{12} x_{13} x_{23} - r_{1079} x_{13}^{2} + {\\left(r_{1085} x_{12}^{3} - r_{1082} x_{12}^{2}\\right)} x_{23}^{2}\\right)} x_{35}}{x_{12}^{2} x_{13} x_{23} x_{24} x_{35}}\\right\\}\\right]</script></html>"
      ],
      "text/latex": [
       "$$\\newcommand{\\Bold}[1]{\\mathbf{#1}}\\left[\\left\\{d_{1} : 0, d_{2} : 0, d_{3} : 0, d_{4} : r_{1069}, d_{5} : 0, a_{12} : r_{1070}, a_{13} : r_{1071}, a_{14} : r_{1072}, a_{15} : r_{1073}, a_{23} : r_{1074}, a_{24} : r_{1075}, a_{25} : r_{1076}, a_{34} : -\\frac{r_{1069} x_{24}}{x_{23}}, a_{35} : r_{1077}, a_{45} : r_{1078}\\right\\}, \\left\\{d_{1} : r_{1079}, d_{2} : \\frac{r_{1079}}{x_{12}}, d_{3} : \\frac{r_{1079}}{x_{12} x_{23}}, d_{4} : r_{1080}, d_{5} : \\frac{r_{1079}}{x_{12} x_{23} x_{35}}, a_{12} : r_{1081}, a_{13} : r_{1082}, a_{14} : r_{1083}, a_{15} : r_{1084}, a_{23} : \\frac{r_{1081} x_{12} x_{23} - r_{1079} x_{13}}{x_{12}^{2} x_{23}}, a_{24} : \\frac{r_{1080} x_{13} x_{24}}{x_{12} x_{23}}, a_{25} : r_{1085}, a_{34} : -\\frac{r_{1080} x_{24}}{x_{23}}, a_{35} : -\\frac{{\\left(r_{1085} x_{12}^{2} - r_{1082} x_{12}\\right)} x_{23} x_{35} + r_{1079} x_{15}}{x_{12} x_{13} x_{23} x_{35}}, a_{45} : \\frac{r_{1079} x_{12} x_{15} x_{23} - r_{1079} x_{12} x_{13} x_{25} + {\\left(r_{1081} x_{12} x_{13} x_{23} - r_{1079} x_{13}^{2} + {\\left(r_{1085} x_{12}^{3} - r_{1082} x_{12}^{2}\\right)} x_{23}^{2}\\right)} x_{35}}{x_{12}^{2} x_{13} x_{23} x_{24} x_{35}}\\right\\}\\right]$$"
      ],
      "text/plain": [
       "[{d1: 0,\n",
       "  d2: 0,\n",
       "  d3: 0,\n",
       "  d4: r1069,\n",
       "  d5: 0,\n",
       "  a12: r1070,\n",
       "  a13: r1071,\n",
       "  a14: r1072,\n",
       "  a15: r1073,\n",
       "  a23: r1074,\n",
       "  a24: r1075,\n",
       "  a25: r1076,\n",
       "  a34: -r1069*x24/x23,\n",
       "  a35: r1077,\n",
       "  a45: r1078},\n",
       " {d1: r1079,\n",
       "  d2: r1079/x12,\n",
       "  d3: r1079/(x12*x23),\n",
       "  d4: r1080,\n",
       "  d5: r1079/(x12*x23*x35),\n",
       "  a12: r1081,\n",
       "  a13: r1082,\n",
       "  a14: r1083,\n",
       "  a15: r1084,\n",
       "  a23: (r1081*x12*x23 - r1079*x13)/(x12^2*x23),\n",
       "  a24: r1080*x13*x24/(x12*x23),\n",
       "  a25: r1085,\n",
       "  a34: -r1080*x24/x23,\n",
       "  a35: -((r1085*x12^2 - r1082*x12)*x23*x35 + r1079*x15)/(x12*x13*x23*x35),\n",
       "  a45: (r1079*x12*x15*x23 - r1079*x12*x13*x25 + (r1081*x12*x13*x23 - r1079*x13^2 + (r1085*x12^3 - r1082*x12^2)*x23^2)*x35)/(x12^2*x13*x23*x24*x35)}]"
      ]
     },
     "metadata": {},
     "output_type": "display_data"
    },
    {
     "data": {
      "text/plain": [
       "\\left[\\left\\{d_{1} : 0, d_{2} : 0, d_{3} : 0, d_{4} : r_{1069}, d_{5} : 0, a_{12} : r_{1070}, a_{13} : r_{1071}, a_{14} : r_{1072}, a_{15} : r_{1073}, a_{23} : r_{1074}, a_{24} : r_{1075}, a_{25} : r_{1076}, a_{34} : -\\frac{r_{1069} x_{24}}{x_{23}}, a_{35} : r_{1077}, a_{45} : r_{1078}\\right\\}, \\left\\{d_{1} : r_{1079}, d_{2} : \\frac{r_{1079}}{x_{12}}, d_{3} : \\frac{r_{1079}}{x_{12} x_{23}}, d_{4} : r_{1080}, d_{5} : \\frac{r_{1079}}{x_{12} x_{23} x_{35}}, a_{12} : r_{1081}, a_{13} : r_{1082}, a_{14} : r_{1083}, a_{15} : r_{1084}, a_{23} : \\frac{r_{1081} x_{12} x_{23} - r_{1079} x_{13}}{x_{12}^{2} x_{23}}, a_{24} : \\frac{r_{1080} x_{13} x_{24}}{x_{12} x_{23}}, a_{25} : r_{1085}, a_{34} : -\\frac{r_{1080} x_{24}}{x_{23}}, a_{35} : -\\frac{{\\left(r_{1085} x_{12}^{2} - r_{1082} x_{12}\\right)} x_{23} x_{35} + r_{1079} x_{15}}{x_{12} x_{13} x_{23} x_{35}}, a_{45} : \\frac{r_{1079} x_{12} x_{15} x_{23} - r_{1079} x_{12} x_{13} x_{25} + {\\left(r_{1081} x_{12} x_{13} x_{23} - r_{1079} x_{13}^{2} + {\\left(r_{1085} x_{12}^{3} - r_{1082} x_{12}^{2}\\right)} x_{23}^{2}\\right)} x_{35}}{x_{12}^{2} x_{13} x_{23} x_{24} x_{35}}\\right\\}\\right]"
      ]
     },
     "execution_count": 62,
     "metadata": {},
     "output_type": "execute_result"
    }
   ],
   "source": [
    "#x4\n",
    "reset()\n",
    "\n",
    "var('x12,x13,x14,x15,x23,x24,x25,x34,x35,x45')\n",
    "var('d1,d2,d3,d4,d5')\n",
    "var('a12,a13,a14,a15,a23,a24,a25,a34,a35,a45')\n",
    "\n",
    "load_attach_path('C:\\\\Users\\\\julia\\\\Documents\\\\unb\\\\doutorado\\\\pensar\\\\codigo_sage_v2\\\\maquina\\\\x4')\n",
    "load('out_#111101.sage')\n",
    "\n",
    "m=matrix(QQ, [[0, 1, 0, 0, 0],\n",
    "              [0, 0, 1, 0, 0],\n",
    "              [0, 0, 0, 0, 1],\n",
    "              [0, 0, 0, 0, 0],\n",
    "              [0, 0, 0, 0, 0]])\n",
    "        \n",
    "#entry of matrix: (i,j) line i collum j, means (i-1,j-1)\n",
    "sol=solve([ eq1==m[0,1],\teq2==m[0,2],\teq3==m[0,3],\teq4==m[0,4],\t\n",
    "                                            eq5==m[1,2],    eq6==m[1,3],\n",
    "                                                            eq7==m[1,4], eq8==m[2,4]],d1,d2,d3,d4,d5,a12,a13,a14,a15,a23,a24,a25,a34,a35,a45, solution_dict=True)\n",
    "\n",
    "show(m)\n",
    "show(sol)\n",
    "latex(sol)"
   ]
  },
  {
   "cell_type": "code",
   "execution_count": 69,
   "metadata": {},
   "outputs": [
    {
     "data": {
      "text/html": [
       "<html><script type=\"math/tex; mode=display\">\\newcommand{\\Bold}[1]{\\mathbf{#1}}\\left(\\begin{array}{rrrrr}\n",
       "0 & 1 & 0 & 0 & 0 \\\\\n",
       "0 & 0 & 1 & 0 & 0 \\\\\n",
       "0 & 0 & 0 & 0 & 1 \\\\\n",
       "0 & 0 & 0 & 0 & 0 \\\\\n",
       "0 & 0 & 0 & 0 & 0\n",
       "\\end{array}\\right)</script></html>"
      ],
      "text/latex": [
       "$$\\newcommand{\\Bold}[1]{\\mathbf{#1}}\\left(\\begin{array}{rrrrr}\n",
       "0 & 1 & 0 & 0 & 0 \\\\\n",
       "0 & 0 & 1 & 0 & 0 \\\\\n",
       "0 & 0 & 0 & 0 & 1 \\\\\n",
       "0 & 0 & 0 & 0 & 0 \\\\\n",
       "0 & 0 & 0 & 0 & 0\n",
       "\\end{array}\\right)$$"
      ],
      "text/plain": [
       "[0 1 0 0 0]\n",
       "[0 0 1 0 0]\n",
       "[0 0 0 0 1]\n",
       "[0 0 0 0 0]\n",
       "[0 0 0 0 0]"
      ]
     },
     "metadata": {},
     "output_type": "display_data"
    },
    {
     "data": {
      "text/html": [
       "<html><script type=\"math/tex; mode=display\">\\newcommand{\\Bold}[1]{\\mathbf{#1}}\\left[\\left\\{d_{1} : 0, d_{2} : 0, d_{3} : 0, d_{4} : r_{1193}, d_{5} : 0, a_{12} : r_{1194}, a_{13} : r_{1195}, a_{14} : r_{1196}, a_{15} : r_{1197}, a_{23} : r_{1198}, a_{24} : r_{1199}, a_{25} : r_{1200}, a_{34} : -\\frac{r_{1193} x_{24}}{x_{23}}, a_{35} : r_{1201}, a_{45} : r_{1202}\\right\\}, \\left\\{d_{1} : r_{1203}, d_{2} : \\frac{r_{1203}}{x_{12}}, d_{3} : \\frac{r_{1203}}{x_{12} x_{23}}, d_{4} : r_{1204}, d_{5} : \\frac{r_{1203}}{x_{12} x_{23} x_{35}}, a_{12} : r_{1205}, a_{13} : r_{1206}, a_{14} : r_{1207}, a_{15} : r_{1208}, a_{23} : \\frac{r_{1205} x_{12} x_{23} - r_{1203} x_{13}}{x_{12}^{2} x_{23}}, a_{24} : -\\frac{r_{1204} x_{14} x_{23} - r_{1204} x_{13} x_{24}}{x_{12} x_{23}}, a_{25} : r_{1209}, a_{34} : -\\frac{r_{1204} x_{24}}{x_{23}}, a_{35} : -\\frac{r_{1203} x_{12} x_{14} x_{25} - {\\left(r_{1205} x_{12} x_{14} x_{23} - r_{1203} x_{13} x_{14} + {\\left(r_{1209} x_{12}^{3} - r_{1206} x_{12}^{2}\\right)} x_{23} x_{24}\\right)} x_{35}}{{\\left(x_{12}^{2} x_{14} x_{23}^{2} - x_{12}^{2} x_{13} x_{23} x_{24}\\right)} x_{35}}, a_{45} : \\frac{r_{1203} x_{12} x_{13} x_{25} - {\\left(r_{1205} x_{12} x_{13} x_{23} - r_{1203} x_{13}^{2} + {\\left(r_{1209} x_{12}^{3} - r_{1206} x_{12}^{2}\\right)} x_{23}^{2}\\right)} x_{35}}{{\\left(x_{12}^{2} x_{14} x_{23}^{2} - x_{12}^{2} x_{13} x_{23} x_{24}\\right)} x_{35}}\\right\\}\\right]</script></html>"
      ],
      "text/latex": [
       "$$\\newcommand{\\Bold}[1]{\\mathbf{#1}}\\left[\\left\\{d_{1} : 0, d_{2} : 0, d_{3} : 0, d_{4} : r_{1193}, d_{5} : 0, a_{12} : r_{1194}, a_{13} : r_{1195}, a_{14} : r_{1196}, a_{15} : r_{1197}, a_{23} : r_{1198}, a_{24} : r_{1199}, a_{25} : r_{1200}, a_{34} : -\\frac{r_{1193} x_{24}}{x_{23}}, a_{35} : r_{1201}, a_{45} : r_{1202}\\right\\}, \\left\\{d_{1} : r_{1203}, d_{2} : \\frac{r_{1203}}{x_{12}}, d_{3} : \\frac{r_{1203}}{x_{12} x_{23}}, d_{4} : r_{1204}, d_{5} : \\frac{r_{1203}}{x_{12} x_{23} x_{35}}, a_{12} : r_{1205}, a_{13} : r_{1206}, a_{14} : r_{1207}, a_{15} : r_{1208}, a_{23} : \\frac{r_{1205} x_{12} x_{23} - r_{1203} x_{13}}{x_{12}^{2} x_{23}}, a_{24} : -\\frac{r_{1204} x_{14} x_{23} - r_{1204} x_{13} x_{24}}{x_{12} x_{23}}, a_{25} : r_{1209}, a_{34} : -\\frac{r_{1204} x_{24}}{x_{23}}, a_{35} : -\\frac{r_{1203} x_{12} x_{14} x_{25} - {\\left(r_{1205} x_{12} x_{14} x_{23} - r_{1203} x_{13} x_{14} + {\\left(r_{1209} x_{12}^{3} - r_{1206} x_{12}^{2}\\right)} x_{23} x_{24}\\right)} x_{35}}{{\\left(x_{12}^{2} x_{14} x_{23}^{2} - x_{12}^{2} x_{13} x_{23} x_{24}\\right)} x_{35}}, a_{45} : \\frac{r_{1203} x_{12} x_{13} x_{25} - {\\left(r_{1205} x_{12} x_{13} x_{23} - r_{1203} x_{13}^{2} + {\\left(r_{1209} x_{12}^{3} - r_{1206} x_{12}^{2}\\right)} x_{23}^{2}\\right)} x_{35}}{{\\left(x_{12}^{2} x_{14} x_{23}^{2} - x_{12}^{2} x_{13} x_{23} x_{24}\\right)} x_{35}}\\right\\}\\right]$$"
      ],
      "text/plain": [
       "[{d1: 0,\n",
       "  d2: 0,\n",
       "  d3: 0,\n",
       "  d4: r1193,\n",
       "  d5: 0,\n",
       "  a12: r1194,\n",
       "  a13: r1195,\n",
       "  a14: r1196,\n",
       "  a15: r1197,\n",
       "  a23: r1198,\n",
       "  a24: r1199,\n",
       "  a25: r1200,\n",
       "  a34: -r1193*x24/x23,\n",
       "  a35: r1201,\n",
       "  a45: r1202},\n",
       " {d1: r1203,\n",
       "  d2: r1203/x12,\n",
       "  d3: r1203/(x12*x23),\n",
       "  d4: r1204,\n",
       "  d5: r1203/(x12*x23*x35),\n",
       "  a12: r1205,\n",
       "  a13: r1206,\n",
       "  a14: r1207,\n",
       "  a15: r1208,\n",
       "  a23: (r1205*x12*x23 - r1203*x13)/(x12^2*x23),\n",
       "  a24: -(r1204*x14*x23 - r1204*x13*x24)/(x12*x23),\n",
       "  a25: r1209,\n",
       "  a34: -r1204*x24/x23,\n",
       "  a35: -(r1203*x12*x14*x25 - (r1205*x12*x14*x23 - r1203*x13*x14 + (r1209*x12^3 - r1206*x12^2)*x23*x24)*x35)/((x12^2*x14*x23^2 - x12^2*x13*x23*x24)*x35),\n",
       "  a45: (r1203*x12*x13*x25 - (r1205*x12*x13*x23 - r1203*x13^2 + (r1209*x12^3 - r1206*x12^2)*x23^2)*x35)/((x12^2*x14*x23^2 - x12^2*x13*x23*x24)*x35)}]"
      ]
     },
     "metadata": {},
     "output_type": "display_data"
    },
    {
     "data": {
      "text/plain": [
       "\\left[\\left\\{d_{1} : 0, d_{2} : 0, d_{3} : 0, d_{4} : r_{1193}, d_{5} : 0, a_{12} : r_{1194}, a_{13} : r_{1195}, a_{14} : r_{1196}, a_{15} : r_{1197}, a_{23} : r_{1198}, a_{24} : r_{1199}, a_{25} : r_{1200}, a_{34} : -\\frac{r_{1193} x_{24}}{x_{23}}, a_{35} : r_{1201}, a_{45} : r_{1202}\\right\\}, \\left\\{d_{1} : r_{1203}, d_{2} : \\frac{r_{1203}}{x_{12}}, d_{3} : \\frac{r_{1203}}{x_{12} x_{23}}, d_{4} : r_{1204}, d_{5} : \\frac{r_{1203}}{x_{12} x_{23} x_{35}}, a_{12} : r_{1205}, a_{13} : r_{1206}, a_{14} : r_{1207}, a_{15} : r_{1208}, a_{23} : \\frac{r_{1205} x_{12} x_{23} - r_{1203} x_{13}}{x_{12}^{2} x_{23}}, a_{24} : -\\frac{r_{1204} x_{14} x_{23} - r_{1204} x_{13} x_{24}}{x_{12} x_{23}}, a_{25} : r_{1209}, a_{34} : -\\frac{r_{1204} x_{24}}{x_{23}}, a_{35} : -\\frac{r_{1203} x_{12} x_{14} x_{25} - {\\left(r_{1205} x_{12} x_{14} x_{23} - r_{1203} x_{13} x_{14} + {\\left(r_{1209} x_{12}^{3} - r_{1206} x_{12}^{2}\\right)} x_{23} x_{24}\\right)} x_{35}}{{\\left(x_{12}^{2} x_{14} x_{23}^{2} - x_{12}^{2} x_{13} x_{23} x_{24}\\right)} x_{35}}, a_{45} : \\frac{r_{1203} x_{12} x_{13} x_{25} - {\\left(r_{1205} x_{12} x_{13} x_{23} - r_{1203} x_{13}^{2} + {\\left(r_{1209} x_{12}^{3} - r_{1206} x_{12}^{2}\\right)} x_{23}^{2}\\right)} x_{35}}{{\\left(x_{12}^{2} x_{14} x_{23}^{2} - x_{12}^{2} x_{13} x_{23} x_{24}\\right)} x_{35}}\\right\\}\\right]"
      ]
     },
     "execution_count": 69,
     "metadata": {},
     "output_type": "execute_result"
    }
   ],
   "source": [
    "#x4\n",
    "#----------------------\n",
    "#x14 \\neq x13*x24/x23\n",
    "#----------------------\n",
    "reset()\n",
    "\n",
    "var('x12,x13,x14,x15,x23,x24,x25,x34,x35,x45')\n",
    "var('d1,d2,d3,d4,d5')\n",
    "var('a12,a13,a14,a15,a23,a24,a25,a34,a35,a45')\n",
    "\n",
    "load_attach_path('C:\\\\Users\\\\julia\\\\Documents\\\\unb\\\\doutorado\\\\pensar\\\\codigo_sage_v2\\\\maquina\\\\x4')\n",
    "load('out_#111110.sage')\n",
    "\n",
    "m=matrix(QQ, [[0, 1, 0, 0, 0],\n",
    "              [0, 0, 1, 0, 0],\n",
    "              [0, 0, 0, 0, 1],\n",
    "              [0, 0, 0, 0, 0],\n",
    "              [0, 0, 0, 0, 0]])\n",
    "        \n",
    "#entry of matrix: (i,j) line i collum j, means (i-1,j-1)\n",
    "sol=solve([ eq1==m[0,1],\teq2==m[0,2],\teq3==m[0,3],\teq4==m[0,4],\t\n",
    "                                            eq5==m[1,2],    eq6==m[1,3],\n",
    "                                                            eq7==m[1,4], eq8==m[2,4]],d1,d2,d3,d4,d5,a12,a13,a14,a15,a23,a24,a25,a34,a35,a45, solution_dict=True)\n",
    "\n",
    "show(m)\n",
    "show(sol)\n",
    "latex(sol)"
   ]
  },
  {
   "cell_type": "code",
   "execution_count": 70,
   "metadata": {},
   "outputs": [
    {
     "data": {
      "text/html": [
       "<html><script type=\"math/tex; mode=display\">\\newcommand{\\Bold}[1]{\\mathbf{#1}}\\left(\\begin{array}{rrrrr}\n",
       "0 & 1 & 0 & 0 & 0 \\\\\n",
       "0 & 0 & 1 & 0 & 0 \\\\\n",
       "0 & 0 & 0 & 0 & 1 \\\\\n",
       "0 & 0 & 0 & 0 & 0 \\\\\n",
       "0 & 0 & 0 & 0 & 0\n",
       "\\end{array}\\right)</script></html>"
      ],
      "text/latex": [
       "$$\\newcommand{\\Bold}[1]{\\mathbf{#1}}\\left(\\begin{array}{rrrrr}\n",
       "0 & 1 & 0 & 0 & 0 \\\\\n",
       "0 & 0 & 1 & 0 & 0 \\\\\n",
       "0 & 0 & 0 & 0 & 1 \\\\\n",
       "0 & 0 & 0 & 0 & 0 \\\\\n",
       "0 & 0 & 0 & 0 & 0\n",
       "\\end{array}\\right)$$"
      ],
      "text/plain": [
       "[0 1 0 0 0]\n",
       "[0 0 1 0 0]\n",
       "[0 0 0 0 1]\n",
       "[0 0 0 0 0]\n",
       "[0 0 0 0 0]"
      ]
     },
     "metadata": {},
     "output_type": "display_data"
    },
    {
     "data": {
      "text/html": [
       "<html><script type=\"math/tex; mode=display\">\\newcommand{\\Bold}[1]{\\mathbf{#1}}\\left[\\left\\{d_{1} : 0, d_{2} : 0, d_{3} : 0, d_{4} : r_{1210}, d_{5} : 0, a_{12} : r_{1211}, a_{13} : r_{1212}, a_{14} : r_{1213}, a_{15} : r_{1214}, a_{23} : r_{1215}, a_{24} : r_{1216}, a_{25} : r_{1217}, a_{34} : -\\frac{r_{1210} x_{24}}{x_{23}}, a_{35} : r_{1218}, a_{45} : r_{1219}\\right\\}, \\left\\{d_{1} : r_{1220}, d_{2} : \\frac{r_{1220}}{x_{12}}, d_{3} : \\frac{r_{1220}}{x_{12} x_{23}}, d_{4} : r_{1221}, d_{5} : \\frac{r_{1220}}{x_{12} x_{23} x_{35}}, a_{12} : r_{1222}, a_{13} : r_{1223}, a_{14} : r_{1224}, a_{15} : r_{1225}, a_{23} : \\frac{r_{1222} x_{12} x_{23} - r_{1220} x_{13}}{x_{12}^{2} x_{23}}, a_{24} : 0, a_{25} : \\frac{r_{1220} x_{12} x_{13} x_{25} + {\\left(r_{1223} x_{12}^{2} x_{23}^{2} - r_{1222} x_{12} x_{13} x_{23} + r_{1220} x_{13}^{2}\\right)} x_{35}}{x_{12}^{3} x_{23}^{2} x_{35}}, a_{34} : -\\frac{r_{1221} x_{24}}{x_{23}}, a_{35} : r_{1226}, a_{45} : -\\frac{r_{1220} x_{12} x_{25} + {\\left(r_{1226} x_{12}^{2} x_{23}^{2} - r_{1222} x_{12} x_{23} + r_{1220} x_{13}\\right)} x_{35}}{x_{12}^{2} x_{23} x_{24} x_{35}}\\right\\}\\right]</script></html>"
      ],
      "text/latex": [
       "$$\\newcommand{\\Bold}[1]{\\mathbf{#1}}\\left[\\left\\{d_{1} : 0, d_{2} : 0, d_{3} : 0, d_{4} : r_{1210}, d_{5} : 0, a_{12} : r_{1211}, a_{13} : r_{1212}, a_{14} : r_{1213}, a_{15} : r_{1214}, a_{23} : r_{1215}, a_{24} : r_{1216}, a_{25} : r_{1217}, a_{34} : -\\frac{r_{1210} x_{24}}{x_{23}}, a_{35} : r_{1218}, a_{45} : r_{1219}\\right\\}, \\left\\{d_{1} : r_{1220}, d_{2} : \\frac{r_{1220}}{x_{12}}, d_{3} : \\frac{r_{1220}}{x_{12} x_{23}}, d_{4} : r_{1221}, d_{5} : \\frac{r_{1220}}{x_{12} x_{23} x_{35}}, a_{12} : r_{1222}, a_{13} : r_{1223}, a_{14} : r_{1224}, a_{15} : r_{1225}, a_{23} : \\frac{r_{1222} x_{12} x_{23} - r_{1220} x_{13}}{x_{12}^{2} x_{23}}, a_{24} : 0, a_{25} : \\frac{r_{1220} x_{12} x_{13} x_{25} + {\\left(r_{1223} x_{12}^{2} x_{23}^{2} - r_{1222} x_{12} x_{13} x_{23} + r_{1220} x_{13}^{2}\\right)} x_{35}}{x_{12}^{3} x_{23}^{2} x_{35}}, a_{34} : -\\frac{r_{1221} x_{24}}{x_{23}}, a_{35} : r_{1226}, a_{45} : -\\frac{r_{1220} x_{12} x_{25} + {\\left(r_{1226} x_{12}^{2} x_{23}^{2} - r_{1222} x_{12} x_{23} + r_{1220} x_{13}\\right)} x_{35}}{x_{12}^{2} x_{23} x_{24} x_{35}}\\right\\}\\right]$$"
      ],
      "text/plain": [
       "[{d1: 0,\n",
       "  d2: 0,\n",
       "  d3: 0,\n",
       "  d4: r1210,\n",
       "  d5: 0,\n",
       "  a12: r1211,\n",
       "  a13: r1212,\n",
       "  a14: r1213,\n",
       "  a15: r1214,\n",
       "  a23: r1215,\n",
       "  a24: r1216,\n",
       "  a25: r1217,\n",
       "  a34: -r1210*x24/x23,\n",
       "  a35: r1218,\n",
       "  a45: r1219},\n",
       " {d1: r1220,\n",
       "  d2: r1220/x12,\n",
       "  d3: r1220/(x12*x23),\n",
       "  d4: r1221,\n",
       "  d5: r1220/(x12*x23*x35),\n",
       "  a12: r1222,\n",
       "  a13: r1223,\n",
       "  a14: r1224,\n",
       "  a15: r1225,\n",
       "  a23: (r1222*x12*x23 - r1220*x13)/(x12^2*x23),\n",
       "  a24: 0,\n",
       "  a25: (r1220*x12*x13*x25 + (r1223*x12^2*x23^2 - r1222*x12*x13*x23 + r1220*x13^2)*x35)/(x12^3*x23^2*x35),\n",
       "  a34: -r1221*x24/x23,\n",
       "  a35: r1226,\n",
       "  a45: -(r1220*x12*x25 + (r1226*x12^2*x23^2 - r1222*x12*x23 + r1220*x13)*x35)/(x12^2*x23*x24*x35)}]"
      ]
     },
     "metadata": {},
     "output_type": "display_data"
    },
    {
     "data": {
      "text/plain": [
       "\\left[\\left\\{d_{1} : 0, d_{2} : 0, d_{3} : 0, d_{4} : r_{1210}, d_{5} : 0, a_{12} : r_{1211}, a_{13} : r_{1212}, a_{14} : r_{1213}, a_{15} : r_{1214}, a_{23} : r_{1215}, a_{24} : r_{1216}, a_{25} : r_{1217}, a_{34} : -\\frac{r_{1210} x_{24}}{x_{23}}, a_{35} : r_{1218}, a_{45} : r_{1219}\\right\\}, \\left\\{d_{1} : r_{1220}, d_{2} : \\frac{r_{1220}}{x_{12}}, d_{3} : \\frac{r_{1220}}{x_{12} x_{23}}, d_{4} : r_{1221}, d_{5} : \\frac{r_{1220}}{x_{12} x_{23} x_{35}}, a_{12} : r_{1222}, a_{13} : r_{1223}, a_{14} : r_{1224}, a_{15} : r_{1225}, a_{23} : \\frac{r_{1222} x_{12} x_{23} - r_{1220} x_{13}}{x_{12}^{2} x_{23}}, a_{24} : 0, a_{25} : \\frac{r_{1220} x_{12} x_{13} x_{25} + {\\left(r_{1223} x_{12}^{2} x_{23}^{2} - r_{1222} x_{12} x_{13} x_{23} + r_{1220} x_{13}^{2}\\right)} x_{35}}{x_{12}^{3} x_{23}^{2} x_{35}}, a_{34} : -\\frac{r_{1221} x_{24}}{x_{23}}, a_{35} : r_{1226}, a_{45} : -\\frac{r_{1220} x_{12} x_{25} + {\\left(r_{1226} x_{12}^{2} x_{23}^{2} - r_{1222} x_{12} x_{23} + r_{1220} x_{13}\\right)} x_{35}}{x_{12}^{2} x_{23} x_{24} x_{35}}\\right\\}\\right]"
      ]
     },
     "execution_count": 70,
     "metadata": {},
     "output_type": "execute_result"
    }
   ],
   "source": [
    "#x4\n",
    "#----------------------\n",
    "#x14 = x13*x24/x23\n",
    "#----------------------\n",
    "reset()\n",
    "\n",
    "var('x12,x13,x14,x15,x23,x24,x25,x34,x35,x45')\n",
    "var('d1,d2,d3,d4,d5')\n",
    "var('a12,a13,a14,a15,a23,a24,a25,a34,a35,a45')\n",
    "\n",
    "#111110\n",
    "eq1=(d2*x12)/(d1) \n",
    "eq2=(a23*d2*x12+d2*d3*x13-a12*d3*x23)/(d1*d2) \n",
    "eq3=(a24*d2*x12+a34*d2*x13+d2*d4*((x13*x24)/x23)-a12*a34*x23-a12*d4*x24)/(d1*d2) \n",
    "eq4=(a25*d2*d3*x12+a35*d2*d3*x13+a45*d2*d3*((x13*x24)/x23)+d2*d3*d5*0-a12*a35*d3*x23-a12*a45*d3*x24-a12*d3*d5*x25+a12*a23*d5*x35-a13*d2*d5*x35)/(d1*d2*d3) \n",
    "eq5=(d3*x23)/(d2) \n",
    "eq6=(a34*x23+d4*x24)/(d2) \n",
    "eq7=(a35*d3*x23+a45*d3*x24+d3*d5*x25-a23*d5*x35)/(d2*d3) \n",
    "eq8=(d5*x35)/(d3) \n",
    "\n",
    "\n",
    "m=matrix(QQ, [[0, 1, 0, 0, 0],\n",
    "              [0, 0, 1, 0, 0],\n",
    "              [0, 0, 0, 0, 1],\n",
    "              [0, 0, 0, 0, 0],\n",
    "              [0, 0, 0, 0, 0]])\n",
    "        \n",
    "#entry of matrix: (i,j) line i collum j, means (i-1,j-1)\n",
    "sol=solve([ eq1==m[0,1],\teq2==m[0,2],\teq3==m[0,3],\teq4==m[0,4],\t\n",
    "                                            eq5==m[1,2],    eq6==m[1,3],\n",
    "                                                            eq7==m[1,4], eq8==m[2,4]],d1,d2,d3,d4,d5,a12,a13,a14,a15,a23,a24,a25,a34,a35,a45, solution_dict=True)\n",
    "\n",
    "show(m)\n",
    "show(sol)\n",
    "latex(sol)"
   ]
  },
  {
   "cell_type": "code",
   "execution_count": 1,
   "metadata": {
    "scrolled": true
   },
   "outputs": [
    {
     "data": {
      "text/html": [
       "<html><script type=\"math/tex; mode=display\">\\newcommand{\\Bold}[1]{\\mathbf{#1}}\\left(\\begin{array}{rrrrr}\n",
       "0 & 1 & 0 & 0 & 0 \\\\\n",
       "0 & 0 & 1 & 0 & 0 \\\\\n",
       "0 & 0 & 0 & 0 & 1 \\\\\n",
       "0 & 0 & 0 & 0 & 0 \\\\\n",
       "0 & 0 & 0 & 0 & 0\n",
       "\\end{array}\\right)</script></html>"
      ],
      "text/latex": [
       "$$\\newcommand{\\Bold}[1]{\\mathbf{#1}}\\left(\\begin{array}{rrrrr}\n",
       "0 & 1 & 0 & 0 & 0 \\\\\n",
       "0 & 0 & 1 & 0 & 0 \\\\\n",
       "0 & 0 & 0 & 0 & 1 \\\\\n",
       "0 & 0 & 0 & 0 & 0 \\\\\n",
       "0 & 0 & 0 & 0 & 0\n",
       "\\end{array}\\right)$$"
      ],
      "text/plain": [
       "[0 1 0 0 0]\n",
       "[0 0 1 0 0]\n",
       "[0 0 0 0 1]\n",
       "[0 0 0 0 0]\n",
       "[0 0 0 0 0]"
      ]
     },
     "metadata": {},
     "output_type": "display_data"
    },
    {
     "data": {
      "text/html": [
       "<html><script type=\"math/tex; mode=display\">\\newcommand{\\Bold}[1]{\\mathbf{#1}}\\left[\\left\\{d_{1} : 0, d_{2} : 0, d_{3} : 0, d_{4} : r_{1}, d_{5} : 0, a_{12} : r_{2}, a_{13} : r_{3}, a_{14} : r_{4}, a_{15} : r_{5}, a_{23} : r_{6}, a_{24} : r_{7}, a_{25} : r_{8}, a_{34} : -\\frac{r_{1} x_{24}}{x_{23}}, a_{35} : r_{9}, a_{45} : r_{10}\\right\\}, \\left\\{d_{1} : r_{11}, d_{2} : \\frac{r_{11}}{x_{12}}, d_{3} : \\frac{r_{11}}{x_{12} x_{23}}, d_{4} : r_{12}, d_{5} : \\frac{r_{11}}{x_{12} x_{23} x_{35}}, a_{12} : r_{13}, a_{13} : r_{14}, a_{14} : r_{15}, a_{15} : r_{16}, a_{23} : \\frac{r_{13} x_{12} x_{23} - r_{11} x_{13}}{x_{12}^{2} x_{23}}, a_{24} : -\\frac{r_{12} x_{14} x_{23} - r_{12} x_{13} x_{24}}{x_{12} x_{23}}, a_{25} : r_{17}, a_{34} : -\\frac{r_{12} x_{24}}{x_{23}}, a_{35} : \\frac{r_{11} x_{12} x_{15} x_{24} - r_{11} x_{12} x_{14} x_{25} + {\\left(r_{13} x_{12} x_{14} x_{23} - r_{11} x_{13} x_{14} + {\\left(r_{17} x_{12}^{3} - r_{14} x_{12}^{2}\\right)} x_{23} x_{24}\\right)} x_{35}}{{\\left(x_{12}^{2} x_{14} x_{23}^{2} - x_{12}^{2} x_{13} x_{23} x_{24}\\right)} x_{35}}, a_{45} : -\\frac{r_{11} x_{12} x_{15} x_{23} - r_{11} x_{12} x_{13} x_{25} + {\\left(r_{13} x_{12} x_{13} x_{23} - r_{11} x_{13}^{2} + {\\left(r_{17} x_{12}^{3} - r_{14} x_{12}^{2}\\right)} x_{23}^{2}\\right)} x_{35}}{{\\left(x_{12}^{2} x_{14} x_{23}^{2} - x_{12}^{2} x_{13} x_{23} x_{24}\\right)} x_{35}}\\right\\}\\right]</script></html>"
      ],
      "text/latex": [
       "$$\\newcommand{\\Bold}[1]{\\mathbf{#1}}\\left[\\left\\{d_{1} : 0, d_{2} : 0, d_{3} : 0, d_{4} : r_{1}, d_{5} : 0, a_{12} : r_{2}, a_{13} : r_{3}, a_{14} : r_{4}, a_{15} : r_{5}, a_{23} : r_{6}, a_{24} : r_{7}, a_{25} : r_{8}, a_{34} : -\\frac{r_{1} x_{24}}{x_{23}}, a_{35} : r_{9}, a_{45} : r_{10}\\right\\}, \\left\\{d_{1} : r_{11}, d_{2} : \\frac{r_{11}}{x_{12}}, d_{3} : \\frac{r_{11}}{x_{12} x_{23}}, d_{4} : r_{12}, d_{5} : \\frac{r_{11}}{x_{12} x_{23} x_{35}}, a_{12} : r_{13}, a_{13} : r_{14}, a_{14} : r_{15}, a_{15} : r_{16}, a_{23} : \\frac{r_{13} x_{12} x_{23} - r_{11} x_{13}}{x_{12}^{2} x_{23}}, a_{24} : -\\frac{r_{12} x_{14} x_{23} - r_{12} x_{13} x_{24}}{x_{12} x_{23}}, a_{25} : r_{17}, a_{34} : -\\frac{r_{12} x_{24}}{x_{23}}, a_{35} : \\frac{r_{11} x_{12} x_{15} x_{24} - r_{11} x_{12} x_{14} x_{25} + {\\left(r_{13} x_{12} x_{14} x_{23} - r_{11} x_{13} x_{14} + {\\left(r_{17} x_{12}^{3} - r_{14} x_{12}^{2}\\right)} x_{23} x_{24}\\right)} x_{35}}{{\\left(x_{12}^{2} x_{14} x_{23}^{2} - x_{12}^{2} x_{13} x_{23} x_{24}\\right)} x_{35}}, a_{45} : -\\frac{r_{11} x_{12} x_{15} x_{23} - r_{11} x_{12} x_{13} x_{25} + {\\left(r_{13} x_{12} x_{13} x_{23} - r_{11} x_{13}^{2} + {\\left(r_{17} x_{12}^{3} - r_{14} x_{12}^{2}\\right)} x_{23}^{2}\\right)} x_{35}}{{\\left(x_{12}^{2} x_{14} x_{23}^{2} - x_{12}^{2} x_{13} x_{23} x_{24}\\right)} x_{35}}\\right\\}\\right]$$"
      ],
      "text/plain": [
       "[{d1: 0,\n",
       "  d2: 0,\n",
       "  d3: 0,\n",
       "  d4: r1,\n",
       "  d5: 0,\n",
       "  a12: r2,\n",
       "  a13: r3,\n",
       "  a14: r4,\n",
       "  a15: r5,\n",
       "  a23: r6,\n",
       "  a24: r7,\n",
       "  a25: r8,\n",
       "  a34: -r1*x24/x23,\n",
       "  a35: r9,\n",
       "  a45: r10},\n",
       " {d1: r11,\n",
       "  d2: r11/x12,\n",
       "  d3: r11/(x12*x23),\n",
       "  d4: r12,\n",
       "  d5: r11/(x12*x23*x35),\n",
       "  a12: r13,\n",
       "  a13: r14,\n",
       "  a14: r15,\n",
       "  a15: r16,\n",
       "  a23: (r13*x12*x23 - r11*x13)/(x12^2*x23),\n",
       "  a24: -(r12*x14*x23 - r12*x13*x24)/(x12*x23),\n",
       "  a25: r17,\n",
       "  a34: -r12*x24/x23,\n",
       "  a35: (r11*x12*x15*x24 - r11*x12*x14*x25 + (r13*x12*x14*x23 - r11*x13*x14 + (r17*x12^3 - r14*x12^2)*x23*x24)*x35)/((x12^2*x14*x23^2 - x12^2*x13*x23*x24)*x35),\n",
       "  a45: -(r11*x12*x15*x23 - r11*x12*x13*x25 + (r13*x12*x13*x23 - r11*x13^2 + (r17*x12^3 - r14*x12^2)*x23^2)*x35)/((x12^2*x14*x23^2 - x12^2*x13*x23*x24)*x35)}]"
      ]
     },
     "metadata": {},
     "output_type": "display_data"
    },
    {
     "data": {
      "text/plain": [
       "\\left[\\left\\{d_{1} : 0, d_{2} : 0, d_{3} : 0, d_{4} : r_{1}, d_{5} : 0, a_{12} : r_{2}, a_{13} : r_{3}, a_{14} : r_{4}, a_{15} : r_{5}, a_{23} : r_{6}, a_{24} : r_{7}, a_{25} : r_{8}, a_{34} : -\\frac{r_{1} x_{24}}{x_{23}}, a_{35} : r_{9}, a_{45} : r_{10}\\right\\}, \\left\\{d_{1} : r_{11}, d_{2} : \\frac{r_{11}}{x_{12}}, d_{3} : \\frac{r_{11}}{x_{12} x_{23}}, d_{4} : r_{12}, d_{5} : \\frac{r_{11}}{x_{12} x_{23} x_{35}}, a_{12} : r_{13}, a_{13} : r_{14}, a_{14} : r_{15}, a_{15} : r_{16}, a_{23} : \\frac{r_{13} x_{12} x_{23} - r_{11} x_{13}}{x_{12}^{2} x_{23}}, a_{24} : -\\frac{r_{12} x_{14} x_{23} - r_{12} x_{13} x_{24}}{x_{12} x_{23}}, a_{25} : r_{17}, a_{34} : -\\frac{r_{12} x_{24}}{x_{23}}, a_{35} : \\frac{r_{11} x_{12} x_{15} x_{24} - r_{11} x_{12} x_{14} x_{25} + {\\left(r_{13} x_{12} x_{14} x_{23} - r_{11} x_{13} x_{14} + {\\left(r_{17} x_{12}^{3} - r_{14} x_{12}^{2}\\right)} x_{23} x_{24}\\right)} x_{35}}{{\\left(x_{12}^{2} x_{14} x_{23}^{2} - x_{12}^{2} x_{13} x_{23} x_{24}\\right)} x_{35}}, a_{45} : -\\frac{r_{11} x_{12} x_{15} x_{23} - r_{11} x_{12} x_{13} x_{25} + {\\left(r_{13} x_{12} x_{13} x_{23} - r_{11} x_{13}^{2} + {\\left(r_{17} x_{12}^{3} - r_{14} x_{12}^{2}\\right)} x_{23}^{2}\\right)} x_{35}}{{\\left(x_{12}^{2} x_{14} x_{23}^{2} - x_{12}^{2} x_{13} x_{23} x_{24}\\right)} x_{35}}\\right\\}\\right]"
      ]
     },
     "execution_count": 1,
     "metadata": {},
     "output_type": "execute_result"
    }
   ],
   "source": [
    "#x4\n",
    "#----------------------\n",
    "#x14 \\dif x13*x24/x23\n",
    "#----------------------\n",
    "reset()\n",
    "\n",
    "var('x12,x13,x14,x15,x23,x24,x25,x34,x35,x45')\n",
    "var('d1,d2,d3,d4,d5')\n",
    "var('a12,a13,a14,a15,a23,a24,a25,a34,a35,a45')\n",
    "\n",
    "eq1=(d2*x12)/(d1) \n",
    "eq2=(a23*d2*x12+d2*d3*x13-a12*d3*x23)/(d1*d2) \n",
    "eq3=(a24*d2*x12+a34*d2*x13+d2*d4*x14-a12*a34*x23-a12*d4*x24)/(d1*d2) \n",
    "eq4=(a25*d2*d3*x12+a35*d2*d3*x13+a45*d2*d3*x14+d2*d3*d5*x15-a12*a35*d3*x23-a12*a45*d3*x24-a12*d3*d5*x25+a12*a23*d5*x35-a13*d2*d5*x35)/(d1*d2*d3) \n",
    "eq5=(d3*x23)/(d2) \n",
    "eq6=(a34*x23+d4*x24)/(d2) \n",
    "eq7=(a35*d3*x23+a45*d3*x24+d3*d5*x25-a23*d5*x35)/(d2*d3) \n",
    "eq8=(d5*x35)/(d3) \n",
    "\n",
    "\n",
    "m=matrix(QQ, [[0, 1, 0, 0, 0],\n",
    "              [0, 0, 1, 0, 0],\n",
    "              [0, 0, 0, 0, 1],\n",
    "              [0, 0, 0, 0, 0],\n",
    "              [0, 0, 0, 0, 0]])\n",
    "        \n",
    "#entry of matrix: (i,j) line i collum j, means (i-1,j-1)\n",
    "sol=solve([ eq1==m[0,1],\teq2==m[0,2],\teq3==m[0,3],\teq4==m[0,4],\t\n",
    "                                            eq5==m[1,2],    eq6==m[1,3],\n",
    "                                                            eq7==m[1,4], eq8==m[2,4]],d1,d2,d3,d4,d5,a12,a13,a14,a15,a23,a24,a25,a34,a35,a45, solution_dict=True)\n",
    "\n",
    "show(m)\n",
    "show(sol)\n",
    "latex(sol)"
   ]
  },
  {
   "cell_type": "code",
   "execution_count": 2,
   "metadata": {},
   "outputs": [
    {
     "data": {
      "text/html": [
       "<html><script type=\"math/tex; mode=display\">\\newcommand{\\Bold}[1]{\\mathbf{#1}}\\left(\\begin{array}{rrrrr}\n",
       "0 & 1 & 0 & 0 & 0 \\\\\n",
       "0 & 0 & 1 & 0 & 0 \\\\\n",
       "0 & 0 & 0 & 0 & 1 \\\\\n",
       "0 & 0 & 0 & 0 & 0 \\\\\n",
       "0 & 0 & 0 & 0 & 0\n",
       "\\end{array}\\right)</script></html>"
      ],
      "text/latex": [
       "$$\\newcommand{\\Bold}[1]{\\mathbf{#1}}\\left(\\begin{array}{rrrrr}\n",
       "0 & 1 & 0 & 0 & 0 \\\\\n",
       "0 & 0 & 1 & 0 & 0 \\\\\n",
       "0 & 0 & 0 & 0 & 1 \\\\\n",
       "0 & 0 & 0 & 0 & 0 \\\\\n",
       "0 & 0 & 0 & 0 & 0\n",
       "\\end{array}\\right)$$"
      ],
      "text/plain": [
       "[0 1 0 0 0]\n",
       "[0 0 1 0 0]\n",
       "[0 0 0 0 1]\n",
       "[0 0 0 0 0]\n",
       "[0 0 0 0 0]"
      ]
     },
     "metadata": {},
     "output_type": "display_data"
    },
    {
     "data": {
      "text/html": [
       "<html><script type=\"math/tex; mode=display\">\\newcommand{\\Bold}[1]{\\mathbf{#1}}\\left[\\left\\{d_{1} : 0, d_{2} : 0, d_{3} : 0, d_{4} : r_{18}, d_{5} : 0, a_{12} : r_{19}, a_{13} : r_{20}, a_{14} : r_{21}, a_{15} : r_{22}, a_{23} : r_{23}, a_{24} : r_{24}, a_{25} : r_{25}, a_{34} : -\\frac{r_{18} x_{24}}{x_{23}}, a_{35} : r_{26}, a_{45} : r_{27}\\right\\}, \\left\\{d_{1} : r_{28}, d_{2} : \\frac{r_{28}}{x_{12}}, d_{3} : \\frac{r_{28}}{x_{12} x_{23}}, d_{4} : r_{29}, d_{5} : \\frac{r_{28}}{x_{12} x_{23} x_{35}}, a_{12} : r_{30}, a_{13} : r_{31}, a_{14} : r_{32}, a_{15} : r_{33}, a_{23} : \\frac{r_{30} x_{12} x_{23} - r_{28} x_{13}}{x_{12}^{2} x_{23}}, a_{24} : 0, a_{25} : -\\frac{r_{28} x_{12} x_{15} x_{23} - r_{28} x_{12} x_{13} x_{25} - {\\left(r_{31} x_{12}^{2} x_{23}^{2} - r_{30} x_{12} x_{13} x_{23} + r_{28} x_{13}^{2}\\right)} x_{35}}{x_{12}^{3} x_{23}^{2} x_{35}}, a_{34} : -\\frac{r_{29} x_{24}}{x_{23}}, a_{35} : r_{34}, a_{45} : -\\frac{r_{28} x_{12} x_{25} + {\\left(r_{34} x_{12}^{2} x_{23}^{2} - r_{30} x_{12} x_{23} + r_{28} x_{13}\\right)} x_{35}}{x_{12}^{2} x_{23} x_{24} x_{35}}\\right\\}\\right]</script></html>"
      ],
      "text/latex": [
       "$$\\newcommand{\\Bold}[1]{\\mathbf{#1}}\\left[\\left\\{d_{1} : 0, d_{2} : 0, d_{3} : 0, d_{4} : r_{18}, d_{5} : 0, a_{12} : r_{19}, a_{13} : r_{20}, a_{14} : r_{21}, a_{15} : r_{22}, a_{23} : r_{23}, a_{24} : r_{24}, a_{25} : r_{25}, a_{34} : -\\frac{r_{18} x_{24}}{x_{23}}, a_{35} : r_{26}, a_{45} : r_{27}\\right\\}, \\left\\{d_{1} : r_{28}, d_{2} : \\frac{r_{28}}{x_{12}}, d_{3} : \\frac{r_{28}}{x_{12} x_{23}}, d_{4} : r_{29}, d_{5} : \\frac{r_{28}}{x_{12} x_{23} x_{35}}, a_{12} : r_{30}, a_{13} : r_{31}, a_{14} : r_{32}, a_{15} : r_{33}, a_{23} : \\frac{r_{30} x_{12} x_{23} - r_{28} x_{13}}{x_{12}^{2} x_{23}}, a_{24} : 0, a_{25} : -\\frac{r_{28} x_{12} x_{15} x_{23} - r_{28} x_{12} x_{13} x_{25} - {\\left(r_{31} x_{12}^{2} x_{23}^{2} - r_{30} x_{12} x_{13} x_{23} + r_{28} x_{13}^{2}\\right)} x_{35}}{x_{12}^{3} x_{23}^{2} x_{35}}, a_{34} : -\\frac{r_{29} x_{24}}{x_{23}}, a_{35} : r_{34}, a_{45} : -\\frac{r_{28} x_{12} x_{25} + {\\left(r_{34} x_{12}^{2} x_{23}^{2} - r_{30} x_{12} x_{23} + r_{28} x_{13}\\right)} x_{35}}{x_{12}^{2} x_{23} x_{24} x_{35}}\\right\\}\\right]$$"
      ],
      "text/plain": [
       "[{d1: 0,\n",
       "  d2: 0,\n",
       "  d3: 0,\n",
       "  d4: r18,\n",
       "  d5: 0,\n",
       "  a12: r19,\n",
       "  a13: r20,\n",
       "  a14: r21,\n",
       "  a15: r22,\n",
       "  a23: r23,\n",
       "  a24: r24,\n",
       "  a25: r25,\n",
       "  a34: -r18*x24/x23,\n",
       "  a35: r26,\n",
       "  a45: r27},\n",
       " {d1: r28,\n",
       "  d2: r28/x12,\n",
       "  d3: r28/(x12*x23),\n",
       "  d4: r29,\n",
       "  d5: r28/(x12*x23*x35),\n",
       "  a12: r30,\n",
       "  a13: r31,\n",
       "  a14: r32,\n",
       "  a15: r33,\n",
       "  a23: (r30*x12*x23 - r28*x13)/(x12^2*x23),\n",
       "  a24: 0,\n",
       "  a25: -(r28*x12*x15*x23 - r28*x12*x13*x25 - (r31*x12^2*x23^2 - r30*x12*x13*x23 + r28*x13^2)*x35)/(x12^3*x23^2*x35),\n",
       "  a34: -r29*x24/x23,\n",
       "  a35: r34,\n",
       "  a45: -(r28*x12*x25 + (r34*x12^2*x23^2 - r30*x12*x23 + r28*x13)*x35)/(x12^2*x23*x24*x35)}]"
      ]
     },
     "metadata": {},
     "output_type": "display_data"
    },
    {
     "data": {
      "text/plain": [
       "\\left[\\left\\{d_{1} : 0, d_{2} : 0, d_{3} : 0, d_{4} : r_{18}, d_{5} : 0, a_{12} : r_{19}, a_{13} : r_{20}, a_{14} : r_{21}, a_{15} : r_{22}, a_{23} : r_{23}, a_{24} : r_{24}, a_{25} : r_{25}, a_{34} : -\\frac{r_{18} x_{24}}{x_{23}}, a_{35} : r_{26}, a_{45} : r_{27}\\right\\}, \\left\\{d_{1} : r_{28}, d_{2} : \\frac{r_{28}}{x_{12}}, d_{3} : \\frac{r_{28}}{x_{12} x_{23}}, d_{4} : r_{29}, d_{5} : \\frac{r_{28}}{x_{12} x_{23} x_{35}}, a_{12} : r_{30}, a_{13} : r_{31}, a_{14} : r_{32}, a_{15} : r_{33}, a_{23} : \\frac{r_{30} x_{12} x_{23} - r_{28} x_{13}}{x_{12}^{2} x_{23}}, a_{24} : 0, a_{25} : -\\frac{r_{28} x_{12} x_{15} x_{23} - r_{28} x_{12} x_{13} x_{25} - {\\left(r_{31} x_{12}^{2} x_{23}^{2} - r_{30} x_{12} x_{13} x_{23} + r_{28} x_{13}^{2}\\right)} x_{35}}{x_{12}^{3} x_{23}^{2} x_{35}}, a_{34} : -\\frac{r_{29} x_{24}}{x_{23}}, a_{35} : r_{34}, a_{45} : -\\frac{r_{28} x_{12} x_{25} + {\\left(r_{34} x_{12}^{2} x_{23}^{2} - r_{30} x_{12} x_{23} + r_{28} x_{13}\\right)} x_{35}}{x_{12}^{2} x_{23} x_{24} x_{35}}\\right\\}\\right]"
      ]
     },
     "execution_count": 2,
     "metadata": {},
     "output_type": "execute_result"
    }
   ],
   "source": [
    "#x4\n",
    "#----------------------\n",
    "#x14 = x13*x24/x23\n",
    "#----------------------\n",
    "reset()\n",
    "\n",
    "var('x12,x13,x14,x15,x23,x24,x25,x34,x35,x45')\n",
    "var('d1,d2,d3,d4,d5')\n",
    "var('a12,a13,a14,a15,a23,a24,a25,a34,a35,a45')\n",
    "\n",
    "eq1=(d2*x12)/(d1) \n",
    "eq2=(a23*d2*x12+d2*d3*x13-a12*d3*x23)/(d1*d2) \n",
    "eq3=(a24*d2*x12+a34*d2*x13+d2*d4*(x13*x24/x23)-a12*a34*x23-a12*d4*x24)/(d1*d2) \n",
    "eq4=(a25*d2*d3*x12+a35*d2*d3*x13+a45*d2*d3*(x13*x24/x23)+d2*d3*d5*x15-a12*a35*d3*x23-a12*a45*d3*x24-a12*d3*d5*x25+a12*a23*d5*x35-a13*d2*d5*x35)/(d1*d2*d3) \n",
    "eq5=(d3*x23)/(d2) \n",
    "eq6=(a34*x23+d4*x24)/(d2) \n",
    "eq7=(a35*d3*x23+a45*d3*x24+d3*d5*x25-a23*d5*x35)/(d2*d3) \n",
    "eq8=(d5*x35)/(d3) \n",
    "\n",
    "\n",
    "m=matrix(QQ, [[0, 1, 0, 0, 0],\n",
    "              [0, 0, 1, 0, 0],\n",
    "              [0, 0, 0, 0, 1],\n",
    "              [0, 0, 0, 0, 0],\n",
    "              [0, 0, 0, 0, 0]])\n",
    "        \n",
    "#entry of matrix: (i,j) line i collum j, means (i-1,j-1)\n",
    "sol=solve([ eq1==m[0,1],\teq2==m[0,2],\teq3==m[0,3],\teq4==m[0,4],\t\n",
    "                                            eq5==m[1,2],    eq6==m[1,3],\n",
    "                                                            eq7==m[1,4], eq8==m[2,4]],d1,d2,d3,d4,d5,a12,a13,a14,a15,a23,a24,a25,a34,a35,a45, solution_dict=True)\n",
    "\n",
    "show(m)\n",
    "show(sol)\n",
    "latex(sol)"
   ]
  },
  {
   "cell_type": "code",
   "execution_count": null,
   "metadata": {},
   "outputs": [],
   "source": []
  }
 ],
 "metadata": {
  "kernelspec": {
   "display_name": "SageMath 9.3",
   "language": "sage",
   "name": "sagemath"
  },
  "language_info": {
   "codemirror_mode": {
    "name": "ipython",
    "version": 3
   },
   "file_extension": ".py",
   "mimetype": "text/x-python",
   "name": "python",
   "nbconvert_exporter": "python",
   "pygments_lexer": "ipython3",
   "version": "3.7.10"
  }
 },
 "nbformat": 4,
 "nbformat_minor": 4
}
