{
 "cells": [
  {
   "cell_type": "markdown",
   "metadata": {},
   "source": [
    "Matrix type\n",
    "\n",
    "              [0, 1, *, *, *],\n",
    "              [0, 0, 1, *, *],\n",
    "              [0, 0, 0, 0, *],\n",
    "              [0, 0, 0, 0, 0],\n",
    "              [0, 0, 0, 0, 0]\n"
   ]
  },
  {
   "cell_type": "code",
   "execution_count": 1,
   "metadata": {
    "scrolled": true
   },
   "outputs": [
    {
     "data": {
      "text/html": [
       "<html><script type=\"math/tex; mode=display\">\\newcommand{\\Bold}[1]{\\mathbf{#1}}\\left(\\begin{array}{rrrrr}\n",
       "0 & 1 & 0 & 0 & 0 \\\\\n",
       "0 & 0 & 1 & 0 & 0 \\\\\n",
       "0 & 0 & 0 & 0 & 0 \\\\\n",
       "0 & 0 & 0 & 0 & 0 \\\\\n",
       "0 & 0 & 0 & 0 & 0\n",
       "\\end{array}\\right)</script></html>"
      ],
      "text/latex": [
       "$$\\newcommand{\\Bold}[1]{\\mathbf{#1}}\\left(\\begin{array}{rrrrr}\n",
       "0 & 1 & 0 & 0 & 0 \\\\\n",
       "0 & 0 & 1 & 0 & 0 \\\\\n",
       "0 & 0 & 0 & 0 & 0 \\\\\n",
       "0 & 0 & 0 & 0 & 0 \\\\\n",
       "0 & 0 & 0 & 0 & 0\n",
       "\\end{array}\\right)$$"
      ],
      "text/plain": [
       "[0 1 0 0 0]\n",
       "[0 0 1 0 0]\n",
       "[0 0 0 0 0]\n",
       "[0 0 0 0 0]\n",
       "[0 0 0 0 0]"
      ]
     },
     "metadata": {},
     "output_type": "display_data"
    },
    {
     "data": {
      "text/html": [
       "<html><script type=\"math/tex; mode=display\">\\newcommand{\\Bold}[1]{\\mathbf{#1}}\\left[\\left\\{d_{1} : 0, d_{2} : 0, d_{3} : 0, d_{4} : r_{1}, d_{5} : r_{2}, a_{12} : r_{3}, a_{13} : r_{4}, a_{14} : r_{5}, a_{15} : r_{6}, a_{23} : r_{7}, a_{24} : r_{8}, a_{25} : r_{9}, a_{34} : 0, a_{35} : 0, a_{45} : r_{10}\\right\\}, \\left\\{d_{1} : r_{11}, d_{2} : \\frac{r_{11}}{x_{12}}, d_{3} : \\frac{r_{11}}{x_{12} x_{23}}, d_{4} : r_{12}, d_{5} : r_{13}, a_{12} : r_{14}, a_{13} : r_{15}, a_{14} : r_{16}, a_{15} : r_{17}, a_{23} : \\frac{r_{14}}{x_{12}}, a_{24} : 0, a_{25} : 0, a_{34} : 0, a_{35} : 0, a_{45} : r_{18}\\right\\}\\right]</script></html>"
      ],
      "text/latex": [
       "$$\\newcommand{\\Bold}[1]{\\mathbf{#1}}\\left[\\left\\{d_{1} : 0, d_{2} : 0, d_{3} : 0, d_{4} : r_{1}, d_{5} : r_{2}, a_{12} : r_{3}, a_{13} : r_{4}, a_{14} : r_{5}, a_{15} : r_{6}, a_{23} : r_{7}, a_{24} : r_{8}, a_{25} : r_{9}, a_{34} : 0, a_{35} : 0, a_{45} : r_{10}\\right\\}, \\left\\{d_{1} : r_{11}, d_{2} : \\frac{r_{11}}{x_{12}}, d_{3} : \\frac{r_{11}}{x_{12} x_{23}}, d_{4} : r_{12}, d_{5} : r_{13}, a_{12} : r_{14}, a_{13} : r_{15}, a_{14} : r_{16}, a_{15} : r_{17}, a_{23} : \\frac{r_{14}}{x_{12}}, a_{24} : 0, a_{25} : 0, a_{34} : 0, a_{35} : 0, a_{45} : r_{18}\\right\\}\\right]$$"
      ],
      "text/plain": [
       "[{d1: 0,\n",
       "  d2: 0,\n",
       "  d3: 0,\n",
       "  d4: r1,\n",
       "  d5: r2,\n",
       "  a12: r3,\n",
       "  a13: r4,\n",
       "  a14: r5,\n",
       "  a15: r6,\n",
       "  a23: r7,\n",
       "  a24: r8,\n",
       "  a25: r9,\n",
       "  a34: 0,\n",
       "  a35: 0,\n",
       "  a45: r10},\n",
       " {d1: r11,\n",
       "  d2: r11/x12,\n",
       "  d3: r11/(x12*x23),\n",
       "  d4: r12,\n",
       "  d5: r13,\n",
       "  a12: r14,\n",
       "  a13: r15,\n",
       "  a14: r16,\n",
       "  a15: r17,\n",
       "  a23: r14/x12,\n",
       "  a24: 0,\n",
       "  a25: 0,\n",
       "  a34: 0,\n",
       "  a35: 0,\n",
       "  a45: r18}]"
      ]
     },
     "metadata": {},
     "output_type": "display_data"
    }
   ],
   "source": [
    "#x4\n",
    "reset()\n",
    "\n",
    "var('x12,x13,x14,x15,x23,x24,x25,x34,x35,x45')\n",
    "var('d1,d2,d3,d4,d5')\n",
    "var('a12,a13,a14,a15,a23,a24,a25,a34,a35,a45')\n",
    "\n",
    "load_attach_path('C:\\\\Users\\\\julia\\\\Documents\\\\unb\\\\doutorado\\\\pensar\\\\codigo_sage_v2\\\\maquina\\\\x4')\n",
    "load('out_#000000.sage')\n",
    "\n",
    "m=matrix(QQ, [[0, 1, 0, 0, 0],\n",
    "              [0, 0, 1, 0, 0],\n",
    "              [0, 0, 0, 0, 0],\n",
    "              [0, 0, 0, 0, 0],\n",
    "              [0, 0, 0, 0, 0]])\n",
    "        \n",
    "#entry of matrix: (i,j) line i collum j, means (i-1,j-1)\n",
    "sol=solve([ eq1==m[0,1],\teq2==m[0,2],\teq3==m[0,3],\teq4==m[0,4],\t\n",
    "                                            eq5==m[1,2],    eq6==m[1,3],\n",
    "                                                            eq7==m[1,4], eq8==m[2,4]],d1,d2,d3,d4,d5,a12,a13,a14,a15,a23,a24,a25,a34,a35,a45, solution_dict=True)\n",
    "\n",
    "show(m)\n",
    "show(sol)\n",
    "#latex(sol)"
   ]
  },
  {
   "cell_type": "code",
   "execution_count": 2,
   "metadata": {},
   "outputs": [
    {
     "data": {
      "text/html": [
       "<html><script type=\"math/tex; mode=display\">\\newcommand{\\Bold}[1]{\\mathbf{#1}}\\left(\\begin{array}{rrrrr}\n",
       "0 & 1 & 0 & 0 & 1 \\\\\n",
       "0 & 0 & 1 & 0 & 0 \\\\\n",
       "0 & 0 & 0 & 0 & 0 \\\\\n",
       "0 & 0 & 0 & 0 & 0 \\\\\n",
       "0 & 0 & 0 & 0 & 0\n",
       "\\end{array}\\right)</script></html>"
      ],
      "text/latex": [
       "$$\\newcommand{\\Bold}[1]{\\mathbf{#1}}\\left(\\begin{array}{rrrrr}\n",
       "0 & 1 & 0 & 0 & 1 \\\\\n",
       "0 & 0 & 1 & 0 & 0 \\\\\n",
       "0 & 0 & 0 & 0 & 0 \\\\\n",
       "0 & 0 & 0 & 0 & 0 \\\\\n",
       "0 & 0 & 0 & 0 & 0\n",
       "\\end{array}\\right)$$"
      ],
      "text/plain": [
       "[0 1 0 0 1]\n",
       "[0 0 1 0 0]\n",
       "[0 0 0 0 0]\n",
       "[0 0 0 0 0]\n",
       "[0 0 0 0 0]"
      ]
     },
     "metadata": {},
     "output_type": "display_data"
    },
    {
     "data": {
      "text/html": [
       "<html><script type=\"math/tex; mode=display\">\\newcommand{\\Bold}[1]{\\mathbf{#1}}\\left[\\left\\{d_{1} : 0, d_{2} : 0, d_{3} : 0, d_{4} : r_{19}, d_{5} : r_{20}, a_{12} : r_{21}, a_{13} : r_{22}, a_{14} : r_{23}, a_{15} : r_{24}, a_{23} : r_{25}, a_{24} : r_{26}, a_{25} : r_{27}, a_{34} : 0, a_{35} : 0, a_{45} : r_{28}\\right\\}, \\left\\{d_{1} : r_{29}, d_{2} : \\frac{r_{29}}{x_{12}}, d_{3} : \\frac{r_{29}}{x_{12} x_{23}}, d_{4} : r_{30}, d_{5} : r_{31}, a_{12} : r_{32}, a_{13} : r_{33}, a_{14} : r_{34}, a_{15} : r_{35}, a_{23} : \\frac{r_{32}}{x_{12}}, a_{24} : 0, a_{25} : -\\frac{r_{31} x_{15} - r_{29}}{x_{12}}, a_{34} : 0, a_{35} : 0, a_{45} : r_{36}\\right\\}\\right]</script></html>"
      ],
      "text/latex": [
       "$$\\newcommand{\\Bold}[1]{\\mathbf{#1}}\\left[\\left\\{d_{1} : 0, d_{2} : 0, d_{3} : 0, d_{4} : r_{19}, d_{5} : r_{20}, a_{12} : r_{21}, a_{13} : r_{22}, a_{14} : r_{23}, a_{15} : r_{24}, a_{23} : r_{25}, a_{24} : r_{26}, a_{25} : r_{27}, a_{34} : 0, a_{35} : 0, a_{45} : r_{28}\\right\\}, \\left\\{d_{1} : r_{29}, d_{2} : \\frac{r_{29}}{x_{12}}, d_{3} : \\frac{r_{29}}{x_{12} x_{23}}, d_{4} : r_{30}, d_{5} : r_{31}, a_{12} : r_{32}, a_{13} : r_{33}, a_{14} : r_{34}, a_{15} : r_{35}, a_{23} : \\frac{r_{32}}{x_{12}}, a_{24} : 0, a_{25} : -\\frac{r_{31} x_{15} - r_{29}}{x_{12}}, a_{34} : 0, a_{35} : 0, a_{45} : r_{36}\\right\\}\\right]$$"
      ],
      "text/plain": [
       "[{d1: 0,\n",
       "  d2: 0,\n",
       "  d3: 0,\n",
       "  d4: r19,\n",
       "  d5: r20,\n",
       "  a12: r21,\n",
       "  a13: r22,\n",
       "  a14: r23,\n",
       "  a15: r24,\n",
       "  a23: r25,\n",
       "  a24: r26,\n",
       "  a25: r27,\n",
       "  a34: 0,\n",
       "  a35: 0,\n",
       "  a45: r28},\n",
       " {d1: r29,\n",
       "  d2: r29/x12,\n",
       "  d3: r29/(x12*x23),\n",
       "  d4: r30,\n",
       "  d5: r31,\n",
       "  a12: r32,\n",
       "  a13: r33,\n",
       "  a14: r34,\n",
       "  a15: r35,\n",
       "  a23: r32/x12,\n",
       "  a24: 0,\n",
       "  a25: -(r31*x15 - r29)/x12,\n",
       "  a34: 0,\n",
       "  a35: 0,\n",
       "  a45: r36}]"
      ]
     },
     "metadata": {},
     "output_type": "display_data"
    }
   ],
   "source": [
    "#x4\n",
    "reset()\n",
    "\n",
    "var('x12,x13,x14,x15,x23,x24,x25,x34,x35,x45')\n",
    "var('d1,d2,d3,d4,d5')\n",
    "var('a12,a13,a14,a15,a23,a24,a25,a34,a35,a45')\n",
    "\n",
    "load_attach_path('C:\\\\Users\\\\julia\\\\Documents\\\\unb\\\\doutorado\\\\pensar\\\\codigo_sage_v2\\\\maquina\\\\x4')\n",
    "load('out_#000001.sage')\n",
    "\n",
    "m=matrix(QQ, [[0, 1, 0, 0, 1],\n",
    "              [0, 0, 1, 0, 0],\n",
    "              [0, 0, 0, 0, 0],\n",
    "              [0, 0, 0, 0, 0],\n",
    "              [0, 0, 0, 0, 0]])\n",
    "        \n",
    "#entry of matrix: (i,j) line i collum j, means (i-1,j-1)\n",
    "sol=solve([ eq1==m[0,1],\teq2==m[0,2],\teq3==m[0,3],\teq4==m[0,4],\t\n",
    "                                            eq5==m[1,2],    eq6==m[1,3],\n",
    "                                                            eq7==m[1,4], eq8==m[2,4]],d1,d2,d3,d4,d5,a12,a13,a14,a15,a23,a24,a25,a34,a35,a45, solution_dict=True)\n",
    "\n",
    "show(m)\n",
    "show(sol)\n",
    "#latex(sol)"
   ]
  },
  {
   "cell_type": "code",
   "execution_count": 3,
   "metadata": {},
   "outputs": [
    {
     "data": {
      "text/html": [
       "<html><script type=\"math/tex; mode=display\">\\newcommand{\\Bold}[1]{\\mathbf{#1}}\\left(\\begin{array}{rrrrr}\n",
       "0 & 1 & 0 & 1 & 0 \\\\\n",
       "0 & 0 & 1 & 0 & 0 \\\\\n",
       "0 & 0 & 0 & 0 & 0 \\\\\n",
       "0 & 0 & 0 & 0 & 0 \\\\\n",
       "0 & 0 & 0 & 0 & 0\n",
       "\\end{array}\\right)</script></html>"
      ],
      "text/latex": [
       "$$\\newcommand{\\Bold}[1]{\\mathbf{#1}}\\left(\\begin{array}{rrrrr}\n",
       "0 & 1 & 0 & 1 & 0 \\\\\n",
       "0 & 0 & 1 & 0 & 0 \\\\\n",
       "0 & 0 & 0 & 0 & 0 \\\\\n",
       "0 & 0 & 0 & 0 & 0 \\\\\n",
       "0 & 0 & 0 & 0 & 0\n",
       "\\end{array}\\right)$$"
      ],
      "text/plain": [
       "[0 1 0 1 0]\n",
       "[0 0 1 0 0]\n",
       "[0 0 0 0 0]\n",
       "[0 0 0 0 0]\n",
       "[0 0 0 0 0]"
      ]
     },
     "metadata": {},
     "output_type": "display_data"
    },
    {
     "data": {
      "text/html": [
       "<html><script type=\"math/tex; mode=display\">\\newcommand{\\Bold}[1]{\\mathbf{#1}}\\left[\\left\\{d_{1} : 0, d_{2} : 0, d_{3} : 0, d_{4} : r_{37}, d_{5} : r_{38}, a_{12} : r_{39}, a_{13} : r_{40}, a_{14} : r_{41}, a_{15} : r_{42}, a_{23} : r_{43}, a_{24} : r_{44}, a_{25} : r_{45}, a_{34} : 0, a_{35} : 0, a_{45} : r_{46}\\right\\}, \\left\\{d_{1} : r_{47}, d_{2} : \\frac{r_{47}}{x_{12}}, d_{3} : \\frac{r_{47}}{x_{12} x_{23}}, d_{4} : r_{48}, d_{5} : r_{49}, a_{12} : r_{50}, a_{13} : r_{51}, a_{14} : r_{52}, a_{15} : r_{53}, a_{23} : \\frac{r_{50}}{x_{12}}, a_{24} : -\\frac{r_{48} x_{14} - r_{47}}{x_{12}}, a_{25} : r_{54}, a_{34} : 0, a_{35} : 0, a_{45} : -\\frac{r_{54} x_{12}}{x_{14}}\\right\\}\\right]</script></html>"
      ],
      "text/latex": [
       "$$\\newcommand{\\Bold}[1]{\\mathbf{#1}}\\left[\\left\\{d_{1} : 0, d_{2} : 0, d_{3} : 0, d_{4} : r_{37}, d_{5} : r_{38}, a_{12} : r_{39}, a_{13} : r_{40}, a_{14} : r_{41}, a_{15} : r_{42}, a_{23} : r_{43}, a_{24} : r_{44}, a_{25} : r_{45}, a_{34} : 0, a_{35} : 0, a_{45} : r_{46}\\right\\}, \\left\\{d_{1} : r_{47}, d_{2} : \\frac{r_{47}}{x_{12}}, d_{3} : \\frac{r_{47}}{x_{12} x_{23}}, d_{4} : r_{48}, d_{5} : r_{49}, a_{12} : r_{50}, a_{13} : r_{51}, a_{14} : r_{52}, a_{15} : r_{53}, a_{23} : \\frac{r_{50}}{x_{12}}, a_{24} : -\\frac{r_{48} x_{14} - r_{47}}{x_{12}}, a_{25} : r_{54}, a_{34} : 0, a_{35} : 0, a_{45} : -\\frac{r_{54} x_{12}}{x_{14}}\\right\\}\\right]$$"
      ],
      "text/plain": [
       "[{d1: 0,\n",
       "  d2: 0,\n",
       "  d3: 0,\n",
       "  d4: r37,\n",
       "  d5: r38,\n",
       "  a12: r39,\n",
       "  a13: r40,\n",
       "  a14: r41,\n",
       "  a15: r42,\n",
       "  a23: r43,\n",
       "  a24: r44,\n",
       "  a25: r45,\n",
       "  a34: 0,\n",
       "  a35: 0,\n",
       "  a45: r46},\n",
       " {d1: r47,\n",
       "  d2: r47/x12,\n",
       "  d3: r47/(x12*x23),\n",
       "  d4: r48,\n",
       "  d5: r49,\n",
       "  a12: r50,\n",
       "  a13: r51,\n",
       "  a14: r52,\n",
       "  a15: r53,\n",
       "  a23: r50/x12,\n",
       "  a24: -(r48*x14 - r47)/x12,\n",
       "  a25: r54,\n",
       "  a34: 0,\n",
       "  a35: 0,\n",
       "  a45: -r54*x12/x14}]"
      ]
     },
     "metadata": {},
     "output_type": "display_data"
    }
   ],
   "source": [
    "#x4\n",
    "reset()\n",
    "\n",
    "var('x12,x13,x14,x15,x23,x24,x25,x34,x35,x45')\n",
    "var('d1,d2,d3,d4,d5')\n",
    "var('a12,a13,a14,a15,a23,a24,a25,a34,a35,a45')\n",
    "\n",
    "load_attach_path('C:\\\\Users\\\\julia\\\\Documents\\\\unb\\\\doutorado\\\\pensar\\\\codigo_sage_v2\\\\maquina\\\\x4')\n",
    "load('out_#000010.sage')\n",
    "\n",
    "m=matrix(QQ, [[0, 1, 0, 1, 0],\n",
    "              [0, 0, 1, 0, 0],\n",
    "              [0, 0, 0, 0, 0],\n",
    "              [0, 0, 0, 0, 0],\n",
    "              [0, 0, 0, 0, 0]])\n",
    "        \n",
    "#entry of matrix: (i,j) line i collum j, means (i-1,j-1)\n",
    "sol=solve([ eq1==m[0,1],\teq2==m[0,2],\teq3==m[0,3],\teq4==m[0,4],\t\n",
    "                                            eq5==m[1,2],    eq6==m[1,3],\n",
    "                                                            eq7==m[1,4], eq8==m[2,4]],d1,d2,d3,d4,d5,a12,a13,a14,a15,a23,a24,a25,a34,a35,a45, solution_dict=True)\n",
    "\n",
    "show(m)\n",
    "show(sol)\n",
    "#latex(sol)"
   ]
  },
  {
   "cell_type": "code",
   "execution_count": 4,
   "metadata": {},
   "outputs": [
    {
     "data": {
      "text/html": [
       "<html><script type=\"math/tex; mode=display\">\\newcommand{\\Bold}[1]{\\mathbf{#1}}\\left(\\begin{array}{rrrrr}\n",
       "0 & 1 & 0 & 1 & 1 \\\\\n",
       "0 & 0 & 1 & 0 & 0 \\\\\n",
       "0 & 0 & 0 & 0 & 0 \\\\\n",
       "0 & 0 & 0 & 0 & 0 \\\\\n",
       "0 & 0 & 0 & 0 & 0\n",
       "\\end{array}\\right)</script></html>"
      ],
      "text/latex": [
       "$$\\newcommand{\\Bold}[1]{\\mathbf{#1}}\\left(\\begin{array}{rrrrr}\n",
       "0 & 1 & 0 & 1 & 1 \\\\\n",
       "0 & 0 & 1 & 0 & 0 \\\\\n",
       "0 & 0 & 0 & 0 & 0 \\\\\n",
       "0 & 0 & 0 & 0 & 0 \\\\\n",
       "0 & 0 & 0 & 0 & 0\n",
       "\\end{array}\\right)$$"
      ],
      "text/plain": [
       "[0 1 0 1 1]\n",
       "[0 0 1 0 0]\n",
       "[0 0 0 0 0]\n",
       "[0 0 0 0 0]\n",
       "[0 0 0 0 0]"
      ]
     },
     "metadata": {},
     "output_type": "display_data"
    },
    {
     "data": {
      "text/html": [
       "<html><script type=\"math/tex; mode=display\">\\newcommand{\\Bold}[1]{\\mathbf{#1}}\\left[\\left\\{d_{1} : 0, d_{2} : 0, d_{3} : 0, d_{4} : r_{55}, d_{5} : r_{56}, a_{12} : r_{57}, a_{13} : r_{58}, a_{14} : r_{59}, a_{15} : r_{60}, a_{23} : r_{61}, a_{24} : r_{62}, a_{25} : r_{63}, a_{34} : 0, a_{35} : 0, a_{45} : r_{64}\\right\\}, \\left\\{d_{1} : r_{65}, d_{2} : \\frac{r_{65}}{x_{12}}, d_{3} : \\frac{r_{65}}{x_{12} x_{23}}, d_{4} : r_{66}, d_{5} : r_{67}, a_{12} : r_{68}, a_{13} : r_{69}, a_{14} : r_{70}, a_{15} : r_{71}, a_{23} : \\frac{r_{68}}{x_{12}}, a_{24} : -\\frac{r_{66} x_{14} - r_{65}}{x_{12}}, a_{25} : r_{72}, a_{34} : 0, a_{35} : 0, a_{45} : -\\frac{r_{72} x_{12} + r_{67} x_{15} - r_{65}}{x_{14}}\\right\\}\\right]</script></html>"
      ],
      "text/latex": [
       "$$\\newcommand{\\Bold}[1]{\\mathbf{#1}}\\left[\\left\\{d_{1} : 0, d_{2} : 0, d_{3} : 0, d_{4} : r_{55}, d_{5} : r_{56}, a_{12} : r_{57}, a_{13} : r_{58}, a_{14} : r_{59}, a_{15} : r_{60}, a_{23} : r_{61}, a_{24} : r_{62}, a_{25} : r_{63}, a_{34} : 0, a_{35} : 0, a_{45} : r_{64}\\right\\}, \\left\\{d_{1} : r_{65}, d_{2} : \\frac{r_{65}}{x_{12}}, d_{3} : \\frac{r_{65}}{x_{12} x_{23}}, d_{4} : r_{66}, d_{5} : r_{67}, a_{12} : r_{68}, a_{13} : r_{69}, a_{14} : r_{70}, a_{15} : r_{71}, a_{23} : \\frac{r_{68}}{x_{12}}, a_{24} : -\\frac{r_{66} x_{14} - r_{65}}{x_{12}}, a_{25} : r_{72}, a_{34} : 0, a_{35} : 0, a_{45} : -\\frac{r_{72} x_{12} + r_{67} x_{15} - r_{65}}{x_{14}}\\right\\}\\right]$$"
      ],
      "text/plain": [
       "[{d1: 0,\n",
       "  d2: 0,\n",
       "  d3: 0,\n",
       "  d4: r55,\n",
       "  d5: r56,\n",
       "  a12: r57,\n",
       "  a13: r58,\n",
       "  a14: r59,\n",
       "  a15: r60,\n",
       "  a23: r61,\n",
       "  a24: r62,\n",
       "  a25: r63,\n",
       "  a34: 0,\n",
       "  a35: 0,\n",
       "  a45: r64},\n",
       " {d1: r65,\n",
       "  d2: r65/x12,\n",
       "  d3: r65/(x12*x23),\n",
       "  d4: r66,\n",
       "  d5: r67,\n",
       "  a12: r68,\n",
       "  a13: r69,\n",
       "  a14: r70,\n",
       "  a15: r71,\n",
       "  a23: r68/x12,\n",
       "  a24: -(r66*x14 - r65)/x12,\n",
       "  a25: r72,\n",
       "  a34: 0,\n",
       "  a35: 0,\n",
       "  a45: -(r72*x12 + r67*x15 - r65)/x14}]"
      ]
     },
     "metadata": {},
     "output_type": "display_data"
    }
   ],
   "source": [
    "#x4\n",
    "reset()\n",
    "\n",
    "var('x12,x13,x14,x15,x23,x24,x25,x34,x35,x45')\n",
    "var('d1,d2,d3,d4,d5')\n",
    "var('a12,a13,a14,a15,a23,a24,a25,a34,a35,a45')\n",
    "\n",
    "load_attach_path('C:\\\\Users\\\\julia\\\\Documents\\\\unb\\\\doutorado\\\\pensar\\\\codigo_sage_v2\\\\maquina\\\\x4')\n",
    "load('out_#000011.sage')\n",
    "\n",
    "m=matrix(QQ, [[0, 1, 0, 1, 1],\n",
    "              [0, 0, 1, 0, 0],\n",
    "              [0, 0, 0, 0, 0],\n",
    "              [0, 0, 0, 0, 0],\n",
    "              [0, 0, 0, 0, 0]])\n",
    "        \n",
    "#entry of matrix: (i,j) line i collum j, means (i-1,j-1)\n",
    "sol=solve([ eq1==m[0,1],\teq2==m[0,2],\teq3==m[0,3],\teq4==m[0,4],\t\n",
    "                                            eq5==m[1,2],    eq6==m[1,3],\n",
    "                                                            eq7==m[1,4], eq8==m[2,4]],d1,d2,d3,d4,d5,a12,a13,a14,a15,a23,a24,a25,a34,a35,a45, solution_dict=True)\n",
    "\n",
    "show(m)\n",
    "show(sol)\n",
    "#latex(sol)"
   ]
  },
  {
   "cell_type": "code",
   "execution_count": 5,
   "metadata": {},
   "outputs": [
    {
     "data": {
      "text/html": [
       "<html><script type=\"math/tex; mode=display\">\\newcommand{\\Bold}[1]{\\mathbf{#1}}\\left(\\begin{array}{rrrrr}\n",
       "0 & 1 & 1 & 0 & 0 \\\\\n",
       "0 & 0 & 1 & 0 & 0 \\\\\n",
       "0 & 0 & 0 & 0 & 0 \\\\\n",
       "0 & 0 & 0 & 0 & 0 \\\\\n",
       "0 & 0 & 0 & 0 & 0\n",
       "\\end{array}\\right)</script></html>"
      ],
      "text/latex": [
       "$$\\newcommand{\\Bold}[1]{\\mathbf{#1}}\\left(\\begin{array}{rrrrr}\n",
       "0 & 1 & 1 & 0 & 0 \\\\\n",
       "0 & 0 & 1 & 0 & 0 \\\\\n",
       "0 & 0 & 0 & 0 & 0 \\\\\n",
       "0 & 0 & 0 & 0 & 0 \\\\\n",
       "0 & 0 & 0 & 0 & 0\n",
       "\\end{array}\\right)$$"
      ],
      "text/plain": [
       "[0 1 1 0 0]\n",
       "[0 0 1 0 0]\n",
       "[0 0 0 0 0]\n",
       "[0 0 0 0 0]\n",
       "[0 0 0 0 0]"
      ]
     },
     "metadata": {},
     "output_type": "display_data"
    },
    {
     "data": {
      "text/html": [
       "<html><script type=\"math/tex; mode=display\">\\newcommand{\\Bold}[1]{\\mathbf{#1}}\\left[\\left\\{d_{1} : 0, d_{2} : 0, d_{3} : 0, d_{4} : r_{73}, d_{5} : r_{74}, a_{12} : r_{75}, a_{13} : r_{76}, a_{14} : r_{77}, a_{15} : r_{78}, a_{23} : r_{79}, a_{24} : r_{80}, a_{25} : r_{81}, a_{34} : 0, a_{35} : 0, a_{45} : r_{82}\\right\\}, \\left\\{d_{1} : r_{83}, d_{2} : \\frac{r_{83}}{x_{12}}, d_{3} : \\frac{r_{83}}{x_{12} x_{23}}, d_{4} : r_{84}, d_{5} : r_{85}, a_{12} : r_{86}, a_{13} : r_{87}, a_{14} : r_{88}, a_{15} : r_{89}, a_{23} : \\frac{{\\left(r_{83} + r_{86}\\right)} x_{12} x_{23} - r_{83} x_{13}}{x_{12}^{2} x_{23}}, a_{24} : 0, a_{25} : 0, a_{34} : 0, a_{35} : 0, a_{45} : r_{90}\\right\\}\\right]</script></html>"
      ],
      "text/latex": [
       "$$\\newcommand{\\Bold}[1]{\\mathbf{#1}}\\left[\\left\\{d_{1} : 0, d_{2} : 0, d_{3} : 0, d_{4} : r_{73}, d_{5} : r_{74}, a_{12} : r_{75}, a_{13} : r_{76}, a_{14} : r_{77}, a_{15} : r_{78}, a_{23} : r_{79}, a_{24} : r_{80}, a_{25} : r_{81}, a_{34} : 0, a_{35} : 0, a_{45} : r_{82}\\right\\}, \\left\\{d_{1} : r_{83}, d_{2} : \\frac{r_{83}}{x_{12}}, d_{3} : \\frac{r_{83}}{x_{12} x_{23}}, d_{4} : r_{84}, d_{5} : r_{85}, a_{12} : r_{86}, a_{13} : r_{87}, a_{14} : r_{88}, a_{15} : r_{89}, a_{23} : \\frac{{\\left(r_{83} + r_{86}\\right)} x_{12} x_{23} - r_{83} x_{13}}{x_{12}^{2} x_{23}}, a_{24} : 0, a_{25} : 0, a_{34} : 0, a_{35} : 0, a_{45} : r_{90}\\right\\}\\right]$$"
      ],
      "text/plain": [
       "[{d1: 0,\n",
       "  d2: 0,\n",
       "  d3: 0,\n",
       "  d4: r73,\n",
       "  d5: r74,\n",
       "  a12: r75,\n",
       "  a13: r76,\n",
       "  a14: r77,\n",
       "  a15: r78,\n",
       "  a23: r79,\n",
       "  a24: r80,\n",
       "  a25: r81,\n",
       "  a34: 0,\n",
       "  a35: 0,\n",
       "  a45: r82},\n",
       " {d1: r83,\n",
       "  d2: r83/x12,\n",
       "  d3: r83/(x12*x23),\n",
       "  d4: r84,\n",
       "  d5: r85,\n",
       "  a12: r86,\n",
       "  a13: r87,\n",
       "  a14: r88,\n",
       "  a15: r89,\n",
       "  a23: ((r83 + r86)*x12*x23 - r83*x13)/(x12^2*x23),\n",
       "  a24: 0,\n",
       "  a25: 0,\n",
       "  a34: 0,\n",
       "  a35: 0,\n",
       "  a45: r90}]"
      ]
     },
     "metadata": {},
     "output_type": "display_data"
    }
   ],
   "source": [
    "#x4\n",
    "reset()\n",
    "\n",
    "var('x12,x13,x14,x15,x23,x24,x25,x34,x35,x45')\n",
    "var('d1,d2,d3,d4,d5')\n",
    "var('a12,a13,a14,a15,a23,a24,a25,a34,a35,a45')\n",
    "\n",
    "load_attach_path('C:\\\\Users\\\\julia\\\\Documents\\\\unb\\\\doutorado\\\\pensar\\\\codigo_sage_v2\\\\maquina\\\\x4')\n",
    "load('out_#000100.sage')\n",
    "\n",
    "m=matrix(QQ, [[0, 1, 1, 0, 0],\n",
    "              [0, 0, 1, 0, 0],\n",
    "              [0, 0, 0, 0, 0],\n",
    "              [0, 0, 0, 0, 0],\n",
    "              [0, 0, 0, 0, 0]])\n",
    "        \n",
    "#entry of matrix: (i,j) line i collum j, means (i-1,j-1)\n",
    "sol=solve([ eq1==m[0,1],\teq2==m[0,2],\teq3==m[0,3],\teq4==m[0,4],\t\n",
    "                                            eq5==m[1,2],    eq6==m[1,3],\n",
    "                                                            eq7==m[1,4], eq8==m[2,4]],d1,d2,d3,d4,d5,a12,a13,a14,a15,a23,a24,a25,a34,a35,a45, solution_dict=True)\n",
    "\n",
    "show(m)\n",
    "show(sol)\n",
    "#latex(sol)"
   ]
  },
  {
   "cell_type": "code",
   "execution_count": 6,
   "metadata": {},
   "outputs": [
    {
     "data": {
      "text/html": [
       "<html><script type=\"math/tex; mode=display\">\\newcommand{\\Bold}[1]{\\mathbf{#1}}\\left(\\begin{array}{rrrrr}\n",
       "0 & 1 & 1 & 0 & 1 \\\\\n",
       "0 & 0 & 1 & 0 & 0 \\\\\n",
       "0 & 0 & 0 & 0 & 0 \\\\\n",
       "0 & 0 & 0 & 0 & 0 \\\\\n",
       "0 & 0 & 0 & 0 & 0\n",
       "\\end{array}\\right)</script></html>"
      ],
      "text/latex": [
       "$$\\newcommand{\\Bold}[1]{\\mathbf{#1}}\\left(\\begin{array}{rrrrr}\n",
       "0 & 1 & 1 & 0 & 1 \\\\\n",
       "0 & 0 & 1 & 0 & 0 \\\\\n",
       "0 & 0 & 0 & 0 & 0 \\\\\n",
       "0 & 0 & 0 & 0 & 0 \\\\\n",
       "0 & 0 & 0 & 0 & 0\n",
       "\\end{array}\\right)$$"
      ],
      "text/plain": [
       "[0 1 1 0 1]\n",
       "[0 0 1 0 0]\n",
       "[0 0 0 0 0]\n",
       "[0 0 0 0 0]\n",
       "[0 0 0 0 0]"
      ]
     },
     "metadata": {},
     "output_type": "display_data"
    },
    {
     "data": {
      "text/html": [
       "<html><script type=\"math/tex; mode=display\">\\newcommand{\\Bold}[1]{\\mathbf{#1}}\\left[\\left\\{d_{1} : 0, d_{2} : 0, d_{3} : 0, d_{4} : r_{91}, d_{5} : r_{92}, a_{12} : r_{93}, a_{13} : r_{94}, a_{14} : r_{95}, a_{15} : r_{96}, a_{23} : r_{97}, a_{24} : r_{98}, a_{25} : r_{99}, a_{34} : 0, a_{35} : 0, a_{45} : r_{100}\\right\\}, \\left\\{d_{1} : r_{101}, d_{2} : \\frac{r_{101}}{x_{12}}, d_{3} : \\frac{r_{101}}{x_{12} x_{23}}, d_{4} : r_{102}, d_{5} : r_{103}, a_{12} : r_{104}, a_{13} : r_{105}, a_{14} : r_{106}, a_{15} : r_{107}, a_{23} : \\frac{{\\left(r_{101} + r_{104}\\right)} x_{12} x_{23} - r_{101} x_{13}}{x_{12}^{2} x_{23}}, a_{24} : 0, a_{25} : -\\frac{r_{103} x_{15} - r_{101}}{x_{12}}, a_{34} : 0, a_{35} : 0, a_{45} : r_{108}\\right\\}\\right]</script></html>"
      ],
      "text/latex": [
       "$$\\newcommand{\\Bold}[1]{\\mathbf{#1}}\\left[\\left\\{d_{1} : 0, d_{2} : 0, d_{3} : 0, d_{4} : r_{91}, d_{5} : r_{92}, a_{12} : r_{93}, a_{13} : r_{94}, a_{14} : r_{95}, a_{15} : r_{96}, a_{23} : r_{97}, a_{24} : r_{98}, a_{25} : r_{99}, a_{34} : 0, a_{35} : 0, a_{45} : r_{100}\\right\\}, \\left\\{d_{1} : r_{101}, d_{2} : \\frac{r_{101}}{x_{12}}, d_{3} : \\frac{r_{101}}{x_{12} x_{23}}, d_{4} : r_{102}, d_{5} : r_{103}, a_{12} : r_{104}, a_{13} : r_{105}, a_{14} : r_{106}, a_{15} : r_{107}, a_{23} : \\frac{{\\left(r_{101} + r_{104}\\right)} x_{12} x_{23} - r_{101} x_{13}}{x_{12}^{2} x_{23}}, a_{24} : 0, a_{25} : -\\frac{r_{103} x_{15} - r_{101}}{x_{12}}, a_{34} : 0, a_{35} : 0, a_{45} : r_{108}\\right\\}\\right]$$"
      ],
      "text/plain": [
       "[{d1: 0,\n",
       "  d2: 0,\n",
       "  d3: 0,\n",
       "  d4: r91,\n",
       "  d5: r92,\n",
       "  a12: r93,\n",
       "  a13: r94,\n",
       "  a14: r95,\n",
       "  a15: r96,\n",
       "  a23: r97,\n",
       "  a24: r98,\n",
       "  a25: r99,\n",
       "  a34: 0,\n",
       "  a35: 0,\n",
       "  a45: r100},\n",
       " {d1: r101,\n",
       "  d2: r101/x12,\n",
       "  d3: r101/(x12*x23),\n",
       "  d4: r102,\n",
       "  d5: r103,\n",
       "  a12: r104,\n",
       "  a13: r105,\n",
       "  a14: r106,\n",
       "  a15: r107,\n",
       "  a23: ((r101 + r104)*x12*x23 - r101*x13)/(x12^2*x23),\n",
       "  a24: 0,\n",
       "  a25: -(r103*x15 - r101)/x12,\n",
       "  a34: 0,\n",
       "  a35: 0,\n",
       "  a45: r108}]"
      ]
     },
     "metadata": {},
     "output_type": "display_data"
    }
   ],
   "source": [
    "#x4\n",
    "reset()\n",
    "\n",
    "var('x12,x13,x14,x15,x23,x24,x25,x34,x35,x45')\n",
    "var('d1,d2,d3,d4,d5')\n",
    "var('a12,a13,a14,a15,a23,a24,a25,a34,a35,a45')\n",
    "\n",
    "load_attach_path('C:\\\\Users\\\\julia\\\\Documents\\\\unb\\\\doutorado\\\\pensar\\\\codigo_sage_v2\\\\maquina\\\\x4')\n",
    "load('out_#000101.sage')\n",
    "\n",
    "m=matrix(QQ, [[0, 1, 1, 0, 1],\n",
    "              [0, 0, 1, 0, 0],\n",
    "              [0, 0, 0, 0, 0],\n",
    "              [0, 0, 0, 0, 0],\n",
    "              [0, 0, 0, 0, 0]])\n",
    "        \n",
    "#entry of matrix: (i,j) line i collum j, means (i-1,j-1)\n",
    "sol=solve([ eq1==m[0,1],\teq2==m[0,2],\teq3==m[0,3],\teq4==m[0,4],\t\n",
    "                                            eq5==m[1,2],    eq6==m[1,3],\n",
    "                                                            eq7==m[1,4], eq8==m[2,4]],d1,d2,d3,d4,d5,a12,a13,a14,a15,a23,a24,a25,a34,a35,a45, solution_dict=True)\n",
    "\n",
    "show(m)\n",
    "show(sol)\n",
    "#latex(sol)"
   ]
  },
  {
   "cell_type": "code",
   "execution_count": 7,
   "metadata": {},
   "outputs": [
    {
     "data": {
      "text/html": [
       "<html><script type=\"math/tex; mode=display\">\\newcommand{\\Bold}[1]{\\mathbf{#1}}\\left(\\begin{array}{rrrrr}\n",
       "0 & 1 & 1 & 1 & 0 \\\\\n",
       "0 & 0 & 1 & 0 & 0 \\\\\n",
       "0 & 0 & 0 & 0 & 0 \\\\\n",
       "0 & 0 & 0 & 0 & 0 \\\\\n",
       "0 & 0 & 0 & 0 & 0\n",
       "\\end{array}\\right)</script></html>"
      ],
      "text/latex": [
       "$$\\newcommand{\\Bold}[1]{\\mathbf{#1}}\\left(\\begin{array}{rrrrr}\n",
       "0 & 1 & 1 & 1 & 0 \\\\\n",
       "0 & 0 & 1 & 0 & 0 \\\\\n",
       "0 & 0 & 0 & 0 & 0 \\\\\n",
       "0 & 0 & 0 & 0 & 0 \\\\\n",
       "0 & 0 & 0 & 0 & 0\n",
       "\\end{array}\\right)$$"
      ],
      "text/plain": [
       "[0 1 1 1 0]\n",
       "[0 0 1 0 0]\n",
       "[0 0 0 0 0]\n",
       "[0 0 0 0 0]\n",
       "[0 0 0 0 0]"
      ]
     },
     "metadata": {},
     "output_type": "display_data"
    },
    {
     "data": {
      "text/html": [
       "<html><script type=\"math/tex; mode=display\">\\newcommand{\\Bold}[1]{\\mathbf{#1}}\\left[\\left\\{d_{1} : 0, d_{2} : 0, d_{3} : 0, d_{4} : r_{109}, d_{5} : r_{110}, a_{12} : r_{111}, a_{13} : r_{112}, a_{14} : r_{113}, a_{15} : r_{114}, a_{23} : r_{115}, a_{24} : r_{116}, a_{25} : r_{117}, a_{34} : 0, a_{35} : 0, a_{45} : r_{118}\\right\\}, \\left\\{d_{1} : r_{119}, d_{2} : \\frac{r_{119}}{x_{12}}, d_{3} : \\frac{r_{119}}{x_{12} x_{23}}, d_{4} : r_{120}, d_{5} : r_{121}, a_{12} : r_{122}, a_{13} : r_{123}, a_{14} : r_{124}, a_{15} : r_{125}, a_{23} : \\frac{{\\left(r_{119} + r_{122}\\right)} x_{12} x_{23} - r_{119} x_{13}}{x_{12}^{2} x_{23}}, a_{24} : -\\frac{r_{120} x_{14} - r_{119}}{x_{12}}, a_{25} : r_{126}, a_{34} : 0, a_{35} : 0, a_{45} : -\\frac{r_{126} x_{12}}{x_{14}}\\right\\}\\right]</script></html>"
      ],
      "text/latex": [
       "$$\\newcommand{\\Bold}[1]{\\mathbf{#1}}\\left[\\left\\{d_{1} : 0, d_{2} : 0, d_{3} : 0, d_{4} : r_{109}, d_{5} : r_{110}, a_{12} : r_{111}, a_{13} : r_{112}, a_{14} : r_{113}, a_{15} : r_{114}, a_{23} : r_{115}, a_{24} : r_{116}, a_{25} : r_{117}, a_{34} : 0, a_{35} : 0, a_{45} : r_{118}\\right\\}, \\left\\{d_{1} : r_{119}, d_{2} : \\frac{r_{119}}{x_{12}}, d_{3} : \\frac{r_{119}}{x_{12} x_{23}}, d_{4} : r_{120}, d_{5} : r_{121}, a_{12} : r_{122}, a_{13} : r_{123}, a_{14} : r_{124}, a_{15} : r_{125}, a_{23} : \\frac{{\\left(r_{119} + r_{122}\\right)} x_{12} x_{23} - r_{119} x_{13}}{x_{12}^{2} x_{23}}, a_{24} : -\\frac{r_{120} x_{14} - r_{119}}{x_{12}}, a_{25} : r_{126}, a_{34} : 0, a_{35} : 0, a_{45} : -\\frac{r_{126} x_{12}}{x_{14}}\\right\\}\\right]$$"
      ],
      "text/plain": [
       "[{d1: 0,\n",
       "  d2: 0,\n",
       "  d3: 0,\n",
       "  d4: r109,\n",
       "  d5: r110,\n",
       "  a12: r111,\n",
       "  a13: r112,\n",
       "  a14: r113,\n",
       "  a15: r114,\n",
       "  a23: r115,\n",
       "  a24: r116,\n",
       "  a25: r117,\n",
       "  a34: 0,\n",
       "  a35: 0,\n",
       "  a45: r118},\n",
       " {d1: r119,\n",
       "  d2: r119/x12,\n",
       "  d3: r119/(x12*x23),\n",
       "  d4: r120,\n",
       "  d5: r121,\n",
       "  a12: r122,\n",
       "  a13: r123,\n",
       "  a14: r124,\n",
       "  a15: r125,\n",
       "  a23: ((r119 + r122)*x12*x23 - r119*x13)/(x12^2*x23),\n",
       "  a24: -(r120*x14 - r119)/x12,\n",
       "  a25: r126,\n",
       "  a34: 0,\n",
       "  a35: 0,\n",
       "  a45: -r126*x12/x14}]"
      ]
     },
     "metadata": {},
     "output_type": "display_data"
    }
   ],
   "source": [
    "#x4\n",
    "reset()\n",
    "\n",
    "var('x12,x13,x14,x15,x23,x24,x25,x34,x35,x45')\n",
    "var('d1,d2,d3,d4,d5')\n",
    "var('a12,a13,a14,a15,a23,a24,a25,a34,a35,a45')\n",
    "\n",
    "load_attach_path('C:\\\\Users\\\\julia\\\\Documents\\\\unb\\\\doutorado\\\\pensar\\\\codigo_sage_v2\\\\maquina\\\\x4')\n",
    "load('out_#000110.sage')\n",
    "\n",
    "m=matrix(QQ, [[0, 1, 1, 1, 0],\n",
    "              [0, 0, 1, 0, 0],\n",
    "              [0, 0, 0, 0, 0],\n",
    "              [0, 0, 0, 0, 0],\n",
    "              [0, 0, 0, 0, 0]])\n",
    "        \n",
    "#entry of matrix: (i,j) line i collum j, means (i-1,j-1)\n",
    "sol=solve([ eq1==m[0,1],\teq2==m[0,2],\teq3==m[0,3],\teq4==m[0,4],\t\n",
    "                                            eq5==m[1,2],    eq6==m[1,3],\n",
    "                                                            eq7==m[1,4], eq8==m[2,4]],d1,d2,d3,d4,d5,a12,a13,a14,a15,a23,a24,a25,a34,a35,a45, solution_dict=True)\n",
    "\n",
    "show(m)\n",
    "show(sol)\n",
    "#latex(sol)"
   ]
  },
  {
   "cell_type": "code",
   "execution_count": 8,
   "metadata": {},
   "outputs": [
    {
     "data": {
      "text/html": [
       "<html><script type=\"math/tex; mode=display\">\\newcommand{\\Bold}[1]{\\mathbf{#1}}\\left(\\begin{array}{rrrrr}\n",
       "0 & 1 & 1 & 1 & 1 \\\\\n",
       "0 & 0 & 1 & 0 & 0 \\\\\n",
       "0 & 0 & 0 & 0 & 0 \\\\\n",
       "0 & 0 & 0 & 0 & 0 \\\\\n",
       "0 & 0 & 0 & 0 & 0\n",
       "\\end{array}\\right)</script></html>"
      ],
      "text/latex": [
       "$$\\newcommand{\\Bold}[1]{\\mathbf{#1}}\\left(\\begin{array}{rrrrr}\n",
       "0 & 1 & 1 & 1 & 1 \\\\\n",
       "0 & 0 & 1 & 0 & 0 \\\\\n",
       "0 & 0 & 0 & 0 & 0 \\\\\n",
       "0 & 0 & 0 & 0 & 0 \\\\\n",
       "0 & 0 & 0 & 0 & 0\n",
       "\\end{array}\\right)$$"
      ],
      "text/plain": [
       "[0 1 1 1 1]\n",
       "[0 0 1 0 0]\n",
       "[0 0 0 0 0]\n",
       "[0 0 0 0 0]\n",
       "[0 0 0 0 0]"
      ]
     },
     "metadata": {},
     "output_type": "display_data"
    },
    {
     "data": {
      "text/html": [
       "<html><script type=\"math/tex; mode=display\">\\newcommand{\\Bold}[1]{\\mathbf{#1}}\\left[\\left\\{d_{1} : 0, d_{2} : 0, d_{3} : 0, d_{4} : r_{127}, d_{5} : r_{128}, a_{12} : r_{129}, a_{13} : r_{130}, a_{14} : r_{131}, a_{15} : r_{132}, a_{23} : r_{133}, a_{24} : r_{134}, a_{25} : r_{135}, a_{34} : 0, a_{35} : 0, a_{45} : r_{136}\\right\\}, \\left\\{d_{1} : r_{137}, d_{2} : \\frac{r_{137}}{x_{12}}, d_{3} : \\frac{r_{137}}{x_{12} x_{23}}, d_{4} : r_{138}, d_{5} : r_{139}, a_{12} : r_{140}, a_{13} : r_{141}, a_{14} : r_{142}, a_{15} : r_{143}, a_{23} : \\frac{{\\left(r_{137} + r_{140}\\right)} x_{12} x_{23} - r_{137} x_{13}}{x_{12}^{2} x_{23}}, a_{24} : -\\frac{r_{138} x_{14} - r_{137}}{x_{12}}, a_{25} : r_{144}, a_{34} : 0, a_{35} : 0, a_{45} : -\\frac{r_{144} x_{12} + r_{139} x_{15} - r_{137}}{x_{14}}\\right\\}\\right]</script></html>"
      ],
      "text/latex": [
       "$$\\newcommand{\\Bold}[1]{\\mathbf{#1}}\\left[\\left\\{d_{1} : 0, d_{2} : 0, d_{3} : 0, d_{4} : r_{127}, d_{5} : r_{128}, a_{12} : r_{129}, a_{13} : r_{130}, a_{14} : r_{131}, a_{15} : r_{132}, a_{23} : r_{133}, a_{24} : r_{134}, a_{25} : r_{135}, a_{34} : 0, a_{35} : 0, a_{45} : r_{136}\\right\\}, \\left\\{d_{1} : r_{137}, d_{2} : \\frac{r_{137}}{x_{12}}, d_{3} : \\frac{r_{137}}{x_{12} x_{23}}, d_{4} : r_{138}, d_{5} : r_{139}, a_{12} : r_{140}, a_{13} : r_{141}, a_{14} : r_{142}, a_{15} : r_{143}, a_{23} : \\frac{{\\left(r_{137} + r_{140}\\right)} x_{12} x_{23} - r_{137} x_{13}}{x_{12}^{2} x_{23}}, a_{24} : -\\frac{r_{138} x_{14} - r_{137}}{x_{12}}, a_{25} : r_{144}, a_{34} : 0, a_{35} : 0, a_{45} : -\\frac{r_{144} x_{12} + r_{139} x_{15} - r_{137}}{x_{14}}\\right\\}\\right]$$"
      ],
      "text/plain": [
       "[{d1: 0,\n",
       "  d2: 0,\n",
       "  d3: 0,\n",
       "  d4: r127,\n",
       "  d5: r128,\n",
       "  a12: r129,\n",
       "  a13: r130,\n",
       "  a14: r131,\n",
       "  a15: r132,\n",
       "  a23: r133,\n",
       "  a24: r134,\n",
       "  a25: r135,\n",
       "  a34: 0,\n",
       "  a35: 0,\n",
       "  a45: r136},\n",
       " {d1: r137,\n",
       "  d2: r137/x12,\n",
       "  d3: r137/(x12*x23),\n",
       "  d4: r138,\n",
       "  d5: r139,\n",
       "  a12: r140,\n",
       "  a13: r141,\n",
       "  a14: r142,\n",
       "  a15: r143,\n",
       "  a23: ((r137 + r140)*x12*x23 - r137*x13)/(x12^2*x23),\n",
       "  a24: -(r138*x14 - r137)/x12,\n",
       "  a25: r144,\n",
       "  a34: 0,\n",
       "  a35: 0,\n",
       "  a45: -(r144*x12 + r139*x15 - r137)/x14}]"
      ]
     },
     "metadata": {},
     "output_type": "display_data"
    }
   ],
   "source": [
    "#x4\n",
    "reset()\n",
    "\n",
    "var('x12,x13,x14,x15,x23,x24,x25,x34,x35,x45')\n",
    "var('d1,d2,d3,d4,d5')\n",
    "var('a12,a13,a14,a15,a23,a24,a25,a34,a35,a45')\n",
    "\n",
    "load_attach_path('C:\\\\Users\\\\julia\\\\Documents\\\\unb\\\\doutorado\\\\pensar\\\\codigo_sage_v2\\\\maquina\\\\x4')\n",
    "load('out_#000111.sage')\n",
    "\n",
    "m=matrix(QQ, [[0, 1, 1, 1, 1],\n",
    "              [0, 0, 1, 0, 0],\n",
    "              [0, 0, 0, 0, 0],\n",
    "              [0, 0, 0, 0, 0],\n",
    "              [0, 0, 0, 0, 0]])\n",
    "        \n",
    "#entry of matrix: (i,j) line i collum j, means (i-1,j-1)\n",
    "sol=solve([ eq1==m[0,1],\teq2==m[0,2],\teq3==m[0,3],\teq4==m[0,4],\t\n",
    "                                            eq5==m[1,2],    eq6==m[1,3],\n",
    "                                                            eq7==m[1,4], eq8==m[2,4]],d1,d2,d3,d4,d5,a12,a13,a14,a15,a23,a24,a25,a34,a35,a45, solution_dict=True)\n",
    "\n",
    "show(m)\n",
    "show(sol)\n",
    "#latex(sol)"
   ]
  },
  {
   "cell_type": "code",
   "execution_count": 9,
   "metadata": {},
   "outputs": [
    {
     "data": {
      "text/html": [
       "<html><script type=\"math/tex; mode=display\">\\newcommand{\\Bold}[1]{\\mathbf{#1}}\\left(\\begin{array}{rrrrr}\n",
       "0 & 1 & 0 & 0 & 0 \\\\\n",
       "0 & 0 & 1 & 0 & 1 \\\\\n",
       "0 & 0 & 0 & 0 & 0 \\\\\n",
       "0 & 0 & 0 & 0 & 0 \\\\\n",
       "0 & 0 & 0 & 0 & 0\n",
       "\\end{array}\\right)</script></html>"
      ],
      "text/latex": [
       "$$\\newcommand{\\Bold}[1]{\\mathbf{#1}}\\left(\\begin{array}{rrrrr}\n",
       "0 & 1 & 0 & 0 & 0 \\\\\n",
       "0 & 0 & 1 & 0 & 1 \\\\\n",
       "0 & 0 & 0 & 0 & 0 \\\\\n",
       "0 & 0 & 0 & 0 & 0 \\\\\n",
       "0 & 0 & 0 & 0 & 0\n",
       "\\end{array}\\right)$$"
      ],
      "text/plain": [
       "[0 1 0 0 0]\n",
       "[0 0 1 0 1]\n",
       "[0 0 0 0 0]\n",
       "[0 0 0 0 0]\n",
       "[0 0 0 0 0]"
      ]
     },
     "metadata": {},
     "output_type": "display_data"
    },
    {
     "data": {
      "text/html": [
       "<html><script type=\"math/tex; mode=display\">\\newcommand{\\Bold}[1]{\\mathbf{#1}}\\left[\\left\\{d_{1} : 0, d_{2} : 0, d_{3} : 0, d_{4} : r_{145}, d_{5} : r_{146}, a_{12} : r_{147}, a_{13} : r_{148}, a_{14} : r_{149}, a_{15} : r_{150}, a_{23} : r_{151}, a_{24} : r_{152}, a_{25} : r_{153}, a_{34} : 0, a_{35} : -\\frac{r_{146} x_{25}}{x_{23}}, a_{45} : r_{154}\\right\\}, \\left\\{d_{1} : r_{155}, d_{2} : \\frac{r_{155}}{x_{12}}, d_{3} : \\frac{r_{155}}{x_{12} x_{23}}, d_{4} : r_{156}, d_{5} : r_{157}, a_{12} : r_{158}, a_{13} : r_{159}, a_{14} : r_{160}, a_{15} : r_{161}, a_{23} : \\frac{r_{158}}{x_{12}}, a_{24} : 0, a_{25} : \\frac{r_{158}}{x_{12}}, a_{34} : 0, a_{35} : -\\frac{r_{157} x_{12} x_{25} - r_{155}}{x_{12} x_{23}}, a_{45} : r_{162}\\right\\}\\right]</script></html>"
      ],
      "text/latex": [
       "$$\\newcommand{\\Bold}[1]{\\mathbf{#1}}\\left[\\left\\{d_{1} : 0, d_{2} : 0, d_{3} : 0, d_{4} : r_{145}, d_{5} : r_{146}, a_{12} : r_{147}, a_{13} : r_{148}, a_{14} : r_{149}, a_{15} : r_{150}, a_{23} : r_{151}, a_{24} : r_{152}, a_{25} : r_{153}, a_{34} : 0, a_{35} : -\\frac{r_{146} x_{25}}{x_{23}}, a_{45} : r_{154}\\right\\}, \\left\\{d_{1} : r_{155}, d_{2} : \\frac{r_{155}}{x_{12}}, d_{3} : \\frac{r_{155}}{x_{12} x_{23}}, d_{4} : r_{156}, d_{5} : r_{157}, a_{12} : r_{158}, a_{13} : r_{159}, a_{14} : r_{160}, a_{15} : r_{161}, a_{23} : \\frac{r_{158}}{x_{12}}, a_{24} : 0, a_{25} : \\frac{r_{158}}{x_{12}}, a_{34} : 0, a_{35} : -\\frac{r_{157} x_{12} x_{25} - r_{155}}{x_{12} x_{23}}, a_{45} : r_{162}\\right\\}\\right]$$"
      ],
      "text/plain": [
       "[{d1: 0,\n",
       "  d2: 0,\n",
       "  d3: 0,\n",
       "  d4: r145,\n",
       "  d5: r146,\n",
       "  a12: r147,\n",
       "  a13: r148,\n",
       "  a14: r149,\n",
       "  a15: r150,\n",
       "  a23: r151,\n",
       "  a24: r152,\n",
       "  a25: r153,\n",
       "  a34: 0,\n",
       "  a35: -r146*x25/x23,\n",
       "  a45: r154},\n",
       " {d1: r155,\n",
       "  d2: r155/x12,\n",
       "  d3: r155/(x12*x23),\n",
       "  d4: r156,\n",
       "  d5: r157,\n",
       "  a12: r158,\n",
       "  a13: r159,\n",
       "  a14: r160,\n",
       "  a15: r161,\n",
       "  a23: r158/x12,\n",
       "  a24: 0,\n",
       "  a25: r158/x12,\n",
       "  a34: 0,\n",
       "  a35: -(r157*x12*x25 - r155)/(x12*x23),\n",
       "  a45: r162}]"
      ]
     },
     "metadata": {},
     "output_type": "display_data"
    }
   ],
   "source": [
    "#x4\n",
    "reset()\n",
    "\n",
    "var('x12,x13,x14,x15,x23,x24,x25,x34,x35,x45')\n",
    "var('d1,d2,d3,d4,d5')\n",
    "var('a12,a13,a14,a15,a23,a24,a25,a34,a35,a45')\n",
    "\n",
    "load_attach_path('C:\\\\Users\\\\julia\\\\Documents\\\\unb\\\\doutorado\\\\pensar\\\\codigo_sage_v2\\\\maquina\\\\x4')\n",
    "load('out_#001000.sage')\n",
    "\n",
    "m=matrix(QQ, [[0, 1, 0, 0, 0],\n",
    "              [0, 0, 1, 0, 1],\n",
    "              [0, 0, 0, 0, 0],\n",
    "              [0, 0, 0, 0, 0],\n",
    "              [0, 0, 0, 0, 0]])\n",
    "        \n",
    "#entry of matrix: (i,j) line i collum j, means (i-1,j-1)\n",
    "sol=solve([ eq1==m[0,1],\teq2==m[0,2],\teq3==m[0,3],\teq4==m[0,4],\t\n",
    "                                            eq5==m[1,2],    eq6==m[1,3],\n",
    "                                                            eq7==m[1,4], eq8==m[2,4]],d1,d2,d3,d4,d5,a12,a13,a14,a15,a23,a24,a25,a34,a35,a45, solution_dict=True)\n",
    "\n",
    "show(m)\n",
    "show(sol)\n",
    "#latex(sol)"
   ]
  },
  {
   "cell_type": "code",
   "execution_count": 10,
   "metadata": {},
   "outputs": [
    {
     "data": {
      "text/html": [
       "<html><script type=\"math/tex; mode=display\">\\newcommand{\\Bold}[1]{\\mathbf{#1}}\\left(\\begin{array}{rrrrr}\n",
       "0 & 1 & 0 & 0 & 1 \\\\\n",
       "0 & 0 & 1 & 0 & 1 \\\\\n",
       "0 & 0 & 0 & 0 & 0 \\\\\n",
       "0 & 0 & 0 & 0 & 0 \\\\\n",
       "0 & 0 & 0 & 0 & 0\n",
       "\\end{array}\\right)</script></html>"
      ],
      "text/latex": [
       "$$\\newcommand{\\Bold}[1]{\\mathbf{#1}}\\left(\\begin{array}{rrrrr}\n",
       "0 & 1 & 0 & 0 & 1 \\\\\n",
       "0 & 0 & 1 & 0 & 1 \\\\\n",
       "0 & 0 & 0 & 0 & 0 \\\\\n",
       "0 & 0 & 0 & 0 & 0 \\\\\n",
       "0 & 0 & 0 & 0 & 0\n",
       "\\end{array}\\right)$$"
      ],
      "text/plain": [
       "[0 1 0 0 1]\n",
       "[0 0 1 0 1]\n",
       "[0 0 0 0 0]\n",
       "[0 0 0 0 0]\n",
       "[0 0 0 0 0]"
      ]
     },
     "metadata": {},
     "output_type": "display_data"
    },
    {
     "data": {
      "text/html": [
       "<html><script type=\"math/tex; mode=display\">\\newcommand{\\Bold}[1]{\\mathbf{#1}}\\left[\\left\\{d_{1} : 0, d_{2} : 0, d_{3} : 0, d_{4} : r_{163}, d_{5} : r_{164}, a_{12} : r_{165}, a_{13} : r_{166}, a_{14} : r_{167}, a_{15} : r_{168}, a_{23} : r_{169}, a_{24} : r_{170}, a_{25} : r_{171}, a_{34} : 0, a_{35} : -\\frac{r_{164} x_{25}}{x_{23}}, a_{45} : r_{172}\\right\\}, \\left\\{d_{1} : r_{173}, d_{2} : \\frac{r_{173}}{x_{12}}, d_{3} : \\frac{r_{173}}{x_{12} x_{23}}, d_{4} : r_{174}, d_{5} : r_{175}, a_{12} : r_{176}, a_{13} : r_{177}, a_{14} : r_{178}, a_{15} : r_{179}, a_{23} : \\frac{r_{176}}{x_{12}}, a_{24} : 0, a_{25} : -\\frac{r_{175} x_{15} - r_{173} - r_{176}}{x_{12}}, a_{34} : 0, a_{35} : -\\frac{r_{175} x_{12} x_{25} - r_{173}}{x_{12} x_{23}}, a_{45} : r_{180}\\right\\}\\right]</script></html>"
      ],
      "text/latex": [
       "$$\\newcommand{\\Bold}[1]{\\mathbf{#1}}\\left[\\left\\{d_{1} : 0, d_{2} : 0, d_{3} : 0, d_{4} : r_{163}, d_{5} : r_{164}, a_{12} : r_{165}, a_{13} : r_{166}, a_{14} : r_{167}, a_{15} : r_{168}, a_{23} : r_{169}, a_{24} : r_{170}, a_{25} : r_{171}, a_{34} : 0, a_{35} : -\\frac{r_{164} x_{25}}{x_{23}}, a_{45} : r_{172}\\right\\}, \\left\\{d_{1} : r_{173}, d_{2} : \\frac{r_{173}}{x_{12}}, d_{3} : \\frac{r_{173}}{x_{12} x_{23}}, d_{4} : r_{174}, d_{5} : r_{175}, a_{12} : r_{176}, a_{13} : r_{177}, a_{14} : r_{178}, a_{15} : r_{179}, a_{23} : \\frac{r_{176}}{x_{12}}, a_{24} : 0, a_{25} : -\\frac{r_{175} x_{15} - r_{173} - r_{176}}{x_{12}}, a_{34} : 0, a_{35} : -\\frac{r_{175} x_{12} x_{25} - r_{173}}{x_{12} x_{23}}, a_{45} : r_{180}\\right\\}\\right]$$"
      ],
      "text/plain": [
       "[{d1: 0,\n",
       "  d2: 0,\n",
       "  d3: 0,\n",
       "  d4: r163,\n",
       "  d5: r164,\n",
       "  a12: r165,\n",
       "  a13: r166,\n",
       "  a14: r167,\n",
       "  a15: r168,\n",
       "  a23: r169,\n",
       "  a24: r170,\n",
       "  a25: r171,\n",
       "  a34: 0,\n",
       "  a35: -r164*x25/x23,\n",
       "  a45: r172},\n",
       " {d1: r173,\n",
       "  d2: r173/x12,\n",
       "  d3: r173/(x12*x23),\n",
       "  d4: r174,\n",
       "  d5: r175,\n",
       "  a12: r176,\n",
       "  a13: r177,\n",
       "  a14: r178,\n",
       "  a15: r179,\n",
       "  a23: r176/x12,\n",
       "  a24: 0,\n",
       "  a25: -(r175*x15 - r173 - r176)/x12,\n",
       "  a34: 0,\n",
       "  a35: -(r175*x12*x25 - r173)/(x12*x23),\n",
       "  a45: r180}]"
      ]
     },
     "metadata": {},
     "output_type": "display_data"
    }
   ],
   "source": [
    "#x4\n",
    "reset()\n",
    "\n",
    "var('x12,x13,x14,x15,x23,x24,x25,x34,x35,x45')\n",
    "var('d1,d2,d3,d4,d5')\n",
    "var('a12,a13,a14,a15,a23,a24,a25,a34,a35,a45')\n",
    "\n",
    "load_attach_path('C:\\\\Users\\\\julia\\\\Documents\\\\unb\\\\doutorado\\\\pensar\\\\codigo_sage_v2\\\\maquina\\\\x4')\n",
    "load('out_#001001.sage')\n",
    "\n",
    "m=matrix(QQ, [[0, 1, 0, 0, 1],\n",
    "              [0, 0, 1, 0, 1],\n",
    "              [0, 0, 0, 0, 0],\n",
    "              [0, 0, 0, 0, 0],\n",
    "              [0, 0, 0, 0, 0]])\n",
    "        \n",
    "#entry of matrix: (i,j) line i collum j, means (i-1,j-1)\n",
    "sol=solve([ eq1==m[0,1],\teq2==m[0,2],\teq3==m[0,3],\teq4==m[0,4],\t\n",
    "                                            eq5==m[1,2],    eq6==m[1,3],\n",
    "                                                            eq7==m[1,4], eq8==m[2,4]],d1,d2,d3,d4,d5,a12,a13,a14,a15,a23,a24,a25,a34,a35,a45, solution_dict=True)\n",
    "\n",
    "show(m)\n",
    "show(sol)\n",
    "#latex(sol)"
   ]
  },
  {
   "cell_type": "code",
   "execution_count": 11,
   "metadata": {},
   "outputs": [
    {
     "data": {
      "text/html": [
       "<html><script type=\"math/tex; mode=display\">\\newcommand{\\Bold}[1]{\\mathbf{#1}}\\left(\\begin{array}{rrrrr}\n",
       "0 & 1 & 0 & 1 & 0 \\\\\n",
       "0 & 0 & 1 & 0 & 1 \\\\\n",
       "0 & 0 & 0 & 0 & 0 \\\\\n",
       "0 & 0 & 0 & 0 & 0 \\\\\n",
       "0 & 0 & 0 & 0 & 0\n",
       "\\end{array}\\right)</script></html>"
      ],
      "text/latex": [
       "$$\\newcommand{\\Bold}[1]{\\mathbf{#1}}\\left(\\begin{array}{rrrrr}\n",
       "0 & 1 & 0 & 1 & 0 \\\\\n",
       "0 & 0 & 1 & 0 & 1 \\\\\n",
       "0 & 0 & 0 & 0 & 0 \\\\\n",
       "0 & 0 & 0 & 0 & 0 \\\\\n",
       "0 & 0 & 0 & 0 & 0\n",
       "\\end{array}\\right)$$"
      ],
      "text/plain": [
       "[0 1 0 1 0]\n",
       "[0 0 1 0 1]\n",
       "[0 0 0 0 0]\n",
       "[0 0 0 0 0]\n",
       "[0 0 0 0 0]"
      ]
     },
     "metadata": {},
     "output_type": "display_data"
    },
    {
     "data": {
      "text/html": [
       "<html><script type=\"math/tex; mode=display\">\\newcommand{\\Bold}[1]{\\mathbf{#1}}\\left[\\left\\{d_{1} : 0, d_{2} : 0, d_{3} : 0, d_{4} : r_{181}, d_{5} : r_{182}, a_{12} : r_{183}, a_{13} : r_{184}, a_{14} : r_{185}, a_{15} : r_{186}, a_{23} : r_{187}, a_{24} : r_{188}, a_{25} : r_{189}, a_{34} : 0, a_{35} : -\\frac{r_{182} x_{25}}{x_{23}}, a_{45} : r_{190}\\right\\}, \\left\\{d_{1} : r_{191}, d_{2} : \\frac{r_{191}}{x_{12}}, d_{3} : \\frac{r_{191}}{x_{12} x_{23}}, d_{4} : r_{192}, d_{5} : r_{193}, a_{12} : r_{194}, a_{13} : r_{195}, a_{14} : r_{196}, a_{15} : r_{197}, a_{23} : \\frac{r_{194}}{x_{12}}, a_{24} : -\\frac{r_{192} x_{14} - r_{191}}{x_{12}}, a_{25} : r_{198}, a_{34} : 0, a_{35} : -\\frac{r_{193} x_{12} x_{25} - r_{191}}{x_{12} x_{23}}, a_{45} : -\\frac{r_{198} x_{12} - r_{194}}{x_{14}}\\right\\}\\right]</script></html>"
      ],
      "text/latex": [
       "$$\\newcommand{\\Bold}[1]{\\mathbf{#1}}\\left[\\left\\{d_{1} : 0, d_{2} : 0, d_{3} : 0, d_{4} : r_{181}, d_{5} : r_{182}, a_{12} : r_{183}, a_{13} : r_{184}, a_{14} : r_{185}, a_{15} : r_{186}, a_{23} : r_{187}, a_{24} : r_{188}, a_{25} : r_{189}, a_{34} : 0, a_{35} : -\\frac{r_{182} x_{25}}{x_{23}}, a_{45} : r_{190}\\right\\}, \\left\\{d_{1} : r_{191}, d_{2} : \\frac{r_{191}}{x_{12}}, d_{3} : \\frac{r_{191}}{x_{12} x_{23}}, d_{4} : r_{192}, d_{5} : r_{193}, a_{12} : r_{194}, a_{13} : r_{195}, a_{14} : r_{196}, a_{15} : r_{197}, a_{23} : \\frac{r_{194}}{x_{12}}, a_{24} : -\\frac{r_{192} x_{14} - r_{191}}{x_{12}}, a_{25} : r_{198}, a_{34} : 0, a_{35} : -\\frac{r_{193} x_{12} x_{25} - r_{191}}{x_{12} x_{23}}, a_{45} : -\\frac{r_{198} x_{12} - r_{194}}{x_{14}}\\right\\}\\right]$$"
      ],
      "text/plain": [
       "[{d1: 0,\n",
       "  d2: 0,\n",
       "  d3: 0,\n",
       "  d4: r181,\n",
       "  d5: r182,\n",
       "  a12: r183,\n",
       "  a13: r184,\n",
       "  a14: r185,\n",
       "  a15: r186,\n",
       "  a23: r187,\n",
       "  a24: r188,\n",
       "  a25: r189,\n",
       "  a34: 0,\n",
       "  a35: -r182*x25/x23,\n",
       "  a45: r190},\n",
       " {d1: r191,\n",
       "  d2: r191/x12,\n",
       "  d3: r191/(x12*x23),\n",
       "  d4: r192,\n",
       "  d5: r193,\n",
       "  a12: r194,\n",
       "  a13: r195,\n",
       "  a14: r196,\n",
       "  a15: r197,\n",
       "  a23: r194/x12,\n",
       "  a24: -(r192*x14 - r191)/x12,\n",
       "  a25: r198,\n",
       "  a34: 0,\n",
       "  a35: -(r193*x12*x25 - r191)/(x12*x23),\n",
       "  a45: -(r198*x12 - r194)/x14}]"
      ]
     },
     "metadata": {},
     "output_type": "display_data"
    }
   ],
   "source": [
    "#x4\n",
    "reset()\n",
    "\n",
    "var('x12,x13,x14,x15,x23,x24,x25,x34,x35,x45')\n",
    "var('d1,d2,d3,d4,d5')\n",
    "var('a12,a13,a14,a15,a23,a24,a25,a34,a35,a45')\n",
    "\n",
    "load_attach_path('C:\\\\Users\\\\julia\\\\Documents\\\\unb\\\\doutorado\\\\pensar\\\\codigo_sage_v2\\\\maquina\\\\x4')\n",
    "load('out_#001010.sage')\n",
    "\n",
    "m=matrix(QQ, [[0, 1, 0, 1, 0],\n",
    "              [0, 0, 1, 0, 1],\n",
    "              [0, 0, 0, 0, 0],\n",
    "              [0, 0, 0, 0, 0],\n",
    "              [0, 0, 0, 0, 0]])\n",
    "        \n",
    "#entry of matrix: (i,j) line i collum j, means (i-1,j-1)\n",
    "sol=solve([ eq1==m[0,1],\teq2==m[0,2],\teq3==m[0,3],\teq4==m[0,4],\t\n",
    "                                            eq5==m[1,2],    eq6==m[1,3],\n",
    "                                                            eq7==m[1,4], eq8==m[2,4]],d1,d2,d3,d4,d5,a12,a13,a14,a15,a23,a24,a25,a34,a35,a45, solution_dict=True)\n",
    "\n",
    "show(m)\n",
    "show(sol)\n",
    "#latex(sol)"
   ]
  },
  {
   "cell_type": "code",
   "execution_count": 12,
   "metadata": {},
   "outputs": [
    {
     "data": {
      "text/html": [
       "<html><script type=\"math/tex; mode=display\">\\newcommand{\\Bold}[1]{\\mathbf{#1}}\\left(\\begin{array}{rrrrr}\n",
       "0 & 1 & 0 & 1 & 1 \\\\\n",
       "0 & 0 & 1 & 0 & 1 \\\\\n",
       "0 & 0 & 0 & 0 & 0 \\\\\n",
       "0 & 0 & 0 & 0 & 0 \\\\\n",
       "0 & 0 & 0 & 0 & 0\n",
       "\\end{array}\\right)</script></html>"
      ],
      "text/latex": [
       "$$\\newcommand{\\Bold}[1]{\\mathbf{#1}}\\left(\\begin{array}{rrrrr}\n",
       "0 & 1 & 0 & 1 & 1 \\\\\n",
       "0 & 0 & 1 & 0 & 1 \\\\\n",
       "0 & 0 & 0 & 0 & 0 \\\\\n",
       "0 & 0 & 0 & 0 & 0 \\\\\n",
       "0 & 0 & 0 & 0 & 0\n",
       "\\end{array}\\right)$$"
      ],
      "text/plain": [
       "[0 1 0 1 1]\n",
       "[0 0 1 0 1]\n",
       "[0 0 0 0 0]\n",
       "[0 0 0 0 0]\n",
       "[0 0 0 0 0]"
      ]
     },
     "metadata": {},
     "output_type": "display_data"
    },
    {
     "data": {
      "text/html": [
       "<html><script type=\"math/tex; mode=display\">\\newcommand{\\Bold}[1]{\\mathbf{#1}}\\left[\\left\\{d_{1} : 0, d_{2} : 0, d_{3} : 0, d_{4} : r_{199}, d_{5} : r_{200}, a_{12} : r_{201}, a_{13} : r_{202}, a_{14} : r_{203}, a_{15} : r_{204}, a_{23} : r_{205}, a_{24} : r_{206}, a_{25} : r_{207}, a_{34} : 0, a_{35} : -\\frac{r_{200} x_{25}}{x_{23}}, a_{45} : r_{208}\\right\\}, \\left\\{d_{1} : r_{209}, d_{2} : \\frac{r_{209}}{x_{12}}, d_{3} : \\frac{r_{209}}{x_{12} x_{23}}, d_{4} : r_{210}, d_{5} : r_{211}, a_{12} : r_{212}, a_{13} : r_{213}, a_{14} : r_{214}, a_{15} : r_{215}, a_{23} : \\frac{r_{212}}{x_{12}}, a_{24} : -\\frac{r_{210} x_{14} - r_{209}}{x_{12}}, a_{25} : r_{216}, a_{34} : 0, a_{35} : -\\frac{r_{211} x_{12} x_{25} - r_{209}}{x_{12} x_{23}}, a_{45} : -\\frac{r_{216} x_{12} + r_{211} x_{15} - r_{209} - r_{212}}{x_{14}}\\right\\}\\right]</script></html>"
      ],
      "text/latex": [
       "$$\\newcommand{\\Bold}[1]{\\mathbf{#1}}\\left[\\left\\{d_{1} : 0, d_{2} : 0, d_{3} : 0, d_{4} : r_{199}, d_{5} : r_{200}, a_{12} : r_{201}, a_{13} : r_{202}, a_{14} : r_{203}, a_{15} : r_{204}, a_{23} : r_{205}, a_{24} : r_{206}, a_{25} : r_{207}, a_{34} : 0, a_{35} : -\\frac{r_{200} x_{25}}{x_{23}}, a_{45} : r_{208}\\right\\}, \\left\\{d_{1} : r_{209}, d_{2} : \\frac{r_{209}}{x_{12}}, d_{3} : \\frac{r_{209}}{x_{12} x_{23}}, d_{4} : r_{210}, d_{5} : r_{211}, a_{12} : r_{212}, a_{13} : r_{213}, a_{14} : r_{214}, a_{15} : r_{215}, a_{23} : \\frac{r_{212}}{x_{12}}, a_{24} : -\\frac{r_{210} x_{14} - r_{209}}{x_{12}}, a_{25} : r_{216}, a_{34} : 0, a_{35} : -\\frac{r_{211} x_{12} x_{25} - r_{209}}{x_{12} x_{23}}, a_{45} : -\\frac{r_{216} x_{12} + r_{211} x_{15} - r_{209} - r_{212}}{x_{14}}\\right\\}\\right]$$"
      ],
      "text/plain": [
       "[{d1: 0,\n",
       "  d2: 0,\n",
       "  d3: 0,\n",
       "  d4: r199,\n",
       "  d5: r200,\n",
       "  a12: r201,\n",
       "  a13: r202,\n",
       "  a14: r203,\n",
       "  a15: r204,\n",
       "  a23: r205,\n",
       "  a24: r206,\n",
       "  a25: r207,\n",
       "  a34: 0,\n",
       "  a35: -r200*x25/x23,\n",
       "  a45: r208},\n",
       " {d1: r209,\n",
       "  d2: r209/x12,\n",
       "  d3: r209/(x12*x23),\n",
       "  d4: r210,\n",
       "  d5: r211,\n",
       "  a12: r212,\n",
       "  a13: r213,\n",
       "  a14: r214,\n",
       "  a15: r215,\n",
       "  a23: r212/x12,\n",
       "  a24: -(r210*x14 - r209)/x12,\n",
       "  a25: r216,\n",
       "  a34: 0,\n",
       "  a35: -(r211*x12*x25 - r209)/(x12*x23),\n",
       "  a45: -(r216*x12 + r211*x15 - r209 - r212)/x14}]"
      ]
     },
     "metadata": {},
     "output_type": "display_data"
    }
   ],
   "source": [
    "#x4\n",
    "reset()\n",
    "\n",
    "var('x12,x13,x14,x15,x23,x24,x25,x34,x35,x45')\n",
    "var('d1,d2,d3,d4,d5')\n",
    "var('a12,a13,a14,a15,a23,a24,a25,a34,a35,a45')\n",
    "\n",
    "load_attach_path('C:\\\\Users\\\\julia\\\\Documents\\\\unb\\\\doutorado\\\\pensar\\\\codigo_sage_v2\\\\maquina\\\\x4')\n",
    "load('out_#001011.sage')\n",
    "\n",
    "m=matrix(QQ, [[0, 1, 0, 1, 1],\n",
    "              [0, 0, 1, 0, 1],\n",
    "              [0, 0, 0, 0, 0],\n",
    "              [0, 0, 0, 0, 0],\n",
    "              [0, 0, 0, 0, 0]])\n",
    "        \n",
    "#entry of matrix: (i,j) line i collum j, means (i-1,j-1)\n",
    "sol=solve([ eq1==m[0,1],\teq2==m[0,2],\teq3==m[0,3],\teq4==m[0,4],\t\n",
    "                                            eq5==m[1,2],    eq6==m[1,3],\n",
    "                                                            eq7==m[1,4], eq8==m[2,4]],d1,d2,d3,d4,d5,a12,a13,a14,a15,a23,a24,a25,a34,a35,a45, solution_dict=True)\n",
    "\n",
    "show(m)\n",
    "show(sol)\n",
    "#latex(sol)"
   ]
  },
  {
   "cell_type": "code",
   "execution_count": 13,
   "metadata": {},
   "outputs": [
    {
     "data": {
      "text/html": [
       "<html><script type=\"math/tex; mode=display\">\\newcommand{\\Bold}[1]{\\mathbf{#1}}\\left(\\begin{array}{rrrrr}\n",
       "0 & 1 & 1 & 0 & 0 \\\\\n",
       "0 & 0 & 1 & 0 & 1 \\\\\n",
       "0 & 0 & 0 & 0 & 0 \\\\\n",
       "0 & 0 & 0 & 0 & 0 \\\\\n",
       "0 & 0 & 0 & 0 & 0\n",
       "\\end{array}\\right)</script></html>"
      ],
      "text/latex": [
       "$$\\newcommand{\\Bold}[1]{\\mathbf{#1}}\\left(\\begin{array}{rrrrr}\n",
       "0 & 1 & 1 & 0 & 0 \\\\\n",
       "0 & 0 & 1 & 0 & 1 \\\\\n",
       "0 & 0 & 0 & 0 & 0 \\\\\n",
       "0 & 0 & 0 & 0 & 0 \\\\\n",
       "0 & 0 & 0 & 0 & 0\n",
       "\\end{array}\\right)$$"
      ],
      "text/plain": [
       "[0 1 1 0 0]\n",
       "[0 0 1 0 1]\n",
       "[0 0 0 0 0]\n",
       "[0 0 0 0 0]\n",
       "[0 0 0 0 0]"
      ]
     },
     "metadata": {},
     "output_type": "display_data"
    },
    {
     "data": {
      "text/html": [
       "<html><script type=\"math/tex; mode=display\">\\newcommand{\\Bold}[1]{\\mathbf{#1}}\\left[\\left\\{d_{1} : 0, d_{2} : 0, d_{3} : 0, d_{4} : r_{217}, d_{5} : r_{218}, a_{12} : r_{219}, a_{13} : r_{220}, a_{14} : r_{221}, a_{15} : r_{222}, a_{23} : r_{223}, a_{24} : r_{224}, a_{25} : r_{225}, a_{34} : 0, a_{35} : -\\frac{r_{218} x_{25}}{x_{23}}, a_{45} : r_{226}\\right\\}, \\left\\{d_{1} : r_{227}, d_{2} : \\frac{r_{227}}{x_{12}}, d_{3} : \\frac{r_{227}}{x_{12} x_{23}}, d_{4} : r_{228}, d_{5} : r_{229}, a_{12} : r_{230}, a_{13} : r_{231}, a_{14} : r_{232}, a_{15} : r_{233}, a_{23} : \\frac{{\\left(r_{227} + r_{230}\\right)} x_{12} x_{23} - r_{227} x_{13}}{x_{12}^{2} x_{23}}, a_{24} : 0, a_{25} : \\frac{r_{229} x_{12} x_{13} x_{25} + r_{230} x_{12} x_{23} - r_{227} x_{13}}{x_{12}^{2} x_{23}}, a_{34} : 0, a_{35} : -\\frac{r_{229} x_{12} x_{25} - r_{227}}{x_{12} x_{23}}, a_{45} : r_{234}\\right\\}\\right]</script></html>"
      ],
      "text/latex": [
       "$$\\newcommand{\\Bold}[1]{\\mathbf{#1}}\\left[\\left\\{d_{1} : 0, d_{2} : 0, d_{3} : 0, d_{4} : r_{217}, d_{5} : r_{218}, a_{12} : r_{219}, a_{13} : r_{220}, a_{14} : r_{221}, a_{15} : r_{222}, a_{23} : r_{223}, a_{24} : r_{224}, a_{25} : r_{225}, a_{34} : 0, a_{35} : -\\frac{r_{218} x_{25}}{x_{23}}, a_{45} : r_{226}\\right\\}, \\left\\{d_{1} : r_{227}, d_{2} : \\frac{r_{227}}{x_{12}}, d_{3} : \\frac{r_{227}}{x_{12} x_{23}}, d_{4} : r_{228}, d_{5} : r_{229}, a_{12} : r_{230}, a_{13} : r_{231}, a_{14} : r_{232}, a_{15} : r_{233}, a_{23} : \\frac{{\\left(r_{227} + r_{230}\\right)} x_{12} x_{23} - r_{227} x_{13}}{x_{12}^{2} x_{23}}, a_{24} : 0, a_{25} : \\frac{r_{229} x_{12} x_{13} x_{25} + r_{230} x_{12} x_{23} - r_{227} x_{13}}{x_{12}^{2} x_{23}}, a_{34} : 0, a_{35} : -\\frac{r_{229} x_{12} x_{25} - r_{227}}{x_{12} x_{23}}, a_{45} : r_{234}\\right\\}\\right]$$"
      ],
      "text/plain": [
       "[{d1: 0,\n",
       "  d2: 0,\n",
       "  d3: 0,\n",
       "  d4: r217,\n",
       "  d5: r218,\n",
       "  a12: r219,\n",
       "  a13: r220,\n",
       "  a14: r221,\n",
       "  a15: r222,\n",
       "  a23: r223,\n",
       "  a24: r224,\n",
       "  a25: r225,\n",
       "  a34: 0,\n",
       "  a35: -r218*x25/x23,\n",
       "  a45: r226},\n",
       " {d1: r227,\n",
       "  d2: r227/x12,\n",
       "  d3: r227/(x12*x23),\n",
       "  d4: r228,\n",
       "  d5: r229,\n",
       "  a12: r230,\n",
       "  a13: r231,\n",
       "  a14: r232,\n",
       "  a15: r233,\n",
       "  a23: ((r227 + r230)*x12*x23 - r227*x13)/(x12^2*x23),\n",
       "  a24: 0,\n",
       "  a25: (r229*x12*x13*x25 + r230*x12*x23 - r227*x13)/(x12^2*x23),\n",
       "  a34: 0,\n",
       "  a35: -(r229*x12*x25 - r227)/(x12*x23),\n",
       "  a45: r234}]"
      ]
     },
     "metadata": {},
     "output_type": "display_data"
    }
   ],
   "source": [
    "#x4\n",
    "reset()\n",
    "\n",
    "var('x12,x13,x14,x15,x23,x24,x25,x34,x35,x45')\n",
    "var('d1,d2,d3,d4,d5')\n",
    "var('a12,a13,a14,a15,a23,a24,a25,a34,a35,a45')\n",
    "\n",
    "load_attach_path('C:\\\\Users\\\\julia\\\\Documents\\\\unb\\\\doutorado\\\\pensar\\\\codigo_sage_v2\\\\maquina\\\\x4')\n",
    "load('out_#001100.sage')\n",
    "\n",
    "m=matrix(QQ, [[0, 1, 1, 0, 0],\n",
    "              [0, 0, 1, 0, 1],\n",
    "              [0, 0, 0, 0, 0],\n",
    "              [0, 0, 0, 0, 0],\n",
    "              [0, 0, 0, 0, 0]])\n",
    "        \n",
    "#entry of matrix: (i,j) line i collum j, means (i-1,j-1)\n",
    "sol=solve([ eq1==m[0,1],\teq2==m[0,2],\teq3==m[0,3],\teq4==m[0,4],\t\n",
    "                                            eq5==m[1,2],    eq6==m[1,3],\n",
    "                                                            eq7==m[1,4], eq8==m[2,4]],d1,d2,d3,d4,d5,a12,a13,a14,a15,a23,a24,a25,a34,a35,a45, solution_dict=True)\n",
    "\n",
    "show(m)\n",
    "show(sol)\n",
    "#latex(sol)"
   ]
  },
  {
   "cell_type": "code",
   "execution_count": 14,
   "metadata": {},
   "outputs": [
    {
     "data": {
      "text/html": [
       "<html><script type=\"math/tex; mode=display\">\\newcommand{\\Bold}[1]{\\mathbf{#1}}\\left(\\begin{array}{rrrrr}\n",
       "0 & 1 & 1 & 0 & 1 \\\\\n",
       "0 & 0 & 1 & 0 & 1 \\\\\n",
       "0 & 0 & 0 & 0 & 0 \\\\\n",
       "0 & 0 & 0 & 0 & 0 \\\\\n",
       "0 & 0 & 0 & 0 & 0\n",
       "\\end{array}\\right)</script></html>"
      ],
      "text/latex": [
       "$$\\newcommand{\\Bold}[1]{\\mathbf{#1}}\\left(\\begin{array}{rrrrr}\n",
       "0 & 1 & 1 & 0 & 1 \\\\\n",
       "0 & 0 & 1 & 0 & 1 \\\\\n",
       "0 & 0 & 0 & 0 & 0 \\\\\n",
       "0 & 0 & 0 & 0 & 0 \\\\\n",
       "0 & 0 & 0 & 0 & 0\n",
       "\\end{array}\\right)$$"
      ],
      "text/plain": [
       "[0 1 1 0 1]\n",
       "[0 0 1 0 1]\n",
       "[0 0 0 0 0]\n",
       "[0 0 0 0 0]\n",
       "[0 0 0 0 0]"
      ]
     },
     "metadata": {},
     "output_type": "display_data"
    },
    {
     "data": {
      "text/html": [
       "<html><script type=\"math/tex; mode=display\">\\newcommand{\\Bold}[1]{\\mathbf{#1}}\\left[\\left\\{d_{1} : 0, d_{2} : 0, d_{3} : 0, d_{4} : r_{235}, d_{5} : r_{236}, a_{12} : r_{237}, a_{13} : r_{238}, a_{14} : r_{239}, a_{15} : r_{240}, a_{23} : r_{241}, a_{24} : r_{242}, a_{25} : r_{243}, a_{34} : 0, a_{35} : -\\frac{r_{236} x_{25}}{x_{23}}, a_{45} : r_{244}\\right\\}, \\left\\{d_{1} : r_{245}, d_{2} : \\frac{r_{245}}{x_{12}}, d_{3} : \\frac{r_{245}}{x_{12} x_{23}}, d_{4} : r_{246}, d_{5} : r_{247}, a_{12} : r_{248}, a_{13} : r_{249}, a_{14} : r_{250}, a_{15} : r_{251}, a_{23} : \\frac{{\\left(r_{245} + r_{248}\\right)} x_{12} x_{23} - r_{245} x_{13}}{x_{12}^{2} x_{23}}, a_{24} : 0, a_{25} : \\frac{r_{247} x_{12} x_{13} x_{25} - r_{245} x_{13} - {\\left(r_{247} x_{12} x_{15} - {\\left(r_{245} + r_{248}\\right)} x_{12}\\right)} x_{23}}{x_{12}^{2} x_{23}}, a_{34} : 0, a_{35} : -\\frac{r_{247} x_{12} x_{25} - r_{245}}{x_{12} x_{23}}, a_{45} : r_{252}\\right\\}\\right]</script></html>"
      ],
      "text/latex": [
       "$$\\newcommand{\\Bold}[1]{\\mathbf{#1}}\\left[\\left\\{d_{1} : 0, d_{2} : 0, d_{3} : 0, d_{4} : r_{235}, d_{5} : r_{236}, a_{12} : r_{237}, a_{13} : r_{238}, a_{14} : r_{239}, a_{15} : r_{240}, a_{23} : r_{241}, a_{24} : r_{242}, a_{25} : r_{243}, a_{34} : 0, a_{35} : -\\frac{r_{236} x_{25}}{x_{23}}, a_{45} : r_{244}\\right\\}, \\left\\{d_{1} : r_{245}, d_{2} : \\frac{r_{245}}{x_{12}}, d_{3} : \\frac{r_{245}}{x_{12} x_{23}}, d_{4} : r_{246}, d_{5} : r_{247}, a_{12} : r_{248}, a_{13} : r_{249}, a_{14} : r_{250}, a_{15} : r_{251}, a_{23} : \\frac{{\\left(r_{245} + r_{248}\\right)} x_{12} x_{23} - r_{245} x_{13}}{x_{12}^{2} x_{23}}, a_{24} : 0, a_{25} : \\frac{r_{247} x_{12} x_{13} x_{25} - r_{245} x_{13} - {\\left(r_{247} x_{12} x_{15} - {\\left(r_{245} + r_{248}\\right)} x_{12}\\right)} x_{23}}{x_{12}^{2} x_{23}}, a_{34} : 0, a_{35} : -\\frac{r_{247} x_{12} x_{25} - r_{245}}{x_{12} x_{23}}, a_{45} : r_{252}\\right\\}\\right]$$"
      ],
      "text/plain": [
       "[{d1: 0,\n",
       "  d2: 0,\n",
       "  d3: 0,\n",
       "  d4: r235,\n",
       "  d5: r236,\n",
       "  a12: r237,\n",
       "  a13: r238,\n",
       "  a14: r239,\n",
       "  a15: r240,\n",
       "  a23: r241,\n",
       "  a24: r242,\n",
       "  a25: r243,\n",
       "  a34: 0,\n",
       "  a35: -r236*x25/x23,\n",
       "  a45: r244},\n",
       " {d1: r245,\n",
       "  d2: r245/x12,\n",
       "  d3: r245/(x12*x23),\n",
       "  d4: r246,\n",
       "  d5: r247,\n",
       "  a12: r248,\n",
       "  a13: r249,\n",
       "  a14: r250,\n",
       "  a15: r251,\n",
       "  a23: ((r245 + r248)*x12*x23 - r245*x13)/(x12^2*x23),\n",
       "  a24: 0,\n",
       "  a25: (r247*x12*x13*x25 - r245*x13 - (r247*x12*x15 - (r245 + r248)*x12)*x23)/(x12^2*x23),\n",
       "  a34: 0,\n",
       "  a35: -(r247*x12*x25 - r245)/(x12*x23),\n",
       "  a45: r252}]"
      ]
     },
     "metadata": {},
     "output_type": "display_data"
    }
   ],
   "source": [
    "#x4\n",
    "reset()\n",
    "\n",
    "var('x12,x13,x14,x15,x23,x24,x25,x34,x35,x45')\n",
    "var('d1,d2,d3,d4,d5')\n",
    "var('a12,a13,a14,a15,a23,a24,a25,a34,a35,a45')\n",
    "\n",
    "load_attach_path('C:\\\\Users\\\\julia\\\\Documents\\\\unb\\\\doutorado\\\\pensar\\\\codigo_sage_v2\\\\maquina\\\\x4')\n",
    "load('out_#001101.sage')\n",
    "\n",
    "m=matrix(QQ, [[0, 1, 1, 0, 1],\n",
    "              [0, 0, 1, 0, 1],\n",
    "              [0, 0, 0, 0, 0],\n",
    "              [0, 0, 0, 0, 0],\n",
    "              [0, 0, 0, 0, 0]])\n",
    "        \n",
    "#entry of matrix: (i,j) line i collum j, means (i-1,j-1)\n",
    "sol=solve([ eq1==m[0,1],\teq2==m[0,2],\teq3==m[0,3],\teq4==m[0,4],\t\n",
    "                                            eq5==m[1,2],    eq6==m[1,3],\n",
    "                                                            eq7==m[1,4], eq8==m[2,4]],d1,d2,d3,d4,d5,a12,a13,a14,a15,a23,a24,a25,a34,a35,a45, solution_dict=True)\n",
    "\n",
    "show(m)\n",
    "show(sol)\n",
    "#latex(sol)"
   ]
  },
  {
   "cell_type": "code",
   "execution_count": 15,
   "metadata": {},
   "outputs": [
    {
     "data": {
      "text/html": [
       "<html><script type=\"math/tex; mode=display\">\\newcommand{\\Bold}[1]{\\mathbf{#1}}\\left(\\begin{array}{rrrrr}\n",
       "0 & 1 & 1 & 1 & 0 \\\\\n",
       "0 & 0 & 1 & 0 & 1 \\\\\n",
       "0 & 0 & 0 & 0 & 0 \\\\\n",
       "0 & 0 & 0 & 0 & 0 \\\\\n",
       "0 & 0 & 0 & 0 & 0\n",
       "\\end{array}\\right)</script></html>"
      ],
      "text/latex": [
       "$$\\newcommand{\\Bold}[1]{\\mathbf{#1}}\\left(\\begin{array}{rrrrr}\n",
       "0 & 1 & 1 & 1 & 0 \\\\\n",
       "0 & 0 & 1 & 0 & 1 \\\\\n",
       "0 & 0 & 0 & 0 & 0 \\\\\n",
       "0 & 0 & 0 & 0 & 0 \\\\\n",
       "0 & 0 & 0 & 0 & 0\n",
       "\\end{array}\\right)$$"
      ],
      "text/plain": [
       "[0 1 1 1 0]\n",
       "[0 0 1 0 1]\n",
       "[0 0 0 0 0]\n",
       "[0 0 0 0 0]\n",
       "[0 0 0 0 0]"
      ]
     },
     "metadata": {},
     "output_type": "display_data"
    },
    {
     "data": {
      "text/html": [
       "<html><script type=\"math/tex; mode=display\">\\newcommand{\\Bold}[1]{\\mathbf{#1}}\\left[\\left\\{d_{1} : 0, d_{2} : 0, d_{3} : 0, d_{4} : r_{253}, d_{5} : r_{254}, a_{12} : r_{255}, a_{13} : r_{256}, a_{14} : r_{257}, a_{15} : r_{258}, a_{23} : r_{259}, a_{24} : r_{260}, a_{25} : r_{261}, a_{34} : 0, a_{35} : -\\frac{r_{254} x_{25}}{x_{23}}, a_{45} : r_{262}\\right\\}, \\left\\{d_{1} : r_{263}, d_{2} : \\frac{r_{263}}{x_{12}}, d_{3} : \\frac{r_{263}}{x_{12} x_{23}}, d_{4} : r_{264}, d_{5} : r_{265}, a_{12} : r_{266}, a_{13} : r_{267}, a_{14} : r_{268}, a_{15} : r_{269}, a_{23} : \\frac{{\\left(r_{263} + r_{266}\\right)} x_{12} x_{23} - r_{263} x_{13}}{x_{12}^{2} x_{23}}, a_{24} : -\\frac{r_{264} x_{14} - r_{263}}{x_{12}}, a_{25} : r_{270}, a_{34} : 0, a_{35} : -\\frac{r_{265} x_{12} x_{25} - r_{263}}{x_{12} x_{23}}, a_{45} : \\frac{r_{265} x_{12} x_{13} x_{25} - r_{263} x_{13} - {\\left(r_{270} x_{12}^{2} - r_{266} x_{12}\\right)} x_{23}}{x_{12} x_{14} x_{23}}\\right\\}\\right]</script></html>"
      ],
      "text/latex": [
       "$$\\newcommand{\\Bold}[1]{\\mathbf{#1}}\\left[\\left\\{d_{1} : 0, d_{2} : 0, d_{3} : 0, d_{4} : r_{253}, d_{5} : r_{254}, a_{12} : r_{255}, a_{13} : r_{256}, a_{14} : r_{257}, a_{15} : r_{258}, a_{23} : r_{259}, a_{24} : r_{260}, a_{25} : r_{261}, a_{34} : 0, a_{35} : -\\frac{r_{254} x_{25}}{x_{23}}, a_{45} : r_{262}\\right\\}, \\left\\{d_{1} : r_{263}, d_{2} : \\frac{r_{263}}{x_{12}}, d_{3} : \\frac{r_{263}}{x_{12} x_{23}}, d_{4} : r_{264}, d_{5} : r_{265}, a_{12} : r_{266}, a_{13} : r_{267}, a_{14} : r_{268}, a_{15} : r_{269}, a_{23} : \\frac{{\\left(r_{263} + r_{266}\\right)} x_{12} x_{23} - r_{263} x_{13}}{x_{12}^{2} x_{23}}, a_{24} : -\\frac{r_{264} x_{14} - r_{263}}{x_{12}}, a_{25} : r_{270}, a_{34} : 0, a_{35} : -\\frac{r_{265} x_{12} x_{25} - r_{263}}{x_{12} x_{23}}, a_{45} : \\frac{r_{265} x_{12} x_{13} x_{25} - r_{263} x_{13} - {\\left(r_{270} x_{12}^{2} - r_{266} x_{12}\\right)} x_{23}}{x_{12} x_{14} x_{23}}\\right\\}\\right]$$"
      ],
      "text/plain": [
       "[{d1: 0,\n",
       "  d2: 0,\n",
       "  d3: 0,\n",
       "  d4: r253,\n",
       "  d5: r254,\n",
       "  a12: r255,\n",
       "  a13: r256,\n",
       "  a14: r257,\n",
       "  a15: r258,\n",
       "  a23: r259,\n",
       "  a24: r260,\n",
       "  a25: r261,\n",
       "  a34: 0,\n",
       "  a35: -r254*x25/x23,\n",
       "  a45: r262},\n",
       " {d1: r263,\n",
       "  d2: r263/x12,\n",
       "  d3: r263/(x12*x23),\n",
       "  d4: r264,\n",
       "  d5: r265,\n",
       "  a12: r266,\n",
       "  a13: r267,\n",
       "  a14: r268,\n",
       "  a15: r269,\n",
       "  a23: ((r263 + r266)*x12*x23 - r263*x13)/(x12^2*x23),\n",
       "  a24: -(r264*x14 - r263)/x12,\n",
       "  a25: r270,\n",
       "  a34: 0,\n",
       "  a35: -(r265*x12*x25 - r263)/(x12*x23),\n",
       "  a45: (r265*x12*x13*x25 - r263*x13 - (r270*x12^2 - r266*x12)*x23)/(x12*x14*x23)}]"
      ]
     },
     "metadata": {},
     "output_type": "display_data"
    }
   ],
   "source": [
    "#x4\n",
    "reset()\n",
    "\n",
    "var('x12,x13,x14,x15,x23,x24,x25,x34,x35,x45')\n",
    "var('d1,d2,d3,d4,d5')\n",
    "var('a12,a13,a14,a15,a23,a24,a25,a34,a35,a45')\n",
    "\n",
    "load_attach_path('C:\\\\Users\\\\julia\\\\Documents\\\\unb\\\\doutorado\\\\pensar\\\\codigo_sage_v2\\\\maquina\\\\x4')\n",
    "load('out_#001110.sage')\n",
    "\n",
    "m=matrix(QQ, [[0, 1, 1, 1, 0],\n",
    "              [0, 0, 1, 0, 1],\n",
    "              [0, 0, 0, 0, 0],\n",
    "              [0, 0, 0, 0, 0],\n",
    "              [0, 0, 0, 0, 0]])\n",
    "        \n",
    "#entry of matrix: (i,j) line i collum j, means (i-1,j-1)\n",
    "sol=solve([ eq1==m[0,1],\teq2==m[0,2],\teq3==m[0,3],\teq4==m[0,4],\t\n",
    "                                            eq5==m[1,2],    eq6==m[1,3],\n",
    "                                                            eq7==m[1,4], eq8==m[2,4]],d1,d2,d3,d4,d5,a12,a13,a14,a15,a23,a24,a25,a34,a35,a45, solution_dict=True)\n",
    "\n",
    "show(m)\n",
    "show(sol)\n",
    "#latex(sol)"
   ]
  },
  {
   "cell_type": "code",
   "execution_count": 16,
   "metadata": {},
   "outputs": [
    {
     "data": {
      "text/html": [
       "<html><script type=\"math/tex; mode=display\">\\newcommand{\\Bold}[1]{\\mathbf{#1}}\\left(\\begin{array}{rrrrr}\n",
       "0 & 1 & 1 & 1 & 1 \\\\\n",
       "0 & 0 & 1 & 0 & 1 \\\\\n",
       "0 & 0 & 0 & 0 & 0 \\\\\n",
       "0 & 0 & 0 & 0 & 0 \\\\\n",
       "0 & 0 & 0 & 0 & 0\n",
       "\\end{array}\\right)</script></html>"
      ],
      "text/latex": [
       "$$\\newcommand{\\Bold}[1]{\\mathbf{#1}}\\left(\\begin{array}{rrrrr}\n",
       "0 & 1 & 1 & 1 & 1 \\\\\n",
       "0 & 0 & 1 & 0 & 1 \\\\\n",
       "0 & 0 & 0 & 0 & 0 \\\\\n",
       "0 & 0 & 0 & 0 & 0 \\\\\n",
       "0 & 0 & 0 & 0 & 0\n",
       "\\end{array}\\right)$$"
      ],
      "text/plain": [
       "[0 1 1 1 1]\n",
       "[0 0 1 0 1]\n",
       "[0 0 0 0 0]\n",
       "[0 0 0 0 0]\n",
       "[0 0 0 0 0]"
      ]
     },
     "metadata": {},
     "output_type": "display_data"
    },
    {
     "data": {
      "text/html": [
       "<html><script type=\"math/tex; mode=display\">\\newcommand{\\Bold}[1]{\\mathbf{#1}}\\left[\\left\\{d_{1} : 0, d_{2} : 0, d_{3} : 0, d_{4} : r_{271}, d_{5} : r_{272}, a_{12} : r_{273}, a_{13} : r_{274}, a_{14} : r_{275}, a_{15} : r_{276}, a_{23} : r_{277}, a_{24} : r_{278}, a_{25} : r_{279}, a_{34} : 0, a_{35} : -\\frac{r_{272} x_{25}}{x_{23}}, a_{45} : r_{280}\\right\\}, \\left\\{d_{1} : r_{281}, d_{2} : \\frac{r_{281}}{x_{12}}, d_{3} : \\frac{r_{281}}{x_{12} x_{23}}, d_{4} : r_{282}, d_{5} : r_{283}, a_{12} : r_{284}, a_{13} : r_{285}, a_{14} : r_{286}, a_{15} : r_{287}, a_{23} : \\frac{{\\left(r_{281} + r_{284}\\right)} x_{12} x_{23} - r_{281} x_{13}}{x_{12}^{2} x_{23}}, a_{24} : -\\frac{r_{282} x_{14} - r_{281}}{x_{12}}, a_{25} : r_{288}, a_{34} : 0, a_{35} : -\\frac{r_{283} x_{12} x_{25} - r_{281}}{x_{12} x_{23}}, a_{45} : \\frac{r_{283} x_{12} x_{13} x_{25} - r_{281} x_{13} - {\\left(r_{288} x_{12}^{2} + r_{283} x_{12} x_{15} - {\\left(r_{281} + r_{284}\\right)} x_{12}\\right)} x_{23}}{x_{12} x_{14} x_{23}}\\right\\}\\right]</script></html>"
      ],
      "text/latex": [
       "$$\\newcommand{\\Bold}[1]{\\mathbf{#1}}\\left[\\left\\{d_{1} : 0, d_{2} : 0, d_{3} : 0, d_{4} : r_{271}, d_{5} : r_{272}, a_{12} : r_{273}, a_{13} : r_{274}, a_{14} : r_{275}, a_{15} : r_{276}, a_{23} : r_{277}, a_{24} : r_{278}, a_{25} : r_{279}, a_{34} : 0, a_{35} : -\\frac{r_{272} x_{25}}{x_{23}}, a_{45} : r_{280}\\right\\}, \\left\\{d_{1} : r_{281}, d_{2} : \\frac{r_{281}}{x_{12}}, d_{3} : \\frac{r_{281}}{x_{12} x_{23}}, d_{4} : r_{282}, d_{5} : r_{283}, a_{12} : r_{284}, a_{13} : r_{285}, a_{14} : r_{286}, a_{15} : r_{287}, a_{23} : \\frac{{\\left(r_{281} + r_{284}\\right)} x_{12} x_{23} - r_{281} x_{13}}{x_{12}^{2} x_{23}}, a_{24} : -\\frac{r_{282} x_{14} - r_{281}}{x_{12}}, a_{25} : r_{288}, a_{34} : 0, a_{35} : -\\frac{r_{283} x_{12} x_{25} - r_{281}}{x_{12} x_{23}}, a_{45} : \\frac{r_{283} x_{12} x_{13} x_{25} - r_{281} x_{13} - {\\left(r_{288} x_{12}^{2} + r_{283} x_{12} x_{15} - {\\left(r_{281} + r_{284}\\right)} x_{12}\\right)} x_{23}}{x_{12} x_{14} x_{23}}\\right\\}\\right]$$"
      ],
      "text/plain": [
       "[{d1: 0,\n",
       "  d2: 0,\n",
       "  d3: 0,\n",
       "  d4: r271,\n",
       "  d5: r272,\n",
       "  a12: r273,\n",
       "  a13: r274,\n",
       "  a14: r275,\n",
       "  a15: r276,\n",
       "  a23: r277,\n",
       "  a24: r278,\n",
       "  a25: r279,\n",
       "  a34: 0,\n",
       "  a35: -r272*x25/x23,\n",
       "  a45: r280},\n",
       " {d1: r281,\n",
       "  d2: r281/x12,\n",
       "  d3: r281/(x12*x23),\n",
       "  d4: r282,\n",
       "  d5: r283,\n",
       "  a12: r284,\n",
       "  a13: r285,\n",
       "  a14: r286,\n",
       "  a15: r287,\n",
       "  a23: ((r281 + r284)*x12*x23 - r281*x13)/(x12^2*x23),\n",
       "  a24: -(r282*x14 - r281)/x12,\n",
       "  a25: r288,\n",
       "  a34: 0,\n",
       "  a35: -(r283*x12*x25 - r281)/(x12*x23),\n",
       "  a45: (r283*x12*x13*x25 - r281*x13 - (r288*x12^2 + r283*x12*x15 - (r281 + r284)*x12)*x23)/(x12*x14*x23)}]"
      ]
     },
     "metadata": {},
     "output_type": "display_data"
    }
   ],
   "source": [
    "#x4\n",
    "reset()\n",
    "\n",
    "var('x12,x13,x14,x15,x23,x24,x25,x34,x35,x45')\n",
    "var('d1,d2,d3,d4,d5')\n",
    "var('a12,a13,a14,a15,a23,a24,a25,a34,a35,a45')\n",
    "\n",
    "load_attach_path('C:\\\\Users\\\\julia\\\\Documents\\\\unb\\\\doutorado\\\\pensar\\\\codigo_sage_v2\\\\maquina\\\\x4')\n",
    "load('out_#001111.sage')\n",
    "\n",
    "m=matrix(QQ, [[0, 1, 1, 1, 1],\n",
    "              [0, 0, 1, 0, 1],\n",
    "              [0, 0, 0, 0, 0],\n",
    "              [0, 0, 0, 0, 0],\n",
    "              [0, 0, 0, 0, 0]])\n",
    "        \n",
    "#entry of matrix: (i,j) line i collum j, means (i-1,j-1)\n",
    "sol=solve([ eq1==m[0,1],\teq2==m[0,2],\teq3==m[0,3],\teq4==m[0,4],\t\n",
    "                                            eq5==m[1,2],    eq6==m[1,3],\n",
    "                                                            eq7==m[1,4], eq8==m[2,4]],d1,d2,d3,d4,d5,a12,a13,a14,a15,a23,a24,a25,a34,a35,a45, solution_dict=True)\n",
    "\n",
    "show(m)\n",
    "show(sol)\n",
    "#latex(sol)"
   ]
  },
  {
   "cell_type": "code",
   "execution_count": 17,
   "metadata": {},
   "outputs": [
    {
     "data": {
      "text/html": [
       "<html><script type=\"math/tex; mode=display\">\\newcommand{\\Bold}[1]{\\mathbf{#1}}\\left(\\begin{array}{rrrrr}\n",
       "0 & 1 & 0 & 0 & 0 \\\\\n",
       "0 & 0 & 1 & 1 & 0 \\\\\n",
       "0 & 0 & 0 & 0 & 0 \\\\\n",
       "0 & 0 & 0 & 0 & 0 \\\\\n",
       "0 & 0 & 0 & 0 & 0\n",
       "\\end{array}\\right)</script></html>"
      ],
      "text/latex": [
       "$$\\newcommand{\\Bold}[1]{\\mathbf{#1}}\\left(\\begin{array}{rrrrr}\n",
       "0 & 1 & 0 & 0 & 0 \\\\\n",
       "0 & 0 & 1 & 1 & 0 \\\\\n",
       "0 & 0 & 0 & 0 & 0 \\\\\n",
       "0 & 0 & 0 & 0 & 0 \\\\\n",
       "0 & 0 & 0 & 0 & 0\n",
       "\\end{array}\\right)$$"
      ],
      "text/plain": [
       "[0 1 0 0 0]\n",
       "[0 0 1 1 0]\n",
       "[0 0 0 0 0]\n",
       "[0 0 0 0 0]\n",
       "[0 0 0 0 0]"
      ]
     },
     "metadata": {},
     "output_type": "display_data"
    },
    {
     "data": {
      "text/html": [
       "<html><script type=\"math/tex; mode=display\">\\newcommand{\\Bold}[1]{\\mathbf{#1}}\\left[\\left\\{d_{1} : 0, d_{2} : 0, d_{3} : 0, d_{4} : r_{289}, d_{5} : r_{290}, a_{12} : r_{291}, a_{13} : r_{292}, a_{14} : r_{293}, a_{15} : r_{294}, a_{23} : r_{295}, a_{24} : r_{296}, a_{25} : r_{297}, a_{34} : -\\frac{r_{289} x_{24}}{x_{23}}, a_{35} : r_{298}, a_{45} : -\\frac{r_{298} x_{23}}{x_{24}}\\right\\}, \\left\\{d_{1} : r_{299}, d_{2} : \\frac{r_{299}}{x_{12}}, d_{3} : \\frac{r_{299}}{x_{12} x_{23}}, d_{4} : r_{300}, d_{5} : r_{301}, a_{12} : r_{302}, a_{13} : r_{303}, a_{14} : r_{304}, a_{15} : r_{305}, a_{23} : \\frac{r_{302}}{x_{12}}, a_{24} : \\frac{r_{302}}{x_{12}}, a_{25} : 0, a_{34} : -\\frac{r_{300} x_{12} x_{24} - r_{299}}{x_{12} x_{23}}, a_{35} : r_{306}, a_{45} : -\\frac{r_{306} x_{23}}{x_{24}}\\right\\}\\right]</script></html>"
      ],
      "text/latex": [
       "$$\\newcommand{\\Bold}[1]{\\mathbf{#1}}\\left[\\left\\{d_{1} : 0, d_{2} : 0, d_{3} : 0, d_{4} : r_{289}, d_{5} : r_{290}, a_{12} : r_{291}, a_{13} : r_{292}, a_{14} : r_{293}, a_{15} : r_{294}, a_{23} : r_{295}, a_{24} : r_{296}, a_{25} : r_{297}, a_{34} : -\\frac{r_{289} x_{24}}{x_{23}}, a_{35} : r_{298}, a_{45} : -\\frac{r_{298} x_{23}}{x_{24}}\\right\\}, \\left\\{d_{1} : r_{299}, d_{2} : \\frac{r_{299}}{x_{12}}, d_{3} : \\frac{r_{299}}{x_{12} x_{23}}, d_{4} : r_{300}, d_{5} : r_{301}, a_{12} : r_{302}, a_{13} : r_{303}, a_{14} : r_{304}, a_{15} : r_{305}, a_{23} : \\frac{r_{302}}{x_{12}}, a_{24} : \\frac{r_{302}}{x_{12}}, a_{25} : 0, a_{34} : -\\frac{r_{300} x_{12} x_{24} - r_{299}}{x_{12} x_{23}}, a_{35} : r_{306}, a_{45} : -\\frac{r_{306} x_{23}}{x_{24}}\\right\\}\\right]$$"
      ],
      "text/plain": [
       "[{d1: 0,\n",
       "  d2: 0,\n",
       "  d3: 0,\n",
       "  d4: r289,\n",
       "  d5: r290,\n",
       "  a12: r291,\n",
       "  a13: r292,\n",
       "  a14: r293,\n",
       "  a15: r294,\n",
       "  a23: r295,\n",
       "  a24: r296,\n",
       "  a25: r297,\n",
       "  a34: -r289*x24/x23,\n",
       "  a35: r298,\n",
       "  a45: -r298*x23/x24},\n",
       " {d1: r299,\n",
       "  d2: r299/x12,\n",
       "  d3: r299/(x12*x23),\n",
       "  d4: r300,\n",
       "  d5: r301,\n",
       "  a12: r302,\n",
       "  a13: r303,\n",
       "  a14: r304,\n",
       "  a15: r305,\n",
       "  a23: r302/x12,\n",
       "  a24: r302/x12,\n",
       "  a25: 0,\n",
       "  a34: -(r300*x12*x24 - r299)/(x12*x23),\n",
       "  a35: r306,\n",
       "  a45: -r306*x23/x24}]"
      ]
     },
     "metadata": {},
     "output_type": "display_data"
    }
   ],
   "source": [
    "#x4\n",
    "reset()\n",
    "\n",
    "var('x12,x13,x14,x15,x23,x24,x25,x34,x35,x45')\n",
    "var('d1,d2,d3,d4,d5')\n",
    "var('a12,a13,a14,a15,a23,a24,a25,a34,a35,a45')\n",
    "\n",
    "load_attach_path('C:\\\\Users\\\\julia\\\\Documents\\\\unb\\\\doutorado\\\\pensar\\\\codigo_sage_v2\\\\maquina\\\\x4')\n",
    "load('out_#010000.sage')\n",
    "\n",
    "m=matrix(QQ, [[0, 1, 0, 0, 0],\n",
    "              [0, 0, 1, 1, 0],\n",
    "              [0, 0, 0, 0, 0],\n",
    "              [0, 0, 0, 0, 0],\n",
    "              [0, 0, 0, 0, 0]])\n",
    "        \n",
    "#entry of matrix: (i,j) line i collum j, means (i-1,j-1)\n",
    "sol=solve([ eq1==m[0,1],\teq2==m[0,2],\teq3==m[0,3],\teq4==m[0,4],\t\n",
    "                                            eq5==m[1,2],    eq6==m[1,3],\n",
    "                                                            eq7==m[1,4], eq8==m[2,4]],d1,d2,d3,d4,d5,a12,a13,a14,a15,a23,a24,a25,a34,a35,a45, solution_dict=True)\n",
    "\n",
    "show(m)\n",
    "show(sol)\n",
    "#latex(sol)"
   ]
  },
  {
   "cell_type": "code",
   "execution_count": 18,
   "metadata": {},
   "outputs": [
    {
     "data": {
      "text/html": [
       "<html><script type=\"math/tex; mode=display\">\\newcommand{\\Bold}[1]{\\mathbf{#1}}\\left(\\begin{array}{rrrrr}\n",
       "0 & 1 & 0 & 0 & 1 \\\\\n",
       "0 & 0 & 1 & 1 & 0 \\\\\n",
       "0 & 0 & 0 & 0 & 0 \\\\\n",
       "0 & 0 & 0 & 0 & 0 \\\\\n",
       "0 & 0 & 0 & 0 & 0\n",
       "\\end{array}\\right)</script></html>"
      ],
      "text/latex": [
       "$$\\newcommand{\\Bold}[1]{\\mathbf{#1}}\\left(\\begin{array}{rrrrr}\n",
       "0 & 1 & 0 & 0 & 1 \\\\\n",
       "0 & 0 & 1 & 1 & 0 \\\\\n",
       "0 & 0 & 0 & 0 & 0 \\\\\n",
       "0 & 0 & 0 & 0 & 0 \\\\\n",
       "0 & 0 & 0 & 0 & 0\n",
       "\\end{array}\\right)$$"
      ],
      "text/plain": [
       "[0 1 0 0 1]\n",
       "[0 0 1 1 0]\n",
       "[0 0 0 0 0]\n",
       "[0 0 0 0 0]\n",
       "[0 0 0 0 0]"
      ]
     },
     "metadata": {},
     "output_type": "display_data"
    },
    {
     "data": {
      "text/html": [
       "<html><script type=\"math/tex; mode=display\">\\newcommand{\\Bold}[1]{\\mathbf{#1}}\\left[\\left\\{d_{1} : 0, d_{2} : 0, d_{3} : 0, d_{4} : r_{307}, d_{5} : r_{308}, a_{12} : r_{309}, a_{13} : r_{310}, a_{14} : r_{311}, a_{15} : r_{312}, a_{23} : r_{313}, a_{24} : r_{314}, a_{25} : r_{315}, a_{34} : -\\frac{r_{307} x_{24}}{x_{23}}, a_{35} : r_{316}, a_{45} : -\\frac{r_{316} x_{23}}{x_{24}}\\right\\}, \\left\\{d_{1} : r_{317}, d_{2} : \\frac{r_{317}}{x_{12}}, d_{3} : \\frac{r_{317}}{x_{12} x_{23}}, d_{4} : r_{318}, d_{5} : r_{319}, a_{12} : r_{320}, a_{13} : r_{321}, a_{14} : r_{322}, a_{15} : r_{323}, a_{23} : \\frac{r_{320}}{x_{12}}, a_{24} : \\frac{r_{320}}{x_{12}}, a_{25} : -\\frac{r_{319} x_{15} - r_{317}}{x_{12}}, a_{34} : -\\frac{r_{318} x_{12} x_{24} - r_{317}}{x_{12} x_{23}}, a_{35} : r_{324}, a_{45} : -\\frac{r_{324} x_{23}}{x_{24}}\\right\\}\\right]</script></html>"
      ],
      "text/latex": [
       "$$\\newcommand{\\Bold}[1]{\\mathbf{#1}}\\left[\\left\\{d_{1} : 0, d_{2} : 0, d_{3} : 0, d_{4} : r_{307}, d_{5} : r_{308}, a_{12} : r_{309}, a_{13} : r_{310}, a_{14} : r_{311}, a_{15} : r_{312}, a_{23} : r_{313}, a_{24} : r_{314}, a_{25} : r_{315}, a_{34} : -\\frac{r_{307} x_{24}}{x_{23}}, a_{35} : r_{316}, a_{45} : -\\frac{r_{316} x_{23}}{x_{24}}\\right\\}, \\left\\{d_{1} : r_{317}, d_{2} : \\frac{r_{317}}{x_{12}}, d_{3} : \\frac{r_{317}}{x_{12} x_{23}}, d_{4} : r_{318}, d_{5} : r_{319}, a_{12} : r_{320}, a_{13} : r_{321}, a_{14} : r_{322}, a_{15} : r_{323}, a_{23} : \\frac{r_{320}}{x_{12}}, a_{24} : \\frac{r_{320}}{x_{12}}, a_{25} : -\\frac{r_{319} x_{15} - r_{317}}{x_{12}}, a_{34} : -\\frac{r_{318} x_{12} x_{24} - r_{317}}{x_{12} x_{23}}, a_{35} : r_{324}, a_{45} : -\\frac{r_{324} x_{23}}{x_{24}}\\right\\}\\right]$$"
      ],
      "text/plain": [
       "[{d1: 0,\n",
       "  d2: 0,\n",
       "  d3: 0,\n",
       "  d4: r307,\n",
       "  d5: r308,\n",
       "  a12: r309,\n",
       "  a13: r310,\n",
       "  a14: r311,\n",
       "  a15: r312,\n",
       "  a23: r313,\n",
       "  a24: r314,\n",
       "  a25: r315,\n",
       "  a34: -r307*x24/x23,\n",
       "  a35: r316,\n",
       "  a45: -r316*x23/x24},\n",
       " {d1: r317,\n",
       "  d2: r317/x12,\n",
       "  d3: r317/(x12*x23),\n",
       "  d4: r318,\n",
       "  d5: r319,\n",
       "  a12: r320,\n",
       "  a13: r321,\n",
       "  a14: r322,\n",
       "  a15: r323,\n",
       "  a23: r320/x12,\n",
       "  a24: r320/x12,\n",
       "  a25: -(r319*x15 - r317)/x12,\n",
       "  a34: -(r318*x12*x24 - r317)/(x12*x23),\n",
       "  a35: r324,\n",
       "  a45: -r324*x23/x24}]"
      ]
     },
     "metadata": {},
     "output_type": "display_data"
    }
   ],
   "source": [
    "#x4\n",
    "reset()\n",
    "\n",
    "var('x12,x13,x14,x15,x23,x24,x25,x34,x35,x45')\n",
    "var('d1,d2,d3,d4,d5')\n",
    "var('a12,a13,a14,a15,a23,a24,a25,a34,a35,a45')\n",
    "\n",
    "load_attach_path('C:\\\\Users\\\\julia\\\\Documents\\\\unb\\\\doutorado\\\\pensar\\\\codigo_sage_v2\\\\maquina\\\\x4')\n",
    "load('out_#010001.sage')\n",
    "\n",
    "m=matrix(QQ, [[0, 1, 0, 0, 1],\n",
    "              [0, 0, 1, 1, 0],\n",
    "              [0, 0, 0, 0, 0],\n",
    "              [0, 0, 0, 0, 0],\n",
    "              [0, 0, 0, 0, 0]])\n",
    "        \n",
    "#entry of matrix: (i,j) line i collum j, means (i-1,j-1)\n",
    "sol=solve([ eq1==m[0,1],\teq2==m[0,2],\teq3==m[0,3],\teq4==m[0,4],\t\n",
    "                                            eq5==m[1,2],    eq6==m[1,3],\n",
    "                                                            eq7==m[1,4], eq8==m[2,4]],d1,d2,d3,d4,d5,a12,a13,a14,a15,a23,a24,a25,a34,a35,a45, solution_dict=True)\n",
    "\n",
    "show(m)\n",
    "show(sol)\n",
    "#latex(sol)"
   ]
  },
  {
   "cell_type": "code",
   "execution_count": 19,
   "metadata": {},
   "outputs": [
    {
     "data": {
      "text/html": [
       "<html><script type=\"math/tex; mode=display\">\\newcommand{\\Bold}[1]{\\mathbf{#1}}\\left(\\begin{array}{rrrrr}\n",
       "0 & 1 & 0 & 1 & 0 \\\\\n",
       "0 & 0 & 1 & 1 & 0 \\\\\n",
       "0 & 0 & 0 & 0 & 0 \\\\\n",
       "0 & 0 & 0 & 0 & 0 \\\\\n",
       "0 & 0 & 0 & 0 & 0\n",
       "\\end{array}\\right)</script></html>"
      ],
      "text/latex": [
       "$$\\newcommand{\\Bold}[1]{\\mathbf{#1}}\\left(\\begin{array}{rrrrr}\n",
       "0 & 1 & 0 & 1 & 0 \\\\\n",
       "0 & 0 & 1 & 1 & 0 \\\\\n",
       "0 & 0 & 0 & 0 & 0 \\\\\n",
       "0 & 0 & 0 & 0 & 0 \\\\\n",
       "0 & 0 & 0 & 0 & 0\n",
       "\\end{array}\\right)$$"
      ],
      "text/plain": [
       "[0 1 0 1 0]\n",
       "[0 0 1 1 0]\n",
       "[0 0 0 0 0]\n",
       "[0 0 0 0 0]\n",
       "[0 0 0 0 0]"
      ]
     },
     "metadata": {},
     "output_type": "display_data"
    },
    {
     "data": {
      "text/html": [
       "<html><script type=\"math/tex; mode=display\">\\newcommand{\\Bold}[1]{\\mathbf{#1}}\\left[\\left\\{d_{1} : 0, d_{2} : 0, d_{3} : 0, d_{4} : r_{325}, d_{5} : r_{326}, a_{12} : r_{327}, a_{13} : r_{328}, a_{14} : r_{329}, a_{15} : r_{330}, a_{23} : r_{331}, a_{24} : r_{332}, a_{25} : r_{333}, a_{34} : -\\frac{r_{325} x_{24}}{x_{23}}, a_{35} : r_{334}, a_{45} : -\\frac{r_{334} x_{23}}{x_{24}}\\right\\}, \\left\\{d_{1} : r_{335}, d_{2} : \\frac{r_{335}}{x_{12}}, d_{3} : \\frac{r_{335}}{x_{12} x_{23}}, d_{4} : r_{336}, d_{5} : r_{337}, a_{12} : r_{338}, a_{13} : r_{339}, a_{14} : r_{340}, a_{15} : r_{341}, a_{23} : \\frac{r_{338}}{x_{12}}, a_{24} : -\\frac{r_{336} x_{14} - r_{335} - r_{338}}{x_{12}}, a_{25} : r_{342}, a_{34} : -\\frac{r_{336} x_{12} x_{24} - r_{335}}{x_{12} x_{23}}, a_{35} : \\frac{r_{342} x_{12} x_{24}}{x_{14} x_{23}}, a_{45} : -\\frac{r_{342} x_{12}}{x_{14}}\\right\\}\\right]</script></html>"
      ],
      "text/latex": [
       "$$\\newcommand{\\Bold}[1]{\\mathbf{#1}}\\left[\\left\\{d_{1} : 0, d_{2} : 0, d_{3} : 0, d_{4} : r_{325}, d_{5} : r_{326}, a_{12} : r_{327}, a_{13} : r_{328}, a_{14} : r_{329}, a_{15} : r_{330}, a_{23} : r_{331}, a_{24} : r_{332}, a_{25} : r_{333}, a_{34} : -\\frac{r_{325} x_{24}}{x_{23}}, a_{35} : r_{334}, a_{45} : -\\frac{r_{334} x_{23}}{x_{24}}\\right\\}, \\left\\{d_{1} : r_{335}, d_{2} : \\frac{r_{335}}{x_{12}}, d_{3} : \\frac{r_{335}}{x_{12} x_{23}}, d_{4} : r_{336}, d_{5} : r_{337}, a_{12} : r_{338}, a_{13} : r_{339}, a_{14} : r_{340}, a_{15} : r_{341}, a_{23} : \\frac{r_{338}}{x_{12}}, a_{24} : -\\frac{r_{336} x_{14} - r_{335} - r_{338}}{x_{12}}, a_{25} : r_{342}, a_{34} : -\\frac{r_{336} x_{12} x_{24} - r_{335}}{x_{12} x_{23}}, a_{35} : \\frac{r_{342} x_{12} x_{24}}{x_{14} x_{23}}, a_{45} : -\\frac{r_{342} x_{12}}{x_{14}}\\right\\}\\right]$$"
      ],
      "text/plain": [
       "[{d1: 0,\n",
       "  d2: 0,\n",
       "  d3: 0,\n",
       "  d4: r325,\n",
       "  d5: r326,\n",
       "  a12: r327,\n",
       "  a13: r328,\n",
       "  a14: r329,\n",
       "  a15: r330,\n",
       "  a23: r331,\n",
       "  a24: r332,\n",
       "  a25: r333,\n",
       "  a34: -r325*x24/x23,\n",
       "  a35: r334,\n",
       "  a45: -r334*x23/x24},\n",
       " {d1: r335,\n",
       "  d2: r335/x12,\n",
       "  d3: r335/(x12*x23),\n",
       "  d4: r336,\n",
       "  d5: r337,\n",
       "  a12: r338,\n",
       "  a13: r339,\n",
       "  a14: r340,\n",
       "  a15: r341,\n",
       "  a23: r338/x12,\n",
       "  a24: -(r336*x14 - r335 - r338)/x12,\n",
       "  a25: r342,\n",
       "  a34: -(r336*x12*x24 - r335)/(x12*x23),\n",
       "  a35: r342*x12*x24/(x14*x23),\n",
       "  a45: -r342*x12/x14}]"
      ]
     },
     "metadata": {},
     "output_type": "display_data"
    }
   ],
   "source": [
    "#x4\n",
    "reset()\n",
    "\n",
    "var('x12,x13,x14,x15,x23,x24,x25,x34,x35,x45')\n",
    "var('d1,d2,d3,d4,d5')\n",
    "var('a12,a13,a14,a15,a23,a24,a25,a34,a35,a45')\n",
    "\n",
    "load_attach_path('C:\\\\Users\\\\julia\\\\Documents\\\\unb\\\\doutorado\\\\pensar\\\\codigo_sage_v2\\\\maquina\\\\x4')\n",
    "load('out_#010010.sage')\n",
    "\n",
    "m=matrix(QQ, [[0, 1, 0, 1, 0],\n",
    "              [0, 0, 1, 1, 0],\n",
    "              [0, 0, 0, 0, 0],\n",
    "              [0, 0, 0, 0, 0],\n",
    "              [0, 0, 0, 0, 0]])\n",
    "        \n",
    "#entry of matrix: (i,j) line i collum j, means (i-1,j-1)\n",
    "sol=solve([ eq1==m[0,1],\teq2==m[0,2],\teq3==m[0,3],\teq4==m[0,4],\t\n",
    "                                            eq5==m[1,2],    eq6==m[1,3],\n",
    "                                                            eq7==m[1,4], eq8==m[2,4]],d1,d2,d3,d4,d5,a12,a13,a14,a15,a23,a24,a25,a34,a35,a45, solution_dict=True)\n",
    "\n",
    "show(m)\n",
    "show(sol)\n",
    "#latex(sol)"
   ]
  },
  {
   "cell_type": "code",
   "execution_count": 20,
   "metadata": {},
   "outputs": [
    {
     "data": {
      "text/html": [
       "<html><script type=\"math/tex; mode=display\">\\newcommand{\\Bold}[1]{\\mathbf{#1}}\\left(\\begin{array}{rrrrr}\n",
       "0 & 1 & 0 & 1 & 1 \\\\\n",
       "0 & 0 & 1 & 1 & 0 \\\\\n",
       "0 & 0 & 0 & 0 & 0 \\\\\n",
       "0 & 0 & 0 & 0 & 0 \\\\\n",
       "0 & 0 & 0 & 0 & 0\n",
       "\\end{array}\\right)</script></html>"
      ],
      "text/latex": [
       "$$\\newcommand{\\Bold}[1]{\\mathbf{#1}}\\left(\\begin{array}{rrrrr}\n",
       "0 & 1 & 0 & 1 & 1 \\\\\n",
       "0 & 0 & 1 & 1 & 0 \\\\\n",
       "0 & 0 & 0 & 0 & 0 \\\\\n",
       "0 & 0 & 0 & 0 & 0 \\\\\n",
       "0 & 0 & 0 & 0 & 0\n",
       "\\end{array}\\right)$$"
      ],
      "text/plain": [
       "[0 1 0 1 1]\n",
       "[0 0 1 1 0]\n",
       "[0 0 0 0 0]\n",
       "[0 0 0 0 0]\n",
       "[0 0 0 0 0]"
      ]
     },
     "metadata": {},
     "output_type": "display_data"
    },
    {
     "data": {
      "text/html": [
       "<html><script type=\"math/tex; mode=display\">\\newcommand{\\Bold}[1]{\\mathbf{#1}}\\left[\\left\\{d_{1} : 0, d_{2} : 0, d_{3} : 0, d_{4} : r_{343}, d_{5} : r_{344}, a_{12} : r_{345}, a_{13} : r_{346}, a_{14} : r_{347}, a_{15} : r_{348}, a_{23} : r_{349}, a_{24} : r_{350}, a_{25} : r_{351}, a_{34} : -\\frac{r_{343} x_{24}}{x_{23}}, a_{35} : r_{352}, a_{45} : -\\frac{r_{352} x_{23}}{x_{24}}\\right\\}, \\left\\{d_{1} : r_{353}, d_{2} : \\frac{r_{353}}{x_{12}}, d_{3} : \\frac{r_{353}}{x_{12} x_{23}}, d_{4} : r_{354}, d_{5} : r_{355}, a_{12} : r_{356}, a_{13} : r_{357}, a_{14} : r_{358}, a_{15} : r_{359}, a_{23} : \\frac{r_{356}}{x_{12}}, a_{24} : -\\frac{r_{354} x_{14} - r_{353} - r_{356}}{x_{12}}, a_{25} : r_{360}, a_{34} : -\\frac{r_{354} x_{12} x_{24} - r_{353}}{x_{12} x_{23}}, a_{35} : \\frac{{\\left(r_{360} x_{12} + r_{355} x_{15} - r_{353}\\right)} x_{24}}{x_{14} x_{23}}, a_{45} : -\\frac{r_{360} x_{12} + r_{355} x_{15} - r_{353}}{x_{14}}\\right\\}\\right]</script></html>"
      ],
      "text/latex": [
       "$$\\newcommand{\\Bold}[1]{\\mathbf{#1}}\\left[\\left\\{d_{1} : 0, d_{2} : 0, d_{3} : 0, d_{4} : r_{343}, d_{5} : r_{344}, a_{12} : r_{345}, a_{13} : r_{346}, a_{14} : r_{347}, a_{15} : r_{348}, a_{23} : r_{349}, a_{24} : r_{350}, a_{25} : r_{351}, a_{34} : -\\frac{r_{343} x_{24}}{x_{23}}, a_{35} : r_{352}, a_{45} : -\\frac{r_{352} x_{23}}{x_{24}}\\right\\}, \\left\\{d_{1} : r_{353}, d_{2} : \\frac{r_{353}}{x_{12}}, d_{3} : \\frac{r_{353}}{x_{12} x_{23}}, d_{4} : r_{354}, d_{5} : r_{355}, a_{12} : r_{356}, a_{13} : r_{357}, a_{14} : r_{358}, a_{15} : r_{359}, a_{23} : \\frac{r_{356}}{x_{12}}, a_{24} : -\\frac{r_{354} x_{14} - r_{353} - r_{356}}{x_{12}}, a_{25} : r_{360}, a_{34} : -\\frac{r_{354} x_{12} x_{24} - r_{353}}{x_{12} x_{23}}, a_{35} : \\frac{{\\left(r_{360} x_{12} + r_{355} x_{15} - r_{353}\\right)} x_{24}}{x_{14} x_{23}}, a_{45} : -\\frac{r_{360} x_{12} + r_{355} x_{15} - r_{353}}{x_{14}}\\right\\}\\right]$$"
      ],
      "text/plain": [
       "[{d1: 0,\n",
       "  d2: 0,\n",
       "  d3: 0,\n",
       "  d4: r343,\n",
       "  d5: r344,\n",
       "  a12: r345,\n",
       "  a13: r346,\n",
       "  a14: r347,\n",
       "  a15: r348,\n",
       "  a23: r349,\n",
       "  a24: r350,\n",
       "  a25: r351,\n",
       "  a34: -r343*x24/x23,\n",
       "  a35: r352,\n",
       "  a45: -r352*x23/x24},\n",
       " {d1: r353,\n",
       "  d2: r353/x12,\n",
       "  d3: r353/(x12*x23),\n",
       "  d4: r354,\n",
       "  d5: r355,\n",
       "  a12: r356,\n",
       "  a13: r357,\n",
       "  a14: r358,\n",
       "  a15: r359,\n",
       "  a23: r356/x12,\n",
       "  a24: -(r354*x14 - r353 - r356)/x12,\n",
       "  a25: r360,\n",
       "  a34: -(r354*x12*x24 - r353)/(x12*x23),\n",
       "  a35: (r360*x12 + r355*x15 - r353)*x24/(x14*x23),\n",
       "  a45: -(r360*x12 + r355*x15 - r353)/x14}]"
      ]
     },
     "metadata": {},
     "output_type": "display_data"
    }
   ],
   "source": [
    "#x4\n",
    "reset()\n",
    "\n",
    "var('x12,x13,x14,x15,x23,x24,x25,x34,x35,x45')\n",
    "var('d1,d2,d3,d4,d5')\n",
    "var('a12,a13,a14,a15,a23,a24,a25,a34,a35,a45')\n",
    "\n",
    "load_attach_path('C:\\\\Users\\\\julia\\\\Documents\\\\unb\\\\doutorado\\\\pensar\\\\codigo_sage_v2\\\\maquina\\\\x4')\n",
    "load('out_#010011.sage')\n",
    "\n",
    "m=matrix(QQ, [[0, 1, 0, 1, 1],\n",
    "              [0, 0, 1, 1, 0],\n",
    "              [0, 0, 0, 0, 0],\n",
    "              [0, 0, 0, 0, 0],\n",
    "              [0, 0, 0, 0, 0]])\n",
    "        \n",
    "#entry of matrix: (i,j) line i collum j, means (i-1,j-1)\n",
    "sol=solve([ eq1==m[0,1],\teq2==m[0,2],\teq3==m[0,3],\teq4==m[0,4],\t\n",
    "                                            eq5==m[1,2],    eq6==m[1,3],\n",
    "                                                            eq7==m[1,4], eq8==m[2,4]],d1,d2,d3,d4,d5,a12,a13,a14,a15,a23,a24,a25,a34,a35,a45, solution_dict=True)\n",
    "\n",
    "show(m)\n",
    "show(sol)\n",
    "#latex(sol)"
   ]
  },
  {
   "cell_type": "code",
   "execution_count": 21,
   "metadata": {},
   "outputs": [
    {
     "data": {
      "text/html": [
       "<html><script type=\"math/tex; mode=display\">\\newcommand{\\Bold}[1]{\\mathbf{#1}}\\left(\\begin{array}{rrrrr}\n",
       "0 & 1 & 1 & 0 & 0 \\\\\n",
       "0 & 0 & 1 & 1 & 0 \\\\\n",
       "0 & 0 & 0 & 0 & 0 \\\\\n",
       "0 & 0 & 0 & 0 & 0 \\\\\n",
       "0 & 0 & 0 & 0 & 0\n",
       "\\end{array}\\right)</script></html>"
      ],
      "text/latex": [
       "$$\\newcommand{\\Bold}[1]{\\mathbf{#1}}\\left(\\begin{array}{rrrrr}\n",
       "0 & 1 & 1 & 0 & 0 \\\\\n",
       "0 & 0 & 1 & 1 & 0 \\\\\n",
       "0 & 0 & 0 & 0 & 0 \\\\\n",
       "0 & 0 & 0 & 0 & 0 \\\\\n",
       "0 & 0 & 0 & 0 & 0\n",
       "\\end{array}\\right)$$"
      ],
      "text/plain": [
       "[0 1 1 0 0]\n",
       "[0 0 1 1 0]\n",
       "[0 0 0 0 0]\n",
       "[0 0 0 0 0]\n",
       "[0 0 0 0 0]"
      ]
     },
     "metadata": {},
     "output_type": "display_data"
    },
    {
     "data": {
      "text/html": [
       "<html><script type=\"math/tex; mode=display\">\\newcommand{\\Bold}[1]{\\mathbf{#1}}\\left[\\left\\{d_{1} : 0, d_{2} : 0, d_{3} : 0, d_{4} : r_{361}, d_{5} : r_{362}, a_{12} : r_{363}, a_{13} : r_{364}, a_{14} : r_{365}, a_{15} : r_{366}, a_{23} : r_{367}, a_{24} : r_{368}, a_{25} : r_{369}, a_{34} : -\\frac{r_{361} x_{24}}{x_{23}}, a_{35} : r_{370}, a_{45} : -\\frac{r_{370} x_{23}}{x_{24}}\\right\\}, \\left\\{d_{1} : r_{371}, d_{2} : \\frac{r_{371}}{x_{12}}, d_{3} : \\frac{r_{371}}{x_{12} x_{23}}, d_{4} : r_{372}, d_{5} : r_{373}, a_{12} : r_{374}, a_{13} : r_{375}, a_{14} : r_{376}, a_{15} : r_{377}, a_{23} : \\frac{{\\left(r_{371} + r_{374}\\right)} x_{12} x_{23} - r_{371} x_{13}}{x_{12}^{2} x_{23}}, a_{24} : \\frac{r_{372} x_{12} x_{13} x_{24} + r_{374} x_{12} x_{23} - r_{371} x_{13}}{x_{12}^{2} x_{23}}, a_{25} : r_{378}, a_{34} : -\\frac{r_{372} x_{12} x_{24} - r_{371}}{x_{12} x_{23}}, a_{35} : -\\frac{r_{378} x_{12}}{x_{13}}, a_{45} : \\frac{r_{378} x_{12} x_{23}}{x_{13} x_{24}}\\right\\}\\right]</script></html>"
      ],
      "text/latex": [
       "$$\\newcommand{\\Bold}[1]{\\mathbf{#1}}\\left[\\left\\{d_{1} : 0, d_{2} : 0, d_{3} : 0, d_{4} : r_{361}, d_{5} : r_{362}, a_{12} : r_{363}, a_{13} : r_{364}, a_{14} : r_{365}, a_{15} : r_{366}, a_{23} : r_{367}, a_{24} : r_{368}, a_{25} : r_{369}, a_{34} : -\\frac{r_{361} x_{24}}{x_{23}}, a_{35} : r_{370}, a_{45} : -\\frac{r_{370} x_{23}}{x_{24}}\\right\\}, \\left\\{d_{1} : r_{371}, d_{2} : \\frac{r_{371}}{x_{12}}, d_{3} : \\frac{r_{371}}{x_{12} x_{23}}, d_{4} : r_{372}, d_{5} : r_{373}, a_{12} : r_{374}, a_{13} : r_{375}, a_{14} : r_{376}, a_{15} : r_{377}, a_{23} : \\frac{{\\left(r_{371} + r_{374}\\right)} x_{12} x_{23} - r_{371} x_{13}}{x_{12}^{2} x_{23}}, a_{24} : \\frac{r_{372} x_{12} x_{13} x_{24} + r_{374} x_{12} x_{23} - r_{371} x_{13}}{x_{12}^{2} x_{23}}, a_{25} : r_{378}, a_{34} : -\\frac{r_{372} x_{12} x_{24} - r_{371}}{x_{12} x_{23}}, a_{35} : -\\frac{r_{378} x_{12}}{x_{13}}, a_{45} : \\frac{r_{378} x_{12} x_{23}}{x_{13} x_{24}}\\right\\}\\right]$$"
      ],
      "text/plain": [
       "[{d1: 0,\n",
       "  d2: 0,\n",
       "  d3: 0,\n",
       "  d4: r361,\n",
       "  d5: r362,\n",
       "  a12: r363,\n",
       "  a13: r364,\n",
       "  a14: r365,\n",
       "  a15: r366,\n",
       "  a23: r367,\n",
       "  a24: r368,\n",
       "  a25: r369,\n",
       "  a34: -r361*x24/x23,\n",
       "  a35: r370,\n",
       "  a45: -r370*x23/x24},\n",
       " {d1: r371,\n",
       "  d2: r371/x12,\n",
       "  d3: r371/(x12*x23),\n",
       "  d4: r372,\n",
       "  d5: r373,\n",
       "  a12: r374,\n",
       "  a13: r375,\n",
       "  a14: r376,\n",
       "  a15: r377,\n",
       "  a23: ((r371 + r374)*x12*x23 - r371*x13)/(x12^2*x23),\n",
       "  a24: (r372*x12*x13*x24 + r374*x12*x23 - r371*x13)/(x12^2*x23),\n",
       "  a25: r378,\n",
       "  a34: -(r372*x12*x24 - r371)/(x12*x23),\n",
       "  a35: -r378*x12/x13,\n",
       "  a45: r378*x12*x23/(x13*x24)}]"
      ]
     },
     "metadata": {},
     "output_type": "display_data"
    }
   ],
   "source": [
    "#x4\n",
    "reset()\n",
    "\n",
    "var('x12,x13,x14,x15,x23,x24,x25,x34,x35,x45')\n",
    "var('d1,d2,d3,d4,d5')\n",
    "var('a12,a13,a14,a15,a23,a24,a25,a34,a35,a45')\n",
    "\n",
    "load_attach_path('C:\\\\Users\\\\julia\\\\Documents\\\\unb\\\\doutorado\\\\pensar\\\\codigo_sage_v2\\\\maquina\\\\x4')\n",
    "load('out_#010100.sage')\n",
    "\n",
    "m=matrix(QQ, [[0, 1, 1, 0, 0],\n",
    "              [0, 0, 1, 1, 0],\n",
    "              [0, 0, 0, 0, 0],\n",
    "              [0, 0, 0, 0, 0],\n",
    "              [0, 0, 0, 0, 0]])\n",
    "        \n",
    "#entry of matrix: (i,j) line i collum j, means (i-1,j-1)\n",
    "sol=solve([ eq1==m[0,1],\teq2==m[0,2],\teq3==m[0,3],\teq4==m[0,4],\t\n",
    "                                            eq5==m[1,2],    eq6==m[1,3],\n",
    "                                                            eq7==m[1,4], eq8==m[2,4]],d1,d2,d3,d4,d5,a12,a13,a14,a15,a23,a24,a25,a34,a35,a45, solution_dict=True)\n",
    "\n",
    "show(m)\n",
    "show(sol)\n",
    "#latex(sol)"
   ]
  },
  {
   "cell_type": "code",
   "execution_count": 22,
   "metadata": {},
   "outputs": [
    {
     "data": {
      "text/html": [
       "<html><script type=\"math/tex; mode=display\">\\newcommand{\\Bold}[1]{\\mathbf{#1}}\\left(\\begin{array}{rrrrr}\n",
       "0 & 1 & 1 & 0 & 1 \\\\\n",
       "0 & 0 & 1 & 1 & 0 \\\\\n",
       "0 & 0 & 0 & 0 & 0 \\\\\n",
       "0 & 0 & 0 & 0 & 0 \\\\\n",
       "0 & 0 & 0 & 0 & 0\n",
       "\\end{array}\\right)</script></html>"
      ],
      "text/latex": [
       "$$\\newcommand{\\Bold}[1]{\\mathbf{#1}}\\left(\\begin{array}{rrrrr}\n",
       "0 & 1 & 1 & 0 & 1 \\\\\n",
       "0 & 0 & 1 & 1 & 0 \\\\\n",
       "0 & 0 & 0 & 0 & 0 \\\\\n",
       "0 & 0 & 0 & 0 & 0 \\\\\n",
       "0 & 0 & 0 & 0 & 0\n",
       "\\end{array}\\right)$$"
      ],
      "text/plain": [
       "[0 1 1 0 1]\n",
       "[0 0 1 1 0]\n",
       "[0 0 0 0 0]\n",
       "[0 0 0 0 0]\n",
       "[0 0 0 0 0]"
      ]
     },
     "metadata": {},
     "output_type": "display_data"
    },
    {
     "data": {
      "text/html": [
       "<html><script type=\"math/tex; mode=display\">\\newcommand{\\Bold}[1]{\\mathbf{#1}}\\left[\\left\\{d_{1} : 0, d_{2} : 0, d_{3} : 0, d_{4} : r_{379}, d_{5} : r_{380}, a_{12} : r_{381}, a_{13} : r_{382}, a_{14} : r_{383}, a_{15} : r_{384}, a_{23} : r_{385}, a_{24} : r_{386}, a_{25} : r_{387}, a_{34} : -\\frac{r_{379} x_{24}}{x_{23}}, a_{35} : r_{388}, a_{45} : -\\frac{r_{388} x_{23}}{x_{24}}\\right\\}, \\left\\{d_{1} : r_{389}, d_{2} : \\frac{r_{389}}{x_{12}}, d_{3} : \\frac{r_{389}}{x_{12} x_{23}}, d_{4} : r_{390}, d_{5} : r_{391}, a_{12} : r_{392}, a_{13} : r_{393}, a_{14} : r_{394}, a_{15} : r_{395}, a_{23} : \\frac{{\\left(r_{389} + r_{392}\\right)} x_{12} x_{23} - r_{389} x_{13}}{x_{12}^{2} x_{23}}, a_{24} : \\frac{r_{390} x_{12} x_{13} x_{24} + r_{392} x_{12} x_{23} - r_{389} x_{13}}{x_{12}^{2} x_{23}}, a_{25} : r_{396}, a_{34} : -\\frac{r_{390} x_{12} x_{24} - r_{389}}{x_{12} x_{23}}, a_{35} : -\\frac{r_{396} x_{12} + r_{391} x_{15} - r_{389}}{x_{13}}, a_{45} : \\frac{{\\left(r_{396} x_{12} + r_{391} x_{15} - r_{389}\\right)} x_{23}}{x_{13} x_{24}}\\right\\}\\right]</script></html>"
      ],
      "text/latex": [
       "$$\\newcommand{\\Bold}[1]{\\mathbf{#1}}\\left[\\left\\{d_{1} : 0, d_{2} : 0, d_{3} : 0, d_{4} : r_{379}, d_{5} : r_{380}, a_{12} : r_{381}, a_{13} : r_{382}, a_{14} : r_{383}, a_{15} : r_{384}, a_{23} : r_{385}, a_{24} : r_{386}, a_{25} : r_{387}, a_{34} : -\\frac{r_{379} x_{24}}{x_{23}}, a_{35} : r_{388}, a_{45} : -\\frac{r_{388} x_{23}}{x_{24}}\\right\\}, \\left\\{d_{1} : r_{389}, d_{2} : \\frac{r_{389}}{x_{12}}, d_{3} : \\frac{r_{389}}{x_{12} x_{23}}, d_{4} : r_{390}, d_{5} : r_{391}, a_{12} : r_{392}, a_{13} : r_{393}, a_{14} : r_{394}, a_{15} : r_{395}, a_{23} : \\frac{{\\left(r_{389} + r_{392}\\right)} x_{12} x_{23} - r_{389} x_{13}}{x_{12}^{2} x_{23}}, a_{24} : \\frac{r_{390} x_{12} x_{13} x_{24} + r_{392} x_{12} x_{23} - r_{389} x_{13}}{x_{12}^{2} x_{23}}, a_{25} : r_{396}, a_{34} : -\\frac{r_{390} x_{12} x_{24} - r_{389}}{x_{12} x_{23}}, a_{35} : -\\frac{r_{396} x_{12} + r_{391} x_{15} - r_{389}}{x_{13}}, a_{45} : \\frac{{\\left(r_{396} x_{12} + r_{391} x_{15} - r_{389}\\right)} x_{23}}{x_{13} x_{24}}\\right\\}\\right]$$"
      ],
      "text/plain": [
       "[{d1: 0,\n",
       "  d2: 0,\n",
       "  d3: 0,\n",
       "  d4: r379,\n",
       "  d5: r380,\n",
       "  a12: r381,\n",
       "  a13: r382,\n",
       "  a14: r383,\n",
       "  a15: r384,\n",
       "  a23: r385,\n",
       "  a24: r386,\n",
       "  a25: r387,\n",
       "  a34: -r379*x24/x23,\n",
       "  a35: r388,\n",
       "  a45: -r388*x23/x24},\n",
       " {d1: r389,\n",
       "  d2: r389/x12,\n",
       "  d3: r389/(x12*x23),\n",
       "  d4: r390,\n",
       "  d5: r391,\n",
       "  a12: r392,\n",
       "  a13: r393,\n",
       "  a14: r394,\n",
       "  a15: r395,\n",
       "  a23: ((r389 + r392)*x12*x23 - r389*x13)/(x12^2*x23),\n",
       "  a24: (r390*x12*x13*x24 + r392*x12*x23 - r389*x13)/(x12^2*x23),\n",
       "  a25: r396,\n",
       "  a34: -(r390*x12*x24 - r389)/(x12*x23),\n",
       "  a35: -(r396*x12 + r391*x15 - r389)/x13,\n",
       "  a45: (r396*x12 + r391*x15 - r389)*x23/(x13*x24)}]"
      ]
     },
     "metadata": {},
     "output_type": "display_data"
    }
   ],
   "source": [
    "#x4\n",
    "reset()\n",
    "\n",
    "var('x12,x13,x14,x15,x23,x24,x25,x34,x35,x45')\n",
    "var('d1,d2,d3,d4,d5')\n",
    "var('a12,a13,a14,a15,a23,a24,a25,a34,a35,a45')\n",
    "\n",
    "load_attach_path('C:\\\\Users\\\\julia\\\\Documents\\\\unb\\\\doutorado\\\\pensar\\\\codigo_sage_v2\\\\maquina\\\\x4')\n",
    "load('out_#010101.sage')\n",
    "\n",
    "m=matrix(QQ, [[0, 1, 1, 0, 1],\n",
    "              [0, 0, 1, 1, 0],\n",
    "              [0, 0, 0, 0, 0],\n",
    "              [0, 0, 0, 0, 0],\n",
    "              [0, 0, 0, 0, 0]])\n",
    "        \n",
    "#entry of matrix: (i,j) line i collum j, means (i-1,j-1)\n",
    "sol=solve([ eq1==m[0,1],\teq2==m[0,2],\teq3==m[0,3],\teq4==m[0,4],\t\n",
    "                                            eq5==m[1,2],    eq6==m[1,3],\n",
    "                                                            eq7==m[1,4], eq8==m[2,4]],d1,d2,d3,d4,d5,a12,a13,a14,a15,a23,a24,a25,a34,a35,a45, solution_dict=True)\n",
    "\n",
    "show(m)\n",
    "show(sol)\n",
    "#latex(sol)"
   ]
  },
  {
   "cell_type": "code",
   "execution_count": 66,
   "metadata": {},
   "outputs": [
    {
     "data": {
      "text/html": [
       "<html><script type=\"math/tex; mode=display\">\\newcommand{\\Bold}[1]{\\mathbf{#1}}\\left(\\begin{array}{rrrrr}\n",
       "0 & 1 & 0 & 0 & 0 \\\\\n",
       "0 & 0 & 1 & 0 & 0 \\\\\n",
       "0 & 0 & 0 & 0 & 0 \\\\\n",
       "0 & 0 & 0 & 0 & 0 \\\\\n",
       "0 & 0 & 0 & 0 & 0\n",
       "\\end{array}\\right)</script></html>"
      ],
      "text/latex": [
       "$$\\newcommand{\\Bold}[1]{\\mathbf{#1}}\\left(\\begin{array}{rrrrr}\n",
       "0 & 1 & 0 & 0 & 0 \\\\\n",
       "0 & 0 & 1 & 0 & 0 \\\\\n",
       "0 & 0 & 0 & 0 & 0 \\\\\n",
       "0 & 0 & 0 & 0 & 0 \\\\\n",
       "0 & 0 & 0 & 0 & 0\n",
       "\\end{array}\\right)$$"
      ],
      "text/plain": [
       "[0 1 0 0 0]\n",
       "[0 0 1 0 0]\n",
       "[0 0 0 0 0]\n",
       "[0 0 0 0 0]\n",
       "[0 0 0 0 0]"
      ]
     },
     "metadata": {},
     "output_type": "display_data"
    },
    {
     "data": {
      "text/html": [
       "<html><script type=\"math/tex; mode=display\">\\newcommand{\\Bold}[1]{\\mathbf{#1}}\\left[\\left\\{d_{1} : 0, d_{2} : 0, d_{3} : 0, d_{4} : r_{1122}, d_{5} : r_{1123}, a_{12} : r_{1124}, a_{13} : r_{1125}, a_{14} : r_{1126}, a_{15} : r_{1127}, a_{23} : r_{1128}, a_{24} : r_{1129}, a_{25} : r_{1130}, a_{34} : -\\frac{r_{1122} x_{24}}{x_{23}}, a_{35} : r_{1131}, a_{45} : -\\frac{r_{1131} x_{23}}{x_{24}}\\right\\}, \\left\\{d_{1} : r_{1132}, d_{2} : \\frac{r_{1132}}{x_{12}}, d_{3} : \\frac{r_{1132}}{x_{12} x_{23}}, d_{4} : r_{1133}, d_{5} : r_{1134}, a_{12} : r_{1135}, a_{13} : r_{1136}, a_{14} : r_{1137}, a_{15} : r_{1138}, a_{23} : \\frac{r_{1135} x_{12} x_{23} - r_{1132} x_{13}}{x_{12}^{2} x_{23}}, a_{24} : -\\frac{r_{1133} x_{14} x_{23} - r_{1133} x_{13} x_{24}}{x_{12} x_{23}}, a_{25} : r_{1139}, a_{34} : -\\frac{r_{1133} x_{24}}{x_{23}}, a_{35} : \\frac{r_{1139} x_{12} x_{24}}{x_{14} x_{23} - x_{13} x_{24}}, a_{45} : -\\frac{r_{1139} x_{12} x_{23}}{x_{14} x_{23} - x_{13} x_{24}}\\right\\}\\right]</script></html>"
      ],
      "text/latex": [
       "$$\\newcommand{\\Bold}[1]{\\mathbf{#1}}\\left[\\left\\{d_{1} : 0, d_{2} : 0, d_{3} : 0, d_{4} : r_{1122}, d_{5} : r_{1123}, a_{12} : r_{1124}, a_{13} : r_{1125}, a_{14} : r_{1126}, a_{15} : r_{1127}, a_{23} : r_{1128}, a_{24} : r_{1129}, a_{25} : r_{1130}, a_{34} : -\\frac{r_{1122} x_{24}}{x_{23}}, a_{35} : r_{1131}, a_{45} : -\\frac{r_{1131} x_{23}}{x_{24}}\\right\\}, \\left\\{d_{1} : r_{1132}, d_{2} : \\frac{r_{1132}}{x_{12}}, d_{3} : \\frac{r_{1132}}{x_{12} x_{23}}, d_{4} : r_{1133}, d_{5} : r_{1134}, a_{12} : r_{1135}, a_{13} : r_{1136}, a_{14} : r_{1137}, a_{15} : r_{1138}, a_{23} : \\frac{r_{1135} x_{12} x_{23} - r_{1132} x_{13}}{x_{12}^{2} x_{23}}, a_{24} : -\\frac{r_{1133} x_{14} x_{23} - r_{1133} x_{13} x_{24}}{x_{12} x_{23}}, a_{25} : r_{1139}, a_{34} : -\\frac{r_{1133} x_{24}}{x_{23}}, a_{35} : \\frac{r_{1139} x_{12} x_{24}}{x_{14} x_{23} - x_{13} x_{24}}, a_{45} : -\\frac{r_{1139} x_{12} x_{23}}{x_{14} x_{23} - x_{13} x_{24}}\\right\\}\\right]$$"
      ],
      "text/plain": [
       "[{d1: 0,\n",
       "  d2: 0,\n",
       "  d3: 0,\n",
       "  d4: r1122,\n",
       "  d5: r1123,\n",
       "  a12: r1124,\n",
       "  a13: r1125,\n",
       "  a14: r1126,\n",
       "  a15: r1127,\n",
       "  a23: r1128,\n",
       "  a24: r1129,\n",
       "  a25: r1130,\n",
       "  a34: -r1122*x24/x23,\n",
       "  a35: r1131,\n",
       "  a45: -r1131*x23/x24},\n",
       " {d1: r1132,\n",
       "  d2: r1132/x12,\n",
       "  d3: r1132/(x12*x23),\n",
       "  d4: r1133,\n",
       "  d5: r1134,\n",
       "  a12: r1135,\n",
       "  a13: r1136,\n",
       "  a14: r1137,\n",
       "  a15: r1138,\n",
       "  a23: (r1135*x12*x23 - r1132*x13)/(x12^2*x23),\n",
       "  a24: -(r1133*x14*x23 - r1133*x13*x24)/(x12*x23),\n",
       "  a25: r1139,\n",
       "  a34: -r1133*x24/x23,\n",
       "  a35: r1139*x12*x24/(x14*x23 - x13*x24),\n",
       "  a45: -r1139*x12*x23/(x14*x23 - x13*x24)}]"
      ]
     },
     "metadata": {},
     "output_type": "display_data"
    }
   ],
   "source": [
    "#x4\n",
    "#-------------------------------\n",
    "#x14\\neq x13*x24/x233\n",
    "#-------------------------------\n",
    "reset()\n",
    "\n",
    "var('x12,x13,x14,x15,x23,x24,x25,x34,x35,x45')\n",
    "var('d1,d2,d3,d4,d5')\n",
    "var('a12,a13,a14,a15,a23,a24,a25,a34,a35,a45')\n",
    "\n",
    "load_attach_path('C:\\\\Users\\\\julia\\\\Documents\\\\unb\\\\doutorado\\\\pensar\\\\codigo_sage_v2\\\\maquina\\\\x4')\n",
    "load('out_#010110.sage')\n",
    "\n",
    "m=matrix(QQ, [[0, 1, 0, 0, 0],\n",
    "              [0, 0, 1, 0, 0],\n",
    "              [0, 0, 0, 0, 0],\n",
    "              [0, 0, 0, 0, 0],\n",
    "              [0, 0, 0, 0, 0]])\n",
    "        \n",
    "#entry of matrix: (i,j) line i collum j, means (i-1,j-1)\n",
    "sol=solve([ eq1==m[0,1],\teq2==m[0,2],\teq3==m[0,3],\teq4==m[0,4],\t\n",
    "                                            eq5==m[1,2],    eq6==m[1,3],\n",
    "                                                            eq7==m[1,4], eq8==m[2,4]],d1,d2,d3,d4,d5,a12,a13,a14,a15,a23,a24,a25,a34,a35,a45, solution_dict=True)\n",
    "\n",
    "show(m)\n",
    "show(sol)\n",
    "#latex(sol)"
   ]
  },
  {
   "cell_type": "code",
   "execution_count": 80,
   "metadata": {},
   "outputs": [
    {
     "data": {
      "text/html": [
       "<html><script type=\"math/tex; mode=display\">\\newcommand{\\Bold}[1]{\\mathbf{#1}}\\left(\\begin{array}{rrrrr}\n",
       "0 & 1 & 0 & 0 & 0 \\\\\n",
       "0 & 0 & 1 & 0 & 0 \\\\\n",
       "0 & 0 & 0 & 0 & 0 \\\\\n",
       "0 & 0 & 0 & 0 & 0 \\\\\n",
       "0 & 0 & 0 & 0 & 0\n",
       "\\end{array}\\right)</script></html>"
      ],
      "text/latex": [
       "$$\\newcommand{\\Bold}[1]{\\mathbf{#1}}\\left(\\begin{array}{rrrrr}\n",
       "0 & 1 & 0 & 0 & 0 \\\\\n",
       "0 & 0 & 1 & 0 & 0 \\\\\n",
       "0 & 0 & 0 & 0 & 0 \\\\\n",
       "0 & 0 & 0 & 0 & 0 \\\\\n",
       "0 & 0 & 0 & 0 & 0\n",
       "\\end{array}\\right)$$"
      ],
      "text/plain": [
       "[0 1 0 0 0]\n",
       "[0 0 1 0 0]\n",
       "[0 0 0 0 0]\n",
       "[0 0 0 0 0]\n",
       "[0 0 0 0 0]"
      ]
     },
     "metadata": {},
     "output_type": "display_data"
    },
    {
     "data": {
      "text/html": [
       "<html><script type=\"math/tex; mode=display\">\\newcommand{\\Bold}[1]{\\mathbf{#1}}\\left[\\left\\{d_{1} : 0, d_{2} : 0, d_{3} : 0, d_{4} : r_{1344}, d_{5} : r_{1345}, a_{12} : r_{1346}, a_{13} : r_{1347}, a_{14} : r_{1348}, a_{15} : r_{1349}, a_{23} : r_{1350}, a_{24} : r_{1351}, a_{25} : r_{1352}, a_{34} : -\\frac{r_{1344} x_{24}}{x_{23}}, a_{35} : r_{1353}, a_{45} : -\\frac{r_{1353} x_{23}}{x_{24}}\\right\\}, \\left\\{d_{1} : r_{1354}, d_{2} : \\frac{r_{1354}}{x_{12}}, d_{3} : \\frac{r_{1354}}{x_{12} x_{23}}, d_{4} : r_{1355}, d_{5} : r_{1356}, a_{12} : r_{1357}, a_{13} : r_{1358}, a_{14} : r_{1359}, a_{15} : r_{1360}, a_{23} : \\frac{r_{1357} x_{12} x_{23} - r_{1354} x_{13}}{x_{12}^{2} x_{23}}, a_{24} : 0, a_{25} : 0, a_{34} : -\\frac{r_{1355} x_{24}}{x_{23}}, a_{35} : r_{1361}, a_{45} : -\\frac{r_{1361} x_{23}}{x_{24}}\\right\\}\\right]</script></html>"
      ],
      "text/latex": [
       "$$\\newcommand{\\Bold}[1]{\\mathbf{#1}}\\left[\\left\\{d_{1} : 0, d_{2} : 0, d_{3} : 0, d_{4} : r_{1344}, d_{5} : r_{1345}, a_{12} : r_{1346}, a_{13} : r_{1347}, a_{14} : r_{1348}, a_{15} : r_{1349}, a_{23} : r_{1350}, a_{24} : r_{1351}, a_{25} : r_{1352}, a_{34} : -\\frac{r_{1344} x_{24}}{x_{23}}, a_{35} : r_{1353}, a_{45} : -\\frac{r_{1353} x_{23}}{x_{24}}\\right\\}, \\left\\{d_{1} : r_{1354}, d_{2} : \\frac{r_{1354}}{x_{12}}, d_{3} : \\frac{r_{1354}}{x_{12} x_{23}}, d_{4} : r_{1355}, d_{5} : r_{1356}, a_{12} : r_{1357}, a_{13} : r_{1358}, a_{14} : r_{1359}, a_{15} : r_{1360}, a_{23} : \\frac{r_{1357} x_{12} x_{23} - r_{1354} x_{13}}{x_{12}^{2} x_{23}}, a_{24} : 0, a_{25} : 0, a_{34} : -\\frac{r_{1355} x_{24}}{x_{23}}, a_{35} : r_{1361}, a_{45} : -\\frac{r_{1361} x_{23}}{x_{24}}\\right\\}\\right]$$"
      ],
      "text/plain": [
       "[{d1: 0,\n",
       "  d2: 0,\n",
       "  d3: 0,\n",
       "  d4: r1344,\n",
       "  d5: r1345,\n",
       "  a12: r1346,\n",
       "  a13: r1347,\n",
       "  a14: r1348,\n",
       "  a15: r1349,\n",
       "  a23: r1350,\n",
       "  a24: r1351,\n",
       "  a25: r1352,\n",
       "  a34: -r1344*x24/x23,\n",
       "  a35: r1353,\n",
       "  a45: -r1353*x23/x24},\n",
       " {d1: r1354,\n",
       "  d2: r1354/x12,\n",
       "  d3: r1354/(x12*x23),\n",
       "  d4: r1355,\n",
       "  d5: r1356,\n",
       "  a12: r1357,\n",
       "  a13: r1358,\n",
       "  a14: r1359,\n",
       "  a15: r1360,\n",
       "  a23: (r1357*x12*x23 - r1354*x13)/(x12^2*x23),\n",
       "  a24: 0,\n",
       "  a25: 0,\n",
       "  a34: -r1355*x24/x23,\n",
       "  a35: r1361,\n",
       "  a45: -r1361*x23/x24}]"
      ]
     },
     "metadata": {},
     "output_type": "display_data"
    }
   ],
   "source": [
    "#x4\n",
    "#-------------------------------\n",
    "#x14= x13*x24/x233\n",
    "#-------------------------------\n",
    "reset()\n",
    "\n",
    "var('x12,x13,x14,x15,x23,x24,x25,x34,x35,x45')\n",
    "var('d1,d2,d3,d4,d5')\n",
    "var('a12,a13,a14,a15,a23,a24,a25,a34,a35,a45')\n",
    "\n",
    "m=matrix(QQ, [[0, 1, 0, 0, 0],\n",
    "              [0, 0, 1, 0, 0],\n",
    "              [0, 0, 0, 0, 0],\n",
    "              [0, 0, 0, 0, 0],\n",
    "              [0, 0, 0, 0, 0]])\n",
    "\n",
    "#010110\n",
    "eq1=(d2*x12)/(d1) \n",
    "eq2=(a23*d2*x12+d2*d3*x13-a12*d3*x23)/(d1*d2) \n",
    "eq3=(a24*d2*x12+a34*d2*x13+d2*d4*((x13*x24)/x23)-a12*a34*x23-a12*d4*x24)/(d1*d2) \n",
    "eq4=(a25*d2*d3*x12+a35*d2*d3*x13+a45*d2*d3*((x13*x24)/x23)+d2*d3*d5*0-a12*a35*d3*x23-a12*a45*d3*x24-a12*d3*d5*0+a12*a23*d5*0-a13*d2*d5*0)/(d1*d2*d3) \n",
    "eq5=(d3*x23)/(d2) \n",
    "eq6=(a34*x23+d4*x24)/(d2) \n",
    "eq7=(a35*d3*x23+a45*d3*x24+d3*d5*0-a23*d5*0)/(d2*d3) \n",
    "eq8=(d5*0)/(d3) \n",
    "\n",
    "#entry of matrix: (i,j) line i collum j, means (i-1,j-1)\n",
    "sol=solve([ eq1==m[0,1],\teq2==m[0,2],\teq3==m[0,3],\teq4==m[0,4],\t\n",
    "                                            eq5==m[1,2],    eq6==m[1,3],\n",
    "                                                            eq7==m[1,4], eq8==m[2,4]],d1,d2,d3,d4,d5,a12,a13,a14,a15,a23,a24,a25,a34,a35,a45, solution_dict=True)\n",
    "\n",
    "show(m)\n",
    "show(sol)\n",
    "#latex(sol)"
   ]
  },
  {
   "cell_type": "code",
   "execution_count": 24,
   "metadata": {},
   "outputs": [
    {
     "data": {
      "text/html": [
       "<html><script type=\"math/tex; mode=display\">\\newcommand{\\Bold}[1]{\\mathbf{#1}}\\left(\\begin{array}{rrrrr}\n",
       "0 & 1 & 1 & 1 & 1 \\\\\n",
       "0 & 0 & 1 & 1 & 0 \\\\\n",
       "0 & 0 & 0 & 0 & 0 \\\\\n",
       "0 & 0 & 0 & 0 & 0 \\\\\n",
       "0 & 0 & 0 & 0 & 0\n",
       "\\end{array}\\right)</script></html>"
      ],
      "text/latex": [
       "$$\\newcommand{\\Bold}[1]{\\mathbf{#1}}\\left(\\begin{array}{rrrrr}\n",
       "0 & 1 & 1 & 1 & 1 \\\\\n",
       "0 & 0 & 1 & 1 & 0 \\\\\n",
       "0 & 0 & 0 & 0 & 0 \\\\\n",
       "0 & 0 & 0 & 0 & 0 \\\\\n",
       "0 & 0 & 0 & 0 & 0\n",
       "\\end{array}\\right)$$"
      ],
      "text/plain": [
       "[0 1 1 1 1]\n",
       "[0 0 1 1 0]\n",
       "[0 0 0 0 0]\n",
       "[0 0 0 0 0]\n",
       "[0 0 0 0 0]"
      ]
     },
     "metadata": {},
     "output_type": "display_data"
    },
    {
     "data": {
      "text/html": [
       "<html><script type=\"math/tex; mode=display\">\\newcommand{\\Bold}[1]{\\mathbf{#1}}\\left[\\left\\{d_{1} : 0, d_{2} : 0, d_{3} : 0, d_{4} : r_{415}, d_{5} : r_{416}, a_{12} : r_{417}, a_{13} : r_{418}, a_{14} : r_{419}, a_{15} : r_{420}, a_{23} : r_{421}, a_{24} : r_{422}, a_{25} : r_{423}, a_{34} : -\\frac{r_{415} x_{24}}{x_{23}}, a_{35} : r_{424}, a_{45} : -\\frac{r_{424} x_{23}}{x_{24}}\\right\\}, \\left\\{d_{1} : r_{425}, d_{2} : \\frac{r_{425}}{x_{12}}, d_{3} : \\frac{r_{425}}{x_{12} x_{23}}, d_{4} : r_{426}, d_{5} : r_{427}, a_{12} : r_{428}, a_{13} : r_{429}, a_{14} : r_{430}, a_{15} : r_{431}, a_{23} : \\frac{{\\left(r_{425} + r_{428}\\right)} x_{12} x_{23} - r_{425} x_{13}}{x_{12}^{2} x_{23}}, a_{24} : \\frac{r_{426} x_{12} x_{13} x_{24} - r_{425} x_{13} - {\\left(r_{426} x_{12} x_{14} - {\\left(r_{425} + r_{428}\\right)} x_{12}\\right)} x_{23}}{x_{12}^{2} x_{23}}, a_{25} : r_{432}, a_{34} : -\\frac{r_{426} x_{12} x_{24} - r_{425}}{x_{12} x_{23}}, a_{35} : \\frac{{\\left(r_{432} x_{12} + r_{427} x_{15} - r_{425}\\right)} x_{24}}{x_{14} x_{23} - x_{13} x_{24}}, a_{45} : -\\frac{{\\left(r_{432} x_{12} + r_{427} x_{15} - r_{425}\\right)} x_{23}}{x_{14} x_{23} - x_{13} x_{24}}\\right\\}\\right]</script></html>"
      ],
      "text/latex": [
       "$$\\newcommand{\\Bold}[1]{\\mathbf{#1}}\\left[\\left\\{d_{1} : 0, d_{2} : 0, d_{3} : 0, d_{4} : r_{415}, d_{5} : r_{416}, a_{12} : r_{417}, a_{13} : r_{418}, a_{14} : r_{419}, a_{15} : r_{420}, a_{23} : r_{421}, a_{24} : r_{422}, a_{25} : r_{423}, a_{34} : -\\frac{r_{415} x_{24}}{x_{23}}, a_{35} : r_{424}, a_{45} : -\\frac{r_{424} x_{23}}{x_{24}}\\right\\}, \\left\\{d_{1} : r_{425}, d_{2} : \\frac{r_{425}}{x_{12}}, d_{3} : \\frac{r_{425}}{x_{12} x_{23}}, d_{4} : r_{426}, d_{5} : r_{427}, a_{12} : r_{428}, a_{13} : r_{429}, a_{14} : r_{430}, a_{15} : r_{431}, a_{23} : \\frac{{\\left(r_{425} + r_{428}\\right)} x_{12} x_{23} - r_{425} x_{13}}{x_{12}^{2} x_{23}}, a_{24} : \\frac{r_{426} x_{12} x_{13} x_{24} - r_{425} x_{13} - {\\left(r_{426} x_{12} x_{14} - {\\left(r_{425} + r_{428}\\right)} x_{12}\\right)} x_{23}}{x_{12}^{2} x_{23}}, a_{25} : r_{432}, a_{34} : -\\frac{r_{426} x_{12} x_{24} - r_{425}}{x_{12} x_{23}}, a_{35} : \\frac{{\\left(r_{432} x_{12} + r_{427} x_{15} - r_{425}\\right)} x_{24}}{x_{14} x_{23} - x_{13} x_{24}}, a_{45} : -\\frac{{\\left(r_{432} x_{12} + r_{427} x_{15} - r_{425}\\right)} x_{23}}{x_{14} x_{23} - x_{13} x_{24}}\\right\\}\\right]$$"
      ],
      "text/plain": [
       "[{d1: 0,\n",
       "  d2: 0,\n",
       "  d3: 0,\n",
       "  d4: r415,\n",
       "  d5: r416,\n",
       "  a12: r417,\n",
       "  a13: r418,\n",
       "  a14: r419,\n",
       "  a15: r420,\n",
       "  a23: r421,\n",
       "  a24: r422,\n",
       "  a25: r423,\n",
       "  a34: -r415*x24/x23,\n",
       "  a35: r424,\n",
       "  a45: -r424*x23/x24},\n",
       " {d1: r425,\n",
       "  d2: r425/x12,\n",
       "  d3: r425/(x12*x23),\n",
       "  d4: r426,\n",
       "  d5: r427,\n",
       "  a12: r428,\n",
       "  a13: r429,\n",
       "  a14: r430,\n",
       "  a15: r431,\n",
       "  a23: ((r425 + r428)*x12*x23 - r425*x13)/(x12^2*x23),\n",
       "  a24: (r426*x12*x13*x24 - r425*x13 - (r426*x12*x14 - (r425 + r428)*x12)*x23)/(x12^2*x23),\n",
       "  a25: r432,\n",
       "  a34: -(r426*x12*x24 - r425)/(x12*x23),\n",
       "  a35: (r432*x12 + r427*x15 - r425)*x24/(x14*x23 - x13*x24),\n",
       "  a45: -(r432*x12 + r427*x15 - r425)*x23/(x14*x23 - x13*x24)}]"
      ]
     },
     "metadata": {},
     "output_type": "display_data"
    }
   ],
   "source": [
    "#x4\n",
    "#-------------------------------\n",
    "#x14\\neq x13*x24/x233\n",
    "#-------------------------------\n",
    "reset()\n",
    "\n",
    "var('x12,x13,x14,x15,x23,x24,x25,x34,x35,x45')\n",
    "var('d1,d2,d3,d4,d5')\n",
    "var('a12,a13,a14,a15,a23,a24,a25,a34,a35,a45')\n",
    "\n",
    "load_attach_path('C:\\\\Users\\\\julia\\\\Documents\\\\unb\\\\doutorado\\\\pensar\\\\codigo_sage_v2\\\\maquina\\\\x4')\n",
    "load('out_#010111.sage')\n",
    "\n",
    "m=matrix(QQ, [[0, 1, 1, 1, 1],\n",
    "              [0, 0, 1, 1, 0],\n",
    "              [0, 0, 0, 0, 0],\n",
    "              [0, 0, 0, 0, 0],\n",
    "              [0, 0, 0, 0, 0]])\n",
    "        \n",
    "#entry of matrix: (i,j) line i collum j, means (i-1,j-1)\n",
    "sol=solve([ eq1==m[0,1],\teq2==m[0,2],\teq3==m[0,3],\teq4==m[0,4],\t\n",
    "                                            eq5==m[1,2],    eq6==m[1,3],\n",
    "                                                            eq7==m[1,4], eq8==m[2,4]],d1,d2,d3,d4,d5,a12,a13,a14,a15,a23,a24,a25,a34,a35,a45, solution_dict=True)\n",
    "\n",
    "show(m)\n",
    "show(sol)\n",
    "#latex(sol)"
   ]
  },
  {
   "cell_type": "code",
   "execution_count": 81,
   "metadata": {},
   "outputs": [
    {
     "data": {
      "text/html": [
       "<html><script type=\"math/tex; mode=display\">\\newcommand{\\Bold}[1]{\\mathbf{#1}}\\left(\\begin{array}{rrrrr}\n",
       "0 & 1 & 0 & 0 & 0 \\\\\n",
       "0 & 0 & 1 & 0 & 0 \\\\\n",
       "0 & 0 & 0 & 0 & 0 \\\\\n",
       "0 & 0 & 0 & 0 & 0 \\\\\n",
       "0 & 0 & 0 & 0 & 0\n",
       "\\end{array}\\right)</script></html>"
      ],
      "text/latex": [
       "$$\\newcommand{\\Bold}[1]{\\mathbf{#1}}\\left(\\begin{array}{rrrrr}\n",
       "0 & 1 & 0 & 0 & 0 \\\\\n",
       "0 & 0 & 1 & 0 & 0 \\\\\n",
       "0 & 0 & 0 & 0 & 0 \\\\\n",
       "0 & 0 & 0 & 0 & 0 \\\\\n",
       "0 & 0 & 0 & 0 & 0\n",
       "\\end{array}\\right)$$"
      ],
      "text/plain": [
       "[0 1 0 0 0]\n",
       "[0 0 1 0 0]\n",
       "[0 0 0 0 0]\n",
       "[0 0 0 0 0]\n",
       "[0 0 0 0 0]"
      ]
     },
     "metadata": {},
     "output_type": "display_data"
    },
    {
     "data": {
      "text/html": [
       "<html><script type=\"math/tex; mode=display\">\\newcommand{\\Bold}[1]{\\mathbf{#1}}\\left[\\left\\{d_{1} : 0, d_{2} : 0, d_{3} : 0, d_{4} : r_{1362}, d_{5} : r_{1363}, a_{12} : r_{1364}, a_{13} : r_{1365}, a_{14} : r_{1366}, a_{15} : r_{1367}, a_{23} : r_{1368}, a_{24} : r_{1369}, a_{25} : r_{1370}, a_{34} : -\\frac{r_{1362} x_{24}}{x_{23}}, a_{35} : r_{1371}, a_{45} : -\\frac{r_{1371} x_{23}}{x_{24}}\\right\\}, \\left\\{d_{1} : r_{1372}, d_{2} : \\frac{r_{1372}}{x_{12}}, d_{3} : \\frac{r_{1372}}{x_{12} x_{23}}, d_{4} : r_{1373}, d_{5} : r_{1374}, a_{12} : r_{1375}, a_{13} : r_{1376}, a_{14} : r_{1377}, a_{15} : r_{1378}, a_{23} : \\frac{r_{1375} x_{12} x_{23} - r_{1372} x_{13}}{x_{12}^{2} x_{23}}, a_{24} : 0, a_{25} : -\\frac{r_{1374} x_{15}}{x_{12}}, a_{34} : -\\frac{r_{1373} x_{24}}{x_{23}}, a_{35} : r_{1379}, a_{45} : -\\frac{r_{1379} x_{23}}{x_{24}}\\right\\}\\right]</script></html>"
      ],
      "text/latex": [
       "$$\\newcommand{\\Bold}[1]{\\mathbf{#1}}\\left[\\left\\{d_{1} : 0, d_{2} : 0, d_{3} : 0, d_{4} : r_{1362}, d_{5} : r_{1363}, a_{12} : r_{1364}, a_{13} : r_{1365}, a_{14} : r_{1366}, a_{15} : r_{1367}, a_{23} : r_{1368}, a_{24} : r_{1369}, a_{25} : r_{1370}, a_{34} : -\\frac{r_{1362} x_{24}}{x_{23}}, a_{35} : r_{1371}, a_{45} : -\\frac{r_{1371} x_{23}}{x_{24}}\\right\\}, \\left\\{d_{1} : r_{1372}, d_{2} : \\frac{r_{1372}}{x_{12}}, d_{3} : \\frac{r_{1372}}{x_{12} x_{23}}, d_{4} : r_{1373}, d_{5} : r_{1374}, a_{12} : r_{1375}, a_{13} : r_{1376}, a_{14} : r_{1377}, a_{15} : r_{1378}, a_{23} : \\frac{r_{1375} x_{12} x_{23} - r_{1372} x_{13}}{x_{12}^{2} x_{23}}, a_{24} : 0, a_{25} : -\\frac{r_{1374} x_{15}}{x_{12}}, a_{34} : -\\frac{r_{1373} x_{24}}{x_{23}}, a_{35} : r_{1379}, a_{45} : -\\frac{r_{1379} x_{23}}{x_{24}}\\right\\}\\right]$$"
      ],
      "text/plain": [
       "[{d1: 0,\n",
       "  d2: 0,\n",
       "  d3: 0,\n",
       "  d4: r1362,\n",
       "  d5: r1363,\n",
       "  a12: r1364,\n",
       "  a13: r1365,\n",
       "  a14: r1366,\n",
       "  a15: r1367,\n",
       "  a23: r1368,\n",
       "  a24: r1369,\n",
       "  a25: r1370,\n",
       "  a34: -r1362*x24/x23,\n",
       "  a35: r1371,\n",
       "  a45: -r1371*x23/x24},\n",
       " {d1: r1372,\n",
       "  d2: r1372/x12,\n",
       "  d3: r1372/(x12*x23),\n",
       "  d4: r1373,\n",
       "  d5: r1374,\n",
       "  a12: r1375,\n",
       "  a13: r1376,\n",
       "  a14: r1377,\n",
       "  a15: r1378,\n",
       "  a23: (r1375*x12*x23 - r1372*x13)/(x12^2*x23),\n",
       "  a24: 0,\n",
       "  a25: -r1374*x15/x12,\n",
       "  a34: -r1373*x24/x23,\n",
       "  a35: r1379,\n",
       "  a45: -r1379*x23/x24}]"
      ]
     },
     "metadata": {},
     "output_type": "display_data"
    }
   ],
   "source": [
    "#x4\n",
    "#-------------------------------\n",
    "#x14= x13*x24/x233\n",
    "#-------------------------------\n",
    "reset()\n",
    "\n",
    "var('x12,x13,x14,x15,x23,x24,x25,x34,x35,x45')\n",
    "var('d1,d2,d3,d4,d5')\n",
    "var('a12,a13,a14,a15,a23,a24,a25,a34,a35,a45')\n",
    "\n",
    "#010111\n",
    "eq1=(d2*x12)/(d1) \n",
    "eq2=(a23*d2*x12+d2*d3*x13-a12*d3*x23)/(d1*d2) \n",
    "eq3=(a24*d2*x12+a34*d2*x13+d2*d4*((x13*x24)/x23)-a12*a34*x23-a12*d4*x24)/(d1*d2) \n",
    "eq4=(a25*d2*d3*x12+a35*d2*d3*x13+a45*d2*d3*((x13*x24)/x23)+d2*d3*d5*x15-a12*a35*d3*x23-a12*a45*d3*x24-a12*d3*d5*0+a12*a23*d5*0-a13*d2*d5*0)/(d1*d2*d3) \n",
    "eq5=(d3*x23)/(d2) \n",
    "eq6=(a34*x23+d4*x24)/(d2) \n",
    "eq7=(a35*d3*x23+a45*d3*x24+d3*d5*0-a23*d5*0)/(d2*d3) \n",
    "eq8=(d5*0)/(d3) \n",
    "\n",
    "m=matrix(QQ, [[0, 1, 0, 0, 0],\n",
    "              [0, 0, 1, 0, 0],\n",
    "              [0, 0, 0, 0, 0],\n",
    "              [0, 0, 0, 0, 0],\n",
    "              [0, 0, 0, 0, 0]])\n",
    "\n",
    "#entry of matrix: (i,j) line i collum j, means (i-1,j-1)\n",
    "sol=solve([ eq1==m[0,1],\teq2==m[0,2],\teq3==m[0,3],\teq4==m[0,4],\t\n",
    "                                            eq5==m[1,2],    eq6==m[1,3],\n",
    "                                                            eq7==m[1,4], eq8==m[2,4]],d1,d2,d3,d4,d5,a12,a13,a14,a15,a23,a24,a25,a34,a35,a45, solution_dict=True)\n",
    "\n",
    "show(m)\n",
    "show(sol)\n",
    "#latex(sol)"
   ]
  },
  {
   "cell_type": "code",
   "execution_count": 25,
   "metadata": {},
   "outputs": [
    {
     "data": {
      "text/html": [
       "<html><script type=\"math/tex; mode=display\">\\newcommand{\\Bold}[1]{\\mathbf{#1}}\\left(\\begin{array}{rrrrr}\n",
       "0 & 1 & 0 & 0 & 0 \\\\\n",
       "0 & 0 & 1 & 1 & 1 \\\\\n",
       "0 & 0 & 0 & 0 & 0 \\\\\n",
       "0 & 0 & 0 & 0 & 0 \\\\\n",
       "0 & 0 & 0 & 0 & 0\n",
       "\\end{array}\\right)</script></html>"
      ],
      "text/latex": [
       "$$\\newcommand{\\Bold}[1]{\\mathbf{#1}}\\left(\\begin{array}{rrrrr}\n",
       "0 & 1 & 0 & 0 & 0 \\\\\n",
       "0 & 0 & 1 & 1 & 1 \\\\\n",
       "0 & 0 & 0 & 0 & 0 \\\\\n",
       "0 & 0 & 0 & 0 & 0 \\\\\n",
       "0 & 0 & 0 & 0 & 0\n",
       "\\end{array}\\right)$$"
      ],
      "text/plain": [
       "[0 1 0 0 0]\n",
       "[0 0 1 1 1]\n",
       "[0 0 0 0 0]\n",
       "[0 0 0 0 0]\n",
       "[0 0 0 0 0]"
      ]
     },
     "metadata": {},
     "output_type": "display_data"
    },
    {
     "data": {
      "text/html": [
       "<html><script type=\"math/tex; mode=display\">\\newcommand{\\Bold}[1]{\\mathbf{#1}}\\left[\\left\\{d_{1} : 0, d_{2} : 0, d_{3} : 0, d_{4} : r_{433}, d_{5} : r_{434}, a_{12} : r_{435}, a_{13} : r_{436}, a_{14} : r_{437}, a_{15} : r_{438}, a_{23} : r_{439}, a_{24} : r_{440}, a_{25} : r_{441}, a_{34} : -\\frac{r_{433} x_{24}}{x_{23}}, a_{35} : r_{442}, a_{45} : -\\frac{r_{442} x_{23} + r_{434} x_{25}}{x_{24}}\\right\\}, \\left\\{d_{1} : r_{443}, d_{2} : \\frac{r_{443}}{x_{12}}, d_{3} : \\frac{r_{443}}{x_{12} x_{23}}, d_{4} : r_{444}, d_{5} : r_{445}, a_{12} : r_{446}, a_{13} : r_{447}, a_{14} : r_{448}, a_{15} : r_{449}, a_{23} : \\frac{r_{446}}{x_{12}}, a_{24} : \\frac{r_{446}}{x_{12}}, a_{25} : \\frac{r_{446}}{x_{12}}, a_{34} : -\\frac{r_{444} x_{12} x_{24} - r_{443}}{x_{12} x_{23}}, a_{35} : r_{450}, a_{45} : -\\frac{r_{450} x_{12} x_{23} + r_{445} x_{12} x_{25} - r_{443}}{x_{12} x_{24}}\\right\\}\\right]</script></html>"
      ],
      "text/latex": [
       "$$\\newcommand{\\Bold}[1]{\\mathbf{#1}}\\left[\\left\\{d_{1} : 0, d_{2} : 0, d_{3} : 0, d_{4} : r_{433}, d_{5} : r_{434}, a_{12} : r_{435}, a_{13} : r_{436}, a_{14} : r_{437}, a_{15} : r_{438}, a_{23} : r_{439}, a_{24} : r_{440}, a_{25} : r_{441}, a_{34} : -\\frac{r_{433} x_{24}}{x_{23}}, a_{35} : r_{442}, a_{45} : -\\frac{r_{442} x_{23} + r_{434} x_{25}}{x_{24}}\\right\\}, \\left\\{d_{1} : r_{443}, d_{2} : \\frac{r_{443}}{x_{12}}, d_{3} : \\frac{r_{443}}{x_{12} x_{23}}, d_{4} : r_{444}, d_{5} : r_{445}, a_{12} : r_{446}, a_{13} : r_{447}, a_{14} : r_{448}, a_{15} : r_{449}, a_{23} : \\frac{r_{446}}{x_{12}}, a_{24} : \\frac{r_{446}}{x_{12}}, a_{25} : \\frac{r_{446}}{x_{12}}, a_{34} : -\\frac{r_{444} x_{12} x_{24} - r_{443}}{x_{12} x_{23}}, a_{35} : r_{450}, a_{45} : -\\frac{r_{450} x_{12} x_{23} + r_{445} x_{12} x_{25} - r_{443}}{x_{12} x_{24}}\\right\\}\\right]$$"
      ],
      "text/plain": [
       "[{d1: 0,\n",
       "  d2: 0,\n",
       "  d3: 0,\n",
       "  d4: r433,\n",
       "  d5: r434,\n",
       "  a12: r435,\n",
       "  a13: r436,\n",
       "  a14: r437,\n",
       "  a15: r438,\n",
       "  a23: r439,\n",
       "  a24: r440,\n",
       "  a25: r441,\n",
       "  a34: -r433*x24/x23,\n",
       "  a35: r442,\n",
       "  a45: -(r442*x23 + r434*x25)/x24},\n",
       " {d1: r443,\n",
       "  d2: r443/x12,\n",
       "  d3: r443/(x12*x23),\n",
       "  d4: r444,\n",
       "  d5: r445,\n",
       "  a12: r446,\n",
       "  a13: r447,\n",
       "  a14: r448,\n",
       "  a15: r449,\n",
       "  a23: r446/x12,\n",
       "  a24: r446/x12,\n",
       "  a25: r446/x12,\n",
       "  a34: -(r444*x12*x24 - r443)/(x12*x23),\n",
       "  a35: r450,\n",
       "  a45: -(r450*x12*x23 + r445*x12*x25 - r443)/(x12*x24)}]"
      ]
     },
     "metadata": {},
     "output_type": "display_data"
    }
   ],
   "source": [
    "#x4\n",
    "reset()\n",
    "\n",
    "var('x12,x13,x14,x15,x23,x24,x25,x34,x35,x45')\n",
    "var('d1,d2,d3,d4,d5')\n",
    "var('a12,a13,a14,a15,a23,a24,a25,a34,a35,a45')\n",
    "\n",
    "load_attach_path('C:\\\\Users\\\\julia\\\\Documents\\\\unb\\\\doutorado\\\\pensar\\\\codigo_sage_v2\\\\maquina\\\\x4')\n",
    "load('out_#011000.sage')\n",
    "\n",
    "m=matrix(QQ, [[0, 1, 0, 0, 0],\n",
    "              [0, 0, 1, 1, 1],\n",
    "              [0, 0, 0, 0, 0],\n",
    "              [0, 0, 0, 0, 0],\n",
    "              [0, 0, 0, 0, 0]])\n",
    "        \n",
    "#entry of matrix: (i,j) line i collum j, means (i-1,j-1)\n",
    "sol=solve([ eq1==m[0,1],\teq2==m[0,2],\teq3==m[0,3],\teq4==m[0,4],\t\n",
    "                                            eq5==m[1,2],    eq6==m[1,3],\n",
    "                                                            eq7==m[1,4], eq8==m[2,4]],d1,d2,d3,d4,d5,a12,a13,a14,a15,a23,a24,a25,a34,a35,a45, solution_dict=True)\n",
    "\n",
    "show(m)\n",
    "show(sol)\n",
    "#latex(sol)"
   ]
  },
  {
   "cell_type": "code",
   "execution_count": 26,
   "metadata": {},
   "outputs": [
    {
     "data": {
      "text/html": [
       "<html><script type=\"math/tex; mode=display\">\\newcommand{\\Bold}[1]{\\mathbf{#1}}\\left(\\begin{array}{rrrrr}\n",
       "0 & 1 & 0 & 0 & 1 \\\\\n",
       "0 & 0 & 1 & 1 & 1 \\\\\n",
       "0 & 0 & 0 & 0 & 0 \\\\\n",
       "0 & 0 & 0 & 0 & 0 \\\\\n",
       "0 & 0 & 0 & 0 & 0\n",
       "\\end{array}\\right)</script></html>"
      ],
      "text/latex": [
       "$$\\newcommand{\\Bold}[1]{\\mathbf{#1}}\\left(\\begin{array}{rrrrr}\n",
       "0 & 1 & 0 & 0 & 1 \\\\\n",
       "0 & 0 & 1 & 1 & 1 \\\\\n",
       "0 & 0 & 0 & 0 & 0 \\\\\n",
       "0 & 0 & 0 & 0 & 0 \\\\\n",
       "0 & 0 & 0 & 0 & 0\n",
       "\\end{array}\\right)$$"
      ],
      "text/plain": [
       "[0 1 0 0 1]\n",
       "[0 0 1 1 1]\n",
       "[0 0 0 0 0]\n",
       "[0 0 0 0 0]\n",
       "[0 0 0 0 0]"
      ]
     },
     "metadata": {},
     "output_type": "display_data"
    },
    {
     "data": {
      "text/html": [
       "<html><script type=\"math/tex; mode=display\">\\newcommand{\\Bold}[1]{\\mathbf{#1}}\\left[\\left\\{d_{1} : 0, d_{2} : 0, d_{3} : 0, d_{4} : r_{451}, d_{5} : r_{452}, a_{12} : r_{453}, a_{13} : r_{454}, a_{14} : r_{455}, a_{15} : r_{456}, a_{23} : r_{457}, a_{24} : r_{458}, a_{25} : r_{459}, a_{34} : -\\frac{r_{451} x_{24}}{x_{23}}, a_{35} : r_{460}, a_{45} : -\\frac{r_{460} x_{23} + r_{452} x_{25}}{x_{24}}\\right\\}, \\left\\{d_{1} : r_{461}, d_{2} : \\frac{r_{461}}{x_{12}}, d_{3} : \\frac{r_{461}}{x_{12} x_{23}}, d_{4} : r_{462}, d_{5} : r_{463}, a_{12} : r_{464}, a_{13} : r_{465}, a_{14} : r_{466}, a_{15} : r_{467}, a_{23} : \\frac{r_{464}}{x_{12}}, a_{24} : \\frac{r_{464}}{x_{12}}, a_{25} : -\\frac{r_{463} x_{15} - r_{461} - r_{464}}{x_{12}}, a_{34} : -\\frac{r_{462} x_{12} x_{24} - r_{461}}{x_{12} x_{23}}, a_{35} : r_{468}, a_{45} : -\\frac{r_{468} x_{12} x_{23} + r_{463} x_{12} x_{25} - r_{461}}{x_{12} x_{24}}\\right\\}\\right]</script></html>"
      ],
      "text/latex": [
       "$$\\newcommand{\\Bold}[1]{\\mathbf{#1}}\\left[\\left\\{d_{1} : 0, d_{2} : 0, d_{3} : 0, d_{4} : r_{451}, d_{5} : r_{452}, a_{12} : r_{453}, a_{13} : r_{454}, a_{14} : r_{455}, a_{15} : r_{456}, a_{23} : r_{457}, a_{24} : r_{458}, a_{25} : r_{459}, a_{34} : -\\frac{r_{451} x_{24}}{x_{23}}, a_{35} : r_{460}, a_{45} : -\\frac{r_{460} x_{23} + r_{452} x_{25}}{x_{24}}\\right\\}, \\left\\{d_{1} : r_{461}, d_{2} : \\frac{r_{461}}{x_{12}}, d_{3} : \\frac{r_{461}}{x_{12} x_{23}}, d_{4} : r_{462}, d_{5} : r_{463}, a_{12} : r_{464}, a_{13} : r_{465}, a_{14} : r_{466}, a_{15} : r_{467}, a_{23} : \\frac{r_{464}}{x_{12}}, a_{24} : \\frac{r_{464}}{x_{12}}, a_{25} : -\\frac{r_{463} x_{15} - r_{461} - r_{464}}{x_{12}}, a_{34} : -\\frac{r_{462} x_{12} x_{24} - r_{461}}{x_{12} x_{23}}, a_{35} : r_{468}, a_{45} : -\\frac{r_{468} x_{12} x_{23} + r_{463} x_{12} x_{25} - r_{461}}{x_{12} x_{24}}\\right\\}\\right]$$"
      ],
      "text/plain": [
       "[{d1: 0,\n",
       "  d2: 0,\n",
       "  d3: 0,\n",
       "  d4: r451,\n",
       "  d5: r452,\n",
       "  a12: r453,\n",
       "  a13: r454,\n",
       "  a14: r455,\n",
       "  a15: r456,\n",
       "  a23: r457,\n",
       "  a24: r458,\n",
       "  a25: r459,\n",
       "  a34: -r451*x24/x23,\n",
       "  a35: r460,\n",
       "  a45: -(r460*x23 + r452*x25)/x24},\n",
       " {d1: r461,\n",
       "  d2: r461/x12,\n",
       "  d3: r461/(x12*x23),\n",
       "  d4: r462,\n",
       "  d5: r463,\n",
       "  a12: r464,\n",
       "  a13: r465,\n",
       "  a14: r466,\n",
       "  a15: r467,\n",
       "  a23: r464/x12,\n",
       "  a24: r464/x12,\n",
       "  a25: -(r463*x15 - r461 - r464)/x12,\n",
       "  a34: -(r462*x12*x24 - r461)/(x12*x23),\n",
       "  a35: r468,\n",
       "  a45: -(r468*x12*x23 + r463*x12*x25 - r461)/(x12*x24)}]"
      ]
     },
     "metadata": {},
     "output_type": "display_data"
    }
   ],
   "source": [
    "#x4\n",
    "reset()\n",
    "\n",
    "var('x12,x13,x14,x15,x23,x24,x25,x34,x35,x45')\n",
    "var('d1,d2,d3,d4,d5')\n",
    "var('a12,a13,a14,a15,a23,a24,a25,a34,a35,a45')\n",
    "\n",
    "load_attach_path('C:\\\\Users\\\\julia\\\\Documents\\\\unb\\\\doutorado\\\\pensar\\\\codigo_sage_v2\\\\maquina\\\\x4')\n",
    "load('out_#011001.sage')\n",
    "\n",
    "m=matrix(QQ, [[0, 1, 0, 0, 1],\n",
    "              [0, 0, 1, 1, 1],\n",
    "              [0, 0, 0, 0, 0],\n",
    "              [0, 0, 0, 0, 0],\n",
    "              [0, 0, 0, 0, 0]])\n",
    "        \n",
    "#entry of matrix: (i,j) line i collum j, means (i-1,j-1)\n",
    "sol=solve([ eq1==m[0,1],\teq2==m[0,2],\teq3==m[0,3],\teq4==m[0,4],\t\n",
    "                                            eq5==m[1,2],    eq6==m[1,3],\n",
    "                                                            eq7==m[1,4], eq8==m[2,4]],d1,d2,d3,d4,d5,a12,a13,a14,a15,a23,a24,a25,a34,a35,a45, solution_dict=True)\n",
    "\n",
    "show(m)\n",
    "show(sol)\n",
    "#latex(sol)"
   ]
  },
  {
   "cell_type": "code",
   "execution_count": 27,
   "metadata": {},
   "outputs": [
    {
     "data": {
      "text/html": [
       "<html><script type=\"math/tex; mode=display\">\\newcommand{\\Bold}[1]{\\mathbf{#1}}\\left(\\begin{array}{rrrrr}\n",
       "0 & 1 & 0 & 1 & 0 \\\\\n",
       "0 & 0 & 1 & 1 & 1 \\\\\n",
       "0 & 0 & 0 & 0 & 0 \\\\\n",
       "0 & 0 & 0 & 0 & 0 \\\\\n",
       "0 & 0 & 0 & 0 & 0\n",
       "\\end{array}\\right)</script></html>"
      ],
      "text/latex": [
       "$$\\newcommand{\\Bold}[1]{\\mathbf{#1}}\\left(\\begin{array}{rrrrr}\n",
       "0 & 1 & 0 & 1 & 0 \\\\\n",
       "0 & 0 & 1 & 1 & 1 \\\\\n",
       "0 & 0 & 0 & 0 & 0 \\\\\n",
       "0 & 0 & 0 & 0 & 0 \\\\\n",
       "0 & 0 & 0 & 0 & 0\n",
       "\\end{array}\\right)$$"
      ],
      "text/plain": [
       "[0 1 0 1 0]\n",
       "[0 0 1 1 1]\n",
       "[0 0 0 0 0]\n",
       "[0 0 0 0 0]\n",
       "[0 0 0 0 0]"
      ]
     },
     "metadata": {},
     "output_type": "display_data"
    },
    {
     "data": {
      "text/html": [
       "<html><script type=\"math/tex; mode=display\">\\newcommand{\\Bold}[1]{\\mathbf{#1}}\\left[\\left\\{d_{1} : 0, d_{2} : 0, d_{3} : 0, d_{4} : r_{469}, d_{5} : r_{470}, a_{12} : r_{471}, a_{13} : r_{472}, a_{14} : r_{473}, a_{15} : r_{474}, a_{23} : r_{475}, a_{24} : r_{476}, a_{25} : r_{477}, a_{34} : -\\frac{r_{469} x_{24}}{x_{23}}, a_{35} : r_{478}, a_{45} : -\\frac{r_{478} x_{23} + r_{470} x_{25}}{x_{24}}\\right\\}, \\left\\{d_{1} : r_{479}, d_{2} : \\frac{r_{479}}{x_{12}}, d_{3} : \\frac{r_{479}}{x_{12} x_{23}}, d_{4} : r_{480}, d_{5} : r_{481}, a_{12} : r_{482}, a_{13} : r_{483}, a_{14} : r_{484}, a_{15} : r_{485}, a_{23} : \\frac{r_{482}}{x_{12}}, a_{24} : -\\frac{r_{480} x_{14} - r_{479} - r_{482}}{x_{12}}, a_{25} : r_{486}, a_{34} : -\\frac{r_{480} x_{12} x_{24} - r_{479}}{x_{12} x_{23}}, a_{35} : -\\frac{r_{481} x_{12} x_{14} x_{25} - r_{479} x_{14} - {\\left(r_{486} x_{12}^{2} - r_{482} x_{12}\\right)} x_{24}}{x_{12} x_{14} x_{23}}, a_{45} : -\\frac{r_{486} x_{12} - r_{482}}{x_{14}}\\right\\}\\right]</script></html>"
      ],
      "text/latex": [
       "$$\\newcommand{\\Bold}[1]{\\mathbf{#1}}\\left[\\left\\{d_{1} : 0, d_{2} : 0, d_{3} : 0, d_{4} : r_{469}, d_{5} : r_{470}, a_{12} : r_{471}, a_{13} : r_{472}, a_{14} : r_{473}, a_{15} : r_{474}, a_{23} : r_{475}, a_{24} : r_{476}, a_{25} : r_{477}, a_{34} : -\\frac{r_{469} x_{24}}{x_{23}}, a_{35} : r_{478}, a_{45} : -\\frac{r_{478} x_{23} + r_{470} x_{25}}{x_{24}}\\right\\}, \\left\\{d_{1} : r_{479}, d_{2} : \\frac{r_{479}}{x_{12}}, d_{3} : \\frac{r_{479}}{x_{12} x_{23}}, d_{4} : r_{480}, d_{5} : r_{481}, a_{12} : r_{482}, a_{13} : r_{483}, a_{14} : r_{484}, a_{15} : r_{485}, a_{23} : \\frac{r_{482}}{x_{12}}, a_{24} : -\\frac{r_{480} x_{14} - r_{479} - r_{482}}{x_{12}}, a_{25} : r_{486}, a_{34} : -\\frac{r_{480} x_{12} x_{24} - r_{479}}{x_{12} x_{23}}, a_{35} : -\\frac{r_{481} x_{12} x_{14} x_{25} - r_{479} x_{14} - {\\left(r_{486} x_{12}^{2} - r_{482} x_{12}\\right)} x_{24}}{x_{12} x_{14} x_{23}}, a_{45} : -\\frac{r_{486} x_{12} - r_{482}}{x_{14}}\\right\\}\\right]$$"
      ],
      "text/plain": [
       "[{d1: 0,\n",
       "  d2: 0,\n",
       "  d3: 0,\n",
       "  d4: r469,\n",
       "  d5: r470,\n",
       "  a12: r471,\n",
       "  a13: r472,\n",
       "  a14: r473,\n",
       "  a15: r474,\n",
       "  a23: r475,\n",
       "  a24: r476,\n",
       "  a25: r477,\n",
       "  a34: -r469*x24/x23,\n",
       "  a35: r478,\n",
       "  a45: -(r478*x23 + r470*x25)/x24},\n",
       " {d1: r479,\n",
       "  d2: r479/x12,\n",
       "  d3: r479/(x12*x23),\n",
       "  d4: r480,\n",
       "  d5: r481,\n",
       "  a12: r482,\n",
       "  a13: r483,\n",
       "  a14: r484,\n",
       "  a15: r485,\n",
       "  a23: r482/x12,\n",
       "  a24: -(r480*x14 - r479 - r482)/x12,\n",
       "  a25: r486,\n",
       "  a34: -(r480*x12*x24 - r479)/(x12*x23),\n",
       "  a35: -(r481*x12*x14*x25 - r479*x14 - (r486*x12^2 - r482*x12)*x24)/(x12*x14*x23),\n",
       "  a45: -(r486*x12 - r482)/x14}]"
      ]
     },
     "metadata": {},
     "output_type": "display_data"
    }
   ],
   "source": [
    "#x4\n",
    "reset()\n",
    "\n",
    "var('x12,x13,x14,x15,x23,x24,x25,x34,x35,x45')\n",
    "var('d1,d2,d3,d4,d5')\n",
    "var('a12,a13,a14,a15,a23,a24,a25,a34,a35,a45')\n",
    "\n",
    "load_attach_path('C:\\\\Users\\\\julia\\\\Documents\\\\unb\\\\doutorado\\\\pensar\\\\codigo_sage_v2\\\\maquina\\\\x4')\n",
    "load('out_#011010.sage')\n",
    "\n",
    "m=matrix(QQ, [[0, 1, 0, 1, 0],\n",
    "              [0, 0, 1, 1, 1],\n",
    "              [0, 0, 0, 0, 0],\n",
    "              [0, 0, 0, 0, 0],\n",
    "              [0, 0, 0, 0, 0]])\n",
    "        \n",
    "#entry of matrix: (i,j) line i collum j, means (i-1,j-1)\n",
    "sol=solve([ eq1==m[0,1],\teq2==m[0,2],\teq3==m[0,3],\teq4==m[0,4],\t\n",
    "                                            eq5==m[1,2],    eq6==m[1,3],\n",
    "                                                            eq7==m[1,4], eq8==m[2,4]],d1,d2,d3,d4,d5,a12,a13,a14,a15,a23,a24,a25,a34,a35,a45, solution_dict=True)\n",
    "\n",
    "show(m)\n",
    "show(sol)\n",
    "#latex(sol)"
   ]
  },
  {
   "cell_type": "code",
   "execution_count": 28,
   "metadata": {},
   "outputs": [
    {
     "data": {
      "text/html": [
       "<html><script type=\"math/tex; mode=display\">\\newcommand{\\Bold}[1]{\\mathbf{#1}}\\left(\\begin{array}{rrrrr}\n",
       "0 & 1 & 0 & 1 & 1 \\\\\n",
       "0 & 0 & 1 & 1 & 1 \\\\\n",
       "0 & 0 & 0 & 0 & 0 \\\\\n",
       "0 & 0 & 0 & 0 & 0 \\\\\n",
       "0 & 0 & 0 & 0 & 0\n",
       "\\end{array}\\right)</script></html>"
      ],
      "text/latex": [
       "$$\\newcommand{\\Bold}[1]{\\mathbf{#1}}\\left(\\begin{array}{rrrrr}\n",
       "0 & 1 & 0 & 1 & 1 \\\\\n",
       "0 & 0 & 1 & 1 & 1 \\\\\n",
       "0 & 0 & 0 & 0 & 0 \\\\\n",
       "0 & 0 & 0 & 0 & 0 \\\\\n",
       "0 & 0 & 0 & 0 & 0\n",
       "\\end{array}\\right)$$"
      ],
      "text/plain": [
       "[0 1 0 1 1]\n",
       "[0 0 1 1 1]\n",
       "[0 0 0 0 0]\n",
       "[0 0 0 0 0]\n",
       "[0 0 0 0 0]"
      ]
     },
     "metadata": {},
     "output_type": "display_data"
    },
    {
     "data": {
      "text/html": [
       "<html><script type=\"math/tex; mode=display\">\\newcommand{\\Bold}[1]{\\mathbf{#1}}\\left[\\left\\{d_{1} : 0, d_{2} : 0, d_{3} : 0, d_{4} : r_{487}, d_{5} : r_{488}, a_{12} : r_{489}, a_{13} : r_{490}, a_{14} : r_{491}, a_{15} : r_{492}, a_{23} : r_{493}, a_{24} : r_{494}, a_{25} : r_{495}, a_{34} : -\\frac{r_{487} x_{24}}{x_{23}}, a_{35} : r_{496}, a_{45} : -\\frac{r_{496} x_{23} + r_{488} x_{25}}{x_{24}}\\right\\}, \\left\\{d_{1} : r_{497}, d_{2} : \\frac{r_{497}}{x_{12}}, d_{3} : \\frac{r_{497}}{x_{12} x_{23}}, d_{4} : r_{498}, d_{5} : r_{499}, a_{12} : r_{500}, a_{13} : r_{501}, a_{14} : r_{502}, a_{15} : r_{503}, a_{23} : \\frac{r_{500}}{x_{12}}, a_{24} : -\\frac{r_{498} x_{14} - r_{497} - r_{500}}{x_{12}}, a_{25} : r_{504}, a_{34} : -\\frac{r_{498} x_{12} x_{24} - r_{497}}{x_{12} x_{23}}, a_{35} : -\\frac{r_{499} x_{12} x_{14} x_{25} - r_{497} x_{14} - {\\left(r_{504} x_{12}^{2} + r_{499} x_{12} x_{15} - {\\left(r_{497} + r_{500}\\right)} x_{12}\\right)} x_{24}}{x_{12} x_{14} x_{23}}, a_{45} : -\\frac{r_{504} x_{12} + r_{499} x_{15} - r_{497} - r_{500}}{x_{14}}\\right\\}\\right]</script></html>"
      ],
      "text/latex": [
       "$$\\newcommand{\\Bold}[1]{\\mathbf{#1}}\\left[\\left\\{d_{1} : 0, d_{2} : 0, d_{3} : 0, d_{4} : r_{487}, d_{5} : r_{488}, a_{12} : r_{489}, a_{13} : r_{490}, a_{14} : r_{491}, a_{15} : r_{492}, a_{23} : r_{493}, a_{24} : r_{494}, a_{25} : r_{495}, a_{34} : -\\frac{r_{487} x_{24}}{x_{23}}, a_{35} : r_{496}, a_{45} : -\\frac{r_{496} x_{23} + r_{488} x_{25}}{x_{24}}\\right\\}, \\left\\{d_{1} : r_{497}, d_{2} : \\frac{r_{497}}{x_{12}}, d_{3} : \\frac{r_{497}}{x_{12} x_{23}}, d_{4} : r_{498}, d_{5} : r_{499}, a_{12} : r_{500}, a_{13} : r_{501}, a_{14} : r_{502}, a_{15} : r_{503}, a_{23} : \\frac{r_{500}}{x_{12}}, a_{24} : -\\frac{r_{498} x_{14} - r_{497} - r_{500}}{x_{12}}, a_{25} : r_{504}, a_{34} : -\\frac{r_{498} x_{12} x_{24} - r_{497}}{x_{12} x_{23}}, a_{35} : -\\frac{r_{499} x_{12} x_{14} x_{25} - r_{497} x_{14} - {\\left(r_{504} x_{12}^{2} + r_{499} x_{12} x_{15} - {\\left(r_{497} + r_{500}\\right)} x_{12}\\right)} x_{24}}{x_{12} x_{14} x_{23}}, a_{45} : -\\frac{r_{504} x_{12} + r_{499} x_{15} - r_{497} - r_{500}}{x_{14}}\\right\\}\\right]$$"
      ],
      "text/plain": [
       "[{d1: 0,\n",
       "  d2: 0,\n",
       "  d3: 0,\n",
       "  d4: r487,\n",
       "  d5: r488,\n",
       "  a12: r489,\n",
       "  a13: r490,\n",
       "  a14: r491,\n",
       "  a15: r492,\n",
       "  a23: r493,\n",
       "  a24: r494,\n",
       "  a25: r495,\n",
       "  a34: -r487*x24/x23,\n",
       "  a35: r496,\n",
       "  a45: -(r496*x23 + r488*x25)/x24},\n",
       " {d1: r497,\n",
       "  d2: r497/x12,\n",
       "  d3: r497/(x12*x23),\n",
       "  d4: r498,\n",
       "  d5: r499,\n",
       "  a12: r500,\n",
       "  a13: r501,\n",
       "  a14: r502,\n",
       "  a15: r503,\n",
       "  a23: r500/x12,\n",
       "  a24: -(r498*x14 - r497 - r500)/x12,\n",
       "  a25: r504,\n",
       "  a34: -(r498*x12*x24 - r497)/(x12*x23),\n",
       "  a35: -(r499*x12*x14*x25 - r497*x14 - (r504*x12^2 + r499*x12*x15 - (r497 + r500)*x12)*x24)/(x12*x14*x23),\n",
       "  a45: -(r504*x12 + r499*x15 - r497 - r500)/x14}]"
      ]
     },
     "metadata": {},
     "output_type": "display_data"
    }
   ],
   "source": [
    "#x4\n",
    "reset()\n",
    "\n",
    "var('x12,x13,x14,x15,x23,x24,x25,x34,x35,x45')\n",
    "var('d1,d2,d3,d4,d5')\n",
    "var('a12,a13,a14,a15,a23,a24,a25,a34,a35,a45')\n",
    "\n",
    "load_attach_path('C:\\\\Users\\\\julia\\\\Documents\\\\unb\\\\doutorado\\\\pensar\\\\codigo_sage_v2\\\\maquina\\\\x4')\n",
    "load('out_#011011.sage')\n",
    "\n",
    "m=matrix(QQ, [[0, 1, 0, 1, 1],\n",
    "              [0, 0, 1, 1, 1],\n",
    "              [0, 0, 0, 0, 0],\n",
    "              [0, 0, 0, 0, 0],\n",
    "              [0, 0, 0, 0, 0]])\n",
    "        \n",
    "#entry of matrix: (i,j) line i collum j, means (i-1,j-1)\n",
    "sol=solve([ eq1==m[0,1],\teq2==m[0,2],\teq3==m[0,3],\teq4==m[0,4],\t\n",
    "                                            eq5==m[1,2],    eq6==m[1,3],\n",
    "                                                            eq7==m[1,4], eq8==m[2,4]],d1,d2,d3,d4,d5,a12,a13,a14,a15,a23,a24,a25,a34,a35,a45, solution_dict=True)\n",
    "\n",
    "show(m)\n",
    "show(sol)\n",
    "#latex(sol)"
   ]
  },
  {
   "cell_type": "code",
   "execution_count": 29,
   "metadata": {},
   "outputs": [
    {
     "data": {
      "text/html": [
       "<html><script type=\"math/tex; mode=display\">\\newcommand{\\Bold}[1]{\\mathbf{#1}}\\left(\\begin{array}{rrrrr}\n",
       "0 & 1 & 1 & 0 & 0 \\\\\n",
       "0 & 0 & 1 & 1 & 1 \\\\\n",
       "0 & 0 & 0 & 0 & 0 \\\\\n",
       "0 & 0 & 0 & 0 & 0 \\\\\n",
       "0 & 0 & 0 & 0 & 0\n",
       "\\end{array}\\right)</script></html>"
      ],
      "text/latex": [
       "$$\\newcommand{\\Bold}[1]{\\mathbf{#1}}\\left(\\begin{array}{rrrrr}\n",
       "0 & 1 & 1 & 0 & 0 \\\\\n",
       "0 & 0 & 1 & 1 & 1 \\\\\n",
       "0 & 0 & 0 & 0 & 0 \\\\\n",
       "0 & 0 & 0 & 0 & 0 \\\\\n",
       "0 & 0 & 0 & 0 & 0\n",
       "\\end{array}\\right)$$"
      ],
      "text/plain": [
       "[0 1 1 0 0]\n",
       "[0 0 1 1 1]\n",
       "[0 0 0 0 0]\n",
       "[0 0 0 0 0]\n",
       "[0 0 0 0 0]"
      ]
     },
     "metadata": {},
     "output_type": "display_data"
    },
    {
     "data": {
      "text/html": [
       "<html><script type=\"math/tex; mode=display\">\\newcommand{\\Bold}[1]{\\mathbf{#1}}\\left[\\left\\{d_{1} : 0, d_{2} : 0, d_{3} : 0, d_{4} : r_{505}, d_{5} : r_{506}, a_{12} : r_{507}, a_{13} : r_{508}, a_{14} : r_{509}, a_{15} : r_{510}, a_{23} : r_{511}, a_{24} : r_{512}, a_{25} : r_{513}, a_{34} : -\\frac{r_{505} x_{24}}{x_{23}}, a_{35} : r_{514}, a_{45} : -\\frac{r_{514} x_{23} + r_{506} x_{25}}{x_{24}}\\right\\}, \\left\\{d_{1} : r_{515}, d_{2} : \\frac{r_{515}}{x_{12}}, d_{3} : \\frac{r_{515}}{x_{12} x_{23}}, d_{4} : r_{516}, d_{5} : r_{517}, a_{12} : r_{518}, a_{13} : r_{519}, a_{14} : r_{520}, a_{15} : r_{521}, a_{23} : \\frac{{\\left(r_{515} + r_{518}\\right)} x_{12} x_{23} - r_{515} x_{13}}{x_{12}^{2} x_{23}}, a_{24} : \\frac{r_{516} x_{12} x_{13} x_{24} + r_{518} x_{12} x_{23} - r_{515} x_{13}}{x_{12}^{2} x_{23}}, a_{25} : r_{522}, a_{34} : -\\frac{r_{516} x_{12} x_{24} - r_{515}}{x_{12} x_{23}}, a_{35} : -\\frac{r_{522} x_{12} - r_{518}}{x_{13}}, a_{45} : -\\frac{r_{517} x_{12} x_{13} x_{25} - r_{515} x_{13} - {\\left(r_{522} x_{12}^{2} - r_{518} x_{12}\\right)} x_{23}}{x_{12} x_{13} x_{24}}\\right\\}\\right]</script></html>"
      ],
      "text/latex": [
       "$$\\newcommand{\\Bold}[1]{\\mathbf{#1}}\\left[\\left\\{d_{1} : 0, d_{2} : 0, d_{3} : 0, d_{4} : r_{505}, d_{5} : r_{506}, a_{12} : r_{507}, a_{13} : r_{508}, a_{14} : r_{509}, a_{15} : r_{510}, a_{23} : r_{511}, a_{24} : r_{512}, a_{25} : r_{513}, a_{34} : -\\frac{r_{505} x_{24}}{x_{23}}, a_{35} : r_{514}, a_{45} : -\\frac{r_{514} x_{23} + r_{506} x_{25}}{x_{24}}\\right\\}, \\left\\{d_{1} : r_{515}, d_{2} : \\frac{r_{515}}{x_{12}}, d_{3} : \\frac{r_{515}}{x_{12} x_{23}}, d_{4} : r_{516}, d_{5} : r_{517}, a_{12} : r_{518}, a_{13} : r_{519}, a_{14} : r_{520}, a_{15} : r_{521}, a_{23} : \\frac{{\\left(r_{515} + r_{518}\\right)} x_{12} x_{23} - r_{515} x_{13}}{x_{12}^{2} x_{23}}, a_{24} : \\frac{r_{516} x_{12} x_{13} x_{24} + r_{518} x_{12} x_{23} - r_{515} x_{13}}{x_{12}^{2} x_{23}}, a_{25} : r_{522}, a_{34} : -\\frac{r_{516} x_{12} x_{24} - r_{515}}{x_{12} x_{23}}, a_{35} : -\\frac{r_{522} x_{12} - r_{518}}{x_{13}}, a_{45} : -\\frac{r_{517} x_{12} x_{13} x_{25} - r_{515} x_{13} - {\\left(r_{522} x_{12}^{2} - r_{518} x_{12}\\right)} x_{23}}{x_{12} x_{13} x_{24}}\\right\\}\\right]$$"
      ],
      "text/plain": [
       "[{d1: 0,\n",
       "  d2: 0,\n",
       "  d3: 0,\n",
       "  d4: r505,\n",
       "  d5: r506,\n",
       "  a12: r507,\n",
       "  a13: r508,\n",
       "  a14: r509,\n",
       "  a15: r510,\n",
       "  a23: r511,\n",
       "  a24: r512,\n",
       "  a25: r513,\n",
       "  a34: -r505*x24/x23,\n",
       "  a35: r514,\n",
       "  a45: -(r514*x23 + r506*x25)/x24},\n",
       " {d1: r515,\n",
       "  d2: r515/x12,\n",
       "  d3: r515/(x12*x23),\n",
       "  d4: r516,\n",
       "  d5: r517,\n",
       "  a12: r518,\n",
       "  a13: r519,\n",
       "  a14: r520,\n",
       "  a15: r521,\n",
       "  a23: ((r515 + r518)*x12*x23 - r515*x13)/(x12^2*x23),\n",
       "  a24: (r516*x12*x13*x24 + r518*x12*x23 - r515*x13)/(x12^2*x23),\n",
       "  a25: r522,\n",
       "  a34: -(r516*x12*x24 - r515)/(x12*x23),\n",
       "  a35: -(r522*x12 - r518)/x13,\n",
       "  a45: -(r517*x12*x13*x25 - r515*x13 - (r522*x12^2 - r518*x12)*x23)/(x12*x13*x24)}]"
      ]
     },
     "metadata": {},
     "output_type": "display_data"
    }
   ],
   "source": [
    "#x4\n",
    "reset()\n",
    "\n",
    "var('x12,x13,x14,x15,x23,x24,x25,x34,x35,x45')\n",
    "var('d1,d2,d3,d4,d5')\n",
    "var('a12,a13,a14,a15,a23,a24,a25,a34,a35,a45')\n",
    "\n",
    "load_attach_path('C:\\\\Users\\\\julia\\\\Documents\\\\unb\\\\doutorado\\\\pensar\\\\codigo_sage_v2\\\\maquina\\\\x4')\n",
    "load('out_#011100.sage')\n",
    "\n",
    "m=matrix(QQ, [[0, 1, 1, 0, 0],\n",
    "              [0, 0, 1, 1, 1],\n",
    "              [0, 0, 0, 0, 0],\n",
    "              [0, 0, 0, 0, 0],\n",
    "              [0, 0, 0, 0, 0]])\n",
    "        \n",
    "#entry of matrix: (i,j) line i collum j, means (i-1,j-1)\n",
    "sol=solve([ eq1==m[0,1],\teq2==m[0,2],\teq3==m[0,3],\teq4==m[0,4],\t\n",
    "                                            eq5==m[1,2],    eq6==m[1,3],\n",
    "                                                            eq7==m[1,4], eq8==m[2,4]],d1,d2,d3,d4,d5,a12,a13,a14,a15,a23,a24,a25,a34,a35,a45, solution_dict=True)\n",
    "\n",
    "show(m)\n",
    "show(sol)\n",
    "#latex(sol)"
   ]
  },
  {
   "cell_type": "code",
   "execution_count": 30,
   "metadata": {},
   "outputs": [
    {
     "data": {
      "text/html": [
       "<html><script type=\"math/tex; mode=display\">\\newcommand{\\Bold}[1]{\\mathbf{#1}}\\left(\\begin{array}{rrrrr}\n",
       "0 & 1 & 0 & 0 & 1 \\\\\n",
       "0 & 0 & 1 & 1 & 1 \\\\\n",
       "0 & 0 & 0 & 0 & 0 \\\\\n",
       "0 & 0 & 0 & 0 & 0 \\\\\n",
       "0 & 0 & 0 & 0 & 0\n",
       "\\end{array}\\right)</script></html>"
      ],
      "text/latex": [
       "$$\\newcommand{\\Bold}[1]{\\mathbf{#1}}\\left(\\begin{array}{rrrrr}\n",
       "0 & 1 & 0 & 0 & 1 \\\\\n",
       "0 & 0 & 1 & 1 & 1 \\\\\n",
       "0 & 0 & 0 & 0 & 0 \\\\\n",
       "0 & 0 & 0 & 0 & 0 \\\\\n",
       "0 & 0 & 0 & 0 & 0\n",
       "\\end{array}\\right)$$"
      ],
      "text/plain": [
       "[0 1 0 0 1]\n",
       "[0 0 1 1 1]\n",
       "[0 0 0 0 0]\n",
       "[0 0 0 0 0]\n",
       "[0 0 0 0 0]"
      ]
     },
     "metadata": {},
     "output_type": "display_data"
    },
    {
     "data": {
      "text/html": [
       "<html><script type=\"math/tex; mode=display\">\\newcommand{\\Bold}[1]{\\mathbf{#1}}\\left[\\left\\{d_{1} : 0, d_{2} : 0, d_{3} : 0, d_{4} : r_{523}, d_{5} : r_{524}, a_{12} : r_{525}, a_{13} : r_{526}, a_{14} : r_{527}, a_{15} : r_{528}, a_{23} : r_{529}, a_{24} : r_{530}, a_{25} : r_{531}, a_{34} : -\\frac{r_{523} x_{24}}{x_{23}}, a_{35} : r_{532}, a_{45} : -\\frac{r_{532} x_{23} + r_{524} x_{25}}{x_{24}}\\right\\}, \\left\\{d_{1} : r_{533}, d_{2} : \\frac{r_{533}}{x_{12}}, d_{3} : \\frac{r_{533}}{x_{12} x_{23}}, d_{4} : r_{534}, d_{5} : r_{535}, a_{12} : r_{536}, a_{13} : r_{537}, a_{14} : r_{538}, a_{15} : r_{539}, a_{23} : \\frac{r_{536} x_{12} x_{23} - r_{533} x_{13}}{x_{12}^{2} x_{23}}, a_{24} : \\frac{r_{534} x_{12} x_{13} x_{24} + r_{536} x_{12} x_{23} - r_{533} x_{13}}{x_{12}^{2} x_{23}}, a_{25} : r_{540}, a_{34} : -\\frac{r_{534} x_{12} x_{24} - r_{533}}{x_{12} x_{23}}, a_{35} : -\\frac{r_{540} x_{12} + r_{535} x_{15} - r_{533} - r_{536}}{x_{13}}, a_{45} : -\\frac{r_{535} x_{12} x_{13} x_{25} - r_{533} x_{13} - {\\left(r_{540} x_{12}^{2} + r_{535} x_{12} x_{15} - {\\left(r_{533} + r_{536}\\right)} x_{12}\\right)} x_{23}}{x_{12} x_{13} x_{24}}\\right\\}\\right]</script></html>"
      ],
      "text/latex": [
       "$$\\newcommand{\\Bold}[1]{\\mathbf{#1}}\\left[\\left\\{d_{1} : 0, d_{2} : 0, d_{3} : 0, d_{4} : r_{523}, d_{5} : r_{524}, a_{12} : r_{525}, a_{13} : r_{526}, a_{14} : r_{527}, a_{15} : r_{528}, a_{23} : r_{529}, a_{24} : r_{530}, a_{25} : r_{531}, a_{34} : -\\frac{r_{523} x_{24}}{x_{23}}, a_{35} : r_{532}, a_{45} : -\\frac{r_{532} x_{23} + r_{524} x_{25}}{x_{24}}\\right\\}, \\left\\{d_{1} : r_{533}, d_{2} : \\frac{r_{533}}{x_{12}}, d_{3} : \\frac{r_{533}}{x_{12} x_{23}}, d_{4} : r_{534}, d_{5} : r_{535}, a_{12} : r_{536}, a_{13} : r_{537}, a_{14} : r_{538}, a_{15} : r_{539}, a_{23} : \\frac{r_{536} x_{12} x_{23} - r_{533} x_{13}}{x_{12}^{2} x_{23}}, a_{24} : \\frac{r_{534} x_{12} x_{13} x_{24} + r_{536} x_{12} x_{23} - r_{533} x_{13}}{x_{12}^{2} x_{23}}, a_{25} : r_{540}, a_{34} : -\\frac{r_{534} x_{12} x_{24} - r_{533}}{x_{12} x_{23}}, a_{35} : -\\frac{r_{540} x_{12} + r_{535} x_{15} - r_{533} - r_{536}}{x_{13}}, a_{45} : -\\frac{r_{535} x_{12} x_{13} x_{25} - r_{533} x_{13} - {\\left(r_{540} x_{12}^{2} + r_{535} x_{12} x_{15} - {\\left(r_{533} + r_{536}\\right)} x_{12}\\right)} x_{23}}{x_{12} x_{13} x_{24}}\\right\\}\\right]$$"
      ],
      "text/plain": [
       "[{d1: 0,\n",
       "  d2: 0,\n",
       "  d3: 0,\n",
       "  d4: r523,\n",
       "  d5: r524,\n",
       "  a12: r525,\n",
       "  a13: r526,\n",
       "  a14: r527,\n",
       "  a15: r528,\n",
       "  a23: r529,\n",
       "  a24: r530,\n",
       "  a25: r531,\n",
       "  a34: -r523*x24/x23,\n",
       "  a35: r532,\n",
       "  a45: -(r532*x23 + r524*x25)/x24},\n",
       " {d1: r533,\n",
       "  d2: r533/x12,\n",
       "  d3: r533/(x12*x23),\n",
       "  d4: r534,\n",
       "  d5: r535,\n",
       "  a12: r536,\n",
       "  a13: r537,\n",
       "  a14: r538,\n",
       "  a15: r539,\n",
       "  a23: (r536*x12*x23 - r533*x13)/(x12^2*x23),\n",
       "  a24: (r534*x12*x13*x24 + r536*x12*x23 - r533*x13)/(x12^2*x23),\n",
       "  a25: r540,\n",
       "  a34: -(r534*x12*x24 - r533)/(x12*x23),\n",
       "  a35: -(r540*x12 + r535*x15 - r533 - r536)/x13,\n",
       "  a45: -(r535*x12*x13*x25 - r533*x13 - (r540*x12^2 + r535*x12*x15 - (r533 + r536)*x12)*x23)/(x12*x13*x24)}]"
      ]
     },
     "metadata": {},
     "output_type": "display_data"
    }
   ],
   "source": [
    "#x4\n",
    "reset()\n",
    "\n",
    "var('x12,x13,x14,x15,x23,x24,x25,x34,x35,x45')\n",
    "var('d1,d2,d3,d4,d5')\n",
    "var('a12,a13,a14,a15,a23,a24,a25,a34,a35,a45')\n",
    "\n",
    "load_attach_path('C:\\\\Users\\\\julia\\\\Documents\\\\unb\\\\doutorado\\\\pensar\\\\codigo_sage_v2\\\\maquina\\\\x4')\n",
    "load('out_#011101.sage')\n",
    "\n",
    "m=matrix(QQ, [[0, 1, 0, 0, 1],\n",
    "              [0, 0, 1, 1, 1],\n",
    "              [0, 0, 0, 0, 0],\n",
    "              [0, 0, 0, 0, 0],\n",
    "              [0, 0, 0, 0, 0]])\n",
    "        \n",
    "#entry of matrix: (i,j) line i collum j, means (i-1,j-1)\n",
    "sol=solve([ eq1==m[0,1],\teq2==m[0,2],\teq3==m[0,3],\teq4==m[0,4],\t\n",
    "                                            eq5==m[1,2],    eq6==m[1,3],\n",
    "                                                            eq7==m[1,4], eq8==m[2,4]],d1,d2,d3,d4,d5,a12,a13,a14,a15,a23,a24,a25,a34,a35,a45, solution_dict=True)\n",
    "\n",
    "show(m)\n",
    "show(sol)\n",
    "#latex(sol)"
   ]
  },
  {
   "cell_type": "code",
   "execution_count": 84,
   "metadata": {},
   "outputs": [
    {
     "data": {
      "text/html": [
       "<html><script type=\"math/tex; mode=display\">\\newcommand{\\Bold}[1]{\\mathbf{#1}}\\left(\\begin{array}{rrrrr}\n",
       "0 & 1 & 1 & 1 & 0 \\\\\n",
       "0 & 0 & 1 & 1 & 1 \\\\\n",
       "0 & 0 & 0 & 0 & 0 \\\\\n",
       "0 & 0 & 0 & 0 & 0 \\\\\n",
       "0 & 0 & 0 & 0 & 0\n",
       "\\end{array}\\right)</script></html>"
      ],
      "text/latex": [
       "$$\\newcommand{\\Bold}[1]{\\mathbf{#1}}\\left(\\begin{array}{rrrrr}\n",
       "0 & 1 & 1 & 1 & 0 \\\\\n",
       "0 & 0 & 1 & 1 & 1 \\\\\n",
       "0 & 0 & 0 & 0 & 0 \\\\\n",
       "0 & 0 & 0 & 0 & 0 \\\\\n",
       "0 & 0 & 0 & 0 & 0\n",
       "\\end{array}\\right)$$"
      ],
      "text/plain": [
       "[0 1 1 1 0]\n",
       "[0 0 1 1 1]\n",
       "[0 0 0 0 0]\n",
       "[0 0 0 0 0]\n",
       "[0 0 0 0 0]"
      ]
     },
     "metadata": {},
     "output_type": "display_data"
    },
    {
     "data": {
      "text/html": [
       "<html><script type=\"math/tex; mode=display\">\\newcommand{\\Bold}[1]{\\mathbf{#1}}\\left[\\left\\{d_{1} : 0, d_{2} : 0, d_{3} : 0, d_{4} : r_{1416}, d_{5} : r_{1417}, a_{12} : r_{1418}, a_{13} : r_{1419}, a_{14} : r_{1420}, a_{15} : r_{1421}, a_{23} : r_{1422}, a_{24} : r_{1423}, a_{25} : r_{1424}, a_{34} : -\\frac{r_{1416} x_{24}}{x_{23}}, a_{35} : r_{1425}, a_{45} : -\\frac{r_{1425} x_{23} + r_{1417} x_{25}}{x_{24}}\\right\\}, \\left\\{d_{1} : r_{1426}, d_{2} : \\frac{r_{1426}}{x_{12}}, d_{3} : \\frac{r_{1426}}{x_{12} x_{23}}, d_{4} : r_{1427}, d_{5} : r_{1428}, a_{12} : r_{1429}, a_{13} : r_{1430}, a_{14} : r_{1431}, a_{15} : r_{1432}, a_{23} : \\frac{{\\left(r_{1426} + r_{1429}\\right)} x_{12} x_{23} - r_{1426} x_{13}}{x_{12}^{2} x_{23}}, a_{24} : \\frac{r_{1427} x_{12} x_{13} x_{24} - r_{1426} x_{13} - {\\left(r_{1427} x_{12} x_{14} - {\\left(r_{1426} + r_{1429}\\right)} x_{12}\\right)} x_{23}}{x_{12}^{2} x_{23}}, a_{25} : r_{1433}, a_{34} : -\\frac{r_{1427} x_{12} x_{24} - r_{1426}}{x_{12} x_{23}}, a_{35} : -\\frac{r_{1428} x_{12} x_{14} x_{25} - r_{1426} x_{14} - {\\left(r_{1433} x_{12}^{2} - r_{1429} x_{12}\\right)} x_{24}}{x_{12} x_{14} x_{23} - x_{12} x_{13} x_{24}}, a_{45} : \\frac{r_{1428} x_{12} x_{13} x_{25} - r_{1426} x_{13} - {\\left(r_{1433} x_{12}^{2} - r_{1429} x_{12}\\right)} x_{23}}{x_{12} x_{14} x_{23} - x_{12} x_{13} x_{24}}\\right\\}\\right]</script></html>"
      ],
      "text/latex": [
       "$$\\newcommand{\\Bold}[1]{\\mathbf{#1}}\\left[\\left\\{d_{1} : 0, d_{2} : 0, d_{3} : 0, d_{4} : r_{1416}, d_{5} : r_{1417}, a_{12} : r_{1418}, a_{13} : r_{1419}, a_{14} : r_{1420}, a_{15} : r_{1421}, a_{23} : r_{1422}, a_{24} : r_{1423}, a_{25} : r_{1424}, a_{34} : -\\frac{r_{1416} x_{24}}{x_{23}}, a_{35} : r_{1425}, a_{45} : -\\frac{r_{1425} x_{23} + r_{1417} x_{25}}{x_{24}}\\right\\}, \\left\\{d_{1} : r_{1426}, d_{2} : \\frac{r_{1426}}{x_{12}}, d_{3} : \\frac{r_{1426}}{x_{12} x_{23}}, d_{4} : r_{1427}, d_{5} : r_{1428}, a_{12} : r_{1429}, a_{13} : r_{1430}, a_{14} : r_{1431}, a_{15} : r_{1432}, a_{23} : \\frac{{\\left(r_{1426} + r_{1429}\\right)} x_{12} x_{23} - r_{1426} x_{13}}{x_{12}^{2} x_{23}}, a_{24} : \\frac{r_{1427} x_{12} x_{13} x_{24} - r_{1426} x_{13} - {\\left(r_{1427} x_{12} x_{14} - {\\left(r_{1426} + r_{1429}\\right)} x_{12}\\right)} x_{23}}{x_{12}^{2} x_{23}}, a_{25} : r_{1433}, a_{34} : -\\frac{r_{1427} x_{12} x_{24} - r_{1426}}{x_{12} x_{23}}, a_{35} : -\\frac{r_{1428} x_{12} x_{14} x_{25} - r_{1426} x_{14} - {\\left(r_{1433} x_{12}^{2} - r_{1429} x_{12}\\right)} x_{24}}{x_{12} x_{14} x_{23} - x_{12} x_{13} x_{24}}, a_{45} : \\frac{r_{1428} x_{12} x_{13} x_{25} - r_{1426} x_{13} - {\\left(r_{1433} x_{12}^{2} - r_{1429} x_{12}\\right)} x_{23}}{x_{12} x_{14} x_{23} - x_{12} x_{13} x_{24}}\\right\\}\\right]$$"
      ],
      "text/plain": [
       "[{d1: 0,\n",
       "  d2: 0,\n",
       "  d3: 0,\n",
       "  d4: r1416,\n",
       "  d5: r1417,\n",
       "  a12: r1418,\n",
       "  a13: r1419,\n",
       "  a14: r1420,\n",
       "  a15: r1421,\n",
       "  a23: r1422,\n",
       "  a24: r1423,\n",
       "  a25: r1424,\n",
       "  a34: -r1416*x24/x23,\n",
       "  a35: r1425,\n",
       "  a45: -(r1425*x23 + r1417*x25)/x24},\n",
       " {d1: r1426,\n",
       "  d2: r1426/x12,\n",
       "  d3: r1426/(x12*x23),\n",
       "  d4: r1427,\n",
       "  d5: r1428,\n",
       "  a12: r1429,\n",
       "  a13: r1430,\n",
       "  a14: r1431,\n",
       "  a15: r1432,\n",
       "  a23: ((r1426 + r1429)*x12*x23 - r1426*x13)/(x12^2*x23),\n",
       "  a24: (r1427*x12*x13*x24 - r1426*x13 - (r1427*x12*x14 - (r1426 + r1429)*x12)*x23)/(x12^2*x23),\n",
       "  a25: r1433,\n",
       "  a34: -(r1427*x12*x24 - r1426)/(x12*x23),\n",
       "  a35: -(r1428*x12*x14*x25 - r1426*x14 - (r1433*x12^2 - r1429*x12)*x24)/(x12*x14*x23 - x12*x13*x24),\n",
       "  a45: (r1428*x12*x13*x25 - r1426*x13 - (r1433*x12^2 - r1429*x12)*x23)/(x12*x14*x23 - x12*x13*x24)}]"
      ]
     },
     "metadata": {},
     "output_type": "display_data"
    }
   ],
   "source": [
    "#x4\n",
    "#----------------------\n",
    "#x14 \\neq x13*x24/x23\n",
    "#----------------------\n",
    "reset()\n",
    "\n",
    "var('x12,x13,x14,x15,x23,x24,x25,x34,x35,x45')\n",
    "var('d1,d2,d3,d4,d5')\n",
    "var('a12,a13,a14,a15,a23,a24,a25,a34,a35,a45')\n",
    "\n",
    "load_attach_path('C:\\\\Users\\\\julia\\\\Documents\\\\unb\\\\doutorado\\\\pensar\\\\codigo_sage_v2\\\\maquina\\\\x4')\n",
    "load('out_#011110.sage')\n",
    "\n",
    "m=matrix(QQ, [[0, 1, 1, 1, 0],\n",
    "              [0, 0, 1, 1, 1],\n",
    "              [0, 0, 0, 0, 0],\n",
    "              [0, 0, 0, 0, 0],\n",
    "              [0, 0, 0, 0, 0]])\n",
    "        \n",
    "#entry of matrix: (i,j) line i collum j, means (i-1,j-1)\n",
    "sol=solve([ eq1==m[0,1],\teq2==m[0,2],\teq3==m[0,3],\teq4==m[0,4],\t\n",
    "                                            eq5==m[1,2],    eq6==m[1,3],\n",
    "                                                            eq7==m[1,4], eq8==m[2,4]],d1,d2,d3,d4,d5,a12,a13,a14,a15,a23,a24,a25,a34,a35,a45, solution_dict=True)\n",
    "\n",
    "show(m)\n",
    "show(sol)\n",
    "#latex(sol)"
   ]
  },
  {
   "cell_type": "code",
   "execution_count": 83,
   "metadata": {},
   "outputs": [
    {
     "data": {
      "text/html": [
       "<html><script type=\"math/tex; mode=display\">\\newcommand{\\Bold}[1]{\\mathbf{#1}}\\left(\\begin{array}{rrrrr}\n",
       "0 & 1 & 1 & 1 & 0 \\\\\n",
       "0 & 0 & 1 & 1 & 1 \\\\\n",
       "0 & 0 & 0 & 0 & 0 \\\\\n",
       "0 & 0 & 0 & 0 & 0 \\\\\n",
       "0 & 0 & 0 & 0 & 0\n",
       "\\end{array}\\right)</script></html>"
      ],
      "text/latex": [
       "$$\\newcommand{\\Bold}[1]{\\mathbf{#1}}\\left(\\begin{array}{rrrrr}\n",
       "0 & 1 & 1 & 1 & 0 \\\\\n",
       "0 & 0 & 1 & 1 & 1 \\\\\n",
       "0 & 0 & 0 & 0 & 0 \\\\\n",
       "0 & 0 & 0 & 0 & 0 \\\\\n",
       "0 & 0 & 0 & 0 & 0\n",
       "\\end{array}\\right)$$"
      ],
      "text/plain": [
       "[0 1 1 1 0]\n",
       "[0 0 1 1 1]\n",
       "[0 0 0 0 0]\n",
       "[0 0 0 0 0]\n",
       "[0 0 0 0 0]"
      ]
     },
     "metadata": {},
     "output_type": "display_data"
    },
    {
     "data": {
      "text/html": [
       "<html><script type=\"math/tex; mode=display\">\\newcommand{\\Bold}[1]{\\mathbf{#1}}\\left[\\left\\{d_{1} : 0, d_{2} : 0, d_{3} : 0, d_{4} : r_{1398}, d_{5} : r_{1399}, a_{12} : r_{1400}, a_{13} : r_{1401}, a_{14} : r_{1402}, a_{15} : r_{1403}, a_{23} : r_{1404}, a_{24} : r_{1405}, a_{25} : r_{1406}, a_{34} : -\\frac{r_{1398} x_{24}}{x_{23}}, a_{35} : r_{1407}, a_{45} : -\\frac{r_{1407} x_{23} + r_{1399} x_{25}}{x_{24}}\\right\\}, \\left\\{d_{1} : r_{1408}, d_{2} : \\frac{r_{1408}}{x_{12}}, d_{3} : \\frac{r_{1408}}{x_{12} x_{23}}, d_{4} : r_{1409}, d_{5} : r_{1410}, a_{12} : r_{1411}, a_{13} : r_{1412}, a_{14} : r_{1413}, a_{15} : r_{1414}, a_{23} : \\frac{{\\left(r_{1408} + r_{1411}\\right)} x_{12} x_{23} - r_{1408} x_{13}}{x_{12}^{2} x_{23}}, a_{24} : \\frac{{\\left(r_{1408} + r_{1411}\\right)} x_{12} x_{23} - r_{1408} x_{13}}{x_{12}^{2} x_{23}}, a_{25} : \\frac{r_{1410} x_{12} x_{13} x_{25} + r_{1411} x_{12} x_{23} - r_{1408} x_{13}}{x_{12}^{2} x_{23}}, a_{34} : -\\frac{r_{1409} x_{12} x_{24} - r_{1408}}{x_{12} x_{23}}, a_{35} : r_{1415}, a_{45} : -\\frac{r_{1415} x_{12} x_{23} + r_{1410} x_{12} x_{25} - r_{1408}}{x_{12} x_{24}}\\right\\}\\right]</script></html>"
      ],
      "text/latex": [
       "$$\\newcommand{\\Bold}[1]{\\mathbf{#1}}\\left[\\left\\{d_{1} : 0, d_{2} : 0, d_{3} : 0, d_{4} : r_{1398}, d_{5} : r_{1399}, a_{12} : r_{1400}, a_{13} : r_{1401}, a_{14} : r_{1402}, a_{15} : r_{1403}, a_{23} : r_{1404}, a_{24} : r_{1405}, a_{25} : r_{1406}, a_{34} : -\\frac{r_{1398} x_{24}}{x_{23}}, a_{35} : r_{1407}, a_{45} : -\\frac{r_{1407} x_{23} + r_{1399} x_{25}}{x_{24}}\\right\\}, \\left\\{d_{1} : r_{1408}, d_{2} : \\frac{r_{1408}}{x_{12}}, d_{3} : \\frac{r_{1408}}{x_{12} x_{23}}, d_{4} : r_{1409}, d_{5} : r_{1410}, a_{12} : r_{1411}, a_{13} : r_{1412}, a_{14} : r_{1413}, a_{15} : r_{1414}, a_{23} : \\frac{{\\left(r_{1408} + r_{1411}\\right)} x_{12} x_{23} - r_{1408} x_{13}}{x_{12}^{2} x_{23}}, a_{24} : \\frac{{\\left(r_{1408} + r_{1411}\\right)} x_{12} x_{23} - r_{1408} x_{13}}{x_{12}^{2} x_{23}}, a_{25} : \\frac{r_{1410} x_{12} x_{13} x_{25} + r_{1411} x_{12} x_{23} - r_{1408} x_{13}}{x_{12}^{2} x_{23}}, a_{34} : -\\frac{r_{1409} x_{12} x_{24} - r_{1408}}{x_{12} x_{23}}, a_{35} : r_{1415}, a_{45} : -\\frac{r_{1415} x_{12} x_{23} + r_{1410} x_{12} x_{25} - r_{1408}}{x_{12} x_{24}}\\right\\}\\right]$$"
      ],
      "text/plain": [
       "[{d1: 0,\n",
       "  d2: 0,\n",
       "  d3: 0,\n",
       "  d4: r1398,\n",
       "  d5: r1399,\n",
       "  a12: r1400,\n",
       "  a13: r1401,\n",
       "  a14: r1402,\n",
       "  a15: r1403,\n",
       "  a23: r1404,\n",
       "  a24: r1405,\n",
       "  a25: r1406,\n",
       "  a34: -r1398*x24/x23,\n",
       "  a35: r1407,\n",
       "  a45: -(r1407*x23 + r1399*x25)/x24},\n",
       " {d1: r1408,\n",
       "  d2: r1408/x12,\n",
       "  d3: r1408/(x12*x23),\n",
       "  d4: r1409,\n",
       "  d5: r1410,\n",
       "  a12: r1411,\n",
       "  a13: r1412,\n",
       "  a14: r1413,\n",
       "  a15: r1414,\n",
       "  a23: ((r1408 + r1411)*x12*x23 - r1408*x13)/(x12^2*x23),\n",
       "  a24: ((r1408 + r1411)*x12*x23 - r1408*x13)/(x12^2*x23),\n",
       "  a25: (r1410*x12*x13*x25 + r1411*x12*x23 - r1408*x13)/(x12^2*x23),\n",
       "  a34: -(r1409*x12*x24 - r1408)/(x12*x23),\n",
       "  a35: r1415,\n",
       "  a45: -(r1415*x12*x23 + r1410*x12*x25 - r1408)/(x12*x24)}]"
      ]
     },
     "metadata": {},
     "output_type": "display_data"
    }
   ],
   "source": [
    "#x4\n",
    "#----------------------\n",
    "#x14 = x13*x24/x23\n",
    "#----------------------\n",
    "reset()\n",
    "\n",
    "var('x12,x13,x14,x15,x23,x24,x25,x34,x35,x45')\n",
    "var('d1,d2,d3,d4,d5')\n",
    "var('a12,a13,a14,a15,a23,a24,a25,a34,a35,a45')\n",
    "\n",
    "#011110\n",
    "eq1=(d2*x12)/(d1) \n",
    "eq2=(a23*d2*x12+d2*d3*x13-a12*d3*x23)/(d1*d2) \n",
    "eq3=(a24*d2*x12+a34*d2*x13+d2*d4*((x13*x24)/x23)-a12*a34*x23-a12*d4*x24)/(d1*d2) \n",
    "eq4=(a25*d2*d3*x12+a35*d2*d3*x13+a45*d2*d3*((x13*x24)/x23)+d2*d3*d5*0-a12*a35*d3*x23-a12*a45*d3*x24-a12*d3*d5*x25+a12*a23*d5*0-a13*d2*d5*0)/(d1*d2*d3) \n",
    "eq5=(d3*x23)/(d2) \n",
    "eq6=(a34*x23+d4*x24)/(d2) \n",
    "eq7=(a35*d3*x23+a45*d3*x24+d3*d5*x25-a23*d5*0)/(d2*d3) \n",
    "eq8=(d5*0)/(d3) \n",
    "\n",
    "\n",
    "m=matrix(QQ, [[0, 1, 1, 1, 0],\n",
    "              [0, 0, 1, 1, 1],\n",
    "              [0, 0, 0, 0, 0],\n",
    "              [0, 0, 0, 0, 0],\n",
    "              [0, 0, 0, 0, 0]])\n",
    "        \n",
    "#entry of matrix: (i,j) line i collum j, means (i-1,j-1)\n",
    "sol=solve([ eq1==m[0,1],\teq2==m[0,2],\teq3==m[0,3],\teq4==m[0,4],\t\n",
    "                                            eq5==m[1,2],    eq6==m[1,3],\n",
    "                                                            eq7==m[1,4], eq8==m[2,4]],d1,d2,d3,d4,d5,a12,a13,a14,a15,a23,a24,a25,a34,a35,a45, solution_dict=True)\n",
    "\n",
    "show(m)\n",
    "show(sol)\n",
    "#latex(sol)"
   ]
  },
  {
   "cell_type": "code",
   "execution_count": 32,
   "metadata": {},
   "outputs": [
    {
     "data": {
      "text/html": [
       "<html><script type=\"math/tex; mode=display\">\\newcommand{\\Bold}[1]{\\mathbf{#1}}\\left(\\begin{array}{rrrrr}\n",
       "0 & 1 & 1 & 1 & 1 \\\\\n",
       "0 & 0 & 1 & 1 & 1 \\\\\n",
       "0 & 0 & 0 & 0 & 0 \\\\\n",
       "0 & 0 & 0 & 0 & 0 \\\\\n",
       "0 & 0 & 0 & 0 & 0\n",
       "\\end{array}\\right)</script></html>"
      ],
      "text/latex": [
       "$$\\newcommand{\\Bold}[1]{\\mathbf{#1}}\\left(\\begin{array}{rrrrr}\n",
       "0 & 1 & 1 & 1 & 1 \\\\\n",
       "0 & 0 & 1 & 1 & 1 \\\\\n",
       "0 & 0 & 0 & 0 & 0 \\\\\n",
       "0 & 0 & 0 & 0 & 0 \\\\\n",
       "0 & 0 & 0 & 0 & 0\n",
       "\\end{array}\\right)$$"
      ],
      "text/plain": [
       "[0 1 1 1 1]\n",
       "[0 0 1 1 1]\n",
       "[0 0 0 0 0]\n",
       "[0 0 0 0 0]\n",
       "[0 0 0 0 0]"
      ]
     },
     "metadata": {},
     "output_type": "display_data"
    },
    {
     "data": {
      "text/html": [
       "<html><script type=\"math/tex; mode=display\">\\newcommand{\\Bold}[1]{\\mathbf{#1}}\\left[\\left\\{d_{1} : 0, d_{2} : 0, d_{3} : 0, d_{4} : r_{559}, d_{5} : r_{560}, a_{12} : r_{561}, a_{13} : r_{562}, a_{14} : r_{563}, a_{15} : r_{564}, a_{23} : r_{565}, a_{24} : r_{566}, a_{25} : r_{567}, a_{34} : -\\frac{r_{559} x_{24}}{x_{23}}, a_{35} : r_{568}, a_{45} : -\\frac{r_{568} x_{23} + r_{560} x_{25}}{x_{24}}\\right\\}, \\left\\{d_{1} : r_{569}, d_{2} : \\frac{r_{569}}{x_{12}}, d_{3} : \\frac{r_{569}}{x_{12} x_{23}}, d_{4} : r_{570}, d_{5} : r_{571}, a_{12} : r_{572}, a_{13} : r_{573}, a_{14} : r_{574}, a_{15} : r_{575}, a_{23} : \\frac{{\\left(r_{569} + r_{572}\\right)} x_{12} x_{23} - r_{569} x_{13}}{x_{12}^{2} x_{23}}, a_{24} : \\frac{r_{570} x_{12} x_{13} x_{24} - r_{569} x_{13} - {\\left(r_{570} x_{12} x_{14} - {\\left(r_{569} + r_{572}\\right)} x_{12}\\right)} x_{23}}{x_{12}^{2} x_{23}}, a_{25} : r_{576}, a_{34} : -\\frac{r_{570} x_{12} x_{24} - r_{569}}{x_{12} x_{23}}, a_{35} : -\\frac{r_{571} x_{12} x_{14} x_{25} - r_{569} x_{14} - {\\left(r_{576} x_{12}^{2} + r_{571} x_{12} x_{15} - {\\left(r_{569} + r_{572}\\right)} x_{12}\\right)} x_{24}}{x_{12} x_{14} x_{23} - x_{12} x_{13} x_{24}}, a_{45} : \\frac{r_{571} x_{12} x_{13} x_{25} - r_{569} x_{13} - {\\left(r_{576} x_{12}^{2} + r_{571} x_{12} x_{15} - {\\left(r_{569} + r_{572}\\right)} x_{12}\\right)} x_{23}}{x_{12} x_{14} x_{23} - x_{12} x_{13} x_{24}}\\right\\}\\right]</script></html>"
      ],
      "text/latex": [
       "$$\\newcommand{\\Bold}[1]{\\mathbf{#1}}\\left[\\left\\{d_{1} : 0, d_{2} : 0, d_{3} : 0, d_{4} : r_{559}, d_{5} : r_{560}, a_{12} : r_{561}, a_{13} : r_{562}, a_{14} : r_{563}, a_{15} : r_{564}, a_{23} : r_{565}, a_{24} : r_{566}, a_{25} : r_{567}, a_{34} : -\\frac{r_{559} x_{24}}{x_{23}}, a_{35} : r_{568}, a_{45} : -\\frac{r_{568} x_{23} + r_{560} x_{25}}{x_{24}}\\right\\}, \\left\\{d_{1} : r_{569}, d_{2} : \\frac{r_{569}}{x_{12}}, d_{3} : \\frac{r_{569}}{x_{12} x_{23}}, d_{4} : r_{570}, d_{5} : r_{571}, a_{12} : r_{572}, a_{13} : r_{573}, a_{14} : r_{574}, a_{15} : r_{575}, a_{23} : \\frac{{\\left(r_{569} + r_{572}\\right)} x_{12} x_{23} - r_{569} x_{13}}{x_{12}^{2} x_{23}}, a_{24} : \\frac{r_{570} x_{12} x_{13} x_{24} - r_{569} x_{13} - {\\left(r_{570} x_{12} x_{14} - {\\left(r_{569} + r_{572}\\right)} x_{12}\\right)} x_{23}}{x_{12}^{2} x_{23}}, a_{25} : r_{576}, a_{34} : -\\frac{r_{570} x_{12} x_{24} - r_{569}}{x_{12} x_{23}}, a_{35} : -\\frac{r_{571} x_{12} x_{14} x_{25} - r_{569} x_{14} - {\\left(r_{576} x_{12}^{2} + r_{571} x_{12} x_{15} - {\\left(r_{569} + r_{572}\\right)} x_{12}\\right)} x_{24}}{x_{12} x_{14} x_{23} - x_{12} x_{13} x_{24}}, a_{45} : \\frac{r_{571} x_{12} x_{13} x_{25} - r_{569} x_{13} - {\\left(r_{576} x_{12}^{2} + r_{571} x_{12} x_{15} - {\\left(r_{569} + r_{572}\\right)} x_{12}\\right)} x_{23}}{x_{12} x_{14} x_{23} - x_{12} x_{13} x_{24}}\\right\\}\\right]$$"
      ],
      "text/plain": [
       "[{d1: 0,\n",
       "  d2: 0,\n",
       "  d3: 0,\n",
       "  d4: r559,\n",
       "  d5: r560,\n",
       "  a12: r561,\n",
       "  a13: r562,\n",
       "  a14: r563,\n",
       "  a15: r564,\n",
       "  a23: r565,\n",
       "  a24: r566,\n",
       "  a25: r567,\n",
       "  a34: -r559*x24/x23,\n",
       "  a35: r568,\n",
       "  a45: -(r568*x23 + r560*x25)/x24},\n",
       " {d1: r569,\n",
       "  d2: r569/x12,\n",
       "  d3: r569/(x12*x23),\n",
       "  d4: r570,\n",
       "  d5: r571,\n",
       "  a12: r572,\n",
       "  a13: r573,\n",
       "  a14: r574,\n",
       "  a15: r575,\n",
       "  a23: ((r569 + r572)*x12*x23 - r569*x13)/(x12^2*x23),\n",
       "  a24: (r570*x12*x13*x24 - r569*x13 - (r570*x12*x14 - (r569 + r572)*x12)*x23)/(x12^2*x23),\n",
       "  a25: r576,\n",
       "  a34: -(r570*x12*x24 - r569)/(x12*x23),\n",
       "  a35: -(r571*x12*x14*x25 - r569*x14 - (r576*x12^2 + r571*x12*x15 - (r569 + r572)*x12)*x24)/(x12*x14*x23 - x12*x13*x24),\n",
       "  a45: (r571*x12*x13*x25 - r569*x13 - (r576*x12^2 + r571*x12*x15 - (r569 + r572)*x12)*x23)/(x12*x14*x23 - x12*x13*x24)}]"
      ]
     },
     "metadata": {},
     "output_type": "display_data"
    }
   ],
   "source": [
    "#x4\n",
    "#----------------------\n",
    "#x14 \\neq x13*x24/x23\n",
    "#----------------------\n",
    "reset()\n",
    "\n",
    "var('x12,x13,x14,x15,x23,x24,x25,x34,x35,x45')\n",
    "var('d1,d2,d3,d4,d5')\n",
    "var('a12,a13,a14,a15,a23,a24,a25,a34,a35,a45')\n",
    "\n",
    "load_attach_path('C:\\\\Users\\\\julia\\\\Documents\\\\unb\\\\doutorado\\\\pensar\\\\codigo_sage_v2\\\\maquina\\\\x4')\n",
    "load('out_#011111.sage')\n",
    "\n",
    "m=matrix(QQ, [[0, 1, 1, 1, 1],\n",
    "              [0, 0, 1, 1, 1],\n",
    "              [0, 0, 0, 0, 0],\n",
    "              [0, 0, 0, 0, 0],\n",
    "              [0, 0, 0, 0, 0]])\n",
    "        \n",
    "#entry of matrix: (i,j) line i collum j, means (i-1,j-1)\n",
    "sol=solve([ eq1==m[0,1],\teq2==m[0,2],\teq3==m[0,3],\teq4==m[0,4],\t\n",
    "                                            eq5==m[1,2],    eq6==m[1,3],\n",
    "                                                            eq7==m[1,4], eq8==m[2,4]],d1,d2,d3,d4,d5,a12,a13,a14,a15,a23,a24,a25,a34,a35,a45, solution_dict=True)\n",
    "\n",
    "show(m)\n",
    "show(sol)\n",
    "#latex(sol)"
   ]
  },
  {
   "cell_type": "code",
   "execution_count": 85,
   "metadata": {},
   "outputs": [
    {
     "data": {
      "text/html": [
       "<html><script type=\"math/tex; mode=display\">\\newcommand{\\Bold}[1]{\\mathbf{#1}}\\left(\\begin{array}{rrrrr}\n",
       "0 & 1 & 1 & 1 & 1 \\\\\n",
       "0 & 0 & 1 & 1 & 1 \\\\\n",
       "0 & 0 & 0 & 0 & 0 \\\\\n",
       "0 & 0 & 0 & 0 & 0 \\\\\n",
       "0 & 0 & 0 & 0 & 0\n",
       "\\end{array}\\right)</script></html>"
      ],
      "text/latex": [
       "$$\\newcommand{\\Bold}[1]{\\mathbf{#1}}\\left(\\begin{array}{rrrrr}\n",
       "0 & 1 & 1 & 1 & 1 \\\\\n",
       "0 & 0 & 1 & 1 & 1 \\\\\n",
       "0 & 0 & 0 & 0 & 0 \\\\\n",
       "0 & 0 & 0 & 0 & 0 \\\\\n",
       "0 & 0 & 0 & 0 & 0\n",
       "\\end{array}\\right)$$"
      ],
      "text/plain": [
       "[0 1 1 1 1]\n",
       "[0 0 1 1 1]\n",
       "[0 0 0 0 0]\n",
       "[0 0 0 0 0]\n",
       "[0 0 0 0 0]"
      ]
     },
     "metadata": {},
     "output_type": "display_data"
    },
    {
     "data": {
      "text/html": [
       "<html><script type=\"math/tex; mode=display\">\\newcommand{\\Bold}[1]{\\mathbf{#1}}\\left[\\left\\{d_{1} : 0, d_{2} : 0, d_{3} : 0, d_{4} : r_{1434}, d_{5} : r_{1435}, a_{12} : r_{1436}, a_{13} : r_{1437}, a_{14} : r_{1438}, a_{15} : r_{1439}, a_{23} : r_{1440}, a_{24} : r_{1441}, a_{25} : r_{1442}, a_{34} : -\\frac{r_{1434} x_{24}}{x_{23}}, a_{35} : r_{1443}, a_{45} : -\\frac{r_{1443} x_{23} + r_{1435} x_{25}}{x_{24}}\\right\\}, \\left\\{d_{1} : r_{1444}, d_{2} : \\frac{r_{1444}}{x_{12}}, d_{3} : \\frac{r_{1444}}{x_{12} x_{23}}, d_{4} : r_{1445}, d_{5} : r_{1446}, a_{12} : r_{1447}, a_{13} : r_{1448}, a_{14} : r_{1449}, a_{15} : r_{1450}, a_{23} : \\frac{{\\left(r_{1444} + r_{1447}\\right)} x_{12} x_{23} - r_{1444} x_{13}}{x_{12}^{2} x_{23}}, a_{24} : \\frac{{\\left(r_{1444} + r_{1447}\\right)} x_{12} x_{23} - r_{1444} x_{13}}{x_{12}^{2} x_{23}}, a_{25} : \\frac{r_{1446} x_{12} x_{13} x_{25} - r_{1444} x_{13} - {\\left(r_{1446} x_{12} x_{15} - {\\left(r_{1444} + r_{1447}\\right)} x_{12}\\right)} x_{23}}{x_{12}^{2} x_{23}}, a_{34} : -\\frac{r_{1445} x_{12} x_{24} - r_{1444}}{x_{12} x_{23}}, a_{35} : r_{1451}, a_{45} : -\\frac{r_{1451} x_{12} x_{23} + r_{1446} x_{12} x_{25} - r_{1444}}{x_{12} x_{24}}\\right\\}\\right]</script></html>"
      ],
      "text/latex": [
       "$$\\newcommand{\\Bold}[1]{\\mathbf{#1}}\\left[\\left\\{d_{1} : 0, d_{2} : 0, d_{3} : 0, d_{4} : r_{1434}, d_{5} : r_{1435}, a_{12} : r_{1436}, a_{13} : r_{1437}, a_{14} : r_{1438}, a_{15} : r_{1439}, a_{23} : r_{1440}, a_{24} : r_{1441}, a_{25} : r_{1442}, a_{34} : -\\frac{r_{1434} x_{24}}{x_{23}}, a_{35} : r_{1443}, a_{45} : -\\frac{r_{1443} x_{23} + r_{1435} x_{25}}{x_{24}}\\right\\}, \\left\\{d_{1} : r_{1444}, d_{2} : \\frac{r_{1444}}{x_{12}}, d_{3} : \\frac{r_{1444}}{x_{12} x_{23}}, d_{4} : r_{1445}, d_{5} : r_{1446}, a_{12} : r_{1447}, a_{13} : r_{1448}, a_{14} : r_{1449}, a_{15} : r_{1450}, a_{23} : \\frac{{\\left(r_{1444} + r_{1447}\\right)} x_{12} x_{23} - r_{1444} x_{13}}{x_{12}^{2} x_{23}}, a_{24} : \\frac{{\\left(r_{1444} + r_{1447}\\right)} x_{12} x_{23} - r_{1444} x_{13}}{x_{12}^{2} x_{23}}, a_{25} : \\frac{r_{1446} x_{12} x_{13} x_{25} - r_{1444} x_{13} - {\\left(r_{1446} x_{12} x_{15} - {\\left(r_{1444} + r_{1447}\\right)} x_{12}\\right)} x_{23}}{x_{12}^{2} x_{23}}, a_{34} : -\\frac{r_{1445} x_{12} x_{24} - r_{1444}}{x_{12} x_{23}}, a_{35} : r_{1451}, a_{45} : -\\frac{r_{1451} x_{12} x_{23} + r_{1446} x_{12} x_{25} - r_{1444}}{x_{12} x_{24}}\\right\\}\\right]$$"
      ],
      "text/plain": [
       "[{d1: 0,\n",
       "  d2: 0,\n",
       "  d3: 0,\n",
       "  d4: r1434,\n",
       "  d5: r1435,\n",
       "  a12: r1436,\n",
       "  a13: r1437,\n",
       "  a14: r1438,\n",
       "  a15: r1439,\n",
       "  a23: r1440,\n",
       "  a24: r1441,\n",
       "  a25: r1442,\n",
       "  a34: -r1434*x24/x23,\n",
       "  a35: r1443,\n",
       "  a45: -(r1443*x23 + r1435*x25)/x24},\n",
       " {d1: r1444,\n",
       "  d2: r1444/x12,\n",
       "  d3: r1444/(x12*x23),\n",
       "  d4: r1445,\n",
       "  d5: r1446,\n",
       "  a12: r1447,\n",
       "  a13: r1448,\n",
       "  a14: r1449,\n",
       "  a15: r1450,\n",
       "  a23: ((r1444 + r1447)*x12*x23 - r1444*x13)/(x12^2*x23),\n",
       "  a24: ((r1444 + r1447)*x12*x23 - r1444*x13)/(x12^2*x23),\n",
       "  a25: (r1446*x12*x13*x25 - r1444*x13 - (r1446*x12*x15 - (r1444 + r1447)*x12)*x23)/(x12^2*x23),\n",
       "  a34: -(r1445*x12*x24 - r1444)/(x12*x23),\n",
       "  a35: r1451,\n",
       "  a45: -(r1451*x12*x23 + r1446*x12*x25 - r1444)/(x12*x24)}]"
      ]
     },
     "metadata": {},
     "output_type": "display_data"
    }
   ],
   "source": [
    "#x4\n",
    "#----------------------\n",
    "#x14 = x13*x24/x23\n",
    "#----------------------\n",
    "reset()\n",
    "\n",
    "var('x12,x13,x14,x15,x23,x24,x25,x34,x35,x45')\n",
    "var('d1,d2,d3,d4,d5')\n",
    "var('a12,a13,a14,a15,a23,a24,a25,a34,a35,a45')\n",
    "\n",
    "#011111\n",
    "eq1=(d2*x12)/(d1) \n",
    "eq2=(a23*d2*x12+d2*d3*x13-a12*d3*x23)/(d1*d2) \n",
    "eq3=(a24*d2*x12+a34*d2*x13+d2*d4*((x13*x24)/x23)-a12*a34*x23-a12*d4*x24)/(d1*d2) \n",
    "eq4=(a25*d2*d3*x12+a35*d2*d3*x13+a45*d2*d3*((x13*x24)/x23)+d2*d3*d5*x15-a12*a35*d3*x23-a12*a45*d3*x24-a12*d3*d5*x25+a12*a23*d5*0-a13*d2*d5*0)/(d1*d2*d3) \n",
    "eq5=(d3*x23)/(d2) \n",
    "eq6=(a34*x23+d4*x24)/(d2) \n",
    "eq7=(a35*d3*x23+a45*d3*x24+d3*d5*x25-a23*d5*0)/(d2*d3) \n",
    "eq8=(d5*0)/(d3) \n",
    "\n",
    "m=matrix(QQ, [[0, 1, 1, 1, 1],\n",
    "              [0, 0, 1, 1, 1],\n",
    "              [0, 0, 0, 0, 0],\n",
    "              [0, 0, 0, 0, 0],\n",
    "              [0, 0, 0, 0, 0]])\n",
    "        \n",
    "#entry of matrix: (i,j) line i collum j, means (i-1,j-1)\n",
    "sol=solve([ eq1==m[0,1],\teq2==m[0,2],\teq3==m[0,3],\teq4==m[0,4],\t\n",
    "                                            eq5==m[1,2],    eq6==m[1,3],\n",
    "                                                            eq7==m[1,4], eq8==m[2,4]],d1,d2,d3,d4,d5,a12,a13,a14,a15,a23,a24,a25,a34,a35,a45, solution_dict=True)\n",
    "\n",
    "show(m)\n",
    "show(sol)\n",
    "#latex(sol)"
   ]
  },
  {
   "cell_type": "code",
   "execution_count": 33,
   "metadata": {},
   "outputs": [
    {
     "data": {
      "text/html": [
       "<html><script type=\"math/tex; mode=display\">\\newcommand{\\Bold}[1]{\\mathbf{#1}}\\left(\\begin{array}{rrrrr}\n",
       "0 & 1 & 0 & 0 & 0 \\\\\n",
       "0 & 0 & 1 & 0 & 0 \\\\\n",
       "0 & 0 & 0 & 0 & 1 \\\\\n",
       "0 & 0 & 0 & 0 & 0 \\\\\n",
       "0 & 0 & 0 & 0 & 0\n",
       "\\end{array}\\right)</script></html>"
      ],
      "text/latex": [
       "$$\\newcommand{\\Bold}[1]{\\mathbf{#1}}\\left(\\begin{array}{rrrrr}\n",
       "0 & 1 & 0 & 0 & 0 \\\\\n",
       "0 & 0 & 1 & 0 & 0 \\\\\n",
       "0 & 0 & 0 & 0 & 1 \\\\\n",
       "0 & 0 & 0 & 0 & 0 \\\\\n",
       "0 & 0 & 0 & 0 & 0\n",
       "\\end{array}\\right)$$"
      ],
      "text/plain": [
       "[0 1 0 0 0]\n",
       "[0 0 1 0 0]\n",
       "[0 0 0 0 1]\n",
       "[0 0 0 0 0]\n",
       "[0 0 0 0 0]"
      ]
     },
     "metadata": {},
     "output_type": "display_data"
    },
    {
     "data": {
      "text/html": [
       "<html><script type=\"math/tex; mode=display\">\\newcommand{\\Bold}[1]{\\mathbf{#1}}\\left[\\left\\{d_{1} : 0, d_{2} : 0, d_{3} : 0, d_{4} : r_{577}, d_{5} : 0, a_{12} : r_{578}, a_{13} : r_{579}, a_{14} : r_{580}, a_{15} : r_{581}, a_{23} : r_{582}, a_{24} : r_{583}, a_{25} : r_{584}, a_{34} : 0, a_{35} : r_{585}, a_{45} : r_{586}\\right\\}, \\left\\{d_{1} : r_{587}, d_{2} : \\frac{r_{587}}{x_{12}}, d_{3} : \\frac{r_{587}}{x_{12} x_{23}}, d_{4} : r_{588}, d_{5} : \\frac{r_{587}}{x_{12} x_{23} x_{35}}, a_{12} : r_{589}, a_{13} : r_{590}, a_{14} : r_{591}, a_{15} : r_{592}, a_{23} : \\frac{r_{589}}{x_{12}}, a_{24} : 0, a_{25} : \\frac{r_{590}}{x_{12}}, a_{34} : 0, a_{35} : \\frac{r_{589}}{x_{12} x_{23}}, a_{45} : r_{593}\\right\\}\\right]</script></html>"
      ],
      "text/latex": [
       "$$\\newcommand{\\Bold}[1]{\\mathbf{#1}}\\left[\\left\\{d_{1} : 0, d_{2} : 0, d_{3} : 0, d_{4} : r_{577}, d_{5} : 0, a_{12} : r_{578}, a_{13} : r_{579}, a_{14} : r_{580}, a_{15} : r_{581}, a_{23} : r_{582}, a_{24} : r_{583}, a_{25} : r_{584}, a_{34} : 0, a_{35} : r_{585}, a_{45} : r_{586}\\right\\}, \\left\\{d_{1} : r_{587}, d_{2} : \\frac{r_{587}}{x_{12}}, d_{3} : \\frac{r_{587}}{x_{12} x_{23}}, d_{4} : r_{588}, d_{5} : \\frac{r_{587}}{x_{12} x_{23} x_{35}}, a_{12} : r_{589}, a_{13} : r_{590}, a_{14} : r_{591}, a_{15} : r_{592}, a_{23} : \\frac{r_{589}}{x_{12}}, a_{24} : 0, a_{25} : \\frac{r_{590}}{x_{12}}, a_{34} : 0, a_{35} : \\frac{r_{589}}{x_{12} x_{23}}, a_{45} : r_{593}\\right\\}\\right]$$"
      ],
      "text/plain": [
       "[{d1: 0,\n",
       "  d2: 0,\n",
       "  d3: 0,\n",
       "  d4: r577,\n",
       "  d5: 0,\n",
       "  a12: r578,\n",
       "  a13: r579,\n",
       "  a14: r580,\n",
       "  a15: r581,\n",
       "  a23: r582,\n",
       "  a24: r583,\n",
       "  a25: r584,\n",
       "  a34: 0,\n",
       "  a35: r585,\n",
       "  a45: r586},\n",
       " {d1: r587,\n",
       "  d2: r587/x12,\n",
       "  d3: r587/(x12*x23),\n",
       "  d4: r588,\n",
       "  d5: r587/(x12*x23*x35),\n",
       "  a12: r589,\n",
       "  a13: r590,\n",
       "  a14: r591,\n",
       "  a15: r592,\n",
       "  a23: r589/x12,\n",
       "  a24: 0,\n",
       "  a25: r590/x12,\n",
       "  a34: 0,\n",
       "  a35: r589/(x12*x23),\n",
       "  a45: r593}]"
      ]
     },
     "metadata": {},
     "output_type": "display_data"
    }
   ],
   "source": [
    "#x4\n",
    "reset()\n",
    "\n",
    "var('x12,x13,x14,x15,x23,x24,x25,x34,x35,x45')\n",
    "var('d1,d2,d3,d4,d5')\n",
    "var('a12,a13,a14,a15,a23,a24,a25,a34,a35,a45')\n",
    "\n",
    "load_attach_path('C:\\\\Users\\\\julia\\\\Documents\\\\unb\\\\doutorado\\\\pensar\\\\codigo_sage_v2\\\\maquina\\\\x4')\n",
    "load('out_#100000.sage')\n",
    "\n",
    "m=matrix(QQ, [[0, 1, 0, 0, 0],\n",
    "              [0, 0, 1, 0, 0],\n",
    "              [0, 0, 0, 0, 1],\n",
    "              [0, 0, 0, 0, 0],\n",
    "              [0, 0, 0, 0, 0]])\n",
    "        \n",
    "#entry of matrix: (i,j) line i collum j, means (i-1,j-1)\n",
    "sol=solve([ eq1==m[0,1],\teq2==m[0,2],\teq3==m[0,3],\teq4==m[0,4],\t\n",
    "                                            eq5==m[1,2],    eq6==m[1,3],\n",
    "                                                            eq7==m[1,4], eq8==m[2,4]],d1,d2,d3,d4,d5,a12,a13,a14,a15,a23,a24,a25,a34,a35,a45, solution_dict=True)\n",
    "\n",
    "show(m)\n",
    "show(sol)\n",
    "#latex(sol)"
   ]
  },
  {
   "cell_type": "code",
   "execution_count": 34,
   "metadata": {},
   "outputs": [
    {
     "data": {
      "text/html": [
       "<html><script type=\"math/tex; mode=display\">\\newcommand{\\Bold}[1]{\\mathbf{#1}}\\left(\\begin{array}{rrrrr}\n",
       "0 & 1 & 0 & 0 & 1 \\\\\n",
       "0 & 0 & 1 & 0 & 0 \\\\\n",
       "0 & 0 & 0 & 0 & 1 \\\\\n",
       "0 & 0 & 0 & 0 & 0 \\\\\n",
       "0 & 0 & 0 & 0 & 0\n",
       "\\end{array}\\right)</script></html>"
      ],
      "text/latex": [
       "$$\\newcommand{\\Bold}[1]{\\mathbf{#1}}\\left(\\begin{array}{rrrrr}\n",
       "0 & 1 & 0 & 0 & 1 \\\\\n",
       "0 & 0 & 1 & 0 & 0 \\\\\n",
       "0 & 0 & 0 & 0 & 1 \\\\\n",
       "0 & 0 & 0 & 0 & 0 \\\\\n",
       "0 & 0 & 0 & 0 & 0\n",
       "\\end{array}\\right)$$"
      ],
      "text/plain": [
       "[0 1 0 0 1]\n",
       "[0 0 1 0 0]\n",
       "[0 0 0 0 1]\n",
       "[0 0 0 0 0]\n",
       "[0 0 0 0 0]"
      ]
     },
     "metadata": {},
     "output_type": "display_data"
    },
    {
     "data": {
      "text/html": [
       "<html><script type=\"math/tex; mode=display\">\\newcommand{\\Bold}[1]{\\mathbf{#1}}\\left[\\left\\{d_{1} : 0, d_{2} : 0, d_{3} : 0, d_{4} : r_{594}, d_{5} : 0, a_{12} : r_{595}, a_{13} : r_{596}, a_{14} : r_{597}, a_{15} : r_{598}, a_{23} : r_{599}, a_{24} : r_{600}, a_{25} : r_{601}, a_{34} : 0, a_{35} : r_{602}, a_{45} : r_{603}\\right\\}, \\left\\{d_{1} : r_{604}, d_{2} : \\frac{r_{604}}{x_{12}}, d_{3} : \\frac{r_{604}}{x_{12} x_{23}}, d_{4} : r_{605}, d_{5} : \\frac{r_{604}}{x_{12} x_{23} x_{35}}, a_{12} : r_{606}, a_{13} : r_{607}, a_{14} : r_{608}, a_{15} : r_{609}, a_{23} : \\frac{r_{606}}{x_{12}}, a_{24} : 0, a_{25} : \\frac{{\\left(r_{604} + r_{607}\\right)} x_{12} x_{23} x_{35} - r_{604} x_{15}}{x_{12}^{2} x_{23} x_{35}}, a_{34} : 0, a_{35} : \\frac{r_{606}}{x_{12} x_{23}}, a_{45} : r_{610}\\right\\}\\right]</script></html>"
      ],
      "text/latex": [
       "$$\\newcommand{\\Bold}[1]{\\mathbf{#1}}\\left[\\left\\{d_{1} : 0, d_{2} : 0, d_{3} : 0, d_{4} : r_{594}, d_{5} : 0, a_{12} : r_{595}, a_{13} : r_{596}, a_{14} : r_{597}, a_{15} : r_{598}, a_{23} : r_{599}, a_{24} : r_{600}, a_{25} : r_{601}, a_{34} : 0, a_{35} : r_{602}, a_{45} : r_{603}\\right\\}, \\left\\{d_{1} : r_{604}, d_{2} : \\frac{r_{604}}{x_{12}}, d_{3} : \\frac{r_{604}}{x_{12} x_{23}}, d_{4} : r_{605}, d_{5} : \\frac{r_{604}}{x_{12} x_{23} x_{35}}, a_{12} : r_{606}, a_{13} : r_{607}, a_{14} : r_{608}, a_{15} : r_{609}, a_{23} : \\frac{r_{606}}{x_{12}}, a_{24} : 0, a_{25} : \\frac{{\\left(r_{604} + r_{607}\\right)} x_{12} x_{23} x_{35} - r_{604} x_{15}}{x_{12}^{2} x_{23} x_{35}}, a_{34} : 0, a_{35} : \\frac{r_{606}}{x_{12} x_{23}}, a_{45} : r_{610}\\right\\}\\right]$$"
      ],
      "text/plain": [
       "[{d1: 0,\n",
       "  d2: 0,\n",
       "  d3: 0,\n",
       "  d4: r594,\n",
       "  d5: 0,\n",
       "  a12: r595,\n",
       "  a13: r596,\n",
       "  a14: r597,\n",
       "  a15: r598,\n",
       "  a23: r599,\n",
       "  a24: r600,\n",
       "  a25: r601,\n",
       "  a34: 0,\n",
       "  a35: r602,\n",
       "  a45: r603},\n",
       " {d1: r604,\n",
       "  d2: r604/x12,\n",
       "  d3: r604/(x12*x23),\n",
       "  d4: r605,\n",
       "  d5: r604/(x12*x23*x35),\n",
       "  a12: r606,\n",
       "  a13: r607,\n",
       "  a14: r608,\n",
       "  a15: r609,\n",
       "  a23: r606/x12,\n",
       "  a24: 0,\n",
       "  a25: ((r604 + r607)*x12*x23*x35 - r604*x15)/(x12^2*x23*x35),\n",
       "  a34: 0,\n",
       "  a35: r606/(x12*x23),\n",
       "  a45: r610}]"
      ]
     },
     "metadata": {},
     "output_type": "display_data"
    }
   ],
   "source": [
    "#x4\n",
    "reset()\n",
    "\n",
    "var('x12,x13,x14,x15,x23,x24,x25,x34,x35,x45')\n",
    "var('d1,d2,d3,d4,d5')\n",
    "var('a12,a13,a14,a15,a23,a24,a25,a34,a35,a45')\n",
    "\n",
    "load_attach_path('C:\\\\Users\\\\julia\\\\Documents\\\\unb\\\\doutorado\\\\pensar\\\\codigo_sage_v2\\\\maquina\\\\x4')\n",
    "load('out_#100001.sage')\n",
    "\n",
    "m=matrix(QQ, [[0, 1, 0, 0, 1],\n",
    "              [0, 0, 1, 0, 0],\n",
    "              [0, 0, 0, 0, 1],\n",
    "              [0, 0, 0, 0, 0],\n",
    "              [0, 0, 0, 0, 0]])\n",
    "        \n",
    "#entry of matrix: (i,j) line i collum j, means (i-1,j-1)\n",
    "sol=solve([ eq1==m[0,1],\teq2==m[0,2],\teq3==m[0,3],\teq4==m[0,4],\t\n",
    "                                            eq5==m[1,2],    eq6==m[1,3],\n",
    "                                                            eq7==m[1,4], eq8==m[2,4]],d1,d2,d3,d4,d5,a12,a13,a14,a15,a23,a24,a25,a34,a35,a45, solution_dict=True)\n",
    "\n",
    "show(m)\n",
    "show(sol)\n",
    "#latex(sol)"
   ]
  },
  {
   "cell_type": "code",
   "execution_count": 35,
   "metadata": {},
   "outputs": [
    {
     "data": {
      "text/html": [
       "<html><script type=\"math/tex; mode=display\">\\newcommand{\\Bold}[1]{\\mathbf{#1}}\\left(\\begin{array}{rrrrr}\n",
       "0 & 1 & 0 & 1 & 0 \\\\\n",
       "0 & 0 & 1 & 0 & 0 \\\\\n",
       "0 & 0 & 0 & 0 & 1 \\\\\n",
       "0 & 0 & 0 & 0 & 0 \\\\\n",
       "0 & 0 & 0 & 0 & 0\n",
       "\\end{array}\\right)</script></html>"
      ],
      "text/latex": [
       "$$\\newcommand{\\Bold}[1]{\\mathbf{#1}}\\left(\\begin{array}{rrrrr}\n",
       "0 & 1 & 0 & 1 & 0 \\\\\n",
       "0 & 0 & 1 & 0 & 0 \\\\\n",
       "0 & 0 & 0 & 0 & 1 \\\\\n",
       "0 & 0 & 0 & 0 & 0 \\\\\n",
       "0 & 0 & 0 & 0 & 0\n",
       "\\end{array}\\right)$$"
      ],
      "text/plain": [
       "[0 1 0 1 0]\n",
       "[0 0 1 0 0]\n",
       "[0 0 0 0 1]\n",
       "[0 0 0 0 0]\n",
       "[0 0 0 0 0]"
      ]
     },
     "metadata": {},
     "output_type": "display_data"
    },
    {
     "data": {
      "text/html": [
       "<html><script type=\"math/tex; mode=display\">\\newcommand{\\Bold}[1]{\\mathbf{#1}}\\left[\\left\\{d_{1} : 0, d_{2} : 0, d_{3} : 0, d_{4} : r_{611}, d_{5} : 0, a_{12} : r_{612}, a_{13} : r_{613}, a_{14} : r_{614}, a_{15} : r_{615}, a_{23} : r_{616}, a_{24} : r_{617}, a_{25} : r_{618}, a_{34} : 0, a_{35} : r_{619}, a_{45} : r_{620}\\right\\}, \\left\\{d_{1} : r_{621}, d_{2} : \\frac{r_{621}}{x_{12}}, d_{3} : \\frac{r_{621}}{x_{12} x_{23}}, d_{4} : r_{622}, d_{5} : \\frac{r_{621}}{x_{12} x_{23} x_{35}}, a_{12} : r_{623}, a_{13} : r_{624}, a_{14} : r_{625}, a_{15} : r_{626}, a_{23} : \\frac{r_{623}}{x_{12}}, a_{24} : -\\frac{r_{622} x_{14} - r_{621}}{x_{12}}, a_{25} : r_{627}, a_{34} : 0, a_{35} : \\frac{r_{623}}{x_{12} x_{23}}, a_{45} : -\\frac{r_{627} x_{12} - r_{624}}{x_{14}}\\right\\}\\right]</script></html>"
      ],
      "text/latex": [
       "$$\\newcommand{\\Bold}[1]{\\mathbf{#1}}\\left[\\left\\{d_{1} : 0, d_{2} : 0, d_{3} : 0, d_{4} : r_{611}, d_{5} : 0, a_{12} : r_{612}, a_{13} : r_{613}, a_{14} : r_{614}, a_{15} : r_{615}, a_{23} : r_{616}, a_{24} : r_{617}, a_{25} : r_{618}, a_{34} : 0, a_{35} : r_{619}, a_{45} : r_{620}\\right\\}, \\left\\{d_{1} : r_{621}, d_{2} : \\frac{r_{621}}{x_{12}}, d_{3} : \\frac{r_{621}}{x_{12} x_{23}}, d_{4} : r_{622}, d_{5} : \\frac{r_{621}}{x_{12} x_{23} x_{35}}, a_{12} : r_{623}, a_{13} : r_{624}, a_{14} : r_{625}, a_{15} : r_{626}, a_{23} : \\frac{r_{623}}{x_{12}}, a_{24} : -\\frac{r_{622} x_{14} - r_{621}}{x_{12}}, a_{25} : r_{627}, a_{34} : 0, a_{35} : \\frac{r_{623}}{x_{12} x_{23}}, a_{45} : -\\frac{r_{627} x_{12} - r_{624}}{x_{14}}\\right\\}\\right]$$"
      ],
      "text/plain": [
       "[{d1: 0,\n",
       "  d2: 0,\n",
       "  d3: 0,\n",
       "  d4: r611,\n",
       "  d5: 0,\n",
       "  a12: r612,\n",
       "  a13: r613,\n",
       "  a14: r614,\n",
       "  a15: r615,\n",
       "  a23: r616,\n",
       "  a24: r617,\n",
       "  a25: r618,\n",
       "  a34: 0,\n",
       "  a35: r619,\n",
       "  a45: r620},\n",
       " {d1: r621,\n",
       "  d2: r621/x12,\n",
       "  d3: r621/(x12*x23),\n",
       "  d4: r622,\n",
       "  d5: r621/(x12*x23*x35),\n",
       "  a12: r623,\n",
       "  a13: r624,\n",
       "  a14: r625,\n",
       "  a15: r626,\n",
       "  a23: r623/x12,\n",
       "  a24: -(r622*x14 - r621)/x12,\n",
       "  a25: r627,\n",
       "  a34: 0,\n",
       "  a35: r623/(x12*x23),\n",
       "  a45: -(r627*x12 - r624)/x14}]"
      ]
     },
     "metadata": {},
     "output_type": "display_data"
    }
   ],
   "source": [
    "#x4\n",
    "reset()\n",
    "\n",
    "var('x12,x13,x14,x15,x23,x24,x25,x34,x35,x45')\n",
    "var('d1,d2,d3,d4,d5')\n",
    "var('a12,a13,a14,a15,a23,a24,a25,a34,a35,a45')\n",
    "\n",
    "load_attach_path('C:\\\\Users\\\\julia\\\\Documents\\\\unb\\\\doutorado\\\\pensar\\\\codigo_sage_v2\\\\maquina\\\\x4')\n",
    "load('out_#100010.sage')\n",
    "\n",
    "m=matrix(QQ, [[0, 1, 0, 1, 0],\n",
    "              [0, 0, 1, 0, 0],\n",
    "              [0, 0, 0, 0, 1],\n",
    "              [0, 0, 0, 0, 0],\n",
    "              [0, 0, 0, 0, 0]])\n",
    "        \n",
    "#entry of matrix: (i,j) line i collum j, means (i-1,j-1)\n",
    "sol=solve([ eq1==m[0,1],\teq2==m[0,2],\teq3==m[0,3],\teq4==m[0,4],\t\n",
    "                                            eq5==m[1,2],    eq6==m[1,3],\n",
    "                                                            eq7==m[1,4], eq8==m[2,4]],d1,d2,d3,d4,d5,a12,a13,a14,a15,a23,a24,a25,a34,a35,a45, solution_dict=True)\n",
    "\n",
    "show(m)\n",
    "show(sol)\n",
    "#latex(sol)"
   ]
  },
  {
   "cell_type": "code",
   "execution_count": 36,
   "metadata": {},
   "outputs": [
    {
     "data": {
      "text/html": [
       "<html><script type=\"math/tex; mode=display\">\\newcommand{\\Bold}[1]{\\mathbf{#1}}\\left(\\begin{array}{rrrrr}\n",
       "0 & 1 & 0 & 1 & 1 \\\\\n",
       "0 & 0 & 1 & 0 & 0 \\\\\n",
       "0 & 0 & 0 & 0 & 1 \\\\\n",
       "0 & 0 & 0 & 0 & 0 \\\\\n",
       "0 & 0 & 0 & 0 & 0\n",
       "\\end{array}\\right)</script></html>"
      ],
      "text/latex": [
       "$$\\newcommand{\\Bold}[1]{\\mathbf{#1}}\\left(\\begin{array}{rrrrr}\n",
       "0 & 1 & 0 & 1 & 1 \\\\\n",
       "0 & 0 & 1 & 0 & 0 \\\\\n",
       "0 & 0 & 0 & 0 & 1 \\\\\n",
       "0 & 0 & 0 & 0 & 0 \\\\\n",
       "0 & 0 & 0 & 0 & 0\n",
       "\\end{array}\\right)$$"
      ],
      "text/plain": [
       "[0 1 0 1 1]\n",
       "[0 0 1 0 0]\n",
       "[0 0 0 0 1]\n",
       "[0 0 0 0 0]\n",
       "[0 0 0 0 0]"
      ]
     },
     "metadata": {},
     "output_type": "display_data"
    },
    {
     "data": {
      "text/html": [
       "<html><script type=\"math/tex; mode=display\">\\newcommand{\\Bold}[1]{\\mathbf{#1}}\\left[\\left\\{d_{1} : 0, d_{2} : 0, d_{3} : 0, d_{4} : r_{628}, d_{5} : 0, a_{12} : r_{629}, a_{13} : r_{630}, a_{14} : r_{631}, a_{15} : r_{632}, a_{23} : r_{633}, a_{24} : r_{634}, a_{25} : r_{635}, a_{34} : 0, a_{35} : r_{636}, a_{45} : r_{637}\\right\\}, \\left\\{d_{1} : r_{638}, d_{2} : \\frac{r_{638}}{x_{12}}, d_{3} : \\frac{r_{638}}{x_{12} x_{23}}, d_{4} : r_{639}, d_{5} : \\frac{r_{638}}{x_{12} x_{23} x_{35}}, a_{12} : r_{640}, a_{13} : r_{641}, a_{14} : r_{642}, a_{15} : r_{643}, a_{23} : \\frac{r_{640}}{x_{12}}, a_{24} : -\\frac{r_{639} x_{14} - r_{638}}{x_{12}}, a_{25} : r_{644}, a_{34} : 0, a_{35} : \\frac{r_{640}}{x_{12} x_{23}}, a_{45} : -\\frac{{\\left(r_{644} x_{12}^{2} - {\\left(r_{638} + r_{641}\\right)} x_{12}\\right)} x_{23} x_{35} + r_{638} x_{15}}{x_{12} x_{14} x_{23} x_{35}}\\right\\}\\right]</script></html>"
      ],
      "text/latex": [
       "$$\\newcommand{\\Bold}[1]{\\mathbf{#1}}\\left[\\left\\{d_{1} : 0, d_{2} : 0, d_{3} : 0, d_{4} : r_{628}, d_{5} : 0, a_{12} : r_{629}, a_{13} : r_{630}, a_{14} : r_{631}, a_{15} : r_{632}, a_{23} : r_{633}, a_{24} : r_{634}, a_{25} : r_{635}, a_{34} : 0, a_{35} : r_{636}, a_{45} : r_{637}\\right\\}, \\left\\{d_{1} : r_{638}, d_{2} : \\frac{r_{638}}{x_{12}}, d_{3} : \\frac{r_{638}}{x_{12} x_{23}}, d_{4} : r_{639}, d_{5} : \\frac{r_{638}}{x_{12} x_{23} x_{35}}, a_{12} : r_{640}, a_{13} : r_{641}, a_{14} : r_{642}, a_{15} : r_{643}, a_{23} : \\frac{r_{640}}{x_{12}}, a_{24} : -\\frac{r_{639} x_{14} - r_{638}}{x_{12}}, a_{25} : r_{644}, a_{34} : 0, a_{35} : \\frac{r_{640}}{x_{12} x_{23}}, a_{45} : -\\frac{{\\left(r_{644} x_{12}^{2} - {\\left(r_{638} + r_{641}\\right)} x_{12}\\right)} x_{23} x_{35} + r_{638} x_{15}}{x_{12} x_{14} x_{23} x_{35}}\\right\\}\\right]$$"
      ],
      "text/plain": [
       "[{d1: 0,\n",
       "  d2: 0,\n",
       "  d3: 0,\n",
       "  d4: r628,\n",
       "  d5: 0,\n",
       "  a12: r629,\n",
       "  a13: r630,\n",
       "  a14: r631,\n",
       "  a15: r632,\n",
       "  a23: r633,\n",
       "  a24: r634,\n",
       "  a25: r635,\n",
       "  a34: 0,\n",
       "  a35: r636,\n",
       "  a45: r637},\n",
       " {d1: r638,\n",
       "  d2: r638/x12,\n",
       "  d3: r638/(x12*x23),\n",
       "  d4: r639,\n",
       "  d5: r638/(x12*x23*x35),\n",
       "  a12: r640,\n",
       "  a13: r641,\n",
       "  a14: r642,\n",
       "  a15: r643,\n",
       "  a23: r640/x12,\n",
       "  a24: -(r639*x14 - r638)/x12,\n",
       "  a25: r644,\n",
       "  a34: 0,\n",
       "  a35: r640/(x12*x23),\n",
       "  a45: -((r644*x12^2 - (r638 + r641)*x12)*x23*x35 + r638*x15)/(x12*x14*x23*x35)}]"
      ]
     },
     "metadata": {},
     "output_type": "display_data"
    }
   ],
   "source": [
    "#x4\n",
    "reset()\n",
    "\n",
    "var('x12,x13,x14,x15,x23,x24,x25,x34,x35,x45')\n",
    "var('d1,d2,d3,d4,d5')\n",
    "var('a12,a13,a14,a15,a23,a24,a25,a34,a35,a45')\n",
    "\n",
    "load_attach_path('C:\\\\Users\\\\julia\\\\Documents\\\\unb\\\\doutorado\\\\pensar\\\\codigo_sage_v2\\\\maquina\\\\x4')\n",
    "load('out_#100011.sage')\n",
    "\n",
    "m=matrix(QQ, [[0, 1, 0, 1, 1],\n",
    "              [0, 0, 1, 0, 0],\n",
    "              [0, 0, 0, 0, 1],\n",
    "              [0, 0, 0, 0, 0],\n",
    "              [0, 0, 0, 0, 0]])\n",
    "        \n",
    "#entry of matrix: (i,j) line i collum j, means (i-1,j-1)\n",
    "sol=solve([ eq1==m[0,1],\teq2==m[0,2],\teq3==m[0,3],\teq4==m[0,4],\t\n",
    "                                            eq5==m[1,2],    eq6==m[1,3],\n",
    "                                                            eq7==m[1,4], eq8==m[2,4]],d1,d2,d3,d4,d5,a12,a13,a14,a15,a23,a24,a25,a34,a35,a45, solution_dict=True)\n",
    "\n",
    "show(m)\n",
    "show(sol)\n",
    "#latex(sol)"
   ]
  },
  {
   "cell_type": "code",
   "execution_count": 37,
   "metadata": {},
   "outputs": [
    {
     "data": {
      "text/html": [
       "<html><script type=\"math/tex; mode=display\">\\newcommand{\\Bold}[1]{\\mathbf{#1}}\\left(\\begin{array}{rrrrr}\n",
       "0 & 1 & 1 & 0 & 0 \\\\\n",
       "0 & 0 & 1 & 0 & 0 \\\\\n",
       "0 & 0 & 0 & 0 & 1 \\\\\n",
       "0 & 0 & 0 & 0 & 0 \\\\\n",
       "0 & 0 & 0 & 0 & 0\n",
       "\\end{array}\\right)</script></html>"
      ],
      "text/latex": [
       "$$\\newcommand{\\Bold}[1]{\\mathbf{#1}}\\left(\\begin{array}{rrrrr}\n",
       "0 & 1 & 1 & 0 & 0 \\\\\n",
       "0 & 0 & 1 & 0 & 0 \\\\\n",
       "0 & 0 & 0 & 0 & 1 \\\\\n",
       "0 & 0 & 0 & 0 & 0 \\\\\n",
       "0 & 0 & 0 & 0 & 0\n",
       "\\end{array}\\right)$$"
      ],
      "text/plain": [
       "[0 1 1 0 0]\n",
       "[0 0 1 0 0]\n",
       "[0 0 0 0 1]\n",
       "[0 0 0 0 0]\n",
       "[0 0 0 0 0]"
      ]
     },
     "metadata": {},
     "output_type": "display_data"
    },
    {
     "data": {
      "text/html": [
       "<html><script type=\"math/tex; mode=display\">\\newcommand{\\Bold}[1]{\\mathbf{#1}}\\left[\\left\\{d_{1} : 0, d_{2} : 0, d_{3} : 0, d_{4} : r_{645}, d_{5} : 0, a_{12} : r_{646}, a_{13} : r_{647}, a_{14} : r_{648}, a_{15} : r_{649}, a_{23} : r_{650}, a_{24} : r_{651}, a_{25} : r_{652}, a_{34} : 0, a_{35} : r_{653}, a_{45} : r_{654}\\right\\}, \\left\\{d_{1} : r_{655}, d_{2} : \\frac{r_{655}}{x_{12}}, d_{3} : \\frac{r_{655}}{x_{12} x_{23}}, d_{4} : r_{656}, d_{5} : \\frac{r_{655}}{x_{12} x_{23} x_{35}}, a_{12} : r_{657}, a_{13} : r_{658}, a_{14} : r_{659}, a_{15} : r_{660}, a_{23} : \\frac{{\\left(r_{655} + r_{657}\\right)} x_{12} x_{23} - r_{655} x_{13}}{x_{12}^{2} x_{23}}, a_{24} : 0, a_{25} : \\frac{r_{658} x_{12}^{2} x_{23}^{2} - {\\left(r_{655} + r_{657}\\right)} x_{12} x_{13} x_{23} + r_{655} x_{13}^{2}}{x_{12}^{3} x_{23}^{2}}, a_{34} : 0, a_{35} : \\frac{{\\left(r_{655} + r_{657}\\right)} x_{12} x_{23} - r_{655} x_{13}}{x_{12}^{2} x_{23}^{2}}, a_{45} : r_{661}\\right\\}\\right]</script></html>"
      ],
      "text/latex": [
       "$$\\newcommand{\\Bold}[1]{\\mathbf{#1}}\\left[\\left\\{d_{1} : 0, d_{2} : 0, d_{3} : 0, d_{4} : r_{645}, d_{5} : 0, a_{12} : r_{646}, a_{13} : r_{647}, a_{14} : r_{648}, a_{15} : r_{649}, a_{23} : r_{650}, a_{24} : r_{651}, a_{25} : r_{652}, a_{34} : 0, a_{35} : r_{653}, a_{45} : r_{654}\\right\\}, \\left\\{d_{1} : r_{655}, d_{2} : \\frac{r_{655}}{x_{12}}, d_{3} : \\frac{r_{655}}{x_{12} x_{23}}, d_{4} : r_{656}, d_{5} : \\frac{r_{655}}{x_{12} x_{23} x_{35}}, a_{12} : r_{657}, a_{13} : r_{658}, a_{14} : r_{659}, a_{15} : r_{660}, a_{23} : \\frac{{\\left(r_{655} + r_{657}\\right)} x_{12} x_{23} - r_{655} x_{13}}{x_{12}^{2} x_{23}}, a_{24} : 0, a_{25} : \\frac{r_{658} x_{12}^{2} x_{23}^{2} - {\\left(r_{655} + r_{657}\\right)} x_{12} x_{13} x_{23} + r_{655} x_{13}^{2}}{x_{12}^{3} x_{23}^{2}}, a_{34} : 0, a_{35} : \\frac{{\\left(r_{655} + r_{657}\\right)} x_{12} x_{23} - r_{655} x_{13}}{x_{12}^{2} x_{23}^{2}}, a_{45} : r_{661}\\right\\}\\right]$$"
      ],
      "text/plain": [
       "[{d1: 0,\n",
       "  d2: 0,\n",
       "  d3: 0,\n",
       "  d4: r645,\n",
       "  d5: 0,\n",
       "  a12: r646,\n",
       "  a13: r647,\n",
       "  a14: r648,\n",
       "  a15: r649,\n",
       "  a23: r650,\n",
       "  a24: r651,\n",
       "  a25: r652,\n",
       "  a34: 0,\n",
       "  a35: r653,\n",
       "  a45: r654},\n",
       " {d1: r655,\n",
       "  d2: r655/x12,\n",
       "  d3: r655/(x12*x23),\n",
       "  d4: r656,\n",
       "  d5: r655/(x12*x23*x35),\n",
       "  a12: r657,\n",
       "  a13: r658,\n",
       "  a14: r659,\n",
       "  a15: r660,\n",
       "  a23: ((r655 + r657)*x12*x23 - r655*x13)/(x12^2*x23),\n",
       "  a24: 0,\n",
       "  a25: (r658*x12^2*x23^2 - (r655 + r657)*x12*x13*x23 + r655*x13^2)/(x12^3*x23^2),\n",
       "  a34: 0,\n",
       "  a35: ((r655 + r657)*x12*x23 - r655*x13)/(x12^2*x23^2),\n",
       "  a45: r661}]"
      ]
     },
     "metadata": {},
     "output_type": "display_data"
    }
   ],
   "source": [
    "#x4\n",
    "reset()\n",
    "\n",
    "var('x12,x13,x14,x15,x23,x24,x25,x34,x35,x45')\n",
    "var('d1,d2,d3,d4,d5')\n",
    "var('a12,a13,a14,a15,a23,a24,a25,a34,a35,a45')\n",
    "\n",
    "load_attach_path('C:\\\\Users\\\\julia\\\\Documents\\\\unb\\\\doutorado\\\\pensar\\\\codigo_sage_v2\\\\maquina\\\\x4')\n",
    "load('out_#100100.sage')\n",
    "\n",
    "m=matrix(QQ, [[0, 1, 1, 0, 0],\n",
    "              [0, 0, 1, 0, 0],\n",
    "              [0, 0, 0, 0, 1],\n",
    "              [0, 0, 0, 0, 0],\n",
    "              [0, 0, 0, 0, 0]])\n",
    "        \n",
    "#entry of matrix: (i,j) line i collum j, means (i-1,j-1)\n",
    "sol=solve([ eq1==m[0,1],\teq2==m[0,2],\teq3==m[0,3],\teq4==m[0,4],\t\n",
    "                                            eq5==m[1,2],    eq6==m[1,3],\n",
    "                                                            eq7==m[1,4], eq8==m[2,4]],d1,d2,d3,d4,d5,a12,a13,a14,a15,a23,a24,a25,a34,a35,a45, solution_dict=True)\n",
    "\n",
    "show(m)\n",
    "show(sol)\n",
    "#latex(sol)"
   ]
  },
  {
   "cell_type": "code",
   "execution_count": 38,
   "metadata": {},
   "outputs": [
    {
     "data": {
      "text/html": [
       "<html><script type=\"math/tex; mode=display\">\\newcommand{\\Bold}[1]{\\mathbf{#1}}\\left(\\begin{array}{rrrrr}\n",
       "0 & 1 & 1 & 0 & 1 \\\\\n",
       "0 & 0 & 1 & 0 & 0 \\\\\n",
       "0 & 0 & 0 & 0 & 1 \\\\\n",
       "0 & 0 & 0 & 0 & 0 \\\\\n",
       "0 & 0 & 0 & 0 & 0\n",
       "\\end{array}\\right)</script></html>"
      ],
      "text/latex": [
       "$$\\newcommand{\\Bold}[1]{\\mathbf{#1}}\\left(\\begin{array}{rrrrr}\n",
       "0 & 1 & 1 & 0 & 1 \\\\\n",
       "0 & 0 & 1 & 0 & 0 \\\\\n",
       "0 & 0 & 0 & 0 & 1 \\\\\n",
       "0 & 0 & 0 & 0 & 0 \\\\\n",
       "0 & 0 & 0 & 0 & 0\n",
       "\\end{array}\\right)$$"
      ],
      "text/plain": [
       "[0 1 1 0 1]\n",
       "[0 0 1 0 0]\n",
       "[0 0 0 0 1]\n",
       "[0 0 0 0 0]\n",
       "[0 0 0 0 0]"
      ]
     },
     "metadata": {},
     "output_type": "display_data"
    },
    {
     "data": {
      "text/html": [
       "<html><script type=\"math/tex; mode=display\">\\newcommand{\\Bold}[1]{\\mathbf{#1}}\\left[\\left\\{d_{1} : 0, d_{2} : 0, d_{3} : 0, d_{4} : r_{662}, d_{5} : 0, a_{12} : r_{663}, a_{13} : r_{664}, a_{14} : r_{665}, a_{15} : r_{666}, a_{23} : r_{667}, a_{24} : r_{668}, a_{25} : r_{669}, a_{34} : 0, a_{35} : r_{670}, a_{45} : r_{671}\\right\\}, \\left\\{d_{1} : r_{672}, d_{2} : \\frac{r_{672}}{x_{12}}, d_{3} : \\frac{r_{672}}{x_{12} x_{23}}, d_{4} : r_{673}, d_{5} : \\frac{r_{672}}{x_{12} x_{23} x_{35}}, a_{12} : r_{674}, a_{13} : r_{675}, a_{14} : r_{676}, a_{15} : r_{677}, a_{23} : \\frac{{\\left(r_{672} + r_{674}\\right)} x_{12} x_{23} - r_{672} x_{13}}{x_{12}^{2} x_{23}}, a_{24} : 0, a_{25} : -\\frac{r_{672} x_{12} x_{15} x_{23} - {\\left({\\left(r_{672} + r_{675}\\right)} x_{12}^{2} x_{23}^{2} - {\\left(r_{672} + r_{674}\\right)} x_{12} x_{13} x_{23} + r_{672} x_{13}^{2}\\right)} x_{35}}{x_{12}^{3} x_{23}^{2} x_{35}}, a_{34} : 0, a_{35} : \\frac{{\\left(r_{672} + r_{674}\\right)} x_{12} x_{23} - r_{672} x_{13}}{x_{12}^{2} x_{23}^{2}}, a_{45} : r_{678}\\right\\}\\right]</script></html>"
      ],
      "text/latex": [
       "$$\\newcommand{\\Bold}[1]{\\mathbf{#1}}\\left[\\left\\{d_{1} : 0, d_{2} : 0, d_{3} : 0, d_{4} : r_{662}, d_{5} : 0, a_{12} : r_{663}, a_{13} : r_{664}, a_{14} : r_{665}, a_{15} : r_{666}, a_{23} : r_{667}, a_{24} : r_{668}, a_{25} : r_{669}, a_{34} : 0, a_{35} : r_{670}, a_{45} : r_{671}\\right\\}, \\left\\{d_{1} : r_{672}, d_{2} : \\frac{r_{672}}{x_{12}}, d_{3} : \\frac{r_{672}}{x_{12} x_{23}}, d_{4} : r_{673}, d_{5} : \\frac{r_{672}}{x_{12} x_{23} x_{35}}, a_{12} : r_{674}, a_{13} : r_{675}, a_{14} : r_{676}, a_{15} : r_{677}, a_{23} : \\frac{{\\left(r_{672} + r_{674}\\right)} x_{12} x_{23} - r_{672} x_{13}}{x_{12}^{2} x_{23}}, a_{24} : 0, a_{25} : -\\frac{r_{672} x_{12} x_{15} x_{23} - {\\left({\\left(r_{672} + r_{675}\\right)} x_{12}^{2} x_{23}^{2} - {\\left(r_{672} + r_{674}\\right)} x_{12} x_{13} x_{23} + r_{672} x_{13}^{2}\\right)} x_{35}}{x_{12}^{3} x_{23}^{2} x_{35}}, a_{34} : 0, a_{35} : \\frac{{\\left(r_{672} + r_{674}\\right)} x_{12} x_{23} - r_{672} x_{13}}{x_{12}^{2} x_{23}^{2}}, a_{45} : r_{678}\\right\\}\\right]$$"
      ],
      "text/plain": [
       "[{d1: 0,\n",
       "  d2: 0,\n",
       "  d3: 0,\n",
       "  d4: r662,\n",
       "  d5: 0,\n",
       "  a12: r663,\n",
       "  a13: r664,\n",
       "  a14: r665,\n",
       "  a15: r666,\n",
       "  a23: r667,\n",
       "  a24: r668,\n",
       "  a25: r669,\n",
       "  a34: 0,\n",
       "  a35: r670,\n",
       "  a45: r671},\n",
       " {d1: r672,\n",
       "  d2: r672/x12,\n",
       "  d3: r672/(x12*x23),\n",
       "  d4: r673,\n",
       "  d5: r672/(x12*x23*x35),\n",
       "  a12: r674,\n",
       "  a13: r675,\n",
       "  a14: r676,\n",
       "  a15: r677,\n",
       "  a23: ((r672 + r674)*x12*x23 - r672*x13)/(x12^2*x23),\n",
       "  a24: 0,\n",
       "  a25: -(r672*x12*x15*x23 - ((r672 + r675)*x12^2*x23^2 - (r672 + r674)*x12*x13*x23 + r672*x13^2)*x35)/(x12^3*x23^2*x35),\n",
       "  a34: 0,\n",
       "  a35: ((r672 + r674)*x12*x23 - r672*x13)/(x12^2*x23^2),\n",
       "  a45: r678}]"
      ]
     },
     "metadata": {},
     "output_type": "display_data"
    }
   ],
   "source": [
    "#x4\n",
    "reset()\n",
    "\n",
    "var('x12,x13,x14,x15,x23,x24,x25,x34,x35,x45')\n",
    "var('d1,d2,d3,d4,d5')\n",
    "var('a12,a13,a14,a15,a23,a24,a25,a34,a35,a45')\n",
    "\n",
    "load_attach_path('C:\\\\Users\\\\julia\\\\Documents\\\\unb\\\\doutorado\\\\pensar\\\\codigo_sage_v2\\\\maquina\\\\x4')\n",
    "load('out_#100101.sage')\n",
    "\n",
    "m=matrix(QQ, [[0, 1, 1, 0, 1],\n",
    "              [0, 0, 1, 0, 0],\n",
    "              [0, 0, 0, 0, 1],\n",
    "              [0, 0, 0, 0, 0],\n",
    "              [0, 0, 0, 0, 0]])\n",
    "        \n",
    "#entry of matrix: (i,j) line i collum j, means (i-1,j-1)\n",
    "sol=solve([ eq1==m[0,1],\teq2==m[0,2],\teq3==m[0,3],\teq4==m[0,4],\t\n",
    "                                            eq5==m[1,2],    eq6==m[1,3],\n",
    "                                                            eq7==m[1,4], eq8==m[2,4]],d1,d2,d3,d4,d5,a12,a13,a14,a15,a23,a24,a25,a34,a35,a45, solution_dict=True)\n",
    "\n",
    "show(m)\n",
    "show(sol)\n",
    "#latex(sol)"
   ]
  },
  {
   "cell_type": "code",
   "execution_count": 39,
   "metadata": {},
   "outputs": [
    {
     "data": {
      "text/html": [
       "<html><script type=\"math/tex; mode=display\">\\newcommand{\\Bold}[1]{\\mathbf{#1}}\\left(\\begin{array}{rrrrr}\n",
       "0 & 1 & 1 & 1 & 0 \\\\\n",
       "0 & 0 & 1 & 0 & 0 \\\\\n",
       "0 & 0 & 0 & 0 & 1 \\\\\n",
       "0 & 0 & 0 & 0 & 0 \\\\\n",
       "0 & 0 & 0 & 0 & 0\n",
       "\\end{array}\\right)</script></html>"
      ],
      "text/latex": [
       "$$\\newcommand{\\Bold}[1]{\\mathbf{#1}}\\left(\\begin{array}{rrrrr}\n",
       "0 & 1 & 1 & 1 & 0 \\\\\n",
       "0 & 0 & 1 & 0 & 0 \\\\\n",
       "0 & 0 & 0 & 0 & 1 \\\\\n",
       "0 & 0 & 0 & 0 & 0 \\\\\n",
       "0 & 0 & 0 & 0 & 0\n",
       "\\end{array}\\right)$$"
      ],
      "text/plain": [
       "[0 1 1 1 0]\n",
       "[0 0 1 0 0]\n",
       "[0 0 0 0 1]\n",
       "[0 0 0 0 0]\n",
       "[0 0 0 0 0]"
      ]
     },
     "metadata": {},
     "output_type": "display_data"
    },
    {
     "data": {
      "text/html": [
       "<html><script type=\"math/tex; mode=display\">\\newcommand{\\Bold}[1]{\\mathbf{#1}}\\left[\\left\\{d_{1} : 0, d_{2} : 0, d_{3} : 0, d_{4} : r_{679}, d_{5} : 0, a_{12} : r_{680}, a_{13} : r_{681}, a_{14} : r_{682}, a_{15} : r_{683}, a_{23} : r_{684}, a_{24} : r_{685}, a_{25} : r_{686}, a_{34} : 0, a_{35} : r_{687}, a_{45} : r_{688}\\right\\}, \\left\\{d_{1} : r_{689}, d_{2} : \\frac{r_{689}}{x_{12}}, d_{3} : \\frac{r_{689}}{x_{12} x_{23}}, d_{4} : r_{690}, d_{5} : \\frac{r_{689}}{x_{12} x_{23} x_{35}}, a_{12} : r_{691}, a_{13} : r_{692}, a_{14} : r_{693}, a_{15} : r_{694}, a_{23} : \\frac{{\\left(r_{689} + r_{691}\\right)} x_{12} x_{23} - r_{689} x_{13}}{x_{12}^{2} x_{23}}, a_{24} : -\\frac{r_{690} x_{14} - r_{689}}{x_{12}}, a_{25} : r_{695}, a_{34} : 0, a_{35} : \\frac{{\\left(r_{689} + r_{691}\\right)} x_{12} x_{23} - r_{689} x_{13}}{x_{12}^{2} x_{23}^{2}}, a_{45} : -\\frac{{\\left(r_{689} + r_{691}\\right)} x_{12} x_{13} x_{23} - r_{689} x_{13}^{2} + {\\left(r_{695} x_{12}^{3} - r_{692} x_{12}^{2}\\right)} x_{23}^{2}}{x_{12}^{2} x_{14} x_{23}^{2}}\\right\\}\\right]</script></html>"
      ],
      "text/latex": [
       "$$\\newcommand{\\Bold}[1]{\\mathbf{#1}}\\left[\\left\\{d_{1} : 0, d_{2} : 0, d_{3} : 0, d_{4} : r_{679}, d_{5} : 0, a_{12} : r_{680}, a_{13} : r_{681}, a_{14} : r_{682}, a_{15} : r_{683}, a_{23} : r_{684}, a_{24} : r_{685}, a_{25} : r_{686}, a_{34} : 0, a_{35} : r_{687}, a_{45} : r_{688}\\right\\}, \\left\\{d_{1} : r_{689}, d_{2} : \\frac{r_{689}}{x_{12}}, d_{3} : \\frac{r_{689}}{x_{12} x_{23}}, d_{4} : r_{690}, d_{5} : \\frac{r_{689}}{x_{12} x_{23} x_{35}}, a_{12} : r_{691}, a_{13} : r_{692}, a_{14} : r_{693}, a_{15} : r_{694}, a_{23} : \\frac{{\\left(r_{689} + r_{691}\\right)} x_{12} x_{23} - r_{689} x_{13}}{x_{12}^{2} x_{23}}, a_{24} : -\\frac{r_{690} x_{14} - r_{689}}{x_{12}}, a_{25} : r_{695}, a_{34} : 0, a_{35} : \\frac{{\\left(r_{689} + r_{691}\\right)} x_{12} x_{23} - r_{689} x_{13}}{x_{12}^{2} x_{23}^{2}}, a_{45} : -\\frac{{\\left(r_{689} + r_{691}\\right)} x_{12} x_{13} x_{23} - r_{689} x_{13}^{2} + {\\left(r_{695} x_{12}^{3} - r_{692} x_{12}^{2}\\right)} x_{23}^{2}}{x_{12}^{2} x_{14} x_{23}^{2}}\\right\\}\\right]$$"
      ],
      "text/plain": [
       "[{d1: 0,\n",
       "  d2: 0,\n",
       "  d3: 0,\n",
       "  d4: r679,\n",
       "  d5: 0,\n",
       "  a12: r680,\n",
       "  a13: r681,\n",
       "  a14: r682,\n",
       "  a15: r683,\n",
       "  a23: r684,\n",
       "  a24: r685,\n",
       "  a25: r686,\n",
       "  a34: 0,\n",
       "  a35: r687,\n",
       "  a45: r688},\n",
       " {d1: r689,\n",
       "  d2: r689/x12,\n",
       "  d3: r689/(x12*x23),\n",
       "  d4: r690,\n",
       "  d5: r689/(x12*x23*x35),\n",
       "  a12: r691,\n",
       "  a13: r692,\n",
       "  a14: r693,\n",
       "  a15: r694,\n",
       "  a23: ((r689 + r691)*x12*x23 - r689*x13)/(x12^2*x23),\n",
       "  a24: -(r690*x14 - r689)/x12,\n",
       "  a25: r695,\n",
       "  a34: 0,\n",
       "  a35: ((r689 + r691)*x12*x23 - r689*x13)/(x12^2*x23^2),\n",
       "  a45: -((r689 + r691)*x12*x13*x23 - r689*x13^2 + (r695*x12^3 - r692*x12^2)*x23^2)/(x12^2*x14*x23^2)}]"
      ]
     },
     "metadata": {},
     "output_type": "display_data"
    }
   ],
   "source": [
    "#x4\n",
    "reset()\n",
    "\n",
    "var('x12,x13,x14,x15,x23,x24,x25,x34,x35,x45')\n",
    "var('d1,d2,d3,d4,d5')\n",
    "var('a12,a13,a14,a15,a23,a24,a25,a34,a35,a45')\n",
    "\n",
    "load_attach_path('C:\\\\Users\\\\julia\\\\Documents\\\\unb\\\\doutorado\\\\pensar\\\\codigo_sage_v2\\\\maquina\\\\x4')\n",
    "load('out_#100110.sage')\n",
    "\n",
    "m=matrix(QQ, [[0, 1, 1, 1, 0],\n",
    "              [0, 0, 1, 0, 0],\n",
    "              [0, 0, 0, 0, 1],\n",
    "              [0, 0, 0, 0, 0],\n",
    "              [0, 0, 0, 0, 0]])\n",
    "        \n",
    "#entry of matrix: (i,j) line i collum j, means (i-1,j-1)\n",
    "sol=solve([ eq1==m[0,1],\teq2==m[0,2],\teq3==m[0,3],\teq4==m[0,4],\t\n",
    "                                            eq5==m[1,2],    eq6==m[1,3],\n",
    "                                                            eq7==m[1,4], eq8==m[2,4]],d1,d2,d3,d4,d5,a12,a13,a14,a15,a23,a24,a25,a34,a35,a45, solution_dict=True)\n",
    "\n",
    "show(m)\n",
    "show(sol)\n",
    "#latex(sol)"
   ]
  },
  {
   "cell_type": "code",
   "execution_count": 40,
   "metadata": {},
   "outputs": [
    {
     "data": {
      "text/html": [
       "<html><script type=\"math/tex; mode=display\">\\newcommand{\\Bold}[1]{\\mathbf{#1}}\\left(\\begin{array}{rrrrr}\n",
       "0 & 1 & 1 & 1 & 1 \\\\\n",
       "0 & 0 & 1 & 0 & 0 \\\\\n",
       "0 & 0 & 0 & 0 & 1 \\\\\n",
       "0 & 0 & 0 & 0 & 0 \\\\\n",
       "0 & 0 & 0 & 0 & 0\n",
       "\\end{array}\\right)</script></html>"
      ],
      "text/latex": [
       "$$\\newcommand{\\Bold}[1]{\\mathbf{#1}}\\left(\\begin{array}{rrrrr}\n",
       "0 & 1 & 1 & 1 & 1 \\\\\n",
       "0 & 0 & 1 & 0 & 0 \\\\\n",
       "0 & 0 & 0 & 0 & 1 \\\\\n",
       "0 & 0 & 0 & 0 & 0 \\\\\n",
       "0 & 0 & 0 & 0 & 0\n",
       "\\end{array}\\right)$$"
      ],
      "text/plain": [
       "[0 1 1 1 1]\n",
       "[0 0 1 0 0]\n",
       "[0 0 0 0 1]\n",
       "[0 0 0 0 0]\n",
       "[0 0 0 0 0]"
      ]
     },
     "metadata": {},
     "output_type": "display_data"
    },
    {
     "data": {
      "text/html": [
       "<html><script type=\"math/tex; mode=display\">\\newcommand{\\Bold}[1]{\\mathbf{#1}}\\left[\\left\\{d_{1} : 0, d_{2} : 0, d_{3} : 0, d_{4} : r_{696}, d_{5} : 0, a_{12} : r_{697}, a_{13} : r_{698}, a_{14} : r_{699}, a_{15} : r_{700}, a_{23} : r_{701}, a_{24} : r_{702}, a_{25} : r_{703}, a_{34} : 0, a_{35} : r_{704}, a_{45} : r_{705}\\right\\}, \\left\\{d_{1} : r_{706}, d_{2} : \\frac{r_{706}}{x_{12}}, d_{3} : \\frac{r_{706}}{x_{12} x_{23}}, d_{4} : r_{707}, d_{5} : \\frac{r_{706}}{x_{12} x_{23} x_{35}}, a_{12} : r_{708}, a_{13} : r_{709}, a_{14} : r_{710}, a_{15} : r_{711}, a_{23} : \\frac{{\\left(r_{706} + r_{708}\\right)} x_{12} x_{23} - r_{706} x_{13}}{x_{12}^{2} x_{23}}, a_{24} : -\\frac{r_{707} x_{14} - r_{706}}{x_{12}}, a_{25} : r_{712}, a_{34} : 0, a_{35} : \\frac{{\\left(r_{706} + r_{708}\\right)} x_{12} x_{23} - r_{706} x_{13}}{x_{12}^{2} x_{23}^{2}}, a_{45} : -\\frac{r_{706} x_{12} x_{15} x_{23} + {\\left({\\left(r_{706} + r_{708}\\right)} x_{12} x_{13} x_{23} - r_{706} x_{13}^{2} + {\\left(r_{712} x_{12}^{3} - {\\left(r_{706} + r_{709}\\right)} x_{12}^{2}\\right)} x_{23}^{2}\\right)} x_{35}}{x_{12}^{2} x_{14} x_{23}^{2} x_{35}}\\right\\}\\right]</script></html>"
      ],
      "text/latex": [
       "$$\\newcommand{\\Bold}[1]{\\mathbf{#1}}\\left[\\left\\{d_{1} : 0, d_{2} : 0, d_{3} : 0, d_{4} : r_{696}, d_{5} : 0, a_{12} : r_{697}, a_{13} : r_{698}, a_{14} : r_{699}, a_{15} : r_{700}, a_{23} : r_{701}, a_{24} : r_{702}, a_{25} : r_{703}, a_{34} : 0, a_{35} : r_{704}, a_{45} : r_{705}\\right\\}, \\left\\{d_{1} : r_{706}, d_{2} : \\frac{r_{706}}{x_{12}}, d_{3} : \\frac{r_{706}}{x_{12} x_{23}}, d_{4} : r_{707}, d_{5} : \\frac{r_{706}}{x_{12} x_{23} x_{35}}, a_{12} : r_{708}, a_{13} : r_{709}, a_{14} : r_{710}, a_{15} : r_{711}, a_{23} : \\frac{{\\left(r_{706} + r_{708}\\right)} x_{12} x_{23} - r_{706} x_{13}}{x_{12}^{2} x_{23}}, a_{24} : -\\frac{r_{707} x_{14} - r_{706}}{x_{12}}, a_{25} : r_{712}, a_{34} : 0, a_{35} : \\frac{{\\left(r_{706} + r_{708}\\right)} x_{12} x_{23} - r_{706} x_{13}}{x_{12}^{2} x_{23}^{2}}, a_{45} : -\\frac{r_{706} x_{12} x_{15} x_{23} + {\\left({\\left(r_{706} + r_{708}\\right)} x_{12} x_{13} x_{23} - r_{706} x_{13}^{2} + {\\left(r_{712} x_{12}^{3} - {\\left(r_{706} + r_{709}\\right)} x_{12}^{2}\\right)} x_{23}^{2}\\right)} x_{35}}{x_{12}^{2} x_{14} x_{23}^{2} x_{35}}\\right\\}\\right]$$"
      ],
      "text/plain": [
       "[{d1: 0,\n",
       "  d2: 0,\n",
       "  d3: 0,\n",
       "  d4: r696,\n",
       "  d5: 0,\n",
       "  a12: r697,\n",
       "  a13: r698,\n",
       "  a14: r699,\n",
       "  a15: r700,\n",
       "  a23: r701,\n",
       "  a24: r702,\n",
       "  a25: r703,\n",
       "  a34: 0,\n",
       "  a35: r704,\n",
       "  a45: r705},\n",
       " {d1: r706,\n",
       "  d2: r706/x12,\n",
       "  d3: r706/(x12*x23),\n",
       "  d4: r707,\n",
       "  d5: r706/(x12*x23*x35),\n",
       "  a12: r708,\n",
       "  a13: r709,\n",
       "  a14: r710,\n",
       "  a15: r711,\n",
       "  a23: ((r706 + r708)*x12*x23 - r706*x13)/(x12^2*x23),\n",
       "  a24: -(r707*x14 - r706)/x12,\n",
       "  a25: r712,\n",
       "  a34: 0,\n",
       "  a35: ((r706 + r708)*x12*x23 - r706*x13)/(x12^2*x23^2),\n",
       "  a45: -(r706*x12*x15*x23 + ((r706 + r708)*x12*x13*x23 - r706*x13^2 + (r712*x12^3 - (r706 + r709)*x12^2)*x23^2)*x35)/(x12^2*x14*x23^2*x35)}]"
      ]
     },
     "metadata": {},
     "output_type": "display_data"
    }
   ],
   "source": [
    "#x4\n",
    "reset()\n",
    "\n",
    "var('x12,x13,x14,x15,x23,x24,x25,x34,x35,x45')\n",
    "var('d1,d2,d3,d4,d5')\n",
    "var('a12,a13,a14,a15,a23,a24,a25,a34,a35,a45')\n",
    "\n",
    "load_attach_path('C:\\\\Users\\\\julia\\\\Documents\\\\unb\\\\doutorado\\\\pensar\\\\codigo_sage_v2\\\\maquina\\\\x4')\n",
    "load('out_#100111.sage')\n",
    "\n",
    "m=matrix(QQ, [[0, 1, 1, 1, 1],\n",
    "              [0, 0, 1, 0, 0],\n",
    "              [0, 0, 0, 0, 1],\n",
    "              [0, 0, 0, 0, 0],\n",
    "              [0, 0, 0, 0, 0]])\n",
    "        \n",
    "#entry of matrix: (i,j) line i collum j, means (i-1,j-1)\n",
    "sol=solve([ eq1==m[0,1],\teq2==m[0,2],\teq3==m[0,3],\teq4==m[0,4],\t\n",
    "                                            eq5==m[1,2],    eq6==m[1,3],\n",
    "                                                            eq7==m[1,4], eq8==m[2,4]],d1,d2,d3,d4,d5,a12,a13,a14,a15,a23,a24,a25,a34,a35,a45, solution_dict=True)\n",
    "\n",
    "show(m)\n",
    "show(sol)\n",
    "#latex(sol)"
   ]
  },
  {
   "cell_type": "code",
   "execution_count": 41,
   "metadata": {},
   "outputs": [
    {
     "data": {
      "text/html": [
       "<html><script type=\"math/tex; mode=display\">\\newcommand{\\Bold}[1]{\\mathbf{#1}}\\left(\\begin{array}{rrrrr}\n",
       "0 & 1 & 0 & 0 & 0 \\\\\n",
       "0 & 0 & 1 & 0 & 1 \\\\\n",
       "0 & 0 & 0 & 0 & 1 \\\\\n",
       "0 & 0 & 0 & 0 & 0 \\\\\n",
       "0 & 0 & 0 & 0 & 0\n",
       "\\end{array}\\right)</script></html>"
      ],
      "text/latex": [
       "$$\\newcommand{\\Bold}[1]{\\mathbf{#1}}\\left(\\begin{array}{rrrrr}\n",
       "0 & 1 & 0 & 0 & 0 \\\\\n",
       "0 & 0 & 1 & 0 & 1 \\\\\n",
       "0 & 0 & 0 & 0 & 1 \\\\\n",
       "0 & 0 & 0 & 0 & 0 \\\\\n",
       "0 & 0 & 0 & 0 & 0\n",
       "\\end{array}\\right)$$"
      ],
      "text/plain": [
       "[0 1 0 0 0]\n",
       "[0 0 1 0 1]\n",
       "[0 0 0 0 1]\n",
       "[0 0 0 0 0]\n",
       "[0 0 0 0 0]"
      ]
     },
     "metadata": {},
     "output_type": "display_data"
    },
    {
     "data": {
      "text/html": [
       "<html><script type=\"math/tex; mode=display\">\\newcommand{\\Bold}[1]{\\mathbf{#1}}\\left[\\left\\{d_{1} : 0, d_{2} : 0, d_{3} : 0, d_{4} : r_{713}, d_{5} : 0, a_{12} : r_{714}, a_{13} : r_{715}, a_{14} : r_{716}, a_{15} : r_{717}, a_{23} : r_{718}, a_{24} : r_{719}, a_{25} : r_{720}, a_{34} : 0, a_{35} : r_{721}, a_{45} : r_{722}\\right\\}, \\left\\{d_{1} : r_{723}, d_{2} : \\frac{r_{723}}{x_{12}}, d_{3} : \\frac{r_{723}}{x_{12} x_{23}}, d_{4} : r_{724}, d_{5} : \\frac{r_{723}}{x_{12} x_{23} x_{35}}, a_{12} : r_{725}, a_{13} : r_{726}, a_{14} : r_{727}, a_{15} : r_{728}, a_{23} : \\frac{r_{725}}{x_{12}}, a_{24} : 0, a_{25} : \\frac{r_{725} + r_{726}}{x_{12}}, a_{34} : 0, a_{35} : \\frac{{\\left(r_{723} + r_{725}\\right)} x_{23} x_{35} - r_{723} x_{25}}{x_{12} x_{23}^{2} x_{35}}, a_{45} : r_{729}\\right\\}\\right]</script></html>"
      ],
      "text/latex": [
       "$$\\newcommand{\\Bold}[1]{\\mathbf{#1}}\\left[\\left\\{d_{1} : 0, d_{2} : 0, d_{3} : 0, d_{4} : r_{713}, d_{5} : 0, a_{12} : r_{714}, a_{13} : r_{715}, a_{14} : r_{716}, a_{15} : r_{717}, a_{23} : r_{718}, a_{24} : r_{719}, a_{25} : r_{720}, a_{34} : 0, a_{35} : r_{721}, a_{45} : r_{722}\\right\\}, \\left\\{d_{1} : r_{723}, d_{2} : \\frac{r_{723}}{x_{12}}, d_{3} : \\frac{r_{723}}{x_{12} x_{23}}, d_{4} : r_{724}, d_{5} : \\frac{r_{723}}{x_{12} x_{23} x_{35}}, a_{12} : r_{725}, a_{13} : r_{726}, a_{14} : r_{727}, a_{15} : r_{728}, a_{23} : \\frac{r_{725}}{x_{12}}, a_{24} : 0, a_{25} : \\frac{r_{725} + r_{726}}{x_{12}}, a_{34} : 0, a_{35} : \\frac{{\\left(r_{723} + r_{725}\\right)} x_{23} x_{35} - r_{723} x_{25}}{x_{12} x_{23}^{2} x_{35}}, a_{45} : r_{729}\\right\\}\\right]$$"
      ],
      "text/plain": [
       "[{d1: 0,\n",
       "  d2: 0,\n",
       "  d3: 0,\n",
       "  d4: r713,\n",
       "  d5: 0,\n",
       "  a12: r714,\n",
       "  a13: r715,\n",
       "  a14: r716,\n",
       "  a15: r717,\n",
       "  a23: r718,\n",
       "  a24: r719,\n",
       "  a25: r720,\n",
       "  a34: 0,\n",
       "  a35: r721,\n",
       "  a45: r722},\n",
       " {d1: r723,\n",
       "  d2: r723/x12,\n",
       "  d3: r723/(x12*x23),\n",
       "  d4: r724,\n",
       "  d5: r723/(x12*x23*x35),\n",
       "  a12: r725,\n",
       "  a13: r726,\n",
       "  a14: r727,\n",
       "  a15: r728,\n",
       "  a23: r725/x12,\n",
       "  a24: 0,\n",
       "  a25: (r725 + r726)/x12,\n",
       "  a34: 0,\n",
       "  a35: ((r723 + r725)*x23*x35 - r723*x25)/(x12*x23^2*x35),\n",
       "  a45: r729}]"
      ]
     },
     "metadata": {},
     "output_type": "display_data"
    }
   ],
   "source": [
    "#x4\n",
    "reset()\n",
    "\n",
    "var('x12,x13,x14,x15,x23,x24,x25,x34,x35,x45')\n",
    "var('d1,d2,d3,d4,d5')\n",
    "var('a12,a13,a14,a15,a23,a24,a25,a34,a35,a45')\n",
    "\n",
    "load_attach_path('C:\\\\Users\\\\julia\\\\Documents\\\\unb\\\\doutorado\\\\pensar\\\\codigo_sage_v2\\\\maquina\\\\x4')\n",
    "load('out_#101000.sage')\n",
    "\n",
    "m=matrix(QQ, [[0, 1, 0, 0, 0],\n",
    "              [0, 0, 1, 0, 1],\n",
    "              [0, 0, 0, 0, 1],\n",
    "              [0, 0, 0, 0, 0],\n",
    "              [0, 0, 0, 0, 0]])\n",
    "        \n",
    "#entry of matrix: (i,j) line i collum j, means (i-1,j-1)\n",
    "sol=solve([ eq1==m[0,1],\teq2==m[0,2],\teq3==m[0,3],\teq4==m[0,4],\t\n",
    "                                            eq5==m[1,2],    eq6==m[1,3],\n",
    "                                                            eq7==m[1,4], eq8==m[2,4]],d1,d2,d3,d4,d5,a12,a13,a14,a15,a23,a24,a25,a34,a35,a45, solution_dict=True)\n",
    "\n",
    "show(m)\n",
    "show(sol)\n",
    "#latex(sol)"
   ]
  },
  {
   "cell_type": "code",
   "execution_count": 42,
   "metadata": {},
   "outputs": [
    {
     "data": {
      "text/html": [
       "<html><script type=\"math/tex; mode=display\">\\newcommand{\\Bold}[1]{\\mathbf{#1}}\\left(\\begin{array}{rrrrr}\n",
       "0 & 1 & 0 & 0 & 1 \\\\\n",
       "0 & 0 & 1 & 0 & 1 \\\\\n",
       "0 & 0 & 0 & 0 & 1 \\\\\n",
       "0 & 0 & 0 & 0 & 0 \\\\\n",
       "0 & 0 & 0 & 0 & 0\n",
       "\\end{array}\\right)</script></html>"
      ],
      "text/latex": [
       "$$\\newcommand{\\Bold}[1]{\\mathbf{#1}}\\left(\\begin{array}{rrrrr}\n",
       "0 & 1 & 0 & 0 & 1 \\\\\n",
       "0 & 0 & 1 & 0 & 1 \\\\\n",
       "0 & 0 & 0 & 0 & 1 \\\\\n",
       "0 & 0 & 0 & 0 & 0 \\\\\n",
       "0 & 0 & 0 & 0 & 0\n",
       "\\end{array}\\right)$$"
      ],
      "text/plain": [
       "[0 1 0 0 1]\n",
       "[0 0 1 0 1]\n",
       "[0 0 0 0 1]\n",
       "[0 0 0 0 0]\n",
       "[0 0 0 0 0]"
      ]
     },
     "metadata": {},
     "output_type": "display_data"
    },
    {
     "data": {
      "text/html": [
       "<html><script type=\"math/tex; mode=display\">\\newcommand{\\Bold}[1]{\\mathbf{#1}}\\left[\\left\\{d_{1} : 0, d_{2} : 0, d_{3} : 0, d_{4} : r_{730}, d_{5} : 0, a_{12} : r_{731}, a_{13} : r_{732}, a_{14} : r_{733}, a_{15} : r_{734}, a_{23} : r_{735}, a_{24} : r_{736}, a_{25} : r_{737}, a_{34} : 0, a_{35} : r_{738}, a_{45} : r_{739}\\right\\}, \\left\\{d_{1} : r_{740}, d_{2} : \\frac{r_{740}}{x_{12}}, d_{3} : \\frac{r_{740}}{x_{12} x_{23}}, d_{4} : r_{741}, d_{5} : \\frac{r_{740}}{x_{12} x_{23} x_{35}}, a_{12} : r_{742}, a_{13} : r_{743}, a_{14} : r_{744}, a_{15} : r_{745}, a_{23} : \\frac{r_{742}}{x_{12}}, a_{24} : 0, a_{25} : \\frac{{\\left(r_{740} + r_{742} + r_{743}\\right)} x_{12} x_{23} x_{35} - r_{740} x_{15}}{x_{12}^{2} x_{23} x_{35}}, a_{34} : 0, a_{35} : \\frac{{\\left(r_{740} + r_{742}\\right)} x_{23} x_{35} - r_{740} x_{25}}{x_{12} x_{23}^{2} x_{35}}, a_{45} : r_{746}\\right\\}\\right]</script></html>"
      ],
      "text/latex": [
       "$$\\newcommand{\\Bold}[1]{\\mathbf{#1}}\\left[\\left\\{d_{1} : 0, d_{2} : 0, d_{3} : 0, d_{4} : r_{730}, d_{5} : 0, a_{12} : r_{731}, a_{13} : r_{732}, a_{14} : r_{733}, a_{15} : r_{734}, a_{23} : r_{735}, a_{24} : r_{736}, a_{25} : r_{737}, a_{34} : 0, a_{35} : r_{738}, a_{45} : r_{739}\\right\\}, \\left\\{d_{1} : r_{740}, d_{2} : \\frac{r_{740}}{x_{12}}, d_{3} : \\frac{r_{740}}{x_{12} x_{23}}, d_{4} : r_{741}, d_{5} : \\frac{r_{740}}{x_{12} x_{23} x_{35}}, a_{12} : r_{742}, a_{13} : r_{743}, a_{14} : r_{744}, a_{15} : r_{745}, a_{23} : \\frac{r_{742}}{x_{12}}, a_{24} : 0, a_{25} : \\frac{{\\left(r_{740} + r_{742} + r_{743}\\right)} x_{12} x_{23} x_{35} - r_{740} x_{15}}{x_{12}^{2} x_{23} x_{35}}, a_{34} : 0, a_{35} : \\frac{{\\left(r_{740} + r_{742}\\right)} x_{23} x_{35} - r_{740} x_{25}}{x_{12} x_{23}^{2} x_{35}}, a_{45} : r_{746}\\right\\}\\right]$$"
      ],
      "text/plain": [
       "[{d1: 0,\n",
       "  d2: 0,\n",
       "  d3: 0,\n",
       "  d4: r730,\n",
       "  d5: 0,\n",
       "  a12: r731,\n",
       "  a13: r732,\n",
       "  a14: r733,\n",
       "  a15: r734,\n",
       "  a23: r735,\n",
       "  a24: r736,\n",
       "  a25: r737,\n",
       "  a34: 0,\n",
       "  a35: r738,\n",
       "  a45: r739},\n",
       " {d1: r740,\n",
       "  d2: r740/x12,\n",
       "  d3: r740/(x12*x23),\n",
       "  d4: r741,\n",
       "  d5: r740/(x12*x23*x35),\n",
       "  a12: r742,\n",
       "  a13: r743,\n",
       "  a14: r744,\n",
       "  a15: r745,\n",
       "  a23: r742/x12,\n",
       "  a24: 0,\n",
       "  a25: ((r740 + r742 + r743)*x12*x23*x35 - r740*x15)/(x12^2*x23*x35),\n",
       "  a34: 0,\n",
       "  a35: ((r740 + r742)*x23*x35 - r740*x25)/(x12*x23^2*x35),\n",
       "  a45: r746}]"
      ]
     },
     "metadata": {},
     "output_type": "display_data"
    }
   ],
   "source": [
    "#x4\n",
    "reset()\n",
    "\n",
    "var('x12,x13,x14,x15,x23,x24,x25,x34,x35,x45')\n",
    "var('d1,d2,d3,d4,d5')\n",
    "var('a12,a13,a14,a15,a23,a24,a25,a34,a35,a45')\n",
    "\n",
    "load_attach_path('C:\\\\Users\\\\julia\\\\Documents\\\\unb\\\\doutorado\\\\pensar\\\\codigo_sage_v2\\\\maquina\\\\x4')\n",
    "load('out_#101001.sage')\n",
    "\n",
    "m=matrix(QQ, [[0, 1, 0, 0, 1],\n",
    "              [0, 0, 1, 0, 1],\n",
    "              [0, 0, 0, 0, 1],\n",
    "              [0, 0, 0, 0, 0],\n",
    "              [0, 0, 0, 0, 0]])\n",
    "        \n",
    "#entry of matrix: (i,j) line i collum j, means (i-1,j-1)\n",
    "sol=solve([ eq1==m[0,1],\teq2==m[0,2],\teq3==m[0,3],\teq4==m[0,4],\t\n",
    "                                            eq5==m[1,2],    eq6==m[1,3],\n",
    "                                                            eq7==m[1,4], eq8==m[2,4]],d1,d2,d3,d4,d5,a12,a13,a14,a15,a23,a24,a25,a34,a35,a45, solution_dict=True)\n",
    "\n",
    "show(m)\n",
    "show(sol)\n",
    "#latex(sol)"
   ]
  },
  {
   "cell_type": "code",
   "execution_count": 43,
   "metadata": {},
   "outputs": [
    {
     "data": {
      "text/html": [
       "<html><script type=\"math/tex; mode=display\">\\newcommand{\\Bold}[1]{\\mathbf{#1}}\\left(\\begin{array}{rrrrr}\n",
       "0 & 1 & 0 & 1 & 0 \\\\\n",
       "0 & 0 & 1 & 0 & 1 \\\\\n",
       "0 & 0 & 0 & 0 & 1 \\\\\n",
       "0 & 0 & 0 & 0 & 0 \\\\\n",
       "0 & 0 & 0 & 0 & 0\n",
       "\\end{array}\\right)</script></html>"
      ],
      "text/latex": [
       "$$\\newcommand{\\Bold}[1]{\\mathbf{#1}}\\left(\\begin{array}{rrrrr}\n",
       "0 & 1 & 0 & 1 & 0 \\\\\n",
       "0 & 0 & 1 & 0 & 1 \\\\\n",
       "0 & 0 & 0 & 0 & 1 \\\\\n",
       "0 & 0 & 0 & 0 & 0 \\\\\n",
       "0 & 0 & 0 & 0 & 0\n",
       "\\end{array}\\right)$$"
      ],
      "text/plain": [
       "[0 1 0 1 0]\n",
       "[0 0 1 0 1]\n",
       "[0 0 0 0 1]\n",
       "[0 0 0 0 0]\n",
       "[0 0 0 0 0]"
      ]
     },
     "metadata": {},
     "output_type": "display_data"
    },
    {
     "data": {
      "text/html": [
       "<html><script type=\"math/tex; mode=display\">\\newcommand{\\Bold}[1]{\\mathbf{#1}}\\left[\\left\\{d_{1} : 0, d_{2} : 0, d_{3} : 0, d_{4} : r_{747}, d_{5} : 0, a_{12} : r_{748}, a_{13} : r_{749}, a_{14} : r_{750}, a_{15} : r_{751}, a_{23} : r_{752}, a_{24} : r_{753}, a_{25} : r_{754}, a_{34} : 0, a_{35} : r_{755}, a_{45} : r_{756}\\right\\}, \\left\\{d_{1} : r_{757}, d_{2} : \\frac{r_{757}}{x_{12}}, d_{3} : \\frac{r_{757}}{x_{12} x_{23}}, d_{4} : r_{758}, d_{5} : \\frac{r_{757}}{x_{12} x_{23} x_{35}}, a_{12} : r_{759}, a_{13} : r_{760}, a_{14} : r_{761}, a_{15} : r_{762}, a_{23} : \\frac{r_{759}}{x_{12}}, a_{24} : -\\frac{r_{758} x_{14} - r_{757}}{x_{12}}, a_{25} : r_{763}, a_{34} : 0, a_{35} : \\frac{{\\left(r_{757} + r_{759}\\right)} x_{23} x_{35} - r_{757} x_{25}}{x_{12} x_{23}^{2} x_{35}}, a_{45} : -\\frac{r_{763} x_{12} - r_{759} - r_{760}}{x_{14}}\\right\\}\\right]</script></html>"
      ],
      "text/latex": [
       "$$\\newcommand{\\Bold}[1]{\\mathbf{#1}}\\left[\\left\\{d_{1} : 0, d_{2} : 0, d_{3} : 0, d_{4} : r_{747}, d_{5} : 0, a_{12} : r_{748}, a_{13} : r_{749}, a_{14} : r_{750}, a_{15} : r_{751}, a_{23} : r_{752}, a_{24} : r_{753}, a_{25} : r_{754}, a_{34} : 0, a_{35} : r_{755}, a_{45} : r_{756}\\right\\}, \\left\\{d_{1} : r_{757}, d_{2} : \\frac{r_{757}}{x_{12}}, d_{3} : \\frac{r_{757}}{x_{12} x_{23}}, d_{4} : r_{758}, d_{5} : \\frac{r_{757}}{x_{12} x_{23} x_{35}}, a_{12} : r_{759}, a_{13} : r_{760}, a_{14} : r_{761}, a_{15} : r_{762}, a_{23} : \\frac{r_{759}}{x_{12}}, a_{24} : -\\frac{r_{758} x_{14} - r_{757}}{x_{12}}, a_{25} : r_{763}, a_{34} : 0, a_{35} : \\frac{{\\left(r_{757} + r_{759}\\right)} x_{23} x_{35} - r_{757} x_{25}}{x_{12} x_{23}^{2} x_{35}}, a_{45} : -\\frac{r_{763} x_{12} - r_{759} - r_{760}}{x_{14}}\\right\\}\\right]$$"
      ],
      "text/plain": [
       "[{d1: 0,\n",
       "  d2: 0,\n",
       "  d3: 0,\n",
       "  d4: r747,\n",
       "  d5: 0,\n",
       "  a12: r748,\n",
       "  a13: r749,\n",
       "  a14: r750,\n",
       "  a15: r751,\n",
       "  a23: r752,\n",
       "  a24: r753,\n",
       "  a25: r754,\n",
       "  a34: 0,\n",
       "  a35: r755,\n",
       "  a45: r756},\n",
       " {d1: r757,\n",
       "  d2: r757/x12,\n",
       "  d3: r757/(x12*x23),\n",
       "  d4: r758,\n",
       "  d5: r757/(x12*x23*x35),\n",
       "  a12: r759,\n",
       "  a13: r760,\n",
       "  a14: r761,\n",
       "  a15: r762,\n",
       "  a23: r759/x12,\n",
       "  a24: -(r758*x14 - r757)/x12,\n",
       "  a25: r763,\n",
       "  a34: 0,\n",
       "  a35: ((r757 + r759)*x23*x35 - r757*x25)/(x12*x23^2*x35),\n",
       "  a45: -(r763*x12 - r759 - r760)/x14}]"
      ]
     },
     "metadata": {},
     "output_type": "display_data"
    }
   ],
   "source": [
    "#x4\n",
    "reset()\n",
    "\n",
    "var('x12,x13,x14,x15,x23,x24,x25,x34,x35,x45')\n",
    "var('d1,d2,d3,d4,d5')\n",
    "var('a12,a13,a14,a15,a23,a24,a25,a34,a35,a45')\n",
    "\n",
    "load_attach_path('C:\\\\Users\\\\julia\\\\Documents\\\\unb\\\\doutorado\\\\pensar\\\\codigo_sage_v2\\\\maquina\\\\x4')\n",
    "load('out_#101010.sage')\n",
    "\n",
    "m=matrix(QQ, [[0, 1, 0, 1, 0],\n",
    "              [0, 0, 1, 0, 1],\n",
    "              [0, 0, 0, 0, 1],\n",
    "              [0, 0, 0, 0, 0],\n",
    "              [0, 0, 0, 0, 0]])\n",
    "        \n",
    "#entry of matrix: (i,j) line i collum j, means (i-1,j-1)\n",
    "sol=solve([ eq1==m[0,1],\teq2==m[0,2],\teq3==m[0,3],\teq4==m[0,4],\t\n",
    "                                            eq5==m[1,2],    eq6==m[1,3],\n",
    "                                                            eq7==m[1,4], eq8==m[2,4]],d1,d2,d3,d4,d5,a12,a13,a14,a15,a23,a24,a25,a34,a35,a45, solution_dict=True)\n",
    "\n",
    "show(m)\n",
    "show(sol)\n",
    "#latex(sol)"
   ]
  },
  {
   "cell_type": "code",
   "execution_count": 44,
   "metadata": {},
   "outputs": [
    {
     "data": {
      "text/html": [
       "<html><script type=\"math/tex; mode=display\">\\newcommand{\\Bold}[1]{\\mathbf{#1}}\\left(\\begin{array}{rrrrr}\n",
       "0 & 1 & 0 & 1 & 1 \\\\\n",
       "0 & 0 & 1 & 0 & 1 \\\\\n",
       "0 & 0 & 0 & 0 & 1 \\\\\n",
       "0 & 0 & 0 & 0 & 0 \\\\\n",
       "0 & 0 & 0 & 0 & 0\n",
       "\\end{array}\\right)</script></html>"
      ],
      "text/latex": [
       "$$\\newcommand{\\Bold}[1]{\\mathbf{#1}}\\left(\\begin{array}{rrrrr}\n",
       "0 & 1 & 0 & 1 & 1 \\\\\n",
       "0 & 0 & 1 & 0 & 1 \\\\\n",
       "0 & 0 & 0 & 0 & 1 \\\\\n",
       "0 & 0 & 0 & 0 & 0 \\\\\n",
       "0 & 0 & 0 & 0 & 0\n",
       "\\end{array}\\right)$$"
      ],
      "text/plain": [
       "[0 1 0 1 1]\n",
       "[0 0 1 0 1]\n",
       "[0 0 0 0 1]\n",
       "[0 0 0 0 0]\n",
       "[0 0 0 0 0]"
      ]
     },
     "metadata": {},
     "output_type": "display_data"
    },
    {
     "data": {
      "text/html": [
       "<html><script type=\"math/tex; mode=display\">\\newcommand{\\Bold}[1]{\\mathbf{#1}}\\left[\\left\\{d_{1} : 0, d_{2} : 0, d_{3} : 0, d_{4} : r_{764}, d_{5} : 0, a_{12} : r_{765}, a_{13} : r_{766}, a_{14} : r_{767}, a_{15} : r_{768}, a_{23} : r_{769}, a_{24} : r_{770}, a_{25} : r_{771}, a_{34} : 0, a_{35} : r_{772}, a_{45} : r_{773}\\right\\}, \\left\\{d_{1} : r_{774}, d_{2} : \\frac{r_{774}}{x_{12}}, d_{3} : \\frac{r_{774}}{x_{12} x_{23}}, d_{4} : r_{775}, d_{5} : \\frac{r_{774}}{x_{12} x_{23} x_{35}}, a_{12} : r_{776}, a_{13} : r_{777}, a_{14} : r_{778}, a_{15} : r_{779}, a_{23} : \\frac{r_{776}}{x_{12}}, a_{24} : -\\frac{r_{775} x_{14} - r_{774}}{x_{12}}, a_{25} : r_{780}, a_{34} : 0, a_{35} : \\frac{{\\left(r_{774} + r_{776}\\right)} x_{23} x_{35} - r_{774} x_{25}}{x_{12} x_{23}^{2} x_{35}}, a_{45} : -\\frac{{\\left(r_{780} x_{12}^{2} - {\\left(r_{774} + r_{776} + r_{777}\\right)} x_{12}\\right)} x_{23} x_{35} + r_{774} x_{15}}{x_{12} x_{14} x_{23} x_{35}}\\right\\}\\right]</script></html>"
      ],
      "text/latex": [
       "$$\\newcommand{\\Bold}[1]{\\mathbf{#1}}\\left[\\left\\{d_{1} : 0, d_{2} : 0, d_{3} : 0, d_{4} : r_{764}, d_{5} : 0, a_{12} : r_{765}, a_{13} : r_{766}, a_{14} : r_{767}, a_{15} : r_{768}, a_{23} : r_{769}, a_{24} : r_{770}, a_{25} : r_{771}, a_{34} : 0, a_{35} : r_{772}, a_{45} : r_{773}\\right\\}, \\left\\{d_{1} : r_{774}, d_{2} : \\frac{r_{774}}{x_{12}}, d_{3} : \\frac{r_{774}}{x_{12} x_{23}}, d_{4} : r_{775}, d_{5} : \\frac{r_{774}}{x_{12} x_{23} x_{35}}, a_{12} : r_{776}, a_{13} : r_{777}, a_{14} : r_{778}, a_{15} : r_{779}, a_{23} : \\frac{r_{776}}{x_{12}}, a_{24} : -\\frac{r_{775} x_{14} - r_{774}}{x_{12}}, a_{25} : r_{780}, a_{34} : 0, a_{35} : \\frac{{\\left(r_{774} + r_{776}\\right)} x_{23} x_{35} - r_{774} x_{25}}{x_{12} x_{23}^{2} x_{35}}, a_{45} : -\\frac{{\\left(r_{780} x_{12}^{2} - {\\left(r_{774} + r_{776} + r_{777}\\right)} x_{12}\\right)} x_{23} x_{35} + r_{774} x_{15}}{x_{12} x_{14} x_{23} x_{35}}\\right\\}\\right]$$"
      ],
      "text/plain": [
       "[{d1: 0,\n",
       "  d2: 0,\n",
       "  d3: 0,\n",
       "  d4: r764,\n",
       "  d5: 0,\n",
       "  a12: r765,\n",
       "  a13: r766,\n",
       "  a14: r767,\n",
       "  a15: r768,\n",
       "  a23: r769,\n",
       "  a24: r770,\n",
       "  a25: r771,\n",
       "  a34: 0,\n",
       "  a35: r772,\n",
       "  a45: r773},\n",
       " {d1: r774,\n",
       "  d2: r774/x12,\n",
       "  d3: r774/(x12*x23),\n",
       "  d4: r775,\n",
       "  d5: r774/(x12*x23*x35),\n",
       "  a12: r776,\n",
       "  a13: r777,\n",
       "  a14: r778,\n",
       "  a15: r779,\n",
       "  a23: r776/x12,\n",
       "  a24: -(r775*x14 - r774)/x12,\n",
       "  a25: r780,\n",
       "  a34: 0,\n",
       "  a35: ((r774 + r776)*x23*x35 - r774*x25)/(x12*x23^2*x35),\n",
       "  a45: -((r780*x12^2 - (r774 + r776 + r777)*x12)*x23*x35 + r774*x15)/(x12*x14*x23*x35)}]"
      ]
     },
     "metadata": {},
     "output_type": "display_data"
    }
   ],
   "source": [
    "#x4\n",
    "reset()\n",
    "\n",
    "var('x12,x13,x14,x15,x23,x24,x25,x34,x35,x45')\n",
    "var('d1,d2,d3,d4,d5')\n",
    "var('a12,a13,a14,a15,a23,a24,a25,a34,a35,a45')\n",
    "\n",
    "load_attach_path('C:\\\\Users\\\\julia\\\\Documents\\\\unb\\\\doutorado\\\\pensar\\\\codigo_sage_v2\\\\maquina\\\\x4')\n",
    "load('out_#101011.sage')\n",
    "\n",
    "m=matrix(QQ, [[0, 1, 0, 1, 1],\n",
    "              [0, 0, 1, 0, 1],\n",
    "              [0, 0, 0, 0, 1],\n",
    "              [0, 0, 0, 0, 0],\n",
    "              [0, 0, 0, 0, 0]])\n",
    "        \n",
    "#entry of matrix: (i,j) line i collum j, means (i-1,j-1)\n",
    "sol=solve([ eq1==m[0,1],\teq2==m[0,2],\teq3==m[0,3],\teq4==m[0,4],\t\n",
    "                                            eq5==m[1,2],    eq6==m[1,3],\n",
    "                                                            eq7==m[1,4], eq8==m[2,4]],d1,d2,d3,d4,d5,a12,a13,a14,a15,a23,a24,a25,a34,a35,a45, solution_dict=True)\n",
    "\n",
    "show(m)\n",
    "show(sol)\n",
    "#latex(sol)"
   ]
  },
  {
   "cell_type": "code",
   "execution_count": 45,
   "metadata": {},
   "outputs": [
    {
     "data": {
      "text/html": [
       "<html><script type=\"math/tex; mode=display\">\\newcommand{\\Bold}[1]{\\mathbf{#1}}\\left(\\begin{array}{rrrrr}\n",
       "0 & 1 & 1 & 0 & 0 \\\\\n",
       "0 & 0 & 1 & 0 & 1 \\\\\n",
       "0 & 0 & 0 & 0 & 1 \\\\\n",
       "0 & 0 & 0 & 0 & 0 \\\\\n",
       "0 & 0 & 0 & 0 & 0\n",
       "\\end{array}\\right)</script></html>"
      ],
      "text/latex": [
       "$$\\newcommand{\\Bold}[1]{\\mathbf{#1}}\\left(\\begin{array}{rrrrr}\n",
       "0 & 1 & 1 & 0 & 0 \\\\\n",
       "0 & 0 & 1 & 0 & 1 \\\\\n",
       "0 & 0 & 0 & 0 & 1 \\\\\n",
       "0 & 0 & 0 & 0 & 0 \\\\\n",
       "0 & 0 & 0 & 0 & 0\n",
       "\\end{array}\\right)$$"
      ],
      "text/plain": [
       "[0 1 1 0 0]\n",
       "[0 0 1 0 1]\n",
       "[0 0 0 0 1]\n",
       "[0 0 0 0 0]\n",
       "[0 0 0 0 0]"
      ]
     },
     "metadata": {},
     "output_type": "display_data"
    },
    {
     "data": {
      "text/html": [
       "<html><script type=\"math/tex; mode=display\">\\newcommand{\\Bold}[1]{\\mathbf{#1}}\\left[\\left\\{d_{1} : 0, d_{2} : 0, d_{3} : 0, d_{4} : r_{781}, d_{5} : 0, a_{12} : r_{782}, a_{13} : r_{783}, a_{14} : r_{784}, a_{15} : r_{785}, a_{23} : r_{786}, a_{24} : r_{787}, a_{25} : r_{788}, a_{34} : 0, a_{35} : r_{789}, a_{45} : r_{790}\\right\\}, \\left\\{d_{1} : r_{791}, d_{2} : \\frac{r_{791}}{x_{12}}, d_{3} : \\frac{r_{791}}{x_{12} x_{23}}, d_{4} : r_{792}, d_{5} : \\frac{r_{791}}{x_{12} x_{23} x_{35}}, a_{12} : r_{793}, a_{13} : r_{794}, a_{14} : r_{795}, a_{15} : r_{796}, a_{23} : \\frac{{\\left(r_{791} + r_{793}\\right)} x_{12} x_{23} - r_{791} x_{13}}{x_{12}^{2} x_{23}}, a_{24} : 0, a_{25} : \\frac{r_{791} x_{12} x_{13} x_{25} + {\\left({\\left(r_{793} + r_{794}\\right)} x_{12}^{2} x_{23}^{2} - {\\left(2 \\, r_{791} + r_{793}\\right)} x_{12} x_{13} x_{23} + r_{791} x_{13}^{2}\\right)} x_{35}}{x_{12}^{3} x_{23}^{2} x_{35}}, a_{34} : 0, a_{35} : -\\frac{r_{791} x_{12} x_{25} - {\\left({\\left(2 \\, r_{791} + r_{793}\\right)} x_{12} x_{23} - r_{791} x_{13}\\right)} x_{35}}{x_{12}^{2} x_{23}^{2} x_{35}}, a_{45} : r_{797}\\right\\}\\right]</script></html>"
      ],
      "text/latex": [
       "$$\\newcommand{\\Bold}[1]{\\mathbf{#1}}\\left[\\left\\{d_{1} : 0, d_{2} : 0, d_{3} : 0, d_{4} : r_{781}, d_{5} : 0, a_{12} : r_{782}, a_{13} : r_{783}, a_{14} : r_{784}, a_{15} : r_{785}, a_{23} : r_{786}, a_{24} : r_{787}, a_{25} : r_{788}, a_{34} : 0, a_{35} : r_{789}, a_{45} : r_{790}\\right\\}, \\left\\{d_{1} : r_{791}, d_{2} : \\frac{r_{791}}{x_{12}}, d_{3} : \\frac{r_{791}}{x_{12} x_{23}}, d_{4} : r_{792}, d_{5} : \\frac{r_{791}}{x_{12} x_{23} x_{35}}, a_{12} : r_{793}, a_{13} : r_{794}, a_{14} : r_{795}, a_{15} : r_{796}, a_{23} : \\frac{{\\left(r_{791} + r_{793}\\right)} x_{12} x_{23} - r_{791} x_{13}}{x_{12}^{2} x_{23}}, a_{24} : 0, a_{25} : \\frac{r_{791} x_{12} x_{13} x_{25} + {\\left({\\left(r_{793} + r_{794}\\right)} x_{12}^{2} x_{23}^{2} - {\\left(2 \\, r_{791} + r_{793}\\right)} x_{12} x_{13} x_{23} + r_{791} x_{13}^{2}\\right)} x_{35}}{x_{12}^{3} x_{23}^{2} x_{35}}, a_{34} : 0, a_{35} : -\\frac{r_{791} x_{12} x_{25} - {\\left({\\left(2 \\, r_{791} + r_{793}\\right)} x_{12} x_{23} - r_{791} x_{13}\\right)} x_{35}}{x_{12}^{2} x_{23}^{2} x_{35}}, a_{45} : r_{797}\\right\\}\\right]$$"
      ],
      "text/plain": [
       "[{d1: 0,\n",
       "  d2: 0,\n",
       "  d3: 0,\n",
       "  d4: r781,\n",
       "  d5: 0,\n",
       "  a12: r782,\n",
       "  a13: r783,\n",
       "  a14: r784,\n",
       "  a15: r785,\n",
       "  a23: r786,\n",
       "  a24: r787,\n",
       "  a25: r788,\n",
       "  a34: 0,\n",
       "  a35: r789,\n",
       "  a45: r790},\n",
       " {d1: r791,\n",
       "  d2: r791/x12,\n",
       "  d3: r791/(x12*x23),\n",
       "  d4: r792,\n",
       "  d5: r791/(x12*x23*x35),\n",
       "  a12: r793,\n",
       "  a13: r794,\n",
       "  a14: r795,\n",
       "  a15: r796,\n",
       "  a23: ((r791 + r793)*x12*x23 - r791*x13)/(x12^2*x23),\n",
       "  a24: 0,\n",
       "  a25: (r791*x12*x13*x25 + ((r793 + r794)*x12^2*x23^2 - (2*r791 + r793)*x12*x13*x23 + r791*x13^2)*x35)/(x12^3*x23^2*x35),\n",
       "  a34: 0,\n",
       "  a35: -(r791*x12*x25 - ((2*r791 + r793)*x12*x23 - r791*x13)*x35)/(x12^2*x23^2*x35),\n",
       "  a45: r797}]"
      ]
     },
     "metadata": {},
     "output_type": "display_data"
    }
   ],
   "source": [
    "#x4\n",
    "reset()\n",
    "\n",
    "var('x12,x13,x14,x15,x23,x24,x25,x34,x35,x45')\n",
    "var('d1,d2,d3,d4,d5')\n",
    "var('a12,a13,a14,a15,a23,a24,a25,a34,a35,a45')\n",
    "\n",
    "load_attach_path('C:\\\\Users\\\\julia\\\\Documents\\\\unb\\\\doutorado\\\\pensar\\\\codigo_sage_v2\\\\maquina\\\\x4')\n",
    "load('out_#101100.sage')\n",
    "\n",
    "m=matrix(QQ, [[0, 1, 1, 0, 0],\n",
    "              [0, 0, 1, 0, 1],\n",
    "              [0, 0, 0, 0, 1],\n",
    "              [0, 0, 0, 0, 0],\n",
    "              [0, 0, 0, 0, 0]])\n",
    "        \n",
    "#entry of matrix: (i,j) line i collum j, means (i-1,j-1)\n",
    "sol=solve([ eq1==m[0,1],\teq2==m[0,2],\teq3==m[0,3],\teq4==m[0,4],\t\n",
    "                                            eq5==m[1,2],    eq6==m[1,3],\n",
    "                                                            eq7==m[1,4], eq8==m[2,4]],d1,d2,d3,d4,d5,a12,a13,a14,a15,a23,a24,a25,a34,a35,a45, solution_dict=True)\n",
    "\n",
    "show(m)\n",
    "show(sol)\n",
    "#latex(sol)"
   ]
  },
  {
   "cell_type": "code",
   "execution_count": 46,
   "metadata": {},
   "outputs": [
    {
     "data": {
      "text/html": [
       "<html><script type=\"math/tex; mode=display\">\\newcommand{\\Bold}[1]{\\mathbf{#1}}\\left(\\begin{array}{rrrrr}\n",
       "0 & 1 & 1 & 0 & 1 \\\\\n",
       "0 & 0 & 1 & 0 & 1 \\\\\n",
       "0 & 0 & 0 & 0 & 1 \\\\\n",
       "0 & 0 & 0 & 0 & 0 \\\\\n",
       "0 & 0 & 0 & 0 & 0\n",
       "\\end{array}\\right)</script></html>"
      ],
      "text/latex": [
       "$$\\newcommand{\\Bold}[1]{\\mathbf{#1}}\\left(\\begin{array}{rrrrr}\n",
       "0 & 1 & 1 & 0 & 1 \\\\\n",
       "0 & 0 & 1 & 0 & 1 \\\\\n",
       "0 & 0 & 0 & 0 & 1 \\\\\n",
       "0 & 0 & 0 & 0 & 0 \\\\\n",
       "0 & 0 & 0 & 0 & 0\n",
       "\\end{array}\\right)$$"
      ],
      "text/plain": [
       "[0 1 1 0 1]\n",
       "[0 0 1 0 1]\n",
       "[0 0 0 0 1]\n",
       "[0 0 0 0 0]\n",
       "[0 0 0 0 0]"
      ]
     },
     "metadata": {},
     "output_type": "display_data"
    },
    {
     "data": {
      "text/html": [
       "<html><script type=\"math/tex; mode=display\">\\newcommand{\\Bold}[1]{\\mathbf{#1}}\\left[\\left\\{d_{1} : 0, d_{2} : 0, d_{3} : 0, d_{4} : r_{798}, d_{5} : 0, a_{12} : r_{799}, a_{13} : r_{800}, a_{14} : r_{801}, a_{15} : r_{802}, a_{23} : r_{803}, a_{24} : r_{804}, a_{25} : r_{805}, a_{34} : 0, a_{35} : r_{806}, a_{45} : r_{807}\\right\\}, \\left\\{d_{1} : r_{808}, d_{2} : \\frac{r_{808}}{x_{12}}, d_{3} : \\frac{r_{808}}{x_{12} x_{23}}, d_{4} : r_{809}, d_{5} : \\frac{r_{808}}{x_{12} x_{23} x_{35}}, a_{12} : r_{810}, a_{13} : r_{811}, a_{14} : r_{812}, a_{15} : r_{813}, a_{23} : \\frac{{\\left(r_{808} + r_{810}\\right)} x_{12} x_{23} - r_{808} x_{13}}{x_{12}^{2} x_{23}}, a_{24} : 0, a_{25} : -\\frac{r_{808} x_{12} x_{15} x_{23} - r_{808} x_{12} x_{13} x_{25} - {\\left({\\left(r_{808} + r_{810} + r_{811}\\right)} x_{12}^{2} x_{23}^{2} - {\\left(2 \\, r_{808} + r_{810}\\right)} x_{12} x_{13} x_{23} + r_{808} x_{13}^{2}\\right)} x_{35}}{x_{12}^{3} x_{23}^{2} x_{35}}, a_{34} : 0, a_{35} : -\\frac{r_{808} x_{12} x_{25} - {\\left({\\left(2 \\, r_{808} + r_{810}\\right)} x_{12} x_{23} - r_{808} x_{13}\\right)} x_{35}}{x_{12}^{2} x_{23}^{2} x_{35}}, a_{45} : r_{814}\\right\\}\\right]</script></html>"
      ],
      "text/latex": [
       "$$\\newcommand{\\Bold}[1]{\\mathbf{#1}}\\left[\\left\\{d_{1} : 0, d_{2} : 0, d_{3} : 0, d_{4} : r_{798}, d_{5} : 0, a_{12} : r_{799}, a_{13} : r_{800}, a_{14} : r_{801}, a_{15} : r_{802}, a_{23} : r_{803}, a_{24} : r_{804}, a_{25} : r_{805}, a_{34} : 0, a_{35} : r_{806}, a_{45} : r_{807}\\right\\}, \\left\\{d_{1} : r_{808}, d_{2} : \\frac{r_{808}}{x_{12}}, d_{3} : \\frac{r_{808}}{x_{12} x_{23}}, d_{4} : r_{809}, d_{5} : \\frac{r_{808}}{x_{12} x_{23} x_{35}}, a_{12} : r_{810}, a_{13} : r_{811}, a_{14} : r_{812}, a_{15} : r_{813}, a_{23} : \\frac{{\\left(r_{808} + r_{810}\\right)} x_{12} x_{23} - r_{808} x_{13}}{x_{12}^{2} x_{23}}, a_{24} : 0, a_{25} : -\\frac{r_{808} x_{12} x_{15} x_{23} - r_{808} x_{12} x_{13} x_{25} - {\\left({\\left(r_{808} + r_{810} + r_{811}\\right)} x_{12}^{2} x_{23}^{2} - {\\left(2 \\, r_{808} + r_{810}\\right)} x_{12} x_{13} x_{23} + r_{808} x_{13}^{2}\\right)} x_{35}}{x_{12}^{3} x_{23}^{2} x_{35}}, a_{34} : 0, a_{35} : -\\frac{r_{808} x_{12} x_{25} - {\\left({\\left(2 \\, r_{808} + r_{810}\\right)} x_{12} x_{23} - r_{808} x_{13}\\right)} x_{35}}{x_{12}^{2} x_{23}^{2} x_{35}}, a_{45} : r_{814}\\right\\}\\right]$$"
      ],
      "text/plain": [
       "[{d1: 0,\n",
       "  d2: 0,\n",
       "  d3: 0,\n",
       "  d4: r798,\n",
       "  d5: 0,\n",
       "  a12: r799,\n",
       "  a13: r800,\n",
       "  a14: r801,\n",
       "  a15: r802,\n",
       "  a23: r803,\n",
       "  a24: r804,\n",
       "  a25: r805,\n",
       "  a34: 0,\n",
       "  a35: r806,\n",
       "  a45: r807},\n",
       " {d1: r808,\n",
       "  d2: r808/x12,\n",
       "  d3: r808/(x12*x23),\n",
       "  d4: r809,\n",
       "  d5: r808/(x12*x23*x35),\n",
       "  a12: r810,\n",
       "  a13: r811,\n",
       "  a14: r812,\n",
       "  a15: r813,\n",
       "  a23: ((r808 + r810)*x12*x23 - r808*x13)/(x12^2*x23),\n",
       "  a24: 0,\n",
       "  a25: -(r808*x12*x15*x23 - r808*x12*x13*x25 - ((r808 + r810 + r811)*x12^2*x23^2 - (2*r808 + r810)*x12*x13*x23 + r808*x13^2)*x35)/(x12^3*x23^2*x35),\n",
       "  a34: 0,\n",
       "  a35: -(r808*x12*x25 - ((2*r808 + r810)*x12*x23 - r808*x13)*x35)/(x12^2*x23^2*x35),\n",
       "  a45: r814}]"
      ]
     },
     "metadata": {},
     "output_type": "display_data"
    }
   ],
   "source": [
    "#x4\n",
    "reset()\n",
    "\n",
    "var('x12,x13,x14,x15,x23,x24,x25,x34,x35,x45')\n",
    "var('d1,d2,d3,d4,d5')\n",
    "var('a12,a13,a14,a15,a23,a24,a25,a34,a35,a45')\n",
    "\n",
    "load_attach_path('C:\\\\Users\\\\julia\\\\Documents\\\\unb\\\\doutorado\\\\pensar\\\\codigo_sage_v2\\\\maquina\\\\x4')\n",
    "load('out_#101101.sage')\n",
    "\n",
    "m=matrix(QQ, [[0, 1, 1, 0, 1],\n",
    "              [0, 0, 1, 0, 1],\n",
    "              [0, 0, 0, 0, 1],\n",
    "              [0, 0, 0, 0, 0],\n",
    "              [0, 0, 0, 0, 0]])\n",
    "        \n",
    "#entry of matrix: (i,j) line i collum j, means (i-1,j-1)\n",
    "sol=solve([ eq1==m[0,1],\teq2==m[0,2],\teq3==m[0,3],\teq4==m[0,4],\t\n",
    "                                            eq5==m[1,2],    eq6==m[1,3],\n",
    "                                                            eq7==m[1,4], eq8==m[2,4]],d1,d2,d3,d4,d5,a12,a13,a14,a15,a23,a24,a25,a34,a35,a45, solution_dict=True)\n",
    "\n",
    "show(m)\n",
    "show(sol)\n",
    "#latex(sol)"
   ]
  },
  {
   "cell_type": "code",
   "execution_count": 47,
   "metadata": {},
   "outputs": [
    {
     "data": {
      "text/html": [
       "<html><script type=\"math/tex; mode=display\">\\newcommand{\\Bold}[1]{\\mathbf{#1}}\\left(\\begin{array}{rrrrr}\n",
       "0 & 1 & 1 & 1 & 0 \\\\\n",
       "0 & 0 & 1 & 0 & 1 \\\\\n",
       "0 & 0 & 0 & 0 & 1 \\\\\n",
       "0 & 0 & 0 & 0 & 0 \\\\\n",
       "0 & 0 & 0 & 0 & 0\n",
       "\\end{array}\\right)</script></html>"
      ],
      "text/latex": [
       "$$\\newcommand{\\Bold}[1]{\\mathbf{#1}}\\left(\\begin{array}{rrrrr}\n",
       "0 & 1 & 1 & 1 & 0 \\\\\n",
       "0 & 0 & 1 & 0 & 1 \\\\\n",
       "0 & 0 & 0 & 0 & 1 \\\\\n",
       "0 & 0 & 0 & 0 & 0 \\\\\n",
       "0 & 0 & 0 & 0 & 0\n",
       "\\end{array}\\right)$$"
      ],
      "text/plain": [
       "[0 1 1 1 0]\n",
       "[0 0 1 0 1]\n",
       "[0 0 0 0 1]\n",
       "[0 0 0 0 0]\n",
       "[0 0 0 0 0]"
      ]
     },
     "metadata": {},
     "output_type": "display_data"
    },
    {
     "data": {
      "text/html": [
       "<html><script type=\"math/tex; mode=display\">\\newcommand{\\Bold}[1]{\\mathbf{#1}}\\left[\\left\\{d_{1} : 0, d_{2} : 0, d_{3} : 0, d_{4} : r_{815}, d_{5} : 0, a_{12} : r_{816}, a_{13} : r_{817}, a_{14} : r_{818}, a_{15} : r_{819}, a_{23} : r_{820}, a_{24} : r_{821}, a_{25} : r_{822}, a_{34} : 0, a_{35} : r_{823}, a_{45} : r_{824}\\right\\}, \\left\\{d_{1} : r_{825}, d_{2} : \\frac{r_{825}}{x_{12}}, d_{3} : \\frac{r_{825}}{x_{12} x_{23}}, d_{4} : r_{826}, d_{5} : \\frac{r_{825}}{x_{12} x_{23} x_{35}}, a_{12} : r_{827}, a_{13} : r_{828}, a_{14} : r_{829}, a_{15} : r_{830}, a_{23} : \\frac{{\\left(r_{825} + r_{827}\\right)} x_{12} x_{23} - r_{825} x_{13}}{x_{12}^{2} x_{23}}, a_{24} : -\\frac{r_{826} x_{14} - r_{825}}{x_{12}}, a_{25} : r_{831}, a_{34} : 0, a_{35} : -\\frac{r_{825} x_{12} x_{25} - {\\left({\\left(2 \\, r_{825} + r_{827}\\right)} x_{12} x_{23} - r_{825} x_{13}\\right)} x_{35}}{x_{12}^{2} x_{23}^{2} x_{35}}, a_{45} : \\frac{r_{825} x_{12} x_{13} x_{25} - {\\left({\\left(2 \\, r_{825} + r_{827}\\right)} x_{12} x_{13} x_{23} - r_{825} x_{13}^{2} + {\\left(r_{831} x_{12}^{3} - {\\left(r_{827} + r_{828}\\right)} x_{12}^{2}\\right)} x_{23}^{2}\\right)} x_{35}}{x_{12}^{2} x_{14} x_{23}^{2} x_{35}}\\right\\}\\right]</script></html>"
      ],
      "text/latex": [
       "$$\\newcommand{\\Bold}[1]{\\mathbf{#1}}\\left[\\left\\{d_{1} : 0, d_{2} : 0, d_{3} : 0, d_{4} : r_{815}, d_{5} : 0, a_{12} : r_{816}, a_{13} : r_{817}, a_{14} : r_{818}, a_{15} : r_{819}, a_{23} : r_{820}, a_{24} : r_{821}, a_{25} : r_{822}, a_{34} : 0, a_{35} : r_{823}, a_{45} : r_{824}\\right\\}, \\left\\{d_{1} : r_{825}, d_{2} : \\frac{r_{825}}{x_{12}}, d_{3} : \\frac{r_{825}}{x_{12} x_{23}}, d_{4} : r_{826}, d_{5} : \\frac{r_{825}}{x_{12} x_{23} x_{35}}, a_{12} : r_{827}, a_{13} : r_{828}, a_{14} : r_{829}, a_{15} : r_{830}, a_{23} : \\frac{{\\left(r_{825} + r_{827}\\right)} x_{12} x_{23} - r_{825} x_{13}}{x_{12}^{2} x_{23}}, a_{24} : -\\frac{r_{826} x_{14} - r_{825}}{x_{12}}, a_{25} : r_{831}, a_{34} : 0, a_{35} : -\\frac{r_{825} x_{12} x_{25} - {\\left({\\left(2 \\, r_{825} + r_{827}\\right)} x_{12} x_{23} - r_{825} x_{13}\\right)} x_{35}}{x_{12}^{2} x_{23}^{2} x_{35}}, a_{45} : \\frac{r_{825} x_{12} x_{13} x_{25} - {\\left({\\left(2 \\, r_{825} + r_{827}\\right)} x_{12} x_{13} x_{23} - r_{825} x_{13}^{2} + {\\left(r_{831} x_{12}^{3} - {\\left(r_{827} + r_{828}\\right)} x_{12}^{2}\\right)} x_{23}^{2}\\right)} x_{35}}{x_{12}^{2} x_{14} x_{23}^{2} x_{35}}\\right\\}\\right]$$"
      ],
      "text/plain": [
       "[{d1: 0,\n",
       "  d2: 0,\n",
       "  d3: 0,\n",
       "  d4: r815,\n",
       "  d5: 0,\n",
       "  a12: r816,\n",
       "  a13: r817,\n",
       "  a14: r818,\n",
       "  a15: r819,\n",
       "  a23: r820,\n",
       "  a24: r821,\n",
       "  a25: r822,\n",
       "  a34: 0,\n",
       "  a35: r823,\n",
       "  a45: r824},\n",
       " {d1: r825,\n",
       "  d2: r825/x12,\n",
       "  d3: r825/(x12*x23),\n",
       "  d4: r826,\n",
       "  d5: r825/(x12*x23*x35),\n",
       "  a12: r827,\n",
       "  a13: r828,\n",
       "  a14: r829,\n",
       "  a15: r830,\n",
       "  a23: ((r825 + r827)*x12*x23 - r825*x13)/(x12^2*x23),\n",
       "  a24: -(r826*x14 - r825)/x12,\n",
       "  a25: r831,\n",
       "  a34: 0,\n",
       "  a35: -(r825*x12*x25 - ((2*r825 + r827)*x12*x23 - r825*x13)*x35)/(x12^2*x23^2*x35),\n",
       "  a45: (r825*x12*x13*x25 - ((2*r825 + r827)*x12*x13*x23 - r825*x13^2 + (r831*x12^3 - (r827 + r828)*x12^2)*x23^2)*x35)/(x12^2*x14*x23^2*x35)}]"
      ]
     },
     "metadata": {},
     "output_type": "display_data"
    }
   ],
   "source": [
    "#x4\n",
    "reset()\n",
    "\n",
    "var('x12,x13,x14,x15,x23,x24,x25,x34,x35,x45')\n",
    "var('d1,d2,d3,d4,d5')\n",
    "var('a12,a13,a14,a15,a23,a24,a25,a34,a35,a45')\n",
    "\n",
    "load_attach_path('C:\\\\Users\\\\julia\\\\Documents\\\\unb\\\\doutorado\\\\pensar\\\\codigo_sage_v2\\\\maquina\\\\x4')\n",
    "load('out_#101110.sage')\n",
    "\n",
    "m=matrix(QQ, [[0, 1, 1, 1, 0],\n",
    "              [0, 0, 1, 0, 1],\n",
    "              [0, 0, 0, 0, 1],\n",
    "              [0, 0, 0, 0, 0],\n",
    "              [0, 0, 0, 0, 0]])\n",
    "        \n",
    "#entry of matrix: (i,j) line i collum j, means (i-1,j-1)\n",
    "sol=solve([ eq1==m[0,1],\teq2==m[0,2],\teq3==m[0,3],\teq4==m[0,4],\t\n",
    "                                            eq5==m[1,2],    eq6==m[1,3],\n",
    "                                                            eq7==m[1,4], eq8==m[2,4]],d1,d2,d3,d4,d5,a12,a13,a14,a15,a23,a24,a25,a34,a35,a45, solution_dict=True)\n",
    "\n",
    "show(m)\n",
    "show(sol)\n",
    "#latex(sol)"
   ]
  },
  {
   "cell_type": "code",
   "execution_count": 48,
   "metadata": {},
   "outputs": [
    {
     "data": {
      "text/html": [
       "<html><script type=\"math/tex; mode=display\">\\newcommand{\\Bold}[1]{\\mathbf{#1}}\\left(\\begin{array}{rrrrr}\n",
       "0 & 1 & 1 & 1 & 1 \\\\\n",
       "0 & 0 & 1 & 0 & 1 \\\\\n",
       "0 & 0 & 0 & 0 & 1 \\\\\n",
       "0 & 0 & 0 & 0 & 0 \\\\\n",
       "0 & 0 & 0 & 0 & 0\n",
       "\\end{array}\\right)</script></html>"
      ],
      "text/latex": [
       "$$\\newcommand{\\Bold}[1]{\\mathbf{#1}}\\left(\\begin{array}{rrrrr}\n",
       "0 & 1 & 1 & 1 & 1 \\\\\n",
       "0 & 0 & 1 & 0 & 1 \\\\\n",
       "0 & 0 & 0 & 0 & 1 \\\\\n",
       "0 & 0 & 0 & 0 & 0 \\\\\n",
       "0 & 0 & 0 & 0 & 0\n",
       "\\end{array}\\right)$$"
      ],
      "text/plain": [
       "[0 1 1 1 1]\n",
       "[0 0 1 0 1]\n",
       "[0 0 0 0 1]\n",
       "[0 0 0 0 0]\n",
       "[0 0 0 0 0]"
      ]
     },
     "metadata": {},
     "output_type": "display_data"
    },
    {
     "data": {
      "text/html": [
       "<html><script type=\"math/tex; mode=display\">\\newcommand{\\Bold}[1]{\\mathbf{#1}}\\left[\\left\\{d_{1} : 0, d_{2} : 0, d_{3} : 0, d_{4} : r_{832}, d_{5} : 0, a_{12} : r_{833}, a_{13} : r_{834}, a_{14} : r_{835}, a_{15} : r_{836}, a_{23} : r_{837}, a_{24} : r_{838}, a_{25} : r_{839}, a_{34} : 0, a_{35} : r_{840}, a_{45} : r_{841}\\right\\}, \\left\\{d_{1} : r_{842}, d_{2} : \\frac{r_{842}}{x_{12}}, d_{3} : \\frac{r_{842}}{x_{12} x_{23}}, d_{4} : r_{843}, d_{5} : \\frac{r_{842}}{x_{12} x_{23} x_{35}}, a_{12} : r_{844}, a_{13} : r_{845}, a_{14} : r_{846}, a_{15} : r_{847}, a_{23} : \\frac{{\\left(r_{842} + r_{844}\\right)} x_{12} x_{23} - r_{842} x_{13}}{x_{12}^{2} x_{23}}, a_{24} : -\\frac{r_{843} x_{14} - r_{842}}{x_{12}}, a_{25} : r_{848}, a_{34} : 0, a_{35} : -\\frac{r_{842} x_{12} x_{25} - {\\left({\\left(2 \\, r_{842} + r_{844}\\right)} x_{12} x_{23} - r_{842} x_{13}\\right)} x_{35}}{x_{12}^{2} x_{23}^{2} x_{35}}, a_{45} : -\\frac{r_{842} x_{12} x_{15} x_{23} - r_{842} x_{12} x_{13} x_{25} + {\\left({\\left(2 \\, r_{842} + r_{844}\\right)} x_{12} x_{13} x_{23} - r_{842} x_{13}^{2} + {\\left(r_{848} x_{12}^{3} - {\\left(r_{842} + r_{844} + r_{845}\\right)} x_{12}^{2}\\right)} x_{23}^{2}\\right)} x_{35}}{x_{12}^{2} x_{14} x_{23}^{2} x_{35}}\\right\\}\\right]</script></html>"
      ],
      "text/latex": [
       "$$\\newcommand{\\Bold}[1]{\\mathbf{#1}}\\left[\\left\\{d_{1} : 0, d_{2} : 0, d_{3} : 0, d_{4} : r_{832}, d_{5} : 0, a_{12} : r_{833}, a_{13} : r_{834}, a_{14} : r_{835}, a_{15} : r_{836}, a_{23} : r_{837}, a_{24} : r_{838}, a_{25} : r_{839}, a_{34} : 0, a_{35} : r_{840}, a_{45} : r_{841}\\right\\}, \\left\\{d_{1} : r_{842}, d_{2} : \\frac{r_{842}}{x_{12}}, d_{3} : \\frac{r_{842}}{x_{12} x_{23}}, d_{4} : r_{843}, d_{5} : \\frac{r_{842}}{x_{12} x_{23} x_{35}}, a_{12} : r_{844}, a_{13} : r_{845}, a_{14} : r_{846}, a_{15} : r_{847}, a_{23} : \\frac{{\\left(r_{842} + r_{844}\\right)} x_{12} x_{23} - r_{842} x_{13}}{x_{12}^{2} x_{23}}, a_{24} : -\\frac{r_{843} x_{14} - r_{842}}{x_{12}}, a_{25} : r_{848}, a_{34} : 0, a_{35} : -\\frac{r_{842} x_{12} x_{25} - {\\left({\\left(2 \\, r_{842} + r_{844}\\right)} x_{12} x_{23} - r_{842} x_{13}\\right)} x_{35}}{x_{12}^{2} x_{23}^{2} x_{35}}, a_{45} : -\\frac{r_{842} x_{12} x_{15} x_{23} - r_{842} x_{12} x_{13} x_{25} + {\\left({\\left(2 \\, r_{842} + r_{844}\\right)} x_{12} x_{13} x_{23} - r_{842} x_{13}^{2} + {\\left(r_{848} x_{12}^{3} - {\\left(r_{842} + r_{844} + r_{845}\\right)} x_{12}^{2}\\right)} x_{23}^{2}\\right)} x_{35}}{x_{12}^{2} x_{14} x_{23}^{2} x_{35}}\\right\\}\\right]$$"
      ],
      "text/plain": [
       "[{d1: 0,\n",
       "  d2: 0,\n",
       "  d3: 0,\n",
       "  d4: r832,\n",
       "  d5: 0,\n",
       "  a12: r833,\n",
       "  a13: r834,\n",
       "  a14: r835,\n",
       "  a15: r836,\n",
       "  a23: r837,\n",
       "  a24: r838,\n",
       "  a25: r839,\n",
       "  a34: 0,\n",
       "  a35: r840,\n",
       "  a45: r841},\n",
       " {d1: r842,\n",
       "  d2: r842/x12,\n",
       "  d3: r842/(x12*x23),\n",
       "  d4: r843,\n",
       "  d5: r842/(x12*x23*x35),\n",
       "  a12: r844,\n",
       "  a13: r845,\n",
       "  a14: r846,\n",
       "  a15: r847,\n",
       "  a23: ((r842 + r844)*x12*x23 - r842*x13)/(x12^2*x23),\n",
       "  a24: -(r843*x14 - r842)/x12,\n",
       "  a25: r848,\n",
       "  a34: 0,\n",
       "  a35: -(r842*x12*x25 - ((2*r842 + r844)*x12*x23 - r842*x13)*x35)/(x12^2*x23^2*x35),\n",
       "  a45: -(r842*x12*x15*x23 - r842*x12*x13*x25 + ((2*r842 + r844)*x12*x13*x23 - r842*x13^2 + (r848*x12^3 - (r842 + r844 + r845)*x12^2)*x23^2)*x35)/(x12^2*x14*x23^2*x35)}]"
      ]
     },
     "metadata": {},
     "output_type": "display_data"
    }
   ],
   "source": [
    "#x4\n",
    "reset()\n",
    "\n",
    "var('x12,x13,x14,x15,x23,x24,x25,x34,x35,x45')\n",
    "var('d1,d2,d3,d4,d5')\n",
    "var('a12,a13,a14,a15,a23,a24,a25,a34,a35,a45')\n",
    "\n",
    "load_attach_path('C:\\\\Users\\\\julia\\\\Documents\\\\unb\\\\doutorado\\\\pensar\\\\codigo_sage_v2\\\\maquina\\\\x4')\n",
    "load('out_#101111.sage')\n",
    "\n",
    "m=matrix(QQ, [[0, 1, 1, 1, 1],\n",
    "              [0, 0, 1, 0, 1],\n",
    "              [0, 0, 0, 0, 1],\n",
    "              [0, 0, 0, 0, 0],\n",
    "              [0, 0, 0, 0, 0]])\n",
    "        \n",
    "#entry of matrix: (i,j) line i collum j, means (i-1,j-1)\n",
    "sol=solve([ eq1==m[0,1],\teq2==m[0,2],\teq3==m[0,3],\teq4==m[0,4],\t\n",
    "                                            eq5==m[1,2],    eq6==m[1,3],\n",
    "                                                            eq7==m[1,4], eq8==m[2,4]],d1,d2,d3,d4,d5,a12,a13,a14,a15,a23,a24,a25,a34,a35,a45, solution_dict=True)\n",
    "\n",
    "show(m)\n",
    "show(sol)\n",
    "#latex(sol)"
   ]
  },
  {
   "cell_type": "code",
   "execution_count": 49,
   "metadata": {},
   "outputs": [
    {
     "data": {
      "text/html": [
       "<html><script type=\"math/tex; mode=display\">\\newcommand{\\Bold}[1]{\\mathbf{#1}}\\left(\\begin{array}{rrrrr}\n",
       "0 & 1 & 0 & 0 & 0 \\\\\n",
       "0 & 0 & 1 & 1 & 0 \\\\\n",
       "0 & 0 & 0 & 0 & 1 \\\\\n",
       "0 & 0 & 0 & 0 & 0 \\\\\n",
       "0 & 0 & 0 & 0 & 0\n",
       "\\end{array}\\right)</script></html>"
      ],
      "text/latex": [
       "$$\\newcommand{\\Bold}[1]{\\mathbf{#1}}\\left(\\begin{array}{rrrrr}\n",
       "0 & 1 & 0 & 0 & 0 \\\\\n",
       "0 & 0 & 1 & 1 & 0 \\\\\n",
       "0 & 0 & 0 & 0 & 1 \\\\\n",
       "0 & 0 & 0 & 0 & 0 \\\\\n",
       "0 & 0 & 0 & 0 & 0\n",
       "\\end{array}\\right)$$"
      ],
      "text/plain": [
       "[0 1 0 0 0]\n",
       "[0 0 1 1 0]\n",
       "[0 0 0 0 1]\n",
       "[0 0 0 0 0]\n",
       "[0 0 0 0 0]"
      ]
     },
     "metadata": {},
     "output_type": "display_data"
    },
    {
     "data": {
      "text/html": [
       "<html><script type=\"math/tex; mode=display\">\\newcommand{\\Bold}[1]{\\mathbf{#1}}\\left[\\left\\{d_{1} : 0, d_{2} : 0, d_{3} : 0, d_{4} : r_{849}, d_{5} : 0, a_{12} : r_{850}, a_{13} : r_{851}, a_{14} : r_{852}, a_{15} : r_{853}, a_{23} : r_{854}, a_{24} : r_{855}, a_{25} : r_{856}, a_{34} : -\\frac{r_{849} x_{24}}{x_{23}}, a_{35} : r_{857}, a_{45} : r_{858}\\right\\}, \\left\\{d_{1} : r_{859}, d_{2} : \\frac{r_{859}}{x_{12}}, d_{3} : \\frac{r_{859}}{x_{12} x_{23}}, d_{4} : r_{860}, d_{5} : \\frac{r_{859}}{x_{12} x_{23} x_{35}}, a_{12} : r_{861}, a_{13} : r_{862}, a_{14} : r_{863}, a_{15} : r_{864}, a_{23} : \\frac{r_{861}}{x_{12}}, a_{24} : \\frac{r_{861}}{x_{12}}, a_{25} : \\frac{r_{862}}{x_{12}}, a_{34} : -\\frac{r_{860} x_{12} x_{24} - r_{859}}{x_{12} x_{23}}, a_{35} : r_{865}, a_{45} : -\\frac{r_{865} x_{12} x_{23} - r_{861}}{x_{12} x_{24}}\\right\\}\\right]</script></html>"
      ],
      "text/latex": [
       "$$\\newcommand{\\Bold}[1]{\\mathbf{#1}}\\left[\\left\\{d_{1} : 0, d_{2} : 0, d_{3} : 0, d_{4} : r_{849}, d_{5} : 0, a_{12} : r_{850}, a_{13} : r_{851}, a_{14} : r_{852}, a_{15} : r_{853}, a_{23} : r_{854}, a_{24} : r_{855}, a_{25} : r_{856}, a_{34} : -\\frac{r_{849} x_{24}}{x_{23}}, a_{35} : r_{857}, a_{45} : r_{858}\\right\\}, \\left\\{d_{1} : r_{859}, d_{2} : \\frac{r_{859}}{x_{12}}, d_{3} : \\frac{r_{859}}{x_{12} x_{23}}, d_{4} : r_{860}, d_{5} : \\frac{r_{859}}{x_{12} x_{23} x_{35}}, a_{12} : r_{861}, a_{13} : r_{862}, a_{14} : r_{863}, a_{15} : r_{864}, a_{23} : \\frac{r_{861}}{x_{12}}, a_{24} : \\frac{r_{861}}{x_{12}}, a_{25} : \\frac{r_{862}}{x_{12}}, a_{34} : -\\frac{r_{860} x_{12} x_{24} - r_{859}}{x_{12} x_{23}}, a_{35} : r_{865}, a_{45} : -\\frac{r_{865} x_{12} x_{23} - r_{861}}{x_{12} x_{24}}\\right\\}\\right]$$"
      ],
      "text/plain": [
       "[{d1: 0,\n",
       "  d2: 0,\n",
       "  d3: 0,\n",
       "  d4: r849,\n",
       "  d5: 0,\n",
       "  a12: r850,\n",
       "  a13: r851,\n",
       "  a14: r852,\n",
       "  a15: r853,\n",
       "  a23: r854,\n",
       "  a24: r855,\n",
       "  a25: r856,\n",
       "  a34: -r849*x24/x23,\n",
       "  a35: r857,\n",
       "  a45: r858},\n",
       " {d1: r859,\n",
       "  d2: r859/x12,\n",
       "  d3: r859/(x12*x23),\n",
       "  d4: r860,\n",
       "  d5: r859/(x12*x23*x35),\n",
       "  a12: r861,\n",
       "  a13: r862,\n",
       "  a14: r863,\n",
       "  a15: r864,\n",
       "  a23: r861/x12,\n",
       "  a24: r861/x12,\n",
       "  a25: r862/x12,\n",
       "  a34: -(r860*x12*x24 - r859)/(x12*x23),\n",
       "  a35: r865,\n",
       "  a45: -(r865*x12*x23 - r861)/(x12*x24)}]"
      ]
     },
     "metadata": {},
     "output_type": "display_data"
    }
   ],
   "source": [
    "#x4\n",
    "reset()\n",
    "\n",
    "var('x12,x13,x14,x15,x23,x24,x25,x34,x35,x45')\n",
    "var('d1,d2,d3,d4,d5')\n",
    "var('a12,a13,a14,a15,a23,a24,a25,a34,a35,a45')\n",
    "\n",
    "load_attach_path('C:\\\\Users\\\\julia\\\\Documents\\\\unb\\\\doutorado\\\\pensar\\\\codigo_sage_v2\\\\maquina\\\\x4')\n",
    "load('out_#110000.sage')\n",
    "\n",
    "m=matrix(QQ, [[0, 1, 0, 0, 0],\n",
    "              [0, 0, 1, 1, 0],\n",
    "              [0, 0, 0, 0, 1],\n",
    "              [0, 0, 0, 0, 0],\n",
    "              [0, 0, 0, 0, 0]])\n",
    "        \n",
    "#entry of matrix: (i,j) line i collum j, means (i-1,j-1)\n",
    "sol=solve([ eq1==m[0,1],\teq2==m[0,2],\teq3==m[0,3],\teq4==m[0,4],\t\n",
    "                                            eq5==m[1,2],    eq6==m[1,3],\n",
    "                                                            eq7==m[1,4], eq8==m[2,4]],d1,d2,d3,d4,d5,a12,a13,a14,a15,a23,a24,a25,a34,a35,a45, solution_dict=True)\n",
    "\n",
    "show(m)\n",
    "show(sol)\n",
    "#latex(sol)"
   ]
  },
  {
   "cell_type": "code",
   "execution_count": 50,
   "metadata": {},
   "outputs": [
    {
     "data": {
      "text/html": [
       "<html><script type=\"math/tex; mode=display\">\\newcommand{\\Bold}[1]{\\mathbf{#1}}\\left(\\begin{array}{rrrrr}\n",
       "0 & 1 & 0 & 0 & 1 \\\\\n",
       "0 & 0 & 1 & 1 & 1 \\\\\n",
       "0 & 0 & 0 & 0 & 1 \\\\\n",
       "0 & 0 & 0 & 0 & 0 \\\\\n",
       "0 & 0 & 0 & 0 & 0\n",
       "\\end{array}\\right)</script></html>"
      ],
      "text/latex": [
       "$$\\newcommand{\\Bold}[1]{\\mathbf{#1}}\\left(\\begin{array}{rrrrr}\n",
       "0 & 1 & 0 & 0 & 1 \\\\\n",
       "0 & 0 & 1 & 1 & 1 \\\\\n",
       "0 & 0 & 0 & 0 & 1 \\\\\n",
       "0 & 0 & 0 & 0 & 0 \\\\\n",
       "0 & 0 & 0 & 0 & 0\n",
       "\\end{array}\\right)$$"
      ],
      "text/plain": [
       "[0 1 0 0 1]\n",
       "[0 0 1 1 1]\n",
       "[0 0 0 0 1]\n",
       "[0 0 0 0 0]\n",
       "[0 0 0 0 0]"
      ]
     },
     "metadata": {},
     "output_type": "display_data"
    },
    {
     "data": {
      "text/html": [
       "<html><script type=\"math/tex; mode=display\">\\newcommand{\\Bold}[1]{\\mathbf{#1}}\\left[\\left\\{d_{1} : 0, d_{2} : 0, d_{3} : 0, d_{4} : r_{866}, d_{5} : 0, a_{12} : r_{867}, a_{13} : r_{868}, a_{14} : r_{869}, a_{15} : r_{870}, a_{23} : r_{871}, a_{24} : r_{872}, a_{25} : r_{873}, a_{34} : -\\frac{r_{866} x_{24}}{x_{23}}, a_{35} : r_{874}, a_{45} : r_{875}\\right\\}, \\left\\{d_{1} : r_{876}, d_{2} : \\frac{r_{876}}{x_{12}}, d_{3} : \\frac{r_{876}}{x_{12} x_{23}}, d_{4} : r_{877}, d_{5} : \\frac{r_{876}}{x_{12} x_{23} x_{35}}, a_{12} : r_{878}, a_{13} : r_{879}, a_{14} : r_{880}, a_{15} : r_{881}, a_{23} : \\frac{r_{878}}{x_{12}}, a_{24} : \\frac{r_{878}}{x_{12}}, a_{25} : \\frac{{\\left(r_{876} + r_{878} + r_{879}\\right)} x_{12} x_{23} x_{35} - r_{876} x_{15}}{x_{12}^{2} x_{23} x_{35}}, a_{34} : -\\frac{r_{877} x_{12} x_{24} - r_{876}}{x_{12} x_{23}}, a_{35} : r_{882}, a_{45} : -\\frac{r_{882} x_{12} x_{23} - r_{876} - r_{878}}{x_{12} x_{24}}\\right\\}\\right]</script></html>"
      ],
      "text/latex": [
       "$$\\newcommand{\\Bold}[1]{\\mathbf{#1}}\\left[\\left\\{d_{1} : 0, d_{2} : 0, d_{3} : 0, d_{4} : r_{866}, d_{5} : 0, a_{12} : r_{867}, a_{13} : r_{868}, a_{14} : r_{869}, a_{15} : r_{870}, a_{23} : r_{871}, a_{24} : r_{872}, a_{25} : r_{873}, a_{34} : -\\frac{r_{866} x_{24}}{x_{23}}, a_{35} : r_{874}, a_{45} : r_{875}\\right\\}, \\left\\{d_{1} : r_{876}, d_{2} : \\frac{r_{876}}{x_{12}}, d_{3} : \\frac{r_{876}}{x_{12} x_{23}}, d_{4} : r_{877}, d_{5} : \\frac{r_{876}}{x_{12} x_{23} x_{35}}, a_{12} : r_{878}, a_{13} : r_{879}, a_{14} : r_{880}, a_{15} : r_{881}, a_{23} : \\frac{r_{878}}{x_{12}}, a_{24} : \\frac{r_{878}}{x_{12}}, a_{25} : \\frac{{\\left(r_{876} + r_{878} + r_{879}\\right)} x_{12} x_{23} x_{35} - r_{876} x_{15}}{x_{12}^{2} x_{23} x_{35}}, a_{34} : -\\frac{r_{877} x_{12} x_{24} - r_{876}}{x_{12} x_{23}}, a_{35} : r_{882}, a_{45} : -\\frac{r_{882} x_{12} x_{23} - r_{876} - r_{878}}{x_{12} x_{24}}\\right\\}\\right]$$"
      ],
      "text/plain": [
       "[{d1: 0,\n",
       "  d2: 0,\n",
       "  d3: 0,\n",
       "  d4: r866,\n",
       "  d5: 0,\n",
       "  a12: r867,\n",
       "  a13: r868,\n",
       "  a14: r869,\n",
       "  a15: r870,\n",
       "  a23: r871,\n",
       "  a24: r872,\n",
       "  a25: r873,\n",
       "  a34: -r866*x24/x23,\n",
       "  a35: r874,\n",
       "  a45: r875},\n",
       " {d1: r876,\n",
       "  d2: r876/x12,\n",
       "  d3: r876/(x12*x23),\n",
       "  d4: r877,\n",
       "  d5: r876/(x12*x23*x35),\n",
       "  a12: r878,\n",
       "  a13: r879,\n",
       "  a14: r880,\n",
       "  a15: r881,\n",
       "  a23: r878/x12,\n",
       "  a24: r878/x12,\n",
       "  a25: ((r876 + r878 + r879)*x12*x23*x35 - r876*x15)/(x12^2*x23*x35),\n",
       "  a34: -(r877*x12*x24 - r876)/(x12*x23),\n",
       "  a35: r882,\n",
       "  a45: -(r882*x12*x23 - r876 - r878)/(x12*x24)}]"
      ]
     },
     "metadata": {},
     "output_type": "display_data"
    }
   ],
   "source": [
    "#x4\n",
    "reset()\n",
    "\n",
    "var('x12,x13,x14,x15,x23,x24,x25,x34,x35,x45')\n",
    "var('d1,d2,d3,d4,d5')\n",
    "var('a12,a13,a14,a15,a23,a24,a25,a34,a35,a45')\n",
    "\n",
    "load_attach_path('C:\\\\Users\\\\julia\\\\Documents\\\\unb\\\\doutorado\\\\pensar\\\\codigo_sage_v2\\\\maquina\\\\x4')\n",
    "load('out_#110001.sage')\n",
    "\n",
    "m=matrix(QQ, [[0, 1, 0, 0, 1],\n",
    "              [0, 0, 1, 1, 1],\n",
    "              [0, 0, 0, 0, 1],\n",
    "              [0, 0, 0, 0, 0],\n",
    "              [0, 0, 0, 0, 0]])\n",
    "        \n",
    "#entry of matrix: (i,j) line i collum j, means (i-1,j-1)\n",
    "sol=solve([ eq1==m[0,1],\teq2==m[0,2],\teq3==m[0,3],\teq4==m[0,4],\t\n",
    "                                            eq5==m[1,2],    eq6==m[1,3],\n",
    "                                                            eq7==m[1,4], eq8==m[2,4]],d1,d2,d3,d4,d5,a12,a13,a14,a15,a23,a24,a25,a34,a35,a45, solution_dict=True)\n",
    "\n",
    "show(m)\n",
    "show(sol)\n",
    "#latex(sol)"
   ]
  },
  {
   "cell_type": "code",
   "execution_count": 51,
   "metadata": {},
   "outputs": [
    {
     "data": {
      "text/html": [
       "<html><script type=\"math/tex; mode=display\">\\newcommand{\\Bold}[1]{\\mathbf{#1}}\\left(\\begin{array}{rrrrr}\n",
       "0 & 1 & 0 & 1 & 0 \\\\\n",
       "0 & 0 & 1 & 1 & 0 \\\\\n",
       "0 & 0 & 0 & 0 & 1 \\\\\n",
       "0 & 0 & 0 & 0 & 0 \\\\\n",
       "0 & 0 & 0 & 0 & 0\n",
       "\\end{array}\\right)</script></html>"
      ],
      "text/latex": [
       "$$\\newcommand{\\Bold}[1]{\\mathbf{#1}}\\left(\\begin{array}{rrrrr}\n",
       "0 & 1 & 0 & 1 & 0 \\\\\n",
       "0 & 0 & 1 & 1 & 0 \\\\\n",
       "0 & 0 & 0 & 0 & 1 \\\\\n",
       "0 & 0 & 0 & 0 & 0 \\\\\n",
       "0 & 0 & 0 & 0 & 0\n",
       "\\end{array}\\right)$$"
      ],
      "text/plain": [
       "[0 1 0 1 0]\n",
       "[0 0 1 1 0]\n",
       "[0 0 0 0 1]\n",
       "[0 0 0 0 0]\n",
       "[0 0 0 0 0]"
      ]
     },
     "metadata": {},
     "output_type": "display_data"
    },
    {
     "data": {
      "text/html": [
       "<html><script type=\"math/tex; mode=display\">\\newcommand{\\Bold}[1]{\\mathbf{#1}}\\left[\\left\\{d_{1} : 0, d_{2} : 0, d_{3} : 0, d_{4} : r_{883}, d_{5} : 0, a_{12} : r_{884}, a_{13} : r_{885}, a_{14} : r_{886}, a_{15} : r_{887}, a_{23} : r_{888}, a_{24} : r_{889}, a_{25} : r_{890}, a_{34} : -\\frac{r_{883} x_{24}}{x_{23}}, a_{35} : r_{891}, a_{45} : r_{892}\\right\\}, \\left\\{d_{1} : r_{893}, d_{2} : \\frac{r_{893}}{x_{12}}, d_{3} : \\frac{r_{893}}{x_{12} x_{23}}, d_{4} : r_{894}, d_{5} : \\frac{r_{893}}{x_{12} x_{23} x_{35}}, a_{12} : r_{895}, a_{13} : r_{896}, a_{14} : r_{897}, a_{15} : r_{898}, a_{23} : \\frac{r_{895}}{x_{12}}, a_{24} : -\\frac{r_{894} x_{14} - r_{893} - r_{895}}{x_{12}}, a_{25} : r_{899}, a_{34} : -\\frac{r_{894} x_{12} x_{24} - r_{893}}{x_{12} x_{23}}, a_{35} : \\frac{r_{895} x_{14} + {\\left(r_{899} x_{12}^{2} - r_{896} x_{12}\\right)} x_{24}}{x_{12} x_{14} x_{23}}, a_{45} : -\\frac{r_{899} x_{12} - r_{896}}{x_{14}}\\right\\}\\right]</script></html>"
      ],
      "text/latex": [
       "$$\\newcommand{\\Bold}[1]{\\mathbf{#1}}\\left[\\left\\{d_{1} : 0, d_{2} : 0, d_{3} : 0, d_{4} : r_{883}, d_{5} : 0, a_{12} : r_{884}, a_{13} : r_{885}, a_{14} : r_{886}, a_{15} : r_{887}, a_{23} : r_{888}, a_{24} : r_{889}, a_{25} : r_{890}, a_{34} : -\\frac{r_{883} x_{24}}{x_{23}}, a_{35} : r_{891}, a_{45} : r_{892}\\right\\}, \\left\\{d_{1} : r_{893}, d_{2} : \\frac{r_{893}}{x_{12}}, d_{3} : \\frac{r_{893}}{x_{12} x_{23}}, d_{4} : r_{894}, d_{5} : \\frac{r_{893}}{x_{12} x_{23} x_{35}}, a_{12} : r_{895}, a_{13} : r_{896}, a_{14} : r_{897}, a_{15} : r_{898}, a_{23} : \\frac{r_{895}}{x_{12}}, a_{24} : -\\frac{r_{894} x_{14} - r_{893} - r_{895}}{x_{12}}, a_{25} : r_{899}, a_{34} : -\\frac{r_{894} x_{12} x_{24} - r_{893}}{x_{12} x_{23}}, a_{35} : \\frac{r_{895} x_{14} + {\\left(r_{899} x_{12}^{2} - r_{896} x_{12}\\right)} x_{24}}{x_{12} x_{14} x_{23}}, a_{45} : -\\frac{r_{899} x_{12} - r_{896}}{x_{14}}\\right\\}\\right]$$"
      ],
      "text/plain": [
       "[{d1: 0,\n",
       "  d2: 0,\n",
       "  d3: 0,\n",
       "  d4: r883,\n",
       "  d5: 0,\n",
       "  a12: r884,\n",
       "  a13: r885,\n",
       "  a14: r886,\n",
       "  a15: r887,\n",
       "  a23: r888,\n",
       "  a24: r889,\n",
       "  a25: r890,\n",
       "  a34: -r883*x24/x23,\n",
       "  a35: r891,\n",
       "  a45: r892},\n",
       " {d1: r893,\n",
       "  d2: r893/x12,\n",
       "  d3: r893/(x12*x23),\n",
       "  d4: r894,\n",
       "  d5: r893/(x12*x23*x35),\n",
       "  a12: r895,\n",
       "  a13: r896,\n",
       "  a14: r897,\n",
       "  a15: r898,\n",
       "  a23: r895/x12,\n",
       "  a24: -(r894*x14 - r893 - r895)/x12,\n",
       "  a25: r899,\n",
       "  a34: -(r894*x12*x24 - r893)/(x12*x23),\n",
       "  a35: (r895*x14 + (r899*x12^2 - r896*x12)*x24)/(x12*x14*x23),\n",
       "  a45: -(r899*x12 - r896)/x14}]"
      ]
     },
     "metadata": {},
     "output_type": "display_data"
    }
   ],
   "source": [
    "#x4\n",
    "reset()\n",
    "\n",
    "var('x12,x13,x14,x15,x23,x24,x25,x34,x35,x45')\n",
    "var('d1,d2,d3,d4,d5')\n",
    "var('a12,a13,a14,a15,a23,a24,a25,a34,a35,a45')\n",
    "\n",
    "load_attach_path('C:\\\\Users\\\\julia\\\\Documents\\\\unb\\\\doutorado\\\\pensar\\\\codigo_sage_v2\\\\maquina\\\\x4')\n",
    "load('out_#110010.sage')\n",
    "\n",
    "m=matrix(QQ, [[0, 1, 0, 1, 0],\n",
    "              [0, 0, 1, 1, 0],\n",
    "              [0, 0, 0, 0, 1],\n",
    "              [0, 0, 0, 0, 0],\n",
    "              [0, 0, 0, 0, 0]])\n",
    "        \n",
    "#entry of matrix: (i,j) line i collum j, means (i-1,j-1)\n",
    "sol=solve([ eq1==m[0,1],\teq2==m[0,2],\teq3==m[0,3],\teq4==m[0,4],\t\n",
    "                                            eq5==m[1,2],    eq6==m[1,3],\n",
    "                                                            eq7==m[1,4], eq8==m[2,4]],d1,d2,d3,d4,d5,a12,a13,a14,a15,a23,a24,a25,a34,a35,a45, solution_dict=True)\n",
    "\n",
    "show(m)\n",
    "show(sol)\n",
    "#latex(sol)"
   ]
  },
  {
   "cell_type": "code",
   "execution_count": 52,
   "metadata": {},
   "outputs": [
    {
     "data": {
      "text/html": [
       "<html><script type=\"math/tex; mode=display\">\\newcommand{\\Bold}[1]{\\mathbf{#1}}\\left(\\begin{array}{rrrrr}\n",
       "0 & 1 & 0 & 1 & 1 \\\\\n",
       "0 & 0 & 1 & 1 & 0 \\\\\n",
       "0 & 0 & 0 & 0 & 1 \\\\\n",
       "0 & 0 & 0 & 0 & 0 \\\\\n",
       "0 & 0 & 0 & 0 & 0\n",
       "\\end{array}\\right)</script></html>"
      ],
      "text/latex": [
       "$$\\newcommand{\\Bold}[1]{\\mathbf{#1}}\\left(\\begin{array}{rrrrr}\n",
       "0 & 1 & 0 & 1 & 1 \\\\\n",
       "0 & 0 & 1 & 1 & 0 \\\\\n",
       "0 & 0 & 0 & 0 & 1 \\\\\n",
       "0 & 0 & 0 & 0 & 0 \\\\\n",
       "0 & 0 & 0 & 0 & 0\n",
       "\\end{array}\\right)$$"
      ],
      "text/plain": [
       "[0 1 0 1 1]\n",
       "[0 0 1 1 0]\n",
       "[0 0 0 0 1]\n",
       "[0 0 0 0 0]\n",
       "[0 0 0 0 0]"
      ]
     },
     "metadata": {},
     "output_type": "display_data"
    },
    {
     "data": {
      "text/html": [
       "<html><script type=\"math/tex; mode=display\">\\newcommand{\\Bold}[1]{\\mathbf{#1}}\\left[\\left\\{d_{1} : 0, d_{2} : 0, d_{3} : 0, d_{4} : r_{900}, d_{5} : 0, a_{12} : r_{901}, a_{13} : r_{902}, a_{14} : r_{903}, a_{15} : r_{904}, a_{23} : r_{905}, a_{24} : r_{906}, a_{25} : r_{907}, a_{34} : -\\frac{r_{900} x_{24}}{x_{23}}, a_{35} : r_{908}, a_{45} : r_{909}\\right\\}, \\left\\{d_{1} : r_{910}, d_{2} : \\frac{r_{910}}{x_{12}}, d_{3} : \\frac{r_{910}}{x_{12} x_{23}}, d_{4} : r_{911}, d_{5} : \\frac{r_{910}}{x_{12} x_{23} x_{35}}, a_{12} : r_{912}, a_{13} : r_{913}, a_{14} : r_{914}, a_{15} : r_{915}, a_{23} : \\frac{r_{912}}{x_{12}}, a_{24} : -\\frac{r_{911} x_{14} - r_{910} - r_{912}}{x_{12}}, a_{25} : r_{916}, a_{34} : -\\frac{r_{911} x_{12} x_{24} - r_{910}}{x_{12} x_{23}}, a_{35} : \\frac{r_{910} x_{15} x_{24} + {\\left(r_{912} x_{14} x_{23} + {\\left(r_{916} x_{12}^{2} - {\\left(r_{910} + r_{913}\\right)} x_{12}\\right)} x_{23} x_{24}\\right)} x_{35}}{x_{12} x_{14} x_{23}^{2} x_{35}}, a_{45} : -\\frac{{\\left(r_{916} x_{12}^{2} - {\\left(r_{910} + r_{913}\\right)} x_{12}\\right)} x_{23} x_{35} + r_{910} x_{15}}{x_{12} x_{14} x_{23} x_{35}}\\right\\}\\right]</script></html>"
      ],
      "text/latex": [
       "$$\\newcommand{\\Bold}[1]{\\mathbf{#1}}\\left[\\left\\{d_{1} : 0, d_{2} : 0, d_{3} : 0, d_{4} : r_{900}, d_{5} : 0, a_{12} : r_{901}, a_{13} : r_{902}, a_{14} : r_{903}, a_{15} : r_{904}, a_{23} : r_{905}, a_{24} : r_{906}, a_{25} : r_{907}, a_{34} : -\\frac{r_{900} x_{24}}{x_{23}}, a_{35} : r_{908}, a_{45} : r_{909}\\right\\}, \\left\\{d_{1} : r_{910}, d_{2} : \\frac{r_{910}}{x_{12}}, d_{3} : \\frac{r_{910}}{x_{12} x_{23}}, d_{4} : r_{911}, d_{5} : \\frac{r_{910}}{x_{12} x_{23} x_{35}}, a_{12} : r_{912}, a_{13} : r_{913}, a_{14} : r_{914}, a_{15} : r_{915}, a_{23} : \\frac{r_{912}}{x_{12}}, a_{24} : -\\frac{r_{911} x_{14} - r_{910} - r_{912}}{x_{12}}, a_{25} : r_{916}, a_{34} : -\\frac{r_{911} x_{12} x_{24} - r_{910}}{x_{12} x_{23}}, a_{35} : \\frac{r_{910} x_{15} x_{24} + {\\left(r_{912} x_{14} x_{23} + {\\left(r_{916} x_{12}^{2} - {\\left(r_{910} + r_{913}\\right)} x_{12}\\right)} x_{23} x_{24}\\right)} x_{35}}{x_{12} x_{14} x_{23}^{2} x_{35}}, a_{45} : -\\frac{{\\left(r_{916} x_{12}^{2} - {\\left(r_{910} + r_{913}\\right)} x_{12}\\right)} x_{23} x_{35} + r_{910} x_{15}}{x_{12} x_{14} x_{23} x_{35}}\\right\\}\\right]$$"
      ],
      "text/plain": [
       "[{d1: 0,\n",
       "  d2: 0,\n",
       "  d3: 0,\n",
       "  d4: r900,\n",
       "  d5: 0,\n",
       "  a12: r901,\n",
       "  a13: r902,\n",
       "  a14: r903,\n",
       "  a15: r904,\n",
       "  a23: r905,\n",
       "  a24: r906,\n",
       "  a25: r907,\n",
       "  a34: -r900*x24/x23,\n",
       "  a35: r908,\n",
       "  a45: r909},\n",
       " {d1: r910,\n",
       "  d2: r910/x12,\n",
       "  d3: r910/(x12*x23),\n",
       "  d4: r911,\n",
       "  d5: r910/(x12*x23*x35),\n",
       "  a12: r912,\n",
       "  a13: r913,\n",
       "  a14: r914,\n",
       "  a15: r915,\n",
       "  a23: r912/x12,\n",
       "  a24: -(r911*x14 - r910 - r912)/x12,\n",
       "  a25: r916,\n",
       "  a34: -(r911*x12*x24 - r910)/(x12*x23),\n",
       "  a35: (r910*x15*x24 + (r912*x14*x23 + (r916*x12^2 - (r910 + r913)*x12)*x23*x24)*x35)/(x12*x14*x23^2*x35),\n",
       "  a45: -((r916*x12^2 - (r910 + r913)*x12)*x23*x35 + r910*x15)/(x12*x14*x23*x35)}]"
      ]
     },
     "metadata": {},
     "output_type": "display_data"
    }
   ],
   "source": [
    "#x4\n",
    "reset()\n",
    "\n",
    "var('x12,x13,x14,x15,x23,x24,x25,x34,x35,x45')\n",
    "var('d1,d2,d3,d4,d5')\n",
    "var('a12,a13,a14,a15,a23,a24,a25,a34,a35,a45')\n",
    "\n",
    "load_attach_path('C:\\\\Users\\\\julia\\\\Documents\\\\unb\\\\doutorado\\\\pensar\\\\codigo_sage_v2\\\\maquina\\\\x4')\n",
    "load('out_#110011.sage')\n",
    "\n",
    "m=matrix(QQ, [[0, 1, 0, 1, 1],\n",
    "              [0, 0, 1, 1, 0],\n",
    "              [0, 0, 0, 0, 1],\n",
    "              [0, 0, 0, 0, 0],\n",
    "              [0, 0, 0, 0, 0]])\n",
    "        \n",
    "#entry of matrix: (i,j) line i collum j, means (i-1,j-1)\n",
    "sol=solve([ eq1==m[0,1],\teq2==m[0,2],\teq3==m[0,3],\teq4==m[0,4],\t\n",
    "                                            eq5==m[1,2],    eq6==m[1,3],\n",
    "                                                            eq7==m[1,4], eq8==m[2,4]],d1,d2,d3,d4,d5,a12,a13,a14,a15,a23,a24,a25,a34,a35,a45, solution_dict=True)\n",
    "\n",
    "show(m)\n",
    "show(sol)\n",
    "#latex(sol)"
   ]
  },
  {
   "cell_type": "code",
   "execution_count": 53,
   "metadata": {},
   "outputs": [
    {
     "data": {
      "text/html": [
       "<html><script type=\"math/tex; mode=display\">\\newcommand{\\Bold}[1]{\\mathbf{#1}}\\left(\\begin{array}{rrrrr}\n",
       "0 & 1 & 1 & 0 & 0 \\\\\n",
       "0 & 0 & 1 & 1 & 0 \\\\\n",
       "0 & 0 & 0 & 0 & 1 \\\\\n",
       "0 & 0 & 0 & 0 & 0 \\\\\n",
       "0 & 0 & 0 & 0 & 0\n",
       "\\end{array}\\right)</script></html>"
      ],
      "text/latex": [
       "$$\\newcommand{\\Bold}[1]{\\mathbf{#1}}\\left(\\begin{array}{rrrrr}\n",
       "0 & 1 & 1 & 0 & 0 \\\\\n",
       "0 & 0 & 1 & 1 & 0 \\\\\n",
       "0 & 0 & 0 & 0 & 1 \\\\\n",
       "0 & 0 & 0 & 0 & 0 \\\\\n",
       "0 & 0 & 0 & 0 & 0\n",
       "\\end{array}\\right)$$"
      ],
      "text/plain": [
       "[0 1 1 0 0]\n",
       "[0 0 1 1 0]\n",
       "[0 0 0 0 1]\n",
       "[0 0 0 0 0]\n",
       "[0 0 0 0 0]"
      ]
     },
     "metadata": {},
     "output_type": "display_data"
    },
    {
     "data": {
      "text/html": [
       "<html><script type=\"math/tex; mode=display\">\\newcommand{\\Bold}[1]{\\mathbf{#1}}\\left[\\left\\{d_{1} : 0, d_{2} : 0, d_{3} : 0, d_{4} : r_{917}, d_{5} : 0, a_{12} : r_{918}, a_{13} : r_{919}, a_{14} : r_{920}, a_{15} : r_{921}, a_{23} : r_{922}, a_{24} : r_{923}, a_{25} : r_{924}, a_{34} : -\\frac{r_{917} x_{24}}{x_{23}}, a_{35} : r_{925}, a_{45} : r_{926}\\right\\}, \\left\\{d_{1} : r_{927}, d_{2} : \\frac{r_{927}}{x_{12}}, d_{3} : \\frac{r_{927}}{x_{12} x_{23}}, d_{4} : r_{928}, d_{5} : \\frac{r_{927}}{x_{12} x_{23} x_{35}}, a_{12} : r_{929}, a_{13} : r_{930}, a_{14} : r_{931}, a_{15} : r_{932}, a_{23} : \\frac{{\\left(r_{927} + r_{929}\\right)} x_{12} x_{23} - r_{927} x_{13}}{x_{12}^{2} x_{23}}, a_{24} : \\frac{r_{928} x_{12} x_{13} x_{24} + r_{929} x_{12} x_{23} - r_{927} x_{13}}{x_{12}^{2} x_{23}}, a_{25} : r_{933}, a_{34} : -\\frac{r_{928} x_{12} x_{24} - r_{927}}{x_{12} x_{23}}, a_{35} : -\\frac{r_{933} x_{12} - r_{930}}{x_{13}}, a_{45} : \\frac{{\\left(r_{927} + r_{929}\\right)} x_{12} x_{13} x_{23} - r_{927} x_{13}^{2} + {\\left(r_{933} x_{12}^{3} - r_{930} x_{12}^{2}\\right)} x_{23}^{2}}{x_{12}^{2} x_{13} x_{23} x_{24}}\\right\\}\\right]</script></html>"
      ],
      "text/latex": [
       "$$\\newcommand{\\Bold}[1]{\\mathbf{#1}}\\left[\\left\\{d_{1} : 0, d_{2} : 0, d_{3} : 0, d_{4} : r_{917}, d_{5} : 0, a_{12} : r_{918}, a_{13} : r_{919}, a_{14} : r_{920}, a_{15} : r_{921}, a_{23} : r_{922}, a_{24} : r_{923}, a_{25} : r_{924}, a_{34} : -\\frac{r_{917} x_{24}}{x_{23}}, a_{35} : r_{925}, a_{45} : r_{926}\\right\\}, \\left\\{d_{1} : r_{927}, d_{2} : \\frac{r_{927}}{x_{12}}, d_{3} : \\frac{r_{927}}{x_{12} x_{23}}, d_{4} : r_{928}, d_{5} : \\frac{r_{927}}{x_{12} x_{23} x_{35}}, a_{12} : r_{929}, a_{13} : r_{930}, a_{14} : r_{931}, a_{15} : r_{932}, a_{23} : \\frac{{\\left(r_{927} + r_{929}\\right)} x_{12} x_{23} - r_{927} x_{13}}{x_{12}^{2} x_{23}}, a_{24} : \\frac{r_{928} x_{12} x_{13} x_{24} + r_{929} x_{12} x_{23} - r_{927} x_{13}}{x_{12}^{2} x_{23}}, a_{25} : r_{933}, a_{34} : -\\frac{r_{928} x_{12} x_{24} - r_{927}}{x_{12} x_{23}}, a_{35} : -\\frac{r_{933} x_{12} - r_{930}}{x_{13}}, a_{45} : \\frac{{\\left(r_{927} + r_{929}\\right)} x_{12} x_{13} x_{23} - r_{927} x_{13}^{2} + {\\left(r_{933} x_{12}^{3} - r_{930} x_{12}^{2}\\right)} x_{23}^{2}}{x_{12}^{2} x_{13} x_{23} x_{24}}\\right\\}\\right]$$"
      ],
      "text/plain": [
       "[{d1: 0,\n",
       "  d2: 0,\n",
       "  d3: 0,\n",
       "  d4: r917,\n",
       "  d5: 0,\n",
       "  a12: r918,\n",
       "  a13: r919,\n",
       "  a14: r920,\n",
       "  a15: r921,\n",
       "  a23: r922,\n",
       "  a24: r923,\n",
       "  a25: r924,\n",
       "  a34: -r917*x24/x23,\n",
       "  a35: r925,\n",
       "  a45: r926},\n",
       " {d1: r927,\n",
       "  d2: r927/x12,\n",
       "  d3: r927/(x12*x23),\n",
       "  d4: r928,\n",
       "  d5: r927/(x12*x23*x35),\n",
       "  a12: r929,\n",
       "  a13: r930,\n",
       "  a14: r931,\n",
       "  a15: r932,\n",
       "  a23: ((r927 + r929)*x12*x23 - r927*x13)/(x12^2*x23),\n",
       "  a24: (r928*x12*x13*x24 + r929*x12*x23 - r927*x13)/(x12^2*x23),\n",
       "  a25: r933,\n",
       "  a34: -(r928*x12*x24 - r927)/(x12*x23),\n",
       "  a35: -(r933*x12 - r930)/x13,\n",
       "  a45: ((r927 + r929)*x12*x13*x23 - r927*x13^2 + (r933*x12^3 - r930*x12^2)*x23^2)/(x12^2*x13*x23*x24)}]"
      ]
     },
     "metadata": {},
     "output_type": "display_data"
    }
   ],
   "source": [
    "#x4\n",
    "reset()\n",
    "\n",
    "var('x12,x13,x14,x15,x23,x24,x25,x34,x35,x45')\n",
    "var('d1,d2,d3,d4,d5')\n",
    "var('a12,a13,a14,a15,a23,a24,a25,a34,a35,a45')\n",
    "\n",
    "load_attach_path('C:\\\\Users\\\\julia\\\\Documents\\\\unb\\\\doutorado\\\\pensar\\\\codigo_sage_v2\\\\maquina\\\\x4')\n",
    "load('out_#110100.sage')\n",
    "\n",
    "m=matrix(QQ, [[0, 1, 1, 0, 0],\n",
    "              [0, 0, 1, 1, 0],\n",
    "              [0, 0, 0, 0, 1],\n",
    "              [0, 0, 0, 0, 0],\n",
    "              [0, 0, 0, 0, 0]])\n",
    "        \n",
    "#entry of matrix: (i,j) line i collum j, means (i-1,j-1)\n",
    "sol=solve([ eq1==m[0,1],\teq2==m[0,2],\teq3==m[0,3],\teq4==m[0,4],\t\n",
    "                                            eq5==m[1,2],    eq6==m[1,3],\n",
    "                                                            eq7==m[1,4], eq8==m[2,4]],d1,d2,d3,d4,d5,a12,a13,a14,a15,a23,a24,a25,a34,a35,a45, solution_dict=True)\n",
    "\n",
    "show(m)\n",
    "show(sol)\n",
    "#latex(sol)"
   ]
  },
  {
   "cell_type": "code",
   "execution_count": 54,
   "metadata": {},
   "outputs": [
    {
     "data": {
      "text/html": [
       "<html><script type=\"math/tex; mode=display\">\\newcommand{\\Bold}[1]{\\mathbf{#1}}\\left(\\begin{array}{rrrrr}\n",
       "0 & 1 & 1 & 0 & 1 \\\\\n",
       "0 & 0 & 1 & 1 & 0 \\\\\n",
       "0 & 0 & 0 & 0 & 1 \\\\\n",
       "0 & 0 & 0 & 0 & 0 \\\\\n",
       "0 & 0 & 0 & 0 & 0\n",
       "\\end{array}\\right)</script></html>"
      ],
      "text/latex": [
       "$$\\newcommand{\\Bold}[1]{\\mathbf{#1}}\\left(\\begin{array}{rrrrr}\n",
       "0 & 1 & 1 & 0 & 1 \\\\\n",
       "0 & 0 & 1 & 1 & 0 \\\\\n",
       "0 & 0 & 0 & 0 & 1 \\\\\n",
       "0 & 0 & 0 & 0 & 0 \\\\\n",
       "0 & 0 & 0 & 0 & 0\n",
       "\\end{array}\\right)$$"
      ],
      "text/plain": [
       "[0 1 1 0 1]\n",
       "[0 0 1 1 0]\n",
       "[0 0 0 0 1]\n",
       "[0 0 0 0 0]\n",
       "[0 0 0 0 0]"
      ]
     },
     "metadata": {},
     "output_type": "display_data"
    },
    {
     "data": {
      "text/html": [
       "<html><script type=\"math/tex; mode=display\">\\newcommand{\\Bold}[1]{\\mathbf{#1}}\\left[\\left\\{d_{1} : 0, d_{2} : 0, d_{3} : 0, d_{4} : r_{934}, d_{5} : 0, a_{12} : r_{935}, a_{13} : r_{936}, a_{14} : r_{937}, a_{15} : r_{938}, a_{23} : r_{939}, a_{24} : r_{940}, a_{25} : r_{941}, a_{34} : -\\frac{r_{934} x_{24}}{x_{23}}, a_{35} : r_{942}, a_{45} : r_{943}\\right\\}, \\left\\{d_{1} : r_{944}, d_{2} : \\frac{r_{944}}{x_{12}}, d_{3} : \\frac{r_{944}}{x_{12} x_{23}}, d_{4} : r_{945}, d_{5} : \\frac{r_{944}}{x_{12} x_{23} x_{35}}, a_{12} : r_{946}, a_{13} : r_{947}, a_{14} : r_{948}, a_{15} : r_{949}, a_{23} : \\frac{{\\left(r_{944} + r_{946}\\right)} x_{12} x_{23} - r_{944} x_{13}}{x_{12}^{2} x_{23}}, a_{24} : \\frac{r_{945} x_{12} x_{13} x_{24} + r_{946} x_{12} x_{23} - r_{944} x_{13}}{x_{12}^{2} x_{23}}, a_{25} : r_{950}, a_{34} : -\\frac{r_{945} x_{12} x_{24} - r_{944}}{x_{12} x_{23}}, a_{35} : -\\frac{{\\left(r_{950} x_{12}^{2} - {\\left(r_{944} + r_{947}\\right)} x_{12}\\right)} x_{23} x_{35} + r_{944} x_{15}}{x_{12} x_{13} x_{23} x_{35}}, a_{45} : \\frac{r_{944} x_{12} x_{15} x_{23} + {\\left({\\left(r_{944} + r_{946}\\right)} x_{12} x_{13} x_{23} - r_{944} x_{13}^{2} + {\\left(r_{950} x_{12}^{3} - {\\left(r_{944} + r_{947}\\right)} x_{12}^{2}\\right)} x_{23}^{2}\\right)} x_{35}}{x_{12}^{2} x_{13} x_{23} x_{24} x_{35}}\\right\\}\\right]</script></html>"
      ],
      "text/latex": [
       "$$\\newcommand{\\Bold}[1]{\\mathbf{#1}}\\left[\\left\\{d_{1} : 0, d_{2} : 0, d_{3} : 0, d_{4} : r_{934}, d_{5} : 0, a_{12} : r_{935}, a_{13} : r_{936}, a_{14} : r_{937}, a_{15} : r_{938}, a_{23} : r_{939}, a_{24} : r_{940}, a_{25} : r_{941}, a_{34} : -\\frac{r_{934} x_{24}}{x_{23}}, a_{35} : r_{942}, a_{45} : r_{943}\\right\\}, \\left\\{d_{1} : r_{944}, d_{2} : \\frac{r_{944}}{x_{12}}, d_{3} : \\frac{r_{944}}{x_{12} x_{23}}, d_{4} : r_{945}, d_{5} : \\frac{r_{944}}{x_{12} x_{23} x_{35}}, a_{12} : r_{946}, a_{13} : r_{947}, a_{14} : r_{948}, a_{15} : r_{949}, a_{23} : \\frac{{\\left(r_{944} + r_{946}\\right)} x_{12} x_{23} - r_{944} x_{13}}{x_{12}^{2} x_{23}}, a_{24} : \\frac{r_{945} x_{12} x_{13} x_{24} + r_{946} x_{12} x_{23} - r_{944} x_{13}}{x_{12}^{2} x_{23}}, a_{25} : r_{950}, a_{34} : -\\frac{r_{945} x_{12} x_{24} - r_{944}}{x_{12} x_{23}}, a_{35} : -\\frac{{\\left(r_{950} x_{12}^{2} - {\\left(r_{944} + r_{947}\\right)} x_{12}\\right)} x_{23} x_{35} + r_{944} x_{15}}{x_{12} x_{13} x_{23} x_{35}}, a_{45} : \\frac{r_{944} x_{12} x_{15} x_{23} + {\\left({\\left(r_{944} + r_{946}\\right)} x_{12} x_{13} x_{23} - r_{944} x_{13}^{2} + {\\left(r_{950} x_{12}^{3} - {\\left(r_{944} + r_{947}\\right)} x_{12}^{2}\\right)} x_{23}^{2}\\right)} x_{35}}{x_{12}^{2} x_{13} x_{23} x_{24} x_{35}}\\right\\}\\right]$$"
      ],
      "text/plain": [
       "[{d1: 0,\n",
       "  d2: 0,\n",
       "  d3: 0,\n",
       "  d4: r934,\n",
       "  d5: 0,\n",
       "  a12: r935,\n",
       "  a13: r936,\n",
       "  a14: r937,\n",
       "  a15: r938,\n",
       "  a23: r939,\n",
       "  a24: r940,\n",
       "  a25: r941,\n",
       "  a34: -r934*x24/x23,\n",
       "  a35: r942,\n",
       "  a45: r943},\n",
       " {d1: r944,\n",
       "  d2: r944/x12,\n",
       "  d3: r944/(x12*x23),\n",
       "  d4: r945,\n",
       "  d5: r944/(x12*x23*x35),\n",
       "  a12: r946,\n",
       "  a13: r947,\n",
       "  a14: r948,\n",
       "  a15: r949,\n",
       "  a23: ((r944 + r946)*x12*x23 - r944*x13)/(x12^2*x23),\n",
       "  a24: (r945*x12*x13*x24 + r946*x12*x23 - r944*x13)/(x12^2*x23),\n",
       "  a25: r950,\n",
       "  a34: -(r945*x12*x24 - r944)/(x12*x23),\n",
       "  a35: -((r950*x12^2 - (r944 + r947)*x12)*x23*x35 + r944*x15)/(x12*x13*x23*x35),\n",
       "  a45: (r944*x12*x15*x23 + ((r944 + r946)*x12*x13*x23 - r944*x13^2 + (r950*x12^3 - (r944 + r947)*x12^2)*x23^2)*x35)/(x12^2*x13*x23*x24*x35)}]"
      ]
     },
     "metadata": {},
     "output_type": "display_data"
    }
   ],
   "source": [
    "#x4\n",
    "reset()\n",
    "\n",
    "var('x12,x13,x14,x15,x23,x24,x25,x34,x35,x45')\n",
    "var('d1,d2,d3,d4,d5')\n",
    "var('a12,a13,a14,a15,a23,a24,a25,a34,a35,a45')\n",
    "\n",
    "load_attach_path('C:\\\\Users\\\\julia\\\\Documents\\\\unb\\\\doutorado\\\\pensar\\\\codigo_sage_v2\\\\maquina\\\\x4')\n",
    "\n",
    "load('out_#110101.sage')\n",
    "m=matrix(QQ, [[0, 1, 1, 0, 1],\n",
    "              [0, 0, 1, 1, 0],\n",
    "              [0, 0, 0, 0, 1],\n",
    "              [0, 0, 0, 0, 0],\n",
    "              [0, 0, 0, 0, 0]])\n",
    "        \n",
    "#entry of matrix: (i,j) line i collum j, means (i-1,j-1)\n",
    "sol=solve([ eq1==m[0,1],\teq2==m[0,2],\teq3==m[0,3],\teq4==m[0,4],\t\n",
    "                                            eq5==m[1,2],    eq6==m[1,3],\n",
    "                                                            eq7==m[1,4], eq8==m[2,4]],d1,d2,d3,d4,d5,a12,a13,a14,a15,a23,a24,a25,a34,a35,a45, solution_dict=True)\n",
    "\n",
    "show(m)\n",
    "show(sol)\n",
    "#latex(sol)"
   ]
  },
  {
   "cell_type": "code",
   "execution_count": 90,
   "metadata": {},
   "outputs": [
    {
     "data": {
      "text/html": [
       "<html><script type=\"math/tex; mode=display\">\\newcommand{\\Bold}[1]{\\mathbf{#1}}\\left(\\begin{array}{rrrrr}\n",
       "0 & 1 & 1 & 1 & 0 \\\\\n",
       "0 & 0 & 1 & 1 & 0 \\\\\n",
       "0 & 0 & 0 & 0 & 1 \\\\\n",
       "0 & 0 & 0 & 0 & 0 \\\\\n",
       "0 & 0 & 0 & 0 & 0\n",
       "\\end{array}\\right)</script></html>"
      ],
      "text/latex": [
       "$$\\newcommand{\\Bold}[1]{\\mathbf{#1}}\\left(\\begin{array}{rrrrr}\n",
       "0 & 1 & 1 & 1 & 0 \\\\\n",
       "0 & 0 & 1 & 1 & 0 \\\\\n",
       "0 & 0 & 0 & 0 & 1 \\\\\n",
       "0 & 0 & 0 & 0 & 0 \\\\\n",
       "0 & 0 & 0 & 0 & 0\n",
       "\\end{array}\\right)$$"
      ],
      "text/plain": [
       "[0 1 1 1 0]\n",
       "[0 0 1 1 0]\n",
       "[0 0 0 0 1]\n",
       "[0 0 0 0 0]\n",
       "[0 0 0 0 0]"
      ]
     },
     "metadata": {},
     "output_type": "display_data"
    },
    {
     "data": {
      "text/html": [
       "<html><script type=\"math/tex; mode=display\">\\newcommand{\\Bold}[1]{\\mathbf{#1}}\\left[\\left\\{d_{1} : 0, d_{2} : 0, d_{3} : 0, d_{4} : r_{1520}, d_{5} : 0, a_{12} : r_{1521}, a_{13} : r_{1522}, a_{14} : r_{1523}, a_{15} : r_{1524}, a_{23} : r_{1525}, a_{24} : r_{1526}, a_{25} : r_{1527}, a_{34} : -\\frac{r_{1520} x_{24}}{x_{23}}, a_{35} : r_{1528}, a_{45} : r_{1529}\\right\\}, \\left\\{d_{1} : r_{1530}, d_{2} : \\frac{r_{1530}}{x_{12}}, d_{3} : \\frac{r_{1530}}{x_{12} x_{23}}, d_{4} : r_{1531}, d_{5} : \\frac{r_{1530}}{x_{12} x_{23} x_{35}}, a_{12} : r_{1532}, a_{13} : r_{1533}, a_{14} : r_{1534}, a_{15} : r_{1535}, a_{23} : \\frac{{\\left(r_{1530} + r_{1532}\\right)} x_{12} x_{23} - r_{1530} x_{13}}{x_{12}^{2} x_{23}}, a_{24} : \\frac{r_{1531} x_{12} x_{13} x_{24} - r_{1530} x_{13} - {\\left(r_{1531} x_{12} x_{14} - {\\left(r_{1530} + r_{1532}\\right)} x_{12}\\right)} x_{23}}{x_{12}^{2} x_{23}}, a_{25} : r_{1536}, a_{34} : -\\frac{r_{1531} x_{12} x_{24} - r_{1530}}{x_{12} x_{23}}, a_{35} : \\frac{{\\left(r_{1530} + r_{1532}\\right)} x_{12} x_{14} x_{23} - r_{1530} x_{13} x_{14} + {\\left(r_{1536} x_{12}^{3} - r_{1533} x_{12}^{2}\\right)} x_{23} x_{24}}{x_{12}^{2} x_{14} x_{23}^{2} - x_{12}^{2} x_{13} x_{23} x_{24}}, a_{45} : -\\frac{{\\left(r_{1530} + r_{1532}\\right)} x_{12} x_{13} x_{23} - r_{1530} x_{13}^{2} + {\\left(r_{1536} x_{12}^{3} - r_{1533} x_{12}^{2}\\right)} x_{23}^{2}}{x_{12}^{2} x_{14} x_{23}^{2} - x_{12}^{2} x_{13} x_{23} x_{24}}\\right\\}\\right]</script></html>"
      ],
      "text/latex": [
       "$$\\newcommand{\\Bold}[1]{\\mathbf{#1}}\\left[\\left\\{d_{1} : 0, d_{2} : 0, d_{3} : 0, d_{4} : r_{1520}, d_{5} : 0, a_{12} : r_{1521}, a_{13} : r_{1522}, a_{14} : r_{1523}, a_{15} : r_{1524}, a_{23} : r_{1525}, a_{24} : r_{1526}, a_{25} : r_{1527}, a_{34} : -\\frac{r_{1520} x_{24}}{x_{23}}, a_{35} : r_{1528}, a_{45} : r_{1529}\\right\\}, \\left\\{d_{1} : r_{1530}, d_{2} : \\frac{r_{1530}}{x_{12}}, d_{3} : \\frac{r_{1530}}{x_{12} x_{23}}, d_{4} : r_{1531}, d_{5} : \\frac{r_{1530}}{x_{12} x_{23} x_{35}}, a_{12} : r_{1532}, a_{13} : r_{1533}, a_{14} : r_{1534}, a_{15} : r_{1535}, a_{23} : \\frac{{\\left(r_{1530} + r_{1532}\\right)} x_{12} x_{23} - r_{1530} x_{13}}{x_{12}^{2} x_{23}}, a_{24} : \\frac{r_{1531} x_{12} x_{13} x_{24} - r_{1530} x_{13} - {\\left(r_{1531} x_{12} x_{14} - {\\left(r_{1530} + r_{1532}\\right)} x_{12}\\right)} x_{23}}{x_{12}^{2} x_{23}}, a_{25} : r_{1536}, a_{34} : -\\frac{r_{1531} x_{12} x_{24} - r_{1530}}{x_{12} x_{23}}, a_{35} : \\frac{{\\left(r_{1530} + r_{1532}\\right)} x_{12} x_{14} x_{23} - r_{1530} x_{13} x_{14} + {\\left(r_{1536} x_{12}^{3} - r_{1533} x_{12}^{2}\\right)} x_{23} x_{24}}{x_{12}^{2} x_{14} x_{23}^{2} - x_{12}^{2} x_{13} x_{23} x_{24}}, a_{45} : -\\frac{{\\left(r_{1530} + r_{1532}\\right)} x_{12} x_{13} x_{23} - r_{1530} x_{13}^{2} + {\\left(r_{1536} x_{12}^{3} - r_{1533} x_{12}^{2}\\right)} x_{23}^{2}}{x_{12}^{2} x_{14} x_{23}^{2} - x_{12}^{2} x_{13} x_{23} x_{24}}\\right\\}\\right]$$"
      ],
      "text/plain": [
       "[{d1: 0,\n",
       "  d2: 0,\n",
       "  d3: 0,\n",
       "  d4: r1520,\n",
       "  d5: 0,\n",
       "  a12: r1521,\n",
       "  a13: r1522,\n",
       "  a14: r1523,\n",
       "  a15: r1524,\n",
       "  a23: r1525,\n",
       "  a24: r1526,\n",
       "  a25: r1527,\n",
       "  a34: -r1520*x24/x23,\n",
       "  a35: r1528,\n",
       "  a45: r1529},\n",
       " {d1: r1530,\n",
       "  d2: r1530/x12,\n",
       "  d3: r1530/(x12*x23),\n",
       "  d4: r1531,\n",
       "  d5: r1530/(x12*x23*x35),\n",
       "  a12: r1532,\n",
       "  a13: r1533,\n",
       "  a14: r1534,\n",
       "  a15: r1535,\n",
       "  a23: ((r1530 + r1532)*x12*x23 - r1530*x13)/(x12^2*x23),\n",
       "  a24: (r1531*x12*x13*x24 - r1530*x13 - (r1531*x12*x14 - (r1530 + r1532)*x12)*x23)/(x12^2*x23),\n",
       "  a25: r1536,\n",
       "  a34: -(r1531*x12*x24 - r1530)/(x12*x23),\n",
       "  a35: ((r1530 + r1532)*x12*x14*x23 - r1530*x13*x14 + (r1536*x12^3 - r1533*x12^2)*x23*x24)/(x12^2*x14*x23^2 - x12^2*x13*x23*x24),\n",
       "  a45: -((r1530 + r1532)*x12*x13*x23 - r1530*x13^2 + (r1536*x12^3 - r1533*x12^2)*x23^2)/(x12^2*x14*x23^2 - x12^2*x13*x23*x24)}]"
      ]
     },
     "metadata": {},
     "output_type": "display_data"
    }
   ],
   "source": [
    "#x4\n",
    "#----------------------\n",
    "#x14 \\neq x13*x24/x23\n",
    "#----------------------\n",
    "reset()\n",
    "\n",
    "var('x12,x13,x14,x15,x23,x24,x25,x34,x35,x45')\n",
    "var('d1,d2,d3,d4,d5')\n",
    "var('a12,a13,a14,a15,a23,a24,a25,a34,a35,a45')\n",
    "\n",
    "\n",
    "load_attach_path('C:\\\\Users\\\\julia\\\\Documents\\\\unb\\\\doutorado\\\\pensar\\\\codigo_sage_v2\\\\maquina\\\\x4')\n",
    "load('out_#110110.sage')\n",
    "\n",
    "m=matrix(QQ, [[0, 1, 1, 1, 0],\n",
    "              [0, 0, 1, 1, 0],\n",
    "              [0, 0, 0, 0, 1],\n",
    "              [0, 0, 0, 0, 0],\n",
    "              [0, 0, 0, 0, 0]])\n",
    "        \n",
    "#entry of matrix: (i,j) line i collum j, means (i-1,j-1)\n",
    "sol=solve([ eq1==m[0,1],\teq2==m[0,2],\teq3==m[0,3],\teq4==m[0,4],\t\n",
    "                                            eq5==m[1,2],    eq6==m[1,3],\n",
    "                                                            eq7==m[1,4], eq8==m[2,4]],d1,d2,d3,d4,d5,a12,a13,a14,a15,a23,a24,a25,a34,a35,a45, solution_dict=True)\n",
    "\n",
    "show(m)\n",
    "show(sol)\n",
    "#latex(sol)"
   ]
  },
  {
   "cell_type": "code",
   "execution_count": 91,
   "metadata": {},
   "outputs": [
    {
     "data": {
      "text/html": [
       "<html><script type=\"math/tex; mode=display\">\\newcommand{\\Bold}[1]{\\mathbf{#1}}\\left(\\begin{array}{rrrrr}\n",
       "0 & 1 & 1 & 0 & 1 \\\\\n",
       "0 & 0 & 1 & 1 & 0 \\\\\n",
       "0 & 0 & 0 & 0 & 1 \\\\\n",
       "0 & 0 & 0 & 0 & 0 \\\\\n",
       "0 & 0 & 0 & 0 & 0\n",
       "\\end{array}\\right)</script></html>"
      ],
      "text/latex": [
       "$$\\newcommand{\\Bold}[1]{\\mathbf{#1}}\\left(\\begin{array}{rrrrr}\n",
       "0 & 1 & 1 & 0 & 1 \\\\\n",
       "0 & 0 & 1 & 1 & 0 \\\\\n",
       "0 & 0 & 0 & 0 & 1 \\\\\n",
       "0 & 0 & 0 & 0 & 0 \\\\\n",
       "0 & 0 & 0 & 0 & 0\n",
       "\\end{array}\\right)$$"
      ],
      "text/plain": [
       "[0 1 1 0 1]\n",
       "[0 0 1 1 0]\n",
       "[0 0 0 0 1]\n",
       "[0 0 0 0 0]\n",
       "[0 0 0 0 0]"
      ]
     },
     "metadata": {},
     "output_type": "display_data"
    },
    {
     "data": {
      "text/html": [
       "<html><script type=\"math/tex; mode=display\">\\newcommand{\\Bold}[1]{\\mathbf{#1}}\\left[\\left\\{d_{1} : 0, d_{2} : 0, d_{3} : 0, d_{4} : r_{1537}, d_{5} : 0, a_{12} : r_{1538}, a_{13} : r_{1539}, a_{14} : r_{1540}, a_{15} : r_{1541}, a_{23} : r_{1542}, a_{24} : r_{1543}, a_{25} : r_{1544}, a_{34} : -\\frac{r_{1537} x_{24}}{x_{23}}, a_{35} : r_{1545}, a_{45} : r_{1546}\\right\\}, \\left\\{d_{1} : r_{1547}, d_{2} : \\frac{r_{1547}}{x_{12}}, d_{3} : \\frac{r_{1547}}{x_{12} x_{23}}, d_{4} : r_{1548}, d_{5} : \\frac{r_{1547}}{x_{12} x_{23} x_{35}}, a_{12} : r_{1549}, a_{13} : r_{1550}, a_{14} : r_{1551}, a_{15} : r_{1552}, a_{23} : \\frac{{\\left(r_{1547} + r_{1549}\\right)} x_{12} x_{23} - r_{1547} x_{13}}{x_{12}^{2} x_{23}}, a_{24} : \\frac{r_{1549} x_{12} x_{23} - r_{1547} x_{13}}{x_{12}^{2} x_{23}}, a_{25} : \\frac{{\\left(r_{1547} + r_{1550}\\right)} x_{12}^{2} x_{23}^{2} - {\\left(r_{1547} + r_{1549}\\right)} x_{12} x_{13} x_{23} + r_{1547} x_{13}^{2}}{x_{12}^{3} x_{23}^{2}}, a_{34} : -\\frac{r_{1548} x_{12} x_{24} - r_{1547}}{x_{12} x_{23}}, a_{35} : r_{1553}, a_{45} : -\\frac{r_{1553} x_{12}^{2} x_{23}^{2} - {\\left(r_{1547} + r_{1549}\\right)} x_{12} x_{23} + r_{1547} x_{13}}{x_{12}^{2} x_{23} x_{24}}\\right\\}\\right]</script></html>"
      ],
      "text/latex": [
       "$$\\newcommand{\\Bold}[1]{\\mathbf{#1}}\\left[\\left\\{d_{1} : 0, d_{2} : 0, d_{3} : 0, d_{4} : r_{1537}, d_{5} : 0, a_{12} : r_{1538}, a_{13} : r_{1539}, a_{14} : r_{1540}, a_{15} : r_{1541}, a_{23} : r_{1542}, a_{24} : r_{1543}, a_{25} : r_{1544}, a_{34} : -\\frac{r_{1537} x_{24}}{x_{23}}, a_{35} : r_{1545}, a_{45} : r_{1546}\\right\\}, \\left\\{d_{1} : r_{1547}, d_{2} : \\frac{r_{1547}}{x_{12}}, d_{3} : \\frac{r_{1547}}{x_{12} x_{23}}, d_{4} : r_{1548}, d_{5} : \\frac{r_{1547}}{x_{12} x_{23} x_{35}}, a_{12} : r_{1549}, a_{13} : r_{1550}, a_{14} : r_{1551}, a_{15} : r_{1552}, a_{23} : \\frac{{\\left(r_{1547} + r_{1549}\\right)} x_{12} x_{23} - r_{1547} x_{13}}{x_{12}^{2} x_{23}}, a_{24} : \\frac{r_{1549} x_{12} x_{23} - r_{1547} x_{13}}{x_{12}^{2} x_{23}}, a_{25} : \\frac{{\\left(r_{1547} + r_{1550}\\right)} x_{12}^{2} x_{23}^{2} - {\\left(r_{1547} + r_{1549}\\right)} x_{12} x_{13} x_{23} + r_{1547} x_{13}^{2}}{x_{12}^{3} x_{23}^{2}}, a_{34} : -\\frac{r_{1548} x_{12} x_{24} - r_{1547}}{x_{12} x_{23}}, a_{35} : r_{1553}, a_{45} : -\\frac{r_{1553} x_{12}^{2} x_{23}^{2} - {\\left(r_{1547} + r_{1549}\\right)} x_{12} x_{23} + r_{1547} x_{13}}{x_{12}^{2} x_{23} x_{24}}\\right\\}\\right]$$"
      ],
      "text/plain": [
       "[{d1: 0,\n",
       "  d2: 0,\n",
       "  d3: 0,\n",
       "  d4: r1537,\n",
       "  d5: 0,\n",
       "  a12: r1538,\n",
       "  a13: r1539,\n",
       "  a14: r1540,\n",
       "  a15: r1541,\n",
       "  a23: r1542,\n",
       "  a24: r1543,\n",
       "  a25: r1544,\n",
       "  a34: -r1537*x24/x23,\n",
       "  a35: r1545,\n",
       "  a45: r1546},\n",
       " {d1: r1547,\n",
       "  d2: r1547/x12,\n",
       "  d3: r1547/(x12*x23),\n",
       "  d4: r1548,\n",
       "  d5: r1547/(x12*x23*x35),\n",
       "  a12: r1549,\n",
       "  a13: r1550,\n",
       "  a14: r1551,\n",
       "  a15: r1552,\n",
       "  a23: ((r1547 + r1549)*x12*x23 - r1547*x13)/(x12^2*x23),\n",
       "  a24: (r1549*x12*x23 - r1547*x13)/(x12^2*x23),\n",
       "  a25: ((r1547 + r1550)*x12^2*x23^2 - (r1547 + r1549)*x12*x13*x23 + r1547*x13^2)/(x12^3*x23^2),\n",
       "  a34: -(r1548*x12*x24 - r1547)/(x12*x23),\n",
       "  a35: r1553,\n",
       "  a45: -(r1553*x12^2*x23^2 - (r1547 + r1549)*x12*x23 + r1547*x13)/(x12^2*x23*x24)}]"
      ]
     },
     "metadata": {},
     "output_type": "display_data"
    }
   ],
   "source": [
    "#x4\n",
    "#----------------------\n",
    "#x14 = x13*x24/x23\n",
    "#----------------------\n",
    "reset()\n",
    "\n",
    "var('x12,x13,x14,x15,x23,x24,x25,x34,x35,x45')\n",
    "var('d1,d2,d3,d4,d5')\n",
    "var('a12,a13,a14,a15,a23,a24,a25,a34,a35,a45')\n",
    "\n",
    "#110110\n",
    "eq1=(d2*x12)/(d1) \n",
    "eq2=(a23*d2*x12+d2*d3*x13-a12*d3*x23)/(d1*d2) \n",
    "eq3=(a24*d2*x12+a34*d2*x13+d2*d4*((x13*x24)/x23)-a12*a34*x23-a12*d4*x24)/(d1*d2) \n",
    "eq4=(a25*d2*d3*x12+a35*d2*d3*x13+a45*d2*d3*((x13*x24)/x23)+d2*d3*d5*0-a12*a35*d3*x23-a12*a45*d3*x24-a12*d3*d5*0+a12*a23*d5*x35-a13*d2*d5*x35)/(d1*d2*d3) \n",
    "eq5=(d3*x23)/(d2) \n",
    "eq6=(a34*x23+d4*x24)/(d2) \n",
    "eq7=(a35*d3*x23+a45*d3*x24+d3*d5*0-a23*d5*x35)/(d2*d3) \n",
    "eq8=(d5*x35)/(d3) \n",
    "\n",
    "m=matrix(QQ, [[0, 1, 1, 0, 1],\n",
    "              [0, 0, 1, 1, 0],\n",
    "              [0, 0, 0, 0, 1],\n",
    "              [0, 0, 0, 0, 0],\n",
    "              [0, 0, 0, 0, 0]])\n",
    "        \n",
    "#entry of matrix: (i,j) line i collum j, means (i-1,j-1)\n",
    "sol=solve([ eq1==m[0,1],\teq2==m[0,2],\teq3==m[0,3],\teq4==m[0,4],\t\n",
    "                                            eq5==m[1,2],    eq6==m[1,3],\n",
    "                                                            eq7==m[1,4], eq8==m[2,4]],d1,d2,d3,d4,d5,a12,a13,a14,a15,a23,a24,a25,a34,a35,a45, solution_dict=True)\n",
    "\n",
    "show(m)\n",
    "show(sol)\n",
    "#latex(sol)"
   ]
  },
  {
   "cell_type": "code",
   "execution_count": 56,
   "metadata": {},
   "outputs": [
    {
     "data": {
      "text/html": [
       "<html><script type=\"math/tex; mode=display\">\\newcommand{\\Bold}[1]{\\mathbf{#1}}\\left(\\begin{array}{rrrrr}\n",
       "0 & 1 & 1 & 1 & 1 \\\\\n",
       "0 & 0 & 1 & 1 & 0 \\\\\n",
       "0 & 0 & 0 & 0 & 1 \\\\\n",
       "0 & 0 & 0 & 0 & 0 \\\\\n",
       "0 & 0 & 0 & 0 & 0\n",
       "\\end{array}\\right)</script></html>"
      ],
      "text/latex": [
       "$$\\newcommand{\\Bold}[1]{\\mathbf{#1}}\\left(\\begin{array}{rrrrr}\n",
       "0 & 1 & 1 & 1 & 1 \\\\\n",
       "0 & 0 & 1 & 1 & 0 \\\\\n",
       "0 & 0 & 0 & 0 & 1 \\\\\n",
       "0 & 0 & 0 & 0 & 0 \\\\\n",
       "0 & 0 & 0 & 0 & 0\n",
       "\\end{array}\\right)$$"
      ],
      "text/plain": [
       "[0 1 1 1 1]\n",
       "[0 0 1 1 0]\n",
       "[0 0 0 0 1]\n",
       "[0 0 0 0 0]\n",
       "[0 0 0 0 0]"
      ]
     },
     "metadata": {},
     "output_type": "display_data"
    },
    {
     "data": {
      "text/html": [
       "<html><script type=\"math/tex; mode=display\">\\newcommand{\\Bold}[1]{\\mathbf{#1}}\\left[\\left\\{d_{1} : 0, d_{2} : 0, d_{3} : 0, d_{4} : r_{968}, d_{5} : 0, a_{12} : r_{969}, a_{13} : r_{970}, a_{14} : r_{971}, a_{15} : r_{972}, a_{23} : r_{973}, a_{24} : r_{974}, a_{25} : r_{975}, a_{34} : -\\frac{r_{968} x_{24}}{x_{23}}, a_{35} : r_{976}, a_{45} : r_{977}\\right\\}, \\left\\{d_{1} : r_{978}, d_{2} : \\frac{r_{978}}{x_{12}}, d_{3} : \\frac{r_{978}}{x_{12} x_{23}}, d_{4} : r_{979}, d_{5} : \\frac{r_{978}}{x_{12} x_{23} x_{35}}, a_{12} : r_{980}, a_{13} : r_{981}, a_{14} : r_{982}, a_{15} : r_{983}, a_{23} : \\frac{{\\left(r_{978} + r_{980}\\right)} x_{12} x_{23} - r_{978} x_{13}}{x_{12}^{2} x_{23}}, a_{24} : \\frac{r_{979} x_{12} x_{13} x_{24} - r_{978} x_{13} - {\\left(r_{979} x_{12} x_{14} - {\\left(r_{978} + r_{980}\\right)} x_{12}\\right)} x_{23}}{x_{12}^{2} x_{23}}, a_{25} : r_{984}, a_{34} : -\\frac{r_{979} x_{12} x_{24} - r_{978}}{x_{12} x_{23}}, a_{35} : \\frac{r_{978} x_{12} x_{15} x_{24} + {\\left({\\left(r_{978} + r_{980}\\right)} x_{12} x_{14} x_{23} - r_{978} x_{13} x_{14} + {\\left(r_{984} x_{12}^{3} - {\\left(r_{978} + r_{981}\\right)} x_{12}^{2}\\right)} x_{23} x_{24}\\right)} x_{35}}{{\\left(x_{12}^{2} x_{14} x_{23}^{2} - x_{12}^{2} x_{13} x_{23} x_{24}\\right)} x_{35}}, a_{45} : -\\frac{r_{978} x_{12} x_{15} x_{23} + {\\left({\\left(r_{978} + r_{980}\\right)} x_{12} x_{13} x_{23} - r_{978} x_{13}^{2} + {\\left(r_{984} x_{12}^{3} - {\\left(r_{978} + r_{981}\\right)} x_{12}^{2}\\right)} x_{23}^{2}\\right)} x_{35}}{{\\left(x_{12}^{2} x_{14} x_{23}^{2} - x_{12}^{2} x_{13} x_{23} x_{24}\\right)} x_{35}}\\right\\}\\right]</script></html>"
      ],
      "text/latex": [
       "$$\\newcommand{\\Bold}[1]{\\mathbf{#1}}\\left[\\left\\{d_{1} : 0, d_{2} : 0, d_{3} : 0, d_{4} : r_{968}, d_{5} : 0, a_{12} : r_{969}, a_{13} : r_{970}, a_{14} : r_{971}, a_{15} : r_{972}, a_{23} : r_{973}, a_{24} : r_{974}, a_{25} : r_{975}, a_{34} : -\\frac{r_{968} x_{24}}{x_{23}}, a_{35} : r_{976}, a_{45} : r_{977}\\right\\}, \\left\\{d_{1} : r_{978}, d_{2} : \\frac{r_{978}}{x_{12}}, d_{3} : \\frac{r_{978}}{x_{12} x_{23}}, d_{4} : r_{979}, d_{5} : \\frac{r_{978}}{x_{12} x_{23} x_{35}}, a_{12} : r_{980}, a_{13} : r_{981}, a_{14} : r_{982}, a_{15} : r_{983}, a_{23} : \\frac{{\\left(r_{978} + r_{980}\\right)} x_{12} x_{23} - r_{978} x_{13}}{x_{12}^{2} x_{23}}, a_{24} : \\frac{r_{979} x_{12} x_{13} x_{24} - r_{978} x_{13} - {\\left(r_{979} x_{12} x_{14} - {\\left(r_{978} + r_{980}\\right)} x_{12}\\right)} x_{23}}{x_{12}^{2} x_{23}}, a_{25} : r_{984}, a_{34} : -\\frac{r_{979} x_{12} x_{24} - r_{978}}{x_{12} x_{23}}, a_{35} : \\frac{r_{978} x_{12} x_{15} x_{24} + {\\left({\\left(r_{978} + r_{980}\\right)} x_{12} x_{14} x_{23} - r_{978} x_{13} x_{14} + {\\left(r_{984} x_{12}^{3} - {\\left(r_{978} + r_{981}\\right)} x_{12}^{2}\\right)} x_{23} x_{24}\\right)} x_{35}}{{\\left(x_{12}^{2} x_{14} x_{23}^{2} - x_{12}^{2} x_{13} x_{23} x_{24}\\right)} x_{35}}, a_{45} : -\\frac{r_{978} x_{12} x_{15} x_{23} + {\\left({\\left(r_{978} + r_{980}\\right)} x_{12} x_{13} x_{23} - r_{978} x_{13}^{2} + {\\left(r_{984} x_{12}^{3} - {\\left(r_{978} + r_{981}\\right)} x_{12}^{2}\\right)} x_{23}^{2}\\right)} x_{35}}{{\\left(x_{12}^{2} x_{14} x_{23}^{2} - x_{12}^{2} x_{13} x_{23} x_{24}\\right)} x_{35}}\\right\\}\\right]$$"
      ],
      "text/plain": [
       "[{d1: 0,\n",
       "  d2: 0,\n",
       "  d3: 0,\n",
       "  d4: r968,\n",
       "  d5: 0,\n",
       "  a12: r969,\n",
       "  a13: r970,\n",
       "  a14: r971,\n",
       "  a15: r972,\n",
       "  a23: r973,\n",
       "  a24: r974,\n",
       "  a25: r975,\n",
       "  a34: -r968*x24/x23,\n",
       "  a35: r976,\n",
       "  a45: r977},\n",
       " {d1: r978,\n",
       "  d2: r978/x12,\n",
       "  d3: r978/(x12*x23),\n",
       "  d4: r979,\n",
       "  d5: r978/(x12*x23*x35),\n",
       "  a12: r980,\n",
       "  a13: r981,\n",
       "  a14: r982,\n",
       "  a15: r983,\n",
       "  a23: ((r978 + r980)*x12*x23 - r978*x13)/(x12^2*x23),\n",
       "  a24: (r979*x12*x13*x24 - r978*x13 - (r979*x12*x14 - (r978 + r980)*x12)*x23)/(x12^2*x23),\n",
       "  a25: r984,\n",
       "  a34: -(r979*x12*x24 - r978)/(x12*x23),\n",
       "  a35: (r978*x12*x15*x24 + ((r978 + r980)*x12*x14*x23 - r978*x13*x14 + (r984*x12^3 - (r978 + r981)*x12^2)*x23*x24)*x35)/((x12^2*x14*x23^2 - x12^2*x13*x23*x24)*x35),\n",
       "  a45: -(r978*x12*x15*x23 + ((r978 + r980)*x12*x13*x23 - r978*x13^2 + (r984*x12^3 - (r978 + r981)*x12^2)*x23^2)*x35)/((x12^2*x14*x23^2 - x12^2*x13*x23*x24)*x35)}]"
      ]
     },
     "metadata": {},
     "output_type": "display_data"
    }
   ],
   "source": [
    "#x4\n",
    "#----------------------\n",
    "#x14 \\neq x13*x24/x23\n",
    "#----------------------\n",
    "reset()\n",
    "\n",
    "var('x12,x13,x14,x15,x23,x24,x25,x34,x35,x45')\n",
    "var('d1,d2,d3,d4,d5')\n",
    "var('a12,a13,a14,a15,a23,a24,a25,a34,a35,a45')\n",
    "\n",
    "load_attach_path('C:\\\\Users\\\\julia\\\\Documents\\\\unb\\\\doutorado\\\\pensar\\\\codigo_sage_v2\\\\maquina\\\\x4')\n",
    "load('out_#110111.sage')\n",
    "\n",
    "m=matrix(QQ, [[0, 1, 1, 1, 1],\n",
    "              [0, 0, 1, 1, 0],\n",
    "              [0, 0, 0, 0, 1],\n",
    "              [0, 0, 0, 0, 0],\n",
    "              [0, 0, 0, 0, 0]])\n",
    "        \n",
    "#entry of matrix: (i,j) line i collum j, means (i-1,j-1)\n",
    "sol=solve([ eq1==m[0,1],\teq2==m[0,2],\teq3==m[0,3],\teq4==m[0,4],\t\n",
    "                                            eq5==m[1,2],    eq6==m[1,3],\n",
    "                                                            eq7==m[1,4], eq8==m[2,4]],d1,d2,d3,d4,d5,a12,a13,a14,a15,a23,a24,a25,a34,a35,a45, solution_dict=True)\n",
    "\n",
    "show(m)\n",
    "show(sol)\n",
    "#latex(sol)"
   ]
  },
  {
   "cell_type": "code",
   "execution_count": 92,
   "metadata": {},
   "outputs": [
    {
     "data": {
      "text/html": [
       "<html><script type=\"math/tex; mode=display\">\\newcommand{\\Bold}[1]{\\mathbf{#1}}\\left(\\begin{array}{rrrrr}\n",
       "0 & 1 & 1 & 1 & 1 \\\\\n",
       "0 & 0 & 1 & 1 & 0 \\\\\n",
       "0 & 0 & 0 & 0 & 1 \\\\\n",
       "0 & 0 & 0 & 0 & 0 \\\\\n",
       "0 & 0 & 0 & 0 & 0\n",
       "\\end{array}\\right)</script></html>"
      ],
      "text/latex": [
       "$$\\newcommand{\\Bold}[1]{\\mathbf{#1}}\\left(\\begin{array}{rrrrr}\n",
       "0 & 1 & 1 & 1 & 1 \\\\\n",
       "0 & 0 & 1 & 1 & 0 \\\\\n",
       "0 & 0 & 0 & 0 & 1 \\\\\n",
       "0 & 0 & 0 & 0 & 0 \\\\\n",
       "0 & 0 & 0 & 0 & 0\n",
       "\\end{array}\\right)$$"
      ],
      "text/plain": [
       "[0 1 1 1 1]\n",
       "[0 0 1 1 0]\n",
       "[0 0 0 0 1]\n",
       "[0 0 0 0 0]\n",
       "[0 0 0 0 0]"
      ]
     },
     "metadata": {},
     "output_type": "display_data"
    },
    {
     "data": {
      "text/html": [
       "<html><script type=\"math/tex; mode=display\">\\newcommand{\\Bold}[1]{\\mathbf{#1}}\\left[\\left\\{d_{1} : 0, d_{2} : 0, d_{3} : 0, d_{4} : r_{1554}, d_{5} : 0, a_{12} : r_{1555}, a_{13} : r_{1556}, a_{14} : r_{1557}, a_{15} : r_{1558}, a_{23} : r_{1559}, a_{24} : r_{1560}, a_{25} : r_{1561}, a_{34} : -\\frac{r_{1554} x_{24}}{x_{23}}, a_{35} : r_{1562}, a_{45} : r_{1563}\\right\\}, \\left\\{d_{1} : r_{1564}, d_{2} : \\frac{r_{1564}}{x_{12}}, d_{3} : \\frac{r_{1564}}{x_{12} x_{23}}, d_{4} : r_{1565}, d_{5} : \\frac{r_{1564}}{x_{12} x_{23} x_{35}}, a_{12} : r_{1566}, a_{13} : r_{1567}, a_{14} : r_{1568}, a_{15} : r_{1569}, a_{23} : \\frac{{\\left(r_{1564} + r_{1566}\\right)} x_{12} x_{23} - r_{1564} x_{13}}{x_{12}^{2} x_{23}}, a_{24} : \\frac{{\\left(r_{1564} + r_{1566}\\right)} x_{12} x_{23} - r_{1564} x_{13}}{x_{12}^{2} x_{23}}, a_{25} : -\\frac{r_{1564} x_{12} x_{15} x_{23} - {\\left({\\left(r_{1564} + r_{1567}\\right)} x_{12}^{2} x_{23}^{2} - {\\left(r_{1564} + r_{1566}\\right)} x_{12} x_{13} x_{23} + r_{1564} x_{13}^{2}\\right)} x_{35}}{x_{12}^{3} x_{23}^{2} x_{35}}, a_{34} : -\\frac{r_{1565} x_{12} x_{24} - r_{1564}}{x_{12} x_{23}}, a_{35} : r_{1570}, a_{45} : -\\frac{r_{1570} x_{12}^{2} x_{23}^{2} - {\\left(r_{1564} + r_{1566}\\right)} x_{12} x_{23} + r_{1564} x_{13}}{x_{12}^{2} x_{23} x_{24}}\\right\\}\\right]</script></html>"
      ],
      "text/latex": [
       "$$\\newcommand{\\Bold}[1]{\\mathbf{#1}}\\left[\\left\\{d_{1} : 0, d_{2} : 0, d_{3} : 0, d_{4} : r_{1554}, d_{5} : 0, a_{12} : r_{1555}, a_{13} : r_{1556}, a_{14} : r_{1557}, a_{15} : r_{1558}, a_{23} : r_{1559}, a_{24} : r_{1560}, a_{25} : r_{1561}, a_{34} : -\\frac{r_{1554} x_{24}}{x_{23}}, a_{35} : r_{1562}, a_{45} : r_{1563}\\right\\}, \\left\\{d_{1} : r_{1564}, d_{2} : \\frac{r_{1564}}{x_{12}}, d_{3} : \\frac{r_{1564}}{x_{12} x_{23}}, d_{4} : r_{1565}, d_{5} : \\frac{r_{1564}}{x_{12} x_{23} x_{35}}, a_{12} : r_{1566}, a_{13} : r_{1567}, a_{14} : r_{1568}, a_{15} : r_{1569}, a_{23} : \\frac{{\\left(r_{1564} + r_{1566}\\right)} x_{12} x_{23} - r_{1564} x_{13}}{x_{12}^{2} x_{23}}, a_{24} : \\frac{{\\left(r_{1564} + r_{1566}\\right)} x_{12} x_{23} - r_{1564} x_{13}}{x_{12}^{2} x_{23}}, a_{25} : -\\frac{r_{1564} x_{12} x_{15} x_{23} - {\\left({\\left(r_{1564} + r_{1567}\\right)} x_{12}^{2} x_{23}^{2} - {\\left(r_{1564} + r_{1566}\\right)} x_{12} x_{13} x_{23} + r_{1564} x_{13}^{2}\\right)} x_{35}}{x_{12}^{3} x_{23}^{2} x_{35}}, a_{34} : -\\frac{r_{1565} x_{12} x_{24} - r_{1564}}{x_{12} x_{23}}, a_{35} : r_{1570}, a_{45} : -\\frac{r_{1570} x_{12}^{2} x_{23}^{2} - {\\left(r_{1564} + r_{1566}\\right)} x_{12} x_{23} + r_{1564} x_{13}}{x_{12}^{2} x_{23} x_{24}}\\right\\}\\right]$$"
      ],
      "text/plain": [
       "[{d1: 0,\n",
       "  d2: 0,\n",
       "  d3: 0,\n",
       "  d4: r1554,\n",
       "  d5: 0,\n",
       "  a12: r1555,\n",
       "  a13: r1556,\n",
       "  a14: r1557,\n",
       "  a15: r1558,\n",
       "  a23: r1559,\n",
       "  a24: r1560,\n",
       "  a25: r1561,\n",
       "  a34: -r1554*x24/x23,\n",
       "  a35: r1562,\n",
       "  a45: r1563},\n",
       " {d1: r1564,\n",
       "  d2: r1564/x12,\n",
       "  d3: r1564/(x12*x23),\n",
       "  d4: r1565,\n",
       "  d5: r1564/(x12*x23*x35),\n",
       "  a12: r1566,\n",
       "  a13: r1567,\n",
       "  a14: r1568,\n",
       "  a15: r1569,\n",
       "  a23: ((r1564 + r1566)*x12*x23 - r1564*x13)/(x12^2*x23),\n",
       "  a24: ((r1564 + r1566)*x12*x23 - r1564*x13)/(x12^2*x23),\n",
       "  a25: -(r1564*x12*x15*x23 - ((r1564 + r1567)*x12^2*x23^2 - (r1564 + r1566)*x12*x13*x23 + r1564*x13^2)*x35)/(x12^3*x23^2*x35),\n",
       "  a34: -(r1565*x12*x24 - r1564)/(x12*x23),\n",
       "  a35: r1570,\n",
       "  a45: -(r1570*x12^2*x23^2 - (r1564 + r1566)*x12*x23 + r1564*x13)/(x12^2*x23*x24)}]"
      ]
     },
     "metadata": {},
     "output_type": "display_data"
    }
   ],
   "source": [
    "#x4\n",
    "#----------------------\n",
    "#x14 = x13*x24/x23\n",
    "#----------------------\n",
    "reset()\n",
    "\n",
    "var('x12,x13,x14,x15,x23,x24,x25,x34,x35,x45')\n",
    "var('d1,d2,d3,d4,d5')\n",
    "var('a12,a13,a14,a15,a23,a24,a25,a34,a35,a45')\n",
    "\n",
    "#110111\n",
    "eq1=(d2*x12)/(d1) \n",
    "eq2=(a23*d2*x12+d2*d3*x13-a12*d3*x23)/(d1*d2) \n",
    "eq3=(a24*d2*x12+a34*d2*x13+d2*d4*((x13*x24)/x23)-a12*a34*x23-a12*d4*x24)/(d1*d2) \n",
    "eq4=(a25*d2*d3*x12+a35*d2*d3*x13+a45*d2*d3*((x13*x24)/x23)+d2*d3*d5*x15-a12*a35*d3*x23-a12*a45*d3*x24-a12*d3*d5*0+a12*a23*d5*x35-a13*d2*d5*x35)/(d1*d2*d3) \n",
    "eq5=(d3*x23)/(d2) \n",
    "eq6=(a34*x23+d4*x24)/(d2) \n",
    "eq7=(a35*d3*x23+a45*d3*x24+d3*d5*0-a23*d5*x35)/(d2*d3) \n",
    "eq8=(d5*x35)/(d3) \n",
    "\n",
    "m=matrix(QQ, [[0, 1, 1, 1, 1],\n",
    "              [0, 0, 1, 1, 0],\n",
    "              [0, 0, 0, 0, 1],\n",
    "              [0, 0, 0, 0, 0],\n",
    "              [0, 0, 0, 0, 0]])\n",
    "        \n",
    "#entry of matrix: (i,j) line i collum j, means (i-1,j-1)\n",
    "sol=solve([ eq1==m[0,1],\teq2==m[0,2],\teq3==m[0,3],\teq4==m[0,4],\t\n",
    "                                            eq5==m[1,2],    eq6==m[1,3],\n",
    "                                                            eq7==m[1,4], eq8==m[2,4]],d1,d2,d3,d4,d5,a12,a13,a14,a15,a23,a24,a25,a34,a35,a45, solution_dict=True)\n",
    "\n",
    "show(m)\n",
    "show(sol)\n",
    "#latex(sol)"
   ]
  },
  {
   "cell_type": "code",
   "execution_count": 57,
   "metadata": {},
   "outputs": [
    {
     "data": {
      "text/html": [
       "<html><script type=\"math/tex; mode=display\">\\newcommand{\\Bold}[1]{\\mathbf{#1}}\\left(\\begin{array}{rrrrr}\n",
       "0 & 1 & 0 & 0 & 0 \\\\\n",
       "0 & 0 & 1 & 1 & 1 \\\\\n",
       "0 & 0 & 0 & 0 & 1 \\\\\n",
       "0 & 0 & 0 & 0 & 0 \\\\\n",
       "0 & 0 & 0 & 0 & 0\n",
       "\\end{array}\\right)</script></html>"
      ],
      "text/latex": [
       "$$\\newcommand{\\Bold}[1]{\\mathbf{#1}}\\left(\\begin{array}{rrrrr}\n",
       "0 & 1 & 0 & 0 & 0 \\\\\n",
       "0 & 0 & 1 & 1 & 1 \\\\\n",
       "0 & 0 & 0 & 0 & 1 \\\\\n",
       "0 & 0 & 0 & 0 & 0 \\\\\n",
       "0 & 0 & 0 & 0 & 0\n",
       "\\end{array}\\right)$$"
      ],
      "text/plain": [
       "[0 1 0 0 0]\n",
       "[0 0 1 1 1]\n",
       "[0 0 0 0 1]\n",
       "[0 0 0 0 0]\n",
       "[0 0 0 0 0]"
      ]
     },
     "metadata": {},
     "output_type": "display_data"
    },
    {
     "data": {
      "text/html": [
       "<html><script type=\"math/tex; mode=display\">\\newcommand{\\Bold}[1]{\\mathbf{#1}}\\left[\\left\\{d_{1} : 0, d_{2} : 0, d_{3} : 0, d_{4} : r_{985}, d_{5} : 0, a_{12} : r_{986}, a_{13} : r_{987}, a_{14} : r_{988}, a_{15} : r_{989}, a_{23} : r_{990}, a_{24} : r_{991}, a_{25} : r_{992}, a_{34} : -\\frac{r_{985} x_{24}}{x_{23}}, a_{35} : r_{993}, a_{45} : r_{994}\\right\\}, \\left\\{d_{1} : r_{995}, d_{2} : \\frac{r_{995}}{x_{12}}, d_{3} : \\frac{r_{995}}{x_{12} x_{23}}, d_{4} : r_{996}, d_{5} : \\frac{r_{995}}{x_{12} x_{23} x_{35}}, a_{12} : r_{997}, a_{13} : r_{998}, a_{14} : r_{999}, a_{15} : r_{1000}, a_{23} : \\frac{r_{997}}{x_{12}}, a_{24} : \\frac{r_{997}}{x_{12}}, a_{25} : \\frac{r_{997} + r_{998}}{x_{12}}, a_{34} : -\\frac{r_{996} x_{12} x_{24} - r_{995}}{x_{12} x_{23}}, a_{35} : r_{1001}, a_{45} : -\\frac{r_{995} x_{25} + {\\left(r_{1001} x_{12} x_{23}^{2} - {\\left(r_{995} + r_{997}\\right)} x_{23}\\right)} x_{35}}{x_{12} x_{23} x_{24} x_{35}}\\right\\}\\right]</script></html>"
      ],
      "text/latex": [
       "$$\\newcommand{\\Bold}[1]{\\mathbf{#1}}\\left[\\left\\{d_{1} : 0, d_{2} : 0, d_{3} : 0, d_{4} : r_{985}, d_{5} : 0, a_{12} : r_{986}, a_{13} : r_{987}, a_{14} : r_{988}, a_{15} : r_{989}, a_{23} : r_{990}, a_{24} : r_{991}, a_{25} : r_{992}, a_{34} : -\\frac{r_{985} x_{24}}{x_{23}}, a_{35} : r_{993}, a_{45} : r_{994}\\right\\}, \\left\\{d_{1} : r_{995}, d_{2} : \\frac{r_{995}}{x_{12}}, d_{3} : \\frac{r_{995}}{x_{12} x_{23}}, d_{4} : r_{996}, d_{5} : \\frac{r_{995}}{x_{12} x_{23} x_{35}}, a_{12} : r_{997}, a_{13} : r_{998}, a_{14} : r_{999}, a_{15} : r_{1000}, a_{23} : \\frac{r_{997}}{x_{12}}, a_{24} : \\frac{r_{997}}{x_{12}}, a_{25} : \\frac{r_{997} + r_{998}}{x_{12}}, a_{34} : -\\frac{r_{996} x_{12} x_{24} - r_{995}}{x_{12} x_{23}}, a_{35} : r_{1001}, a_{45} : -\\frac{r_{995} x_{25} + {\\left(r_{1001} x_{12} x_{23}^{2} - {\\left(r_{995} + r_{997}\\right)} x_{23}\\right)} x_{35}}{x_{12} x_{23} x_{24} x_{35}}\\right\\}\\right]$$"
      ],
      "text/plain": [
       "[{d1: 0,\n",
       "  d2: 0,\n",
       "  d3: 0,\n",
       "  d4: r985,\n",
       "  d5: 0,\n",
       "  a12: r986,\n",
       "  a13: r987,\n",
       "  a14: r988,\n",
       "  a15: r989,\n",
       "  a23: r990,\n",
       "  a24: r991,\n",
       "  a25: r992,\n",
       "  a34: -r985*x24/x23,\n",
       "  a35: r993,\n",
       "  a45: r994},\n",
       " {d1: r995,\n",
       "  d2: r995/x12,\n",
       "  d3: r995/(x12*x23),\n",
       "  d4: r996,\n",
       "  d5: r995/(x12*x23*x35),\n",
       "  a12: r997,\n",
       "  a13: r998,\n",
       "  a14: r999,\n",
       "  a15: r1000,\n",
       "  a23: r997/x12,\n",
       "  a24: r997/x12,\n",
       "  a25: (r997 + r998)/x12,\n",
       "  a34: -(r996*x12*x24 - r995)/(x12*x23),\n",
       "  a35: r1001,\n",
       "  a45: -(r995*x25 + (r1001*x12*x23^2 - (r995 + r997)*x23)*x35)/(x12*x23*x24*x35)}]"
      ]
     },
     "metadata": {},
     "output_type": "display_data"
    }
   ],
   "source": [
    "#x4\n",
    "reset()\n",
    "\n",
    "var('x12,x13,x14,x15,x23,x24,x25,x34,x35,x45')\n",
    "var('d1,d2,d3,d4,d5')\n",
    "var('a12,a13,a14,a15,a23,a24,a25,a34,a35,a45')\n",
    "\n",
    "load_attach_path('C:\\\\Users\\\\julia\\\\Documents\\\\unb\\\\doutorado\\\\pensar\\\\codigo_sage_v2\\\\maquina\\\\x4')\n",
    "load('out_#111000.sage')\n",
    "\n",
    "m=matrix(QQ, [[0, 1, 0, 0, 0],\n",
    "              [0, 0, 1, 1, 1],\n",
    "              [0, 0, 0, 0, 1],\n",
    "              [0, 0, 0, 0, 0],\n",
    "              [0, 0, 0, 0, 0]])\n",
    "        \n",
    "#entry of matrix: (i,j) line i collum j, means (i-1,j-1)\n",
    "sol=solve([ eq1==m[0,1],\teq2==m[0,2],\teq3==m[0,3],\teq4==m[0,4],\t\n",
    "                                            eq5==m[1,2],    eq6==m[1,3],\n",
    "                                                            eq7==m[1,4], eq8==m[2,4]],d1,d2,d3,d4,d5,a12,a13,a14,a15,a23,a24,a25,a34,a35,a45, solution_dict=True)\n",
    "\n",
    "show(m)\n",
    "show(sol)\n",
    "#latex(sol)"
   ]
  },
  {
   "cell_type": "code",
   "execution_count": 58,
   "metadata": {},
   "outputs": [
    {
     "data": {
      "text/html": [
       "<html><script type=\"math/tex; mode=display\">\\newcommand{\\Bold}[1]{\\mathbf{#1}}\\left(\\begin{array}{rrrrr}\n",
       "0 & 1 & 0 & 0 & 1 \\\\\n",
       "0 & 0 & 1 & 1 & 1 \\\\\n",
       "0 & 0 & 0 & 0 & 1 \\\\\n",
       "0 & 0 & 0 & 0 & 0 \\\\\n",
       "0 & 0 & 0 & 0 & 0\n",
       "\\end{array}\\right)</script></html>"
      ],
      "text/latex": [
       "$$\\newcommand{\\Bold}[1]{\\mathbf{#1}}\\left(\\begin{array}{rrrrr}\n",
       "0 & 1 & 0 & 0 & 1 \\\\\n",
       "0 & 0 & 1 & 1 & 1 \\\\\n",
       "0 & 0 & 0 & 0 & 1 \\\\\n",
       "0 & 0 & 0 & 0 & 0 \\\\\n",
       "0 & 0 & 0 & 0 & 0\n",
       "\\end{array}\\right)$$"
      ],
      "text/plain": [
       "[0 1 0 0 1]\n",
       "[0 0 1 1 1]\n",
       "[0 0 0 0 1]\n",
       "[0 0 0 0 0]\n",
       "[0 0 0 0 0]"
      ]
     },
     "metadata": {},
     "output_type": "display_data"
    },
    {
     "data": {
      "text/html": [
       "<html><script type=\"math/tex; mode=display\">\\newcommand{\\Bold}[1]{\\mathbf{#1}}\\left[\\left\\{d_{1} : 0, d_{2} : 0, d_{3} : 0, d_{4} : r_{1002}, d_{5} : 0, a_{12} : r_{1003}, a_{13} : r_{1004}, a_{14} : r_{1005}, a_{15} : r_{1006}, a_{23} : r_{1007}, a_{24} : r_{1008}, a_{25} : r_{1009}, a_{34} : -\\frac{r_{1002} x_{24}}{x_{23}}, a_{35} : r_{1010}, a_{45} : r_{1011}\\right\\}, \\left\\{d_{1} : r_{1012}, d_{2} : \\frac{r_{1012}}{x_{12}}, d_{3} : \\frac{r_{1012}}{x_{12} x_{23}}, d_{4} : r_{1013}, d_{5} : \\frac{r_{1012}}{x_{12} x_{23} x_{35}}, a_{12} : r_{1014}, a_{13} : r_{1015}, a_{14} : r_{1016}, a_{15} : r_{1017}, a_{23} : \\frac{r_{1014}}{x_{12}}, a_{24} : \\frac{r_{1014}}{x_{12}}, a_{25} : \\frac{{\\left(r_{1012} + r_{1014} + r_{1015}\\right)} x_{12} x_{23} x_{35} - r_{1012} x_{15}}{x_{12}^{2} x_{23} x_{35}}, a_{34} : -\\frac{r_{1013} x_{12} x_{24} - r_{1012}}{x_{12} x_{23}}, a_{35} : r_{1018}, a_{45} : -\\frac{r_{1012} x_{25} + {\\left(r_{1018} x_{12} x_{23}^{2} - {\\left(r_{1012} + r_{1014}\\right)} x_{23}\\right)} x_{35}}{x_{12} x_{23} x_{24} x_{35}}\\right\\}\\right]</script></html>"
      ],
      "text/latex": [
       "$$\\newcommand{\\Bold}[1]{\\mathbf{#1}}\\left[\\left\\{d_{1} : 0, d_{2} : 0, d_{3} : 0, d_{4} : r_{1002}, d_{5} : 0, a_{12} : r_{1003}, a_{13} : r_{1004}, a_{14} : r_{1005}, a_{15} : r_{1006}, a_{23} : r_{1007}, a_{24} : r_{1008}, a_{25} : r_{1009}, a_{34} : -\\frac{r_{1002} x_{24}}{x_{23}}, a_{35} : r_{1010}, a_{45} : r_{1011}\\right\\}, \\left\\{d_{1} : r_{1012}, d_{2} : \\frac{r_{1012}}{x_{12}}, d_{3} : \\frac{r_{1012}}{x_{12} x_{23}}, d_{4} : r_{1013}, d_{5} : \\frac{r_{1012}}{x_{12} x_{23} x_{35}}, a_{12} : r_{1014}, a_{13} : r_{1015}, a_{14} : r_{1016}, a_{15} : r_{1017}, a_{23} : \\frac{r_{1014}}{x_{12}}, a_{24} : \\frac{r_{1014}}{x_{12}}, a_{25} : \\frac{{\\left(r_{1012} + r_{1014} + r_{1015}\\right)} x_{12} x_{23} x_{35} - r_{1012} x_{15}}{x_{12}^{2} x_{23} x_{35}}, a_{34} : -\\frac{r_{1013} x_{12} x_{24} - r_{1012}}{x_{12} x_{23}}, a_{35} : r_{1018}, a_{45} : -\\frac{r_{1012} x_{25} + {\\left(r_{1018} x_{12} x_{23}^{2} - {\\left(r_{1012} + r_{1014}\\right)} x_{23}\\right)} x_{35}}{x_{12} x_{23} x_{24} x_{35}}\\right\\}\\right]$$"
      ],
      "text/plain": [
       "[{d1: 0,\n",
       "  d2: 0,\n",
       "  d3: 0,\n",
       "  d4: r1002,\n",
       "  d5: 0,\n",
       "  a12: r1003,\n",
       "  a13: r1004,\n",
       "  a14: r1005,\n",
       "  a15: r1006,\n",
       "  a23: r1007,\n",
       "  a24: r1008,\n",
       "  a25: r1009,\n",
       "  a34: -r1002*x24/x23,\n",
       "  a35: r1010,\n",
       "  a45: r1011},\n",
       " {d1: r1012,\n",
       "  d2: r1012/x12,\n",
       "  d3: r1012/(x12*x23),\n",
       "  d4: r1013,\n",
       "  d5: r1012/(x12*x23*x35),\n",
       "  a12: r1014,\n",
       "  a13: r1015,\n",
       "  a14: r1016,\n",
       "  a15: r1017,\n",
       "  a23: r1014/x12,\n",
       "  a24: r1014/x12,\n",
       "  a25: ((r1012 + r1014 + r1015)*x12*x23*x35 - r1012*x15)/(x12^2*x23*x35),\n",
       "  a34: -(r1013*x12*x24 - r1012)/(x12*x23),\n",
       "  a35: r1018,\n",
       "  a45: -(r1012*x25 + (r1018*x12*x23^2 - (r1012 + r1014)*x23)*x35)/(x12*x23*x24*x35)}]"
      ]
     },
     "metadata": {},
     "output_type": "display_data"
    }
   ],
   "source": [
    "#x4\n",
    "reset()\n",
    "\n",
    "var('x12,x13,x14,x15,x23,x24,x25,x34,x35,x45')\n",
    "var('d1,d2,d3,d4,d5')\n",
    "var('a12,a13,a14,a15,a23,a24,a25,a34,a35,a45')\n",
    "\n",
    "load_attach_path('C:\\\\Users\\\\julia\\\\Documents\\\\unb\\\\doutorado\\\\pensar\\\\codigo_sage_v2\\\\maquina\\\\x4')\n",
    "load('out_#111001.sage')\n",
    "\n",
    "m=matrix(QQ, [[0, 1, 0, 0, 1],\n",
    "              [0, 0, 1, 1, 1],\n",
    "              [0, 0, 0, 0, 1],\n",
    "              [0, 0, 0, 0, 0],\n",
    "              [0, 0, 0, 0, 0]])\n",
    "        \n",
    "#entry of matrix: (i,j) line i collum j, means (i-1,j-1)\n",
    "sol=solve([ eq1==m[0,1],\teq2==m[0,2],\teq3==m[0,3],\teq4==m[0,4],\t\n",
    "                                            eq5==m[1,2],    eq6==m[1,3],\n",
    "                                                            eq7==m[1,4], eq8==m[2,4]],d1,d2,d3,d4,d5,a12,a13,a14,a15,a23,a24,a25,a34,a35,a45, solution_dict=True)\n",
    "\n",
    "show(m)\n",
    "show(sol)\n",
    "#latex(sol)"
   ]
  },
  {
   "cell_type": "code",
   "execution_count": 59,
   "metadata": {},
   "outputs": [
    {
     "data": {
      "text/html": [
       "<html><script type=\"math/tex; mode=display\">\\newcommand{\\Bold}[1]{\\mathbf{#1}}\\left(\\begin{array}{rrrrr}\n",
       "0 & 1 & 0 & 1 & 0 \\\\\n",
       "0 & 0 & 1 & 1 & 1 \\\\\n",
       "0 & 0 & 0 & 0 & 1 \\\\\n",
       "0 & 0 & 0 & 0 & 0 \\\\\n",
       "0 & 0 & 0 & 0 & 0\n",
       "\\end{array}\\right)</script></html>"
      ],
      "text/latex": [
       "$$\\newcommand{\\Bold}[1]{\\mathbf{#1}}\\left(\\begin{array}{rrrrr}\n",
       "0 & 1 & 0 & 1 & 0 \\\\\n",
       "0 & 0 & 1 & 1 & 1 \\\\\n",
       "0 & 0 & 0 & 0 & 1 \\\\\n",
       "0 & 0 & 0 & 0 & 0 \\\\\n",
       "0 & 0 & 0 & 0 & 0\n",
       "\\end{array}\\right)$$"
      ],
      "text/plain": [
       "[0 1 0 1 0]\n",
       "[0 0 1 1 1]\n",
       "[0 0 0 0 1]\n",
       "[0 0 0 0 0]\n",
       "[0 0 0 0 0]"
      ]
     },
     "metadata": {},
     "output_type": "display_data"
    },
    {
     "data": {
      "text/html": [
       "<html><script type=\"math/tex; mode=display\">\\newcommand{\\Bold}[1]{\\mathbf{#1}}\\left[\\left\\{d_{1} : 0, d_{2} : 0, d_{3} : 0, d_{4} : r_{1019}, d_{5} : 0, a_{12} : r_{1020}, a_{13} : r_{1021}, a_{14} : r_{1022}, a_{15} : r_{1023}, a_{23} : r_{1024}, a_{24} : r_{1025}, a_{25} : r_{1026}, a_{34} : -\\frac{r_{1019} x_{24}}{x_{23}}, a_{35} : r_{1027}, a_{45} : r_{1028}\\right\\}, \\left\\{d_{1} : r_{1029}, d_{2} : \\frac{r_{1029}}{x_{12}}, d_{3} : \\frac{r_{1029}}{x_{12} x_{23}}, d_{4} : r_{1030}, d_{5} : \\frac{r_{1029}}{x_{12} x_{23} x_{35}}, a_{12} : r_{1031}, a_{13} : r_{1032}, a_{14} : r_{1033}, a_{15} : r_{1034}, a_{23} : \\frac{r_{1031}}{x_{12}}, a_{24} : -\\frac{r_{1030} x_{14} - r_{1029} - r_{1031}}{x_{12}}, a_{25} : r_{1035}, a_{34} : -\\frac{r_{1030} x_{12} x_{24} - r_{1029}}{x_{12} x_{23}}, a_{35} : -\\frac{r_{1029} x_{14} x_{25} - {\\left({\\left(r_{1029} + r_{1031}\\right)} x_{14} x_{23} + {\\left(r_{1035} x_{12}^{2} - {\\left(r_{1031} + r_{1032}\\right)} x_{12}\\right)} x_{23} x_{24}\\right)} x_{35}}{x_{12} x_{14} x_{23}^{2} x_{35}}, a_{45} : -\\frac{r_{1035} x_{12} - r_{1031} - r_{1032}}{x_{14}}\\right\\}\\right]</script></html>"
      ],
      "text/latex": [
       "$$\\newcommand{\\Bold}[1]{\\mathbf{#1}}\\left[\\left\\{d_{1} : 0, d_{2} : 0, d_{3} : 0, d_{4} : r_{1019}, d_{5} : 0, a_{12} : r_{1020}, a_{13} : r_{1021}, a_{14} : r_{1022}, a_{15} : r_{1023}, a_{23} : r_{1024}, a_{24} : r_{1025}, a_{25} : r_{1026}, a_{34} : -\\frac{r_{1019} x_{24}}{x_{23}}, a_{35} : r_{1027}, a_{45} : r_{1028}\\right\\}, \\left\\{d_{1} : r_{1029}, d_{2} : \\frac{r_{1029}}{x_{12}}, d_{3} : \\frac{r_{1029}}{x_{12} x_{23}}, d_{4} : r_{1030}, d_{5} : \\frac{r_{1029}}{x_{12} x_{23} x_{35}}, a_{12} : r_{1031}, a_{13} : r_{1032}, a_{14} : r_{1033}, a_{15} : r_{1034}, a_{23} : \\frac{r_{1031}}{x_{12}}, a_{24} : -\\frac{r_{1030} x_{14} - r_{1029} - r_{1031}}{x_{12}}, a_{25} : r_{1035}, a_{34} : -\\frac{r_{1030} x_{12} x_{24} - r_{1029}}{x_{12} x_{23}}, a_{35} : -\\frac{r_{1029} x_{14} x_{25} - {\\left({\\left(r_{1029} + r_{1031}\\right)} x_{14} x_{23} + {\\left(r_{1035} x_{12}^{2} - {\\left(r_{1031} + r_{1032}\\right)} x_{12}\\right)} x_{23} x_{24}\\right)} x_{35}}{x_{12} x_{14} x_{23}^{2} x_{35}}, a_{45} : -\\frac{r_{1035} x_{12} - r_{1031} - r_{1032}}{x_{14}}\\right\\}\\right]$$"
      ],
      "text/plain": [
       "[{d1: 0,\n",
       "  d2: 0,\n",
       "  d3: 0,\n",
       "  d4: r1019,\n",
       "  d5: 0,\n",
       "  a12: r1020,\n",
       "  a13: r1021,\n",
       "  a14: r1022,\n",
       "  a15: r1023,\n",
       "  a23: r1024,\n",
       "  a24: r1025,\n",
       "  a25: r1026,\n",
       "  a34: -r1019*x24/x23,\n",
       "  a35: r1027,\n",
       "  a45: r1028},\n",
       " {d1: r1029,\n",
       "  d2: r1029/x12,\n",
       "  d3: r1029/(x12*x23),\n",
       "  d4: r1030,\n",
       "  d5: r1029/(x12*x23*x35),\n",
       "  a12: r1031,\n",
       "  a13: r1032,\n",
       "  a14: r1033,\n",
       "  a15: r1034,\n",
       "  a23: r1031/x12,\n",
       "  a24: -(r1030*x14 - r1029 - r1031)/x12,\n",
       "  a25: r1035,\n",
       "  a34: -(r1030*x12*x24 - r1029)/(x12*x23),\n",
       "  a35: -(r1029*x14*x25 - ((r1029 + r1031)*x14*x23 + (r1035*x12^2 - (r1031 + r1032)*x12)*x23*x24)*x35)/(x12*x14*x23^2*x35),\n",
       "  a45: -(r1035*x12 - r1031 - r1032)/x14}]"
      ]
     },
     "metadata": {},
     "output_type": "display_data"
    }
   ],
   "source": [
    "#x4\n",
    "reset()\n",
    "\n",
    "var('x12,x13,x14,x15,x23,x24,x25,x34,x35,x45')\n",
    "var('d1,d2,d3,d4,d5')\n",
    "var('a12,a13,a14,a15,a23,a24,a25,a34,a35,a45')\n",
    "\n",
    "load_attach_path('C:\\\\Users\\\\julia\\\\Documents\\\\unb\\\\doutorado\\\\pensar\\\\codigo_sage_v2\\\\maquina\\\\x4')\n",
    "load('out_#111010.sage')\n",
    "\n",
    "m=matrix(QQ, [[0, 1, 0, 1, 0],\n",
    "              [0, 0, 1, 1, 1],\n",
    "              [0, 0, 0, 0, 1],\n",
    "              [0, 0, 0, 0, 0],\n",
    "              [0, 0, 0, 0, 0]])\n",
    "        \n",
    "#entry of matrix: (i,j) line i collum j, means (i-1,j-1)\n",
    "sol=solve([ eq1==m[0,1],\teq2==m[0,2],\teq3==m[0,3],\teq4==m[0,4],\t\n",
    "                                            eq5==m[1,2],    eq6==m[1,3],\n",
    "                                                            eq7==m[1,4], eq8==m[2,4]],d1,d2,d3,d4,d5,a12,a13,a14,a15,a23,a24,a25,a34,a35,a45, solution_dict=True)\n",
    "\n",
    "show(m)\n",
    "show(sol)\n",
    "#latex(sol)"
   ]
  },
  {
   "cell_type": "code",
   "execution_count": 60,
   "metadata": {},
   "outputs": [
    {
     "data": {
      "text/html": [
       "<html><script type=\"math/tex; mode=display\">\\newcommand{\\Bold}[1]{\\mathbf{#1}}\\left(\\begin{array}{rrrrr}\n",
       "0 & 1 & 0 & 1 & 1 \\\\\n",
       "0 & 0 & 1 & 1 & 1 \\\\\n",
       "0 & 0 & 0 & 0 & 1 \\\\\n",
       "0 & 0 & 0 & 0 & 0 \\\\\n",
       "0 & 0 & 0 & 0 & 0\n",
       "\\end{array}\\right)</script></html>"
      ],
      "text/latex": [
       "$$\\newcommand{\\Bold}[1]{\\mathbf{#1}}\\left(\\begin{array}{rrrrr}\n",
       "0 & 1 & 0 & 1 & 1 \\\\\n",
       "0 & 0 & 1 & 1 & 1 \\\\\n",
       "0 & 0 & 0 & 0 & 1 \\\\\n",
       "0 & 0 & 0 & 0 & 0 \\\\\n",
       "0 & 0 & 0 & 0 & 0\n",
       "\\end{array}\\right)$$"
      ],
      "text/plain": [
       "[0 1 0 1 1]\n",
       "[0 0 1 1 1]\n",
       "[0 0 0 0 1]\n",
       "[0 0 0 0 0]\n",
       "[0 0 0 0 0]"
      ]
     },
     "metadata": {},
     "output_type": "display_data"
    },
    {
     "data": {
      "text/html": [
       "<html><script type=\"math/tex; mode=display\">\\newcommand{\\Bold}[1]{\\mathbf{#1}}\\left[\\left\\{d_{1} : 0, d_{2} : 0, d_{3} : 0, d_{4} : r_{1036}, d_{5} : 0, a_{12} : r_{1037}, a_{13} : r_{1038}, a_{14} : r_{1039}, a_{15} : r_{1040}, a_{23} : r_{1041}, a_{24} : r_{1042}, a_{25} : r_{1043}, a_{34} : -\\frac{r_{1036} x_{24}}{x_{23}}, a_{35} : r_{1044}, a_{45} : r_{1045}\\right\\}, \\left\\{d_{1} : r_{1046}, d_{2} : \\frac{r_{1046}}{x_{12}}, d_{3} : \\frac{r_{1046}}{x_{12} x_{23}}, d_{4} : r_{1047}, d_{5} : \\frac{r_{1046}}{x_{12} x_{23} x_{35}}, a_{12} : r_{1048}, a_{13} : r_{1049}, a_{14} : r_{1050}, a_{15} : r_{1051}, a_{23} : \\frac{r_{1048}}{x_{12}}, a_{24} : -\\frac{r_{1047} x_{14} - r_{1046} - r_{1048}}{x_{12}}, a_{25} : r_{1052}, a_{34} : -\\frac{r_{1047} x_{12} x_{24} - r_{1046}}{x_{12} x_{23}}, a_{35} : \\frac{r_{1046} x_{15} x_{24} - r_{1046} x_{14} x_{25} + {\\left({\\left(r_{1046} + r_{1048}\\right)} x_{14} x_{23} + {\\left(r_{1052} x_{12}^{2} - {\\left(r_{1046} + r_{1048} + r_{1049}\\right)} x_{12}\\right)} x_{23} x_{24}\\right)} x_{35}}{x_{12} x_{14} x_{23}^{2} x_{35}}, a_{45} : -\\frac{{\\left(r_{1052} x_{12}^{2} - {\\left(r_{1046} + r_{1048} + r_{1049}\\right)} x_{12}\\right)} x_{23} x_{35} + r_{1046} x_{15}}{x_{12} x_{14} x_{23} x_{35}}\\right\\}\\right]</script></html>"
      ],
      "text/latex": [
       "$$\\newcommand{\\Bold}[1]{\\mathbf{#1}}\\left[\\left\\{d_{1} : 0, d_{2} : 0, d_{3} : 0, d_{4} : r_{1036}, d_{5} : 0, a_{12} : r_{1037}, a_{13} : r_{1038}, a_{14} : r_{1039}, a_{15} : r_{1040}, a_{23} : r_{1041}, a_{24} : r_{1042}, a_{25} : r_{1043}, a_{34} : -\\frac{r_{1036} x_{24}}{x_{23}}, a_{35} : r_{1044}, a_{45} : r_{1045}\\right\\}, \\left\\{d_{1} : r_{1046}, d_{2} : \\frac{r_{1046}}{x_{12}}, d_{3} : \\frac{r_{1046}}{x_{12} x_{23}}, d_{4} : r_{1047}, d_{5} : \\frac{r_{1046}}{x_{12} x_{23} x_{35}}, a_{12} : r_{1048}, a_{13} : r_{1049}, a_{14} : r_{1050}, a_{15} : r_{1051}, a_{23} : \\frac{r_{1048}}{x_{12}}, a_{24} : -\\frac{r_{1047} x_{14} - r_{1046} - r_{1048}}{x_{12}}, a_{25} : r_{1052}, a_{34} : -\\frac{r_{1047} x_{12} x_{24} - r_{1046}}{x_{12} x_{23}}, a_{35} : \\frac{r_{1046} x_{15} x_{24} - r_{1046} x_{14} x_{25} + {\\left({\\left(r_{1046} + r_{1048}\\right)} x_{14} x_{23} + {\\left(r_{1052} x_{12}^{2} - {\\left(r_{1046} + r_{1048} + r_{1049}\\right)} x_{12}\\right)} x_{23} x_{24}\\right)} x_{35}}{x_{12} x_{14} x_{23}^{2} x_{35}}, a_{45} : -\\frac{{\\left(r_{1052} x_{12}^{2} - {\\left(r_{1046} + r_{1048} + r_{1049}\\right)} x_{12}\\right)} x_{23} x_{35} + r_{1046} x_{15}}{x_{12} x_{14} x_{23} x_{35}}\\right\\}\\right]$$"
      ],
      "text/plain": [
       "[{d1: 0,\n",
       "  d2: 0,\n",
       "  d3: 0,\n",
       "  d4: r1036,\n",
       "  d5: 0,\n",
       "  a12: r1037,\n",
       "  a13: r1038,\n",
       "  a14: r1039,\n",
       "  a15: r1040,\n",
       "  a23: r1041,\n",
       "  a24: r1042,\n",
       "  a25: r1043,\n",
       "  a34: -r1036*x24/x23,\n",
       "  a35: r1044,\n",
       "  a45: r1045},\n",
       " {d1: r1046,\n",
       "  d2: r1046/x12,\n",
       "  d3: r1046/(x12*x23),\n",
       "  d4: r1047,\n",
       "  d5: r1046/(x12*x23*x35),\n",
       "  a12: r1048,\n",
       "  a13: r1049,\n",
       "  a14: r1050,\n",
       "  a15: r1051,\n",
       "  a23: r1048/x12,\n",
       "  a24: -(r1047*x14 - r1046 - r1048)/x12,\n",
       "  a25: r1052,\n",
       "  a34: -(r1047*x12*x24 - r1046)/(x12*x23),\n",
       "  a35: (r1046*x15*x24 - r1046*x14*x25 + ((r1046 + r1048)*x14*x23 + (r1052*x12^2 - (r1046 + r1048 + r1049)*x12)*x23*x24)*x35)/(x12*x14*x23^2*x35),\n",
       "  a45: -((r1052*x12^2 - (r1046 + r1048 + r1049)*x12)*x23*x35 + r1046*x15)/(x12*x14*x23*x35)}]"
      ]
     },
     "metadata": {},
     "output_type": "display_data"
    }
   ],
   "source": [
    "#x4\n",
    "reset()\n",
    "\n",
    "var('x12,x13,x14,x15,x23,x24,x25,x34,x35,x45')\n",
    "var('d1,d2,d3,d4,d5')\n",
    "var('a12,a13,a14,a15,a23,a24,a25,a34,a35,a45')\n",
    "\n",
    "load_attach_path('C:\\\\Users\\\\julia\\\\Documents\\\\unb\\\\doutorado\\\\pensar\\\\codigo_sage_v2\\\\maquina\\\\x4')\n",
    "load('out_#111011.sage')\n",
    "\n",
    "m=matrix(QQ, [[0, 1, 0, 1, 1],\n",
    "              [0, 0, 1, 1, 1],\n",
    "              [0, 0, 0, 0, 1],\n",
    "              [0, 0, 0, 0, 0],\n",
    "              [0, 0, 0, 0, 0]])\n",
    "        \n",
    "#entry of matrix: (i,j) line i collum j, means (i-1,j-1)\n",
    "sol=solve([ eq1==m[0,1],\teq2==m[0,2],\teq3==m[0,3],\teq4==m[0,4],\t\n",
    "                                            eq5==m[1,2],    eq6==m[1,3],\n",
    "                                                            eq7==m[1,4], eq8==m[2,4]],d1,d2,d3,d4,d5,a12,a13,a14,a15,a23,a24,a25,a34,a35,a45, solution_dict=True)\n",
    "\n",
    "show(m)\n",
    "show(sol)\n",
    "#latex(sol)"
   ]
  },
  {
   "cell_type": "code",
   "execution_count": 61,
   "metadata": {},
   "outputs": [
    {
     "data": {
      "text/html": [
       "<html><script type=\"math/tex; mode=display\">\\newcommand{\\Bold}[1]{\\mathbf{#1}}\\left(\\begin{array}{rrrrr}\n",
       "0 & 1 & 1 & 0 & 0 \\\\\n",
       "0 & 0 & 1 & 1 & 1 \\\\\n",
       "0 & 0 & 0 & 0 & 1 \\\\\n",
       "0 & 0 & 0 & 0 & 0 \\\\\n",
       "0 & 0 & 0 & 0 & 0\n",
       "\\end{array}\\right)</script></html>"
      ],
      "text/latex": [
       "$$\\newcommand{\\Bold}[1]{\\mathbf{#1}}\\left(\\begin{array}{rrrrr}\n",
       "0 & 1 & 1 & 0 & 0 \\\\\n",
       "0 & 0 & 1 & 1 & 1 \\\\\n",
       "0 & 0 & 0 & 0 & 1 \\\\\n",
       "0 & 0 & 0 & 0 & 0 \\\\\n",
       "0 & 0 & 0 & 0 & 0\n",
       "\\end{array}\\right)$$"
      ],
      "text/plain": [
       "[0 1 1 0 0]\n",
       "[0 0 1 1 1]\n",
       "[0 0 0 0 1]\n",
       "[0 0 0 0 0]\n",
       "[0 0 0 0 0]"
      ]
     },
     "metadata": {},
     "output_type": "display_data"
    },
    {
     "data": {
      "text/html": [
       "<html><script type=\"math/tex; mode=display\">\\newcommand{\\Bold}[1]{\\mathbf{#1}}\\left[\\left\\{d_{1} : 0, d_{2} : 0, d_{3} : 0, d_{4} : r_{1053}, d_{5} : 0, a_{12} : r_{1054}, a_{13} : r_{1055}, a_{14} : r_{1056}, a_{15} : r_{1057}, a_{23} : r_{1058}, a_{24} : r_{1059}, a_{25} : r_{1060}, a_{34} : -\\frac{r_{1053} x_{24}}{x_{23}}, a_{35} : r_{1061}, a_{45} : r_{1062}\\right\\}, \\left\\{d_{1} : r_{1063}, d_{2} : \\frac{r_{1063}}{x_{12}}, d_{3} : \\frac{r_{1063}}{x_{12} x_{23}}, d_{4} : r_{1064}, d_{5} : \\frac{r_{1063}}{x_{12} x_{23} x_{35}}, a_{12} : r_{1065}, a_{13} : r_{1066}, a_{14} : r_{1067}, a_{15} : r_{1068}, a_{23} : \\frac{{\\left(r_{1063} + r_{1065}\\right)} x_{12} x_{23} - r_{1063} x_{13}}{x_{12}^{2} x_{23}}, a_{24} : \\frac{r_{1064} x_{12} x_{13} x_{24} + r_{1065} x_{12} x_{23} - r_{1063} x_{13}}{x_{12}^{2} x_{23}}, a_{25} : r_{1069}, a_{34} : -\\frac{r_{1064} x_{12} x_{24} - r_{1063}}{x_{12} x_{23}}, a_{35} : -\\frac{r_{1069} x_{12} - r_{1065} - r_{1066}}{x_{13}}, a_{45} : -\\frac{r_{1063} x_{12} x_{13} x_{25} - {\\left({\\left(2 \\, r_{1063} + r_{1065}\\right)} x_{12} x_{13} x_{23} - r_{1063} x_{13}^{2} + {\\left(r_{1069} x_{12}^{3} - {\\left(r_{1065} + r_{1066}\\right)} x_{12}^{2}\\right)} x_{23}^{2}\\right)} x_{35}}{x_{12}^{2} x_{13} x_{23} x_{24} x_{35}}\\right\\}\\right]</script></html>"
      ],
      "text/latex": [
       "$$\\newcommand{\\Bold}[1]{\\mathbf{#1}}\\left[\\left\\{d_{1} : 0, d_{2} : 0, d_{3} : 0, d_{4} : r_{1053}, d_{5} : 0, a_{12} : r_{1054}, a_{13} : r_{1055}, a_{14} : r_{1056}, a_{15} : r_{1057}, a_{23} : r_{1058}, a_{24} : r_{1059}, a_{25} : r_{1060}, a_{34} : -\\frac{r_{1053} x_{24}}{x_{23}}, a_{35} : r_{1061}, a_{45} : r_{1062}\\right\\}, \\left\\{d_{1} : r_{1063}, d_{2} : \\frac{r_{1063}}{x_{12}}, d_{3} : \\frac{r_{1063}}{x_{12} x_{23}}, d_{4} : r_{1064}, d_{5} : \\frac{r_{1063}}{x_{12} x_{23} x_{35}}, a_{12} : r_{1065}, a_{13} : r_{1066}, a_{14} : r_{1067}, a_{15} : r_{1068}, a_{23} : \\frac{{\\left(r_{1063} + r_{1065}\\right)} x_{12} x_{23} - r_{1063} x_{13}}{x_{12}^{2} x_{23}}, a_{24} : \\frac{r_{1064} x_{12} x_{13} x_{24} + r_{1065} x_{12} x_{23} - r_{1063} x_{13}}{x_{12}^{2} x_{23}}, a_{25} : r_{1069}, a_{34} : -\\frac{r_{1064} x_{12} x_{24} - r_{1063}}{x_{12} x_{23}}, a_{35} : -\\frac{r_{1069} x_{12} - r_{1065} - r_{1066}}{x_{13}}, a_{45} : -\\frac{r_{1063} x_{12} x_{13} x_{25} - {\\left({\\left(2 \\, r_{1063} + r_{1065}\\right)} x_{12} x_{13} x_{23} - r_{1063} x_{13}^{2} + {\\left(r_{1069} x_{12}^{3} - {\\left(r_{1065} + r_{1066}\\right)} x_{12}^{2}\\right)} x_{23}^{2}\\right)} x_{35}}{x_{12}^{2} x_{13} x_{23} x_{24} x_{35}}\\right\\}\\right]$$"
      ],
      "text/plain": [
       "[{d1: 0,\n",
       "  d2: 0,\n",
       "  d3: 0,\n",
       "  d4: r1053,\n",
       "  d5: 0,\n",
       "  a12: r1054,\n",
       "  a13: r1055,\n",
       "  a14: r1056,\n",
       "  a15: r1057,\n",
       "  a23: r1058,\n",
       "  a24: r1059,\n",
       "  a25: r1060,\n",
       "  a34: -r1053*x24/x23,\n",
       "  a35: r1061,\n",
       "  a45: r1062},\n",
       " {d1: r1063,\n",
       "  d2: r1063/x12,\n",
       "  d3: r1063/(x12*x23),\n",
       "  d4: r1064,\n",
       "  d5: r1063/(x12*x23*x35),\n",
       "  a12: r1065,\n",
       "  a13: r1066,\n",
       "  a14: r1067,\n",
       "  a15: r1068,\n",
       "  a23: ((r1063 + r1065)*x12*x23 - r1063*x13)/(x12^2*x23),\n",
       "  a24: (r1064*x12*x13*x24 + r1065*x12*x23 - r1063*x13)/(x12^2*x23),\n",
       "  a25: r1069,\n",
       "  a34: -(r1064*x12*x24 - r1063)/(x12*x23),\n",
       "  a35: -(r1069*x12 - r1065 - r1066)/x13,\n",
       "  a45: -(r1063*x12*x13*x25 - ((2*r1063 + r1065)*x12*x13*x23 - r1063*x13^2 + (r1069*x12^3 - (r1065 + r1066)*x12^2)*x23^2)*x35)/(x12^2*x13*x23*x24*x35)}]"
      ]
     },
     "metadata": {},
     "output_type": "display_data"
    }
   ],
   "source": [
    "#x4\n",
    "reset()\n",
    "\n",
    "var('x12,x13,x14,x15,x23,x24,x25,x34,x35,x45')\n",
    "var('d1,d2,d3,d4,d5')\n",
    "var('a12,a13,a14,a15,a23,a24,a25,a34,a35,a45')\n",
    "\n",
    "load_attach_path('C:\\\\Users\\\\julia\\\\Documents\\\\unb\\\\doutorado\\\\pensar\\\\codigo_sage_v2\\\\maquina\\\\x4')\n",
    "load('out_#111100.sage')\n",
    "\n",
    "m=matrix(QQ, [[0, 1, 1, 0, 0],\n",
    "              [0, 0, 1, 1, 1],\n",
    "              [0, 0, 0, 0, 1],\n",
    "              [0, 0, 0, 0, 0],\n",
    "              [0, 0, 0, 0, 0]])\n",
    "        \n",
    "#entry of matrix: (i,j) line i collum j, means (i-1,j-1)\n",
    "sol=solve([ eq1==m[0,1],\teq2==m[0,2],\teq3==m[0,3],\teq4==m[0,4],\t\n",
    "                                            eq5==m[1,2],    eq6==m[1,3],\n",
    "                                                            eq7==m[1,4], eq8==m[2,4]],d1,d2,d3,d4,d5,a12,a13,a14,a15,a23,a24,a25,a34,a35,a45, solution_dict=True)\n",
    "\n",
    "show(m)\n",
    "show(sol)\n",
    "#latex(sol)"
   ]
  },
  {
   "cell_type": "code",
   "execution_count": 62,
   "metadata": {},
   "outputs": [
    {
     "data": {
      "text/html": [
       "<html><script type=\"math/tex; mode=display\">\\newcommand{\\Bold}[1]{\\mathbf{#1}}\\left(\\begin{array}{rrrrr}\n",
       "0 & 1 & 1 & 0 & 1 \\\\\n",
       "0 & 0 & 1 & 1 & 1 \\\\\n",
       "0 & 0 & 0 & 0 & 1 \\\\\n",
       "0 & 0 & 0 & 0 & 0 \\\\\n",
       "0 & 0 & 0 & 0 & 0\n",
       "\\end{array}\\right)</script></html>"
      ],
      "text/latex": [
       "$$\\newcommand{\\Bold}[1]{\\mathbf{#1}}\\left(\\begin{array}{rrrrr}\n",
       "0 & 1 & 1 & 0 & 1 \\\\\n",
       "0 & 0 & 1 & 1 & 1 \\\\\n",
       "0 & 0 & 0 & 0 & 1 \\\\\n",
       "0 & 0 & 0 & 0 & 0 \\\\\n",
       "0 & 0 & 0 & 0 & 0\n",
       "\\end{array}\\right)$$"
      ],
      "text/plain": [
       "[0 1 1 0 1]\n",
       "[0 0 1 1 1]\n",
       "[0 0 0 0 1]\n",
       "[0 0 0 0 0]\n",
       "[0 0 0 0 0]"
      ]
     },
     "metadata": {},
     "output_type": "display_data"
    },
    {
     "data": {
      "text/html": [
       "<html><script type=\"math/tex; mode=display\">\\newcommand{\\Bold}[1]{\\mathbf{#1}}\\left[\\left\\{d_{1} : 0, d_{2} : 0, d_{3} : 0, d_{4} : r_{1070}, d_{5} : 0, a_{12} : r_{1071}, a_{13} : r_{1072}, a_{14} : r_{1073}, a_{15} : r_{1074}, a_{23} : r_{1075}, a_{24} : r_{1076}, a_{25} : r_{1077}, a_{34} : -\\frac{r_{1070} x_{24}}{x_{23}}, a_{35} : r_{1078}, a_{45} : r_{1079}\\right\\}, \\left\\{d_{1} : r_{1080}, d_{2} : \\frac{r_{1080}}{x_{12}}, d_{3} : \\frac{r_{1080}}{x_{12} x_{23}}, d_{4} : r_{1081}, d_{5} : \\frac{r_{1080}}{x_{12} x_{23} x_{35}}, a_{12} : r_{1082}, a_{13} : r_{1083}, a_{14} : r_{1084}, a_{15} : r_{1085}, a_{23} : \\frac{{\\left(r_{1080} + r_{1082}\\right)} x_{12} x_{23} - r_{1080} x_{13}}{x_{12}^{2} x_{23}}, a_{24} : \\frac{r_{1081} x_{12} x_{13} x_{24} + r_{1082} x_{12} x_{23} - r_{1080} x_{13}}{x_{12}^{2} x_{23}}, a_{25} : r_{1086}, a_{34} : -\\frac{r_{1081} x_{12} x_{24} - r_{1080}}{x_{12} x_{23}}, a_{35} : -\\frac{{\\left(r_{1086} x_{12}^{2} - {\\left(r_{1080} + r_{1082} + r_{1083}\\right)} x_{12}\\right)} x_{23} x_{35} + r_{1080} x_{15}}{x_{12} x_{13} x_{23} x_{35}}, a_{45} : \\frac{r_{1080} x_{12} x_{15} x_{23} - r_{1080} x_{12} x_{13} x_{25} + {\\left({\\left(2 \\, r_{1080} + r_{1082}\\right)} x_{12} x_{13} x_{23} - r_{1080} x_{13}^{2} + {\\left(r_{1086} x_{12}^{3} - {\\left(r_{1080} + r_{1082} + r_{1083}\\right)} x_{12}^{2}\\right)} x_{23}^{2}\\right)} x_{35}}{x_{12}^{2} x_{13} x_{23} x_{24} x_{35}}\\right\\}\\right]</script></html>"
      ],
      "text/latex": [
       "$$\\newcommand{\\Bold}[1]{\\mathbf{#1}}\\left[\\left\\{d_{1} : 0, d_{2} : 0, d_{3} : 0, d_{4} : r_{1070}, d_{5} : 0, a_{12} : r_{1071}, a_{13} : r_{1072}, a_{14} : r_{1073}, a_{15} : r_{1074}, a_{23} : r_{1075}, a_{24} : r_{1076}, a_{25} : r_{1077}, a_{34} : -\\frac{r_{1070} x_{24}}{x_{23}}, a_{35} : r_{1078}, a_{45} : r_{1079}\\right\\}, \\left\\{d_{1} : r_{1080}, d_{2} : \\frac{r_{1080}}{x_{12}}, d_{3} : \\frac{r_{1080}}{x_{12} x_{23}}, d_{4} : r_{1081}, d_{5} : \\frac{r_{1080}}{x_{12} x_{23} x_{35}}, a_{12} : r_{1082}, a_{13} : r_{1083}, a_{14} : r_{1084}, a_{15} : r_{1085}, a_{23} : \\frac{{\\left(r_{1080} + r_{1082}\\right)} x_{12} x_{23} - r_{1080} x_{13}}{x_{12}^{2} x_{23}}, a_{24} : \\frac{r_{1081} x_{12} x_{13} x_{24} + r_{1082} x_{12} x_{23} - r_{1080} x_{13}}{x_{12}^{2} x_{23}}, a_{25} : r_{1086}, a_{34} : -\\frac{r_{1081} x_{12} x_{24} - r_{1080}}{x_{12} x_{23}}, a_{35} : -\\frac{{\\left(r_{1086} x_{12}^{2} - {\\left(r_{1080} + r_{1082} + r_{1083}\\right)} x_{12}\\right)} x_{23} x_{35} + r_{1080} x_{15}}{x_{12} x_{13} x_{23} x_{35}}, a_{45} : \\frac{r_{1080} x_{12} x_{15} x_{23} - r_{1080} x_{12} x_{13} x_{25} + {\\left({\\left(2 \\, r_{1080} + r_{1082}\\right)} x_{12} x_{13} x_{23} - r_{1080} x_{13}^{2} + {\\left(r_{1086} x_{12}^{3} - {\\left(r_{1080} + r_{1082} + r_{1083}\\right)} x_{12}^{2}\\right)} x_{23}^{2}\\right)} x_{35}}{x_{12}^{2} x_{13} x_{23} x_{24} x_{35}}\\right\\}\\right]$$"
      ],
      "text/plain": [
       "[{d1: 0,\n",
       "  d2: 0,\n",
       "  d3: 0,\n",
       "  d4: r1070,\n",
       "  d5: 0,\n",
       "  a12: r1071,\n",
       "  a13: r1072,\n",
       "  a14: r1073,\n",
       "  a15: r1074,\n",
       "  a23: r1075,\n",
       "  a24: r1076,\n",
       "  a25: r1077,\n",
       "  a34: -r1070*x24/x23,\n",
       "  a35: r1078,\n",
       "  a45: r1079},\n",
       " {d1: r1080,\n",
       "  d2: r1080/x12,\n",
       "  d3: r1080/(x12*x23),\n",
       "  d4: r1081,\n",
       "  d5: r1080/(x12*x23*x35),\n",
       "  a12: r1082,\n",
       "  a13: r1083,\n",
       "  a14: r1084,\n",
       "  a15: r1085,\n",
       "  a23: ((r1080 + r1082)*x12*x23 - r1080*x13)/(x12^2*x23),\n",
       "  a24: (r1081*x12*x13*x24 + r1082*x12*x23 - r1080*x13)/(x12^2*x23),\n",
       "  a25: r1086,\n",
       "  a34: -(r1081*x12*x24 - r1080)/(x12*x23),\n",
       "  a35: -((r1086*x12^2 - (r1080 + r1082 + r1083)*x12)*x23*x35 + r1080*x15)/(x12*x13*x23*x35),\n",
       "  a45: (r1080*x12*x15*x23 - r1080*x12*x13*x25 + ((2*r1080 + r1082)*x12*x13*x23 - r1080*x13^2 + (r1086*x12^3 - (r1080 + r1082 + r1083)*x12^2)*x23^2)*x35)/(x12^2*x13*x23*x24*x35)}]"
      ]
     },
     "metadata": {},
     "output_type": "display_data"
    }
   ],
   "source": [
    "#x4\n",
    "reset()\n",
    "\n",
    "var('x12,x13,x14,x15,x23,x24,x25,x34,x35,x45')\n",
    "var('d1,d2,d3,d4,d5')\n",
    "var('a12,a13,a14,a15,a23,a24,a25,a34,a35,a45')\n",
    "\n",
    "load_attach_path('C:\\\\Users\\\\julia\\\\Documents\\\\unb\\\\doutorado\\\\pensar\\\\codigo_sage_v2\\\\maquina\\\\x4')\n",
    "load('out_#111101.sage')\n",
    "\n",
    "m=matrix(QQ, [[0, 1, 1, 0, 1],\n",
    "              [0, 0, 1, 1, 1],\n",
    "              [0, 0, 0, 0, 1],\n",
    "              [0, 0, 0, 0, 0],\n",
    "              [0, 0, 0, 0, 0]])\n",
    "        \n",
    "#entry of matrix: (i,j) line i collum j, means (i-1,j-1)\n",
    "sol=solve([ eq1==m[0,1],\teq2==m[0,2],\teq3==m[0,3],\teq4==m[0,4],\t\n",
    "                                            eq5==m[1,2],    eq6==m[1,3],\n",
    "                                                            eq7==m[1,4], eq8==m[2,4]],d1,d2,d3,d4,d5,a12,a13,a14,a15,a23,a24,a25,a34,a35,a45, solution_dict=True)\n",
    "\n",
    "show(m)\n",
    "show(sol)\n",
    "#latex(sol)"
   ]
  },
  {
   "cell_type": "code",
   "execution_count": 93,
   "metadata": {},
   "outputs": [
    {
     "data": {
      "text/html": [
       "<html><script type=\"math/tex; mode=display\">\\newcommand{\\Bold}[1]{\\mathbf{#1}}\\left(\\begin{array}{rrrrr}\n",
       "0 & 1 & 0 & 0 & 0 \\\\\n",
       "0 & 0 & 1 & 0 & 0 \\\\\n",
       "0 & 0 & 0 & 0 & 1 \\\\\n",
       "0 & 0 & 0 & 0 & 0 \\\\\n",
       "0 & 0 & 0 & 0 & 0\n",
       "\\end{array}\\right)</script></html>"
      ],
      "text/latex": [
       "$$\\newcommand{\\Bold}[1]{\\mathbf{#1}}\\left(\\begin{array}{rrrrr}\n",
       "0 & 1 & 0 & 0 & 0 \\\\\n",
       "0 & 0 & 1 & 0 & 0 \\\\\n",
       "0 & 0 & 0 & 0 & 1 \\\\\n",
       "0 & 0 & 0 & 0 & 0 \\\\\n",
       "0 & 0 & 0 & 0 & 0\n",
       "\\end{array}\\right)$$"
      ],
      "text/plain": [
       "[0 1 0 0 0]\n",
       "[0 0 1 0 0]\n",
       "[0 0 0 0 1]\n",
       "[0 0 0 0 0]\n",
       "[0 0 0 0 0]"
      ]
     },
     "metadata": {},
     "output_type": "display_data"
    },
    {
     "data": {
      "text/html": [
       "<html><script type=\"math/tex; mode=display\">\\newcommand{\\Bold}[1]{\\mathbf{#1}}\\left[\\left\\{d_{1} : 0, d_{2} : 0, d_{3} : 0, d_{4} : r_{1571}, d_{5} : 0, a_{12} : r_{1572}, a_{13} : r_{1573}, a_{14} : r_{1574}, a_{15} : r_{1575}, a_{23} : r_{1576}, a_{24} : r_{1577}, a_{25} : r_{1578}, a_{34} : -\\frac{r_{1571} x_{24}}{x_{23}}, a_{35} : r_{1579}, a_{45} : r_{1580}\\right\\}, \\left\\{d_{1} : r_{1581}, d_{2} : \\frac{r_{1581}}{x_{12}}, d_{3} : \\frac{r_{1581}}{x_{12} x_{23}}, d_{4} : r_{1582}, d_{5} : \\frac{r_{1581}}{x_{12} x_{23} x_{35}}, a_{12} : r_{1583}, a_{13} : r_{1584}, a_{14} : r_{1585}, a_{15} : r_{1586}, a_{23} : \\frac{r_{1583} x_{12} x_{23} - r_{1581} x_{13}}{x_{12}^{2} x_{23}}, a_{24} : -\\frac{r_{1582} x_{14} x_{23} - r_{1582} x_{13} x_{24}}{x_{12} x_{23}}, a_{25} : r_{1587}, a_{34} : -\\frac{r_{1582} x_{24}}{x_{23}}, a_{35} : -\\frac{r_{1581} x_{12} x_{14} x_{25} - {\\left(r_{1583} x_{12} x_{14} x_{23} - r_{1581} x_{13} x_{14} + {\\left(r_{1587} x_{12}^{3} - r_{1584} x_{12}^{2}\\right)} x_{23} x_{24}\\right)} x_{35}}{{\\left(x_{12}^{2} x_{14} x_{23}^{2} - x_{12}^{2} x_{13} x_{23} x_{24}\\right)} x_{35}}, a_{45} : \\frac{r_{1581} x_{12} x_{13} x_{25} - {\\left(r_{1583} x_{12} x_{13} x_{23} - r_{1581} x_{13}^{2} + {\\left(r_{1587} x_{12}^{3} - r_{1584} x_{12}^{2}\\right)} x_{23}^{2}\\right)} x_{35}}{{\\left(x_{12}^{2} x_{14} x_{23}^{2} - x_{12}^{2} x_{13} x_{23} x_{24}\\right)} x_{35}}\\right\\}\\right]</script></html>"
      ],
      "text/latex": [
       "$$\\newcommand{\\Bold}[1]{\\mathbf{#1}}\\left[\\left\\{d_{1} : 0, d_{2} : 0, d_{3} : 0, d_{4} : r_{1571}, d_{5} : 0, a_{12} : r_{1572}, a_{13} : r_{1573}, a_{14} : r_{1574}, a_{15} : r_{1575}, a_{23} : r_{1576}, a_{24} : r_{1577}, a_{25} : r_{1578}, a_{34} : -\\frac{r_{1571} x_{24}}{x_{23}}, a_{35} : r_{1579}, a_{45} : r_{1580}\\right\\}, \\left\\{d_{1} : r_{1581}, d_{2} : \\frac{r_{1581}}{x_{12}}, d_{3} : \\frac{r_{1581}}{x_{12} x_{23}}, d_{4} : r_{1582}, d_{5} : \\frac{r_{1581}}{x_{12} x_{23} x_{35}}, a_{12} : r_{1583}, a_{13} : r_{1584}, a_{14} : r_{1585}, a_{15} : r_{1586}, a_{23} : \\frac{r_{1583} x_{12} x_{23} - r_{1581} x_{13}}{x_{12}^{2} x_{23}}, a_{24} : -\\frac{r_{1582} x_{14} x_{23} - r_{1582} x_{13} x_{24}}{x_{12} x_{23}}, a_{25} : r_{1587}, a_{34} : -\\frac{r_{1582} x_{24}}{x_{23}}, a_{35} : -\\frac{r_{1581} x_{12} x_{14} x_{25} - {\\left(r_{1583} x_{12} x_{14} x_{23} - r_{1581} x_{13} x_{14} + {\\left(r_{1587} x_{12}^{3} - r_{1584} x_{12}^{2}\\right)} x_{23} x_{24}\\right)} x_{35}}{{\\left(x_{12}^{2} x_{14} x_{23}^{2} - x_{12}^{2} x_{13} x_{23} x_{24}\\right)} x_{35}}, a_{45} : \\frac{r_{1581} x_{12} x_{13} x_{25} - {\\left(r_{1583} x_{12} x_{13} x_{23} - r_{1581} x_{13}^{2} + {\\left(r_{1587} x_{12}^{3} - r_{1584} x_{12}^{2}\\right)} x_{23}^{2}\\right)} x_{35}}{{\\left(x_{12}^{2} x_{14} x_{23}^{2} - x_{12}^{2} x_{13} x_{23} x_{24}\\right)} x_{35}}\\right\\}\\right]$$"
      ],
      "text/plain": [
       "[{d1: 0,\n",
       "  d2: 0,\n",
       "  d3: 0,\n",
       "  d4: r1571,\n",
       "  d5: 0,\n",
       "  a12: r1572,\n",
       "  a13: r1573,\n",
       "  a14: r1574,\n",
       "  a15: r1575,\n",
       "  a23: r1576,\n",
       "  a24: r1577,\n",
       "  a25: r1578,\n",
       "  a34: -r1571*x24/x23,\n",
       "  a35: r1579,\n",
       "  a45: r1580},\n",
       " {d1: r1581,\n",
       "  d2: r1581/x12,\n",
       "  d3: r1581/(x12*x23),\n",
       "  d4: r1582,\n",
       "  d5: r1581/(x12*x23*x35),\n",
       "  a12: r1583,\n",
       "  a13: r1584,\n",
       "  a14: r1585,\n",
       "  a15: r1586,\n",
       "  a23: (r1583*x12*x23 - r1581*x13)/(x12^2*x23),\n",
       "  a24: -(r1582*x14*x23 - r1582*x13*x24)/(x12*x23),\n",
       "  a25: r1587,\n",
       "  a34: -r1582*x24/x23,\n",
       "  a35: -(r1581*x12*x14*x25 - (r1583*x12*x14*x23 - r1581*x13*x14 + (r1587*x12^3 - r1584*x12^2)*x23*x24)*x35)/((x12^2*x14*x23^2 - x12^2*x13*x23*x24)*x35),\n",
       "  a45: (r1581*x12*x13*x25 - (r1583*x12*x13*x23 - r1581*x13^2 + (r1587*x12^3 - r1584*x12^2)*x23^2)*x35)/((x12^2*x14*x23^2 - x12^2*x13*x23*x24)*x35)}]"
      ]
     },
     "metadata": {},
     "output_type": "display_data"
    }
   ],
   "source": [
    "#x4\n",
    "#----------------------\n",
    "#x14 \\neq x13*x24/x23\n",
    "#----------------------\n",
    "reset()\n",
    "\n",
    "var('x12,x13,x14,x15,x23,x24,x25,x34,x35,x45')\n",
    "var('d1,d2,d3,d4,d5')\n",
    "var('a12,a13,a14,a15,a23,a24,a25,a34,a35,a45')\n",
    "\n",
    "load_attach_path('C:\\\\Users\\\\julia\\\\Documents\\\\unb\\\\doutorado\\\\pensar\\\\codigo_sage_v2\\\\maquina\\\\x4')\n",
    "load('out_#111110.sage')\n",
    "\n",
    "m=matrix(QQ, [[0, 1, 0, 0, 0],\n",
    "              [0, 0, 1, 0, 0],\n",
    "              [0, 0, 0, 0, 1],\n",
    "              [0, 0, 0, 0, 0],\n",
    "              [0, 0, 0, 0, 0]])\n",
    "        \n",
    "#entry of matrix: (i,j) line i collum j, means (i-1,j-1)\n",
    "sol=solve([ eq1==m[0,1],\teq2==m[0,2],\teq3==m[0,3],\teq4==m[0,4],\t\n",
    "                                            eq5==m[1,2],    eq6==m[1,3],\n",
    "                                                            eq7==m[1,4], eq8==m[2,4]],d1,d2,d3,d4,d5,a12,a13,a14,a15,a23,a24,a25,a34,a35,a45, solution_dict=True)\n",
    "\n",
    "show(m)\n",
    "show(sol)\n",
    "#latex(sol)"
   ]
  },
  {
   "cell_type": "code",
   "execution_count": 94,
   "metadata": {},
   "outputs": [
    {
     "data": {
      "text/html": [
       "<html><script type=\"math/tex; mode=display\">\\newcommand{\\Bold}[1]{\\mathbf{#1}}\\left(\\begin{array}{rrrrr}\n",
       "0 & 1 & 0 & 0 & 0 \\\\\n",
       "0 & 0 & 1 & 0 & 0 \\\\\n",
       "0 & 0 & 0 & 0 & 1 \\\\\n",
       "0 & 0 & 0 & 0 & 0 \\\\\n",
       "0 & 0 & 0 & 0 & 0\n",
       "\\end{array}\\right)</script></html>"
      ],
      "text/latex": [
       "$$\\newcommand{\\Bold}[1]{\\mathbf{#1}}\\left(\\begin{array}{rrrrr}\n",
       "0 & 1 & 0 & 0 & 0 \\\\\n",
       "0 & 0 & 1 & 0 & 0 \\\\\n",
       "0 & 0 & 0 & 0 & 1 \\\\\n",
       "0 & 0 & 0 & 0 & 0 \\\\\n",
       "0 & 0 & 0 & 0 & 0\n",
       "\\end{array}\\right)$$"
      ],
      "text/plain": [
       "[0 1 0 0 0]\n",
       "[0 0 1 0 0]\n",
       "[0 0 0 0 1]\n",
       "[0 0 0 0 0]\n",
       "[0 0 0 0 0]"
      ]
     },
     "metadata": {},
     "output_type": "display_data"
    },
    {
     "data": {
      "text/html": [
       "<html><script type=\"math/tex; mode=display\">\\newcommand{\\Bold}[1]{\\mathbf{#1}}\\left[\\left\\{d_{1} : 0, d_{2} : 0, d_{3} : 0, d_{4} : r_{1588}, d_{5} : 0, a_{12} : r_{1589}, a_{13} : r_{1590}, a_{14} : r_{1591}, a_{15} : r_{1592}, a_{23} : r_{1593}, a_{24} : r_{1594}, a_{25} : r_{1595}, a_{34} : -\\frac{r_{1588} x_{24}}{x_{23}}, a_{35} : r_{1596}, a_{45} : r_{1597}\\right\\}, \\left\\{d_{1} : r_{1598}, d_{2} : \\frac{r_{1598}}{x_{12}}, d_{3} : \\frac{r_{1598}}{x_{12} x_{23}}, d_{4} : r_{1599}, d_{5} : \\frac{r_{1598}}{x_{12} x_{23} x_{35}}, a_{12} : r_{1600}, a_{13} : r_{1601}, a_{14} : r_{1602}, a_{15} : r_{1603}, a_{23} : \\frac{r_{1600} x_{12} x_{23} - r_{1598} x_{13}}{x_{12}^{2} x_{23}}, a_{24} : 0, a_{25} : \\frac{r_{1598} x_{12} x_{13} x_{25} + {\\left(r_{1601} x_{12}^{2} x_{23}^{2} - r_{1600} x_{12} x_{13} x_{23} + r_{1598} x_{13}^{2}\\right)} x_{35}}{x_{12}^{3} x_{23}^{2} x_{35}}, a_{34} : -\\frac{r_{1599} x_{24}}{x_{23}}, a_{35} : r_{1604}, a_{45} : -\\frac{r_{1598} x_{12} x_{25} + {\\left(r_{1604} x_{12}^{2} x_{23}^{2} - r_{1600} x_{12} x_{23} + r_{1598} x_{13}\\right)} x_{35}}{x_{12}^{2} x_{23} x_{24} x_{35}}\\right\\}\\right]</script></html>"
      ],
      "text/latex": [
       "$$\\newcommand{\\Bold}[1]{\\mathbf{#1}}\\left[\\left\\{d_{1} : 0, d_{2} : 0, d_{3} : 0, d_{4} : r_{1588}, d_{5} : 0, a_{12} : r_{1589}, a_{13} : r_{1590}, a_{14} : r_{1591}, a_{15} : r_{1592}, a_{23} : r_{1593}, a_{24} : r_{1594}, a_{25} : r_{1595}, a_{34} : -\\frac{r_{1588} x_{24}}{x_{23}}, a_{35} : r_{1596}, a_{45} : r_{1597}\\right\\}, \\left\\{d_{1} : r_{1598}, d_{2} : \\frac{r_{1598}}{x_{12}}, d_{3} : \\frac{r_{1598}}{x_{12} x_{23}}, d_{4} : r_{1599}, d_{5} : \\frac{r_{1598}}{x_{12} x_{23} x_{35}}, a_{12} : r_{1600}, a_{13} : r_{1601}, a_{14} : r_{1602}, a_{15} : r_{1603}, a_{23} : \\frac{r_{1600} x_{12} x_{23} - r_{1598} x_{13}}{x_{12}^{2} x_{23}}, a_{24} : 0, a_{25} : \\frac{r_{1598} x_{12} x_{13} x_{25} + {\\left(r_{1601} x_{12}^{2} x_{23}^{2} - r_{1600} x_{12} x_{13} x_{23} + r_{1598} x_{13}^{2}\\right)} x_{35}}{x_{12}^{3} x_{23}^{2} x_{35}}, a_{34} : -\\frac{r_{1599} x_{24}}{x_{23}}, a_{35} : r_{1604}, a_{45} : -\\frac{r_{1598} x_{12} x_{25} + {\\left(r_{1604} x_{12}^{2} x_{23}^{2} - r_{1600} x_{12} x_{23} + r_{1598} x_{13}\\right)} x_{35}}{x_{12}^{2} x_{23} x_{24} x_{35}}\\right\\}\\right]$$"
      ],
      "text/plain": [
       "[{d1: 0,\n",
       "  d2: 0,\n",
       "  d3: 0,\n",
       "  d4: r1588,\n",
       "  d5: 0,\n",
       "  a12: r1589,\n",
       "  a13: r1590,\n",
       "  a14: r1591,\n",
       "  a15: r1592,\n",
       "  a23: r1593,\n",
       "  a24: r1594,\n",
       "  a25: r1595,\n",
       "  a34: -r1588*x24/x23,\n",
       "  a35: r1596,\n",
       "  a45: r1597},\n",
       " {d1: r1598,\n",
       "  d2: r1598/x12,\n",
       "  d3: r1598/(x12*x23),\n",
       "  d4: r1599,\n",
       "  d5: r1598/(x12*x23*x35),\n",
       "  a12: r1600,\n",
       "  a13: r1601,\n",
       "  a14: r1602,\n",
       "  a15: r1603,\n",
       "  a23: (r1600*x12*x23 - r1598*x13)/(x12^2*x23),\n",
       "  a24: 0,\n",
       "  a25: (r1598*x12*x13*x25 + (r1601*x12^2*x23^2 - r1600*x12*x13*x23 + r1598*x13^2)*x35)/(x12^3*x23^2*x35),\n",
       "  a34: -r1599*x24/x23,\n",
       "  a35: r1604,\n",
       "  a45: -(r1598*x12*x25 + (r1604*x12^2*x23^2 - r1600*x12*x23 + r1598*x13)*x35)/(x12^2*x23*x24*x35)}]"
      ]
     },
     "metadata": {},
     "output_type": "display_data"
    }
   ],
   "source": [
    "#x4\n",
    "#----------------------\n",
    "#x14 = x13*x24/x23\n",
    "#----------------------\n",
    "reset()\n",
    "\n",
    "var('x12,x13,x14,x15,x23,x24,x25,x34,x35,x45')\n",
    "var('d1,d2,d3,d4,d5')\n",
    "var('a12,a13,a14,a15,a23,a24,a25,a34,a35,a45')\n",
    "\n",
    "#111110\n",
    "eq1=(d2*x12)/(d1) \n",
    "eq2=(a23*d2*x12+d2*d3*x13-a12*d3*x23)/(d1*d2) \n",
    "eq3=(a24*d2*x12+a34*d2*x13+d2*d4*((x13*x24)/x23)-a12*a34*x23-a12*d4*x24)/(d1*d2) \n",
    "eq4=(a25*d2*d3*x12+a35*d2*d3*x13+a45*d2*d3*((x13*x24)/x23)+d2*d3*d5*0-a12*a35*d3*x23-a12*a45*d3*x24-a12*d3*d5*x25+a12*a23*d5*x35-a13*d2*d5*x35)/(d1*d2*d3) \n",
    "eq5=(d3*x23)/(d2) \n",
    "eq6=(a34*x23+d4*x24)/(d2) \n",
    "eq7=(a35*d3*x23+a45*d3*x24+d3*d5*x25-a23*d5*x35)/(d2*d3) \n",
    "eq8=(d5*x35)/(d3) \n",
    "\n",
    "\n",
    "m=matrix(QQ, [[0, 1, 0, 0, 0],\n",
    "              [0, 0, 1, 0, 0],\n",
    "              [0, 0, 0, 0, 1],\n",
    "              [0, 0, 0, 0, 0],\n",
    "              [0, 0, 0, 0, 0]])\n",
    "        \n",
    "#entry of matrix: (i,j) line i collum j, means (i-1,j-1)\n",
    "sol=solve([ eq1==m[0,1],\teq2==m[0,2],\teq3==m[0,3],\teq4==m[0,4],\t\n",
    "                                            eq5==m[1,2],    eq6==m[1,3],\n",
    "                                                            eq7==m[1,4], eq8==m[2,4]],d1,d2,d3,d4,d5,a12,a13,a14,a15,a23,a24,a25,a34,a35,a45, solution_dict=True)\n",
    "\n",
    "show(m)\n",
    "show(sol)\n",
    "#latex(sol)"
   ]
  },
  {
   "cell_type": "code",
   "execution_count": 1,
   "metadata": {
    "scrolled": true
   },
   "outputs": [
    {
     "data": {
      "text/html": [
       "<html><script type=\"math/tex; mode=display\">\\newcommand{\\Bold}[1]{\\mathbf{#1}}\\left(\\begin{array}{rrrrr}\n",
       "0 & 1 & 1 & 1 & 1 \\\\\n",
       "0 & 0 & 1 & 1 & 1 \\\\\n",
       "0 & 0 & 0 & 0 & 1 \\\\\n",
       "0 & 0 & 0 & 0 & 0 \\\\\n",
       "0 & 0 & 0 & 0 & 0\n",
       "\\end{array}\\right)</script></html>"
      ],
      "text/latex": [
       "$$\\newcommand{\\Bold}[1]{\\mathbf{#1}}\\left(\\begin{array}{rrrrr}\n",
       "0 & 1 & 1 & 1 & 1 \\\\\n",
       "0 & 0 & 1 & 1 & 1 \\\\\n",
       "0 & 0 & 0 & 0 & 1 \\\\\n",
       "0 & 0 & 0 & 0 & 0 \\\\\n",
       "0 & 0 & 0 & 0 & 0\n",
       "\\end{array}\\right)$$"
      ],
      "text/plain": [
       "[0 1 1 1 1]\n",
       "[0 0 1 1 1]\n",
       "[0 0 0 0 1]\n",
       "[0 0 0 0 0]\n",
       "[0 0 0 0 0]"
      ]
     },
     "metadata": {},
     "output_type": "display_data"
    },
    {
     "data": {
      "text/html": [
       "<html><script type=\"math/tex; mode=display\">\\newcommand{\\Bold}[1]{\\mathbf{#1}}\\left[\\left\\{d_{1} : 0, d_{2} : 0, d_{3} : 0, d_{4} : r_{1}, d_{5} : 0, a_{12} : r_{2}, a_{13} : r_{3}, a_{14} : r_{4}, a_{15} : r_{5}, a_{23} : r_{6}, a_{24} : r_{7}, a_{25} : r_{8}, a_{34} : -\\frac{r_{1} x_{24}}{x_{23}}, a_{35} : r_{9}, a_{45} : r_{10}\\right\\}, \\left\\{d_{1} : r_{11}, d_{2} : \\frac{r_{11}}{x_{12}}, d_{3} : \\frac{r_{11}}{x_{12} x_{23}}, d_{4} : r_{12}, d_{5} : \\frac{r_{11}}{x_{12} x_{23} x_{35}}, a_{12} : r_{13}, a_{13} : r_{14}, a_{14} : r_{15}, a_{15} : r_{16}, a_{23} : \\frac{{\\left(r_{11} + r_{13}\\right)} x_{12} x_{23} - r_{11} x_{13}}{x_{12}^{2} x_{23}}, a_{24} : \\frac{r_{12} x_{12} x_{13} x_{24} - r_{11} x_{13} - {\\left(r_{12} x_{12} x_{14} - {\\left(r_{11} + r_{13}\\right)} x_{12}\\right)} x_{23}}{x_{12}^{2} x_{23}}, a_{25} : r_{17}, a_{34} : -\\frac{r_{12} x_{12} x_{24} - r_{11}}{x_{12} x_{23}}, a_{35} : \\frac{r_{11} x_{12} x_{15} x_{24} - r_{11} x_{12} x_{14} x_{25} + {\\left({\\left(2 \\, r_{11} + r_{13}\\right)} x_{12} x_{14} x_{23} - r_{11} x_{13} x_{14} + {\\left(r_{17} x_{12}^{3} - {\\left(r_{11} + r_{13} + r_{14}\\right)} x_{12}^{2}\\right)} x_{23} x_{24}\\right)} x_{35}}{{\\left(x_{12}^{2} x_{14} x_{23}^{2} - x_{12}^{2} x_{13} x_{23} x_{24}\\right)} x_{35}}, a_{45} : -\\frac{r_{11} x_{12} x_{15} x_{23} - r_{11} x_{12} x_{13} x_{25} + {\\left({\\left(2 \\, r_{11} + r_{13}\\right)} x_{12} x_{13} x_{23} - r_{11} x_{13}^{2} + {\\left(r_{17} x_{12}^{3} - {\\left(r_{11} + r_{13} + r_{14}\\right)} x_{12}^{2}\\right)} x_{23}^{2}\\right)} x_{35}}{{\\left(x_{12}^{2} x_{14} x_{23}^{2} - x_{12}^{2} x_{13} x_{23} x_{24}\\right)} x_{35}}\\right\\}\\right]</script></html>"
      ],
      "text/latex": [
       "$$\\newcommand{\\Bold}[1]{\\mathbf{#1}}\\left[\\left\\{d_{1} : 0, d_{2} : 0, d_{3} : 0, d_{4} : r_{1}, d_{5} : 0, a_{12} : r_{2}, a_{13} : r_{3}, a_{14} : r_{4}, a_{15} : r_{5}, a_{23} : r_{6}, a_{24} : r_{7}, a_{25} : r_{8}, a_{34} : -\\frac{r_{1} x_{24}}{x_{23}}, a_{35} : r_{9}, a_{45} : r_{10}\\right\\}, \\left\\{d_{1} : r_{11}, d_{2} : \\frac{r_{11}}{x_{12}}, d_{3} : \\frac{r_{11}}{x_{12} x_{23}}, d_{4} : r_{12}, d_{5} : \\frac{r_{11}}{x_{12} x_{23} x_{35}}, a_{12} : r_{13}, a_{13} : r_{14}, a_{14} : r_{15}, a_{15} : r_{16}, a_{23} : \\frac{{\\left(r_{11} + r_{13}\\right)} x_{12} x_{23} - r_{11} x_{13}}{x_{12}^{2} x_{23}}, a_{24} : \\frac{r_{12} x_{12} x_{13} x_{24} - r_{11} x_{13} - {\\left(r_{12} x_{12} x_{14} - {\\left(r_{11} + r_{13}\\right)} x_{12}\\right)} x_{23}}{x_{12}^{2} x_{23}}, a_{25} : r_{17}, a_{34} : -\\frac{r_{12} x_{12} x_{24} - r_{11}}{x_{12} x_{23}}, a_{35} : \\frac{r_{11} x_{12} x_{15} x_{24} - r_{11} x_{12} x_{14} x_{25} + {\\left({\\left(2 \\, r_{11} + r_{13}\\right)} x_{12} x_{14} x_{23} - r_{11} x_{13} x_{14} + {\\left(r_{17} x_{12}^{3} - {\\left(r_{11} + r_{13} + r_{14}\\right)} x_{12}^{2}\\right)} x_{23} x_{24}\\right)} x_{35}}{{\\left(x_{12}^{2} x_{14} x_{23}^{2} - x_{12}^{2} x_{13} x_{23} x_{24}\\right)} x_{35}}, a_{45} : -\\frac{r_{11} x_{12} x_{15} x_{23} - r_{11} x_{12} x_{13} x_{25} + {\\left({\\left(2 \\, r_{11} + r_{13}\\right)} x_{12} x_{13} x_{23} - r_{11} x_{13}^{2} + {\\left(r_{17} x_{12}^{3} - {\\left(r_{11} + r_{13} + r_{14}\\right)} x_{12}^{2}\\right)} x_{23}^{2}\\right)} x_{35}}{{\\left(x_{12}^{2} x_{14} x_{23}^{2} - x_{12}^{2} x_{13} x_{23} x_{24}\\right)} x_{35}}\\right\\}\\right]$$"
      ],
      "text/plain": [
       "[{d1: 0,\n",
       "  d2: 0,\n",
       "  d3: 0,\n",
       "  d4: r1,\n",
       "  d5: 0,\n",
       "  a12: r2,\n",
       "  a13: r3,\n",
       "  a14: r4,\n",
       "  a15: r5,\n",
       "  a23: r6,\n",
       "  a24: r7,\n",
       "  a25: r8,\n",
       "  a34: -r1*x24/x23,\n",
       "  a35: r9,\n",
       "  a45: r10},\n",
       " {d1: r11,\n",
       "  d2: r11/x12,\n",
       "  d3: r11/(x12*x23),\n",
       "  d4: r12,\n",
       "  d5: r11/(x12*x23*x35),\n",
       "  a12: r13,\n",
       "  a13: r14,\n",
       "  a14: r15,\n",
       "  a15: r16,\n",
       "  a23: ((r11 + r13)*x12*x23 - r11*x13)/(x12^2*x23),\n",
       "  a24: (r12*x12*x13*x24 - r11*x13 - (r12*x12*x14 - (r11 + r13)*x12)*x23)/(x12^2*x23),\n",
       "  a25: r17,\n",
       "  a34: -(r12*x12*x24 - r11)/(x12*x23),\n",
       "  a35: (r11*x12*x15*x24 - r11*x12*x14*x25 + ((2*r11 + r13)*x12*x14*x23 - r11*x13*x14 + (r17*x12^3 - (r11 + r13 + r14)*x12^2)*x23*x24)*x35)/((x12^2*x14*x23^2 - x12^2*x13*x23*x24)*x35),\n",
       "  a45: -(r11*x12*x15*x23 - r11*x12*x13*x25 + ((2*r11 + r13)*x12*x13*x23 - r11*x13^2 + (r17*x12^3 - (r11 + r13 + r14)*x12^2)*x23^2)*x35)/((x12^2*x14*x23^2 - x12^2*x13*x23*x24)*x35)}]"
      ]
     },
     "metadata": {},
     "output_type": "display_data"
    }
   ],
   "source": [
    "#x4\n",
    "#----------------------\n",
    "#x14 \\dif x13*x24/x23\n",
    "#----------------------\n",
    "reset()\n",
    "\n",
    "var('x12,x13,x14,x15,x23,x24,x25,x34,x35,x45')\n",
    "var('d1,d2,d3,d4,d5')\n",
    "var('a12,a13,a14,a15,a23,a24,a25,a34,a35,a45')\n",
    "\n",
    "eq1=(d2*x12)/(d1) \n",
    "eq2=(a23*d2*x12+d2*d3*x13-a12*d3*x23)/(d1*d2) \n",
    "eq3=(a24*d2*x12+a34*d2*x13+d2*d4*x14-a12*a34*x23-a12*d4*x24)/(d1*d2) \n",
    "eq4=(a25*d2*d3*x12+a35*d2*d3*x13+a45*d2*d3*x14+d2*d3*d5*x15-a12*a35*d3*x23-a12*a45*d3*x24-a12*d3*d5*x25+a12*a23*d5*x35-a13*d2*d5*x35)/(d1*d2*d3) \n",
    "eq5=(d3*x23)/(d2) \n",
    "eq6=(a34*x23+d4*x24)/(d2) \n",
    "eq7=(a35*d3*x23+a45*d3*x24+d3*d5*x25-a23*d5*x35)/(d2*d3) \n",
    "eq8=(d5*x35)/(d3) \n",
    "\n",
    "\n",
    "m=matrix(QQ, [[0, 1, 1, 1, 1],\n",
    "              [0, 0, 1, 1, 1],\n",
    "              [0, 0, 0, 0, 1],\n",
    "              [0, 0, 0, 0, 0],\n",
    "              [0, 0, 0, 0, 0]])\n",
    "        \n",
    "#entry of matrix: (i,j) line i collum j, means (i-1,j-1)\n",
    "sol=solve([ eq1==m[0,1],\teq2==m[0,2],\teq3==m[0,3],\teq4==m[0,4],\t\n",
    "                                            eq5==m[1,2],    eq6==m[1,3],\n",
    "                                                            eq7==m[1,4], eq8==m[2,4]],d1,d2,d3,d4,d5,a12,a13,a14,a15,a23,a24,a25,a34,a35,a45, solution_dict=True)\n",
    "\n",
    "show(m)\n",
    "show(sol)\n",
    "#latex(sol)"
   ]
  },
  {
   "cell_type": "code",
   "execution_count": 2,
   "metadata": {},
   "outputs": [
    {
     "data": {
      "text/html": [
       "<html><script type=\"math/tex; mode=display\">\\newcommand{\\Bold}[1]{\\mathbf{#1}}\\left(\\begin{array}{rrrrr}\n",
       "0 & 1 & 1 & 1 & 1 \\\\\n",
       "0 & 0 & 1 & 1 & 1 \\\\\n",
       "0 & 0 & 0 & 0 & 1 \\\\\n",
       "0 & 0 & 0 & 0 & 0 \\\\\n",
       "0 & 0 & 0 & 0 & 0\n",
       "\\end{array}\\right)</script></html>"
      ],
      "text/latex": [
       "$$\\newcommand{\\Bold}[1]{\\mathbf{#1}}\\left(\\begin{array}{rrrrr}\n",
       "0 & 1 & 1 & 1 & 1 \\\\\n",
       "0 & 0 & 1 & 1 & 1 \\\\\n",
       "0 & 0 & 0 & 0 & 1 \\\\\n",
       "0 & 0 & 0 & 0 & 0 \\\\\n",
       "0 & 0 & 0 & 0 & 0\n",
       "\\end{array}\\right)$$"
      ],
      "text/plain": [
       "[0 1 1 1 1]\n",
       "[0 0 1 1 1]\n",
       "[0 0 0 0 1]\n",
       "[0 0 0 0 0]\n",
       "[0 0 0 0 0]"
      ]
     },
     "metadata": {},
     "output_type": "display_data"
    },
    {
     "data": {
      "text/html": [
       "<html><script type=\"math/tex; mode=display\">\\newcommand{\\Bold}[1]{\\mathbf{#1}}\\left[\\left\\{d_{1} : 0, d_{2} : 0, d_{3} : 0, d_{4} : r_{18}, d_{5} : 0, a_{12} : r_{19}, a_{13} : r_{20}, a_{14} : r_{21}, a_{15} : r_{22}, a_{23} : r_{23}, a_{24} : r_{24}, a_{25} : r_{25}, a_{34} : -\\frac{r_{18} x_{24}}{x_{23}}, a_{35} : r_{26}, a_{45} : r_{27}\\right\\}, \\left\\{d_{1} : r_{28}, d_{2} : \\frac{r_{28}}{x_{12}}, d_{3} : \\frac{r_{28}}{x_{12} x_{23}}, d_{4} : r_{29}, d_{5} : \\frac{r_{28}}{x_{12} x_{23} x_{35}}, a_{12} : r_{30}, a_{13} : r_{31}, a_{14} : r_{32}, a_{15} : r_{33}, a_{23} : \\frac{{\\left(r_{28} + r_{30}\\right)} x_{12} x_{23} - r_{28} x_{13}}{x_{12}^{2} x_{23}}, a_{24} : \\frac{{\\left(r_{28} + r_{30}\\right)} x_{12} x_{23} - r_{28} x_{13}}{x_{12}^{2} x_{23}}, a_{25} : -\\frac{r_{28} x_{12} x_{15} x_{23} - r_{28} x_{12} x_{13} x_{25} - {\\left({\\left(r_{28} + r_{30} + r_{31}\\right)} x_{12}^{2} x_{23}^{2} - {\\left(2 \\, r_{28} + r_{30}\\right)} x_{12} x_{13} x_{23} + r_{28} x_{13}^{2}\\right)} x_{35}}{x_{12}^{3} x_{23}^{2} x_{35}}, a_{34} : -\\frac{r_{29} x_{12} x_{24} - r_{28}}{x_{12} x_{23}}, a_{35} : r_{34}, a_{45} : -\\frac{r_{28} x_{12} x_{25} + {\\left(r_{34} x_{12}^{2} x_{23}^{2} - {\\left(2 \\, r_{28} + r_{30}\\right)} x_{12} x_{23} + r_{28} x_{13}\\right)} x_{35}}{x_{12}^{2} x_{23} x_{24} x_{35}}\\right\\}\\right]</script></html>"
      ],
      "text/latex": [
       "$$\\newcommand{\\Bold}[1]{\\mathbf{#1}}\\left[\\left\\{d_{1} : 0, d_{2} : 0, d_{3} : 0, d_{4} : r_{18}, d_{5} : 0, a_{12} : r_{19}, a_{13} : r_{20}, a_{14} : r_{21}, a_{15} : r_{22}, a_{23} : r_{23}, a_{24} : r_{24}, a_{25} : r_{25}, a_{34} : -\\frac{r_{18} x_{24}}{x_{23}}, a_{35} : r_{26}, a_{45} : r_{27}\\right\\}, \\left\\{d_{1} : r_{28}, d_{2} : \\frac{r_{28}}{x_{12}}, d_{3} : \\frac{r_{28}}{x_{12} x_{23}}, d_{4} : r_{29}, d_{5} : \\frac{r_{28}}{x_{12} x_{23} x_{35}}, a_{12} : r_{30}, a_{13} : r_{31}, a_{14} : r_{32}, a_{15} : r_{33}, a_{23} : \\frac{{\\left(r_{28} + r_{30}\\right)} x_{12} x_{23} - r_{28} x_{13}}{x_{12}^{2} x_{23}}, a_{24} : \\frac{{\\left(r_{28} + r_{30}\\right)} x_{12} x_{23} - r_{28} x_{13}}{x_{12}^{2} x_{23}}, a_{25} : -\\frac{r_{28} x_{12} x_{15} x_{23} - r_{28} x_{12} x_{13} x_{25} - {\\left({\\left(r_{28} + r_{30} + r_{31}\\right)} x_{12}^{2} x_{23}^{2} - {\\left(2 \\, r_{28} + r_{30}\\right)} x_{12} x_{13} x_{23} + r_{28} x_{13}^{2}\\right)} x_{35}}{x_{12}^{3} x_{23}^{2} x_{35}}, a_{34} : -\\frac{r_{29} x_{12} x_{24} - r_{28}}{x_{12} x_{23}}, a_{35} : r_{34}, a_{45} : -\\frac{r_{28} x_{12} x_{25} + {\\left(r_{34} x_{12}^{2} x_{23}^{2} - {\\left(2 \\, r_{28} + r_{30}\\right)} x_{12} x_{23} + r_{28} x_{13}\\right)} x_{35}}{x_{12}^{2} x_{23} x_{24} x_{35}}\\right\\}\\right]$$"
      ],
      "text/plain": [
       "[{d1: 0,\n",
       "  d2: 0,\n",
       "  d3: 0,\n",
       "  d4: r18,\n",
       "  d5: 0,\n",
       "  a12: r19,\n",
       "  a13: r20,\n",
       "  a14: r21,\n",
       "  a15: r22,\n",
       "  a23: r23,\n",
       "  a24: r24,\n",
       "  a25: r25,\n",
       "  a34: -r18*x24/x23,\n",
       "  a35: r26,\n",
       "  a45: r27},\n",
       " {d1: r28,\n",
       "  d2: r28/x12,\n",
       "  d3: r28/(x12*x23),\n",
       "  d4: r29,\n",
       "  d5: r28/(x12*x23*x35),\n",
       "  a12: r30,\n",
       "  a13: r31,\n",
       "  a14: r32,\n",
       "  a15: r33,\n",
       "  a23: ((r28 + r30)*x12*x23 - r28*x13)/(x12^2*x23),\n",
       "  a24: ((r28 + r30)*x12*x23 - r28*x13)/(x12^2*x23),\n",
       "  a25: -(r28*x12*x15*x23 - r28*x12*x13*x25 - ((r28 + r30 + r31)*x12^2*x23^2 - (2*r28 + r30)*x12*x13*x23 + r28*x13^2)*x35)/(x12^3*x23^2*x35),\n",
       "  a34: -(r29*x12*x24 - r28)/(x12*x23),\n",
       "  a35: r34,\n",
       "  a45: -(r28*x12*x25 + (r34*x12^2*x23^2 - (2*r28 + r30)*x12*x23 + r28*x13)*x35)/(x12^2*x23*x24*x35)}]"
      ]
     },
     "metadata": {},
     "output_type": "display_data"
    }
   ],
   "source": [
    "#x4\n",
    "#----------------------\n",
    "#x14 = x13*x24/x23\n",
    "#----------------------\n",
    "reset()\n",
    "\n",
    "var('x12,x13,x14,x15,x23,x24,x25,x34,x35,x45')\n",
    "var('d1,d2,d3,d4,d5')\n",
    "var('a12,a13,a14,a15,a23,a24,a25,a34,a35,a45')\n",
    "\n",
    "eq1=(d2*x12)/(d1) \n",
    "eq2=(a23*d2*x12+d2*d3*x13-a12*d3*x23)/(d1*d2) \n",
    "eq3=(a24*d2*x12+a34*d2*x13+d2*d4*(x13*x24/x23)-a12*a34*x23-a12*d4*x24)/(d1*d2) \n",
    "eq4=(a25*d2*d3*x12+a35*d2*d3*x13+a45*d2*d3*(x13*x24/x23)+d2*d3*d5*x15-a12*a35*d3*x23-a12*a45*d3*x24-a12*d3*d5*x25+a12*a23*d5*x35-a13*d2*d5*x35)/(d1*d2*d3) \n",
    "eq5=(d3*x23)/(d2) \n",
    "eq6=(a34*x23+d4*x24)/(d2) \n",
    "eq7=(a35*d3*x23+a45*d3*x24+d3*d5*x25-a23*d5*x35)/(d2*d3) \n",
    "eq8=(d5*x35)/(d3) \n",
    "\n",
    "\n",
    "m=matrix(QQ, [[0, 1, 1, 1, 1],\n",
    "              [0, 0, 1, 1, 1],\n",
    "              [0, 0, 0, 0, 1],\n",
    "              [0, 0, 0, 0, 0],\n",
    "              [0, 0, 0, 0, 0]])\n",
    "        \n",
    "#entry of matrix: (i,j) line i collum j, means (i-1,j-1)\n",
    "sol=solve([ eq1==m[0,1],\teq2==m[0,2],\teq3==m[0,3],\teq4==m[0,4],\t\n",
    "                                            eq5==m[1,2],    eq6==m[1,3],\n",
    "                                                            eq7==m[1,4], eq8==m[2,4]],d1,d2,d3,d4,d5,a12,a13,a14,a15,a23,a24,a25,a34,a35,a45, solution_dict=True)\n",
    "\n",
    "show(m)\n",
    "show(sol)\n",
    "#latex(sol)"
   ]
  },
  {
   "cell_type": "code",
   "execution_count": null,
   "metadata": {},
   "outputs": [],
   "source": []
  }
 ],
 "metadata": {
  "kernelspec": {
   "display_name": "SageMath 9.3",
   "language": "sage",
   "name": "sagemath"
  },
  "language_info": {
   "codemirror_mode": {
    "name": "ipython",
    "version": 3
   },
   "file_extension": ".py",
   "mimetype": "text/x-python",
   "name": "python",
   "nbconvert_exporter": "python",
   "pygments_lexer": "ipython3",
   "version": "3.7.10"
  }
 },
 "nbformat": 4,
 "nbformat_minor": 4
}
