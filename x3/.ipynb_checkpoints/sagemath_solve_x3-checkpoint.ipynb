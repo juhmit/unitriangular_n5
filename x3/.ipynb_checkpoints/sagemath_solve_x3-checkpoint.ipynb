{
 "cells": [
  {
   "cell_type": "code",
   "execution_count": 1,
   "metadata": {
    "scrolled": true
   },
   "outputs": [
    {
     "data": {
      "text/html": [
       "<html><script type=\"math/tex; mode=display\">\\newcommand{\\Bold}[1]{\\mathbf{#1}}\\left(\\begin{array}{rrrrr}\n",
       "0 & 0 & 0 & 0 & 0 \\\\\n",
       "0 & 0 & 1 & 0 & 0 \\\\\n",
       "0 & 0 & 0 & 0 & 0 \\\\\n",
       "0 & 0 & 0 & 0 & 0 \\\\\n",
       "0 & 0 & 0 & 0 & 0\n",
       "\\end{array}\\right)</script></html>"
      ],
      "text/latex": [
       "$$\\newcommand{\\Bold}[1]{\\mathbf{#1}}\\left(\\begin{array}{rrrrr}\n",
       "0 & 0 & 0 & 0 & 0 \\\\\n",
       "0 & 0 & 1 & 0 & 0 \\\\\n",
       "0 & 0 & 0 & 0 & 0 \\\\\n",
       "0 & 0 & 0 & 0 & 0 \\\\\n",
       "0 & 0 & 0 & 0 & 0\n",
       "\\end{array}\\right)$$"
      ],
      "text/plain": [
       "[0 0 0 0 0]\n",
       "[0 0 1 0 0]\n",
       "[0 0 0 0 0]\n",
       "[0 0 0 0 0]\n",
       "[0 0 0 0 0]"
      ]
     },
     "metadata": {},
     "output_type": "display_data"
    },
    {
     "data": {
      "text/html": [
       "<html><script type=\"math/tex; mode=display\">\\newcommand{\\Bold}[1]{\\mathbf{#1}}\\left[\\left\\{d_{1} : r_{1}, d_{2} : r_{2}, d_{3} : \\frac{r_{2}}{x_{23}}, d_{4} : r_{3}, d_{5} : r_{4}, a_{12} : 0, a_{13} : r_{5}, a_{14} : r_{6}, a_{15} : r_{7}, a_{23} : r_{8}, a_{24} : r_{9}, a_{25} : r_{10}, a_{34} : 0, a_{35} : 0, a_{45} : r_{11}\\right\\}, \\left\\{d_{1} : r_{12}, d_{2} : 0, d_{3} : 0, d_{4} : r_{13}, d_{5} : r_{14}, a_{12} : r_{15}, a_{13} : r_{16}, a_{14} : r_{17}, a_{15} : r_{18}, a_{23} : r_{19}, a_{24} : r_{20}, a_{25} : r_{21}, a_{34} : 0, a_{35} : 0, a_{45} : r_{22}\\right\\}\\right]</script></html>"
      ],
      "text/latex": [
       "$$\\newcommand{\\Bold}[1]{\\mathbf{#1}}\\left[\\left\\{d_{1} : r_{1}, d_{2} : r_{2}, d_{3} : \\frac{r_{2}}{x_{23}}, d_{4} : r_{3}, d_{5} : r_{4}, a_{12} : 0, a_{13} : r_{5}, a_{14} : r_{6}, a_{15} : r_{7}, a_{23} : r_{8}, a_{24} : r_{9}, a_{25} : r_{10}, a_{34} : 0, a_{35} : 0, a_{45} : r_{11}\\right\\}, \\left\\{d_{1} : r_{12}, d_{2} : 0, d_{3} : 0, d_{4} : r_{13}, d_{5} : r_{14}, a_{12} : r_{15}, a_{13} : r_{16}, a_{14} : r_{17}, a_{15} : r_{18}, a_{23} : r_{19}, a_{24} : r_{20}, a_{25} : r_{21}, a_{34} : 0, a_{35} : 0, a_{45} : r_{22}\\right\\}\\right]$$"
      ],
      "text/plain": [
       "[{d1: r1,\n",
       "  d2: r2,\n",
       "  d3: r2/x23,\n",
       "  d4: r3,\n",
       "  d5: r4,\n",
       "  a12: 0,\n",
       "  a13: r5,\n",
       "  a14: r6,\n",
       "  a15: r7,\n",
       "  a23: r8,\n",
       "  a24: r9,\n",
       "  a25: r10,\n",
       "  a34: 0,\n",
       "  a35: 0,\n",
       "  a45: r11},\n",
       " {d1: r12,\n",
       "  d2: 0,\n",
       "  d3: 0,\n",
       "  d4: r13,\n",
       "  d5: r14,\n",
       "  a12: r15,\n",
       "  a13: r16,\n",
       "  a14: r17,\n",
       "  a15: r18,\n",
       "  a23: r19,\n",
       "  a24: r20,\n",
       "  a25: r21,\n",
       "  a34: 0,\n",
       "  a35: 0,\n",
       "  a45: r22}]"
      ]
     },
     "metadata": {},
     "output_type": "display_data"
    }
   ],
   "source": [
    "#x3\n",
    "reset()\n",
    "\n",
    "var('x12,x13,x14,x15,x23,x24,x25,x34,x35,x45')\n",
    "var('d1,d2,d3,d4,d5')\n",
    "var('a12,a13,a14,a15,a23,a24,a25,a34,a35,a45')\n",
    "\n",
    "load_attach_path('C:\\\\Users\\\\julia\\\\Documents\\\\unb\\\\doutorado\\\\pensar\\\\codigo_sage_v2\\\\maquina\\\\x3')\n",
    "load('out_#000000.sage')\n",
    "\n",
    "m=matrix(QQ, [[0, 0, 0, 0, 0],\n",
    "              [0, 0, 1, 0, 0],\n",
    "              [0, 0, 0, 0, 0],\n",
    "              [0, 0, 0, 0, 0],\n",
    "              [0, 0, 0, 0, 0]])\n",
    "        \n",
    "#entry of matrix: (i,j) line i collum j, means (i-1,j-1)\n",
    "sol=solve([ eq1==m[0,2],\teq2==m[0,3],\teq3==m[0,4],\teq4==m[1,2],\t\n",
    "                                            eq5==m[1,3],    eq6==m[1,4],\n",
    "                                                            eq7==m[2,4]],d1,d2,d3,d4,d5,a12,a13,a14,a15,a23,a24,a25,a34,a35,a45, solution_dict=True)\n",
    "\n",
    "show(m)\n",
    "show(sol)\n",
    "#latex(sol)"
   ]
  },
  {
   "cell_type": "code",
   "execution_count": 2,
   "metadata": {},
   "outputs": [
    {
     "data": {
      "text/html": [
       "<html><script type=\"math/tex; mode=display\">\\newcommand{\\Bold}[1]{\\mathbf{#1}}\\left(\\begin{array}{rrrrr}\n",
       "0 & 0 & 0 & 0 & 1 \\\\\n",
       "0 & 0 & 1 & 0 & 0 \\\\\n",
       "0 & 0 & 0 & 0 & 0 \\\\\n",
       "0 & 0 & 0 & 0 & 0 \\\\\n",
       "0 & 0 & 0 & 0 & 0\n",
       "\\end{array}\\right)</script></html>"
      ],
      "text/latex": [
       "$$\\newcommand{\\Bold}[1]{\\mathbf{#1}}\\left(\\begin{array}{rrrrr}\n",
       "0 & 0 & 0 & 0 & 1 \\\\\n",
       "0 & 0 & 1 & 0 & 0 \\\\\n",
       "0 & 0 & 0 & 0 & 0 \\\\\n",
       "0 & 0 & 0 & 0 & 0 \\\\\n",
       "0 & 0 & 0 & 0 & 0\n",
       "\\end{array}\\right)$$"
      ],
      "text/plain": [
       "[0 0 0 0 1]\n",
       "[0 0 1 0 0]\n",
       "[0 0 0 0 0]\n",
       "[0 0 0 0 0]\n",
       "[0 0 0 0 0]"
      ]
     },
     "metadata": {},
     "output_type": "display_data"
    },
    {
     "data": {
      "text/html": [
       "<html><script type=\"math/tex; mode=display\">\\newcommand{\\Bold}[1]{\\mathbf{#1}}\\left[\\left\\{d_{1} : r_{22}, d_{2} : 0, d_{3} : 0, d_{4} : r_{23}, d_{5} : r_{24}, a_{12} : r_{25}, a_{13} : r_{26}, a_{14} : r_{27}, a_{15} : r_{28}, a_{23} : r_{29}, a_{24} : r_{30}, a_{25} : r_{31}, a_{34} : 0, a_{35} : 0, a_{45} : r_{32}\\right\\}, \\left\\{d_{1} : r_{33}, d_{2} : r_{34}, d_{3} : \\frac{r_{34}}{x_{23}}, d_{4} : r_{35}, d_{5} : \\frac{r_{33}}{x_{15}}, a_{12} : 0, a_{13} : r_{36}, a_{14} : r_{37}, a_{15} : r_{38}, a_{23} : r_{39}, a_{24} : r_{40}, a_{25} : r_{41}, a_{34} : 0, a_{35} : 0, a_{45} : r_{42}\\right\\}\\right]</script></html>"
      ],
      "text/latex": [
       "$$\\newcommand{\\Bold}[1]{\\mathbf{#1}}\\left[\\left\\{d_{1} : r_{22}, d_{2} : 0, d_{3} : 0, d_{4} : r_{23}, d_{5} : r_{24}, a_{12} : r_{25}, a_{13} : r_{26}, a_{14} : r_{27}, a_{15} : r_{28}, a_{23} : r_{29}, a_{24} : r_{30}, a_{25} : r_{31}, a_{34} : 0, a_{35} : 0, a_{45} : r_{32}\\right\\}, \\left\\{d_{1} : r_{33}, d_{2} : r_{34}, d_{3} : \\frac{r_{34}}{x_{23}}, d_{4} : r_{35}, d_{5} : \\frac{r_{33}}{x_{15}}, a_{12} : 0, a_{13} : r_{36}, a_{14} : r_{37}, a_{15} : r_{38}, a_{23} : r_{39}, a_{24} : r_{40}, a_{25} : r_{41}, a_{34} : 0, a_{35} : 0, a_{45} : r_{42}\\right\\}\\right]$$"
      ],
      "text/plain": [
       "[{d1: r22,\n",
       "  d2: 0,\n",
       "  d3: 0,\n",
       "  d4: r23,\n",
       "  d5: r24,\n",
       "  a12: r25,\n",
       "  a13: r26,\n",
       "  a14: r27,\n",
       "  a15: r28,\n",
       "  a23: r29,\n",
       "  a24: r30,\n",
       "  a25: r31,\n",
       "  a34: 0,\n",
       "  a35: 0,\n",
       "  a45: r32},\n",
       " {d1: r33,\n",
       "  d2: r34,\n",
       "  d3: r34/x23,\n",
       "  d4: r35,\n",
       "  d5: r33/x15,\n",
       "  a12: 0,\n",
       "  a13: r36,\n",
       "  a14: r37,\n",
       "  a15: r38,\n",
       "  a23: r39,\n",
       "  a24: r40,\n",
       "  a25: r41,\n",
       "  a34: 0,\n",
       "  a35: 0,\n",
       "  a45: r42}]"
      ]
     },
     "metadata": {},
     "output_type": "display_data"
    }
   ],
   "source": [
    "#x3\n",
    "reset()\n",
    "\n",
    "var('x12,x13,x14,x15,x23,x24,x25,x34,x35,x45')\n",
    "var('d1,d2,d3,d4,d5')\n",
    "var('a12,a13,a14,a15,a23,a24,a25,a34,a35,a45')\n",
    "\n",
    "load_attach_path('C:\\\\Users\\\\julia\\\\Documents\\\\unb\\\\doutorado\\\\pensar\\\\codigo_sage_v2\\\\maquina\\\\x3')\n",
    "load('out_#000001.sage')\n",
    "\n",
    "m=matrix(QQ, [[0, 0, 0, 0, 1],\n",
    "              [0, 0, 1, 0, 0],\n",
    "              [0, 0, 0, 0, 0],\n",
    "              [0, 0, 0, 0, 0],\n",
    "              [0, 0, 0, 0, 0]])\n",
    "        \n",
    "#entry of matrix: (i,j) line i collum j, means (i-1,j-1)\n",
    "sol=solve([ eq1==m[0,2],\teq2==m[0,3],\teq3==m[0,4],\teq4==m[1,2],\t\n",
    "                                            eq5==m[1,3],    eq6==m[1,4],\n",
    "                                                            eq7==m[2,4]],d1,d2,d3,d4,d5,a12,a13,a14,a15,a23,a24,a25,a34,a35,a45, solution_dict=True)\n",
    "\n",
    "show(m)\n",
    "show(sol)\n",
    "#latex(sol)"
   ]
  },
  {
   "cell_type": "code",
   "execution_count": 4,
   "metadata": {},
   "outputs": [
    {
     "data": {
      "text/html": [
       "<html><script type=\"math/tex; mode=display\">\\newcommand{\\Bold}[1]{\\mathbf{#1}}\\left(\\begin{array}{rrrrr}\n",
       "0 & 0 & 0 & 1 & 0 \\\\\n",
       "0 & 0 & 1 & 0 & 0 \\\\\n",
       "0 & 0 & 0 & 0 & 0 \\\\\n",
       "0 & 0 & 0 & 0 & 0 \\\\\n",
       "0 & 0 & 0 & 0 & 0\n",
       "\\end{array}\\right)</script></html>"
      ],
      "text/latex": [
       "$$\\newcommand{\\Bold}[1]{\\mathbf{#1}}\\left(\\begin{array}{rrrrr}\n",
       "0 & 0 & 0 & 1 & 0 \\\\\n",
       "0 & 0 & 1 & 0 & 0 \\\\\n",
       "0 & 0 & 0 & 0 & 0 \\\\\n",
       "0 & 0 & 0 & 0 & 0 \\\\\n",
       "0 & 0 & 0 & 0 & 0\n",
       "\\end{array}\\right)$$"
      ],
      "text/plain": [
       "[0 0 0 1 0]\n",
       "[0 0 1 0 0]\n",
       "[0 0 0 0 0]\n",
       "[0 0 0 0 0]\n",
       "[0 0 0 0 0]"
      ]
     },
     "metadata": {},
     "output_type": "display_data"
    },
    {
     "data": {
      "text/html": [
       "<html><script type=\"math/tex; mode=display\">\\newcommand{\\Bold}[1]{\\mathbf{#1}}\\left[\\left\\{d_{1} : r_{63}, d_{2} : 0, d_{3} : 0, d_{4} : r_{64}, d_{5} : r_{65}, a_{12} : r_{66}, a_{13} : r_{67}, a_{14} : r_{68}, a_{15} : r_{69}, a_{23} : r_{70}, a_{24} : r_{71}, a_{25} : r_{72}, a_{34} : 0, a_{35} : 0, a_{45} : r_{73}\\right\\}, \\left\\{d_{1} : r_{74}, d_{2} : r_{75}, d_{3} : \\frac{r_{75}}{x_{23}}, d_{4} : \\frac{r_{74}}{x_{14}}, d_{5} : r_{76}, a_{12} : 0, a_{13} : r_{77}, a_{14} : r_{78}, a_{15} : r_{79}, a_{23} : r_{80}, a_{24} : r_{81}, a_{25} : r_{82}, a_{34} : 0, a_{35} : 0, a_{45} : 0\\right\\}\\right]</script></html>"
      ],
      "text/latex": [
       "$$\\newcommand{\\Bold}[1]{\\mathbf{#1}}\\left[\\left\\{d_{1} : r_{63}, d_{2} : 0, d_{3} : 0, d_{4} : r_{64}, d_{5} : r_{65}, a_{12} : r_{66}, a_{13} : r_{67}, a_{14} : r_{68}, a_{15} : r_{69}, a_{23} : r_{70}, a_{24} : r_{71}, a_{25} : r_{72}, a_{34} : 0, a_{35} : 0, a_{45} : r_{73}\\right\\}, \\left\\{d_{1} : r_{74}, d_{2} : r_{75}, d_{3} : \\frac{r_{75}}{x_{23}}, d_{4} : \\frac{r_{74}}{x_{14}}, d_{5} : r_{76}, a_{12} : 0, a_{13} : r_{77}, a_{14} : r_{78}, a_{15} : r_{79}, a_{23} : r_{80}, a_{24} : r_{81}, a_{25} : r_{82}, a_{34} : 0, a_{35} : 0, a_{45} : 0\\right\\}\\right]$$"
      ],
      "text/plain": [
       "[{d1: r63,\n",
       "  d2: 0,\n",
       "  d3: 0,\n",
       "  d4: r64,\n",
       "  d5: r65,\n",
       "  a12: r66,\n",
       "  a13: r67,\n",
       "  a14: r68,\n",
       "  a15: r69,\n",
       "  a23: r70,\n",
       "  a24: r71,\n",
       "  a25: r72,\n",
       "  a34: 0,\n",
       "  a35: 0,\n",
       "  a45: r73},\n",
       " {d1: r74,\n",
       "  d2: r75,\n",
       "  d3: r75/x23,\n",
       "  d4: r74/x14,\n",
       "  d5: r76,\n",
       "  a12: 0,\n",
       "  a13: r77,\n",
       "  a14: r78,\n",
       "  a15: r79,\n",
       "  a23: r80,\n",
       "  a24: r81,\n",
       "  a25: r82,\n",
       "  a34: 0,\n",
       "  a35: 0,\n",
       "  a45: 0}]"
      ]
     },
     "metadata": {},
     "output_type": "display_data"
    }
   ],
   "source": [
    "#x3\n",
    "reset()\n",
    "\n",
    "var('x12,x13,x14,x15,x23,x24,x25,x34,x35,x45')\n",
    "var('d1,d2,d3,d4,d5')\n",
    "var('a12,a13,a14,a15,a23,a24,a25,a34,a35,a45')\n",
    "\n",
    "load_attach_path('C:\\\\Users\\\\julia\\\\Documents\\\\unb\\\\doutorado\\\\pensar\\\\codigo_sage_v2\\\\maquina\\\\x3')\n",
    "load('out_#000010.sage')\n",
    "\n",
    "m=matrix(QQ, [[0, 0, 0, 1, 0],\n",
    "              [0, 0, 1, 0, 0],\n",
    "              [0, 0, 0, 0, 0],\n",
    "              [0, 0, 0, 0, 0],\n",
    "              [0, 0, 0, 0, 0]])\n",
    "        \n",
    "#entry of matrix: (i,j) line i collum j, means (i-1,j-1)\n",
    "sol=solve([ eq1==m[0,2],\teq2==m[0,3],\teq3==m[0,4],\teq4==m[1,2],\t\n",
    "                                            eq5==m[1,3],    eq6==m[1,4],\n",
    "                                                            eq7==m[2,4]],d1,d2,d3,d4,d5,a12,a13,a14,a15,a23,a24,a25,a34,a35,a45, solution_dict=True)\n",
    "\n",
    "show(m)\n",
    "show(sol)\n",
    "#latex(sol)"
   ]
  },
  {
   "cell_type": "code",
   "execution_count": 4,
   "metadata": {},
   "outputs": [
    {
     "data": {
      "text/html": [
       "<html><script type=\"math/tex; mode=display\">\\newcommand{\\Bold}[1]{\\mathbf{#1}}\\left(\\begin{array}{rrrrr}\n",
       "0 & 0 & 0 & 1 & 1 \\\\\n",
       "0 & 0 & 1 & 0 & 0 \\\\\n",
       "0 & 0 & 0 & 0 & 0 \\\\\n",
       "0 & 0 & 0 & 0 & 0 \\\\\n",
       "0 & 0 & 0 & 0 & 0\n",
       "\\end{array}\\right)</script></html>"
      ],
      "text/latex": [
       "$$\\newcommand{\\Bold}[1]{\\mathbf{#1}}\\left(\\begin{array}{rrrrr}\n",
       "0 & 0 & 0 & 1 & 1 \\\\\n",
       "0 & 0 & 1 & 0 & 0 \\\\\n",
       "0 & 0 & 0 & 0 & 0 \\\\\n",
       "0 & 0 & 0 & 0 & 0 \\\\\n",
       "0 & 0 & 0 & 0 & 0\n",
       "\\end{array}\\right)$$"
      ],
      "text/plain": [
       "[0 0 0 1 1]\n",
       "[0 0 1 0 0]\n",
       "[0 0 0 0 0]\n",
       "[0 0 0 0 0]\n",
       "[0 0 0 0 0]"
      ]
     },
     "metadata": {},
     "output_type": "display_data"
    },
    {
     "data": {
      "text/html": [
       "<html><script type=\"math/tex; mode=display\">\\newcommand{\\Bold}[1]{\\mathbf{#1}}\\left[\\left\\{d_{1} : r_{64}, d_{2} : 0, d_{3} : 0, d_{4} : r_{65}, d_{5} : r_{66}, a_{12} : r_{67}, a_{13} : r_{68}, a_{14} : r_{69}, a_{15} : r_{70}, a_{23} : r_{71}, a_{24} : r_{72}, a_{25} : r_{73}, a_{34} : 0, a_{35} : 0, a_{45} : r_{74}\\right\\}, \\left\\{d_{1} : r_{75}, d_{2} : r_{76}, d_{3} : \\frac{r_{76}}{x_{23}}, d_{4} : \\frac{r_{75}}{x_{14}}, d_{5} : r_{77}, a_{12} : 0, a_{13} : r_{78}, a_{14} : r_{79}, a_{15} : r_{80}, a_{23} : r_{81}, a_{24} : r_{82}, a_{25} : r_{83}, a_{34} : 0, a_{35} : 0, a_{45} : -\\frac{r_{77} x_{15} - r_{75}}{x_{14}}\\right\\}\\right]</script></html>"
      ],
      "text/latex": [
       "$$\\newcommand{\\Bold}[1]{\\mathbf{#1}}\\left[\\left\\{d_{1} : r_{64}, d_{2} : 0, d_{3} : 0, d_{4} : r_{65}, d_{5} : r_{66}, a_{12} : r_{67}, a_{13} : r_{68}, a_{14} : r_{69}, a_{15} : r_{70}, a_{23} : r_{71}, a_{24} : r_{72}, a_{25} : r_{73}, a_{34} : 0, a_{35} : 0, a_{45} : r_{74}\\right\\}, \\left\\{d_{1} : r_{75}, d_{2} : r_{76}, d_{3} : \\frac{r_{76}}{x_{23}}, d_{4} : \\frac{r_{75}}{x_{14}}, d_{5} : r_{77}, a_{12} : 0, a_{13} : r_{78}, a_{14} : r_{79}, a_{15} : r_{80}, a_{23} : r_{81}, a_{24} : r_{82}, a_{25} : r_{83}, a_{34} : 0, a_{35} : 0, a_{45} : -\\frac{r_{77} x_{15} - r_{75}}{x_{14}}\\right\\}\\right]$$"
      ],
      "text/plain": [
       "[{d1: r64,\n",
       "  d2: 0,\n",
       "  d3: 0,\n",
       "  d4: r65,\n",
       "  d5: r66,\n",
       "  a12: r67,\n",
       "  a13: r68,\n",
       "  a14: r69,\n",
       "  a15: r70,\n",
       "  a23: r71,\n",
       "  a24: r72,\n",
       "  a25: r73,\n",
       "  a34: 0,\n",
       "  a35: 0,\n",
       "  a45: r74},\n",
       " {d1: r75,\n",
       "  d2: r76,\n",
       "  d3: r76/x23,\n",
       "  d4: r75/x14,\n",
       "  d5: r77,\n",
       "  a12: 0,\n",
       "  a13: r78,\n",
       "  a14: r79,\n",
       "  a15: r80,\n",
       "  a23: r81,\n",
       "  a24: r82,\n",
       "  a25: r83,\n",
       "  a34: 0,\n",
       "  a35: 0,\n",
       "  a45: -(r77*x15 - r75)/x14}]"
      ]
     },
     "metadata": {},
     "output_type": "display_data"
    }
   ],
   "source": [
    "#x3\n",
    "reset()\n",
    "\n",
    "var('x12,x13,x14,x15,x23,x24,x25,x34,x35,x45')\n",
    "var('d1,d2,d3,d4,d5')\n",
    "var('a12,a13,a14,a15,a23,a24,a25,a34,a35,a45')\n",
    "\n",
    "load_attach_path('C:\\\\Users\\\\julia\\\\Documents\\\\unb\\\\doutorado\\\\pensar\\\\codigo_sage_v2\\\\maquina\\\\x3')\n",
    "load('out_#000011.sage')\n",
    "\n",
    "m=matrix(QQ, [[0, 0, 0, 1, 1],\n",
    "              [0, 0, 1, 0, 0],\n",
    "              [0, 0, 0, 0, 0],\n",
    "              [0, 0, 0, 0, 0],\n",
    "              [0, 0, 0, 0, 0]])\n",
    "        \n",
    "#entry of matrix: (i,j) line i collum j, means (i-1,j-1)\n",
    "sol=solve([ eq1==m[0,2],\teq2==m[0,3],\teq3==m[0,4],\teq4==m[1,2],\t\n",
    "                                            eq5==m[1,3],    eq6==m[1,4],\n",
    "                                                            eq7==m[2,4]],d1,d2,d3,d4,d5,a12,a13,a14,a15,a23,a24,a25,a34,a35,a45, solution_dict=True)\n",
    "\n",
    "show(m)\n",
    "show(sol)\n",
    "#latex(sol)"
   ]
  },
  {
   "cell_type": "code",
   "execution_count": 5,
   "metadata": {},
   "outputs": [
    {
     "data": {
      "text/html": [
       "<html><script type=\"math/tex; mode=display\">\\newcommand{\\Bold}[1]{\\mathbf{#1}}\\left(\\begin{array}{rrrrr}\n",
       "0 & 0 & 1 & 0 & 0 \\\\\n",
       "0 & 0 & 1 & 0 & 0 \\\\\n",
       "0 & 0 & 0 & 0 & 0 \\\\\n",
       "0 & 0 & 0 & 0 & 0 \\\\\n",
       "0 & 0 & 0 & 0 & 0\n",
       "\\end{array}\\right)</script></html>"
      ],
      "text/latex": [
       "$$\\newcommand{\\Bold}[1]{\\mathbf{#1}}\\left(\\begin{array}{rrrrr}\n",
       "0 & 0 & 1 & 0 & 0 \\\\\n",
       "0 & 0 & 1 & 0 & 0 \\\\\n",
       "0 & 0 & 0 & 0 & 0 \\\\\n",
       "0 & 0 & 0 & 0 & 0 \\\\\n",
       "0 & 0 & 0 & 0 & 0\n",
       "\\end{array}\\right)$$"
      ],
      "text/plain": [
       "[0 0 1 0 0]\n",
       "[0 0 1 0 0]\n",
       "[0 0 0 0 0]\n",
       "[0 0 0 0 0]\n",
       "[0 0 0 0 0]"
      ]
     },
     "metadata": {},
     "output_type": "display_data"
    },
    {
     "data": {
      "text/html": [
       "<html><script type=\"math/tex; mode=display\">\\newcommand{\\Bold}[1]{\\mathbf{#1}}\\left[\\left\\{d_{1} : r_{84}, d_{2} : r_{85}, d_{3} : \\frac{r_{85}}{x_{23}}, d_{4} : r_{86}, d_{5} : r_{87}, a_{12} : \\frac{r_{85} x_{13} - r_{84} x_{23}}{x_{23}}, a_{13} : r_{88}, a_{14} : r_{89}, a_{15} : r_{90}, a_{23} : r_{91}, a_{24} : r_{92}, a_{25} : r_{93}, a_{34} : 0, a_{35} : 0, a_{45} : r_{94}\\right\\}, \\left\\{d_{1} : r_{95}, d_{2} : 0, d_{3} : 0, d_{4} : r_{96}, d_{5} : r_{97}, a_{12} : r_{98}, a_{13} : r_{99}, a_{14} : r_{100}, a_{15} : r_{101}, a_{23} : r_{102}, a_{24} : r_{103}, a_{25} : r_{104}, a_{34} : 0, a_{35} : 0, a_{45} : r_{105}\\right\\}\\right]</script></html>"
      ],
      "text/latex": [
       "$$\\newcommand{\\Bold}[1]{\\mathbf{#1}}\\left[\\left\\{d_{1} : r_{84}, d_{2} : r_{85}, d_{3} : \\frac{r_{85}}{x_{23}}, d_{4} : r_{86}, d_{5} : r_{87}, a_{12} : \\frac{r_{85} x_{13} - r_{84} x_{23}}{x_{23}}, a_{13} : r_{88}, a_{14} : r_{89}, a_{15} : r_{90}, a_{23} : r_{91}, a_{24} : r_{92}, a_{25} : r_{93}, a_{34} : 0, a_{35} : 0, a_{45} : r_{94}\\right\\}, \\left\\{d_{1} : r_{95}, d_{2} : 0, d_{3} : 0, d_{4} : r_{96}, d_{5} : r_{97}, a_{12} : r_{98}, a_{13} : r_{99}, a_{14} : r_{100}, a_{15} : r_{101}, a_{23} : r_{102}, a_{24} : r_{103}, a_{25} : r_{104}, a_{34} : 0, a_{35} : 0, a_{45} : r_{105}\\right\\}\\right]$$"
      ],
      "text/plain": [
       "[{d1: r84,\n",
       "  d2: r85,\n",
       "  d3: r85/x23,\n",
       "  d4: r86,\n",
       "  d5: r87,\n",
       "  a12: (r85*x13 - r84*x23)/x23,\n",
       "  a13: r88,\n",
       "  a14: r89,\n",
       "  a15: r90,\n",
       "  a23: r91,\n",
       "  a24: r92,\n",
       "  a25: r93,\n",
       "  a34: 0,\n",
       "  a35: 0,\n",
       "  a45: r94},\n",
       " {d1: r95,\n",
       "  d2: 0,\n",
       "  d3: 0,\n",
       "  d4: r96,\n",
       "  d5: r97,\n",
       "  a12: r98,\n",
       "  a13: r99,\n",
       "  a14: r100,\n",
       "  a15: r101,\n",
       "  a23: r102,\n",
       "  a24: r103,\n",
       "  a25: r104,\n",
       "  a34: 0,\n",
       "  a35: 0,\n",
       "  a45: r105}]"
      ]
     },
     "metadata": {},
     "output_type": "display_data"
    }
   ],
   "source": [
    "#x3\n",
    "reset()\n",
    "\n",
    "var('x12,x13,x14,x15,x23,x24,x25,x34,x35,x45')\n",
    "var('d1,d2,d3,d4,d5')\n",
    "var('a12,a13,a14,a15,a23,a24,a25,a34,a35,a45')\n",
    "\n",
    "load_attach_path('C:\\\\Users\\\\julia\\\\Documents\\\\unb\\\\doutorado\\\\pensar\\\\codigo_sage_v2\\\\maquina\\\\x3')\n",
    "load('out_#000100.sage')\n",
    "\n",
    "m=matrix(QQ, [[0, 0, 1, 0, 0],\n",
    "              [0, 0, 1, 0, 0],\n",
    "              [0, 0, 0, 0, 0],\n",
    "              [0, 0, 0, 0, 0],\n",
    "              [0, 0, 0, 0, 0]])\n",
    "        \n",
    "#entry of matrix: (i,j) line i collum j, means (i-1,j-1)\n",
    "sol=solve([ eq1==m[0,2],\teq2==m[0,3],\teq3==m[0,4],\teq4==m[1,2],\t\n",
    "                                            eq5==m[1,3],    eq6==m[1,4],\n",
    "                                                            eq7==m[2,4]],d1,d2,d3,d4,d5,a12,a13,a14,a15,a23,a24,a25,a34,a35,a45, solution_dict=True)\n",
    "\n",
    "show(m)\n",
    "show(sol)\n",
    "#latex(sol)"
   ]
  },
  {
   "cell_type": "code",
   "execution_count": 6,
   "metadata": {},
   "outputs": [
    {
     "data": {
      "text/html": [
       "<html><script type=\"math/tex; mode=display\">\\newcommand{\\Bold}[1]{\\mathbf{#1}}\\left(\\begin{array}{rrrrr}\n",
       "0 & 0 & 1 & 0 & 1 \\\\\n",
       "0 & 0 & 1 & 0 & 0 \\\\\n",
       "0 & 0 & 0 & 0 & 0 \\\\\n",
       "0 & 0 & 0 & 0 & 0 \\\\\n",
       "0 & 0 & 0 & 0 & 0\n",
       "\\end{array}\\right)</script></html>"
      ],
      "text/latex": [
       "$$\\newcommand{\\Bold}[1]{\\mathbf{#1}}\\left(\\begin{array}{rrrrr}\n",
       "0 & 0 & 1 & 0 & 1 \\\\\n",
       "0 & 0 & 1 & 0 & 0 \\\\\n",
       "0 & 0 & 0 & 0 & 0 \\\\\n",
       "0 & 0 & 0 & 0 & 0 \\\\\n",
       "0 & 0 & 0 & 0 & 0\n",
       "\\end{array}\\right)$$"
      ],
      "text/plain": [
       "[0 0 1 0 1]\n",
       "[0 0 1 0 0]\n",
       "[0 0 0 0 0]\n",
       "[0 0 0 0 0]\n",
       "[0 0 0 0 0]"
      ]
     },
     "metadata": {},
     "output_type": "display_data"
    },
    {
     "data": {
      "text/html": [
       "<html><script type=\"math/tex; mode=display\">\\newcommand{\\Bold}[1]{\\mathbf{#1}}\\left[\\left\\{d_{1} : r_{106}, d_{2} : 0, d_{3} : 0, d_{4} : r_{107}, d_{5} : r_{108}, a_{12} : r_{109}, a_{13} : r_{110}, a_{14} : r_{111}, a_{15} : r_{112}, a_{23} : r_{113}, a_{24} : r_{114}, a_{25} : r_{115}, a_{34} : 0, a_{35} : 0, a_{45} : r_{116}\\right\\}, \\left\\{d_{1} : r_{117}, d_{2} : r_{118}, d_{3} : \\frac{r_{118}}{x_{23}}, d_{4} : r_{119}, d_{5} : \\frac{r_{117}}{x_{15}}, a_{12} : \\frac{r_{118} x_{13} - r_{117} x_{23}}{x_{23}}, a_{13} : r_{120}, a_{14} : r_{121}, a_{15} : r_{122}, a_{23} : r_{123}, a_{24} : r_{124}, a_{25} : r_{125}, a_{34} : 0, a_{35} : 0, a_{45} : r_{126}\\right\\}\\right]</script></html>"
      ],
      "text/latex": [
       "$$\\newcommand{\\Bold}[1]{\\mathbf{#1}}\\left[\\left\\{d_{1} : r_{106}, d_{2} : 0, d_{3} : 0, d_{4} : r_{107}, d_{5} : r_{108}, a_{12} : r_{109}, a_{13} : r_{110}, a_{14} : r_{111}, a_{15} : r_{112}, a_{23} : r_{113}, a_{24} : r_{114}, a_{25} : r_{115}, a_{34} : 0, a_{35} : 0, a_{45} : r_{116}\\right\\}, \\left\\{d_{1} : r_{117}, d_{2} : r_{118}, d_{3} : \\frac{r_{118}}{x_{23}}, d_{4} : r_{119}, d_{5} : \\frac{r_{117}}{x_{15}}, a_{12} : \\frac{r_{118} x_{13} - r_{117} x_{23}}{x_{23}}, a_{13} : r_{120}, a_{14} : r_{121}, a_{15} : r_{122}, a_{23} : r_{123}, a_{24} : r_{124}, a_{25} : r_{125}, a_{34} : 0, a_{35} : 0, a_{45} : r_{126}\\right\\}\\right]$$"
      ],
      "text/plain": [
       "[{d1: r106,\n",
       "  d2: 0,\n",
       "  d3: 0,\n",
       "  d4: r107,\n",
       "  d5: r108,\n",
       "  a12: r109,\n",
       "  a13: r110,\n",
       "  a14: r111,\n",
       "  a15: r112,\n",
       "  a23: r113,\n",
       "  a24: r114,\n",
       "  a25: r115,\n",
       "  a34: 0,\n",
       "  a35: 0,\n",
       "  a45: r116},\n",
       " {d1: r117,\n",
       "  d2: r118,\n",
       "  d3: r118/x23,\n",
       "  d4: r119,\n",
       "  d5: r117/x15,\n",
       "  a12: (r118*x13 - r117*x23)/x23,\n",
       "  a13: r120,\n",
       "  a14: r121,\n",
       "  a15: r122,\n",
       "  a23: r123,\n",
       "  a24: r124,\n",
       "  a25: r125,\n",
       "  a34: 0,\n",
       "  a35: 0,\n",
       "  a45: r126}]"
      ]
     },
     "metadata": {},
     "output_type": "display_data"
    }
   ],
   "source": [
    "#x3\n",
    "reset()\n",
    "\n",
    "var('x12,x13,x14,x15,x23,x24,x25,x34,x35,x45')\n",
    "var('d1,d2,d3,d4,d5')\n",
    "var('a12,a13,a14,a15,a23,a24,a25,a34,a35,a45')\n",
    "\n",
    "load_attach_path('C:\\\\Users\\\\julia\\\\Documents\\\\unb\\\\doutorado\\\\pensar\\\\codigo_sage_v2\\\\maquina\\\\x3')\n",
    "load('out_#000101.sage')\n",
    "\n",
    "m=matrix(QQ, [[0, 0, 1, 0, 1],\n",
    "              [0, 0, 1, 0, 0],\n",
    "              [0, 0, 0, 0, 0],\n",
    "              [0, 0, 0, 0, 0],\n",
    "              [0, 0, 0, 0, 0]])\n",
    "        \n",
    "#entry of matrix: (i,j) line i collum j, means (i-1,j-1)\n",
    "sol=solve([ eq1==m[0,2],\teq2==m[0,3],\teq3==m[0,4],\teq4==m[1,2],\t\n",
    "                                            eq5==m[1,3],    eq6==m[1,4],\n",
    "                                                            eq7==m[2,4]],d1,d2,d3,d4,d5,a12,a13,a14,a15,a23,a24,a25,a34,a35,a45, solution_dict=True)\n",
    "\n",
    "show(m)\n",
    "show(sol)\n",
    "#latex(sol)"
   ]
  },
  {
   "cell_type": "code",
   "execution_count": 7,
   "metadata": {},
   "outputs": [
    {
     "data": {
      "text/html": [
       "<html><script type=\"math/tex; mode=display\">\\newcommand{\\Bold}[1]{\\mathbf{#1}}\\left(\\begin{array}{rrrrr}\n",
       "0 & 0 & 1 & 1 & 0 \\\\\n",
       "0 & 0 & 1 & 0 & 0 \\\\\n",
       "0 & 0 & 0 & 0 & 0 \\\\\n",
       "0 & 0 & 0 & 0 & 0 \\\\\n",
       "0 & 0 & 0 & 0 & 0\n",
       "\\end{array}\\right)</script></html>"
      ],
      "text/latex": [
       "$$\\newcommand{\\Bold}[1]{\\mathbf{#1}}\\left(\\begin{array}{rrrrr}\n",
       "0 & 0 & 1 & 1 & 0 \\\\\n",
       "0 & 0 & 1 & 0 & 0 \\\\\n",
       "0 & 0 & 0 & 0 & 0 \\\\\n",
       "0 & 0 & 0 & 0 & 0 \\\\\n",
       "0 & 0 & 0 & 0 & 0\n",
       "\\end{array}\\right)$$"
      ],
      "text/plain": [
       "[0 0 1 1 0]\n",
       "[0 0 1 0 0]\n",
       "[0 0 0 0 0]\n",
       "[0 0 0 0 0]\n",
       "[0 0 0 0 0]"
      ]
     },
     "metadata": {},
     "output_type": "display_data"
    },
    {
     "data": {
      "text/html": [
       "<html><script type=\"math/tex; mode=display\">\\newcommand{\\Bold}[1]{\\mathbf{#1}}\\left[\\left\\{d_{1} : r_{127}, d_{2} : 0, d_{3} : 0, d_{4} : r_{128}, d_{5} : r_{129}, a_{12} : r_{130}, a_{13} : r_{131}, a_{14} : r_{132}, a_{15} : r_{133}, a_{23} : r_{134}, a_{24} : r_{135}, a_{25} : r_{136}, a_{34} : 0, a_{35} : 0, a_{45} : r_{137}\\right\\}, \\left\\{d_{1} : r_{138}, d_{2} : r_{139}, d_{3} : \\frac{r_{139}}{x_{23}}, d_{4} : \\frac{r_{138}}{x_{14}}, d_{5} : r_{140}, a_{12} : \\frac{r_{139} x_{13} - r_{138} x_{23}}{x_{23}}, a_{13} : r_{141}, a_{14} : r_{142}, a_{15} : r_{143}, a_{23} : r_{144}, a_{24} : r_{145}, a_{25} : r_{146}, a_{34} : 0, a_{35} : 0, a_{45} : 0\\right\\}\\right]</script></html>"
      ],
      "text/latex": [
       "$$\\newcommand{\\Bold}[1]{\\mathbf{#1}}\\left[\\left\\{d_{1} : r_{127}, d_{2} : 0, d_{3} : 0, d_{4} : r_{128}, d_{5} : r_{129}, a_{12} : r_{130}, a_{13} : r_{131}, a_{14} : r_{132}, a_{15} : r_{133}, a_{23} : r_{134}, a_{24} : r_{135}, a_{25} : r_{136}, a_{34} : 0, a_{35} : 0, a_{45} : r_{137}\\right\\}, \\left\\{d_{1} : r_{138}, d_{2} : r_{139}, d_{3} : \\frac{r_{139}}{x_{23}}, d_{4} : \\frac{r_{138}}{x_{14}}, d_{5} : r_{140}, a_{12} : \\frac{r_{139} x_{13} - r_{138} x_{23}}{x_{23}}, a_{13} : r_{141}, a_{14} : r_{142}, a_{15} : r_{143}, a_{23} : r_{144}, a_{24} : r_{145}, a_{25} : r_{146}, a_{34} : 0, a_{35} : 0, a_{45} : 0\\right\\}\\right]$$"
      ],
      "text/plain": [
       "[{d1: r127,\n",
       "  d2: 0,\n",
       "  d3: 0,\n",
       "  d4: r128,\n",
       "  d5: r129,\n",
       "  a12: r130,\n",
       "  a13: r131,\n",
       "  a14: r132,\n",
       "  a15: r133,\n",
       "  a23: r134,\n",
       "  a24: r135,\n",
       "  a25: r136,\n",
       "  a34: 0,\n",
       "  a35: 0,\n",
       "  a45: r137},\n",
       " {d1: r138,\n",
       "  d2: r139,\n",
       "  d3: r139/x23,\n",
       "  d4: r138/x14,\n",
       "  d5: r140,\n",
       "  a12: (r139*x13 - r138*x23)/x23,\n",
       "  a13: r141,\n",
       "  a14: r142,\n",
       "  a15: r143,\n",
       "  a23: r144,\n",
       "  a24: r145,\n",
       "  a25: r146,\n",
       "  a34: 0,\n",
       "  a35: 0,\n",
       "  a45: 0}]"
      ]
     },
     "metadata": {},
     "output_type": "display_data"
    }
   ],
   "source": [
    "#x3\n",
    "reset()\n",
    "\n",
    "var('x12,x13,x14,x15,x23,x24,x25,x34,x35,x45')\n",
    "var('d1,d2,d3,d4,d5')\n",
    "var('a12,a13,a14,a15,a23,a24,a25,a34,a35,a45')\n",
    "\n",
    "load_attach_path('C:\\\\Users\\\\julia\\\\Documents\\\\unb\\\\doutorado\\\\pensar\\\\codigo_sage_v2\\\\maquina\\\\x3')\n",
    "load('out_#000110.sage')\n",
    "\n",
    "m=matrix(QQ, [[0, 0, 1, 1, 0],\n",
    "              [0, 0, 1, 0, 0],\n",
    "              [0, 0, 0, 0, 0],\n",
    "              [0, 0, 0, 0, 0],\n",
    "              [0, 0, 0, 0, 0]])\n",
    "        \n",
    "#entry of matrix: (i,j) line i collum j, means (i-1,j-1)\n",
    "sol=solve([ eq1==m[0,2],\teq2==m[0,3],\teq3==m[0,4],\teq4==m[1,2],\t\n",
    "                                            eq5==m[1,3],    eq6==m[1,4],\n",
    "                                                            eq7==m[2,4]],d1,d2,d3,d4,d5,a12,a13,a14,a15,a23,a24,a25,a34,a35,a45, solution_dict=True)\n",
    "\n",
    "show(m)\n",
    "show(sol)\n",
    "#latex(sol)"
   ]
  },
  {
   "cell_type": "code",
   "execution_count": 8,
   "metadata": {},
   "outputs": [
    {
     "data": {
      "text/html": [
       "<html><script type=\"math/tex; mode=display\">\\newcommand{\\Bold}[1]{\\mathbf{#1}}\\left(\\begin{array}{rrrrr}\n",
       "0 & 0 & 1 & 1 & 1 \\\\\n",
       "0 & 0 & 1 & 0 & 0 \\\\\n",
       "0 & 0 & 0 & 0 & 0 \\\\\n",
       "0 & 0 & 0 & 0 & 0 \\\\\n",
       "0 & 0 & 0 & 0 & 0\n",
       "\\end{array}\\right)</script></html>"
      ],
      "text/latex": [
       "$$\\newcommand{\\Bold}[1]{\\mathbf{#1}}\\left(\\begin{array}{rrrrr}\n",
       "0 & 0 & 1 & 1 & 1 \\\\\n",
       "0 & 0 & 1 & 0 & 0 \\\\\n",
       "0 & 0 & 0 & 0 & 0 \\\\\n",
       "0 & 0 & 0 & 0 & 0 \\\\\n",
       "0 & 0 & 0 & 0 & 0\n",
       "\\end{array}\\right)$$"
      ],
      "text/plain": [
       "[0 0 1 1 1]\n",
       "[0 0 1 0 0]\n",
       "[0 0 0 0 0]\n",
       "[0 0 0 0 0]\n",
       "[0 0 0 0 0]"
      ]
     },
     "metadata": {},
     "output_type": "display_data"
    },
    {
     "data": {
      "text/html": [
       "<html><script type=\"math/tex; mode=display\">\\newcommand{\\Bold}[1]{\\mathbf{#1}}\\left[\\left\\{d_{1} : r_{147}, d_{2} : 0, d_{3} : 0, d_{4} : r_{148}, d_{5} : r_{149}, a_{12} : r_{150}, a_{13} : r_{151}, a_{14} : r_{152}, a_{15} : r_{153}, a_{23} : r_{154}, a_{24} : r_{155}, a_{25} : r_{156}, a_{34} : 0, a_{35} : 0, a_{45} : r_{157}\\right\\}, \\left\\{d_{1} : r_{158}, d_{2} : r_{159}, d_{3} : \\frac{r_{159}}{x_{23}}, d_{4} : \\frac{r_{158}}{x_{14}}, d_{5} : r_{160}, a_{12} : \\frac{r_{159} x_{13} - r_{158} x_{23}}{x_{23}}, a_{13} : r_{161}, a_{14} : r_{162}, a_{15} : r_{163}, a_{23} : r_{164}, a_{24} : r_{165}, a_{25} : r_{166}, a_{34} : 0, a_{35} : 0, a_{45} : -\\frac{r_{160} x_{15} - r_{158}}{x_{14}}\\right\\}\\right]</script></html>"
      ],
      "text/latex": [
       "$$\\newcommand{\\Bold}[1]{\\mathbf{#1}}\\left[\\left\\{d_{1} : r_{147}, d_{2} : 0, d_{3} : 0, d_{4} : r_{148}, d_{5} : r_{149}, a_{12} : r_{150}, a_{13} : r_{151}, a_{14} : r_{152}, a_{15} : r_{153}, a_{23} : r_{154}, a_{24} : r_{155}, a_{25} : r_{156}, a_{34} : 0, a_{35} : 0, a_{45} : r_{157}\\right\\}, \\left\\{d_{1} : r_{158}, d_{2} : r_{159}, d_{3} : \\frac{r_{159}}{x_{23}}, d_{4} : \\frac{r_{158}}{x_{14}}, d_{5} : r_{160}, a_{12} : \\frac{r_{159} x_{13} - r_{158} x_{23}}{x_{23}}, a_{13} : r_{161}, a_{14} : r_{162}, a_{15} : r_{163}, a_{23} : r_{164}, a_{24} : r_{165}, a_{25} : r_{166}, a_{34} : 0, a_{35} : 0, a_{45} : -\\frac{r_{160} x_{15} - r_{158}}{x_{14}}\\right\\}\\right]$$"
      ],
      "text/plain": [
       "[{d1: r147,\n",
       "  d2: 0,\n",
       "  d3: 0,\n",
       "  d4: r148,\n",
       "  d5: r149,\n",
       "  a12: r150,\n",
       "  a13: r151,\n",
       "  a14: r152,\n",
       "  a15: r153,\n",
       "  a23: r154,\n",
       "  a24: r155,\n",
       "  a25: r156,\n",
       "  a34: 0,\n",
       "  a35: 0,\n",
       "  a45: r157},\n",
       " {d1: r158,\n",
       "  d2: r159,\n",
       "  d3: r159/x23,\n",
       "  d4: r158/x14,\n",
       "  d5: r160,\n",
       "  a12: (r159*x13 - r158*x23)/x23,\n",
       "  a13: r161,\n",
       "  a14: r162,\n",
       "  a15: r163,\n",
       "  a23: r164,\n",
       "  a24: r165,\n",
       "  a25: r166,\n",
       "  a34: 0,\n",
       "  a35: 0,\n",
       "  a45: -(r160*x15 - r158)/x14}]"
      ]
     },
     "metadata": {},
     "output_type": "display_data"
    }
   ],
   "source": [
    "#x3\n",
    "reset()\n",
    "\n",
    "var('x12,x13,x14,x15,x23,x24,x25,x34,x35,x45')\n",
    "var('d1,d2,d3,d4,d5')\n",
    "var('a12,a13,a14,a15,a23,a24,a25,a34,a35,a45')\n",
    "\n",
    "load_attach_path('C:\\\\Users\\\\julia\\\\Documents\\\\unb\\\\doutorado\\\\pensar\\\\codigo_sage_v2\\\\maquina\\\\x3')\n",
    "load('out_#000111.sage')\n",
    "\n",
    "m=matrix(QQ, [[0, 0, 1, 1, 1],\n",
    "              [0, 0, 1, 0, 0],\n",
    "              [0, 0, 0, 0, 0],\n",
    "              [0, 0, 0, 0, 0],\n",
    "              [0, 0, 0, 0, 0]])\n",
    "        \n",
    "#entry of matrix: (i,j) line i collum j, means (i-1,j-1)\n",
    "sol=solve([ eq1==m[0,2],\teq2==m[0,3],\teq3==m[0,4],\teq4==m[1,2],\t\n",
    "                                            eq5==m[1,3],    eq6==m[1,4],\n",
    "                                                            eq7==m[2,4]],d1,d2,d3,d4,d5,a12,a13,a14,a15,a23,a24,a25,a34,a35,a45, solution_dict=True)\n",
    "\n",
    "show(m)\n",
    "show(sol)\n",
    "#latex(sol)"
   ]
  },
  {
   "cell_type": "code",
   "execution_count": 9,
   "metadata": {},
   "outputs": [
    {
     "data": {
      "text/html": [
       "<html><script type=\"math/tex; mode=display\">\\newcommand{\\Bold}[1]{\\mathbf{#1}}\\left(\\begin{array}{rrrrr}\n",
       "0 & 0 & 0 & 0 & 0 \\\\\n",
       "0 & 0 & 1 & 0 & 1 \\\\\n",
       "0 & 0 & 0 & 0 & 0 \\\\\n",
       "0 & 0 & 0 & 0 & 0 \\\\\n",
       "0 & 0 & 0 & 0 & 0\n",
       "\\end{array}\\right)</script></html>"
      ],
      "text/latex": [
       "$$\\newcommand{\\Bold}[1]{\\mathbf{#1}}\\left(\\begin{array}{rrrrr}\n",
       "0 & 0 & 0 & 0 & 0 \\\\\n",
       "0 & 0 & 1 & 0 & 1 \\\\\n",
       "0 & 0 & 0 & 0 & 0 \\\\\n",
       "0 & 0 & 0 & 0 & 0 \\\\\n",
       "0 & 0 & 0 & 0 & 0\n",
       "\\end{array}\\right)$$"
      ],
      "text/plain": [
       "[0 0 0 0 0]\n",
       "[0 0 1 0 1]\n",
       "[0 0 0 0 0]\n",
       "[0 0 0 0 0]\n",
       "[0 0 0 0 0]"
      ]
     },
     "metadata": {},
     "output_type": "display_data"
    },
    {
     "data": {
      "text/html": [
       "<html><script type=\"math/tex; mode=display\">\\newcommand{\\Bold}[1]{\\mathbf{#1}}\\left[\\left\\{d_{1} : r_{167}, d_{2} : 0, d_{3} : 0, d_{4} : r_{168}, d_{5} : r_{169}, a_{12} : r_{170}, a_{13} : r_{171}, a_{14} : r_{172}, a_{15} : r_{173}, a_{23} : r_{174}, a_{24} : r_{175}, a_{25} : r_{176}, a_{34} : 0, a_{35} : -\\frac{r_{169} x_{25}}{x_{23}}, a_{45} : r_{177}\\right\\}, \\left\\{d_{1} : r_{178}, d_{2} : r_{179}, d_{3} : \\frac{r_{179}}{x_{23}}, d_{4} : r_{180}, d_{5} : r_{181}, a_{12} : 0, a_{13} : r_{182}, a_{14} : r_{183}, a_{15} : r_{184}, a_{23} : r_{185}, a_{24} : r_{186}, a_{25} : r_{187}, a_{34} : 0, a_{35} : -\\frac{r_{181} x_{25} - r_{179}}{x_{23}}, a_{45} : r_{188}\\right\\}\\right]</script></html>"
      ],
      "text/latex": [
       "$$\\newcommand{\\Bold}[1]{\\mathbf{#1}}\\left[\\left\\{d_{1} : r_{167}, d_{2} : 0, d_{3} : 0, d_{4} : r_{168}, d_{5} : r_{169}, a_{12} : r_{170}, a_{13} : r_{171}, a_{14} : r_{172}, a_{15} : r_{173}, a_{23} : r_{174}, a_{24} : r_{175}, a_{25} : r_{176}, a_{34} : 0, a_{35} : -\\frac{r_{169} x_{25}}{x_{23}}, a_{45} : r_{177}\\right\\}, \\left\\{d_{1} : r_{178}, d_{2} : r_{179}, d_{3} : \\frac{r_{179}}{x_{23}}, d_{4} : r_{180}, d_{5} : r_{181}, a_{12} : 0, a_{13} : r_{182}, a_{14} : r_{183}, a_{15} : r_{184}, a_{23} : r_{185}, a_{24} : r_{186}, a_{25} : r_{187}, a_{34} : 0, a_{35} : -\\frac{r_{181} x_{25} - r_{179}}{x_{23}}, a_{45} : r_{188}\\right\\}\\right]$$"
      ],
      "text/plain": [
       "[{d1: r167,\n",
       "  d2: 0,\n",
       "  d3: 0,\n",
       "  d4: r168,\n",
       "  d5: r169,\n",
       "  a12: r170,\n",
       "  a13: r171,\n",
       "  a14: r172,\n",
       "  a15: r173,\n",
       "  a23: r174,\n",
       "  a24: r175,\n",
       "  a25: r176,\n",
       "  a34: 0,\n",
       "  a35: -r169*x25/x23,\n",
       "  a45: r177},\n",
       " {d1: r178,\n",
       "  d2: r179,\n",
       "  d3: r179/x23,\n",
       "  d4: r180,\n",
       "  d5: r181,\n",
       "  a12: 0,\n",
       "  a13: r182,\n",
       "  a14: r183,\n",
       "  a15: r184,\n",
       "  a23: r185,\n",
       "  a24: r186,\n",
       "  a25: r187,\n",
       "  a34: 0,\n",
       "  a35: -(r181*x25 - r179)/x23,\n",
       "  a45: r188}]"
      ]
     },
     "metadata": {},
     "output_type": "display_data"
    }
   ],
   "source": [
    "#x3\n",
    "reset()\n",
    "\n",
    "var('x12,x13,x14,x15,x23,x24,x25,x34,x35,x45')\n",
    "var('d1,d2,d3,d4,d5')\n",
    "var('a12,a13,a14,a15,a23,a24,a25,a34,a35,a45')\n",
    "\n",
    "load_attach_path('C:\\\\Users\\\\julia\\\\Documents\\\\unb\\\\doutorado\\\\pensar\\\\codigo_sage_v2\\\\maquina\\\\x3')\n",
    "load('out_#001000.sage')\n",
    "\n",
    "m=matrix(QQ, [[0, 0, 0, 0, 0],\n",
    "              [0, 0, 1, 0, 1],\n",
    "              [0, 0, 0, 0, 0],\n",
    "              [0, 0, 0, 0, 0],\n",
    "              [0, 0, 0, 0, 0]])\n",
    "        \n",
    "#entry of matrix: (i,j) line i collum j, means (i-1,j-1)\n",
    "sol=solve([ eq1==m[0,2],\teq2==m[0,3],\teq3==m[0,4],\teq4==m[1,2],\t\n",
    "                                            eq5==m[1,3],    eq6==m[1,4],\n",
    "                                                            eq7==m[2,4]],d1,d2,d3,d4,d5,a12,a13,a14,a15,a23,a24,a25,a34,a35,a45, solution_dict=True)\n",
    "\n",
    "show(m)\n",
    "show(sol)\n",
    "#latex(sol)"
   ]
  },
  {
   "cell_type": "code",
   "execution_count": 10,
   "metadata": {},
   "outputs": [
    {
     "data": {
      "text/html": [
       "<html><script type=\"math/tex; mode=display\">\\newcommand{\\Bold}[1]{\\mathbf{#1}}\\left(\\begin{array}{rrrrr}\n",
       "0 & 0 & 0 & 0 & 1 \\\\\n",
       "0 & 0 & 1 & 0 & 1 \\\\\n",
       "0 & 0 & 0 & 0 & 0 \\\\\n",
       "0 & 0 & 0 & 0 & 0 \\\\\n",
       "0 & 0 & 0 & 0 & 0\n",
       "\\end{array}\\right)</script></html>"
      ],
      "text/latex": [
       "$$\\newcommand{\\Bold}[1]{\\mathbf{#1}}\\left(\\begin{array}{rrrrr}\n",
       "0 & 0 & 0 & 0 & 1 \\\\\n",
       "0 & 0 & 1 & 0 & 1 \\\\\n",
       "0 & 0 & 0 & 0 & 0 \\\\\n",
       "0 & 0 & 0 & 0 & 0 \\\\\n",
       "0 & 0 & 0 & 0 & 0\n",
       "\\end{array}\\right)$$"
      ],
      "text/plain": [
       "[0 0 0 0 1]\n",
       "[0 0 1 0 1]\n",
       "[0 0 0 0 0]\n",
       "[0 0 0 0 0]\n",
       "[0 0 0 0 0]"
      ]
     },
     "metadata": {},
     "output_type": "display_data"
    },
    {
     "data": {
      "text/html": [
       "<html><script type=\"math/tex; mode=display\">\\newcommand{\\Bold}[1]{\\mathbf{#1}}\\left[\\left\\{d_{1} : r_{189}, d_{2} : 0, d_{3} : 0, d_{4} : r_{190}, d_{5} : r_{191}, a_{12} : r_{192}, a_{13} : r_{193}, a_{14} : r_{194}, a_{15} : r_{195}, a_{23} : r_{196}, a_{24} : r_{197}, a_{25} : r_{198}, a_{34} : 0, a_{35} : -\\frac{r_{191} x_{25}}{x_{23}}, a_{45} : r_{199}\\right\\}, \\left\\{d_{1} : r_{200}, d_{2} : r_{201}, d_{3} : \\frac{r_{201}}{x_{23}}, d_{4} : r_{202}, d_{5} : \\frac{r_{200}}{x_{15}}, a_{12} : 0, a_{13} : r_{203}, a_{14} : r_{204}, a_{15} : r_{205}, a_{23} : r_{206}, a_{24} : r_{207}, a_{25} : r_{208}, a_{34} : 0, a_{35} : \\frac{r_{201} x_{15} - r_{200} x_{25}}{x_{15} x_{23}}, a_{45} : r_{209}\\right\\}\\right]</script></html>"
      ],
      "text/latex": [
       "$$\\newcommand{\\Bold}[1]{\\mathbf{#1}}\\left[\\left\\{d_{1} : r_{189}, d_{2} : 0, d_{3} : 0, d_{4} : r_{190}, d_{5} : r_{191}, a_{12} : r_{192}, a_{13} : r_{193}, a_{14} : r_{194}, a_{15} : r_{195}, a_{23} : r_{196}, a_{24} : r_{197}, a_{25} : r_{198}, a_{34} : 0, a_{35} : -\\frac{r_{191} x_{25}}{x_{23}}, a_{45} : r_{199}\\right\\}, \\left\\{d_{1} : r_{200}, d_{2} : r_{201}, d_{3} : \\frac{r_{201}}{x_{23}}, d_{4} : r_{202}, d_{5} : \\frac{r_{200}}{x_{15}}, a_{12} : 0, a_{13} : r_{203}, a_{14} : r_{204}, a_{15} : r_{205}, a_{23} : r_{206}, a_{24} : r_{207}, a_{25} : r_{208}, a_{34} : 0, a_{35} : \\frac{r_{201} x_{15} - r_{200} x_{25}}{x_{15} x_{23}}, a_{45} : r_{209}\\right\\}\\right]$$"
      ],
      "text/plain": [
       "[{d1: r189,\n",
       "  d2: 0,\n",
       "  d3: 0,\n",
       "  d4: r190,\n",
       "  d5: r191,\n",
       "  a12: r192,\n",
       "  a13: r193,\n",
       "  a14: r194,\n",
       "  a15: r195,\n",
       "  a23: r196,\n",
       "  a24: r197,\n",
       "  a25: r198,\n",
       "  a34: 0,\n",
       "  a35: -r191*x25/x23,\n",
       "  a45: r199},\n",
       " {d1: r200,\n",
       "  d2: r201,\n",
       "  d3: r201/x23,\n",
       "  d4: r202,\n",
       "  d5: r200/x15,\n",
       "  a12: 0,\n",
       "  a13: r203,\n",
       "  a14: r204,\n",
       "  a15: r205,\n",
       "  a23: r206,\n",
       "  a24: r207,\n",
       "  a25: r208,\n",
       "  a34: 0,\n",
       "  a35: (r201*x15 - r200*x25)/(x15*x23),\n",
       "  a45: r209}]"
      ]
     },
     "metadata": {},
     "output_type": "display_data"
    }
   ],
   "source": [
    "#x3\n",
    "reset()\n",
    "\n",
    "var('x12,x13,x14,x15,x23,x24,x25,x34,x35,x45')\n",
    "var('d1,d2,d3,d4,d5')\n",
    "var('a12,a13,a14,a15,a23,a24,a25,a34,a35,a45')\n",
    "\n",
    "load_attach_path('C:\\\\Users\\\\julia\\\\Documents\\\\unb\\\\doutorado\\\\pensar\\\\codigo_sage_v2\\\\maquina\\\\x3')\n",
    "load('out_#001001.sage')\n",
    "\n",
    "m=matrix(QQ, [[0, 0, 0, 0, 1],\n",
    "              [0, 0, 1, 0, 1],\n",
    "              [0, 0, 0, 0, 0],\n",
    "              [0, 0, 0, 0, 0],\n",
    "              [0, 0, 0, 0, 0]])\n",
    "        \n",
    "#entry of matrix: (i,j) line i collum j, means (i-1,j-1)\n",
    "sol=solve([ eq1==m[0,2],\teq2==m[0,3],\teq3==m[0,4],\teq4==m[1,2],\t\n",
    "                                            eq5==m[1,3],    eq6==m[1,4],\n",
    "                                                            eq7==m[2,4]],d1,d2,d3,d4,d5,a12,a13,a14,a15,a23,a24,a25,a34,a35,a45, solution_dict=True)\n",
    "\n",
    "show(m)\n",
    "show(sol)\n",
    "#latex(sol)"
   ]
  },
  {
   "cell_type": "code",
   "execution_count": 11,
   "metadata": {},
   "outputs": [
    {
     "data": {
      "text/html": [
       "<html><script type=\"math/tex; mode=display\">\\newcommand{\\Bold}[1]{\\mathbf{#1}}\\left(\\begin{array}{rrrrr}\n",
       "0 & 0 & 0 & 1 & 0 \\\\\n",
       "0 & 0 & 1 & 0 & 1 \\\\\n",
       "0 & 0 & 0 & 0 & 0 \\\\\n",
       "0 & 0 & 0 & 0 & 0 \\\\\n",
       "0 & 0 & 0 & 0 & 0\n",
       "\\end{array}\\right)</script></html>"
      ],
      "text/latex": [
       "$$\\newcommand{\\Bold}[1]{\\mathbf{#1}}\\left(\\begin{array}{rrrrr}\n",
       "0 & 0 & 0 & 1 & 0 \\\\\n",
       "0 & 0 & 1 & 0 & 1 \\\\\n",
       "0 & 0 & 0 & 0 & 0 \\\\\n",
       "0 & 0 & 0 & 0 & 0 \\\\\n",
       "0 & 0 & 0 & 0 & 0\n",
       "\\end{array}\\right)$$"
      ],
      "text/plain": [
       "[0 0 0 1 0]\n",
       "[0 0 1 0 1]\n",
       "[0 0 0 0 0]\n",
       "[0 0 0 0 0]\n",
       "[0 0 0 0 0]"
      ]
     },
     "metadata": {},
     "output_type": "display_data"
    },
    {
     "data": {
      "text/html": [
       "<html><script type=\"math/tex; mode=display\">\\newcommand{\\Bold}[1]{\\mathbf{#1}}\\left[\\left\\{d_{1} : r_{210}, d_{2} : 0, d_{3} : 0, d_{4} : r_{211}, d_{5} : r_{212}, a_{12} : r_{213}, a_{13} : r_{214}, a_{14} : r_{215}, a_{15} : r_{216}, a_{23} : r_{217}, a_{24} : r_{218}, a_{25} : r_{219}, a_{34} : 0, a_{35} : -\\frac{r_{212} x_{25}}{x_{23}}, a_{45} : r_{220}\\right\\}, \\left\\{d_{1} : r_{221}, d_{2} : r_{222}, d_{3} : \\frac{r_{222}}{x_{23}}, d_{4} : \\frac{r_{221}}{x_{14}}, d_{5} : r_{223}, a_{12} : 0, a_{13} : r_{224}, a_{14} : r_{225}, a_{15} : r_{226}, a_{23} : r_{227}, a_{24} : r_{228}, a_{25} : r_{229}, a_{34} : 0, a_{35} : -\\frac{r_{223} x_{25} - r_{222}}{x_{23}}, a_{45} : 0\\right\\}\\right]</script></html>"
      ],
      "text/latex": [
       "$$\\newcommand{\\Bold}[1]{\\mathbf{#1}}\\left[\\left\\{d_{1} : r_{210}, d_{2} : 0, d_{3} : 0, d_{4} : r_{211}, d_{5} : r_{212}, a_{12} : r_{213}, a_{13} : r_{214}, a_{14} : r_{215}, a_{15} : r_{216}, a_{23} : r_{217}, a_{24} : r_{218}, a_{25} : r_{219}, a_{34} : 0, a_{35} : -\\frac{r_{212} x_{25}}{x_{23}}, a_{45} : r_{220}\\right\\}, \\left\\{d_{1} : r_{221}, d_{2} : r_{222}, d_{3} : \\frac{r_{222}}{x_{23}}, d_{4} : \\frac{r_{221}}{x_{14}}, d_{5} : r_{223}, a_{12} : 0, a_{13} : r_{224}, a_{14} : r_{225}, a_{15} : r_{226}, a_{23} : r_{227}, a_{24} : r_{228}, a_{25} : r_{229}, a_{34} : 0, a_{35} : -\\frac{r_{223} x_{25} - r_{222}}{x_{23}}, a_{45} : 0\\right\\}\\right]$$"
      ],
      "text/plain": [
       "[{d1: r210,\n",
       "  d2: 0,\n",
       "  d3: 0,\n",
       "  d4: r211,\n",
       "  d5: r212,\n",
       "  a12: r213,\n",
       "  a13: r214,\n",
       "  a14: r215,\n",
       "  a15: r216,\n",
       "  a23: r217,\n",
       "  a24: r218,\n",
       "  a25: r219,\n",
       "  a34: 0,\n",
       "  a35: -r212*x25/x23,\n",
       "  a45: r220},\n",
       " {d1: r221,\n",
       "  d2: r222,\n",
       "  d3: r222/x23,\n",
       "  d4: r221/x14,\n",
       "  d5: r223,\n",
       "  a12: 0,\n",
       "  a13: r224,\n",
       "  a14: r225,\n",
       "  a15: r226,\n",
       "  a23: r227,\n",
       "  a24: r228,\n",
       "  a25: r229,\n",
       "  a34: 0,\n",
       "  a35: -(r223*x25 - r222)/x23,\n",
       "  a45: 0}]"
      ]
     },
     "metadata": {},
     "output_type": "display_data"
    }
   ],
   "source": [
    "#x3\n",
    "reset()\n",
    "\n",
    "var('x12,x13,x14,x15,x23,x24,x25,x34,x35,x45')\n",
    "var('d1,d2,d3,d4,d5')\n",
    "var('a12,a13,a14,a15,a23,a24,a25,a34,a35,a45')\n",
    "\n",
    "load_attach_path('C:\\\\Users\\\\julia\\\\Documents\\\\unb\\\\doutorado\\\\pensar\\\\codigo_sage_v2\\\\maquina\\\\x3')\n",
    "load('out_#001010.sage')\n",
    "\n",
    "m=matrix(QQ, [[0, 0, 0, 1, 0],\n",
    "              [0, 0, 1, 0, 1],\n",
    "              [0, 0, 0, 0, 0],\n",
    "              [0, 0, 0, 0, 0],\n",
    "              [0, 0, 0, 0, 0]])\n",
    "        \n",
    "#entry of matrix: (i,j) line i collum j, means (i-1,j-1)\n",
    "sol=solve([ eq1==m[0,2],\teq2==m[0,3],\teq3==m[0,4],\teq4==m[1,2],\t\n",
    "                                            eq5==m[1,3],    eq6==m[1,4],\n",
    "                                                            eq7==m[2,4]],d1,d2,d3,d4,d5,a12,a13,a14,a15,a23,a24,a25,a34,a35,a45, solution_dict=True)\n",
    "\n",
    "show(m)\n",
    "show(sol)\n",
    "#latex(sol)"
   ]
  },
  {
   "cell_type": "code",
   "execution_count": 12,
   "metadata": {},
   "outputs": [
    {
     "data": {
      "text/html": [
       "<html><script type=\"math/tex; mode=display\">\\newcommand{\\Bold}[1]{\\mathbf{#1}}\\left(\\begin{array}{rrrrr}\n",
       "0 & 0 & 0 & 1 & 1 \\\\\n",
       "0 & 0 & 1 & 0 & 1 \\\\\n",
       "0 & 0 & 0 & 0 & 0 \\\\\n",
       "0 & 0 & 0 & 0 & 0 \\\\\n",
       "0 & 0 & 0 & 0 & 0\n",
       "\\end{array}\\right)</script></html>"
      ],
      "text/latex": [
       "$$\\newcommand{\\Bold}[1]{\\mathbf{#1}}\\left(\\begin{array}{rrrrr}\n",
       "0 & 0 & 0 & 1 & 1 \\\\\n",
       "0 & 0 & 1 & 0 & 1 \\\\\n",
       "0 & 0 & 0 & 0 & 0 \\\\\n",
       "0 & 0 & 0 & 0 & 0 \\\\\n",
       "0 & 0 & 0 & 0 & 0\n",
       "\\end{array}\\right)$$"
      ],
      "text/plain": [
       "[0 0 0 1 1]\n",
       "[0 0 1 0 1]\n",
       "[0 0 0 0 0]\n",
       "[0 0 0 0 0]\n",
       "[0 0 0 0 0]"
      ]
     },
     "metadata": {},
     "output_type": "display_data"
    },
    {
     "data": {
      "text/html": [
       "<html><script type=\"math/tex; mode=display\">\\newcommand{\\Bold}[1]{\\mathbf{#1}}\\left[\\left\\{d_{1} : r_{230}, d_{2} : 0, d_{3} : 0, d_{4} : r_{231}, d_{5} : r_{232}, a_{12} : r_{233}, a_{13} : r_{234}, a_{14} : r_{235}, a_{15} : r_{236}, a_{23} : r_{237}, a_{24} : r_{238}, a_{25} : r_{239}, a_{34} : 0, a_{35} : -\\frac{r_{232} x_{25}}{x_{23}}, a_{45} : r_{240}\\right\\}, \\left\\{d_{1} : r_{241}, d_{2} : r_{242}, d_{3} : \\frac{r_{242}}{x_{23}}, d_{4} : \\frac{r_{241}}{x_{14}}, d_{5} : r_{243}, a_{12} : 0, a_{13} : r_{244}, a_{14} : r_{245}, a_{15} : r_{246}, a_{23} : r_{247}, a_{24} : r_{248}, a_{25} : r_{249}, a_{34} : 0, a_{35} : -\\frac{r_{243} x_{25} - r_{242}}{x_{23}}, a_{45} : -\\frac{r_{243} x_{15} - r_{241}}{x_{14}}\\right\\}\\right]</script></html>"
      ],
      "text/latex": [
       "$$\\newcommand{\\Bold}[1]{\\mathbf{#1}}\\left[\\left\\{d_{1} : r_{230}, d_{2} : 0, d_{3} : 0, d_{4} : r_{231}, d_{5} : r_{232}, a_{12} : r_{233}, a_{13} : r_{234}, a_{14} : r_{235}, a_{15} : r_{236}, a_{23} : r_{237}, a_{24} : r_{238}, a_{25} : r_{239}, a_{34} : 0, a_{35} : -\\frac{r_{232} x_{25}}{x_{23}}, a_{45} : r_{240}\\right\\}, \\left\\{d_{1} : r_{241}, d_{2} : r_{242}, d_{3} : \\frac{r_{242}}{x_{23}}, d_{4} : \\frac{r_{241}}{x_{14}}, d_{5} : r_{243}, a_{12} : 0, a_{13} : r_{244}, a_{14} : r_{245}, a_{15} : r_{246}, a_{23} : r_{247}, a_{24} : r_{248}, a_{25} : r_{249}, a_{34} : 0, a_{35} : -\\frac{r_{243} x_{25} - r_{242}}{x_{23}}, a_{45} : -\\frac{r_{243} x_{15} - r_{241}}{x_{14}}\\right\\}\\right]$$"
      ],
      "text/plain": [
       "[{d1: r230,\n",
       "  d2: 0,\n",
       "  d3: 0,\n",
       "  d4: r231,\n",
       "  d5: r232,\n",
       "  a12: r233,\n",
       "  a13: r234,\n",
       "  a14: r235,\n",
       "  a15: r236,\n",
       "  a23: r237,\n",
       "  a24: r238,\n",
       "  a25: r239,\n",
       "  a34: 0,\n",
       "  a35: -r232*x25/x23,\n",
       "  a45: r240},\n",
       " {d1: r241,\n",
       "  d2: r242,\n",
       "  d3: r242/x23,\n",
       "  d4: r241/x14,\n",
       "  d5: r243,\n",
       "  a12: 0,\n",
       "  a13: r244,\n",
       "  a14: r245,\n",
       "  a15: r246,\n",
       "  a23: r247,\n",
       "  a24: r248,\n",
       "  a25: r249,\n",
       "  a34: 0,\n",
       "  a35: -(r243*x25 - r242)/x23,\n",
       "  a45: -(r243*x15 - r241)/x14}]"
      ]
     },
     "metadata": {},
     "output_type": "display_data"
    }
   ],
   "source": [
    "#x3\n",
    "reset()\n",
    "\n",
    "var('x12,x13,x14,x15,x23,x24,x25,x34,x35,x45')\n",
    "var('d1,d2,d3,d4,d5')\n",
    "var('a12,a13,a14,a15,a23,a24,a25,a34,a35,a45')\n",
    "\n",
    "load_attach_path('C:\\\\Users\\\\julia\\\\Documents\\\\unb\\\\doutorado\\\\pensar\\\\codigo_sage_v2\\\\maquina\\\\x3')\n",
    "load('out_#001011.sage')\n",
    "\n",
    "m=matrix(QQ, [[0, 0, 0, 1, 1],\n",
    "              [0, 0, 1, 0, 1],\n",
    "              [0, 0, 0, 0, 0],\n",
    "              [0, 0, 0, 0, 0],\n",
    "              [0, 0, 0, 0, 0]])\n",
    "        \n",
    "#entry of matrix: (i,j) line i collum j, means (i-1,j-1)\n",
    "sol=solve([ eq1==m[0,2],\teq2==m[0,3],\teq3==m[0,4],\teq4==m[1,2],\t\n",
    "                                            eq5==m[1,3],    eq6==m[1,4],\n",
    "                                                            eq7==m[2,4]],d1,d2,d3,d4,d5,a12,a13,a14,a15,a23,a24,a25,a34,a35,a45, solution_dict=True)\n",
    "\n",
    "show(m)\n",
    "show(sol)\n",
    "#latex(sol)"
   ]
  },
  {
   "cell_type": "code",
   "execution_count": 13,
   "metadata": {},
   "outputs": [
    {
     "data": {
      "text/html": [
       "<html><script type=\"math/tex; mode=display\">\\newcommand{\\Bold}[1]{\\mathbf{#1}}\\left(\\begin{array}{rrrrr}\n",
       "0 & 0 & 1 & 0 & 0 \\\\\n",
       "0 & 0 & 1 & 0 & 1 \\\\\n",
       "0 & 0 & 0 & 0 & 0 \\\\\n",
       "0 & 0 & 0 & 0 & 0 \\\\\n",
       "0 & 0 & 0 & 0 & 0\n",
       "\\end{array}\\right)</script></html>"
      ],
      "text/latex": [
       "$$\\newcommand{\\Bold}[1]{\\mathbf{#1}}\\left(\\begin{array}{rrrrr}\n",
       "0 & 0 & 1 & 0 & 0 \\\\\n",
       "0 & 0 & 1 & 0 & 1 \\\\\n",
       "0 & 0 & 0 & 0 & 0 \\\\\n",
       "0 & 0 & 0 & 0 & 0 \\\\\n",
       "0 & 0 & 0 & 0 & 0\n",
       "\\end{array}\\right)$$"
      ],
      "text/plain": [
       "[0 0 1 0 0]\n",
       "[0 0 1 0 1]\n",
       "[0 0 0 0 0]\n",
       "[0 0 0 0 0]\n",
       "[0 0 0 0 0]"
      ]
     },
     "metadata": {},
     "output_type": "display_data"
    },
    {
     "data": {
      "text/html": [
       "<html><script type=\"math/tex; mode=display\">\\newcommand{\\Bold}[1]{\\mathbf{#1}}\\left[\\left\\{d_{1} : r_{250}, d_{2} : 0, d_{3} : 0, d_{4} : r_{251}, d_{5} : r_{252}, a_{12} : r_{253}, a_{13} : r_{254}, a_{14} : r_{255}, a_{15} : r_{256}, a_{23} : r_{257}, a_{24} : r_{258}, a_{25} : r_{259}, a_{34} : 0, a_{35} : -\\frac{r_{252} x_{25}}{x_{23}}, a_{45} : r_{260}\\right\\}, \\left\\{d_{1} : r_{261}, d_{2} : r_{262}, d_{3} : \\frac{r_{262}}{x_{23}}, d_{4} : r_{263}, d_{5} : \\frac{r_{261} x_{23}}{x_{13} x_{25}}, a_{12} : \\frac{r_{262} x_{13} - r_{261} x_{23}}{x_{23}}, a_{13} : r_{264}, a_{14} : r_{265}, a_{15} : r_{266}, a_{23} : r_{267}, a_{24} : r_{268}, a_{25} : r_{269}, a_{34} : 0, a_{35} : \\frac{r_{262} x_{13} - r_{261} x_{23}}{x_{13} x_{23}}, a_{45} : r_{270}\\right\\}\\right]</script></html>"
      ],
      "text/latex": [
       "$$\\newcommand{\\Bold}[1]{\\mathbf{#1}}\\left[\\left\\{d_{1} : r_{250}, d_{2} : 0, d_{3} : 0, d_{4} : r_{251}, d_{5} : r_{252}, a_{12} : r_{253}, a_{13} : r_{254}, a_{14} : r_{255}, a_{15} : r_{256}, a_{23} : r_{257}, a_{24} : r_{258}, a_{25} : r_{259}, a_{34} : 0, a_{35} : -\\frac{r_{252} x_{25}}{x_{23}}, a_{45} : r_{260}\\right\\}, \\left\\{d_{1} : r_{261}, d_{2} : r_{262}, d_{3} : \\frac{r_{262}}{x_{23}}, d_{4} : r_{263}, d_{5} : \\frac{r_{261} x_{23}}{x_{13} x_{25}}, a_{12} : \\frac{r_{262} x_{13} - r_{261} x_{23}}{x_{23}}, a_{13} : r_{264}, a_{14} : r_{265}, a_{15} : r_{266}, a_{23} : r_{267}, a_{24} : r_{268}, a_{25} : r_{269}, a_{34} : 0, a_{35} : \\frac{r_{262} x_{13} - r_{261} x_{23}}{x_{13} x_{23}}, a_{45} : r_{270}\\right\\}\\right]$$"
      ],
      "text/plain": [
       "[{d1: r250,\n",
       "  d2: 0,\n",
       "  d3: 0,\n",
       "  d4: r251,\n",
       "  d5: r252,\n",
       "  a12: r253,\n",
       "  a13: r254,\n",
       "  a14: r255,\n",
       "  a15: r256,\n",
       "  a23: r257,\n",
       "  a24: r258,\n",
       "  a25: r259,\n",
       "  a34: 0,\n",
       "  a35: -r252*x25/x23,\n",
       "  a45: r260},\n",
       " {d1: r261,\n",
       "  d2: r262,\n",
       "  d3: r262/x23,\n",
       "  d4: r263,\n",
       "  d5: r261*x23/(x13*x25),\n",
       "  a12: (r262*x13 - r261*x23)/x23,\n",
       "  a13: r264,\n",
       "  a14: r265,\n",
       "  a15: r266,\n",
       "  a23: r267,\n",
       "  a24: r268,\n",
       "  a25: r269,\n",
       "  a34: 0,\n",
       "  a35: (r262*x13 - r261*x23)/(x13*x23),\n",
       "  a45: r270}]"
      ]
     },
     "metadata": {},
     "output_type": "display_data"
    }
   ],
   "source": [
    "#x3\n",
    "reset()\n",
    "\n",
    "var('x12,x13,x14,x15,x23,x24,x25,x34,x35,x45')\n",
    "var('d1,d2,d3,d4,d5')\n",
    "var('a12,a13,a14,a15,a23,a24,a25,a34,a35,a45')\n",
    "\n",
    "load_attach_path('C:\\\\Users\\\\julia\\\\Documents\\\\unb\\\\doutorado\\\\pensar\\\\codigo_sage_v2\\\\maquina\\\\x3')\n",
    "load('out_#001100.sage')\n",
    "\n",
    "m=matrix(QQ, [[0, 0, 1, 0, 0],\n",
    "              [0, 0, 1, 0, 1],\n",
    "              [0, 0, 0, 0, 0],\n",
    "              [0, 0, 0, 0, 0],\n",
    "              [0, 0, 0, 0, 0]])\n",
    "        \n",
    "#entry of matrix: (i,j) line i collum j, means (i-1,j-1)\n",
    "sol=solve([ eq1==m[0,2],\teq2==m[0,3],\teq3==m[0,4],\teq4==m[1,2],\t\n",
    "                                            eq5==m[1,3],    eq6==m[1,4],\n",
    "                                                            eq7==m[2,4]],d1,d2,d3,d4,d5,a12,a13,a14,a15,a23,a24,a25,a34,a35,a45, solution_dict=True)\n",
    "\n",
    "show(m)\n",
    "show(sol)\n",
    "#latex(sol)"
   ]
  },
  {
   "cell_type": "code",
   "execution_count": 5,
   "metadata": {},
   "outputs": [
    {
     "data": {
      "text/html": [
       "<html><script type=\"math/tex; mode=display\">\\newcommand{\\Bold}[1]{\\mathbf{#1}}\\left(\\begin{array}{rrrrr}\n",
       "0 & 0 & 1 & 0 & 0 \\\\\n",
       "0 & 0 & 1 & 0 & 1 \\\\\n",
       "0 & 0 & 0 & 0 & 0 \\\\\n",
       "0 & 0 & 0 & 0 & 0 \\\\\n",
       "0 & 0 & 0 & 0 & 0\n",
       "\\end{array}\\right)</script></html>"
      ],
      "text/latex": [
       "$$\\newcommand{\\Bold}[1]{\\mathbf{#1}}\\left(\\begin{array}{rrrrr}\n",
       "0 & 0 & 1 & 0 & 0 \\\\\n",
       "0 & 0 & 1 & 0 & 1 \\\\\n",
       "0 & 0 & 0 & 0 & 0 \\\\\n",
       "0 & 0 & 0 & 0 & 0 \\\\\n",
       "0 & 0 & 0 & 0 & 0\n",
       "\\end{array}\\right)$$"
      ],
      "text/plain": [
       "[0 0 1 0 0]\n",
       "[0 0 1 0 1]\n",
       "[0 0 0 0 0]\n",
       "[0 0 0 0 0]\n",
       "[0 0 0 0 0]"
      ]
     },
     "metadata": {},
     "output_type": "display_data"
    },
    {
     "data": {
      "text/html": [
       "<html><script type=\"math/tex; mode=display\">\\newcommand{\\Bold}[1]{\\mathbf{#1}}\\left[\\left\\{d_{1} : r_{83}, d_{2} : 0, d_{3} : 0, d_{4} : r_{84}, d_{5} : r_{85}, a_{12} : r_{86}, a_{13} : r_{87}, a_{14} : r_{88}, a_{15} : r_{89}, a_{23} : r_{90}, a_{24} : r_{91}, a_{25} : r_{92}, a_{34} : 0, a_{35} : -\\frac{r_{85} x_{25}}{x_{23}}, a_{45} : r_{93}\\right\\}, \\left\\{d_{1} : r_{94}, d_{2} : r_{95}, d_{3} : \\frac{r_{95}}{x_{23}}, d_{4} : r_{96}, d_{5} : -\\frac{r_{94} x_{23}}{x_{15} x_{23} - x_{13} x_{25}}, a_{12} : \\frac{r_{95} x_{13} - r_{94} x_{23}}{x_{23}}, a_{13} : r_{97}, a_{14} : r_{98}, a_{15} : r_{99}, a_{23} : r_{100}, a_{24} : r_{101}, a_{25} : r_{102}, a_{34} : 0, a_{35} : \\frac{r_{95} x_{15} x_{23} - {\\left(r_{95} x_{13} - r_{94} x_{23}\\right)} x_{25}}{x_{15} x_{23}^{2} - x_{13} x_{23} x_{25}}, a_{45} : r_{103}\\right\\}\\right]</script></html>"
      ],
      "text/latex": [
       "$$\\newcommand{\\Bold}[1]{\\mathbf{#1}}\\left[\\left\\{d_{1} : r_{83}, d_{2} : 0, d_{3} : 0, d_{4} : r_{84}, d_{5} : r_{85}, a_{12} : r_{86}, a_{13} : r_{87}, a_{14} : r_{88}, a_{15} : r_{89}, a_{23} : r_{90}, a_{24} : r_{91}, a_{25} : r_{92}, a_{34} : 0, a_{35} : -\\frac{r_{85} x_{25}}{x_{23}}, a_{45} : r_{93}\\right\\}, \\left\\{d_{1} : r_{94}, d_{2} : r_{95}, d_{3} : \\frac{r_{95}}{x_{23}}, d_{4} : r_{96}, d_{5} : -\\frac{r_{94} x_{23}}{x_{15} x_{23} - x_{13} x_{25}}, a_{12} : \\frac{r_{95} x_{13} - r_{94} x_{23}}{x_{23}}, a_{13} : r_{97}, a_{14} : r_{98}, a_{15} : r_{99}, a_{23} : r_{100}, a_{24} : r_{101}, a_{25} : r_{102}, a_{34} : 0, a_{35} : \\frac{r_{95} x_{15} x_{23} - {\\left(r_{95} x_{13} - r_{94} x_{23}\\right)} x_{25}}{x_{15} x_{23}^{2} - x_{13} x_{23} x_{25}}, a_{45} : r_{103}\\right\\}\\right]$$"
      ],
      "text/plain": [
       "[{d1: r83,\n",
       "  d2: 0,\n",
       "  d3: 0,\n",
       "  d4: r84,\n",
       "  d5: r85,\n",
       "  a12: r86,\n",
       "  a13: r87,\n",
       "  a14: r88,\n",
       "  a15: r89,\n",
       "  a23: r90,\n",
       "  a24: r91,\n",
       "  a25: r92,\n",
       "  a34: 0,\n",
       "  a35: -r85*x25/x23,\n",
       "  a45: r93},\n",
       " {d1: r94,\n",
       "  d2: r95,\n",
       "  d3: r95/x23,\n",
       "  d4: r96,\n",
       "  d5: -r94*x23/(x15*x23 - x13*x25),\n",
       "  a12: (r95*x13 - r94*x23)/x23,\n",
       "  a13: r97,\n",
       "  a14: r98,\n",
       "  a15: r99,\n",
       "  a23: r100,\n",
       "  a24: r101,\n",
       "  a25: r102,\n",
       "  a34: 0,\n",
       "  a35: (r95*x15*x23 - (r95*x13 - r94*x23)*x25)/(x15*x23^2 - x13*x23*x25),\n",
       "  a45: r103}]"
      ]
     },
     "metadata": {},
     "output_type": "display_data"
    }
   ],
   "source": [
    "#x3\n",
    "#----------------------\n",
    "#x15 \\neq -x13*x25/x23\n",
    "#----------------------\n",
    "reset()\n",
    "\n",
    "var('x12,x13,x14,x15,x23,x24,x25,x34,x35,x45')\n",
    "var('d1,d2,d3,d4,d5')\n",
    "var('a12,a13,a14,a15,a23,a24,a25,a34,a35,a45')\n",
    "\n",
    "load_attach_path('C:\\\\Users\\\\julia\\\\Documents\\\\unb\\\\doutorado\\\\pensar\\\\codigo_sage_v2\\\\maquina\\\\x3')\n",
    "load('out_#001101.sage')\n",
    "\n",
    "m=matrix(QQ, [[0, 0, 1, 0, 0],\n",
    "              [0, 0, 1, 0, 1],\n",
    "              [0, 0, 0, 0, 0],\n",
    "              [0, 0, 0, 0, 0],\n",
    "              [0, 0, 0, 0, 0]])\n",
    "        \n",
    "#entry of matrix: (i,j) line i collum j, means (i-1,j-1)\n",
    "sol=solve([ eq1==m[0,2],\teq2==m[0,3],\teq3==m[0,4],\teq4==m[1,2],\t\n",
    "                                            eq5==m[1,3],    eq6==m[1,4],\n",
    "                                                            eq7==m[2,4]],d1,d2,d3,d4,d5,a12,a13,a14,a15,a23,a24,a25,a34,a35,a45, solution_dict=True)\n",
    "\n",
    "show(m)\n",
    "show(sol)\n",
    "#latex(sol)"
   ]
  },
  {
   "cell_type": "code",
   "execution_count": 7,
   "metadata": {},
   "outputs": [
    {
     "data": {
      "text/html": [
       "<html><script type=\"math/tex; mode=display\">\\newcommand{\\Bold}[1]{\\mathbf{#1}}\\left(\\begin{array}{rrrrr}\n",
       "0 & 0 & 1 & 0 & 0 \\\\\n",
       "0 & 0 & 1 & 0 & 1 \\\\\n",
       "0 & 0 & 0 & 0 & 0 \\\\\n",
       "0 & 0 & 0 & 0 & 0 \\\\\n",
       "0 & 0 & 0 & 0 & 0\n",
       "\\end{array}\\right)</script></html>"
      ],
      "text/latex": [
       "$$\\newcommand{\\Bold}[1]{\\mathbf{#1}}\\left(\\begin{array}{rrrrr}\n",
       "0 & 0 & 1 & 0 & 0 \\\\\n",
       "0 & 0 & 1 & 0 & 1 \\\\\n",
       "0 & 0 & 0 & 0 & 0 \\\\\n",
       "0 & 0 & 0 & 0 & 0 \\\\\n",
       "0 & 0 & 0 & 0 & 0\n",
       "\\end{array}\\right)$$"
      ],
      "text/plain": [
       "[0 0 1 0 0]\n",
       "[0 0 1 0 1]\n",
       "[0 0 0 0 0]\n",
       "[0 0 0 0 0]\n",
       "[0 0 0 0 0]"
      ]
     },
     "metadata": {},
     "output_type": "display_data"
    },
    {
     "data": {
      "text/html": [
       "<html><script type=\"math/tex; mode=display\">\\newcommand{\\Bold}[1]{\\mathbf{#1}}\\left[\\left\\{d_{1} : r_{125}, d_{2} : 0, d_{3} : 0, d_{4} : r_{126}, d_{5} : r_{127}, a_{12} : r_{128}, a_{13} : r_{129}, a_{14} : r_{130}, a_{15} : r_{131}, a_{23} : r_{132}, a_{24} : r_{133}, a_{25} : r_{134}, a_{34} : 0, a_{35} : -\\frac{r_{127} x_{25}}{x_{23}}, a_{45} : r_{135}\\right\\}, \\left\\{d_{1} : r_{136}, d_{2} : r_{137}, d_{3} : \\frac{r_{137}}{x_{23}}, d_{4} : r_{138}, d_{5} : \\frac{r_{136} x_{23}}{2 \\, x_{13} x_{25}}, a_{12} : \\frac{r_{137} x_{13} - r_{136} x_{23}}{x_{23}}, a_{13} : r_{139}, a_{14} : r_{140}, a_{15} : r_{141}, a_{23} : r_{142}, a_{24} : r_{143}, a_{25} : r_{144}, a_{34} : 0, a_{35} : \\frac{2 \\, r_{137} x_{13} - r_{136} x_{23}}{2 \\, x_{13} x_{23}}, a_{45} : r_{145}\\right\\}\\right]</script></html>"
      ],
      "text/latex": [
       "$$\\newcommand{\\Bold}[1]{\\mathbf{#1}}\\left[\\left\\{d_{1} : r_{125}, d_{2} : 0, d_{3} : 0, d_{4} : r_{126}, d_{5} : r_{127}, a_{12} : r_{128}, a_{13} : r_{129}, a_{14} : r_{130}, a_{15} : r_{131}, a_{23} : r_{132}, a_{24} : r_{133}, a_{25} : r_{134}, a_{34} : 0, a_{35} : -\\frac{r_{127} x_{25}}{x_{23}}, a_{45} : r_{135}\\right\\}, \\left\\{d_{1} : r_{136}, d_{2} : r_{137}, d_{3} : \\frac{r_{137}}{x_{23}}, d_{4} : r_{138}, d_{5} : \\frac{r_{136} x_{23}}{2 \\, x_{13} x_{25}}, a_{12} : \\frac{r_{137} x_{13} - r_{136} x_{23}}{x_{23}}, a_{13} : r_{139}, a_{14} : r_{140}, a_{15} : r_{141}, a_{23} : r_{142}, a_{24} : r_{143}, a_{25} : r_{144}, a_{34} : 0, a_{35} : \\frac{2 \\, r_{137} x_{13} - r_{136} x_{23}}{2 \\, x_{13} x_{23}}, a_{45} : r_{145}\\right\\}\\right]$$"
      ],
      "text/plain": [
       "[{d1: r125,\n",
       "  d2: 0,\n",
       "  d3: 0,\n",
       "  d4: r126,\n",
       "  d5: r127,\n",
       "  a12: r128,\n",
       "  a13: r129,\n",
       "  a14: r130,\n",
       "  a15: r131,\n",
       "  a23: r132,\n",
       "  a24: r133,\n",
       "  a25: r134,\n",
       "  a34: 0,\n",
       "  a35: -r127*x25/x23,\n",
       "  a45: r135},\n",
       " {d1: r136,\n",
       "  d2: r137,\n",
       "  d3: r137/x23,\n",
       "  d4: r138,\n",
       "  d5: 1/2*r136*x23/(x13*x25),\n",
       "  a12: (r137*x13 - r136*x23)/x23,\n",
       "  a13: r139,\n",
       "  a14: r140,\n",
       "  a15: r141,\n",
       "  a23: r142,\n",
       "  a24: r143,\n",
       "  a25: r144,\n",
       "  a34: 0,\n",
       "  a35: 1/2*(2*r137*x13 - r136*x23)/(x13*x23),\n",
       "  a45: r145}]"
      ]
     },
     "metadata": {},
     "output_type": "display_data"
    }
   ],
   "source": [
    "#x3\n",
    "#----------------------\n",
    "#x15 \\neq -x13*x25/x23\n",
    "#----------------------\n",
    "reset()\n",
    "\n",
    "var('x12,x13,x14,x15,x23,x24,x25,x34,x35,x45')\n",
    "var('d1,d2,d3,d4,d5')\n",
    "var('a12,a13,a14,a15,a23,a24,a25,a34,a35,a45')\n",
    "\n",
    "#001101\n",
    "eq1=(d2*d3*x13-a12*d3*x23)/(d1*d2) \n",
    "eq2=(a34*d2*x13+d2*d4*0-a12*a34*x23-a12*d4*0)/(d1*d2) \n",
    "eq3=(a35*d2*d3*x13+a45*d2*d3*0+d2*d3*d5*((-x13*x25)/x23)-a12*a35*d3*x23-a12*a45*d3*0-a12*d3*d5*x25+a12*a23*d5*0-a13*d2*d5*0)/(d1*d2*d3) \n",
    "eq4=(d3*x23)/(d2) \n",
    "eq5=(a34*x23+d4*0)/(d2) \n",
    "eq6=(a35*d3*x23+a45*d3*0+d3*d5*x25-a23*d5*0)/(d2*d3) \n",
    "eq7=(d5*0)/(d3) \n",
    "\n",
    "m=matrix(QQ, [[0, 0, 1, 0, 0],\n",
    "              [0, 0, 1, 0, 1],\n",
    "              [0, 0, 0, 0, 0],\n",
    "              [0, 0, 0, 0, 0],\n",
    "              [0, 0, 0, 0, 0]])\n",
    "        \n",
    "#entry of matrix: (i,j) line i collum j, means (i-1,j-1)\n",
    "sol=solve([ eq1==m[0,2],\teq2==m[0,3],\teq3==m[0,4],\teq4==m[1,2],\t\n",
    "                                            eq5==m[1,3],    eq6==m[1,4],\n",
    "                                                            eq7==m[2,4]],d1,d2,d3,d4,d5,a12,a13,a14,a15,a23,a24,a25,a34,a35,a45, solution_dict=True)\n",
    "\n",
    "show(m)\n",
    "show(sol)\n",
    "#latex(sol)"
   ]
  },
  {
   "cell_type": "code",
   "execution_count": 15,
   "metadata": {},
   "outputs": [
    {
     "data": {
      "text/html": [
       "<html><script type=\"math/tex; mode=display\">\\newcommand{\\Bold}[1]{\\mathbf{#1}}\\left(\\begin{array}{rrrrr}\n",
       "0 & 0 & 1 & 1 & 0 \\\\\n",
       "0 & 0 & 1 & 0 & 1 \\\\\n",
       "0 & 0 & 0 & 0 & 0 \\\\\n",
       "0 & 0 & 0 & 0 & 0 \\\\\n",
       "0 & 0 & 0 & 0 & 0\n",
       "\\end{array}\\right)</script></html>"
      ],
      "text/latex": [
       "$$\\newcommand{\\Bold}[1]{\\mathbf{#1}}\\left(\\begin{array}{rrrrr}\n",
       "0 & 0 & 1 & 1 & 0 \\\\\n",
       "0 & 0 & 1 & 0 & 1 \\\\\n",
       "0 & 0 & 0 & 0 & 0 \\\\\n",
       "0 & 0 & 0 & 0 & 0 \\\\\n",
       "0 & 0 & 0 & 0 & 0\n",
       "\\end{array}\\right)$$"
      ],
      "text/plain": [
       "[0 0 1 1 0]\n",
       "[0 0 1 0 1]\n",
       "[0 0 0 0 0]\n",
       "[0 0 0 0 0]\n",
       "[0 0 0 0 0]"
      ]
     },
     "metadata": {},
     "output_type": "display_data"
    },
    {
     "data": {
      "text/html": [
       "<html><script type=\"math/tex; mode=display\">\\newcommand{\\Bold}[1]{\\mathbf{#1}}\\left[\\left\\{d_{1} : r_{292}, d_{2} : 0, d_{3} : 0, d_{4} : r_{293}, d_{5} : r_{294}, a_{12} : r_{295}, a_{13} : r_{296}, a_{14} : r_{297}, a_{15} : r_{298}, a_{23} : r_{299}, a_{24} : r_{300}, a_{25} : r_{301}, a_{34} : 0, a_{35} : -\\frac{r_{294} x_{25}}{x_{23}}, a_{45} : r_{302}\\right\\}, \\left\\{d_{1} : r_{303}, d_{2} : r_{304}, d_{3} : \\frac{r_{304}}{x_{23}}, d_{4} : \\frac{r_{303}}{x_{14}}, d_{5} : r_{305}, a_{12} : \\frac{r_{304} x_{13} - r_{303} x_{23}}{x_{23}}, a_{13} : r_{306}, a_{14} : r_{307}, a_{15} : r_{308}, a_{23} : r_{309}, a_{24} : r_{310}, a_{25} : r_{311}, a_{34} : 0, a_{35} : -\\frac{r_{305} x_{25} - r_{304}}{x_{23}}, a_{45} : \\frac{r_{305} x_{13} x_{25} - r_{303} x_{23}}{x_{14} x_{23}}\\right\\}\\right]</script></html>"
      ],
      "text/latex": [
       "$$\\newcommand{\\Bold}[1]{\\mathbf{#1}}\\left[\\left\\{d_{1} : r_{292}, d_{2} : 0, d_{3} : 0, d_{4} : r_{293}, d_{5} : r_{294}, a_{12} : r_{295}, a_{13} : r_{296}, a_{14} : r_{297}, a_{15} : r_{298}, a_{23} : r_{299}, a_{24} : r_{300}, a_{25} : r_{301}, a_{34} : 0, a_{35} : -\\frac{r_{294} x_{25}}{x_{23}}, a_{45} : r_{302}\\right\\}, \\left\\{d_{1} : r_{303}, d_{2} : r_{304}, d_{3} : \\frac{r_{304}}{x_{23}}, d_{4} : \\frac{r_{303}}{x_{14}}, d_{5} : r_{305}, a_{12} : \\frac{r_{304} x_{13} - r_{303} x_{23}}{x_{23}}, a_{13} : r_{306}, a_{14} : r_{307}, a_{15} : r_{308}, a_{23} : r_{309}, a_{24} : r_{310}, a_{25} : r_{311}, a_{34} : 0, a_{35} : -\\frac{r_{305} x_{25} - r_{304}}{x_{23}}, a_{45} : \\frac{r_{305} x_{13} x_{25} - r_{303} x_{23}}{x_{14} x_{23}}\\right\\}\\right]$$"
      ],
      "text/plain": [
       "[{d1: r292,\n",
       "  d2: 0,\n",
       "  d3: 0,\n",
       "  d4: r293,\n",
       "  d5: r294,\n",
       "  a12: r295,\n",
       "  a13: r296,\n",
       "  a14: r297,\n",
       "  a15: r298,\n",
       "  a23: r299,\n",
       "  a24: r300,\n",
       "  a25: r301,\n",
       "  a34: 0,\n",
       "  a35: -r294*x25/x23,\n",
       "  a45: r302},\n",
       " {d1: r303,\n",
       "  d2: r304,\n",
       "  d3: r304/x23,\n",
       "  d4: r303/x14,\n",
       "  d5: r305,\n",
       "  a12: (r304*x13 - r303*x23)/x23,\n",
       "  a13: r306,\n",
       "  a14: r307,\n",
       "  a15: r308,\n",
       "  a23: r309,\n",
       "  a24: r310,\n",
       "  a25: r311,\n",
       "  a34: 0,\n",
       "  a35: -(r305*x25 - r304)/x23,\n",
       "  a45: (r305*x13*x25 - r303*x23)/(x14*x23)}]"
      ]
     },
     "metadata": {},
     "output_type": "display_data"
    }
   ],
   "source": [
    "#x3\n",
    "reset()\n",
    "\n",
    "var('x12,x13,x14,x15,x23,x24,x25,x34,x35,x45')\n",
    "var('d1,d2,d3,d4,d5')\n",
    "var('a12,a13,a14,a15,a23,a24,a25,a34,a35,a45')\n",
    "\n",
    "load_attach_path('C:\\\\Users\\\\julia\\\\Documents\\\\unb\\\\doutorado\\\\pensar\\\\codigo_sage_v2\\\\maquina\\\\x3')\n",
    "load('out_#001110.sage')\n",
    "\n",
    "m=matrix(QQ, [[0, 0, 1, 1, 0],\n",
    "              [0, 0, 1, 0, 1],\n",
    "              [0, 0, 0, 0, 0],\n",
    "              [0, 0, 0, 0, 0],\n",
    "              [0, 0, 0, 0, 0]])\n",
    "        \n",
    "#entry of matrix: (i,j) line i collum j, means (i-1,j-1)\n",
    "sol=solve([ eq1==m[0,2],\teq2==m[0,3],\teq3==m[0,4],\teq4==m[1,2],\t\n",
    "                                            eq5==m[1,3],    eq6==m[1,4],\n",
    "                                                            eq7==m[2,4]],d1,d2,d3,d4,d5,a12,a13,a14,a15,a23,a24,a25,a34,a35,a45, solution_dict=True)\n",
    "\n",
    "show(m)\n",
    "show(sol)\n",
    "#latex(sol)"
   ]
  },
  {
   "cell_type": "code",
   "execution_count": 16,
   "metadata": {},
   "outputs": [
    {
     "data": {
      "text/html": [
       "<html><script type=\"math/tex; mode=display\">\\newcommand{\\Bold}[1]{\\mathbf{#1}}\\left(\\begin{array}{rrrrr}\n",
       "0 & 0 & 1 & 1 & 1 \\\\\n",
       "0 & 0 & 1 & 0 & 1 \\\\\n",
       "0 & 0 & 0 & 0 & 0 \\\\\n",
       "0 & 0 & 0 & 0 & 0 \\\\\n",
       "0 & 0 & 0 & 0 & 0\n",
       "\\end{array}\\right)</script></html>"
      ],
      "text/latex": [
       "$$\\newcommand{\\Bold}[1]{\\mathbf{#1}}\\left(\\begin{array}{rrrrr}\n",
       "0 & 0 & 1 & 1 & 1 \\\\\n",
       "0 & 0 & 1 & 0 & 1 \\\\\n",
       "0 & 0 & 0 & 0 & 0 \\\\\n",
       "0 & 0 & 0 & 0 & 0 \\\\\n",
       "0 & 0 & 0 & 0 & 0\n",
       "\\end{array}\\right)$$"
      ],
      "text/plain": [
       "[0 0 1 1 1]\n",
       "[0 0 1 0 1]\n",
       "[0 0 0 0 0]\n",
       "[0 0 0 0 0]\n",
       "[0 0 0 0 0]"
      ]
     },
     "metadata": {},
     "output_type": "display_data"
    },
    {
     "data": {
      "text/html": [
       "<html><script type=\"math/tex; mode=display\">\\newcommand{\\Bold}[1]{\\mathbf{#1}}\\left[\\left\\{d_{1} : r_{312}, d_{2} : 0, d_{3} : 0, d_{4} : r_{313}, d_{5} : r_{314}, a_{12} : r_{315}, a_{13} : r_{316}, a_{14} : r_{317}, a_{15} : r_{318}, a_{23} : r_{319}, a_{24} : r_{320}, a_{25} : r_{321}, a_{34} : 0, a_{35} : -\\frac{r_{314} x_{25}}{x_{23}}, a_{45} : r_{322}\\right\\}, \\left\\{d_{1} : r_{323}, d_{2} : r_{324}, d_{3} : \\frac{r_{324}}{x_{23}}, d_{4} : \\frac{r_{323}}{x_{14}}, d_{5} : r_{325}, a_{12} : \\frac{r_{324} x_{13} - r_{323} x_{23}}{x_{23}}, a_{13} : r_{326}, a_{14} : r_{327}, a_{15} : r_{328}, a_{23} : r_{329}, a_{24} : r_{330}, a_{25} : r_{331}, a_{34} : 0, a_{35} : -\\frac{r_{325} x_{25} - r_{324}}{x_{23}}, a_{45} : -\\frac{r_{325} x_{15} x_{23} - r_{325} x_{13} x_{25}}{x_{14} x_{23}}\\right\\}\\right]</script></html>"
      ],
      "text/latex": [
       "$$\\newcommand{\\Bold}[1]{\\mathbf{#1}}\\left[\\left\\{d_{1} : r_{312}, d_{2} : 0, d_{3} : 0, d_{4} : r_{313}, d_{5} : r_{314}, a_{12} : r_{315}, a_{13} : r_{316}, a_{14} : r_{317}, a_{15} : r_{318}, a_{23} : r_{319}, a_{24} : r_{320}, a_{25} : r_{321}, a_{34} : 0, a_{35} : -\\frac{r_{314} x_{25}}{x_{23}}, a_{45} : r_{322}\\right\\}, \\left\\{d_{1} : r_{323}, d_{2} : r_{324}, d_{3} : \\frac{r_{324}}{x_{23}}, d_{4} : \\frac{r_{323}}{x_{14}}, d_{5} : r_{325}, a_{12} : \\frac{r_{324} x_{13} - r_{323} x_{23}}{x_{23}}, a_{13} : r_{326}, a_{14} : r_{327}, a_{15} : r_{328}, a_{23} : r_{329}, a_{24} : r_{330}, a_{25} : r_{331}, a_{34} : 0, a_{35} : -\\frac{r_{325} x_{25} - r_{324}}{x_{23}}, a_{45} : -\\frac{r_{325} x_{15} x_{23} - r_{325} x_{13} x_{25}}{x_{14} x_{23}}\\right\\}\\right]$$"
      ],
      "text/plain": [
       "[{d1: r312,\n",
       "  d2: 0,\n",
       "  d3: 0,\n",
       "  d4: r313,\n",
       "  d5: r314,\n",
       "  a12: r315,\n",
       "  a13: r316,\n",
       "  a14: r317,\n",
       "  a15: r318,\n",
       "  a23: r319,\n",
       "  a24: r320,\n",
       "  a25: r321,\n",
       "  a34: 0,\n",
       "  a35: -r314*x25/x23,\n",
       "  a45: r322},\n",
       " {d1: r323,\n",
       "  d2: r324,\n",
       "  d3: r324/x23,\n",
       "  d4: r323/x14,\n",
       "  d5: r325,\n",
       "  a12: (r324*x13 - r323*x23)/x23,\n",
       "  a13: r326,\n",
       "  a14: r327,\n",
       "  a15: r328,\n",
       "  a23: r329,\n",
       "  a24: r330,\n",
       "  a25: r331,\n",
       "  a34: 0,\n",
       "  a35: -(r325*x25 - r324)/x23,\n",
       "  a45: -(r325*x15*x23 - r325*x13*x25)/(x14*x23)}]"
      ]
     },
     "metadata": {},
     "output_type": "display_data"
    }
   ],
   "source": [
    "#x3\n",
    "reset()\n",
    "\n",
    "var('x12,x13,x14,x15,x23,x24,x25,x34,x35,x45')\n",
    "var('d1,d2,d3,d4,d5')\n",
    "var('a12,a13,a14,a15,a23,a24,a25,a34,a35,a45')\n",
    "\n",
    "load_attach_path('C:\\\\Users\\\\julia\\\\Documents\\\\unb\\\\doutorado\\\\pensar\\\\codigo_sage_v2\\\\maquina\\\\x3')\n",
    "load('out_#001111.sage')\n",
    "\n",
    "m=matrix(QQ, [[0, 0, 1, 1, 1],\n",
    "              [0, 0, 1, 0, 1],\n",
    "              [0, 0, 0, 0, 0],\n",
    "              [0, 0, 0, 0, 0],\n",
    "              [0, 0, 0, 0, 0]])\n",
    "        \n",
    "#entry of matrix: (i,j) line i collum j, means (i-1,j-1)\n",
    "sol=solve([ eq1==m[0,2],\teq2==m[0,3],\teq3==m[0,4],\teq4==m[1,2],\t\n",
    "                                            eq5==m[1,3],    eq6==m[1,4],\n",
    "                                                            eq7==m[2,4]],d1,d2,d3,d4,d5,a12,a13,a14,a15,a23,a24,a25,a34,a35,a45, solution_dict=True)\n",
    "\n",
    "show(m)\n",
    "show(sol)\n",
    "#latex(sol)"
   ]
  },
  {
   "cell_type": "code",
   "execution_count": 17,
   "metadata": {},
   "outputs": [
    {
     "data": {
      "text/html": [
       "<html><script type=\"math/tex; mode=display\">\\newcommand{\\Bold}[1]{\\mathbf{#1}}\\left(\\begin{array}{rrrrr}\n",
       "0 & 0 & 0 & 0 & 0 \\\\\n",
       "0 & 0 & 1 & 1 & 0 \\\\\n",
       "0 & 0 & 0 & 0 & 0 \\\\\n",
       "0 & 0 & 0 & 0 & 0 \\\\\n",
       "0 & 0 & 0 & 0 & 0\n",
       "\\end{array}\\right)</script></html>"
      ],
      "text/latex": [
       "$$\\newcommand{\\Bold}[1]{\\mathbf{#1}}\\left(\\begin{array}{rrrrr}\n",
       "0 & 0 & 0 & 0 & 0 \\\\\n",
       "0 & 0 & 1 & 1 & 0 \\\\\n",
       "0 & 0 & 0 & 0 & 0 \\\\\n",
       "0 & 0 & 0 & 0 & 0 \\\\\n",
       "0 & 0 & 0 & 0 & 0\n",
       "\\end{array}\\right)$$"
      ],
      "text/plain": [
       "[0 0 0 0 0]\n",
       "[0 0 1 1 0]\n",
       "[0 0 0 0 0]\n",
       "[0 0 0 0 0]\n",
       "[0 0 0 0 0]"
      ]
     },
     "metadata": {},
     "output_type": "display_data"
    },
    {
     "data": {
      "text/html": [
       "<html><script type=\"math/tex; mode=display\">\\newcommand{\\Bold}[1]{\\mathbf{#1}}\\left[\\left\\{d_{1} : r_{332}, d_{2} : 0, d_{3} : 0, d_{4} : r_{333}, d_{5} : r_{334}, a_{12} : r_{335}, a_{13} : r_{336}, a_{14} : r_{337}, a_{15} : r_{338}, a_{23} : r_{339}, a_{24} : r_{340}, a_{25} : r_{341}, a_{34} : -\\frac{r_{333} x_{24}}{x_{23}}, a_{35} : r_{342}, a_{45} : -\\frac{r_{342} x_{23}}{x_{24}}\\right\\}, \\left\\{d_{1} : r_{343}, d_{2} : r_{344}, d_{3} : \\frac{r_{344}}{x_{23}}, d_{4} : r_{345}, d_{5} : r_{346}, a_{12} : 0, a_{13} : r_{347}, a_{14} : r_{348}, a_{15} : r_{349}, a_{23} : r_{350}, a_{24} : r_{351}, a_{25} : r_{352}, a_{34} : -\\frac{r_{345} x_{24} - r_{344}}{x_{23}}, a_{35} : r_{353}, a_{45} : -\\frac{r_{353} x_{23}}{x_{24}}\\right\\}\\right]</script></html>"
      ],
      "text/latex": [
       "$$\\newcommand{\\Bold}[1]{\\mathbf{#1}}\\left[\\left\\{d_{1} : r_{332}, d_{2} : 0, d_{3} : 0, d_{4} : r_{333}, d_{5} : r_{334}, a_{12} : r_{335}, a_{13} : r_{336}, a_{14} : r_{337}, a_{15} : r_{338}, a_{23} : r_{339}, a_{24} : r_{340}, a_{25} : r_{341}, a_{34} : -\\frac{r_{333} x_{24}}{x_{23}}, a_{35} : r_{342}, a_{45} : -\\frac{r_{342} x_{23}}{x_{24}}\\right\\}, \\left\\{d_{1} : r_{343}, d_{2} : r_{344}, d_{3} : \\frac{r_{344}}{x_{23}}, d_{4} : r_{345}, d_{5} : r_{346}, a_{12} : 0, a_{13} : r_{347}, a_{14} : r_{348}, a_{15} : r_{349}, a_{23} : r_{350}, a_{24} : r_{351}, a_{25} : r_{352}, a_{34} : -\\frac{r_{345} x_{24} - r_{344}}{x_{23}}, a_{35} : r_{353}, a_{45} : -\\frac{r_{353} x_{23}}{x_{24}}\\right\\}\\right]$$"
      ],
      "text/plain": [
       "[{d1: r332,\n",
       "  d2: 0,\n",
       "  d3: 0,\n",
       "  d4: r333,\n",
       "  d5: r334,\n",
       "  a12: r335,\n",
       "  a13: r336,\n",
       "  a14: r337,\n",
       "  a15: r338,\n",
       "  a23: r339,\n",
       "  a24: r340,\n",
       "  a25: r341,\n",
       "  a34: -r333*x24/x23,\n",
       "  a35: r342,\n",
       "  a45: -r342*x23/x24},\n",
       " {d1: r343,\n",
       "  d2: r344,\n",
       "  d3: r344/x23,\n",
       "  d4: r345,\n",
       "  d5: r346,\n",
       "  a12: 0,\n",
       "  a13: r347,\n",
       "  a14: r348,\n",
       "  a15: r349,\n",
       "  a23: r350,\n",
       "  a24: r351,\n",
       "  a25: r352,\n",
       "  a34: -(r345*x24 - r344)/x23,\n",
       "  a35: r353,\n",
       "  a45: -r353*x23/x24}]"
      ]
     },
     "metadata": {},
     "output_type": "display_data"
    }
   ],
   "source": [
    "#x3\n",
    "reset()\n",
    "\n",
    "var('x12,x13,x14,x15,x23,x24,x25,x34,x35,x45')\n",
    "var('d1,d2,d3,d4,d5')\n",
    "var('a12,a13,a14,a15,a23,a24,a25,a34,a35,a45')\n",
    "\n",
    "load_attach_path('C:\\\\Users\\\\julia\\\\Documents\\\\unb\\\\doutorado\\\\pensar\\\\codigo_sage_v2\\\\maquina\\\\x3')\n",
    "load('out_#010000.sage')\n",
    "\n",
    "m=matrix(QQ, [[0, 0, 0, 0, 0],\n",
    "              [0, 0, 1, 1, 0],\n",
    "              [0, 0, 0, 0, 0],\n",
    "              [0, 0, 0, 0, 0],\n",
    "              [0, 0, 0, 0, 0]])\n",
    "        \n",
    "#entry of matrix: (i,j) line i collum j, means (i-1,j-1)\n",
    "sol=solve([ eq1==m[0,2],\teq2==m[0,3],\teq3==m[0,4],\teq4==m[1,2],\t\n",
    "                                            eq5==m[1,3],    eq6==m[1,4],\n",
    "                                                            eq7==m[2,4]],d1,d2,d3,d4,d5,a12,a13,a14,a15,a23,a24,a25,a34,a35,a45, solution_dict=True)\n",
    "\n",
    "show(m)\n",
    "show(sol)\n",
    "#latex(sol)"
   ]
  },
  {
   "cell_type": "code",
   "execution_count": 18,
   "metadata": {},
   "outputs": [
    {
     "data": {
      "text/html": [
       "<html><script type=\"math/tex; mode=display\">\\newcommand{\\Bold}[1]{\\mathbf{#1}}\\left(\\begin{array}{rrrrr}\n",
       "0 & 0 & 0 & 0 & 1 \\\\\n",
       "0 & 0 & 1 & 1 & 0 \\\\\n",
       "0 & 0 & 0 & 0 & 0 \\\\\n",
       "0 & 0 & 0 & 0 & 0 \\\\\n",
       "0 & 0 & 0 & 0 & 0\n",
       "\\end{array}\\right)</script></html>"
      ],
      "text/latex": [
       "$$\\newcommand{\\Bold}[1]{\\mathbf{#1}}\\left(\\begin{array}{rrrrr}\n",
       "0 & 0 & 0 & 0 & 1 \\\\\n",
       "0 & 0 & 1 & 1 & 0 \\\\\n",
       "0 & 0 & 0 & 0 & 0 \\\\\n",
       "0 & 0 & 0 & 0 & 0 \\\\\n",
       "0 & 0 & 0 & 0 & 0\n",
       "\\end{array}\\right)$$"
      ],
      "text/plain": [
       "[0 0 0 0 1]\n",
       "[0 0 1 1 0]\n",
       "[0 0 0 0 0]\n",
       "[0 0 0 0 0]\n",
       "[0 0 0 0 0]"
      ]
     },
     "metadata": {},
     "output_type": "display_data"
    },
    {
     "data": {
      "text/html": [
       "<html><script type=\"math/tex; mode=display\">\\newcommand{\\Bold}[1]{\\mathbf{#1}}\\left[\\left\\{d_{1} : r_{354}, d_{2} : 0, d_{3} : 0, d_{4} : r_{355}, d_{5} : r_{356}, a_{12} : r_{357}, a_{13} : r_{358}, a_{14} : r_{359}, a_{15} : r_{360}, a_{23} : r_{361}, a_{24} : r_{362}, a_{25} : r_{363}, a_{34} : -\\frac{r_{355} x_{24}}{x_{23}}, a_{35} : r_{364}, a_{45} : -\\frac{r_{364} x_{23}}{x_{24}}\\right\\}, \\left\\{d_{1} : r_{365}, d_{2} : r_{366}, d_{3} : \\frac{r_{366}}{x_{23}}, d_{4} : r_{367}, d_{5} : \\frac{r_{365}}{x_{15}}, a_{12} : 0, a_{13} : r_{368}, a_{14} : r_{369}, a_{15} : r_{370}, a_{23} : r_{371}, a_{24} : r_{372}, a_{25} : r_{373}, a_{34} : -\\frac{r_{367} x_{24} - r_{366}}{x_{23}}, a_{35} : r_{374}, a_{45} : -\\frac{r_{374} x_{23}}{x_{24}}\\right\\}\\right]</script></html>"
      ],
      "text/latex": [
       "$$\\newcommand{\\Bold}[1]{\\mathbf{#1}}\\left[\\left\\{d_{1} : r_{354}, d_{2} : 0, d_{3} : 0, d_{4} : r_{355}, d_{5} : r_{356}, a_{12} : r_{357}, a_{13} : r_{358}, a_{14} : r_{359}, a_{15} : r_{360}, a_{23} : r_{361}, a_{24} : r_{362}, a_{25} : r_{363}, a_{34} : -\\frac{r_{355} x_{24}}{x_{23}}, a_{35} : r_{364}, a_{45} : -\\frac{r_{364} x_{23}}{x_{24}}\\right\\}, \\left\\{d_{1} : r_{365}, d_{2} : r_{366}, d_{3} : \\frac{r_{366}}{x_{23}}, d_{4} : r_{367}, d_{5} : \\frac{r_{365}}{x_{15}}, a_{12} : 0, a_{13} : r_{368}, a_{14} : r_{369}, a_{15} : r_{370}, a_{23} : r_{371}, a_{24} : r_{372}, a_{25} : r_{373}, a_{34} : -\\frac{r_{367} x_{24} - r_{366}}{x_{23}}, a_{35} : r_{374}, a_{45} : -\\frac{r_{374} x_{23}}{x_{24}}\\right\\}\\right]$$"
      ],
      "text/plain": [
       "[{d1: r354,\n",
       "  d2: 0,\n",
       "  d3: 0,\n",
       "  d4: r355,\n",
       "  d5: r356,\n",
       "  a12: r357,\n",
       "  a13: r358,\n",
       "  a14: r359,\n",
       "  a15: r360,\n",
       "  a23: r361,\n",
       "  a24: r362,\n",
       "  a25: r363,\n",
       "  a34: -r355*x24/x23,\n",
       "  a35: r364,\n",
       "  a45: -r364*x23/x24},\n",
       " {d1: r365,\n",
       "  d2: r366,\n",
       "  d3: r366/x23,\n",
       "  d4: r367,\n",
       "  d5: r365/x15,\n",
       "  a12: 0,\n",
       "  a13: r368,\n",
       "  a14: r369,\n",
       "  a15: r370,\n",
       "  a23: r371,\n",
       "  a24: r372,\n",
       "  a25: r373,\n",
       "  a34: -(r367*x24 - r366)/x23,\n",
       "  a35: r374,\n",
       "  a45: -r374*x23/x24}]"
      ]
     },
     "metadata": {},
     "output_type": "display_data"
    }
   ],
   "source": [
    "#x3\n",
    "reset()\n",
    "\n",
    "var('x12,x13,x14,x15,x23,x24,x25,x34,x35,x45')\n",
    "var('d1,d2,d3,d4,d5')\n",
    "var('a12,a13,a14,a15,a23,a24,a25,a34,a35,a45')\n",
    "\n",
    "load_attach_path('C:\\\\Users\\\\julia\\\\Documents\\\\unb\\\\doutorado\\\\pensar\\\\codigo_sage_v2\\\\maquina\\\\x3')\n",
    "load('out_#010001.sage')\n",
    "\n",
    "m=matrix(QQ, [[0, 0, 0, 0, 1],\n",
    "              [0, 0, 1, 1, 0],\n",
    "              [0, 0, 0, 0, 0],\n",
    "              [0, 0, 0, 0, 0],\n",
    "              [0, 0, 0, 0, 0]])\n",
    "        \n",
    "#entry of matrix: (i,j) line i collum j, means (i-1,j-1)\n",
    "sol=solve([ eq1==m[0,2],\teq2==m[0,3],\teq3==m[0,4],\teq4==m[1,2],\t\n",
    "                                            eq5==m[1,3],    eq6==m[1,4],\n",
    "                                                            eq7==m[2,4]],d1,d2,d3,d4,d5,a12,a13,a14,a15,a23,a24,a25,a34,a35,a45, solution_dict=True)\n",
    "\n",
    "show(m)\n",
    "show(sol)\n",
    "#latex(sol)"
   ]
  },
  {
   "cell_type": "code",
   "execution_count": 19,
   "metadata": {},
   "outputs": [
    {
     "data": {
      "text/html": [
       "<html><script type=\"math/tex; mode=display\">\\newcommand{\\Bold}[1]{\\mathbf{#1}}\\left(\\begin{array}{rrrrr}\n",
       "0 & 0 & 0 & 1 & 0 \\\\\n",
       "0 & 0 & 1 & 1 & 0 \\\\\n",
       "0 & 0 & 0 & 0 & 0 \\\\\n",
       "0 & 0 & 0 & 0 & 0 \\\\\n",
       "0 & 0 & 0 & 0 & 0\n",
       "\\end{array}\\right)</script></html>"
      ],
      "text/latex": [
       "$$\\newcommand{\\Bold}[1]{\\mathbf{#1}}\\left(\\begin{array}{rrrrr}\n",
       "0 & 0 & 0 & 1 & 0 \\\\\n",
       "0 & 0 & 1 & 1 & 0 \\\\\n",
       "0 & 0 & 0 & 0 & 0 \\\\\n",
       "0 & 0 & 0 & 0 & 0 \\\\\n",
       "0 & 0 & 0 & 0 & 0\n",
       "\\end{array}\\right)$$"
      ],
      "text/plain": [
       "[0 0 0 1 0]\n",
       "[0 0 1 1 0]\n",
       "[0 0 0 0 0]\n",
       "[0 0 0 0 0]\n",
       "[0 0 0 0 0]"
      ]
     },
     "metadata": {},
     "output_type": "display_data"
    },
    {
     "data": {
      "text/html": [
       "<html><script type=\"math/tex; mode=display\">\\newcommand{\\Bold}[1]{\\mathbf{#1}}\\left[\\left\\{d_{1} : r_{375}, d_{2} : 0, d_{3} : 0, d_{4} : r_{376}, d_{5} : r_{377}, a_{12} : r_{378}, a_{13} : r_{379}, a_{14} : r_{380}, a_{15} : r_{381}, a_{23} : r_{382}, a_{24} : r_{383}, a_{25} : r_{384}, a_{34} : -\\frac{r_{376} x_{24}}{x_{23}}, a_{35} : r_{385}, a_{45} : -\\frac{r_{385} x_{23}}{x_{24}}\\right\\}, \\left\\{d_{1} : r_{386}, d_{2} : 0, d_{3} : 0, d_{4} : \\frac{r_{386}}{x_{14}}, d_{5} : r_{387}, a_{12} : 0, a_{13} : r_{388}, a_{14} : r_{389}, a_{15} : r_{390}, a_{23} : r_{391}, a_{24} : r_{392}, a_{25} : r_{393}, a_{34} : -\\frac{r_{386} x_{24}}{x_{14} x_{23}}, a_{35} : r_{394}, a_{45} : -\\frac{r_{394} x_{23}}{x_{24}}\\right\\}, \\left\\{d_{1} : r_{395}, d_{2} : r_{396}, d_{3} : \\frac{r_{396}}{x_{23}}, d_{4} : \\frac{r_{395}}{x_{14}}, d_{5} : r_{397}, a_{12} : 0, a_{13} : r_{398}, a_{14} : r_{399}, a_{15} : r_{400}, a_{23} : r_{401}, a_{24} : r_{402}, a_{25} : r_{403}, a_{34} : \\frac{r_{396} x_{14} - r_{395} x_{24}}{x_{14} x_{23}}, a_{35} : 0, a_{45} : 0\\right\\}\\right]</script></html>"
      ],
      "text/latex": [
       "$$\\newcommand{\\Bold}[1]{\\mathbf{#1}}\\left[\\left\\{d_{1} : r_{375}, d_{2} : 0, d_{3} : 0, d_{4} : r_{376}, d_{5} : r_{377}, a_{12} : r_{378}, a_{13} : r_{379}, a_{14} : r_{380}, a_{15} : r_{381}, a_{23} : r_{382}, a_{24} : r_{383}, a_{25} : r_{384}, a_{34} : -\\frac{r_{376} x_{24}}{x_{23}}, a_{35} : r_{385}, a_{45} : -\\frac{r_{385} x_{23}}{x_{24}}\\right\\}, \\left\\{d_{1} : r_{386}, d_{2} : 0, d_{3} : 0, d_{4} : \\frac{r_{386}}{x_{14}}, d_{5} : r_{387}, a_{12} : 0, a_{13} : r_{388}, a_{14} : r_{389}, a_{15} : r_{390}, a_{23} : r_{391}, a_{24} : r_{392}, a_{25} : r_{393}, a_{34} : -\\frac{r_{386} x_{24}}{x_{14} x_{23}}, a_{35} : r_{394}, a_{45} : -\\frac{r_{394} x_{23}}{x_{24}}\\right\\}, \\left\\{d_{1} : r_{395}, d_{2} : r_{396}, d_{3} : \\frac{r_{396}}{x_{23}}, d_{4} : \\frac{r_{395}}{x_{14}}, d_{5} : r_{397}, a_{12} : 0, a_{13} : r_{398}, a_{14} : r_{399}, a_{15} : r_{400}, a_{23} : r_{401}, a_{24} : r_{402}, a_{25} : r_{403}, a_{34} : \\frac{r_{396} x_{14} - r_{395} x_{24}}{x_{14} x_{23}}, a_{35} : 0, a_{45} : 0\\right\\}\\right]$$"
      ],
      "text/plain": [
       "[{d1: r375,\n",
       "  d2: 0,\n",
       "  d3: 0,\n",
       "  d4: r376,\n",
       "  d5: r377,\n",
       "  a12: r378,\n",
       "  a13: r379,\n",
       "  a14: r380,\n",
       "  a15: r381,\n",
       "  a23: r382,\n",
       "  a24: r383,\n",
       "  a25: r384,\n",
       "  a34: -r376*x24/x23,\n",
       "  a35: r385,\n",
       "  a45: -r385*x23/x24},\n",
       " {d1: r386,\n",
       "  d2: 0,\n",
       "  d3: 0,\n",
       "  d4: r386/x14,\n",
       "  d5: r387,\n",
       "  a12: 0,\n",
       "  a13: r388,\n",
       "  a14: r389,\n",
       "  a15: r390,\n",
       "  a23: r391,\n",
       "  a24: r392,\n",
       "  a25: r393,\n",
       "  a34: -r386*x24/(x14*x23),\n",
       "  a35: r394,\n",
       "  a45: -r394*x23/x24},\n",
       " {d1: r395,\n",
       "  d2: r396,\n",
       "  d3: r396/x23,\n",
       "  d4: r395/x14,\n",
       "  d5: r397,\n",
       "  a12: 0,\n",
       "  a13: r398,\n",
       "  a14: r399,\n",
       "  a15: r400,\n",
       "  a23: r401,\n",
       "  a24: r402,\n",
       "  a25: r403,\n",
       "  a34: (r396*x14 - r395*x24)/(x14*x23),\n",
       "  a35: 0,\n",
       "  a45: 0}]"
      ]
     },
     "metadata": {},
     "output_type": "display_data"
    }
   ],
   "source": [
    "#x3\n",
    "reset()\n",
    "\n",
    "var('x12,x13,x14,x15,x23,x24,x25,x34,x35,x45')\n",
    "var('d1,d2,d3,d4,d5')\n",
    "var('a12,a13,a14,a15,a23,a24,a25,a34,a35,a45')\n",
    "\n",
    "load_attach_path('C:\\\\Users\\\\julia\\\\Documents\\\\unb\\\\doutorado\\\\pensar\\\\codigo_sage_v2\\\\maquina\\\\x3')\n",
    "load('out_#010010.sage')\n",
    "\n",
    "m=matrix(QQ, [[0, 0, 0, 1, 0],\n",
    "              [0, 0, 1, 1, 0],\n",
    "              [0, 0, 0, 0, 0],\n",
    "              [0, 0, 0, 0, 0],\n",
    "              [0, 0, 0, 0, 0]])\n",
    "        \n",
    "#entry of matrix: (i,j) line i collum j, means (i-1,j-1)\n",
    "sol=solve([ eq1==m[0,2],\teq2==m[0,3],\teq3==m[0,4],\teq4==m[1,2],\t\n",
    "                                            eq5==m[1,3],    eq6==m[1,4],\n",
    "                                                            eq7==m[2,4]],d1,d2,d3,d4,d5,a12,a13,a14,a15,a23,a24,a25,a34,a35,a45, solution_dict=True)\n",
    "\n",
    "show(m)\n",
    "show(sol)\n",
    "#latex(sol)"
   ]
  },
  {
   "cell_type": "code",
   "execution_count": 20,
   "metadata": {},
   "outputs": [
    {
     "data": {
      "text/html": [
       "<html><script type=\"math/tex; mode=display\">\\newcommand{\\Bold}[1]{\\mathbf{#1}}\\left(\\begin{array}{rrrrr}\n",
       "0 & 0 & 0 & 1 & 1 \\\\\n",
       "0 & 0 & 1 & 1 & 0 \\\\\n",
       "0 & 0 & 0 & 0 & 0 \\\\\n",
       "0 & 0 & 0 & 0 & 0 \\\\\n",
       "0 & 0 & 0 & 0 & 0\n",
       "\\end{array}\\right)</script></html>"
      ],
      "text/latex": [
       "$$\\newcommand{\\Bold}[1]{\\mathbf{#1}}\\left(\\begin{array}{rrrrr}\n",
       "0 & 0 & 0 & 1 & 1 \\\\\n",
       "0 & 0 & 1 & 1 & 0 \\\\\n",
       "0 & 0 & 0 & 0 & 0 \\\\\n",
       "0 & 0 & 0 & 0 & 0 \\\\\n",
       "0 & 0 & 0 & 0 & 0\n",
       "\\end{array}\\right)$$"
      ],
      "text/plain": [
       "[0 0 0 1 1]\n",
       "[0 0 1 1 0]\n",
       "[0 0 0 0 0]\n",
       "[0 0 0 0 0]\n",
       "[0 0 0 0 0]"
      ]
     },
     "metadata": {},
     "output_type": "display_data"
    },
    {
     "data": {
      "text/html": [
       "<html><script type=\"math/tex; mode=display\">\\newcommand{\\Bold}[1]{\\mathbf{#1}}\\left[\\left\\{d_{1} : r_{404}, d_{2} : 0, d_{3} : 0, d_{4} : r_{405}, d_{5} : r_{406}, a_{12} : r_{407}, a_{13} : r_{408}, a_{14} : r_{409}, a_{15} : r_{410}, a_{23} : r_{411}, a_{24} : r_{412}, a_{25} : r_{413}, a_{34} : -\\frac{r_{405} x_{24}}{x_{23}}, a_{35} : r_{414}, a_{45} : -\\frac{r_{414} x_{23}}{x_{24}}\\right\\}, \\left\\{d_{1} : r_{415}, d_{2} : r_{416}, d_{3} : \\frac{r_{416}}{x_{23}}, d_{4} : \\frac{r_{415}}{x_{14}}, d_{5} : r_{417}, a_{12} : 0, a_{13} : r_{418}, a_{14} : r_{419}, a_{15} : r_{420}, a_{23} : r_{421}, a_{24} : r_{422}, a_{25} : r_{423}, a_{34} : \\frac{r_{416} x_{14} - r_{415} x_{24}}{x_{14} x_{23}}, a_{35} : \\frac{{\\left(r_{417} x_{15} - r_{415}\\right)} x_{24}}{x_{14} x_{23}}, a_{45} : -\\frac{r_{417} x_{15} - r_{415}}{x_{14}}\\right\\}, \\left\\{d_{1} : r_{424}, d_{2} : 0, d_{3} : 0, d_{4} : \\frac{r_{424}}{x_{14}}, d_{5} : r_{425}, a_{12} : 0, a_{13} : r_{426}, a_{14} : r_{427}, a_{15} : r_{428}, a_{23} : r_{429}, a_{24} : r_{430}, a_{25} : r_{431}, a_{34} : -\\frac{r_{424} x_{24}}{x_{14} x_{23}}, a_{35} : r_{432}, a_{45} : -\\frac{r_{432} x_{23}}{x_{24}}\\right\\}\\right]</script></html>"
      ],
      "text/latex": [
       "$$\\newcommand{\\Bold}[1]{\\mathbf{#1}}\\left[\\left\\{d_{1} : r_{404}, d_{2} : 0, d_{3} : 0, d_{4} : r_{405}, d_{5} : r_{406}, a_{12} : r_{407}, a_{13} : r_{408}, a_{14} : r_{409}, a_{15} : r_{410}, a_{23} : r_{411}, a_{24} : r_{412}, a_{25} : r_{413}, a_{34} : -\\frac{r_{405} x_{24}}{x_{23}}, a_{35} : r_{414}, a_{45} : -\\frac{r_{414} x_{23}}{x_{24}}\\right\\}, \\left\\{d_{1} : r_{415}, d_{2} : r_{416}, d_{3} : \\frac{r_{416}}{x_{23}}, d_{4} : \\frac{r_{415}}{x_{14}}, d_{5} : r_{417}, a_{12} : 0, a_{13} : r_{418}, a_{14} : r_{419}, a_{15} : r_{420}, a_{23} : r_{421}, a_{24} : r_{422}, a_{25} : r_{423}, a_{34} : \\frac{r_{416} x_{14} - r_{415} x_{24}}{x_{14} x_{23}}, a_{35} : \\frac{{\\left(r_{417} x_{15} - r_{415}\\right)} x_{24}}{x_{14} x_{23}}, a_{45} : -\\frac{r_{417} x_{15} - r_{415}}{x_{14}}\\right\\}, \\left\\{d_{1} : r_{424}, d_{2} : 0, d_{3} : 0, d_{4} : \\frac{r_{424}}{x_{14}}, d_{5} : r_{425}, a_{12} : 0, a_{13} : r_{426}, a_{14} : r_{427}, a_{15} : r_{428}, a_{23} : r_{429}, a_{24} : r_{430}, a_{25} : r_{431}, a_{34} : -\\frac{r_{424} x_{24}}{x_{14} x_{23}}, a_{35} : r_{432}, a_{45} : -\\frac{r_{432} x_{23}}{x_{24}}\\right\\}\\right]$$"
      ],
      "text/plain": [
       "[{d1: r404,\n",
       "  d2: 0,\n",
       "  d3: 0,\n",
       "  d4: r405,\n",
       "  d5: r406,\n",
       "  a12: r407,\n",
       "  a13: r408,\n",
       "  a14: r409,\n",
       "  a15: r410,\n",
       "  a23: r411,\n",
       "  a24: r412,\n",
       "  a25: r413,\n",
       "  a34: -r405*x24/x23,\n",
       "  a35: r414,\n",
       "  a45: -r414*x23/x24},\n",
       " {d1: r415,\n",
       "  d2: r416,\n",
       "  d3: r416/x23,\n",
       "  d4: r415/x14,\n",
       "  d5: r417,\n",
       "  a12: 0,\n",
       "  a13: r418,\n",
       "  a14: r419,\n",
       "  a15: r420,\n",
       "  a23: r421,\n",
       "  a24: r422,\n",
       "  a25: r423,\n",
       "  a34: (r416*x14 - r415*x24)/(x14*x23),\n",
       "  a35: (r417*x15 - r415)*x24/(x14*x23),\n",
       "  a45: -(r417*x15 - r415)/x14},\n",
       " {d1: r424,\n",
       "  d2: 0,\n",
       "  d3: 0,\n",
       "  d4: r424/x14,\n",
       "  d5: r425,\n",
       "  a12: 0,\n",
       "  a13: r426,\n",
       "  a14: r427,\n",
       "  a15: r428,\n",
       "  a23: r429,\n",
       "  a24: r430,\n",
       "  a25: r431,\n",
       "  a34: -r424*x24/(x14*x23),\n",
       "  a35: r432,\n",
       "  a45: -r432*x23/x24}]"
      ]
     },
     "metadata": {},
     "output_type": "display_data"
    }
   ],
   "source": [
    "#x3\n",
    "reset()\n",
    "\n",
    "var('x12,x13,x14,x15,x23,x24,x25,x34,x35,x45')\n",
    "var('d1,d2,d3,d4,d5')\n",
    "var('a12,a13,a14,a15,a23,a24,a25,a34,a35,a45')\n",
    "\n",
    "load_attach_path('C:\\\\Users\\\\julia\\\\Documents\\\\unb\\\\doutorado\\\\pensar\\\\codigo_sage_v2\\\\maquina\\\\x3')\n",
    "load('out_#010011.sage')\n",
    "\n",
    "m=matrix(QQ, [[0, 0, 0, 1, 1],\n",
    "              [0, 0, 1, 1, 0],\n",
    "              [0, 0, 0, 0, 0],\n",
    "              [0, 0, 0, 0, 0],\n",
    "              [0, 0, 0, 0, 0]])\n",
    "        \n",
    "#entry of matrix: (i,j) line i collum j, means (i-1,j-1)\n",
    "sol=solve([ eq1==m[0,2],\teq2==m[0,3],\teq3==m[0,4],\teq4==m[1,2],\t\n",
    "                                            eq5==m[1,3],    eq6==m[1,4],\n",
    "                                                            eq7==m[2,4]],d1,d2,d3,d4,d5,a12,a13,a14,a15,a23,a24,a25,a34,a35,a45, solution_dict=True)\n",
    "\n",
    "show(m)\n",
    "show(sol)\n",
    "#latex(sol)"
   ]
  },
  {
   "cell_type": "code",
   "execution_count": 21,
   "metadata": {},
   "outputs": [
    {
     "data": {
      "text/html": [
       "<html><script type=\"math/tex; mode=display\">\\newcommand{\\Bold}[1]{\\mathbf{#1}}\\left(\\begin{array}{rrrrr}\n",
       "0 & 0 & 1 & 0 & 0 \\\\\n",
       "0 & 0 & 1 & 1 & 0 \\\\\n",
       "0 & 0 & 0 & 0 & 0 \\\\\n",
       "0 & 0 & 0 & 0 & 0 \\\\\n",
       "0 & 0 & 0 & 0 & 0\n",
       "\\end{array}\\right)</script></html>"
      ],
      "text/latex": [
       "$$\\newcommand{\\Bold}[1]{\\mathbf{#1}}\\left(\\begin{array}{rrrrr}\n",
       "0 & 0 & 1 & 0 & 0 \\\\\n",
       "0 & 0 & 1 & 1 & 0 \\\\\n",
       "0 & 0 & 0 & 0 & 0 \\\\\n",
       "0 & 0 & 0 & 0 & 0 \\\\\n",
       "0 & 0 & 0 & 0 & 0\n",
       "\\end{array}\\right)$$"
      ],
      "text/plain": [
       "[0 0 1 0 0]\n",
       "[0 0 1 1 0]\n",
       "[0 0 0 0 0]\n",
       "[0 0 0 0 0]\n",
       "[0 0 0 0 0]"
      ]
     },
     "metadata": {},
     "output_type": "display_data"
    },
    {
     "data": {
      "text/html": [
       "<html><script type=\"math/tex; mode=display\">\\newcommand{\\Bold}[1]{\\mathbf{#1}}\\left[\\left\\{d_{1} : r_{433}, d_{2} : 0, d_{3} : 0, d_{4} : r_{434}, d_{5} : r_{435}, a_{12} : r_{436}, a_{13} : r_{437}, a_{14} : r_{438}, a_{15} : r_{439}, a_{23} : r_{440}, a_{24} : r_{441}, a_{25} : r_{442}, a_{34} : -\\frac{r_{434} x_{24}}{x_{23}}, a_{35} : r_{443}, a_{45} : -\\frac{r_{443} x_{23}}{x_{24}}\\right\\}, \\left\\{d_{1} : r_{444}, d_{2} : r_{445}, d_{3} : \\frac{r_{445}}{x_{23}}, d_{4} : \\frac{r_{444} x_{23}}{x_{13} x_{24}}, d_{5} : r_{446}, a_{12} : \\frac{r_{445} x_{13} - r_{444} x_{23}}{x_{23}}, a_{13} : r_{447}, a_{14} : r_{448}, a_{15} : r_{449}, a_{23} : r_{450}, a_{24} : r_{451}, a_{25} : r_{452}, a_{34} : \\frac{r_{445} x_{13} - r_{444} x_{23}}{x_{13} x_{23}}, a_{35} : 0, a_{45} : 0\\right\\}\\right]</script></html>"
      ],
      "text/latex": [
       "$$\\newcommand{\\Bold}[1]{\\mathbf{#1}}\\left[\\left\\{d_{1} : r_{433}, d_{2} : 0, d_{3} : 0, d_{4} : r_{434}, d_{5} : r_{435}, a_{12} : r_{436}, a_{13} : r_{437}, a_{14} : r_{438}, a_{15} : r_{439}, a_{23} : r_{440}, a_{24} : r_{441}, a_{25} : r_{442}, a_{34} : -\\frac{r_{434} x_{24}}{x_{23}}, a_{35} : r_{443}, a_{45} : -\\frac{r_{443} x_{23}}{x_{24}}\\right\\}, \\left\\{d_{1} : r_{444}, d_{2} : r_{445}, d_{3} : \\frac{r_{445}}{x_{23}}, d_{4} : \\frac{r_{444} x_{23}}{x_{13} x_{24}}, d_{5} : r_{446}, a_{12} : \\frac{r_{445} x_{13} - r_{444} x_{23}}{x_{23}}, a_{13} : r_{447}, a_{14} : r_{448}, a_{15} : r_{449}, a_{23} : r_{450}, a_{24} : r_{451}, a_{25} : r_{452}, a_{34} : \\frac{r_{445} x_{13} - r_{444} x_{23}}{x_{13} x_{23}}, a_{35} : 0, a_{45} : 0\\right\\}\\right]$$"
      ],
      "text/plain": [
       "[{d1: r433,\n",
       "  d2: 0,\n",
       "  d3: 0,\n",
       "  d4: r434,\n",
       "  d5: r435,\n",
       "  a12: r436,\n",
       "  a13: r437,\n",
       "  a14: r438,\n",
       "  a15: r439,\n",
       "  a23: r440,\n",
       "  a24: r441,\n",
       "  a25: r442,\n",
       "  a34: -r434*x24/x23,\n",
       "  a35: r443,\n",
       "  a45: -r443*x23/x24},\n",
       " {d1: r444,\n",
       "  d2: r445,\n",
       "  d3: r445/x23,\n",
       "  d4: r444*x23/(x13*x24),\n",
       "  d5: r446,\n",
       "  a12: (r445*x13 - r444*x23)/x23,\n",
       "  a13: r447,\n",
       "  a14: r448,\n",
       "  a15: r449,\n",
       "  a23: r450,\n",
       "  a24: r451,\n",
       "  a25: r452,\n",
       "  a34: (r445*x13 - r444*x23)/(x13*x23),\n",
       "  a35: 0,\n",
       "  a45: 0}]"
      ]
     },
     "metadata": {},
     "output_type": "display_data"
    }
   ],
   "source": [
    "#x3\n",
    "reset()\n",
    "\n",
    "var('x12,x13,x14,x15,x23,x24,x25,x34,x35,x45')\n",
    "var('d1,d2,d3,d4,d5')\n",
    "var('a12,a13,a14,a15,a23,a24,a25,a34,a35,a45')\n",
    "\n",
    "load_attach_path('C:\\\\Users\\\\julia\\\\Documents\\\\unb\\\\doutorado\\\\pensar\\\\codigo_sage_v2\\\\maquina\\\\x3')\n",
    "load('out_#010100.sage')\n",
    "\n",
    "m=matrix(QQ, [[0, 0, 1, 0, 0],\n",
    "              [0, 0, 1, 1, 0],\n",
    "              [0, 0, 0, 0, 0],\n",
    "              [0, 0, 0, 0, 0],\n",
    "              [0, 0, 0, 0, 0]])\n",
    "        \n",
    "#entry of matrix: (i,j) line i collum j, means (i-1,j-1)\n",
    "sol=solve([ eq1==m[0,2],\teq2==m[0,3],\teq3==m[0,4],\teq4==m[1,2],\t\n",
    "                                            eq5==m[1,3],    eq6==m[1,4],\n",
    "                                                            eq7==m[2,4]],d1,d2,d3,d4,d5,a12,a13,a14,a15,a23,a24,a25,a34,a35,a45, solution_dict=True)\n",
    "\n",
    "show(m)\n",
    "show(sol)\n",
    "#latex(sol)"
   ]
  },
  {
   "cell_type": "code",
   "execution_count": 22,
   "metadata": {},
   "outputs": [
    {
     "data": {
      "text/html": [
       "<html><script type=\"math/tex; mode=display\">\\newcommand{\\Bold}[1]{\\mathbf{#1}}\\left(\\begin{array}{rrrrr}\n",
       "0 & 0 & 1 & 0 & 1 \\\\\n",
       "0 & 0 & 1 & 1 & 0 \\\\\n",
       "0 & 0 & 0 & 0 & 0 \\\\\n",
       "0 & 0 & 0 & 0 & 0 \\\\\n",
       "0 & 0 & 0 & 0 & 0\n",
       "\\end{array}\\right)</script></html>"
      ],
      "text/latex": [
       "$$\\newcommand{\\Bold}[1]{\\mathbf{#1}}\\left(\\begin{array}{rrrrr}\n",
       "0 & 0 & 1 & 0 & 1 \\\\\n",
       "0 & 0 & 1 & 1 & 0 \\\\\n",
       "0 & 0 & 0 & 0 & 0 \\\\\n",
       "0 & 0 & 0 & 0 & 0 \\\\\n",
       "0 & 0 & 0 & 0 & 0\n",
       "\\end{array}\\right)$$"
      ],
      "text/plain": [
       "[0 0 1 0 1]\n",
       "[0 0 1 1 0]\n",
       "[0 0 0 0 0]\n",
       "[0 0 0 0 0]\n",
       "[0 0 0 0 0]"
      ]
     },
     "metadata": {},
     "output_type": "display_data"
    },
    {
     "data": {
      "text/html": [
       "<html><script type=\"math/tex; mode=display\">\\newcommand{\\Bold}[1]{\\mathbf{#1}}\\left[\\left\\{d_{1} : r_{453}, d_{2} : 0, d_{3} : 0, d_{4} : r_{454}, d_{5} : r_{455}, a_{12} : r_{456}, a_{13} : r_{457}, a_{14} : r_{458}, a_{15} : r_{459}, a_{23} : r_{460}, a_{24} : r_{461}, a_{25} : r_{462}, a_{34} : -\\frac{r_{454} x_{24}}{x_{23}}, a_{35} : r_{463}, a_{45} : -\\frac{r_{463} x_{23}}{x_{24}}\\right\\}, \\left\\{d_{1} : r_{464}, d_{2} : r_{465}, d_{3} : \\frac{r_{465}}{x_{23}}, d_{4} : \\frac{r_{464} x_{23}}{x_{13} x_{24}}, d_{5} : r_{466}, a_{12} : \\frac{r_{465} x_{13} - r_{464} x_{23}}{x_{23}}, a_{13} : r_{467}, a_{14} : r_{468}, a_{15} : r_{469}, a_{23} : r_{470}, a_{24} : r_{471}, a_{25} : r_{472}, a_{34} : \\frac{r_{465} x_{13} - r_{464} x_{23}}{x_{13} x_{23}}, a_{35} : -\\frac{r_{466} x_{15} - r_{464}}{x_{13}}, a_{45} : \\frac{{\\left(r_{466} x_{15} - r_{464}\\right)} x_{23}}{x_{13} x_{24}}\\right\\}\\right]</script></html>"
      ],
      "text/latex": [
       "$$\\newcommand{\\Bold}[1]{\\mathbf{#1}}\\left[\\left\\{d_{1} : r_{453}, d_{2} : 0, d_{3} : 0, d_{4} : r_{454}, d_{5} : r_{455}, a_{12} : r_{456}, a_{13} : r_{457}, a_{14} : r_{458}, a_{15} : r_{459}, a_{23} : r_{460}, a_{24} : r_{461}, a_{25} : r_{462}, a_{34} : -\\frac{r_{454} x_{24}}{x_{23}}, a_{35} : r_{463}, a_{45} : -\\frac{r_{463} x_{23}}{x_{24}}\\right\\}, \\left\\{d_{1} : r_{464}, d_{2} : r_{465}, d_{3} : \\frac{r_{465}}{x_{23}}, d_{4} : \\frac{r_{464} x_{23}}{x_{13} x_{24}}, d_{5} : r_{466}, a_{12} : \\frac{r_{465} x_{13} - r_{464} x_{23}}{x_{23}}, a_{13} : r_{467}, a_{14} : r_{468}, a_{15} : r_{469}, a_{23} : r_{470}, a_{24} : r_{471}, a_{25} : r_{472}, a_{34} : \\frac{r_{465} x_{13} - r_{464} x_{23}}{x_{13} x_{23}}, a_{35} : -\\frac{r_{466} x_{15} - r_{464}}{x_{13}}, a_{45} : \\frac{{\\left(r_{466} x_{15} - r_{464}\\right)} x_{23}}{x_{13} x_{24}}\\right\\}\\right]$$"
      ],
      "text/plain": [
       "[{d1: r453,\n",
       "  d2: 0,\n",
       "  d3: 0,\n",
       "  d4: r454,\n",
       "  d5: r455,\n",
       "  a12: r456,\n",
       "  a13: r457,\n",
       "  a14: r458,\n",
       "  a15: r459,\n",
       "  a23: r460,\n",
       "  a24: r461,\n",
       "  a25: r462,\n",
       "  a34: -r454*x24/x23,\n",
       "  a35: r463,\n",
       "  a45: -r463*x23/x24},\n",
       " {d1: r464,\n",
       "  d2: r465,\n",
       "  d3: r465/x23,\n",
       "  d4: r464*x23/(x13*x24),\n",
       "  d5: r466,\n",
       "  a12: (r465*x13 - r464*x23)/x23,\n",
       "  a13: r467,\n",
       "  a14: r468,\n",
       "  a15: r469,\n",
       "  a23: r470,\n",
       "  a24: r471,\n",
       "  a25: r472,\n",
       "  a34: (r465*x13 - r464*x23)/(x13*x23),\n",
       "  a35: -(r466*x15 - r464)/x13,\n",
       "  a45: (r466*x15 - r464)*x23/(x13*x24)}]"
      ]
     },
     "metadata": {},
     "output_type": "display_data"
    }
   ],
   "source": [
    "#x3\n",
    "reset()\n",
    "\n",
    "var('x12,x13,x14,x15,x23,x24,x25,x34,x35,x45')\n",
    "var('d1,d2,d3,d4,d5')\n",
    "var('a12,a13,a14,a15,a23,a24,a25,a34,a35,a45')\n",
    "\n",
    "load_attach_path('C:\\\\Users\\\\julia\\\\Documents\\\\unb\\\\doutorado\\\\pensar\\\\codigo_sage_v2\\\\maquina\\\\x3')\n",
    "load('out_#010101.sage')\n",
    "\n",
    "m=matrix(QQ, [[0, 0, 1, 0, 1],\n",
    "              [0, 0, 1, 1, 0],\n",
    "              [0, 0, 0, 0, 0],\n",
    "              [0, 0, 0, 0, 0],\n",
    "              [0, 0, 0, 0, 0]])\n",
    "        \n",
    "#entry of matrix: (i,j) line i collum j, means (i-1,j-1)\n",
    "sol=solve([ eq1==m[0,2],\teq2==m[0,3],\teq3==m[0,4],\teq4==m[1,2],\t\n",
    "                                            eq5==m[1,3],    eq6==m[1,4],\n",
    "                                                            eq7==m[2,4]],d1,d2,d3,d4,d5,a12,a13,a14,a15,a23,a24,a25,a34,a35,a45, solution_dict=True)\n",
    "\n",
    "show(m)\n",
    "show(sol)\n",
    "#latex(sol)"
   ]
  },
  {
   "cell_type": "code",
   "execution_count": 8,
   "metadata": {},
   "outputs": [
    {
     "data": {
      "text/html": [
       "<html><script type=\"math/tex; mode=display\">\\newcommand{\\Bold}[1]{\\mathbf{#1}}\\left(\\begin{array}{rrrrr}\n",
       "0 & 0 & 1 & 0 & 0 \\\\\n",
       "0 & 0 & 1 & 1 & 0 \\\\\n",
       "0 & 0 & 0 & 0 & 0 \\\\\n",
       "0 & 0 & 0 & 0 & 0 \\\\\n",
       "0 & 0 & 0 & 0 & 0\n",
       "\\end{array}\\right)</script></html>"
      ],
      "text/latex": [
       "$$\\newcommand{\\Bold}[1]{\\mathbf{#1}}\\left(\\begin{array}{rrrrr}\n",
       "0 & 0 & 1 & 0 & 0 \\\\\n",
       "0 & 0 & 1 & 1 & 0 \\\\\n",
       "0 & 0 & 0 & 0 & 0 \\\\\n",
       "0 & 0 & 0 & 0 & 0 \\\\\n",
       "0 & 0 & 0 & 0 & 0\n",
       "\\end{array}\\right)$$"
      ],
      "text/plain": [
       "[0 0 1 0 0]\n",
       "[0 0 1 1 0]\n",
       "[0 0 0 0 0]\n",
       "[0 0 0 0 0]\n",
       "[0 0 0 0 0]"
      ]
     },
     "metadata": {},
     "output_type": "display_data"
    },
    {
     "data": {
      "text/html": [
       "<html><script type=\"math/tex; mode=display\">\\newcommand{\\Bold}[1]{\\mathbf{#1}}\\left[\\left\\{d_{1} : r_{146}, d_{2} : 0, d_{3} : 0, d_{4} : r_{147}, d_{5} : r_{148}, a_{12} : r_{149}, a_{13} : r_{150}, a_{14} : r_{151}, a_{15} : r_{152}, a_{23} : r_{153}, a_{24} : r_{154}, a_{25} : r_{155}, a_{34} : -\\frac{r_{147} x_{24}}{x_{23}}, a_{35} : r_{156}, a_{45} : -\\frac{r_{156} x_{23}}{x_{24}}\\right\\}, \\left\\{d_{1} : r_{157}, d_{2} : r_{158}, d_{3} : \\frac{r_{158}}{x_{23}}, d_{4} : -\\frac{r_{157} x_{23}}{x_{14} x_{23} - x_{13} x_{24}}, d_{5} : r_{159}, a_{12} : \\frac{r_{158} x_{13} - r_{157} x_{23}}{x_{23}}, a_{13} : r_{160}, a_{14} : r_{161}, a_{15} : r_{162}, a_{23} : r_{163}, a_{24} : r_{164}, a_{25} : r_{165}, a_{34} : \\frac{r_{158} x_{14} x_{23} - {\\left(r_{158} x_{13} - r_{157} x_{23}\\right)} x_{24}}{x_{14} x_{23}^{2} - x_{13} x_{23} x_{24}}, a_{35} : 0, a_{45} : 0\\right\\}\\right]</script></html>"
      ],
      "text/latex": [
       "$$\\newcommand{\\Bold}[1]{\\mathbf{#1}}\\left[\\left\\{d_{1} : r_{146}, d_{2} : 0, d_{3} : 0, d_{4} : r_{147}, d_{5} : r_{148}, a_{12} : r_{149}, a_{13} : r_{150}, a_{14} : r_{151}, a_{15} : r_{152}, a_{23} : r_{153}, a_{24} : r_{154}, a_{25} : r_{155}, a_{34} : -\\frac{r_{147} x_{24}}{x_{23}}, a_{35} : r_{156}, a_{45} : -\\frac{r_{156} x_{23}}{x_{24}}\\right\\}, \\left\\{d_{1} : r_{157}, d_{2} : r_{158}, d_{3} : \\frac{r_{158}}{x_{23}}, d_{4} : -\\frac{r_{157} x_{23}}{x_{14} x_{23} - x_{13} x_{24}}, d_{5} : r_{159}, a_{12} : \\frac{r_{158} x_{13} - r_{157} x_{23}}{x_{23}}, a_{13} : r_{160}, a_{14} : r_{161}, a_{15} : r_{162}, a_{23} : r_{163}, a_{24} : r_{164}, a_{25} : r_{165}, a_{34} : \\frac{r_{158} x_{14} x_{23} - {\\left(r_{158} x_{13} - r_{157} x_{23}\\right)} x_{24}}{x_{14} x_{23}^{2} - x_{13} x_{23} x_{24}}, a_{35} : 0, a_{45} : 0\\right\\}\\right]$$"
      ],
      "text/plain": [
       "[{d1: r146,\n",
       "  d2: 0,\n",
       "  d3: 0,\n",
       "  d4: r147,\n",
       "  d5: r148,\n",
       "  a12: r149,\n",
       "  a13: r150,\n",
       "  a14: r151,\n",
       "  a15: r152,\n",
       "  a23: r153,\n",
       "  a24: r154,\n",
       "  a25: r155,\n",
       "  a34: -r147*x24/x23,\n",
       "  a35: r156,\n",
       "  a45: -r156*x23/x24},\n",
       " {d1: r157,\n",
       "  d2: r158,\n",
       "  d3: r158/x23,\n",
       "  d4: -r157*x23/(x14*x23 - x13*x24),\n",
       "  d5: r159,\n",
       "  a12: (r158*x13 - r157*x23)/x23,\n",
       "  a13: r160,\n",
       "  a14: r161,\n",
       "  a15: r162,\n",
       "  a23: r163,\n",
       "  a24: r164,\n",
       "  a25: r165,\n",
       "  a34: (r158*x14*x23 - (r158*x13 - r157*x23)*x24)/(x14*x23^2 - x13*x23*x24),\n",
       "  a35: 0,\n",
       "  a45: 0}]"
      ]
     },
     "metadata": {},
     "output_type": "display_data"
    }
   ],
   "source": [
    "#x3\n",
    "#----------------------\n",
    "#x14 \\neq x13*x24/x23\n",
    "#----------------------\n",
    "reset()\n",
    "\n",
    "var('x12,x13,x14,x15,x23,x24,x25,x34,x35,x45')\n",
    "var('d1,d2,d3,d4,d5')\n",
    "var('a12,a13,a14,a15,a23,a24,a25,a34,a35,a45')\n",
    "\n",
    "load_attach_path('C:\\\\Users\\\\julia\\\\Documents\\\\unb\\\\doutorado\\\\pensar\\\\codigo_sage_v2\\\\maquina\\\\x3')\n",
    "load('out_#010110.sage')\n",
    "\n",
    "m=matrix(QQ, [[0, 0, 1, 0, 0],\n",
    "              [0, 0, 1, 1, 0],\n",
    "              [0, 0, 0, 0, 0],\n",
    "              [0, 0, 0, 0, 0],\n",
    "              [0, 0, 0, 0, 0]])\n",
    "        \n",
    "#entry of matrix: (i,j) line i collum j, means (i-1,j-1)\n",
    "sol=solve([ eq1==m[0,2],\teq2==m[0,3],\teq3==m[0,4],\teq4==m[1,2],\t\n",
    "                                            eq5==m[1,3],    eq6==m[1,4],\n",
    "                                                            eq7==m[2,4]],d1,d2,d3,d4,d5,a12,a13,a14,a15,a23,a24,a25,a34,a35,a45, solution_dict=True)\n",
    "\n",
    "show(m)\n",
    "show(sol)\n",
    "#latex(sol)"
   ]
  },
  {
   "cell_type": "code",
   "execution_count": 9,
   "metadata": {},
   "outputs": [
    {
     "data": {
      "text/html": [
       "<html><script type=\"math/tex; mode=display\">\\newcommand{\\Bold}[1]{\\mathbf{#1}}\\left(\\begin{array}{rrrrr}\n",
       "0 & 0 & 1 & 0 & 0 \\\\\n",
       "0 & 0 & 1 & 1 & 0 \\\\\n",
       "0 & 0 & 0 & 0 & 0 \\\\\n",
       "0 & 0 & 0 & 0 & 0 \\\\\n",
       "0 & 0 & 0 & 0 & 0\n",
       "\\end{array}\\right)</script></html>"
      ],
      "text/latex": [
       "$$\\newcommand{\\Bold}[1]{\\mathbf{#1}}\\left(\\begin{array}{rrrrr}\n",
       "0 & 0 & 1 & 0 & 0 \\\\\n",
       "0 & 0 & 1 & 1 & 0 \\\\\n",
       "0 & 0 & 0 & 0 & 0 \\\\\n",
       "0 & 0 & 0 & 0 & 0 \\\\\n",
       "0 & 0 & 0 & 0 & 0\n",
       "\\end{array}\\right)$$"
      ],
      "text/plain": [
       "[0 0 1 0 0]\n",
       "[0 0 1 1 0]\n",
       "[0 0 0 0 0]\n",
       "[0 0 0 0 0]\n",
       "[0 0 0 0 0]"
      ]
     },
     "metadata": {},
     "output_type": "display_data"
    },
    {
     "data": {
      "text/html": [
       "<html><script type=\"math/tex; mode=display\">\\newcommand{\\Bold}[1]{\\mathbf{#1}}\\left[\\left\\{d_{1} : r_{166}, d_{2} : 0, d_{3} : 0, d_{4} : r_{167}, d_{5} : r_{168}, a_{12} : r_{169}, a_{13} : r_{170}, a_{14} : r_{171}, a_{15} : r_{172}, a_{23} : r_{173}, a_{24} : r_{174}, a_{25} : r_{175}, a_{34} : -\\frac{r_{167} x_{24}}{x_{23}}, a_{35} : r_{176}, a_{45} : -\\frac{r_{176} x_{23}}{x_{24}}\\right\\}, \\left\\{d_{1} : 0, d_{2} : r_{177}, d_{3} : \\frac{r_{177}}{x_{23}}, d_{4} : r_{178}, d_{5} : r_{179}, a_{12} : \\frac{r_{177} x_{13}}{x_{23}}, a_{13} : r_{180}, a_{14} : r_{181}, a_{15} : r_{182}, a_{23} : r_{183}, a_{24} : r_{184}, a_{25} : r_{185}, a_{34} : -\\frac{r_{178} x_{24} - r_{177}}{x_{23}}, a_{35} : r_{186}, a_{45} : -\\frac{r_{186} x_{23}}{x_{24}}\\right\\}\\right]</script></html>"
      ],
      "text/latex": [
       "$$\\newcommand{\\Bold}[1]{\\mathbf{#1}}\\left[\\left\\{d_{1} : r_{166}, d_{2} : 0, d_{3} : 0, d_{4} : r_{167}, d_{5} : r_{168}, a_{12} : r_{169}, a_{13} : r_{170}, a_{14} : r_{171}, a_{15} : r_{172}, a_{23} : r_{173}, a_{24} : r_{174}, a_{25} : r_{175}, a_{34} : -\\frac{r_{167} x_{24}}{x_{23}}, a_{35} : r_{176}, a_{45} : -\\frac{r_{176} x_{23}}{x_{24}}\\right\\}, \\left\\{d_{1} : 0, d_{2} : r_{177}, d_{3} : \\frac{r_{177}}{x_{23}}, d_{4} : r_{178}, d_{5} : r_{179}, a_{12} : \\frac{r_{177} x_{13}}{x_{23}}, a_{13} : r_{180}, a_{14} : r_{181}, a_{15} : r_{182}, a_{23} : r_{183}, a_{24} : r_{184}, a_{25} : r_{185}, a_{34} : -\\frac{r_{178} x_{24} - r_{177}}{x_{23}}, a_{35} : r_{186}, a_{45} : -\\frac{r_{186} x_{23}}{x_{24}}\\right\\}\\right]$$"
      ],
      "text/plain": [
       "[{d1: r166,\n",
       "  d2: 0,\n",
       "  d3: 0,\n",
       "  d4: r167,\n",
       "  d5: r168,\n",
       "  a12: r169,\n",
       "  a13: r170,\n",
       "  a14: r171,\n",
       "  a15: r172,\n",
       "  a23: r173,\n",
       "  a24: r174,\n",
       "  a25: r175,\n",
       "  a34: -r167*x24/x23,\n",
       "  a35: r176,\n",
       "  a45: -r176*x23/x24},\n",
       " {d1: 0,\n",
       "  d2: r177,\n",
       "  d3: r177/x23,\n",
       "  d4: r178,\n",
       "  d5: r179,\n",
       "  a12: r177*x13/x23,\n",
       "  a13: r180,\n",
       "  a14: r181,\n",
       "  a15: r182,\n",
       "  a23: r183,\n",
       "  a24: r184,\n",
       "  a25: r185,\n",
       "  a34: -(r178*x24 - r177)/x23,\n",
       "  a35: r186,\n",
       "  a45: -r186*x23/x24}]"
      ]
     },
     "metadata": {},
     "output_type": "display_data"
    }
   ],
   "source": [
    "#x3\n",
    "#----------------------\n",
    "#x14 = x13*x24/x23\n",
    "#----------------------\n",
    "reset()\n",
    "\n",
    "var('x12,x13,x14,x15,x23,x24,x25,x34,x35,x45')\n",
    "var('d1,d2,d3,d4,d5')\n",
    "var('a12,a13,a14,a15,a23,a24,a25,a34,a35,a45')\n",
    "\n",
    "#010110\n",
    "eq1=(d2*d3*x13-a12*d3*x23)/(d1*d2) \n",
    "eq2=(a34*d2*x13+d2*d4*((x13*x24)/x23)-a12*a34*x23-a12*d4*x24)/(d1*d2) \n",
    "eq3=(a35*d2*d3*x13+a45*d2*d3*((x13*x24)/x23)+d2*d3*d5*0-a12*a35*d3*x23-a12*a45*d3*x24-a12*d3*d5*0+a12*a23*d5*0-a13*d2*d5*0)/(d1*d2*d3) \n",
    "eq4=(d3*x23)/(d2) \n",
    "eq5=(a34*x23+d4*x24)/(d2) \n",
    "eq6=(a35*d3*x23+a45*d3*x24+d3*d5*0-a23*d5*0)/(d2*d3) \n",
    "eq7=(d5*0)/(d3) \n",
    "\n",
    "\n",
    "m=matrix(QQ, [[0, 0, 1, 0, 0],\n",
    "              [0, 0, 1, 1, 0],\n",
    "              [0, 0, 0, 0, 0],\n",
    "              [0, 0, 0, 0, 0],\n",
    "              [0, 0, 0, 0, 0]])\n",
    "        \n",
    "#entry of matrix: (i,j) line i collum j, means (i-1,j-1)\n",
    "sol=solve([ eq1==m[0,2],\teq2==m[0,3],\teq3==m[0,4],\teq4==m[1,2],\t\n",
    "                                            eq5==m[1,3],    eq6==m[1,4],\n",
    "                                                            eq7==m[2,4]],d1,d2,d3,d4,d5,a12,a13,a14,a15,a23,a24,a25,a34,a35,a45, solution_dict=True)\n",
    "\n",
    "show(m)\n",
    "show(sol)\n",
    "#latex(sol)"
   ]
  },
  {
   "cell_type": "code",
   "execution_count": 24,
   "metadata": {},
   "outputs": [
    {
     "data": {
      "text/html": [
       "<html><script type=\"math/tex; mode=display\">\\newcommand{\\Bold}[1]{\\mathbf{#1}}\\left(\\begin{array}{rrrrr}\n",
       "0 & 0 & 1 & 1 & 1 \\\\\n",
       "0 & 0 & 1 & 1 & 0 \\\\\n",
       "0 & 0 & 0 & 0 & 0 \\\\\n",
       "0 & 0 & 0 & 0 & 0 \\\\\n",
       "0 & 0 & 0 & 0 & 0\n",
       "\\end{array}\\right)</script></html>"
      ],
      "text/latex": [
       "$$\\newcommand{\\Bold}[1]{\\mathbf{#1}}\\left(\\begin{array}{rrrrr}\n",
       "0 & 0 & 1 & 1 & 1 \\\\\n",
       "0 & 0 & 1 & 1 & 0 \\\\\n",
       "0 & 0 & 0 & 0 & 0 \\\\\n",
       "0 & 0 & 0 & 0 & 0 \\\\\n",
       "0 & 0 & 0 & 0 & 0\n",
       "\\end{array}\\right)$$"
      ],
      "text/plain": [
       "[0 0 1 1 1]\n",
       "[0 0 1 1 0]\n",
       "[0 0 0 0 0]\n",
       "[0 0 0 0 0]\n",
       "[0 0 0 0 0]"
      ]
     },
     "metadata": {},
     "output_type": "display_data"
    },
    {
     "data": {
      "text/html": [
       "<html><script type=\"math/tex; mode=display\">\\newcommand{\\Bold}[1]{\\mathbf{#1}}\\left[\\left\\{d_{1} : r_{493}, d_{2} : 0, d_{3} : 0, d_{4} : r_{494}, d_{5} : r_{495}, a_{12} : r_{496}, a_{13} : r_{497}, a_{14} : r_{498}, a_{15} : r_{499}, a_{23} : r_{500}, a_{24} : r_{501}, a_{25} : r_{502}, a_{34} : -\\frac{r_{494} x_{24}}{x_{23}}, a_{35} : r_{503}, a_{45} : -\\frac{r_{503} x_{23}}{x_{24}}\\right\\}, \\left\\{d_{1} : r_{504}, d_{2} : r_{505}, d_{3} : \\frac{r_{505}}{x_{23}}, d_{4} : 0, d_{5} : r_{506}, a_{12} : \\frac{r_{505} x_{13} - r_{504} x_{23}}{x_{23}}, a_{13} : r_{507}, a_{14} : r_{508}, a_{15} : r_{509}, a_{23} : r_{510}, a_{24} : r_{511}, a_{25} : r_{512}, a_{34} : \\frac{r_{505}}{x_{23}}, a_{35} : \\frac{{\\left(r_{506} x_{15} - r_{504}\\right)} x_{24}}{x_{14} x_{23} - x_{13} x_{24}}, a_{45} : -\\frac{{\\left(r_{506} x_{15} - r_{504}\\right)} x_{23}}{x_{14} x_{23} - x_{13} x_{24}}\\right\\}\\right]</script></html>"
      ],
      "text/latex": [
       "$$\\newcommand{\\Bold}[1]{\\mathbf{#1}}\\left[\\left\\{d_{1} : r_{493}, d_{2} : 0, d_{3} : 0, d_{4} : r_{494}, d_{5} : r_{495}, a_{12} : r_{496}, a_{13} : r_{497}, a_{14} : r_{498}, a_{15} : r_{499}, a_{23} : r_{500}, a_{24} : r_{501}, a_{25} : r_{502}, a_{34} : -\\frac{r_{494} x_{24}}{x_{23}}, a_{35} : r_{503}, a_{45} : -\\frac{r_{503} x_{23}}{x_{24}}\\right\\}, \\left\\{d_{1} : r_{504}, d_{2} : r_{505}, d_{3} : \\frac{r_{505}}{x_{23}}, d_{4} : 0, d_{5} : r_{506}, a_{12} : \\frac{r_{505} x_{13} - r_{504} x_{23}}{x_{23}}, a_{13} : r_{507}, a_{14} : r_{508}, a_{15} : r_{509}, a_{23} : r_{510}, a_{24} : r_{511}, a_{25} : r_{512}, a_{34} : \\frac{r_{505}}{x_{23}}, a_{35} : \\frac{{\\left(r_{506} x_{15} - r_{504}\\right)} x_{24}}{x_{14} x_{23} - x_{13} x_{24}}, a_{45} : -\\frac{{\\left(r_{506} x_{15} - r_{504}\\right)} x_{23}}{x_{14} x_{23} - x_{13} x_{24}}\\right\\}\\right]$$"
      ],
      "text/plain": [
       "[{d1: r493,\n",
       "  d2: 0,\n",
       "  d3: 0,\n",
       "  d4: r494,\n",
       "  d5: r495,\n",
       "  a12: r496,\n",
       "  a13: r497,\n",
       "  a14: r498,\n",
       "  a15: r499,\n",
       "  a23: r500,\n",
       "  a24: r501,\n",
       "  a25: r502,\n",
       "  a34: -r494*x24/x23,\n",
       "  a35: r503,\n",
       "  a45: -r503*x23/x24},\n",
       " {d1: r504,\n",
       "  d2: r505,\n",
       "  d3: r505/x23,\n",
       "  d4: 0,\n",
       "  d5: r506,\n",
       "  a12: (r505*x13 - r504*x23)/x23,\n",
       "  a13: r507,\n",
       "  a14: r508,\n",
       "  a15: r509,\n",
       "  a23: r510,\n",
       "  a24: r511,\n",
       "  a25: r512,\n",
       "  a34: r505/x23,\n",
       "  a35: (r506*x15 - r504)*x24/(x14*x23 - x13*x24),\n",
       "  a45: -(r506*x15 - r504)*x23/(x14*x23 - x13*x24)}]"
      ]
     },
     "metadata": {},
     "output_type": "display_data"
    }
   ],
   "source": [
    "#x3\n",
    "#----------------------\n",
    "#x14 \\neq x13*x24/x23\n",
    "#----------------------\n",
    "reset()\n",
    "\n",
    "var('x12,x13,x14,x15,x23,x24,x25,x34,x35,x45')\n",
    "var('d1,d2,d3,d4,d5')\n",
    "var('a12,a13,a14,a15,a23,a24,a25,a34,a35,a45')\n",
    "\n",
    "load_attach_path('C:\\\\Users\\\\julia\\\\Documents\\\\unb\\\\doutorado\\\\pensar\\\\codigo_sage_v2\\\\maquina\\\\x3')\n",
    "load('out_#010111.sage')\n",
    "\n",
    "m=matrix(QQ, [[0, 0, 1, 1, 1],\n",
    "              [0, 0, 1, 1, 0],\n",
    "              [0, 0, 0, 0, 0],\n",
    "              [0, 0, 0, 0, 0],\n",
    "              [0, 0, 0, 0, 0]])\n",
    "        \n",
    "#entry of matrix: (i,j) line i collum j, means (i-1,j-1)\n",
    "sol=solve([ eq1==m[0,2],\teq2==m[0,3],\teq3==m[0,4],\teq4==m[1,2],\t\n",
    "                                            eq5==m[1,3],    eq6==m[1,4],\n",
    "                                                            eq7==m[2,4]],d1,d2,d3,d4,d5,a12,a13,a14,a15,a23,a24,a25,a34,a35,a45, solution_dict=True)\n",
    "\n",
    "show(m)\n",
    "show(sol)\n",
    "#latex(sol)"
   ]
  },
  {
   "cell_type": "code",
   "execution_count": 10,
   "metadata": {},
   "outputs": [
    {
     "data": {
      "text/html": [
       "<html><script type=\"math/tex; mode=display\">\\newcommand{\\Bold}[1]{\\mathbf{#1}}\\left(\\begin{array}{rrrrr}\n",
       "0 & 0 & 1 & 1 & 1 \\\\\n",
       "0 & 0 & 1 & 1 & 0 \\\\\n",
       "0 & 0 & 0 & 0 & 0 \\\\\n",
       "0 & 0 & 0 & 0 & 0 \\\\\n",
       "0 & 0 & 0 & 0 & 0\n",
       "\\end{array}\\right)</script></html>"
      ],
      "text/latex": [
       "$$\\newcommand{\\Bold}[1]{\\mathbf{#1}}\\left(\\begin{array}{rrrrr}\n",
       "0 & 0 & 1 & 1 & 1 \\\\\n",
       "0 & 0 & 1 & 1 & 0 \\\\\n",
       "0 & 0 & 0 & 0 & 0 \\\\\n",
       "0 & 0 & 0 & 0 & 0 \\\\\n",
       "0 & 0 & 0 & 0 & 0\n",
       "\\end{array}\\right)$$"
      ],
      "text/plain": [
       "[0 0 1 1 1]\n",
       "[0 0 1 1 0]\n",
       "[0 0 0 0 0]\n",
       "[0 0 0 0 0]\n",
       "[0 0 0 0 0]"
      ]
     },
     "metadata": {},
     "output_type": "display_data"
    },
    {
     "data": {
      "text/html": [
       "<html><script type=\"math/tex; mode=display\">\\newcommand{\\Bold}[1]{\\mathbf{#1}}\\left[\\left\\{d_{1} : r_{187}, d_{2} : 0, d_{3} : 0, d_{4} : r_{188}, d_{5} : r_{189}, a_{12} : r_{190}, a_{13} : r_{191}, a_{14} : r_{192}, a_{15} : r_{193}, a_{23} : r_{194}, a_{24} : r_{195}, a_{25} : r_{196}, a_{34} : -\\frac{r_{188} x_{24}}{x_{23}}, a_{35} : r_{197}, a_{45} : -\\frac{r_{197} x_{23}}{x_{24}}\\right\\}, \\left\\{d_{1} : r_{198}, d_{2} : r_{199}, d_{3} : \\frac{r_{199}}{x_{23}}, d_{4} : r_{200}, d_{5} : \\frac{r_{198}}{x_{15}}, a_{12} : \\frac{r_{199} x_{13} - r_{198} x_{23}}{x_{23}}, a_{13} : r_{201}, a_{14} : r_{202}, a_{15} : r_{203}, a_{23} : r_{204}, a_{24} : r_{205}, a_{25} : r_{206}, a_{34} : -\\frac{r_{200} x_{24} - r_{199}}{x_{23}}, a_{35} : r_{207}, a_{45} : -\\frac{r_{207} x_{23}}{x_{24}}\\right\\}, \\left\\{d_{1} : 0, d_{2} : r_{208}, d_{3} : \\frac{r_{208}}{x_{23}}, d_{4} : r_{209}, d_{5} : 0, a_{12} : \\frac{r_{208} x_{13}}{x_{23}}, a_{13} : r_{210}, a_{14} : r_{211}, a_{15} : r_{212}, a_{23} : r_{213}, a_{24} : r_{214}, a_{25} : r_{215}, a_{34} : -\\frac{r_{209} x_{24} - r_{208}}{x_{23}}, a_{35} : r_{216}, a_{45} : -\\frac{r_{216} x_{23}}{x_{24}}\\right\\}\\right]</script></html>"
      ],
      "text/latex": [
       "$$\\newcommand{\\Bold}[1]{\\mathbf{#1}}\\left[\\left\\{d_{1} : r_{187}, d_{2} : 0, d_{3} : 0, d_{4} : r_{188}, d_{5} : r_{189}, a_{12} : r_{190}, a_{13} : r_{191}, a_{14} : r_{192}, a_{15} : r_{193}, a_{23} : r_{194}, a_{24} : r_{195}, a_{25} : r_{196}, a_{34} : -\\frac{r_{188} x_{24}}{x_{23}}, a_{35} : r_{197}, a_{45} : -\\frac{r_{197} x_{23}}{x_{24}}\\right\\}, \\left\\{d_{1} : r_{198}, d_{2} : r_{199}, d_{3} : \\frac{r_{199}}{x_{23}}, d_{4} : r_{200}, d_{5} : \\frac{r_{198}}{x_{15}}, a_{12} : \\frac{r_{199} x_{13} - r_{198} x_{23}}{x_{23}}, a_{13} : r_{201}, a_{14} : r_{202}, a_{15} : r_{203}, a_{23} : r_{204}, a_{24} : r_{205}, a_{25} : r_{206}, a_{34} : -\\frac{r_{200} x_{24} - r_{199}}{x_{23}}, a_{35} : r_{207}, a_{45} : -\\frac{r_{207} x_{23}}{x_{24}}\\right\\}, \\left\\{d_{1} : 0, d_{2} : r_{208}, d_{3} : \\frac{r_{208}}{x_{23}}, d_{4} : r_{209}, d_{5} : 0, a_{12} : \\frac{r_{208} x_{13}}{x_{23}}, a_{13} : r_{210}, a_{14} : r_{211}, a_{15} : r_{212}, a_{23} : r_{213}, a_{24} : r_{214}, a_{25} : r_{215}, a_{34} : -\\frac{r_{209} x_{24} - r_{208}}{x_{23}}, a_{35} : r_{216}, a_{45} : -\\frac{r_{216} x_{23}}{x_{24}}\\right\\}\\right]$$"
      ],
      "text/plain": [
       "[{d1: r187,\n",
       "  d2: 0,\n",
       "  d3: 0,\n",
       "  d4: r188,\n",
       "  d5: r189,\n",
       "  a12: r190,\n",
       "  a13: r191,\n",
       "  a14: r192,\n",
       "  a15: r193,\n",
       "  a23: r194,\n",
       "  a24: r195,\n",
       "  a25: r196,\n",
       "  a34: -r188*x24/x23,\n",
       "  a35: r197,\n",
       "  a45: -r197*x23/x24},\n",
       " {d1: r198,\n",
       "  d2: r199,\n",
       "  d3: r199/x23,\n",
       "  d4: r200,\n",
       "  d5: r198/x15,\n",
       "  a12: (r199*x13 - r198*x23)/x23,\n",
       "  a13: r201,\n",
       "  a14: r202,\n",
       "  a15: r203,\n",
       "  a23: r204,\n",
       "  a24: r205,\n",
       "  a25: r206,\n",
       "  a34: -(r200*x24 - r199)/x23,\n",
       "  a35: r207,\n",
       "  a45: -r207*x23/x24},\n",
       " {d1: 0,\n",
       "  d2: r208,\n",
       "  d3: r208/x23,\n",
       "  d4: r209,\n",
       "  d5: 0,\n",
       "  a12: r208*x13/x23,\n",
       "  a13: r210,\n",
       "  a14: r211,\n",
       "  a15: r212,\n",
       "  a23: r213,\n",
       "  a24: r214,\n",
       "  a25: r215,\n",
       "  a34: -(r209*x24 - r208)/x23,\n",
       "  a35: r216,\n",
       "  a45: -r216*x23/x24}]"
      ]
     },
     "metadata": {},
     "output_type": "display_data"
    }
   ],
   "source": [
    "#x3\n",
    "#----------------------\n",
    "#x14 = x13*x24/x23\n",
    "#----------------------\n",
    "reset()\n",
    "\n",
    "var('x12,x13,x14,x15,x23,x24,x25,x34,x35,x45')\n",
    "var('d1,d2,d3,d4,d5')\n",
    "var('a12,a13,a14,a15,a23,a24,a25,a34,a35,a45')\n",
    "\n",
    "#010111\n",
    "eq1=(d2*d3*x13-a12*d3*x23)/(d1*d2) \n",
    "eq2=(a34*d2*x13+d2*d4*((x13*x24)/x23)-a12*a34*x23-a12*d4*x24)/(d1*d2) \n",
    "eq3=(a35*d2*d3*x13+a45*d2*d3*((x13*x24)/x23)+d2*d3*d5*x15-a12*a35*d3*x23-a12*a45*d3*x24-a12*d3*d5*0+a12*a23*d5*0-a13*d2*d5*0)/(d1*d2*d3) \n",
    "eq4=(d3*x23)/(d2) \n",
    "eq5=(a34*x23+d4*x24)/(d2) \n",
    "eq6=(a35*d3*x23+a45*d3*x24+d3*d5*0-a23*d5*0)/(d2*d3) \n",
    "eq7=(d5*0)/(d3) \n",
    "\n",
    "m=matrix(QQ, [[0, 0, 1, 1, 1],\n",
    "              [0, 0, 1, 1, 0],\n",
    "              [0, 0, 0, 0, 0],\n",
    "              [0, 0, 0, 0, 0],\n",
    "              [0, 0, 0, 0, 0]])\n",
    "        \n",
    "#entry of matrix: (i,j) line i collum j, means (i-1,j-1)\n",
    "sol=solve([ eq1==m[0,2],\teq2==m[0,3],\teq3==m[0,4],\teq4==m[1,2],\t\n",
    "                                            eq5==m[1,3],    eq6==m[1,4],\n",
    "                                                            eq7==m[2,4]],d1,d2,d3,d4,d5,a12,a13,a14,a15,a23,a24,a25,a34,a35,a45, solution_dict=True)\n",
    "\n",
    "show(m)\n",
    "show(sol)\n",
    "#latex(sol)"
   ]
  },
  {
   "cell_type": "code",
   "execution_count": 11,
   "metadata": {},
   "outputs": [
    {
     "data": {
      "text/html": [
       "<html><script type=\"math/tex; mode=display\">\\newcommand{\\Bold}[1]{\\mathbf{#1}}\\left(\\begin{array}{rrrrr}\n",
       "0 & 0 & 0 & 0 & 0 \\\\\n",
       "0 & 0 & 1 & 0 & 0 \\\\\n",
       "0 & 0 & 0 & 0 & 0 \\\\\n",
       "0 & 0 & 0 & 0 & 0 \\\\\n",
       "0 & 0 & 0 & 0 & 0\n",
       "\\end{array}\\right)</script></html>"
      ],
      "text/latex": [
       "$$\\newcommand{\\Bold}[1]{\\mathbf{#1}}\\left(\\begin{array}{rrrrr}\n",
       "0 & 0 & 0 & 0 & 0 \\\\\n",
       "0 & 0 & 1 & 0 & 0 \\\\\n",
       "0 & 0 & 0 & 0 & 0 \\\\\n",
       "0 & 0 & 0 & 0 & 0 \\\\\n",
       "0 & 0 & 0 & 0 & 0\n",
       "\\end{array}\\right)$$"
      ],
      "text/plain": [
       "[0 0 0 0 0]\n",
       "[0 0 1 0 0]\n",
       "[0 0 0 0 0]\n",
       "[0 0 0 0 0]\n",
       "[0 0 0 0 0]"
      ]
     },
     "metadata": {},
     "output_type": "display_data"
    },
    {
     "data": {
      "text/html": [
       "<html><script type=\"math/tex; mode=display\">\\newcommand{\\Bold}[1]{\\mathbf{#1}}\\left[\\left\\{d_{1} : r_{217}, d_{2} : r_{218}, d_{3} : \\frac{r_{218}}{x_{23}}, d_{4} : r_{219}, d_{5} : r_{220}, a_{12} : 0, a_{13} : r_{221}, a_{14} : r_{222}, a_{15} : r_{223}, a_{23} : r_{224}, a_{24} : r_{225}, a_{25} : r_{226}, a_{34} : -\\frac{r_{219} x_{24}}{x_{23}}, a_{35} : r_{227}, a_{45} : -\\frac{r_{227} x_{23} + r_{220} x_{25}}{x_{24}}\\right\\}, \\left\\{d_{1} : r_{228}, d_{2} : 0, d_{3} : 0, d_{4} : r_{229}, d_{5} : r_{230}, a_{12} : r_{231}, a_{13} : r_{232}, a_{14} : r_{233}, a_{15} : r_{234}, a_{23} : r_{235}, a_{24} : r_{236}, a_{25} : r_{237}, a_{34} : -\\frac{r_{229} x_{24}}{x_{23}}, a_{35} : r_{238}, a_{45} : -\\frac{r_{238} x_{23} + r_{230} x_{25}}{x_{24}}\\right\\}\\right]</script></html>"
      ],
      "text/latex": [
       "$$\\newcommand{\\Bold}[1]{\\mathbf{#1}}\\left[\\left\\{d_{1} : r_{217}, d_{2} : r_{218}, d_{3} : \\frac{r_{218}}{x_{23}}, d_{4} : r_{219}, d_{5} : r_{220}, a_{12} : 0, a_{13} : r_{221}, a_{14} : r_{222}, a_{15} : r_{223}, a_{23} : r_{224}, a_{24} : r_{225}, a_{25} : r_{226}, a_{34} : -\\frac{r_{219} x_{24}}{x_{23}}, a_{35} : r_{227}, a_{45} : -\\frac{r_{227} x_{23} + r_{220} x_{25}}{x_{24}}\\right\\}, \\left\\{d_{1} : r_{228}, d_{2} : 0, d_{3} : 0, d_{4} : r_{229}, d_{5} : r_{230}, a_{12} : r_{231}, a_{13} : r_{232}, a_{14} : r_{233}, a_{15} : r_{234}, a_{23} : r_{235}, a_{24} : r_{236}, a_{25} : r_{237}, a_{34} : -\\frac{r_{229} x_{24}}{x_{23}}, a_{35} : r_{238}, a_{45} : -\\frac{r_{238} x_{23} + r_{230} x_{25}}{x_{24}}\\right\\}\\right]$$"
      ],
      "text/plain": [
       "[{d1: r217,\n",
       "  d2: r218,\n",
       "  d3: r218/x23,\n",
       "  d4: r219,\n",
       "  d5: r220,\n",
       "  a12: 0,\n",
       "  a13: r221,\n",
       "  a14: r222,\n",
       "  a15: r223,\n",
       "  a23: r224,\n",
       "  a24: r225,\n",
       "  a25: r226,\n",
       "  a34: -r219*x24/x23,\n",
       "  a35: r227,\n",
       "  a45: -(r227*x23 + r220*x25)/x24},\n",
       " {d1: r228,\n",
       "  d2: 0,\n",
       "  d3: 0,\n",
       "  d4: r229,\n",
       "  d5: r230,\n",
       "  a12: r231,\n",
       "  a13: r232,\n",
       "  a14: r233,\n",
       "  a15: r234,\n",
       "  a23: r235,\n",
       "  a24: r236,\n",
       "  a25: r237,\n",
       "  a34: -r229*x24/x23,\n",
       "  a35: r238,\n",
       "  a45: -(r238*x23 + r230*x25)/x24}]"
      ]
     },
     "metadata": {},
     "output_type": "display_data"
    }
   ],
   "source": [
    "#x3\n",
    "reset()\n",
    "\n",
    "var('x12,x13,x14,x15,x23,x24,x25,x34,x35,x45')\n",
    "var('d1,d2,d3,d4,d5')\n",
    "var('a12,a13,a14,a15,a23,a24,a25,a34,a35,a45')\n",
    "\n",
    "load_attach_path('C:\\\\Users\\\\julia\\\\Documents\\\\unb\\\\doutorado\\\\pensar\\\\codigo_sage_v2\\\\maquina\\\\x3')\n",
    "load('out_#011000.sage')\n",
    "\n",
    "m=matrix(QQ, [[0, 0, 0, 0, 0],\n",
    "              [0, 0, 1, 0, 0],\n",
    "              [0, 0, 0, 0, 0],\n",
    "              [0, 0, 0, 0, 0],\n",
    "              [0, 0, 0, 0, 0]])\n",
    "        \n",
    "#entry of matrix: (i,j) line i collum j, means (i-1,j-1)\n",
    "sol=solve([ eq1==m[0,2],\teq2==m[0,3],\teq3==m[0,4],\teq4==m[1,2],\t\n",
    "                                            eq5==m[1,3],    eq6==m[1,4],\n",
    "                                                            eq7==m[2,4]],d1,d2,d3,d4,d5,a12,a13,a14,a15,a23,a24,a25,a34,a35,a45, solution_dict=True)\n",
    "\n",
    "show(m)\n",
    "show(sol)\n",
    "#latex(sol)"
   ]
  },
  {
   "cell_type": "code",
   "execution_count": 26,
   "metadata": {},
   "outputs": [
    {
     "data": {
      "text/html": [
       "<html><script type=\"math/tex; mode=display\">\\newcommand{\\Bold}[1]{\\mathbf{#1}}\\left(\\begin{array}{rrrrr}\n",
       "0 & 0 & 0 & 0 & 1 \\\\\n",
       "0 & 0 & 1 & 1 & 1 \\\\\n",
       "0 & 0 & 0 & 0 & 0 \\\\\n",
       "0 & 0 & 0 & 0 & 0 \\\\\n",
       "0 & 0 & 0 & 0 & 0\n",
       "\\end{array}\\right)</script></html>"
      ],
      "text/latex": [
       "$$\\newcommand{\\Bold}[1]{\\mathbf{#1}}\\left(\\begin{array}{rrrrr}\n",
       "0 & 0 & 0 & 0 & 1 \\\\\n",
       "0 & 0 & 1 & 1 & 1 \\\\\n",
       "0 & 0 & 0 & 0 & 0 \\\\\n",
       "0 & 0 & 0 & 0 & 0 \\\\\n",
       "0 & 0 & 0 & 0 & 0\n",
       "\\end{array}\\right)$$"
      ],
      "text/plain": [
       "[0 0 0 0 1]\n",
       "[0 0 1 1 1]\n",
       "[0 0 0 0 0]\n",
       "[0 0 0 0 0]\n",
       "[0 0 0 0 0]"
      ]
     },
     "metadata": {},
     "output_type": "display_data"
    },
    {
     "data": {
      "text/html": [
       "<html><script type=\"math/tex; mode=display\">\\newcommand{\\Bold}[1]{\\mathbf{#1}}\\left[\\left\\{d_{1} : r_{535}, d_{2} : 0, d_{3} : 0, d_{4} : r_{536}, d_{5} : r_{537}, a_{12} : r_{538}, a_{13} : r_{539}, a_{14} : r_{540}, a_{15} : r_{541}, a_{23} : r_{542}, a_{24} : r_{543}, a_{25} : r_{544}, a_{34} : -\\frac{r_{536} x_{24}}{x_{23}}, a_{35} : r_{545}, a_{45} : -\\frac{r_{545} x_{23} + r_{537} x_{25}}{x_{24}}\\right\\}, \\left\\{d_{1} : r_{546}, d_{2} : r_{547}, d_{3} : \\frac{r_{547}}{x_{23}}, d_{4} : r_{548}, d_{5} : \\frac{r_{546}}{x_{15}}, a_{12} : 0, a_{13} : r_{549}, a_{14} : r_{550}, a_{15} : r_{551}, a_{23} : r_{552}, a_{24} : r_{553}, a_{25} : r_{554}, a_{34} : -\\frac{r_{548} x_{24} - r_{547}}{x_{23}}, a_{35} : r_{555}, a_{45} : -\\frac{r_{555} x_{15} x_{23} - r_{547} x_{15} + r_{546} x_{25}}{x_{15} x_{24}}\\right\\}, \\left\\{d_{1} : r_{556}, d_{2} : 0, d_{3} : 0, d_{4} : r_{557}, d_{5} : \\frac{r_{556}}{x_{15}}, a_{12} : 0, a_{13} : r_{558}, a_{14} : r_{559}, a_{15} : r_{560}, a_{23} : r_{561}, a_{24} : r_{562}, a_{25} : r_{563}, a_{34} : -\\frac{r_{557} x_{24}}{x_{23}}, a_{35} : r_{564}, a_{45} : -\\frac{r_{564} x_{15} x_{23} + r_{556} x_{25}}{x_{15} x_{24}}\\right\\}\\right]</script></html>"
      ],
      "text/latex": [
       "$$\\newcommand{\\Bold}[1]{\\mathbf{#1}}\\left[\\left\\{d_{1} : r_{535}, d_{2} : 0, d_{3} : 0, d_{4} : r_{536}, d_{5} : r_{537}, a_{12} : r_{538}, a_{13} : r_{539}, a_{14} : r_{540}, a_{15} : r_{541}, a_{23} : r_{542}, a_{24} : r_{543}, a_{25} : r_{544}, a_{34} : -\\frac{r_{536} x_{24}}{x_{23}}, a_{35} : r_{545}, a_{45} : -\\frac{r_{545} x_{23} + r_{537} x_{25}}{x_{24}}\\right\\}, \\left\\{d_{1} : r_{546}, d_{2} : r_{547}, d_{3} : \\frac{r_{547}}{x_{23}}, d_{4} : r_{548}, d_{5} : \\frac{r_{546}}{x_{15}}, a_{12} : 0, a_{13} : r_{549}, a_{14} : r_{550}, a_{15} : r_{551}, a_{23} : r_{552}, a_{24} : r_{553}, a_{25} : r_{554}, a_{34} : -\\frac{r_{548} x_{24} - r_{547}}{x_{23}}, a_{35} : r_{555}, a_{45} : -\\frac{r_{555} x_{15} x_{23} - r_{547} x_{15} + r_{546} x_{25}}{x_{15} x_{24}}\\right\\}, \\left\\{d_{1} : r_{556}, d_{2} : 0, d_{3} : 0, d_{4} : r_{557}, d_{5} : \\frac{r_{556}}{x_{15}}, a_{12} : 0, a_{13} : r_{558}, a_{14} : r_{559}, a_{15} : r_{560}, a_{23} : r_{561}, a_{24} : r_{562}, a_{25} : r_{563}, a_{34} : -\\frac{r_{557} x_{24}}{x_{23}}, a_{35} : r_{564}, a_{45} : -\\frac{r_{564} x_{15} x_{23} + r_{556} x_{25}}{x_{15} x_{24}}\\right\\}\\right]$$"
      ],
      "text/plain": [
       "[{d1: r535,\n",
       "  d2: 0,\n",
       "  d3: 0,\n",
       "  d4: r536,\n",
       "  d5: r537,\n",
       "  a12: r538,\n",
       "  a13: r539,\n",
       "  a14: r540,\n",
       "  a15: r541,\n",
       "  a23: r542,\n",
       "  a24: r543,\n",
       "  a25: r544,\n",
       "  a34: -r536*x24/x23,\n",
       "  a35: r545,\n",
       "  a45: -(r545*x23 + r537*x25)/x24},\n",
       " {d1: r546,\n",
       "  d2: r547,\n",
       "  d3: r547/x23,\n",
       "  d4: r548,\n",
       "  d5: r546/x15,\n",
       "  a12: 0,\n",
       "  a13: r549,\n",
       "  a14: r550,\n",
       "  a15: r551,\n",
       "  a23: r552,\n",
       "  a24: r553,\n",
       "  a25: r554,\n",
       "  a34: -(r548*x24 - r547)/x23,\n",
       "  a35: r555,\n",
       "  a45: -(r555*x15*x23 - r547*x15 + r546*x25)/(x15*x24)},\n",
       " {d1: r556,\n",
       "  d2: 0,\n",
       "  d3: 0,\n",
       "  d4: r557,\n",
       "  d5: r556/x15,\n",
       "  a12: 0,\n",
       "  a13: r558,\n",
       "  a14: r559,\n",
       "  a15: r560,\n",
       "  a23: r561,\n",
       "  a24: r562,\n",
       "  a25: r563,\n",
       "  a34: -r557*x24/x23,\n",
       "  a35: r564,\n",
       "  a45: -(r564*x15*x23 + r556*x25)/(x15*x24)}]"
      ]
     },
     "metadata": {},
     "output_type": "display_data"
    }
   ],
   "source": [
    "#x3\n",
    "reset()\n",
    "\n",
    "var('x12,x13,x14,x15,x23,x24,x25,x34,x35,x45')\n",
    "var('d1,d2,d3,d4,d5')\n",
    "var('a12,a13,a14,a15,a23,a24,a25,a34,a35,a45')\n",
    "\n",
    "load_attach_path('C:\\\\Users\\\\julia\\\\Documents\\\\unb\\\\doutorado\\\\pensar\\\\codigo_sage_v2\\\\maquina\\\\x3')\n",
    "load('out_#011001.sage')\n",
    "\n",
    "m=matrix(QQ, [[0, 0, 0, 0, 1],\n",
    "              [0, 0, 1, 1, 1],\n",
    "              [0, 0, 0, 0, 0],\n",
    "              [0, 0, 0, 0, 0],\n",
    "              [0, 0, 0, 0, 0]])\n",
    "        \n",
    "#entry of matrix: (i,j) line i collum j, means (i-1,j-1)\n",
    "sol=solve([ eq1==m[0,2],\teq2==m[0,3],\teq3==m[0,4],\teq4==m[1,2],\t\n",
    "                                            eq5==m[1,3],    eq6==m[1,4],\n",
    "                                                            eq7==m[2,4]],d1,d2,d3,d4,d5,a12,a13,a14,a15,a23,a24,a25,a34,a35,a45, solution_dict=True)\n",
    "\n",
    "show(m)\n",
    "show(sol)\n",
    "#latex(sol)"
   ]
  },
  {
   "cell_type": "code",
   "execution_count": 27,
   "metadata": {},
   "outputs": [
    {
     "data": {
      "text/html": [
       "<html><script type=\"math/tex; mode=display\">\\newcommand{\\Bold}[1]{\\mathbf{#1}}\\left(\\begin{array}{rrrrr}\n",
       "0 & 0 & 0 & 1 & 0 \\\\\n",
       "0 & 0 & 1 & 1 & 1 \\\\\n",
       "0 & 0 & 0 & 0 & 0 \\\\\n",
       "0 & 0 & 0 & 0 & 0 \\\\\n",
       "0 & 0 & 0 & 0 & 0\n",
       "\\end{array}\\right)</script></html>"
      ],
      "text/latex": [
       "$$\\newcommand{\\Bold}[1]{\\mathbf{#1}}\\left(\\begin{array}{rrrrr}\n",
       "0 & 0 & 0 & 1 & 0 \\\\\n",
       "0 & 0 & 1 & 1 & 1 \\\\\n",
       "0 & 0 & 0 & 0 & 0 \\\\\n",
       "0 & 0 & 0 & 0 & 0 \\\\\n",
       "0 & 0 & 0 & 0 & 0\n",
       "\\end{array}\\right)$$"
      ],
      "text/plain": [
       "[0 0 0 1 0]\n",
       "[0 0 1 1 1]\n",
       "[0 0 0 0 0]\n",
       "[0 0 0 0 0]\n",
       "[0 0 0 0 0]"
      ]
     },
     "metadata": {},
     "output_type": "display_data"
    },
    {
     "data": {
      "text/html": [
       "<html><script type=\"math/tex; mode=display\">\\newcommand{\\Bold}[1]{\\mathbf{#1}}\\left[\\left\\{d_{1} : r_{565}, d_{2} : 0, d_{3} : 0, d_{4} : r_{566}, d_{5} : r_{567}, a_{12} : r_{568}, a_{13} : r_{569}, a_{14} : r_{570}, a_{15} : r_{571}, a_{23} : r_{572}, a_{24} : r_{573}, a_{25} : r_{574}, a_{34} : -\\frac{r_{566} x_{24}}{x_{23}}, a_{35} : r_{575}, a_{45} : -\\frac{r_{575} x_{23} + r_{567} x_{25}}{x_{24}}\\right\\}, \\left\\{d_{1} : r_{576}, d_{2} : 0, d_{3} : 0, d_{4} : \\frac{r_{576}}{x_{14}}, d_{5} : r_{577}, a_{12} : 0, a_{13} : r_{578}, a_{14} : r_{579}, a_{15} : r_{580}, a_{23} : r_{581}, a_{24} : r_{582}, a_{25} : r_{583}, a_{34} : -\\frac{r_{576} x_{24}}{x_{14} x_{23}}, a_{35} : r_{584}, a_{45} : -\\frac{r_{584} x_{23} + r_{577} x_{25}}{x_{24}}\\right\\}, \\left\\{d_{1} : r_{585}, d_{2} : r_{586}, d_{3} : \\frac{r_{586}}{x_{23}}, d_{4} : \\frac{r_{585}}{x_{14}}, d_{5} : r_{587}, a_{12} : 0, a_{13} : r_{588}, a_{14} : r_{589}, a_{15} : r_{590}, a_{23} : r_{591}, a_{24} : r_{592}, a_{25} : r_{593}, a_{34} : \\frac{r_{586} x_{14} - r_{585} x_{24}}{x_{14} x_{23}}, a_{35} : -\\frac{r_{587} x_{25} - r_{586}}{x_{23}}, a_{45} : 0\\right\\}\\right]</script></html>"
      ],
      "text/latex": [
       "$$\\newcommand{\\Bold}[1]{\\mathbf{#1}}\\left[\\left\\{d_{1} : r_{565}, d_{2} : 0, d_{3} : 0, d_{4} : r_{566}, d_{5} : r_{567}, a_{12} : r_{568}, a_{13} : r_{569}, a_{14} : r_{570}, a_{15} : r_{571}, a_{23} : r_{572}, a_{24} : r_{573}, a_{25} : r_{574}, a_{34} : -\\frac{r_{566} x_{24}}{x_{23}}, a_{35} : r_{575}, a_{45} : -\\frac{r_{575} x_{23} + r_{567} x_{25}}{x_{24}}\\right\\}, \\left\\{d_{1} : r_{576}, d_{2} : 0, d_{3} : 0, d_{4} : \\frac{r_{576}}{x_{14}}, d_{5} : r_{577}, a_{12} : 0, a_{13} : r_{578}, a_{14} : r_{579}, a_{15} : r_{580}, a_{23} : r_{581}, a_{24} : r_{582}, a_{25} : r_{583}, a_{34} : -\\frac{r_{576} x_{24}}{x_{14} x_{23}}, a_{35} : r_{584}, a_{45} : -\\frac{r_{584} x_{23} + r_{577} x_{25}}{x_{24}}\\right\\}, \\left\\{d_{1} : r_{585}, d_{2} : r_{586}, d_{3} : \\frac{r_{586}}{x_{23}}, d_{4} : \\frac{r_{585}}{x_{14}}, d_{5} : r_{587}, a_{12} : 0, a_{13} : r_{588}, a_{14} : r_{589}, a_{15} : r_{590}, a_{23} : r_{591}, a_{24} : r_{592}, a_{25} : r_{593}, a_{34} : \\frac{r_{586} x_{14} - r_{585} x_{24}}{x_{14} x_{23}}, a_{35} : -\\frac{r_{587} x_{25} - r_{586}}{x_{23}}, a_{45} : 0\\right\\}\\right]$$"
      ],
      "text/plain": [
       "[{d1: r565,\n",
       "  d2: 0,\n",
       "  d3: 0,\n",
       "  d4: r566,\n",
       "  d5: r567,\n",
       "  a12: r568,\n",
       "  a13: r569,\n",
       "  a14: r570,\n",
       "  a15: r571,\n",
       "  a23: r572,\n",
       "  a24: r573,\n",
       "  a25: r574,\n",
       "  a34: -r566*x24/x23,\n",
       "  a35: r575,\n",
       "  a45: -(r575*x23 + r567*x25)/x24},\n",
       " {d1: r576,\n",
       "  d2: 0,\n",
       "  d3: 0,\n",
       "  d4: r576/x14,\n",
       "  d5: r577,\n",
       "  a12: 0,\n",
       "  a13: r578,\n",
       "  a14: r579,\n",
       "  a15: r580,\n",
       "  a23: r581,\n",
       "  a24: r582,\n",
       "  a25: r583,\n",
       "  a34: -r576*x24/(x14*x23),\n",
       "  a35: r584,\n",
       "  a45: -(r584*x23 + r577*x25)/x24},\n",
       " {d1: r585,\n",
       "  d2: r586,\n",
       "  d3: r586/x23,\n",
       "  d4: r585/x14,\n",
       "  d5: r587,\n",
       "  a12: 0,\n",
       "  a13: r588,\n",
       "  a14: r589,\n",
       "  a15: r590,\n",
       "  a23: r591,\n",
       "  a24: r592,\n",
       "  a25: r593,\n",
       "  a34: (r586*x14 - r585*x24)/(x14*x23),\n",
       "  a35: -(r587*x25 - r586)/x23,\n",
       "  a45: 0}]"
      ]
     },
     "metadata": {},
     "output_type": "display_data"
    }
   ],
   "source": [
    "#x3\n",
    "reset()\n",
    "\n",
    "var('x12,x13,x14,x15,x23,x24,x25,x34,x35,x45')\n",
    "var('d1,d2,d3,d4,d5')\n",
    "var('a12,a13,a14,a15,a23,a24,a25,a34,a35,a45')\n",
    "\n",
    "load_attach_path('C:\\\\Users\\\\julia\\\\Documents\\\\unb\\\\doutorado\\\\pensar\\\\codigo_sage_v2\\\\maquina\\\\x3')\n",
    "load('out_#011010.sage')\n",
    "\n",
    "m=matrix(QQ, [[0, 0, 0, 1, 0],\n",
    "              [0, 0, 1, 1, 1],\n",
    "              [0, 0, 0, 0, 0],\n",
    "              [0, 0, 0, 0, 0],\n",
    "              [0, 0, 0, 0, 0]])\n",
    "        \n",
    "#entry of matrix: (i,j) line i collum j, means (i-1,j-1)\n",
    "sol=solve([ eq1==m[0,2],\teq2==m[0,3],\teq3==m[0,4],\teq4==m[1,2],\t\n",
    "                                            eq5==m[1,3],    eq6==m[1,4],\n",
    "                                                            eq7==m[2,4]],d1,d2,d3,d4,d5,a12,a13,a14,a15,a23,a24,a25,a34,a35,a45, solution_dict=True)\n",
    "\n",
    "show(m)\n",
    "show(sol)\n",
    "#latex(sol)"
   ]
  },
  {
   "cell_type": "code",
   "execution_count": 28,
   "metadata": {},
   "outputs": [
    {
     "data": {
      "text/html": [
       "<html><script type=\"math/tex; mode=display\">\\newcommand{\\Bold}[1]{\\mathbf{#1}}\\left(\\begin{array}{rrrrr}\n",
       "0 & 0 & 0 & 1 & 1 \\\\\n",
       "0 & 0 & 1 & 1 & 1 \\\\\n",
       "0 & 0 & 0 & 0 & 0 \\\\\n",
       "0 & 0 & 0 & 0 & 0 \\\\\n",
       "0 & 0 & 0 & 0 & 0\n",
       "\\end{array}\\right)</script></html>"
      ],
      "text/latex": [
       "$$\\newcommand{\\Bold}[1]{\\mathbf{#1}}\\left(\\begin{array}{rrrrr}\n",
       "0 & 0 & 0 & 1 & 1 \\\\\n",
       "0 & 0 & 1 & 1 & 1 \\\\\n",
       "0 & 0 & 0 & 0 & 0 \\\\\n",
       "0 & 0 & 0 & 0 & 0 \\\\\n",
       "0 & 0 & 0 & 0 & 0\n",
       "\\end{array}\\right)$$"
      ],
      "text/plain": [
       "[0 0 0 1 1]\n",
       "[0 0 1 1 1]\n",
       "[0 0 0 0 0]\n",
       "[0 0 0 0 0]\n",
       "[0 0 0 0 0]"
      ]
     },
     "metadata": {},
     "output_type": "display_data"
    },
    {
     "data": {
      "text/html": [
       "<html><script type=\"math/tex; mode=display\">\\newcommand{\\Bold}[1]{\\mathbf{#1}}\\left[\\left\\{d_{1} : r_{594}, d_{2} : 0, d_{3} : 0, d_{4} : r_{595}, d_{5} : r_{596}, a_{12} : r_{597}, a_{13} : r_{598}, a_{14} : r_{599}, a_{15} : r_{600}, a_{23} : r_{601}, a_{24} : r_{602}, a_{25} : r_{603}, a_{34} : -\\frac{r_{595} x_{24}}{x_{23}}, a_{35} : r_{604}, a_{45} : -\\frac{r_{604} x_{23} + r_{596} x_{25}}{x_{24}}\\right\\}, \\left\\{d_{1} : r_{605}, d_{2} : r_{606}, d_{3} : \\frac{r_{606}}{x_{23}}, d_{4} : \\frac{r_{605}}{x_{14}}, d_{5} : r_{607}, a_{12} : 0, a_{13} : r_{608}, a_{14} : r_{609}, a_{15} : r_{610}, a_{23} : r_{611}, a_{24} : r_{612}, a_{25} : r_{613}, a_{34} : \\frac{r_{606} x_{14} - r_{605} x_{24}}{x_{14} x_{23}}, a_{35} : -\\frac{r_{607} x_{14} x_{25} - r_{606} x_{14} - {\\left(r_{607} x_{15} - r_{605}\\right)} x_{24}}{x_{14} x_{23}}, a_{45} : -\\frac{r_{607} x_{15} - r_{605}}{x_{14}}\\right\\}, \\left\\{d_{1} : r_{614}, d_{2} : 0, d_{3} : 0, d_{4} : \\frac{r_{614}}{x_{14}}, d_{5} : r_{615}, a_{12} : 0, a_{13} : r_{616}, a_{14} : r_{617}, a_{15} : r_{618}, a_{23} : r_{619}, a_{24} : r_{620}, a_{25} : r_{621}, a_{34} : -\\frac{r_{614} x_{24}}{x_{14} x_{23}}, a_{35} : r_{622}, a_{45} : -\\frac{r_{622} x_{23} + r_{615} x_{25}}{x_{24}}\\right\\}\\right]</script></html>"
      ],
      "text/latex": [
       "$$\\newcommand{\\Bold}[1]{\\mathbf{#1}}\\left[\\left\\{d_{1} : r_{594}, d_{2} : 0, d_{3} : 0, d_{4} : r_{595}, d_{5} : r_{596}, a_{12} : r_{597}, a_{13} : r_{598}, a_{14} : r_{599}, a_{15} : r_{600}, a_{23} : r_{601}, a_{24} : r_{602}, a_{25} : r_{603}, a_{34} : -\\frac{r_{595} x_{24}}{x_{23}}, a_{35} : r_{604}, a_{45} : -\\frac{r_{604} x_{23} + r_{596} x_{25}}{x_{24}}\\right\\}, \\left\\{d_{1} : r_{605}, d_{2} : r_{606}, d_{3} : \\frac{r_{606}}{x_{23}}, d_{4} : \\frac{r_{605}}{x_{14}}, d_{5} : r_{607}, a_{12} : 0, a_{13} : r_{608}, a_{14} : r_{609}, a_{15} : r_{610}, a_{23} : r_{611}, a_{24} : r_{612}, a_{25} : r_{613}, a_{34} : \\frac{r_{606} x_{14} - r_{605} x_{24}}{x_{14} x_{23}}, a_{35} : -\\frac{r_{607} x_{14} x_{25} - r_{606} x_{14} - {\\left(r_{607} x_{15} - r_{605}\\right)} x_{24}}{x_{14} x_{23}}, a_{45} : -\\frac{r_{607} x_{15} - r_{605}}{x_{14}}\\right\\}, \\left\\{d_{1} : r_{614}, d_{2} : 0, d_{3} : 0, d_{4} : \\frac{r_{614}}{x_{14}}, d_{5} : r_{615}, a_{12} : 0, a_{13} : r_{616}, a_{14} : r_{617}, a_{15} : r_{618}, a_{23} : r_{619}, a_{24} : r_{620}, a_{25} : r_{621}, a_{34} : -\\frac{r_{614} x_{24}}{x_{14} x_{23}}, a_{35} : r_{622}, a_{45} : -\\frac{r_{622} x_{23} + r_{615} x_{25}}{x_{24}}\\right\\}\\right]$$"
      ],
      "text/plain": [
       "[{d1: r594,\n",
       "  d2: 0,\n",
       "  d3: 0,\n",
       "  d4: r595,\n",
       "  d5: r596,\n",
       "  a12: r597,\n",
       "  a13: r598,\n",
       "  a14: r599,\n",
       "  a15: r600,\n",
       "  a23: r601,\n",
       "  a24: r602,\n",
       "  a25: r603,\n",
       "  a34: -r595*x24/x23,\n",
       "  a35: r604,\n",
       "  a45: -(r604*x23 + r596*x25)/x24},\n",
       " {d1: r605,\n",
       "  d2: r606,\n",
       "  d3: r606/x23,\n",
       "  d4: r605/x14,\n",
       "  d5: r607,\n",
       "  a12: 0,\n",
       "  a13: r608,\n",
       "  a14: r609,\n",
       "  a15: r610,\n",
       "  a23: r611,\n",
       "  a24: r612,\n",
       "  a25: r613,\n",
       "  a34: (r606*x14 - r605*x24)/(x14*x23),\n",
       "  a35: -(r607*x14*x25 - r606*x14 - (r607*x15 - r605)*x24)/(x14*x23),\n",
       "  a45: -(r607*x15 - r605)/x14},\n",
       " {d1: r614,\n",
       "  d2: 0,\n",
       "  d3: 0,\n",
       "  d4: r614/x14,\n",
       "  d5: r615,\n",
       "  a12: 0,\n",
       "  a13: r616,\n",
       "  a14: r617,\n",
       "  a15: r618,\n",
       "  a23: r619,\n",
       "  a24: r620,\n",
       "  a25: r621,\n",
       "  a34: -r614*x24/(x14*x23),\n",
       "  a35: r622,\n",
       "  a45: -(r622*x23 + r615*x25)/x24}]"
      ]
     },
     "metadata": {},
     "output_type": "display_data"
    }
   ],
   "source": [
    "#x3\n",
    "reset()\n",
    "\n",
    "var('x12,x13,x14,x15,x23,x24,x25,x34,x35,x45')\n",
    "var('d1,d2,d3,d4,d5')\n",
    "var('a12,a13,a14,a15,a23,a24,a25,a34,a35,a45')\n",
    "\n",
    "load_attach_path('C:\\\\Users\\\\julia\\\\Documents\\\\unb\\\\doutorado\\\\pensar\\\\codigo_sage_v2\\\\maquina\\\\x3')\n",
    "load('out_#011011.sage')\n",
    "\n",
    "m=matrix(QQ, [[0, 0, 0, 1, 1],\n",
    "              [0, 0, 1, 1, 1],\n",
    "              [0, 0, 0, 0, 0],\n",
    "              [0, 0, 0, 0, 0],\n",
    "              [0, 0, 0, 0, 0]])\n",
    "        \n",
    "#entry of matrix: (i,j) line i collum j, means (i-1,j-1)\n",
    "sol=solve([ eq1==m[0,2],\teq2==m[0,3],\teq3==m[0,4],\teq4==m[1,2],\t\n",
    "                                            eq5==m[1,3],    eq6==m[1,4],\n",
    "                                                            eq7==m[2,4]],d1,d2,d3,d4,d5,a12,a13,a14,a15,a23,a24,a25,a34,a35,a45, solution_dict=True)\n",
    "\n",
    "show(m)\n",
    "show(sol)\n",
    "#latex(sol)"
   ]
  },
  {
   "cell_type": "code",
   "execution_count": 29,
   "metadata": {},
   "outputs": [
    {
     "data": {
      "text/html": [
       "<html><script type=\"math/tex; mode=display\">\\newcommand{\\Bold}[1]{\\mathbf{#1}}\\left(\\begin{array}{rrrrr}\n",
       "0 & 0 & 1 & 0 & 0 \\\\\n",
       "0 & 0 & 1 & 1 & 1 \\\\\n",
       "0 & 0 & 0 & 0 & 0 \\\\\n",
       "0 & 0 & 0 & 0 & 0 \\\\\n",
       "0 & 0 & 0 & 0 & 0\n",
       "\\end{array}\\right)</script></html>"
      ],
      "text/latex": [
       "$$\\newcommand{\\Bold}[1]{\\mathbf{#1}}\\left(\\begin{array}{rrrrr}\n",
       "0 & 0 & 1 & 0 & 0 \\\\\n",
       "0 & 0 & 1 & 1 & 1 \\\\\n",
       "0 & 0 & 0 & 0 & 0 \\\\\n",
       "0 & 0 & 0 & 0 & 0 \\\\\n",
       "0 & 0 & 0 & 0 & 0\n",
       "\\end{array}\\right)$$"
      ],
      "text/plain": [
       "[0 0 1 0 0]\n",
       "[0 0 1 1 1]\n",
       "[0 0 0 0 0]\n",
       "[0 0 0 0 0]\n",
       "[0 0 0 0 0]"
      ]
     },
     "metadata": {},
     "output_type": "display_data"
    },
    {
     "data": {
      "text/html": [
       "<html><script type=\"math/tex; mode=display\">\\newcommand{\\Bold}[1]{\\mathbf{#1}}\\left[\\left\\{d_{1} : r_{623}, d_{2} : 0, d_{3} : 0, d_{4} : r_{624}, d_{5} : r_{625}, a_{12} : r_{626}, a_{13} : r_{627}, a_{14} : r_{628}, a_{15} : r_{629}, a_{23} : r_{630}, a_{24} : r_{631}, a_{25} : r_{632}, a_{34} : -\\frac{r_{624} x_{24}}{x_{23}}, a_{35} : r_{633}, a_{45} : -\\frac{r_{633} x_{23} + r_{625} x_{25}}{x_{24}}\\right\\}, \\left\\{d_{1} : r_{634}, d_{2} : r_{635}, d_{3} : \\frac{r_{635}}{x_{23}}, d_{4} : \\frac{r_{634} x_{23}}{x_{13} x_{24}}, d_{5} : r_{636}, a_{12} : \\frac{r_{635} x_{13} - r_{634} x_{23}}{x_{23}}, a_{13} : r_{637}, a_{14} : r_{638}, a_{15} : r_{639}, a_{23} : r_{640}, a_{24} : r_{641}, a_{25} : r_{642}, a_{34} : \\frac{r_{635} x_{13} - r_{634} x_{23}}{x_{13} x_{23}}, a_{35} : \\frac{r_{635} x_{13} - r_{634} x_{23}}{x_{13} x_{23}}, a_{45} : -\\frac{r_{636} x_{13} x_{25} - r_{634} x_{23}}{x_{13} x_{24}}\\right\\}\\right]</script></html>"
      ],
      "text/latex": [
       "$$\\newcommand{\\Bold}[1]{\\mathbf{#1}}\\left[\\left\\{d_{1} : r_{623}, d_{2} : 0, d_{3} : 0, d_{4} : r_{624}, d_{5} : r_{625}, a_{12} : r_{626}, a_{13} : r_{627}, a_{14} : r_{628}, a_{15} : r_{629}, a_{23} : r_{630}, a_{24} : r_{631}, a_{25} : r_{632}, a_{34} : -\\frac{r_{624} x_{24}}{x_{23}}, a_{35} : r_{633}, a_{45} : -\\frac{r_{633} x_{23} + r_{625} x_{25}}{x_{24}}\\right\\}, \\left\\{d_{1} : r_{634}, d_{2} : r_{635}, d_{3} : \\frac{r_{635}}{x_{23}}, d_{4} : \\frac{r_{634} x_{23}}{x_{13} x_{24}}, d_{5} : r_{636}, a_{12} : \\frac{r_{635} x_{13} - r_{634} x_{23}}{x_{23}}, a_{13} : r_{637}, a_{14} : r_{638}, a_{15} : r_{639}, a_{23} : r_{640}, a_{24} : r_{641}, a_{25} : r_{642}, a_{34} : \\frac{r_{635} x_{13} - r_{634} x_{23}}{x_{13} x_{23}}, a_{35} : \\frac{r_{635} x_{13} - r_{634} x_{23}}{x_{13} x_{23}}, a_{45} : -\\frac{r_{636} x_{13} x_{25} - r_{634} x_{23}}{x_{13} x_{24}}\\right\\}\\right]$$"
      ],
      "text/plain": [
       "[{d1: r623,\n",
       "  d2: 0,\n",
       "  d3: 0,\n",
       "  d4: r624,\n",
       "  d5: r625,\n",
       "  a12: r626,\n",
       "  a13: r627,\n",
       "  a14: r628,\n",
       "  a15: r629,\n",
       "  a23: r630,\n",
       "  a24: r631,\n",
       "  a25: r632,\n",
       "  a34: -r624*x24/x23,\n",
       "  a35: r633,\n",
       "  a45: -(r633*x23 + r625*x25)/x24},\n",
       " {d1: r634,\n",
       "  d2: r635,\n",
       "  d3: r635/x23,\n",
       "  d4: r634*x23/(x13*x24),\n",
       "  d5: r636,\n",
       "  a12: (r635*x13 - r634*x23)/x23,\n",
       "  a13: r637,\n",
       "  a14: r638,\n",
       "  a15: r639,\n",
       "  a23: r640,\n",
       "  a24: r641,\n",
       "  a25: r642,\n",
       "  a34: (r635*x13 - r634*x23)/(x13*x23),\n",
       "  a35: (r635*x13 - r634*x23)/(x13*x23),\n",
       "  a45: -(r636*x13*x25 - r634*x23)/(x13*x24)}]"
      ]
     },
     "metadata": {},
     "output_type": "display_data"
    }
   ],
   "source": [
    "#x3\n",
    "reset()\n",
    "\n",
    "var('x12,x13,x14,x15,x23,x24,x25,x34,x35,x45')\n",
    "var('d1,d2,d3,d4,d5')\n",
    "var('a12,a13,a14,a15,a23,a24,a25,a34,a35,a45')\n",
    "\n",
    "load_attach_path('C:\\\\Users\\\\julia\\\\Documents\\\\unb\\\\doutorado\\\\pensar\\\\codigo_sage_v2\\\\maquina\\\\x3')\n",
    "load('out_#011100.sage')\n",
    "\n",
    "m=matrix(QQ, [[0, 0, 1, 0, 0],\n",
    "              [0, 0, 1, 1, 1],\n",
    "              [0, 0, 0, 0, 0],\n",
    "              [0, 0, 0, 0, 0],\n",
    "              [0, 0, 0, 0, 0]])\n",
    "        \n",
    "#entry of matrix: (i,j) line i collum j, means (i-1,j-1)\n",
    "sol=solve([ eq1==m[0,2],\teq2==m[0,3],\teq3==m[0,4],\teq4==m[1,2],\t\n",
    "                                            eq5==m[1,3],    eq6==m[1,4],\n",
    "                                                            eq7==m[2,4]],d1,d2,d3,d4,d5,a12,a13,a14,a15,a23,a24,a25,a34,a35,a45, solution_dict=True)\n",
    "\n",
    "show(m)\n",
    "show(sol)\n",
    "#latex(sol)"
   ]
  },
  {
   "cell_type": "code",
   "execution_count": 15,
   "metadata": {},
   "outputs": [
    {
     "data": {
      "text/html": [
       "<html><script type=\"math/tex; mode=display\">\\newcommand{\\Bold}[1]{\\mathbf{#1}}\\left(\\begin{array}{rrrrr}\n",
       "0 & 0 & 1 & 0 & 1 \\\\\n",
       "0 & 0 & 1 & 1 & 0 \\\\\n",
       "0 & 0 & 0 & 0 & 0 \\\\\n",
       "0 & 0 & 0 & 0 & 0 \\\\\n",
       "0 & 0 & 0 & 0 & 0\n",
       "\\end{array}\\right)</script></html>"
      ],
      "text/latex": [
       "$$\\newcommand{\\Bold}[1]{\\mathbf{#1}}\\left(\\begin{array}{rrrrr}\n",
       "0 & 0 & 1 & 0 & 1 \\\\\n",
       "0 & 0 & 1 & 1 & 0 \\\\\n",
       "0 & 0 & 0 & 0 & 0 \\\\\n",
       "0 & 0 & 0 & 0 & 0 \\\\\n",
       "0 & 0 & 0 & 0 & 0\n",
       "\\end{array}\\right)$$"
      ],
      "text/plain": [
       "[0 0 1 0 1]\n",
       "[0 0 1 1 0]\n",
       "[0 0 0 0 0]\n",
       "[0 0 0 0 0]\n",
       "[0 0 0 0 0]"
      ]
     },
     "metadata": {},
     "output_type": "display_data"
    },
    {
     "data": {
      "text/html": [
       "<html><script type=\"math/tex; mode=display\">\\newcommand{\\Bold}[1]{\\mathbf{#1}}\\left[\\left\\{d_{1} : r_{317}, d_{2} : 0, d_{3} : 0, d_{4} : r_{318}, d_{5} : r_{319}, a_{12} : r_{320}, a_{13} : r_{321}, a_{14} : r_{322}, a_{15} : r_{323}, a_{23} : r_{324}, a_{24} : r_{325}, a_{25} : r_{326}, a_{34} : -\\frac{r_{318} x_{24}}{x_{23}}, a_{35} : r_{327}, a_{45} : -\\frac{r_{327} x_{23} + r_{319} x_{25}}{x_{24}}\\right\\}, \\left\\{d_{1} : r_{328}, d_{2} : r_{329}, d_{3} : \\frac{r_{329}}{x_{23}}, d_{4} : \\frac{r_{328} x_{23}}{x_{13} x_{24}}, d_{5} : r_{330}, a_{12} : \\frac{r_{329} x_{13} - r_{328} x_{23}}{x_{23}}, a_{13} : r_{331}, a_{14} : r_{332}, a_{15} : r_{333}, a_{23} : r_{334}, a_{24} : r_{335}, a_{25} : r_{336}, a_{34} : \\frac{r_{329} x_{13} - r_{328} x_{23}}{x_{13} x_{23}}, a_{35} : -\\frac{r_{330} x_{15} - r_{328}}{x_{13}}, a_{45} : -\\frac{r_{330} x_{13} x_{25} - {\\left(r_{330} x_{15} - r_{328}\\right)} x_{23}}{x_{13} x_{24}}\\right\\}\\right]</script></html>"
      ],
      "text/latex": [
       "$$\\newcommand{\\Bold}[1]{\\mathbf{#1}}\\left[\\left\\{d_{1} : r_{317}, d_{2} : 0, d_{3} : 0, d_{4} : r_{318}, d_{5} : r_{319}, a_{12} : r_{320}, a_{13} : r_{321}, a_{14} : r_{322}, a_{15} : r_{323}, a_{23} : r_{324}, a_{24} : r_{325}, a_{25} : r_{326}, a_{34} : -\\frac{r_{318} x_{24}}{x_{23}}, a_{35} : r_{327}, a_{45} : -\\frac{r_{327} x_{23} + r_{319} x_{25}}{x_{24}}\\right\\}, \\left\\{d_{1} : r_{328}, d_{2} : r_{329}, d_{3} : \\frac{r_{329}}{x_{23}}, d_{4} : \\frac{r_{328} x_{23}}{x_{13} x_{24}}, d_{5} : r_{330}, a_{12} : \\frac{r_{329} x_{13} - r_{328} x_{23}}{x_{23}}, a_{13} : r_{331}, a_{14} : r_{332}, a_{15} : r_{333}, a_{23} : r_{334}, a_{24} : r_{335}, a_{25} : r_{336}, a_{34} : \\frac{r_{329} x_{13} - r_{328} x_{23}}{x_{13} x_{23}}, a_{35} : -\\frac{r_{330} x_{15} - r_{328}}{x_{13}}, a_{45} : -\\frac{r_{330} x_{13} x_{25} - {\\left(r_{330} x_{15} - r_{328}\\right)} x_{23}}{x_{13} x_{24}}\\right\\}\\right]$$"
      ],
      "text/plain": [
       "[{d1: r317,\n",
       "  d2: 0,\n",
       "  d3: 0,\n",
       "  d4: r318,\n",
       "  d5: r319,\n",
       "  a12: r320,\n",
       "  a13: r321,\n",
       "  a14: r322,\n",
       "  a15: r323,\n",
       "  a23: r324,\n",
       "  a24: r325,\n",
       "  a25: r326,\n",
       "  a34: -r318*x24/x23,\n",
       "  a35: r327,\n",
       "  a45: -(r327*x23 + r319*x25)/x24},\n",
       " {d1: r328,\n",
       "  d2: r329,\n",
       "  d3: r329/x23,\n",
       "  d4: r328*x23/(x13*x24),\n",
       "  d5: r330,\n",
       "  a12: (r329*x13 - r328*x23)/x23,\n",
       "  a13: r331,\n",
       "  a14: r332,\n",
       "  a15: r333,\n",
       "  a23: r334,\n",
       "  a24: r335,\n",
       "  a25: r336,\n",
       "  a34: (r329*x13 - r328*x23)/(x13*x23),\n",
       "  a35: -(r330*x15 - r328)/x13,\n",
       "  a45: -(r330*x13*x25 - (r330*x15 - r328)*x23)/(x13*x24)}]"
      ]
     },
     "metadata": {},
     "output_type": "display_data"
    }
   ],
   "source": [
    "#x3\n",
    "reset()\n",
    "\n",
    "var('x12,x13,x14,x15,x23,x24,x25,x34,x35,x45')\n",
    "var('d1,d2,d3,d4,d5')\n",
    "var('a12,a13,a14,a15,a23,a24,a25,a34,a35,a45')\n",
    "\n",
    "load_attach_path('C:\\\\Users\\\\julia\\\\Documents\\\\unb\\\\doutorado\\\\pensar\\\\codigo_sage_v2\\\\maquina\\\\x3')\n",
    "load('out_#011101.sage')\n",
    "\n",
    "m=matrix(QQ, [[0, 0, 1, 0, 1],\n",
    "              [0, 0, 1, 1, 0],\n",
    "              [0, 0, 0, 0, 0],\n",
    "              [0, 0, 0, 0, 0],\n",
    "              [0, 0, 0, 0, 0]])\n",
    "        \n",
    "#entry of matrix: (i,j) line i collum j, means (i-1,j-1)\n",
    "sol=solve([ eq1==m[0,2],\teq2==m[0,3],\teq3==m[0,4],\teq4==m[1,2],\t\n",
    "                                            eq5==m[1,3],    eq6==m[1,4],\n",
    "                                                            eq7==m[2,4]],d1,d2,d3,d4,d5,a12,a13,a14,a15,a23,a24,a25,a34,a35,a45, solution_dict=True)\n",
    "\n",
    "show(m)\n",
    "show(sol)\n",
    "#latex(sol)"
   ]
  },
  {
   "cell_type": "code",
   "execution_count": 16,
   "metadata": {},
   "outputs": [
    {
     "data": {
      "text/html": [
       "<html><script type=\"math/tex; mode=display\">\\newcommand{\\Bold}[1]{\\mathbf{#1}}\\left(\\begin{array}{rrrrr}\n",
       "0 & 0 & 1 & 1 & 0 \\\\\n",
       "0 & 0 & 1 & 0 & 1 \\\\\n",
       "0 & 0 & 0 & 0 & 0 \\\\\n",
       "0 & 0 & 0 & 0 & 0 \\\\\n",
       "0 & 0 & 0 & 0 & 0\n",
       "\\end{array}\\right)</script></html>"
      ],
      "text/latex": [
       "$$\\newcommand{\\Bold}[1]{\\mathbf{#1}}\\left(\\begin{array}{rrrrr}\n",
       "0 & 0 & 1 & 1 & 0 \\\\\n",
       "0 & 0 & 1 & 0 & 1 \\\\\n",
       "0 & 0 & 0 & 0 & 0 \\\\\n",
       "0 & 0 & 0 & 0 & 0 \\\\\n",
       "0 & 0 & 0 & 0 & 0\n",
       "\\end{array}\\right)$$"
      ],
      "text/plain": [
       "[0 0 1 1 0]\n",
       "[0 0 1 0 1]\n",
       "[0 0 0 0 0]\n",
       "[0 0 0 0 0]\n",
       "[0 0 0 0 0]"
      ]
     },
     "metadata": {},
     "output_type": "display_data"
    },
    {
     "data": {
      "text/html": [
       "<html><script type=\"math/tex; mode=display\">\\newcommand{\\Bold}[1]{\\mathbf{#1}}\\left[\\left\\{d_{1} : r_{337}, d_{2} : 0, d_{3} : 0, d_{4} : r_{338}, d_{5} : r_{339}, a_{12} : r_{340}, a_{13} : r_{341}, a_{14} : r_{342}, a_{15} : r_{343}, a_{23} : r_{344}, a_{24} : r_{345}, a_{25} : r_{346}, a_{34} : -\\frac{r_{338} x_{24}}{x_{23}}, a_{35} : r_{347}, a_{45} : -\\frac{r_{347} x_{23} + r_{339} x_{25}}{x_{24}}\\right\\}, \\left\\{d_{1} : r_{348}, d_{2} : r_{349}, d_{3} : \\frac{r_{349}}{x_{23}}, d_{4} : \\frac{r_{348} x_{23}}{x_{14} x_{23} - x_{13} x_{24}}, d_{5} : r_{350}, a_{12} : \\frac{r_{349} x_{13} - r_{348} x_{23}}{x_{23}}, a_{13} : r_{351}, a_{14} : r_{352}, a_{15} : r_{353}, a_{23} : r_{354}, a_{24} : r_{355}, a_{25} : r_{356}, a_{34} : -\\frac{r_{348} x_{24}}{x_{14} x_{23} - x_{13} x_{24}}, a_{35} : -\\frac{r_{350} x_{14} x_{23} x_{25} - r_{349} x_{14} x_{23} + {\\left(r_{349} x_{13} - r_{348} x_{23}\\right)} x_{24}}{x_{14} x_{23}^{2} - x_{13} x_{23} x_{24}}, a_{45} : \\frac{r_{350} x_{13} x_{25} - r_{348} x_{23}}{x_{14} x_{23} - x_{13} x_{24}}\\right\\}\\right]</script></html>"
      ],
      "text/latex": [
       "$$\\newcommand{\\Bold}[1]{\\mathbf{#1}}\\left[\\left\\{d_{1} : r_{337}, d_{2} : 0, d_{3} : 0, d_{4} : r_{338}, d_{5} : r_{339}, a_{12} : r_{340}, a_{13} : r_{341}, a_{14} : r_{342}, a_{15} : r_{343}, a_{23} : r_{344}, a_{24} : r_{345}, a_{25} : r_{346}, a_{34} : -\\frac{r_{338} x_{24}}{x_{23}}, a_{35} : r_{347}, a_{45} : -\\frac{r_{347} x_{23} + r_{339} x_{25}}{x_{24}}\\right\\}, \\left\\{d_{1} : r_{348}, d_{2} : r_{349}, d_{3} : \\frac{r_{349}}{x_{23}}, d_{4} : \\frac{r_{348} x_{23}}{x_{14} x_{23} - x_{13} x_{24}}, d_{5} : r_{350}, a_{12} : \\frac{r_{349} x_{13} - r_{348} x_{23}}{x_{23}}, a_{13} : r_{351}, a_{14} : r_{352}, a_{15} : r_{353}, a_{23} : r_{354}, a_{24} : r_{355}, a_{25} : r_{356}, a_{34} : -\\frac{r_{348} x_{24}}{x_{14} x_{23} - x_{13} x_{24}}, a_{35} : -\\frac{r_{350} x_{14} x_{23} x_{25} - r_{349} x_{14} x_{23} + {\\left(r_{349} x_{13} - r_{348} x_{23}\\right)} x_{24}}{x_{14} x_{23}^{2} - x_{13} x_{23} x_{24}}, a_{45} : \\frac{r_{350} x_{13} x_{25} - r_{348} x_{23}}{x_{14} x_{23} - x_{13} x_{24}}\\right\\}\\right]$$"
      ],
      "text/plain": [
       "[{d1: r337,\n",
       "  d2: 0,\n",
       "  d3: 0,\n",
       "  d4: r338,\n",
       "  d5: r339,\n",
       "  a12: r340,\n",
       "  a13: r341,\n",
       "  a14: r342,\n",
       "  a15: r343,\n",
       "  a23: r344,\n",
       "  a24: r345,\n",
       "  a25: r346,\n",
       "  a34: -r338*x24/x23,\n",
       "  a35: r347,\n",
       "  a45: -(r347*x23 + r339*x25)/x24},\n",
       " {d1: r348,\n",
       "  d2: r349,\n",
       "  d3: r349/x23,\n",
       "  d4: r348*x23/(x14*x23 - x13*x24),\n",
       "  d5: r350,\n",
       "  a12: (r349*x13 - r348*x23)/x23,\n",
       "  a13: r351,\n",
       "  a14: r352,\n",
       "  a15: r353,\n",
       "  a23: r354,\n",
       "  a24: r355,\n",
       "  a25: r356,\n",
       "  a34: -r348*x24/(x14*x23 - x13*x24),\n",
       "  a35: -(r350*x14*x23*x25 - r349*x14*x23 + (r349*x13 - r348*x23)*x24)/(x14*x23^2 - x13*x23*x24),\n",
       "  a45: (r350*x13*x25 - r348*x23)/(x14*x23 - x13*x24)}]"
      ]
     },
     "metadata": {},
     "output_type": "display_data"
    }
   ],
   "source": [
    "#x3\n",
    "#----------------------\n",
    "#x14 \\neq x13*x24/x23\n",
    "#----------------------\n",
    "reset()\n",
    "\n",
    "var('x12,x13,x14,x15,x23,x24,x25,x34,x35,x45')\n",
    "var('d1,d2,d3,d4,d5')\n",
    "var('a12,a13,a14,a15,a23,a24,a25,a34,a35,a45')\n",
    "\n",
    "load_attach_path('C:\\\\Users\\\\julia\\\\Documents\\\\unb\\\\doutorado\\\\pensar\\\\codigo_sage_v2\\\\maquina\\\\x3')\n",
    "load('out_#011110.sage')\n",
    "\n",
    "m=matrix(QQ, [[0, 0, 1, 1, 0],\n",
    "              [0, 0, 1, 0, 1],\n",
    "              [0, 0, 0, 0, 0],\n",
    "              [0, 0, 0, 0, 0],\n",
    "              [0, 0, 0, 0, 0]])\n",
    "        \n",
    "#entry of matrix: (i,j) line i collum j, means (i-1,j-1)\n",
    "sol=solve([ eq1==m[0,2],\teq2==m[0,3],\teq3==m[0,4],\teq4==m[1,2],\t\n",
    "                                            eq5==m[1,3],    eq6==m[1,4],\n",
    "                                                            eq7==m[2,4]],d1,d2,d3,d4,d5,a12,a13,a14,a15,a23,a24,a25,a34,a35,a45, solution_dict=True)\n",
    "\n",
    "show(m)\n",
    "show(sol)\n",
    "#latex(sol)"
   ]
  },
  {
   "cell_type": "code",
   "execution_count": 19,
   "metadata": {},
   "outputs": [
    {
     "data": {
      "text/html": [
       "<html><script type=\"math/tex; mode=display\">\\newcommand{\\Bold}[1]{\\mathbf{#1}}\\left(\\begin{array}{rrrrr}\n",
       "0 & 0 & 1 & 1 & 0 \\\\\n",
       "0 & 0 & 1 & 1 & 1 \\\\\n",
       "0 & 0 & 0 & 0 & 0 \\\\\n",
       "0 & 0 & 0 & 0 & 0 \\\\\n",
       "0 & 0 & 0 & 0 & 0\n",
       "\\end{array}\\right)</script></html>"
      ],
      "text/latex": [
       "$$\\newcommand{\\Bold}[1]{\\mathbf{#1}}\\left(\\begin{array}{rrrrr}\n",
       "0 & 0 & 1 & 1 & 0 \\\\\n",
       "0 & 0 & 1 & 1 & 1 \\\\\n",
       "0 & 0 & 0 & 0 & 0 \\\\\n",
       "0 & 0 & 0 & 0 & 0 \\\\\n",
       "0 & 0 & 0 & 0 & 0\n",
       "\\end{array}\\right)$$"
      ],
      "text/plain": [
       "[0 0 1 1 0]\n",
       "[0 0 1 1 1]\n",
       "[0 0 0 0 0]\n",
       "[0 0 0 0 0]\n",
       "[0 0 0 0 0]"
      ]
     },
     "metadata": {},
     "output_type": "display_data"
    },
    {
     "data": {
      "text/html": [
       "<html><script type=\"math/tex; mode=display\">\\newcommand{\\Bold}[1]{\\mathbf{#1}}\\left[\\left\\{d_{1} : r_{405}, d_{2} : 0, d_{3} : 0, d_{4} : r_{406}, d_{5} : r_{407}, a_{12} : r_{408}, a_{13} : r_{409}, a_{14} : r_{410}, a_{15} : r_{411}, a_{23} : r_{412}, a_{24} : r_{413}, a_{25} : r_{414}, a_{34} : -\\frac{r_{406} x_{24}}{x_{23}}, a_{35} : r_{415}, a_{45} : -\\frac{r_{415} x_{23} + r_{407} x_{25}}{x_{24}}\\right\\}, \\left\\{d_{1} : r_{416}, d_{2} : r_{417}, d_{3} : \\frac{r_{417}}{x_{23}}, d_{4} : r_{418}, d_{5} : \\frac{r_{416} x_{23}}{x_{13} x_{25}}, a_{12} : \\frac{r_{417} x_{13} - r_{416} x_{23}}{x_{23}}, a_{13} : r_{419}, a_{14} : r_{420}, a_{15} : r_{421}, a_{23} : r_{422}, a_{24} : r_{423}, a_{25} : r_{424}, a_{34} : -\\frac{r_{418} x_{24} - r_{417}}{x_{23}}, a_{35} : r_{425}, a_{45} : \\frac{r_{417} x_{13} - {\\left(r_{425} x_{13} + r_{416}\\right)} x_{23}}{x_{13} x_{24}}\\right\\}, \\left\\{d_{1} : 0, d_{2} : r_{426}, d_{3} : \\frac{r_{426}}{x_{23}}, d_{4} : r_{427}, d_{5} : 0, a_{12} : \\frac{r_{426} x_{13}}{x_{23}}, a_{13} : r_{428}, a_{14} : r_{429}, a_{15} : r_{430}, a_{23} : r_{431}, a_{24} : r_{432}, a_{25} : r_{433}, a_{34} : -\\frac{r_{427} x_{24} - r_{426}}{x_{23}}, a_{35} : r_{434}, a_{45} : -\\frac{r_{434} x_{23} - r_{426}}{x_{24}}\\right\\}\\right]</script></html>"
      ],
      "text/latex": [
       "$$\\newcommand{\\Bold}[1]{\\mathbf{#1}}\\left[\\left\\{d_{1} : r_{405}, d_{2} : 0, d_{3} : 0, d_{4} : r_{406}, d_{5} : r_{407}, a_{12} : r_{408}, a_{13} : r_{409}, a_{14} : r_{410}, a_{15} : r_{411}, a_{23} : r_{412}, a_{24} : r_{413}, a_{25} : r_{414}, a_{34} : -\\frac{r_{406} x_{24}}{x_{23}}, a_{35} : r_{415}, a_{45} : -\\frac{r_{415} x_{23} + r_{407} x_{25}}{x_{24}}\\right\\}, \\left\\{d_{1} : r_{416}, d_{2} : r_{417}, d_{3} : \\frac{r_{417}}{x_{23}}, d_{4} : r_{418}, d_{5} : \\frac{r_{416} x_{23}}{x_{13} x_{25}}, a_{12} : \\frac{r_{417} x_{13} - r_{416} x_{23}}{x_{23}}, a_{13} : r_{419}, a_{14} : r_{420}, a_{15} : r_{421}, a_{23} : r_{422}, a_{24} : r_{423}, a_{25} : r_{424}, a_{34} : -\\frac{r_{418} x_{24} - r_{417}}{x_{23}}, a_{35} : r_{425}, a_{45} : \\frac{r_{417} x_{13} - {\\left(r_{425} x_{13} + r_{416}\\right)} x_{23}}{x_{13} x_{24}}\\right\\}, \\left\\{d_{1} : 0, d_{2} : r_{426}, d_{3} : \\frac{r_{426}}{x_{23}}, d_{4} : r_{427}, d_{5} : 0, a_{12} : \\frac{r_{426} x_{13}}{x_{23}}, a_{13} : r_{428}, a_{14} : r_{429}, a_{15} : r_{430}, a_{23} : r_{431}, a_{24} : r_{432}, a_{25} : r_{433}, a_{34} : -\\frac{r_{427} x_{24} - r_{426}}{x_{23}}, a_{35} : r_{434}, a_{45} : -\\frac{r_{434} x_{23} - r_{426}}{x_{24}}\\right\\}\\right]$$"
      ],
      "text/plain": [
       "[{d1: r405,\n",
       "  d2: 0,\n",
       "  d3: 0,\n",
       "  d4: r406,\n",
       "  d5: r407,\n",
       "  a12: r408,\n",
       "  a13: r409,\n",
       "  a14: r410,\n",
       "  a15: r411,\n",
       "  a23: r412,\n",
       "  a24: r413,\n",
       "  a25: r414,\n",
       "  a34: -r406*x24/x23,\n",
       "  a35: r415,\n",
       "  a45: -(r415*x23 + r407*x25)/x24},\n",
       " {d1: r416,\n",
       "  d2: r417,\n",
       "  d3: r417/x23,\n",
       "  d4: r418,\n",
       "  d5: r416*x23/(x13*x25),\n",
       "  a12: (r417*x13 - r416*x23)/x23,\n",
       "  a13: r419,\n",
       "  a14: r420,\n",
       "  a15: r421,\n",
       "  a23: r422,\n",
       "  a24: r423,\n",
       "  a25: r424,\n",
       "  a34: -(r418*x24 - r417)/x23,\n",
       "  a35: r425,\n",
       "  a45: (r417*x13 - (r425*x13 + r416)*x23)/(x13*x24)},\n",
       " {d1: 0,\n",
       "  d2: r426,\n",
       "  d3: r426/x23,\n",
       "  d4: r427,\n",
       "  d5: 0,\n",
       "  a12: r426*x13/x23,\n",
       "  a13: r428,\n",
       "  a14: r429,\n",
       "  a15: r430,\n",
       "  a23: r431,\n",
       "  a24: r432,\n",
       "  a25: r433,\n",
       "  a34: -(r427*x24 - r426)/x23,\n",
       "  a35: r434,\n",
       "  a45: -(r434*x23 - r426)/x24}]"
      ]
     },
     "metadata": {},
     "output_type": "display_data"
    }
   ],
   "source": [
    "#x3\n",
    "#----------------------\n",
    "#x14 = x13*x24/x23\n",
    "#----------------------\n",
    "reset()\n",
    "\n",
    "var('x12,x13,x14,x15,x23,x24,x25,x34,x35,x45')\n",
    "var('d1,d2,d3,d4,d5')\n",
    "var('a12,a13,a14,a15,a23,a24,a25,a34,a35,a45')\n",
    "\n",
    "#011110\n",
    "eq1=(d2*d3*x13-a12*d3*x23)/(d1*d2) \n",
    "eq2=(a34*d2*x13+d2*d4*((x13*x24)/x23)-a12*a34*x23-a12*d4*x24)/(d1*d2) \n",
    "eq3=(a35*d2*d3*x13+a45*d2*d3*((x13*x24)/x23)+d2*d3*d5*0-a12*a35*d3*x23-a12*a45*d3*x24-a12*d3*d5*x25+a12*a23*d5*0-a13*d2*d5*0)/(d1*d2*d3) \n",
    "eq4=(d3*x23)/(d2) \n",
    "eq5=(a34*x23+d4*x24)/(d2) \n",
    "eq6=(a35*d3*x23+a45*d3*x24+d3*d5*x25-a23*d5*0)/(d2*d3) \n",
    "eq7=(d5*0)/(d3) \n",
    "\n",
    "m=matrix(QQ, [[0, 0, 1, 1, 0],\n",
    "              [0, 0, 1, 1, 1],\n",
    "              [0, 0, 0, 0, 0],\n",
    "              [0, 0, 0, 0, 0],\n",
    "              [0, 0, 0, 0, 0]])\n",
    "        \n",
    "#entry of matrix: (i,j) line i collum j, means (i-1,j-1)\n",
    "sol=solve([ eq1==m[0,2],\teq2==m[0,3],\teq3==m[0,4],\teq4==m[1,2],\t\n",
    "                                            eq5==m[1,3],    eq6==m[1,4],\n",
    "                                                            eq7==m[2,4]],d1,d2,d3,d4,d5,a12,a13,a14,a15,a23,a24,a25,a34,a35,a45, solution_dict=True)\n",
    "\n",
    "show(m)\n",
    "show(sol)\n",
    "#latex(sol)"
   ]
  },
  {
   "cell_type": "code",
   "execution_count": 32,
   "metadata": {},
   "outputs": [
    {
     "data": {
      "text/html": [
       "<html><script type=\"math/tex; mode=display\">\\newcommand{\\Bold}[1]{\\mathbf{#1}}\\left(\\begin{array}{rrrrr}\n",
       "0 & 0 & 1 & 1 & 1 \\\\\n",
       "0 & 0 & 1 & 1 & 1 \\\\\n",
       "0 & 0 & 0 & 0 & 0 \\\\\n",
       "0 & 0 & 0 & 0 & 0 \\\\\n",
       "0 & 0 & 0 & 0 & 0\n",
       "\\end{array}\\right)</script></html>"
      ],
      "text/latex": [
       "$$\\newcommand{\\Bold}[1]{\\mathbf{#1}}\\left(\\begin{array}{rrrrr}\n",
       "0 & 0 & 1 & 1 & 1 \\\\\n",
       "0 & 0 & 1 & 1 & 1 \\\\\n",
       "0 & 0 & 0 & 0 & 0 \\\\\n",
       "0 & 0 & 0 & 0 & 0 \\\\\n",
       "0 & 0 & 0 & 0 & 0\n",
       "\\end{array}\\right)$$"
      ],
      "text/plain": [
       "[0 0 1 1 1]\n",
       "[0 0 1 1 1]\n",
       "[0 0 0 0 0]\n",
       "[0 0 0 0 0]\n",
       "[0 0 0 0 0]"
      ]
     },
     "metadata": {},
     "output_type": "display_data"
    },
    {
     "data": {
      "text/html": [
       "<html><script type=\"math/tex; mode=display\">\\newcommand{\\Bold}[1]{\\mathbf{#1}}\\left[\\left\\{d_{1} : r_{692}, d_{2} : 0, d_{3} : 0, d_{4} : r_{693}, d_{5} : r_{694}, a_{12} : r_{695}, a_{13} : r_{696}, a_{14} : r_{697}, a_{15} : r_{698}, a_{23} : r_{699}, a_{24} : r_{700}, a_{25} : r_{701}, a_{34} : -\\frac{r_{693} x_{24}}{x_{23}}, a_{35} : r_{702}, a_{45} : -\\frac{r_{702} x_{23} + r_{694} x_{25}}{x_{24}}\\right\\}, \\left\\{d_{1} : r_{703}, d_{2} : r_{704}, d_{3} : \\frac{r_{704}}{x_{23}}, d_{4} : 0, d_{5} : r_{705}, a_{12} : \\frac{r_{704} x_{13} - r_{703} x_{23}}{x_{23}}, a_{13} : r_{706}, a_{14} : r_{707}, a_{15} : r_{708}, a_{23} : r_{709}, a_{24} : r_{710}, a_{25} : r_{711}, a_{34} : \\frac{r_{704}}{x_{23}}, a_{35} : -\\frac{r_{705} x_{14} x_{23} x_{25} - r_{704} x_{14} x_{23} - {\\left(r_{705} x_{15} x_{23} - r_{704} x_{13}\\right)} x_{24}}{x_{14} x_{23}^{2} - x_{13} x_{23} x_{24}}, a_{45} : -\\frac{r_{705} x_{15} x_{23} - r_{705} x_{13} x_{25}}{x_{14} x_{23} - x_{13} x_{24}}\\right\\}\\right]</script></html>"
      ],
      "text/latex": [
       "$$\\newcommand{\\Bold}[1]{\\mathbf{#1}}\\left[\\left\\{d_{1} : r_{692}, d_{2} : 0, d_{3} : 0, d_{4} : r_{693}, d_{5} : r_{694}, a_{12} : r_{695}, a_{13} : r_{696}, a_{14} : r_{697}, a_{15} : r_{698}, a_{23} : r_{699}, a_{24} : r_{700}, a_{25} : r_{701}, a_{34} : -\\frac{r_{693} x_{24}}{x_{23}}, a_{35} : r_{702}, a_{45} : -\\frac{r_{702} x_{23} + r_{694} x_{25}}{x_{24}}\\right\\}, \\left\\{d_{1} : r_{703}, d_{2} : r_{704}, d_{3} : \\frac{r_{704}}{x_{23}}, d_{4} : 0, d_{5} : r_{705}, a_{12} : \\frac{r_{704} x_{13} - r_{703} x_{23}}{x_{23}}, a_{13} : r_{706}, a_{14} : r_{707}, a_{15} : r_{708}, a_{23} : r_{709}, a_{24} : r_{710}, a_{25} : r_{711}, a_{34} : \\frac{r_{704}}{x_{23}}, a_{35} : -\\frac{r_{705} x_{14} x_{23} x_{25} - r_{704} x_{14} x_{23} - {\\left(r_{705} x_{15} x_{23} - r_{704} x_{13}\\right)} x_{24}}{x_{14} x_{23}^{2} - x_{13} x_{23} x_{24}}, a_{45} : -\\frac{r_{705} x_{15} x_{23} - r_{705} x_{13} x_{25}}{x_{14} x_{23} - x_{13} x_{24}}\\right\\}\\right]$$"
      ],
      "text/plain": [
       "[{d1: r692,\n",
       "  d2: 0,\n",
       "  d3: 0,\n",
       "  d4: r693,\n",
       "  d5: r694,\n",
       "  a12: r695,\n",
       "  a13: r696,\n",
       "  a14: r697,\n",
       "  a15: r698,\n",
       "  a23: r699,\n",
       "  a24: r700,\n",
       "  a25: r701,\n",
       "  a34: -r693*x24/x23,\n",
       "  a35: r702,\n",
       "  a45: -(r702*x23 + r694*x25)/x24},\n",
       " {d1: r703,\n",
       "  d2: r704,\n",
       "  d3: r704/x23,\n",
       "  d4: 0,\n",
       "  d5: r705,\n",
       "  a12: (r704*x13 - r703*x23)/x23,\n",
       "  a13: r706,\n",
       "  a14: r707,\n",
       "  a15: r708,\n",
       "  a23: r709,\n",
       "  a24: r710,\n",
       "  a25: r711,\n",
       "  a34: r704/x23,\n",
       "  a35: -(r705*x14*x23*x25 - r704*x14*x23 - (r705*x15*x23 - r704*x13)*x24)/(x14*x23^2 - x13*x23*x24),\n",
       "  a45: -(r705*x15*x23 - r705*x13*x25)/(x14*x23 - x13*x24)}]"
      ]
     },
     "metadata": {},
     "output_type": "display_data"
    }
   ],
   "source": [
    "#x3\n",
    "#----------------------\n",
    "#x14 = x13*x24/x23\n",
    "#----------------------\n",
    "reset()\n",
    "\n",
    "var('x12,x13,x14,x15,x23,x24,x25,x34,x35,x45')\n",
    "var('d1,d2,d3,d4,d5')\n",
    "var('a12,a13,a14,a15,a23,a24,a25,a34,a35,a45')\n",
    "\n",
    "load_attach_path('C:\\\\Users\\\\julia\\\\Documents\\\\unb\\\\doutorado\\\\pensar\\\\codigo_sage_v2\\\\maquina\\\\x3')\n",
    "load('out_#011111.sage')\n",
    "\n",
    "m=matrix(QQ, [[0, 0, 1, 1, 1],\n",
    "              [0, 0, 1, 1, 1],\n",
    "              [0, 0, 0, 0, 0],\n",
    "              [0, 0, 0, 0, 0],\n",
    "              [0, 0, 0, 0, 0]])\n",
    "        \n",
    "#entry of matrix: (i,j) line i collum j, means (i-1,j-1)\n",
    "sol=solve([ eq1==m[0,2],\teq2==m[0,3],\teq3==m[0,4],\teq4==m[1,2],\t\n",
    "                                            eq5==m[1,3],    eq6==m[1,4],\n",
    "                                                            eq7==m[2,4]],d1,d2,d3,d4,d5,a12,a13,a14,a15,a23,a24,a25,a34,a35,a45, solution_dict=True)\n",
    "\n",
    "show(m)\n",
    "show(sol)\n",
    "#latex(sol)"
   ]
  },
  {
   "cell_type": "code",
   "execution_count": 31,
   "metadata": {},
   "outputs": [
    {
     "data": {
      "text/html": [
       "<html><script type=\"math/tex; mode=display\">\\newcommand{\\Bold}[1]{\\mathbf{#1}}\\left(\\begin{array}{rrrrr}\n",
       "0 & 0 & 0 & 0 & 1 \\\\\n",
       "0 & 0 & 1 & 1 & 0 \\\\\n",
       "0 & 0 & 0 & 0 & 0 \\\\\n",
       "0 & 0 & 0 & 0 & 0 \\\\\n",
       "0 & 0 & 0 & 0 & 0\n",
       "\\end{array}\\right)</script></html>"
      ],
      "text/latex": [
       "$$\\newcommand{\\Bold}[1]{\\mathbf{#1}}\\left(\\begin{array}{rrrrr}\n",
       "0 & 0 & 0 & 0 & 1 \\\\\n",
       "0 & 0 & 1 & 1 & 0 \\\\\n",
       "0 & 0 & 0 & 0 & 0 \\\\\n",
       "0 & 0 & 0 & 0 & 0 \\\\\n",
       "0 & 0 & 0 & 0 & 0\n",
       "\\end{array}\\right)$$"
      ],
      "text/plain": [
       "[0 0 0 0 1]\n",
       "[0 0 1 1 0]\n",
       "[0 0 0 0 0]\n",
       "[0 0 0 0 0]\n",
       "[0 0 0 0 0]"
      ]
     },
     "metadata": {},
     "output_type": "display_data"
    },
    {
     "data": {
      "text/html": [
       "<html><script type=\"math/tex; mode=display\">\\newcommand{\\Bold}[1]{\\mathbf{#1}}\\left[\\left\\{d_{1} : r_{690}, d_{2} : 0, d_{3} : 0, d_{4} : r_{691}, d_{5} : r_{692}, a_{12} : r_{693}, a_{13} : r_{694}, a_{14} : r_{695}, a_{15} : r_{696}, a_{23} : r_{697}, a_{24} : r_{698}, a_{25} : r_{699}, a_{34} : -\\frac{r_{691} x_{24}}{x_{23}}, a_{35} : r_{700}, a_{45} : -\\frac{r_{700} x_{23} + r_{692} x_{25}}{x_{24}}\\right\\}, \\left\\{d_{1} : r_{701}, d_{2} : r_{702}, d_{3} : \\frac{r_{702}}{x_{23}}, d_{4} : r_{703}, d_{5} : \\frac{r_{701} x_{23}}{x_{15} x_{23} - x_{13} x_{25}}, a_{12} : \\frac{r_{702} x_{13}}{x_{23}}, a_{13} : r_{704}, a_{14} : r_{705}, a_{15} : r_{706}, a_{23} : r_{707}, a_{24} : r_{708}, a_{25} : r_{709}, a_{34} : -\\frac{r_{703} x_{24} - r_{702}}{x_{23}}, a_{35} : r_{710}, a_{45} : -\\frac{r_{710} x_{15} x_{23}^{2} - {\\left(r_{710} x_{13} - r_{701}\\right)} x_{23} x_{25}}{x_{15} x_{23} x_{24} - x_{13} x_{24} x_{25}}\\right\\}, \\left\\{d_{1} : r_{711}, d_{2} : 0, d_{3} : 0, d_{4} : r_{712}, d_{5} : \\frac{r_{711} x_{23}}{x_{15} x_{23} - x_{13} x_{25}}, a_{12} : 0, a_{13} : r_{713}, a_{14} : r_{714}, a_{15} : r_{715}, a_{23} : r_{716}, a_{24} : r_{717}, a_{25} : r_{718}, a_{34} : -\\frac{r_{712} x_{24}}{x_{23}}, a_{35} : r_{719}, a_{45} : -\\frac{r_{719} x_{15} x_{23}^{2} - {\\left(r_{719} x_{13} - r_{711}\\right)} x_{23} x_{25}}{x_{15} x_{23} x_{24} - x_{13} x_{24} x_{25}}\\right\\}\\right]</script></html>"
      ],
      "text/latex": [
       "$$\\newcommand{\\Bold}[1]{\\mathbf{#1}}\\left[\\left\\{d_{1} : r_{690}, d_{2} : 0, d_{3} : 0, d_{4} : r_{691}, d_{5} : r_{692}, a_{12} : r_{693}, a_{13} : r_{694}, a_{14} : r_{695}, a_{15} : r_{696}, a_{23} : r_{697}, a_{24} : r_{698}, a_{25} : r_{699}, a_{34} : -\\frac{r_{691} x_{24}}{x_{23}}, a_{35} : r_{700}, a_{45} : -\\frac{r_{700} x_{23} + r_{692} x_{25}}{x_{24}}\\right\\}, \\left\\{d_{1} : r_{701}, d_{2} : r_{702}, d_{3} : \\frac{r_{702}}{x_{23}}, d_{4} : r_{703}, d_{5} : \\frac{r_{701} x_{23}}{x_{15} x_{23} - x_{13} x_{25}}, a_{12} : \\frac{r_{702} x_{13}}{x_{23}}, a_{13} : r_{704}, a_{14} : r_{705}, a_{15} : r_{706}, a_{23} : r_{707}, a_{24} : r_{708}, a_{25} : r_{709}, a_{34} : -\\frac{r_{703} x_{24} - r_{702}}{x_{23}}, a_{35} : r_{710}, a_{45} : -\\frac{r_{710} x_{15} x_{23}^{2} - {\\left(r_{710} x_{13} - r_{701}\\right)} x_{23} x_{25}}{x_{15} x_{23} x_{24} - x_{13} x_{24} x_{25}}\\right\\}, \\left\\{d_{1} : r_{711}, d_{2} : 0, d_{3} : 0, d_{4} : r_{712}, d_{5} : \\frac{r_{711} x_{23}}{x_{15} x_{23} - x_{13} x_{25}}, a_{12} : 0, a_{13} : r_{713}, a_{14} : r_{714}, a_{15} : r_{715}, a_{23} : r_{716}, a_{24} : r_{717}, a_{25} : r_{718}, a_{34} : -\\frac{r_{712} x_{24}}{x_{23}}, a_{35} : r_{719}, a_{45} : -\\frac{r_{719} x_{15} x_{23}^{2} - {\\left(r_{719} x_{13} - r_{711}\\right)} x_{23} x_{25}}{x_{15} x_{23} x_{24} - x_{13} x_{24} x_{25}}\\right\\}\\right]$$"
      ],
      "text/plain": [
       "[{d1: r690,\n",
       "  d2: 0,\n",
       "  d3: 0,\n",
       "  d4: r691,\n",
       "  d5: r692,\n",
       "  a12: r693,\n",
       "  a13: r694,\n",
       "  a14: r695,\n",
       "  a15: r696,\n",
       "  a23: r697,\n",
       "  a24: r698,\n",
       "  a25: r699,\n",
       "  a34: -r691*x24/x23,\n",
       "  a35: r700,\n",
       "  a45: -(r700*x23 + r692*x25)/x24},\n",
       " {d1: r701,\n",
       "  d2: r702,\n",
       "  d3: r702/x23,\n",
       "  d4: r703,\n",
       "  d5: r701*x23/(x15*x23 - x13*x25),\n",
       "  a12: r702*x13/x23,\n",
       "  a13: r704,\n",
       "  a14: r705,\n",
       "  a15: r706,\n",
       "  a23: r707,\n",
       "  a24: r708,\n",
       "  a25: r709,\n",
       "  a34: -(r703*x24 - r702)/x23,\n",
       "  a35: r710,\n",
       "  a45: -(r710*x15*x23^2 - (r710*x13 - r701)*x23*x25)/(x15*x23*x24 - x13*x24*x25)},\n",
       " {d1: r711,\n",
       "  d2: 0,\n",
       "  d3: 0,\n",
       "  d4: r712,\n",
       "  d5: r711*x23/(x15*x23 - x13*x25),\n",
       "  a12: 0,\n",
       "  a13: r713,\n",
       "  a14: r714,\n",
       "  a15: r715,\n",
       "  a23: r716,\n",
       "  a24: r717,\n",
       "  a25: r718,\n",
       "  a34: -r712*x24/x23,\n",
       "  a35: r719,\n",
       "  a45: -(r719*x15*x23^2 - (r719*x13 - r711)*x23*x25)/(x15*x23*x24 - x13*x24*x25)}]"
      ]
     },
     "metadata": {},
     "output_type": "display_data"
    }
   ],
   "source": [
    "#x3\n",
    "#----------------------\n",
    "# x14 = x13*x24/x23\n",
    "# &\n",
    "# x15 \\neq x13*x25/x23\n",
    "#----------------------\n",
    "reset()\n",
    "\n",
    "var('x12,x13,x14,x15,x23,x24,x25,x34,x35,x45')\n",
    "var('d1,d2,d3,d4,d5')\n",
    "var('a12,a13,a14,a15,a23,a24,a25,a34,a35,a45')\n",
    "\n",
    "#011111\n",
    "eq1=(d2*d3*x13-a12*d3*x23)/(d1*d2) \n",
    "eq2=(a34*d2*x13+d2*d4*((x13*x24)/x23)-a12*a34*x23-a12*d4*x24)/(d1*d2) \n",
    "eq3=(a35*d2*d3*x13+a45*d2*d3*((x13*x24)/x23)+d2*d3*d5*x15-a12*a35*d3*x23-a12*a45*d3*x24-a12*d3*d5*x25+a12*a23*d5*0-a13*d2*d5*0)/(d1*d2*d3) \n",
    "eq4=(d3*x23)/(d2) \n",
    "eq5=(a34*x23+d4*x24)/(d2) \n",
    "eq6=(a35*d3*x23+a45*d3*x24+d3*d5*x25-a23*d5*0)/(d2*d3) \n",
    "eq7=(d5*0)/(d3) \n",
    "\n",
    "m=matrix(QQ, [[0, 0, 0, 0, 1],\n",
    "              [0, 0, 1, 1, 0],\n",
    "              [0, 0, 0, 0, 0],\n",
    "              [0, 0, 0, 0, 0],\n",
    "              [0, 0, 0, 0, 0]])\n",
    "        \n",
    "#entry of matrix: (i,j) line i collum j, means (i-1,j-1)\n",
    "sol=solve([ eq1==m[0,2],\teq2==m[0,3],\teq3==m[0,4],\teq4==m[1,2],\t\n",
    "                                            eq5==m[1,3],    eq6==m[1,4],\n",
    "                                                            eq7==m[2,4]],d1,d2,d3,d4,d5,a12,a13,a14,a15,a23,a24,a25,a34,a35,a45, solution_dict=True)\n",
    "\n",
    "show(m)\n",
    "show(sol)\n",
    "#latex(sol)"
   ]
  },
  {
   "cell_type": "code",
   "execution_count": 33,
   "metadata": {},
   "outputs": [
    {
     "data": {
      "text/html": [
       "<html><script type=\"math/tex; mode=display\">\\newcommand{\\Bold}[1]{\\mathbf{#1}}\\left(\\begin{array}{rrrrr}\n",
       "0 & 0 & 0 & 0 & 0 \\\\\n",
       "0 & 0 & 1 & 1 & 0 \\\\\n",
       "0 & 0 & 0 & 0 & 0 \\\\\n",
       "0 & 0 & 0 & 0 & 0 \\\\\n",
       "0 & 0 & 0 & 0 & 0\n",
       "\\end{array}\\right)</script></html>"
      ],
      "text/latex": [
       "$$\\newcommand{\\Bold}[1]{\\mathbf{#1}}\\left(\\begin{array}{rrrrr}\n",
       "0 & 0 & 0 & 0 & 0 \\\\\n",
       "0 & 0 & 1 & 1 & 0 \\\\\n",
       "0 & 0 & 0 & 0 & 0 \\\\\n",
       "0 & 0 & 0 & 0 & 0 \\\\\n",
       "0 & 0 & 0 & 0 & 0\n",
       "\\end{array}\\right)$$"
      ],
      "text/plain": [
       "[0 0 0 0 0]\n",
       "[0 0 1 1 0]\n",
       "[0 0 0 0 0]\n",
       "[0 0 0 0 0]\n",
       "[0 0 0 0 0]"
      ]
     },
     "metadata": {},
     "output_type": "display_data"
    },
    {
     "data": {
      "text/html": [
       "<html><script type=\"math/tex; mode=display\">\\newcommand{\\Bold}[1]{\\mathbf{#1}}\\left[\\left\\{d_{1} : r_{741}, d_{2} : 0, d_{3} : 0, d_{4} : r_{742}, d_{5} : r_{743}, a_{12} : r_{744}, a_{13} : r_{745}, a_{14} : r_{746}, a_{15} : r_{747}, a_{23} : r_{748}, a_{24} : r_{749}, a_{25} : r_{750}, a_{34} : -\\frac{r_{742} x_{24}}{x_{23}}, a_{35} : r_{751}, a_{45} : -\\frac{r_{751} x_{23} + r_{743} x_{25}}{x_{24}}\\right\\}, \\left\\{d_{1} : r_{752}, d_{2} : r_{753}, d_{3} : \\frac{r_{753}}{x_{23}}, d_{4} : r_{754}, d_{5} : r_{755}, a_{12} : \\frac{r_{753} x_{13}}{x_{23}}, a_{13} : r_{756}, a_{14} : r_{757}, a_{15} : r_{758}, a_{23} : r_{759}, a_{24} : r_{760}, a_{25} : r_{761}, a_{34} : -\\frac{r_{754} x_{24} - r_{753}}{x_{23}}, a_{35} : r_{762}, a_{45} : -\\frac{r_{762} x_{23} + r_{755} x_{25}}{x_{24}}\\right\\}\\right]</script></html>"
      ],
      "text/latex": [
       "$$\\newcommand{\\Bold}[1]{\\mathbf{#1}}\\left[\\left\\{d_{1} : r_{741}, d_{2} : 0, d_{3} : 0, d_{4} : r_{742}, d_{5} : r_{743}, a_{12} : r_{744}, a_{13} : r_{745}, a_{14} : r_{746}, a_{15} : r_{747}, a_{23} : r_{748}, a_{24} : r_{749}, a_{25} : r_{750}, a_{34} : -\\frac{r_{742} x_{24}}{x_{23}}, a_{35} : r_{751}, a_{45} : -\\frac{r_{751} x_{23} + r_{743} x_{25}}{x_{24}}\\right\\}, \\left\\{d_{1} : r_{752}, d_{2} : r_{753}, d_{3} : \\frac{r_{753}}{x_{23}}, d_{4} : r_{754}, d_{5} : r_{755}, a_{12} : \\frac{r_{753} x_{13}}{x_{23}}, a_{13} : r_{756}, a_{14} : r_{757}, a_{15} : r_{758}, a_{23} : r_{759}, a_{24} : r_{760}, a_{25} : r_{761}, a_{34} : -\\frac{r_{754} x_{24} - r_{753}}{x_{23}}, a_{35} : r_{762}, a_{45} : -\\frac{r_{762} x_{23} + r_{755} x_{25}}{x_{24}}\\right\\}\\right]$$"
      ],
      "text/plain": [
       "[{d1: r741,\n",
       "  d2: 0,\n",
       "  d3: 0,\n",
       "  d4: r742,\n",
       "  d5: r743,\n",
       "  a12: r744,\n",
       "  a13: r745,\n",
       "  a14: r746,\n",
       "  a15: r747,\n",
       "  a23: r748,\n",
       "  a24: r749,\n",
       "  a25: r750,\n",
       "  a34: -r742*x24/x23,\n",
       "  a35: r751,\n",
       "  a45: -(r751*x23 + r743*x25)/x24},\n",
       " {d1: r752,\n",
       "  d2: r753,\n",
       "  d3: r753/x23,\n",
       "  d4: r754,\n",
       "  d5: r755,\n",
       "  a12: r753*x13/x23,\n",
       "  a13: r756,\n",
       "  a14: r757,\n",
       "  a15: r758,\n",
       "  a23: r759,\n",
       "  a24: r760,\n",
       "  a25: r761,\n",
       "  a34: -(r754*x24 - r753)/x23,\n",
       "  a35: r762,\n",
       "  a45: -(r762*x23 + r755*x25)/x24}]"
      ]
     },
     "metadata": {},
     "output_type": "display_data"
    }
   ],
   "source": [
    "#x3\n",
    "#----------------------\n",
    "# x14 = x13*x24/x23\n",
    "# &\n",
    "# x15 = x13*x25/x23\n",
    "#----------------------\n",
    "reset()\n",
    "\n",
    "var('x12,x13,x14,x15,x23,x24,x25,x34,x35,x45')\n",
    "var('d1,d2,d3,d4,d5')\n",
    "var('a12,a13,a14,a15,a23,a24,a25,a34,a35,a45')\n",
    "\n",
    "#011111\n",
    "eq1=(d2*d3*x13-a12*d3*x23)/(d1*d2) \n",
    "eq2=(a34*d2*x13+d2*d4*((x13*x24)/x23)-a12*a34*x23-a12*d4*x24)/(d1*d2) \n",
    "eq3=(a35*d2*d3*x13+a45*d2*d3*((x13*x24)/x23)+d2*d3*d5*((x13*x25)/x23)-a12*a35*d3*x23-a12*a45*d3*x24-a12*d3*d5*x25+a12*a23*d5*0-a13*d2*d5*0)/(d1*d2*d3) \n",
    "eq4=(d3*x23)/(d2) \n",
    "eq5=(a34*x23+d4*x24)/(d2) \n",
    "eq6=(a35*d3*x23+a45*d3*x24+d3*d5*x25-a23*d5*0)/(d2*d3) \n",
    "eq7=(d5*0)/(d3) \n",
    "\n",
    "m=matrix(QQ, [[0, 0, 0, 0, 0],\n",
    "              [0, 0, 1, 1, 0],\n",
    "              [0, 0, 0, 0, 0],\n",
    "              [0, 0, 0, 0, 0],\n",
    "              [0, 0, 0, 0, 0]])\n",
    "        \n",
    "#entry of matrix: (i,j) line i collum j, means (i-1,j-1)\n",
    "sol=solve([ eq1==m[0,2],\teq2==m[0,3],\teq3==m[0,4],\teq4==m[1,2],\t\n",
    "                                            eq5==m[1,3],    eq6==m[1,4],\n",
    "                                                            eq7==m[2,4]],d1,d2,d3,d4,d5,a12,a13,a14,a15,a23,a24,a25,a34,a35,a45, solution_dict=True)\n",
    "\n",
    "show(m)\n",
    "show(sol)\n",
    "#latex(sol)"
   ]
  },
  {
   "cell_type": "code",
   "execution_count": 33,
   "metadata": {},
   "outputs": [
    {
     "data": {
      "text/html": [
       "<html><script type=\"math/tex; mode=display\">\\newcommand{\\Bold}[1]{\\mathbf{#1}}\\left(\\begin{array}{rrrrr}\n",
       "0 & 0 & 0 & 0 & 0 \\\\\n",
       "0 & 0 & 1 & 0 & 0 \\\\\n",
       "0 & 0 & 0 & 0 & 1 \\\\\n",
       "0 & 0 & 0 & 0 & 0 \\\\\n",
       "0 & 0 & 0 & 0 & 0\n",
       "\\end{array}\\right)</script></html>"
      ],
      "text/latex": [
       "$$\\newcommand{\\Bold}[1]{\\mathbf{#1}}\\left(\\begin{array}{rrrrr}\n",
       "0 & 0 & 0 & 0 & 0 \\\\\n",
       "0 & 0 & 1 & 0 & 0 \\\\\n",
       "0 & 0 & 0 & 0 & 1 \\\\\n",
       "0 & 0 & 0 & 0 & 0 \\\\\n",
       "0 & 0 & 0 & 0 & 0\n",
       "\\end{array}\\right)$$"
      ],
      "text/plain": [
       "[0 0 0 0 0]\n",
       "[0 0 1 0 0]\n",
       "[0 0 0 0 1]\n",
       "[0 0 0 0 0]\n",
       "[0 0 0 0 0]"
      ]
     },
     "metadata": {},
     "output_type": "display_data"
    },
    {
     "data": {
      "text/html": [
       "<html><script type=\"math/tex; mode=display\">\\newcommand{\\Bold}[1]{\\mathbf{#1}}\\left[\\left\\{d_{1} : r_{712}, d_{2} : 0, d_{3} : 0, d_{4} : r_{713}, d_{5} : 0, a_{12} : r_{714}, a_{13} : r_{715}, a_{14} : r_{716}, a_{15} : r_{717}, a_{23} : r_{718}, a_{24} : r_{719}, a_{25} : r_{720}, a_{34} : 0, a_{35} : r_{721}, a_{45} : r_{722}\\right\\}, \\left\\{d_{1} : r_{723}, d_{2} : r_{724}, d_{3} : \\frac{r_{724}}{x_{23}}, d_{4} : r_{725}, d_{5} : \\frac{r_{724}}{x_{23} x_{35}}, a_{12} : 0, a_{13} : 0, a_{14} : r_{726}, a_{15} : r_{727}, a_{23} : r_{728}, a_{24} : r_{729}, a_{25} : r_{730}, a_{34} : 0, a_{35} : \\frac{r_{728}}{x_{23}}, a_{45} : r_{731}\\right\\}\\right]</script></html>"
      ],
      "text/latex": [
       "$$\\newcommand{\\Bold}[1]{\\mathbf{#1}}\\left[\\left\\{d_{1} : r_{712}, d_{2} : 0, d_{3} : 0, d_{4} : r_{713}, d_{5} : 0, a_{12} : r_{714}, a_{13} : r_{715}, a_{14} : r_{716}, a_{15} : r_{717}, a_{23} : r_{718}, a_{24} : r_{719}, a_{25} : r_{720}, a_{34} : 0, a_{35} : r_{721}, a_{45} : r_{722}\\right\\}, \\left\\{d_{1} : r_{723}, d_{2} : r_{724}, d_{3} : \\frac{r_{724}}{x_{23}}, d_{4} : r_{725}, d_{5} : \\frac{r_{724}}{x_{23} x_{35}}, a_{12} : 0, a_{13} : 0, a_{14} : r_{726}, a_{15} : r_{727}, a_{23} : r_{728}, a_{24} : r_{729}, a_{25} : r_{730}, a_{34} : 0, a_{35} : \\frac{r_{728}}{x_{23}}, a_{45} : r_{731}\\right\\}\\right]$$"
      ],
      "text/plain": [
       "[{d1: r712,\n",
       "  d2: 0,\n",
       "  d3: 0,\n",
       "  d4: r713,\n",
       "  d5: 0,\n",
       "  a12: r714,\n",
       "  a13: r715,\n",
       "  a14: r716,\n",
       "  a15: r717,\n",
       "  a23: r718,\n",
       "  a24: r719,\n",
       "  a25: r720,\n",
       "  a34: 0,\n",
       "  a35: r721,\n",
       "  a45: r722},\n",
       " {d1: r723,\n",
       "  d2: r724,\n",
       "  d3: r724/x23,\n",
       "  d4: r725,\n",
       "  d5: r724/(x23*x35),\n",
       "  a12: 0,\n",
       "  a13: 0,\n",
       "  a14: r726,\n",
       "  a15: r727,\n",
       "  a23: r728,\n",
       "  a24: r729,\n",
       "  a25: r730,\n",
       "  a34: 0,\n",
       "  a35: r728/x23,\n",
       "  a45: r731}]"
      ]
     },
     "metadata": {},
     "output_type": "display_data"
    }
   ],
   "source": [
    "#x3\n",
    "reset()\n",
    "\n",
    "var('x12,x13,x14,x15,x23,x24,x25,x34,x35,x45')\n",
    "var('d1,d2,d3,d4,d5')\n",
    "var('a12,a13,a14,a15,a23,a24,a25,a34,a35,a45')\n",
    "\n",
    "load_attach_path('C:\\\\Users\\\\julia\\\\Documents\\\\unb\\\\doutorado\\\\pensar\\\\codigo_sage_v2\\\\maquina\\\\x3')\n",
    "load('out_#100000.sage')\n",
    "\n",
    "m=matrix(QQ, [[0, 0, 0, 0, 0],\n",
    "              [0, 0, 1, 0, 0],\n",
    "              [0, 0, 0, 0, 1],\n",
    "              [0, 0, 0, 0, 0],\n",
    "              [0, 0, 0, 0, 0]])\n",
    "        \n",
    "#entry of matrix: (i,j) line i collum j, means (i-1,j-1)\n",
    "sol=solve([ eq1==m[0,2],\teq2==m[0,3],\teq3==m[0,4],\teq4==m[1,2],\t\n",
    "                                            eq5==m[1,3],    eq6==m[1,4],\n",
    "                                                            eq7==m[2,4]],d1,d2,d3,d4,d5,a12,a13,a14,a15,a23,a24,a25,a34,a35,a45, solution_dict=True)\n",
    "\n",
    "show(m)\n",
    "show(sol)\n",
    "#latex(sol)"
   ]
  },
  {
   "cell_type": "code",
   "execution_count": 34,
   "metadata": {},
   "outputs": [
    {
     "data": {
      "text/html": [
       "<html><script type=\"math/tex; mode=display\">\\newcommand{\\Bold}[1]{\\mathbf{#1}}\\left(\\begin{array}{rrrrr}\n",
       "0 & 0 & 0 & 0 & 1 \\\\\n",
       "0 & 0 & 1 & 0 & 0 \\\\\n",
       "0 & 0 & 0 & 0 & 1 \\\\\n",
       "0 & 0 & 0 & 0 & 0 \\\\\n",
       "0 & 0 & 0 & 0 & 0\n",
       "\\end{array}\\right)</script></html>"
      ],
      "text/latex": [
       "$$\\newcommand{\\Bold}[1]{\\mathbf{#1}}\\left(\\begin{array}{rrrrr}\n",
       "0 & 0 & 0 & 0 & 1 \\\\\n",
       "0 & 0 & 1 & 0 & 0 \\\\\n",
       "0 & 0 & 0 & 0 & 1 \\\\\n",
       "0 & 0 & 0 & 0 & 0 \\\\\n",
       "0 & 0 & 0 & 0 & 0\n",
       "\\end{array}\\right)$$"
      ],
      "text/plain": [
       "[0 0 0 0 1]\n",
       "[0 0 1 0 0]\n",
       "[0 0 0 0 1]\n",
       "[0 0 0 0 0]\n",
       "[0 0 0 0 0]"
      ]
     },
     "metadata": {},
     "output_type": "display_data"
    },
    {
     "data": {
      "text/html": [
       "<html><script type=\"math/tex; mode=display\">\\newcommand{\\Bold}[1]{\\mathbf{#1}}\\left[\\left\\{d_{1} : r_{732}, d_{2} : 0, d_{3} : 0, d_{4} : r_{733}, d_{5} : 0, a_{12} : r_{734}, a_{13} : r_{735}, a_{14} : r_{736}, a_{15} : r_{737}, a_{23} : r_{738}, a_{24} : r_{739}, a_{25} : r_{740}, a_{34} : 0, a_{35} : r_{741}, a_{45} : r_{742}\\right\\}, \\left\\{d_{1} : r_{743}, d_{2} : r_{744}, d_{3} : \\frac{r_{744}}{x_{23}}, d_{4} : r_{745}, d_{5} : \\frac{r_{744}}{x_{23} x_{35}}, a_{12} : 0, a_{13} : -\\frac{r_{743} x_{23} x_{35} - r_{744} x_{15}}{x_{23} x_{35}}, a_{14} : r_{746}, a_{15} : r_{747}, a_{23} : r_{748}, a_{24} : r_{749}, a_{25} : r_{750}, a_{34} : 0, a_{35} : \\frac{r_{748}}{x_{23}}, a_{45} : r_{751}\\right\\}\\right]</script></html>"
      ],
      "text/latex": [
       "$$\\newcommand{\\Bold}[1]{\\mathbf{#1}}\\left[\\left\\{d_{1} : r_{732}, d_{2} : 0, d_{3} : 0, d_{4} : r_{733}, d_{5} : 0, a_{12} : r_{734}, a_{13} : r_{735}, a_{14} : r_{736}, a_{15} : r_{737}, a_{23} : r_{738}, a_{24} : r_{739}, a_{25} : r_{740}, a_{34} : 0, a_{35} : r_{741}, a_{45} : r_{742}\\right\\}, \\left\\{d_{1} : r_{743}, d_{2} : r_{744}, d_{3} : \\frac{r_{744}}{x_{23}}, d_{4} : r_{745}, d_{5} : \\frac{r_{744}}{x_{23} x_{35}}, a_{12} : 0, a_{13} : -\\frac{r_{743} x_{23} x_{35} - r_{744} x_{15}}{x_{23} x_{35}}, a_{14} : r_{746}, a_{15} : r_{747}, a_{23} : r_{748}, a_{24} : r_{749}, a_{25} : r_{750}, a_{34} : 0, a_{35} : \\frac{r_{748}}{x_{23}}, a_{45} : r_{751}\\right\\}\\right]$$"
      ],
      "text/plain": [
       "[{d1: r732,\n",
       "  d2: 0,\n",
       "  d3: 0,\n",
       "  d4: r733,\n",
       "  d5: 0,\n",
       "  a12: r734,\n",
       "  a13: r735,\n",
       "  a14: r736,\n",
       "  a15: r737,\n",
       "  a23: r738,\n",
       "  a24: r739,\n",
       "  a25: r740,\n",
       "  a34: 0,\n",
       "  a35: r741,\n",
       "  a45: r742},\n",
       " {d1: r743,\n",
       "  d2: r744,\n",
       "  d3: r744/x23,\n",
       "  d4: r745,\n",
       "  d5: r744/(x23*x35),\n",
       "  a12: 0,\n",
       "  a13: -(r743*x23*x35 - r744*x15)/(x23*x35),\n",
       "  a14: r746,\n",
       "  a15: r747,\n",
       "  a23: r748,\n",
       "  a24: r749,\n",
       "  a25: r750,\n",
       "  a34: 0,\n",
       "  a35: r748/x23,\n",
       "  a45: r751}]"
      ]
     },
     "metadata": {},
     "output_type": "display_data"
    }
   ],
   "source": [
    "#x3\n",
    "reset()\n",
    "\n",
    "var('x12,x13,x14,x15,x23,x24,x25,x34,x35,x45')\n",
    "var('d1,d2,d3,d4,d5')\n",
    "var('a12,a13,a14,a15,a23,a24,a25,a34,a35,a45')\n",
    "\n",
    "load_attach_path('C:\\\\Users\\\\julia\\\\Documents\\\\unb\\\\doutorado\\\\pensar\\\\codigo_sage_v2\\\\maquina\\\\x3')\n",
    "load('out_#100001.sage')\n",
    "\n",
    "m=matrix(QQ, [[0, 0, 0, 0, 1],\n",
    "              [0, 0, 1, 0, 0],\n",
    "              [0, 0, 0, 0, 1],\n",
    "              [0, 0, 0, 0, 0],\n",
    "              [0, 0, 0, 0, 0]])\n",
    "        \n",
    "#entry of matrix: (i,j) line i collum j, means (i-1,j-1)\n",
    "sol=solve([ eq1==m[0,2],\teq2==m[0,3],\teq3==m[0,4],\teq4==m[1,2],\t\n",
    "                                            eq5==m[1,3],    eq6==m[1,4],\n",
    "                                                            eq7==m[2,4]],d1,d2,d3,d4,d5,a12,a13,a14,a15,a23,a24,a25,a34,a35,a45, solution_dict=True)\n",
    "\n",
    "show(m)\n",
    "show(sol)\n",
    "#latex(sol)"
   ]
  },
  {
   "cell_type": "code",
   "execution_count": 35,
   "metadata": {},
   "outputs": [
    {
     "data": {
      "text/html": [
       "<html><script type=\"math/tex; mode=display\">\\newcommand{\\Bold}[1]{\\mathbf{#1}}\\left(\\begin{array}{rrrrr}\n",
       "0 & 0 & 0 & 1 & 0 \\\\\n",
       "0 & 0 & 1 & 0 & 0 \\\\\n",
       "0 & 0 & 0 & 0 & 1 \\\\\n",
       "0 & 0 & 0 & 0 & 0 \\\\\n",
       "0 & 0 & 0 & 0 & 0\n",
       "\\end{array}\\right)</script></html>"
      ],
      "text/latex": [
       "$$\\newcommand{\\Bold}[1]{\\mathbf{#1}}\\left(\\begin{array}{rrrrr}\n",
       "0 & 0 & 0 & 1 & 0 \\\\\n",
       "0 & 0 & 1 & 0 & 0 \\\\\n",
       "0 & 0 & 0 & 0 & 1 \\\\\n",
       "0 & 0 & 0 & 0 & 0 \\\\\n",
       "0 & 0 & 0 & 0 & 0\n",
       "\\end{array}\\right)$$"
      ],
      "text/plain": [
       "[0 0 0 1 0]\n",
       "[0 0 1 0 0]\n",
       "[0 0 0 0 1]\n",
       "[0 0 0 0 0]\n",
       "[0 0 0 0 0]"
      ]
     },
     "metadata": {},
     "output_type": "display_data"
    },
    {
     "data": {
      "text/html": [
       "<html><script type=\"math/tex; mode=display\">\\newcommand{\\Bold}[1]{\\mathbf{#1}}\\left[\\left\\{d_{1} : r_{752}, d_{2} : 0, d_{3} : 0, d_{4} : r_{753}, d_{5} : 0, a_{12} : r_{754}, a_{13} : r_{755}, a_{14} : r_{756}, a_{15} : r_{757}, a_{23} : r_{758}, a_{24} : r_{759}, a_{25} : r_{760}, a_{34} : 0, a_{35} : r_{761}, a_{45} : r_{762}\\right\\}, \\left\\{d_{1} : r_{763}, d_{2} : r_{764}, d_{3} : \\frac{r_{764}}{x_{23}}, d_{4} : \\frac{r_{763}}{x_{14}}, d_{5} : \\frac{r_{764}}{x_{23} x_{35}}, a_{12} : 0, a_{13} : r_{765}, a_{14} : r_{766}, a_{15} : r_{767}, a_{23} : r_{768}, a_{24} : r_{769}, a_{25} : r_{770}, a_{34} : 0, a_{35} : \\frac{r_{768}}{x_{23}}, a_{45} : \\frac{r_{765}}{x_{14}}\\right\\}\\right]</script></html>"
      ],
      "text/latex": [
       "$$\\newcommand{\\Bold}[1]{\\mathbf{#1}}\\left[\\left\\{d_{1} : r_{752}, d_{2} : 0, d_{3} : 0, d_{4} : r_{753}, d_{5} : 0, a_{12} : r_{754}, a_{13} : r_{755}, a_{14} : r_{756}, a_{15} : r_{757}, a_{23} : r_{758}, a_{24} : r_{759}, a_{25} : r_{760}, a_{34} : 0, a_{35} : r_{761}, a_{45} : r_{762}\\right\\}, \\left\\{d_{1} : r_{763}, d_{2} : r_{764}, d_{3} : \\frac{r_{764}}{x_{23}}, d_{4} : \\frac{r_{763}}{x_{14}}, d_{5} : \\frac{r_{764}}{x_{23} x_{35}}, a_{12} : 0, a_{13} : r_{765}, a_{14} : r_{766}, a_{15} : r_{767}, a_{23} : r_{768}, a_{24} : r_{769}, a_{25} : r_{770}, a_{34} : 0, a_{35} : \\frac{r_{768}}{x_{23}}, a_{45} : \\frac{r_{765}}{x_{14}}\\right\\}\\right]$$"
      ],
      "text/plain": [
       "[{d1: r752,\n",
       "  d2: 0,\n",
       "  d3: 0,\n",
       "  d4: r753,\n",
       "  d5: 0,\n",
       "  a12: r754,\n",
       "  a13: r755,\n",
       "  a14: r756,\n",
       "  a15: r757,\n",
       "  a23: r758,\n",
       "  a24: r759,\n",
       "  a25: r760,\n",
       "  a34: 0,\n",
       "  a35: r761,\n",
       "  a45: r762},\n",
       " {d1: r763,\n",
       "  d2: r764,\n",
       "  d3: r764/x23,\n",
       "  d4: r763/x14,\n",
       "  d5: r764/(x23*x35),\n",
       "  a12: 0,\n",
       "  a13: r765,\n",
       "  a14: r766,\n",
       "  a15: r767,\n",
       "  a23: r768,\n",
       "  a24: r769,\n",
       "  a25: r770,\n",
       "  a34: 0,\n",
       "  a35: r768/x23,\n",
       "  a45: r765/x14}]"
      ]
     },
     "metadata": {},
     "output_type": "display_data"
    }
   ],
   "source": [
    "#x3\n",
    "reset()\n",
    "\n",
    "var('x12,x13,x14,x15,x23,x24,x25,x34,x35,x45')\n",
    "var('d1,d2,d3,d4,d5')\n",
    "var('a12,a13,a14,a15,a23,a24,a25,a34,a35,a45')\n",
    "\n",
    "load_attach_path('C:\\\\Users\\\\julia\\\\Documents\\\\unb\\\\doutorado\\\\pensar\\\\codigo_sage_v2\\\\maquina\\\\x3')\n",
    "load('out_#100010.sage')\n",
    "\n",
    "m=matrix(QQ, [[0, 0, 0, 1, 0],\n",
    "              [0, 0, 1, 0, 0],\n",
    "              [0, 0, 0, 0, 1],\n",
    "              [0, 0, 0, 0, 0],\n",
    "              [0, 0, 0, 0, 0]])\n",
    "        \n",
    "#entry of matrix: (i,j) line i collum j, means (i-1,j-1)\n",
    "sol=solve([ eq1==m[0,2],\teq2==m[0,3],\teq3==m[0,4],\teq4==m[1,2],\t\n",
    "                                            eq5==m[1,3],    eq6==m[1,4],\n",
    "                                                            eq7==m[2,4]],d1,d2,d3,d4,d5,a12,a13,a14,a15,a23,a24,a25,a34,a35,a45, solution_dict=True)\n",
    "\n",
    "show(m)\n",
    "show(sol)\n",
    "#latex(sol)"
   ]
  },
  {
   "cell_type": "code",
   "execution_count": 36,
   "metadata": {},
   "outputs": [
    {
     "data": {
      "text/html": [
       "<html><script type=\"math/tex; mode=display\">\\newcommand{\\Bold}[1]{\\mathbf{#1}}\\left(\\begin{array}{rrrrr}\n",
       "0 & 0 & 0 & 1 & 1 \\\\\n",
       "0 & 0 & 1 & 0 & 0 \\\\\n",
       "0 & 0 & 0 & 0 & 1 \\\\\n",
       "0 & 0 & 0 & 0 & 0 \\\\\n",
       "0 & 0 & 0 & 0 & 0\n",
       "\\end{array}\\right)</script></html>"
      ],
      "text/latex": [
       "$$\\newcommand{\\Bold}[1]{\\mathbf{#1}}\\left(\\begin{array}{rrrrr}\n",
       "0 & 0 & 0 & 1 & 1 \\\\\n",
       "0 & 0 & 1 & 0 & 0 \\\\\n",
       "0 & 0 & 0 & 0 & 1 \\\\\n",
       "0 & 0 & 0 & 0 & 0 \\\\\n",
       "0 & 0 & 0 & 0 & 0\n",
       "\\end{array}\\right)$$"
      ],
      "text/plain": [
       "[0 0 0 1 1]\n",
       "[0 0 1 0 0]\n",
       "[0 0 0 0 1]\n",
       "[0 0 0 0 0]\n",
       "[0 0 0 0 0]"
      ]
     },
     "metadata": {},
     "output_type": "display_data"
    },
    {
     "data": {
      "text/html": [
       "<html><script type=\"math/tex; mode=display\">\\newcommand{\\Bold}[1]{\\mathbf{#1}}\\left[\\left\\{d_{1} : r_{771}, d_{2} : 0, d_{3} : 0, d_{4} : r_{772}, d_{5} : 0, a_{12} : r_{773}, a_{13} : r_{774}, a_{14} : r_{775}, a_{15} : r_{776}, a_{23} : r_{777}, a_{24} : r_{778}, a_{25} : r_{779}, a_{34} : 0, a_{35} : r_{780}, a_{45} : r_{781}\\right\\}, \\left\\{d_{1} : r_{782}, d_{2} : r_{783}, d_{3} : \\frac{r_{783}}{x_{23}}, d_{4} : \\frac{r_{782}}{x_{14}}, d_{5} : \\frac{r_{783}}{x_{23} x_{35}}, a_{12} : 0, a_{13} : r_{784}, a_{14} : r_{785}, a_{15} : r_{786}, a_{23} : r_{787}, a_{24} : r_{788}, a_{25} : r_{789}, a_{34} : 0, a_{35} : \\frac{r_{787}}{x_{23}}, a_{45} : \\frac{{\\left(r_{782} + r_{784}\\right)} x_{23} x_{35} - r_{783} x_{15}}{x_{14} x_{23} x_{35}}\\right\\}\\right]</script></html>"
      ],
      "text/latex": [
       "$$\\newcommand{\\Bold}[1]{\\mathbf{#1}}\\left[\\left\\{d_{1} : r_{771}, d_{2} : 0, d_{3} : 0, d_{4} : r_{772}, d_{5} : 0, a_{12} : r_{773}, a_{13} : r_{774}, a_{14} : r_{775}, a_{15} : r_{776}, a_{23} : r_{777}, a_{24} : r_{778}, a_{25} : r_{779}, a_{34} : 0, a_{35} : r_{780}, a_{45} : r_{781}\\right\\}, \\left\\{d_{1} : r_{782}, d_{2} : r_{783}, d_{3} : \\frac{r_{783}}{x_{23}}, d_{4} : \\frac{r_{782}}{x_{14}}, d_{5} : \\frac{r_{783}}{x_{23} x_{35}}, a_{12} : 0, a_{13} : r_{784}, a_{14} : r_{785}, a_{15} : r_{786}, a_{23} : r_{787}, a_{24} : r_{788}, a_{25} : r_{789}, a_{34} : 0, a_{35} : \\frac{r_{787}}{x_{23}}, a_{45} : \\frac{{\\left(r_{782} + r_{784}\\right)} x_{23} x_{35} - r_{783} x_{15}}{x_{14} x_{23} x_{35}}\\right\\}\\right]$$"
      ],
      "text/plain": [
       "[{d1: r771,\n",
       "  d2: 0,\n",
       "  d3: 0,\n",
       "  d4: r772,\n",
       "  d5: 0,\n",
       "  a12: r773,\n",
       "  a13: r774,\n",
       "  a14: r775,\n",
       "  a15: r776,\n",
       "  a23: r777,\n",
       "  a24: r778,\n",
       "  a25: r779,\n",
       "  a34: 0,\n",
       "  a35: r780,\n",
       "  a45: r781},\n",
       " {d1: r782,\n",
       "  d2: r783,\n",
       "  d3: r783/x23,\n",
       "  d4: r782/x14,\n",
       "  d5: r783/(x23*x35),\n",
       "  a12: 0,\n",
       "  a13: r784,\n",
       "  a14: r785,\n",
       "  a15: r786,\n",
       "  a23: r787,\n",
       "  a24: r788,\n",
       "  a25: r789,\n",
       "  a34: 0,\n",
       "  a35: r787/x23,\n",
       "  a45: ((r782 + r784)*x23*x35 - r783*x15)/(x14*x23*x35)}]"
      ]
     },
     "metadata": {},
     "output_type": "display_data"
    }
   ],
   "source": [
    "#x3\n",
    "reset()\n",
    "\n",
    "var('x12,x13,x14,x15,x23,x24,x25,x34,x35,x45')\n",
    "var('d1,d2,d3,d4,d5')\n",
    "var('a12,a13,a14,a15,a23,a24,a25,a34,a35,a45')\n",
    "\n",
    "load_attach_path('C:\\\\Users\\\\julia\\\\Documents\\\\unb\\\\doutorado\\\\pensar\\\\codigo_sage_v2\\\\maquina\\\\x3')\n",
    "load('out_#100011.sage')\n",
    "\n",
    "m=matrix(QQ, [[0, 0, 0, 1, 1],\n",
    "              [0, 0, 1, 0, 0],\n",
    "              [0, 0, 0, 0, 1],\n",
    "              [0, 0, 0, 0, 0],\n",
    "              [0, 0, 0, 0, 0]])\n",
    "        \n",
    "#entry of matrix: (i,j) line i collum j, means (i-1,j-1)\n",
    "sol=solve([ eq1==m[0,2],\teq2==m[0,3],\teq3==m[0,4],\teq4==m[1,2],\t\n",
    "                                            eq5==m[1,3],    eq6==m[1,4],\n",
    "                                                            eq7==m[2,4]],d1,d2,d3,d4,d5,a12,a13,a14,a15,a23,a24,a25,a34,a35,a45, solution_dict=True)\n",
    "\n",
    "show(m)\n",
    "show(sol)\n",
    "#latex(sol)"
   ]
  },
  {
   "cell_type": "code",
   "execution_count": 37,
   "metadata": {},
   "outputs": [
    {
     "data": {
      "text/html": [
       "<html><script type=\"math/tex; mode=display\">\\newcommand{\\Bold}[1]{\\mathbf{#1}}\\left(\\begin{array}{rrrrr}\n",
       "0 & 0 & 1 & 0 & 0 \\\\\n",
       "0 & 0 & 1 & 0 & 0 \\\\\n",
       "0 & 0 & 0 & 0 & 1 \\\\\n",
       "0 & 0 & 0 & 0 & 0 \\\\\n",
       "0 & 0 & 0 & 0 & 0\n",
       "\\end{array}\\right)</script></html>"
      ],
      "text/latex": [
       "$$\\newcommand{\\Bold}[1]{\\mathbf{#1}}\\left(\\begin{array}{rrrrr}\n",
       "0 & 0 & 1 & 0 & 0 \\\\\n",
       "0 & 0 & 1 & 0 & 0 \\\\\n",
       "0 & 0 & 0 & 0 & 1 \\\\\n",
       "0 & 0 & 0 & 0 & 0 \\\\\n",
       "0 & 0 & 0 & 0 & 0\n",
       "\\end{array}\\right)$$"
      ],
      "text/plain": [
       "[0 0 1 0 0]\n",
       "[0 0 1 0 0]\n",
       "[0 0 0 0 1]\n",
       "[0 0 0 0 0]\n",
       "[0 0 0 0 0]"
      ]
     },
     "metadata": {},
     "output_type": "display_data"
    },
    {
     "data": {
      "text/html": [
       "<html><script type=\"math/tex; mode=display\">\\newcommand{\\Bold}[1]{\\mathbf{#1}}\\left[\\left\\{d_{1} : r_{790}, d_{2} : 0, d_{3} : 0, d_{4} : r_{791}, d_{5} : 0, a_{12} : r_{792}, a_{13} : r_{793}, a_{14} : r_{794}, a_{15} : r_{795}, a_{23} : r_{796}, a_{24} : r_{797}, a_{25} : r_{798}, a_{34} : 0, a_{35} : r_{799}, a_{45} : r_{800}\\right\\}, \\left\\{d_{1} : r_{801}, d_{2} : r_{802}, d_{3} : \\frac{r_{802}}{x_{23}}, d_{4} : r_{803}, d_{5} : \\frac{r_{802}}{x_{23} x_{35}}, a_{12} : \\frac{r_{802} x_{13} - r_{801} x_{23}}{x_{23}}, a_{13} : r_{804}, a_{14} : r_{805}, a_{15} : r_{806}, a_{23} : \\frac{r_{804} x_{23}}{x_{13}}, a_{24} : r_{807}, a_{25} : r_{808}, a_{34} : 0, a_{35} : \\frac{r_{804}}{x_{13}}, a_{45} : r_{809}\\right\\}\\right]</script></html>"
      ],
      "text/latex": [
       "$$\\newcommand{\\Bold}[1]{\\mathbf{#1}}\\left[\\left\\{d_{1} : r_{790}, d_{2} : 0, d_{3} : 0, d_{4} : r_{791}, d_{5} : 0, a_{12} : r_{792}, a_{13} : r_{793}, a_{14} : r_{794}, a_{15} : r_{795}, a_{23} : r_{796}, a_{24} : r_{797}, a_{25} : r_{798}, a_{34} : 0, a_{35} : r_{799}, a_{45} : r_{800}\\right\\}, \\left\\{d_{1} : r_{801}, d_{2} : r_{802}, d_{3} : \\frac{r_{802}}{x_{23}}, d_{4} : r_{803}, d_{5} : \\frac{r_{802}}{x_{23} x_{35}}, a_{12} : \\frac{r_{802} x_{13} - r_{801} x_{23}}{x_{23}}, a_{13} : r_{804}, a_{14} : r_{805}, a_{15} : r_{806}, a_{23} : \\frac{r_{804} x_{23}}{x_{13}}, a_{24} : r_{807}, a_{25} : r_{808}, a_{34} : 0, a_{35} : \\frac{r_{804}}{x_{13}}, a_{45} : r_{809}\\right\\}\\right]$$"
      ],
      "text/plain": [
       "[{d1: r790,\n",
       "  d2: 0,\n",
       "  d3: 0,\n",
       "  d4: r791,\n",
       "  d5: 0,\n",
       "  a12: r792,\n",
       "  a13: r793,\n",
       "  a14: r794,\n",
       "  a15: r795,\n",
       "  a23: r796,\n",
       "  a24: r797,\n",
       "  a25: r798,\n",
       "  a34: 0,\n",
       "  a35: r799,\n",
       "  a45: r800},\n",
       " {d1: r801,\n",
       "  d2: r802,\n",
       "  d3: r802/x23,\n",
       "  d4: r803,\n",
       "  d5: r802/(x23*x35),\n",
       "  a12: (r802*x13 - r801*x23)/x23,\n",
       "  a13: r804,\n",
       "  a14: r805,\n",
       "  a15: r806,\n",
       "  a23: r804*x23/x13,\n",
       "  a24: r807,\n",
       "  a25: r808,\n",
       "  a34: 0,\n",
       "  a35: r804/x13,\n",
       "  a45: r809}]"
      ]
     },
     "metadata": {},
     "output_type": "display_data"
    }
   ],
   "source": [
    "#x3\n",
    "reset()\n",
    "\n",
    "var('x12,x13,x14,x15,x23,x24,x25,x34,x35,x45')\n",
    "var('d1,d2,d3,d4,d5')\n",
    "var('a12,a13,a14,a15,a23,a24,a25,a34,a35,a45')\n",
    "\n",
    "load_attach_path('C:\\\\Users\\\\julia\\\\Documents\\\\unb\\\\doutorado\\\\pensar\\\\codigo_sage_v2\\\\maquina\\\\x3')\n",
    "load('out_#100100.sage')\n",
    "\n",
    "m=matrix(QQ, [[0, 0, 1, 0, 0],\n",
    "              [0, 0, 1, 0, 0],\n",
    "              [0, 0, 0, 0, 1],\n",
    "              [0, 0, 0, 0, 0],\n",
    "              [0, 0, 0, 0, 0]])\n",
    "        \n",
    "#entry of matrix: (i,j) line i collum j, means (i-1,j-1)\n",
    "sol=solve([ eq1==m[0,2],\teq2==m[0,3],\teq3==m[0,4],\teq4==m[1,2],\t\n",
    "                                            eq5==m[1,3],    eq6==m[1,4],\n",
    "                                                            eq7==m[2,4]],d1,d2,d3,d4,d5,a12,a13,a14,a15,a23,a24,a25,a34,a35,a45, solution_dict=True)\n",
    "\n",
    "show(m)\n",
    "show(sol)\n",
    "#latex(sol)"
   ]
  },
  {
   "cell_type": "code",
   "execution_count": 38,
   "metadata": {},
   "outputs": [
    {
     "data": {
      "text/html": [
       "<html><script type=\"math/tex; mode=display\">\\newcommand{\\Bold}[1]{\\mathbf{#1}}\\left(\\begin{array}{rrrrr}\n",
       "0 & 0 & 1 & 0 & 1 \\\\\n",
       "0 & 0 & 1 & 0 & 0 \\\\\n",
       "0 & 0 & 0 & 0 & 1 \\\\\n",
       "0 & 0 & 0 & 0 & 0 \\\\\n",
       "0 & 0 & 0 & 0 & 0\n",
       "\\end{array}\\right)</script></html>"
      ],
      "text/latex": [
       "$$\\newcommand{\\Bold}[1]{\\mathbf{#1}}\\left(\\begin{array}{rrrrr}\n",
       "0 & 0 & 1 & 0 & 1 \\\\\n",
       "0 & 0 & 1 & 0 & 0 \\\\\n",
       "0 & 0 & 0 & 0 & 1 \\\\\n",
       "0 & 0 & 0 & 0 & 0 \\\\\n",
       "0 & 0 & 0 & 0 & 0\n",
       "\\end{array}\\right)$$"
      ],
      "text/plain": [
       "[0 0 1 0 1]\n",
       "[0 0 1 0 0]\n",
       "[0 0 0 0 1]\n",
       "[0 0 0 0 0]\n",
       "[0 0 0 0 0]"
      ]
     },
     "metadata": {},
     "output_type": "display_data"
    },
    {
     "data": {
      "text/html": [
       "<html><script type=\"math/tex; mode=display\">\\newcommand{\\Bold}[1]{\\mathbf{#1}}\\left[\\left\\{d_{1} : r_{810}, d_{2} : 0, d_{3} : 0, d_{4} : r_{811}, d_{5} : 0, a_{12} : r_{812}, a_{13} : r_{813}, a_{14} : r_{814}, a_{15} : r_{815}, a_{23} : r_{816}, a_{24} : r_{817}, a_{25} : r_{818}, a_{34} : 0, a_{35} : r_{819}, a_{45} : r_{820}\\right\\}, \\left\\{d_{1} : r_{821}, d_{2} : r_{822}, d_{3} : \\frac{r_{822}}{x_{23}}, d_{4} : r_{823}, d_{5} : \\frac{r_{822}}{x_{23} x_{35}}, a_{12} : \\frac{r_{822} x_{13} - r_{821} x_{23}}{x_{23}}, a_{13} : r_{824}, a_{14} : r_{825}, a_{15} : r_{826}, a_{23} : \\frac{{\\left(r_{821} + r_{824}\\right)} x_{23} x_{35} - r_{822} x_{15}}{x_{13} x_{35}}, a_{24} : r_{827}, a_{25} : r_{828}, a_{34} : 0, a_{35} : \\frac{{\\left(r_{821} + r_{824}\\right)} x_{23} x_{35} - r_{822} x_{15}}{x_{13} x_{23} x_{35}}, a_{45} : r_{829}\\right\\}\\right]</script></html>"
      ],
      "text/latex": [
       "$$\\newcommand{\\Bold}[1]{\\mathbf{#1}}\\left[\\left\\{d_{1} : r_{810}, d_{2} : 0, d_{3} : 0, d_{4} : r_{811}, d_{5} : 0, a_{12} : r_{812}, a_{13} : r_{813}, a_{14} : r_{814}, a_{15} : r_{815}, a_{23} : r_{816}, a_{24} : r_{817}, a_{25} : r_{818}, a_{34} : 0, a_{35} : r_{819}, a_{45} : r_{820}\\right\\}, \\left\\{d_{1} : r_{821}, d_{2} : r_{822}, d_{3} : \\frac{r_{822}}{x_{23}}, d_{4} : r_{823}, d_{5} : \\frac{r_{822}}{x_{23} x_{35}}, a_{12} : \\frac{r_{822} x_{13} - r_{821} x_{23}}{x_{23}}, a_{13} : r_{824}, a_{14} : r_{825}, a_{15} : r_{826}, a_{23} : \\frac{{\\left(r_{821} + r_{824}\\right)} x_{23} x_{35} - r_{822} x_{15}}{x_{13} x_{35}}, a_{24} : r_{827}, a_{25} : r_{828}, a_{34} : 0, a_{35} : \\frac{{\\left(r_{821} + r_{824}\\right)} x_{23} x_{35} - r_{822} x_{15}}{x_{13} x_{23} x_{35}}, a_{45} : r_{829}\\right\\}\\right]$$"
      ],
      "text/plain": [
       "[{d1: r810,\n",
       "  d2: 0,\n",
       "  d3: 0,\n",
       "  d4: r811,\n",
       "  d5: 0,\n",
       "  a12: r812,\n",
       "  a13: r813,\n",
       "  a14: r814,\n",
       "  a15: r815,\n",
       "  a23: r816,\n",
       "  a24: r817,\n",
       "  a25: r818,\n",
       "  a34: 0,\n",
       "  a35: r819,\n",
       "  a45: r820},\n",
       " {d1: r821,\n",
       "  d2: r822,\n",
       "  d3: r822/x23,\n",
       "  d4: r823,\n",
       "  d5: r822/(x23*x35),\n",
       "  a12: (r822*x13 - r821*x23)/x23,\n",
       "  a13: r824,\n",
       "  a14: r825,\n",
       "  a15: r826,\n",
       "  a23: ((r821 + r824)*x23*x35 - r822*x15)/(x13*x35),\n",
       "  a24: r827,\n",
       "  a25: r828,\n",
       "  a34: 0,\n",
       "  a35: ((r821 + r824)*x23*x35 - r822*x15)/(x13*x23*x35),\n",
       "  a45: r829}]"
      ]
     },
     "metadata": {},
     "output_type": "display_data"
    }
   ],
   "source": [
    "#x3\n",
    "reset()\n",
    "\n",
    "var('x12,x13,x14,x15,x23,x24,x25,x34,x35,x45')\n",
    "var('d1,d2,d3,d4,d5')\n",
    "var('a12,a13,a14,a15,a23,a24,a25,a34,a35,a45')\n",
    "\n",
    "load_attach_path('C:\\\\Users\\\\julia\\\\Documents\\\\unb\\\\doutorado\\\\pensar\\\\codigo_sage_v2\\\\maquina\\\\x3')\n",
    "load('out_#100101.sage')\n",
    "\n",
    "m=matrix(QQ, [[0, 0, 1, 0, 1],\n",
    "              [0, 0, 1, 0, 0],\n",
    "              [0, 0, 0, 0, 1],\n",
    "              [0, 0, 0, 0, 0],\n",
    "              [0, 0, 0, 0, 0]])\n",
    "        \n",
    "#entry of matrix: (i,j) line i collum j, means (i-1,j-1)\n",
    "sol=solve([ eq1==m[0,2],\teq2==m[0,3],\teq3==m[0,4],\teq4==m[1,2],\t\n",
    "                                            eq5==m[1,3],    eq6==m[1,4],\n",
    "                                                            eq7==m[2,4]],d1,d2,d3,d4,d5,a12,a13,a14,a15,a23,a24,a25,a34,a35,a45, solution_dict=True)\n",
    "\n",
    "show(m)\n",
    "show(sol)\n",
    "#latex(sol)"
   ]
  },
  {
   "cell_type": "code",
   "execution_count": 39,
   "metadata": {},
   "outputs": [
    {
     "data": {
      "text/html": [
       "<html><script type=\"math/tex; mode=display\">\\newcommand{\\Bold}[1]{\\mathbf{#1}}\\left(\\begin{array}{rrrrr}\n",
       "0 & 0 & 1 & 1 & 0 \\\\\n",
       "0 & 0 & 1 & 0 & 0 \\\\\n",
       "0 & 0 & 0 & 0 & 1 \\\\\n",
       "0 & 0 & 0 & 0 & 0 \\\\\n",
       "0 & 0 & 0 & 0 & 0\n",
       "\\end{array}\\right)</script></html>"
      ],
      "text/latex": [
       "$$\\newcommand{\\Bold}[1]{\\mathbf{#1}}\\left(\\begin{array}{rrrrr}\n",
       "0 & 0 & 1 & 1 & 0 \\\\\n",
       "0 & 0 & 1 & 0 & 0 \\\\\n",
       "0 & 0 & 0 & 0 & 1 \\\\\n",
       "0 & 0 & 0 & 0 & 0 \\\\\n",
       "0 & 0 & 0 & 0 & 0\n",
       "\\end{array}\\right)$$"
      ],
      "text/plain": [
       "[0 0 1 1 0]\n",
       "[0 0 1 0 0]\n",
       "[0 0 0 0 1]\n",
       "[0 0 0 0 0]\n",
       "[0 0 0 0 0]"
      ]
     },
     "metadata": {},
     "output_type": "display_data"
    },
    {
     "data": {
      "text/html": [
       "<html><script type=\"math/tex; mode=display\">\\newcommand{\\Bold}[1]{\\mathbf{#1}}\\left[\\left\\{d_{1} : r_{830}, d_{2} : 0, d_{3} : 0, d_{4} : r_{831}, d_{5} : 0, a_{12} : r_{832}, a_{13} : r_{833}, a_{14} : r_{834}, a_{15} : r_{835}, a_{23} : r_{836}, a_{24} : r_{837}, a_{25} : r_{838}, a_{34} : 0, a_{35} : r_{839}, a_{45} : r_{840}\\right\\}, \\left\\{d_{1} : r_{841}, d_{2} : r_{842}, d_{3} : \\frac{r_{842}}{x_{23}}, d_{4} : \\frac{r_{841}}{x_{14}}, d_{5} : \\frac{r_{842}}{x_{23} x_{35}}, a_{12} : \\frac{r_{842} x_{13} - r_{841} x_{23}}{x_{23}}, a_{13} : r_{843}, a_{14} : r_{844}, a_{15} : r_{845}, a_{23} : r_{846}, a_{24} : r_{847}, a_{25} : r_{848}, a_{34} : 0, a_{35} : \\frac{r_{846}}{x_{23}}, a_{45} : -\\frac{r_{846} x_{13} - r_{843} x_{23}}{x_{14} x_{23}}\\right\\}\\right]</script></html>"
      ],
      "text/latex": [
       "$$\\newcommand{\\Bold}[1]{\\mathbf{#1}}\\left[\\left\\{d_{1} : r_{830}, d_{2} : 0, d_{3} : 0, d_{4} : r_{831}, d_{5} : 0, a_{12} : r_{832}, a_{13} : r_{833}, a_{14} : r_{834}, a_{15} : r_{835}, a_{23} : r_{836}, a_{24} : r_{837}, a_{25} : r_{838}, a_{34} : 0, a_{35} : r_{839}, a_{45} : r_{840}\\right\\}, \\left\\{d_{1} : r_{841}, d_{2} : r_{842}, d_{3} : \\frac{r_{842}}{x_{23}}, d_{4} : \\frac{r_{841}}{x_{14}}, d_{5} : \\frac{r_{842}}{x_{23} x_{35}}, a_{12} : \\frac{r_{842} x_{13} - r_{841} x_{23}}{x_{23}}, a_{13} : r_{843}, a_{14} : r_{844}, a_{15} : r_{845}, a_{23} : r_{846}, a_{24} : r_{847}, a_{25} : r_{848}, a_{34} : 0, a_{35} : \\frac{r_{846}}{x_{23}}, a_{45} : -\\frac{r_{846} x_{13} - r_{843} x_{23}}{x_{14} x_{23}}\\right\\}\\right]$$"
      ],
      "text/plain": [
       "[{d1: r830,\n",
       "  d2: 0,\n",
       "  d3: 0,\n",
       "  d4: r831,\n",
       "  d5: 0,\n",
       "  a12: r832,\n",
       "  a13: r833,\n",
       "  a14: r834,\n",
       "  a15: r835,\n",
       "  a23: r836,\n",
       "  a24: r837,\n",
       "  a25: r838,\n",
       "  a34: 0,\n",
       "  a35: r839,\n",
       "  a45: r840},\n",
       " {d1: r841,\n",
       "  d2: r842,\n",
       "  d3: r842/x23,\n",
       "  d4: r841/x14,\n",
       "  d5: r842/(x23*x35),\n",
       "  a12: (r842*x13 - r841*x23)/x23,\n",
       "  a13: r843,\n",
       "  a14: r844,\n",
       "  a15: r845,\n",
       "  a23: r846,\n",
       "  a24: r847,\n",
       "  a25: r848,\n",
       "  a34: 0,\n",
       "  a35: r846/x23,\n",
       "  a45: -(r846*x13 - r843*x23)/(x14*x23)}]"
      ]
     },
     "metadata": {},
     "output_type": "display_data"
    }
   ],
   "source": [
    "#x3\n",
    "reset()\n",
    "\n",
    "var('x12,x13,x14,x15,x23,x24,x25,x34,x35,x45')\n",
    "var('d1,d2,d3,d4,d5')\n",
    "var('a12,a13,a14,a15,a23,a24,a25,a34,a35,a45')\n",
    "\n",
    "load_attach_path('C:\\\\Users\\\\julia\\\\Documents\\\\unb\\\\doutorado\\\\pensar\\\\codigo_sage_v2\\\\maquina\\\\x3')\n",
    "load('out_#100110.sage')\n",
    "\n",
    "m=matrix(QQ, [[0, 0, 1, 1, 0],\n",
    "              [0, 0, 1, 0, 0],\n",
    "              [0, 0, 0, 0, 1],\n",
    "              [0, 0, 0, 0, 0],\n",
    "              [0, 0, 0, 0, 0]])\n",
    "        \n",
    "#entry of matrix: (i,j) line i collum j, means (i-1,j-1)\n",
    "sol=solve([ eq1==m[0,2],\teq2==m[0,3],\teq3==m[0,4],\teq4==m[1,2],\t\n",
    "                                            eq5==m[1,3],    eq6==m[1,4],\n",
    "                                                            eq7==m[2,4]],d1,d2,d3,d4,d5,a12,a13,a14,a15,a23,a24,a25,a34,a35,a45, solution_dict=True)\n",
    "\n",
    "show(m)\n",
    "show(sol)\n",
    "#latex(sol)"
   ]
  },
  {
   "cell_type": "code",
   "execution_count": 40,
   "metadata": {},
   "outputs": [
    {
     "data": {
      "text/html": [
       "<html><script type=\"math/tex; mode=display\">\\newcommand{\\Bold}[1]{\\mathbf{#1}}\\left(\\begin{array}{rrrrr}\n",
       "0 & 0 & 1 & 1 & 1 \\\\\n",
       "0 & 0 & 1 & 0 & 0 \\\\\n",
       "0 & 0 & 0 & 0 & 1 \\\\\n",
       "0 & 0 & 0 & 0 & 0 \\\\\n",
       "0 & 0 & 0 & 0 & 0\n",
       "\\end{array}\\right)</script></html>"
      ],
      "text/latex": [
       "$$\\newcommand{\\Bold}[1]{\\mathbf{#1}}\\left(\\begin{array}{rrrrr}\n",
       "0 & 0 & 1 & 1 & 1 \\\\\n",
       "0 & 0 & 1 & 0 & 0 \\\\\n",
       "0 & 0 & 0 & 0 & 1 \\\\\n",
       "0 & 0 & 0 & 0 & 0 \\\\\n",
       "0 & 0 & 0 & 0 & 0\n",
       "\\end{array}\\right)$$"
      ],
      "text/plain": [
       "[0 0 1 1 1]\n",
       "[0 0 1 0 0]\n",
       "[0 0 0 0 1]\n",
       "[0 0 0 0 0]\n",
       "[0 0 0 0 0]"
      ]
     },
     "metadata": {},
     "output_type": "display_data"
    },
    {
     "data": {
      "text/html": [
       "<html><script type=\"math/tex; mode=display\">\\newcommand{\\Bold}[1]{\\mathbf{#1}}\\left[\\left\\{d_{1} : r_{849}, d_{2} : 0, d_{3} : 0, d_{4} : r_{850}, d_{5} : 0, a_{12} : r_{851}, a_{13} : r_{852}, a_{14} : r_{853}, a_{15} : r_{854}, a_{23} : r_{855}, a_{24} : r_{856}, a_{25} : r_{857}, a_{34} : 0, a_{35} : r_{858}, a_{45} : r_{859}\\right\\}, \\left\\{d_{1} : r_{860}, d_{2} : r_{861}, d_{3} : \\frac{r_{861}}{x_{23}}, d_{4} : \\frac{r_{860}}{x_{14}}, d_{5} : \\frac{r_{861}}{x_{23} x_{35}}, a_{12} : \\frac{r_{861} x_{13} - r_{860} x_{23}}{x_{23}}, a_{13} : r_{862}, a_{14} : r_{863}, a_{15} : r_{864}, a_{23} : r_{865}, a_{24} : r_{866}, a_{25} : r_{867}, a_{34} : 0, a_{35} : \\frac{r_{865}}{x_{23}}, a_{45} : -\\frac{r_{861} x_{15} + {\\left(r_{865} x_{13} - {\\left(r_{860} + r_{862}\\right)} x_{23}\\right)} x_{35}}{x_{14} x_{23} x_{35}}\\right\\}\\right]</script></html>"
      ],
      "text/latex": [
       "$$\\newcommand{\\Bold}[1]{\\mathbf{#1}}\\left[\\left\\{d_{1} : r_{849}, d_{2} : 0, d_{3} : 0, d_{4} : r_{850}, d_{5} : 0, a_{12} : r_{851}, a_{13} : r_{852}, a_{14} : r_{853}, a_{15} : r_{854}, a_{23} : r_{855}, a_{24} : r_{856}, a_{25} : r_{857}, a_{34} : 0, a_{35} : r_{858}, a_{45} : r_{859}\\right\\}, \\left\\{d_{1} : r_{860}, d_{2} : r_{861}, d_{3} : \\frac{r_{861}}{x_{23}}, d_{4} : \\frac{r_{860}}{x_{14}}, d_{5} : \\frac{r_{861}}{x_{23} x_{35}}, a_{12} : \\frac{r_{861} x_{13} - r_{860} x_{23}}{x_{23}}, a_{13} : r_{862}, a_{14} : r_{863}, a_{15} : r_{864}, a_{23} : r_{865}, a_{24} : r_{866}, a_{25} : r_{867}, a_{34} : 0, a_{35} : \\frac{r_{865}}{x_{23}}, a_{45} : -\\frac{r_{861} x_{15} + {\\left(r_{865} x_{13} - {\\left(r_{860} + r_{862}\\right)} x_{23}\\right)} x_{35}}{x_{14} x_{23} x_{35}}\\right\\}\\right]$$"
      ],
      "text/plain": [
       "[{d1: r849,\n",
       "  d2: 0,\n",
       "  d3: 0,\n",
       "  d4: r850,\n",
       "  d5: 0,\n",
       "  a12: r851,\n",
       "  a13: r852,\n",
       "  a14: r853,\n",
       "  a15: r854,\n",
       "  a23: r855,\n",
       "  a24: r856,\n",
       "  a25: r857,\n",
       "  a34: 0,\n",
       "  a35: r858,\n",
       "  a45: r859},\n",
       " {d1: r860,\n",
       "  d2: r861,\n",
       "  d3: r861/x23,\n",
       "  d4: r860/x14,\n",
       "  d5: r861/(x23*x35),\n",
       "  a12: (r861*x13 - r860*x23)/x23,\n",
       "  a13: r862,\n",
       "  a14: r863,\n",
       "  a15: r864,\n",
       "  a23: r865,\n",
       "  a24: r866,\n",
       "  a25: r867,\n",
       "  a34: 0,\n",
       "  a35: r865/x23,\n",
       "  a45: -(r861*x15 + (r865*x13 - (r860 + r862)*x23)*x35)/(x14*x23*x35)}]"
      ]
     },
     "metadata": {},
     "output_type": "display_data"
    }
   ],
   "source": [
    "#x3\n",
    "reset()\n",
    "\n",
    "var('x12,x13,x14,x15,x23,x24,x25,x34,x35,x45')\n",
    "var('d1,d2,d3,d4,d5')\n",
    "var('a12,a13,a14,a15,a23,a24,a25,a34,a35,a45')\n",
    "\n",
    "load_attach_path('C:\\\\Users\\\\julia\\\\Documents\\\\unb\\\\doutorado\\\\pensar\\\\codigo_sage_v2\\\\maquina\\\\x3')\n",
    "load('out_#100111.sage')\n",
    "\n",
    "m=matrix(QQ, [[0, 0, 1, 1, 1],\n",
    "              [0, 0, 1, 0, 0],\n",
    "              [0, 0, 0, 0, 1],\n",
    "              [0, 0, 0, 0, 0],\n",
    "              [0, 0, 0, 0, 0]])\n",
    "        \n",
    "#entry of matrix: (i,j) line i collum j, means (i-1,j-1)\n",
    "sol=solve([ eq1==m[0,2],\teq2==m[0,3],\teq3==m[0,4],\teq4==m[1,2],\t\n",
    "                                            eq5==m[1,3],    eq6==m[1,4],\n",
    "                                                            eq7==m[2,4]],d1,d2,d3,d4,d5,a12,a13,a14,a15,a23,a24,a25,a34,a35,a45, solution_dict=True)\n",
    "\n",
    "show(m)\n",
    "show(sol)\n",
    "#latex(sol)"
   ]
  },
  {
   "cell_type": "code",
   "execution_count": 41,
   "metadata": {},
   "outputs": [
    {
     "data": {
      "text/html": [
       "<html><script type=\"math/tex; mode=display\">\\newcommand{\\Bold}[1]{\\mathbf{#1}}\\left(\\begin{array}{rrrrr}\n",
       "0 & 0 & 0 & 0 & 0 \\\\\n",
       "0 & 0 & 1 & 0 & 1 \\\\\n",
       "0 & 0 & 0 & 0 & 1 \\\\\n",
       "0 & 0 & 0 & 0 & 0 \\\\\n",
       "0 & 0 & 0 & 0 & 0\n",
       "\\end{array}\\right)</script></html>"
      ],
      "text/latex": [
       "$$\\newcommand{\\Bold}[1]{\\mathbf{#1}}\\left(\\begin{array}{rrrrr}\n",
       "0 & 0 & 0 & 0 & 0 \\\\\n",
       "0 & 0 & 1 & 0 & 1 \\\\\n",
       "0 & 0 & 0 & 0 & 1 \\\\\n",
       "0 & 0 & 0 & 0 & 0 \\\\\n",
       "0 & 0 & 0 & 0 & 0\n",
       "\\end{array}\\right)$$"
      ],
      "text/plain": [
       "[0 0 0 0 0]\n",
       "[0 0 1 0 1]\n",
       "[0 0 0 0 1]\n",
       "[0 0 0 0 0]\n",
       "[0 0 0 0 0]"
      ]
     },
     "metadata": {},
     "output_type": "display_data"
    },
    {
     "data": {
      "text/html": [
       "<html><script type=\"math/tex; mode=display\">\\newcommand{\\Bold}[1]{\\mathbf{#1}}\\left[\\left\\{d_{1} : r_{868}, d_{2} : 0, d_{3} : 0, d_{4} : r_{869}, d_{5} : 0, a_{12} : r_{870}, a_{13} : r_{871}, a_{14} : r_{872}, a_{15} : r_{873}, a_{23} : r_{874}, a_{24} : r_{875}, a_{25} : r_{876}, a_{34} : 0, a_{35} : r_{877}, a_{45} : r_{878}\\right\\}, \\left\\{d_{1} : r_{879}, d_{2} : r_{880}, d_{3} : \\frac{r_{880}}{x_{23}}, d_{4} : r_{881}, d_{5} : \\frac{r_{880}}{x_{23} x_{35}}, a_{12} : 0, a_{13} : 0, a_{14} : r_{882}, a_{15} : r_{883}, a_{23} : r_{884}, a_{24} : r_{885}, a_{25} : r_{886}, a_{34} : 0, a_{35} : \\frac{{\\left(r_{880} + r_{884}\\right)} x_{23} x_{35} - r_{880} x_{25}}{x_{23}^{2} x_{35}}, a_{45} : r_{887}\\right\\}\\right]</script></html>"
      ],
      "text/latex": [
       "$$\\newcommand{\\Bold}[1]{\\mathbf{#1}}\\left[\\left\\{d_{1} : r_{868}, d_{2} : 0, d_{3} : 0, d_{4} : r_{869}, d_{5} : 0, a_{12} : r_{870}, a_{13} : r_{871}, a_{14} : r_{872}, a_{15} : r_{873}, a_{23} : r_{874}, a_{24} : r_{875}, a_{25} : r_{876}, a_{34} : 0, a_{35} : r_{877}, a_{45} : r_{878}\\right\\}, \\left\\{d_{1} : r_{879}, d_{2} : r_{880}, d_{3} : \\frac{r_{880}}{x_{23}}, d_{4} : r_{881}, d_{5} : \\frac{r_{880}}{x_{23} x_{35}}, a_{12} : 0, a_{13} : 0, a_{14} : r_{882}, a_{15} : r_{883}, a_{23} : r_{884}, a_{24} : r_{885}, a_{25} : r_{886}, a_{34} : 0, a_{35} : \\frac{{\\left(r_{880} + r_{884}\\right)} x_{23} x_{35} - r_{880} x_{25}}{x_{23}^{2} x_{35}}, a_{45} : r_{887}\\right\\}\\right]$$"
      ],
      "text/plain": [
       "[{d1: r868,\n",
       "  d2: 0,\n",
       "  d3: 0,\n",
       "  d4: r869,\n",
       "  d5: 0,\n",
       "  a12: r870,\n",
       "  a13: r871,\n",
       "  a14: r872,\n",
       "  a15: r873,\n",
       "  a23: r874,\n",
       "  a24: r875,\n",
       "  a25: r876,\n",
       "  a34: 0,\n",
       "  a35: r877,\n",
       "  a45: r878},\n",
       " {d1: r879,\n",
       "  d2: r880,\n",
       "  d3: r880/x23,\n",
       "  d4: r881,\n",
       "  d5: r880/(x23*x35),\n",
       "  a12: 0,\n",
       "  a13: 0,\n",
       "  a14: r882,\n",
       "  a15: r883,\n",
       "  a23: r884,\n",
       "  a24: r885,\n",
       "  a25: r886,\n",
       "  a34: 0,\n",
       "  a35: ((r880 + r884)*x23*x35 - r880*x25)/(x23^2*x35),\n",
       "  a45: r887}]"
      ]
     },
     "metadata": {},
     "output_type": "display_data"
    }
   ],
   "source": [
    "#x3\n",
    "reset()\n",
    "\n",
    "var('x12,x13,x14,x15,x23,x24,x25,x34,x35,x45')\n",
    "var('d1,d2,d3,d4,d5')\n",
    "var('a12,a13,a14,a15,a23,a24,a25,a34,a35,a45')\n",
    "\n",
    "load_attach_path('C:\\\\Users\\\\julia\\\\Documents\\\\unb\\\\doutorado\\\\pensar\\\\codigo_sage_v2\\\\maquina\\\\x3')\n",
    "load('out_#101000.sage')\n",
    "\n",
    "m=matrix(QQ, [[0, 0, 0, 0, 0],\n",
    "              [0, 0, 1, 0, 1],\n",
    "              [0, 0, 0, 0, 1],\n",
    "              [0, 0, 0, 0, 0],\n",
    "              [0, 0, 0, 0, 0]])\n",
    "        \n",
    "#entry of matrix: (i,j) line i collum j, means (i-1,j-1)\n",
    "sol=solve([ eq1==m[0,2],\teq2==m[0,3],\teq3==m[0,4],\teq4==m[1,2],\t\n",
    "                                            eq5==m[1,3],    eq6==m[1,4],\n",
    "                                                            eq7==m[2,4]],d1,d2,d3,d4,d5,a12,a13,a14,a15,a23,a24,a25,a34,a35,a45, solution_dict=True)\n",
    "\n",
    "show(m)\n",
    "show(sol)\n",
    "#latex(sol)"
   ]
  },
  {
   "cell_type": "code",
   "execution_count": 42,
   "metadata": {},
   "outputs": [
    {
     "data": {
      "text/html": [
       "<html><script type=\"math/tex; mode=display\">\\newcommand{\\Bold}[1]{\\mathbf{#1}}\\left(\\begin{array}{rrrrr}\n",
       "0 & 0 & 0 & 0 & 1 \\\\\n",
       "0 & 0 & 1 & 0 & 1 \\\\\n",
       "0 & 0 & 0 & 0 & 1 \\\\\n",
       "0 & 0 & 0 & 0 & 0 \\\\\n",
       "0 & 0 & 0 & 0 & 0\n",
       "\\end{array}\\right)</script></html>"
      ],
      "text/latex": [
       "$$\\newcommand{\\Bold}[1]{\\mathbf{#1}}\\left(\\begin{array}{rrrrr}\n",
       "0 & 0 & 0 & 0 & 1 \\\\\n",
       "0 & 0 & 1 & 0 & 1 \\\\\n",
       "0 & 0 & 0 & 0 & 1 \\\\\n",
       "0 & 0 & 0 & 0 & 0 \\\\\n",
       "0 & 0 & 0 & 0 & 0\n",
       "\\end{array}\\right)$$"
      ],
      "text/plain": [
       "[0 0 0 0 1]\n",
       "[0 0 1 0 1]\n",
       "[0 0 0 0 1]\n",
       "[0 0 0 0 0]\n",
       "[0 0 0 0 0]"
      ]
     },
     "metadata": {},
     "output_type": "display_data"
    },
    {
     "data": {
      "text/html": [
       "<html><script type=\"math/tex; mode=display\">\\newcommand{\\Bold}[1]{\\mathbf{#1}}\\left[\\left\\{d_{1} : r_{888}, d_{2} : 0, d_{3} : 0, d_{4} : r_{889}, d_{5} : 0, a_{12} : r_{890}, a_{13} : r_{891}, a_{14} : r_{892}, a_{15} : r_{893}, a_{23} : r_{894}, a_{24} : r_{895}, a_{25} : r_{896}, a_{34} : 0, a_{35} : r_{897}, a_{45} : r_{898}\\right\\}, \\left\\{d_{1} : r_{899}, d_{2} : r_{900}, d_{3} : \\frac{r_{900}}{x_{23}}, d_{4} : r_{901}, d_{5} : \\frac{r_{900}}{x_{23} x_{35}}, a_{12} : 0, a_{13} : -\\frac{r_{899} x_{23} x_{35} - r_{900} x_{15}}{x_{23} x_{35}}, a_{14} : r_{902}, a_{15} : r_{903}, a_{23} : r_{904}, a_{24} : r_{905}, a_{25} : r_{906}, a_{34} : 0, a_{35} : \\frac{{\\left(r_{900} + r_{904}\\right)} x_{23} x_{35} - r_{900} x_{25}}{x_{23}^{2} x_{35}}, a_{45} : r_{907}\\right\\}\\right]</script></html>"
      ],
      "text/latex": [
       "$$\\newcommand{\\Bold}[1]{\\mathbf{#1}}\\left[\\left\\{d_{1} : r_{888}, d_{2} : 0, d_{3} : 0, d_{4} : r_{889}, d_{5} : 0, a_{12} : r_{890}, a_{13} : r_{891}, a_{14} : r_{892}, a_{15} : r_{893}, a_{23} : r_{894}, a_{24} : r_{895}, a_{25} : r_{896}, a_{34} : 0, a_{35} : r_{897}, a_{45} : r_{898}\\right\\}, \\left\\{d_{1} : r_{899}, d_{2} : r_{900}, d_{3} : \\frac{r_{900}}{x_{23}}, d_{4} : r_{901}, d_{5} : \\frac{r_{900}}{x_{23} x_{35}}, a_{12} : 0, a_{13} : -\\frac{r_{899} x_{23} x_{35} - r_{900} x_{15}}{x_{23} x_{35}}, a_{14} : r_{902}, a_{15} : r_{903}, a_{23} : r_{904}, a_{24} : r_{905}, a_{25} : r_{906}, a_{34} : 0, a_{35} : \\frac{{\\left(r_{900} + r_{904}\\right)} x_{23} x_{35} - r_{900} x_{25}}{x_{23}^{2} x_{35}}, a_{45} : r_{907}\\right\\}\\right]$$"
      ],
      "text/plain": [
       "[{d1: r888,\n",
       "  d2: 0,\n",
       "  d3: 0,\n",
       "  d4: r889,\n",
       "  d5: 0,\n",
       "  a12: r890,\n",
       "  a13: r891,\n",
       "  a14: r892,\n",
       "  a15: r893,\n",
       "  a23: r894,\n",
       "  a24: r895,\n",
       "  a25: r896,\n",
       "  a34: 0,\n",
       "  a35: r897,\n",
       "  a45: r898},\n",
       " {d1: r899,\n",
       "  d2: r900,\n",
       "  d3: r900/x23,\n",
       "  d4: r901,\n",
       "  d5: r900/(x23*x35),\n",
       "  a12: 0,\n",
       "  a13: -(r899*x23*x35 - r900*x15)/(x23*x35),\n",
       "  a14: r902,\n",
       "  a15: r903,\n",
       "  a23: r904,\n",
       "  a24: r905,\n",
       "  a25: r906,\n",
       "  a34: 0,\n",
       "  a35: ((r900 + r904)*x23*x35 - r900*x25)/(x23^2*x35),\n",
       "  a45: r907}]"
      ]
     },
     "metadata": {},
     "output_type": "display_data"
    }
   ],
   "source": [
    "#x3\n",
    "reset()\n",
    "\n",
    "var('x12,x13,x14,x15,x23,x24,x25,x34,x35,x45')\n",
    "var('d1,d2,d3,d4,d5')\n",
    "var('a12,a13,a14,a15,a23,a24,a25,a34,a35,a45')\n",
    "\n",
    "load_attach_path('C:\\\\Users\\\\julia\\\\Documents\\\\unb\\\\doutorado\\\\pensar\\\\codigo_sage_v2\\\\maquina\\\\x3')\n",
    "load('out_#101001.sage')\n",
    "\n",
    "m=matrix(QQ, [[0, 0, 0, 0, 1],\n",
    "              [0, 0, 1, 0, 1],\n",
    "              [0, 0, 0, 0, 1],\n",
    "              [0, 0, 0, 0, 0],\n",
    "              [0, 0, 0, 0, 0]])\n",
    "        \n",
    "#entry of matrix: (i,j) line i collum j, means (i-1,j-1)\n",
    "sol=solve([ eq1==m[0,2],\teq2==m[0,3],\teq3==m[0,4],\teq4==m[1,2],\t\n",
    "                                            eq5==m[1,3],    eq6==m[1,4],\n",
    "                                                            eq7==m[2,4]],d1,d2,d3,d4,d5,a12,a13,a14,a15,a23,a24,a25,a34,a35,a45, solution_dict=True)\n",
    "\n",
    "show(m)\n",
    "show(sol)\n",
    "#latex(sol)"
   ]
  },
  {
   "cell_type": "code",
   "execution_count": 43,
   "metadata": {},
   "outputs": [
    {
     "data": {
      "text/html": [
       "<html><script type=\"math/tex; mode=display\">\\newcommand{\\Bold}[1]{\\mathbf{#1}}\\left(\\begin{array}{rrrrr}\n",
       "0 & 0 & 0 & 1 & 0 \\\\\n",
       "0 & 0 & 1 & 0 & 1 \\\\\n",
       "0 & 0 & 0 & 0 & 1 \\\\\n",
       "0 & 0 & 0 & 0 & 0 \\\\\n",
       "0 & 0 & 0 & 0 & 0\n",
       "\\end{array}\\right)</script></html>"
      ],
      "text/latex": [
       "$$\\newcommand{\\Bold}[1]{\\mathbf{#1}}\\left(\\begin{array}{rrrrr}\n",
       "0 & 0 & 0 & 1 & 0 \\\\\n",
       "0 & 0 & 1 & 0 & 1 \\\\\n",
       "0 & 0 & 0 & 0 & 1 \\\\\n",
       "0 & 0 & 0 & 0 & 0 \\\\\n",
       "0 & 0 & 0 & 0 & 0\n",
       "\\end{array}\\right)$$"
      ],
      "text/plain": [
       "[0 0 0 1 0]\n",
       "[0 0 1 0 1]\n",
       "[0 0 0 0 1]\n",
       "[0 0 0 0 0]\n",
       "[0 0 0 0 0]"
      ]
     },
     "metadata": {},
     "output_type": "display_data"
    },
    {
     "data": {
      "text/html": [
       "<html><script type=\"math/tex; mode=display\">\\newcommand{\\Bold}[1]{\\mathbf{#1}}\\left[\\left\\{d_{1} : r_{908}, d_{2} : 0, d_{3} : 0, d_{4} : r_{909}, d_{5} : 0, a_{12} : r_{910}, a_{13} : r_{911}, a_{14} : r_{912}, a_{15} : r_{913}, a_{23} : r_{914}, a_{24} : r_{915}, a_{25} : r_{916}, a_{34} : 0, a_{35} : r_{917}, a_{45} : r_{918}\\right\\}, \\left\\{d_{1} : r_{919}, d_{2} : r_{920}, d_{3} : \\frac{r_{920}}{x_{23}}, d_{4} : \\frac{r_{919}}{x_{14}}, d_{5} : \\frac{r_{920}}{x_{23} x_{35}}, a_{12} : 0, a_{13} : r_{921}, a_{14} : r_{922}, a_{15} : r_{923}, a_{23} : r_{924}, a_{24} : r_{925}, a_{25} : r_{926}, a_{34} : 0, a_{35} : \\frac{{\\left(r_{920} + r_{924}\\right)} x_{23} x_{35} - r_{920} x_{25}}{x_{23}^{2} x_{35}}, a_{45} : \\frac{r_{921}}{x_{14}}\\right\\}\\right]</script></html>"
      ],
      "text/latex": [
       "$$\\newcommand{\\Bold}[1]{\\mathbf{#1}}\\left[\\left\\{d_{1} : r_{908}, d_{2} : 0, d_{3} : 0, d_{4} : r_{909}, d_{5} : 0, a_{12} : r_{910}, a_{13} : r_{911}, a_{14} : r_{912}, a_{15} : r_{913}, a_{23} : r_{914}, a_{24} : r_{915}, a_{25} : r_{916}, a_{34} : 0, a_{35} : r_{917}, a_{45} : r_{918}\\right\\}, \\left\\{d_{1} : r_{919}, d_{2} : r_{920}, d_{3} : \\frac{r_{920}}{x_{23}}, d_{4} : \\frac{r_{919}}{x_{14}}, d_{5} : \\frac{r_{920}}{x_{23} x_{35}}, a_{12} : 0, a_{13} : r_{921}, a_{14} : r_{922}, a_{15} : r_{923}, a_{23} : r_{924}, a_{24} : r_{925}, a_{25} : r_{926}, a_{34} : 0, a_{35} : \\frac{{\\left(r_{920} + r_{924}\\right)} x_{23} x_{35} - r_{920} x_{25}}{x_{23}^{2} x_{35}}, a_{45} : \\frac{r_{921}}{x_{14}}\\right\\}\\right]$$"
      ],
      "text/plain": [
       "[{d1: r908,\n",
       "  d2: 0,\n",
       "  d3: 0,\n",
       "  d4: r909,\n",
       "  d5: 0,\n",
       "  a12: r910,\n",
       "  a13: r911,\n",
       "  a14: r912,\n",
       "  a15: r913,\n",
       "  a23: r914,\n",
       "  a24: r915,\n",
       "  a25: r916,\n",
       "  a34: 0,\n",
       "  a35: r917,\n",
       "  a45: r918},\n",
       " {d1: r919,\n",
       "  d2: r920,\n",
       "  d3: r920/x23,\n",
       "  d4: r919/x14,\n",
       "  d5: r920/(x23*x35),\n",
       "  a12: 0,\n",
       "  a13: r921,\n",
       "  a14: r922,\n",
       "  a15: r923,\n",
       "  a23: r924,\n",
       "  a24: r925,\n",
       "  a25: r926,\n",
       "  a34: 0,\n",
       "  a35: ((r920 + r924)*x23*x35 - r920*x25)/(x23^2*x35),\n",
       "  a45: r921/x14}]"
      ]
     },
     "metadata": {},
     "output_type": "display_data"
    }
   ],
   "source": [
    "#x3\n",
    "reset()\n",
    "\n",
    "var('x12,x13,x14,x15,x23,x24,x25,x34,x35,x45')\n",
    "var('d1,d2,d3,d4,d5')\n",
    "var('a12,a13,a14,a15,a23,a24,a25,a34,a35,a45')\n",
    "\n",
    "load_attach_path('C:\\\\Users\\\\julia\\\\Documents\\\\unb\\\\doutorado\\\\pensar\\\\codigo_sage_v2\\\\maquina\\\\x3')\n",
    "load('out_#101010.sage')\n",
    "\n",
    "m=matrix(QQ, [[0, 0, 0, 1, 0],\n",
    "              [0, 0, 1, 0, 1],\n",
    "              [0, 0, 0, 0, 1],\n",
    "              [0, 0, 0, 0, 0],\n",
    "              [0, 0, 0, 0, 0]])\n",
    "        \n",
    "#entry of matrix: (i,j) line i collum j, means (i-1,j-1)\n",
    "sol=solve([ eq1==m[0,2],\teq2==m[0,3],\teq3==m[0,4],\teq4==m[1,2],\t\n",
    "                                            eq5==m[1,3],    eq6==m[1,4],\n",
    "                                                            eq7==m[2,4]],d1,d2,d3,d4,d5,a12,a13,a14,a15,a23,a24,a25,a34,a35,a45, solution_dict=True)\n",
    "\n",
    "show(m)\n",
    "show(sol)\n",
    "#latex(sol)"
   ]
  },
  {
   "cell_type": "code",
   "execution_count": 44,
   "metadata": {},
   "outputs": [
    {
     "data": {
      "text/html": [
       "<html><script type=\"math/tex; mode=display\">\\newcommand{\\Bold}[1]{\\mathbf{#1}}\\left(\\begin{array}{rrrrr}\n",
       "0 & 0 & 0 & 1 & 1 \\\\\n",
       "0 & 0 & 1 & 0 & 1 \\\\\n",
       "0 & 0 & 0 & 0 & 1 \\\\\n",
       "0 & 0 & 0 & 0 & 0 \\\\\n",
       "0 & 0 & 0 & 0 & 0\n",
       "\\end{array}\\right)</script></html>"
      ],
      "text/latex": [
       "$$\\newcommand{\\Bold}[1]{\\mathbf{#1}}\\left(\\begin{array}{rrrrr}\n",
       "0 & 0 & 0 & 1 & 1 \\\\\n",
       "0 & 0 & 1 & 0 & 1 \\\\\n",
       "0 & 0 & 0 & 0 & 1 \\\\\n",
       "0 & 0 & 0 & 0 & 0 \\\\\n",
       "0 & 0 & 0 & 0 & 0\n",
       "\\end{array}\\right)$$"
      ],
      "text/plain": [
       "[0 0 0 1 1]\n",
       "[0 0 1 0 1]\n",
       "[0 0 0 0 1]\n",
       "[0 0 0 0 0]\n",
       "[0 0 0 0 0]"
      ]
     },
     "metadata": {},
     "output_type": "display_data"
    },
    {
     "data": {
      "text/html": [
       "<html><script type=\"math/tex; mode=display\">\\newcommand{\\Bold}[1]{\\mathbf{#1}}\\left[\\left\\{d_{1} : r_{927}, d_{2} : 0, d_{3} : 0, d_{4} : r_{928}, d_{5} : 0, a_{12} : r_{929}, a_{13} : r_{930}, a_{14} : r_{931}, a_{15} : r_{932}, a_{23} : r_{933}, a_{24} : r_{934}, a_{25} : r_{935}, a_{34} : 0, a_{35} : r_{936}, a_{45} : r_{937}\\right\\}, \\left\\{d_{1} : r_{938}, d_{2} : r_{939}, d_{3} : \\frac{r_{939}}{x_{23}}, d_{4} : \\frac{r_{938}}{x_{14}}, d_{5} : \\frac{r_{939}}{x_{23} x_{35}}, a_{12} : 0, a_{13} : r_{940}, a_{14} : r_{941}, a_{15} : r_{942}, a_{23} : r_{943}, a_{24} : r_{944}, a_{25} : r_{945}, a_{34} : 0, a_{35} : \\frac{{\\left(r_{939} + r_{943}\\right)} x_{23} x_{35} - r_{939} x_{25}}{x_{23}^{2} x_{35}}, a_{45} : \\frac{{\\left(r_{938} + r_{940}\\right)} x_{23} x_{35} - r_{939} x_{15}}{x_{14} x_{23} x_{35}}\\right\\}\\right]</script></html>"
      ],
      "text/latex": [
       "$$\\newcommand{\\Bold}[1]{\\mathbf{#1}}\\left[\\left\\{d_{1} : r_{927}, d_{2} : 0, d_{3} : 0, d_{4} : r_{928}, d_{5} : 0, a_{12} : r_{929}, a_{13} : r_{930}, a_{14} : r_{931}, a_{15} : r_{932}, a_{23} : r_{933}, a_{24} : r_{934}, a_{25} : r_{935}, a_{34} : 0, a_{35} : r_{936}, a_{45} : r_{937}\\right\\}, \\left\\{d_{1} : r_{938}, d_{2} : r_{939}, d_{3} : \\frac{r_{939}}{x_{23}}, d_{4} : \\frac{r_{938}}{x_{14}}, d_{5} : \\frac{r_{939}}{x_{23} x_{35}}, a_{12} : 0, a_{13} : r_{940}, a_{14} : r_{941}, a_{15} : r_{942}, a_{23} : r_{943}, a_{24} : r_{944}, a_{25} : r_{945}, a_{34} : 0, a_{35} : \\frac{{\\left(r_{939} + r_{943}\\right)} x_{23} x_{35} - r_{939} x_{25}}{x_{23}^{2} x_{35}}, a_{45} : \\frac{{\\left(r_{938} + r_{940}\\right)} x_{23} x_{35} - r_{939} x_{15}}{x_{14} x_{23} x_{35}}\\right\\}\\right]$$"
      ],
      "text/plain": [
       "[{d1: r927,\n",
       "  d2: 0,\n",
       "  d3: 0,\n",
       "  d4: r928,\n",
       "  d5: 0,\n",
       "  a12: r929,\n",
       "  a13: r930,\n",
       "  a14: r931,\n",
       "  a15: r932,\n",
       "  a23: r933,\n",
       "  a24: r934,\n",
       "  a25: r935,\n",
       "  a34: 0,\n",
       "  a35: r936,\n",
       "  a45: r937},\n",
       " {d1: r938,\n",
       "  d2: r939,\n",
       "  d3: r939/x23,\n",
       "  d4: r938/x14,\n",
       "  d5: r939/(x23*x35),\n",
       "  a12: 0,\n",
       "  a13: r940,\n",
       "  a14: r941,\n",
       "  a15: r942,\n",
       "  a23: r943,\n",
       "  a24: r944,\n",
       "  a25: r945,\n",
       "  a34: 0,\n",
       "  a35: ((r939 + r943)*x23*x35 - r939*x25)/(x23^2*x35),\n",
       "  a45: ((r938 + r940)*x23*x35 - r939*x15)/(x14*x23*x35)}]"
      ]
     },
     "metadata": {},
     "output_type": "display_data"
    }
   ],
   "source": [
    "#x3\n",
    "reset()\n",
    "\n",
    "var('x12,x13,x14,x15,x23,x24,x25,x34,x35,x45')\n",
    "var('d1,d2,d3,d4,d5')\n",
    "var('a12,a13,a14,a15,a23,a24,a25,a34,a35,a45')\n",
    "\n",
    "load_attach_path('C:\\\\Users\\\\julia\\\\Documents\\\\unb\\\\doutorado\\\\pensar\\\\codigo_sage_v2\\\\maquina\\\\x3')\n",
    "load('out_#101011.sage')\n",
    "\n",
    "m=matrix(QQ, [[0, 0, 0, 1, 1],\n",
    "              [0, 0, 1, 0, 1],\n",
    "              [0, 0, 0, 0, 1],\n",
    "              [0, 0, 0, 0, 0],\n",
    "              [0, 0, 0, 0, 0]])\n",
    "        \n",
    "#entry of matrix: (i,j) line i collum j, means (i-1,j-1)\n",
    "sol=solve([ eq1==m[0,2],\teq2==m[0,3],\teq3==m[0,4],\teq4==m[1,2],\t\n",
    "                                            eq5==m[1,3],    eq6==m[1,4],\n",
    "                                                            eq7==m[2,4]],d1,d2,d3,d4,d5,a12,a13,a14,a15,a23,a24,a25,a34,a35,a45, solution_dict=True)\n",
    "\n",
    "show(m)\n",
    "show(sol)\n",
    "#latex(sol)"
   ]
  },
  {
   "cell_type": "code",
   "execution_count": 45,
   "metadata": {},
   "outputs": [
    {
     "data": {
      "text/html": [
       "<html><script type=\"math/tex; mode=display\">\\newcommand{\\Bold}[1]{\\mathbf{#1}}\\left(\\begin{array}{rrrrr}\n",
       "0 & 0 & 1 & 0 & 0 \\\\\n",
       "0 & 0 & 1 & 0 & 1 \\\\\n",
       "0 & 0 & 0 & 0 & 1 \\\\\n",
       "0 & 0 & 0 & 0 & 0 \\\\\n",
       "0 & 0 & 0 & 0 & 0\n",
       "\\end{array}\\right)</script></html>"
      ],
      "text/latex": [
       "$$\\newcommand{\\Bold}[1]{\\mathbf{#1}}\\left(\\begin{array}{rrrrr}\n",
       "0 & 0 & 1 & 0 & 0 \\\\\n",
       "0 & 0 & 1 & 0 & 1 \\\\\n",
       "0 & 0 & 0 & 0 & 1 \\\\\n",
       "0 & 0 & 0 & 0 & 0 \\\\\n",
       "0 & 0 & 0 & 0 & 0\n",
       "\\end{array}\\right)$$"
      ],
      "text/plain": [
       "[0 0 1 0 0]\n",
       "[0 0 1 0 1]\n",
       "[0 0 0 0 1]\n",
       "[0 0 0 0 0]\n",
       "[0 0 0 0 0]"
      ]
     },
     "metadata": {},
     "output_type": "display_data"
    },
    {
     "data": {
      "text/html": [
       "<html><script type=\"math/tex; mode=display\">\\newcommand{\\Bold}[1]{\\mathbf{#1}}\\left[\\left\\{d_{1} : r_{946}, d_{2} : 0, d_{3} : 0, d_{4} : r_{947}, d_{5} : 0, a_{12} : r_{948}, a_{13} : r_{949}, a_{14} : r_{950}, a_{15} : r_{951}, a_{23} : r_{952}, a_{24} : r_{953}, a_{25} : r_{954}, a_{34} : 0, a_{35} : r_{955}, a_{45} : r_{956}\\right\\}, \\left\\{d_{1} : r_{957}, d_{2} : r_{958}, d_{3} : \\frac{r_{958}}{x_{23}}, d_{4} : r_{959}, d_{5} : \\frac{r_{958}}{x_{23} x_{35}}, a_{12} : \\frac{r_{958} x_{13} - r_{957} x_{23}}{x_{23}}, a_{13} : r_{960}, a_{14} : r_{961}, a_{15} : r_{962}, a_{23} : -\\frac{{\\left(r_{957} - r_{960}\\right)} x_{23}^{2} x_{35} - r_{958} x_{13} x_{25}}{x_{13} x_{23} x_{35}}, a_{24} : r_{963}, a_{25} : r_{964}, a_{34} : 0, a_{35} : \\frac{r_{958} x_{13} - {\\left(r_{957} - r_{960}\\right)} x_{23}}{x_{13} x_{23}}, a_{45} : r_{965}\\right\\}\\right]</script></html>"
      ],
      "text/latex": [
       "$$\\newcommand{\\Bold}[1]{\\mathbf{#1}}\\left[\\left\\{d_{1} : r_{946}, d_{2} : 0, d_{3} : 0, d_{4} : r_{947}, d_{5} : 0, a_{12} : r_{948}, a_{13} : r_{949}, a_{14} : r_{950}, a_{15} : r_{951}, a_{23} : r_{952}, a_{24} : r_{953}, a_{25} : r_{954}, a_{34} : 0, a_{35} : r_{955}, a_{45} : r_{956}\\right\\}, \\left\\{d_{1} : r_{957}, d_{2} : r_{958}, d_{3} : \\frac{r_{958}}{x_{23}}, d_{4} : r_{959}, d_{5} : \\frac{r_{958}}{x_{23} x_{35}}, a_{12} : \\frac{r_{958} x_{13} - r_{957} x_{23}}{x_{23}}, a_{13} : r_{960}, a_{14} : r_{961}, a_{15} : r_{962}, a_{23} : -\\frac{{\\left(r_{957} - r_{960}\\right)} x_{23}^{2} x_{35} - r_{958} x_{13} x_{25}}{x_{13} x_{23} x_{35}}, a_{24} : r_{963}, a_{25} : r_{964}, a_{34} : 0, a_{35} : \\frac{r_{958} x_{13} - {\\left(r_{957} - r_{960}\\right)} x_{23}}{x_{13} x_{23}}, a_{45} : r_{965}\\right\\}\\right]$$"
      ],
      "text/plain": [
       "[{d1: r946,\n",
       "  d2: 0,\n",
       "  d3: 0,\n",
       "  d4: r947,\n",
       "  d5: 0,\n",
       "  a12: r948,\n",
       "  a13: r949,\n",
       "  a14: r950,\n",
       "  a15: r951,\n",
       "  a23: r952,\n",
       "  a24: r953,\n",
       "  a25: r954,\n",
       "  a34: 0,\n",
       "  a35: r955,\n",
       "  a45: r956},\n",
       " {d1: r957,\n",
       "  d2: r958,\n",
       "  d3: r958/x23,\n",
       "  d4: r959,\n",
       "  d5: r958/(x23*x35),\n",
       "  a12: (r958*x13 - r957*x23)/x23,\n",
       "  a13: r960,\n",
       "  a14: r961,\n",
       "  a15: r962,\n",
       "  a23: -((r957 - r960)*x23^2*x35 - r958*x13*x25)/(x13*x23*x35),\n",
       "  a24: r963,\n",
       "  a25: r964,\n",
       "  a34: 0,\n",
       "  a35: (r958*x13 - (r957 - r960)*x23)/(x13*x23),\n",
       "  a45: r965}]"
      ]
     },
     "metadata": {},
     "output_type": "display_data"
    }
   ],
   "source": [
    "#x3\n",
    "reset()\n",
    "\n",
    "var('x12,x13,x14,x15,x23,x24,x25,x34,x35,x45')\n",
    "var('d1,d2,d3,d4,d5')\n",
    "var('a12,a13,a14,a15,a23,a24,a25,a34,a35,a45')\n",
    "\n",
    "load_attach_path('C:\\\\Users\\\\julia\\\\Documents\\\\unb\\\\doutorado\\\\pensar\\\\codigo_sage_v2\\\\maquina\\\\x3')\n",
    "load('out_#101100.sage')\n",
    "\n",
    "m=matrix(QQ, [[0, 0, 1, 0, 0],\n",
    "              [0, 0, 1, 0, 1],\n",
    "              [0, 0, 0, 0, 1],\n",
    "              [0, 0, 0, 0, 0],\n",
    "              [0, 0, 0, 0, 0]])\n",
    "        \n",
    "#entry of matrix: (i,j) line i collum j, means (i-1,j-1)\n",
    "sol=solve([ eq1==m[0,2],\teq2==m[0,3],\teq3==m[0,4],\teq4==m[1,2],\t\n",
    "                                            eq5==m[1,3],    eq6==m[1,4],\n",
    "                                                            eq7==m[2,4]],d1,d2,d3,d4,d5,a12,a13,a14,a15,a23,a24,a25,a34,a35,a45, solution_dict=True)\n",
    "\n",
    "show(m)\n",
    "show(sol)\n",
    "#latex(sol)"
   ]
  },
  {
   "cell_type": "code",
   "execution_count": 46,
   "metadata": {},
   "outputs": [
    {
     "data": {
      "text/html": [
       "<html><script type=\"math/tex; mode=display\">\\newcommand{\\Bold}[1]{\\mathbf{#1}}\\left(\\begin{array}{rrrrr}\n",
       "0 & 0 & 1 & 0 & 1 \\\\\n",
       "0 & 0 & 1 & 0 & 1 \\\\\n",
       "0 & 0 & 0 & 0 & 1 \\\\\n",
       "0 & 0 & 0 & 0 & 0 \\\\\n",
       "0 & 0 & 0 & 0 & 0\n",
       "\\end{array}\\right)</script></html>"
      ],
      "text/latex": [
       "$$\\newcommand{\\Bold}[1]{\\mathbf{#1}}\\left(\\begin{array}{rrrrr}\n",
       "0 & 0 & 1 & 0 & 1 \\\\\n",
       "0 & 0 & 1 & 0 & 1 \\\\\n",
       "0 & 0 & 0 & 0 & 1 \\\\\n",
       "0 & 0 & 0 & 0 & 0 \\\\\n",
       "0 & 0 & 0 & 0 & 0\n",
       "\\end{array}\\right)$$"
      ],
      "text/plain": [
       "[0 0 1 0 1]\n",
       "[0 0 1 0 1]\n",
       "[0 0 0 0 1]\n",
       "[0 0 0 0 0]\n",
       "[0 0 0 0 0]"
      ]
     },
     "metadata": {},
     "output_type": "display_data"
    },
    {
     "data": {
      "text/html": [
       "<html><script type=\"math/tex; mode=display\">\\newcommand{\\Bold}[1]{\\mathbf{#1}}\\left[\\left\\{d_{1} : r_{966}, d_{2} : 0, d_{3} : 0, d_{4} : r_{967}, d_{5} : 0, a_{12} : r_{968}, a_{13} : r_{969}, a_{14} : r_{970}, a_{15} : r_{971}, a_{23} : r_{972}, a_{24} : r_{973}, a_{25} : r_{974}, a_{34} : 0, a_{35} : r_{975}, a_{45} : r_{976}\\right\\}, \\left\\{d_{1} : r_{977}, d_{2} : r_{978}, d_{3} : \\frac{r_{978}}{x_{23}}, d_{4} : r_{979}, d_{5} : \\frac{r_{978}}{x_{23} x_{35}}, a_{12} : \\frac{r_{978} x_{13} - r_{977} x_{23}}{x_{23}}, a_{13} : r_{980}, a_{14} : r_{981}, a_{15} : r_{982}, a_{23} : \\frac{r_{980} x_{23}^{2} x_{35} - r_{978} x_{15} x_{23} + r_{978} x_{13} x_{25}}{x_{13} x_{23} x_{35}}, a_{24} : r_{983}, a_{25} : r_{984}, a_{34} : 0, a_{35} : -\\frac{r_{978} x_{15} - {\\left(r_{978} x_{13} + r_{980} x_{23}\\right)} x_{35}}{x_{13} x_{23} x_{35}}, a_{45} : r_{985}\\right\\}\\right]</script></html>"
      ],
      "text/latex": [
       "$$\\newcommand{\\Bold}[1]{\\mathbf{#1}}\\left[\\left\\{d_{1} : r_{966}, d_{2} : 0, d_{3} : 0, d_{4} : r_{967}, d_{5} : 0, a_{12} : r_{968}, a_{13} : r_{969}, a_{14} : r_{970}, a_{15} : r_{971}, a_{23} : r_{972}, a_{24} : r_{973}, a_{25} : r_{974}, a_{34} : 0, a_{35} : r_{975}, a_{45} : r_{976}\\right\\}, \\left\\{d_{1} : r_{977}, d_{2} : r_{978}, d_{3} : \\frac{r_{978}}{x_{23}}, d_{4} : r_{979}, d_{5} : \\frac{r_{978}}{x_{23} x_{35}}, a_{12} : \\frac{r_{978} x_{13} - r_{977} x_{23}}{x_{23}}, a_{13} : r_{980}, a_{14} : r_{981}, a_{15} : r_{982}, a_{23} : \\frac{r_{980} x_{23}^{2} x_{35} - r_{978} x_{15} x_{23} + r_{978} x_{13} x_{25}}{x_{13} x_{23} x_{35}}, a_{24} : r_{983}, a_{25} : r_{984}, a_{34} : 0, a_{35} : -\\frac{r_{978} x_{15} - {\\left(r_{978} x_{13} + r_{980} x_{23}\\right)} x_{35}}{x_{13} x_{23} x_{35}}, a_{45} : r_{985}\\right\\}\\right]$$"
      ],
      "text/plain": [
       "[{d1: r966,\n",
       "  d2: 0,\n",
       "  d3: 0,\n",
       "  d4: r967,\n",
       "  d5: 0,\n",
       "  a12: r968,\n",
       "  a13: r969,\n",
       "  a14: r970,\n",
       "  a15: r971,\n",
       "  a23: r972,\n",
       "  a24: r973,\n",
       "  a25: r974,\n",
       "  a34: 0,\n",
       "  a35: r975,\n",
       "  a45: r976},\n",
       " {d1: r977,\n",
       "  d2: r978,\n",
       "  d3: r978/x23,\n",
       "  d4: r979,\n",
       "  d5: r978/(x23*x35),\n",
       "  a12: (r978*x13 - r977*x23)/x23,\n",
       "  a13: r980,\n",
       "  a14: r981,\n",
       "  a15: r982,\n",
       "  a23: (r980*x23^2*x35 - r978*x15*x23 + r978*x13*x25)/(x13*x23*x35),\n",
       "  a24: r983,\n",
       "  a25: r984,\n",
       "  a34: 0,\n",
       "  a35: -(r978*x15 - (r978*x13 + r980*x23)*x35)/(x13*x23*x35),\n",
       "  a45: r985}]"
      ]
     },
     "metadata": {},
     "output_type": "display_data"
    }
   ],
   "source": [
    "#x3\n",
    "reset()\n",
    "\n",
    "var('x12,x13,x14,x15,x23,x24,x25,x34,x35,x45')\n",
    "var('d1,d2,d3,d4,d5')\n",
    "var('a12,a13,a14,a15,a23,a24,a25,a34,a35,a45')\n",
    "\n",
    "load_attach_path('C:\\\\Users\\\\julia\\\\Documents\\\\unb\\\\doutorado\\\\pensar\\\\codigo_sage_v2\\\\maquina\\\\x3')\n",
    "load('out_#101101.sage')\n",
    "\n",
    "m=matrix(QQ, [[0, 0, 1, 0, 1],\n",
    "              [0, 0, 1, 0, 1],\n",
    "              [0, 0, 0, 0, 1],\n",
    "              [0, 0, 0, 0, 0],\n",
    "              [0, 0, 0, 0, 0]])\n",
    "        \n",
    "#entry of matrix: (i,j) line i collum j, means (i-1,j-1)\n",
    "sol=solve([ eq1==m[0,2],\teq2==m[0,3],\teq3==m[0,4],\teq4==m[1,2],\t\n",
    "                                            eq5==m[1,3],    eq6==m[1,4],\n",
    "                                                            eq7==m[2,4]],d1,d2,d3,d4,d5,a12,a13,a14,a15,a23,a24,a25,a34,a35,a45, solution_dict=True)\n",
    "\n",
    "show(m)\n",
    "show(sol)\n",
    "#latex(sol)"
   ]
  },
  {
   "cell_type": "code",
   "execution_count": 47,
   "metadata": {},
   "outputs": [
    {
     "data": {
      "text/html": [
       "<html><script type=\"math/tex; mode=display\">\\newcommand{\\Bold}[1]{\\mathbf{#1}}\\left(\\begin{array}{rrrrr}\n",
       "0 & 0 & 1 & 1 & 0 \\\\\n",
       "0 & 0 & 1 & 0 & 1 \\\\\n",
       "0 & 0 & 0 & 0 & 1 \\\\\n",
       "0 & 0 & 0 & 0 & 0 \\\\\n",
       "0 & 0 & 0 & 0 & 0\n",
       "\\end{array}\\right)</script></html>"
      ],
      "text/latex": [
       "$$\\newcommand{\\Bold}[1]{\\mathbf{#1}}\\left(\\begin{array}{rrrrr}\n",
       "0 & 0 & 1 & 1 & 0 \\\\\n",
       "0 & 0 & 1 & 0 & 1 \\\\\n",
       "0 & 0 & 0 & 0 & 1 \\\\\n",
       "0 & 0 & 0 & 0 & 0 \\\\\n",
       "0 & 0 & 0 & 0 & 0\n",
       "\\end{array}\\right)$$"
      ],
      "text/plain": [
       "[0 0 1 1 0]\n",
       "[0 0 1 0 1]\n",
       "[0 0 0 0 1]\n",
       "[0 0 0 0 0]\n",
       "[0 0 0 0 0]"
      ]
     },
     "metadata": {},
     "output_type": "display_data"
    },
    {
     "data": {
      "text/html": [
       "<html><script type=\"math/tex; mode=display\">\\newcommand{\\Bold}[1]{\\mathbf{#1}}\\left[\\left\\{d_{1} : r_{986}, d_{2} : 0, d_{3} : 0, d_{4} : r_{987}, d_{5} : 0, a_{12} : r_{988}, a_{13} : r_{989}, a_{14} : r_{990}, a_{15} : r_{991}, a_{23} : r_{992}, a_{24} : r_{993}, a_{25} : r_{994}, a_{34} : 0, a_{35} : r_{995}, a_{45} : r_{996}\\right\\}, \\left\\{d_{1} : r_{997}, d_{2} : r_{998}, d_{3} : \\frac{r_{998}}{x_{23}}, d_{4} : \\frac{r_{997}}{x_{14}}, d_{5} : \\frac{r_{998}}{x_{23} x_{35}}, a_{12} : \\frac{r_{998} x_{13} - r_{997} x_{23}}{x_{23}}, a_{13} : r_{999}, a_{14} : r_{1000}, a_{15} : r_{1001}, a_{23} : r_{1002}, a_{24} : r_{1003}, a_{25} : r_{1004}, a_{34} : 0, a_{35} : \\frac{{\\left(r_{1002} + r_{998}\\right)} x_{23} x_{35} - r_{998} x_{25}}{x_{23}^{2} x_{35}}, a_{45} : \\frac{r_{998} x_{13} x_{25} - {\\left(r_{1002} x_{13} x_{23} + {\\left(r_{997} - r_{999}\\right)} x_{23}^{2}\\right)} x_{35}}{x_{14} x_{23}^{2} x_{35}}\\right\\}\\right]</script></html>"
      ],
      "text/latex": [
       "$$\\newcommand{\\Bold}[1]{\\mathbf{#1}}\\left[\\left\\{d_{1} : r_{986}, d_{2} : 0, d_{3} : 0, d_{4} : r_{987}, d_{5} : 0, a_{12} : r_{988}, a_{13} : r_{989}, a_{14} : r_{990}, a_{15} : r_{991}, a_{23} : r_{992}, a_{24} : r_{993}, a_{25} : r_{994}, a_{34} : 0, a_{35} : r_{995}, a_{45} : r_{996}\\right\\}, \\left\\{d_{1} : r_{997}, d_{2} : r_{998}, d_{3} : \\frac{r_{998}}{x_{23}}, d_{4} : \\frac{r_{997}}{x_{14}}, d_{5} : \\frac{r_{998}}{x_{23} x_{35}}, a_{12} : \\frac{r_{998} x_{13} - r_{997} x_{23}}{x_{23}}, a_{13} : r_{999}, a_{14} : r_{1000}, a_{15} : r_{1001}, a_{23} : r_{1002}, a_{24} : r_{1003}, a_{25} : r_{1004}, a_{34} : 0, a_{35} : \\frac{{\\left(r_{1002} + r_{998}\\right)} x_{23} x_{35} - r_{998} x_{25}}{x_{23}^{2} x_{35}}, a_{45} : \\frac{r_{998} x_{13} x_{25} - {\\left(r_{1002} x_{13} x_{23} + {\\left(r_{997} - r_{999}\\right)} x_{23}^{2}\\right)} x_{35}}{x_{14} x_{23}^{2} x_{35}}\\right\\}\\right]$$"
      ],
      "text/plain": [
       "[{d1: r986,\n",
       "  d2: 0,\n",
       "  d3: 0,\n",
       "  d4: r987,\n",
       "  d5: 0,\n",
       "  a12: r988,\n",
       "  a13: r989,\n",
       "  a14: r990,\n",
       "  a15: r991,\n",
       "  a23: r992,\n",
       "  a24: r993,\n",
       "  a25: r994,\n",
       "  a34: 0,\n",
       "  a35: r995,\n",
       "  a45: r996},\n",
       " {d1: r997,\n",
       "  d2: r998,\n",
       "  d3: r998/x23,\n",
       "  d4: r997/x14,\n",
       "  d5: r998/(x23*x35),\n",
       "  a12: (r998*x13 - r997*x23)/x23,\n",
       "  a13: r999,\n",
       "  a14: r1000,\n",
       "  a15: r1001,\n",
       "  a23: r1002,\n",
       "  a24: r1003,\n",
       "  a25: r1004,\n",
       "  a34: 0,\n",
       "  a35: ((r1002 + r998)*x23*x35 - r998*x25)/(x23^2*x35),\n",
       "  a45: (r998*x13*x25 - (r1002*x13*x23 + (r997 - r999)*x23^2)*x35)/(x14*x23^2*x35)}]"
      ]
     },
     "metadata": {},
     "output_type": "display_data"
    }
   ],
   "source": [
    "#x3\n",
    "reset()\n",
    "\n",
    "var('x12,x13,x14,x15,x23,x24,x25,x34,x35,x45')\n",
    "var('d1,d2,d3,d4,d5')\n",
    "var('a12,a13,a14,a15,a23,a24,a25,a34,a35,a45')\n",
    "\n",
    "load_attach_path('C:\\\\Users\\\\julia\\\\Documents\\\\unb\\\\doutorado\\\\pensar\\\\codigo_sage_v2\\\\maquina\\\\x3')\n",
    "load('out_#101110.sage')\n",
    "\n",
    "m=matrix(QQ, [[0, 0, 1, 1, 0],\n",
    "              [0, 0, 1, 0, 1],\n",
    "              [0, 0, 0, 0, 1],\n",
    "              [0, 0, 0, 0, 0],\n",
    "              [0, 0, 0, 0, 0]])\n",
    "        \n",
    "#entry of matrix: (i,j) line i collum j, means (i-1,j-1)\n",
    "sol=solve([ eq1==m[0,2],\teq2==m[0,3],\teq3==m[0,4],\teq4==m[1,2],\t\n",
    "                                            eq5==m[1,3],    eq6==m[1,4],\n",
    "                                                            eq7==m[2,4]],d1,d2,d3,d4,d5,a12,a13,a14,a15,a23,a24,a25,a34,a35,a45, solution_dict=True)\n",
    "\n",
    "show(m)\n",
    "show(sol)\n",
    "#latex(sol)"
   ]
  },
  {
   "cell_type": "code",
   "execution_count": 48,
   "metadata": {},
   "outputs": [
    {
     "data": {
      "text/html": [
       "<html><script type=\"math/tex; mode=display\">\\newcommand{\\Bold}[1]{\\mathbf{#1}}\\left(\\begin{array}{rrrrr}\n",
       "0 & 0 & 1 & 1 & 1 \\\\\n",
       "0 & 0 & 1 & 0 & 1 \\\\\n",
       "0 & 0 & 0 & 0 & 1 \\\\\n",
       "0 & 0 & 0 & 0 & 0 \\\\\n",
       "0 & 0 & 0 & 0 & 0\n",
       "\\end{array}\\right)</script></html>"
      ],
      "text/latex": [
       "$$\\newcommand{\\Bold}[1]{\\mathbf{#1}}\\left(\\begin{array}{rrrrr}\n",
       "0 & 0 & 1 & 1 & 1 \\\\\n",
       "0 & 0 & 1 & 0 & 1 \\\\\n",
       "0 & 0 & 0 & 0 & 1 \\\\\n",
       "0 & 0 & 0 & 0 & 0 \\\\\n",
       "0 & 0 & 0 & 0 & 0\n",
       "\\end{array}\\right)$$"
      ],
      "text/plain": [
       "[0 0 1 1 1]\n",
       "[0 0 1 0 1]\n",
       "[0 0 0 0 1]\n",
       "[0 0 0 0 0]\n",
       "[0 0 0 0 0]"
      ]
     },
     "metadata": {},
     "output_type": "display_data"
    },
    {
     "data": {
      "text/html": [
       "<html><script type=\"math/tex; mode=display\">\\newcommand{\\Bold}[1]{\\mathbf{#1}}\\left[\\left\\{d_{1} : r_{1005}, d_{2} : 0, d_{3} : 0, d_{4} : r_{1006}, d_{5} : 0, a_{12} : r_{1007}, a_{13} : r_{1008}, a_{14} : r_{1009}, a_{15} : r_{1010}, a_{23} : r_{1011}, a_{24} : r_{1012}, a_{25} : r_{1013}, a_{34} : 0, a_{35} : r_{1014}, a_{45} : r_{1015}\\right\\}, \\left\\{d_{1} : r_{1016}, d_{2} : r_{1017}, d_{3} : \\frac{r_{1017}}{x_{23}}, d_{4} : \\frac{r_{1016}}{x_{14}}, d_{5} : \\frac{r_{1017}}{x_{23} x_{35}}, a_{12} : \\frac{r_{1017} x_{13} - r_{1016} x_{23}}{x_{23}}, a_{13} : r_{1018}, a_{14} : r_{1019}, a_{15} : r_{1020}, a_{23} : r_{1021}, a_{24} : r_{1022}, a_{25} : r_{1023}, a_{34} : 0, a_{35} : \\frac{{\\left(r_{1017} + r_{1021}\\right)} x_{23} x_{35} - r_{1017} x_{25}}{x_{23}^{2} x_{35}}, a_{45} : -\\frac{r_{1017} x_{15} x_{23} - r_{1017} x_{13} x_{25} + {\\left(r_{1021} x_{13} x_{23} - r_{1018} x_{23}^{2}\\right)} x_{35}}{x_{14} x_{23}^{2} x_{35}}\\right\\}\\right]</script></html>"
      ],
      "text/latex": [
       "$$\\newcommand{\\Bold}[1]{\\mathbf{#1}}\\left[\\left\\{d_{1} : r_{1005}, d_{2} : 0, d_{3} : 0, d_{4} : r_{1006}, d_{5} : 0, a_{12} : r_{1007}, a_{13} : r_{1008}, a_{14} : r_{1009}, a_{15} : r_{1010}, a_{23} : r_{1011}, a_{24} : r_{1012}, a_{25} : r_{1013}, a_{34} : 0, a_{35} : r_{1014}, a_{45} : r_{1015}\\right\\}, \\left\\{d_{1} : r_{1016}, d_{2} : r_{1017}, d_{3} : \\frac{r_{1017}}{x_{23}}, d_{4} : \\frac{r_{1016}}{x_{14}}, d_{5} : \\frac{r_{1017}}{x_{23} x_{35}}, a_{12} : \\frac{r_{1017} x_{13} - r_{1016} x_{23}}{x_{23}}, a_{13} : r_{1018}, a_{14} : r_{1019}, a_{15} : r_{1020}, a_{23} : r_{1021}, a_{24} : r_{1022}, a_{25} : r_{1023}, a_{34} : 0, a_{35} : \\frac{{\\left(r_{1017} + r_{1021}\\right)} x_{23} x_{35} - r_{1017} x_{25}}{x_{23}^{2} x_{35}}, a_{45} : -\\frac{r_{1017} x_{15} x_{23} - r_{1017} x_{13} x_{25} + {\\left(r_{1021} x_{13} x_{23} - r_{1018} x_{23}^{2}\\right)} x_{35}}{x_{14} x_{23}^{2} x_{35}}\\right\\}\\right]$$"
      ],
      "text/plain": [
       "[{d1: r1005,\n",
       "  d2: 0,\n",
       "  d3: 0,\n",
       "  d4: r1006,\n",
       "  d5: 0,\n",
       "  a12: r1007,\n",
       "  a13: r1008,\n",
       "  a14: r1009,\n",
       "  a15: r1010,\n",
       "  a23: r1011,\n",
       "  a24: r1012,\n",
       "  a25: r1013,\n",
       "  a34: 0,\n",
       "  a35: r1014,\n",
       "  a45: r1015},\n",
       " {d1: r1016,\n",
       "  d2: r1017,\n",
       "  d3: r1017/x23,\n",
       "  d4: r1016/x14,\n",
       "  d5: r1017/(x23*x35),\n",
       "  a12: (r1017*x13 - r1016*x23)/x23,\n",
       "  a13: r1018,\n",
       "  a14: r1019,\n",
       "  a15: r1020,\n",
       "  a23: r1021,\n",
       "  a24: r1022,\n",
       "  a25: r1023,\n",
       "  a34: 0,\n",
       "  a35: ((r1017 + r1021)*x23*x35 - r1017*x25)/(x23^2*x35),\n",
       "  a45: -(r1017*x15*x23 - r1017*x13*x25 + (r1021*x13*x23 - r1018*x23^2)*x35)/(x14*x23^2*x35)}]"
      ]
     },
     "metadata": {},
     "output_type": "display_data"
    }
   ],
   "source": [
    "#x3\n",
    "reset()\n",
    "\n",
    "var('x12,x13,x14,x15,x23,x24,x25,x34,x35,x45')\n",
    "var('d1,d2,d3,d4,d5')\n",
    "var('a12,a13,a14,a15,a23,a24,a25,a34,a35,a45')\n",
    "\n",
    "load_attach_path('C:\\\\Users\\\\julia\\\\Documents\\\\unb\\\\doutorado\\\\pensar\\\\codigo_sage_v2\\\\maquina\\\\x3')\n",
    "load('out_#101111.sage')\n",
    "\n",
    "m=matrix(QQ, [[0, 0, 1, 1, 1],\n",
    "              [0, 0, 1, 0, 1],\n",
    "              [0, 0, 0, 0, 1],\n",
    "              [0, 0, 0, 0, 0],\n",
    "              [0, 0, 0, 0, 0]])\n",
    "        \n",
    "#entry of matrix: (i,j) line i collum j, means (i-1,j-1)\n",
    "sol=solve([ eq1==m[0,2],\teq2==m[0,3],\teq3==m[0,4],\teq4==m[1,2],\t\n",
    "                                            eq5==m[1,3],    eq6==m[1,4],\n",
    "                                                            eq7==m[2,4]],d1,d2,d3,d4,d5,a12,a13,a14,a15,a23,a24,a25,a34,a35,a45, solution_dict=True)\n",
    "\n",
    "show(m)\n",
    "show(sol)\n",
    "#latex(sol)"
   ]
  },
  {
   "cell_type": "code",
   "execution_count": 49,
   "metadata": {},
   "outputs": [
    {
     "data": {
      "text/html": [
       "<html><script type=\"math/tex; mode=display\">\\newcommand{\\Bold}[1]{\\mathbf{#1}}\\left(\\begin{array}{rrrrr}\n",
       "0 & 0 & 0 & 0 & 0 \\\\\n",
       "0 & 0 & 1 & 1 & 0 \\\\\n",
       "0 & 0 & 0 & 0 & 1 \\\\\n",
       "0 & 0 & 0 & 0 & 0 \\\\\n",
       "0 & 0 & 0 & 0 & 0\n",
       "\\end{array}\\right)</script></html>"
      ],
      "text/latex": [
       "$$\\newcommand{\\Bold}[1]{\\mathbf{#1}}\\left(\\begin{array}{rrrrr}\n",
       "0 & 0 & 0 & 0 & 0 \\\\\n",
       "0 & 0 & 1 & 1 & 0 \\\\\n",
       "0 & 0 & 0 & 0 & 1 \\\\\n",
       "0 & 0 & 0 & 0 & 0 \\\\\n",
       "0 & 0 & 0 & 0 & 0\n",
       "\\end{array}\\right)$$"
      ],
      "text/plain": [
       "[0 0 0 0 0]\n",
       "[0 0 1 1 0]\n",
       "[0 0 0 0 1]\n",
       "[0 0 0 0 0]\n",
       "[0 0 0 0 0]"
      ]
     },
     "metadata": {},
     "output_type": "display_data"
    },
    {
     "data": {
      "text/html": [
       "<html><script type=\"math/tex; mode=display\">\\newcommand{\\Bold}[1]{\\mathbf{#1}}\\left[\\left\\{d_{1} : r_{1024}, d_{2} : 0, d_{3} : 0, d_{4} : r_{1025}, d_{5} : 0, a_{12} : r_{1026}, a_{13} : r_{1027}, a_{14} : r_{1028}, a_{15} : r_{1029}, a_{23} : r_{1030}, a_{24} : r_{1031}, a_{25} : r_{1032}, a_{34} : -\\frac{r_{1025} x_{24}}{x_{23}}, a_{35} : r_{1033}, a_{45} : r_{1034}\\right\\}, \\left\\{d_{1} : r_{1035}, d_{2} : r_{1036}, d_{3} : \\frac{r_{1036}}{x_{23}}, d_{4} : r_{1037}, d_{5} : \\frac{r_{1036}}{x_{23} x_{35}}, a_{12} : 0, a_{13} : 0, a_{14} : r_{1038}, a_{15} : r_{1039}, a_{23} : r_{1040}, a_{24} : r_{1041}, a_{25} : r_{1042}, a_{34} : -\\frac{r_{1037} x_{24} - r_{1036}}{x_{23}}, a_{35} : r_{1043}, a_{45} : -\\frac{r_{1043} x_{23} - r_{1040}}{x_{24}}\\right\\}\\right]</script></html>"
      ],
      "text/latex": [
       "$$\\newcommand{\\Bold}[1]{\\mathbf{#1}}\\left[\\left\\{d_{1} : r_{1024}, d_{2} : 0, d_{3} : 0, d_{4} : r_{1025}, d_{5} : 0, a_{12} : r_{1026}, a_{13} : r_{1027}, a_{14} : r_{1028}, a_{15} : r_{1029}, a_{23} : r_{1030}, a_{24} : r_{1031}, a_{25} : r_{1032}, a_{34} : -\\frac{r_{1025} x_{24}}{x_{23}}, a_{35} : r_{1033}, a_{45} : r_{1034}\\right\\}, \\left\\{d_{1} : r_{1035}, d_{2} : r_{1036}, d_{3} : \\frac{r_{1036}}{x_{23}}, d_{4} : r_{1037}, d_{5} : \\frac{r_{1036}}{x_{23} x_{35}}, a_{12} : 0, a_{13} : 0, a_{14} : r_{1038}, a_{15} : r_{1039}, a_{23} : r_{1040}, a_{24} : r_{1041}, a_{25} : r_{1042}, a_{34} : -\\frac{r_{1037} x_{24} - r_{1036}}{x_{23}}, a_{35} : r_{1043}, a_{45} : -\\frac{r_{1043} x_{23} - r_{1040}}{x_{24}}\\right\\}\\right]$$"
      ],
      "text/plain": [
       "[{d1: r1024,\n",
       "  d2: 0,\n",
       "  d3: 0,\n",
       "  d4: r1025,\n",
       "  d5: 0,\n",
       "  a12: r1026,\n",
       "  a13: r1027,\n",
       "  a14: r1028,\n",
       "  a15: r1029,\n",
       "  a23: r1030,\n",
       "  a24: r1031,\n",
       "  a25: r1032,\n",
       "  a34: -r1025*x24/x23,\n",
       "  a35: r1033,\n",
       "  a45: r1034},\n",
       " {d1: r1035,\n",
       "  d2: r1036,\n",
       "  d3: r1036/x23,\n",
       "  d4: r1037,\n",
       "  d5: r1036/(x23*x35),\n",
       "  a12: 0,\n",
       "  a13: 0,\n",
       "  a14: r1038,\n",
       "  a15: r1039,\n",
       "  a23: r1040,\n",
       "  a24: r1041,\n",
       "  a25: r1042,\n",
       "  a34: -(r1037*x24 - r1036)/x23,\n",
       "  a35: r1043,\n",
       "  a45: -(r1043*x23 - r1040)/x24}]"
      ]
     },
     "metadata": {},
     "output_type": "display_data"
    }
   ],
   "source": [
    "#x3\n",
    "reset()\n",
    "\n",
    "var('x12,x13,x14,x15,x23,x24,x25,x34,x35,x45')\n",
    "var('d1,d2,d3,d4,d5')\n",
    "var('a12,a13,a14,a15,a23,a24,a25,a34,a35,a45')\n",
    "\n",
    "load_attach_path('C:\\\\Users\\\\julia\\\\Documents\\\\unb\\\\doutorado\\\\pensar\\\\codigo_sage_v2\\\\maquina\\\\x3')\n",
    "load('out_#110000.sage')\n",
    "\n",
    "m=matrix(QQ, [[0, 0, 0, 0, 0],\n",
    "              [0, 0, 1, 1, 0],\n",
    "              [0, 0, 0, 0, 1],\n",
    "              [0, 0, 0, 0, 0],\n",
    "              [0, 0, 0, 0, 0]])\n",
    "        \n",
    "#entry of matrix: (i,j) line i collum j, means (i-1,j-1)\n",
    "sol=solve([ eq1==m[0,2],\teq2==m[0,3],\teq3==m[0,4],\teq4==m[1,2],\t\n",
    "                                            eq5==m[1,3],    eq6==m[1,4],\n",
    "                                                            eq7==m[2,4]],d1,d2,d3,d4,d5,a12,a13,a14,a15,a23,a24,a25,a34,a35,a45, solution_dict=True)\n",
    "\n",
    "show(m)\n",
    "show(sol)\n",
    "#latex(sol)"
   ]
  },
  {
   "cell_type": "code",
   "execution_count": 50,
   "metadata": {},
   "outputs": [
    {
     "data": {
      "text/html": [
       "<html><script type=\"math/tex; mode=display\">\\newcommand{\\Bold}[1]{\\mathbf{#1}}\\left(\\begin{array}{rrrrr}\n",
       "0 & 0 & 0 & 0 & 1 \\\\\n",
       "0 & 0 & 1 & 1 & 1 \\\\\n",
       "0 & 0 & 0 & 0 & 1 \\\\\n",
       "0 & 0 & 0 & 0 & 0 \\\\\n",
       "0 & 0 & 0 & 0 & 0\n",
       "\\end{array}\\right)</script></html>"
      ],
      "text/latex": [
       "$$\\newcommand{\\Bold}[1]{\\mathbf{#1}}\\left(\\begin{array}{rrrrr}\n",
       "0 & 0 & 0 & 0 & 1 \\\\\n",
       "0 & 0 & 1 & 1 & 1 \\\\\n",
       "0 & 0 & 0 & 0 & 1 \\\\\n",
       "0 & 0 & 0 & 0 & 0 \\\\\n",
       "0 & 0 & 0 & 0 & 0\n",
       "\\end{array}\\right)$$"
      ],
      "text/plain": [
       "[0 0 0 0 1]\n",
       "[0 0 1 1 1]\n",
       "[0 0 0 0 1]\n",
       "[0 0 0 0 0]\n",
       "[0 0 0 0 0]"
      ]
     },
     "metadata": {},
     "output_type": "display_data"
    },
    {
     "data": {
      "text/html": [
       "<html><script type=\"math/tex; mode=display\">\\newcommand{\\Bold}[1]{\\mathbf{#1}}\\left[\\left\\{d_{1} : r_{1044}, d_{2} : 0, d_{3} : 0, d_{4} : r_{1045}, d_{5} : 0, a_{12} : r_{1046}, a_{13} : r_{1047}, a_{14} : r_{1048}, a_{15} : r_{1049}, a_{23} : r_{1050}, a_{24} : r_{1051}, a_{25} : r_{1052}, a_{34} : -\\frac{r_{1045} x_{24}}{x_{23}}, a_{35} : r_{1053}, a_{45} : r_{1054}\\right\\}, \\left\\{d_{1} : r_{1055}, d_{2} : r_{1056}, d_{3} : \\frac{r_{1056}}{x_{23}}, d_{4} : r_{1057}, d_{5} : \\frac{r_{1056}}{x_{23} x_{35}}, a_{12} : 0, a_{13} : -\\frac{r_{1055} x_{23} x_{35} - r_{1056} x_{15}}{x_{23} x_{35}}, a_{14} : r_{1058}, a_{15} : r_{1059}, a_{23} : r_{1060}, a_{24} : r_{1061}, a_{25} : r_{1062}, a_{34} : -\\frac{r_{1057} x_{24} - r_{1056}}{x_{23}}, a_{35} : r_{1063}, a_{45} : -\\frac{r_{1063} x_{23} - r_{1056} - r_{1060}}{x_{24}}\\right\\}\\right]</script></html>"
      ],
      "text/latex": [
       "$$\\newcommand{\\Bold}[1]{\\mathbf{#1}}\\left[\\left\\{d_{1} : r_{1044}, d_{2} : 0, d_{3} : 0, d_{4} : r_{1045}, d_{5} : 0, a_{12} : r_{1046}, a_{13} : r_{1047}, a_{14} : r_{1048}, a_{15} : r_{1049}, a_{23} : r_{1050}, a_{24} : r_{1051}, a_{25} : r_{1052}, a_{34} : -\\frac{r_{1045} x_{24}}{x_{23}}, a_{35} : r_{1053}, a_{45} : r_{1054}\\right\\}, \\left\\{d_{1} : r_{1055}, d_{2} : r_{1056}, d_{3} : \\frac{r_{1056}}{x_{23}}, d_{4} : r_{1057}, d_{5} : \\frac{r_{1056}}{x_{23} x_{35}}, a_{12} : 0, a_{13} : -\\frac{r_{1055} x_{23} x_{35} - r_{1056} x_{15}}{x_{23} x_{35}}, a_{14} : r_{1058}, a_{15} : r_{1059}, a_{23} : r_{1060}, a_{24} : r_{1061}, a_{25} : r_{1062}, a_{34} : -\\frac{r_{1057} x_{24} - r_{1056}}{x_{23}}, a_{35} : r_{1063}, a_{45} : -\\frac{r_{1063} x_{23} - r_{1056} - r_{1060}}{x_{24}}\\right\\}\\right]$$"
      ],
      "text/plain": [
       "[{d1: r1044,\n",
       "  d2: 0,\n",
       "  d3: 0,\n",
       "  d4: r1045,\n",
       "  d5: 0,\n",
       "  a12: r1046,\n",
       "  a13: r1047,\n",
       "  a14: r1048,\n",
       "  a15: r1049,\n",
       "  a23: r1050,\n",
       "  a24: r1051,\n",
       "  a25: r1052,\n",
       "  a34: -r1045*x24/x23,\n",
       "  a35: r1053,\n",
       "  a45: r1054},\n",
       " {d1: r1055,\n",
       "  d2: r1056,\n",
       "  d3: r1056/x23,\n",
       "  d4: r1057,\n",
       "  d5: r1056/(x23*x35),\n",
       "  a12: 0,\n",
       "  a13: -(r1055*x23*x35 - r1056*x15)/(x23*x35),\n",
       "  a14: r1058,\n",
       "  a15: r1059,\n",
       "  a23: r1060,\n",
       "  a24: r1061,\n",
       "  a25: r1062,\n",
       "  a34: -(r1057*x24 - r1056)/x23,\n",
       "  a35: r1063,\n",
       "  a45: -(r1063*x23 - r1056 - r1060)/x24}]"
      ]
     },
     "metadata": {},
     "output_type": "display_data"
    }
   ],
   "source": [
    "#x3\n",
    "reset()\n",
    "\n",
    "var('x12,x13,x14,x15,x23,x24,x25,x34,x35,x45')\n",
    "var('d1,d2,d3,d4,d5')\n",
    "var('a12,a13,a14,a15,a23,a24,a25,a34,a35,a45')\n",
    "\n",
    "load_attach_path('C:\\\\Users\\\\julia\\\\Documents\\\\unb\\\\doutorado\\\\pensar\\\\codigo_sage_v2\\\\maquina\\\\x3')\n",
    "load('out_#110001.sage')\n",
    "\n",
    "m=matrix(QQ, [[0, 0, 0, 0, 1],\n",
    "              [0, 0, 1, 1, 1],\n",
    "              [0, 0, 0, 0, 1],\n",
    "              [0, 0, 0, 0, 0],\n",
    "              [0, 0, 0, 0, 0]])\n",
    "        \n",
    "#entry of matrix: (i,j) line i collum j, means (i-1,j-1)\n",
    "sol=solve([ eq1==m[0,2],\teq2==m[0,3],\teq3==m[0,4],\teq4==m[1,2],\t\n",
    "                                            eq5==m[1,3],    eq6==m[1,4],\n",
    "                                                            eq7==m[2,4]],d1,d2,d3,d4,d5,a12,a13,a14,a15,a23,a24,a25,a34,a35,a45, solution_dict=True)\n",
    "\n",
    "show(m)\n",
    "show(sol)\n",
    "#latex(sol)"
   ]
  },
  {
   "cell_type": "code",
   "execution_count": 51,
   "metadata": {},
   "outputs": [
    {
     "data": {
      "text/html": [
       "<html><script type=\"math/tex; mode=display\">\\newcommand{\\Bold}[1]{\\mathbf{#1}}\\left(\\begin{array}{rrrrr}\n",
       "0 & 0 & 0 & 1 & 0 \\\\\n",
       "0 & 0 & 1 & 1 & 0 \\\\\n",
       "0 & 0 & 0 & 0 & 1 \\\\\n",
       "0 & 0 & 0 & 0 & 0 \\\\\n",
       "0 & 0 & 0 & 0 & 0\n",
       "\\end{array}\\right)</script></html>"
      ],
      "text/latex": [
       "$$\\newcommand{\\Bold}[1]{\\mathbf{#1}}\\left(\\begin{array}{rrrrr}\n",
       "0 & 0 & 0 & 1 & 0 \\\\\n",
       "0 & 0 & 1 & 1 & 0 \\\\\n",
       "0 & 0 & 0 & 0 & 1 \\\\\n",
       "0 & 0 & 0 & 0 & 0 \\\\\n",
       "0 & 0 & 0 & 0 & 0\n",
       "\\end{array}\\right)$$"
      ],
      "text/plain": [
       "[0 0 0 1 0]\n",
       "[0 0 1 1 0]\n",
       "[0 0 0 0 1]\n",
       "[0 0 0 0 0]\n",
       "[0 0 0 0 0]"
      ]
     },
     "metadata": {},
     "output_type": "display_data"
    },
    {
     "data": {
      "text/html": [
       "<html><script type=\"math/tex; mode=display\">\\newcommand{\\Bold}[1]{\\mathbf{#1}}\\left[\\left\\{d_{1} : r_{1064}, d_{2} : 0, d_{3} : 0, d_{4} : r_{1065}, d_{5} : 0, a_{12} : r_{1066}, a_{13} : r_{1067}, a_{14} : r_{1068}, a_{15} : r_{1069}, a_{23} : r_{1070}, a_{24} : r_{1071}, a_{25} : r_{1072}, a_{34} : -\\frac{r_{1065} x_{24}}{x_{23}}, a_{35} : r_{1073}, a_{45} : r_{1074}\\right\\}, \\left\\{d_{1} : r_{1075}, d_{2} : 0, d_{3} : 0, d_{4} : \\frac{r_{1075}}{x_{14}}, d_{5} : 0, a_{12} : 0, a_{13} : r_{1076}, a_{14} : r_{1077}, a_{15} : r_{1078}, a_{23} : r_{1079}, a_{24} : r_{1080}, a_{25} : r_{1081}, a_{34} : -\\frac{r_{1075} x_{24}}{x_{14} x_{23}}, a_{35} : r_{1082}, a_{45} : r_{1083}\\right\\}, \\left\\{d_{1} : r_{1084}, d_{2} : r_{1085}, d_{3} : \\frac{r_{1085}}{x_{23}}, d_{4} : \\frac{r_{1084}}{x_{14}}, d_{5} : \\frac{r_{1085}}{x_{23} x_{35}}, a_{12} : 0, a_{13} : r_{1086}, a_{14} : r_{1087}, a_{15} : r_{1088}, a_{23} : r_{1089}, a_{24} : r_{1090}, a_{25} : r_{1091}, a_{34} : \\frac{r_{1085} x_{14} - r_{1084} x_{24}}{x_{14} x_{23}}, a_{35} : \\frac{r_{1089} x_{14} - r_{1086} x_{24}}{x_{14} x_{23}}, a_{45} : \\frac{r_{1086}}{x_{14}}\\right\\}\\right]</script></html>"
      ],
      "text/latex": [
       "$$\\newcommand{\\Bold}[1]{\\mathbf{#1}}\\left[\\left\\{d_{1} : r_{1064}, d_{2} : 0, d_{3} : 0, d_{4} : r_{1065}, d_{5} : 0, a_{12} : r_{1066}, a_{13} : r_{1067}, a_{14} : r_{1068}, a_{15} : r_{1069}, a_{23} : r_{1070}, a_{24} : r_{1071}, a_{25} : r_{1072}, a_{34} : -\\frac{r_{1065} x_{24}}{x_{23}}, a_{35} : r_{1073}, a_{45} : r_{1074}\\right\\}, \\left\\{d_{1} : r_{1075}, d_{2} : 0, d_{3} : 0, d_{4} : \\frac{r_{1075}}{x_{14}}, d_{5} : 0, a_{12} : 0, a_{13} : r_{1076}, a_{14} : r_{1077}, a_{15} : r_{1078}, a_{23} : r_{1079}, a_{24} : r_{1080}, a_{25} : r_{1081}, a_{34} : -\\frac{r_{1075} x_{24}}{x_{14} x_{23}}, a_{35} : r_{1082}, a_{45} : r_{1083}\\right\\}, \\left\\{d_{1} : r_{1084}, d_{2} : r_{1085}, d_{3} : \\frac{r_{1085}}{x_{23}}, d_{4} : \\frac{r_{1084}}{x_{14}}, d_{5} : \\frac{r_{1085}}{x_{23} x_{35}}, a_{12} : 0, a_{13} : r_{1086}, a_{14} : r_{1087}, a_{15} : r_{1088}, a_{23} : r_{1089}, a_{24} : r_{1090}, a_{25} : r_{1091}, a_{34} : \\frac{r_{1085} x_{14} - r_{1084} x_{24}}{x_{14} x_{23}}, a_{35} : \\frac{r_{1089} x_{14} - r_{1086} x_{24}}{x_{14} x_{23}}, a_{45} : \\frac{r_{1086}}{x_{14}}\\right\\}\\right]$$"
      ],
      "text/plain": [
       "[{d1: r1064,\n",
       "  d2: 0,\n",
       "  d3: 0,\n",
       "  d4: r1065,\n",
       "  d5: 0,\n",
       "  a12: r1066,\n",
       "  a13: r1067,\n",
       "  a14: r1068,\n",
       "  a15: r1069,\n",
       "  a23: r1070,\n",
       "  a24: r1071,\n",
       "  a25: r1072,\n",
       "  a34: -r1065*x24/x23,\n",
       "  a35: r1073,\n",
       "  a45: r1074},\n",
       " {d1: r1075,\n",
       "  d2: 0,\n",
       "  d3: 0,\n",
       "  d4: r1075/x14,\n",
       "  d5: 0,\n",
       "  a12: 0,\n",
       "  a13: r1076,\n",
       "  a14: r1077,\n",
       "  a15: r1078,\n",
       "  a23: r1079,\n",
       "  a24: r1080,\n",
       "  a25: r1081,\n",
       "  a34: -r1075*x24/(x14*x23),\n",
       "  a35: r1082,\n",
       "  a45: r1083},\n",
       " {d1: r1084,\n",
       "  d2: r1085,\n",
       "  d3: r1085/x23,\n",
       "  d4: r1084/x14,\n",
       "  d5: r1085/(x23*x35),\n",
       "  a12: 0,\n",
       "  a13: r1086,\n",
       "  a14: r1087,\n",
       "  a15: r1088,\n",
       "  a23: r1089,\n",
       "  a24: r1090,\n",
       "  a25: r1091,\n",
       "  a34: (r1085*x14 - r1084*x24)/(x14*x23),\n",
       "  a35: (r1089*x14 - r1086*x24)/(x14*x23),\n",
       "  a45: r1086/x14}]"
      ]
     },
     "metadata": {},
     "output_type": "display_data"
    }
   ],
   "source": [
    "#x3\n",
    "reset()\n",
    "\n",
    "var('x12,x13,x14,x15,x23,x24,x25,x34,x35,x45')\n",
    "var('d1,d2,d3,d4,d5')\n",
    "var('a12,a13,a14,a15,a23,a24,a25,a34,a35,a45')\n",
    "\n",
    "load_attach_path('C:\\\\Users\\\\julia\\\\Documents\\\\unb\\\\doutorado\\\\pensar\\\\codigo_sage_v2\\\\maquina\\\\x3')\n",
    "load('out_#110010.sage')\n",
    "\n",
    "m=matrix(QQ, [[0, 0, 0, 1, 0],\n",
    "              [0, 0, 1, 1, 0],\n",
    "              [0, 0, 0, 0, 1],\n",
    "              [0, 0, 0, 0, 0],\n",
    "              [0, 0, 0, 0, 0]])\n",
    "        \n",
    "#entry of matrix: (i,j) line i collum j, means (i-1,j-1)\n",
    "sol=solve([ eq1==m[0,2],\teq2==m[0,3],\teq3==m[0,4],\teq4==m[1,2],\t\n",
    "                                            eq5==m[1,3],    eq6==m[1,4],\n",
    "                                                            eq7==m[2,4]],d1,d2,d3,d4,d5,a12,a13,a14,a15,a23,a24,a25,a34,a35,a45, solution_dict=True)\n",
    "\n",
    "show(m)\n",
    "show(sol)\n",
    "#latex(sol)"
   ]
  },
  {
   "cell_type": "code",
   "execution_count": 52,
   "metadata": {},
   "outputs": [
    {
     "data": {
      "text/html": [
       "<html><script type=\"math/tex; mode=display\">\\newcommand{\\Bold}[1]{\\mathbf{#1}}\\left(\\begin{array}{rrrrr}\n",
       "0 & 0 & 0 & 1 & 1 \\\\\n",
       "0 & 0 & 1 & 1 & 0 \\\\\n",
       "0 & 0 & 0 & 0 & 1 \\\\\n",
       "0 & 0 & 0 & 0 & 0 \\\\\n",
       "0 & 0 & 0 & 0 & 0\n",
       "\\end{array}\\right)</script></html>"
      ],
      "text/latex": [
       "$$\\newcommand{\\Bold}[1]{\\mathbf{#1}}\\left(\\begin{array}{rrrrr}\n",
       "0 & 0 & 0 & 1 & 1 \\\\\n",
       "0 & 0 & 1 & 1 & 0 \\\\\n",
       "0 & 0 & 0 & 0 & 1 \\\\\n",
       "0 & 0 & 0 & 0 & 0 \\\\\n",
       "0 & 0 & 0 & 0 & 0\n",
       "\\end{array}\\right)$$"
      ],
      "text/plain": [
       "[0 0 0 1 1]\n",
       "[0 0 1 1 0]\n",
       "[0 0 0 0 1]\n",
       "[0 0 0 0 0]\n",
       "[0 0 0 0 0]"
      ]
     },
     "metadata": {},
     "output_type": "display_data"
    },
    {
     "data": {
      "text/html": [
       "<html><script type=\"math/tex; mode=display\">\\newcommand{\\Bold}[1]{\\mathbf{#1}}\\left[\\left\\{d_{1} : r_{1092}, d_{2} : 0, d_{3} : 0, d_{4} : r_{1093}, d_{5} : 0, a_{12} : r_{1094}, a_{13} : r_{1095}, a_{14} : r_{1096}, a_{15} : r_{1097}, a_{23} : r_{1098}, a_{24} : r_{1099}, a_{25} : r_{1100}, a_{34} : -\\frac{r_{1093} x_{24}}{x_{23}}, a_{35} : r_{1101}, a_{45} : r_{1102}\\right\\}, \\left\\{d_{1} : r_{1103}, d_{2} : 0, d_{3} : 0, d_{4} : \\frac{r_{1103}}{x_{14}}, d_{5} : 0, a_{12} : 0, a_{13} : r_{1104}, a_{14} : r_{1105}, a_{15} : r_{1106}, a_{23} : r_{1107}, a_{24} : r_{1108}, a_{25} : r_{1109}, a_{34} : -\\frac{r_{1103} x_{24}}{x_{14} x_{23}}, a_{35} : r_{1110}, a_{45} : r_{1111}\\right\\}, \\left\\{d_{1} : r_{1112}, d_{2} : r_{1113}, d_{3} : \\frac{r_{1113}}{x_{23}}, d_{4} : \\frac{r_{1112}}{x_{14}}, d_{5} : \\frac{r_{1113}}{x_{23} x_{35}}, a_{12} : 0, a_{13} : r_{1114}, a_{14} : r_{1115}, a_{15} : r_{1116}, a_{23} : r_{1117}, a_{24} : r_{1118}, a_{25} : r_{1119}, a_{34} : \\frac{r_{1113} x_{14} - r_{1112} x_{24}}{x_{14} x_{23}}, a_{35} : \\frac{r_{1113} x_{15} x_{24} + {\\left(r_{1117} x_{14} x_{23} - {\\left(r_{1112} + r_{1114}\\right)} x_{23} x_{24}\\right)} x_{35}}{x_{14} x_{23}^{2} x_{35}}, a_{45} : \\frac{{\\left(r_{1112} + r_{1114}\\right)} x_{23} x_{35} - r_{1113} x_{15}}{x_{14} x_{23} x_{35}}\\right\\}\\right]</script></html>"
      ],
      "text/latex": [
       "$$\\newcommand{\\Bold}[1]{\\mathbf{#1}}\\left[\\left\\{d_{1} : r_{1092}, d_{2} : 0, d_{3} : 0, d_{4} : r_{1093}, d_{5} : 0, a_{12} : r_{1094}, a_{13} : r_{1095}, a_{14} : r_{1096}, a_{15} : r_{1097}, a_{23} : r_{1098}, a_{24} : r_{1099}, a_{25} : r_{1100}, a_{34} : -\\frac{r_{1093} x_{24}}{x_{23}}, a_{35} : r_{1101}, a_{45} : r_{1102}\\right\\}, \\left\\{d_{1} : r_{1103}, d_{2} : 0, d_{3} : 0, d_{4} : \\frac{r_{1103}}{x_{14}}, d_{5} : 0, a_{12} : 0, a_{13} : r_{1104}, a_{14} : r_{1105}, a_{15} : r_{1106}, a_{23} : r_{1107}, a_{24} : r_{1108}, a_{25} : r_{1109}, a_{34} : -\\frac{r_{1103} x_{24}}{x_{14} x_{23}}, a_{35} : r_{1110}, a_{45} : r_{1111}\\right\\}, \\left\\{d_{1} : r_{1112}, d_{2} : r_{1113}, d_{3} : \\frac{r_{1113}}{x_{23}}, d_{4} : \\frac{r_{1112}}{x_{14}}, d_{5} : \\frac{r_{1113}}{x_{23} x_{35}}, a_{12} : 0, a_{13} : r_{1114}, a_{14} : r_{1115}, a_{15} : r_{1116}, a_{23} : r_{1117}, a_{24} : r_{1118}, a_{25} : r_{1119}, a_{34} : \\frac{r_{1113} x_{14} - r_{1112} x_{24}}{x_{14} x_{23}}, a_{35} : \\frac{r_{1113} x_{15} x_{24} + {\\left(r_{1117} x_{14} x_{23} - {\\left(r_{1112} + r_{1114}\\right)} x_{23} x_{24}\\right)} x_{35}}{x_{14} x_{23}^{2} x_{35}}, a_{45} : \\frac{{\\left(r_{1112} + r_{1114}\\right)} x_{23} x_{35} - r_{1113} x_{15}}{x_{14} x_{23} x_{35}}\\right\\}\\right]$$"
      ],
      "text/plain": [
       "[{d1: r1092,\n",
       "  d2: 0,\n",
       "  d3: 0,\n",
       "  d4: r1093,\n",
       "  d5: 0,\n",
       "  a12: r1094,\n",
       "  a13: r1095,\n",
       "  a14: r1096,\n",
       "  a15: r1097,\n",
       "  a23: r1098,\n",
       "  a24: r1099,\n",
       "  a25: r1100,\n",
       "  a34: -r1093*x24/x23,\n",
       "  a35: r1101,\n",
       "  a45: r1102},\n",
       " {d1: r1103,\n",
       "  d2: 0,\n",
       "  d3: 0,\n",
       "  d4: r1103/x14,\n",
       "  d5: 0,\n",
       "  a12: 0,\n",
       "  a13: r1104,\n",
       "  a14: r1105,\n",
       "  a15: r1106,\n",
       "  a23: r1107,\n",
       "  a24: r1108,\n",
       "  a25: r1109,\n",
       "  a34: -r1103*x24/(x14*x23),\n",
       "  a35: r1110,\n",
       "  a45: r1111},\n",
       " {d1: r1112,\n",
       "  d2: r1113,\n",
       "  d3: r1113/x23,\n",
       "  d4: r1112/x14,\n",
       "  d5: r1113/(x23*x35),\n",
       "  a12: 0,\n",
       "  a13: r1114,\n",
       "  a14: r1115,\n",
       "  a15: r1116,\n",
       "  a23: r1117,\n",
       "  a24: r1118,\n",
       "  a25: r1119,\n",
       "  a34: (r1113*x14 - r1112*x24)/(x14*x23),\n",
       "  a35: (r1113*x15*x24 + (r1117*x14*x23 - (r1112 + r1114)*x23*x24)*x35)/(x14*x23^2*x35),\n",
       "  a45: ((r1112 + r1114)*x23*x35 - r1113*x15)/(x14*x23*x35)}]"
      ]
     },
     "metadata": {},
     "output_type": "display_data"
    }
   ],
   "source": [
    "#x3\n",
    "reset()\n",
    "\n",
    "var('x12,x13,x14,x15,x23,x24,x25,x34,x35,x45')\n",
    "var('d1,d2,d3,d4,d5')\n",
    "var('a12,a13,a14,a15,a23,a24,a25,a34,a35,a45')\n",
    "\n",
    "load_attach_path('C:\\\\Users\\\\julia\\\\Documents\\\\unb\\\\doutorado\\\\pensar\\\\codigo_sage_v2\\\\maquina\\\\x3')\n",
    "load('out_#110011.sage')\n",
    "\n",
    "m=matrix(QQ, [[0, 0, 0, 1, 1],\n",
    "              [0, 0, 1, 1, 0],\n",
    "              [0, 0, 0, 0, 1],\n",
    "              [0, 0, 0, 0, 0],\n",
    "              [0, 0, 0, 0, 0]])\n",
    "        \n",
    "#entry of matrix: (i,j) line i collum j, means (i-1,j-1)\n",
    "sol=solve([ eq1==m[0,2],\teq2==m[0,3],\teq3==m[0,4],\teq4==m[1,2],\t\n",
    "                                            eq5==m[1,3],    eq6==m[1,4],\n",
    "                                                            eq7==m[2,4]],d1,d2,d3,d4,d5,a12,a13,a14,a15,a23,a24,a25,a34,a35,a45, solution_dict=True)\n",
    "\n",
    "show(m)\n",
    "show(sol)\n",
    "#latex(sol)"
   ]
  },
  {
   "cell_type": "code",
   "execution_count": 53,
   "metadata": {},
   "outputs": [
    {
     "data": {
      "text/html": [
       "<html><script type=\"math/tex; mode=display\">\\newcommand{\\Bold}[1]{\\mathbf{#1}}\\left(\\begin{array}{rrrrr}\n",
       "0 & 0 & 1 & 0 & 0 \\\\\n",
       "0 & 0 & 1 & 1 & 0 \\\\\n",
       "0 & 0 & 0 & 0 & 1 \\\\\n",
       "0 & 0 & 0 & 0 & 0 \\\\\n",
       "0 & 0 & 0 & 0 & 0\n",
       "\\end{array}\\right)</script></html>"
      ],
      "text/latex": [
       "$$\\newcommand{\\Bold}[1]{\\mathbf{#1}}\\left(\\begin{array}{rrrrr}\n",
       "0 & 0 & 1 & 0 & 0 \\\\\n",
       "0 & 0 & 1 & 1 & 0 \\\\\n",
       "0 & 0 & 0 & 0 & 1 \\\\\n",
       "0 & 0 & 0 & 0 & 0 \\\\\n",
       "0 & 0 & 0 & 0 & 0\n",
       "\\end{array}\\right)$$"
      ],
      "text/plain": [
       "[0 0 1 0 0]\n",
       "[0 0 1 1 0]\n",
       "[0 0 0 0 1]\n",
       "[0 0 0 0 0]\n",
       "[0 0 0 0 0]"
      ]
     },
     "metadata": {},
     "output_type": "display_data"
    },
    {
     "data": {
      "text/html": [
       "<html><script type=\"math/tex; mode=display\">\\newcommand{\\Bold}[1]{\\mathbf{#1}}\\left[\\left\\{d_{1} : r_{1120}, d_{2} : 0, d_{3} : 0, d_{4} : r_{1121}, d_{5} : 0, a_{12} : r_{1122}, a_{13} : r_{1123}, a_{14} : r_{1124}, a_{15} : r_{1125}, a_{23} : r_{1126}, a_{24} : r_{1127}, a_{25} : r_{1128}, a_{34} : -\\frac{r_{1121} x_{24}}{x_{23}}, a_{35} : r_{1129}, a_{45} : r_{1130}\\right\\}, \\left\\{d_{1} : r_{1131}, d_{2} : r_{1132}, d_{3} : \\frac{r_{1132}}{x_{23}}, d_{4} : \\frac{r_{1131} x_{23}}{x_{13} x_{24}}, d_{5} : \\frac{r_{1132}}{x_{23} x_{35}}, a_{12} : \\frac{r_{1132} x_{13} - r_{1131} x_{23}}{x_{23}}, a_{13} : r_{1133}, a_{14} : r_{1134}, a_{15} : r_{1135}, a_{23} : r_{1136}, a_{24} : r_{1137}, a_{25} : r_{1138}, a_{34} : \\frac{r_{1132} x_{13} - r_{1131} x_{23}}{x_{13} x_{23}}, a_{35} : \\frac{r_{1133}}{x_{13}}, a_{45} : \\frac{r_{1136} x_{13} - r_{1133} x_{23}}{x_{13} x_{24}}\\right\\}, \\left\\{d_{1} : 0, d_{2} : 0, d_{3} : 0, d_{4} : 0, d_{5} : 0, a_{12} : 0, a_{13} : r_{1139}, a_{14} : r_{1140}, a_{15} : r_{1141}, a_{23} : r_{1142}, a_{24} : r_{1143}, a_{25} : r_{1144}, a_{34} : 0, a_{35} : \\frac{r_{1139}}{x_{13}}, a_{45} : \\frac{r_{1142} x_{13} - r_{1139} x_{23}}{x_{13} x_{24}}\\right\\}\\right]</script></html>"
      ],
      "text/latex": [
       "$$\\newcommand{\\Bold}[1]{\\mathbf{#1}}\\left[\\left\\{d_{1} : r_{1120}, d_{2} : 0, d_{3} : 0, d_{4} : r_{1121}, d_{5} : 0, a_{12} : r_{1122}, a_{13} : r_{1123}, a_{14} : r_{1124}, a_{15} : r_{1125}, a_{23} : r_{1126}, a_{24} : r_{1127}, a_{25} : r_{1128}, a_{34} : -\\frac{r_{1121} x_{24}}{x_{23}}, a_{35} : r_{1129}, a_{45} : r_{1130}\\right\\}, \\left\\{d_{1} : r_{1131}, d_{2} : r_{1132}, d_{3} : \\frac{r_{1132}}{x_{23}}, d_{4} : \\frac{r_{1131} x_{23}}{x_{13} x_{24}}, d_{5} : \\frac{r_{1132}}{x_{23} x_{35}}, a_{12} : \\frac{r_{1132} x_{13} - r_{1131} x_{23}}{x_{23}}, a_{13} : r_{1133}, a_{14} : r_{1134}, a_{15} : r_{1135}, a_{23} : r_{1136}, a_{24} : r_{1137}, a_{25} : r_{1138}, a_{34} : \\frac{r_{1132} x_{13} - r_{1131} x_{23}}{x_{13} x_{23}}, a_{35} : \\frac{r_{1133}}{x_{13}}, a_{45} : \\frac{r_{1136} x_{13} - r_{1133} x_{23}}{x_{13} x_{24}}\\right\\}, \\left\\{d_{1} : 0, d_{2} : 0, d_{3} : 0, d_{4} : 0, d_{5} : 0, a_{12} : 0, a_{13} : r_{1139}, a_{14} : r_{1140}, a_{15} : r_{1141}, a_{23} : r_{1142}, a_{24} : r_{1143}, a_{25} : r_{1144}, a_{34} : 0, a_{35} : \\frac{r_{1139}}{x_{13}}, a_{45} : \\frac{r_{1142} x_{13} - r_{1139} x_{23}}{x_{13} x_{24}}\\right\\}\\right]$$"
      ],
      "text/plain": [
       "[{d1: r1120,\n",
       "  d2: 0,\n",
       "  d3: 0,\n",
       "  d4: r1121,\n",
       "  d5: 0,\n",
       "  a12: r1122,\n",
       "  a13: r1123,\n",
       "  a14: r1124,\n",
       "  a15: r1125,\n",
       "  a23: r1126,\n",
       "  a24: r1127,\n",
       "  a25: r1128,\n",
       "  a34: -r1121*x24/x23,\n",
       "  a35: r1129,\n",
       "  a45: r1130},\n",
       " {d1: r1131,\n",
       "  d2: r1132,\n",
       "  d3: r1132/x23,\n",
       "  d4: r1131*x23/(x13*x24),\n",
       "  d5: r1132/(x23*x35),\n",
       "  a12: (r1132*x13 - r1131*x23)/x23,\n",
       "  a13: r1133,\n",
       "  a14: r1134,\n",
       "  a15: r1135,\n",
       "  a23: r1136,\n",
       "  a24: r1137,\n",
       "  a25: r1138,\n",
       "  a34: (r1132*x13 - r1131*x23)/(x13*x23),\n",
       "  a35: r1133/x13,\n",
       "  a45: (r1136*x13 - r1133*x23)/(x13*x24)},\n",
       " {d1: 0,\n",
       "  d2: 0,\n",
       "  d3: 0,\n",
       "  d4: 0,\n",
       "  d5: 0,\n",
       "  a12: 0,\n",
       "  a13: r1139,\n",
       "  a14: r1140,\n",
       "  a15: r1141,\n",
       "  a23: r1142,\n",
       "  a24: r1143,\n",
       "  a25: r1144,\n",
       "  a34: 0,\n",
       "  a35: r1139/x13,\n",
       "  a45: (r1142*x13 - r1139*x23)/(x13*x24)}]"
      ]
     },
     "metadata": {},
     "output_type": "display_data"
    }
   ],
   "source": [
    "#x3\n",
    "reset()\n",
    "\n",
    "var('x12,x13,x14,x15,x23,x24,x25,x34,x35,x45')\n",
    "var('d1,d2,d3,d4,d5')\n",
    "var('a12,a13,a14,a15,a23,a24,a25,a34,a35,a45')\n",
    "\n",
    "load_attach_path('C:\\\\Users\\\\julia\\\\Documents\\\\unb\\\\doutorado\\\\pensar\\\\codigo_sage_v2\\\\maquina\\\\x3')\n",
    "load('out_#110100.sage')\n",
    "\n",
    "m=matrix(QQ, [[0, 0, 1, 0, 0],\n",
    "              [0, 0, 1, 1, 0],\n",
    "              [0, 0, 0, 0, 1],\n",
    "              [0, 0, 0, 0, 0],\n",
    "              [0, 0, 0, 0, 0]])\n",
    "        \n",
    "#entry of matrix: (i,j) line i collum j, means (i-1,j-1)\n",
    "sol=solve([ eq1==m[0,2],\teq2==m[0,3],\teq3==m[0,4],\teq4==m[1,2],\t\n",
    "                                            eq5==m[1,3],    eq6==m[1,4],\n",
    "                                                            eq7==m[2,4]],d1,d2,d3,d4,d5,a12,a13,a14,a15,a23,a24,a25,a34,a35,a45, solution_dict=True)\n",
    "\n",
    "show(m)\n",
    "show(sol)\n",
    "#latex(sol)"
   ]
  },
  {
   "cell_type": "code",
   "execution_count": 54,
   "metadata": {},
   "outputs": [
    {
     "data": {
      "text/html": [
       "<html><script type=\"math/tex; mode=display\">\\newcommand{\\Bold}[1]{\\mathbf{#1}}\\left(\\begin{array}{rrrrr}\n",
       "0 & 0 & 1 & 0 & 1 \\\\\n",
       "0 & 0 & 1 & 1 & 0 \\\\\n",
       "0 & 0 & 0 & 0 & 1 \\\\\n",
       "0 & 0 & 0 & 0 & 0 \\\\\n",
       "0 & 0 & 0 & 0 & 0\n",
       "\\end{array}\\right)</script></html>"
      ],
      "text/latex": [
       "$$\\newcommand{\\Bold}[1]{\\mathbf{#1}}\\left(\\begin{array}{rrrrr}\n",
       "0 & 0 & 1 & 0 & 1 \\\\\n",
       "0 & 0 & 1 & 1 & 0 \\\\\n",
       "0 & 0 & 0 & 0 & 1 \\\\\n",
       "0 & 0 & 0 & 0 & 0 \\\\\n",
       "0 & 0 & 0 & 0 & 0\n",
       "\\end{array}\\right)$$"
      ],
      "text/plain": [
       "[0 0 1 0 1]\n",
       "[0 0 1 1 0]\n",
       "[0 0 0 0 1]\n",
       "[0 0 0 0 0]\n",
       "[0 0 0 0 0]"
      ]
     },
     "metadata": {},
     "output_type": "display_data"
    },
    {
     "data": {
      "text/html": [
       "<html><script type=\"math/tex; mode=display\">\\newcommand{\\Bold}[1]{\\mathbf{#1}}\\left[\\left\\{d_{1} : r_{1145}, d_{2} : 0, d_{3} : 0, d_{4} : r_{1146}, d_{5} : 0, a_{12} : r_{1147}, a_{13} : r_{1148}, a_{14} : r_{1149}, a_{15} : r_{1150}, a_{23} : r_{1151}, a_{24} : r_{1152}, a_{25} : r_{1153}, a_{34} : -\\frac{r_{1146} x_{24}}{x_{23}}, a_{35} : r_{1154}, a_{45} : r_{1155}\\right\\}, \\left\\{d_{1} : r_{1156}, d_{2} : r_{1157}, d_{3} : \\frac{r_{1157}}{x_{23}}, d_{4} : \\frac{r_{1156} x_{23}}{x_{13} x_{24}}, d_{5} : \\frac{r_{1157}}{x_{23} x_{35}}, a_{12} : \\frac{r_{1157} x_{13} - r_{1156} x_{23}}{x_{23}}, a_{13} : r_{1158}, a_{14} : r_{1159}, a_{15} : r_{1160}, a_{23} : r_{1161}, a_{24} : r_{1162}, a_{25} : r_{1163}, a_{34} : \\frac{r_{1157} x_{13} - r_{1156} x_{23}}{x_{13} x_{23}}, a_{35} : \\frac{{\\left(r_{1156} + r_{1158}\\right)} x_{23} x_{35} - r_{1157} x_{15}}{x_{13} x_{23} x_{35}}, a_{45} : \\frac{r_{1157} x_{15} + {\\left(r_{1161} x_{13} - {\\left(r_{1156} + r_{1158}\\right)} x_{23}\\right)} x_{35}}{x_{13} x_{24} x_{35}}\\right\\}, \\left\\{d_{1} : 0, d_{2} : 0, d_{3} : 0, d_{4} : 0, d_{5} : 0, a_{12} : 0, a_{13} : r_{1164}, a_{14} : r_{1165}, a_{15} : r_{1166}, a_{23} : r_{1167}, a_{24} : r_{1168}, a_{25} : r_{1169}, a_{34} : 0, a_{35} : \\frac{r_{1164}}{x_{13}}, a_{45} : \\frac{r_{1167} x_{13} - r_{1164} x_{23}}{x_{13} x_{24}}\\right\\}\\right]</script></html>"
      ],
      "text/latex": [
       "$$\\newcommand{\\Bold}[1]{\\mathbf{#1}}\\left[\\left\\{d_{1} : r_{1145}, d_{2} : 0, d_{3} : 0, d_{4} : r_{1146}, d_{5} : 0, a_{12} : r_{1147}, a_{13} : r_{1148}, a_{14} : r_{1149}, a_{15} : r_{1150}, a_{23} : r_{1151}, a_{24} : r_{1152}, a_{25} : r_{1153}, a_{34} : -\\frac{r_{1146} x_{24}}{x_{23}}, a_{35} : r_{1154}, a_{45} : r_{1155}\\right\\}, \\left\\{d_{1} : r_{1156}, d_{2} : r_{1157}, d_{3} : \\frac{r_{1157}}{x_{23}}, d_{4} : \\frac{r_{1156} x_{23}}{x_{13} x_{24}}, d_{5} : \\frac{r_{1157}}{x_{23} x_{35}}, a_{12} : \\frac{r_{1157} x_{13} - r_{1156} x_{23}}{x_{23}}, a_{13} : r_{1158}, a_{14} : r_{1159}, a_{15} : r_{1160}, a_{23} : r_{1161}, a_{24} : r_{1162}, a_{25} : r_{1163}, a_{34} : \\frac{r_{1157} x_{13} - r_{1156} x_{23}}{x_{13} x_{23}}, a_{35} : \\frac{{\\left(r_{1156} + r_{1158}\\right)} x_{23} x_{35} - r_{1157} x_{15}}{x_{13} x_{23} x_{35}}, a_{45} : \\frac{r_{1157} x_{15} + {\\left(r_{1161} x_{13} - {\\left(r_{1156} + r_{1158}\\right)} x_{23}\\right)} x_{35}}{x_{13} x_{24} x_{35}}\\right\\}, \\left\\{d_{1} : 0, d_{2} : 0, d_{3} : 0, d_{4} : 0, d_{5} : 0, a_{12} : 0, a_{13} : r_{1164}, a_{14} : r_{1165}, a_{15} : r_{1166}, a_{23} : r_{1167}, a_{24} : r_{1168}, a_{25} : r_{1169}, a_{34} : 0, a_{35} : \\frac{r_{1164}}{x_{13}}, a_{45} : \\frac{r_{1167} x_{13} - r_{1164} x_{23}}{x_{13} x_{24}}\\right\\}\\right]$$"
      ],
      "text/plain": [
       "[{d1: r1145,\n",
       "  d2: 0,\n",
       "  d3: 0,\n",
       "  d4: r1146,\n",
       "  d5: 0,\n",
       "  a12: r1147,\n",
       "  a13: r1148,\n",
       "  a14: r1149,\n",
       "  a15: r1150,\n",
       "  a23: r1151,\n",
       "  a24: r1152,\n",
       "  a25: r1153,\n",
       "  a34: -r1146*x24/x23,\n",
       "  a35: r1154,\n",
       "  a45: r1155},\n",
       " {d1: r1156,\n",
       "  d2: r1157,\n",
       "  d3: r1157/x23,\n",
       "  d4: r1156*x23/(x13*x24),\n",
       "  d5: r1157/(x23*x35),\n",
       "  a12: (r1157*x13 - r1156*x23)/x23,\n",
       "  a13: r1158,\n",
       "  a14: r1159,\n",
       "  a15: r1160,\n",
       "  a23: r1161,\n",
       "  a24: r1162,\n",
       "  a25: r1163,\n",
       "  a34: (r1157*x13 - r1156*x23)/(x13*x23),\n",
       "  a35: ((r1156 + r1158)*x23*x35 - r1157*x15)/(x13*x23*x35),\n",
       "  a45: (r1157*x15 + (r1161*x13 - (r1156 + r1158)*x23)*x35)/(x13*x24*x35)},\n",
       " {d1: 0,\n",
       "  d2: 0,\n",
       "  d3: 0,\n",
       "  d4: 0,\n",
       "  d5: 0,\n",
       "  a12: 0,\n",
       "  a13: r1164,\n",
       "  a14: r1165,\n",
       "  a15: r1166,\n",
       "  a23: r1167,\n",
       "  a24: r1168,\n",
       "  a25: r1169,\n",
       "  a34: 0,\n",
       "  a35: r1164/x13,\n",
       "  a45: (r1167*x13 - r1164*x23)/(x13*x24)}]"
      ]
     },
     "metadata": {},
     "output_type": "display_data"
    }
   ],
   "source": [
    "#x3\n",
    "reset()\n",
    "\n",
    "var('x12,x13,x14,x15,x23,x24,x25,x34,x35,x45')\n",
    "var('d1,d2,d3,d4,d5')\n",
    "var('a12,a13,a14,a15,a23,a24,a25,a34,a35,a45')\n",
    "\n",
    "load_attach_path('C:\\\\Users\\\\julia\\\\Documents\\\\unb\\\\doutorado\\\\pensar\\\\codigo_sage_v2\\\\maquina\\\\x3')\n",
    "\n",
    "load('out_#110101.sage')\n",
    "m=matrix(QQ, [[0, 0, 1, 0, 1],\n",
    "              [0, 0, 1, 1, 0],\n",
    "              [0, 0, 0, 0, 1],\n",
    "              [0, 0, 0, 0, 0],\n",
    "              [0, 0, 0, 0, 0]])\n",
    "        \n",
    "#entry of matrix: (i,j) line i collum j, means (i-1,j-1)\n",
    "sol=solve([ eq1==m[0,2],\teq2==m[0,3],\teq3==m[0,4],\teq4==m[1,2],\t\n",
    "                                            eq5==m[1,3],    eq6==m[1,4],\n",
    "                                                            eq7==m[2,4]],d1,d2,d3,d4,d5,a12,a13,a14,a15,a23,a24,a25,a34,a35,a45, solution_dict=True)\n",
    "\n",
    "show(m)\n",
    "show(sol)\n",
    "#latex(sol)"
   ]
  },
  {
   "cell_type": "code",
   "execution_count": 34,
   "metadata": {},
   "outputs": [
    {
     "data": {
      "text/html": [
       "<html><script type=\"math/tex; mode=display\">\\newcommand{\\Bold}[1]{\\mathbf{#1}}\\left(\\begin{array}{rrrrr}\n",
       "0 & 0 & 1 & 0 & 0 \\\\\n",
       "0 & 0 & 1 & 1 & 0 \\\\\n",
       "0 & 0 & 0 & 0 & 1 \\\\\n",
       "0 & 0 & 0 & 0 & 0 \\\\\n",
       "0 & 0 & 0 & 0 & 0\n",
       "\\end{array}\\right)</script></html>"
      ],
      "text/latex": [
       "$$\\newcommand{\\Bold}[1]{\\mathbf{#1}}\\left(\\begin{array}{rrrrr}\n",
       "0 & 0 & 1 & 0 & 0 \\\\\n",
       "0 & 0 & 1 & 1 & 0 \\\\\n",
       "0 & 0 & 0 & 0 & 1 \\\\\n",
       "0 & 0 & 0 & 0 & 0 \\\\\n",
       "0 & 0 & 0 & 0 & 0\n",
       "\\end{array}\\right)$$"
      ],
      "text/plain": [
       "[0 0 1 0 0]\n",
       "[0 0 1 1 0]\n",
       "[0 0 0 0 1]\n",
       "[0 0 0 0 0]\n",
       "[0 0 0 0 0]"
      ]
     },
     "metadata": {},
     "output_type": "display_data"
    },
    {
     "data": {
      "text/html": [
       "<html><script type=\"math/tex; mode=display\">\\newcommand{\\Bold}[1]{\\mathbf{#1}}\\left[\\left\\{d_{1} : r_{763}, d_{2} : 0, d_{3} : 0, d_{4} : r_{764}, d_{5} : 0, a_{12} : r_{765}, a_{13} : r_{766}, a_{14} : r_{767}, a_{15} : r_{768}, a_{23} : r_{769}, a_{24} : r_{770}, a_{25} : r_{771}, a_{34} : -\\frac{r_{764} x_{24}}{x_{23}}, a_{35} : r_{772}, a_{45} : r_{773}\\right\\}, \\left\\{d_{1} : r_{774}, d_{2} : r_{775}, d_{3} : \\frac{r_{775}}{x_{23}}, d_{4} : -\\frac{r_{774} x_{23}}{x_{14} x_{23} - x_{13} x_{24}}, d_{5} : \\frac{r_{775}}{x_{23} x_{35}}, a_{12} : \\frac{r_{775} x_{13} - r_{774} x_{23}}{x_{23}}, a_{13} : r_{776}, a_{14} : r_{777}, a_{15} : r_{778}, a_{23} : r_{779}, a_{24} : r_{780}, a_{25} : r_{781}, a_{34} : \\frac{r_{775} x_{14} x_{23} - {\\left(r_{775} x_{13} - r_{774} x_{23}\\right)} x_{24}}{x_{14} x_{23}^{2} - x_{13} x_{23} x_{24}}, a_{35} : \\frac{r_{779} x_{14} - r_{776} x_{24}}{x_{14} x_{23} - x_{13} x_{24}}, a_{45} : -\\frac{r_{779} x_{13} - r_{776} x_{23}}{x_{14} x_{23} - x_{13} x_{24}}\\right\\}, \\left\\{d_{1} : 0, d_{2} : 0, d_{3} : 0, d_{4} : 0, d_{5} : 0, a_{12} : 0, a_{13} : r_{782}, a_{14} : r_{783}, a_{15} : r_{784}, a_{23} : r_{785}, a_{24} : r_{786}, a_{25} : r_{787}, a_{34} : 0, a_{35} : \\frac{r_{785} x_{14} - r_{782} x_{24}}{x_{14} x_{23} - x_{13} x_{24}}, a_{45} : -\\frac{r_{785} x_{13} - r_{782} x_{23}}{x_{14} x_{23} - x_{13} x_{24}}\\right\\}\\right]</script></html>"
      ],
      "text/latex": [
       "$$\\newcommand{\\Bold}[1]{\\mathbf{#1}}\\left[\\left\\{d_{1} : r_{763}, d_{2} : 0, d_{3} : 0, d_{4} : r_{764}, d_{5} : 0, a_{12} : r_{765}, a_{13} : r_{766}, a_{14} : r_{767}, a_{15} : r_{768}, a_{23} : r_{769}, a_{24} : r_{770}, a_{25} : r_{771}, a_{34} : -\\frac{r_{764} x_{24}}{x_{23}}, a_{35} : r_{772}, a_{45} : r_{773}\\right\\}, \\left\\{d_{1} : r_{774}, d_{2} : r_{775}, d_{3} : \\frac{r_{775}}{x_{23}}, d_{4} : -\\frac{r_{774} x_{23}}{x_{14} x_{23} - x_{13} x_{24}}, d_{5} : \\frac{r_{775}}{x_{23} x_{35}}, a_{12} : \\frac{r_{775} x_{13} - r_{774} x_{23}}{x_{23}}, a_{13} : r_{776}, a_{14} : r_{777}, a_{15} : r_{778}, a_{23} : r_{779}, a_{24} : r_{780}, a_{25} : r_{781}, a_{34} : \\frac{r_{775} x_{14} x_{23} - {\\left(r_{775} x_{13} - r_{774} x_{23}\\right)} x_{24}}{x_{14} x_{23}^{2} - x_{13} x_{23} x_{24}}, a_{35} : \\frac{r_{779} x_{14} - r_{776} x_{24}}{x_{14} x_{23} - x_{13} x_{24}}, a_{45} : -\\frac{r_{779} x_{13} - r_{776} x_{23}}{x_{14} x_{23} - x_{13} x_{24}}\\right\\}, \\left\\{d_{1} : 0, d_{2} : 0, d_{3} : 0, d_{4} : 0, d_{5} : 0, a_{12} : 0, a_{13} : r_{782}, a_{14} : r_{783}, a_{15} : r_{784}, a_{23} : r_{785}, a_{24} : r_{786}, a_{25} : r_{787}, a_{34} : 0, a_{35} : \\frac{r_{785} x_{14} - r_{782} x_{24}}{x_{14} x_{23} - x_{13} x_{24}}, a_{45} : -\\frac{r_{785} x_{13} - r_{782} x_{23}}{x_{14} x_{23} - x_{13} x_{24}}\\right\\}\\right]$$"
      ],
      "text/plain": [
       "[{d1: r763,\n",
       "  d2: 0,\n",
       "  d3: 0,\n",
       "  d4: r764,\n",
       "  d5: 0,\n",
       "  a12: r765,\n",
       "  a13: r766,\n",
       "  a14: r767,\n",
       "  a15: r768,\n",
       "  a23: r769,\n",
       "  a24: r770,\n",
       "  a25: r771,\n",
       "  a34: -r764*x24/x23,\n",
       "  a35: r772,\n",
       "  a45: r773},\n",
       " {d1: r774,\n",
       "  d2: r775,\n",
       "  d3: r775/x23,\n",
       "  d4: -r774*x23/(x14*x23 - x13*x24),\n",
       "  d5: r775/(x23*x35),\n",
       "  a12: (r775*x13 - r774*x23)/x23,\n",
       "  a13: r776,\n",
       "  a14: r777,\n",
       "  a15: r778,\n",
       "  a23: r779,\n",
       "  a24: r780,\n",
       "  a25: r781,\n",
       "  a34: (r775*x14*x23 - (r775*x13 - r774*x23)*x24)/(x14*x23^2 - x13*x23*x24),\n",
       "  a35: (r779*x14 - r776*x24)/(x14*x23 - x13*x24),\n",
       "  a45: -(r779*x13 - r776*x23)/(x14*x23 - x13*x24)},\n",
       " {d1: 0,\n",
       "  d2: 0,\n",
       "  d3: 0,\n",
       "  d4: 0,\n",
       "  d5: 0,\n",
       "  a12: 0,\n",
       "  a13: r782,\n",
       "  a14: r783,\n",
       "  a15: r784,\n",
       "  a23: r785,\n",
       "  a24: r786,\n",
       "  a25: r787,\n",
       "  a34: 0,\n",
       "  a35: (r785*x14 - r782*x24)/(x14*x23 - x13*x24),\n",
       "  a45: -(r785*x13 - r782*x23)/(x14*x23 - x13*x24)}]"
      ]
     },
     "metadata": {},
     "output_type": "display_data"
    }
   ],
   "source": [
    "#x3\n",
    "#----------------------\n",
    "#x14 \\neq x13*x24/x23\n",
    "#----------------------\n",
    "reset()\n",
    "\n",
    "var('x12,x13,x14,x15,x23,x24,x25,x34,x35,x45')\n",
    "var('d1,d2,d3,d4,d5')\n",
    "var('a12,a13,a14,a15,a23,a24,a25,a34,a35,a45')\n",
    "\n",
    "load_attach_path('C:\\\\Users\\\\julia\\\\Documents\\\\unb\\\\doutorado\\\\pensar\\\\codigo_sage_v2\\\\maquina\\\\x3')\n",
    "load('out_#110110.sage')\n",
    "\n",
    "m=matrix(QQ, [[0, 0, 1, 0, 0],\n",
    "              [0, 0, 1, 1, 0],\n",
    "              [0, 0, 0, 0, 1],\n",
    "              [0, 0, 0, 0, 0],\n",
    "              [0, 0, 0, 0, 0]])\n",
    "        \n",
    "#entry of matrix: (i,j) line i collum j, means (i-1,j-1)\n",
    "sol=solve([ eq1==m[0,2],\teq2==m[0,3],\teq3==m[0,4],\teq4==m[1,2],\t\n",
    "                                            eq5==m[1,3],    eq6==m[1,4],\n",
    "                                                            eq7==m[2,4]],d1,d2,d3,d4,d5,a12,a13,a14,a15,a23,a24,a25,a34,a35,a45, solution_dict=True)\n",
    "\n",
    "show(m)\n",
    "show(sol)\n",
    "#latex(sol)"
   ]
  },
  {
   "cell_type": "code",
   "execution_count": 35,
   "metadata": {},
   "outputs": [
    {
     "data": {
      "text/html": [
       "<html><script type=\"math/tex; mode=display\">\\newcommand{\\Bold}[1]{\\mathbf{#1}}\\left(\\begin{array}{rrrrr}\n",
       "0 & 0 & 1 & 0 & 0 \\\\\n",
       "0 & 0 & 1 & 1 & 0 \\\\\n",
       "0 & 0 & 0 & 0 & 1 \\\\\n",
       "0 & 0 & 0 & 0 & 0 \\\\\n",
       "0 & 0 & 0 & 0 & 0\n",
       "\\end{array}\\right)</script></html>"
      ],
      "text/latex": [
       "$$\\newcommand{\\Bold}[1]{\\mathbf{#1}}\\left(\\begin{array}{rrrrr}\n",
       "0 & 0 & 1 & 0 & 0 \\\\\n",
       "0 & 0 & 1 & 1 & 0 \\\\\n",
       "0 & 0 & 0 & 0 & 1 \\\\\n",
       "0 & 0 & 0 & 0 & 0 \\\\\n",
       "0 & 0 & 0 & 0 & 0\n",
       "\\end{array}\\right)$$"
      ],
      "text/plain": [
       "[0 0 1 0 0]\n",
       "[0 0 1 1 0]\n",
       "[0 0 0 0 1]\n",
       "[0 0 0 0 0]\n",
       "[0 0 0 0 0]"
      ]
     },
     "metadata": {},
     "output_type": "display_data"
    },
    {
     "data": {
      "text/html": [
       "<html><script type=\"math/tex; mode=display\">\\newcommand{\\Bold}[1]{\\mathbf{#1}}\\left[\\left\\{d_{1} : r_{788}, d_{2} : 0, d_{3} : 0, d_{4} : r_{789}, d_{5} : 0, a_{12} : r_{790}, a_{13} : r_{791}, a_{14} : r_{792}, a_{15} : r_{793}, a_{23} : r_{794}, a_{24} : r_{795}, a_{25} : r_{796}, a_{34} : -\\frac{r_{789} x_{24}}{x_{23}}, a_{35} : r_{797}, a_{45} : r_{798}\\right\\}, \\left\\{d_{1} : 0, d_{2} : r_{799}, d_{3} : \\frac{r_{799}}{x_{23}}, d_{4} : r_{800}, d_{5} : \\frac{r_{799}}{x_{23} x_{35}}, a_{12} : \\frac{r_{799} x_{13}}{x_{23}}, a_{13} : r_{801}, a_{14} : r_{802}, a_{15} : r_{803}, a_{23} : \\frac{r_{801} x_{23}}{x_{13}}, a_{24} : r_{804}, a_{25} : r_{805}, a_{34} : -\\frac{r_{800} x_{24} - r_{799}}{x_{23}}, a_{35} : r_{806}, a_{45} : -\\frac{{\\left(r_{806} x_{13} - r_{801}\\right)} x_{23}}{x_{13} x_{24}}\\right\\}\\right]</script></html>"
      ],
      "text/latex": [
       "$$\\newcommand{\\Bold}[1]{\\mathbf{#1}}\\left[\\left\\{d_{1} : r_{788}, d_{2} : 0, d_{3} : 0, d_{4} : r_{789}, d_{5} : 0, a_{12} : r_{790}, a_{13} : r_{791}, a_{14} : r_{792}, a_{15} : r_{793}, a_{23} : r_{794}, a_{24} : r_{795}, a_{25} : r_{796}, a_{34} : -\\frac{r_{789} x_{24}}{x_{23}}, a_{35} : r_{797}, a_{45} : r_{798}\\right\\}, \\left\\{d_{1} : 0, d_{2} : r_{799}, d_{3} : \\frac{r_{799}}{x_{23}}, d_{4} : r_{800}, d_{5} : \\frac{r_{799}}{x_{23} x_{35}}, a_{12} : \\frac{r_{799} x_{13}}{x_{23}}, a_{13} : r_{801}, a_{14} : r_{802}, a_{15} : r_{803}, a_{23} : \\frac{r_{801} x_{23}}{x_{13}}, a_{24} : r_{804}, a_{25} : r_{805}, a_{34} : -\\frac{r_{800} x_{24} - r_{799}}{x_{23}}, a_{35} : r_{806}, a_{45} : -\\frac{{\\left(r_{806} x_{13} - r_{801}\\right)} x_{23}}{x_{13} x_{24}}\\right\\}\\right]$$"
      ],
      "text/plain": [
       "[{d1: r788,\n",
       "  d2: 0,\n",
       "  d3: 0,\n",
       "  d4: r789,\n",
       "  d5: 0,\n",
       "  a12: r790,\n",
       "  a13: r791,\n",
       "  a14: r792,\n",
       "  a15: r793,\n",
       "  a23: r794,\n",
       "  a24: r795,\n",
       "  a25: r796,\n",
       "  a34: -r789*x24/x23,\n",
       "  a35: r797,\n",
       "  a45: r798},\n",
       " {d1: 0,\n",
       "  d2: r799,\n",
       "  d3: r799/x23,\n",
       "  d4: r800,\n",
       "  d5: r799/(x23*x35),\n",
       "  a12: r799*x13/x23,\n",
       "  a13: r801,\n",
       "  a14: r802,\n",
       "  a15: r803,\n",
       "  a23: r801*x23/x13,\n",
       "  a24: r804,\n",
       "  a25: r805,\n",
       "  a34: -(r800*x24 - r799)/x23,\n",
       "  a35: r806,\n",
       "  a45: -(r806*x13 - r801)*x23/(x13*x24)}]"
      ]
     },
     "metadata": {},
     "output_type": "display_data"
    }
   ],
   "source": [
    "#x3\n",
    "#----------------------\n",
    "#x14 = x13*x24/x23\n",
    "#----------------------\n",
    "reset()\n",
    "\n",
    "var('x12,x13,x14,x15,x23,x24,x25,x34,x35,x45')\n",
    "var('d1,d2,d3,d4,d5')\n",
    "var('a12,a13,a14,a15,a23,a24,a25,a34,a35,a45')\n",
    "\n",
    "#110110\n",
    "eq1=(d2*d3*x13-a12*d3*x23)/(d1*d2) \n",
    "eq2=(a34*d2*x13+d2*d4*((x13*x24)/x23)-a12*a34*x23-a12*d4*x24)/(d1*d2) \n",
    "eq3=(a35*d2*d3*x13+a45*d2*d3*((x13*x24)/x23)+d2*d3*d5*0-a12*a35*d3*x23-a12*a45*d3*x24-a12*d3*d5*0+a12*a23*d5*x35-a13*d2*d5*x35)/(d1*d2*d3) \n",
    "eq4=(d3*x23)/(d2) \n",
    "eq5=(a34*x23+d4*x24)/(d2) \n",
    "eq6=(a35*d3*x23+a45*d3*x24+d3*d5*0-a23*d5*x35)/(d2*d3) \n",
    "eq7=(d5*x35)/(d3) \n",
    "\n",
    "m=matrix(QQ, [[0, 0, 1, 0, 0],\n",
    "              [0, 0, 1, 1, 0],\n",
    "              [0, 0, 0, 0, 1],\n",
    "              [0, 0, 0, 0, 0],\n",
    "              [0, 0, 0, 0, 0]])\n",
    "        \n",
    "#entry of matrix: (i,j) line i collum j, means (i-1,j-1)\n",
    "sol=solve([ eq1==m[0,2],\teq2==m[0,3],\teq3==m[0,4],\teq4==m[1,2],\t\n",
    "                                            eq5==m[1,3],    eq6==m[1,4],\n",
    "                                                            eq7==m[2,4]],d1,d2,d3,d4,d5,a12,a13,a14,a15,a23,a24,a25,a34,a35,a45, solution_dict=True)\n",
    "\n",
    "show(m)\n",
    "show(sol)\n",
    "#latex(sol)"
   ]
  },
  {
   "cell_type": "code",
   "execution_count": 36,
   "metadata": {},
   "outputs": [
    {
     "data": {
      "text/html": [
       "<html><script type=\"math/tex; mode=display\">\\newcommand{\\Bold}[1]{\\mathbf{#1}}\\left(\\begin{array}{rrrrr}\n",
       "0 & 0 & 1 & 0 & 1 \\\\\n",
       "0 & 0 & 1 & 1 & 0 \\\\\n",
       "0 & 0 & 0 & 0 & 1 \\\\\n",
       "0 & 0 & 0 & 0 & 0 \\\\\n",
       "0 & 0 & 0 & 0 & 0\n",
       "\\end{array}\\right)</script></html>"
      ],
      "text/latex": [
       "$$\\newcommand{\\Bold}[1]{\\mathbf{#1}}\\left(\\begin{array}{rrrrr}\n",
       "0 & 0 & 1 & 0 & 1 \\\\\n",
       "0 & 0 & 1 & 1 & 0 \\\\\n",
       "0 & 0 & 0 & 0 & 1 \\\\\n",
       "0 & 0 & 0 & 0 & 0 \\\\\n",
       "0 & 0 & 0 & 0 & 0\n",
       "\\end{array}\\right)$$"
      ],
      "text/plain": [
       "[0 0 1 0 1]\n",
       "[0 0 1 1 0]\n",
       "[0 0 0 0 1]\n",
       "[0 0 0 0 0]\n",
       "[0 0 0 0 0]"
      ]
     },
     "metadata": {},
     "output_type": "display_data"
    },
    {
     "data": {
      "text/html": [
       "<html><script type=\"math/tex; mode=display\">\\newcommand{\\Bold}[1]{\\mathbf{#1}}\\left[\\left\\{d_{1} : r_{807}, d_{2} : 0, d_{3} : 0, d_{4} : r_{808}, d_{5} : 0, a_{12} : r_{809}, a_{13} : r_{810}, a_{14} : r_{811}, a_{15} : r_{812}, a_{23} : r_{813}, a_{24} : r_{814}, a_{25} : r_{815}, a_{34} : -\\frac{r_{808} x_{24}}{x_{23}}, a_{35} : r_{816}, a_{45} : r_{817}\\right\\}, \\left\\{d_{1} : r_{818}, d_{2} : r_{819}, d_{3} : \\frac{r_{819}}{x_{23}}, d_{4} : -\\frac{r_{818} x_{23}}{x_{14} x_{23} - x_{13} x_{24}}, d_{5} : \\frac{r_{819}}{x_{23} x_{35}}, a_{12} : \\frac{r_{819} x_{13} - r_{818} x_{23}}{x_{23}}, a_{13} : r_{820}, a_{14} : r_{821}, a_{15} : r_{822}, a_{23} : r_{823}, a_{24} : r_{824}, a_{25} : r_{825}, a_{34} : \\frac{r_{819} x_{14} x_{23} - {\\left(r_{819} x_{13} - r_{818} x_{23}\\right)} x_{24}}{x_{14} x_{23}^{2} - x_{13} x_{23} x_{24}}, a_{35} : \\frac{r_{819} x_{15} x_{24} + {\\left(r_{823} x_{14} x_{23} - {\\left(r_{818} + r_{820}\\right)} x_{23} x_{24}\\right)} x_{35}}{{\\left(x_{14} x_{23}^{2} - x_{13} x_{23} x_{24}\\right)} x_{35}}, a_{45} : -\\frac{r_{819} x_{15} + {\\left(r_{823} x_{13} - {\\left(r_{818} + r_{820}\\right)} x_{23}\\right)} x_{35}}{{\\left(x_{14} x_{23} - x_{13} x_{24}\\right)} x_{35}}\\right\\}, \\left\\{d_{1} : 0, d_{2} : 0, d_{3} : 0, d_{4} : 0, d_{5} : 0, a_{12} : 0, a_{13} : r_{826}, a_{14} : r_{827}, a_{15} : r_{828}, a_{23} : r_{829}, a_{24} : r_{830}, a_{25} : r_{831}, a_{34} : 0, a_{35} : \\frac{r_{829} x_{14} x_{23} - r_{826} x_{23} x_{24}}{x_{14} x_{23}^{2} - x_{13} x_{23} x_{24}}, a_{45} : -\\frac{r_{829} x_{13} - r_{826} x_{23}}{x_{14} x_{23} - x_{13} x_{24}}\\right\\}\\right]</script></html>"
      ],
      "text/latex": [
       "$$\\newcommand{\\Bold}[1]{\\mathbf{#1}}\\left[\\left\\{d_{1} : r_{807}, d_{2} : 0, d_{3} : 0, d_{4} : r_{808}, d_{5} : 0, a_{12} : r_{809}, a_{13} : r_{810}, a_{14} : r_{811}, a_{15} : r_{812}, a_{23} : r_{813}, a_{24} : r_{814}, a_{25} : r_{815}, a_{34} : -\\frac{r_{808} x_{24}}{x_{23}}, a_{35} : r_{816}, a_{45} : r_{817}\\right\\}, \\left\\{d_{1} : r_{818}, d_{2} : r_{819}, d_{3} : \\frac{r_{819}}{x_{23}}, d_{4} : -\\frac{r_{818} x_{23}}{x_{14} x_{23} - x_{13} x_{24}}, d_{5} : \\frac{r_{819}}{x_{23} x_{35}}, a_{12} : \\frac{r_{819} x_{13} - r_{818} x_{23}}{x_{23}}, a_{13} : r_{820}, a_{14} : r_{821}, a_{15} : r_{822}, a_{23} : r_{823}, a_{24} : r_{824}, a_{25} : r_{825}, a_{34} : \\frac{r_{819} x_{14} x_{23} - {\\left(r_{819} x_{13} - r_{818} x_{23}\\right)} x_{24}}{x_{14} x_{23}^{2} - x_{13} x_{23} x_{24}}, a_{35} : \\frac{r_{819} x_{15} x_{24} + {\\left(r_{823} x_{14} x_{23} - {\\left(r_{818} + r_{820}\\right)} x_{23} x_{24}\\right)} x_{35}}{{\\left(x_{14} x_{23}^{2} - x_{13} x_{23} x_{24}\\right)} x_{35}}, a_{45} : -\\frac{r_{819} x_{15} + {\\left(r_{823} x_{13} - {\\left(r_{818} + r_{820}\\right)} x_{23}\\right)} x_{35}}{{\\left(x_{14} x_{23} - x_{13} x_{24}\\right)} x_{35}}\\right\\}, \\left\\{d_{1} : 0, d_{2} : 0, d_{3} : 0, d_{4} : 0, d_{5} : 0, a_{12} : 0, a_{13} : r_{826}, a_{14} : r_{827}, a_{15} : r_{828}, a_{23} : r_{829}, a_{24} : r_{830}, a_{25} : r_{831}, a_{34} : 0, a_{35} : \\frac{r_{829} x_{14} x_{23} - r_{826} x_{23} x_{24}}{x_{14} x_{23}^{2} - x_{13} x_{23} x_{24}}, a_{45} : -\\frac{r_{829} x_{13} - r_{826} x_{23}}{x_{14} x_{23} - x_{13} x_{24}}\\right\\}\\right]$$"
      ],
      "text/plain": [
       "[{d1: r807,\n",
       "  d2: 0,\n",
       "  d3: 0,\n",
       "  d4: r808,\n",
       "  d5: 0,\n",
       "  a12: r809,\n",
       "  a13: r810,\n",
       "  a14: r811,\n",
       "  a15: r812,\n",
       "  a23: r813,\n",
       "  a24: r814,\n",
       "  a25: r815,\n",
       "  a34: -r808*x24/x23,\n",
       "  a35: r816,\n",
       "  a45: r817},\n",
       " {d1: r818,\n",
       "  d2: r819,\n",
       "  d3: r819/x23,\n",
       "  d4: -r818*x23/(x14*x23 - x13*x24),\n",
       "  d5: r819/(x23*x35),\n",
       "  a12: (r819*x13 - r818*x23)/x23,\n",
       "  a13: r820,\n",
       "  a14: r821,\n",
       "  a15: r822,\n",
       "  a23: r823,\n",
       "  a24: r824,\n",
       "  a25: r825,\n",
       "  a34: (r819*x14*x23 - (r819*x13 - r818*x23)*x24)/(x14*x23^2 - x13*x23*x24),\n",
       "  a35: (r819*x15*x24 + (r823*x14*x23 - (r818 + r820)*x23*x24)*x35)/((x14*x23^2 - x13*x23*x24)*x35),\n",
       "  a45: -(r819*x15 + (r823*x13 - (r818 + r820)*x23)*x35)/((x14*x23 - x13*x24)*x35)},\n",
       " {d1: 0,\n",
       "  d2: 0,\n",
       "  d3: 0,\n",
       "  d4: 0,\n",
       "  d5: 0,\n",
       "  a12: 0,\n",
       "  a13: r826,\n",
       "  a14: r827,\n",
       "  a15: r828,\n",
       "  a23: r829,\n",
       "  a24: r830,\n",
       "  a25: r831,\n",
       "  a34: 0,\n",
       "  a35: (r829*x14*x23 - r826*x23*x24)/(x14*x23^2 - x13*x23*x24),\n",
       "  a45: -(r829*x13 - r826*x23)/(x14*x23 - x13*x24)}]"
      ]
     },
     "metadata": {},
     "output_type": "display_data"
    }
   ],
   "source": [
    "#x3\n",
    "#----------------------\n",
    "#x14 \\neq x13*x24/x23\n",
    "#----------------------\n",
    "reset()\n",
    "\n",
    "var('x12,x13,x14,x15,x23,x24,x25,x34,x35,x45')\n",
    "var('d1,d2,d3,d4,d5')\n",
    "var('a12,a13,a14,a15,a23,a24,a25,a34,a35,a45')\n",
    "\n",
    "load_attach_path('C:\\\\Users\\\\julia\\\\Documents\\\\unb\\\\doutorado\\\\pensar\\\\codigo_sage_v2\\\\maquina\\\\x3')\n",
    "load('out_#110111.sage')\n",
    "\n",
    "m=matrix(QQ, [[0, 0, 1, 0, 1],\n",
    "              [0, 0, 1, 1, 0],\n",
    "              [0, 0, 0, 0, 1],\n",
    "              [0, 0, 0, 0, 0],\n",
    "              [0, 0, 0, 0, 0]])\n",
    "        \n",
    "#entry of matrix: (i,j) line i collum j, means (i-1,j-1)\n",
    "sol=solve([ eq1==m[0,2],\teq2==m[0,3],\teq3==m[0,4],\teq4==m[1,2],\t\n",
    "                                            eq5==m[1,3],    eq6==m[1,4],\n",
    "                                                            eq7==m[2,4]],d1,d2,d3,d4,d5,a12,a13,a14,a15,a23,a24,a25,a34,a35,a45, solution_dict=True)\n",
    "\n",
    "show(m)\n",
    "show(sol)\n",
    "#latex(sol)"
   ]
  },
  {
   "cell_type": "code",
   "execution_count": 38,
   "metadata": {},
   "outputs": [
    {
     "data": {
      "text/html": [
       "<html><script type=\"math/tex; mode=display\">\\newcommand{\\Bold}[1]{\\mathbf{#1}}\\left(\\begin{array}{rrrrr}\n",
       "0 & 0 & 1 & 1 & 1 \\\\\n",
       "0 & 0 & 1 & 1 & 0 \\\\\n",
       "0 & 0 & 0 & 0 & 1 \\\\\n",
       "0 & 0 & 0 & 0 & 0 \\\\\n",
       "0 & 0 & 0 & 0 & 0\n",
       "\\end{array}\\right)</script></html>"
      ],
      "text/latex": [
       "$$\\newcommand{\\Bold}[1]{\\mathbf{#1}}\\left(\\begin{array}{rrrrr}\n",
       "0 & 0 & 1 & 1 & 1 \\\\\n",
       "0 & 0 & 1 & 1 & 0 \\\\\n",
       "0 & 0 & 0 & 0 & 1 \\\\\n",
       "0 & 0 & 0 & 0 & 0 \\\\\n",
       "0 & 0 & 0 & 0 & 0\n",
       "\\end{array}\\right)$$"
      ],
      "text/plain": [
       "[0 0 1 1 1]\n",
       "[0 0 1 1 0]\n",
       "[0 0 0 0 1]\n",
       "[0 0 0 0 0]\n",
       "[0 0 0 0 0]"
      ]
     },
     "metadata": {},
     "output_type": "display_data"
    },
    {
     "data": {
      "text/html": [
       "<html><script type=\"math/tex; mode=display\">\\newcommand{\\Bold}[1]{\\mathbf{#1}}\\left[\\left\\{d_{1} : r_{851}, d_{2} : 0, d_{3} : 0, d_{4} : r_{852}, d_{5} : 0, a_{12} : r_{853}, a_{13} : r_{854}, a_{14} : r_{855}, a_{15} : r_{856}, a_{23} : r_{857}, a_{24} : r_{858}, a_{25} : r_{859}, a_{34} : -\\frac{r_{852} x_{24}}{x_{23}}, a_{35} : r_{860}, a_{45} : r_{861}\\right\\}, \\left\\{d_{1} : r_{862}, d_{2} : r_{863}, d_{3} : \\frac{r_{863}}{x_{23}}, d_{4} : r_{864}, d_{5} : \\frac{r_{863}}{x_{23} x_{35}}, a_{12} : \\frac{r_{863} x_{13} - r_{862} x_{23}}{x_{23}}, a_{13} : r_{865}, a_{14} : r_{866}, a_{15} : r_{867}, a_{23} : \\frac{{\\left(r_{862} + r_{865}\\right)} x_{23} x_{35} - r_{863} x_{15}}{x_{13} x_{35}}, a_{24} : r_{868}, a_{25} : r_{869}, a_{34} : -\\frac{r_{864} x_{24} - r_{863}}{x_{23}}, a_{35} : r_{870}, a_{45} : -\\frac{{\\left(r_{870} x_{13} - r_{862} - r_{865}\\right)} x_{23} x_{35} + r_{863} x_{15}}{x_{13} x_{24} x_{35}}\\right\\}, \\left\\{d_{1} : 0, d_{2} : r_{871}, d_{3} : \\frac{r_{871}}{x_{23}}, d_{4} : r_{872}, d_{5} : \\frac{r_{871}}{x_{23} x_{35}}, a_{12} : \\frac{r_{871} x_{13}}{x_{23}}, a_{13} : r_{873}, a_{14} : r_{874}, a_{15} : r_{875}, a_{23} : \\frac{r_{873} x_{23} x_{35} - r_{871} x_{15}}{x_{13} x_{35}}, a_{24} : r_{876}, a_{25} : r_{877}, a_{34} : -\\frac{r_{872} x_{24} - r_{871}}{x_{23}}, a_{35} : r_{878}, a_{45} : -\\frac{{\\left(r_{878} x_{13} - r_{873}\\right)} x_{23} x_{35} + r_{871} x_{15}}{x_{13} x_{24} x_{35}}\\right\\}\\right]</script></html>"
      ],
      "text/latex": [
       "$$\\newcommand{\\Bold}[1]{\\mathbf{#1}}\\left[\\left\\{d_{1} : r_{851}, d_{2} : 0, d_{3} : 0, d_{4} : r_{852}, d_{5} : 0, a_{12} : r_{853}, a_{13} : r_{854}, a_{14} : r_{855}, a_{15} : r_{856}, a_{23} : r_{857}, a_{24} : r_{858}, a_{25} : r_{859}, a_{34} : -\\frac{r_{852} x_{24}}{x_{23}}, a_{35} : r_{860}, a_{45} : r_{861}\\right\\}, \\left\\{d_{1} : r_{862}, d_{2} : r_{863}, d_{3} : \\frac{r_{863}}{x_{23}}, d_{4} : r_{864}, d_{5} : \\frac{r_{863}}{x_{23} x_{35}}, a_{12} : \\frac{r_{863} x_{13} - r_{862} x_{23}}{x_{23}}, a_{13} : r_{865}, a_{14} : r_{866}, a_{15} : r_{867}, a_{23} : \\frac{{\\left(r_{862} + r_{865}\\right)} x_{23} x_{35} - r_{863} x_{15}}{x_{13} x_{35}}, a_{24} : r_{868}, a_{25} : r_{869}, a_{34} : -\\frac{r_{864} x_{24} - r_{863}}{x_{23}}, a_{35} : r_{870}, a_{45} : -\\frac{{\\left(r_{870} x_{13} - r_{862} - r_{865}\\right)} x_{23} x_{35} + r_{863} x_{15}}{x_{13} x_{24} x_{35}}\\right\\}, \\left\\{d_{1} : 0, d_{2} : r_{871}, d_{3} : \\frac{r_{871}}{x_{23}}, d_{4} : r_{872}, d_{5} : \\frac{r_{871}}{x_{23} x_{35}}, a_{12} : \\frac{r_{871} x_{13}}{x_{23}}, a_{13} : r_{873}, a_{14} : r_{874}, a_{15} : r_{875}, a_{23} : \\frac{r_{873} x_{23} x_{35} - r_{871} x_{15}}{x_{13} x_{35}}, a_{24} : r_{876}, a_{25} : r_{877}, a_{34} : -\\frac{r_{872} x_{24} - r_{871}}{x_{23}}, a_{35} : r_{878}, a_{45} : -\\frac{{\\left(r_{878} x_{13} - r_{873}\\right)} x_{23} x_{35} + r_{871} x_{15}}{x_{13} x_{24} x_{35}}\\right\\}\\right]$$"
      ],
      "text/plain": [
       "[{d1: r851,\n",
       "  d2: 0,\n",
       "  d3: 0,\n",
       "  d4: r852,\n",
       "  d5: 0,\n",
       "  a12: r853,\n",
       "  a13: r854,\n",
       "  a14: r855,\n",
       "  a15: r856,\n",
       "  a23: r857,\n",
       "  a24: r858,\n",
       "  a25: r859,\n",
       "  a34: -r852*x24/x23,\n",
       "  a35: r860,\n",
       "  a45: r861},\n",
       " {d1: r862,\n",
       "  d2: r863,\n",
       "  d3: r863/x23,\n",
       "  d4: r864,\n",
       "  d5: r863/(x23*x35),\n",
       "  a12: (r863*x13 - r862*x23)/x23,\n",
       "  a13: r865,\n",
       "  a14: r866,\n",
       "  a15: r867,\n",
       "  a23: ((r862 + r865)*x23*x35 - r863*x15)/(x13*x35),\n",
       "  a24: r868,\n",
       "  a25: r869,\n",
       "  a34: -(r864*x24 - r863)/x23,\n",
       "  a35: r870,\n",
       "  a45: -((r870*x13 - r862 - r865)*x23*x35 + r863*x15)/(x13*x24*x35)},\n",
       " {d1: 0,\n",
       "  d2: r871,\n",
       "  d3: r871/x23,\n",
       "  d4: r872,\n",
       "  d5: r871/(x23*x35),\n",
       "  a12: r871*x13/x23,\n",
       "  a13: r873,\n",
       "  a14: r874,\n",
       "  a15: r875,\n",
       "  a23: (r873*x23*x35 - r871*x15)/(x13*x35),\n",
       "  a24: r876,\n",
       "  a25: r877,\n",
       "  a34: -(r872*x24 - r871)/x23,\n",
       "  a35: r878,\n",
       "  a45: -((r878*x13 - r873)*x23*x35 + r871*x15)/(x13*x24*x35)}]"
      ]
     },
     "metadata": {},
     "output_type": "display_data"
    }
   ],
   "source": [
    "#x3\n",
    "#----------------------\n",
    "#x14 = x13*x24/x23\n",
    "#----------------------\n",
    "reset()\n",
    "\n",
    "var('x12,x13,x14,x15,x23,x24,x25,x34,x35,x45')\n",
    "var('d1,d2,d3,d4,d5')\n",
    "var('a12,a13,a14,a15,a23,a24,a25,a34,a35,a45')\n",
    "\n",
    "#110111\n",
    "eq1=(d2*d3*x13-a12*d3*x23)/(d1*d2) \n",
    "eq2=(a34*d2*x13+d2*d4*((x13*x24)/x23)-a12*a34*x23-a12*d4*x24)/(d1*d2) \n",
    "eq3=(a35*d2*d3*x13+a45*d2*d3*((x13*x24)/x23)+d2*d3*d5*x15-a12*a35*d3*x23-a12*a45*d3*x24-a12*d3*d5*0+a12*a23*d5*x35-a13*d2*d5*x35)/(d1*d2*d3) \n",
    "eq4=(d3*x23)/(d2) \n",
    "eq5=(a34*x23+d4*x24)/(d2) \n",
    "eq6=(a35*d3*x23+a45*d3*x24+d3*d5*0-a23*d5*x35)/(d2*d3) \n",
    "eq7=(d5*x35)/(d3) \n",
    "\n",
    "m=matrix(QQ, [[0, 0, 1, 1, 1],\n",
    "              [0, 0, 1, 1, 0],\n",
    "              [0, 0, 0, 0, 1],\n",
    "              [0, 0, 0, 0, 0],\n",
    "              [0, 0, 0, 0, 0]])\n",
    "        \n",
    "#entry of matrix: (i,j) line i collum j, means (i-1,j-1)\n",
    "sol=solve([ eq1==m[0,2],\teq2==m[0,3],\teq3==m[0,4],\teq4==m[1,2],\t\n",
    "                                            eq5==m[1,3],    eq6==m[1,4],\n",
    "                                                            eq7==m[2,4]],d1,d2,d3,d4,d5,a12,a13,a14,a15,a23,a24,a25,a34,a35,a45, solution_dict=True)\n",
    "\n",
    "show(m)\n",
    "show(sol)\n",
    "#latex(sol)"
   ]
  },
  {
   "cell_type": "code",
   "execution_count": 57,
   "metadata": {},
   "outputs": [
    {
     "data": {
      "text/html": [
       "<html><script type=\"math/tex; mode=display\">\\newcommand{\\Bold}[1]{\\mathbf{#1}}\\left(\\begin{array}{rrrrr}\n",
       "0 & 0 & 0 & 0 & 0 \\\\\n",
       "0 & 0 & 1 & 1 & 1 \\\\\n",
       "0 & 0 & 0 & 0 & 1 \\\\\n",
       "0 & 0 & 0 & 0 & 0 \\\\\n",
       "0 & 0 & 0 & 0 & 0\n",
       "\\end{array}\\right)</script></html>"
      ],
      "text/latex": [
       "$$\\newcommand{\\Bold}[1]{\\mathbf{#1}}\\left(\\begin{array}{rrrrr}\n",
       "0 & 0 & 0 & 0 & 0 \\\\\n",
       "0 & 0 & 1 & 1 & 1 \\\\\n",
       "0 & 0 & 0 & 0 & 1 \\\\\n",
       "0 & 0 & 0 & 0 & 0 \\\\\n",
       "0 & 0 & 0 & 0 & 0\n",
       "\\end{array}\\right)$$"
      ],
      "text/plain": [
       "[0 0 0 0 0]\n",
       "[0 0 1 1 1]\n",
       "[0 0 0 0 1]\n",
       "[0 0 0 0 0]\n",
       "[0 0 0 0 0]"
      ]
     },
     "metadata": {},
     "output_type": "display_data"
    },
    {
     "data": {
      "text/html": [
       "<html><script type=\"math/tex; mode=display\">\\newcommand{\\Bold}[1]{\\mathbf{#1}}\\left[\\left\\{d_{1} : r_{1220}, d_{2} : 0, d_{3} : 0, d_{4} : r_{1221}, d_{5} : 0, a_{12} : r_{1222}, a_{13} : r_{1223}, a_{14} : r_{1224}, a_{15} : r_{1225}, a_{23} : r_{1226}, a_{24} : r_{1227}, a_{25} : r_{1228}, a_{34} : -\\frac{r_{1221} x_{24}}{x_{23}}, a_{35} : r_{1229}, a_{45} : r_{1230}\\right\\}, \\left\\{d_{1} : r_{1231}, d_{2} : r_{1232}, d_{3} : \\frac{r_{1232}}{x_{23}}, d_{4} : r_{1233}, d_{5} : \\frac{r_{1232}}{x_{23} x_{35}}, a_{12} : 0, a_{13} : 0, a_{14} : r_{1234}, a_{15} : r_{1235}, a_{23} : r_{1236}, a_{24} : r_{1237}, a_{25} : r_{1238}, a_{34} : -\\frac{r_{1233} x_{24} - r_{1232}}{x_{23}}, a_{35} : r_{1239}, a_{45} : -\\frac{r_{1232} x_{25} + {\\left(r_{1239} x_{23}^{2} - {\\left(r_{1232} + r_{1236}\\right)} x_{23}\\right)} x_{35}}{x_{23} x_{24} x_{35}}\\right\\}\\right]</script></html>"
      ],
      "text/latex": [
       "$$\\newcommand{\\Bold}[1]{\\mathbf{#1}}\\left[\\left\\{d_{1} : r_{1220}, d_{2} : 0, d_{3} : 0, d_{4} : r_{1221}, d_{5} : 0, a_{12} : r_{1222}, a_{13} : r_{1223}, a_{14} : r_{1224}, a_{15} : r_{1225}, a_{23} : r_{1226}, a_{24} : r_{1227}, a_{25} : r_{1228}, a_{34} : -\\frac{r_{1221} x_{24}}{x_{23}}, a_{35} : r_{1229}, a_{45} : r_{1230}\\right\\}, \\left\\{d_{1} : r_{1231}, d_{2} : r_{1232}, d_{3} : \\frac{r_{1232}}{x_{23}}, d_{4} : r_{1233}, d_{5} : \\frac{r_{1232}}{x_{23} x_{35}}, a_{12} : 0, a_{13} : 0, a_{14} : r_{1234}, a_{15} : r_{1235}, a_{23} : r_{1236}, a_{24} : r_{1237}, a_{25} : r_{1238}, a_{34} : -\\frac{r_{1233} x_{24} - r_{1232}}{x_{23}}, a_{35} : r_{1239}, a_{45} : -\\frac{r_{1232} x_{25} + {\\left(r_{1239} x_{23}^{2} - {\\left(r_{1232} + r_{1236}\\right)} x_{23}\\right)} x_{35}}{x_{23} x_{24} x_{35}}\\right\\}\\right]$$"
      ],
      "text/plain": [
       "[{d1: r1220,\n",
       "  d2: 0,\n",
       "  d3: 0,\n",
       "  d4: r1221,\n",
       "  d5: 0,\n",
       "  a12: r1222,\n",
       "  a13: r1223,\n",
       "  a14: r1224,\n",
       "  a15: r1225,\n",
       "  a23: r1226,\n",
       "  a24: r1227,\n",
       "  a25: r1228,\n",
       "  a34: -r1221*x24/x23,\n",
       "  a35: r1229,\n",
       "  a45: r1230},\n",
       " {d1: r1231,\n",
       "  d2: r1232,\n",
       "  d3: r1232/x23,\n",
       "  d4: r1233,\n",
       "  d5: r1232/(x23*x35),\n",
       "  a12: 0,\n",
       "  a13: 0,\n",
       "  a14: r1234,\n",
       "  a15: r1235,\n",
       "  a23: r1236,\n",
       "  a24: r1237,\n",
       "  a25: r1238,\n",
       "  a34: -(r1233*x24 - r1232)/x23,\n",
       "  a35: r1239,\n",
       "  a45: -(r1232*x25 + (r1239*x23^2 - (r1232 + r1236)*x23)*x35)/(x23*x24*x35)}]"
      ]
     },
     "metadata": {},
     "output_type": "display_data"
    }
   ],
   "source": [
    "#x3\n",
    "reset()\n",
    "\n",
    "var('x12,x13,x14,x15,x23,x24,x25,x34,x35,x45')\n",
    "var('d1,d2,d3,d4,d5')\n",
    "var('a12,a13,a14,a15,a23,a24,a25,a34,a35,a45')\n",
    "\n",
    "load_attach_path('C:\\\\Users\\\\julia\\\\Documents\\\\unb\\\\doutorado\\\\pensar\\\\codigo_sage_v2\\\\maquina\\\\x3')\n",
    "load('out_#111000.sage')\n",
    "\n",
    "m=matrix(QQ, [[0, 0, 0, 0, 0],\n",
    "              [0, 0, 1, 1, 1],\n",
    "              [0, 0, 0, 0, 1],\n",
    "              [0, 0, 0, 0, 0],\n",
    "              [0, 0, 0, 0, 0]])\n",
    "        \n",
    "#entry of matrix: (i,j) line i collum j, means (i-1,j-1)\n",
    "sol=solve([ eq1==m[0,2],\teq2==m[0,3],\teq3==m[0,4],\teq4==m[1,2],\t\n",
    "                                            eq5==m[1,3],    eq6==m[1,4],\n",
    "                                                            eq7==m[2,4]],d1,d2,d3,d4,d5,a12,a13,a14,a15,a23,a24,a25,a34,a35,a45, solution_dict=True)\n",
    "\n",
    "show(m)\n",
    "show(sol)\n",
    "#latex(sol)"
   ]
  },
  {
   "cell_type": "code",
   "execution_count": 58,
   "metadata": {},
   "outputs": [
    {
     "data": {
      "text/html": [
       "<html><script type=\"math/tex; mode=display\">\\newcommand{\\Bold}[1]{\\mathbf{#1}}\\left(\\begin{array}{rrrrr}\n",
       "0 & 0 & 0 & 0 & 1 \\\\\n",
       "0 & 0 & 1 & 1 & 1 \\\\\n",
       "0 & 0 & 0 & 0 & 1 \\\\\n",
       "0 & 0 & 0 & 0 & 0 \\\\\n",
       "0 & 0 & 0 & 0 & 0\n",
       "\\end{array}\\right)</script></html>"
      ],
      "text/latex": [
       "$$\\newcommand{\\Bold}[1]{\\mathbf{#1}}\\left(\\begin{array}{rrrrr}\n",
       "0 & 0 & 0 & 0 & 1 \\\\\n",
       "0 & 0 & 1 & 1 & 1 \\\\\n",
       "0 & 0 & 0 & 0 & 1 \\\\\n",
       "0 & 0 & 0 & 0 & 0 \\\\\n",
       "0 & 0 & 0 & 0 & 0\n",
       "\\end{array}\\right)$$"
      ],
      "text/plain": [
       "[0 0 0 0 1]\n",
       "[0 0 1 1 1]\n",
       "[0 0 0 0 1]\n",
       "[0 0 0 0 0]\n",
       "[0 0 0 0 0]"
      ]
     },
     "metadata": {},
     "output_type": "display_data"
    },
    {
     "data": {
      "text/html": [
       "<html><script type=\"math/tex; mode=display\">\\newcommand{\\Bold}[1]{\\mathbf{#1}}\\left[\\left\\{d_{1} : r_{1240}, d_{2} : 0, d_{3} : 0, d_{4} : r_{1241}, d_{5} : 0, a_{12} : r_{1242}, a_{13} : r_{1243}, a_{14} : r_{1244}, a_{15} : r_{1245}, a_{23} : r_{1246}, a_{24} : r_{1247}, a_{25} : r_{1248}, a_{34} : -\\frac{r_{1241} x_{24}}{x_{23}}, a_{35} : r_{1249}, a_{45} : r_{1250}\\right\\}, \\left\\{d_{1} : r_{1251}, d_{2} : r_{1252}, d_{3} : \\frac{r_{1252}}{x_{23}}, d_{4} : r_{1253}, d_{5} : \\frac{r_{1252}}{x_{23} x_{35}}, a_{12} : 0, a_{13} : -\\frac{r_{1251} x_{23} x_{35} - r_{1252} x_{15}}{x_{23} x_{35}}, a_{14} : r_{1254}, a_{15} : r_{1255}, a_{23} : r_{1256}, a_{24} : r_{1257}, a_{25} : r_{1258}, a_{34} : -\\frac{r_{1253} x_{24} - r_{1252}}{x_{23}}, a_{35} : r_{1259}, a_{45} : -\\frac{r_{1252} x_{25} + {\\left(r_{1259} x_{23}^{2} - {\\left(r_{1252} + r_{1256}\\right)} x_{23}\\right)} x_{35}}{x_{23} x_{24} x_{35}}\\right\\}\\right]</script></html>"
      ],
      "text/latex": [
       "$$\\newcommand{\\Bold}[1]{\\mathbf{#1}}\\left[\\left\\{d_{1} : r_{1240}, d_{2} : 0, d_{3} : 0, d_{4} : r_{1241}, d_{5} : 0, a_{12} : r_{1242}, a_{13} : r_{1243}, a_{14} : r_{1244}, a_{15} : r_{1245}, a_{23} : r_{1246}, a_{24} : r_{1247}, a_{25} : r_{1248}, a_{34} : -\\frac{r_{1241} x_{24}}{x_{23}}, a_{35} : r_{1249}, a_{45} : r_{1250}\\right\\}, \\left\\{d_{1} : r_{1251}, d_{2} : r_{1252}, d_{3} : \\frac{r_{1252}}{x_{23}}, d_{4} : r_{1253}, d_{5} : \\frac{r_{1252}}{x_{23} x_{35}}, a_{12} : 0, a_{13} : -\\frac{r_{1251} x_{23} x_{35} - r_{1252} x_{15}}{x_{23} x_{35}}, a_{14} : r_{1254}, a_{15} : r_{1255}, a_{23} : r_{1256}, a_{24} : r_{1257}, a_{25} : r_{1258}, a_{34} : -\\frac{r_{1253} x_{24} - r_{1252}}{x_{23}}, a_{35} : r_{1259}, a_{45} : -\\frac{r_{1252} x_{25} + {\\left(r_{1259} x_{23}^{2} - {\\left(r_{1252} + r_{1256}\\right)} x_{23}\\right)} x_{35}}{x_{23} x_{24} x_{35}}\\right\\}\\right]$$"
      ],
      "text/plain": [
       "[{d1: r1240,\n",
       "  d2: 0,\n",
       "  d3: 0,\n",
       "  d4: r1241,\n",
       "  d5: 0,\n",
       "  a12: r1242,\n",
       "  a13: r1243,\n",
       "  a14: r1244,\n",
       "  a15: r1245,\n",
       "  a23: r1246,\n",
       "  a24: r1247,\n",
       "  a25: r1248,\n",
       "  a34: -r1241*x24/x23,\n",
       "  a35: r1249,\n",
       "  a45: r1250},\n",
       " {d1: r1251,\n",
       "  d2: r1252,\n",
       "  d3: r1252/x23,\n",
       "  d4: r1253,\n",
       "  d5: r1252/(x23*x35),\n",
       "  a12: 0,\n",
       "  a13: -(r1251*x23*x35 - r1252*x15)/(x23*x35),\n",
       "  a14: r1254,\n",
       "  a15: r1255,\n",
       "  a23: r1256,\n",
       "  a24: r1257,\n",
       "  a25: r1258,\n",
       "  a34: -(r1253*x24 - r1252)/x23,\n",
       "  a35: r1259,\n",
       "  a45: -(r1252*x25 + (r1259*x23^2 - (r1252 + r1256)*x23)*x35)/(x23*x24*x35)}]"
      ]
     },
     "metadata": {},
     "output_type": "display_data"
    }
   ],
   "source": [
    "#x3\n",
    "reset()\n",
    "\n",
    "var('x12,x13,x14,x15,x23,x24,x25,x34,x35,x45')\n",
    "var('d1,d2,d3,d4,d5')\n",
    "var('a12,a13,a14,a15,a23,a24,a25,a34,a35,a45')\n",
    "\n",
    "load_attach_path('C:\\\\Users\\\\julia\\\\Documents\\\\unb\\\\doutorado\\\\pensar\\\\codigo_sage_v2\\\\maquina\\\\x3')\n",
    "load('out_#111001.sage')\n",
    "\n",
    "m=matrix(QQ, [[0, 0, 0, 0, 1],\n",
    "              [0, 0, 1, 1, 1],\n",
    "              [0, 0, 0, 0, 1],\n",
    "              [0, 0, 0, 0, 0],\n",
    "              [0, 0, 0, 0, 0]])\n",
    "        \n",
    "#entry of matrix: (i,j) line i collum j, means (i-1,j-1)\n",
    "sol=solve([ eq1==m[0,2],\teq2==m[0,3],\teq3==m[0,4],\teq4==m[1,2],\t\n",
    "                                            eq5==m[1,3],    eq6==m[1,4],\n",
    "                                                            eq7==m[2,4]],d1,d2,d3,d4,d5,a12,a13,a14,a15,a23,a24,a25,a34,a35,a45, solution_dict=True)\n",
    "\n",
    "show(m)\n",
    "show(sol)\n",
    "#latex(sol)"
   ]
  },
  {
   "cell_type": "code",
   "execution_count": 59,
   "metadata": {},
   "outputs": [
    {
     "data": {
      "text/html": [
       "<html><script type=\"math/tex; mode=display\">\\newcommand{\\Bold}[1]{\\mathbf{#1}}\\left(\\begin{array}{rrrrr}\n",
       "0 & 0 & 0 & 1 & 0 \\\\\n",
       "0 & 0 & 1 & 1 & 1 \\\\\n",
       "0 & 0 & 0 & 0 & 1 \\\\\n",
       "0 & 0 & 0 & 0 & 0 \\\\\n",
       "0 & 0 & 0 & 0 & 0\n",
       "\\end{array}\\right)</script></html>"
      ],
      "text/latex": [
       "$$\\newcommand{\\Bold}[1]{\\mathbf{#1}}\\left(\\begin{array}{rrrrr}\n",
       "0 & 0 & 0 & 1 & 0 \\\\\n",
       "0 & 0 & 1 & 1 & 1 \\\\\n",
       "0 & 0 & 0 & 0 & 1 \\\\\n",
       "0 & 0 & 0 & 0 & 0 \\\\\n",
       "0 & 0 & 0 & 0 & 0\n",
       "\\end{array}\\right)$$"
      ],
      "text/plain": [
       "[0 0 0 1 0]\n",
       "[0 0 1 1 1]\n",
       "[0 0 0 0 1]\n",
       "[0 0 0 0 0]\n",
       "[0 0 0 0 0]"
      ]
     },
     "metadata": {},
     "output_type": "display_data"
    },
    {
     "data": {
      "text/html": [
       "<html><script type=\"math/tex; mode=display\">\\newcommand{\\Bold}[1]{\\mathbf{#1}}\\left[\\left\\{d_{1} : r_{1260}, d_{2} : 0, d_{3} : 0, d_{4} : r_{1261}, d_{5} : 0, a_{12} : r_{1262}, a_{13} : r_{1263}, a_{14} : r_{1264}, a_{15} : r_{1265}, a_{23} : r_{1266}, a_{24} : r_{1267}, a_{25} : r_{1268}, a_{34} : -\\frac{r_{1261} x_{24}}{x_{23}}, a_{35} : r_{1269}, a_{45} : r_{1270}\\right\\}, \\left\\{d_{1} : r_{1271}, d_{2} : 0, d_{3} : 0, d_{4} : \\frac{r_{1271}}{x_{14}}, d_{5} : 0, a_{12} : 0, a_{13} : r_{1272}, a_{14} : r_{1273}, a_{15} : r_{1274}, a_{23} : r_{1275}, a_{24} : r_{1276}, a_{25} : r_{1277}, a_{34} : -\\frac{r_{1271} x_{24}}{x_{14} x_{23}}, a_{35} : r_{1278}, a_{45} : r_{1279}\\right\\}, \\left\\{d_{1} : r_{1280}, d_{2} : r_{1281}, d_{3} : \\frac{r_{1281}}{x_{23}}, d_{4} : \\frac{r_{1280}}{x_{14}}, d_{5} : \\frac{r_{1281}}{x_{23} x_{35}}, a_{12} : 0, a_{13} : r_{1282}, a_{14} : r_{1283}, a_{15} : r_{1284}, a_{23} : r_{1285}, a_{24} : r_{1286}, a_{25} : r_{1287}, a_{34} : \\frac{r_{1281} x_{14} - r_{1280} x_{24}}{x_{14} x_{23}}, a_{35} : -\\frac{r_{1281} x_{14} x_{25} - {\\left({\\left(r_{1281} + r_{1285}\\right)} x_{14} x_{23} - r_{1282} x_{23} x_{24}\\right)} x_{35}}{x_{14} x_{23}^{2} x_{35}}, a_{45} : \\frac{r_{1282}}{x_{14}}\\right\\}\\right]</script></html>"
      ],
      "text/latex": [
       "$$\\newcommand{\\Bold}[1]{\\mathbf{#1}}\\left[\\left\\{d_{1} : r_{1260}, d_{2} : 0, d_{3} : 0, d_{4} : r_{1261}, d_{5} : 0, a_{12} : r_{1262}, a_{13} : r_{1263}, a_{14} : r_{1264}, a_{15} : r_{1265}, a_{23} : r_{1266}, a_{24} : r_{1267}, a_{25} : r_{1268}, a_{34} : -\\frac{r_{1261} x_{24}}{x_{23}}, a_{35} : r_{1269}, a_{45} : r_{1270}\\right\\}, \\left\\{d_{1} : r_{1271}, d_{2} : 0, d_{3} : 0, d_{4} : \\frac{r_{1271}}{x_{14}}, d_{5} : 0, a_{12} : 0, a_{13} : r_{1272}, a_{14} : r_{1273}, a_{15} : r_{1274}, a_{23} : r_{1275}, a_{24} : r_{1276}, a_{25} : r_{1277}, a_{34} : -\\frac{r_{1271} x_{24}}{x_{14} x_{23}}, a_{35} : r_{1278}, a_{45} : r_{1279}\\right\\}, \\left\\{d_{1} : r_{1280}, d_{2} : r_{1281}, d_{3} : \\frac{r_{1281}}{x_{23}}, d_{4} : \\frac{r_{1280}}{x_{14}}, d_{5} : \\frac{r_{1281}}{x_{23} x_{35}}, a_{12} : 0, a_{13} : r_{1282}, a_{14} : r_{1283}, a_{15} : r_{1284}, a_{23} : r_{1285}, a_{24} : r_{1286}, a_{25} : r_{1287}, a_{34} : \\frac{r_{1281} x_{14} - r_{1280} x_{24}}{x_{14} x_{23}}, a_{35} : -\\frac{r_{1281} x_{14} x_{25} - {\\left({\\left(r_{1281} + r_{1285}\\right)} x_{14} x_{23} - r_{1282} x_{23} x_{24}\\right)} x_{35}}{x_{14} x_{23}^{2} x_{35}}, a_{45} : \\frac{r_{1282}}{x_{14}}\\right\\}\\right]$$"
      ],
      "text/plain": [
       "[{d1: r1260,\n",
       "  d2: 0,\n",
       "  d3: 0,\n",
       "  d4: r1261,\n",
       "  d5: 0,\n",
       "  a12: r1262,\n",
       "  a13: r1263,\n",
       "  a14: r1264,\n",
       "  a15: r1265,\n",
       "  a23: r1266,\n",
       "  a24: r1267,\n",
       "  a25: r1268,\n",
       "  a34: -r1261*x24/x23,\n",
       "  a35: r1269,\n",
       "  a45: r1270},\n",
       " {d1: r1271,\n",
       "  d2: 0,\n",
       "  d3: 0,\n",
       "  d4: r1271/x14,\n",
       "  d5: 0,\n",
       "  a12: 0,\n",
       "  a13: r1272,\n",
       "  a14: r1273,\n",
       "  a15: r1274,\n",
       "  a23: r1275,\n",
       "  a24: r1276,\n",
       "  a25: r1277,\n",
       "  a34: -r1271*x24/(x14*x23),\n",
       "  a35: r1278,\n",
       "  a45: r1279},\n",
       " {d1: r1280,\n",
       "  d2: r1281,\n",
       "  d3: r1281/x23,\n",
       "  d4: r1280/x14,\n",
       "  d5: r1281/(x23*x35),\n",
       "  a12: 0,\n",
       "  a13: r1282,\n",
       "  a14: r1283,\n",
       "  a15: r1284,\n",
       "  a23: r1285,\n",
       "  a24: r1286,\n",
       "  a25: r1287,\n",
       "  a34: (r1281*x14 - r1280*x24)/(x14*x23),\n",
       "  a35: -(r1281*x14*x25 - ((r1281 + r1285)*x14*x23 - r1282*x23*x24)*x35)/(x14*x23^2*x35),\n",
       "  a45: r1282/x14}]"
      ]
     },
     "metadata": {},
     "output_type": "display_data"
    }
   ],
   "source": [
    "#x3\n",
    "reset()\n",
    "\n",
    "var('x12,x13,x14,x15,x23,x24,x25,x34,x35,x45')\n",
    "var('d1,d2,d3,d4,d5')\n",
    "var('a12,a13,a14,a15,a23,a24,a25,a34,a35,a45')\n",
    "\n",
    "load_attach_path('C:\\\\Users\\\\julia\\\\Documents\\\\unb\\\\doutorado\\\\pensar\\\\codigo_sage_v2\\\\maquina\\\\x3')\n",
    "load('out_#111010.sage')\n",
    "\n",
    "m=matrix(QQ, [[0, 0, 0, 1, 0],\n",
    "              [0, 0, 1, 1, 1],\n",
    "              [0, 0, 0, 0, 1],\n",
    "              [0, 0, 0, 0, 0],\n",
    "              [0, 0, 0, 0, 0]])\n",
    "        \n",
    "#entry of matrix: (i,j) line i collum j, means (i-1,j-1)\n",
    "sol=solve([ eq1==m[0,2],\teq2==m[0,3],\teq3==m[0,4],\teq4==m[1,2],\t\n",
    "                                            eq5==m[1,3],    eq6==m[1,4],\n",
    "                                                            eq7==m[2,4]],d1,d2,d3,d4,d5,a12,a13,a14,a15,a23,a24,a25,a34,a35,a45, solution_dict=True)\n",
    "\n",
    "show(m)\n",
    "show(sol)\n",
    "#latex(sol)"
   ]
  },
  {
   "cell_type": "code",
   "execution_count": 60,
   "metadata": {},
   "outputs": [
    {
     "data": {
      "text/html": [
       "<html><script type=\"math/tex; mode=display\">\\newcommand{\\Bold}[1]{\\mathbf{#1}}\\left(\\begin{array}{rrrrr}\n",
       "0 & 0 & 0 & 1 & 1 \\\\\n",
       "0 & 0 & 1 & 1 & 1 \\\\\n",
       "0 & 0 & 0 & 0 & 1 \\\\\n",
       "0 & 0 & 0 & 0 & 0 \\\\\n",
       "0 & 0 & 0 & 0 & 0\n",
       "\\end{array}\\right)</script></html>"
      ],
      "text/latex": [
       "$$\\newcommand{\\Bold}[1]{\\mathbf{#1}}\\left(\\begin{array}{rrrrr}\n",
       "0 & 0 & 0 & 1 & 1 \\\\\n",
       "0 & 0 & 1 & 1 & 1 \\\\\n",
       "0 & 0 & 0 & 0 & 1 \\\\\n",
       "0 & 0 & 0 & 0 & 0 \\\\\n",
       "0 & 0 & 0 & 0 & 0\n",
       "\\end{array}\\right)$$"
      ],
      "text/plain": [
       "[0 0 0 1 1]\n",
       "[0 0 1 1 1]\n",
       "[0 0 0 0 1]\n",
       "[0 0 0 0 0]\n",
       "[0 0 0 0 0]"
      ]
     },
     "metadata": {},
     "output_type": "display_data"
    },
    {
     "data": {
      "text/html": [
       "<html><script type=\"math/tex; mode=display\">\\newcommand{\\Bold}[1]{\\mathbf{#1}}\\left[\\left\\{d_{1} : r_{1288}, d_{2} : 0, d_{3} : 0, d_{4} : r_{1289}, d_{5} : 0, a_{12} : r_{1290}, a_{13} : r_{1291}, a_{14} : r_{1292}, a_{15} : r_{1293}, a_{23} : r_{1294}, a_{24} : r_{1295}, a_{25} : r_{1296}, a_{34} : -\\frac{r_{1289} x_{24}}{x_{23}}, a_{35} : r_{1297}, a_{45} : r_{1298}\\right\\}, \\left\\{d_{1} : r_{1299}, d_{2} : 0, d_{3} : 0, d_{4} : \\frac{r_{1299}}{x_{14}}, d_{5} : 0, a_{12} : 0, a_{13} : r_{1300}, a_{14} : r_{1301}, a_{15} : r_{1302}, a_{23} : r_{1303}, a_{24} : r_{1304}, a_{25} : r_{1305}, a_{34} : -\\frac{r_{1299} x_{24}}{x_{14} x_{23}}, a_{35} : r_{1306}, a_{45} : r_{1307}\\right\\}, \\left\\{d_{1} : r_{1308}, d_{2} : r_{1309}, d_{3} : \\frac{r_{1309}}{x_{23}}, d_{4} : \\frac{r_{1308}}{x_{14}}, d_{5} : \\frac{r_{1309}}{x_{23} x_{35}}, a_{12} : 0, a_{13} : r_{1310}, a_{14} : r_{1311}, a_{15} : r_{1312}, a_{23} : r_{1313}, a_{24} : r_{1314}, a_{25} : r_{1315}, a_{34} : \\frac{r_{1309} x_{14} - r_{1308} x_{24}}{x_{14} x_{23}}, a_{35} : \\frac{r_{1309} x_{15} x_{24} - r_{1309} x_{14} x_{25} + {\\left({\\left(r_{1309} + r_{1313}\\right)} x_{14} x_{23} - {\\left(r_{1308} + r_{1310}\\right)} x_{23} x_{24}\\right)} x_{35}}{x_{14} x_{23}^{2} x_{35}}, a_{45} : \\frac{{\\left(r_{1308} + r_{1310}\\right)} x_{23} x_{35} - r_{1309} x_{15}}{x_{14} x_{23} x_{35}}\\right\\}\\right]</script></html>"
      ],
      "text/latex": [
       "$$\\newcommand{\\Bold}[1]{\\mathbf{#1}}\\left[\\left\\{d_{1} : r_{1288}, d_{2} : 0, d_{3} : 0, d_{4} : r_{1289}, d_{5} : 0, a_{12} : r_{1290}, a_{13} : r_{1291}, a_{14} : r_{1292}, a_{15} : r_{1293}, a_{23} : r_{1294}, a_{24} : r_{1295}, a_{25} : r_{1296}, a_{34} : -\\frac{r_{1289} x_{24}}{x_{23}}, a_{35} : r_{1297}, a_{45} : r_{1298}\\right\\}, \\left\\{d_{1} : r_{1299}, d_{2} : 0, d_{3} : 0, d_{4} : \\frac{r_{1299}}{x_{14}}, d_{5} : 0, a_{12} : 0, a_{13} : r_{1300}, a_{14} : r_{1301}, a_{15} : r_{1302}, a_{23} : r_{1303}, a_{24} : r_{1304}, a_{25} : r_{1305}, a_{34} : -\\frac{r_{1299} x_{24}}{x_{14} x_{23}}, a_{35} : r_{1306}, a_{45} : r_{1307}\\right\\}, \\left\\{d_{1} : r_{1308}, d_{2} : r_{1309}, d_{3} : \\frac{r_{1309}}{x_{23}}, d_{4} : \\frac{r_{1308}}{x_{14}}, d_{5} : \\frac{r_{1309}}{x_{23} x_{35}}, a_{12} : 0, a_{13} : r_{1310}, a_{14} : r_{1311}, a_{15} : r_{1312}, a_{23} : r_{1313}, a_{24} : r_{1314}, a_{25} : r_{1315}, a_{34} : \\frac{r_{1309} x_{14} - r_{1308} x_{24}}{x_{14} x_{23}}, a_{35} : \\frac{r_{1309} x_{15} x_{24} - r_{1309} x_{14} x_{25} + {\\left({\\left(r_{1309} + r_{1313}\\right)} x_{14} x_{23} - {\\left(r_{1308} + r_{1310}\\right)} x_{23} x_{24}\\right)} x_{35}}{x_{14} x_{23}^{2} x_{35}}, a_{45} : \\frac{{\\left(r_{1308} + r_{1310}\\right)} x_{23} x_{35} - r_{1309} x_{15}}{x_{14} x_{23} x_{35}}\\right\\}\\right]$$"
      ],
      "text/plain": [
       "[{d1: r1288,\n",
       "  d2: 0,\n",
       "  d3: 0,\n",
       "  d4: r1289,\n",
       "  d5: 0,\n",
       "  a12: r1290,\n",
       "  a13: r1291,\n",
       "  a14: r1292,\n",
       "  a15: r1293,\n",
       "  a23: r1294,\n",
       "  a24: r1295,\n",
       "  a25: r1296,\n",
       "  a34: -r1289*x24/x23,\n",
       "  a35: r1297,\n",
       "  a45: r1298},\n",
       " {d1: r1299,\n",
       "  d2: 0,\n",
       "  d3: 0,\n",
       "  d4: r1299/x14,\n",
       "  d5: 0,\n",
       "  a12: 0,\n",
       "  a13: r1300,\n",
       "  a14: r1301,\n",
       "  a15: r1302,\n",
       "  a23: r1303,\n",
       "  a24: r1304,\n",
       "  a25: r1305,\n",
       "  a34: -r1299*x24/(x14*x23),\n",
       "  a35: r1306,\n",
       "  a45: r1307},\n",
       " {d1: r1308,\n",
       "  d2: r1309,\n",
       "  d3: r1309/x23,\n",
       "  d4: r1308/x14,\n",
       "  d5: r1309/(x23*x35),\n",
       "  a12: 0,\n",
       "  a13: r1310,\n",
       "  a14: r1311,\n",
       "  a15: r1312,\n",
       "  a23: r1313,\n",
       "  a24: r1314,\n",
       "  a25: r1315,\n",
       "  a34: (r1309*x14 - r1308*x24)/(x14*x23),\n",
       "  a35: (r1309*x15*x24 - r1309*x14*x25 + ((r1309 + r1313)*x14*x23 - (r1308 + r1310)*x23*x24)*x35)/(x14*x23^2*x35),\n",
       "  a45: ((r1308 + r1310)*x23*x35 - r1309*x15)/(x14*x23*x35)}]"
      ]
     },
     "metadata": {},
     "output_type": "display_data"
    }
   ],
   "source": [
    "#x3\n",
    "reset()\n",
    "\n",
    "var('x12,x13,x14,x15,x23,x24,x25,x34,x35,x45')\n",
    "var('d1,d2,d3,d4,d5')\n",
    "var('a12,a13,a14,a15,a23,a24,a25,a34,a35,a45')\n",
    "\n",
    "load_attach_path('C:\\\\Users\\\\julia\\\\Documents\\\\unb\\\\doutorado\\\\pensar\\\\codigo_sage_v2\\\\maquina\\\\x3')\n",
    "load('out_#111011.sage')\n",
    "\n",
    "m=matrix(QQ, [[0, 0, 0, 1, 1],\n",
    "              [0, 0, 1, 1, 1],\n",
    "              [0, 0, 0, 0, 1],\n",
    "              [0, 0, 0, 0, 0],\n",
    "              [0, 0, 0, 0, 0]])\n",
    "        \n",
    "#entry of matrix: (i,j) line i collum j, means (i-1,j-1)\n",
    "sol=solve([ eq1==m[0,2],\teq2==m[0,3],\teq3==m[0,4],\teq4==m[1,2],\t\n",
    "                                            eq5==m[1,3],    eq6==m[1,4],\n",
    "                                                            eq7==m[2,4]],d1,d2,d3,d4,d5,a12,a13,a14,a15,a23,a24,a25,a34,a35,a45, solution_dict=True)\n",
    "\n",
    "show(m)\n",
    "show(sol)\n",
    "#latex(sol)"
   ]
  },
  {
   "cell_type": "code",
   "execution_count": 61,
   "metadata": {},
   "outputs": [
    {
     "data": {
      "text/html": [
       "<html><script type=\"math/tex; mode=display\">\\newcommand{\\Bold}[1]{\\mathbf{#1}}\\left(\\begin{array}{rrrrr}\n",
       "0 & 0 & 1 & 0 & 0 \\\\\n",
       "0 & 0 & 1 & 1 & 1 \\\\\n",
       "0 & 0 & 0 & 0 & 1 \\\\\n",
       "0 & 0 & 0 & 0 & 0 \\\\\n",
       "0 & 0 & 0 & 0 & 0\n",
       "\\end{array}\\right)</script></html>"
      ],
      "text/latex": [
       "$$\\newcommand{\\Bold}[1]{\\mathbf{#1}}\\left(\\begin{array}{rrrrr}\n",
       "0 & 0 & 1 & 0 & 0 \\\\\n",
       "0 & 0 & 1 & 1 & 1 \\\\\n",
       "0 & 0 & 0 & 0 & 1 \\\\\n",
       "0 & 0 & 0 & 0 & 0 \\\\\n",
       "0 & 0 & 0 & 0 & 0\n",
       "\\end{array}\\right)$$"
      ],
      "text/plain": [
       "[0 0 1 0 0]\n",
       "[0 0 1 1 1]\n",
       "[0 0 0 0 1]\n",
       "[0 0 0 0 0]\n",
       "[0 0 0 0 0]"
      ]
     },
     "metadata": {},
     "output_type": "display_data"
    },
    {
     "data": {
      "text/html": [
       "<html><script type=\"math/tex; mode=display\">\\newcommand{\\Bold}[1]{\\mathbf{#1}}\\left[\\left\\{d_{1} : r_{1316}, d_{2} : 0, d_{3} : 0, d_{4} : r_{1317}, d_{5} : 0, a_{12} : r_{1318}, a_{13} : r_{1319}, a_{14} : r_{1320}, a_{15} : r_{1321}, a_{23} : r_{1322}, a_{24} : r_{1323}, a_{25} : r_{1324}, a_{34} : -\\frac{r_{1317} x_{24}}{x_{23}}, a_{35} : r_{1325}, a_{45} : r_{1326}\\right\\}, \\left\\{d_{1} : r_{1327}, d_{2} : r_{1328}, d_{3} : \\frac{r_{1328}}{x_{23}}, d_{4} : \\frac{r_{1327} x_{23}}{x_{13} x_{24}}, d_{5} : \\frac{r_{1328}}{x_{23} x_{35}}, a_{12} : \\frac{r_{1328} x_{13} - r_{1327} x_{23}}{x_{23}}, a_{13} : r_{1329}, a_{14} : r_{1330}, a_{15} : r_{1331}, a_{23} : r_{1332}, a_{24} : r_{1333}, a_{25} : r_{1334}, a_{34} : \\frac{r_{1328} x_{13} - r_{1327} x_{23}}{x_{13} x_{23}}, a_{35} : \\frac{r_{1328} x_{13} - {\\left(r_{1327} - r_{1329}\\right)} x_{23}}{x_{13} x_{23}}, a_{45} : -\\frac{r_{1328} x_{13} x_{25} - {\\left(r_{1332} x_{13} x_{23} + {\\left(r_{1327} - r_{1329}\\right)} x_{23}^{2}\\right)} x_{35}}{x_{13} x_{23} x_{24} x_{35}}\\right\\}, \\left\\{d_{1} : 0, d_{2} : 0, d_{3} : 0, d_{4} : 0, d_{5} : 0, a_{12} : 0, a_{13} : r_{1335}, a_{14} : r_{1336}, a_{15} : r_{1337}, a_{23} : r_{1338}, a_{24} : r_{1339}, a_{25} : r_{1340}, a_{34} : 0, a_{35} : \\frac{r_{1335}}{x_{13}}, a_{45} : \\frac{r_{1338} x_{13} x_{23} - r_{1335} x_{23}^{2}}{x_{13} x_{23} x_{24}}\\right\\}\\right]</script></html>"
      ],
      "text/latex": [
       "$$\\newcommand{\\Bold}[1]{\\mathbf{#1}}\\left[\\left\\{d_{1} : r_{1316}, d_{2} : 0, d_{3} : 0, d_{4} : r_{1317}, d_{5} : 0, a_{12} : r_{1318}, a_{13} : r_{1319}, a_{14} : r_{1320}, a_{15} : r_{1321}, a_{23} : r_{1322}, a_{24} : r_{1323}, a_{25} : r_{1324}, a_{34} : -\\frac{r_{1317} x_{24}}{x_{23}}, a_{35} : r_{1325}, a_{45} : r_{1326}\\right\\}, \\left\\{d_{1} : r_{1327}, d_{2} : r_{1328}, d_{3} : \\frac{r_{1328}}{x_{23}}, d_{4} : \\frac{r_{1327} x_{23}}{x_{13} x_{24}}, d_{5} : \\frac{r_{1328}}{x_{23} x_{35}}, a_{12} : \\frac{r_{1328} x_{13} - r_{1327} x_{23}}{x_{23}}, a_{13} : r_{1329}, a_{14} : r_{1330}, a_{15} : r_{1331}, a_{23} : r_{1332}, a_{24} : r_{1333}, a_{25} : r_{1334}, a_{34} : \\frac{r_{1328} x_{13} - r_{1327} x_{23}}{x_{13} x_{23}}, a_{35} : \\frac{r_{1328} x_{13} - {\\left(r_{1327} - r_{1329}\\right)} x_{23}}{x_{13} x_{23}}, a_{45} : -\\frac{r_{1328} x_{13} x_{25} - {\\left(r_{1332} x_{13} x_{23} + {\\left(r_{1327} - r_{1329}\\right)} x_{23}^{2}\\right)} x_{35}}{x_{13} x_{23} x_{24} x_{35}}\\right\\}, \\left\\{d_{1} : 0, d_{2} : 0, d_{3} : 0, d_{4} : 0, d_{5} : 0, a_{12} : 0, a_{13} : r_{1335}, a_{14} : r_{1336}, a_{15} : r_{1337}, a_{23} : r_{1338}, a_{24} : r_{1339}, a_{25} : r_{1340}, a_{34} : 0, a_{35} : \\frac{r_{1335}}{x_{13}}, a_{45} : \\frac{r_{1338} x_{13} x_{23} - r_{1335} x_{23}^{2}}{x_{13} x_{23} x_{24}}\\right\\}\\right]$$"
      ],
      "text/plain": [
       "[{d1: r1316,\n",
       "  d2: 0,\n",
       "  d3: 0,\n",
       "  d4: r1317,\n",
       "  d5: 0,\n",
       "  a12: r1318,\n",
       "  a13: r1319,\n",
       "  a14: r1320,\n",
       "  a15: r1321,\n",
       "  a23: r1322,\n",
       "  a24: r1323,\n",
       "  a25: r1324,\n",
       "  a34: -r1317*x24/x23,\n",
       "  a35: r1325,\n",
       "  a45: r1326},\n",
       " {d1: r1327,\n",
       "  d2: r1328,\n",
       "  d3: r1328/x23,\n",
       "  d4: r1327*x23/(x13*x24),\n",
       "  d5: r1328/(x23*x35),\n",
       "  a12: (r1328*x13 - r1327*x23)/x23,\n",
       "  a13: r1329,\n",
       "  a14: r1330,\n",
       "  a15: r1331,\n",
       "  a23: r1332,\n",
       "  a24: r1333,\n",
       "  a25: r1334,\n",
       "  a34: (r1328*x13 - r1327*x23)/(x13*x23),\n",
       "  a35: (r1328*x13 - (r1327 - r1329)*x23)/(x13*x23),\n",
       "  a45: -(r1328*x13*x25 - (r1332*x13*x23 + (r1327 - r1329)*x23^2)*x35)/(x13*x23*x24*x35)},\n",
       " {d1: 0,\n",
       "  d2: 0,\n",
       "  d3: 0,\n",
       "  d4: 0,\n",
       "  d5: 0,\n",
       "  a12: 0,\n",
       "  a13: r1335,\n",
       "  a14: r1336,\n",
       "  a15: r1337,\n",
       "  a23: r1338,\n",
       "  a24: r1339,\n",
       "  a25: r1340,\n",
       "  a34: 0,\n",
       "  a35: r1335/x13,\n",
       "  a45: (r1338*x13*x23 - r1335*x23^2)/(x13*x23*x24)}]"
      ]
     },
     "metadata": {},
     "output_type": "display_data"
    }
   ],
   "source": [
    "#x3\n",
    "reset()\n",
    "\n",
    "var('x12,x13,x14,x15,x23,x24,x25,x34,x35,x45')\n",
    "var('d1,d2,d3,d4,d5')\n",
    "var('a12,a13,a14,a15,a23,a24,a25,a34,a35,a45')\n",
    "\n",
    "load_attach_path('C:\\\\Users\\\\julia\\\\Documents\\\\unb\\\\doutorado\\\\pensar\\\\codigo_sage_v2\\\\maquina\\\\x3')\n",
    "load('out_#111100.sage')\n",
    "\n",
    "m=matrix(QQ, [[0, 0, 1, 0, 0],\n",
    "              [0, 0, 1, 1, 1],\n",
    "              [0, 0, 0, 0, 1],\n",
    "              [0, 0, 0, 0, 0],\n",
    "              [0, 0, 0, 0, 0]])\n",
    "        \n",
    "#entry of matrix: (i,j) line i collum j, means (i-1,j-1)\n",
    "sol=solve([ eq1==m[0,2],\teq2==m[0,3],\teq3==m[0,4],\teq4==m[1,2],\t\n",
    "                                            eq5==m[1,3],    eq6==m[1,4],\n",
    "                                                            eq7==m[2,4]],d1,d2,d3,d4,d5,a12,a13,a14,a15,a23,a24,a25,a34,a35,a45, solution_dict=True)\n",
    "\n",
    "show(m)\n",
    "show(sol)\n",
    "#latex(sol)"
   ]
  },
  {
   "cell_type": "code",
   "execution_count": 62,
   "metadata": {},
   "outputs": [
    {
     "data": {
      "text/html": [
       "<html><script type=\"math/tex; mode=display\">\\newcommand{\\Bold}[1]{\\mathbf{#1}}\\left(\\begin{array}{rrrrr}\n",
       "0 & 0 & 1 & 0 & 1 \\\\\n",
       "0 & 0 & 1 & 1 & 1 \\\\\n",
       "0 & 0 & 0 & 0 & 1 \\\\\n",
       "0 & 0 & 0 & 0 & 0 \\\\\n",
       "0 & 0 & 0 & 0 & 0\n",
       "\\end{array}\\right)</script></html>"
      ],
      "text/latex": [
       "$$\\newcommand{\\Bold}[1]{\\mathbf{#1}}\\left(\\begin{array}{rrrrr}\n",
       "0 & 0 & 1 & 0 & 1 \\\\\n",
       "0 & 0 & 1 & 1 & 1 \\\\\n",
       "0 & 0 & 0 & 0 & 1 \\\\\n",
       "0 & 0 & 0 & 0 & 0 \\\\\n",
       "0 & 0 & 0 & 0 & 0\n",
       "\\end{array}\\right)$$"
      ],
      "text/plain": [
       "[0 0 1 0 1]\n",
       "[0 0 1 1 1]\n",
       "[0 0 0 0 1]\n",
       "[0 0 0 0 0]\n",
       "[0 0 0 0 0]"
      ]
     },
     "metadata": {},
     "output_type": "display_data"
    },
    {
     "data": {
      "text/html": [
       "<html><script type=\"math/tex; mode=display\">\\newcommand{\\Bold}[1]{\\mathbf{#1}}\\left[\\left\\{d_{1} : r_{1341}, d_{2} : 0, d_{3} : 0, d_{4} : r_{1342}, d_{5} : 0, a_{12} : r_{1343}, a_{13} : r_{1344}, a_{14} : r_{1345}, a_{15} : r_{1346}, a_{23} : r_{1347}, a_{24} : r_{1348}, a_{25} : r_{1349}, a_{34} : -\\frac{r_{1342} x_{24}}{x_{23}}, a_{35} : r_{1350}, a_{45} : r_{1351}\\right\\}, \\left\\{d_{1} : r_{1352}, d_{2} : r_{1353}, d_{3} : \\frac{r_{1353}}{x_{23}}, d_{4} : \\frac{r_{1352} x_{23}}{x_{13} x_{24}}, d_{5} : \\frac{r_{1353}}{x_{23} x_{35}}, a_{12} : \\frac{r_{1353} x_{13} - r_{1352} x_{23}}{x_{23}}, a_{13} : r_{1354}, a_{14} : r_{1355}, a_{15} : r_{1356}, a_{23} : r_{1357}, a_{24} : r_{1358}, a_{25} : r_{1359}, a_{34} : \\frac{r_{1353} x_{13} - r_{1352} x_{23}}{x_{13} x_{23}}, a_{35} : -\\frac{r_{1353} x_{15} - {\\left(r_{1353} x_{13} + r_{1354} x_{23}\\right)} x_{35}}{x_{13} x_{23} x_{35}}, a_{45} : \\frac{r_{1353} x_{15} x_{23} - r_{1353} x_{13} x_{25} + {\\left(r_{1357} x_{13} x_{23} - r_{1354} x_{23}^{2}\\right)} x_{35}}{x_{13} x_{23} x_{24} x_{35}}\\right\\}, \\left\\{d_{1} : 0, d_{2} : 0, d_{3} : 0, d_{4} : 0, d_{5} : 0, a_{12} : 0, a_{13} : r_{1360}, a_{14} : r_{1361}, a_{15} : r_{1362}, a_{23} : r_{1363}, a_{24} : r_{1364}, a_{25} : r_{1365}, a_{34} : 0, a_{35} : \\frac{r_{1360}}{x_{13}}, a_{45} : \\frac{r_{1363} x_{13} x_{23} - r_{1360} x_{23}^{2}}{x_{13} x_{23} x_{24}}\\right\\}\\right]</script></html>"
      ],
      "text/latex": [
       "$$\\newcommand{\\Bold}[1]{\\mathbf{#1}}\\left[\\left\\{d_{1} : r_{1341}, d_{2} : 0, d_{3} : 0, d_{4} : r_{1342}, d_{5} : 0, a_{12} : r_{1343}, a_{13} : r_{1344}, a_{14} : r_{1345}, a_{15} : r_{1346}, a_{23} : r_{1347}, a_{24} : r_{1348}, a_{25} : r_{1349}, a_{34} : -\\frac{r_{1342} x_{24}}{x_{23}}, a_{35} : r_{1350}, a_{45} : r_{1351}\\right\\}, \\left\\{d_{1} : r_{1352}, d_{2} : r_{1353}, d_{3} : \\frac{r_{1353}}{x_{23}}, d_{4} : \\frac{r_{1352} x_{23}}{x_{13} x_{24}}, d_{5} : \\frac{r_{1353}}{x_{23} x_{35}}, a_{12} : \\frac{r_{1353} x_{13} - r_{1352} x_{23}}{x_{23}}, a_{13} : r_{1354}, a_{14} : r_{1355}, a_{15} : r_{1356}, a_{23} : r_{1357}, a_{24} : r_{1358}, a_{25} : r_{1359}, a_{34} : \\frac{r_{1353} x_{13} - r_{1352} x_{23}}{x_{13} x_{23}}, a_{35} : -\\frac{r_{1353} x_{15} - {\\left(r_{1353} x_{13} + r_{1354} x_{23}\\right)} x_{35}}{x_{13} x_{23} x_{35}}, a_{45} : \\frac{r_{1353} x_{15} x_{23} - r_{1353} x_{13} x_{25} + {\\left(r_{1357} x_{13} x_{23} - r_{1354} x_{23}^{2}\\right)} x_{35}}{x_{13} x_{23} x_{24} x_{35}}\\right\\}, \\left\\{d_{1} : 0, d_{2} : 0, d_{3} : 0, d_{4} : 0, d_{5} : 0, a_{12} : 0, a_{13} : r_{1360}, a_{14} : r_{1361}, a_{15} : r_{1362}, a_{23} : r_{1363}, a_{24} : r_{1364}, a_{25} : r_{1365}, a_{34} : 0, a_{35} : \\frac{r_{1360}}{x_{13}}, a_{45} : \\frac{r_{1363} x_{13} x_{23} - r_{1360} x_{23}^{2}}{x_{13} x_{23} x_{24}}\\right\\}\\right]$$"
      ],
      "text/plain": [
       "[{d1: r1341,\n",
       "  d2: 0,\n",
       "  d3: 0,\n",
       "  d4: r1342,\n",
       "  d5: 0,\n",
       "  a12: r1343,\n",
       "  a13: r1344,\n",
       "  a14: r1345,\n",
       "  a15: r1346,\n",
       "  a23: r1347,\n",
       "  a24: r1348,\n",
       "  a25: r1349,\n",
       "  a34: -r1342*x24/x23,\n",
       "  a35: r1350,\n",
       "  a45: r1351},\n",
       " {d1: r1352,\n",
       "  d2: r1353,\n",
       "  d3: r1353/x23,\n",
       "  d4: r1352*x23/(x13*x24),\n",
       "  d5: r1353/(x23*x35),\n",
       "  a12: (r1353*x13 - r1352*x23)/x23,\n",
       "  a13: r1354,\n",
       "  a14: r1355,\n",
       "  a15: r1356,\n",
       "  a23: r1357,\n",
       "  a24: r1358,\n",
       "  a25: r1359,\n",
       "  a34: (r1353*x13 - r1352*x23)/(x13*x23),\n",
       "  a35: -(r1353*x15 - (r1353*x13 + r1354*x23)*x35)/(x13*x23*x35),\n",
       "  a45: (r1353*x15*x23 - r1353*x13*x25 + (r1357*x13*x23 - r1354*x23^2)*x35)/(x13*x23*x24*x35)},\n",
       " {d1: 0,\n",
       "  d2: 0,\n",
       "  d3: 0,\n",
       "  d4: 0,\n",
       "  d5: 0,\n",
       "  a12: 0,\n",
       "  a13: r1360,\n",
       "  a14: r1361,\n",
       "  a15: r1362,\n",
       "  a23: r1363,\n",
       "  a24: r1364,\n",
       "  a25: r1365,\n",
       "  a34: 0,\n",
       "  a35: r1360/x13,\n",
       "  a45: (r1363*x13*x23 - r1360*x23^2)/(x13*x23*x24)}]"
      ]
     },
     "metadata": {},
     "output_type": "display_data"
    }
   ],
   "source": [
    "#x3\n",
    "reset()\n",
    "\n",
    "var('x12,x13,x14,x15,x23,x24,x25,x34,x35,x45')\n",
    "var('d1,d2,d3,d4,d5')\n",
    "var('a12,a13,a14,a15,a23,a24,a25,a34,a35,a45')\n",
    "\n",
    "load_attach_path('C:\\\\Users\\\\julia\\\\Documents\\\\unb\\\\doutorado\\\\pensar\\\\codigo_sage_v2\\\\maquina\\\\x3')\n",
    "load('out_#111101.sage')\n",
    "\n",
    "m=matrix(QQ, [[0, 0, 1, 0, 1],\n",
    "              [0, 0, 1, 1, 1],\n",
    "              [0, 0, 0, 0, 1],\n",
    "              [0, 0, 0, 0, 0],\n",
    "              [0, 0, 0, 0, 0]])\n",
    "        \n",
    "#entry of matrix: (i,j) line i collum j, means (i-1,j-1)\n",
    "sol=solve([ eq1==m[0,2],\teq2==m[0,3],\teq3==m[0,4],\teq4==m[1,2],\t\n",
    "                                            eq5==m[1,3],    eq6==m[1,4],\n",
    "                                                            eq7==m[2,4]],d1,d2,d3,d4,d5,a12,a13,a14,a15,a23,a24,a25,a34,a35,a45, solution_dict=True)\n",
    "\n",
    "show(m)\n",
    "show(sol)\n",
    "#latex(sol)"
   ]
  },
  {
   "cell_type": "code",
   "execution_count": 65,
   "metadata": {},
   "outputs": [
    {
     "data": {
      "text/html": [
       "<html><script type=\"math/tex; mode=display\">\\newcommand{\\Bold}[1]{\\mathbf{#1}}\\left(\\begin{array}{rrrrr}\n",
       "0 & 0 & 1 & 2 & 0 \\\\\n",
       "0 & 0 & 1 & 1 & 1 \\\\\n",
       "0 & 0 & 0 & 0 & 1 \\\\\n",
       "0 & 0 & 0 & 0 & 0 \\\\\n",
       "0 & 0 & 0 & 0 & 0\n",
       "\\end{array}\\right)</script></html>"
      ],
      "text/latex": [
       "$$\\newcommand{\\Bold}[1]{\\mathbf{#1}}\\left(\\begin{array}{rrrrr}\n",
       "0 & 0 & 1 & 2 & 0 \\\\\n",
       "0 & 0 & 1 & 1 & 1 \\\\\n",
       "0 & 0 & 0 & 0 & 1 \\\\\n",
       "0 & 0 & 0 & 0 & 0 \\\\\n",
       "0 & 0 & 0 & 0 & 0\n",
       "\\end{array}\\right)$$"
      ],
      "text/plain": [
       "[0 0 1 2 0]\n",
       "[0 0 1 1 1]\n",
       "[0 0 0 0 1]\n",
       "[0 0 0 0 0]\n",
       "[0 0 0 0 0]"
      ]
     },
     "metadata": {},
     "output_type": "display_data"
    },
    {
     "data": {
      "text/html": [
       "<html><script type=\"math/tex; mode=display\">\\newcommand{\\Bold}[1]{\\mathbf{#1}}\\left[\\left\\{d_{1} : r_{1391}, d_{2} : 0, d_{3} : 0, d_{4} : r_{1392}, d_{5} : 0, a_{12} : r_{1393}, a_{13} : r_{1394}, a_{14} : r_{1395}, a_{15} : r_{1396}, a_{23} : r_{1397}, a_{24} : r_{1398}, a_{25} : r_{1399}, a_{34} : -\\frac{r_{1392} x_{24}}{x_{23}}, a_{35} : r_{1400}, a_{45} : r_{1401}\\right\\}, \\left\\{d_{1} : r_{1402}, d_{2} : r_{1403}, d_{3} : \\frac{r_{1403}}{x_{23}}, d_{4} : \\frac{r_{1402} x_{23}}{x_{14} x_{23} - x_{13} x_{24}}, d_{5} : \\frac{r_{1403}}{x_{23} x_{35}}, a_{12} : \\frac{r_{1403} x_{13} - r_{1402} x_{23}}{x_{23}}, a_{13} : r_{1404}, a_{14} : r_{1405}, a_{15} : r_{1406}, a_{23} : r_{1407}, a_{24} : r_{1408}, a_{25} : r_{1409}, a_{34} : \\frac{r_{1403} x_{14} x_{23} - {\\left(r_{1403} x_{13} + r_{1402} x_{23}\\right)} x_{24}}{x_{14} x_{23}^{2} - x_{13} x_{23} x_{24}}, a_{35} : -\\frac{r_{1403} x_{14} x_{25} - {\\left({\\left(r_{1403} + r_{1407}\\right)} x_{14} x_{23} - {\\left(r_{1403} x_{13} - {\\left(r_{1402} - r_{1404}\\right)} x_{23}\\right)} x_{24}\\right)} x_{35}}{{\\left(x_{14} x_{23}^{2} - x_{13} x_{23} x_{24}\\right)} x_{35}}, a_{45} : \\frac{r_{1403} x_{13} x_{25} - {\\left(r_{1407} x_{13} x_{23} + {\\left(r_{1402} - r_{1404}\\right)} x_{23}^{2}\\right)} x_{35}}{{\\left(x_{14} x_{23}^{2} - x_{13} x_{23} x_{24}\\right)} x_{35}}\\right\\}, \\left\\{d_{1} : 0, d_{2} : 0, d_{3} : 0, d_{4} : 0, d_{5} : 0, a_{12} : 0, a_{13} : r_{1410}, a_{14} : r_{1411}, a_{15} : r_{1412}, a_{23} : r_{1413}, a_{24} : r_{1414}, a_{25} : r_{1415}, a_{34} : 0, a_{35} : \\frac{r_{1413} x_{14} x_{23} - r_{1410} x_{23} x_{24}}{x_{14} x_{23}^{2} - x_{13} x_{23} x_{24}}, a_{45} : -\\frac{r_{1413} x_{13} x_{23} - r_{1410} x_{23}^{2}}{x_{14} x_{23}^{2} - x_{13} x_{23} x_{24}}\\right\\}\\right]</script></html>"
      ],
      "text/latex": [
       "$$\\newcommand{\\Bold}[1]{\\mathbf{#1}}\\left[\\left\\{d_{1} : r_{1391}, d_{2} : 0, d_{3} : 0, d_{4} : r_{1392}, d_{5} : 0, a_{12} : r_{1393}, a_{13} : r_{1394}, a_{14} : r_{1395}, a_{15} : r_{1396}, a_{23} : r_{1397}, a_{24} : r_{1398}, a_{25} : r_{1399}, a_{34} : -\\frac{r_{1392} x_{24}}{x_{23}}, a_{35} : r_{1400}, a_{45} : r_{1401}\\right\\}, \\left\\{d_{1} : r_{1402}, d_{2} : r_{1403}, d_{3} : \\frac{r_{1403}}{x_{23}}, d_{4} : \\frac{r_{1402} x_{23}}{x_{14} x_{23} - x_{13} x_{24}}, d_{5} : \\frac{r_{1403}}{x_{23} x_{35}}, a_{12} : \\frac{r_{1403} x_{13} - r_{1402} x_{23}}{x_{23}}, a_{13} : r_{1404}, a_{14} : r_{1405}, a_{15} : r_{1406}, a_{23} : r_{1407}, a_{24} : r_{1408}, a_{25} : r_{1409}, a_{34} : \\frac{r_{1403} x_{14} x_{23} - {\\left(r_{1403} x_{13} + r_{1402} x_{23}\\right)} x_{24}}{x_{14} x_{23}^{2} - x_{13} x_{23} x_{24}}, a_{35} : -\\frac{r_{1403} x_{14} x_{25} - {\\left({\\left(r_{1403} + r_{1407}\\right)} x_{14} x_{23} - {\\left(r_{1403} x_{13} - {\\left(r_{1402} - r_{1404}\\right)} x_{23}\\right)} x_{24}\\right)} x_{35}}{{\\left(x_{14} x_{23}^{2} - x_{13} x_{23} x_{24}\\right)} x_{35}}, a_{45} : \\frac{r_{1403} x_{13} x_{25} - {\\left(r_{1407} x_{13} x_{23} + {\\left(r_{1402} - r_{1404}\\right)} x_{23}^{2}\\right)} x_{35}}{{\\left(x_{14} x_{23}^{2} - x_{13} x_{23} x_{24}\\right)} x_{35}}\\right\\}, \\left\\{d_{1} : 0, d_{2} : 0, d_{3} : 0, d_{4} : 0, d_{5} : 0, a_{12} : 0, a_{13} : r_{1410}, a_{14} : r_{1411}, a_{15} : r_{1412}, a_{23} : r_{1413}, a_{24} : r_{1414}, a_{25} : r_{1415}, a_{34} : 0, a_{35} : \\frac{r_{1413} x_{14} x_{23} - r_{1410} x_{23} x_{24}}{x_{14} x_{23}^{2} - x_{13} x_{23} x_{24}}, a_{45} : -\\frac{r_{1413} x_{13} x_{23} - r_{1410} x_{23}^{2}}{x_{14} x_{23}^{2} - x_{13} x_{23} x_{24}}\\right\\}\\right]$$"
      ],
      "text/plain": [
       "[{d1: r1391,\n",
       "  d2: 0,\n",
       "  d3: 0,\n",
       "  d4: r1392,\n",
       "  d5: 0,\n",
       "  a12: r1393,\n",
       "  a13: r1394,\n",
       "  a14: r1395,\n",
       "  a15: r1396,\n",
       "  a23: r1397,\n",
       "  a24: r1398,\n",
       "  a25: r1399,\n",
       "  a34: -r1392*x24/x23,\n",
       "  a35: r1400,\n",
       "  a45: r1401},\n",
       " {d1: r1402,\n",
       "  d2: r1403,\n",
       "  d3: r1403/x23,\n",
       "  d4: r1402*x23/(x14*x23 - x13*x24),\n",
       "  d5: r1403/(x23*x35),\n",
       "  a12: (r1403*x13 - r1402*x23)/x23,\n",
       "  a13: r1404,\n",
       "  a14: r1405,\n",
       "  a15: r1406,\n",
       "  a23: r1407,\n",
       "  a24: r1408,\n",
       "  a25: r1409,\n",
       "  a34: (r1403*x14*x23 - (r1403*x13 + r1402*x23)*x24)/(x14*x23^2 - x13*x23*x24),\n",
       "  a35: -(r1403*x14*x25 - ((r1403 + r1407)*x14*x23 - (r1403*x13 - (r1402 - r1404)*x23)*x24)*x35)/((x14*x23^2 - x13*x23*x24)*x35),\n",
       "  a45: (r1403*x13*x25 - (r1407*x13*x23 + (r1402 - r1404)*x23^2)*x35)/((x14*x23^2 - x13*x23*x24)*x35)},\n",
       " {d1: 0,\n",
       "  d2: 0,\n",
       "  d3: 0,\n",
       "  d4: 0,\n",
       "  d5: 0,\n",
       "  a12: 0,\n",
       "  a13: r1410,\n",
       "  a14: r1411,\n",
       "  a15: r1412,\n",
       "  a23: r1413,\n",
       "  a24: r1414,\n",
       "  a25: r1415,\n",
       "  a34: 0,\n",
       "  a35: (r1413*x14*x23 - r1410*x23*x24)/(x14*x23^2 - x13*x23*x24),\n",
       "  a45: -(r1413*x13*x23 - r1410*x23^2)/(x14*x23^2 - x13*x23*x24)}]"
      ]
     },
     "metadata": {},
     "output_type": "display_data"
    }
   ],
   "source": [
    "#x3\n",
    "#----------------------\n",
    "#x14 \\neq x13*x24/x23\n",
    "#----------------------\n",
    "reset()\n",
    "\n",
    "var('x12,x13,x14,x15,x23,x24,x25,x34,x35,x45')\n",
    "var('d1,d2,d3,d4,d5')\n",
    "var('a12,a13,a14,a15,a23,a24,a25,a34,a35,a45')\n",
    "\n",
    "load_attach_path('C:\\\\Users\\\\julia\\\\Documents\\\\unb\\\\doutorado\\\\pensar\\\\codigo_sage_v2\\\\maquina\\\\x3')\n",
    "load('out_#111110.sage')\n",
    "\n",
    "m=matrix(QQ, [[0, 0, 1, 2, 0],\n",
    "              [0, 0, 1, 1, 1],\n",
    "              [0, 0, 0, 0, 1],\n",
    "              [0, 0, 0, 0, 0],\n",
    "              [0, 0, 0, 0, 0]])\n",
    "        \n",
    "#entry of matrix: (i,j) line i collum j, means (i-1,j-1)\n",
    "sol=solve([ eq1==m[0,2],\teq2==m[0,3],\teq3==m[0,4],\teq4==m[1,2],\t\n",
    "                                            eq5==m[1,3],    eq6==m[1,4],\n",
    "                                                            eq7==m[2,4]],d1,d2,d3,d4,d5,a12,a13,a14,a15,a23,a24,a25,a34,a35,a45, solution_dict=True)\n",
    "\n",
    "show(m)\n",
    "show(sol)\n",
    "#latex(sol)"
   ]
  },
  {
   "cell_type": "code",
   "execution_count": 39,
   "metadata": {},
   "outputs": [
    {
     "data": {
      "text/html": [
       "<html><script type=\"math/tex; mode=display\">\\newcommand{\\Bold}[1]{\\mathbf{#1}}\\left(\\begin{array}{rrrrr}\n",
       "0 & 0 & 1 & 1 & 0 \\\\\n",
       "0 & 0 & 1 & 1 & 1 \\\\\n",
       "0 & 0 & 0 & 0 & 1 \\\\\n",
       "0 & 0 & 0 & 0 & 0 \\\\\n",
       "0 & 0 & 0 & 0 & 0\n",
       "\\end{array}\\right)</script></html>"
      ],
      "text/latex": [
       "$$\\newcommand{\\Bold}[1]{\\mathbf{#1}}\\left(\\begin{array}{rrrrr}\n",
       "0 & 0 & 1 & 1 & 0 \\\\\n",
       "0 & 0 & 1 & 1 & 1 \\\\\n",
       "0 & 0 & 0 & 0 & 1 \\\\\n",
       "0 & 0 & 0 & 0 & 0 \\\\\n",
       "0 & 0 & 0 & 0 & 0\n",
       "\\end{array}\\right)$$"
      ],
      "text/plain": [
       "[0 0 1 1 0]\n",
       "[0 0 1 1 1]\n",
       "[0 0 0 0 1]\n",
       "[0 0 0 0 0]\n",
       "[0 0 0 0 0]"
      ]
     },
     "metadata": {},
     "output_type": "display_data"
    },
    {
     "data": {
      "text/html": [
       "<html><script type=\"math/tex; mode=display\">\\newcommand{\\Bold}[1]{\\mathbf{#1}}\\left[\\left\\{d_{1} : r_{879}, d_{2} : 0, d_{3} : 0, d_{4} : r_{880}, d_{5} : 0, a_{12} : r_{881}, a_{13} : r_{882}, a_{14} : r_{883}, a_{15} : r_{884}, a_{23} : r_{885}, a_{24} : r_{886}, a_{25} : r_{887}, a_{34} : -\\frac{r_{880} x_{24}}{x_{23}}, a_{35} : r_{888}, a_{45} : r_{889}\\right\\}, \\left\\{d_{1} : r_{890}, d_{2} : r_{891}, d_{3} : \\frac{r_{891}}{x_{23}}, d_{4} : r_{892}, d_{5} : \\frac{r_{891}}{x_{23} x_{35}}, a_{12} : \\frac{r_{891} x_{13} - r_{890} x_{23}}{x_{23}}, a_{13} : r_{893}, a_{14} : r_{894}, a_{15} : r_{895}, a_{23} : -\\frac{{\\left(r_{890} - r_{893}\\right)} x_{23}^{2} x_{35} - r_{891} x_{13} x_{25}}{x_{13} x_{23} x_{35}}, a_{24} : r_{896}, a_{25} : r_{897}, a_{34} : -\\frac{r_{892} x_{24} - r_{891}}{x_{23}}, a_{35} : r_{898}, a_{45} : \\frac{r_{891} x_{13} - {\\left(r_{898} x_{13} + r_{890} - r_{893}\\right)} x_{23}}{x_{13} x_{24}}\\right\\}, \\left\\{d_{1} : 0, d_{2} : r_{899}, d_{3} : \\frac{r_{899}}{x_{23}}, d_{4} : r_{900}, d_{5} : \\frac{r_{899}}{x_{23} x_{35}}, a_{12} : \\frac{r_{899} x_{13}}{x_{23}}, a_{13} : r_{901}, a_{14} : r_{902}, a_{15} : r_{903}, a_{23} : \\frac{r_{901} x_{23}^{2} x_{35} + r_{899} x_{13} x_{25}}{x_{13} x_{23} x_{35}}, a_{24} : r_{904}, a_{25} : r_{905}, a_{34} : -\\frac{r_{900} x_{24} - r_{899}}{x_{23}}, a_{35} : r_{906}, a_{45} : \\frac{r_{899} x_{13} - {\\left(r_{906} x_{13} - r_{901}\\right)} x_{23}}{x_{13} x_{24}}\\right\\}\\right]</script></html>"
      ],
      "text/latex": [
       "$$\\newcommand{\\Bold}[1]{\\mathbf{#1}}\\left[\\left\\{d_{1} : r_{879}, d_{2} : 0, d_{3} : 0, d_{4} : r_{880}, d_{5} : 0, a_{12} : r_{881}, a_{13} : r_{882}, a_{14} : r_{883}, a_{15} : r_{884}, a_{23} : r_{885}, a_{24} : r_{886}, a_{25} : r_{887}, a_{34} : -\\frac{r_{880} x_{24}}{x_{23}}, a_{35} : r_{888}, a_{45} : r_{889}\\right\\}, \\left\\{d_{1} : r_{890}, d_{2} : r_{891}, d_{3} : \\frac{r_{891}}{x_{23}}, d_{4} : r_{892}, d_{5} : \\frac{r_{891}}{x_{23} x_{35}}, a_{12} : \\frac{r_{891} x_{13} - r_{890} x_{23}}{x_{23}}, a_{13} : r_{893}, a_{14} : r_{894}, a_{15} : r_{895}, a_{23} : -\\frac{{\\left(r_{890} - r_{893}\\right)} x_{23}^{2} x_{35} - r_{891} x_{13} x_{25}}{x_{13} x_{23} x_{35}}, a_{24} : r_{896}, a_{25} : r_{897}, a_{34} : -\\frac{r_{892} x_{24} - r_{891}}{x_{23}}, a_{35} : r_{898}, a_{45} : \\frac{r_{891} x_{13} - {\\left(r_{898} x_{13} + r_{890} - r_{893}\\right)} x_{23}}{x_{13} x_{24}}\\right\\}, \\left\\{d_{1} : 0, d_{2} : r_{899}, d_{3} : \\frac{r_{899}}{x_{23}}, d_{4} : r_{900}, d_{5} : \\frac{r_{899}}{x_{23} x_{35}}, a_{12} : \\frac{r_{899} x_{13}}{x_{23}}, a_{13} : r_{901}, a_{14} : r_{902}, a_{15} : r_{903}, a_{23} : \\frac{r_{901} x_{23}^{2} x_{35} + r_{899} x_{13} x_{25}}{x_{13} x_{23} x_{35}}, a_{24} : r_{904}, a_{25} : r_{905}, a_{34} : -\\frac{r_{900} x_{24} - r_{899}}{x_{23}}, a_{35} : r_{906}, a_{45} : \\frac{r_{899} x_{13} - {\\left(r_{906} x_{13} - r_{901}\\right)} x_{23}}{x_{13} x_{24}}\\right\\}\\right]$$"
      ],
      "text/plain": [
       "[{d1: r879,\n",
       "  d2: 0,\n",
       "  d3: 0,\n",
       "  d4: r880,\n",
       "  d5: 0,\n",
       "  a12: r881,\n",
       "  a13: r882,\n",
       "  a14: r883,\n",
       "  a15: r884,\n",
       "  a23: r885,\n",
       "  a24: r886,\n",
       "  a25: r887,\n",
       "  a34: -r880*x24/x23,\n",
       "  a35: r888,\n",
       "  a45: r889},\n",
       " {d1: r890,\n",
       "  d2: r891,\n",
       "  d3: r891/x23,\n",
       "  d4: r892,\n",
       "  d5: r891/(x23*x35),\n",
       "  a12: (r891*x13 - r890*x23)/x23,\n",
       "  a13: r893,\n",
       "  a14: r894,\n",
       "  a15: r895,\n",
       "  a23: -((r890 - r893)*x23^2*x35 - r891*x13*x25)/(x13*x23*x35),\n",
       "  a24: r896,\n",
       "  a25: r897,\n",
       "  a34: -(r892*x24 - r891)/x23,\n",
       "  a35: r898,\n",
       "  a45: (r891*x13 - (r898*x13 + r890 - r893)*x23)/(x13*x24)},\n",
       " {d1: 0,\n",
       "  d2: r899,\n",
       "  d3: r899/x23,\n",
       "  d4: r900,\n",
       "  d5: r899/(x23*x35),\n",
       "  a12: r899*x13/x23,\n",
       "  a13: r901,\n",
       "  a14: r902,\n",
       "  a15: r903,\n",
       "  a23: (r901*x23^2*x35 + r899*x13*x25)/(x13*x23*x35),\n",
       "  a24: r904,\n",
       "  a25: r905,\n",
       "  a34: -(r900*x24 - r899)/x23,\n",
       "  a35: r906,\n",
       "  a45: (r899*x13 - (r906*x13 - r901)*x23)/(x13*x24)}]"
      ]
     },
     "metadata": {},
     "output_type": "display_data"
    }
   ],
   "source": [
    "#x3\n",
    "#----------------------\n",
    "#x14 = x13*x24/x23\n",
    "#----------------------\n",
    "reset()\n",
    "\n",
    "var('x12,x13,x14,x15,x23,x24,x25,x34,x35,x45')\n",
    "var('d1,d2,d3,d4,d5')\n",
    "var('a12,a13,a14,a15,a23,a24,a25,a34,a35,a45')\n",
    "\n",
    "#111110\n",
    "eq1=(d2*d3*x13-a12*d3*x23)/(d1*d2) \n",
    "eq2=(a34*d2*x13+d2*d4*((x13*x24)/x23)-a12*a34*x23-a12*d4*x24)/(d1*d2) \n",
    "eq3=(a35*d2*d3*x13+a45*d2*d3*((x13*x24)/x23)+d2*d3*d5*0-a12*a35*d3*x23-a12*a45*d3*x24-a12*d3*d5*x25+a12*a23*d5*x35-a13*d2*d5*x35)/(d1*d2*d3) \n",
    "eq4=(d3*x23)/(d2) \n",
    "eq5=(a34*x23+d4*x24)/(d2) \n",
    "eq6=(a35*d3*x23+a45*d3*x24+d3*d5*x25-a23*d5*x35)/(d2*d3) \n",
    "eq7=(d5*x35)/(d3) \n",
    "\n",
    "\n",
    "m=matrix(QQ, [[0, 0, 1, 1, 0],\n",
    "              [0, 0, 1, 1, 1],\n",
    "              [0, 0, 0, 0, 1],\n",
    "              [0, 0, 0, 0, 0],\n",
    "              [0, 0, 0, 0, 0]])\n",
    "        \n",
    "#entry of matrix: (i,j) line i collum j, means (i-1,j-1)\n",
    "sol=solve([ eq1==m[0,2],\teq2==m[0,3],\teq3==m[0,4],\teq4==m[1,2],\t\n",
    "                                            eq5==m[1,3],    eq6==m[1,4],\n",
    "                                                            eq7==m[2,4]],d1,d2,d3,d4,d5,a12,a13,a14,a15,a23,a24,a25,a34,a35,a45, solution_dict=True)\n",
    "\n",
    "show(m)\n",
    "show(sol)\n",
    "#latex(sol)"
   ]
  },
  {
   "cell_type": "code",
   "execution_count": 6,
   "metadata": {
    "scrolled": true
   },
   "outputs": [
    {
     "data": {
      "text/html": [
       "<html><script type=\"math/tex; mode=display\">\\newcommand{\\Bold}[1]{\\mathbf{#1}}\\left(\\begin{array}{rrrrr}\n",
       "0 & 0 & 1 & 0 & 0 \\\\\n",
       "0 & 0 & 1 & 1 & 0 \\\\\n",
       "0 & 0 & 0 & 0 & 1 \\\\\n",
       "0 & 0 & 0 & 0 & 0 \\\\\n",
       "0 & 0 & 0 & 0 & 0\n",
       "\\end{array}\\right)</script></html>"
      ],
      "text/latex": [
       "$$\\newcommand{\\Bold}[1]{\\mathbf{#1}}\\left(\\begin{array}{rrrrr}\n",
       "0 & 0 & 1 & 0 & 0 \\\\\n",
       "0 & 0 & 1 & 1 & 0 \\\\\n",
       "0 & 0 & 0 & 0 & 1 \\\\\n",
       "0 & 0 & 0 & 0 & 0 \\\\\n",
       "0 & 0 & 0 & 0 & 0\n",
       "\\end{array}\\right)$$"
      ],
      "text/plain": [
       "[0 0 1 0 0]\n",
       "[0 0 1 1 0]\n",
       "[0 0 0 0 1]\n",
       "[0 0 0 0 0]\n",
       "[0 0 0 0 0]"
      ]
     },
     "metadata": {},
     "output_type": "display_data"
    },
    {
     "data": {
      "text/html": [
       "<html><script type=\"math/tex; mode=display\">\\newcommand{\\Bold}[1]{\\mathbf{#1}}\\left[\\left\\{d_{1} : r_{132}, d_{2} : 0, d_{3} : 0, d_{4} : r_{133}, d_{5} : 0, a_{12} : r_{134}, a_{13} : r_{135}, a_{14} : r_{136}, a_{15} : r_{137}, a_{23} : r_{138}, a_{24} : r_{139}, a_{25} : r_{140}, a_{34} : -\\frac{r_{133} x_{24}}{x_{23}}, a_{35} : r_{141}, a_{45} : r_{142}\\right\\}, \\left\\{d_{1} : r_{143}, d_{2} : r_{144}, d_{3} : \\frac{r_{144}}{x_{23}}, d_{4} : -\\frac{r_{143} x_{23}}{x_{14} x_{23} - x_{13} x_{24}}, d_{5} : \\frac{r_{144}}{x_{23} x_{35}}, a_{12} : \\frac{r_{144} x_{13} - r_{143} x_{23}}{x_{23}}, a_{13} : r_{145}, a_{14} : r_{146}, a_{15} : r_{147}, a_{23} : r_{148}, a_{24} : r_{149}, a_{25} : r_{150}, a_{34} : \\frac{r_{144} x_{14} x_{23} - {\\left(r_{144} x_{13} - r_{143} x_{23}\\right)} x_{24}}{x_{14} x_{23}^{2} - x_{13} x_{23} x_{24}}, a_{35} : \\frac{r_{144} x_{15} x_{24} - r_{144} x_{14} x_{25} + {\\left(r_{148} x_{14} x_{23} - r_{145} x_{23} x_{24}\\right)} x_{35}}{{\\left(x_{14} x_{23}^{2} - x_{13} x_{23} x_{24}\\right)} x_{35}}, a_{45} : -\\frac{r_{144} x_{15} x_{23} - r_{144} x_{13} x_{25} + {\\left(r_{148} x_{13} x_{23} - r_{145} x_{23}^{2}\\right)} x_{35}}{{\\left(x_{14} x_{23}^{2} - x_{13} x_{23} x_{24}\\right)} x_{35}}\\right\\}, \\left\\{d_{1} : 0, d_{2} : 0, d_{3} : 0, d_{4} : 0, d_{5} : 0, a_{12} : 0, a_{13} : r_{151}, a_{14} : r_{152}, a_{15} : r_{153}, a_{23} : r_{154}, a_{24} : r_{155}, a_{25} : r_{156}, a_{34} : 0, a_{35} : \\frac{r_{154} x_{14} x_{23} - r_{151} x_{23} x_{24}}{x_{14} x_{23}^{2} - x_{13} x_{23} x_{24}}, a_{45} : -\\frac{r_{154} x_{13} x_{23} - r_{151} x_{23}^{2}}{x_{14} x_{23}^{2} - x_{13} x_{23} x_{24}}\\right\\}\\right]</script></html>"
      ],
      "text/latex": [
       "$$\\newcommand{\\Bold}[1]{\\mathbf{#1}}\\left[\\left\\{d_{1} : r_{132}, d_{2} : 0, d_{3} : 0, d_{4} : r_{133}, d_{5} : 0, a_{12} : r_{134}, a_{13} : r_{135}, a_{14} : r_{136}, a_{15} : r_{137}, a_{23} : r_{138}, a_{24} : r_{139}, a_{25} : r_{140}, a_{34} : -\\frac{r_{133} x_{24}}{x_{23}}, a_{35} : r_{141}, a_{45} : r_{142}\\right\\}, \\left\\{d_{1} : r_{143}, d_{2} : r_{144}, d_{3} : \\frac{r_{144}}{x_{23}}, d_{4} : -\\frac{r_{143} x_{23}}{x_{14} x_{23} - x_{13} x_{24}}, d_{5} : \\frac{r_{144}}{x_{23} x_{35}}, a_{12} : \\frac{r_{144} x_{13} - r_{143} x_{23}}{x_{23}}, a_{13} : r_{145}, a_{14} : r_{146}, a_{15} : r_{147}, a_{23} : r_{148}, a_{24} : r_{149}, a_{25} : r_{150}, a_{34} : \\frac{r_{144} x_{14} x_{23} - {\\left(r_{144} x_{13} - r_{143} x_{23}\\right)} x_{24}}{x_{14} x_{23}^{2} - x_{13} x_{23} x_{24}}, a_{35} : \\frac{r_{144} x_{15} x_{24} - r_{144} x_{14} x_{25} + {\\left(r_{148} x_{14} x_{23} - r_{145} x_{23} x_{24}\\right)} x_{35}}{{\\left(x_{14} x_{23}^{2} - x_{13} x_{23} x_{24}\\right)} x_{35}}, a_{45} : -\\frac{r_{144} x_{15} x_{23} - r_{144} x_{13} x_{25} + {\\left(r_{148} x_{13} x_{23} - r_{145} x_{23}^{2}\\right)} x_{35}}{{\\left(x_{14} x_{23}^{2} - x_{13} x_{23} x_{24}\\right)} x_{35}}\\right\\}, \\left\\{d_{1} : 0, d_{2} : 0, d_{3} : 0, d_{4} : 0, d_{5} : 0, a_{12} : 0, a_{13} : r_{151}, a_{14} : r_{152}, a_{15} : r_{153}, a_{23} : r_{154}, a_{24} : r_{155}, a_{25} : r_{156}, a_{34} : 0, a_{35} : \\frac{r_{154} x_{14} x_{23} - r_{151} x_{23} x_{24}}{x_{14} x_{23}^{2} - x_{13} x_{23} x_{24}}, a_{45} : -\\frac{r_{154} x_{13} x_{23} - r_{151} x_{23}^{2}}{x_{14} x_{23}^{2} - x_{13} x_{23} x_{24}}\\right\\}\\right]$$"
      ],
      "text/plain": [
       "[{d1: r132,\n",
       "  d2: 0,\n",
       "  d3: 0,\n",
       "  d4: r133,\n",
       "  d5: 0,\n",
       "  a12: r134,\n",
       "  a13: r135,\n",
       "  a14: r136,\n",
       "  a15: r137,\n",
       "  a23: r138,\n",
       "  a24: r139,\n",
       "  a25: r140,\n",
       "  a34: -r133*x24/x23,\n",
       "  a35: r141,\n",
       "  a45: r142},\n",
       " {d1: r143,\n",
       "  d2: r144,\n",
       "  d3: r144/x23,\n",
       "  d4: -r143*x23/(x14*x23 - x13*x24),\n",
       "  d5: r144/(x23*x35),\n",
       "  a12: (r144*x13 - r143*x23)/x23,\n",
       "  a13: r145,\n",
       "  a14: r146,\n",
       "  a15: r147,\n",
       "  a23: r148,\n",
       "  a24: r149,\n",
       "  a25: r150,\n",
       "  a34: (r144*x14*x23 - (r144*x13 - r143*x23)*x24)/(x14*x23^2 - x13*x23*x24),\n",
       "  a35: (r144*x15*x24 - r144*x14*x25 + (r148*x14*x23 - r145*x23*x24)*x35)/((x14*x23^2 - x13*x23*x24)*x35),\n",
       "  a45: -(r144*x15*x23 - r144*x13*x25 + (r148*x13*x23 - r145*x23^2)*x35)/((x14*x23^2 - x13*x23*x24)*x35)},\n",
       " {d1: 0,\n",
       "  d2: 0,\n",
       "  d3: 0,\n",
       "  d4: 0,\n",
       "  d5: 0,\n",
       "  a12: 0,\n",
       "  a13: r151,\n",
       "  a14: r152,\n",
       "  a15: r153,\n",
       "  a23: r154,\n",
       "  a24: r155,\n",
       "  a25: r156,\n",
       "  a34: 0,\n",
       "  a35: (r154*x14*x23 - r151*x23*x24)/(x14*x23^2 - x13*x23*x24),\n",
       "  a45: -(r154*x13*x23 - r151*x23^2)/(x14*x23^2 - x13*x23*x24)}]"
      ]
     },
     "metadata": {},
     "output_type": "display_data"
    }
   ],
   "source": [
    "#x3\n",
    "#----------------------\n",
    "#x14 \\dif x13*x24/x23\n",
    "#----------------------\n",
    "reset()\n",
    "\n",
    "var('x12,x13,x14,x15,x23,x24,x25,x34,x35,x45')\n",
    "var('d1,d2,d3,d4,d5')\n",
    "var('a12,a13,a14,a15,a23,a24,a25,a34,a35,a45')\n",
    "\n",
    "eq1=(d2*d3*x13-a12*d3*x23)/(d1*d2) \n",
    "eq2=(a34*d2*x13+d2*d4*x14-a12*a34*x23-a12*d4*x24)/(d1*d2) \n",
    "eq3=(a35*d2*d3*x13+a45*d2*d3*x14+d2*d3*d5*x15-a12*a35*d3*x23-a12*a45*d3*x24-a12*d3*d5*x25+a12*a23*d5*x35-a13*d2*d5*x35)/(d1*d2*d3) \n",
    "eq4=(d3*x23)/(d2) \n",
    "eq5=(a34*x23+d4*x24)/(d2) \n",
    "eq6=(a35*d3*x23+a45*d3*x24+d3*d5*x25-a23*d5*x35)/(d2*d3) \n",
    "eq7=(d5*x35)/(d3) \n",
    "\n",
    "m=matrix(QQ, [[0, 0, 1, 0, 0],\n",
    "              [0, 0, 1, 1, 0],\n",
    "              [0, 0, 0, 0, 1],\n",
    "              [0, 0, 0, 0, 0],\n",
    "              [0, 0, 0, 0, 0]])\n",
    "        \n",
    "#entry of matrix: (i,j) line i collum j, means (i-1,j-1)\n",
    "sol=solve([ eq1==m[0,2],\teq2==m[0,3],\teq3==m[0,4],\teq4==m[1,2],\t\n",
    "                                            eq5==m[1,3],    eq6==m[1,4],\n",
    "                                                            eq7==m[2,4]],d1,d2,d3,d4,d5,a12,a13,a14,a15,a23,a24,a25,a34,a35,a45, solution_dict=True)\n",
    "\n",
    "show(m)\n",
    "show(sol)\n",
    "#latex(sol)"
   ]
  },
  {
   "cell_type": "code",
   "execution_count": 8,
   "metadata": {},
   "outputs": [
    {
     "data": {
      "text/html": [
       "<html><script type=\"math/tex; mode=display\">\\newcommand{\\Bold}[1]{\\mathbf{#1}}\\left(\\begin{array}{rrrrr}\n",
       "0 & 0 & 1 & 0 & 0 \\\\\n",
       "0 & 0 & 1 & 0 & 0 \\\\\n",
       "0 & 0 & 0 & 0 & 1 \\\\\n",
       "0 & 0 & 0 & 0 & 0 \\\\\n",
       "0 & 0 & 0 & 0 & 0\n",
       "\\end{array}\\right)</script></html>"
      ],
      "text/latex": [
       "$$\\newcommand{\\Bold}[1]{\\mathbf{#1}}\\left(\\begin{array}{rrrrr}\n",
       "0 & 0 & 1 & 0 & 0 \\\\\n",
       "0 & 0 & 1 & 0 & 0 \\\\\n",
       "0 & 0 & 0 & 0 & 1 \\\\\n",
       "0 & 0 & 0 & 0 & 0 \\\\\n",
       "0 & 0 & 0 & 0 & 0\n",
       "\\end{array}\\right)$$"
      ],
      "text/plain": [
       "[0 0 1 0 0]\n",
       "[0 0 1 0 0]\n",
       "[0 0 0 0 1]\n",
       "[0 0 0 0 0]\n",
       "[0 0 0 0 0]"
      ]
     },
     "metadata": {},
     "output_type": "display_data"
    },
    {
     "data": {
      "text/html": [
       "<html><script type=\"math/tex; mode=display\">\\newcommand{\\Bold}[1]{\\mathbf{#1}}\\left[\\left\\{d_{1} : r_{176}, d_{2} : 0, d_{3} : 0, d_{4} : r_{177}, d_{5} : 0, a_{12} : r_{178}, a_{13} : r_{179}, a_{14} : r_{180}, a_{15} : r_{181}, a_{23} : r_{182}, a_{24} : r_{183}, a_{25} : r_{184}, a_{34} : -\\frac{r_{177} x_{24}}{x_{23}}, a_{35} : r_{185}, a_{45} : r_{186}\\right\\}, \\left\\{d_{1} : r_{187}, d_{2} : r_{188}, d_{3} : \\frac{r_{188}}{x_{23}}, d_{4} : r_{189}, d_{5} : \\frac{r_{188}}{x_{23} x_{35}}, a_{12} : \\frac{r_{188} x_{13} - r_{187} x_{23}}{x_{23}}, a_{13} : r_{190}, a_{14} : r_{191}, a_{15} : r_{192}, a_{23} : \\frac{r_{190} x_{23}^{2} x_{35} - r_{188} x_{15} x_{23} + r_{188} x_{13} x_{25}}{x_{13} x_{23} x_{35}}, a_{24} : r_{193}, a_{25} : r_{194}, a_{34} : -\\frac{r_{189} x_{24}}{x_{23}}, a_{35} : r_{195}, a_{45} : -\\frac{{\\left(r_{195} x_{13} - r_{190}\\right)} x_{23} x_{35} + r_{188} x_{15}}{x_{13} x_{24} x_{35}}\\right\\}\\right]</script></html>"
      ],
      "text/latex": [
       "$$\\newcommand{\\Bold}[1]{\\mathbf{#1}}\\left[\\left\\{d_{1} : r_{176}, d_{2} : 0, d_{3} : 0, d_{4} : r_{177}, d_{5} : 0, a_{12} : r_{178}, a_{13} : r_{179}, a_{14} : r_{180}, a_{15} : r_{181}, a_{23} : r_{182}, a_{24} : r_{183}, a_{25} : r_{184}, a_{34} : -\\frac{r_{177} x_{24}}{x_{23}}, a_{35} : r_{185}, a_{45} : r_{186}\\right\\}, \\left\\{d_{1} : r_{187}, d_{2} : r_{188}, d_{3} : \\frac{r_{188}}{x_{23}}, d_{4} : r_{189}, d_{5} : \\frac{r_{188}}{x_{23} x_{35}}, a_{12} : \\frac{r_{188} x_{13} - r_{187} x_{23}}{x_{23}}, a_{13} : r_{190}, a_{14} : r_{191}, a_{15} : r_{192}, a_{23} : \\frac{r_{190} x_{23}^{2} x_{35} - r_{188} x_{15} x_{23} + r_{188} x_{13} x_{25}}{x_{13} x_{23} x_{35}}, a_{24} : r_{193}, a_{25} : r_{194}, a_{34} : -\\frac{r_{189} x_{24}}{x_{23}}, a_{35} : r_{195}, a_{45} : -\\frac{{\\left(r_{195} x_{13} - r_{190}\\right)} x_{23} x_{35} + r_{188} x_{15}}{x_{13} x_{24} x_{35}}\\right\\}\\right]$$"
      ],
      "text/plain": [
       "[{d1: r176,\n",
       "  d2: 0,\n",
       "  d3: 0,\n",
       "  d4: r177,\n",
       "  d5: 0,\n",
       "  a12: r178,\n",
       "  a13: r179,\n",
       "  a14: r180,\n",
       "  a15: r181,\n",
       "  a23: r182,\n",
       "  a24: r183,\n",
       "  a25: r184,\n",
       "  a34: -r177*x24/x23,\n",
       "  a35: r185,\n",
       "  a45: r186},\n",
       " {d1: r187,\n",
       "  d2: r188,\n",
       "  d3: r188/x23,\n",
       "  d4: r189,\n",
       "  d5: r188/(x23*x35),\n",
       "  a12: (r188*x13 - r187*x23)/x23,\n",
       "  a13: r190,\n",
       "  a14: r191,\n",
       "  a15: r192,\n",
       "  a23: (r190*x23^2*x35 - r188*x15*x23 + r188*x13*x25)/(x13*x23*x35),\n",
       "  a24: r193,\n",
       "  a25: r194,\n",
       "  a34: -r189*x24/x23,\n",
       "  a35: r195,\n",
       "  a45: -((r195*x13 - r190)*x23*x35 + r188*x15)/(x13*x24*x35)}]"
      ]
     },
     "metadata": {},
     "output_type": "display_data"
    }
   ],
   "source": [
    "#x3\n",
    "#----------------------\n",
    "#x14 = x13*x24/x23\n",
    "#----------------------\n",
    "reset()\n",
    "\n",
    "var('x12,x13,x14,x15,x23,x24,x25,x34,x35,x45')\n",
    "var('d1,d2,d3,d4,d5')\n",
    "var('a12,a13,a14,a15,a23,a24,a25,a34,a35,a45')\n",
    "\n",
    "eq1=(d2*d3*x13-a12*d3*x23)/(d1*d2) \n",
    "eq2=(a34*d2*x13+d2*d4*(x13*x24/x23)-a12*a34*x23-a12*d4*x24)/(d1*d2) \n",
    "eq3=(a35*d2*d3*x13+a45*d2*d3*(x13*x24/x23)+d2*d3*d5*x15-a12*a35*d3*x23-a12*a45*d3*x24-a12*d3*d5*x25+a12*a23*d5*x35-a13*d2*d5*x35)/(d1*d2*d3) \n",
    "eq4=(d3*x23)/(d2) \n",
    "eq5=(a34*x23+d4*x24)/(d2) \n",
    "eq6=(a35*d3*x23+a45*d3*x24+d3*d5*x25-a23*d5*x35)/(d2*d3) \n",
    "eq7=(d5*x35)/(d3) \n",
    "\n",
    "m=matrix(QQ, [[0, 0, 1, 0, 0],\n",
    "              [0, 0, 1, 0, 0],\n",
    "              [0, 0, 0, 0, 1],\n",
    "              [0, 0, 0, 0, 0],\n",
    "              [0, 0, 0, 0, 0]])\n",
    "        \n",
    "#entry of matrix: (i,j) line i collum j, means (i-1,j-1)\n",
    "sol=solve([ eq1==m[0,2],\teq2==m[0,3],\teq3==m[0,4],\teq4==m[1,2],\t\n",
    "                                            eq5==m[1,3],    eq6==m[1,4],\n",
    "                                                            eq7==m[2,4]],d1,d2,d3,d4,d5,a12,a13,a14,a15,a23,a24,a25,a34,a35,a45, solution_dict=True)\n",
    "\n",
    "show(m)\n",
    "show(sol)\n",
    "#latex(sol)"
   ]
  },
  {
   "cell_type": "code",
   "execution_count": null,
   "metadata": {},
   "outputs": [],
   "source": []
  }
 ],
 "metadata": {
  "kernelspec": {
   "display_name": "SageMath 9.3",
   "language": "sage",
   "name": "sagemath"
  },
  "language_info": {
   "codemirror_mode": {
    "name": "ipython",
    "version": 3
   },
   "file_extension": ".py",
   "mimetype": "text/x-python",
   "name": "python",
   "nbconvert_exporter": "python",
   "pygments_lexer": "ipython3",
   "version": "3.7.10"
  }
 },
 "nbformat": 4,
 "nbformat_minor": 4
}
