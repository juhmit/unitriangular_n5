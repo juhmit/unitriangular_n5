{
 "cells": [
  {
   "cell_type": "code",
   "execution_count": 1,
   "metadata": {
    "scrolled": true
   },
   "outputs": [
    {
     "data": {
      "text/html": [
       "<html><script type=\"math/tex; mode=display\">\\newcommand{\\Bold}[1]{\\mathbf{#1}}\\left(\\begin{array}{rrrrr}\n",
       "0 & 0 & 0 & 0 & 0 \\\\\n",
       "0 & 0 & 1 & 0 & 0 \\\\\n",
       "0 & 0 & 0 & 0 & 0 \\\\\n",
       "0 & 0 & 0 & 0 & 0 \\\\\n",
       "0 & 0 & 0 & 0 & 0\n",
       "\\end{array}\\right)</script></html>"
      ],
      "text/latex": [
       "$$\\newcommand{\\Bold}[1]{\\mathbf{#1}}\\left(\\begin{array}{rrrrr}\n",
       "0 & 0 & 0 & 0 & 0 \\\\\n",
       "0 & 0 & 1 & 0 & 0 \\\\\n",
       "0 & 0 & 0 & 0 & 0 \\\\\n",
       "0 & 0 & 0 & 0 & 0 \\\\\n",
       "0 & 0 & 0 & 0 & 0\n",
       "\\end{array}\\right)$$"
      ],
      "text/plain": [
       "[0 0 0 0 0]\n",
       "[0 0 1 0 0]\n",
       "[0 0 0 0 0]\n",
       "[0 0 0 0 0]\n",
       "[0 0 0 0 0]"
      ]
     },
     "metadata": {},
     "output_type": "display_data"
    },
    {
     "data": {
      "text/html": [
       "<html><script type=\"math/tex; mode=display\">\\newcommand{\\Bold}[1]{\\mathbf{#1}}\\left[\\left\\{d_{1} : r_{1}, d_{2} : r_{2}, d_{3} : \\frac{r_{2}}{x_{23}}, d_{4} : r_{3}, d_{5} : r_{4}, a_{12} : 0, a_{13} : r_{5}, a_{14} : r_{6}, a_{15} : r_{7}, a_{23} : r_{8}, a_{24} : r_{9}, a_{25} : r_{10}, a_{34} : 0, a_{35} : 0, a_{45} : r_{11}\\right\\}, \\left\\{d_{1} : r_{12}, d_{2} : 0, d_{3} : 0, d_{4} : r_{13}, d_{5} : r_{14}, a_{12} : r_{15}, a_{13} : r_{16}, a_{14} : r_{17}, a_{15} : r_{18}, a_{23} : r_{19}, a_{24} : r_{20}, a_{25} : r_{21}, a_{34} : 0, a_{35} : 0, a_{45} : r_{22}\\right\\}\\right]</script></html>"
      ],
      "text/latex": [
       "$$\\newcommand{\\Bold}[1]{\\mathbf{#1}}\\left[\\left\\{d_{1} : r_{1}, d_{2} : r_{2}, d_{3} : \\frac{r_{2}}{x_{23}}, d_{4} : r_{3}, d_{5} : r_{4}, a_{12} : 0, a_{13} : r_{5}, a_{14} : r_{6}, a_{15} : r_{7}, a_{23} : r_{8}, a_{24} : r_{9}, a_{25} : r_{10}, a_{34} : 0, a_{35} : 0, a_{45} : r_{11}\\right\\}, \\left\\{d_{1} : r_{12}, d_{2} : 0, d_{3} : 0, d_{4} : r_{13}, d_{5} : r_{14}, a_{12} : r_{15}, a_{13} : r_{16}, a_{14} : r_{17}, a_{15} : r_{18}, a_{23} : r_{19}, a_{24} : r_{20}, a_{25} : r_{21}, a_{34} : 0, a_{35} : 0, a_{45} : r_{22}\\right\\}\\right]$$"
      ],
      "text/plain": [
       "[{d1: r1,\n",
       "  d2: r2,\n",
       "  d3: r2/x23,\n",
       "  d4: r3,\n",
       "  d5: r4,\n",
       "  a12: 0,\n",
       "  a13: r5,\n",
       "  a14: r6,\n",
       "  a15: r7,\n",
       "  a23: r8,\n",
       "  a24: r9,\n",
       "  a25: r10,\n",
       "  a34: 0,\n",
       "  a35: 0,\n",
       "  a45: r11},\n",
       " {d1: r12,\n",
       "  d2: 0,\n",
       "  d3: 0,\n",
       "  d4: r13,\n",
       "  d5: r14,\n",
       "  a12: r15,\n",
       "  a13: r16,\n",
       "  a14: r17,\n",
       "  a15: r18,\n",
       "  a23: r19,\n",
       "  a24: r20,\n",
       "  a25: r21,\n",
       "  a34: 0,\n",
       "  a35: 0,\n",
       "  a45: r22}]"
      ]
     },
     "metadata": {},
     "output_type": "display_data"
    },
    {
     "data": {
      "text/plain": [
       "\\left[\\left\\{d_{1} : r_{1}, d_{2} : r_{2}, d_{3} : \\frac{r_{2}}{x_{23}}, d_{4} : r_{3}, d_{5} : r_{4}, a_{12} : 0, a_{13} : r_{5}, a_{14} : r_{6}, a_{15} : r_{7}, a_{23} : r_{8}, a_{24} : r_{9}, a_{25} : r_{10}, a_{34} : 0, a_{35} : 0, a_{45} : r_{11}\\right\\}, \\left\\{d_{1} : r_{12}, d_{2} : 0, d_{3} : 0, d_{4} : r_{13}, d_{5} : r_{14}, a_{12} : r_{15}, a_{13} : r_{16}, a_{14} : r_{17}, a_{15} : r_{18}, a_{23} : r_{19}, a_{24} : r_{20}, a_{25} : r_{21}, a_{34} : 0, a_{35} : 0, a_{45} : r_{22}\\right\\}\\right]"
      ]
     },
     "execution_count": 1,
     "metadata": {},
     "output_type": "execute_result"
    }
   ],
   "source": [
    "#x3\n",
    "reset()\n",
    "\n",
    "var('x12,x13,x14,x15,x23,x24,x25,x34,x35,x45')\n",
    "var('d1,d2,d3,d4,d5')\n",
    "var('a12,a13,a14,a15,a23,a24,a25,a34,a35,a45')\n",
    "\n",
    "load_attach_path('C:\\\\Users\\\\julia\\\\Documents\\\\unb\\\\doutorado\\\\pensar\\\\codigo_sage_v2\\\\maquina\\\\x3')\n",
    "load('out_#000000.sage')\n",
    "\n",
    "m=matrix(QQ, [[0, 0, 0, 0, 0],\n",
    "              [0, 0, 1, 0, 0],\n",
    "              [0, 0, 0, 0, 0],\n",
    "              [0, 0, 0, 0, 0],\n",
    "              [0, 0, 0, 0, 0]])\n",
    "        \n",
    "#entry of matrix: (i,j) line i collum j, means (i-1,j-1)\n",
    "sol=solve([ eq1==m[0,2],\teq2==m[0,3],\teq3==m[0,4],\teq4==m[1,2],\t\n",
    "                                            eq5==m[1,3],    eq6==m[1,4],\n",
    "                                                            eq7==m[2,4]],d1,d2,d3,d4,d5,a12,a13,a14,a15,a23,a24,a25,a34,a35,a45, solution_dict=True)\n",
    "\n",
    "show(m)\n",
    "show(sol)\n",
    "latex(sol)"
   ]
  },
  {
   "cell_type": "code",
   "execution_count": 2,
   "metadata": {},
   "outputs": [
    {
     "data": {
      "text/html": [
       "<html><script type=\"math/tex; mode=display\">\\newcommand{\\Bold}[1]{\\mathbf{#1}}\\left(\\begin{array}{rrrrr}\n",
       "0 & 0 & 0 & 0 & 1 \\\\\n",
       "0 & 0 & 1 & 0 & 0 \\\\\n",
       "0 & 0 & 0 & 0 & 0 \\\\\n",
       "0 & 0 & 0 & 0 & 0 \\\\\n",
       "0 & 0 & 0 & 0 & 0\n",
       "\\end{array}\\right)</script></html>"
      ],
      "text/latex": [
       "$$\\newcommand{\\Bold}[1]{\\mathbf{#1}}\\left(\\begin{array}{rrrrr}\n",
       "0 & 0 & 0 & 0 & 1 \\\\\n",
       "0 & 0 & 1 & 0 & 0 \\\\\n",
       "0 & 0 & 0 & 0 & 0 \\\\\n",
       "0 & 0 & 0 & 0 & 0 \\\\\n",
       "0 & 0 & 0 & 0 & 0\n",
       "\\end{array}\\right)$$"
      ],
      "text/plain": [
       "[0 0 0 0 1]\n",
       "[0 0 1 0 0]\n",
       "[0 0 0 0 0]\n",
       "[0 0 0 0 0]\n",
       "[0 0 0 0 0]"
      ]
     },
     "metadata": {},
     "output_type": "display_data"
    },
    {
     "data": {
      "text/html": [
       "<html><script type=\"math/tex; mode=display\">\\newcommand{\\Bold}[1]{\\mathbf{#1}}\\left[\\left\\{d_{1} : r_{22}, d_{2} : 0, d_{3} : 0, d_{4} : r_{23}, d_{5} : r_{24}, a_{12} : r_{25}, a_{13} : r_{26}, a_{14} : r_{27}, a_{15} : r_{28}, a_{23} : r_{29}, a_{24} : r_{30}, a_{25} : r_{31}, a_{34} : 0, a_{35} : 0, a_{45} : r_{32}\\right\\}, \\left\\{d_{1} : r_{33}, d_{2} : r_{34}, d_{3} : \\frac{r_{34}}{x_{23}}, d_{4} : r_{35}, d_{5} : \\frac{r_{33}}{x_{15}}, a_{12} : 0, a_{13} : r_{36}, a_{14} : r_{37}, a_{15} : r_{38}, a_{23} : r_{39}, a_{24} : r_{40}, a_{25} : r_{41}, a_{34} : 0, a_{35} : 0, a_{45} : r_{42}\\right\\}\\right]</script></html>"
      ],
      "text/latex": [
       "$$\\newcommand{\\Bold}[1]{\\mathbf{#1}}\\left[\\left\\{d_{1} : r_{22}, d_{2} : 0, d_{3} : 0, d_{4} : r_{23}, d_{5} : r_{24}, a_{12} : r_{25}, a_{13} : r_{26}, a_{14} : r_{27}, a_{15} : r_{28}, a_{23} : r_{29}, a_{24} : r_{30}, a_{25} : r_{31}, a_{34} : 0, a_{35} : 0, a_{45} : r_{32}\\right\\}, \\left\\{d_{1} : r_{33}, d_{2} : r_{34}, d_{3} : \\frac{r_{34}}{x_{23}}, d_{4} : r_{35}, d_{5} : \\frac{r_{33}}{x_{15}}, a_{12} : 0, a_{13} : r_{36}, a_{14} : r_{37}, a_{15} : r_{38}, a_{23} : r_{39}, a_{24} : r_{40}, a_{25} : r_{41}, a_{34} : 0, a_{35} : 0, a_{45} : r_{42}\\right\\}\\right]$$"
      ],
      "text/plain": [
       "[{d1: r22,\n",
       "  d2: 0,\n",
       "  d3: 0,\n",
       "  d4: r23,\n",
       "  d5: r24,\n",
       "  a12: r25,\n",
       "  a13: r26,\n",
       "  a14: r27,\n",
       "  a15: r28,\n",
       "  a23: r29,\n",
       "  a24: r30,\n",
       "  a25: r31,\n",
       "  a34: 0,\n",
       "  a35: 0,\n",
       "  a45: r32},\n",
       " {d1: r33,\n",
       "  d2: r34,\n",
       "  d3: r34/x23,\n",
       "  d4: r35,\n",
       "  d5: r33/x15,\n",
       "  a12: 0,\n",
       "  a13: r36,\n",
       "  a14: r37,\n",
       "  a15: r38,\n",
       "  a23: r39,\n",
       "  a24: r40,\n",
       "  a25: r41,\n",
       "  a34: 0,\n",
       "  a35: 0,\n",
       "  a45: r42}]"
      ]
     },
     "metadata": {},
     "output_type": "display_data"
    },
    {
     "data": {
      "text/plain": [
       "\\left[\\left\\{d_{1} : r_{22}, d_{2} : 0, d_{3} : 0, d_{4} : r_{23}, d_{5} : r_{24}, a_{12} : r_{25}, a_{13} : r_{26}, a_{14} : r_{27}, a_{15} : r_{28}, a_{23} : r_{29}, a_{24} : r_{30}, a_{25} : r_{31}, a_{34} : 0, a_{35} : 0, a_{45} : r_{32}\\right\\}, \\left\\{d_{1} : r_{33}, d_{2} : r_{34}, d_{3} : \\frac{r_{34}}{x_{23}}, d_{4} : r_{35}, d_{5} : \\frac{r_{33}}{x_{15}}, a_{12} : 0, a_{13} : r_{36}, a_{14} : r_{37}, a_{15} : r_{38}, a_{23} : r_{39}, a_{24} : r_{40}, a_{25} : r_{41}, a_{34} : 0, a_{35} : 0, a_{45} : r_{42}\\right\\}\\right]"
      ]
     },
     "execution_count": 2,
     "metadata": {},
     "output_type": "execute_result"
    }
   ],
   "source": [
    "#x3\n",
    "reset()\n",
    "\n",
    "var('x12,x13,x14,x15,x23,x24,x25,x34,x35,x45')\n",
    "var('d1,d2,d3,d4,d5')\n",
    "var('a12,a13,a14,a15,a23,a24,a25,a34,a35,a45')\n",
    "\n",
    "load_attach_path('C:\\\\Users\\\\julia\\\\Documents\\\\unb\\\\doutorado\\\\pensar\\\\codigo_sage_v2\\\\maquina\\\\x3')\n",
    "load('out_#000001.sage')\n",
    "\n",
    "m=matrix(QQ, [[0, 0, 0, 0, 1],\n",
    "              [0, 0, 1, 0, 0],\n",
    "              [0, 0, 0, 0, 0],\n",
    "              [0, 0, 0, 0, 0],\n",
    "              [0, 0, 0, 0, 0]])\n",
    "        \n",
    "#entry of matrix: (i,j) line i collum j, means (i-1,j-1)\n",
    "sol=solve([ eq1==m[0,2],\teq2==m[0,3],\teq3==m[0,4],\teq4==m[1,2],\t\n",
    "                                            eq5==m[1,3],    eq6==m[1,4],\n",
    "                                                            eq7==m[2,4]],d1,d2,d3,d4,d5,a12,a13,a14,a15,a23,a24,a25,a34,a35,a45, solution_dict=True)\n",
    "\n",
    "show(m)\n",
    "show(sol)\n",
    "latex(sol)"
   ]
  },
  {
   "cell_type": "code",
   "execution_count": 5,
   "metadata": {},
   "outputs": [
    {
     "data": {
      "text/html": [
       "<html><script type=\"math/tex; mode=display\">\\newcommand{\\Bold}[1]{\\mathbf{#1}}\\left(\\begin{array}{rrrrr}\n",
       "0 & 0 & 0 & 1 & 0 \\\\\n",
       "0 & 0 & 1 & 0 & 0 \\\\\n",
       "0 & 0 & 0 & 0 & 0 \\\\\n",
       "0 & 0 & 0 & 0 & 0 \\\\\n",
       "0 & 0 & 0 & 0 & 0\n",
       "\\end{array}\\right)</script></html>"
      ],
      "text/latex": [
       "$$\\newcommand{\\Bold}[1]{\\mathbf{#1}}\\left(\\begin{array}{rrrrr}\n",
       "0 & 0 & 0 & 1 & 0 \\\\\n",
       "0 & 0 & 1 & 0 & 0 \\\\\n",
       "0 & 0 & 0 & 0 & 0 \\\\\n",
       "0 & 0 & 0 & 0 & 0 \\\\\n",
       "0 & 0 & 0 & 0 & 0\n",
       "\\end{array}\\right)$$"
      ],
      "text/plain": [
       "[0 0 0 1 0]\n",
       "[0 0 1 0 0]\n",
       "[0 0 0 0 0]\n",
       "[0 0 0 0 0]\n",
       "[0 0 0 0 0]"
      ]
     },
     "metadata": {},
     "output_type": "display_data"
    },
    {
     "data": {
      "text/html": [
       "<html><script type=\"math/tex; mode=display\">\\newcommand{\\Bold}[1]{\\mathbf{#1}}\\left[\\left\\{d_{1} : r_{83}, d_{2} : 0, d_{3} : 0, d_{4} : r_{84}, d_{5} : r_{85}, a_{12} : r_{86}, a_{13} : r_{87}, a_{14} : r_{88}, a_{15} : r_{89}, a_{23} : r_{90}, a_{24} : r_{91}, a_{25} : r_{92}, a_{34} : 0, a_{35} : 0, a_{45} : r_{93}\\right\\}, \\left\\{d_{1} : r_{94}, d_{2} : r_{95}, d_{3} : \\frac{r_{95}}{x_{23}}, d_{4} : \\frac{r_{94}}{x_{14}}, d_{5} : r_{96}, a_{12} : 0, a_{13} : r_{97}, a_{14} : r_{98}, a_{15} : r_{99}, a_{23} : r_{100}, a_{24} : r_{101}, a_{25} : r_{102}, a_{34} : 0, a_{35} : 0, a_{45} : 0\\right\\}\\right]</script></html>"
      ],
      "text/latex": [
       "$$\\newcommand{\\Bold}[1]{\\mathbf{#1}}\\left[\\left\\{d_{1} : r_{83}, d_{2} : 0, d_{3} : 0, d_{4} : r_{84}, d_{5} : r_{85}, a_{12} : r_{86}, a_{13} : r_{87}, a_{14} : r_{88}, a_{15} : r_{89}, a_{23} : r_{90}, a_{24} : r_{91}, a_{25} : r_{92}, a_{34} : 0, a_{35} : 0, a_{45} : r_{93}\\right\\}, \\left\\{d_{1} : r_{94}, d_{2} : r_{95}, d_{3} : \\frac{r_{95}}{x_{23}}, d_{4} : \\frac{r_{94}}{x_{14}}, d_{5} : r_{96}, a_{12} : 0, a_{13} : r_{97}, a_{14} : r_{98}, a_{15} : r_{99}, a_{23} : r_{100}, a_{24} : r_{101}, a_{25} : r_{102}, a_{34} : 0, a_{35} : 0, a_{45} : 0\\right\\}\\right]$$"
      ],
      "text/plain": [
       "[{d1: r83,\n",
       "  d2: 0,\n",
       "  d3: 0,\n",
       "  d4: r84,\n",
       "  d5: r85,\n",
       "  a12: r86,\n",
       "  a13: r87,\n",
       "  a14: r88,\n",
       "  a15: r89,\n",
       "  a23: r90,\n",
       "  a24: r91,\n",
       "  a25: r92,\n",
       "  a34: 0,\n",
       "  a35: 0,\n",
       "  a45: r93},\n",
       " {d1: r94,\n",
       "  d2: r95,\n",
       "  d3: r95/x23,\n",
       "  d4: r94/x14,\n",
       "  d5: r96,\n",
       "  a12: 0,\n",
       "  a13: r97,\n",
       "  a14: r98,\n",
       "  a15: r99,\n",
       "  a23: r100,\n",
       "  a24: r101,\n",
       "  a25: r102,\n",
       "  a34: 0,\n",
       "  a35: 0,\n",
       "  a45: 0}]"
      ]
     },
     "metadata": {},
     "output_type": "display_data"
    },
    {
     "data": {
      "text/plain": [
       "\\left[\\left\\{d_{1} : r_{83}, d_{2} : 0, d_{3} : 0, d_{4} : r_{84}, d_{5} : r_{85}, a_{12} : r_{86}, a_{13} : r_{87}, a_{14} : r_{88}, a_{15} : r_{89}, a_{23} : r_{90}, a_{24} : r_{91}, a_{25} : r_{92}, a_{34} : 0, a_{35} : 0, a_{45} : r_{93}\\right\\}, \\left\\{d_{1} : r_{94}, d_{2} : r_{95}, d_{3} : \\frac{r_{95}}{x_{23}}, d_{4} : \\frac{r_{94}}{x_{14}}, d_{5} : r_{96}, a_{12} : 0, a_{13} : r_{97}, a_{14} : r_{98}, a_{15} : r_{99}, a_{23} : r_{100}, a_{24} : r_{101}, a_{25} : r_{102}, a_{34} : 0, a_{35} : 0, a_{45} : 0\\right\\}\\right]"
      ]
     },
     "execution_count": 5,
     "metadata": {},
     "output_type": "execute_result"
    }
   ],
   "source": [
    "#x3\n",
    "reset()\n",
    "\n",
    "var('x12,x13,x14,x15,x23,x24,x25,x34,x35,x45')\n",
    "var('d1,d2,d3,d4,d5')\n",
    "var('a12,a13,a14,a15,a23,a24,a25,a34,a35,a45')\n",
    "\n",
    "load_attach_path('C:\\\\Users\\\\julia\\\\Documents\\\\unb\\\\doutorado\\\\pensar\\\\codigo_sage_v2\\\\maquina\\\\x3')\n",
    "load('out_#000010.sage')\n",
    "\n",
    "m=matrix(QQ, [[0, 0, 0, 1, 0],\n",
    "              [0, 0, 1, 0, 0],\n",
    "              [0, 0, 0, 0, 0],\n",
    "              [0, 0, 0, 0, 0],\n",
    "              [0, 0, 0, 0, 0]])\n",
    "        \n",
    "#entry of matrix: (i,j) line i collum j, means (i-1,j-1)\n",
    "sol=solve([ eq1==m[0,2],\teq2==m[0,3],\teq3==m[0,4],\teq4==m[1,2],\t\n",
    "                                            eq5==m[1,3],    eq6==m[1,4],\n",
    "                                                            eq7==m[2,4]],d1,d2,d3,d4,d5,a12,a13,a14,a15,a23,a24,a25,a34,a35,a45, solution_dict=True)\n",
    "\n",
    "show(m)\n",
    "show(sol)\n",
    "latex(sol)"
   ]
  },
  {
   "cell_type": "code",
   "execution_count": 6,
   "metadata": {},
   "outputs": [
    {
     "data": {
      "text/html": [
       "<html><script type=\"math/tex; mode=display\">\\newcommand{\\Bold}[1]{\\mathbf{#1}}\\left(\\begin{array}{rrrrr}\n",
       "0 & 0 & 0 & 1 & 0 \\\\\n",
       "0 & 0 & 1 & 0 & 0 \\\\\n",
       "0 & 0 & 0 & 0 & 0 \\\\\n",
       "0 & 0 & 0 & 0 & 0 \\\\\n",
       "0 & 0 & 0 & 0 & 0\n",
       "\\end{array}\\right)</script></html>"
      ],
      "text/latex": [
       "$$\\newcommand{\\Bold}[1]{\\mathbf{#1}}\\left(\\begin{array}{rrrrr}\n",
       "0 & 0 & 0 & 1 & 0 \\\\\n",
       "0 & 0 & 1 & 0 & 0 \\\\\n",
       "0 & 0 & 0 & 0 & 0 \\\\\n",
       "0 & 0 & 0 & 0 & 0 \\\\\n",
       "0 & 0 & 0 & 0 & 0\n",
       "\\end{array}\\right)$$"
      ],
      "text/plain": [
       "[0 0 0 1 0]\n",
       "[0 0 1 0 0]\n",
       "[0 0 0 0 0]\n",
       "[0 0 0 0 0]\n",
       "[0 0 0 0 0]"
      ]
     },
     "metadata": {},
     "output_type": "display_data"
    },
    {
     "data": {
      "text/html": [
       "<html><script type=\"math/tex; mode=display\">\\newcommand{\\Bold}[1]{\\mathbf{#1}}\\left[\\left\\{d_{1} : r_{103}, d_{2} : 0, d_{3} : 0, d_{4} : r_{104}, d_{5} : r_{105}, a_{12} : r_{106}, a_{13} : r_{107}, a_{14} : r_{108}, a_{15} : r_{109}, a_{23} : r_{110}, a_{24} : r_{111}, a_{25} : r_{112}, a_{34} : 0, a_{35} : 0, a_{45} : r_{113}\\right\\}, \\left\\{d_{1} : r_{114}, d_{2} : r_{115}, d_{3} : \\frac{r_{115}}{x_{23}}, d_{4} : \\frac{r_{114}}{x_{14}}, d_{5} : r_{116}, a_{12} : 0, a_{13} : r_{117}, a_{14} : r_{118}, a_{15} : r_{119}, a_{23} : r_{120}, a_{24} : r_{121}, a_{25} : r_{122}, a_{34} : 0, a_{35} : 0, a_{45} : -\\frac{r_{116} x_{15}}{x_{14}}\\right\\}\\right]</script></html>"
      ],
      "text/latex": [
       "$$\\newcommand{\\Bold}[1]{\\mathbf{#1}}\\left[\\left\\{d_{1} : r_{103}, d_{2} : 0, d_{3} : 0, d_{4} : r_{104}, d_{5} : r_{105}, a_{12} : r_{106}, a_{13} : r_{107}, a_{14} : r_{108}, a_{15} : r_{109}, a_{23} : r_{110}, a_{24} : r_{111}, a_{25} : r_{112}, a_{34} : 0, a_{35} : 0, a_{45} : r_{113}\\right\\}, \\left\\{d_{1} : r_{114}, d_{2} : r_{115}, d_{3} : \\frac{r_{115}}{x_{23}}, d_{4} : \\frac{r_{114}}{x_{14}}, d_{5} : r_{116}, a_{12} : 0, a_{13} : r_{117}, a_{14} : r_{118}, a_{15} : r_{119}, a_{23} : r_{120}, a_{24} : r_{121}, a_{25} : r_{122}, a_{34} : 0, a_{35} : 0, a_{45} : -\\frac{r_{116} x_{15}}{x_{14}}\\right\\}\\right]$$"
      ],
      "text/plain": [
       "[{d1: r103,\n",
       "  d2: 0,\n",
       "  d3: 0,\n",
       "  d4: r104,\n",
       "  d5: r105,\n",
       "  a12: r106,\n",
       "  a13: r107,\n",
       "  a14: r108,\n",
       "  a15: r109,\n",
       "  a23: r110,\n",
       "  a24: r111,\n",
       "  a25: r112,\n",
       "  a34: 0,\n",
       "  a35: 0,\n",
       "  a45: r113},\n",
       " {d1: r114,\n",
       "  d2: r115,\n",
       "  d3: r115/x23,\n",
       "  d4: r114/x14,\n",
       "  d5: r116,\n",
       "  a12: 0,\n",
       "  a13: r117,\n",
       "  a14: r118,\n",
       "  a15: r119,\n",
       "  a23: r120,\n",
       "  a24: r121,\n",
       "  a25: r122,\n",
       "  a34: 0,\n",
       "  a35: 0,\n",
       "  a45: -r116*x15/x14}]"
      ]
     },
     "metadata": {},
     "output_type": "display_data"
    },
    {
     "data": {
      "text/plain": [
       "\\left[\\left\\{d_{1} : r_{103}, d_{2} : 0, d_{3} : 0, d_{4} : r_{104}, d_{5} : r_{105}, a_{12} : r_{106}, a_{13} : r_{107}, a_{14} : r_{108}, a_{15} : r_{109}, a_{23} : r_{110}, a_{24} : r_{111}, a_{25} : r_{112}, a_{34} : 0, a_{35} : 0, a_{45} : r_{113}\\right\\}, \\left\\{d_{1} : r_{114}, d_{2} : r_{115}, d_{3} : \\frac{r_{115}}{x_{23}}, d_{4} : \\frac{r_{114}}{x_{14}}, d_{5} : r_{116}, a_{12} : 0, a_{13} : r_{117}, a_{14} : r_{118}, a_{15} : r_{119}, a_{23} : r_{120}, a_{24} : r_{121}, a_{25} : r_{122}, a_{34} : 0, a_{35} : 0, a_{45} : -\\frac{r_{116} x_{15}}{x_{14}}\\right\\}\\right]"
      ]
     },
     "execution_count": 6,
     "metadata": {},
     "output_type": "execute_result"
    }
   ],
   "source": [
    "#x3\n",
    "reset()\n",
    "\n",
    "var('x12,x13,x14,x15,x23,x24,x25,x34,x35,x45')\n",
    "var('d1,d2,d3,d4,d5')\n",
    "var('a12,a13,a14,a15,a23,a24,a25,a34,a35,a45')\n",
    "\n",
    "load_attach_path('C:\\\\Users\\\\julia\\\\Documents\\\\unb\\\\doutorado\\\\pensar\\\\codigo_sage_v2\\\\maquina\\\\x3')\n",
    "load('out_#000011.sage')\n",
    "\n",
    "m=matrix(QQ, [[0, 0, 0, 1, 0],\n",
    "              [0, 0, 1, 0, 0],\n",
    "              [0, 0, 0, 0, 0],\n",
    "              [0, 0, 0, 0, 0],\n",
    "              [0, 0, 0, 0, 0]])\n",
    "        \n",
    "#entry of matrix: (i,j) line i collum j, means (i-1,j-1)\n",
    "sol=solve([ eq1==m[0,2],\teq2==m[0,3],\teq3==m[0,4],\teq4==m[1,2],\t\n",
    "                                            eq5==m[1,3],    eq6==m[1,4],\n",
    "                                                            eq7==m[2,4]],d1,d2,d3,d4,d5,a12,a13,a14,a15,a23,a24,a25,a34,a35,a45, solution_dict=True)\n",
    "\n",
    "show(m)\n",
    "show(sol)\n",
    "latex(sol)"
   ]
  },
  {
   "cell_type": "code",
   "execution_count": 7,
   "metadata": {},
   "outputs": [
    {
     "data": {
      "text/html": [
       "<html><script type=\"math/tex; mode=display\">\\newcommand{\\Bold}[1]{\\mathbf{#1}}\\left(\\begin{array}{rrrrr}\n",
       "0 & 0 & 0 & 0 & 0 \\\\\n",
       "0 & 0 & 1 & 0 & 0 \\\\\n",
       "0 & 0 & 0 & 0 & 0 \\\\\n",
       "0 & 0 & 0 & 0 & 0 \\\\\n",
       "0 & 0 & 0 & 0 & 0\n",
       "\\end{array}\\right)</script></html>"
      ],
      "text/latex": [
       "$$\\newcommand{\\Bold}[1]{\\mathbf{#1}}\\left(\\begin{array}{rrrrr}\n",
       "0 & 0 & 0 & 0 & 0 \\\\\n",
       "0 & 0 & 1 & 0 & 0 \\\\\n",
       "0 & 0 & 0 & 0 & 0 \\\\\n",
       "0 & 0 & 0 & 0 & 0 \\\\\n",
       "0 & 0 & 0 & 0 & 0\n",
       "\\end{array}\\right)$$"
      ],
      "text/plain": [
       "[0 0 0 0 0]\n",
       "[0 0 1 0 0]\n",
       "[0 0 0 0 0]\n",
       "[0 0 0 0 0]\n",
       "[0 0 0 0 0]"
      ]
     },
     "metadata": {},
     "output_type": "display_data"
    },
    {
     "data": {
      "text/html": [
       "<html><script type=\"math/tex; mode=display\">\\newcommand{\\Bold}[1]{\\mathbf{#1}}\\left[\\left\\{d_{1} : r_{123}, d_{2} : 0, d_{3} : 0, d_{4} : r_{124}, d_{5} : r_{125}, a_{12} : r_{126}, a_{13} : r_{127}, a_{14} : r_{128}, a_{15} : r_{129}, a_{23} : r_{130}, a_{24} : r_{131}, a_{25} : r_{132}, a_{34} : 0, a_{35} : 0, a_{45} : r_{133}\\right\\}, \\left\\{d_{1} : r_{134}, d_{2} : r_{135}, d_{3} : \\frac{r_{135}}{x_{23}}, d_{4} : r_{136}, d_{5} : r_{137}, a_{12} : \\frac{r_{135} x_{13}}{x_{23}}, a_{13} : r_{138}, a_{14} : r_{139}, a_{15} : r_{140}, a_{23} : r_{141}, a_{24} : r_{142}, a_{25} : r_{143}, a_{34} : 0, a_{35} : 0, a_{45} : r_{144}\\right\\}\\right]</script></html>"
      ],
      "text/latex": [
       "$$\\newcommand{\\Bold}[1]{\\mathbf{#1}}\\left[\\left\\{d_{1} : r_{123}, d_{2} : 0, d_{3} : 0, d_{4} : r_{124}, d_{5} : r_{125}, a_{12} : r_{126}, a_{13} : r_{127}, a_{14} : r_{128}, a_{15} : r_{129}, a_{23} : r_{130}, a_{24} : r_{131}, a_{25} : r_{132}, a_{34} : 0, a_{35} : 0, a_{45} : r_{133}\\right\\}, \\left\\{d_{1} : r_{134}, d_{2} : r_{135}, d_{3} : \\frac{r_{135}}{x_{23}}, d_{4} : r_{136}, d_{5} : r_{137}, a_{12} : \\frac{r_{135} x_{13}}{x_{23}}, a_{13} : r_{138}, a_{14} : r_{139}, a_{15} : r_{140}, a_{23} : r_{141}, a_{24} : r_{142}, a_{25} : r_{143}, a_{34} : 0, a_{35} : 0, a_{45} : r_{144}\\right\\}\\right]$$"
      ],
      "text/plain": [
       "[{d1: r123,\n",
       "  d2: 0,\n",
       "  d3: 0,\n",
       "  d4: r124,\n",
       "  d5: r125,\n",
       "  a12: r126,\n",
       "  a13: r127,\n",
       "  a14: r128,\n",
       "  a15: r129,\n",
       "  a23: r130,\n",
       "  a24: r131,\n",
       "  a25: r132,\n",
       "  a34: 0,\n",
       "  a35: 0,\n",
       "  a45: r133},\n",
       " {d1: r134,\n",
       "  d2: r135,\n",
       "  d3: r135/x23,\n",
       "  d4: r136,\n",
       "  d5: r137,\n",
       "  a12: r135*x13/x23,\n",
       "  a13: r138,\n",
       "  a14: r139,\n",
       "  a15: r140,\n",
       "  a23: r141,\n",
       "  a24: r142,\n",
       "  a25: r143,\n",
       "  a34: 0,\n",
       "  a35: 0,\n",
       "  a45: r144}]"
      ]
     },
     "metadata": {},
     "output_type": "display_data"
    },
    {
     "data": {
      "text/plain": [
       "\\left[\\left\\{d_{1} : r_{123}, d_{2} : 0, d_{3} : 0, d_{4} : r_{124}, d_{5} : r_{125}, a_{12} : r_{126}, a_{13} : r_{127}, a_{14} : r_{128}, a_{15} : r_{129}, a_{23} : r_{130}, a_{24} : r_{131}, a_{25} : r_{132}, a_{34} : 0, a_{35} : 0, a_{45} : r_{133}\\right\\}, \\left\\{d_{1} : r_{134}, d_{2} : r_{135}, d_{3} : \\frac{r_{135}}{x_{23}}, d_{4} : r_{136}, d_{5} : r_{137}, a_{12} : \\frac{r_{135} x_{13}}{x_{23}}, a_{13} : r_{138}, a_{14} : r_{139}, a_{15} : r_{140}, a_{23} : r_{141}, a_{24} : r_{142}, a_{25} : r_{143}, a_{34} : 0, a_{35} : 0, a_{45} : r_{144}\\right\\}\\right]"
      ]
     },
     "execution_count": 7,
     "metadata": {},
     "output_type": "execute_result"
    }
   ],
   "source": [
    "#x3\n",
    "reset()\n",
    "\n",
    "var('x12,x13,x14,x15,x23,x24,x25,x34,x35,x45')\n",
    "var('d1,d2,d3,d4,d5')\n",
    "var('a12,a13,a14,a15,a23,a24,a25,a34,a35,a45')\n",
    "\n",
    "load_attach_path('C:\\\\Users\\\\julia\\\\Documents\\\\unb\\\\doutorado\\\\pensar\\\\codigo_sage_v2\\\\maquina\\\\x3')\n",
    "load('out_#000100.sage')\n",
    "\n",
    "m=matrix(QQ, [[0, 0, 0, 0, 0],\n",
    "              [0, 0, 1, 0, 0],\n",
    "              [0, 0, 0, 0, 0],\n",
    "              [0, 0, 0, 0, 0],\n",
    "              [0, 0, 0, 0, 0]])\n",
    "        \n",
    "#entry of matrix: (i,j) line i collum j, means (i-1,j-1)\n",
    "sol=solve([ eq1==m[0,2],\teq2==m[0,3],\teq3==m[0,4],\teq4==m[1,2],\t\n",
    "                                            eq5==m[1,3],    eq6==m[1,4],\n",
    "                                                            eq7==m[2,4]],d1,d2,d3,d4,d5,a12,a13,a14,a15,a23,a24,a25,a34,a35,a45, solution_dict=True)\n",
    "\n",
    "show(m)\n",
    "show(sol)\n",
    "latex(sol)"
   ]
  },
  {
   "cell_type": "code",
   "execution_count": 3,
   "metadata": {},
   "outputs": [
    {
     "data": {
      "text/html": [
       "<html><script type=\"math/tex; mode=display\">\\newcommand{\\Bold}[1]{\\mathbf{#1}}\\left(\\begin{array}{rrrrr}\n",
       "0 & 0 & 0 & 0 & 1 \\\\\n",
       "0 & 0 & 1 & 0 & 0 \\\\\n",
       "0 & 0 & 0 & 0 & 0 \\\\\n",
       "0 & 0 & 0 & 0 & 0 \\\\\n",
       "0 & 0 & 0 & 0 & 0\n",
       "\\end{array}\\right)</script></html>"
      ],
      "text/latex": [
       "$$\\newcommand{\\Bold}[1]{\\mathbf{#1}}\\left(\\begin{array}{rrrrr}\n",
       "0 & 0 & 0 & 0 & 1 \\\\\n",
       "0 & 0 & 1 & 0 & 0 \\\\\n",
       "0 & 0 & 0 & 0 & 0 \\\\\n",
       "0 & 0 & 0 & 0 & 0 \\\\\n",
       "0 & 0 & 0 & 0 & 0\n",
       "\\end{array}\\right)$$"
      ],
      "text/plain": [
       "[0 0 0 0 1]\n",
       "[0 0 1 0 0]\n",
       "[0 0 0 0 0]\n",
       "[0 0 0 0 0]\n",
       "[0 0 0 0 0]"
      ]
     },
     "metadata": {},
     "output_type": "display_data"
    },
    {
     "data": {
      "text/html": [
       "<html><script type=\"math/tex; mode=display\">\\newcommand{\\Bold}[1]{\\mathbf{#1}}\\left[\\left\\{d_{1} : r_{43}, d_{2} : 0, d_{3} : 0, d_{4} : r_{44}, d_{5} : r_{45}, a_{12} : r_{46}, a_{13} : r_{47}, a_{14} : r_{48}, a_{15} : r_{49}, a_{23} : r_{50}, a_{24} : r_{51}, a_{25} : r_{52}, a_{34} : 0, a_{35} : 0, a_{45} : r_{53}\\right\\}, \\left\\{d_{1} : r_{54}, d_{2} : r_{55}, d_{3} : \\frac{r_{55}}{x_{23}}, d_{4} : r_{56}, d_{5} : \\frac{r_{54}}{x_{15}}, a_{12} : \\frac{r_{55} x_{13}}{x_{23}}, a_{13} : r_{57}, a_{14} : r_{58}, a_{15} : r_{59}, a_{23} : r_{60}, a_{24} : r_{61}, a_{25} : r_{62}, a_{34} : 0, a_{35} : 0, a_{45} : r_{63}\\right\\}\\right]</script></html>"
      ],
      "text/latex": [
       "$$\\newcommand{\\Bold}[1]{\\mathbf{#1}}\\left[\\left\\{d_{1} : r_{43}, d_{2} : 0, d_{3} : 0, d_{4} : r_{44}, d_{5} : r_{45}, a_{12} : r_{46}, a_{13} : r_{47}, a_{14} : r_{48}, a_{15} : r_{49}, a_{23} : r_{50}, a_{24} : r_{51}, a_{25} : r_{52}, a_{34} : 0, a_{35} : 0, a_{45} : r_{53}\\right\\}, \\left\\{d_{1} : r_{54}, d_{2} : r_{55}, d_{3} : \\frac{r_{55}}{x_{23}}, d_{4} : r_{56}, d_{5} : \\frac{r_{54}}{x_{15}}, a_{12} : \\frac{r_{55} x_{13}}{x_{23}}, a_{13} : r_{57}, a_{14} : r_{58}, a_{15} : r_{59}, a_{23} : r_{60}, a_{24} : r_{61}, a_{25} : r_{62}, a_{34} : 0, a_{35} : 0, a_{45} : r_{63}\\right\\}\\right]$$"
      ],
      "text/plain": [
       "[{d1: r43,\n",
       "  d2: 0,\n",
       "  d3: 0,\n",
       "  d4: r44,\n",
       "  d5: r45,\n",
       "  a12: r46,\n",
       "  a13: r47,\n",
       "  a14: r48,\n",
       "  a15: r49,\n",
       "  a23: r50,\n",
       "  a24: r51,\n",
       "  a25: r52,\n",
       "  a34: 0,\n",
       "  a35: 0,\n",
       "  a45: r53},\n",
       " {d1: r54,\n",
       "  d2: r55,\n",
       "  d3: r55/x23,\n",
       "  d4: r56,\n",
       "  d5: r54/x15,\n",
       "  a12: r55*x13/x23,\n",
       "  a13: r57,\n",
       "  a14: r58,\n",
       "  a15: r59,\n",
       "  a23: r60,\n",
       "  a24: r61,\n",
       "  a25: r62,\n",
       "  a34: 0,\n",
       "  a35: 0,\n",
       "  a45: r63}]"
      ]
     },
     "metadata": {},
     "output_type": "display_data"
    },
    {
     "data": {
      "text/plain": [
       "\\left[\\left\\{d_{1} : r_{43}, d_{2} : 0, d_{3} : 0, d_{4} : r_{44}, d_{5} : r_{45}, a_{12} : r_{46}, a_{13} : r_{47}, a_{14} : r_{48}, a_{15} : r_{49}, a_{23} : r_{50}, a_{24} : r_{51}, a_{25} : r_{52}, a_{34} : 0, a_{35} : 0, a_{45} : r_{53}\\right\\}, \\left\\{d_{1} : r_{54}, d_{2} : r_{55}, d_{3} : \\frac{r_{55}}{x_{23}}, d_{4} : r_{56}, d_{5} : \\frac{r_{54}}{x_{15}}, a_{12} : \\frac{r_{55} x_{13}}{x_{23}}, a_{13} : r_{57}, a_{14} : r_{58}, a_{15} : r_{59}, a_{23} : r_{60}, a_{24} : r_{61}, a_{25} : r_{62}, a_{34} : 0, a_{35} : 0, a_{45} : r_{63}\\right\\}\\right]"
      ]
     },
     "execution_count": 3,
     "metadata": {},
     "output_type": "execute_result"
    }
   ],
   "source": [
    "#x3\n",
    "reset()\n",
    "\n",
    "var('x12,x13,x14,x15,x23,x24,x25,x34,x35,x45')\n",
    "var('d1,d2,d3,d4,d5')\n",
    "var('a12,a13,a14,a15,a23,a24,a25,a34,a35,a45')\n",
    "\n",
    "load_attach_path('C:\\\\Users\\\\julia\\\\Documents\\\\unb\\\\doutorado\\\\pensar\\\\codigo_sage_v2\\\\maquina\\\\x3')\n",
    "load('out_#000101.sage')\n",
    "\n",
    "m=matrix(QQ, [[0, 0, 0, 0, 1],\n",
    "              [0, 0, 1, 0, 0],\n",
    "              [0, 0, 0, 0, 0],\n",
    "              [0, 0, 0, 0, 0],\n",
    "              [0, 0, 0, 0, 0]])\n",
    "        \n",
    "#entry of matrix: (i,j) line i collum j, means (i-1,j-1)\n",
    "sol=solve([ eq1==m[0,2],\teq2==m[0,3],\teq3==m[0,4],\teq4==m[1,2],\t\n",
    "                                            eq5==m[1,3],    eq6==m[1,4],\n",
    "                                                            eq7==m[2,4]],d1,d2,d3,d4,d5,a12,a13,a14,a15,a23,a24,a25,a34,a35,a45, solution_dict=True)\n",
    "\n",
    "show(m)\n",
    "show(sol)\n",
    "latex(sol)"
   ]
  },
  {
   "cell_type": "code",
   "execution_count": 9,
   "metadata": {},
   "outputs": [
    {
     "data": {
      "text/html": [
       "<html><script type=\"math/tex; mode=display\">\\newcommand{\\Bold}[1]{\\mathbf{#1}}\\left(\\begin{array}{rrrrr}\n",
       "0 & 0 & 0 & 1 & 0 \\\\\n",
       "0 & 0 & 1 & 0 & 0 \\\\\n",
       "0 & 0 & 0 & 0 & 0 \\\\\n",
       "0 & 0 & 0 & 0 & 0 \\\\\n",
       "0 & 0 & 0 & 0 & 0\n",
       "\\end{array}\\right)</script></html>"
      ],
      "text/latex": [
       "$$\\newcommand{\\Bold}[1]{\\mathbf{#1}}\\left(\\begin{array}{rrrrr}\n",
       "0 & 0 & 0 & 1 & 0 \\\\\n",
       "0 & 0 & 1 & 0 & 0 \\\\\n",
       "0 & 0 & 0 & 0 & 0 \\\\\n",
       "0 & 0 & 0 & 0 & 0 \\\\\n",
       "0 & 0 & 0 & 0 & 0\n",
       "\\end{array}\\right)$$"
      ],
      "text/plain": [
       "[0 0 0 1 0]\n",
       "[0 0 1 0 0]\n",
       "[0 0 0 0 0]\n",
       "[0 0 0 0 0]\n",
       "[0 0 0 0 0]"
      ]
     },
     "metadata": {},
     "output_type": "display_data"
    },
    {
     "data": {
      "text/html": [
       "<html><script type=\"math/tex; mode=display\">\\newcommand{\\Bold}[1]{\\mathbf{#1}}\\left[\\left\\{d_{1} : r_{166}, d_{2} : 0, d_{3} : 0, d_{4} : r_{167}, d_{5} : r_{168}, a_{12} : r_{169}, a_{13} : r_{170}, a_{14} : r_{171}, a_{15} : r_{172}, a_{23} : r_{173}, a_{24} : r_{174}, a_{25} : r_{175}, a_{34} : 0, a_{35} : 0, a_{45} : r_{176}\\right\\}, \\left\\{d_{1} : r_{177}, d_{2} : r_{178}, d_{3} : \\frac{r_{178}}{x_{23}}, d_{4} : \\frac{r_{177}}{x_{14}}, d_{5} : r_{179}, a_{12} : \\frac{r_{178} x_{13}}{x_{23}}, a_{13} : r_{180}, a_{14} : r_{181}, a_{15} : r_{182}, a_{23} : r_{183}, a_{24} : r_{184}, a_{25} : r_{185}, a_{34} : 0, a_{35} : 0, a_{45} : 0\\right\\}\\right]</script></html>"
      ],
      "text/latex": [
       "$$\\newcommand{\\Bold}[1]{\\mathbf{#1}}\\left[\\left\\{d_{1} : r_{166}, d_{2} : 0, d_{3} : 0, d_{4} : r_{167}, d_{5} : r_{168}, a_{12} : r_{169}, a_{13} : r_{170}, a_{14} : r_{171}, a_{15} : r_{172}, a_{23} : r_{173}, a_{24} : r_{174}, a_{25} : r_{175}, a_{34} : 0, a_{35} : 0, a_{45} : r_{176}\\right\\}, \\left\\{d_{1} : r_{177}, d_{2} : r_{178}, d_{3} : \\frac{r_{178}}{x_{23}}, d_{4} : \\frac{r_{177}}{x_{14}}, d_{5} : r_{179}, a_{12} : \\frac{r_{178} x_{13}}{x_{23}}, a_{13} : r_{180}, a_{14} : r_{181}, a_{15} : r_{182}, a_{23} : r_{183}, a_{24} : r_{184}, a_{25} : r_{185}, a_{34} : 0, a_{35} : 0, a_{45} : 0\\right\\}\\right]$$"
      ],
      "text/plain": [
       "[{d1: r166,\n",
       "  d2: 0,\n",
       "  d3: 0,\n",
       "  d4: r167,\n",
       "  d5: r168,\n",
       "  a12: r169,\n",
       "  a13: r170,\n",
       "  a14: r171,\n",
       "  a15: r172,\n",
       "  a23: r173,\n",
       "  a24: r174,\n",
       "  a25: r175,\n",
       "  a34: 0,\n",
       "  a35: 0,\n",
       "  a45: r176},\n",
       " {d1: r177,\n",
       "  d2: r178,\n",
       "  d3: r178/x23,\n",
       "  d4: r177/x14,\n",
       "  d5: r179,\n",
       "  a12: r178*x13/x23,\n",
       "  a13: r180,\n",
       "  a14: r181,\n",
       "  a15: r182,\n",
       "  a23: r183,\n",
       "  a24: r184,\n",
       "  a25: r185,\n",
       "  a34: 0,\n",
       "  a35: 0,\n",
       "  a45: 0}]"
      ]
     },
     "metadata": {},
     "output_type": "display_data"
    },
    {
     "data": {
      "text/plain": [
       "\\left[\\left\\{d_{1} : r_{166}, d_{2} : 0, d_{3} : 0, d_{4} : r_{167}, d_{5} : r_{168}, a_{12} : r_{169}, a_{13} : r_{170}, a_{14} : r_{171}, a_{15} : r_{172}, a_{23} : r_{173}, a_{24} : r_{174}, a_{25} : r_{175}, a_{34} : 0, a_{35} : 0, a_{45} : r_{176}\\right\\}, \\left\\{d_{1} : r_{177}, d_{2} : r_{178}, d_{3} : \\frac{r_{178}}{x_{23}}, d_{4} : \\frac{r_{177}}{x_{14}}, d_{5} : r_{179}, a_{12} : \\frac{r_{178} x_{13}}{x_{23}}, a_{13} : r_{180}, a_{14} : r_{181}, a_{15} : r_{182}, a_{23} : r_{183}, a_{24} : r_{184}, a_{25} : r_{185}, a_{34} : 0, a_{35} : 0, a_{45} : 0\\right\\}\\right]"
      ]
     },
     "execution_count": 9,
     "metadata": {},
     "output_type": "execute_result"
    }
   ],
   "source": [
    "#x3\n",
    "reset()\n",
    "\n",
    "var('x12,x13,x14,x15,x23,x24,x25,x34,x35,x45')\n",
    "var('d1,d2,d3,d4,d5')\n",
    "var('a12,a13,a14,a15,a23,a24,a25,a34,a35,a45')\n",
    "\n",
    "load_attach_path('C:\\\\Users\\\\julia\\\\Documents\\\\unb\\\\doutorado\\\\pensar\\\\codigo_sage_v2\\\\maquina\\\\x3')\n",
    "load('out_#000110.sage')\n",
    "\n",
    "m=matrix(QQ, [[0, 0, 0, 1, 0],\n",
    "              [0, 0, 1, 0, 0],\n",
    "              [0, 0, 0, 0, 0],\n",
    "              [0, 0, 0, 0, 0],\n",
    "              [0, 0, 0, 0, 0]])\n",
    "        \n",
    "#entry of matrix: (i,j) line i collum j, means (i-1,j-1)\n",
    "sol=solve([ eq1==m[0,2],\teq2==m[0,3],\teq3==m[0,4],\teq4==m[1,2],\t\n",
    "                                            eq5==m[1,3],    eq6==m[1,4],\n",
    "                                                            eq7==m[2,4]],d1,d2,d3,d4,d5,a12,a13,a14,a15,a23,a24,a25,a34,a35,a45, solution_dict=True)\n",
    "\n",
    "show(m)\n",
    "show(sol)\n",
    "latex(sol)"
   ]
  },
  {
   "cell_type": "code",
   "execution_count": 13,
   "metadata": {},
   "outputs": [
    {
     "data": {
      "text/html": [
       "<html><script type=\"math/tex; mode=display\">\\newcommand{\\Bold}[1]{\\mathbf{#1}}\\left(\\begin{array}{rrrrr}\n",
       "0 & 0 & 0 & 1 & 0 \\\\\n",
       "0 & 0 & 1 & 0 & 0 \\\\\n",
       "0 & 0 & 0 & 0 & 0 \\\\\n",
       "0 & 0 & 0 & 0 & 0 \\\\\n",
       "0 & 0 & 0 & 0 & 0\n",
       "\\end{array}\\right)</script></html>"
      ],
      "text/latex": [
       "$$\\newcommand{\\Bold}[1]{\\mathbf{#1}}\\left(\\begin{array}{rrrrr}\n",
       "0 & 0 & 0 & 1 & 0 \\\\\n",
       "0 & 0 & 1 & 0 & 0 \\\\\n",
       "0 & 0 & 0 & 0 & 0 \\\\\n",
       "0 & 0 & 0 & 0 & 0 \\\\\n",
       "0 & 0 & 0 & 0 & 0\n",
       "\\end{array}\\right)$$"
      ],
      "text/plain": [
       "[0 0 0 1 0]\n",
       "[0 0 1 0 0]\n",
       "[0 0 0 0 0]\n",
       "[0 0 0 0 0]\n",
       "[0 0 0 0 0]"
      ]
     },
     "metadata": {},
     "output_type": "display_data"
    },
    {
     "data": {
      "text/html": [
       "<html><script type=\"math/tex; mode=display\">\\newcommand{\\Bold}[1]{\\mathbf{#1}}\\left[\\left\\{d_{1} : r_{249}, d_{2} : 0, d_{3} : 0, d_{4} : r_{250}, d_{5} : r_{251}, a_{12} : r_{252}, a_{13} : r_{253}, a_{14} : r_{254}, a_{15} : r_{255}, a_{23} : r_{256}, a_{24} : r_{257}, a_{25} : r_{258}, a_{34} : 0, a_{35} : 0, a_{45} : r_{259}\\right\\}, \\left\\{d_{1} : r_{260}, d_{2} : r_{261}, d_{3} : \\frac{r_{261}}{x_{23}}, d_{4} : \\frac{r_{260}}{x_{14}}, d_{5} : r_{262}, a_{12} : \\frac{r_{261} x_{13}}{x_{23}}, a_{13} : r_{263}, a_{14} : r_{264}, a_{15} : r_{265}, a_{23} : r_{266}, a_{24} : r_{267}, a_{25} : r_{268}, a_{34} : 0, a_{35} : 0, a_{45} : -\\frac{r_{262} x_{15}}{x_{14}}\\right\\}\\right]</script></html>"
      ],
      "text/latex": [
       "$$\\newcommand{\\Bold}[1]{\\mathbf{#1}}\\left[\\left\\{d_{1} : r_{249}, d_{2} : 0, d_{3} : 0, d_{4} : r_{250}, d_{5} : r_{251}, a_{12} : r_{252}, a_{13} : r_{253}, a_{14} : r_{254}, a_{15} : r_{255}, a_{23} : r_{256}, a_{24} : r_{257}, a_{25} : r_{258}, a_{34} : 0, a_{35} : 0, a_{45} : r_{259}\\right\\}, \\left\\{d_{1} : r_{260}, d_{2} : r_{261}, d_{3} : \\frac{r_{261}}{x_{23}}, d_{4} : \\frac{r_{260}}{x_{14}}, d_{5} : r_{262}, a_{12} : \\frac{r_{261} x_{13}}{x_{23}}, a_{13} : r_{263}, a_{14} : r_{264}, a_{15} : r_{265}, a_{23} : r_{266}, a_{24} : r_{267}, a_{25} : r_{268}, a_{34} : 0, a_{35} : 0, a_{45} : -\\frac{r_{262} x_{15}}{x_{14}}\\right\\}\\right]$$"
      ],
      "text/plain": [
       "[{d1: r249,\n",
       "  d2: 0,\n",
       "  d3: 0,\n",
       "  d4: r250,\n",
       "  d5: r251,\n",
       "  a12: r252,\n",
       "  a13: r253,\n",
       "  a14: r254,\n",
       "  a15: r255,\n",
       "  a23: r256,\n",
       "  a24: r257,\n",
       "  a25: r258,\n",
       "  a34: 0,\n",
       "  a35: 0,\n",
       "  a45: r259},\n",
       " {d1: r260,\n",
       "  d2: r261,\n",
       "  d3: r261/x23,\n",
       "  d4: r260/x14,\n",
       "  d5: r262,\n",
       "  a12: r261*x13/x23,\n",
       "  a13: r263,\n",
       "  a14: r264,\n",
       "  a15: r265,\n",
       "  a23: r266,\n",
       "  a24: r267,\n",
       "  a25: r268,\n",
       "  a34: 0,\n",
       "  a35: 0,\n",
       "  a45: -r262*x15/x14}]"
      ]
     },
     "metadata": {},
     "output_type": "display_data"
    },
    {
     "data": {
      "text/plain": [
       "\\left[\\left\\{d_{1} : r_{249}, d_{2} : 0, d_{3} : 0, d_{4} : r_{250}, d_{5} : r_{251}, a_{12} : r_{252}, a_{13} : r_{253}, a_{14} : r_{254}, a_{15} : r_{255}, a_{23} : r_{256}, a_{24} : r_{257}, a_{25} : r_{258}, a_{34} : 0, a_{35} : 0, a_{45} : r_{259}\\right\\}, \\left\\{d_{1} : r_{260}, d_{2} : r_{261}, d_{3} : \\frac{r_{261}}{x_{23}}, d_{4} : \\frac{r_{260}}{x_{14}}, d_{5} : r_{262}, a_{12} : \\frac{r_{261} x_{13}}{x_{23}}, a_{13} : r_{263}, a_{14} : r_{264}, a_{15} : r_{265}, a_{23} : r_{266}, a_{24} : r_{267}, a_{25} : r_{268}, a_{34} : 0, a_{35} : 0, a_{45} : -\\frac{r_{262} x_{15}}{x_{14}}\\right\\}\\right]"
      ]
     },
     "execution_count": 13,
     "metadata": {},
     "output_type": "execute_result"
    }
   ],
   "source": [
    "#x3\n",
    "reset()\n",
    "\n",
    "var('x12,x13,x14,x15,x23,x24,x25,x34,x35,x45')\n",
    "var('d1,d2,d3,d4,d5')\n",
    "var('a12,a13,a14,a15,a23,a24,a25,a34,a35,a45')\n",
    "\n",
    "load_attach_path('C:\\\\Users\\\\julia\\\\Documents\\\\unb\\\\doutorado\\\\pensar\\\\codigo_sage_v2\\\\maquina\\\\x3')\n",
    "load('out_#000111.sage')\n",
    "\n",
    "m=matrix(QQ, [[0, 0, 0, 1, 0],\n",
    "              [0, 0, 1, 0, 0],\n",
    "              [0, 0, 0, 0, 0],\n",
    "              [0, 0, 0, 0, 0],\n",
    "              [0, 0, 0, 0, 0]])\n",
    "        \n",
    "#entry of matrix: (i,j) line i collum j, means (i-1,j-1)\n",
    "sol=solve([ eq1==m[0,2],\teq2==m[0,3],\teq3==m[0,4],\teq4==m[1,2],\t\n",
    "                                            eq5==m[1,3],    eq6==m[1,4],\n",
    "                                                            eq7==m[2,4]],d1,d2,d3,d4,d5,a12,a13,a14,a15,a23,a24,a25,a34,a35,a45, solution_dict=True)\n",
    "\n",
    "show(m)\n",
    "show(sol)\n",
    "latex(sol)"
   ]
  },
  {
   "cell_type": "code",
   "execution_count": 14,
   "metadata": {},
   "outputs": [
    {
     "data": {
      "text/html": [
       "<html><script type=\"math/tex; mode=display\">\\newcommand{\\Bold}[1]{\\mathbf{#1}}\\left(\\begin{array}{rrrrr}\n",
       "0 & 0 & 0 & 0 & 0 \\\\\n",
       "0 & 0 & 1 & 0 & 0 \\\\\n",
       "0 & 0 & 0 & 0 & 0 \\\\\n",
       "0 & 0 & 0 & 0 & 0 \\\\\n",
       "0 & 0 & 0 & 0 & 0\n",
       "\\end{array}\\right)</script></html>"
      ],
      "text/latex": [
       "$$\\newcommand{\\Bold}[1]{\\mathbf{#1}}\\left(\\begin{array}{rrrrr}\n",
       "0 & 0 & 0 & 0 & 0 \\\\\n",
       "0 & 0 & 1 & 0 & 0 \\\\\n",
       "0 & 0 & 0 & 0 & 0 \\\\\n",
       "0 & 0 & 0 & 0 & 0 \\\\\n",
       "0 & 0 & 0 & 0 & 0\n",
       "\\end{array}\\right)$$"
      ],
      "text/plain": [
       "[0 0 0 0 0]\n",
       "[0 0 1 0 0]\n",
       "[0 0 0 0 0]\n",
       "[0 0 0 0 0]\n",
       "[0 0 0 0 0]"
      ]
     },
     "metadata": {},
     "output_type": "display_data"
    },
    {
     "data": {
      "text/html": [
       "<html><script type=\"math/tex; mode=display\">\\newcommand{\\Bold}[1]{\\mathbf{#1}}\\left[\\left\\{d_{1} : r_{269}, d_{2} : r_{270}, d_{3} : \\frac{r_{270}}{x_{23}}, d_{4} : r_{271}, d_{5} : r_{272}, a_{12} : 0, a_{13} : r_{273}, a_{14} : r_{274}, a_{15} : r_{275}, a_{23} : r_{276}, a_{24} : r_{277}, a_{25} : r_{278}, a_{34} : 0, a_{35} : -\\frac{r_{272} x_{25}}{x_{23}}, a_{45} : r_{279}\\right\\}, \\left\\{d_{1} : r_{280}, d_{2} : 0, d_{3} : 0, d_{4} : r_{281}, d_{5} : r_{282}, a_{12} : r_{283}, a_{13} : r_{284}, a_{14} : r_{285}, a_{15} : r_{286}, a_{23} : r_{287}, a_{24} : r_{288}, a_{25} : r_{289}, a_{34} : 0, a_{35} : -\\frac{r_{282} x_{25}}{x_{23}}, a_{45} : r_{290}\\right\\}\\right]</script></html>"
      ],
      "text/latex": [
       "$$\\newcommand{\\Bold}[1]{\\mathbf{#1}}\\left[\\left\\{d_{1} : r_{269}, d_{2} : r_{270}, d_{3} : \\frac{r_{270}}{x_{23}}, d_{4} : r_{271}, d_{5} : r_{272}, a_{12} : 0, a_{13} : r_{273}, a_{14} : r_{274}, a_{15} : r_{275}, a_{23} : r_{276}, a_{24} : r_{277}, a_{25} : r_{278}, a_{34} : 0, a_{35} : -\\frac{r_{272} x_{25}}{x_{23}}, a_{45} : r_{279}\\right\\}, \\left\\{d_{1} : r_{280}, d_{2} : 0, d_{3} : 0, d_{4} : r_{281}, d_{5} : r_{282}, a_{12} : r_{283}, a_{13} : r_{284}, a_{14} : r_{285}, a_{15} : r_{286}, a_{23} : r_{287}, a_{24} : r_{288}, a_{25} : r_{289}, a_{34} : 0, a_{35} : -\\frac{r_{282} x_{25}}{x_{23}}, a_{45} : r_{290}\\right\\}\\right]$$"
      ],
      "text/plain": [
       "[{d1: r269,\n",
       "  d2: r270,\n",
       "  d3: r270/x23,\n",
       "  d4: r271,\n",
       "  d5: r272,\n",
       "  a12: 0,\n",
       "  a13: r273,\n",
       "  a14: r274,\n",
       "  a15: r275,\n",
       "  a23: r276,\n",
       "  a24: r277,\n",
       "  a25: r278,\n",
       "  a34: 0,\n",
       "  a35: -r272*x25/x23,\n",
       "  a45: r279},\n",
       " {d1: r280,\n",
       "  d2: 0,\n",
       "  d3: 0,\n",
       "  d4: r281,\n",
       "  d5: r282,\n",
       "  a12: r283,\n",
       "  a13: r284,\n",
       "  a14: r285,\n",
       "  a15: r286,\n",
       "  a23: r287,\n",
       "  a24: r288,\n",
       "  a25: r289,\n",
       "  a34: 0,\n",
       "  a35: -r282*x25/x23,\n",
       "  a45: r290}]"
      ]
     },
     "metadata": {},
     "output_type": "display_data"
    },
    {
     "data": {
      "text/plain": [
       "\\left[\\left\\{d_{1} : r_{269}, d_{2} : r_{270}, d_{3} : \\frac{r_{270}}{x_{23}}, d_{4} : r_{271}, d_{5} : r_{272}, a_{12} : 0, a_{13} : r_{273}, a_{14} : r_{274}, a_{15} : r_{275}, a_{23} : r_{276}, a_{24} : r_{277}, a_{25} : r_{278}, a_{34} : 0, a_{35} : -\\frac{r_{272} x_{25}}{x_{23}}, a_{45} : r_{279}\\right\\}, \\left\\{d_{1} : r_{280}, d_{2} : 0, d_{3} : 0, d_{4} : r_{281}, d_{5} : r_{282}, a_{12} : r_{283}, a_{13} : r_{284}, a_{14} : r_{285}, a_{15} : r_{286}, a_{23} : r_{287}, a_{24} : r_{288}, a_{25} : r_{289}, a_{34} : 0, a_{35} : -\\frac{r_{282} x_{25}}{x_{23}}, a_{45} : r_{290}\\right\\}\\right]"
      ]
     },
     "execution_count": 14,
     "metadata": {},
     "output_type": "execute_result"
    }
   ],
   "source": [
    "#x3\n",
    "reset()\n",
    "\n",
    "var('x12,x13,x14,x15,x23,x24,x25,x34,x35,x45')\n",
    "var('d1,d2,d3,d4,d5')\n",
    "var('a12,a13,a14,a15,a23,a24,a25,a34,a35,a45')\n",
    "\n",
    "load_attach_path('C:\\\\Users\\\\julia\\\\Documents\\\\unb\\\\doutorado\\\\pensar\\\\codigo_sage_v2\\\\maquina\\\\x3')\n",
    "load('out_#001000.sage')\n",
    "\n",
    "m=matrix(QQ, [[0, 0, 0, 0, 0],\n",
    "              [0, 0, 1, 0, 0],\n",
    "              [0, 0, 0, 0, 0],\n",
    "              [0, 0, 0, 0, 0],\n",
    "              [0, 0, 0, 0, 0]])\n",
    "        \n",
    "#entry of matrix: (i,j) line i collum j, means (i-1,j-1)\n",
    "sol=solve([ eq1==m[0,2],\teq2==m[0,3],\teq3==m[0,4],\teq4==m[1,2],\t\n",
    "                                            eq5==m[1,3],    eq6==m[1,4],\n",
    "                                                            eq7==m[2,4]],d1,d2,d3,d4,d5,a12,a13,a14,a15,a23,a24,a25,a34,a35,a45, solution_dict=True)\n",
    "\n",
    "show(m)\n",
    "show(sol)\n",
    "latex(sol)"
   ]
  },
  {
   "cell_type": "code",
   "execution_count": 15,
   "metadata": {},
   "outputs": [
    {
     "data": {
      "text/html": [
       "<html><script type=\"math/tex; mode=display\">\\newcommand{\\Bold}[1]{\\mathbf{#1}}\\left(\\begin{array}{rrrrr}\n",
       "0 & 0 & 0 & 0 & 1 \\\\\n",
       "0 & 0 & 1 & 0 & 0 \\\\\n",
       "0 & 0 & 0 & 0 & 0 \\\\\n",
       "0 & 0 & 0 & 0 & 0 \\\\\n",
       "0 & 0 & 0 & 0 & 0\n",
       "\\end{array}\\right)</script></html>"
      ],
      "text/latex": [
       "$$\\newcommand{\\Bold}[1]{\\mathbf{#1}}\\left(\\begin{array}{rrrrr}\n",
       "0 & 0 & 0 & 0 & 1 \\\\\n",
       "0 & 0 & 1 & 0 & 0 \\\\\n",
       "0 & 0 & 0 & 0 & 0 \\\\\n",
       "0 & 0 & 0 & 0 & 0 \\\\\n",
       "0 & 0 & 0 & 0 & 0\n",
       "\\end{array}\\right)$$"
      ],
      "text/plain": [
       "[0 0 0 0 1]\n",
       "[0 0 1 0 0]\n",
       "[0 0 0 0 0]\n",
       "[0 0 0 0 0]\n",
       "[0 0 0 0 0]"
      ]
     },
     "metadata": {},
     "output_type": "display_data"
    },
    {
     "data": {
      "text/html": [
       "<html><script type=\"math/tex; mode=display\">\\newcommand{\\Bold}[1]{\\mathbf{#1}}\\left[\\left\\{d_{1} : r_{291}, d_{2} : 0, d_{3} : 0, d_{4} : r_{292}, d_{5} : r_{293}, a_{12} : r_{294}, a_{13} : r_{295}, a_{14} : r_{296}, a_{15} : r_{297}, a_{23} : r_{298}, a_{24} : r_{299}, a_{25} : r_{300}, a_{34} : 0, a_{35} : -\\frac{r_{293} x_{25}}{x_{23}}, a_{45} : r_{301}\\right\\}, \\left\\{d_{1} : r_{302}, d_{2} : r_{303}, d_{3} : \\frac{r_{303}}{x_{23}}, d_{4} : r_{304}, d_{5} : \\frac{r_{302}}{x_{15}}, a_{12} : 0, a_{13} : r_{305}, a_{14} : r_{306}, a_{15} : r_{307}, a_{23} : r_{308}, a_{24} : r_{309}, a_{25} : r_{310}, a_{34} : 0, a_{35} : -\\frac{r_{302} x_{25}}{x_{15} x_{23}}, a_{45} : r_{311}\\right\\}\\right]</script></html>"
      ],
      "text/latex": [
       "$$\\newcommand{\\Bold}[1]{\\mathbf{#1}}\\left[\\left\\{d_{1} : r_{291}, d_{2} : 0, d_{3} : 0, d_{4} : r_{292}, d_{5} : r_{293}, a_{12} : r_{294}, a_{13} : r_{295}, a_{14} : r_{296}, a_{15} : r_{297}, a_{23} : r_{298}, a_{24} : r_{299}, a_{25} : r_{300}, a_{34} : 0, a_{35} : -\\frac{r_{293} x_{25}}{x_{23}}, a_{45} : r_{301}\\right\\}, \\left\\{d_{1} : r_{302}, d_{2} : r_{303}, d_{3} : \\frac{r_{303}}{x_{23}}, d_{4} : r_{304}, d_{5} : \\frac{r_{302}}{x_{15}}, a_{12} : 0, a_{13} : r_{305}, a_{14} : r_{306}, a_{15} : r_{307}, a_{23} : r_{308}, a_{24} : r_{309}, a_{25} : r_{310}, a_{34} : 0, a_{35} : -\\frac{r_{302} x_{25}}{x_{15} x_{23}}, a_{45} : r_{311}\\right\\}\\right]$$"
      ],
      "text/plain": [
       "[{d1: r291,\n",
       "  d2: 0,\n",
       "  d3: 0,\n",
       "  d4: r292,\n",
       "  d5: r293,\n",
       "  a12: r294,\n",
       "  a13: r295,\n",
       "  a14: r296,\n",
       "  a15: r297,\n",
       "  a23: r298,\n",
       "  a24: r299,\n",
       "  a25: r300,\n",
       "  a34: 0,\n",
       "  a35: -r293*x25/x23,\n",
       "  a45: r301},\n",
       " {d1: r302,\n",
       "  d2: r303,\n",
       "  d3: r303/x23,\n",
       "  d4: r304,\n",
       "  d5: r302/x15,\n",
       "  a12: 0,\n",
       "  a13: r305,\n",
       "  a14: r306,\n",
       "  a15: r307,\n",
       "  a23: r308,\n",
       "  a24: r309,\n",
       "  a25: r310,\n",
       "  a34: 0,\n",
       "  a35: -r302*x25/(x15*x23),\n",
       "  a45: r311}]"
      ]
     },
     "metadata": {},
     "output_type": "display_data"
    },
    {
     "data": {
      "text/plain": [
       "\\left[\\left\\{d_{1} : r_{291}, d_{2} : 0, d_{3} : 0, d_{4} : r_{292}, d_{5} : r_{293}, a_{12} : r_{294}, a_{13} : r_{295}, a_{14} : r_{296}, a_{15} : r_{297}, a_{23} : r_{298}, a_{24} : r_{299}, a_{25} : r_{300}, a_{34} : 0, a_{35} : -\\frac{r_{293} x_{25}}{x_{23}}, a_{45} : r_{301}\\right\\}, \\left\\{d_{1} : r_{302}, d_{2} : r_{303}, d_{3} : \\frac{r_{303}}{x_{23}}, d_{4} : r_{304}, d_{5} : \\frac{r_{302}}{x_{15}}, a_{12} : 0, a_{13} : r_{305}, a_{14} : r_{306}, a_{15} : r_{307}, a_{23} : r_{308}, a_{24} : r_{309}, a_{25} : r_{310}, a_{34} : 0, a_{35} : -\\frac{r_{302} x_{25}}{x_{15} x_{23}}, a_{45} : r_{311}\\right\\}\\right]"
      ]
     },
     "execution_count": 15,
     "metadata": {},
     "output_type": "execute_result"
    }
   ],
   "source": [
    "#x3\n",
    "reset()\n",
    "\n",
    "var('x12,x13,x14,x15,x23,x24,x25,x34,x35,x45')\n",
    "var('d1,d2,d3,d4,d5')\n",
    "var('a12,a13,a14,a15,a23,a24,a25,a34,a35,a45')\n",
    "\n",
    "load_attach_path('C:\\\\Users\\\\julia\\\\Documents\\\\unb\\\\doutorado\\\\pensar\\\\codigo_sage_v2\\\\maquina\\\\x3')\n",
    "load('out_#001001.sage')\n",
    "\n",
    "m=matrix(QQ, [[0, 0, 0, 0, 1],\n",
    "              [0, 0, 1, 0, 0],\n",
    "              [0, 0, 0, 0, 0],\n",
    "              [0, 0, 0, 0, 0],\n",
    "              [0, 0, 0, 0, 0]])\n",
    "        \n",
    "#entry of matrix: (i,j) line i collum j, means (i-1,j-1)\n",
    "sol=solve([ eq1==m[0,2],\teq2==m[0,3],\teq3==m[0,4],\teq4==m[1,2],\t\n",
    "                                            eq5==m[1,3],    eq6==m[1,4],\n",
    "                                                            eq7==m[2,4]],d1,d2,d3,d4,d5,a12,a13,a14,a15,a23,a24,a25,a34,a35,a45, solution_dict=True)\n",
    "\n",
    "show(m)\n",
    "show(sol)\n",
    "latex(sol)"
   ]
  },
  {
   "cell_type": "code",
   "execution_count": 16,
   "metadata": {},
   "outputs": [
    {
     "data": {
      "text/html": [
       "<html><script type=\"math/tex; mode=display\">\\newcommand{\\Bold}[1]{\\mathbf{#1}}\\left(\\begin{array}{rrrrr}\n",
       "0 & 0 & 0 & 1 & 0 \\\\\n",
       "0 & 0 & 1 & 0 & 0 \\\\\n",
       "0 & 0 & 0 & 0 & 0 \\\\\n",
       "0 & 0 & 0 & 0 & 0 \\\\\n",
       "0 & 0 & 0 & 0 & 0\n",
       "\\end{array}\\right)</script></html>"
      ],
      "text/latex": [
       "$$\\newcommand{\\Bold}[1]{\\mathbf{#1}}\\left(\\begin{array}{rrrrr}\n",
       "0 & 0 & 0 & 1 & 0 \\\\\n",
       "0 & 0 & 1 & 0 & 0 \\\\\n",
       "0 & 0 & 0 & 0 & 0 \\\\\n",
       "0 & 0 & 0 & 0 & 0 \\\\\n",
       "0 & 0 & 0 & 0 & 0\n",
       "\\end{array}\\right)$$"
      ],
      "text/plain": [
       "[0 0 0 1 0]\n",
       "[0 0 1 0 0]\n",
       "[0 0 0 0 0]\n",
       "[0 0 0 0 0]\n",
       "[0 0 0 0 0]"
      ]
     },
     "metadata": {},
     "output_type": "display_data"
    },
    {
     "data": {
      "text/html": [
       "<html><script type=\"math/tex; mode=display\">\\newcommand{\\Bold}[1]{\\mathbf{#1}}\\left[\\left\\{d_{1} : r_{312}, d_{2} : 0, d_{3} : 0, d_{4} : r_{313}, d_{5} : r_{314}, a_{12} : r_{315}, a_{13} : r_{316}, a_{14} : r_{317}, a_{15} : r_{318}, a_{23} : r_{319}, a_{24} : r_{320}, a_{25} : r_{321}, a_{34} : 0, a_{35} : -\\frac{r_{314} x_{25}}{x_{23}}, a_{45} : r_{322}\\right\\}, \\left\\{d_{1} : r_{323}, d_{2} : r_{324}, d_{3} : \\frac{r_{324}}{x_{23}}, d_{4} : \\frac{r_{323}}{x_{14}}, d_{5} : r_{325}, a_{12} : 0, a_{13} : r_{326}, a_{14} : r_{327}, a_{15} : r_{328}, a_{23} : r_{329}, a_{24} : r_{330}, a_{25} : r_{331}, a_{34} : 0, a_{35} : -\\frac{r_{325} x_{25}}{x_{23}}, a_{45} : 0\\right\\}\\right]</script></html>"
      ],
      "text/latex": [
       "$$\\newcommand{\\Bold}[1]{\\mathbf{#1}}\\left[\\left\\{d_{1} : r_{312}, d_{2} : 0, d_{3} : 0, d_{4} : r_{313}, d_{5} : r_{314}, a_{12} : r_{315}, a_{13} : r_{316}, a_{14} : r_{317}, a_{15} : r_{318}, a_{23} : r_{319}, a_{24} : r_{320}, a_{25} : r_{321}, a_{34} : 0, a_{35} : -\\frac{r_{314} x_{25}}{x_{23}}, a_{45} : r_{322}\\right\\}, \\left\\{d_{1} : r_{323}, d_{2} : r_{324}, d_{3} : \\frac{r_{324}}{x_{23}}, d_{4} : \\frac{r_{323}}{x_{14}}, d_{5} : r_{325}, a_{12} : 0, a_{13} : r_{326}, a_{14} : r_{327}, a_{15} : r_{328}, a_{23} : r_{329}, a_{24} : r_{330}, a_{25} : r_{331}, a_{34} : 0, a_{35} : -\\frac{r_{325} x_{25}}{x_{23}}, a_{45} : 0\\right\\}\\right]$$"
      ],
      "text/plain": [
       "[{d1: r312,\n",
       "  d2: 0,\n",
       "  d3: 0,\n",
       "  d4: r313,\n",
       "  d5: r314,\n",
       "  a12: r315,\n",
       "  a13: r316,\n",
       "  a14: r317,\n",
       "  a15: r318,\n",
       "  a23: r319,\n",
       "  a24: r320,\n",
       "  a25: r321,\n",
       "  a34: 0,\n",
       "  a35: -r314*x25/x23,\n",
       "  a45: r322},\n",
       " {d1: r323,\n",
       "  d2: r324,\n",
       "  d3: r324/x23,\n",
       "  d4: r323/x14,\n",
       "  d5: r325,\n",
       "  a12: 0,\n",
       "  a13: r326,\n",
       "  a14: r327,\n",
       "  a15: r328,\n",
       "  a23: r329,\n",
       "  a24: r330,\n",
       "  a25: r331,\n",
       "  a34: 0,\n",
       "  a35: -r325*x25/x23,\n",
       "  a45: 0}]"
      ]
     },
     "metadata": {},
     "output_type": "display_data"
    },
    {
     "data": {
      "text/plain": [
       "\\left[\\left\\{d_{1} : r_{312}, d_{2} : 0, d_{3} : 0, d_{4} : r_{313}, d_{5} : r_{314}, a_{12} : r_{315}, a_{13} : r_{316}, a_{14} : r_{317}, a_{15} : r_{318}, a_{23} : r_{319}, a_{24} : r_{320}, a_{25} : r_{321}, a_{34} : 0, a_{35} : -\\frac{r_{314} x_{25}}{x_{23}}, a_{45} : r_{322}\\right\\}, \\left\\{d_{1} : r_{323}, d_{2} : r_{324}, d_{3} : \\frac{r_{324}}{x_{23}}, d_{4} : \\frac{r_{323}}{x_{14}}, d_{5} : r_{325}, a_{12} : 0, a_{13} : r_{326}, a_{14} : r_{327}, a_{15} : r_{328}, a_{23} : r_{329}, a_{24} : r_{330}, a_{25} : r_{331}, a_{34} : 0, a_{35} : -\\frac{r_{325} x_{25}}{x_{23}}, a_{45} : 0\\right\\}\\right]"
      ]
     },
     "execution_count": 16,
     "metadata": {},
     "output_type": "execute_result"
    }
   ],
   "source": [
    "#x3\n",
    "reset()\n",
    "\n",
    "var('x12,x13,x14,x15,x23,x24,x25,x34,x35,x45')\n",
    "var('d1,d2,d3,d4,d5')\n",
    "var('a12,a13,a14,a15,a23,a24,a25,a34,a35,a45')\n",
    "\n",
    "load_attach_path('C:\\\\Users\\\\julia\\\\Documents\\\\unb\\\\doutorado\\\\pensar\\\\codigo_sage_v2\\\\maquina\\\\x3')\n",
    "load('out_#001010.sage')\n",
    "\n",
    "m=matrix(QQ, [[0, 0, 0, 1, 0],\n",
    "              [0, 0, 1, 0, 0],\n",
    "              [0, 0, 0, 0, 0],\n",
    "              [0, 0, 0, 0, 0],\n",
    "              [0, 0, 0, 0, 0]])\n",
    "        \n",
    "#entry of matrix: (i,j) line i collum j, means (i-1,j-1)\n",
    "sol=solve([ eq1==m[0,2],\teq2==m[0,3],\teq3==m[0,4],\teq4==m[1,2],\t\n",
    "                                            eq5==m[1,3],    eq6==m[1,4],\n",
    "                                                            eq7==m[2,4]],d1,d2,d3,d4,d5,a12,a13,a14,a15,a23,a24,a25,a34,a35,a45, solution_dict=True)\n",
    "\n",
    "show(m)\n",
    "show(sol)\n",
    "latex(sol)"
   ]
  },
  {
   "cell_type": "code",
   "execution_count": 18,
   "metadata": {},
   "outputs": [
    {
     "data": {
      "text/html": [
       "<html><script type=\"math/tex; mode=display\">\\newcommand{\\Bold}[1]{\\mathbf{#1}}\\left(\\begin{array}{rrrrr}\n",
       "0 & 0 & 0 & 1 & 0 \\\\\n",
       "0 & 0 & 1 & 0 & 0 \\\\\n",
       "0 & 0 & 0 & 0 & 0 \\\\\n",
       "0 & 0 & 0 & 0 & 0 \\\\\n",
       "0 & 0 & 0 & 0 & 0\n",
       "\\end{array}\\right)</script></html>"
      ],
      "text/latex": [
       "$$\\newcommand{\\Bold}[1]{\\mathbf{#1}}\\left(\\begin{array}{rrrrr}\n",
       "0 & 0 & 0 & 1 & 0 \\\\\n",
       "0 & 0 & 1 & 0 & 0 \\\\\n",
       "0 & 0 & 0 & 0 & 0 \\\\\n",
       "0 & 0 & 0 & 0 & 0 \\\\\n",
       "0 & 0 & 0 & 0 & 0\n",
       "\\end{array}\\right)$$"
      ],
      "text/plain": [
       "[0 0 0 1 0]\n",
       "[0 0 1 0 0]\n",
       "[0 0 0 0 0]\n",
       "[0 0 0 0 0]\n",
       "[0 0 0 0 0]"
      ]
     },
     "metadata": {},
     "output_type": "display_data"
    },
    {
     "data": {
      "text/html": [
       "<html><script type=\"math/tex; mode=display\">\\newcommand{\\Bold}[1]{\\mathbf{#1}}\\left[\\left\\{d_{1} : r_{352}, d_{2} : 0, d_{3} : 0, d_{4} : r_{353}, d_{5} : r_{354}, a_{12} : r_{355}, a_{13} : r_{356}, a_{14} : r_{357}, a_{15} : r_{358}, a_{23} : r_{359}, a_{24} : r_{360}, a_{25} : r_{361}, a_{34} : 0, a_{35} : -\\frac{r_{354} x_{25}}{x_{23}}, a_{45} : r_{362}\\right\\}, \\left\\{d_{1} : r_{363}, d_{2} : r_{364}, d_{3} : \\frac{r_{364}}{x_{23}}, d_{4} : \\frac{r_{363}}{x_{14}}, d_{5} : r_{365}, a_{12} : 0, a_{13} : r_{366}, a_{14} : r_{367}, a_{15} : r_{368}, a_{23} : r_{369}, a_{24} : r_{370}, a_{25} : r_{371}, a_{34} : 0, a_{35} : -\\frac{r_{365} x_{25}}{x_{23}}, a_{45} : -\\frac{r_{365} x_{15}}{x_{14}}\\right\\}\\right]</script></html>"
      ],
      "text/latex": [
       "$$\\newcommand{\\Bold}[1]{\\mathbf{#1}}\\left[\\left\\{d_{1} : r_{352}, d_{2} : 0, d_{3} : 0, d_{4} : r_{353}, d_{5} : r_{354}, a_{12} : r_{355}, a_{13} : r_{356}, a_{14} : r_{357}, a_{15} : r_{358}, a_{23} : r_{359}, a_{24} : r_{360}, a_{25} : r_{361}, a_{34} : 0, a_{35} : -\\frac{r_{354} x_{25}}{x_{23}}, a_{45} : r_{362}\\right\\}, \\left\\{d_{1} : r_{363}, d_{2} : r_{364}, d_{3} : \\frac{r_{364}}{x_{23}}, d_{4} : \\frac{r_{363}}{x_{14}}, d_{5} : r_{365}, a_{12} : 0, a_{13} : r_{366}, a_{14} : r_{367}, a_{15} : r_{368}, a_{23} : r_{369}, a_{24} : r_{370}, a_{25} : r_{371}, a_{34} : 0, a_{35} : -\\frac{r_{365} x_{25}}{x_{23}}, a_{45} : -\\frac{r_{365} x_{15}}{x_{14}}\\right\\}\\right]$$"
      ],
      "text/plain": [
       "[{d1: r352,\n",
       "  d2: 0,\n",
       "  d3: 0,\n",
       "  d4: r353,\n",
       "  d5: r354,\n",
       "  a12: r355,\n",
       "  a13: r356,\n",
       "  a14: r357,\n",
       "  a15: r358,\n",
       "  a23: r359,\n",
       "  a24: r360,\n",
       "  a25: r361,\n",
       "  a34: 0,\n",
       "  a35: -r354*x25/x23,\n",
       "  a45: r362},\n",
       " {d1: r363,\n",
       "  d2: r364,\n",
       "  d3: r364/x23,\n",
       "  d4: r363/x14,\n",
       "  d5: r365,\n",
       "  a12: 0,\n",
       "  a13: r366,\n",
       "  a14: r367,\n",
       "  a15: r368,\n",
       "  a23: r369,\n",
       "  a24: r370,\n",
       "  a25: r371,\n",
       "  a34: 0,\n",
       "  a35: -r365*x25/x23,\n",
       "  a45: -r365*x15/x14}]"
      ]
     },
     "metadata": {},
     "output_type": "display_data"
    },
    {
     "data": {
      "text/plain": [
       "\\left[\\left\\{d_{1} : r_{352}, d_{2} : 0, d_{3} : 0, d_{4} : r_{353}, d_{5} : r_{354}, a_{12} : r_{355}, a_{13} : r_{356}, a_{14} : r_{357}, a_{15} : r_{358}, a_{23} : r_{359}, a_{24} : r_{360}, a_{25} : r_{361}, a_{34} : 0, a_{35} : -\\frac{r_{354} x_{25}}{x_{23}}, a_{45} : r_{362}\\right\\}, \\left\\{d_{1} : r_{363}, d_{2} : r_{364}, d_{3} : \\frac{r_{364}}{x_{23}}, d_{4} : \\frac{r_{363}}{x_{14}}, d_{5} : r_{365}, a_{12} : 0, a_{13} : r_{366}, a_{14} : r_{367}, a_{15} : r_{368}, a_{23} : r_{369}, a_{24} : r_{370}, a_{25} : r_{371}, a_{34} : 0, a_{35} : -\\frac{r_{365} x_{25}}{x_{23}}, a_{45} : -\\frac{r_{365} x_{15}}{x_{14}}\\right\\}\\right]"
      ]
     },
     "execution_count": 18,
     "metadata": {},
     "output_type": "execute_result"
    }
   ],
   "source": [
    "#x3\n",
    "reset()\n",
    "\n",
    "var('x12,x13,x14,x15,x23,x24,x25,x34,x35,x45')\n",
    "var('d1,d2,d3,d4,d5')\n",
    "var('a12,a13,a14,a15,a23,a24,a25,a34,a35,a45')\n",
    "\n",
    "load_attach_path('C:\\\\Users\\\\julia\\\\Documents\\\\unb\\\\doutorado\\\\pensar\\\\codigo_sage_v2\\\\maquina\\\\x3')\n",
    "load('out_#001011.sage')\n",
    "\n",
    "m=matrix(QQ, [[0, 0, 0, 1, 0],\n",
    "              [0, 0, 1, 0,  0],\n",
    "              [0, 0, 0, 0, 0],\n",
    "              [0, 0, 0, 0, 0],\n",
    "              [0, 0, 0, 0, 0]])\n",
    "        \n",
    "#entry of matrix: (i,j) line i collum j, means (i-1,j-1)\n",
    "sol=solve([ eq1==m[0,2],\teq2==m[0,3],\teq3==m[0,4],\teq4==m[1,2],\t\n",
    "                                            eq5==m[1,3],    eq6==m[1,4],\n",
    "                                                            eq7==m[2,4]],d1,d2,d3,d4,d5,a12,a13,a14,a15,a23,a24,a25,a34,a35,a45, solution_dict=True)\n",
    "\n",
    "show(m)\n",
    "show(sol)\n",
    "latex(sol)"
   ]
  },
  {
   "cell_type": "code",
   "execution_count": 21,
   "metadata": {},
   "outputs": [
    {
     "data": {
      "text/html": [
       "<html><script type=\"math/tex; mode=display\">\\newcommand{\\Bold}[1]{\\mathbf{#1}}\\left(\\begin{array}{rrrrr}\n",
       "0 & 0 & 0 & 0 & 1 \\\\\n",
       "0 & 0 & 1 & 0 & 0 \\\\\n",
       "0 & 0 & 0 & 0 & 0 \\\\\n",
       "0 & 0 & 0 & 0 & 0 \\\\\n",
       "0 & 0 & 0 & 0 & 0\n",
       "\\end{array}\\right)</script></html>"
      ],
      "text/latex": [
       "$$\\newcommand{\\Bold}[1]{\\mathbf{#1}}\\left(\\begin{array}{rrrrr}\n",
       "0 & 0 & 0 & 0 & 1 \\\\\n",
       "0 & 0 & 1 & 0 & 0 \\\\\n",
       "0 & 0 & 0 & 0 & 0 \\\\\n",
       "0 & 0 & 0 & 0 & 0 \\\\\n",
       "0 & 0 & 0 & 0 & 0\n",
       "\\end{array}\\right)$$"
      ],
      "text/plain": [
       "[0 0 0 0 1]\n",
       "[0 0 1 0 0]\n",
       "[0 0 0 0 0]\n",
       "[0 0 0 0 0]\n",
       "[0 0 0 0 0]"
      ]
     },
     "metadata": {},
     "output_type": "display_data"
    },
    {
     "data": {
      "text/html": [
       "<html><script type=\"math/tex; mode=display\">\\newcommand{\\Bold}[1]{\\mathbf{#1}}\\left[\\left\\{d_{1} : r_{413}, d_{2} : 0, d_{3} : 0, d_{4} : r_{414}, d_{5} : r_{415}, a_{12} : r_{416}, a_{13} : r_{417}, a_{14} : r_{418}, a_{15} : r_{419}, a_{23} : r_{420}, a_{24} : r_{421}, a_{25} : r_{422}, a_{34} : 0, a_{35} : -\\frac{r_{415} x_{25}}{x_{23}}, a_{45} : r_{423}\\right\\}, \\left\\{d_{1} : r_{424}, d_{2} : r_{425}, d_{3} : \\frac{r_{425}}{x_{23}}, d_{4} : r_{426}, d_{5} : -\\frac{r_{424} x_{23}}{x_{13} x_{25}}, a_{12} : \\frac{r_{425} x_{13}}{x_{23}}, a_{13} : r_{427}, a_{14} : r_{428}, a_{15} : r_{429}, a_{23} : r_{430}, a_{24} : r_{431}, a_{25} : r_{432}, a_{34} : 0, a_{35} : \\frac{r_{424}}{x_{13}}, a_{45} : r_{433}\\right\\}\\right]</script></html>"
      ],
      "text/latex": [
       "$$\\newcommand{\\Bold}[1]{\\mathbf{#1}}\\left[\\left\\{d_{1} : r_{413}, d_{2} : 0, d_{3} : 0, d_{4} : r_{414}, d_{5} : r_{415}, a_{12} : r_{416}, a_{13} : r_{417}, a_{14} : r_{418}, a_{15} : r_{419}, a_{23} : r_{420}, a_{24} : r_{421}, a_{25} : r_{422}, a_{34} : 0, a_{35} : -\\frac{r_{415} x_{25}}{x_{23}}, a_{45} : r_{423}\\right\\}, \\left\\{d_{1} : r_{424}, d_{2} : r_{425}, d_{3} : \\frac{r_{425}}{x_{23}}, d_{4} : r_{426}, d_{5} : -\\frac{r_{424} x_{23}}{x_{13} x_{25}}, a_{12} : \\frac{r_{425} x_{13}}{x_{23}}, a_{13} : r_{427}, a_{14} : r_{428}, a_{15} : r_{429}, a_{23} : r_{430}, a_{24} : r_{431}, a_{25} : r_{432}, a_{34} : 0, a_{35} : \\frac{r_{424}}{x_{13}}, a_{45} : r_{433}\\right\\}\\right]$$"
      ],
      "text/plain": [
       "[{d1: r413,\n",
       "  d2: 0,\n",
       "  d3: 0,\n",
       "  d4: r414,\n",
       "  d5: r415,\n",
       "  a12: r416,\n",
       "  a13: r417,\n",
       "  a14: r418,\n",
       "  a15: r419,\n",
       "  a23: r420,\n",
       "  a24: r421,\n",
       "  a25: r422,\n",
       "  a34: 0,\n",
       "  a35: -r415*x25/x23,\n",
       "  a45: r423},\n",
       " {d1: r424,\n",
       "  d2: r425,\n",
       "  d3: r425/x23,\n",
       "  d4: r426,\n",
       "  d5: -r424*x23/(x13*x25),\n",
       "  a12: r425*x13/x23,\n",
       "  a13: r427,\n",
       "  a14: r428,\n",
       "  a15: r429,\n",
       "  a23: r430,\n",
       "  a24: r431,\n",
       "  a25: r432,\n",
       "  a34: 0,\n",
       "  a35: r424/x13,\n",
       "  a45: r433}]"
      ]
     },
     "metadata": {},
     "output_type": "display_data"
    },
    {
     "data": {
      "text/plain": [
       "\\left[\\left\\{d_{1} : r_{413}, d_{2} : 0, d_{3} : 0, d_{4} : r_{414}, d_{5} : r_{415}, a_{12} : r_{416}, a_{13} : r_{417}, a_{14} : r_{418}, a_{15} : r_{419}, a_{23} : r_{420}, a_{24} : r_{421}, a_{25} : r_{422}, a_{34} : 0, a_{35} : -\\frac{r_{415} x_{25}}{x_{23}}, a_{45} : r_{423}\\right\\}, \\left\\{d_{1} : r_{424}, d_{2} : r_{425}, d_{3} : \\frac{r_{425}}{x_{23}}, d_{4} : r_{426}, d_{5} : -\\frac{r_{424} x_{23}}{x_{13} x_{25}}, a_{12} : \\frac{r_{425} x_{13}}{x_{23}}, a_{13} : r_{427}, a_{14} : r_{428}, a_{15} : r_{429}, a_{23} : r_{430}, a_{24} : r_{431}, a_{25} : r_{432}, a_{34} : 0, a_{35} : \\frac{r_{424}}{x_{13}}, a_{45} : r_{433}\\right\\}\\right]"
      ]
     },
     "execution_count": 21,
     "metadata": {},
     "output_type": "execute_result"
    }
   ],
   "source": [
    "#x3\n",
    "reset()\n",
    "\n",
    "var('x12,x13,x14,x15,x23,x24,x25,x34,x35,x45')\n",
    "var('d1,d2,d3,d4,d5')\n",
    "var('a12,a13,a14,a15,a23,a24,a25,a34,a35,a45')\n",
    "\n",
    "load_attach_path('C:\\\\Users\\\\julia\\\\Documents\\\\unb\\\\doutorado\\\\pensar\\\\codigo_sage_v2\\\\maquina\\\\x3')\n",
    "load('out_#001100.sage')\n",
    "\n",
    "m=matrix(QQ, [[0, 0, 0, 0, 1],\n",
    "              [0, 0, 1, 0, 0],\n",
    "              [0, 0, 0, 0, 0],\n",
    "              [0, 0, 0, 0, 0],\n",
    "              [0, 0, 0, 0, 0]])\n",
    "        \n",
    "#entry of matrix: (i,j) line i collum j, means (i-1,j-1)\n",
    "sol=solve([ eq1==m[0,2],\teq2==m[0,3],\teq3==m[0,4],\teq4==m[1,2],\t\n",
    "                                            eq5==m[1,3],    eq6==m[1,4],\n",
    "                                                            eq7==m[2,4]],d1,d2,d3,d4,d5,a12,a13,a14,a15,a23,a24,a25,a34,a35,a45, solution_dict=True)\n",
    "\n",
    "show(m)\n",
    "show(sol)\n",
    "latex(sol)"
   ]
  },
  {
   "cell_type": "code",
   "execution_count": 24,
   "metadata": {},
   "outputs": [
    {
     "data": {
      "text/html": [
       "<html><script type=\"math/tex; mode=display\">\\newcommand{\\Bold}[1]{\\mathbf{#1}}\\left(\\begin{array}{rrrrr}\n",
       "0 & 0 & 0 & 0 & 1 \\\\\n",
       "0 & 0 & 1 & 0 & 0 \\\\\n",
       "0 & 0 & 0 & 0 & 0 \\\\\n",
       "0 & 0 & 0 & 0 & 0 \\\\\n",
       "0 & 0 & 0 & 0 & 0\n",
       "\\end{array}\\right)</script></html>"
      ],
      "text/latex": [
       "$$\\newcommand{\\Bold}[1]{\\mathbf{#1}}\\left(\\begin{array}{rrrrr}\n",
       "0 & 0 & 0 & 0 & 1 \\\\\n",
       "0 & 0 & 1 & 0 & 0 \\\\\n",
       "0 & 0 & 0 & 0 & 0 \\\\\n",
       "0 & 0 & 0 & 0 & 0 \\\\\n",
       "0 & 0 & 0 & 0 & 0\n",
       "\\end{array}\\right)$$"
      ],
      "text/plain": [
       "[0 0 0 0 1]\n",
       "[0 0 1 0 0]\n",
       "[0 0 0 0 0]\n",
       "[0 0 0 0 0]\n",
       "[0 0 0 0 0]"
      ]
     },
     "metadata": {},
     "output_type": "display_data"
    },
    {
     "data": {
      "text/html": [
       "<html><script type=\"math/tex; mode=display\">\\newcommand{\\Bold}[1]{\\mathbf{#1}}\\left[\\left\\{d_{1} : r_{475}, d_{2} : 0, d_{3} : 0, d_{4} : r_{476}, d_{5} : r_{477}, a_{12} : r_{478}, a_{13} : r_{479}, a_{14} : r_{480}, a_{15} : r_{481}, a_{23} : r_{482}, a_{24} : r_{483}, a_{25} : r_{484}, a_{34} : 0, a_{35} : -\\frac{r_{477} x_{25}}{x_{23}}, a_{45} : r_{485}\\right\\}, \\left\\{d_{1} : r_{486}, d_{2} : r_{487}, d_{3} : \\frac{r_{487}}{x_{23}}, d_{4} : r_{488}, d_{5} : \\frac{r_{486} x_{23}}{x_{15} x_{23} - x_{13} x_{25}}, a_{12} : \\frac{r_{487} x_{13}}{x_{23}}, a_{13} : r_{489}, a_{14} : r_{490}, a_{15} : r_{491}, a_{23} : r_{492}, a_{24} : r_{493}, a_{25} : r_{494}, a_{34} : 0, a_{35} : -\\frac{r_{486} x_{25}}{x_{15} x_{23} - x_{13} x_{25}}, a_{45} : r_{495}\\right\\}\\right]</script></html>"
      ],
      "text/latex": [
       "$$\\newcommand{\\Bold}[1]{\\mathbf{#1}}\\left[\\left\\{d_{1} : r_{475}, d_{2} : 0, d_{3} : 0, d_{4} : r_{476}, d_{5} : r_{477}, a_{12} : r_{478}, a_{13} : r_{479}, a_{14} : r_{480}, a_{15} : r_{481}, a_{23} : r_{482}, a_{24} : r_{483}, a_{25} : r_{484}, a_{34} : 0, a_{35} : -\\frac{r_{477} x_{25}}{x_{23}}, a_{45} : r_{485}\\right\\}, \\left\\{d_{1} : r_{486}, d_{2} : r_{487}, d_{3} : \\frac{r_{487}}{x_{23}}, d_{4} : r_{488}, d_{5} : \\frac{r_{486} x_{23}}{x_{15} x_{23} - x_{13} x_{25}}, a_{12} : \\frac{r_{487} x_{13}}{x_{23}}, a_{13} : r_{489}, a_{14} : r_{490}, a_{15} : r_{491}, a_{23} : r_{492}, a_{24} : r_{493}, a_{25} : r_{494}, a_{34} : 0, a_{35} : -\\frac{r_{486} x_{25}}{x_{15} x_{23} - x_{13} x_{25}}, a_{45} : r_{495}\\right\\}\\right]$$"
      ],
      "text/plain": [
       "[{d1: r475,\n",
       "  d2: 0,\n",
       "  d3: 0,\n",
       "  d4: r476,\n",
       "  d5: r477,\n",
       "  a12: r478,\n",
       "  a13: r479,\n",
       "  a14: r480,\n",
       "  a15: r481,\n",
       "  a23: r482,\n",
       "  a24: r483,\n",
       "  a25: r484,\n",
       "  a34: 0,\n",
       "  a35: -r477*x25/x23,\n",
       "  a45: r485},\n",
       " {d1: r486,\n",
       "  d2: r487,\n",
       "  d3: r487/x23,\n",
       "  d4: r488,\n",
       "  d5: r486*x23/(x15*x23 - x13*x25),\n",
       "  a12: r487*x13/x23,\n",
       "  a13: r489,\n",
       "  a14: r490,\n",
       "  a15: r491,\n",
       "  a23: r492,\n",
       "  a24: r493,\n",
       "  a25: r494,\n",
       "  a34: 0,\n",
       "  a35: -r486*x25/(x15*x23 - x13*x25),\n",
       "  a45: r495}]"
      ]
     },
     "metadata": {},
     "output_type": "display_data"
    },
    {
     "data": {
      "text/plain": [
       "\\left[\\left\\{d_{1} : r_{475}, d_{2} : 0, d_{3} : 0, d_{4} : r_{476}, d_{5} : r_{477}, a_{12} : r_{478}, a_{13} : r_{479}, a_{14} : r_{480}, a_{15} : r_{481}, a_{23} : r_{482}, a_{24} : r_{483}, a_{25} : r_{484}, a_{34} : 0, a_{35} : -\\frac{r_{477} x_{25}}{x_{23}}, a_{45} : r_{485}\\right\\}, \\left\\{d_{1} : r_{486}, d_{2} : r_{487}, d_{3} : \\frac{r_{487}}{x_{23}}, d_{4} : r_{488}, d_{5} : \\frac{r_{486} x_{23}}{x_{15} x_{23} - x_{13} x_{25}}, a_{12} : \\frac{r_{487} x_{13}}{x_{23}}, a_{13} : r_{489}, a_{14} : r_{490}, a_{15} : r_{491}, a_{23} : r_{492}, a_{24} : r_{493}, a_{25} : r_{494}, a_{34} : 0, a_{35} : -\\frac{r_{486} x_{25}}{x_{15} x_{23} - x_{13} x_{25}}, a_{45} : r_{495}\\right\\}\\right]"
      ]
     },
     "execution_count": 24,
     "metadata": {},
     "output_type": "execute_result"
    }
   ],
   "source": [
    "#x3\n",
    "#----------------------\n",
    "#x15 \\neq -x13*x25/x23\n",
    "#----------------------\n",
    "reset()\n",
    "\n",
    "var('x12,x13,x14,x15,x23,x24,x25,x34,x35,x45')\n",
    "var('d1,d2,d3,d4,d5')\n",
    "var('a12,a13,a14,a15,a23,a24,a25,a34,a35,a45')\n",
    "\n",
    "load_attach_path('C:\\\\Users\\\\julia\\\\Documents\\\\unb\\\\doutorado\\\\pensar\\\\codigo_sage_v2\\\\maquina\\\\x3')\n",
    "load('out_#001101.sage')\n",
    "\n",
    "m=matrix(QQ, [[0, 0, 0, 0, 1],\n",
    "              [0, 0, 1, 0, 0],\n",
    "              [0, 0, 0, 0, 0],\n",
    "              [0, 0, 0, 0, 0],\n",
    "              [0, 0, 0, 0, 0]])\n",
    "        \n",
    "#entry of matrix: (i,j) line i collum j, means (i-1,j-1)\n",
    "sol=solve([ eq1==m[0,2],\teq2==m[0,3],\teq3==m[0,4],\teq4==m[1,2],\t\n",
    "                                            eq5==m[1,3],    eq6==m[1,4],\n",
    "                                                            eq7==m[2,4]],d1,d2,d3,d4,d5,a12,a13,a14,a15,a23,a24,a25,a34,a35,a45, solution_dict=True)\n",
    "\n",
    "show(m)\n",
    "show(sol)\n",
    "latex(sol)"
   ]
  },
  {
   "cell_type": "code",
   "execution_count": 76,
   "metadata": {},
   "outputs": [
    {
     "data": {
      "text/html": [
       "<html><script type=\"math/tex; mode=display\">\\newcommand{\\Bold}[1]{\\mathbf{#1}}\\left(\\begin{array}{rrrrr}\n",
       "0 & 0 & 0 & 0 & 0 \\\\\n",
       "0 & 0 & 1 & 0 & 0 \\\\\n",
       "0 & 0 & 0 & 0 & 0 \\\\\n",
       "0 & 0 & 0 & 0 & 0 \\\\\n",
       "0 & 0 & 0 & 0 & 0\n",
       "\\end{array}\\right)</script></html>"
      ],
      "text/latex": [
       "$$\\newcommand{\\Bold}[1]{\\mathbf{#1}}\\left(\\begin{array}{rrrrr}\n",
       "0 & 0 & 0 & 0 & 0 \\\\\n",
       "0 & 0 & 1 & 0 & 0 \\\\\n",
       "0 & 0 & 0 & 0 & 0 \\\\\n",
       "0 & 0 & 0 & 0 & 0 \\\\\n",
       "0 & 0 & 0 & 0 & 0\n",
       "\\end{array}\\right)$$"
      ],
      "text/plain": [
       "[0 0 0 0 0]\n",
       "[0 0 1 0 0]\n",
       "[0 0 0 0 0]\n",
       "[0 0 0 0 0]\n",
       "[0 0 0 0 0]"
      ]
     },
     "metadata": {},
     "output_type": "display_data"
    },
    {
     "data": {
      "text/html": [
       "<html><script type=\"math/tex; mode=display\">\\newcommand{\\Bold}[1]{\\mathbf{#1}}\\left[\\left\\{d_{1} : r_{1677}, d_{2} : 0, d_{3} : 0, d_{4} : r_{1678}, d_{5} : r_{1679}, a_{12} : r_{1680}, a_{13} : r_{1681}, a_{14} : r_{1682}, a_{15} : r_{1683}, a_{23} : r_{1684}, a_{24} : r_{1685}, a_{25} : r_{1686}, a_{34} : 0, a_{35} : -\\frac{r_{1679} x_{25}}{x_{23}}, a_{45} : r_{1687}\\right\\}, \\left\\{d_{1} : r_{1688}, d_{2} : r_{1689}, d_{3} : \\frac{r_{1689}}{x_{23}}, d_{4} : r_{1690}, d_{5} : r_{1691}, a_{12} : \\frac{r_{1689} x_{13}}{x_{23}}, a_{13} : r_{1692}, a_{14} : r_{1693}, a_{15} : r_{1694}, a_{23} : r_{1695}, a_{24} : r_{1696}, a_{25} : r_{1697}, a_{34} : 0, a_{35} : -\\frac{r_{1691} x_{25}}{x_{23}}, a_{45} : r_{1698}\\right\\}\\right]</script></html>"
      ],
      "text/latex": [
       "$$\\newcommand{\\Bold}[1]{\\mathbf{#1}}\\left[\\left\\{d_{1} : r_{1677}, d_{2} : 0, d_{3} : 0, d_{4} : r_{1678}, d_{5} : r_{1679}, a_{12} : r_{1680}, a_{13} : r_{1681}, a_{14} : r_{1682}, a_{15} : r_{1683}, a_{23} : r_{1684}, a_{24} : r_{1685}, a_{25} : r_{1686}, a_{34} : 0, a_{35} : -\\frac{r_{1679} x_{25}}{x_{23}}, a_{45} : r_{1687}\\right\\}, \\left\\{d_{1} : r_{1688}, d_{2} : r_{1689}, d_{3} : \\frac{r_{1689}}{x_{23}}, d_{4} : r_{1690}, d_{5} : r_{1691}, a_{12} : \\frac{r_{1689} x_{13}}{x_{23}}, a_{13} : r_{1692}, a_{14} : r_{1693}, a_{15} : r_{1694}, a_{23} : r_{1695}, a_{24} : r_{1696}, a_{25} : r_{1697}, a_{34} : 0, a_{35} : -\\frac{r_{1691} x_{25}}{x_{23}}, a_{45} : r_{1698}\\right\\}\\right]$$"
      ],
      "text/plain": [
       "[{d1: r1677,\n",
       "  d2: 0,\n",
       "  d3: 0,\n",
       "  d4: r1678,\n",
       "  d5: r1679,\n",
       "  a12: r1680,\n",
       "  a13: r1681,\n",
       "  a14: r1682,\n",
       "  a15: r1683,\n",
       "  a23: r1684,\n",
       "  a24: r1685,\n",
       "  a25: r1686,\n",
       "  a34: 0,\n",
       "  a35: -r1679*x25/x23,\n",
       "  a45: r1687},\n",
       " {d1: r1688,\n",
       "  d2: r1689,\n",
       "  d3: r1689/x23,\n",
       "  d4: r1690,\n",
       "  d5: r1691,\n",
       "  a12: r1689*x13/x23,\n",
       "  a13: r1692,\n",
       "  a14: r1693,\n",
       "  a15: r1694,\n",
       "  a23: r1695,\n",
       "  a24: r1696,\n",
       "  a25: r1697,\n",
       "  a34: 0,\n",
       "  a35: -r1691*x25/x23,\n",
       "  a45: r1698}]"
      ]
     },
     "metadata": {},
     "output_type": "display_data"
    },
    {
     "data": {
      "text/plain": [
       "\\left[\\left\\{d_{1} : r_{1677}, d_{2} : 0, d_{3} : 0, d_{4} : r_{1678}, d_{5} : r_{1679}, a_{12} : r_{1680}, a_{13} : r_{1681}, a_{14} : r_{1682}, a_{15} : r_{1683}, a_{23} : r_{1684}, a_{24} : r_{1685}, a_{25} : r_{1686}, a_{34} : 0, a_{35} : -\\frac{r_{1679} x_{25}}{x_{23}}, a_{45} : r_{1687}\\right\\}, \\left\\{d_{1} : r_{1688}, d_{2} : r_{1689}, d_{3} : \\frac{r_{1689}}{x_{23}}, d_{4} : r_{1690}, d_{5} : r_{1691}, a_{12} : \\frac{r_{1689} x_{13}}{x_{23}}, a_{13} : r_{1692}, a_{14} : r_{1693}, a_{15} : r_{1694}, a_{23} : r_{1695}, a_{24} : r_{1696}, a_{25} : r_{1697}, a_{34} : 0, a_{35} : -\\frac{r_{1691} x_{25}}{x_{23}}, a_{45} : r_{1698}\\right\\}\\right]"
      ]
     },
     "execution_count": 76,
     "metadata": {},
     "output_type": "execute_result"
    }
   ],
   "source": [
    "#x3\n",
    "#----------------------\n",
    "#x15 \\neq -x13*x25/x23\n",
    "#----------------------\n",
    "reset()\n",
    "\n",
    "var('x12,x13,x14,x15,x23,x24,x25,x34,x35,x45')\n",
    "var('d1,d2,d3,d4,d5')\n",
    "var('a12,a13,a14,a15,a23,a24,a25,a34,a35,a45')\n",
    "\n",
    "#001101\n",
    "eq1=(d2*d3*x13-a12*d3*x23)/(d1*d2) \n",
    "eq2=(a34*d2*x13+d2*d4*0-a12*a34*x23-a12*d4*0)/(d1*d2) \n",
    "eq3=(a35*d2*d3*x13+a45*d2*d3*0+d2*d3*d5*((x13*x25)/x23)-a12*a35*d3*x23-a12*a45*d3*0-a12*d3*d5*x25+a12*a23*d5*0-a13*d2*d5*0)/(d1*d2*d3) \n",
    "eq4=(d3*x23)/(d2) \n",
    "eq5=(a34*x23+d4*0)/(d2) \n",
    "eq6=(a35*d3*x23+a45*d3*0+d3*d5*x25-a23*d5*0)/(d2*d3) \n",
    "eq7=(d5*0)/(d3) \n",
    "\n",
    "m=matrix(QQ, [[0, 0, 0, 0, 0],\n",
    "              [0, 0, 1, 0, 0],\n",
    "              [0, 0, 0, 0, 0],\n",
    "              [0, 0, 0, 0, 0],\n",
    "              [0, 0, 0, 0, 0]])\n",
    "        \n",
    "#entry of matrix: (i,j) line i collum j, means (i-1,j-1)\n",
    "sol=solve([ eq1==m[0,2],\teq2==m[0,3],\teq3==m[0,4],\teq4==m[1,2],\t\n",
    "                                            eq5==m[1,3],    eq6==m[1,4],\n",
    "                                                            eq7==m[2,4]],d1,d2,d3,d4,d5,a12,a13,a14,a15,a23,a24,a25,a34,a35,a45, solution_dict=True)\n",
    "\n",
    "show(m)\n",
    "show(sol)\n",
    "latex(sol)"
   ]
  },
  {
   "cell_type": "code",
   "execution_count": 26,
   "metadata": {},
   "outputs": [
    {
     "data": {
      "text/html": [
       "<html><script type=\"math/tex; mode=display\">\\newcommand{\\Bold}[1]{\\mathbf{#1}}\\left(\\begin{array}{rrrrr}\n",
       "0 & 0 & 0 & 1 & 0 \\\\\n",
       "0 & 0 & 1 & 0 & 0 \\\\\n",
       "0 & 0 & 0 & 0 & 0 \\\\\n",
       "0 & 0 & 0 & 0 & 0 \\\\\n",
       "0 & 0 & 0 & 0 & 0\n",
       "\\end{array}\\right)</script></html>"
      ],
      "text/latex": [
       "$$\\newcommand{\\Bold}[1]{\\mathbf{#1}}\\left(\\begin{array}{rrrrr}\n",
       "0 & 0 & 0 & 1 & 0 \\\\\n",
       "0 & 0 & 1 & 0 & 0 \\\\\n",
       "0 & 0 & 0 & 0 & 0 \\\\\n",
       "0 & 0 & 0 & 0 & 0 \\\\\n",
       "0 & 0 & 0 & 0 & 0\n",
       "\\end{array}\\right)$$"
      ],
      "text/plain": [
       "[0 0 0 1 0]\n",
       "[0 0 1 0 0]\n",
       "[0 0 0 0 0]\n",
       "[0 0 0 0 0]\n",
       "[0 0 0 0 0]"
      ]
     },
     "metadata": {},
     "output_type": "display_data"
    },
    {
     "data": {
      "text/html": [
       "<html><script type=\"math/tex; mode=display\">\\newcommand{\\Bold}[1]{\\mathbf{#1}}\\left[\\left\\{d_{1} : r_{516}, d_{2} : 0, d_{3} : 0, d_{4} : r_{517}, d_{5} : r_{518}, a_{12} : r_{519}, a_{13} : r_{520}, a_{14} : r_{521}, a_{15} : r_{522}, a_{23} : r_{523}, a_{24} : r_{524}, a_{25} : r_{525}, a_{34} : 0, a_{35} : -\\frac{r_{518} x_{25}}{x_{23}}, a_{45} : r_{526}\\right\\}, \\left\\{d_{1} : r_{527}, d_{2} : r_{528}, d_{3} : \\frac{r_{528}}{x_{23}}, d_{4} : \\frac{r_{527}}{x_{14}}, d_{5} : r_{529}, a_{12} : \\frac{r_{528} x_{13}}{x_{23}}, a_{13} : r_{530}, a_{14} : r_{531}, a_{15} : r_{532}, a_{23} : r_{533}, a_{24} : r_{534}, a_{25} : r_{535}, a_{34} : 0, a_{35} : -\\frac{r_{529} x_{25}}{x_{23}}, a_{45} : \\frac{r_{529} x_{13} x_{25}}{x_{14} x_{23}}\\right\\}\\right]</script></html>"
      ],
      "text/latex": [
       "$$\\newcommand{\\Bold}[1]{\\mathbf{#1}}\\left[\\left\\{d_{1} : r_{516}, d_{2} : 0, d_{3} : 0, d_{4} : r_{517}, d_{5} : r_{518}, a_{12} : r_{519}, a_{13} : r_{520}, a_{14} : r_{521}, a_{15} : r_{522}, a_{23} : r_{523}, a_{24} : r_{524}, a_{25} : r_{525}, a_{34} : 0, a_{35} : -\\frac{r_{518} x_{25}}{x_{23}}, a_{45} : r_{526}\\right\\}, \\left\\{d_{1} : r_{527}, d_{2} : r_{528}, d_{3} : \\frac{r_{528}}{x_{23}}, d_{4} : \\frac{r_{527}}{x_{14}}, d_{5} : r_{529}, a_{12} : \\frac{r_{528} x_{13}}{x_{23}}, a_{13} : r_{530}, a_{14} : r_{531}, a_{15} : r_{532}, a_{23} : r_{533}, a_{24} : r_{534}, a_{25} : r_{535}, a_{34} : 0, a_{35} : -\\frac{r_{529} x_{25}}{x_{23}}, a_{45} : \\frac{r_{529} x_{13} x_{25}}{x_{14} x_{23}}\\right\\}\\right]$$"
      ],
      "text/plain": [
       "[{d1: r516,\n",
       "  d2: 0,\n",
       "  d3: 0,\n",
       "  d4: r517,\n",
       "  d5: r518,\n",
       "  a12: r519,\n",
       "  a13: r520,\n",
       "  a14: r521,\n",
       "  a15: r522,\n",
       "  a23: r523,\n",
       "  a24: r524,\n",
       "  a25: r525,\n",
       "  a34: 0,\n",
       "  a35: -r518*x25/x23,\n",
       "  a45: r526},\n",
       " {d1: r527,\n",
       "  d2: r528,\n",
       "  d3: r528/x23,\n",
       "  d4: r527/x14,\n",
       "  d5: r529,\n",
       "  a12: r528*x13/x23,\n",
       "  a13: r530,\n",
       "  a14: r531,\n",
       "  a15: r532,\n",
       "  a23: r533,\n",
       "  a24: r534,\n",
       "  a25: r535,\n",
       "  a34: 0,\n",
       "  a35: -r529*x25/x23,\n",
       "  a45: r529*x13*x25/(x14*x23)}]"
      ]
     },
     "metadata": {},
     "output_type": "display_data"
    },
    {
     "data": {
      "text/plain": [
       "\\left[\\left\\{d_{1} : r_{516}, d_{2} : 0, d_{3} : 0, d_{4} : r_{517}, d_{5} : r_{518}, a_{12} : r_{519}, a_{13} : r_{520}, a_{14} : r_{521}, a_{15} : r_{522}, a_{23} : r_{523}, a_{24} : r_{524}, a_{25} : r_{525}, a_{34} : 0, a_{35} : -\\frac{r_{518} x_{25}}{x_{23}}, a_{45} : r_{526}\\right\\}, \\left\\{d_{1} : r_{527}, d_{2} : r_{528}, d_{3} : \\frac{r_{528}}{x_{23}}, d_{4} : \\frac{r_{527}}{x_{14}}, d_{5} : r_{529}, a_{12} : \\frac{r_{528} x_{13}}{x_{23}}, a_{13} : r_{530}, a_{14} : r_{531}, a_{15} : r_{532}, a_{23} : r_{533}, a_{24} : r_{534}, a_{25} : r_{535}, a_{34} : 0, a_{35} : -\\frac{r_{529} x_{25}}{x_{23}}, a_{45} : \\frac{r_{529} x_{13} x_{25}}{x_{14} x_{23}}\\right\\}\\right]"
      ]
     },
     "execution_count": 26,
     "metadata": {},
     "output_type": "execute_result"
    }
   ],
   "source": [
    "#x3\n",
    "reset()\n",
    "\n",
    "var('x12,x13,x14,x15,x23,x24,x25,x34,x35,x45')\n",
    "var('d1,d2,d3,d4,d5')\n",
    "var('a12,a13,a14,a15,a23,a24,a25,a34,a35,a45')\n",
    "\n",
    "load_attach_path('C:\\\\Users\\\\julia\\\\Documents\\\\unb\\\\doutorado\\\\pensar\\\\codigo_sage_v2\\\\maquina\\\\x3')\n",
    "load('out_#001110.sage')\n",
    "\n",
    "m=matrix(QQ, [[0, 0, 0, 1, 0],\n",
    "              [0, 0, 1, 0, 0],\n",
    "              [0, 0, 0, 0, 0],\n",
    "              [0, 0, 0, 0, 0],\n",
    "              [0, 0, 0, 0, 0]])\n",
    "        \n",
    "#entry of matrix: (i,j) line i collum j, means (i-1,j-1)\n",
    "sol=solve([ eq1==m[0,2],\teq2==m[0,3],\teq3==m[0,4],\teq4==m[1,2],\t\n",
    "                                            eq5==m[1,3],    eq6==m[1,4],\n",
    "                                                            eq7==m[2,4]],d1,d2,d3,d4,d5,a12,a13,a14,a15,a23,a24,a25,a34,a35,a45, solution_dict=True)\n",
    "\n",
    "show(m)\n",
    "show(sol)\n",
    "latex(sol)"
   ]
  },
  {
   "cell_type": "code",
   "execution_count": 27,
   "metadata": {},
   "outputs": [
    {
     "data": {
      "text/html": [
       "<html><script type=\"math/tex; mode=display\">\\newcommand{\\Bold}[1]{\\mathbf{#1}}\\left(\\begin{array}{rrrrr}\n",
       "0 & 0 & 0 & 1 & 0 \\\\\n",
       "0 & 0 & 1 & 0 & 0 \\\\\n",
       "0 & 0 & 0 & 0 & 0 \\\\\n",
       "0 & 0 & 0 & 0 & 0 \\\\\n",
       "0 & 0 & 0 & 0 & 0\n",
       "\\end{array}\\right)</script></html>"
      ],
      "text/latex": [
       "$$\\newcommand{\\Bold}[1]{\\mathbf{#1}}\\left(\\begin{array}{rrrrr}\n",
       "0 & 0 & 0 & 1 & 0 \\\\\n",
       "0 & 0 & 1 & 0 & 0 \\\\\n",
       "0 & 0 & 0 & 0 & 0 \\\\\n",
       "0 & 0 & 0 & 0 & 0 \\\\\n",
       "0 & 0 & 0 & 0 & 0\n",
       "\\end{array}\\right)$$"
      ],
      "text/plain": [
       "[0 0 0 1 0]\n",
       "[0 0 1 0 0]\n",
       "[0 0 0 0 0]\n",
       "[0 0 0 0 0]\n",
       "[0 0 0 0 0]"
      ]
     },
     "metadata": {},
     "output_type": "display_data"
    },
    {
     "data": {
      "text/html": [
       "<html><script type=\"math/tex; mode=display\">\\newcommand{\\Bold}[1]{\\mathbf{#1}}\\left[\\left\\{d_{1} : r_{536}, d_{2} : 0, d_{3} : 0, d_{4} : r_{537}, d_{5} : r_{538}, a_{12} : r_{539}, a_{13} : r_{540}, a_{14} : r_{541}, a_{15} : r_{542}, a_{23} : r_{543}, a_{24} : r_{544}, a_{25} : r_{545}, a_{34} : 0, a_{35} : -\\frac{r_{538} x_{25}}{x_{23}}, a_{45} : r_{546}\\right\\}, \\left\\{d_{1} : r_{547}, d_{2} : r_{548}, d_{3} : \\frac{r_{548}}{x_{23}}, d_{4} : \\frac{r_{547}}{x_{14}}, d_{5} : r_{549}, a_{12} : \\frac{r_{548} x_{13}}{x_{23}}, a_{13} : r_{550}, a_{14} : r_{551}, a_{15} : r_{552}, a_{23} : r_{553}, a_{24} : r_{554}, a_{25} : r_{555}, a_{34} : 0, a_{35} : -\\frac{r_{549} x_{25}}{x_{23}}, a_{45} : -\\frac{r_{549} x_{15} x_{23} - r_{549} x_{13} x_{25}}{x_{14} x_{23}}\\right\\}\\right]</script></html>"
      ],
      "text/latex": [
       "$$\\newcommand{\\Bold}[1]{\\mathbf{#1}}\\left[\\left\\{d_{1} : r_{536}, d_{2} : 0, d_{3} : 0, d_{4} : r_{537}, d_{5} : r_{538}, a_{12} : r_{539}, a_{13} : r_{540}, a_{14} : r_{541}, a_{15} : r_{542}, a_{23} : r_{543}, a_{24} : r_{544}, a_{25} : r_{545}, a_{34} : 0, a_{35} : -\\frac{r_{538} x_{25}}{x_{23}}, a_{45} : r_{546}\\right\\}, \\left\\{d_{1} : r_{547}, d_{2} : r_{548}, d_{3} : \\frac{r_{548}}{x_{23}}, d_{4} : \\frac{r_{547}}{x_{14}}, d_{5} : r_{549}, a_{12} : \\frac{r_{548} x_{13}}{x_{23}}, a_{13} : r_{550}, a_{14} : r_{551}, a_{15} : r_{552}, a_{23} : r_{553}, a_{24} : r_{554}, a_{25} : r_{555}, a_{34} : 0, a_{35} : -\\frac{r_{549} x_{25}}{x_{23}}, a_{45} : -\\frac{r_{549} x_{15} x_{23} - r_{549} x_{13} x_{25}}{x_{14} x_{23}}\\right\\}\\right]$$"
      ],
      "text/plain": [
       "[{d1: r536,\n",
       "  d2: 0,\n",
       "  d3: 0,\n",
       "  d4: r537,\n",
       "  d5: r538,\n",
       "  a12: r539,\n",
       "  a13: r540,\n",
       "  a14: r541,\n",
       "  a15: r542,\n",
       "  a23: r543,\n",
       "  a24: r544,\n",
       "  a25: r545,\n",
       "  a34: 0,\n",
       "  a35: -r538*x25/x23,\n",
       "  a45: r546},\n",
       " {d1: r547,\n",
       "  d2: r548,\n",
       "  d3: r548/x23,\n",
       "  d4: r547/x14,\n",
       "  d5: r549,\n",
       "  a12: r548*x13/x23,\n",
       "  a13: r550,\n",
       "  a14: r551,\n",
       "  a15: r552,\n",
       "  a23: r553,\n",
       "  a24: r554,\n",
       "  a25: r555,\n",
       "  a34: 0,\n",
       "  a35: -r549*x25/x23,\n",
       "  a45: -(r549*x15*x23 - r549*x13*x25)/(x14*x23)}]"
      ]
     },
     "metadata": {},
     "output_type": "display_data"
    },
    {
     "data": {
      "text/plain": [
       "\\left[\\left\\{d_{1} : r_{536}, d_{2} : 0, d_{3} : 0, d_{4} : r_{537}, d_{5} : r_{538}, a_{12} : r_{539}, a_{13} : r_{540}, a_{14} : r_{541}, a_{15} : r_{542}, a_{23} : r_{543}, a_{24} : r_{544}, a_{25} : r_{545}, a_{34} : 0, a_{35} : -\\frac{r_{538} x_{25}}{x_{23}}, a_{45} : r_{546}\\right\\}, \\left\\{d_{1} : r_{547}, d_{2} : r_{548}, d_{3} : \\frac{r_{548}}{x_{23}}, d_{4} : \\frac{r_{547}}{x_{14}}, d_{5} : r_{549}, a_{12} : \\frac{r_{548} x_{13}}{x_{23}}, a_{13} : r_{550}, a_{14} : r_{551}, a_{15} : r_{552}, a_{23} : r_{553}, a_{24} : r_{554}, a_{25} : r_{555}, a_{34} : 0, a_{35} : -\\frac{r_{549} x_{25}}{x_{23}}, a_{45} : -\\frac{r_{549} x_{15} x_{23} - r_{549} x_{13} x_{25}}{x_{14} x_{23}}\\right\\}\\right]"
      ]
     },
     "execution_count": 27,
     "metadata": {},
     "output_type": "execute_result"
    }
   ],
   "source": [
    "#x3\n",
    "reset()\n",
    "\n",
    "var('x12,x13,x14,x15,x23,x24,x25,x34,x35,x45')\n",
    "var('d1,d2,d3,d4,d5')\n",
    "var('a12,a13,a14,a15,a23,a24,a25,a34,a35,a45')\n",
    "\n",
    "load_attach_path('C:\\\\Users\\\\julia\\\\Documents\\\\unb\\\\doutorado\\\\pensar\\\\codigo_sage_v2\\\\maquina\\\\x3')\n",
    "load('out_#001111.sage')\n",
    "\n",
    "m=matrix(QQ, [[0, 0, 0, 1, 0],\n",
    "              [0, 0, 1, 0, 0],\n",
    "              [0, 0, 0, 0, 0],\n",
    "              [0, 0, 0, 0, 0],\n",
    "              [0, 0, 0, 0, 0]])\n",
    "        \n",
    "#entry of matrix: (i,j) line i collum j, means (i-1,j-1)\n",
    "sol=solve([ eq1==m[0,2],\teq2==m[0,3],\teq3==m[0,4],\teq4==m[1,2],\t\n",
    "                                            eq5==m[1,3],    eq6==m[1,4],\n",
    "                                                            eq7==m[2,4]],d1,d2,d3,d4,d5,a12,a13,a14,a15,a23,a24,a25,a34,a35,a45, solution_dict=True)\n",
    "\n",
    "show(m)\n",
    "show(sol)\n",
    "latex(sol)"
   ]
  },
  {
   "cell_type": "code",
   "execution_count": 28,
   "metadata": {},
   "outputs": [
    {
     "data": {
      "text/html": [
       "<html><script type=\"math/tex; mode=display\">\\newcommand{\\Bold}[1]{\\mathbf{#1}}\\left(\\begin{array}{rrrrr}\n",
       "0 & 0 & 0 & 0 & 0 \\\\\n",
       "0 & 0 & 1 & 0 & 0 \\\\\n",
       "0 & 0 & 0 & 0 & 0 \\\\\n",
       "0 & 0 & 0 & 0 & 0 \\\\\n",
       "0 & 0 & 0 & 0 & 0\n",
       "\\end{array}\\right)</script></html>"
      ],
      "text/latex": [
       "$$\\newcommand{\\Bold}[1]{\\mathbf{#1}}\\left(\\begin{array}{rrrrr}\n",
       "0 & 0 & 0 & 0 & 0 \\\\\n",
       "0 & 0 & 1 & 0 & 0 \\\\\n",
       "0 & 0 & 0 & 0 & 0 \\\\\n",
       "0 & 0 & 0 & 0 & 0 \\\\\n",
       "0 & 0 & 0 & 0 & 0\n",
       "\\end{array}\\right)$$"
      ],
      "text/plain": [
       "[0 0 0 0 0]\n",
       "[0 0 1 0 0]\n",
       "[0 0 0 0 0]\n",
       "[0 0 0 0 0]\n",
       "[0 0 0 0 0]"
      ]
     },
     "metadata": {},
     "output_type": "display_data"
    },
    {
     "data": {
      "text/html": [
       "<html><script type=\"math/tex; mode=display\">\\newcommand{\\Bold}[1]{\\mathbf{#1}}\\left[\\left\\{d_{1} : r_{556}, d_{2} : r_{557}, d_{3} : \\frac{r_{557}}{x_{23}}, d_{4} : r_{558}, d_{5} : r_{559}, a_{12} : 0, a_{13} : r_{560}, a_{14} : r_{561}, a_{15} : r_{562}, a_{23} : r_{563}, a_{24} : r_{564}, a_{25} : r_{565}, a_{34} : -\\frac{r_{558} x_{24}}{x_{23}}, a_{35} : r_{566}, a_{45} : -\\frac{r_{566} x_{23}}{x_{24}}\\right\\}, \\left\\{d_{1} : r_{567}, d_{2} : 0, d_{3} : 0, d_{4} : r_{568}, d_{5} : r_{569}, a_{12} : r_{570}, a_{13} : r_{571}, a_{14} : r_{572}, a_{15} : r_{573}, a_{23} : r_{574}, a_{24} : r_{575}, a_{25} : r_{576}, a_{34} : -\\frac{r_{568} x_{24}}{x_{23}}, a_{35} : r_{577}, a_{45} : -\\frac{r_{577} x_{23}}{x_{24}}\\right\\}\\right]</script></html>"
      ],
      "text/latex": [
       "$$\\newcommand{\\Bold}[1]{\\mathbf{#1}}\\left[\\left\\{d_{1} : r_{556}, d_{2} : r_{557}, d_{3} : \\frac{r_{557}}{x_{23}}, d_{4} : r_{558}, d_{5} : r_{559}, a_{12} : 0, a_{13} : r_{560}, a_{14} : r_{561}, a_{15} : r_{562}, a_{23} : r_{563}, a_{24} : r_{564}, a_{25} : r_{565}, a_{34} : -\\frac{r_{558} x_{24}}{x_{23}}, a_{35} : r_{566}, a_{45} : -\\frac{r_{566} x_{23}}{x_{24}}\\right\\}, \\left\\{d_{1} : r_{567}, d_{2} : 0, d_{3} : 0, d_{4} : r_{568}, d_{5} : r_{569}, a_{12} : r_{570}, a_{13} : r_{571}, a_{14} : r_{572}, a_{15} : r_{573}, a_{23} : r_{574}, a_{24} : r_{575}, a_{25} : r_{576}, a_{34} : -\\frac{r_{568} x_{24}}{x_{23}}, a_{35} : r_{577}, a_{45} : -\\frac{r_{577} x_{23}}{x_{24}}\\right\\}\\right]$$"
      ],
      "text/plain": [
       "[{d1: r556,\n",
       "  d2: r557,\n",
       "  d3: r557/x23,\n",
       "  d4: r558,\n",
       "  d5: r559,\n",
       "  a12: 0,\n",
       "  a13: r560,\n",
       "  a14: r561,\n",
       "  a15: r562,\n",
       "  a23: r563,\n",
       "  a24: r564,\n",
       "  a25: r565,\n",
       "  a34: -r558*x24/x23,\n",
       "  a35: r566,\n",
       "  a45: -r566*x23/x24},\n",
       " {d1: r567,\n",
       "  d2: 0,\n",
       "  d3: 0,\n",
       "  d4: r568,\n",
       "  d5: r569,\n",
       "  a12: r570,\n",
       "  a13: r571,\n",
       "  a14: r572,\n",
       "  a15: r573,\n",
       "  a23: r574,\n",
       "  a24: r575,\n",
       "  a25: r576,\n",
       "  a34: -r568*x24/x23,\n",
       "  a35: r577,\n",
       "  a45: -r577*x23/x24}]"
      ]
     },
     "metadata": {},
     "output_type": "display_data"
    },
    {
     "data": {
      "text/plain": [
       "\\left[\\left\\{d_{1} : r_{556}, d_{2} : r_{557}, d_{3} : \\frac{r_{557}}{x_{23}}, d_{4} : r_{558}, d_{5} : r_{559}, a_{12} : 0, a_{13} : r_{560}, a_{14} : r_{561}, a_{15} : r_{562}, a_{23} : r_{563}, a_{24} : r_{564}, a_{25} : r_{565}, a_{34} : -\\frac{r_{558} x_{24}}{x_{23}}, a_{35} : r_{566}, a_{45} : -\\frac{r_{566} x_{23}}{x_{24}}\\right\\}, \\left\\{d_{1} : r_{567}, d_{2} : 0, d_{3} : 0, d_{4} : r_{568}, d_{5} : r_{569}, a_{12} : r_{570}, a_{13} : r_{571}, a_{14} : r_{572}, a_{15} : r_{573}, a_{23} : r_{574}, a_{24} : r_{575}, a_{25} : r_{576}, a_{34} : -\\frac{r_{568} x_{24}}{x_{23}}, a_{35} : r_{577}, a_{45} : -\\frac{r_{577} x_{23}}{x_{24}}\\right\\}\\right]"
      ]
     },
     "execution_count": 28,
     "metadata": {},
     "output_type": "execute_result"
    }
   ],
   "source": [
    "#x3\n",
    "reset()\n",
    "\n",
    "var('x12,x13,x14,x15,x23,x24,x25,x34,x35,x45')\n",
    "var('d1,d2,d3,d4,d5')\n",
    "var('a12,a13,a14,a15,a23,a24,a25,a34,a35,a45')\n",
    "\n",
    "load_attach_path('C:\\\\Users\\\\julia\\\\Documents\\\\unb\\\\doutorado\\\\pensar\\\\codigo_sage_v2\\\\maquina\\\\x3')\n",
    "load('out_#010000.sage')\n",
    "\n",
    "m=matrix(QQ, [[0, 0, 0, 0, 0],\n",
    "              [0, 0, 1, 0, 0],\n",
    "              [0, 0, 0, 0, 0],\n",
    "              [0, 0, 0, 0, 0],\n",
    "              [0, 0, 0, 0, 0]])\n",
    "        \n",
    "#entry of matrix: (i,j) line i collum j, means (i-1,j-1)\n",
    "sol=solve([ eq1==m[0,2],\teq2==m[0,3],\teq3==m[0,4],\teq4==m[1,2],\t\n",
    "                                            eq5==m[1,3],    eq6==m[1,4],\n",
    "                                                            eq7==m[2,4]],d1,d2,d3,d4,d5,a12,a13,a14,a15,a23,a24,a25,a34,a35,a45, solution_dict=True)\n",
    "\n",
    "show(m)\n",
    "show(sol)\n",
    "latex(sol)"
   ]
  },
  {
   "cell_type": "code",
   "execution_count": 29,
   "metadata": {},
   "outputs": [
    {
     "data": {
      "text/html": [
       "<html><script type=\"math/tex; mode=display\">\\newcommand{\\Bold}[1]{\\mathbf{#1}}\\left(\\begin{array}{rrrrr}\n",
       "0 & 0 & 0 & 0 & 1 \\\\\n",
       "0 & 0 & 1 & 0 & 0 \\\\\n",
       "0 & 0 & 0 & 0 & 0 \\\\\n",
       "0 & 0 & 0 & 0 & 0 \\\\\n",
       "0 & 0 & 0 & 0 & 0\n",
       "\\end{array}\\right)</script></html>"
      ],
      "text/latex": [
       "$$\\newcommand{\\Bold}[1]{\\mathbf{#1}}\\left(\\begin{array}{rrrrr}\n",
       "0 & 0 & 0 & 0 & 1 \\\\\n",
       "0 & 0 & 1 & 0 & 0 \\\\\n",
       "0 & 0 & 0 & 0 & 0 \\\\\n",
       "0 & 0 & 0 & 0 & 0 \\\\\n",
       "0 & 0 & 0 & 0 & 0\n",
       "\\end{array}\\right)$$"
      ],
      "text/plain": [
       "[0 0 0 0 1]\n",
       "[0 0 1 0 0]\n",
       "[0 0 0 0 0]\n",
       "[0 0 0 0 0]\n",
       "[0 0 0 0 0]"
      ]
     },
     "metadata": {},
     "output_type": "display_data"
    },
    {
     "data": {
      "text/html": [
       "<html><script type=\"math/tex; mode=display\">\\newcommand{\\Bold}[1]{\\mathbf{#1}}\\left[\\left\\{d_{1} : r_{578}, d_{2} : 0, d_{3} : 0, d_{4} : r_{579}, d_{5} : r_{580}, a_{12} : r_{581}, a_{13} : r_{582}, a_{14} : r_{583}, a_{15} : r_{584}, a_{23} : r_{585}, a_{24} : r_{586}, a_{25} : r_{587}, a_{34} : -\\frac{r_{579} x_{24}}{x_{23}}, a_{35} : r_{588}, a_{45} : -\\frac{r_{588} x_{23}}{x_{24}}\\right\\}, \\left\\{d_{1} : r_{589}, d_{2} : r_{590}, d_{3} : \\frac{r_{590}}{x_{23}}, d_{4} : r_{591}, d_{5} : \\frac{r_{589}}{x_{15}}, a_{12} : 0, a_{13} : r_{592}, a_{14} : r_{593}, a_{15} : r_{594}, a_{23} : r_{595}, a_{24} : r_{596}, a_{25} : r_{597}, a_{34} : -\\frac{r_{591} x_{24}}{x_{23}}, a_{35} : r_{598}, a_{45} : -\\frac{r_{598} x_{23}}{x_{24}}\\right\\}\\right]</script></html>"
      ],
      "text/latex": [
       "$$\\newcommand{\\Bold}[1]{\\mathbf{#1}}\\left[\\left\\{d_{1} : r_{578}, d_{2} : 0, d_{3} : 0, d_{4} : r_{579}, d_{5} : r_{580}, a_{12} : r_{581}, a_{13} : r_{582}, a_{14} : r_{583}, a_{15} : r_{584}, a_{23} : r_{585}, a_{24} : r_{586}, a_{25} : r_{587}, a_{34} : -\\frac{r_{579} x_{24}}{x_{23}}, a_{35} : r_{588}, a_{45} : -\\frac{r_{588} x_{23}}{x_{24}}\\right\\}, \\left\\{d_{1} : r_{589}, d_{2} : r_{590}, d_{3} : \\frac{r_{590}}{x_{23}}, d_{4} : r_{591}, d_{5} : \\frac{r_{589}}{x_{15}}, a_{12} : 0, a_{13} : r_{592}, a_{14} : r_{593}, a_{15} : r_{594}, a_{23} : r_{595}, a_{24} : r_{596}, a_{25} : r_{597}, a_{34} : -\\frac{r_{591} x_{24}}{x_{23}}, a_{35} : r_{598}, a_{45} : -\\frac{r_{598} x_{23}}{x_{24}}\\right\\}\\right]$$"
      ],
      "text/plain": [
       "[{d1: r578,\n",
       "  d2: 0,\n",
       "  d3: 0,\n",
       "  d4: r579,\n",
       "  d5: r580,\n",
       "  a12: r581,\n",
       "  a13: r582,\n",
       "  a14: r583,\n",
       "  a15: r584,\n",
       "  a23: r585,\n",
       "  a24: r586,\n",
       "  a25: r587,\n",
       "  a34: -r579*x24/x23,\n",
       "  a35: r588,\n",
       "  a45: -r588*x23/x24},\n",
       " {d1: r589,\n",
       "  d2: r590,\n",
       "  d3: r590/x23,\n",
       "  d4: r591,\n",
       "  d5: r589/x15,\n",
       "  a12: 0,\n",
       "  a13: r592,\n",
       "  a14: r593,\n",
       "  a15: r594,\n",
       "  a23: r595,\n",
       "  a24: r596,\n",
       "  a25: r597,\n",
       "  a34: -r591*x24/x23,\n",
       "  a35: r598,\n",
       "  a45: -r598*x23/x24}]"
      ]
     },
     "metadata": {},
     "output_type": "display_data"
    },
    {
     "data": {
      "text/plain": [
       "\\left[\\left\\{d_{1} : r_{578}, d_{2} : 0, d_{3} : 0, d_{4} : r_{579}, d_{5} : r_{580}, a_{12} : r_{581}, a_{13} : r_{582}, a_{14} : r_{583}, a_{15} : r_{584}, a_{23} : r_{585}, a_{24} : r_{586}, a_{25} : r_{587}, a_{34} : -\\frac{r_{579} x_{24}}{x_{23}}, a_{35} : r_{588}, a_{45} : -\\frac{r_{588} x_{23}}{x_{24}}\\right\\}, \\left\\{d_{1} : r_{589}, d_{2} : r_{590}, d_{3} : \\frac{r_{590}}{x_{23}}, d_{4} : r_{591}, d_{5} : \\frac{r_{589}}{x_{15}}, a_{12} : 0, a_{13} : r_{592}, a_{14} : r_{593}, a_{15} : r_{594}, a_{23} : r_{595}, a_{24} : r_{596}, a_{25} : r_{597}, a_{34} : -\\frac{r_{591} x_{24}}{x_{23}}, a_{35} : r_{598}, a_{45} : -\\frac{r_{598} x_{23}}{x_{24}}\\right\\}\\right]"
      ]
     },
     "execution_count": 29,
     "metadata": {},
     "output_type": "execute_result"
    }
   ],
   "source": [
    "#x3\n",
    "reset()\n",
    "\n",
    "var('x12,x13,x14,x15,x23,x24,x25,x34,x35,x45')\n",
    "var('d1,d2,d3,d4,d5')\n",
    "var('a12,a13,a14,a15,a23,a24,a25,a34,a35,a45')\n",
    "\n",
    "load_attach_path('C:\\\\Users\\\\julia\\\\Documents\\\\unb\\\\doutorado\\\\pensar\\\\codigo_sage_v2\\\\maquina\\\\x3')\n",
    "load('out_#010001.sage')\n",
    "\n",
    "m=matrix(QQ, [[0, 0, 0, 0, 1],\n",
    "              [0, 0, 1, 0, 0],\n",
    "              [0, 0, 0, 0, 0],\n",
    "              [0, 0, 0, 0, 0],\n",
    "              [0, 0, 0, 0, 0]])\n",
    "        \n",
    "#entry of matrix: (i,j) line i collum j, means (i-1,j-1)\n",
    "sol=solve([ eq1==m[0,2],\teq2==m[0,3],\teq3==m[0,4],\teq4==m[1,2],\t\n",
    "                                            eq5==m[1,3],    eq6==m[1,4],\n",
    "                                                            eq7==m[2,4]],d1,d2,d3,d4,d5,a12,a13,a14,a15,a23,a24,a25,a34,a35,a45, solution_dict=True)\n",
    "\n",
    "show(m)\n",
    "show(sol)\n",
    "latex(sol)"
   ]
  },
  {
   "cell_type": "code",
   "execution_count": 30,
   "metadata": {},
   "outputs": [
    {
     "data": {
      "text/html": [
       "<html><script type=\"math/tex; mode=display\">\\newcommand{\\Bold}[1]{\\mathbf{#1}}\\left(\\begin{array}{rrrrr}\n",
       "0 & 0 & 0 & 1 & 0 \\\\\n",
       "0 & 0 & 1 & 0 & 0 \\\\\n",
       "0 & 0 & 0 & 0 & 0 \\\\\n",
       "0 & 0 & 0 & 0 & 0 \\\\\n",
       "0 & 0 & 0 & 0 & 0\n",
       "\\end{array}\\right)</script></html>"
      ],
      "text/latex": [
       "$$\\newcommand{\\Bold}[1]{\\mathbf{#1}}\\left(\\begin{array}{rrrrr}\n",
       "0 & 0 & 0 & 1 & 0 \\\\\n",
       "0 & 0 & 1 & 0 & 0 \\\\\n",
       "0 & 0 & 0 & 0 & 0 \\\\\n",
       "0 & 0 & 0 & 0 & 0 \\\\\n",
       "0 & 0 & 0 & 0 & 0\n",
       "\\end{array}\\right)$$"
      ],
      "text/plain": [
       "[0 0 0 1 0]\n",
       "[0 0 1 0 0]\n",
       "[0 0 0 0 0]\n",
       "[0 0 0 0 0]\n",
       "[0 0 0 0 0]"
      ]
     },
     "metadata": {},
     "output_type": "display_data"
    },
    {
     "data": {
      "text/html": [
       "<html><script type=\"math/tex; mode=display\">\\newcommand{\\Bold}[1]{\\mathbf{#1}}\\left[\\left\\{d_{1} : r_{599}, d_{2} : 0, d_{3} : 0, d_{4} : r_{600}, d_{5} : r_{601}, a_{12} : r_{602}, a_{13} : r_{603}, a_{14} : r_{604}, a_{15} : r_{605}, a_{23} : r_{606}, a_{24} : r_{607}, a_{25} : r_{608}, a_{34} : -\\frac{r_{600} x_{24}}{x_{23}}, a_{35} : r_{609}, a_{45} : -\\frac{r_{609} x_{23}}{x_{24}}\\right\\}, \\left\\{d_{1} : r_{610}, d_{2} : 0, d_{3} : 0, d_{4} : \\frac{r_{610}}{x_{14}}, d_{5} : r_{611}, a_{12} : 0, a_{13} : r_{612}, a_{14} : r_{613}, a_{15} : r_{614}, a_{23} : r_{615}, a_{24} : r_{616}, a_{25} : r_{617}, a_{34} : -\\frac{r_{610} x_{24}}{x_{14} x_{23}}, a_{35} : r_{618}, a_{45} : -\\frac{r_{618} x_{23}}{x_{24}}\\right\\}, \\left\\{d_{1} : r_{619}, d_{2} : r_{620}, d_{3} : \\frac{r_{620}}{x_{23}}, d_{4} : \\frac{r_{619}}{x_{14}}, d_{5} : r_{621}, a_{12} : 0, a_{13} : r_{622}, a_{14} : r_{623}, a_{15} : r_{624}, a_{23} : r_{625}, a_{24} : r_{626}, a_{25} : r_{627}, a_{34} : -\\frac{r_{619} x_{24}}{x_{14} x_{23}}, a_{35} : 0, a_{45} : 0\\right\\}\\right]</script></html>"
      ],
      "text/latex": [
       "$$\\newcommand{\\Bold}[1]{\\mathbf{#1}}\\left[\\left\\{d_{1} : r_{599}, d_{2} : 0, d_{3} : 0, d_{4} : r_{600}, d_{5} : r_{601}, a_{12} : r_{602}, a_{13} : r_{603}, a_{14} : r_{604}, a_{15} : r_{605}, a_{23} : r_{606}, a_{24} : r_{607}, a_{25} : r_{608}, a_{34} : -\\frac{r_{600} x_{24}}{x_{23}}, a_{35} : r_{609}, a_{45} : -\\frac{r_{609} x_{23}}{x_{24}}\\right\\}, \\left\\{d_{1} : r_{610}, d_{2} : 0, d_{3} : 0, d_{4} : \\frac{r_{610}}{x_{14}}, d_{5} : r_{611}, a_{12} : 0, a_{13} : r_{612}, a_{14} : r_{613}, a_{15} : r_{614}, a_{23} : r_{615}, a_{24} : r_{616}, a_{25} : r_{617}, a_{34} : -\\frac{r_{610} x_{24}}{x_{14} x_{23}}, a_{35} : r_{618}, a_{45} : -\\frac{r_{618} x_{23}}{x_{24}}\\right\\}, \\left\\{d_{1} : r_{619}, d_{2} : r_{620}, d_{3} : \\frac{r_{620}}{x_{23}}, d_{4} : \\frac{r_{619}}{x_{14}}, d_{5} : r_{621}, a_{12} : 0, a_{13} : r_{622}, a_{14} : r_{623}, a_{15} : r_{624}, a_{23} : r_{625}, a_{24} : r_{626}, a_{25} : r_{627}, a_{34} : -\\frac{r_{619} x_{24}}{x_{14} x_{23}}, a_{35} : 0, a_{45} : 0\\right\\}\\right]$$"
      ],
      "text/plain": [
       "[{d1: r599,\n",
       "  d2: 0,\n",
       "  d3: 0,\n",
       "  d4: r600,\n",
       "  d5: r601,\n",
       "  a12: r602,\n",
       "  a13: r603,\n",
       "  a14: r604,\n",
       "  a15: r605,\n",
       "  a23: r606,\n",
       "  a24: r607,\n",
       "  a25: r608,\n",
       "  a34: -r600*x24/x23,\n",
       "  a35: r609,\n",
       "  a45: -r609*x23/x24},\n",
       " {d1: r610,\n",
       "  d2: 0,\n",
       "  d3: 0,\n",
       "  d4: r610/x14,\n",
       "  d5: r611,\n",
       "  a12: 0,\n",
       "  a13: r612,\n",
       "  a14: r613,\n",
       "  a15: r614,\n",
       "  a23: r615,\n",
       "  a24: r616,\n",
       "  a25: r617,\n",
       "  a34: -r610*x24/(x14*x23),\n",
       "  a35: r618,\n",
       "  a45: -r618*x23/x24},\n",
       " {d1: r619,\n",
       "  d2: r620,\n",
       "  d3: r620/x23,\n",
       "  d4: r619/x14,\n",
       "  d5: r621,\n",
       "  a12: 0,\n",
       "  a13: r622,\n",
       "  a14: r623,\n",
       "  a15: r624,\n",
       "  a23: r625,\n",
       "  a24: r626,\n",
       "  a25: r627,\n",
       "  a34: -r619*x24/(x14*x23),\n",
       "  a35: 0,\n",
       "  a45: 0}]"
      ]
     },
     "metadata": {},
     "output_type": "display_data"
    },
    {
     "data": {
      "text/plain": [
       "\\left[\\left\\{d_{1} : r_{599}, d_{2} : 0, d_{3} : 0, d_{4} : r_{600}, d_{5} : r_{601}, a_{12} : r_{602}, a_{13} : r_{603}, a_{14} : r_{604}, a_{15} : r_{605}, a_{23} : r_{606}, a_{24} : r_{607}, a_{25} : r_{608}, a_{34} : -\\frac{r_{600} x_{24}}{x_{23}}, a_{35} : r_{609}, a_{45} : -\\frac{r_{609} x_{23}}{x_{24}}\\right\\}, \\left\\{d_{1} : r_{610}, d_{2} : 0, d_{3} : 0, d_{4} : \\frac{r_{610}}{x_{14}}, d_{5} : r_{611}, a_{12} : 0, a_{13} : r_{612}, a_{14} : r_{613}, a_{15} : r_{614}, a_{23} : r_{615}, a_{24} : r_{616}, a_{25} : r_{617}, a_{34} : -\\frac{r_{610} x_{24}}{x_{14} x_{23}}, a_{35} : r_{618}, a_{45} : -\\frac{r_{618} x_{23}}{x_{24}}\\right\\}, \\left\\{d_{1} : r_{619}, d_{2} : r_{620}, d_{3} : \\frac{r_{620}}{x_{23}}, d_{4} : \\frac{r_{619}}{x_{14}}, d_{5} : r_{621}, a_{12} : 0, a_{13} : r_{622}, a_{14} : r_{623}, a_{15} : r_{624}, a_{23} : r_{625}, a_{24} : r_{626}, a_{25} : r_{627}, a_{34} : -\\frac{r_{619} x_{24}}{x_{14} x_{23}}, a_{35} : 0, a_{45} : 0\\right\\}\\right]"
      ]
     },
     "execution_count": 30,
     "metadata": {},
     "output_type": "execute_result"
    }
   ],
   "source": [
    "#x3\n",
    "reset()\n",
    "\n",
    "var('x12,x13,x14,x15,x23,x24,x25,x34,x35,x45')\n",
    "var('d1,d2,d3,d4,d5')\n",
    "var('a12,a13,a14,a15,a23,a24,a25,a34,a35,a45')\n",
    "\n",
    "load_attach_path('C:\\\\Users\\\\julia\\\\Documents\\\\unb\\\\doutorado\\\\pensar\\\\codigo_sage_v2\\\\maquina\\\\x3')\n",
    "load('out_#010010.sage')\n",
    "\n",
    "m=matrix(QQ, [[0, 0, 0, 1, 0],\n",
    "              [0, 0, 1, 0, 0],\n",
    "              [0, 0, 0, 0, 0],\n",
    "              [0, 0, 0, 0, 0],\n",
    "              [0, 0, 0, 0, 0]])\n",
    "        \n",
    "#entry of matrix: (i,j) line i collum j, means (i-1,j-1)\n",
    "sol=solve([ eq1==m[0,2],\teq2==m[0,3],\teq3==m[0,4],\teq4==m[1,2],\t\n",
    "                                            eq5==m[1,3],    eq6==m[1,4],\n",
    "                                                            eq7==m[2,4]],d1,d2,d3,d4,d5,a12,a13,a14,a15,a23,a24,a25,a34,a35,a45, solution_dict=True)\n",
    "\n",
    "show(m)\n",
    "show(sol)\n",
    "latex(sol)"
   ]
  },
  {
   "cell_type": "code",
   "execution_count": 32,
   "metadata": {},
   "outputs": [
    {
     "data": {
      "text/html": [
       "<html><script type=\"math/tex; mode=display\">\\newcommand{\\Bold}[1]{\\mathbf{#1}}\\left(\\begin{array}{rrrrr}\n",
       "0 & 0 & 0 & 1 & 0 \\\\\n",
       "0 & 0 & 1 & 0 & 0 \\\\\n",
       "0 & 0 & 0 & 0 & 0 \\\\\n",
       "0 & 0 & 0 & 0 & 0 \\\\\n",
       "0 & 0 & 0 & 0 & 0\n",
       "\\end{array}\\right)</script></html>"
      ],
      "text/latex": [
       "$$\\newcommand{\\Bold}[1]{\\mathbf{#1}}\\left(\\begin{array}{rrrrr}\n",
       "0 & 0 & 0 & 1 & 0 \\\\\n",
       "0 & 0 & 1 & 0 & 0 \\\\\n",
       "0 & 0 & 0 & 0 & 0 \\\\\n",
       "0 & 0 & 0 & 0 & 0 \\\\\n",
       "0 & 0 & 0 & 0 & 0\n",
       "\\end{array}\\right)$$"
      ],
      "text/plain": [
       "[0 0 0 1 0]\n",
       "[0 0 1 0 0]\n",
       "[0 0 0 0 0]\n",
       "[0 0 0 0 0]\n",
       "[0 0 0 0 0]"
      ]
     },
     "metadata": {},
     "output_type": "display_data"
    },
    {
     "data": {
      "text/html": [
       "<html><script type=\"math/tex; mode=display\">\\newcommand{\\Bold}[1]{\\mathbf{#1}}\\left[\\left\\{d_{1} : r_{657}, d_{2} : 0, d_{3} : 0, d_{4} : r_{658}, d_{5} : r_{659}, a_{12} : r_{660}, a_{13} : r_{661}, a_{14} : r_{662}, a_{15} : r_{663}, a_{23} : r_{664}, a_{24} : r_{665}, a_{25} : r_{666}, a_{34} : -\\frac{r_{658} x_{24}}{x_{23}}, a_{35} : r_{667}, a_{45} : -\\frac{r_{667} x_{23}}{x_{24}}\\right\\}, \\left\\{d_{1} : r_{668}, d_{2} : r_{669}, d_{3} : \\frac{r_{669}}{x_{23}}, d_{4} : \\frac{r_{668}}{x_{14}}, d_{5} : r_{670}, a_{12} : 0, a_{13} : r_{671}, a_{14} : r_{672}, a_{15} : r_{673}, a_{23} : r_{674}, a_{24} : r_{675}, a_{25} : r_{676}, a_{34} : -\\frac{r_{668} x_{24}}{x_{14} x_{23}}, a_{35} : \\frac{r_{670} x_{15} x_{24}}{x_{14} x_{23}}, a_{45} : -\\frac{r_{670} x_{15}}{x_{14}}\\right\\}, \\left\\{d_{1} : r_{677}, d_{2} : 0, d_{3} : 0, d_{4} : \\frac{r_{677}}{x_{14}}, d_{5} : r_{678}, a_{12} : 0, a_{13} : r_{679}, a_{14} : r_{680}, a_{15} : r_{681}, a_{23} : r_{682}, a_{24} : r_{683}, a_{25} : r_{684}, a_{34} : -\\frac{r_{677} x_{24}}{x_{14} x_{23}}, a_{35} : r_{685}, a_{45} : -\\frac{r_{685} x_{23}}{x_{24}}\\right\\}\\right]</script></html>"
      ],
      "text/latex": [
       "$$\\newcommand{\\Bold}[1]{\\mathbf{#1}}\\left[\\left\\{d_{1} : r_{657}, d_{2} : 0, d_{3} : 0, d_{4} : r_{658}, d_{5} : r_{659}, a_{12} : r_{660}, a_{13} : r_{661}, a_{14} : r_{662}, a_{15} : r_{663}, a_{23} : r_{664}, a_{24} : r_{665}, a_{25} : r_{666}, a_{34} : -\\frac{r_{658} x_{24}}{x_{23}}, a_{35} : r_{667}, a_{45} : -\\frac{r_{667} x_{23}}{x_{24}}\\right\\}, \\left\\{d_{1} : r_{668}, d_{2} : r_{669}, d_{3} : \\frac{r_{669}}{x_{23}}, d_{4} : \\frac{r_{668}}{x_{14}}, d_{5} : r_{670}, a_{12} : 0, a_{13} : r_{671}, a_{14} : r_{672}, a_{15} : r_{673}, a_{23} : r_{674}, a_{24} : r_{675}, a_{25} : r_{676}, a_{34} : -\\frac{r_{668} x_{24}}{x_{14} x_{23}}, a_{35} : \\frac{r_{670} x_{15} x_{24}}{x_{14} x_{23}}, a_{45} : -\\frac{r_{670} x_{15}}{x_{14}}\\right\\}, \\left\\{d_{1} : r_{677}, d_{2} : 0, d_{3} : 0, d_{4} : \\frac{r_{677}}{x_{14}}, d_{5} : r_{678}, a_{12} : 0, a_{13} : r_{679}, a_{14} : r_{680}, a_{15} : r_{681}, a_{23} : r_{682}, a_{24} : r_{683}, a_{25} : r_{684}, a_{34} : -\\frac{r_{677} x_{24}}{x_{14} x_{23}}, a_{35} : r_{685}, a_{45} : -\\frac{r_{685} x_{23}}{x_{24}}\\right\\}\\right]$$"
      ],
      "text/plain": [
       "[{d1: r657,\n",
       "  d2: 0,\n",
       "  d3: 0,\n",
       "  d4: r658,\n",
       "  d5: r659,\n",
       "  a12: r660,\n",
       "  a13: r661,\n",
       "  a14: r662,\n",
       "  a15: r663,\n",
       "  a23: r664,\n",
       "  a24: r665,\n",
       "  a25: r666,\n",
       "  a34: -r658*x24/x23,\n",
       "  a35: r667,\n",
       "  a45: -r667*x23/x24},\n",
       " {d1: r668,\n",
       "  d2: r669,\n",
       "  d3: r669/x23,\n",
       "  d4: r668/x14,\n",
       "  d5: r670,\n",
       "  a12: 0,\n",
       "  a13: r671,\n",
       "  a14: r672,\n",
       "  a15: r673,\n",
       "  a23: r674,\n",
       "  a24: r675,\n",
       "  a25: r676,\n",
       "  a34: -r668*x24/(x14*x23),\n",
       "  a35: r670*x15*x24/(x14*x23),\n",
       "  a45: -r670*x15/x14},\n",
       " {d1: r677,\n",
       "  d2: 0,\n",
       "  d3: 0,\n",
       "  d4: r677/x14,\n",
       "  d5: r678,\n",
       "  a12: 0,\n",
       "  a13: r679,\n",
       "  a14: r680,\n",
       "  a15: r681,\n",
       "  a23: r682,\n",
       "  a24: r683,\n",
       "  a25: r684,\n",
       "  a34: -r677*x24/(x14*x23),\n",
       "  a35: r685,\n",
       "  a45: -r685*x23/x24}]"
      ]
     },
     "metadata": {},
     "output_type": "display_data"
    },
    {
     "data": {
      "text/plain": [
       "\\left[\\left\\{d_{1} : r_{657}, d_{2} : 0, d_{3} : 0, d_{4} : r_{658}, d_{5} : r_{659}, a_{12} : r_{660}, a_{13} : r_{661}, a_{14} : r_{662}, a_{15} : r_{663}, a_{23} : r_{664}, a_{24} : r_{665}, a_{25} : r_{666}, a_{34} : -\\frac{r_{658} x_{24}}{x_{23}}, a_{35} : r_{667}, a_{45} : -\\frac{r_{667} x_{23}}{x_{24}}\\right\\}, \\left\\{d_{1} : r_{668}, d_{2} : r_{669}, d_{3} : \\frac{r_{669}}{x_{23}}, d_{4} : \\frac{r_{668}}{x_{14}}, d_{5} : r_{670}, a_{12} : 0, a_{13} : r_{671}, a_{14} : r_{672}, a_{15} : r_{673}, a_{23} : r_{674}, a_{24} : r_{675}, a_{25} : r_{676}, a_{34} : -\\frac{r_{668} x_{24}}{x_{14} x_{23}}, a_{35} : \\frac{r_{670} x_{15} x_{24}}{x_{14} x_{23}}, a_{45} : -\\frac{r_{670} x_{15}}{x_{14}}\\right\\}, \\left\\{d_{1} : r_{677}, d_{2} : 0, d_{3} : 0, d_{4} : \\frac{r_{677}}{x_{14}}, d_{5} : r_{678}, a_{12} : 0, a_{13} : r_{679}, a_{14} : r_{680}, a_{15} : r_{681}, a_{23} : r_{682}, a_{24} : r_{683}, a_{25} : r_{684}, a_{34} : -\\frac{r_{677} x_{24}}{x_{14} x_{23}}, a_{35} : r_{685}, a_{45} : -\\frac{r_{685} x_{23}}{x_{24}}\\right\\}\\right]"
      ]
     },
     "execution_count": 32,
     "metadata": {},
     "output_type": "execute_result"
    }
   ],
   "source": [
    "#x3\n",
    "reset()\n",
    "\n",
    "var('x12,x13,x14,x15,x23,x24,x25,x34,x35,x45')\n",
    "var('d1,d2,d3,d4,d5')\n",
    "var('a12,a13,a14,a15,a23,a24,a25,a34,a35,a45')\n",
    "\n",
    "load_attach_path('C:\\\\Users\\\\julia\\\\Documents\\\\unb\\\\doutorado\\\\pensar\\\\codigo_sage_v2\\\\maquina\\\\x3')\n",
    "load('out_#010011.sage')\n",
    "\n",
    "m=matrix(QQ, [[0, 0, 0, 1, 0],\n",
    "              [0, 0, 1, 0, 0],\n",
    "              [0, 0, 0, 0, 0],\n",
    "              [0, 0, 0, 0, 0],\n",
    "              [0, 0, 0, 0, 0]])\n",
    "        \n",
    "#entry of matrix: (i,j) line i collum j, means (i-1,j-1)\n",
    "sol=solve([ eq1==m[0,2],\teq2==m[0,3],\teq3==m[0,4],\teq4==m[1,2],\t\n",
    "                                            eq5==m[1,3],    eq6==m[1,4],\n",
    "                                                            eq7==m[2,4]],d1,d2,d3,d4,d5,a12,a13,a14,a15,a23,a24,a25,a34,a35,a45, solution_dict=True)\n",
    "\n",
    "show(m)\n",
    "show(sol)\n",
    "latex(sol)"
   ]
  },
  {
   "cell_type": "code",
   "execution_count": 34,
   "metadata": {},
   "outputs": [
    {
     "data": {
      "text/html": [
       "<html><script type=\"math/tex; mode=display\">\\newcommand{\\Bold}[1]{\\mathbf{#1}}\\left(\\begin{array}{rrrrr}\n",
       "0 & 0 & 0 & 1 & 0 \\\\\n",
       "0 & 0 & 1 & 0 & 0 \\\\\n",
       "0 & 0 & 0 & 0 & 0 \\\\\n",
       "0 & 0 & 0 & 0 & 0 \\\\\n",
       "0 & 0 & 0 & 0 & 0\n",
       "\\end{array}\\right)</script></html>"
      ],
      "text/latex": [
       "$$\\newcommand{\\Bold}[1]{\\mathbf{#1}}\\left(\\begin{array}{rrrrr}\n",
       "0 & 0 & 0 & 1 & 0 \\\\\n",
       "0 & 0 & 1 & 0 & 0 \\\\\n",
       "0 & 0 & 0 & 0 & 0 \\\\\n",
       "0 & 0 & 0 & 0 & 0 \\\\\n",
       "0 & 0 & 0 & 0 & 0\n",
       "\\end{array}\\right)$$"
      ],
      "text/plain": [
       "[0 0 0 1 0]\n",
       "[0 0 1 0 0]\n",
       "[0 0 0 0 0]\n",
       "[0 0 0 0 0]\n",
       "[0 0 0 0 0]"
      ]
     },
     "metadata": {},
     "output_type": "display_data"
    },
    {
     "data": {
      "text/html": [
       "<html><script type=\"math/tex; mode=display\">\\newcommand{\\Bold}[1]{\\mathbf{#1}}\\left[\\left\\{d_{1} : r_{715}, d_{2} : 0, d_{3} : 0, d_{4} : r_{716}, d_{5} : r_{717}, a_{12} : r_{718}, a_{13} : r_{719}, a_{14} : r_{720}, a_{15} : r_{721}, a_{23} : r_{722}, a_{24} : r_{723}, a_{25} : r_{724}, a_{34} : -\\frac{r_{716} x_{24}}{x_{23}}, a_{35} : r_{725}, a_{45} : -\\frac{r_{725} x_{23}}{x_{24}}\\right\\}, \\left\\{d_{1} : r_{726}, d_{2} : 0, d_{3} : 0, d_{4} : -\\frac{r_{726} x_{23}}{x_{13} x_{24}}, d_{5} : r_{727}, a_{12} : 0, a_{13} : r_{728}, a_{14} : r_{729}, a_{15} : r_{730}, a_{23} : r_{731}, a_{24} : r_{732}, a_{25} : r_{733}, a_{34} : \\frac{r_{726}}{x_{13}}, a_{35} : r_{734}, a_{45} : -\\frac{r_{734} x_{23}}{x_{24}}\\right\\}, \\left\\{d_{1} : r_{735}, d_{2} : r_{736}, d_{3} : \\frac{r_{736}}{x_{23}}, d_{4} : -\\frac{r_{735} x_{23}}{x_{13} x_{24}}, d_{5} : r_{737}, a_{12} : \\frac{r_{736} x_{13}}{x_{23}}, a_{13} : r_{738}, a_{14} : r_{739}, a_{15} : r_{740}, a_{23} : r_{741}, a_{24} : r_{742}, a_{25} : r_{743}, a_{34} : \\frac{r_{735}}{x_{13}}, a_{35} : 0, a_{45} : 0\\right\\}\\right]</script></html>"
      ],
      "text/latex": [
       "$$\\newcommand{\\Bold}[1]{\\mathbf{#1}}\\left[\\left\\{d_{1} : r_{715}, d_{2} : 0, d_{3} : 0, d_{4} : r_{716}, d_{5} : r_{717}, a_{12} : r_{718}, a_{13} : r_{719}, a_{14} : r_{720}, a_{15} : r_{721}, a_{23} : r_{722}, a_{24} : r_{723}, a_{25} : r_{724}, a_{34} : -\\frac{r_{716} x_{24}}{x_{23}}, a_{35} : r_{725}, a_{45} : -\\frac{r_{725} x_{23}}{x_{24}}\\right\\}, \\left\\{d_{1} : r_{726}, d_{2} : 0, d_{3} : 0, d_{4} : -\\frac{r_{726} x_{23}}{x_{13} x_{24}}, d_{5} : r_{727}, a_{12} : 0, a_{13} : r_{728}, a_{14} : r_{729}, a_{15} : r_{730}, a_{23} : r_{731}, a_{24} : r_{732}, a_{25} : r_{733}, a_{34} : \\frac{r_{726}}{x_{13}}, a_{35} : r_{734}, a_{45} : -\\frac{r_{734} x_{23}}{x_{24}}\\right\\}, \\left\\{d_{1} : r_{735}, d_{2} : r_{736}, d_{3} : \\frac{r_{736}}{x_{23}}, d_{4} : -\\frac{r_{735} x_{23}}{x_{13} x_{24}}, d_{5} : r_{737}, a_{12} : \\frac{r_{736} x_{13}}{x_{23}}, a_{13} : r_{738}, a_{14} : r_{739}, a_{15} : r_{740}, a_{23} : r_{741}, a_{24} : r_{742}, a_{25} : r_{743}, a_{34} : \\frac{r_{735}}{x_{13}}, a_{35} : 0, a_{45} : 0\\right\\}\\right]$$"
      ],
      "text/plain": [
       "[{d1: r715,\n",
       "  d2: 0,\n",
       "  d3: 0,\n",
       "  d4: r716,\n",
       "  d5: r717,\n",
       "  a12: r718,\n",
       "  a13: r719,\n",
       "  a14: r720,\n",
       "  a15: r721,\n",
       "  a23: r722,\n",
       "  a24: r723,\n",
       "  a25: r724,\n",
       "  a34: -r716*x24/x23,\n",
       "  a35: r725,\n",
       "  a45: -r725*x23/x24},\n",
       " {d1: r726,\n",
       "  d2: 0,\n",
       "  d3: 0,\n",
       "  d4: -r726*x23/(x13*x24),\n",
       "  d5: r727,\n",
       "  a12: 0,\n",
       "  a13: r728,\n",
       "  a14: r729,\n",
       "  a15: r730,\n",
       "  a23: r731,\n",
       "  a24: r732,\n",
       "  a25: r733,\n",
       "  a34: r726/x13,\n",
       "  a35: r734,\n",
       "  a45: -r734*x23/x24},\n",
       " {d1: r735,\n",
       "  d2: r736,\n",
       "  d3: r736/x23,\n",
       "  d4: -r735*x23/(x13*x24),\n",
       "  d5: r737,\n",
       "  a12: r736*x13/x23,\n",
       "  a13: r738,\n",
       "  a14: r739,\n",
       "  a15: r740,\n",
       "  a23: r741,\n",
       "  a24: r742,\n",
       "  a25: r743,\n",
       "  a34: r735/x13,\n",
       "  a35: 0,\n",
       "  a45: 0}]"
      ]
     },
     "metadata": {},
     "output_type": "display_data"
    },
    {
     "data": {
      "text/plain": [
       "\\left[\\left\\{d_{1} : r_{715}, d_{2} : 0, d_{3} : 0, d_{4} : r_{716}, d_{5} : r_{717}, a_{12} : r_{718}, a_{13} : r_{719}, a_{14} : r_{720}, a_{15} : r_{721}, a_{23} : r_{722}, a_{24} : r_{723}, a_{25} : r_{724}, a_{34} : -\\frac{r_{716} x_{24}}{x_{23}}, a_{35} : r_{725}, a_{45} : -\\frac{r_{725} x_{23}}{x_{24}}\\right\\}, \\left\\{d_{1} : r_{726}, d_{2} : 0, d_{3} : 0, d_{4} : -\\frac{r_{726} x_{23}}{x_{13} x_{24}}, d_{5} : r_{727}, a_{12} : 0, a_{13} : r_{728}, a_{14} : r_{729}, a_{15} : r_{730}, a_{23} : r_{731}, a_{24} : r_{732}, a_{25} : r_{733}, a_{34} : \\frac{r_{726}}{x_{13}}, a_{35} : r_{734}, a_{45} : -\\frac{r_{734} x_{23}}{x_{24}}\\right\\}, \\left\\{d_{1} : r_{735}, d_{2} : r_{736}, d_{3} : \\frac{r_{736}}{x_{23}}, d_{4} : -\\frac{r_{735} x_{23}}{x_{13} x_{24}}, d_{5} : r_{737}, a_{12} : \\frac{r_{736} x_{13}}{x_{23}}, a_{13} : r_{738}, a_{14} : r_{739}, a_{15} : r_{740}, a_{23} : r_{741}, a_{24} : r_{742}, a_{25} : r_{743}, a_{34} : \\frac{r_{735}}{x_{13}}, a_{35} : 0, a_{45} : 0\\right\\}\\right]"
      ]
     },
     "execution_count": 34,
     "metadata": {},
     "output_type": "execute_result"
    }
   ],
   "source": [
    "#x3\n",
    "reset()\n",
    "\n",
    "var('x12,x13,x14,x15,x23,x24,x25,x34,x35,x45')\n",
    "var('d1,d2,d3,d4,d5')\n",
    "var('a12,a13,a14,a15,a23,a24,a25,a34,a35,a45')\n",
    "\n",
    "load_attach_path('C:\\\\Users\\\\julia\\\\Documents\\\\unb\\\\doutorado\\\\pensar\\\\codigo_sage_v2\\\\maquina\\\\x3')\n",
    "load('out_#010100.sage')\n",
    "\n",
    "m=matrix(QQ, [[0, 0, 0, 1, 0],\n",
    "              [0, 0, 1, 0, 0],\n",
    "              [0, 0, 0, 0, 0],\n",
    "              [0, 0, 0, 0, 0],\n",
    "              [0, 0, 0, 0, 0]])\n",
    "        \n",
    "#entry of matrix: (i,j) line i collum j, means (i-1,j-1)\n",
    "sol=solve([ eq1==m[0,2],\teq2==m[0,3],\teq3==m[0,4],\teq4==m[1,2],\t\n",
    "                                            eq5==m[1,3],    eq6==m[1,4],\n",
    "                                                            eq7==m[2,4]],d1,d2,d3,d4,d5,a12,a13,a14,a15,a23,a24,a25,a34,a35,a45, solution_dict=True)\n",
    "\n",
    "show(m)\n",
    "show(sol)\n",
    "latex(sol)"
   ]
  },
  {
   "cell_type": "code",
   "execution_count": 36,
   "metadata": {},
   "outputs": [
    {
     "data": {
      "text/html": [
       "<html><script type=\"math/tex; mode=display\">\\newcommand{\\Bold}[1]{\\mathbf{#1}}\\left(\\begin{array}{rrrrr}\n",
       "0 & 0 & 0 & 1 & 0 \\\\\n",
       "0 & 0 & 1 & 0 & 0 \\\\\n",
       "0 & 0 & 0 & 0 & 0 \\\\\n",
       "0 & 0 & 0 & 0 & 0 \\\\\n",
       "0 & 0 & 0 & 0 & 0\n",
       "\\end{array}\\right)</script></html>"
      ],
      "text/latex": [
       "$$\\newcommand{\\Bold}[1]{\\mathbf{#1}}\\left(\\begin{array}{rrrrr}\n",
       "0 & 0 & 0 & 1 & 0 \\\\\n",
       "0 & 0 & 1 & 0 & 0 \\\\\n",
       "0 & 0 & 0 & 0 & 0 \\\\\n",
       "0 & 0 & 0 & 0 & 0 \\\\\n",
       "0 & 0 & 0 & 0 & 0\n",
       "\\end{array}\\right)$$"
      ],
      "text/plain": [
       "[0 0 0 1 0]\n",
       "[0 0 1 0 0]\n",
       "[0 0 0 0 0]\n",
       "[0 0 0 0 0]\n",
       "[0 0 0 0 0]"
      ]
     },
     "metadata": {},
     "output_type": "display_data"
    },
    {
     "data": {
      "text/html": [
       "<html><script type=\"math/tex; mode=display\">\\newcommand{\\Bold}[1]{\\mathbf{#1}}\\left[\\left\\{d_{1} : r_{773}, d_{2} : 0, d_{3} : 0, d_{4} : r_{774}, d_{5} : r_{775}, a_{12} : r_{776}, a_{13} : r_{777}, a_{14} : r_{778}, a_{15} : r_{779}, a_{23} : r_{780}, a_{24} : r_{781}, a_{25} : r_{782}, a_{34} : -\\frac{r_{774} x_{24}}{x_{23}}, a_{35} : r_{783}, a_{45} : -\\frac{r_{783} x_{23}}{x_{24}}\\right\\}, \\left\\{d_{1} : r_{784}, d_{2} : r_{785}, d_{3} : \\frac{r_{785}}{x_{23}}, d_{4} : -\\frac{r_{784} x_{23}}{x_{13} x_{24}}, d_{5} : r_{786}, a_{12} : \\frac{r_{785} x_{13}}{x_{23}}, a_{13} : r_{787}, a_{14} : r_{788}, a_{15} : r_{789}, a_{23} : r_{790}, a_{24} : r_{791}, a_{25} : r_{792}, a_{34} : \\frac{r_{784}}{x_{13}}, a_{35} : -\\frac{r_{786} x_{15}}{x_{13}}, a_{45} : \\frac{r_{786} x_{15} x_{23}}{x_{13} x_{24}}\\right\\}, \\left\\{d_{1} : r_{793}, d_{2} : 0, d_{3} : 0, d_{4} : -\\frac{r_{793} x_{23}}{x_{13} x_{24}}, d_{5} : r_{794}, a_{12} : 0, a_{13} : r_{795}, a_{14} : r_{796}, a_{15} : r_{797}, a_{23} : r_{798}, a_{24} : r_{799}, a_{25} : r_{800}, a_{34} : \\frac{r_{793}}{x_{13}}, a_{35} : r_{801}, a_{45} : -\\frac{r_{801} x_{23}}{x_{24}}\\right\\}\\right]</script></html>"
      ],
      "text/latex": [
       "$$\\newcommand{\\Bold}[1]{\\mathbf{#1}}\\left[\\left\\{d_{1} : r_{773}, d_{2} : 0, d_{3} : 0, d_{4} : r_{774}, d_{5} : r_{775}, a_{12} : r_{776}, a_{13} : r_{777}, a_{14} : r_{778}, a_{15} : r_{779}, a_{23} : r_{780}, a_{24} : r_{781}, a_{25} : r_{782}, a_{34} : -\\frac{r_{774} x_{24}}{x_{23}}, a_{35} : r_{783}, a_{45} : -\\frac{r_{783} x_{23}}{x_{24}}\\right\\}, \\left\\{d_{1} : r_{784}, d_{2} : r_{785}, d_{3} : \\frac{r_{785}}{x_{23}}, d_{4} : -\\frac{r_{784} x_{23}}{x_{13} x_{24}}, d_{5} : r_{786}, a_{12} : \\frac{r_{785} x_{13}}{x_{23}}, a_{13} : r_{787}, a_{14} : r_{788}, a_{15} : r_{789}, a_{23} : r_{790}, a_{24} : r_{791}, a_{25} : r_{792}, a_{34} : \\frac{r_{784}}{x_{13}}, a_{35} : -\\frac{r_{786} x_{15}}{x_{13}}, a_{45} : \\frac{r_{786} x_{15} x_{23}}{x_{13} x_{24}}\\right\\}, \\left\\{d_{1} : r_{793}, d_{2} : 0, d_{3} : 0, d_{4} : -\\frac{r_{793} x_{23}}{x_{13} x_{24}}, d_{5} : r_{794}, a_{12} : 0, a_{13} : r_{795}, a_{14} : r_{796}, a_{15} : r_{797}, a_{23} : r_{798}, a_{24} : r_{799}, a_{25} : r_{800}, a_{34} : \\frac{r_{793}}{x_{13}}, a_{35} : r_{801}, a_{45} : -\\frac{r_{801} x_{23}}{x_{24}}\\right\\}\\right]$$"
      ],
      "text/plain": [
       "[{d1: r773,\n",
       "  d2: 0,\n",
       "  d3: 0,\n",
       "  d4: r774,\n",
       "  d5: r775,\n",
       "  a12: r776,\n",
       "  a13: r777,\n",
       "  a14: r778,\n",
       "  a15: r779,\n",
       "  a23: r780,\n",
       "  a24: r781,\n",
       "  a25: r782,\n",
       "  a34: -r774*x24/x23,\n",
       "  a35: r783,\n",
       "  a45: -r783*x23/x24},\n",
       " {d1: r784,\n",
       "  d2: r785,\n",
       "  d3: r785/x23,\n",
       "  d4: -r784*x23/(x13*x24),\n",
       "  d5: r786,\n",
       "  a12: r785*x13/x23,\n",
       "  a13: r787,\n",
       "  a14: r788,\n",
       "  a15: r789,\n",
       "  a23: r790,\n",
       "  a24: r791,\n",
       "  a25: r792,\n",
       "  a34: r784/x13,\n",
       "  a35: -r786*x15/x13,\n",
       "  a45: r786*x15*x23/(x13*x24)},\n",
       " {d1: r793,\n",
       "  d2: 0,\n",
       "  d3: 0,\n",
       "  d4: -r793*x23/(x13*x24),\n",
       "  d5: r794,\n",
       "  a12: 0,\n",
       "  a13: r795,\n",
       "  a14: r796,\n",
       "  a15: r797,\n",
       "  a23: r798,\n",
       "  a24: r799,\n",
       "  a25: r800,\n",
       "  a34: r793/x13,\n",
       "  a35: r801,\n",
       "  a45: -r801*x23/x24}]"
      ]
     },
     "metadata": {},
     "output_type": "display_data"
    },
    {
     "data": {
      "text/plain": [
       "\\left[\\left\\{d_{1} : r_{773}, d_{2} : 0, d_{3} : 0, d_{4} : r_{774}, d_{5} : r_{775}, a_{12} : r_{776}, a_{13} : r_{777}, a_{14} : r_{778}, a_{15} : r_{779}, a_{23} : r_{780}, a_{24} : r_{781}, a_{25} : r_{782}, a_{34} : -\\frac{r_{774} x_{24}}{x_{23}}, a_{35} : r_{783}, a_{45} : -\\frac{r_{783} x_{23}}{x_{24}}\\right\\}, \\left\\{d_{1} : r_{784}, d_{2} : r_{785}, d_{3} : \\frac{r_{785}}{x_{23}}, d_{4} : -\\frac{r_{784} x_{23}}{x_{13} x_{24}}, d_{5} : r_{786}, a_{12} : \\frac{r_{785} x_{13}}{x_{23}}, a_{13} : r_{787}, a_{14} : r_{788}, a_{15} : r_{789}, a_{23} : r_{790}, a_{24} : r_{791}, a_{25} : r_{792}, a_{34} : \\frac{r_{784}}{x_{13}}, a_{35} : -\\frac{r_{786} x_{15}}{x_{13}}, a_{45} : \\frac{r_{786} x_{15} x_{23}}{x_{13} x_{24}}\\right\\}, \\left\\{d_{1} : r_{793}, d_{2} : 0, d_{3} : 0, d_{4} : -\\frac{r_{793} x_{23}}{x_{13} x_{24}}, d_{5} : r_{794}, a_{12} : 0, a_{13} : r_{795}, a_{14} : r_{796}, a_{15} : r_{797}, a_{23} : r_{798}, a_{24} : r_{799}, a_{25} : r_{800}, a_{34} : \\frac{r_{793}}{x_{13}}, a_{35} : r_{801}, a_{45} : -\\frac{r_{801} x_{23}}{x_{24}}\\right\\}\\right]"
      ]
     },
     "execution_count": 36,
     "metadata": {},
     "output_type": "execute_result"
    }
   ],
   "source": [
    "#x3\n",
    "reset()\n",
    "\n",
    "var('x12,x13,x14,x15,x23,x24,x25,x34,x35,x45')\n",
    "var('d1,d2,d3,d4,d5')\n",
    "var('a12,a13,a14,a15,a23,a24,a25,a34,a35,a45')\n",
    "\n",
    "load_attach_path('C:\\\\Users\\\\julia\\\\Documents\\\\unb\\\\doutorado\\\\pensar\\\\codigo_sage_v2\\\\maquina\\\\x3')\n",
    "load('out_#010101.sage')\n",
    "\n",
    "m=matrix(QQ, [[0, 0, 0, 1, 0],\n",
    "              [0, 0, 1, 0, 0],\n",
    "              [0, 0, 0, 0, 0],\n",
    "              [0, 0, 0, 0, 0],\n",
    "              [0, 0, 0, 0, 0]])\n",
    "        \n",
    "#entry of matrix: (i,j) line i collum j, means (i-1,j-1)\n",
    "sol=solve([ eq1==m[0,2],\teq2==m[0,3],\teq3==m[0,4],\teq4==m[1,2],\t\n",
    "                                            eq5==m[1,3],    eq6==m[1,4],\n",
    "                                                            eq7==m[2,4]],d1,d2,d3,d4,d5,a12,a13,a14,a15,a23,a24,a25,a34,a35,a45, solution_dict=True)\n",
    "\n",
    "show(m)\n",
    "show(sol)\n",
    "latex(sol)"
   ]
  },
  {
   "cell_type": "code",
   "execution_count": 37,
   "metadata": {},
   "outputs": [
    {
     "data": {
      "text/html": [
       "<html><script type=\"math/tex; mode=display\">\\newcommand{\\Bold}[1]{\\mathbf{#1}}\\left(\\begin{array}{rrrrr}\n",
       "0 & 0 & 0 & 1 & 0 \\\\\n",
       "0 & 0 & 1 & 0 & 0 \\\\\n",
       "0 & 0 & 0 & 0 & 0 \\\\\n",
       "0 & 0 & 0 & 0 & 0 \\\\\n",
       "0 & 0 & 0 & 0 & 0\n",
       "\\end{array}\\right)</script></html>"
      ],
      "text/latex": [
       "$$\\newcommand{\\Bold}[1]{\\mathbf{#1}}\\left(\\begin{array}{rrrrr}\n",
       "0 & 0 & 0 & 1 & 0 \\\\\n",
       "0 & 0 & 1 & 0 & 0 \\\\\n",
       "0 & 0 & 0 & 0 & 0 \\\\\n",
       "0 & 0 & 0 & 0 & 0 \\\\\n",
       "0 & 0 & 0 & 0 & 0\n",
       "\\end{array}\\right)$$"
      ],
      "text/plain": [
       "[0 0 0 1 0]\n",
       "[0 0 1 0 0]\n",
       "[0 0 0 0 0]\n",
       "[0 0 0 0 0]\n",
       "[0 0 0 0 0]"
      ]
     },
     "metadata": {},
     "output_type": "display_data"
    },
    {
     "data": {
      "text/html": [
       "<html><script type=\"math/tex; mode=display\">\\newcommand{\\Bold}[1]{\\mathbf{#1}}\\left[\\left\\{d_{1} : r_{802}, d_{2} : 0, d_{3} : 0, d_{4} : r_{803}, d_{5} : r_{804}, a_{12} : r_{805}, a_{13} : r_{806}, a_{14} : r_{807}, a_{15} : r_{808}, a_{23} : r_{809}, a_{24} : r_{810}, a_{25} : r_{811}, a_{34} : -\\frac{r_{803} x_{24}}{x_{23}}, a_{35} : r_{812}, a_{45} : -\\frac{r_{812} x_{23}}{x_{24}}\\right\\}, \\left\\{d_{1} : r_{813}, d_{2} : 0, d_{3} : 0, d_{4} : \\frac{r_{813} x_{23}}{x_{14} x_{23} - x_{13} x_{24}}, d_{5} : r_{814}, a_{12} : 0, a_{13} : r_{815}, a_{14} : r_{816}, a_{15} : r_{817}, a_{23} : r_{818}, a_{24} : r_{819}, a_{25} : r_{820}, a_{34} : -\\frac{r_{813} x_{24}}{x_{14} x_{23} - x_{13} x_{24}}, a_{35} : r_{821}, a_{45} : -\\frac{r_{821} x_{23}}{x_{24}}\\right\\}, \\left\\{d_{1} : r_{822}, d_{2} : r_{823}, d_{3} : \\frac{r_{823}}{x_{23}}, d_{4} : \\frac{r_{822} x_{23}}{x_{14} x_{23} - x_{13} x_{24}}, d_{5} : r_{824}, a_{12} : \\frac{r_{823} x_{13}}{x_{23}}, a_{13} : r_{825}, a_{14} : r_{826}, a_{15} : r_{827}, a_{23} : r_{828}, a_{24} : r_{829}, a_{25} : r_{830}, a_{34} : -\\frac{r_{822} x_{24}}{x_{14} x_{23} - x_{13} x_{24}}, a_{35} : 0, a_{45} : 0\\right\\}\\right]</script></html>"
      ],
      "text/latex": [
       "$$\\newcommand{\\Bold}[1]{\\mathbf{#1}}\\left[\\left\\{d_{1} : r_{802}, d_{2} : 0, d_{3} : 0, d_{4} : r_{803}, d_{5} : r_{804}, a_{12} : r_{805}, a_{13} : r_{806}, a_{14} : r_{807}, a_{15} : r_{808}, a_{23} : r_{809}, a_{24} : r_{810}, a_{25} : r_{811}, a_{34} : -\\frac{r_{803} x_{24}}{x_{23}}, a_{35} : r_{812}, a_{45} : -\\frac{r_{812} x_{23}}{x_{24}}\\right\\}, \\left\\{d_{1} : r_{813}, d_{2} : 0, d_{3} : 0, d_{4} : \\frac{r_{813} x_{23}}{x_{14} x_{23} - x_{13} x_{24}}, d_{5} : r_{814}, a_{12} : 0, a_{13} : r_{815}, a_{14} : r_{816}, a_{15} : r_{817}, a_{23} : r_{818}, a_{24} : r_{819}, a_{25} : r_{820}, a_{34} : -\\frac{r_{813} x_{24}}{x_{14} x_{23} - x_{13} x_{24}}, a_{35} : r_{821}, a_{45} : -\\frac{r_{821} x_{23}}{x_{24}}\\right\\}, \\left\\{d_{1} : r_{822}, d_{2} : r_{823}, d_{3} : \\frac{r_{823}}{x_{23}}, d_{4} : \\frac{r_{822} x_{23}}{x_{14} x_{23} - x_{13} x_{24}}, d_{5} : r_{824}, a_{12} : \\frac{r_{823} x_{13}}{x_{23}}, a_{13} : r_{825}, a_{14} : r_{826}, a_{15} : r_{827}, a_{23} : r_{828}, a_{24} : r_{829}, a_{25} : r_{830}, a_{34} : -\\frac{r_{822} x_{24}}{x_{14} x_{23} - x_{13} x_{24}}, a_{35} : 0, a_{45} : 0\\right\\}\\right]$$"
      ],
      "text/plain": [
       "[{d1: r802,\n",
       "  d2: 0,\n",
       "  d3: 0,\n",
       "  d4: r803,\n",
       "  d5: r804,\n",
       "  a12: r805,\n",
       "  a13: r806,\n",
       "  a14: r807,\n",
       "  a15: r808,\n",
       "  a23: r809,\n",
       "  a24: r810,\n",
       "  a25: r811,\n",
       "  a34: -r803*x24/x23,\n",
       "  a35: r812,\n",
       "  a45: -r812*x23/x24},\n",
       " {d1: r813,\n",
       "  d2: 0,\n",
       "  d3: 0,\n",
       "  d4: r813*x23/(x14*x23 - x13*x24),\n",
       "  d5: r814,\n",
       "  a12: 0,\n",
       "  a13: r815,\n",
       "  a14: r816,\n",
       "  a15: r817,\n",
       "  a23: r818,\n",
       "  a24: r819,\n",
       "  a25: r820,\n",
       "  a34: -r813*x24/(x14*x23 - x13*x24),\n",
       "  a35: r821,\n",
       "  a45: -r821*x23/x24},\n",
       " {d1: r822,\n",
       "  d2: r823,\n",
       "  d3: r823/x23,\n",
       "  d4: r822*x23/(x14*x23 - x13*x24),\n",
       "  d5: r824,\n",
       "  a12: r823*x13/x23,\n",
       "  a13: r825,\n",
       "  a14: r826,\n",
       "  a15: r827,\n",
       "  a23: r828,\n",
       "  a24: r829,\n",
       "  a25: r830,\n",
       "  a34: -r822*x24/(x14*x23 - x13*x24),\n",
       "  a35: 0,\n",
       "  a45: 0}]"
      ]
     },
     "metadata": {},
     "output_type": "display_data"
    },
    {
     "data": {
      "text/plain": [
       "\\left[\\left\\{d_{1} : r_{802}, d_{2} : 0, d_{3} : 0, d_{4} : r_{803}, d_{5} : r_{804}, a_{12} : r_{805}, a_{13} : r_{806}, a_{14} : r_{807}, a_{15} : r_{808}, a_{23} : r_{809}, a_{24} : r_{810}, a_{25} : r_{811}, a_{34} : -\\frac{r_{803} x_{24}}{x_{23}}, a_{35} : r_{812}, a_{45} : -\\frac{r_{812} x_{23}}{x_{24}}\\right\\}, \\left\\{d_{1} : r_{813}, d_{2} : 0, d_{3} : 0, d_{4} : \\frac{r_{813} x_{23}}{x_{14} x_{23} - x_{13} x_{24}}, d_{5} : r_{814}, a_{12} : 0, a_{13} : r_{815}, a_{14} : r_{816}, a_{15} : r_{817}, a_{23} : r_{818}, a_{24} : r_{819}, a_{25} : r_{820}, a_{34} : -\\frac{r_{813} x_{24}}{x_{14} x_{23} - x_{13} x_{24}}, a_{35} : r_{821}, a_{45} : -\\frac{r_{821} x_{23}}{x_{24}}\\right\\}, \\left\\{d_{1} : r_{822}, d_{2} : r_{823}, d_{3} : \\frac{r_{823}}{x_{23}}, d_{4} : \\frac{r_{822} x_{23}}{x_{14} x_{23} - x_{13} x_{24}}, d_{5} : r_{824}, a_{12} : \\frac{r_{823} x_{13}}{x_{23}}, a_{13} : r_{825}, a_{14} : r_{826}, a_{15} : r_{827}, a_{23} : r_{828}, a_{24} : r_{829}, a_{25} : r_{830}, a_{34} : -\\frac{r_{822} x_{24}}{x_{14} x_{23} - x_{13} x_{24}}, a_{35} : 0, a_{45} : 0\\right\\}\\right]"
      ]
     },
     "execution_count": 37,
     "metadata": {},
     "output_type": "execute_result"
    }
   ],
   "source": [
    "#x3\n",
    "#----------------------\n",
    "#x14 \\neq x13*x24/x23\n",
    "#----------------------\n",
    "reset()\n",
    "\n",
    "var('x12,x13,x14,x15,x23,x24,x25,x34,x35,x45')\n",
    "var('d1,d2,d3,d4,d5')\n",
    "var('a12,a13,a14,a15,a23,a24,a25,a34,a35,a45')\n",
    "\n",
    "load_attach_path('C:\\\\Users\\\\julia\\\\Documents\\\\unb\\\\doutorado\\\\pensar\\\\codigo_sage_v2\\\\maquina\\\\x3')\n",
    "load('out_#010110.sage')\n",
    "\n",
    "m=matrix(QQ, [[0, 0, 0, 1, 0],\n",
    "              [0, 0, 1, 0, 0],\n",
    "              [0, 0, 0, 0, 0],\n",
    "              [0, 0, 0, 0, 0],\n",
    "              [0, 0, 0, 0, 0]])\n",
    "        \n",
    "#entry of matrix: (i,j) line i collum j, means (i-1,j-1)\n",
    "sol=solve([ eq1==m[0,2],\teq2==m[0,3],\teq3==m[0,4],\teq4==m[1,2],\t\n",
    "                                            eq5==m[1,3],    eq6==m[1,4],\n",
    "                                                            eq7==m[2,4]],d1,d2,d3,d4,d5,a12,a13,a14,a15,a23,a24,a25,a34,a35,a45, solution_dict=True)\n",
    "\n",
    "show(m)\n",
    "show(sol)\n",
    "latex(sol)"
   ]
  },
  {
   "cell_type": "code",
   "execution_count": 77,
   "metadata": {},
   "outputs": [
    {
     "data": {
      "text/html": [
       "<html><script type=\"math/tex; mode=display\">\\newcommand{\\Bold}[1]{\\mathbf{#1}}\\left(\\begin{array}{rrrrr}\n",
       "0 & 0 & 0 & 0 & 0 \\\\\n",
       "0 & 0 & 1 & 0 & 0 \\\\\n",
       "0 & 0 & 0 & 0 & 0 \\\\\n",
       "0 & 0 & 0 & 0 & 0 \\\\\n",
       "0 & 0 & 0 & 0 & 0\n",
       "\\end{array}\\right)</script></html>"
      ],
      "text/latex": [
       "$$\\newcommand{\\Bold}[1]{\\mathbf{#1}}\\left(\\begin{array}{rrrrr}\n",
       "0 & 0 & 0 & 0 & 0 \\\\\n",
       "0 & 0 & 1 & 0 & 0 \\\\\n",
       "0 & 0 & 0 & 0 & 0 \\\\\n",
       "0 & 0 & 0 & 0 & 0 \\\\\n",
       "0 & 0 & 0 & 0 & 0\n",
       "\\end{array}\\right)$$"
      ],
      "text/plain": [
       "[0 0 0 0 0]\n",
       "[0 0 1 0 0]\n",
       "[0 0 0 0 0]\n",
       "[0 0 0 0 0]\n",
       "[0 0 0 0 0]"
      ]
     },
     "metadata": {},
     "output_type": "display_data"
    },
    {
     "data": {
      "text/html": [
       "<html><script type=\"math/tex; mode=display\">\\newcommand{\\Bold}[1]{\\mathbf{#1}}\\left[\\left\\{d_{1} : r_{1699}, d_{2} : 0, d_{3} : 0, d_{4} : r_{1700}, d_{5} : r_{1701}, a_{12} : r_{1702}, a_{13} : r_{1703}, a_{14} : r_{1704}, a_{15} : r_{1705}, a_{23} : r_{1706}, a_{24} : r_{1707}, a_{25} : r_{1708}, a_{34} : -\\frac{r_{1700} x_{24}}{x_{23}}, a_{35} : r_{1709}, a_{45} : -\\frac{r_{1709} x_{23}}{x_{24}}\\right\\}, \\left\\{d_{1} : r_{1710}, d_{2} : r_{1711}, d_{3} : \\frac{r_{1711}}{x_{23}}, d_{4} : r_{1712}, d_{5} : r_{1713}, a_{12} : \\frac{r_{1711} x_{13}}{x_{23}}, a_{13} : r_{1714}, a_{14} : r_{1715}, a_{15} : r_{1716}, a_{23} : r_{1717}, a_{24} : r_{1718}, a_{25} : r_{1719}, a_{34} : -\\frac{r_{1712} x_{24}}{x_{23}}, a_{35} : r_{1720}, a_{45} : -\\frac{r_{1720} x_{23}}{x_{24}}\\right\\}\\right]</script></html>"
      ],
      "text/latex": [
       "$$\\newcommand{\\Bold}[1]{\\mathbf{#1}}\\left[\\left\\{d_{1} : r_{1699}, d_{2} : 0, d_{3} : 0, d_{4} : r_{1700}, d_{5} : r_{1701}, a_{12} : r_{1702}, a_{13} : r_{1703}, a_{14} : r_{1704}, a_{15} : r_{1705}, a_{23} : r_{1706}, a_{24} : r_{1707}, a_{25} : r_{1708}, a_{34} : -\\frac{r_{1700} x_{24}}{x_{23}}, a_{35} : r_{1709}, a_{45} : -\\frac{r_{1709} x_{23}}{x_{24}}\\right\\}, \\left\\{d_{1} : r_{1710}, d_{2} : r_{1711}, d_{3} : \\frac{r_{1711}}{x_{23}}, d_{4} : r_{1712}, d_{5} : r_{1713}, a_{12} : \\frac{r_{1711} x_{13}}{x_{23}}, a_{13} : r_{1714}, a_{14} : r_{1715}, a_{15} : r_{1716}, a_{23} : r_{1717}, a_{24} : r_{1718}, a_{25} : r_{1719}, a_{34} : -\\frac{r_{1712} x_{24}}{x_{23}}, a_{35} : r_{1720}, a_{45} : -\\frac{r_{1720} x_{23}}{x_{24}}\\right\\}\\right]$$"
      ],
      "text/plain": [
       "[{d1: r1699,\n",
       "  d2: 0,\n",
       "  d3: 0,\n",
       "  d4: r1700,\n",
       "  d5: r1701,\n",
       "  a12: r1702,\n",
       "  a13: r1703,\n",
       "  a14: r1704,\n",
       "  a15: r1705,\n",
       "  a23: r1706,\n",
       "  a24: r1707,\n",
       "  a25: r1708,\n",
       "  a34: -r1700*x24/x23,\n",
       "  a35: r1709,\n",
       "  a45: -r1709*x23/x24},\n",
       " {d1: r1710,\n",
       "  d2: r1711,\n",
       "  d3: r1711/x23,\n",
       "  d4: r1712,\n",
       "  d5: r1713,\n",
       "  a12: r1711*x13/x23,\n",
       "  a13: r1714,\n",
       "  a14: r1715,\n",
       "  a15: r1716,\n",
       "  a23: r1717,\n",
       "  a24: r1718,\n",
       "  a25: r1719,\n",
       "  a34: -r1712*x24/x23,\n",
       "  a35: r1720,\n",
       "  a45: -r1720*x23/x24}]"
      ]
     },
     "metadata": {},
     "output_type": "display_data"
    },
    {
     "data": {
      "text/plain": [
       "\\left[\\left\\{d_{1} : r_{1699}, d_{2} : 0, d_{3} : 0, d_{4} : r_{1700}, d_{5} : r_{1701}, a_{12} : r_{1702}, a_{13} : r_{1703}, a_{14} : r_{1704}, a_{15} : r_{1705}, a_{23} : r_{1706}, a_{24} : r_{1707}, a_{25} : r_{1708}, a_{34} : -\\frac{r_{1700} x_{24}}{x_{23}}, a_{35} : r_{1709}, a_{45} : -\\frac{r_{1709} x_{23}}{x_{24}}\\right\\}, \\left\\{d_{1} : r_{1710}, d_{2} : r_{1711}, d_{3} : \\frac{r_{1711}}{x_{23}}, d_{4} : r_{1712}, d_{5} : r_{1713}, a_{12} : \\frac{r_{1711} x_{13}}{x_{23}}, a_{13} : r_{1714}, a_{14} : r_{1715}, a_{15} : r_{1716}, a_{23} : r_{1717}, a_{24} : r_{1718}, a_{25} : r_{1719}, a_{34} : -\\frac{r_{1712} x_{24}}{x_{23}}, a_{35} : r_{1720}, a_{45} : -\\frac{r_{1720} x_{23}}{x_{24}}\\right\\}\\right]"
      ]
     },
     "execution_count": 77,
     "metadata": {},
     "output_type": "execute_result"
    }
   ],
   "source": [
    "#x3\n",
    "#----------------------\n",
    "#x14 = x13*x24/x23\n",
    "#----------------------\n",
    "reset()\n",
    "\n",
    "var('x12,x13,x14,x15,x23,x24,x25,x34,x35,x45')\n",
    "var('d1,d2,d3,d4,d5')\n",
    "var('a12,a13,a14,a15,a23,a24,a25,a34,a35,a45')\n",
    "\n",
    "#010110\n",
    "eq1=(d2*d3*x13-a12*d3*x23)/(d1*d2) \n",
    "eq2=(a34*d2*x13+d2*d4*((x13*x24)/x23)-a12*a34*x23-a12*d4*x24)/(d1*d2) \n",
    "eq3=(a35*d2*d3*x13+a45*d2*d3*((x13*x24)/x23)+d2*d3*d5*0-a12*a35*d3*x23-a12*a45*d3*x24-a12*d3*d5*0+a12*a23*d5*0-a13*d2*d5*0)/(d1*d2*d3) \n",
    "eq4=(d3*x23)/(d2) \n",
    "eq5=(a34*x23+d4*x24)/(d2) \n",
    "eq6=(a35*d3*x23+a45*d3*x24+d3*d5*0-a23*d5*0)/(d2*d3) \n",
    "eq7=(d5*0)/(d3) \n",
    "\n",
    "\n",
    "m=matrix(QQ, [[0, 0, 0, 0, 0],\n",
    "              [0, 0, 1, 0, 0],\n",
    "              [0, 0, 0, 0, 0],\n",
    "              [0, 0, 0, 0, 0],\n",
    "              [0, 0, 0, 0, 0]])\n",
    "        \n",
    "#entry of matrix: (i,j) line i collum j, means (i-1,j-1)\n",
    "sol=solve([ eq1==m[0,2],\teq2==m[0,3],\teq3==m[0,4],\teq4==m[1,2],\t\n",
    "                                            eq5==m[1,3],    eq6==m[1,4],\n",
    "                                                            eq7==m[2,4]],d1,d2,d3,d4,d5,a12,a13,a14,a15,a23,a24,a25,a34,a35,a45, solution_dict=True)\n",
    "\n",
    "show(m)\n",
    "show(sol)\n",
    "latex(sol)"
   ]
  },
  {
   "cell_type": "code",
   "execution_count": 38,
   "metadata": {},
   "outputs": [
    {
     "data": {
      "text/html": [
       "<html><script type=\"math/tex; mode=display\">\\newcommand{\\Bold}[1]{\\mathbf{#1}}\\left(\\begin{array}{rrrrr}\n",
       "0 & 0 & 0 & 1 & 0 \\\\\n",
       "0 & 0 & 1 & 0 & 0 \\\\\n",
       "0 & 0 & 0 & 0 & 0 \\\\\n",
       "0 & 0 & 0 & 0 & 0 \\\\\n",
       "0 & 0 & 0 & 0 & 0\n",
       "\\end{array}\\right)</script></html>"
      ],
      "text/latex": [
       "$$\\newcommand{\\Bold}[1]{\\mathbf{#1}}\\left(\\begin{array}{rrrrr}\n",
       "0 & 0 & 0 & 1 & 0 \\\\\n",
       "0 & 0 & 1 & 0 & 0 \\\\\n",
       "0 & 0 & 0 & 0 & 0 \\\\\n",
       "0 & 0 & 0 & 0 & 0 \\\\\n",
       "0 & 0 & 0 & 0 & 0\n",
       "\\end{array}\\right)$$"
      ],
      "text/plain": [
       "[0 0 0 1 0]\n",
       "[0 0 1 0 0]\n",
       "[0 0 0 0 0]\n",
       "[0 0 0 0 0]\n",
       "[0 0 0 0 0]"
      ]
     },
     "metadata": {},
     "output_type": "display_data"
    },
    {
     "data": {
      "text/html": [
       "<html><script type=\"math/tex; mode=display\">\\newcommand{\\Bold}[1]{\\mathbf{#1}}\\left[\\left\\{d_{1} : r_{831}, d_{2} : 0, d_{3} : 0, d_{4} : r_{832}, d_{5} : r_{833}, a_{12} : r_{834}, a_{13} : r_{835}, a_{14} : r_{836}, a_{15} : r_{837}, a_{23} : r_{838}, a_{24} : r_{839}, a_{25} : r_{840}, a_{34} : -\\frac{r_{832} x_{24}}{x_{23}}, a_{35} : r_{841}, a_{45} : -\\frac{r_{841} x_{23}}{x_{24}}\\right\\}, \\left\\{d_{1} : r_{842}, d_{2} : r_{843}, d_{3} : \\frac{r_{843}}{x_{23}}, d_{4} : \\frac{r_{842} x_{23}}{x_{14} x_{23} - x_{13} x_{24}}, d_{5} : r_{844}, a_{12} : \\frac{r_{843} x_{13}}{x_{23}}, a_{13} : r_{845}, a_{14} : r_{846}, a_{15} : r_{847}, a_{23} : r_{848}, a_{24} : r_{849}, a_{25} : r_{850}, a_{34} : -\\frac{r_{842} x_{24}}{x_{14} x_{23} - x_{13} x_{24}}, a_{35} : \\frac{r_{844} x_{15} x_{24}}{x_{14} x_{23} - x_{13} x_{24}}, a_{45} : -\\frac{r_{844} x_{15} x_{23}}{x_{14} x_{23} - x_{13} x_{24}}\\right\\}, \\left\\{d_{1} : r_{851}, d_{2} : 0, d_{3} : 0, d_{4} : \\frac{r_{851} x_{23}}{x_{14} x_{23} - x_{13} x_{24}}, d_{5} : r_{852}, a_{12} : 0, a_{13} : r_{853}, a_{14} : r_{854}, a_{15} : r_{855}, a_{23} : r_{856}, a_{24} : r_{857}, a_{25} : r_{858}, a_{34} : -\\frac{r_{851} x_{24}}{x_{14} x_{23} - x_{13} x_{24}}, a_{35} : r_{859}, a_{45} : -\\frac{r_{859} x_{23}}{x_{24}}\\right\\}\\right]</script></html>"
      ],
      "text/latex": [
       "$$\\newcommand{\\Bold}[1]{\\mathbf{#1}}\\left[\\left\\{d_{1} : r_{831}, d_{2} : 0, d_{3} : 0, d_{4} : r_{832}, d_{5} : r_{833}, a_{12} : r_{834}, a_{13} : r_{835}, a_{14} : r_{836}, a_{15} : r_{837}, a_{23} : r_{838}, a_{24} : r_{839}, a_{25} : r_{840}, a_{34} : -\\frac{r_{832} x_{24}}{x_{23}}, a_{35} : r_{841}, a_{45} : -\\frac{r_{841} x_{23}}{x_{24}}\\right\\}, \\left\\{d_{1} : r_{842}, d_{2} : r_{843}, d_{3} : \\frac{r_{843}}{x_{23}}, d_{4} : \\frac{r_{842} x_{23}}{x_{14} x_{23} - x_{13} x_{24}}, d_{5} : r_{844}, a_{12} : \\frac{r_{843} x_{13}}{x_{23}}, a_{13} : r_{845}, a_{14} : r_{846}, a_{15} : r_{847}, a_{23} : r_{848}, a_{24} : r_{849}, a_{25} : r_{850}, a_{34} : -\\frac{r_{842} x_{24}}{x_{14} x_{23} - x_{13} x_{24}}, a_{35} : \\frac{r_{844} x_{15} x_{24}}{x_{14} x_{23} - x_{13} x_{24}}, a_{45} : -\\frac{r_{844} x_{15} x_{23}}{x_{14} x_{23} - x_{13} x_{24}}\\right\\}, \\left\\{d_{1} : r_{851}, d_{2} : 0, d_{3} : 0, d_{4} : \\frac{r_{851} x_{23}}{x_{14} x_{23} - x_{13} x_{24}}, d_{5} : r_{852}, a_{12} : 0, a_{13} : r_{853}, a_{14} : r_{854}, a_{15} : r_{855}, a_{23} : r_{856}, a_{24} : r_{857}, a_{25} : r_{858}, a_{34} : -\\frac{r_{851} x_{24}}{x_{14} x_{23} - x_{13} x_{24}}, a_{35} : r_{859}, a_{45} : -\\frac{r_{859} x_{23}}{x_{24}}\\right\\}\\right]$$"
      ],
      "text/plain": [
       "[{d1: r831,\n",
       "  d2: 0,\n",
       "  d3: 0,\n",
       "  d4: r832,\n",
       "  d5: r833,\n",
       "  a12: r834,\n",
       "  a13: r835,\n",
       "  a14: r836,\n",
       "  a15: r837,\n",
       "  a23: r838,\n",
       "  a24: r839,\n",
       "  a25: r840,\n",
       "  a34: -r832*x24/x23,\n",
       "  a35: r841,\n",
       "  a45: -r841*x23/x24},\n",
       " {d1: r842,\n",
       "  d2: r843,\n",
       "  d3: r843/x23,\n",
       "  d4: r842*x23/(x14*x23 - x13*x24),\n",
       "  d5: r844,\n",
       "  a12: r843*x13/x23,\n",
       "  a13: r845,\n",
       "  a14: r846,\n",
       "  a15: r847,\n",
       "  a23: r848,\n",
       "  a24: r849,\n",
       "  a25: r850,\n",
       "  a34: -r842*x24/(x14*x23 - x13*x24),\n",
       "  a35: r844*x15*x24/(x14*x23 - x13*x24),\n",
       "  a45: -r844*x15*x23/(x14*x23 - x13*x24)},\n",
       " {d1: r851,\n",
       "  d2: 0,\n",
       "  d3: 0,\n",
       "  d4: r851*x23/(x14*x23 - x13*x24),\n",
       "  d5: r852,\n",
       "  a12: 0,\n",
       "  a13: r853,\n",
       "  a14: r854,\n",
       "  a15: r855,\n",
       "  a23: r856,\n",
       "  a24: r857,\n",
       "  a25: r858,\n",
       "  a34: -r851*x24/(x14*x23 - x13*x24),\n",
       "  a35: r859,\n",
       "  a45: -r859*x23/x24}]"
      ]
     },
     "metadata": {},
     "output_type": "display_data"
    },
    {
     "data": {
      "text/plain": [
       "\\left[\\left\\{d_{1} : r_{831}, d_{2} : 0, d_{3} : 0, d_{4} : r_{832}, d_{5} : r_{833}, a_{12} : r_{834}, a_{13} : r_{835}, a_{14} : r_{836}, a_{15} : r_{837}, a_{23} : r_{838}, a_{24} : r_{839}, a_{25} : r_{840}, a_{34} : -\\frac{r_{832} x_{24}}{x_{23}}, a_{35} : r_{841}, a_{45} : -\\frac{r_{841} x_{23}}{x_{24}}\\right\\}, \\left\\{d_{1} : r_{842}, d_{2} : r_{843}, d_{3} : \\frac{r_{843}}{x_{23}}, d_{4} : \\frac{r_{842} x_{23}}{x_{14} x_{23} - x_{13} x_{24}}, d_{5} : r_{844}, a_{12} : \\frac{r_{843} x_{13}}{x_{23}}, a_{13} : r_{845}, a_{14} : r_{846}, a_{15} : r_{847}, a_{23} : r_{848}, a_{24} : r_{849}, a_{25} : r_{850}, a_{34} : -\\frac{r_{842} x_{24}}{x_{14} x_{23} - x_{13} x_{24}}, a_{35} : \\frac{r_{844} x_{15} x_{24}}{x_{14} x_{23} - x_{13} x_{24}}, a_{45} : -\\frac{r_{844} x_{15} x_{23}}{x_{14} x_{23} - x_{13} x_{24}}\\right\\}, \\left\\{d_{1} : r_{851}, d_{2} : 0, d_{3} : 0, d_{4} : \\frac{r_{851} x_{23}}{x_{14} x_{23} - x_{13} x_{24}}, d_{5} : r_{852}, a_{12} : 0, a_{13} : r_{853}, a_{14} : r_{854}, a_{15} : r_{855}, a_{23} : r_{856}, a_{24} : r_{857}, a_{25} : r_{858}, a_{34} : -\\frac{r_{851} x_{24}}{x_{14} x_{23} - x_{13} x_{24}}, a_{35} : r_{859}, a_{45} : -\\frac{r_{859} x_{23}}{x_{24}}\\right\\}\\right]"
      ]
     },
     "execution_count": 38,
     "metadata": {},
     "output_type": "execute_result"
    }
   ],
   "source": [
    "#x3\n",
    "#----------------------\n",
    "#x14 \\neq x13*x24/x23\n",
    "#----------------------\n",
    "reset()\n",
    "\n",
    "var('x12,x13,x14,x15,x23,x24,x25,x34,x35,x45')\n",
    "var('d1,d2,d3,d4,d5')\n",
    "var('a12,a13,a14,a15,a23,a24,a25,a34,a35,a45')\n",
    "\n",
    "load_attach_path('C:\\\\Users\\\\julia\\\\Documents\\\\unb\\\\doutorado\\\\pensar\\\\codigo_sage_v2\\\\maquina\\\\x3')\n",
    "load('out_#010111.sage')\n",
    "\n",
    "m=matrix(QQ, [[0, 0, 0, 1, 0],\n",
    "              [0, 0, 1, 0, 0],\n",
    "              [0, 0, 0, 0, 0],\n",
    "              [0, 0, 0, 0, 0],\n",
    "              [0, 0, 0, 0, 0]])\n",
    "        \n",
    "#entry of matrix: (i,j) line i collum j, means (i-1,j-1)\n",
    "sol=solve([ eq1==m[0,2],\teq2==m[0,3],\teq3==m[0,4],\teq4==m[1,2],\t\n",
    "                                            eq5==m[1,3],    eq6==m[1,4],\n",
    "                                                            eq7==m[2,4]],d1,d2,d3,d4,d5,a12,a13,a14,a15,a23,a24,a25,a34,a35,a45, solution_dict=True)\n",
    "\n",
    "show(m)\n",
    "show(sol)\n",
    "latex(sol)"
   ]
  },
  {
   "cell_type": "code",
   "execution_count": 4,
   "metadata": {},
   "outputs": [
    {
     "data": {
      "text/html": [
       "<html><script type=\"math/tex; mode=display\">\\newcommand{\\Bold}[1]{\\mathbf{#1}}\\left(\\begin{array}{rrrrr}\n",
       "0 & 0 & 0 & 0 & 1 \\\\\n",
       "0 & 0 & 1 & 0 & 0 \\\\\n",
       "0 & 0 & 0 & 0 & 0 \\\\\n",
       "0 & 0 & 0 & 0 & 0 \\\\\n",
       "0 & 0 & 0 & 0 & 0\n",
       "\\end{array}\\right)</script></html>"
      ],
      "text/latex": [
       "$$\\newcommand{\\Bold}[1]{\\mathbf{#1}}\\left(\\begin{array}{rrrrr}\n",
       "0 & 0 & 0 & 0 & 1 \\\\\n",
       "0 & 0 & 1 & 0 & 0 \\\\\n",
       "0 & 0 & 0 & 0 & 0 \\\\\n",
       "0 & 0 & 0 & 0 & 0 \\\\\n",
       "0 & 0 & 0 & 0 & 0\n",
       "\\end{array}\\right)$$"
      ],
      "text/plain": [
       "[0 0 0 0 1]\n",
       "[0 0 1 0 0]\n",
       "[0 0 0 0 0]\n",
       "[0 0 0 0 0]\n",
       "[0 0 0 0 0]"
      ]
     },
     "metadata": {},
     "output_type": "display_data"
    },
    {
     "data": {
      "text/html": [
       "<html><script type=\"math/tex; mode=display\">\\newcommand{\\Bold}[1]{\\mathbf{#1}}\\left[\\left\\{d_{1} : r_{64}, d_{2} : 0, d_{3} : 0, d_{4} : r_{65}, d_{5} : r_{66}, a_{12} : r_{67}, a_{13} : r_{68}, a_{14} : r_{69}, a_{15} : r_{70}, a_{23} : r_{71}, a_{24} : r_{72}, a_{25} : r_{73}, a_{34} : -\\frac{r_{65} x_{24}}{x_{23}}, a_{35} : r_{74}, a_{45} : -\\frac{r_{74} x_{23}}{x_{24}}\\right\\}, \\left\\{d_{1} : r_{75}, d_{2} : r_{76}, d_{3} : \\frac{r_{76}}{x_{23}}, d_{4} : r_{77}, d_{5} : \\frac{r_{75}}{x_{15}}, a_{12} : \\frac{r_{76} x_{13}}{x_{23}}, a_{13} : r_{78}, a_{14} : r_{79}, a_{15} : r_{80}, a_{23} : r_{81}, a_{24} : r_{82}, a_{25} : r_{83}, a_{34} : -\\frac{r_{77} x_{24}}{x_{23}}, a_{35} : r_{84}, a_{45} : -\\frac{r_{84} x_{23}}{x_{24}}\\right\\}\\right]</script></html>"
      ],
      "text/latex": [
       "$$\\newcommand{\\Bold}[1]{\\mathbf{#1}}\\left[\\left\\{d_{1} : r_{64}, d_{2} : 0, d_{3} : 0, d_{4} : r_{65}, d_{5} : r_{66}, a_{12} : r_{67}, a_{13} : r_{68}, a_{14} : r_{69}, a_{15} : r_{70}, a_{23} : r_{71}, a_{24} : r_{72}, a_{25} : r_{73}, a_{34} : -\\frac{r_{65} x_{24}}{x_{23}}, a_{35} : r_{74}, a_{45} : -\\frac{r_{74} x_{23}}{x_{24}}\\right\\}, \\left\\{d_{1} : r_{75}, d_{2} : r_{76}, d_{3} : \\frac{r_{76}}{x_{23}}, d_{4} : r_{77}, d_{5} : \\frac{r_{75}}{x_{15}}, a_{12} : \\frac{r_{76} x_{13}}{x_{23}}, a_{13} : r_{78}, a_{14} : r_{79}, a_{15} : r_{80}, a_{23} : r_{81}, a_{24} : r_{82}, a_{25} : r_{83}, a_{34} : -\\frac{r_{77} x_{24}}{x_{23}}, a_{35} : r_{84}, a_{45} : -\\frac{r_{84} x_{23}}{x_{24}}\\right\\}\\right]$$"
      ],
      "text/plain": [
       "[{d1: r64,\n",
       "  d2: 0,\n",
       "  d3: 0,\n",
       "  d4: r65,\n",
       "  d5: r66,\n",
       "  a12: r67,\n",
       "  a13: r68,\n",
       "  a14: r69,\n",
       "  a15: r70,\n",
       "  a23: r71,\n",
       "  a24: r72,\n",
       "  a25: r73,\n",
       "  a34: -r65*x24/x23,\n",
       "  a35: r74,\n",
       "  a45: -r74*x23/x24},\n",
       " {d1: r75,\n",
       "  d2: r76,\n",
       "  d3: r76/x23,\n",
       "  d4: r77,\n",
       "  d5: r75/x15,\n",
       "  a12: r76*x13/x23,\n",
       "  a13: r78,\n",
       "  a14: r79,\n",
       "  a15: r80,\n",
       "  a23: r81,\n",
       "  a24: r82,\n",
       "  a25: r83,\n",
       "  a34: -r77*x24/x23,\n",
       "  a35: r84,\n",
       "  a45: -r84*x23/x24}]"
      ]
     },
     "metadata": {},
     "output_type": "display_data"
    },
    {
     "data": {
      "text/plain": [
       "\\left[\\left\\{d_{1} : r_{64}, d_{2} : 0, d_{3} : 0, d_{4} : r_{65}, d_{5} : r_{66}, a_{12} : r_{67}, a_{13} : r_{68}, a_{14} : r_{69}, a_{15} : r_{70}, a_{23} : r_{71}, a_{24} : r_{72}, a_{25} : r_{73}, a_{34} : -\\frac{r_{65} x_{24}}{x_{23}}, a_{35} : r_{74}, a_{45} : -\\frac{r_{74} x_{23}}{x_{24}}\\right\\}, \\left\\{d_{1} : r_{75}, d_{2} : r_{76}, d_{3} : \\frac{r_{76}}{x_{23}}, d_{4} : r_{77}, d_{5} : \\frac{r_{75}}{x_{15}}, a_{12} : \\frac{r_{76} x_{13}}{x_{23}}, a_{13} : r_{78}, a_{14} : r_{79}, a_{15} : r_{80}, a_{23} : r_{81}, a_{24} : r_{82}, a_{25} : r_{83}, a_{34} : -\\frac{r_{77} x_{24}}{x_{23}}, a_{35} : r_{84}, a_{45} : -\\frac{r_{84} x_{23}}{x_{24}}\\right\\}\\right]"
      ]
     },
     "execution_count": 4,
     "metadata": {},
     "output_type": "execute_result"
    }
   ],
   "source": [
    "#x3\n",
    "#----------------------\n",
    "#x14 = x13*x24/x23\n",
    "#----------------------\n",
    "reset()\n",
    "\n",
    "var('x12,x13,x14,x15,x23,x24,x25,x34,x35,x45')\n",
    "var('d1,d2,d3,d4,d5')\n",
    "var('a12,a13,a14,a15,a23,a24,a25,a34,a35,a45')\n",
    "\n",
    "#010111\n",
    "eq1=(d2*d3*x13-a12*d3*x23)/(d1*d2) \n",
    "eq2=(a34*d2*x13+d2*d4*((x13*x24)/x23)-a12*a34*x23-a12*d4*x24)/(d1*d2) \n",
    "eq3=(a35*d2*d3*x13+a45*d2*d3*((x13*x24)/x23)+d2*d3*d5*x15-a12*a35*d3*x23-a12*a45*d3*x24-a12*d3*d5*0+a12*a23*d5*0-a13*d2*d5*0)/(d1*d2*d3) \n",
    "eq4=(d3*x23)/(d2) \n",
    "eq5=(a34*x23+d4*x24)/(d2) \n",
    "eq6=(a35*d3*x23+a45*d3*x24+d3*d5*0-a23*d5*0)/(d2*d3) \n",
    "eq7=(d5*0)/(d3) \n",
    "\n",
    "m=matrix(QQ, [[0, 0, 0, 0, 1],\n",
    "              [0, 0, 1, 0, 0],\n",
    "              [0, 0, 0, 0, 0],\n",
    "              [0, 0, 0, 0, 0],\n",
    "              [0, 0, 0, 0, 0]])\n",
    "        \n",
    "#entry of matrix: (i,j) line i collum j, means (i-1,j-1)\n",
    "sol=solve([ eq1==m[0,2],\teq2==m[0,3],\teq3==m[0,4],\teq4==m[1,2],\t\n",
    "                                            eq5==m[1,3],    eq6==m[1,4],\n",
    "                                                            eq7==m[2,4]],d1,d2,d3,d4,d5,a12,a13,a14,a15,a23,a24,a25,a34,a35,a45, solution_dict=True)\n",
    "\n",
    "show(m)\n",
    "show(sol)\n",
    "latex(sol)"
   ]
  },
  {
   "cell_type": "code",
   "execution_count": 28,
   "metadata": {},
   "outputs": [
    {
     "data": {
      "text/html": [
       "<html><script type=\"math/tex; mode=display\">\\newcommand{\\Bold}[1]{\\mathbf{#1}}\\left(\\begin{array}{rrrrr}\n",
       "0 & 0 & 0 & 0 & 0 \\\\\n",
       "0 & 0 & 1 & 0 & 0 \\\\\n",
       "0 & 0 & 0 & 0 & 0 \\\\\n",
       "0 & 0 & 0 & 0 & 0 \\\\\n",
       "0 & 0 & 0 & 0 & 0\n",
       "\\end{array}\\right)</script></html>"
      ],
      "text/latex": [
       "$$\\newcommand{\\Bold}[1]{\\mathbf{#1}}\\left(\\begin{array}{rrrrr}\n",
       "0 & 0 & 0 & 0 & 0 \\\\\n",
       "0 & 0 & 1 & 0 & 0 \\\\\n",
       "0 & 0 & 0 & 0 & 0 \\\\\n",
       "0 & 0 & 0 & 0 & 0 \\\\\n",
       "0 & 0 & 0 & 0 & 0\n",
       "\\end{array}\\right)$$"
      ],
      "text/plain": [
       "[0 0 0 0 0]\n",
       "[0 0 1 0 0]\n",
       "[0 0 0 0 0]\n",
       "[0 0 0 0 0]\n",
       "[0 0 0 0 0]"
      ]
     },
     "metadata": {},
     "output_type": "display_data"
    },
    {
     "data": {
      "text/html": [
       "<html><script type=\"math/tex; mode=display\">\\newcommand{\\Bold}[1]{\\mathbf{#1}}\\left[\\left\\{d_{1} : r_{585}, d_{2} : r_{586}, d_{3} : \\frac{r_{586}}{x_{23}}, d_{4} : r_{587}, d_{5} : r_{588}, a_{12} : 0, a_{13} : r_{589}, a_{14} : r_{590}, a_{15} : r_{591}, a_{23} : r_{592}, a_{24} : r_{593}, a_{25} : r_{594}, a_{34} : -\\frac{r_{587} x_{24}}{x_{23}}, a_{35} : r_{595}, a_{45} : -\\frac{r_{595} x_{23} + r_{588} x_{25}}{x_{24}}\\right\\}, \\left\\{d_{1} : r_{596}, d_{2} : 0, d_{3} : 0, d_{4} : r_{597}, d_{5} : r_{598}, a_{12} : r_{599}, a_{13} : r_{600}, a_{14} : r_{601}, a_{15} : r_{602}, a_{23} : r_{603}, a_{24} : r_{604}, a_{25} : r_{605}, a_{34} : -\\frac{r_{597} x_{24}}{x_{23}}, a_{35} : r_{606}, a_{45} : -\\frac{r_{606} x_{23} + r_{598} x_{25}}{x_{24}}\\right\\}\\right]</script></html>"
      ],
      "text/latex": [
       "$$\\newcommand{\\Bold}[1]{\\mathbf{#1}}\\left[\\left\\{d_{1} : r_{585}, d_{2} : r_{586}, d_{3} : \\frac{r_{586}}{x_{23}}, d_{4} : r_{587}, d_{5} : r_{588}, a_{12} : 0, a_{13} : r_{589}, a_{14} : r_{590}, a_{15} : r_{591}, a_{23} : r_{592}, a_{24} : r_{593}, a_{25} : r_{594}, a_{34} : -\\frac{r_{587} x_{24}}{x_{23}}, a_{35} : r_{595}, a_{45} : -\\frac{r_{595} x_{23} + r_{588} x_{25}}{x_{24}}\\right\\}, \\left\\{d_{1} : r_{596}, d_{2} : 0, d_{3} : 0, d_{4} : r_{597}, d_{5} : r_{598}, a_{12} : r_{599}, a_{13} : r_{600}, a_{14} : r_{601}, a_{15} : r_{602}, a_{23} : r_{603}, a_{24} : r_{604}, a_{25} : r_{605}, a_{34} : -\\frac{r_{597} x_{24}}{x_{23}}, a_{35} : r_{606}, a_{45} : -\\frac{r_{606} x_{23} + r_{598} x_{25}}{x_{24}}\\right\\}\\right]$$"
      ],
      "text/plain": [
       "[{d1: r585,\n",
       "  d2: r586,\n",
       "  d3: r586/x23,\n",
       "  d4: r587,\n",
       "  d5: r588,\n",
       "  a12: 0,\n",
       "  a13: r589,\n",
       "  a14: r590,\n",
       "  a15: r591,\n",
       "  a23: r592,\n",
       "  a24: r593,\n",
       "  a25: r594,\n",
       "  a34: -r587*x24/x23,\n",
       "  a35: r595,\n",
       "  a45: -(r595*x23 + r588*x25)/x24},\n",
       " {d1: r596,\n",
       "  d2: 0,\n",
       "  d3: 0,\n",
       "  d4: r597,\n",
       "  d5: r598,\n",
       "  a12: r599,\n",
       "  a13: r600,\n",
       "  a14: r601,\n",
       "  a15: r602,\n",
       "  a23: r603,\n",
       "  a24: r604,\n",
       "  a25: r605,\n",
       "  a34: -r597*x24/x23,\n",
       "  a35: r606,\n",
       "  a45: -(r606*x23 + r598*x25)/x24}]"
      ]
     },
     "metadata": {},
     "output_type": "display_data"
    },
    {
     "data": {
      "text/plain": [
       "\\left[\\left\\{d_{1} : r_{585}, d_{2} : r_{586}, d_{3} : \\frac{r_{586}}{x_{23}}, d_{4} : r_{587}, d_{5} : r_{588}, a_{12} : 0, a_{13} : r_{589}, a_{14} : r_{590}, a_{15} : r_{591}, a_{23} : r_{592}, a_{24} : r_{593}, a_{25} : r_{594}, a_{34} : -\\frac{r_{587} x_{24}}{x_{23}}, a_{35} : r_{595}, a_{45} : -\\frac{r_{595} x_{23} + r_{588} x_{25}}{x_{24}}\\right\\}, \\left\\{d_{1} : r_{596}, d_{2} : 0, d_{3} : 0, d_{4} : r_{597}, d_{5} : r_{598}, a_{12} : r_{599}, a_{13} : r_{600}, a_{14} : r_{601}, a_{15} : r_{602}, a_{23} : r_{603}, a_{24} : r_{604}, a_{25} : r_{605}, a_{34} : -\\frac{r_{597} x_{24}}{x_{23}}, a_{35} : r_{606}, a_{45} : -\\frac{r_{606} x_{23} + r_{598} x_{25}}{x_{24}}\\right\\}\\right]"
      ]
     },
     "execution_count": 28,
     "metadata": {},
     "output_type": "execute_result"
    }
   ],
   "source": [
    "#x3\n",
    "reset()\n",
    "\n",
    "var('x12,x13,x14,x15,x23,x24,x25,x34,x35,x45')\n",
    "var('d1,d2,d3,d4,d5')\n",
    "var('a12,a13,a14,a15,a23,a24,a25,a34,a35,a45')\n",
    "\n",
    "load_attach_path('C:\\\\Users\\\\julia\\\\Documents\\\\unb\\\\doutorado\\\\pensar\\\\codigo_sage_v2\\\\maquina\\\\x3')\n",
    "load('out_#011000.sage')\n",
    "\n",
    "m=matrix(QQ, [[0, 0, 0, 0, 0],\n",
    "              [0, 0, 1, 0, 0],\n",
    "              [0, 0, 0, 0, 0],\n",
    "              [0, 0, 0, 0, 0],\n",
    "              [0, 0, 0, 0, 0]])\n",
    "        \n",
    "#entry of matrix: (i,j) line i collum j, means (i-1,j-1)\n",
    "sol=solve([ eq1==m[0,2],\teq2==m[0,3],\teq3==m[0,4],\teq4==m[1,2],\t\n",
    "                                            eq5==m[1,3],    eq6==m[1,4],\n",
    "                                                            eq7==m[2,4]],d1,d2,d3,d4,d5,a12,a13,a14,a15,a23,a24,a25,a34,a35,a45, solution_dict=True)\n",
    "\n",
    "show(m)\n",
    "show(sol)\n",
    "latex(sol)"
   ]
  },
  {
   "cell_type": "code",
   "execution_count": 40,
   "metadata": {},
   "outputs": [
    {
     "data": {
      "text/html": [
       "<html><script type=\"math/tex; mode=display\">\\newcommand{\\Bold}[1]{\\mathbf{#1}}\\left(\\begin{array}{rrrrr}\n",
       "0 & 0 & 0 & 0 & 1 \\\\\n",
       "0 & 0 & 1 & 0 & 0 \\\\\n",
       "0 & 0 & 0 & 0 & 0 \\\\\n",
       "0 & 0 & 0 & 0 & 0 \\\\\n",
       "0 & 0 & 0 & 0 & 0\n",
       "\\end{array}\\right)</script></html>"
      ],
      "text/latex": [
       "$$\\newcommand{\\Bold}[1]{\\mathbf{#1}}\\left(\\begin{array}{rrrrr}\n",
       "0 & 0 & 0 & 0 & 1 \\\\\n",
       "0 & 0 & 1 & 0 & 0 \\\\\n",
       "0 & 0 & 0 & 0 & 0 \\\\\n",
       "0 & 0 & 0 & 0 & 0 \\\\\n",
       "0 & 0 & 0 & 0 & 0\n",
       "\\end{array}\\right)$$"
      ],
      "text/plain": [
       "[0 0 0 0 1]\n",
       "[0 0 1 0 0]\n",
       "[0 0 0 0 0]\n",
       "[0 0 0 0 0]\n",
       "[0 0 0 0 0]"
      ]
     },
     "metadata": {},
     "output_type": "display_data"
    },
    {
     "data": {
      "text/html": [
       "<html><script type=\"math/tex; mode=display\">\\newcommand{\\Bold}[1]{\\mathbf{#1}}\\left[\\left\\{d_{1} : r_{881}, d_{2} : 0, d_{3} : 0, d_{4} : r_{882}, d_{5} : r_{883}, a_{12} : r_{884}, a_{13} : r_{885}, a_{14} : r_{886}, a_{15} : r_{887}, a_{23} : r_{888}, a_{24} : r_{889}, a_{25} : r_{890}, a_{34} : -\\frac{r_{882} x_{24}}{x_{23}}, a_{35} : r_{891}, a_{45} : -\\frac{r_{891} x_{23} + r_{883} x_{25}}{x_{24}}\\right\\}, \\left\\{d_{1} : r_{892}, d_{2} : r_{893}, d_{3} : \\frac{r_{893}}{x_{23}}, d_{4} : r_{894}, d_{5} : \\frac{r_{892}}{x_{15}}, a_{12} : 0, a_{13} : r_{895}, a_{14} : r_{896}, a_{15} : r_{897}, a_{23} : r_{898}, a_{24} : r_{899}, a_{25} : r_{900}, a_{34} : -\\frac{r_{894} x_{24}}{x_{23}}, a_{35} : r_{901}, a_{45} : -\\frac{r_{901} x_{15} x_{23} + r_{892} x_{25}}{x_{15} x_{24}}\\right\\}\\right]</script></html>"
      ],
      "text/latex": [
       "$$\\newcommand{\\Bold}[1]{\\mathbf{#1}}\\left[\\left\\{d_{1} : r_{881}, d_{2} : 0, d_{3} : 0, d_{4} : r_{882}, d_{5} : r_{883}, a_{12} : r_{884}, a_{13} : r_{885}, a_{14} : r_{886}, a_{15} : r_{887}, a_{23} : r_{888}, a_{24} : r_{889}, a_{25} : r_{890}, a_{34} : -\\frac{r_{882} x_{24}}{x_{23}}, a_{35} : r_{891}, a_{45} : -\\frac{r_{891} x_{23} + r_{883} x_{25}}{x_{24}}\\right\\}, \\left\\{d_{1} : r_{892}, d_{2} : r_{893}, d_{3} : \\frac{r_{893}}{x_{23}}, d_{4} : r_{894}, d_{5} : \\frac{r_{892}}{x_{15}}, a_{12} : 0, a_{13} : r_{895}, a_{14} : r_{896}, a_{15} : r_{897}, a_{23} : r_{898}, a_{24} : r_{899}, a_{25} : r_{900}, a_{34} : -\\frac{r_{894} x_{24}}{x_{23}}, a_{35} : r_{901}, a_{45} : -\\frac{r_{901} x_{15} x_{23} + r_{892} x_{25}}{x_{15} x_{24}}\\right\\}\\right]$$"
      ],
      "text/plain": [
       "[{d1: r881,\n",
       "  d2: 0,\n",
       "  d3: 0,\n",
       "  d4: r882,\n",
       "  d5: r883,\n",
       "  a12: r884,\n",
       "  a13: r885,\n",
       "  a14: r886,\n",
       "  a15: r887,\n",
       "  a23: r888,\n",
       "  a24: r889,\n",
       "  a25: r890,\n",
       "  a34: -r882*x24/x23,\n",
       "  a35: r891,\n",
       "  a45: -(r891*x23 + r883*x25)/x24},\n",
       " {d1: r892,\n",
       "  d2: r893,\n",
       "  d3: r893/x23,\n",
       "  d4: r894,\n",
       "  d5: r892/x15,\n",
       "  a12: 0,\n",
       "  a13: r895,\n",
       "  a14: r896,\n",
       "  a15: r897,\n",
       "  a23: r898,\n",
       "  a24: r899,\n",
       "  a25: r900,\n",
       "  a34: -r894*x24/x23,\n",
       "  a35: r901,\n",
       "  a45: -(r901*x15*x23 + r892*x25)/(x15*x24)}]"
      ]
     },
     "metadata": {},
     "output_type": "display_data"
    },
    {
     "data": {
      "text/plain": [
       "\\left[\\left\\{d_{1} : r_{881}, d_{2} : 0, d_{3} : 0, d_{4} : r_{882}, d_{5} : r_{883}, a_{12} : r_{884}, a_{13} : r_{885}, a_{14} : r_{886}, a_{15} : r_{887}, a_{23} : r_{888}, a_{24} : r_{889}, a_{25} : r_{890}, a_{34} : -\\frac{r_{882} x_{24}}{x_{23}}, a_{35} : r_{891}, a_{45} : -\\frac{r_{891} x_{23} + r_{883} x_{25}}{x_{24}}\\right\\}, \\left\\{d_{1} : r_{892}, d_{2} : r_{893}, d_{3} : \\frac{r_{893}}{x_{23}}, d_{4} : r_{894}, d_{5} : \\frac{r_{892}}{x_{15}}, a_{12} : 0, a_{13} : r_{895}, a_{14} : r_{896}, a_{15} : r_{897}, a_{23} : r_{898}, a_{24} : r_{899}, a_{25} : r_{900}, a_{34} : -\\frac{r_{894} x_{24}}{x_{23}}, a_{35} : r_{901}, a_{45} : -\\frac{r_{901} x_{15} x_{23} + r_{892} x_{25}}{x_{15} x_{24}}\\right\\}\\right]"
      ]
     },
     "execution_count": 40,
     "metadata": {},
     "output_type": "execute_result"
    }
   ],
   "source": [
    "#x3\n",
    "reset()\n",
    "\n",
    "var('x12,x13,x14,x15,x23,x24,x25,x34,x35,x45')\n",
    "var('d1,d2,d3,d4,d5')\n",
    "var('a12,a13,a14,a15,a23,a24,a25,a34,a35,a45')\n",
    "\n",
    "load_attach_path('C:\\\\Users\\\\julia\\\\Documents\\\\unb\\\\doutorado\\\\pensar\\\\codigo_sage_v2\\\\maquina\\\\x3')\n",
    "load('out_#011001.sage')\n",
    "\n",
    "m=matrix(QQ, [[0, 0, 0, 0, 1],\n",
    "              [0, 0, 1, 0, 0],\n",
    "              [0, 0, 0, 0, 0],\n",
    "              [0, 0, 0, 0, 0],\n",
    "              [0, 0, 0, 0, 0]])\n",
    "        \n",
    "#entry of matrix: (i,j) line i collum j, means (i-1,j-1)\n",
    "sol=solve([ eq1==m[0,2],\teq2==m[0,3],\teq3==m[0,4],\teq4==m[1,2],\t\n",
    "                                            eq5==m[1,3],    eq6==m[1,4],\n",
    "                                                            eq7==m[2,4]],d1,d2,d3,d4,d5,a12,a13,a14,a15,a23,a24,a25,a34,a35,a45, solution_dict=True)\n",
    "\n",
    "show(m)\n",
    "show(sol)\n",
    "latex(sol)"
   ]
  },
  {
   "cell_type": "code",
   "execution_count": 41,
   "metadata": {},
   "outputs": [
    {
     "data": {
      "text/html": [
       "<html><script type=\"math/tex; mode=display\">\\newcommand{\\Bold}[1]{\\mathbf{#1}}\\left(\\begin{array}{rrrrr}\n",
       "0 & 0 & 0 & 1 & 0 \\\\\n",
       "0 & 0 & 1 & 0 & 0 \\\\\n",
       "0 & 0 & 0 & 0 & 0 \\\\\n",
       "0 & 0 & 0 & 0 & 0 \\\\\n",
       "0 & 0 & 0 & 0 & 0\n",
       "\\end{array}\\right)</script></html>"
      ],
      "text/latex": [
       "$$\\newcommand{\\Bold}[1]{\\mathbf{#1}}\\left(\\begin{array}{rrrrr}\n",
       "0 & 0 & 0 & 1 & 0 \\\\\n",
       "0 & 0 & 1 & 0 & 0 \\\\\n",
       "0 & 0 & 0 & 0 & 0 \\\\\n",
       "0 & 0 & 0 & 0 & 0 \\\\\n",
       "0 & 0 & 0 & 0 & 0\n",
       "\\end{array}\\right)$$"
      ],
      "text/plain": [
       "[0 0 0 1 0]\n",
       "[0 0 1 0 0]\n",
       "[0 0 0 0 0]\n",
       "[0 0 0 0 0]\n",
       "[0 0 0 0 0]"
      ]
     },
     "metadata": {},
     "output_type": "display_data"
    },
    {
     "data": {
      "text/html": [
       "<html><script type=\"math/tex; mode=display\">\\newcommand{\\Bold}[1]{\\mathbf{#1}}\\left[\\left\\{d_{1} : r_{902}, d_{2} : 0, d_{3} : 0, d_{4} : r_{903}, d_{5} : r_{904}, a_{12} : r_{905}, a_{13} : r_{906}, a_{14} : r_{907}, a_{15} : r_{908}, a_{23} : r_{909}, a_{24} : r_{910}, a_{25} : r_{911}, a_{34} : -\\frac{r_{903} x_{24}}{x_{23}}, a_{35} : r_{912}, a_{45} : -\\frac{r_{912} x_{23} + r_{904} x_{25}}{x_{24}}\\right\\}, \\left\\{d_{1} : r_{913}, d_{2} : 0, d_{3} : 0, d_{4} : \\frac{r_{913}}{x_{14}}, d_{5} : r_{914}, a_{12} : 0, a_{13} : r_{915}, a_{14} : r_{916}, a_{15} : r_{917}, a_{23} : r_{918}, a_{24} : r_{919}, a_{25} : r_{920}, a_{34} : -\\frac{r_{913} x_{24}}{x_{14} x_{23}}, a_{35} : r_{921}, a_{45} : -\\frac{r_{921} x_{23} + r_{914} x_{25}}{x_{24}}\\right\\}, \\left\\{d_{1} : r_{922}, d_{2} : r_{923}, d_{3} : \\frac{r_{923}}{x_{23}}, d_{4} : \\frac{r_{922}}{x_{14}}, d_{5} : r_{924}, a_{12} : 0, a_{13} : r_{925}, a_{14} : r_{926}, a_{15} : r_{927}, a_{23} : r_{928}, a_{24} : r_{929}, a_{25} : r_{930}, a_{34} : -\\frac{r_{922} x_{24}}{x_{14} x_{23}}, a_{35} : -\\frac{r_{924} x_{25}}{x_{23}}, a_{45} : 0\\right\\}\\right]</script></html>"
      ],
      "text/latex": [
       "$$\\newcommand{\\Bold}[1]{\\mathbf{#1}}\\left[\\left\\{d_{1} : r_{902}, d_{2} : 0, d_{3} : 0, d_{4} : r_{903}, d_{5} : r_{904}, a_{12} : r_{905}, a_{13} : r_{906}, a_{14} : r_{907}, a_{15} : r_{908}, a_{23} : r_{909}, a_{24} : r_{910}, a_{25} : r_{911}, a_{34} : -\\frac{r_{903} x_{24}}{x_{23}}, a_{35} : r_{912}, a_{45} : -\\frac{r_{912} x_{23} + r_{904} x_{25}}{x_{24}}\\right\\}, \\left\\{d_{1} : r_{913}, d_{2} : 0, d_{3} : 0, d_{4} : \\frac{r_{913}}{x_{14}}, d_{5} : r_{914}, a_{12} : 0, a_{13} : r_{915}, a_{14} : r_{916}, a_{15} : r_{917}, a_{23} : r_{918}, a_{24} : r_{919}, a_{25} : r_{920}, a_{34} : -\\frac{r_{913} x_{24}}{x_{14} x_{23}}, a_{35} : r_{921}, a_{45} : -\\frac{r_{921} x_{23} + r_{914} x_{25}}{x_{24}}\\right\\}, \\left\\{d_{1} : r_{922}, d_{2} : r_{923}, d_{3} : \\frac{r_{923}}{x_{23}}, d_{4} : \\frac{r_{922}}{x_{14}}, d_{5} : r_{924}, a_{12} : 0, a_{13} : r_{925}, a_{14} : r_{926}, a_{15} : r_{927}, a_{23} : r_{928}, a_{24} : r_{929}, a_{25} : r_{930}, a_{34} : -\\frac{r_{922} x_{24}}{x_{14} x_{23}}, a_{35} : -\\frac{r_{924} x_{25}}{x_{23}}, a_{45} : 0\\right\\}\\right]$$"
      ],
      "text/plain": [
       "[{d1: r902,\n",
       "  d2: 0,\n",
       "  d3: 0,\n",
       "  d4: r903,\n",
       "  d5: r904,\n",
       "  a12: r905,\n",
       "  a13: r906,\n",
       "  a14: r907,\n",
       "  a15: r908,\n",
       "  a23: r909,\n",
       "  a24: r910,\n",
       "  a25: r911,\n",
       "  a34: -r903*x24/x23,\n",
       "  a35: r912,\n",
       "  a45: -(r912*x23 + r904*x25)/x24},\n",
       " {d1: r913,\n",
       "  d2: 0,\n",
       "  d3: 0,\n",
       "  d4: r913/x14,\n",
       "  d5: r914,\n",
       "  a12: 0,\n",
       "  a13: r915,\n",
       "  a14: r916,\n",
       "  a15: r917,\n",
       "  a23: r918,\n",
       "  a24: r919,\n",
       "  a25: r920,\n",
       "  a34: -r913*x24/(x14*x23),\n",
       "  a35: r921,\n",
       "  a45: -(r921*x23 + r914*x25)/x24},\n",
       " {d1: r922,\n",
       "  d2: r923,\n",
       "  d3: r923/x23,\n",
       "  d4: r922/x14,\n",
       "  d5: r924,\n",
       "  a12: 0,\n",
       "  a13: r925,\n",
       "  a14: r926,\n",
       "  a15: r927,\n",
       "  a23: r928,\n",
       "  a24: r929,\n",
       "  a25: r930,\n",
       "  a34: -r922*x24/(x14*x23),\n",
       "  a35: -r924*x25/x23,\n",
       "  a45: 0}]"
      ]
     },
     "metadata": {},
     "output_type": "display_data"
    },
    {
     "data": {
      "text/plain": [
       "\\left[\\left\\{d_{1} : r_{902}, d_{2} : 0, d_{3} : 0, d_{4} : r_{903}, d_{5} : r_{904}, a_{12} : r_{905}, a_{13} : r_{906}, a_{14} : r_{907}, a_{15} : r_{908}, a_{23} : r_{909}, a_{24} : r_{910}, a_{25} : r_{911}, a_{34} : -\\frac{r_{903} x_{24}}{x_{23}}, a_{35} : r_{912}, a_{45} : -\\frac{r_{912} x_{23} + r_{904} x_{25}}{x_{24}}\\right\\}, \\left\\{d_{1} : r_{913}, d_{2} : 0, d_{3} : 0, d_{4} : \\frac{r_{913}}{x_{14}}, d_{5} : r_{914}, a_{12} : 0, a_{13} : r_{915}, a_{14} : r_{916}, a_{15} : r_{917}, a_{23} : r_{918}, a_{24} : r_{919}, a_{25} : r_{920}, a_{34} : -\\frac{r_{913} x_{24}}{x_{14} x_{23}}, a_{35} : r_{921}, a_{45} : -\\frac{r_{921} x_{23} + r_{914} x_{25}}{x_{24}}\\right\\}, \\left\\{d_{1} : r_{922}, d_{2} : r_{923}, d_{3} : \\frac{r_{923}}{x_{23}}, d_{4} : \\frac{r_{922}}{x_{14}}, d_{5} : r_{924}, a_{12} : 0, a_{13} : r_{925}, a_{14} : r_{926}, a_{15} : r_{927}, a_{23} : r_{928}, a_{24} : r_{929}, a_{25} : r_{930}, a_{34} : -\\frac{r_{922} x_{24}}{x_{14} x_{23}}, a_{35} : -\\frac{r_{924} x_{25}}{x_{23}}, a_{45} : 0\\right\\}\\right]"
      ]
     },
     "execution_count": 41,
     "metadata": {},
     "output_type": "execute_result"
    }
   ],
   "source": [
    "#x3\n",
    "reset()\n",
    "\n",
    "var('x12,x13,x14,x15,x23,x24,x25,x34,x35,x45')\n",
    "var('d1,d2,d3,d4,d5')\n",
    "var('a12,a13,a14,a15,a23,a24,a25,a34,a35,a45')\n",
    "\n",
    "load_attach_path('C:\\\\Users\\\\julia\\\\Documents\\\\unb\\\\doutorado\\\\pensar\\\\codigo_sage_v2\\\\maquina\\\\x3')\n",
    "load('out_#011010.sage')\n",
    "\n",
    "m=matrix(QQ, [[0, 0, 0, 1, 0],\n",
    "              [0, 0, 1, 0, 0],\n",
    "              [0, 0, 0, 0, 0],\n",
    "              [0, 0, 0, 0, 0],\n",
    "              [0, 0, 0, 0, 0]])\n",
    "        \n",
    "#entry of matrix: (i,j) line i collum j, means (i-1,j-1)\n",
    "sol=solve([ eq1==m[0,2],\teq2==m[0,3],\teq3==m[0,4],\teq4==m[1,2],\t\n",
    "                                            eq5==m[1,3],    eq6==m[1,4],\n",
    "                                                            eq7==m[2,4]],d1,d2,d3,d4,d5,a12,a13,a14,a15,a23,a24,a25,a34,a35,a45, solution_dict=True)\n",
    "\n",
    "show(m)\n",
    "show(sol)\n",
    "latex(sol)"
   ]
  },
  {
   "cell_type": "code",
   "execution_count": 42,
   "metadata": {},
   "outputs": [
    {
     "data": {
      "text/html": [
       "<html><script type=\"math/tex; mode=display\">\\newcommand{\\Bold}[1]{\\mathbf{#1}}\\left(\\begin{array}{rrrrr}\n",
       "0 & 0 & 0 & 1 & 0 \\\\\n",
       "0 & 0 & 1 & 0 & 0 \\\\\n",
       "0 & 0 & 0 & 0 & 0 \\\\\n",
       "0 & 0 & 0 & 0 & 0 \\\\\n",
       "0 & 0 & 0 & 0 & 0\n",
       "\\end{array}\\right)</script></html>"
      ],
      "text/latex": [
       "$$\\newcommand{\\Bold}[1]{\\mathbf{#1}}\\left(\\begin{array}{rrrrr}\n",
       "0 & 0 & 0 & 1 & 0 \\\\\n",
       "0 & 0 & 1 & 0 & 0 \\\\\n",
       "0 & 0 & 0 & 0 & 0 \\\\\n",
       "0 & 0 & 0 & 0 & 0 \\\\\n",
       "0 & 0 & 0 & 0 & 0\n",
       "\\end{array}\\right)$$"
      ],
      "text/plain": [
       "[0 0 0 1 0]\n",
       "[0 0 1 0 0]\n",
       "[0 0 0 0 0]\n",
       "[0 0 0 0 0]\n",
       "[0 0 0 0 0]"
      ]
     },
     "metadata": {},
     "output_type": "display_data"
    },
    {
     "data": {
      "text/html": [
       "<html><script type=\"math/tex; mode=display\">\\newcommand{\\Bold}[1]{\\mathbf{#1}}\\left[\\left\\{d_{1} : r_{931}, d_{2} : 0, d_{3} : 0, d_{4} : r_{932}, d_{5} : r_{933}, a_{12} : r_{934}, a_{13} : r_{935}, a_{14} : r_{936}, a_{15} : r_{937}, a_{23} : r_{938}, a_{24} : r_{939}, a_{25} : r_{940}, a_{34} : -\\frac{r_{932} x_{24}}{x_{23}}, a_{35} : r_{941}, a_{45} : -\\frac{r_{941} x_{23} + r_{933} x_{25}}{x_{24}}\\right\\}, \\left\\{d_{1} : r_{942}, d_{2} : r_{943}, d_{3} : \\frac{r_{943}}{x_{23}}, d_{4} : \\frac{r_{942}}{x_{14}}, d_{5} : r_{944}, a_{12} : 0, a_{13} : r_{945}, a_{14} : r_{946}, a_{15} : r_{947}, a_{23} : r_{948}, a_{24} : r_{949}, a_{25} : r_{950}, a_{34} : -\\frac{r_{942} x_{24}}{x_{14} x_{23}}, a_{35} : \\frac{r_{944} x_{15} x_{24} - r_{944} x_{14} x_{25}}{x_{14} x_{23}}, a_{45} : -\\frac{r_{944} x_{15}}{x_{14}}\\right\\}, \\left\\{d_{1} : r_{951}, d_{2} : 0, d_{3} : 0, d_{4} : \\frac{r_{951}}{x_{14}}, d_{5} : r_{952}, a_{12} : 0, a_{13} : r_{953}, a_{14} : r_{954}, a_{15} : r_{955}, a_{23} : r_{956}, a_{24} : r_{957}, a_{25} : r_{958}, a_{34} : -\\frac{r_{951} x_{24}}{x_{14} x_{23}}, a_{35} : r_{959}, a_{45} : -\\frac{r_{959} x_{23} + r_{952} x_{25}}{x_{24}}\\right\\}\\right]</script></html>"
      ],
      "text/latex": [
       "$$\\newcommand{\\Bold}[1]{\\mathbf{#1}}\\left[\\left\\{d_{1} : r_{931}, d_{2} : 0, d_{3} : 0, d_{4} : r_{932}, d_{5} : r_{933}, a_{12} : r_{934}, a_{13} : r_{935}, a_{14} : r_{936}, a_{15} : r_{937}, a_{23} : r_{938}, a_{24} : r_{939}, a_{25} : r_{940}, a_{34} : -\\frac{r_{932} x_{24}}{x_{23}}, a_{35} : r_{941}, a_{45} : -\\frac{r_{941} x_{23} + r_{933} x_{25}}{x_{24}}\\right\\}, \\left\\{d_{1} : r_{942}, d_{2} : r_{943}, d_{3} : \\frac{r_{943}}{x_{23}}, d_{4} : \\frac{r_{942}}{x_{14}}, d_{5} : r_{944}, a_{12} : 0, a_{13} : r_{945}, a_{14} : r_{946}, a_{15} : r_{947}, a_{23} : r_{948}, a_{24} : r_{949}, a_{25} : r_{950}, a_{34} : -\\frac{r_{942} x_{24}}{x_{14} x_{23}}, a_{35} : \\frac{r_{944} x_{15} x_{24} - r_{944} x_{14} x_{25}}{x_{14} x_{23}}, a_{45} : -\\frac{r_{944} x_{15}}{x_{14}}\\right\\}, \\left\\{d_{1} : r_{951}, d_{2} : 0, d_{3} : 0, d_{4} : \\frac{r_{951}}{x_{14}}, d_{5} : r_{952}, a_{12} : 0, a_{13} : r_{953}, a_{14} : r_{954}, a_{15} : r_{955}, a_{23} : r_{956}, a_{24} : r_{957}, a_{25} : r_{958}, a_{34} : -\\frac{r_{951} x_{24}}{x_{14} x_{23}}, a_{35} : r_{959}, a_{45} : -\\frac{r_{959} x_{23} + r_{952} x_{25}}{x_{24}}\\right\\}\\right]$$"
      ],
      "text/plain": [
       "[{d1: r931,\n",
       "  d2: 0,\n",
       "  d3: 0,\n",
       "  d4: r932,\n",
       "  d5: r933,\n",
       "  a12: r934,\n",
       "  a13: r935,\n",
       "  a14: r936,\n",
       "  a15: r937,\n",
       "  a23: r938,\n",
       "  a24: r939,\n",
       "  a25: r940,\n",
       "  a34: -r932*x24/x23,\n",
       "  a35: r941,\n",
       "  a45: -(r941*x23 + r933*x25)/x24},\n",
       " {d1: r942,\n",
       "  d2: r943,\n",
       "  d3: r943/x23,\n",
       "  d4: r942/x14,\n",
       "  d5: r944,\n",
       "  a12: 0,\n",
       "  a13: r945,\n",
       "  a14: r946,\n",
       "  a15: r947,\n",
       "  a23: r948,\n",
       "  a24: r949,\n",
       "  a25: r950,\n",
       "  a34: -r942*x24/(x14*x23),\n",
       "  a35: (r944*x15*x24 - r944*x14*x25)/(x14*x23),\n",
       "  a45: -r944*x15/x14},\n",
       " {d1: r951,\n",
       "  d2: 0,\n",
       "  d3: 0,\n",
       "  d4: r951/x14,\n",
       "  d5: r952,\n",
       "  a12: 0,\n",
       "  a13: r953,\n",
       "  a14: r954,\n",
       "  a15: r955,\n",
       "  a23: r956,\n",
       "  a24: r957,\n",
       "  a25: r958,\n",
       "  a34: -r951*x24/(x14*x23),\n",
       "  a35: r959,\n",
       "  a45: -(r959*x23 + r952*x25)/x24}]"
      ]
     },
     "metadata": {},
     "output_type": "display_data"
    },
    {
     "data": {
      "text/plain": [
       "\\left[\\left\\{d_{1} : r_{931}, d_{2} : 0, d_{3} : 0, d_{4} : r_{932}, d_{5} : r_{933}, a_{12} : r_{934}, a_{13} : r_{935}, a_{14} : r_{936}, a_{15} : r_{937}, a_{23} : r_{938}, a_{24} : r_{939}, a_{25} : r_{940}, a_{34} : -\\frac{r_{932} x_{24}}{x_{23}}, a_{35} : r_{941}, a_{45} : -\\frac{r_{941} x_{23} + r_{933} x_{25}}{x_{24}}\\right\\}, \\left\\{d_{1} : r_{942}, d_{2} : r_{943}, d_{3} : \\frac{r_{943}}{x_{23}}, d_{4} : \\frac{r_{942}}{x_{14}}, d_{5} : r_{944}, a_{12} : 0, a_{13} : r_{945}, a_{14} : r_{946}, a_{15} : r_{947}, a_{23} : r_{948}, a_{24} : r_{949}, a_{25} : r_{950}, a_{34} : -\\frac{r_{942} x_{24}}{x_{14} x_{23}}, a_{35} : \\frac{r_{944} x_{15} x_{24} - r_{944} x_{14} x_{25}}{x_{14} x_{23}}, a_{45} : -\\frac{r_{944} x_{15}}{x_{14}}\\right\\}, \\left\\{d_{1} : r_{951}, d_{2} : 0, d_{3} : 0, d_{4} : \\frac{r_{951}}{x_{14}}, d_{5} : r_{952}, a_{12} : 0, a_{13} : r_{953}, a_{14} : r_{954}, a_{15} : r_{955}, a_{23} : r_{956}, a_{24} : r_{957}, a_{25} : r_{958}, a_{34} : -\\frac{r_{951} x_{24}}{x_{14} x_{23}}, a_{35} : r_{959}, a_{45} : -\\frac{r_{959} x_{23} + r_{952} x_{25}}{x_{24}}\\right\\}\\right]"
      ]
     },
     "execution_count": 42,
     "metadata": {},
     "output_type": "execute_result"
    }
   ],
   "source": [
    "#x3\n",
    "reset()\n",
    "\n",
    "var('x12,x13,x14,x15,x23,x24,x25,x34,x35,x45')\n",
    "var('d1,d2,d3,d4,d5')\n",
    "var('a12,a13,a14,a15,a23,a24,a25,a34,a35,a45')\n",
    "\n",
    "load_attach_path('C:\\\\Users\\\\julia\\\\Documents\\\\unb\\\\doutorado\\\\pensar\\\\codigo_sage_v2\\\\maquina\\\\x3')\n",
    "load('out_#011011.sage')\n",
    "\n",
    "m=matrix(QQ, [[0, 0, 0, 1, 0],\n",
    "              [0, 0, 1, 0, 0],\n",
    "              [0, 0, 0, 0, 0],\n",
    "              [0, 0, 0, 0, 0],\n",
    "              [0, 0, 0, 0, 0]])\n",
    "        \n",
    "#entry of matrix: (i,j) line i collum j, means (i-1,j-1)\n",
    "sol=solve([ eq1==m[0,2],\teq2==m[0,3],\teq3==m[0,4],\teq4==m[1,2],\t\n",
    "                                            eq5==m[1,3],    eq6==m[1,4],\n",
    "                                                            eq7==m[2,4]],d1,d2,d3,d4,d5,a12,a13,a14,a15,a23,a24,a25,a34,a35,a45, solution_dict=True)\n",
    "\n",
    "show(m)\n",
    "show(sol)\n",
    "latex(sol)"
   ]
  },
  {
   "cell_type": "code",
   "execution_count": 44,
   "metadata": {},
   "outputs": [
    {
     "data": {
      "text/html": [
       "<html><script type=\"math/tex; mode=display\">\\newcommand{\\Bold}[1]{\\mathbf{#1}}\\left(\\begin{array}{rrrrr}\n",
       "0 & 0 & 0 & 1 & 0 \\\\\n",
       "0 & 0 & 1 & 0 & 0 \\\\\n",
       "0 & 0 & 0 & 0 & 0 \\\\\n",
       "0 & 0 & 0 & 0 & 0 \\\\\n",
       "0 & 0 & 0 & 0 & 0\n",
       "\\end{array}\\right)</script></html>"
      ],
      "text/latex": [
       "$$\\newcommand{\\Bold}[1]{\\mathbf{#1}}\\left(\\begin{array}{rrrrr}\n",
       "0 & 0 & 0 & 1 & 0 \\\\\n",
       "0 & 0 & 1 & 0 & 0 \\\\\n",
       "0 & 0 & 0 & 0 & 0 \\\\\n",
       "0 & 0 & 0 & 0 & 0 \\\\\n",
       "0 & 0 & 0 & 0 & 0\n",
       "\\end{array}\\right)$$"
      ],
      "text/plain": [
       "[0 0 0 1 0]\n",
       "[0 0 1 0 0]\n",
       "[0 0 0 0 0]\n",
       "[0 0 0 0 0]\n",
       "[0 0 0 0 0]"
      ]
     },
     "metadata": {},
     "output_type": "display_data"
    },
    {
     "data": {
      "text/html": [
       "<html><script type=\"math/tex; mode=display\">\\newcommand{\\Bold}[1]{\\mathbf{#1}}\\left[\\left\\{d_{1} : r_{989}, d_{2} : 0, d_{3} : 0, d_{4} : r_{990}, d_{5} : r_{991}, a_{12} : r_{992}, a_{13} : r_{993}, a_{14} : r_{994}, a_{15} : r_{995}, a_{23} : r_{996}, a_{24} : r_{997}, a_{25} : r_{998}, a_{34} : -\\frac{r_{990} x_{24}}{x_{23}}, a_{35} : r_{999}, a_{45} : -\\frac{r_{999} x_{23} + r_{991} x_{25}}{x_{24}}\\right\\}, \\left\\{d_{1} : r_{1000}, d_{2} : r_{1001}, d_{3} : \\frac{r_{1001}}{x_{23}}, d_{4} : -\\frac{r_{1000} x_{23}}{x_{13} x_{24}}, d_{5} : r_{1002}, a_{12} : \\frac{r_{1001} x_{13}}{x_{23}}, a_{13} : r_{1003}, a_{14} : r_{1004}, a_{15} : r_{1005}, a_{23} : r_{1006}, a_{24} : r_{1007}, a_{25} : r_{1008}, a_{34} : \\frac{r_{1000}}{x_{13}}, a_{35} : 0, a_{45} : -\\frac{r_{1002} x_{25}}{x_{24}}\\right\\}, \\left\\{d_{1} : r_{1009}, d_{2} : 0, d_{3} : 0, d_{4} : -\\frac{r_{1009} x_{23}}{x_{13} x_{24}}, d_{5} : r_{1010}, a_{12} : 0, a_{13} : r_{1011}, a_{14} : r_{1012}, a_{15} : r_{1013}, a_{23} : r_{1014}, a_{24} : r_{1015}, a_{25} : r_{1016}, a_{34} : \\frac{r_{1009}}{x_{13}}, a_{35} : r_{1017}, a_{45} : -\\frac{r_{1017} x_{23} + r_{1010} x_{25}}{x_{24}}\\right\\}\\right]</script></html>"
      ],
      "text/latex": [
       "$$\\newcommand{\\Bold}[1]{\\mathbf{#1}}\\left[\\left\\{d_{1} : r_{989}, d_{2} : 0, d_{3} : 0, d_{4} : r_{990}, d_{5} : r_{991}, a_{12} : r_{992}, a_{13} : r_{993}, a_{14} : r_{994}, a_{15} : r_{995}, a_{23} : r_{996}, a_{24} : r_{997}, a_{25} : r_{998}, a_{34} : -\\frac{r_{990} x_{24}}{x_{23}}, a_{35} : r_{999}, a_{45} : -\\frac{r_{999} x_{23} + r_{991} x_{25}}{x_{24}}\\right\\}, \\left\\{d_{1} : r_{1000}, d_{2} : r_{1001}, d_{3} : \\frac{r_{1001}}{x_{23}}, d_{4} : -\\frac{r_{1000} x_{23}}{x_{13} x_{24}}, d_{5} : r_{1002}, a_{12} : \\frac{r_{1001} x_{13}}{x_{23}}, a_{13} : r_{1003}, a_{14} : r_{1004}, a_{15} : r_{1005}, a_{23} : r_{1006}, a_{24} : r_{1007}, a_{25} : r_{1008}, a_{34} : \\frac{r_{1000}}{x_{13}}, a_{35} : 0, a_{45} : -\\frac{r_{1002} x_{25}}{x_{24}}\\right\\}, \\left\\{d_{1} : r_{1009}, d_{2} : 0, d_{3} : 0, d_{4} : -\\frac{r_{1009} x_{23}}{x_{13} x_{24}}, d_{5} : r_{1010}, a_{12} : 0, a_{13} : r_{1011}, a_{14} : r_{1012}, a_{15} : r_{1013}, a_{23} : r_{1014}, a_{24} : r_{1015}, a_{25} : r_{1016}, a_{34} : \\frac{r_{1009}}{x_{13}}, a_{35} : r_{1017}, a_{45} : -\\frac{r_{1017} x_{23} + r_{1010} x_{25}}{x_{24}}\\right\\}\\right]$$"
      ],
      "text/plain": [
       "[{d1: r989,\n",
       "  d2: 0,\n",
       "  d3: 0,\n",
       "  d4: r990,\n",
       "  d5: r991,\n",
       "  a12: r992,\n",
       "  a13: r993,\n",
       "  a14: r994,\n",
       "  a15: r995,\n",
       "  a23: r996,\n",
       "  a24: r997,\n",
       "  a25: r998,\n",
       "  a34: -r990*x24/x23,\n",
       "  a35: r999,\n",
       "  a45: -(r999*x23 + r991*x25)/x24},\n",
       " {d1: r1000,\n",
       "  d2: r1001,\n",
       "  d3: r1001/x23,\n",
       "  d4: -r1000*x23/(x13*x24),\n",
       "  d5: r1002,\n",
       "  a12: r1001*x13/x23,\n",
       "  a13: r1003,\n",
       "  a14: r1004,\n",
       "  a15: r1005,\n",
       "  a23: r1006,\n",
       "  a24: r1007,\n",
       "  a25: r1008,\n",
       "  a34: r1000/x13,\n",
       "  a35: 0,\n",
       "  a45: -r1002*x25/x24},\n",
       " {d1: r1009,\n",
       "  d2: 0,\n",
       "  d3: 0,\n",
       "  d4: -r1009*x23/(x13*x24),\n",
       "  d5: r1010,\n",
       "  a12: 0,\n",
       "  a13: r1011,\n",
       "  a14: r1012,\n",
       "  a15: r1013,\n",
       "  a23: r1014,\n",
       "  a24: r1015,\n",
       "  a25: r1016,\n",
       "  a34: r1009/x13,\n",
       "  a35: r1017,\n",
       "  a45: -(r1017*x23 + r1010*x25)/x24}]"
      ]
     },
     "metadata": {},
     "output_type": "display_data"
    },
    {
     "data": {
      "text/plain": [
       "\\left[\\left\\{d_{1} : r_{989}, d_{2} : 0, d_{3} : 0, d_{4} : r_{990}, d_{5} : r_{991}, a_{12} : r_{992}, a_{13} : r_{993}, a_{14} : r_{994}, a_{15} : r_{995}, a_{23} : r_{996}, a_{24} : r_{997}, a_{25} : r_{998}, a_{34} : -\\frac{r_{990} x_{24}}{x_{23}}, a_{35} : r_{999}, a_{45} : -\\frac{r_{999} x_{23} + r_{991} x_{25}}{x_{24}}\\right\\}, \\left\\{d_{1} : r_{1000}, d_{2} : r_{1001}, d_{3} : \\frac{r_{1001}}{x_{23}}, d_{4} : -\\frac{r_{1000} x_{23}}{x_{13} x_{24}}, d_{5} : r_{1002}, a_{12} : \\frac{r_{1001} x_{13}}{x_{23}}, a_{13} : r_{1003}, a_{14} : r_{1004}, a_{15} : r_{1005}, a_{23} : r_{1006}, a_{24} : r_{1007}, a_{25} : r_{1008}, a_{34} : \\frac{r_{1000}}{x_{13}}, a_{35} : 0, a_{45} : -\\frac{r_{1002} x_{25}}{x_{24}}\\right\\}, \\left\\{d_{1} : r_{1009}, d_{2} : 0, d_{3} : 0, d_{4} : -\\frac{r_{1009} x_{23}}{x_{13} x_{24}}, d_{5} : r_{1010}, a_{12} : 0, a_{13} : r_{1011}, a_{14} : r_{1012}, a_{15} : r_{1013}, a_{23} : r_{1014}, a_{24} : r_{1015}, a_{25} : r_{1016}, a_{34} : \\frac{r_{1009}}{x_{13}}, a_{35} : r_{1017}, a_{45} : -\\frac{r_{1017} x_{23} + r_{1010} x_{25}}{x_{24}}\\right\\}\\right]"
      ]
     },
     "execution_count": 44,
     "metadata": {},
     "output_type": "execute_result"
    }
   ],
   "source": [
    "#x3\n",
    "reset()\n",
    "\n",
    "var('x12,x13,x14,x15,x23,x24,x25,x34,x35,x45')\n",
    "var('d1,d2,d3,d4,d5')\n",
    "var('a12,a13,a14,a15,a23,a24,a25,a34,a35,a45')\n",
    "\n",
    "load_attach_path('C:\\\\Users\\\\julia\\\\Documents\\\\unb\\\\doutorado\\\\pensar\\\\codigo_sage_v2\\\\maquina\\\\x3')\n",
    "load('out_#011100.sage')\n",
    "\n",
    "m=matrix(QQ, [[0, 0, 0, 1, 0],\n",
    "              [0, 0, 1, 0, 0],\n",
    "              [0, 0, 0, 0, 0],\n",
    "              [0, 0, 0, 0, 0],\n",
    "              [0, 0, 0, 0, 0]])\n",
    "        \n",
    "#entry of matrix: (i,j) line i collum j, means (i-1,j-1)\n",
    "sol=solve([ eq1==m[0,2],\teq2==m[0,3],\teq3==m[0,4],\teq4==m[1,2],\t\n",
    "                                            eq5==m[1,3],    eq6==m[1,4],\n",
    "                                                            eq7==m[2,4]],d1,d2,d3,d4,d5,a12,a13,a14,a15,a23,a24,a25,a34,a35,a45, solution_dict=True)\n",
    "\n",
    "show(m)\n",
    "show(sol)\n",
    "latex(sol)"
   ]
  },
  {
   "cell_type": "code",
   "execution_count": 5,
   "metadata": {},
   "outputs": [
    {
     "data": {
      "text/html": [
       "<html><script type=\"math/tex; mode=display\">\\newcommand{\\Bold}[1]{\\mathbf{#1}}\\left(\\begin{array}{rrrrr}\n",
       "0 & 0 & 0 & 1 & 0 \\\\\n",
       "0 & 0 & 1 & 0 & 0 \\\\\n",
       "0 & 0 & 0 & 0 & 0 \\\\\n",
       "0 & 0 & 0 & 0 & 0 \\\\\n",
       "0 & 0 & 0 & 0 & 0\n",
       "\\end{array}\\right)</script></html>"
      ],
      "text/latex": [
       "$$\\newcommand{\\Bold}[1]{\\mathbf{#1}}\\left(\\begin{array}{rrrrr}\n",
       "0 & 0 & 0 & 1 & 0 \\\\\n",
       "0 & 0 & 1 & 0 & 0 \\\\\n",
       "0 & 0 & 0 & 0 & 0 \\\\\n",
       "0 & 0 & 0 & 0 & 0 \\\\\n",
       "0 & 0 & 0 & 0 & 0\n",
       "\\end{array}\\right)$$"
      ],
      "text/plain": [
       "[0 0 0 1 0]\n",
       "[0 0 1 0 0]\n",
       "[0 0 0 0 0]\n",
       "[0 0 0 0 0]\n",
       "[0 0 0 0 0]"
      ]
     },
     "metadata": {},
     "output_type": "display_data"
    },
    {
     "data": {
      "text/html": [
       "<html><script type=\"math/tex; mode=display\">\\newcommand{\\Bold}[1]{\\mathbf{#1}}\\left[\\left\\{d_{1} : r_{85}, d_{2} : 0, d_{3} : 0, d_{4} : r_{86}, d_{5} : r_{87}, a_{12} : r_{88}, a_{13} : r_{89}, a_{14} : r_{90}, a_{15} : r_{91}, a_{23} : r_{92}, a_{24} : r_{93}, a_{25} : r_{94}, a_{34} : -\\frac{r_{86} x_{24}}{x_{23}}, a_{35} : r_{95}, a_{45} : -\\frac{r_{95} x_{23} + r_{87} x_{25}}{x_{24}}\\right\\}, \\left\\{d_{1} : r_{96}, d_{2} : r_{97}, d_{3} : \\frac{r_{97}}{x_{23}}, d_{4} : \\frac{r_{96} x_{23}}{x_{14} x_{23} - x_{13} x_{24}}, d_{5} : r_{98}, a_{12} : \\frac{r_{97} x_{13}}{x_{23}}, a_{13} : r_{99}, a_{14} : r_{100}, a_{15} : r_{101}, a_{23} : r_{102}, a_{24} : r_{103}, a_{25} : r_{104}, a_{34} : -\\frac{r_{96} x_{24}}{x_{14} x_{23} - x_{13} x_{24}}, a_{35} : -\\frac{r_{98} x_{14} x_{25}}{x_{14} x_{23} - x_{13} x_{24}}, a_{45} : \\frac{r_{98} x_{13} x_{25}}{x_{14} x_{23} - x_{13} x_{24}}\\right\\}, \\left\\{d_{1} : r_{105}, d_{2} : 0, d_{3} : 0, d_{4} : \\frac{r_{105} x_{23}}{x_{14} x_{23} - x_{13} x_{24}}, d_{5} : r_{106}, a_{12} : 0, a_{13} : r_{107}, a_{14} : r_{108}, a_{15} : r_{109}, a_{23} : r_{110}, a_{24} : r_{111}, a_{25} : r_{112}, a_{34} : -\\frac{r_{105} x_{24}}{x_{14} x_{23} - x_{13} x_{24}}, a_{35} : r_{113}, a_{45} : -\\frac{r_{113} x_{23} + r_{106} x_{25}}{x_{24}}\\right\\}\\right]</script></html>"
      ],
      "text/latex": [
       "$$\\newcommand{\\Bold}[1]{\\mathbf{#1}}\\left[\\left\\{d_{1} : r_{85}, d_{2} : 0, d_{3} : 0, d_{4} : r_{86}, d_{5} : r_{87}, a_{12} : r_{88}, a_{13} : r_{89}, a_{14} : r_{90}, a_{15} : r_{91}, a_{23} : r_{92}, a_{24} : r_{93}, a_{25} : r_{94}, a_{34} : -\\frac{r_{86} x_{24}}{x_{23}}, a_{35} : r_{95}, a_{45} : -\\frac{r_{95} x_{23} + r_{87} x_{25}}{x_{24}}\\right\\}, \\left\\{d_{1} : r_{96}, d_{2} : r_{97}, d_{3} : \\frac{r_{97}}{x_{23}}, d_{4} : \\frac{r_{96} x_{23}}{x_{14} x_{23} - x_{13} x_{24}}, d_{5} : r_{98}, a_{12} : \\frac{r_{97} x_{13}}{x_{23}}, a_{13} : r_{99}, a_{14} : r_{100}, a_{15} : r_{101}, a_{23} : r_{102}, a_{24} : r_{103}, a_{25} : r_{104}, a_{34} : -\\frac{r_{96} x_{24}}{x_{14} x_{23} - x_{13} x_{24}}, a_{35} : -\\frac{r_{98} x_{14} x_{25}}{x_{14} x_{23} - x_{13} x_{24}}, a_{45} : \\frac{r_{98} x_{13} x_{25}}{x_{14} x_{23} - x_{13} x_{24}}\\right\\}, \\left\\{d_{1} : r_{105}, d_{2} : 0, d_{3} : 0, d_{4} : \\frac{r_{105} x_{23}}{x_{14} x_{23} - x_{13} x_{24}}, d_{5} : r_{106}, a_{12} : 0, a_{13} : r_{107}, a_{14} : r_{108}, a_{15} : r_{109}, a_{23} : r_{110}, a_{24} : r_{111}, a_{25} : r_{112}, a_{34} : -\\frac{r_{105} x_{24}}{x_{14} x_{23} - x_{13} x_{24}}, a_{35} : r_{113}, a_{45} : -\\frac{r_{113} x_{23} + r_{106} x_{25}}{x_{24}}\\right\\}\\right]$$"
      ],
      "text/plain": [
       "[{d1: r85,\n",
       "  d2: 0,\n",
       "  d3: 0,\n",
       "  d4: r86,\n",
       "  d5: r87,\n",
       "  a12: r88,\n",
       "  a13: r89,\n",
       "  a14: r90,\n",
       "  a15: r91,\n",
       "  a23: r92,\n",
       "  a24: r93,\n",
       "  a25: r94,\n",
       "  a34: -r86*x24/x23,\n",
       "  a35: r95,\n",
       "  a45: -(r95*x23 + r87*x25)/x24},\n",
       " {d1: r96,\n",
       "  d2: r97,\n",
       "  d3: r97/x23,\n",
       "  d4: r96*x23/(x14*x23 - x13*x24),\n",
       "  d5: r98,\n",
       "  a12: r97*x13/x23,\n",
       "  a13: r99,\n",
       "  a14: r100,\n",
       "  a15: r101,\n",
       "  a23: r102,\n",
       "  a24: r103,\n",
       "  a25: r104,\n",
       "  a34: -r96*x24/(x14*x23 - x13*x24),\n",
       "  a35: -r98*x14*x25/(x14*x23 - x13*x24),\n",
       "  a45: r98*x13*x25/(x14*x23 - x13*x24)},\n",
       " {d1: r105,\n",
       "  d2: 0,\n",
       "  d3: 0,\n",
       "  d4: r105*x23/(x14*x23 - x13*x24),\n",
       "  d5: r106,\n",
       "  a12: 0,\n",
       "  a13: r107,\n",
       "  a14: r108,\n",
       "  a15: r109,\n",
       "  a23: r110,\n",
       "  a24: r111,\n",
       "  a25: r112,\n",
       "  a34: -r105*x24/(x14*x23 - x13*x24),\n",
       "  a35: r113,\n",
       "  a45: -(r113*x23 + r106*x25)/x24}]"
      ]
     },
     "metadata": {},
     "output_type": "display_data"
    },
    {
     "data": {
      "text/plain": [
       "\\left[\\left\\{d_{1} : r_{85}, d_{2} : 0, d_{3} : 0, d_{4} : r_{86}, d_{5} : r_{87}, a_{12} : r_{88}, a_{13} : r_{89}, a_{14} : r_{90}, a_{15} : r_{91}, a_{23} : r_{92}, a_{24} : r_{93}, a_{25} : r_{94}, a_{34} : -\\frac{r_{86} x_{24}}{x_{23}}, a_{35} : r_{95}, a_{45} : -\\frac{r_{95} x_{23} + r_{87} x_{25}}{x_{24}}\\right\\}, \\left\\{d_{1} : r_{96}, d_{2} : r_{97}, d_{3} : \\frac{r_{97}}{x_{23}}, d_{4} : \\frac{r_{96} x_{23}}{x_{14} x_{23} - x_{13} x_{24}}, d_{5} : r_{98}, a_{12} : \\frac{r_{97} x_{13}}{x_{23}}, a_{13} : r_{99}, a_{14} : r_{100}, a_{15} : r_{101}, a_{23} : r_{102}, a_{24} : r_{103}, a_{25} : r_{104}, a_{34} : -\\frac{r_{96} x_{24}}{x_{14} x_{23} - x_{13} x_{24}}, a_{35} : -\\frac{r_{98} x_{14} x_{25}}{x_{14} x_{23} - x_{13} x_{24}}, a_{45} : \\frac{r_{98} x_{13} x_{25}}{x_{14} x_{23} - x_{13} x_{24}}\\right\\}, \\left\\{d_{1} : r_{105}, d_{2} : 0, d_{3} : 0, d_{4} : \\frac{r_{105} x_{23}}{x_{14} x_{23} - x_{13} x_{24}}, d_{5} : r_{106}, a_{12} : 0, a_{13} : r_{107}, a_{14} : r_{108}, a_{15} : r_{109}, a_{23} : r_{110}, a_{24} : r_{111}, a_{25} : r_{112}, a_{34} : -\\frac{r_{105} x_{24}}{x_{14} x_{23} - x_{13} x_{24}}, a_{35} : r_{113}, a_{45} : -\\frac{r_{113} x_{23} + r_{106} x_{25}}{x_{24}}\\right\\}\\right]"
      ]
     },
     "execution_count": 5,
     "metadata": {},
     "output_type": "execute_result"
    }
   ],
   "source": [
    "#x3\n",
    "#----------------------\n",
    "#x14 \\neq x13*x24/x23\n",
    "#----------------------\n",
    "reset()\n",
    "\n",
    "var('x12,x13,x14,x15,x23,x24,x25,x34,x35,x45')\n",
    "var('d1,d2,d3,d4,d5')\n",
    "var('a12,a13,a14,a15,a23,a24,a25,a34,a35,a45')\n",
    "\n",
    "load_attach_path('C:\\\\Users\\\\julia\\\\Documents\\\\unb\\\\doutorado\\\\pensar\\\\codigo_sage_v2\\\\maquina\\\\x3')\n",
    "load('out_#011110.sage')\n",
    "\n",
    "m=matrix(QQ, [[0, 0, 0, 1, 0],\n",
    "              [0, 0, 1, 0, 0],\n",
    "              [0, 0, 0, 0, 0],\n",
    "              [0, 0, 0, 0, 0],\n",
    "              [0, 0, 0, 0, 0]])\n",
    "        \n",
    "#entry of matrix: (i,j) line i collum j, means (i-1,j-1)\n",
    "sol=solve([ eq1==m[0,2],\teq2==m[0,3],\teq3==m[0,4],\teq4==m[1,2],\t\n",
    "                                            eq5==m[1,3],    eq6==m[1,4],\n",
    "                                                            eq7==m[2,4]],d1,d2,d3,d4,d5,a12,a13,a14,a15,a23,a24,a25,a34,a35,a45, solution_dict=True)\n",
    "\n",
    "show(m)\n",
    "show(sol)\n",
    "latex(sol)"
   ]
  },
  {
   "cell_type": "code",
   "execution_count": 8,
   "metadata": {},
   "outputs": [
    {
     "data": {
      "text/html": [
       "<html><script type=\"math/tex; mode=display\">\\newcommand{\\Bold}[1]{\\mathbf{#1}}\\left(\\begin{array}{rrrrr}\n",
       "0 & 0 & 0 & 0 & 1 \\\\\n",
       "0 & 0 & 1 & 0 & 0 \\\\\n",
       "0 & 0 & 0 & 0 & 0 \\\\\n",
       "0 & 0 & 0 & 0 & 0 \\\\\n",
       "0 & 0 & 0 & 0 & 0\n",
       "\\end{array}\\right)</script></html>"
      ],
      "text/latex": [
       "$$\\newcommand{\\Bold}[1]{\\mathbf{#1}}\\left(\\begin{array}{rrrrr}\n",
       "0 & 0 & 0 & 0 & 1 \\\\\n",
       "0 & 0 & 1 & 0 & 0 \\\\\n",
       "0 & 0 & 0 & 0 & 0 \\\\\n",
       "0 & 0 & 0 & 0 & 0 \\\\\n",
       "0 & 0 & 0 & 0 & 0\n",
       "\\end{array}\\right)$$"
      ],
      "text/plain": [
       "[0 0 0 0 1]\n",
       "[0 0 1 0 0]\n",
       "[0 0 0 0 0]\n",
       "[0 0 0 0 0]\n",
       "[0 0 0 0 0]"
      ]
     },
     "metadata": {},
     "output_type": "display_data"
    },
    {
     "data": {
      "text/html": [
       "<html><script type=\"math/tex; mode=display\">\\newcommand{\\Bold}[1]{\\mathbf{#1}}\\left[\\left\\{d_{1} : r_{155}, d_{2} : 0, d_{3} : 0, d_{4} : r_{156}, d_{5} : r_{157}, a_{12} : r_{158}, a_{13} : r_{159}, a_{14} : r_{160}, a_{15} : r_{161}, a_{23} : r_{162}, a_{24} : r_{163}, a_{25} : r_{164}, a_{34} : -\\frac{r_{156} x_{24}}{x_{23}}, a_{35} : r_{165}, a_{45} : -\\frac{r_{165} x_{23} + r_{157} x_{25}}{x_{24}}\\right\\}, \\left\\{d_{1} : r_{166}, d_{2} : r_{167}, d_{3} : \\frac{r_{167}}{x_{23}}, d_{4} : r_{168}, d_{5} : -\\frac{r_{166} x_{23}}{x_{13} x_{25}}, a_{12} : \\frac{r_{167} x_{13}}{x_{23}}, a_{13} : r_{169}, a_{14} : r_{170}, a_{15} : r_{171}, a_{23} : r_{172}, a_{24} : r_{173}, a_{25} : r_{174}, a_{34} : -\\frac{r_{168} x_{24}}{x_{23}}, a_{35} : r_{175}, a_{45} : -\\frac{{\\left(r_{175} x_{13} - r_{166}\\right)} x_{23}}{x_{13} x_{24}}\\right\\}\\right]</script></html>"
      ],
      "text/latex": [
       "$$\\newcommand{\\Bold}[1]{\\mathbf{#1}}\\left[\\left\\{d_{1} : r_{155}, d_{2} : 0, d_{3} : 0, d_{4} : r_{156}, d_{5} : r_{157}, a_{12} : r_{158}, a_{13} : r_{159}, a_{14} : r_{160}, a_{15} : r_{161}, a_{23} : r_{162}, a_{24} : r_{163}, a_{25} : r_{164}, a_{34} : -\\frac{r_{156} x_{24}}{x_{23}}, a_{35} : r_{165}, a_{45} : -\\frac{r_{165} x_{23} + r_{157} x_{25}}{x_{24}}\\right\\}, \\left\\{d_{1} : r_{166}, d_{2} : r_{167}, d_{3} : \\frac{r_{167}}{x_{23}}, d_{4} : r_{168}, d_{5} : -\\frac{r_{166} x_{23}}{x_{13} x_{25}}, a_{12} : \\frac{r_{167} x_{13}}{x_{23}}, a_{13} : r_{169}, a_{14} : r_{170}, a_{15} : r_{171}, a_{23} : r_{172}, a_{24} : r_{173}, a_{25} : r_{174}, a_{34} : -\\frac{r_{168} x_{24}}{x_{23}}, a_{35} : r_{175}, a_{45} : -\\frac{{\\left(r_{175} x_{13} - r_{166}\\right)} x_{23}}{x_{13} x_{24}}\\right\\}\\right]$$"
      ],
      "text/plain": [
       "[{d1: r155,\n",
       "  d2: 0,\n",
       "  d3: 0,\n",
       "  d4: r156,\n",
       "  d5: r157,\n",
       "  a12: r158,\n",
       "  a13: r159,\n",
       "  a14: r160,\n",
       "  a15: r161,\n",
       "  a23: r162,\n",
       "  a24: r163,\n",
       "  a25: r164,\n",
       "  a34: -r156*x24/x23,\n",
       "  a35: r165,\n",
       "  a45: -(r165*x23 + r157*x25)/x24},\n",
       " {d1: r166,\n",
       "  d2: r167,\n",
       "  d3: r167/x23,\n",
       "  d4: r168,\n",
       "  d5: -r166*x23/(x13*x25),\n",
       "  a12: r167*x13/x23,\n",
       "  a13: r169,\n",
       "  a14: r170,\n",
       "  a15: r171,\n",
       "  a23: r172,\n",
       "  a24: r173,\n",
       "  a25: r174,\n",
       "  a34: -r168*x24/x23,\n",
       "  a35: r175,\n",
       "  a45: -(r175*x13 - r166)*x23/(x13*x24)}]"
      ]
     },
     "metadata": {},
     "output_type": "display_data"
    },
    {
     "data": {
      "text/plain": [
       "\\left[\\left\\{d_{1} : r_{155}, d_{2} : 0, d_{3} : 0, d_{4} : r_{156}, d_{5} : r_{157}, a_{12} : r_{158}, a_{13} : r_{159}, a_{14} : r_{160}, a_{15} : r_{161}, a_{23} : r_{162}, a_{24} : r_{163}, a_{25} : r_{164}, a_{34} : -\\frac{r_{156} x_{24}}{x_{23}}, a_{35} : r_{165}, a_{45} : -\\frac{r_{165} x_{23} + r_{157} x_{25}}{x_{24}}\\right\\}, \\left\\{d_{1} : r_{166}, d_{2} : r_{167}, d_{3} : \\frac{r_{167}}{x_{23}}, d_{4} : r_{168}, d_{5} : -\\frac{r_{166} x_{23}}{x_{13} x_{25}}, a_{12} : \\frac{r_{167} x_{13}}{x_{23}}, a_{13} : r_{169}, a_{14} : r_{170}, a_{15} : r_{171}, a_{23} : r_{172}, a_{24} : r_{173}, a_{25} : r_{174}, a_{34} : -\\frac{r_{168} x_{24}}{x_{23}}, a_{35} : r_{175}, a_{45} : -\\frac{{\\left(r_{175} x_{13} - r_{166}\\right)} x_{23}}{x_{13} x_{24}}\\right\\}\\right]"
      ]
     },
     "execution_count": 8,
     "metadata": {},
     "output_type": "execute_result"
    }
   ],
   "source": [
    "#x3\n",
    "#----------------------\n",
    "#x14 = x13*x24/x23\n",
    "#----------------------\n",
    "reset()\n",
    "\n",
    "var('x12,x13,x14,x15,x23,x24,x25,x34,x35,x45')\n",
    "var('d1,d2,d3,d4,d5')\n",
    "var('a12,a13,a14,a15,a23,a24,a25,a34,a35,a45')\n",
    "\n",
    "#011110\n",
    "eq1=(d2*d3*x13-a12*d3*x23)/(d1*d2) \n",
    "eq2=(a34*d2*x13+d2*d4*(x13*x24/x23)-a12*a34*x23-a12*d4*x24)/(d1*d2) \n",
    "eq3=(a35*d2*d3*x13+a45*d2*d3*(x13*x24/x23)+d2*d3*d5*0-a12*a35*d3*x23-a12*a45*d3*x24-a12*d3*d5*x25+a12*a23*d5*0-a13*d2*d5*0)/(d1*d2*d3) \n",
    "eq4=(d3*x23)/(d2) \n",
    "eq5=(a34*x23+d4*x24)/(d2) \n",
    "eq6=(a35*d3*x23+a45*d3*x24+d3*d5*x25-a23*d5*0)/(d2*d3) \n",
    "eq7=(d5*0)/(d3) \n",
    "\n",
    "m=matrix(QQ, [[0, 0, 0, 0, 1],\n",
    "              [0, 0, 1, 0, 0],\n",
    "              [0, 0, 0, 0, 0],\n",
    "              [0, 0, 0, 0, 0],\n",
    "              [0, 0, 0, 0, 0]])\n",
    "        \n",
    "#entry of matrix: (i,j) line i collum j, means (i-1,j-1)\n",
    "sol=solve([ eq1==m[0,2],\teq2==m[0,3],\teq3==m[0,4],\teq4==m[1,2],\t\n",
    "                                            eq5==m[1,3],    eq6==m[1,4],\n",
    "                                                            eq7==m[2,4]],d1,d2,d3,d4,d5,a12,a13,a14,a15,a23,a24,a25,a34,a35,a45, solution_dict=True)\n",
    "\n",
    "show(m)\n",
    "show(sol)\n",
    "latex(sol)"
   ]
  },
  {
   "cell_type": "code",
   "execution_count": 46,
   "metadata": {},
   "outputs": [
    {
     "data": {
      "text/html": [
       "<html><script type=\"math/tex; mode=display\">\\newcommand{\\Bold}[1]{\\mathbf{#1}}\\left(\\begin{array}{rrrrr}\n",
       "0 & 0 & 0 & 1 & 0 \\\\\n",
       "0 & 0 & 1 & 0 & 0 \\\\\n",
       "0 & 0 & 0 & 0 & 0 \\\\\n",
       "0 & 0 & 0 & 0 & 0 \\\\\n",
       "0 & 0 & 0 & 0 & 0\n",
       "\\end{array}\\right)</script></html>"
      ],
      "text/latex": [
       "$$\\newcommand{\\Bold}[1]{\\mathbf{#1}}\\left(\\begin{array}{rrrrr}\n",
       "0 & 0 & 0 & 1 & 0 \\\\\n",
       "0 & 0 & 1 & 0 & 0 \\\\\n",
       "0 & 0 & 0 & 0 & 0 \\\\\n",
       "0 & 0 & 0 & 0 & 0 \\\\\n",
       "0 & 0 & 0 & 0 & 0\n",
       "\\end{array}\\right)$$"
      ],
      "text/plain": [
       "[0 0 0 1 0]\n",
       "[0 0 1 0 0]\n",
       "[0 0 0 0 0]\n",
       "[0 0 0 0 0]\n",
       "[0 0 0 0 0]"
      ]
     },
     "metadata": {},
     "output_type": "display_data"
    },
    {
     "data": {
      "text/html": [
       "<html><script type=\"math/tex; mode=display\">\\newcommand{\\Bold}[1]{\\mathbf{#1}}\\left[\\left\\{d_{1} : r_{1047}, d_{2} : 0, d_{3} : 0, d_{4} : r_{1048}, d_{5} : r_{1049}, a_{12} : r_{1050}, a_{13} : r_{1051}, a_{14} : r_{1052}, a_{15} : r_{1053}, a_{23} : r_{1054}, a_{24} : r_{1055}, a_{25} : r_{1056}, a_{34} : -\\frac{r_{1048} x_{24}}{x_{23}}, a_{35} : r_{1057}, a_{45} : -\\frac{r_{1057} x_{23} + r_{1049} x_{25}}{x_{24}}\\right\\}, \\left\\{d_{1} : r_{1058}, d_{2} : r_{1059}, d_{3} : \\frac{r_{1059}}{x_{23}}, d_{4} : -\\frac{r_{1058} x_{23}}{x_{13} x_{24}}, d_{5} : r_{1060}, a_{12} : \\frac{r_{1059} x_{13}}{x_{23}}, a_{13} : r_{1061}, a_{14} : r_{1062}, a_{15} : r_{1063}, a_{23} : r_{1064}, a_{24} : r_{1065}, a_{25} : r_{1066}, a_{34} : \\frac{r_{1058}}{x_{13}}, a_{35} : -\\frac{r_{1060} x_{15}}{x_{13}}, a_{45} : \\frac{r_{1060} x_{15} x_{23} - r_{1060} x_{13} x_{25}}{x_{13} x_{24}}\\right\\}, \\left\\{d_{1} : r_{1067}, d_{2} : 0, d_{3} : 0, d_{4} : -\\frac{r_{1067} x_{23}}{x_{13} x_{24}}, d_{5} : r_{1068}, a_{12} : 0, a_{13} : r_{1069}, a_{14} : r_{1070}, a_{15} : r_{1071}, a_{23} : r_{1072}, a_{24} : r_{1073}, a_{25} : r_{1074}, a_{34} : \\frac{r_{1067}}{x_{13}}, a_{35} : r_{1075}, a_{45} : -\\frac{r_{1075} x_{23} + r_{1068} x_{25}}{x_{24}}\\right\\}\\right]</script></html>"
      ],
      "text/latex": [
       "$$\\newcommand{\\Bold}[1]{\\mathbf{#1}}\\left[\\left\\{d_{1} : r_{1047}, d_{2} : 0, d_{3} : 0, d_{4} : r_{1048}, d_{5} : r_{1049}, a_{12} : r_{1050}, a_{13} : r_{1051}, a_{14} : r_{1052}, a_{15} : r_{1053}, a_{23} : r_{1054}, a_{24} : r_{1055}, a_{25} : r_{1056}, a_{34} : -\\frac{r_{1048} x_{24}}{x_{23}}, a_{35} : r_{1057}, a_{45} : -\\frac{r_{1057} x_{23} + r_{1049} x_{25}}{x_{24}}\\right\\}, \\left\\{d_{1} : r_{1058}, d_{2} : r_{1059}, d_{3} : \\frac{r_{1059}}{x_{23}}, d_{4} : -\\frac{r_{1058} x_{23}}{x_{13} x_{24}}, d_{5} : r_{1060}, a_{12} : \\frac{r_{1059} x_{13}}{x_{23}}, a_{13} : r_{1061}, a_{14} : r_{1062}, a_{15} : r_{1063}, a_{23} : r_{1064}, a_{24} : r_{1065}, a_{25} : r_{1066}, a_{34} : \\frac{r_{1058}}{x_{13}}, a_{35} : -\\frac{r_{1060} x_{15}}{x_{13}}, a_{45} : \\frac{r_{1060} x_{15} x_{23} - r_{1060} x_{13} x_{25}}{x_{13} x_{24}}\\right\\}, \\left\\{d_{1} : r_{1067}, d_{2} : 0, d_{3} : 0, d_{4} : -\\frac{r_{1067} x_{23}}{x_{13} x_{24}}, d_{5} : r_{1068}, a_{12} : 0, a_{13} : r_{1069}, a_{14} : r_{1070}, a_{15} : r_{1071}, a_{23} : r_{1072}, a_{24} : r_{1073}, a_{25} : r_{1074}, a_{34} : \\frac{r_{1067}}{x_{13}}, a_{35} : r_{1075}, a_{45} : -\\frac{r_{1075} x_{23} + r_{1068} x_{25}}{x_{24}}\\right\\}\\right]$$"
      ],
      "text/plain": [
       "[{d1: r1047,\n",
       "  d2: 0,\n",
       "  d3: 0,\n",
       "  d4: r1048,\n",
       "  d5: r1049,\n",
       "  a12: r1050,\n",
       "  a13: r1051,\n",
       "  a14: r1052,\n",
       "  a15: r1053,\n",
       "  a23: r1054,\n",
       "  a24: r1055,\n",
       "  a25: r1056,\n",
       "  a34: -r1048*x24/x23,\n",
       "  a35: r1057,\n",
       "  a45: -(r1057*x23 + r1049*x25)/x24},\n",
       " {d1: r1058,\n",
       "  d2: r1059,\n",
       "  d3: r1059/x23,\n",
       "  d4: -r1058*x23/(x13*x24),\n",
       "  d5: r1060,\n",
       "  a12: r1059*x13/x23,\n",
       "  a13: r1061,\n",
       "  a14: r1062,\n",
       "  a15: r1063,\n",
       "  a23: r1064,\n",
       "  a24: r1065,\n",
       "  a25: r1066,\n",
       "  a34: r1058/x13,\n",
       "  a35: -r1060*x15/x13,\n",
       "  a45: (r1060*x15*x23 - r1060*x13*x25)/(x13*x24)},\n",
       " {d1: r1067,\n",
       "  d2: 0,\n",
       "  d3: 0,\n",
       "  d4: -r1067*x23/(x13*x24),\n",
       "  d5: r1068,\n",
       "  a12: 0,\n",
       "  a13: r1069,\n",
       "  a14: r1070,\n",
       "  a15: r1071,\n",
       "  a23: r1072,\n",
       "  a24: r1073,\n",
       "  a25: r1074,\n",
       "  a34: r1067/x13,\n",
       "  a35: r1075,\n",
       "  a45: -(r1075*x23 + r1068*x25)/x24}]"
      ]
     },
     "metadata": {},
     "output_type": "display_data"
    },
    {
     "data": {
      "text/plain": [
       "\\left[\\left\\{d_{1} : r_{1047}, d_{2} : 0, d_{3} : 0, d_{4} : r_{1048}, d_{5} : r_{1049}, a_{12} : r_{1050}, a_{13} : r_{1051}, a_{14} : r_{1052}, a_{15} : r_{1053}, a_{23} : r_{1054}, a_{24} : r_{1055}, a_{25} : r_{1056}, a_{34} : -\\frac{r_{1048} x_{24}}{x_{23}}, a_{35} : r_{1057}, a_{45} : -\\frac{r_{1057} x_{23} + r_{1049} x_{25}}{x_{24}}\\right\\}, \\left\\{d_{1} : r_{1058}, d_{2} : r_{1059}, d_{3} : \\frac{r_{1059}}{x_{23}}, d_{4} : -\\frac{r_{1058} x_{23}}{x_{13} x_{24}}, d_{5} : r_{1060}, a_{12} : \\frac{r_{1059} x_{13}}{x_{23}}, a_{13} : r_{1061}, a_{14} : r_{1062}, a_{15} : r_{1063}, a_{23} : r_{1064}, a_{24} : r_{1065}, a_{25} : r_{1066}, a_{34} : \\frac{r_{1058}}{x_{13}}, a_{35} : -\\frac{r_{1060} x_{15}}{x_{13}}, a_{45} : \\frac{r_{1060} x_{15} x_{23} - r_{1060} x_{13} x_{25}}{x_{13} x_{24}}\\right\\}, \\left\\{d_{1} : r_{1067}, d_{2} : 0, d_{3} : 0, d_{4} : -\\frac{r_{1067} x_{23}}{x_{13} x_{24}}, d_{5} : r_{1068}, a_{12} : 0, a_{13} : r_{1069}, a_{14} : r_{1070}, a_{15} : r_{1071}, a_{23} : r_{1072}, a_{24} : r_{1073}, a_{25} : r_{1074}, a_{34} : \\frac{r_{1067}}{x_{13}}, a_{35} : r_{1075}, a_{45} : -\\frac{r_{1075} x_{23} + r_{1068} x_{25}}{x_{24}}\\right\\}\\right]"
      ]
     },
     "execution_count": 46,
     "metadata": {},
     "output_type": "execute_result"
    }
   ],
   "source": [
    "#x3\n",
    "reset()\n",
    "\n",
    "var('x12,x13,x14,x15,x23,x24,x25,x34,x35,x45')\n",
    "var('d1,d2,d3,d4,d5')\n",
    "var('a12,a13,a14,a15,a23,a24,a25,a34,a35,a45')\n",
    "\n",
    "load_attach_path('C:\\\\Users\\\\julia\\\\Documents\\\\unb\\\\doutorado\\\\pensar\\\\codigo_sage_v2\\\\maquina\\\\x3')\n",
    "load('out_#011101.sage')\n",
    "\n",
    "m=matrix(QQ, [[0, 0, 0, 1, 0],\n",
    "              [0, 0, 1, 0, 0],\n",
    "              [0, 0, 0, 0, 0],\n",
    "              [0, 0, 0, 0, 0],\n",
    "              [0, 0, 0, 0, 0]])\n",
    "        \n",
    "#entry of matrix: (i,j) line i collum j, means (i-1,j-1)\n",
    "sol=solve([ eq1==m[0,2],\teq2==m[0,3],\teq3==m[0,4],\teq4==m[1,2],\t\n",
    "                                            eq5==m[1,3],    eq6==m[1,4],\n",
    "                                                            eq7==m[2,4]],d1,d2,d3,d4,d5,a12,a13,a14,a15,a23,a24,a25,a34,a35,a45, solution_dict=True)\n",
    "\n",
    "show(m)\n",
    "show(sol)\n",
    "latex(sol)"
   ]
  },
  {
   "cell_type": "code",
   "execution_count": 47,
   "metadata": {},
   "outputs": [
    {
     "data": {
      "text/html": [
       "<html><script type=\"math/tex; mode=display\">\\newcommand{\\Bold}[1]{\\mathbf{#1}}\\left(\\begin{array}{rrrrr}\n",
       "0 & 0 & 0 & 1 & 0 \\\\\n",
       "0 & 0 & 1 & 0 & 0 \\\\\n",
       "0 & 0 & 0 & 0 & 0 \\\\\n",
       "0 & 0 & 0 & 0 & 0 \\\\\n",
       "0 & 0 & 0 & 0 & 0\n",
       "\\end{array}\\right)</script></html>"
      ],
      "text/latex": [
       "$$\\newcommand{\\Bold}[1]{\\mathbf{#1}}\\left(\\begin{array}{rrrrr}\n",
       "0 & 0 & 0 & 1 & 0 \\\\\n",
       "0 & 0 & 1 & 0 & 0 \\\\\n",
       "0 & 0 & 0 & 0 & 0 \\\\\n",
       "0 & 0 & 0 & 0 & 0 \\\\\n",
       "0 & 0 & 0 & 0 & 0\n",
       "\\end{array}\\right)$$"
      ],
      "text/plain": [
       "[0 0 0 1 0]\n",
       "[0 0 1 0 0]\n",
       "[0 0 0 0 0]\n",
       "[0 0 0 0 0]\n",
       "[0 0 0 0 0]"
      ]
     },
     "metadata": {},
     "output_type": "display_data"
    },
    {
     "data": {
      "text/html": [
       "<html><script type=\"math/tex; mode=display\">\\newcommand{\\Bold}[1]{\\mathbf{#1}}\\left[\\left\\{d_{1} : r_{1076}, d_{2} : 0, d_{3} : 0, d_{4} : r_{1077}, d_{5} : r_{1078}, a_{12} : r_{1079}, a_{13} : r_{1080}, a_{14} : r_{1081}, a_{15} : r_{1082}, a_{23} : r_{1083}, a_{24} : r_{1084}, a_{25} : r_{1085}, a_{34} : -\\frac{r_{1077} x_{24}}{x_{23}}, a_{35} : r_{1086}, a_{45} : -\\frac{r_{1086} x_{23} + r_{1078} x_{25}}{x_{24}}\\right\\}, \\left\\{d_{1} : r_{1087}, d_{2} : r_{1088}, d_{3} : \\frac{r_{1088}}{x_{23}}, d_{4} : \\frac{r_{1087} x_{23}}{x_{14} x_{23} - x_{13} x_{24}}, d_{5} : r_{1089}, a_{12} : \\frac{r_{1088} x_{13}}{x_{23}}, a_{13} : r_{1090}, a_{14} : r_{1091}, a_{15} : r_{1092}, a_{23} : r_{1093}, a_{24} : r_{1094}, a_{25} : r_{1095}, a_{34} : -\\frac{r_{1087} x_{24}}{x_{14} x_{23} - x_{13} x_{24}}, a_{35} : -\\frac{r_{1089} x_{14} x_{25}}{x_{14} x_{23} - x_{13} x_{24}}, a_{45} : \\frac{r_{1089} x_{13} x_{25}}{x_{14} x_{23} - x_{13} x_{24}}\\right\\}, \\left\\{d_{1} : r_{1096}, d_{2} : 0, d_{3} : 0, d_{4} : \\frac{r_{1096} x_{23}}{x_{14} x_{23} - x_{13} x_{24}}, d_{5} : r_{1097}, a_{12} : 0, a_{13} : r_{1098}, a_{14} : r_{1099}, a_{15} : r_{1100}, a_{23} : r_{1101}, a_{24} : r_{1102}, a_{25} : r_{1103}, a_{34} : -\\frac{r_{1096} x_{24}}{x_{14} x_{23} - x_{13} x_{24}}, a_{35} : r_{1104}, a_{45} : -\\frac{r_{1104} x_{23} + r_{1097} x_{25}}{x_{24}}\\right\\}\\right]</script></html>"
      ],
      "text/latex": [
       "$$\\newcommand{\\Bold}[1]{\\mathbf{#1}}\\left[\\left\\{d_{1} : r_{1076}, d_{2} : 0, d_{3} : 0, d_{4} : r_{1077}, d_{5} : r_{1078}, a_{12} : r_{1079}, a_{13} : r_{1080}, a_{14} : r_{1081}, a_{15} : r_{1082}, a_{23} : r_{1083}, a_{24} : r_{1084}, a_{25} : r_{1085}, a_{34} : -\\frac{r_{1077} x_{24}}{x_{23}}, a_{35} : r_{1086}, a_{45} : -\\frac{r_{1086} x_{23} + r_{1078} x_{25}}{x_{24}}\\right\\}, \\left\\{d_{1} : r_{1087}, d_{2} : r_{1088}, d_{3} : \\frac{r_{1088}}{x_{23}}, d_{4} : \\frac{r_{1087} x_{23}}{x_{14} x_{23} - x_{13} x_{24}}, d_{5} : r_{1089}, a_{12} : \\frac{r_{1088} x_{13}}{x_{23}}, a_{13} : r_{1090}, a_{14} : r_{1091}, a_{15} : r_{1092}, a_{23} : r_{1093}, a_{24} : r_{1094}, a_{25} : r_{1095}, a_{34} : -\\frac{r_{1087} x_{24}}{x_{14} x_{23} - x_{13} x_{24}}, a_{35} : -\\frac{r_{1089} x_{14} x_{25}}{x_{14} x_{23} - x_{13} x_{24}}, a_{45} : \\frac{r_{1089} x_{13} x_{25}}{x_{14} x_{23} - x_{13} x_{24}}\\right\\}, \\left\\{d_{1} : r_{1096}, d_{2} : 0, d_{3} : 0, d_{4} : \\frac{r_{1096} x_{23}}{x_{14} x_{23} - x_{13} x_{24}}, d_{5} : r_{1097}, a_{12} : 0, a_{13} : r_{1098}, a_{14} : r_{1099}, a_{15} : r_{1100}, a_{23} : r_{1101}, a_{24} : r_{1102}, a_{25} : r_{1103}, a_{34} : -\\frac{r_{1096} x_{24}}{x_{14} x_{23} - x_{13} x_{24}}, a_{35} : r_{1104}, a_{45} : -\\frac{r_{1104} x_{23} + r_{1097} x_{25}}{x_{24}}\\right\\}\\right]$$"
      ],
      "text/plain": [
       "[{d1: r1076,\n",
       "  d2: 0,\n",
       "  d3: 0,\n",
       "  d4: r1077,\n",
       "  d5: r1078,\n",
       "  a12: r1079,\n",
       "  a13: r1080,\n",
       "  a14: r1081,\n",
       "  a15: r1082,\n",
       "  a23: r1083,\n",
       "  a24: r1084,\n",
       "  a25: r1085,\n",
       "  a34: -r1077*x24/x23,\n",
       "  a35: r1086,\n",
       "  a45: -(r1086*x23 + r1078*x25)/x24},\n",
       " {d1: r1087,\n",
       "  d2: r1088,\n",
       "  d3: r1088/x23,\n",
       "  d4: r1087*x23/(x14*x23 - x13*x24),\n",
       "  d5: r1089,\n",
       "  a12: r1088*x13/x23,\n",
       "  a13: r1090,\n",
       "  a14: r1091,\n",
       "  a15: r1092,\n",
       "  a23: r1093,\n",
       "  a24: r1094,\n",
       "  a25: r1095,\n",
       "  a34: -r1087*x24/(x14*x23 - x13*x24),\n",
       "  a35: -r1089*x14*x25/(x14*x23 - x13*x24),\n",
       "  a45: r1089*x13*x25/(x14*x23 - x13*x24)},\n",
       " {d1: r1096,\n",
       "  d2: 0,\n",
       "  d3: 0,\n",
       "  d4: r1096*x23/(x14*x23 - x13*x24),\n",
       "  d5: r1097,\n",
       "  a12: 0,\n",
       "  a13: r1098,\n",
       "  a14: r1099,\n",
       "  a15: r1100,\n",
       "  a23: r1101,\n",
       "  a24: r1102,\n",
       "  a25: r1103,\n",
       "  a34: -r1096*x24/(x14*x23 - x13*x24),\n",
       "  a35: r1104,\n",
       "  a45: -(r1104*x23 + r1097*x25)/x24}]"
      ]
     },
     "metadata": {},
     "output_type": "display_data"
    },
    {
     "data": {
      "text/plain": [
       "\\left[\\left\\{d_{1} : r_{1076}, d_{2} : 0, d_{3} : 0, d_{4} : r_{1077}, d_{5} : r_{1078}, a_{12} : r_{1079}, a_{13} : r_{1080}, a_{14} : r_{1081}, a_{15} : r_{1082}, a_{23} : r_{1083}, a_{24} : r_{1084}, a_{25} : r_{1085}, a_{34} : -\\frac{r_{1077} x_{24}}{x_{23}}, a_{35} : r_{1086}, a_{45} : -\\frac{r_{1086} x_{23} + r_{1078} x_{25}}{x_{24}}\\right\\}, \\left\\{d_{1} : r_{1087}, d_{2} : r_{1088}, d_{3} : \\frac{r_{1088}}{x_{23}}, d_{4} : \\frac{r_{1087} x_{23}}{x_{14} x_{23} - x_{13} x_{24}}, d_{5} : r_{1089}, a_{12} : \\frac{r_{1088} x_{13}}{x_{23}}, a_{13} : r_{1090}, a_{14} : r_{1091}, a_{15} : r_{1092}, a_{23} : r_{1093}, a_{24} : r_{1094}, a_{25} : r_{1095}, a_{34} : -\\frac{r_{1087} x_{24}}{x_{14} x_{23} - x_{13} x_{24}}, a_{35} : -\\frac{r_{1089} x_{14} x_{25}}{x_{14} x_{23} - x_{13} x_{24}}, a_{45} : \\frac{r_{1089} x_{13} x_{25}}{x_{14} x_{23} - x_{13} x_{24}}\\right\\}, \\left\\{d_{1} : r_{1096}, d_{2} : 0, d_{3} : 0, d_{4} : \\frac{r_{1096} x_{23}}{x_{14} x_{23} - x_{13} x_{24}}, d_{5} : r_{1097}, a_{12} : 0, a_{13} : r_{1098}, a_{14} : r_{1099}, a_{15} : r_{1100}, a_{23} : r_{1101}, a_{24} : r_{1102}, a_{25} : r_{1103}, a_{34} : -\\frac{r_{1096} x_{24}}{x_{14} x_{23} - x_{13} x_{24}}, a_{35} : r_{1104}, a_{45} : -\\frac{r_{1104} x_{23} + r_{1097} x_{25}}{x_{24}}\\right\\}\\right]"
      ]
     },
     "execution_count": 47,
     "metadata": {},
     "output_type": "execute_result"
    }
   ],
   "source": [
    "#x3\n",
    "#----------------------\n",
    "#x14 dif x13*x24/x23\n",
    "#----------------------\n",
    "reset()\n",
    "\n",
    "var('x12,x13,x14,x15,x23,x24,x25,x34,x35,x45')\n",
    "var('d1,d2,d3,d4,d5')\n",
    "var('a12,a13,a14,a15,a23,a24,a25,a34,a35,a45')\n",
    "\n",
    "load_attach_path('C:\\\\Users\\\\julia\\\\Documents\\\\unb\\\\doutorado\\\\pensar\\\\codigo_sage_v2\\\\maquina\\\\x3')\n",
    "load('out_#011110.sage')\n",
    "\n",
    "m=matrix(QQ, [[0, 0, 0, 1, 0],\n",
    "              [0, 0, 1, 0, 0],\n",
    "              [0, 0, 0, 0, 0],\n",
    "              [0, 0, 0, 0, 0],\n",
    "              [0, 0, 0, 0, 0]])\n",
    "        \n",
    "#entry of matrix: (i,j) line i collum j, means (i-1,j-1)\n",
    "sol=solve([ eq1==m[0,2],\teq2==m[0,3],\teq3==m[0,4],\teq4==m[1,2],\t\n",
    "                                            eq5==m[1,3],    eq6==m[1,4],\n",
    "                                                            eq7==m[2,4]],d1,d2,d3,d4,d5,a12,a13,a14,a15,a23,a24,a25,a34,a35,a45, solution_dict=True)\n",
    "\n",
    "show(m)\n",
    "show(sol)\n",
    "latex(sol)"
   ]
  },
  {
   "cell_type": "code",
   "execution_count": 50,
   "metadata": {},
   "outputs": [
    {
     "data": {
      "text/html": [
       "<html><script type=\"math/tex; mode=display\">\\newcommand{\\Bold}[1]{\\mathbf{#1}}\\left(\\begin{array}{rrrrr}\n",
       "0 & 0 & 0 & 0 & 1 \\\\\n",
       "0 & 0 & 1 & 0 & 0 \\\\\n",
       "0 & 0 & 0 & 0 & 0 \\\\\n",
       "0 & 0 & 0 & 0 & 0 \\\\\n",
       "0 & 0 & 0 & 0 & 0\n",
       "\\end{array}\\right)</script></html>"
      ],
      "text/latex": [
       "$$\\newcommand{\\Bold}[1]{\\mathbf{#1}}\\left(\\begin{array}{rrrrr}\n",
       "0 & 0 & 0 & 0 & 1 \\\\\n",
       "0 & 0 & 1 & 0 & 0 \\\\\n",
       "0 & 0 & 0 & 0 & 0 \\\\\n",
       "0 & 0 & 0 & 0 & 0 \\\\\n",
       "0 & 0 & 0 & 0 & 0\n",
       "\\end{array}\\right)$$"
      ],
      "text/plain": [
       "[0 0 0 0 1]\n",
       "[0 0 1 0 0]\n",
       "[0 0 0 0 0]\n",
       "[0 0 0 0 0]\n",
       "[0 0 0 0 0]"
      ]
     },
     "metadata": {},
     "output_type": "display_data"
    },
    {
     "data": {
      "text/html": [
       "<html><script type=\"math/tex; mode=display\">\\newcommand{\\Bold}[1]{\\mathbf{#1}}\\left[\\left\\{d_{1} : r_{1146}, d_{2} : 0, d_{3} : 0, d_{4} : r_{1147}, d_{5} : r_{1148}, a_{12} : r_{1149}, a_{13} : r_{1150}, a_{14} : r_{1151}, a_{15} : r_{1152}, a_{23} : r_{1153}, a_{24} : r_{1154}, a_{25} : r_{1155}, a_{34} : -\\frac{r_{1147} x_{24}}{x_{23}}, a_{35} : r_{1156}, a_{45} : -\\frac{r_{1156} x_{23} + r_{1148} x_{25}}{x_{24}}\\right\\}, \\left\\{d_{1} : r_{1157}, d_{2} : r_{1158}, d_{3} : \\frac{r_{1158}}{x_{23}}, d_{4} : r_{1159}, d_{5} : -\\frac{r_{1157} x_{23}}{x_{13} x_{25}}, a_{12} : \\frac{r_{1158} x_{13}}{x_{23}}, a_{13} : r_{1160}, a_{14} : r_{1161}, a_{15} : r_{1162}, a_{23} : r_{1163}, a_{24} : r_{1164}, a_{25} : r_{1165}, a_{34} : -\\frac{r_{1159} x_{24}}{x_{23}}, a_{35} : r_{1166}, a_{45} : -\\frac{{\\left(r_{1166} x_{13} - r_{1157}\\right)} x_{23}}{x_{13} x_{24}}\\right\\}\\right]</script></html>"
      ],
      "text/latex": [
       "$$\\newcommand{\\Bold}[1]{\\mathbf{#1}}\\left[\\left\\{d_{1} : r_{1146}, d_{2} : 0, d_{3} : 0, d_{4} : r_{1147}, d_{5} : r_{1148}, a_{12} : r_{1149}, a_{13} : r_{1150}, a_{14} : r_{1151}, a_{15} : r_{1152}, a_{23} : r_{1153}, a_{24} : r_{1154}, a_{25} : r_{1155}, a_{34} : -\\frac{r_{1147} x_{24}}{x_{23}}, a_{35} : r_{1156}, a_{45} : -\\frac{r_{1156} x_{23} + r_{1148} x_{25}}{x_{24}}\\right\\}, \\left\\{d_{1} : r_{1157}, d_{2} : r_{1158}, d_{3} : \\frac{r_{1158}}{x_{23}}, d_{4} : r_{1159}, d_{5} : -\\frac{r_{1157} x_{23}}{x_{13} x_{25}}, a_{12} : \\frac{r_{1158} x_{13}}{x_{23}}, a_{13} : r_{1160}, a_{14} : r_{1161}, a_{15} : r_{1162}, a_{23} : r_{1163}, a_{24} : r_{1164}, a_{25} : r_{1165}, a_{34} : -\\frac{r_{1159} x_{24}}{x_{23}}, a_{35} : r_{1166}, a_{45} : -\\frac{{\\left(r_{1166} x_{13} - r_{1157}\\right)} x_{23}}{x_{13} x_{24}}\\right\\}\\right]$$"
      ],
      "text/plain": [
       "[{d1: r1146,\n",
       "  d2: 0,\n",
       "  d3: 0,\n",
       "  d4: r1147,\n",
       "  d5: r1148,\n",
       "  a12: r1149,\n",
       "  a13: r1150,\n",
       "  a14: r1151,\n",
       "  a15: r1152,\n",
       "  a23: r1153,\n",
       "  a24: r1154,\n",
       "  a25: r1155,\n",
       "  a34: -r1147*x24/x23,\n",
       "  a35: r1156,\n",
       "  a45: -(r1156*x23 + r1148*x25)/x24},\n",
       " {d1: r1157,\n",
       "  d2: r1158,\n",
       "  d3: r1158/x23,\n",
       "  d4: r1159,\n",
       "  d5: -r1157*x23/(x13*x25),\n",
       "  a12: r1158*x13/x23,\n",
       "  a13: r1160,\n",
       "  a14: r1161,\n",
       "  a15: r1162,\n",
       "  a23: r1163,\n",
       "  a24: r1164,\n",
       "  a25: r1165,\n",
       "  a34: -r1159*x24/x23,\n",
       "  a35: r1166,\n",
       "  a45: -(r1166*x13 - r1157)*x23/(x13*x24)}]"
      ]
     },
     "metadata": {},
     "output_type": "display_data"
    },
    {
     "data": {
      "text/plain": [
       "\\left[\\left\\{d_{1} : r_{1146}, d_{2} : 0, d_{3} : 0, d_{4} : r_{1147}, d_{5} : r_{1148}, a_{12} : r_{1149}, a_{13} : r_{1150}, a_{14} : r_{1151}, a_{15} : r_{1152}, a_{23} : r_{1153}, a_{24} : r_{1154}, a_{25} : r_{1155}, a_{34} : -\\frac{r_{1147} x_{24}}{x_{23}}, a_{35} : r_{1156}, a_{45} : -\\frac{r_{1156} x_{23} + r_{1148} x_{25}}{x_{24}}\\right\\}, \\left\\{d_{1} : r_{1157}, d_{2} : r_{1158}, d_{3} : \\frac{r_{1158}}{x_{23}}, d_{4} : r_{1159}, d_{5} : -\\frac{r_{1157} x_{23}}{x_{13} x_{25}}, a_{12} : \\frac{r_{1158} x_{13}}{x_{23}}, a_{13} : r_{1160}, a_{14} : r_{1161}, a_{15} : r_{1162}, a_{23} : r_{1163}, a_{24} : r_{1164}, a_{25} : r_{1165}, a_{34} : -\\frac{r_{1159} x_{24}}{x_{23}}, a_{35} : r_{1166}, a_{45} : -\\frac{{\\left(r_{1166} x_{13} - r_{1157}\\right)} x_{23}}{x_{13} x_{24}}\\right\\}\\right]"
      ]
     },
     "execution_count": 50,
     "metadata": {},
     "output_type": "execute_result"
    }
   ],
   "source": [
    "#x3\n",
    "#----------------------\n",
    "#x14 = x13*x24/x23\n",
    "#----------------------\n",
    "reset()\n",
    "\n",
    "var('x12,x13,x14,x15,x23,x24,x25,x34,x35,x45')\n",
    "var('d1,d2,d3,d4,d5')\n",
    "var('a12,a13,a14,a15,a23,a24,a25,a34,a35,a45')\n",
    "\n",
    "#011110\n",
    "eq1=(d2*d3*x13-a12*d3*x23)/(d1*d2) \n",
    "eq2=(a34*d2*x13+d2*d4*((x13*x24)/x23)-a12*a34*x23-a12*d4*x24)/(d1*d2) \n",
    "eq3=(a35*d2*d3*x13+a45*d2*d3*((x13*x24)/x23)+d2*d3*d5*0-a12*a35*d3*x23-a12*a45*d3*x24-a12*d3*d5*x25+a12*a23*d5*0-a13*d2*d5*0)/(d1*d2*d3) \n",
    "eq4=(d3*x23)/(d2) \n",
    "eq5=(a34*x23+d4*x24)/(d2) \n",
    "eq6=(a35*d3*x23+a45*d3*x24+d3*d5*x25-a23*d5*0)/(d2*d3) \n",
    "eq7=(d5*0)/(d3) \n",
    "\n",
    "m=matrix(QQ, [[0, 0, 0, 0, 1],\n",
    "              [0, 0, 1, 0, 0],\n",
    "              [0, 0, 0, 0, 0],\n",
    "              [0, 0, 0, 0, 0],\n",
    "              [0, 0, 0, 0, 0]])\n",
    "        \n",
    "#entry of matrix: (i,j) line i collum j, means (i-1,j-1)\n",
    "sol=solve([ eq1==m[0,2],\teq2==m[0,3],\teq3==m[0,4],\teq4==m[1,2],\t\n",
    "                                            eq5==m[1,3],    eq6==m[1,4],\n",
    "                                                            eq7==m[2,4]],d1,d2,d3,d4,d5,a12,a13,a14,a15,a23,a24,a25,a34,a35,a45, solution_dict=True)\n",
    "\n",
    "show(m)\n",
    "show(sol)\n",
    "latex(sol)"
   ]
  },
  {
   "cell_type": "code",
   "execution_count": 51,
   "metadata": {},
   "outputs": [
    {
     "data": {
      "text/html": [
       "<html><script type=\"math/tex; mode=display\">\\newcommand{\\Bold}[1]{\\mathbf{#1}}\\left(\\begin{array}{rrrrr}\n",
       "0 & 0 & 0 & 1 & 0 \\\\\n",
       "0 & 0 & 1 & 0 & 0 \\\\\n",
       "0 & 0 & 0 & 0 & 0 \\\\\n",
       "0 & 0 & 0 & 0 & 0 \\\\\n",
       "0 & 0 & 0 & 0 & 0\n",
       "\\end{array}\\right)</script></html>"
      ],
      "text/latex": [
       "$$\\newcommand{\\Bold}[1]{\\mathbf{#1}}\\left(\\begin{array}{rrrrr}\n",
       "0 & 0 & 0 & 1 & 0 \\\\\n",
       "0 & 0 & 1 & 0 & 0 \\\\\n",
       "0 & 0 & 0 & 0 & 0 \\\\\n",
       "0 & 0 & 0 & 0 & 0 \\\\\n",
       "0 & 0 & 0 & 0 & 0\n",
       "\\end{array}\\right)$$"
      ],
      "text/plain": [
       "[0 0 0 1 0]\n",
       "[0 0 1 0 0]\n",
       "[0 0 0 0 0]\n",
       "[0 0 0 0 0]\n",
       "[0 0 0 0 0]"
      ]
     },
     "metadata": {},
     "output_type": "display_data"
    },
    {
     "data": {
      "text/html": [
       "<html><script type=\"math/tex; mode=display\">\\newcommand{\\Bold}[1]{\\mathbf{#1}}\\left[\\left\\{d_{1} : r_{1167}, d_{2} : 0, d_{3} : 0, d_{4} : r_{1168}, d_{5} : r_{1169}, a_{12} : r_{1170}, a_{13} : r_{1171}, a_{14} : r_{1172}, a_{15} : r_{1173}, a_{23} : r_{1174}, a_{24} : r_{1175}, a_{25} : r_{1176}, a_{34} : -\\frac{r_{1168} x_{24}}{x_{23}}, a_{35} : r_{1177}, a_{45} : -\\frac{r_{1177} x_{23} + r_{1169} x_{25}}{x_{24}}\\right\\}, \\left\\{d_{1} : r_{1178}, d_{2} : r_{1179}, d_{3} : \\frac{r_{1179}}{x_{23}}, d_{4} : \\frac{r_{1178} x_{23}}{x_{14} x_{23} - x_{13} x_{24}}, d_{5} : r_{1180}, a_{12} : \\frac{r_{1179} x_{13}}{x_{23}}, a_{13} : r_{1181}, a_{14} : r_{1182}, a_{15} : r_{1183}, a_{23} : r_{1184}, a_{24} : r_{1185}, a_{25} : r_{1186}, a_{34} : -\\frac{r_{1178} x_{24}}{x_{14} x_{23} - x_{13} x_{24}}, a_{35} : \\frac{r_{1180} x_{15} x_{24} - r_{1180} x_{14} x_{25}}{x_{14} x_{23} - x_{13} x_{24}}, a_{45} : -\\frac{r_{1180} x_{15} x_{23} - r_{1180} x_{13} x_{25}}{x_{14} x_{23} - x_{13} x_{24}}\\right\\}, \\left\\{d_{1} : r_{1187}, d_{2} : 0, d_{3} : 0, d_{4} : \\frac{r_{1187} x_{23}}{x_{14} x_{23} - x_{13} x_{24}}, d_{5} : r_{1188}, a_{12} : 0, a_{13} : r_{1189}, a_{14} : r_{1190}, a_{15} : r_{1191}, a_{23} : r_{1192}, a_{24} : r_{1193}, a_{25} : r_{1194}, a_{34} : -\\frac{r_{1187} x_{24}}{x_{14} x_{23} - x_{13} x_{24}}, a_{35} : r_{1195}, a_{45} : -\\frac{r_{1195} x_{23} + r_{1188} x_{25}}{x_{24}}\\right\\}\\right]</script></html>"
      ],
      "text/latex": [
       "$$\\newcommand{\\Bold}[1]{\\mathbf{#1}}\\left[\\left\\{d_{1} : r_{1167}, d_{2} : 0, d_{3} : 0, d_{4} : r_{1168}, d_{5} : r_{1169}, a_{12} : r_{1170}, a_{13} : r_{1171}, a_{14} : r_{1172}, a_{15} : r_{1173}, a_{23} : r_{1174}, a_{24} : r_{1175}, a_{25} : r_{1176}, a_{34} : -\\frac{r_{1168} x_{24}}{x_{23}}, a_{35} : r_{1177}, a_{45} : -\\frac{r_{1177} x_{23} + r_{1169} x_{25}}{x_{24}}\\right\\}, \\left\\{d_{1} : r_{1178}, d_{2} : r_{1179}, d_{3} : \\frac{r_{1179}}{x_{23}}, d_{4} : \\frac{r_{1178} x_{23}}{x_{14} x_{23} - x_{13} x_{24}}, d_{5} : r_{1180}, a_{12} : \\frac{r_{1179} x_{13}}{x_{23}}, a_{13} : r_{1181}, a_{14} : r_{1182}, a_{15} : r_{1183}, a_{23} : r_{1184}, a_{24} : r_{1185}, a_{25} : r_{1186}, a_{34} : -\\frac{r_{1178} x_{24}}{x_{14} x_{23} - x_{13} x_{24}}, a_{35} : \\frac{r_{1180} x_{15} x_{24} - r_{1180} x_{14} x_{25}}{x_{14} x_{23} - x_{13} x_{24}}, a_{45} : -\\frac{r_{1180} x_{15} x_{23} - r_{1180} x_{13} x_{25}}{x_{14} x_{23} - x_{13} x_{24}}\\right\\}, \\left\\{d_{1} : r_{1187}, d_{2} : 0, d_{3} : 0, d_{4} : \\frac{r_{1187} x_{23}}{x_{14} x_{23} - x_{13} x_{24}}, d_{5} : r_{1188}, a_{12} : 0, a_{13} : r_{1189}, a_{14} : r_{1190}, a_{15} : r_{1191}, a_{23} : r_{1192}, a_{24} : r_{1193}, a_{25} : r_{1194}, a_{34} : -\\frac{r_{1187} x_{24}}{x_{14} x_{23} - x_{13} x_{24}}, a_{35} : r_{1195}, a_{45} : -\\frac{r_{1195} x_{23} + r_{1188} x_{25}}{x_{24}}\\right\\}\\right]$$"
      ],
      "text/plain": [
       "[{d1: r1167,\n",
       "  d2: 0,\n",
       "  d3: 0,\n",
       "  d4: r1168,\n",
       "  d5: r1169,\n",
       "  a12: r1170,\n",
       "  a13: r1171,\n",
       "  a14: r1172,\n",
       "  a15: r1173,\n",
       "  a23: r1174,\n",
       "  a24: r1175,\n",
       "  a25: r1176,\n",
       "  a34: -r1168*x24/x23,\n",
       "  a35: r1177,\n",
       "  a45: -(r1177*x23 + r1169*x25)/x24},\n",
       " {d1: r1178,\n",
       "  d2: r1179,\n",
       "  d3: r1179/x23,\n",
       "  d4: r1178*x23/(x14*x23 - x13*x24),\n",
       "  d5: r1180,\n",
       "  a12: r1179*x13/x23,\n",
       "  a13: r1181,\n",
       "  a14: r1182,\n",
       "  a15: r1183,\n",
       "  a23: r1184,\n",
       "  a24: r1185,\n",
       "  a25: r1186,\n",
       "  a34: -r1178*x24/(x14*x23 - x13*x24),\n",
       "  a35: (r1180*x15*x24 - r1180*x14*x25)/(x14*x23 - x13*x24),\n",
       "  a45: -(r1180*x15*x23 - r1180*x13*x25)/(x14*x23 - x13*x24)},\n",
       " {d1: r1187,\n",
       "  d2: 0,\n",
       "  d3: 0,\n",
       "  d4: r1187*x23/(x14*x23 - x13*x24),\n",
       "  d5: r1188,\n",
       "  a12: 0,\n",
       "  a13: r1189,\n",
       "  a14: r1190,\n",
       "  a15: r1191,\n",
       "  a23: r1192,\n",
       "  a24: r1193,\n",
       "  a25: r1194,\n",
       "  a34: -r1187*x24/(x14*x23 - x13*x24),\n",
       "  a35: r1195,\n",
       "  a45: -(r1195*x23 + r1188*x25)/x24}]"
      ]
     },
     "metadata": {},
     "output_type": "display_data"
    },
    {
     "data": {
      "text/plain": [
       "\\left[\\left\\{d_{1} : r_{1167}, d_{2} : 0, d_{3} : 0, d_{4} : r_{1168}, d_{5} : r_{1169}, a_{12} : r_{1170}, a_{13} : r_{1171}, a_{14} : r_{1172}, a_{15} : r_{1173}, a_{23} : r_{1174}, a_{24} : r_{1175}, a_{25} : r_{1176}, a_{34} : -\\frac{r_{1168} x_{24}}{x_{23}}, a_{35} : r_{1177}, a_{45} : -\\frac{r_{1177} x_{23} + r_{1169} x_{25}}{x_{24}}\\right\\}, \\left\\{d_{1} : r_{1178}, d_{2} : r_{1179}, d_{3} : \\frac{r_{1179}}{x_{23}}, d_{4} : \\frac{r_{1178} x_{23}}{x_{14} x_{23} - x_{13} x_{24}}, d_{5} : r_{1180}, a_{12} : \\frac{r_{1179} x_{13}}{x_{23}}, a_{13} : r_{1181}, a_{14} : r_{1182}, a_{15} : r_{1183}, a_{23} : r_{1184}, a_{24} : r_{1185}, a_{25} : r_{1186}, a_{34} : -\\frac{r_{1178} x_{24}}{x_{14} x_{23} - x_{13} x_{24}}, a_{35} : \\frac{r_{1180} x_{15} x_{24} - r_{1180} x_{14} x_{25}}{x_{14} x_{23} - x_{13} x_{24}}, a_{45} : -\\frac{r_{1180} x_{15} x_{23} - r_{1180} x_{13} x_{25}}{x_{14} x_{23} - x_{13} x_{24}}\\right\\}, \\left\\{d_{1} : r_{1187}, d_{2} : 0, d_{3} : 0, d_{4} : \\frac{r_{1187} x_{23}}{x_{14} x_{23} - x_{13} x_{24}}, d_{5} : r_{1188}, a_{12} : 0, a_{13} : r_{1189}, a_{14} : r_{1190}, a_{15} : r_{1191}, a_{23} : r_{1192}, a_{24} : r_{1193}, a_{25} : r_{1194}, a_{34} : -\\frac{r_{1187} x_{24}}{x_{14} x_{23} - x_{13} x_{24}}, a_{35} : r_{1195}, a_{45} : -\\frac{r_{1195} x_{23} + r_{1188} x_{25}}{x_{24}}\\right\\}\\right]"
      ]
     },
     "execution_count": 51,
     "metadata": {},
     "output_type": "execute_result"
    }
   ],
   "source": [
    "#x3\n",
    "#----------------------\n",
    "#x14 dif x13*x24/x23\n",
    "#----------------------\n",
    "reset()\n",
    "\n",
    "var('x12,x13,x14,x15,x23,x24,x25,x34,x35,x45')\n",
    "var('d1,d2,d3,d4,d5')\n",
    "var('a12,a13,a14,a15,a23,a24,a25,a34,a35,a45')\n",
    "\n",
    "load_attach_path('C:\\\\Users\\\\julia\\\\Documents\\\\unb\\\\doutorado\\\\pensar\\\\codigo_sage_v2\\\\maquina\\\\x3')\n",
    "load('out_#011111.sage')\n",
    "\n",
    "m=matrix(QQ, [[0, 0, 0, 1, 0],\n",
    "              [0, 0, 1, 0, 0],\n",
    "              [0, 0, 0, 0, 0],\n",
    "              [0, 0, 0, 0, 0],\n",
    "              [0, 0, 0, 0, 0]])\n",
    "        \n",
    "#entry of matrix: (i,j) line i collum j, means (i-1,j-1)\n",
    "sol=solve([ eq1==m[0,2],\teq2==m[0,3],\teq3==m[0,4],\teq4==m[1,2],\t\n",
    "                                            eq5==m[1,3],    eq6==m[1,4],\n",
    "                                                            eq7==m[2,4]],d1,d2,d3,d4,d5,a12,a13,a14,a15,a23,a24,a25,a34,a35,a45, solution_dict=True)\n",
    "\n",
    "show(m)\n",
    "show(sol)\n",
    "latex(sol)"
   ]
  },
  {
   "cell_type": "code",
   "execution_count": 52,
   "metadata": {},
   "outputs": [
    {
     "data": {
      "text/html": [
       "<html><script type=\"math/tex; mode=display\">\\newcommand{\\Bold}[1]{\\mathbf{#1}}\\left(\\begin{array}{rrrrr}\n",
       "0 & 0 & 0 & 0 & 1 \\\\\n",
       "0 & 0 & 1 & 0 & 0 \\\\\n",
       "0 & 0 & 0 & 0 & 0 \\\\\n",
       "0 & 0 & 0 & 0 & 0 \\\\\n",
       "0 & 0 & 0 & 0 & 0\n",
       "\\end{array}\\right)</script></html>"
      ],
      "text/latex": [
       "$$\\newcommand{\\Bold}[1]{\\mathbf{#1}}\\left(\\begin{array}{rrrrr}\n",
       "0 & 0 & 0 & 0 & 1 \\\\\n",
       "0 & 0 & 1 & 0 & 0 \\\\\n",
       "0 & 0 & 0 & 0 & 0 \\\\\n",
       "0 & 0 & 0 & 0 & 0 \\\\\n",
       "0 & 0 & 0 & 0 & 0\n",
       "\\end{array}\\right)$$"
      ],
      "text/plain": [
       "[0 0 0 0 1]\n",
       "[0 0 1 0 0]\n",
       "[0 0 0 0 0]\n",
       "[0 0 0 0 0]\n",
       "[0 0 0 0 0]"
      ]
     },
     "metadata": {},
     "output_type": "display_data"
    },
    {
     "data": {
      "text/html": [
       "<html><script type=\"math/tex; mode=display\">\\newcommand{\\Bold}[1]{\\mathbf{#1}}\\left[\\left\\{d_{1} : r_{1196}, d_{2} : 0, d_{3} : 0, d_{4} : r_{1197}, d_{5} : r_{1198}, a_{12} : r_{1199}, a_{13} : r_{1200}, a_{14} : r_{1201}, a_{15} : r_{1202}, a_{23} : r_{1203}, a_{24} : r_{1204}, a_{25} : r_{1205}, a_{34} : -\\frac{r_{1197} x_{24}}{x_{23}}, a_{35} : r_{1206}, a_{45} : -\\frac{r_{1206} x_{23} + r_{1198} x_{25}}{x_{24}}\\right\\}, \\left\\{d_{1} : r_{1207}, d_{2} : r_{1208}, d_{3} : \\frac{r_{1208}}{x_{23}}, d_{4} : r_{1209}, d_{5} : \\frac{r_{1207} x_{23}}{x_{15} x_{23} - x_{13} x_{25}}, a_{12} : \\frac{r_{1208} x_{13}}{x_{23}}, a_{13} : r_{1210}, a_{14} : r_{1211}, a_{15} : r_{1212}, a_{23} : r_{1213}, a_{24} : r_{1214}, a_{25} : r_{1215}, a_{34} : -\\frac{r_{1209} x_{24}}{x_{23}}, a_{35} : r_{1216}, a_{45} : -\\frac{r_{1216} x_{15} x_{23}^{2} - {\\left(r_{1216} x_{13} - r_{1207}\\right)} x_{23} x_{25}}{x_{15} x_{23} x_{24} - x_{13} x_{24} x_{25}}\\right\\}\\right]</script></html>"
      ],
      "text/latex": [
       "$$\\newcommand{\\Bold}[1]{\\mathbf{#1}}\\left[\\left\\{d_{1} : r_{1196}, d_{2} : 0, d_{3} : 0, d_{4} : r_{1197}, d_{5} : r_{1198}, a_{12} : r_{1199}, a_{13} : r_{1200}, a_{14} : r_{1201}, a_{15} : r_{1202}, a_{23} : r_{1203}, a_{24} : r_{1204}, a_{25} : r_{1205}, a_{34} : -\\frac{r_{1197} x_{24}}{x_{23}}, a_{35} : r_{1206}, a_{45} : -\\frac{r_{1206} x_{23} + r_{1198} x_{25}}{x_{24}}\\right\\}, \\left\\{d_{1} : r_{1207}, d_{2} : r_{1208}, d_{3} : \\frac{r_{1208}}{x_{23}}, d_{4} : r_{1209}, d_{5} : \\frac{r_{1207} x_{23}}{x_{15} x_{23} - x_{13} x_{25}}, a_{12} : \\frac{r_{1208} x_{13}}{x_{23}}, a_{13} : r_{1210}, a_{14} : r_{1211}, a_{15} : r_{1212}, a_{23} : r_{1213}, a_{24} : r_{1214}, a_{25} : r_{1215}, a_{34} : -\\frac{r_{1209} x_{24}}{x_{23}}, a_{35} : r_{1216}, a_{45} : -\\frac{r_{1216} x_{15} x_{23}^{2} - {\\left(r_{1216} x_{13} - r_{1207}\\right)} x_{23} x_{25}}{x_{15} x_{23} x_{24} - x_{13} x_{24} x_{25}}\\right\\}\\right]$$"
      ],
      "text/plain": [
       "[{d1: r1196,\n",
       "  d2: 0,\n",
       "  d3: 0,\n",
       "  d4: r1197,\n",
       "  d5: r1198,\n",
       "  a12: r1199,\n",
       "  a13: r1200,\n",
       "  a14: r1201,\n",
       "  a15: r1202,\n",
       "  a23: r1203,\n",
       "  a24: r1204,\n",
       "  a25: r1205,\n",
       "  a34: -r1197*x24/x23,\n",
       "  a35: r1206,\n",
       "  a45: -(r1206*x23 + r1198*x25)/x24},\n",
       " {d1: r1207,\n",
       "  d2: r1208,\n",
       "  d3: r1208/x23,\n",
       "  d4: r1209,\n",
       "  d5: r1207*x23/(x15*x23 - x13*x25),\n",
       "  a12: r1208*x13/x23,\n",
       "  a13: r1210,\n",
       "  a14: r1211,\n",
       "  a15: r1212,\n",
       "  a23: r1213,\n",
       "  a24: r1214,\n",
       "  a25: r1215,\n",
       "  a34: -r1209*x24/x23,\n",
       "  a35: r1216,\n",
       "  a45: -(r1216*x15*x23^2 - (r1216*x13 - r1207)*x23*x25)/(x15*x23*x24 - x13*x24*x25)}]"
      ]
     },
     "metadata": {},
     "output_type": "display_data"
    },
    {
     "data": {
      "text/plain": [
       "\\left[\\left\\{d_{1} : r_{1196}, d_{2} : 0, d_{3} : 0, d_{4} : r_{1197}, d_{5} : r_{1198}, a_{12} : r_{1199}, a_{13} : r_{1200}, a_{14} : r_{1201}, a_{15} : r_{1202}, a_{23} : r_{1203}, a_{24} : r_{1204}, a_{25} : r_{1205}, a_{34} : -\\frac{r_{1197} x_{24}}{x_{23}}, a_{35} : r_{1206}, a_{45} : -\\frac{r_{1206} x_{23} + r_{1198} x_{25}}{x_{24}}\\right\\}, \\left\\{d_{1} : r_{1207}, d_{2} : r_{1208}, d_{3} : \\frac{r_{1208}}{x_{23}}, d_{4} : r_{1209}, d_{5} : \\frac{r_{1207} x_{23}}{x_{15} x_{23} - x_{13} x_{25}}, a_{12} : \\frac{r_{1208} x_{13}}{x_{23}}, a_{13} : r_{1210}, a_{14} : r_{1211}, a_{15} : r_{1212}, a_{23} : r_{1213}, a_{24} : r_{1214}, a_{25} : r_{1215}, a_{34} : -\\frac{r_{1209} x_{24}}{x_{23}}, a_{35} : r_{1216}, a_{45} : -\\frac{r_{1216} x_{15} x_{23}^{2} - {\\left(r_{1216} x_{13} - r_{1207}\\right)} x_{23} x_{25}}{x_{15} x_{23} x_{24} - x_{13} x_{24} x_{25}}\\right\\}\\right]"
      ]
     },
     "execution_count": 52,
     "metadata": {},
     "output_type": "execute_result"
    }
   ],
   "source": [
    "#x3\n",
    "#----------------------\n",
    "# x14 = x13*x24/x23\n",
    "# &\n",
    "# x15 \\neq x13*x25/x23\n",
    "#----------------------\n",
    "reset()\n",
    "\n",
    "var('x12,x13,x14,x15,x23,x24,x25,x34,x35,x45')\n",
    "var('d1,d2,d3,d4,d5')\n",
    "var('a12,a13,a14,a15,a23,a24,a25,a34,a35,a45')\n",
    "\n",
    "#011111\n",
    "eq1=(d2*d3*x13-a12*d3*x23)/(d1*d2) \n",
    "eq2=(a34*d2*x13+d2*d4*((x13*x24)/x23)-a12*a34*x23-a12*d4*x24)/(d1*d2) \n",
    "eq3=(a35*d2*d3*x13+a45*d2*d3*((x13*x24)/x23)+d2*d3*d5*x15-a12*a35*d3*x23-a12*a45*d3*x24-a12*d3*d5*x25+a12*a23*d5*0-a13*d2*d5*0)/(d1*d2*d3) \n",
    "eq4=(d3*x23)/(d2) \n",
    "eq5=(a34*x23+d4*x24)/(d2) \n",
    "eq6=(a35*d3*x23+a45*d3*x24+d3*d5*x25-a23*d5*0)/(d2*d3) \n",
    "eq7=(d5*0)/(d3) \n",
    "\n",
    "m=matrix(QQ, [[0, 0, 0, 0, 1],\n",
    "              [0, 0, 1, 0, 0],\n",
    "              [0, 0, 0, 0, 0],\n",
    "              [0, 0, 0, 0, 0],\n",
    "              [0, 0, 0, 0, 0]])\n",
    "        \n",
    "#entry of matrix: (i,j) line i collum j, means (i-1,j-1)\n",
    "sol=solve([ eq1==m[0,2],\teq2==m[0,3],\teq3==m[0,4],\teq4==m[1,2],\t\n",
    "                                            eq5==m[1,3],    eq6==m[1,4],\n",
    "                                                            eq7==m[2,4]],d1,d2,d3,d4,d5,a12,a13,a14,a15,a23,a24,a25,a34,a35,a45, solution_dict=True)\n",
    "\n",
    "show(m)\n",
    "show(sol)\n",
    "latex(sol)"
   ]
  },
  {
   "cell_type": "code",
   "execution_count": 53,
   "metadata": {},
   "outputs": [
    {
     "data": {
      "text/html": [
       "<html><script type=\"math/tex; mode=display\">\\newcommand{\\Bold}[1]{\\mathbf{#1}}\\left(\\begin{array}{rrrrr}\n",
       "0 & 0 & 0 & 0 & 0 \\\\\n",
       "0 & 0 & 1 & 0 & 0 \\\\\n",
       "0 & 0 & 0 & 0 & 0 \\\\\n",
       "0 & 0 & 0 & 0 & 0 \\\\\n",
       "0 & 0 & 0 & 0 & 0\n",
       "\\end{array}\\right)</script></html>"
      ],
      "text/latex": [
       "$$\\newcommand{\\Bold}[1]{\\mathbf{#1}}\\left(\\begin{array}{rrrrr}\n",
       "0 & 0 & 0 & 0 & 0 \\\\\n",
       "0 & 0 & 1 & 0 & 0 \\\\\n",
       "0 & 0 & 0 & 0 & 0 \\\\\n",
       "0 & 0 & 0 & 0 & 0 \\\\\n",
       "0 & 0 & 0 & 0 & 0\n",
       "\\end{array}\\right)$$"
      ],
      "text/plain": [
       "[0 0 0 0 0]\n",
       "[0 0 1 0 0]\n",
       "[0 0 0 0 0]\n",
       "[0 0 0 0 0]\n",
       "[0 0 0 0 0]"
      ]
     },
     "metadata": {},
     "output_type": "display_data"
    },
    {
     "data": {
      "text/html": [
       "<html><script type=\"math/tex; mode=display\">\\newcommand{\\Bold}[1]{\\mathbf{#1}}\\left[\\left\\{d_{1} : r_{1217}, d_{2} : 0, d_{3} : 0, d_{4} : r_{1218}, d_{5} : r_{1219}, a_{12} : r_{1220}, a_{13} : r_{1221}, a_{14} : r_{1222}, a_{15} : r_{1223}, a_{23} : r_{1224}, a_{24} : r_{1225}, a_{25} : r_{1226}, a_{34} : -\\frac{r_{1218} x_{24}}{x_{23}}, a_{35} : r_{1227}, a_{45} : -\\frac{r_{1227} x_{23} + r_{1219} x_{25}}{x_{24}}\\right\\}, \\left\\{d_{1} : r_{1228}, d_{2} : r_{1229}, d_{3} : \\frac{r_{1229}}{x_{23}}, d_{4} : r_{1230}, d_{5} : r_{1231}, a_{12} : \\frac{r_{1229} x_{13}}{x_{23}}, a_{13} : r_{1232}, a_{14} : r_{1233}, a_{15} : r_{1234}, a_{23} : r_{1235}, a_{24} : r_{1236}, a_{25} : r_{1237}, a_{34} : -\\frac{r_{1230} x_{24}}{x_{23}}, a_{35} : r_{1238}, a_{45} : -\\frac{r_{1238} x_{23} + r_{1231} x_{25}}{x_{24}}\\right\\}\\right]</script></html>"
      ],
      "text/latex": [
       "$$\\newcommand{\\Bold}[1]{\\mathbf{#1}}\\left[\\left\\{d_{1} : r_{1217}, d_{2} : 0, d_{3} : 0, d_{4} : r_{1218}, d_{5} : r_{1219}, a_{12} : r_{1220}, a_{13} : r_{1221}, a_{14} : r_{1222}, a_{15} : r_{1223}, a_{23} : r_{1224}, a_{24} : r_{1225}, a_{25} : r_{1226}, a_{34} : -\\frac{r_{1218} x_{24}}{x_{23}}, a_{35} : r_{1227}, a_{45} : -\\frac{r_{1227} x_{23} + r_{1219} x_{25}}{x_{24}}\\right\\}, \\left\\{d_{1} : r_{1228}, d_{2} : r_{1229}, d_{3} : \\frac{r_{1229}}{x_{23}}, d_{4} : r_{1230}, d_{5} : r_{1231}, a_{12} : \\frac{r_{1229} x_{13}}{x_{23}}, a_{13} : r_{1232}, a_{14} : r_{1233}, a_{15} : r_{1234}, a_{23} : r_{1235}, a_{24} : r_{1236}, a_{25} : r_{1237}, a_{34} : -\\frac{r_{1230} x_{24}}{x_{23}}, a_{35} : r_{1238}, a_{45} : -\\frac{r_{1238} x_{23} + r_{1231} x_{25}}{x_{24}}\\right\\}\\right]$$"
      ],
      "text/plain": [
       "[{d1: r1217,\n",
       "  d2: 0,\n",
       "  d3: 0,\n",
       "  d4: r1218,\n",
       "  d5: r1219,\n",
       "  a12: r1220,\n",
       "  a13: r1221,\n",
       "  a14: r1222,\n",
       "  a15: r1223,\n",
       "  a23: r1224,\n",
       "  a24: r1225,\n",
       "  a25: r1226,\n",
       "  a34: -r1218*x24/x23,\n",
       "  a35: r1227,\n",
       "  a45: -(r1227*x23 + r1219*x25)/x24},\n",
       " {d1: r1228,\n",
       "  d2: r1229,\n",
       "  d3: r1229/x23,\n",
       "  d4: r1230,\n",
       "  d5: r1231,\n",
       "  a12: r1229*x13/x23,\n",
       "  a13: r1232,\n",
       "  a14: r1233,\n",
       "  a15: r1234,\n",
       "  a23: r1235,\n",
       "  a24: r1236,\n",
       "  a25: r1237,\n",
       "  a34: -r1230*x24/x23,\n",
       "  a35: r1238,\n",
       "  a45: -(r1238*x23 + r1231*x25)/x24}]"
      ]
     },
     "metadata": {},
     "output_type": "display_data"
    },
    {
     "data": {
      "text/plain": [
       "\\left[\\left\\{d_{1} : r_{1217}, d_{2} : 0, d_{3} : 0, d_{4} : r_{1218}, d_{5} : r_{1219}, a_{12} : r_{1220}, a_{13} : r_{1221}, a_{14} : r_{1222}, a_{15} : r_{1223}, a_{23} : r_{1224}, a_{24} : r_{1225}, a_{25} : r_{1226}, a_{34} : -\\frac{r_{1218} x_{24}}{x_{23}}, a_{35} : r_{1227}, a_{45} : -\\frac{r_{1227} x_{23} + r_{1219} x_{25}}{x_{24}}\\right\\}, \\left\\{d_{1} : r_{1228}, d_{2} : r_{1229}, d_{3} : \\frac{r_{1229}}{x_{23}}, d_{4} : r_{1230}, d_{5} : r_{1231}, a_{12} : \\frac{r_{1229} x_{13}}{x_{23}}, a_{13} : r_{1232}, a_{14} : r_{1233}, a_{15} : r_{1234}, a_{23} : r_{1235}, a_{24} : r_{1236}, a_{25} : r_{1237}, a_{34} : -\\frac{r_{1230} x_{24}}{x_{23}}, a_{35} : r_{1238}, a_{45} : -\\frac{r_{1238} x_{23} + r_{1231} x_{25}}{x_{24}}\\right\\}\\right]"
      ]
     },
     "execution_count": 53,
     "metadata": {},
     "output_type": "execute_result"
    }
   ],
   "source": [
    "#x3\n",
    "#----------------------\n",
    "# x14 = x13*x24/x23\n",
    "# &\n",
    "# x15 = x13*x25/x23\n",
    "#----------------------\n",
    "reset()\n",
    "\n",
    "var('x12,x13,x14,x15,x23,x24,x25,x34,x35,x45')\n",
    "var('d1,d2,d3,d4,d5')\n",
    "var('a12,a13,a14,a15,a23,a24,a25,a34,a35,a45')\n",
    "\n",
    "#011111\n",
    "eq1=(d2*d3*x13-a12*d3*x23)/(d1*d2) \n",
    "eq2=(a34*d2*x13+d2*d4*((x13*x24)/x23)-a12*a34*x23-a12*d4*x24)/(d1*d2) \n",
    "eq3=(a35*d2*d3*x13+a45*d2*d3*((x13*x24)/x23)+d2*d3*d5*((x13*x25)/x23)-a12*a35*d3*x23-a12*a45*d3*x24-a12*d3*d5*x25+a12*a23*d5*0-a13*d2*d5*0)/(d1*d2*d3) \n",
    "eq4=(d3*x23)/(d2) \n",
    "eq5=(a34*x23+d4*x24)/(d2) \n",
    "eq6=(a35*d3*x23+a45*d3*x24+d3*d5*x25-a23*d5*0)/(d2*d3) \n",
    "eq7=(d5*0)/(d3) \n",
    "\n",
    "m=matrix(QQ, [[0, 0, 0, 0, 0],\n",
    "              [0, 0, 1, 0, 0],\n",
    "              [0, 0, 0, 0, 0],\n",
    "              [0, 0, 0, 0, 0],\n",
    "              [0, 0, 0, 0, 0]])\n",
    "        \n",
    "#entry of matrix: (i,j) line i collum j, means (i-1,j-1)\n",
    "sol=solve([ eq1==m[0,2],\teq2==m[0,3],\teq3==m[0,4],\teq4==m[1,2],\t\n",
    "                                            eq5==m[1,3],    eq6==m[1,4],\n",
    "                                                            eq7==m[2,4]],d1,d2,d3,d4,d5,a12,a13,a14,a15,a23,a24,a25,a34,a35,a45, solution_dict=True)\n",
    "\n",
    "show(m)\n",
    "show(sol)\n",
    "latex(sol)"
   ]
  },
  {
   "cell_type": "code",
   "execution_count": 39,
   "metadata": {},
   "outputs": [
    {
     "data": {
      "text/html": [
       "<html><script type=\"math/tex; mode=display\">\\newcommand{\\Bold}[1]{\\mathbf{#1}}\\left(\\begin{array}{rrrrr}\n",
       "0 & 0 & 0 & 0 & 0 \\\\\n",
       "0 & 0 & 1 & 0 & 0 \\\\\n",
       "0 & 0 & 0 & 0 & 1 \\\\\n",
       "0 & 0 & 0 & 0 & 0 \\\\\n",
       "0 & 0 & 0 & 0 & 0\n",
       "\\end{array}\\right)</script></html>"
      ],
      "text/latex": [
       "$$\\newcommand{\\Bold}[1]{\\mathbf{#1}}\\left(\\begin{array}{rrrrr}\n",
       "0 & 0 & 0 & 0 & 0 \\\\\n",
       "0 & 0 & 1 & 0 & 0 \\\\\n",
       "0 & 0 & 0 & 0 & 1 \\\\\n",
       "0 & 0 & 0 & 0 & 0 \\\\\n",
       "0 & 0 & 0 & 0 & 0\n",
       "\\end{array}\\right)$$"
      ],
      "text/plain": [
       "[0 0 0 0 0]\n",
       "[0 0 1 0 0]\n",
       "[0 0 0 0 1]\n",
       "[0 0 0 0 0]\n",
       "[0 0 0 0 0]"
      ]
     },
     "metadata": {},
     "output_type": "display_data"
    },
    {
     "data": {
      "text/html": [
       "<html><script type=\"math/tex; mode=display\">\\newcommand{\\Bold}[1]{\\mathbf{#1}}\\left[\\left\\{d_{1} : r_{857}, d_{2} : 0, d_{3} : 0, d_{4} : r_{858}, d_{5} : 0, a_{12} : r_{859}, a_{13} : r_{860}, a_{14} : r_{861}, a_{15} : r_{862}, a_{23} : r_{863}, a_{24} : r_{864}, a_{25} : r_{865}, a_{34} : 0, a_{35} : r_{866}, a_{45} : r_{867}\\right\\}, \\left\\{d_{1} : r_{868}, d_{2} : r_{869}, d_{3} : \\frac{r_{869}}{x_{23}}, d_{4} : r_{870}, d_{5} : \\frac{r_{869}}{x_{23} x_{35}}, a_{12} : 0, a_{13} : 0, a_{14} : r_{871}, a_{15} : r_{872}, a_{23} : r_{873}, a_{24} : r_{874}, a_{25} : r_{875}, a_{34} : 0, a_{35} : \\frac{r_{873}}{x_{23}}, a_{45} : r_{876}\\right\\}\\right]</script></html>"
      ],
      "text/latex": [
       "$$\\newcommand{\\Bold}[1]{\\mathbf{#1}}\\left[\\left\\{d_{1} : r_{857}, d_{2} : 0, d_{3} : 0, d_{4} : r_{858}, d_{5} : 0, a_{12} : r_{859}, a_{13} : r_{860}, a_{14} : r_{861}, a_{15} : r_{862}, a_{23} : r_{863}, a_{24} : r_{864}, a_{25} : r_{865}, a_{34} : 0, a_{35} : r_{866}, a_{45} : r_{867}\\right\\}, \\left\\{d_{1} : r_{868}, d_{2} : r_{869}, d_{3} : \\frac{r_{869}}{x_{23}}, d_{4} : r_{870}, d_{5} : \\frac{r_{869}}{x_{23} x_{35}}, a_{12} : 0, a_{13} : 0, a_{14} : r_{871}, a_{15} : r_{872}, a_{23} : r_{873}, a_{24} : r_{874}, a_{25} : r_{875}, a_{34} : 0, a_{35} : \\frac{r_{873}}{x_{23}}, a_{45} : r_{876}\\right\\}\\right]$$"
      ],
      "text/plain": [
       "[{d1: r857,\n",
       "  d2: 0,\n",
       "  d3: 0,\n",
       "  d4: r858,\n",
       "  d5: 0,\n",
       "  a12: r859,\n",
       "  a13: r860,\n",
       "  a14: r861,\n",
       "  a15: r862,\n",
       "  a23: r863,\n",
       "  a24: r864,\n",
       "  a25: r865,\n",
       "  a34: 0,\n",
       "  a35: r866,\n",
       "  a45: r867},\n",
       " {d1: r868,\n",
       "  d2: r869,\n",
       "  d3: r869/x23,\n",
       "  d4: r870,\n",
       "  d5: r869/(x23*x35),\n",
       "  a12: 0,\n",
       "  a13: 0,\n",
       "  a14: r871,\n",
       "  a15: r872,\n",
       "  a23: r873,\n",
       "  a24: r874,\n",
       "  a25: r875,\n",
       "  a34: 0,\n",
       "  a35: r873/x23,\n",
       "  a45: r876}]"
      ]
     },
     "metadata": {},
     "output_type": "display_data"
    },
    {
     "data": {
      "text/plain": [
       "\\left[\\left\\{d_{1} : r_{857}, d_{2} : 0, d_{3} : 0, d_{4} : r_{858}, d_{5} : 0, a_{12} : r_{859}, a_{13} : r_{860}, a_{14} : r_{861}, a_{15} : r_{862}, a_{23} : r_{863}, a_{24} : r_{864}, a_{25} : r_{865}, a_{34} : 0, a_{35} : r_{866}, a_{45} : r_{867}\\right\\}, \\left\\{d_{1} : r_{868}, d_{2} : r_{869}, d_{3} : \\frac{r_{869}}{x_{23}}, d_{4} : r_{870}, d_{5} : \\frac{r_{869}}{x_{23} x_{35}}, a_{12} : 0, a_{13} : 0, a_{14} : r_{871}, a_{15} : r_{872}, a_{23} : r_{873}, a_{24} : r_{874}, a_{25} : r_{875}, a_{34} : 0, a_{35} : \\frac{r_{873}}{x_{23}}, a_{45} : r_{876}\\right\\}\\right]"
      ]
     },
     "execution_count": 39,
     "metadata": {},
     "output_type": "execute_result"
    }
   ],
   "source": [
    "#x3\n",
    "reset()\n",
    "\n",
    "var('x12,x13,x14,x15,x23,x24,x25,x34,x35,x45')\n",
    "var('d1,d2,d3,d4,d5')\n",
    "var('a12,a13,a14,a15,a23,a24,a25,a34,a35,a45')\n",
    "\n",
    "load_attach_path('C:\\\\Users\\\\julia\\\\Documents\\\\unb\\\\doutorado\\\\pensar\\\\codigo_sage_v2\\\\maquina\\\\x3')\n",
    "load('out_#100000.sage')\n",
    "\n",
    "m=matrix(QQ, [[0, 0, 0, 0, 0],\n",
    "              [0, 0, 1, 0, 0],\n",
    "              [0, 0, 0, 0, 1],\n",
    "              [0, 0, 0, 0, 0],\n",
    "              [0, 0, 0, 0, 0]])\n",
    "        \n",
    "#entry of matrix: (i,j) line i collum j, means (i-1,j-1)\n",
    "sol=solve([ eq1==m[0,2],\teq2==m[0,3],\teq3==m[0,4],\teq4==m[1,2],\t\n",
    "                                            eq5==m[1,3],    eq6==m[1,4],\n",
    "                                                            eq7==m[2,4]],d1,d2,d3,d4,d5,a12,a13,a14,a15,a23,a24,a25,a34,a35,a45, solution_dict=True)\n",
    "\n",
    "show(m)\n",
    "show(sol)\n",
    "latex(sol)"
   ]
  },
  {
   "cell_type": "code",
   "execution_count": 54,
   "metadata": {},
   "outputs": [
    {
     "data": {
      "text/html": [
       "<html><script type=\"math/tex; mode=display\">\\newcommand{\\Bold}[1]{\\mathbf{#1}}\\left(\\begin{array}{rrrrr}\n",
       "0 & 0 & 0 & 0 & 0 \\\\\n",
       "0 & 0 & 1 & 0 & 0 \\\\\n",
       "0 & 0 & 0 & 0 & 1 \\\\\n",
       "0 & 0 & 0 & 0 & 0 \\\\\n",
       "0 & 0 & 0 & 0 & 0\n",
       "\\end{array}\\right)</script></html>"
      ],
      "text/latex": [
       "$$\\newcommand{\\Bold}[1]{\\mathbf{#1}}\\left(\\begin{array}{rrrrr}\n",
       "0 & 0 & 0 & 0 & 0 \\\\\n",
       "0 & 0 & 1 & 0 & 0 \\\\\n",
       "0 & 0 & 0 & 0 & 1 \\\\\n",
       "0 & 0 & 0 & 0 & 0 \\\\\n",
       "0 & 0 & 0 & 0 & 0\n",
       "\\end{array}\\right)$$"
      ],
      "text/plain": [
       "[0 0 0 0 0]\n",
       "[0 0 1 0 0]\n",
       "[0 0 0 0 1]\n",
       "[0 0 0 0 0]\n",
       "[0 0 0 0 0]"
      ]
     },
     "metadata": {},
     "output_type": "display_data"
    },
    {
     "data": {
      "text/html": [
       "<html><script type=\"math/tex; mode=display\">\\newcommand{\\Bold}[1]{\\mathbf{#1}}\\left[\\left\\{d_{1} : r_{1239}, d_{2} : 0, d_{3} : 0, d_{4} : r_{1240}, d_{5} : 0, a_{12} : r_{1241}, a_{13} : r_{1242}, a_{14} : r_{1243}, a_{15} : r_{1244}, a_{23} : r_{1245}, a_{24} : r_{1246}, a_{25} : r_{1247}, a_{34} : 0, a_{35} : r_{1248}, a_{45} : r_{1249}\\right\\}, \\left\\{d_{1} : r_{1250}, d_{2} : r_{1251}, d_{3} : \\frac{r_{1251}}{x_{23}}, d_{4} : r_{1252}, d_{5} : \\frac{r_{1251}}{x_{23} x_{35}}, a_{12} : 0, a_{13} : \\frac{r_{1251} x_{15}}{x_{23} x_{35}}, a_{14} : r_{1253}, a_{15} : r_{1254}, a_{23} : r_{1255}, a_{24} : r_{1256}, a_{25} : r_{1257}, a_{34} : 0, a_{35} : \\frac{r_{1255}}{x_{23}}, a_{45} : r_{1258}\\right\\}\\right]</script></html>"
      ],
      "text/latex": [
       "$$\\newcommand{\\Bold}[1]{\\mathbf{#1}}\\left[\\left\\{d_{1} : r_{1239}, d_{2} : 0, d_{3} : 0, d_{4} : r_{1240}, d_{5} : 0, a_{12} : r_{1241}, a_{13} : r_{1242}, a_{14} : r_{1243}, a_{15} : r_{1244}, a_{23} : r_{1245}, a_{24} : r_{1246}, a_{25} : r_{1247}, a_{34} : 0, a_{35} : r_{1248}, a_{45} : r_{1249}\\right\\}, \\left\\{d_{1} : r_{1250}, d_{2} : r_{1251}, d_{3} : \\frac{r_{1251}}{x_{23}}, d_{4} : r_{1252}, d_{5} : \\frac{r_{1251}}{x_{23} x_{35}}, a_{12} : 0, a_{13} : \\frac{r_{1251} x_{15}}{x_{23} x_{35}}, a_{14} : r_{1253}, a_{15} : r_{1254}, a_{23} : r_{1255}, a_{24} : r_{1256}, a_{25} : r_{1257}, a_{34} : 0, a_{35} : \\frac{r_{1255}}{x_{23}}, a_{45} : r_{1258}\\right\\}\\right]$$"
      ],
      "text/plain": [
       "[{d1: r1239,\n",
       "  d2: 0,\n",
       "  d3: 0,\n",
       "  d4: r1240,\n",
       "  d5: 0,\n",
       "  a12: r1241,\n",
       "  a13: r1242,\n",
       "  a14: r1243,\n",
       "  a15: r1244,\n",
       "  a23: r1245,\n",
       "  a24: r1246,\n",
       "  a25: r1247,\n",
       "  a34: 0,\n",
       "  a35: r1248,\n",
       "  a45: r1249},\n",
       " {d1: r1250,\n",
       "  d2: r1251,\n",
       "  d3: r1251/x23,\n",
       "  d4: r1252,\n",
       "  d5: r1251/(x23*x35),\n",
       "  a12: 0,\n",
       "  a13: r1251*x15/(x23*x35),\n",
       "  a14: r1253,\n",
       "  a15: r1254,\n",
       "  a23: r1255,\n",
       "  a24: r1256,\n",
       "  a25: r1257,\n",
       "  a34: 0,\n",
       "  a35: r1255/x23,\n",
       "  a45: r1258}]"
      ]
     },
     "metadata": {},
     "output_type": "display_data"
    },
    {
     "data": {
      "text/plain": [
       "\\left[\\left\\{d_{1} : r_{1239}, d_{2} : 0, d_{3} : 0, d_{4} : r_{1240}, d_{5} : 0, a_{12} : r_{1241}, a_{13} : r_{1242}, a_{14} : r_{1243}, a_{15} : r_{1244}, a_{23} : r_{1245}, a_{24} : r_{1246}, a_{25} : r_{1247}, a_{34} : 0, a_{35} : r_{1248}, a_{45} : r_{1249}\\right\\}, \\left\\{d_{1} : r_{1250}, d_{2} : r_{1251}, d_{3} : \\frac{r_{1251}}{x_{23}}, d_{4} : r_{1252}, d_{5} : \\frac{r_{1251}}{x_{23} x_{35}}, a_{12} : 0, a_{13} : \\frac{r_{1251} x_{15}}{x_{23} x_{35}}, a_{14} : r_{1253}, a_{15} : r_{1254}, a_{23} : r_{1255}, a_{24} : r_{1256}, a_{25} : r_{1257}, a_{34} : 0, a_{35} : \\frac{r_{1255}}{x_{23}}, a_{45} : r_{1258}\\right\\}\\right]"
      ]
     },
     "execution_count": 54,
     "metadata": {},
     "output_type": "execute_result"
    }
   ],
   "source": [
    "#x3\n",
    "reset()\n",
    "\n",
    "var('x12,x13,x14,x15,x23,x24,x25,x34,x35,x45')\n",
    "var('d1,d2,d3,d4,d5')\n",
    "var('a12,a13,a14,a15,a23,a24,a25,a34,a35,a45')\n",
    "\n",
    "load_attach_path('C:\\\\Users\\\\julia\\\\Documents\\\\unb\\\\doutorado\\\\pensar\\\\codigo_sage_v2\\\\maquina\\\\x3')\n",
    "load('out_#100001.sage')\n",
    "\n",
    "m=matrix(QQ, [[0, 0, 0, 0, 0],\n",
    "              [0, 0, 1, 0, 0],\n",
    "              [0, 0, 0, 0, 1],\n",
    "              [0, 0, 0, 0, 0],\n",
    "              [0, 0, 0, 0, 0]])\n",
    "        \n",
    "#entry of matrix: (i,j) line i collum j, means (i-1,j-1)\n",
    "sol=solve([ eq1==m[0,2],\teq2==m[0,3],\teq3==m[0,4],\teq4==m[1,2],\t\n",
    "                                            eq5==m[1,3],    eq6==m[1,4],\n",
    "                                                            eq7==m[2,4]],d1,d2,d3,d4,d5,a12,a13,a14,a15,a23,a24,a25,a34,a35,a45, solution_dict=True)\n",
    "\n",
    "show(m)\n",
    "show(sol)\n",
    "latex(sol)"
   ]
  },
  {
   "cell_type": "code",
   "execution_count": 56,
   "metadata": {},
   "outputs": [
    {
     "data": {
      "text/html": [
       "<html><script type=\"math/tex; mode=display\">\\newcommand{\\Bold}[1]{\\mathbf{#1}}\\left(\\begin{array}{rrrrr}\n",
       "0 & 0 & 0 & 1 & 0 \\\\\n",
       "0 & 0 & 1 & 0 & 0 \\\\\n",
       "0 & 0 & 0 & 0 & 1 \\\\\n",
       "0 & 0 & 0 & 0 & 0 \\\\\n",
       "0 & 0 & 0 & 0 & 0\n",
       "\\end{array}\\right)</script></html>"
      ],
      "text/latex": [
       "$$\\newcommand{\\Bold}[1]{\\mathbf{#1}}\\left(\\begin{array}{rrrrr}\n",
       "0 & 0 & 0 & 1 & 0 \\\\\n",
       "0 & 0 & 1 & 0 & 0 \\\\\n",
       "0 & 0 & 0 & 0 & 1 \\\\\n",
       "0 & 0 & 0 & 0 & 0 \\\\\n",
       "0 & 0 & 0 & 0 & 0\n",
       "\\end{array}\\right)$$"
      ],
      "text/plain": [
       "[0 0 0 1 0]\n",
       "[0 0 1 0 0]\n",
       "[0 0 0 0 1]\n",
       "[0 0 0 0 0]\n",
       "[0 0 0 0 0]"
      ]
     },
     "metadata": {},
     "output_type": "display_data"
    },
    {
     "data": {
      "text/html": [
       "<html><script type=\"math/tex; mode=display\">\\newcommand{\\Bold}[1]{\\mathbf{#1}}\\left[\\left\\{d_{1} : r_{1278}, d_{2} : 0, d_{3} : 0, d_{4} : r_{1279}, d_{5} : 0, a_{12} : r_{1280}, a_{13} : r_{1281}, a_{14} : r_{1282}, a_{15} : r_{1283}, a_{23} : r_{1284}, a_{24} : r_{1285}, a_{25} : r_{1286}, a_{34} : 0, a_{35} : r_{1287}, a_{45} : r_{1288}\\right\\}, \\left\\{d_{1} : r_{1289}, d_{2} : r_{1290}, d_{3} : \\frac{r_{1290}}{x_{23}}, d_{4} : \\frac{r_{1289}}{x_{14}}, d_{5} : \\frac{r_{1290}}{x_{23} x_{35}}, a_{12} : 0, a_{13} : r_{1291}, a_{14} : r_{1292}, a_{15} : r_{1293}, a_{23} : r_{1294}, a_{24} : r_{1295}, a_{25} : r_{1296}, a_{34} : 0, a_{35} : \\frac{r_{1294}}{x_{23}}, a_{45} : \\frac{r_{1291}}{x_{14}}\\right\\}\\right]</script></html>"
      ],
      "text/latex": [
       "$$\\newcommand{\\Bold}[1]{\\mathbf{#1}}\\left[\\left\\{d_{1} : r_{1278}, d_{2} : 0, d_{3} : 0, d_{4} : r_{1279}, d_{5} : 0, a_{12} : r_{1280}, a_{13} : r_{1281}, a_{14} : r_{1282}, a_{15} : r_{1283}, a_{23} : r_{1284}, a_{24} : r_{1285}, a_{25} : r_{1286}, a_{34} : 0, a_{35} : r_{1287}, a_{45} : r_{1288}\\right\\}, \\left\\{d_{1} : r_{1289}, d_{2} : r_{1290}, d_{3} : \\frac{r_{1290}}{x_{23}}, d_{4} : \\frac{r_{1289}}{x_{14}}, d_{5} : \\frac{r_{1290}}{x_{23} x_{35}}, a_{12} : 0, a_{13} : r_{1291}, a_{14} : r_{1292}, a_{15} : r_{1293}, a_{23} : r_{1294}, a_{24} : r_{1295}, a_{25} : r_{1296}, a_{34} : 0, a_{35} : \\frac{r_{1294}}{x_{23}}, a_{45} : \\frac{r_{1291}}{x_{14}}\\right\\}\\right]$$"
      ],
      "text/plain": [
       "[{d1: r1278,\n",
       "  d2: 0,\n",
       "  d3: 0,\n",
       "  d4: r1279,\n",
       "  d5: 0,\n",
       "  a12: r1280,\n",
       "  a13: r1281,\n",
       "  a14: r1282,\n",
       "  a15: r1283,\n",
       "  a23: r1284,\n",
       "  a24: r1285,\n",
       "  a25: r1286,\n",
       "  a34: 0,\n",
       "  a35: r1287,\n",
       "  a45: r1288},\n",
       " {d1: r1289,\n",
       "  d2: r1290,\n",
       "  d3: r1290/x23,\n",
       "  d4: r1289/x14,\n",
       "  d5: r1290/(x23*x35),\n",
       "  a12: 0,\n",
       "  a13: r1291,\n",
       "  a14: r1292,\n",
       "  a15: r1293,\n",
       "  a23: r1294,\n",
       "  a24: r1295,\n",
       "  a25: r1296,\n",
       "  a34: 0,\n",
       "  a35: r1294/x23,\n",
       "  a45: r1291/x14}]"
      ]
     },
     "metadata": {},
     "output_type": "display_data"
    },
    {
     "data": {
      "text/plain": [
       "\\left[\\left\\{d_{1} : r_{1278}, d_{2} : 0, d_{3} : 0, d_{4} : r_{1279}, d_{5} : 0, a_{12} : r_{1280}, a_{13} : r_{1281}, a_{14} : r_{1282}, a_{15} : r_{1283}, a_{23} : r_{1284}, a_{24} : r_{1285}, a_{25} : r_{1286}, a_{34} : 0, a_{35} : r_{1287}, a_{45} : r_{1288}\\right\\}, \\left\\{d_{1} : r_{1289}, d_{2} : r_{1290}, d_{3} : \\frac{r_{1290}}{x_{23}}, d_{4} : \\frac{r_{1289}}{x_{14}}, d_{5} : \\frac{r_{1290}}{x_{23} x_{35}}, a_{12} : 0, a_{13} : r_{1291}, a_{14} : r_{1292}, a_{15} : r_{1293}, a_{23} : r_{1294}, a_{24} : r_{1295}, a_{25} : r_{1296}, a_{34} : 0, a_{35} : \\frac{r_{1294}}{x_{23}}, a_{45} : \\frac{r_{1291}}{x_{14}}\\right\\}\\right]"
      ]
     },
     "execution_count": 56,
     "metadata": {},
     "output_type": "execute_result"
    }
   ],
   "source": [
    "#x3\n",
    "reset()\n",
    "\n",
    "var('x12,x13,x14,x15,x23,x24,x25,x34,x35,x45')\n",
    "var('d1,d2,d3,d4,d5')\n",
    "var('a12,a13,a14,a15,a23,a24,a25,a34,a35,a45')\n",
    "\n",
    "load_attach_path('C:\\\\Users\\\\julia\\\\Documents\\\\unb\\\\doutorado\\\\pensar\\\\codigo_sage_v2\\\\maquina\\\\x3')\n",
    "load('out_#100010.sage')\n",
    "\n",
    "m=matrix(QQ, [[0, 0, 0, 1, 0],\n",
    "              [0, 0, 1, 0, 0],\n",
    "              [0, 0, 0, 0, 1],\n",
    "              [0, 0, 0, 0, 0],\n",
    "              [0, 0, 0, 0, 0]])\n",
    "        \n",
    "#entry of matrix: (i,j) line i collum j, means (i-1,j-1)\n",
    "sol=solve([ eq1==m[0,2],\teq2==m[0,3],\teq3==m[0,4],\teq4==m[1,2],\t\n",
    "                                            eq5==m[1,3],    eq6==m[1,4],\n",
    "                                                            eq7==m[2,4]],d1,d2,d3,d4,d5,a12,a13,a14,a15,a23,a24,a25,a34,a35,a45, solution_dict=True)\n",
    "\n",
    "show(m)\n",
    "show(sol)\n",
    "latex(sol)"
   ]
  },
  {
   "cell_type": "code",
   "execution_count": 57,
   "metadata": {},
   "outputs": [
    {
     "data": {
      "text/html": [
       "<html><script type=\"math/tex; mode=display\">\\newcommand{\\Bold}[1]{\\mathbf{#1}}\\left(\\begin{array}{rrrrr}\n",
       "0 & 0 & 0 & 1 & 0 \\\\\n",
       "0 & 0 & 1 & 0 & 0 \\\\\n",
       "0 & 0 & 0 & 0 & 1 \\\\\n",
       "0 & 0 & 0 & 0 & 0 \\\\\n",
       "0 & 0 & 0 & 0 & 0\n",
       "\\end{array}\\right)</script></html>"
      ],
      "text/latex": [
       "$$\\newcommand{\\Bold}[1]{\\mathbf{#1}}\\left(\\begin{array}{rrrrr}\n",
       "0 & 0 & 0 & 1 & 0 \\\\\n",
       "0 & 0 & 1 & 0 & 0 \\\\\n",
       "0 & 0 & 0 & 0 & 1 \\\\\n",
       "0 & 0 & 0 & 0 & 0 \\\\\n",
       "0 & 0 & 0 & 0 & 0\n",
       "\\end{array}\\right)$$"
      ],
      "text/plain": [
       "[0 0 0 1 0]\n",
       "[0 0 1 0 0]\n",
       "[0 0 0 0 1]\n",
       "[0 0 0 0 0]\n",
       "[0 0 0 0 0]"
      ]
     },
     "metadata": {},
     "output_type": "display_data"
    },
    {
     "data": {
      "text/html": [
       "<html><script type=\"math/tex; mode=display\">\\newcommand{\\Bold}[1]{\\mathbf{#1}}\\left[\\left\\{d_{1} : r_{1297}, d_{2} : 0, d_{3} : 0, d_{4} : r_{1298}, d_{5} : 0, a_{12} : r_{1299}, a_{13} : r_{1300}, a_{14} : r_{1301}, a_{15} : r_{1302}, a_{23} : r_{1303}, a_{24} : r_{1304}, a_{25} : r_{1305}, a_{34} : 0, a_{35} : r_{1306}, a_{45} : r_{1307}\\right\\}, \\left\\{d_{1} : r_{1308}, d_{2} : r_{1309}, d_{3} : \\frac{r_{1309}}{x_{23}}, d_{4} : \\frac{r_{1308}}{x_{14}}, d_{5} : \\frac{r_{1309}}{x_{23} x_{35}}, a_{12} : 0, a_{13} : r_{1310}, a_{14} : r_{1311}, a_{15} : r_{1312}, a_{23} : r_{1313}, a_{24} : r_{1314}, a_{25} : r_{1315}, a_{34} : 0, a_{35} : \\frac{r_{1313}}{x_{23}}, a_{45} : \\frac{r_{1310} x_{23} x_{35} - r_{1309} x_{15}}{x_{14} x_{23} x_{35}}\\right\\}\\right]</script></html>"
      ],
      "text/latex": [
       "$$\\newcommand{\\Bold}[1]{\\mathbf{#1}}\\left[\\left\\{d_{1} : r_{1297}, d_{2} : 0, d_{3} : 0, d_{4} : r_{1298}, d_{5} : 0, a_{12} : r_{1299}, a_{13} : r_{1300}, a_{14} : r_{1301}, a_{15} : r_{1302}, a_{23} : r_{1303}, a_{24} : r_{1304}, a_{25} : r_{1305}, a_{34} : 0, a_{35} : r_{1306}, a_{45} : r_{1307}\\right\\}, \\left\\{d_{1} : r_{1308}, d_{2} : r_{1309}, d_{3} : \\frac{r_{1309}}{x_{23}}, d_{4} : \\frac{r_{1308}}{x_{14}}, d_{5} : \\frac{r_{1309}}{x_{23} x_{35}}, a_{12} : 0, a_{13} : r_{1310}, a_{14} : r_{1311}, a_{15} : r_{1312}, a_{23} : r_{1313}, a_{24} : r_{1314}, a_{25} : r_{1315}, a_{34} : 0, a_{35} : \\frac{r_{1313}}{x_{23}}, a_{45} : \\frac{r_{1310} x_{23} x_{35} - r_{1309} x_{15}}{x_{14} x_{23} x_{35}}\\right\\}\\right]$$"
      ],
      "text/plain": [
       "[{d1: r1297,\n",
       "  d2: 0,\n",
       "  d3: 0,\n",
       "  d4: r1298,\n",
       "  d5: 0,\n",
       "  a12: r1299,\n",
       "  a13: r1300,\n",
       "  a14: r1301,\n",
       "  a15: r1302,\n",
       "  a23: r1303,\n",
       "  a24: r1304,\n",
       "  a25: r1305,\n",
       "  a34: 0,\n",
       "  a35: r1306,\n",
       "  a45: r1307},\n",
       " {d1: r1308,\n",
       "  d2: r1309,\n",
       "  d3: r1309/x23,\n",
       "  d4: r1308/x14,\n",
       "  d5: r1309/(x23*x35),\n",
       "  a12: 0,\n",
       "  a13: r1310,\n",
       "  a14: r1311,\n",
       "  a15: r1312,\n",
       "  a23: r1313,\n",
       "  a24: r1314,\n",
       "  a25: r1315,\n",
       "  a34: 0,\n",
       "  a35: r1313/x23,\n",
       "  a45: (r1310*x23*x35 - r1309*x15)/(x14*x23*x35)}]"
      ]
     },
     "metadata": {},
     "output_type": "display_data"
    },
    {
     "data": {
      "text/plain": [
       "\\left[\\left\\{d_{1} : r_{1297}, d_{2} : 0, d_{3} : 0, d_{4} : r_{1298}, d_{5} : 0, a_{12} : r_{1299}, a_{13} : r_{1300}, a_{14} : r_{1301}, a_{15} : r_{1302}, a_{23} : r_{1303}, a_{24} : r_{1304}, a_{25} : r_{1305}, a_{34} : 0, a_{35} : r_{1306}, a_{45} : r_{1307}\\right\\}, \\left\\{d_{1} : r_{1308}, d_{2} : r_{1309}, d_{3} : \\frac{r_{1309}}{x_{23}}, d_{4} : \\frac{r_{1308}}{x_{14}}, d_{5} : \\frac{r_{1309}}{x_{23} x_{35}}, a_{12} : 0, a_{13} : r_{1310}, a_{14} : r_{1311}, a_{15} : r_{1312}, a_{23} : r_{1313}, a_{24} : r_{1314}, a_{25} : r_{1315}, a_{34} : 0, a_{35} : \\frac{r_{1313}}{x_{23}}, a_{45} : \\frac{r_{1310} x_{23} x_{35} - r_{1309} x_{15}}{x_{14} x_{23} x_{35}}\\right\\}\\right]"
      ]
     },
     "execution_count": 57,
     "metadata": {},
     "output_type": "execute_result"
    }
   ],
   "source": [
    "#x3\n",
    "reset()\n",
    "\n",
    "var('x12,x13,x14,x15,x23,x24,x25,x34,x35,x45')\n",
    "var('d1,d2,d3,d4,d5')\n",
    "var('a12,a13,a14,a15,a23,a24,a25,a34,a35,a45')\n",
    "\n",
    "load_attach_path('C:\\\\Users\\\\julia\\\\Documents\\\\unb\\\\doutorado\\\\pensar\\\\codigo_sage_v2\\\\maquina\\\\x3')\n",
    "load('out_#100011.sage')\n",
    "\n",
    "m=matrix(QQ, [[0, 0, 0, 1, 0],\n",
    "              [0, 0, 1, 0, 0],\n",
    "              [0, 0, 0, 0, 1],\n",
    "              [0, 0, 0, 0, 0],\n",
    "              [0, 0, 0, 0, 0]])\n",
    "        \n",
    "#entry of matrix: (i,j) line i collum j, means (i-1,j-1)\n",
    "sol=solve([ eq1==m[0,2],\teq2==m[0,3],\teq3==m[0,4],\teq4==m[1,2],\t\n",
    "                                            eq5==m[1,3],    eq6==m[1,4],\n",
    "                                                            eq7==m[2,4]],d1,d2,d3,d4,d5,a12,a13,a14,a15,a23,a24,a25,a34,a35,a45, solution_dict=True)\n",
    "\n",
    "show(m)\n",
    "show(sol)\n",
    "latex(sol)"
   ]
  },
  {
   "cell_type": "code",
   "execution_count": 58,
   "metadata": {},
   "outputs": [
    {
     "data": {
      "text/html": [
       "<html><script type=\"math/tex; mode=display\">\\newcommand{\\Bold}[1]{\\mathbf{#1}}\\left(\\begin{array}{rrrrr}\n",
       "0 & 0 & 0 & 0 & 0 \\\\\n",
       "0 & 0 & 1 & 0 & 0 \\\\\n",
       "0 & 0 & 0 & 0 & 1 \\\\\n",
       "0 & 0 & 0 & 0 & 0 \\\\\n",
       "0 & 0 & 0 & 0 & 0\n",
       "\\end{array}\\right)</script></html>"
      ],
      "text/latex": [
       "$$\\newcommand{\\Bold}[1]{\\mathbf{#1}}\\left(\\begin{array}{rrrrr}\n",
       "0 & 0 & 0 & 0 & 0 \\\\\n",
       "0 & 0 & 1 & 0 & 0 \\\\\n",
       "0 & 0 & 0 & 0 & 1 \\\\\n",
       "0 & 0 & 0 & 0 & 0 \\\\\n",
       "0 & 0 & 0 & 0 & 0\n",
       "\\end{array}\\right)$$"
      ],
      "text/plain": [
       "[0 0 0 0 0]\n",
       "[0 0 1 0 0]\n",
       "[0 0 0 0 1]\n",
       "[0 0 0 0 0]\n",
       "[0 0 0 0 0]"
      ]
     },
     "metadata": {},
     "output_type": "display_data"
    },
    {
     "data": {
      "text/html": [
       "<html><script type=\"math/tex; mode=display\">\\newcommand{\\Bold}[1]{\\mathbf{#1}}\\left[\\left\\{d_{1} : r_{1316}, d_{2} : 0, d_{3} : 0, d_{4} : r_{1317}, d_{5} : 0, a_{12} : r_{1318}, a_{13} : r_{1319}, a_{14} : r_{1320}, a_{15} : r_{1321}, a_{23} : r_{1322}, a_{24} : r_{1323}, a_{25} : r_{1324}, a_{34} : 0, a_{35} : r_{1325}, a_{45} : r_{1326}\\right\\}, \\left\\{d_{1} : r_{1327}, d_{2} : r_{1328}, d_{3} : \\frac{r_{1328}}{x_{23}}, d_{4} : r_{1329}, d_{5} : \\frac{r_{1328}}{x_{23} x_{35}}, a_{12} : \\frac{r_{1328} x_{13}}{x_{23}}, a_{13} : r_{1330}, a_{14} : r_{1331}, a_{15} : r_{1332}, a_{23} : \\frac{r_{1330} x_{23}}{x_{13}}, a_{24} : r_{1333}, a_{25} : r_{1334}, a_{34} : 0, a_{35} : \\frac{r_{1330}}{x_{13}}, a_{45} : r_{1335}\\right\\}\\right]</script></html>"
      ],
      "text/latex": [
       "$$\\newcommand{\\Bold}[1]{\\mathbf{#1}}\\left[\\left\\{d_{1} : r_{1316}, d_{2} : 0, d_{3} : 0, d_{4} : r_{1317}, d_{5} : 0, a_{12} : r_{1318}, a_{13} : r_{1319}, a_{14} : r_{1320}, a_{15} : r_{1321}, a_{23} : r_{1322}, a_{24} : r_{1323}, a_{25} : r_{1324}, a_{34} : 0, a_{35} : r_{1325}, a_{45} : r_{1326}\\right\\}, \\left\\{d_{1} : r_{1327}, d_{2} : r_{1328}, d_{3} : \\frac{r_{1328}}{x_{23}}, d_{4} : r_{1329}, d_{5} : \\frac{r_{1328}}{x_{23} x_{35}}, a_{12} : \\frac{r_{1328} x_{13}}{x_{23}}, a_{13} : r_{1330}, a_{14} : r_{1331}, a_{15} : r_{1332}, a_{23} : \\frac{r_{1330} x_{23}}{x_{13}}, a_{24} : r_{1333}, a_{25} : r_{1334}, a_{34} : 0, a_{35} : \\frac{r_{1330}}{x_{13}}, a_{45} : r_{1335}\\right\\}\\right]$$"
      ],
      "text/plain": [
       "[{d1: r1316,\n",
       "  d2: 0,\n",
       "  d3: 0,\n",
       "  d4: r1317,\n",
       "  d5: 0,\n",
       "  a12: r1318,\n",
       "  a13: r1319,\n",
       "  a14: r1320,\n",
       "  a15: r1321,\n",
       "  a23: r1322,\n",
       "  a24: r1323,\n",
       "  a25: r1324,\n",
       "  a34: 0,\n",
       "  a35: r1325,\n",
       "  a45: r1326},\n",
       " {d1: r1327,\n",
       "  d2: r1328,\n",
       "  d3: r1328/x23,\n",
       "  d4: r1329,\n",
       "  d5: r1328/(x23*x35),\n",
       "  a12: r1328*x13/x23,\n",
       "  a13: r1330,\n",
       "  a14: r1331,\n",
       "  a15: r1332,\n",
       "  a23: r1330*x23/x13,\n",
       "  a24: r1333,\n",
       "  a25: r1334,\n",
       "  a34: 0,\n",
       "  a35: r1330/x13,\n",
       "  a45: r1335}]"
      ]
     },
     "metadata": {},
     "output_type": "display_data"
    },
    {
     "data": {
      "text/plain": [
       "\\left[\\left\\{d_{1} : r_{1316}, d_{2} : 0, d_{3} : 0, d_{4} : r_{1317}, d_{5} : 0, a_{12} : r_{1318}, a_{13} : r_{1319}, a_{14} : r_{1320}, a_{15} : r_{1321}, a_{23} : r_{1322}, a_{24} : r_{1323}, a_{25} : r_{1324}, a_{34} : 0, a_{35} : r_{1325}, a_{45} : r_{1326}\\right\\}, \\left\\{d_{1} : r_{1327}, d_{2} : r_{1328}, d_{3} : \\frac{r_{1328}}{x_{23}}, d_{4} : r_{1329}, d_{5} : \\frac{r_{1328}}{x_{23} x_{35}}, a_{12} : \\frac{r_{1328} x_{13}}{x_{23}}, a_{13} : r_{1330}, a_{14} : r_{1331}, a_{15} : r_{1332}, a_{23} : \\frac{r_{1330} x_{23}}{x_{13}}, a_{24} : r_{1333}, a_{25} : r_{1334}, a_{34} : 0, a_{35} : \\frac{r_{1330}}{x_{13}}, a_{45} : r_{1335}\\right\\}\\right]"
      ]
     },
     "execution_count": 58,
     "metadata": {},
     "output_type": "execute_result"
    }
   ],
   "source": [
    "#x3\n",
    "reset()\n",
    "\n",
    "var('x12,x13,x14,x15,x23,x24,x25,x34,x35,x45')\n",
    "var('d1,d2,d3,d4,d5')\n",
    "var('a12,a13,a14,a15,a23,a24,a25,a34,a35,a45')\n",
    "\n",
    "load_attach_path('C:\\\\Users\\\\julia\\\\Documents\\\\unb\\\\doutorado\\\\pensar\\\\codigo_sage_v2\\\\maquina\\\\x3')\n",
    "load('out_#100100.sage')\n",
    "\n",
    "m=matrix(QQ, [[0, 0, 0, 0, 0],\n",
    "              [0, 0, 1, 0, 0],\n",
    "              [0, 0, 0, 0, 1],\n",
    "              [0, 0, 0, 0, 0],\n",
    "              [0, 0, 0, 0, 0]])\n",
    "        \n",
    "#entry of matrix: (i,j) line i collum j, means (i-1,j-1)\n",
    "sol=solve([ eq1==m[0,2],\teq2==m[0,3],\teq3==m[0,4],\teq4==m[1,2],\t\n",
    "                                            eq5==m[1,3],    eq6==m[1,4],\n",
    "                                                            eq7==m[2,4]],d1,d2,d3,d4,d5,a12,a13,a14,a15,a23,a24,a25,a34,a35,a45, solution_dict=True)\n",
    "\n",
    "show(m)\n",
    "show(sol)\n",
    "latex(sol)"
   ]
  },
  {
   "cell_type": "code",
   "execution_count": 59,
   "metadata": {},
   "outputs": [
    {
     "data": {
      "text/html": [
       "<html><script type=\"math/tex; mode=display\">\\newcommand{\\Bold}[1]{\\mathbf{#1}}\\left(\\begin{array}{rrrrr}\n",
       "0 & 0 & 0 & 0 & 0 \\\\\n",
       "0 & 0 & 1 & 0 & 0 \\\\\n",
       "0 & 0 & 0 & 0 & 1 \\\\\n",
       "0 & 0 & 0 & 0 & 0 \\\\\n",
       "0 & 0 & 0 & 0 & 0\n",
       "\\end{array}\\right)</script></html>"
      ],
      "text/latex": [
       "$$\\newcommand{\\Bold}[1]{\\mathbf{#1}}\\left(\\begin{array}{rrrrr}\n",
       "0 & 0 & 0 & 0 & 0 \\\\\n",
       "0 & 0 & 1 & 0 & 0 \\\\\n",
       "0 & 0 & 0 & 0 & 1 \\\\\n",
       "0 & 0 & 0 & 0 & 0 \\\\\n",
       "0 & 0 & 0 & 0 & 0\n",
       "\\end{array}\\right)$$"
      ],
      "text/plain": [
       "[0 0 0 0 0]\n",
       "[0 0 1 0 0]\n",
       "[0 0 0 0 1]\n",
       "[0 0 0 0 0]\n",
       "[0 0 0 0 0]"
      ]
     },
     "metadata": {},
     "output_type": "display_data"
    },
    {
     "data": {
      "text/html": [
       "<html><script type=\"math/tex; mode=display\">\\newcommand{\\Bold}[1]{\\mathbf{#1}}\\left[\\left\\{d_{1} : r_{1336}, d_{2} : 0, d_{3} : 0, d_{4} : r_{1337}, d_{5} : 0, a_{12} : r_{1338}, a_{13} : r_{1339}, a_{14} : r_{1340}, a_{15} : r_{1341}, a_{23} : r_{1342}, a_{24} : r_{1343}, a_{25} : r_{1344}, a_{34} : 0, a_{35} : r_{1345}, a_{45} : r_{1346}\\right\\}, \\left\\{d_{1} : r_{1347}, d_{2} : r_{1348}, d_{3} : \\frac{r_{1348}}{x_{23}}, d_{4} : r_{1349}, d_{5} : \\frac{r_{1348}}{x_{23} x_{35}}, a_{12} : \\frac{r_{1348} x_{13}}{x_{23}}, a_{13} : r_{1350}, a_{14} : r_{1351}, a_{15} : r_{1352}, a_{23} : \\frac{r_{1350} x_{23} x_{35} - r_{1348} x_{15}}{x_{13} x_{35}}, a_{24} : r_{1353}, a_{25} : r_{1354}, a_{34} : 0, a_{35} : \\frac{r_{1350} x_{23} x_{35} - r_{1348} x_{15}}{x_{13} x_{23} x_{35}}, a_{45} : r_{1355}\\right\\}\\right]</script></html>"
      ],
      "text/latex": [
       "$$\\newcommand{\\Bold}[1]{\\mathbf{#1}}\\left[\\left\\{d_{1} : r_{1336}, d_{2} : 0, d_{3} : 0, d_{4} : r_{1337}, d_{5} : 0, a_{12} : r_{1338}, a_{13} : r_{1339}, a_{14} : r_{1340}, a_{15} : r_{1341}, a_{23} : r_{1342}, a_{24} : r_{1343}, a_{25} : r_{1344}, a_{34} : 0, a_{35} : r_{1345}, a_{45} : r_{1346}\\right\\}, \\left\\{d_{1} : r_{1347}, d_{2} : r_{1348}, d_{3} : \\frac{r_{1348}}{x_{23}}, d_{4} : r_{1349}, d_{5} : \\frac{r_{1348}}{x_{23} x_{35}}, a_{12} : \\frac{r_{1348} x_{13}}{x_{23}}, a_{13} : r_{1350}, a_{14} : r_{1351}, a_{15} : r_{1352}, a_{23} : \\frac{r_{1350} x_{23} x_{35} - r_{1348} x_{15}}{x_{13} x_{35}}, a_{24} : r_{1353}, a_{25} : r_{1354}, a_{34} : 0, a_{35} : \\frac{r_{1350} x_{23} x_{35} - r_{1348} x_{15}}{x_{13} x_{23} x_{35}}, a_{45} : r_{1355}\\right\\}\\right]$$"
      ],
      "text/plain": [
       "[{d1: r1336,\n",
       "  d2: 0,\n",
       "  d3: 0,\n",
       "  d4: r1337,\n",
       "  d5: 0,\n",
       "  a12: r1338,\n",
       "  a13: r1339,\n",
       "  a14: r1340,\n",
       "  a15: r1341,\n",
       "  a23: r1342,\n",
       "  a24: r1343,\n",
       "  a25: r1344,\n",
       "  a34: 0,\n",
       "  a35: r1345,\n",
       "  a45: r1346},\n",
       " {d1: r1347,\n",
       "  d2: r1348,\n",
       "  d3: r1348/x23,\n",
       "  d4: r1349,\n",
       "  d5: r1348/(x23*x35),\n",
       "  a12: r1348*x13/x23,\n",
       "  a13: r1350,\n",
       "  a14: r1351,\n",
       "  a15: r1352,\n",
       "  a23: (r1350*x23*x35 - r1348*x15)/(x13*x35),\n",
       "  a24: r1353,\n",
       "  a25: r1354,\n",
       "  a34: 0,\n",
       "  a35: (r1350*x23*x35 - r1348*x15)/(x13*x23*x35),\n",
       "  a45: r1355}]"
      ]
     },
     "metadata": {},
     "output_type": "display_data"
    },
    {
     "data": {
      "text/plain": [
       "\\left[\\left\\{d_{1} : r_{1336}, d_{2} : 0, d_{3} : 0, d_{4} : r_{1337}, d_{5} : 0, a_{12} : r_{1338}, a_{13} : r_{1339}, a_{14} : r_{1340}, a_{15} : r_{1341}, a_{23} : r_{1342}, a_{24} : r_{1343}, a_{25} : r_{1344}, a_{34} : 0, a_{35} : r_{1345}, a_{45} : r_{1346}\\right\\}, \\left\\{d_{1} : r_{1347}, d_{2} : r_{1348}, d_{3} : \\frac{r_{1348}}{x_{23}}, d_{4} : r_{1349}, d_{5} : \\frac{r_{1348}}{x_{23} x_{35}}, a_{12} : \\frac{r_{1348} x_{13}}{x_{23}}, a_{13} : r_{1350}, a_{14} : r_{1351}, a_{15} : r_{1352}, a_{23} : \\frac{r_{1350} x_{23} x_{35} - r_{1348} x_{15}}{x_{13} x_{35}}, a_{24} : r_{1353}, a_{25} : r_{1354}, a_{34} : 0, a_{35} : \\frac{r_{1350} x_{23} x_{35} - r_{1348} x_{15}}{x_{13} x_{23} x_{35}}, a_{45} : r_{1355}\\right\\}\\right]"
      ]
     },
     "execution_count": 59,
     "metadata": {},
     "output_type": "execute_result"
    }
   ],
   "source": [
    "#x3\n",
    "reset()\n",
    "\n",
    "var('x12,x13,x14,x15,x23,x24,x25,x34,x35,x45')\n",
    "var('d1,d2,d3,d4,d5')\n",
    "var('a12,a13,a14,a15,a23,a24,a25,a34,a35,a45')\n",
    "\n",
    "load_attach_path('C:\\\\Users\\\\julia\\\\Documents\\\\unb\\\\doutorado\\\\pensar\\\\codigo_sage_v2\\\\maquina\\\\x3')\n",
    "load('out_#100101.sage')\n",
    "\n",
    "m=matrix(QQ, [[0, 0, 0, 0, 0],\n",
    "              [0, 0, 1, 0, 0],\n",
    "              [0, 0, 0, 0, 1],\n",
    "              [0, 0, 0, 0, 0],\n",
    "              [0, 0, 0, 0, 0]])\n",
    "        \n",
    "#entry of matrix: (i,j) line i collum j, means (i-1,j-1)\n",
    "sol=solve([ eq1==m[0,2],\teq2==m[0,3],\teq3==m[0,4],\teq4==m[1,2],\t\n",
    "                                            eq5==m[1,3],    eq6==m[1,4],\n",
    "                                                            eq7==m[2,4]],d1,d2,d3,d4,d5,a12,a13,a14,a15,a23,a24,a25,a34,a35,a45, solution_dict=True)\n",
    "\n",
    "show(m)\n",
    "show(sol)\n",
    "latex(sol)"
   ]
  },
  {
   "cell_type": "code",
   "execution_count": 60,
   "metadata": {},
   "outputs": [
    {
     "data": {
      "text/html": [
       "<html><script type=\"math/tex; mode=display\">\\newcommand{\\Bold}[1]{\\mathbf{#1}}\\left(\\begin{array}{rrrrr}\n",
       "0 & 0 & 0 & 1 & 0 \\\\\n",
       "0 & 0 & 1 & 0 & 0 \\\\\n",
       "0 & 0 & 0 & 0 & 1 \\\\\n",
       "0 & 0 & 0 & 0 & 0 \\\\\n",
       "0 & 0 & 0 & 0 & 0\n",
       "\\end{array}\\right)</script></html>"
      ],
      "text/latex": [
       "$$\\newcommand{\\Bold}[1]{\\mathbf{#1}}\\left(\\begin{array}{rrrrr}\n",
       "0 & 0 & 0 & 1 & 0 \\\\\n",
       "0 & 0 & 1 & 0 & 0 \\\\\n",
       "0 & 0 & 0 & 0 & 1 \\\\\n",
       "0 & 0 & 0 & 0 & 0 \\\\\n",
       "0 & 0 & 0 & 0 & 0\n",
       "\\end{array}\\right)$$"
      ],
      "text/plain": [
       "[0 0 0 1 0]\n",
       "[0 0 1 0 0]\n",
       "[0 0 0 0 1]\n",
       "[0 0 0 0 0]\n",
       "[0 0 0 0 0]"
      ]
     },
     "metadata": {},
     "output_type": "display_data"
    },
    {
     "data": {
      "text/html": [
       "<html><script type=\"math/tex; mode=display\">\\newcommand{\\Bold}[1]{\\mathbf{#1}}\\left[\\left\\{d_{1} : r_{1356}, d_{2} : 0, d_{3} : 0, d_{4} : r_{1357}, d_{5} : 0, a_{12} : r_{1358}, a_{13} : r_{1359}, a_{14} : r_{1360}, a_{15} : r_{1361}, a_{23} : r_{1362}, a_{24} : r_{1363}, a_{25} : r_{1364}, a_{34} : 0, a_{35} : r_{1365}, a_{45} : r_{1366}\\right\\}, \\left\\{d_{1} : r_{1367}, d_{2} : r_{1368}, d_{3} : \\frac{r_{1368}}{x_{23}}, d_{4} : \\frac{r_{1367}}{x_{14}}, d_{5} : \\frac{r_{1368}}{x_{23} x_{35}}, a_{12} : \\frac{r_{1368} x_{13}}{x_{23}}, a_{13} : r_{1369}, a_{14} : r_{1370}, a_{15} : r_{1371}, a_{23} : r_{1372}, a_{24} : r_{1373}, a_{25} : r_{1374}, a_{34} : 0, a_{35} : \\frac{r_{1372}}{x_{23}}, a_{45} : -\\frac{r_{1372} x_{13} - r_{1369} x_{23}}{x_{14} x_{23}}\\right\\}\\right]</script></html>"
      ],
      "text/latex": [
       "$$\\newcommand{\\Bold}[1]{\\mathbf{#1}}\\left[\\left\\{d_{1} : r_{1356}, d_{2} : 0, d_{3} : 0, d_{4} : r_{1357}, d_{5} : 0, a_{12} : r_{1358}, a_{13} : r_{1359}, a_{14} : r_{1360}, a_{15} : r_{1361}, a_{23} : r_{1362}, a_{24} : r_{1363}, a_{25} : r_{1364}, a_{34} : 0, a_{35} : r_{1365}, a_{45} : r_{1366}\\right\\}, \\left\\{d_{1} : r_{1367}, d_{2} : r_{1368}, d_{3} : \\frac{r_{1368}}{x_{23}}, d_{4} : \\frac{r_{1367}}{x_{14}}, d_{5} : \\frac{r_{1368}}{x_{23} x_{35}}, a_{12} : \\frac{r_{1368} x_{13}}{x_{23}}, a_{13} : r_{1369}, a_{14} : r_{1370}, a_{15} : r_{1371}, a_{23} : r_{1372}, a_{24} : r_{1373}, a_{25} : r_{1374}, a_{34} : 0, a_{35} : \\frac{r_{1372}}{x_{23}}, a_{45} : -\\frac{r_{1372} x_{13} - r_{1369} x_{23}}{x_{14} x_{23}}\\right\\}\\right]$$"
      ],
      "text/plain": [
       "[{d1: r1356,\n",
       "  d2: 0,\n",
       "  d3: 0,\n",
       "  d4: r1357,\n",
       "  d5: 0,\n",
       "  a12: r1358,\n",
       "  a13: r1359,\n",
       "  a14: r1360,\n",
       "  a15: r1361,\n",
       "  a23: r1362,\n",
       "  a24: r1363,\n",
       "  a25: r1364,\n",
       "  a34: 0,\n",
       "  a35: r1365,\n",
       "  a45: r1366},\n",
       " {d1: r1367,\n",
       "  d2: r1368,\n",
       "  d3: r1368/x23,\n",
       "  d4: r1367/x14,\n",
       "  d5: r1368/(x23*x35),\n",
       "  a12: r1368*x13/x23,\n",
       "  a13: r1369,\n",
       "  a14: r1370,\n",
       "  a15: r1371,\n",
       "  a23: r1372,\n",
       "  a24: r1373,\n",
       "  a25: r1374,\n",
       "  a34: 0,\n",
       "  a35: r1372/x23,\n",
       "  a45: -(r1372*x13 - r1369*x23)/(x14*x23)}]"
      ]
     },
     "metadata": {},
     "output_type": "display_data"
    },
    {
     "data": {
      "text/plain": [
       "\\left[\\left\\{d_{1} : r_{1356}, d_{2} : 0, d_{3} : 0, d_{4} : r_{1357}, d_{5} : 0, a_{12} : r_{1358}, a_{13} : r_{1359}, a_{14} : r_{1360}, a_{15} : r_{1361}, a_{23} : r_{1362}, a_{24} : r_{1363}, a_{25} : r_{1364}, a_{34} : 0, a_{35} : r_{1365}, a_{45} : r_{1366}\\right\\}, \\left\\{d_{1} : r_{1367}, d_{2} : r_{1368}, d_{3} : \\frac{r_{1368}}{x_{23}}, d_{4} : \\frac{r_{1367}}{x_{14}}, d_{5} : \\frac{r_{1368}}{x_{23} x_{35}}, a_{12} : \\frac{r_{1368} x_{13}}{x_{23}}, a_{13} : r_{1369}, a_{14} : r_{1370}, a_{15} : r_{1371}, a_{23} : r_{1372}, a_{24} : r_{1373}, a_{25} : r_{1374}, a_{34} : 0, a_{35} : \\frac{r_{1372}}{x_{23}}, a_{45} : -\\frac{r_{1372} x_{13} - r_{1369} x_{23}}{x_{14} x_{23}}\\right\\}\\right]"
      ]
     },
     "execution_count": 60,
     "metadata": {},
     "output_type": "execute_result"
    }
   ],
   "source": [
    "#x3\n",
    "reset()\n",
    "\n",
    "var('x12,x13,x14,x15,x23,x24,x25,x34,x35,x45')\n",
    "var('d1,d2,d3,d4,d5')\n",
    "var('a12,a13,a14,a15,a23,a24,a25,a34,a35,a45')\n",
    "\n",
    "load_attach_path('C:\\\\Users\\\\julia\\\\Documents\\\\unb\\\\doutorado\\\\pensar\\\\codigo_sage_v2\\\\maquina\\\\x3')\n",
    "load('out_#100110.sage')\n",
    "\n",
    "m=matrix(QQ, [[0, 0, 0, 1, 0],\n",
    "              [0, 0, 1, 0, 0],\n",
    "              [0, 0, 0, 0, 1],\n",
    "              [0, 0, 0, 0, 0],\n",
    "              [0, 0, 0, 0, 0]])\n",
    "        \n",
    "#entry of matrix: (i,j) line i collum j, means (i-1,j-1)\n",
    "sol=solve([ eq1==m[0,2],\teq2==m[0,3],\teq3==m[0,4],\teq4==m[1,2],\t\n",
    "                                            eq5==m[1,3],    eq6==m[1,4],\n",
    "                                                            eq7==m[2,4]],d1,d2,d3,d4,d5,a12,a13,a14,a15,a23,a24,a25,a34,a35,a45, solution_dict=True)\n",
    "\n",
    "show(m)\n",
    "show(sol)\n",
    "latex(sol)"
   ]
  },
  {
   "cell_type": "code",
   "execution_count": 61,
   "metadata": {},
   "outputs": [
    {
     "data": {
      "text/html": [
       "<html><script type=\"math/tex; mode=display\">\\newcommand{\\Bold}[1]{\\mathbf{#1}}\\left(\\begin{array}{rrrrr}\n",
       "0 & 0 & 0 & 1 & 0 \\\\\n",
       "0 & 0 & 1 & 0 & 0 \\\\\n",
       "0 & 0 & 0 & 0 & 1 \\\\\n",
       "0 & 0 & 0 & 0 & 0 \\\\\n",
       "0 & 0 & 0 & 0 & 0\n",
       "\\end{array}\\right)</script></html>"
      ],
      "text/latex": [
       "$$\\newcommand{\\Bold}[1]{\\mathbf{#1}}\\left(\\begin{array}{rrrrr}\n",
       "0 & 0 & 0 & 1 & 0 \\\\\n",
       "0 & 0 & 1 & 0 & 0 \\\\\n",
       "0 & 0 & 0 & 0 & 1 \\\\\n",
       "0 & 0 & 0 & 0 & 0 \\\\\n",
       "0 & 0 & 0 & 0 & 0\n",
       "\\end{array}\\right)$$"
      ],
      "text/plain": [
       "[0 0 0 1 0]\n",
       "[0 0 1 0 0]\n",
       "[0 0 0 0 1]\n",
       "[0 0 0 0 0]\n",
       "[0 0 0 0 0]"
      ]
     },
     "metadata": {},
     "output_type": "display_data"
    },
    {
     "data": {
      "text/html": [
       "<html><script type=\"math/tex; mode=display\">\\newcommand{\\Bold}[1]{\\mathbf{#1}}\\left[\\left\\{d_{1} : r_{1375}, d_{2} : 0, d_{3} : 0, d_{4} : r_{1376}, d_{5} : 0, a_{12} : r_{1377}, a_{13} : r_{1378}, a_{14} : r_{1379}, a_{15} : r_{1380}, a_{23} : r_{1381}, a_{24} : r_{1382}, a_{25} : r_{1383}, a_{34} : 0, a_{35} : r_{1384}, a_{45} : r_{1385}\\right\\}, \\left\\{d_{1} : r_{1386}, d_{2} : r_{1387}, d_{3} : \\frac{r_{1387}}{x_{23}}, d_{4} : \\frac{r_{1386}}{x_{14}}, d_{5} : \\frac{r_{1387}}{x_{23} x_{35}}, a_{12} : \\frac{r_{1387} x_{13}}{x_{23}}, a_{13} : r_{1388}, a_{14} : r_{1389}, a_{15} : r_{1390}, a_{23} : r_{1391}, a_{24} : r_{1392}, a_{25} : r_{1393}, a_{34} : 0, a_{35} : \\frac{r_{1391}}{x_{23}}, a_{45} : -\\frac{r_{1387} x_{15} + {\\left(r_{1391} x_{13} - r_{1388} x_{23}\\right)} x_{35}}{x_{14} x_{23} x_{35}}\\right\\}\\right]</script></html>"
      ],
      "text/latex": [
       "$$\\newcommand{\\Bold}[1]{\\mathbf{#1}}\\left[\\left\\{d_{1} : r_{1375}, d_{2} : 0, d_{3} : 0, d_{4} : r_{1376}, d_{5} : 0, a_{12} : r_{1377}, a_{13} : r_{1378}, a_{14} : r_{1379}, a_{15} : r_{1380}, a_{23} : r_{1381}, a_{24} : r_{1382}, a_{25} : r_{1383}, a_{34} : 0, a_{35} : r_{1384}, a_{45} : r_{1385}\\right\\}, \\left\\{d_{1} : r_{1386}, d_{2} : r_{1387}, d_{3} : \\frac{r_{1387}}{x_{23}}, d_{4} : \\frac{r_{1386}}{x_{14}}, d_{5} : \\frac{r_{1387}}{x_{23} x_{35}}, a_{12} : \\frac{r_{1387} x_{13}}{x_{23}}, a_{13} : r_{1388}, a_{14} : r_{1389}, a_{15} : r_{1390}, a_{23} : r_{1391}, a_{24} : r_{1392}, a_{25} : r_{1393}, a_{34} : 0, a_{35} : \\frac{r_{1391}}{x_{23}}, a_{45} : -\\frac{r_{1387} x_{15} + {\\left(r_{1391} x_{13} - r_{1388} x_{23}\\right)} x_{35}}{x_{14} x_{23} x_{35}}\\right\\}\\right]$$"
      ],
      "text/plain": [
       "[{d1: r1375,\n",
       "  d2: 0,\n",
       "  d3: 0,\n",
       "  d4: r1376,\n",
       "  d5: 0,\n",
       "  a12: r1377,\n",
       "  a13: r1378,\n",
       "  a14: r1379,\n",
       "  a15: r1380,\n",
       "  a23: r1381,\n",
       "  a24: r1382,\n",
       "  a25: r1383,\n",
       "  a34: 0,\n",
       "  a35: r1384,\n",
       "  a45: r1385},\n",
       " {d1: r1386,\n",
       "  d2: r1387,\n",
       "  d3: r1387/x23,\n",
       "  d4: r1386/x14,\n",
       "  d5: r1387/(x23*x35),\n",
       "  a12: r1387*x13/x23,\n",
       "  a13: r1388,\n",
       "  a14: r1389,\n",
       "  a15: r1390,\n",
       "  a23: r1391,\n",
       "  a24: r1392,\n",
       "  a25: r1393,\n",
       "  a34: 0,\n",
       "  a35: r1391/x23,\n",
       "  a45: -(r1387*x15 + (r1391*x13 - r1388*x23)*x35)/(x14*x23*x35)}]"
      ]
     },
     "metadata": {},
     "output_type": "display_data"
    },
    {
     "data": {
      "text/plain": [
       "\\left[\\left\\{d_{1} : r_{1375}, d_{2} : 0, d_{3} : 0, d_{4} : r_{1376}, d_{5} : 0, a_{12} : r_{1377}, a_{13} : r_{1378}, a_{14} : r_{1379}, a_{15} : r_{1380}, a_{23} : r_{1381}, a_{24} : r_{1382}, a_{25} : r_{1383}, a_{34} : 0, a_{35} : r_{1384}, a_{45} : r_{1385}\\right\\}, \\left\\{d_{1} : r_{1386}, d_{2} : r_{1387}, d_{3} : \\frac{r_{1387}}{x_{23}}, d_{4} : \\frac{r_{1386}}{x_{14}}, d_{5} : \\frac{r_{1387}}{x_{23} x_{35}}, a_{12} : \\frac{r_{1387} x_{13}}{x_{23}}, a_{13} : r_{1388}, a_{14} : r_{1389}, a_{15} : r_{1390}, a_{23} : r_{1391}, a_{24} : r_{1392}, a_{25} : r_{1393}, a_{34} : 0, a_{35} : \\frac{r_{1391}}{x_{23}}, a_{45} : -\\frac{r_{1387} x_{15} + {\\left(r_{1391} x_{13} - r_{1388} x_{23}\\right)} x_{35}}{x_{14} x_{23} x_{35}}\\right\\}\\right]"
      ]
     },
     "execution_count": 61,
     "metadata": {},
     "output_type": "execute_result"
    }
   ],
   "source": [
    "#x3\n",
    "reset()\n",
    "\n",
    "var('x12,x13,x14,x15,x23,x24,x25,x34,x35,x45')\n",
    "var('d1,d2,d3,d4,d5')\n",
    "var('a12,a13,a14,a15,a23,a24,a25,a34,a35,a45')\n",
    "\n",
    "load_attach_path('C:\\\\Users\\\\julia\\\\Documents\\\\unb\\\\doutorado\\\\pensar\\\\codigo_sage_v2\\\\maquina\\\\x3')\n",
    "load('out_#100111.sage')\n",
    "\n",
    "m=matrix(QQ, [[0, 0, 0, 1, 0],\n",
    "              [0, 0, 1, 0, 0],\n",
    "              [0, 0, 0, 0, 1],\n",
    "              [0, 0, 0, 0, 0],\n",
    "              [0, 0, 0, 0, 0]])\n",
    "        \n",
    "#entry of matrix: (i,j) line i collum j, means (i-1,j-1)\n",
    "sol=solve([ eq1==m[0,2],\teq2==m[0,3],\teq3==m[0,4],\teq4==m[1,2],\t\n",
    "                                            eq5==m[1,3],    eq6==m[1,4],\n",
    "                                                            eq7==m[2,4]],d1,d2,d3,d4,d5,a12,a13,a14,a15,a23,a24,a25,a34,a35,a45, solution_dict=True)\n",
    "\n",
    "show(m)\n",
    "show(sol)\n",
    "latex(sol)"
   ]
  },
  {
   "cell_type": "code",
   "execution_count": 62,
   "metadata": {},
   "outputs": [
    {
     "data": {
      "text/html": [
       "<html><script type=\"math/tex; mode=display\">\\newcommand{\\Bold}[1]{\\mathbf{#1}}\\left(\\begin{array}{rrrrr}\n",
       "0 & 0 & 0 & 0 & 0 \\\\\n",
       "0 & 0 & 1 & 0 & 0 \\\\\n",
       "0 & 0 & 0 & 0 & 1 \\\\\n",
       "0 & 0 & 0 & 0 & 0 \\\\\n",
       "0 & 0 & 0 & 0 & 0\n",
       "\\end{array}\\right)</script></html>"
      ],
      "text/latex": [
       "$$\\newcommand{\\Bold}[1]{\\mathbf{#1}}\\left(\\begin{array}{rrrrr}\n",
       "0 & 0 & 0 & 0 & 0 \\\\\n",
       "0 & 0 & 1 & 0 & 0 \\\\\n",
       "0 & 0 & 0 & 0 & 1 \\\\\n",
       "0 & 0 & 0 & 0 & 0 \\\\\n",
       "0 & 0 & 0 & 0 & 0\n",
       "\\end{array}\\right)$$"
      ],
      "text/plain": [
       "[0 0 0 0 0]\n",
       "[0 0 1 0 0]\n",
       "[0 0 0 0 1]\n",
       "[0 0 0 0 0]\n",
       "[0 0 0 0 0]"
      ]
     },
     "metadata": {},
     "output_type": "display_data"
    },
    {
     "data": {
      "text/html": [
       "<html><script type=\"math/tex; mode=display\">\\newcommand{\\Bold}[1]{\\mathbf{#1}}\\left[\\left\\{d_{1} : r_{1394}, d_{2} : 0, d_{3} : 0, d_{4} : r_{1395}, d_{5} : 0, a_{12} : r_{1396}, a_{13} : r_{1397}, a_{14} : r_{1398}, a_{15} : r_{1399}, a_{23} : r_{1400}, a_{24} : r_{1401}, a_{25} : r_{1402}, a_{34} : 0, a_{35} : r_{1403}, a_{45} : r_{1404}\\right\\}, \\left\\{d_{1} : r_{1405}, d_{2} : r_{1406}, d_{3} : \\frac{r_{1406}}{x_{23}}, d_{4} : r_{1407}, d_{5} : \\frac{r_{1406}}{x_{23} x_{35}}, a_{12} : 0, a_{13} : 0, a_{14} : r_{1408}, a_{15} : r_{1409}, a_{23} : r_{1410}, a_{24} : r_{1411}, a_{25} : r_{1412}, a_{34} : 0, a_{35} : \\frac{r_{1410} x_{23} x_{35} - r_{1406} x_{25}}{x_{23}^{2} x_{35}}, a_{45} : r_{1413}\\right\\}\\right]</script></html>"
      ],
      "text/latex": [
       "$$\\newcommand{\\Bold}[1]{\\mathbf{#1}}\\left[\\left\\{d_{1} : r_{1394}, d_{2} : 0, d_{3} : 0, d_{4} : r_{1395}, d_{5} : 0, a_{12} : r_{1396}, a_{13} : r_{1397}, a_{14} : r_{1398}, a_{15} : r_{1399}, a_{23} : r_{1400}, a_{24} : r_{1401}, a_{25} : r_{1402}, a_{34} : 0, a_{35} : r_{1403}, a_{45} : r_{1404}\\right\\}, \\left\\{d_{1} : r_{1405}, d_{2} : r_{1406}, d_{3} : \\frac{r_{1406}}{x_{23}}, d_{4} : r_{1407}, d_{5} : \\frac{r_{1406}}{x_{23} x_{35}}, a_{12} : 0, a_{13} : 0, a_{14} : r_{1408}, a_{15} : r_{1409}, a_{23} : r_{1410}, a_{24} : r_{1411}, a_{25} : r_{1412}, a_{34} : 0, a_{35} : \\frac{r_{1410} x_{23} x_{35} - r_{1406} x_{25}}{x_{23}^{2} x_{35}}, a_{45} : r_{1413}\\right\\}\\right]$$"
      ],
      "text/plain": [
       "[{d1: r1394,\n",
       "  d2: 0,\n",
       "  d3: 0,\n",
       "  d4: r1395,\n",
       "  d5: 0,\n",
       "  a12: r1396,\n",
       "  a13: r1397,\n",
       "  a14: r1398,\n",
       "  a15: r1399,\n",
       "  a23: r1400,\n",
       "  a24: r1401,\n",
       "  a25: r1402,\n",
       "  a34: 0,\n",
       "  a35: r1403,\n",
       "  a45: r1404},\n",
       " {d1: r1405,\n",
       "  d2: r1406,\n",
       "  d3: r1406/x23,\n",
       "  d4: r1407,\n",
       "  d5: r1406/(x23*x35),\n",
       "  a12: 0,\n",
       "  a13: 0,\n",
       "  a14: r1408,\n",
       "  a15: r1409,\n",
       "  a23: r1410,\n",
       "  a24: r1411,\n",
       "  a25: r1412,\n",
       "  a34: 0,\n",
       "  a35: (r1410*x23*x35 - r1406*x25)/(x23^2*x35),\n",
       "  a45: r1413}]"
      ]
     },
     "metadata": {},
     "output_type": "display_data"
    },
    {
     "data": {
      "text/plain": [
       "\\left[\\left\\{d_{1} : r_{1394}, d_{2} : 0, d_{3} : 0, d_{4} : r_{1395}, d_{5} : 0, a_{12} : r_{1396}, a_{13} : r_{1397}, a_{14} : r_{1398}, a_{15} : r_{1399}, a_{23} : r_{1400}, a_{24} : r_{1401}, a_{25} : r_{1402}, a_{34} : 0, a_{35} : r_{1403}, a_{45} : r_{1404}\\right\\}, \\left\\{d_{1} : r_{1405}, d_{2} : r_{1406}, d_{3} : \\frac{r_{1406}}{x_{23}}, d_{4} : r_{1407}, d_{5} : \\frac{r_{1406}}{x_{23} x_{35}}, a_{12} : 0, a_{13} : 0, a_{14} : r_{1408}, a_{15} : r_{1409}, a_{23} : r_{1410}, a_{24} : r_{1411}, a_{25} : r_{1412}, a_{34} : 0, a_{35} : \\frac{r_{1410} x_{23} x_{35} - r_{1406} x_{25}}{x_{23}^{2} x_{35}}, a_{45} : r_{1413}\\right\\}\\right]"
      ]
     },
     "execution_count": 62,
     "metadata": {},
     "output_type": "execute_result"
    }
   ],
   "source": [
    "#x3\n",
    "reset()\n",
    "\n",
    "var('x12,x13,x14,x15,x23,x24,x25,x34,x35,x45')\n",
    "var('d1,d2,d3,d4,d5')\n",
    "var('a12,a13,a14,a15,a23,a24,a25,a34,a35,a45')\n",
    "\n",
    "load_attach_path('C:\\\\Users\\\\julia\\\\Documents\\\\unb\\\\doutorado\\\\pensar\\\\codigo_sage_v2\\\\maquina\\\\x3')\n",
    "load('out_#101000.sage')\n",
    "\n",
    "m=matrix(QQ, [[0, 0, 0, 0, 0],\n",
    "              [0, 0, 1, 0, 0],\n",
    "              [0, 0, 0, 0, 1],\n",
    "              [0, 0, 0, 0, 0],\n",
    "              [0, 0, 0, 0, 0]])\n",
    "        \n",
    "#entry of matrix: (i,j) line i collum j, means (i-1,j-1)\n",
    "sol=solve([ eq1==m[0,2],\teq2==m[0,3],\teq3==m[0,4],\teq4==m[1,2],\t\n",
    "                                            eq5==m[1,3],    eq6==m[1,4],\n",
    "                                                            eq7==m[2,4]],d1,d2,d3,d4,d5,a12,a13,a14,a15,a23,a24,a25,a34,a35,a45, solution_dict=True)\n",
    "\n",
    "show(m)\n",
    "show(sol)\n",
    "latex(sol)"
   ]
  },
  {
   "cell_type": "code",
   "execution_count": 63,
   "metadata": {},
   "outputs": [
    {
     "data": {
      "text/html": [
       "<html><script type=\"math/tex; mode=display\">\\newcommand{\\Bold}[1]{\\mathbf{#1}}\\left(\\begin{array}{rrrrr}\n",
       "0 & 0 & 0 & 0 & 0 \\\\\n",
       "0 & 0 & 1 & 0 & 0 \\\\\n",
       "0 & 0 & 0 & 0 & 1 \\\\\n",
       "0 & 0 & 0 & 0 & 0 \\\\\n",
       "0 & 0 & 0 & 0 & 0\n",
       "\\end{array}\\right)</script></html>"
      ],
      "text/latex": [
       "$$\\newcommand{\\Bold}[1]{\\mathbf{#1}}\\left(\\begin{array}{rrrrr}\n",
       "0 & 0 & 0 & 0 & 0 \\\\\n",
       "0 & 0 & 1 & 0 & 0 \\\\\n",
       "0 & 0 & 0 & 0 & 1 \\\\\n",
       "0 & 0 & 0 & 0 & 0 \\\\\n",
       "0 & 0 & 0 & 0 & 0\n",
       "\\end{array}\\right)$$"
      ],
      "text/plain": [
       "[0 0 0 0 0]\n",
       "[0 0 1 0 0]\n",
       "[0 0 0 0 1]\n",
       "[0 0 0 0 0]\n",
       "[0 0 0 0 0]"
      ]
     },
     "metadata": {},
     "output_type": "display_data"
    },
    {
     "data": {
      "text/html": [
       "<html><script type=\"math/tex; mode=display\">\\newcommand{\\Bold}[1]{\\mathbf{#1}}\\left[\\left\\{d_{1} : r_{1414}, d_{2} : 0, d_{3} : 0, d_{4} : r_{1415}, d_{5} : 0, a_{12} : r_{1416}, a_{13} : r_{1417}, a_{14} : r_{1418}, a_{15} : r_{1419}, a_{23} : r_{1420}, a_{24} : r_{1421}, a_{25} : r_{1422}, a_{34} : 0, a_{35} : r_{1423}, a_{45} : r_{1424}\\right\\}, \\left\\{d_{1} : r_{1425}, d_{2} : r_{1426}, d_{3} : \\frac{r_{1426}}{x_{23}}, d_{4} : r_{1427}, d_{5} : \\frac{r_{1426}}{x_{23} x_{35}}, a_{12} : 0, a_{13} : \\frac{r_{1426} x_{15}}{x_{23} x_{35}}, a_{14} : r_{1428}, a_{15} : r_{1429}, a_{23} : r_{1430}, a_{24} : r_{1431}, a_{25} : r_{1432}, a_{34} : 0, a_{35} : \\frac{r_{1430} x_{23} x_{35} - r_{1426} x_{25}}{x_{23}^{2} x_{35}}, a_{45} : r_{1433}\\right\\}\\right]</script></html>"
      ],
      "text/latex": [
       "$$\\newcommand{\\Bold}[1]{\\mathbf{#1}}\\left[\\left\\{d_{1} : r_{1414}, d_{2} : 0, d_{3} : 0, d_{4} : r_{1415}, d_{5} : 0, a_{12} : r_{1416}, a_{13} : r_{1417}, a_{14} : r_{1418}, a_{15} : r_{1419}, a_{23} : r_{1420}, a_{24} : r_{1421}, a_{25} : r_{1422}, a_{34} : 0, a_{35} : r_{1423}, a_{45} : r_{1424}\\right\\}, \\left\\{d_{1} : r_{1425}, d_{2} : r_{1426}, d_{3} : \\frac{r_{1426}}{x_{23}}, d_{4} : r_{1427}, d_{5} : \\frac{r_{1426}}{x_{23} x_{35}}, a_{12} : 0, a_{13} : \\frac{r_{1426} x_{15}}{x_{23} x_{35}}, a_{14} : r_{1428}, a_{15} : r_{1429}, a_{23} : r_{1430}, a_{24} : r_{1431}, a_{25} : r_{1432}, a_{34} : 0, a_{35} : \\frac{r_{1430} x_{23} x_{35} - r_{1426} x_{25}}{x_{23}^{2} x_{35}}, a_{45} : r_{1433}\\right\\}\\right]$$"
      ],
      "text/plain": [
       "[{d1: r1414,\n",
       "  d2: 0,\n",
       "  d3: 0,\n",
       "  d4: r1415,\n",
       "  d5: 0,\n",
       "  a12: r1416,\n",
       "  a13: r1417,\n",
       "  a14: r1418,\n",
       "  a15: r1419,\n",
       "  a23: r1420,\n",
       "  a24: r1421,\n",
       "  a25: r1422,\n",
       "  a34: 0,\n",
       "  a35: r1423,\n",
       "  a45: r1424},\n",
       " {d1: r1425,\n",
       "  d2: r1426,\n",
       "  d3: r1426/x23,\n",
       "  d4: r1427,\n",
       "  d5: r1426/(x23*x35),\n",
       "  a12: 0,\n",
       "  a13: r1426*x15/(x23*x35),\n",
       "  a14: r1428,\n",
       "  a15: r1429,\n",
       "  a23: r1430,\n",
       "  a24: r1431,\n",
       "  a25: r1432,\n",
       "  a34: 0,\n",
       "  a35: (r1430*x23*x35 - r1426*x25)/(x23^2*x35),\n",
       "  a45: r1433}]"
      ]
     },
     "metadata": {},
     "output_type": "display_data"
    },
    {
     "data": {
      "text/plain": [
       "\\left[\\left\\{d_{1} : r_{1414}, d_{2} : 0, d_{3} : 0, d_{4} : r_{1415}, d_{5} : 0, a_{12} : r_{1416}, a_{13} : r_{1417}, a_{14} : r_{1418}, a_{15} : r_{1419}, a_{23} : r_{1420}, a_{24} : r_{1421}, a_{25} : r_{1422}, a_{34} : 0, a_{35} : r_{1423}, a_{45} : r_{1424}\\right\\}, \\left\\{d_{1} : r_{1425}, d_{2} : r_{1426}, d_{3} : \\frac{r_{1426}}{x_{23}}, d_{4} : r_{1427}, d_{5} : \\frac{r_{1426}}{x_{23} x_{35}}, a_{12} : 0, a_{13} : \\frac{r_{1426} x_{15}}{x_{23} x_{35}}, a_{14} : r_{1428}, a_{15} : r_{1429}, a_{23} : r_{1430}, a_{24} : r_{1431}, a_{25} : r_{1432}, a_{34} : 0, a_{35} : \\frac{r_{1430} x_{23} x_{35} - r_{1426} x_{25}}{x_{23}^{2} x_{35}}, a_{45} : r_{1433}\\right\\}\\right]"
      ]
     },
     "execution_count": 63,
     "metadata": {},
     "output_type": "execute_result"
    }
   ],
   "source": [
    "#x3\n",
    "reset()\n",
    "\n",
    "var('x12,x13,x14,x15,x23,x24,x25,x34,x35,x45')\n",
    "var('d1,d2,d3,d4,d5')\n",
    "var('a12,a13,a14,a15,a23,a24,a25,a34,a35,a45')\n",
    "\n",
    "load_attach_path('C:\\\\Users\\\\julia\\\\Documents\\\\unb\\\\doutorado\\\\pensar\\\\codigo_sage_v2\\\\maquina\\\\x3')\n",
    "load('out_#101001.sage')\n",
    "\n",
    "m=matrix(QQ, [[0, 0, 0, 0, 0],\n",
    "              [0, 0, 1, 0, 0],\n",
    "              [0, 0, 0, 0, 1],\n",
    "              [0, 0, 0, 0, 0],\n",
    "              [0, 0, 0, 0, 0]])\n",
    "        \n",
    "#entry of matrix: (i,j) line i collum j, means (i-1,j-1)\n",
    "sol=solve([ eq1==m[0,2],\teq2==m[0,3],\teq3==m[0,4],\teq4==m[1,2],\t\n",
    "                                            eq5==m[1,3],    eq6==m[1,4],\n",
    "                                                            eq7==m[2,4]],d1,d2,d3,d4,d5,a12,a13,a14,a15,a23,a24,a25,a34,a35,a45, solution_dict=True)\n",
    "\n",
    "show(m)\n",
    "show(sol)\n",
    "latex(sol)"
   ]
  },
  {
   "cell_type": "code",
   "execution_count": 64,
   "metadata": {},
   "outputs": [
    {
     "data": {
      "text/html": [
       "<html><script type=\"math/tex; mode=display\">\\newcommand{\\Bold}[1]{\\mathbf{#1}}\\left(\\begin{array}{rrrrr}\n",
       "0 & 0 & 0 & 1 & 0 \\\\\n",
       "0 & 0 & 1 & 0 & 0 \\\\\n",
       "0 & 0 & 0 & 0 & 1 \\\\\n",
       "0 & 0 & 0 & 0 & 0 \\\\\n",
       "0 & 0 & 0 & 0 & 0\n",
       "\\end{array}\\right)</script></html>"
      ],
      "text/latex": [
       "$$\\newcommand{\\Bold}[1]{\\mathbf{#1}}\\left(\\begin{array}{rrrrr}\n",
       "0 & 0 & 0 & 1 & 0 \\\\\n",
       "0 & 0 & 1 & 0 & 0 \\\\\n",
       "0 & 0 & 0 & 0 & 1 \\\\\n",
       "0 & 0 & 0 & 0 & 0 \\\\\n",
       "0 & 0 & 0 & 0 & 0\n",
       "\\end{array}\\right)$$"
      ],
      "text/plain": [
       "[0 0 0 1 0]\n",
       "[0 0 1 0 0]\n",
       "[0 0 0 0 1]\n",
       "[0 0 0 0 0]\n",
       "[0 0 0 0 0]"
      ]
     },
     "metadata": {},
     "output_type": "display_data"
    },
    {
     "data": {
      "text/html": [
       "<html><script type=\"math/tex; mode=display\">\\newcommand{\\Bold}[1]{\\mathbf{#1}}\\left[\\left\\{d_{1} : r_{1434}, d_{2} : 0, d_{3} : 0, d_{4} : r_{1435}, d_{5} : 0, a_{12} : r_{1436}, a_{13} : r_{1437}, a_{14} : r_{1438}, a_{15} : r_{1439}, a_{23} : r_{1440}, a_{24} : r_{1441}, a_{25} : r_{1442}, a_{34} : 0, a_{35} : r_{1443}, a_{45} : r_{1444}\\right\\}, \\left\\{d_{1} : r_{1445}, d_{2} : r_{1446}, d_{3} : \\frac{r_{1446}}{x_{23}}, d_{4} : \\frac{r_{1445}}{x_{14}}, d_{5} : \\frac{r_{1446}}{x_{23} x_{35}}, a_{12} : 0, a_{13} : r_{1447}, a_{14} : r_{1448}, a_{15} : r_{1449}, a_{23} : r_{1450}, a_{24} : r_{1451}, a_{25} : r_{1452}, a_{34} : 0, a_{35} : \\frac{r_{1450} x_{23} x_{35} - r_{1446} x_{25}}{x_{23}^{2} x_{35}}, a_{45} : \\frac{r_{1447}}{x_{14}}\\right\\}\\right]</script></html>"
      ],
      "text/latex": [
       "$$\\newcommand{\\Bold}[1]{\\mathbf{#1}}\\left[\\left\\{d_{1} : r_{1434}, d_{2} : 0, d_{3} : 0, d_{4} : r_{1435}, d_{5} : 0, a_{12} : r_{1436}, a_{13} : r_{1437}, a_{14} : r_{1438}, a_{15} : r_{1439}, a_{23} : r_{1440}, a_{24} : r_{1441}, a_{25} : r_{1442}, a_{34} : 0, a_{35} : r_{1443}, a_{45} : r_{1444}\\right\\}, \\left\\{d_{1} : r_{1445}, d_{2} : r_{1446}, d_{3} : \\frac{r_{1446}}{x_{23}}, d_{4} : \\frac{r_{1445}}{x_{14}}, d_{5} : \\frac{r_{1446}}{x_{23} x_{35}}, a_{12} : 0, a_{13} : r_{1447}, a_{14} : r_{1448}, a_{15} : r_{1449}, a_{23} : r_{1450}, a_{24} : r_{1451}, a_{25} : r_{1452}, a_{34} : 0, a_{35} : \\frac{r_{1450} x_{23} x_{35} - r_{1446} x_{25}}{x_{23}^{2} x_{35}}, a_{45} : \\frac{r_{1447}}{x_{14}}\\right\\}\\right]$$"
      ],
      "text/plain": [
       "[{d1: r1434,\n",
       "  d2: 0,\n",
       "  d3: 0,\n",
       "  d4: r1435,\n",
       "  d5: 0,\n",
       "  a12: r1436,\n",
       "  a13: r1437,\n",
       "  a14: r1438,\n",
       "  a15: r1439,\n",
       "  a23: r1440,\n",
       "  a24: r1441,\n",
       "  a25: r1442,\n",
       "  a34: 0,\n",
       "  a35: r1443,\n",
       "  a45: r1444},\n",
       " {d1: r1445,\n",
       "  d2: r1446,\n",
       "  d3: r1446/x23,\n",
       "  d4: r1445/x14,\n",
       "  d5: r1446/(x23*x35),\n",
       "  a12: 0,\n",
       "  a13: r1447,\n",
       "  a14: r1448,\n",
       "  a15: r1449,\n",
       "  a23: r1450,\n",
       "  a24: r1451,\n",
       "  a25: r1452,\n",
       "  a34: 0,\n",
       "  a35: (r1450*x23*x35 - r1446*x25)/(x23^2*x35),\n",
       "  a45: r1447/x14}]"
      ]
     },
     "metadata": {},
     "output_type": "display_data"
    },
    {
     "data": {
      "text/plain": [
       "\\left[\\left\\{d_{1} : r_{1434}, d_{2} : 0, d_{3} : 0, d_{4} : r_{1435}, d_{5} : 0, a_{12} : r_{1436}, a_{13} : r_{1437}, a_{14} : r_{1438}, a_{15} : r_{1439}, a_{23} : r_{1440}, a_{24} : r_{1441}, a_{25} : r_{1442}, a_{34} : 0, a_{35} : r_{1443}, a_{45} : r_{1444}\\right\\}, \\left\\{d_{1} : r_{1445}, d_{2} : r_{1446}, d_{3} : \\frac{r_{1446}}{x_{23}}, d_{4} : \\frac{r_{1445}}{x_{14}}, d_{5} : \\frac{r_{1446}}{x_{23} x_{35}}, a_{12} : 0, a_{13} : r_{1447}, a_{14} : r_{1448}, a_{15} : r_{1449}, a_{23} : r_{1450}, a_{24} : r_{1451}, a_{25} : r_{1452}, a_{34} : 0, a_{35} : \\frac{r_{1450} x_{23} x_{35} - r_{1446} x_{25}}{x_{23}^{2} x_{35}}, a_{45} : \\frac{r_{1447}}{x_{14}}\\right\\}\\right]"
      ]
     },
     "execution_count": 64,
     "metadata": {},
     "output_type": "execute_result"
    }
   ],
   "source": [
    "#x3\n",
    "reset()\n",
    "\n",
    "var('x12,x13,x14,x15,x23,x24,x25,x34,x35,x45')\n",
    "var('d1,d2,d3,d4,d5')\n",
    "var('a12,a13,a14,a15,a23,a24,a25,a34,a35,a45')\n",
    "\n",
    "load_attach_path('C:\\\\Users\\\\julia\\\\Documents\\\\unb\\\\doutorado\\\\pensar\\\\codigo_sage_v2\\\\maquina\\\\x3')\n",
    "load('out_#101010.sage')\n",
    "\n",
    "m=matrix(QQ, [[0, 0, 0, 1, 0],\n",
    "              [0, 0, 1, 0, 0],\n",
    "              [0, 0, 0, 0, 1],\n",
    "              [0, 0, 0, 0, 0],\n",
    "              [0, 0, 0, 0, 0]])\n",
    "        \n",
    "#entry of matrix: (i,j) line i collum j, means (i-1,j-1)\n",
    "sol=solve([ eq1==m[0,2],\teq2==m[0,3],\teq3==m[0,4],\teq4==m[1,2],\t\n",
    "                                            eq5==m[1,3],    eq6==m[1,4],\n",
    "                                                            eq7==m[2,4]],d1,d2,d3,d4,d5,a12,a13,a14,a15,a23,a24,a25,a34,a35,a45, solution_dict=True)\n",
    "\n",
    "show(m)\n",
    "show(sol)\n",
    "latex(sol)"
   ]
  },
  {
   "cell_type": "code",
   "execution_count": 65,
   "metadata": {},
   "outputs": [
    {
     "data": {
      "text/html": [
       "<html><script type=\"math/tex; mode=display\">\\newcommand{\\Bold}[1]{\\mathbf{#1}}\\left(\\begin{array}{rrrrr}\n",
       "0 & 0 & 0 & 1 & 0 \\\\\n",
       "0 & 0 & 1 & 0 & 0 \\\\\n",
       "0 & 0 & 0 & 0 & 1 \\\\\n",
       "0 & 0 & 0 & 0 & 0 \\\\\n",
       "0 & 0 & 0 & 0 & 0\n",
       "\\end{array}\\right)</script></html>"
      ],
      "text/latex": [
       "$$\\newcommand{\\Bold}[1]{\\mathbf{#1}}\\left(\\begin{array}{rrrrr}\n",
       "0 & 0 & 0 & 1 & 0 \\\\\n",
       "0 & 0 & 1 & 0 & 0 \\\\\n",
       "0 & 0 & 0 & 0 & 1 \\\\\n",
       "0 & 0 & 0 & 0 & 0 \\\\\n",
       "0 & 0 & 0 & 0 & 0\n",
       "\\end{array}\\right)$$"
      ],
      "text/plain": [
       "[0 0 0 1 0]\n",
       "[0 0 1 0 0]\n",
       "[0 0 0 0 1]\n",
       "[0 0 0 0 0]\n",
       "[0 0 0 0 0]"
      ]
     },
     "metadata": {},
     "output_type": "display_data"
    },
    {
     "data": {
      "text/html": [
       "<html><script type=\"math/tex; mode=display\">\\newcommand{\\Bold}[1]{\\mathbf{#1}}\\left[\\left\\{d_{1} : r_{1453}, d_{2} : 0, d_{3} : 0, d_{4} : r_{1454}, d_{5} : 0, a_{12} : r_{1455}, a_{13} : r_{1456}, a_{14} : r_{1457}, a_{15} : r_{1458}, a_{23} : r_{1459}, a_{24} : r_{1460}, a_{25} : r_{1461}, a_{34} : 0, a_{35} : r_{1462}, a_{45} : r_{1463}\\right\\}, \\left\\{d_{1} : r_{1464}, d_{2} : r_{1465}, d_{3} : \\frac{r_{1465}}{x_{23}}, d_{4} : \\frac{r_{1464}}{x_{14}}, d_{5} : \\frac{r_{1465}}{x_{23} x_{35}}, a_{12} : 0, a_{13} : r_{1466}, a_{14} : r_{1467}, a_{15} : r_{1468}, a_{23} : r_{1469}, a_{24} : r_{1470}, a_{25} : r_{1471}, a_{34} : 0, a_{35} : \\frac{r_{1469} x_{23} x_{35} - r_{1465} x_{25}}{x_{23}^{2} x_{35}}, a_{45} : \\frac{r_{1466} x_{23} x_{35} - r_{1465} x_{15}}{x_{14} x_{23} x_{35}}\\right\\}\\right]</script></html>"
      ],
      "text/latex": [
       "$$\\newcommand{\\Bold}[1]{\\mathbf{#1}}\\left[\\left\\{d_{1} : r_{1453}, d_{2} : 0, d_{3} : 0, d_{4} : r_{1454}, d_{5} : 0, a_{12} : r_{1455}, a_{13} : r_{1456}, a_{14} : r_{1457}, a_{15} : r_{1458}, a_{23} : r_{1459}, a_{24} : r_{1460}, a_{25} : r_{1461}, a_{34} : 0, a_{35} : r_{1462}, a_{45} : r_{1463}\\right\\}, \\left\\{d_{1} : r_{1464}, d_{2} : r_{1465}, d_{3} : \\frac{r_{1465}}{x_{23}}, d_{4} : \\frac{r_{1464}}{x_{14}}, d_{5} : \\frac{r_{1465}}{x_{23} x_{35}}, a_{12} : 0, a_{13} : r_{1466}, a_{14} : r_{1467}, a_{15} : r_{1468}, a_{23} : r_{1469}, a_{24} : r_{1470}, a_{25} : r_{1471}, a_{34} : 0, a_{35} : \\frac{r_{1469} x_{23} x_{35} - r_{1465} x_{25}}{x_{23}^{2} x_{35}}, a_{45} : \\frac{r_{1466} x_{23} x_{35} - r_{1465} x_{15}}{x_{14} x_{23} x_{35}}\\right\\}\\right]$$"
      ],
      "text/plain": [
       "[{d1: r1453,\n",
       "  d2: 0,\n",
       "  d3: 0,\n",
       "  d4: r1454,\n",
       "  d5: 0,\n",
       "  a12: r1455,\n",
       "  a13: r1456,\n",
       "  a14: r1457,\n",
       "  a15: r1458,\n",
       "  a23: r1459,\n",
       "  a24: r1460,\n",
       "  a25: r1461,\n",
       "  a34: 0,\n",
       "  a35: r1462,\n",
       "  a45: r1463},\n",
       " {d1: r1464,\n",
       "  d2: r1465,\n",
       "  d3: r1465/x23,\n",
       "  d4: r1464/x14,\n",
       "  d5: r1465/(x23*x35),\n",
       "  a12: 0,\n",
       "  a13: r1466,\n",
       "  a14: r1467,\n",
       "  a15: r1468,\n",
       "  a23: r1469,\n",
       "  a24: r1470,\n",
       "  a25: r1471,\n",
       "  a34: 0,\n",
       "  a35: (r1469*x23*x35 - r1465*x25)/(x23^2*x35),\n",
       "  a45: (r1466*x23*x35 - r1465*x15)/(x14*x23*x35)}]"
      ]
     },
     "metadata": {},
     "output_type": "display_data"
    },
    {
     "data": {
      "text/plain": [
       "\\left[\\left\\{d_{1} : r_{1453}, d_{2} : 0, d_{3} : 0, d_{4} : r_{1454}, d_{5} : 0, a_{12} : r_{1455}, a_{13} : r_{1456}, a_{14} : r_{1457}, a_{15} : r_{1458}, a_{23} : r_{1459}, a_{24} : r_{1460}, a_{25} : r_{1461}, a_{34} : 0, a_{35} : r_{1462}, a_{45} : r_{1463}\\right\\}, \\left\\{d_{1} : r_{1464}, d_{2} : r_{1465}, d_{3} : \\frac{r_{1465}}{x_{23}}, d_{4} : \\frac{r_{1464}}{x_{14}}, d_{5} : \\frac{r_{1465}}{x_{23} x_{35}}, a_{12} : 0, a_{13} : r_{1466}, a_{14} : r_{1467}, a_{15} : r_{1468}, a_{23} : r_{1469}, a_{24} : r_{1470}, a_{25} : r_{1471}, a_{34} : 0, a_{35} : \\frac{r_{1469} x_{23} x_{35} - r_{1465} x_{25}}{x_{23}^{2} x_{35}}, a_{45} : \\frac{r_{1466} x_{23} x_{35} - r_{1465} x_{15}}{x_{14} x_{23} x_{35}}\\right\\}\\right]"
      ]
     },
     "execution_count": 65,
     "metadata": {},
     "output_type": "execute_result"
    }
   ],
   "source": [
    "#x3\n",
    "reset()\n",
    "\n",
    "var('x12,x13,x14,x15,x23,x24,x25,x34,x35,x45')\n",
    "var('d1,d2,d3,d4,d5')\n",
    "var('a12,a13,a14,a15,a23,a24,a25,a34,a35,a45')\n",
    "\n",
    "load_attach_path('C:\\\\Users\\\\julia\\\\Documents\\\\unb\\\\doutorado\\\\pensar\\\\codigo_sage_v2\\\\maquina\\\\x3')\n",
    "load('out_#101011.sage')\n",
    "\n",
    "m=matrix(QQ, [[0, 0, 0, 1, 0],\n",
    "              [0, 0, 1, 0, 0],\n",
    "              [0, 0, 0, 0, 1],\n",
    "              [0, 0, 0, 0, 0],\n",
    "              [0, 0, 0, 0, 0]])\n",
    "        \n",
    "#entry of matrix: (i,j) line i collum j, means (i-1,j-1)\n",
    "sol=solve([ eq1==m[0,2],\teq2==m[0,3],\teq3==m[0,4],\teq4==m[1,2],\t\n",
    "                                            eq5==m[1,3],    eq6==m[1,4],\n",
    "                                                            eq7==m[2,4]],d1,d2,d3,d4,d5,a12,a13,a14,a15,a23,a24,a25,a34,a35,a45, solution_dict=True)\n",
    "\n",
    "show(m)\n",
    "show(sol)\n",
    "latex(sol)"
   ]
  },
  {
   "cell_type": "code",
   "execution_count": 66,
   "metadata": {},
   "outputs": [
    {
     "data": {
      "text/html": [
       "<html><script type=\"math/tex; mode=display\">\\newcommand{\\Bold}[1]{\\mathbf{#1}}\\left(\\begin{array}{rrrrr}\n",
       "0 & 0 & 0 & 0 & 0 \\\\\n",
       "0 & 0 & 1 & 0 & 0 \\\\\n",
       "0 & 0 & 0 & 0 & 1 \\\\\n",
       "0 & 0 & 0 & 0 & 0 \\\\\n",
       "0 & 0 & 0 & 0 & 0\n",
       "\\end{array}\\right)</script></html>"
      ],
      "text/latex": [
       "$$\\newcommand{\\Bold}[1]{\\mathbf{#1}}\\left(\\begin{array}{rrrrr}\n",
       "0 & 0 & 0 & 0 & 0 \\\\\n",
       "0 & 0 & 1 & 0 & 0 \\\\\n",
       "0 & 0 & 0 & 0 & 1 \\\\\n",
       "0 & 0 & 0 & 0 & 0 \\\\\n",
       "0 & 0 & 0 & 0 & 0\n",
       "\\end{array}\\right)$$"
      ],
      "text/plain": [
       "[0 0 0 0 0]\n",
       "[0 0 1 0 0]\n",
       "[0 0 0 0 1]\n",
       "[0 0 0 0 0]\n",
       "[0 0 0 0 0]"
      ]
     },
     "metadata": {},
     "output_type": "display_data"
    },
    {
     "data": {
      "text/html": [
       "<html><script type=\"math/tex; mode=display\">\\newcommand{\\Bold}[1]{\\mathbf{#1}}\\left[\\left\\{d_{1} : r_{1472}, d_{2} : 0, d_{3} : 0, d_{4} : r_{1473}, d_{5} : 0, a_{12} : r_{1474}, a_{13} : r_{1475}, a_{14} : r_{1476}, a_{15} : r_{1477}, a_{23} : r_{1478}, a_{24} : r_{1479}, a_{25} : r_{1480}, a_{34} : 0, a_{35} : r_{1481}, a_{45} : r_{1482}\\right\\}, \\left\\{d_{1} : r_{1483}, d_{2} : r_{1484}, d_{3} : \\frac{r_{1484}}{x_{23}}, d_{4} : r_{1485}, d_{5} : \\frac{r_{1484}}{x_{23} x_{35}}, a_{12} : \\frac{r_{1484} x_{13}}{x_{23}}, a_{13} : r_{1486}, a_{14} : r_{1487}, a_{15} : r_{1488}, a_{23} : \\frac{r_{1486} x_{23}^{2} x_{35} + r_{1484} x_{13} x_{25}}{x_{13} x_{23} x_{35}}, a_{24} : r_{1489}, a_{25} : r_{1490}, a_{34} : 0, a_{35} : \\frac{r_{1486}}{x_{13}}, a_{45} : r_{1491}\\right\\}\\right]</script></html>"
      ],
      "text/latex": [
       "$$\\newcommand{\\Bold}[1]{\\mathbf{#1}}\\left[\\left\\{d_{1} : r_{1472}, d_{2} : 0, d_{3} : 0, d_{4} : r_{1473}, d_{5} : 0, a_{12} : r_{1474}, a_{13} : r_{1475}, a_{14} : r_{1476}, a_{15} : r_{1477}, a_{23} : r_{1478}, a_{24} : r_{1479}, a_{25} : r_{1480}, a_{34} : 0, a_{35} : r_{1481}, a_{45} : r_{1482}\\right\\}, \\left\\{d_{1} : r_{1483}, d_{2} : r_{1484}, d_{3} : \\frac{r_{1484}}{x_{23}}, d_{4} : r_{1485}, d_{5} : \\frac{r_{1484}}{x_{23} x_{35}}, a_{12} : \\frac{r_{1484} x_{13}}{x_{23}}, a_{13} : r_{1486}, a_{14} : r_{1487}, a_{15} : r_{1488}, a_{23} : \\frac{r_{1486} x_{23}^{2} x_{35} + r_{1484} x_{13} x_{25}}{x_{13} x_{23} x_{35}}, a_{24} : r_{1489}, a_{25} : r_{1490}, a_{34} : 0, a_{35} : \\frac{r_{1486}}{x_{13}}, a_{45} : r_{1491}\\right\\}\\right]$$"
      ],
      "text/plain": [
       "[{d1: r1472,\n",
       "  d2: 0,\n",
       "  d3: 0,\n",
       "  d4: r1473,\n",
       "  d5: 0,\n",
       "  a12: r1474,\n",
       "  a13: r1475,\n",
       "  a14: r1476,\n",
       "  a15: r1477,\n",
       "  a23: r1478,\n",
       "  a24: r1479,\n",
       "  a25: r1480,\n",
       "  a34: 0,\n",
       "  a35: r1481,\n",
       "  a45: r1482},\n",
       " {d1: r1483,\n",
       "  d2: r1484,\n",
       "  d3: r1484/x23,\n",
       "  d4: r1485,\n",
       "  d5: r1484/(x23*x35),\n",
       "  a12: r1484*x13/x23,\n",
       "  a13: r1486,\n",
       "  a14: r1487,\n",
       "  a15: r1488,\n",
       "  a23: (r1486*x23^2*x35 + r1484*x13*x25)/(x13*x23*x35),\n",
       "  a24: r1489,\n",
       "  a25: r1490,\n",
       "  a34: 0,\n",
       "  a35: r1486/x13,\n",
       "  a45: r1491}]"
      ]
     },
     "metadata": {},
     "output_type": "display_data"
    },
    {
     "data": {
      "text/plain": [
       "\\left[\\left\\{d_{1} : r_{1472}, d_{2} : 0, d_{3} : 0, d_{4} : r_{1473}, d_{5} : 0, a_{12} : r_{1474}, a_{13} : r_{1475}, a_{14} : r_{1476}, a_{15} : r_{1477}, a_{23} : r_{1478}, a_{24} : r_{1479}, a_{25} : r_{1480}, a_{34} : 0, a_{35} : r_{1481}, a_{45} : r_{1482}\\right\\}, \\left\\{d_{1} : r_{1483}, d_{2} : r_{1484}, d_{3} : \\frac{r_{1484}}{x_{23}}, d_{4} : r_{1485}, d_{5} : \\frac{r_{1484}}{x_{23} x_{35}}, a_{12} : \\frac{r_{1484} x_{13}}{x_{23}}, a_{13} : r_{1486}, a_{14} : r_{1487}, a_{15} : r_{1488}, a_{23} : \\frac{r_{1486} x_{23}^{2} x_{35} + r_{1484} x_{13} x_{25}}{x_{13} x_{23} x_{35}}, a_{24} : r_{1489}, a_{25} : r_{1490}, a_{34} : 0, a_{35} : \\frac{r_{1486}}{x_{13}}, a_{45} : r_{1491}\\right\\}\\right]"
      ]
     },
     "execution_count": 66,
     "metadata": {},
     "output_type": "execute_result"
    }
   ],
   "source": [
    "#x3\n",
    "reset()\n",
    "\n",
    "var('x12,x13,x14,x15,x23,x24,x25,x34,x35,x45')\n",
    "var('d1,d2,d3,d4,d5')\n",
    "var('a12,a13,a14,a15,a23,a24,a25,a34,a35,a45')\n",
    "\n",
    "load_attach_path('C:\\\\Users\\\\julia\\\\Documents\\\\unb\\\\doutorado\\\\pensar\\\\codigo_sage_v2\\\\maquina\\\\x3')\n",
    "load('out_#101100.sage')\n",
    "\n",
    "m=matrix(QQ, [[0, 0, 0, 0, 0],\n",
    "              [0, 0, 1, 0, 0],\n",
    "              [0, 0, 0, 0, 1],\n",
    "              [0, 0, 0, 0, 0],\n",
    "              [0, 0, 0, 0, 0]])\n",
    "        \n",
    "#entry of matrix: (i,j) line i collum j, means (i-1,j-1)\n",
    "sol=solve([ eq1==m[0,2],\teq2==m[0,3],\teq3==m[0,4],\teq4==m[1,2],\t\n",
    "                                            eq5==m[1,3],    eq6==m[1,4],\n",
    "                                                            eq7==m[2,4]],d1,d2,d3,d4,d5,a12,a13,a14,a15,a23,a24,a25,a34,a35,a45, solution_dict=True)\n",
    "\n",
    "show(m)\n",
    "show(sol)\n",
    "latex(sol)"
   ]
  },
  {
   "cell_type": "code",
   "execution_count": 67,
   "metadata": {},
   "outputs": [
    {
     "data": {
      "text/html": [
       "<html><script type=\"math/tex; mode=display\">\\newcommand{\\Bold}[1]{\\mathbf{#1}}\\left(\\begin{array}{rrrrr}\n",
       "0 & 0 & 0 & 0 & 0 \\\\\n",
       "0 & 0 & 1 & 0 & 0 \\\\\n",
       "0 & 0 & 0 & 0 & 1 \\\\\n",
       "0 & 0 & 0 & 0 & 0 \\\\\n",
       "0 & 0 & 0 & 0 & 0\n",
       "\\end{array}\\right)</script></html>"
      ],
      "text/latex": [
       "$$\\newcommand{\\Bold}[1]{\\mathbf{#1}}\\left(\\begin{array}{rrrrr}\n",
       "0 & 0 & 0 & 0 & 0 \\\\\n",
       "0 & 0 & 1 & 0 & 0 \\\\\n",
       "0 & 0 & 0 & 0 & 1 \\\\\n",
       "0 & 0 & 0 & 0 & 0 \\\\\n",
       "0 & 0 & 0 & 0 & 0\n",
       "\\end{array}\\right)$$"
      ],
      "text/plain": [
       "[0 0 0 0 0]\n",
       "[0 0 1 0 0]\n",
       "[0 0 0 0 1]\n",
       "[0 0 0 0 0]\n",
       "[0 0 0 0 0]"
      ]
     },
     "metadata": {},
     "output_type": "display_data"
    },
    {
     "data": {
      "text/html": [
       "<html><script type=\"math/tex; mode=display\">\\newcommand{\\Bold}[1]{\\mathbf{#1}}\\left[\\left\\{d_{1} : r_{1492}, d_{2} : 0, d_{3} : 0, d_{4} : r_{1493}, d_{5} : 0, a_{12} : r_{1494}, a_{13} : r_{1495}, a_{14} : r_{1496}, a_{15} : r_{1497}, a_{23} : r_{1498}, a_{24} : r_{1499}, a_{25} : r_{1500}, a_{34} : 0, a_{35} : r_{1501}, a_{45} : r_{1502}\\right\\}, \\left\\{d_{1} : r_{1503}, d_{2} : r_{1504}, d_{3} : \\frac{r_{1504}}{x_{23}}, d_{4} : r_{1505}, d_{5} : \\frac{r_{1504}}{x_{23} x_{35}}, a_{12} : \\frac{r_{1504} x_{13}}{x_{23}}, a_{13} : r_{1506}, a_{14} : r_{1507}, a_{15} : r_{1508}, a_{23} : \\frac{r_{1506} x_{23}^{2} x_{35} - r_{1504} x_{15} x_{23} + r_{1504} x_{13} x_{25}}{x_{13} x_{23} x_{35}}, a_{24} : r_{1509}, a_{25} : r_{1510}, a_{34} : 0, a_{35} : \\frac{r_{1506} x_{23} x_{35} - r_{1504} x_{15}}{x_{13} x_{23} x_{35}}, a_{45} : r_{1511}\\right\\}\\right]</script></html>"
      ],
      "text/latex": [
       "$$\\newcommand{\\Bold}[1]{\\mathbf{#1}}\\left[\\left\\{d_{1} : r_{1492}, d_{2} : 0, d_{3} : 0, d_{4} : r_{1493}, d_{5} : 0, a_{12} : r_{1494}, a_{13} : r_{1495}, a_{14} : r_{1496}, a_{15} : r_{1497}, a_{23} : r_{1498}, a_{24} : r_{1499}, a_{25} : r_{1500}, a_{34} : 0, a_{35} : r_{1501}, a_{45} : r_{1502}\\right\\}, \\left\\{d_{1} : r_{1503}, d_{2} : r_{1504}, d_{3} : \\frac{r_{1504}}{x_{23}}, d_{4} : r_{1505}, d_{5} : \\frac{r_{1504}}{x_{23} x_{35}}, a_{12} : \\frac{r_{1504} x_{13}}{x_{23}}, a_{13} : r_{1506}, a_{14} : r_{1507}, a_{15} : r_{1508}, a_{23} : \\frac{r_{1506} x_{23}^{2} x_{35} - r_{1504} x_{15} x_{23} + r_{1504} x_{13} x_{25}}{x_{13} x_{23} x_{35}}, a_{24} : r_{1509}, a_{25} : r_{1510}, a_{34} : 0, a_{35} : \\frac{r_{1506} x_{23} x_{35} - r_{1504} x_{15}}{x_{13} x_{23} x_{35}}, a_{45} : r_{1511}\\right\\}\\right]$$"
      ],
      "text/plain": [
       "[{d1: r1492,\n",
       "  d2: 0,\n",
       "  d3: 0,\n",
       "  d4: r1493,\n",
       "  d5: 0,\n",
       "  a12: r1494,\n",
       "  a13: r1495,\n",
       "  a14: r1496,\n",
       "  a15: r1497,\n",
       "  a23: r1498,\n",
       "  a24: r1499,\n",
       "  a25: r1500,\n",
       "  a34: 0,\n",
       "  a35: r1501,\n",
       "  a45: r1502},\n",
       " {d1: r1503,\n",
       "  d2: r1504,\n",
       "  d3: r1504/x23,\n",
       "  d4: r1505,\n",
       "  d5: r1504/(x23*x35),\n",
       "  a12: r1504*x13/x23,\n",
       "  a13: r1506,\n",
       "  a14: r1507,\n",
       "  a15: r1508,\n",
       "  a23: (r1506*x23^2*x35 - r1504*x15*x23 + r1504*x13*x25)/(x13*x23*x35),\n",
       "  a24: r1509,\n",
       "  a25: r1510,\n",
       "  a34: 0,\n",
       "  a35: (r1506*x23*x35 - r1504*x15)/(x13*x23*x35),\n",
       "  a45: r1511}]"
      ]
     },
     "metadata": {},
     "output_type": "display_data"
    },
    {
     "data": {
      "text/plain": [
       "\\left[\\left\\{d_{1} : r_{1492}, d_{2} : 0, d_{3} : 0, d_{4} : r_{1493}, d_{5} : 0, a_{12} : r_{1494}, a_{13} : r_{1495}, a_{14} : r_{1496}, a_{15} : r_{1497}, a_{23} : r_{1498}, a_{24} : r_{1499}, a_{25} : r_{1500}, a_{34} : 0, a_{35} : r_{1501}, a_{45} : r_{1502}\\right\\}, \\left\\{d_{1} : r_{1503}, d_{2} : r_{1504}, d_{3} : \\frac{r_{1504}}{x_{23}}, d_{4} : r_{1505}, d_{5} : \\frac{r_{1504}}{x_{23} x_{35}}, a_{12} : \\frac{r_{1504} x_{13}}{x_{23}}, a_{13} : r_{1506}, a_{14} : r_{1507}, a_{15} : r_{1508}, a_{23} : \\frac{r_{1506} x_{23}^{2} x_{35} - r_{1504} x_{15} x_{23} + r_{1504} x_{13} x_{25}}{x_{13} x_{23} x_{35}}, a_{24} : r_{1509}, a_{25} : r_{1510}, a_{34} : 0, a_{35} : \\frac{r_{1506} x_{23} x_{35} - r_{1504} x_{15}}{x_{13} x_{23} x_{35}}, a_{45} : r_{1511}\\right\\}\\right]"
      ]
     },
     "execution_count": 67,
     "metadata": {},
     "output_type": "execute_result"
    }
   ],
   "source": [
    "#x3\n",
    "reset()\n",
    "\n",
    "var('x12,x13,x14,x15,x23,x24,x25,x34,x35,x45')\n",
    "var('d1,d2,d3,d4,d5')\n",
    "var('a12,a13,a14,a15,a23,a24,a25,a34,a35,a45')\n",
    "\n",
    "load_attach_path('C:\\\\Users\\\\julia\\\\Documents\\\\unb\\\\doutorado\\\\pensar\\\\codigo_sage_v2\\\\maquina\\\\x3')\n",
    "load('out_#101101.sage')\n",
    "\n",
    "m=matrix(QQ, [[0, 0, 0, 0, 0],\n",
    "              [0, 0, 1, 0, 0],\n",
    "              [0, 0, 0, 0, 1],\n",
    "              [0, 0, 0, 0, 0],\n",
    "              [0, 0, 0, 0, 0]])\n",
    "        \n",
    "#entry of matrix: (i,j) line i collum j, means (i-1,j-1)\n",
    "sol=solve([ eq1==m[0,2],\teq2==m[0,3],\teq3==m[0,4],\teq4==m[1,2],\t\n",
    "                                            eq5==m[1,3],    eq6==m[1,4],\n",
    "                                                            eq7==m[2,4]],d1,d2,d3,d4,d5,a12,a13,a14,a15,a23,a24,a25,a34,a35,a45, solution_dict=True)\n",
    "\n",
    "show(m)\n",
    "show(sol)\n",
    "latex(sol)"
   ]
  },
  {
   "cell_type": "code",
   "execution_count": 69,
   "metadata": {},
   "outputs": [
    {
     "data": {
      "text/html": [
       "<html><script type=\"math/tex; mode=display\">\\newcommand{\\Bold}[1]{\\mathbf{#1}}\\left(\\begin{array}{rrrrr}\n",
       "0 & 0 & 0 & 1 & 0 \\\\\n",
       "0 & 0 & 1 & 0 & 0 \\\\\n",
       "0 & 0 & 0 & 0 & 1 \\\\\n",
       "0 & 0 & 0 & 0 & 0 \\\\\n",
       "0 & 0 & 0 & 0 & 0\n",
       "\\end{array}\\right)</script></html>"
      ],
      "text/latex": [
       "$$\\newcommand{\\Bold}[1]{\\mathbf{#1}}\\left(\\begin{array}{rrrrr}\n",
       "0 & 0 & 0 & 1 & 0 \\\\\n",
       "0 & 0 & 1 & 0 & 0 \\\\\n",
       "0 & 0 & 0 & 0 & 1 \\\\\n",
       "0 & 0 & 0 & 0 & 0 \\\\\n",
       "0 & 0 & 0 & 0 & 0\n",
       "\\end{array}\\right)$$"
      ],
      "text/plain": [
       "[0 0 0 1 0]\n",
       "[0 0 1 0 0]\n",
       "[0 0 0 0 1]\n",
       "[0 0 0 0 0]\n",
       "[0 0 0 0 0]"
      ]
     },
     "metadata": {},
     "output_type": "display_data"
    },
    {
     "data": {
      "text/html": [
       "<html><script type=\"math/tex; mode=display\">\\newcommand{\\Bold}[1]{\\mathbf{#1}}\\left[\\left\\{d_{1} : r_{1531}, d_{2} : 0, d_{3} : 0, d_{4} : r_{1532}, d_{5} : 0, a_{12} : r_{1533}, a_{13} : r_{1534}, a_{14} : r_{1535}, a_{15} : r_{1536}, a_{23} : r_{1537}, a_{24} : r_{1538}, a_{25} : r_{1539}, a_{34} : 0, a_{35} : r_{1540}, a_{45} : r_{1541}\\right\\}, \\left\\{d_{1} : r_{1542}, d_{2} : r_{1543}, d_{3} : \\frac{r_{1543}}{x_{23}}, d_{4} : \\frac{r_{1542}}{x_{14}}, d_{5} : \\frac{r_{1543}}{x_{23} x_{35}}, a_{12} : \\frac{r_{1543} x_{13}}{x_{23}}, a_{13} : r_{1544}, a_{14} : r_{1545}, a_{15} : r_{1546}, a_{23} : r_{1547}, a_{24} : r_{1548}, a_{25} : r_{1549}, a_{34} : 0, a_{35} : \\frac{r_{1547} x_{23} x_{35} - r_{1543} x_{25}}{x_{23}^{2} x_{35}}, a_{45} : \\frac{r_{1543} x_{13} x_{25} - {\\left(r_{1547} x_{13} x_{23} - r_{1544} x_{23}^{2}\\right)} x_{35}}{x_{14} x_{23}^{2} x_{35}}\\right\\}\\right]</script></html>"
      ],
      "text/latex": [
       "$$\\newcommand{\\Bold}[1]{\\mathbf{#1}}\\left[\\left\\{d_{1} : r_{1531}, d_{2} : 0, d_{3} : 0, d_{4} : r_{1532}, d_{5} : 0, a_{12} : r_{1533}, a_{13} : r_{1534}, a_{14} : r_{1535}, a_{15} : r_{1536}, a_{23} : r_{1537}, a_{24} : r_{1538}, a_{25} : r_{1539}, a_{34} : 0, a_{35} : r_{1540}, a_{45} : r_{1541}\\right\\}, \\left\\{d_{1} : r_{1542}, d_{2} : r_{1543}, d_{3} : \\frac{r_{1543}}{x_{23}}, d_{4} : \\frac{r_{1542}}{x_{14}}, d_{5} : \\frac{r_{1543}}{x_{23} x_{35}}, a_{12} : \\frac{r_{1543} x_{13}}{x_{23}}, a_{13} : r_{1544}, a_{14} : r_{1545}, a_{15} : r_{1546}, a_{23} : r_{1547}, a_{24} : r_{1548}, a_{25} : r_{1549}, a_{34} : 0, a_{35} : \\frac{r_{1547} x_{23} x_{35} - r_{1543} x_{25}}{x_{23}^{2} x_{35}}, a_{45} : \\frac{r_{1543} x_{13} x_{25} - {\\left(r_{1547} x_{13} x_{23} - r_{1544} x_{23}^{2}\\right)} x_{35}}{x_{14} x_{23}^{2} x_{35}}\\right\\}\\right]$$"
      ],
      "text/plain": [
       "[{d1: r1531,\n",
       "  d2: 0,\n",
       "  d3: 0,\n",
       "  d4: r1532,\n",
       "  d5: 0,\n",
       "  a12: r1533,\n",
       "  a13: r1534,\n",
       "  a14: r1535,\n",
       "  a15: r1536,\n",
       "  a23: r1537,\n",
       "  a24: r1538,\n",
       "  a25: r1539,\n",
       "  a34: 0,\n",
       "  a35: r1540,\n",
       "  a45: r1541},\n",
       " {d1: r1542,\n",
       "  d2: r1543,\n",
       "  d3: r1543/x23,\n",
       "  d4: r1542/x14,\n",
       "  d5: r1543/(x23*x35),\n",
       "  a12: r1543*x13/x23,\n",
       "  a13: r1544,\n",
       "  a14: r1545,\n",
       "  a15: r1546,\n",
       "  a23: r1547,\n",
       "  a24: r1548,\n",
       "  a25: r1549,\n",
       "  a34: 0,\n",
       "  a35: (r1547*x23*x35 - r1543*x25)/(x23^2*x35),\n",
       "  a45: (r1543*x13*x25 - (r1547*x13*x23 - r1544*x23^2)*x35)/(x14*x23^2*x35)}]"
      ]
     },
     "metadata": {},
     "output_type": "display_data"
    },
    {
     "data": {
      "text/plain": [
       "\\left[\\left\\{d_{1} : r_{1531}, d_{2} : 0, d_{3} : 0, d_{4} : r_{1532}, d_{5} : 0, a_{12} : r_{1533}, a_{13} : r_{1534}, a_{14} : r_{1535}, a_{15} : r_{1536}, a_{23} : r_{1537}, a_{24} : r_{1538}, a_{25} : r_{1539}, a_{34} : 0, a_{35} : r_{1540}, a_{45} : r_{1541}\\right\\}, \\left\\{d_{1} : r_{1542}, d_{2} : r_{1543}, d_{3} : \\frac{r_{1543}}{x_{23}}, d_{4} : \\frac{r_{1542}}{x_{14}}, d_{5} : \\frac{r_{1543}}{x_{23} x_{35}}, a_{12} : \\frac{r_{1543} x_{13}}{x_{23}}, a_{13} : r_{1544}, a_{14} : r_{1545}, a_{15} : r_{1546}, a_{23} : r_{1547}, a_{24} : r_{1548}, a_{25} : r_{1549}, a_{34} : 0, a_{35} : \\frac{r_{1547} x_{23} x_{35} - r_{1543} x_{25}}{x_{23}^{2} x_{35}}, a_{45} : \\frac{r_{1543} x_{13} x_{25} - {\\left(r_{1547} x_{13} x_{23} - r_{1544} x_{23}^{2}\\right)} x_{35}}{x_{14} x_{23}^{2} x_{35}}\\right\\}\\right]"
      ]
     },
     "execution_count": 69,
     "metadata": {},
     "output_type": "execute_result"
    }
   ],
   "source": [
    "#x3\n",
    "reset()\n",
    "\n",
    "var('x12,x13,x14,x15,x23,x24,x25,x34,x35,x45')\n",
    "var('d1,d2,d3,d4,d5')\n",
    "var('a12,a13,a14,a15,a23,a24,a25,a34,a35,a45')\n",
    "\n",
    "load_attach_path('C:\\\\Users\\\\julia\\\\Documents\\\\unb\\\\doutorado\\\\pensar\\\\codigo_sage_v2\\\\maquina\\\\x3')\n",
    "load('out_#101110.sage')\n",
    "\n",
    "m=matrix(QQ, [[0, 0, 0, 1, 0],\n",
    "              [0, 0, 1, 0, 0],\n",
    "              [0, 0, 0, 0, 1],\n",
    "              [0, 0, 0, 0, 0],\n",
    "              [0, 0, 0, 0, 0]])\n",
    "        \n",
    "#entry of matrix: (i,j) line i collum j, means (i-1,j-1)\n",
    "sol=solve([ eq1==m[0,2],\teq2==m[0,3],\teq3==m[0,4],\teq4==m[1,2],\t\n",
    "                                            eq5==m[1,3],    eq6==m[1,4],\n",
    "                                                            eq7==m[2,4]],d1,d2,d3,d4,d5,a12,a13,a14,a15,a23,a24,a25,a34,a35,a45, solution_dict=True)\n",
    "\n",
    "show(m)\n",
    "show(sol)\n",
    "latex(sol)"
   ]
  },
  {
   "cell_type": "code",
   "execution_count": 70,
   "metadata": {},
   "outputs": [
    {
     "data": {
      "text/html": [
       "<html><script type=\"math/tex; mode=display\">\\newcommand{\\Bold}[1]{\\mathbf{#1}}\\left(\\begin{array}{rrrrr}\n",
       "0 & 0 & 0 & 1 & 0 \\\\\n",
       "0 & 0 & 1 & 0 & 0 \\\\\n",
       "0 & 0 & 0 & 0 & 1 \\\\\n",
       "0 & 0 & 0 & 0 & 0 \\\\\n",
       "0 & 0 & 0 & 0 & 0\n",
       "\\end{array}\\right)</script></html>"
      ],
      "text/latex": [
       "$$\\newcommand{\\Bold}[1]{\\mathbf{#1}}\\left(\\begin{array}{rrrrr}\n",
       "0 & 0 & 0 & 1 & 0 \\\\\n",
       "0 & 0 & 1 & 0 & 0 \\\\\n",
       "0 & 0 & 0 & 0 & 1 \\\\\n",
       "0 & 0 & 0 & 0 & 0 \\\\\n",
       "0 & 0 & 0 & 0 & 0\n",
       "\\end{array}\\right)$$"
      ],
      "text/plain": [
       "[0 0 0 1 0]\n",
       "[0 0 1 0 0]\n",
       "[0 0 0 0 1]\n",
       "[0 0 0 0 0]\n",
       "[0 0 0 0 0]"
      ]
     },
     "metadata": {},
     "output_type": "display_data"
    },
    {
     "data": {
      "text/html": [
       "<html><script type=\"math/tex; mode=display\">\\newcommand{\\Bold}[1]{\\mathbf{#1}}\\left[\\left\\{d_{1} : r_{1550}, d_{2} : 0, d_{3} : 0, d_{4} : r_{1551}, d_{5} : 0, a_{12} : r_{1552}, a_{13} : r_{1553}, a_{14} : r_{1554}, a_{15} : r_{1555}, a_{23} : r_{1556}, a_{24} : r_{1557}, a_{25} : r_{1558}, a_{34} : 0, a_{35} : r_{1559}, a_{45} : r_{1560}\\right\\}, \\left\\{d_{1} : r_{1561}, d_{2} : r_{1562}, d_{3} : \\frac{r_{1562}}{x_{23}}, d_{4} : \\frac{r_{1561}}{x_{14}}, d_{5} : \\frac{r_{1562}}{x_{23} x_{35}}, a_{12} : \\frac{r_{1562} x_{13}}{x_{23}}, a_{13} : r_{1563}, a_{14} : r_{1564}, a_{15} : r_{1565}, a_{23} : r_{1566}, a_{24} : r_{1567}, a_{25} : r_{1568}, a_{34} : 0, a_{35} : \\frac{r_{1566} x_{23} x_{35} - r_{1562} x_{25}}{x_{23}^{2} x_{35}}, a_{45} : -\\frac{r_{1562} x_{15} x_{23} - r_{1562} x_{13} x_{25} + {\\left(r_{1566} x_{13} x_{23} - r_{1563} x_{23}^{2}\\right)} x_{35}}{x_{14} x_{23}^{2} x_{35}}\\right\\}\\right]</script></html>"
      ],
      "text/latex": [
       "$$\\newcommand{\\Bold}[1]{\\mathbf{#1}}\\left[\\left\\{d_{1} : r_{1550}, d_{2} : 0, d_{3} : 0, d_{4} : r_{1551}, d_{5} : 0, a_{12} : r_{1552}, a_{13} : r_{1553}, a_{14} : r_{1554}, a_{15} : r_{1555}, a_{23} : r_{1556}, a_{24} : r_{1557}, a_{25} : r_{1558}, a_{34} : 0, a_{35} : r_{1559}, a_{45} : r_{1560}\\right\\}, \\left\\{d_{1} : r_{1561}, d_{2} : r_{1562}, d_{3} : \\frac{r_{1562}}{x_{23}}, d_{4} : \\frac{r_{1561}}{x_{14}}, d_{5} : \\frac{r_{1562}}{x_{23} x_{35}}, a_{12} : \\frac{r_{1562} x_{13}}{x_{23}}, a_{13} : r_{1563}, a_{14} : r_{1564}, a_{15} : r_{1565}, a_{23} : r_{1566}, a_{24} : r_{1567}, a_{25} : r_{1568}, a_{34} : 0, a_{35} : \\frac{r_{1566} x_{23} x_{35} - r_{1562} x_{25}}{x_{23}^{2} x_{35}}, a_{45} : -\\frac{r_{1562} x_{15} x_{23} - r_{1562} x_{13} x_{25} + {\\left(r_{1566} x_{13} x_{23} - r_{1563} x_{23}^{2}\\right)} x_{35}}{x_{14} x_{23}^{2} x_{35}}\\right\\}\\right]$$"
      ],
      "text/plain": [
       "[{d1: r1550,\n",
       "  d2: 0,\n",
       "  d3: 0,\n",
       "  d4: r1551,\n",
       "  d5: 0,\n",
       "  a12: r1552,\n",
       "  a13: r1553,\n",
       "  a14: r1554,\n",
       "  a15: r1555,\n",
       "  a23: r1556,\n",
       "  a24: r1557,\n",
       "  a25: r1558,\n",
       "  a34: 0,\n",
       "  a35: r1559,\n",
       "  a45: r1560},\n",
       " {d1: r1561,\n",
       "  d2: r1562,\n",
       "  d3: r1562/x23,\n",
       "  d4: r1561/x14,\n",
       "  d5: r1562/(x23*x35),\n",
       "  a12: r1562*x13/x23,\n",
       "  a13: r1563,\n",
       "  a14: r1564,\n",
       "  a15: r1565,\n",
       "  a23: r1566,\n",
       "  a24: r1567,\n",
       "  a25: r1568,\n",
       "  a34: 0,\n",
       "  a35: (r1566*x23*x35 - r1562*x25)/(x23^2*x35),\n",
       "  a45: -(r1562*x15*x23 - r1562*x13*x25 + (r1566*x13*x23 - r1563*x23^2)*x35)/(x14*x23^2*x35)}]"
      ]
     },
     "metadata": {},
     "output_type": "display_data"
    },
    {
     "data": {
      "text/plain": [
       "\\left[\\left\\{d_{1} : r_{1550}, d_{2} : 0, d_{3} : 0, d_{4} : r_{1551}, d_{5} : 0, a_{12} : r_{1552}, a_{13} : r_{1553}, a_{14} : r_{1554}, a_{15} : r_{1555}, a_{23} : r_{1556}, a_{24} : r_{1557}, a_{25} : r_{1558}, a_{34} : 0, a_{35} : r_{1559}, a_{45} : r_{1560}\\right\\}, \\left\\{d_{1} : r_{1561}, d_{2} : r_{1562}, d_{3} : \\frac{r_{1562}}{x_{23}}, d_{4} : \\frac{r_{1561}}{x_{14}}, d_{5} : \\frac{r_{1562}}{x_{23} x_{35}}, a_{12} : \\frac{r_{1562} x_{13}}{x_{23}}, a_{13} : r_{1563}, a_{14} : r_{1564}, a_{15} : r_{1565}, a_{23} : r_{1566}, a_{24} : r_{1567}, a_{25} : r_{1568}, a_{34} : 0, a_{35} : \\frac{r_{1566} x_{23} x_{35} - r_{1562} x_{25}}{x_{23}^{2} x_{35}}, a_{45} : -\\frac{r_{1562} x_{15} x_{23} - r_{1562} x_{13} x_{25} + {\\left(r_{1566} x_{13} x_{23} - r_{1563} x_{23}^{2}\\right)} x_{35}}{x_{14} x_{23}^{2} x_{35}}\\right\\}\\right]"
      ]
     },
     "execution_count": 70,
     "metadata": {},
     "output_type": "execute_result"
    }
   ],
   "source": [
    "#x3\n",
    "reset()\n",
    "\n",
    "var('x12,x13,x14,x15,x23,x24,x25,x34,x35,x45')\n",
    "var('d1,d2,d3,d4,d5')\n",
    "var('a12,a13,a14,a15,a23,a24,a25,a34,a35,a45')\n",
    "\n",
    "load_attach_path('C:\\\\Users\\\\julia\\\\Documents\\\\unb\\\\doutorado\\\\pensar\\\\codigo_sage_v2\\\\maquina\\\\x3')\n",
    "load('out_#101111.sage')\n",
    "\n",
    "m=matrix(QQ, [[0, 0, 0, 1, 0],\n",
    "              [0, 0, 1, 0, 0],\n",
    "              [0, 0, 0, 0, 1],\n",
    "              [0, 0, 0, 0, 0],\n",
    "              [0, 0, 0, 0, 0]])\n",
    "        \n",
    "#entry of matrix: (i,j) line i collum j, means (i-1,j-1)\n",
    "sol=solve([ eq1==m[0,2],\teq2==m[0,3],\teq3==m[0,4],\teq4==m[1,2],\t\n",
    "                                            eq5==m[1,3],    eq6==m[1,4],\n",
    "                                                            eq7==m[2,4]],d1,d2,d3,d4,d5,a12,a13,a14,a15,a23,a24,a25,a34,a35,a45, solution_dict=True)\n",
    "\n",
    "show(m)\n",
    "show(sol)\n",
    "latex(sol)"
   ]
  },
  {
   "cell_type": "code",
   "execution_count": 71,
   "metadata": {},
   "outputs": [
    {
     "data": {
      "text/html": [
       "<html><script type=\"math/tex; mode=display\">\\newcommand{\\Bold}[1]{\\mathbf{#1}}\\left(\\begin{array}{rrrrr}\n",
       "0 & 0 & 0 & 0 & 0 \\\\\n",
       "0 & 0 & 1 & 0 & 0 \\\\\n",
       "0 & 0 & 0 & 0 & 1 \\\\\n",
       "0 & 0 & 0 & 0 & 0 \\\\\n",
       "0 & 0 & 0 & 0 & 0\n",
       "\\end{array}\\right)</script></html>"
      ],
      "text/latex": [
       "$$\\newcommand{\\Bold}[1]{\\mathbf{#1}}\\left(\\begin{array}{rrrrr}\n",
       "0 & 0 & 0 & 0 & 0 \\\\\n",
       "0 & 0 & 1 & 0 & 0 \\\\\n",
       "0 & 0 & 0 & 0 & 1 \\\\\n",
       "0 & 0 & 0 & 0 & 0 \\\\\n",
       "0 & 0 & 0 & 0 & 0\n",
       "\\end{array}\\right)$$"
      ],
      "text/plain": [
       "[0 0 0 0 0]\n",
       "[0 0 1 0 0]\n",
       "[0 0 0 0 1]\n",
       "[0 0 0 0 0]\n",
       "[0 0 0 0 0]"
      ]
     },
     "metadata": {},
     "output_type": "display_data"
    },
    {
     "data": {
      "text/html": [
       "<html><script type=\"math/tex; mode=display\">\\newcommand{\\Bold}[1]{\\mathbf{#1}}\\left[\\left\\{d_{1} : r_{1569}, d_{2} : 0, d_{3} : 0, d_{4} : r_{1570}, d_{5} : 0, a_{12} : r_{1571}, a_{13} : r_{1572}, a_{14} : r_{1573}, a_{15} : r_{1574}, a_{23} : r_{1575}, a_{24} : r_{1576}, a_{25} : r_{1577}, a_{34} : -\\frac{r_{1570} x_{24}}{x_{23}}, a_{35} : r_{1578}, a_{45} : r_{1579}\\right\\}, \\left\\{d_{1} : r_{1580}, d_{2} : r_{1581}, d_{3} : \\frac{r_{1581}}{x_{23}}, d_{4} : r_{1582}, d_{5} : \\frac{r_{1581}}{x_{23} x_{35}}, a_{12} : 0, a_{13} : 0, a_{14} : r_{1583}, a_{15} : r_{1584}, a_{23} : r_{1585}, a_{24} : r_{1586}, a_{25} : r_{1587}, a_{34} : -\\frac{r_{1582} x_{24}}{x_{23}}, a_{35} : r_{1588}, a_{45} : -\\frac{r_{1588} x_{23} - r_{1585}}{x_{24}}\\right\\}\\right]</script></html>"
      ],
      "text/latex": [
       "$$\\newcommand{\\Bold}[1]{\\mathbf{#1}}\\left[\\left\\{d_{1} : r_{1569}, d_{2} : 0, d_{3} : 0, d_{4} : r_{1570}, d_{5} : 0, a_{12} : r_{1571}, a_{13} : r_{1572}, a_{14} : r_{1573}, a_{15} : r_{1574}, a_{23} : r_{1575}, a_{24} : r_{1576}, a_{25} : r_{1577}, a_{34} : -\\frac{r_{1570} x_{24}}{x_{23}}, a_{35} : r_{1578}, a_{45} : r_{1579}\\right\\}, \\left\\{d_{1} : r_{1580}, d_{2} : r_{1581}, d_{3} : \\frac{r_{1581}}{x_{23}}, d_{4} : r_{1582}, d_{5} : \\frac{r_{1581}}{x_{23} x_{35}}, a_{12} : 0, a_{13} : 0, a_{14} : r_{1583}, a_{15} : r_{1584}, a_{23} : r_{1585}, a_{24} : r_{1586}, a_{25} : r_{1587}, a_{34} : -\\frac{r_{1582} x_{24}}{x_{23}}, a_{35} : r_{1588}, a_{45} : -\\frac{r_{1588} x_{23} - r_{1585}}{x_{24}}\\right\\}\\right]$$"
      ],
      "text/plain": [
       "[{d1: r1569,\n",
       "  d2: 0,\n",
       "  d3: 0,\n",
       "  d4: r1570,\n",
       "  d5: 0,\n",
       "  a12: r1571,\n",
       "  a13: r1572,\n",
       "  a14: r1573,\n",
       "  a15: r1574,\n",
       "  a23: r1575,\n",
       "  a24: r1576,\n",
       "  a25: r1577,\n",
       "  a34: -r1570*x24/x23,\n",
       "  a35: r1578,\n",
       "  a45: r1579},\n",
       " {d1: r1580,\n",
       "  d2: r1581,\n",
       "  d3: r1581/x23,\n",
       "  d4: r1582,\n",
       "  d5: r1581/(x23*x35),\n",
       "  a12: 0,\n",
       "  a13: 0,\n",
       "  a14: r1583,\n",
       "  a15: r1584,\n",
       "  a23: r1585,\n",
       "  a24: r1586,\n",
       "  a25: r1587,\n",
       "  a34: -r1582*x24/x23,\n",
       "  a35: r1588,\n",
       "  a45: -(r1588*x23 - r1585)/x24}]"
      ]
     },
     "metadata": {},
     "output_type": "display_data"
    },
    {
     "data": {
      "text/plain": [
       "\\left[\\left\\{d_{1} : r_{1569}, d_{2} : 0, d_{3} : 0, d_{4} : r_{1570}, d_{5} : 0, a_{12} : r_{1571}, a_{13} : r_{1572}, a_{14} : r_{1573}, a_{15} : r_{1574}, a_{23} : r_{1575}, a_{24} : r_{1576}, a_{25} : r_{1577}, a_{34} : -\\frac{r_{1570} x_{24}}{x_{23}}, a_{35} : r_{1578}, a_{45} : r_{1579}\\right\\}, \\left\\{d_{1} : r_{1580}, d_{2} : r_{1581}, d_{3} : \\frac{r_{1581}}{x_{23}}, d_{4} : r_{1582}, d_{5} : \\frac{r_{1581}}{x_{23} x_{35}}, a_{12} : 0, a_{13} : 0, a_{14} : r_{1583}, a_{15} : r_{1584}, a_{23} : r_{1585}, a_{24} : r_{1586}, a_{25} : r_{1587}, a_{34} : -\\frac{r_{1582} x_{24}}{x_{23}}, a_{35} : r_{1588}, a_{45} : -\\frac{r_{1588} x_{23} - r_{1585}}{x_{24}}\\right\\}\\right]"
      ]
     },
     "execution_count": 71,
     "metadata": {},
     "output_type": "execute_result"
    }
   ],
   "source": [
    "#x3\n",
    "reset()\n",
    "\n",
    "var('x12,x13,x14,x15,x23,x24,x25,x34,x35,x45')\n",
    "var('d1,d2,d3,d4,d5')\n",
    "var('a12,a13,a14,a15,a23,a24,a25,a34,a35,a45')\n",
    "\n",
    "load_attach_path('C:\\\\Users\\\\julia\\\\Documents\\\\unb\\\\doutorado\\\\pensar\\\\codigo_sage_v2\\\\maquina\\\\x3')\n",
    "load('out_#110000.sage')\n",
    "\n",
    "m=matrix(QQ, [[0, 0, 0, 0, 0],\n",
    "              [0, 0, 1, 0, 0],\n",
    "              [0, 0, 0, 0, 1],\n",
    "              [0, 0, 0, 0, 0],\n",
    "              [0, 0, 0, 0, 0]])\n",
    "        \n",
    "#entry of matrix: (i,j) line i collum j, means (i-1,j-1)\n",
    "sol=solve([ eq1==m[0,2],\teq2==m[0,3],\teq3==m[0,4],\teq4==m[1,2],\t\n",
    "                                            eq5==m[1,3],    eq6==m[1,4],\n",
    "                                                            eq7==m[2,4]],d1,d2,d3,d4,d5,a12,a13,a14,a15,a23,a24,a25,a34,a35,a45, solution_dict=True)\n",
    "\n",
    "show(m)\n",
    "show(sol)\n",
    "latex(sol)"
   ]
  },
  {
   "cell_type": "code",
   "execution_count": 1,
   "metadata": {},
   "outputs": [
    {
     "data": {
      "text/html": [
       "<html><script type=\"math/tex; mode=display\">\\newcommand{\\Bold}[1]{\\mathbf{#1}}\\left(\\begin{array}{rrrrr}\n",
       "0 & 0 & 0 & 0 & 0 \\\\\n",
       "0 & 0 & 1 & 0 & 0 \\\\\n",
       "0 & 0 & 0 & 0 & 1 \\\\\n",
       "0 & 0 & 0 & 0 & 0 \\\\\n",
       "0 & 0 & 0 & 0 & 0\n",
       "\\end{array}\\right)</script></html>"
      ],
      "text/latex": [
       "$$\\newcommand{\\Bold}[1]{\\mathbf{#1}}\\left(\\begin{array}{rrrrr}\n",
       "0 & 0 & 0 & 0 & 0 \\\\\n",
       "0 & 0 & 1 & 0 & 0 \\\\\n",
       "0 & 0 & 0 & 0 & 1 \\\\\n",
       "0 & 0 & 0 & 0 & 0 \\\\\n",
       "0 & 0 & 0 & 0 & 0\n",
       "\\end{array}\\right)$$"
      ],
      "text/plain": [
       "[0 0 0 0 0]\n",
       "[0 0 1 0 0]\n",
       "[0 0 0 0 1]\n",
       "[0 0 0 0 0]\n",
       "[0 0 0 0 0]"
      ]
     },
     "metadata": {},
     "output_type": "display_data"
    },
    {
     "data": {
      "text/html": [
       "<html><script type=\"math/tex; mode=display\">\\newcommand{\\Bold}[1]{\\mathbf{#1}}\\left[\\left\\{d_{1} : r_{1}, d_{2} : 0, d_{3} : 0, d_{4} : r_{2}, d_{5} : 0, a_{12} : r_{3}, a_{13} : r_{4}, a_{14} : r_{5}, a_{15} : r_{6}, a_{23} : r_{7}, a_{24} : r_{8}, a_{25} : r_{9}, a_{34} : -\\frac{r_{2} x_{24}}{x_{23}}, a_{35} : r_{10}, a_{45} : r_{11}\\right\\}, \\left\\{d_{1} : r_{12}, d_{2} : r_{13}, d_{3} : \\frac{r_{13}}{x_{23}}, d_{4} : r_{14}, d_{5} : \\frac{r_{13}}{x_{23} x_{35}}, a_{12} : 0, a_{13} : \\frac{r_{13} x_{15}}{x_{23} x_{35}}, a_{14} : r_{15}, a_{15} : r_{16}, a_{23} : r_{17}, a_{24} : r_{18}, a_{25} : r_{19}, a_{34} : -\\frac{r_{14} x_{24}}{x_{23}}, a_{35} : r_{20}, a_{45} : -\\frac{r_{20} x_{23} - r_{17}}{x_{24}}\\right\\}\\right]</script></html>"
      ],
      "text/latex": [
       "$$\\newcommand{\\Bold}[1]{\\mathbf{#1}}\\left[\\left\\{d_{1} : r_{1}, d_{2} : 0, d_{3} : 0, d_{4} : r_{2}, d_{5} : 0, a_{12} : r_{3}, a_{13} : r_{4}, a_{14} : r_{5}, a_{15} : r_{6}, a_{23} : r_{7}, a_{24} : r_{8}, a_{25} : r_{9}, a_{34} : -\\frac{r_{2} x_{24}}{x_{23}}, a_{35} : r_{10}, a_{45} : r_{11}\\right\\}, \\left\\{d_{1} : r_{12}, d_{2} : r_{13}, d_{3} : \\frac{r_{13}}{x_{23}}, d_{4} : r_{14}, d_{5} : \\frac{r_{13}}{x_{23} x_{35}}, a_{12} : 0, a_{13} : \\frac{r_{13} x_{15}}{x_{23} x_{35}}, a_{14} : r_{15}, a_{15} : r_{16}, a_{23} : r_{17}, a_{24} : r_{18}, a_{25} : r_{19}, a_{34} : -\\frac{r_{14} x_{24}}{x_{23}}, a_{35} : r_{20}, a_{45} : -\\frac{r_{20} x_{23} - r_{17}}{x_{24}}\\right\\}\\right]$$"
      ],
      "text/plain": [
       "[{d1: r1,\n",
       "  d2: 0,\n",
       "  d3: 0,\n",
       "  d4: r2,\n",
       "  d5: 0,\n",
       "  a12: r3,\n",
       "  a13: r4,\n",
       "  a14: r5,\n",
       "  a15: r6,\n",
       "  a23: r7,\n",
       "  a24: r8,\n",
       "  a25: r9,\n",
       "  a34: -r2*x24/x23,\n",
       "  a35: r10,\n",
       "  a45: r11},\n",
       " {d1: r12,\n",
       "  d2: r13,\n",
       "  d3: r13/x23,\n",
       "  d4: r14,\n",
       "  d5: r13/(x23*x35),\n",
       "  a12: 0,\n",
       "  a13: r13*x15/(x23*x35),\n",
       "  a14: r15,\n",
       "  a15: r16,\n",
       "  a23: r17,\n",
       "  a24: r18,\n",
       "  a25: r19,\n",
       "  a34: -r14*x24/x23,\n",
       "  a35: r20,\n",
       "  a45: -(r20*x23 - r17)/x24}]"
      ]
     },
     "metadata": {},
     "output_type": "display_data"
    },
    {
     "data": {
      "text/plain": [
       "\\left[\\left\\{d_{1} : r_{1}, d_{2} : 0, d_{3} : 0, d_{4} : r_{2}, d_{5} : 0, a_{12} : r_{3}, a_{13} : r_{4}, a_{14} : r_{5}, a_{15} : r_{6}, a_{23} : r_{7}, a_{24} : r_{8}, a_{25} : r_{9}, a_{34} : -\\frac{r_{2} x_{24}}{x_{23}}, a_{35} : r_{10}, a_{45} : r_{11}\\right\\}, \\left\\{d_{1} : r_{12}, d_{2} : r_{13}, d_{3} : \\frac{r_{13}}{x_{23}}, d_{4} : r_{14}, d_{5} : \\frac{r_{13}}{x_{23} x_{35}}, a_{12} : 0, a_{13} : \\frac{r_{13} x_{15}}{x_{23} x_{35}}, a_{14} : r_{15}, a_{15} : r_{16}, a_{23} : r_{17}, a_{24} : r_{18}, a_{25} : r_{19}, a_{34} : -\\frac{r_{14} x_{24}}{x_{23}}, a_{35} : r_{20}, a_{45} : -\\frac{r_{20} x_{23} - r_{17}}{x_{24}}\\right\\}\\right]"
      ]
     },
     "execution_count": 1,
     "metadata": {},
     "output_type": "execute_result"
    }
   ],
   "source": [
    "#x3\n",
    "reset()\n",
    "\n",
    "var('x12,x13,x14,x15,x23,x24,x25,x34,x35,x45')\n",
    "var('d1,d2,d3,d4,d5')\n",
    "var('a12,a13,a14,a15,a23,a24,a25,a34,a35,a45')\n",
    "\n",
    "load_attach_path('C:\\\\Users\\\\julia\\\\Documents\\\\unb\\\\doutorado\\\\pensar\\\\codigo_sage_v2\\\\maquina\\\\x3')\n",
    "load('out_#110001.sage')\n",
    "\n",
    "m=matrix(QQ, [[0, 0, 0, 0, 0],\n",
    "              [0, 0, 1, 0, 0],\n",
    "              [0, 0, 0, 0, 1],\n",
    "              [0, 0, 0, 0, 0],\n",
    "              [0, 0, 0, 0, 0]])\n",
    "        \n",
    "#entry of matrix: (i,j) line i collum j, means (i-1,j-1)\n",
    "sol=solve([ eq1==m[0,2],\teq2==m[0,3],\teq3==m[0,4],\teq4==m[1,2],\t\n",
    "                                            eq5==m[1,3],    eq6==m[1,4],\n",
    "                                                            eq7==m[2,4]],d1,d2,d3,d4,d5,a12,a13,a14,a15,a23,a24,a25,a34,a35,a45, solution_dict=True)\n",
    "\n",
    "show(m)\n",
    "show(sol)\n",
    "latex(sol)"
   ]
  },
  {
   "cell_type": "code",
   "execution_count": 73,
   "metadata": {},
   "outputs": [
    {
     "data": {
      "text/html": [
       "<html><script type=\"math/tex; mode=display\">\\newcommand{\\Bold}[1]{\\mathbf{#1}}\\left(\\begin{array}{rrrrr}\n",
       "0 & 0 & 0 & 1 & 0 \\\\\n",
       "0 & 0 & 1 & 0 & 0 \\\\\n",
       "0 & 0 & 0 & 0 & 1 \\\\\n",
       "0 & 0 & 0 & 0 & 0 \\\\\n",
       "0 & 0 & 0 & 0 & 0\n",
       "\\end{array}\\right)</script></html>"
      ],
      "text/latex": [
       "$$\\newcommand{\\Bold}[1]{\\mathbf{#1}}\\left(\\begin{array}{rrrrr}\n",
       "0 & 0 & 0 & 1 & 0 \\\\\n",
       "0 & 0 & 1 & 0 & 0 \\\\\n",
       "0 & 0 & 0 & 0 & 1 \\\\\n",
       "0 & 0 & 0 & 0 & 0 \\\\\n",
       "0 & 0 & 0 & 0 & 0\n",
       "\\end{array}\\right)$$"
      ],
      "text/plain": [
       "[0 0 0 1 0]\n",
       "[0 0 1 0 0]\n",
       "[0 0 0 0 1]\n",
       "[0 0 0 0 0]\n",
       "[0 0 0 0 0]"
      ]
     },
     "metadata": {},
     "output_type": "display_data"
    },
    {
     "data": {
      "text/html": [
       "<html><script type=\"math/tex; mode=display\">\\newcommand{\\Bold}[1]{\\mathbf{#1}}\\left[\\left\\{d_{1} : r_{1609}, d_{2} : 0, d_{3} : 0, d_{4} : r_{1610}, d_{5} : 0, a_{12} : r_{1611}, a_{13} : r_{1612}, a_{14} : r_{1613}, a_{15} : r_{1614}, a_{23} : r_{1615}, a_{24} : r_{1616}, a_{25} : r_{1617}, a_{34} : -\\frac{r_{1610} x_{24}}{x_{23}}, a_{35} : r_{1618}, a_{45} : r_{1619}\\right\\}, \\left\\{d_{1} : r_{1620}, d_{2} : 0, d_{3} : 0, d_{4} : \\frac{r_{1620}}{x_{14}}, d_{5} : 0, a_{12} : 0, a_{13} : r_{1621}, a_{14} : r_{1622}, a_{15} : r_{1623}, a_{23} : r_{1624}, a_{24} : r_{1625}, a_{25} : r_{1626}, a_{34} : -\\frac{r_{1620} x_{24}}{x_{14} x_{23}}, a_{35} : r_{1627}, a_{45} : r_{1628}\\right\\}, \\left\\{d_{1} : r_{1629}, d_{2} : r_{1630}, d_{3} : \\frac{r_{1630}}{x_{23}}, d_{4} : \\frac{r_{1629}}{x_{14}}, d_{5} : \\frac{r_{1630}}{x_{23} x_{35}}, a_{12} : 0, a_{13} : r_{1631}, a_{14} : r_{1632}, a_{15} : r_{1633}, a_{23} : r_{1634}, a_{24} : r_{1635}, a_{25} : r_{1636}, a_{34} : -\\frac{r_{1629} x_{24}}{x_{14} x_{23}}, a_{35} : \\frac{r_{1634} x_{14} - r_{1631} x_{24}}{x_{14} x_{23}}, a_{45} : \\frac{r_{1631}}{x_{14}}\\right\\}\\right]</script></html>"
      ],
      "text/latex": [
       "$$\\newcommand{\\Bold}[1]{\\mathbf{#1}}\\left[\\left\\{d_{1} : r_{1609}, d_{2} : 0, d_{3} : 0, d_{4} : r_{1610}, d_{5} : 0, a_{12} : r_{1611}, a_{13} : r_{1612}, a_{14} : r_{1613}, a_{15} : r_{1614}, a_{23} : r_{1615}, a_{24} : r_{1616}, a_{25} : r_{1617}, a_{34} : -\\frac{r_{1610} x_{24}}{x_{23}}, a_{35} : r_{1618}, a_{45} : r_{1619}\\right\\}, \\left\\{d_{1} : r_{1620}, d_{2} : 0, d_{3} : 0, d_{4} : \\frac{r_{1620}}{x_{14}}, d_{5} : 0, a_{12} : 0, a_{13} : r_{1621}, a_{14} : r_{1622}, a_{15} : r_{1623}, a_{23} : r_{1624}, a_{24} : r_{1625}, a_{25} : r_{1626}, a_{34} : -\\frac{r_{1620} x_{24}}{x_{14} x_{23}}, a_{35} : r_{1627}, a_{45} : r_{1628}\\right\\}, \\left\\{d_{1} : r_{1629}, d_{2} : r_{1630}, d_{3} : \\frac{r_{1630}}{x_{23}}, d_{4} : \\frac{r_{1629}}{x_{14}}, d_{5} : \\frac{r_{1630}}{x_{23} x_{35}}, a_{12} : 0, a_{13} : r_{1631}, a_{14} : r_{1632}, a_{15} : r_{1633}, a_{23} : r_{1634}, a_{24} : r_{1635}, a_{25} : r_{1636}, a_{34} : -\\frac{r_{1629} x_{24}}{x_{14} x_{23}}, a_{35} : \\frac{r_{1634} x_{14} - r_{1631} x_{24}}{x_{14} x_{23}}, a_{45} : \\frac{r_{1631}}{x_{14}}\\right\\}\\right]$$"
      ],
      "text/plain": [
       "[{d1: r1609,\n",
       "  d2: 0,\n",
       "  d3: 0,\n",
       "  d4: r1610,\n",
       "  d5: 0,\n",
       "  a12: r1611,\n",
       "  a13: r1612,\n",
       "  a14: r1613,\n",
       "  a15: r1614,\n",
       "  a23: r1615,\n",
       "  a24: r1616,\n",
       "  a25: r1617,\n",
       "  a34: -r1610*x24/x23,\n",
       "  a35: r1618,\n",
       "  a45: r1619},\n",
       " {d1: r1620,\n",
       "  d2: 0,\n",
       "  d3: 0,\n",
       "  d4: r1620/x14,\n",
       "  d5: 0,\n",
       "  a12: 0,\n",
       "  a13: r1621,\n",
       "  a14: r1622,\n",
       "  a15: r1623,\n",
       "  a23: r1624,\n",
       "  a24: r1625,\n",
       "  a25: r1626,\n",
       "  a34: -r1620*x24/(x14*x23),\n",
       "  a35: r1627,\n",
       "  a45: r1628},\n",
       " {d1: r1629,\n",
       "  d2: r1630,\n",
       "  d3: r1630/x23,\n",
       "  d4: r1629/x14,\n",
       "  d5: r1630/(x23*x35),\n",
       "  a12: 0,\n",
       "  a13: r1631,\n",
       "  a14: r1632,\n",
       "  a15: r1633,\n",
       "  a23: r1634,\n",
       "  a24: r1635,\n",
       "  a25: r1636,\n",
       "  a34: -r1629*x24/(x14*x23),\n",
       "  a35: (r1634*x14 - r1631*x24)/(x14*x23),\n",
       "  a45: r1631/x14}]"
      ]
     },
     "metadata": {},
     "output_type": "display_data"
    },
    {
     "data": {
      "text/plain": [
       "\\left[\\left\\{d_{1} : r_{1609}, d_{2} : 0, d_{3} : 0, d_{4} : r_{1610}, d_{5} : 0, a_{12} : r_{1611}, a_{13} : r_{1612}, a_{14} : r_{1613}, a_{15} : r_{1614}, a_{23} : r_{1615}, a_{24} : r_{1616}, a_{25} : r_{1617}, a_{34} : -\\frac{r_{1610} x_{24}}{x_{23}}, a_{35} : r_{1618}, a_{45} : r_{1619}\\right\\}, \\left\\{d_{1} : r_{1620}, d_{2} : 0, d_{3} : 0, d_{4} : \\frac{r_{1620}}{x_{14}}, d_{5} : 0, a_{12} : 0, a_{13} : r_{1621}, a_{14} : r_{1622}, a_{15} : r_{1623}, a_{23} : r_{1624}, a_{24} : r_{1625}, a_{25} : r_{1626}, a_{34} : -\\frac{r_{1620} x_{24}}{x_{14} x_{23}}, a_{35} : r_{1627}, a_{45} : r_{1628}\\right\\}, \\left\\{d_{1} : r_{1629}, d_{2} : r_{1630}, d_{3} : \\frac{r_{1630}}{x_{23}}, d_{4} : \\frac{r_{1629}}{x_{14}}, d_{5} : \\frac{r_{1630}}{x_{23} x_{35}}, a_{12} : 0, a_{13} : r_{1631}, a_{14} : r_{1632}, a_{15} : r_{1633}, a_{23} : r_{1634}, a_{24} : r_{1635}, a_{25} : r_{1636}, a_{34} : -\\frac{r_{1629} x_{24}}{x_{14} x_{23}}, a_{35} : \\frac{r_{1634} x_{14} - r_{1631} x_{24}}{x_{14} x_{23}}, a_{45} : \\frac{r_{1631}}{x_{14}}\\right\\}\\right]"
      ]
     },
     "execution_count": 73,
     "metadata": {},
     "output_type": "execute_result"
    }
   ],
   "source": [
    "#x3\n",
    "reset()\n",
    "\n",
    "var('x12,x13,x14,x15,x23,x24,x25,x34,x35,x45')\n",
    "var('d1,d2,d3,d4,d5')\n",
    "var('a12,a13,a14,a15,a23,a24,a25,a34,a35,a45')\n",
    "\n",
    "load_attach_path('C:\\\\Users\\\\julia\\\\Documents\\\\unb\\\\doutorado\\\\pensar\\\\codigo_sage_v2\\\\maquina\\\\x3')\n",
    "load('out_#110010.sage')\n",
    "\n",
    "m=matrix(QQ, [[0, 0, 0, 1, 0],\n",
    "              [0, 0, 1, 0, 0],\n",
    "              [0, 0, 0, 0, 1],\n",
    "              [0, 0, 0, 0, 0],\n",
    "              [0, 0, 0, 0, 0]])\n",
    "        \n",
    "#entry of matrix: (i,j) line i collum j, means (i-1,j-1)\n",
    "sol=solve([ eq1==m[0,2],\teq2==m[0,3],\teq3==m[0,4],\teq4==m[1,2],\t\n",
    "                                            eq5==m[1,3],    eq6==m[1,4],\n",
    "                                                            eq7==m[2,4]],d1,d2,d3,d4,d5,a12,a13,a14,a15,a23,a24,a25,a34,a35,a45, solution_dict=True)\n",
    "\n",
    "show(m)\n",
    "show(sol)\n",
    "latex(sol)"
   ]
  },
  {
   "cell_type": "code",
   "execution_count": 74,
   "metadata": {},
   "outputs": [
    {
     "data": {
      "text/html": [
       "<html><script type=\"math/tex; mode=display\">\\newcommand{\\Bold}[1]{\\mathbf{#1}}\\left(\\begin{array}{rrrrr}\n",
       "0 & 0 & 0 & 1 & 0 \\\\\n",
       "0 & 0 & 1 & 0 & 0 \\\\\n",
       "0 & 0 & 0 & 0 & 1 \\\\\n",
       "0 & 0 & 0 & 0 & 0 \\\\\n",
       "0 & 0 & 0 & 0 & 0\n",
       "\\end{array}\\right)</script></html>"
      ],
      "text/latex": [
       "$$\\newcommand{\\Bold}[1]{\\mathbf{#1}}\\left(\\begin{array}{rrrrr}\n",
       "0 & 0 & 0 & 1 & 0 \\\\\n",
       "0 & 0 & 1 & 0 & 0 \\\\\n",
       "0 & 0 & 0 & 0 & 1 \\\\\n",
       "0 & 0 & 0 & 0 & 0 \\\\\n",
       "0 & 0 & 0 & 0 & 0\n",
       "\\end{array}\\right)$$"
      ],
      "text/plain": [
       "[0 0 0 1 0]\n",
       "[0 0 1 0 0]\n",
       "[0 0 0 0 1]\n",
       "[0 0 0 0 0]\n",
       "[0 0 0 0 0]"
      ]
     },
     "metadata": {},
     "output_type": "display_data"
    },
    {
     "data": {
      "text/html": [
       "<html><script type=\"math/tex; mode=display\">\\newcommand{\\Bold}[1]{\\mathbf{#1}}\\left[\\left\\{d_{1} : r_{1637}, d_{2} : 0, d_{3} : 0, d_{4} : r_{1638}, d_{5} : 0, a_{12} : r_{1639}, a_{13} : r_{1640}, a_{14} : r_{1641}, a_{15} : r_{1642}, a_{23} : r_{1643}, a_{24} : r_{1644}, a_{25} : r_{1645}, a_{34} : -\\frac{r_{1638} x_{24}}{x_{23}}, a_{35} : r_{1646}, a_{45} : r_{1647}\\right\\}, \\left\\{d_{1} : r_{1648}, d_{2} : 0, d_{3} : 0, d_{4} : \\frac{r_{1648}}{x_{14}}, d_{5} : 0, a_{12} : 0, a_{13} : r_{1649}, a_{14} : r_{1650}, a_{15} : r_{1651}, a_{23} : r_{1652}, a_{24} : r_{1653}, a_{25} : r_{1654}, a_{34} : -\\frac{r_{1648} x_{24}}{x_{14} x_{23}}, a_{35} : r_{1655}, a_{45} : r_{1656}\\right\\}, \\left\\{d_{1} : r_{1657}, d_{2} : r_{1658}, d_{3} : \\frac{r_{1658}}{x_{23}}, d_{4} : \\frac{r_{1657}}{x_{14}}, d_{5} : \\frac{r_{1658}}{x_{23} x_{35}}, a_{12} : 0, a_{13} : r_{1659}, a_{14} : r_{1660}, a_{15} : r_{1661}, a_{23} : r_{1662}, a_{24} : r_{1663}, a_{25} : r_{1664}, a_{34} : -\\frac{r_{1657} x_{24}}{x_{14} x_{23}}, a_{35} : \\frac{r_{1658} x_{15} x_{24} + {\\left(r_{1662} x_{14} x_{23} - r_{1659} x_{23} x_{24}\\right)} x_{35}}{x_{14} x_{23}^{2} x_{35}}, a_{45} : \\frac{r_{1659} x_{23} x_{35} - r_{1658} x_{15}}{x_{14} x_{23} x_{35}}\\right\\}\\right]</script></html>"
      ],
      "text/latex": [
       "$$\\newcommand{\\Bold}[1]{\\mathbf{#1}}\\left[\\left\\{d_{1} : r_{1637}, d_{2} : 0, d_{3} : 0, d_{4} : r_{1638}, d_{5} : 0, a_{12} : r_{1639}, a_{13} : r_{1640}, a_{14} : r_{1641}, a_{15} : r_{1642}, a_{23} : r_{1643}, a_{24} : r_{1644}, a_{25} : r_{1645}, a_{34} : -\\frac{r_{1638} x_{24}}{x_{23}}, a_{35} : r_{1646}, a_{45} : r_{1647}\\right\\}, \\left\\{d_{1} : r_{1648}, d_{2} : 0, d_{3} : 0, d_{4} : \\frac{r_{1648}}{x_{14}}, d_{5} : 0, a_{12} : 0, a_{13} : r_{1649}, a_{14} : r_{1650}, a_{15} : r_{1651}, a_{23} : r_{1652}, a_{24} : r_{1653}, a_{25} : r_{1654}, a_{34} : -\\frac{r_{1648} x_{24}}{x_{14} x_{23}}, a_{35} : r_{1655}, a_{45} : r_{1656}\\right\\}, \\left\\{d_{1} : r_{1657}, d_{2} : r_{1658}, d_{3} : \\frac{r_{1658}}{x_{23}}, d_{4} : \\frac{r_{1657}}{x_{14}}, d_{5} : \\frac{r_{1658}}{x_{23} x_{35}}, a_{12} : 0, a_{13} : r_{1659}, a_{14} : r_{1660}, a_{15} : r_{1661}, a_{23} : r_{1662}, a_{24} : r_{1663}, a_{25} : r_{1664}, a_{34} : -\\frac{r_{1657} x_{24}}{x_{14} x_{23}}, a_{35} : \\frac{r_{1658} x_{15} x_{24} + {\\left(r_{1662} x_{14} x_{23} - r_{1659} x_{23} x_{24}\\right)} x_{35}}{x_{14} x_{23}^{2} x_{35}}, a_{45} : \\frac{r_{1659} x_{23} x_{35} - r_{1658} x_{15}}{x_{14} x_{23} x_{35}}\\right\\}\\right]$$"
      ],
      "text/plain": [
       "[{d1: r1637,\n",
       "  d2: 0,\n",
       "  d3: 0,\n",
       "  d4: r1638,\n",
       "  d5: 0,\n",
       "  a12: r1639,\n",
       "  a13: r1640,\n",
       "  a14: r1641,\n",
       "  a15: r1642,\n",
       "  a23: r1643,\n",
       "  a24: r1644,\n",
       "  a25: r1645,\n",
       "  a34: -r1638*x24/x23,\n",
       "  a35: r1646,\n",
       "  a45: r1647},\n",
       " {d1: r1648,\n",
       "  d2: 0,\n",
       "  d3: 0,\n",
       "  d4: r1648/x14,\n",
       "  d5: 0,\n",
       "  a12: 0,\n",
       "  a13: r1649,\n",
       "  a14: r1650,\n",
       "  a15: r1651,\n",
       "  a23: r1652,\n",
       "  a24: r1653,\n",
       "  a25: r1654,\n",
       "  a34: -r1648*x24/(x14*x23),\n",
       "  a35: r1655,\n",
       "  a45: r1656},\n",
       " {d1: r1657,\n",
       "  d2: r1658,\n",
       "  d3: r1658/x23,\n",
       "  d4: r1657/x14,\n",
       "  d5: r1658/(x23*x35),\n",
       "  a12: 0,\n",
       "  a13: r1659,\n",
       "  a14: r1660,\n",
       "  a15: r1661,\n",
       "  a23: r1662,\n",
       "  a24: r1663,\n",
       "  a25: r1664,\n",
       "  a34: -r1657*x24/(x14*x23),\n",
       "  a35: (r1658*x15*x24 + (r1662*x14*x23 - r1659*x23*x24)*x35)/(x14*x23^2*x35),\n",
       "  a45: (r1659*x23*x35 - r1658*x15)/(x14*x23*x35)}]"
      ]
     },
     "metadata": {},
     "output_type": "display_data"
    },
    {
     "data": {
      "text/plain": [
       "\\left[\\left\\{d_{1} : r_{1637}, d_{2} : 0, d_{3} : 0, d_{4} : r_{1638}, d_{5} : 0, a_{12} : r_{1639}, a_{13} : r_{1640}, a_{14} : r_{1641}, a_{15} : r_{1642}, a_{23} : r_{1643}, a_{24} : r_{1644}, a_{25} : r_{1645}, a_{34} : -\\frac{r_{1638} x_{24}}{x_{23}}, a_{35} : r_{1646}, a_{45} : r_{1647}\\right\\}, \\left\\{d_{1} : r_{1648}, d_{2} : 0, d_{3} : 0, d_{4} : \\frac{r_{1648}}{x_{14}}, d_{5} : 0, a_{12} : 0, a_{13} : r_{1649}, a_{14} : r_{1650}, a_{15} : r_{1651}, a_{23} : r_{1652}, a_{24} : r_{1653}, a_{25} : r_{1654}, a_{34} : -\\frac{r_{1648} x_{24}}{x_{14} x_{23}}, a_{35} : r_{1655}, a_{45} : r_{1656}\\right\\}, \\left\\{d_{1} : r_{1657}, d_{2} : r_{1658}, d_{3} : \\frac{r_{1658}}{x_{23}}, d_{4} : \\frac{r_{1657}}{x_{14}}, d_{5} : \\frac{r_{1658}}{x_{23} x_{35}}, a_{12} : 0, a_{13} : r_{1659}, a_{14} : r_{1660}, a_{15} : r_{1661}, a_{23} : r_{1662}, a_{24} : r_{1663}, a_{25} : r_{1664}, a_{34} : -\\frac{r_{1657} x_{24}}{x_{14} x_{23}}, a_{35} : \\frac{r_{1658} x_{15} x_{24} + {\\left(r_{1662} x_{14} x_{23} - r_{1659} x_{23} x_{24}\\right)} x_{35}}{x_{14} x_{23}^{2} x_{35}}, a_{45} : \\frac{r_{1659} x_{23} x_{35} - r_{1658} x_{15}}{x_{14} x_{23} x_{35}}\\right\\}\\right]"
      ]
     },
     "execution_count": 74,
     "metadata": {},
     "output_type": "execute_result"
    }
   ],
   "source": [
    "#x3\n",
    "reset()\n",
    "\n",
    "var('x12,x13,x14,x15,x23,x24,x25,x34,x35,x45')\n",
    "var('d1,d2,d3,d4,d5')\n",
    "var('a12,a13,a14,a15,a23,a24,a25,a34,a35,a45')\n",
    "\n",
    "load_attach_path('C:\\\\Users\\\\julia\\\\Documents\\\\unb\\\\doutorado\\\\pensar\\\\codigo_sage_v2\\\\maquina\\\\x3')\n",
    "load('out_#110011.sage')\n",
    "\n",
    "m=matrix(QQ, [[0, 0, 0, 1, 0],\n",
    "              [0, 0, 1, 0, 0],\n",
    "              [0, 0, 0, 0, 1],\n",
    "              [0, 0, 0, 0, 0],\n",
    "              [0, 0, 0, 0, 0]])\n",
    "        \n",
    "#entry of matrix: (i,j) line i collum j, means (i-1,j-1)\n",
    "sol=solve([ eq1==m[0,2],\teq2==m[0,3],\teq3==m[0,4],\teq4==m[1,2],\t\n",
    "                                            eq5==m[1,3],    eq6==m[1,4],\n",
    "                                                            eq7==m[2,4]],d1,d2,d3,d4,d5,a12,a13,a14,a15,a23,a24,a25,a34,a35,a45, solution_dict=True)\n",
    "\n",
    "show(m)\n",
    "show(sol)\n",
    "latex(sol)"
   ]
  },
  {
   "cell_type": "code",
   "execution_count": 76,
   "metadata": {},
   "outputs": [
    {
     "data": {
      "text/html": [
       "<html><script type=\"math/tex; mode=display\">\\newcommand{\\Bold}[1]{\\mathbf{#1}}\\left(\\begin{array}{rrrrr}\n",
       "0 & 0 & 0 & 1 & 0 \\\\\n",
       "0 & 0 & 1 & 0 & 0 \\\\\n",
       "0 & 0 & 0 & 0 & 1 \\\\\n",
       "0 & 0 & 0 & 0 & 0 \\\\\n",
       "0 & 0 & 0 & 0 & 0\n",
       "\\end{array}\\right)</script></html>"
      ],
      "text/latex": [
       "$$\\newcommand{\\Bold}[1]{\\mathbf{#1}}\\left(\\begin{array}{rrrrr}\n",
       "0 & 0 & 0 & 1 & 0 \\\\\n",
       "0 & 0 & 1 & 0 & 0 \\\\\n",
       "0 & 0 & 0 & 0 & 1 \\\\\n",
       "0 & 0 & 0 & 0 & 0 \\\\\n",
       "0 & 0 & 0 & 0 & 0\n",
       "\\end{array}\\right)$$"
      ],
      "text/plain": [
       "[0 0 0 1 0]\n",
       "[0 0 1 0 0]\n",
       "[0 0 0 0 1]\n",
       "[0 0 0 0 0]\n",
       "[0 0 0 0 0]"
      ]
     },
     "metadata": {},
     "output_type": "display_data"
    },
    {
     "data": {
      "text/html": [
       "<html><script type=\"math/tex; mode=display\">\\newcommand{\\Bold}[1]{\\mathbf{#1}}\\left[\\left\\{d_{1} : r_{1693}, d_{2} : 0, d_{3} : 0, d_{4} : r_{1694}, d_{5} : 0, a_{12} : r_{1695}, a_{13} : r_{1696}, a_{14} : r_{1697}, a_{15} : r_{1698}, a_{23} : r_{1699}, a_{24} : r_{1700}, a_{25} : r_{1701}, a_{34} : -\\frac{r_{1694} x_{24}}{x_{23}}, a_{35} : r_{1702}, a_{45} : r_{1703}\\right\\}, \\left\\{d_{1} : r_{1704}, d_{2} : 0, d_{3} : 0, d_{4} : -\\frac{r_{1704} x_{23}}{x_{13} x_{24}}, d_{5} : 0, a_{12} : 0, a_{13} : r_{1705}, a_{14} : r_{1706}, a_{15} : r_{1707}, a_{23} : r_{1708}, a_{24} : r_{1709}, a_{25} : r_{1710}, a_{34} : \\frac{r_{1704}}{x_{13}}, a_{35} : r_{1711}, a_{45} : r_{1712}\\right\\}, \\left\\{d_{1} : r_{1713}, d_{2} : r_{1714}, d_{3} : \\frac{r_{1714}}{x_{23}}, d_{4} : -\\frac{r_{1713} x_{23}}{x_{13} x_{24}}, d_{5} : \\frac{r_{1714}}{x_{23} x_{35}}, a_{12} : \\frac{r_{1714} x_{13}}{x_{23}}, a_{13} : r_{1715}, a_{14} : r_{1716}, a_{15} : r_{1717}, a_{23} : r_{1718}, a_{24} : r_{1719}, a_{25} : r_{1720}, a_{34} : \\frac{r_{1713}}{x_{13}}, a_{35} : \\frac{r_{1715}}{x_{13}}, a_{45} : \\frac{r_{1718} x_{13} - r_{1715} x_{23}}{x_{13} x_{24}}\\right\\}\\right]</script></html>"
      ],
      "text/latex": [
       "$$\\newcommand{\\Bold}[1]{\\mathbf{#1}}\\left[\\left\\{d_{1} : r_{1693}, d_{2} : 0, d_{3} : 0, d_{4} : r_{1694}, d_{5} : 0, a_{12} : r_{1695}, a_{13} : r_{1696}, a_{14} : r_{1697}, a_{15} : r_{1698}, a_{23} : r_{1699}, a_{24} : r_{1700}, a_{25} : r_{1701}, a_{34} : -\\frac{r_{1694} x_{24}}{x_{23}}, a_{35} : r_{1702}, a_{45} : r_{1703}\\right\\}, \\left\\{d_{1} : r_{1704}, d_{2} : 0, d_{3} : 0, d_{4} : -\\frac{r_{1704} x_{23}}{x_{13} x_{24}}, d_{5} : 0, a_{12} : 0, a_{13} : r_{1705}, a_{14} : r_{1706}, a_{15} : r_{1707}, a_{23} : r_{1708}, a_{24} : r_{1709}, a_{25} : r_{1710}, a_{34} : \\frac{r_{1704}}{x_{13}}, a_{35} : r_{1711}, a_{45} : r_{1712}\\right\\}, \\left\\{d_{1} : r_{1713}, d_{2} : r_{1714}, d_{3} : \\frac{r_{1714}}{x_{23}}, d_{4} : -\\frac{r_{1713} x_{23}}{x_{13} x_{24}}, d_{5} : \\frac{r_{1714}}{x_{23} x_{35}}, a_{12} : \\frac{r_{1714} x_{13}}{x_{23}}, a_{13} : r_{1715}, a_{14} : r_{1716}, a_{15} : r_{1717}, a_{23} : r_{1718}, a_{24} : r_{1719}, a_{25} : r_{1720}, a_{34} : \\frac{r_{1713}}{x_{13}}, a_{35} : \\frac{r_{1715}}{x_{13}}, a_{45} : \\frac{r_{1718} x_{13} - r_{1715} x_{23}}{x_{13} x_{24}}\\right\\}\\right]$$"
      ],
      "text/plain": [
       "[{d1: r1693,\n",
       "  d2: 0,\n",
       "  d3: 0,\n",
       "  d4: r1694,\n",
       "  d5: 0,\n",
       "  a12: r1695,\n",
       "  a13: r1696,\n",
       "  a14: r1697,\n",
       "  a15: r1698,\n",
       "  a23: r1699,\n",
       "  a24: r1700,\n",
       "  a25: r1701,\n",
       "  a34: -r1694*x24/x23,\n",
       "  a35: r1702,\n",
       "  a45: r1703},\n",
       " {d1: r1704,\n",
       "  d2: 0,\n",
       "  d3: 0,\n",
       "  d4: -r1704*x23/(x13*x24),\n",
       "  d5: 0,\n",
       "  a12: 0,\n",
       "  a13: r1705,\n",
       "  a14: r1706,\n",
       "  a15: r1707,\n",
       "  a23: r1708,\n",
       "  a24: r1709,\n",
       "  a25: r1710,\n",
       "  a34: r1704/x13,\n",
       "  a35: r1711,\n",
       "  a45: r1712},\n",
       " {d1: r1713,\n",
       "  d2: r1714,\n",
       "  d3: r1714/x23,\n",
       "  d4: -r1713*x23/(x13*x24),\n",
       "  d5: r1714/(x23*x35),\n",
       "  a12: r1714*x13/x23,\n",
       "  a13: r1715,\n",
       "  a14: r1716,\n",
       "  a15: r1717,\n",
       "  a23: r1718,\n",
       "  a24: r1719,\n",
       "  a25: r1720,\n",
       "  a34: r1713/x13,\n",
       "  a35: r1715/x13,\n",
       "  a45: (r1718*x13 - r1715*x23)/(x13*x24)}]"
      ]
     },
     "metadata": {},
     "output_type": "display_data"
    },
    {
     "data": {
      "text/plain": [
       "\\left[\\left\\{d_{1} : r_{1693}, d_{2} : 0, d_{3} : 0, d_{4} : r_{1694}, d_{5} : 0, a_{12} : r_{1695}, a_{13} : r_{1696}, a_{14} : r_{1697}, a_{15} : r_{1698}, a_{23} : r_{1699}, a_{24} : r_{1700}, a_{25} : r_{1701}, a_{34} : -\\frac{r_{1694} x_{24}}{x_{23}}, a_{35} : r_{1702}, a_{45} : r_{1703}\\right\\}, \\left\\{d_{1} : r_{1704}, d_{2} : 0, d_{3} : 0, d_{4} : -\\frac{r_{1704} x_{23}}{x_{13} x_{24}}, d_{5} : 0, a_{12} : 0, a_{13} : r_{1705}, a_{14} : r_{1706}, a_{15} : r_{1707}, a_{23} : r_{1708}, a_{24} : r_{1709}, a_{25} : r_{1710}, a_{34} : \\frac{r_{1704}}{x_{13}}, a_{35} : r_{1711}, a_{45} : r_{1712}\\right\\}, \\left\\{d_{1} : r_{1713}, d_{2} : r_{1714}, d_{3} : \\frac{r_{1714}}{x_{23}}, d_{4} : -\\frac{r_{1713} x_{23}}{x_{13} x_{24}}, d_{5} : \\frac{r_{1714}}{x_{23} x_{35}}, a_{12} : \\frac{r_{1714} x_{13}}{x_{23}}, a_{13} : r_{1715}, a_{14} : r_{1716}, a_{15} : r_{1717}, a_{23} : r_{1718}, a_{24} : r_{1719}, a_{25} : r_{1720}, a_{34} : \\frac{r_{1713}}{x_{13}}, a_{35} : \\frac{r_{1715}}{x_{13}}, a_{45} : \\frac{r_{1718} x_{13} - r_{1715} x_{23}}{x_{13} x_{24}}\\right\\}\\right]"
      ]
     },
     "execution_count": 76,
     "metadata": {},
     "output_type": "execute_result"
    }
   ],
   "source": [
    "#x3\n",
    "reset()\n",
    "\n",
    "var('x12,x13,x14,x15,x23,x24,x25,x34,x35,x45')\n",
    "var('d1,d2,d3,d4,d5')\n",
    "var('a12,a13,a14,a15,a23,a24,a25,a34,a35,a45')\n",
    "\n",
    "load_attach_path('C:\\\\Users\\\\julia\\\\Documents\\\\unb\\\\doutorado\\\\pensar\\\\codigo_sage_v2\\\\maquina\\\\x3')\n",
    "load('out_#110100.sage')\n",
    "\n",
    "m=matrix(QQ, [[0, 0, 0, 1, 0],\n",
    "              [0, 0, 1, 0, 0],\n",
    "              [0, 0, 0, 0, 1],\n",
    "              [0, 0, 0, 0, 0],\n",
    "              [0, 0, 0, 0, 0]])\n",
    "        \n",
    "#entry of matrix: (i,j) line i collum j, means (i-1,j-1)\n",
    "sol=solve([ eq1==m[0,2],\teq2==m[0,3],\teq3==m[0,4],\teq4==m[1,2],\t\n",
    "                                            eq5==m[1,3],    eq6==m[1,4],\n",
    "                                                            eq7==m[2,4]],d1,d2,d3,d4,d5,a12,a13,a14,a15,a23,a24,a25,a34,a35,a45, solution_dict=True)\n",
    "\n",
    "show(m)\n",
    "show(sol)\n",
    "latex(sol)"
   ]
  },
  {
   "cell_type": "code",
   "execution_count": 78,
   "metadata": {},
   "outputs": [
    {
     "data": {
      "text/html": [
       "<html><script type=\"math/tex; mode=display\">\\newcommand{\\Bold}[1]{\\mathbf{#1}}\\left(\\begin{array}{rrrrr}\n",
       "0 & 0 & 0 & 1 & 0 \\\\\n",
       "0 & 0 & 1 & 0 & 0 \\\\\n",
       "0 & 0 & 0 & 0 & 1 \\\\\n",
       "0 & 0 & 0 & 0 & 0 \\\\\n",
       "0 & 0 & 0 & 0 & 0\n",
       "\\end{array}\\right)</script></html>"
      ],
      "text/latex": [
       "$$\\newcommand{\\Bold}[1]{\\mathbf{#1}}\\left(\\begin{array}{rrrrr}\n",
       "0 & 0 & 0 & 1 & 0 \\\\\n",
       "0 & 0 & 1 & 0 & 0 \\\\\n",
       "0 & 0 & 0 & 0 & 1 \\\\\n",
       "0 & 0 & 0 & 0 & 0 \\\\\n",
       "0 & 0 & 0 & 0 & 0\n",
       "\\end{array}\\right)$$"
      ],
      "text/plain": [
       "[0 0 0 1 0]\n",
       "[0 0 1 0 0]\n",
       "[0 0 0 0 1]\n",
       "[0 0 0 0 0]\n",
       "[0 0 0 0 0]"
      ]
     },
     "metadata": {},
     "output_type": "display_data"
    },
    {
     "data": {
      "text/html": [
       "<html><script type=\"math/tex; mode=display\">\\newcommand{\\Bold}[1]{\\mathbf{#1}}\\left[\\left\\{d_{1} : r_{1749}, d_{2} : 0, d_{3} : 0, d_{4} : r_{1750}, d_{5} : 0, a_{12} : r_{1751}, a_{13} : r_{1752}, a_{14} : r_{1753}, a_{15} : r_{1754}, a_{23} : r_{1755}, a_{24} : r_{1756}, a_{25} : r_{1757}, a_{34} : -\\frac{r_{1750} x_{24}}{x_{23}}, a_{35} : r_{1758}, a_{45} : r_{1759}\\right\\}, \\left\\{d_{1} : r_{1760}, d_{2} : 0, d_{3} : 0, d_{4} : -\\frac{r_{1760} x_{23}}{x_{13} x_{24}}, d_{5} : 0, a_{12} : 0, a_{13} : r_{1761}, a_{14} : r_{1762}, a_{15} : r_{1763}, a_{23} : r_{1764}, a_{24} : r_{1765}, a_{25} : r_{1766}, a_{34} : \\frac{r_{1760}}{x_{13}}, a_{35} : r_{1767}, a_{45} : r_{1768}\\right\\}, \\left\\{d_{1} : r_{1769}, d_{2} : r_{1770}, d_{3} : \\frac{r_{1770}}{x_{23}}, d_{4} : -\\frac{r_{1769} x_{23}}{x_{13} x_{24}}, d_{5} : \\frac{r_{1770}}{x_{23} x_{35}}, a_{12} : \\frac{r_{1770} x_{13}}{x_{23}}, a_{13} : r_{1771}, a_{14} : r_{1772}, a_{15} : r_{1773}, a_{23} : r_{1774}, a_{24} : r_{1775}, a_{25} : r_{1776}, a_{34} : \\frac{r_{1769}}{x_{13}}, a_{35} : \\frac{r_{1771} x_{23} x_{35} - r_{1770} x_{15}}{x_{13} x_{23} x_{35}}, a_{45} : \\frac{r_{1770} x_{15} + {\\left(r_{1774} x_{13} - r_{1771} x_{23}\\right)} x_{35}}{x_{13} x_{24} x_{35}}\\right\\}\\right]</script></html>"
      ],
      "text/latex": [
       "$$\\newcommand{\\Bold}[1]{\\mathbf{#1}}\\left[\\left\\{d_{1} : r_{1749}, d_{2} : 0, d_{3} : 0, d_{4} : r_{1750}, d_{5} : 0, a_{12} : r_{1751}, a_{13} : r_{1752}, a_{14} : r_{1753}, a_{15} : r_{1754}, a_{23} : r_{1755}, a_{24} : r_{1756}, a_{25} : r_{1757}, a_{34} : -\\frac{r_{1750} x_{24}}{x_{23}}, a_{35} : r_{1758}, a_{45} : r_{1759}\\right\\}, \\left\\{d_{1} : r_{1760}, d_{2} : 0, d_{3} : 0, d_{4} : -\\frac{r_{1760} x_{23}}{x_{13} x_{24}}, d_{5} : 0, a_{12} : 0, a_{13} : r_{1761}, a_{14} : r_{1762}, a_{15} : r_{1763}, a_{23} : r_{1764}, a_{24} : r_{1765}, a_{25} : r_{1766}, a_{34} : \\frac{r_{1760}}{x_{13}}, a_{35} : r_{1767}, a_{45} : r_{1768}\\right\\}, \\left\\{d_{1} : r_{1769}, d_{2} : r_{1770}, d_{3} : \\frac{r_{1770}}{x_{23}}, d_{4} : -\\frac{r_{1769} x_{23}}{x_{13} x_{24}}, d_{5} : \\frac{r_{1770}}{x_{23} x_{35}}, a_{12} : \\frac{r_{1770} x_{13}}{x_{23}}, a_{13} : r_{1771}, a_{14} : r_{1772}, a_{15} : r_{1773}, a_{23} : r_{1774}, a_{24} : r_{1775}, a_{25} : r_{1776}, a_{34} : \\frac{r_{1769}}{x_{13}}, a_{35} : \\frac{r_{1771} x_{23} x_{35} - r_{1770} x_{15}}{x_{13} x_{23} x_{35}}, a_{45} : \\frac{r_{1770} x_{15} + {\\left(r_{1774} x_{13} - r_{1771} x_{23}\\right)} x_{35}}{x_{13} x_{24} x_{35}}\\right\\}\\right]$$"
      ],
      "text/plain": [
       "[{d1: r1749,\n",
       "  d2: 0,\n",
       "  d3: 0,\n",
       "  d4: r1750,\n",
       "  d5: 0,\n",
       "  a12: r1751,\n",
       "  a13: r1752,\n",
       "  a14: r1753,\n",
       "  a15: r1754,\n",
       "  a23: r1755,\n",
       "  a24: r1756,\n",
       "  a25: r1757,\n",
       "  a34: -r1750*x24/x23,\n",
       "  a35: r1758,\n",
       "  a45: r1759},\n",
       " {d1: r1760,\n",
       "  d2: 0,\n",
       "  d3: 0,\n",
       "  d4: -r1760*x23/(x13*x24),\n",
       "  d5: 0,\n",
       "  a12: 0,\n",
       "  a13: r1761,\n",
       "  a14: r1762,\n",
       "  a15: r1763,\n",
       "  a23: r1764,\n",
       "  a24: r1765,\n",
       "  a25: r1766,\n",
       "  a34: r1760/x13,\n",
       "  a35: r1767,\n",
       "  a45: r1768},\n",
       " {d1: r1769,\n",
       "  d2: r1770,\n",
       "  d3: r1770/x23,\n",
       "  d4: -r1769*x23/(x13*x24),\n",
       "  d5: r1770/(x23*x35),\n",
       "  a12: r1770*x13/x23,\n",
       "  a13: r1771,\n",
       "  a14: r1772,\n",
       "  a15: r1773,\n",
       "  a23: r1774,\n",
       "  a24: r1775,\n",
       "  a25: r1776,\n",
       "  a34: r1769/x13,\n",
       "  a35: (r1771*x23*x35 - r1770*x15)/(x13*x23*x35),\n",
       "  a45: (r1770*x15 + (r1774*x13 - r1771*x23)*x35)/(x13*x24*x35)}]"
      ]
     },
     "metadata": {},
     "output_type": "display_data"
    },
    {
     "data": {
      "text/plain": [
       "\\left[\\left\\{d_{1} : r_{1749}, d_{2} : 0, d_{3} : 0, d_{4} : r_{1750}, d_{5} : 0, a_{12} : r_{1751}, a_{13} : r_{1752}, a_{14} : r_{1753}, a_{15} : r_{1754}, a_{23} : r_{1755}, a_{24} : r_{1756}, a_{25} : r_{1757}, a_{34} : -\\frac{r_{1750} x_{24}}{x_{23}}, a_{35} : r_{1758}, a_{45} : r_{1759}\\right\\}, \\left\\{d_{1} : r_{1760}, d_{2} : 0, d_{3} : 0, d_{4} : -\\frac{r_{1760} x_{23}}{x_{13} x_{24}}, d_{5} : 0, a_{12} : 0, a_{13} : r_{1761}, a_{14} : r_{1762}, a_{15} : r_{1763}, a_{23} : r_{1764}, a_{24} : r_{1765}, a_{25} : r_{1766}, a_{34} : \\frac{r_{1760}}{x_{13}}, a_{35} : r_{1767}, a_{45} : r_{1768}\\right\\}, \\left\\{d_{1} : r_{1769}, d_{2} : r_{1770}, d_{3} : \\frac{r_{1770}}{x_{23}}, d_{4} : -\\frac{r_{1769} x_{23}}{x_{13} x_{24}}, d_{5} : \\frac{r_{1770}}{x_{23} x_{35}}, a_{12} : \\frac{r_{1770} x_{13}}{x_{23}}, a_{13} : r_{1771}, a_{14} : r_{1772}, a_{15} : r_{1773}, a_{23} : r_{1774}, a_{24} : r_{1775}, a_{25} : r_{1776}, a_{34} : \\frac{r_{1769}}{x_{13}}, a_{35} : \\frac{r_{1771} x_{23} x_{35} - r_{1770} x_{15}}{x_{13} x_{23} x_{35}}, a_{45} : \\frac{r_{1770} x_{15} + {\\left(r_{1774} x_{13} - r_{1771} x_{23}\\right)} x_{35}}{x_{13} x_{24} x_{35}}\\right\\}\\right]"
      ]
     },
     "execution_count": 78,
     "metadata": {},
     "output_type": "execute_result"
    }
   ],
   "source": [
    "#x3\n",
    "reset()\n",
    "\n",
    "var('x12,x13,x14,x15,x23,x24,x25,x34,x35,x45')\n",
    "var('d1,d2,d3,d4,d5')\n",
    "var('a12,a13,a14,a15,a23,a24,a25,a34,a35,a45')\n",
    "\n",
    "load_attach_path('C:\\\\Users\\\\julia\\\\Documents\\\\unb\\\\doutorado\\\\pensar\\\\codigo_sage_v2\\\\maquina\\\\x3')\n",
    "\n",
    "load('out_#110101.sage')\n",
    "m=matrix(QQ, [[0, 0, 0, 1, 0],\n",
    "              [0, 0, 1, 0, 0],\n",
    "              [0, 0, 0, 0, 1],\n",
    "              [0, 0, 0, 0, 0],\n",
    "              [0, 0, 0, 0, 0]])\n",
    "        \n",
    "#entry of matrix: (i,j) line i collum j, means (i-1,j-1)\n",
    "sol=solve([ eq1==m[0,2],\teq2==m[0,3],\teq3==m[0,4],\teq4==m[1,2],\t\n",
    "                                            eq5==m[1,3],    eq6==m[1,4],\n",
    "                                                            eq7==m[2,4]],d1,d2,d3,d4,d5,a12,a13,a14,a15,a23,a24,a25,a34,a35,a45, solution_dict=True)\n",
    "\n",
    "show(m)\n",
    "show(sol)\n",
    "latex(sol)"
   ]
  },
  {
   "cell_type": "code",
   "execution_count": 80,
   "metadata": {},
   "outputs": [
    {
     "data": {
      "text/html": [
       "<html><script type=\"math/tex; mode=display\">\\newcommand{\\Bold}[1]{\\mathbf{#1}}\\left(\\begin{array}{rrrrr}\n",
       "0 & 0 & 0 & 1 & 0 \\\\\n",
       "0 & 0 & 1 & 0 & 0 \\\\\n",
       "0 & 0 & 0 & 0 & 1 \\\\\n",
       "0 & 0 & 0 & 0 & 0 \\\\\n",
       "0 & 0 & 0 & 0 & 0\n",
       "\\end{array}\\right)</script></html>"
      ],
      "text/latex": [
       "$$\\newcommand{\\Bold}[1]{\\mathbf{#1}}\\left(\\begin{array}{rrrrr}\n",
       "0 & 0 & 0 & 1 & 0 \\\\\n",
       "0 & 0 & 1 & 0 & 0 \\\\\n",
       "0 & 0 & 0 & 0 & 1 \\\\\n",
       "0 & 0 & 0 & 0 & 0 \\\\\n",
       "0 & 0 & 0 & 0 & 0\n",
       "\\end{array}\\right)$$"
      ],
      "text/plain": [
       "[0 0 0 1 0]\n",
       "[0 0 1 0 0]\n",
       "[0 0 0 0 1]\n",
       "[0 0 0 0 0]\n",
       "[0 0 0 0 0]"
      ]
     },
     "metadata": {},
     "output_type": "display_data"
    },
    {
     "data": {
      "text/html": [
       "<html><script type=\"math/tex; mode=display\">\\newcommand{\\Bold}[1]{\\mathbf{#1}}\\left[\\left\\{d_{1} : r_{1805}, d_{2} : 0, d_{3} : 0, d_{4} : r_{1806}, d_{5} : 0, a_{12} : r_{1807}, a_{13} : r_{1808}, a_{14} : r_{1809}, a_{15} : r_{1810}, a_{23} : r_{1811}, a_{24} : r_{1812}, a_{25} : r_{1813}, a_{34} : -\\frac{r_{1806} x_{24}}{x_{23}}, a_{35} : r_{1814}, a_{45} : r_{1815}\\right\\}, \\left\\{d_{1} : r_{1816}, d_{2} : 0, d_{3} : 0, d_{4} : \\frac{r_{1816} x_{23}}{x_{14} x_{23} - x_{13} x_{24}}, d_{5} : 0, a_{12} : 0, a_{13} : r_{1817}, a_{14} : r_{1818}, a_{15} : r_{1819}, a_{23} : r_{1820}, a_{24} : r_{1821}, a_{25} : r_{1822}, a_{34} : -\\frac{r_{1816} x_{24}}{x_{14} x_{23} - x_{13} x_{24}}, a_{35} : r_{1823}, a_{45} : r_{1824}\\right\\}, \\left\\{d_{1} : r_{1825}, d_{2} : r_{1826}, d_{3} : \\frac{r_{1826}}{x_{23}}, d_{4} : \\frac{r_{1825} x_{23}}{x_{14} x_{23} - x_{13} x_{24}}, d_{5} : \\frac{r_{1826}}{x_{23} x_{35}}, a_{12} : \\frac{r_{1826} x_{13}}{x_{23}}, a_{13} : r_{1827}, a_{14} : r_{1828}, a_{15} : r_{1829}, a_{23} : r_{1830}, a_{24} : r_{1831}, a_{25} : r_{1832}, a_{34} : -\\frac{r_{1825} x_{24}}{x_{14} x_{23} - x_{13} x_{24}}, a_{35} : \\frac{r_{1830} x_{14} - r_{1827} x_{24}}{x_{14} x_{23} - x_{13} x_{24}}, a_{45} : -\\frac{r_{1830} x_{13} - r_{1827} x_{23}}{x_{14} x_{23} - x_{13} x_{24}}\\right\\}\\right]</script></html>"
      ],
      "text/latex": [
       "$$\\newcommand{\\Bold}[1]{\\mathbf{#1}}\\left[\\left\\{d_{1} : r_{1805}, d_{2} : 0, d_{3} : 0, d_{4} : r_{1806}, d_{5} : 0, a_{12} : r_{1807}, a_{13} : r_{1808}, a_{14} : r_{1809}, a_{15} : r_{1810}, a_{23} : r_{1811}, a_{24} : r_{1812}, a_{25} : r_{1813}, a_{34} : -\\frac{r_{1806} x_{24}}{x_{23}}, a_{35} : r_{1814}, a_{45} : r_{1815}\\right\\}, \\left\\{d_{1} : r_{1816}, d_{2} : 0, d_{3} : 0, d_{4} : \\frac{r_{1816} x_{23}}{x_{14} x_{23} - x_{13} x_{24}}, d_{5} : 0, a_{12} : 0, a_{13} : r_{1817}, a_{14} : r_{1818}, a_{15} : r_{1819}, a_{23} : r_{1820}, a_{24} : r_{1821}, a_{25} : r_{1822}, a_{34} : -\\frac{r_{1816} x_{24}}{x_{14} x_{23} - x_{13} x_{24}}, a_{35} : r_{1823}, a_{45} : r_{1824}\\right\\}, \\left\\{d_{1} : r_{1825}, d_{2} : r_{1826}, d_{3} : \\frac{r_{1826}}{x_{23}}, d_{4} : \\frac{r_{1825} x_{23}}{x_{14} x_{23} - x_{13} x_{24}}, d_{5} : \\frac{r_{1826}}{x_{23} x_{35}}, a_{12} : \\frac{r_{1826} x_{13}}{x_{23}}, a_{13} : r_{1827}, a_{14} : r_{1828}, a_{15} : r_{1829}, a_{23} : r_{1830}, a_{24} : r_{1831}, a_{25} : r_{1832}, a_{34} : -\\frac{r_{1825} x_{24}}{x_{14} x_{23} - x_{13} x_{24}}, a_{35} : \\frac{r_{1830} x_{14} - r_{1827} x_{24}}{x_{14} x_{23} - x_{13} x_{24}}, a_{45} : -\\frac{r_{1830} x_{13} - r_{1827} x_{23}}{x_{14} x_{23} - x_{13} x_{24}}\\right\\}\\right]$$"
      ],
      "text/plain": [
       "[{d1: r1805,\n",
       "  d2: 0,\n",
       "  d3: 0,\n",
       "  d4: r1806,\n",
       "  d5: 0,\n",
       "  a12: r1807,\n",
       "  a13: r1808,\n",
       "  a14: r1809,\n",
       "  a15: r1810,\n",
       "  a23: r1811,\n",
       "  a24: r1812,\n",
       "  a25: r1813,\n",
       "  a34: -r1806*x24/x23,\n",
       "  a35: r1814,\n",
       "  a45: r1815},\n",
       " {d1: r1816,\n",
       "  d2: 0,\n",
       "  d3: 0,\n",
       "  d4: r1816*x23/(x14*x23 - x13*x24),\n",
       "  d5: 0,\n",
       "  a12: 0,\n",
       "  a13: r1817,\n",
       "  a14: r1818,\n",
       "  a15: r1819,\n",
       "  a23: r1820,\n",
       "  a24: r1821,\n",
       "  a25: r1822,\n",
       "  a34: -r1816*x24/(x14*x23 - x13*x24),\n",
       "  a35: r1823,\n",
       "  a45: r1824},\n",
       " {d1: r1825,\n",
       "  d2: r1826,\n",
       "  d3: r1826/x23,\n",
       "  d4: r1825*x23/(x14*x23 - x13*x24),\n",
       "  d5: r1826/(x23*x35),\n",
       "  a12: r1826*x13/x23,\n",
       "  a13: r1827,\n",
       "  a14: r1828,\n",
       "  a15: r1829,\n",
       "  a23: r1830,\n",
       "  a24: r1831,\n",
       "  a25: r1832,\n",
       "  a34: -r1825*x24/(x14*x23 - x13*x24),\n",
       "  a35: (r1830*x14 - r1827*x24)/(x14*x23 - x13*x24),\n",
       "  a45: -(r1830*x13 - r1827*x23)/(x14*x23 - x13*x24)}]"
      ]
     },
     "metadata": {},
     "output_type": "display_data"
    },
    {
     "data": {
      "text/plain": [
       "\\left[\\left\\{d_{1} : r_{1805}, d_{2} : 0, d_{3} : 0, d_{4} : r_{1806}, d_{5} : 0, a_{12} : r_{1807}, a_{13} : r_{1808}, a_{14} : r_{1809}, a_{15} : r_{1810}, a_{23} : r_{1811}, a_{24} : r_{1812}, a_{25} : r_{1813}, a_{34} : -\\frac{r_{1806} x_{24}}{x_{23}}, a_{35} : r_{1814}, a_{45} : r_{1815}\\right\\}, \\left\\{d_{1} : r_{1816}, d_{2} : 0, d_{3} : 0, d_{4} : \\frac{r_{1816} x_{23}}{x_{14} x_{23} - x_{13} x_{24}}, d_{5} : 0, a_{12} : 0, a_{13} : r_{1817}, a_{14} : r_{1818}, a_{15} : r_{1819}, a_{23} : r_{1820}, a_{24} : r_{1821}, a_{25} : r_{1822}, a_{34} : -\\frac{r_{1816} x_{24}}{x_{14} x_{23} - x_{13} x_{24}}, a_{35} : r_{1823}, a_{45} : r_{1824}\\right\\}, \\left\\{d_{1} : r_{1825}, d_{2} : r_{1826}, d_{3} : \\frac{r_{1826}}{x_{23}}, d_{4} : \\frac{r_{1825} x_{23}}{x_{14} x_{23} - x_{13} x_{24}}, d_{5} : \\frac{r_{1826}}{x_{23} x_{35}}, a_{12} : \\frac{r_{1826} x_{13}}{x_{23}}, a_{13} : r_{1827}, a_{14} : r_{1828}, a_{15} : r_{1829}, a_{23} : r_{1830}, a_{24} : r_{1831}, a_{25} : r_{1832}, a_{34} : -\\frac{r_{1825} x_{24}}{x_{14} x_{23} - x_{13} x_{24}}, a_{35} : \\frac{r_{1830} x_{14} - r_{1827} x_{24}}{x_{14} x_{23} - x_{13} x_{24}}, a_{45} : -\\frac{r_{1830} x_{13} - r_{1827} x_{23}}{x_{14} x_{23} - x_{13} x_{24}}\\right\\}\\right]"
      ]
     },
     "execution_count": 80,
     "metadata": {},
     "output_type": "execute_result"
    }
   ],
   "source": [
    "#x3\n",
    "#----------------------\n",
    "#x14 \\neq x13*x24/x23\n",
    "#----------------------\n",
    "reset()\n",
    "\n",
    "var('x12,x13,x14,x15,x23,x24,x25,x34,x35,x45')\n",
    "var('d1,d2,d3,d4,d5')\n",
    "var('a12,a13,a14,a15,a23,a24,a25,a34,a35,a45')\n",
    "\n",
    "load_attach_path('C:\\\\Users\\\\julia\\\\Documents\\\\unb\\\\doutorado\\\\pensar\\\\codigo_sage_v2\\\\maquina\\\\x3')\n",
    "load('out_#110110.sage')\n",
    "\n",
    "m=matrix(QQ, [[0, 0, 0, 1, 0],\n",
    "              [0, 0, 1, 0, 0],\n",
    "              [0, 0, 0, 0, 1],\n",
    "              [0, 0, 0, 0, 0],\n",
    "              [0, 0, 0, 0, 0]])\n",
    "        \n",
    "#entry of matrix: (i,j) line i collum j, means (i-1,j-1)\n",
    "sol=solve([ eq1==m[0,2],\teq2==m[0,3],\teq3==m[0,4],\teq4==m[1,2],\t\n",
    "                                            eq5==m[1,3],    eq6==m[1,4],\n",
    "                                                            eq7==m[2,4]],d1,d2,d3,d4,d5,a12,a13,a14,a15,a23,a24,a25,a34,a35,a45, solution_dict=True)\n",
    "\n",
    "show(m)\n",
    "show(sol)\n",
    "latex(sol)"
   ]
  },
  {
   "cell_type": "code",
   "execution_count": 80,
   "metadata": {},
   "outputs": [
    {
     "data": {
      "text/html": [
       "<html><script type=\"math/tex; mode=display\">\\newcommand{\\Bold}[1]{\\mathbf{#1}}\\left(\\begin{array}{rrrrr}\n",
       "0 & 0 & 0 & 0 & 0 \\\\\n",
       "0 & 0 & 1 & 0 & 0 \\\\\n",
       "0 & 0 & 0 & 0 & 1 \\\\\n",
       "0 & 0 & 0 & 0 & 0 \\\\\n",
       "0 & 0 & 0 & 0 & 0\n",
       "\\end{array}\\right)</script></html>"
      ],
      "text/latex": [
       "$$\\newcommand{\\Bold}[1]{\\mathbf{#1}}\\left(\\begin{array}{rrrrr}\n",
       "0 & 0 & 0 & 0 & 0 \\\\\n",
       "0 & 0 & 1 & 0 & 0 \\\\\n",
       "0 & 0 & 0 & 0 & 1 \\\\\n",
       "0 & 0 & 0 & 0 & 0 \\\\\n",
       "0 & 0 & 0 & 0 & 0\n",
       "\\end{array}\\right)$$"
      ],
      "text/plain": [
       "[0 0 0 0 0]\n",
       "[0 0 1 0 0]\n",
       "[0 0 0 0 1]\n",
       "[0 0 0 0 0]\n",
       "[0 0 0 0 0]"
      ]
     },
     "metadata": {},
     "output_type": "display_data"
    },
    {
     "data": {
      "text/html": [
       "<html><script type=\"math/tex; mode=display\">\\newcommand{\\Bold}[1]{\\mathbf{#1}}\\left[\\left\\{d_{1} : r_{1761}, d_{2} : 0, d_{3} : 0, d_{4} : r_{1762}, d_{5} : 0, a_{12} : r_{1763}, a_{13} : r_{1764}, a_{14} : r_{1765}, a_{15} : r_{1766}, a_{23} : r_{1767}, a_{24} : r_{1768}, a_{25} : r_{1769}, a_{34} : -\\frac{r_{1762} x_{24}}{x_{23}}, a_{35} : r_{1770}, a_{45} : r_{1771}\\right\\}, \\left\\{d_{1} : r_{1772}, d_{2} : r_{1773}, d_{3} : \\frac{r_{1773}}{x_{23}}, d_{4} : r_{1774}, d_{5} : \\frac{r_{1773}}{x_{23} x_{35}}, a_{12} : \\frac{r_{1773} x_{13}}{x_{23}}, a_{13} : r_{1775}, a_{14} : r_{1776}, a_{15} : r_{1777}, a_{23} : \\frac{r_{1775} x_{23}}{x_{13}}, a_{24} : r_{1778}, a_{25} : r_{1779}, a_{34} : -\\frac{r_{1774} x_{24}}{x_{23}}, a_{35} : r_{1780}, a_{45} : -\\frac{{\\left(r_{1780} x_{13} - r_{1775}\\right)} x_{23}}{x_{13} x_{24}}\\right\\}\\right]</script></html>"
      ],
      "text/latex": [
       "$$\\newcommand{\\Bold}[1]{\\mathbf{#1}}\\left[\\left\\{d_{1} : r_{1761}, d_{2} : 0, d_{3} : 0, d_{4} : r_{1762}, d_{5} : 0, a_{12} : r_{1763}, a_{13} : r_{1764}, a_{14} : r_{1765}, a_{15} : r_{1766}, a_{23} : r_{1767}, a_{24} : r_{1768}, a_{25} : r_{1769}, a_{34} : -\\frac{r_{1762} x_{24}}{x_{23}}, a_{35} : r_{1770}, a_{45} : r_{1771}\\right\\}, \\left\\{d_{1} : r_{1772}, d_{2} : r_{1773}, d_{3} : \\frac{r_{1773}}{x_{23}}, d_{4} : r_{1774}, d_{5} : \\frac{r_{1773}}{x_{23} x_{35}}, a_{12} : \\frac{r_{1773} x_{13}}{x_{23}}, a_{13} : r_{1775}, a_{14} : r_{1776}, a_{15} : r_{1777}, a_{23} : \\frac{r_{1775} x_{23}}{x_{13}}, a_{24} : r_{1778}, a_{25} : r_{1779}, a_{34} : -\\frac{r_{1774} x_{24}}{x_{23}}, a_{35} : r_{1780}, a_{45} : -\\frac{{\\left(r_{1780} x_{13} - r_{1775}\\right)} x_{23}}{x_{13} x_{24}}\\right\\}\\right]$$"
      ],
      "text/plain": [
       "[{d1: r1761,\n",
       "  d2: 0,\n",
       "  d3: 0,\n",
       "  d4: r1762,\n",
       "  d5: 0,\n",
       "  a12: r1763,\n",
       "  a13: r1764,\n",
       "  a14: r1765,\n",
       "  a15: r1766,\n",
       "  a23: r1767,\n",
       "  a24: r1768,\n",
       "  a25: r1769,\n",
       "  a34: -r1762*x24/x23,\n",
       "  a35: r1770,\n",
       "  a45: r1771},\n",
       " {d1: r1772,\n",
       "  d2: r1773,\n",
       "  d3: r1773/x23,\n",
       "  d4: r1774,\n",
       "  d5: r1773/(x23*x35),\n",
       "  a12: r1773*x13/x23,\n",
       "  a13: r1775,\n",
       "  a14: r1776,\n",
       "  a15: r1777,\n",
       "  a23: r1775*x23/x13,\n",
       "  a24: r1778,\n",
       "  a25: r1779,\n",
       "  a34: -r1774*x24/x23,\n",
       "  a35: r1780,\n",
       "  a45: -(r1780*x13 - r1775)*x23/(x13*x24)}]"
      ]
     },
     "metadata": {},
     "output_type": "display_data"
    },
    {
     "data": {
      "text/plain": [
       "\\left[\\left\\{d_{1} : r_{1761}, d_{2} : 0, d_{3} : 0, d_{4} : r_{1762}, d_{5} : 0, a_{12} : r_{1763}, a_{13} : r_{1764}, a_{14} : r_{1765}, a_{15} : r_{1766}, a_{23} : r_{1767}, a_{24} : r_{1768}, a_{25} : r_{1769}, a_{34} : -\\frac{r_{1762} x_{24}}{x_{23}}, a_{35} : r_{1770}, a_{45} : r_{1771}\\right\\}, \\left\\{d_{1} : r_{1772}, d_{2} : r_{1773}, d_{3} : \\frac{r_{1773}}{x_{23}}, d_{4} : r_{1774}, d_{5} : \\frac{r_{1773}}{x_{23} x_{35}}, a_{12} : \\frac{r_{1773} x_{13}}{x_{23}}, a_{13} : r_{1775}, a_{14} : r_{1776}, a_{15} : r_{1777}, a_{23} : \\frac{r_{1775} x_{23}}{x_{13}}, a_{24} : r_{1778}, a_{25} : r_{1779}, a_{34} : -\\frac{r_{1774} x_{24}}{x_{23}}, a_{35} : r_{1780}, a_{45} : -\\frac{{\\left(r_{1780} x_{13} - r_{1775}\\right)} x_{23}}{x_{13} x_{24}}\\right\\}\\right]"
      ]
     },
     "execution_count": 80,
     "metadata": {},
     "output_type": "execute_result"
    }
   ],
   "source": [
    "#x3\n",
    "#----------------------\n",
    "#x14 = x13*x24/x23\n",
    "#----------------------\n",
    "reset()\n",
    "\n",
    "var('x12,x13,x14,x15,x23,x24,x25,x34,x35,x45')\n",
    "var('d1,d2,d3,d4,d5')\n",
    "var('a12,a13,a14,a15,a23,a24,a25,a34,a35,a45')\n",
    "\n",
    "#110110\n",
    "eq1=(d2*d3*x13-a12*d3*x23)/(d1*d2) \n",
    "eq2=(a34*d2*x13+d2*d4*((x13*x24)/x23)-a12*a34*x23-a12*d4*x24)/(d1*d2) \n",
    "eq3=(a35*d2*d3*x13+a45*d2*d3*((x13*x24)/x23)+d2*d3*d5*0-a12*a35*d3*x23-a12*a45*d3*x24-a12*d3*d5*0+a12*a23*d5*x35-a13*d2*d5*x35)/(d1*d2*d3) \n",
    "eq4=(d3*x23)/(d2) \n",
    "eq5=(a34*x23+d4*x24)/(d2) \n",
    "eq6=(a35*d3*x23+a45*d3*x24+d3*d5*0-a23*d5*x35)/(d2*d3) \n",
    "eq7=(d5*x35)/(d3) \n",
    "\n",
    "m=matrix(QQ, [[0, 0, 0, 0, 0],\n",
    "              [0, 0, 1, 0, 0],\n",
    "              [0, 0, 0, 0, 1],\n",
    "              [0, 0, 0, 0, 0],\n",
    "              [0, 0, 0, 0, 0]])\n",
    "        \n",
    "#entry of matrix: (i,j) line i collum j, means (i-1,j-1)\n",
    "sol=solve([ eq1==m[0,2],\teq2==m[0,3],\teq3==m[0,4],\teq4==m[1,2],\t\n",
    "                                            eq5==m[1,3],    eq6==m[1,4],\n",
    "                                                            eq7==m[2,4]],d1,d2,d3,d4,d5,a12,a13,a14,a15,a23,a24,a25,a34,a35,a45, solution_dict=True)\n",
    "\n",
    "show(m)\n",
    "show(sol)\n",
    "latex(sol)"
   ]
  },
  {
   "cell_type": "code",
   "execution_count": 81,
   "metadata": {},
   "outputs": [
    {
     "data": {
      "text/html": [
       "<html><script type=\"math/tex; mode=display\">\\newcommand{\\Bold}[1]{\\mathbf{#1}}\\left(\\begin{array}{rrrrr}\n",
       "0 & 0 & 0 & 1 & 0 \\\\\n",
       "0 & 0 & 1 & 0 & 0 \\\\\n",
       "0 & 0 & 0 & 0 & 1 \\\\\n",
       "0 & 0 & 0 & 0 & 0 \\\\\n",
       "0 & 0 & 0 & 0 & 0\n",
       "\\end{array}\\right)</script></html>"
      ],
      "text/latex": [
       "$$\\newcommand{\\Bold}[1]{\\mathbf{#1}}\\left(\\begin{array}{rrrrr}\n",
       "0 & 0 & 0 & 1 & 0 \\\\\n",
       "0 & 0 & 1 & 0 & 0 \\\\\n",
       "0 & 0 & 0 & 0 & 1 \\\\\n",
       "0 & 0 & 0 & 0 & 0 \\\\\n",
       "0 & 0 & 0 & 0 & 0\n",
       "\\end{array}\\right)$$"
      ],
      "text/plain": [
       "[0 0 0 1 0]\n",
       "[0 0 1 0 0]\n",
       "[0 0 0 0 1]\n",
       "[0 0 0 0 0]\n",
       "[0 0 0 0 0]"
      ]
     },
     "metadata": {},
     "output_type": "display_data"
    },
    {
     "data": {
      "text/html": [
       "<html><script type=\"math/tex; mode=display\">\\newcommand{\\Bold}[1]{\\mathbf{#1}}\\left[\\left\\{d_{1} : r_{1833}, d_{2} : 0, d_{3} : 0, d_{4} : r_{1834}, d_{5} : 0, a_{12} : r_{1835}, a_{13} : r_{1836}, a_{14} : r_{1837}, a_{15} : r_{1838}, a_{23} : r_{1839}, a_{24} : r_{1840}, a_{25} : r_{1841}, a_{34} : -\\frac{r_{1834} x_{24}}{x_{23}}, a_{35} : r_{1842}, a_{45} : r_{1843}\\right\\}, \\left\\{d_{1} : r_{1844}, d_{2} : 0, d_{3} : 0, d_{4} : \\frac{r_{1844} x_{23}}{x_{14} x_{23} - x_{13} x_{24}}, d_{5} : 0, a_{12} : 0, a_{13} : r_{1845}, a_{14} : r_{1846}, a_{15} : r_{1847}, a_{23} : r_{1848}, a_{24} : r_{1849}, a_{25} : r_{1850}, a_{34} : -\\frac{r_{1844} x_{24}}{x_{14} x_{23} - x_{13} x_{24}}, a_{35} : r_{1851}, a_{45} : r_{1852}\\right\\}, \\left\\{d_{1} : r_{1853}, d_{2} : r_{1854}, d_{3} : \\frac{r_{1854}}{x_{23}}, d_{4} : \\frac{r_{1853} x_{23}}{x_{14} x_{23} - x_{13} x_{24}}, d_{5} : \\frac{r_{1854}}{x_{23} x_{35}}, a_{12} : \\frac{r_{1854} x_{13}}{x_{23}}, a_{13} : r_{1855}, a_{14} : r_{1856}, a_{15} : r_{1857}, a_{23} : r_{1858}, a_{24} : r_{1859}, a_{25} : r_{1860}, a_{34} : -\\frac{r_{1853} x_{24}}{x_{14} x_{23} - x_{13} x_{24}}, a_{35} : \\frac{r_{1854} x_{15} x_{24} + {\\left(r_{1858} x_{14} x_{23} - r_{1855} x_{23} x_{24}\\right)} x_{35}}{{\\left(x_{14} x_{23}^{2} - x_{13} x_{23} x_{24}\\right)} x_{35}}, a_{45} : -\\frac{r_{1854} x_{15} + {\\left(r_{1858} x_{13} - r_{1855} x_{23}\\right)} x_{35}}{{\\left(x_{14} x_{23} - x_{13} x_{24}\\right)} x_{35}}\\right\\}\\right]</script></html>"
      ],
      "text/latex": [
       "$$\\newcommand{\\Bold}[1]{\\mathbf{#1}}\\left[\\left\\{d_{1} : r_{1833}, d_{2} : 0, d_{3} : 0, d_{4} : r_{1834}, d_{5} : 0, a_{12} : r_{1835}, a_{13} : r_{1836}, a_{14} : r_{1837}, a_{15} : r_{1838}, a_{23} : r_{1839}, a_{24} : r_{1840}, a_{25} : r_{1841}, a_{34} : -\\frac{r_{1834} x_{24}}{x_{23}}, a_{35} : r_{1842}, a_{45} : r_{1843}\\right\\}, \\left\\{d_{1} : r_{1844}, d_{2} : 0, d_{3} : 0, d_{4} : \\frac{r_{1844} x_{23}}{x_{14} x_{23} - x_{13} x_{24}}, d_{5} : 0, a_{12} : 0, a_{13} : r_{1845}, a_{14} : r_{1846}, a_{15} : r_{1847}, a_{23} : r_{1848}, a_{24} : r_{1849}, a_{25} : r_{1850}, a_{34} : -\\frac{r_{1844} x_{24}}{x_{14} x_{23} - x_{13} x_{24}}, a_{35} : r_{1851}, a_{45} : r_{1852}\\right\\}, \\left\\{d_{1} : r_{1853}, d_{2} : r_{1854}, d_{3} : \\frac{r_{1854}}{x_{23}}, d_{4} : \\frac{r_{1853} x_{23}}{x_{14} x_{23} - x_{13} x_{24}}, d_{5} : \\frac{r_{1854}}{x_{23} x_{35}}, a_{12} : \\frac{r_{1854} x_{13}}{x_{23}}, a_{13} : r_{1855}, a_{14} : r_{1856}, a_{15} : r_{1857}, a_{23} : r_{1858}, a_{24} : r_{1859}, a_{25} : r_{1860}, a_{34} : -\\frac{r_{1853} x_{24}}{x_{14} x_{23} - x_{13} x_{24}}, a_{35} : \\frac{r_{1854} x_{15} x_{24} + {\\left(r_{1858} x_{14} x_{23} - r_{1855} x_{23} x_{24}\\right)} x_{35}}{{\\left(x_{14} x_{23}^{2} - x_{13} x_{23} x_{24}\\right)} x_{35}}, a_{45} : -\\frac{r_{1854} x_{15} + {\\left(r_{1858} x_{13} - r_{1855} x_{23}\\right)} x_{35}}{{\\left(x_{14} x_{23} - x_{13} x_{24}\\right)} x_{35}}\\right\\}\\right]$$"
      ],
      "text/plain": [
       "[{d1: r1833,\n",
       "  d2: 0,\n",
       "  d3: 0,\n",
       "  d4: r1834,\n",
       "  d5: 0,\n",
       "  a12: r1835,\n",
       "  a13: r1836,\n",
       "  a14: r1837,\n",
       "  a15: r1838,\n",
       "  a23: r1839,\n",
       "  a24: r1840,\n",
       "  a25: r1841,\n",
       "  a34: -r1834*x24/x23,\n",
       "  a35: r1842,\n",
       "  a45: r1843},\n",
       " {d1: r1844,\n",
       "  d2: 0,\n",
       "  d3: 0,\n",
       "  d4: r1844*x23/(x14*x23 - x13*x24),\n",
       "  d5: 0,\n",
       "  a12: 0,\n",
       "  a13: r1845,\n",
       "  a14: r1846,\n",
       "  a15: r1847,\n",
       "  a23: r1848,\n",
       "  a24: r1849,\n",
       "  a25: r1850,\n",
       "  a34: -r1844*x24/(x14*x23 - x13*x24),\n",
       "  a35: r1851,\n",
       "  a45: r1852},\n",
       " {d1: r1853,\n",
       "  d2: r1854,\n",
       "  d3: r1854/x23,\n",
       "  d4: r1853*x23/(x14*x23 - x13*x24),\n",
       "  d5: r1854/(x23*x35),\n",
       "  a12: r1854*x13/x23,\n",
       "  a13: r1855,\n",
       "  a14: r1856,\n",
       "  a15: r1857,\n",
       "  a23: r1858,\n",
       "  a24: r1859,\n",
       "  a25: r1860,\n",
       "  a34: -r1853*x24/(x14*x23 - x13*x24),\n",
       "  a35: (r1854*x15*x24 + (r1858*x14*x23 - r1855*x23*x24)*x35)/((x14*x23^2 - x13*x23*x24)*x35),\n",
       "  a45: -(r1854*x15 + (r1858*x13 - r1855*x23)*x35)/((x14*x23 - x13*x24)*x35)}]"
      ]
     },
     "metadata": {},
     "output_type": "display_data"
    },
    {
     "data": {
      "text/plain": [
       "\\left[\\left\\{d_{1} : r_{1833}, d_{2} : 0, d_{3} : 0, d_{4} : r_{1834}, d_{5} : 0, a_{12} : r_{1835}, a_{13} : r_{1836}, a_{14} : r_{1837}, a_{15} : r_{1838}, a_{23} : r_{1839}, a_{24} : r_{1840}, a_{25} : r_{1841}, a_{34} : -\\frac{r_{1834} x_{24}}{x_{23}}, a_{35} : r_{1842}, a_{45} : r_{1843}\\right\\}, \\left\\{d_{1} : r_{1844}, d_{2} : 0, d_{3} : 0, d_{4} : \\frac{r_{1844} x_{23}}{x_{14} x_{23} - x_{13} x_{24}}, d_{5} : 0, a_{12} : 0, a_{13} : r_{1845}, a_{14} : r_{1846}, a_{15} : r_{1847}, a_{23} : r_{1848}, a_{24} : r_{1849}, a_{25} : r_{1850}, a_{34} : -\\frac{r_{1844} x_{24}}{x_{14} x_{23} - x_{13} x_{24}}, a_{35} : r_{1851}, a_{45} : r_{1852}\\right\\}, \\left\\{d_{1} : r_{1853}, d_{2} : r_{1854}, d_{3} : \\frac{r_{1854}}{x_{23}}, d_{4} : \\frac{r_{1853} x_{23}}{x_{14} x_{23} - x_{13} x_{24}}, d_{5} : \\frac{r_{1854}}{x_{23} x_{35}}, a_{12} : \\frac{r_{1854} x_{13}}{x_{23}}, a_{13} : r_{1855}, a_{14} : r_{1856}, a_{15} : r_{1857}, a_{23} : r_{1858}, a_{24} : r_{1859}, a_{25} : r_{1860}, a_{34} : -\\frac{r_{1853} x_{24}}{x_{14} x_{23} - x_{13} x_{24}}, a_{35} : \\frac{r_{1854} x_{15} x_{24} + {\\left(r_{1858} x_{14} x_{23} - r_{1855} x_{23} x_{24}\\right)} x_{35}}{{\\left(x_{14} x_{23}^{2} - x_{13} x_{23} x_{24}\\right)} x_{35}}, a_{45} : -\\frac{r_{1854} x_{15} + {\\left(r_{1858} x_{13} - r_{1855} x_{23}\\right)} x_{35}}{{\\left(x_{14} x_{23} - x_{13} x_{24}\\right)} x_{35}}\\right\\}\\right]"
      ]
     },
     "execution_count": 81,
     "metadata": {},
     "output_type": "execute_result"
    }
   ],
   "source": [
    "#x3\n",
    "#----------------------\n",
    "#x14 \\neq x13*x24/x23\n",
    "#----------------------\n",
    "reset()\n",
    "\n",
    "var('x12,x13,x14,x15,x23,x24,x25,x34,x35,x45')\n",
    "var('d1,d2,d3,d4,d5')\n",
    "var('a12,a13,a14,a15,a23,a24,a25,a34,a35,a45')\n",
    "\n",
    "load_attach_path('C:\\\\Users\\\\julia\\\\Documents\\\\unb\\\\doutorado\\\\pensar\\\\codigo_sage_v2\\\\maquina\\\\x3')\n",
    "load('out_#110111.sage')\n",
    "\n",
    "m=matrix(QQ, [[0, 0, 0, 1, 0],\n",
    "              [0, 0, 1, 0, 0],\n",
    "              [0, 0, 0, 0, 1],\n",
    "              [0, 0, 0, 0, 0],\n",
    "              [0, 0, 0, 0, 0]])\n",
    "        \n",
    "#entry of matrix: (i,j) line i collum j, means (i-1,j-1)\n",
    "sol=solve([ eq1==m[0,2],\teq2==m[0,3],\teq3==m[0,4],\teq4==m[1,2],\t\n",
    "                                            eq5==m[1,3],    eq6==m[1,4],\n",
    "                                                            eq7==m[2,4]],d1,d2,d3,d4,d5,a12,a13,a14,a15,a23,a24,a25,a34,a35,a45, solution_dict=True)\n",
    "\n",
    "show(m)\n",
    "show(sol)\n",
    "latex(sol)"
   ]
  },
  {
   "cell_type": "code",
   "execution_count": 82,
   "metadata": {},
   "outputs": [
    {
     "data": {
      "text/html": [
       "<html><script type=\"math/tex; mode=display\">\\newcommand{\\Bold}[1]{\\mathbf{#1}}\\left(\\begin{array}{rrrrr}\n",
       "0 & 0 & 0 & 0 & 0 \\\\\n",
       "0 & 0 & 1 & 0 & 0 \\\\\n",
       "0 & 0 & 0 & 0 & 1 \\\\\n",
       "0 & 0 & 0 & 0 & 0 \\\\\n",
       "0 & 0 & 0 & 0 & 0\n",
       "\\end{array}\\right)</script></html>"
      ],
      "text/latex": [
       "$$\\newcommand{\\Bold}[1]{\\mathbf{#1}}\\left(\\begin{array}{rrrrr}\n",
       "0 & 0 & 0 & 0 & 0 \\\\\n",
       "0 & 0 & 1 & 0 & 0 \\\\\n",
       "0 & 0 & 0 & 0 & 1 \\\\\n",
       "0 & 0 & 0 & 0 & 0 \\\\\n",
       "0 & 0 & 0 & 0 & 0\n",
       "\\end{array}\\right)$$"
      ],
      "text/plain": [
       "[0 0 0 0 0]\n",
       "[0 0 1 0 0]\n",
       "[0 0 0 0 1]\n",
       "[0 0 0 0 0]\n",
       "[0 0 0 0 0]"
      ]
     },
     "metadata": {},
     "output_type": "display_data"
    },
    {
     "data": {
      "text/html": [
       "<html><script type=\"math/tex; mode=display\">\\newcommand{\\Bold}[1]{\\mathbf{#1}}\\left[\\left\\{d_{1} : r_{1861}, d_{2} : 0, d_{3} : 0, d_{4} : r_{1862}, d_{5} : 0, a_{12} : r_{1863}, a_{13} : r_{1864}, a_{14} : r_{1865}, a_{15} : r_{1866}, a_{23} : r_{1867}, a_{24} : r_{1868}, a_{25} : r_{1869}, a_{34} : -\\frac{r_{1862} x_{24}}{x_{23}}, a_{35} : r_{1870}, a_{45} : r_{1871}\\right\\}, \\left\\{d_{1} : r_{1872}, d_{2} : r_{1873}, d_{3} : \\frac{r_{1873}}{x_{23}}, d_{4} : r_{1874}, d_{5} : \\frac{r_{1873}}{x_{23} x_{35}}, a_{12} : \\frac{r_{1873} x_{13}}{x_{23}}, a_{13} : r_{1875}, a_{14} : r_{1876}, a_{15} : r_{1877}, a_{23} : \\frac{r_{1875} x_{23} x_{35} - r_{1873} x_{15}}{x_{13} x_{35}}, a_{24} : r_{1878}, a_{25} : r_{1879}, a_{34} : -\\frac{r_{1874} x_{24}}{x_{23}}, a_{35} : r_{1880}, a_{45} : -\\frac{{\\left(r_{1880} x_{13} - r_{1875}\\right)} x_{23} x_{35} + r_{1873} x_{15}}{x_{13} x_{24} x_{35}}\\right\\}\\right]</script></html>"
      ],
      "text/latex": [
       "$$\\newcommand{\\Bold}[1]{\\mathbf{#1}}\\left[\\left\\{d_{1} : r_{1861}, d_{2} : 0, d_{3} : 0, d_{4} : r_{1862}, d_{5} : 0, a_{12} : r_{1863}, a_{13} : r_{1864}, a_{14} : r_{1865}, a_{15} : r_{1866}, a_{23} : r_{1867}, a_{24} : r_{1868}, a_{25} : r_{1869}, a_{34} : -\\frac{r_{1862} x_{24}}{x_{23}}, a_{35} : r_{1870}, a_{45} : r_{1871}\\right\\}, \\left\\{d_{1} : r_{1872}, d_{2} : r_{1873}, d_{3} : \\frac{r_{1873}}{x_{23}}, d_{4} : r_{1874}, d_{5} : \\frac{r_{1873}}{x_{23} x_{35}}, a_{12} : \\frac{r_{1873} x_{13}}{x_{23}}, a_{13} : r_{1875}, a_{14} : r_{1876}, a_{15} : r_{1877}, a_{23} : \\frac{r_{1875} x_{23} x_{35} - r_{1873} x_{15}}{x_{13} x_{35}}, a_{24} : r_{1878}, a_{25} : r_{1879}, a_{34} : -\\frac{r_{1874} x_{24}}{x_{23}}, a_{35} : r_{1880}, a_{45} : -\\frac{{\\left(r_{1880} x_{13} - r_{1875}\\right)} x_{23} x_{35} + r_{1873} x_{15}}{x_{13} x_{24} x_{35}}\\right\\}\\right]$$"
      ],
      "text/plain": [
       "[{d1: r1861,\n",
       "  d2: 0,\n",
       "  d3: 0,\n",
       "  d4: r1862,\n",
       "  d5: 0,\n",
       "  a12: r1863,\n",
       "  a13: r1864,\n",
       "  a14: r1865,\n",
       "  a15: r1866,\n",
       "  a23: r1867,\n",
       "  a24: r1868,\n",
       "  a25: r1869,\n",
       "  a34: -r1862*x24/x23,\n",
       "  a35: r1870,\n",
       "  a45: r1871},\n",
       " {d1: r1872,\n",
       "  d2: r1873,\n",
       "  d3: r1873/x23,\n",
       "  d4: r1874,\n",
       "  d5: r1873/(x23*x35),\n",
       "  a12: r1873*x13/x23,\n",
       "  a13: r1875,\n",
       "  a14: r1876,\n",
       "  a15: r1877,\n",
       "  a23: (r1875*x23*x35 - r1873*x15)/(x13*x35),\n",
       "  a24: r1878,\n",
       "  a25: r1879,\n",
       "  a34: -r1874*x24/x23,\n",
       "  a35: r1880,\n",
       "  a45: -((r1880*x13 - r1875)*x23*x35 + r1873*x15)/(x13*x24*x35)}]"
      ]
     },
     "metadata": {},
     "output_type": "display_data"
    },
    {
     "data": {
      "text/plain": [
       "\\left[\\left\\{d_{1} : r_{1861}, d_{2} : 0, d_{3} : 0, d_{4} : r_{1862}, d_{5} : 0, a_{12} : r_{1863}, a_{13} : r_{1864}, a_{14} : r_{1865}, a_{15} : r_{1866}, a_{23} : r_{1867}, a_{24} : r_{1868}, a_{25} : r_{1869}, a_{34} : -\\frac{r_{1862} x_{24}}{x_{23}}, a_{35} : r_{1870}, a_{45} : r_{1871}\\right\\}, \\left\\{d_{1} : r_{1872}, d_{2} : r_{1873}, d_{3} : \\frac{r_{1873}}{x_{23}}, d_{4} : r_{1874}, d_{5} : \\frac{r_{1873}}{x_{23} x_{35}}, a_{12} : \\frac{r_{1873} x_{13}}{x_{23}}, a_{13} : r_{1875}, a_{14} : r_{1876}, a_{15} : r_{1877}, a_{23} : \\frac{r_{1875} x_{23} x_{35} - r_{1873} x_{15}}{x_{13} x_{35}}, a_{24} : r_{1878}, a_{25} : r_{1879}, a_{34} : -\\frac{r_{1874} x_{24}}{x_{23}}, a_{35} : r_{1880}, a_{45} : -\\frac{{\\left(r_{1880} x_{13} - r_{1875}\\right)} x_{23} x_{35} + r_{1873} x_{15}}{x_{13} x_{24} x_{35}}\\right\\}\\right]"
      ]
     },
     "execution_count": 82,
     "metadata": {},
     "output_type": "execute_result"
    }
   ],
   "source": [
    "#x3\n",
    "#----------------------\n",
    "#x14 = x13*x24/x23\n",
    "#----------------------\n",
    "reset()\n",
    "\n",
    "var('x12,x13,x14,x15,x23,x24,x25,x34,x35,x45')\n",
    "var('d1,d2,d3,d4,d5')\n",
    "var('a12,a13,a14,a15,a23,a24,a25,a34,a35,a45')\n",
    "\n",
    "#110111\n",
    "eq1=(d2*d3*x13-a12*d3*x23)/(d1*d2) \n",
    "eq2=(a34*d2*x13+d2*d4*((x13*x24)/x23)-a12*a34*x23-a12*d4*x24)/(d1*d2) \n",
    "eq3=(a35*d2*d3*x13+a45*d2*d3*((x13*x24)/x23)+d2*d3*d5*x15-a12*a35*d3*x23-a12*a45*d3*x24-a12*d3*d5*0+a12*a23*d5*x35-a13*d2*d5*x35)/(d1*d2*d3) \n",
    "eq4=(d3*x23)/(d2) \n",
    "eq5=(a34*x23+d4*x24)/(d2) \n",
    "eq6=(a35*d3*x23+a45*d3*x24+d3*d5*0-a23*d5*x35)/(d2*d3) \n",
    "eq7=(d5*x35)/(d3) \n",
    "\n",
    "m=matrix(QQ, [[0, 0, 0, 0, 0],\n",
    "              [0, 0, 1, 0, 0],\n",
    "              [0, 0, 0, 0, 1],\n",
    "              [0, 0, 0, 0, 0],\n",
    "              [0, 0, 0, 0, 0]])\n",
    "        \n",
    "#entry of matrix: (i,j) line i collum j, means (i-1,j-1)\n",
    "sol=solve([ eq1==m[0,2],\teq2==m[0,3],\teq3==m[0,4],\teq4==m[1,2],\t\n",
    "                                            eq5==m[1,3],    eq6==m[1,4],\n",
    "                                                            eq7==m[2,4]],d1,d2,d3,d4,d5,a12,a13,a14,a15,a23,a24,a25,a34,a35,a45, solution_dict=True)\n",
    "\n",
    "show(m)\n",
    "show(sol)\n",
    "latex(sol)"
   ]
  },
  {
   "cell_type": "code",
   "execution_count": 83,
   "metadata": {},
   "outputs": [
    {
     "data": {
      "text/html": [
       "<html><script type=\"math/tex; mode=display\">\\newcommand{\\Bold}[1]{\\mathbf{#1}}\\left(\\begin{array}{rrrrr}\n",
       "0 & 0 & 0 & 0 & 0 \\\\\n",
       "0 & 0 & 1 & 0 & 0 \\\\\n",
       "0 & 0 & 0 & 0 & 1 \\\\\n",
       "0 & 0 & 0 & 0 & 0 \\\\\n",
       "0 & 0 & 0 & 0 & 0\n",
       "\\end{array}\\right)</script></html>"
      ],
      "text/latex": [
       "$$\\newcommand{\\Bold}[1]{\\mathbf{#1}}\\left(\\begin{array}{rrrrr}\n",
       "0 & 0 & 0 & 0 & 0 \\\\\n",
       "0 & 0 & 1 & 0 & 0 \\\\\n",
       "0 & 0 & 0 & 0 & 1 \\\\\n",
       "0 & 0 & 0 & 0 & 0 \\\\\n",
       "0 & 0 & 0 & 0 & 0\n",
       "\\end{array}\\right)$$"
      ],
      "text/plain": [
       "[0 0 0 0 0]\n",
       "[0 0 1 0 0]\n",
       "[0 0 0 0 1]\n",
       "[0 0 0 0 0]\n",
       "[0 0 0 0 0]"
      ]
     },
     "metadata": {},
     "output_type": "display_data"
    },
    {
     "data": {
      "text/html": [
       "<html><script type=\"math/tex; mode=display\">\\newcommand{\\Bold}[1]{\\mathbf{#1}}\\left[\\left\\{d_{1} : r_{1881}, d_{2} : 0, d_{3} : 0, d_{4} : r_{1882}, d_{5} : 0, a_{12} : r_{1883}, a_{13} : r_{1884}, a_{14} : r_{1885}, a_{15} : r_{1886}, a_{23} : r_{1887}, a_{24} : r_{1888}, a_{25} : r_{1889}, a_{34} : -\\frac{r_{1882} x_{24}}{x_{23}}, a_{35} : r_{1890}, a_{45} : r_{1891}\\right\\}, \\left\\{d_{1} : r_{1892}, d_{2} : r_{1893}, d_{3} : \\frac{r_{1893}}{x_{23}}, d_{4} : r_{1894}, d_{5} : \\frac{r_{1893}}{x_{23} x_{35}}, a_{12} : 0, a_{13} : 0, a_{14} : r_{1895}, a_{15} : r_{1896}, a_{23} : r_{1897}, a_{24} : r_{1898}, a_{25} : r_{1899}, a_{34} : -\\frac{r_{1894} x_{24}}{x_{23}}, a_{35} : r_{1900}, a_{45} : -\\frac{r_{1893} x_{25} + {\\left(r_{1900} x_{23}^{2} - r_{1897} x_{23}\\right)} x_{35}}{x_{23} x_{24} x_{35}}\\right\\}\\right]</script></html>"
      ],
      "text/latex": [
       "$$\\newcommand{\\Bold}[1]{\\mathbf{#1}}\\left[\\left\\{d_{1} : r_{1881}, d_{2} : 0, d_{3} : 0, d_{4} : r_{1882}, d_{5} : 0, a_{12} : r_{1883}, a_{13} : r_{1884}, a_{14} : r_{1885}, a_{15} : r_{1886}, a_{23} : r_{1887}, a_{24} : r_{1888}, a_{25} : r_{1889}, a_{34} : -\\frac{r_{1882} x_{24}}{x_{23}}, a_{35} : r_{1890}, a_{45} : r_{1891}\\right\\}, \\left\\{d_{1} : r_{1892}, d_{2} : r_{1893}, d_{3} : \\frac{r_{1893}}{x_{23}}, d_{4} : r_{1894}, d_{5} : \\frac{r_{1893}}{x_{23} x_{35}}, a_{12} : 0, a_{13} : 0, a_{14} : r_{1895}, a_{15} : r_{1896}, a_{23} : r_{1897}, a_{24} : r_{1898}, a_{25} : r_{1899}, a_{34} : -\\frac{r_{1894} x_{24}}{x_{23}}, a_{35} : r_{1900}, a_{45} : -\\frac{r_{1893} x_{25} + {\\left(r_{1900} x_{23}^{2} - r_{1897} x_{23}\\right)} x_{35}}{x_{23} x_{24} x_{35}}\\right\\}\\right]$$"
      ],
      "text/plain": [
       "[{d1: r1881,\n",
       "  d2: 0,\n",
       "  d3: 0,\n",
       "  d4: r1882,\n",
       "  d5: 0,\n",
       "  a12: r1883,\n",
       "  a13: r1884,\n",
       "  a14: r1885,\n",
       "  a15: r1886,\n",
       "  a23: r1887,\n",
       "  a24: r1888,\n",
       "  a25: r1889,\n",
       "  a34: -r1882*x24/x23,\n",
       "  a35: r1890,\n",
       "  a45: r1891},\n",
       " {d1: r1892,\n",
       "  d2: r1893,\n",
       "  d3: r1893/x23,\n",
       "  d4: r1894,\n",
       "  d5: r1893/(x23*x35),\n",
       "  a12: 0,\n",
       "  a13: 0,\n",
       "  a14: r1895,\n",
       "  a15: r1896,\n",
       "  a23: r1897,\n",
       "  a24: r1898,\n",
       "  a25: r1899,\n",
       "  a34: -r1894*x24/x23,\n",
       "  a35: r1900,\n",
       "  a45: -(r1893*x25 + (r1900*x23^2 - r1897*x23)*x35)/(x23*x24*x35)}]"
      ]
     },
     "metadata": {},
     "output_type": "display_data"
    },
    {
     "data": {
      "text/plain": [
       "\\left[\\left\\{d_{1} : r_{1881}, d_{2} : 0, d_{3} : 0, d_{4} : r_{1882}, d_{5} : 0, a_{12} : r_{1883}, a_{13} : r_{1884}, a_{14} : r_{1885}, a_{15} : r_{1886}, a_{23} : r_{1887}, a_{24} : r_{1888}, a_{25} : r_{1889}, a_{34} : -\\frac{r_{1882} x_{24}}{x_{23}}, a_{35} : r_{1890}, a_{45} : r_{1891}\\right\\}, \\left\\{d_{1} : r_{1892}, d_{2} : r_{1893}, d_{3} : \\frac{r_{1893}}{x_{23}}, d_{4} : r_{1894}, d_{5} : \\frac{r_{1893}}{x_{23} x_{35}}, a_{12} : 0, a_{13} : 0, a_{14} : r_{1895}, a_{15} : r_{1896}, a_{23} : r_{1897}, a_{24} : r_{1898}, a_{25} : r_{1899}, a_{34} : -\\frac{r_{1894} x_{24}}{x_{23}}, a_{35} : r_{1900}, a_{45} : -\\frac{r_{1893} x_{25} + {\\left(r_{1900} x_{23}^{2} - r_{1897} x_{23}\\right)} x_{35}}{x_{23} x_{24} x_{35}}\\right\\}\\right]"
      ]
     },
     "execution_count": 83,
     "metadata": {},
     "output_type": "execute_result"
    }
   ],
   "source": [
    "#x3\n",
    "reset()\n",
    "\n",
    "var('x12,x13,x14,x15,x23,x24,x25,x34,x35,x45')\n",
    "var('d1,d2,d3,d4,d5')\n",
    "var('a12,a13,a14,a15,a23,a24,a25,a34,a35,a45')\n",
    "\n",
    "load_attach_path('C:\\\\Users\\\\julia\\\\Documents\\\\unb\\\\doutorado\\\\pensar\\\\codigo_sage_v2\\\\maquina\\\\x3')\n",
    "load('out_#111000.sage')\n",
    "\n",
    "m=matrix(QQ, [[0, 0, 0, 0, 0],\n",
    "              [0, 0, 1, 0, 0],\n",
    "              [0, 0, 0, 0, 1],\n",
    "              [0, 0, 0, 0, 0],\n",
    "              [0, 0, 0, 0, 0]])\n",
    "        \n",
    "#entry of matrix: (i,j) line i collum j, means (i-1,j-1)\n",
    "sol=solve([ eq1==m[0,2],\teq2==m[0,3],\teq3==m[0,4],\teq4==m[1,2],\t\n",
    "                                            eq5==m[1,3],    eq6==m[1,4],\n",
    "                                                            eq7==m[2,4]],d1,d2,d3,d4,d5,a12,a13,a14,a15,a23,a24,a25,a34,a35,a45, solution_dict=True)\n",
    "\n",
    "show(m)\n",
    "show(sol)\n",
    "latex(sol)"
   ]
  },
  {
   "cell_type": "code",
   "execution_count": 84,
   "metadata": {},
   "outputs": [
    {
     "data": {
      "text/html": [
       "<html><script type=\"math/tex; mode=display\">\\newcommand{\\Bold}[1]{\\mathbf{#1}}\\left(\\begin{array}{rrrrr}\n",
       "0 & 0 & 0 & 0 & 0 \\\\\n",
       "0 & 0 & 1 & 0 & 0 \\\\\n",
       "0 & 0 & 0 & 0 & 1 \\\\\n",
       "0 & 0 & 0 & 0 & 0 \\\\\n",
       "0 & 0 & 0 & 0 & 0\n",
       "\\end{array}\\right)</script></html>"
      ],
      "text/latex": [
       "$$\\newcommand{\\Bold}[1]{\\mathbf{#1}}\\left(\\begin{array}{rrrrr}\n",
       "0 & 0 & 0 & 0 & 0 \\\\\n",
       "0 & 0 & 1 & 0 & 0 \\\\\n",
       "0 & 0 & 0 & 0 & 1 \\\\\n",
       "0 & 0 & 0 & 0 & 0 \\\\\n",
       "0 & 0 & 0 & 0 & 0\n",
       "\\end{array}\\right)$$"
      ],
      "text/plain": [
       "[0 0 0 0 0]\n",
       "[0 0 1 0 0]\n",
       "[0 0 0 0 1]\n",
       "[0 0 0 0 0]\n",
       "[0 0 0 0 0]"
      ]
     },
     "metadata": {},
     "output_type": "display_data"
    },
    {
     "data": {
      "text/html": [
       "<html><script type=\"math/tex; mode=display\">\\newcommand{\\Bold}[1]{\\mathbf{#1}}\\left[\\left\\{d_{1} : r_{1901}, d_{2} : 0, d_{3} : 0, d_{4} : r_{1902}, d_{5} : 0, a_{12} : r_{1903}, a_{13} : r_{1904}, a_{14} : r_{1905}, a_{15} : r_{1906}, a_{23} : r_{1907}, a_{24} : r_{1908}, a_{25} : r_{1909}, a_{34} : -\\frac{r_{1902} x_{24}}{x_{23}}, a_{35} : r_{1910}, a_{45} : r_{1911}\\right\\}, \\left\\{d_{1} : r_{1912}, d_{2} : r_{1913}, d_{3} : \\frac{r_{1913}}{x_{23}}, d_{4} : r_{1914}, d_{5} : \\frac{r_{1913}}{x_{23} x_{35}}, a_{12} : 0, a_{13} : \\frac{r_{1913} x_{15}}{x_{23} x_{35}}, a_{14} : r_{1915}, a_{15} : r_{1916}, a_{23} : r_{1917}, a_{24} : r_{1918}, a_{25} : r_{1919}, a_{34} : -\\frac{r_{1914} x_{24}}{x_{23}}, a_{35} : r_{1920}, a_{45} : -\\frac{r_{1913} x_{25} + {\\left(r_{1920} x_{23}^{2} - r_{1917} x_{23}\\right)} x_{35}}{x_{23} x_{24} x_{35}}\\right\\}\\right]</script></html>"
      ],
      "text/latex": [
       "$$\\newcommand{\\Bold}[1]{\\mathbf{#1}}\\left[\\left\\{d_{1} : r_{1901}, d_{2} : 0, d_{3} : 0, d_{4} : r_{1902}, d_{5} : 0, a_{12} : r_{1903}, a_{13} : r_{1904}, a_{14} : r_{1905}, a_{15} : r_{1906}, a_{23} : r_{1907}, a_{24} : r_{1908}, a_{25} : r_{1909}, a_{34} : -\\frac{r_{1902} x_{24}}{x_{23}}, a_{35} : r_{1910}, a_{45} : r_{1911}\\right\\}, \\left\\{d_{1} : r_{1912}, d_{2} : r_{1913}, d_{3} : \\frac{r_{1913}}{x_{23}}, d_{4} : r_{1914}, d_{5} : \\frac{r_{1913}}{x_{23} x_{35}}, a_{12} : 0, a_{13} : \\frac{r_{1913} x_{15}}{x_{23} x_{35}}, a_{14} : r_{1915}, a_{15} : r_{1916}, a_{23} : r_{1917}, a_{24} : r_{1918}, a_{25} : r_{1919}, a_{34} : -\\frac{r_{1914} x_{24}}{x_{23}}, a_{35} : r_{1920}, a_{45} : -\\frac{r_{1913} x_{25} + {\\left(r_{1920} x_{23}^{2} - r_{1917} x_{23}\\right)} x_{35}}{x_{23} x_{24} x_{35}}\\right\\}\\right]$$"
      ],
      "text/plain": [
       "[{d1: r1901,\n",
       "  d2: 0,\n",
       "  d3: 0,\n",
       "  d4: r1902,\n",
       "  d5: 0,\n",
       "  a12: r1903,\n",
       "  a13: r1904,\n",
       "  a14: r1905,\n",
       "  a15: r1906,\n",
       "  a23: r1907,\n",
       "  a24: r1908,\n",
       "  a25: r1909,\n",
       "  a34: -r1902*x24/x23,\n",
       "  a35: r1910,\n",
       "  a45: r1911},\n",
       " {d1: r1912,\n",
       "  d2: r1913,\n",
       "  d3: r1913/x23,\n",
       "  d4: r1914,\n",
       "  d5: r1913/(x23*x35),\n",
       "  a12: 0,\n",
       "  a13: r1913*x15/(x23*x35),\n",
       "  a14: r1915,\n",
       "  a15: r1916,\n",
       "  a23: r1917,\n",
       "  a24: r1918,\n",
       "  a25: r1919,\n",
       "  a34: -r1914*x24/x23,\n",
       "  a35: r1920,\n",
       "  a45: -(r1913*x25 + (r1920*x23^2 - r1917*x23)*x35)/(x23*x24*x35)}]"
      ]
     },
     "metadata": {},
     "output_type": "display_data"
    },
    {
     "data": {
      "text/plain": [
       "\\left[\\left\\{d_{1} : r_{1901}, d_{2} : 0, d_{3} : 0, d_{4} : r_{1902}, d_{5} : 0, a_{12} : r_{1903}, a_{13} : r_{1904}, a_{14} : r_{1905}, a_{15} : r_{1906}, a_{23} : r_{1907}, a_{24} : r_{1908}, a_{25} : r_{1909}, a_{34} : -\\frac{r_{1902} x_{24}}{x_{23}}, a_{35} : r_{1910}, a_{45} : r_{1911}\\right\\}, \\left\\{d_{1} : r_{1912}, d_{2} : r_{1913}, d_{3} : \\frac{r_{1913}}{x_{23}}, d_{4} : r_{1914}, d_{5} : \\frac{r_{1913}}{x_{23} x_{35}}, a_{12} : 0, a_{13} : \\frac{r_{1913} x_{15}}{x_{23} x_{35}}, a_{14} : r_{1915}, a_{15} : r_{1916}, a_{23} : r_{1917}, a_{24} : r_{1918}, a_{25} : r_{1919}, a_{34} : -\\frac{r_{1914} x_{24}}{x_{23}}, a_{35} : r_{1920}, a_{45} : -\\frac{r_{1913} x_{25} + {\\left(r_{1920} x_{23}^{2} - r_{1917} x_{23}\\right)} x_{35}}{x_{23} x_{24} x_{35}}\\right\\}\\right]"
      ]
     },
     "execution_count": 84,
     "metadata": {},
     "output_type": "execute_result"
    }
   ],
   "source": [
    "#x3\n",
    "reset()\n",
    "\n",
    "var('x12,x13,x14,x15,x23,x24,x25,x34,x35,x45')\n",
    "var('d1,d2,d3,d4,d5')\n",
    "var('a12,a13,a14,a15,a23,a24,a25,a34,a35,a45')\n",
    "\n",
    "load_attach_path('C:\\\\Users\\\\julia\\\\Documents\\\\unb\\\\doutorado\\\\pensar\\\\codigo_sage_v2\\\\maquina\\\\x3')\n",
    "load('out_#111001.sage')\n",
    "\n",
    "m=matrix(QQ, [[0, 0, 0, 0, 0],\n",
    "              [0, 0, 1, 0, 0],\n",
    "              [0, 0, 0, 0, 1],\n",
    "              [0, 0, 0, 0, 0],\n",
    "              [0, 0, 0, 0, 0]])\n",
    "        \n",
    "#entry of matrix: (i,j) line i collum j, means (i-1,j-1)\n",
    "sol=solve([ eq1==m[0,2],\teq2==m[0,3],\teq3==m[0,4],\teq4==m[1,2],\t\n",
    "                                            eq5==m[1,3],    eq6==m[1,4],\n",
    "                                                            eq7==m[2,4]],d1,d2,d3,d4,d5,a12,a13,a14,a15,a23,a24,a25,a34,a35,a45, solution_dict=True)\n",
    "\n",
    "show(m)\n",
    "show(sol)\n",
    "latex(sol)"
   ]
  },
  {
   "cell_type": "code",
   "execution_count": 85,
   "metadata": {},
   "outputs": [
    {
     "data": {
      "text/html": [
       "<html><script type=\"math/tex; mode=display\">\\newcommand{\\Bold}[1]{\\mathbf{#1}}\\left(\\begin{array}{rrrrr}\n",
       "0 & 0 & 0 & 1 & 0 \\\\\n",
       "0 & 0 & 1 & 0 & 0 \\\\\n",
       "0 & 0 & 0 & 0 & 1 \\\\\n",
       "0 & 0 & 0 & 0 & 0 \\\\\n",
       "0 & 0 & 0 & 0 & 0\n",
       "\\end{array}\\right)</script></html>"
      ],
      "text/latex": [
       "$$\\newcommand{\\Bold}[1]{\\mathbf{#1}}\\left(\\begin{array}{rrrrr}\n",
       "0 & 0 & 0 & 1 & 0 \\\\\n",
       "0 & 0 & 1 & 0 & 0 \\\\\n",
       "0 & 0 & 0 & 0 & 1 \\\\\n",
       "0 & 0 & 0 & 0 & 0 \\\\\n",
       "0 & 0 & 0 & 0 & 0\n",
       "\\end{array}\\right)$$"
      ],
      "text/plain": [
       "[0 0 0 1 0]\n",
       "[0 0 1 0 0]\n",
       "[0 0 0 0 1]\n",
       "[0 0 0 0 0]\n",
       "[0 0 0 0 0]"
      ]
     },
     "metadata": {},
     "output_type": "display_data"
    },
    {
     "data": {
      "text/html": [
       "<html><script type=\"math/tex; mode=display\">\\newcommand{\\Bold}[1]{\\mathbf{#1}}\\left[\\left\\{d_{1} : r_{1921}, d_{2} : 0, d_{3} : 0, d_{4} : r_{1922}, d_{5} : 0, a_{12} : r_{1923}, a_{13} : r_{1924}, a_{14} : r_{1925}, a_{15} : r_{1926}, a_{23} : r_{1927}, a_{24} : r_{1928}, a_{25} : r_{1929}, a_{34} : -\\frac{r_{1922} x_{24}}{x_{23}}, a_{35} : r_{1930}, a_{45} : r_{1931}\\right\\}, \\left\\{d_{1} : r_{1932}, d_{2} : 0, d_{3} : 0, d_{4} : \\frac{r_{1932}}{x_{14}}, d_{5} : 0, a_{12} : 0, a_{13} : r_{1933}, a_{14} : r_{1934}, a_{15} : r_{1935}, a_{23} : r_{1936}, a_{24} : r_{1937}, a_{25} : r_{1938}, a_{34} : -\\frac{r_{1932} x_{24}}{x_{14} x_{23}}, a_{35} : r_{1939}, a_{45} : r_{1940}\\right\\}, \\left\\{d_{1} : r_{1941}, d_{2} : r_{1942}, d_{3} : \\frac{r_{1942}}{x_{23}}, d_{4} : \\frac{r_{1941}}{x_{14}}, d_{5} : \\frac{r_{1942}}{x_{23} x_{35}}, a_{12} : 0, a_{13} : r_{1943}, a_{14} : r_{1944}, a_{15} : r_{1945}, a_{23} : r_{1946}, a_{24} : r_{1947}, a_{25} : r_{1948}, a_{34} : -\\frac{r_{1941} x_{24}}{x_{14} x_{23}}, a_{35} : -\\frac{r_{1942} x_{14} x_{25} - {\\left(r_{1946} x_{14} x_{23} - r_{1943} x_{23} x_{24}\\right)} x_{35}}{x_{14} x_{23}^{2} x_{35}}, a_{45} : \\frac{r_{1943}}{x_{14}}\\right\\}\\right]</script></html>"
      ],
      "text/latex": [
       "$$\\newcommand{\\Bold}[1]{\\mathbf{#1}}\\left[\\left\\{d_{1} : r_{1921}, d_{2} : 0, d_{3} : 0, d_{4} : r_{1922}, d_{5} : 0, a_{12} : r_{1923}, a_{13} : r_{1924}, a_{14} : r_{1925}, a_{15} : r_{1926}, a_{23} : r_{1927}, a_{24} : r_{1928}, a_{25} : r_{1929}, a_{34} : -\\frac{r_{1922} x_{24}}{x_{23}}, a_{35} : r_{1930}, a_{45} : r_{1931}\\right\\}, \\left\\{d_{1} : r_{1932}, d_{2} : 0, d_{3} : 0, d_{4} : \\frac{r_{1932}}{x_{14}}, d_{5} : 0, a_{12} : 0, a_{13} : r_{1933}, a_{14} : r_{1934}, a_{15} : r_{1935}, a_{23} : r_{1936}, a_{24} : r_{1937}, a_{25} : r_{1938}, a_{34} : -\\frac{r_{1932} x_{24}}{x_{14} x_{23}}, a_{35} : r_{1939}, a_{45} : r_{1940}\\right\\}, \\left\\{d_{1} : r_{1941}, d_{2} : r_{1942}, d_{3} : \\frac{r_{1942}}{x_{23}}, d_{4} : \\frac{r_{1941}}{x_{14}}, d_{5} : \\frac{r_{1942}}{x_{23} x_{35}}, a_{12} : 0, a_{13} : r_{1943}, a_{14} : r_{1944}, a_{15} : r_{1945}, a_{23} : r_{1946}, a_{24} : r_{1947}, a_{25} : r_{1948}, a_{34} : -\\frac{r_{1941} x_{24}}{x_{14} x_{23}}, a_{35} : -\\frac{r_{1942} x_{14} x_{25} - {\\left(r_{1946} x_{14} x_{23} - r_{1943} x_{23} x_{24}\\right)} x_{35}}{x_{14} x_{23}^{2} x_{35}}, a_{45} : \\frac{r_{1943}}{x_{14}}\\right\\}\\right]$$"
      ],
      "text/plain": [
       "[{d1: r1921,\n",
       "  d2: 0,\n",
       "  d3: 0,\n",
       "  d4: r1922,\n",
       "  d5: 0,\n",
       "  a12: r1923,\n",
       "  a13: r1924,\n",
       "  a14: r1925,\n",
       "  a15: r1926,\n",
       "  a23: r1927,\n",
       "  a24: r1928,\n",
       "  a25: r1929,\n",
       "  a34: -r1922*x24/x23,\n",
       "  a35: r1930,\n",
       "  a45: r1931},\n",
       " {d1: r1932,\n",
       "  d2: 0,\n",
       "  d3: 0,\n",
       "  d4: r1932/x14,\n",
       "  d5: 0,\n",
       "  a12: 0,\n",
       "  a13: r1933,\n",
       "  a14: r1934,\n",
       "  a15: r1935,\n",
       "  a23: r1936,\n",
       "  a24: r1937,\n",
       "  a25: r1938,\n",
       "  a34: -r1932*x24/(x14*x23),\n",
       "  a35: r1939,\n",
       "  a45: r1940},\n",
       " {d1: r1941,\n",
       "  d2: r1942,\n",
       "  d3: r1942/x23,\n",
       "  d4: r1941/x14,\n",
       "  d5: r1942/(x23*x35),\n",
       "  a12: 0,\n",
       "  a13: r1943,\n",
       "  a14: r1944,\n",
       "  a15: r1945,\n",
       "  a23: r1946,\n",
       "  a24: r1947,\n",
       "  a25: r1948,\n",
       "  a34: -r1941*x24/(x14*x23),\n",
       "  a35: -(r1942*x14*x25 - (r1946*x14*x23 - r1943*x23*x24)*x35)/(x14*x23^2*x35),\n",
       "  a45: r1943/x14}]"
      ]
     },
     "metadata": {},
     "output_type": "display_data"
    },
    {
     "data": {
      "text/plain": [
       "\\left[\\left\\{d_{1} : r_{1921}, d_{2} : 0, d_{3} : 0, d_{4} : r_{1922}, d_{5} : 0, a_{12} : r_{1923}, a_{13} : r_{1924}, a_{14} : r_{1925}, a_{15} : r_{1926}, a_{23} : r_{1927}, a_{24} : r_{1928}, a_{25} : r_{1929}, a_{34} : -\\frac{r_{1922} x_{24}}{x_{23}}, a_{35} : r_{1930}, a_{45} : r_{1931}\\right\\}, \\left\\{d_{1} : r_{1932}, d_{2} : 0, d_{3} : 0, d_{4} : \\frac{r_{1932}}{x_{14}}, d_{5} : 0, a_{12} : 0, a_{13} : r_{1933}, a_{14} : r_{1934}, a_{15} : r_{1935}, a_{23} : r_{1936}, a_{24} : r_{1937}, a_{25} : r_{1938}, a_{34} : -\\frac{r_{1932} x_{24}}{x_{14} x_{23}}, a_{35} : r_{1939}, a_{45} : r_{1940}\\right\\}, \\left\\{d_{1} : r_{1941}, d_{2} : r_{1942}, d_{3} : \\frac{r_{1942}}{x_{23}}, d_{4} : \\frac{r_{1941}}{x_{14}}, d_{5} : \\frac{r_{1942}}{x_{23} x_{35}}, a_{12} : 0, a_{13} : r_{1943}, a_{14} : r_{1944}, a_{15} : r_{1945}, a_{23} : r_{1946}, a_{24} : r_{1947}, a_{25} : r_{1948}, a_{34} : -\\frac{r_{1941} x_{24}}{x_{14} x_{23}}, a_{35} : -\\frac{r_{1942} x_{14} x_{25} - {\\left(r_{1946} x_{14} x_{23} - r_{1943} x_{23} x_{24}\\right)} x_{35}}{x_{14} x_{23}^{2} x_{35}}, a_{45} : \\frac{r_{1943}}{x_{14}}\\right\\}\\right]"
      ]
     },
     "execution_count": 85,
     "metadata": {},
     "output_type": "execute_result"
    }
   ],
   "source": [
    "#x3\n",
    "reset()\n",
    "\n",
    "var('x12,x13,x14,x15,x23,x24,x25,x34,x35,x45')\n",
    "var('d1,d2,d3,d4,d5')\n",
    "var('a12,a13,a14,a15,a23,a24,a25,a34,a35,a45')\n",
    "\n",
    "load_attach_path('C:\\\\Users\\\\julia\\\\Documents\\\\unb\\\\doutorado\\\\pensar\\\\codigo_sage_v2\\\\maquina\\\\x3')\n",
    "load('out_#111010.sage')\n",
    "\n",
    "m=matrix(QQ, [[0, 0, 0, 1, 0],\n",
    "              [0, 0, 1, 0, 0],\n",
    "              [0, 0, 0, 0, 1],\n",
    "              [0, 0, 0, 0, 0],\n",
    "              [0, 0, 0, 0, 0]])\n",
    "        \n",
    "#entry of matrix: (i,j) line i collum j, means (i-1,j-1)\n",
    "sol=solve([ eq1==m[0,2],\teq2==m[0,3],\teq3==m[0,4],\teq4==m[1,2],\t\n",
    "                                            eq5==m[1,3],    eq6==m[1,4],\n",
    "                                                            eq7==m[2,4]],d1,d2,d3,d4,d5,a12,a13,a14,a15,a23,a24,a25,a34,a35,a45, solution_dict=True)\n",
    "\n",
    "show(m)\n",
    "show(sol)\n",
    "latex(sol)"
   ]
  },
  {
   "cell_type": "code",
   "execution_count": 86,
   "metadata": {},
   "outputs": [
    {
     "data": {
      "text/html": [
       "<html><script type=\"math/tex; mode=display\">\\newcommand{\\Bold}[1]{\\mathbf{#1}}\\left(\\begin{array}{rrrrr}\n",
       "0 & 0 & 0 & 1 & 0 \\\\\n",
       "0 & 0 & 1 & 0 & 0 \\\\\n",
       "0 & 0 & 0 & 0 & 1 \\\\\n",
       "0 & 0 & 0 & 0 & 0 \\\\\n",
       "0 & 0 & 0 & 0 & 0\n",
       "\\end{array}\\right)</script></html>"
      ],
      "text/latex": [
       "$$\\newcommand{\\Bold}[1]{\\mathbf{#1}}\\left(\\begin{array}{rrrrr}\n",
       "0 & 0 & 0 & 1 & 0 \\\\\n",
       "0 & 0 & 1 & 0 & 0 \\\\\n",
       "0 & 0 & 0 & 0 & 1 \\\\\n",
       "0 & 0 & 0 & 0 & 0 \\\\\n",
       "0 & 0 & 0 & 0 & 0\n",
       "\\end{array}\\right)$$"
      ],
      "text/plain": [
       "[0 0 0 1 0]\n",
       "[0 0 1 0 0]\n",
       "[0 0 0 0 1]\n",
       "[0 0 0 0 0]\n",
       "[0 0 0 0 0]"
      ]
     },
     "metadata": {},
     "output_type": "display_data"
    },
    {
     "data": {
      "text/html": [
       "<html><script type=\"math/tex; mode=display\">\\newcommand{\\Bold}[1]{\\mathbf{#1}}\\left[\\left\\{d_{1} : r_{1949}, d_{2} : 0, d_{3} : 0, d_{4} : r_{1950}, d_{5} : 0, a_{12} : r_{1951}, a_{13} : r_{1952}, a_{14} : r_{1953}, a_{15} : r_{1954}, a_{23} : r_{1955}, a_{24} : r_{1956}, a_{25} : r_{1957}, a_{34} : -\\frac{r_{1950} x_{24}}{x_{23}}, a_{35} : r_{1958}, a_{45} : r_{1959}\\right\\}, \\left\\{d_{1} : r_{1960}, d_{2} : 0, d_{3} : 0, d_{4} : \\frac{r_{1960}}{x_{14}}, d_{5} : 0, a_{12} : 0, a_{13} : r_{1961}, a_{14} : r_{1962}, a_{15} : r_{1963}, a_{23} : r_{1964}, a_{24} : r_{1965}, a_{25} : r_{1966}, a_{34} : -\\frac{r_{1960} x_{24}}{x_{14} x_{23}}, a_{35} : r_{1967}, a_{45} : r_{1968}\\right\\}, \\left\\{d_{1} : r_{1969}, d_{2} : r_{1970}, d_{3} : \\frac{r_{1970}}{x_{23}}, d_{4} : \\frac{r_{1969}}{x_{14}}, d_{5} : \\frac{r_{1970}}{x_{23} x_{35}}, a_{12} : 0, a_{13} : r_{1971}, a_{14} : r_{1972}, a_{15} : r_{1973}, a_{23} : r_{1974}, a_{24} : r_{1975}, a_{25} : r_{1976}, a_{34} : -\\frac{r_{1969} x_{24}}{x_{14} x_{23}}, a_{35} : \\frac{r_{1970} x_{15} x_{24} - r_{1970} x_{14} x_{25} + {\\left(r_{1974} x_{14} x_{23} - r_{1971} x_{23} x_{24}\\right)} x_{35}}{x_{14} x_{23}^{2} x_{35}}, a_{45} : \\frac{r_{1971} x_{23} x_{35} - r_{1970} x_{15}}{x_{14} x_{23} x_{35}}\\right\\}\\right]</script></html>"
      ],
      "text/latex": [
       "$$\\newcommand{\\Bold}[1]{\\mathbf{#1}}\\left[\\left\\{d_{1} : r_{1949}, d_{2} : 0, d_{3} : 0, d_{4} : r_{1950}, d_{5} : 0, a_{12} : r_{1951}, a_{13} : r_{1952}, a_{14} : r_{1953}, a_{15} : r_{1954}, a_{23} : r_{1955}, a_{24} : r_{1956}, a_{25} : r_{1957}, a_{34} : -\\frac{r_{1950} x_{24}}{x_{23}}, a_{35} : r_{1958}, a_{45} : r_{1959}\\right\\}, \\left\\{d_{1} : r_{1960}, d_{2} : 0, d_{3} : 0, d_{4} : \\frac{r_{1960}}{x_{14}}, d_{5} : 0, a_{12} : 0, a_{13} : r_{1961}, a_{14} : r_{1962}, a_{15} : r_{1963}, a_{23} : r_{1964}, a_{24} : r_{1965}, a_{25} : r_{1966}, a_{34} : -\\frac{r_{1960} x_{24}}{x_{14} x_{23}}, a_{35} : r_{1967}, a_{45} : r_{1968}\\right\\}, \\left\\{d_{1} : r_{1969}, d_{2} : r_{1970}, d_{3} : \\frac{r_{1970}}{x_{23}}, d_{4} : \\frac{r_{1969}}{x_{14}}, d_{5} : \\frac{r_{1970}}{x_{23} x_{35}}, a_{12} : 0, a_{13} : r_{1971}, a_{14} : r_{1972}, a_{15} : r_{1973}, a_{23} : r_{1974}, a_{24} : r_{1975}, a_{25} : r_{1976}, a_{34} : -\\frac{r_{1969} x_{24}}{x_{14} x_{23}}, a_{35} : \\frac{r_{1970} x_{15} x_{24} - r_{1970} x_{14} x_{25} + {\\left(r_{1974} x_{14} x_{23} - r_{1971} x_{23} x_{24}\\right)} x_{35}}{x_{14} x_{23}^{2} x_{35}}, a_{45} : \\frac{r_{1971} x_{23} x_{35} - r_{1970} x_{15}}{x_{14} x_{23} x_{35}}\\right\\}\\right]$$"
      ],
      "text/plain": [
       "[{d1: r1949,\n",
       "  d2: 0,\n",
       "  d3: 0,\n",
       "  d4: r1950,\n",
       "  d5: 0,\n",
       "  a12: r1951,\n",
       "  a13: r1952,\n",
       "  a14: r1953,\n",
       "  a15: r1954,\n",
       "  a23: r1955,\n",
       "  a24: r1956,\n",
       "  a25: r1957,\n",
       "  a34: -r1950*x24/x23,\n",
       "  a35: r1958,\n",
       "  a45: r1959},\n",
       " {d1: r1960,\n",
       "  d2: 0,\n",
       "  d3: 0,\n",
       "  d4: r1960/x14,\n",
       "  d5: 0,\n",
       "  a12: 0,\n",
       "  a13: r1961,\n",
       "  a14: r1962,\n",
       "  a15: r1963,\n",
       "  a23: r1964,\n",
       "  a24: r1965,\n",
       "  a25: r1966,\n",
       "  a34: -r1960*x24/(x14*x23),\n",
       "  a35: r1967,\n",
       "  a45: r1968},\n",
       " {d1: r1969,\n",
       "  d2: r1970,\n",
       "  d3: r1970/x23,\n",
       "  d4: r1969/x14,\n",
       "  d5: r1970/(x23*x35),\n",
       "  a12: 0,\n",
       "  a13: r1971,\n",
       "  a14: r1972,\n",
       "  a15: r1973,\n",
       "  a23: r1974,\n",
       "  a24: r1975,\n",
       "  a25: r1976,\n",
       "  a34: -r1969*x24/(x14*x23),\n",
       "  a35: (r1970*x15*x24 - r1970*x14*x25 + (r1974*x14*x23 - r1971*x23*x24)*x35)/(x14*x23^2*x35),\n",
       "  a45: (r1971*x23*x35 - r1970*x15)/(x14*x23*x35)}]"
      ]
     },
     "metadata": {},
     "output_type": "display_data"
    },
    {
     "data": {
      "text/plain": [
       "\\left[\\left\\{d_{1} : r_{1949}, d_{2} : 0, d_{3} : 0, d_{4} : r_{1950}, d_{5} : 0, a_{12} : r_{1951}, a_{13} : r_{1952}, a_{14} : r_{1953}, a_{15} : r_{1954}, a_{23} : r_{1955}, a_{24} : r_{1956}, a_{25} : r_{1957}, a_{34} : -\\frac{r_{1950} x_{24}}{x_{23}}, a_{35} : r_{1958}, a_{45} : r_{1959}\\right\\}, \\left\\{d_{1} : r_{1960}, d_{2} : 0, d_{3} : 0, d_{4} : \\frac{r_{1960}}{x_{14}}, d_{5} : 0, a_{12} : 0, a_{13} : r_{1961}, a_{14} : r_{1962}, a_{15} : r_{1963}, a_{23} : r_{1964}, a_{24} : r_{1965}, a_{25} : r_{1966}, a_{34} : -\\frac{r_{1960} x_{24}}{x_{14} x_{23}}, a_{35} : r_{1967}, a_{45} : r_{1968}\\right\\}, \\left\\{d_{1} : r_{1969}, d_{2} : r_{1970}, d_{3} : \\frac{r_{1970}}{x_{23}}, d_{4} : \\frac{r_{1969}}{x_{14}}, d_{5} : \\frac{r_{1970}}{x_{23} x_{35}}, a_{12} : 0, a_{13} : r_{1971}, a_{14} : r_{1972}, a_{15} : r_{1973}, a_{23} : r_{1974}, a_{24} : r_{1975}, a_{25} : r_{1976}, a_{34} : -\\frac{r_{1969} x_{24}}{x_{14} x_{23}}, a_{35} : \\frac{r_{1970} x_{15} x_{24} - r_{1970} x_{14} x_{25} + {\\left(r_{1974} x_{14} x_{23} - r_{1971} x_{23} x_{24}\\right)} x_{35}}{x_{14} x_{23}^{2} x_{35}}, a_{45} : \\frac{r_{1971} x_{23} x_{35} - r_{1970} x_{15}}{x_{14} x_{23} x_{35}}\\right\\}\\right]"
      ]
     },
     "execution_count": 86,
     "metadata": {},
     "output_type": "execute_result"
    }
   ],
   "source": [
    "#x3\n",
    "reset()\n",
    "\n",
    "var('x12,x13,x14,x15,x23,x24,x25,x34,x35,x45')\n",
    "var('d1,d2,d3,d4,d5')\n",
    "var('a12,a13,a14,a15,a23,a24,a25,a34,a35,a45')\n",
    "\n",
    "load_attach_path('C:\\\\Users\\\\julia\\\\Documents\\\\unb\\\\doutorado\\\\pensar\\\\codigo_sage_v2\\\\maquina\\\\x3')\n",
    "load('out_#111011.sage')\n",
    "\n",
    "m=matrix(QQ, [[0, 0, 0, 1, 0],\n",
    "              [0, 0, 1, 0, 0],\n",
    "              [0, 0, 0, 0, 1],\n",
    "              [0, 0, 0, 0, 0],\n",
    "              [0, 0, 0, 0, 0]])\n",
    "        \n",
    "#entry of matrix: (i,j) line i collum j, means (i-1,j-1)\n",
    "sol=solve([ eq1==m[0,2],\teq2==m[0,3],\teq3==m[0,4],\teq4==m[1,2],\t\n",
    "                                            eq5==m[1,3],    eq6==m[1,4],\n",
    "                                                            eq7==m[2,4]],d1,d2,d3,d4,d5,a12,a13,a14,a15,a23,a24,a25,a34,a35,a45, solution_dict=True)\n",
    "\n",
    "show(m)\n",
    "show(sol)\n",
    "latex(sol)"
   ]
  },
  {
   "cell_type": "code",
   "execution_count": 88,
   "metadata": {},
   "outputs": [
    {
     "data": {
      "text/html": [
       "<html><script type=\"math/tex; mode=display\">\\newcommand{\\Bold}[1]{\\mathbf{#1}}\\left(\\begin{array}{rrrrr}\n",
       "0 & 0 & 0 & 1 & 0 \\\\\n",
       "0 & 0 & 1 & 0 & 0 \\\\\n",
       "0 & 0 & 0 & 0 & 1 \\\\\n",
       "0 & 0 & 0 & 0 & 0 \\\\\n",
       "0 & 0 & 0 & 0 & 0\n",
       "\\end{array}\\right)</script></html>"
      ],
      "text/latex": [
       "$$\\newcommand{\\Bold}[1]{\\mathbf{#1}}\\left(\\begin{array}{rrrrr}\n",
       "0 & 0 & 0 & 1 & 0 \\\\\n",
       "0 & 0 & 1 & 0 & 0 \\\\\n",
       "0 & 0 & 0 & 0 & 1 \\\\\n",
       "0 & 0 & 0 & 0 & 0 \\\\\n",
       "0 & 0 & 0 & 0 & 0\n",
       "\\end{array}\\right)$$"
      ],
      "text/plain": [
       "[0 0 0 1 0]\n",
       "[0 0 1 0 0]\n",
       "[0 0 0 0 1]\n",
       "[0 0 0 0 0]\n",
       "[0 0 0 0 0]"
      ]
     },
     "metadata": {},
     "output_type": "display_data"
    },
    {
     "data": {
      "text/html": [
       "<html><script type=\"math/tex; mode=display\">\\newcommand{\\Bold}[1]{\\mathbf{#1}}\\left[\\left\\{d_{1} : r_{2005}, d_{2} : 0, d_{3} : 0, d_{4} : r_{2006}, d_{5} : 0, a_{12} : r_{2007}, a_{13} : r_{2008}, a_{14} : r_{2009}, a_{15} : r_{2010}, a_{23} : r_{2011}, a_{24} : r_{2012}, a_{25} : r_{2013}, a_{34} : -\\frac{r_{2006} x_{24}}{x_{23}}, a_{35} : r_{2014}, a_{45} : r_{2015}\\right\\}, \\left\\{d_{1} : r_{2016}, d_{2} : 0, d_{3} : 0, d_{4} : -\\frac{r_{2016} x_{23}}{x_{13} x_{24}}, d_{5} : 0, a_{12} : 0, a_{13} : r_{2017}, a_{14} : r_{2018}, a_{15} : r_{2019}, a_{23} : r_{2020}, a_{24} : r_{2021}, a_{25} : r_{2022}, a_{34} : \\frac{r_{2016}}{x_{13}}, a_{35} : r_{2023}, a_{45} : r_{2024}\\right\\}, \\left\\{d_{1} : r_{2025}, d_{2} : r_{2026}, d_{3} : \\frac{r_{2026}}{x_{23}}, d_{4} : -\\frac{r_{2025} x_{23}}{x_{13} x_{24}}, d_{5} : \\frac{r_{2026}}{x_{23} x_{35}}, a_{12} : \\frac{r_{2026} x_{13}}{x_{23}}, a_{13} : r_{2027}, a_{14} : r_{2028}, a_{15} : r_{2029}, a_{23} : r_{2030}, a_{24} : r_{2031}, a_{25} : r_{2032}, a_{34} : \\frac{r_{2025}}{x_{13}}, a_{35} : \\frac{r_{2027}}{x_{13}}, a_{45} : -\\frac{r_{2026} x_{13} x_{25} - {\\left(r_{2030} x_{13} x_{23} - r_{2027} x_{23}^{2}\\right)} x_{35}}{x_{13} x_{23} x_{24} x_{35}}\\right\\}\\right]</script></html>"
      ],
      "text/latex": [
       "$$\\newcommand{\\Bold}[1]{\\mathbf{#1}}\\left[\\left\\{d_{1} : r_{2005}, d_{2} : 0, d_{3} : 0, d_{4} : r_{2006}, d_{5} : 0, a_{12} : r_{2007}, a_{13} : r_{2008}, a_{14} : r_{2009}, a_{15} : r_{2010}, a_{23} : r_{2011}, a_{24} : r_{2012}, a_{25} : r_{2013}, a_{34} : -\\frac{r_{2006} x_{24}}{x_{23}}, a_{35} : r_{2014}, a_{45} : r_{2015}\\right\\}, \\left\\{d_{1} : r_{2016}, d_{2} : 0, d_{3} : 0, d_{4} : -\\frac{r_{2016} x_{23}}{x_{13} x_{24}}, d_{5} : 0, a_{12} : 0, a_{13} : r_{2017}, a_{14} : r_{2018}, a_{15} : r_{2019}, a_{23} : r_{2020}, a_{24} : r_{2021}, a_{25} : r_{2022}, a_{34} : \\frac{r_{2016}}{x_{13}}, a_{35} : r_{2023}, a_{45} : r_{2024}\\right\\}, \\left\\{d_{1} : r_{2025}, d_{2} : r_{2026}, d_{3} : \\frac{r_{2026}}{x_{23}}, d_{4} : -\\frac{r_{2025} x_{23}}{x_{13} x_{24}}, d_{5} : \\frac{r_{2026}}{x_{23} x_{35}}, a_{12} : \\frac{r_{2026} x_{13}}{x_{23}}, a_{13} : r_{2027}, a_{14} : r_{2028}, a_{15} : r_{2029}, a_{23} : r_{2030}, a_{24} : r_{2031}, a_{25} : r_{2032}, a_{34} : \\frac{r_{2025}}{x_{13}}, a_{35} : \\frac{r_{2027}}{x_{13}}, a_{45} : -\\frac{r_{2026} x_{13} x_{25} - {\\left(r_{2030} x_{13} x_{23} - r_{2027} x_{23}^{2}\\right)} x_{35}}{x_{13} x_{23} x_{24} x_{35}}\\right\\}\\right]$$"
      ],
      "text/plain": [
       "[{d1: r2005,\n",
       "  d2: 0,\n",
       "  d3: 0,\n",
       "  d4: r2006,\n",
       "  d5: 0,\n",
       "  a12: r2007,\n",
       "  a13: r2008,\n",
       "  a14: r2009,\n",
       "  a15: r2010,\n",
       "  a23: r2011,\n",
       "  a24: r2012,\n",
       "  a25: r2013,\n",
       "  a34: -r2006*x24/x23,\n",
       "  a35: r2014,\n",
       "  a45: r2015},\n",
       " {d1: r2016,\n",
       "  d2: 0,\n",
       "  d3: 0,\n",
       "  d4: -r2016*x23/(x13*x24),\n",
       "  d5: 0,\n",
       "  a12: 0,\n",
       "  a13: r2017,\n",
       "  a14: r2018,\n",
       "  a15: r2019,\n",
       "  a23: r2020,\n",
       "  a24: r2021,\n",
       "  a25: r2022,\n",
       "  a34: r2016/x13,\n",
       "  a35: r2023,\n",
       "  a45: r2024},\n",
       " {d1: r2025,\n",
       "  d2: r2026,\n",
       "  d3: r2026/x23,\n",
       "  d4: -r2025*x23/(x13*x24),\n",
       "  d5: r2026/(x23*x35),\n",
       "  a12: r2026*x13/x23,\n",
       "  a13: r2027,\n",
       "  a14: r2028,\n",
       "  a15: r2029,\n",
       "  a23: r2030,\n",
       "  a24: r2031,\n",
       "  a25: r2032,\n",
       "  a34: r2025/x13,\n",
       "  a35: r2027/x13,\n",
       "  a45: -(r2026*x13*x25 - (r2030*x13*x23 - r2027*x23^2)*x35)/(x13*x23*x24*x35)}]"
      ]
     },
     "metadata": {},
     "output_type": "display_data"
    },
    {
     "data": {
      "text/plain": [
       "\\left[\\left\\{d_{1} : r_{2005}, d_{2} : 0, d_{3} : 0, d_{4} : r_{2006}, d_{5} : 0, a_{12} : r_{2007}, a_{13} : r_{2008}, a_{14} : r_{2009}, a_{15} : r_{2010}, a_{23} : r_{2011}, a_{24} : r_{2012}, a_{25} : r_{2013}, a_{34} : -\\frac{r_{2006} x_{24}}{x_{23}}, a_{35} : r_{2014}, a_{45} : r_{2015}\\right\\}, \\left\\{d_{1} : r_{2016}, d_{2} : 0, d_{3} : 0, d_{4} : -\\frac{r_{2016} x_{23}}{x_{13} x_{24}}, d_{5} : 0, a_{12} : 0, a_{13} : r_{2017}, a_{14} : r_{2018}, a_{15} : r_{2019}, a_{23} : r_{2020}, a_{24} : r_{2021}, a_{25} : r_{2022}, a_{34} : \\frac{r_{2016}}{x_{13}}, a_{35} : r_{2023}, a_{45} : r_{2024}\\right\\}, \\left\\{d_{1} : r_{2025}, d_{2} : r_{2026}, d_{3} : \\frac{r_{2026}}{x_{23}}, d_{4} : -\\frac{r_{2025} x_{23}}{x_{13} x_{24}}, d_{5} : \\frac{r_{2026}}{x_{23} x_{35}}, a_{12} : \\frac{r_{2026} x_{13}}{x_{23}}, a_{13} : r_{2027}, a_{14} : r_{2028}, a_{15} : r_{2029}, a_{23} : r_{2030}, a_{24} : r_{2031}, a_{25} : r_{2032}, a_{34} : \\frac{r_{2025}}{x_{13}}, a_{35} : \\frac{r_{2027}}{x_{13}}, a_{45} : -\\frac{r_{2026} x_{13} x_{25} - {\\left(r_{2030} x_{13} x_{23} - r_{2027} x_{23}^{2}\\right)} x_{35}}{x_{13} x_{23} x_{24} x_{35}}\\right\\}\\right]"
      ]
     },
     "execution_count": 88,
     "metadata": {},
     "output_type": "execute_result"
    }
   ],
   "source": [
    "#x3\n",
    "reset()\n",
    "\n",
    "var('x12,x13,x14,x15,x23,x24,x25,x34,x35,x45')\n",
    "var('d1,d2,d3,d4,d5')\n",
    "var('a12,a13,a14,a15,a23,a24,a25,a34,a35,a45')\n",
    "\n",
    "load_attach_path('C:\\\\Users\\\\julia\\\\Documents\\\\unb\\\\doutorado\\\\pensar\\\\codigo_sage_v2\\\\maquina\\\\x3')\n",
    "load('out_#111100.sage')\n",
    "\n",
    "m=matrix(QQ, [[0, 0, 0, 1, 0],\n",
    "              [0, 0, 1, 0, 0],\n",
    "              [0, 0, 0, 0, 1],\n",
    "              [0, 0, 0, 0, 0],\n",
    "              [0, 0, 0, 0, 0]])\n",
    "        \n",
    "#entry of matrix: (i,j) line i collum j, means (i-1,j-1)\n",
    "sol=solve([ eq1==m[0,2],\teq2==m[0,3],\teq3==m[0,4],\teq4==m[1,2],\t\n",
    "                                            eq5==m[1,3],    eq6==m[1,4],\n",
    "                                                            eq7==m[2,4]],d1,d2,d3,d4,d5,a12,a13,a14,a15,a23,a24,a25,a34,a35,a45, solution_dict=True)\n",
    "\n",
    "show(m)\n",
    "show(sol)\n",
    "latex(sol)"
   ]
  },
  {
   "cell_type": "code",
   "execution_count": 89,
   "metadata": {},
   "outputs": [
    {
     "data": {
      "text/html": [
       "<html><script type=\"math/tex; mode=display\">\\newcommand{\\Bold}[1]{\\mathbf{#1}}\\left(\\begin{array}{rrrrr}\n",
       "0 & 0 & 0 & 1 & 0 \\\\\n",
       "0 & 0 & 1 & 0 & 0 \\\\\n",
       "0 & 0 & 0 & 0 & 1 \\\\\n",
       "0 & 0 & 0 & 0 & 0 \\\\\n",
       "0 & 0 & 0 & 0 & 0\n",
       "\\end{array}\\right)</script></html>"
      ],
      "text/latex": [
       "$$\\newcommand{\\Bold}[1]{\\mathbf{#1}}\\left(\\begin{array}{rrrrr}\n",
       "0 & 0 & 0 & 1 & 0 \\\\\n",
       "0 & 0 & 1 & 0 & 0 \\\\\n",
       "0 & 0 & 0 & 0 & 1 \\\\\n",
       "0 & 0 & 0 & 0 & 0 \\\\\n",
       "0 & 0 & 0 & 0 & 0\n",
       "\\end{array}\\right)$$"
      ],
      "text/plain": [
       "[0 0 0 1 0]\n",
       "[0 0 1 0 0]\n",
       "[0 0 0 0 1]\n",
       "[0 0 0 0 0]\n",
       "[0 0 0 0 0]"
      ]
     },
     "metadata": {},
     "output_type": "display_data"
    },
    {
     "data": {
      "text/html": [
       "<html><script type=\"math/tex; mode=display\">\\newcommand{\\Bold}[1]{\\mathbf{#1}}\\left[\\left\\{d_{1} : r_{2033}, d_{2} : 0, d_{3} : 0, d_{4} : r_{2034}, d_{5} : 0, a_{12} : r_{2035}, a_{13} : r_{2036}, a_{14} : r_{2037}, a_{15} : r_{2038}, a_{23} : r_{2039}, a_{24} : r_{2040}, a_{25} : r_{2041}, a_{34} : -\\frac{r_{2034} x_{24}}{x_{23}}, a_{35} : r_{2042}, a_{45} : r_{2043}\\right\\}, \\left\\{d_{1} : r_{2044}, d_{2} : 0, d_{3} : 0, d_{4} : -\\frac{r_{2044} x_{23}}{x_{13} x_{24}}, d_{5} : 0, a_{12} : 0, a_{13} : r_{2045}, a_{14} : r_{2046}, a_{15} : r_{2047}, a_{23} : r_{2048}, a_{24} : r_{2049}, a_{25} : r_{2050}, a_{34} : \\frac{r_{2044}}{x_{13}}, a_{35} : r_{2051}, a_{45} : r_{2052}\\right\\}, \\left\\{d_{1} : r_{2053}, d_{2} : r_{2054}, d_{3} : \\frac{r_{2054}}{x_{23}}, d_{4} : -\\frac{r_{2053} x_{23}}{x_{13} x_{24}}, d_{5} : \\frac{r_{2054}}{x_{23} x_{35}}, a_{12} : \\frac{r_{2054} x_{13}}{x_{23}}, a_{13} : r_{2055}, a_{14} : r_{2056}, a_{15} : r_{2057}, a_{23} : r_{2058}, a_{24} : r_{2059}, a_{25} : r_{2060}, a_{34} : \\frac{r_{2053}}{x_{13}}, a_{35} : \\frac{r_{2055} x_{23} x_{35} - r_{2054} x_{15}}{x_{13} x_{23} x_{35}}, a_{45} : \\frac{r_{2054} x_{15} x_{23} - r_{2054} x_{13} x_{25} + {\\left(r_{2058} x_{13} x_{23} - r_{2055} x_{23}^{2}\\right)} x_{35}}{x_{13} x_{23} x_{24} x_{35}}\\right\\}\\right]</script></html>"
      ],
      "text/latex": [
       "$$\\newcommand{\\Bold}[1]{\\mathbf{#1}}\\left[\\left\\{d_{1} : r_{2033}, d_{2} : 0, d_{3} : 0, d_{4} : r_{2034}, d_{5} : 0, a_{12} : r_{2035}, a_{13} : r_{2036}, a_{14} : r_{2037}, a_{15} : r_{2038}, a_{23} : r_{2039}, a_{24} : r_{2040}, a_{25} : r_{2041}, a_{34} : -\\frac{r_{2034} x_{24}}{x_{23}}, a_{35} : r_{2042}, a_{45} : r_{2043}\\right\\}, \\left\\{d_{1} : r_{2044}, d_{2} : 0, d_{3} : 0, d_{4} : -\\frac{r_{2044} x_{23}}{x_{13} x_{24}}, d_{5} : 0, a_{12} : 0, a_{13} : r_{2045}, a_{14} : r_{2046}, a_{15} : r_{2047}, a_{23} : r_{2048}, a_{24} : r_{2049}, a_{25} : r_{2050}, a_{34} : \\frac{r_{2044}}{x_{13}}, a_{35} : r_{2051}, a_{45} : r_{2052}\\right\\}, \\left\\{d_{1} : r_{2053}, d_{2} : r_{2054}, d_{3} : \\frac{r_{2054}}{x_{23}}, d_{4} : -\\frac{r_{2053} x_{23}}{x_{13} x_{24}}, d_{5} : \\frac{r_{2054}}{x_{23} x_{35}}, a_{12} : \\frac{r_{2054} x_{13}}{x_{23}}, a_{13} : r_{2055}, a_{14} : r_{2056}, a_{15} : r_{2057}, a_{23} : r_{2058}, a_{24} : r_{2059}, a_{25} : r_{2060}, a_{34} : \\frac{r_{2053}}{x_{13}}, a_{35} : \\frac{r_{2055} x_{23} x_{35} - r_{2054} x_{15}}{x_{13} x_{23} x_{35}}, a_{45} : \\frac{r_{2054} x_{15} x_{23} - r_{2054} x_{13} x_{25} + {\\left(r_{2058} x_{13} x_{23} - r_{2055} x_{23}^{2}\\right)} x_{35}}{x_{13} x_{23} x_{24} x_{35}}\\right\\}\\right]$$"
      ],
      "text/plain": [
       "[{d1: r2033,\n",
       "  d2: 0,\n",
       "  d3: 0,\n",
       "  d4: r2034,\n",
       "  d5: 0,\n",
       "  a12: r2035,\n",
       "  a13: r2036,\n",
       "  a14: r2037,\n",
       "  a15: r2038,\n",
       "  a23: r2039,\n",
       "  a24: r2040,\n",
       "  a25: r2041,\n",
       "  a34: -r2034*x24/x23,\n",
       "  a35: r2042,\n",
       "  a45: r2043},\n",
       " {d1: r2044,\n",
       "  d2: 0,\n",
       "  d3: 0,\n",
       "  d4: -r2044*x23/(x13*x24),\n",
       "  d5: 0,\n",
       "  a12: 0,\n",
       "  a13: r2045,\n",
       "  a14: r2046,\n",
       "  a15: r2047,\n",
       "  a23: r2048,\n",
       "  a24: r2049,\n",
       "  a25: r2050,\n",
       "  a34: r2044/x13,\n",
       "  a35: r2051,\n",
       "  a45: r2052},\n",
       " {d1: r2053,\n",
       "  d2: r2054,\n",
       "  d3: r2054/x23,\n",
       "  d4: -r2053*x23/(x13*x24),\n",
       "  d5: r2054/(x23*x35),\n",
       "  a12: r2054*x13/x23,\n",
       "  a13: r2055,\n",
       "  a14: r2056,\n",
       "  a15: r2057,\n",
       "  a23: r2058,\n",
       "  a24: r2059,\n",
       "  a25: r2060,\n",
       "  a34: r2053/x13,\n",
       "  a35: (r2055*x23*x35 - r2054*x15)/(x13*x23*x35),\n",
       "  a45: (r2054*x15*x23 - r2054*x13*x25 + (r2058*x13*x23 - r2055*x23^2)*x35)/(x13*x23*x24*x35)}]"
      ]
     },
     "metadata": {},
     "output_type": "display_data"
    },
    {
     "data": {
      "text/plain": [
       "\\left[\\left\\{d_{1} : r_{2033}, d_{2} : 0, d_{3} : 0, d_{4} : r_{2034}, d_{5} : 0, a_{12} : r_{2035}, a_{13} : r_{2036}, a_{14} : r_{2037}, a_{15} : r_{2038}, a_{23} : r_{2039}, a_{24} : r_{2040}, a_{25} : r_{2041}, a_{34} : -\\frac{r_{2034} x_{24}}{x_{23}}, a_{35} : r_{2042}, a_{45} : r_{2043}\\right\\}, \\left\\{d_{1} : r_{2044}, d_{2} : 0, d_{3} : 0, d_{4} : -\\frac{r_{2044} x_{23}}{x_{13} x_{24}}, d_{5} : 0, a_{12} : 0, a_{13} : r_{2045}, a_{14} : r_{2046}, a_{15} : r_{2047}, a_{23} : r_{2048}, a_{24} : r_{2049}, a_{25} : r_{2050}, a_{34} : \\frac{r_{2044}}{x_{13}}, a_{35} : r_{2051}, a_{45} : r_{2052}\\right\\}, \\left\\{d_{1} : r_{2053}, d_{2} : r_{2054}, d_{3} : \\frac{r_{2054}}{x_{23}}, d_{4} : -\\frac{r_{2053} x_{23}}{x_{13} x_{24}}, d_{5} : \\frac{r_{2054}}{x_{23} x_{35}}, a_{12} : \\frac{r_{2054} x_{13}}{x_{23}}, a_{13} : r_{2055}, a_{14} : r_{2056}, a_{15} : r_{2057}, a_{23} : r_{2058}, a_{24} : r_{2059}, a_{25} : r_{2060}, a_{34} : \\frac{r_{2053}}{x_{13}}, a_{35} : \\frac{r_{2055} x_{23} x_{35} - r_{2054} x_{15}}{x_{13} x_{23} x_{35}}, a_{45} : \\frac{r_{2054} x_{15} x_{23} - r_{2054} x_{13} x_{25} + {\\left(r_{2058} x_{13} x_{23} - r_{2055} x_{23}^{2}\\right)} x_{35}}{x_{13} x_{23} x_{24} x_{35}}\\right\\}\\right]"
      ]
     },
     "execution_count": 89,
     "metadata": {},
     "output_type": "execute_result"
    }
   ],
   "source": [
    "#x3\n",
    "reset()\n",
    "\n",
    "var('x12,x13,x14,x15,x23,x24,x25,x34,x35,x45')\n",
    "var('d1,d2,d3,d4,d5')\n",
    "var('a12,a13,a14,a15,a23,a24,a25,a34,a35,a45')\n",
    "\n",
    "load_attach_path('C:\\\\Users\\\\julia\\\\Documents\\\\unb\\\\doutorado\\\\pensar\\\\codigo_sage_v2\\\\maquina\\\\x3')\n",
    "load('out_#111101.sage')\n",
    "\n",
    "m=matrix(QQ, [[0, 0, 0, 1, 0],\n",
    "              [0, 0, 1, 0, 0],\n",
    "              [0, 0, 0, 0, 1],\n",
    "              [0, 0, 0, 0, 0],\n",
    "              [0, 0, 0, 0, 0]])\n",
    "        \n",
    "#entry of matrix: (i,j) line i collum j, means (i-1,j-1)\n",
    "sol=solve([ eq1==m[0,2],\teq2==m[0,3],\teq3==m[0,4],\teq4==m[1,2],\t\n",
    "                                            eq5==m[1,3],    eq6==m[1,4],\n",
    "                                                            eq7==m[2,4]],d1,d2,d3,d4,d5,a12,a13,a14,a15,a23,a24,a25,a34,a35,a45, solution_dict=True)\n",
    "\n",
    "show(m)\n",
    "show(sol)\n",
    "latex(sol)"
   ]
  },
  {
   "cell_type": "code",
   "execution_count": 90,
   "metadata": {},
   "outputs": [
    {
     "data": {
      "text/html": [
       "<html><script type=\"math/tex; mode=display\">\\newcommand{\\Bold}[1]{\\mathbf{#1}}\\left(\\begin{array}{rrrrr}\n",
       "0 & 0 & 0 & 1 & 0 \\\\\n",
       "0 & 0 & 1 & 0 & 0 \\\\\n",
       "0 & 0 & 0 & 0 & 1 \\\\\n",
       "0 & 0 & 0 & 0 & 0 \\\\\n",
       "0 & 0 & 0 & 0 & 0\n",
       "\\end{array}\\right)</script></html>"
      ],
      "text/latex": [
       "$$\\newcommand{\\Bold}[1]{\\mathbf{#1}}\\left(\\begin{array}{rrrrr}\n",
       "0 & 0 & 0 & 1 & 0 \\\\\n",
       "0 & 0 & 1 & 0 & 0 \\\\\n",
       "0 & 0 & 0 & 0 & 1 \\\\\n",
       "0 & 0 & 0 & 0 & 0 \\\\\n",
       "0 & 0 & 0 & 0 & 0\n",
       "\\end{array}\\right)$$"
      ],
      "text/plain": [
       "[0 0 0 1 0]\n",
       "[0 0 1 0 0]\n",
       "[0 0 0 0 1]\n",
       "[0 0 0 0 0]\n",
       "[0 0 0 0 0]"
      ]
     },
     "metadata": {},
     "output_type": "display_data"
    },
    {
     "data": {
      "text/html": [
       "<html><script type=\"math/tex; mode=display\">\\newcommand{\\Bold}[1]{\\mathbf{#1}}\\left[\\left\\{d_{1} : r_{2061}, d_{2} : 0, d_{3} : 0, d_{4} : r_{2062}, d_{5} : 0, a_{12} : r_{2063}, a_{13} : r_{2064}, a_{14} : r_{2065}, a_{15} : r_{2066}, a_{23} : r_{2067}, a_{24} : r_{2068}, a_{25} : r_{2069}, a_{34} : -\\frac{r_{2062} x_{24}}{x_{23}}, a_{35} : r_{2070}, a_{45} : r_{2071}\\right\\}, \\left\\{d_{1} : r_{2072}, d_{2} : 0, d_{3} : 0, d_{4} : \\frac{r_{2072} x_{23}}{x_{14} x_{23} - x_{13} x_{24}}, d_{5} : 0, a_{12} : 0, a_{13} : r_{2073}, a_{14} : r_{2074}, a_{15} : r_{2075}, a_{23} : r_{2076}, a_{24} : r_{2077}, a_{25} : r_{2078}, a_{34} : -\\frac{r_{2072} x_{24}}{x_{14} x_{23} - x_{13} x_{24}}, a_{35} : r_{2079}, a_{45} : r_{2080}\\right\\}, \\left\\{d_{1} : r_{2081}, d_{2} : r_{2082}, d_{3} : \\frac{r_{2082}}{x_{23}}, d_{4} : \\frac{r_{2081} x_{23}}{x_{14} x_{23} - x_{13} x_{24}}, d_{5} : \\frac{r_{2082}}{x_{23} x_{35}}, a_{12} : \\frac{r_{2082} x_{13}}{x_{23}}, a_{13} : r_{2083}, a_{14} : r_{2084}, a_{15} : r_{2085}, a_{23} : r_{2086}, a_{24} : r_{2087}, a_{25} : r_{2088}, a_{34} : -\\frac{r_{2081} x_{24}}{x_{14} x_{23} - x_{13} x_{24}}, a_{35} : -\\frac{r_{2082} x_{14} x_{25} - {\\left(r_{2086} x_{14} x_{23} - r_{2083} x_{23} x_{24}\\right)} x_{35}}{{\\left(x_{14} x_{23}^{2} - x_{13} x_{23} x_{24}\\right)} x_{35}}, a_{45} : \\frac{r_{2082} x_{13} x_{25} - {\\left(r_{2086} x_{13} x_{23} - r_{2083} x_{23}^{2}\\right)} x_{35}}{{\\left(x_{14} x_{23}^{2} - x_{13} x_{23} x_{24}\\right)} x_{35}}\\right\\}\\right]</script></html>"
      ],
      "text/latex": [
       "$$\\newcommand{\\Bold}[1]{\\mathbf{#1}}\\left[\\left\\{d_{1} : r_{2061}, d_{2} : 0, d_{3} : 0, d_{4} : r_{2062}, d_{5} : 0, a_{12} : r_{2063}, a_{13} : r_{2064}, a_{14} : r_{2065}, a_{15} : r_{2066}, a_{23} : r_{2067}, a_{24} : r_{2068}, a_{25} : r_{2069}, a_{34} : -\\frac{r_{2062} x_{24}}{x_{23}}, a_{35} : r_{2070}, a_{45} : r_{2071}\\right\\}, \\left\\{d_{1} : r_{2072}, d_{2} : 0, d_{3} : 0, d_{4} : \\frac{r_{2072} x_{23}}{x_{14} x_{23} - x_{13} x_{24}}, d_{5} : 0, a_{12} : 0, a_{13} : r_{2073}, a_{14} : r_{2074}, a_{15} : r_{2075}, a_{23} : r_{2076}, a_{24} : r_{2077}, a_{25} : r_{2078}, a_{34} : -\\frac{r_{2072} x_{24}}{x_{14} x_{23} - x_{13} x_{24}}, a_{35} : r_{2079}, a_{45} : r_{2080}\\right\\}, \\left\\{d_{1} : r_{2081}, d_{2} : r_{2082}, d_{3} : \\frac{r_{2082}}{x_{23}}, d_{4} : \\frac{r_{2081} x_{23}}{x_{14} x_{23} - x_{13} x_{24}}, d_{5} : \\frac{r_{2082}}{x_{23} x_{35}}, a_{12} : \\frac{r_{2082} x_{13}}{x_{23}}, a_{13} : r_{2083}, a_{14} : r_{2084}, a_{15} : r_{2085}, a_{23} : r_{2086}, a_{24} : r_{2087}, a_{25} : r_{2088}, a_{34} : -\\frac{r_{2081} x_{24}}{x_{14} x_{23} - x_{13} x_{24}}, a_{35} : -\\frac{r_{2082} x_{14} x_{25} - {\\left(r_{2086} x_{14} x_{23} - r_{2083} x_{23} x_{24}\\right)} x_{35}}{{\\left(x_{14} x_{23}^{2} - x_{13} x_{23} x_{24}\\right)} x_{35}}, a_{45} : \\frac{r_{2082} x_{13} x_{25} - {\\left(r_{2086} x_{13} x_{23} - r_{2083} x_{23}^{2}\\right)} x_{35}}{{\\left(x_{14} x_{23}^{2} - x_{13} x_{23} x_{24}\\right)} x_{35}}\\right\\}\\right]$$"
      ],
      "text/plain": [
       "[{d1: r2061,\n",
       "  d2: 0,\n",
       "  d3: 0,\n",
       "  d4: r2062,\n",
       "  d5: 0,\n",
       "  a12: r2063,\n",
       "  a13: r2064,\n",
       "  a14: r2065,\n",
       "  a15: r2066,\n",
       "  a23: r2067,\n",
       "  a24: r2068,\n",
       "  a25: r2069,\n",
       "  a34: -r2062*x24/x23,\n",
       "  a35: r2070,\n",
       "  a45: r2071},\n",
       " {d1: r2072,\n",
       "  d2: 0,\n",
       "  d3: 0,\n",
       "  d4: r2072*x23/(x14*x23 - x13*x24),\n",
       "  d5: 0,\n",
       "  a12: 0,\n",
       "  a13: r2073,\n",
       "  a14: r2074,\n",
       "  a15: r2075,\n",
       "  a23: r2076,\n",
       "  a24: r2077,\n",
       "  a25: r2078,\n",
       "  a34: -r2072*x24/(x14*x23 - x13*x24),\n",
       "  a35: r2079,\n",
       "  a45: r2080},\n",
       " {d1: r2081,\n",
       "  d2: r2082,\n",
       "  d3: r2082/x23,\n",
       "  d4: r2081*x23/(x14*x23 - x13*x24),\n",
       "  d5: r2082/(x23*x35),\n",
       "  a12: r2082*x13/x23,\n",
       "  a13: r2083,\n",
       "  a14: r2084,\n",
       "  a15: r2085,\n",
       "  a23: r2086,\n",
       "  a24: r2087,\n",
       "  a25: r2088,\n",
       "  a34: -r2081*x24/(x14*x23 - x13*x24),\n",
       "  a35: -(r2082*x14*x25 - (r2086*x14*x23 - r2083*x23*x24)*x35)/((x14*x23^2 - x13*x23*x24)*x35),\n",
       "  a45: (r2082*x13*x25 - (r2086*x13*x23 - r2083*x23^2)*x35)/((x14*x23^2 - x13*x23*x24)*x35)}]"
      ]
     },
     "metadata": {},
     "output_type": "display_data"
    },
    {
     "data": {
      "text/plain": [
       "\\left[\\left\\{d_{1} : r_{2061}, d_{2} : 0, d_{3} : 0, d_{4} : r_{2062}, d_{5} : 0, a_{12} : r_{2063}, a_{13} : r_{2064}, a_{14} : r_{2065}, a_{15} : r_{2066}, a_{23} : r_{2067}, a_{24} : r_{2068}, a_{25} : r_{2069}, a_{34} : -\\frac{r_{2062} x_{24}}{x_{23}}, a_{35} : r_{2070}, a_{45} : r_{2071}\\right\\}, \\left\\{d_{1} : r_{2072}, d_{2} : 0, d_{3} : 0, d_{4} : \\frac{r_{2072} x_{23}}{x_{14} x_{23} - x_{13} x_{24}}, d_{5} : 0, a_{12} : 0, a_{13} : r_{2073}, a_{14} : r_{2074}, a_{15} : r_{2075}, a_{23} : r_{2076}, a_{24} : r_{2077}, a_{25} : r_{2078}, a_{34} : -\\frac{r_{2072} x_{24}}{x_{14} x_{23} - x_{13} x_{24}}, a_{35} : r_{2079}, a_{45} : r_{2080}\\right\\}, \\left\\{d_{1} : r_{2081}, d_{2} : r_{2082}, d_{3} : \\frac{r_{2082}}{x_{23}}, d_{4} : \\frac{r_{2081} x_{23}}{x_{14} x_{23} - x_{13} x_{24}}, d_{5} : \\frac{r_{2082}}{x_{23} x_{35}}, a_{12} : \\frac{r_{2082} x_{13}}{x_{23}}, a_{13} : r_{2083}, a_{14} : r_{2084}, a_{15} : r_{2085}, a_{23} : r_{2086}, a_{24} : r_{2087}, a_{25} : r_{2088}, a_{34} : -\\frac{r_{2081} x_{24}}{x_{14} x_{23} - x_{13} x_{24}}, a_{35} : -\\frac{r_{2082} x_{14} x_{25} - {\\left(r_{2086} x_{14} x_{23} - r_{2083} x_{23} x_{24}\\right)} x_{35}}{{\\left(x_{14} x_{23}^{2} - x_{13} x_{23} x_{24}\\right)} x_{35}}, a_{45} : \\frac{r_{2082} x_{13} x_{25} - {\\left(r_{2086} x_{13} x_{23} - r_{2083} x_{23}^{2}\\right)} x_{35}}{{\\left(x_{14} x_{23}^{2} - x_{13} x_{23} x_{24}\\right)} x_{35}}\\right\\}\\right]"
      ]
     },
     "execution_count": 90,
     "metadata": {},
     "output_type": "execute_result"
    }
   ],
   "source": [
    "#x3\n",
    "#----------------------\n",
    "#x14 \\neq x13*x24/x23\n",
    "#----------------------\n",
    "reset()\n",
    "\n",
    "var('x12,x13,x14,x15,x23,x24,x25,x34,x35,x45')\n",
    "var('d1,d2,d3,d4,d5')\n",
    "var('a12,a13,a14,a15,a23,a24,a25,a34,a35,a45')\n",
    "\n",
    "load_attach_path('C:\\\\Users\\\\julia\\\\Documents\\\\unb\\\\doutorado\\\\pensar\\\\codigo_sage_v2\\\\maquina\\\\x3')\n",
    "load('out_#111110.sage')\n",
    "\n",
    "m=matrix(QQ, [[0, 0, 0, 1, 0],\n",
    "              [0, 0, 1, 0, 0],\n",
    "              [0, 0, 0, 0, 1],\n",
    "              [0, 0, 0, 0, 0],\n",
    "              [0, 0, 0, 0, 0]])\n",
    "        \n",
    "#entry of matrix: (i,j) line i collum j, means (i-1,j-1)\n",
    "sol=solve([ eq1==m[0,2],\teq2==m[0,3],\teq3==m[0,4],\teq4==m[1,2],\t\n",
    "                                            eq5==m[1,3],    eq6==m[1,4],\n",
    "                                                            eq7==m[2,4]],d1,d2,d3,d4,d5,a12,a13,a14,a15,a23,a24,a25,a34,a35,a45, solution_dict=True)\n",
    "\n",
    "show(m)\n",
    "show(sol)\n",
    "latex(sol)"
   ]
  },
  {
   "cell_type": "code",
   "execution_count": 91,
   "metadata": {},
   "outputs": [
    {
     "data": {
      "text/html": [
       "<html><script type=\"math/tex; mode=display\">\\newcommand{\\Bold}[1]{\\mathbf{#1}}\\left(\\begin{array}{rrrrr}\n",
       "0 & 0 & 0 & 0 & 0 \\\\\n",
       "0 & 0 & 1 & 0 & 0 \\\\\n",
       "0 & 0 & 0 & 0 & 1 \\\\\n",
       "0 & 0 & 0 & 0 & 0 \\\\\n",
       "0 & 0 & 0 & 0 & 0\n",
       "\\end{array}\\right)</script></html>"
      ],
      "text/latex": [
       "$$\\newcommand{\\Bold}[1]{\\mathbf{#1}}\\left(\\begin{array}{rrrrr}\n",
       "0 & 0 & 0 & 0 & 0 \\\\\n",
       "0 & 0 & 1 & 0 & 0 \\\\\n",
       "0 & 0 & 0 & 0 & 1 \\\\\n",
       "0 & 0 & 0 & 0 & 0 \\\\\n",
       "0 & 0 & 0 & 0 & 0\n",
       "\\end{array}\\right)$$"
      ],
      "text/plain": [
       "[0 0 0 0 0]\n",
       "[0 0 1 0 0]\n",
       "[0 0 0 0 1]\n",
       "[0 0 0 0 0]\n",
       "[0 0 0 0 0]"
      ]
     },
     "metadata": {},
     "output_type": "display_data"
    },
    {
     "data": {
      "text/html": [
       "<html><script type=\"math/tex; mode=display\">\\newcommand{\\Bold}[1]{\\mathbf{#1}}\\left[\\left\\{d_{1} : r_{2089}, d_{2} : 0, d_{3} : 0, d_{4} : r_{2090}, d_{5} : 0, a_{12} : r_{2091}, a_{13} : r_{2092}, a_{14} : r_{2093}, a_{15} : r_{2094}, a_{23} : r_{2095}, a_{24} : r_{2096}, a_{25} : r_{2097}, a_{34} : -\\frac{r_{2090} x_{24}}{x_{23}}, a_{35} : r_{2098}, a_{45} : r_{2099}\\right\\}, \\left\\{d_{1} : r_{2100}, d_{2} : r_{2101}, d_{3} : \\frac{r_{2101}}{x_{23}}, d_{4} : r_{2102}, d_{5} : \\frac{r_{2101}}{x_{23} x_{35}}, a_{12} : \\frac{r_{2101} x_{13}}{x_{23}}, a_{13} : r_{2103}, a_{14} : r_{2104}, a_{15} : r_{2105}, a_{23} : \\frac{r_{2103} x_{23}^{2} x_{35} + r_{2101} x_{13} x_{25}}{x_{13} x_{23} x_{35}}, a_{24} : r_{2106}, a_{25} : r_{2107}, a_{34} : -\\frac{r_{2102} x_{24}}{x_{23}}, a_{35} : r_{2108}, a_{45} : -\\frac{{\\left(r_{2108} x_{13} - r_{2103}\\right)} x_{23}}{x_{13} x_{24}}\\right\\}\\right]</script></html>"
      ],
      "text/latex": [
       "$$\\newcommand{\\Bold}[1]{\\mathbf{#1}}\\left[\\left\\{d_{1} : r_{2089}, d_{2} : 0, d_{3} : 0, d_{4} : r_{2090}, d_{5} : 0, a_{12} : r_{2091}, a_{13} : r_{2092}, a_{14} : r_{2093}, a_{15} : r_{2094}, a_{23} : r_{2095}, a_{24} : r_{2096}, a_{25} : r_{2097}, a_{34} : -\\frac{r_{2090} x_{24}}{x_{23}}, a_{35} : r_{2098}, a_{45} : r_{2099}\\right\\}, \\left\\{d_{1} : r_{2100}, d_{2} : r_{2101}, d_{3} : \\frac{r_{2101}}{x_{23}}, d_{4} : r_{2102}, d_{5} : \\frac{r_{2101}}{x_{23} x_{35}}, a_{12} : \\frac{r_{2101} x_{13}}{x_{23}}, a_{13} : r_{2103}, a_{14} : r_{2104}, a_{15} : r_{2105}, a_{23} : \\frac{r_{2103} x_{23}^{2} x_{35} + r_{2101} x_{13} x_{25}}{x_{13} x_{23} x_{35}}, a_{24} : r_{2106}, a_{25} : r_{2107}, a_{34} : -\\frac{r_{2102} x_{24}}{x_{23}}, a_{35} : r_{2108}, a_{45} : -\\frac{{\\left(r_{2108} x_{13} - r_{2103}\\right)} x_{23}}{x_{13} x_{24}}\\right\\}\\right]$$"
      ],
      "text/plain": [
       "[{d1: r2089,\n",
       "  d2: 0,\n",
       "  d3: 0,\n",
       "  d4: r2090,\n",
       "  d5: 0,\n",
       "  a12: r2091,\n",
       "  a13: r2092,\n",
       "  a14: r2093,\n",
       "  a15: r2094,\n",
       "  a23: r2095,\n",
       "  a24: r2096,\n",
       "  a25: r2097,\n",
       "  a34: -r2090*x24/x23,\n",
       "  a35: r2098,\n",
       "  a45: r2099},\n",
       " {d1: r2100,\n",
       "  d2: r2101,\n",
       "  d3: r2101/x23,\n",
       "  d4: r2102,\n",
       "  d5: r2101/(x23*x35),\n",
       "  a12: r2101*x13/x23,\n",
       "  a13: r2103,\n",
       "  a14: r2104,\n",
       "  a15: r2105,\n",
       "  a23: (r2103*x23^2*x35 + r2101*x13*x25)/(x13*x23*x35),\n",
       "  a24: r2106,\n",
       "  a25: r2107,\n",
       "  a34: -r2102*x24/x23,\n",
       "  a35: r2108,\n",
       "  a45: -(r2108*x13 - r2103)*x23/(x13*x24)}]"
      ]
     },
     "metadata": {},
     "output_type": "display_data"
    },
    {
     "data": {
      "text/plain": [
       "\\left[\\left\\{d_{1} : r_{2089}, d_{2} : 0, d_{3} : 0, d_{4} : r_{2090}, d_{5} : 0, a_{12} : r_{2091}, a_{13} : r_{2092}, a_{14} : r_{2093}, a_{15} : r_{2094}, a_{23} : r_{2095}, a_{24} : r_{2096}, a_{25} : r_{2097}, a_{34} : -\\frac{r_{2090} x_{24}}{x_{23}}, a_{35} : r_{2098}, a_{45} : r_{2099}\\right\\}, \\left\\{d_{1} : r_{2100}, d_{2} : r_{2101}, d_{3} : \\frac{r_{2101}}{x_{23}}, d_{4} : r_{2102}, d_{5} : \\frac{r_{2101}}{x_{23} x_{35}}, a_{12} : \\frac{r_{2101} x_{13}}{x_{23}}, a_{13} : r_{2103}, a_{14} : r_{2104}, a_{15} : r_{2105}, a_{23} : \\frac{r_{2103} x_{23}^{2} x_{35} + r_{2101} x_{13} x_{25}}{x_{13} x_{23} x_{35}}, a_{24} : r_{2106}, a_{25} : r_{2107}, a_{34} : -\\frac{r_{2102} x_{24}}{x_{23}}, a_{35} : r_{2108}, a_{45} : -\\frac{{\\left(r_{2108} x_{13} - r_{2103}\\right)} x_{23}}{x_{13} x_{24}}\\right\\}\\right]"
      ]
     },
     "execution_count": 91,
     "metadata": {},
     "output_type": "execute_result"
    }
   ],
   "source": [
    "#x3\n",
    "#----------------------\n",
    "#x14 = x13*x24/x23\n",
    "#----------------------\n",
    "reset()\n",
    "\n",
    "var('x12,x13,x14,x15,x23,x24,x25,x34,x35,x45')\n",
    "var('d1,d2,d3,d4,d5')\n",
    "var('a12,a13,a14,a15,a23,a24,a25,a34,a35,a45')\n",
    "\n",
    "#111110\n",
    "eq1=(d2*d3*x13-a12*d3*x23)/(d1*d2) \n",
    "eq2=(a34*d2*x13+d2*d4*((x13*x24)/x23)-a12*a34*x23-a12*d4*x24)/(d1*d2) \n",
    "eq3=(a35*d2*d3*x13+a45*d2*d3*((x13*x24)/x23)+d2*d3*d5*0-a12*a35*d3*x23-a12*a45*d3*x24-a12*d3*d5*x25+a12*a23*d5*x35-a13*d2*d5*x35)/(d1*d2*d3) \n",
    "eq4=(d3*x23)/(d2) \n",
    "eq5=(a34*x23+d4*x24)/(d2) \n",
    "eq6=(a35*d3*x23+a45*d3*x24+d3*d5*x25-a23*d5*x35)/(d2*d3) \n",
    "eq7=(d5*x35)/(d3) \n",
    "\n",
    "\n",
    "m=matrix(QQ, [[0, 0, 0, 0, 0],\n",
    "              [0, 0, 1, 0, 0],\n",
    "              [0, 0, 0, 0, 1],\n",
    "              [0, 0, 0, 0, 0],\n",
    "              [0, 0, 0, 0, 0]])\n",
    "        \n",
    "#entry of matrix: (i,j) line i collum j, means (i-1,j-1)\n",
    "sol=solve([ eq1==m[0,2],\teq2==m[0,3],\teq3==m[0,4],\teq4==m[1,2],\t\n",
    "                                            eq5==m[1,3],    eq6==m[1,4],\n",
    "                                                            eq7==m[2,4]],d1,d2,d3,d4,d5,a12,a13,a14,a15,a23,a24,a25,a34,a35,a45, solution_dict=True)\n",
    "\n",
    "show(m)\n",
    "show(sol)\n",
    "latex(sol)"
   ]
  },
  {
   "cell_type": "code",
   "execution_count": 96,
   "metadata": {
    "scrolled": true
   },
   "outputs": [
    {
     "data": {
      "text/html": [
       "<html><script type=\"math/tex; mode=display\">\\newcommand{\\Bold}[1]{\\mathbf{#1}}\\left(\\begin{array}{rrrrr}\n",
       "0 & 0 & 0 & 1 & 0 \\\\\n",
       "0 & 0 & 1 & 0 & 0 \\\\\n",
       "0 & 0 & 0 & 0 & 1 \\\\\n",
       "0 & 0 & 0 & 0 & 0 \\\\\n",
       "0 & 0 & 0 & 0 & 0\n",
       "\\end{array}\\right)</script></html>"
      ],
      "text/latex": [
       "$$\\newcommand{\\Bold}[1]{\\mathbf{#1}}\\left(\\begin{array}{rrrrr}\n",
       "0 & 0 & 0 & 1 & 0 \\\\\n",
       "0 & 0 & 1 & 0 & 0 \\\\\n",
       "0 & 0 & 0 & 0 & 1 \\\\\n",
       "0 & 0 & 0 & 0 & 0 \\\\\n",
       "0 & 0 & 0 & 0 & 0\n",
       "\\end{array}\\right)$$"
      ],
      "text/plain": [
       "[0 0 0 1 0]\n",
       "[0 0 1 0 0]\n",
       "[0 0 0 0 1]\n",
       "[0 0 0 0 0]\n",
       "[0 0 0 0 0]"
      ]
     },
     "metadata": {},
     "output_type": "display_data"
    },
    {
     "data": {
      "text/html": [
       "<html><script type=\"math/tex; mode=display\">\\newcommand{\\Bold}[1]{\\mathbf{#1}}\\left[\\left\\{d_{1} : r_{2221}, d_{2} : 0, d_{3} : 0, d_{4} : r_{2222}, d_{5} : 0, a_{12} : r_{2223}, a_{13} : r_{2224}, a_{14} : r_{2225}, a_{15} : r_{2226}, a_{23} : r_{2227}, a_{24} : r_{2228}, a_{25} : r_{2229}, a_{34} : -\\frac{r_{2222} x_{24}}{x_{23}}, a_{35} : r_{2230}, a_{45} : r_{2231}\\right\\}, \\left\\{d_{1} : r_{2232}, d_{2} : 0, d_{3} : 0, d_{4} : \\frac{r_{2232} x_{23}}{x_{14} x_{23} - x_{13} x_{24}}, d_{5} : 0, a_{12} : 0, a_{13} : r_{2233}, a_{14} : r_{2234}, a_{15} : r_{2235}, a_{23} : r_{2236}, a_{24} : r_{2237}, a_{25} : r_{2238}, a_{34} : -\\frac{r_{2232} x_{24}}{x_{14} x_{23} - x_{13} x_{24}}, a_{35} : r_{2239}, a_{45} : r_{2240}\\right\\}, \\left\\{d_{1} : r_{2241}, d_{2} : r_{2242}, d_{3} : \\frac{r_{2242}}{x_{23}}, d_{4} : \\frac{r_{2241} x_{23}}{x_{14} x_{23} - x_{13} x_{24}}, d_{5} : \\frac{r_{2242}}{x_{23} x_{35}}, a_{12} : \\frac{r_{2242} x_{13}}{x_{23}}, a_{13} : r_{2243}, a_{14} : r_{2244}, a_{15} : r_{2245}, a_{23} : r_{2246}, a_{24} : r_{2247}, a_{25} : r_{2248}, a_{34} : -\\frac{r_{2241} x_{24}}{x_{14} x_{23} - x_{13} x_{24}}, a_{35} : \\frac{r_{2242} x_{15} x_{24} - r_{2242} x_{14} x_{25} + {\\left(r_{2246} x_{14} x_{23} - r_{2243} x_{23} x_{24}\\right)} x_{35}}{{\\left(x_{14} x_{23}^{2} - x_{13} x_{23} x_{24}\\right)} x_{35}}, a_{45} : -\\frac{r_{2242} x_{15} x_{23} - r_{2242} x_{13} x_{25} + {\\left(r_{2246} x_{13} x_{23} - r_{2243} x_{23}^{2}\\right)} x_{35}}{{\\left(x_{14} x_{23}^{2} - x_{13} x_{23} x_{24}\\right)} x_{35}}\\right\\}\\right]</script></html>"
      ],
      "text/latex": [
       "$$\\newcommand{\\Bold}[1]{\\mathbf{#1}}\\left[\\left\\{d_{1} : r_{2221}, d_{2} : 0, d_{3} : 0, d_{4} : r_{2222}, d_{5} : 0, a_{12} : r_{2223}, a_{13} : r_{2224}, a_{14} : r_{2225}, a_{15} : r_{2226}, a_{23} : r_{2227}, a_{24} : r_{2228}, a_{25} : r_{2229}, a_{34} : -\\frac{r_{2222} x_{24}}{x_{23}}, a_{35} : r_{2230}, a_{45} : r_{2231}\\right\\}, \\left\\{d_{1} : r_{2232}, d_{2} : 0, d_{3} : 0, d_{4} : \\frac{r_{2232} x_{23}}{x_{14} x_{23} - x_{13} x_{24}}, d_{5} : 0, a_{12} : 0, a_{13} : r_{2233}, a_{14} : r_{2234}, a_{15} : r_{2235}, a_{23} : r_{2236}, a_{24} : r_{2237}, a_{25} : r_{2238}, a_{34} : -\\frac{r_{2232} x_{24}}{x_{14} x_{23} - x_{13} x_{24}}, a_{35} : r_{2239}, a_{45} : r_{2240}\\right\\}, \\left\\{d_{1} : r_{2241}, d_{2} : r_{2242}, d_{3} : \\frac{r_{2242}}{x_{23}}, d_{4} : \\frac{r_{2241} x_{23}}{x_{14} x_{23} - x_{13} x_{24}}, d_{5} : \\frac{r_{2242}}{x_{23} x_{35}}, a_{12} : \\frac{r_{2242} x_{13}}{x_{23}}, a_{13} : r_{2243}, a_{14} : r_{2244}, a_{15} : r_{2245}, a_{23} : r_{2246}, a_{24} : r_{2247}, a_{25} : r_{2248}, a_{34} : -\\frac{r_{2241} x_{24}}{x_{14} x_{23} - x_{13} x_{24}}, a_{35} : \\frac{r_{2242} x_{15} x_{24} - r_{2242} x_{14} x_{25} + {\\left(r_{2246} x_{14} x_{23} - r_{2243} x_{23} x_{24}\\right)} x_{35}}{{\\left(x_{14} x_{23}^{2} - x_{13} x_{23} x_{24}\\right)} x_{35}}, a_{45} : -\\frac{r_{2242} x_{15} x_{23} - r_{2242} x_{13} x_{25} + {\\left(r_{2246} x_{13} x_{23} - r_{2243} x_{23}^{2}\\right)} x_{35}}{{\\left(x_{14} x_{23}^{2} - x_{13} x_{23} x_{24}\\right)} x_{35}}\\right\\}\\right]$$"
      ],
      "text/plain": [
       "[{d1: r2221,\n",
       "  d2: 0,\n",
       "  d3: 0,\n",
       "  d4: r2222,\n",
       "  d5: 0,\n",
       "  a12: r2223,\n",
       "  a13: r2224,\n",
       "  a14: r2225,\n",
       "  a15: r2226,\n",
       "  a23: r2227,\n",
       "  a24: r2228,\n",
       "  a25: r2229,\n",
       "  a34: -r2222*x24/x23,\n",
       "  a35: r2230,\n",
       "  a45: r2231},\n",
       " {d1: r2232,\n",
       "  d2: 0,\n",
       "  d3: 0,\n",
       "  d4: r2232*x23/(x14*x23 - x13*x24),\n",
       "  d5: 0,\n",
       "  a12: 0,\n",
       "  a13: r2233,\n",
       "  a14: r2234,\n",
       "  a15: r2235,\n",
       "  a23: r2236,\n",
       "  a24: r2237,\n",
       "  a25: r2238,\n",
       "  a34: -r2232*x24/(x14*x23 - x13*x24),\n",
       "  a35: r2239,\n",
       "  a45: r2240},\n",
       " {d1: r2241,\n",
       "  d2: r2242,\n",
       "  d3: r2242/x23,\n",
       "  d4: r2241*x23/(x14*x23 - x13*x24),\n",
       "  d5: r2242/(x23*x35),\n",
       "  a12: r2242*x13/x23,\n",
       "  a13: r2243,\n",
       "  a14: r2244,\n",
       "  a15: r2245,\n",
       "  a23: r2246,\n",
       "  a24: r2247,\n",
       "  a25: r2248,\n",
       "  a34: -r2241*x24/(x14*x23 - x13*x24),\n",
       "  a35: (r2242*x15*x24 - r2242*x14*x25 + (r2246*x14*x23 - r2243*x23*x24)*x35)/((x14*x23^2 - x13*x23*x24)*x35),\n",
       "  a45: -(r2242*x15*x23 - r2242*x13*x25 + (r2246*x13*x23 - r2243*x23^2)*x35)/((x14*x23^2 - x13*x23*x24)*x35)}]"
      ]
     },
     "metadata": {},
     "output_type": "display_data"
    },
    {
     "data": {
      "text/plain": [
       "\\left[\\left\\{d_{1} : r_{2221}, d_{2} : 0, d_{3} : 0, d_{4} : r_{2222}, d_{5} : 0, a_{12} : r_{2223}, a_{13} : r_{2224}, a_{14} : r_{2225}, a_{15} : r_{2226}, a_{23} : r_{2227}, a_{24} : r_{2228}, a_{25} : r_{2229}, a_{34} : -\\frac{r_{2222} x_{24}}{x_{23}}, a_{35} : r_{2230}, a_{45} : r_{2231}\\right\\}, \\left\\{d_{1} : r_{2232}, d_{2} : 0, d_{3} : 0, d_{4} : \\frac{r_{2232} x_{23}}{x_{14} x_{23} - x_{13} x_{24}}, d_{5} : 0, a_{12} : 0, a_{13} : r_{2233}, a_{14} : r_{2234}, a_{15} : r_{2235}, a_{23} : r_{2236}, a_{24} : r_{2237}, a_{25} : r_{2238}, a_{34} : -\\frac{r_{2232} x_{24}}{x_{14} x_{23} - x_{13} x_{24}}, a_{35} : r_{2239}, a_{45} : r_{2240}\\right\\}, \\left\\{d_{1} : r_{2241}, d_{2} : r_{2242}, d_{3} : \\frac{r_{2242}}{x_{23}}, d_{4} : \\frac{r_{2241} x_{23}}{x_{14} x_{23} - x_{13} x_{24}}, d_{5} : \\frac{r_{2242}}{x_{23} x_{35}}, a_{12} : \\frac{r_{2242} x_{13}}{x_{23}}, a_{13} : r_{2243}, a_{14} : r_{2244}, a_{15} : r_{2245}, a_{23} : r_{2246}, a_{24} : r_{2247}, a_{25} : r_{2248}, a_{34} : -\\frac{r_{2241} x_{24}}{x_{14} x_{23} - x_{13} x_{24}}, a_{35} : \\frac{r_{2242} x_{15} x_{24} - r_{2242} x_{14} x_{25} + {\\left(r_{2246} x_{14} x_{23} - r_{2243} x_{23} x_{24}\\right)} x_{35}}{{\\left(x_{14} x_{23}^{2} - x_{13} x_{23} x_{24}\\right)} x_{35}}, a_{45} : -\\frac{r_{2242} x_{15} x_{23} - r_{2242} x_{13} x_{25} + {\\left(r_{2246} x_{13} x_{23} - r_{2243} x_{23}^{2}\\right)} x_{35}}{{\\left(x_{14} x_{23}^{2} - x_{13} x_{23} x_{24}\\right)} x_{35}}\\right\\}\\right]"
      ]
     },
     "execution_count": 96,
     "metadata": {},
     "output_type": "execute_result"
    }
   ],
   "source": [
    "#x3\n",
    "#----------------------\n",
    "#x14 \\dif x13*x24/x23\n",
    "#----------------------\n",
    "reset()\n",
    "\n",
    "var('x12,x13,x14,x15,x23,x24,x25,x34,x35,x45')\n",
    "var('d1,d2,d3,d4,d5')\n",
    "var('a12,a13,a14,a15,a23,a24,a25,a34,a35,a45')\n",
    "\n",
    "eq1=(d2*d3*x13-a12*d3*x23)/(d1*d2) \n",
    "eq2=(a34*d2*x13+d2*d4*x14-a12*a34*x23-a12*d4*x24)/(d1*d2) \n",
    "eq3=(a35*d2*d3*x13+a45*d2*d3*x14+d2*d3*d5*x15-a12*a35*d3*x23-a12*a45*d3*x24-a12*d3*d5*x25+a12*a23*d5*x35-a13*d2*d5*x35)/(d1*d2*d3) \n",
    "eq4=(d3*x23)/(d2) \n",
    "eq5=(a34*x23+d4*x24)/(d2) \n",
    "eq6=(a35*d3*x23+a45*d3*x24+d3*d5*x25-a23*d5*x35)/(d2*d3) \n",
    "eq7=(d5*x35)/(d3) \n",
    "\n",
    "m=matrix(QQ, [[0, 0, 0, 1, 0],\n",
    "              [0, 0, 1, 0, 0],\n",
    "              [0, 0, 0, 0, 1],\n",
    "              [0, 0, 0, 0, 0],\n",
    "              [0, 0, 0, 0, 0]])\n",
    "        \n",
    "#entry of matrix: (i,j) line i collum j, means (i-1,j-1)\n",
    "sol=solve([ eq1==m[0,2],\teq2==m[0,3],\teq3==m[0,4],\teq4==m[1,2],\t\n",
    "                                            eq5==m[1,3],    eq6==m[1,4],\n",
    "                                                            eq7==m[2,4]],d1,d2,d3,d4,d5,a12,a13,a14,a15,a23,a24,a25,a34,a35,a45, solution_dict=True)\n",
    "\n",
    "show(m)\n",
    "show(sol)\n",
    "latex(sol)"
   ]
  },
  {
   "cell_type": "code",
   "execution_count": 97,
   "metadata": {},
   "outputs": [
    {
     "data": {
      "text/html": [
       "<html><script type=\"math/tex; mode=display\">\\newcommand{\\Bold}[1]{\\mathbf{#1}}\\left(\\begin{array}{rrrrr}\n",
       "0 & 0 & 0 & 0 & 0 \\\\\n",
       "0 & 0 & 1 & 0 & 0 \\\\\n",
       "0 & 0 & 0 & 0 & 1 \\\\\n",
       "0 & 0 & 0 & 0 & 0 \\\\\n",
       "0 & 0 & 0 & 0 & 0\n",
       "\\end{array}\\right)</script></html>"
      ],
      "text/latex": [
       "$$\\newcommand{\\Bold}[1]{\\mathbf{#1}}\\left(\\begin{array}{rrrrr}\n",
       "0 & 0 & 0 & 0 & 0 \\\\\n",
       "0 & 0 & 1 & 0 & 0 \\\\\n",
       "0 & 0 & 0 & 0 & 1 \\\\\n",
       "0 & 0 & 0 & 0 & 0 \\\\\n",
       "0 & 0 & 0 & 0 & 0\n",
       "\\end{array}\\right)$$"
      ],
      "text/plain": [
       "[0 0 0 0 0]\n",
       "[0 0 1 0 0]\n",
       "[0 0 0 0 1]\n",
       "[0 0 0 0 0]\n",
       "[0 0 0 0 0]"
      ]
     },
     "metadata": {},
     "output_type": "display_data"
    },
    {
     "data": {
      "text/html": [
       "<html><script type=\"math/tex; mode=display\">\\newcommand{\\Bold}[1]{\\mathbf{#1}}\\left[\\left\\{d_{1} : r_{2249}, d_{2} : 0, d_{3} : 0, d_{4} : r_{2250}, d_{5} : 0, a_{12} : r_{2251}, a_{13} : r_{2252}, a_{14} : r_{2253}, a_{15} : r_{2254}, a_{23} : r_{2255}, a_{24} : r_{2256}, a_{25} : r_{2257}, a_{34} : -\\frac{r_{2250} x_{24}}{x_{23}}, a_{35} : r_{2258}, a_{45} : r_{2259}\\right\\}, \\left\\{d_{1} : r_{2260}, d_{2} : r_{2261}, d_{3} : \\frac{r_{2261}}{x_{23}}, d_{4} : r_{2262}, d_{5} : \\frac{r_{2261}}{x_{23} x_{35}}, a_{12} : \\frac{r_{2261} x_{13}}{x_{23}}, a_{13} : r_{2263}, a_{14} : r_{2264}, a_{15} : r_{2265}, a_{23} : \\frac{r_{2263} x_{23}^{2} x_{35} - r_{2261} x_{15} x_{23} + r_{2261} x_{13} x_{25}}{x_{13} x_{23} x_{35}}, a_{24} : r_{2266}, a_{25} : r_{2267}, a_{34} : -\\frac{r_{2262} x_{24}}{x_{23}}, a_{35} : r_{2268}, a_{45} : -\\frac{{\\left(r_{2268} x_{13} - r_{2263}\\right)} x_{23} x_{35} + r_{2261} x_{15}}{x_{13} x_{24} x_{35}}\\right\\}\\right]</script></html>"
      ],
      "text/latex": [
       "$$\\newcommand{\\Bold}[1]{\\mathbf{#1}}\\left[\\left\\{d_{1} : r_{2249}, d_{2} : 0, d_{3} : 0, d_{4} : r_{2250}, d_{5} : 0, a_{12} : r_{2251}, a_{13} : r_{2252}, a_{14} : r_{2253}, a_{15} : r_{2254}, a_{23} : r_{2255}, a_{24} : r_{2256}, a_{25} : r_{2257}, a_{34} : -\\frac{r_{2250} x_{24}}{x_{23}}, a_{35} : r_{2258}, a_{45} : r_{2259}\\right\\}, \\left\\{d_{1} : r_{2260}, d_{2} : r_{2261}, d_{3} : \\frac{r_{2261}}{x_{23}}, d_{4} : r_{2262}, d_{5} : \\frac{r_{2261}}{x_{23} x_{35}}, a_{12} : \\frac{r_{2261} x_{13}}{x_{23}}, a_{13} : r_{2263}, a_{14} : r_{2264}, a_{15} : r_{2265}, a_{23} : \\frac{r_{2263} x_{23}^{2} x_{35} - r_{2261} x_{15} x_{23} + r_{2261} x_{13} x_{25}}{x_{13} x_{23} x_{35}}, a_{24} : r_{2266}, a_{25} : r_{2267}, a_{34} : -\\frac{r_{2262} x_{24}}{x_{23}}, a_{35} : r_{2268}, a_{45} : -\\frac{{\\left(r_{2268} x_{13} - r_{2263}\\right)} x_{23} x_{35} + r_{2261} x_{15}}{x_{13} x_{24} x_{35}}\\right\\}\\right]$$"
      ],
      "text/plain": [
       "[{d1: r2249,\n",
       "  d2: 0,\n",
       "  d3: 0,\n",
       "  d4: r2250,\n",
       "  d5: 0,\n",
       "  a12: r2251,\n",
       "  a13: r2252,\n",
       "  a14: r2253,\n",
       "  a15: r2254,\n",
       "  a23: r2255,\n",
       "  a24: r2256,\n",
       "  a25: r2257,\n",
       "  a34: -r2250*x24/x23,\n",
       "  a35: r2258,\n",
       "  a45: r2259},\n",
       " {d1: r2260,\n",
       "  d2: r2261,\n",
       "  d3: r2261/x23,\n",
       "  d4: r2262,\n",
       "  d5: r2261/(x23*x35),\n",
       "  a12: r2261*x13/x23,\n",
       "  a13: r2263,\n",
       "  a14: r2264,\n",
       "  a15: r2265,\n",
       "  a23: (r2263*x23^2*x35 - r2261*x15*x23 + r2261*x13*x25)/(x13*x23*x35),\n",
       "  a24: r2266,\n",
       "  a25: r2267,\n",
       "  a34: -r2262*x24/x23,\n",
       "  a35: r2268,\n",
       "  a45: -((r2268*x13 - r2263)*x23*x35 + r2261*x15)/(x13*x24*x35)}]"
      ]
     },
     "metadata": {},
     "output_type": "display_data"
    },
    {
     "data": {
      "text/plain": [
       "\\left[\\left\\{d_{1} : r_{2249}, d_{2} : 0, d_{3} : 0, d_{4} : r_{2250}, d_{5} : 0, a_{12} : r_{2251}, a_{13} : r_{2252}, a_{14} : r_{2253}, a_{15} : r_{2254}, a_{23} : r_{2255}, a_{24} : r_{2256}, a_{25} : r_{2257}, a_{34} : -\\frac{r_{2250} x_{24}}{x_{23}}, a_{35} : r_{2258}, a_{45} : r_{2259}\\right\\}, \\left\\{d_{1} : r_{2260}, d_{2} : r_{2261}, d_{3} : \\frac{r_{2261}}{x_{23}}, d_{4} : r_{2262}, d_{5} : \\frac{r_{2261}}{x_{23} x_{35}}, a_{12} : \\frac{r_{2261} x_{13}}{x_{23}}, a_{13} : r_{2263}, a_{14} : r_{2264}, a_{15} : r_{2265}, a_{23} : \\frac{r_{2263} x_{23}^{2} x_{35} - r_{2261} x_{15} x_{23} + r_{2261} x_{13} x_{25}}{x_{13} x_{23} x_{35}}, a_{24} : r_{2266}, a_{25} : r_{2267}, a_{34} : -\\frac{r_{2262} x_{24}}{x_{23}}, a_{35} : r_{2268}, a_{45} : -\\frac{{\\left(r_{2268} x_{13} - r_{2263}\\right)} x_{23} x_{35} + r_{2261} x_{15}}{x_{13} x_{24} x_{35}}\\right\\}\\right]"
      ]
     },
     "execution_count": 97,
     "metadata": {},
     "output_type": "execute_result"
    }
   ],
   "source": [
    "#x3\n",
    "#----------------------\n",
    "#x14 = x13*x24/x23\n",
    "#----------------------\n",
    "reset()\n",
    "\n",
    "var('x12,x13,x14,x15,x23,x24,x25,x34,x35,x45')\n",
    "var('d1,d2,d3,d4,d5')\n",
    "var('a12,a13,a14,a15,a23,a24,a25,a34,a35,a45')\n",
    "\n",
    "eq1=(d2*d3*x13-a12*d3*x23)/(d1*d2) \n",
    "eq2=(a34*d2*x13+d2*d4*(x13*x24/x23)-a12*a34*x23-a12*d4*x24)/(d1*d2) \n",
    "eq3=(a35*d2*d3*x13+a45*d2*d3*(x13*x24/x23)+d2*d3*d5*x15-a12*a35*d3*x23-a12*a45*d3*x24-a12*d3*d5*x25+a12*a23*d5*x35-a13*d2*d5*x35)/(d1*d2*d3) \n",
    "eq4=(d3*x23)/(d2) \n",
    "eq5=(a34*x23+d4*x24)/(d2) \n",
    "eq6=(a35*d3*x23+a45*d3*x24+d3*d5*x25-a23*d5*x35)/(d2*d3) \n",
    "eq7=(d5*x35)/(d3) \n",
    "\n",
    "m=matrix(QQ, [[0, 0, 0, 0, 0],\n",
    "              [0, 0, 1, 0, 0],\n",
    "              [0, 0, 0, 0, 1],\n",
    "              [0, 0, 0, 0, 0],\n",
    "              [0, 0, 0, 0, 0]])\n",
    "        \n",
    "#entry of matrix: (i,j) line i collum j, means (i-1,j-1)\n",
    "sol=solve([ eq1==m[0,2],\teq2==m[0,3],\teq3==m[0,4],\teq4==m[1,2],\t\n",
    "                                            eq5==m[1,3],    eq6==m[1,4],\n",
    "                                                            eq7==m[2,4]],d1,d2,d3,d4,d5,a12,a13,a14,a15,a23,a24,a25,a34,a35,a45, solution_dict=True)\n",
    "\n",
    "show(m)\n",
    "show(sol)\n",
    "latex(sol)"
   ]
  },
  {
   "cell_type": "code",
   "execution_count": null,
   "metadata": {},
   "outputs": [],
   "source": []
  }
 ],
 "metadata": {
  "kernelspec": {
   "display_name": "SageMath 9.3",
   "language": "sage",
   "name": "sagemath"
  },
  "language_info": {
   "codemirror_mode": {
    "name": "ipython",
    "version": 3
   },
   "file_extension": ".py",
   "mimetype": "text/x-python",
   "name": "python",
   "nbconvert_exporter": "python",
   "pygments_lexer": "ipython3",
   "version": "3.7.10"
  }
 },
 "nbformat": 4,
 "nbformat_minor": 4
}
