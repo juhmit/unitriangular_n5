{
 "cells": [
  {
   "cell_type": "code",
   "execution_count": 1,
   "metadata": {
    "scrolled": true
   },
   "outputs": [
    {
     "data": {
      "text/html": [
       "<html><script type=\"math/tex; mode=display\">\\newcommand{\\Bold}[1]{\\mathbf{#1}}\\left(\\begin{array}{rrrrr}\n",
       "0 & 1 & 0 & 0 & 0 \\\\\n",
       "0 & 0 & 1 & 0 & 0 \\\\\n",
       "0 & 0 & 0 & 1 & 0 \\\\\n",
       "0 & 0 & 0 & 0 & 0 \\\\\n",
       "0 & 0 & 0 & 0 & 0\n",
       "\\end{array}\\right)</script></html>"
      ],
      "text/latex": [
       "$$\\newcommand{\\Bold}[1]{\\mathbf{#1}}\\left(\\begin{array}{rrrrr}\n",
       "0 & 1 & 0 & 0 & 0 \\\\\n",
       "0 & 0 & 1 & 0 & 0 \\\\\n",
       "0 & 0 & 0 & 1 & 0 \\\\\n",
       "0 & 0 & 0 & 0 & 0 \\\\\n",
       "0 & 0 & 0 & 0 & 0\n",
       "\\end{array}\\right)$$"
      ],
      "text/plain": [
       "[0 1 0 0 0]\n",
       "[0 0 1 0 0]\n",
       "[0 0 0 1 0]\n",
       "[0 0 0 0 0]\n",
       "[0 0 0 0 0]"
      ]
     },
     "metadata": {},
     "output_type": "display_data"
    },
    {
     "data": {
      "text/html": [
       "<html><script type=\"math/tex; mode=display\">\\newcommand{\\Bold}[1]{\\mathbf{#1}}\\left[\\left\\{d_{1} : 0, d_{2} : 0, d_{3} : 0, d_{4} : 0, d_{5} : r_{1}, a_{12} : r_{2}, a_{13} : r_{3}, a_{14} : r_{4}, a_{15} : r_{5}, a_{23} : r_{6}, a_{24} : r_{7}, a_{25} : r_{8}, a_{34} : r_{9}, a_{35} : r_{10}, a_{45} : 0\\right\\}, \\left\\{d_{1} : r_{11}, d_{2} : \\frac{r_{11}}{x_{12}}, d_{3} : \\frac{r_{11}}{x_{12} x_{23}}, d_{4} : \\frac{r_{11}}{x_{12} x_{23} x_{34}}, d_{5} : r_{12}, a_{12} : r_{13}, a_{13} : r_{14}, a_{14} : r_{15}, a_{15} : r_{16}, a_{23} : \\frac{r_{13}}{x_{12}}, a_{24} : \\frac{r_{14}}{x_{12}}, a_{25} : 0, a_{34} : \\frac{r_{13}}{x_{12} x_{23}}, a_{35} : 0, a_{45} : 0\\right\\}\\right]</script></html>"
      ],
      "text/latex": [
       "$$\\newcommand{\\Bold}[1]{\\mathbf{#1}}\\left[\\left\\{d_{1} : 0, d_{2} : 0, d_{3} : 0, d_{4} : 0, d_{5} : r_{1}, a_{12} : r_{2}, a_{13} : r_{3}, a_{14} : r_{4}, a_{15} : r_{5}, a_{23} : r_{6}, a_{24} : r_{7}, a_{25} : r_{8}, a_{34} : r_{9}, a_{35} : r_{10}, a_{45} : 0\\right\\}, \\left\\{d_{1} : r_{11}, d_{2} : \\frac{r_{11}}{x_{12}}, d_{3} : \\frac{r_{11}}{x_{12} x_{23}}, d_{4} : \\frac{r_{11}}{x_{12} x_{23} x_{34}}, d_{5} : r_{12}, a_{12} : r_{13}, a_{13} : r_{14}, a_{14} : r_{15}, a_{15} : r_{16}, a_{23} : \\frac{r_{13}}{x_{12}}, a_{24} : \\frac{r_{14}}{x_{12}}, a_{25} : 0, a_{34} : \\frac{r_{13}}{x_{12} x_{23}}, a_{35} : 0, a_{45} : 0\\right\\}\\right]$$"
      ],
      "text/plain": [
       "[{d1: 0,\n",
       "  d2: 0,\n",
       "  d3: 0,\n",
       "  d4: 0,\n",
       "  d5: r1,\n",
       "  a12: r2,\n",
       "  a13: r3,\n",
       "  a14: r4,\n",
       "  a15: r5,\n",
       "  a23: r6,\n",
       "  a24: r7,\n",
       "  a25: r8,\n",
       "  a34: r9,\n",
       "  a35: r10,\n",
       "  a45: 0},\n",
       " {d1: r11,\n",
       "  d2: r11/x12,\n",
       "  d3: r11/(x12*x23),\n",
       "  d4: r11/(x12*x23*x34),\n",
       "  d5: r12,\n",
       "  a12: r13,\n",
       "  a13: r14,\n",
       "  a14: r15,\n",
       "  a15: r16,\n",
       "  a23: r13/x12,\n",
       "  a24: r14/x12,\n",
       "  a25: 0,\n",
       "  a34: r13/(x12*x23),\n",
       "  a35: 0,\n",
       "  a45: 0}]"
      ]
     },
     "metadata": {},
     "output_type": "display_data"
    },
    {
     "data": {
      "text/plain": [
       "\\left[\\left\\{d_{1} : 0, d_{2} : 0, d_{3} : 0, d_{4} : 0, d_{5} : r_{1}, a_{12} : r_{2}, a_{13} : r_{3}, a_{14} : r_{4}, a_{15} : r_{5}, a_{23} : r_{6}, a_{24} : r_{7}, a_{25} : r_{8}, a_{34} : r_{9}, a_{35} : r_{10}, a_{45} : 0\\right\\}, \\left\\{d_{1} : r_{11}, d_{2} : \\frac{r_{11}}{x_{12}}, d_{3} : \\frac{r_{11}}{x_{12} x_{23}}, d_{4} : \\frac{r_{11}}{x_{12} x_{23} x_{34}}, d_{5} : r_{12}, a_{12} : r_{13}, a_{13} : r_{14}, a_{14} : r_{15}, a_{15} : r_{16}, a_{23} : \\frac{r_{13}}{x_{12}}, a_{24} : \\frac{r_{14}}{x_{12}}, a_{25} : 0, a_{34} : \\frac{r_{13}}{x_{12} x_{23}}, a_{35} : 0, a_{45} : 0\\right\\}\\right]"
      ]
     },
     "execution_count": 1,
     "metadata": {},
     "output_type": "execute_result"
    }
   ],
   "source": [
    "#x7\n",
    "reset()\n",
    "\n",
    "var('x12,x13,x14,x15,x23,x24,x25,x34,x35,x45')\n",
    "var('d1,d2,d3,d4,d5')\n",
    "var('a12,a13,a14,a15,a23,a24,a25,a34,a35,a45')\n",
    "\n",
    "load_attach_path('C:\\\\Users\\\\julia\\\\Documents\\\\unb\\\\doutorado\\\\pensar\\\\codigo_sage_v2\\\\maquina\\\\x7')\n",
    "load('out_#000000.sage')\n",
    "\n",
    "m=matrix(QQ, [[0, 1, 0, 0, 0],\n",
    "              [0, 0, 1, 0, 0],\n",
    "              [0, 0, 0, 1, 0],\n",
    "              [0, 0, 0, 0, 0],\n",
    "              [0, 0, 0, 0, 0]])\n",
    "        \n",
    "#entry of matrix: (i,j) line i collum j, means (i-1,j-1)\n",
    "sol=solve([ eq1==m[0,1],\teq2==m[0,2],\teq3==m[0,3],\teq4==m[0,4],\t\n",
    "                                            eq5==m[1,2],    eq6==m[1,3],\n",
    "                                                            eq7==m[1,4], eq8==m[2,3], eq9==m[2,4]],d1,d2,d3,d4,d5,a12,a13,a14,a15,a23,a24,a25,a34,a35,a45, solution_dict=True)\n",
    "\n",
    "show(m)\n",
    "show(sol)\n",
    "latex(sol)"
   ]
  },
  {
   "cell_type": "code",
   "execution_count": 1,
   "metadata": {},
   "outputs": [
    {
     "data": {
      "text/html": [
       "<html><script type=\"math/tex; mode=display\">\\newcommand{\\Bold}[1]{\\mathbf{#1}}\\left(\\begin{array}{rrrrr}\n",
       "0 & 1 & 0 & 0 & 0 \\\\\n",
       "0 & 0 & 1 & 0 & 0 \\\\\n",
       "0 & 0 & 0 & 1 & 0 \\\\\n",
       "0 & 0 & 0 & 0 & 0 \\\\\n",
       "0 & 0 & 0 & 0 & 0\n",
       "\\end{array}\\right)</script></html>"
      ],
      "text/latex": [
       "$$\\newcommand{\\Bold}[1]{\\mathbf{#1}}\\left(\\begin{array}{rrrrr}\n",
       "0 & 1 & 0 & 0 & 0 \\\\\n",
       "0 & 0 & 1 & 0 & 0 \\\\\n",
       "0 & 0 & 0 & 1 & 0 \\\\\n",
       "0 & 0 & 0 & 0 & 0 \\\\\n",
       "0 & 0 & 0 & 0 & 0\n",
       "\\end{array}\\right)$$"
      ],
      "text/plain": [
       "[0 1 0 0 0]\n",
       "[0 0 1 0 0]\n",
       "[0 0 0 1 0]\n",
       "[0 0 0 0 0]\n",
       "[0 0 0 0 0]"
      ]
     },
     "metadata": {},
     "output_type": "display_data"
    },
    {
     "data": {
      "text/html": [
       "<html><script type=\"math/tex; mode=display\">\\newcommand{\\Bold}[1]{\\mathbf{#1}}\\left[\\left\\{d_{1} : 0, d_{2} : 0, d_{3} : 0, d_{4} : 0, d_{5} : r_{1}, a_{12} : r_{2}, a_{13} : r_{3}, a_{14} : r_{4}, a_{15} : r_{5}, a_{23} : r_{6}, a_{24} : r_{7}, a_{25} : r_{8}, a_{34} : r_{9}, a_{35} : r_{10}, a_{45} : 0\\right\\}, \\left\\{d_{1} : r_{11}, d_{2} : \\frac{r_{11}}{x_{12}}, d_{3} : \\frac{r_{11}}{x_{12} x_{23}}, d_{4} : \\frac{r_{11}}{x_{12} x_{23} x_{34}}, d_{5} : r_{12}, a_{12} : r_{13}, a_{13} : r_{14}, a_{14} : r_{15}, a_{15} : r_{16}, a_{23} : \\frac{r_{13}}{x_{12}}, a_{24} : \\frac{r_{14}}{x_{12}}, a_{25} : -\\frac{r_{12} x_{15}}{x_{12}}, a_{34} : \\frac{r_{13}}{x_{12} x_{23}}, a_{35} : 0, a_{45} : 0\\right\\}\\right]</script></html>"
      ],
      "text/latex": [
       "$$\\newcommand{\\Bold}[1]{\\mathbf{#1}}\\left[\\left\\{d_{1} : 0, d_{2} : 0, d_{3} : 0, d_{4} : 0, d_{5} : r_{1}, a_{12} : r_{2}, a_{13} : r_{3}, a_{14} : r_{4}, a_{15} : r_{5}, a_{23} : r_{6}, a_{24} : r_{7}, a_{25} : r_{8}, a_{34} : r_{9}, a_{35} : r_{10}, a_{45} : 0\\right\\}, \\left\\{d_{1} : r_{11}, d_{2} : \\frac{r_{11}}{x_{12}}, d_{3} : \\frac{r_{11}}{x_{12} x_{23}}, d_{4} : \\frac{r_{11}}{x_{12} x_{23} x_{34}}, d_{5} : r_{12}, a_{12} : r_{13}, a_{13} : r_{14}, a_{14} : r_{15}, a_{15} : r_{16}, a_{23} : \\frac{r_{13}}{x_{12}}, a_{24} : \\frac{r_{14}}{x_{12}}, a_{25} : -\\frac{r_{12} x_{15}}{x_{12}}, a_{34} : \\frac{r_{13}}{x_{12} x_{23}}, a_{35} : 0, a_{45} : 0\\right\\}\\right]$$"
      ],
      "text/plain": [
       "[{d1: 0,\n",
       "  d2: 0,\n",
       "  d3: 0,\n",
       "  d4: 0,\n",
       "  d5: r1,\n",
       "  a12: r2,\n",
       "  a13: r3,\n",
       "  a14: r4,\n",
       "  a15: r5,\n",
       "  a23: r6,\n",
       "  a24: r7,\n",
       "  a25: r8,\n",
       "  a34: r9,\n",
       "  a35: r10,\n",
       "  a45: 0},\n",
       " {d1: r11,\n",
       "  d2: r11/x12,\n",
       "  d3: r11/(x12*x23),\n",
       "  d4: r11/(x12*x23*x34),\n",
       "  d5: r12,\n",
       "  a12: r13,\n",
       "  a13: r14,\n",
       "  a14: r15,\n",
       "  a15: r16,\n",
       "  a23: r13/x12,\n",
       "  a24: r14/x12,\n",
       "  a25: -r12*x15/x12,\n",
       "  a34: r13/(x12*x23),\n",
       "  a35: 0,\n",
       "  a45: 0}]"
      ]
     },
     "metadata": {},
     "output_type": "display_data"
    },
    {
     "data": {
      "text/plain": [
       "\\left[\\left\\{d_{1} : 0, d_{2} : 0, d_{3} : 0, d_{4} : 0, d_{5} : r_{1}, a_{12} : r_{2}, a_{13} : r_{3}, a_{14} : r_{4}, a_{15} : r_{5}, a_{23} : r_{6}, a_{24} : r_{7}, a_{25} : r_{8}, a_{34} : r_{9}, a_{35} : r_{10}, a_{45} : 0\\right\\}, \\left\\{d_{1} : r_{11}, d_{2} : \\frac{r_{11}}{x_{12}}, d_{3} : \\frac{r_{11}}{x_{12} x_{23}}, d_{4} : \\frac{r_{11}}{x_{12} x_{23} x_{34}}, d_{5} : r_{12}, a_{12} : r_{13}, a_{13} : r_{14}, a_{14} : r_{15}, a_{15} : r_{16}, a_{23} : \\frac{r_{13}}{x_{12}}, a_{24} : \\frac{r_{14}}{x_{12}}, a_{25} : -\\frac{r_{12} x_{15}}{x_{12}}, a_{34} : \\frac{r_{13}}{x_{12} x_{23}}, a_{35} : 0, a_{45} : 0\\right\\}\\right]"
      ]
     },
     "execution_count": 1,
     "metadata": {},
     "output_type": "execute_result"
    }
   ],
   "source": [
    "#x7\n",
    "reset()\n",
    "\n",
    "var('x12,x13,x14,x15,x23,x24,x25,x34,x35,x45')\n",
    "var('d1,d2,d3,d4,d5')\n",
    "var('a12,a13,a14,a15,a23,a24,a25,a34,a35,a45')\n",
    "\n",
    "load_attach_path('C:\\\\Users\\\\julia\\\\Documents\\\\unb\\\\doutorado\\\\pensar\\\\codigo_sage_v2\\\\maquina\\\\x7')\n",
    "load('out_#000001.sage')\n",
    "\n",
    "m=matrix(QQ, [[0, 1, 0, 0, 0],\n",
    "              [0, 0, 1, 0, 0],\n",
    "              [0, 0, 0, 1, 0],\n",
    "              [0, 0, 0, 0, 0],\n",
    "              [0, 0, 0, 0, 0]])\n",
    "        \n",
    "#entry of matrix: (i,j) line i collum j, means (i-1,j-1)\n",
    "sol=solve([ eq1==m[0,1],\teq2==m[0,2],\teq3==m[0,3],\teq4==m[0,4],\t\n",
    "                                            eq5==m[1,2],    eq6==m[1,3],\n",
    "                                                            eq7==m[1,4], eq8==m[2,3], eq9==m[2,4]],d1,d2,d3,d4,d5,a12,a13,a14,a15,a23,a24,a25,a34,a35,a45, solution_dict=True)\n",
    "\n",
    "show(m)\n",
    "show(sol)\n",
    "latex(sol)"
   ]
  },
  {
   "cell_type": "code",
   "execution_count": 2,
   "metadata": {},
   "outputs": [
    {
     "data": {
      "text/html": [
       "<html><script type=\"math/tex; mode=display\">\\newcommand{\\Bold}[1]{\\mathbf{#1}}\\left(\\begin{array}{rrrrr}\n",
       "0 & 1 & 0 & 0 & 0 \\\\\n",
       "0 & 0 & 1 & 0 & 0 \\\\\n",
       "0 & 0 & 0 & 1 & 0 \\\\\n",
       "0 & 0 & 0 & 0 & 0 \\\\\n",
       "0 & 0 & 0 & 0 & 0\n",
       "\\end{array}\\right)</script></html>"
      ],
      "text/latex": [
       "$$\\newcommand{\\Bold}[1]{\\mathbf{#1}}\\left(\\begin{array}{rrrrr}\n",
       "0 & 1 & 0 & 0 & 0 \\\\\n",
       "0 & 0 & 1 & 0 & 0 \\\\\n",
       "0 & 0 & 0 & 1 & 0 \\\\\n",
       "0 & 0 & 0 & 0 & 0 \\\\\n",
       "0 & 0 & 0 & 0 & 0\n",
       "\\end{array}\\right)$$"
      ],
      "text/plain": [
       "[0 1 0 0 0]\n",
       "[0 0 1 0 0]\n",
       "[0 0 0 1 0]\n",
       "[0 0 0 0 0]\n",
       "[0 0 0 0 0]"
      ]
     },
     "metadata": {},
     "output_type": "display_data"
    },
    {
     "data": {
      "text/html": [
       "<html><script type=\"math/tex; mode=display\">\\newcommand{\\Bold}[1]{\\mathbf{#1}}\\left[\\left\\{d_{1} : 0, d_{2} : 0, d_{3} : 0, d_{4} : 0, d_{5} : r_{17}, a_{12} : r_{18}, a_{13} : r_{19}, a_{14} : r_{20}, a_{15} : r_{21}, a_{23} : r_{22}, a_{24} : r_{23}, a_{25} : r_{24}, a_{34} : r_{25}, a_{35} : r_{26}, a_{45} : 0\\right\\}, \\left\\{d_{1} : r_{27}, d_{2} : \\frac{r_{27}}{x_{12}}, d_{3} : \\frac{r_{27}}{x_{12} x_{23}}, d_{4} : \\frac{r_{27}}{x_{12} x_{23} x_{34}}, d_{5} : r_{28}, a_{12} : r_{29}, a_{13} : r_{30}, a_{14} : r_{31}, a_{15} : r_{32}, a_{23} : \\frac{r_{29}}{x_{12}}, a_{24} : \\frac{r_{30} x_{12} x_{23} x_{34} - r_{27} x_{14}}{x_{12}^{2} x_{23} x_{34}}, a_{25} : 0, a_{34} : \\frac{r_{29}}{x_{12} x_{23}}, a_{35} : 0, a_{45} : 0\\right\\}\\right]</script></html>"
      ],
      "text/latex": [
       "$$\\newcommand{\\Bold}[1]{\\mathbf{#1}}\\left[\\left\\{d_{1} : 0, d_{2} : 0, d_{3} : 0, d_{4} : 0, d_{5} : r_{17}, a_{12} : r_{18}, a_{13} : r_{19}, a_{14} : r_{20}, a_{15} : r_{21}, a_{23} : r_{22}, a_{24} : r_{23}, a_{25} : r_{24}, a_{34} : r_{25}, a_{35} : r_{26}, a_{45} : 0\\right\\}, \\left\\{d_{1} : r_{27}, d_{2} : \\frac{r_{27}}{x_{12}}, d_{3} : \\frac{r_{27}}{x_{12} x_{23}}, d_{4} : \\frac{r_{27}}{x_{12} x_{23} x_{34}}, d_{5} : r_{28}, a_{12} : r_{29}, a_{13} : r_{30}, a_{14} : r_{31}, a_{15} : r_{32}, a_{23} : \\frac{r_{29}}{x_{12}}, a_{24} : \\frac{r_{30} x_{12} x_{23} x_{34} - r_{27} x_{14}}{x_{12}^{2} x_{23} x_{34}}, a_{25} : 0, a_{34} : \\frac{r_{29}}{x_{12} x_{23}}, a_{35} : 0, a_{45} : 0\\right\\}\\right]$$"
      ],
      "text/plain": [
       "[{d1: 0,\n",
       "  d2: 0,\n",
       "  d3: 0,\n",
       "  d4: 0,\n",
       "  d5: r17,\n",
       "  a12: r18,\n",
       "  a13: r19,\n",
       "  a14: r20,\n",
       "  a15: r21,\n",
       "  a23: r22,\n",
       "  a24: r23,\n",
       "  a25: r24,\n",
       "  a34: r25,\n",
       "  a35: r26,\n",
       "  a45: 0},\n",
       " {d1: r27,\n",
       "  d2: r27/x12,\n",
       "  d3: r27/(x12*x23),\n",
       "  d4: r27/(x12*x23*x34),\n",
       "  d5: r28,\n",
       "  a12: r29,\n",
       "  a13: r30,\n",
       "  a14: r31,\n",
       "  a15: r32,\n",
       "  a23: r29/x12,\n",
       "  a24: (r30*x12*x23*x34 - r27*x14)/(x12^2*x23*x34),\n",
       "  a25: 0,\n",
       "  a34: r29/(x12*x23),\n",
       "  a35: 0,\n",
       "  a45: 0}]"
      ]
     },
     "metadata": {},
     "output_type": "display_data"
    },
    {
     "data": {
      "text/plain": [
       "\\left[\\left\\{d_{1} : 0, d_{2} : 0, d_{3} : 0, d_{4} : 0, d_{5} : r_{17}, a_{12} : r_{18}, a_{13} : r_{19}, a_{14} : r_{20}, a_{15} : r_{21}, a_{23} : r_{22}, a_{24} : r_{23}, a_{25} : r_{24}, a_{34} : r_{25}, a_{35} : r_{26}, a_{45} : 0\\right\\}, \\left\\{d_{1} : r_{27}, d_{2} : \\frac{r_{27}}{x_{12}}, d_{3} : \\frac{r_{27}}{x_{12} x_{23}}, d_{4} : \\frac{r_{27}}{x_{12} x_{23} x_{34}}, d_{5} : r_{28}, a_{12} : r_{29}, a_{13} : r_{30}, a_{14} : r_{31}, a_{15} : r_{32}, a_{23} : \\frac{r_{29}}{x_{12}}, a_{24} : \\frac{r_{30} x_{12} x_{23} x_{34} - r_{27} x_{14}}{x_{12}^{2} x_{23} x_{34}}, a_{25} : 0, a_{34} : \\frac{r_{29}}{x_{12} x_{23}}, a_{35} : 0, a_{45} : 0\\right\\}\\right]"
      ]
     },
     "execution_count": 2,
     "metadata": {},
     "output_type": "execute_result"
    }
   ],
   "source": [
    "#x7\n",
    "reset()\n",
    "\n",
    "var('x12,x13,x14,x15,x23,x24,x25,x34,x35,x45')\n",
    "var('d1,d2,d3,d4,d5')\n",
    "var('a12,a13,a14,a15,a23,a24,a25,a34,a35,a45')\n",
    "\n",
    "load_attach_path('C:\\\\Users\\\\julia\\\\Documents\\\\unb\\\\doutorado\\\\pensar\\\\codigo_sage_v2\\\\maquina\\\\x7')\n",
    "load('out_#000010.sage')\n",
    "\n",
    "m=matrix(QQ, [[0, 1, 0, 0, 0],\n",
    "              [0, 0, 1, 0, 0],\n",
    "              [0, 0, 0, 1, 0],\n",
    "              [0, 0, 0, 0, 0],\n",
    "              [0, 0, 0, 0, 0]])\n",
    "        \n",
    "#entry of matrix: (i,j) line i collum j, means (i-1,j-1)\n",
    "sol=solve([ eq1==m[0,1],\teq2==m[0,2],\teq3==m[0,3],\teq4==m[0,4],\t\n",
    "                                            eq5==m[1,2],    eq6==m[1,3],\n",
    "                                                            eq7==m[1,4], eq8==m[2,3], eq9==m[2,4]],d1,d2,d3,d4,d5,a12,a13,a14,a15,a23,a24,a25,a34,a35,a45, solution_dict=True)\n",
    "\n",
    "show(m)\n",
    "show(sol)\n",
    "latex(sol)"
   ]
  },
  {
   "cell_type": "code",
   "execution_count": 3,
   "metadata": {},
   "outputs": [
    {
     "data": {
      "text/html": [
       "<html><script type=\"math/tex; mode=display\">\\newcommand{\\Bold}[1]{\\mathbf{#1}}\\left(\\begin{array}{rrrrr}\n",
       "0 & 1 & 0 & 0 & 0 \\\\\n",
       "0 & 0 & 1 & 0 & 0 \\\\\n",
       "0 & 0 & 0 & 1 & 0 \\\\\n",
       "0 & 0 & 0 & 0 & 0 \\\\\n",
       "0 & 0 & 0 & 0 & 0\n",
       "\\end{array}\\right)</script></html>"
      ],
      "text/latex": [
       "$$\\newcommand{\\Bold}[1]{\\mathbf{#1}}\\left(\\begin{array}{rrrrr}\n",
       "0 & 1 & 0 & 0 & 0 \\\\\n",
       "0 & 0 & 1 & 0 & 0 \\\\\n",
       "0 & 0 & 0 & 1 & 0 \\\\\n",
       "0 & 0 & 0 & 0 & 0 \\\\\n",
       "0 & 0 & 0 & 0 & 0\n",
       "\\end{array}\\right)$$"
      ],
      "text/plain": [
       "[0 1 0 0 0]\n",
       "[0 0 1 0 0]\n",
       "[0 0 0 1 0]\n",
       "[0 0 0 0 0]\n",
       "[0 0 0 0 0]"
      ]
     },
     "metadata": {},
     "output_type": "display_data"
    },
    {
     "data": {
      "text/html": [
       "<html><script type=\"math/tex; mode=display\">\\newcommand{\\Bold}[1]{\\mathbf{#1}}\\left[\\left\\{d_{1} : 0, d_{2} : 0, d_{3} : 0, d_{4} : 0, d_{5} : r_{33}, a_{12} : r_{34}, a_{13} : r_{35}, a_{14} : r_{36}, a_{15} : r_{37}, a_{23} : r_{38}, a_{24} : r_{39}, a_{25} : r_{40}, a_{34} : r_{41}, a_{35} : r_{42}, a_{45} : 0\\right\\}, \\left\\{d_{1} : r_{43}, d_{2} : \\frac{r_{43}}{x_{12}}, d_{3} : \\frac{r_{43}}{x_{12} x_{23}}, d_{4} : \\frac{r_{43}}{x_{12} x_{23} x_{34}}, d_{5} : r_{44}, a_{12} : r_{45}, a_{13} : r_{46}, a_{14} : r_{47}, a_{15} : r_{48}, a_{23} : \\frac{r_{45}}{x_{12}}, a_{24} : \\frac{r_{46} x_{12} x_{23} x_{34} - r_{43} x_{14}}{x_{12}^{2} x_{23} x_{34}}, a_{25} : -\\frac{r_{44} x_{15}}{x_{12}}, a_{34} : \\frac{r_{45}}{x_{12} x_{23}}, a_{35} : 0, a_{45} : 0\\right\\}\\right]</script></html>"
      ],
      "text/latex": [
       "$$\\newcommand{\\Bold}[1]{\\mathbf{#1}}\\left[\\left\\{d_{1} : 0, d_{2} : 0, d_{3} : 0, d_{4} : 0, d_{5} : r_{33}, a_{12} : r_{34}, a_{13} : r_{35}, a_{14} : r_{36}, a_{15} : r_{37}, a_{23} : r_{38}, a_{24} : r_{39}, a_{25} : r_{40}, a_{34} : r_{41}, a_{35} : r_{42}, a_{45} : 0\\right\\}, \\left\\{d_{1} : r_{43}, d_{2} : \\frac{r_{43}}{x_{12}}, d_{3} : \\frac{r_{43}}{x_{12} x_{23}}, d_{4} : \\frac{r_{43}}{x_{12} x_{23} x_{34}}, d_{5} : r_{44}, a_{12} : r_{45}, a_{13} : r_{46}, a_{14} : r_{47}, a_{15} : r_{48}, a_{23} : \\frac{r_{45}}{x_{12}}, a_{24} : \\frac{r_{46} x_{12} x_{23} x_{34} - r_{43} x_{14}}{x_{12}^{2} x_{23} x_{34}}, a_{25} : -\\frac{r_{44} x_{15}}{x_{12}}, a_{34} : \\frac{r_{45}}{x_{12} x_{23}}, a_{35} : 0, a_{45} : 0\\right\\}\\right]$$"
      ],
      "text/plain": [
       "[{d1: 0,\n",
       "  d2: 0,\n",
       "  d3: 0,\n",
       "  d4: 0,\n",
       "  d5: r33,\n",
       "  a12: r34,\n",
       "  a13: r35,\n",
       "  a14: r36,\n",
       "  a15: r37,\n",
       "  a23: r38,\n",
       "  a24: r39,\n",
       "  a25: r40,\n",
       "  a34: r41,\n",
       "  a35: r42,\n",
       "  a45: 0},\n",
       " {d1: r43,\n",
       "  d2: r43/x12,\n",
       "  d3: r43/(x12*x23),\n",
       "  d4: r43/(x12*x23*x34),\n",
       "  d5: r44,\n",
       "  a12: r45,\n",
       "  a13: r46,\n",
       "  a14: r47,\n",
       "  a15: r48,\n",
       "  a23: r45/x12,\n",
       "  a24: (r46*x12*x23*x34 - r43*x14)/(x12^2*x23*x34),\n",
       "  a25: -r44*x15/x12,\n",
       "  a34: r45/(x12*x23),\n",
       "  a35: 0,\n",
       "  a45: 0}]"
      ]
     },
     "metadata": {},
     "output_type": "display_data"
    },
    {
     "data": {
      "text/plain": [
       "\\left[\\left\\{d_{1} : 0, d_{2} : 0, d_{3} : 0, d_{4} : 0, d_{5} : r_{33}, a_{12} : r_{34}, a_{13} : r_{35}, a_{14} : r_{36}, a_{15} : r_{37}, a_{23} : r_{38}, a_{24} : r_{39}, a_{25} : r_{40}, a_{34} : r_{41}, a_{35} : r_{42}, a_{45} : 0\\right\\}, \\left\\{d_{1} : r_{43}, d_{2} : \\frac{r_{43}}{x_{12}}, d_{3} : \\frac{r_{43}}{x_{12} x_{23}}, d_{4} : \\frac{r_{43}}{x_{12} x_{23} x_{34}}, d_{5} : r_{44}, a_{12} : r_{45}, a_{13} : r_{46}, a_{14} : r_{47}, a_{15} : r_{48}, a_{23} : \\frac{r_{45}}{x_{12}}, a_{24} : \\frac{r_{46} x_{12} x_{23} x_{34} - r_{43} x_{14}}{x_{12}^{2} x_{23} x_{34}}, a_{25} : -\\frac{r_{44} x_{15}}{x_{12}}, a_{34} : \\frac{r_{45}}{x_{12} x_{23}}, a_{35} : 0, a_{45} : 0\\right\\}\\right]"
      ]
     },
     "execution_count": 3,
     "metadata": {},
     "output_type": "execute_result"
    }
   ],
   "source": [
    "#x7\n",
    "reset()\n",
    "\n",
    "var('x12,x13,x14,x15,x23,x24,x25,x34,x35,x45')\n",
    "var('d1,d2,d3,d4,d5')\n",
    "var('a12,a13,a14,a15,a23,a24,a25,a34,a35,a45')\n",
    "\n",
    "load_attach_path('C:\\\\Users\\\\julia\\\\Documents\\\\unb\\\\doutorado\\\\pensar\\\\codigo_sage_v2\\\\maquina\\\\x7')\n",
    "load('out_#000011.sage')\n",
    "\n",
    "m=matrix(QQ, [[0, 1, 0, 0, 0],\n",
    "              [0, 0, 1, 0, 0],\n",
    "              [0, 0, 0, 1, 0],\n",
    "              [0, 0, 0, 0, 0],\n",
    "              [0, 0, 0, 0, 0]])\n",
    "        \n",
    "#entry of matrix: (i,j) line i collum j, means (i-1,j-1)\n",
    "sol=solve([ eq1==m[0,1],\teq2==m[0,2],\teq3==m[0,3],\teq4==m[0,4],\t\n",
    "                                            eq5==m[1,2],    eq6==m[1,3],\n",
    "                                                            eq7==m[1,4], eq8==m[2,3], eq9==m[2,4]],d1,d2,d3,d4,d5,a12,a13,a14,a15,a23,a24,a25,a34,a35,a45, solution_dict=True)\n",
    "\n",
    "show(m)\n",
    "show(sol)\n",
    "latex(sol)"
   ]
  },
  {
   "cell_type": "code",
   "execution_count": 4,
   "metadata": {},
   "outputs": [
    {
     "data": {
      "text/html": [
       "<html><script type=\"math/tex; mode=display\">\\newcommand{\\Bold}[1]{\\mathbf{#1}}\\left(\\begin{array}{rrrrr}\n",
       "0 & 1 & 0 & 0 & 0 \\\\\n",
       "0 & 0 & 1 & 0 & 0 \\\\\n",
       "0 & 0 & 0 & 1 & 0 \\\\\n",
       "0 & 0 & 0 & 0 & 0 \\\\\n",
       "0 & 0 & 0 & 0 & 0\n",
       "\\end{array}\\right)</script></html>"
      ],
      "text/latex": [
       "$$\\newcommand{\\Bold}[1]{\\mathbf{#1}}\\left(\\begin{array}{rrrrr}\n",
       "0 & 1 & 0 & 0 & 0 \\\\\n",
       "0 & 0 & 1 & 0 & 0 \\\\\n",
       "0 & 0 & 0 & 1 & 0 \\\\\n",
       "0 & 0 & 0 & 0 & 0 \\\\\n",
       "0 & 0 & 0 & 0 & 0\n",
       "\\end{array}\\right)$$"
      ],
      "text/plain": [
       "[0 1 0 0 0]\n",
       "[0 0 1 0 0]\n",
       "[0 0 0 1 0]\n",
       "[0 0 0 0 0]\n",
       "[0 0 0 0 0]"
      ]
     },
     "metadata": {},
     "output_type": "display_data"
    },
    {
     "data": {
      "text/html": [
       "<html><script type=\"math/tex; mode=display\">\\newcommand{\\Bold}[1]{\\mathbf{#1}}\\left[\\left\\{d_{1} : 0, d_{2} : 0, d_{3} : 0, d_{4} : 0, d_{5} : r_{49}, a_{12} : r_{50}, a_{13} : r_{51}, a_{14} : r_{52}, a_{15} : r_{53}, a_{23} : r_{54}, a_{24} : r_{55}, a_{25} : r_{56}, a_{34} : r_{57}, a_{35} : r_{58}, a_{45} : 0\\right\\}, \\left\\{d_{1} : r_{59}, d_{2} : \\frac{r_{59}}{x_{12}}, d_{3} : \\frac{r_{59}}{x_{12} x_{23}}, d_{4} : \\frac{r_{59}}{x_{12} x_{23} x_{34}}, d_{5} : r_{60}, a_{12} : r_{61}, a_{13} : r_{62}, a_{14} : r_{63}, a_{15} : r_{64}, a_{23} : \\frac{r_{61} x_{12} x_{23} - r_{59} x_{13}}{x_{12}^{2} x_{23}}, a_{24} : \\frac{r_{62} x_{12}^{2} x_{23}^{2} - r_{61} x_{12} x_{13} x_{23} + r_{59} x_{13}^{2}}{x_{12}^{3} x_{23}^{2}}, a_{25} : 0, a_{34} : \\frac{r_{61} x_{12} x_{23} - r_{59} x_{13}}{x_{12}^{2} x_{23}^{2}}, a_{35} : 0, a_{45} : 0\\right\\}\\right]</script></html>"
      ],
      "text/latex": [
       "$$\\newcommand{\\Bold}[1]{\\mathbf{#1}}\\left[\\left\\{d_{1} : 0, d_{2} : 0, d_{3} : 0, d_{4} : 0, d_{5} : r_{49}, a_{12} : r_{50}, a_{13} : r_{51}, a_{14} : r_{52}, a_{15} : r_{53}, a_{23} : r_{54}, a_{24} : r_{55}, a_{25} : r_{56}, a_{34} : r_{57}, a_{35} : r_{58}, a_{45} : 0\\right\\}, \\left\\{d_{1} : r_{59}, d_{2} : \\frac{r_{59}}{x_{12}}, d_{3} : \\frac{r_{59}}{x_{12} x_{23}}, d_{4} : \\frac{r_{59}}{x_{12} x_{23} x_{34}}, d_{5} : r_{60}, a_{12} : r_{61}, a_{13} : r_{62}, a_{14} : r_{63}, a_{15} : r_{64}, a_{23} : \\frac{r_{61} x_{12} x_{23} - r_{59} x_{13}}{x_{12}^{2} x_{23}}, a_{24} : \\frac{r_{62} x_{12}^{2} x_{23}^{2} - r_{61} x_{12} x_{13} x_{23} + r_{59} x_{13}^{2}}{x_{12}^{3} x_{23}^{2}}, a_{25} : 0, a_{34} : \\frac{r_{61} x_{12} x_{23} - r_{59} x_{13}}{x_{12}^{2} x_{23}^{2}}, a_{35} : 0, a_{45} : 0\\right\\}\\right]$$"
      ],
      "text/plain": [
       "[{d1: 0,\n",
       "  d2: 0,\n",
       "  d3: 0,\n",
       "  d4: 0,\n",
       "  d5: r49,\n",
       "  a12: r50,\n",
       "  a13: r51,\n",
       "  a14: r52,\n",
       "  a15: r53,\n",
       "  a23: r54,\n",
       "  a24: r55,\n",
       "  a25: r56,\n",
       "  a34: r57,\n",
       "  a35: r58,\n",
       "  a45: 0},\n",
       " {d1: r59,\n",
       "  d2: r59/x12,\n",
       "  d3: r59/(x12*x23),\n",
       "  d4: r59/(x12*x23*x34),\n",
       "  d5: r60,\n",
       "  a12: r61,\n",
       "  a13: r62,\n",
       "  a14: r63,\n",
       "  a15: r64,\n",
       "  a23: (r61*x12*x23 - r59*x13)/(x12^2*x23),\n",
       "  a24: (r62*x12^2*x23^2 - r61*x12*x13*x23 + r59*x13^2)/(x12^3*x23^2),\n",
       "  a25: 0,\n",
       "  a34: (r61*x12*x23 - r59*x13)/(x12^2*x23^2),\n",
       "  a35: 0,\n",
       "  a45: 0}]"
      ]
     },
     "metadata": {},
     "output_type": "display_data"
    },
    {
     "data": {
      "text/plain": [
       "\\left[\\left\\{d_{1} : 0, d_{2} : 0, d_{3} : 0, d_{4} : 0, d_{5} : r_{49}, a_{12} : r_{50}, a_{13} : r_{51}, a_{14} : r_{52}, a_{15} : r_{53}, a_{23} : r_{54}, a_{24} : r_{55}, a_{25} : r_{56}, a_{34} : r_{57}, a_{35} : r_{58}, a_{45} : 0\\right\\}, \\left\\{d_{1} : r_{59}, d_{2} : \\frac{r_{59}}{x_{12}}, d_{3} : \\frac{r_{59}}{x_{12} x_{23}}, d_{4} : \\frac{r_{59}}{x_{12} x_{23} x_{34}}, d_{5} : r_{60}, a_{12} : r_{61}, a_{13} : r_{62}, a_{14} : r_{63}, a_{15} : r_{64}, a_{23} : \\frac{r_{61} x_{12} x_{23} - r_{59} x_{13}}{x_{12}^{2} x_{23}}, a_{24} : \\frac{r_{62} x_{12}^{2} x_{23}^{2} - r_{61} x_{12} x_{13} x_{23} + r_{59} x_{13}^{2}}{x_{12}^{3} x_{23}^{2}}, a_{25} : 0, a_{34} : \\frac{r_{61} x_{12} x_{23} - r_{59} x_{13}}{x_{12}^{2} x_{23}^{2}}, a_{35} : 0, a_{45} : 0\\right\\}\\right]"
      ]
     },
     "execution_count": 4,
     "metadata": {},
     "output_type": "execute_result"
    }
   ],
   "source": [
    "#x7\n",
    "reset()\n",
    "\n",
    "var('x12,x13,x14,x15,x23,x24,x25,x34,x35,x45')\n",
    "var('d1,d2,d3,d4,d5')\n",
    "var('a12,a13,a14,a15,a23,a24,a25,a34,a35,a45')\n",
    "\n",
    "load_attach_path('C:\\\\Users\\\\julia\\\\Documents\\\\unb\\\\doutorado\\\\pensar\\\\codigo_sage_v2\\\\maquina\\\\x7')\n",
    "load('out_#000100.sage')\n",
    "\n",
    "m=matrix(QQ, [[0, 1, 0, 0, 0],\n",
    "              [0, 0, 1, 0, 0],\n",
    "              [0, 0, 0, 1, 0],\n",
    "              [0, 0, 0, 0, 0],\n",
    "              [0, 0, 0, 0, 0]])\n",
    "        \n",
    "#entry of matrix: (i,j) line i collum j, means (i-1,j-1)\n",
    "sol=solve([ eq1==m[0,1],\teq2==m[0,2],\teq3==m[0,3],\teq4==m[0,4],\t\n",
    "                                            eq5==m[1,2],    eq6==m[1,3],\n",
    "                                                            eq7==m[1,4], eq8==m[2,3], eq9==m[2,4]],d1,d2,d3,d4,d5,a12,a13,a14,a15,a23,a24,a25,a34,a35,a45, solution_dict=True)\n",
    "\n",
    "show(m)\n",
    "show(sol)\n",
    "latex(sol)"
   ]
  },
  {
   "cell_type": "code",
   "execution_count": 5,
   "metadata": {},
   "outputs": [
    {
     "data": {
      "text/html": [
       "<html><script type=\"math/tex; mode=display\">\\newcommand{\\Bold}[1]{\\mathbf{#1}}\\left(\\begin{array}{rrrrr}\n",
       "0 & 1 & 0 & 0 & 0 \\\\\n",
       "0 & 0 & 1 & 0 & 0 \\\\\n",
       "0 & 0 & 0 & 1 & 0 \\\\\n",
       "0 & 0 & 0 & 0 & 0 \\\\\n",
       "0 & 0 & 0 & 0 & 0\n",
       "\\end{array}\\right)</script></html>"
      ],
      "text/latex": [
       "$$\\newcommand{\\Bold}[1]{\\mathbf{#1}}\\left(\\begin{array}{rrrrr}\n",
       "0 & 1 & 0 & 0 & 0 \\\\\n",
       "0 & 0 & 1 & 0 & 0 \\\\\n",
       "0 & 0 & 0 & 1 & 0 \\\\\n",
       "0 & 0 & 0 & 0 & 0 \\\\\n",
       "0 & 0 & 0 & 0 & 0\n",
       "\\end{array}\\right)$$"
      ],
      "text/plain": [
       "[0 1 0 0 0]\n",
       "[0 0 1 0 0]\n",
       "[0 0 0 1 0]\n",
       "[0 0 0 0 0]\n",
       "[0 0 0 0 0]"
      ]
     },
     "metadata": {},
     "output_type": "display_data"
    },
    {
     "data": {
      "text/html": [
       "<html><script type=\"math/tex; mode=display\">\\newcommand{\\Bold}[1]{\\mathbf{#1}}\\left[\\left\\{d_{1} : 0, d_{2} : 0, d_{3} : 0, d_{4} : 0, d_{5} : r_{65}, a_{12} : r_{66}, a_{13} : r_{67}, a_{14} : r_{68}, a_{15} : r_{69}, a_{23} : r_{70}, a_{24} : r_{71}, a_{25} : r_{72}, a_{34} : r_{73}, a_{35} : r_{74}, a_{45} : 0\\right\\}, \\left\\{d_{1} : r_{75}, d_{2} : \\frac{r_{75}}{x_{12}}, d_{3} : \\frac{r_{75}}{x_{12} x_{23}}, d_{4} : \\frac{r_{75}}{x_{12} x_{23} x_{34}}, d_{5} : r_{76}, a_{12} : r_{77}, a_{13} : r_{78}, a_{14} : r_{79}, a_{15} : r_{80}, a_{23} : \\frac{r_{77} x_{12} x_{23} - r_{75} x_{13}}{x_{12}^{2} x_{23}}, a_{24} : \\frac{r_{78} x_{12}^{2} x_{23}^{2} - r_{77} x_{12} x_{13} x_{23} + r_{75} x_{13}^{2}}{x_{12}^{3} x_{23}^{2}}, a_{25} : -\\frac{r_{76} x_{15}}{x_{12}}, a_{34} : \\frac{r_{77} x_{12} x_{23} - r_{75} x_{13}}{x_{12}^{2} x_{23}^{2}}, a_{35} : 0, a_{45} : 0\\right\\}\\right]</script></html>"
      ],
      "text/latex": [
       "$$\\newcommand{\\Bold}[1]{\\mathbf{#1}}\\left[\\left\\{d_{1} : 0, d_{2} : 0, d_{3} : 0, d_{4} : 0, d_{5} : r_{65}, a_{12} : r_{66}, a_{13} : r_{67}, a_{14} : r_{68}, a_{15} : r_{69}, a_{23} : r_{70}, a_{24} : r_{71}, a_{25} : r_{72}, a_{34} : r_{73}, a_{35} : r_{74}, a_{45} : 0\\right\\}, \\left\\{d_{1} : r_{75}, d_{2} : \\frac{r_{75}}{x_{12}}, d_{3} : \\frac{r_{75}}{x_{12} x_{23}}, d_{4} : \\frac{r_{75}}{x_{12} x_{23} x_{34}}, d_{5} : r_{76}, a_{12} : r_{77}, a_{13} : r_{78}, a_{14} : r_{79}, a_{15} : r_{80}, a_{23} : \\frac{r_{77} x_{12} x_{23} - r_{75} x_{13}}{x_{12}^{2} x_{23}}, a_{24} : \\frac{r_{78} x_{12}^{2} x_{23}^{2} - r_{77} x_{12} x_{13} x_{23} + r_{75} x_{13}^{2}}{x_{12}^{3} x_{23}^{2}}, a_{25} : -\\frac{r_{76} x_{15}}{x_{12}}, a_{34} : \\frac{r_{77} x_{12} x_{23} - r_{75} x_{13}}{x_{12}^{2} x_{23}^{2}}, a_{35} : 0, a_{45} : 0\\right\\}\\right]$$"
      ],
      "text/plain": [
       "[{d1: 0,\n",
       "  d2: 0,\n",
       "  d3: 0,\n",
       "  d4: 0,\n",
       "  d5: r65,\n",
       "  a12: r66,\n",
       "  a13: r67,\n",
       "  a14: r68,\n",
       "  a15: r69,\n",
       "  a23: r70,\n",
       "  a24: r71,\n",
       "  a25: r72,\n",
       "  a34: r73,\n",
       "  a35: r74,\n",
       "  a45: 0},\n",
       " {d1: r75,\n",
       "  d2: r75/x12,\n",
       "  d3: r75/(x12*x23),\n",
       "  d4: r75/(x12*x23*x34),\n",
       "  d5: r76,\n",
       "  a12: r77,\n",
       "  a13: r78,\n",
       "  a14: r79,\n",
       "  a15: r80,\n",
       "  a23: (r77*x12*x23 - r75*x13)/(x12^2*x23),\n",
       "  a24: (r78*x12^2*x23^2 - r77*x12*x13*x23 + r75*x13^2)/(x12^3*x23^2),\n",
       "  a25: -r76*x15/x12,\n",
       "  a34: (r77*x12*x23 - r75*x13)/(x12^2*x23^2),\n",
       "  a35: 0,\n",
       "  a45: 0}]"
      ]
     },
     "metadata": {},
     "output_type": "display_data"
    },
    {
     "data": {
      "text/plain": [
       "\\left[\\left\\{d_{1} : 0, d_{2} : 0, d_{3} : 0, d_{4} : 0, d_{5} : r_{65}, a_{12} : r_{66}, a_{13} : r_{67}, a_{14} : r_{68}, a_{15} : r_{69}, a_{23} : r_{70}, a_{24} : r_{71}, a_{25} : r_{72}, a_{34} : r_{73}, a_{35} : r_{74}, a_{45} : 0\\right\\}, \\left\\{d_{1} : r_{75}, d_{2} : \\frac{r_{75}}{x_{12}}, d_{3} : \\frac{r_{75}}{x_{12} x_{23}}, d_{4} : \\frac{r_{75}}{x_{12} x_{23} x_{34}}, d_{5} : r_{76}, a_{12} : r_{77}, a_{13} : r_{78}, a_{14} : r_{79}, a_{15} : r_{80}, a_{23} : \\frac{r_{77} x_{12} x_{23} - r_{75} x_{13}}{x_{12}^{2} x_{23}}, a_{24} : \\frac{r_{78} x_{12}^{2} x_{23}^{2} - r_{77} x_{12} x_{13} x_{23} + r_{75} x_{13}^{2}}{x_{12}^{3} x_{23}^{2}}, a_{25} : -\\frac{r_{76} x_{15}}{x_{12}}, a_{34} : \\frac{r_{77} x_{12} x_{23} - r_{75} x_{13}}{x_{12}^{2} x_{23}^{2}}, a_{35} : 0, a_{45} : 0\\right\\}\\right]"
      ]
     },
     "execution_count": 5,
     "metadata": {},
     "output_type": "execute_result"
    }
   ],
   "source": [
    "#x7\n",
    "reset()\n",
    "\n",
    "var('x12,x13,x14,x15,x23,x24,x25,x34,x35,x45')\n",
    "var('d1,d2,d3,d4,d5')\n",
    "var('a12,a13,a14,a15,a23,a24,a25,a34,a35,a45')\n",
    "\n",
    "load_attach_path('C:\\\\Users\\\\julia\\\\Documents\\\\unb\\\\doutorado\\\\pensar\\\\codigo_sage_v2\\\\maquina\\\\x7')\n",
    "load('out_#000101.sage')\n",
    "\n",
    "m=matrix(QQ, [[0, 1, 0, 0, 0],\n",
    "              [0, 0, 1, 0, 0],\n",
    "              [0, 0, 0, 1, 0],\n",
    "              [0, 0, 0, 0, 0],\n",
    "              [0, 0, 0, 0, 0]])\n",
    "        \n",
    "#entry of matrix: (i,j) line i collum j, means (i-1,j-1)\n",
    "sol=solve([ eq1==m[0,1],\teq2==m[0,2],\teq3==m[0,3],\teq4==m[0,4],\t\n",
    "                                            eq5==m[1,2],    eq6==m[1,3],\n",
    "                                                            eq7==m[1,4], eq8==m[2,3], eq9==m[2,4]],d1,d2,d3,d4,d5,a12,a13,a14,a15,a23,a24,a25,a34,a35,a45, solution_dict=True)\n",
    "\n",
    "show(m)\n",
    "show(sol)\n",
    "latex(sol)"
   ]
  },
  {
   "cell_type": "code",
   "execution_count": 6,
   "metadata": {},
   "outputs": [
    {
     "data": {
      "text/html": [
       "<html><script type=\"math/tex; mode=display\">\\newcommand{\\Bold}[1]{\\mathbf{#1}}\\left(\\begin{array}{rrrrr}\n",
       "0 & 1 & 0 & 0 & 0 \\\\\n",
       "0 & 0 & 1 & 0 & 0 \\\\\n",
       "0 & 0 & 0 & 1 & 0 \\\\\n",
       "0 & 0 & 0 & 0 & 0 \\\\\n",
       "0 & 0 & 0 & 0 & 0\n",
       "\\end{array}\\right)</script></html>"
      ],
      "text/latex": [
       "$$\\newcommand{\\Bold}[1]{\\mathbf{#1}}\\left(\\begin{array}{rrrrr}\n",
       "0 & 1 & 0 & 0 & 0 \\\\\n",
       "0 & 0 & 1 & 0 & 0 \\\\\n",
       "0 & 0 & 0 & 1 & 0 \\\\\n",
       "0 & 0 & 0 & 0 & 0 \\\\\n",
       "0 & 0 & 0 & 0 & 0\n",
       "\\end{array}\\right)$$"
      ],
      "text/plain": [
       "[0 1 0 0 0]\n",
       "[0 0 1 0 0]\n",
       "[0 0 0 1 0]\n",
       "[0 0 0 0 0]\n",
       "[0 0 0 0 0]"
      ]
     },
     "metadata": {},
     "output_type": "display_data"
    },
    {
     "data": {
      "text/html": [
       "<html><script type=\"math/tex; mode=display\">\\newcommand{\\Bold}[1]{\\mathbf{#1}}\\left[\\left\\{d_{1} : 0, d_{2} : 0, d_{3} : 0, d_{4} : 0, d_{5} : r_{81}, a_{12} : r_{82}, a_{13} : r_{83}, a_{14} : r_{84}, a_{15} : r_{85}, a_{23} : r_{86}, a_{24} : r_{87}, a_{25} : r_{88}, a_{34} : r_{89}, a_{35} : r_{90}, a_{45} : 0\\right\\}, \\left\\{d_{1} : r_{91}, d_{2} : \\frac{r_{91}}{x_{12}}, d_{3} : \\frac{r_{91}}{x_{12} x_{23}}, d_{4} : \\frac{r_{91}}{x_{12} x_{23} x_{34}}, d_{5} : r_{92}, a_{12} : r_{93}, a_{13} : r_{94}, a_{14} : r_{95}, a_{15} : r_{96}, a_{23} : \\frac{r_{93} x_{12} x_{23} - r_{91} x_{13}}{x_{12}^{2} x_{23}}, a_{24} : -\\frac{r_{91} x_{12} x_{14} x_{23} - {\\left(r_{94} x_{12}^{2} x_{23}^{2} - r_{93} x_{12} x_{13} x_{23} + r_{91} x_{13}^{2}\\right)} x_{34}}{x_{12}^{3} x_{23}^{2} x_{34}}, a_{25} : 0, a_{34} : \\frac{r_{93} x_{12} x_{23} - r_{91} x_{13}}{x_{12}^{2} x_{23}^{2}}, a_{35} : 0, a_{45} : 0\\right\\}\\right]</script></html>"
      ],
      "text/latex": [
       "$$\\newcommand{\\Bold}[1]{\\mathbf{#1}}\\left[\\left\\{d_{1} : 0, d_{2} : 0, d_{3} : 0, d_{4} : 0, d_{5} : r_{81}, a_{12} : r_{82}, a_{13} : r_{83}, a_{14} : r_{84}, a_{15} : r_{85}, a_{23} : r_{86}, a_{24} : r_{87}, a_{25} : r_{88}, a_{34} : r_{89}, a_{35} : r_{90}, a_{45} : 0\\right\\}, \\left\\{d_{1} : r_{91}, d_{2} : \\frac{r_{91}}{x_{12}}, d_{3} : \\frac{r_{91}}{x_{12} x_{23}}, d_{4} : \\frac{r_{91}}{x_{12} x_{23} x_{34}}, d_{5} : r_{92}, a_{12} : r_{93}, a_{13} : r_{94}, a_{14} : r_{95}, a_{15} : r_{96}, a_{23} : \\frac{r_{93} x_{12} x_{23} - r_{91} x_{13}}{x_{12}^{2} x_{23}}, a_{24} : -\\frac{r_{91} x_{12} x_{14} x_{23} - {\\left(r_{94} x_{12}^{2} x_{23}^{2} - r_{93} x_{12} x_{13} x_{23} + r_{91} x_{13}^{2}\\right)} x_{34}}{x_{12}^{3} x_{23}^{2} x_{34}}, a_{25} : 0, a_{34} : \\frac{r_{93} x_{12} x_{23} - r_{91} x_{13}}{x_{12}^{2} x_{23}^{2}}, a_{35} : 0, a_{45} : 0\\right\\}\\right]$$"
      ],
      "text/plain": [
       "[{d1: 0,\n",
       "  d2: 0,\n",
       "  d3: 0,\n",
       "  d4: 0,\n",
       "  d5: r81,\n",
       "  a12: r82,\n",
       "  a13: r83,\n",
       "  a14: r84,\n",
       "  a15: r85,\n",
       "  a23: r86,\n",
       "  a24: r87,\n",
       "  a25: r88,\n",
       "  a34: r89,\n",
       "  a35: r90,\n",
       "  a45: 0},\n",
       " {d1: r91,\n",
       "  d2: r91/x12,\n",
       "  d3: r91/(x12*x23),\n",
       "  d4: r91/(x12*x23*x34),\n",
       "  d5: r92,\n",
       "  a12: r93,\n",
       "  a13: r94,\n",
       "  a14: r95,\n",
       "  a15: r96,\n",
       "  a23: (r93*x12*x23 - r91*x13)/(x12^2*x23),\n",
       "  a24: -(r91*x12*x14*x23 - (r94*x12^2*x23^2 - r93*x12*x13*x23 + r91*x13^2)*x34)/(x12^3*x23^2*x34),\n",
       "  a25: 0,\n",
       "  a34: (r93*x12*x23 - r91*x13)/(x12^2*x23^2),\n",
       "  a35: 0,\n",
       "  a45: 0}]"
      ]
     },
     "metadata": {},
     "output_type": "display_data"
    },
    {
     "data": {
      "text/plain": [
       "\\left[\\left\\{d_{1} : 0, d_{2} : 0, d_{3} : 0, d_{4} : 0, d_{5} : r_{81}, a_{12} : r_{82}, a_{13} : r_{83}, a_{14} : r_{84}, a_{15} : r_{85}, a_{23} : r_{86}, a_{24} : r_{87}, a_{25} : r_{88}, a_{34} : r_{89}, a_{35} : r_{90}, a_{45} : 0\\right\\}, \\left\\{d_{1} : r_{91}, d_{2} : \\frac{r_{91}}{x_{12}}, d_{3} : \\frac{r_{91}}{x_{12} x_{23}}, d_{4} : \\frac{r_{91}}{x_{12} x_{23} x_{34}}, d_{5} : r_{92}, a_{12} : r_{93}, a_{13} : r_{94}, a_{14} : r_{95}, a_{15} : r_{96}, a_{23} : \\frac{r_{93} x_{12} x_{23} - r_{91} x_{13}}{x_{12}^{2} x_{23}}, a_{24} : -\\frac{r_{91} x_{12} x_{14} x_{23} - {\\left(r_{94} x_{12}^{2} x_{23}^{2} - r_{93} x_{12} x_{13} x_{23} + r_{91} x_{13}^{2}\\right)} x_{34}}{x_{12}^{3} x_{23}^{2} x_{34}}, a_{25} : 0, a_{34} : \\frac{r_{93} x_{12} x_{23} - r_{91} x_{13}}{x_{12}^{2} x_{23}^{2}}, a_{35} : 0, a_{45} : 0\\right\\}\\right]"
      ]
     },
     "execution_count": 6,
     "metadata": {},
     "output_type": "execute_result"
    }
   ],
   "source": [
    "#x7\n",
    "reset()\n",
    "\n",
    "var('x12,x13,x14,x15,x23,x24,x25,x34,x35,x45')\n",
    "var('d1,d2,d3,d4,d5')\n",
    "var('a12,a13,a14,a15,a23,a24,a25,a34,a35,a45')\n",
    "\n",
    "load_attach_path('C:\\\\Users\\\\julia\\\\Documents\\\\unb\\\\doutorado\\\\pensar\\\\codigo_sage_v2\\\\maquina\\\\x7')\n",
    "load('out_#000110.sage')\n",
    "\n",
    "m=matrix(QQ, [[0, 1, 0, 0, 0],\n",
    "              [0, 0, 1, 0, 0],\n",
    "              [0, 0, 0, 1, 0],\n",
    "              [0, 0, 0, 0, 0],\n",
    "              [0, 0, 0, 0, 0]])\n",
    "        \n",
    "#entry of matrix: (i,j) line i collum j, means (i-1,j-1)\n",
    "sol=solve([ eq1==m[0,1],\teq2==m[0,2],\teq3==m[0,3],\teq4==m[0,4],\t\n",
    "                                            eq5==m[1,2],    eq6==m[1,3],\n",
    "                                                            eq7==m[1,4], eq8==m[2,3], eq9==m[2,4]],d1,d2,d3,d4,d5,a12,a13,a14,a15,a23,a24,a25,a34,a35,a45, solution_dict=True)\n",
    "\n",
    "show(m)\n",
    "show(sol)\n",
    "latex(sol)"
   ]
  },
  {
   "cell_type": "code",
   "execution_count": 7,
   "metadata": {},
   "outputs": [
    {
     "data": {
      "text/html": [
       "<html><script type=\"math/tex; mode=display\">\\newcommand{\\Bold}[1]{\\mathbf{#1}}\\left(\\begin{array}{rrrrr}\n",
       "0 & 1 & 0 & 0 & 0 \\\\\n",
       "0 & 0 & 1 & 0 & 0 \\\\\n",
       "0 & 0 & 0 & 1 & 0 \\\\\n",
       "0 & 0 & 0 & 0 & 0 \\\\\n",
       "0 & 0 & 0 & 0 & 0\n",
       "\\end{array}\\right)</script></html>"
      ],
      "text/latex": [
       "$$\\newcommand{\\Bold}[1]{\\mathbf{#1}}\\left(\\begin{array}{rrrrr}\n",
       "0 & 1 & 0 & 0 & 0 \\\\\n",
       "0 & 0 & 1 & 0 & 0 \\\\\n",
       "0 & 0 & 0 & 1 & 0 \\\\\n",
       "0 & 0 & 0 & 0 & 0 \\\\\n",
       "0 & 0 & 0 & 0 & 0\n",
       "\\end{array}\\right)$$"
      ],
      "text/plain": [
       "[0 1 0 0 0]\n",
       "[0 0 1 0 0]\n",
       "[0 0 0 1 0]\n",
       "[0 0 0 0 0]\n",
       "[0 0 0 0 0]"
      ]
     },
     "metadata": {},
     "output_type": "display_data"
    },
    {
     "data": {
      "text/html": [
       "<html><script type=\"math/tex; mode=display\">\\newcommand{\\Bold}[1]{\\mathbf{#1}}\\left[\\left\\{d_{1} : 0, d_{2} : 0, d_{3} : 0, d_{4} : 0, d_{5} : r_{97}, a_{12} : r_{98}, a_{13} : r_{99}, a_{14} : r_{100}, a_{15} : r_{101}, a_{23} : r_{102}, a_{24} : r_{103}, a_{25} : r_{104}, a_{34} : r_{105}, a_{35} : r_{106}, a_{45} : 0\\right\\}, \\left\\{d_{1} : r_{107}, d_{2} : \\frac{r_{107}}{x_{12}}, d_{3} : \\frac{r_{107}}{x_{12} x_{23}}, d_{4} : \\frac{r_{107}}{x_{12} x_{23} x_{34}}, d_{5} : r_{108}, a_{12} : r_{109}, a_{13} : r_{110}, a_{14} : r_{111}, a_{15} : r_{112}, a_{23} : \\frac{r_{109} x_{12} x_{23} - r_{107} x_{13}}{x_{12}^{2} x_{23}}, a_{24} : -\\frac{r_{107} x_{12} x_{14} x_{23} - {\\left(r_{110} x_{12}^{2} x_{23}^{2} - r_{109} x_{12} x_{13} x_{23} + r_{107} x_{13}^{2}\\right)} x_{34}}{x_{12}^{3} x_{23}^{2} x_{34}}, a_{25} : -\\frac{r_{108} x_{15}}{x_{12}}, a_{34} : \\frac{r_{109} x_{12} x_{23} - r_{107} x_{13}}{x_{12}^{2} x_{23}^{2}}, a_{35} : 0, a_{45} : 0\\right\\}\\right]</script></html>"
      ],
      "text/latex": [
       "$$\\newcommand{\\Bold}[1]{\\mathbf{#1}}\\left[\\left\\{d_{1} : 0, d_{2} : 0, d_{3} : 0, d_{4} : 0, d_{5} : r_{97}, a_{12} : r_{98}, a_{13} : r_{99}, a_{14} : r_{100}, a_{15} : r_{101}, a_{23} : r_{102}, a_{24} : r_{103}, a_{25} : r_{104}, a_{34} : r_{105}, a_{35} : r_{106}, a_{45} : 0\\right\\}, \\left\\{d_{1} : r_{107}, d_{2} : \\frac{r_{107}}{x_{12}}, d_{3} : \\frac{r_{107}}{x_{12} x_{23}}, d_{4} : \\frac{r_{107}}{x_{12} x_{23} x_{34}}, d_{5} : r_{108}, a_{12} : r_{109}, a_{13} : r_{110}, a_{14} : r_{111}, a_{15} : r_{112}, a_{23} : \\frac{r_{109} x_{12} x_{23} - r_{107} x_{13}}{x_{12}^{2} x_{23}}, a_{24} : -\\frac{r_{107} x_{12} x_{14} x_{23} - {\\left(r_{110} x_{12}^{2} x_{23}^{2} - r_{109} x_{12} x_{13} x_{23} + r_{107} x_{13}^{2}\\right)} x_{34}}{x_{12}^{3} x_{23}^{2} x_{34}}, a_{25} : -\\frac{r_{108} x_{15}}{x_{12}}, a_{34} : \\frac{r_{109} x_{12} x_{23} - r_{107} x_{13}}{x_{12}^{2} x_{23}^{2}}, a_{35} : 0, a_{45} : 0\\right\\}\\right]$$"
      ],
      "text/plain": [
       "[{d1: 0,\n",
       "  d2: 0,\n",
       "  d3: 0,\n",
       "  d4: 0,\n",
       "  d5: r97,\n",
       "  a12: r98,\n",
       "  a13: r99,\n",
       "  a14: r100,\n",
       "  a15: r101,\n",
       "  a23: r102,\n",
       "  a24: r103,\n",
       "  a25: r104,\n",
       "  a34: r105,\n",
       "  a35: r106,\n",
       "  a45: 0},\n",
       " {d1: r107,\n",
       "  d2: r107/x12,\n",
       "  d3: r107/(x12*x23),\n",
       "  d4: r107/(x12*x23*x34),\n",
       "  d5: r108,\n",
       "  a12: r109,\n",
       "  a13: r110,\n",
       "  a14: r111,\n",
       "  a15: r112,\n",
       "  a23: (r109*x12*x23 - r107*x13)/(x12^2*x23),\n",
       "  a24: -(r107*x12*x14*x23 - (r110*x12^2*x23^2 - r109*x12*x13*x23 + r107*x13^2)*x34)/(x12^3*x23^2*x34),\n",
       "  a25: -r108*x15/x12,\n",
       "  a34: (r109*x12*x23 - r107*x13)/(x12^2*x23^2),\n",
       "  a35: 0,\n",
       "  a45: 0}]"
      ]
     },
     "metadata": {},
     "output_type": "display_data"
    },
    {
     "data": {
      "text/plain": [
       "\\left[\\left\\{d_{1} : 0, d_{2} : 0, d_{3} : 0, d_{4} : 0, d_{5} : r_{97}, a_{12} : r_{98}, a_{13} : r_{99}, a_{14} : r_{100}, a_{15} : r_{101}, a_{23} : r_{102}, a_{24} : r_{103}, a_{25} : r_{104}, a_{34} : r_{105}, a_{35} : r_{106}, a_{45} : 0\\right\\}, \\left\\{d_{1} : r_{107}, d_{2} : \\frac{r_{107}}{x_{12}}, d_{3} : \\frac{r_{107}}{x_{12} x_{23}}, d_{4} : \\frac{r_{107}}{x_{12} x_{23} x_{34}}, d_{5} : r_{108}, a_{12} : r_{109}, a_{13} : r_{110}, a_{14} : r_{111}, a_{15} : r_{112}, a_{23} : \\frac{r_{109} x_{12} x_{23} - r_{107} x_{13}}{x_{12}^{2} x_{23}}, a_{24} : -\\frac{r_{107} x_{12} x_{14} x_{23} - {\\left(r_{110} x_{12}^{2} x_{23}^{2} - r_{109} x_{12} x_{13} x_{23} + r_{107} x_{13}^{2}\\right)} x_{34}}{x_{12}^{3} x_{23}^{2} x_{34}}, a_{25} : -\\frac{r_{108} x_{15}}{x_{12}}, a_{34} : \\frac{r_{109} x_{12} x_{23} - r_{107} x_{13}}{x_{12}^{2} x_{23}^{2}}, a_{35} : 0, a_{45} : 0\\right\\}\\right]"
      ]
     },
     "execution_count": 7,
     "metadata": {},
     "output_type": "execute_result"
    }
   ],
   "source": [
    "#x7\n",
    "reset()\n",
    "\n",
    "var('x12,x13,x14,x15,x23,x24,x25,x34,x35,x45')\n",
    "var('d1,d2,d3,d4,d5')\n",
    "var('a12,a13,a14,a15,a23,a24,a25,a34,a35,a45')\n",
    "\n",
    "load_attach_path('C:\\\\Users\\\\julia\\\\Documents\\\\unb\\\\doutorado\\\\pensar\\\\codigo_sage_v2\\\\maquina\\\\x7')\n",
    "load('out_#000111.sage')\n",
    "\n",
    "m=matrix(QQ, [[0, 1, 0, 0, 0],\n",
    "              [0, 0, 1, 0, 0],\n",
    "              [0, 0, 0, 1, 0],\n",
    "              [0, 0, 0, 0, 0],\n",
    "              [0, 0, 0, 0, 0]])\n",
    "        \n",
    "#entry of matrix: (i,j) line i collum j, means (i-1,j-1)\n",
    "sol=solve([ eq1==m[0,1],\teq2==m[0,2],\teq3==m[0,3],\teq4==m[0,4],\t\n",
    "                                            eq5==m[1,2],    eq6==m[1,3],\n",
    "                                                            eq7==m[1,4], eq8==m[2,3], eq9==m[2,4]],d1,d2,d3,d4,d5,a12,a13,a14,a15,a23,a24,a25,a34,a35,a45, solution_dict=True)\n",
    "\n",
    "show(m)\n",
    "show(sol)\n",
    "latex(sol)"
   ]
  },
  {
   "cell_type": "code",
   "execution_count": 8,
   "metadata": {},
   "outputs": [
    {
     "data": {
      "text/html": [
       "<html><script type=\"math/tex; mode=display\">\\newcommand{\\Bold}[1]{\\mathbf{#1}}\\left(\\begin{array}{rrrrr}\n",
       "0 & 1 & 0 & 0 & 0 \\\\\n",
       "0 & 0 & 1 & 0 & 0 \\\\\n",
       "0 & 0 & 0 & 1 & 0 \\\\\n",
       "0 & 0 & 0 & 0 & 0 \\\\\n",
       "0 & 0 & 0 & 0 & 0\n",
       "\\end{array}\\right)</script></html>"
      ],
      "text/latex": [
       "$$\\newcommand{\\Bold}[1]{\\mathbf{#1}}\\left(\\begin{array}{rrrrr}\n",
       "0 & 1 & 0 & 0 & 0 \\\\\n",
       "0 & 0 & 1 & 0 & 0 \\\\\n",
       "0 & 0 & 0 & 1 & 0 \\\\\n",
       "0 & 0 & 0 & 0 & 0 \\\\\n",
       "0 & 0 & 0 & 0 & 0\n",
       "\\end{array}\\right)$$"
      ],
      "text/plain": [
       "[0 1 0 0 0]\n",
       "[0 0 1 0 0]\n",
       "[0 0 0 1 0]\n",
       "[0 0 0 0 0]\n",
       "[0 0 0 0 0]"
      ]
     },
     "metadata": {},
     "output_type": "display_data"
    },
    {
     "data": {
      "text/html": [
       "<html><script type=\"math/tex; mode=display\">\\newcommand{\\Bold}[1]{\\mathbf{#1}}\\left[\\left\\{d_{1} : 0, d_{2} : 0, d_{3} : 0, d_{4} : 0, d_{5} : r_{113}, a_{12} : r_{114}, a_{13} : r_{115}, a_{14} : r_{116}, a_{15} : r_{117}, a_{23} : r_{118}, a_{24} : r_{119}, a_{25} : r_{120}, a_{34} : r_{121}, a_{35} : r_{122}, a_{45} : 0\\right\\}, \\left\\{d_{1} : r_{123}, d_{2} : \\frac{r_{123}}{x_{12}}, d_{3} : \\frac{r_{123}}{x_{12} x_{23}}, d_{4} : \\frac{r_{123}}{x_{12} x_{23} x_{34}}, d_{5} : r_{124}, a_{12} : r_{125}, a_{13} : r_{126}, a_{14} : r_{127}, a_{15} : r_{128}, a_{23} : \\frac{r_{125}}{x_{12}}, a_{24} : \\frac{r_{126}}{x_{12}}, a_{25} : 0, a_{34} : \\frac{r_{125}}{x_{12} x_{23}}, a_{35} : -\\frac{r_{124} x_{25}}{x_{23}}, a_{45} : 0\\right\\}\\right]</script></html>"
      ],
      "text/latex": [
       "$$\\newcommand{\\Bold}[1]{\\mathbf{#1}}\\left[\\left\\{d_{1} : 0, d_{2} : 0, d_{3} : 0, d_{4} : 0, d_{5} : r_{113}, a_{12} : r_{114}, a_{13} : r_{115}, a_{14} : r_{116}, a_{15} : r_{117}, a_{23} : r_{118}, a_{24} : r_{119}, a_{25} : r_{120}, a_{34} : r_{121}, a_{35} : r_{122}, a_{45} : 0\\right\\}, \\left\\{d_{1} : r_{123}, d_{2} : \\frac{r_{123}}{x_{12}}, d_{3} : \\frac{r_{123}}{x_{12} x_{23}}, d_{4} : \\frac{r_{123}}{x_{12} x_{23} x_{34}}, d_{5} : r_{124}, a_{12} : r_{125}, a_{13} : r_{126}, a_{14} : r_{127}, a_{15} : r_{128}, a_{23} : \\frac{r_{125}}{x_{12}}, a_{24} : \\frac{r_{126}}{x_{12}}, a_{25} : 0, a_{34} : \\frac{r_{125}}{x_{12} x_{23}}, a_{35} : -\\frac{r_{124} x_{25}}{x_{23}}, a_{45} : 0\\right\\}\\right]$$"
      ],
      "text/plain": [
       "[{d1: 0,\n",
       "  d2: 0,\n",
       "  d3: 0,\n",
       "  d4: 0,\n",
       "  d5: r113,\n",
       "  a12: r114,\n",
       "  a13: r115,\n",
       "  a14: r116,\n",
       "  a15: r117,\n",
       "  a23: r118,\n",
       "  a24: r119,\n",
       "  a25: r120,\n",
       "  a34: r121,\n",
       "  a35: r122,\n",
       "  a45: 0},\n",
       " {d1: r123,\n",
       "  d2: r123/x12,\n",
       "  d3: r123/(x12*x23),\n",
       "  d4: r123/(x12*x23*x34),\n",
       "  d5: r124,\n",
       "  a12: r125,\n",
       "  a13: r126,\n",
       "  a14: r127,\n",
       "  a15: r128,\n",
       "  a23: r125/x12,\n",
       "  a24: r126/x12,\n",
       "  a25: 0,\n",
       "  a34: r125/(x12*x23),\n",
       "  a35: -r124*x25/x23,\n",
       "  a45: 0}]"
      ]
     },
     "metadata": {},
     "output_type": "display_data"
    },
    {
     "data": {
      "text/plain": [
       "\\left[\\left\\{d_{1} : 0, d_{2} : 0, d_{3} : 0, d_{4} : 0, d_{5} : r_{113}, a_{12} : r_{114}, a_{13} : r_{115}, a_{14} : r_{116}, a_{15} : r_{117}, a_{23} : r_{118}, a_{24} : r_{119}, a_{25} : r_{120}, a_{34} : r_{121}, a_{35} : r_{122}, a_{45} : 0\\right\\}, \\left\\{d_{1} : r_{123}, d_{2} : \\frac{r_{123}}{x_{12}}, d_{3} : \\frac{r_{123}}{x_{12} x_{23}}, d_{4} : \\frac{r_{123}}{x_{12} x_{23} x_{34}}, d_{5} : r_{124}, a_{12} : r_{125}, a_{13} : r_{126}, a_{14} : r_{127}, a_{15} : r_{128}, a_{23} : \\frac{r_{125}}{x_{12}}, a_{24} : \\frac{r_{126}}{x_{12}}, a_{25} : 0, a_{34} : \\frac{r_{125}}{x_{12} x_{23}}, a_{35} : -\\frac{r_{124} x_{25}}{x_{23}}, a_{45} : 0\\right\\}\\right]"
      ]
     },
     "execution_count": 8,
     "metadata": {},
     "output_type": "execute_result"
    }
   ],
   "source": [
    "#x7\n",
    "reset()\n",
    "\n",
    "var('x12,x13,x14,x15,x23,x24,x25,x34,x35,x45')\n",
    "var('d1,d2,d3,d4,d5')\n",
    "var('a12,a13,a14,a15,a23,a24,a25,a34,a35,a45')\n",
    "\n",
    "load_attach_path('C:\\\\Users\\\\julia\\\\Documents\\\\unb\\\\doutorado\\\\pensar\\\\codigo_sage_v2\\\\maquina\\\\x7')\n",
    "load('out_#001000.sage')\n",
    "\n",
    "m=matrix(QQ, [[0, 1, 0, 0, 0],\n",
    "              [0, 0, 1, 0, 0],\n",
    "              [0, 0, 0, 1, 0],\n",
    "              [0, 0, 0, 0, 0],\n",
    "              [0, 0, 0, 0, 0]])\n",
    "        \n",
    "#entry of matrix: (i,j) line i collum j, means (i-1,j-1)\n",
    "sol=solve([ eq1==m[0,1],\teq2==m[0,2],\teq3==m[0,3],\teq4==m[0,4],\t\n",
    "                                            eq5==m[1,2],    eq6==m[1,3],\n",
    "                                                            eq7==m[1,4], eq8==m[2,3], eq9==m[2,4]],d1,d2,d3,d4,d5,a12,a13,a14,a15,a23,a24,a25,a34,a35,a45, solution_dict=True)\n",
    "\n",
    "show(m)\n",
    "show(sol)\n",
    "latex(sol)"
   ]
  },
  {
   "cell_type": "code",
   "execution_count": 9,
   "metadata": {},
   "outputs": [
    {
     "data": {
      "text/html": [
       "<html><script type=\"math/tex; mode=display\">\\newcommand{\\Bold}[1]{\\mathbf{#1}}\\left(\\begin{array}{rrrrr}\n",
       "0 & 1 & 0 & 0 & 0 \\\\\n",
       "0 & 0 & 1 & 0 & 0 \\\\\n",
       "0 & 0 & 0 & 1 & 0 \\\\\n",
       "0 & 0 & 0 & 0 & 0 \\\\\n",
       "0 & 0 & 0 & 0 & 0\n",
       "\\end{array}\\right)</script></html>"
      ],
      "text/latex": [
       "$$\\newcommand{\\Bold}[1]{\\mathbf{#1}}\\left(\\begin{array}{rrrrr}\n",
       "0 & 1 & 0 & 0 & 0 \\\\\n",
       "0 & 0 & 1 & 0 & 0 \\\\\n",
       "0 & 0 & 0 & 1 & 0 \\\\\n",
       "0 & 0 & 0 & 0 & 0 \\\\\n",
       "0 & 0 & 0 & 0 & 0\n",
       "\\end{array}\\right)$$"
      ],
      "text/plain": [
       "[0 1 0 0 0]\n",
       "[0 0 1 0 0]\n",
       "[0 0 0 1 0]\n",
       "[0 0 0 0 0]\n",
       "[0 0 0 0 0]"
      ]
     },
     "metadata": {},
     "output_type": "display_data"
    },
    {
     "data": {
      "text/html": [
       "<html><script type=\"math/tex; mode=display\">\\newcommand{\\Bold}[1]{\\mathbf{#1}}\\left[\\left\\{d_{1} : 0, d_{2} : 0, d_{3} : 0, d_{4} : 0, d_{5} : r_{129}, a_{12} : r_{130}, a_{13} : r_{131}, a_{14} : r_{132}, a_{15} : r_{133}, a_{23} : r_{134}, a_{24} : r_{135}, a_{25} : r_{136}, a_{34} : r_{137}, a_{35} : r_{138}, a_{45} : 0\\right\\}, \\left\\{d_{1} : r_{139}, d_{2} : \\frac{r_{139}}{x_{12}}, d_{3} : \\frac{r_{139}}{x_{12} x_{23}}, d_{4} : \\frac{r_{139}}{x_{12} x_{23} x_{34}}, d_{5} : r_{140}, a_{12} : r_{141}, a_{13} : r_{142}, a_{14} : r_{143}, a_{15} : r_{144}, a_{23} : \\frac{r_{141}}{x_{12}}, a_{24} : \\frac{r_{142}}{x_{12}}, a_{25} : -\\frac{r_{140} x_{15}}{x_{12}}, a_{34} : \\frac{r_{141}}{x_{12} x_{23}}, a_{35} : -\\frac{r_{140} x_{25}}{x_{23}}, a_{45} : 0\\right\\}\\right]</script></html>"
      ],
      "text/latex": [
       "$$\\newcommand{\\Bold}[1]{\\mathbf{#1}}\\left[\\left\\{d_{1} : 0, d_{2} : 0, d_{3} : 0, d_{4} : 0, d_{5} : r_{129}, a_{12} : r_{130}, a_{13} : r_{131}, a_{14} : r_{132}, a_{15} : r_{133}, a_{23} : r_{134}, a_{24} : r_{135}, a_{25} : r_{136}, a_{34} : r_{137}, a_{35} : r_{138}, a_{45} : 0\\right\\}, \\left\\{d_{1} : r_{139}, d_{2} : \\frac{r_{139}}{x_{12}}, d_{3} : \\frac{r_{139}}{x_{12} x_{23}}, d_{4} : \\frac{r_{139}}{x_{12} x_{23} x_{34}}, d_{5} : r_{140}, a_{12} : r_{141}, a_{13} : r_{142}, a_{14} : r_{143}, a_{15} : r_{144}, a_{23} : \\frac{r_{141}}{x_{12}}, a_{24} : \\frac{r_{142}}{x_{12}}, a_{25} : -\\frac{r_{140} x_{15}}{x_{12}}, a_{34} : \\frac{r_{141}}{x_{12} x_{23}}, a_{35} : -\\frac{r_{140} x_{25}}{x_{23}}, a_{45} : 0\\right\\}\\right]$$"
      ],
      "text/plain": [
       "[{d1: 0,\n",
       "  d2: 0,\n",
       "  d3: 0,\n",
       "  d4: 0,\n",
       "  d5: r129,\n",
       "  a12: r130,\n",
       "  a13: r131,\n",
       "  a14: r132,\n",
       "  a15: r133,\n",
       "  a23: r134,\n",
       "  a24: r135,\n",
       "  a25: r136,\n",
       "  a34: r137,\n",
       "  a35: r138,\n",
       "  a45: 0},\n",
       " {d1: r139,\n",
       "  d2: r139/x12,\n",
       "  d3: r139/(x12*x23),\n",
       "  d4: r139/(x12*x23*x34),\n",
       "  d5: r140,\n",
       "  a12: r141,\n",
       "  a13: r142,\n",
       "  a14: r143,\n",
       "  a15: r144,\n",
       "  a23: r141/x12,\n",
       "  a24: r142/x12,\n",
       "  a25: -r140*x15/x12,\n",
       "  a34: r141/(x12*x23),\n",
       "  a35: -r140*x25/x23,\n",
       "  a45: 0}]"
      ]
     },
     "metadata": {},
     "output_type": "display_data"
    },
    {
     "data": {
      "text/plain": [
       "\\left[\\left\\{d_{1} : 0, d_{2} : 0, d_{3} : 0, d_{4} : 0, d_{5} : r_{129}, a_{12} : r_{130}, a_{13} : r_{131}, a_{14} : r_{132}, a_{15} : r_{133}, a_{23} : r_{134}, a_{24} : r_{135}, a_{25} : r_{136}, a_{34} : r_{137}, a_{35} : r_{138}, a_{45} : 0\\right\\}, \\left\\{d_{1} : r_{139}, d_{2} : \\frac{r_{139}}{x_{12}}, d_{3} : \\frac{r_{139}}{x_{12} x_{23}}, d_{4} : \\frac{r_{139}}{x_{12} x_{23} x_{34}}, d_{5} : r_{140}, a_{12} : r_{141}, a_{13} : r_{142}, a_{14} : r_{143}, a_{15} : r_{144}, a_{23} : \\frac{r_{141}}{x_{12}}, a_{24} : \\frac{r_{142}}{x_{12}}, a_{25} : -\\frac{r_{140} x_{15}}{x_{12}}, a_{34} : \\frac{r_{141}}{x_{12} x_{23}}, a_{35} : -\\frac{r_{140} x_{25}}{x_{23}}, a_{45} : 0\\right\\}\\right]"
      ]
     },
     "execution_count": 9,
     "metadata": {},
     "output_type": "execute_result"
    }
   ],
   "source": [
    "#x7\n",
    "reset()\n",
    "\n",
    "var('x12,x13,x14,x15,x23,x24,x25,x34,x35,x45')\n",
    "var('d1,d2,d3,d4,d5')\n",
    "var('a12,a13,a14,a15,a23,a24,a25,a34,a35,a45')\n",
    "\n",
    "load_attach_path('C:\\\\Users\\\\julia\\\\Documents\\\\unb\\\\doutorado\\\\pensar\\\\codigo_sage_v2\\\\maquina\\\\x7')\n",
    "load('out_#001001.sage')\n",
    "\n",
    "m=matrix(QQ, [[0, 1, 0, 0, 0],\n",
    "              [0, 0, 1, 0, 0],\n",
    "              [0, 0, 0, 1, 0],\n",
    "              [0, 0, 0, 0, 0],\n",
    "              [0, 0, 0, 0, 0]])\n",
    "        \n",
    "#entry of matrix: (i,j) line i collum j, means (i-1,j-1)\n",
    "sol=solve([ eq1==m[0,1],\teq2==m[0,2],\teq3==m[0,3],\teq4==m[0,4],\t\n",
    "                                            eq5==m[1,2],    eq6==m[1,3],\n",
    "                                                            eq7==m[1,4], eq8==m[2,3], eq9==m[2,4]],d1,d2,d3,d4,d5,a12,a13,a14,a15,a23,a24,a25,a34,a35,a45, solution_dict=True)\n",
    "\n",
    "show(m)\n",
    "show(sol)\n",
    "latex(sol)"
   ]
  },
  {
   "cell_type": "code",
   "execution_count": 10,
   "metadata": {},
   "outputs": [
    {
     "data": {
      "text/html": [
       "<html><script type=\"math/tex; mode=display\">\\newcommand{\\Bold}[1]{\\mathbf{#1}}\\left(\\begin{array}{rrrrr}\n",
       "0 & 1 & 0 & 0 & 0 \\\\\n",
       "0 & 0 & 1 & 0 & 0 \\\\\n",
       "0 & 0 & 0 & 1 & 0 \\\\\n",
       "0 & 0 & 0 & 0 & 0 \\\\\n",
       "0 & 0 & 0 & 0 & 0\n",
       "\\end{array}\\right)</script></html>"
      ],
      "text/latex": [
       "$$\\newcommand{\\Bold}[1]{\\mathbf{#1}}\\left(\\begin{array}{rrrrr}\n",
       "0 & 1 & 0 & 0 & 0 \\\\\n",
       "0 & 0 & 1 & 0 & 0 \\\\\n",
       "0 & 0 & 0 & 1 & 0 \\\\\n",
       "0 & 0 & 0 & 0 & 0 \\\\\n",
       "0 & 0 & 0 & 0 & 0\n",
       "\\end{array}\\right)$$"
      ],
      "text/plain": [
       "[0 1 0 0 0]\n",
       "[0 0 1 0 0]\n",
       "[0 0 0 1 0]\n",
       "[0 0 0 0 0]\n",
       "[0 0 0 0 0]"
      ]
     },
     "metadata": {},
     "output_type": "display_data"
    },
    {
     "data": {
      "text/html": [
       "<html><script type=\"math/tex; mode=display\">\\newcommand{\\Bold}[1]{\\mathbf{#1}}\\left[\\left\\{d_{1} : 0, d_{2} : 0, d_{3} : 0, d_{4} : 0, d_{5} : r_{145}, a_{12} : r_{146}, a_{13} : r_{147}, a_{14} : r_{148}, a_{15} : r_{149}, a_{23} : r_{150}, a_{24} : r_{151}, a_{25} : r_{152}, a_{34} : r_{153}, a_{35} : r_{154}, a_{45} : 0\\right\\}, \\left\\{d_{1} : r_{155}, d_{2} : \\frac{r_{155}}{x_{12}}, d_{3} : \\frac{r_{155}}{x_{12} x_{23}}, d_{4} : \\frac{r_{155}}{x_{12} x_{23} x_{34}}, d_{5} : r_{156}, a_{12} : r_{157}, a_{13} : r_{158}, a_{14} : r_{159}, a_{15} : r_{160}, a_{23} : \\frac{r_{157}}{x_{12}}, a_{24} : \\frac{r_{158} x_{12} x_{23} x_{34} - r_{155} x_{14}}{x_{12}^{2} x_{23} x_{34}}, a_{25} : 0, a_{34} : \\frac{r_{157}}{x_{12} x_{23}}, a_{35} : -\\frac{r_{156} x_{25}}{x_{23}}, a_{45} : 0\\right\\}\\right]</script></html>"
      ],
      "text/latex": [
       "$$\\newcommand{\\Bold}[1]{\\mathbf{#1}}\\left[\\left\\{d_{1} : 0, d_{2} : 0, d_{3} : 0, d_{4} : 0, d_{5} : r_{145}, a_{12} : r_{146}, a_{13} : r_{147}, a_{14} : r_{148}, a_{15} : r_{149}, a_{23} : r_{150}, a_{24} : r_{151}, a_{25} : r_{152}, a_{34} : r_{153}, a_{35} : r_{154}, a_{45} : 0\\right\\}, \\left\\{d_{1} : r_{155}, d_{2} : \\frac{r_{155}}{x_{12}}, d_{3} : \\frac{r_{155}}{x_{12} x_{23}}, d_{4} : \\frac{r_{155}}{x_{12} x_{23} x_{34}}, d_{5} : r_{156}, a_{12} : r_{157}, a_{13} : r_{158}, a_{14} : r_{159}, a_{15} : r_{160}, a_{23} : \\frac{r_{157}}{x_{12}}, a_{24} : \\frac{r_{158} x_{12} x_{23} x_{34} - r_{155} x_{14}}{x_{12}^{2} x_{23} x_{34}}, a_{25} : 0, a_{34} : \\frac{r_{157}}{x_{12} x_{23}}, a_{35} : -\\frac{r_{156} x_{25}}{x_{23}}, a_{45} : 0\\right\\}\\right]$$"
      ],
      "text/plain": [
       "[{d1: 0,\n",
       "  d2: 0,\n",
       "  d3: 0,\n",
       "  d4: 0,\n",
       "  d5: r145,\n",
       "  a12: r146,\n",
       "  a13: r147,\n",
       "  a14: r148,\n",
       "  a15: r149,\n",
       "  a23: r150,\n",
       "  a24: r151,\n",
       "  a25: r152,\n",
       "  a34: r153,\n",
       "  a35: r154,\n",
       "  a45: 0},\n",
       " {d1: r155,\n",
       "  d2: r155/x12,\n",
       "  d3: r155/(x12*x23),\n",
       "  d4: r155/(x12*x23*x34),\n",
       "  d5: r156,\n",
       "  a12: r157,\n",
       "  a13: r158,\n",
       "  a14: r159,\n",
       "  a15: r160,\n",
       "  a23: r157/x12,\n",
       "  a24: (r158*x12*x23*x34 - r155*x14)/(x12^2*x23*x34),\n",
       "  a25: 0,\n",
       "  a34: r157/(x12*x23),\n",
       "  a35: -r156*x25/x23,\n",
       "  a45: 0}]"
      ]
     },
     "metadata": {},
     "output_type": "display_data"
    },
    {
     "data": {
      "text/plain": [
       "\\left[\\left\\{d_{1} : 0, d_{2} : 0, d_{3} : 0, d_{4} : 0, d_{5} : r_{145}, a_{12} : r_{146}, a_{13} : r_{147}, a_{14} : r_{148}, a_{15} : r_{149}, a_{23} : r_{150}, a_{24} : r_{151}, a_{25} : r_{152}, a_{34} : r_{153}, a_{35} : r_{154}, a_{45} : 0\\right\\}, \\left\\{d_{1} : r_{155}, d_{2} : \\frac{r_{155}}{x_{12}}, d_{3} : \\frac{r_{155}}{x_{12} x_{23}}, d_{4} : \\frac{r_{155}}{x_{12} x_{23} x_{34}}, d_{5} : r_{156}, a_{12} : r_{157}, a_{13} : r_{158}, a_{14} : r_{159}, a_{15} : r_{160}, a_{23} : \\frac{r_{157}}{x_{12}}, a_{24} : \\frac{r_{158} x_{12} x_{23} x_{34} - r_{155} x_{14}}{x_{12}^{2} x_{23} x_{34}}, a_{25} : 0, a_{34} : \\frac{r_{157}}{x_{12} x_{23}}, a_{35} : -\\frac{r_{156} x_{25}}{x_{23}}, a_{45} : 0\\right\\}\\right]"
      ]
     },
     "execution_count": 10,
     "metadata": {},
     "output_type": "execute_result"
    }
   ],
   "source": [
    "#x7\n",
    "reset()\n",
    "\n",
    "var('x12,x13,x14,x15,x23,x24,x25,x34,x35,x45')\n",
    "var('d1,d2,d3,d4,d5')\n",
    "var('a12,a13,a14,a15,a23,a24,a25,a34,a35,a45')\n",
    "\n",
    "load_attach_path('C:\\\\Users\\\\julia\\\\Documents\\\\unb\\\\doutorado\\\\pensar\\\\codigo_sage_v2\\\\maquina\\\\x7')\n",
    "load('out_#001010.sage')\n",
    "\n",
    "m=matrix(QQ, [[0, 1, 0, 0, 0],\n",
    "              [0, 0, 1, 0, 0],\n",
    "              [0, 0, 0, 1, 0],\n",
    "              [0, 0, 0, 0, 0],\n",
    "              [0, 0, 0, 0, 0]])\n",
    "        \n",
    "#entry of matrix: (i,j) line i collum j, means (i-1,j-1)\n",
    "sol=solve([ eq1==m[0,1],\teq2==m[0,2],\teq3==m[0,3],\teq4==m[0,4],\t\n",
    "                                            eq5==m[1,2],    eq6==m[1,3],\n",
    "                                                            eq7==m[1,4], eq8==m[2,3], eq9==m[2,4]],d1,d2,d3,d4,d5,a12,a13,a14,a15,a23,a24,a25,a34,a35,a45, solution_dict=True)\n",
    "\n",
    "show(m)\n",
    "show(sol)\n",
    "latex(sol)"
   ]
  },
  {
   "cell_type": "code",
   "execution_count": 11,
   "metadata": {},
   "outputs": [
    {
     "data": {
      "text/html": [
       "<html><script type=\"math/tex; mode=display\">\\newcommand{\\Bold}[1]{\\mathbf{#1}}\\left(\\begin{array}{rrrrr}\n",
       "0 & 1 & 0 & 0 & 0 \\\\\n",
       "0 & 0 & 1 & 0 & 0 \\\\\n",
       "0 & 0 & 0 & 1 & 0 \\\\\n",
       "0 & 0 & 0 & 0 & 0 \\\\\n",
       "0 & 0 & 0 & 0 & 0\n",
       "\\end{array}\\right)</script></html>"
      ],
      "text/latex": [
       "$$\\newcommand{\\Bold}[1]{\\mathbf{#1}}\\left(\\begin{array}{rrrrr}\n",
       "0 & 1 & 0 & 0 & 0 \\\\\n",
       "0 & 0 & 1 & 0 & 0 \\\\\n",
       "0 & 0 & 0 & 1 & 0 \\\\\n",
       "0 & 0 & 0 & 0 & 0 \\\\\n",
       "0 & 0 & 0 & 0 & 0\n",
       "\\end{array}\\right)$$"
      ],
      "text/plain": [
       "[0 1 0 0 0]\n",
       "[0 0 1 0 0]\n",
       "[0 0 0 1 0]\n",
       "[0 0 0 0 0]\n",
       "[0 0 0 0 0]"
      ]
     },
     "metadata": {},
     "output_type": "display_data"
    },
    {
     "data": {
      "text/html": [
       "<html><script type=\"math/tex; mode=display\">\\newcommand{\\Bold}[1]{\\mathbf{#1}}\\left[\\left\\{d_{1} : 0, d_{2} : 0, d_{3} : 0, d_{4} : 0, d_{5} : r_{161}, a_{12} : r_{162}, a_{13} : r_{163}, a_{14} : r_{164}, a_{15} : r_{165}, a_{23} : r_{166}, a_{24} : r_{167}, a_{25} : r_{168}, a_{34} : r_{169}, a_{35} : r_{170}, a_{45} : 0\\right\\}, \\left\\{d_{1} : r_{171}, d_{2} : \\frac{r_{171}}{x_{12}}, d_{3} : \\frac{r_{171}}{x_{12} x_{23}}, d_{4} : \\frac{r_{171}}{x_{12} x_{23} x_{34}}, d_{5} : r_{172}, a_{12} : r_{173}, a_{13} : r_{174}, a_{14} : r_{175}, a_{15} : r_{176}, a_{23} : \\frac{r_{173}}{x_{12}}, a_{24} : \\frac{r_{174} x_{12} x_{23} x_{34} - r_{171} x_{14}}{x_{12}^{2} x_{23} x_{34}}, a_{25} : -\\frac{r_{172} x_{15}}{x_{12}}, a_{34} : \\frac{r_{173}}{x_{12} x_{23}}, a_{35} : -\\frac{r_{172} x_{25}}{x_{23}}, a_{45} : 0\\right\\}\\right]</script></html>"
      ],
      "text/latex": [
       "$$\\newcommand{\\Bold}[1]{\\mathbf{#1}}\\left[\\left\\{d_{1} : 0, d_{2} : 0, d_{3} : 0, d_{4} : 0, d_{5} : r_{161}, a_{12} : r_{162}, a_{13} : r_{163}, a_{14} : r_{164}, a_{15} : r_{165}, a_{23} : r_{166}, a_{24} : r_{167}, a_{25} : r_{168}, a_{34} : r_{169}, a_{35} : r_{170}, a_{45} : 0\\right\\}, \\left\\{d_{1} : r_{171}, d_{2} : \\frac{r_{171}}{x_{12}}, d_{3} : \\frac{r_{171}}{x_{12} x_{23}}, d_{4} : \\frac{r_{171}}{x_{12} x_{23} x_{34}}, d_{5} : r_{172}, a_{12} : r_{173}, a_{13} : r_{174}, a_{14} : r_{175}, a_{15} : r_{176}, a_{23} : \\frac{r_{173}}{x_{12}}, a_{24} : \\frac{r_{174} x_{12} x_{23} x_{34} - r_{171} x_{14}}{x_{12}^{2} x_{23} x_{34}}, a_{25} : -\\frac{r_{172} x_{15}}{x_{12}}, a_{34} : \\frac{r_{173}}{x_{12} x_{23}}, a_{35} : -\\frac{r_{172} x_{25}}{x_{23}}, a_{45} : 0\\right\\}\\right]$$"
      ],
      "text/plain": [
       "[{d1: 0,\n",
       "  d2: 0,\n",
       "  d3: 0,\n",
       "  d4: 0,\n",
       "  d5: r161,\n",
       "  a12: r162,\n",
       "  a13: r163,\n",
       "  a14: r164,\n",
       "  a15: r165,\n",
       "  a23: r166,\n",
       "  a24: r167,\n",
       "  a25: r168,\n",
       "  a34: r169,\n",
       "  a35: r170,\n",
       "  a45: 0},\n",
       " {d1: r171,\n",
       "  d2: r171/x12,\n",
       "  d3: r171/(x12*x23),\n",
       "  d4: r171/(x12*x23*x34),\n",
       "  d5: r172,\n",
       "  a12: r173,\n",
       "  a13: r174,\n",
       "  a14: r175,\n",
       "  a15: r176,\n",
       "  a23: r173/x12,\n",
       "  a24: (r174*x12*x23*x34 - r171*x14)/(x12^2*x23*x34),\n",
       "  a25: -r172*x15/x12,\n",
       "  a34: r173/(x12*x23),\n",
       "  a35: -r172*x25/x23,\n",
       "  a45: 0}]"
      ]
     },
     "metadata": {},
     "output_type": "display_data"
    },
    {
     "data": {
      "text/plain": [
       "\\left[\\left\\{d_{1} : 0, d_{2} : 0, d_{3} : 0, d_{4} : 0, d_{5} : r_{161}, a_{12} : r_{162}, a_{13} : r_{163}, a_{14} : r_{164}, a_{15} : r_{165}, a_{23} : r_{166}, a_{24} : r_{167}, a_{25} : r_{168}, a_{34} : r_{169}, a_{35} : r_{170}, a_{45} : 0\\right\\}, \\left\\{d_{1} : r_{171}, d_{2} : \\frac{r_{171}}{x_{12}}, d_{3} : \\frac{r_{171}}{x_{12} x_{23}}, d_{4} : \\frac{r_{171}}{x_{12} x_{23} x_{34}}, d_{5} : r_{172}, a_{12} : r_{173}, a_{13} : r_{174}, a_{14} : r_{175}, a_{15} : r_{176}, a_{23} : \\frac{r_{173}}{x_{12}}, a_{24} : \\frac{r_{174} x_{12} x_{23} x_{34} - r_{171} x_{14}}{x_{12}^{2} x_{23} x_{34}}, a_{25} : -\\frac{r_{172} x_{15}}{x_{12}}, a_{34} : \\frac{r_{173}}{x_{12} x_{23}}, a_{35} : -\\frac{r_{172} x_{25}}{x_{23}}, a_{45} : 0\\right\\}\\right]"
      ]
     },
     "execution_count": 11,
     "metadata": {},
     "output_type": "execute_result"
    }
   ],
   "source": [
    "#x7\n",
    "reset()\n",
    "\n",
    "var('x12,x13,x14,x15,x23,x24,x25,x34,x35,x45')\n",
    "var('d1,d2,d3,d4,d5')\n",
    "var('a12,a13,a14,a15,a23,a24,a25,a34,a35,a45')\n",
    "\n",
    "load_attach_path('C:\\\\Users\\\\julia\\\\Documents\\\\unb\\\\doutorado\\\\pensar\\\\codigo_sage_v2\\\\maquina\\\\x7')\n",
    "load('out_#001011.sage')\n",
    "\n",
    "m=matrix(QQ, [[0, 1, 0, 0, 0],\n",
    "              [0, 0, 1, 0, 0],\n",
    "              [0, 0, 0, 1, 0],\n",
    "              [0, 0, 0, 0, 0],\n",
    "              [0, 0, 0, 0, 0]])\n",
    "        \n",
    "#entry of matrix: (i,j) line i collum j, means (i-1,j-1)\n",
    "sol=solve([ eq1==m[0,1],\teq2==m[0,2],\teq3==m[0,3],\teq4==m[0,4],\t\n",
    "                                            eq5==m[1,2],    eq6==m[1,3],\n",
    "                                                            eq7==m[1,4], eq8==m[2,3], eq9==m[2,4]],d1,d2,d3,d4,d5,a12,a13,a14,a15,a23,a24,a25,a34,a35,a45, solution_dict=True)\n",
    "\n",
    "show(m)\n",
    "show(sol)\n",
    "latex(sol)"
   ]
  },
  {
   "cell_type": "code",
   "execution_count": 12,
   "metadata": {},
   "outputs": [
    {
     "data": {
      "text/html": [
       "<html><script type=\"math/tex; mode=display\">\\newcommand{\\Bold}[1]{\\mathbf{#1}}\\left(\\begin{array}{rrrrr}\n",
       "0 & 1 & 0 & 0 & 0 \\\\\n",
       "0 & 0 & 1 & 0 & 0 \\\\\n",
       "0 & 0 & 0 & 1 & 0 \\\\\n",
       "0 & 0 & 0 & 0 & 0 \\\\\n",
       "0 & 0 & 0 & 0 & 0\n",
       "\\end{array}\\right)</script></html>"
      ],
      "text/latex": [
       "$$\\newcommand{\\Bold}[1]{\\mathbf{#1}}\\left(\\begin{array}{rrrrr}\n",
       "0 & 1 & 0 & 0 & 0 \\\\\n",
       "0 & 0 & 1 & 0 & 0 \\\\\n",
       "0 & 0 & 0 & 1 & 0 \\\\\n",
       "0 & 0 & 0 & 0 & 0 \\\\\n",
       "0 & 0 & 0 & 0 & 0\n",
       "\\end{array}\\right)$$"
      ],
      "text/plain": [
       "[0 1 0 0 0]\n",
       "[0 0 1 0 0]\n",
       "[0 0 0 1 0]\n",
       "[0 0 0 0 0]\n",
       "[0 0 0 0 0]"
      ]
     },
     "metadata": {},
     "output_type": "display_data"
    },
    {
     "data": {
      "text/html": [
       "<html><script type=\"math/tex; mode=display\">\\newcommand{\\Bold}[1]{\\mathbf{#1}}\\left[\\left\\{d_{1} : 0, d_{2} : 0, d_{3} : 0, d_{4} : 0, d_{5} : r_{177}, a_{12} : r_{178}, a_{13} : r_{179}, a_{14} : r_{180}, a_{15} : r_{181}, a_{23} : r_{182}, a_{24} : r_{183}, a_{25} : r_{184}, a_{34} : r_{185}, a_{35} : r_{186}, a_{45} : 0\\right\\}, \\left\\{d_{1} : r_{187}, d_{2} : \\frac{r_{187}}{x_{12}}, d_{3} : \\frac{r_{187}}{x_{12} x_{23}}, d_{4} : \\frac{r_{187}}{x_{12} x_{23} x_{34}}, d_{5} : r_{188}, a_{12} : r_{189}, a_{13} : r_{190}, a_{14} : r_{191}, a_{15} : r_{192}, a_{23} : \\frac{r_{189} x_{12} x_{23} - r_{187} x_{13}}{x_{12}^{2} x_{23}}, a_{24} : \\frac{r_{190} x_{12}^{2} x_{23}^{2} - r_{189} x_{12} x_{13} x_{23} + r_{187} x_{13}^{2}}{x_{12}^{3} x_{23}^{2}}, a_{25} : \\frac{r_{188} x_{13} x_{25}}{x_{12} x_{23}}, a_{34} : \\frac{r_{189} x_{12} x_{23} - r_{187} x_{13}}{x_{12}^{2} x_{23}^{2}}, a_{35} : -\\frac{r_{188} x_{25}}{x_{23}}, a_{45} : 0\\right\\}\\right]</script></html>"
      ],
      "text/latex": [
       "$$\\newcommand{\\Bold}[1]{\\mathbf{#1}}\\left[\\left\\{d_{1} : 0, d_{2} : 0, d_{3} : 0, d_{4} : 0, d_{5} : r_{177}, a_{12} : r_{178}, a_{13} : r_{179}, a_{14} : r_{180}, a_{15} : r_{181}, a_{23} : r_{182}, a_{24} : r_{183}, a_{25} : r_{184}, a_{34} : r_{185}, a_{35} : r_{186}, a_{45} : 0\\right\\}, \\left\\{d_{1} : r_{187}, d_{2} : \\frac{r_{187}}{x_{12}}, d_{3} : \\frac{r_{187}}{x_{12} x_{23}}, d_{4} : \\frac{r_{187}}{x_{12} x_{23} x_{34}}, d_{5} : r_{188}, a_{12} : r_{189}, a_{13} : r_{190}, a_{14} : r_{191}, a_{15} : r_{192}, a_{23} : \\frac{r_{189} x_{12} x_{23} - r_{187} x_{13}}{x_{12}^{2} x_{23}}, a_{24} : \\frac{r_{190} x_{12}^{2} x_{23}^{2} - r_{189} x_{12} x_{13} x_{23} + r_{187} x_{13}^{2}}{x_{12}^{3} x_{23}^{2}}, a_{25} : \\frac{r_{188} x_{13} x_{25}}{x_{12} x_{23}}, a_{34} : \\frac{r_{189} x_{12} x_{23} - r_{187} x_{13}}{x_{12}^{2} x_{23}^{2}}, a_{35} : -\\frac{r_{188} x_{25}}{x_{23}}, a_{45} : 0\\right\\}\\right]$$"
      ],
      "text/plain": [
       "[{d1: 0,\n",
       "  d2: 0,\n",
       "  d3: 0,\n",
       "  d4: 0,\n",
       "  d5: r177,\n",
       "  a12: r178,\n",
       "  a13: r179,\n",
       "  a14: r180,\n",
       "  a15: r181,\n",
       "  a23: r182,\n",
       "  a24: r183,\n",
       "  a25: r184,\n",
       "  a34: r185,\n",
       "  a35: r186,\n",
       "  a45: 0},\n",
       " {d1: r187,\n",
       "  d2: r187/x12,\n",
       "  d3: r187/(x12*x23),\n",
       "  d4: r187/(x12*x23*x34),\n",
       "  d5: r188,\n",
       "  a12: r189,\n",
       "  a13: r190,\n",
       "  a14: r191,\n",
       "  a15: r192,\n",
       "  a23: (r189*x12*x23 - r187*x13)/(x12^2*x23),\n",
       "  a24: (r190*x12^2*x23^2 - r189*x12*x13*x23 + r187*x13^2)/(x12^3*x23^2),\n",
       "  a25: r188*x13*x25/(x12*x23),\n",
       "  a34: (r189*x12*x23 - r187*x13)/(x12^2*x23^2),\n",
       "  a35: -r188*x25/x23,\n",
       "  a45: 0}]"
      ]
     },
     "metadata": {},
     "output_type": "display_data"
    },
    {
     "data": {
      "text/plain": [
       "\\left[\\left\\{d_{1} : 0, d_{2} : 0, d_{3} : 0, d_{4} : 0, d_{5} : r_{177}, a_{12} : r_{178}, a_{13} : r_{179}, a_{14} : r_{180}, a_{15} : r_{181}, a_{23} : r_{182}, a_{24} : r_{183}, a_{25} : r_{184}, a_{34} : r_{185}, a_{35} : r_{186}, a_{45} : 0\\right\\}, \\left\\{d_{1} : r_{187}, d_{2} : \\frac{r_{187}}{x_{12}}, d_{3} : \\frac{r_{187}}{x_{12} x_{23}}, d_{4} : \\frac{r_{187}}{x_{12} x_{23} x_{34}}, d_{5} : r_{188}, a_{12} : r_{189}, a_{13} : r_{190}, a_{14} : r_{191}, a_{15} : r_{192}, a_{23} : \\frac{r_{189} x_{12} x_{23} - r_{187} x_{13}}{x_{12}^{2} x_{23}}, a_{24} : \\frac{r_{190} x_{12}^{2} x_{23}^{2} - r_{189} x_{12} x_{13} x_{23} + r_{187} x_{13}^{2}}{x_{12}^{3} x_{23}^{2}}, a_{25} : \\frac{r_{188} x_{13} x_{25}}{x_{12} x_{23}}, a_{34} : \\frac{r_{189} x_{12} x_{23} - r_{187} x_{13}}{x_{12}^{2} x_{23}^{2}}, a_{35} : -\\frac{r_{188} x_{25}}{x_{23}}, a_{45} : 0\\right\\}\\right]"
      ]
     },
     "execution_count": 12,
     "metadata": {},
     "output_type": "execute_result"
    }
   ],
   "source": [
    "#x7\n",
    "reset()\n",
    "\n",
    "var('x12,x13,x14,x15,x23,x24,x25,x34,x35,x45')\n",
    "var('d1,d2,d3,d4,d5')\n",
    "var('a12,a13,a14,a15,a23,a24,a25,a34,a35,a45')\n",
    "\n",
    "load_attach_path('C:\\\\Users\\\\julia\\\\Documents\\\\unb\\\\doutorado\\\\pensar\\\\codigo_sage_v2\\\\maquina\\\\x7')\n",
    "load('out_#001100.sage')\n",
    "\n",
    "m=matrix(QQ, [[0, 1, 0, 0, 0],\n",
    "              [0, 0, 1, 0, 0],\n",
    "              [0, 0, 0, 1, 0],\n",
    "              [0, 0, 0, 0, 0],\n",
    "              [0, 0, 0, 0, 0]])\n",
    "        \n",
    "#entry of matrix: (i,j) line i collum j, means (i-1,j-1)\n",
    "sol=solve([ eq1==m[0,1],\teq2==m[0,2],\teq3==m[0,3],\teq4==m[0,4],\t\n",
    "                                            eq5==m[1,2],    eq6==m[1,3],\n",
    "                                                            eq7==m[1,4], eq8==m[2,3], eq9==m[2,4]],d1,d2,d3,d4,d5,a12,a13,a14,a15,a23,a24,a25,a34,a35,a45, solution_dict=True)\n",
    "\n",
    "show(m)\n",
    "show(sol)\n",
    "latex(sol)"
   ]
  },
  {
   "cell_type": "code",
   "execution_count": 13,
   "metadata": {},
   "outputs": [
    {
     "data": {
      "text/html": [
       "<html><script type=\"math/tex; mode=display\">\\newcommand{\\Bold}[1]{\\mathbf{#1}}\\left(\\begin{array}{rrrrr}\n",
       "0 & 1 & 0 & 0 & 0 \\\\\n",
       "0 & 0 & 1 & 0 & 0 \\\\\n",
       "0 & 0 & 0 & 1 & 0 \\\\\n",
       "0 & 0 & 0 & 0 & 0 \\\\\n",
       "0 & 0 & 0 & 0 & 0\n",
       "\\end{array}\\right)</script></html>"
      ],
      "text/latex": [
       "$$\\newcommand{\\Bold}[1]{\\mathbf{#1}}\\left(\\begin{array}{rrrrr}\n",
       "0 & 1 & 0 & 0 & 0 \\\\\n",
       "0 & 0 & 1 & 0 & 0 \\\\\n",
       "0 & 0 & 0 & 1 & 0 \\\\\n",
       "0 & 0 & 0 & 0 & 0 \\\\\n",
       "0 & 0 & 0 & 0 & 0\n",
       "\\end{array}\\right)$$"
      ],
      "text/plain": [
       "[0 1 0 0 0]\n",
       "[0 0 1 0 0]\n",
       "[0 0 0 1 0]\n",
       "[0 0 0 0 0]\n",
       "[0 0 0 0 0]"
      ]
     },
     "metadata": {},
     "output_type": "display_data"
    },
    {
     "data": {
      "text/html": [
       "<html><script type=\"math/tex; mode=display\">\\newcommand{\\Bold}[1]{\\mathbf{#1}}\\left[\\left\\{d_{1} : 0, d_{2} : 0, d_{3} : 0, d_{4} : 0, d_{5} : r_{193}, a_{12} : r_{194}, a_{13} : r_{195}, a_{14} : r_{196}, a_{15} : r_{197}, a_{23} : r_{198}, a_{24} : r_{199}, a_{25} : r_{200}, a_{34} : r_{201}, a_{35} : r_{202}, a_{45} : 0\\right\\}, \\left\\{d_{1} : r_{203}, d_{2} : \\frac{r_{203}}{x_{12}}, d_{3} : \\frac{r_{203}}{x_{12} x_{23}}, d_{4} : \\frac{r_{203}}{x_{12} x_{23} x_{34}}, d_{5} : r_{204}, a_{12} : r_{205}, a_{13} : r_{206}, a_{14} : r_{207}, a_{15} : r_{208}, a_{23} : \\frac{r_{205} x_{12} x_{23} - r_{203} x_{13}}{x_{12}^{2} x_{23}}, a_{24} : \\frac{r_{206} x_{12}^{2} x_{23}^{2} - r_{205} x_{12} x_{13} x_{23} + r_{203} x_{13}^{2}}{x_{12}^{3} x_{23}^{2}}, a_{25} : -\\frac{r_{204} x_{15} x_{23} - r_{204} x_{13} x_{25}}{x_{12} x_{23}}, a_{34} : \\frac{r_{205} x_{12} x_{23} - r_{203} x_{13}}{x_{12}^{2} x_{23}^{2}}, a_{35} : -\\frac{r_{204} x_{25}}{x_{23}}, a_{45} : 0\\right\\}\\right]</script></html>"
      ],
      "text/latex": [
       "$$\\newcommand{\\Bold}[1]{\\mathbf{#1}}\\left[\\left\\{d_{1} : 0, d_{2} : 0, d_{3} : 0, d_{4} : 0, d_{5} : r_{193}, a_{12} : r_{194}, a_{13} : r_{195}, a_{14} : r_{196}, a_{15} : r_{197}, a_{23} : r_{198}, a_{24} : r_{199}, a_{25} : r_{200}, a_{34} : r_{201}, a_{35} : r_{202}, a_{45} : 0\\right\\}, \\left\\{d_{1} : r_{203}, d_{2} : \\frac{r_{203}}{x_{12}}, d_{3} : \\frac{r_{203}}{x_{12} x_{23}}, d_{4} : \\frac{r_{203}}{x_{12} x_{23} x_{34}}, d_{5} : r_{204}, a_{12} : r_{205}, a_{13} : r_{206}, a_{14} : r_{207}, a_{15} : r_{208}, a_{23} : \\frac{r_{205} x_{12} x_{23} - r_{203} x_{13}}{x_{12}^{2} x_{23}}, a_{24} : \\frac{r_{206} x_{12}^{2} x_{23}^{2} - r_{205} x_{12} x_{13} x_{23} + r_{203} x_{13}^{2}}{x_{12}^{3} x_{23}^{2}}, a_{25} : -\\frac{r_{204} x_{15} x_{23} - r_{204} x_{13} x_{25}}{x_{12} x_{23}}, a_{34} : \\frac{r_{205} x_{12} x_{23} - r_{203} x_{13}}{x_{12}^{2} x_{23}^{2}}, a_{35} : -\\frac{r_{204} x_{25}}{x_{23}}, a_{45} : 0\\right\\}\\right]$$"
      ],
      "text/plain": [
       "[{d1: 0,\n",
       "  d2: 0,\n",
       "  d3: 0,\n",
       "  d4: 0,\n",
       "  d5: r193,\n",
       "  a12: r194,\n",
       "  a13: r195,\n",
       "  a14: r196,\n",
       "  a15: r197,\n",
       "  a23: r198,\n",
       "  a24: r199,\n",
       "  a25: r200,\n",
       "  a34: r201,\n",
       "  a35: r202,\n",
       "  a45: 0},\n",
       " {d1: r203,\n",
       "  d2: r203/x12,\n",
       "  d3: r203/(x12*x23),\n",
       "  d4: r203/(x12*x23*x34),\n",
       "  d5: r204,\n",
       "  a12: r205,\n",
       "  a13: r206,\n",
       "  a14: r207,\n",
       "  a15: r208,\n",
       "  a23: (r205*x12*x23 - r203*x13)/(x12^2*x23),\n",
       "  a24: (r206*x12^2*x23^2 - r205*x12*x13*x23 + r203*x13^2)/(x12^3*x23^2),\n",
       "  a25: -(r204*x15*x23 - r204*x13*x25)/(x12*x23),\n",
       "  a34: (r205*x12*x23 - r203*x13)/(x12^2*x23^2),\n",
       "  a35: -r204*x25/x23,\n",
       "  a45: 0}]"
      ]
     },
     "metadata": {},
     "output_type": "display_data"
    },
    {
     "data": {
      "text/plain": [
       "\\left[\\left\\{d_{1} : 0, d_{2} : 0, d_{3} : 0, d_{4} : 0, d_{5} : r_{193}, a_{12} : r_{194}, a_{13} : r_{195}, a_{14} : r_{196}, a_{15} : r_{197}, a_{23} : r_{198}, a_{24} : r_{199}, a_{25} : r_{200}, a_{34} : r_{201}, a_{35} : r_{202}, a_{45} : 0\\right\\}, \\left\\{d_{1} : r_{203}, d_{2} : \\frac{r_{203}}{x_{12}}, d_{3} : \\frac{r_{203}}{x_{12} x_{23}}, d_{4} : \\frac{r_{203}}{x_{12} x_{23} x_{34}}, d_{5} : r_{204}, a_{12} : r_{205}, a_{13} : r_{206}, a_{14} : r_{207}, a_{15} : r_{208}, a_{23} : \\frac{r_{205} x_{12} x_{23} - r_{203} x_{13}}{x_{12}^{2} x_{23}}, a_{24} : \\frac{r_{206} x_{12}^{2} x_{23}^{2} - r_{205} x_{12} x_{13} x_{23} + r_{203} x_{13}^{2}}{x_{12}^{3} x_{23}^{2}}, a_{25} : -\\frac{r_{204} x_{15} x_{23} - r_{204} x_{13} x_{25}}{x_{12} x_{23}}, a_{34} : \\frac{r_{205} x_{12} x_{23} - r_{203} x_{13}}{x_{12}^{2} x_{23}^{2}}, a_{35} : -\\frac{r_{204} x_{25}}{x_{23}}, a_{45} : 0\\right\\}\\right]"
      ]
     },
     "execution_count": 13,
     "metadata": {},
     "output_type": "execute_result"
    }
   ],
   "source": [
    "#x7\n",
    "reset()\n",
    "\n",
    "var('x12,x13,x14,x15,x23,x24,x25,x34,x35,x45')\n",
    "var('d1,d2,d3,d4,d5')\n",
    "var('a12,a13,a14,a15,a23,a24,a25,a34,a35,a45')\n",
    "\n",
    "load_attach_path('C:\\\\Users\\\\julia\\\\Documents\\\\unb\\\\doutorado\\\\pensar\\\\codigo_sage_v2\\\\maquina\\\\x7')\n",
    "load('out_#001101.sage')\n",
    "\n",
    "m=matrix(QQ, [[0, 1, 0, 0, 0],\n",
    "              [0, 0, 1, 0, 0],\n",
    "              [0, 0, 0, 1, 0],\n",
    "              [0, 0, 0, 0, 0],\n",
    "              [0, 0, 0, 0, 0]])\n",
    "        \n",
    "#entry of matrix: (i,j) line i collum j, means (i-1,j-1)\n",
    "sol=solve([ eq1==m[0,1],\teq2==m[0,2],\teq3==m[0,3],\teq4==m[0,4],\t\n",
    "                                            eq5==m[1,2],    eq6==m[1,3],\n",
    "                                                            eq7==m[1,4], eq8==m[2,3], eq9==m[2,4]],d1,d2,d3,d4,d5,a12,a13,a14,a15,a23,a24,a25,a34,a35,a45, solution_dict=True)\n",
    "\n",
    "show(m)\n",
    "show(sol)\n",
    "latex(sol)"
   ]
  },
  {
   "cell_type": "code",
   "execution_count": 14,
   "metadata": {},
   "outputs": [
    {
     "data": {
      "text/html": [
       "<html><script type=\"math/tex; mode=display\">\\newcommand{\\Bold}[1]{\\mathbf{#1}}\\left(\\begin{array}{rrrrr}\n",
       "0 & 1 & 0 & 0 & 0 \\\\\n",
       "0 & 0 & 1 & 0 & 0 \\\\\n",
       "0 & 0 & 0 & 1 & 0 \\\\\n",
       "0 & 0 & 0 & 0 & 0 \\\\\n",
       "0 & 0 & 0 & 0 & 0\n",
       "\\end{array}\\right)</script></html>"
      ],
      "text/latex": [
       "$$\\newcommand{\\Bold}[1]{\\mathbf{#1}}\\left(\\begin{array}{rrrrr}\n",
       "0 & 1 & 0 & 0 & 0 \\\\\n",
       "0 & 0 & 1 & 0 & 0 \\\\\n",
       "0 & 0 & 0 & 1 & 0 \\\\\n",
       "0 & 0 & 0 & 0 & 0 \\\\\n",
       "0 & 0 & 0 & 0 & 0\n",
       "\\end{array}\\right)$$"
      ],
      "text/plain": [
       "[0 1 0 0 0]\n",
       "[0 0 1 0 0]\n",
       "[0 0 0 1 0]\n",
       "[0 0 0 0 0]\n",
       "[0 0 0 0 0]"
      ]
     },
     "metadata": {},
     "output_type": "display_data"
    },
    {
     "data": {
      "text/html": [
       "<html><script type=\"math/tex; mode=display\">\\newcommand{\\Bold}[1]{\\mathbf{#1}}\\left[\\left\\{d_{1} : 0, d_{2} : 0, d_{3} : 0, d_{4} : 0, d_{5} : r_{209}, a_{12} : r_{210}, a_{13} : r_{211}, a_{14} : r_{212}, a_{15} : r_{213}, a_{23} : r_{214}, a_{24} : r_{215}, a_{25} : r_{216}, a_{34} : r_{217}, a_{35} : r_{218}, a_{45} : 0\\right\\}, \\left\\{d_{1} : r_{219}, d_{2} : \\frac{r_{219}}{x_{12}}, d_{3} : \\frac{r_{219}}{x_{12} x_{23}}, d_{4} : \\frac{r_{219}}{x_{12} x_{23} x_{34}}, d_{5} : r_{220}, a_{12} : r_{221}, a_{13} : r_{222}, a_{14} : r_{223}, a_{15} : r_{224}, a_{23} : \\frac{r_{221} x_{12} x_{23} - r_{219} x_{13}}{x_{12}^{2} x_{23}}, a_{24} : -\\frac{r_{219} x_{12} x_{14} x_{23} - {\\left(r_{222} x_{12}^{2} x_{23}^{2} - r_{221} x_{12} x_{13} x_{23} + r_{219} x_{13}^{2}\\right)} x_{34}}{x_{12}^{3} x_{23}^{2} x_{34}}, a_{25} : \\frac{r_{220} x_{13} x_{25}}{x_{12} x_{23}}, a_{34} : \\frac{r_{221} x_{12} x_{23} - r_{219} x_{13}}{x_{12}^{2} x_{23}^{2}}, a_{35} : -\\frac{r_{220} x_{25}}{x_{23}}, a_{45} : 0\\right\\}\\right]</script></html>"
      ],
      "text/latex": [
       "$$\\newcommand{\\Bold}[1]{\\mathbf{#1}}\\left[\\left\\{d_{1} : 0, d_{2} : 0, d_{3} : 0, d_{4} : 0, d_{5} : r_{209}, a_{12} : r_{210}, a_{13} : r_{211}, a_{14} : r_{212}, a_{15} : r_{213}, a_{23} : r_{214}, a_{24} : r_{215}, a_{25} : r_{216}, a_{34} : r_{217}, a_{35} : r_{218}, a_{45} : 0\\right\\}, \\left\\{d_{1} : r_{219}, d_{2} : \\frac{r_{219}}{x_{12}}, d_{3} : \\frac{r_{219}}{x_{12} x_{23}}, d_{4} : \\frac{r_{219}}{x_{12} x_{23} x_{34}}, d_{5} : r_{220}, a_{12} : r_{221}, a_{13} : r_{222}, a_{14} : r_{223}, a_{15} : r_{224}, a_{23} : \\frac{r_{221} x_{12} x_{23} - r_{219} x_{13}}{x_{12}^{2} x_{23}}, a_{24} : -\\frac{r_{219} x_{12} x_{14} x_{23} - {\\left(r_{222} x_{12}^{2} x_{23}^{2} - r_{221} x_{12} x_{13} x_{23} + r_{219} x_{13}^{2}\\right)} x_{34}}{x_{12}^{3} x_{23}^{2} x_{34}}, a_{25} : \\frac{r_{220} x_{13} x_{25}}{x_{12} x_{23}}, a_{34} : \\frac{r_{221} x_{12} x_{23} - r_{219} x_{13}}{x_{12}^{2} x_{23}^{2}}, a_{35} : -\\frac{r_{220} x_{25}}{x_{23}}, a_{45} : 0\\right\\}\\right]$$"
      ],
      "text/plain": [
       "[{d1: 0,\n",
       "  d2: 0,\n",
       "  d3: 0,\n",
       "  d4: 0,\n",
       "  d5: r209,\n",
       "  a12: r210,\n",
       "  a13: r211,\n",
       "  a14: r212,\n",
       "  a15: r213,\n",
       "  a23: r214,\n",
       "  a24: r215,\n",
       "  a25: r216,\n",
       "  a34: r217,\n",
       "  a35: r218,\n",
       "  a45: 0},\n",
       " {d1: r219,\n",
       "  d2: r219/x12,\n",
       "  d3: r219/(x12*x23),\n",
       "  d4: r219/(x12*x23*x34),\n",
       "  d5: r220,\n",
       "  a12: r221,\n",
       "  a13: r222,\n",
       "  a14: r223,\n",
       "  a15: r224,\n",
       "  a23: (r221*x12*x23 - r219*x13)/(x12^2*x23),\n",
       "  a24: -(r219*x12*x14*x23 - (r222*x12^2*x23^2 - r221*x12*x13*x23 + r219*x13^2)*x34)/(x12^3*x23^2*x34),\n",
       "  a25: r220*x13*x25/(x12*x23),\n",
       "  a34: (r221*x12*x23 - r219*x13)/(x12^2*x23^2),\n",
       "  a35: -r220*x25/x23,\n",
       "  a45: 0}]"
      ]
     },
     "metadata": {},
     "output_type": "display_data"
    },
    {
     "data": {
      "text/plain": [
       "\\left[\\left\\{d_{1} : 0, d_{2} : 0, d_{3} : 0, d_{4} : 0, d_{5} : r_{209}, a_{12} : r_{210}, a_{13} : r_{211}, a_{14} : r_{212}, a_{15} : r_{213}, a_{23} : r_{214}, a_{24} : r_{215}, a_{25} : r_{216}, a_{34} : r_{217}, a_{35} : r_{218}, a_{45} : 0\\right\\}, \\left\\{d_{1} : r_{219}, d_{2} : \\frac{r_{219}}{x_{12}}, d_{3} : \\frac{r_{219}}{x_{12} x_{23}}, d_{4} : \\frac{r_{219}}{x_{12} x_{23} x_{34}}, d_{5} : r_{220}, a_{12} : r_{221}, a_{13} : r_{222}, a_{14} : r_{223}, a_{15} : r_{224}, a_{23} : \\frac{r_{221} x_{12} x_{23} - r_{219} x_{13}}{x_{12}^{2} x_{23}}, a_{24} : -\\frac{r_{219} x_{12} x_{14} x_{23} - {\\left(r_{222} x_{12}^{2} x_{23}^{2} - r_{221} x_{12} x_{13} x_{23} + r_{219} x_{13}^{2}\\right)} x_{34}}{x_{12}^{3} x_{23}^{2} x_{34}}, a_{25} : \\frac{r_{220} x_{13} x_{25}}{x_{12} x_{23}}, a_{34} : \\frac{r_{221} x_{12} x_{23} - r_{219} x_{13}}{x_{12}^{2} x_{23}^{2}}, a_{35} : -\\frac{r_{220} x_{25}}{x_{23}}, a_{45} : 0\\right\\}\\right]"
      ]
     },
     "execution_count": 14,
     "metadata": {},
     "output_type": "execute_result"
    }
   ],
   "source": [
    "#x7\n",
    "reset()\n",
    "\n",
    "var('x12,x13,x14,x15,x23,x24,x25,x34,x35,x45')\n",
    "var('d1,d2,d3,d4,d5')\n",
    "var('a12,a13,a14,a15,a23,a24,a25,a34,a35,a45')\n",
    "\n",
    "load_attach_path('C:\\\\Users\\\\julia\\\\Documents\\\\unb\\\\doutorado\\\\pensar\\\\codigo_sage_v2\\\\maquina\\\\x7')\n",
    "load('out_#001110.sage')\n",
    "\n",
    "m=matrix(QQ, [[0, 1, 0, 0, 0],\n",
    "              [0, 0, 1, 0, 0],\n",
    "              [0, 0, 0, 1, 0],\n",
    "              [0, 0, 0, 0, 0],\n",
    "              [0, 0, 0, 0, 0]])\n",
    "        \n",
    "#entry of matrix: (i,j) line i collum j, means (i-1,j-1)\n",
    "sol=solve([ eq1==m[0,1],\teq2==m[0,2],\teq3==m[0,3],\teq4==m[0,4],\t\n",
    "                                            eq5==m[1,2],    eq6==m[1,3],\n",
    "                                                            eq7==m[1,4], eq8==m[2,3], eq9==m[2,4]],d1,d2,d3,d4,d5,a12,a13,a14,a15,a23,a24,a25,a34,a35,a45, solution_dict=True)\n",
    "\n",
    "show(m)\n",
    "show(sol)\n",
    "latex(sol)"
   ]
  },
  {
   "cell_type": "code",
   "execution_count": 15,
   "metadata": {},
   "outputs": [
    {
     "data": {
      "text/html": [
       "<html><script type=\"math/tex; mode=display\">\\newcommand{\\Bold}[1]{\\mathbf{#1}}\\left(\\begin{array}{rrrrr}\n",
       "0 & 1 & 0 & 0 & 0 \\\\\n",
       "0 & 0 & 1 & 0 & 0 \\\\\n",
       "0 & 0 & 0 & 1 & 0 \\\\\n",
       "0 & 0 & 0 & 0 & 0 \\\\\n",
       "0 & 0 & 0 & 0 & 0\n",
       "\\end{array}\\right)</script></html>"
      ],
      "text/latex": [
       "$$\\newcommand{\\Bold}[1]{\\mathbf{#1}}\\left(\\begin{array}{rrrrr}\n",
       "0 & 1 & 0 & 0 & 0 \\\\\n",
       "0 & 0 & 1 & 0 & 0 \\\\\n",
       "0 & 0 & 0 & 1 & 0 \\\\\n",
       "0 & 0 & 0 & 0 & 0 \\\\\n",
       "0 & 0 & 0 & 0 & 0\n",
       "\\end{array}\\right)$$"
      ],
      "text/plain": [
       "[0 1 0 0 0]\n",
       "[0 0 1 0 0]\n",
       "[0 0 0 1 0]\n",
       "[0 0 0 0 0]\n",
       "[0 0 0 0 0]"
      ]
     },
     "metadata": {},
     "output_type": "display_data"
    },
    {
     "data": {
      "text/html": [
       "<html><script type=\"math/tex; mode=display\">\\newcommand{\\Bold}[1]{\\mathbf{#1}}\\left[\\left\\{d_{1} : 0, d_{2} : 0, d_{3} : 0, d_{4} : 0, d_{5} : r_{225}, a_{12} : r_{226}, a_{13} : r_{227}, a_{14} : r_{228}, a_{15} : r_{229}, a_{23} : r_{230}, a_{24} : r_{231}, a_{25} : r_{232}, a_{34} : r_{233}, a_{35} : r_{234}, a_{45} : 0\\right\\}, \\left\\{d_{1} : r_{235}, d_{2} : \\frac{r_{235}}{x_{12}}, d_{3} : \\frac{r_{235}}{x_{12} x_{23}}, d_{4} : \\frac{r_{235}}{x_{12} x_{23} x_{34}}, d_{5} : r_{236}, a_{12} : r_{237}, a_{13} : r_{238}, a_{14} : r_{239}, a_{15} : r_{240}, a_{23} : \\frac{r_{237} x_{12} x_{23} - r_{235} x_{13}}{x_{12}^{2} x_{23}}, a_{24} : -\\frac{r_{235} x_{12} x_{14} x_{23} - {\\left(r_{238} x_{12}^{2} x_{23}^{2} - r_{237} x_{12} x_{13} x_{23} + r_{235} x_{13}^{2}\\right)} x_{34}}{x_{12}^{3} x_{23}^{2} x_{34}}, a_{25} : -\\frac{r_{236} x_{15} x_{23} - r_{236} x_{13} x_{25}}{x_{12} x_{23}}, a_{34} : \\frac{r_{237} x_{12} x_{23} - r_{235} x_{13}}{x_{12}^{2} x_{23}^{2}}, a_{35} : -\\frac{r_{236} x_{25}}{x_{23}}, a_{45} : 0\\right\\}\\right]</script></html>"
      ],
      "text/latex": [
       "$$\\newcommand{\\Bold}[1]{\\mathbf{#1}}\\left[\\left\\{d_{1} : 0, d_{2} : 0, d_{3} : 0, d_{4} : 0, d_{5} : r_{225}, a_{12} : r_{226}, a_{13} : r_{227}, a_{14} : r_{228}, a_{15} : r_{229}, a_{23} : r_{230}, a_{24} : r_{231}, a_{25} : r_{232}, a_{34} : r_{233}, a_{35} : r_{234}, a_{45} : 0\\right\\}, \\left\\{d_{1} : r_{235}, d_{2} : \\frac{r_{235}}{x_{12}}, d_{3} : \\frac{r_{235}}{x_{12} x_{23}}, d_{4} : \\frac{r_{235}}{x_{12} x_{23} x_{34}}, d_{5} : r_{236}, a_{12} : r_{237}, a_{13} : r_{238}, a_{14} : r_{239}, a_{15} : r_{240}, a_{23} : \\frac{r_{237} x_{12} x_{23} - r_{235} x_{13}}{x_{12}^{2} x_{23}}, a_{24} : -\\frac{r_{235} x_{12} x_{14} x_{23} - {\\left(r_{238} x_{12}^{2} x_{23}^{2} - r_{237} x_{12} x_{13} x_{23} + r_{235} x_{13}^{2}\\right)} x_{34}}{x_{12}^{3} x_{23}^{2} x_{34}}, a_{25} : -\\frac{r_{236} x_{15} x_{23} - r_{236} x_{13} x_{25}}{x_{12} x_{23}}, a_{34} : \\frac{r_{237} x_{12} x_{23} - r_{235} x_{13}}{x_{12}^{2} x_{23}^{2}}, a_{35} : -\\frac{r_{236} x_{25}}{x_{23}}, a_{45} : 0\\right\\}\\right]$$"
      ],
      "text/plain": [
       "[{d1: 0,\n",
       "  d2: 0,\n",
       "  d3: 0,\n",
       "  d4: 0,\n",
       "  d5: r225,\n",
       "  a12: r226,\n",
       "  a13: r227,\n",
       "  a14: r228,\n",
       "  a15: r229,\n",
       "  a23: r230,\n",
       "  a24: r231,\n",
       "  a25: r232,\n",
       "  a34: r233,\n",
       "  a35: r234,\n",
       "  a45: 0},\n",
       " {d1: r235,\n",
       "  d2: r235/x12,\n",
       "  d3: r235/(x12*x23),\n",
       "  d4: r235/(x12*x23*x34),\n",
       "  d5: r236,\n",
       "  a12: r237,\n",
       "  a13: r238,\n",
       "  a14: r239,\n",
       "  a15: r240,\n",
       "  a23: (r237*x12*x23 - r235*x13)/(x12^2*x23),\n",
       "  a24: -(r235*x12*x14*x23 - (r238*x12^2*x23^2 - r237*x12*x13*x23 + r235*x13^2)*x34)/(x12^3*x23^2*x34),\n",
       "  a25: -(r236*x15*x23 - r236*x13*x25)/(x12*x23),\n",
       "  a34: (r237*x12*x23 - r235*x13)/(x12^2*x23^2),\n",
       "  a35: -r236*x25/x23,\n",
       "  a45: 0}]"
      ]
     },
     "metadata": {},
     "output_type": "display_data"
    },
    {
     "data": {
      "text/plain": [
       "\\left[\\left\\{d_{1} : 0, d_{2} : 0, d_{3} : 0, d_{4} : 0, d_{5} : r_{225}, a_{12} : r_{226}, a_{13} : r_{227}, a_{14} : r_{228}, a_{15} : r_{229}, a_{23} : r_{230}, a_{24} : r_{231}, a_{25} : r_{232}, a_{34} : r_{233}, a_{35} : r_{234}, a_{45} : 0\\right\\}, \\left\\{d_{1} : r_{235}, d_{2} : \\frac{r_{235}}{x_{12}}, d_{3} : \\frac{r_{235}}{x_{12} x_{23}}, d_{4} : \\frac{r_{235}}{x_{12} x_{23} x_{34}}, d_{5} : r_{236}, a_{12} : r_{237}, a_{13} : r_{238}, a_{14} : r_{239}, a_{15} : r_{240}, a_{23} : \\frac{r_{237} x_{12} x_{23} - r_{235} x_{13}}{x_{12}^{2} x_{23}}, a_{24} : -\\frac{r_{235} x_{12} x_{14} x_{23} - {\\left(r_{238} x_{12}^{2} x_{23}^{2} - r_{237} x_{12} x_{13} x_{23} + r_{235} x_{13}^{2}\\right)} x_{34}}{x_{12}^{3} x_{23}^{2} x_{34}}, a_{25} : -\\frac{r_{236} x_{15} x_{23} - r_{236} x_{13} x_{25}}{x_{12} x_{23}}, a_{34} : \\frac{r_{237} x_{12} x_{23} - r_{235} x_{13}}{x_{12}^{2} x_{23}^{2}}, a_{35} : -\\frac{r_{236} x_{25}}{x_{23}}, a_{45} : 0\\right\\}\\right]"
      ]
     },
     "execution_count": 15,
     "metadata": {},
     "output_type": "execute_result"
    }
   ],
   "source": [
    "#x7\n",
    "reset()\n",
    "\n",
    "var('x12,x13,x14,x15,x23,x24,x25,x34,x35,x45')\n",
    "var('d1,d2,d3,d4,d5')\n",
    "var('a12,a13,a14,a15,a23,a24,a25,a34,a35,a45')\n",
    "\n",
    "load_attach_path('C:\\\\Users\\\\julia\\\\Documents\\\\unb\\\\doutorado\\\\pensar\\\\codigo_sage_v2\\\\maquina\\\\x7')\n",
    "load('out_#001111.sage')\n",
    "\n",
    "m=matrix(QQ, [[0, 1, 0, 0, 0],\n",
    "              [0, 0, 1, 0, 0],\n",
    "              [0, 0, 0, 1, 0],\n",
    "              [0, 0, 0, 0, 0],\n",
    "              [0, 0, 0, 0, 0]])\n",
    "        \n",
    "#entry of matrix: (i,j) line i collum j, means (i-1,j-1)\n",
    "sol=solve([ eq1==m[0,1],\teq2==m[0,2],\teq3==m[0,3],\teq4==m[0,4],\t\n",
    "                                            eq5==m[1,2],    eq6==m[1,3],\n",
    "                                                            eq7==m[1,4], eq8==m[2,3], eq9==m[2,4]],d1,d2,d3,d4,d5,a12,a13,a14,a15,a23,a24,a25,a34,a35,a45, solution_dict=True)\n",
    "\n",
    "show(m)\n",
    "show(sol)\n",
    "latex(sol)"
   ]
  },
  {
   "cell_type": "code",
   "execution_count": 16,
   "metadata": {},
   "outputs": [
    {
     "data": {
      "text/html": [
       "<html><script type=\"math/tex; mode=display\">\\newcommand{\\Bold}[1]{\\mathbf{#1}}\\left(\\begin{array}{rrrrr}\n",
       "0 & 1 & 0 & 0 & 0 \\\\\n",
       "0 & 0 & 1 & 0 & 0 \\\\\n",
       "0 & 0 & 0 & 1 & 0 \\\\\n",
       "0 & 0 & 0 & 0 & 0 \\\\\n",
       "0 & 0 & 0 & 0 & 0\n",
       "\\end{array}\\right)</script></html>"
      ],
      "text/latex": [
       "$$\\newcommand{\\Bold}[1]{\\mathbf{#1}}\\left(\\begin{array}{rrrrr}\n",
       "0 & 1 & 0 & 0 & 0 \\\\\n",
       "0 & 0 & 1 & 0 & 0 \\\\\n",
       "0 & 0 & 0 & 1 & 0 \\\\\n",
       "0 & 0 & 0 & 0 & 0 \\\\\n",
       "0 & 0 & 0 & 0 & 0\n",
       "\\end{array}\\right)$$"
      ],
      "text/plain": [
       "[0 1 0 0 0]\n",
       "[0 0 1 0 0]\n",
       "[0 0 0 1 0]\n",
       "[0 0 0 0 0]\n",
       "[0 0 0 0 0]"
      ]
     },
     "metadata": {},
     "output_type": "display_data"
    },
    {
     "data": {
      "text/html": [
       "<html><script type=\"math/tex; mode=display\">\\newcommand{\\Bold}[1]{\\mathbf{#1}}\\left[\\left\\{d_{1} : 0, d_{2} : 0, d_{3} : 0, d_{4} : 0, d_{5} : r_{241}, a_{12} : r_{242}, a_{13} : r_{243}, a_{14} : r_{244}, a_{15} : r_{245}, a_{23} : r_{246}, a_{24} : r_{247}, a_{25} : r_{248}, a_{34} : r_{249}, a_{35} : r_{250}, a_{45} : 0\\right\\}, \\left\\{d_{1} : r_{251}, d_{2} : \\frac{r_{251}}{x_{12}}, d_{3} : \\frac{r_{251}}{x_{12} x_{23}}, d_{4} : \\frac{r_{251}}{x_{12} x_{23} x_{34}}, d_{5} : r_{252}, a_{12} : r_{253}, a_{13} : r_{254}, a_{14} : r_{255}, a_{15} : r_{256}, a_{23} : \\frac{r_{253}}{x_{12}}, a_{24} : \\frac{r_{254}}{x_{12}}, a_{25} : 0, a_{34} : \\frac{r_{253} x_{23} x_{34} - r_{251} x_{24}}{x_{12} x_{23}^{2} x_{34}}, a_{35} : 0, a_{45} : 0\\right\\}\\right]</script></html>"
      ],
      "text/latex": [
       "$$\\newcommand{\\Bold}[1]{\\mathbf{#1}}\\left[\\left\\{d_{1} : 0, d_{2} : 0, d_{3} : 0, d_{4} : 0, d_{5} : r_{241}, a_{12} : r_{242}, a_{13} : r_{243}, a_{14} : r_{244}, a_{15} : r_{245}, a_{23} : r_{246}, a_{24} : r_{247}, a_{25} : r_{248}, a_{34} : r_{249}, a_{35} : r_{250}, a_{45} : 0\\right\\}, \\left\\{d_{1} : r_{251}, d_{2} : \\frac{r_{251}}{x_{12}}, d_{3} : \\frac{r_{251}}{x_{12} x_{23}}, d_{4} : \\frac{r_{251}}{x_{12} x_{23} x_{34}}, d_{5} : r_{252}, a_{12} : r_{253}, a_{13} : r_{254}, a_{14} : r_{255}, a_{15} : r_{256}, a_{23} : \\frac{r_{253}}{x_{12}}, a_{24} : \\frac{r_{254}}{x_{12}}, a_{25} : 0, a_{34} : \\frac{r_{253} x_{23} x_{34} - r_{251} x_{24}}{x_{12} x_{23}^{2} x_{34}}, a_{35} : 0, a_{45} : 0\\right\\}\\right]$$"
      ],
      "text/plain": [
       "[{d1: 0,\n",
       "  d2: 0,\n",
       "  d3: 0,\n",
       "  d4: 0,\n",
       "  d5: r241,\n",
       "  a12: r242,\n",
       "  a13: r243,\n",
       "  a14: r244,\n",
       "  a15: r245,\n",
       "  a23: r246,\n",
       "  a24: r247,\n",
       "  a25: r248,\n",
       "  a34: r249,\n",
       "  a35: r250,\n",
       "  a45: 0},\n",
       " {d1: r251,\n",
       "  d2: r251/x12,\n",
       "  d3: r251/(x12*x23),\n",
       "  d4: r251/(x12*x23*x34),\n",
       "  d5: r252,\n",
       "  a12: r253,\n",
       "  a13: r254,\n",
       "  a14: r255,\n",
       "  a15: r256,\n",
       "  a23: r253/x12,\n",
       "  a24: r254/x12,\n",
       "  a25: 0,\n",
       "  a34: (r253*x23*x34 - r251*x24)/(x12*x23^2*x34),\n",
       "  a35: 0,\n",
       "  a45: 0}]"
      ]
     },
     "metadata": {},
     "output_type": "display_data"
    },
    {
     "data": {
      "text/plain": [
       "\\left[\\left\\{d_{1} : 0, d_{2} : 0, d_{3} : 0, d_{4} : 0, d_{5} : r_{241}, a_{12} : r_{242}, a_{13} : r_{243}, a_{14} : r_{244}, a_{15} : r_{245}, a_{23} : r_{246}, a_{24} : r_{247}, a_{25} : r_{248}, a_{34} : r_{249}, a_{35} : r_{250}, a_{45} : 0\\right\\}, \\left\\{d_{1} : r_{251}, d_{2} : \\frac{r_{251}}{x_{12}}, d_{3} : \\frac{r_{251}}{x_{12} x_{23}}, d_{4} : \\frac{r_{251}}{x_{12} x_{23} x_{34}}, d_{5} : r_{252}, a_{12} : r_{253}, a_{13} : r_{254}, a_{14} : r_{255}, a_{15} : r_{256}, a_{23} : \\frac{r_{253}}{x_{12}}, a_{24} : \\frac{r_{254}}{x_{12}}, a_{25} : 0, a_{34} : \\frac{r_{253} x_{23} x_{34} - r_{251} x_{24}}{x_{12} x_{23}^{2} x_{34}}, a_{35} : 0, a_{45} : 0\\right\\}\\right]"
      ]
     },
     "execution_count": 16,
     "metadata": {},
     "output_type": "execute_result"
    }
   ],
   "source": [
    "#x7\n",
    "reset()\n",
    "\n",
    "var('x12,x13,x14,x15,x23,x24,x25,x34,x35,x45')\n",
    "var('d1,d2,d3,d4,d5')\n",
    "var('a12,a13,a14,a15,a23,a24,a25,a34,a35,a45')\n",
    "\n",
    "load_attach_path('C:\\\\Users\\\\julia\\\\Documents\\\\unb\\\\doutorado\\\\pensar\\\\codigo_sage_v2\\\\maquina\\\\x7')\n",
    "load('out_#010000.sage')\n",
    "\n",
    "m=matrix(QQ, [[0, 1, 0, 0, 0],\n",
    "              [0, 0, 1, 0, 0],\n",
    "              [0, 0, 0, 1, 0],\n",
    "              [0, 0, 0, 0, 0],\n",
    "              [0, 0, 0, 0, 0]])\n",
    "        \n",
    "#entry of matrix: (i,j) line i collum j, means (i-1,j-1)\n",
    "sol=solve([ eq1==m[0,1],\teq2==m[0,2],\teq3==m[0,3],\teq4==m[0,4],\t\n",
    "                                            eq5==m[1,2],    eq6==m[1,3],\n",
    "                                                            eq7==m[1,4], eq8==m[2,3], eq9==m[2,4]],d1,d2,d3,d4,d5,a12,a13,a14,a15,a23,a24,a25,a34,a35,a45, solution_dict=True)\n",
    "\n",
    "show(m)\n",
    "show(sol)\n",
    "latex(sol)"
   ]
  },
  {
   "cell_type": "code",
   "execution_count": 17,
   "metadata": {},
   "outputs": [
    {
     "data": {
      "text/html": [
       "<html><script type=\"math/tex; mode=display\">\\newcommand{\\Bold}[1]{\\mathbf{#1}}\\left(\\begin{array}{rrrrr}\n",
       "0 & 1 & 0 & 0 & 0 \\\\\n",
       "0 & 0 & 1 & 0 & 0 \\\\\n",
       "0 & 0 & 0 & 1 & 0 \\\\\n",
       "0 & 0 & 0 & 0 & 0 \\\\\n",
       "0 & 0 & 0 & 0 & 0\n",
       "\\end{array}\\right)</script></html>"
      ],
      "text/latex": [
       "$$\\newcommand{\\Bold}[1]{\\mathbf{#1}}\\left(\\begin{array}{rrrrr}\n",
       "0 & 1 & 0 & 0 & 0 \\\\\n",
       "0 & 0 & 1 & 0 & 0 \\\\\n",
       "0 & 0 & 0 & 1 & 0 \\\\\n",
       "0 & 0 & 0 & 0 & 0 \\\\\n",
       "0 & 0 & 0 & 0 & 0\n",
       "\\end{array}\\right)$$"
      ],
      "text/plain": [
       "[0 1 0 0 0]\n",
       "[0 0 1 0 0]\n",
       "[0 0 0 1 0]\n",
       "[0 0 0 0 0]\n",
       "[0 0 0 0 0]"
      ]
     },
     "metadata": {},
     "output_type": "display_data"
    },
    {
     "data": {
      "text/html": [
       "<html><script type=\"math/tex; mode=display\">\\newcommand{\\Bold}[1]{\\mathbf{#1}}\\left[\\left\\{d_{1} : 0, d_{2} : 0, d_{3} : 0, d_{4} : 0, d_{5} : r_{257}, a_{12} : r_{258}, a_{13} : r_{259}, a_{14} : r_{260}, a_{15} : r_{261}, a_{23} : r_{262}, a_{24} : r_{263}, a_{25} : r_{264}, a_{34} : r_{265}, a_{35} : r_{266}, a_{45} : 0\\right\\}, \\left\\{d_{1} : r_{267}, d_{2} : \\frac{r_{267}}{x_{12}}, d_{3} : \\frac{r_{267}}{x_{12} x_{23}}, d_{4} : \\frac{r_{267}}{x_{12} x_{23} x_{34}}, d_{5} : r_{268}, a_{12} : r_{269}, a_{13} : r_{270}, a_{14} : r_{271}, a_{15} : r_{272}, a_{23} : \\frac{r_{269}}{x_{12}}, a_{24} : \\frac{r_{270}}{x_{12}}, a_{25} : -\\frac{r_{268} x_{15}}{x_{12}}, a_{34} : \\frac{r_{269} x_{23} x_{34} - r_{267} x_{24}}{x_{12} x_{23}^{2} x_{34}}, a_{35} : 0, a_{45} : 0\\right\\}\\right]</script></html>"
      ],
      "text/latex": [
       "$$\\newcommand{\\Bold}[1]{\\mathbf{#1}}\\left[\\left\\{d_{1} : 0, d_{2} : 0, d_{3} : 0, d_{4} : 0, d_{5} : r_{257}, a_{12} : r_{258}, a_{13} : r_{259}, a_{14} : r_{260}, a_{15} : r_{261}, a_{23} : r_{262}, a_{24} : r_{263}, a_{25} : r_{264}, a_{34} : r_{265}, a_{35} : r_{266}, a_{45} : 0\\right\\}, \\left\\{d_{1} : r_{267}, d_{2} : \\frac{r_{267}}{x_{12}}, d_{3} : \\frac{r_{267}}{x_{12} x_{23}}, d_{4} : \\frac{r_{267}}{x_{12} x_{23} x_{34}}, d_{5} : r_{268}, a_{12} : r_{269}, a_{13} : r_{270}, a_{14} : r_{271}, a_{15} : r_{272}, a_{23} : \\frac{r_{269}}{x_{12}}, a_{24} : \\frac{r_{270}}{x_{12}}, a_{25} : -\\frac{r_{268} x_{15}}{x_{12}}, a_{34} : \\frac{r_{269} x_{23} x_{34} - r_{267} x_{24}}{x_{12} x_{23}^{2} x_{34}}, a_{35} : 0, a_{45} : 0\\right\\}\\right]$$"
      ],
      "text/plain": [
       "[{d1: 0,\n",
       "  d2: 0,\n",
       "  d3: 0,\n",
       "  d4: 0,\n",
       "  d5: r257,\n",
       "  a12: r258,\n",
       "  a13: r259,\n",
       "  a14: r260,\n",
       "  a15: r261,\n",
       "  a23: r262,\n",
       "  a24: r263,\n",
       "  a25: r264,\n",
       "  a34: r265,\n",
       "  a35: r266,\n",
       "  a45: 0},\n",
       " {d1: r267,\n",
       "  d2: r267/x12,\n",
       "  d3: r267/(x12*x23),\n",
       "  d4: r267/(x12*x23*x34),\n",
       "  d5: r268,\n",
       "  a12: r269,\n",
       "  a13: r270,\n",
       "  a14: r271,\n",
       "  a15: r272,\n",
       "  a23: r269/x12,\n",
       "  a24: r270/x12,\n",
       "  a25: -r268*x15/x12,\n",
       "  a34: (r269*x23*x34 - r267*x24)/(x12*x23^2*x34),\n",
       "  a35: 0,\n",
       "  a45: 0}]"
      ]
     },
     "metadata": {},
     "output_type": "display_data"
    },
    {
     "data": {
      "text/plain": [
       "\\left[\\left\\{d_{1} : 0, d_{2} : 0, d_{3} : 0, d_{4} : 0, d_{5} : r_{257}, a_{12} : r_{258}, a_{13} : r_{259}, a_{14} : r_{260}, a_{15} : r_{261}, a_{23} : r_{262}, a_{24} : r_{263}, a_{25} : r_{264}, a_{34} : r_{265}, a_{35} : r_{266}, a_{45} : 0\\right\\}, \\left\\{d_{1} : r_{267}, d_{2} : \\frac{r_{267}}{x_{12}}, d_{3} : \\frac{r_{267}}{x_{12} x_{23}}, d_{4} : \\frac{r_{267}}{x_{12} x_{23} x_{34}}, d_{5} : r_{268}, a_{12} : r_{269}, a_{13} : r_{270}, a_{14} : r_{271}, a_{15} : r_{272}, a_{23} : \\frac{r_{269}}{x_{12}}, a_{24} : \\frac{r_{270}}{x_{12}}, a_{25} : -\\frac{r_{268} x_{15}}{x_{12}}, a_{34} : \\frac{r_{269} x_{23} x_{34} - r_{267} x_{24}}{x_{12} x_{23}^{2} x_{34}}, a_{35} : 0, a_{45} : 0\\right\\}\\right]"
      ]
     },
     "execution_count": 17,
     "metadata": {},
     "output_type": "execute_result"
    }
   ],
   "source": [
    "#x7\n",
    "reset()\n",
    "\n",
    "var('x12,x13,x14,x15,x23,x24,x25,x34,x35,x45')\n",
    "var('d1,d2,d3,d4,d5')\n",
    "var('a12,a13,a14,a15,a23,a24,a25,a34,a35,a45')\n",
    "\n",
    "load_attach_path('C:\\\\Users\\\\julia\\\\Documents\\\\unb\\\\doutorado\\\\pensar\\\\codigo_sage_v2\\\\maquina\\\\x7')\n",
    "load('out_#010001.sage')\n",
    "\n",
    "m=matrix(QQ, [[0, 1, 0, 0, 0],\n",
    "              [0, 0, 1, 0, 0],\n",
    "              [0, 0, 0, 1, 0],\n",
    "              [0, 0, 0, 0, 0],\n",
    "              [0, 0, 0, 0, 0]])\n",
    "        \n",
    "#entry of matrix: (i,j) line i collum j, means (i-1,j-1)\n",
    "sol=solve([ eq1==m[0,1],\teq2==m[0,2],\teq3==m[0,3],\teq4==m[0,4],\t\n",
    "                                            eq5==m[1,2],    eq6==m[1,3],\n",
    "                                                            eq7==m[1,4], eq8==m[2,3], eq9==m[2,4]],d1,d2,d3,d4,d5,a12,a13,a14,a15,a23,a24,a25,a34,a35,a45, solution_dict=True)\n",
    "\n",
    "show(m)\n",
    "show(sol)\n",
    "latex(sol)"
   ]
  },
  {
   "cell_type": "code",
   "execution_count": 18,
   "metadata": {},
   "outputs": [
    {
     "data": {
      "text/html": [
       "<html><script type=\"math/tex; mode=display\">\\newcommand{\\Bold}[1]{\\mathbf{#1}}\\left(\\begin{array}{rrrrr}\n",
       "0 & 1 & 0 & 0 & 0 \\\\\n",
       "0 & 0 & 1 & 0 & 0 \\\\\n",
       "0 & 0 & 0 & 1 & 0 \\\\\n",
       "0 & 0 & 0 & 0 & 0 \\\\\n",
       "0 & 0 & 0 & 0 & 0\n",
       "\\end{array}\\right)</script></html>"
      ],
      "text/latex": [
       "$$\\newcommand{\\Bold}[1]{\\mathbf{#1}}\\left(\\begin{array}{rrrrr}\n",
       "0 & 1 & 0 & 0 & 0 \\\\\n",
       "0 & 0 & 1 & 0 & 0 \\\\\n",
       "0 & 0 & 0 & 1 & 0 \\\\\n",
       "0 & 0 & 0 & 0 & 0 \\\\\n",
       "0 & 0 & 0 & 0 & 0\n",
       "\\end{array}\\right)$$"
      ],
      "text/plain": [
       "[0 1 0 0 0]\n",
       "[0 0 1 0 0]\n",
       "[0 0 0 1 0]\n",
       "[0 0 0 0 0]\n",
       "[0 0 0 0 0]"
      ]
     },
     "metadata": {},
     "output_type": "display_data"
    },
    {
     "data": {
      "text/html": [
       "<html><script type=\"math/tex; mode=display\">\\newcommand{\\Bold}[1]{\\mathbf{#1}}\\left[\\left\\{d_{1} : 0, d_{2} : 0, d_{3} : 0, d_{4} : 0, d_{5} : r_{273}, a_{12} : r_{274}, a_{13} : r_{275}, a_{14} : r_{276}, a_{15} : r_{277}, a_{23} : r_{278}, a_{24} : r_{279}, a_{25} : r_{280}, a_{34} : r_{281}, a_{35} : r_{282}, a_{45} : 0\\right\\}, \\left\\{d_{1} : r_{283}, d_{2} : \\frac{r_{283}}{x_{12}}, d_{3} : \\frac{r_{283}}{x_{12} x_{23}}, d_{4} : \\frac{r_{283}}{x_{12} x_{23} x_{34}}, d_{5} : r_{284}, a_{12} : r_{285}, a_{13} : r_{286}, a_{14} : r_{287}, a_{15} : r_{288}, a_{23} : \\frac{r_{285}}{x_{12}}, a_{24} : \\frac{r_{286} x_{12} x_{23} x_{34} - r_{283} x_{14}}{x_{12}^{2} x_{23} x_{34}}, a_{25} : 0, a_{34} : \\frac{r_{285} x_{23} x_{34} - r_{283} x_{24}}{x_{12} x_{23}^{2} x_{34}}, a_{35} : 0, a_{45} : 0\\right\\}\\right]</script></html>"
      ],
      "text/latex": [
       "$$\\newcommand{\\Bold}[1]{\\mathbf{#1}}\\left[\\left\\{d_{1} : 0, d_{2} : 0, d_{3} : 0, d_{4} : 0, d_{5} : r_{273}, a_{12} : r_{274}, a_{13} : r_{275}, a_{14} : r_{276}, a_{15} : r_{277}, a_{23} : r_{278}, a_{24} : r_{279}, a_{25} : r_{280}, a_{34} : r_{281}, a_{35} : r_{282}, a_{45} : 0\\right\\}, \\left\\{d_{1} : r_{283}, d_{2} : \\frac{r_{283}}{x_{12}}, d_{3} : \\frac{r_{283}}{x_{12} x_{23}}, d_{4} : \\frac{r_{283}}{x_{12} x_{23} x_{34}}, d_{5} : r_{284}, a_{12} : r_{285}, a_{13} : r_{286}, a_{14} : r_{287}, a_{15} : r_{288}, a_{23} : \\frac{r_{285}}{x_{12}}, a_{24} : \\frac{r_{286} x_{12} x_{23} x_{34} - r_{283} x_{14}}{x_{12}^{2} x_{23} x_{34}}, a_{25} : 0, a_{34} : \\frac{r_{285} x_{23} x_{34} - r_{283} x_{24}}{x_{12} x_{23}^{2} x_{34}}, a_{35} : 0, a_{45} : 0\\right\\}\\right]$$"
      ],
      "text/plain": [
       "[{d1: 0,\n",
       "  d2: 0,\n",
       "  d3: 0,\n",
       "  d4: 0,\n",
       "  d5: r273,\n",
       "  a12: r274,\n",
       "  a13: r275,\n",
       "  a14: r276,\n",
       "  a15: r277,\n",
       "  a23: r278,\n",
       "  a24: r279,\n",
       "  a25: r280,\n",
       "  a34: r281,\n",
       "  a35: r282,\n",
       "  a45: 0},\n",
       " {d1: r283,\n",
       "  d2: r283/x12,\n",
       "  d3: r283/(x12*x23),\n",
       "  d4: r283/(x12*x23*x34),\n",
       "  d5: r284,\n",
       "  a12: r285,\n",
       "  a13: r286,\n",
       "  a14: r287,\n",
       "  a15: r288,\n",
       "  a23: r285/x12,\n",
       "  a24: (r286*x12*x23*x34 - r283*x14)/(x12^2*x23*x34),\n",
       "  a25: 0,\n",
       "  a34: (r285*x23*x34 - r283*x24)/(x12*x23^2*x34),\n",
       "  a35: 0,\n",
       "  a45: 0}]"
      ]
     },
     "metadata": {},
     "output_type": "display_data"
    },
    {
     "data": {
      "text/plain": [
       "\\left[\\left\\{d_{1} : 0, d_{2} : 0, d_{3} : 0, d_{4} : 0, d_{5} : r_{273}, a_{12} : r_{274}, a_{13} : r_{275}, a_{14} : r_{276}, a_{15} : r_{277}, a_{23} : r_{278}, a_{24} : r_{279}, a_{25} : r_{280}, a_{34} : r_{281}, a_{35} : r_{282}, a_{45} : 0\\right\\}, \\left\\{d_{1} : r_{283}, d_{2} : \\frac{r_{283}}{x_{12}}, d_{3} : \\frac{r_{283}}{x_{12} x_{23}}, d_{4} : \\frac{r_{283}}{x_{12} x_{23} x_{34}}, d_{5} : r_{284}, a_{12} : r_{285}, a_{13} : r_{286}, a_{14} : r_{287}, a_{15} : r_{288}, a_{23} : \\frac{r_{285}}{x_{12}}, a_{24} : \\frac{r_{286} x_{12} x_{23} x_{34} - r_{283} x_{14}}{x_{12}^{2} x_{23} x_{34}}, a_{25} : 0, a_{34} : \\frac{r_{285} x_{23} x_{34} - r_{283} x_{24}}{x_{12} x_{23}^{2} x_{34}}, a_{35} : 0, a_{45} : 0\\right\\}\\right]"
      ]
     },
     "execution_count": 18,
     "metadata": {},
     "output_type": "execute_result"
    }
   ],
   "source": [
    "#x7\n",
    "reset()\n",
    "\n",
    "var('x12,x13,x14,x15,x23,x24,x25,x34,x35,x45')\n",
    "var('d1,d2,d3,d4,d5')\n",
    "var('a12,a13,a14,a15,a23,a24,a25,a34,a35,a45')\n",
    "\n",
    "load_attach_path('C:\\\\Users\\\\julia\\\\Documents\\\\unb\\\\doutorado\\\\pensar\\\\codigo_sage_v2\\\\maquina\\\\x7')\n",
    "load('out_#010010.sage')\n",
    "\n",
    "m=matrix(QQ, [[0, 1, 0, 0, 0],\n",
    "              [0, 0, 1, 0, 0],\n",
    "              [0, 0, 0, 1, 0],\n",
    "              [0, 0, 0, 0, 0],\n",
    "              [0, 0, 0, 0, 0]])\n",
    "        \n",
    "#entry of matrix: (i,j) line i collum j, means (i-1,j-1)\n",
    "sol=solve([ eq1==m[0,1],\teq2==m[0,2],\teq3==m[0,3],\teq4==m[0,4],\t\n",
    "                                            eq5==m[1,2],    eq6==m[1,3],\n",
    "                                                            eq7==m[1,4], eq8==m[2,3], eq9==m[2,4]],d1,d2,d3,d4,d5,a12,a13,a14,a15,a23,a24,a25,a34,a35,a45, solution_dict=True)\n",
    "\n",
    "show(m)\n",
    "show(sol)\n",
    "latex(sol)"
   ]
  },
  {
   "cell_type": "code",
   "execution_count": 19,
   "metadata": {},
   "outputs": [
    {
     "data": {
      "text/html": [
       "<html><script type=\"math/tex; mode=display\">\\newcommand{\\Bold}[1]{\\mathbf{#1}}\\left(\\begin{array}{rrrrr}\n",
       "0 & 1 & 0 & 0 & 0 \\\\\n",
       "0 & 0 & 1 & 0 & 0 \\\\\n",
       "0 & 0 & 0 & 1 & 0 \\\\\n",
       "0 & 0 & 0 & 0 & 0 \\\\\n",
       "0 & 0 & 0 & 0 & 0\n",
       "\\end{array}\\right)</script></html>"
      ],
      "text/latex": [
       "$$\\newcommand{\\Bold}[1]{\\mathbf{#1}}\\left(\\begin{array}{rrrrr}\n",
       "0 & 1 & 0 & 0 & 0 \\\\\n",
       "0 & 0 & 1 & 0 & 0 \\\\\n",
       "0 & 0 & 0 & 1 & 0 \\\\\n",
       "0 & 0 & 0 & 0 & 0 \\\\\n",
       "0 & 0 & 0 & 0 & 0\n",
       "\\end{array}\\right)$$"
      ],
      "text/plain": [
       "[0 1 0 0 0]\n",
       "[0 0 1 0 0]\n",
       "[0 0 0 1 0]\n",
       "[0 0 0 0 0]\n",
       "[0 0 0 0 0]"
      ]
     },
     "metadata": {},
     "output_type": "display_data"
    },
    {
     "data": {
      "text/html": [
       "<html><script type=\"math/tex; mode=display\">\\newcommand{\\Bold}[1]{\\mathbf{#1}}\\left[\\left\\{d_{1} : 0, d_{2} : 0, d_{3} : 0, d_{4} : 0, d_{5} : r_{289}, a_{12} : r_{290}, a_{13} : r_{291}, a_{14} : r_{292}, a_{15} : r_{293}, a_{23} : r_{294}, a_{24} : r_{295}, a_{25} : r_{296}, a_{34} : r_{297}, a_{35} : r_{298}, a_{45} : 0\\right\\}, \\left\\{d_{1} : r_{299}, d_{2} : \\frac{r_{299}}{x_{12}}, d_{3} : \\frac{r_{299}}{x_{12} x_{23}}, d_{4} : \\frac{r_{299}}{x_{12} x_{23} x_{34}}, d_{5} : r_{300}, a_{12} : r_{301}, a_{13} : r_{302}, a_{14} : r_{303}, a_{15} : r_{304}, a_{23} : \\frac{r_{301}}{x_{12}}, a_{24} : \\frac{r_{302} x_{12} x_{23} x_{34} - r_{299} x_{14}}{x_{12}^{2} x_{23} x_{34}}, a_{25} : -\\frac{r_{300} x_{15}}{x_{12}}, a_{34} : \\frac{r_{301} x_{23} x_{34} - r_{299} x_{24}}{x_{12} x_{23}^{2} x_{34}}, a_{35} : 0, a_{45} : 0\\right\\}\\right]</script></html>"
      ],
      "text/latex": [
       "$$\\newcommand{\\Bold}[1]{\\mathbf{#1}}\\left[\\left\\{d_{1} : 0, d_{2} : 0, d_{3} : 0, d_{4} : 0, d_{5} : r_{289}, a_{12} : r_{290}, a_{13} : r_{291}, a_{14} : r_{292}, a_{15} : r_{293}, a_{23} : r_{294}, a_{24} : r_{295}, a_{25} : r_{296}, a_{34} : r_{297}, a_{35} : r_{298}, a_{45} : 0\\right\\}, \\left\\{d_{1} : r_{299}, d_{2} : \\frac{r_{299}}{x_{12}}, d_{3} : \\frac{r_{299}}{x_{12} x_{23}}, d_{4} : \\frac{r_{299}}{x_{12} x_{23} x_{34}}, d_{5} : r_{300}, a_{12} : r_{301}, a_{13} : r_{302}, a_{14} : r_{303}, a_{15} : r_{304}, a_{23} : \\frac{r_{301}}{x_{12}}, a_{24} : \\frac{r_{302} x_{12} x_{23} x_{34} - r_{299} x_{14}}{x_{12}^{2} x_{23} x_{34}}, a_{25} : -\\frac{r_{300} x_{15}}{x_{12}}, a_{34} : \\frac{r_{301} x_{23} x_{34} - r_{299} x_{24}}{x_{12} x_{23}^{2} x_{34}}, a_{35} : 0, a_{45} : 0\\right\\}\\right]$$"
      ],
      "text/plain": [
       "[{d1: 0,\n",
       "  d2: 0,\n",
       "  d3: 0,\n",
       "  d4: 0,\n",
       "  d5: r289,\n",
       "  a12: r290,\n",
       "  a13: r291,\n",
       "  a14: r292,\n",
       "  a15: r293,\n",
       "  a23: r294,\n",
       "  a24: r295,\n",
       "  a25: r296,\n",
       "  a34: r297,\n",
       "  a35: r298,\n",
       "  a45: 0},\n",
       " {d1: r299,\n",
       "  d2: r299/x12,\n",
       "  d3: r299/(x12*x23),\n",
       "  d4: r299/(x12*x23*x34),\n",
       "  d5: r300,\n",
       "  a12: r301,\n",
       "  a13: r302,\n",
       "  a14: r303,\n",
       "  a15: r304,\n",
       "  a23: r301/x12,\n",
       "  a24: (r302*x12*x23*x34 - r299*x14)/(x12^2*x23*x34),\n",
       "  a25: -r300*x15/x12,\n",
       "  a34: (r301*x23*x34 - r299*x24)/(x12*x23^2*x34),\n",
       "  a35: 0,\n",
       "  a45: 0}]"
      ]
     },
     "metadata": {},
     "output_type": "display_data"
    },
    {
     "data": {
      "text/plain": [
       "\\left[\\left\\{d_{1} : 0, d_{2} : 0, d_{3} : 0, d_{4} : 0, d_{5} : r_{289}, a_{12} : r_{290}, a_{13} : r_{291}, a_{14} : r_{292}, a_{15} : r_{293}, a_{23} : r_{294}, a_{24} : r_{295}, a_{25} : r_{296}, a_{34} : r_{297}, a_{35} : r_{298}, a_{45} : 0\\right\\}, \\left\\{d_{1} : r_{299}, d_{2} : \\frac{r_{299}}{x_{12}}, d_{3} : \\frac{r_{299}}{x_{12} x_{23}}, d_{4} : \\frac{r_{299}}{x_{12} x_{23} x_{34}}, d_{5} : r_{300}, a_{12} : r_{301}, a_{13} : r_{302}, a_{14} : r_{303}, a_{15} : r_{304}, a_{23} : \\frac{r_{301}}{x_{12}}, a_{24} : \\frac{r_{302} x_{12} x_{23} x_{34} - r_{299} x_{14}}{x_{12}^{2} x_{23} x_{34}}, a_{25} : -\\frac{r_{300} x_{15}}{x_{12}}, a_{34} : \\frac{r_{301} x_{23} x_{34} - r_{299} x_{24}}{x_{12} x_{23}^{2} x_{34}}, a_{35} : 0, a_{45} : 0\\right\\}\\right]"
      ]
     },
     "execution_count": 19,
     "metadata": {},
     "output_type": "execute_result"
    }
   ],
   "source": [
    "#x7\n",
    "reset()\n",
    "\n",
    "var('x12,x13,x14,x15,x23,x24,x25,x34,x35,x45')\n",
    "var('d1,d2,d3,d4,d5')\n",
    "var('a12,a13,a14,a15,a23,a24,a25,a34,a35,a45')\n",
    "\n",
    "load_attach_path('C:\\\\Users\\\\julia\\\\Documents\\\\unb\\\\doutorado\\\\pensar\\\\codigo_sage_v2\\\\maquina\\\\x7')\n",
    "load('out_#010011.sage')\n",
    "\n",
    "m=matrix(QQ, [[0, 1, 0, 0, 0],\n",
    "              [0, 0, 1, 0, 0],\n",
    "              [0, 0, 0, 1, 0],\n",
    "              [0, 0, 0, 0, 0],\n",
    "              [0, 0, 0, 0, 0]])\n",
    "        \n",
    "#entry of matrix: (i,j) line i collum j, means (i-1,j-1)\n",
    "sol=solve([ eq1==m[0,1],\teq2==m[0,2],\teq3==m[0,3],\teq4==m[0,4],\t\n",
    "                                            eq5==m[1,2],    eq6==m[1,3],\n",
    "                                                            eq7==m[1,4], eq8==m[2,3], eq9==m[2,4]],d1,d2,d3,d4,d5,a12,a13,a14,a15,a23,a24,a25,a34,a35,a45, solution_dict=True)\n",
    "\n",
    "show(m)\n",
    "show(sol)\n",
    "latex(sol)"
   ]
  },
  {
   "cell_type": "code",
   "execution_count": 20,
   "metadata": {},
   "outputs": [
    {
     "data": {
      "text/html": [
       "<html><script type=\"math/tex; mode=display\">\\newcommand{\\Bold}[1]{\\mathbf{#1}}\\left(\\begin{array}{rrrrr}\n",
       "0 & 1 & 0 & 0 & 0 \\\\\n",
       "0 & 0 & 1 & 0 & 0 \\\\\n",
       "0 & 0 & 0 & 1 & 0 \\\\\n",
       "0 & 0 & 0 & 0 & 0 \\\\\n",
       "0 & 0 & 0 & 0 & 0\n",
       "\\end{array}\\right)</script></html>"
      ],
      "text/latex": [
       "$$\\newcommand{\\Bold}[1]{\\mathbf{#1}}\\left(\\begin{array}{rrrrr}\n",
       "0 & 1 & 0 & 0 & 0 \\\\\n",
       "0 & 0 & 1 & 0 & 0 \\\\\n",
       "0 & 0 & 0 & 1 & 0 \\\\\n",
       "0 & 0 & 0 & 0 & 0 \\\\\n",
       "0 & 0 & 0 & 0 & 0\n",
       "\\end{array}\\right)$$"
      ],
      "text/plain": [
       "[0 1 0 0 0]\n",
       "[0 0 1 0 0]\n",
       "[0 0 0 1 0]\n",
       "[0 0 0 0 0]\n",
       "[0 0 0 0 0]"
      ]
     },
     "metadata": {},
     "output_type": "display_data"
    },
    {
     "data": {
      "text/html": [
       "<html><script type=\"math/tex; mode=display\">\\newcommand{\\Bold}[1]{\\mathbf{#1}}\\left[\\left\\{d_{1} : 0, d_{2} : 0, d_{3} : 0, d_{4} : 0, d_{5} : r_{305}, a_{12} : r_{306}, a_{13} : r_{307}, a_{14} : r_{308}, a_{15} : r_{309}, a_{23} : r_{310}, a_{24} : r_{311}, a_{25} : r_{312}, a_{34} : r_{313}, a_{35} : r_{314}, a_{45} : 0\\right\\}, \\left\\{d_{1} : r_{315}, d_{2} : \\frac{r_{315}}{x_{12}}, d_{3} : \\frac{r_{315}}{x_{12} x_{23}}, d_{4} : \\frac{r_{315}}{x_{12} x_{23} x_{34}}, d_{5} : r_{316}, a_{12} : r_{317}, a_{13} : r_{318}, a_{14} : r_{319}, a_{15} : r_{320}, a_{23} : \\frac{r_{317} x_{12} x_{23} - r_{315} x_{13}}{x_{12}^{2} x_{23}}, a_{24} : \\frac{r_{315} x_{12} x_{13} x_{24} + {\\left(r_{318} x_{12}^{2} x_{23}^{2} - r_{317} x_{12} x_{13} x_{23} + r_{315} x_{13}^{2}\\right)} x_{34}}{x_{12}^{3} x_{23}^{2} x_{34}}, a_{25} : 0, a_{34} : -\\frac{r_{315} x_{12} x_{24} - {\\left(r_{317} x_{12} x_{23} - r_{315} x_{13}\\right)} x_{34}}{x_{12}^{2} x_{23}^{2} x_{34}}, a_{35} : 0, a_{45} : 0\\right\\}\\right]</script></html>"
      ],
      "text/latex": [
       "$$\\newcommand{\\Bold}[1]{\\mathbf{#1}}\\left[\\left\\{d_{1} : 0, d_{2} : 0, d_{3} : 0, d_{4} : 0, d_{5} : r_{305}, a_{12} : r_{306}, a_{13} : r_{307}, a_{14} : r_{308}, a_{15} : r_{309}, a_{23} : r_{310}, a_{24} : r_{311}, a_{25} : r_{312}, a_{34} : r_{313}, a_{35} : r_{314}, a_{45} : 0\\right\\}, \\left\\{d_{1} : r_{315}, d_{2} : \\frac{r_{315}}{x_{12}}, d_{3} : \\frac{r_{315}}{x_{12} x_{23}}, d_{4} : \\frac{r_{315}}{x_{12} x_{23} x_{34}}, d_{5} : r_{316}, a_{12} : r_{317}, a_{13} : r_{318}, a_{14} : r_{319}, a_{15} : r_{320}, a_{23} : \\frac{r_{317} x_{12} x_{23} - r_{315} x_{13}}{x_{12}^{2} x_{23}}, a_{24} : \\frac{r_{315} x_{12} x_{13} x_{24} + {\\left(r_{318} x_{12}^{2} x_{23}^{2} - r_{317} x_{12} x_{13} x_{23} + r_{315} x_{13}^{2}\\right)} x_{34}}{x_{12}^{3} x_{23}^{2} x_{34}}, a_{25} : 0, a_{34} : -\\frac{r_{315} x_{12} x_{24} - {\\left(r_{317} x_{12} x_{23} - r_{315} x_{13}\\right)} x_{34}}{x_{12}^{2} x_{23}^{2} x_{34}}, a_{35} : 0, a_{45} : 0\\right\\}\\right]$$"
      ],
      "text/plain": [
       "[{d1: 0,\n",
       "  d2: 0,\n",
       "  d3: 0,\n",
       "  d4: 0,\n",
       "  d5: r305,\n",
       "  a12: r306,\n",
       "  a13: r307,\n",
       "  a14: r308,\n",
       "  a15: r309,\n",
       "  a23: r310,\n",
       "  a24: r311,\n",
       "  a25: r312,\n",
       "  a34: r313,\n",
       "  a35: r314,\n",
       "  a45: 0},\n",
       " {d1: r315,\n",
       "  d2: r315/x12,\n",
       "  d3: r315/(x12*x23),\n",
       "  d4: r315/(x12*x23*x34),\n",
       "  d5: r316,\n",
       "  a12: r317,\n",
       "  a13: r318,\n",
       "  a14: r319,\n",
       "  a15: r320,\n",
       "  a23: (r317*x12*x23 - r315*x13)/(x12^2*x23),\n",
       "  a24: (r315*x12*x13*x24 + (r318*x12^2*x23^2 - r317*x12*x13*x23 + r315*x13^2)*x34)/(x12^3*x23^2*x34),\n",
       "  a25: 0,\n",
       "  a34: -(r315*x12*x24 - (r317*x12*x23 - r315*x13)*x34)/(x12^2*x23^2*x34),\n",
       "  a35: 0,\n",
       "  a45: 0}]"
      ]
     },
     "metadata": {},
     "output_type": "display_data"
    },
    {
     "data": {
      "text/plain": [
       "\\left[\\left\\{d_{1} : 0, d_{2} : 0, d_{3} : 0, d_{4} : 0, d_{5} : r_{305}, a_{12} : r_{306}, a_{13} : r_{307}, a_{14} : r_{308}, a_{15} : r_{309}, a_{23} : r_{310}, a_{24} : r_{311}, a_{25} : r_{312}, a_{34} : r_{313}, a_{35} : r_{314}, a_{45} : 0\\right\\}, \\left\\{d_{1} : r_{315}, d_{2} : \\frac{r_{315}}{x_{12}}, d_{3} : \\frac{r_{315}}{x_{12} x_{23}}, d_{4} : \\frac{r_{315}}{x_{12} x_{23} x_{34}}, d_{5} : r_{316}, a_{12} : r_{317}, a_{13} : r_{318}, a_{14} : r_{319}, a_{15} : r_{320}, a_{23} : \\frac{r_{317} x_{12} x_{23} - r_{315} x_{13}}{x_{12}^{2} x_{23}}, a_{24} : \\frac{r_{315} x_{12} x_{13} x_{24} + {\\left(r_{318} x_{12}^{2} x_{23}^{2} - r_{317} x_{12} x_{13} x_{23} + r_{315} x_{13}^{2}\\right)} x_{34}}{x_{12}^{3} x_{23}^{2} x_{34}}, a_{25} : 0, a_{34} : -\\frac{r_{315} x_{12} x_{24} - {\\left(r_{317} x_{12} x_{23} - r_{315} x_{13}\\right)} x_{34}}{x_{12}^{2} x_{23}^{2} x_{34}}, a_{35} : 0, a_{45} : 0\\right\\}\\right]"
      ]
     },
     "execution_count": 20,
     "metadata": {},
     "output_type": "execute_result"
    }
   ],
   "source": [
    "#x7\n",
    "reset()\n",
    "\n",
    "var('x12,x13,x14,x15,x23,x24,x25,x34,x35,x45')\n",
    "var('d1,d2,d3,d4,d5')\n",
    "var('a12,a13,a14,a15,a23,a24,a25,a34,a35,a45')\n",
    "\n",
    "load_attach_path('C:\\\\Users\\\\julia\\\\Documents\\\\unb\\\\doutorado\\\\pensar\\\\codigo_sage_v2\\\\maquina\\\\x7')\n",
    "load('out_#010100.sage')\n",
    "\n",
    "m=matrix(QQ, [[0, 1, 0, 0, 0],\n",
    "              [0, 0, 1, 0, 0],\n",
    "              [0, 0, 0, 1, 0],\n",
    "              [0, 0, 0, 0, 0],\n",
    "              [0, 0, 0, 0, 0]])\n",
    "        \n",
    "#entry of matrix: (i,j) line i collum j, means (i-1,j-1)\n",
    "sol=solve([ eq1==m[0,1],\teq2==m[0,2],\teq3==m[0,3],\teq4==m[0,4],\t\n",
    "                                            eq5==m[1,2],    eq6==m[1,3],\n",
    "                                                            eq7==m[1,4], eq8==m[2,3], eq9==m[2,4]],d1,d2,d3,d4,d5,a12,a13,a14,a15,a23,a24,a25,a34,a35,a45, solution_dict=True)\n",
    "\n",
    "show(m)\n",
    "show(sol)\n",
    "latex(sol)"
   ]
  },
  {
   "cell_type": "code",
   "execution_count": 21,
   "metadata": {},
   "outputs": [
    {
     "data": {
      "text/html": [
       "<html><script type=\"math/tex; mode=display\">\\newcommand{\\Bold}[1]{\\mathbf{#1}}\\left(\\begin{array}{rrrrr}\n",
       "0 & 1 & 0 & 0 & 0 \\\\\n",
       "0 & 0 & 1 & 0 & 0 \\\\\n",
       "0 & 0 & 0 & 1 & 0 \\\\\n",
       "0 & 0 & 0 & 0 & 0 \\\\\n",
       "0 & 0 & 0 & 0 & 0\n",
       "\\end{array}\\right)</script></html>"
      ],
      "text/latex": [
       "$$\\newcommand{\\Bold}[1]{\\mathbf{#1}}\\left(\\begin{array}{rrrrr}\n",
       "0 & 1 & 0 & 0 & 0 \\\\\n",
       "0 & 0 & 1 & 0 & 0 \\\\\n",
       "0 & 0 & 0 & 1 & 0 \\\\\n",
       "0 & 0 & 0 & 0 & 0 \\\\\n",
       "0 & 0 & 0 & 0 & 0\n",
       "\\end{array}\\right)$$"
      ],
      "text/plain": [
       "[0 1 0 0 0]\n",
       "[0 0 1 0 0]\n",
       "[0 0 0 1 0]\n",
       "[0 0 0 0 0]\n",
       "[0 0 0 0 0]"
      ]
     },
     "metadata": {},
     "output_type": "display_data"
    },
    {
     "data": {
      "text/html": [
       "<html><script type=\"math/tex; mode=display\">\\newcommand{\\Bold}[1]{\\mathbf{#1}}\\left[\\left\\{d_{1} : 0, d_{2} : 0, d_{3} : 0, d_{4} : 0, d_{5} : r_{321}, a_{12} : r_{322}, a_{13} : r_{323}, a_{14} : r_{324}, a_{15} : r_{325}, a_{23} : r_{326}, a_{24} : r_{327}, a_{25} : r_{328}, a_{34} : r_{329}, a_{35} : r_{330}, a_{45} : 0\\right\\}, \\left\\{d_{1} : r_{331}, d_{2} : \\frac{r_{331}}{x_{12}}, d_{3} : \\frac{r_{331}}{x_{12} x_{23}}, d_{4} : \\frac{r_{331}}{x_{12} x_{23} x_{34}}, d_{5} : r_{332}, a_{12} : r_{333}, a_{13} : r_{334}, a_{14} : r_{335}, a_{15} : r_{336}, a_{23} : \\frac{r_{333} x_{12} x_{23} - r_{331} x_{13}}{x_{12}^{2} x_{23}}, a_{24} : \\frac{r_{331} x_{12} x_{13} x_{24} + {\\left(r_{334} x_{12}^{2} x_{23}^{2} - r_{333} x_{12} x_{13} x_{23} + r_{331} x_{13}^{2}\\right)} x_{34}}{x_{12}^{3} x_{23}^{2} x_{34}}, a_{25} : -\\frac{r_{332} x_{15}}{x_{12}}, a_{34} : -\\frac{r_{331} x_{12} x_{24} - {\\left(r_{333} x_{12} x_{23} - r_{331} x_{13}\\right)} x_{34}}{x_{12}^{2} x_{23}^{2} x_{34}}, a_{35} : 0, a_{45} : 0\\right\\}\\right]</script></html>"
      ],
      "text/latex": [
       "$$\\newcommand{\\Bold}[1]{\\mathbf{#1}}\\left[\\left\\{d_{1} : 0, d_{2} : 0, d_{3} : 0, d_{4} : 0, d_{5} : r_{321}, a_{12} : r_{322}, a_{13} : r_{323}, a_{14} : r_{324}, a_{15} : r_{325}, a_{23} : r_{326}, a_{24} : r_{327}, a_{25} : r_{328}, a_{34} : r_{329}, a_{35} : r_{330}, a_{45} : 0\\right\\}, \\left\\{d_{1} : r_{331}, d_{2} : \\frac{r_{331}}{x_{12}}, d_{3} : \\frac{r_{331}}{x_{12} x_{23}}, d_{4} : \\frac{r_{331}}{x_{12} x_{23} x_{34}}, d_{5} : r_{332}, a_{12} : r_{333}, a_{13} : r_{334}, a_{14} : r_{335}, a_{15} : r_{336}, a_{23} : \\frac{r_{333} x_{12} x_{23} - r_{331} x_{13}}{x_{12}^{2} x_{23}}, a_{24} : \\frac{r_{331} x_{12} x_{13} x_{24} + {\\left(r_{334} x_{12}^{2} x_{23}^{2} - r_{333} x_{12} x_{13} x_{23} + r_{331} x_{13}^{2}\\right)} x_{34}}{x_{12}^{3} x_{23}^{2} x_{34}}, a_{25} : -\\frac{r_{332} x_{15}}{x_{12}}, a_{34} : -\\frac{r_{331} x_{12} x_{24} - {\\left(r_{333} x_{12} x_{23} - r_{331} x_{13}\\right)} x_{34}}{x_{12}^{2} x_{23}^{2} x_{34}}, a_{35} : 0, a_{45} : 0\\right\\}\\right]$$"
      ],
      "text/plain": [
       "[{d1: 0,\n",
       "  d2: 0,\n",
       "  d3: 0,\n",
       "  d4: 0,\n",
       "  d5: r321,\n",
       "  a12: r322,\n",
       "  a13: r323,\n",
       "  a14: r324,\n",
       "  a15: r325,\n",
       "  a23: r326,\n",
       "  a24: r327,\n",
       "  a25: r328,\n",
       "  a34: r329,\n",
       "  a35: r330,\n",
       "  a45: 0},\n",
       " {d1: r331,\n",
       "  d2: r331/x12,\n",
       "  d3: r331/(x12*x23),\n",
       "  d4: r331/(x12*x23*x34),\n",
       "  d5: r332,\n",
       "  a12: r333,\n",
       "  a13: r334,\n",
       "  a14: r335,\n",
       "  a15: r336,\n",
       "  a23: (r333*x12*x23 - r331*x13)/(x12^2*x23),\n",
       "  a24: (r331*x12*x13*x24 + (r334*x12^2*x23^2 - r333*x12*x13*x23 + r331*x13^2)*x34)/(x12^3*x23^2*x34),\n",
       "  a25: -r332*x15/x12,\n",
       "  a34: -(r331*x12*x24 - (r333*x12*x23 - r331*x13)*x34)/(x12^2*x23^2*x34),\n",
       "  a35: 0,\n",
       "  a45: 0}]"
      ]
     },
     "metadata": {},
     "output_type": "display_data"
    },
    {
     "data": {
      "text/plain": [
       "\\left[\\left\\{d_{1} : 0, d_{2} : 0, d_{3} : 0, d_{4} : 0, d_{5} : r_{321}, a_{12} : r_{322}, a_{13} : r_{323}, a_{14} : r_{324}, a_{15} : r_{325}, a_{23} : r_{326}, a_{24} : r_{327}, a_{25} : r_{328}, a_{34} : r_{329}, a_{35} : r_{330}, a_{45} : 0\\right\\}, \\left\\{d_{1} : r_{331}, d_{2} : \\frac{r_{331}}{x_{12}}, d_{3} : \\frac{r_{331}}{x_{12} x_{23}}, d_{4} : \\frac{r_{331}}{x_{12} x_{23} x_{34}}, d_{5} : r_{332}, a_{12} : r_{333}, a_{13} : r_{334}, a_{14} : r_{335}, a_{15} : r_{336}, a_{23} : \\frac{r_{333} x_{12} x_{23} - r_{331} x_{13}}{x_{12}^{2} x_{23}}, a_{24} : \\frac{r_{331} x_{12} x_{13} x_{24} + {\\left(r_{334} x_{12}^{2} x_{23}^{2} - r_{333} x_{12} x_{13} x_{23} + r_{331} x_{13}^{2}\\right)} x_{34}}{x_{12}^{3} x_{23}^{2} x_{34}}, a_{25} : -\\frac{r_{332} x_{15}}{x_{12}}, a_{34} : -\\frac{r_{331} x_{12} x_{24} - {\\left(r_{333} x_{12} x_{23} - r_{331} x_{13}\\right)} x_{34}}{x_{12}^{2} x_{23}^{2} x_{34}}, a_{35} : 0, a_{45} : 0\\right\\}\\right]"
      ]
     },
     "execution_count": 21,
     "metadata": {},
     "output_type": "execute_result"
    }
   ],
   "source": [
    "#x7\n",
    "reset()\n",
    "\n",
    "var('x12,x13,x14,x15,x23,x24,x25,x34,x35,x45')\n",
    "var('d1,d2,d3,d4,d5')\n",
    "var('a12,a13,a14,a15,a23,a24,a25,a34,a35,a45')\n",
    "\n",
    "load_attach_path('C:\\\\Users\\\\julia\\\\Documents\\\\unb\\\\doutorado\\\\pensar\\\\codigo_sage_v2\\\\maquina\\\\x7')\n",
    "load('out_#010101.sage')\n",
    "\n",
    "m=matrix(QQ, [[0, 1, 0, 0, 0],\n",
    "              [0, 0, 1, 0, 0],\n",
    "              [0, 0, 0, 1, 0],\n",
    "              [0, 0, 0, 0, 0],\n",
    "              [0, 0, 0, 0, 0]])\n",
    "        \n",
    "#entry of matrix: (i,j) line i collum j, means (i-1,j-1)\n",
    "sol=solve([ eq1==m[0,1],\teq2==m[0,2],\teq3==m[0,3],\teq4==m[0,4],\t\n",
    "                                            eq5==m[1,2],    eq6==m[1,3],\n",
    "                                                            eq7==m[1,4], eq8==m[2,3], eq9==m[2,4]],d1,d2,d3,d4,d5,a12,a13,a14,a15,a23,a24,a25,a34,a35,a45, solution_dict=True)\n",
    "\n",
    "show(m)\n",
    "show(sol)\n",
    "latex(sol)"
   ]
  },
  {
   "cell_type": "code",
   "execution_count": 22,
   "metadata": {},
   "outputs": [
    {
     "data": {
      "text/html": [
       "<html><script type=\"math/tex; mode=display\">\\newcommand{\\Bold}[1]{\\mathbf{#1}}\\left(\\begin{array}{rrrrr}\n",
       "0 & 1 & 0 & 0 & 0 \\\\\n",
       "0 & 0 & 1 & 0 & 0 \\\\\n",
       "0 & 0 & 0 & 1 & 0 \\\\\n",
       "0 & 0 & 0 & 0 & 0 \\\\\n",
       "0 & 0 & 0 & 0 & 0\n",
       "\\end{array}\\right)</script></html>"
      ],
      "text/latex": [
       "$$\\newcommand{\\Bold}[1]{\\mathbf{#1}}\\left(\\begin{array}{rrrrr}\n",
       "0 & 1 & 0 & 0 & 0 \\\\\n",
       "0 & 0 & 1 & 0 & 0 \\\\\n",
       "0 & 0 & 0 & 1 & 0 \\\\\n",
       "0 & 0 & 0 & 0 & 0 \\\\\n",
       "0 & 0 & 0 & 0 & 0\n",
       "\\end{array}\\right)$$"
      ],
      "text/plain": [
       "[0 1 0 0 0]\n",
       "[0 0 1 0 0]\n",
       "[0 0 0 1 0]\n",
       "[0 0 0 0 0]\n",
       "[0 0 0 0 0]"
      ]
     },
     "metadata": {},
     "output_type": "display_data"
    },
    {
     "data": {
      "text/html": [
       "<html><script type=\"math/tex; mode=display\">\\newcommand{\\Bold}[1]{\\mathbf{#1}}\\left[\\left\\{d_{1} : 0, d_{2} : 0, d_{3} : 0, d_{4} : 0, d_{5} : r_{337}, a_{12} : r_{338}, a_{13} : r_{339}, a_{14} : r_{340}, a_{15} : r_{341}, a_{23} : r_{342}, a_{24} : r_{343}, a_{25} : r_{344}, a_{34} : r_{345}, a_{35} : r_{346}, a_{45} : 0\\right\\}, \\left\\{d_{1} : r_{347}, d_{2} : \\frac{r_{347}}{x_{12}}, d_{3} : \\frac{r_{347}}{x_{12} x_{23}}, d_{4} : \\frac{r_{347}}{x_{12} x_{23} x_{34}}, d_{5} : r_{348}, a_{12} : r_{349}, a_{13} : r_{350}, a_{14} : r_{351}, a_{15} : r_{352}, a_{23} : \\frac{r_{349} x_{12} x_{23} - r_{347} x_{13}}{x_{12}^{2} x_{23}}, a_{24} : -\\frac{r_{347} x_{12} x_{14} x_{23} - r_{347} x_{12} x_{13} x_{24} - {\\left(r_{350} x_{12}^{2} x_{23}^{2} - r_{349} x_{12} x_{13} x_{23} + r_{347} x_{13}^{2}\\right)} x_{34}}{x_{12}^{3} x_{23}^{2} x_{34}}, a_{25} : 0, a_{34} : -\\frac{r_{347} x_{12} x_{24} - {\\left(r_{349} x_{12} x_{23} - r_{347} x_{13}\\right)} x_{34}}{x_{12}^{2} x_{23}^{2} x_{34}}, a_{35} : 0, a_{45} : 0\\right\\}\\right]</script></html>"
      ],
      "text/latex": [
       "$$\\newcommand{\\Bold}[1]{\\mathbf{#1}}\\left[\\left\\{d_{1} : 0, d_{2} : 0, d_{3} : 0, d_{4} : 0, d_{5} : r_{337}, a_{12} : r_{338}, a_{13} : r_{339}, a_{14} : r_{340}, a_{15} : r_{341}, a_{23} : r_{342}, a_{24} : r_{343}, a_{25} : r_{344}, a_{34} : r_{345}, a_{35} : r_{346}, a_{45} : 0\\right\\}, \\left\\{d_{1} : r_{347}, d_{2} : \\frac{r_{347}}{x_{12}}, d_{3} : \\frac{r_{347}}{x_{12} x_{23}}, d_{4} : \\frac{r_{347}}{x_{12} x_{23} x_{34}}, d_{5} : r_{348}, a_{12} : r_{349}, a_{13} : r_{350}, a_{14} : r_{351}, a_{15} : r_{352}, a_{23} : \\frac{r_{349} x_{12} x_{23} - r_{347} x_{13}}{x_{12}^{2} x_{23}}, a_{24} : -\\frac{r_{347} x_{12} x_{14} x_{23} - r_{347} x_{12} x_{13} x_{24} - {\\left(r_{350} x_{12}^{2} x_{23}^{2} - r_{349} x_{12} x_{13} x_{23} + r_{347} x_{13}^{2}\\right)} x_{34}}{x_{12}^{3} x_{23}^{2} x_{34}}, a_{25} : 0, a_{34} : -\\frac{r_{347} x_{12} x_{24} - {\\left(r_{349} x_{12} x_{23} - r_{347} x_{13}\\right)} x_{34}}{x_{12}^{2} x_{23}^{2} x_{34}}, a_{35} : 0, a_{45} : 0\\right\\}\\right]$$"
      ],
      "text/plain": [
       "[{d1: 0,\n",
       "  d2: 0,\n",
       "  d3: 0,\n",
       "  d4: 0,\n",
       "  d5: r337,\n",
       "  a12: r338,\n",
       "  a13: r339,\n",
       "  a14: r340,\n",
       "  a15: r341,\n",
       "  a23: r342,\n",
       "  a24: r343,\n",
       "  a25: r344,\n",
       "  a34: r345,\n",
       "  a35: r346,\n",
       "  a45: 0},\n",
       " {d1: r347,\n",
       "  d2: r347/x12,\n",
       "  d3: r347/(x12*x23),\n",
       "  d4: r347/(x12*x23*x34),\n",
       "  d5: r348,\n",
       "  a12: r349,\n",
       "  a13: r350,\n",
       "  a14: r351,\n",
       "  a15: r352,\n",
       "  a23: (r349*x12*x23 - r347*x13)/(x12^2*x23),\n",
       "  a24: -(r347*x12*x14*x23 - r347*x12*x13*x24 - (r350*x12^2*x23^2 - r349*x12*x13*x23 + r347*x13^2)*x34)/(x12^3*x23^2*x34),\n",
       "  a25: 0,\n",
       "  a34: -(r347*x12*x24 - (r349*x12*x23 - r347*x13)*x34)/(x12^2*x23^2*x34),\n",
       "  a35: 0,\n",
       "  a45: 0}]"
      ]
     },
     "metadata": {},
     "output_type": "display_data"
    },
    {
     "data": {
      "text/plain": [
       "\\left[\\left\\{d_{1} : 0, d_{2} : 0, d_{3} : 0, d_{4} : 0, d_{5} : r_{337}, a_{12} : r_{338}, a_{13} : r_{339}, a_{14} : r_{340}, a_{15} : r_{341}, a_{23} : r_{342}, a_{24} : r_{343}, a_{25} : r_{344}, a_{34} : r_{345}, a_{35} : r_{346}, a_{45} : 0\\right\\}, \\left\\{d_{1} : r_{347}, d_{2} : \\frac{r_{347}}{x_{12}}, d_{3} : \\frac{r_{347}}{x_{12} x_{23}}, d_{4} : \\frac{r_{347}}{x_{12} x_{23} x_{34}}, d_{5} : r_{348}, a_{12} : r_{349}, a_{13} : r_{350}, a_{14} : r_{351}, a_{15} : r_{352}, a_{23} : \\frac{r_{349} x_{12} x_{23} - r_{347} x_{13}}{x_{12}^{2} x_{23}}, a_{24} : -\\frac{r_{347} x_{12} x_{14} x_{23} - r_{347} x_{12} x_{13} x_{24} - {\\left(r_{350} x_{12}^{2} x_{23}^{2} - r_{349} x_{12} x_{13} x_{23} + r_{347} x_{13}^{2}\\right)} x_{34}}{x_{12}^{3} x_{23}^{2} x_{34}}, a_{25} : 0, a_{34} : -\\frac{r_{347} x_{12} x_{24} - {\\left(r_{349} x_{12} x_{23} - r_{347} x_{13}\\right)} x_{34}}{x_{12}^{2} x_{23}^{2} x_{34}}, a_{35} : 0, a_{45} : 0\\right\\}\\right]"
      ]
     },
     "execution_count": 22,
     "metadata": {},
     "output_type": "execute_result"
    }
   ],
   "source": [
    "#x7\n",
    "reset()\n",
    "\n",
    "var('x12,x13,x14,x15,x23,x24,x25,x34,x35,x45')\n",
    "var('d1,d2,d3,d4,d5')\n",
    "var('a12,a13,a14,a15,a23,a24,a25,a34,a35,a45')\n",
    "\n",
    "load_attach_path('C:\\\\Users\\\\julia\\\\Documents\\\\unb\\\\doutorado\\\\pensar\\\\codigo_sage_v2\\\\maquina\\\\x7')\n",
    "load('out_#010110.sage')\n",
    "\n",
    "m=matrix(QQ, [[0, 1, 0, 0, 0],\n",
    "              [0, 0, 1, 0, 0],\n",
    "              [0, 0, 0, 1, 0],\n",
    "              [0, 0, 0, 0, 0],\n",
    "              [0, 0, 0, 0, 0]])\n",
    "        \n",
    "#entry of matrix: (i,j) line i collum j, means (i-1,j-1)\n",
    "sol=solve([ eq1==m[0,1],\teq2==m[0,2],\teq3==m[0,3],\teq4==m[0,4],\t\n",
    "                                            eq5==m[1,2],    eq6==m[1,3],\n",
    "                                                            eq7==m[1,4], eq8==m[2,3], eq9==m[2,4]],d1,d2,d3,d4,d5,a12,a13,a14,a15,a23,a24,a25,a34,a35,a45, solution_dict=True)\n",
    "\n",
    "show(m)\n",
    "show(sol)\n",
    "latex(sol)"
   ]
  },
  {
   "cell_type": "code",
   "execution_count": 23,
   "metadata": {},
   "outputs": [
    {
     "data": {
      "text/html": [
       "<html><script type=\"math/tex; mode=display\">\\newcommand{\\Bold}[1]{\\mathbf{#1}}\\left(\\begin{array}{rrrrr}\n",
       "0 & 1 & 0 & 0 & 0 \\\\\n",
       "0 & 0 & 1 & 0 & 0 \\\\\n",
       "0 & 0 & 0 & 1 & 0 \\\\\n",
       "0 & 0 & 0 & 0 & 0 \\\\\n",
       "0 & 0 & 0 & 0 & 0\n",
       "\\end{array}\\right)</script></html>"
      ],
      "text/latex": [
       "$$\\newcommand{\\Bold}[1]{\\mathbf{#1}}\\left(\\begin{array}{rrrrr}\n",
       "0 & 1 & 0 & 0 & 0 \\\\\n",
       "0 & 0 & 1 & 0 & 0 \\\\\n",
       "0 & 0 & 0 & 1 & 0 \\\\\n",
       "0 & 0 & 0 & 0 & 0 \\\\\n",
       "0 & 0 & 0 & 0 & 0\n",
       "\\end{array}\\right)$$"
      ],
      "text/plain": [
       "[0 1 0 0 0]\n",
       "[0 0 1 0 0]\n",
       "[0 0 0 1 0]\n",
       "[0 0 0 0 0]\n",
       "[0 0 0 0 0]"
      ]
     },
     "metadata": {},
     "output_type": "display_data"
    },
    {
     "data": {
      "text/html": [
       "<html><script type=\"math/tex; mode=display\">\\newcommand{\\Bold}[1]{\\mathbf{#1}}\\left[\\left\\{d_{1} : 0, d_{2} : 0, d_{3} : 0, d_{4} : 0, d_{5} : r_{353}, a_{12} : r_{354}, a_{13} : r_{355}, a_{14} : r_{356}, a_{15} : r_{357}, a_{23} : r_{358}, a_{24} : r_{359}, a_{25} : r_{360}, a_{34} : r_{361}, a_{35} : r_{362}, a_{45} : 0\\right\\}, \\left\\{d_{1} : r_{363}, d_{2} : \\frac{r_{363}}{x_{12}}, d_{3} : \\frac{r_{363}}{x_{12} x_{23}}, d_{4} : \\frac{r_{363}}{x_{12} x_{23} x_{34}}, d_{5} : r_{364}, a_{12} : r_{365}, a_{13} : r_{366}, a_{14} : r_{367}, a_{15} : r_{368}, a_{23} : \\frac{r_{365} x_{12} x_{23} - r_{363} x_{13}}{x_{12}^{2} x_{23}}, a_{24} : -\\frac{r_{363} x_{12} x_{14} x_{23} - r_{363} x_{12} x_{13} x_{24} - {\\left(r_{366} x_{12}^{2} x_{23}^{2} - r_{365} x_{12} x_{13} x_{23} + r_{363} x_{13}^{2}\\right)} x_{34}}{x_{12}^{3} x_{23}^{2} x_{34}}, a_{25} : -\\frac{r_{364} x_{15}}{x_{12}}, a_{34} : -\\frac{r_{363} x_{12} x_{24} - {\\left(r_{365} x_{12} x_{23} - r_{363} x_{13}\\right)} x_{34}}{x_{12}^{2} x_{23}^{2} x_{34}}, a_{35} : 0, a_{45} : 0\\right\\}\\right]</script></html>"
      ],
      "text/latex": [
       "$$\\newcommand{\\Bold}[1]{\\mathbf{#1}}\\left[\\left\\{d_{1} : 0, d_{2} : 0, d_{3} : 0, d_{4} : 0, d_{5} : r_{353}, a_{12} : r_{354}, a_{13} : r_{355}, a_{14} : r_{356}, a_{15} : r_{357}, a_{23} : r_{358}, a_{24} : r_{359}, a_{25} : r_{360}, a_{34} : r_{361}, a_{35} : r_{362}, a_{45} : 0\\right\\}, \\left\\{d_{1} : r_{363}, d_{2} : \\frac{r_{363}}{x_{12}}, d_{3} : \\frac{r_{363}}{x_{12} x_{23}}, d_{4} : \\frac{r_{363}}{x_{12} x_{23} x_{34}}, d_{5} : r_{364}, a_{12} : r_{365}, a_{13} : r_{366}, a_{14} : r_{367}, a_{15} : r_{368}, a_{23} : \\frac{r_{365} x_{12} x_{23} - r_{363} x_{13}}{x_{12}^{2} x_{23}}, a_{24} : -\\frac{r_{363} x_{12} x_{14} x_{23} - r_{363} x_{12} x_{13} x_{24} - {\\left(r_{366} x_{12}^{2} x_{23}^{2} - r_{365} x_{12} x_{13} x_{23} + r_{363} x_{13}^{2}\\right)} x_{34}}{x_{12}^{3} x_{23}^{2} x_{34}}, a_{25} : -\\frac{r_{364} x_{15}}{x_{12}}, a_{34} : -\\frac{r_{363} x_{12} x_{24} - {\\left(r_{365} x_{12} x_{23} - r_{363} x_{13}\\right)} x_{34}}{x_{12}^{2} x_{23}^{2} x_{34}}, a_{35} : 0, a_{45} : 0\\right\\}\\right]$$"
      ],
      "text/plain": [
       "[{d1: 0,\n",
       "  d2: 0,\n",
       "  d3: 0,\n",
       "  d4: 0,\n",
       "  d5: r353,\n",
       "  a12: r354,\n",
       "  a13: r355,\n",
       "  a14: r356,\n",
       "  a15: r357,\n",
       "  a23: r358,\n",
       "  a24: r359,\n",
       "  a25: r360,\n",
       "  a34: r361,\n",
       "  a35: r362,\n",
       "  a45: 0},\n",
       " {d1: r363,\n",
       "  d2: r363/x12,\n",
       "  d3: r363/(x12*x23),\n",
       "  d4: r363/(x12*x23*x34),\n",
       "  d5: r364,\n",
       "  a12: r365,\n",
       "  a13: r366,\n",
       "  a14: r367,\n",
       "  a15: r368,\n",
       "  a23: (r365*x12*x23 - r363*x13)/(x12^2*x23),\n",
       "  a24: -(r363*x12*x14*x23 - r363*x12*x13*x24 - (r366*x12^2*x23^2 - r365*x12*x13*x23 + r363*x13^2)*x34)/(x12^3*x23^2*x34),\n",
       "  a25: -r364*x15/x12,\n",
       "  a34: -(r363*x12*x24 - (r365*x12*x23 - r363*x13)*x34)/(x12^2*x23^2*x34),\n",
       "  a35: 0,\n",
       "  a45: 0}]"
      ]
     },
     "metadata": {},
     "output_type": "display_data"
    },
    {
     "data": {
      "text/plain": [
       "\\left[\\left\\{d_{1} : 0, d_{2} : 0, d_{3} : 0, d_{4} : 0, d_{5} : r_{353}, a_{12} : r_{354}, a_{13} : r_{355}, a_{14} : r_{356}, a_{15} : r_{357}, a_{23} : r_{358}, a_{24} : r_{359}, a_{25} : r_{360}, a_{34} : r_{361}, a_{35} : r_{362}, a_{45} : 0\\right\\}, \\left\\{d_{1} : r_{363}, d_{2} : \\frac{r_{363}}{x_{12}}, d_{3} : \\frac{r_{363}}{x_{12} x_{23}}, d_{4} : \\frac{r_{363}}{x_{12} x_{23} x_{34}}, d_{5} : r_{364}, a_{12} : r_{365}, a_{13} : r_{366}, a_{14} : r_{367}, a_{15} : r_{368}, a_{23} : \\frac{r_{365} x_{12} x_{23} - r_{363} x_{13}}{x_{12}^{2} x_{23}}, a_{24} : -\\frac{r_{363} x_{12} x_{14} x_{23} - r_{363} x_{12} x_{13} x_{24} - {\\left(r_{366} x_{12}^{2} x_{23}^{2} - r_{365} x_{12} x_{13} x_{23} + r_{363} x_{13}^{2}\\right)} x_{34}}{x_{12}^{3} x_{23}^{2} x_{34}}, a_{25} : -\\frac{r_{364} x_{15}}{x_{12}}, a_{34} : -\\frac{r_{363} x_{12} x_{24} - {\\left(r_{365} x_{12} x_{23} - r_{363} x_{13}\\right)} x_{34}}{x_{12}^{2} x_{23}^{2} x_{34}}, a_{35} : 0, a_{45} : 0\\right\\}\\right]"
      ]
     },
     "execution_count": 23,
     "metadata": {},
     "output_type": "execute_result"
    }
   ],
   "source": [
    "#x7\n",
    "reset()\n",
    "\n",
    "var('x12,x13,x14,x15,x23,x24,x25,x34,x35,x45')\n",
    "var('d1,d2,d3,d4,d5')\n",
    "var('a12,a13,a14,a15,a23,a24,a25,a34,a35,a45')\n",
    "\n",
    "load_attach_path('C:\\\\Users\\\\julia\\\\Documents\\\\unb\\\\doutorado\\\\pensar\\\\codigo_sage_v2\\\\maquina\\\\x7')\n",
    "load('out_#010111.sage')\n",
    "\n",
    "m=matrix(QQ, [[0, 1, 0, 0, 0],\n",
    "              [0, 0, 1, 0, 0],\n",
    "              [0, 0, 0, 1, 0],\n",
    "              [0, 0, 0, 0, 0],\n",
    "              [0, 0, 0, 0, 0]])\n",
    "        \n",
    "#entry of matrix: (i,j) line i collum j, means (i-1,j-1)\n",
    "sol=solve([ eq1==m[0,1],\teq2==m[0,2],\teq3==m[0,3],\teq4==m[0,4],\t\n",
    "                                            eq5==m[1,2],    eq6==m[1,3],\n",
    "                                                            eq7==m[1,4], eq8==m[2,3], eq9==m[2,4]],d1,d2,d3,d4,d5,a12,a13,a14,a15,a23,a24,a25,a34,a35,a45, solution_dict=True)\n",
    "\n",
    "show(m)\n",
    "show(sol)\n",
    "latex(sol)"
   ]
  },
  {
   "cell_type": "code",
   "execution_count": 24,
   "metadata": {},
   "outputs": [
    {
     "data": {
      "text/html": [
       "<html><script type=\"math/tex; mode=display\">\\newcommand{\\Bold}[1]{\\mathbf{#1}}\\left(\\begin{array}{rrrrr}\n",
       "0 & 1 & 0 & 0 & 0 \\\\\n",
       "0 & 0 & 1 & 0 & 0 \\\\\n",
       "0 & 0 & 0 & 1 & 0 \\\\\n",
       "0 & 0 & 0 & 0 & 0 \\\\\n",
       "0 & 0 & 0 & 0 & 0\n",
       "\\end{array}\\right)</script></html>"
      ],
      "text/latex": [
       "$$\\newcommand{\\Bold}[1]{\\mathbf{#1}}\\left(\\begin{array}{rrrrr}\n",
       "0 & 1 & 0 & 0 & 0 \\\\\n",
       "0 & 0 & 1 & 0 & 0 \\\\\n",
       "0 & 0 & 0 & 1 & 0 \\\\\n",
       "0 & 0 & 0 & 0 & 0 \\\\\n",
       "0 & 0 & 0 & 0 & 0\n",
       "\\end{array}\\right)$$"
      ],
      "text/plain": [
       "[0 1 0 0 0]\n",
       "[0 0 1 0 0]\n",
       "[0 0 0 1 0]\n",
       "[0 0 0 0 0]\n",
       "[0 0 0 0 0]"
      ]
     },
     "metadata": {},
     "output_type": "display_data"
    },
    {
     "data": {
      "text/html": [
       "<html><script type=\"math/tex; mode=display\">\\newcommand{\\Bold}[1]{\\mathbf{#1}}\\left[\\left\\{d_{1} : 0, d_{2} : 0, d_{3} : 0, d_{4} : 0, d_{5} : r_{369}, a_{12} : r_{370}, a_{13} : r_{371}, a_{14} : r_{372}, a_{15} : r_{373}, a_{23} : r_{374}, a_{24} : r_{375}, a_{25} : r_{376}, a_{34} : r_{377}, a_{35} : r_{378}, a_{45} : 0\\right\\}, \\left\\{d_{1} : r_{379}, d_{2} : \\frac{r_{379}}{x_{12}}, d_{3} : \\frac{r_{379}}{x_{12} x_{23}}, d_{4} : \\frac{r_{379}}{x_{12} x_{23} x_{34}}, d_{5} : r_{380}, a_{12} : r_{381}, a_{13} : r_{382}, a_{14} : r_{383}, a_{15} : r_{384}, a_{23} : \\frac{r_{381}}{x_{12}}, a_{24} : \\frac{r_{382}}{x_{12}}, a_{25} : 0, a_{34} : \\frac{r_{381} x_{23} x_{34} - r_{379} x_{24}}{x_{12} x_{23}^{2} x_{34}}, a_{35} : -\\frac{r_{380} x_{25}}{x_{23}}, a_{45} : 0\\right\\}\\right]</script></html>"
      ],
      "text/latex": [
       "$$\\newcommand{\\Bold}[1]{\\mathbf{#1}}\\left[\\left\\{d_{1} : 0, d_{2} : 0, d_{3} : 0, d_{4} : 0, d_{5} : r_{369}, a_{12} : r_{370}, a_{13} : r_{371}, a_{14} : r_{372}, a_{15} : r_{373}, a_{23} : r_{374}, a_{24} : r_{375}, a_{25} : r_{376}, a_{34} : r_{377}, a_{35} : r_{378}, a_{45} : 0\\right\\}, \\left\\{d_{1} : r_{379}, d_{2} : \\frac{r_{379}}{x_{12}}, d_{3} : \\frac{r_{379}}{x_{12} x_{23}}, d_{4} : \\frac{r_{379}}{x_{12} x_{23} x_{34}}, d_{5} : r_{380}, a_{12} : r_{381}, a_{13} : r_{382}, a_{14} : r_{383}, a_{15} : r_{384}, a_{23} : \\frac{r_{381}}{x_{12}}, a_{24} : \\frac{r_{382}}{x_{12}}, a_{25} : 0, a_{34} : \\frac{r_{381} x_{23} x_{34} - r_{379} x_{24}}{x_{12} x_{23}^{2} x_{34}}, a_{35} : -\\frac{r_{380} x_{25}}{x_{23}}, a_{45} : 0\\right\\}\\right]$$"
      ],
      "text/plain": [
       "[{d1: 0,\n",
       "  d2: 0,\n",
       "  d3: 0,\n",
       "  d4: 0,\n",
       "  d5: r369,\n",
       "  a12: r370,\n",
       "  a13: r371,\n",
       "  a14: r372,\n",
       "  a15: r373,\n",
       "  a23: r374,\n",
       "  a24: r375,\n",
       "  a25: r376,\n",
       "  a34: r377,\n",
       "  a35: r378,\n",
       "  a45: 0},\n",
       " {d1: r379,\n",
       "  d2: r379/x12,\n",
       "  d3: r379/(x12*x23),\n",
       "  d4: r379/(x12*x23*x34),\n",
       "  d5: r380,\n",
       "  a12: r381,\n",
       "  a13: r382,\n",
       "  a14: r383,\n",
       "  a15: r384,\n",
       "  a23: r381/x12,\n",
       "  a24: r382/x12,\n",
       "  a25: 0,\n",
       "  a34: (r381*x23*x34 - r379*x24)/(x12*x23^2*x34),\n",
       "  a35: -r380*x25/x23,\n",
       "  a45: 0}]"
      ]
     },
     "metadata": {},
     "output_type": "display_data"
    },
    {
     "data": {
      "text/plain": [
       "\\left[\\left\\{d_{1} : 0, d_{2} : 0, d_{3} : 0, d_{4} : 0, d_{5} : r_{369}, a_{12} : r_{370}, a_{13} : r_{371}, a_{14} : r_{372}, a_{15} : r_{373}, a_{23} : r_{374}, a_{24} : r_{375}, a_{25} : r_{376}, a_{34} : r_{377}, a_{35} : r_{378}, a_{45} : 0\\right\\}, \\left\\{d_{1} : r_{379}, d_{2} : \\frac{r_{379}}{x_{12}}, d_{3} : \\frac{r_{379}}{x_{12} x_{23}}, d_{4} : \\frac{r_{379}}{x_{12} x_{23} x_{34}}, d_{5} : r_{380}, a_{12} : r_{381}, a_{13} : r_{382}, a_{14} : r_{383}, a_{15} : r_{384}, a_{23} : \\frac{r_{381}}{x_{12}}, a_{24} : \\frac{r_{382}}{x_{12}}, a_{25} : 0, a_{34} : \\frac{r_{381} x_{23} x_{34} - r_{379} x_{24}}{x_{12} x_{23}^{2} x_{34}}, a_{35} : -\\frac{r_{380} x_{25}}{x_{23}}, a_{45} : 0\\right\\}\\right]"
      ]
     },
     "execution_count": 24,
     "metadata": {},
     "output_type": "execute_result"
    }
   ],
   "source": [
    "#x7\n",
    "reset()\n",
    "\n",
    "var('x12,x13,x14,x15,x23,x24,x25,x34,x35,x45')\n",
    "var('d1,d2,d3,d4,d5')\n",
    "var('a12,a13,a14,a15,a23,a24,a25,a34,a35,a45')\n",
    "\n",
    "load_attach_path('C:\\\\Users\\\\julia\\\\Documents\\\\unb\\\\doutorado\\\\pensar\\\\codigo_sage_v2\\\\maquina\\\\x7')\n",
    "load('out_#011000.sage')\n",
    "\n",
    "m=matrix(QQ, [[0, 1, 0, 0, 0],\n",
    "              [0, 0, 1, 0, 0],\n",
    "              [0, 0, 0, 1, 0],\n",
    "              [0, 0, 0, 0, 0],\n",
    "              [0, 0, 0, 0, 0]])\n",
    "        \n",
    "#entry of matrix: (i,j) line i collum j, means (i-1,j-1)\n",
    "sol=solve([ eq1==m[0,1],\teq2==m[0,2],\teq3==m[0,3],\teq4==m[0,4],\t\n",
    "                                            eq5==m[1,2],    eq6==m[1,3],\n",
    "                                                            eq7==m[1,4], eq8==m[2,3], eq9==m[2,4]],d1,d2,d3,d4,d5,a12,a13,a14,a15,a23,a24,a25,a34,a35,a45, solution_dict=True)\n",
    "\n",
    "show(m)\n",
    "show(sol)\n",
    "latex(sol)"
   ]
  },
  {
   "cell_type": "code",
   "execution_count": 25,
   "metadata": {},
   "outputs": [
    {
     "data": {
      "text/html": [
       "<html><script type=\"math/tex; mode=display\">\\newcommand{\\Bold}[1]{\\mathbf{#1}}\\left(\\begin{array}{rrrrr}\n",
       "0 & 1 & 0 & 0 & 0 \\\\\n",
       "0 & 0 & 1 & 0 & 0 \\\\\n",
       "0 & 0 & 0 & 1 & 0 \\\\\n",
       "0 & 0 & 0 & 0 & 0 \\\\\n",
       "0 & 0 & 0 & 0 & 0\n",
       "\\end{array}\\right)</script></html>"
      ],
      "text/latex": [
       "$$\\newcommand{\\Bold}[1]{\\mathbf{#1}}\\left(\\begin{array}{rrrrr}\n",
       "0 & 1 & 0 & 0 & 0 \\\\\n",
       "0 & 0 & 1 & 0 & 0 \\\\\n",
       "0 & 0 & 0 & 1 & 0 \\\\\n",
       "0 & 0 & 0 & 0 & 0 \\\\\n",
       "0 & 0 & 0 & 0 & 0\n",
       "\\end{array}\\right)$$"
      ],
      "text/plain": [
       "[0 1 0 0 0]\n",
       "[0 0 1 0 0]\n",
       "[0 0 0 1 0]\n",
       "[0 0 0 0 0]\n",
       "[0 0 0 0 0]"
      ]
     },
     "metadata": {},
     "output_type": "display_data"
    },
    {
     "data": {
      "text/html": [
       "<html><script type=\"math/tex; mode=display\">\\newcommand{\\Bold}[1]{\\mathbf{#1}}\\left[\\left\\{d_{1} : 0, d_{2} : 0, d_{3} : 0, d_{4} : 0, d_{5} : r_{385}, a_{12} : r_{386}, a_{13} : r_{387}, a_{14} : r_{388}, a_{15} : r_{389}, a_{23} : r_{390}, a_{24} : r_{391}, a_{25} : r_{392}, a_{34} : r_{393}, a_{35} : r_{394}, a_{45} : 0\\right\\}, \\left\\{d_{1} : r_{395}, d_{2} : \\frac{r_{395}}{x_{12}}, d_{3} : \\frac{r_{395}}{x_{12} x_{23}}, d_{4} : \\frac{r_{395}}{x_{12} x_{23} x_{34}}, d_{5} : r_{396}, a_{12} : r_{397}, a_{13} : r_{398}, a_{14} : r_{399}, a_{15} : r_{400}, a_{23} : \\frac{r_{397}}{x_{12}}, a_{24} : \\frac{r_{398}}{x_{12}}, a_{25} : -\\frac{r_{396} x_{15}}{x_{12}}, a_{34} : \\frac{r_{397} x_{23} x_{34} - r_{395} x_{24}}{x_{12} x_{23}^{2} x_{34}}, a_{35} : -\\frac{r_{396} x_{25}}{x_{23}}, a_{45} : 0\\right\\}\\right]</script></html>"
      ],
      "text/latex": [
       "$$\\newcommand{\\Bold}[1]{\\mathbf{#1}}\\left[\\left\\{d_{1} : 0, d_{2} : 0, d_{3} : 0, d_{4} : 0, d_{5} : r_{385}, a_{12} : r_{386}, a_{13} : r_{387}, a_{14} : r_{388}, a_{15} : r_{389}, a_{23} : r_{390}, a_{24} : r_{391}, a_{25} : r_{392}, a_{34} : r_{393}, a_{35} : r_{394}, a_{45} : 0\\right\\}, \\left\\{d_{1} : r_{395}, d_{2} : \\frac{r_{395}}{x_{12}}, d_{3} : \\frac{r_{395}}{x_{12} x_{23}}, d_{4} : \\frac{r_{395}}{x_{12} x_{23} x_{34}}, d_{5} : r_{396}, a_{12} : r_{397}, a_{13} : r_{398}, a_{14} : r_{399}, a_{15} : r_{400}, a_{23} : \\frac{r_{397}}{x_{12}}, a_{24} : \\frac{r_{398}}{x_{12}}, a_{25} : -\\frac{r_{396} x_{15}}{x_{12}}, a_{34} : \\frac{r_{397} x_{23} x_{34} - r_{395} x_{24}}{x_{12} x_{23}^{2} x_{34}}, a_{35} : -\\frac{r_{396} x_{25}}{x_{23}}, a_{45} : 0\\right\\}\\right]$$"
      ],
      "text/plain": [
       "[{d1: 0,\n",
       "  d2: 0,\n",
       "  d3: 0,\n",
       "  d4: 0,\n",
       "  d5: r385,\n",
       "  a12: r386,\n",
       "  a13: r387,\n",
       "  a14: r388,\n",
       "  a15: r389,\n",
       "  a23: r390,\n",
       "  a24: r391,\n",
       "  a25: r392,\n",
       "  a34: r393,\n",
       "  a35: r394,\n",
       "  a45: 0},\n",
       " {d1: r395,\n",
       "  d2: r395/x12,\n",
       "  d3: r395/(x12*x23),\n",
       "  d4: r395/(x12*x23*x34),\n",
       "  d5: r396,\n",
       "  a12: r397,\n",
       "  a13: r398,\n",
       "  a14: r399,\n",
       "  a15: r400,\n",
       "  a23: r397/x12,\n",
       "  a24: r398/x12,\n",
       "  a25: -r396*x15/x12,\n",
       "  a34: (r397*x23*x34 - r395*x24)/(x12*x23^2*x34),\n",
       "  a35: -r396*x25/x23,\n",
       "  a45: 0}]"
      ]
     },
     "metadata": {},
     "output_type": "display_data"
    },
    {
     "data": {
      "text/plain": [
       "\\left[\\left\\{d_{1} : 0, d_{2} : 0, d_{3} : 0, d_{4} : 0, d_{5} : r_{385}, a_{12} : r_{386}, a_{13} : r_{387}, a_{14} : r_{388}, a_{15} : r_{389}, a_{23} : r_{390}, a_{24} : r_{391}, a_{25} : r_{392}, a_{34} : r_{393}, a_{35} : r_{394}, a_{45} : 0\\right\\}, \\left\\{d_{1} : r_{395}, d_{2} : \\frac{r_{395}}{x_{12}}, d_{3} : \\frac{r_{395}}{x_{12} x_{23}}, d_{4} : \\frac{r_{395}}{x_{12} x_{23} x_{34}}, d_{5} : r_{396}, a_{12} : r_{397}, a_{13} : r_{398}, a_{14} : r_{399}, a_{15} : r_{400}, a_{23} : \\frac{r_{397}}{x_{12}}, a_{24} : \\frac{r_{398}}{x_{12}}, a_{25} : -\\frac{r_{396} x_{15}}{x_{12}}, a_{34} : \\frac{r_{397} x_{23} x_{34} - r_{395} x_{24}}{x_{12} x_{23}^{2} x_{34}}, a_{35} : -\\frac{r_{396} x_{25}}{x_{23}}, a_{45} : 0\\right\\}\\right]"
      ]
     },
     "execution_count": 25,
     "metadata": {},
     "output_type": "execute_result"
    }
   ],
   "source": [
    "#x7\n",
    "reset()\n",
    "\n",
    "var('x12,x13,x14,x15,x23,x24,x25,x34,x35,x45')\n",
    "var('d1,d2,d3,d4,d5')\n",
    "var('a12,a13,a14,a15,a23,a24,a25,a34,a35,a45')\n",
    "\n",
    "load_attach_path('C:\\\\Users\\\\julia\\\\Documents\\\\unb\\\\doutorado\\\\pensar\\\\codigo_sage_v2\\\\maquina\\\\x7')\n",
    "load('out_#011001.sage')\n",
    "\n",
    "m=matrix(QQ, [[0, 1, 0, 0, 0],\n",
    "              [0, 0, 1, 0, 0],\n",
    "              [0, 0, 0, 1, 0],\n",
    "              [0, 0, 0, 0, 0],\n",
    "              [0, 0, 0, 0, 0]])\n",
    "        \n",
    "#entry of matrix: (i,j) line i collum j, means (i-1,j-1)\n",
    "sol=solve([ eq1==m[0,1],\teq2==m[0,2],\teq3==m[0,3],\teq4==m[0,4],\t\n",
    "                                            eq5==m[1,2],    eq6==m[1,3],\n",
    "                                                            eq7==m[1,4], eq8==m[2,3], eq9==m[2,4]],d1,d2,d3,d4,d5,a12,a13,a14,a15,a23,a24,a25,a34,a35,a45, solution_dict=True)\n",
    "\n",
    "show(m)\n",
    "show(sol)\n",
    "latex(sol)"
   ]
  },
  {
   "cell_type": "code",
   "execution_count": 26,
   "metadata": {},
   "outputs": [
    {
     "data": {
      "text/html": [
       "<html><script type=\"math/tex; mode=display\">\\newcommand{\\Bold}[1]{\\mathbf{#1}}\\left(\\begin{array}{rrrrr}\n",
       "0 & 1 & 0 & 0 & 0 \\\\\n",
       "0 & 0 & 1 & 0 & 0 \\\\\n",
       "0 & 0 & 0 & 1 & 0 \\\\\n",
       "0 & 0 & 0 & 0 & 0 \\\\\n",
       "0 & 0 & 0 & 0 & 0\n",
       "\\end{array}\\right)</script></html>"
      ],
      "text/latex": [
       "$$\\newcommand{\\Bold}[1]{\\mathbf{#1}}\\left(\\begin{array}{rrrrr}\n",
       "0 & 1 & 0 & 0 & 0 \\\\\n",
       "0 & 0 & 1 & 0 & 0 \\\\\n",
       "0 & 0 & 0 & 1 & 0 \\\\\n",
       "0 & 0 & 0 & 0 & 0 \\\\\n",
       "0 & 0 & 0 & 0 & 0\n",
       "\\end{array}\\right)$$"
      ],
      "text/plain": [
       "[0 1 0 0 0]\n",
       "[0 0 1 0 0]\n",
       "[0 0 0 1 0]\n",
       "[0 0 0 0 0]\n",
       "[0 0 0 0 0]"
      ]
     },
     "metadata": {},
     "output_type": "display_data"
    },
    {
     "data": {
      "text/html": [
       "<html><script type=\"math/tex; mode=display\">\\newcommand{\\Bold}[1]{\\mathbf{#1}}\\left[\\left\\{d_{1} : 0, d_{2} : 0, d_{3} : 0, d_{4} : 0, d_{5} : r_{401}, a_{12} : r_{402}, a_{13} : r_{403}, a_{14} : r_{404}, a_{15} : r_{405}, a_{23} : r_{406}, a_{24} : r_{407}, a_{25} : r_{408}, a_{34} : r_{409}, a_{35} : r_{410}, a_{45} : 0\\right\\}, \\left\\{d_{1} : r_{411}, d_{2} : \\frac{r_{411}}{x_{12}}, d_{3} : \\frac{r_{411}}{x_{12} x_{23}}, d_{4} : \\frac{r_{411}}{x_{12} x_{23} x_{34}}, d_{5} : r_{412}, a_{12} : r_{413}, a_{13} : r_{414}, a_{14} : r_{415}, a_{15} : r_{416}, a_{23} : \\frac{r_{413}}{x_{12}}, a_{24} : \\frac{r_{414} x_{12} x_{23} x_{34} - r_{411} x_{14}}{x_{12}^{2} x_{23} x_{34}}, a_{25} : 0, a_{34} : \\frac{r_{413} x_{23} x_{34} - r_{411} x_{24}}{x_{12} x_{23}^{2} x_{34}}, a_{35} : -\\frac{r_{412} x_{25}}{x_{23}}, a_{45} : 0\\right\\}\\right]</script></html>"
      ],
      "text/latex": [
       "$$\\newcommand{\\Bold}[1]{\\mathbf{#1}}\\left[\\left\\{d_{1} : 0, d_{2} : 0, d_{3} : 0, d_{4} : 0, d_{5} : r_{401}, a_{12} : r_{402}, a_{13} : r_{403}, a_{14} : r_{404}, a_{15} : r_{405}, a_{23} : r_{406}, a_{24} : r_{407}, a_{25} : r_{408}, a_{34} : r_{409}, a_{35} : r_{410}, a_{45} : 0\\right\\}, \\left\\{d_{1} : r_{411}, d_{2} : \\frac{r_{411}}{x_{12}}, d_{3} : \\frac{r_{411}}{x_{12} x_{23}}, d_{4} : \\frac{r_{411}}{x_{12} x_{23} x_{34}}, d_{5} : r_{412}, a_{12} : r_{413}, a_{13} : r_{414}, a_{14} : r_{415}, a_{15} : r_{416}, a_{23} : \\frac{r_{413}}{x_{12}}, a_{24} : \\frac{r_{414} x_{12} x_{23} x_{34} - r_{411} x_{14}}{x_{12}^{2} x_{23} x_{34}}, a_{25} : 0, a_{34} : \\frac{r_{413} x_{23} x_{34} - r_{411} x_{24}}{x_{12} x_{23}^{2} x_{34}}, a_{35} : -\\frac{r_{412} x_{25}}{x_{23}}, a_{45} : 0\\right\\}\\right]$$"
      ],
      "text/plain": [
       "[{d1: 0,\n",
       "  d2: 0,\n",
       "  d3: 0,\n",
       "  d4: 0,\n",
       "  d5: r401,\n",
       "  a12: r402,\n",
       "  a13: r403,\n",
       "  a14: r404,\n",
       "  a15: r405,\n",
       "  a23: r406,\n",
       "  a24: r407,\n",
       "  a25: r408,\n",
       "  a34: r409,\n",
       "  a35: r410,\n",
       "  a45: 0},\n",
       " {d1: r411,\n",
       "  d2: r411/x12,\n",
       "  d3: r411/(x12*x23),\n",
       "  d4: r411/(x12*x23*x34),\n",
       "  d5: r412,\n",
       "  a12: r413,\n",
       "  a13: r414,\n",
       "  a14: r415,\n",
       "  a15: r416,\n",
       "  a23: r413/x12,\n",
       "  a24: (r414*x12*x23*x34 - r411*x14)/(x12^2*x23*x34),\n",
       "  a25: 0,\n",
       "  a34: (r413*x23*x34 - r411*x24)/(x12*x23^2*x34),\n",
       "  a35: -r412*x25/x23,\n",
       "  a45: 0}]"
      ]
     },
     "metadata": {},
     "output_type": "display_data"
    },
    {
     "data": {
      "text/plain": [
       "\\left[\\left\\{d_{1} : 0, d_{2} : 0, d_{3} : 0, d_{4} : 0, d_{5} : r_{401}, a_{12} : r_{402}, a_{13} : r_{403}, a_{14} : r_{404}, a_{15} : r_{405}, a_{23} : r_{406}, a_{24} : r_{407}, a_{25} : r_{408}, a_{34} : r_{409}, a_{35} : r_{410}, a_{45} : 0\\right\\}, \\left\\{d_{1} : r_{411}, d_{2} : \\frac{r_{411}}{x_{12}}, d_{3} : \\frac{r_{411}}{x_{12} x_{23}}, d_{4} : \\frac{r_{411}}{x_{12} x_{23} x_{34}}, d_{5} : r_{412}, a_{12} : r_{413}, a_{13} : r_{414}, a_{14} : r_{415}, a_{15} : r_{416}, a_{23} : \\frac{r_{413}}{x_{12}}, a_{24} : \\frac{r_{414} x_{12} x_{23} x_{34} - r_{411} x_{14}}{x_{12}^{2} x_{23} x_{34}}, a_{25} : 0, a_{34} : \\frac{r_{413} x_{23} x_{34} - r_{411} x_{24}}{x_{12} x_{23}^{2} x_{34}}, a_{35} : -\\frac{r_{412} x_{25}}{x_{23}}, a_{45} : 0\\right\\}\\right]"
      ]
     },
     "execution_count": 26,
     "metadata": {},
     "output_type": "execute_result"
    }
   ],
   "source": [
    "#x7\n",
    "reset()\n",
    "\n",
    "var('x12,x13,x14,x15,x23,x24,x25,x34,x35,x45')\n",
    "var('d1,d2,d3,d4,d5')\n",
    "var('a12,a13,a14,a15,a23,a24,a25,a34,a35,a45')\n",
    "\n",
    "load_attach_path('C:\\\\Users\\\\julia\\\\Documents\\\\unb\\\\doutorado\\\\pensar\\\\codigo_sage_v2\\\\maquina\\\\x7')\n",
    "load('out_#011010.sage')\n",
    "\n",
    "m=matrix(QQ, [[0, 1, 0, 0, 0],\n",
    "              [0, 0, 1, 0, 0],\n",
    "              [0, 0, 0, 1, 0],\n",
    "              [0, 0, 0, 0, 0],\n",
    "              [0, 0, 0, 0, 0]])\n",
    "        \n",
    "#entry of matrix: (i,j) line i collum j, means (i-1,j-1)\n",
    "sol=solve([ eq1==m[0,1],\teq2==m[0,2],\teq3==m[0,3],\teq4==m[0,4],\t\n",
    "                                            eq5==m[1,2],    eq6==m[1,3],\n",
    "                                                            eq7==m[1,4], eq8==m[2,3], eq9==m[2,4]],d1,d2,d3,d4,d5,a12,a13,a14,a15,a23,a24,a25,a34,a35,a45, solution_dict=True)\n",
    "\n",
    "show(m)\n",
    "show(sol)\n",
    "latex(sol)"
   ]
  },
  {
   "cell_type": "code",
   "execution_count": 27,
   "metadata": {},
   "outputs": [
    {
     "data": {
      "text/html": [
       "<html><script type=\"math/tex; mode=display\">\\newcommand{\\Bold}[1]{\\mathbf{#1}}\\left(\\begin{array}{rrrrr}\n",
       "0 & 1 & 0 & 0 & 0 \\\\\n",
       "0 & 0 & 1 & 0 & 0 \\\\\n",
       "0 & 0 & 0 & 1 & 0 \\\\\n",
       "0 & 0 & 0 & 0 & 0 \\\\\n",
       "0 & 0 & 0 & 0 & 0\n",
       "\\end{array}\\right)</script></html>"
      ],
      "text/latex": [
       "$$\\newcommand{\\Bold}[1]{\\mathbf{#1}}\\left(\\begin{array}{rrrrr}\n",
       "0 & 1 & 0 & 0 & 0 \\\\\n",
       "0 & 0 & 1 & 0 & 0 \\\\\n",
       "0 & 0 & 0 & 1 & 0 \\\\\n",
       "0 & 0 & 0 & 0 & 0 \\\\\n",
       "0 & 0 & 0 & 0 & 0\n",
       "\\end{array}\\right)$$"
      ],
      "text/plain": [
       "[0 1 0 0 0]\n",
       "[0 0 1 0 0]\n",
       "[0 0 0 1 0]\n",
       "[0 0 0 0 0]\n",
       "[0 0 0 0 0]"
      ]
     },
     "metadata": {},
     "output_type": "display_data"
    },
    {
     "data": {
      "text/html": [
       "<html><script type=\"math/tex; mode=display\">\\newcommand{\\Bold}[1]{\\mathbf{#1}}\\left[\\left\\{d_{1} : 0, d_{2} : 0, d_{3} : 0, d_{4} : 0, d_{5} : r_{417}, a_{12} : r_{418}, a_{13} : r_{419}, a_{14} : r_{420}, a_{15} : r_{421}, a_{23} : r_{422}, a_{24} : r_{423}, a_{25} : r_{424}, a_{34} : r_{425}, a_{35} : r_{426}, a_{45} : 0\\right\\}, \\left\\{d_{1} : r_{427}, d_{2} : \\frac{r_{427}}{x_{12}}, d_{3} : \\frac{r_{427}}{x_{12} x_{23}}, d_{4} : \\frac{r_{427}}{x_{12} x_{23} x_{34}}, d_{5} : r_{428}, a_{12} : r_{429}, a_{13} : r_{430}, a_{14} : r_{431}, a_{15} : r_{432}, a_{23} : \\frac{r_{429}}{x_{12}}, a_{24} : \\frac{r_{430} x_{12} x_{23} x_{34} - r_{427} x_{14}}{x_{12}^{2} x_{23} x_{34}}, a_{25} : -\\frac{r_{428} x_{15}}{x_{12}}, a_{34} : \\frac{r_{429} x_{23} x_{34} - r_{427} x_{24}}{x_{12} x_{23}^{2} x_{34}}, a_{35} : -\\frac{r_{428} x_{25}}{x_{23}}, a_{45} : 0\\right\\}\\right]</script></html>"
      ],
      "text/latex": [
       "$$\\newcommand{\\Bold}[1]{\\mathbf{#1}}\\left[\\left\\{d_{1} : 0, d_{2} : 0, d_{3} : 0, d_{4} : 0, d_{5} : r_{417}, a_{12} : r_{418}, a_{13} : r_{419}, a_{14} : r_{420}, a_{15} : r_{421}, a_{23} : r_{422}, a_{24} : r_{423}, a_{25} : r_{424}, a_{34} : r_{425}, a_{35} : r_{426}, a_{45} : 0\\right\\}, \\left\\{d_{1} : r_{427}, d_{2} : \\frac{r_{427}}{x_{12}}, d_{3} : \\frac{r_{427}}{x_{12} x_{23}}, d_{4} : \\frac{r_{427}}{x_{12} x_{23} x_{34}}, d_{5} : r_{428}, a_{12} : r_{429}, a_{13} : r_{430}, a_{14} : r_{431}, a_{15} : r_{432}, a_{23} : \\frac{r_{429}}{x_{12}}, a_{24} : \\frac{r_{430} x_{12} x_{23} x_{34} - r_{427} x_{14}}{x_{12}^{2} x_{23} x_{34}}, a_{25} : -\\frac{r_{428} x_{15}}{x_{12}}, a_{34} : \\frac{r_{429} x_{23} x_{34} - r_{427} x_{24}}{x_{12} x_{23}^{2} x_{34}}, a_{35} : -\\frac{r_{428} x_{25}}{x_{23}}, a_{45} : 0\\right\\}\\right]$$"
      ],
      "text/plain": [
       "[{d1: 0,\n",
       "  d2: 0,\n",
       "  d3: 0,\n",
       "  d4: 0,\n",
       "  d5: r417,\n",
       "  a12: r418,\n",
       "  a13: r419,\n",
       "  a14: r420,\n",
       "  a15: r421,\n",
       "  a23: r422,\n",
       "  a24: r423,\n",
       "  a25: r424,\n",
       "  a34: r425,\n",
       "  a35: r426,\n",
       "  a45: 0},\n",
       " {d1: r427,\n",
       "  d2: r427/x12,\n",
       "  d3: r427/(x12*x23),\n",
       "  d4: r427/(x12*x23*x34),\n",
       "  d5: r428,\n",
       "  a12: r429,\n",
       "  a13: r430,\n",
       "  a14: r431,\n",
       "  a15: r432,\n",
       "  a23: r429/x12,\n",
       "  a24: (r430*x12*x23*x34 - r427*x14)/(x12^2*x23*x34),\n",
       "  a25: -r428*x15/x12,\n",
       "  a34: (r429*x23*x34 - r427*x24)/(x12*x23^2*x34),\n",
       "  a35: -r428*x25/x23,\n",
       "  a45: 0}]"
      ]
     },
     "metadata": {},
     "output_type": "display_data"
    },
    {
     "data": {
      "text/plain": [
       "\\left[\\left\\{d_{1} : 0, d_{2} : 0, d_{3} : 0, d_{4} : 0, d_{5} : r_{417}, a_{12} : r_{418}, a_{13} : r_{419}, a_{14} : r_{420}, a_{15} : r_{421}, a_{23} : r_{422}, a_{24} : r_{423}, a_{25} : r_{424}, a_{34} : r_{425}, a_{35} : r_{426}, a_{45} : 0\\right\\}, \\left\\{d_{1} : r_{427}, d_{2} : \\frac{r_{427}}{x_{12}}, d_{3} : \\frac{r_{427}}{x_{12} x_{23}}, d_{4} : \\frac{r_{427}}{x_{12} x_{23} x_{34}}, d_{5} : r_{428}, a_{12} : r_{429}, a_{13} : r_{430}, a_{14} : r_{431}, a_{15} : r_{432}, a_{23} : \\frac{r_{429}}{x_{12}}, a_{24} : \\frac{r_{430} x_{12} x_{23} x_{34} - r_{427} x_{14}}{x_{12}^{2} x_{23} x_{34}}, a_{25} : -\\frac{r_{428} x_{15}}{x_{12}}, a_{34} : \\frac{r_{429} x_{23} x_{34} - r_{427} x_{24}}{x_{12} x_{23}^{2} x_{34}}, a_{35} : -\\frac{r_{428} x_{25}}{x_{23}}, a_{45} : 0\\right\\}\\right]"
      ]
     },
     "execution_count": 27,
     "metadata": {},
     "output_type": "execute_result"
    }
   ],
   "source": [
    "#x7\n",
    "reset()\n",
    "\n",
    "var('x12,x13,x14,x15,x23,x24,x25,x34,x35,x45')\n",
    "var('d1,d2,d3,d4,d5')\n",
    "var('a12,a13,a14,a15,a23,a24,a25,a34,a35,a45')\n",
    "\n",
    "load_attach_path('C:\\\\Users\\\\julia\\\\Documents\\\\unb\\\\doutorado\\\\pensar\\\\codigo_sage_v2\\\\maquina\\\\x7')\n",
    "load('out_#011011.sage')\n",
    "\n",
    "m=matrix(QQ, [[0, 1, 0, 0, 0],\n",
    "              [0, 0, 1, 0, 0],\n",
    "              [0, 0, 0, 1, 0],\n",
    "              [0, 0, 0, 0, 0],\n",
    "              [0, 0, 0, 0, 0]])\n",
    "        \n",
    "#entry of matrix: (i,j) line i collum j, means (i-1,j-1)\n",
    "sol=solve([ eq1==m[0,1],\teq2==m[0,2],\teq3==m[0,3],\teq4==m[0,4],\t\n",
    "                                            eq5==m[1,2],    eq6==m[1,3],\n",
    "                                                            eq7==m[1,4], eq8==m[2,3], eq9==m[2,4]],d1,d2,d3,d4,d5,a12,a13,a14,a15,a23,a24,a25,a34,a35,a45, solution_dict=True)\n",
    "\n",
    "show(m)\n",
    "show(sol)\n",
    "latex(sol)"
   ]
  },
  {
   "cell_type": "code",
   "execution_count": 28,
   "metadata": {},
   "outputs": [
    {
     "data": {
      "text/html": [
       "<html><script type=\"math/tex; mode=display\">\\newcommand{\\Bold}[1]{\\mathbf{#1}}\\left(\\begin{array}{rrrrr}\n",
       "0 & 1 & 0 & 0 & 0 \\\\\n",
       "0 & 0 & 1 & 0 & 0 \\\\\n",
       "0 & 0 & 0 & 1 & 0 \\\\\n",
       "0 & 0 & 0 & 0 & 0 \\\\\n",
       "0 & 0 & 0 & 0 & 0\n",
       "\\end{array}\\right)</script></html>"
      ],
      "text/latex": [
       "$$\\newcommand{\\Bold}[1]{\\mathbf{#1}}\\left(\\begin{array}{rrrrr}\n",
       "0 & 1 & 0 & 0 & 0 \\\\\n",
       "0 & 0 & 1 & 0 & 0 \\\\\n",
       "0 & 0 & 0 & 1 & 0 \\\\\n",
       "0 & 0 & 0 & 0 & 0 \\\\\n",
       "0 & 0 & 0 & 0 & 0\n",
       "\\end{array}\\right)$$"
      ],
      "text/plain": [
       "[0 1 0 0 0]\n",
       "[0 0 1 0 0]\n",
       "[0 0 0 1 0]\n",
       "[0 0 0 0 0]\n",
       "[0 0 0 0 0]"
      ]
     },
     "metadata": {},
     "output_type": "display_data"
    },
    {
     "data": {
      "text/html": [
       "<html><script type=\"math/tex; mode=display\">\\newcommand{\\Bold}[1]{\\mathbf{#1}}\\left[\\left\\{d_{1} : 0, d_{2} : 0, d_{3} : 0, d_{4} : 0, d_{5} : r_{433}, a_{12} : r_{434}, a_{13} : r_{435}, a_{14} : r_{436}, a_{15} : r_{437}, a_{23} : r_{438}, a_{24} : r_{439}, a_{25} : r_{440}, a_{34} : r_{441}, a_{35} : r_{442}, a_{45} : 0\\right\\}, \\left\\{d_{1} : r_{443}, d_{2} : \\frac{r_{443}}{x_{12}}, d_{3} : \\frac{r_{443}}{x_{12} x_{23}}, d_{4} : \\frac{r_{443}}{x_{12} x_{23} x_{34}}, d_{5} : r_{444}, a_{12} : r_{445}, a_{13} : r_{446}, a_{14} : r_{447}, a_{15} : r_{448}, a_{23} : \\frac{r_{445} x_{12} x_{23} - r_{443} x_{13}}{x_{12}^{2} x_{23}}, a_{24} : \\frac{r_{443} x_{12} x_{13} x_{24} + {\\left(r_{446} x_{12}^{2} x_{23}^{2} - r_{445} x_{12} x_{13} x_{23} + r_{443} x_{13}^{2}\\right)} x_{34}}{x_{12}^{3} x_{23}^{2} x_{34}}, a_{25} : \\frac{r_{444} x_{13} x_{25}}{x_{12} x_{23}}, a_{34} : -\\frac{r_{443} x_{12} x_{24} - {\\left(r_{445} x_{12} x_{23} - r_{443} x_{13}\\right)} x_{34}}{x_{12}^{2} x_{23}^{2} x_{34}}, a_{35} : -\\frac{r_{444} x_{25}}{x_{23}}, a_{45} : 0\\right\\}\\right]</script></html>"
      ],
      "text/latex": [
       "$$\\newcommand{\\Bold}[1]{\\mathbf{#1}}\\left[\\left\\{d_{1} : 0, d_{2} : 0, d_{3} : 0, d_{4} : 0, d_{5} : r_{433}, a_{12} : r_{434}, a_{13} : r_{435}, a_{14} : r_{436}, a_{15} : r_{437}, a_{23} : r_{438}, a_{24} : r_{439}, a_{25} : r_{440}, a_{34} : r_{441}, a_{35} : r_{442}, a_{45} : 0\\right\\}, \\left\\{d_{1} : r_{443}, d_{2} : \\frac{r_{443}}{x_{12}}, d_{3} : \\frac{r_{443}}{x_{12} x_{23}}, d_{4} : \\frac{r_{443}}{x_{12} x_{23} x_{34}}, d_{5} : r_{444}, a_{12} : r_{445}, a_{13} : r_{446}, a_{14} : r_{447}, a_{15} : r_{448}, a_{23} : \\frac{r_{445} x_{12} x_{23} - r_{443} x_{13}}{x_{12}^{2} x_{23}}, a_{24} : \\frac{r_{443} x_{12} x_{13} x_{24} + {\\left(r_{446} x_{12}^{2} x_{23}^{2} - r_{445} x_{12} x_{13} x_{23} + r_{443} x_{13}^{2}\\right)} x_{34}}{x_{12}^{3} x_{23}^{2} x_{34}}, a_{25} : \\frac{r_{444} x_{13} x_{25}}{x_{12} x_{23}}, a_{34} : -\\frac{r_{443} x_{12} x_{24} - {\\left(r_{445} x_{12} x_{23} - r_{443} x_{13}\\right)} x_{34}}{x_{12}^{2} x_{23}^{2} x_{34}}, a_{35} : -\\frac{r_{444} x_{25}}{x_{23}}, a_{45} : 0\\right\\}\\right]$$"
      ],
      "text/plain": [
       "[{d1: 0,\n",
       "  d2: 0,\n",
       "  d3: 0,\n",
       "  d4: 0,\n",
       "  d5: r433,\n",
       "  a12: r434,\n",
       "  a13: r435,\n",
       "  a14: r436,\n",
       "  a15: r437,\n",
       "  a23: r438,\n",
       "  a24: r439,\n",
       "  a25: r440,\n",
       "  a34: r441,\n",
       "  a35: r442,\n",
       "  a45: 0},\n",
       " {d1: r443,\n",
       "  d2: r443/x12,\n",
       "  d3: r443/(x12*x23),\n",
       "  d4: r443/(x12*x23*x34),\n",
       "  d5: r444,\n",
       "  a12: r445,\n",
       "  a13: r446,\n",
       "  a14: r447,\n",
       "  a15: r448,\n",
       "  a23: (r445*x12*x23 - r443*x13)/(x12^2*x23),\n",
       "  a24: (r443*x12*x13*x24 + (r446*x12^2*x23^2 - r445*x12*x13*x23 + r443*x13^2)*x34)/(x12^3*x23^2*x34),\n",
       "  a25: r444*x13*x25/(x12*x23),\n",
       "  a34: -(r443*x12*x24 - (r445*x12*x23 - r443*x13)*x34)/(x12^2*x23^2*x34),\n",
       "  a35: -r444*x25/x23,\n",
       "  a45: 0}]"
      ]
     },
     "metadata": {},
     "output_type": "display_data"
    },
    {
     "data": {
      "text/plain": [
       "\\left[\\left\\{d_{1} : 0, d_{2} : 0, d_{3} : 0, d_{4} : 0, d_{5} : r_{433}, a_{12} : r_{434}, a_{13} : r_{435}, a_{14} : r_{436}, a_{15} : r_{437}, a_{23} : r_{438}, a_{24} : r_{439}, a_{25} : r_{440}, a_{34} : r_{441}, a_{35} : r_{442}, a_{45} : 0\\right\\}, \\left\\{d_{1} : r_{443}, d_{2} : \\frac{r_{443}}{x_{12}}, d_{3} : \\frac{r_{443}}{x_{12} x_{23}}, d_{4} : \\frac{r_{443}}{x_{12} x_{23} x_{34}}, d_{5} : r_{444}, a_{12} : r_{445}, a_{13} : r_{446}, a_{14} : r_{447}, a_{15} : r_{448}, a_{23} : \\frac{r_{445} x_{12} x_{23} - r_{443} x_{13}}{x_{12}^{2} x_{23}}, a_{24} : \\frac{r_{443} x_{12} x_{13} x_{24} + {\\left(r_{446} x_{12}^{2} x_{23}^{2} - r_{445} x_{12} x_{13} x_{23} + r_{443} x_{13}^{2}\\right)} x_{34}}{x_{12}^{3} x_{23}^{2} x_{34}}, a_{25} : \\frac{r_{444} x_{13} x_{25}}{x_{12} x_{23}}, a_{34} : -\\frac{r_{443} x_{12} x_{24} - {\\left(r_{445} x_{12} x_{23} - r_{443} x_{13}\\right)} x_{34}}{x_{12}^{2} x_{23}^{2} x_{34}}, a_{35} : -\\frac{r_{444} x_{25}}{x_{23}}, a_{45} : 0\\right\\}\\right]"
      ]
     },
     "execution_count": 28,
     "metadata": {},
     "output_type": "execute_result"
    }
   ],
   "source": [
    "#x7\n",
    "reset()\n",
    "\n",
    "var('x12,x13,x14,x15,x23,x24,x25,x34,x35,x45')\n",
    "var('d1,d2,d3,d4,d5')\n",
    "var('a12,a13,a14,a15,a23,a24,a25,a34,a35,a45')\n",
    "\n",
    "load_attach_path('C:\\\\Users\\\\julia\\\\Documents\\\\unb\\\\doutorado\\\\pensar\\\\codigo_sage_v2\\\\maquina\\\\x7')\n",
    "load('out_#011100.sage')\n",
    "\n",
    "m=matrix(QQ, [[0, 1, 0, 0, 0],\n",
    "              [0, 0, 1, 0, 0],\n",
    "              [0, 0, 0, 1, 0],\n",
    "              [0, 0, 0, 0, 0],\n",
    "              [0, 0, 0, 0, 0]])\n",
    "        \n",
    "#entry of matrix: (i,j) line i collum j, means (i-1,j-1)\n",
    "sol=solve([ eq1==m[0,1],\teq2==m[0,2],\teq3==m[0,3],\teq4==m[0,4],\t\n",
    "                                            eq5==m[1,2],    eq6==m[1,3],\n",
    "                                                            eq7==m[1,4], eq8==m[2,3], eq9==m[2,4]],d1,d2,d3,d4,d5,a12,a13,a14,a15,a23,a24,a25,a34,a35,a45, solution_dict=True)\n",
    "\n",
    "show(m)\n",
    "show(sol)\n",
    "latex(sol)"
   ]
  },
  {
   "cell_type": "code",
   "execution_count": 29,
   "metadata": {},
   "outputs": [
    {
     "data": {
      "text/html": [
       "<html><script type=\"math/tex; mode=display\">\\newcommand{\\Bold}[1]{\\mathbf{#1}}\\left(\\begin{array}{rrrrr}\n",
       "0 & 1 & 0 & 0 & 0 \\\\\n",
       "0 & 0 & 1 & 0 & 0 \\\\\n",
       "0 & 0 & 0 & 1 & 0 \\\\\n",
       "0 & 0 & 0 & 0 & 0 \\\\\n",
       "0 & 0 & 0 & 0 & 0\n",
       "\\end{array}\\right)</script></html>"
      ],
      "text/latex": [
       "$$\\newcommand{\\Bold}[1]{\\mathbf{#1}}\\left(\\begin{array}{rrrrr}\n",
       "0 & 1 & 0 & 0 & 0 \\\\\n",
       "0 & 0 & 1 & 0 & 0 \\\\\n",
       "0 & 0 & 0 & 1 & 0 \\\\\n",
       "0 & 0 & 0 & 0 & 0 \\\\\n",
       "0 & 0 & 0 & 0 & 0\n",
       "\\end{array}\\right)$$"
      ],
      "text/plain": [
       "[0 1 0 0 0]\n",
       "[0 0 1 0 0]\n",
       "[0 0 0 1 0]\n",
       "[0 0 0 0 0]\n",
       "[0 0 0 0 0]"
      ]
     },
     "metadata": {},
     "output_type": "display_data"
    },
    {
     "data": {
      "text/html": [
       "<html><script type=\"math/tex; mode=display\">\\newcommand{\\Bold}[1]{\\mathbf{#1}}\\left[\\left\\{d_{1} : 0, d_{2} : 0, d_{3} : 0, d_{4} : 0, d_{5} : r_{449}, a_{12} : r_{450}, a_{13} : r_{451}, a_{14} : r_{452}, a_{15} : r_{453}, a_{23} : r_{454}, a_{24} : r_{455}, a_{25} : r_{456}, a_{34} : r_{457}, a_{35} : r_{458}, a_{45} : 0\\right\\}, \\left\\{d_{1} : r_{459}, d_{2} : \\frac{r_{459}}{x_{12}}, d_{3} : \\frac{r_{459}}{x_{12} x_{23}}, d_{4} : \\frac{r_{459}}{x_{12} x_{23} x_{34}}, d_{5} : r_{460}, a_{12} : r_{461}, a_{13} : r_{462}, a_{14} : r_{463}, a_{15} : r_{464}, a_{23} : \\frac{r_{461} x_{12} x_{23} - r_{459} x_{13}}{x_{12}^{2} x_{23}}, a_{24} : \\frac{r_{459} x_{12} x_{13} x_{24} + {\\left(r_{462} x_{12}^{2} x_{23}^{2} - r_{461} x_{12} x_{13} x_{23} + r_{459} x_{13}^{2}\\right)} x_{34}}{x_{12}^{3} x_{23}^{2} x_{34}}, a_{25} : -\\frac{r_{460} x_{15} x_{23} - r_{460} x_{13} x_{25}}{x_{12} x_{23}}, a_{34} : -\\frac{r_{459} x_{12} x_{24} - {\\left(r_{461} x_{12} x_{23} - r_{459} x_{13}\\right)} x_{34}}{x_{12}^{2} x_{23}^{2} x_{34}}, a_{35} : -\\frac{r_{460} x_{25}}{x_{23}}, a_{45} : 0\\right\\}\\right]</script></html>"
      ],
      "text/latex": [
       "$$\\newcommand{\\Bold}[1]{\\mathbf{#1}}\\left[\\left\\{d_{1} : 0, d_{2} : 0, d_{3} : 0, d_{4} : 0, d_{5} : r_{449}, a_{12} : r_{450}, a_{13} : r_{451}, a_{14} : r_{452}, a_{15} : r_{453}, a_{23} : r_{454}, a_{24} : r_{455}, a_{25} : r_{456}, a_{34} : r_{457}, a_{35} : r_{458}, a_{45} : 0\\right\\}, \\left\\{d_{1} : r_{459}, d_{2} : \\frac{r_{459}}{x_{12}}, d_{3} : \\frac{r_{459}}{x_{12} x_{23}}, d_{4} : \\frac{r_{459}}{x_{12} x_{23} x_{34}}, d_{5} : r_{460}, a_{12} : r_{461}, a_{13} : r_{462}, a_{14} : r_{463}, a_{15} : r_{464}, a_{23} : \\frac{r_{461} x_{12} x_{23} - r_{459} x_{13}}{x_{12}^{2} x_{23}}, a_{24} : \\frac{r_{459} x_{12} x_{13} x_{24} + {\\left(r_{462} x_{12}^{2} x_{23}^{2} - r_{461} x_{12} x_{13} x_{23} + r_{459} x_{13}^{2}\\right)} x_{34}}{x_{12}^{3} x_{23}^{2} x_{34}}, a_{25} : -\\frac{r_{460} x_{15} x_{23} - r_{460} x_{13} x_{25}}{x_{12} x_{23}}, a_{34} : -\\frac{r_{459} x_{12} x_{24} - {\\left(r_{461} x_{12} x_{23} - r_{459} x_{13}\\right)} x_{34}}{x_{12}^{2} x_{23}^{2} x_{34}}, a_{35} : -\\frac{r_{460} x_{25}}{x_{23}}, a_{45} : 0\\right\\}\\right]$$"
      ],
      "text/plain": [
       "[{d1: 0,\n",
       "  d2: 0,\n",
       "  d3: 0,\n",
       "  d4: 0,\n",
       "  d5: r449,\n",
       "  a12: r450,\n",
       "  a13: r451,\n",
       "  a14: r452,\n",
       "  a15: r453,\n",
       "  a23: r454,\n",
       "  a24: r455,\n",
       "  a25: r456,\n",
       "  a34: r457,\n",
       "  a35: r458,\n",
       "  a45: 0},\n",
       " {d1: r459,\n",
       "  d2: r459/x12,\n",
       "  d3: r459/(x12*x23),\n",
       "  d4: r459/(x12*x23*x34),\n",
       "  d5: r460,\n",
       "  a12: r461,\n",
       "  a13: r462,\n",
       "  a14: r463,\n",
       "  a15: r464,\n",
       "  a23: (r461*x12*x23 - r459*x13)/(x12^2*x23),\n",
       "  a24: (r459*x12*x13*x24 + (r462*x12^2*x23^2 - r461*x12*x13*x23 + r459*x13^2)*x34)/(x12^3*x23^2*x34),\n",
       "  a25: -(r460*x15*x23 - r460*x13*x25)/(x12*x23),\n",
       "  a34: -(r459*x12*x24 - (r461*x12*x23 - r459*x13)*x34)/(x12^2*x23^2*x34),\n",
       "  a35: -r460*x25/x23,\n",
       "  a45: 0}]"
      ]
     },
     "metadata": {},
     "output_type": "display_data"
    },
    {
     "data": {
      "text/plain": [
       "\\left[\\left\\{d_{1} : 0, d_{2} : 0, d_{3} : 0, d_{4} : 0, d_{5} : r_{449}, a_{12} : r_{450}, a_{13} : r_{451}, a_{14} : r_{452}, a_{15} : r_{453}, a_{23} : r_{454}, a_{24} : r_{455}, a_{25} : r_{456}, a_{34} : r_{457}, a_{35} : r_{458}, a_{45} : 0\\right\\}, \\left\\{d_{1} : r_{459}, d_{2} : \\frac{r_{459}}{x_{12}}, d_{3} : \\frac{r_{459}}{x_{12} x_{23}}, d_{4} : \\frac{r_{459}}{x_{12} x_{23} x_{34}}, d_{5} : r_{460}, a_{12} : r_{461}, a_{13} : r_{462}, a_{14} : r_{463}, a_{15} : r_{464}, a_{23} : \\frac{r_{461} x_{12} x_{23} - r_{459} x_{13}}{x_{12}^{2} x_{23}}, a_{24} : \\frac{r_{459} x_{12} x_{13} x_{24} + {\\left(r_{462} x_{12}^{2} x_{23}^{2} - r_{461} x_{12} x_{13} x_{23} + r_{459} x_{13}^{2}\\right)} x_{34}}{x_{12}^{3} x_{23}^{2} x_{34}}, a_{25} : -\\frac{r_{460} x_{15} x_{23} - r_{460} x_{13} x_{25}}{x_{12} x_{23}}, a_{34} : -\\frac{r_{459} x_{12} x_{24} - {\\left(r_{461} x_{12} x_{23} - r_{459} x_{13}\\right)} x_{34}}{x_{12}^{2} x_{23}^{2} x_{34}}, a_{35} : -\\frac{r_{460} x_{25}}{x_{23}}, a_{45} : 0\\right\\}\\right]"
      ]
     },
     "execution_count": 29,
     "metadata": {},
     "output_type": "execute_result"
    }
   ],
   "source": [
    "#x7\n",
    "reset()\n",
    "\n",
    "var('x12,x13,x14,x15,x23,x24,x25,x34,x35,x45')\n",
    "var('d1,d2,d3,d4,d5')\n",
    "var('a12,a13,a14,a15,a23,a24,a25,a34,a35,a45')\n",
    "\n",
    "load_attach_path('C:\\\\Users\\\\julia\\\\Documents\\\\unb\\\\doutorado\\\\pensar\\\\codigo_sage_v2\\\\maquina\\\\x7')\n",
    "load('out_#011101.sage')\n",
    "\n",
    "m=matrix(QQ, [[0, 1, 0, 0, 0],\n",
    "              [0, 0, 1, 0, 0],\n",
    "              [0, 0, 0, 1, 0],\n",
    "              [0, 0, 0, 0, 0],\n",
    "              [0, 0, 0, 0, 0]])\n",
    "        \n",
    "#entry of matrix: (i,j) line i collum j, means (i-1,j-1)\n",
    "sol=solve([ eq1==m[0,1],\teq2==m[0,2],\teq3==m[0,3],\teq4==m[0,4],\t\n",
    "                                            eq5==m[1,2],    eq6==m[1,3],\n",
    "                                                            eq7==m[1,4], eq8==m[2,3], eq9==m[2,4]],d1,d2,d3,d4,d5,a12,a13,a14,a15,a23,a24,a25,a34,a35,a45, solution_dict=True)\n",
    "\n",
    "show(m)\n",
    "show(sol)\n",
    "latex(sol)"
   ]
  },
  {
   "cell_type": "code",
   "execution_count": 30,
   "metadata": {},
   "outputs": [
    {
     "data": {
      "text/html": [
       "<html><script type=\"math/tex; mode=display\">\\newcommand{\\Bold}[1]{\\mathbf{#1}}\\left(\\begin{array}{rrrrr}\n",
       "0 & 1 & 0 & 0 & 0 \\\\\n",
       "0 & 0 & 1 & 0 & 0 \\\\\n",
       "0 & 0 & 0 & 1 & 0 \\\\\n",
       "0 & 0 & 0 & 0 & 0 \\\\\n",
       "0 & 0 & 0 & 0 & 0\n",
       "\\end{array}\\right)</script></html>"
      ],
      "text/latex": [
       "$$\\newcommand{\\Bold}[1]{\\mathbf{#1}}\\left(\\begin{array}{rrrrr}\n",
       "0 & 1 & 0 & 0 & 0 \\\\\n",
       "0 & 0 & 1 & 0 & 0 \\\\\n",
       "0 & 0 & 0 & 1 & 0 \\\\\n",
       "0 & 0 & 0 & 0 & 0 \\\\\n",
       "0 & 0 & 0 & 0 & 0\n",
       "\\end{array}\\right)$$"
      ],
      "text/plain": [
       "[0 1 0 0 0]\n",
       "[0 0 1 0 0]\n",
       "[0 0 0 1 0]\n",
       "[0 0 0 0 0]\n",
       "[0 0 0 0 0]"
      ]
     },
     "metadata": {},
     "output_type": "display_data"
    },
    {
     "data": {
      "text/html": [
       "<html><script type=\"math/tex; mode=display\">\\newcommand{\\Bold}[1]{\\mathbf{#1}}\\left[\\left\\{d_{1} : 0, d_{2} : 0, d_{3} : 0, d_{4} : 0, d_{5} : r_{465}, a_{12} : r_{466}, a_{13} : r_{467}, a_{14} : r_{468}, a_{15} : r_{469}, a_{23} : r_{470}, a_{24} : r_{471}, a_{25} : r_{472}, a_{34} : r_{473}, a_{35} : r_{474}, a_{45} : 0\\right\\}, \\left\\{d_{1} : r_{475}, d_{2} : \\frac{r_{475}}{x_{12}}, d_{3} : \\frac{r_{475}}{x_{12} x_{23}}, d_{4} : \\frac{r_{475}}{x_{12} x_{23} x_{34}}, d_{5} : r_{476}, a_{12} : r_{477}, a_{13} : r_{478}, a_{14} : r_{479}, a_{15} : r_{480}, a_{23} : \\frac{r_{477} x_{12} x_{23} - r_{475} x_{13}}{x_{12}^{2} x_{23}}, a_{24} : -\\frac{r_{475} x_{12} x_{14} x_{23} - r_{475} x_{12} x_{13} x_{24} - {\\left(r_{478} x_{12}^{2} x_{23}^{2} - r_{477} x_{12} x_{13} x_{23} + r_{475} x_{13}^{2}\\right)} x_{34}}{x_{12}^{3} x_{23}^{2} x_{34}}, a_{25} : \\frac{r_{476} x_{13} x_{25}}{x_{12} x_{23}}, a_{34} : -\\frac{r_{475} x_{12} x_{24} - {\\left(r_{477} x_{12} x_{23} - r_{475} x_{13}\\right)} x_{34}}{x_{12}^{2} x_{23}^{2} x_{34}}, a_{35} : -\\frac{r_{476} x_{25}}{x_{23}}, a_{45} : 0\\right\\}\\right]</script></html>"
      ],
      "text/latex": [
       "$$\\newcommand{\\Bold}[1]{\\mathbf{#1}}\\left[\\left\\{d_{1} : 0, d_{2} : 0, d_{3} : 0, d_{4} : 0, d_{5} : r_{465}, a_{12} : r_{466}, a_{13} : r_{467}, a_{14} : r_{468}, a_{15} : r_{469}, a_{23} : r_{470}, a_{24} : r_{471}, a_{25} : r_{472}, a_{34} : r_{473}, a_{35} : r_{474}, a_{45} : 0\\right\\}, \\left\\{d_{1} : r_{475}, d_{2} : \\frac{r_{475}}{x_{12}}, d_{3} : \\frac{r_{475}}{x_{12} x_{23}}, d_{4} : \\frac{r_{475}}{x_{12} x_{23} x_{34}}, d_{5} : r_{476}, a_{12} : r_{477}, a_{13} : r_{478}, a_{14} : r_{479}, a_{15} : r_{480}, a_{23} : \\frac{r_{477} x_{12} x_{23} - r_{475} x_{13}}{x_{12}^{2} x_{23}}, a_{24} : -\\frac{r_{475} x_{12} x_{14} x_{23} - r_{475} x_{12} x_{13} x_{24} - {\\left(r_{478} x_{12}^{2} x_{23}^{2} - r_{477} x_{12} x_{13} x_{23} + r_{475} x_{13}^{2}\\right)} x_{34}}{x_{12}^{3} x_{23}^{2} x_{34}}, a_{25} : \\frac{r_{476} x_{13} x_{25}}{x_{12} x_{23}}, a_{34} : -\\frac{r_{475} x_{12} x_{24} - {\\left(r_{477} x_{12} x_{23} - r_{475} x_{13}\\right)} x_{34}}{x_{12}^{2} x_{23}^{2} x_{34}}, a_{35} : -\\frac{r_{476} x_{25}}{x_{23}}, a_{45} : 0\\right\\}\\right]$$"
      ],
      "text/plain": [
       "[{d1: 0,\n",
       "  d2: 0,\n",
       "  d3: 0,\n",
       "  d4: 0,\n",
       "  d5: r465,\n",
       "  a12: r466,\n",
       "  a13: r467,\n",
       "  a14: r468,\n",
       "  a15: r469,\n",
       "  a23: r470,\n",
       "  a24: r471,\n",
       "  a25: r472,\n",
       "  a34: r473,\n",
       "  a35: r474,\n",
       "  a45: 0},\n",
       " {d1: r475,\n",
       "  d2: r475/x12,\n",
       "  d3: r475/(x12*x23),\n",
       "  d4: r475/(x12*x23*x34),\n",
       "  d5: r476,\n",
       "  a12: r477,\n",
       "  a13: r478,\n",
       "  a14: r479,\n",
       "  a15: r480,\n",
       "  a23: (r477*x12*x23 - r475*x13)/(x12^2*x23),\n",
       "  a24: -(r475*x12*x14*x23 - r475*x12*x13*x24 - (r478*x12^2*x23^2 - r477*x12*x13*x23 + r475*x13^2)*x34)/(x12^3*x23^2*x34),\n",
       "  a25: r476*x13*x25/(x12*x23),\n",
       "  a34: -(r475*x12*x24 - (r477*x12*x23 - r475*x13)*x34)/(x12^2*x23^2*x34),\n",
       "  a35: -r476*x25/x23,\n",
       "  a45: 0}]"
      ]
     },
     "metadata": {},
     "output_type": "display_data"
    },
    {
     "data": {
      "text/plain": [
       "\\left[\\left\\{d_{1} : 0, d_{2} : 0, d_{3} : 0, d_{4} : 0, d_{5} : r_{465}, a_{12} : r_{466}, a_{13} : r_{467}, a_{14} : r_{468}, a_{15} : r_{469}, a_{23} : r_{470}, a_{24} : r_{471}, a_{25} : r_{472}, a_{34} : r_{473}, a_{35} : r_{474}, a_{45} : 0\\right\\}, \\left\\{d_{1} : r_{475}, d_{2} : \\frac{r_{475}}{x_{12}}, d_{3} : \\frac{r_{475}}{x_{12} x_{23}}, d_{4} : \\frac{r_{475}}{x_{12} x_{23} x_{34}}, d_{5} : r_{476}, a_{12} : r_{477}, a_{13} : r_{478}, a_{14} : r_{479}, a_{15} : r_{480}, a_{23} : \\frac{r_{477} x_{12} x_{23} - r_{475} x_{13}}{x_{12}^{2} x_{23}}, a_{24} : -\\frac{r_{475} x_{12} x_{14} x_{23} - r_{475} x_{12} x_{13} x_{24} - {\\left(r_{478} x_{12}^{2} x_{23}^{2} - r_{477} x_{12} x_{13} x_{23} + r_{475} x_{13}^{2}\\right)} x_{34}}{x_{12}^{3} x_{23}^{2} x_{34}}, a_{25} : \\frac{r_{476} x_{13} x_{25}}{x_{12} x_{23}}, a_{34} : -\\frac{r_{475} x_{12} x_{24} - {\\left(r_{477} x_{12} x_{23} - r_{475} x_{13}\\right)} x_{34}}{x_{12}^{2} x_{23}^{2} x_{34}}, a_{35} : -\\frac{r_{476} x_{25}}{x_{23}}, a_{45} : 0\\right\\}\\right]"
      ]
     },
     "execution_count": 30,
     "metadata": {},
     "output_type": "execute_result"
    }
   ],
   "source": [
    "#x7\n",
    "reset()\n",
    "\n",
    "var('x12,x13,x14,x15,x23,x24,x25,x34,x35,x45')\n",
    "var('d1,d2,d3,d4,d5')\n",
    "var('a12,a13,a14,a15,a23,a24,a25,a34,a35,a45')\n",
    "\n",
    "load_attach_path('C:\\\\Users\\\\julia\\\\Documents\\\\unb\\\\doutorado\\\\pensar\\\\codigo_sage_v2\\\\maquina\\\\x7')\n",
    "load('out_#011110.sage')\n",
    "\n",
    "m=matrix(QQ, [[0, 1, 0, 0, 0],\n",
    "              [0, 0, 1, 0, 0],\n",
    "              [0, 0, 0, 1, 0],\n",
    "              [0, 0, 0, 0, 0],\n",
    "              [0, 0, 0, 0, 0]])\n",
    "        \n",
    "#entry of matrix: (i,j) line i collum j, means (i-1,j-1)\n",
    "sol=solve([ eq1==m[0,1],\teq2==m[0,2],\teq3==m[0,3],\teq4==m[0,4],\t\n",
    "                                            eq5==m[1,2],    eq6==m[1,3],\n",
    "                                                            eq7==m[1,4], eq8==m[2,3], eq9==m[2,4]],d1,d2,d3,d4,d5,a12,a13,a14,a15,a23,a24,a25,a34,a35,a45, solution_dict=True)\n",
    "\n",
    "show(m)\n",
    "show(sol)\n",
    "latex(sol)"
   ]
  },
  {
   "cell_type": "code",
   "execution_count": 31,
   "metadata": {},
   "outputs": [
    {
     "data": {
      "text/html": [
       "<html><script type=\"math/tex; mode=display\">\\newcommand{\\Bold}[1]{\\mathbf{#1}}\\left(\\begin{array}{rrrrr}\n",
       "0 & 1 & 0 & 0 & 0 \\\\\n",
       "0 & 0 & 1 & 0 & 0 \\\\\n",
       "0 & 0 & 0 & 1 & 0 \\\\\n",
       "0 & 0 & 0 & 0 & 0 \\\\\n",
       "0 & 0 & 0 & 0 & 0\n",
       "\\end{array}\\right)</script></html>"
      ],
      "text/latex": [
       "$$\\newcommand{\\Bold}[1]{\\mathbf{#1}}\\left(\\begin{array}{rrrrr}\n",
       "0 & 1 & 0 & 0 & 0 \\\\\n",
       "0 & 0 & 1 & 0 & 0 \\\\\n",
       "0 & 0 & 0 & 1 & 0 \\\\\n",
       "0 & 0 & 0 & 0 & 0 \\\\\n",
       "0 & 0 & 0 & 0 & 0\n",
       "\\end{array}\\right)$$"
      ],
      "text/plain": [
       "[0 1 0 0 0]\n",
       "[0 0 1 0 0]\n",
       "[0 0 0 1 0]\n",
       "[0 0 0 0 0]\n",
       "[0 0 0 0 0]"
      ]
     },
     "metadata": {},
     "output_type": "display_data"
    },
    {
     "data": {
      "text/html": [
       "<html><script type=\"math/tex; mode=display\">\\newcommand{\\Bold}[1]{\\mathbf{#1}}\\left[\\left\\{d_{1} : 0, d_{2} : 0, d_{3} : 0, d_{4} : 0, d_{5} : r_{481}, a_{12} : r_{482}, a_{13} : r_{483}, a_{14} : r_{484}, a_{15} : r_{485}, a_{23} : r_{486}, a_{24} : r_{487}, a_{25} : r_{488}, a_{34} : r_{489}, a_{35} : r_{490}, a_{45} : 0\\right\\}, \\left\\{d_{1} : r_{491}, d_{2} : \\frac{r_{491}}{x_{12}}, d_{3} : \\frac{r_{491}}{x_{12} x_{23}}, d_{4} : \\frac{r_{491}}{x_{12} x_{23} x_{34}}, d_{5} : r_{492}, a_{12} : r_{493}, a_{13} : r_{494}, a_{14} : r_{495}, a_{15} : r_{496}, a_{23} : \\frac{r_{493} x_{12} x_{23} - r_{491} x_{13}}{x_{12}^{2} x_{23}}, a_{24} : -\\frac{r_{491} x_{12} x_{14} x_{23} - r_{491} x_{12} x_{13} x_{24} - {\\left(r_{494} x_{12}^{2} x_{23}^{2} - r_{493} x_{12} x_{13} x_{23} + r_{491} x_{13}^{2}\\right)} x_{34}}{x_{12}^{3} x_{23}^{2} x_{34}}, a_{25} : -\\frac{r_{492} x_{15} x_{23} - r_{492} x_{13} x_{25}}{x_{12} x_{23}}, a_{34} : -\\frac{r_{491} x_{12} x_{24} - {\\left(r_{493} x_{12} x_{23} - r_{491} x_{13}\\right)} x_{34}}{x_{12}^{2} x_{23}^{2} x_{34}}, a_{35} : -\\frac{r_{492} x_{25}}{x_{23}}, a_{45} : 0\\right\\}\\right]</script></html>"
      ],
      "text/latex": [
       "$$\\newcommand{\\Bold}[1]{\\mathbf{#1}}\\left[\\left\\{d_{1} : 0, d_{2} : 0, d_{3} : 0, d_{4} : 0, d_{5} : r_{481}, a_{12} : r_{482}, a_{13} : r_{483}, a_{14} : r_{484}, a_{15} : r_{485}, a_{23} : r_{486}, a_{24} : r_{487}, a_{25} : r_{488}, a_{34} : r_{489}, a_{35} : r_{490}, a_{45} : 0\\right\\}, \\left\\{d_{1} : r_{491}, d_{2} : \\frac{r_{491}}{x_{12}}, d_{3} : \\frac{r_{491}}{x_{12} x_{23}}, d_{4} : \\frac{r_{491}}{x_{12} x_{23} x_{34}}, d_{5} : r_{492}, a_{12} : r_{493}, a_{13} : r_{494}, a_{14} : r_{495}, a_{15} : r_{496}, a_{23} : \\frac{r_{493} x_{12} x_{23} - r_{491} x_{13}}{x_{12}^{2} x_{23}}, a_{24} : -\\frac{r_{491} x_{12} x_{14} x_{23} - r_{491} x_{12} x_{13} x_{24} - {\\left(r_{494} x_{12}^{2} x_{23}^{2} - r_{493} x_{12} x_{13} x_{23} + r_{491} x_{13}^{2}\\right)} x_{34}}{x_{12}^{3} x_{23}^{2} x_{34}}, a_{25} : -\\frac{r_{492} x_{15} x_{23} - r_{492} x_{13} x_{25}}{x_{12} x_{23}}, a_{34} : -\\frac{r_{491} x_{12} x_{24} - {\\left(r_{493} x_{12} x_{23} - r_{491} x_{13}\\right)} x_{34}}{x_{12}^{2} x_{23}^{2} x_{34}}, a_{35} : -\\frac{r_{492} x_{25}}{x_{23}}, a_{45} : 0\\right\\}\\right]$$"
      ],
      "text/plain": [
       "[{d1: 0,\n",
       "  d2: 0,\n",
       "  d3: 0,\n",
       "  d4: 0,\n",
       "  d5: r481,\n",
       "  a12: r482,\n",
       "  a13: r483,\n",
       "  a14: r484,\n",
       "  a15: r485,\n",
       "  a23: r486,\n",
       "  a24: r487,\n",
       "  a25: r488,\n",
       "  a34: r489,\n",
       "  a35: r490,\n",
       "  a45: 0},\n",
       " {d1: r491,\n",
       "  d2: r491/x12,\n",
       "  d3: r491/(x12*x23),\n",
       "  d4: r491/(x12*x23*x34),\n",
       "  d5: r492,\n",
       "  a12: r493,\n",
       "  a13: r494,\n",
       "  a14: r495,\n",
       "  a15: r496,\n",
       "  a23: (r493*x12*x23 - r491*x13)/(x12^2*x23),\n",
       "  a24: -(r491*x12*x14*x23 - r491*x12*x13*x24 - (r494*x12^2*x23^2 - r493*x12*x13*x23 + r491*x13^2)*x34)/(x12^3*x23^2*x34),\n",
       "  a25: -(r492*x15*x23 - r492*x13*x25)/(x12*x23),\n",
       "  a34: -(r491*x12*x24 - (r493*x12*x23 - r491*x13)*x34)/(x12^2*x23^2*x34),\n",
       "  a35: -r492*x25/x23,\n",
       "  a45: 0}]"
      ]
     },
     "metadata": {},
     "output_type": "display_data"
    },
    {
     "data": {
      "text/plain": [
       "\\left[\\left\\{d_{1} : 0, d_{2} : 0, d_{3} : 0, d_{4} : 0, d_{5} : r_{481}, a_{12} : r_{482}, a_{13} : r_{483}, a_{14} : r_{484}, a_{15} : r_{485}, a_{23} : r_{486}, a_{24} : r_{487}, a_{25} : r_{488}, a_{34} : r_{489}, a_{35} : r_{490}, a_{45} : 0\\right\\}, \\left\\{d_{1} : r_{491}, d_{2} : \\frac{r_{491}}{x_{12}}, d_{3} : \\frac{r_{491}}{x_{12} x_{23}}, d_{4} : \\frac{r_{491}}{x_{12} x_{23} x_{34}}, d_{5} : r_{492}, a_{12} : r_{493}, a_{13} : r_{494}, a_{14} : r_{495}, a_{15} : r_{496}, a_{23} : \\frac{r_{493} x_{12} x_{23} - r_{491} x_{13}}{x_{12}^{2} x_{23}}, a_{24} : -\\frac{r_{491} x_{12} x_{14} x_{23} - r_{491} x_{12} x_{13} x_{24} - {\\left(r_{494} x_{12}^{2} x_{23}^{2} - r_{493} x_{12} x_{13} x_{23} + r_{491} x_{13}^{2}\\right)} x_{34}}{x_{12}^{3} x_{23}^{2} x_{34}}, a_{25} : -\\frac{r_{492} x_{15} x_{23} - r_{492} x_{13} x_{25}}{x_{12} x_{23}}, a_{34} : -\\frac{r_{491} x_{12} x_{24} - {\\left(r_{493} x_{12} x_{23} - r_{491} x_{13}\\right)} x_{34}}{x_{12}^{2} x_{23}^{2} x_{34}}, a_{35} : -\\frac{r_{492} x_{25}}{x_{23}}, a_{45} : 0\\right\\}\\right]"
      ]
     },
     "execution_count": 31,
     "metadata": {},
     "output_type": "execute_result"
    }
   ],
   "source": [
    "#x7\n",
    "reset()\n",
    "\n",
    "var('x12,x13,x14,x15,x23,x24,x25,x34,x35,x45')\n",
    "var('d1,d2,d3,d4,d5')\n",
    "var('a12,a13,a14,a15,a23,a24,a25,a34,a35,a45')\n",
    "\n",
    "load_attach_path('C:\\\\Users\\\\julia\\\\Documents\\\\unb\\\\doutorado\\\\pensar\\\\codigo_sage_v2\\\\maquina\\\\x7')\n",
    "load('out_#011111.sage')\n",
    "\n",
    "m=matrix(QQ, [[0, 1, 0, 0, 0],\n",
    "              [0, 0, 1, 0, 0],\n",
    "              [0, 0, 0, 1, 0],\n",
    "              [0, 0, 0, 0, 0],\n",
    "              [0, 0, 0, 0, 0]])\n",
    "        \n",
    "#entry of matrix: (i,j) line i collum j, means (i-1,j-1)\n",
    "sol=solve([ eq1==m[0,1],\teq2==m[0,2],\teq3==m[0,3],\teq4==m[0,4],\t\n",
    "                                            eq5==m[1,2],    eq6==m[1,3],\n",
    "                                                            eq7==m[1,4], eq8==m[2,3], eq9==m[2,4]],d1,d2,d3,d4,d5,a12,a13,a14,a15,a23,a24,a25,a34,a35,a45, solution_dict=True)\n",
    "\n",
    "show(m)\n",
    "show(sol)\n",
    "latex(sol)"
   ]
  },
  {
   "cell_type": "code",
   "execution_count": 32,
   "metadata": {},
   "outputs": [
    {
     "data": {
      "text/html": [
       "<html><script type=\"math/tex; mode=display\">\\newcommand{\\Bold}[1]{\\mathbf{#1}}\\left(\\begin{array}{rrrrr}\n",
       "0 & 1 & 0 & 0 & 0 \\\\\n",
       "0 & 0 & 1 & 0 & 0 \\\\\n",
       "0 & 0 & 0 & 1 & 0 \\\\\n",
       "0 & 0 & 0 & 0 & 0 \\\\\n",
       "0 & 0 & 0 & 0 & 0\n",
       "\\end{array}\\right)</script></html>"
      ],
      "text/latex": [
       "$$\\newcommand{\\Bold}[1]{\\mathbf{#1}}\\left(\\begin{array}{rrrrr}\n",
       "0 & 1 & 0 & 0 & 0 \\\\\n",
       "0 & 0 & 1 & 0 & 0 \\\\\n",
       "0 & 0 & 0 & 1 & 0 \\\\\n",
       "0 & 0 & 0 & 0 & 0 \\\\\n",
       "0 & 0 & 0 & 0 & 0\n",
       "\\end{array}\\right)$$"
      ],
      "text/plain": [
       "[0 1 0 0 0]\n",
       "[0 0 1 0 0]\n",
       "[0 0 0 1 0]\n",
       "[0 0 0 0 0]\n",
       "[0 0 0 0 0]"
      ]
     },
     "metadata": {},
     "output_type": "display_data"
    },
    {
     "data": {
      "text/html": [
       "<html><script type=\"math/tex; mode=display\">\\newcommand{\\Bold}[1]{\\mathbf{#1}}\\left[\\left\\{d_{1} : 0, d_{2} : 0, d_{3} : 0, d_{4} : 0, d_{5} : r_{497}, a_{12} : r_{498}, a_{13} : r_{499}, a_{14} : r_{500}, a_{15} : r_{501}, a_{23} : r_{502}, a_{24} : r_{503}, a_{25} : r_{504}, a_{34} : r_{505}, a_{35} : r_{506}, a_{45} : -\\frac{r_{497} x_{35}}{x_{34}}\\right\\}, \\left\\{d_{1} : r_{507}, d_{2} : \\frac{r_{507}}{x_{12}}, d_{3} : \\frac{r_{507}}{x_{12} x_{23}}, d_{4} : \\frac{r_{507}}{x_{12} x_{23} x_{34}}, d_{5} : r_{508}, a_{12} : r_{509}, a_{13} : r_{510}, a_{14} : r_{511}, a_{15} : r_{512}, a_{23} : \\frac{r_{509}}{x_{12}}, a_{24} : \\frac{r_{510}}{x_{12}}, a_{25} : 0, a_{34} : \\frac{r_{509}}{x_{12} x_{23}}, a_{35} : 0, a_{45} : -\\frac{r_{508} x_{35}}{x_{34}}\\right\\}\\right]</script></html>"
      ],
      "text/latex": [
       "$$\\newcommand{\\Bold}[1]{\\mathbf{#1}}\\left[\\left\\{d_{1} : 0, d_{2} : 0, d_{3} : 0, d_{4} : 0, d_{5} : r_{497}, a_{12} : r_{498}, a_{13} : r_{499}, a_{14} : r_{500}, a_{15} : r_{501}, a_{23} : r_{502}, a_{24} : r_{503}, a_{25} : r_{504}, a_{34} : r_{505}, a_{35} : r_{506}, a_{45} : -\\frac{r_{497} x_{35}}{x_{34}}\\right\\}, \\left\\{d_{1} : r_{507}, d_{2} : \\frac{r_{507}}{x_{12}}, d_{3} : \\frac{r_{507}}{x_{12} x_{23}}, d_{4} : \\frac{r_{507}}{x_{12} x_{23} x_{34}}, d_{5} : r_{508}, a_{12} : r_{509}, a_{13} : r_{510}, a_{14} : r_{511}, a_{15} : r_{512}, a_{23} : \\frac{r_{509}}{x_{12}}, a_{24} : \\frac{r_{510}}{x_{12}}, a_{25} : 0, a_{34} : \\frac{r_{509}}{x_{12} x_{23}}, a_{35} : 0, a_{45} : -\\frac{r_{508} x_{35}}{x_{34}}\\right\\}\\right]$$"
      ],
      "text/plain": [
       "[{d1: 0,\n",
       "  d2: 0,\n",
       "  d3: 0,\n",
       "  d4: 0,\n",
       "  d5: r497,\n",
       "  a12: r498,\n",
       "  a13: r499,\n",
       "  a14: r500,\n",
       "  a15: r501,\n",
       "  a23: r502,\n",
       "  a24: r503,\n",
       "  a25: r504,\n",
       "  a34: r505,\n",
       "  a35: r506,\n",
       "  a45: -r497*x35/x34},\n",
       " {d1: r507,\n",
       "  d2: r507/x12,\n",
       "  d3: r507/(x12*x23),\n",
       "  d4: r507/(x12*x23*x34),\n",
       "  d5: r508,\n",
       "  a12: r509,\n",
       "  a13: r510,\n",
       "  a14: r511,\n",
       "  a15: r512,\n",
       "  a23: r509/x12,\n",
       "  a24: r510/x12,\n",
       "  a25: 0,\n",
       "  a34: r509/(x12*x23),\n",
       "  a35: 0,\n",
       "  a45: -r508*x35/x34}]"
      ]
     },
     "metadata": {},
     "output_type": "display_data"
    },
    {
     "data": {
      "text/plain": [
       "\\left[\\left\\{d_{1} : 0, d_{2} : 0, d_{3} : 0, d_{4} : 0, d_{5} : r_{497}, a_{12} : r_{498}, a_{13} : r_{499}, a_{14} : r_{500}, a_{15} : r_{501}, a_{23} : r_{502}, a_{24} : r_{503}, a_{25} : r_{504}, a_{34} : r_{505}, a_{35} : r_{506}, a_{45} : -\\frac{r_{497} x_{35}}{x_{34}}\\right\\}, \\left\\{d_{1} : r_{507}, d_{2} : \\frac{r_{507}}{x_{12}}, d_{3} : \\frac{r_{507}}{x_{12} x_{23}}, d_{4} : \\frac{r_{507}}{x_{12} x_{23} x_{34}}, d_{5} : r_{508}, a_{12} : r_{509}, a_{13} : r_{510}, a_{14} : r_{511}, a_{15} : r_{512}, a_{23} : \\frac{r_{509}}{x_{12}}, a_{24} : \\frac{r_{510}}{x_{12}}, a_{25} : 0, a_{34} : \\frac{r_{509}}{x_{12} x_{23}}, a_{35} : 0, a_{45} : -\\frac{r_{508} x_{35}}{x_{34}}\\right\\}\\right]"
      ]
     },
     "execution_count": 32,
     "metadata": {},
     "output_type": "execute_result"
    }
   ],
   "source": [
    "#x7\n",
    "reset()\n",
    "\n",
    "var('x12,x13,x14,x15,x23,x24,x25,x34,x35,x45')\n",
    "var('d1,d2,d3,d4,d5')\n",
    "var('a12,a13,a14,a15,a23,a24,a25,a34,a35,a45')\n",
    "\n",
    "load_attach_path('C:\\\\Users\\\\julia\\\\Documents\\\\unb\\\\doutorado\\\\pensar\\\\codigo_sage_v2\\\\maquina\\\\x7')\n",
    "load('out_#100000.sage')\n",
    "\n",
    "m=matrix(QQ, [[0, 1, 0, 0, 0],\n",
    "              [0, 0, 1, 0, 0],\n",
    "              [0, 0, 0, 1, 0],\n",
    "              [0, 0, 0, 0, 0],\n",
    "              [0, 0, 0, 0, 0]])\n",
    "        \n",
    "#entry of matrix: (i,j) line i collum j, means (i-1,j-1)\n",
    "sol=solve([ eq1==m[0,1],\teq2==m[0,2],\teq3==m[0,3],\teq4==m[0,4],\t\n",
    "                                            eq5==m[1,2],    eq6==m[1,3],\n",
    "                                                            eq7==m[1,4], eq8==m[2,3], eq9==m[2,4]],d1,d2,d3,d4,d5,a12,a13,a14,a15,a23,a24,a25,a34,a35,a45, solution_dict=True)\n",
    "\n",
    "show(m)\n",
    "show(sol)\n",
    "latex(sol)"
   ]
  },
  {
   "cell_type": "code",
   "execution_count": 33,
   "metadata": {},
   "outputs": [
    {
     "data": {
      "text/html": [
       "<html><script type=\"math/tex; mode=display\">\\newcommand{\\Bold}[1]{\\mathbf{#1}}\\left(\\begin{array}{rrrrr}\n",
       "0 & 1 & 0 & 0 & 0 \\\\\n",
       "0 & 0 & 1 & 0 & 0 \\\\\n",
       "0 & 0 & 0 & 1 & 0 \\\\\n",
       "0 & 0 & 0 & 0 & 0 \\\\\n",
       "0 & 0 & 0 & 0 & 0\n",
       "\\end{array}\\right)</script></html>"
      ],
      "text/latex": [
       "$$\\newcommand{\\Bold}[1]{\\mathbf{#1}}\\left(\\begin{array}{rrrrr}\n",
       "0 & 1 & 0 & 0 & 0 \\\\\n",
       "0 & 0 & 1 & 0 & 0 \\\\\n",
       "0 & 0 & 0 & 1 & 0 \\\\\n",
       "0 & 0 & 0 & 0 & 0 \\\\\n",
       "0 & 0 & 0 & 0 & 0\n",
       "\\end{array}\\right)$$"
      ],
      "text/plain": [
       "[0 1 0 0 0]\n",
       "[0 0 1 0 0]\n",
       "[0 0 0 1 0]\n",
       "[0 0 0 0 0]\n",
       "[0 0 0 0 0]"
      ]
     },
     "metadata": {},
     "output_type": "display_data"
    },
    {
     "data": {
      "text/html": [
       "<html><script type=\"math/tex; mode=display\">\\newcommand{\\Bold}[1]{\\mathbf{#1}}\\left[\\left\\{d_{1} : 0, d_{2} : 0, d_{3} : 0, d_{4} : 0, d_{5} : r_{513}, a_{12} : r_{514}, a_{13} : r_{515}, a_{14} : r_{516}, a_{15} : r_{517}, a_{23} : r_{518}, a_{24} : r_{519}, a_{25} : r_{520}, a_{34} : r_{521}, a_{35} : r_{522}, a_{45} : -\\frac{r_{513} x_{35}}{x_{34}}\\right\\}, \\left\\{d_{1} : r_{523}, d_{2} : \\frac{r_{523}}{x_{12}}, d_{3} : \\frac{r_{523}}{x_{12} x_{23}}, d_{4} : \\frac{r_{523}}{x_{12} x_{23} x_{34}}, d_{5} : r_{524}, a_{12} : r_{525}, a_{13} : r_{526}, a_{14} : r_{527}, a_{15} : r_{528}, a_{23} : \\frac{r_{525}}{x_{12}}, a_{24} : \\frac{r_{526}}{x_{12}}, a_{25} : -\\frac{r_{524} x_{15}}{x_{12}}, a_{34} : \\frac{r_{525}}{x_{12} x_{23}}, a_{35} : 0, a_{45} : -\\frac{r_{524} x_{35}}{x_{34}}\\right\\}\\right]</script></html>"
      ],
      "text/latex": [
       "$$\\newcommand{\\Bold}[1]{\\mathbf{#1}}\\left[\\left\\{d_{1} : 0, d_{2} : 0, d_{3} : 0, d_{4} : 0, d_{5} : r_{513}, a_{12} : r_{514}, a_{13} : r_{515}, a_{14} : r_{516}, a_{15} : r_{517}, a_{23} : r_{518}, a_{24} : r_{519}, a_{25} : r_{520}, a_{34} : r_{521}, a_{35} : r_{522}, a_{45} : -\\frac{r_{513} x_{35}}{x_{34}}\\right\\}, \\left\\{d_{1} : r_{523}, d_{2} : \\frac{r_{523}}{x_{12}}, d_{3} : \\frac{r_{523}}{x_{12} x_{23}}, d_{4} : \\frac{r_{523}}{x_{12} x_{23} x_{34}}, d_{5} : r_{524}, a_{12} : r_{525}, a_{13} : r_{526}, a_{14} : r_{527}, a_{15} : r_{528}, a_{23} : \\frac{r_{525}}{x_{12}}, a_{24} : \\frac{r_{526}}{x_{12}}, a_{25} : -\\frac{r_{524} x_{15}}{x_{12}}, a_{34} : \\frac{r_{525}}{x_{12} x_{23}}, a_{35} : 0, a_{45} : -\\frac{r_{524} x_{35}}{x_{34}}\\right\\}\\right]$$"
      ],
      "text/plain": [
       "[{d1: 0,\n",
       "  d2: 0,\n",
       "  d3: 0,\n",
       "  d4: 0,\n",
       "  d5: r513,\n",
       "  a12: r514,\n",
       "  a13: r515,\n",
       "  a14: r516,\n",
       "  a15: r517,\n",
       "  a23: r518,\n",
       "  a24: r519,\n",
       "  a25: r520,\n",
       "  a34: r521,\n",
       "  a35: r522,\n",
       "  a45: -r513*x35/x34},\n",
       " {d1: r523,\n",
       "  d2: r523/x12,\n",
       "  d3: r523/(x12*x23),\n",
       "  d4: r523/(x12*x23*x34),\n",
       "  d5: r524,\n",
       "  a12: r525,\n",
       "  a13: r526,\n",
       "  a14: r527,\n",
       "  a15: r528,\n",
       "  a23: r525/x12,\n",
       "  a24: r526/x12,\n",
       "  a25: -r524*x15/x12,\n",
       "  a34: r525/(x12*x23),\n",
       "  a35: 0,\n",
       "  a45: -r524*x35/x34}]"
      ]
     },
     "metadata": {},
     "output_type": "display_data"
    },
    {
     "data": {
      "text/plain": [
       "\\left[\\left\\{d_{1} : 0, d_{2} : 0, d_{3} : 0, d_{4} : 0, d_{5} : r_{513}, a_{12} : r_{514}, a_{13} : r_{515}, a_{14} : r_{516}, a_{15} : r_{517}, a_{23} : r_{518}, a_{24} : r_{519}, a_{25} : r_{520}, a_{34} : r_{521}, a_{35} : r_{522}, a_{45} : -\\frac{r_{513} x_{35}}{x_{34}}\\right\\}, \\left\\{d_{1} : r_{523}, d_{2} : \\frac{r_{523}}{x_{12}}, d_{3} : \\frac{r_{523}}{x_{12} x_{23}}, d_{4} : \\frac{r_{523}}{x_{12} x_{23} x_{34}}, d_{5} : r_{524}, a_{12} : r_{525}, a_{13} : r_{526}, a_{14} : r_{527}, a_{15} : r_{528}, a_{23} : \\frac{r_{525}}{x_{12}}, a_{24} : \\frac{r_{526}}{x_{12}}, a_{25} : -\\frac{r_{524} x_{15}}{x_{12}}, a_{34} : \\frac{r_{525}}{x_{12} x_{23}}, a_{35} : 0, a_{45} : -\\frac{r_{524} x_{35}}{x_{34}}\\right\\}\\right]"
      ]
     },
     "execution_count": 33,
     "metadata": {},
     "output_type": "execute_result"
    }
   ],
   "source": [
    "#x7\n",
    "reset()\n",
    "\n",
    "var('x12,x13,x14,x15,x23,x24,x25,x34,x35,x45')\n",
    "var('d1,d2,d3,d4,d5')\n",
    "var('a12,a13,a14,a15,a23,a24,a25,a34,a35,a45')\n",
    "\n",
    "load_attach_path('C:\\\\Users\\\\julia\\\\Documents\\\\unb\\\\doutorado\\\\pensar\\\\codigo_sage_v2\\\\maquina\\\\x7')\n",
    "load('out_#100001.sage')\n",
    "\n",
    "m=matrix(QQ, [[0, 1, 0, 0, 0],\n",
    "              [0, 0, 1, 0, 0],\n",
    "              [0, 0, 0, 1, 0],\n",
    "              [0, 0, 0, 0, 0],\n",
    "              [0, 0, 0, 0, 0]])\n",
    "        \n",
    "#entry of matrix: (i,j) line i collum j, means (i-1,j-1)\n",
    "sol=solve([ eq1==m[0,1],\teq2==m[0,2],\teq3==m[0,3],\teq4==m[0,4],\t\n",
    "                                            eq5==m[1,2],    eq6==m[1,3],\n",
    "                                                            eq7==m[1,4], eq8==m[2,3], eq9==m[2,4]],d1,d2,d3,d4,d5,a12,a13,a14,a15,a23,a24,a25,a34,a35,a45, solution_dict=True)\n",
    "\n",
    "show(m)\n",
    "show(sol)\n",
    "latex(sol)"
   ]
  },
  {
   "cell_type": "code",
   "execution_count": 34,
   "metadata": {},
   "outputs": [
    {
     "data": {
      "text/html": [
       "<html><script type=\"math/tex; mode=display\">\\newcommand{\\Bold}[1]{\\mathbf{#1}}\\left(\\begin{array}{rrrrr}\n",
       "0 & 1 & 0 & 0 & 0 \\\\\n",
       "0 & 0 & 1 & 0 & 0 \\\\\n",
       "0 & 0 & 0 & 1 & 0 \\\\\n",
       "0 & 0 & 0 & 0 & 0 \\\\\n",
       "0 & 0 & 0 & 0 & 0\n",
       "\\end{array}\\right)</script></html>"
      ],
      "text/latex": [
       "$$\\newcommand{\\Bold}[1]{\\mathbf{#1}}\\left(\\begin{array}{rrrrr}\n",
       "0 & 1 & 0 & 0 & 0 \\\\\n",
       "0 & 0 & 1 & 0 & 0 \\\\\n",
       "0 & 0 & 0 & 1 & 0 \\\\\n",
       "0 & 0 & 0 & 0 & 0 \\\\\n",
       "0 & 0 & 0 & 0 & 0\n",
       "\\end{array}\\right)$$"
      ],
      "text/plain": [
       "[0 1 0 0 0]\n",
       "[0 0 1 0 0]\n",
       "[0 0 0 1 0]\n",
       "[0 0 0 0 0]\n",
       "[0 0 0 0 0]"
      ]
     },
     "metadata": {},
     "output_type": "display_data"
    },
    {
     "data": {
      "text/html": [
       "<html><script type=\"math/tex; mode=display\">\\newcommand{\\Bold}[1]{\\mathbf{#1}}\\left[\\left\\{d_{1} : 0, d_{2} : 0, d_{3} : 0, d_{4} : 0, d_{5} : r_{529}, a_{12} : r_{530}, a_{13} : r_{531}, a_{14} : r_{532}, a_{15} : r_{533}, a_{23} : r_{534}, a_{24} : r_{535}, a_{25} : r_{536}, a_{34} : r_{537}, a_{35} : r_{538}, a_{45} : -\\frac{r_{529} x_{35}}{x_{34}}\\right\\}, \\left\\{d_{1} : r_{539}, d_{2} : \\frac{r_{539}}{x_{12}}, d_{3} : \\frac{r_{539}}{x_{12} x_{23}}, d_{4} : \\frac{r_{539}}{x_{12} x_{23} x_{34}}, d_{5} : r_{540}, a_{12} : r_{541}, a_{13} : r_{542}, a_{14} : r_{543}, a_{15} : r_{544}, a_{23} : \\frac{r_{541}}{x_{12}}, a_{24} : \\frac{r_{542} x_{12} x_{23} x_{34} - r_{539} x_{14}}{x_{12}^{2} x_{23} x_{34}}, a_{25} : \\frac{r_{540} x_{14} x_{35}}{x_{12} x_{34}}, a_{34} : \\frac{r_{541}}{x_{12} x_{23}}, a_{35} : 0, a_{45} : -\\frac{r_{540} x_{35}}{x_{34}}\\right\\}\\right]</script></html>"
      ],
      "text/latex": [
       "$$\\newcommand{\\Bold}[1]{\\mathbf{#1}}\\left[\\left\\{d_{1} : 0, d_{2} : 0, d_{3} : 0, d_{4} : 0, d_{5} : r_{529}, a_{12} : r_{530}, a_{13} : r_{531}, a_{14} : r_{532}, a_{15} : r_{533}, a_{23} : r_{534}, a_{24} : r_{535}, a_{25} : r_{536}, a_{34} : r_{537}, a_{35} : r_{538}, a_{45} : -\\frac{r_{529} x_{35}}{x_{34}}\\right\\}, \\left\\{d_{1} : r_{539}, d_{2} : \\frac{r_{539}}{x_{12}}, d_{3} : \\frac{r_{539}}{x_{12} x_{23}}, d_{4} : \\frac{r_{539}}{x_{12} x_{23} x_{34}}, d_{5} : r_{540}, a_{12} : r_{541}, a_{13} : r_{542}, a_{14} : r_{543}, a_{15} : r_{544}, a_{23} : \\frac{r_{541}}{x_{12}}, a_{24} : \\frac{r_{542} x_{12} x_{23} x_{34} - r_{539} x_{14}}{x_{12}^{2} x_{23} x_{34}}, a_{25} : \\frac{r_{540} x_{14} x_{35}}{x_{12} x_{34}}, a_{34} : \\frac{r_{541}}{x_{12} x_{23}}, a_{35} : 0, a_{45} : -\\frac{r_{540} x_{35}}{x_{34}}\\right\\}\\right]$$"
      ],
      "text/plain": [
       "[{d1: 0,\n",
       "  d2: 0,\n",
       "  d3: 0,\n",
       "  d4: 0,\n",
       "  d5: r529,\n",
       "  a12: r530,\n",
       "  a13: r531,\n",
       "  a14: r532,\n",
       "  a15: r533,\n",
       "  a23: r534,\n",
       "  a24: r535,\n",
       "  a25: r536,\n",
       "  a34: r537,\n",
       "  a35: r538,\n",
       "  a45: -r529*x35/x34},\n",
       " {d1: r539,\n",
       "  d2: r539/x12,\n",
       "  d3: r539/(x12*x23),\n",
       "  d4: r539/(x12*x23*x34),\n",
       "  d5: r540,\n",
       "  a12: r541,\n",
       "  a13: r542,\n",
       "  a14: r543,\n",
       "  a15: r544,\n",
       "  a23: r541/x12,\n",
       "  a24: (r542*x12*x23*x34 - r539*x14)/(x12^2*x23*x34),\n",
       "  a25: r540*x14*x35/(x12*x34),\n",
       "  a34: r541/(x12*x23),\n",
       "  a35: 0,\n",
       "  a45: -r540*x35/x34}]"
      ]
     },
     "metadata": {},
     "output_type": "display_data"
    },
    {
     "data": {
      "text/plain": [
       "\\left[\\left\\{d_{1} : 0, d_{2} : 0, d_{3} : 0, d_{4} : 0, d_{5} : r_{529}, a_{12} : r_{530}, a_{13} : r_{531}, a_{14} : r_{532}, a_{15} : r_{533}, a_{23} : r_{534}, a_{24} : r_{535}, a_{25} : r_{536}, a_{34} : r_{537}, a_{35} : r_{538}, a_{45} : -\\frac{r_{529} x_{35}}{x_{34}}\\right\\}, \\left\\{d_{1} : r_{539}, d_{2} : \\frac{r_{539}}{x_{12}}, d_{3} : \\frac{r_{539}}{x_{12} x_{23}}, d_{4} : \\frac{r_{539}}{x_{12} x_{23} x_{34}}, d_{5} : r_{540}, a_{12} : r_{541}, a_{13} : r_{542}, a_{14} : r_{543}, a_{15} : r_{544}, a_{23} : \\frac{r_{541}}{x_{12}}, a_{24} : \\frac{r_{542} x_{12} x_{23} x_{34} - r_{539} x_{14}}{x_{12}^{2} x_{23} x_{34}}, a_{25} : \\frac{r_{540} x_{14} x_{35}}{x_{12} x_{34}}, a_{34} : \\frac{r_{541}}{x_{12} x_{23}}, a_{35} : 0, a_{45} : -\\frac{r_{540} x_{35}}{x_{34}}\\right\\}\\right]"
      ]
     },
     "execution_count": 34,
     "metadata": {},
     "output_type": "execute_result"
    }
   ],
   "source": [
    "#x7\n",
    "reset()\n",
    "\n",
    "var('x12,x13,x14,x15,x23,x24,x25,x34,x35,x45')\n",
    "var('d1,d2,d3,d4,d5')\n",
    "var('a12,a13,a14,a15,a23,a24,a25,a34,a35,a45')\n",
    "\n",
    "load_attach_path('C:\\\\Users\\\\julia\\\\Documents\\\\unb\\\\doutorado\\\\pensar\\\\codigo_sage_v2\\\\maquina\\\\x7')\n",
    "load('out_#100010.sage')\n",
    "\n",
    "m=matrix(QQ, [[0, 1, 0, 0, 0],\n",
    "              [0, 0, 1, 0, 0],\n",
    "              [0, 0, 0, 1, 0],\n",
    "              [0, 0, 0, 0, 0],\n",
    "              [0, 0, 0, 0, 0]])\n",
    "        \n",
    "#entry of matrix: (i,j) line i collum j, means (i-1,j-1)\n",
    "sol=solve([ eq1==m[0,1],\teq2==m[0,2],\teq3==m[0,3],\teq4==m[0,4],\t\n",
    "                                            eq5==m[1,2],    eq6==m[1,3],\n",
    "                                                            eq7==m[1,4], eq8==m[2,3], eq9==m[2,4]],d1,d2,d3,d4,d5,a12,a13,a14,a15,a23,a24,a25,a34,a35,a45, solution_dict=True)\n",
    "\n",
    "show(m)\n",
    "show(sol)\n",
    "latex(sol)"
   ]
  },
  {
   "cell_type": "code",
   "execution_count": 35,
   "metadata": {},
   "outputs": [
    {
     "data": {
      "text/html": [
       "<html><script type=\"math/tex; mode=display\">\\newcommand{\\Bold}[1]{\\mathbf{#1}}\\left(\\begin{array}{rrrrr}\n",
       "0 & 1 & 0 & 0 & 0 \\\\\n",
       "0 & 0 & 1 & 0 & 0 \\\\\n",
       "0 & 0 & 0 & 1 & 0 \\\\\n",
       "0 & 0 & 0 & 0 & 0 \\\\\n",
       "0 & 0 & 0 & 0 & 0\n",
       "\\end{array}\\right)</script></html>"
      ],
      "text/latex": [
       "$$\\newcommand{\\Bold}[1]{\\mathbf{#1}}\\left(\\begin{array}{rrrrr}\n",
       "0 & 1 & 0 & 0 & 0 \\\\\n",
       "0 & 0 & 1 & 0 & 0 \\\\\n",
       "0 & 0 & 0 & 1 & 0 \\\\\n",
       "0 & 0 & 0 & 0 & 0 \\\\\n",
       "0 & 0 & 0 & 0 & 0\n",
       "\\end{array}\\right)$$"
      ],
      "text/plain": [
       "[0 1 0 0 0]\n",
       "[0 0 1 0 0]\n",
       "[0 0 0 1 0]\n",
       "[0 0 0 0 0]\n",
       "[0 0 0 0 0]"
      ]
     },
     "metadata": {},
     "output_type": "display_data"
    },
    {
     "data": {
      "text/html": [
       "<html><script type=\"math/tex; mode=display\">\\newcommand{\\Bold}[1]{\\mathbf{#1}}\\left[\\left\\{d_{1} : 0, d_{2} : 0, d_{3} : 0, d_{4} : 0, d_{5} : r_{545}, a_{12} : r_{546}, a_{13} : r_{547}, a_{14} : r_{548}, a_{15} : r_{549}, a_{23} : r_{550}, a_{24} : r_{551}, a_{25} : r_{552}, a_{34} : r_{553}, a_{35} : r_{554}, a_{45} : -\\frac{r_{545} x_{35}}{x_{34}}\\right\\}, \\left\\{d_{1} : r_{555}, d_{2} : \\frac{r_{555}}{x_{12}}, d_{3} : \\frac{r_{555}}{x_{12} x_{23}}, d_{4} : \\frac{r_{555}}{x_{12} x_{23} x_{34}}, d_{5} : r_{556}, a_{12} : r_{557}, a_{13} : r_{558}, a_{14} : r_{559}, a_{15} : r_{560}, a_{23} : \\frac{r_{557}}{x_{12}}, a_{24} : \\frac{r_{558} x_{12} x_{23} x_{34} - r_{555} x_{14}}{x_{12}^{2} x_{23} x_{34}}, a_{25} : -\\frac{r_{556} x_{15} x_{34} - r_{556} x_{14} x_{35}}{x_{12} x_{34}}, a_{34} : \\frac{r_{557}}{x_{12} x_{23}}, a_{35} : 0, a_{45} : -\\frac{r_{556} x_{35}}{x_{34}}\\right\\}\\right]</script></html>"
      ],
      "text/latex": [
       "$$\\newcommand{\\Bold}[1]{\\mathbf{#1}}\\left[\\left\\{d_{1} : 0, d_{2} : 0, d_{3} : 0, d_{4} : 0, d_{5} : r_{545}, a_{12} : r_{546}, a_{13} : r_{547}, a_{14} : r_{548}, a_{15} : r_{549}, a_{23} : r_{550}, a_{24} : r_{551}, a_{25} : r_{552}, a_{34} : r_{553}, a_{35} : r_{554}, a_{45} : -\\frac{r_{545} x_{35}}{x_{34}}\\right\\}, \\left\\{d_{1} : r_{555}, d_{2} : \\frac{r_{555}}{x_{12}}, d_{3} : \\frac{r_{555}}{x_{12} x_{23}}, d_{4} : \\frac{r_{555}}{x_{12} x_{23} x_{34}}, d_{5} : r_{556}, a_{12} : r_{557}, a_{13} : r_{558}, a_{14} : r_{559}, a_{15} : r_{560}, a_{23} : \\frac{r_{557}}{x_{12}}, a_{24} : \\frac{r_{558} x_{12} x_{23} x_{34} - r_{555} x_{14}}{x_{12}^{2} x_{23} x_{34}}, a_{25} : -\\frac{r_{556} x_{15} x_{34} - r_{556} x_{14} x_{35}}{x_{12} x_{34}}, a_{34} : \\frac{r_{557}}{x_{12} x_{23}}, a_{35} : 0, a_{45} : -\\frac{r_{556} x_{35}}{x_{34}}\\right\\}\\right]$$"
      ],
      "text/plain": [
       "[{d1: 0,\n",
       "  d2: 0,\n",
       "  d3: 0,\n",
       "  d4: 0,\n",
       "  d5: r545,\n",
       "  a12: r546,\n",
       "  a13: r547,\n",
       "  a14: r548,\n",
       "  a15: r549,\n",
       "  a23: r550,\n",
       "  a24: r551,\n",
       "  a25: r552,\n",
       "  a34: r553,\n",
       "  a35: r554,\n",
       "  a45: -r545*x35/x34},\n",
       " {d1: r555,\n",
       "  d2: r555/x12,\n",
       "  d3: r555/(x12*x23),\n",
       "  d4: r555/(x12*x23*x34),\n",
       "  d5: r556,\n",
       "  a12: r557,\n",
       "  a13: r558,\n",
       "  a14: r559,\n",
       "  a15: r560,\n",
       "  a23: r557/x12,\n",
       "  a24: (r558*x12*x23*x34 - r555*x14)/(x12^2*x23*x34),\n",
       "  a25: -(r556*x15*x34 - r556*x14*x35)/(x12*x34),\n",
       "  a34: r557/(x12*x23),\n",
       "  a35: 0,\n",
       "  a45: -r556*x35/x34}]"
      ]
     },
     "metadata": {},
     "output_type": "display_data"
    },
    {
     "data": {
      "text/plain": [
       "\\left[\\left\\{d_{1} : 0, d_{2} : 0, d_{3} : 0, d_{4} : 0, d_{5} : r_{545}, a_{12} : r_{546}, a_{13} : r_{547}, a_{14} : r_{548}, a_{15} : r_{549}, a_{23} : r_{550}, a_{24} : r_{551}, a_{25} : r_{552}, a_{34} : r_{553}, a_{35} : r_{554}, a_{45} : -\\frac{r_{545} x_{35}}{x_{34}}\\right\\}, \\left\\{d_{1} : r_{555}, d_{2} : \\frac{r_{555}}{x_{12}}, d_{3} : \\frac{r_{555}}{x_{12} x_{23}}, d_{4} : \\frac{r_{555}}{x_{12} x_{23} x_{34}}, d_{5} : r_{556}, a_{12} : r_{557}, a_{13} : r_{558}, a_{14} : r_{559}, a_{15} : r_{560}, a_{23} : \\frac{r_{557}}{x_{12}}, a_{24} : \\frac{r_{558} x_{12} x_{23} x_{34} - r_{555} x_{14}}{x_{12}^{2} x_{23} x_{34}}, a_{25} : -\\frac{r_{556} x_{15} x_{34} - r_{556} x_{14} x_{35}}{x_{12} x_{34}}, a_{34} : \\frac{r_{557}}{x_{12} x_{23}}, a_{35} : 0, a_{45} : -\\frac{r_{556} x_{35}}{x_{34}}\\right\\}\\right]"
      ]
     },
     "execution_count": 35,
     "metadata": {},
     "output_type": "execute_result"
    }
   ],
   "source": [
    "#x7\n",
    "reset()\n",
    "\n",
    "var('x12,x13,x14,x15,x23,x24,x25,x34,x35,x45')\n",
    "var('d1,d2,d3,d4,d5')\n",
    "var('a12,a13,a14,a15,a23,a24,a25,a34,a35,a45')\n",
    "\n",
    "load_attach_path('C:\\\\Users\\\\julia\\\\Documents\\\\unb\\\\doutorado\\\\pensar\\\\codigo_sage_v2\\\\maquina\\\\x7')\n",
    "load('out_#100011.sage')\n",
    "\n",
    "m=matrix(QQ, [[0, 1, 0, 0, 0],\n",
    "              [0, 0, 1, 0, 0],\n",
    "              [0, 0, 0, 1, 0],\n",
    "              [0, 0, 0, 0, 0],\n",
    "              [0, 0, 0, 0, 0]])\n",
    "        \n",
    "#entry of matrix: (i,j) line i collum j, means (i-1,j-1)\n",
    "sol=solve([ eq1==m[0,1],\teq2==m[0,2],\teq3==m[0,3],\teq4==m[0,4],\t\n",
    "                                            eq5==m[1,2],    eq6==m[1,3],\n",
    "                                                            eq7==m[1,4], eq8==m[2,3], eq9==m[2,4]],d1,d2,d3,d4,d5,a12,a13,a14,a15,a23,a24,a25,a34,a35,a45, solution_dict=True)\n",
    "\n",
    "show(m)\n",
    "show(sol)\n",
    "latex(sol)"
   ]
  },
  {
   "cell_type": "code",
   "execution_count": 36,
   "metadata": {},
   "outputs": [
    {
     "data": {
      "text/html": [
       "<html><script type=\"math/tex; mode=display\">\\newcommand{\\Bold}[1]{\\mathbf{#1}}\\left(\\begin{array}{rrrrr}\n",
       "0 & 1 & 0 & 0 & 0 \\\\\n",
       "0 & 0 & 1 & 0 & 0 \\\\\n",
       "0 & 0 & 0 & 1 & 0 \\\\\n",
       "0 & 0 & 0 & 0 & 0 \\\\\n",
       "0 & 0 & 0 & 0 & 0\n",
       "\\end{array}\\right)</script></html>"
      ],
      "text/latex": [
       "$$\\newcommand{\\Bold}[1]{\\mathbf{#1}}\\left(\\begin{array}{rrrrr}\n",
       "0 & 1 & 0 & 0 & 0 \\\\\n",
       "0 & 0 & 1 & 0 & 0 \\\\\n",
       "0 & 0 & 0 & 1 & 0 \\\\\n",
       "0 & 0 & 0 & 0 & 0 \\\\\n",
       "0 & 0 & 0 & 0 & 0\n",
       "\\end{array}\\right)$$"
      ],
      "text/plain": [
       "[0 1 0 0 0]\n",
       "[0 0 1 0 0]\n",
       "[0 0 0 1 0]\n",
       "[0 0 0 0 0]\n",
       "[0 0 0 0 0]"
      ]
     },
     "metadata": {},
     "output_type": "display_data"
    },
    {
     "data": {
      "text/html": [
       "<html><script type=\"math/tex; mode=display\">\\newcommand{\\Bold}[1]{\\mathbf{#1}}\\left[\\left\\{d_{1} : 0, d_{2} : 0, d_{3} : 0, d_{4} : 0, d_{5} : r_{561}, a_{12} : r_{562}, a_{13} : r_{563}, a_{14} : r_{564}, a_{15} : r_{565}, a_{23} : r_{566}, a_{24} : r_{567}, a_{25} : r_{568}, a_{34} : r_{569}, a_{35} : r_{570}, a_{45} : -\\frac{r_{561} x_{35}}{x_{34}}\\right\\}, \\left\\{d_{1} : r_{571}, d_{2} : \\frac{r_{571}}{x_{12}}, d_{3} : \\frac{r_{571}}{x_{12} x_{23}}, d_{4} : \\frac{r_{571}}{x_{12} x_{23} x_{34}}, d_{5} : r_{572}, a_{12} : r_{573}, a_{13} : r_{574}, a_{14} : r_{575}, a_{15} : r_{576}, a_{23} : \\frac{r_{573} x_{12} x_{23} - r_{571} x_{13}}{x_{12}^{2} x_{23}}, a_{24} : \\frac{r_{574} x_{12}^{2} x_{23}^{2} - r_{573} x_{12} x_{13} x_{23} + r_{571} x_{13}^{2}}{x_{12}^{3} x_{23}^{2}}, a_{25} : 0, a_{34} : \\frac{r_{573} x_{12} x_{23} - r_{571} x_{13}}{x_{12}^{2} x_{23}^{2}}, a_{35} : 0, a_{45} : -\\frac{r_{572} x_{35}}{x_{34}}\\right\\}\\right]</script></html>"
      ],
      "text/latex": [
       "$$\\newcommand{\\Bold}[1]{\\mathbf{#1}}\\left[\\left\\{d_{1} : 0, d_{2} : 0, d_{3} : 0, d_{4} : 0, d_{5} : r_{561}, a_{12} : r_{562}, a_{13} : r_{563}, a_{14} : r_{564}, a_{15} : r_{565}, a_{23} : r_{566}, a_{24} : r_{567}, a_{25} : r_{568}, a_{34} : r_{569}, a_{35} : r_{570}, a_{45} : -\\frac{r_{561} x_{35}}{x_{34}}\\right\\}, \\left\\{d_{1} : r_{571}, d_{2} : \\frac{r_{571}}{x_{12}}, d_{3} : \\frac{r_{571}}{x_{12} x_{23}}, d_{4} : \\frac{r_{571}}{x_{12} x_{23} x_{34}}, d_{5} : r_{572}, a_{12} : r_{573}, a_{13} : r_{574}, a_{14} : r_{575}, a_{15} : r_{576}, a_{23} : \\frac{r_{573} x_{12} x_{23} - r_{571} x_{13}}{x_{12}^{2} x_{23}}, a_{24} : \\frac{r_{574} x_{12}^{2} x_{23}^{2} - r_{573} x_{12} x_{13} x_{23} + r_{571} x_{13}^{2}}{x_{12}^{3} x_{23}^{2}}, a_{25} : 0, a_{34} : \\frac{r_{573} x_{12} x_{23} - r_{571} x_{13}}{x_{12}^{2} x_{23}^{2}}, a_{35} : 0, a_{45} : -\\frac{r_{572} x_{35}}{x_{34}}\\right\\}\\right]$$"
      ],
      "text/plain": [
       "[{d1: 0,\n",
       "  d2: 0,\n",
       "  d3: 0,\n",
       "  d4: 0,\n",
       "  d5: r561,\n",
       "  a12: r562,\n",
       "  a13: r563,\n",
       "  a14: r564,\n",
       "  a15: r565,\n",
       "  a23: r566,\n",
       "  a24: r567,\n",
       "  a25: r568,\n",
       "  a34: r569,\n",
       "  a35: r570,\n",
       "  a45: -r561*x35/x34},\n",
       " {d1: r571,\n",
       "  d2: r571/x12,\n",
       "  d3: r571/(x12*x23),\n",
       "  d4: r571/(x12*x23*x34),\n",
       "  d5: r572,\n",
       "  a12: r573,\n",
       "  a13: r574,\n",
       "  a14: r575,\n",
       "  a15: r576,\n",
       "  a23: (r573*x12*x23 - r571*x13)/(x12^2*x23),\n",
       "  a24: (r574*x12^2*x23^2 - r573*x12*x13*x23 + r571*x13^2)/(x12^3*x23^2),\n",
       "  a25: 0,\n",
       "  a34: (r573*x12*x23 - r571*x13)/(x12^2*x23^2),\n",
       "  a35: 0,\n",
       "  a45: -r572*x35/x34}]"
      ]
     },
     "metadata": {},
     "output_type": "display_data"
    },
    {
     "data": {
      "text/plain": [
       "\\left[\\left\\{d_{1} : 0, d_{2} : 0, d_{3} : 0, d_{4} : 0, d_{5} : r_{561}, a_{12} : r_{562}, a_{13} : r_{563}, a_{14} : r_{564}, a_{15} : r_{565}, a_{23} : r_{566}, a_{24} : r_{567}, a_{25} : r_{568}, a_{34} : r_{569}, a_{35} : r_{570}, a_{45} : -\\frac{r_{561} x_{35}}{x_{34}}\\right\\}, \\left\\{d_{1} : r_{571}, d_{2} : \\frac{r_{571}}{x_{12}}, d_{3} : \\frac{r_{571}}{x_{12} x_{23}}, d_{4} : \\frac{r_{571}}{x_{12} x_{23} x_{34}}, d_{5} : r_{572}, a_{12} : r_{573}, a_{13} : r_{574}, a_{14} : r_{575}, a_{15} : r_{576}, a_{23} : \\frac{r_{573} x_{12} x_{23} - r_{571} x_{13}}{x_{12}^{2} x_{23}}, a_{24} : \\frac{r_{574} x_{12}^{2} x_{23}^{2} - r_{573} x_{12} x_{13} x_{23} + r_{571} x_{13}^{2}}{x_{12}^{3} x_{23}^{2}}, a_{25} : 0, a_{34} : \\frac{r_{573} x_{12} x_{23} - r_{571} x_{13}}{x_{12}^{2} x_{23}^{2}}, a_{35} : 0, a_{45} : -\\frac{r_{572} x_{35}}{x_{34}}\\right\\}\\right]"
      ]
     },
     "execution_count": 36,
     "metadata": {},
     "output_type": "execute_result"
    }
   ],
   "source": [
    "#x7\n",
    "reset()\n",
    "\n",
    "var('x12,x13,x14,x15,x23,x24,x25,x34,x35,x45')\n",
    "var('d1,d2,d3,d4,d5')\n",
    "var('a12,a13,a14,a15,a23,a24,a25,a34,a35,a45')\n",
    "\n",
    "load_attach_path('C:\\\\Users\\\\julia\\\\Documents\\\\unb\\\\doutorado\\\\pensar\\\\codigo_sage_v2\\\\maquina\\\\x7')\n",
    "load('out_#100100.sage')\n",
    "\n",
    "m=matrix(QQ, [[0, 1, 0, 0, 0],\n",
    "              [0, 0, 1, 0, 0],\n",
    "              [0, 0, 0, 1, 0],\n",
    "              [0, 0, 0, 0, 0],\n",
    "              [0, 0, 0, 0, 0]])\n",
    "        \n",
    "#entry of matrix: (i,j) line i collum j, means (i-1,j-1)\n",
    "sol=solve([ eq1==m[0,1],\teq2==m[0,2],\teq3==m[0,3],\teq4==m[0,4],\t\n",
    "                                            eq5==m[1,2],    eq6==m[1,3],\n",
    "                                                            eq7==m[1,4], eq8==m[2,3], eq9==m[2,4]],d1,d2,d3,d4,d5,a12,a13,a14,a15,a23,a24,a25,a34,a35,a45, solution_dict=True)\n",
    "\n",
    "show(m)\n",
    "show(sol)\n",
    "latex(sol)"
   ]
  },
  {
   "cell_type": "code",
   "execution_count": 37,
   "metadata": {},
   "outputs": [
    {
     "data": {
      "text/html": [
       "<html><script type=\"math/tex; mode=display\">\\newcommand{\\Bold}[1]{\\mathbf{#1}}\\left(\\begin{array}{rrrrr}\n",
       "0 & 1 & 0 & 0 & 0 \\\\\n",
       "0 & 0 & 1 & 0 & 0 \\\\\n",
       "0 & 0 & 0 & 1 & 0 \\\\\n",
       "0 & 0 & 0 & 0 & 0 \\\\\n",
       "0 & 0 & 0 & 0 & 0\n",
       "\\end{array}\\right)</script></html>"
      ],
      "text/latex": [
       "$$\\newcommand{\\Bold}[1]{\\mathbf{#1}}\\left(\\begin{array}{rrrrr}\n",
       "0 & 1 & 0 & 0 & 0 \\\\\n",
       "0 & 0 & 1 & 0 & 0 \\\\\n",
       "0 & 0 & 0 & 1 & 0 \\\\\n",
       "0 & 0 & 0 & 0 & 0 \\\\\n",
       "0 & 0 & 0 & 0 & 0\n",
       "\\end{array}\\right)$$"
      ],
      "text/plain": [
       "[0 1 0 0 0]\n",
       "[0 0 1 0 0]\n",
       "[0 0 0 1 0]\n",
       "[0 0 0 0 0]\n",
       "[0 0 0 0 0]"
      ]
     },
     "metadata": {},
     "output_type": "display_data"
    },
    {
     "data": {
      "text/html": [
       "<html><script type=\"math/tex; mode=display\">\\newcommand{\\Bold}[1]{\\mathbf{#1}}\\left[\\left\\{d_{1} : 0, d_{2} : 0, d_{3} : 0, d_{4} : 0, d_{5} : r_{577}, a_{12} : r_{578}, a_{13} : r_{579}, a_{14} : r_{580}, a_{15} : r_{581}, a_{23} : r_{582}, a_{24} : r_{583}, a_{25} : r_{584}, a_{34} : r_{585}, a_{35} : r_{586}, a_{45} : -\\frac{r_{577} x_{35}}{x_{34}}\\right\\}, \\left\\{d_{1} : r_{587}, d_{2} : \\frac{r_{587}}{x_{12}}, d_{3} : \\frac{r_{587}}{x_{12} x_{23}}, d_{4} : \\frac{r_{587}}{x_{12} x_{23} x_{34}}, d_{5} : r_{588}, a_{12} : r_{589}, a_{13} : r_{590}, a_{14} : r_{591}, a_{15} : r_{592}, a_{23} : \\frac{r_{589} x_{12} x_{23} - r_{587} x_{13}}{x_{12}^{2} x_{23}}, a_{24} : \\frac{r_{590} x_{12}^{2} x_{23}^{2} - r_{589} x_{12} x_{13} x_{23} + r_{587} x_{13}^{2}}{x_{12}^{3} x_{23}^{2}}, a_{25} : -\\frac{r_{588} x_{15}}{x_{12}}, a_{34} : \\frac{r_{589} x_{12} x_{23} - r_{587} x_{13}}{x_{12}^{2} x_{23}^{2}}, a_{35} : 0, a_{45} : -\\frac{r_{588} x_{35}}{x_{34}}\\right\\}\\right]</script></html>"
      ],
      "text/latex": [
       "$$\\newcommand{\\Bold}[1]{\\mathbf{#1}}\\left[\\left\\{d_{1} : 0, d_{2} : 0, d_{3} : 0, d_{4} : 0, d_{5} : r_{577}, a_{12} : r_{578}, a_{13} : r_{579}, a_{14} : r_{580}, a_{15} : r_{581}, a_{23} : r_{582}, a_{24} : r_{583}, a_{25} : r_{584}, a_{34} : r_{585}, a_{35} : r_{586}, a_{45} : -\\frac{r_{577} x_{35}}{x_{34}}\\right\\}, \\left\\{d_{1} : r_{587}, d_{2} : \\frac{r_{587}}{x_{12}}, d_{3} : \\frac{r_{587}}{x_{12} x_{23}}, d_{4} : \\frac{r_{587}}{x_{12} x_{23} x_{34}}, d_{5} : r_{588}, a_{12} : r_{589}, a_{13} : r_{590}, a_{14} : r_{591}, a_{15} : r_{592}, a_{23} : \\frac{r_{589} x_{12} x_{23} - r_{587} x_{13}}{x_{12}^{2} x_{23}}, a_{24} : \\frac{r_{590} x_{12}^{2} x_{23}^{2} - r_{589} x_{12} x_{13} x_{23} + r_{587} x_{13}^{2}}{x_{12}^{3} x_{23}^{2}}, a_{25} : -\\frac{r_{588} x_{15}}{x_{12}}, a_{34} : \\frac{r_{589} x_{12} x_{23} - r_{587} x_{13}}{x_{12}^{2} x_{23}^{2}}, a_{35} : 0, a_{45} : -\\frac{r_{588} x_{35}}{x_{34}}\\right\\}\\right]$$"
      ],
      "text/plain": [
       "[{d1: 0,\n",
       "  d2: 0,\n",
       "  d3: 0,\n",
       "  d4: 0,\n",
       "  d5: r577,\n",
       "  a12: r578,\n",
       "  a13: r579,\n",
       "  a14: r580,\n",
       "  a15: r581,\n",
       "  a23: r582,\n",
       "  a24: r583,\n",
       "  a25: r584,\n",
       "  a34: r585,\n",
       "  a35: r586,\n",
       "  a45: -r577*x35/x34},\n",
       " {d1: r587,\n",
       "  d2: r587/x12,\n",
       "  d3: r587/(x12*x23),\n",
       "  d4: r587/(x12*x23*x34),\n",
       "  d5: r588,\n",
       "  a12: r589,\n",
       "  a13: r590,\n",
       "  a14: r591,\n",
       "  a15: r592,\n",
       "  a23: (r589*x12*x23 - r587*x13)/(x12^2*x23),\n",
       "  a24: (r590*x12^2*x23^2 - r589*x12*x13*x23 + r587*x13^2)/(x12^3*x23^2),\n",
       "  a25: -r588*x15/x12,\n",
       "  a34: (r589*x12*x23 - r587*x13)/(x12^2*x23^2),\n",
       "  a35: 0,\n",
       "  a45: -r588*x35/x34}]"
      ]
     },
     "metadata": {},
     "output_type": "display_data"
    },
    {
     "data": {
      "text/plain": [
       "\\left[\\left\\{d_{1} : 0, d_{2} : 0, d_{3} : 0, d_{4} : 0, d_{5} : r_{577}, a_{12} : r_{578}, a_{13} : r_{579}, a_{14} : r_{580}, a_{15} : r_{581}, a_{23} : r_{582}, a_{24} : r_{583}, a_{25} : r_{584}, a_{34} : r_{585}, a_{35} : r_{586}, a_{45} : -\\frac{r_{577} x_{35}}{x_{34}}\\right\\}, \\left\\{d_{1} : r_{587}, d_{2} : \\frac{r_{587}}{x_{12}}, d_{3} : \\frac{r_{587}}{x_{12} x_{23}}, d_{4} : \\frac{r_{587}}{x_{12} x_{23} x_{34}}, d_{5} : r_{588}, a_{12} : r_{589}, a_{13} : r_{590}, a_{14} : r_{591}, a_{15} : r_{592}, a_{23} : \\frac{r_{589} x_{12} x_{23} - r_{587} x_{13}}{x_{12}^{2} x_{23}}, a_{24} : \\frac{r_{590} x_{12}^{2} x_{23}^{2} - r_{589} x_{12} x_{13} x_{23} + r_{587} x_{13}^{2}}{x_{12}^{3} x_{23}^{2}}, a_{25} : -\\frac{r_{588} x_{15}}{x_{12}}, a_{34} : \\frac{r_{589} x_{12} x_{23} - r_{587} x_{13}}{x_{12}^{2} x_{23}^{2}}, a_{35} : 0, a_{45} : -\\frac{r_{588} x_{35}}{x_{34}}\\right\\}\\right]"
      ]
     },
     "execution_count": 37,
     "metadata": {},
     "output_type": "execute_result"
    }
   ],
   "source": [
    "#x7\n",
    "reset()\n",
    "\n",
    "var('x12,x13,x14,x15,x23,x24,x25,x34,x35,x45')\n",
    "var('d1,d2,d3,d4,d5')\n",
    "var('a12,a13,a14,a15,a23,a24,a25,a34,a35,a45')\n",
    "\n",
    "load_attach_path('C:\\\\Users\\\\julia\\\\Documents\\\\unb\\\\doutorado\\\\pensar\\\\codigo_sage_v2\\\\maquina\\\\x7')\n",
    "load('out_#100101.sage')\n",
    "\n",
    "m=matrix(QQ, [[0, 1, 0, 0, 0],\n",
    "              [0, 0, 1, 0, 0],\n",
    "              [0, 0, 0, 1, 0],\n",
    "              [0, 0, 0, 0, 0],\n",
    "              [0, 0, 0, 0, 0]])\n",
    "        \n",
    "#entry of matrix: (i,j) line i collum j, means (i-1,j-1)\n",
    "sol=solve([ eq1==m[0,1],\teq2==m[0,2],\teq3==m[0,3],\teq4==m[0,4],\t\n",
    "                                            eq5==m[1,2],    eq6==m[1,3],\n",
    "                                                            eq7==m[1,4], eq8==m[2,3], eq9==m[2,4]],d1,d2,d3,d4,d5,a12,a13,a14,a15,a23,a24,a25,a34,a35,a45, solution_dict=True)\n",
    "\n",
    "show(m)\n",
    "show(sol)\n",
    "latex(sol)"
   ]
  },
  {
   "cell_type": "code",
   "execution_count": 38,
   "metadata": {},
   "outputs": [
    {
     "data": {
      "text/html": [
       "<html><script type=\"math/tex; mode=display\">\\newcommand{\\Bold}[1]{\\mathbf{#1}}\\left(\\begin{array}{rrrrr}\n",
       "0 & 1 & 0 & 0 & 0 \\\\\n",
       "0 & 0 & 1 & 0 & 0 \\\\\n",
       "0 & 0 & 0 & 1 & 0 \\\\\n",
       "0 & 0 & 0 & 0 & 0 \\\\\n",
       "0 & 0 & 0 & 0 & 0\n",
       "\\end{array}\\right)</script></html>"
      ],
      "text/latex": [
       "$$\\newcommand{\\Bold}[1]{\\mathbf{#1}}\\left(\\begin{array}{rrrrr}\n",
       "0 & 1 & 0 & 0 & 0 \\\\\n",
       "0 & 0 & 1 & 0 & 0 \\\\\n",
       "0 & 0 & 0 & 1 & 0 \\\\\n",
       "0 & 0 & 0 & 0 & 0 \\\\\n",
       "0 & 0 & 0 & 0 & 0\n",
       "\\end{array}\\right)$$"
      ],
      "text/plain": [
       "[0 1 0 0 0]\n",
       "[0 0 1 0 0]\n",
       "[0 0 0 1 0]\n",
       "[0 0 0 0 0]\n",
       "[0 0 0 0 0]"
      ]
     },
     "metadata": {},
     "output_type": "display_data"
    },
    {
     "data": {
      "text/html": [
       "<html><script type=\"math/tex; mode=display\">\\newcommand{\\Bold}[1]{\\mathbf{#1}}\\left[\\left\\{d_{1} : 0, d_{2} : 0, d_{3} : 0, d_{4} : 0, d_{5} : r_{593}, a_{12} : r_{594}, a_{13} : r_{595}, a_{14} : r_{596}, a_{15} : r_{597}, a_{23} : r_{598}, a_{24} : r_{599}, a_{25} : r_{600}, a_{34} : r_{601}, a_{35} : r_{602}, a_{45} : -\\frac{r_{593} x_{35}}{x_{34}}\\right\\}, \\left\\{d_{1} : r_{603}, d_{2} : \\frac{r_{603}}{x_{12}}, d_{3} : \\frac{r_{603}}{x_{12} x_{23}}, d_{4} : \\frac{r_{603}}{x_{12} x_{23} x_{34}}, d_{5} : r_{604}, a_{12} : r_{605}, a_{13} : r_{606}, a_{14} : r_{607}, a_{15} : r_{608}, a_{23} : \\frac{r_{605} x_{12} x_{23} - r_{603} x_{13}}{x_{12}^{2} x_{23}}, a_{24} : -\\frac{r_{603} x_{12} x_{14} x_{23} - {\\left(r_{606} x_{12}^{2} x_{23}^{2} - r_{605} x_{12} x_{13} x_{23} + r_{603} x_{13}^{2}\\right)} x_{34}}{x_{12}^{3} x_{23}^{2} x_{34}}, a_{25} : \\frac{r_{604} x_{14} x_{35}}{x_{12} x_{34}}, a_{34} : \\frac{r_{605} x_{12} x_{23} - r_{603} x_{13}}{x_{12}^{2} x_{23}^{2}}, a_{35} : 0, a_{45} : -\\frac{r_{604} x_{35}}{x_{34}}\\right\\}\\right]</script></html>"
      ],
      "text/latex": [
       "$$\\newcommand{\\Bold}[1]{\\mathbf{#1}}\\left[\\left\\{d_{1} : 0, d_{2} : 0, d_{3} : 0, d_{4} : 0, d_{5} : r_{593}, a_{12} : r_{594}, a_{13} : r_{595}, a_{14} : r_{596}, a_{15} : r_{597}, a_{23} : r_{598}, a_{24} : r_{599}, a_{25} : r_{600}, a_{34} : r_{601}, a_{35} : r_{602}, a_{45} : -\\frac{r_{593} x_{35}}{x_{34}}\\right\\}, \\left\\{d_{1} : r_{603}, d_{2} : \\frac{r_{603}}{x_{12}}, d_{3} : \\frac{r_{603}}{x_{12} x_{23}}, d_{4} : \\frac{r_{603}}{x_{12} x_{23} x_{34}}, d_{5} : r_{604}, a_{12} : r_{605}, a_{13} : r_{606}, a_{14} : r_{607}, a_{15} : r_{608}, a_{23} : \\frac{r_{605} x_{12} x_{23} - r_{603} x_{13}}{x_{12}^{2} x_{23}}, a_{24} : -\\frac{r_{603} x_{12} x_{14} x_{23} - {\\left(r_{606} x_{12}^{2} x_{23}^{2} - r_{605} x_{12} x_{13} x_{23} + r_{603} x_{13}^{2}\\right)} x_{34}}{x_{12}^{3} x_{23}^{2} x_{34}}, a_{25} : \\frac{r_{604} x_{14} x_{35}}{x_{12} x_{34}}, a_{34} : \\frac{r_{605} x_{12} x_{23} - r_{603} x_{13}}{x_{12}^{2} x_{23}^{2}}, a_{35} : 0, a_{45} : -\\frac{r_{604} x_{35}}{x_{34}}\\right\\}\\right]$$"
      ],
      "text/plain": [
       "[{d1: 0,\n",
       "  d2: 0,\n",
       "  d3: 0,\n",
       "  d4: 0,\n",
       "  d5: r593,\n",
       "  a12: r594,\n",
       "  a13: r595,\n",
       "  a14: r596,\n",
       "  a15: r597,\n",
       "  a23: r598,\n",
       "  a24: r599,\n",
       "  a25: r600,\n",
       "  a34: r601,\n",
       "  a35: r602,\n",
       "  a45: -r593*x35/x34},\n",
       " {d1: r603,\n",
       "  d2: r603/x12,\n",
       "  d3: r603/(x12*x23),\n",
       "  d4: r603/(x12*x23*x34),\n",
       "  d5: r604,\n",
       "  a12: r605,\n",
       "  a13: r606,\n",
       "  a14: r607,\n",
       "  a15: r608,\n",
       "  a23: (r605*x12*x23 - r603*x13)/(x12^2*x23),\n",
       "  a24: -(r603*x12*x14*x23 - (r606*x12^2*x23^2 - r605*x12*x13*x23 + r603*x13^2)*x34)/(x12^3*x23^2*x34),\n",
       "  a25: r604*x14*x35/(x12*x34),\n",
       "  a34: (r605*x12*x23 - r603*x13)/(x12^2*x23^2),\n",
       "  a35: 0,\n",
       "  a45: -r604*x35/x34}]"
      ]
     },
     "metadata": {},
     "output_type": "display_data"
    },
    {
     "data": {
      "text/plain": [
       "\\left[\\left\\{d_{1} : 0, d_{2} : 0, d_{3} : 0, d_{4} : 0, d_{5} : r_{593}, a_{12} : r_{594}, a_{13} : r_{595}, a_{14} : r_{596}, a_{15} : r_{597}, a_{23} : r_{598}, a_{24} : r_{599}, a_{25} : r_{600}, a_{34} : r_{601}, a_{35} : r_{602}, a_{45} : -\\frac{r_{593} x_{35}}{x_{34}}\\right\\}, \\left\\{d_{1} : r_{603}, d_{2} : \\frac{r_{603}}{x_{12}}, d_{3} : \\frac{r_{603}}{x_{12} x_{23}}, d_{4} : \\frac{r_{603}}{x_{12} x_{23} x_{34}}, d_{5} : r_{604}, a_{12} : r_{605}, a_{13} : r_{606}, a_{14} : r_{607}, a_{15} : r_{608}, a_{23} : \\frac{r_{605} x_{12} x_{23} - r_{603} x_{13}}{x_{12}^{2} x_{23}}, a_{24} : -\\frac{r_{603} x_{12} x_{14} x_{23} - {\\left(r_{606} x_{12}^{2} x_{23}^{2} - r_{605} x_{12} x_{13} x_{23} + r_{603} x_{13}^{2}\\right)} x_{34}}{x_{12}^{3} x_{23}^{2} x_{34}}, a_{25} : \\frac{r_{604} x_{14} x_{35}}{x_{12} x_{34}}, a_{34} : \\frac{r_{605} x_{12} x_{23} - r_{603} x_{13}}{x_{12}^{2} x_{23}^{2}}, a_{35} : 0, a_{45} : -\\frac{r_{604} x_{35}}{x_{34}}\\right\\}\\right]"
      ]
     },
     "execution_count": 38,
     "metadata": {},
     "output_type": "execute_result"
    }
   ],
   "source": [
    "#x7\n",
    "reset()\n",
    "\n",
    "var('x12,x13,x14,x15,x23,x24,x25,x34,x35,x45')\n",
    "var('d1,d2,d3,d4,d5')\n",
    "var('a12,a13,a14,a15,a23,a24,a25,a34,a35,a45')\n",
    "\n",
    "load_attach_path('C:\\\\Users\\\\julia\\\\Documents\\\\unb\\\\doutorado\\\\pensar\\\\codigo_sage_v2\\\\maquina\\\\x7')\n",
    "load('out_#100110.sage')\n",
    "\n",
    "m=matrix(QQ, [[0, 1, 0, 0, 0],\n",
    "              [0, 0, 1, 0, 0],\n",
    "              [0, 0, 0, 1, 0],\n",
    "              [0, 0, 0, 0, 0],\n",
    "              [0, 0, 0, 0, 0]])\n",
    "        \n",
    "#entry of matrix: (i,j) line i collum j, means (i-1,j-1)\n",
    "sol=solve([ eq1==m[0,1],\teq2==m[0,2],\teq3==m[0,3],\teq4==m[0,4],\t\n",
    "                                            eq5==m[1,2],    eq6==m[1,3],\n",
    "                                                            eq7==m[1,4], eq8==m[2,3], eq9==m[2,4]],d1,d2,d3,d4,d5,a12,a13,a14,a15,a23,a24,a25,a34,a35,a45, solution_dict=True)\n",
    "\n",
    "show(m)\n",
    "show(sol)\n",
    "latex(sol)"
   ]
  },
  {
   "cell_type": "code",
   "execution_count": 39,
   "metadata": {},
   "outputs": [
    {
     "data": {
      "text/html": [
       "<html><script type=\"math/tex; mode=display\">\\newcommand{\\Bold}[1]{\\mathbf{#1}}\\left(\\begin{array}{rrrrr}\n",
       "0 & 1 & 0 & 0 & 0 \\\\\n",
       "0 & 0 & 1 & 0 & 0 \\\\\n",
       "0 & 0 & 0 & 1 & 0 \\\\\n",
       "0 & 0 & 0 & 0 & 0 \\\\\n",
       "0 & 0 & 0 & 0 & 0\n",
       "\\end{array}\\right)</script></html>"
      ],
      "text/latex": [
       "$$\\newcommand{\\Bold}[1]{\\mathbf{#1}}\\left(\\begin{array}{rrrrr}\n",
       "0 & 1 & 0 & 0 & 0 \\\\\n",
       "0 & 0 & 1 & 0 & 0 \\\\\n",
       "0 & 0 & 0 & 1 & 0 \\\\\n",
       "0 & 0 & 0 & 0 & 0 \\\\\n",
       "0 & 0 & 0 & 0 & 0\n",
       "\\end{array}\\right)$$"
      ],
      "text/plain": [
       "[0 1 0 0 0]\n",
       "[0 0 1 0 0]\n",
       "[0 0 0 1 0]\n",
       "[0 0 0 0 0]\n",
       "[0 0 0 0 0]"
      ]
     },
     "metadata": {},
     "output_type": "display_data"
    },
    {
     "data": {
      "text/html": [
       "<html><script type=\"math/tex; mode=display\">\\newcommand{\\Bold}[1]{\\mathbf{#1}}\\left[\\left\\{d_{1} : 0, d_{2} : 0, d_{3} : 0, d_{4} : 0, d_{5} : r_{609}, a_{12} : r_{610}, a_{13} : r_{611}, a_{14} : r_{612}, a_{15} : r_{613}, a_{23} : r_{614}, a_{24} : r_{615}, a_{25} : r_{616}, a_{34} : r_{617}, a_{35} : r_{618}, a_{45} : -\\frac{r_{609} x_{35}}{x_{34}}\\right\\}, \\left\\{d_{1} : r_{619}, d_{2} : \\frac{r_{619}}{x_{12}}, d_{3} : \\frac{r_{619}}{x_{12} x_{23}}, d_{4} : \\frac{r_{619}}{x_{12} x_{23} x_{34}}, d_{5} : r_{620}, a_{12} : r_{621}, a_{13} : r_{622}, a_{14} : r_{623}, a_{15} : r_{624}, a_{23} : \\frac{r_{621} x_{12} x_{23} - r_{619} x_{13}}{x_{12}^{2} x_{23}}, a_{24} : -\\frac{r_{619} x_{12} x_{14} x_{23} - {\\left(r_{622} x_{12}^{2} x_{23}^{2} - r_{621} x_{12} x_{13} x_{23} + r_{619} x_{13}^{2}\\right)} x_{34}}{x_{12}^{3} x_{23}^{2} x_{34}}, a_{25} : -\\frac{r_{620} x_{15} x_{34} - r_{620} x_{14} x_{35}}{x_{12} x_{34}}, a_{34} : \\frac{r_{621} x_{12} x_{23} - r_{619} x_{13}}{x_{12}^{2} x_{23}^{2}}, a_{35} : 0, a_{45} : -\\frac{r_{620} x_{35}}{x_{34}}\\right\\}\\right]</script></html>"
      ],
      "text/latex": [
       "$$\\newcommand{\\Bold}[1]{\\mathbf{#1}}\\left[\\left\\{d_{1} : 0, d_{2} : 0, d_{3} : 0, d_{4} : 0, d_{5} : r_{609}, a_{12} : r_{610}, a_{13} : r_{611}, a_{14} : r_{612}, a_{15} : r_{613}, a_{23} : r_{614}, a_{24} : r_{615}, a_{25} : r_{616}, a_{34} : r_{617}, a_{35} : r_{618}, a_{45} : -\\frac{r_{609} x_{35}}{x_{34}}\\right\\}, \\left\\{d_{1} : r_{619}, d_{2} : \\frac{r_{619}}{x_{12}}, d_{3} : \\frac{r_{619}}{x_{12} x_{23}}, d_{4} : \\frac{r_{619}}{x_{12} x_{23} x_{34}}, d_{5} : r_{620}, a_{12} : r_{621}, a_{13} : r_{622}, a_{14} : r_{623}, a_{15} : r_{624}, a_{23} : \\frac{r_{621} x_{12} x_{23} - r_{619} x_{13}}{x_{12}^{2} x_{23}}, a_{24} : -\\frac{r_{619} x_{12} x_{14} x_{23} - {\\left(r_{622} x_{12}^{2} x_{23}^{2} - r_{621} x_{12} x_{13} x_{23} + r_{619} x_{13}^{2}\\right)} x_{34}}{x_{12}^{3} x_{23}^{2} x_{34}}, a_{25} : -\\frac{r_{620} x_{15} x_{34} - r_{620} x_{14} x_{35}}{x_{12} x_{34}}, a_{34} : \\frac{r_{621} x_{12} x_{23} - r_{619} x_{13}}{x_{12}^{2} x_{23}^{2}}, a_{35} : 0, a_{45} : -\\frac{r_{620} x_{35}}{x_{34}}\\right\\}\\right]$$"
      ],
      "text/plain": [
       "[{d1: 0,\n",
       "  d2: 0,\n",
       "  d3: 0,\n",
       "  d4: 0,\n",
       "  d5: r609,\n",
       "  a12: r610,\n",
       "  a13: r611,\n",
       "  a14: r612,\n",
       "  a15: r613,\n",
       "  a23: r614,\n",
       "  a24: r615,\n",
       "  a25: r616,\n",
       "  a34: r617,\n",
       "  a35: r618,\n",
       "  a45: -r609*x35/x34},\n",
       " {d1: r619,\n",
       "  d2: r619/x12,\n",
       "  d3: r619/(x12*x23),\n",
       "  d4: r619/(x12*x23*x34),\n",
       "  d5: r620,\n",
       "  a12: r621,\n",
       "  a13: r622,\n",
       "  a14: r623,\n",
       "  a15: r624,\n",
       "  a23: (r621*x12*x23 - r619*x13)/(x12^2*x23),\n",
       "  a24: -(r619*x12*x14*x23 - (r622*x12^2*x23^2 - r621*x12*x13*x23 + r619*x13^2)*x34)/(x12^3*x23^2*x34),\n",
       "  a25: -(r620*x15*x34 - r620*x14*x35)/(x12*x34),\n",
       "  a34: (r621*x12*x23 - r619*x13)/(x12^2*x23^2),\n",
       "  a35: 0,\n",
       "  a45: -r620*x35/x34}]"
      ]
     },
     "metadata": {},
     "output_type": "display_data"
    },
    {
     "data": {
      "text/plain": [
       "\\left[\\left\\{d_{1} : 0, d_{2} : 0, d_{3} : 0, d_{4} : 0, d_{5} : r_{609}, a_{12} : r_{610}, a_{13} : r_{611}, a_{14} : r_{612}, a_{15} : r_{613}, a_{23} : r_{614}, a_{24} : r_{615}, a_{25} : r_{616}, a_{34} : r_{617}, a_{35} : r_{618}, a_{45} : -\\frac{r_{609} x_{35}}{x_{34}}\\right\\}, \\left\\{d_{1} : r_{619}, d_{2} : \\frac{r_{619}}{x_{12}}, d_{3} : \\frac{r_{619}}{x_{12} x_{23}}, d_{4} : \\frac{r_{619}}{x_{12} x_{23} x_{34}}, d_{5} : r_{620}, a_{12} : r_{621}, a_{13} : r_{622}, a_{14} : r_{623}, a_{15} : r_{624}, a_{23} : \\frac{r_{621} x_{12} x_{23} - r_{619} x_{13}}{x_{12}^{2} x_{23}}, a_{24} : -\\frac{r_{619} x_{12} x_{14} x_{23} - {\\left(r_{622} x_{12}^{2} x_{23}^{2} - r_{621} x_{12} x_{13} x_{23} + r_{619} x_{13}^{2}\\right)} x_{34}}{x_{12}^{3} x_{23}^{2} x_{34}}, a_{25} : -\\frac{r_{620} x_{15} x_{34} - r_{620} x_{14} x_{35}}{x_{12} x_{34}}, a_{34} : \\frac{r_{621} x_{12} x_{23} - r_{619} x_{13}}{x_{12}^{2} x_{23}^{2}}, a_{35} : 0, a_{45} : -\\frac{r_{620} x_{35}}{x_{34}}\\right\\}\\right]"
      ]
     },
     "execution_count": 39,
     "metadata": {},
     "output_type": "execute_result"
    }
   ],
   "source": [
    "#x7\n",
    "reset()\n",
    "\n",
    "var('x12,x13,x14,x15,x23,x24,x25,x34,x35,x45')\n",
    "var('d1,d2,d3,d4,d5')\n",
    "var('a12,a13,a14,a15,a23,a24,a25,a34,a35,a45')\n",
    "\n",
    "load_attach_path('C:\\\\Users\\\\julia\\\\Documents\\\\unb\\\\doutorado\\\\pensar\\\\codigo_sage_v2\\\\maquina\\\\x7')\n",
    "load('out_#100111.sage')\n",
    "\n",
    "m=matrix(QQ, [[0, 1, 0, 0, 0],\n",
    "              [0, 0, 1, 0, 0],\n",
    "              [0, 0, 0, 1, 0],\n",
    "              [0, 0, 0, 0, 0],\n",
    "              [0, 0, 0, 0, 0]])\n",
    "        \n",
    "#entry of matrix: (i,j) line i collum j, means (i-1,j-1)\n",
    "sol=solve([ eq1==m[0,1],\teq2==m[0,2],\teq3==m[0,3],\teq4==m[0,4],\t\n",
    "                                            eq5==m[1,2],    eq6==m[1,3],\n",
    "                                                            eq7==m[1,4], eq8==m[2,3], eq9==m[2,4]],d1,d2,d3,d4,d5,a12,a13,a14,a15,a23,a24,a25,a34,a35,a45, solution_dict=True)\n",
    "\n",
    "show(m)\n",
    "show(sol)\n",
    "latex(sol)"
   ]
  },
  {
   "cell_type": "code",
   "execution_count": 40,
   "metadata": {},
   "outputs": [
    {
     "data": {
      "text/html": [
       "<html><script type=\"math/tex; mode=display\">\\newcommand{\\Bold}[1]{\\mathbf{#1}}\\left(\\begin{array}{rrrrr}\n",
       "0 & 1 & 0 & 0 & 0 \\\\\n",
       "0 & 0 & 1 & 0 & 0 \\\\\n",
       "0 & 0 & 0 & 1 & 0 \\\\\n",
       "0 & 0 & 0 & 0 & 0 \\\\\n",
       "0 & 0 & 0 & 0 & 0\n",
       "\\end{array}\\right)</script></html>"
      ],
      "text/latex": [
       "$$\\newcommand{\\Bold}[1]{\\mathbf{#1}}\\left(\\begin{array}{rrrrr}\n",
       "0 & 1 & 0 & 0 & 0 \\\\\n",
       "0 & 0 & 1 & 0 & 0 \\\\\n",
       "0 & 0 & 0 & 1 & 0 \\\\\n",
       "0 & 0 & 0 & 0 & 0 \\\\\n",
       "0 & 0 & 0 & 0 & 0\n",
       "\\end{array}\\right)$$"
      ],
      "text/plain": [
       "[0 1 0 0 0]\n",
       "[0 0 1 0 0]\n",
       "[0 0 0 1 0]\n",
       "[0 0 0 0 0]\n",
       "[0 0 0 0 0]"
      ]
     },
     "metadata": {},
     "output_type": "display_data"
    },
    {
     "data": {
      "text/html": [
       "<html><script type=\"math/tex; mode=display\">\\newcommand{\\Bold}[1]{\\mathbf{#1}}\\left[\\left\\{d_{1} : 0, d_{2} : 0, d_{3} : 0, d_{4} : 0, d_{5} : r_{625}, a_{12} : r_{626}, a_{13} : r_{627}, a_{14} : r_{628}, a_{15} : r_{629}, a_{23} : r_{630}, a_{24} : r_{631}, a_{25} : r_{632}, a_{34} : r_{633}, a_{35} : r_{634}, a_{45} : -\\frac{r_{625} x_{35}}{x_{34}}\\right\\}, \\left\\{d_{1} : r_{635}, d_{2} : \\frac{r_{635}}{x_{12}}, d_{3} : \\frac{r_{635}}{x_{12} x_{23}}, d_{4} : \\frac{r_{635}}{x_{12} x_{23} x_{34}}, d_{5} : r_{636}, a_{12} : r_{637}, a_{13} : r_{638}, a_{14} : r_{639}, a_{15} : r_{640}, a_{23} : \\frac{r_{637}}{x_{12}}, a_{24} : \\frac{r_{638}}{x_{12}}, a_{25} : 0, a_{34} : \\frac{r_{637}}{x_{12} x_{23}}, a_{35} : -\\frac{r_{636} x_{25}}{x_{23}}, a_{45} : -\\frac{r_{636} x_{35}}{x_{34}}\\right\\}\\right]</script></html>"
      ],
      "text/latex": [
       "$$\\newcommand{\\Bold}[1]{\\mathbf{#1}}\\left[\\left\\{d_{1} : 0, d_{2} : 0, d_{3} : 0, d_{4} : 0, d_{5} : r_{625}, a_{12} : r_{626}, a_{13} : r_{627}, a_{14} : r_{628}, a_{15} : r_{629}, a_{23} : r_{630}, a_{24} : r_{631}, a_{25} : r_{632}, a_{34} : r_{633}, a_{35} : r_{634}, a_{45} : -\\frac{r_{625} x_{35}}{x_{34}}\\right\\}, \\left\\{d_{1} : r_{635}, d_{2} : \\frac{r_{635}}{x_{12}}, d_{3} : \\frac{r_{635}}{x_{12} x_{23}}, d_{4} : \\frac{r_{635}}{x_{12} x_{23} x_{34}}, d_{5} : r_{636}, a_{12} : r_{637}, a_{13} : r_{638}, a_{14} : r_{639}, a_{15} : r_{640}, a_{23} : \\frac{r_{637}}{x_{12}}, a_{24} : \\frac{r_{638}}{x_{12}}, a_{25} : 0, a_{34} : \\frac{r_{637}}{x_{12} x_{23}}, a_{35} : -\\frac{r_{636} x_{25}}{x_{23}}, a_{45} : -\\frac{r_{636} x_{35}}{x_{34}}\\right\\}\\right]$$"
      ],
      "text/plain": [
       "[{d1: 0,\n",
       "  d2: 0,\n",
       "  d3: 0,\n",
       "  d4: 0,\n",
       "  d5: r625,\n",
       "  a12: r626,\n",
       "  a13: r627,\n",
       "  a14: r628,\n",
       "  a15: r629,\n",
       "  a23: r630,\n",
       "  a24: r631,\n",
       "  a25: r632,\n",
       "  a34: r633,\n",
       "  a35: r634,\n",
       "  a45: -r625*x35/x34},\n",
       " {d1: r635,\n",
       "  d2: r635/x12,\n",
       "  d3: r635/(x12*x23),\n",
       "  d4: r635/(x12*x23*x34),\n",
       "  d5: r636,\n",
       "  a12: r637,\n",
       "  a13: r638,\n",
       "  a14: r639,\n",
       "  a15: r640,\n",
       "  a23: r637/x12,\n",
       "  a24: r638/x12,\n",
       "  a25: 0,\n",
       "  a34: r637/(x12*x23),\n",
       "  a35: -r636*x25/x23,\n",
       "  a45: -r636*x35/x34}]"
      ]
     },
     "metadata": {},
     "output_type": "display_data"
    },
    {
     "data": {
      "text/plain": [
       "\\left[\\left\\{d_{1} : 0, d_{2} : 0, d_{3} : 0, d_{4} : 0, d_{5} : r_{625}, a_{12} : r_{626}, a_{13} : r_{627}, a_{14} : r_{628}, a_{15} : r_{629}, a_{23} : r_{630}, a_{24} : r_{631}, a_{25} : r_{632}, a_{34} : r_{633}, a_{35} : r_{634}, a_{45} : -\\frac{r_{625} x_{35}}{x_{34}}\\right\\}, \\left\\{d_{1} : r_{635}, d_{2} : \\frac{r_{635}}{x_{12}}, d_{3} : \\frac{r_{635}}{x_{12} x_{23}}, d_{4} : \\frac{r_{635}}{x_{12} x_{23} x_{34}}, d_{5} : r_{636}, a_{12} : r_{637}, a_{13} : r_{638}, a_{14} : r_{639}, a_{15} : r_{640}, a_{23} : \\frac{r_{637}}{x_{12}}, a_{24} : \\frac{r_{638}}{x_{12}}, a_{25} : 0, a_{34} : \\frac{r_{637}}{x_{12} x_{23}}, a_{35} : -\\frac{r_{636} x_{25}}{x_{23}}, a_{45} : -\\frac{r_{636} x_{35}}{x_{34}}\\right\\}\\right]"
      ]
     },
     "execution_count": 40,
     "metadata": {},
     "output_type": "execute_result"
    }
   ],
   "source": [
    "#x7\n",
    "reset()\n",
    "\n",
    "var('x12,x13,x14,x15,x23,x24,x25,x34,x35,x45')\n",
    "var('d1,d2,d3,d4,d5')\n",
    "var('a12,a13,a14,a15,a23,a24,a25,a34,a35,a45')\n",
    "\n",
    "load_attach_path('C:\\\\Users\\\\julia\\\\Documents\\\\unb\\\\doutorado\\\\pensar\\\\codigo_sage_v2\\\\maquina\\\\x7')\n",
    "load('out_#101000.sage')\n",
    "\n",
    "m=matrix(QQ, [[0, 1, 0, 0, 0],\n",
    "              [0, 0, 1, 0, 0],\n",
    "              [0, 0, 0, 1, 0],\n",
    "              [0, 0, 0, 0, 0],\n",
    "              [0, 0, 0, 0, 0]])\n",
    "        \n",
    "#entry of matrix: (i,j) line i collum j, means (i-1,j-1)\n",
    "sol=solve([ eq1==m[0,1],\teq2==m[0,2],\teq3==m[0,3],\teq4==m[0,4],\t\n",
    "                                            eq5==m[1,2],    eq6==m[1,3],\n",
    "                                                            eq7==m[1,4], eq8==m[2,3], eq9==m[2,4]],d1,d2,d3,d4,d5,a12,a13,a14,a15,a23,a24,a25,a34,a35,a45, solution_dict=True)\n",
    "\n",
    "show(m)\n",
    "show(sol)\n",
    "latex(sol)"
   ]
  },
  {
   "cell_type": "code",
   "execution_count": 41,
   "metadata": {},
   "outputs": [
    {
     "data": {
      "text/html": [
       "<html><script type=\"math/tex; mode=display\">\\newcommand{\\Bold}[1]{\\mathbf{#1}}\\left(\\begin{array}{rrrrr}\n",
       "0 & 1 & 0 & 0 & 0 \\\\\n",
       "0 & 0 & 1 & 0 & 0 \\\\\n",
       "0 & 0 & 0 & 1 & 0 \\\\\n",
       "0 & 0 & 0 & 0 & 0 \\\\\n",
       "0 & 0 & 0 & 0 & 0\n",
       "\\end{array}\\right)</script></html>"
      ],
      "text/latex": [
       "$$\\newcommand{\\Bold}[1]{\\mathbf{#1}}\\left(\\begin{array}{rrrrr}\n",
       "0 & 1 & 0 & 0 & 0 \\\\\n",
       "0 & 0 & 1 & 0 & 0 \\\\\n",
       "0 & 0 & 0 & 1 & 0 \\\\\n",
       "0 & 0 & 0 & 0 & 0 \\\\\n",
       "0 & 0 & 0 & 0 & 0\n",
       "\\end{array}\\right)$$"
      ],
      "text/plain": [
       "[0 1 0 0 0]\n",
       "[0 0 1 0 0]\n",
       "[0 0 0 1 0]\n",
       "[0 0 0 0 0]\n",
       "[0 0 0 0 0]"
      ]
     },
     "metadata": {},
     "output_type": "display_data"
    },
    {
     "data": {
      "text/html": [
       "<html><script type=\"math/tex; mode=display\">\\newcommand{\\Bold}[1]{\\mathbf{#1}}\\left[\\left\\{d_{1} : 0, d_{2} : 0, d_{3} : 0, d_{4} : 0, d_{5} : r_{641}, a_{12} : r_{642}, a_{13} : r_{643}, a_{14} : r_{644}, a_{15} : r_{645}, a_{23} : r_{646}, a_{24} : r_{647}, a_{25} : r_{648}, a_{34} : r_{649}, a_{35} : r_{650}, a_{45} : -\\frac{r_{641} x_{35}}{x_{34}}\\right\\}, \\left\\{d_{1} : r_{651}, d_{2} : \\frac{r_{651}}{x_{12}}, d_{3} : \\frac{r_{651}}{x_{12} x_{23}}, d_{4} : \\frac{r_{651}}{x_{12} x_{23} x_{34}}, d_{5} : r_{652}, a_{12} : r_{653}, a_{13} : r_{654}, a_{14} : r_{655}, a_{15} : r_{656}, a_{23} : \\frac{r_{653}}{x_{12}}, a_{24} : \\frac{r_{654}}{x_{12}}, a_{25} : -\\frac{r_{652} x_{15}}{x_{12}}, a_{34} : \\frac{r_{653}}{x_{12} x_{23}}, a_{35} : -\\frac{r_{652} x_{25}}{x_{23}}, a_{45} : -\\frac{r_{652} x_{35}}{x_{34}}\\right\\}\\right]</script></html>"
      ],
      "text/latex": [
       "$$\\newcommand{\\Bold}[1]{\\mathbf{#1}}\\left[\\left\\{d_{1} : 0, d_{2} : 0, d_{3} : 0, d_{4} : 0, d_{5} : r_{641}, a_{12} : r_{642}, a_{13} : r_{643}, a_{14} : r_{644}, a_{15} : r_{645}, a_{23} : r_{646}, a_{24} : r_{647}, a_{25} : r_{648}, a_{34} : r_{649}, a_{35} : r_{650}, a_{45} : -\\frac{r_{641} x_{35}}{x_{34}}\\right\\}, \\left\\{d_{1} : r_{651}, d_{2} : \\frac{r_{651}}{x_{12}}, d_{3} : \\frac{r_{651}}{x_{12} x_{23}}, d_{4} : \\frac{r_{651}}{x_{12} x_{23} x_{34}}, d_{5} : r_{652}, a_{12} : r_{653}, a_{13} : r_{654}, a_{14} : r_{655}, a_{15} : r_{656}, a_{23} : \\frac{r_{653}}{x_{12}}, a_{24} : \\frac{r_{654}}{x_{12}}, a_{25} : -\\frac{r_{652} x_{15}}{x_{12}}, a_{34} : \\frac{r_{653}}{x_{12} x_{23}}, a_{35} : -\\frac{r_{652} x_{25}}{x_{23}}, a_{45} : -\\frac{r_{652} x_{35}}{x_{34}}\\right\\}\\right]$$"
      ],
      "text/plain": [
       "[{d1: 0,\n",
       "  d2: 0,\n",
       "  d3: 0,\n",
       "  d4: 0,\n",
       "  d5: r641,\n",
       "  a12: r642,\n",
       "  a13: r643,\n",
       "  a14: r644,\n",
       "  a15: r645,\n",
       "  a23: r646,\n",
       "  a24: r647,\n",
       "  a25: r648,\n",
       "  a34: r649,\n",
       "  a35: r650,\n",
       "  a45: -r641*x35/x34},\n",
       " {d1: r651,\n",
       "  d2: r651/x12,\n",
       "  d3: r651/(x12*x23),\n",
       "  d4: r651/(x12*x23*x34),\n",
       "  d5: r652,\n",
       "  a12: r653,\n",
       "  a13: r654,\n",
       "  a14: r655,\n",
       "  a15: r656,\n",
       "  a23: r653/x12,\n",
       "  a24: r654/x12,\n",
       "  a25: -r652*x15/x12,\n",
       "  a34: r653/(x12*x23),\n",
       "  a35: -r652*x25/x23,\n",
       "  a45: -r652*x35/x34}]"
      ]
     },
     "metadata": {},
     "output_type": "display_data"
    },
    {
     "data": {
      "text/plain": [
       "\\left[\\left\\{d_{1} : 0, d_{2} : 0, d_{3} : 0, d_{4} : 0, d_{5} : r_{641}, a_{12} : r_{642}, a_{13} : r_{643}, a_{14} : r_{644}, a_{15} : r_{645}, a_{23} : r_{646}, a_{24} : r_{647}, a_{25} : r_{648}, a_{34} : r_{649}, a_{35} : r_{650}, a_{45} : -\\frac{r_{641} x_{35}}{x_{34}}\\right\\}, \\left\\{d_{1} : r_{651}, d_{2} : \\frac{r_{651}}{x_{12}}, d_{3} : \\frac{r_{651}}{x_{12} x_{23}}, d_{4} : \\frac{r_{651}}{x_{12} x_{23} x_{34}}, d_{5} : r_{652}, a_{12} : r_{653}, a_{13} : r_{654}, a_{14} : r_{655}, a_{15} : r_{656}, a_{23} : \\frac{r_{653}}{x_{12}}, a_{24} : \\frac{r_{654}}{x_{12}}, a_{25} : -\\frac{r_{652} x_{15}}{x_{12}}, a_{34} : \\frac{r_{653}}{x_{12} x_{23}}, a_{35} : -\\frac{r_{652} x_{25}}{x_{23}}, a_{45} : -\\frac{r_{652} x_{35}}{x_{34}}\\right\\}\\right]"
      ]
     },
     "execution_count": 41,
     "metadata": {},
     "output_type": "execute_result"
    }
   ],
   "source": [
    "#x7\n",
    "reset()\n",
    "\n",
    "var('x12,x13,x14,x15,x23,x24,x25,x34,x35,x45')\n",
    "var('d1,d2,d3,d4,d5')\n",
    "var('a12,a13,a14,a15,a23,a24,a25,a34,a35,a45')\n",
    "\n",
    "load_attach_path('C:\\\\Users\\\\julia\\\\Documents\\\\unb\\\\doutorado\\\\pensar\\\\codigo_sage_v2\\\\maquina\\\\x7')\n",
    "load('out_#101001.sage')\n",
    "\n",
    "m=matrix(QQ, [[0, 1, 0, 0, 0],\n",
    "              [0, 0, 1, 0, 0],\n",
    "              [0, 0, 0, 1, 0],\n",
    "              [0, 0, 0, 0, 0],\n",
    "              [0, 0, 0, 0, 0]])\n",
    "        \n",
    "#entry of matrix: (i,j) line i collum j, means (i-1,j-1)\n",
    "sol=solve([ eq1==m[0,1],\teq2==m[0,2],\teq3==m[0,3],\teq4==m[0,4],\t\n",
    "                                            eq5==m[1,2],    eq6==m[1,3],\n",
    "                                                            eq7==m[1,4], eq8==m[2,3], eq9==m[2,4]],d1,d2,d3,d4,d5,a12,a13,a14,a15,a23,a24,a25,a34,a35,a45, solution_dict=True)\n",
    "\n",
    "show(m)\n",
    "show(sol)\n",
    "latex(sol)"
   ]
  },
  {
   "cell_type": "code",
   "execution_count": 42,
   "metadata": {},
   "outputs": [
    {
     "data": {
      "text/html": [
       "<html><script type=\"math/tex; mode=display\">\\newcommand{\\Bold}[1]{\\mathbf{#1}}\\left(\\begin{array}{rrrrr}\n",
       "0 & 1 & 0 & 0 & 0 \\\\\n",
       "0 & 0 & 1 & 0 & 0 \\\\\n",
       "0 & 0 & 0 & 1 & 0 \\\\\n",
       "0 & 0 & 0 & 0 & 0 \\\\\n",
       "0 & 0 & 0 & 0 & 0\n",
       "\\end{array}\\right)</script></html>"
      ],
      "text/latex": [
       "$$\\newcommand{\\Bold}[1]{\\mathbf{#1}}\\left(\\begin{array}{rrrrr}\n",
       "0 & 1 & 0 & 0 & 0 \\\\\n",
       "0 & 0 & 1 & 0 & 0 \\\\\n",
       "0 & 0 & 0 & 1 & 0 \\\\\n",
       "0 & 0 & 0 & 0 & 0 \\\\\n",
       "0 & 0 & 0 & 0 & 0\n",
       "\\end{array}\\right)$$"
      ],
      "text/plain": [
       "[0 1 0 0 0]\n",
       "[0 0 1 0 0]\n",
       "[0 0 0 1 0]\n",
       "[0 0 0 0 0]\n",
       "[0 0 0 0 0]"
      ]
     },
     "metadata": {},
     "output_type": "display_data"
    },
    {
     "data": {
      "text/html": [
       "<html><script type=\"math/tex; mode=display\">\\newcommand{\\Bold}[1]{\\mathbf{#1}}\\left[\\left\\{d_{1} : 0, d_{2} : 0, d_{3} : 0, d_{4} : 0, d_{5} : r_{657}, a_{12} : r_{658}, a_{13} : r_{659}, a_{14} : r_{660}, a_{15} : r_{661}, a_{23} : r_{662}, a_{24} : r_{663}, a_{25} : r_{664}, a_{34} : r_{665}, a_{35} : r_{666}, a_{45} : -\\frac{r_{657} x_{35}}{x_{34}}\\right\\}, \\left\\{d_{1} : r_{667}, d_{2} : \\frac{r_{667}}{x_{12}}, d_{3} : \\frac{r_{667}}{x_{12} x_{23}}, d_{4} : \\frac{r_{667}}{x_{12} x_{23} x_{34}}, d_{5} : r_{668}, a_{12} : r_{669}, a_{13} : r_{670}, a_{14} : r_{671}, a_{15} : r_{672}, a_{23} : \\frac{r_{669}}{x_{12}}, a_{24} : \\frac{r_{670} x_{12} x_{23} x_{34} - r_{667} x_{14}}{x_{12}^{2} x_{23} x_{34}}, a_{25} : \\frac{r_{668} x_{14} x_{35}}{x_{12} x_{34}}, a_{34} : \\frac{r_{669}}{x_{12} x_{23}}, a_{35} : -\\frac{r_{668} x_{25}}{x_{23}}, a_{45} : -\\frac{r_{668} x_{35}}{x_{34}}\\right\\}\\right]</script></html>"
      ],
      "text/latex": [
       "$$\\newcommand{\\Bold}[1]{\\mathbf{#1}}\\left[\\left\\{d_{1} : 0, d_{2} : 0, d_{3} : 0, d_{4} : 0, d_{5} : r_{657}, a_{12} : r_{658}, a_{13} : r_{659}, a_{14} : r_{660}, a_{15} : r_{661}, a_{23} : r_{662}, a_{24} : r_{663}, a_{25} : r_{664}, a_{34} : r_{665}, a_{35} : r_{666}, a_{45} : -\\frac{r_{657} x_{35}}{x_{34}}\\right\\}, \\left\\{d_{1} : r_{667}, d_{2} : \\frac{r_{667}}{x_{12}}, d_{3} : \\frac{r_{667}}{x_{12} x_{23}}, d_{4} : \\frac{r_{667}}{x_{12} x_{23} x_{34}}, d_{5} : r_{668}, a_{12} : r_{669}, a_{13} : r_{670}, a_{14} : r_{671}, a_{15} : r_{672}, a_{23} : \\frac{r_{669}}{x_{12}}, a_{24} : \\frac{r_{670} x_{12} x_{23} x_{34} - r_{667} x_{14}}{x_{12}^{2} x_{23} x_{34}}, a_{25} : \\frac{r_{668} x_{14} x_{35}}{x_{12} x_{34}}, a_{34} : \\frac{r_{669}}{x_{12} x_{23}}, a_{35} : -\\frac{r_{668} x_{25}}{x_{23}}, a_{45} : -\\frac{r_{668} x_{35}}{x_{34}}\\right\\}\\right]$$"
      ],
      "text/plain": [
       "[{d1: 0,\n",
       "  d2: 0,\n",
       "  d3: 0,\n",
       "  d4: 0,\n",
       "  d5: r657,\n",
       "  a12: r658,\n",
       "  a13: r659,\n",
       "  a14: r660,\n",
       "  a15: r661,\n",
       "  a23: r662,\n",
       "  a24: r663,\n",
       "  a25: r664,\n",
       "  a34: r665,\n",
       "  a35: r666,\n",
       "  a45: -r657*x35/x34},\n",
       " {d1: r667,\n",
       "  d2: r667/x12,\n",
       "  d3: r667/(x12*x23),\n",
       "  d4: r667/(x12*x23*x34),\n",
       "  d5: r668,\n",
       "  a12: r669,\n",
       "  a13: r670,\n",
       "  a14: r671,\n",
       "  a15: r672,\n",
       "  a23: r669/x12,\n",
       "  a24: (r670*x12*x23*x34 - r667*x14)/(x12^2*x23*x34),\n",
       "  a25: r668*x14*x35/(x12*x34),\n",
       "  a34: r669/(x12*x23),\n",
       "  a35: -r668*x25/x23,\n",
       "  a45: -r668*x35/x34}]"
      ]
     },
     "metadata": {},
     "output_type": "display_data"
    },
    {
     "data": {
      "text/plain": [
       "\\left[\\left\\{d_{1} : 0, d_{2} : 0, d_{3} : 0, d_{4} : 0, d_{5} : r_{657}, a_{12} : r_{658}, a_{13} : r_{659}, a_{14} : r_{660}, a_{15} : r_{661}, a_{23} : r_{662}, a_{24} : r_{663}, a_{25} : r_{664}, a_{34} : r_{665}, a_{35} : r_{666}, a_{45} : -\\frac{r_{657} x_{35}}{x_{34}}\\right\\}, \\left\\{d_{1} : r_{667}, d_{2} : \\frac{r_{667}}{x_{12}}, d_{3} : \\frac{r_{667}}{x_{12} x_{23}}, d_{4} : \\frac{r_{667}}{x_{12} x_{23} x_{34}}, d_{5} : r_{668}, a_{12} : r_{669}, a_{13} : r_{670}, a_{14} : r_{671}, a_{15} : r_{672}, a_{23} : \\frac{r_{669}}{x_{12}}, a_{24} : \\frac{r_{670} x_{12} x_{23} x_{34} - r_{667} x_{14}}{x_{12}^{2} x_{23} x_{34}}, a_{25} : \\frac{r_{668} x_{14} x_{35}}{x_{12} x_{34}}, a_{34} : \\frac{r_{669}}{x_{12} x_{23}}, a_{35} : -\\frac{r_{668} x_{25}}{x_{23}}, a_{45} : -\\frac{r_{668} x_{35}}{x_{34}}\\right\\}\\right]"
      ]
     },
     "execution_count": 42,
     "metadata": {},
     "output_type": "execute_result"
    }
   ],
   "source": [
    "#x7\n",
    "reset()\n",
    "\n",
    "var('x12,x13,x14,x15,x23,x24,x25,x34,x35,x45')\n",
    "var('d1,d2,d3,d4,d5')\n",
    "var('a12,a13,a14,a15,a23,a24,a25,a34,a35,a45')\n",
    "\n",
    "load_attach_path('C:\\\\Users\\\\julia\\\\Documents\\\\unb\\\\doutorado\\\\pensar\\\\codigo_sage_v2\\\\maquina\\\\x7')\n",
    "load('out_#101010.sage')\n",
    "\n",
    "m=matrix(QQ, [[0, 1, 0, 0, 0],\n",
    "              [0, 0, 1, 0, 0],\n",
    "              [0, 0, 0, 1, 0],\n",
    "              [0, 0, 0, 0, 0],\n",
    "              [0, 0, 0, 0, 0]])\n",
    "        \n",
    "#entry of matrix: (i,j) line i collum j, means (i-1,j-1)\n",
    "sol=solve([ eq1==m[0,1],\teq2==m[0,2],\teq3==m[0,3],\teq4==m[0,4],\t\n",
    "                                            eq5==m[1,2],    eq6==m[1,3],\n",
    "                                                            eq7==m[1,4], eq8==m[2,3], eq9==m[2,4]],d1,d2,d3,d4,d5,a12,a13,a14,a15,a23,a24,a25,a34,a35,a45, solution_dict=True)\n",
    "\n",
    "show(m)\n",
    "show(sol)\n",
    "latex(sol)"
   ]
  },
  {
   "cell_type": "code",
   "execution_count": 43,
   "metadata": {},
   "outputs": [
    {
     "data": {
      "text/html": [
       "<html><script type=\"math/tex; mode=display\">\\newcommand{\\Bold}[1]{\\mathbf{#1}}\\left(\\begin{array}{rrrrr}\n",
       "0 & 1 & 0 & 0 & 0 \\\\\n",
       "0 & 0 & 1 & 0 & 0 \\\\\n",
       "0 & 0 & 0 & 1 & 0 \\\\\n",
       "0 & 0 & 0 & 0 & 0 \\\\\n",
       "0 & 0 & 0 & 0 & 0\n",
       "\\end{array}\\right)</script></html>"
      ],
      "text/latex": [
       "$$\\newcommand{\\Bold}[1]{\\mathbf{#1}}\\left(\\begin{array}{rrrrr}\n",
       "0 & 1 & 0 & 0 & 0 \\\\\n",
       "0 & 0 & 1 & 0 & 0 \\\\\n",
       "0 & 0 & 0 & 1 & 0 \\\\\n",
       "0 & 0 & 0 & 0 & 0 \\\\\n",
       "0 & 0 & 0 & 0 & 0\n",
       "\\end{array}\\right)$$"
      ],
      "text/plain": [
       "[0 1 0 0 0]\n",
       "[0 0 1 0 0]\n",
       "[0 0 0 1 0]\n",
       "[0 0 0 0 0]\n",
       "[0 0 0 0 0]"
      ]
     },
     "metadata": {},
     "output_type": "display_data"
    },
    {
     "data": {
      "text/html": [
       "<html><script type=\"math/tex; mode=display\">\\newcommand{\\Bold}[1]{\\mathbf{#1}}\\left[\\left\\{d_{1} : 0, d_{2} : 0, d_{3} : 0, d_{4} : 0, d_{5} : r_{673}, a_{12} : r_{674}, a_{13} : r_{675}, a_{14} : r_{676}, a_{15} : r_{677}, a_{23} : r_{678}, a_{24} : r_{679}, a_{25} : r_{680}, a_{34} : r_{681}, a_{35} : r_{682}, a_{45} : -\\frac{r_{673} x_{35}}{x_{34}}\\right\\}, \\left\\{d_{1} : r_{683}, d_{2} : \\frac{r_{683}}{x_{12}}, d_{3} : \\frac{r_{683}}{x_{12} x_{23}}, d_{4} : \\frac{r_{683}}{x_{12} x_{23} x_{34}}, d_{5} : r_{684}, a_{12} : r_{685}, a_{13} : r_{686}, a_{14} : r_{687}, a_{15} : r_{688}, a_{23} : \\frac{r_{685}}{x_{12}}, a_{24} : \\frac{r_{686} x_{12} x_{23} x_{34} - r_{683} x_{14}}{x_{12}^{2} x_{23} x_{34}}, a_{25} : -\\frac{r_{684} x_{15} x_{34} - r_{684} x_{14} x_{35}}{x_{12} x_{34}}, a_{34} : \\frac{r_{685}}{x_{12} x_{23}}, a_{35} : -\\frac{r_{684} x_{25}}{x_{23}}, a_{45} : -\\frac{r_{684} x_{35}}{x_{34}}\\right\\}\\right]</script></html>"
      ],
      "text/latex": [
       "$$\\newcommand{\\Bold}[1]{\\mathbf{#1}}\\left[\\left\\{d_{1} : 0, d_{2} : 0, d_{3} : 0, d_{4} : 0, d_{5} : r_{673}, a_{12} : r_{674}, a_{13} : r_{675}, a_{14} : r_{676}, a_{15} : r_{677}, a_{23} : r_{678}, a_{24} : r_{679}, a_{25} : r_{680}, a_{34} : r_{681}, a_{35} : r_{682}, a_{45} : -\\frac{r_{673} x_{35}}{x_{34}}\\right\\}, \\left\\{d_{1} : r_{683}, d_{2} : \\frac{r_{683}}{x_{12}}, d_{3} : \\frac{r_{683}}{x_{12} x_{23}}, d_{4} : \\frac{r_{683}}{x_{12} x_{23} x_{34}}, d_{5} : r_{684}, a_{12} : r_{685}, a_{13} : r_{686}, a_{14} : r_{687}, a_{15} : r_{688}, a_{23} : \\frac{r_{685}}{x_{12}}, a_{24} : \\frac{r_{686} x_{12} x_{23} x_{34} - r_{683} x_{14}}{x_{12}^{2} x_{23} x_{34}}, a_{25} : -\\frac{r_{684} x_{15} x_{34} - r_{684} x_{14} x_{35}}{x_{12} x_{34}}, a_{34} : \\frac{r_{685}}{x_{12} x_{23}}, a_{35} : -\\frac{r_{684} x_{25}}{x_{23}}, a_{45} : -\\frac{r_{684} x_{35}}{x_{34}}\\right\\}\\right]$$"
      ],
      "text/plain": [
       "[{d1: 0,\n",
       "  d2: 0,\n",
       "  d3: 0,\n",
       "  d4: 0,\n",
       "  d5: r673,\n",
       "  a12: r674,\n",
       "  a13: r675,\n",
       "  a14: r676,\n",
       "  a15: r677,\n",
       "  a23: r678,\n",
       "  a24: r679,\n",
       "  a25: r680,\n",
       "  a34: r681,\n",
       "  a35: r682,\n",
       "  a45: -r673*x35/x34},\n",
       " {d1: r683,\n",
       "  d2: r683/x12,\n",
       "  d3: r683/(x12*x23),\n",
       "  d4: r683/(x12*x23*x34),\n",
       "  d5: r684,\n",
       "  a12: r685,\n",
       "  a13: r686,\n",
       "  a14: r687,\n",
       "  a15: r688,\n",
       "  a23: r685/x12,\n",
       "  a24: (r686*x12*x23*x34 - r683*x14)/(x12^2*x23*x34),\n",
       "  a25: -(r684*x15*x34 - r684*x14*x35)/(x12*x34),\n",
       "  a34: r685/(x12*x23),\n",
       "  a35: -r684*x25/x23,\n",
       "  a45: -r684*x35/x34}]"
      ]
     },
     "metadata": {},
     "output_type": "display_data"
    },
    {
     "data": {
      "text/plain": [
       "\\left[\\left\\{d_{1} : 0, d_{2} : 0, d_{3} : 0, d_{4} : 0, d_{5} : r_{673}, a_{12} : r_{674}, a_{13} : r_{675}, a_{14} : r_{676}, a_{15} : r_{677}, a_{23} : r_{678}, a_{24} : r_{679}, a_{25} : r_{680}, a_{34} : r_{681}, a_{35} : r_{682}, a_{45} : -\\frac{r_{673} x_{35}}{x_{34}}\\right\\}, \\left\\{d_{1} : r_{683}, d_{2} : \\frac{r_{683}}{x_{12}}, d_{3} : \\frac{r_{683}}{x_{12} x_{23}}, d_{4} : \\frac{r_{683}}{x_{12} x_{23} x_{34}}, d_{5} : r_{684}, a_{12} : r_{685}, a_{13} : r_{686}, a_{14} : r_{687}, a_{15} : r_{688}, a_{23} : \\frac{r_{685}}{x_{12}}, a_{24} : \\frac{r_{686} x_{12} x_{23} x_{34} - r_{683} x_{14}}{x_{12}^{2} x_{23} x_{34}}, a_{25} : -\\frac{r_{684} x_{15} x_{34} - r_{684} x_{14} x_{35}}{x_{12} x_{34}}, a_{34} : \\frac{r_{685}}{x_{12} x_{23}}, a_{35} : -\\frac{r_{684} x_{25}}{x_{23}}, a_{45} : -\\frac{r_{684} x_{35}}{x_{34}}\\right\\}\\right]"
      ]
     },
     "execution_count": 43,
     "metadata": {},
     "output_type": "execute_result"
    }
   ],
   "source": [
    "#x7\n",
    "reset()\n",
    "\n",
    "var('x12,x13,x14,x15,x23,x24,x25,x34,x35,x45')\n",
    "var('d1,d2,d3,d4,d5')\n",
    "var('a12,a13,a14,a15,a23,a24,a25,a34,a35,a45')\n",
    "\n",
    "load_attach_path('C:\\\\Users\\\\julia\\\\Documents\\\\unb\\\\doutorado\\\\pensar\\\\codigo_sage_v2\\\\maquina\\\\x7')\n",
    "load('out_#101011.sage')\n",
    "\n",
    "m=matrix(QQ, [[0, 1, 0, 0, 0],\n",
    "              [0, 0, 1, 0, 0],\n",
    "              [0, 0, 0, 1, 0],\n",
    "              [0, 0, 0, 0, 0],\n",
    "              [0, 0, 0, 0, 0]])\n",
    "        \n",
    "#entry of matrix: (i,j) line i collum j, means (i-1,j-1)\n",
    "sol=solve([ eq1==m[0,1],\teq2==m[0,2],\teq3==m[0,3],\teq4==m[0,4],\t\n",
    "                                            eq5==m[1,2],    eq6==m[1,3],\n",
    "                                                            eq7==m[1,4], eq8==m[2,3], eq9==m[2,4]],d1,d2,d3,d4,d5,a12,a13,a14,a15,a23,a24,a25,a34,a35,a45, solution_dict=True)\n",
    "\n",
    "show(m)\n",
    "show(sol)\n",
    "latex(sol)"
   ]
  },
  {
   "cell_type": "code",
   "execution_count": 44,
   "metadata": {},
   "outputs": [
    {
     "data": {
      "text/html": [
       "<html><script type=\"math/tex; mode=display\">\\newcommand{\\Bold}[1]{\\mathbf{#1}}\\left(\\begin{array}{rrrrr}\n",
       "0 & 1 & 0 & 0 & 0 \\\\\n",
       "0 & 0 & 1 & 0 & 0 \\\\\n",
       "0 & 0 & 0 & 1 & 0 \\\\\n",
       "0 & 0 & 0 & 0 & 0 \\\\\n",
       "0 & 0 & 0 & 0 & 0\n",
       "\\end{array}\\right)</script></html>"
      ],
      "text/latex": [
       "$$\\newcommand{\\Bold}[1]{\\mathbf{#1}}\\left(\\begin{array}{rrrrr}\n",
       "0 & 1 & 0 & 0 & 0 \\\\\n",
       "0 & 0 & 1 & 0 & 0 \\\\\n",
       "0 & 0 & 0 & 1 & 0 \\\\\n",
       "0 & 0 & 0 & 0 & 0 \\\\\n",
       "0 & 0 & 0 & 0 & 0\n",
       "\\end{array}\\right)$$"
      ],
      "text/plain": [
       "[0 1 0 0 0]\n",
       "[0 0 1 0 0]\n",
       "[0 0 0 1 0]\n",
       "[0 0 0 0 0]\n",
       "[0 0 0 0 0]"
      ]
     },
     "metadata": {},
     "output_type": "display_data"
    },
    {
     "data": {
      "text/html": [
       "<html><script type=\"math/tex; mode=display\">\\newcommand{\\Bold}[1]{\\mathbf{#1}}\\left[\\left\\{d_{1} : 0, d_{2} : 0, d_{3} : 0, d_{4} : 0, d_{5} : r_{689}, a_{12} : r_{690}, a_{13} : r_{691}, a_{14} : r_{692}, a_{15} : r_{693}, a_{23} : r_{694}, a_{24} : r_{695}, a_{25} : r_{696}, a_{34} : r_{697}, a_{35} : r_{698}, a_{45} : -\\frac{r_{689} x_{35}}{x_{34}}\\right\\}, \\left\\{d_{1} : r_{699}, d_{2} : \\frac{r_{699}}{x_{12}}, d_{3} : \\frac{r_{699}}{x_{12} x_{23}}, d_{4} : \\frac{r_{699}}{x_{12} x_{23} x_{34}}, d_{5} : r_{700}, a_{12} : r_{701}, a_{13} : r_{702}, a_{14} : r_{703}, a_{15} : r_{704}, a_{23} : \\frac{r_{701} x_{12} x_{23} - r_{699} x_{13}}{x_{12}^{2} x_{23}}, a_{24} : \\frac{r_{702} x_{12}^{2} x_{23}^{2} - r_{701} x_{12} x_{13} x_{23} + r_{699} x_{13}^{2}}{x_{12}^{3} x_{23}^{2}}, a_{25} : \\frac{r_{700} x_{13} x_{25}}{x_{12} x_{23}}, a_{34} : \\frac{r_{701} x_{12} x_{23} - r_{699} x_{13}}{x_{12}^{2} x_{23}^{2}}, a_{35} : -\\frac{r_{700} x_{25}}{x_{23}}, a_{45} : -\\frac{r_{700} x_{35}}{x_{34}}\\right\\}\\right]</script></html>"
      ],
      "text/latex": [
       "$$\\newcommand{\\Bold}[1]{\\mathbf{#1}}\\left[\\left\\{d_{1} : 0, d_{2} : 0, d_{3} : 0, d_{4} : 0, d_{5} : r_{689}, a_{12} : r_{690}, a_{13} : r_{691}, a_{14} : r_{692}, a_{15} : r_{693}, a_{23} : r_{694}, a_{24} : r_{695}, a_{25} : r_{696}, a_{34} : r_{697}, a_{35} : r_{698}, a_{45} : -\\frac{r_{689} x_{35}}{x_{34}}\\right\\}, \\left\\{d_{1} : r_{699}, d_{2} : \\frac{r_{699}}{x_{12}}, d_{3} : \\frac{r_{699}}{x_{12} x_{23}}, d_{4} : \\frac{r_{699}}{x_{12} x_{23} x_{34}}, d_{5} : r_{700}, a_{12} : r_{701}, a_{13} : r_{702}, a_{14} : r_{703}, a_{15} : r_{704}, a_{23} : \\frac{r_{701} x_{12} x_{23} - r_{699} x_{13}}{x_{12}^{2} x_{23}}, a_{24} : \\frac{r_{702} x_{12}^{2} x_{23}^{2} - r_{701} x_{12} x_{13} x_{23} + r_{699} x_{13}^{2}}{x_{12}^{3} x_{23}^{2}}, a_{25} : \\frac{r_{700} x_{13} x_{25}}{x_{12} x_{23}}, a_{34} : \\frac{r_{701} x_{12} x_{23} - r_{699} x_{13}}{x_{12}^{2} x_{23}^{2}}, a_{35} : -\\frac{r_{700} x_{25}}{x_{23}}, a_{45} : -\\frac{r_{700} x_{35}}{x_{34}}\\right\\}\\right]$$"
      ],
      "text/plain": [
       "[{d1: 0,\n",
       "  d2: 0,\n",
       "  d3: 0,\n",
       "  d4: 0,\n",
       "  d5: r689,\n",
       "  a12: r690,\n",
       "  a13: r691,\n",
       "  a14: r692,\n",
       "  a15: r693,\n",
       "  a23: r694,\n",
       "  a24: r695,\n",
       "  a25: r696,\n",
       "  a34: r697,\n",
       "  a35: r698,\n",
       "  a45: -r689*x35/x34},\n",
       " {d1: r699,\n",
       "  d2: r699/x12,\n",
       "  d3: r699/(x12*x23),\n",
       "  d4: r699/(x12*x23*x34),\n",
       "  d5: r700,\n",
       "  a12: r701,\n",
       "  a13: r702,\n",
       "  a14: r703,\n",
       "  a15: r704,\n",
       "  a23: (r701*x12*x23 - r699*x13)/(x12^2*x23),\n",
       "  a24: (r702*x12^2*x23^2 - r701*x12*x13*x23 + r699*x13^2)/(x12^3*x23^2),\n",
       "  a25: r700*x13*x25/(x12*x23),\n",
       "  a34: (r701*x12*x23 - r699*x13)/(x12^2*x23^2),\n",
       "  a35: -r700*x25/x23,\n",
       "  a45: -r700*x35/x34}]"
      ]
     },
     "metadata": {},
     "output_type": "display_data"
    },
    {
     "data": {
      "text/plain": [
       "\\left[\\left\\{d_{1} : 0, d_{2} : 0, d_{3} : 0, d_{4} : 0, d_{5} : r_{689}, a_{12} : r_{690}, a_{13} : r_{691}, a_{14} : r_{692}, a_{15} : r_{693}, a_{23} : r_{694}, a_{24} : r_{695}, a_{25} : r_{696}, a_{34} : r_{697}, a_{35} : r_{698}, a_{45} : -\\frac{r_{689} x_{35}}{x_{34}}\\right\\}, \\left\\{d_{1} : r_{699}, d_{2} : \\frac{r_{699}}{x_{12}}, d_{3} : \\frac{r_{699}}{x_{12} x_{23}}, d_{4} : \\frac{r_{699}}{x_{12} x_{23} x_{34}}, d_{5} : r_{700}, a_{12} : r_{701}, a_{13} : r_{702}, a_{14} : r_{703}, a_{15} : r_{704}, a_{23} : \\frac{r_{701} x_{12} x_{23} - r_{699} x_{13}}{x_{12}^{2} x_{23}}, a_{24} : \\frac{r_{702} x_{12}^{2} x_{23}^{2} - r_{701} x_{12} x_{13} x_{23} + r_{699} x_{13}^{2}}{x_{12}^{3} x_{23}^{2}}, a_{25} : \\frac{r_{700} x_{13} x_{25}}{x_{12} x_{23}}, a_{34} : \\frac{r_{701} x_{12} x_{23} - r_{699} x_{13}}{x_{12}^{2} x_{23}^{2}}, a_{35} : -\\frac{r_{700} x_{25}}{x_{23}}, a_{45} : -\\frac{r_{700} x_{35}}{x_{34}}\\right\\}\\right]"
      ]
     },
     "execution_count": 44,
     "metadata": {},
     "output_type": "execute_result"
    }
   ],
   "source": [
    "#x7\n",
    "reset()\n",
    "\n",
    "var('x12,x13,x14,x15,x23,x24,x25,x34,x35,x45')\n",
    "var('d1,d2,d3,d4,d5')\n",
    "var('a12,a13,a14,a15,a23,a24,a25,a34,a35,a45')\n",
    "\n",
    "load_attach_path('C:\\\\Users\\\\julia\\\\Documents\\\\unb\\\\doutorado\\\\pensar\\\\codigo_sage_v2\\\\maquina\\\\x7')\n",
    "load('out_#101100.sage')\n",
    "\n",
    "m=matrix(QQ, [[0, 1, 0, 0, 0],\n",
    "              [0, 0, 1, 0, 0],\n",
    "              [0, 0, 0, 1, 0],\n",
    "              [0, 0, 0, 0, 0],\n",
    "              [0, 0, 0, 0, 0]])\n",
    "        \n",
    "#entry of matrix: (i,j) line i collum j, means (i-1,j-1)\n",
    "sol=solve([ eq1==m[0,1],\teq2==m[0,2],\teq3==m[0,3],\teq4==m[0,4],\t\n",
    "                                            eq5==m[1,2],    eq6==m[1,3],\n",
    "                                                            eq7==m[1,4], eq8==m[2,3], eq9==m[2,4]],d1,d2,d3,d4,d5,a12,a13,a14,a15,a23,a24,a25,a34,a35,a45, solution_dict=True)\n",
    "\n",
    "show(m)\n",
    "show(sol)\n",
    "latex(sol)"
   ]
  },
  {
   "cell_type": "code",
   "execution_count": 45,
   "metadata": {},
   "outputs": [
    {
     "data": {
      "text/html": [
       "<html><script type=\"math/tex; mode=display\">\\newcommand{\\Bold}[1]{\\mathbf{#1}}\\left(\\begin{array}{rrrrr}\n",
       "0 & 1 & 0 & 0 & 0 \\\\\n",
       "0 & 0 & 1 & 0 & 0 \\\\\n",
       "0 & 0 & 0 & 1 & 0 \\\\\n",
       "0 & 0 & 0 & 0 & 0 \\\\\n",
       "0 & 0 & 0 & 0 & 0\n",
       "\\end{array}\\right)</script></html>"
      ],
      "text/latex": [
       "$$\\newcommand{\\Bold}[1]{\\mathbf{#1}}\\left(\\begin{array}{rrrrr}\n",
       "0 & 1 & 0 & 0 & 0 \\\\\n",
       "0 & 0 & 1 & 0 & 0 \\\\\n",
       "0 & 0 & 0 & 1 & 0 \\\\\n",
       "0 & 0 & 0 & 0 & 0 \\\\\n",
       "0 & 0 & 0 & 0 & 0\n",
       "\\end{array}\\right)$$"
      ],
      "text/plain": [
       "[0 1 0 0 0]\n",
       "[0 0 1 0 0]\n",
       "[0 0 0 1 0]\n",
       "[0 0 0 0 0]\n",
       "[0 0 0 0 0]"
      ]
     },
     "metadata": {},
     "output_type": "display_data"
    },
    {
     "data": {
      "text/html": [
       "<html><script type=\"math/tex; mode=display\">\\newcommand{\\Bold}[1]{\\mathbf{#1}}\\left[\\left\\{d_{1} : 0, d_{2} : 0, d_{3} : 0, d_{4} : 0, d_{5} : r_{705}, a_{12} : r_{706}, a_{13} : r_{707}, a_{14} : r_{708}, a_{15} : r_{709}, a_{23} : r_{710}, a_{24} : r_{711}, a_{25} : r_{712}, a_{34} : r_{713}, a_{35} : r_{714}, a_{45} : -\\frac{r_{705} x_{35}}{x_{34}}\\right\\}, \\left\\{d_{1} : r_{715}, d_{2} : \\frac{r_{715}}{x_{12}}, d_{3} : \\frac{r_{715}}{x_{12} x_{23}}, d_{4} : \\frac{r_{715}}{x_{12} x_{23} x_{34}}, d_{5} : r_{716}, a_{12} : r_{717}, a_{13} : r_{718}, a_{14} : r_{719}, a_{15} : r_{720}, a_{23} : \\frac{r_{717} x_{12} x_{23} - r_{715} x_{13}}{x_{12}^{2} x_{23}}, a_{24} : \\frac{r_{718} x_{12}^{2} x_{23}^{2} - r_{717} x_{12} x_{13} x_{23} + r_{715} x_{13}^{2}}{x_{12}^{3} x_{23}^{2}}, a_{25} : -\\frac{r_{716} x_{15} x_{23} - r_{716} x_{13} x_{25}}{x_{12} x_{23}}, a_{34} : \\frac{r_{717} x_{12} x_{23} - r_{715} x_{13}}{x_{12}^{2} x_{23}^{2}}, a_{35} : -\\frac{r_{716} x_{25}}{x_{23}}, a_{45} : -\\frac{r_{716} x_{35}}{x_{34}}\\right\\}\\right]</script></html>"
      ],
      "text/latex": [
       "$$\\newcommand{\\Bold}[1]{\\mathbf{#1}}\\left[\\left\\{d_{1} : 0, d_{2} : 0, d_{3} : 0, d_{4} : 0, d_{5} : r_{705}, a_{12} : r_{706}, a_{13} : r_{707}, a_{14} : r_{708}, a_{15} : r_{709}, a_{23} : r_{710}, a_{24} : r_{711}, a_{25} : r_{712}, a_{34} : r_{713}, a_{35} : r_{714}, a_{45} : -\\frac{r_{705} x_{35}}{x_{34}}\\right\\}, \\left\\{d_{1} : r_{715}, d_{2} : \\frac{r_{715}}{x_{12}}, d_{3} : \\frac{r_{715}}{x_{12} x_{23}}, d_{4} : \\frac{r_{715}}{x_{12} x_{23} x_{34}}, d_{5} : r_{716}, a_{12} : r_{717}, a_{13} : r_{718}, a_{14} : r_{719}, a_{15} : r_{720}, a_{23} : \\frac{r_{717} x_{12} x_{23} - r_{715} x_{13}}{x_{12}^{2} x_{23}}, a_{24} : \\frac{r_{718} x_{12}^{2} x_{23}^{2} - r_{717} x_{12} x_{13} x_{23} + r_{715} x_{13}^{2}}{x_{12}^{3} x_{23}^{2}}, a_{25} : -\\frac{r_{716} x_{15} x_{23} - r_{716} x_{13} x_{25}}{x_{12} x_{23}}, a_{34} : \\frac{r_{717} x_{12} x_{23} - r_{715} x_{13}}{x_{12}^{2} x_{23}^{2}}, a_{35} : -\\frac{r_{716} x_{25}}{x_{23}}, a_{45} : -\\frac{r_{716} x_{35}}{x_{34}}\\right\\}\\right]$$"
      ],
      "text/plain": [
       "[{d1: 0,\n",
       "  d2: 0,\n",
       "  d3: 0,\n",
       "  d4: 0,\n",
       "  d5: r705,\n",
       "  a12: r706,\n",
       "  a13: r707,\n",
       "  a14: r708,\n",
       "  a15: r709,\n",
       "  a23: r710,\n",
       "  a24: r711,\n",
       "  a25: r712,\n",
       "  a34: r713,\n",
       "  a35: r714,\n",
       "  a45: -r705*x35/x34},\n",
       " {d1: r715,\n",
       "  d2: r715/x12,\n",
       "  d3: r715/(x12*x23),\n",
       "  d4: r715/(x12*x23*x34),\n",
       "  d5: r716,\n",
       "  a12: r717,\n",
       "  a13: r718,\n",
       "  a14: r719,\n",
       "  a15: r720,\n",
       "  a23: (r717*x12*x23 - r715*x13)/(x12^2*x23),\n",
       "  a24: (r718*x12^2*x23^2 - r717*x12*x13*x23 + r715*x13^2)/(x12^3*x23^2),\n",
       "  a25: -(r716*x15*x23 - r716*x13*x25)/(x12*x23),\n",
       "  a34: (r717*x12*x23 - r715*x13)/(x12^2*x23^2),\n",
       "  a35: -r716*x25/x23,\n",
       "  a45: -r716*x35/x34}]"
      ]
     },
     "metadata": {},
     "output_type": "display_data"
    },
    {
     "data": {
      "text/plain": [
       "\\left[\\left\\{d_{1} : 0, d_{2} : 0, d_{3} : 0, d_{4} : 0, d_{5} : r_{705}, a_{12} : r_{706}, a_{13} : r_{707}, a_{14} : r_{708}, a_{15} : r_{709}, a_{23} : r_{710}, a_{24} : r_{711}, a_{25} : r_{712}, a_{34} : r_{713}, a_{35} : r_{714}, a_{45} : -\\frac{r_{705} x_{35}}{x_{34}}\\right\\}, \\left\\{d_{1} : r_{715}, d_{2} : \\frac{r_{715}}{x_{12}}, d_{3} : \\frac{r_{715}}{x_{12} x_{23}}, d_{4} : \\frac{r_{715}}{x_{12} x_{23} x_{34}}, d_{5} : r_{716}, a_{12} : r_{717}, a_{13} : r_{718}, a_{14} : r_{719}, a_{15} : r_{720}, a_{23} : \\frac{r_{717} x_{12} x_{23} - r_{715} x_{13}}{x_{12}^{2} x_{23}}, a_{24} : \\frac{r_{718} x_{12}^{2} x_{23}^{2} - r_{717} x_{12} x_{13} x_{23} + r_{715} x_{13}^{2}}{x_{12}^{3} x_{23}^{2}}, a_{25} : -\\frac{r_{716} x_{15} x_{23} - r_{716} x_{13} x_{25}}{x_{12} x_{23}}, a_{34} : \\frac{r_{717} x_{12} x_{23} - r_{715} x_{13}}{x_{12}^{2} x_{23}^{2}}, a_{35} : -\\frac{r_{716} x_{25}}{x_{23}}, a_{45} : -\\frac{r_{716} x_{35}}{x_{34}}\\right\\}\\right]"
      ]
     },
     "execution_count": 45,
     "metadata": {},
     "output_type": "execute_result"
    }
   ],
   "source": [
    "#x7\n",
    "reset()\n",
    "\n",
    "var('x12,x13,x14,x15,x23,x24,x25,x34,x35,x45')\n",
    "var('d1,d2,d3,d4,d5')\n",
    "var('a12,a13,a14,a15,a23,a24,a25,a34,a35,a45')\n",
    "\n",
    "load_attach_path('C:\\\\Users\\\\julia\\\\Documents\\\\unb\\\\doutorado\\\\pensar\\\\codigo_sage_v2\\\\maquina\\\\x7')\n",
    "load('out_#101101.sage')\n",
    "\n",
    "m=matrix(QQ, [[0, 1, 0, 0, 0],\n",
    "              [0, 0, 1, 0, 0],\n",
    "              [0, 0, 0, 1, 0],\n",
    "              [0, 0, 0, 0, 0],\n",
    "              [0, 0, 0, 0, 0]])\n",
    "        \n",
    "#entry of matrix: (i,j) line i collum j, means (i-1,j-1)\n",
    "sol=solve([ eq1==m[0,1],\teq2==m[0,2],\teq3==m[0,3],\teq4==m[0,4],\t\n",
    "                                            eq5==m[1,2],    eq6==m[1,3],\n",
    "                                                            eq7==m[1,4], eq8==m[2,3], eq9==m[2,4]],d1,d2,d3,d4,d5,a12,a13,a14,a15,a23,a24,a25,a34,a35,a45, solution_dict=True)\n",
    "\n",
    "show(m)\n",
    "show(sol)\n",
    "latex(sol)"
   ]
  },
  {
   "cell_type": "code",
   "execution_count": 46,
   "metadata": {},
   "outputs": [
    {
     "data": {
      "text/html": [
       "<html><script type=\"math/tex; mode=display\">\\newcommand{\\Bold}[1]{\\mathbf{#1}}\\left(\\begin{array}{rrrrr}\n",
       "0 & 1 & 0 & 0 & 0 \\\\\n",
       "0 & 0 & 1 & 0 & 0 \\\\\n",
       "0 & 0 & 0 & 1 & 0 \\\\\n",
       "0 & 0 & 0 & 0 & 0 \\\\\n",
       "0 & 0 & 0 & 0 & 0\n",
       "\\end{array}\\right)</script></html>"
      ],
      "text/latex": [
       "$$\\newcommand{\\Bold}[1]{\\mathbf{#1}}\\left(\\begin{array}{rrrrr}\n",
       "0 & 1 & 0 & 0 & 0 \\\\\n",
       "0 & 0 & 1 & 0 & 0 \\\\\n",
       "0 & 0 & 0 & 1 & 0 \\\\\n",
       "0 & 0 & 0 & 0 & 0 \\\\\n",
       "0 & 0 & 0 & 0 & 0\n",
       "\\end{array}\\right)$$"
      ],
      "text/plain": [
       "[0 1 0 0 0]\n",
       "[0 0 1 0 0]\n",
       "[0 0 0 1 0]\n",
       "[0 0 0 0 0]\n",
       "[0 0 0 0 0]"
      ]
     },
     "metadata": {},
     "output_type": "display_data"
    },
    {
     "data": {
      "text/html": [
       "<html><script type=\"math/tex; mode=display\">\\newcommand{\\Bold}[1]{\\mathbf{#1}}\\left[\\left\\{d_{1} : 0, d_{2} : 0, d_{3} : 0, d_{4} : 0, d_{5} : r_{721}, a_{12} : r_{722}, a_{13} : r_{723}, a_{14} : r_{724}, a_{15} : r_{725}, a_{23} : r_{726}, a_{24} : r_{727}, a_{25} : r_{728}, a_{34} : r_{729}, a_{35} : r_{730}, a_{45} : -\\frac{r_{721} x_{35}}{x_{34}}\\right\\}, \\left\\{d_{1} : r_{731}, d_{2} : \\frac{r_{731}}{x_{12}}, d_{3} : \\frac{r_{731}}{x_{12} x_{23}}, d_{4} : \\frac{r_{731}}{x_{12} x_{23} x_{34}}, d_{5} : r_{732}, a_{12} : r_{733}, a_{13} : r_{734}, a_{14} : r_{735}, a_{15} : r_{736}, a_{23} : \\frac{r_{733} x_{12} x_{23} - r_{731} x_{13}}{x_{12}^{2} x_{23}}, a_{24} : -\\frac{r_{731} x_{12} x_{14} x_{23} - {\\left(r_{734} x_{12}^{2} x_{23}^{2} - r_{733} x_{12} x_{13} x_{23} + r_{731} x_{13}^{2}\\right)} x_{34}}{x_{12}^{3} x_{23}^{2} x_{34}}, a_{25} : \\frac{r_{732} x_{13} x_{25} x_{34} + r_{732} x_{14} x_{23} x_{35}}{x_{12} x_{23} x_{34}}, a_{34} : \\frac{r_{733} x_{12} x_{23} - r_{731} x_{13}}{x_{12}^{2} x_{23}^{2}}, a_{35} : -\\frac{r_{732} x_{25}}{x_{23}}, a_{45} : -\\frac{r_{732} x_{35}}{x_{34}}\\right\\}\\right]</script></html>"
      ],
      "text/latex": [
       "$$\\newcommand{\\Bold}[1]{\\mathbf{#1}}\\left[\\left\\{d_{1} : 0, d_{2} : 0, d_{3} : 0, d_{4} : 0, d_{5} : r_{721}, a_{12} : r_{722}, a_{13} : r_{723}, a_{14} : r_{724}, a_{15} : r_{725}, a_{23} : r_{726}, a_{24} : r_{727}, a_{25} : r_{728}, a_{34} : r_{729}, a_{35} : r_{730}, a_{45} : -\\frac{r_{721} x_{35}}{x_{34}}\\right\\}, \\left\\{d_{1} : r_{731}, d_{2} : \\frac{r_{731}}{x_{12}}, d_{3} : \\frac{r_{731}}{x_{12} x_{23}}, d_{4} : \\frac{r_{731}}{x_{12} x_{23} x_{34}}, d_{5} : r_{732}, a_{12} : r_{733}, a_{13} : r_{734}, a_{14} : r_{735}, a_{15} : r_{736}, a_{23} : \\frac{r_{733} x_{12} x_{23} - r_{731} x_{13}}{x_{12}^{2} x_{23}}, a_{24} : -\\frac{r_{731} x_{12} x_{14} x_{23} - {\\left(r_{734} x_{12}^{2} x_{23}^{2} - r_{733} x_{12} x_{13} x_{23} + r_{731} x_{13}^{2}\\right)} x_{34}}{x_{12}^{3} x_{23}^{2} x_{34}}, a_{25} : \\frac{r_{732} x_{13} x_{25} x_{34} + r_{732} x_{14} x_{23} x_{35}}{x_{12} x_{23} x_{34}}, a_{34} : \\frac{r_{733} x_{12} x_{23} - r_{731} x_{13}}{x_{12}^{2} x_{23}^{2}}, a_{35} : -\\frac{r_{732} x_{25}}{x_{23}}, a_{45} : -\\frac{r_{732} x_{35}}{x_{34}}\\right\\}\\right]$$"
      ],
      "text/plain": [
       "[{d1: 0,\n",
       "  d2: 0,\n",
       "  d3: 0,\n",
       "  d4: 0,\n",
       "  d5: r721,\n",
       "  a12: r722,\n",
       "  a13: r723,\n",
       "  a14: r724,\n",
       "  a15: r725,\n",
       "  a23: r726,\n",
       "  a24: r727,\n",
       "  a25: r728,\n",
       "  a34: r729,\n",
       "  a35: r730,\n",
       "  a45: -r721*x35/x34},\n",
       " {d1: r731,\n",
       "  d2: r731/x12,\n",
       "  d3: r731/(x12*x23),\n",
       "  d4: r731/(x12*x23*x34),\n",
       "  d5: r732,\n",
       "  a12: r733,\n",
       "  a13: r734,\n",
       "  a14: r735,\n",
       "  a15: r736,\n",
       "  a23: (r733*x12*x23 - r731*x13)/(x12^2*x23),\n",
       "  a24: -(r731*x12*x14*x23 - (r734*x12^2*x23^2 - r733*x12*x13*x23 + r731*x13^2)*x34)/(x12^3*x23^2*x34),\n",
       "  a25: (r732*x13*x25*x34 + r732*x14*x23*x35)/(x12*x23*x34),\n",
       "  a34: (r733*x12*x23 - r731*x13)/(x12^2*x23^2),\n",
       "  a35: -r732*x25/x23,\n",
       "  a45: -r732*x35/x34}]"
      ]
     },
     "metadata": {},
     "output_type": "display_data"
    },
    {
     "data": {
      "text/plain": [
       "\\left[\\left\\{d_{1} : 0, d_{2} : 0, d_{3} : 0, d_{4} : 0, d_{5} : r_{721}, a_{12} : r_{722}, a_{13} : r_{723}, a_{14} : r_{724}, a_{15} : r_{725}, a_{23} : r_{726}, a_{24} : r_{727}, a_{25} : r_{728}, a_{34} : r_{729}, a_{35} : r_{730}, a_{45} : -\\frac{r_{721} x_{35}}{x_{34}}\\right\\}, \\left\\{d_{1} : r_{731}, d_{2} : \\frac{r_{731}}{x_{12}}, d_{3} : \\frac{r_{731}}{x_{12} x_{23}}, d_{4} : \\frac{r_{731}}{x_{12} x_{23} x_{34}}, d_{5} : r_{732}, a_{12} : r_{733}, a_{13} : r_{734}, a_{14} : r_{735}, a_{15} : r_{736}, a_{23} : \\frac{r_{733} x_{12} x_{23} - r_{731} x_{13}}{x_{12}^{2} x_{23}}, a_{24} : -\\frac{r_{731} x_{12} x_{14} x_{23} - {\\left(r_{734} x_{12}^{2} x_{23}^{2} - r_{733} x_{12} x_{13} x_{23} + r_{731} x_{13}^{2}\\right)} x_{34}}{x_{12}^{3} x_{23}^{2} x_{34}}, a_{25} : \\frac{r_{732} x_{13} x_{25} x_{34} + r_{732} x_{14} x_{23} x_{35}}{x_{12} x_{23} x_{34}}, a_{34} : \\frac{r_{733} x_{12} x_{23} - r_{731} x_{13}}{x_{12}^{2} x_{23}^{2}}, a_{35} : -\\frac{r_{732} x_{25}}{x_{23}}, a_{45} : -\\frac{r_{732} x_{35}}{x_{34}}\\right\\}\\right]"
      ]
     },
     "execution_count": 46,
     "metadata": {},
     "output_type": "execute_result"
    }
   ],
   "source": [
    "#x7\n",
    "reset()\n",
    "\n",
    "var('x12,x13,x14,x15,x23,x24,x25,x34,x35,x45')\n",
    "var('d1,d2,d3,d4,d5')\n",
    "var('a12,a13,a14,a15,a23,a24,a25,a34,a35,a45')\n",
    "\n",
    "load_attach_path('C:\\\\Users\\\\julia\\\\Documents\\\\unb\\\\doutorado\\\\pensar\\\\codigo_sage_v2\\\\maquina\\\\x7')\n",
    "load('out_#101110.sage')\n",
    "\n",
    "m=matrix(QQ, [[0, 1, 0, 0, 0],\n",
    "              [0, 0, 1, 0, 0],\n",
    "              [0, 0, 0, 1, 0],\n",
    "              [0, 0, 0, 0, 0],\n",
    "              [0, 0, 0, 0, 0]])\n",
    "        \n",
    "#entry of matrix: (i,j) line i collum j, means (i-1,j-1)\n",
    "sol=solve([ eq1==m[0,1],\teq2==m[0,2],\teq3==m[0,3],\teq4==m[0,4],\t\n",
    "                                            eq5==m[1,2],    eq6==m[1,3],\n",
    "                                                            eq7==m[1,4], eq8==m[2,3], eq9==m[2,4]],d1,d2,d3,d4,d5,a12,a13,a14,a15,a23,a24,a25,a34,a35,a45, solution_dict=True)\n",
    "\n",
    "show(m)\n",
    "show(sol)\n",
    "latex(sol)"
   ]
  },
  {
   "cell_type": "code",
   "execution_count": 47,
   "metadata": {},
   "outputs": [
    {
     "data": {
      "text/html": [
       "<html><script type=\"math/tex; mode=display\">\\newcommand{\\Bold}[1]{\\mathbf{#1}}\\left(\\begin{array}{rrrrr}\n",
       "0 & 1 & 0 & 0 & 0 \\\\\n",
       "0 & 0 & 1 & 0 & 0 \\\\\n",
       "0 & 0 & 0 & 1 & 0 \\\\\n",
       "0 & 0 & 0 & 0 & 0 \\\\\n",
       "0 & 0 & 0 & 0 & 0\n",
       "\\end{array}\\right)</script></html>"
      ],
      "text/latex": [
       "$$\\newcommand{\\Bold}[1]{\\mathbf{#1}}\\left(\\begin{array}{rrrrr}\n",
       "0 & 1 & 0 & 0 & 0 \\\\\n",
       "0 & 0 & 1 & 0 & 0 \\\\\n",
       "0 & 0 & 0 & 1 & 0 \\\\\n",
       "0 & 0 & 0 & 0 & 0 \\\\\n",
       "0 & 0 & 0 & 0 & 0\n",
       "\\end{array}\\right)$$"
      ],
      "text/plain": [
       "[0 1 0 0 0]\n",
       "[0 0 1 0 0]\n",
       "[0 0 0 1 0]\n",
       "[0 0 0 0 0]\n",
       "[0 0 0 0 0]"
      ]
     },
     "metadata": {},
     "output_type": "display_data"
    },
    {
     "data": {
      "text/html": [
       "<html><script type=\"math/tex; mode=display\">\\newcommand{\\Bold}[1]{\\mathbf{#1}}\\left[\\left\\{d_{1} : 0, d_{2} : 0, d_{3} : 0, d_{4} : 0, d_{5} : r_{737}, a_{12} : r_{738}, a_{13} : r_{739}, a_{14} : r_{740}, a_{15} : r_{741}, a_{23} : r_{742}, a_{24} : r_{743}, a_{25} : r_{744}, a_{34} : r_{745}, a_{35} : r_{746}, a_{45} : -\\frac{r_{737} x_{35}}{x_{34}}\\right\\}, \\left\\{d_{1} : r_{747}, d_{2} : \\frac{r_{747}}{x_{12}}, d_{3} : \\frac{r_{747}}{x_{12} x_{23}}, d_{4} : \\frac{r_{747}}{x_{12} x_{23} x_{34}}, d_{5} : r_{748}, a_{12} : r_{749}, a_{13} : r_{750}, a_{14} : r_{751}, a_{15} : r_{752}, a_{23} : \\frac{r_{749} x_{12} x_{23} - r_{747} x_{13}}{x_{12}^{2} x_{23}}, a_{24} : -\\frac{r_{747} x_{12} x_{14} x_{23} - {\\left(r_{750} x_{12}^{2} x_{23}^{2} - r_{749} x_{12} x_{13} x_{23} + r_{747} x_{13}^{2}\\right)} x_{34}}{x_{12}^{3} x_{23}^{2} x_{34}}, a_{25} : \\frac{r_{748} x_{14} x_{23} x_{35} - {\\left(r_{748} x_{15} x_{23} - r_{748} x_{13} x_{25}\\right)} x_{34}}{x_{12} x_{23} x_{34}}, a_{34} : \\frac{r_{749} x_{12} x_{23} - r_{747} x_{13}}{x_{12}^{2} x_{23}^{2}}, a_{35} : -\\frac{r_{748} x_{25}}{x_{23}}, a_{45} : -\\frac{r_{748} x_{35}}{x_{34}}\\right\\}\\right]</script></html>"
      ],
      "text/latex": [
       "$$\\newcommand{\\Bold}[1]{\\mathbf{#1}}\\left[\\left\\{d_{1} : 0, d_{2} : 0, d_{3} : 0, d_{4} : 0, d_{5} : r_{737}, a_{12} : r_{738}, a_{13} : r_{739}, a_{14} : r_{740}, a_{15} : r_{741}, a_{23} : r_{742}, a_{24} : r_{743}, a_{25} : r_{744}, a_{34} : r_{745}, a_{35} : r_{746}, a_{45} : -\\frac{r_{737} x_{35}}{x_{34}}\\right\\}, \\left\\{d_{1} : r_{747}, d_{2} : \\frac{r_{747}}{x_{12}}, d_{3} : \\frac{r_{747}}{x_{12} x_{23}}, d_{4} : \\frac{r_{747}}{x_{12} x_{23} x_{34}}, d_{5} : r_{748}, a_{12} : r_{749}, a_{13} : r_{750}, a_{14} : r_{751}, a_{15} : r_{752}, a_{23} : \\frac{r_{749} x_{12} x_{23} - r_{747} x_{13}}{x_{12}^{2} x_{23}}, a_{24} : -\\frac{r_{747} x_{12} x_{14} x_{23} - {\\left(r_{750} x_{12}^{2} x_{23}^{2} - r_{749} x_{12} x_{13} x_{23} + r_{747} x_{13}^{2}\\right)} x_{34}}{x_{12}^{3} x_{23}^{2} x_{34}}, a_{25} : \\frac{r_{748} x_{14} x_{23} x_{35} - {\\left(r_{748} x_{15} x_{23} - r_{748} x_{13} x_{25}\\right)} x_{34}}{x_{12} x_{23} x_{34}}, a_{34} : \\frac{r_{749} x_{12} x_{23} - r_{747} x_{13}}{x_{12}^{2} x_{23}^{2}}, a_{35} : -\\frac{r_{748} x_{25}}{x_{23}}, a_{45} : -\\frac{r_{748} x_{35}}{x_{34}}\\right\\}\\right]$$"
      ],
      "text/plain": [
       "[{d1: 0,\n",
       "  d2: 0,\n",
       "  d3: 0,\n",
       "  d4: 0,\n",
       "  d5: r737,\n",
       "  a12: r738,\n",
       "  a13: r739,\n",
       "  a14: r740,\n",
       "  a15: r741,\n",
       "  a23: r742,\n",
       "  a24: r743,\n",
       "  a25: r744,\n",
       "  a34: r745,\n",
       "  a35: r746,\n",
       "  a45: -r737*x35/x34},\n",
       " {d1: r747,\n",
       "  d2: r747/x12,\n",
       "  d3: r747/(x12*x23),\n",
       "  d4: r747/(x12*x23*x34),\n",
       "  d5: r748,\n",
       "  a12: r749,\n",
       "  a13: r750,\n",
       "  a14: r751,\n",
       "  a15: r752,\n",
       "  a23: (r749*x12*x23 - r747*x13)/(x12^2*x23),\n",
       "  a24: -(r747*x12*x14*x23 - (r750*x12^2*x23^2 - r749*x12*x13*x23 + r747*x13^2)*x34)/(x12^3*x23^2*x34),\n",
       "  a25: (r748*x14*x23*x35 - (r748*x15*x23 - r748*x13*x25)*x34)/(x12*x23*x34),\n",
       "  a34: (r749*x12*x23 - r747*x13)/(x12^2*x23^2),\n",
       "  a35: -r748*x25/x23,\n",
       "  a45: -r748*x35/x34}]"
      ]
     },
     "metadata": {},
     "output_type": "display_data"
    },
    {
     "data": {
      "text/plain": [
       "\\left[\\left\\{d_{1} : 0, d_{2} : 0, d_{3} : 0, d_{4} : 0, d_{5} : r_{737}, a_{12} : r_{738}, a_{13} : r_{739}, a_{14} : r_{740}, a_{15} : r_{741}, a_{23} : r_{742}, a_{24} : r_{743}, a_{25} : r_{744}, a_{34} : r_{745}, a_{35} : r_{746}, a_{45} : -\\frac{r_{737} x_{35}}{x_{34}}\\right\\}, \\left\\{d_{1} : r_{747}, d_{2} : \\frac{r_{747}}{x_{12}}, d_{3} : \\frac{r_{747}}{x_{12} x_{23}}, d_{4} : \\frac{r_{747}}{x_{12} x_{23} x_{34}}, d_{5} : r_{748}, a_{12} : r_{749}, a_{13} : r_{750}, a_{14} : r_{751}, a_{15} : r_{752}, a_{23} : \\frac{r_{749} x_{12} x_{23} - r_{747} x_{13}}{x_{12}^{2} x_{23}}, a_{24} : -\\frac{r_{747} x_{12} x_{14} x_{23} - {\\left(r_{750} x_{12}^{2} x_{23}^{2} - r_{749} x_{12} x_{13} x_{23} + r_{747} x_{13}^{2}\\right)} x_{34}}{x_{12}^{3} x_{23}^{2} x_{34}}, a_{25} : \\frac{r_{748} x_{14} x_{23} x_{35} - {\\left(r_{748} x_{15} x_{23} - r_{748} x_{13} x_{25}\\right)} x_{34}}{x_{12} x_{23} x_{34}}, a_{34} : \\frac{r_{749} x_{12} x_{23} - r_{747} x_{13}}{x_{12}^{2} x_{23}^{2}}, a_{35} : -\\frac{r_{748} x_{25}}{x_{23}}, a_{45} : -\\frac{r_{748} x_{35}}{x_{34}}\\right\\}\\right]"
      ]
     },
     "execution_count": 47,
     "metadata": {},
     "output_type": "execute_result"
    }
   ],
   "source": [
    "#x7\n",
    "reset()\n",
    "\n",
    "var('x12,x13,x14,x15,x23,x24,x25,x34,x35,x45')\n",
    "var('d1,d2,d3,d4,d5')\n",
    "var('a12,a13,a14,a15,a23,a24,a25,a34,a35,a45')\n",
    "\n",
    "load_attach_path('C:\\\\Users\\\\julia\\\\Documents\\\\unb\\\\doutorado\\\\pensar\\\\codigo_sage_v2\\\\maquina\\\\x7')\n",
    "load('out_#101111.sage')\n",
    "\n",
    "m=matrix(QQ, [[0, 1, 0, 0, 0],\n",
    "              [0, 0, 1, 0, 0],\n",
    "              [0, 0, 0, 1, 0],\n",
    "              [0, 0, 0, 0, 0],\n",
    "              [0, 0, 0, 0, 0]])\n",
    "        \n",
    "#entry of matrix: (i,j) line i collum j, means (i-1,j-1)\n",
    "sol=solve([ eq1==m[0,1],\teq2==m[0,2],\teq3==m[0,3],\teq4==m[0,4],\t\n",
    "                                            eq5==m[1,2],    eq6==m[1,3],\n",
    "                                                            eq7==m[1,4], eq8==m[2,3], eq9==m[2,4]],d1,d2,d3,d4,d5,a12,a13,a14,a15,a23,a24,a25,a34,a35,a45, solution_dict=True)\n",
    "\n",
    "show(m)\n",
    "show(sol)\n",
    "latex(sol)"
   ]
  },
  {
   "cell_type": "code",
   "execution_count": 48,
   "metadata": {},
   "outputs": [
    {
     "data": {
      "text/html": [
       "<html><script type=\"math/tex; mode=display\">\\newcommand{\\Bold}[1]{\\mathbf{#1}}\\left(\\begin{array}{rrrrr}\n",
       "0 & 1 & 0 & 0 & 0 \\\\\n",
       "0 & 0 & 1 & 0 & 0 \\\\\n",
       "0 & 0 & 0 & 1 & 0 \\\\\n",
       "0 & 0 & 0 & 0 & 0 \\\\\n",
       "0 & 0 & 0 & 0 & 0\n",
       "\\end{array}\\right)</script></html>"
      ],
      "text/latex": [
       "$$\\newcommand{\\Bold}[1]{\\mathbf{#1}}\\left(\\begin{array}{rrrrr}\n",
       "0 & 1 & 0 & 0 & 0 \\\\\n",
       "0 & 0 & 1 & 0 & 0 \\\\\n",
       "0 & 0 & 0 & 1 & 0 \\\\\n",
       "0 & 0 & 0 & 0 & 0 \\\\\n",
       "0 & 0 & 0 & 0 & 0\n",
       "\\end{array}\\right)$$"
      ],
      "text/plain": [
       "[0 1 0 0 0]\n",
       "[0 0 1 0 0]\n",
       "[0 0 0 1 0]\n",
       "[0 0 0 0 0]\n",
       "[0 0 0 0 0]"
      ]
     },
     "metadata": {},
     "output_type": "display_data"
    },
    {
     "data": {
      "text/html": [
       "<html><script type=\"math/tex; mode=display\">\\newcommand{\\Bold}[1]{\\mathbf{#1}}\\left[\\left\\{d_{1} : 0, d_{2} : 0, d_{3} : 0, d_{4} : 0, d_{5} : r_{753}, a_{12} : r_{754}, a_{13} : r_{755}, a_{14} : r_{756}, a_{15} : r_{757}, a_{23} : r_{758}, a_{24} : r_{759}, a_{25} : r_{760}, a_{34} : r_{761}, a_{35} : r_{762}, a_{45} : -\\frac{r_{753} x_{35}}{x_{34}}\\right\\}, \\left\\{d_{1} : r_{763}, d_{2} : \\frac{r_{763}}{x_{12}}, d_{3} : \\frac{r_{763}}{x_{12} x_{23}}, d_{4} : \\frac{r_{763}}{x_{12} x_{23} x_{34}}, d_{5} : r_{764}, a_{12} : r_{765}, a_{13} : r_{766}, a_{14} : r_{767}, a_{15} : r_{768}, a_{23} : \\frac{r_{765}}{x_{12}}, a_{24} : \\frac{r_{766}}{x_{12}}, a_{25} : 0, a_{34} : \\frac{r_{765} x_{23} x_{34} - r_{763} x_{24}}{x_{12} x_{23}^{2} x_{34}}, a_{35} : \\frac{r_{764} x_{24} x_{35}}{x_{23} x_{34}}, a_{45} : -\\frac{r_{764} x_{35}}{x_{34}}\\right\\}\\right]</script></html>"
      ],
      "text/latex": [
       "$$\\newcommand{\\Bold}[1]{\\mathbf{#1}}\\left[\\left\\{d_{1} : 0, d_{2} : 0, d_{3} : 0, d_{4} : 0, d_{5} : r_{753}, a_{12} : r_{754}, a_{13} : r_{755}, a_{14} : r_{756}, a_{15} : r_{757}, a_{23} : r_{758}, a_{24} : r_{759}, a_{25} : r_{760}, a_{34} : r_{761}, a_{35} : r_{762}, a_{45} : -\\frac{r_{753} x_{35}}{x_{34}}\\right\\}, \\left\\{d_{1} : r_{763}, d_{2} : \\frac{r_{763}}{x_{12}}, d_{3} : \\frac{r_{763}}{x_{12} x_{23}}, d_{4} : \\frac{r_{763}}{x_{12} x_{23} x_{34}}, d_{5} : r_{764}, a_{12} : r_{765}, a_{13} : r_{766}, a_{14} : r_{767}, a_{15} : r_{768}, a_{23} : \\frac{r_{765}}{x_{12}}, a_{24} : \\frac{r_{766}}{x_{12}}, a_{25} : 0, a_{34} : \\frac{r_{765} x_{23} x_{34} - r_{763} x_{24}}{x_{12} x_{23}^{2} x_{34}}, a_{35} : \\frac{r_{764} x_{24} x_{35}}{x_{23} x_{34}}, a_{45} : -\\frac{r_{764} x_{35}}{x_{34}}\\right\\}\\right]$$"
      ],
      "text/plain": [
       "[{d1: 0,\n",
       "  d2: 0,\n",
       "  d3: 0,\n",
       "  d4: 0,\n",
       "  d5: r753,\n",
       "  a12: r754,\n",
       "  a13: r755,\n",
       "  a14: r756,\n",
       "  a15: r757,\n",
       "  a23: r758,\n",
       "  a24: r759,\n",
       "  a25: r760,\n",
       "  a34: r761,\n",
       "  a35: r762,\n",
       "  a45: -r753*x35/x34},\n",
       " {d1: r763,\n",
       "  d2: r763/x12,\n",
       "  d3: r763/(x12*x23),\n",
       "  d4: r763/(x12*x23*x34),\n",
       "  d5: r764,\n",
       "  a12: r765,\n",
       "  a13: r766,\n",
       "  a14: r767,\n",
       "  a15: r768,\n",
       "  a23: r765/x12,\n",
       "  a24: r766/x12,\n",
       "  a25: 0,\n",
       "  a34: (r765*x23*x34 - r763*x24)/(x12*x23^2*x34),\n",
       "  a35: r764*x24*x35/(x23*x34),\n",
       "  a45: -r764*x35/x34}]"
      ]
     },
     "metadata": {},
     "output_type": "display_data"
    },
    {
     "data": {
      "text/plain": [
       "\\left[\\left\\{d_{1} : 0, d_{2} : 0, d_{3} : 0, d_{4} : 0, d_{5} : r_{753}, a_{12} : r_{754}, a_{13} : r_{755}, a_{14} : r_{756}, a_{15} : r_{757}, a_{23} : r_{758}, a_{24} : r_{759}, a_{25} : r_{760}, a_{34} : r_{761}, a_{35} : r_{762}, a_{45} : -\\frac{r_{753} x_{35}}{x_{34}}\\right\\}, \\left\\{d_{1} : r_{763}, d_{2} : \\frac{r_{763}}{x_{12}}, d_{3} : \\frac{r_{763}}{x_{12} x_{23}}, d_{4} : \\frac{r_{763}}{x_{12} x_{23} x_{34}}, d_{5} : r_{764}, a_{12} : r_{765}, a_{13} : r_{766}, a_{14} : r_{767}, a_{15} : r_{768}, a_{23} : \\frac{r_{765}}{x_{12}}, a_{24} : \\frac{r_{766}}{x_{12}}, a_{25} : 0, a_{34} : \\frac{r_{765} x_{23} x_{34} - r_{763} x_{24}}{x_{12} x_{23}^{2} x_{34}}, a_{35} : \\frac{r_{764} x_{24} x_{35}}{x_{23} x_{34}}, a_{45} : -\\frac{r_{764} x_{35}}{x_{34}}\\right\\}\\right]"
      ]
     },
     "execution_count": 48,
     "metadata": {},
     "output_type": "execute_result"
    }
   ],
   "source": [
    "#x7\n",
    "reset()\n",
    "\n",
    "var('x12,x13,x14,x15,x23,x24,x25,x34,x35,x45')\n",
    "var('d1,d2,d3,d4,d5')\n",
    "var('a12,a13,a14,a15,a23,a24,a25,a34,a35,a45')\n",
    "\n",
    "load_attach_path('C:\\\\Users\\\\julia\\\\Documents\\\\unb\\\\doutorado\\\\pensar\\\\codigo_sage_v2\\\\maquina\\\\x7')\n",
    "load('out_#110000.sage')\n",
    "\n",
    "m=matrix(QQ, [[0, 1, 0, 0, 0],\n",
    "              [0, 0, 1, 0, 0],\n",
    "              [0, 0, 0, 1, 0],\n",
    "              [0, 0, 0, 0, 0],\n",
    "              [0, 0, 0, 0, 0]])\n",
    "        \n",
    "#entry of matrix: (i,j) line i collum j, means (i-1,j-1)\n",
    "sol=solve([ eq1==m[0,1],\teq2==m[0,2],\teq3==m[0,3],\teq4==m[0,4],\t\n",
    "                                            eq5==m[1,2],    eq6==m[1,3],\n",
    "                                                            eq7==m[1,4], eq8==m[2,3], eq9==m[2,4]],d1,d2,d3,d4,d5,a12,a13,a14,a15,a23,a24,a25,a34,a35,a45, solution_dict=True)\n",
    "\n",
    "show(m)\n",
    "show(sol)\n",
    "latex(sol)"
   ]
  },
  {
   "cell_type": "code",
   "execution_count": 49,
   "metadata": {},
   "outputs": [
    {
     "data": {
      "text/html": [
       "<html><script type=\"math/tex; mode=display\">\\newcommand{\\Bold}[1]{\\mathbf{#1}}\\left(\\begin{array}{rrrrr}\n",
       "0 & 1 & 0 & 0 & 0 \\\\\n",
       "0 & 0 & 1 & 0 & 0 \\\\\n",
       "0 & 0 & 0 & 1 & 0 \\\\\n",
       "0 & 0 & 0 & 0 & 0 \\\\\n",
       "0 & 0 & 0 & 0 & 0\n",
       "\\end{array}\\right)</script></html>"
      ],
      "text/latex": [
       "$$\\newcommand{\\Bold}[1]{\\mathbf{#1}}\\left(\\begin{array}{rrrrr}\n",
       "0 & 1 & 0 & 0 & 0 \\\\\n",
       "0 & 0 & 1 & 0 & 0 \\\\\n",
       "0 & 0 & 0 & 1 & 0 \\\\\n",
       "0 & 0 & 0 & 0 & 0 \\\\\n",
       "0 & 0 & 0 & 0 & 0\n",
       "\\end{array}\\right)$$"
      ],
      "text/plain": [
       "[0 1 0 0 0]\n",
       "[0 0 1 0 0]\n",
       "[0 0 0 1 0]\n",
       "[0 0 0 0 0]\n",
       "[0 0 0 0 0]"
      ]
     },
     "metadata": {},
     "output_type": "display_data"
    },
    {
     "data": {
      "text/html": [
       "<html><script type=\"math/tex; mode=display\">\\newcommand{\\Bold}[1]{\\mathbf{#1}}\\left[\\left\\{d_{1} : 0, d_{2} : 0, d_{3} : 0, d_{4} : 0, d_{5} : r_{769}, a_{12} : r_{770}, a_{13} : r_{771}, a_{14} : r_{772}, a_{15} : r_{773}, a_{23} : r_{774}, a_{24} : r_{775}, a_{25} : r_{776}, a_{34} : r_{777}, a_{35} : r_{778}, a_{45} : -\\frac{r_{769} x_{35}}{x_{34}}\\right\\}, \\left\\{d_{1} : r_{779}, d_{2} : \\frac{r_{779}}{x_{12}}, d_{3} : \\frac{r_{779}}{x_{12} x_{23}}, d_{4} : \\frac{r_{779}}{x_{12} x_{23} x_{34}}, d_{5} : r_{780}, a_{12} : r_{781}, a_{13} : r_{782}, a_{14} : r_{783}, a_{15} : r_{784}, a_{23} : \\frac{r_{781}}{x_{12}}, a_{24} : \\frac{r_{782}}{x_{12}}, a_{25} : -\\frac{r_{780} x_{15}}{x_{12}}, a_{34} : \\frac{r_{781} x_{23} x_{34} - r_{779} x_{24}}{x_{12} x_{23}^{2} x_{34}}, a_{35} : \\frac{r_{780} x_{24} x_{35}}{x_{23} x_{34}}, a_{45} : -\\frac{r_{780} x_{35}}{x_{34}}\\right\\}\\right]</script></html>"
      ],
      "text/latex": [
       "$$\\newcommand{\\Bold}[1]{\\mathbf{#1}}\\left[\\left\\{d_{1} : 0, d_{2} : 0, d_{3} : 0, d_{4} : 0, d_{5} : r_{769}, a_{12} : r_{770}, a_{13} : r_{771}, a_{14} : r_{772}, a_{15} : r_{773}, a_{23} : r_{774}, a_{24} : r_{775}, a_{25} : r_{776}, a_{34} : r_{777}, a_{35} : r_{778}, a_{45} : -\\frac{r_{769} x_{35}}{x_{34}}\\right\\}, \\left\\{d_{1} : r_{779}, d_{2} : \\frac{r_{779}}{x_{12}}, d_{3} : \\frac{r_{779}}{x_{12} x_{23}}, d_{4} : \\frac{r_{779}}{x_{12} x_{23} x_{34}}, d_{5} : r_{780}, a_{12} : r_{781}, a_{13} : r_{782}, a_{14} : r_{783}, a_{15} : r_{784}, a_{23} : \\frac{r_{781}}{x_{12}}, a_{24} : \\frac{r_{782}}{x_{12}}, a_{25} : -\\frac{r_{780} x_{15}}{x_{12}}, a_{34} : \\frac{r_{781} x_{23} x_{34} - r_{779} x_{24}}{x_{12} x_{23}^{2} x_{34}}, a_{35} : \\frac{r_{780} x_{24} x_{35}}{x_{23} x_{34}}, a_{45} : -\\frac{r_{780} x_{35}}{x_{34}}\\right\\}\\right]$$"
      ],
      "text/plain": [
       "[{d1: 0,\n",
       "  d2: 0,\n",
       "  d3: 0,\n",
       "  d4: 0,\n",
       "  d5: r769,\n",
       "  a12: r770,\n",
       "  a13: r771,\n",
       "  a14: r772,\n",
       "  a15: r773,\n",
       "  a23: r774,\n",
       "  a24: r775,\n",
       "  a25: r776,\n",
       "  a34: r777,\n",
       "  a35: r778,\n",
       "  a45: -r769*x35/x34},\n",
       " {d1: r779,\n",
       "  d2: r779/x12,\n",
       "  d3: r779/(x12*x23),\n",
       "  d4: r779/(x12*x23*x34),\n",
       "  d5: r780,\n",
       "  a12: r781,\n",
       "  a13: r782,\n",
       "  a14: r783,\n",
       "  a15: r784,\n",
       "  a23: r781/x12,\n",
       "  a24: r782/x12,\n",
       "  a25: -r780*x15/x12,\n",
       "  a34: (r781*x23*x34 - r779*x24)/(x12*x23^2*x34),\n",
       "  a35: r780*x24*x35/(x23*x34),\n",
       "  a45: -r780*x35/x34}]"
      ]
     },
     "metadata": {},
     "output_type": "display_data"
    },
    {
     "data": {
      "text/plain": [
       "\\left[\\left\\{d_{1} : 0, d_{2} : 0, d_{3} : 0, d_{4} : 0, d_{5} : r_{769}, a_{12} : r_{770}, a_{13} : r_{771}, a_{14} : r_{772}, a_{15} : r_{773}, a_{23} : r_{774}, a_{24} : r_{775}, a_{25} : r_{776}, a_{34} : r_{777}, a_{35} : r_{778}, a_{45} : -\\frac{r_{769} x_{35}}{x_{34}}\\right\\}, \\left\\{d_{1} : r_{779}, d_{2} : \\frac{r_{779}}{x_{12}}, d_{3} : \\frac{r_{779}}{x_{12} x_{23}}, d_{4} : \\frac{r_{779}}{x_{12} x_{23} x_{34}}, d_{5} : r_{780}, a_{12} : r_{781}, a_{13} : r_{782}, a_{14} : r_{783}, a_{15} : r_{784}, a_{23} : \\frac{r_{781}}{x_{12}}, a_{24} : \\frac{r_{782}}{x_{12}}, a_{25} : -\\frac{r_{780} x_{15}}{x_{12}}, a_{34} : \\frac{r_{781} x_{23} x_{34} - r_{779} x_{24}}{x_{12} x_{23}^{2} x_{34}}, a_{35} : \\frac{r_{780} x_{24} x_{35}}{x_{23} x_{34}}, a_{45} : -\\frac{r_{780} x_{35}}{x_{34}}\\right\\}\\right]"
      ]
     },
     "execution_count": 49,
     "metadata": {},
     "output_type": "execute_result"
    }
   ],
   "source": [
    "#x7\n",
    "reset()\n",
    "\n",
    "var('x12,x13,x14,x15,x23,x24,x25,x34,x35,x45')\n",
    "var('d1,d2,d3,d4,d5')\n",
    "var('a12,a13,a14,a15,a23,a24,a25,a34,a35,a45')\n",
    "\n",
    "load_attach_path('C:\\\\Users\\\\julia\\\\Documents\\\\unb\\\\doutorado\\\\pensar\\\\codigo_sage_v2\\\\maquina\\\\x7')\n",
    "load('out_#110001.sage')\n",
    "\n",
    "m=matrix(QQ, [[0, 1, 0, 0, 0],\n",
    "              [0, 0, 1, 0, 0],\n",
    "              [0, 0, 0, 1, 0],\n",
    "              [0, 0, 0, 0, 0],\n",
    "              [0, 0, 0, 0, 0]])\n",
    "        \n",
    "#entry of matrix: (i,j) line i collum j, means (i-1,j-1)\n",
    "sol=solve([ eq1==m[0,1],\teq2==m[0,2],\teq3==m[0,3],\teq4==m[0,4],\t\n",
    "                                            eq5==m[1,2],    eq6==m[1,3],\n",
    "                                                            eq7==m[1,4], eq8==m[2,3], eq9==m[2,4]],d1,d2,d3,d4,d5,a12,a13,a14,a15,a23,a24,a25,a34,a35,a45, solution_dict=True)\n",
    "\n",
    "show(m)\n",
    "show(sol)\n",
    "latex(sol)"
   ]
  },
  {
   "cell_type": "code",
   "execution_count": 50,
   "metadata": {},
   "outputs": [
    {
     "data": {
      "text/html": [
       "<html><script type=\"math/tex; mode=display\">\\newcommand{\\Bold}[1]{\\mathbf{#1}}\\left(\\begin{array}{rrrrr}\n",
       "0 & 1 & 0 & 0 & 0 \\\\\n",
       "0 & 0 & 1 & 0 & 0 \\\\\n",
       "0 & 0 & 0 & 1 & 0 \\\\\n",
       "0 & 0 & 0 & 0 & 0 \\\\\n",
       "0 & 0 & 0 & 0 & 0\n",
       "\\end{array}\\right)</script></html>"
      ],
      "text/latex": [
       "$$\\newcommand{\\Bold}[1]{\\mathbf{#1}}\\left(\\begin{array}{rrrrr}\n",
       "0 & 1 & 0 & 0 & 0 \\\\\n",
       "0 & 0 & 1 & 0 & 0 \\\\\n",
       "0 & 0 & 0 & 1 & 0 \\\\\n",
       "0 & 0 & 0 & 0 & 0 \\\\\n",
       "0 & 0 & 0 & 0 & 0\n",
       "\\end{array}\\right)$$"
      ],
      "text/plain": [
       "[0 1 0 0 0]\n",
       "[0 0 1 0 0]\n",
       "[0 0 0 1 0]\n",
       "[0 0 0 0 0]\n",
       "[0 0 0 0 0]"
      ]
     },
     "metadata": {},
     "output_type": "display_data"
    },
    {
     "data": {
      "text/html": [
       "<html><script type=\"math/tex; mode=display\">\\newcommand{\\Bold}[1]{\\mathbf{#1}}\\left[\\left\\{d_{1} : 0, d_{2} : 0, d_{3} : 0, d_{4} : 0, d_{5} : r_{785}, a_{12} : r_{786}, a_{13} : r_{787}, a_{14} : r_{788}, a_{15} : r_{789}, a_{23} : r_{790}, a_{24} : r_{791}, a_{25} : r_{792}, a_{34} : r_{793}, a_{35} : r_{794}, a_{45} : -\\frac{r_{785} x_{35}}{x_{34}}\\right\\}, \\left\\{d_{1} : r_{795}, d_{2} : \\frac{r_{795}}{x_{12}}, d_{3} : \\frac{r_{795}}{x_{12} x_{23}}, d_{4} : \\frac{r_{795}}{x_{12} x_{23} x_{34}}, d_{5} : r_{796}, a_{12} : r_{797}, a_{13} : r_{798}, a_{14} : r_{799}, a_{15} : r_{800}, a_{23} : \\frac{r_{797}}{x_{12}}, a_{24} : \\frac{r_{798} x_{12} x_{23} x_{34} - r_{795} x_{14}}{x_{12}^{2} x_{23} x_{34}}, a_{25} : \\frac{r_{796} x_{14} x_{35}}{x_{12} x_{34}}, a_{34} : \\frac{r_{797} x_{23} x_{34} - r_{795} x_{24}}{x_{12} x_{23}^{2} x_{34}}, a_{35} : \\frac{r_{796} x_{24} x_{35}}{x_{23} x_{34}}, a_{45} : -\\frac{r_{796} x_{35}}{x_{34}}\\right\\}\\right]</script></html>"
      ],
      "text/latex": [
       "$$\\newcommand{\\Bold}[1]{\\mathbf{#1}}\\left[\\left\\{d_{1} : 0, d_{2} : 0, d_{3} : 0, d_{4} : 0, d_{5} : r_{785}, a_{12} : r_{786}, a_{13} : r_{787}, a_{14} : r_{788}, a_{15} : r_{789}, a_{23} : r_{790}, a_{24} : r_{791}, a_{25} : r_{792}, a_{34} : r_{793}, a_{35} : r_{794}, a_{45} : -\\frac{r_{785} x_{35}}{x_{34}}\\right\\}, \\left\\{d_{1} : r_{795}, d_{2} : \\frac{r_{795}}{x_{12}}, d_{3} : \\frac{r_{795}}{x_{12} x_{23}}, d_{4} : \\frac{r_{795}}{x_{12} x_{23} x_{34}}, d_{5} : r_{796}, a_{12} : r_{797}, a_{13} : r_{798}, a_{14} : r_{799}, a_{15} : r_{800}, a_{23} : \\frac{r_{797}}{x_{12}}, a_{24} : \\frac{r_{798} x_{12} x_{23} x_{34} - r_{795} x_{14}}{x_{12}^{2} x_{23} x_{34}}, a_{25} : \\frac{r_{796} x_{14} x_{35}}{x_{12} x_{34}}, a_{34} : \\frac{r_{797} x_{23} x_{34} - r_{795} x_{24}}{x_{12} x_{23}^{2} x_{34}}, a_{35} : \\frac{r_{796} x_{24} x_{35}}{x_{23} x_{34}}, a_{45} : -\\frac{r_{796} x_{35}}{x_{34}}\\right\\}\\right]$$"
      ],
      "text/plain": [
       "[{d1: 0,\n",
       "  d2: 0,\n",
       "  d3: 0,\n",
       "  d4: 0,\n",
       "  d5: r785,\n",
       "  a12: r786,\n",
       "  a13: r787,\n",
       "  a14: r788,\n",
       "  a15: r789,\n",
       "  a23: r790,\n",
       "  a24: r791,\n",
       "  a25: r792,\n",
       "  a34: r793,\n",
       "  a35: r794,\n",
       "  a45: -r785*x35/x34},\n",
       " {d1: r795,\n",
       "  d2: r795/x12,\n",
       "  d3: r795/(x12*x23),\n",
       "  d4: r795/(x12*x23*x34),\n",
       "  d5: r796,\n",
       "  a12: r797,\n",
       "  a13: r798,\n",
       "  a14: r799,\n",
       "  a15: r800,\n",
       "  a23: r797/x12,\n",
       "  a24: (r798*x12*x23*x34 - r795*x14)/(x12^2*x23*x34),\n",
       "  a25: r796*x14*x35/(x12*x34),\n",
       "  a34: (r797*x23*x34 - r795*x24)/(x12*x23^2*x34),\n",
       "  a35: r796*x24*x35/(x23*x34),\n",
       "  a45: -r796*x35/x34}]"
      ]
     },
     "metadata": {},
     "output_type": "display_data"
    },
    {
     "data": {
      "text/plain": [
       "\\left[\\left\\{d_{1} : 0, d_{2} : 0, d_{3} : 0, d_{4} : 0, d_{5} : r_{785}, a_{12} : r_{786}, a_{13} : r_{787}, a_{14} : r_{788}, a_{15} : r_{789}, a_{23} : r_{790}, a_{24} : r_{791}, a_{25} : r_{792}, a_{34} : r_{793}, a_{35} : r_{794}, a_{45} : -\\frac{r_{785} x_{35}}{x_{34}}\\right\\}, \\left\\{d_{1} : r_{795}, d_{2} : \\frac{r_{795}}{x_{12}}, d_{3} : \\frac{r_{795}}{x_{12} x_{23}}, d_{4} : \\frac{r_{795}}{x_{12} x_{23} x_{34}}, d_{5} : r_{796}, a_{12} : r_{797}, a_{13} : r_{798}, a_{14} : r_{799}, a_{15} : r_{800}, a_{23} : \\frac{r_{797}}{x_{12}}, a_{24} : \\frac{r_{798} x_{12} x_{23} x_{34} - r_{795} x_{14}}{x_{12}^{2} x_{23} x_{34}}, a_{25} : \\frac{r_{796} x_{14} x_{35}}{x_{12} x_{34}}, a_{34} : \\frac{r_{797} x_{23} x_{34} - r_{795} x_{24}}{x_{12} x_{23}^{2} x_{34}}, a_{35} : \\frac{r_{796} x_{24} x_{35}}{x_{23} x_{34}}, a_{45} : -\\frac{r_{796} x_{35}}{x_{34}}\\right\\}\\right]"
      ]
     },
     "execution_count": 50,
     "metadata": {},
     "output_type": "execute_result"
    }
   ],
   "source": [
    "#x7\n",
    "reset()\n",
    "\n",
    "var('x12,x13,x14,x15,x23,x24,x25,x34,x35,x45')\n",
    "var('d1,d2,d3,d4,d5')\n",
    "var('a12,a13,a14,a15,a23,a24,a25,a34,a35,a45')\n",
    "\n",
    "load_attach_path('C:\\\\Users\\\\julia\\\\Documents\\\\unb\\\\doutorado\\\\pensar\\\\codigo_sage_v2\\\\maquina\\\\x7')\n",
    "load('out_#110010.sage')\n",
    "\n",
    "m=matrix(QQ, [[0, 1, 0, 0, 0],\n",
    "              [0, 0, 1, 0, 0],\n",
    "              [0, 0, 0, 1, 0],\n",
    "              [0, 0, 0, 0, 0],\n",
    "              [0, 0, 0, 0, 0]])\n",
    "        \n",
    "#entry of matrix: (i,j) line i collum j, means (i-1,j-1)\n",
    "sol=solve([ eq1==m[0,1],\teq2==m[0,2],\teq3==m[0,3],\teq4==m[0,4],\t\n",
    "                                            eq5==m[1,2],    eq6==m[1,3],\n",
    "                                                            eq7==m[1,4], eq8==m[2,3], eq9==m[2,4]],d1,d2,d3,d4,d5,a12,a13,a14,a15,a23,a24,a25,a34,a35,a45, solution_dict=True)\n",
    "\n",
    "show(m)\n",
    "show(sol)\n",
    "latex(sol)"
   ]
  },
  {
   "cell_type": "code",
   "execution_count": 51,
   "metadata": {},
   "outputs": [
    {
     "data": {
      "text/html": [
       "<html><script type=\"math/tex; mode=display\">\\newcommand{\\Bold}[1]{\\mathbf{#1}}\\left(\\begin{array}{rrrrr}\n",
       "0 & 1 & 0 & 0 & 0 \\\\\n",
       "0 & 0 & 1 & 0 & 0 \\\\\n",
       "0 & 0 & 0 & 1 & 0 \\\\\n",
       "0 & 0 & 0 & 0 & 0 \\\\\n",
       "0 & 0 & 0 & 0 & 0\n",
       "\\end{array}\\right)</script></html>"
      ],
      "text/latex": [
       "$$\\newcommand{\\Bold}[1]{\\mathbf{#1}}\\left(\\begin{array}{rrrrr}\n",
       "0 & 1 & 0 & 0 & 0 \\\\\n",
       "0 & 0 & 1 & 0 & 0 \\\\\n",
       "0 & 0 & 0 & 1 & 0 \\\\\n",
       "0 & 0 & 0 & 0 & 0 \\\\\n",
       "0 & 0 & 0 & 0 & 0\n",
       "\\end{array}\\right)$$"
      ],
      "text/plain": [
       "[0 1 0 0 0]\n",
       "[0 0 1 0 0]\n",
       "[0 0 0 1 0]\n",
       "[0 0 0 0 0]\n",
       "[0 0 0 0 0]"
      ]
     },
     "metadata": {},
     "output_type": "display_data"
    },
    {
     "data": {
      "text/html": [
       "<html><script type=\"math/tex; mode=display\">\\newcommand{\\Bold}[1]{\\mathbf{#1}}\\left[\\left\\{d_{1} : 0, d_{2} : 0, d_{3} : 0, d_{4} : 0, d_{5} : r_{801}, a_{12} : r_{802}, a_{13} : r_{803}, a_{14} : r_{804}, a_{15} : r_{805}, a_{23} : r_{806}, a_{24} : r_{807}, a_{25} : r_{808}, a_{34} : r_{809}, a_{35} : r_{810}, a_{45} : -\\frac{r_{801} x_{35}}{x_{34}}\\right\\}, \\left\\{d_{1} : r_{811}, d_{2} : \\frac{r_{811}}{x_{12}}, d_{3} : \\frac{r_{811}}{x_{12} x_{23}}, d_{4} : \\frac{r_{811}}{x_{12} x_{23} x_{34}}, d_{5} : r_{812}, a_{12} : r_{813}, a_{13} : r_{814}, a_{14} : r_{815}, a_{15} : r_{816}, a_{23} : \\frac{r_{813}}{x_{12}}, a_{24} : \\frac{r_{814} x_{12} x_{23} x_{34} - r_{811} x_{14}}{x_{12}^{2} x_{23} x_{34}}, a_{25} : -\\frac{r_{812} x_{15} x_{34} - r_{812} x_{14} x_{35}}{x_{12} x_{34}}, a_{34} : \\frac{r_{813} x_{23} x_{34} - r_{811} x_{24}}{x_{12} x_{23}^{2} x_{34}}, a_{35} : \\frac{r_{812} x_{24} x_{35}}{x_{23} x_{34}}, a_{45} : -\\frac{r_{812} x_{35}}{x_{34}}\\right\\}\\right]</script></html>"
      ],
      "text/latex": [
       "$$\\newcommand{\\Bold}[1]{\\mathbf{#1}}\\left[\\left\\{d_{1} : 0, d_{2} : 0, d_{3} : 0, d_{4} : 0, d_{5} : r_{801}, a_{12} : r_{802}, a_{13} : r_{803}, a_{14} : r_{804}, a_{15} : r_{805}, a_{23} : r_{806}, a_{24} : r_{807}, a_{25} : r_{808}, a_{34} : r_{809}, a_{35} : r_{810}, a_{45} : -\\frac{r_{801} x_{35}}{x_{34}}\\right\\}, \\left\\{d_{1} : r_{811}, d_{2} : \\frac{r_{811}}{x_{12}}, d_{3} : \\frac{r_{811}}{x_{12} x_{23}}, d_{4} : \\frac{r_{811}}{x_{12} x_{23} x_{34}}, d_{5} : r_{812}, a_{12} : r_{813}, a_{13} : r_{814}, a_{14} : r_{815}, a_{15} : r_{816}, a_{23} : \\frac{r_{813}}{x_{12}}, a_{24} : \\frac{r_{814} x_{12} x_{23} x_{34} - r_{811} x_{14}}{x_{12}^{2} x_{23} x_{34}}, a_{25} : -\\frac{r_{812} x_{15} x_{34} - r_{812} x_{14} x_{35}}{x_{12} x_{34}}, a_{34} : \\frac{r_{813} x_{23} x_{34} - r_{811} x_{24}}{x_{12} x_{23}^{2} x_{34}}, a_{35} : \\frac{r_{812} x_{24} x_{35}}{x_{23} x_{34}}, a_{45} : -\\frac{r_{812} x_{35}}{x_{34}}\\right\\}\\right]$$"
      ],
      "text/plain": [
       "[{d1: 0,\n",
       "  d2: 0,\n",
       "  d3: 0,\n",
       "  d4: 0,\n",
       "  d5: r801,\n",
       "  a12: r802,\n",
       "  a13: r803,\n",
       "  a14: r804,\n",
       "  a15: r805,\n",
       "  a23: r806,\n",
       "  a24: r807,\n",
       "  a25: r808,\n",
       "  a34: r809,\n",
       "  a35: r810,\n",
       "  a45: -r801*x35/x34},\n",
       " {d1: r811,\n",
       "  d2: r811/x12,\n",
       "  d3: r811/(x12*x23),\n",
       "  d4: r811/(x12*x23*x34),\n",
       "  d5: r812,\n",
       "  a12: r813,\n",
       "  a13: r814,\n",
       "  a14: r815,\n",
       "  a15: r816,\n",
       "  a23: r813/x12,\n",
       "  a24: (r814*x12*x23*x34 - r811*x14)/(x12^2*x23*x34),\n",
       "  a25: -(r812*x15*x34 - r812*x14*x35)/(x12*x34),\n",
       "  a34: (r813*x23*x34 - r811*x24)/(x12*x23^2*x34),\n",
       "  a35: r812*x24*x35/(x23*x34),\n",
       "  a45: -r812*x35/x34}]"
      ]
     },
     "metadata": {},
     "output_type": "display_data"
    },
    {
     "data": {
      "text/plain": [
       "\\left[\\left\\{d_{1} : 0, d_{2} : 0, d_{3} : 0, d_{4} : 0, d_{5} : r_{801}, a_{12} : r_{802}, a_{13} : r_{803}, a_{14} : r_{804}, a_{15} : r_{805}, a_{23} : r_{806}, a_{24} : r_{807}, a_{25} : r_{808}, a_{34} : r_{809}, a_{35} : r_{810}, a_{45} : -\\frac{r_{801} x_{35}}{x_{34}}\\right\\}, \\left\\{d_{1} : r_{811}, d_{2} : \\frac{r_{811}}{x_{12}}, d_{3} : \\frac{r_{811}}{x_{12} x_{23}}, d_{4} : \\frac{r_{811}}{x_{12} x_{23} x_{34}}, d_{5} : r_{812}, a_{12} : r_{813}, a_{13} : r_{814}, a_{14} : r_{815}, a_{15} : r_{816}, a_{23} : \\frac{r_{813}}{x_{12}}, a_{24} : \\frac{r_{814} x_{12} x_{23} x_{34} - r_{811} x_{14}}{x_{12}^{2} x_{23} x_{34}}, a_{25} : -\\frac{r_{812} x_{15} x_{34} - r_{812} x_{14} x_{35}}{x_{12} x_{34}}, a_{34} : \\frac{r_{813} x_{23} x_{34} - r_{811} x_{24}}{x_{12} x_{23}^{2} x_{34}}, a_{35} : \\frac{r_{812} x_{24} x_{35}}{x_{23} x_{34}}, a_{45} : -\\frac{r_{812} x_{35}}{x_{34}}\\right\\}\\right]"
      ]
     },
     "execution_count": 51,
     "metadata": {},
     "output_type": "execute_result"
    }
   ],
   "source": [
    "#x7\n",
    "reset()\n",
    "\n",
    "var('x12,x13,x14,x15,x23,x24,x25,x34,x35,x45')\n",
    "var('d1,d2,d3,d4,d5')\n",
    "var('a12,a13,a14,a15,a23,a24,a25,a34,a35,a45')\n",
    "\n",
    "load_attach_path('C:\\\\Users\\\\julia\\\\Documents\\\\unb\\\\doutorado\\\\pensar\\\\codigo_sage_v2\\\\maquina\\\\x7')\n",
    "load('out_#110011.sage')\n",
    "\n",
    "m=matrix(QQ, [[0, 1, 0, 0, 0],\n",
    "              [0, 0, 1, 0, 0],\n",
    "              [0, 0, 0, 1, 0],\n",
    "              [0, 0, 0, 0, 0],\n",
    "              [0, 0, 0, 0, 0]])\n",
    "        \n",
    "#entry of matrix: (i,j) line i collum j, means (i-1,j-1)\n",
    "sol=solve([ eq1==m[0,1],\teq2==m[0,2],\teq3==m[0,3],\teq4==m[0,4],\t\n",
    "                                            eq5==m[1,2],    eq6==m[1,3],\n",
    "                                                            eq7==m[1,4], eq8==m[2,3], eq9==m[2,4]],d1,d2,d3,d4,d5,a12,a13,a14,a15,a23,a24,a25,a34,a35,a45, solution_dict=True)\n",
    "\n",
    "show(m)\n",
    "show(sol)\n",
    "latex(sol)"
   ]
  },
  {
   "cell_type": "code",
   "execution_count": 52,
   "metadata": {},
   "outputs": [
    {
     "data": {
      "text/html": [
       "<html><script type=\"math/tex; mode=display\">\\newcommand{\\Bold}[1]{\\mathbf{#1}}\\left(\\begin{array}{rrrrr}\n",
       "0 & 1 & 0 & 0 & 0 \\\\\n",
       "0 & 0 & 1 & 0 & 0 \\\\\n",
       "0 & 0 & 0 & 1 & 0 \\\\\n",
       "0 & 0 & 0 & 0 & 0 \\\\\n",
       "0 & 0 & 0 & 0 & 0\n",
       "\\end{array}\\right)</script></html>"
      ],
      "text/latex": [
       "$$\\newcommand{\\Bold}[1]{\\mathbf{#1}}\\left(\\begin{array}{rrrrr}\n",
       "0 & 1 & 0 & 0 & 0 \\\\\n",
       "0 & 0 & 1 & 0 & 0 \\\\\n",
       "0 & 0 & 0 & 1 & 0 \\\\\n",
       "0 & 0 & 0 & 0 & 0 \\\\\n",
       "0 & 0 & 0 & 0 & 0\n",
       "\\end{array}\\right)$$"
      ],
      "text/plain": [
       "[0 1 0 0 0]\n",
       "[0 0 1 0 0]\n",
       "[0 0 0 1 0]\n",
       "[0 0 0 0 0]\n",
       "[0 0 0 0 0]"
      ]
     },
     "metadata": {},
     "output_type": "display_data"
    },
    {
     "data": {
      "text/html": [
       "<html><script type=\"math/tex; mode=display\">\\newcommand{\\Bold}[1]{\\mathbf{#1}}\\left[\\left\\{d_{1} : 0, d_{2} : 0, d_{3} : 0, d_{4} : 0, d_{5} : r_{817}, a_{12} : r_{818}, a_{13} : r_{819}, a_{14} : r_{820}, a_{15} : r_{821}, a_{23} : r_{822}, a_{24} : r_{823}, a_{25} : r_{824}, a_{34} : r_{825}, a_{35} : r_{826}, a_{45} : -\\frac{r_{817} x_{35}}{x_{34}}\\right\\}, \\left\\{d_{1} : r_{827}, d_{2} : \\frac{r_{827}}{x_{12}}, d_{3} : \\frac{r_{827}}{x_{12} x_{23}}, d_{4} : \\frac{r_{827}}{x_{12} x_{23} x_{34}}, d_{5} : r_{828}, a_{12} : r_{829}, a_{13} : r_{830}, a_{14} : r_{831}, a_{15} : r_{832}, a_{23} : \\frac{r_{829} x_{12} x_{23} - r_{827} x_{13}}{x_{12}^{2} x_{23}}, a_{24} : \\frac{r_{827} x_{12} x_{13} x_{24} + {\\left(r_{830} x_{12}^{2} x_{23}^{2} - r_{829} x_{12} x_{13} x_{23} + r_{827} x_{13}^{2}\\right)} x_{34}}{x_{12}^{3} x_{23}^{2} x_{34}}, a_{25} : -\\frac{r_{828} x_{13} x_{24} x_{35}}{x_{12} x_{23} x_{34}}, a_{34} : -\\frac{r_{827} x_{12} x_{24} - {\\left(r_{829} x_{12} x_{23} - r_{827} x_{13}\\right)} x_{34}}{x_{12}^{2} x_{23}^{2} x_{34}}, a_{35} : \\frac{r_{828} x_{24} x_{35}}{x_{23} x_{34}}, a_{45} : -\\frac{r_{828} x_{35}}{x_{34}}\\right\\}\\right]</script></html>"
      ],
      "text/latex": [
       "$$\\newcommand{\\Bold}[1]{\\mathbf{#1}}\\left[\\left\\{d_{1} : 0, d_{2} : 0, d_{3} : 0, d_{4} : 0, d_{5} : r_{817}, a_{12} : r_{818}, a_{13} : r_{819}, a_{14} : r_{820}, a_{15} : r_{821}, a_{23} : r_{822}, a_{24} : r_{823}, a_{25} : r_{824}, a_{34} : r_{825}, a_{35} : r_{826}, a_{45} : -\\frac{r_{817} x_{35}}{x_{34}}\\right\\}, \\left\\{d_{1} : r_{827}, d_{2} : \\frac{r_{827}}{x_{12}}, d_{3} : \\frac{r_{827}}{x_{12} x_{23}}, d_{4} : \\frac{r_{827}}{x_{12} x_{23} x_{34}}, d_{5} : r_{828}, a_{12} : r_{829}, a_{13} : r_{830}, a_{14} : r_{831}, a_{15} : r_{832}, a_{23} : \\frac{r_{829} x_{12} x_{23} - r_{827} x_{13}}{x_{12}^{2} x_{23}}, a_{24} : \\frac{r_{827} x_{12} x_{13} x_{24} + {\\left(r_{830} x_{12}^{2} x_{23}^{2} - r_{829} x_{12} x_{13} x_{23} + r_{827} x_{13}^{2}\\right)} x_{34}}{x_{12}^{3} x_{23}^{2} x_{34}}, a_{25} : -\\frac{r_{828} x_{13} x_{24} x_{35}}{x_{12} x_{23} x_{34}}, a_{34} : -\\frac{r_{827} x_{12} x_{24} - {\\left(r_{829} x_{12} x_{23} - r_{827} x_{13}\\right)} x_{34}}{x_{12}^{2} x_{23}^{2} x_{34}}, a_{35} : \\frac{r_{828} x_{24} x_{35}}{x_{23} x_{34}}, a_{45} : -\\frac{r_{828} x_{35}}{x_{34}}\\right\\}\\right]$$"
      ],
      "text/plain": [
       "[{d1: 0,\n",
       "  d2: 0,\n",
       "  d3: 0,\n",
       "  d4: 0,\n",
       "  d5: r817,\n",
       "  a12: r818,\n",
       "  a13: r819,\n",
       "  a14: r820,\n",
       "  a15: r821,\n",
       "  a23: r822,\n",
       "  a24: r823,\n",
       "  a25: r824,\n",
       "  a34: r825,\n",
       "  a35: r826,\n",
       "  a45: -r817*x35/x34},\n",
       " {d1: r827,\n",
       "  d2: r827/x12,\n",
       "  d3: r827/(x12*x23),\n",
       "  d4: r827/(x12*x23*x34),\n",
       "  d5: r828,\n",
       "  a12: r829,\n",
       "  a13: r830,\n",
       "  a14: r831,\n",
       "  a15: r832,\n",
       "  a23: (r829*x12*x23 - r827*x13)/(x12^2*x23),\n",
       "  a24: (r827*x12*x13*x24 + (r830*x12^2*x23^2 - r829*x12*x13*x23 + r827*x13^2)*x34)/(x12^3*x23^2*x34),\n",
       "  a25: -r828*x13*x24*x35/(x12*x23*x34),\n",
       "  a34: -(r827*x12*x24 - (r829*x12*x23 - r827*x13)*x34)/(x12^2*x23^2*x34),\n",
       "  a35: r828*x24*x35/(x23*x34),\n",
       "  a45: -r828*x35/x34}]"
      ]
     },
     "metadata": {},
     "output_type": "display_data"
    },
    {
     "data": {
      "text/plain": [
       "\\left[\\left\\{d_{1} : 0, d_{2} : 0, d_{3} : 0, d_{4} : 0, d_{5} : r_{817}, a_{12} : r_{818}, a_{13} : r_{819}, a_{14} : r_{820}, a_{15} : r_{821}, a_{23} : r_{822}, a_{24} : r_{823}, a_{25} : r_{824}, a_{34} : r_{825}, a_{35} : r_{826}, a_{45} : -\\frac{r_{817} x_{35}}{x_{34}}\\right\\}, \\left\\{d_{1} : r_{827}, d_{2} : \\frac{r_{827}}{x_{12}}, d_{3} : \\frac{r_{827}}{x_{12} x_{23}}, d_{4} : \\frac{r_{827}}{x_{12} x_{23} x_{34}}, d_{5} : r_{828}, a_{12} : r_{829}, a_{13} : r_{830}, a_{14} : r_{831}, a_{15} : r_{832}, a_{23} : \\frac{r_{829} x_{12} x_{23} - r_{827} x_{13}}{x_{12}^{2} x_{23}}, a_{24} : \\frac{r_{827} x_{12} x_{13} x_{24} + {\\left(r_{830} x_{12}^{2} x_{23}^{2} - r_{829} x_{12} x_{13} x_{23} + r_{827} x_{13}^{2}\\right)} x_{34}}{x_{12}^{3} x_{23}^{2} x_{34}}, a_{25} : -\\frac{r_{828} x_{13} x_{24} x_{35}}{x_{12} x_{23} x_{34}}, a_{34} : -\\frac{r_{827} x_{12} x_{24} - {\\left(r_{829} x_{12} x_{23} - r_{827} x_{13}\\right)} x_{34}}{x_{12}^{2} x_{23}^{2} x_{34}}, a_{35} : \\frac{r_{828} x_{24} x_{35}}{x_{23} x_{34}}, a_{45} : -\\frac{r_{828} x_{35}}{x_{34}}\\right\\}\\right]"
      ]
     },
     "execution_count": 52,
     "metadata": {},
     "output_type": "execute_result"
    }
   ],
   "source": [
    "#x7\n",
    "reset()\n",
    "\n",
    "var('x12,x13,x14,x15,x23,x24,x25,x34,x35,x45')\n",
    "var('d1,d2,d3,d4,d5')\n",
    "var('a12,a13,a14,a15,a23,a24,a25,a34,a35,a45')\n",
    "\n",
    "load_attach_path('C:\\\\Users\\\\julia\\\\Documents\\\\unb\\\\doutorado\\\\pensar\\\\codigo_sage_v2\\\\maquina\\\\x7')\n",
    "load('out_#110100.sage')\n",
    "\n",
    "m=matrix(QQ, [[0, 1, 0, 0, 0],\n",
    "              [0, 0, 1, 0, 0],\n",
    "              [0, 0, 0, 1, 0],\n",
    "              [0, 0, 0, 0, 0],\n",
    "              [0, 0, 0, 0, 0]])\n",
    "        \n",
    "#entry of matrix: (i,j) line i collum j, means (i-1,j-1)\n",
    "sol=solve([ eq1==m[0,1],\teq2==m[0,2],\teq3==m[0,3],\teq4==m[0,4],\t\n",
    "                                            eq5==m[1,2],    eq6==m[1,3],\n",
    "                                                            eq7==m[1,4], eq8==m[2,3], eq9==m[2,4]],d1,d2,d3,d4,d5,a12,a13,a14,a15,a23,a24,a25,a34,a35,a45, solution_dict=True)\n",
    "\n",
    "show(m)\n",
    "show(sol)\n",
    "latex(sol)"
   ]
  },
  {
   "cell_type": "code",
   "execution_count": 53,
   "metadata": {},
   "outputs": [
    {
     "data": {
      "text/html": [
       "<html><script type=\"math/tex; mode=display\">\\newcommand{\\Bold}[1]{\\mathbf{#1}}\\left(\\begin{array}{rrrrr}\n",
       "0 & 1 & 0 & 0 & 0 \\\\\n",
       "0 & 0 & 1 & 0 & 0 \\\\\n",
       "0 & 0 & 0 & 1 & 0 \\\\\n",
       "0 & 0 & 0 & 0 & 0 \\\\\n",
       "0 & 0 & 0 & 0 & 0\n",
       "\\end{array}\\right)</script></html>"
      ],
      "text/latex": [
       "$$\\newcommand{\\Bold}[1]{\\mathbf{#1}}\\left(\\begin{array}{rrrrr}\n",
       "0 & 1 & 0 & 0 & 0 \\\\\n",
       "0 & 0 & 1 & 0 & 0 \\\\\n",
       "0 & 0 & 0 & 1 & 0 \\\\\n",
       "0 & 0 & 0 & 0 & 0 \\\\\n",
       "0 & 0 & 0 & 0 & 0\n",
       "\\end{array}\\right)$$"
      ],
      "text/plain": [
       "[0 1 0 0 0]\n",
       "[0 0 1 0 0]\n",
       "[0 0 0 1 0]\n",
       "[0 0 0 0 0]\n",
       "[0 0 0 0 0]"
      ]
     },
     "metadata": {},
     "output_type": "display_data"
    },
    {
     "data": {
      "text/html": [
       "<html><script type=\"math/tex; mode=display\">\\newcommand{\\Bold}[1]{\\mathbf{#1}}\\left[\\left\\{d_{1} : 0, d_{2} : 0, d_{3} : 0, d_{4} : 0, d_{5} : r_{833}, a_{12} : r_{834}, a_{13} : r_{835}, a_{14} : r_{836}, a_{15} : r_{837}, a_{23} : r_{838}, a_{24} : r_{839}, a_{25} : r_{840}, a_{34} : r_{841}, a_{35} : r_{842}, a_{45} : -\\frac{r_{833} x_{35}}{x_{34}}\\right\\}, \\left\\{d_{1} : r_{843}, d_{2} : \\frac{r_{843}}{x_{12}}, d_{3} : \\frac{r_{843}}{x_{12} x_{23}}, d_{4} : \\frac{r_{843}}{x_{12} x_{23} x_{34}}, d_{5} : r_{844}, a_{12} : r_{845}, a_{13} : r_{846}, a_{14} : r_{847}, a_{15} : r_{848}, a_{23} : \\frac{r_{845} x_{12} x_{23} - r_{843} x_{13}}{x_{12}^{2} x_{23}}, a_{24} : \\frac{r_{843} x_{12} x_{13} x_{24} + {\\left(r_{846} x_{12}^{2} x_{23}^{2} - r_{845} x_{12} x_{13} x_{23} + r_{843} x_{13}^{2}\\right)} x_{34}}{x_{12}^{3} x_{23}^{2} x_{34}}, a_{25} : -\\frac{r_{844} x_{15} x_{23} x_{34} + r_{844} x_{13} x_{24} x_{35}}{x_{12} x_{23} x_{34}}, a_{34} : -\\frac{r_{843} x_{12} x_{24} - {\\left(r_{845} x_{12} x_{23} - r_{843} x_{13}\\right)} x_{34}}{x_{12}^{2} x_{23}^{2} x_{34}}, a_{35} : \\frac{r_{844} x_{24} x_{35}}{x_{23} x_{34}}, a_{45} : -\\frac{r_{844} x_{35}}{x_{34}}\\right\\}\\right]</script></html>"
      ],
      "text/latex": [
       "$$\\newcommand{\\Bold}[1]{\\mathbf{#1}}\\left[\\left\\{d_{1} : 0, d_{2} : 0, d_{3} : 0, d_{4} : 0, d_{5} : r_{833}, a_{12} : r_{834}, a_{13} : r_{835}, a_{14} : r_{836}, a_{15} : r_{837}, a_{23} : r_{838}, a_{24} : r_{839}, a_{25} : r_{840}, a_{34} : r_{841}, a_{35} : r_{842}, a_{45} : -\\frac{r_{833} x_{35}}{x_{34}}\\right\\}, \\left\\{d_{1} : r_{843}, d_{2} : \\frac{r_{843}}{x_{12}}, d_{3} : \\frac{r_{843}}{x_{12} x_{23}}, d_{4} : \\frac{r_{843}}{x_{12} x_{23} x_{34}}, d_{5} : r_{844}, a_{12} : r_{845}, a_{13} : r_{846}, a_{14} : r_{847}, a_{15} : r_{848}, a_{23} : \\frac{r_{845} x_{12} x_{23} - r_{843} x_{13}}{x_{12}^{2} x_{23}}, a_{24} : \\frac{r_{843} x_{12} x_{13} x_{24} + {\\left(r_{846} x_{12}^{2} x_{23}^{2} - r_{845} x_{12} x_{13} x_{23} + r_{843} x_{13}^{2}\\right)} x_{34}}{x_{12}^{3} x_{23}^{2} x_{34}}, a_{25} : -\\frac{r_{844} x_{15} x_{23} x_{34} + r_{844} x_{13} x_{24} x_{35}}{x_{12} x_{23} x_{34}}, a_{34} : -\\frac{r_{843} x_{12} x_{24} - {\\left(r_{845} x_{12} x_{23} - r_{843} x_{13}\\right)} x_{34}}{x_{12}^{2} x_{23}^{2} x_{34}}, a_{35} : \\frac{r_{844} x_{24} x_{35}}{x_{23} x_{34}}, a_{45} : -\\frac{r_{844} x_{35}}{x_{34}}\\right\\}\\right]$$"
      ],
      "text/plain": [
       "[{d1: 0,\n",
       "  d2: 0,\n",
       "  d3: 0,\n",
       "  d4: 0,\n",
       "  d5: r833,\n",
       "  a12: r834,\n",
       "  a13: r835,\n",
       "  a14: r836,\n",
       "  a15: r837,\n",
       "  a23: r838,\n",
       "  a24: r839,\n",
       "  a25: r840,\n",
       "  a34: r841,\n",
       "  a35: r842,\n",
       "  a45: -r833*x35/x34},\n",
       " {d1: r843,\n",
       "  d2: r843/x12,\n",
       "  d3: r843/(x12*x23),\n",
       "  d4: r843/(x12*x23*x34),\n",
       "  d5: r844,\n",
       "  a12: r845,\n",
       "  a13: r846,\n",
       "  a14: r847,\n",
       "  a15: r848,\n",
       "  a23: (r845*x12*x23 - r843*x13)/(x12^2*x23),\n",
       "  a24: (r843*x12*x13*x24 + (r846*x12^2*x23^2 - r845*x12*x13*x23 + r843*x13^2)*x34)/(x12^3*x23^2*x34),\n",
       "  a25: -(r844*x15*x23*x34 + r844*x13*x24*x35)/(x12*x23*x34),\n",
       "  a34: -(r843*x12*x24 - (r845*x12*x23 - r843*x13)*x34)/(x12^2*x23^2*x34),\n",
       "  a35: r844*x24*x35/(x23*x34),\n",
       "  a45: -r844*x35/x34}]"
      ]
     },
     "metadata": {},
     "output_type": "display_data"
    },
    {
     "data": {
      "text/plain": [
       "\\left[\\left\\{d_{1} : 0, d_{2} : 0, d_{3} : 0, d_{4} : 0, d_{5} : r_{833}, a_{12} : r_{834}, a_{13} : r_{835}, a_{14} : r_{836}, a_{15} : r_{837}, a_{23} : r_{838}, a_{24} : r_{839}, a_{25} : r_{840}, a_{34} : r_{841}, a_{35} : r_{842}, a_{45} : -\\frac{r_{833} x_{35}}{x_{34}}\\right\\}, \\left\\{d_{1} : r_{843}, d_{2} : \\frac{r_{843}}{x_{12}}, d_{3} : \\frac{r_{843}}{x_{12} x_{23}}, d_{4} : \\frac{r_{843}}{x_{12} x_{23} x_{34}}, d_{5} : r_{844}, a_{12} : r_{845}, a_{13} : r_{846}, a_{14} : r_{847}, a_{15} : r_{848}, a_{23} : \\frac{r_{845} x_{12} x_{23} - r_{843} x_{13}}{x_{12}^{2} x_{23}}, a_{24} : \\frac{r_{843} x_{12} x_{13} x_{24} + {\\left(r_{846} x_{12}^{2} x_{23}^{2} - r_{845} x_{12} x_{13} x_{23} + r_{843} x_{13}^{2}\\right)} x_{34}}{x_{12}^{3} x_{23}^{2} x_{34}}, a_{25} : -\\frac{r_{844} x_{15} x_{23} x_{34} + r_{844} x_{13} x_{24} x_{35}}{x_{12} x_{23} x_{34}}, a_{34} : -\\frac{r_{843} x_{12} x_{24} - {\\left(r_{845} x_{12} x_{23} - r_{843} x_{13}\\right)} x_{34}}{x_{12}^{2} x_{23}^{2} x_{34}}, a_{35} : \\frac{r_{844} x_{24} x_{35}}{x_{23} x_{34}}, a_{45} : -\\frac{r_{844} x_{35}}{x_{34}}\\right\\}\\right]"
      ]
     },
     "execution_count": 53,
     "metadata": {},
     "output_type": "execute_result"
    }
   ],
   "source": [
    "#x7\n",
    "reset()\n",
    "\n",
    "var('x12,x13,x14,x15,x23,x24,x25,x34,x35,x45')\n",
    "var('d1,d2,d3,d4,d5')\n",
    "var('a12,a13,a14,a15,a23,a24,a25,a34,a35,a45')\n",
    "\n",
    "load_attach_path('C:\\\\Users\\\\julia\\\\Documents\\\\unb\\\\doutorado\\\\pensar\\\\codigo_sage_v2\\\\maquina\\\\x7')\n",
    "\n",
    "load('out_#110101.sage')\n",
    "m=matrix(QQ, [[0, 1, 0, 0, 0],\n",
    "              [0, 0, 1, 0, 0],\n",
    "              [0, 0, 0, 1, 0],\n",
    "              [0, 0, 0, 0, 0],\n",
    "              [0, 0, 0, 0, 0]])\n",
    "        \n",
    "#entry of matrix: (i,j) line i collum j, means (i-1,j-1)\n",
    "sol=solve([ eq1==m[0,1],\teq2==m[0,2],\teq3==m[0,3],\teq4==m[0,4],\t\n",
    "                                            eq5==m[1,2],    eq6==m[1,3],\n",
    "                                                            eq7==m[1,4], eq8==m[2,3], eq9==m[2,4]],d1,d2,d3,d4,d5,a12,a13,a14,a15,a23,a24,a25,a34,a35,a45, solution_dict=True)\n",
    "\n",
    "show(m)\n",
    "show(sol)\n",
    "latex(sol)"
   ]
  },
  {
   "cell_type": "code",
   "execution_count": 54,
   "metadata": {},
   "outputs": [
    {
     "data": {
      "text/html": [
       "<html><script type=\"math/tex; mode=display\">\\newcommand{\\Bold}[1]{\\mathbf{#1}}\\left(\\begin{array}{rrrrr}\n",
       "0 & 1 & 0 & 0 & 0 \\\\\n",
       "0 & 0 & 1 & 0 & 0 \\\\\n",
       "0 & 0 & 0 & 1 & 0 \\\\\n",
       "0 & 0 & 0 & 0 & 0 \\\\\n",
       "0 & 0 & 0 & 0 & 0\n",
       "\\end{array}\\right)</script></html>"
      ],
      "text/latex": [
       "$$\\newcommand{\\Bold}[1]{\\mathbf{#1}}\\left(\\begin{array}{rrrrr}\n",
       "0 & 1 & 0 & 0 & 0 \\\\\n",
       "0 & 0 & 1 & 0 & 0 \\\\\n",
       "0 & 0 & 0 & 1 & 0 \\\\\n",
       "0 & 0 & 0 & 0 & 0 \\\\\n",
       "0 & 0 & 0 & 0 & 0\n",
       "\\end{array}\\right)$$"
      ],
      "text/plain": [
       "[0 1 0 0 0]\n",
       "[0 0 1 0 0]\n",
       "[0 0 0 1 0]\n",
       "[0 0 0 0 0]\n",
       "[0 0 0 0 0]"
      ]
     },
     "metadata": {},
     "output_type": "display_data"
    },
    {
     "data": {
      "text/html": [
       "<html><script type=\"math/tex; mode=display\">\\newcommand{\\Bold}[1]{\\mathbf{#1}}\\left[\\left\\{d_{1} : 0, d_{2} : 0, d_{3} : 0, d_{4} : 0, d_{5} : r_{849}, a_{12} : r_{850}, a_{13} : r_{851}, a_{14} : r_{852}, a_{15} : r_{853}, a_{23} : r_{854}, a_{24} : r_{855}, a_{25} : r_{856}, a_{34} : r_{857}, a_{35} : r_{858}, a_{45} : -\\frac{r_{849} x_{35}}{x_{34}}\\right\\}, \\left\\{d_{1} : r_{859}, d_{2} : \\frac{r_{859}}{x_{12}}, d_{3} : \\frac{r_{859}}{x_{12} x_{23}}, d_{4} : \\frac{r_{859}}{x_{12} x_{23} x_{34}}, d_{5} : r_{860}, a_{12} : r_{861}, a_{13} : r_{862}, a_{14} : r_{863}, a_{15} : r_{864}, a_{23} : \\frac{r_{861} x_{12} x_{23} - r_{859} x_{13}}{x_{12}^{2} x_{23}}, a_{24} : -\\frac{r_{859} x_{12} x_{14} x_{23} - r_{859} x_{12} x_{13} x_{24} - {\\left(r_{862} x_{12}^{2} x_{23}^{2} - r_{861} x_{12} x_{13} x_{23} + r_{859} x_{13}^{2}\\right)} x_{34}}{x_{12}^{3} x_{23}^{2} x_{34}}, a_{25} : \\frac{{\\left(r_{860} x_{14} x_{23} - r_{860} x_{13} x_{24}\\right)} x_{35}}{x_{12} x_{23} x_{34}}, a_{34} : -\\frac{r_{859} x_{12} x_{24} - {\\left(r_{861} x_{12} x_{23} - r_{859} x_{13}\\right)} x_{34}}{x_{12}^{2} x_{23}^{2} x_{34}}, a_{35} : \\frac{r_{860} x_{24} x_{35}}{x_{23} x_{34}}, a_{45} : -\\frac{r_{860} x_{35}}{x_{34}}\\right\\}\\right]</script></html>"
      ],
      "text/latex": [
       "$$\\newcommand{\\Bold}[1]{\\mathbf{#1}}\\left[\\left\\{d_{1} : 0, d_{2} : 0, d_{3} : 0, d_{4} : 0, d_{5} : r_{849}, a_{12} : r_{850}, a_{13} : r_{851}, a_{14} : r_{852}, a_{15} : r_{853}, a_{23} : r_{854}, a_{24} : r_{855}, a_{25} : r_{856}, a_{34} : r_{857}, a_{35} : r_{858}, a_{45} : -\\frac{r_{849} x_{35}}{x_{34}}\\right\\}, \\left\\{d_{1} : r_{859}, d_{2} : \\frac{r_{859}}{x_{12}}, d_{3} : \\frac{r_{859}}{x_{12} x_{23}}, d_{4} : \\frac{r_{859}}{x_{12} x_{23} x_{34}}, d_{5} : r_{860}, a_{12} : r_{861}, a_{13} : r_{862}, a_{14} : r_{863}, a_{15} : r_{864}, a_{23} : \\frac{r_{861} x_{12} x_{23} - r_{859} x_{13}}{x_{12}^{2} x_{23}}, a_{24} : -\\frac{r_{859} x_{12} x_{14} x_{23} - r_{859} x_{12} x_{13} x_{24} - {\\left(r_{862} x_{12}^{2} x_{23}^{2} - r_{861} x_{12} x_{13} x_{23} + r_{859} x_{13}^{2}\\right)} x_{34}}{x_{12}^{3} x_{23}^{2} x_{34}}, a_{25} : \\frac{{\\left(r_{860} x_{14} x_{23} - r_{860} x_{13} x_{24}\\right)} x_{35}}{x_{12} x_{23} x_{34}}, a_{34} : -\\frac{r_{859} x_{12} x_{24} - {\\left(r_{861} x_{12} x_{23} - r_{859} x_{13}\\right)} x_{34}}{x_{12}^{2} x_{23}^{2} x_{34}}, a_{35} : \\frac{r_{860} x_{24} x_{35}}{x_{23} x_{34}}, a_{45} : -\\frac{r_{860} x_{35}}{x_{34}}\\right\\}\\right]$$"
      ],
      "text/plain": [
       "[{d1: 0,\n",
       "  d2: 0,\n",
       "  d3: 0,\n",
       "  d4: 0,\n",
       "  d5: r849,\n",
       "  a12: r850,\n",
       "  a13: r851,\n",
       "  a14: r852,\n",
       "  a15: r853,\n",
       "  a23: r854,\n",
       "  a24: r855,\n",
       "  a25: r856,\n",
       "  a34: r857,\n",
       "  a35: r858,\n",
       "  a45: -r849*x35/x34},\n",
       " {d1: r859,\n",
       "  d2: r859/x12,\n",
       "  d3: r859/(x12*x23),\n",
       "  d4: r859/(x12*x23*x34),\n",
       "  d5: r860,\n",
       "  a12: r861,\n",
       "  a13: r862,\n",
       "  a14: r863,\n",
       "  a15: r864,\n",
       "  a23: (r861*x12*x23 - r859*x13)/(x12^2*x23),\n",
       "  a24: -(r859*x12*x14*x23 - r859*x12*x13*x24 - (r862*x12^2*x23^2 - r861*x12*x13*x23 + r859*x13^2)*x34)/(x12^3*x23^2*x34),\n",
       "  a25: (r860*x14*x23 - r860*x13*x24)*x35/(x12*x23*x34),\n",
       "  a34: -(r859*x12*x24 - (r861*x12*x23 - r859*x13)*x34)/(x12^2*x23^2*x34),\n",
       "  a35: r860*x24*x35/(x23*x34),\n",
       "  a45: -r860*x35/x34}]"
      ]
     },
     "metadata": {},
     "output_type": "display_data"
    },
    {
     "data": {
      "text/plain": [
       "\\left[\\left\\{d_{1} : 0, d_{2} : 0, d_{3} : 0, d_{4} : 0, d_{5} : r_{849}, a_{12} : r_{850}, a_{13} : r_{851}, a_{14} : r_{852}, a_{15} : r_{853}, a_{23} : r_{854}, a_{24} : r_{855}, a_{25} : r_{856}, a_{34} : r_{857}, a_{35} : r_{858}, a_{45} : -\\frac{r_{849} x_{35}}{x_{34}}\\right\\}, \\left\\{d_{1} : r_{859}, d_{2} : \\frac{r_{859}}{x_{12}}, d_{3} : \\frac{r_{859}}{x_{12} x_{23}}, d_{4} : \\frac{r_{859}}{x_{12} x_{23} x_{34}}, d_{5} : r_{860}, a_{12} : r_{861}, a_{13} : r_{862}, a_{14} : r_{863}, a_{15} : r_{864}, a_{23} : \\frac{r_{861} x_{12} x_{23} - r_{859} x_{13}}{x_{12}^{2} x_{23}}, a_{24} : -\\frac{r_{859} x_{12} x_{14} x_{23} - r_{859} x_{12} x_{13} x_{24} - {\\left(r_{862} x_{12}^{2} x_{23}^{2} - r_{861} x_{12} x_{13} x_{23} + r_{859} x_{13}^{2}\\right)} x_{34}}{x_{12}^{3} x_{23}^{2} x_{34}}, a_{25} : \\frac{{\\left(r_{860} x_{14} x_{23} - r_{860} x_{13} x_{24}\\right)} x_{35}}{x_{12} x_{23} x_{34}}, a_{34} : -\\frac{r_{859} x_{12} x_{24} - {\\left(r_{861} x_{12} x_{23} - r_{859} x_{13}\\right)} x_{34}}{x_{12}^{2} x_{23}^{2} x_{34}}, a_{35} : \\frac{r_{860} x_{24} x_{35}}{x_{23} x_{34}}, a_{45} : -\\frac{r_{860} x_{35}}{x_{34}}\\right\\}\\right]"
      ]
     },
     "execution_count": 54,
     "metadata": {},
     "output_type": "execute_result"
    }
   ],
   "source": [
    "#x7\n",
    "reset()\n",
    "\n",
    "var('x12,x13,x14,x15,x23,x24,x25,x34,x35,x45')\n",
    "var('d1,d2,d3,d4,d5')\n",
    "var('a12,a13,a14,a15,a23,a24,a25,a34,a35,a45')\n",
    "\n",
    "load_attach_path('C:\\\\Users\\\\julia\\\\Documents\\\\unb\\\\doutorado\\\\pensar\\\\codigo_sage_v2\\\\maquina\\\\x7')\n",
    "load('out_#110110.sage')\n",
    "\n",
    "m=matrix(QQ, [[0, 1, 0, 0, 0],\n",
    "              [0, 0, 1, 0, 0],\n",
    "              [0, 0, 0, 1, 0],\n",
    "              [0, 0, 0, 0, 0],\n",
    "              [0, 0, 0, 0, 0]])\n",
    "        \n",
    "#entry of matrix: (i,j) line i collum j, means (i-1,j-1)\n",
    "sol=solve([ eq1==m[0,1],\teq2==m[0,2],\teq3==m[0,3],\teq4==m[0,4],\t\n",
    "                                            eq5==m[1,2],    eq6==m[1,3],\n",
    "                                                            eq7==m[1,4], eq8==m[2,3], eq9==m[2,4]],d1,d2,d3,d4,d5,a12,a13,a14,a15,a23,a24,a25,a34,a35,a45, solution_dict=True)\n",
    "\n",
    "show(m)\n",
    "show(sol)\n",
    "latex(sol)"
   ]
  },
  {
   "cell_type": "code",
   "execution_count": 55,
   "metadata": {},
   "outputs": [
    {
     "data": {
      "text/html": [
       "<html><script type=\"math/tex; mode=display\">\\newcommand{\\Bold}[1]{\\mathbf{#1}}\\left(\\begin{array}{rrrrr}\n",
       "0 & 1 & 0 & 0 & 0 \\\\\n",
       "0 & 0 & 1 & 0 & 0 \\\\\n",
       "0 & 0 & 0 & 1 & 0 \\\\\n",
       "0 & 0 & 0 & 0 & 0 \\\\\n",
       "0 & 0 & 0 & 0 & 0\n",
       "\\end{array}\\right)</script></html>"
      ],
      "text/latex": [
       "$$\\newcommand{\\Bold}[1]{\\mathbf{#1}}\\left(\\begin{array}{rrrrr}\n",
       "0 & 1 & 0 & 0 & 0 \\\\\n",
       "0 & 0 & 1 & 0 & 0 \\\\\n",
       "0 & 0 & 0 & 1 & 0 \\\\\n",
       "0 & 0 & 0 & 0 & 0 \\\\\n",
       "0 & 0 & 0 & 0 & 0\n",
       "\\end{array}\\right)$$"
      ],
      "text/plain": [
       "[0 1 0 0 0]\n",
       "[0 0 1 0 0]\n",
       "[0 0 0 1 0]\n",
       "[0 0 0 0 0]\n",
       "[0 0 0 0 0]"
      ]
     },
     "metadata": {},
     "output_type": "display_data"
    },
    {
     "data": {
      "text/html": [
       "<html><script type=\"math/tex; mode=display\">\\newcommand{\\Bold}[1]{\\mathbf{#1}}\\left[\\left\\{d_{1} : 0, d_{2} : 0, d_{3} : 0, d_{4} : 0, d_{5} : r_{865}, a_{12} : r_{866}, a_{13} : r_{867}, a_{14} : r_{868}, a_{15} : r_{869}, a_{23} : r_{870}, a_{24} : r_{871}, a_{25} : r_{872}, a_{34} : r_{873}, a_{35} : r_{874}, a_{45} : -\\frac{r_{865} x_{35}}{x_{34}}\\right\\}, \\left\\{d_{1} : r_{875}, d_{2} : \\frac{r_{875}}{x_{12}}, d_{3} : \\frac{r_{875}}{x_{12} x_{23}}, d_{4} : \\frac{r_{875}}{x_{12} x_{23} x_{34}}, d_{5} : r_{876}, a_{12} : r_{877}, a_{13} : r_{878}, a_{14} : r_{879}, a_{15} : r_{880}, a_{23} : \\frac{r_{877} x_{12} x_{23} - r_{875} x_{13}}{x_{12}^{2} x_{23}}, a_{24} : -\\frac{r_{875} x_{12} x_{14} x_{23} - r_{875} x_{12} x_{13} x_{24} - {\\left(r_{878} x_{12}^{2} x_{23}^{2} - r_{877} x_{12} x_{13} x_{23} + r_{875} x_{13}^{2}\\right)} x_{34}}{x_{12}^{3} x_{23}^{2} x_{34}}, a_{25} : -\\frac{r_{876} x_{15} x_{23} x_{34} - {\\left(r_{876} x_{14} x_{23} - r_{876} x_{13} x_{24}\\right)} x_{35}}{x_{12} x_{23} x_{34}}, a_{34} : -\\frac{r_{875} x_{12} x_{24} - {\\left(r_{877} x_{12} x_{23} - r_{875} x_{13}\\right)} x_{34}}{x_{12}^{2} x_{23}^{2} x_{34}}, a_{35} : \\frac{r_{876} x_{24} x_{35}}{x_{23} x_{34}}, a_{45} : -\\frac{r_{876} x_{35}}{x_{34}}\\right\\}\\right]</script></html>"
      ],
      "text/latex": [
       "$$\\newcommand{\\Bold}[1]{\\mathbf{#1}}\\left[\\left\\{d_{1} : 0, d_{2} : 0, d_{3} : 0, d_{4} : 0, d_{5} : r_{865}, a_{12} : r_{866}, a_{13} : r_{867}, a_{14} : r_{868}, a_{15} : r_{869}, a_{23} : r_{870}, a_{24} : r_{871}, a_{25} : r_{872}, a_{34} : r_{873}, a_{35} : r_{874}, a_{45} : -\\frac{r_{865} x_{35}}{x_{34}}\\right\\}, \\left\\{d_{1} : r_{875}, d_{2} : \\frac{r_{875}}{x_{12}}, d_{3} : \\frac{r_{875}}{x_{12} x_{23}}, d_{4} : \\frac{r_{875}}{x_{12} x_{23} x_{34}}, d_{5} : r_{876}, a_{12} : r_{877}, a_{13} : r_{878}, a_{14} : r_{879}, a_{15} : r_{880}, a_{23} : \\frac{r_{877} x_{12} x_{23} - r_{875} x_{13}}{x_{12}^{2} x_{23}}, a_{24} : -\\frac{r_{875} x_{12} x_{14} x_{23} - r_{875} x_{12} x_{13} x_{24} - {\\left(r_{878} x_{12}^{2} x_{23}^{2} - r_{877} x_{12} x_{13} x_{23} + r_{875} x_{13}^{2}\\right)} x_{34}}{x_{12}^{3} x_{23}^{2} x_{34}}, a_{25} : -\\frac{r_{876} x_{15} x_{23} x_{34} - {\\left(r_{876} x_{14} x_{23} - r_{876} x_{13} x_{24}\\right)} x_{35}}{x_{12} x_{23} x_{34}}, a_{34} : -\\frac{r_{875} x_{12} x_{24} - {\\left(r_{877} x_{12} x_{23} - r_{875} x_{13}\\right)} x_{34}}{x_{12}^{2} x_{23}^{2} x_{34}}, a_{35} : \\frac{r_{876} x_{24} x_{35}}{x_{23} x_{34}}, a_{45} : -\\frac{r_{876} x_{35}}{x_{34}}\\right\\}\\right]$$"
      ],
      "text/plain": [
       "[{d1: 0,\n",
       "  d2: 0,\n",
       "  d3: 0,\n",
       "  d4: 0,\n",
       "  d5: r865,\n",
       "  a12: r866,\n",
       "  a13: r867,\n",
       "  a14: r868,\n",
       "  a15: r869,\n",
       "  a23: r870,\n",
       "  a24: r871,\n",
       "  a25: r872,\n",
       "  a34: r873,\n",
       "  a35: r874,\n",
       "  a45: -r865*x35/x34},\n",
       " {d1: r875,\n",
       "  d2: r875/x12,\n",
       "  d3: r875/(x12*x23),\n",
       "  d4: r875/(x12*x23*x34),\n",
       "  d5: r876,\n",
       "  a12: r877,\n",
       "  a13: r878,\n",
       "  a14: r879,\n",
       "  a15: r880,\n",
       "  a23: (r877*x12*x23 - r875*x13)/(x12^2*x23),\n",
       "  a24: -(r875*x12*x14*x23 - r875*x12*x13*x24 - (r878*x12^2*x23^2 - r877*x12*x13*x23 + r875*x13^2)*x34)/(x12^3*x23^2*x34),\n",
       "  a25: -(r876*x15*x23*x34 - (r876*x14*x23 - r876*x13*x24)*x35)/(x12*x23*x34),\n",
       "  a34: -(r875*x12*x24 - (r877*x12*x23 - r875*x13)*x34)/(x12^2*x23^2*x34),\n",
       "  a35: r876*x24*x35/(x23*x34),\n",
       "  a45: -r876*x35/x34}]"
      ]
     },
     "metadata": {},
     "output_type": "display_data"
    },
    {
     "data": {
      "text/plain": [
       "\\left[\\left\\{d_{1} : 0, d_{2} : 0, d_{3} : 0, d_{4} : 0, d_{5} : r_{865}, a_{12} : r_{866}, a_{13} : r_{867}, a_{14} : r_{868}, a_{15} : r_{869}, a_{23} : r_{870}, a_{24} : r_{871}, a_{25} : r_{872}, a_{34} : r_{873}, a_{35} : r_{874}, a_{45} : -\\frac{r_{865} x_{35}}{x_{34}}\\right\\}, \\left\\{d_{1} : r_{875}, d_{2} : \\frac{r_{875}}{x_{12}}, d_{3} : \\frac{r_{875}}{x_{12} x_{23}}, d_{4} : \\frac{r_{875}}{x_{12} x_{23} x_{34}}, d_{5} : r_{876}, a_{12} : r_{877}, a_{13} : r_{878}, a_{14} : r_{879}, a_{15} : r_{880}, a_{23} : \\frac{r_{877} x_{12} x_{23} - r_{875} x_{13}}{x_{12}^{2} x_{23}}, a_{24} : -\\frac{r_{875} x_{12} x_{14} x_{23} - r_{875} x_{12} x_{13} x_{24} - {\\left(r_{878} x_{12}^{2} x_{23}^{2} - r_{877} x_{12} x_{13} x_{23} + r_{875} x_{13}^{2}\\right)} x_{34}}{x_{12}^{3} x_{23}^{2} x_{34}}, a_{25} : -\\frac{r_{876} x_{15} x_{23} x_{34} - {\\left(r_{876} x_{14} x_{23} - r_{876} x_{13} x_{24}\\right)} x_{35}}{x_{12} x_{23} x_{34}}, a_{34} : -\\frac{r_{875} x_{12} x_{24} - {\\left(r_{877} x_{12} x_{23} - r_{875} x_{13}\\right)} x_{34}}{x_{12}^{2} x_{23}^{2} x_{34}}, a_{35} : \\frac{r_{876} x_{24} x_{35}}{x_{23} x_{34}}, a_{45} : -\\frac{r_{876} x_{35}}{x_{34}}\\right\\}\\right]"
      ]
     },
     "execution_count": 55,
     "metadata": {},
     "output_type": "execute_result"
    }
   ],
   "source": [
    "#x7\n",
    "reset()\n",
    "\n",
    "var('x12,x13,x14,x15,x23,x24,x25,x34,x35,x45')\n",
    "var('d1,d2,d3,d4,d5')\n",
    "var('a12,a13,a14,a15,a23,a24,a25,a34,a35,a45')\n",
    "\n",
    "load_attach_path('C:\\\\Users\\\\julia\\\\Documents\\\\unb\\\\doutorado\\\\pensar\\\\codigo_sage_v2\\\\maquina\\\\x7')\n",
    "load('out_#110111.sage')\n",
    "\n",
    "m=matrix(QQ, [[0, 1, 0, 0, 0],\n",
    "              [0, 0, 1, 0, 0],\n",
    "              [0, 0, 0, 1, 0],\n",
    "              [0, 0, 0, 0, 0],\n",
    "              [0, 0, 0, 0, 0]])\n",
    "        \n",
    "#entry of matrix: (i,j) line i collum j, means (i-1,j-1)\n",
    "sol=solve([ eq1==m[0,1],\teq2==m[0,2],\teq3==m[0,3],\teq4==m[0,4],\t\n",
    "                                            eq5==m[1,2],    eq6==m[1,3],\n",
    "                                                            eq7==m[1,4], eq8==m[2,3], eq9==m[2,4]],d1,d2,d3,d4,d5,a12,a13,a14,a15,a23,a24,a25,a34,a35,a45, solution_dict=True)\n",
    "\n",
    "show(m)\n",
    "show(sol)\n",
    "latex(sol)"
   ]
  },
  {
   "cell_type": "code",
   "execution_count": 56,
   "metadata": {},
   "outputs": [
    {
     "data": {
      "text/html": [
       "<html><script type=\"math/tex; mode=display\">\\newcommand{\\Bold}[1]{\\mathbf{#1}}\\left(\\begin{array}{rrrrr}\n",
       "0 & 1 & 0 & 0 & 0 \\\\\n",
       "0 & 0 & 1 & 0 & 0 \\\\\n",
       "0 & 0 & 0 & 1 & 0 \\\\\n",
       "0 & 0 & 0 & 0 & 0 \\\\\n",
       "0 & 0 & 0 & 0 & 0\n",
       "\\end{array}\\right)</script></html>"
      ],
      "text/latex": [
       "$$\\newcommand{\\Bold}[1]{\\mathbf{#1}}\\left(\\begin{array}{rrrrr}\n",
       "0 & 1 & 0 & 0 & 0 \\\\\n",
       "0 & 0 & 1 & 0 & 0 \\\\\n",
       "0 & 0 & 0 & 1 & 0 \\\\\n",
       "0 & 0 & 0 & 0 & 0 \\\\\n",
       "0 & 0 & 0 & 0 & 0\n",
       "\\end{array}\\right)$$"
      ],
      "text/plain": [
       "[0 1 0 0 0]\n",
       "[0 0 1 0 0]\n",
       "[0 0 0 1 0]\n",
       "[0 0 0 0 0]\n",
       "[0 0 0 0 0]"
      ]
     },
     "metadata": {},
     "output_type": "display_data"
    },
    {
     "data": {
      "text/html": [
       "<html><script type=\"math/tex; mode=display\">\\newcommand{\\Bold}[1]{\\mathbf{#1}}\\left[\\left\\{d_{1} : 0, d_{2} : 0, d_{3} : 0, d_{4} : 0, d_{5} : r_{881}, a_{12} : r_{882}, a_{13} : r_{883}, a_{14} : r_{884}, a_{15} : r_{885}, a_{23} : r_{886}, a_{24} : r_{887}, a_{25} : r_{888}, a_{34} : r_{889}, a_{35} : r_{890}, a_{45} : -\\frac{r_{881} x_{35}}{x_{34}}\\right\\}, \\left\\{d_{1} : r_{891}, d_{2} : \\frac{r_{891}}{x_{12}}, d_{3} : \\frac{r_{891}}{x_{12} x_{23}}, d_{4} : \\frac{r_{891}}{x_{12} x_{23} x_{34}}, d_{5} : r_{892}, a_{12} : r_{893}, a_{13} : r_{894}, a_{14} : r_{895}, a_{15} : r_{896}, a_{23} : \\frac{r_{893}}{x_{12}}, a_{24} : \\frac{r_{894}}{x_{12}}, a_{25} : 0, a_{34} : \\frac{r_{893} x_{23} x_{34} - r_{891} x_{24}}{x_{12} x_{23}^{2} x_{34}}, a_{35} : -\\frac{r_{892} x_{25} x_{34} - r_{892} x_{24} x_{35}}{x_{23} x_{34}}, a_{45} : -\\frac{r_{892} x_{35}}{x_{34}}\\right\\}\\right]</script></html>"
      ],
      "text/latex": [
       "$$\\newcommand{\\Bold}[1]{\\mathbf{#1}}\\left[\\left\\{d_{1} : 0, d_{2} : 0, d_{3} : 0, d_{4} : 0, d_{5} : r_{881}, a_{12} : r_{882}, a_{13} : r_{883}, a_{14} : r_{884}, a_{15} : r_{885}, a_{23} : r_{886}, a_{24} : r_{887}, a_{25} : r_{888}, a_{34} : r_{889}, a_{35} : r_{890}, a_{45} : -\\frac{r_{881} x_{35}}{x_{34}}\\right\\}, \\left\\{d_{1} : r_{891}, d_{2} : \\frac{r_{891}}{x_{12}}, d_{3} : \\frac{r_{891}}{x_{12} x_{23}}, d_{4} : \\frac{r_{891}}{x_{12} x_{23} x_{34}}, d_{5} : r_{892}, a_{12} : r_{893}, a_{13} : r_{894}, a_{14} : r_{895}, a_{15} : r_{896}, a_{23} : \\frac{r_{893}}{x_{12}}, a_{24} : \\frac{r_{894}}{x_{12}}, a_{25} : 0, a_{34} : \\frac{r_{893} x_{23} x_{34} - r_{891} x_{24}}{x_{12} x_{23}^{2} x_{34}}, a_{35} : -\\frac{r_{892} x_{25} x_{34} - r_{892} x_{24} x_{35}}{x_{23} x_{34}}, a_{45} : -\\frac{r_{892} x_{35}}{x_{34}}\\right\\}\\right]$$"
      ],
      "text/plain": [
       "[{d1: 0,\n",
       "  d2: 0,\n",
       "  d3: 0,\n",
       "  d4: 0,\n",
       "  d5: r881,\n",
       "  a12: r882,\n",
       "  a13: r883,\n",
       "  a14: r884,\n",
       "  a15: r885,\n",
       "  a23: r886,\n",
       "  a24: r887,\n",
       "  a25: r888,\n",
       "  a34: r889,\n",
       "  a35: r890,\n",
       "  a45: -r881*x35/x34},\n",
       " {d1: r891,\n",
       "  d2: r891/x12,\n",
       "  d3: r891/(x12*x23),\n",
       "  d4: r891/(x12*x23*x34),\n",
       "  d5: r892,\n",
       "  a12: r893,\n",
       "  a13: r894,\n",
       "  a14: r895,\n",
       "  a15: r896,\n",
       "  a23: r893/x12,\n",
       "  a24: r894/x12,\n",
       "  a25: 0,\n",
       "  a34: (r893*x23*x34 - r891*x24)/(x12*x23^2*x34),\n",
       "  a35: -(r892*x25*x34 - r892*x24*x35)/(x23*x34),\n",
       "  a45: -r892*x35/x34}]"
      ]
     },
     "metadata": {},
     "output_type": "display_data"
    },
    {
     "data": {
      "text/plain": [
       "\\left[\\left\\{d_{1} : 0, d_{2} : 0, d_{3} : 0, d_{4} : 0, d_{5} : r_{881}, a_{12} : r_{882}, a_{13} : r_{883}, a_{14} : r_{884}, a_{15} : r_{885}, a_{23} : r_{886}, a_{24} : r_{887}, a_{25} : r_{888}, a_{34} : r_{889}, a_{35} : r_{890}, a_{45} : -\\frac{r_{881} x_{35}}{x_{34}}\\right\\}, \\left\\{d_{1} : r_{891}, d_{2} : \\frac{r_{891}}{x_{12}}, d_{3} : \\frac{r_{891}}{x_{12} x_{23}}, d_{4} : \\frac{r_{891}}{x_{12} x_{23} x_{34}}, d_{5} : r_{892}, a_{12} : r_{893}, a_{13} : r_{894}, a_{14} : r_{895}, a_{15} : r_{896}, a_{23} : \\frac{r_{893}}{x_{12}}, a_{24} : \\frac{r_{894}}{x_{12}}, a_{25} : 0, a_{34} : \\frac{r_{893} x_{23} x_{34} - r_{891} x_{24}}{x_{12} x_{23}^{2} x_{34}}, a_{35} : -\\frac{r_{892} x_{25} x_{34} - r_{892} x_{24} x_{35}}{x_{23} x_{34}}, a_{45} : -\\frac{r_{892} x_{35}}{x_{34}}\\right\\}\\right]"
      ]
     },
     "execution_count": 56,
     "metadata": {},
     "output_type": "execute_result"
    }
   ],
   "source": [
    "#x7\n",
    "reset()\n",
    "\n",
    "var('x12,x13,x14,x15,x23,x24,x25,x34,x35,x45')\n",
    "var('d1,d2,d3,d4,d5')\n",
    "var('a12,a13,a14,a15,a23,a24,a25,a34,a35,a45')\n",
    "\n",
    "load_attach_path('C:\\\\Users\\\\julia\\\\Documents\\\\unb\\\\doutorado\\\\pensar\\\\codigo_sage_v2\\\\maquina\\\\x7')\n",
    "load('out_#111000.sage')\n",
    "\n",
    "m=matrix(QQ, [[0, 1, 0, 0, 0],\n",
    "              [0, 0, 1, 0, 0],\n",
    "              [0, 0, 0, 1, 0],\n",
    "              [0, 0, 0, 0, 0],\n",
    "              [0, 0, 0, 0, 0]])\n",
    "        \n",
    "#entry of matrix: (i,j) line i collum j, means (i-1,j-1)\n",
    "sol=solve([ eq1==m[0,1],\teq2==m[0,2],\teq3==m[0,3],\teq4==m[0,4],\t\n",
    "                                            eq5==m[1,2],    eq6==m[1,3],\n",
    "                                                            eq7==m[1,4], eq8==m[2,3], eq9==m[2,4]],d1,d2,d3,d4,d5,a12,a13,a14,a15,a23,a24,a25,a34,a35,a45, solution_dict=True)\n",
    "\n",
    "show(m)\n",
    "show(sol)\n",
    "latex(sol)"
   ]
  },
  {
   "cell_type": "code",
   "execution_count": 57,
   "metadata": {},
   "outputs": [
    {
     "data": {
      "text/html": [
       "<html><script type=\"math/tex; mode=display\">\\newcommand{\\Bold}[1]{\\mathbf{#1}}\\left(\\begin{array}{rrrrr}\n",
       "0 & 1 & 0 & 0 & 0 \\\\\n",
       "0 & 0 & 1 & 0 & 0 \\\\\n",
       "0 & 0 & 0 & 1 & 0 \\\\\n",
       "0 & 0 & 0 & 0 & 0 \\\\\n",
       "0 & 0 & 0 & 0 & 0\n",
       "\\end{array}\\right)</script></html>"
      ],
      "text/latex": [
       "$$\\newcommand{\\Bold}[1]{\\mathbf{#1}}\\left(\\begin{array}{rrrrr}\n",
       "0 & 1 & 0 & 0 & 0 \\\\\n",
       "0 & 0 & 1 & 0 & 0 \\\\\n",
       "0 & 0 & 0 & 1 & 0 \\\\\n",
       "0 & 0 & 0 & 0 & 0 \\\\\n",
       "0 & 0 & 0 & 0 & 0\n",
       "\\end{array}\\right)$$"
      ],
      "text/plain": [
       "[0 1 0 0 0]\n",
       "[0 0 1 0 0]\n",
       "[0 0 0 1 0]\n",
       "[0 0 0 0 0]\n",
       "[0 0 0 0 0]"
      ]
     },
     "metadata": {},
     "output_type": "display_data"
    },
    {
     "data": {
      "text/html": [
       "<html><script type=\"math/tex; mode=display\">\\newcommand{\\Bold}[1]{\\mathbf{#1}}\\left[\\left\\{d_{1} : 0, d_{2} : 0, d_{3} : 0, d_{4} : 0, d_{5} : r_{897}, a_{12} : r_{898}, a_{13} : r_{899}, a_{14} : r_{900}, a_{15} : r_{901}, a_{23} : r_{902}, a_{24} : r_{903}, a_{25} : r_{904}, a_{34} : r_{905}, a_{35} : r_{906}, a_{45} : -\\frac{r_{897} x_{35}}{x_{34}}\\right\\}, \\left\\{d_{1} : r_{907}, d_{2} : \\frac{r_{907}}{x_{12}}, d_{3} : \\frac{r_{907}}{x_{12} x_{23}}, d_{4} : \\frac{r_{907}}{x_{12} x_{23} x_{34}}, d_{5} : r_{908}, a_{12} : r_{909}, a_{13} : r_{910}, a_{14} : r_{911}, a_{15} : r_{912}, a_{23} : \\frac{r_{909}}{x_{12}}, a_{24} : \\frac{r_{910}}{x_{12}}, a_{25} : -\\frac{r_{908} x_{15}}{x_{12}}, a_{34} : \\frac{r_{909} x_{23} x_{34} - r_{907} x_{24}}{x_{12} x_{23}^{2} x_{34}}, a_{35} : -\\frac{r_{908} x_{25} x_{34} - r_{908} x_{24} x_{35}}{x_{23} x_{34}}, a_{45} : -\\frac{r_{908} x_{35}}{x_{34}}\\right\\}\\right]</script></html>"
      ],
      "text/latex": [
       "$$\\newcommand{\\Bold}[1]{\\mathbf{#1}}\\left[\\left\\{d_{1} : 0, d_{2} : 0, d_{3} : 0, d_{4} : 0, d_{5} : r_{897}, a_{12} : r_{898}, a_{13} : r_{899}, a_{14} : r_{900}, a_{15} : r_{901}, a_{23} : r_{902}, a_{24} : r_{903}, a_{25} : r_{904}, a_{34} : r_{905}, a_{35} : r_{906}, a_{45} : -\\frac{r_{897} x_{35}}{x_{34}}\\right\\}, \\left\\{d_{1} : r_{907}, d_{2} : \\frac{r_{907}}{x_{12}}, d_{3} : \\frac{r_{907}}{x_{12} x_{23}}, d_{4} : \\frac{r_{907}}{x_{12} x_{23} x_{34}}, d_{5} : r_{908}, a_{12} : r_{909}, a_{13} : r_{910}, a_{14} : r_{911}, a_{15} : r_{912}, a_{23} : \\frac{r_{909}}{x_{12}}, a_{24} : \\frac{r_{910}}{x_{12}}, a_{25} : -\\frac{r_{908} x_{15}}{x_{12}}, a_{34} : \\frac{r_{909} x_{23} x_{34} - r_{907} x_{24}}{x_{12} x_{23}^{2} x_{34}}, a_{35} : -\\frac{r_{908} x_{25} x_{34} - r_{908} x_{24} x_{35}}{x_{23} x_{34}}, a_{45} : -\\frac{r_{908} x_{35}}{x_{34}}\\right\\}\\right]$$"
      ],
      "text/plain": [
       "[{d1: 0,\n",
       "  d2: 0,\n",
       "  d3: 0,\n",
       "  d4: 0,\n",
       "  d5: r897,\n",
       "  a12: r898,\n",
       "  a13: r899,\n",
       "  a14: r900,\n",
       "  a15: r901,\n",
       "  a23: r902,\n",
       "  a24: r903,\n",
       "  a25: r904,\n",
       "  a34: r905,\n",
       "  a35: r906,\n",
       "  a45: -r897*x35/x34},\n",
       " {d1: r907,\n",
       "  d2: r907/x12,\n",
       "  d3: r907/(x12*x23),\n",
       "  d4: r907/(x12*x23*x34),\n",
       "  d5: r908,\n",
       "  a12: r909,\n",
       "  a13: r910,\n",
       "  a14: r911,\n",
       "  a15: r912,\n",
       "  a23: r909/x12,\n",
       "  a24: r910/x12,\n",
       "  a25: -r908*x15/x12,\n",
       "  a34: (r909*x23*x34 - r907*x24)/(x12*x23^2*x34),\n",
       "  a35: -(r908*x25*x34 - r908*x24*x35)/(x23*x34),\n",
       "  a45: -r908*x35/x34}]"
      ]
     },
     "metadata": {},
     "output_type": "display_data"
    },
    {
     "data": {
      "text/plain": [
       "\\left[\\left\\{d_{1} : 0, d_{2} : 0, d_{3} : 0, d_{4} : 0, d_{5} : r_{897}, a_{12} : r_{898}, a_{13} : r_{899}, a_{14} : r_{900}, a_{15} : r_{901}, a_{23} : r_{902}, a_{24} : r_{903}, a_{25} : r_{904}, a_{34} : r_{905}, a_{35} : r_{906}, a_{45} : -\\frac{r_{897} x_{35}}{x_{34}}\\right\\}, \\left\\{d_{1} : r_{907}, d_{2} : \\frac{r_{907}}{x_{12}}, d_{3} : \\frac{r_{907}}{x_{12} x_{23}}, d_{4} : \\frac{r_{907}}{x_{12} x_{23} x_{34}}, d_{5} : r_{908}, a_{12} : r_{909}, a_{13} : r_{910}, a_{14} : r_{911}, a_{15} : r_{912}, a_{23} : \\frac{r_{909}}{x_{12}}, a_{24} : \\frac{r_{910}}{x_{12}}, a_{25} : -\\frac{r_{908} x_{15}}{x_{12}}, a_{34} : \\frac{r_{909} x_{23} x_{34} - r_{907} x_{24}}{x_{12} x_{23}^{2} x_{34}}, a_{35} : -\\frac{r_{908} x_{25} x_{34} - r_{908} x_{24} x_{35}}{x_{23} x_{34}}, a_{45} : -\\frac{r_{908} x_{35}}{x_{34}}\\right\\}\\right]"
      ]
     },
     "execution_count": 57,
     "metadata": {},
     "output_type": "execute_result"
    }
   ],
   "source": [
    "#x7\n",
    "reset()\n",
    "\n",
    "var('x12,x13,x14,x15,x23,x24,x25,x34,x35,x45')\n",
    "var('d1,d2,d3,d4,d5')\n",
    "var('a12,a13,a14,a15,a23,a24,a25,a34,a35,a45')\n",
    "\n",
    "load_attach_path('C:\\\\Users\\\\julia\\\\Documents\\\\unb\\\\doutorado\\\\pensar\\\\codigo_sage_v2\\\\maquina\\\\x7')\n",
    "load('out_#111001.sage')\n",
    "\n",
    "m=matrix(QQ, [[0, 1, 0, 0, 0],\n",
    "              [0, 0, 1, 0, 0],\n",
    "              [0, 0, 0, 1, 0],\n",
    "              [0, 0, 0, 0, 0],\n",
    "              [0, 0, 0, 0, 0]])\n",
    "        \n",
    "#entry of matrix: (i,j) line i collum j, means (i-1,j-1)\n",
    "sol=solve([ eq1==m[0,1],\teq2==m[0,2],\teq3==m[0,3],\teq4==m[0,4],\t\n",
    "                                            eq5==m[1,2],    eq6==m[1,3],\n",
    "                                                            eq7==m[1,4], eq8==m[2,3], eq9==m[2,4]],d1,d2,d3,d4,d5,a12,a13,a14,a15,a23,a24,a25,a34,a35,a45, solution_dict=True)\n",
    "\n",
    "show(m)\n",
    "show(sol)\n",
    "latex(sol)"
   ]
  },
  {
   "cell_type": "code",
   "execution_count": 58,
   "metadata": {},
   "outputs": [
    {
     "data": {
      "text/html": [
       "<html><script type=\"math/tex; mode=display\">\\newcommand{\\Bold}[1]{\\mathbf{#1}}\\left(\\begin{array}{rrrrr}\n",
       "0 & 1 & 0 & 0 & 0 \\\\\n",
       "0 & 0 & 1 & 0 & 0 \\\\\n",
       "0 & 0 & 0 & 1 & 0 \\\\\n",
       "0 & 0 & 0 & 0 & 0 \\\\\n",
       "0 & 0 & 0 & 0 & 0\n",
       "\\end{array}\\right)</script></html>"
      ],
      "text/latex": [
       "$$\\newcommand{\\Bold}[1]{\\mathbf{#1}}\\left(\\begin{array}{rrrrr}\n",
       "0 & 1 & 0 & 0 & 0 \\\\\n",
       "0 & 0 & 1 & 0 & 0 \\\\\n",
       "0 & 0 & 0 & 1 & 0 \\\\\n",
       "0 & 0 & 0 & 0 & 0 \\\\\n",
       "0 & 0 & 0 & 0 & 0\n",
       "\\end{array}\\right)$$"
      ],
      "text/plain": [
       "[0 1 0 0 0]\n",
       "[0 0 1 0 0]\n",
       "[0 0 0 1 0]\n",
       "[0 0 0 0 0]\n",
       "[0 0 0 0 0]"
      ]
     },
     "metadata": {},
     "output_type": "display_data"
    },
    {
     "data": {
      "text/html": [
       "<html><script type=\"math/tex; mode=display\">\\newcommand{\\Bold}[1]{\\mathbf{#1}}\\left[\\left\\{d_{1} : 0, d_{2} : 0, d_{3} : 0, d_{4} : 0, d_{5} : r_{913}, a_{12} : r_{914}, a_{13} : r_{915}, a_{14} : r_{916}, a_{15} : r_{917}, a_{23} : r_{918}, a_{24} : r_{919}, a_{25} : r_{920}, a_{34} : r_{921}, a_{35} : r_{922}, a_{45} : -\\frac{r_{913} x_{35}}{x_{34}}\\right\\}, \\left\\{d_{1} : r_{923}, d_{2} : \\frac{r_{923}}{x_{12}}, d_{3} : \\frac{r_{923}}{x_{12} x_{23}}, d_{4} : \\frac{r_{923}}{x_{12} x_{23} x_{34}}, d_{5} : r_{924}, a_{12} : r_{925}, a_{13} : r_{926}, a_{14} : r_{927}, a_{15} : r_{928}, a_{23} : \\frac{r_{925}}{x_{12}}, a_{24} : \\frac{r_{926} x_{12} x_{23} x_{34} - r_{923} x_{14}}{x_{12}^{2} x_{23} x_{34}}, a_{25} : \\frac{r_{924} x_{14} x_{35}}{x_{12} x_{34}}, a_{34} : \\frac{r_{925} x_{23} x_{34} - r_{923} x_{24}}{x_{12} x_{23}^{2} x_{34}}, a_{35} : -\\frac{r_{924} x_{25} x_{34} - r_{924} x_{24} x_{35}}{x_{23} x_{34}}, a_{45} : -\\frac{r_{924} x_{35}}{x_{34}}\\right\\}\\right]</script></html>"
      ],
      "text/latex": [
       "$$\\newcommand{\\Bold}[1]{\\mathbf{#1}}\\left[\\left\\{d_{1} : 0, d_{2} : 0, d_{3} : 0, d_{4} : 0, d_{5} : r_{913}, a_{12} : r_{914}, a_{13} : r_{915}, a_{14} : r_{916}, a_{15} : r_{917}, a_{23} : r_{918}, a_{24} : r_{919}, a_{25} : r_{920}, a_{34} : r_{921}, a_{35} : r_{922}, a_{45} : -\\frac{r_{913} x_{35}}{x_{34}}\\right\\}, \\left\\{d_{1} : r_{923}, d_{2} : \\frac{r_{923}}{x_{12}}, d_{3} : \\frac{r_{923}}{x_{12} x_{23}}, d_{4} : \\frac{r_{923}}{x_{12} x_{23} x_{34}}, d_{5} : r_{924}, a_{12} : r_{925}, a_{13} : r_{926}, a_{14} : r_{927}, a_{15} : r_{928}, a_{23} : \\frac{r_{925}}{x_{12}}, a_{24} : \\frac{r_{926} x_{12} x_{23} x_{34} - r_{923} x_{14}}{x_{12}^{2} x_{23} x_{34}}, a_{25} : \\frac{r_{924} x_{14} x_{35}}{x_{12} x_{34}}, a_{34} : \\frac{r_{925} x_{23} x_{34} - r_{923} x_{24}}{x_{12} x_{23}^{2} x_{34}}, a_{35} : -\\frac{r_{924} x_{25} x_{34} - r_{924} x_{24} x_{35}}{x_{23} x_{34}}, a_{45} : -\\frac{r_{924} x_{35}}{x_{34}}\\right\\}\\right]$$"
      ],
      "text/plain": [
       "[{d1: 0,\n",
       "  d2: 0,\n",
       "  d3: 0,\n",
       "  d4: 0,\n",
       "  d5: r913,\n",
       "  a12: r914,\n",
       "  a13: r915,\n",
       "  a14: r916,\n",
       "  a15: r917,\n",
       "  a23: r918,\n",
       "  a24: r919,\n",
       "  a25: r920,\n",
       "  a34: r921,\n",
       "  a35: r922,\n",
       "  a45: -r913*x35/x34},\n",
       " {d1: r923,\n",
       "  d2: r923/x12,\n",
       "  d3: r923/(x12*x23),\n",
       "  d4: r923/(x12*x23*x34),\n",
       "  d5: r924,\n",
       "  a12: r925,\n",
       "  a13: r926,\n",
       "  a14: r927,\n",
       "  a15: r928,\n",
       "  a23: r925/x12,\n",
       "  a24: (r926*x12*x23*x34 - r923*x14)/(x12^2*x23*x34),\n",
       "  a25: r924*x14*x35/(x12*x34),\n",
       "  a34: (r925*x23*x34 - r923*x24)/(x12*x23^2*x34),\n",
       "  a35: -(r924*x25*x34 - r924*x24*x35)/(x23*x34),\n",
       "  a45: -r924*x35/x34}]"
      ]
     },
     "metadata": {},
     "output_type": "display_data"
    },
    {
     "data": {
      "text/plain": [
       "\\left[\\left\\{d_{1} : 0, d_{2} : 0, d_{3} : 0, d_{4} : 0, d_{5} : r_{913}, a_{12} : r_{914}, a_{13} : r_{915}, a_{14} : r_{916}, a_{15} : r_{917}, a_{23} : r_{918}, a_{24} : r_{919}, a_{25} : r_{920}, a_{34} : r_{921}, a_{35} : r_{922}, a_{45} : -\\frac{r_{913} x_{35}}{x_{34}}\\right\\}, \\left\\{d_{1} : r_{923}, d_{2} : \\frac{r_{923}}{x_{12}}, d_{3} : \\frac{r_{923}}{x_{12} x_{23}}, d_{4} : \\frac{r_{923}}{x_{12} x_{23} x_{34}}, d_{5} : r_{924}, a_{12} : r_{925}, a_{13} : r_{926}, a_{14} : r_{927}, a_{15} : r_{928}, a_{23} : \\frac{r_{925}}{x_{12}}, a_{24} : \\frac{r_{926} x_{12} x_{23} x_{34} - r_{923} x_{14}}{x_{12}^{2} x_{23} x_{34}}, a_{25} : \\frac{r_{924} x_{14} x_{35}}{x_{12} x_{34}}, a_{34} : \\frac{r_{925} x_{23} x_{34} - r_{923} x_{24}}{x_{12} x_{23}^{2} x_{34}}, a_{35} : -\\frac{r_{924} x_{25} x_{34} - r_{924} x_{24} x_{35}}{x_{23} x_{34}}, a_{45} : -\\frac{r_{924} x_{35}}{x_{34}}\\right\\}\\right]"
      ]
     },
     "execution_count": 58,
     "metadata": {},
     "output_type": "execute_result"
    }
   ],
   "source": [
    "#x7\n",
    "reset()\n",
    "\n",
    "var('x12,x13,x14,x15,x23,x24,x25,x34,x35,x45')\n",
    "var('d1,d2,d3,d4,d5')\n",
    "var('a12,a13,a14,a15,a23,a24,a25,a34,a35,a45')\n",
    "\n",
    "load_attach_path('C:\\\\Users\\\\julia\\\\Documents\\\\unb\\\\doutorado\\\\pensar\\\\codigo_sage_v2\\\\maquina\\\\x7')\n",
    "load('out_#111010.sage')\n",
    "\n",
    "m=matrix(QQ, [[0, 1, 0, 0, 0],\n",
    "              [0, 0, 1, 0, 0],\n",
    "              [0, 0, 0, 1, 0],\n",
    "              [0, 0, 0, 0, 0],\n",
    "              [0, 0, 0, 0, 0]])\n",
    "        \n",
    "#entry of matrix: (i,j) line i collum j, means (i-1,j-1)\n",
    "sol=solve([ eq1==m[0,1],\teq2==m[0,2],\teq3==m[0,3],\teq4==m[0,4],\t\n",
    "                                            eq5==m[1,2],    eq6==m[1,3],\n",
    "                                                            eq7==m[1,4], eq8==m[2,3], eq9==m[2,4]],d1,d2,d3,d4,d5,a12,a13,a14,a15,a23,a24,a25,a34,a35,a45, solution_dict=True)\n",
    "\n",
    "show(m)\n",
    "show(sol)\n",
    "latex(sol)"
   ]
  },
  {
   "cell_type": "code",
   "execution_count": 59,
   "metadata": {},
   "outputs": [
    {
     "data": {
      "text/html": [
       "<html><script type=\"math/tex; mode=display\">\\newcommand{\\Bold}[1]{\\mathbf{#1}}\\left(\\begin{array}{rrrrr}\n",
       "0 & 1 & 0 & 0 & 0 \\\\\n",
       "0 & 0 & 1 & 0 & 0 \\\\\n",
       "0 & 0 & 0 & 1 & 0 \\\\\n",
       "0 & 0 & 0 & 0 & 0 \\\\\n",
       "0 & 0 & 0 & 0 & 0\n",
       "\\end{array}\\right)</script></html>"
      ],
      "text/latex": [
       "$$\\newcommand{\\Bold}[1]{\\mathbf{#1}}\\left(\\begin{array}{rrrrr}\n",
       "0 & 1 & 0 & 0 & 0 \\\\\n",
       "0 & 0 & 1 & 0 & 0 \\\\\n",
       "0 & 0 & 0 & 1 & 0 \\\\\n",
       "0 & 0 & 0 & 0 & 0 \\\\\n",
       "0 & 0 & 0 & 0 & 0\n",
       "\\end{array}\\right)$$"
      ],
      "text/plain": [
       "[0 1 0 0 0]\n",
       "[0 0 1 0 0]\n",
       "[0 0 0 1 0]\n",
       "[0 0 0 0 0]\n",
       "[0 0 0 0 0]"
      ]
     },
     "metadata": {},
     "output_type": "display_data"
    },
    {
     "data": {
      "text/html": [
       "<html><script type=\"math/tex; mode=display\">\\newcommand{\\Bold}[1]{\\mathbf{#1}}\\left[\\left\\{d_{1} : 0, d_{2} : 0, d_{3} : 0, d_{4} : 0, d_{5} : r_{929}, a_{12} : r_{930}, a_{13} : r_{931}, a_{14} : r_{932}, a_{15} : r_{933}, a_{23} : r_{934}, a_{24} : r_{935}, a_{25} : r_{936}, a_{34} : r_{937}, a_{35} : r_{938}, a_{45} : -\\frac{r_{929} x_{35}}{x_{34}}\\right\\}, \\left\\{d_{1} : r_{939}, d_{2} : \\frac{r_{939}}{x_{12}}, d_{3} : \\frac{r_{939}}{x_{12} x_{23}}, d_{4} : \\frac{r_{939}}{x_{12} x_{23} x_{34}}, d_{5} : r_{940}, a_{12} : r_{941}, a_{13} : r_{942}, a_{14} : r_{943}, a_{15} : r_{944}, a_{23} : \\frac{r_{941}}{x_{12}}, a_{24} : \\frac{r_{942} x_{12} x_{23} x_{34} - r_{939} x_{14}}{x_{12}^{2} x_{23} x_{34}}, a_{25} : -\\frac{r_{940} x_{15} x_{34} - r_{940} x_{14} x_{35}}{x_{12} x_{34}}, a_{34} : \\frac{r_{941} x_{23} x_{34} - r_{939} x_{24}}{x_{12} x_{23}^{2} x_{34}}, a_{35} : -\\frac{r_{940} x_{25} x_{34} - r_{940} x_{24} x_{35}}{x_{23} x_{34}}, a_{45} : -\\frac{r_{940} x_{35}}{x_{34}}\\right\\}\\right]</script></html>"
      ],
      "text/latex": [
       "$$\\newcommand{\\Bold}[1]{\\mathbf{#1}}\\left[\\left\\{d_{1} : 0, d_{2} : 0, d_{3} : 0, d_{4} : 0, d_{5} : r_{929}, a_{12} : r_{930}, a_{13} : r_{931}, a_{14} : r_{932}, a_{15} : r_{933}, a_{23} : r_{934}, a_{24} : r_{935}, a_{25} : r_{936}, a_{34} : r_{937}, a_{35} : r_{938}, a_{45} : -\\frac{r_{929} x_{35}}{x_{34}}\\right\\}, \\left\\{d_{1} : r_{939}, d_{2} : \\frac{r_{939}}{x_{12}}, d_{3} : \\frac{r_{939}}{x_{12} x_{23}}, d_{4} : \\frac{r_{939}}{x_{12} x_{23} x_{34}}, d_{5} : r_{940}, a_{12} : r_{941}, a_{13} : r_{942}, a_{14} : r_{943}, a_{15} : r_{944}, a_{23} : \\frac{r_{941}}{x_{12}}, a_{24} : \\frac{r_{942} x_{12} x_{23} x_{34} - r_{939} x_{14}}{x_{12}^{2} x_{23} x_{34}}, a_{25} : -\\frac{r_{940} x_{15} x_{34} - r_{940} x_{14} x_{35}}{x_{12} x_{34}}, a_{34} : \\frac{r_{941} x_{23} x_{34} - r_{939} x_{24}}{x_{12} x_{23}^{2} x_{34}}, a_{35} : -\\frac{r_{940} x_{25} x_{34} - r_{940} x_{24} x_{35}}{x_{23} x_{34}}, a_{45} : -\\frac{r_{940} x_{35}}{x_{34}}\\right\\}\\right]$$"
      ],
      "text/plain": [
       "[{d1: 0,\n",
       "  d2: 0,\n",
       "  d3: 0,\n",
       "  d4: 0,\n",
       "  d5: r929,\n",
       "  a12: r930,\n",
       "  a13: r931,\n",
       "  a14: r932,\n",
       "  a15: r933,\n",
       "  a23: r934,\n",
       "  a24: r935,\n",
       "  a25: r936,\n",
       "  a34: r937,\n",
       "  a35: r938,\n",
       "  a45: -r929*x35/x34},\n",
       " {d1: r939,\n",
       "  d2: r939/x12,\n",
       "  d3: r939/(x12*x23),\n",
       "  d4: r939/(x12*x23*x34),\n",
       "  d5: r940,\n",
       "  a12: r941,\n",
       "  a13: r942,\n",
       "  a14: r943,\n",
       "  a15: r944,\n",
       "  a23: r941/x12,\n",
       "  a24: (r942*x12*x23*x34 - r939*x14)/(x12^2*x23*x34),\n",
       "  a25: -(r940*x15*x34 - r940*x14*x35)/(x12*x34),\n",
       "  a34: (r941*x23*x34 - r939*x24)/(x12*x23^2*x34),\n",
       "  a35: -(r940*x25*x34 - r940*x24*x35)/(x23*x34),\n",
       "  a45: -r940*x35/x34}]"
      ]
     },
     "metadata": {},
     "output_type": "display_data"
    },
    {
     "data": {
      "text/plain": [
       "\\left[\\left\\{d_{1} : 0, d_{2} : 0, d_{3} : 0, d_{4} : 0, d_{5} : r_{929}, a_{12} : r_{930}, a_{13} : r_{931}, a_{14} : r_{932}, a_{15} : r_{933}, a_{23} : r_{934}, a_{24} : r_{935}, a_{25} : r_{936}, a_{34} : r_{937}, a_{35} : r_{938}, a_{45} : -\\frac{r_{929} x_{35}}{x_{34}}\\right\\}, \\left\\{d_{1} : r_{939}, d_{2} : \\frac{r_{939}}{x_{12}}, d_{3} : \\frac{r_{939}}{x_{12} x_{23}}, d_{4} : \\frac{r_{939}}{x_{12} x_{23} x_{34}}, d_{5} : r_{940}, a_{12} : r_{941}, a_{13} : r_{942}, a_{14} : r_{943}, a_{15} : r_{944}, a_{23} : \\frac{r_{941}}{x_{12}}, a_{24} : \\frac{r_{942} x_{12} x_{23} x_{34} - r_{939} x_{14}}{x_{12}^{2} x_{23} x_{34}}, a_{25} : -\\frac{r_{940} x_{15} x_{34} - r_{940} x_{14} x_{35}}{x_{12} x_{34}}, a_{34} : \\frac{r_{941} x_{23} x_{34} - r_{939} x_{24}}{x_{12} x_{23}^{2} x_{34}}, a_{35} : -\\frac{r_{940} x_{25} x_{34} - r_{940} x_{24} x_{35}}{x_{23} x_{34}}, a_{45} : -\\frac{r_{940} x_{35}}{x_{34}}\\right\\}\\right]"
      ]
     },
     "execution_count": 59,
     "metadata": {},
     "output_type": "execute_result"
    }
   ],
   "source": [
    "#x7\n",
    "reset()\n",
    "\n",
    "var('x12,x13,x14,x15,x23,x24,x25,x34,x35,x45')\n",
    "var('d1,d2,d3,d4,d5')\n",
    "var('a12,a13,a14,a15,a23,a24,a25,a34,a35,a45')\n",
    "\n",
    "load_attach_path('C:\\\\Users\\\\julia\\\\Documents\\\\unb\\\\doutorado\\\\pensar\\\\codigo_sage_v2\\\\maquina\\\\x7')\n",
    "load('out_#111011.sage')\n",
    "\n",
    "m=matrix(QQ, [[0, 1, 0, 0, 0],\n",
    "              [0, 0, 1, 0, 0],\n",
    "              [0, 0, 0, 1, 0],\n",
    "              [0, 0, 0, 0, 0],\n",
    "              [0, 0, 0, 0, 0]])\n",
    "        \n",
    "#entry of matrix: (i,j) line i collum j, means (i-1,j-1)\n",
    "sol=solve([ eq1==m[0,1],\teq2==m[0,2],\teq3==m[0,3],\teq4==m[0,4],\t\n",
    "                                            eq5==m[1,2],    eq6==m[1,3],\n",
    "                                                            eq7==m[1,4], eq8==m[2,3], eq9==m[2,4]],d1,d2,d3,d4,d5,a12,a13,a14,a15,a23,a24,a25,a34,a35,a45, solution_dict=True)\n",
    "\n",
    "show(m)\n",
    "show(sol)\n",
    "latex(sol)"
   ]
  },
  {
   "cell_type": "code",
   "execution_count": 1,
   "metadata": {},
   "outputs": [
    {
     "data": {
      "text/html": [
       "<html><script type=\"math/tex; mode=display\">\\newcommand{\\Bold}[1]{\\mathbf{#1}}\\left(\\begin{array}{rrrrr}\n",
       "0 & 1 & 0 & 0 & 0 \\\\\n",
       "0 & 0 & 1 & 0 & 0 \\\\\n",
       "0 & 0 & 0 & 1 & 0 \\\\\n",
       "0 & 0 & 0 & 0 & 0 \\\\\n",
       "0 & 0 & 0 & 0 & 0\n",
       "\\end{array}\\right)</script></html>"
      ],
      "text/latex": [
       "$$\\newcommand{\\Bold}[1]{\\mathbf{#1}}\\left(\\begin{array}{rrrrr}\n",
       "0 & 1 & 0 & 0 & 0 \\\\\n",
       "0 & 0 & 1 & 0 & 0 \\\\\n",
       "0 & 0 & 0 & 1 & 0 \\\\\n",
       "0 & 0 & 0 & 0 & 0 \\\\\n",
       "0 & 0 & 0 & 0 & 0\n",
       "\\end{array}\\right)$$"
      ],
      "text/plain": [
       "[0 1 0 0 0]\n",
       "[0 0 1 0 0]\n",
       "[0 0 0 1 0]\n",
       "[0 0 0 0 0]\n",
       "[0 0 0 0 0]"
      ]
     },
     "metadata": {},
     "output_type": "display_data"
    },
    {
     "data": {
      "text/html": [
       "<html><script type=\"math/tex; mode=display\">\\newcommand{\\Bold}[1]{\\mathbf{#1}}\\left[\\left\\{d_{1} : 0, d_{2} : 0, d_{3} : 0, d_{4} : 0, d_{5} : r_{1}, a_{12} : r_{2}, a_{13} : r_{3}, a_{14} : r_{4}, a_{15} : r_{5}, a_{23} : r_{6}, a_{24} : r_{7}, a_{25} : r_{8}, a_{34} : r_{9}, a_{35} : r_{10}, a_{45} : -\\frac{r_{1} x_{35}}{x_{34}}\\right\\}, \\left\\{d_{1} : r_{11}, d_{2} : \\frac{r_{11}}{x_{12}}, d_{3} : \\frac{r_{11}}{x_{12} x_{23}}, d_{4} : \\frac{r_{11}}{x_{12} x_{23} x_{34}}, d_{5} : r_{12}, a_{12} : r_{13}, a_{13} : r_{14}, a_{14} : r_{15}, a_{15} : r_{16}, a_{23} : \\frac{r_{13} x_{12} x_{23} - r_{11} x_{13}}{x_{12}^{2} x_{23}}, a_{24} : \\frac{r_{11} x_{12} x_{13} x_{24} + {\\left(r_{14} x_{12}^{2} x_{23}^{2} - r_{13} x_{12} x_{13} x_{23} + r_{11} x_{13}^{2}\\right)} x_{34}}{x_{12}^{3} x_{23}^{2} x_{34}}, a_{25} : \\frac{r_{12} x_{13} x_{25} x_{34} - r_{12} x_{13} x_{24} x_{35}}{x_{12} x_{23} x_{34}}, a_{34} : -\\frac{r_{11} x_{12} x_{24} - {\\left(r_{13} x_{12} x_{23} - r_{11} x_{13}\\right)} x_{34}}{x_{12}^{2} x_{23}^{2} x_{34}}, a_{35} : -\\frac{r_{12} x_{25} x_{34} - r_{12} x_{24} x_{35}}{x_{23} x_{34}}, a_{45} : -\\frac{r_{12} x_{35}}{x_{34}}\\right\\}\\right]</script></html>"
      ],
      "text/latex": [
       "$$\\newcommand{\\Bold}[1]{\\mathbf{#1}}\\left[\\left\\{d_{1} : 0, d_{2} : 0, d_{3} : 0, d_{4} : 0, d_{5} : r_{1}, a_{12} : r_{2}, a_{13} : r_{3}, a_{14} : r_{4}, a_{15} : r_{5}, a_{23} : r_{6}, a_{24} : r_{7}, a_{25} : r_{8}, a_{34} : r_{9}, a_{35} : r_{10}, a_{45} : -\\frac{r_{1} x_{35}}{x_{34}}\\right\\}, \\left\\{d_{1} : r_{11}, d_{2} : \\frac{r_{11}}{x_{12}}, d_{3} : \\frac{r_{11}}{x_{12} x_{23}}, d_{4} : \\frac{r_{11}}{x_{12} x_{23} x_{34}}, d_{5} : r_{12}, a_{12} : r_{13}, a_{13} : r_{14}, a_{14} : r_{15}, a_{15} : r_{16}, a_{23} : \\frac{r_{13} x_{12} x_{23} - r_{11} x_{13}}{x_{12}^{2} x_{23}}, a_{24} : \\frac{r_{11} x_{12} x_{13} x_{24} + {\\left(r_{14} x_{12}^{2} x_{23}^{2} - r_{13} x_{12} x_{13} x_{23} + r_{11} x_{13}^{2}\\right)} x_{34}}{x_{12}^{3} x_{23}^{2} x_{34}}, a_{25} : \\frac{r_{12} x_{13} x_{25} x_{34} - r_{12} x_{13} x_{24} x_{35}}{x_{12} x_{23} x_{34}}, a_{34} : -\\frac{r_{11} x_{12} x_{24} - {\\left(r_{13} x_{12} x_{23} - r_{11} x_{13}\\right)} x_{34}}{x_{12}^{2} x_{23}^{2} x_{34}}, a_{35} : -\\frac{r_{12} x_{25} x_{34} - r_{12} x_{24} x_{35}}{x_{23} x_{34}}, a_{45} : -\\frac{r_{12} x_{35}}{x_{34}}\\right\\}\\right]$$"
      ],
      "text/plain": [
       "[{d1: 0,\n",
       "  d2: 0,\n",
       "  d3: 0,\n",
       "  d4: 0,\n",
       "  d5: r1,\n",
       "  a12: r2,\n",
       "  a13: r3,\n",
       "  a14: r4,\n",
       "  a15: r5,\n",
       "  a23: r6,\n",
       "  a24: r7,\n",
       "  a25: r8,\n",
       "  a34: r9,\n",
       "  a35: r10,\n",
       "  a45: -r1*x35/x34},\n",
       " {d1: r11,\n",
       "  d2: r11/x12,\n",
       "  d3: r11/(x12*x23),\n",
       "  d4: r11/(x12*x23*x34),\n",
       "  d5: r12,\n",
       "  a12: r13,\n",
       "  a13: r14,\n",
       "  a14: r15,\n",
       "  a15: r16,\n",
       "  a23: (r13*x12*x23 - r11*x13)/(x12^2*x23),\n",
       "  a24: (r11*x12*x13*x24 + (r14*x12^2*x23^2 - r13*x12*x13*x23 + r11*x13^2)*x34)/(x12^3*x23^2*x34),\n",
       "  a25: (r12*x13*x25*x34 - r12*x13*x24*x35)/(x12*x23*x34),\n",
       "  a34: -(r11*x12*x24 - (r13*x12*x23 - r11*x13)*x34)/(x12^2*x23^2*x34),\n",
       "  a35: -(r12*x25*x34 - r12*x24*x35)/(x23*x34),\n",
       "  a45: -r12*x35/x34}]"
      ]
     },
     "metadata": {},
     "output_type": "display_data"
    },
    {
     "data": {
      "text/plain": [
       "\\left[\\left\\{d_{1} : 0, d_{2} : 0, d_{3} : 0, d_{4} : 0, d_{5} : r_{1}, a_{12} : r_{2}, a_{13} : r_{3}, a_{14} : r_{4}, a_{15} : r_{5}, a_{23} : r_{6}, a_{24} : r_{7}, a_{25} : r_{8}, a_{34} : r_{9}, a_{35} : r_{10}, a_{45} : -\\frac{r_{1} x_{35}}{x_{34}}\\right\\}, \\left\\{d_{1} : r_{11}, d_{2} : \\frac{r_{11}}{x_{12}}, d_{3} : \\frac{r_{11}}{x_{12} x_{23}}, d_{4} : \\frac{r_{11}}{x_{12} x_{23} x_{34}}, d_{5} : r_{12}, a_{12} : r_{13}, a_{13} : r_{14}, a_{14} : r_{15}, a_{15} : r_{16}, a_{23} : \\frac{r_{13} x_{12} x_{23} - r_{11} x_{13}}{x_{12}^{2} x_{23}}, a_{24} : \\frac{r_{11} x_{12} x_{13} x_{24} + {\\left(r_{14} x_{12}^{2} x_{23}^{2} - r_{13} x_{12} x_{13} x_{23} + r_{11} x_{13}^{2}\\right)} x_{34}}{x_{12}^{3} x_{23}^{2} x_{34}}, a_{25} : \\frac{r_{12} x_{13} x_{25} x_{34} - r_{12} x_{13} x_{24} x_{35}}{x_{12} x_{23} x_{34}}, a_{34} : -\\frac{r_{11} x_{12} x_{24} - {\\left(r_{13} x_{12} x_{23} - r_{11} x_{13}\\right)} x_{34}}{x_{12}^{2} x_{23}^{2} x_{34}}, a_{35} : -\\frac{r_{12} x_{25} x_{34} - r_{12} x_{24} x_{35}}{x_{23} x_{34}}, a_{45} : -\\frac{r_{12} x_{35}}{x_{34}}\\right\\}\\right]"
      ]
     },
     "execution_count": 1,
     "metadata": {},
     "output_type": "execute_result"
    }
   ],
   "source": [
    "#x7\n",
    "reset()\n",
    "\n",
    "var('x12,x13,x14,x15,x23,x24,x25,x34,x35,x45')\n",
    "var('d1,d2,d3,d4,d5')\n",
    "var('a12,a13,a14,a15,a23,a24,a25,a34,a35,a45')\n",
    "\n",
    "load_attach_path('C:\\\\Users\\\\julia\\\\Documents\\\\unb\\\\doutorado\\\\pensar\\\\codigo_sage_v2\\\\maquina\\\\x7')\n",
    "load('out_#111100.sage')\n",
    "\n",
    "m=matrix(QQ, [[0, 1, 0, 0, 0],\n",
    "              [0, 0, 1, 0, 0],\n",
    "              [0, 0, 0, 1, 0],\n",
    "              [0, 0, 0, 0, 0],\n",
    "              [0, 0, 0, 0, 0]])\n",
    "        \n",
    "#entry of matrix: (i,j) line i collum j, means (i-1,j-1)\n",
    "sol=solve([ eq1==m[0,1],\teq2==m[0,2],\teq3==m[0,3],\teq4==m[0,4],\t\n",
    "                                            eq5==m[1,2],    eq6==m[1,3],\n",
    "                                                            eq7==m[1,4], eq8==m[2,3], eq9==m[2,4]],d1,d2,d3,d4,d5,a12,a13,a14,a15,a23,a24,a25,a34,a35,a45, solution_dict=True)\n",
    "\n",
    "show(m)\n",
    "show(sol)\n",
    "latex(sol)"
   ]
  },
  {
   "cell_type": "code",
   "execution_count": 2,
   "metadata": {},
   "outputs": [
    {
     "data": {
      "text/html": [
       "<html><script type=\"math/tex; mode=display\">\\newcommand{\\Bold}[1]{\\mathbf{#1}}\\left(\\begin{array}{rrrrr}\n",
       "0 & 1 & 0 & 0 & 0 \\\\\n",
       "0 & 0 & 1 & 0 & 0 \\\\\n",
       "0 & 0 & 0 & 1 & 0 \\\\\n",
       "0 & 0 & 0 & 0 & 0 \\\\\n",
       "0 & 0 & 0 & 0 & 0\n",
       "\\end{array}\\right)</script></html>"
      ],
      "text/latex": [
       "$$\\newcommand{\\Bold}[1]{\\mathbf{#1}}\\left(\\begin{array}{rrrrr}\n",
       "0 & 1 & 0 & 0 & 0 \\\\\n",
       "0 & 0 & 1 & 0 & 0 \\\\\n",
       "0 & 0 & 0 & 1 & 0 \\\\\n",
       "0 & 0 & 0 & 0 & 0 \\\\\n",
       "0 & 0 & 0 & 0 & 0\n",
       "\\end{array}\\right)$$"
      ],
      "text/plain": [
       "[0 1 0 0 0]\n",
       "[0 0 1 0 0]\n",
       "[0 0 0 1 0]\n",
       "[0 0 0 0 0]\n",
       "[0 0 0 0 0]"
      ]
     },
     "metadata": {},
     "output_type": "display_data"
    },
    {
     "data": {
      "text/html": [
       "<html><script type=\"math/tex; mode=display\">\\newcommand{\\Bold}[1]{\\mathbf{#1}}\\left[\\left\\{d_{1} : 0, d_{2} : 0, d_{3} : 0, d_{4} : 0, d_{5} : r_{17}, a_{12} : r_{18}, a_{13} : r_{19}, a_{14} : r_{20}, a_{15} : r_{21}, a_{23} : r_{22}, a_{24} : r_{23}, a_{25} : r_{24}, a_{34} : r_{25}, a_{35} : r_{26}, a_{45} : -\\frac{r_{17} x_{35}}{x_{34}}\\right\\}, \\left\\{d_{1} : r_{27}, d_{2} : \\frac{r_{27}}{x_{12}}, d_{3} : \\frac{r_{27}}{x_{12} x_{23}}, d_{4} : \\frac{r_{27}}{x_{12} x_{23} x_{34}}, d_{5} : r_{28}, a_{12} : r_{29}, a_{13} : r_{30}, a_{14} : r_{31}, a_{15} : r_{32}, a_{23} : \\frac{r_{29} x_{12} x_{23} - r_{27} x_{13}}{x_{12}^{2} x_{23}}, a_{24} : \\frac{r_{27} x_{12} x_{13} x_{24} + {\\left(r_{30} x_{12}^{2} x_{23}^{2} - r_{29} x_{12} x_{13} x_{23} + r_{27} x_{13}^{2}\\right)} x_{34}}{x_{12}^{3} x_{23}^{2} x_{34}}, a_{25} : -\\frac{r_{28} x_{13} x_{24} x_{35} + {\\left(r_{28} x_{15} x_{23} - r_{28} x_{13} x_{25}\\right)} x_{34}}{x_{12} x_{23} x_{34}}, a_{34} : -\\frac{r_{27} x_{12} x_{24} - {\\left(r_{29} x_{12} x_{23} - r_{27} x_{13}\\right)} x_{34}}{x_{12}^{2} x_{23}^{2} x_{34}}, a_{35} : -\\frac{r_{28} x_{25} x_{34} - r_{28} x_{24} x_{35}}{x_{23} x_{34}}, a_{45} : -\\frac{r_{28} x_{35}}{x_{34}}\\right\\}\\right]</script></html>"
      ],
      "text/latex": [
       "$$\\newcommand{\\Bold}[1]{\\mathbf{#1}}\\left[\\left\\{d_{1} : 0, d_{2} : 0, d_{3} : 0, d_{4} : 0, d_{5} : r_{17}, a_{12} : r_{18}, a_{13} : r_{19}, a_{14} : r_{20}, a_{15} : r_{21}, a_{23} : r_{22}, a_{24} : r_{23}, a_{25} : r_{24}, a_{34} : r_{25}, a_{35} : r_{26}, a_{45} : -\\frac{r_{17} x_{35}}{x_{34}}\\right\\}, \\left\\{d_{1} : r_{27}, d_{2} : \\frac{r_{27}}{x_{12}}, d_{3} : \\frac{r_{27}}{x_{12} x_{23}}, d_{4} : \\frac{r_{27}}{x_{12} x_{23} x_{34}}, d_{5} : r_{28}, a_{12} : r_{29}, a_{13} : r_{30}, a_{14} : r_{31}, a_{15} : r_{32}, a_{23} : \\frac{r_{29} x_{12} x_{23} - r_{27} x_{13}}{x_{12}^{2} x_{23}}, a_{24} : \\frac{r_{27} x_{12} x_{13} x_{24} + {\\left(r_{30} x_{12}^{2} x_{23}^{2} - r_{29} x_{12} x_{13} x_{23} + r_{27} x_{13}^{2}\\right)} x_{34}}{x_{12}^{3} x_{23}^{2} x_{34}}, a_{25} : -\\frac{r_{28} x_{13} x_{24} x_{35} + {\\left(r_{28} x_{15} x_{23} - r_{28} x_{13} x_{25}\\right)} x_{34}}{x_{12} x_{23} x_{34}}, a_{34} : -\\frac{r_{27} x_{12} x_{24} - {\\left(r_{29} x_{12} x_{23} - r_{27} x_{13}\\right)} x_{34}}{x_{12}^{2} x_{23}^{2} x_{34}}, a_{35} : -\\frac{r_{28} x_{25} x_{34} - r_{28} x_{24} x_{35}}{x_{23} x_{34}}, a_{45} : -\\frac{r_{28} x_{35}}{x_{34}}\\right\\}\\right]$$"
      ],
      "text/plain": [
       "[{d1: 0,\n",
       "  d2: 0,\n",
       "  d3: 0,\n",
       "  d4: 0,\n",
       "  d5: r17,\n",
       "  a12: r18,\n",
       "  a13: r19,\n",
       "  a14: r20,\n",
       "  a15: r21,\n",
       "  a23: r22,\n",
       "  a24: r23,\n",
       "  a25: r24,\n",
       "  a34: r25,\n",
       "  a35: r26,\n",
       "  a45: -r17*x35/x34},\n",
       " {d1: r27,\n",
       "  d2: r27/x12,\n",
       "  d3: r27/(x12*x23),\n",
       "  d4: r27/(x12*x23*x34),\n",
       "  d5: r28,\n",
       "  a12: r29,\n",
       "  a13: r30,\n",
       "  a14: r31,\n",
       "  a15: r32,\n",
       "  a23: (r29*x12*x23 - r27*x13)/(x12^2*x23),\n",
       "  a24: (r27*x12*x13*x24 + (r30*x12^2*x23^2 - r29*x12*x13*x23 + r27*x13^2)*x34)/(x12^3*x23^2*x34),\n",
       "  a25: -(r28*x13*x24*x35 + (r28*x15*x23 - r28*x13*x25)*x34)/(x12*x23*x34),\n",
       "  a34: -(r27*x12*x24 - (r29*x12*x23 - r27*x13)*x34)/(x12^2*x23^2*x34),\n",
       "  a35: -(r28*x25*x34 - r28*x24*x35)/(x23*x34),\n",
       "  a45: -r28*x35/x34}]"
      ]
     },
     "metadata": {},
     "output_type": "display_data"
    },
    {
     "data": {
      "text/plain": [
       "\\left[\\left\\{d_{1} : 0, d_{2} : 0, d_{3} : 0, d_{4} : 0, d_{5} : r_{17}, a_{12} : r_{18}, a_{13} : r_{19}, a_{14} : r_{20}, a_{15} : r_{21}, a_{23} : r_{22}, a_{24} : r_{23}, a_{25} : r_{24}, a_{34} : r_{25}, a_{35} : r_{26}, a_{45} : -\\frac{r_{17} x_{35}}{x_{34}}\\right\\}, \\left\\{d_{1} : r_{27}, d_{2} : \\frac{r_{27}}{x_{12}}, d_{3} : \\frac{r_{27}}{x_{12} x_{23}}, d_{4} : \\frac{r_{27}}{x_{12} x_{23} x_{34}}, d_{5} : r_{28}, a_{12} : r_{29}, a_{13} : r_{30}, a_{14} : r_{31}, a_{15} : r_{32}, a_{23} : \\frac{r_{29} x_{12} x_{23} - r_{27} x_{13}}{x_{12}^{2} x_{23}}, a_{24} : \\frac{r_{27} x_{12} x_{13} x_{24} + {\\left(r_{30} x_{12}^{2} x_{23}^{2} - r_{29} x_{12} x_{13} x_{23} + r_{27} x_{13}^{2}\\right)} x_{34}}{x_{12}^{3} x_{23}^{2} x_{34}}, a_{25} : -\\frac{r_{28} x_{13} x_{24} x_{35} + {\\left(r_{28} x_{15} x_{23} - r_{28} x_{13} x_{25}\\right)} x_{34}}{x_{12} x_{23} x_{34}}, a_{34} : -\\frac{r_{27} x_{12} x_{24} - {\\left(r_{29} x_{12} x_{23} - r_{27} x_{13}\\right)} x_{34}}{x_{12}^{2} x_{23}^{2} x_{34}}, a_{35} : -\\frac{r_{28} x_{25} x_{34} - r_{28} x_{24} x_{35}}{x_{23} x_{34}}, a_{45} : -\\frac{r_{28} x_{35}}{x_{34}}\\right\\}\\right]"
      ]
     },
     "execution_count": 2,
     "metadata": {},
     "output_type": "execute_result"
    }
   ],
   "source": [
    "#x7\n",
    "reset()\n",
    "\n",
    "var('x12,x13,x14,x15,x23,x24,x25,x34,x35,x45')\n",
    "var('d1,d2,d3,d4,d5')\n",
    "var('a12,a13,a14,a15,a23,a24,a25,a34,a35,a45')\n",
    "\n",
    "load_attach_path('C:\\\\Users\\\\julia\\\\Documents\\\\unb\\\\doutorado\\\\pensar\\\\codigo_sage_v2\\\\maquina\\\\x7')\n",
    "load('out_#111101.sage')\n",
    "\n",
    "m=matrix(QQ, [[0, 1, 0, 0, 0],\n",
    "              [0, 0, 1, 0, 0],\n",
    "              [0, 0, 0, 1, 0],\n",
    "              [0, 0, 0, 0, 0],\n",
    "              [0, 0, 0, 0, 0]])\n",
    "        \n",
    "#entry of matrix: (i,j) line i collum j, means (i-1,j-1)\n",
    "sol=solve([ eq1==m[0,1],\teq2==m[0,2],\teq3==m[0,3],\teq4==m[0,4],\t\n",
    "                                            eq5==m[1,2],    eq6==m[1,3],\n",
    "                                                            eq7==m[1,4], eq8==m[2,3], eq9==m[2,4]],d1,d2,d3,d4,d5,a12,a13,a14,a15,a23,a24,a25,a34,a35,a45, solution_dict=True)\n",
    "\n",
    "show(m)\n",
    "show(sol)\n",
    "latex(sol)"
   ]
  },
  {
   "cell_type": "code",
   "execution_count": 1,
   "metadata": {},
   "outputs": [
    {
     "data": {
      "text/html": [
       "<html><script type=\"math/tex; mode=display\">\\newcommand{\\Bold}[1]{\\mathbf{#1}}\\left(\\begin{array}{rrrrr}\n",
       "0 & 1 & 0 & 0 & 0 \\\\\n",
       "0 & 0 & 1 & 0 & 0 \\\\\n",
       "0 & 0 & 0 & 1 & 0 \\\\\n",
       "0 & 0 & 0 & 0 & 0 \\\\\n",
       "0 & 0 & 0 & 0 & 0\n",
       "\\end{array}\\right)</script></html>"
      ],
      "text/latex": [
       "$$\\newcommand{\\Bold}[1]{\\mathbf{#1}}\\left(\\begin{array}{rrrrr}\n",
       "0 & 1 & 0 & 0 & 0 \\\\\n",
       "0 & 0 & 1 & 0 & 0 \\\\\n",
       "0 & 0 & 0 & 1 & 0 \\\\\n",
       "0 & 0 & 0 & 0 & 0 \\\\\n",
       "0 & 0 & 0 & 0 & 0\n",
       "\\end{array}\\right)$$"
      ],
      "text/plain": [
       "[0 1 0 0 0]\n",
       "[0 0 1 0 0]\n",
       "[0 0 0 1 0]\n",
       "[0 0 0 0 0]\n",
       "[0 0 0 0 0]"
      ]
     },
     "metadata": {},
     "output_type": "display_data"
    },
    {
     "data": {
      "text/html": [
       "<html><script type=\"math/tex; mode=display\">\\newcommand{\\Bold}[1]{\\mathbf{#1}}\\left[\\left\\{d_{1} : 0, d_{2} : 0, d_{3} : 0, d_{4} : 0, d_{5} : r_{1}, a_{12} : r_{2}, a_{13} : r_{3}, a_{14} : r_{4}, a_{15} : r_{5}, a_{23} : r_{6}, a_{24} : r_{7}, a_{25} : r_{8}, a_{34} : r_{9}, a_{35} : r_{10}, a_{45} : -\\frac{r_{1} x_{35}}{x_{34}}\\right\\}, \\left\\{d_{1} : r_{11}, d_{2} : \\frac{r_{11}}{x_{12}}, d_{3} : \\frac{r_{11}}{x_{12} x_{23}}, d_{4} : \\frac{r_{11}}{x_{12} x_{23} x_{34}}, d_{5} : r_{12}, a_{12} : r_{13}, a_{13} : r_{14}, a_{14} : r_{15}, a_{15} : r_{16}, a_{23} : \\frac{r_{13} x_{12} x_{23} - r_{11} x_{13}}{x_{12}^{2} x_{23}}, a_{24} : -\\frac{r_{11} x_{12} x_{14} x_{23} - r_{11} x_{12} x_{13} x_{24} - {\\left(r_{14} x_{12}^{2} x_{23}^{2} - r_{13} x_{12} x_{13} x_{23} + r_{11} x_{13}^{2}\\right)} x_{34}}{x_{12}^{3} x_{23}^{2} x_{34}}, a_{25} : \\frac{r_{12} x_{13} x_{25} x_{34} + {\\left(r_{12} x_{14} x_{23} - r_{12} x_{13} x_{24}\\right)} x_{35}}{x_{12} x_{23} x_{34}}, a_{34} : -\\frac{r_{11} x_{12} x_{24} - {\\left(r_{13} x_{12} x_{23} - r_{11} x_{13}\\right)} x_{34}}{x_{12}^{2} x_{23}^{2} x_{34}}, a_{35} : -\\frac{r_{12} x_{25} x_{34} - r_{12} x_{24} x_{35}}{x_{23} x_{34}}, a_{45} : -\\frac{r_{12} x_{35}}{x_{34}}\\right\\}\\right]</script></html>"
      ],
      "text/latex": [
       "$$\\newcommand{\\Bold}[1]{\\mathbf{#1}}\\left[\\left\\{d_{1} : 0, d_{2} : 0, d_{3} : 0, d_{4} : 0, d_{5} : r_{1}, a_{12} : r_{2}, a_{13} : r_{3}, a_{14} : r_{4}, a_{15} : r_{5}, a_{23} : r_{6}, a_{24} : r_{7}, a_{25} : r_{8}, a_{34} : r_{9}, a_{35} : r_{10}, a_{45} : -\\frac{r_{1} x_{35}}{x_{34}}\\right\\}, \\left\\{d_{1} : r_{11}, d_{2} : \\frac{r_{11}}{x_{12}}, d_{3} : \\frac{r_{11}}{x_{12} x_{23}}, d_{4} : \\frac{r_{11}}{x_{12} x_{23} x_{34}}, d_{5} : r_{12}, a_{12} : r_{13}, a_{13} : r_{14}, a_{14} : r_{15}, a_{15} : r_{16}, a_{23} : \\frac{r_{13} x_{12} x_{23} - r_{11} x_{13}}{x_{12}^{2} x_{23}}, a_{24} : -\\frac{r_{11} x_{12} x_{14} x_{23} - r_{11} x_{12} x_{13} x_{24} - {\\left(r_{14} x_{12}^{2} x_{23}^{2} - r_{13} x_{12} x_{13} x_{23} + r_{11} x_{13}^{2}\\right)} x_{34}}{x_{12}^{3} x_{23}^{2} x_{34}}, a_{25} : \\frac{r_{12} x_{13} x_{25} x_{34} + {\\left(r_{12} x_{14} x_{23} - r_{12} x_{13} x_{24}\\right)} x_{35}}{x_{12} x_{23} x_{34}}, a_{34} : -\\frac{r_{11} x_{12} x_{24} - {\\left(r_{13} x_{12} x_{23} - r_{11} x_{13}\\right)} x_{34}}{x_{12}^{2} x_{23}^{2} x_{34}}, a_{35} : -\\frac{r_{12} x_{25} x_{34} - r_{12} x_{24} x_{35}}{x_{23} x_{34}}, a_{45} : -\\frac{r_{12} x_{35}}{x_{34}}\\right\\}\\right]$$"
      ],
      "text/plain": [
       "[{d1: 0,\n",
       "  d2: 0,\n",
       "  d3: 0,\n",
       "  d4: 0,\n",
       "  d5: r1,\n",
       "  a12: r2,\n",
       "  a13: r3,\n",
       "  a14: r4,\n",
       "  a15: r5,\n",
       "  a23: r6,\n",
       "  a24: r7,\n",
       "  a25: r8,\n",
       "  a34: r9,\n",
       "  a35: r10,\n",
       "  a45: -r1*x35/x34},\n",
       " {d1: r11,\n",
       "  d2: r11/x12,\n",
       "  d3: r11/(x12*x23),\n",
       "  d4: r11/(x12*x23*x34),\n",
       "  d5: r12,\n",
       "  a12: r13,\n",
       "  a13: r14,\n",
       "  a14: r15,\n",
       "  a15: r16,\n",
       "  a23: (r13*x12*x23 - r11*x13)/(x12^2*x23),\n",
       "  a24: -(r11*x12*x14*x23 - r11*x12*x13*x24 - (r14*x12^2*x23^2 - r13*x12*x13*x23 + r11*x13^2)*x34)/(x12^3*x23^2*x34),\n",
       "  a25: (r12*x13*x25*x34 + (r12*x14*x23 - r12*x13*x24)*x35)/(x12*x23*x34),\n",
       "  a34: -(r11*x12*x24 - (r13*x12*x23 - r11*x13)*x34)/(x12^2*x23^2*x34),\n",
       "  a35: -(r12*x25*x34 - r12*x24*x35)/(x23*x34),\n",
       "  a45: -r12*x35/x34}]"
      ]
     },
     "metadata": {},
     "output_type": "display_data"
    },
    {
     "data": {
      "text/plain": [
       "\\left[\\left\\{d_{1} : 0, d_{2} : 0, d_{3} : 0, d_{4} : 0, d_{5} : r_{1}, a_{12} : r_{2}, a_{13} : r_{3}, a_{14} : r_{4}, a_{15} : r_{5}, a_{23} : r_{6}, a_{24} : r_{7}, a_{25} : r_{8}, a_{34} : r_{9}, a_{35} : r_{10}, a_{45} : -\\frac{r_{1} x_{35}}{x_{34}}\\right\\}, \\left\\{d_{1} : r_{11}, d_{2} : \\frac{r_{11}}{x_{12}}, d_{3} : \\frac{r_{11}}{x_{12} x_{23}}, d_{4} : \\frac{r_{11}}{x_{12} x_{23} x_{34}}, d_{5} : r_{12}, a_{12} : r_{13}, a_{13} : r_{14}, a_{14} : r_{15}, a_{15} : r_{16}, a_{23} : \\frac{r_{13} x_{12} x_{23} - r_{11} x_{13}}{x_{12}^{2} x_{23}}, a_{24} : -\\frac{r_{11} x_{12} x_{14} x_{23} - r_{11} x_{12} x_{13} x_{24} - {\\left(r_{14} x_{12}^{2} x_{23}^{2} - r_{13} x_{12} x_{13} x_{23} + r_{11} x_{13}^{2}\\right)} x_{34}}{x_{12}^{3} x_{23}^{2} x_{34}}, a_{25} : \\frac{r_{12} x_{13} x_{25} x_{34} + {\\left(r_{12} x_{14} x_{23} - r_{12} x_{13} x_{24}\\right)} x_{35}}{x_{12} x_{23} x_{34}}, a_{34} : -\\frac{r_{11} x_{12} x_{24} - {\\left(r_{13} x_{12} x_{23} - r_{11} x_{13}\\right)} x_{34}}{x_{12}^{2} x_{23}^{2} x_{34}}, a_{35} : -\\frac{r_{12} x_{25} x_{34} - r_{12} x_{24} x_{35}}{x_{23} x_{34}}, a_{45} : -\\frac{r_{12} x_{35}}{x_{34}}\\right\\}\\right]"
      ]
     },
     "execution_count": 1,
     "metadata": {},
     "output_type": "execute_result"
    }
   ],
   "source": [
    "#x7\n",
    "reset()\n",
    "\n",
    "var('x12,x13,x14,x15,x23,x24,x25,x34,x35,x45')\n",
    "var('d1,d2,d3,d4,d5')\n",
    "var('a12,a13,a14,a15,a23,a24,a25,a34,a35,a45')\n",
    "\n",
    "load_attach_path('C:\\\\Users\\\\julia\\\\Documents\\\\unb\\\\doutorado\\\\pensar\\\\codigo_sage_v2\\\\maquina\\\\x7')\n",
    "load('out_#111110.sage')\n",
    "\n",
    "m=matrix(QQ, [[0, 1, 0, 0, 0],\n",
    "              [0, 0, 1, 0, 0],\n",
    "              [0, 0, 0, 1, 0],\n",
    "              [0, 0, 0, 0, 0],\n",
    "              [0, 0, 0, 0, 0]])\n",
    "        \n",
    "#entry of matrix: (i,j) line i collum j, means (i-1,j-1)\n",
    "sol=solve([ eq1==m[0,1],\teq2==m[0,2],\teq3==m[0,3],\teq4==m[0,4],\t\n",
    "                                            eq5==m[1,2],    eq6==m[1,3],\n",
    "                                                            eq7==m[1,4], eq8==m[2,3], eq9==m[2,4]],d1,d2,d3,d4,d5,a12,a13,a14,a15,a23,a24,a25,a34,a35,a45, solution_dict=True)\n",
    "\n",
    "show(m)\n",
    "show(sol)\n",
    "latex(sol)"
   ]
  },
  {
   "cell_type": "code",
   "execution_count": 3,
   "metadata": {
    "scrolled": true
   },
   "outputs": [
    {
     "data": {
      "text/html": [
       "<html><script type=\"math/tex; mode=display\">\\newcommand{\\Bold}[1]{\\mathbf{#1}}\\left(\\begin{array}{rrrrr}\n",
       "0 & 1 & 0 & 0 & 0 \\\\\n",
       "0 & 0 & 1 & 0 & 0 \\\\\n",
       "0 & 0 & 0 & 1 & 0 \\\\\n",
       "0 & 0 & 0 & 0 & 0 \\\\\n",
       "0 & 0 & 0 & 0 & 0\n",
       "\\end{array}\\right)</script></html>"
      ],
      "text/latex": [
       "$$\\newcommand{\\Bold}[1]{\\mathbf{#1}}\\left(\\begin{array}{rrrrr}\n",
       "0 & 1 & 0 & 0 & 0 \\\\\n",
       "0 & 0 & 1 & 0 & 0 \\\\\n",
       "0 & 0 & 0 & 1 & 0 \\\\\n",
       "0 & 0 & 0 & 0 & 0 \\\\\n",
       "0 & 0 & 0 & 0 & 0\n",
       "\\end{array}\\right)$$"
      ],
      "text/plain": [
       "[0 1 0 0 0]\n",
       "[0 0 1 0 0]\n",
       "[0 0 0 1 0]\n",
       "[0 0 0 0 0]\n",
       "[0 0 0 0 0]"
      ]
     },
     "metadata": {},
     "output_type": "display_data"
    },
    {
     "data": {
      "text/html": [
       "<html><script type=\"math/tex; mode=display\">\\newcommand{\\Bold}[1]{\\mathbf{#1}}\\left[\\left\\{d_{1} : 0, d_{2} : 0, d_{3} : 0, d_{4} : 0, d_{5} : r_{33}, a_{12} : r_{34}, a_{13} : r_{35}, a_{14} : r_{36}, a_{15} : r_{37}, a_{23} : r_{38}, a_{24} : r_{39}, a_{25} : r_{40}, a_{34} : r_{41}, a_{35} : r_{42}, a_{45} : -\\frac{r_{33} x_{35}}{x_{34}}\\right\\}, \\left\\{d_{1} : r_{43}, d_{2} : \\frac{r_{43}}{x_{12}}, d_{3} : \\frac{r_{43}}{x_{12} x_{23}}, d_{4} : \\frac{r_{43}}{x_{12} x_{23} x_{34}}, d_{5} : r_{44}, a_{12} : r_{45}, a_{13} : r_{46}, a_{14} : r_{47}, a_{15} : r_{48}, a_{23} : \\frac{r_{45} x_{12} x_{23} - r_{43} x_{13}}{x_{12}^{2} x_{23}}, a_{24} : -\\frac{r_{43} x_{12} x_{14} x_{23} - r_{43} x_{12} x_{13} x_{24} - {\\left(r_{46} x_{12}^{2} x_{23}^{2} - r_{45} x_{12} x_{13} x_{23} + r_{43} x_{13}^{2}\\right)} x_{34}}{x_{12}^{3} x_{23}^{2} x_{34}}, a_{25} : -\\frac{{\\left(r_{44} x_{15} x_{23} - r_{44} x_{13} x_{25}\\right)} x_{34} - {\\left(r_{44} x_{14} x_{23} - r_{44} x_{13} x_{24}\\right)} x_{35}}{x_{12} x_{23} x_{34}}, a_{34} : -\\frac{r_{43} x_{12} x_{24} - {\\left(r_{45} x_{12} x_{23} - r_{43} x_{13}\\right)} x_{34}}{x_{12}^{2} x_{23}^{2} x_{34}}, a_{35} : -\\frac{r_{44} x_{25} x_{34} - r_{44} x_{24} x_{35}}{x_{23} x_{34}}, a_{45} : -\\frac{r_{44} x_{35}}{x_{34}}\\right\\}\\right]</script></html>"
      ],
      "text/latex": [
       "$$\\newcommand{\\Bold}[1]{\\mathbf{#1}}\\left[\\left\\{d_{1} : 0, d_{2} : 0, d_{3} : 0, d_{4} : 0, d_{5} : r_{33}, a_{12} : r_{34}, a_{13} : r_{35}, a_{14} : r_{36}, a_{15} : r_{37}, a_{23} : r_{38}, a_{24} : r_{39}, a_{25} : r_{40}, a_{34} : r_{41}, a_{35} : r_{42}, a_{45} : -\\frac{r_{33} x_{35}}{x_{34}}\\right\\}, \\left\\{d_{1} : r_{43}, d_{2} : \\frac{r_{43}}{x_{12}}, d_{3} : \\frac{r_{43}}{x_{12} x_{23}}, d_{4} : \\frac{r_{43}}{x_{12} x_{23} x_{34}}, d_{5} : r_{44}, a_{12} : r_{45}, a_{13} : r_{46}, a_{14} : r_{47}, a_{15} : r_{48}, a_{23} : \\frac{r_{45} x_{12} x_{23} - r_{43} x_{13}}{x_{12}^{2} x_{23}}, a_{24} : -\\frac{r_{43} x_{12} x_{14} x_{23} - r_{43} x_{12} x_{13} x_{24} - {\\left(r_{46} x_{12}^{2} x_{23}^{2} - r_{45} x_{12} x_{13} x_{23} + r_{43} x_{13}^{2}\\right)} x_{34}}{x_{12}^{3} x_{23}^{2} x_{34}}, a_{25} : -\\frac{{\\left(r_{44} x_{15} x_{23} - r_{44} x_{13} x_{25}\\right)} x_{34} - {\\left(r_{44} x_{14} x_{23} - r_{44} x_{13} x_{24}\\right)} x_{35}}{x_{12} x_{23} x_{34}}, a_{34} : -\\frac{r_{43} x_{12} x_{24} - {\\left(r_{45} x_{12} x_{23} - r_{43} x_{13}\\right)} x_{34}}{x_{12}^{2} x_{23}^{2} x_{34}}, a_{35} : -\\frac{r_{44} x_{25} x_{34} - r_{44} x_{24} x_{35}}{x_{23} x_{34}}, a_{45} : -\\frac{r_{44} x_{35}}{x_{34}}\\right\\}\\right]$$"
      ],
      "text/plain": [
       "[{d1: 0,\n",
       "  d2: 0,\n",
       "  d3: 0,\n",
       "  d4: 0,\n",
       "  d5: r33,\n",
       "  a12: r34,\n",
       "  a13: r35,\n",
       "  a14: r36,\n",
       "  a15: r37,\n",
       "  a23: r38,\n",
       "  a24: r39,\n",
       "  a25: r40,\n",
       "  a34: r41,\n",
       "  a35: r42,\n",
       "  a45: -r33*x35/x34},\n",
       " {d1: r43,\n",
       "  d2: r43/x12,\n",
       "  d3: r43/(x12*x23),\n",
       "  d4: r43/(x12*x23*x34),\n",
       "  d5: r44,\n",
       "  a12: r45,\n",
       "  a13: r46,\n",
       "  a14: r47,\n",
       "  a15: r48,\n",
       "  a23: (r45*x12*x23 - r43*x13)/(x12^2*x23),\n",
       "  a24: -(r43*x12*x14*x23 - r43*x12*x13*x24 - (r46*x12^2*x23^2 - r45*x12*x13*x23 + r43*x13^2)*x34)/(x12^3*x23^2*x34),\n",
       "  a25: -((r44*x15*x23 - r44*x13*x25)*x34 - (r44*x14*x23 - r44*x13*x24)*x35)/(x12*x23*x34),\n",
       "  a34: -(r43*x12*x24 - (r45*x12*x23 - r43*x13)*x34)/(x12^2*x23^2*x34),\n",
       "  a35: -(r44*x25*x34 - r44*x24*x35)/(x23*x34),\n",
       "  a45: -r44*x35/x34}]"
      ]
     },
     "metadata": {},
     "output_type": "display_data"
    },
    {
     "data": {
      "text/plain": [
       "\\left[\\left\\{d_{1} : 0, d_{2} : 0, d_{3} : 0, d_{4} : 0, d_{5} : r_{33}, a_{12} : r_{34}, a_{13} : r_{35}, a_{14} : r_{36}, a_{15} : r_{37}, a_{23} : r_{38}, a_{24} : r_{39}, a_{25} : r_{40}, a_{34} : r_{41}, a_{35} : r_{42}, a_{45} : -\\frac{r_{33} x_{35}}{x_{34}}\\right\\}, \\left\\{d_{1} : r_{43}, d_{2} : \\frac{r_{43}}{x_{12}}, d_{3} : \\frac{r_{43}}{x_{12} x_{23}}, d_{4} : \\frac{r_{43}}{x_{12} x_{23} x_{34}}, d_{5} : r_{44}, a_{12} : r_{45}, a_{13} : r_{46}, a_{14} : r_{47}, a_{15} : r_{48}, a_{23} : \\frac{r_{45} x_{12} x_{23} - r_{43} x_{13}}{x_{12}^{2} x_{23}}, a_{24} : -\\frac{r_{43} x_{12} x_{14} x_{23} - r_{43} x_{12} x_{13} x_{24} - {\\left(r_{46} x_{12}^{2} x_{23}^{2} - r_{45} x_{12} x_{13} x_{23} + r_{43} x_{13}^{2}\\right)} x_{34}}{x_{12}^{3} x_{23}^{2} x_{34}}, a_{25} : -\\frac{{\\left(r_{44} x_{15} x_{23} - r_{44} x_{13} x_{25}\\right)} x_{34} - {\\left(r_{44} x_{14} x_{23} - r_{44} x_{13} x_{24}\\right)} x_{35}}{x_{12} x_{23} x_{34}}, a_{34} : -\\frac{r_{43} x_{12} x_{24} - {\\left(r_{45} x_{12} x_{23} - r_{43} x_{13}\\right)} x_{34}}{x_{12}^{2} x_{23}^{2} x_{34}}, a_{35} : -\\frac{r_{44} x_{25} x_{34} - r_{44} x_{24} x_{35}}{x_{23} x_{34}}, a_{45} : -\\frac{r_{44} x_{35}}{x_{34}}\\right\\}\\right]"
      ]
     },
     "execution_count": 3,
     "metadata": {},
     "output_type": "execute_result"
    }
   ],
   "source": [
    "#x7\n",
    "reset()\n",
    "\n",
    "var('x12,x13,x14,x15,x23,x24,x25,x34,x35,x45')\n",
    "var('d1,d2,d3,d4,d5')\n",
    "var('a12,a13,a14,a15,a23,a24,a25,a34,a35,a45')\n",
    "\n",
    "eq1=(d2*x12)/(d1) \n",
    "eq2=(a23*d2*x12+d2*d3*x13-a12*d3*x23)/(d1*d2) \n",
    "eq3=(a24*d2*d3*x12+a34*d2*d3*x13+d2*d3*d4*x14-a12*a34*d3*x23-a12*d3*d4*x24+a12*a23*d4*x34-a13*d2*d4*x34)/(d1*d2*d3) \n",
    "eq4=(a25*d2*d3*x12+a35*d2*d3*x13+a45*d2*d3*x14+d2*d3*d5*x15-a12*a35*d3*x23-a12*a45*d3*x24-a12*d3*d5*x25+a12*a23*a45*x34-a13*a45*d2*x34+a12*a23*d5*x35-a13*d2*d5*x35)/(d1*d2*d3) \n",
    "eq5=(d3*x23)/(d2) \n",
    "eq6=(a34*d3*x23+d3*d4*x24-a23*d4*x34)/(d2*d3) \n",
    "eq7=(a35*d3*x23+a45*d3*x24+d3*d5*x25-a23*a45*x34-a23*d5*x35)/(d2*d3) \n",
    "eq8=(d4*x34)/(d3) \n",
    "eq9=(a45*x34+d5*x35)/(d3) \n",
    "\n",
    "m=matrix(QQ, [[0, 1, 0, 0, 0],\n",
    "              [0, 0, 1, 0, 0],\n",
    "              [0, 0, 0, 1, 0],\n",
    "              [0, 0, 0, 0, 0],\n",
    "              [0, 0, 0, 0, 0]])\n",
    "        \n",
    "#entry of matrix: (i,j) line i collum j, means (i-1,j-1)\n",
    "sol=solve([ eq1==m[0,1],\teq2==m[0,2],\teq3==m[0,3],\teq4==m[0,4],\t\n",
    "                                            eq5==m[1,2],    eq6==m[1,3],\n",
    "                                                            eq7==m[1,4], eq8==m[2,3], eq9==m[2,4]],d1,d2,d3,d4,d5,a12,a13,a14,a15,a23,a24,a25,a34,a35,a45, solution_dict=True)\n",
    "\n",
    "show(m)\n",
    "show(sol)\n",
    "latex(sol)"
   ]
  },
  {
   "cell_type": "code",
   "execution_count": null,
   "metadata": {},
   "outputs": [],
   "source": []
  }
 ],
 "metadata": {
  "kernelspec": {
   "display_name": "SageMath 9.3",
   "language": "sage",
   "name": "sagemath"
  },
  "language_info": {
   "codemirror_mode": {
    "name": "ipython",
    "version": 3
   },
   "file_extension": ".py",
   "mimetype": "text/x-python",
   "name": "python",
   "nbconvert_exporter": "python",
   "pygments_lexer": "ipython3",
   "version": "3.7.10"
  }
 },
 "nbformat": 4,
 "nbformat_minor": 4
}
